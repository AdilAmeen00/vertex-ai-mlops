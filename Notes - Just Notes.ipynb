{
 "cells": [
  {
   "cell_type": "markdown",
   "id": "czech-ontario",
   "metadata": {},
   "source": [
    "# Notes:"
   ]
  },
  {
   "cell_type": "markdown",
   "id": "endangered-ending",
   "metadata": {},
   "source": [
    "---\n",
    "## Create json file for predictions:"
   ]
  },
  {
   "cell_type": "code",
   "execution_count": null,
   "id": "cultural-attraction",
   "metadata": {},
   "outputs": [],
   "source": [
    "%%bigquery pred\n",
    "SELECT *\n",
    "FROM ML.PREDICT(MODEL `statmike-mlops.digits.digits_lr`,(\n",
    "    SELECT *\n",
    "    FROM `statmike-mlops.digits.digits_prepped`)\n",
    "  )"
   ]
  },
  {
   "cell_type": "code",
   "execution_count": null,
   "id": "endless-davis",
   "metadata": {},
   "outputs": [],
   "source": [
    "newob = pred.loc[:0,'p0':'p63'].to_dict(orient='records')\n",
    "newob = {'instances':newob}\n",
    "newob"
   ]
  },
  {
   "cell_type": "code",
   "execution_count": null,
   "id": "appointed-azerbaijan",
   "metadata": {},
   "outputs": [],
   "source": [
    "import json\n",
    "with open('newob.json','w') as f:\n",
    "    json.dump(newob,f)"
   ]
  },
  {
   "cell_type": "code",
   "execution_count": null,
   "id": "failing-luther",
   "metadata": {},
   "outputs": [],
   "source": []
  }
 ],
 "metadata": {
  "environment": {
   "name": "tf2-gpu.2-4.m65",
   "type": "gcloud",
   "uri": "gcr.io/deeplearning-platform-release/tf2-gpu.2-4:m65"
  },
  "kernelspec": {
   "display_name": "Python 3",
   "language": "python",
   "name": "python3"
  },
  "language_info": {
   "codemirror_mode": {
    "name": "ipython",
    "version": 3
   },
   "file_extension": ".py",
   "mimetype": "text/x-python",
   "name": "python",
   "nbconvert_exporter": "python",
   "pygments_lexer": "ipython3",
   "version": "3.7.10"
  }
 },
 "nbformat": 4,
 "nbformat_minor": 5
}
