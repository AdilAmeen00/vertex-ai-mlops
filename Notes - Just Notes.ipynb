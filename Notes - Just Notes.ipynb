{
 "cells": [
  {
   "cell_type": "markdown",
   "id": "piano-split",
   "metadata": {},
   "source": [
    "# Notes:"
   ]
  },
  {
   "cell_type": "markdown",
   "id": "superb-beijing",
   "metadata": {},
   "source": [
    "---\n",
    "## Create json file for predictions:"
   ]
  },
  {
   "cell_type": "code",
   "execution_count": null,
   "id": "absent-thong",
   "metadata": {},
   "outputs": [],
   "source": [
    "%%bigquery pred\n",
    "SELECT *\n",
    "FROM ML.PREDICT(MODEL `statmike-mlops.digits.digits_lr`,(\n",
    "    SELECT *\n",
    "    FROM `statmike-mlops.digits.digits_prepped`)\n",
    "  )"
   ]
  },
  {
   "cell_type": "code",
   "execution_count": null,
   "id": "contrary-weight",
   "metadata": {},
   "outputs": [],
   "source": [
    "newob = pred.loc[:0,'p0':'p63'].to_dict(orient='records')\n",
    "newob = {'instances':newob}\n",
    "newob"
   ]
  },
  {
   "cell_type": "code",
   "execution_count": null,
   "id": "laughing-airline",
   "metadata": {},
   "outputs": [],
   "source": [
    "import json\n",
    "with open('newob.json','w') as f:\n",
    "    json.dump(newob,f)"
   ]
  },
  {
   "cell_type": "markdown",
   "id": "plain-remove",
   "metadata": {},
   "source": [
    "---\n",
    "## Trouble with passing dataset.table info to %%bigquery magic"
   ]
  },
  {
   "cell_type": "code",
   "execution_count": 1,
   "id": "visible-monte",
   "metadata": {},
   "outputs": [],
   "source": [
    "PROJECT_ID = 'statmike-mlops'\n",
    "DATASET_ID = 'digits'\n",
    "TABLE_ID = 'digits_prepped'\n",
    "PDT = \"`{}.{}.{}`\".format(PROJECT_ID,DATASET_ID,TABLE_ID)\n",
    "params = {\"SOURCE\":PDT}"
   ]
  },
  {
   "cell_type": "code",
   "execution_count": 2,
   "id": "acceptable-factory",
   "metadata": {},
   "outputs": [
    {
     "name": "stdout",
     "output_type": "stream",
     "text": [
      "Executing query with job ID: 9c6d8a0f-25c0-4e0e-9dae-cab973998ceb\n",
      "Query executing: 0.87s"
     ]
    },
    {
     "name": "stderr",
     "output_type": "stream",
     "text": [
      "\n",
      "ERROR:\n",
      " 400 Query parameters cannot be used in place of table names at [2:6]\n",
      "\n",
      "(job ID: 9c6d8a0f-25c0-4e0e-9dae-cab973998ceb)\n",
      "\n",
      "   -----Query Job SQL Follows-----   \n",
      "\n",
      "    |    .    |    .    |    .    |\n",
      "   1:SELECT *\n",
      "   2:FROM @PDT\n",
      "   3:WHERE TARGET=2 and SPLITS='TEST'\n",
      "    |    .    |    .    |    .    |\n"
     ]
    }
   ],
   "source": [
    "%%bigquery --params $params\n",
    "SELECT *\n",
    "FROM @PDT\n",
    "WHERE TARGET=2 and SPLITS='TEST'"
   ]
  },
  {
   "cell_type": "code",
   "execution_count": null,
   "id": "enclosed-basis",
   "metadata": {},
   "outputs": [],
   "source": []
  }
 ],
 "metadata": {
  "environment": {
   "name": "tf2-gpu.2-4.m65",
   "type": "gcloud",
   "uri": "gcr.io/deeplearning-platform-release/tf2-gpu.2-4:m65"
  },
  "kernelspec": {
   "display_name": "Python 3",
   "language": "python",
   "name": "python3"
  },
  "language_info": {
   "codemirror_mode": {
    "name": "ipython",
    "version": 3
   },
   "file_extension": ".py",
   "mimetype": "text/x-python",
   "name": "python",
   "nbconvert_exporter": "python",
   "pygments_lexer": "ipython3",
   "version": "3.7.10"
  }
 },
 "nbformat": 4,
 "nbformat_minor": 5
}
