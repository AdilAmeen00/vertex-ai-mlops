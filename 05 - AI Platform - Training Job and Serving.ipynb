{
 "cells": [
  {
   "cell_type": "markdown",
   "id": "prescription-pioneer",
   "metadata": {},
   "source": [
    "# AI Platform - Training Job and Serving\n",
    "\n",
    "This notebook uses create a python package for a TensorFlow training project that uses the `<PROJECT_ID>.digits.digits_prepped` BigQuery table. AI Platform clients are used to setup an AI Platform custom training job to run the training package.  The AI Platform clients are used to upload the model and deploy it to an endpoint for online predictions.\n",
    "\n",
    "**Prerequisites**\n",
    "- `00 - Initial Setup`\n",
    "- `01 - BigQuery - Data`\n",
    "- `04 - AI Platform - Notebook` (helpful to understand)\n",
    "    - the model created here is stored in a python package in this notebook\n",
    "    \n",
    "**Resources**\n",
    "- Adopted From:\n",
    "    - https://github.com/GoogleCloudPlatform/ai-platform-samples/blob/master/ai-platform-unified/notebooks/custom_job_image_classification_model_for_online_prediction.ipynb\n",
    "- Using Google Cloud Client Libraries (Python for AI Platform):\n",
    "    - https://googleapis.dev/python/aiplatform/latest/index.html\n",
    "\n",
    "---\n",
    "\n"
   ]
  },
  {
   "cell_type": "markdown",
   "id": "unlike-sussex",
   "metadata": {},
   "source": [
    "## Training Job"
   ]
  },
  {
   "cell_type": "markdown",
   "id": "mechanical-makeup",
   "metadata": {},
   "source": [
    "Setup the environment:"
   ]
  },
  {
   "cell_type": "code",
   "execution_count": 232,
   "id": "structured-stephen",
   "metadata": {},
   "outputs": [],
   "source": [
    "from google.cloud import aiplatform\n",
    "from google.protobuf import json_format\n",
    "from google.protobuf.struct_pb2 import Value\n",
    "from datetime import datetime"
   ]
  },
  {
   "cell_type": "markdown",
   "id": "average-judges",
   "metadata": {},
   "source": [
    "Define Parameters:"
   ]
  },
  {
   "cell_type": "code",
   "execution_count": 233,
   "id": "bridal-royalty",
   "metadata": {},
   "outputs": [],
   "source": [
    "# Locations\n",
    "REGION = 'us-central1'\n",
    "PROJECT_ID='statmike-mlops'\n",
    "BUCKET_NAME='gs://statmike-models/digits/aip_train_job' #BUCKET_NAME\n",
    "TIMESTAMP = datetime.now().strftime(\"%Y%m%d%H%M%S\")\n",
    "JOB_NAME='AIP_DIGITS_'+TIMESTAMP\n",
    "MODEL_DIR = '{}/{}'.format(BUCKET_NAME, JOB_NAME)\n",
    "PARENT = \"projects/\" + PROJECT_ID + \"/locations/\" + REGION\n",
    "\n",
    "# Resources\n",
    "TRAIN_IMAGE='us-docker.pkg.dev/cloud-aiplatform/training/tf-cpu.2-4:latest'\n",
    "DEPLOY_IMAGE ='us-docker.pkg.dev/cloud-aiplatform/prediction/tf2-cpu.2-3:latest'\n",
    "TRAIN_COMPUTE='n1-standard-4'\n",
    "DEPLOY_COMPUTE='n1-standard-4'\n",
    "\n",
    "# TF Parameters to pass\n",
    "EPOCHS = 25\n",
    "BATCH_SIZE = 30"
   ]
  },
  {
   "cell_type": "markdown",
   "id": "metropolitan-works",
   "metadata": {},
   "source": [
    "Create a client for the AIP Job Service:"
   ]
  },
  {
   "cell_type": "code",
   "execution_count": 234,
   "id": "exceptional-welcome",
   "metadata": {},
   "outputs": [],
   "source": [
    "API_ENDPOINT = \"{}-aiplatform.googleapis.com\".format(REGION)\n",
    "client_options = {\"api_endpoint\": API_ENDPOINT}\n",
    "clients = {}\n",
    "clients['job'] = aiplatform.gapic.JobServiceClient(client_options=client_options)"
   ]
  },
  {
   "cell_type": "markdown",
   "id": "mediterranean-willow",
   "metadata": {},
   "source": [
    "Helper functions wrappers for interacting with the client: create, list, get, cancel"
   ]
  },
  {
   "cell_type": "code",
   "execution_count": 235,
   "id": "literary-baptist",
   "metadata": {},
   "outputs": [],
   "source": [
    "def create_custom_job(custom_job):\n",
    "    response = clients['job'].create_custom_job(parent=PARENT, custom_job=CUSTOM_JOB)\n",
    "    print(\"name:\", response.name)\n",
    "    print(\"display_name:\", response.display_name)\n",
    "    print(\"state:\", response.state)\n",
    "    print(\"create_time:\", response.create_time)\n",
    "    print(\"update_time:\", response.update_time)\n",
    "    return response.name\n",
    "\n",
    "def list_custom_jobs():\n",
    "    response = clients['job'].list_custom_jobs(parent=PARENT)\n",
    "    for job in response:\n",
    "        print(response)\n",
    "        \n",
    "def get_custom_job(name, silent=False):\n",
    "    response = clients['job'].get_custom_job(name=name)\n",
    "    if silent:\n",
    "        return response\n",
    "    print(\"name:\", response.name)\n",
    "    print(\"display_name:\", response.display_name)\n",
    "    print(\"state:\", response.state)\n",
    "    print(\"create_time:\", response.create_time)\n",
    "    print(\"update_time:\", response.update_time)\n",
    "    return response\n",
    "\n",
    "def cancel_job(name):\n",
    "    try:\n",
    "        response = clients['job'].cancel_custom_job(name=name)\n",
    "        print(response)\n",
    "    except Exception as e:\n",
    "        print(e)"
   ]
  },
  {
   "cell_type": "markdown",
   "id": "mediterranean-battery",
   "metadata": {},
   "source": [
    "Define job parameters to pass to the client:"
   ]
  },
  {
   "cell_type": "code",
   "execution_count": 236,
   "id": "quick-worst",
   "metadata": {},
   "outputs": [],
   "source": [
    "MACHINE_SPEC = {\n",
    "    \"machine_type\": TRAIN_COMPUTE,\n",
    "    \"accelerator_count\": 0\n",
    "}\n",
    "\n",
    "\n",
    "CMDARGS = [\n",
    "    \"--epochs=\" + str(EPOCHS),\n",
    "    \"--batch_size=\" + str(BATCH_SIZE)\n",
    "]\n",
    "\n",
    "WORKER_POOL_SPEC = [\n",
    "    {\n",
    "        \"replica_count\": 1,\n",
    "        \"machine_spec\": MACHINE_SPEC,\n",
    "        \"python_package_spec\": {\n",
    "            \"executor_image_uri\": TRAIN_IMAGE,\n",
    "            \"package_uris\": [BUCKET_NAME + \"/trainer_cifar.tar.gz\"],\n",
    "            \"python_module\": \"trainer.task\",\n",
    "            \"args\": CMDARGS\n",
    "        }\n",
    "    }\n",
    "]\n",
    "\n",
    "JOB_SPEC = {\n",
    "    \"worker_pool_specs\": WORKER_POOL_SPEC,\n",
    "    \"base_output_directory\": {\"output_uri_prefix\": MODEL_DIR}\n",
    "    \n",
    "}\n",
    "\n",
    "CUSTOM_JOB = {\n",
    "    \"display_name\": JOB_NAME,\n",
    "    \"job_spec\": JOB_SPEC\n",
    "}"
   ]
  },
  {
   "cell_type": "markdown",
   "id": "pressed-testing",
   "metadata": {},
   "source": [
    "Assemble the Python training package:"
   ]
  },
  {
   "cell_type": "code",
   "execution_count": 237,
   "id": "earned-antique",
   "metadata": {},
   "outputs": [],
   "source": [
    "!rm -rf custom\n",
    "!mkdir custom\n",
    "\n",
    "\n",
    "setup_py = \"from setuptools import setup\\n\\\n",
    "if __name__ == '__main__':\\n\\\n",
    "    setup()\"\n",
    "\n",
    "setup_py = \"import setuptools\\n\\\n",
    "REQUIRED_PACKAGES = ['tensorflow_io']\\n\\\n",
    "setuptools.setup(\\n\\\n",
    "    name='trainer',\\n\\\n",
    "    version='0.1',\\n\\\n",
    "    #install_requires=REQUIRED_PACKAGES,\\n\\\n",
    "    packages=setuptools.find_packages(),\\n\\\n",
    "    #include_package_data=True,\\n\\\n",
    "    description='Digit Training Package')\"\n",
    "\n",
    "!echo \"$setup_py\" > custom/setup.py\n",
    "\n",
    "!mkdir custom/trainer\n",
    "!touch custom/trainer/__init__.py"
   ]
  },
  {
   "cell_type": "code",
   "execution_count": 238,
   "id": "liable-morning",
   "metadata": {},
   "outputs": [
    {
     "name": "stdout",
     "output_type": "stream",
     "text": [
      "Writing custom/trainer/task.py\n"
     ]
    }
   ],
   "source": [
    "%%writefile custom/trainer/task.py\n",
    "from tensorflow_io.bigquery import BigQueryClient\n",
    "from tensorflow_io.bigquery import BigQueryReadSession\n",
    "import tensorflow as tf\n",
    "from google.cloud import bigquery\n",
    "import argparse\n",
    "import os\n",
    "import sys\n",
    "\n",
    "parser = argparse.ArgumentParser()\n",
    "# the passed param, dest: a name for the param, default: if absent fetch this param from the OS, type: type to convert to, help: description of argument\n",
    "parser.add_argument('--model-dir', dest='model_dir', default=os.getenv(\"AIP_MODEL_DIR\"), type=str, help='Model dir.')\n",
    "parser.add_argument('--epochs',dest='epochs', default=10, type=int, help='Number of Epochs')\n",
    "parser.add_argument('--batch_size',dest='batch_size', default=32, type=int, help='Batch Size')\n",
    "#parser.add_argument('',dest='', default=, type=, help='')\n",
    "args = parser.parse_args()\n",
    "\n",
    "# built in parameters for data source:\n",
    "PROJECT_ID='statmike-mlops'\n",
    "BQDATASET_ID='digits'\n",
    "BQTABLE_ID='digits_prepped'\n",
    "\n",
    "selected_fields = ['p0', 'p1', 'p2', 'p3', 'p4', 'p5', 'p6', 'p7', 'p8', 'p9', 'p10', 'p11', 'p12', 'p13', 'p14', 'p15', 'p16', 'p17', 'p18', 'p19', 'p20', 'p21', 'p22', 'p23', 'p24', 'p25', 'p26', 'p27', 'p28', 'p29', 'p30', 'p31', 'p32', 'p33', 'p34', 'p35', 'p36', 'p37', 'p38', 'p39', 'p40', 'p41', 'p42', 'p43', 'p44', 'p45', 'p46', 'p47', 'p48', 'p49', 'p50', 'p51', 'p52', 'p53', 'p54', 'p55', 'p56', 'p57', 'p58', 'p59', 'p60', 'p61', 'p62', 'p63', 'target']\n",
    "output_types = ['FLOAT64', 'FLOAT64', 'FLOAT64', 'FLOAT64', 'FLOAT64', 'FLOAT64', 'FLOAT64', 'FLOAT64', 'FLOAT64', 'FLOAT64', 'FLOAT64', 'FLOAT64', 'FLOAT64', 'FLOAT64', 'FLOAT64', 'FLOAT64', 'FLOAT64', 'FLOAT64', 'FLOAT64', 'FLOAT64', 'FLOAT64', 'FLOAT64', 'FLOAT64', 'FLOAT64', 'FLOAT64', 'FLOAT64', 'FLOAT64', 'FLOAT64', 'FLOAT64', 'FLOAT64', 'FLOAT64', 'FLOAT64', 'FLOAT64', 'FLOAT64', 'FLOAT64', 'FLOAT64', 'FLOAT64', 'FLOAT64', 'FLOAT64', 'FLOAT64', 'FLOAT64', 'FLOAT64', 'FLOAT64', 'FLOAT64', 'FLOAT64', 'FLOAT64', 'FLOAT64', 'FLOAT64', 'FLOAT64', 'FLOAT64', 'FLOAT64', 'FLOAT64', 'FLOAT64', 'FLOAT64', 'FLOAT64', 'FLOAT64', 'FLOAT64', 'FLOAT64', 'FLOAT64', 'FLOAT64', 'FLOAT64', 'FLOAT64', 'FLOAT64', 'FLOAT64', 'INT64']\n",
    "\n",
    "feature_columns = []\n",
    "feature_layer_inputs = {}\n",
    "for header in selected_fields:\n",
    "    if header != 'target':\n",
    "        feature_columns.append(tf.feature_column.numeric_column(header))\n",
    "        feature_layer_inputs[header] = tf.keras.Input(shape=(1,),name=header)\n",
    "\n",
    "from tensorflow.python.framework import dtypes\n",
    "output_types = [dtypes.float64 if x=='FLOAT64' else dtypes.int64 for x in output_types]\n",
    "\n",
    "def transTable(row_dict):\n",
    "    target=row_dict.pop('target')\n",
    "    target = tf.one_hot(tf.cast(target,tf.int64),10)\n",
    "    target = tf.cast(target,tf.float32)\n",
    "    return(row_dict,target)\n",
    "\n",
    "client = BigQueryClient()\n",
    "session = client.read_session(\"projects/\"+PROJECT_ID,PROJECT_ID,BQTABLE_ID,BQDATASET_ID,selected_fields,output_types,row_restriction=\"SPLITS='TRAIN'\",requested_streams=3)\n",
    "table = session.parallel_read_rows()\n",
    "table = table.map(transTable)\n",
    "train = table.shuffle(100000).batch(args.batch_size)\n",
    "\n",
    "client = BigQueryClient()\n",
    "session = client.read_session(\"projects/\"+PROJECT_ID,PROJECT_ID,BQTABLE_ID,BQDATASET_ID,selected_fields,output_types,row_restriction=\"SPLITS='TEST'\",requested_streams=3)\n",
    "table = session.parallel_read_rows()\n",
    "table = table.map(transTable)\n",
    "test = table.batch(args.batch_size)\n",
    "\n",
    "feature_layer = tf.keras.layers.DenseFeatures(feature_columns)\n",
    "feature_layer_outputs = feature_layer(feature_layer_inputs)\n",
    "model = tf.keras.Model(inputs=[v for v in feature_layer_inputs.values()],outputs=tf.keras.layers.Dense(10,activation=tf.nn.softmax)(feature_layer_outputs))\n",
    "model.compile(optimizer='sgd', loss='categorical_crossentropy', metrics=['accuracy'])\n",
    "tf.keras.utils.plot_model(model,show_shapes=True, show_dtype=True)\n",
    "\n",
    "history = model.fit(train,epochs=args.epochs)\n",
    "\n",
    "model.save(args.model_dir)"
   ]
  },
  {
   "cell_type": "markdown",
   "id": "laughing-paragraph",
   "metadata": {},
   "source": [
    "Store the training package in a Cloud Storage Bucket:"
   ]
  },
  {
   "cell_type": "code",
   "execution_count": 239,
   "id": "relevant-marker",
   "metadata": {},
   "outputs": [
    {
     "name": "stdout",
     "output_type": "stream",
     "text": [
      "E0408 20:57:08.298529294   10113 backup_poller.cc:133]       Run client channel backup poller: {\"created\":\"@1617915428.298371494\",\"description\":\"pollset_work\",\"file\":\"src/core/lib/iomgr/ev_epollex_linux.cc\",\"file_line\":321,\"referenced_errors\":[{\"created\":\"@1617915428.298353495\",\"description\":\"Bad file descriptor\",\"errno\":9,\"file\":\"src/core/lib/iomgr/ev_epollex_linux.cc\",\"file_line\":956,\"os_error\":\"Bad file descriptor\",\"syscall\":\"epoll_wait\"}]}\n",
      "custom/\n",
      "custom/setup.py\n",
      "custom/trainer/\n",
      "custom/trainer/__init__.py\n",
      "custom/trainer/task.py\n",
      "Copying file://custom.tar.gz [Content-Type=application/x-tar]...\n",
      "/ [1 files][  1.6 KiB/  1.6 KiB]                                                \n",
      "Operation completed over 1 objects/1.6 KiB.                                      \n"
     ]
    }
   ],
   "source": [
    "!rm -f custom.tar custom.tar.gz\n",
    "!tar cvf custom.tar custom\n",
    "!gzip custom.tar\n",
    "!gsutil cp custom.tar.gz $BUCKET_NAME/trainer_cifar.tar.gz"
   ]
  },
  {
   "cell_type": "markdown",
   "id": "level-milwaukee",
   "metadata": {},
   "source": [
    "Submit the training job:"
   ]
  },
  {
   "cell_type": "code",
   "execution_count": 240,
   "id": "moral-deployment",
   "metadata": {},
   "outputs": [
    {
     "name": "stdout",
     "output_type": "stream",
     "text": [
      "name: projects/691911073727/locations/us-central1/customJobs/2185556437134999552\n",
      "display_name: AIP_DIGITS_20210408205703\n",
      "state: JobState.JOB_STATE_PENDING\n",
      "create_time: 2021-04-08 20:57:18.380660+00:00\n",
      "update_time: 2021-04-08 20:57:18.380660+00:00\n"
     ]
    }
   ],
   "source": [
    "JOB_ID = create_custom_job(CUSTOM_JOB)"
   ]
  },
  {
   "cell_type": "markdown",
   "id": "numeric-genetics",
   "metadata": {},
   "source": [
    "Get information as the job runs:"
   ]
  },
  {
   "cell_type": "code",
   "execution_count": 354,
   "id": "accredited-cruise",
   "metadata": {},
   "outputs": [
    {
     "name": "stdout",
     "output_type": "stream",
     "text": [
      "name: projects/691911073727/locations/us-central1/customJobs/2185556437134999552\n",
      "display_name: AIP_DIGITS_20210408205703\n",
      "state: JobState.JOB_STATE_SUCCEEDED\n",
      "create_time: 2021-04-08 20:57:18.380660+00:00\n",
      "update_time: 2021-04-08 21:08:26.582082+00:00\n"
     ]
    }
   ],
   "source": [
    "trainjob_response = get_custom_job(JOB_ID)"
   ]
  },
  {
   "cell_type": "markdown",
   "id": "controlled-dietary",
   "metadata": {},
   "source": [
    "## Deployment"
   ]
  },
  {
   "cell_type": "markdown",
   "id": "above-photography",
   "metadata": {},
   "source": [
    "### Upload the Model"
   ]
  },
  {
   "cell_type": "markdown",
   "id": "utility-technology",
   "metadata": {},
   "source": [
    "Check that model training was successful (and update the path to the model store):"
   ]
  },
  {
   "cell_type": "code",
   "execution_count": 355,
   "id": "bulgarian-donor",
   "metadata": {},
   "outputs": [],
   "source": [
    "if trainjob_response.state == aiplatform.gapic.JobState.JOB_STATE_SUCCEEDED:\n",
    "    MODEL_DIR = MODEL_DIR + \"/model\""
   ]
  },
  {
   "cell_type": "markdown",
   "id": "dynamic-ribbon",
   "metadata": {},
   "source": [
    "Create a client to the Model Service:"
   ]
  },
  {
   "cell_type": "code",
   "execution_count": 357,
   "id": "documented-distribution",
   "metadata": {},
   "outputs": [],
   "source": [
    "clients['model'] = aiplatform.gapic.ModelServiceClient(client_options=client_options)"
   ]
  },
  {
   "cell_type": "markdown",
   "id": "chief-button",
   "metadata": {},
   "source": [
    "Upload the model using the client:"
   ]
  },
  {
   "cell_type": "code",
   "execution_count": 358,
   "id": "general-documentary",
   "metadata": {},
   "outputs": [],
   "source": [
    "MODEL = {\n",
    "    \"display_name\": trainjob_response.display_name,\n",
    "    \"metadata_schema_uri\": \"\",\n",
    "    \"artifact_uri\": MODEL_DIR,\n",
    "    \"container_spec\": {\n",
    "        \"image_uri\": DEPLOY_IMAGE,\n",
    "        \"command\": [],\n",
    "        \"args\": [],\n",
    "        \"env\": [{\"name\": \"env_name\", \"value\": \"env_value\"}],\n",
    "        \"ports\": [{\"container_port\": 8080}],\n",
    "        \"predict_route\": \"\",\n",
    "        \"health_route\": \"\"\n",
    "    }\n",
    "}\n",
    "\n",
    "uploaded_model = clients['model'].upload_model(parent=PARENT, model=MODEL)"
   ]
  },
  {
   "cell_type": "markdown",
   "id": "thirty-alias",
   "metadata": {},
   "source": [
    "Review the uploaded models information:"
   ]
  },
  {
   "cell_type": "code",
   "execution_count": 359,
   "id": "ruled-welcome",
   "metadata": {},
   "outputs": [
    {
     "data": {
      "text/plain": [
       "'projects/691911073727/locations/us-central1/models/4540138597784748032'"
      ]
     },
     "execution_count": 359,
     "metadata": {},
     "output_type": "execute_result"
    }
   ],
   "source": [
    "model_info = clients['model'].get_model(name=uploaded_model.result(timeout=180).model)\n",
    "model_info.name"
   ]
  },
  {
   "cell_type": "markdown",
   "id": "immune-commercial",
   "metadata": {},
   "source": [
    "### Endpoint Creation"
   ]
  },
  {
   "cell_type": "markdown",
   "id": "artificial-journalist",
   "metadata": {},
   "source": [
    "Create a client to the endpoint service:"
   ]
  },
  {
   "cell_type": "code",
   "execution_count": 360,
   "id": "large-violation",
   "metadata": {},
   "outputs": [],
   "source": [
    "clients['endpoint'] = aiplatform.gapic.EndpointServiceClient(client_options=client_options)"
   ]
  },
  {
   "cell_type": "markdown",
   "id": "individual-custom",
   "metadata": {},
   "source": [
    "Create the endpoint:"
   ]
  },
  {
   "cell_type": "code",
   "execution_count": 361,
   "id": "naughty-norwegian",
   "metadata": {},
   "outputs": [],
   "source": [
    "ENDPOINT_NAME = 'ENDPOINT_'+JOB_NAME\n",
    "endpoint = clients['endpoint'].create_endpoint(parent=PARENT, endpoint={\"display_name\": ENDPOINT_NAME})"
   ]
  },
  {
   "cell_type": "code",
   "execution_count": 362,
   "id": "suffering-vermont",
   "metadata": {},
   "outputs": [
    {
     "data": {
      "text/plain": [
       "'projects/691911073727/locations/us-central1/endpoints/3181529253946589184'"
      ]
     },
     "execution_count": 362,
     "metadata": {},
     "output_type": "execute_result"
    }
   ],
   "source": [
    "endpoint_info = clients['endpoint'].get_endpoint(name=endpoint.result(timeout=180).name)\n",
    "endpoint_info.name"
   ]
  },
  {
   "cell_type": "markdown",
   "id": "unsigned-acting",
   "metadata": {},
   "source": [
    "### Deploy Model to Endpoint"
   ]
  },
  {
   "cell_type": "markdown",
   "id": "surprising-basis",
   "metadata": {},
   "source": [
    "Setup Deployment Parameters:"
   ]
  },
  {
   "cell_type": "code",
   "execution_count": 363,
   "id": "voluntary-calculation",
   "metadata": {},
   "outputs": [],
   "source": [
    "MACHINE_SPEC = {\n",
    "    \"machine_type\": DEPLOY_COMPUTE,\n",
    "    \"accelerator_count\": 0,\n",
    "}\n",
    "DMODEL = {\n",
    "        \"model\": model_info.name,\n",
    "        \"display_name\": 'DEPLOYED_'+JOB_NAME,\n",
    "        \"dedicated_resources\": {\n",
    "            \"min_replica_count\": 1,\n",
    "            \"max_replica_count\": 2,\n",
    "            \"machine_spec\": MACHINE_SPEC\n",
    "        }   \n",
    "}\n",
    "TRAFFIC = {\n",
    "    '0' : 100\n",
    "}"
   ]
  },
  {
   "cell_type": "markdown",
   "id": "successful-taiwan",
   "metadata": {},
   "source": [
    "Deploy the Model to the Endpoint:"
   ]
  },
  {
   "cell_type": "code",
   "execution_count": null,
   "id": "collectible-economics",
   "metadata": {},
   "outputs": [],
   "source": [
    "dmodel = clients['endpoint'].deploy_model(endpoint=endpoint_info.name, deployed_model=DMODEL, traffic_split=TRAFFIC)"
   ]
  },
  {
   "cell_type": "code",
   "execution_count": 368,
   "id": "comprehensive-indicator",
   "metadata": {},
   "outputs": [
    {
     "data": {
      "text/plain": [
       "'3127063845953077248'"
      ]
     },
     "execution_count": 368,
     "metadata": {},
     "output_type": "execute_result"
    }
   ],
   "source": [
    "dmodel_info = dmodel.result().deployed_model\n",
    "dmodel_info.id"
   ]
  },
  {
   "cell_type": "code",
   "execution_count": 369,
   "id": "incoming-christianity",
   "metadata": {},
   "outputs": [
    {
     "data": {
      "text/plain": [
       "name: \"projects/691911073727/locations/us-central1/endpoints/3181529253946589184\"\n",
       "display_name: \"ENDPOINT_AIP_DIGITS_20210408205703\"\n",
       "deployed_models {\n",
       "  id: \"3127063845953077248\"\n",
       "  model: \"projects/691911073727/locations/us-central1/models/4540138597784748032\"\n",
       "  display_name: \"DEPLOYED_AIP_DIGITS_20210408205703\"\n",
       "  create_time {\n",
       "    seconds: 1617930005\n",
       "    nanos: 586297000\n",
       "  }\n",
       "  dedicated_resources {\n",
       "    machine_spec {\n",
       "      machine_type: \"n1-standard-4\"\n",
       "    }\n",
       "    min_replica_count: 1\n",
       "    max_replica_count: 2\n",
       "  }\n",
       "}\n",
       "traffic_split {\n",
       "  key: \"3127063845953077248\"\n",
       "  value: 100\n",
       "}\n",
       "etag: \"AMEw9yO0ZduGkyIPeQB_YdNCdvnBUlSFjRqGuzgu9_JdRJWh7_gL7GeFBFsMgQY4SeDe\"\n",
       "create_time {\n",
       "  seconds: 1617929979\n",
       "  nanos: 553522000\n",
       "}\n",
       "update_time {\n",
       "  seconds: 1617930478\n",
       "  nanos: 905760000\n",
       "}"
      ]
     },
     "execution_count": 369,
     "metadata": {},
     "output_type": "execute_result"
    }
   ],
   "source": [
    "clients['endpoint'].get_endpoint(name=endpoint_info.name)"
   ]
  },
  {
   "cell_type": "markdown",
   "id": "optional-junior",
   "metadata": {},
   "source": [
    "## Prediction"
   ]
  },
  {
   "cell_type": "markdown",
   "id": "drawn-scoop",
   "metadata": {},
   "source": [
    "Create a client to the prediction service:"
   ]
  },
  {
   "cell_type": "code",
   "execution_count": 370,
   "id": "marked-brief",
   "metadata": {},
   "outputs": [],
   "source": [
    "clients['prediction'] = aiplatform.gapic.PredictionServiceClient(client_options=client_options)"
   ]
  },
  {
   "cell_type": "markdown",
   "id": "latter-reliance",
   "metadata": {},
   "source": [
    "Setup an observation for prediction:"
   ]
  },
  {
   "cell_type": "code",
   "execution_count": 371,
   "id": "southwest-travel",
   "metadata": {},
   "outputs": [
    {
     "data": {
      "text/plain": [
       "{'p0': 0.0,\n",
       " 'p1': 0.0,\n",
       " 'p2': 0.0,\n",
       " 'p3': 9.0,\n",
       " 'p4': 14.0,\n",
       " 'p5': 6.0,\n",
       " 'p6': 0.0,\n",
       " 'p7': 0.0,\n",
       " 'p8': 0.0,\n",
       " 'p9': 0.0,\n",
       " 'p10': 10.0,\n",
       " 'p11': 13.0,\n",
       " 'p12': 4.0,\n",
       " 'p13': 13.0,\n",
       " 'p14': 2.0,\n",
       " 'p15': 0.0,\n",
       " 'p16': 0.0,\n",
       " 'p17': 2.0,\n",
       " 'p18': 14.0,\n",
       " 'p19': 0.0,\n",
       " 'p20': 0.0,\n",
       " 'p21': 10.0,\n",
       " 'p22': 6.0,\n",
       " 'p23': 0.0,\n",
       " 'p24': 0.0,\n",
       " 'p25': 4.0,\n",
       " 'p26': 9.0,\n",
       " 'p27': 0.0,\n",
       " 'p28': 0.0,\n",
       " 'p29': 6.0,\n",
       " 'p30': 8.0,\n",
       " 'p31': 0.0,\n",
       " 'p32': 0.0,\n",
       " 'p33': 5.0,\n",
       " 'p34': 8.0,\n",
       " 'p35': 0.0,\n",
       " 'p36': 0.0,\n",
       " 'p37': 8.0,\n",
       " 'p38': 7.0,\n",
       " 'p39': 0.0,\n",
       " 'p40': 0.0,\n",
       " 'p41': 2.0,\n",
       " 'p42': 11.0,\n",
       " 'p43': 1.0,\n",
       " 'p44': 0.0,\n",
       " 'p45': 9.0,\n",
       " 'p46': 5.0,\n",
       " 'p47': 0.0,\n",
       " 'p48': 0.0,\n",
       " 'p49': 0.0,\n",
       " 'p50': 6.0,\n",
       " 'p51': 11.0,\n",
       " 'p52': 4.0,\n",
       " 'p53': 13.0,\n",
       " 'p54': 3.0,\n",
       " 'p55': 0.0,\n",
       " 'p56': 0.0,\n",
       " 'p57': 0.0,\n",
       " 'p58': 1.0,\n",
       " 'p59': 11.0,\n",
       " 'p60': 16.0,\n",
       " 'p61': 12.0,\n",
       " 'p62': 0.0,\n",
       " 'p63': 0.0}"
      ]
     },
     "execution_count": 371,
     "metadata": {},
     "output_type": "execute_result"
    }
   ],
   "source": [
    "import json\n",
    "f=open('newob.json')\n",
    "newob=json.load(f)\n",
    "f.close()\n",
    "newob=newob['instances'][0]\n",
    "newob"
   ]
  },
  {
   "cell_type": "code",
   "execution_count": 374,
   "id": "chief-marriage",
   "metadata": {},
   "outputs": [
    {
     "data": {
      "text/plain": [
       "[[0.999967694, 1.0430149e-09, 1.20899176e-06, 4.7689656e-07, 7.34693401e-07, 5.43801491e-07, 1.55110883e-05, 3.01793723e-09, 5.90695572e-06, 7.97706434e-06]]"
      ]
     },
     "execution_count": 374,
     "metadata": {},
     "output_type": "execute_result"
    }
   ],
   "source": [
    "from google.protobuf import json_format\n",
    "from google.protobuf.struct_pb2 import Value\n",
    "\n",
    "response = clients['prediction'].predict(endpoint=endpoint_info.name, instances=[json_format.ParseDict(newob, Value())], parameters=json_format.ParseDict({}, Value()))\n",
    "prediction = response.predictions\n",
    "prediction"
   ]
  },
  {
   "cell_type": "code",
   "execution_count": 375,
   "id": "isolated-account",
   "metadata": {},
   "outputs": [
    {
     "data": {
      "text/plain": [
       "0"
      ]
     },
     "execution_count": 375,
     "metadata": {},
     "output_type": "execute_result"
    }
   ],
   "source": [
    "import numpy as np\n",
    "np.argmax(prediction[0])"
   ]
  },
  {
   "cell_type": "markdown",
   "id": "obvious-illustration",
   "metadata": {},
   "source": [
    "---"
   ]
  },
  {
   "cell_type": "markdown",
   "id": "developmental-kelly",
   "metadata": {},
   "source": [
    "## Remove Resources\n",
    "- undeploy model\n",
    "- delete endpoint\n",
    "- delete model\n",
    "- delete training > custom job\n",
    "- these could be used by later notebooks in this project:\n",
    "    - delete BUCKET_NAME\n",
    "    - delete custom and custom.tar.gz"
   ]
  },
  {
   "cell_type": "code",
   "execution_count": null,
   "id": "comfortable-surgeon",
   "metadata": {},
   "outputs": [],
   "source": []
  }
 ],
 "metadata": {
  "environment": {
   "name": "tf2-gpu.2-4.m65",
   "type": "gcloud",
   "uri": "gcr.io/deeplearning-platform-release/tf2-gpu.2-4:m65"
  },
  "kernelspec": {
   "display_name": "Python 3",
   "language": "python",
   "name": "python3"
  },
  "language_info": {
   "codemirror_mode": {
    "name": "ipython",
    "version": 3
   },
   "file_extension": ".py",
   "mimetype": "text/x-python",
   "name": "python",
   "nbconvert_exporter": "python",
   "pygments_lexer": "ipython3",
   "version": "3.7.10"
  }
 },
 "nbformat": 4,
 "nbformat_minor": 5
}
