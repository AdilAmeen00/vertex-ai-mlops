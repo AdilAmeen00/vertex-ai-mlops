{
 "cells": [
  {
   "cell_type": "markdown",
   "id": "08e56dd7",
   "metadata": {},
   "source": [
    "# 07 - Vertex AI > Features - Feature Store\n",
    "\n",
    "This is a demonstration of [Vertex AI Feature Store](https://cloud.google.com/vertex-ai/docs/featurestore/overview). A feature store is a central repository for organizing, storing, and retrieving features.  This is a fully managed service that scales the underlying compute and storage resources.  The feature store becomes a central location for serving features for training and prediction with low-latency. It stores feature values at points-in-time:\n",
    "\n",
    "-  Point-in-time lookups for retrieving features for model training. Retrieve feature values prior to a prediction to prevent data leakage.\n",
    "-  Manage training-serving skew\n",
    "\n",
    "**Prerequisites:**\n",
    "\n",
    "-  01 - BigQuery - Table Data Source\n",
    "-  Any of 02-05 That Deploy A Model To An Endpoint\n",
    "   -  Used to demonstrate online predictions with feature store serving features\n",
    "\n",
    "**Overview:**\n",
    "\n",
    "-  Create a Feature Store\n",
    "-  Define an entity type\n",
    "-  Define features for and entity type\n",
    "   -  For this demonstration I use metadata from a BigQuery table to define features\n",
    "      -  project.table.INFORMATION_SCHEMA.COLUMN_FIELD_PATHS\n",
    "-  Search Features\n",
    "   -  Using FeaturestoreServiceClient.search_features()\n",
    "-  Import feature values\n",
    "   -  Using a BigQuery table as the source data\n",
    "-  Serve feature values\n",
    "   -  For one entity_Id\n",
    "   -  For multiple entity_id values\n",
    "   -  Batch Feature request\n",
    "-  Use online feature serving as input to online prediction with Vertex AI Endpoint\n",
    "\n",
    "**Resources:**\n",
    "\n",
    "-  [Python Client for Vertex AI](https://googleapis.dev/python/aiplatform/latest/aiplatform.html)\n",
    "   -  Currently using the [v1beta1 services](https://googleapis.dev/python/aiplatform/latest/aiplatform_v1beta1/services.html)\n",
    "-  [Feature Store Overview](https://cloud.google.com/vertex-ai/docs/featurestore/overview)\n",
    "-  [Data Model and Concepts](https://cloud.google.com/vertex-ai/docs/featurestore/concepts)\n",
    "-  [Best Practices](https://cloud.google.com/vertex-ai/docs/featurestore/best-practices) including info on composite entity types\n",
    "\n",
    "**Related Training:**\n",
    "\n",
    "-  todo"
   ]
  },
  {
   "cell_type": "markdown",
   "id": "7cc591e0",
   "metadata": {},
   "source": [
    "---\n",
    "## Conceptual Architecture\n",
    "\n",
    "<img src=\"architectures/statmike-mlops-07.png\">"
   ]
  },
  {
   "cell_type": "markdown",
   "id": "18864bc4",
   "metadata": {},
   "source": [
    "---\n",
    "## Setup"
   ]
  },
  {
   "cell_type": "markdown",
   "id": "243867a3",
   "metadata": {},
   "source": [
    "inputs:"
   ]
  },
  {
   "cell_type": "code",
   "execution_count": 299,
   "id": "d52b2126",
   "metadata": {},
   "outputs": [],
   "source": [
    "REGION = 'us-central1'\n",
    "PROJECT_ID='statmike-mlops'\n",
    "DATANAME = 'digits'\n",
    "NOTEBOOK = '07'\n",
    "\n",
    "ENTITYTYPE_ID = 'drawing'"
   ]
  },
  {
   "cell_type": "markdown",
   "id": "89b7df47",
   "metadata": {},
   "source": [
    "packages:"
   ]
  },
  {
   "cell_type": "code",
   "execution_count": 173,
   "id": "e58afd7e",
   "metadata": {},
   "outputs": [],
   "source": [
    "from google.cloud.aiplatform_v1beta1 import (FeaturestoreOnlineServingServiceClient, FeaturestoreServiceClient, types)\n",
    "from google.cloud import aiplatform\n",
    "\n",
    "from google.protobuf.duration_pb2 import Duration\n",
    "from google.protobuf.timestamp_pb2 import Timestamp\n",
    "from google.protobuf.field_mask_pb2 import FieldMask\n",
    "\n",
    "from google.cloud import bigquery\n",
    "from google.cloud.aiplatform_v1beta1 import (PredictionServiceClient, EndpointServiceClient)\n",
    "from google.protobuf import json_format\n",
    "from google.protobuf.struct_pb2 import Value\n",
    "import json\n",
    "import numpy as np"
   ]
  },
  {
   "cell_type": "markdown",
   "id": "1058fc26",
   "metadata": {},
   "source": [
    "clients:"
   ]
  },
  {
   "cell_type": "code",
   "execution_count": 174,
   "id": "8b03f185",
   "metadata": {},
   "outputs": [],
   "source": [
    "client_options = {\"api_endpoint\": f\"{REGION}-aiplatform.googleapis.com\"}\n",
    "\n",
    "clients = {}\n",
    "clients['fs'] = FeaturestoreServiceClient(client_options = client_options)\n",
    "clients['fs_olserve'] = FeaturestoreOnlineServingServiceClient(client_options = client_options)\n",
    "\n",
    "clients['bq'] = bigquery.Client()\n",
    "\n",
    "aiplatform.init(project=PROJECT_ID, location=REGION)"
   ]
  },
  {
   "cell_type": "markdown",
   "id": "e9b6cc1e",
   "metadata": {},
   "source": [
    "parameters:"
   ]
  },
  {
   "cell_type": "code",
   "execution_count": 175,
   "id": "9aea3f29",
   "metadata": {},
   "outputs": [],
   "source": [
    "PARENT = f\"projects/{PROJECT_ID}/locations/{REGION}\"\n",
    "DIR = f\"temp/{NOTEBOOK}\""
   ]
  },
  {
   "cell_type": "markdown",
   "id": "1436f57c",
   "metadata": {},
   "source": [
    "environment:"
   ]
  },
  {
   "cell_type": "code",
   "execution_count": 176,
   "id": "60e27aed",
   "metadata": {},
   "outputs": [],
   "source": [
    "!rm -rf {DIR}\n",
    "!mkdir -p {DIR}"
   ]
  },
  {
   "cell_type": "markdown",
   "id": "f5cd5379",
   "metadata": {},
   "source": [
    "---\n",
    "## Feature Store Data model\n",
    "Feature Store organizes data with the following 3 important hierarchical concepts:\n",
    "\n",
    "Featurestore -> EntityType -> Feature\n",
    "\n",
    "- **Featurestore**: the place to store your features\n",
    "    - **EntityType**: under a Featurestore, an EntityType describes an object to be modeled, real one or virtual one.\n",
    "        - **Feature**: under an EntityType, a feature describes an attribute of the EntityType\n",
    "\n",
    "For the digits data used in these examples, the feature store will be called digits_featurestore.  The store has 1 entity type: images.  The features will be the pixels and the target values."
   ]
  },
  {
   "cell_type": "markdown",
   "id": "0dfc0eed",
   "metadata": {},
   "source": [
    "---\n",
    "## Create Feature Store"
   ]
  },
  {
   "cell_type": "code",
   "execution_count": 10,
   "id": "6164ffd2",
   "metadata": {},
   "outputs": [],
   "source": [
    "FEATURESTORE_ID = DATANAME"
   ]
  },
  {
   "cell_type": "code",
   "execution_count": 11,
   "id": "87c91998",
   "metadata": {},
   "outputs": [],
   "source": [
    "featurestore_lro = clients['fs'].create_featurestore(\n",
    "    types.featurestore_service.CreateFeaturestoreRequest(\n",
    "        parent = PARENT,\n",
    "        featurestore_id = FEATURESTORE_ID,\n",
    "        featurestore=types.featurestore.Featurestore(\n",
    "            display_name=f\"Notebook {NOTEBOOK} demonstration of Vertex AI Features (feature store) using {DATANAME} data\",\n",
    "            online_serving_config=types.featurestore.Featurestore.OnlineServingConfig(\n",
    "                fixed_node_count=2\n",
    "            ),\n",
    "        ),\n",
    "    )\n",
    ")"
   ]
  },
  {
   "cell_type": "code",
   "execution_count": 12,
   "id": "7d487ebe",
   "metadata": {},
   "outputs": [
    {
     "data": {
      "text/plain": [
       "name: \"projects/691911073727/locations/us-central1/featurestores/digits\""
      ]
     },
     "execution_count": 12,
     "metadata": {},
     "output_type": "execute_result"
    }
   ],
   "source": [
    "featurestore_lro.result()"
   ]
  },
  {
   "cell_type": "markdown",
   "id": "9a10c1c6",
   "metadata": {},
   "source": [
    "Use `get_featurestore` to see details of specified feature store:"
   ]
  },
  {
   "cell_type": "code",
   "execution_count": 13,
   "id": "5269e46e",
   "metadata": {},
   "outputs": [
    {
     "data": {
      "text/plain": [
       "name: \"projects/691911073727/locations/us-central1/featurestores/digits\"\n",
       "create_time {\n",
       "  seconds: 1631808488\n",
       "  nanos: 193234000\n",
       "}\n",
       "update_time {\n",
       "  seconds: 1631808488\n",
       "  nanos: 502681000\n",
       "}\n",
       "etag: \"AMEw9yNDxF_abALl9D9yDmEc9TOeOoFaCwKQEoEh-Zlm_2UNiiZXa2FG65VrSk8aDEqh\"\n",
       "online_serving_config {\n",
       "  fixed_node_count: 2\n",
       "}\n",
       "state: STABLE"
      ]
     },
     "execution_count": 13,
     "metadata": {},
     "output_type": "execute_result"
    }
   ],
   "source": [
    "clients['fs'].get_featurestore(name=clients['fs'].featurestore_path(PROJECT_ID, REGION, FEATURESTORE_ID))"
   ]
  },
  {
   "cell_type": "markdown",
   "id": "5faf064f",
   "metadata": {},
   "source": [
    "Use `list_featurestores` to see details of all feature stores:"
   ]
  },
  {
   "cell_type": "code",
   "execution_count": 14,
   "id": "aae4d8c8",
   "metadata": {},
   "outputs": [
    {
     "data": {
      "text/plain": [
       "ListFeaturestoresPager<featurestores {\n",
       "  name: \"projects/691911073727/locations/us-central1/featurestores/digits\"\n",
       "  create_time {\n",
       "    seconds: 1631808488\n",
       "    nanos: 193234000\n",
       "  }\n",
       "  update_time {\n",
       "    seconds: 1631808488\n",
       "    nanos: 502681000\n",
       "  }\n",
       "  etag: \"AMEw9yNz4KutuBpX5iothDdrViHBUReWh-ud3YLPn5TIz4VdW-nzDTex7NhAM_JDnmKW\"\n",
       "  online_serving_config {\n",
       "    fixed_node_count: 2\n",
       "  }\n",
       "  state: STABLE\n",
       "}\n",
       ">"
      ]
     },
     "execution_count": 14,
     "metadata": {},
     "output_type": "execute_result"
    }
   ],
   "source": [
    "clients['fs'].list_featurestores(parent=PARENT)"
   ]
  },
  {
   "cell_type": "markdown",
   "id": "e6fe1cbb",
   "metadata": {},
   "source": [
    "---\n",
    "## Create Entity Type"
   ]
  },
  {
   "cell_type": "code",
   "execution_count": 17,
   "id": "2512b55b",
   "metadata": {},
   "outputs": [],
   "source": [
    "entitytype_lro = clients['fs'].create_entity_type(\n",
    "    types.featurestore_service.CreateEntityTypeRequest(\n",
    "        parent=clients['fs'].featurestore_path(PROJECT_ID, REGION, FEATURESTORE_ID),\n",
    "        entity_type_id = ENTITYTYPE_ID,\n",
    "        entity_type=types.entity_type.EntityType(\n",
    "            description=f\"Entity: {ENTITYTYPE_ID}, for data: {DATANAME}\",\n",
    "            monitoring_config=types.featurestore_monitoring.FeaturestoreMonitoringConfig(\n",
    "                snapshot_analysis=types.featurestore_monitoring.FeaturestoreMonitoringConfig.SnapshotAnalysis(\n",
    "                    monitoring_interval=Duration(seconds=900),  # 15 minutes\n",
    "                ),\n",
    "            ),\n",
    "        ),\n",
    "    )\n",
    ")"
   ]
  },
  {
   "cell_type": "code",
   "execution_count": 18,
   "id": "6de16a61",
   "metadata": {},
   "outputs": [
    {
     "data": {
      "text/plain": [
       "name: \"projects/691911073727/locations/us-central1/featurestores/digits/entityTypes/drawing\"\n",
       "etag: \"AMEw9yOEUHP5x4BBKSDXBEpYikMafo8LHHBzMT0Gnm8EnDQCFqyX\""
      ]
     },
     "execution_count": 18,
     "metadata": {},
     "output_type": "execute_result"
    }
   ],
   "source": [
    "entitytype_lro.result()"
   ]
  },
  {
   "cell_type": "markdown",
   "id": "22e63863",
   "metadata": {},
   "source": [
    "Use `list_entity_types` to see details of all entity types:"
   ]
  },
  {
   "cell_type": "code",
   "execution_count": 19,
   "id": "0acd34c8",
   "metadata": {},
   "outputs": [
    {
     "data": {
      "text/plain": [
       "ListEntityTypesPager<entity_types {\n",
       "  name: \"projects/691911073727/locations/us-central1/featurestores/digits/entityTypes/drawing\"\n",
       "  description: \"Entity drawing for  data digits\"\n",
       "  create_time {\n",
       "    seconds: 1631812110\n",
       "    nanos: 831664000\n",
       "  }\n",
       "  update_time {\n",
       "    seconds: 1631812110\n",
       "    nanos: 831664000\n",
       "  }\n",
       "  etag: \"AMEw9yNKJa4P5Pkfgf-N5epF4pLTpAL61bICdz8w1PXmG5D7PhmJfsdmmwdUH-9o_Rip\"\n",
       "  monitoring_config {\n",
       "    snapshot_analysis {\n",
       "      monitoring_interval {\n",
       "        seconds: 86400\n",
       "      }\n",
       "    }\n",
       "  }\n",
       "}\n",
       ">"
      ]
     },
     "execution_count": 19,
     "metadata": {},
     "output_type": "execute_result"
    }
   ],
   "source": [
    "clients['fs'].list_entity_types(parent = f\"{PARENT}/featurestores/{FEATURESTORE_ID}\")"
   ]
  },
  {
   "cell_type": "markdown",
   "id": "b4db4c53",
   "metadata": {},
   "source": [
    "---\n",
    "## Create Features"
   ]
  },
  {
   "cell_type": "markdown",
   "id": "81d8bdb9",
   "metadata": {},
   "source": [
    "Get the schema of the data source for new features:"
   ]
  },
  {
   "cell_type": "code",
   "execution_count": 177,
   "id": "39788374",
   "metadata": {},
   "outputs": [],
   "source": [
    "schema = clients['bq'].query(query = f\"SELECT * FROM {DATANAME}.INFORMATION_SCHEMA.COLUMNS WHERE TABLE_NAME = '{DATANAME}'\").to_dataframe()"
   ]
  },
  {
   "cell_type": "code",
   "execution_count": 178,
   "id": "9ba34e59",
   "metadata": {},
   "outputs": [
    {
     "data": {
      "text/html": [
       "<div>\n",
       "<style scoped>\n",
       "    .dataframe tbody tr th:only-of-type {\n",
       "        vertical-align: middle;\n",
       "    }\n",
       "\n",
       "    .dataframe tbody tr th {\n",
       "        vertical-align: top;\n",
       "    }\n",
       "\n",
       "    .dataframe thead th {\n",
       "        text-align: right;\n",
       "    }\n",
       "</style>\n",
       "<table border=\"1\" class=\"dataframe\">\n",
       "  <thead>\n",
       "    <tr style=\"text-align: right;\">\n",
       "      <th></th>\n",
       "      <th>table_catalog</th>\n",
       "      <th>table_schema</th>\n",
       "      <th>table_name</th>\n",
       "      <th>column_name</th>\n",
       "      <th>ordinal_position</th>\n",
       "      <th>is_nullable</th>\n",
       "      <th>data_type</th>\n",
       "      <th>is_generated</th>\n",
       "      <th>generation_expression</th>\n",
       "      <th>is_stored</th>\n",
       "      <th>is_hidden</th>\n",
       "      <th>is_updatable</th>\n",
       "      <th>is_system_defined</th>\n",
       "      <th>is_partitioning_column</th>\n",
       "      <th>clustering_ordinal_position</th>\n",
       "    </tr>\n",
       "  </thead>\n",
       "  <tbody>\n",
       "    <tr>\n",
       "      <th>0</th>\n",
       "      <td>statmike-mlops</td>\n",
       "      <td>digits</td>\n",
       "      <td>digits</td>\n",
       "      <td>p0</td>\n",
       "      <td>1</td>\n",
       "      <td>YES</td>\n",
       "      <td>FLOAT64</td>\n",
       "      <td>NEVER</td>\n",
       "      <td>None</td>\n",
       "      <td>None</td>\n",
       "      <td>NO</td>\n",
       "      <td>None</td>\n",
       "      <td>NO</td>\n",
       "      <td>NO</td>\n",
       "      <td>NaN</td>\n",
       "    </tr>\n",
       "    <tr>\n",
       "      <th>1</th>\n",
       "      <td>statmike-mlops</td>\n",
       "      <td>digits</td>\n",
       "      <td>digits</td>\n",
       "      <td>p1</td>\n",
       "      <td>2</td>\n",
       "      <td>YES</td>\n",
       "      <td>FLOAT64</td>\n",
       "      <td>NEVER</td>\n",
       "      <td>None</td>\n",
       "      <td>None</td>\n",
       "      <td>NO</td>\n",
       "      <td>None</td>\n",
       "      <td>NO</td>\n",
       "      <td>NO</td>\n",
       "      <td>NaN</td>\n",
       "    </tr>\n",
       "    <tr>\n",
       "      <th>2</th>\n",
       "      <td>statmike-mlops</td>\n",
       "      <td>digits</td>\n",
       "      <td>digits</td>\n",
       "      <td>p2</td>\n",
       "      <td>3</td>\n",
       "      <td>YES</td>\n",
       "      <td>FLOAT64</td>\n",
       "      <td>NEVER</td>\n",
       "      <td>None</td>\n",
       "      <td>None</td>\n",
       "      <td>NO</td>\n",
       "      <td>None</td>\n",
       "      <td>NO</td>\n",
       "      <td>NO</td>\n",
       "      <td>NaN</td>\n",
       "    </tr>\n",
       "    <tr>\n",
       "      <th>3</th>\n",
       "      <td>statmike-mlops</td>\n",
       "      <td>digits</td>\n",
       "      <td>digits</td>\n",
       "      <td>p3</td>\n",
       "      <td>4</td>\n",
       "      <td>YES</td>\n",
       "      <td>FLOAT64</td>\n",
       "      <td>NEVER</td>\n",
       "      <td>None</td>\n",
       "      <td>None</td>\n",
       "      <td>NO</td>\n",
       "      <td>None</td>\n",
       "      <td>NO</td>\n",
       "      <td>NO</td>\n",
       "      <td>NaN</td>\n",
       "    </tr>\n",
       "    <tr>\n",
       "      <th>4</th>\n",
       "      <td>statmike-mlops</td>\n",
       "      <td>digits</td>\n",
       "      <td>digits</td>\n",
       "      <td>p4</td>\n",
       "      <td>5</td>\n",
       "      <td>YES</td>\n",
       "      <td>FLOAT64</td>\n",
       "      <td>NEVER</td>\n",
       "      <td>None</td>\n",
       "      <td>None</td>\n",
       "      <td>NO</td>\n",
       "      <td>None</td>\n",
       "      <td>NO</td>\n",
       "      <td>NO</td>\n",
       "      <td>NaN</td>\n",
       "    </tr>\n",
       "    <tr>\n",
       "      <th>...</th>\n",
       "      <td>...</td>\n",
       "      <td>...</td>\n",
       "      <td>...</td>\n",
       "      <td>...</td>\n",
       "      <td>...</td>\n",
       "      <td>...</td>\n",
       "      <td>...</td>\n",
       "      <td>...</td>\n",
       "      <td>...</td>\n",
       "      <td>...</td>\n",
       "      <td>...</td>\n",
       "      <td>...</td>\n",
       "      <td>...</td>\n",
       "      <td>...</td>\n",
       "      <td>...</td>\n",
       "    </tr>\n",
       "    <tr>\n",
       "      <th>61</th>\n",
       "      <td>statmike-mlops</td>\n",
       "      <td>digits</td>\n",
       "      <td>digits</td>\n",
       "      <td>p61</td>\n",
       "      <td>62</td>\n",
       "      <td>YES</td>\n",
       "      <td>FLOAT64</td>\n",
       "      <td>NEVER</td>\n",
       "      <td>None</td>\n",
       "      <td>None</td>\n",
       "      <td>NO</td>\n",
       "      <td>None</td>\n",
       "      <td>NO</td>\n",
       "      <td>NO</td>\n",
       "      <td>NaN</td>\n",
       "    </tr>\n",
       "    <tr>\n",
       "      <th>62</th>\n",
       "      <td>statmike-mlops</td>\n",
       "      <td>digits</td>\n",
       "      <td>digits</td>\n",
       "      <td>p62</td>\n",
       "      <td>63</td>\n",
       "      <td>YES</td>\n",
       "      <td>FLOAT64</td>\n",
       "      <td>NEVER</td>\n",
       "      <td>None</td>\n",
       "      <td>None</td>\n",
       "      <td>NO</td>\n",
       "      <td>None</td>\n",
       "      <td>NO</td>\n",
       "      <td>NO</td>\n",
       "      <td>NaN</td>\n",
       "    </tr>\n",
       "    <tr>\n",
       "      <th>63</th>\n",
       "      <td>statmike-mlops</td>\n",
       "      <td>digits</td>\n",
       "      <td>digits</td>\n",
       "      <td>p63</td>\n",
       "      <td>64</td>\n",
       "      <td>YES</td>\n",
       "      <td>FLOAT64</td>\n",
       "      <td>NEVER</td>\n",
       "      <td>None</td>\n",
       "      <td>None</td>\n",
       "      <td>NO</td>\n",
       "      <td>None</td>\n",
       "      <td>NO</td>\n",
       "      <td>NO</td>\n",
       "      <td>NaN</td>\n",
       "    </tr>\n",
       "    <tr>\n",
       "      <th>64</th>\n",
       "      <td>statmike-mlops</td>\n",
       "      <td>digits</td>\n",
       "      <td>digits</td>\n",
       "      <td>target</td>\n",
       "      <td>65</td>\n",
       "      <td>YES</td>\n",
       "      <td>INT64</td>\n",
       "      <td>NEVER</td>\n",
       "      <td>None</td>\n",
       "      <td>None</td>\n",
       "      <td>NO</td>\n",
       "      <td>None</td>\n",
       "      <td>NO</td>\n",
       "      <td>NO</td>\n",
       "      <td>NaN</td>\n",
       "    </tr>\n",
       "    <tr>\n",
       "      <th>65</th>\n",
       "      <td>statmike-mlops</td>\n",
       "      <td>digits</td>\n",
       "      <td>digits</td>\n",
       "      <td>target_OE</td>\n",
       "      <td>66</td>\n",
       "      <td>YES</td>\n",
       "      <td>STRING</td>\n",
       "      <td>NEVER</td>\n",
       "      <td>None</td>\n",
       "      <td>None</td>\n",
       "      <td>NO</td>\n",
       "      <td>None</td>\n",
       "      <td>NO</td>\n",
       "      <td>NO</td>\n",
       "      <td>NaN</td>\n",
       "    </tr>\n",
       "  </tbody>\n",
       "</table>\n",
       "<p>66 rows × 15 columns</p>\n",
       "</div>"
      ],
      "text/plain": [
       "     table_catalog table_schema table_name column_name  ordinal_position  \\\n",
       "0   statmike-mlops       digits     digits          p0                 1   \n",
       "1   statmike-mlops       digits     digits          p1                 2   \n",
       "2   statmike-mlops       digits     digits          p2                 3   \n",
       "3   statmike-mlops       digits     digits          p3                 4   \n",
       "4   statmike-mlops       digits     digits          p4                 5   \n",
       "..             ...          ...        ...         ...               ...   \n",
       "61  statmike-mlops       digits     digits         p61                62   \n",
       "62  statmike-mlops       digits     digits         p62                63   \n",
       "63  statmike-mlops       digits     digits         p63                64   \n",
       "64  statmike-mlops       digits     digits      target                65   \n",
       "65  statmike-mlops       digits     digits   target_OE                66   \n",
       "\n",
       "   is_nullable data_type is_generated generation_expression is_stored  \\\n",
       "0          YES   FLOAT64        NEVER                  None      None   \n",
       "1          YES   FLOAT64        NEVER                  None      None   \n",
       "2          YES   FLOAT64        NEVER                  None      None   \n",
       "3          YES   FLOAT64        NEVER                  None      None   \n",
       "4          YES   FLOAT64        NEVER                  None      None   \n",
       "..         ...       ...          ...                   ...       ...   \n",
       "61         YES   FLOAT64        NEVER                  None      None   \n",
       "62         YES   FLOAT64        NEVER                  None      None   \n",
       "63         YES   FLOAT64        NEVER                  None      None   \n",
       "64         YES     INT64        NEVER                  None      None   \n",
       "65         YES    STRING        NEVER                  None      None   \n",
       "\n",
       "   is_hidden is_updatable is_system_defined is_partitioning_column  \\\n",
       "0         NO         None                NO                     NO   \n",
       "1         NO         None                NO                     NO   \n",
       "2         NO         None                NO                     NO   \n",
       "3         NO         None                NO                     NO   \n",
       "4         NO         None                NO                     NO   \n",
       "..       ...          ...               ...                    ...   \n",
       "61        NO         None                NO                     NO   \n",
       "62        NO         None                NO                     NO   \n",
       "63        NO         None                NO                     NO   \n",
       "64        NO         None                NO                     NO   \n",
       "65        NO         None                NO                     NO   \n",
       "\n",
       "    clustering_ordinal_position  \n",
       "0                           NaN  \n",
       "1                           NaN  \n",
       "2                           NaN  \n",
       "3                           NaN  \n",
       "4                           NaN  \n",
       "..                          ...  \n",
       "61                          NaN  \n",
       "62                          NaN  \n",
       "63                          NaN  \n",
       "64                          NaN  \n",
       "65                          NaN  \n",
       "\n",
       "[66 rows x 15 columns]"
      ]
     },
     "execution_count": 178,
     "metadata": {},
     "output_type": "execute_result"
    }
   ],
   "source": [
    "schema"
   ]
  },
  {
   "cell_type": "markdown",
   "id": "40112521",
   "metadata": {},
   "source": [
    "Prepare a request for `batch_create_features`:\n",
    "- specification for the features, data type and descriptions ...."
   ]
  },
  {
   "cell_type": "code",
   "execution_count": 23,
   "id": "4ba13dc3",
   "metadata": {},
   "outputs": [],
   "source": [
    "REQUESTS = []\n",
    "for i in range(schema.shape[0]):\n",
    "    \n",
    "    if schema['data_type'][i] == 'STRING': value_type = types.feature.Feature.ValueType.STRING\n",
    "    elif schema['data_type'][i] == 'INT64': value_type = types.feature.Feature.ValueType.INT64\n",
    "    elif schema['data_type'][i] == 'FLOAT64': value_type = types.feature.Feature.ValueType.DOUBLE\n",
    "    \n",
    "    description = f\"Column named {schema['column_name'][i]} from BQ Table {PROJECT_ID}.{DATANAME}.{DATANAME}\"\n",
    "    \n",
    "    REQUESTS.append(\n",
    "        types.featurestore_service.CreateFeatureRequest(\n",
    "            feature=types.feature.Feature(\n",
    "                value_type = value_type,\n",
    "                description = description,\n",
    "                # optional, monitoring_config here as override, otherwise it inherits from entity_type\n",
    "            ),\n",
    "            feature_id = schema['column_name'][i].lower(),\n",
    "        )    \n",
    "    )"
   ]
  },
  {
   "cell_type": "code",
   "execution_count": 24,
   "id": "6291228a",
   "metadata": {},
   "outputs": [],
   "source": [
    "batchfeatures = clients['fs'].batch_create_features(\n",
    "    parent = clients['fs'].entity_type_path(PROJECT_ID, REGION, FEATURESTORE_ID, ENTITYTYPE_ID),\n",
    "    requests = REQUESTS,\n",
    ")"
   ]
  },
  {
   "cell_type": "code",
   "execution_count": 26,
   "id": "73fd1338",
   "metadata": {},
   "outputs": [],
   "source": [
    "#list(item.name for item in batchfeatures.result().features)"
   ]
  },
  {
   "cell_type": "markdown",
   "id": "b7e74b11",
   "metadata": {},
   "source": [
    "---\n",
    "## Search Features\n",
    "Search goes across all Feature Stores and Entity Types.\n",
    "\n",
    "Also, use the list_features function to list all."
   ]
  },
  {
   "cell_type": "code",
   "execution_count": 27,
   "id": "77f88c3e",
   "metadata": {},
   "outputs": [
    {
     "data": {
      "text/plain": [
       "name: \"projects/691911073727/locations/us-central1/featurestores/digits/entityTypes/drawing/features/p0\"\n",
       "description: \"Column named p0 from BQ Table statmike-mlops.digits.digits\"\n",
       "create_time {\n",
       "  seconds: 1631812646\n",
       "  nanos: 231977000\n",
       "}\n",
       "update_time {\n",
       "  seconds: 1631812646\n",
       "  nanos: 231977000\n",
       "}"
      ]
     },
     "execution_count": 27,
     "metadata": {},
     "output_type": "execute_result"
    }
   ],
   "source": [
    "# return the first feature:\n",
    "list(clients['fs'].search_features(location = PARENT))[0]"
   ]
  },
  {
   "cell_type": "code",
   "execution_count": 28,
   "id": "70c32105",
   "metadata": {},
   "outputs": [
    {
     "data": {
      "text/plain": [
       "[name: \"projects/691911073727/locations/us-central1/featurestores/digits/entityTypes/drawing/features/target\"\n",
       " description: \"Column named target from BQ Table statmike-mlops.digits.digits\"\n",
       " create_time {\n",
       "   seconds: 1631812646\n",
       "   nanos: 328113000\n",
       " }\n",
       " update_time {\n",
       "   seconds: 1631812646\n",
       "   nanos: 328113000\n",
       " }]"
      ]
     },
     "execution_count": 28,
     "metadata": {},
     "output_type": "execute_result"
    }
   ],
   "source": [
    "# find all features with INT64 value type\n",
    "list(clients['fs'].search_features(types.featurestore_service.SearchFeaturesRequest(location = PARENT, query = \"value_type=INT64\")))"
   ]
  },
  {
   "cell_type": "code",
   "execution_count": 30,
   "id": "59f4df0c",
   "metadata": {},
   "outputs": [
    {
     "data": {
      "text/plain": [
       "[name: \"projects/691911073727/locations/us-central1/featurestores/digits/entityTypes/drawing/features/p19\"\n",
       " description: \"Column named p19 from BQ Table statmike-mlops.digits.digits\"\n",
       " create_time {\n",
       "   seconds: 1631812646\n",
       "   nanos: 256765000\n",
       " }\n",
       " update_time {\n",
       "   seconds: 1631812646\n",
       "   nanos: 256765000\n",
       " },\n",
       " name: \"projects/691911073727/locations/us-central1/featurestores/digits/entityTypes/drawing/features/p29\"\n",
       " description: \"Column named p29 from BQ Table statmike-mlops.digits.digits\"\n",
       " create_time {\n",
       "   seconds: 1631812646\n",
       "   nanos: 269066000\n",
       " }\n",
       " update_time {\n",
       "   seconds: 1631812646\n",
       "   nanos: 269066000\n",
       " },\n",
       " name: \"projects/691911073727/locations/us-central1/featurestores/digits/entityTypes/drawing/features/p39\"\n",
       " description: \"Column named p39 from BQ Table statmike-mlops.digits.digits\"\n",
       " create_time {\n",
       "   seconds: 1631812646\n",
       "   nanos: 284866000\n",
       " }\n",
       " update_time {\n",
       "   seconds: 1631812646\n",
       "   nanos: 284866000\n",
       " },\n",
       " name: \"projects/691911073727/locations/us-central1/featurestores/digits/entityTypes/drawing/features/p49\"\n",
       " description: \"Column named p49 from BQ Table statmike-mlops.digits.digits\"\n",
       " create_time {\n",
       "   seconds: 1631812646\n",
       "   nanos: 300041000\n",
       " }\n",
       " update_time {\n",
       "   seconds: 1631812646\n",
       "   nanos: 300041000\n",
       " },\n",
       " name: \"projects/691911073727/locations/us-central1/featurestores/digits/entityTypes/drawing/features/p59\"\n",
       " description: \"Column named p59 from BQ Table statmike-mlops.digits.digits\"\n",
       " create_time {\n",
       "   seconds: 1631812646\n",
       "   nanos: 321477000\n",
       " }\n",
       " update_time {\n",
       "   seconds: 1631812646\n",
       "   nanos: 321477000\n",
       " },\n",
       " name: \"projects/691911073727/locations/us-central1/featurestores/digits/entityTypes/drawing/features/p9\"\n",
       " description: \"Column named p9 from BQ Table statmike-mlops.digits.digits\"\n",
       " create_time {\n",
       "   seconds: 1631812646\n",
       "   nanos: 244342000\n",
       " }\n",
       " update_time {\n",
       "   seconds: 1631812646\n",
       "   nanos: 244342000\n",
       " }]"
      ]
     },
     "execution_count": 30,
     "metadata": {},
     "output_type": "execute_result"
    }
   ],
   "source": [
    "# find all features of the form p*9 with DOUBLE value type\n",
    "list(clients['fs'].search_features(types.featurestore_service.SearchFeaturesRequest(location = PARENT, query = \"feature_id:p*9 AND value_type=DOUBLE\")))"
   ]
  },
  {
   "cell_type": "markdown",
   "id": "d3a25a55",
   "metadata": {},
   "source": [
    "---\n",
    "## Import Feature Values\n",
    "- BigQuery (THIS DEMO)\n",
    "- Avro\n",
    "- CSV"
   ]
  },
  {
   "cell_type": "markdown",
   "id": "e42c07ba",
   "metadata": {},
   "source": [
    "Prepare a source table with timestamp (update_time) and unique id's for each entity"
   ]
  },
  {
   "cell_type": "code",
   "execution_count": 170,
   "id": "0022e1ed",
   "metadata": {},
   "outputs": [],
   "source": [
    "query = f\"\"\"\n",
    "CREATE OR REPLACE TABLE {PROJECT_ID}.{DATANAME}.{DATANAME}_featurestore_import AS\n",
    "WITH A AS \n",
    "    (SELECT GENERATE_UUID() unique_id, \n",
    "            target_OE as target_oe, \n",
    "            CAST(FLOOR(10*RAND()) AS INT64) daytrick,\n",
    "            * EXCEPT(target_OE)\n",
    "    FROM {PROJECT_ID}.{DATANAME}.{DATANAME})\n",
    "SELECT * EXCEPT(daytrick),\n",
    "        DATE_SUB(CURRENT_TIMESTAMP, INTERVAL daytrick DAY) AS update_time\n",
    "FROM A\n",
    "\"\"\"\n",
    "bqjob = clients['bq'].query(query = query)"
   ]
  },
  {
   "cell_type": "code",
   "execution_count": 171,
   "id": "3ec1901f",
   "metadata": {},
   "outputs": [
    {
     "data": {
      "text/plain": [
       "<google.cloud.bigquery.table._EmptyRowIterator at 0x7f5fde797590>"
      ]
     },
     "execution_count": 171,
     "metadata": {},
     "output_type": "execute_result"
    }
   ],
   "source": [
    "bqjob.result()"
   ]
  },
  {
   "cell_type": "markdown",
   "id": "ff89467a",
   "metadata": {},
   "source": [
    "Create Feature specification for each feature in the input source:"
   ]
  },
  {
   "cell_type": "code",
   "execution_count": 312,
   "id": "4f9d1438",
   "metadata": {},
   "outputs": [],
   "source": [
    "FEATURE_SPECS = []\n",
    "for i in range(schema.shape[0]):\n",
    "    FEATURE_SPECS.append(types.featurestore_service.ImportFeatureValuesRequest.FeatureSpec(id = schema['column_name'][i].lower()))"
   ]
  },
  {
   "cell_type": "code",
   "execution_count": 313,
   "id": "1bfaabc2",
   "metadata": {},
   "outputs": [],
   "source": [
    "import_request = types.featurestore_service.ImportFeatureValuesRequest(\n",
    "    entity_type = clients['fs'].entity_type_path(PROJECT_ID, REGION, FEATURESTORE_ID, ENTITYTYPE_ID),\n",
    "    bigquery_source = types.BigQuerySource(input_uri = f'bq://{PROJECT_ID}.{DATANAME}.{DATANAME}_featurestore_import'),\n",
    "    feature_time_field = \"update_time\",\n",
    "    feature_time = Timestamp().GetCurrentTime(),\n",
    "    entity_id_field = \"unique_id\",\n",
    "    feature_specs = FEATURE_SPECS,\n",
    "    worker_count = 4,\n",
    ")"
   ]
  },
  {
   "cell_type": "code",
   "execution_count": 314,
   "id": "5fe1f39c",
   "metadata": {},
   "outputs": [],
   "source": [
    "importjob = clients['fs'].import_feature_values(import_request)"
   ]
  },
  {
   "cell_type": "code",
   "execution_count": 315,
   "id": "12e1abe2",
   "metadata": {},
   "outputs": [
    {
     "data": {
      "text/plain": [
       "imported_entity_count: 1797\n",
       "imported_feature_value_count: 118602"
      ]
     },
     "execution_count": 315,
     "metadata": {},
     "output_type": "execute_result"
    }
   ],
   "source": [
    "importjob.result()"
   ]
  },
  {
   "cell_type": "markdown",
   "id": "157e9947",
   "metadata": {},
   "source": [
    "---\n",
    "## Prediction with Feature Store for Serving Features"
   ]
  },
  {
   "cell_type": "markdown",
   "id": "f32fddd0",
   "metadata": {},
   "source": [
    "### Entity Id's\n",
    "Retrieve a list of entity id's from the source BigQuery table.  These are in the column `unique_id`."
   ]
  },
  {
   "cell_type": "code",
   "execution_count": 316,
   "id": "e7cb27fe",
   "metadata": {},
   "outputs": [],
   "source": [
    "unique_id = clients['bq'].query(query = f\"SELECT unique_id FROM {PROJECT_ID}.{DATANAME}.{DATANAME}_featurestore_import ORDER BY update_time DESC LIMIT 5\").to_dataframe()"
   ]
  },
  {
   "cell_type": "code",
   "execution_count": 317,
   "id": "617105be",
   "metadata": {},
   "outputs": [
    {
     "data": {
      "text/plain": [
       "'65c77e9a-79e0-4468-b2aa-19ae55e23b24'"
      ]
     },
     "execution_count": 317,
     "metadata": {},
     "output_type": "execute_result"
    }
   ],
   "source": [
    "unique_id['unique_id'][0]"
   ]
  },
  {
   "cell_type": "markdown",
   "id": "7da43595",
   "metadata": {},
   "source": [
    "### Data For Prediction: Single Entity Served by Vertex AI > Features (Feature Store)"
   ]
  },
  {
   "cell_type": "code",
   "execution_count": 318,
   "id": "d743c679",
   "metadata": {},
   "outputs": [],
   "source": [
    "feature_values = clients['fs_olserve'].read_feature_values(\n",
    "    types.featurestore_online_service.ReadFeatureValuesRequest(\n",
    "        entity_type = clients['fs'].entity_type_path(PROJECT_ID, REGION, FEATURESTORE_ID, ENTITYTYPE_ID),\n",
    "        entity_id = unique_id['unique_id'][0],\n",
    "        feature_selector = types.FeatureSelector(id_matcher=types.IdMatcher(ids=['*'])),\n",
    "    )\n",
    ")"
   ]
  },
  {
   "cell_type": "code",
   "execution_count": 319,
   "id": "bedf554d",
   "metadata": {},
   "outputs": [
    {
     "name": "stdout",
     "output_type": "stream",
     "text": [
      "['p15', 'p44', 'p42', 'p24', 'p14', 'p49', 'p60', 'p57', 'p62', 'p59', 'p33', 'p16', 'p19', 'p25', 'p8', 'p52', 'p58', 'p13', 'p36', 'p9', 'p63', 'p34', 'p17', 'p35', 'p61', 'p6', 'p46', 'p10', 'target_oe', 'p32', 'p37', 'p40', 'p12', 'p43', 'p41', 'p50', 'p11', 'p53', 'p27', 'p23', 'p56', 'p54', 'p51', 'p2', 'p1', 'p20', 'p7', 'p5', 'p3', 'p31', 'p30', 'p48', 'p18', 'p21', 'p39', 'p22', 'p55', 'p4', 'target', 'p26', 'p0', 'p38', 'p29', 'p28', 'p47', 'p45']\n"
     ]
    }
   ],
   "source": [
    "print(list(item.id for item in feature_values.header.feature_descriptors))"
   ]
  },
  {
   "cell_type": "code",
   "execution_count": 320,
   "id": "97316a40",
   "metadata": {},
   "outputs": [
    {
     "name": "stdout",
     "output_type": "stream",
     "text": [
      "[0.0, 3.0, 13.0, 0.0, 0.0, 0.0, 14.0, 0.0, 0.0, 10.0, 7.0, 0.0, 3.0, 4.0, 0.0, 14.0, 0.0, 15.0, 0.0, 0.0, 0.0, 10.0, 2.0, 0.0, 4.0, 0.0, 2.0, 15.0, 0.0, 0.0, 9.0, 0.0, 13.0, 5.0, 1.0, 7.0, 15.0, 15.0, 0.0, 0.0, 0.0, 0.0, 16.0, 2.0, 0.0, 1.0, 0.0, 3.0, 12.0, 0.0, 8.0, 0.0, 14.0, 12.0, 0.0, 3.0, 0.0, 15.0, 0.0, 8.0, 0.0, 5.0, 8.0, 0.0, 0.0, 15.0]\n"
     ]
    }
   ],
   "source": [
    "print(list(item.value.double_value for item in feature_values.entity_view.data))"
   ]
  },
  {
   "cell_type": "markdown",
   "id": "ce3a8d60",
   "metadata": {},
   "source": [
    "### Prepare Prediction Request"
   ]
  },
  {
   "cell_type": "code",
   "execution_count": 321,
   "id": "99c411ea",
   "metadata": {},
   "outputs": [],
   "source": [
    "newob = {}\n",
    "features = list(item.id for item in feature_values.header.feature_descriptors)\n",
    "for e, f in enumerate(features):\n",
    "    if f.startswith('p'):\n",
    "        newob[f] = feature_values.entity_view.data[e].value.double_value"
   ]
  },
  {
   "cell_type": "code",
   "execution_count": 322,
   "id": "b8311c5c",
   "metadata": {},
   "outputs": [],
   "source": [
    "instances = [json_format.ParseDict(newob, Value())]\n",
    "parameters = json_format.ParseDict({}, Value())"
   ]
  },
  {
   "cell_type": "markdown",
   "id": "5bce6de8",
   "metadata": {},
   "source": [
    "### Pick An Endpoint\n",
    "A list index of [0] here retrieves the first endpoint in this project:"
   ]
  },
  {
   "cell_type": "code",
   "execution_count": 323,
   "id": "ddc139b5",
   "metadata": {},
   "outputs": [
    {
     "data": {
      "text/plain": [
       "'04a_digits_20210916111550'"
      ]
     },
     "execution_count": 323,
     "metadata": {},
     "output_type": "execute_result"
    }
   ],
   "source": [
    "aiplatform.Endpoint.list()[0].display_name"
   ]
  },
  {
   "cell_type": "code",
   "execution_count": 324,
   "id": "46fa12cf",
   "metadata": {},
   "outputs": [],
   "source": [
    "endpoint = aiplatform.Endpoint(endpoint_name = aiplatform.Endpoint.list()[0].name)"
   ]
  },
  {
   "cell_type": "markdown",
   "id": "8c99582d",
   "metadata": {},
   "source": [
    "### Get Predictions: Python Client"
   ]
  },
  {
   "cell_type": "code",
   "execution_count": 325,
   "id": "b65f1d21",
   "metadata": {},
   "outputs": [],
   "source": [
    "prediction = endpoint.predict(instances = instances, parameters = parameters)"
   ]
  },
  {
   "cell_type": "code",
   "execution_count": 326,
   "id": "bd1422a2",
   "metadata": {},
   "outputs": [
    {
     "data": {
      "text/plain": [
       "Prediction(predictions=[[0.999894142, 2.71968884e-12, 9.62739359e-05, 1.48131505e-07, 3.60981254e-08, 1.13780447e-06, 6.86076929e-09, 7.84659619e-07, 7.17200373e-06, 2.8574371e-07]], deployed_model_id='1563391185488183296', explanations=None)"
      ]
     },
     "execution_count": 326,
     "metadata": {},
     "output_type": "execute_result"
    }
   ],
   "source": [
    "prediction"
   ]
  },
  {
   "cell_type": "code",
   "execution_count": 327,
   "id": "3dc3d58a",
   "metadata": {},
   "outputs": [
    {
     "data": {
      "text/plain": [
       "[0.999894142,\n",
       " 2.71968884e-12,\n",
       " 9.62739359e-05,\n",
       " 1.48131505e-07,\n",
       " 3.60981254e-08,\n",
       " 1.13780447e-06,\n",
       " 6.86076929e-09,\n",
       " 7.84659619e-07,\n",
       " 7.17200373e-06,\n",
       " 2.8574371e-07]"
      ]
     },
     "execution_count": 327,
     "metadata": {},
     "output_type": "execute_result"
    }
   ],
   "source": [
    "prediction.predictions[0]"
   ]
  },
  {
   "cell_type": "code",
   "execution_count": 328,
   "id": "514ec206",
   "metadata": {},
   "outputs": [
    {
     "data": {
      "text/plain": [
       "0"
      ]
     },
     "execution_count": 328,
     "metadata": {},
     "output_type": "execute_result"
    }
   ],
   "source": [
    "np.argmax(prediction.predictions[0])"
   ]
  },
  {
   "cell_type": "markdown",
   "id": "3f1b1499",
   "metadata": {},
   "source": [
    "### Get Predictions: REST"
   ]
  },
  {
   "cell_type": "code",
   "execution_count": 329,
   "id": "e756b8fb",
   "metadata": {},
   "outputs": [],
   "source": [
    "with open(f'{DIR}/request.json','w') as file:\n",
    "    file.write(json.dumps({\"instances\": [newob]}))"
   ]
  },
  {
   "cell_type": "code",
   "execution_count": 330,
   "id": "d9ba969c",
   "metadata": {},
   "outputs": [
    {
     "name": "stdout",
     "output_type": "stream",
     "text": [
      "{\n",
      "  \"predictions\": [\n",
      "    [\n",
      "      0.999894142,\n",
      "      2.71968884e-12,\n",
      "      9.62739359e-05,\n",
      "      1.48131505e-07,\n",
      "      3.60981254e-08,\n",
      "      1.13780447e-06,\n",
      "      6.86076929e-09,\n",
      "      7.84659619e-07,\n",
      "      7.17200373e-06,\n",
      "      2.8574371e-07\n",
      "    ]\n",
      "  ],\n",
      "  \"deployedModelId\": \"1563391185488183296\"\n",
      "}\n"
     ]
    }
   ],
   "source": [
    "!curl -X POST \\\n",
    "-H \"Authorization: Bearer \"$(gcloud auth application-default print-access-token) \\\n",
    "-H \"Content-Type: application/json; charset=utf-8\" \\\n",
    "-d @{DIR}/request.json \\\n",
    "https://{REGION}-aiplatform.googleapis.com/v1/{endpoint.resource_name}:predict"
   ]
  },
  {
   "cell_type": "markdown",
   "id": "1bb2d47f",
   "metadata": {},
   "source": [
    "### Get Predictions: gcloud (CLI)"
   ]
  },
  {
   "cell_type": "code",
   "execution_count": 331,
   "id": "9740d4fe",
   "metadata": {},
   "outputs": [
    {
     "name": "stdout",
     "output_type": "stream",
     "text": [
      "Using endpoint [https://us-central1-prediction-aiplatform.googleapis.com/]\n",
      "[[0.999894142, 2.71968884e-12, 9.62739359e-05, 1.48131505e-07, 3.60981254e-08, 1.13780447e-06, 6.86076929e-09, 7.84659619e-07, 7.17200373e-06, 2.8574371e-07]]\n"
     ]
    }
   ],
   "source": [
    "!gcloud beta ai endpoints predict {endpoint.name.rsplit('/',1)[-1]} --region={REGION} --json-request={DIR}/request.json"
   ]
  },
  {
   "cell_type": "markdown",
   "id": "f81d0bf2",
   "metadata": {},
   "source": [
    "### Data For Prediction: Multiple Entities Served by Vertex AI > Features (Feature Store)"
   ]
  },
  {
   "cell_type": "code",
   "execution_count": 332,
   "id": "111c7c22",
   "metadata": {},
   "outputs": [
    {
     "data": {
      "text/plain": [
       "0    65c77e9a-79e0-4468-b2aa-19ae55e23b24\n",
       "1    5f605984-3aa9-4bc7-884c-75a24336c627\n",
       "2    2ea71d24-e815-4089-9276-409f3f5ee7e9\n",
       "3    f9ddabe0-700a-4160-bf73-87fc79763234\n",
       "4    873fb1f6-3c0c-4d00-8d91-6255854e67dd\n",
       "Name: unique_id, dtype: object"
      ]
     },
     "execution_count": 332,
     "metadata": {},
     "output_type": "execute_result"
    }
   ],
   "source": [
    "unique_id['unique_id']"
   ]
  },
  {
   "cell_type": "code",
   "execution_count": 333,
   "id": "d29b7684",
   "metadata": {},
   "outputs": [],
   "source": [
    "multi_feature_values = clients['fs_olserve'].streaming_read_feature_values(\n",
    "    types.featurestore_online_service.StreamingReadFeatureValuesRequest(\n",
    "        entity_type = clients['fs'].entity_type_path(PROJECT_ID, REGION, FEATURESTORE_ID, ENTITYTYPE_ID),\n",
    "        entity_ids = unique_id['unique_id'],\n",
    "        feature_selector = types.FeatureSelector(id_matcher=types.IdMatcher(ids=['*'])),\n",
    "    )\n",
    ")"
   ]
  },
  {
   "cell_type": "code",
   "execution_count": 334,
   "id": "673113c0",
   "metadata": {},
   "outputs": [
    {
     "name": "stdout",
     "output_type": "stream",
     "text": [
      "\n",
      "[]\n",
      "2ea71d24-e815-4089-9276-409f3f5ee7e9\n",
      "[16.0, 0.0, 0.0, 6.0, 16.0, 0.0, 0.0, 1.0, 0.0, 0.0, 11.0, 1.0, 1.0, 15.0, 15.0, 12.0, 11.0, 12.0, 7.0, 0.0, 0.0, 0.0, 6.0, 6.0, 8.0, 0.0, 0.0, 15.0, 0.0, 15.0, 16.0, 0.0, 4.0, 14.0, 0.0, 16.0, 0.0, 0.0, 0.0, 5.0, 0.0, 5.0, 0.0, 9.0, 0.0, 8.0, 16.0, 16.0, 4.0, 0.0, 0.0, 0.0, 0.0, 16.0, 0.0, 0.0, 5.0, 0.0, 0.0, 8.0, 15.0, 0.0, 0.0, 0.0, 9.0, 1.0]\n",
      "5f605984-3aa9-4bc7-884c-75a24336c627\n",
      "[12.0, 0.0, 0.0, 0.0, 0.0, 0.0, 0.0, 0.0, 0.0, 0.0, 16.0, 5.0, 15.0, 14.0, 12.0, 15.0, 11.0, 10.0, 0.0, 0.0, 0.0, 0.0, 0.0, 0.0, 7.0, 4.0, 0.0, 16.0, 0.0, 16.0, 11.0, 0.0, 15.0, 4.0, 1.0, 0.0, 0.0, 0.0, 0.0, 1.0, 16.0, 0.0, 0.0, 15.0, 0.0, 6.0, 0.0, 0.0, 0.0, 0.0, 16.0, 0.0, 0.0, 12.0, 0.0, 0.0, 0.0, 0.0, 0.0, 16.0, 0.0, 0.0, 0.0, 0.0, 0.0, 16.0]\n",
      "65c77e9a-79e0-4468-b2aa-19ae55e23b24\n",
      "[10.0, 0.0, 0.0, 4.0, 16.0, 0.0, 0.0, 8.0, 0.0, 0.0, 0.0, 1.0, 3.0, 12.0, 15.0, 8.0, 9.0, 0.0, 10.0, 0.0, 0.0, 0.0, 2.0, 5.0, 15.0, 0.0, 0.0, 13.0, 0.0, 15.0, 13.0, 0.0, 3.0, 14.0, 0.0, 8.0, 0.0, 2.0, 0.0, 7.0, 0.0, 7.0, 0.0, 4.0, 0.0, 5.0, 15.0, 14.0, 2.0, 0.0, 0.0, 0.0, 0.0, 14.0, 0.0, 0.0, 15.0, 0.0, 0.0, 15.0, 3.0, 0.0, 0.0, 3.0, 12.0, 1.0]\n",
      "873fb1f6-3c0c-4d00-8d91-6255854e67dd\n",
      "[10.0, 0.0, 0.0, 7.0, 6.0, 0.0, 0.0, 5.0, 0.0, 0.0, 0.0, 1.0, 2.0, 11.0, 12.0, 7.0, 7.0, 1.0, 10.0, 0.0, 0.0, 0.0, 3.0, 7.0, 14.0, 0.0, 0.0, 12.0, 0.0, 13.0, 7.0, 0.0, 0.0, 14.0, 0.0, 14.0, 0.0, 4.0, 0.0, 9.0, 0.0, 4.0, 0.0, 4.0, 0.0, 0.0, 11.0, 16.0, 4.0, 0.0, 0.0, 0.0, 0.0, 6.0, 0.0, 0.0, 16.0, 0.0, 5.0, 10.0, 4.0, 0.0, 0.0, 1.0, 14.0, 0.0]\n",
      "f9ddabe0-700a-4160-bf73-87fc79763234\n",
      "[16.0, 0.0, 0.0, 0.0, 13.0, 0.0, 0.0, 0.0, 0.0, 0.0, 11.0, 0.0, 0.0, 13.0, 12.0, 16.0, 15.0, 7.0, 13.0, 0.0, 0.0, 0.0, 0.0, 0.0, 9.0, 0.0, 0.0, 14.0, 0.0, 6.0, 13.0, 0.0, 16.0, 10.0, 0.0, 16.0, 0.0, 0.0, 0.0, 9.0, 3.0, 0.0, 0.0, 0.0, 0.0, 7.0, 15.0, 13.0, 0.0, 0.0, 0.0, 0.0, 0.0, 15.0, 0.0, 0.0, 3.0, 0.0, 0.0, 5.0, 13.0, 0.0, 0.0, 0.0, 10.0, 1.0]\n"
     ]
    }
   ],
   "source": [
    "for i in multi_feature_values:\n",
    "    print(i.entity_view.entity_id)\n",
    "    print(list(item.value.double_value for item in i.entity_view.data))"
   ]
  },
  {
   "cell_type": "markdown",
   "id": "50ed1cf9",
   "metadata": {},
   "source": [
    "### Data For Training: Batch (For training or large scale prediction)"
   ]
  },
  {
   "cell_type": "code",
   "execution_count": 155,
   "id": "40f3ae29",
   "metadata": {},
   "outputs": [],
   "source": [
    "# get current timestamp (protobuf3 is seconds since ephoch (1970))\n",
    "timestamp = Timestamp()\n",
    "timestamp.GetCurrentTime()\n",
    "\n",
    "# adjust timestamp to 2 days ago: 60*60*24*4\n",
    "newtimestamp = Timestamp(seconds = timestamp.seconds - 60*60*24*2, nanos = timestamp.nanos)\n",
    "\n",
    "batch_request = types.featurestore_service.ExportFeatureValuesRequest(\n",
    "    entity_type = clients['fs'].entity_type_path(PROJECT_ID, REGION, FEATURESTORE_ID, ENTITYTYPE_ID),\n",
    "    snapshot_export = types.ExportFeatureValuesRequest.SnapshotExport(snapshot_time = Timestamp(seconds=newtimestamp.seconds)),\n",
    "    destination = types.FeatureValueDestination(bigquery_destination = types.BigQueryDestination(output_uri = f'bq://{PROJECT_ID}.{DATANAME}.{DATANAME}_fs_training')),\n",
    "    feature_selector = types.FeatureSelector(id_matcher=types.IdMatcher(ids = ['*']))\n",
    ")"
   ]
  },
  {
   "cell_type": "code",
   "execution_count": 156,
   "id": "a34809b0",
   "metadata": {},
   "outputs": [],
   "source": [
    "batchjob = clients['fs'].export_feature_values(batch_request)"
   ]
  },
  {
   "cell_type": "code",
   "execution_count": 157,
   "id": "6ece5776",
   "metadata": {},
   "outputs": [
    {
     "data": {
      "text/plain": []
     },
     "execution_count": 157,
     "metadata": {},
     "output_type": "execute_result"
    }
   ],
   "source": [
    "batchjob.result()"
   ]
  },
  {
   "cell_type": "markdown",
   "id": "7011a082",
   "metadata": {},
   "source": [
    "By Adjusting the `snapshot_time` to 2 days ago, the batch_request creates a BigQuery table that has all the orginal rows, 1 per entity, but the features are null for 20% of the rows.  This is because the features were loaded with `feature_time_field = \"update_time\"` and `update_time` was set to a random day between today and 10 days ago."
   ]
  },
  {
   "cell_type": "code",
   "execution_count": 335,
   "id": "515ff3c6",
   "metadata": {},
   "outputs": [
    {
     "data": {
      "text/html": [
       "<div>\n",
       "<style scoped>\n",
       "    .dataframe tbody tr th:only-of-type {\n",
       "        vertical-align: middle;\n",
       "    }\n",
       "\n",
       "    .dataframe tbody tr th {\n",
       "        vertical-align: top;\n",
       "    }\n",
       "\n",
       "    .dataframe thead th {\n",
       "        text-align: right;\n",
       "    }\n",
       "</style>\n",
       "<table border=\"1\" class=\"dataframe\">\n",
       "  <thead>\n",
       "    <tr style=\"text-align: right;\">\n",
       "      <th></th>\n",
       "      <th>Null_Rows</th>\n",
       "      <th>counts</th>\n",
       "    </tr>\n",
       "  </thead>\n",
       "  <tbody>\n",
       "    <tr>\n",
       "      <th>0</th>\n",
       "      <td>True</td>\n",
       "      <td>364</td>\n",
       "    </tr>\n",
       "    <tr>\n",
       "      <th>1</th>\n",
       "      <td>False</td>\n",
       "      <td>1433</td>\n",
       "    </tr>\n",
       "  </tbody>\n",
       "</table>\n",
       "</div>"
      ],
      "text/plain": [
       "   Null_Rows  counts\n",
       "0       True     364\n",
       "1      False    1433"
      ]
     },
     "execution_count": 335,
     "metadata": {},
     "output_type": "execute_result"
    }
   ],
   "source": [
    "query = f\"\"\"\n",
    "SELECT CASE WHEN {list(newob.keys())[0]} is not null then False ELSE True END as Null_Rows, count(*) as counts\n",
    "FROM {PROJECT_ID}.{DATANAME}.{DATANAME}_fs_training\n",
    "GROUP BY Null_Rows\n",
    "\"\"\"\n",
    "clients['bq'].query(query = query).to_dataframe()"
   ]
  },
  {
   "cell_type": "markdown",
   "id": "16b8e5f1",
   "metadata": {},
   "source": [
    "---\n",
    "## Remove Resources\n",
    "see notebook \"XX - Cleanup\""
   ]
  }
 ],
 "metadata": {
  "environment": {
   "name": "tf2-gpu.2-3.m79",
   "type": "gcloud",
   "uri": "gcr.io/deeplearning-platform-release/tf2-gpu.2-3:m79"
  },
  "kernelspec": {
   "display_name": "Python 3",
   "language": "python",
   "name": "python3"
  },
  "language_info": {
   "codemirror_mode": {
    "name": "ipython",
    "version": 3
   },
   "file_extension": ".py",
   "mimetype": "text/x-python",
   "name": "python",
   "nbconvert_exporter": "python",
   "pygments_lexer": "ipython3",
   "version": "3.7.10"
  }
 },
 "nbformat": 4,
 "nbformat_minor": 5
}
