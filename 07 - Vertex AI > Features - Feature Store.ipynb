{
 "cells": [
  {
   "cell_type": "markdown",
   "id": "e802a051",
   "metadata": {},
   "source": [
    "# 07 - Vertex AI > Features - Feature Store\n",
    "\n",
    "This is a demonstration of [Vertex AI Feature Store](https://cloud.google.com/vertex-ai/docs/featurestore/overview). A feature store is a central repository for organizing, storing, and retrieving features.  This is a fully managed service that scales the underlying compute and storage resources.  The feature store becomes a central location for serving features for training and prediction with low-latency. It stores feature values at points-in-time:\n",
    "\n",
    "-  Point-in-time lookups for retrieving features for model training. Retrieve feature values prior to a prediction to prevent data leakage.\n",
    "-  Manage training-serving skew\n",
    "\n",
    "**Prerequisites:**\n",
    "\n",
    "-  01 - BigQuery - Table Data Source\n",
    "-  Any of 02-05 That Deploy A Model To An Endpoint\n",
    "   -  Used to demonstrate online predictions with feature store serving features\n",
    "\n",
    "**Overview:**\n",
    "\n",
    "-  Create a Feature Store\n",
    "-  Define an entity type\n",
    "-  Define features for and entity type\n",
    "   -  For this demonstration I use metadata from a BigQuery table to define features\n",
    "      -  project.table.INFORMATION_SCHEMA.COLUMN_FIELD_PATHS\n",
    "-  Search Features\n",
    "   -  Using FeaturestoreServiceClient.search_features()\n",
    "-  Import feature values\n",
    "   -  Using a BigQuery table as the source data\n",
    "-  Serve feature values\n",
    "   -  For one entity_Id\n",
    "   -  For multiple entity_id values\n",
    "   -  Batch Feature request\n",
    "-  Use online feature serving as input to online prediction with Vertex AI Endpoint\n",
    "\n",
    "**Resources:**\n",
    "\n",
    "-  [Python Client for Vertex AI](https://googleapis.dev/python/aiplatform/latest/aiplatform.html)\n",
    "   -  Currently using the [v1beta1 services](https://googleapis.dev/python/aiplatform/latest/aiplatform_v1beta1/services.html)\n",
    "-  [Feature Store Overview](https://cloud.google.com/vertex-ai/docs/featurestore/overview)\n",
    "-  [Data Model and Concepts](https://cloud.google.com/vertex-ai/docs/featurestore/concepts)\n",
    "-  [Best Practices](https://cloud.google.com/vertex-ai/docs/featurestore/best-practices) including info on composite entity types\n",
    "\n",
    "**Related Training:**\n",
    "\n",
    "-  todo"
   ]
  },
  {
   "cell_type": "markdown",
   "id": "95989aa6",
   "metadata": {},
   "source": [
    "---\n",
    "## Conceptual Architecture\n",
    "\n",
    "<img src=\"architectures/statmike-mlops-07.png\">"
   ]
  },
  {
   "cell_type": "markdown",
   "id": "a0040558",
   "metadata": {},
   "source": [
    "---\n",
    "## Setup"
   ]
  },
  {
   "cell_type": "markdown",
   "id": "b5fb9aae",
   "metadata": {},
   "source": [
    "inputs:"
   ]
  },
  {
   "cell_type": "code",
   "execution_count": 37,
   "id": "b2c2fd4e",
   "metadata": {},
   "outputs": [],
   "source": [
    "REGION = 'us-central1'\n",
    "PROJECT_ID='statmike-mlops'\n",
    "DATANAME = 'digits'\n",
    "NOTEBOOK = '07'\n",
    "\n",
    "ENTITYTYPE_ID = 'drawing'"
   ]
  },
  {
   "cell_type": "markdown",
   "id": "00f4be86",
   "metadata": {},
   "source": [
    "packages:"
   ]
  },
  {
   "cell_type": "code",
   "execution_count": 96,
   "id": "cf6f65d1",
   "metadata": {},
   "outputs": [],
   "source": [
    "from google.cloud.aiplatform_v1beta1 import (FeaturestoreOnlineServingServiceClient, FeaturestoreServiceClient, types)\n",
    "from google.cloud import aiplatform\n",
    "\n",
    "from google.protobuf.duration_pb2 import Duration\n",
    "from google.protobuf.timestamp_pb2 import Timestamp\n",
    "from google.protobuf.field_mask_pb2 import FieldMask\n",
    "\n",
    "from google.cloud import bigquery\n",
    "from google.cloud.aiplatform_v1beta1 import (PredictionServiceClient, EndpointServiceClient)\n",
    "from google.protobuf import json_format\n",
    "from google.protobuf.struct_pb2 import Value\n",
    "import json\n",
    "import numpy as np"
   ]
  },
  {
   "cell_type": "markdown",
   "id": "4c141d6a",
   "metadata": {},
   "source": [
    "clients:"
   ]
  },
  {
   "cell_type": "code",
   "execution_count": 74,
   "id": "6e8fdce7",
   "metadata": {},
   "outputs": [],
   "source": [
    "client_options = {\"api_endpoint\": f\"{REGION}-aiplatform.googleapis.com\"}\n",
    "\n",
    "clients = {}\n",
    "clients['fs'] = FeaturestoreServiceClient(client_options = client_options)\n",
    "clients['fs_olserve'] = FeaturestoreOnlineServingServiceClient(client_options = client_options)\n",
    "\n",
    "clients['bq'] = bigquery.Client()\n",
    "\n",
    "aiplatform.init(project=PROJECT_ID, location=REGION)"
   ]
  },
  {
   "cell_type": "markdown",
   "id": "c30cf5b6",
   "metadata": {},
   "source": [
    "parameters:"
   ]
  },
  {
   "cell_type": "code",
   "execution_count": 42,
   "id": "249bb599",
   "metadata": {},
   "outputs": [],
   "source": [
    "PARENT = f\"projects/{PROJECT_ID}/locations/{REGION}\"\n",
    "DIR = f\"temp/{NOTEBOOK}\""
   ]
  },
  {
   "cell_type": "markdown",
   "id": "15c373b7",
   "metadata": {},
   "source": [
    "environment:"
   ]
  },
  {
   "cell_type": "code",
   "execution_count": 43,
   "id": "6ca8a20d",
   "metadata": {},
   "outputs": [],
   "source": [
    "!rm -rf {DIR}\n",
    "!mkdir -p {DIR}"
   ]
  },
  {
   "cell_type": "markdown",
   "id": "02cf34f2",
   "metadata": {},
   "source": [
    "---\n",
    "## Feature Store Data model\n",
    "Feature Store organizes data with the following 3 important hierarchical concepts:\n",
    "\n",
    "Featurestore -> EntityType -> Feature\n",
    "\n",
    "- **Featurestore**: the place to store your features\n",
    "    - **EntityType**: under a Featurestore, an EntityType describes an object to be modeled, real one or virtual one.\n",
    "        - **Feature**: under an EntityType, a feature describes an attribute of the EntityType\n",
    "\n",
    "For the digits data used in these examples, the feature store will be called digits_featurestore.  The store has 1 entity type: images.  The features will be the pixels and the target values."
   ]
  },
  {
   "cell_type": "markdown",
   "id": "6e30090e",
   "metadata": {},
   "source": [
    "---\n",
    "## Create Feature Store"
   ]
  },
  {
   "cell_type": "code",
   "execution_count": 10,
   "id": "6736bfd0",
   "metadata": {},
   "outputs": [],
   "source": [
    "FEATURESTORE_ID = DATANAME"
   ]
  },
  {
   "cell_type": "code",
   "execution_count": 11,
   "id": "d26e8135",
   "metadata": {},
   "outputs": [],
   "source": [
    "featurestore_lro = clients['fs'].create_featurestore(\n",
    "    types.featurestore_service.CreateFeaturestoreRequest(\n",
    "        parent = PARENT,\n",
    "        featurestore_id = FEATURESTORE_ID,\n",
    "        featurestore=types.featurestore.Featurestore(\n",
    "            display_name=f\"Notebook {NOTEBOOK} demonstration of Vertex AI Features (feature store) using {DATANAME} data\",\n",
    "            online_serving_config=types.featurestore.Featurestore.OnlineServingConfig(\n",
    "                fixed_node_count=2\n",
    "            ),\n",
    "        ),\n",
    "    )\n",
    ")"
   ]
  },
  {
   "cell_type": "code",
   "execution_count": 12,
   "id": "3537b2cc",
   "metadata": {},
   "outputs": [
    {
     "data": {
      "text/plain": [
       "name: \"projects/691911073727/locations/us-central1/featurestores/digits\""
      ]
     },
     "execution_count": 12,
     "metadata": {},
     "output_type": "execute_result"
    }
   ],
   "source": [
    "featurestore_lro.result()"
   ]
  },
  {
   "cell_type": "markdown",
   "id": "b74ec8b0",
   "metadata": {},
   "source": [
    "Use `get_featurestore` to see details of specified feature store:"
   ]
  },
  {
   "cell_type": "code",
   "execution_count": 13,
   "id": "30defe14",
   "metadata": {},
   "outputs": [
    {
     "data": {
      "text/plain": [
       "name: \"projects/691911073727/locations/us-central1/featurestores/digits\"\n",
       "create_time {\n",
       "  seconds: 1631808488\n",
       "  nanos: 193234000\n",
       "}\n",
       "update_time {\n",
       "  seconds: 1631808488\n",
       "  nanos: 502681000\n",
       "}\n",
       "etag: \"AMEw9yNDxF_abALl9D9yDmEc9TOeOoFaCwKQEoEh-Zlm_2UNiiZXa2FG65VrSk8aDEqh\"\n",
       "online_serving_config {\n",
       "  fixed_node_count: 2\n",
       "}\n",
       "state: STABLE"
      ]
     },
     "execution_count": 13,
     "metadata": {},
     "output_type": "execute_result"
    }
   ],
   "source": [
    "clients['fs'].get_featurestore(name=clients['fs'].featurestore_path(PROJECT_ID, REGION, FEATURESTORE_ID))"
   ]
  },
  {
   "cell_type": "markdown",
   "id": "f0e02f17",
   "metadata": {},
   "source": [
    "Use `list_featurestores` to see details of all feature stores:"
   ]
  },
  {
   "cell_type": "code",
   "execution_count": 14,
   "id": "4acba992",
   "metadata": {},
   "outputs": [
    {
     "data": {
      "text/plain": [
       "ListFeaturestoresPager<featurestores {\n",
       "  name: \"projects/691911073727/locations/us-central1/featurestores/digits\"\n",
       "  create_time {\n",
       "    seconds: 1631808488\n",
       "    nanos: 193234000\n",
       "  }\n",
       "  update_time {\n",
       "    seconds: 1631808488\n",
       "    nanos: 502681000\n",
       "  }\n",
       "  etag: \"AMEw9yNz4KutuBpX5iothDdrViHBUReWh-ud3YLPn5TIz4VdW-nzDTex7NhAM_JDnmKW\"\n",
       "  online_serving_config {\n",
       "    fixed_node_count: 2\n",
       "  }\n",
       "  state: STABLE\n",
       "}\n",
       ">"
      ]
     },
     "execution_count": 14,
     "metadata": {},
     "output_type": "execute_result"
    }
   ],
   "source": [
    "clients['fs'].list_featurestores(parent=PARENT)"
   ]
  },
  {
   "cell_type": "markdown",
   "id": "181e73d3",
   "metadata": {},
   "source": [
    "---\n",
    "## Create Entity Type"
   ]
  },
  {
   "cell_type": "code",
   "execution_count": 17,
   "id": "589f59eb",
   "metadata": {},
   "outputs": [],
   "source": [
    "entitytype_lro = clients['fs'].create_entity_type(\n",
    "    types.featurestore_service.CreateEntityTypeRequest(\n",
    "        parent=clients['fs'].featurestore_path(PROJECT_ID, REGION, FEATURESTORE_ID),\n",
    "        entity_type_id = ENTITYTYPE_ID,\n",
    "        entity_type=types.entity_type.EntityType(\n",
    "            description=f\"Entity: {ENTITYTYPE_ID}, for data: {DATANAME}\",\n",
    "            monitoring_config=types.featurestore_monitoring.FeaturestoreMonitoringConfig(\n",
    "                snapshot_analysis=types.featurestore_monitoring.FeaturestoreMonitoringConfig.SnapshotAnalysis(\n",
    "                    monitoring_interval=Duration(seconds=900),  # 15 minutes\n",
    "                ),\n",
    "            ),\n",
    "        ),\n",
    "    )\n",
    ")"
   ]
  },
  {
   "cell_type": "code",
   "execution_count": 18,
   "id": "c07fe265",
   "metadata": {},
   "outputs": [
    {
     "data": {
      "text/plain": [
       "name: \"projects/691911073727/locations/us-central1/featurestores/digits/entityTypes/drawing\"\n",
       "etag: \"AMEw9yOEUHP5x4BBKSDXBEpYikMafo8LHHBzMT0Gnm8EnDQCFqyX\""
      ]
     },
     "execution_count": 18,
     "metadata": {},
     "output_type": "execute_result"
    }
   ],
   "source": [
    "entitytype_lro.result()"
   ]
  },
  {
   "cell_type": "markdown",
   "id": "54a12225",
   "metadata": {},
   "source": [
    "Use `list_entity_types` to see details of all entity types:"
   ]
  },
  {
   "cell_type": "code",
   "execution_count": 19,
   "id": "700004c1",
   "metadata": {},
   "outputs": [
    {
     "data": {
      "text/plain": [
       "ListEntityTypesPager<entity_types {\n",
       "  name: \"projects/691911073727/locations/us-central1/featurestores/digits/entityTypes/drawing\"\n",
       "  description: \"Entity drawing for  data digits\"\n",
       "  create_time {\n",
       "    seconds: 1631812110\n",
       "    nanos: 831664000\n",
       "  }\n",
       "  update_time {\n",
       "    seconds: 1631812110\n",
       "    nanos: 831664000\n",
       "  }\n",
       "  etag: \"AMEw9yNKJa4P5Pkfgf-N5epF4pLTpAL61bICdz8w1PXmG5D7PhmJfsdmmwdUH-9o_Rip\"\n",
       "  monitoring_config {\n",
       "    snapshot_analysis {\n",
       "      monitoring_interval {\n",
       "        seconds: 86400\n",
       "      }\n",
       "    }\n",
       "  }\n",
       "}\n",
       ">"
      ]
     },
     "execution_count": 19,
     "metadata": {},
     "output_type": "execute_result"
    }
   ],
   "source": [
    "clients['fs'].list_entity_types(parent = f\"{PARENT}/featurestores/{FEATURESTORE_ID}\")"
   ]
  },
  {
   "cell_type": "markdown",
   "id": "52a0f648",
   "metadata": {},
   "source": [
    "---\n",
    "## Create Features"
   ]
  },
  {
   "cell_type": "markdown",
   "id": "9d200882",
   "metadata": {},
   "source": [
    "Get the schema of the data source for new features:"
   ]
  },
  {
   "cell_type": "code",
   "execution_count": 20,
   "id": "1773b9cd",
   "metadata": {},
   "outputs": [
    {
     "name": "stderr",
     "output_type": "stream",
     "text": [
      "Query complete after 0.01s: 100%|██████████| 1/1 [00:00<00:00, 516.22query/s]                          \n",
      "Downloading: 100%|██████████| 66/66 [00:00<00:00, 67.41rows/s] \n"
     ]
    }
   ],
   "source": [
    "%%bigquery schema\n",
    "SELECT * \n",
    "FROM `statmike-mlops.digits.INFORMATION_SCHEMA.COLUMNS`\n",
    "WHERE table_name = 'digits'"
   ]
  },
  {
   "cell_type": "code",
   "execution_count": 21,
   "id": "d9e1da8e",
   "metadata": {},
   "outputs": [
    {
     "data": {
      "text/html": [
       "<div>\n",
       "<style scoped>\n",
       "    .dataframe tbody tr th:only-of-type {\n",
       "        vertical-align: middle;\n",
       "    }\n",
       "\n",
       "    .dataframe tbody tr th {\n",
       "        vertical-align: top;\n",
       "    }\n",
       "\n",
       "    .dataframe thead th {\n",
       "        text-align: right;\n",
       "    }\n",
       "</style>\n",
       "<table border=\"1\" class=\"dataframe\">\n",
       "  <thead>\n",
       "    <tr style=\"text-align: right;\">\n",
       "      <th></th>\n",
       "      <th>table_catalog</th>\n",
       "      <th>table_schema</th>\n",
       "      <th>table_name</th>\n",
       "      <th>column_name</th>\n",
       "      <th>ordinal_position</th>\n",
       "      <th>is_nullable</th>\n",
       "      <th>data_type</th>\n",
       "      <th>is_generated</th>\n",
       "      <th>generation_expression</th>\n",
       "      <th>is_stored</th>\n",
       "      <th>is_hidden</th>\n",
       "      <th>is_updatable</th>\n",
       "      <th>is_system_defined</th>\n",
       "      <th>is_partitioning_column</th>\n",
       "      <th>clustering_ordinal_position</th>\n",
       "    </tr>\n",
       "  </thead>\n",
       "  <tbody>\n",
       "    <tr>\n",
       "      <th>0</th>\n",
       "      <td>statmike-mlops</td>\n",
       "      <td>digits</td>\n",
       "      <td>digits</td>\n",
       "      <td>p0</td>\n",
       "      <td>1</td>\n",
       "      <td>YES</td>\n",
       "      <td>FLOAT64</td>\n",
       "      <td>NEVER</td>\n",
       "      <td>None</td>\n",
       "      <td>None</td>\n",
       "      <td>NO</td>\n",
       "      <td>None</td>\n",
       "      <td>NO</td>\n",
       "      <td>NO</td>\n",
       "      <td>NaN</td>\n",
       "    </tr>\n",
       "    <tr>\n",
       "      <th>1</th>\n",
       "      <td>statmike-mlops</td>\n",
       "      <td>digits</td>\n",
       "      <td>digits</td>\n",
       "      <td>p1</td>\n",
       "      <td>2</td>\n",
       "      <td>YES</td>\n",
       "      <td>FLOAT64</td>\n",
       "      <td>NEVER</td>\n",
       "      <td>None</td>\n",
       "      <td>None</td>\n",
       "      <td>NO</td>\n",
       "      <td>None</td>\n",
       "      <td>NO</td>\n",
       "      <td>NO</td>\n",
       "      <td>NaN</td>\n",
       "    </tr>\n",
       "    <tr>\n",
       "      <th>2</th>\n",
       "      <td>statmike-mlops</td>\n",
       "      <td>digits</td>\n",
       "      <td>digits</td>\n",
       "      <td>p2</td>\n",
       "      <td>3</td>\n",
       "      <td>YES</td>\n",
       "      <td>FLOAT64</td>\n",
       "      <td>NEVER</td>\n",
       "      <td>None</td>\n",
       "      <td>None</td>\n",
       "      <td>NO</td>\n",
       "      <td>None</td>\n",
       "      <td>NO</td>\n",
       "      <td>NO</td>\n",
       "      <td>NaN</td>\n",
       "    </tr>\n",
       "    <tr>\n",
       "      <th>3</th>\n",
       "      <td>statmike-mlops</td>\n",
       "      <td>digits</td>\n",
       "      <td>digits</td>\n",
       "      <td>p3</td>\n",
       "      <td>4</td>\n",
       "      <td>YES</td>\n",
       "      <td>FLOAT64</td>\n",
       "      <td>NEVER</td>\n",
       "      <td>None</td>\n",
       "      <td>None</td>\n",
       "      <td>NO</td>\n",
       "      <td>None</td>\n",
       "      <td>NO</td>\n",
       "      <td>NO</td>\n",
       "      <td>NaN</td>\n",
       "    </tr>\n",
       "    <tr>\n",
       "      <th>4</th>\n",
       "      <td>statmike-mlops</td>\n",
       "      <td>digits</td>\n",
       "      <td>digits</td>\n",
       "      <td>p4</td>\n",
       "      <td>5</td>\n",
       "      <td>YES</td>\n",
       "      <td>FLOAT64</td>\n",
       "      <td>NEVER</td>\n",
       "      <td>None</td>\n",
       "      <td>None</td>\n",
       "      <td>NO</td>\n",
       "      <td>None</td>\n",
       "      <td>NO</td>\n",
       "      <td>NO</td>\n",
       "      <td>NaN</td>\n",
       "    </tr>\n",
       "    <tr>\n",
       "      <th>...</th>\n",
       "      <td>...</td>\n",
       "      <td>...</td>\n",
       "      <td>...</td>\n",
       "      <td>...</td>\n",
       "      <td>...</td>\n",
       "      <td>...</td>\n",
       "      <td>...</td>\n",
       "      <td>...</td>\n",
       "      <td>...</td>\n",
       "      <td>...</td>\n",
       "      <td>...</td>\n",
       "      <td>...</td>\n",
       "      <td>...</td>\n",
       "      <td>...</td>\n",
       "      <td>...</td>\n",
       "    </tr>\n",
       "    <tr>\n",
       "      <th>61</th>\n",
       "      <td>statmike-mlops</td>\n",
       "      <td>digits</td>\n",
       "      <td>digits</td>\n",
       "      <td>p61</td>\n",
       "      <td>62</td>\n",
       "      <td>YES</td>\n",
       "      <td>FLOAT64</td>\n",
       "      <td>NEVER</td>\n",
       "      <td>None</td>\n",
       "      <td>None</td>\n",
       "      <td>NO</td>\n",
       "      <td>None</td>\n",
       "      <td>NO</td>\n",
       "      <td>NO</td>\n",
       "      <td>NaN</td>\n",
       "    </tr>\n",
       "    <tr>\n",
       "      <th>62</th>\n",
       "      <td>statmike-mlops</td>\n",
       "      <td>digits</td>\n",
       "      <td>digits</td>\n",
       "      <td>p62</td>\n",
       "      <td>63</td>\n",
       "      <td>YES</td>\n",
       "      <td>FLOAT64</td>\n",
       "      <td>NEVER</td>\n",
       "      <td>None</td>\n",
       "      <td>None</td>\n",
       "      <td>NO</td>\n",
       "      <td>None</td>\n",
       "      <td>NO</td>\n",
       "      <td>NO</td>\n",
       "      <td>NaN</td>\n",
       "    </tr>\n",
       "    <tr>\n",
       "      <th>63</th>\n",
       "      <td>statmike-mlops</td>\n",
       "      <td>digits</td>\n",
       "      <td>digits</td>\n",
       "      <td>p63</td>\n",
       "      <td>64</td>\n",
       "      <td>YES</td>\n",
       "      <td>FLOAT64</td>\n",
       "      <td>NEVER</td>\n",
       "      <td>None</td>\n",
       "      <td>None</td>\n",
       "      <td>NO</td>\n",
       "      <td>None</td>\n",
       "      <td>NO</td>\n",
       "      <td>NO</td>\n",
       "      <td>NaN</td>\n",
       "    </tr>\n",
       "    <tr>\n",
       "      <th>64</th>\n",
       "      <td>statmike-mlops</td>\n",
       "      <td>digits</td>\n",
       "      <td>digits</td>\n",
       "      <td>target</td>\n",
       "      <td>65</td>\n",
       "      <td>YES</td>\n",
       "      <td>INT64</td>\n",
       "      <td>NEVER</td>\n",
       "      <td>None</td>\n",
       "      <td>None</td>\n",
       "      <td>NO</td>\n",
       "      <td>None</td>\n",
       "      <td>NO</td>\n",
       "      <td>NO</td>\n",
       "      <td>NaN</td>\n",
       "    </tr>\n",
       "    <tr>\n",
       "      <th>65</th>\n",
       "      <td>statmike-mlops</td>\n",
       "      <td>digits</td>\n",
       "      <td>digits</td>\n",
       "      <td>target_OE</td>\n",
       "      <td>66</td>\n",
       "      <td>YES</td>\n",
       "      <td>STRING</td>\n",
       "      <td>NEVER</td>\n",
       "      <td>None</td>\n",
       "      <td>None</td>\n",
       "      <td>NO</td>\n",
       "      <td>None</td>\n",
       "      <td>NO</td>\n",
       "      <td>NO</td>\n",
       "      <td>NaN</td>\n",
       "    </tr>\n",
       "  </tbody>\n",
       "</table>\n",
       "<p>66 rows × 15 columns</p>\n",
       "</div>"
      ],
      "text/plain": [
       "     table_catalog table_schema table_name column_name  ordinal_position  \\\n",
       "0   statmike-mlops       digits     digits          p0                 1   \n",
       "1   statmike-mlops       digits     digits          p1                 2   \n",
       "2   statmike-mlops       digits     digits          p2                 3   \n",
       "3   statmike-mlops       digits     digits          p3                 4   \n",
       "4   statmike-mlops       digits     digits          p4                 5   \n",
       "..             ...          ...        ...         ...               ...   \n",
       "61  statmike-mlops       digits     digits         p61                62   \n",
       "62  statmike-mlops       digits     digits         p62                63   \n",
       "63  statmike-mlops       digits     digits         p63                64   \n",
       "64  statmike-mlops       digits     digits      target                65   \n",
       "65  statmike-mlops       digits     digits   target_OE                66   \n",
       "\n",
       "   is_nullable data_type is_generated generation_expression is_stored  \\\n",
       "0          YES   FLOAT64        NEVER                  None      None   \n",
       "1          YES   FLOAT64        NEVER                  None      None   \n",
       "2          YES   FLOAT64        NEVER                  None      None   \n",
       "3          YES   FLOAT64        NEVER                  None      None   \n",
       "4          YES   FLOAT64        NEVER                  None      None   \n",
       "..         ...       ...          ...                   ...       ...   \n",
       "61         YES   FLOAT64        NEVER                  None      None   \n",
       "62         YES   FLOAT64        NEVER                  None      None   \n",
       "63         YES   FLOAT64        NEVER                  None      None   \n",
       "64         YES     INT64        NEVER                  None      None   \n",
       "65         YES    STRING        NEVER                  None      None   \n",
       "\n",
       "   is_hidden is_updatable is_system_defined is_partitioning_column  \\\n",
       "0         NO         None                NO                     NO   \n",
       "1         NO         None                NO                     NO   \n",
       "2         NO         None                NO                     NO   \n",
       "3         NO         None                NO                     NO   \n",
       "4         NO         None                NO                     NO   \n",
       "..       ...          ...               ...                    ...   \n",
       "61        NO         None                NO                     NO   \n",
       "62        NO         None                NO                     NO   \n",
       "63        NO         None                NO                     NO   \n",
       "64        NO         None                NO                     NO   \n",
       "65        NO         None                NO                     NO   \n",
       "\n",
       "    clustering_ordinal_position  \n",
       "0                           NaN  \n",
       "1                           NaN  \n",
       "2                           NaN  \n",
       "3                           NaN  \n",
       "4                           NaN  \n",
       "..                          ...  \n",
       "61                          NaN  \n",
       "62                          NaN  \n",
       "63                          NaN  \n",
       "64                          NaN  \n",
       "65                          NaN  \n",
       "\n",
       "[66 rows x 15 columns]"
      ]
     },
     "execution_count": 21,
     "metadata": {},
     "output_type": "execute_result"
    }
   ],
   "source": [
    "schema"
   ]
  },
  {
   "cell_type": "markdown",
   "id": "396b3d60",
   "metadata": {},
   "source": [
    "Prepare a request for `batch_create_features`:\n",
    "- specification for the features, data type and descriptions ...."
   ]
  },
  {
   "cell_type": "code",
   "execution_count": 23,
   "id": "b9f529c5",
   "metadata": {},
   "outputs": [],
   "source": [
    "REQUESTS = []\n",
    "for i in range(schema.shape[0]):\n",
    "    \n",
    "    if schema['data_type'][i] == 'STRING': value_type = types.feature.Feature.ValueType.STRING\n",
    "    elif schema['data_type'][i] == 'INT64': value_type = types.feature.Feature.ValueType.INT64\n",
    "    elif schema['data_type'][i] == 'FLOAT64': value_type = types.feature.Feature.ValueType.DOUBLE\n",
    "    \n",
    "    description = f\"Column named {schema['column_name'][i]} from BQ Table {PROJECT_ID}.{DATANAME}.{DATANAME}\"\n",
    "    \n",
    "    REQUESTS.append(\n",
    "        types.featurestore_service.CreateFeatureRequest(\n",
    "            feature=types.feature.Feature(\n",
    "                value_type = value_type,\n",
    "                description = description,\n",
    "                # optional, monitoring_config here as override, otherwise it inherits from entity_type\n",
    "            ),\n",
    "            feature_id = schema['column_name'][i].lower(),\n",
    "        )    \n",
    "    )"
   ]
  },
  {
   "cell_type": "code",
   "execution_count": 24,
   "id": "dfb14c4e",
   "metadata": {},
   "outputs": [],
   "source": [
    "batchfeatures = clients['fs'].batch_create_features(\n",
    "    parent = clients['fs'].entity_type_path(PROJECT_ID, REGION, FEATURESTORE_ID, ENTITYTYPE_ID),\n",
    "    requests = REQUESTS,\n",
    ")"
   ]
  },
  {
   "cell_type": "code",
   "execution_count": 26,
   "id": "3941d58b",
   "metadata": {},
   "outputs": [],
   "source": [
    "#list(item.name for item in batchfeatures.result().features)"
   ]
  },
  {
   "cell_type": "markdown",
   "id": "03311c90",
   "metadata": {},
   "source": [
    "---\n",
    "## Search Features\n",
    "Search goes across all Feature Stores and Entity Types.\n",
    "\n",
    "Also, use the list_features function to list all."
   ]
  },
  {
   "cell_type": "code",
   "execution_count": 27,
   "id": "f60de2fc",
   "metadata": {},
   "outputs": [
    {
     "data": {
      "text/plain": [
       "name: \"projects/691911073727/locations/us-central1/featurestores/digits/entityTypes/drawing/features/p0\"\n",
       "description: \"Column named p0 from BQ Table statmike-mlops.digits.digits\"\n",
       "create_time {\n",
       "  seconds: 1631812646\n",
       "  nanos: 231977000\n",
       "}\n",
       "update_time {\n",
       "  seconds: 1631812646\n",
       "  nanos: 231977000\n",
       "}"
      ]
     },
     "execution_count": 27,
     "metadata": {},
     "output_type": "execute_result"
    }
   ],
   "source": [
    "# return the first feature:\n",
    "list(clients['fs'].search_features(location = PARENT))[0]"
   ]
  },
  {
   "cell_type": "code",
   "execution_count": 28,
   "id": "80b848ae",
   "metadata": {},
   "outputs": [
    {
     "data": {
      "text/plain": [
       "[name: \"projects/691911073727/locations/us-central1/featurestores/digits/entityTypes/drawing/features/target\"\n",
       " description: \"Column named target from BQ Table statmike-mlops.digits.digits\"\n",
       " create_time {\n",
       "   seconds: 1631812646\n",
       "   nanos: 328113000\n",
       " }\n",
       " update_time {\n",
       "   seconds: 1631812646\n",
       "   nanos: 328113000\n",
       " }]"
      ]
     },
     "execution_count": 28,
     "metadata": {},
     "output_type": "execute_result"
    }
   ],
   "source": [
    "# find all features with INT64 value type\n",
    "list(clients['fs'].search_features(types.featurestore_service.SearchFeaturesRequest(location = PARENT, query = \"value_type=INT64\")))"
   ]
  },
  {
   "cell_type": "code",
   "execution_count": 30,
   "id": "e7f0633b",
   "metadata": {},
   "outputs": [
    {
     "data": {
      "text/plain": [
       "[name: \"projects/691911073727/locations/us-central1/featurestores/digits/entityTypes/drawing/features/p19\"\n",
       " description: \"Column named p19 from BQ Table statmike-mlops.digits.digits\"\n",
       " create_time {\n",
       "   seconds: 1631812646\n",
       "   nanos: 256765000\n",
       " }\n",
       " update_time {\n",
       "   seconds: 1631812646\n",
       "   nanos: 256765000\n",
       " },\n",
       " name: \"projects/691911073727/locations/us-central1/featurestores/digits/entityTypes/drawing/features/p29\"\n",
       " description: \"Column named p29 from BQ Table statmike-mlops.digits.digits\"\n",
       " create_time {\n",
       "   seconds: 1631812646\n",
       "   nanos: 269066000\n",
       " }\n",
       " update_time {\n",
       "   seconds: 1631812646\n",
       "   nanos: 269066000\n",
       " },\n",
       " name: \"projects/691911073727/locations/us-central1/featurestores/digits/entityTypes/drawing/features/p39\"\n",
       " description: \"Column named p39 from BQ Table statmike-mlops.digits.digits\"\n",
       " create_time {\n",
       "   seconds: 1631812646\n",
       "   nanos: 284866000\n",
       " }\n",
       " update_time {\n",
       "   seconds: 1631812646\n",
       "   nanos: 284866000\n",
       " },\n",
       " name: \"projects/691911073727/locations/us-central1/featurestores/digits/entityTypes/drawing/features/p49\"\n",
       " description: \"Column named p49 from BQ Table statmike-mlops.digits.digits\"\n",
       " create_time {\n",
       "   seconds: 1631812646\n",
       "   nanos: 300041000\n",
       " }\n",
       " update_time {\n",
       "   seconds: 1631812646\n",
       "   nanos: 300041000\n",
       " },\n",
       " name: \"projects/691911073727/locations/us-central1/featurestores/digits/entityTypes/drawing/features/p59\"\n",
       " description: \"Column named p59 from BQ Table statmike-mlops.digits.digits\"\n",
       " create_time {\n",
       "   seconds: 1631812646\n",
       "   nanos: 321477000\n",
       " }\n",
       " update_time {\n",
       "   seconds: 1631812646\n",
       "   nanos: 321477000\n",
       " },\n",
       " name: \"projects/691911073727/locations/us-central1/featurestores/digits/entityTypes/drawing/features/p9\"\n",
       " description: \"Column named p9 from BQ Table statmike-mlops.digits.digits\"\n",
       " create_time {\n",
       "   seconds: 1631812646\n",
       "   nanos: 244342000\n",
       " }\n",
       " update_time {\n",
       "   seconds: 1631812646\n",
       "   nanos: 244342000\n",
       " }]"
      ]
     },
     "execution_count": 30,
     "metadata": {},
     "output_type": "execute_result"
    }
   ],
   "source": [
    "# find all features of the form p*9 with DOUBLE value type\n",
    "list(clients['fs'].search_features(types.featurestore_service.SearchFeaturesRequest(location = PARENT, query = \"feature_id:p*9 AND value_type=DOUBLE\")))"
   ]
  },
  {
   "cell_type": "markdown",
   "id": "d0d3f5fb",
   "metadata": {},
   "source": [
    "---\n",
    "## Import Feature Values\n",
    "- BigQuery (THIS DEMO)\n",
    "- Avro\n",
    "- CSV"
   ]
  },
  {
   "cell_type": "markdown",
   "id": "71813e16",
   "metadata": {},
   "source": [
    "Prepare a source table with timestamp (update_time) and unique id's for each entity"
   ]
  },
  {
   "cell_type": "code",
   "execution_count": 31,
   "id": "5f382e5a",
   "metadata": {},
   "outputs": [
    {
     "name": "stderr",
     "output_type": "stream",
     "text": [
      "Query complete after 0.00s: 100%|██████████| 3/3 [00:00<00:00, 1598.85query/s]                        \n"
     ]
    },
    {
     "data": {
      "text/html": [
       "<div>\n",
       "<style scoped>\n",
       "    .dataframe tbody tr th:only-of-type {\n",
       "        vertical-align: middle;\n",
       "    }\n",
       "\n",
       "    .dataframe tbody tr th {\n",
       "        vertical-align: top;\n",
       "    }\n",
       "\n",
       "    .dataframe thead th {\n",
       "        text-align: right;\n",
       "    }\n",
       "</style>\n",
       "<table border=\"1\" class=\"dataframe\">\n",
       "  <thead>\n",
       "    <tr style=\"text-align: right;\">\n",
       "      <th></th>\n",
       "    </tr>\n",
       "  </thead>\n",
       "  <tbody>\n",
       "  </tbody>\n",
       "</table>\n",
       "</div>"
      ],
      "text/plain": [
       "Empty DataFrame\n",
       "Columns: []\n",
       "Index: []"
      ]
     },
     "execution_count": 31,
     "metadata": {},
     "output_type": "execute_result"
    }
   ],
   "source": [
    "%%bigquery\n",
    "CREATE OR REPLACE TABLE `statmike-mlops.digits.digits_featurestore_import` AS\n",
    "WITH A AS (SELECT GENERATE_UUID() unique_id, target_OE as target_oe, CAST(FLOOR(10*RAND()) AS INT64) daytrick, * EXCEPT(target_OE) FROM `statmike-mlops.digits.digits`)\n",
    "SELECT * EXCEPT(daytrick), DATE_SUB(CURRENT_TIMESTAMP, INTERVAL daytrick DAY) AS update_time FROM A"
   ]
  },
  {
   "cell_type": "markdown",
   "id": "92804c9c",
   "metadata": {},
   "source": [
    "Create Feature specification for each feature in the input source:"
   ]
  },
  {
   "cell_type": "code",
   "execution_count": 32,
   "id": "765d249e",
   "metadata": {},
   "outputs": [],
   "source": [
    "FEATURE_SPECS = []\n",
    "for i in range(schema.shape[0]):\n",
    "    FEATURE_SPECS.append(types.featurestore_service.ImportFeatureValuesRequest.FeatureSpec(id = schema['column_name'][i].lower()))"
   ]
  },
  {
   "cell_type": "code",
   "execution_count": 33,
   "id": "3edc3a4c",
   "metadata": {},
   "outputs": [],
   "source": [
    "import_request = types.featurestore_service.ImportFeatureValuesRequest(\n",
    "    entity_type = clients['fs'].entity_type_path(PROJECT_ID, REGION, FEATURESTORE_ID, ENTITYTYPE_ID),\n",
    "    bigquery_source = types.BigQuerySource(input_uri = f'bq://{PROJECT_ID}.{DATANAME}.{DATANAME}_featurestore_import'),\n",
    "    feature_time_field = \"update_time\",\n",
    "    feature_time = Timestamp().GetCurrentTime(),\n",
    "    entity_id_field = \"unique_id\",\n",
    "    feature_specs = FEATURE_SPECS,\n",
    "    worker_count = 4,\n",
    ")"
   ]
  },
  {
   "cell_type": "code",
   "execution_count": 34,
   "id": "82f1e3a7",
   "metadata": {},
   "outputs": [],
   "source": [
    "importjob = clients['fs'].import_feature_values(import_request)"
   ]
  },
  {
   "cell_type": "code",
   "execution_count": 35,
   "id": "18831d9e",
   "metadata": {},
   "outputs": [
    {
     "data": {
      "text/plain": [
       "imported_entity_count: 1797\n",
       "imported_feature_value_count: 118602"
      ]
     },
     "execution_count": 35,
     "metadata": {},
     "output_type": "execute_result"
    }
   ],
   "source": [
    "importjob.result()"
   ]
  },
  {
   "cell_type": "markdown",
   "id": "5b1038f8",
   "metadata": {},
   "source": [
    "---\n",
    "## Prediction with Feature Store for Serving Features"
   ]
  },
  {
   "cell_type": "markdown",
   "id": "74f0639e",
   "metadata": {},
   "source": [
    "### Entity Id's\n",
    "Retrieve a list of entity id's from the source BigQuery table.  These are in the column `unique_id`."
   ]
  },
  {
   "cell_type": "code",
   "execution_count": 53,
   "id": "89b323d5",
   "metadata": {},
   "outputs": [],
   "source": [
    "unique_id = clients['bq'].query(query = f\"SELECT unique_id FROM {PROJECT_ID}.{DATANAME}.{DATANAME}_featurestore_import LIMIT 5\").to_dataframe()"
   ]
  },
  {
   "cell_type": "code",
   "execution_count": 54,
   "id": "a4d507d7",
   "metadata": {},
   "outputs": [
    {
     "data": {
      "text/plain": [
       "'d2c55b92-c10e-4ef5-a61c-f7e21010a982'"
      ]
     },
     "execution_count": 54,
     "metadata": {},
     "output_type": "execute_result"
    }
   ],
   "source": [
    "unique_id['unique_id'][0]"
   ]
  },
  {
   "cell_type": "markdown",
   "id": "745893dd",
   "metadata": {},
   "source": [
    "### Data For Prediction: Single Entity Served by Vertex AI > Features (Feature Store)"
   ]
  },
  {
   "cell_type": "code",
   "execution_count": 55,
   "id": "84e106c2",
   "metadata": {},
   "outputs": [],
   "source": [
    "feature_values = clients['fs_olserve'].read_feature_values(\n",
    "    types.featurestore_online_service.ReadFeatureValuesRequest(\n",
    "        entity_type = clients['fs'].entity_type_path(PROJECT_ID, REGION, FEATURESTORE_ID, ENTITYTYPE_ID),\n",
    "        entity_id = unique_id['unique_id'][0],\n",
    "        feature_selector = types.FeatureSelector(id_matcher=types.IdMatcher(ids=['*'])),\n",
    "    )\n",
    ")"
   ]
  },
  {
   "cell_type": "code",
   "execution_count": 57,
   "id": "3e07d59c",
   "metadata": {},
   "outputs": [
    {
     "name": "stdout",
     "output_type": "stream",
     "text": [
      "['p10', 'target', 'p42', 'p63', 'p9', 'p5', 'p7', 'p44', 'p39', 'p28', 'p17', 'p29', 'p36', 'p38', 'p50', 'p45', 'p13', 'p35', 'p49', 'p62', 'p25', 'p14', 'p41', 'p1', 'p61', 'p8', 'p47', 'p20', 'p52', 'p27', 'p33', 'p31', 'p2', 'p46', 'p12', 'p21', 'p0', 'p23', 'p43', 'p58', 'target_oe', 'p32', 'p54', 'p18', 'p48', 'p11', 'p40', 'p34', 'p37', 'p6', 'p55', 'p15', 'p60', 'p22', 'p4', 'p59', 'p56', 'p53', 'p3', 'p57', 'p26', 'p24', 'p16', 'p19', 'p51', 'p30']\n"
     ]
    }
   ],
   "source": [
    "print(list(item.id for item in feature_values.header.feature_descriptors))"
   ]
  },
  {
   "cell_type": "code",
   "execution_count": 58,
   "id": "8bf800be",
   "metadata": {},
   "outputs": [
    {
     "name": "stdout",
     "output_type": "stream",
     "text": [
      "[9.0, 0.0, 16.0, 0.0, 0.0, 1.0, 0.0, 3.0, 0.0, 0.0, 0.0, 10.0, 0.0, 8.0, 11.0, 14.0, 12.0, 0.0, 0.0, 0.0, 6.0, 0.0, 3.0, 0.0, 6.0, 0.0, 0.0, 0.0, 16.0, 0.0, 7.0, 0.0, 1.0, 7.0, 16.0, 13.0, 0.0, 0.0, 1.0, 0.0, 0.0, 0.0, 1.0, 14.0, 0.0, 16.0, 0.0, 13.0, 9.0, 0.0, 0.0, 0.0, 16.0, 3.0, 12.0, 11.0, 0.0, 16.0, 13.0, 0.0, 10.0, 0.0, 0.0, 6.0, 16.0, 6.0]\n"
     ]
    }
   ],
   "source": [
    "print(list(item.value.double_value for item in feature_values.entity_view.data))"
   ]
  },
  {
   "cell_type": "markdown",
   "id": "857a62fc",
   "metadata": {},
   "source": [
    "### Prepare Prediction Request"
   ]
  },
  {
   "cell_type": "code",
   "execution_count": 60,
   "id": "b28c667a",
   "metadata": {},
   "outputs": [],
   "source": [
    "newob = {}\n",
    "features = list(item.id for item in feature_values.header.feature_descriptors)\n",
    "for e, f in enumerate(features):\n",
    "    if f.startswith('p'):\n",
    "        newob[f] = feature_values.entity_view.data[e].value.double_value"
   ]
  },
  {
   "cell_type": "code",
   "execution_count": 62,
   "id": "0a6c537a",
   "metadata": {},
   "outputs": [],
   "source": [
    "instances = [json_format.ParseDict(newob, Value())]\n",
    "parameters = json_format.ParseDict({}, Value())"
   ]
  },
  {
   "cell_type": "markdown",
   "id": "93b659b7",
   "metadata": {},
   "source": [
    "### Pick An Endpoint\n",
    "A list index of [0] here retrieves the first endpoint in this project:"
   ]
  },
  {
   "cell_type": "code",
   "execution_count": 83,
   "id": "62534ca2",
   "metadata": {},
   "outputs": [
    {
     "data": {
      "text/plain": [
       "'04a_digits_20210916111550'"
      ]
     },
     "execution_count": 83,
     "metadata": {},
     "output_type": "execute_result"
    }
   ],
   "source": [
    "aiplatform.Endpoint.list()[0].display_name"
   ]
  },
  {
   "cell_type": "code",
   "execution_count": 91,
   "id": "46cf16a7",
   "metadata": {},
   "outputs": [],
   "source": [
    "endpoint = aiplatform.Endpoint(endpoint_name = aiplatform.Endpoint.list()[0].name)"
   ]
  },
  {
   "cell_type": "markdown",
   "id": "045437fe",
   "metadata": {},
   "source": [
    "### Get Predictions: Python Client"
   ]
  },
  {
   "cell_type": "code",
   "execution_count": 92,
   "id": "b60adfc8",
   "metadata": {},
   "outputs": [],
   "source": [
    "prediction = endpoint.predict(instances = instances, parameters = parameters)"
   ]
  },
  {
   "cell_type": "code",
   "execution_count": 93,
   "id": "53c240ce",
   "metadata": {},
   "outputs": [
    {
     "data": {
      "text/plain": [
       "Prediction(predictions=[[0.999998927, 1.82380066e-11, 6.84882536e-07, 6.92010627e-09, 2.78563981e-08, 9.37663316e-08, 8.60855423e-08, 6.19005958e-09, 1.76400889e-07, 2.36027162e-08]], deployed_model_id='1563391185488183296', explanations=None)"
      ]
     },
     "execution_count": 93,
     "metadata": {},
     "output_type": "execute_result"
    }
   ],
   "source": [
    "prediction"
   ]
  },
  {
   "cell_type": "code",
   "execution_count": 94,
   "id": "cc44928e",
   "metadata": {},
   "outputs": [
    {
     "data": {
      "text/plain": [
       "[0.999998927,\n",
       " 1.82380066e-11,\n",
       " 6.84882536e-07,\n",
       " 6.92010627e-09,\n",
       " 2.78563981e-08,\n",
       " 9.37663316e-08,\n",
       " 8.60855423e-08,\n",
       " 6.19005958e-09,\n",
       " 1.76400889e-07,\n",
       " 2.36027162e-08]"
      ]
     },
     "execution_count": 94,
     "metadata": {},
     "output_type": "execute_result"
    }
   ],
   "source": [
    "prediction.predictions[0]"
   ]
  },
  {
   "cell_type": "code",
   "execution_count": 97,
   "id": "1bea43f1",
   "metadata": {},
   "outputs": [
    {
     "data": {
      "text/plain": [
       "0"
      ]
     },
     "execution_count": 97,
     "metadata": {},
     "output_type": "execute_result"
    }
   ],
   "source": [
    "np.argmax(prediction.predictions[0])"
   ]
  },
  {
   "cell_type": "markdown",
   "id": "75373410",
   "metadata": {},
   "source": [
    "### Get Predictions: REST"
   ]
  },
  {
   "cell_type": "code",
   "execution_count": 98,
   "id": "028c49a1",
   "metadata": {},
   "outputs": [],
   "source": [
    "with open(f'{DIR}/request.json','w') as file:\n",
    "    file.write(json.dumps({\"instances\": [newob]}))"
   ]
  },
  {
   "cell_type": "code",
   "execution_count": 99,
   "id": "5f01d3ea",
   "metadata": {},
   "outputs": [
    {
     "name": "stdout",
     "output_type": "stream",
     "text": [
      "{\n",
      "  \"predictions\": [\n",
      "    [\n",
      "      0.999998927,\n",
      "      1.82380066e-11,\n",
      "      6.84882536e-07,\n",
      "      6.92010627e-09,\n",
      "      2.78563981e-08,\n",
      "      9.37663316e-08,\n",
      "      8.60855423e-08,\n",
      "      6.19005958e-09,\n",
      "      1.76400889e-07,\n",
      "      2.36027162e-08\n",
      "    ]\n",
      "  ],\n",
      "  \"deployedModelId\": \"1563391185488183296\"\n",
      "}\n"
     ]
    }
   ],
   "source": [
    "!curl -X POST \\\n",
    "-H \"Authorization: Bearer \"$(gcloud auth application-default print-access-token) \\\n",
    "-H \"Content-Type: application/json; charset=utf-8\" \\\n",
    "-d @{DIR}/request.json \\\n",
    "https://{REGION}-aiplatform.googleapis.com/v1/{endpoint.resource_name}:predict"
   ]
  },
  {
   "cell_type": "markdown",
   "id": "f1aa9546",
   "metadata": {},
   "source": [
    "### Get Predictions: gcloud (CLI)"
   ]
  },
  {
   "cell_type": "code",
   "execution_count": 100,
   "id": "6831defe",
   "metadata": {},
   "outputs": [
    {
     "name": "stdout",
     "output_type": "stream",
     "text": [
      "Using endpoint [https://us-central1-prediction-aiplatform.googleapis.com/]\n",
      "[[0.999998927, 1.82380066e-11, 6.84882536e-07, 6.92010627e-09, 2.78563981e-08, 9.37663316e-08, 8.60855423e-08, 6.19005958e-09, 1.76400889e-07, 2.36027162e-08]]\n"
     ]
    }
   ],
   "source": [
    "!gcloud beta ai endpoints predict {endpoint.name.rsplit('/',1)[-1]} --region={REGION} --json-request={DIR}/request.json"
   ]
  },
  {
   "cell_type": "markdown",
   "id": "bd067b6b",
   "metadata": {},
   "source": [
    "### Data For Prediction: Multiple Entities Served by Vertex AI > Features (Feature Store)"
   ]
  },
  {
   "cell_type": "code",
   "execution_count": 107,
   "id": "7946d956",
   "metadata": {},
   "outputs": [
    {
     "data": {
      "text/plain": [
       "0    d2c55b92-c10e-4ef5-a61c-f7e21010a982\n",
       "1    a513340f-45a2-4186-ad78-88d0f84abab9\n",
       "2    54ac5d3b-249d-4ac5-a8c0-bfe590bad3f2\n",
       "3    bcb853a0-fe04-4af1-a930-bb2118a4aa34\n",
       "4    bc12dad9-ade6-4180-b592-dec0512a0eaa\n",
       "Name: unique_id, dtype: object"
      ]
     },
     "execution_count": 107,
     "metadata": {},
     "output_type": "execute_result"
    }
   ],
   "source": [
    "unique_id['unique_id']"
   ]
  },
  {
   "cell_type": "code",
   "execution_count": 108,
   "id": "e5a19527",
   "metadata": {},
   "outputs": [],
   "source": [
    "multi_feature_values = clients['fs_olserve'].streaming_read_feature_values(\n",
    "    types.featurestore_online_service.StreamingReadFeatureValuesRequest(\n",
    "        entity_type = clients['fs'].entity_type_path(PROJECT_ID, REGION, FEATURESTORE_ID, ENTITYTYPE_ID),\n",
    "        entity_ids = unique_id['unique_id'],\n",
    "        feature_selector = types.FeatureSelector(id_matcher=types.IdMatcher(ids=['*'])),\n",
    "    )\n",
    ")"
   ]
  },
  {
   "cell_type": "code",
   "execution_count": 109,
   "id": "fe1a8f38",
   "metadata": {},
   "outputs": [
    {
     "name": "stdout",
     "output_type": "stream",
     "text": [
      "\n",
      "[]\n",
      "54ac5d3b-249d-4ac5-a8c0-bfe590bad3f2\n",
      "[10.0, 0.0, 0.0, 14.0, 1.0, 12.0, 0.0, 0.0, 9.0, 0.0, 0.0, 16.0, 2.0, 8.0, 0.0, 14.0, 13.0, 0.0, 13.0, 0.0, 0.0, 5.0, 0.0, 0.0, 8.0, 0.0, 2.0, 15.0, 3.0, 10.0, 7.0, 12.0, 0.0, 0.0, 1.0, 3.0, 14.0, 5.0, 0.0, 15.0, 3.0, 0.0, 0.0, 8.0, 0.0, 0.0, 0.0, 0.0, 15.0, 4.0, 15.0, 0.0, 15.0, 0.0, 0.0, 15.0, 0.0, 0.0, 4.0, 7.0, 2.0, 0.0, 3.0, 0.0, 0.0, 0.0]\n",
      "a513340f-45a2-4186-ad78-88d0f84abab9\n",
      "[10.0, 0.0, 0.0, 9.0, 3.0, 14.0, 0.0, 0.0, 5.0, 0.0, 0.0, 12.0, 2.0, 8.0, 0.0, 16.0, 11.0, 0.0, 12.0, 0.0, 0.0, 1.0, 0.0, 0.0, 12.0, 0.0, 8.0, 12.0, 4.0, 9.0, 6.0, 12.0, 0.0, 0.0, 1.0, 0.0, 13.0, 8.0, 0.0, 13.0, 6.0, 0.0, 3.0, 8.0, 0.0, 0.0, 0.0, 0.0, 12.0, 3.0, 14.0, 0.0, 16.0, 0.0, 0.0, 15.0, 0.0, 0.0, 4.0, 8.0, 4.0, 0.0, 4.0, 0.0, 0.0, 0.0]\n",
      "bc12dad9-ade6-4180-b592-dec0512a0eaa\n",
      "[9.0, 0.0, 0.0, 5.0, 1.0, 9.0, 0.0, 0.0, 2.0, 0.0, 0.0, 13.0, 0.0, 5.0, 0.0, 5.0, 8.0, 0.0, 13.0, 0.0, 2.0, 0.0, 7.0, 0.0, 5.0, 0.0, 12.0, 14.0, 2.0, 10.0, 3.0, 8.0, 0.0, 13.0, 0.0, 0.0, 16.0, 10.0, 0.0, 7.0, 0.0, 0.0, 13.0, 3.0, 0.0, 0.0, 0.0, 0.0, 1.0, 16.0, 9.0, 0.0, 9.0, 0.0, 0.0, 5.0, 0.0, 0.0, 7.0, 5.0, 12.0, 0.0, 0.0, 0.0, 0.0, 0.0]\n",
      "bcb853a0-fe04-4af1-a930-bb2118a4aa34\n",
      "[10.0, 0.0, 0.0, 12.0, 0.0, 12.0, 0.0, 5.0, 7.0, 0.0, 0.0, 12.0, 2.0, 5.0, 0.0, 16.0, 13.0, 0.0, 12.0, 0.0, 0.0, 2.0, 0.0, 0.0, 13.0, 0.0, 7.0, 16.0, 12.0, 14.0, 2.0, 10.0, 0.0, 3.0, 1.0, 0.0, 16.0, 10.0, 0.0, 13.0, 1.0, 0.0, 4.0, 7.0, 0.0, 0.0, 0.0, 0.0, 12.0, 6.0, 15.0, 0.0, 16.0, 0.0, 0.0, 16.0, 0.0, 0.0, 7.0, 9.0, 5.0, 0.0, 1.0, 0.0, 0.0, 0.0]\n",
      "d2c55b92-c10e-4ef5-a61c-f7e21010a982\n",
      "[11.0, 0.0, 0.0, 16.0, 3.0, 13.0, 0.0, 0.0, 9.0, 0.0, 0.0, 16.0, 1.0, 6.0, 0.0, 14.0, 16.0, 0.0, 16.0, 0.0, 0.0, 1.0, 0.0, 0.0, 10.0, 0.0, 7.0, 16.0, 6.0, 13.0, 7.0, 13.0, 0.0, 0.0, 0.0, 3.0, 16.0, 8.0, 0.0, 12.0, 3.0, 0.0, 1.0, 10.0, 0.0, 0.0, 0.0, 0.0, 14.0, 6.0, 12.0, 0.0, 16.0, 0.0, 0.0, 9.0, 0.0, 0.0, 6.0, 11.0, 0.0, 0.0, 1.0, 0.0, 0.0, 0.0]\n"
     ]
    }
   ],
   "source": [
    "for i in multi_feature_values:\n",
    "    print(i.entity_view.entity_id)\n",
    "    print(list(item.value.double_value for item in i.entity_view.data))"
   ]
  },
  {
   "cell_type": "markdown",
   "id": "00a39c0d",
   "metadata": {},
   "source": [
    "### Data For Training: Batch (For training or large scale prediction)"
   ]
  },
  {
   "cell_type": "code",
   "execution_count": 155,
   "id": "c983119b",
   "metadata": {},
   "outputs": [],
   "source": [
    "# get current timestamp (protobuf3 is seconds since ephoch (1970))\n",
    "timestamp = Timestamp()\n",
    "timestamp.GetCurrentTime()\n",
    "\n",
    "# adjust timestamp to 2 days ago: 60*60*24*4\n",
    "newtimestamp = Timestamp(seconds = timestamp.seconds - 60*60*24*2, nanos = timestamp.nanos)\n",
    "\n",
    "batch_request = types.featurestore_service.ExportFeatureValuesRequest(\n",
    "    entity_type = clients['fs'].entity_type_path(PROJECT_ID, REGION, FEATURESTORE_ID, ENTITYTYPE_ID),\n",
    "    snapshot_export = types.ExportFeatureValuesRequest.SnapshotExport(snapshot_time = Timestamp(seconds=newtimestamp.seconds)),\n",
    "    destination = types.FeatureValueDestination(bigquery_destination = types.BigQueryDestination(output_uri = f'bq://{PROJECT_ID}.{DATANAME}.{DATANAME}_fs_training')),\n",
    "    feature_selector = types.FeatureSelector(id_matcher=types.IdMatcher(ids = ['*']))\n",
    ")"
   ]
  },
  {
   "cell_type": "code",
   "execution_count": 156,
   "id": "4d535d4b",
   "metadata": {},
   "outputs": [],
   "source": [
    "batchjob = clients['fs'].export_feature_values(batch_request)"
   ]
  },
  {
   "cell_type": "code",
   "execution_count": 157,
   "id": "d4c97df2",
   "metadata": {},
   "outputs": [
    {
     "data": {
      "text/plain": []
     },
     "execution_count": 157,
     "metadata": {},
     "output_type": "execute_result"
    }
   ],
   "source": [
    "batchjob.result()"
   ]
  },
  {
   "cell_type": "markdown",
   "id": "f8379115",
   "metadata": {},
   "source": [
    "By Adjusting the `snapshot_time` to 2 days ago, the batch_request creates a BigQuery table that has all the orginal rows, 1 per entity, but the features are null for 20% of the rows.  This is because the features were loaded with `feature_time_field = \"update_time\"` and `update_time` was set to a random day between today and 10 days ago."
   ]
  },
  {
   "cell_type": "code",
   "execution_count": 159,
   "id": "03ee222c",
   "metadata": {},
   "outputs": [
    {
     "name": "stderr",
     "output_type": "stream",
     "text": [
      "Query complete after 0.00s: 100%|██████████| 1/1 [00:00<00:00, 1023.00query/s]\n",
      "Downloading: 100%|██████████| 2/2 [00:00<00:00,  2.10rows/s]\n"
     ]
    },
    {
     "data": {
      "text/html": [
       "<div>\n",
       "<style scoped>\n",
       "    .dataframe tbody tr th:only-of-type {\n",
       "        vertical-align: middle;\n",
       "    }\n",
       "\n",
       "    .dataframe tbody tr th {\n",
       "        vertical-align: top;\n",
       "    }\n",
       "\n",
       "    .dataframe thead th {\n",
       "        text-align: right;\n",
       "    }\n",
       "</style>\n",
       "<table border=\"1\" class=\"dataframe\">\n",
       "  <thead>\n",
       "    <tr style=\"text-align: right;\">\n",
       "      <th></th>\n",
       "      <th>Null_Rows</th>\n",
       "      <th>counts</th>\n",
       "    </tr>\n",
       "  </thead>\n",
       "  <tbody>\n",
       "    <tr>\n",
       "      <th>0</th>\n",
       "      <td>True</td>\n",
       "      <td>364</td>\n",
       "    </tr>\n",
       "    <tr>\n",
       "      <th>1</th>\n",
       "      <td>False</td>\n",
       "      <td>1433</td>\n",
       "    </tr>\n",
       "  </tbody>\n",
       "</table>\n",
       "</div>"
      ],
      "text/plain": [
       "   Null_Rows  counts\n",
       "0       True     364\n",
       "1      False    1433"
      ]
     },
     "execution_count": 159,
     "metadata": {},
     "output_type": "execute_result"
    }
   ],
   "source": [
    "%%bigquery\n",
    "SELECT CASE WHEN p0 is not null then False ELSE True END as Null_Rows, count(*) as counts\n",
    "FROM statmike-mlops.digits.digits_fs_training\n",
    "GROUP BY Null_Rows"
   ]
  },
  {
   "cell_type": "markdown",
   "id": "11ba8d7a",
   "metadata": {},
   "source": [
    "---\n",
    "## Remove Resources\n",
    "see notebook \"XX - Cleanup\""
   ]
  }
 ],
 "metadata": {
  "environment": {
   "name": "tf2-gpu.2-3.m79",
   "type": "gcloud",
   "uri": "gcr.io/deeplearning-platform-release/tf2-gpu.2-3:m79"
  },
  "kernelspec": {
   "display_name": "Python 3",
   "language": "python",
   "name": "python3"
  },
  "language_info": {
   "codemirror_mode": {
    "name": "ipython",
    "version": 3
   },
   "file_extension": ".py",
   "mimetype": "text/x-python",
   "name": "python",
   "nbconvert_exporter": "python",
   "pygments_lexer": "ipython3",
   "version": "3.7.10"
  }
 },
 "nbformat": 4,
 "nbformat_minor": 5
}
