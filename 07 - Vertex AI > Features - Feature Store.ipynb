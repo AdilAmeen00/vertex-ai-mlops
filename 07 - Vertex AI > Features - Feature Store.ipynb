{
 "cells": [
  {
   "cell_type": "markdown",
   "id": "60e9fd90",
   "metadata": {},
   "source": [
    "# 07 - Vertex AI > Features - Feature Store\n",
    "\n",
    "This is a demonstration of [Vertex AI Feature Store](https://cloud.google.com/vertex-ai/docs/featurestore/overview). A feature store is a central repository for organizing, storing, and retrieving features.  This is a fully managed service that scales the underlying compute and storage resources.  The feature store becomes a central location for serving features for training and prediction with low-latency. It stores feature values at points-in-time:\n",
    "\n",
    "-  Point-in-time lookups for retrieving features for model training. Retrieve feature values prior to a prediction to prevent data leakage.\n",
    "-  Manage training-serving skew\n",
    "\n",
    "**Prerequisites:**\n",
    "\n",
    "-  01 - BigQuery - Table Data Source\n",
    "-  Any of 02-05 That Deploy A Model To An Endpoint\n",
    "   -  Used to demonstrate online predictions with feature store serving features\n",
    "\n",
    "**Overview:**\n",
    "\n",
    "-  Create a Feature Store\n",
    "-  Define an entity type\n",
    "-  Define features for and entity type\n",
    "   -  For this demonstration I use metadata from a BigQuery table to define features\n",
    "      -  project.table.INFORMATION_SCHEMA.COLUMN_FIELD_PATHS\n",
    "-  Search Features\n",
    "   -  Using FeaturestoreServiceClient.search_features()\n",
    "-  Import feature values\n",
    "   -  Using a BigQuery table as the source data\n",
    "-  Serve feature values\n",
    "   -  For one entity_Id\n",
    "   -  For multiple entity_id values\n",
    "   -  Batch Feature request\n",
    "-  Use online feature serving as input to online prediction with Vertex AI Endpoint\n",
    "\n",
    "**Resources:**\n",
    "\n",
    "-  [Python Client for Vertex AI](https://googleapis.dev/python/aiplatform/latest/aiplatform.html)\n",
    "   -  Currently using the [v1beta1 services](https://googleapis.dev/python/aiplatform/latest/aiplatform_v1beta1/services.html)\n",
    "-  [Feature Store Overview](https://cloud.google.com/vertex-ai/docs/featurestore/overview)\n",
    "-  [Data Model and Concepts](https://cloud.google.com/vertex-ai/docs/featurestore/concepts)\n",
    "-  [Best Practices](https://cloud.google.com/vertex-ai/docs/featurestore/best-practices) including info on composite entity types\n",
    "\n",
    "**Related Training:**\n",
    "\n",
    "-  todo"
   ]
  },
  {
   "cell_type": "markdown",
   "id": "ab63e7c0",
   "metadata": {},
   "source": [
    "---\n",
    "## Vertex AI - Conceptual Flow\n",
    "\n",
    "<img src=\"architectures/slides/slide_35.png\">\n",
    "\n",
    "---\n",
    "## Vertex AI - Workflow\n",
    "\n",
    "<img src=\"architectures/slides/slide_36.png\">"
   ]
  },
  {
   "cell_type": "markdown",
   "id": "5ea11901",
   "metadata": {},
   "source": [
    "---\n",
    "## Setup"
   ]
  },
  {
   "cell_type": "markdown",
   "id": "ce66014a",
   "metadata": {},
   "source": [
    "inputs:"
   ]
  },
  {
   "cell_type": "code",
   "execution_count": 43,
   "id": "40159729",
   "metadata": {},
   "outputs": [],
   "source": [
    "REGION = 'us-central1'\n",
    "PROJECT_ID='statmike-mlops'\n",
    "DATANAME = 'fraud'\n",
    "NOTEBOOK = '07'\n",
    "\n",
    "ENTITYTYPE_ID = 'transaction'\n",
    "\n",
    "# Model Training\n",
    "VAR_TARGET = 'Class'\n",
    "VAR_OMIT = 'transaction_id' # add more variables to the string with space delimiters"
   ]
  },
  {
   "cell_type": "markdown",
   "id": "753cceef",
   "metadata": {},
   "source": [
    "packages:"
   ]
  },
  {
   "cell_type": "code",
   "execution_count": 44,
   "id": "8e3a4d0e",
   "metadata": {},
   "outputs": [],
   "source": [
    "from google.cloud.aiplatform_v1beta1 import (FeaturestoreOnlineServingServiceClient, FeaturestoreServiceClient, types)\n",
    "from google.cloud import aiplatform\n",
    "\n",
    "from google.protobuf.duration_pb2 import Duration\n",
    "from google.protobuf.timestamp_pb2 import Timestamp\n",
    "from google.protobuf.field_mask_pb2 import FieldMask\n",
    "\n",
    "from google.cloud import bigquery\n",
    "from google.cloud.aiplatform_v1beta1 import (PredictionServiceClient, EndpointServiceClient)\n",
    "from google.protobuf import json_format\n",
    "from google.protobuf.struct_pb2 import Value\n",
    "import json\n",
    "import numpy as np"
   ]
  },
  {
   "cell_type": "markdown",
   "id": "7d2871b3",
   "metadata": {},
   "source": [
    "clients:"
   ]
  },
  {
   "cell_type": "code",
   "execution_count": 45,
   "id": "6e393739",
   "metadata": {},
   "outputs": [],
   "source": [
    "client_options = {\"api_endpoint\": f\"{REGION}-aiplatform.googleapis.com\"}\n",
    "\n",
    "clients = {}\n",
    "clients['fs'] = FeaturestoreServiceClient(client_options = client_options)\n",
    "clients['fs_olserve'] = FeaturestoreOnlineServingServiceClient(client_options = client_options)\n",
    "\n",
    "clients['bq'] = bigquery.Client()\n",
    "\n",
    "aiplatform.init(project=PROJECT_ID, location=REGION)"
   ]
  },
  {
   "cell_type": "markdown",
   "id": "2210d4ce",
   "metadata": {},
   "source": [
    "parameters:"
   ]
  },
  {
   "cell_type": "code",
   "execution_count": 46,
   "id": "5a1b80a0",
   "metadata": {},
   "outputs": [],
   "source": [
    "PARENT = f\"projects/{PROJECT_ID}/locations/{REGION}\"\n",
    "DIR = f\"temp/{NOTEBOOK}\""
   ]
  },
  {
   "cell_type": "markdown",
   "id": "7a0eaefd",
   "metadata": {},
   "source": [
    "environment:"
   ]
  },
  {
   "cell_type": "code",
   "execution_count": 47,
   "id": "e66c4142",
   "metadata": {},
   "outputs": [],
   "source": [
    "!rm -rf {DIR}\n",
    "!mkdir -p {DIR}"
   ]
  },
  {
   "cell_type": "markdown",
   "id": "3829cad3",
   "metadata": {},
   "source": [
    "---\n",
    "## Feature Store Data model\n",
    "Feature Store organizes data with the following 3 important hierarchical concepts:\n",
    "\n",
    "Featurestore -> EntityType -> Feature\n",
    "\n",
    "- **Featurestore**: the place to store your features\n",
    "    - **EntityType**: under a Featurestore, an EntityType describes an object to be modeled, real one or virtual one.\n",
    "        - **Feature**: under an EntityType, a feature describes an attribute of the EntityType\n",
    "\n",
    "For the digits data used in these examples, the feature store will be called digits_featurestore.  The store has 1 entity type: images.  The features will be the pixels and the target values."
   ]
  },
  {
   "cell_type": "markdown",
   "id": "f23fa820",
   "metadata": {},
   "source": [
    "---\n",
    "## Create Feature Store"
   ]
  },
  {
   "cell_type": "code",
   "execution_count": 48,
   "id": "4e54b9c5",
   "metadata": {},
   "outputs": [],
   "source": [
    "FEATURESTORE_ID = DATANAME"
   ]
  },
  {
   "cell_type": "code",
   "execution_count": 49,
   "id": "c56ecb54",
   "metadata": {},
   "outputs": [],
   "source": [
    "featurestore_lro = clients['fs'].create_featurestore(\n",
    "    types.featurestore_service.CreateFeaturestoreRequest(\n",
    "        parent = PARENT,\n",
    "        featurestore_id = FEATURESTORE_ID,\n",
    "        featurestore=types.featurestore.Featurestore(\n",
    "            display_name=f\"Notebook {NOTEBOOK} demonstration of Vertex AI Features (feature store) using {DATANAME} data\",\n",
    "            online_serving_config=types.featurestore.Featurestore.OnlineServingConfig(\n",
    "                fixed_node_count=2\n",
    "            ),\n",
    "        ),\n",
    "    )\n",
    ")"
   ]
  },
  {
   "cell_type": "code",
   "execution_count": 50,
   "id": "ee4ee6ff",
   "metadata": {},
   "outputs": [
    {
     "data": {
      "text/plain": [
       "name: \"projects/691911073727/locations/us-central1/featurestores/fraud\""
      ]
     },
     "execution_count": 50,
     "metadata": {},
     "output_type": "execute_result"
    }
   ],
   "source": [
    "featurestore_lro.result()"
   ]
  },
  {
   "cell_type": "markdown",
   "id": "a81a2ddf",
   "metadata": {},
   "source": [
    "Use `get_featurestore` to see details of specified feature store:"
   ]
  },
  {
   "cell_type": "code",
   "execution_count": 51,
   "id": "b4c911b1",
   "metadata": {},
   "outputs": [
    {
     "data": {
      "text/plain": [
       "name: \"projects/691911073727/locations/us-central1/featurestores/fraud\"\n",
       "create_time {\n",
       "  seconds: 1632489662\n",
       "  nanos: 433944000\n",
       "}\n",
       "update_time {\n",
       "  seconds: 1632489662\n",
       "  nanos: 530980000\n",
       "}\n",
       "etag: \"AMEw9yOB5uzhckBozEp_Sf5DHT8XNebqDrEj8wQR-FmQtrdvYe8vVyFIkKaflRo8Ms57\"\n",
       "online_serving_config {\n",
       "  fixed_node_count: 2\n",
       "}\n",
       "state: STABLE"
      ]
     },
     "execution_count": 51,
     "metadata": {},
     "output_type": "execute_result"
    }
   ],
   "source": [
    "clients['fs'].get_featurestore(name=clients['fs'].featurestore_path(PROJECT_ID, REGION, FEATURESTORE_ID))"
   ]
  },
  {
   "cell_type": "markdown",
   "id": "99f492d2",
   "metadata": {},
   "source": [
    "Use `list_featurestores` to see details of all feature stores:"
   ]
  },
  {
   "cell_type": "code",
   "execution_count": 52,
   "id": "ace5cd81",
   "metadata": {},
   "outputs": [
    {
     "data": {
      "text/plain": [
       "ListFeaturestoresPager<featurestores {\n",
       "  name: \"projects/691911073727/locations/us-central1/featurestores/fraud\"\n",
       "  create_time {\n",
       "    seconds: 1632489662\n",
       "    nanos: 433944000\n",
       "  }\n",
       "  update_time {\n",
       "    seconds: 1632489662\n",
       "    nanos: 530980000\n",
       "  }\n",
       "  etag: \"AMEw9yNM8E8ZLIMiBFF9KgC8FUxjBsUL0e0rwyoHPaIrQGbSCZhVEwci5cxmZnTzwcfm\"\n",
       "  online_serving_config {\n",
       "    fixed_node_count: 2\n",
       "  }\n",
       "  state: STABLE\n",
       "}\n",
       ">"
      ]
     },
     "execution_count": 52,
     "metadata": {},
     "output_type": "execute_result"
    }
   ],
   "source": [
    "clients['fs'].list_featurestores(parent=PARENT)"
   ]
  },
  {
   "cell_type": "markdown",
   "id": "34eaf52c",
   "metadata": {},
   "source": [
    "---\n",
    "## Create Entity Type"
   ]
  },
  {
   "cell_type": "code",
   "execution_count": 53,
   "id": "f5ac9805",
   "metadata": {},
   "outputs": [],
   "source": [
    "entitytype_lro = clients['fs'].create_entity_type(\n",
    "    types.featurestore_service.CreateEntityTypeRequest(\n",
    "        parent=clients['fs'].featurestore_path(PROJECT_ID, REGION, FEATURESTORE_ID),\n",
    "        entity_type_id = ENTITYTYPE_ID,\n",
    "        entity_type=types.entity_type.EntityType(\n",
    "            description=f\"Entity: {ENTITYTYPE_ID}, for data: {DATANAME}\",\n",
    "            monitoring_config=types.featurestore_monitoring.FeaturestoreMonitoringConfig(\n",
    "                snapshot_analysis=types.featurestore_monitoring.FeaturestoreMonitoringConfig.SnapshotAnalysis(\n",
    "                    monitoring_interval=Duration(seconds=900),  # 15 minutes\n",
    "                ),\n",
    "            ),\n",
    "        ),\n",
    "    )\n",
    ")"
   ]
  },
  {
   "cell_type": "code",
   "execution_count": 54,
   "id": "535ff4de",
   "metadata": {},
   "outputs": [
    {
     "data": {
      "text/plain": [
       "name: \"projects/691911073727/locations/us-central1/featurestores/fraud/entityTypes/transaction\"\n",
       "etag: \"AMEw9yN873V75quSLZWa41VPozgukMtRHN3umbE3ovGcI6EdI0c9\""
      ]
     },
     "execution_count": 54,
     "metadata": {},
     "output_type": "execute_result"
    }
   ],
   "source": [
    "entitytype_lro.result()"
   ]
  },
  {
   "cell_type": "markdown",
   "id": "2f04c291",
   "metadata": {},
   "source": [
    "Use `list_entity_types` to see details of all entity types:"
   ]
  },
  {
   "cell_type": "code",
   "execution_count": 55,
   "id": "925e906a",
   "metadata": {},
   "outputs": [
    {
     "data": {
      "text/plain": [
       "ListEntityTypesPager<entity_types {\n",
       "  name: \"projects/691911073727/locations/us-central1/featurestores/fraud/entityTypes/transaction\"\n",
       "  description: \"Entity: transaction, for data: fraud\"\n",
       "  create_time {\n",
       "    seconds: 1632489671\n",
       "    nanos: 843915000\n",
       "  }\n",
       "  update_time {\n",
       "    seconds: 1632489671\n",
       "    nanos: 843915000\n",
       "  }\n",
       "  etag: \"AMEw9yMk3l3r5gFK-06abAInTUUN4ifkZlHyCSqAf0vCcRguF1v5SQ5QD62jMOTorGFv\"\n",
       "  monitoring_config {\n",
       "    snapshot_analysis {\n",
       "      monitoring_interval {\n",
       "        seconds: 86400\n",
       "      }\n",
       "    }\n",
       "  }\n",
       "}\n",
       ">"
      ]
     },
     "execution_count": 55,
     "metadata": {},
     "output_type": "execute_result"
    }
   ],
   "source": [
    "clients['fs'].list_entity_types(parent = f\"{PARENT}/featurestores/{FEATURESTORE_ID}\")"
   ]
  },
  {
   "cell_type": "markdown",
   "id": "c92cdcf0",
   "metadata": {},
   "source": [
    "---\n",
    "## Create Features"
   ]
  },
  {
   "cell_type": "markdown",
   "id": "e7c442eb",
   "metadata": {},
   "source": [
    "Get the schema of the data source for new features:"
   ]
  },
  {
   "cell_type": "code",
   "execution_count": 56,
   "id": "cbf77a54",
   "metadata": {},
   "outputs": [],
   "source": [
    "schema = clients['bq'].query(query = f\"SELECT * FROM {DATANAME}.INFORMATION_SCHEMA.COLUMNS WHERE TABLE_NAME = '{DATANAME}_prepped'\").to_dataframe()"
   ]
  },
  {
   "cell_type": "code",
   "execution_count": 57,
   "id": "a347c398",
   "metadata": {},
   "outputs": [
    {
     "data": {
      "text/html": [
       "<div>\n",
       "<style scoped>\n",
       "    .dataframe tbody tr th:only-of-type {\n",
       "        vertical-align: middle;\n",
       "    }\n",
       "\n",
       "    .dataframe tbody tr th {\n",
       "        vertical-align: top;\n",
       "    }\n",
       "\n",
       "    .dataframe thead th {\n",
       "        text-align: right;\n",
       "    }\n",
       "</style>\n",
       "<table border=\"1\" class=\"dataframe\">\n",
       "  <thead>\n",
       "    <tr style=\"text-align: right;\">\n",
       "      <th></th>\n",
       "      <th>table_catalog</th>\n",
       "      <th>table_schema</th>\n",
       "      <th>table_name</th>\n",
       "      <th>column_name</th>\n",
       "      <th>ordinal_position</th>\n",
       "      <th>is_nullable</th>\n",
       "      <th>data_type</th>\n",
       "      <th>is_generated</th>\n",
       "      <th>generation_expression</th>\n",
       "      <th>is_stored</th>\n",
       "      <th>is_hidden</th>\n",
       "      <th>is_updatable</th>\n",
       "      <th>is_system_defined</th>\n",
       "      <th>is_partitioning_column</th>\n",
       "      <th>clustering_ordinal_position</th>\n",
       "    </tr>\n",
       "  </thead>\n",
       "  <tbody>\n",
       "    <tr>\n",
       "      <th>0</th>\n",
       "      <td>statmike-mlops</td>\n",
       "      <td>fraud</td>\n",
       "      <td>fraud_prepped</td>\n",
       "      <td>Time</td>\n",
       "      <td>1</td>\n",
       "      <td>YES</td>\n",
       "      <td>INT64</td>\n",
       "      <td>NEVER</td>\n",
       "      <td>None</td>\n",
       "      <td>None</td>\n",
       "      <td>NO</td>\n",
       "      <td>None</td>\n",
       "      <td>NO</td>\n",
       "      <td>NO</td>\n",
       "      <td>NaN</td>\n",
       "    </tr>\n",
       "    <tr>\n",
       "      <th>1</th>\n",
       "      <td>statmike-mlops</td>\n",
       "      <td>fraud</td>\n",
       "      <td>fraud_prepped</td>\n",
       "      <td>V1</td>\n",
       "      <td>2</td>\n",
       "      <td>YES</td>\n",
       "      <td>FLOAT64</td>\n",
       "      <td>NEVER</td>\n",
       "      <td>None</td>\n",
       "      <td>None</td>\n",
       "      <td>NO</td>\n",
       "      <td>None</td>\n",
       "      <td>NO</td>\n",
       "      <td>NO</td>\n",
       "      <td>NaN</td>\n",
       "    </tr>\n",
       "    <tr>\n",
       "      <th>2</th>\n",
       "      <td>statmike-mlops</td>\n",
       "      <td>fraud</td>\n",
       "      <td>fraud_prepped</td>\n",
       "      <td>V2</td>\n",
       "      <td>3</td>\n",
       "      <td>YES</td>\n",
       "      <td>FLOAT64</td>\n",
       "      <td>NEVER</td>\n",
       "      <td>None</td>\n",
       "      <td>None</td>\n",
       "      <td>NO</td>\n",
       "      <td>None</td>\n",
       "      <td>NO</td>\n",
       "      <td>NO</td>\n",
       "      <td>NaN</td>\n",
       "    </tr>\n",
       "    <tr>\n",
       "      <th>3</th>\n",
       "      <td>statmike-mlops</td>\n",
       "      <td>fraud</td>\n",
       "      <td>fraud_prepped</td>\n",
       "      <td>V3</td>\n",
       "      <td>4</td>\n",
       "      <td>YES</td>\n",
       "      <td>FLOAT64</td>\n",
       "      <td>NEVER</td>\n",
       "      <td>None</td>\n",
       "      <td>None</td>\n",
       "      <td>NO</td>\n",
       "      <td>None</td>\n",
       "      <td>NO</td>\n",
       "      <td>NO</td>\n",
       "      <td>NaN</td>\n",
       "    </tr>\n",
       "    <tr>\n",
       "      <th>4</th>\n",
       "      <td>statmike-mlops</td>\n",
       "      <td>fraud</td>\n",
       "      <td>fraud_prepped</td>\n",
       "      <td>V4</td>\n",
       "      <td>5</td>\n",
       "      <td>YES</td>\n",
       "      <td>FLOAT64</td>\n",
       "      <td>NEVER</td>\n",
       "      <td>None</td>\n",
       "      <td>None</td>\n",
       "      <td>NO</td>\n",
       "      <td>None</td>\n",
       "      <td>NO</td>\n",
       "      <td>NO</td>\n",
       "      <td>NaN</td>\n",
       "    </tr>\n",
       "    <tr>\n",
       "      <th>5</th>\n",
       "      <td>statmike-mlops</td>\n",
       "      <td>fraud</td>\n",
       "      <td>fraud_prepped</td>\n",
       "      <td>V5</td>\n",
       "      <td>6</td>\n",
       "      <td>YES</td>\n",
       "      <td>FLOAT64</td>\n",
       "      <td>NEVER</td>\n",
       "      <td>None</td>\n",
       "      <td>None</td>\n",
       "      <td>NO</td>\n",
       "      <td>None</td>\n",
       "      <td>NO</td>\n",
       "      <td>NO</td>\n",
       "      <td>NaN</td>\n",
       "    </tr>\n",
       "    <tr>\n",
       "      <th>6</th>\n",
       "      <td>statmike-mlops</td>\n",
       "      <td>fraud</td>\n",
       "      <td>fraud_prepped</td>\n",
       "      <td>V6</td>\n",
       "      <td>7</td>\n",
       "      <td>YES</td>\n",
       "      <td>FLOAT64</td>\n",
       "      <td>NEVER</td>\n",
       "      <td>None</td>\n",
       "      <td>None</td>\n",
       "      <td>NO</td>\n",
       "      <td>None</td>\n",
       "      <td>NO</td>\n",
       "      <td>NO</td>\n",
       "      <td>NaN</td>\n",
       "    </tr>\n",
       "    <tr>\n",
       "      <th>7</th>\n",
       "      <td>statmike-mlops</td>\n",
       "      <td>fraud</td>\n",
       "      <td>fraud_prepped</td>\n",
       "      <td>V7</td>\n",
       "      <td>8</td>\n",
       "      <td>YES</td>\n",
       "      <td>FLOAT64</td>\n",
       "      <td>NEVER</td>\n",
       "      <td>None</td>\n",
       "      <td>None</td>\n",
       "      <td>NO</td>\n",
       "      <td>None</td>\n",
       "      <td>NO</td>\n",
       "      <td>NO</td>\n",
       "      <td>NaN</td>\n",
       "    </tr>\n",
       "    <tr>\n",
       "      <th>8</th>\n",
       "      <td>statmike-mlops</td>\n",
       "      <td>fraud</td>\n",
       "      <td>fraud_prepped</td>\n",
       "      <td>V8</td>\n",
       "      <td>9</td>\n",
       "      <td>YES</td>\n",
       "      <td>FLOAT64</td>\n",
       "      <td>NEVER</td>\n",
       "      <td>None</td>\n",
       "      <td>None</td>\n",
       "      <td>NO</td>\n",
       "      <td>None</td>\n",
       "      <td>NO</td>\n",
       "      <td>NO</td>\n",
       "      <td>NaN</td>\n",
       "    </tr>\n",
       "    <tr>\n",
       "      <th>9</th>\n",
       "      <td>statmike-mlops</td>\n",
       "      <td>fraud</td>\n",
       "      <td>fraud_prepped</td>\n",
       "      <td>V9</td>\n",
       "      <td>10</td>\n",
       "      <td>YES</td>\n",
       "      <td>FLOAT64</td>\n",
       "      <td>NEVER</td>\n",
       "      <td>None</td>\n",
       "      <td>None</td>\n",
       "      <td>NO</td>\n",
       "      <td>None</td>\n",
       "      <td>NO</td>\n",
       "      <td>NO</td>\n",
       "      <td>NaN</td>\n",
       "    </tr>\n",
       "    <tr>\n",
       "      <th>10</th>\n",
       "      <td>statmike-mlops</td>\n",
       "      <td>fraud</td>\n",
       "      <td>fraud_prepped</td>\n",
       "      <td>V10</td>\n",
       "      <td>11</td>\n",
       "      <td>YES</td>\n",
       "      <td>FLOAT64</td>\n",
       "      <td>NEVER</td>\n",
       "      <td>None</td>\n",
       "      <td>None</td>\n",
       "      <td>NO</td>\n",
       "      <td>None</td>\n",
       "      <td>NO</td>\n",
       "      <td>NO</td>\n",
       "      <td>NaN</td>\n",
       "    </tr>\n",
       "    <tr>\n",
       "      <th>11</th>\n",
       "      <td>statmike-mlops</td>\n",
       "      <td>fraud</td>\n",
       "      <td>fraud_prepped</td>\n",
       "      <td>V11</td>\n",
       "      <td>12</td>\n",
       "      <td>YES</td>\n",
       "      <td>FLOAT64</td>\n",
       "      <td>NEVER</td>\n",
       "      <td>None</td>\n",
       "      <td>None</td>\n",
       "      <td>NO</td>\n",
       "      <td>None</td>\n",
       "      <td>NO</td>\n",
       "      <td>NO</td>\n",
       "      <td>NaN</td>\n",
       "    </tr>\n",
       "    <tr>\n",
       "      <th>12</th>\n",
       "      <td>statmike-mlops</td>\n",
       "      <td>fraud</td>\n",
       "      <td>fraud_prepped</td>\n",
       "      <td>V12</td>\n",
       "      <td>13</td>\n",
       "      <td>YES</td>\n",
       "      <td>FLOAT64</td>\n",
       "      <td>NEVER</td>\n",
       "      <td>None</td>\n",
       "      <td>None</td>\n",
       "      <td>NO</td>\n",
       "      <td>None</td>\n",
       "      <td>NO</td>\n",
       "      <td>NO</td>\n",
       "      <td>NaN</td>\n",
       "    </tr>\n",
       "    <tr>\n",
       "      <th>13</th>\n",
       "      <td>statmike-mlops</td>\n",
       "      <td>fraud</td>\n",
       "      <td>fraud_prepped</td>\n",
       "      <td>V13</td>\n",
       "      <td>14</td>\n",
       "      <td>YES</td>\n",
       "      <td>FLOAT64</td>\n",
       "      <td>NEVER</td>\n",
       "      <td>None</td>\n",
       "      <td>None</td>\n",
       "      <td>NO</td>\n",
       "      <td>None</td>\n",
       "      <td>NO</td>\n",
       "      <td>NO</td>\n",
       "      <td>NaN</td>\n",
       "    </tr>\n",
       "    <tr>\n",
       "      <th>14</th>\n",
       "      <td>statmike-mlops</td>\n",
       "      <td>fraud</td>\n",
       "      <td>fraud_prepped</td>\n",
       "      <td>V14</td>\n",
       "      <td>15</td>\n",
       "      <td>YES</td>\n",
       "      <td>FLOAT64</td>\n",
       "      <td>NEVER</td>\n",
       "      <td>None</td>\n",
       "      <td>None</td>\n",
       "      <td>NO</td>\n",
       "      <td>None</td>\n",
       "      <td>NO</td>\n",
       "      <td>NO</td>\n",
       "      <td>NaN</td>\n",
       "    </tr>\n",
       "    <tr>\n",
       "      <th>15</th>\n",
       "      <td>statmike-mlops</td>\n",
       "      <td>fraud</td>\n",
       "      <td>fraud_prepped</td>\n",
       "      <td>V15</td>\n",
       "      <td>16</td>\n",
       "      <td>YES</td>\n",
       "      <td>FLOAT64</td>\n",
       "      <td>NEVER</td>\n",
       "      <td>None</td>\n",
       "      <td>None</td>\n",
       "      <td>NO</td>\n",
       "      <td>None</td>\n",
       "      <td>NO</td>\n",
       "      <td>NO</td>\n",
       "      <td>NaN</td>\n",
       "    </tr>\n",
       "    <tr>\n",
       "      <th>16</th>\n",
       "      <td>statmike-mlops</td>\n",
       "      <td>fraud</td>\n",
       "      <td>fraud_prepped</td>\n",
       "      <td>V16</td>\n",
       "      <td>17</td>\n",
       "      <td>YES</td>\n",
       "      <td>FLOAT64</td>\n",
       "      <td>NEVER</td>\n",
       "      <td>None</td>\n",
       "      <td>None</td>\n",
       "      <td>NO</td>\n",
       "      <td>None</td>\n",
       "      <td>NO</td>\n",
       "      <td>NO</td>\n",
       "      <td>NaN</td>\n",
       "    </tr>\n",
       "    <tr>\n",
       "      <th>17</th>\n",
       "      <td>statmike-mlops</td>\n",
       "      <td>fraud</td>\n",
       "      <td>fraud_prepped</td>\n",
       "      <td>V17</td>\n",
       "      <td>18</td>\n",
       "      <td>YES</td>\n",
       "      <td>FLOAT64</td>\n",
       "      <td>NEVER</td>\n",
       "      <td>None</td>\n",
       "      <td>None</td>\n",
       "      <td>NO</td>\n",
       "      <td>None</td>\n",
       "      <td>NO</td>\n",
       "      <td>NO</td>\n",
       "      <td>NaN</td>\n",
       "    </tr>\n",
       "    <tr>\n",
       "      <th>18</th>\n",
       "      <td>statmike-mlops</td>\n",
       "      <td>fraud</td>\n",
       "      <td>fraud_prepped</td>\n",
       "      <td>V18</td>\n",
       "      <td>19</td>\n",
       "      <td>YES</td>\n",
       "      <td>FLOAT64</td>\n",
       "      <td>NEVER</td>\n",
       "      <td>None</td>\n",
       "      <td>None</td>\n",
       "      <td>NO</td>\n",
       "      <td>None</td>\n",
       "      <td>NO</td>\n",
       "      <td>NO</td>\n",
       "      <td>NaN</td>\n",
       "    </tr>\n",
       "    <tr>\n",
       "      <th>19</th>\n",
       "      <td>statmike-mlops</td>\n",
       "      <td>fraud</td>\n",
       "      <td>fraud_prepped</td>\n",
       "      <td>V19</td>\n",
       "      <td>20</td>\n",
       "      <td>YES</td>\n",
       "      <td>FLOAT64</td>\n",
       "      <td>NEVER</td>\n",
       "      <td>None</td>\n",
       "      <td>None</td>\n",
       "      <td>NO</td>\n",
       "      <td>None</td>\n",
       "      <td>NO</td>\n",
       "      <td>NO</td>\n",
       "      <td>NaN</td>\n",
       "    </tr>\n",
       "    <tr>\n",
       "      <th>20</th>\n",
       "      <td>statmike-mlops</td>\n",
       "      <td>fraud</td>\n",
       "      <td>fraud_prepped</td>\n",
       "      <td>V20</td>\n",
       "      <td>21</td>\n",
       "      <td>YES</td>\n",
       "      <td>FLOAT64</td>\n",
       "      <td>NEVER</td>\n",
       "      <td>None</td>\n",
       "      <td>None</td>\n",
       "      <td>NO</td>\n",
       "      <td>None</td>\n",
       "      <td>NO</td>\n",
       "      <td>NO</td>\n",
       "      <td>NaN</td>\n",
       "    </tr>\n",
       "    <tr>\n",
       "      <th>21</th>\n",
       "      <td>statmike-mlops</td>\n",
       "      <td>fraud</td>\n",
       "      <td>fraud_prepped</td>\n",
       "      <td>V21</td>\n",
       "      <td>22</td>\n",
       "      <td>YES</td>\n",
       "      <td>FLOAT64</td>\n",
       "      <td>NEVER</td>\n",
       "      <td>None</td>\n",
       "      <td>None</td>\n",
       "      <td>NO</td>\n",
       "      <td>None</td>\n",
       "      <td>NO</td>\n",
       "      <td>NO</td>\n",
       "      <td>NaN</td>\n",
       "    </tr>\n",
       "    <tr>\n",
       "      <th>22</th>\n",
       "      <td>statmike-mlops</td>\n",
       "      <td>fraud</td>\n",
       "      <td>fraud_prepped</td>\n",
       "      <td>V22</td>\n",
       "      <td>23</td>\n",
       "      <td>YES</td>\n",
       "      <td>FLOAT64</td>\n",
       "      <td>NEVER</td>\n",
       "      <td>None</td>\n",
       "      <td>None</td>\n",
       "      <td>NO</td>\n",
       "      <td>None</td>\n",
       "      <td>NO</td>\n",
       "      <td>NO</td>\n",
       "      <td>NaN</td>\n",
       "    </tr>\n",
       "    <tr>\n",
       "      <th>23</th>\n",
       "      <td>statmike-mlops</td>\n",
       "      <td>fraud</td>\n",
       "      <td>fraud_prepped</td>\n",
       "      <td>V23</td>\n",
       "      <td>24</td>\n",
       "      <td>YES</td>\n",
       "      <td>FLOAT64</td>\n",
       "      <td>NEVER</td>\n",
       "      <td>None</td>\n",
       "      <td>None</td>\n",
       "      <td>NO</td>\n",
       "      <td>None</td>\n",
       "      <td>NO</td>\n",
       "      <td>NO</td>\n",
       "      <td>NaN</td>\n",
       "    </tr>\n",
       "    <tr>\n",
       "      <th>24</th>\n",
       "      <td>statmike-mlops</td>\n",
       "      <td>fraud</td>\n",
       "      <td>fraud_prepped</td>\n",
       "      <td>V24</td>\n",
       "      <td>25</td>\n",
       "      <td>YES</td>\n",
       "      <td>FLOAT64</td>\n",
       "      <td>NEVER</td>\n",
       "      <td>None</td>\n",
       "      <td>None</td>\n",
       "      <td>NO</td>\n",
       "      <td>None</td>\n",
       "      <td>NO</td>\n",
       "      <td>NO</td>\n",
       "      <td>NaN</td>\n",
       "    </tr>\n",
       "    <tr>\n",
       "      <th>25</th>\n",
       "      <td>statmike-mlops</td>\n",
       "      <td>fraud</td>\n",
       "      <td>fraud_prepped</td>\n",
       "      <td>V25</td>\n",
       "      <td>26</td>\n",
       "      <td>YES</td>\n",
       "      <td>FLOAT64</td>\n",
       "      <td>NEVER</td>\n",
       "      <td>None</td>\n",
       "      <td>None</td>\n",
       "      <td>NO</td>\n",
       "      <td>None</td>\n",
       "      <td>NO</td>\n",
       "      <td>NO</td>\n",
       "      <td>NaN</td>\n",
       "    </tr>\n",
       "    <tr>\n",
       "      <th>26</th>\n",
       "      <td>statmike-mlops</td>\n",
       "      <td>fraud</td>\n",
       "      <td>fraud_prepped</td>\n",
       "      <td>V26</td>\n",
       "      <td>27</td>\n",
       "      <td>YES</td>\n",
       "      <td>FLOAT64</td>\n",
       "      <td>NEVER</td>\n",
       "      <td>None</td>\n",
       "      <td>None</td>\n",
       "      <td>NO</td>\n",
       "      <td>None</td>\n",
       "      <td>NO</td>\n",
       "      <td>NO</td>\n",
       "      <td>NaN</td>\n",
       "    </tr>\n",
       "    <tr>\n",
       "      <th>27</th>\n",
       "      <td>statmike-mlops</td>\n",
       "      <td>fraud</td>\n",
       "      <td>fraud_prepped</td>\n",
       "      <td>V27</td>\n",
       "      <td>28</td>\n",
       "      <td>YES</td>\n",
       "      <td>FLOAT64</td>\n",
       "      <td>NEVER</td>\n",
       "      <td>None</td>\n",
       "      <td>None</td>\n",
       "      <td>NO</td>\n",
       "      <td>None</td>\n",
       "      <td>NO</td>\n",
       "      <td>NO</td>\n",
       "      <td>NaN</td>\n",
       "    </tr>\n",
       "    <tr>\n",
       "      <th>28</th>\n",
       "      <td>statmike-mlops</td>\n",
       "      <td>fraud</td>\n",
       "      <td>fraud_prepped</td>\n",
       "      <td>V28</td>\n",
       "      <td>29</td>\n",
       "      <td>YES</td>\n",
       "      <td>FLOAT64</td>\n",
       "      <td>NEVER</td>\n",
       "      <td>None</td>\n",
       "      <td>None</td>\n",
       "      <td>NO</td>\n",
       "      <td>None</td>\n",
       "      <td>NO</td>\n",
       "      <td>NO</td>\n",
       "      <td>NaN</td>\n",
       "    </tr>\n",
       "    <tr>\n",
       "      <th>29</th>\n",
       "      <td>statmike-mlops</td>\n",
       "      <td>fraud</td>\n",
       "      <td>fraud_prepped</td>\n",
       "      <td>Amount</td>\n",
       "      <td>30</td>\n",
       "      <td>YES</td>\n",
       "      <td>FLOAT64</td>\n",
       "      <td>NEVER</td>\n",
       "      <td>None</td>\n",
       "      <td>None</td>\n",
       "      <td>NO</td>\n",
       "      <td>None</td>\n",
       "      <td>NO</td>\n",
       "      <td>NO</td>\n",
       "      <td>NaN</td>\n",
       "    </tr>\n",
       "    <tr>\n",
       "      <th>30</th>\n",
       "      <td>statmike-mlops</td>\n",
       "      <td>fraud</td>\n",
       "      <td>fraud_prepped</td>\n",
       "      <td>Class</td>\n",
       "      <td>31</td>\n",
       "      <td>YES</td>\n",
       "      <td>INT64</td>\n",
       "      <td>NEVER</td>\n",
       "      <td>None</td>\n",
       "      <td>None</td>\n",
       "      <td>NO</td>\n",
       "      <td>None</td>\n",
       "      <td>NO</td>\n",
       "      <td>NO</td>\n",
       "      <td>NaN</td>\n",
       "    </tr>\n",
       "    <tr>\n",
       "      <th>31</th>\n",
       "      <td>statmike-mlops</td>\n",
       "      <td>fraud</td>\n",
       "      <td>fraud_prepped</td>\n",
       "      <td>transaction_id</td>\n",
       "      <td>32</td>\n",
       "      <td>YES</td>\n",
       "      <td>STRING</td>\n",
       "      <td>NEVER</td>\n",
       "      <td>None</td>\n",
       "      <td>None</td>\n",
       "      <td>NO</td>\n",
       "      <td>None</td>\n",
       "      <td>NO</td>\n",
       "      <td>NO</td>\n",
       "      <td>NaN</td>\n",
       "    </tr>\n",
       "    <tr>\n",
       "      <th>32</th>\n",
       "      <td>statmike-mlops</td>\n",
       "      <td>fraud</td>\n",
       "      <td>fraud_prepped</td>\n",
       "      <td>splits</td>\n",
       "      <td>33</td>\n",
       "      <td>YES</td>\n",
       "      <td>STRING</td>\n",
       "      <td>NEVER</td>\n",
       "      <td>None</td>\n",
       "      <td>None</td>\n",
       "      <td>NO</td>\n",
       "      <td>None</td>\n",
       "      <td>NO</td>\n",
       "      <td>NO</td>\n",
       "      <td>NaN</td>\n",
       "    </tr>\n",
       "  </tbody>\n",
       "</table>\n",
       "</div>"
      ],
      "text/plain": [
       "     table_catalog table_schema     table_name     column_name  \\\n",
       "0   statmike-mlops        fraud  fraud_prepped            Time   \n",
       "1   statmike-mlops        fraud  fraud_prepped              V1   \n",
       "2   statmike-mlops        fraud  fraud_prepped              V2   \n",
       "3   statmike-mlops        fraud  fraud_prepped              V3   \n",
       "4   statmike-mlops        fraud  fraud_prepped              V4   \n",
       "5   statmike-mlops        fraud  fraud_prepped              V5   \n",
       "6   statmike-mlops        fraud  fraud_prepped              V6   \n",
       "7   statmike-mlops        fraud  fraud_prepped              V7   \n",
       "8   statmike-mlops        fraud  fraud_prepped              V8   \n",
       "9   statmike-mlops        fraud  fraud_prepped              V9   \n",
       "10  statmike-mlops        fraud  fraud_prepped             V10   \n",
       "11  statmike-mlops        fraud  fraud_prepped             V11   \n",
       "12  statmike-mlops        fraud  fraud_prepped             V12   \n",
       "13  statmike-mlops        fraud  fraud_prepped             V13   \n",
       "14  statmike-mlops        fraud  fraud_prepped             V14   \n",
       "15  statmike-mlops        fraud  fraud_prepped             V15   \n",
       "16  statmike-mlops        fraud  fraud_prepped             V16   \n",
       "17  statmike-mlops        fraud  fraud_prepped             V17   \n",
       "18  statmike-mlops        fraud  fraud_prepped             V18   \n",
       "19  statmike-mlops        fraud  fraud_prepped             V19   \n",
       "20  statmike-mlops        fraud  fraud_prepped             V20   \n",
       "21  statmike-mlops        fraud  fraud_prepped             V21   \n",
       "22  statmike-mlops        fraud  fraud_prepped             V22   \n",
       "23  statmike-mlops        fraud  fraud_prepped             V23   \n",
       "24  statmike-mlops        fraud  fraud_prepped             V24   \n",
       "25  statmike-mlops        fraud  fraud_prepped             V25   \n",
       "26  statmike-mlops        fraud  fraud_prepped             V26   \n",
       "27  statmike-mlops        fraud  fraud_prepped             V27   \n",
       "28  statmike-mlops        fraud  fraud_prepped             V28   \n",
       "29  statmike-mlops        fraud  fraud_prepped          Amount   \n",
       "30  statmike-mlops        fraud  fraud_prepped           Class   \n",
       "31  statmike-mlops        fraud  fraud_prepped  transaction_id   \n",
       "32  statmike-mlops        fraud  fraud_prepped          splits   \n",
       "\n",
       "    ordinal_position is_nullable data_type is_generated generation_expression  \\\n",
       "0                  1         YES     INT64        NEVER                  None   \n",
       "1                  2         YES   FLOAT64        NEVER                  None   \n",
       "2                  3         YES   FLOAT64        NEVER                  None   \n",
       "3                  4         YES   FLOAT64        NEVER                  None   \n",
       "4                  5         YES   FLOAT64        NEVER                  None   \n",
       "5                  6         YES   FLOAT64        NEVER                  None   \n",
       "6                  7         YES   FLOAT64        NEVER                  None   \n",
       "7                  8         YES   FLOAT64        NEVER                  None   \n",
       "8                  9         YES   FLOAT64        NEVER                  None   \n",
       "9                 10         YES   FLOAT64        NEVER                  None   \n",
       "10                11         YES   FLOAT64        NEVER                  None   \n",
       "11                12         YES   FLOAT64        NEVER                  None   \n",
       "12                13         YES   FLOAT64        NEVER                  None   \n",
       "13                14         YES   FLOAT64        NEVER                  None   \n",
       "14                15         YES   FLOAT64        NEVER                  None   \n",
       "15                16         YES   FLOAT64        NEVER                  None   \n",
       "16                17         YES   FLOAT64        NEVER                  None   \n",
       "17                18         YES   FLOAT64        NEVER                  None   \n",
       "18                19         YES   FLOAT64        NEVER                  None   \n",
       "19                20         YES   FLOAT64        NEVER                  None   \n",
       "20                21         YES   FLOAT64        NEVER                  None   \n",
       "21                22         YES   FLOAT64        NEVER                  None   \n",
       "22                23         YES   FLOAT64        NEVER                  None   \n",
       "23                24         YES   FLOAT64        NEVER                  None   \n",
       "24                25         YES   FLOAT64        NEVER                  None   \n",
       "25                26         YES   FLOAT64        NEVER                  None   \n",
       "26                27         YES   FLOAT64        NEVER                  None   \n",
       "27                28         YES   FLOAT64        NEVER                  None   \n",
       "28                29         YES   FLOAT64        NEVER                  None   \n",
       "29                30         YES   FLOAT64        NEVER                  None   \n",
       "30                31         YES     INT64        NEVER                  None   \n",
       "31                32         YES    STRING        NEVER                  None   \n",
       "32                33         YES    STRING        NEVER                  None   \n",
       "\n",
       "   is_stored is_hidden is_updatable is_system_defined is_partitioning_column  \\\n",
       "0       None        NO         None                NO                     NO   \n",
       "1       None        NO         None                NO                     NO   \n",
       "2       None        NO         None                NO                     NO   \n",
       "3       None        NO         None                NO                     NO   \n",
       "4       None        NO         None                NO                     NO   \n",
       "5       None        NO         None                NO                     NO   \n",
       "6       None        NO         None                NO                     NO   \n",
       "7       None        NO         None                NO                     NO   \n",
       "8       None        NO         None                NO                     NO   \n",
       "9       None        NO         None                NO                     NO   \n",
       "10      None        NO         None                NO                     NO   \n",
       "11      None        NO         None                NO                     NO   \n",
       "12      None        NO         None                NO                     NO   \n",
       "13      None        NO         None                NO                     NO   \n",
       "14      None        NO         None                NO                     NO   \n",
       "15      None        NO         None                NO                     NO   \n",
       "16      None        NO         None                NO                     NO   \n",
       "17      None        NO         None                NO                     NO   \n",
       "18      None        NO         None                NO                     NO   \n",
       "19      None        NO         None                NO                     NO   \n",
       "20      None        NO         None                NO                     NO   \n",
       "21      None        NO         None                NO                     NO   \n",
       "22      None        NO         None                NO                     NO   \n",
       "23      None        NO         None                NO                     NO   \n",
       "24      None        NO         None                NO                     NO   \n",
       "25      None        NO         None                NO                     NO   \n",
       "26      None        NO         None                NO                     NO   \n",
       "27      None        NO         None                NO                     NO   \n",
       "28      None        NO         None                NO                     NO   \n",
       "29      None        NO         None                NO                     NO   \n",
       "30      None        NO         None                NO                     NO   \n",
       "31      None        NO         None                NO                     NO   \n",
       "32      None        NO         None                NO                     NO   \n",
       "\n",
       "    clustering_ordinal_position  \n",
       "0                           NaN  \n",
       "1                           NaN  \n",
       "2                           NaN  \n",
       "3                           NaN  \n",
       "4                           NaN  \n",
       "5                           NaN  \n",
       "6                           NaN  \n",
       "7                           NaN  \n",
       "8                           NaN  \n",
       "9                           NaN  \n",
       "10                          NaN  \n",
       "11                          NaN  \n",
       "12                          NaN  \n",
       "13                          NaN  \n",
       "14                          NaN  \n",
       "15                          NaN  \n",
       "16                          NaN  \n",
       "17                          NaN  \n",
       "18                          NaN  \n",
       "19                          NaN  \n",
       "20                          NaN  \n",
       "21                          NaN  \n",
       "22                          NaN  \n",
       "23                          NaN  \n",
       "24                          NaN  \n",
       "25                          NaN  \n",
       "26                          NaN  \n",
       "27                          NaN  \n",
       "28                          NaN  \n",
       "29                          NaN  \n",
       "30                          NaN  \n",
       "31                          NaN  \n",
       "32                          NaN  "
      ]
     },
     "execution_count": 57,
     "metadata": {},
     "output_type": "execute_result"
    }
   ],
   "source": [
    "schema"
   ]
  },
  {
   "cell_type": "markdown",
   "id": "8cea6abc",
   "metadata": {},
   "source": [
    "Prepare a request for `batch_create_features`:\n",
    "- specification for the features, data type and descriptions ...."
   ]
  },
  {
   "cell_type": "code",
   "execution_count": 60,
   "id": "a73a86cf",
   "metadata": {},
   "outputs": [],
   "source": [
    "REQUESTS = []\n",
    "for i in range(schema.shape[0]):\n",
    "    \n",
    "    if schema['column_name'][i] in [VAR_TARGET, 'splits'] + VAR_OMIT.split():\n",
    "        continue\n",
    "    \n",
    "    if schema['data_type'][i] == 'STRING': value_type = types.feature.Feature.ValueType.STRING\n",
    "    elif schema['data_type'][i] == 'INT64': value_type = types.feature.Feature.ValueType.INT64\n",
    "    elif schema['data_type'][i] == 'FLOAT64': value_type = types.feature.Feature.ValueType.DOUBLE\n",
    "    \n",
    "    description = f\"Column named {schema['column_name'][i]} from BQ Table {PROJECT_ID}.{DATANAME}.{DATANAME}_prepped\"\n",
    "    \n",
    "    REQUESTS.append(\n",
    "        types.featurestore_service.CreateFeatureRequest(\n",
    "            feature=types.feature.Feature(\n",
    "                value_type = value_type,\n",
    "                description = description,\n",
    "                # optional, monitoring_config here as override, otherwise it inherits from entity_type\n",
    "            ),\n",
    "            feature_id = schema['column_name'][i].lower(),\n",
    "        )    \n",
    "    )"
   ]
  },
  {
   "cell_type": "code",
   "execution_count": 61,
   "id": "a1165a0e",
   "metadata": {},
   "outputs": [],
   "source": [
    "batchfeatures = clients['fs'].batch_create_features(\n",
    "    parent = clients['fs'].entity_type_path(PROJECT_ID, REGION, FEATURESTORE_ID, ENTITYTYPE_ID),\n",
    "    requests = REQUESTS,\n",
    ")"
   ]
  },
  {
   "cell_type": "code",
   "execution_count": 62,
   "id": "eeabe921",
   "metadata": {},
   "outputs": [],
   "source": [
    "#list(item.name for item in batchfeatures.result().features)"
   ]
  },
  {
   "cell_type": "markdown",
   "id": "e2fe9995",
   "metadata": {},
   "source": [
    "---\n",
    "## Search Features\n",
    "Search goes across all Feature Stores and Entity Types.\n",
    "\n",
    "Also, use the list_features function to list all."
   ]
  },
  {
   "cell_type": "code",
   "execution_count": 63,
   "id": "a3acd3be",
   "metadata": {},
   "outputs": [
    {
     "data": {
      "text/plain": [
       "name: \"projects/691911073727/locations/us-central1/featurestores/fraud/entityTypes/transaction/features/amount\"\n",
       "description: \"Column named Amount from BQ Table statmike-mlops.fraud.fraud_prepped\"\n",
       "create_time {\n",
       "  seconds: 1632489732\n",
       "  nanos: 380530000\n",
       "}\n",
       "update_time {\n",
       "  seconds: 1632489732\n",
       "  nanos: 380530000\n",
       "}"
      ]
     },
     "execution_count": 63,
     "metadata": {},
     "output_type": "execute_result"
    }
   ],
   "source": [
    "# return the first feature:\n",
    "list(clients['fs'].search_features(location = PARENT))[0]"
   ]
  },
  {
   "cell_type": "code",
   "execution_count": 64,
   "id": "5dd7dc03",
   "metadata": {},
   "outputs": [
    {
     "data": {
      "text/plain": [
       "[name: \"projects/691911073727/locations/us-central1/featurestores/fraud/entityTypes/transaction/features/time\"\n",
       " description: \"Column named Time from BQ Table statmike-mlops.fraud.fraud_prepped\"\n",
       " create_time {\n",
       "   seconds: 1632489732\n",
       "   nanos: 320983000\n",
       " }\n",
       " update_time {\n",
       "   seconds: 1632489732\n",
       "   nanos: 320983000\n",
       " }]"
      ]
     },
     "execution_count": 64,
     "metadata": {},
     "output_type": "execute_result"
    }
   ],
   "source": [
    "# find all features with INT64 value type\n",
    "list(clients['fs'].search_features(types.featurestore_service.SearchFeaturesRequest(location = PARENT, query = \"value_type=INT64\")))"
   ]
  },
  {
   "cell_type": "code",
   "execution_count": 65,
   "id": "dab3603a",
   "metadata": {},
   "outputs": [
    {
     "data": {
      "text/plain": [
       "[name: \"projects/691911073727/locations/us-central1/featurestores/fraud/entityTypes/transaction/features/v19\"\n",
       " description: \"Column named V19 from BQ Table statmike-mlops.fraud.fraud_prepped\"\n",
       " create_time {\n",
       "   seconds: 1632489732\n",
       "   nanos: 357729000\n",
       " }\n",
       " update_time {\n",
       "   seconds: 1632489732\n",
       "   nanos: 357729000\n",
       " },\n",
       " name: \"projects/691911073727/locations/us-central1/featurestores/fraud/entityTypes/transaction/features/v9\"\n",
       " description: \"Column named V9 from BQ Table statmike-mlops.fraud.fraud_prepped\"\n",
       " create_time {\n",
       "   seconds: 1632489732\n",
       "   nanos: 337463000\n",
       " }\n",
       " update_time {\n",
       "   seconds: 1632489732\n",
       "   nanos: 337463000\n",
       " }]"
      ]
     },
     "execution_count": 65,
     "metadata": {},
     "output_type": "execute_result"
    }
   ],
   "source": [
    "# find all features of the form V*9 with DOUBLE value type\n",
    "list(clients['fs'].search_features(types.featurestore_service.SearchFeaturesRequest(location = PARENT, query = \"feature_id:V*9 AND value_type=DOUBLE\")))"
   ]
  },
  {
   "cell_type": "markdown",
   "id": "71e5412f",
   "metadata": {},
   "source": [
    "---\n",
    "## Import Feature Values\n",
    "- BigQuery (THIS DEMO)\n",
    "- Avro\n",
    "- CSV"
   ]
  },
  {
   "cell_type": "markdown",
   "id": "43a9fcf4",
   "metadata": {},
   "source": [
    "Prepare a source table with timestamp (update_time) and unique id's for each entity"
   ]
  },
  {
   "cell_type": "code",
   "execution_count": 66,
   "id": "3e9e56b2",
   "metadata": {},
   "outputs": [],
   "source": [
    "query = f\"\"\"\n",
    "CREATE OR REPLACE TABLE {PROJECT_ID}.{DATANAME}.{DATANAME}_featurestore_import AS\n",
    "WITH A AS \n",
    "    (SELECT *, CAST(FLOOR(10*RAND()) AS INT64) day_offset\n",
    "    FROM {PROJECT_ID}.{DATANAME}.{DATANAME}_prepped)\n",
    "SELECT * EXCEPT(day_offset),\n",
    "        DATE_SUB(CURRENT_TIMESTAMP, INTERVAL day_offset DAY) AS update_time\n",
    "FROM A\n",
    "\"\"\"\n",
    "bqjob = clients['bq'].query(query = query)"
   ]
  },
  {
   "cell_type": "code",
   "execution_count": 67,
   "id": "11bbcf9f",
   "metadata": {},
   "outputs": [
    {
     "data": {
      "text/plain": [
       "<google.cloud.bigquery.table._EmptyRowIterator at 0x7f2301599a10>"
      ]
     },
     "execution_count": 67,
     "metadata": {},
     "output_type": "execute_result"
    }
   ],
   "source": [
    "bqjob.result()"
   ]
  },
  {
   "cell_type": "markdown",
   "id": "0d99edf8",
   "metadata": {},
   "source": [
    "Create Feature specification for each feature in the input source:"
   ]
  },
  {
   "cell_type": "code",
   "execution_count": 68,
   "id": "bc45bed6",
   "metadata": {},
   "outputs": [],
   "source": [
    "FEATURE_SPECS = []\n",
    "for i in range(schema.shape[0]):\n",
    "    if schema['column_name'][i] in [VAR_TARGET, 'splits'] + VAR_OMIT.split():\n",
    "        continue\n",
    "    \n",
    "    FEATURE_SPECS.append(\n",
    "        types.featurestore_service.ImportFeatureValuesRequest.FeatureSpec(\n",
    "            id = schema['column_name'][i].lower(),\n",
    "            source_field = schema['column_name'][i]\n",
    "        )\n",
    "    )"
   ]
  },
  {
   "cell_type": "code",
   "execution_count": 69,
   "id": "fa7ba054",
   "metadata": {},
   "outputs": [],
   "source": [
    "import_request = types.featurestore_service.ImportFeatureValuesRequest(\n",
    "    entity_type = clients['fs'].entity_type_path(PROJECT_ID, REGION, FEATURESTORE_ID, ENTITYTYPE_ID),\n",
    "    bigquery_source = types.BigQuerySource(input_uri = f'bq://{PROJECT_ID}.{DATANAME}.{DATANAME}_featurestore_import'),\n",
    "    feature_time_field = \"update_time\",\n",
    "    feature_time = Timestamp().GetCurrentTime(),\n",
    "    entity_id_field = \"transaction_id\",\n",
    "    feature_specs = FEATURE_SPECS,\n",
    "    worker_count = 4,\n",
    ")"
   ]
  },
  {
   "cell_type": "code",
   "execution_count": 70,
   "id": "0f8d4c24",
   "metadata": {},
   "outputs": [],
   "source": [
    "importjob = clients['fs'].import_feature_values(import_request)"
   ]
  },
  {
   "cell_type": "code",
   "execution_count": 71,
   "id": "a93ef0a9",
   "metadata": {},
   "outputs": [
    {
     "data": {
      "text/plain": [
       "imported_entity_count: 284807\n",
       "imported_feature_value_count: 8544210"
      ]
     },
     "execution_count": 71,
     "metadata": {},
     "output_type": "execute_result"
    }
   ],
   "source": [
    "importjob.result()"
   ]
  },
  {
   "cell_type": "markdown",
   "id": "7137ad98",
   "metadata": {},
   "source": [
    "---\n",
    "## Prediction with Feature Store for Serving Features"
   ]
  },
  {
   "cell_type": "markdown",
   "id": "1803b00d",
   "metadata": {},
   "source": [
    "### Entity Id's\n",
    "Retrieve a list of entity id's from the source BigQuery table.  These are in the column `transaction_id`."
   ]
  },
  {
   "cell_type": "code",
   "execution_count": 75,
   "id": "5ecdb9e4",
   "metadata": {},
   "outputs": [],
   "source": [
    "unique_id = clients['bq'].query(query = f\"SELECT * FROM {DATANAME}.{DATANAME}_prepped WHERE splits='TEST' LIMIT 10\").to_dataframe()"
   ]
  },
  {
   "cell_type": "code",
   "execution_count": 76,
   "id": "a4424240",
   "metadata": {},
   "outputs": [
    {
     "data": {
      "text/plain": [
       "'648731a9-54ff-4641-8d93-eda1fb480720'"
      ]
     },
     "execution_count": 76,
     "metadata": {},
     "output_type": "execute_result"
    }
   ],
   "source": [
    "unique_id['transaction_id'][0]"
   ]
  },
  {
   "cell_type": "markdown",
   "id": "8fc3a6c1",
   "metadata": {},
   "source": [
    "### Data For Prediction: Single Entity Served by Vertex AI > Features (Feature Store)"
   ]
  },
  {
   "cell_type": "code",
   "execution_count": 77,
   "id": "895c87bc",
   "metadata": {},
   "outputs": [],
   "source": [
    "feature_values = clients['fs_olserve'].read_feature_values(\n",
    "    types.featurestore_online_service.ReadFeatureValuesRequest(\n",
    "        entity_type = clients['fs'].entity_type_path(PROJECT_ID, REGION, FEATURESTORE_ID, ENTITYTYPE_ID),\n",
    "        entity_id = unique_id['transaction_id'][0],\n",
    "        feature_selector = types.FeatureSelector(id_matcher=types.IdMatcher(ids=['*'])),\n",
    "    )\n",
    ")"
   ]
  },
  {
   "cell_type": "code",
   "execution_count": 78,
   "id": "0e290e7d",
   "metadata": {},
   "outputs": [
    {
     "name": "stdout",
     "output_type": "stream",
     "text": [
      "['v2', 'v28', 'v1', 'v13', 'v24', 'v15', 'v5', 'v10', 'v11', 'v23', 'amount', 'v18', 'v6', 'v17', 'v26', 'v7', 'v19', 'v9', 'v8', 'v16', 'v22', 'v12', 'v14', 'v3', 'time', 'v21', 'v27', 'v25', 'v20', 'v4']\n"
     ]
    }
   ],
   "source": [
    "print(list(item.id for item in feature_values.header.feature_descriptors))"
   ]
  },
  {
   "cell_type": "code",
   "execution_count": 79,
   "id": "bb463851",
   "metadata": {},
   "outputs": [
    {
     "name": "stdout",
     "output_type": "stream",
     "text": [
      "[-0.0107482915944279, 0.0104688128953261, 0.896724595112629, -0.263265135895566, -1.02092220324013, 0.10181862912285801, 0.0600891602875172, 0.475407568501481, 1.67558031412855, 0.162478000106847, 0.0, -1.63084524092967, 2.5108239146546296, 0.5451652678301121, 0.0681724437689762, -1.00659622377877, -2.10148754998933, -0.14496178003346, 0.920047141986182, -0.4413478524079651, 0.5017110088071359, 1.15188029738727, -0.0692698337502762, 1.4230359856442298, 0.0, 0.0829014821340028, 0.10960414350812302, -0.0514650738254434, -0.29859717953230297, 2.37905669888513]\n"
     ]
    }
   ],
   "source": [
    "print(list(item.value.double_value for item in feature_values.entity_view.data))"
   ]
  },
  {
   "cell_type": "markdown",
   "id": "d2329aca",
   "metadata": {},
   "source": [
    "### Prepare a record for prediction: instance and parameters lists"
   ]
  },
  {
   "cell_type": "code",
   "execution_count": 89,
   "id": "2f9319bc",
   "metadata": {},
   "outputs": [],
   "source": [
    "newob = {}\n",
    "features = list(item.id for item in feature_values.header.feature_descriptors)\n",
    "for e, f in enumerate(features):\n",
    "    newob[f.capitalize()] = feature_values.entity_view.data[e].value.double_value"
   ]
  },
  {
   "cell_type": "code",
   "execution_count": 90,
   "id": "bf8fee66",
   "metadata": {},
   "outputs": [],
   "source": [
    "instances = [json_format.ParseDict(newob, Value())]\n",
    "parameters = json_format.ParseDict({}, Value())"
   ]
  },
  {
   "cell_type": "markdown",
   "id": "c348a58e",
   "metadata": {},
   "source": [
    "### Pick An Endpoint\n",
    "A list index of [0] here retrieves the first endpoint in this project:"
   ]
  },
  {
   "cell_type": "code",
   "execution_count": 91,
   "id": "f095ed8d",
   "metadata": {},
   "outputs": [
    {
     "data": {
      "text/plain": [
       "'04a_fraud_20210924125209'"
      ]
     },
     "execution_count": 91,
     "metadata": {},
     "output_type": "execute_result"
    }
   ],
   "source": [
    "aiplatform.Endpoint.list()[0].display_name"
   ]
  },
  {
   "cell_type": "code",
   "execution_count": 92,
   "id": "ad0ef300",
   "metadata": {},
   "outputs": [],
   "source": [
    "endpoint = aiplatform.Endpoint(endpoint_name = aiplatform.Endpoint.list()[0].name)"
   ]
  },
  {
   "cell_type": "markdown",
   "id": "11bbfd5a",
   "metadata": {},
   "source": [
    "### Get Predictions: Python Client"
   ]
  },
  {
   "cell_type": "code",
   "execution_count": 93,
   "id": "2dc9ff1a",
   "metadata": {},
   "outputs": [],
   "source": [
    "prediction = endpoint.predict(instances = instances, parameters = parameters)"
   ]
  },
  {
   "cell_type": "code",
   "execution_count": 94,
   "id": "ff42dacd",
   "metadata": {},
   "outputs": [
    {
     "data": {
      "text/plain": [
       "Prediction(predictions=[[0.998906374, 0.00109357678]], deployed_model_id='5211025408681574400', explanations=None)"
      ]
     },
     "execution_count": 94,
     "metadata": {},
     "output_type": "execute_result"
    }
   ],
   "source": [
    "prediction"
   ]
  },
  {
   "cell_type": "code",
   "execution_count": 95,
   "id": "904c9f80",
   "metadata": {},
   "outputs": [
    {
     "data": {
      "text/plain": [
       "[0.998906374, 0.00109357678]"
      ]
     },
     "execution_count": 95,
     "metadata": {},
     "output_type": "execute_result"
    }
   ],
   "source": [
    "prediction.predictions[0]"
   ]
  },
  {
   "cell_type": "code",
   "execution_count": 96,
   "id": "ae41e8de",
   "metadata": {},
   "outputs": [
    {
     "data": {
      "text/plain": [
       "0"
      ]
     },
     "execution_count": 96,
     "metadata": {},
     "output_type": "execute_result"
    }
   ],
   "source": [
    "np.argmax(prediction.predictions[0])"
   ]
  },
  {
   "cell_type": "markdown",
   "id": "764b7378",
   "metadata": {},
   "source": [
    "### Get Predictions: REST"
   ]
  },
  {
   "cell_type": "code",
   "execution_count": 97,
   "id": "98b5f76a",
   "metadata": {},
   "outputs": [],
   "source": [
    "with open(f'{DIR}/request.json','w') as file:\n",
    "    file.write(json.dumps({\"instances\": [newob]}))"
   ]
  },
  {
   "cell_type": "code",
   "execution_count": 98,
   "id": "b208b88b",
   "metadata": {},
   "outputs": [
    {
     "name": "stdout",
     "output_type": "stream",
     "text": [
      "{\n",
      "  \"predictions\": [\n",
      "    [\n",
      "      0.998906374,\n",
      "      0.00109357678\n",
      "    ]\n",
      "  ],\n",
      "  \"deployedModelId\": \"5211025408681574400\"\n",
      "}\n"
     ]
    }
   ],
   "source": [
    "!curl -X POST \\\n",
    "-H \"Authorization: Bearer \"$(gcloud auth application-default print-access-token) \\\n",
    "-H \"Content-Type: application/json; charset=utf-8\" \\\n",
    "-d @{DIR}/request.json \\\n",
    "https://{REGION}-aiplatform.googleapis.com/v1/{endpoint.resource_name}:predict"
   ]
  },
  {
   "cell_type": "markdown",
   "id": "1ec58e66",
   "metadata": {},
   "source": [
    "### Get Predictions: gcloud (CLI)"
   ]
  },
  {
   "cell_type": "code",
   "execution_count": 99,
   "id": "714b7eeb",
   "metadata": {},
   "outputs": [
    {
     "name": "stdout",
     "output_type": "stream",
     "text": [
      "Using endpoint [https://us-central1-prediction-aiplatform.googleapis.com/]\n",
      "[[0.998906374, 0.00109357678]]\n"
     ]
    }
   ],
   "source": [
    "!gcloud beta ai endpoints predict {endpoint.name.rsplit('/',1)[-1]} --region={REGION} --json-request={DIR}/request.json"
   ]
  },
  {
   "cell_type": "markdown",
   "id": "a3521490",
   "metadata": {},
   "source": [
    "### Data For Prediction: Multiple Entities Served by Vertex AI > Features (Feature Store)"
   ]
  },
  {
   "cell_type": "code",
   "execution_count": 100,
   "id": "3c29d220",
   "metadata": {},
   "outputs": [
    {
     "data": {
      "text/plain": [
       "0    648731a9-54ff-4641-8d93-eda1fb480720\n",
       "1    e651b24c-a678-40c0-96b4-d151bf008432\n",
       "2    2c30d9b6-9761-4184-973b-3a2ec07fb16a\n",
       "3    26dcbbe1-2fa0-44f2-a5ae-a3a95dcea45e\n",
       "4    1e2b5ef1-9141-410d-82a7-67cf3bc6dc26\n",
       "5    6f6315fa-298a-45b0-8eb0-39d8c90d60c7\n",
       "6    5c688cee-4490-4ea3-8e18-8a6d09eb037d\n",
       "7    8d4e4170-1d76-4658-ae51-80cc8f287e66\n",
       "8    e3a9c8e0-7e46-4c55-8581-e984d44cda27\n",
       "9    58ff2375-e98f-40da-9f4e-d230dfc73009\n",
       "Name: transaction_id, dtype: object"
      ]
     },
     "execution_count": 100,
     "metadata": {},
     "output_type": "execute_result"
    }
   ],
   "source": [
    "unique_id['transaction_id']"
   ]
  },
  {
   "cell_type": "code",
   "execution_count": 101,
   "id": "fd6f0210",
   "metadata": {},
   "outputs": [],
   "source": [
    "multi_feature_values = clients['fs_olserve'].streaming_read_feature_values(\n",
    "    types.featurestore_online_service.StreamingReadFeatureValuesRequest(\n",
    "        entity_type = clients['fs'].entity_type_path(PROJECT_ID, REGION, FEATURESTORE_ID, ENTITYTYPE_ID),\n",
    "        entity_ids = unique_id['transaction_id'],\n",
    "        feature_selector = types.FeatureSelector(id_matcher=types.IdMatcher(ids=['*'])),\n",
    "    )\n",
    ")"
   ]
  },
  {
   "cell_type": "code",
   "execution_count": 102,
   "id": "7f290928",
   "metadata": {},
   "outputs": [
    {
     "name": "stdout",
     "output_type": "stream",
     "text": [
      "\n",
      "[]\n",
      "1e2b5ef1-9141-410d-82a7-67cf3bc6dc26\n",
      "[0.0178310570385444, 0.15673410757831502, 0.139533476511716, 0.580525099921806, 0.0476565878703416, 0.436983825476803, 0.216634632508865, -1.48300166754983, -0.34190963302503896, -0.0761383782342794, -0.22374463132037195, 0.0, 2.5222071878835095, 0.671519420789799, -0.0925779950306399, 0.6954121042826129, -0.8121280800316691, 0.641141993499356, -0.179985039634078, 0.0193547006102132, -0.3457789151643039, 0.0524879466068395, -0.00148555498065213, 0.44277449238592104, 1.14147949549921, 0.38386608549225604, -0.0295474308731907, -0.7843151061108721, 0.0, -0.0894955489964147]\n",
      "26dcbbe1-2fa0-44f2-a5ae-a3a95dcea45e\n",
      "[0.144413644775616, 0.206504349021617, 0.279253081937816, 0.9745231602166771, -0.268562183744188, -0.6297075515639511, 0.703987073734131, -1.64988769762954, 0.309237229164127, 0.24454278087435502, -0.17885861261774105, 0.0, 1.62437481328574, -0.22974152028534603, -0.24799022077719898, -1.1279856031668898, -0.283090583580245, 2.84800224883177, -0.629465270850701, -0.0976011905473536, -0.0843088424805622, 0.04366461351161, 0.131084738104111, -0.25507380834348803, -0.7065981589733, 0.7004112034674661, 0.19069996122133198, -0.5115057402778049, 0.0, -0.8585597737690172]\n",
      "2c30d9b6-9761-4184-973b-3a2ec07fb16a\n",
      "[0.11125070167492401, 1.10178332834822, -0.0010666310403299301, 0.9384280891881509, -0.0109856489826912, -0.00515976340094575, 1.1071710148508, -1.27652247651001, -0.779769391127406, -0.169505694047204, -0.278812394586781, 0.0, 3.13969138935327, 1.1952666580498799, 0.307698007425537, -1.40823546164381, 0.696351145424781, 1.5420335576083999, -0.9818675157372401, -0.0365953257875729, 0.613951148231188, 0.3852183370225021, 0.033440936951729, -0.917000848547885, -0.143173006607043, -0.013080587402563, 0.335555579463652, -1.07281496897298, 0.0, 0.11948458924128]\n",
      "58ff2375-e98f-40da-9f4e-d230dfc73009\n",
      "[-0.0480387522136831, 0.5008619283936, -0.201997836738085, 0.301260918637493, 0.133578238621531, -0.240768713118915, 0.39098113535875606, -1.2650908512574899, -0.5712752940691259, -0.22473172449880202, -0.35592372085808893, 0.0, 4.06089004279251, 1.3066989403038798, -0.073022313368119, -1.90945406581961, -0.427006933524926, -0.148633319925173, -0.359213476980719, 0.0875255157027491, 0.160009726705267, 0.0783342170182396, -0.00534062448241826, 0.0885953765856331, 1.89088921712702, 0.0418162078084791, 0.0378826799158055, -0.181750657811473, 0.0, -1.7692268421671]\n",
      "5c688cee-4490-4ea3-8e18-8a6d09eb037d\n",
      "[0.0979280684941781, 1.3426823582994398, -1.4795770693329, -0.8809713409949699, 0.7395990379979279, -0.6515010391409921, 0.0988103993559702, 1.46672164629047, 0.192524833548554, 1.06216986576049, -0.21781648066059803, 0.0, 0.473728767849432, -0.500485853771235, -0.510752570014142, -1.33248523021783, 0.9780301674143101, 1.5726800492873099, -0.0755702141089639, 0.7524444190278641, 0.464929386850128, 0.30267823902959196, 0.144849194152353, -1.19192915162276, -1.2819492979416298, -0.251353573769561, 0.9069465832367409, 1.1626035924297802, 0.0, -0.392072824659665]\n",
      "648731a9-54ff-4641-8d93-eda1fb480720\n",
      "[0.0104688128953261, 0.5017110088071359, -1.00659622377877, -0.0107482915944279, 0.0681724437689762, -0.0692698337502762, -0.4413478524079651, -2.10148754998933, -0.263265135895566, 1.15188029738727, -0.29859717953230297, 0.0, 2.37905669888513, 0.475407568501481, 0.0600891602875172, 0.10181862912285801, -1.63084524092967, 1.4230359856442298, 0.5451652678301121, 0.162478000106847, 2.5108239146546296, 0.0829014821340028, 0.10960414350812302, -0.0514650738254434, 0.896724595112629, -1.02092220324013, 0.920047141986182, -0.14496178003346, 0.0, 1.67558031412855]\n",
      "6f6315fa-298a-45b0-8eb0-39d8c90d60c7\n",
      "[0.007857344373834741, 1.3469965995053401, -1.39410698247599, -0.842976831423396, -0.005288238621172001, -0.545727396101079, 0.7683683192471701, 0.0253173099831023, 0.529959959572037, 0.6191783151913829, 0.0272762923394547, 0.0, -0.722458576802533, 0.580316620158314, -1.1411666713044, 0.11755202842316, -1.4900976916635502, 1.13785010846717, 0.599881149341831, -0.0512995724627738, 0.7753120130200021, 0.4140286363049439, 0.0838995446899817, 0.297169635449037, 1.24680556307913, -0.211096169078691, 0.41265365561376793, -0.42635427654049396, 0.0, 1.66009282363884]\n",
      "8d4e4170-1d76-4658-ae51-80cc8f287e66\n",
      "[0.0982161127849468, 0.268091458282245, 0.779796596780148, 1.1523525264368402, 0.65046609503251, 1.04844401209278, -0.8472683180763821, 1.21730266214332, -1.88744116224822, -0.8919410191154699, -0.27378399839339995, 0.0, 0.122911702251512, -0.399576269063714, 0.212692370206436, -0.0878015919207381, -0.29718770576982206, -0.336698193675312, 0.5235205188739089, -0.14952794081340803, -1.1856611523395502, 0.115255028328937, -0.15755854867440303, -0.370635371095298, -0.40956586411639795, 0.0726469079570851, 0.10933059001719699, -0.426085459338661, 0.0, -1.4563673573976699]\n",
      "e3a9c8e0-7e46-4c55-8581-e984d44cda27\n",
      "[0.0129912169557542, 0.6424588248054119, -0.573803162622037, 1.19150019440951, 0.346156784322904, -0.424851985720252, -1.1409658855308, -0.31433879795340697, -1.66019469035332, 0.0489521555926776, -0.249196175826047, 0.0, 3.01483908802609, 0.0605354745036915, 0.5649184348054179, 0.41569737684545005, -0.9045593279628041, 0.8192385212007299, 2.5127269503489598, 0.0825278391989399, 2.24818101753853, 0.18037347235526302, -0.05991543359144799, -0.682059656036655, -0.728654701073841, -1.11784105409286, 1.28202622666622, -1.06247487290715, 0.0, 1.5707093050038998]\n",
      "e651b24c-a678-40c0-96b4-d151bf008432\n",
      "[-0.0590403728463215, -0.117913606457498, -0.106482963886468, 0.680122542037476, -0.135909164162928, 1.3995631677461002, 1.2151554364658799, -1.18654105412699, 3.2786371905612897, -1.5143305402202902, -0.185834706909873, 0.0, 3.5618448189308705, 1.18093815740155, 1.16918014690382, -2.17356651153613, 0.38543960138779104, -0.7060034279308129, -0.699442979853562, 0.140787024061701, 1.1910055215313602, -0.15282276063097502, -0.0461550039254031, -0.0106948191768745, 1.9485517868949198, -0.272739099111348, 0.0547293012552608, 0.0463279502898019, 0.0, 0.9129822311994141]\n"
     ]
    }
   ],
   "source": [
    "for i in multi_feature_values:\n",
    "    print(i.entity_view.entity_id)\n",
    "    print(list(item.value.double_value for item in i.entity_view.data))"
   ]
  },
  {
   "cell_type": "markdown",
   "id": "fd35d198",
   "metadata": {},
   "source": [
    "### Data For Training: Batch (For training or large scale prediction)"
   ]
  },
  {
   "cell_type": "code",
   "execution_count": 103,
   "id": "26631faf",
   "metadata": {},
   "outputs": [],
   "source": [
    "# get current timestamp (protobuf3 is seconds since ephoch (1970))\n",
    "timestamp = Timestamp()\n",
    "timestamp.GetCurrentTime()\n",
    "\n",
    "# adjust timestamp to 2 days ago: 60*60*24*4\n",
    "newtimestamp = Timestamp(seconds = timestamp.seconds - 60*60*24*2, nanos = timestamp.nanos)\n",
    "\n",
    "batch_request = types.featurestore_service.ExportFeatureValuesRequest(\n",
    "    entity_type = clients['fs'].entity_type_path(PROJECT_ID, REGION, FEATURESTORE_ID, ENTITYTYPE_ID),\n",
    "    snapshot_export = types.ExportFeatureValuesRequest.SnapshotExport(snapshot_time = Timestamp(seconds=newtimestamp.seconds)),\n",
    "    destination = types.FeatureValueDestination(bigquery_destination = types.BigQueryDestination(output_uri = f'bq://{PROJECT_ID}.{DATANAME}.{DATANAME}_fs_training')),\n",
    "    feature_selector = types.FeatureSelector(id_matcher=types.IdMatcher(ids = ['*']))\n",
    ")"
   ]
  },
  {
   "cell_type": "code",
   "execution_count": 104,
   "id": "80b68bfe",
   "metadata": {},
   "outputs": [],
   "source": [
    "batchjob = clients['fs'].export_feature_values(batch_request)"
   ]
  },
  {
   "cell_type": "code",
   "execution_count": 105,
   "id": "be026f46",
   "metadata": {},
   "outputs": [
    {
     "data": {
      "text/plain": []
     },
     "execution_count": 105,
     "metadata": {},
     "output_type": "execute_result"
    }
   ],
   "source": [
    "batchjob.result()"
   ]
  },
  {
   "cell_type": "markdown",
   "id": "3bfaadd0",
   "metadata": {},
   "source": [
    "By Adjusting the `snapshot_time` to 2 days ago, the batch_request creates a BigQuery table that has all the orginal rows, 1 per entity, but the features are null for 20% of the rows.  This is because the features were loaded with `feature_time_field = \"update_time\"` and `update_time` was set to a random day between today and 10 days ago."
   ]
  },
  {
   "cell_type": "code",
   "execution_count": 106,
   "id": "9a8345bc",
   "metadata": {},
   "outputs": [
    {
     "data": {
      "text/html": [
       "<div>\n",
       "<style scoped>\n",
       "    .dataframe tbody tr th:only-of-type {\n",
       "        vertical-align: middle;\n",
       "    }\n",
       "\n",
       "    .dataframe tbody tr th {\n",
       "        vertical-align: top;\n",
       "    }\n",
       "\n",
       "    .dataframe thead th {\n",
       "        text-align: right;\n",
       "    }\n",
       "</style>\n",
       "<table border=\"1\" class=\"dataframe\">\n",
       "  <thead>\n",
       "    <tr style=\"text-align: right;\">\n",
       "      <th></th>\n",
       "      <th>Null_Rows</th>\n",
       "      <th>counts</th>\n",
       "    </tr>\n",
       "  </thead>\n",
       "  <tbody>\n",
       "    <tr>\n",
       "      <th>0</th>\n",
       "      <td>True</td>\n",
       "      <td>57143</td>\n",
       "    </tr>\n",
       "    <tr>\n",
       "      <th>1</th>\n",
       "      <td>False</td>\n",
       "      <td>227664</td>\n",
       "    </tr>\n",
       "  </tbody>\n",
       "</table>\n",
       "</div>"
      ],
      "text/plain": [
       "   Null_Rows  counts\n",
       "0       True   57143\n",
       "1      False  227664"
      ]
     },
     "execution_count": 106,
     "metadata": {},
     "output_type": "execute_result"
    }
   ],
   "source": [
    "query = f\"\"\"\n",
    "SELECT CASE WHEN {list(newob.keys())[0]} is not null then False ELSE True END as Null_Rows, count(*) as counts\n",
    "FROM {PROJECT_ID}.{DATANAME}.{DATANAME}_fs_training\n",
    "GROUP BY Null_Rows\n",
    "\"\"\"\n",
    "clients['bq'].query(query = query).to_dataframe()"
   ]
  },
  {
   "cell_type": "markdown",
   "id": "13fef91a",
   "metadata": {},
   "source": [
    "---\n",
    "## Remove Resources\n",
    "see notebook \"XX - Cleanup\""
   ]
  }
 ],
 "metadata": {
  "environment": {
   "name": "tf2-gpu.2-3.m80",
   "type": "gcloud",
   "uri": "gcr.io/deeplearning-platform-release/tf2-gpu.2-3:m80"
  },
  "kernelspec": {
   "display_name": "Python 3",
   "language": "python",
   "name": "python3"
  },
  "language_info": {
   "codemirror_mode": {
    "name": "ipython",
    "version": 3
   },
   "file_extension": ".py",
   "mimetype": "text/x-python",
   "name": "python",
   "nbconvert_exporter": "python",
   "pygments_lexer": "ipython3",
   "version": "3.7.10"
  }
 },
 "nbformat": 4,
 "nbformat_minor": 5
}
