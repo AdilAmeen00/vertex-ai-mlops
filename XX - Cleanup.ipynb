{
 "cells": [
  {
   "cell_type": "markdown",
   "id": "17de3fc6",
   "metadata": {},
   "source": [
    "# Cleanup Resources\n",
    "\n",
    "Each notebook has a resource cleanup section that is designed to remove just the resources it created.\n",
    "\n",
    "This notebook is designed to remove all resources by the type created.  By being a general cleanup utility, you can skip sections that you want to remain in use.  This notebook also has a section to delete the GCS bucket created in the `00 - Initial Setup` notebook.\n",
    "\n",
    "**Resources**\n",
    "- AI Platform: https://googleapis.dev/python/aiplatform/latest/index.html\n",
    "- BigQuery: https://googleapis.dev/python/bigquery/latest/index.html\n",
    "- GCS: https://googleapis.dev/python/storage/latest/client.html"
   ]
  },
  {
   "cell_type": "markdown",
   "id": "ee530299",
   "metadata": {},
   "source": [
    "---"
   ]
  },
  {
   "cell_type": "markdown",
   "id": "73e4f6b4",
   "metadata": {},
   "source": [
    "## Setup"
   ]
  },
  {
   "cell_type": "markdown",
   "id": "a801d4ee",
   "metadata": {},
   "source": [
    "Parameters:"
   ]
  },
  {
   "cell_type": "code",
   "execution_count": 1,
   "id": "1eb4729a",
   "metadata": {},
   "outputs": [],
   "source": [
    "PROJECT_ID = 'statmike-mlops'\n",
    "REGION = 'us-central1'\n",
    "PARENT = \"projects/\" + PROJECT_ID + \"/locations/\" + REGION"
   ]
  },
  {
   "cell_type": "markdown",
   "id": "6a0d3226",
   "metadata": {},
   "source": [
    "AI Platform Client Setup:"
   ]
  },
  {
   "cell_type": "code",
   "execution_count": 2,
   "id": "d0803b1a",
   "metadata": {},
   "outputs": [],
   "source": [
    "from google.cloud import aiplatform\n",
    "API_ENDPOINT = \"{}-aiplatform.googleapis.com\".format(REGION)\n",
    "client_options = {\"api_endpoint\": API_ENDPOINT}\n",
    "clients = {}"
   ]
  },
  {
   "cell_type": "markdown",
   "id": "c2bb42f2",
   "metadata": {},
   "source": [
    "---"
   ]
  },
  {
   "cell_type": "markdown",
   "id": "32f18db1",
   "metadata": {},
   "source": [
    "## BigQuery\n",
    "- Delete the dataset `digits`"
   ]
  },
  {
   "cell_type": "markdown",
   "id": "202520f6",
   "metadata": {},
   "source": [
    "Make a client connection to BigQuery"
   ]
  },
  {
   "cell_type": "code",
   "execution_count": 3,
   "id": "2b9345a5",
   "metadata": {},
   "outputs": [],
   "source": [
    "from google.cloud import bigquery\n",
    "bq = bigquery.Client(project=PROJECT_ID)"
   ]
  },
  {
   "cell_type": "markdown",
   "id": "e302abd9",
   "metadata": {},
   "source": [
    "Delete the dataset `digits`"
   ]
  },
  {
   "cell_type": "code",
   "execution_count": 4,
   "id": "e7403eb9",
   "metadata": {},
   "outputs": [],
   "source": [
    "bq.delete_dataset(PROJECT_ID+'.digits',delete_contents=True,not_found_ok=True)"
   ]
  },
  {
   "cell_type": "markdown",
   "id": "4ece0193",
   "metadata": {},
   "source": [
    "---"
   ]
  },
  {
   "cell_type": "markdown",
   "id": "1fa698a9",
   "metadata": {},
   "source": [
    "## AI Platform (Unified) > Endpoints\n",
    "\n",
    "- Undeploy models\n",
    "- Delete endpoints"
   ]
  },
  {
   "cell_type": "code",
   "execution_count": 5,
   "id": "54056730",
   "metadata": {},
   "outputs": [],
   "source": [
    "clients['endpoint'] = aiplatform.gapic.EndpointServiceClient(client_options=client_options)"
   ]
  },
  {
   "cell_type": "code",
   "execution_count": 6,
   "id": "3c47adbf",
   "metadata": {},
   "outputs": [],
   "source": [
    "#clients['endpoint'].list_endpoints(parent=PARENT)"
   ]
  },
  {
   "cell_type": "code",
   "execution_count": 7,
   "id": "151b355a",
   "metadata": {},
   "outputs": [
    {
     "name": "stdout",
     "output_type": "stream",
     "text": [
      "endpoint name:  ENDPOINT_BQML-DIGITS\n",
      "deployed model name:  DEPLOYED_MODEL_BQML-DIGITS\n"
     ]
    }
   ],
   "source": [
    "for x in clients['endpoint'].list_endpoints(parent=PARENT):\n",
    "    print(\"endpoint name: \",x.display_name)\n",
    "    for y in x.deployed_models:\n",
    "        print(\"deployed model name: \",y.display_name)\n",
    "        clients['endpoint'].undeploy_model(endpoint=x.name, deployed_model_id=y.id)"
   ]
  },
  {
   "cell_type": "code",
   "execution_count": 8,
   "id": "44426cd2",
   "metadata": {},
   "outputs": [
    {
     "name": "stdout",
     "output_type": "stream",
     "text": [
      "endpoint name:  ENDPOINT_BQML-DIGITS\n"
     ]
    }
   ],
   "source": [
    "for x in clients['endpoint'].list_endpoints(parent=PARENT):\n",
    "    print(\"endpoint name: \",x.display_name)\n",
    "    clients['endpoint'].delete_endpoint(name=x.name)"
   ]
  },
  {
   "cell_type": "markdown",
   "id": "842def38",
   "metadata": {},
   "source": [
    "## AI Platform (Unified) > Models\n",
    "- Delete uploaded models"
   ]
  },
  {
   "cell_type": "code",
   "execution_count": 9,
   "id": "b1763c4f",
   "metadata": {},
   "outputs": [],
   "source": [
    "clients['model'] = aiplatform.gapic.ModelServiceClient(client_options=client_options)"
   ]
  },
  {
   "cell_type": "code",
   "execution_count": 10,
   "id": "1749040c",
   "metadata": {},
   "outputs": [
    {
     "name": "stdout",
     "output_type": "stream",
     "text": [
      "MODEL_BQML-DIGITS\n"
     ]
    }
   ],
   "source": [
    "for x in clients['model'].list_models(parent=PARENT):\n",
    "    print(x.display_name)\n",
    "    clients['model'].delete_model(name=x.name)"
   ]
  },
  {
   "cell_type": "markdown",
   "id": "ea1b46f5",
   "metadata": {},
   "source": [
    "## AI Platform (Unified) > Training > Custom Job\n",
    "- Delete custom training jobs"
   ]
  },
  {
   "cell_type": "code",
   "execution_count": 21,
   "id": "0b221e99",
   "metadata": {},
   "outputs": [],
   "source": [
    "clients['job'] = aiplatform.gapic.JobServiceClient(client_options=client_options)"
   ]
  },
  {
   "cell_type": "code",
   "execution_count": 63,
   "id": "3b7096d0",
   "metadata": {},
   "outputs": [
    {
     "name": "stdout",
     "output_type": "stream",
     "text": [
      "AIP_DIGITS_20210409142218-custom-job\n",
      "AIP_DIGITS_20210408205703\n"
     ]
    }
   ],
   "source": [
    "for x in clients['job'].list_custom_jobs(parent=PARENT):\n",
    "    print(x.display_name)\n",
    "    clients['job'].delete_custom_job(name=x.name)"
   ]
  },
  {
   "cell_type": "markdown",
   "id": "071e3dd1",
   "metadata": {},
   "source": [
    "## AI Platform (Unified) > Training > Training Pipeline\n",
    "- Delete training pipelines"
   ]
  },
  {
   "cell_type": "code",
   "execution_count": 25,
   "id": "daf9c737",
   "metadata": {},
   "outputs": [],
   "source": [
    "clients['pipeline'] = aiplatform.gapic.PipelineServiceClient(client_options=client_options)"
   ]
  },
  {
   "cell_type": "code",
   "execution_count": 64,
   "id": "91381440",
   "metadata": {},
   "outputs": [
    {
     "name": "stdout",
     "output_type": "stream",
     "text": [
      "AIP_DIGITS_20210409142218\n"
     ]
    }
   ],
   "source": [
    "for x in clients['pipeline'].list_training_pipelines(parent=PARENT):\n",
    "    print(x.display_name)\n",
    "    clients['pipeline'].delete_training_pipeline(name=x.name)"
   ]
  },
  {
   "cell_type": "markdown",
   "id": "c259d8ee",
   "metadata": {},
   "source": [
    "## Storage Bucket Removal\n",
    "\n",
    "- delete contents and storage bucket `statmike-models`"
   ]
  },
  {
   "cell_type": "code",
   "execution_count": 5,
   "id": "3cf6732a",
   "metadata": {},
   "outputs": [],
   "source": [
    "from google.cloud import storage\n",
    "gcs = storage.Client()"
   ]
  },
  {
   "cell_type": "code",
   "execution_count": 6,
   "id": "225f5ddc",
   "metadata": {},
   "outputs": [],
   "source": [
    "bucket = gcs.get_bucket(PROJECT_ID)"
   ]
  },
  {
   "cell_type": "code",
   "execution_count": 7,
   "id": "9f231ff5",
   "metadata": {},
   "outputs": [],
   "source": [
    "bucket.delete(force=True)"
   ]
  },
  {
   "cell_type": "code",
   "execution_count": null,
   "id": "f4fabd3e",
   "metadata": {},
   "outputs": [],
   "source": []
  }
 ],
 "metadata": {
  "environment": {
   "name": "managed-notebooks.m70",
   "type": "gcloud",
   "uri": "gcr.io/deeplearning-platform-release/managed-notebooks:m70"
  },
  "kernelspec": {
   "display_name": "Python",
   "language": "python",
   "name": "base"
  },
  "language_info": {
   "codemirror_mode": {
    "name": "ipython",
    "version": 3
   },
   "file_extension": ".py",
   "mimetype": "text/x-python",
   "name": "python",
   "nbconvert_exporter": "python",
   "pygments_lexer": "ipython3",
   "version": "3.7.10"
  }
 },
 "nbformat": 4,
 "nbformat_minor": 5
}
