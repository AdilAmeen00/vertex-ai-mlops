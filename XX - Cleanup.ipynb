{
 "cells": [
  {
   "cell_type": "markdown",
   "id": "4fb3c2db",
   "metadata": {},
   "source": [
    "# Cleanup All Resources\n",
    "\n",
    "Each notebook has a resource cleanup section that is designed to remove just the resources it created.\n",
    "\n",
    "This notebook is designed to remove all resources by the type created.  By being a general cleanup utility, you can skip sections that you want to remain in use.  This notebook also has a section to delete the GCS bucket created in the `00 - Initial Setup` notebook.\n",
    "\n",
    "**Resources**\n",
    "- Vertex AI: https://googleapis.dev/python/aiplatform/latest/index.html\n",
    "- BigQuery: https://googleapis.dev/python/bigquery/latest/index.html\n",
    "- GCS: https://googleapis.dev/python/storage/latest/client.html"
   ]
  },
  {
   "cell_type": "markdown",
   "id": "82c97dee",
   "metadata": {},
   "source": [
    "---\n",
    "## Setup"
   ]
  },
  {
   "cell_type": "markdown",
   "id": "7d69e33a",
   "metadata": {},
   "source": [
    "Parameters:"
   ]
  },
  {
   "cell_type": "code",
   "execution_count": 12,
   "id": "3f4892b2",
   "metadata": {},
   "outputs": [],
   "source": [
    "PROJECT_ID = 'statmike-mlops'\n",
    "REGION = 'us-central1'\n",
    "PARENT = \"projects/\" + PROJECT_ID + \"/locations/\" + REGION"
   ]
  },
  {
   "cell_type": "markdown",
   "id": "94e6a346",
   "metadata": {},
   "source": [
    "AI Platform Client Setup:"
   ]
  },
  {
   "cell_type": "code",
   "execution_count": 13,
   "id": "168de374",
   "metadata": {},
   "outputs": [],
   "source": [
    "from google.cloud import aiplatform\n",
    "from google.cloud import aiplatform_v1beta1\n",
    "\n",
    "API_ENDPOINT = \"{}-aiplatform.googleapis.com\".format(REGION)\n",
    "client_options = {\"api_endpoint\": API_ENDPOINT}\n",
    "clients = {}\n",
    "\n",
    "aiplatform.init(project=PROJECT_ID, location=REGION)\n",
    "\n",
    "PARENT = \"projects/\" + PROJECT_ID + \"/locations/\" + REGION"
   ]
  },
  {
   "cell_type": "markdown",
   "id": "822d7897",
   "metadata": {},
   "source": [
    "---\n",
    "## BigQuery\n",
    "- Delete the dataset `digits`"
   ]
  },
  {
   "cell_type": "markdown",
   "id": "bad4a5f3",
   "metadata": {},
   "source": [
    "Make a client connection to BigQuery"
   ]
  },
  {
   "cell_type": "code",
   "execution_count": 95,
   "id": "9607a2ba",
   "metadata": {},
   "outputs": [],
   "source": [
    "from google.cloud import bigquery\n",
    "clients['bq'] = bigquery.Client(project=PROJECT_ID)"
   ]
  },
  {
   "cell_type": "markdown",
   "id": "4061e354",
   "metadata": {},
   "source": [
    "list of datasets in the project:"
   ]
  },
  {
   "cell_type": "code",
   "execution_count": 96,
   "id": "d118f0d6",
   "metadata": {},
   "outputs": [],
   "source": [
    "datasets = list(clients['bq'].list_datasets())"
   ]
  },
  {
   "cell_type": "markdown",
   "id": "2adc12e0",
   "metadata": {},
   "source": [
    "delete each dataset:"
   ]
  },
  {
   "cell_type": "code",
   "execution_count": null,
   "id": "7c910949",
   "metadata": {},
   "outputs": [],
   "source": [
    "for ds in datasets:\n",
    "    print(ds.dataset_id)\n",
    "    clients['bq'].delete_dataset(ds.dataset_id,delete_contents=True,not_found_ok=True)"
   ]
  },
  {
   "cell_type": "markdown",
   "id": "a09661b6",
   "metadata": {},
   "source": [
    "---\n",
    "## Vertex AI > Datasets\n",
    "- Delete datasets"
   ]
  },
  {
   "cell_type": "code",
   "execution_count": 14,
   "id": "2c7fd588",
   "metadata": {},
   "outputs": [],
   "source": [
    "datasets = aiplatform.TabularDataset.list()"
   ]
  },
  {
   "cell_type": "code",
   "execution_count": 15,
   "id": "fba0b5e2",
   "metadata": {},
   "outputs": [
    {
     "name": "stdout",
     "output_type": "stream",
     "text": [
      "projects/691911073727/locations/us-central1/datasets/3655823385797066752\n",
      "INFO:google.cloud.aiplatform.base:Deleting TabularDataset : projects/691911073727/locations/us-central1/datasets/3655823385797066752\n",
      "INFO:google.cloud.aiplatform.base:Delete TabularDataset  backing LRO: projects/691911073727/locations/us-central1/operations/7698451388832940032\n",
      "INFO:google.cloud.aiplatform.base:TabularDataset deleted. . Resource name: projects/691911073727/locations/us-central1/datasets/3655823385797066752\n"
     ]
    }
   ],
   "source": [
    "for ds in datasets:\n",
    "    print(ds.resource_name)\n",
    "    aiplatform.TabularDataset(dataset_name=ds.resource_name).delete()"
   ]
  },
  {
   "cell_type": "markdown",
   "id": "c3b0a8e4",
   "metadata": {},
   "source": [
    "---\n",
    "## Vertex AI > Features\n",
    "- delete feature store including entity types and features"
   ]
  },
  {
   "cell_type": "code",
   "execution_count": 16,
   "id": "4c173e66",
   "metadata": {},
   "outputs": [],
   "source": [
    "clients['fs'] = aiplatform_v1beta1.FeaturestoreServiceClient(client_options=client_options)"
   ]
  },
  {
   "cell_type": "code",
   "execution_count": 17,
   "id": "d00aee5f",
   "metadata": {},
   "outputs": [],
   "source": [
    "fs = clients['fs'].list_featurestores(parent=PARENT)"
   ]
  },
  {
   "cell_type": "code",
   "execution_count": 18,
   "id": "a2cc4ebb",
   "metadata": {},
   "outputs": [
    {
     "name": "stdout",
     "output_type": "stream",
     "text": [
      "projects/691911073727/locations/us-central1/featurestores/digits_featurestore\n"
     ]
    }
   ],
   "source": [
    "for f in fs:\n",
    "    print(f.name)\n",
    "    clients['fs'].delete_featurestore(request = aiplatform_v1beta1.types.DeleteFeaturestoreRequest(name=f.name,force=True))"
   ]
  },
  {
   "cell_type": "markdown",
   "id": "b796a47f",
   "metadata": {},
   "source": [
    "---\n",
    "## Vertex AI > Pipelines\n",
    "* Delete Managed Pipelines"
   ]
  },
  {
   "cell_type": "code",
   "execution_count": 19,
   "id": "7c031452",
   "metadata": {},
   "outputs": [],
   "source": [
    "pl = aiplatform.PipelineJob.list()"
   ]
  },
  {
   "cell_type": "code",
   "execution_count": 21,
   "id": "97826bd3",
   "metadata": {},
   "outputs": [
    {
     "name": "stdout",
     "output_type": "stream",
     "text": [
      "testname-20210908124552\n",
      "INFO:google.cloud.aiplatform.base:Deleting PipelineJob : projects/691911073727/locations/us-central1/pipelineJobs/testname-20210908124552\n",
      "INFO:google.cloud.aiplatform.base:Delete PipelineJob  backing LRO: projects/691911073727/locations/us-central1/operations/4275715672031363072\n",
      "INFO:google.cloud.aiplatform.base:PipelineJob deleted. . Resource name: projects/691911073727/locations/us-central1/pipelineJobs/testname-20210908124552\n",
      "hello-world-20210907225736\n",
      "INFO:google.cloud.aiplatform.base:Deleting PipelineJob : projects/691911073727/locations/us-central1/pipelineJobs/hello-world-20210907225736\n",
      "INFO:google.cloud.aiplatform.base:Delete PipelineJob  backing LRO: projects/691911073727/locations/us-central1/operations/1893311469152370688\n",
      "INFO:google.cloud.aiplatform.base:PipelineJob deleted. . Resource name: projects/691911073727/locations/us-central1/pipelineJobs/hello-world-20210907225736\n"
     ]
    }
   ],
   "source": [
    "for p in pl:\n",
    "    print(p.name)\n",
    "    p.delete()"
   ]
  },
  {
   "cell_type": "markdown",
   "id": "4a8e34c6",
   "metadata": {},
   "source": [
    "---\n",
    "## Vertex AI > Training\n",
    "- delete various jobs types\n",
    "- some create with aiplatform.* and other created by aiplatform.gapic.*"
   ]
  },
  {
   "cell_type": "markdown",
   "id": "14aa489f",
   "metadata": {},
   "source": [
    "## Vertex AI > Training > Training Pipelines\n",
    "- Delete training pipelines"
   ]
  },
  {
   "cell_type": "code",
   "execution_count": 28,
   "id": "090f60d4",
   "metadata": {},
   "outputs": [
    {
     "name": "stdout",
     "output_type": "stream",
     "text": [
      "05C_AIP_DIGITS_20210907112707\n",
      "INFO:google.cloud.aiplatform.base:Deleting CustomTrainingJob : projects/691911073727/locations/us-central1/trainingPipelines/6263963922928238592\n",
      "INFO:google.cloud.aiplatform.base:Delete CustomTrainingJob  backing LRO: projects/691911073727/locations/us-central1/operations/3760053514697441280\n",
      "INFO:google.cloud.aiplatform.base:CustomTrainingJob deleted. . Resource name: projects/691911073727/locations/us-central1/trainingPipelines/6263963922928238592\n",
      "05C_AIP_DIGITS_20210902141249\n",
      "INFO:google.cloud.aiplatform.base:Deleting CustomTrainingJob : projects/691911073727/locations/us-central1/trainingPipelines/7521963554778382336\n",
      "INFO:google.cloud.aiplatform.base:Delete CustomTrainingJob  backing LRO: projects/691911073727/locations/us-central1/operations/6831508460564119552\n",
      "INFO:google.cloud.aiplatform.base:CustomTrainingJob deleted. . Resource name: projects/691911073727/locations/us-central1/trainingPipelines/7521963554778382336\n",
      "05C_AIP_DIGITS_20210902134247\n",
      "INFO:google.cloud.aiplatform.base:Deleting CustomTrainingJob : projects/691911073727/locations/us-central1/trainingPipelines/1833917225409445888\n",
      "INFO:google.cloud.aiplatform.base:Delete CustomTrainingJob  backing LRO: projects/691911073727/locations/us-central1/operations/3345722348979355648\n",
      "INFO:google.cloud.aiplatform.base:CustomTrainingJob deleted. . Resource name: projects/691911073727/locations/us-central1/trainingPipelines/1833917225409445888\n",
      "05_AIP_DIGITS_20210901205004\n",
      "INFO:google.cloud.aiplatform.base:Deleting CustomTrainingJob : projects/691911073727/locations/us-central1/trainingPipelines/1611833468784738304\n",
      "INFO:google.cloud.aiplatform.base:Delete CustomTrainingJob  backing LRO: projects/691911073727/locations/us-central1/operations/6590565880499798016\n",
      "INFO:google.cloud.aiplatform.base:CustomTrainingJob deleted. . Resource name: projects/691911073727/locations/us-central1/trainingPipelines/1611833468784738304\n",
      "05_AIP_DIGITS_20210901124724\n",
      "INFO:google.cloud.aiplatform.base:Deleting CustomTrainingJob : projects/691911073727/locations/us-central1/trainingPipelines/6678383049576546304\n",
      "INFO:google.cloud.aiplatform.base:Delete CustomTrainingJob  backing LRO: projects/691911073727/locations/us-central1/operations/2381952028722069504\n",
      "INFO:google.cloud.aiplatform.base:CustomTrainingJob deleted. . Resource name: projects/691911073727/locations/us-central1/trainingPipelines/6678383049576546304\n"
     ]
    }
   ],
   "source": [
    "jobs = aiplatform.CustomTrainingJob.list()\n",
    "for j in jobs:\n",
    "    print(j.display_name)\n",
    "    j.delete()"
   ]
  },
  {
   "cell_type": "code",
   "execution_count": 29,
   "id": "21b06683",
   "metadata": {},
   "outputs": [],
   "source": [
    "jobs = aiplatform.CustomPythonPackageTrainingJob.list()\n",
    "for j in jobs:\n",
    "    print(j.display_name)\n",
    "    j.delete()"
   ]
  },
  {
   "cell_type": "code",
   "execution_count": 30,
   "id": "414d72b2",
   "metadata": {},
   "outputs": [
    {
     "name": "stdout",
     "output_type": "stream",
     "text": [
      "job-02c-automl_20210908124535\n",
      "INFO:google.cloud.aiplatform.base:Deleting AutoMLTabularTrainingJob : projects/691911073727/locations/us-central1/trainingPipelines/521029973100724224\n",
      "INFO:google.cloud.aiplatform.base:Delete AutoMLTabularTrainingJob  backing LRO: projects/691911073727/locations/us-central1/operations/4318499868491382784\n",
      "INFO:google.cloud.aiplatform.base:AutoMLTabularTrainingJob deleted. . Resource name: projects/691911073727/locations/us-central1/trainingPipelines/521029973100724224\n"
     ]
    }
   ],
   "source": [
    "jobs = aiplatform.AutoMLTabularTrainingJob.list()\n",
    "for j in jobs:\n",
    "    print(j.display_name)\n",
    "    j.delete()"
   ]
  },
  {
   "cell_type": "markdown",
   "id": "ade96c39",
   "metadata": {},
   "source": [
    "## Vertex AI > Training > Custom Job\n",
    "- Delete custom training jobs"
   ]
  },
  {
   "cell_type": "code",
   "execution_count": 32,
   "id": "0db0417f",
   "metadata": {},
   "outputs": [
    {
     "name": "stdout",
     "output_type": "stream",
     "text": [
      "caip_pipelines_3056334461961502720_7553741639844364288\n",
      "INFO:google.cloud.aiplatform.base:Deleting CustomJob : projects/691911073727/locations/us-central1/customJobs/5817263134888427520\n",
      "INFO:google.cloud.aiplatform.base:Delete CustomJob  backing LRO: projects/691911073727/locations/us-central1/operations/5714615752976236544\n",
      "INFO:google.cloud.aiplatform.base:CustomJob deleted. . Resource name: projects/691911073727/locations/us-central1/customJobs/5817263134888427520\n",
      "caip_pipelines_3056334461961502720_-6281316415437799424\n",
      "INFO:google.cloud.aiplatform.base:Deleting CustomJob : projects/691911073727/locations/us-central1/customJobs/5187322137009979392\n",
      "INFO:google.cloud.aiplatform.base:Delete CustomJob  backing LRO: projects/691911073727/locations/us-central1/operations/3408772743762542592\n",
      "INFO:google.cloud.aiplatform.base:CustomJob deleted. . Resource name: projects/691911073727/locations/us-central1/customJobs/5187322137009979392\n",
      "caip_pipelines_3056334461961502720_-1669630397010411520\n",
      "INFO:google.cloud.aiplatform.base:Deleting CustomJob : projects/691911073727/locations/us-central1/customJobs/1034440330620960768\n",
      "INFO:google.cloud.aiplatform.base:Delete CustomJob  backing LRO: projects/691911073727/locations/us-central1/operations/2787275995185414144\n",
      "INFO:google.cloud.aiplatform.base:CustomJob deleted. . Resource name: projects/691911073727/locations/us-central1/customJobs/1034440330620960768\n",
      "caip_pipelines_8717922143519637504_2690979942191071232\n",
      "INFO:google.cloud.aiplatform.base:Deleting CustomJob : projects/691911073727/locations/us-central1/customJobs/86995559012892672\n",
      "INFO:google.cloud.aiplatform.base:Delete CustomJob  backing LRO: projects/691911073727/locations/us-central1/operations/3913175902028038144\n",
      "INFO:google.cloud.aiplatform.base:CustomJob deleted. . Resource name: projects/691911073727/locations/us-central1/customJobs/86995559012892672\n",
      "caip_pipelines_8717922143519637504_7302665960618459136\n",
      "INFO:google.cloud.aiplatform.base:Deleting CustomJob : projects/691911073727/locations/us-central1/customJobs/2884856827516813312\n",
      "INFO:google.cloud.aiplatform.base:Delete CustomJob  backing LRO: projects/691911073727/locations/us-central1/operations/2899865985869676544\n",
      "INFO:google.cloud.aiplatform.base:CustomJob deleted. . Resource name: projects/691911073727/locations/us-central1/customJobs/2884856827516813312\n",
      "caip_pipelines_8717922143519637504_-6532392094663704576\n",
      "INFO:google.cloud.aiplatform.base:Deleting CustomJob : projects/691911073727/locations/us-central1/customJobs/9077306315151245312\n",
      "INFO:google.cloud.aiplatform.base:Delete CustomJob  backing LRO: projects/691911073727/locations/us-central1/operations/8524861920455426048\n",
      "INFO:google.cloud.aiplatform.base:CustomJob deleted. . Resource name: projects/691911073727/locations/us-central1/customJobs/9077306315151245312\n",
      "05C_AIP_DIGITS_20210907112707-custom-job\n",
      "INFO:google.cloud.aiplatform.base:Deleting CustomJob : projects/691911073727/locations/us-central1/customJobs/6046612464349478912\n",
      "INFO:google.cloud.aiplatform.base:Delete CustomJob  backing LRO: projects/691911073727/locations/us-central1/operations/7511552004297064448\n",
      "INFO:google.cloud.aiplatform.base:CustomJob deleted. . Resource name: projects/691911073727/locations/us-central1/customJobs/6046612464349478912\n",
      "05C_AIP_DIGITS_20210902141249-custom-job\n",
      "INFO:google.cloud.aiplatform.base:Deleting CustomJob : projects/691911073727/locations/us-central1/customJobs/5833676644467867648\n",
      "INFO:google.cloud.aiplatform.base:Delete CustomJob  backing LRO: projects/691911073727/locations/us-central1/operations/1030872140510920704\n",
      "INFO:google.cloud.aiplatform.base:CustomJob deleted. . Resource name: projects/691911073727/locations/us-central1/customJobs/5833676644467867648\n",
      "05C_AIP_DIGITS_20210902134247-custom-job\n",
      "INFO:google.cloud.aiplatform.base:Deleting CustomJob : projects/691911073727/locations/us-central1/customJobs/6774366016634880000\n",
      "INFO:google.cloud.aiplatform.base:Delete CustomJob  backing LRO: projects/691911073727/locations/us-central1/operations/1746944481262829568\n",
      "INFO:google.cloud.aiplatform.base:CustomJob deleted. . Resource name: projects/691911073727/locations/us-central1/customJobs/6774366016634880000\n",
      "05A_AIP_DIGITS_20210902123847\n",
      "INFO:google.cloud.aiplatform.base:Deleting CustomJob : projects/691911073727/locations/us-central1/customJobs/4943089818155352064\n",
      "INFO:google.cloud.aiplatform.base:Delete CustomJob  backing LRO: projects/691911073727/locations/us-central1/operations/5642558158938308608\n",
      "INFO:google.cloud.aiplatform.base:CustomJob deleted. . Resource name: projects/691911073727/locations/us-central1/customJobs/4943089818155352064\n",
      "05B_AIP_DIGITS_20210902112731\n",
      "INFO:google.cloud.aiplatform.base:Deleting CustomJob : projects/691911073727/locations/us-central1/customJobs/795274561347125248\n",
      "INFO:google.cloud.aiplatform.base:Delete CustomJob  backing LRO: projects/691911073727/locations/us-central1/operations/6358630499690217472\n",
      "INFO:google.cloud.aiplatform.base:CustomJob deleted. . Resource name: projects/691911073727/locations/us-central1/customJobs/795274561347125248\n",
      "05_AIP_DIGITS_20210901205004-custom-job\n",
      "INFO:google.cloud.aiplatform.base:Deleting CustomJob : projects/691911073727/locations/us-central1/customJobs/576075923233701888\n",
      "INFO:google.cloud.aiplatform.base:Delete CustomJob  backing LRO: projects/691911073727/locations/us-central1/operations/8020458762189930496\n",
      "INFO:google.cloud.aiplatform.base:CustomJob deleted. . Resource name: projects/691911073727/locations/us-central1/customJobs/576075923233701888\n",
      "05_AIP_DIGITS_20210901124724-custom-job\n",
      "INFO:google.cloud.aiplatform.base:Deleting CustomJob : projects/691911073727/locations/us-central1/customJobs/5257567735885332480\n",
      "INFO:google.cloud.aiplatform.base:Delete CustomJob  backing LRO: projects/691911073727/locations/us-central1/operations/1724426483125977088\n",
      "INFO:google.cloud.aiplatform.base:CustomJob deleted. . Resource name: projects/691911073727/locations/us-central1/customJobs/5257567735885332480\n"
     ]
    }
   ],
   "source": [
    "jobs = aiplatform.CustomJob.list()\n",
    "for j in jobs:\n",
    "    print(j.display_name)\n",
    "    j.delete()"
   ]
  },
  {
   "cell_type": "markdown",
   "id": "a0bc0e20",
   "metadata": {},
   "source": [
    "## Vertex AI > Training > Hyperparameter Tuning Job"
   ]
  },
  {
   "cell_type": "code",
   "execution_count": 34,
   "id": "c9b560f7",
   "metadata": {},
   "outputs": [
    {
     "name": "stdout",
     "output_type": "stream",
     "text": [
      "05E2_AIP_DIGITS_20210907152238\n",
      "INFO:google.cloud.aiplatform.base:Deleting HyperparameterTuningJob : projects/691911073727/locations/us-central1/hyperparameterTuningJobs/6535024325500600320\n",
      "INFO:google.cloud.aiplatform.base:Delete HyperparameterTuningJob  backing LRO: projects/691911073727/locations/us-central1/operations/5921781335835279360\n",
      "INFO:google.cloud.aiplatform.base:HyperparameterTuningJob deleted. . Resource name: projects/691911073727/locations/us-central1/hyperparameterTuningJobs/6535024325500600320\n",
      "05E2_AIP_DIGITS_20210907151121\n",
      "INFO:google.cloud.aiplatform.base:Deleting HyperparameterTuningJob : projects/691911073727/locations/us-central1/hyperparameterTuningJobs/4409325301381726208\n",
      "INFO:google.cloud.aiplatform.base:Delete HyperparameterTuningJob  backing LRO: projects/691911073727/locations/us-central1/operations/3615938326621585408\n",
      "INFO:google.cloud.aiplatform.base:HyperparameterTuningJob deleted. . Resource name: projects/691911073727/locations/us-central1/hyperparameterTuningJobs/4409325301381726208\n",
      "05E2_AIP_DIGITS_20210907134516\n",
      "INFO:google.cloud.aiplatform.base:Deleting HyperparameterTuningJob : projects/691911073727/locations/us-central1/hyperparameterTuningJobs/5778419588102356992\n",
      "INFO:google.cloud.aiplatform.base:Delete HyperparameterTuningJob  backing LRO: projects/691911073727/locations/us-central1/operations/2976427179534974976\n",
      "INFO:google.cloud.aiplatform.base:HyperparameterTuningJob deleted. . Resource name: projects/691911073727/locations/us-central1/hyperparameterTuningJobs/5778419588102356992\n",
      "05E2_AIP_DIGITS_20210907133423\n",
      "INFO:google.cloud.aiplatform.base:Deleting HyperparameterTuningJob : projects/691911073727/locations/us-central1/hyperparameterTuningJobs/6291829945622593536\n",
      "INFO:google.cloud.aiplatform.base:Delete HyperparameterTuningJob  backing LRO: projects/691911073727/locations/us-central1/operations/8227624345048973312\n",
      "INFO:google.cloud.aiplatform.base:HyperparameterTuningJob deleted. . Resource name: projects/691911073727/locations/us-central1/hyperparameterTuningJobs/6291829945622593536\n",
      "05E2_AIP_DIGITS_20210907131357\n",
      "INFO:google.cloud.aiplatform.base:Deleting HyperparameterTuningJob : projects/691911073727/locations/us-central1/hyperparameterTuningJobs/2333165873163927552\n",
      "INFO:google.cloud.aiplatform.base:Delete HyperparameterTuningJob  backing LRO: projects/691911073727/locations/us-central1/operations/8723020304059727872\n",
      "INFO:google.cloud.aiplatform.base:HyperparameterTuningJob deleted. . Resource name: projects/691911073727/locations/us-central1/hyperparameterTuningJobs/2333165873163927552\n",
      "05E2_AIP_DIGITS_20210907112421\n",
      "INFO:google.cloud.aiplatform.base:Deleting HyperparameterTuningJob : projects/691911073727/locations/us-central1/hyperparameterTuningJobs/5787426787357097984\n",
      "INFO:google.cloud.aiplatform.base:Delete HyperparameterTuningJob  backing LRO: projects/691911073727/locations/us-central1/operations/8376243132752199680\n",
      "INFO:google.cloud.aiplatform.base:HyperparameterTuningJob deleted. . Resource name: projects/691911073727/locations/us-central1/hyperparameterTuningJobs/5787426787357097984\n",
      "05E2_AIP_DIGITS_20210907095012\n",
      "INFO:google.cloud.aiplatform.base:Deleting HyperparameterTuningJob : projects/691911073727/locations/us-central1/hyperparameterTuningJobs/2474184836495966208\n",
      "INFO:google.cloud.aiplatform.base:Delete HyperparameterTuningJob  backing LRO: projects/691911073727/locations/us-central1/operations/733634565104467968\n",
      "INFO:google.cloud.aiplatform.base:HyperparameterTuningJob deleted. . Resource name: projects/691911073727/locations/us-central1/hyperparameterTuningJobs/2474184836495966208\n",
      "05E_AIP_DIGITS_20210902183427\n",
      "INFO:google.cloud.aiplatform.base:Deleting HyperparameterTuningJob : projects/691911073727/locations/us-central1/hyperparameterTuningJobs/4116538549044510720\n",
      "INFO:google.cloud.aiplatform.base:Delete HyperparameterTuningJob  backing LRO: projects/691911073727/locations/us-central1/operations/6926084052738899968\n",
      "INFO:google.cloud.aiplatform.base:HyperparameterTuningJob deleted. . Resource name: projects/691911073727/locations/us-central1/hyperparameterTuningJobs/4116538549044510720\n"
     ]
    }
   ],
   "source": [
    "jobs = aiplatform.HyperparameterTuningJob.list()\n",
    "for j in jobs:\n",
    "    print(j.display_name)\n",
    "    j.delete()"
   ]
  },
  {
   "cell_type": "markdown",
   "id": "89359403",
   "metadata": {},
   "source": [
    "---\n",
    "## Vertex AI > Experiments > Experiment & Tensorboard Instances\n",
    "ISSUE: remove experiments first then instances."
   ]
  },
  {
   "cell_type": "code",
   "execution_count": 43,
   "id": "3d846485",
   "metadata": {},
   "outputs": [
    {
     "name": "stdout",
     "output_type": "stream",
     "text": [
      "<google.cloud.aiplatform.tensorboard.tensorboard.Tensorboard object at 0x7f2afaff03d0> \n",
      "resource name: projects/691911073727/locations/us-central1/tensorboards/3436703912520843264\n",
      "INFO:google.cloud.aiplatform.base:Deleting Tensorboard : projects/691911073727/locations/us-central1/tensorboards/3436703912520843264\n",
      "INFO:google.cloud.aiplatform.base:Delete Tensorboard  backing LRO: projects/691911073727/locations/us-central1/operations/1513601725569695744\n",
      "INFO:google.cloud.aiplatform.base:Tensorboard deleted. . Resource name: projects/691911073727/locations/us-central1/tensorboards/3436703912520843264\n"
     ]
    }
   ],
   "source": [
    "tb = aiplatform.Tensorboard.list()\n",
    "for t in tb:\n",
    "    print(t)\n",
    "    t.delete()"
   ]
  },
  {
   "cell_type": "code",
   "execution_count": 44,
   "id": "ff9a89f3",
   "metadata": {},
   "outputs": [],
   "source": [
    "clients['tb'] = aiplatform_v1beta1.TensorboardServiceClient(client_options=client_options)"
   ]
  },
  {
   "cell_type": "code",
   "execution_count": 45,
   "id": "4f30d283",
   "metadata": {},
   "outputs": [],
   "source": [
    "tbs = clients['tb'].list_tensorboards(parent=PARENT)"
   ]
  },
  {
   "cell_type": "code",
   "execution_count": 46,
   "id": "a2f717d3",
   "metadata": {},
   "outputs": [],
   "source": [
    "for tb in tbs:\n",
    "    print(tb.name)\n",
    "    tbes = clients['tb'].list_tensorboard_experiments(parent=tb.name)\n",
    "    for tbe in tbes:\n",
    "        print(tbe.name)\n",
    "        clients['tb'].delete_tensorboard_experiment(request=aiplatform_v1beta1.types.DeleteTensorboardExperimentRequest(name=tbe.name))\n",
    "    clients['tb'].delete_tensorboard(request = aiplatform_v1beta1.types.DeleteTensorboardRequest(name=tb.name))"
   ]
  },
  {
   "cell_type": "markdown",
   "id": "b85c5105",
   "metadata": {},
   "source": [
    "## Vertex AI > Experiments > Studies\n",
    "Vizier Studies"
   ]
  },
  {
   "cell_type": "code",
   "execution_count": 49,
   "id": "33a1c29d",
   "metadata": {},
   "outputs": [],
   "source": [
    "clients['viz'] = aiplatform_v1beta1.VizierServiceClient(client_options=client_options)"
   ]
  },
  {
   "cell_type": "code",
   "execution_count": 50,
   "id": "e843f300",
   "metadata": {},
   "outputs": [],
   "source": [
    "studies = clients['viz'].list_studies(parent=PARENT)"
   ]
  },
  {
   "cell_type": "code",
   "execution_count": 51,
   "id": "d496e3ab",
   "metadata": {},
   "outputs": [
    {
     "name": "stdout",
     "output_type": "stream",
     "text": [
      "projects/691911073727/locations/us-central1/studies/2706485868636\n",
      "projects/691911073727/locations/us-central1/studies/3240081905661\n"
     ]
    }
   ],
   "source": [
    "for study in studies:\n",
    "    print(study.name)\n",
    "    clients['viz'].delete_study(name=study.name)"
   ]
  },
  {
   "cell_type": "markdown",
   "id": "7bd6cfc8",
   "metadata": {},
   "source": [
    "---\n",
    "## Vertex AI > Endpoints\n",
    "- Delete endpoints forcing deployed models to undeploy"
   ]
  },
  {
   "cell_type": "code",
   "execution_count": 54,
   "id": "ec7ffc8d",
   "metadata": {},
   "outputs": [],
   "source": [
    "endpoints = aiplatform.Endpoint.list()"
   ]
  },
  {
   "cell_type": "code",
   "execution_count": 56,
   "id": "3fc495b1",
   "metadata": {},
   "outputs": [
    {
     "name": "stdout",
     "output_type": "stream",
     "text": [
      "projects/691911073727/locations/us-central1/endpoints/5446945419630215168\n",
      "INFO:google.cloud.aiplatform.models:Undeploying Endpoint model: projects/691911073727/locations/us-central1/endpoints/5446945419630215168\n",
      "INFO:google.cloud.aiplatform.models:Undeploy Endpoint model backing LRO: projects/691911073727/locations/us-central1/endpoints/5446945419630215168/operations/2639501632412319744\n",
      "INFO:google.cloud.aiplatform.models:Endpoint model undeployed. Resource name: projects/691911073727/locations/us-central1/endpoints/5446945419630215168\n",
      "INFO:google.cloud.aiplatform.base:Deleting Endpoint : projects/691911073727/locations/us-central1/endpoints/5446945419630215168\n",
      "INFO:google.cloud.aiplatform.base:Delete Endpoint  backing LRO: projects/691911073727/locations/us-central1/operations/1927932891287781376\n",
      "INFO:google.cloud.aiplatform.base:Endpoint deleted. . Resource name: projects/691911073727/locations/us-central1/endpoints/5446945419630215168\n",
      "projects/691911073727/locations/us-central1/endpoints/4241669569355186176\n",
      "INFO:google.cloud.aiplatform.models:Undeploying Endpoint model: projects/691911073727/locations/us-central1/endpoints/4241669569355186176\n",
      "INFO:google.cloud.aiplatform.models:Undeploy Endpoint model backing LRO: projects/691911073727/locations/us-central1/endpoints/4241669569355186176/operations/7251187650839707648\n",
      "INFO:google.cloud.aiplatform.models:Endpoint model undeployed. Resource name: projects/691911073727/locations/us-central1/endpoints/4241669569355186176\n",
      "INFO:google.cloud.aiplatform.base:Deleting Endpoint : projects/691911073727/locations/us-central1/endpoints/4241669569355186176\n",
      "INFO:google.cloud.aiplatform.base:Delete Endpoint  backing LRO: projects/691911073727/locations/us-central1/operations/4233775900501475328\n",
      "INFO:google.cloud.aiplatform.base:Endpoint deleted. . Resource name: projects/691911073727/locations/us-central1/endpoints/4241669569355186176\n",
      "projects/691911073727/locations/us-central1/endpoints/8864051636897579008\n",
      "INFO:google.cloud.aiplatform.models:Undeploying Endpoint model: projects/691911073727/locations/us-central1/endpoints/8864051636897579008\n",
      "INFO:google.cloud.aiplatform.models:Undeploy Endpoint model backing LRO: projects/691911073727/locations/us-central1/endpoints/8864051636897579008/operations/6647705300772061184\n",
      "INFO:google.cloud.aiplatform.models:Endpoint model undeployed. Resource name: projects/691911073727/locations/us-central1/endpoints/8864051636897579008\n",
      "INFO:google.cloud.aiplatform.base:Deleting Endpoint : projects/691911073727/locations/us-central1/endpoints/8864051636897579008\n",
      "INFO:google.cloud.aiplatform.base:Delete Endpoint  backing LRO: projects/691911073727/locations/us-central1/operations/8845461918928863232\n",
      "INFO:google.cloud.aiplatform.base:Endpoint deleted. . Resource name: projects/691911073727/locations/us-central1/endpoints/8864051636897579008\n",
      "projects/691911073727/locations/us-central1/endpoints/674818664477753344\n",
      "INFO:google.cloud.aiplatform.models:Undeploying Endpoint model: projects/691911073727/locations/us-central1/endpoints/674818664477753344\n",
      "INFO:google.cloud.aiplatform.models:Undeploy Endpoint model backing LRO: projects/691911073727/locations/us-central1/endpoints/674818664477753344/operations/1486580127805472768\n",
      "INFO:google.cloud.aiplatform.models:Endpoint model undeployed. Resource name: projects/691911073727/locations/us-central1/endpoints/674818664477753344\n",
      "INFO:google.cloud.aiplatform.base:Deleting Endpoint : projects/691911073727/locations/us-central1/endpoints/674818664477753344\n",
      "INFO:google.cloud.aiplatform.base:Delete Endpoint  backing LRO: projects/691911073727/locations/us-central1/operations/3026811200366182400\n",
      "INFO:google.cloud.aiplatform.base:Endpoint deleted. . Resource name: projects/691911073727/locations/us-central1/endpoints/674818664477753344\n",
      "projects/691911073727/locations/us-central1/endpoints/2142992143000535040\n",
      "INFO:google.cloud.aiplatform.models:Undeploying Endpoint model: projects/691911073727/locations/us-central1/endpoints/2142992143000535040\n",
      "INFO:google.cloud.aiplatform.models:Undeploy Endpoint model backing LRO: projects/691911073727/locations/us-central1/endpoints/2142992143000535040/operations/7638497218793570304\n",
      "INFO:google.cloud.aiplatform.models:Endpoint model undeployed. Resource name: projects/691911073727/locations/us-central1/endpoints/2142992143000535040\n",
      "INFO:google.cloud.aiplatform.base:Deleting Endpoint : projects/691911073727/locations/us-central1/endpoints/2142992143000535040\n",
      "INFO:google.cloud.aiplatform.base:Delete Endpoint  backing LRO: projects/691911073727/locations/us-central1/operations/2171127271165788160\n",
      "INFO:google.cloud.aiplatform.base:Endpoint deleted. . Resource name: projects/691911073727/locations/us-central1/endpoints/2142992143000535040\n",
      "projects/691911073727/locations/us-central1/endpoints/732239559726727168\n",
      "INFO:google.cloud.aiplatform.models:Undeploying Endpoint model: projects/691911073727/locations/us-central1/endpoints/732239559726727168\n",
      "INFO:google.cloud.aiplatform.models:Undeploy Endpoint model backing LRO: projects/691911073727/locations/us-central1/endpoints/732239559726727168/operations/5908270536953167872\n",
      "INFO:google.cloud.aiplatform.models:Endpoint model undeployed. Resource name: projects/691911073727/locations/us-central1/endpoints/732239559726727168\n",
      "INFO:google.cloud.aiplatform.base:Deleting Endpoint : projects/691911073727/locations/us-central1/endpoints/732239559726727168\n",
      "INFO:google.cloud.aiplatform.base:Delete Endpoint  backing LRO: projects/691911073727/locations/us-central1/operations/1873889695759335424\n",
      "INFO:google.cloud.aiplatform.base:Endpoint deleted. . Resource name: projects/691911073727/locations/us-central1/endpoints/732239559726727168\n",
      "projects/691911073727/locations/us-central1/endpoints/3811575804941303808\n",
      "INFO:google.cloud.aiplatform.models:Undeploying Endpoint model: projects/691911073727/locations/us-central1/endpoints/3811575804941303808\n",
      "INFO:google.cloud.aiplatform.models:Undeploy Endpoint model backing LRO: projects/691911073727/locations/us-central1/endpoints/3811575804941303808/operations/6098266146232860672\n",
      "INFO:google.cloud.aiplatform.models:Endpoint model undeployed. Resource name: projects/691911073727/locations/us-central1/endpoints/3811575804941303808\n",
      "INFO:google.cloud.aiplatform.base:Deleting Endpoint : projects/691911073727/locations/us-central1/endpoints/3811575804941303808\n",
      "INFO:google.cloud.aiplatform.base:Delete Endpoint  backing LRO: projects/691911073727/locations/us-central1/operations/4783215055040675840\n",
      "INFO:google.cloud.aiplatform.base:Endpoint deleted. . Resource name: projects/691911073727/locations/us-central1/endpoints/3811575804941303808\n",
      "projects/691911073727/locations/us-central1/endpoints/7922236364823724032\n",
      "INFO:google.cloud.aiplatform.models:Undeploying Endpoint model: projects/691911073727/locations/us-central1/endpoints/7922236364823724032\n",
      "INFO:google.cloud.aiplatform.models:Undeploy Endpoint model backing LRO: projects/691911073727/locations/us-central1/endpoints/7922236364823724032/operations/7089058064254369792\n",
      "INFO:google.cloud.aiplatform.models:Endpoint model undeployed. Resource name: projects/691911073727/locations/us-central1/endpoints/7922236364823724032\n",
      "INFO:google.cloud.aiplatform.base:Deleting Endpoint : projects/691911073727/locations/us-central1/endpoints/7922236364823724032\n",
      "INFO:google.cloud.aiplatform.base:Delete Endpoint  backing LRO: projects/691911073727/locations/us-central1/operations/4341862291558367232\n",
      "INFO:google.cloud.aiplatform.base:Endpoint deleted. . Resource name: projects/691911073727/locations/us-central1/endpoints/7922236364823724032\n"
     ]
    }
   ],
   "source": [
    "for ep in endpoints:\n",
    "    print(ep.resource_name)\n",
    "    ep.delete(force=True)"
   ]
  },
  {
   "cell_type": "markdown",
   "id": "aaf8338c",
   "metadata": {},
   "source": [
    "---\n",
    "## Vertex AI > Models\n",
    "- Delete endpoints first (contain deployed models)\n",
    "- Delete uploaded models"
   ]
  },
  {
   "cell_type": "code",
   "execution_count": 57,
   "id": "25d29234",
   "metadata": {},
   "outputs": [],
   "source": [
    "models = aiplatform.Model.list()"
   ]
  },
  {
   "cell_type": "code",
   "execution_count": 58,
   "id": "11c9125e",
   "metadata": {},
   "outputs": [
    {
     "name": "stdout",
     "output_type": "stream",
     "text": [
      "projects/691911073727/locations/us-central1/models/5663478841557909504\n",
      "INFO:google.cloud.aiplatform.base:Deleting Model : projects/691911073727/locations/us-central1/models/5663478841557909504\n",
      "INFO:google.cloud.aiplatform.base:Delete Model  backing LRO: projects/691911073727/locations/us-central1/operations/910119375502049280\n",
      "INFO:google.cloud.aiplatform.base:Model deleted. . Resource name: projects/691911073727/locations/us-central1/models/5663478841557909504\n",
      "projects/691911073727/locations/us-central1/models/3616592810918019072\n",
      "INFO:google.cloud.aiplatform.base:Deleting Model : projects/691911073727/locations/us-central1/models/3616592810918019072\n",
      "INFO:google.cloud.aiplatform.base:Delete Model  backing LRO: projects/691911073727/locations/us-central1/operations/1337961340102246400\n",
      "INFO:google.cloud.aiplatform.base:Model deleted. . Resource name: projects/691911073727/locations/us-central1/models/3616592810918019072\n",
      "projects/691911073727/locations/us-central1/models/7766237655074865152\n",
      "INFO:google.cloud.aiplatform.base:Deleting Model : projects/691911073727/locations/us-central1/models/7766237655074865152\n",
      "INFO:google.cloud.aiplatform.base:Delete Model  backing LRO: projects/691911073727/locations/us-central1/operations/5936136559647522816\n",
      "INFO:google.cloud.aiplatform.base:Model deleted. . Resource name: projects/691911073727/locations/us-central1/models/7766237655074865152\n",
      "projects/691911073727/locations/us-central1/models/7568079271470563328\n",
      "INFO:google.cloud.aiplatform.base:Deleting Model : projects/691911073727/locations/us-central1/models/7568079271470563328\n",
      "INFO:google.cloud.aiplatform.base:Delete Model  backing LRO: projects/691911073727/locations/us-central1/operations/261601029160697856\n",
      "INFO:google.cloud.aiplatform.base:Model deleted. . Resource name: projects/691911073727/locations/us-central1/models/7568079271470563328\n",
      "projects/691911073727/locations/us-central1/models/848708627433783296\n",
      "INFO:google.cloud.aiplatform.base:Deleting Model : projects/691911073727/locations/us-central1/models/848708627433783296\n",
      "INFO:google.cloud.aiplatform.base:Delete Model  backing LRO: projects/691911073727/locations/us-central1/operations/5098467028956610560\n",
      "INFO:google.cloud.aiplatform.base:Model deleted. . Resource name: projects/691911073727/locations/us-central1/models/848708627433783296\n",
      "projects/691911073727/locations/us-central1/models/6649344947486982144\n",
      "INFO:google.cloud.aiplatform.base:Deleting Model : projects/691911073727/locations/us-central1/models/6649344947486982144\n",
      "INFO:google.cloud.aiplatform.base:Delete Model  backing LRO: projects/691911073727/locations/us-central1/operations/504795409038704640\n",
      "INFO:google.cloud.aiplatform.base:Model deleted. . Resource name: projects/691911073727/locations/us-central1/models/6649344947486982144\n",
      "projects/691911073727/locations/us-central1/models/7677291562434297856\n",
      "INFO:google.cloud.aiplatform.base:Deleting Model : projects/691911073727/locations/us-central1/models/7677291562434297856\n",
      "INFO:google.cloud.aiplatform.base:Delete Model  backing LRO: projects/691911073727/locations/us-central1/operations/5116481427466092544\n",
      "INFO:google.cloud.aiplatform.base:Model deleted. . Resource name: projects/691911073727/locations/us-central1/models/7677291562434297856\n",
      "projects/691911073727/locations/us-central1/models/6949960222613962752\n",
      "INFO:google.cloud.aiplatform.base:Deleting Model : projects/691911073727/locations/us-central1/models/6949960222613962752\n",
      "INFO:google.cloud.aiplatform.base:Delete Model  backing LRO: projects/691911073727/locations/us-central1/operations/2792624019742916608\n",
      "INFO:google.cloud.aiplatform.base:Model deleted. . Resource name: projects/691911073727/locations/us-central1/models/6949960222613962752\n",
      "projects/691911073727/locations/us-central1/models/8992342653626482688\n",
      "INFO:google.cloud.aiplatform.base:Deleting Model : projects/691911073727/locations/us-central1/models/8992342653626482688\n",
      "INFO:google.cloud.aiplatform.base:Delete Model  backing LRO: projects/691911073727/locations/us-central1/operations/4873287047588085760\n",
      "INFO:google.cloud.aiplatform.base:Model deleted. . Resource name: projects/691911073727/locations/us-central1/models/8992342653626482688\n"
     ]
    }
   ],
   "source": [
    "for model in models:\n",
    "    print(model.resource_name)\n",
    "    model.delete()"
   ]
  },
  {
   "cell_type": "markdown",
   "id": "0de16a34",
   "metadata": {},
   "source": [
    "---\n",
    "## Vertex AI > Batch Predictions\n",
    "- delete all batch prediction jobs"
   ]
  },
  {
   "cell_type": "code",
   "execution_count": 59,
   "id": "a7b81c7f",
   "metadata": {},
   "outputs": [],
   "source": [
    "bps = aiplatform.BatchPredictionJob.list()"
   ]
  },
  {
   "cell_type": "code",
   "execution_count": 60,
   "id": "301f9316",
   "metadata": {},
   "outputs": [
    {
     "name": "stdout",
     "output_type": "stream",
     "text": [
      "projects/691911073727/locations/us-central1/batchPredictionJobs/1358699503791636480\n",
      "INFO:google.cloud.aiplatform.base:Deleting BatchPredictionJob : projects/691911073727/locations/us-central1/batchPredictionJobs/1358699503791636480\n",
      "INFO:google.cloud.aiplatform.base:Delete BatchPredictionJob  backing LRO: projects/691911073727/locations/us-central1/operations/4670625064356413440\n",
      "INFO:google.cloud.aiplatform.base:BatchPredictionJob deleted. . Resource name: projects/691911073727/locations/us-central1/batchPredictionJobs/1358699503791636480\n"
     ]
    }
   ],
   "source": [
    "for bp in bps:\n",
    "    print(bp.resource_name)\n",
    "    bp.delete()"
   ]
  },
  {
   "cell_type": "markdown",
   "id": "f36e3346",
   "metadata": {},
   "source": [
    "---\n",
    "## Vertex AI > Metadata"
   ]
  },
  {
   "cell_type": "code",
   "execution_count": 82,
   "id": "0d357685",
   "metadata": {},
   "outputs": [],
   "source": [
    "clients['md'] = aiplatform_v1beta1.MetadataServiceClient(client_options=client_options)"
   ]
  },
  {
   "cell_type": "code",
   "execution_count": 83,
   "id": "ece847e1",
   "metadata": {},
   "outputs": [],
   "source": [
    "md = clients['md'].list_metadata_stores(parent=PARENT)"
   ]
  },
  {
   "cell_type": "code",
   "execution_count": 88,
   "id": "2a31c8f8",
   "metadata": {},
   "outputs": [
    {
     "name": "stdout",
     "output_type": "stream",
     "text": [
      "projects/691911073727/locations/us-central1/metadataStores/default\n",
      "name: \"projects/691911073727/locations/us-central1/metadataStores/default/artifacts/11084318035124877310\"\n",
      "display_name: \"endpoint\"\n",
      "uri: \"aiplatform://v1/projects/691911073727/locations/us-central1/endpoints/5446945419630215168\"\n",
      "etag: \"1631109713213\"\n",
      "create_time {\n",
      "  seconds: 1631108707\n",
      "  nanos: 47000000\n",
      "}\n",
      "update_time {\n",
      "  seconds: 1631109713\n",
      "  nanos: 213000000\n",
      "}\n",
      "state: LIVE\n",
      "schema_title: \"system.Artifact\"\n",
      "schema_version: \"0.0.1\"\n",
      "metadata {\n",
      "}\n",
      "\n",
      "name: \"projects/691911073727/locations/us-central1/metadataStores/default/artifacts/7505302604043269173\"\n",
      "display_name: \"model\"\n",
      "uri: \"aiplatform://v1/projects/691911073727/locations/us-central1/models/5663478841557909504\"\n",
      "etag: \"1631108705974\"\n",
      "create_time {\n",
      "  seconds: 1631105335\n",
      "  nanos: 671000000\n",
      "}\n",
      "update_time {\n",
      "  seconds: 1631108705\n",
      "  nanos: 974000000\n",
      "}\n",
      "state: LIVE\n",
      "schema_title: \"system.Model\"\n",
      "schema_version: \"0.0.1\"\n",
      "metadata {\n",
      "}\n",
      "\n",
      "name: \"projects/691911073727/locations/us-central1/metadataStores/default/artifacts/3665055989654676455\"\n",
      "display_name: \"dataset\"\n",
      "uri: \"aiplatform://v1/projects/691911073727/locations/us-central1/datasets/3655823385797066752\"\n",
      "etag: \"1631105334400\"\n",
      "create_time {\n",
      "  seconds: 1631105160\n",
      "  nanos: 808000000\n",
      "}\n",
      "update_time {\n",
      "  seconds: 1631105334\n",
      "  nanos: 400000000\n",
      "}\n",
      "state: LIVE\n",
      "schema_title: \"system.Dataset\"\n",
      "schema_version: \"0.0.1\"\n",
      "metadata {\n",
      "}\n",
      "\n"
     ]
    }
   ],
   "source": [
    "for m in md:\n",
    "    print(m.name)\n",
    "    arts = clients['md'].list_artifacts(parent=m.name)\n",
    "    for a in arts:\n",
    "        print(a)\n",
    "        clients['md'].delete_artifact(name=a.name)\n",
    "    #clients['md'].get_metadata_store(name=m.name)#.purge_artifacts(parent=m.name)"
   ]
  },
  {
   "cell_type": "markdown",
   "id": "e70a5780",
   "metadata": {},
   "source": [
    "---\n",
    "## Storage Bucket Removal\n",
    "\n",
    "- delete contents and storage bucket `statmike-mlops` (named after project)"
   ]
  },
  {
   "cell_type": "code",
   "execution_count": 89,
   "id": "cda5e4c0",
   "metadata": {},
   "outputs": [],
   "source": [
    "from google.cloud import storage\n",
    "clients['gcs'] = storage.Client()"
   ]
  },
  {
   "cell_type": "code",
   "execution_count": 90,
   "id": "0dcf6d87",
   "metadata": {},
   "outputs": [],
   "source": [
    "bucket = clients['gcs'].get_bucket(PROJECT_ID)"
   ]
  },
  {
   "cell_type": "code",
   "execution_count": 91,
   "id": "c1190880",
   "metadata": {},
   "outputs": [
    {
     "ename": "ValueError",
     "evalue": "Refusing to delete bucket with more than 256 objects. If you actually want to delete this bucket, please delete the objects yourself before calling Bucket.delete().",
     "output_type": "error",
     "traceback": [
      "\u001b[0;31m---------------------------------------------------------------------------\u001b[0m",
      "\u001b[0;31mValueError\u001b[0m                                Traceback (most recent call last)",
      "\u001b[0;32m<ipython-input-91-5aa84d053b7e>\u001b[0m in \u001b[0;36m<module>\u001b[0;34m\u001b[0m\n\u001b[0;32m----> 1\u001b[0;31m \u001b[0mbucket\u001b[0m\u001b[0;34m.\u001b[0m\u001b[0mdelete\u001b[0m\u001b[0;34m(\u001b[0m\u001b[0mforce\u001b[0m\u001b[0;34m=\u001b[0m\u001b[0;32mTrue\u001b[0m\u001b[0;34m)\u001b[0m\u001b[0;34m\u001b[0m\u001b[0;34m\u001b[0m\u001b[0m\n\u001b[0m",
      "\u001b[0;32m/opt/conda/lib/python3.7/site-packages/google/cloud/storage/bucket.py\u001b[0m in \u001b[0;36mdelete\u001b[0;34m(self, force, client, if_metageneration_match, if_metageneration_not_match, timeout, retry)\u001b[0m\n\u001b[1;32m   1494\u001b[0m                     \u001b[0;34m\"yourself before calling Bucket.delete().\"\u001b[0m\u001b[0;34m\u001b[0m\u001b[0;34m\u001b[0m\u001b[0m\n\u001b[1;32m   1495\u001b[0m                 ) % (self._MAX_OBJECTS_FOR_ITERATION,)\n\u001b[0;32m-> 1496\u001b[0;31m                 \u001b[0;32mraise\u001b[0m \u001b[0mValueError\u001b[0m\u001b[0;34m(\u001b[0m\u001b[0mmessage\u001b[0m\u001b[0;34m)\u001b[0m\u001b[0;34m\u001b[0m\u001b[0;34m\u001b[0m\u001b[0m\n\u001b[0m\u001b[1;32m   1497\u001b[0m \u001b[0;34m\u001b[0m\u001b[0m\n\u001b[1;32m   1498\u001b[0m             \u001b[0;31m# Ignore 404 errors on delete.\u001b[0m\u001b[0;34m\u001b[0m\u001b[0;34m\u001b[0m\u001b[0;34m\u001b[0m\u001b[0m\n",
      "\u001b[0;31mValueError\u001b[0m: Refusing to delete bucket with more than 256 objects. If you actually want to delete this bucket, please delete the objects yourself before calling Bucket.delete()."
     ]
    }
   ],
   "source": [
    "bucket.delete(force=True)"
   ]
  },
  {
   "cell_type": "code",
   "execution_count": null,
   "id": "aa081b36",
   "metadata": {},
   "outputs": [],
   "source": []
  }
 ],
 "metadata": {
  "environment": {
   "name": "tf2-gpu.2-5.m76",
   "type": "gcloud",
   "uri": "gcr.io/deeplearning-platform-release/tf2-gpu.2-5:m76"
  },
  "kernelspec": {
   "display_name": "Python 3",
   "language": "python",
   "name": "python3"
  },
  "language_info": {
   "codemirror_mode": {
    "name": "ipython",
    "version": 3
   },
   "file_extension": ".py",
   "mimetype": "text/x-python",
   "name": "python",
   "nbconvert_exporter": "python",
   "pygments_lexer": "ipython3",
   "version": "3.7.10"
  }
 },
 "nbformat": 4,
 "nbformat_minor": 5
}
