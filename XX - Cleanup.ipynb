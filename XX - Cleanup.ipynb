{
 "cells": [
  {
   "cell_type": "markdown",
   "id": "mediterranean-marking",
   "metadata": {},
   "source": [
    "# Cleanup Resources\n",
    "\n",
    "Each notebook has a resource cleanup section that is designed to remove just the resources it created.\n",
    "\n",
    "This notebook is designed to remove all resources by type created.  By being a general cleanup utility, you can skip sections that you want to remain in use."
   ]
  },
  {
   "cell_type": "code",
   "execution_count": 1,
   "id": "ahead-delay",
   "metadata": {},
   "outputs": [],
   "source": [
    "PROJECT_ID = 'statmike-mlops'"
   ]
  },
  {
   "cell_type": "markdown",
   "id": "serious-scout",
   "metadata": {},
   "source": [
    "## BigQuery\n",
    "- Delete the dataset `digits`"
   ]
  },
  {
   "cell_type": "markdown",
   "id": "industrial-silver",
   "metadata": {},
   "source": [
    "## Endpoints\n",
    "\n",
    "- Undeploy models\n",
    "- Delete endpoints"
   ]
  },
  {
   "cell_type": "markdown",
   "id": "incomplete-lawrence",
   "metadata": {},
   "source": [
    "## Models\n",
    "- Delete uploaded models"
   ]
  },
  {
   "cell_type": "markdown",
   "id": "horizontal-berkeley",
   "metadata": {},
   "source": [
    "## Storage\n",
    "\n",
    "- delete contents of the storage bucket `statmike-models`"
   ]
  },
  {
   "cell_type": "code",
   "execution_count": null,
   "id": "expanded-content",
   "metadata": {},
   "outputs": [],
   "source": []
  }
 ],
 "metadata": {
  "environment": {
   "name": "tf2-gpu.2-4.m65",
   "type": "gcloud",
   "uri": "gcr.io/deeplearning-platform-release/tf2-gpu.2-4:m65"
  },
  "kernelspec": {
   "display_name": "Python 3",
   "language": "python",
   "name": "python3"
  },
  "language_info": {
   "codemirror_mode": {
    "name": "ipython",
    "version": 3
   },
   "file_extension": ".py",
   "mimetype": "text/x-python",
   "name": "python",
   "nbconvert_exporter": "python",
   "pygments_lexer": "ipython3",
   "version": "3.7.10"
  }
 },
 "nbformat": 4,
 "nbformat_minor": 5
}
