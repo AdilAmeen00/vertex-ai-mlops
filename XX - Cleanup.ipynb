{
 "cells": [
  {
   "cell_type": "markdown",
   "id": "cbdd75bb",
   "metadata": {},
   "source": [
    "# Cleanup All Resources\n",
    "\n",
    "Each notebook has a resource cleanup section that is designed to remove just the resources it created.\n",
    "\n",
    "This notebook is designed to remove all resources by the type created.  By being a general cleanup utility, you can skip sections that you want to remain in use.  This notebook also has a section to delete the GCS bucket created in the `00 - Initial Setup` notebook.\n",
    "\n",
    "**Resources**\n",
    "- Vertex AI: https://googleapis.dev/python/aiplatform/latest/index.html\n",
    "- BigQuery: https://googleapis.dev/python/bigquery/latest/index.html\n",
    "- GCS: https://googleapis.dev/python/storage/latest/client.html"
   ]
  },
  {
   "cell_type": "markdown",
   "id": "beff0287",
   "metadata": {},
   "source": [
    "---\n",
    "## Setup"
   ]
  },
  {
   "cell_type": "markdown",
   "id": "8a1e98d2",
   "metadata": {},
   "source": [
    "Parameters:"
   ]
  },
  {
   "cell_type": "code",
   "execution_count": 10,
   "id": "49036e00",
   "metadata": {},
   "outputs": [],
   "source": [
    "PROJECT_ID = 'statmike-mlops'\n",
    "REGION = 'us-central1'\n",
    "\n",
    "PARENT = \"projects/\" + PROJECT_ID + \"/locations/\" + REGION"
   ]
  },
  {
   "cell_type": "markdown",
   "id": "00e15a90",
   "metadata": {},
   "source": [
    "AI Platform Client Setup:"
   ]
  },
  {
   "cell_type": "code",
   "execution_count": 11,
   "id": "967d22eb",
   "metadata": {},
   "outputs": [],
   "source": [
    "from google.cloud import aiplatform\n",
    "from google.cloud import aiplatform_v1beta1\n",
    "\n",
    "API_ENDPOINT = \"{}-aiplatform.googleapis.com\".format(REGION)\n",
    "client_options = {\"api_endpoint\": API_ENDPOINT}\n",
    "clients = {}\n",
    "\n",
    "aiplatform.init(project=PROJECT_ID, location=REGION)\n",
    "\n",
    "PARENT = \"projects/\" + PROJECT_ID + \"/locations/\" + REGION"
   ]
  },
  {
   "cell_type": "markdown",
   "id": "cacc5197",
   "metadata": {},
   "source": [
    "---\n",
    "## BigQuery\n",
    "- Delete the dataset `digits`"
   ]
  },
  {
   "cell_type": "markdown",
   "id": "032d4292",
   "metadata": {},
   "source": [
    "Make a client connection to BigQuery"
   ]
  },
  {
   "cell_type": "code",
   "execution_count": 12,
   "id": "b4cc2110",
   "metadata": {},
   "outputs": [],
   "source": [
    "from google.cloud import bigquery\n",
    "clients['bq'] = bigquery.Client(project=PROJECT_ID)"
   ]
  },
  {
   "cell_type": "markdown",
   "id": "8cb40b76",
   "metadata": {},
   "source": [
    "list of datasets in the project:"
   ]
  },
  {
   "cell_type": "code",
   "execution_count": 13,
   "id": "367250a4",
   "metadata": {},
   "outputs": [],
   "source": [
    "datasets = list(clients['bq'].list_datasets())"
   ]
  },
  {
   "cell_type": "markdown",
   "id": "96113e49",
   "metadata": {},
   "source": [
    "delete each dataset:"
   ]
  },
  {
   "cell_type": "code",
   "execution_count": 14,
   "id": "bd0694f0",
   "metadata": {},
   "outputs": [
    {
     "name": "stdout",
     "output_type": "stream",
     "text": [
      "digits\n",
      "model_deployment_monitoring_7199267887142404096\n"
     ]
    },
    {
     "ename": "Forbidden",
     "evalue": "403 DELETE https://bigquery.googleapis.com/bigquery/v2/projects/statmike-mlops/datasets/model_deployment_monitoring_7199267887142404096?deleteContents=true&prettyPrint=false: Access Denied: Dataset statmike-mlops:model_deployment_monitoring_7199267887142404096: Permission bigquery.datasets.delete denied on dataset statmike-mlops:model_deployment_monitoring_7199267887142404096 (or it may not exist).",
     "output_type": "error",
     "traceback": [
      "\u001b[0;31m---------------------------------------------------------------------------\u001b[0m",
      "\u001b[0;31mForbidden\u001b[0m                                 Traceback (most recent call last)",
      "\u001b[0;32m/tmp/ipykernel_25109/355165183.py\u001b[0m in \u001b[0;36m<module>\u001b[0;34m\u001b[0m\n\u001b[1;32m      1\u001b[0m \u001b[0;32mfor\u001b[0m \u001b[0mds\u001b[0m \u001b[0;32min\u001b[0m \u001b[0mdatasets\u001b[0m\u001b[0;34m:\u001b[0m\u001b[0;34m\u001b[0m\u001b[0;34m\u001b[0m\u001b[0m\n\u001b[1;32m      2\u001b[0m     \u001b[0mprint\u001b[0m\u001b[0;34m(\u001b[0m\u001b[0mds\u001b[0m\u001b[0;34m.\u001b[0m\u001b[0mdataset_id\u001b[0m\u001b[0;34m)\u001b[0m\u001b[0;34m\u001b[0m\u001b[0;34m\u001b[0m\u001b[0m\n\u001b[0;32m----> 3\u001b[0;31m     \u001b[0mclients\u001b[0m\u001b[0;34m[\u001b[0m\u001b[0;34m'bq'\u001b[0m\u001b[0;34m]\u001b[0m\u001b[0;34m.\u001b[0m\u001b[0mdelete_dataset\u001b[0m\u001b[0;34m(\u001b[0m\u001b[0mds\u001b[0m\u001b[0;34m.\u001b[0m\u001b[0mdataset_id\u001b[0m\u001b[0;34m,\u001b[0m\u001b[0mdelete_contents\u001b[0m\u001b[0;34m=\u001b[0m\u001b[0;32mTrue\u001b[0m\u001b[0;34m,\u001b[0m\u001b[0mnot_found_ok\u001b[0m\u001b[0;34m=\u001b[0m\u001b[0;32mTrue\u001b[0m\u001b[0;34m)\u001b[0m\u001b[0;34m\u001b[0m\u001b[0;34m\u001b[0m\u001b[0m\n\u001b[0m",
      "\u001b[0;32m/opt/conda/lib/python3.7/site-packages/google/cloud/bigquery/client.py\u001b[0m in \u001b[0;36mdelete_dataset\u001b[0;34m(self, dataset, delete_contents, retry, timeout, not_found_ok)\u001b[0m\n\u001b[1;32m   1584\u001b[0m                 \u001b[0mA\u001b[0m \u001b[0mreference\u001b[0m \u001b[0mto\u001b[0m \u001b[0mthe\u001b[0m \u001b[0mmodel\u001b[0m \u001b[0mto\u001b[0m \u001b[0mdelete\u001b[0m\u001b[0;34m.\u001b[0m \u001b[0mIf\u001b[0m \u001b[0ma\u001b[0m \u001b[0mstring\u001b[0m \u001b[0;32mis\u001b[0m \u001b[0mpassed\u001b[0m \u001b[0;32min\u001b[0m\u001b[0;34m,\u001b[0m\u001b[0;34m\u001b[0m\u001b[0;34m\u001b[0m\u001b[0m\n\u001b[1;32m   1585\u001b[0m                 \u001b[0mthis\u001b[0m \u001b[0mmethod\u001b[0m \u001b[0mattempts\u001b[0m \u001b[0mto\u001b[0m \u001b[0mcreate\u001b[0m \u001b[0ma\u001b[0m \u001b[0mmodel\u001b[0m \u001b[0mreference\u001b[0m \u001b[0;32mfrom\u001b[0m \u001b[0ma\u001b[0m\u001b[0;34m\u001b[0m\u001b[0;34m\u001b[0m\u001b[0m\n\u001b[0;32m-> 1586\u001b[0;31m                 \u001b[0mstring\u001b[0m \u001b[0musing\u001b[0m\u001b[0;34m\u001b[0m\u001b[0;34m\u001b[0m\u001b[0m\n\u001b[0m\u001b[1;32m   1587\u001b[0m                 \u001b[0;34m:\u001b[0m\u001b[0mfunc\u001b[0m\u001b[0;34m:\u001b[0m\u001b[0;31m`\u001b[0m\u001b[0mgoogle\u001b[0m\u001b[0;34m.\u001b[0m\u001b[0mcloud\u001b[0m\u001b[0;34m.\u001b[0m\u001b[0mbigquery\u001b[0m\u001b[0;34m.\u001b[0m\u001b[0mmodel\u001b[0m\u001b[0;34m.\u001b[0m\u001b[0mModelReference\u001b[0m\u001b[0;34m.\u001b[0m\u001b[0mfrom_string\u001b[0m\u001b[0;31m`\u001b[0m\u001b[0;34m.\u001b[0m\u001b[0;34m\u001b[0m\u001b[0;34m\u001b[0m\u001b[0m\n\u001b[1;32m   1588\u001b[0m             \u001b[0mretry\u001b[0m \u001b[0;34m(\u001b[0m\u001b[0mOptional\u001b[0m\u001b[0;34m[\u001b[0m\u001b[0mgoogle\u001b[0m\u001b[0;34m.\u001b[0m\u001b[0mapi_core\u001b[0m\u001b[0;34m.\u001b[0m\u001b[0mretry\u001b[0m\u001b[0;34m.\u001b[0m\u001b[0mRetry\u001b[0m\u001b[0;34m]\u001b[0m\u001b[0;34m)\u001b[0m\u001b[0;34m:\u001b[0m\u001b[0;34m\u001b[0m\u001b[0;34m\u001b[0m\u001b[0m\n",
      "\u001b[0;32m/opt/conda/lib/python3.7/site-packages/google/cloud/bigquery/client.py\u001b[0m in \u001b[0;36m_call_api\u001b[0;34m(self, retry, span_name, span_attributes, job_ref, headers, **kwargs)\u001b[0m\n\u001b[1;32m    763\u001b[0m                 \u001b[0mThe\u001b[0m \u001b[0mnumber\u001b[0m \u001b[0mof\u001b[0m \u001b[0mseconds\u001b[0m \u001b[0mto\u001b[0m \u001b[0mwait\u001b[0m \u001b[0;32mfor\u001b[0m \u001b[0mthe\u001b[0m \u001b[0munderlying\u001b[0m \u001b[0mHTTP\u001b[0m \u001b[0mtransport\u001b[0m\u001b[0;34m\u001b[0m\u001b[0;34m\u001b[0m\u001b[0m\n\u001b[1;32m    764\u001b[0m                 \u001b[0mbefore\u001b[0m \u001b[0musing\u001b[0m\u001b[0;31m \u001b[0m\u001b[0;31m`\u001b[0m\u001b[0;31m`\u001b[0m\u001b[0mretry\u001b[0m\u001b[0;31m`\u001b[0m\u001b[0;31m`\u001b[0m\u001b[0;34m.\u001b[0m\u001b[0;34m\u001b[0m\u001b[0;34m\u001b[0m\u001b[0m\n\u001b[0;32m--> 765\u001b[0;31m \u001b[0;34m\u001b[0m\u001b[0m\n\u001b[0m\u001b[1;32m    766\u001b[0m         \u001b[0mReturns\u001b[0m\u001b[0;34m:\u001b[0m\u001b[0;34m\u001b[0m\u001b[0;34m\u001b[0m\u001b[0m\n\u001b[1;32m    767\u001b[0m             \u001b[0mgoogle\u001b[0m\u001b[0;34m.\u001b[0m\u001b[0mcloud\u001b[0m\u001b[0;34m.\u001b[0m\u001b[0mbigquery\u001b[0m\u001b[0;34m.\u001b[0m\u001b[0mdataset\u001b[0m\u001b[0;34m.\u001b[0m\u001b[0mDataset\u001b[0m\u001b[0;34m:\u001b[0m\u001b[0;34m\u001b[0m\u001b[0;34m\u001b[0m\u001b[0m\n",
      "\u001b[0;32m/opt/conda/lib/python3.7/site-packages/google/api_core/retry.py\u001b[0m in \u001b[0;36mretry_wrapped_func\u001b[0;34m(*args, **kwargs)\u001b[0m\n\u001b[1;32m    289\u001b[0m                 \u001b[0msleep_generator\u001b[0m\u001b[0;34m,\u001b[0m\u001b[0;34m\u001b[0m\u001b[0;34m\u001b[0m\u001b[0m\n\u001b[1;32m    290\u001b[0m                 \u001b[0mself\u001b[0m\u001b[0;34m.\u001b[0m\u001b[0m_deadline\u001b[0m\u001b[0;34m,\u001b[0m\u001b[0;34m\u001b[0m\u001b[0;34m\u001b[0m\u001b[0m\n\u001b[0;32m--> 291\u001b[0;31m                 \u001b[0mon_error\u001b[0m\u001b[0;34m=\u001b[0m\u001b[0mon_error\u001b[0m\u001b[0;34m,\u001b[0m\u001b[0;34m\u001b[0m\u001b[0;34m\u001b[0m\u001b[0m\n\u001b[0m\u001b[1;32m    292\u001b[0m             )\n\u001b[1;32m    293\u001b[0m \u001b[0;34m\u001b[0m\u001b[0m\n",
      "\u001b[0;32m/opt/conda/lib/python3.7/site-packages/google/api_core/retry.py\u001b[0m in \u001b[0;36mretry_target\u001b[0;34m(target, predicate, sleep_generator, deadline, on_error)\u001b[0m\n\u001b[1;32m    187\u001b[0m     \u001b[0;32mfor\u001b[0m \u001b[0msleep\u001b[0m \u001b[0;32min\u001b[0m \u001b[0msleep_generator\u001b[0m\u001b[0;34m:\u001b[0m\u001b[0;34m\u001b[0m\u001b[0;34m\u001b[0m\u001b[0m\n\u001b[1;32m    188\u001b[0m         \u001b[0;32mtry\u001b[0m\u001b[0;34m:\u001b[0m\u001b[0;34m\u001b[0m\u001b[0;34m\u001b[0m\u001b[0m\n\u001b[0;32m--> 189\u001b[0;31m             \u001b[0;32mreturn\u001b[0m \u001b[0mtarget\u001b[0m\u001b[0;34m(\u001b[0m\u001b[0;34m)\u001b[0m\u001b[0;34m\u001b[0m\u001b[0;34m\u001b[0m\u001b[0m\n\u001b[0m\u001b[1;32m    190\u001b[0m \u001b[0;34m\u001b[0m\u001b[0m\n\u001b[1;32m    191\u001b[0m         \u001b[0;31m# pylint: disable=broad-except\u001b[0m\u001b[0;34m\u001b[0m\u001b[0;34m\u001b[0m\u001b[0;34m\u001b[0m\u001b[0m\n",
      "\u001b[0;32m/opt/conda/lib/python3.7/site-packages/google/cloud/_http.py\u001b[0m in \u001b[0;36mapi_request\u001b[0;34m(self, method, path, query_params, data, content_type, headers, api_base_url, api_version, expect_json, _target_object, timeout)\u001b[0m\n\u001b[1;32m    477\u001b[0m             \u001b[0mcontent_type\u001b[0m\u001b[0;34m=\u001b[0m\u001b[0mcontent_type\u001b[0m\u001b[0;34m,\u001b[0m\u001b[0;34m\u001b[0m\u001b[0;34m\u001b[0m\u001b[0m\n\u001b[1;32m    478\u001b[0m             \u001b[0mheaders\u001b[0m\u001b[0;34m=\u001b[0m\u001b[0mheaders\u001b[0m\u001b[0;34m,\u001b[0m\u001b[0;34m\u001b[0m\u001b[0;34m\u001b[0m\u001b[0m\n\u001b[0;32m--> 479\u001b[0;31m             \u001b[0mtarget_object\u001b[0m\u001b[0;34m=\u001b[0m\u001b[0m_target_object\u001b[0m\u001b[0;34m,\u001b[0m\u001b[0;34m\u001b[0m\u001b[0;34m\u001b[0m\u001b[0m\n\u001b[0m\u001b[1;32m    480\u001b[0m             \u001b[0mtimeout\u001b[0m\u001b[0;34m=\u001b[0m\u001b[0mtimeout\u001b[0m\u001b[0;34m,\u001b[0m\u001b[0;34m\u001b[0m\u001b[0;34m\u001b[0m\u001b[0m\n\u001b[1;32m    481\u001b[0m         )\n",
      "\u001b[0;31mForbidden\u001b[0m: 403 DELETE https://bigquery.googleapis.com/bigquery/v2/projects/statmike-mlops/datasets/model_deployment_monitoring_7199267887142404096?deleteContents=true&prettyPrint=false: Access Denied: Dataset statmike-mlops:model_deployment_monitoring_7199267887142404096: Permission bigquery.datasets.delete denied on dataset statmike-mlops:model_deployment_monitoring_7199267887142404096 (or it may not exist)."
     ]
    }
   ],
   "source": [
    "for ds in datasets:\n",
    "    print(ds.dataset_id)\n",
    "    clients['bq'].delete_dataset(ds.dataset_id,delete_contents=True,not_found_ok=True)"
   ]
  },
  {
   "cell_type": "markdown",
   "id": "786cb279",
   "metadata": {},
   "source": [
    "---\n",
    "## Vertex AI > Datasets\n",
    "- Delete datasets"
   ]
  },
  {
   "cell_type": "code",
   "execution_count": 15,
   "id": "6e6f9965",
   "metadata": {},
   "outputs": [],
   "source": [
    "datasets = aiplatform.TabularDataset.list()"
   ]
  },
  {
   "cell_type": "code",
   "execution_count": 16,
   "id": "f73636e0",
   "metadata": {},
   "outputs": [
    {
     "name": "stdout",
     "output_type": "stream",
     "text": [
      "projects/691911073727/locations/us-central1/datasets/5098945591392600064\n",
      "INFO:google.cloud.aiplatform.base:Deleting TabularDataset : projects/691911073727/locations/us-central1/datasets/5098945591392600064\n",
      "INFO:google.cloud.aiplatform.base:Delete TabularDataset  backing LRO: projects/691911073727/locations/us-central1/operations/11244430539358208\n",
      "INFO:google.cloud.aiplatform.base:TabularDataset deleted. . Resource name: projects/691911073727/locations/us-central1/datasets/5098945591392600064\n",
      "projects/691911073727/locations/us-central1/datasets/7530889390172667904\n",
      "INFO:google.cloud.aiplatform.base:Deleting TabularDataset : projects/691911073727/locations/us-central1/datasets/7530889390172667904\n",
      "INFO:google.cloud.aiplatform.base:Delete TabularDataset  backing LRO: projects/691911073727/locations/us-central1/operations/4622930448966746112\n",
      "INFO:google.cloud.aiplatform.base:TabularDataset deleted. . Resource name: projects/691911073727/locations/us-central1/datasets/7530889390172667904\n",
      "projects/691911073727/locations/us-central1/datasets/5905652874645340160\n",
      "INFO:google.cloud.aiplatform.base:Deleting TabularDataset : projects/691911073727/locations/us-central1/datasets/5905652874645340160\n",
      "INFO:google.cloud.aiplatform.base:Delete TabularDataset  backing LRO: projects/691911073727/locations/us-central1/operations/3722210523492646912\n",
      "INFO:google.cloud.aiplatform.base:TabularDataset deleted. . Resource name: projects/691911073727/locations/us-central1/datasets/5905652874645340160\n",
      "projects/691911073727/locations/us-central1/datasets/839103293853532160\n",
      "INFO:google.cloud.aiplatform.base:Deleting TabularDataset : projects/691911073727/locations/us-central1/datasets/839103293853532160\n",
      "INFO:google.cloud.aiplatform.base:Delete TabularDataset  backing LRO: projects/691911073727/locations/us-central1/operations/614726780607004672\n",
      "INFO:google.cloud.aiplatform.base:TabularDataset deleted. . Resource name: projects/691911073727/locations/us-central1/datasets/839103293853532160\n"
     ]
    }
   ],
   "source": [
    "for ds in datasets:\n",
    "    print(ds.resource_name)\n",
    "    aiplatform.TabularDataset(dataset_name=ds.resource_name).delete()"
   ]
  },
  {
   "cell_type": "markdown",
   "id": "ca8a4bf1",
   "metadata": {},
   "source": [
    "---\n",
    "## Vertex AI > Features\n",
    "- delete feature store including entity types and features"
   ]
  },
  {
   "cell_type": "code",
   "execution_count": 16,
   "id": "d6e653d4",
   "metadata": {},
   "outputs": [],
   "source": [
    "clients['fs'] = aiplatform_v1beta1.FeaturestoreServiceClient(client_options=client_options)"
   ]
  },
  {
   "cell_type": "code",
   "execution_count": 17,
   "id": "a517476f",
   "metadata": {},
   "outputs": [],
   "source": [
    "fs = clients['fs'].list_featurestores(parent=PARENT)"
   ]
  },
  {
   "cell_type": "code",
   "execution_count": 18,
   "id": "d6ad207f",
   "metadata": {},
   "outputs": [
    {
     "name": "stdout",
     "output_type": "stream",
     "text": [
      "projects/691911073727/locations/us-central1/featurestores/digits_featurestore\n"
     ]
    }
   ],
   "source": [
    "for f in fs:\n",
    "    print(f.name)\n",
    "    clients['fs'].delete_featurestore(request = aiplatform_v1beta1.types.DeleteFeaturestoreRequest(name=f.name,force=True))"
   ]
  },
  {
   "cell_type": "markdown",
   "id": "cbb51f65",
   "metadata": {},
   "source": [
    "---\n",
    "## Vertex AI > Pipelines\n",
    "* Delete Managed Pipelines"
   ]
  },
  {
   "cell_type": "code",
   "execution_count": 17,
   "id": "1c2b40eb",
   "metadata": {},
   "outputs": [],
   "source": [
    "pl = aiplatform.PipelineJob.list()"
   ]
  },
  {
   "cell_type": "code",
   "execution_count": 18,
   "id": "6e84bd7c",
   "metadata": {},
   "outputs": [
    {
     "name": "stdout",
     "output_type": "stream",
     "text": [
      "kfp-02c-digits-20210915141811-20210915142043\n",
      "INFO:google.cloud.aiplatform.base:Deleting PipelineJob : projects/691911073727/locations/us-central1/pipelineJobs/kfp-02c-digits-20210915141811-20210915142043\n",
      "INFO:google.cloud.aiplatform.base:Delete PipelineJob  backing LRO: projects/691911073727/locations/us-central1/operations/2920569789820698624\n",
      "INFO:google.cloud.aiplatform.base:PipelineJob deleted. . Resource name: projects/691911073727/locations/us-central1/pipelineJobs/kfp-02c-digits-20210915141811-20210915142043\n",
      "kfp-02c-digits-20210915135548\n",
      "INFO:google.cloud.aiplatform.base:Deleting PipelineJob : projects/691911073727/locations/us-central1/pipelineJobs/kfp-02c-digits-20210915135548\n",
      "INFO:google.cloud.aiplatform.base:Delete PipelineJob  backing LRO: projects/691911073727/locations/us-central1/operations/1524453905335844864\n",
      "INFO:google.cloud.aiplatform.base:PipelineJob deleted. . Resource name: projects/691911073727/locations/us-central1/pipelineJobs/kfp-02c-digits-20210915135548\n"
     ]
    }
   ],
   "source": [
    "for p in pl:\n",
    "    print(p.name)\n",
    "    p.delete()"
   ]
  },
  {
   "cell_type": "markdown",
   "id": "18eb8b0a",
   "metadata": {},
   "source": [
    "---\n",
    "## Vertex AI > Training\n",
    "- delete various jobs types\n",
    "- some create with aiplatform.* and other created by aiplatform.gapic.*"
   ]
  },
  {
   "cell_type": "markdown",
   "id": "2ba500a4",
   "metadata": {},
   "source": [
    "## Vertex AI > Training > Training Pipelines\n",
    "- Delete training pipelines"
   ]
  },
  {
   "cell_type": "code",
   "execution_count": 19,
   "id": "da3779ab",
   "metadata": {},
   "outputs": [],
   "source": [
    "jobs = aiplatform.CustomTrainingJob.list()\n",
    "for j in jobs:\n",
    "    print(j.display_name)\n",
    "    j.delete()"
   ]
  },
  {
   "cell_type": "code",
   "execution_count": 20,
   "id": "0040493a",
   "metadata": {},
   "outputs": [],
   "source": [
    "jobs = aiplatform.CustomPythonPackageTrainingJob.list()\n",
    "for j in jobs:\n",
    "    print(j.display_name)\n",
    "    j.delete()"
   ]
  },
  {
   "cell_type": "code",
   "execution_count": 21,
   "id": "7a05a635",
   "metadata": {},
   "outputs": [
    {
     "name": "stdout",
     "output_type": "stream",
     "text": [
      "02c_digits_20210915141811\n",
      "INFO:google.cloud.aiplatform.base:Deleting AutoMLTabularTrainingJob : projects/691911073727/locations/us-central1/trainingPipelines/6531118860198739968\n",
      "INFO:google.cloud.aiplatform.base:Delete AutoMLTabularTrainingJob  backing LRO: projects/691911073727/locations/us-central1/operations/6339927806901747712\n",
      "INFO:google.cloud.aiplatform.base:AutoMLTabularTrainingJob deleted. . Resource name: projects/691911073727/locations/us-central1/trainingPipelines/6531118860198739968\n",
      "02c_digits\n",
      "INFO:google.cloud.aiplatform.base:Deleting AutoMLTabularTrainingJob : projects/691911073727/locations/us-central1/trainingPipelines/7328255994243317760\n",
      "INFO:google.cloud.aiplatform.base:Delete AutoMLTabularTrainingJob  backing LRO: projects/691911073727/locations/us-central1/operations/8685177312854933504\n",
      "INFO:google.cloud.aiplatform.base:AutoMLTabularTrainingJob deleted. . Resource name: projects/691911073727/locations/us-central1/trainingPipelines/7328255994243317760\n",
      "02b_digits_20210914203313\n",
      "INFO:google.cloud.aiplatform.base:Deleting AutoMLTabularTrainingJob : projects/691911073727/locations/us-central1/trainingPipelines/5818142744190648320\n",
      "INFO:google.cloud.aiplatform.base:Delete AutoMLTabularTrainingJob  backing LRO: projects/691911073727/locations/us-central1/operations/488625991040630784\n",
      "INFO:google.cloud.aiplatform.base:AutoMLTabularTrainingJob deleted. . Resource name: projects/691911073727/locations/us-central1/trainingPipelines/5818142744190648320\n",
      "02a_digits_202191420320\n",
      "INFO:google.cloud.aiplatform.base:Deleting AutoMLTabularTrainingJob : projects/691911073727/locations/us-central1/trainingPipelines/6426128693885665280\n",
      "INFO:google.cloud.aiplatform.base:Delete AutoMLTabularTrainingJob  backing LRO: projects/691911073727/locations/us-central1/operations/8757234906892861440\n",
      "INFO:google.cloud.aiplatform.base:AutoMLTabularTrainingJob deleted. . Resource name: projects/691911073727/locations/us-central1/trainingPipelines/6426128693885665280\n"
     ]
    }
   ],
   "source": [
    "jobs = aiplatform.AutoMLTabularTrainingJob.list()\n",
    "for j in jobs:\n",
    "    print(j.display_name)\n",
    "    j.delete()"
   ]
  },
  {
   "cell_type": "markdown",
   "id": "8bfe6f9e",
   "metadata": {},
   "source": [
    "## Vertex AI > Training > Custom Job\n",
    "- Delete custom training jobs"
   ]
  },
  {
   "cell_type": "code",
   "execution_count": 22,
   "id": "edf8c07e",
   "metadata": {},
   "outputs": [
    {
     "name": "stdout",
     "output_type": "stream",
     "text": [
      "caip_pipelines_288450278477266944_3207064311990059008\n",
      "INFO:google.cloud.aiplatform.base:Deleting CustomJob : projects/691911073727/locations/us-central1/customJobs/2083814228170375168\n",
      "INFO:google.cloud.aiplatform.base:Delete CustomJob  backing LRO: projects/691911073727/locations/us-central1/operations/7865522180673503232\n",
      "INFO:google.cloud.aiplatform.base:CustomJob deleted. . Resource name: projects/691911073727/locations/us-central1/customJobs/2083814228170375168\n",
      "caip_pipelines_288450278477266944_-3710464715651022848\n",
      "INFO:google.cloud.aiplatform.base:Deleting CustomJob : projects/691911073727/locations/us-central1/customJobs/7593968372258177024\n",
      "INFO:google.cloud.aiplatform.base:Delete CustomJob  backing LRO: projects/691911073727/locations/us-central1/operations/4469808061636149248\n",
      "INFO:google.cloud.aiplatform.base:CustomJob deleted. . Resource name: projects/691911073727/locations/us-central1/customJobs/7593968372258177024\n",
      "caip_pipelines_288450278477266944_-6016307724864716800\n",
      "INFO:google.cloud.aiplatform.base:Deleting CustomJob : projects/691911073727/locations/us-central1/customJobs/1460065679779561472\n",
      "INFO:google.cloud.aiplatform.base:Delete CustomJob  backing LRO: projects/691911073727/locations/us-central1/operations/6649550281283469312\n",
      "INFO:google.cloud.aiplatform.base:CustomJob deleted. . Resource name: projects/691911073727/locations/us-central1/customJobs/1460065679779561472\n",
      "caip_pipelines_5579757628172533760_-4971472611314761728\n",
      "INFO:google.cloud.aiplatform.base:Deleting CustomJob : projects/691911073727/locations/us-central1/customJobs/8845969068667174912\n",
      "INFO:google.cloud.aiplatform.base:Delete CustomJob  backing LRO: projects/691911073727/locations/us-central1/operations/4343707272069775360\n",
      "INFO:google.cloud.aiplatform.base:CustomJob deleted. . Resource name: projects/691911073727/locations/us-central1/customJobs/8845969068667174912\n",
      "caip_pipelines_5579757628172533760_-359786592887373824\n",
      "INFO:google.cloud.aiplatform.base:Deleting CustomJob : projects/691911073727/locations/us-central1/customJobs/1135806506608885760\n",
      "INFO:google.cloud.aiplatform.base:Delete CustomJob  backing LRO: projects/691911073727/locations/us-central1/operations/5010240016920608768\n",
      "INFO:google.cloud.aiplatform.base:CustomJob deleted. . Resource name: projects/691911073727/locations/us-central1/customJobs/1135806506608885760\n"
     ]
    }
   ],
   "source": [
    "jobs = aiplatform.CustomJob.list()\n",
    "for j in jobs:\n",
    "    print(j.display_name)\n",
    "    j.delete()"
   ]
  },
  {
   "cell_type": "markdown",
   "id": "199a9c27",
   "metadata": {},
   "source": [
    "## Vertex AI > Training > Hyperparameter Tuning Job"
   ]
  },
  {
   "cell_type": "code",
   "execution_count": 23,
   "id": "681b98be",
   "metadata": {},
   "outputs": [],
   "source": [
    "jobs = aiplatform.HyperparameterTuningJob.list()\n",
    "for j in jobs:\n",
    "    print(j.display_name)\n",
    "    j.delete()"
   ]
  },
  {
   "cell_type": "markdown",
   "id": "d09fd2c6",
   "metadata": {},
   "source": [
    "---\n",
    "## Vertex AI > Experiments > Experiment & Tensorboard Instances\n",
    "ISSUE: remove experiments first then instances."
   ]
  },
  {
   "cell_type": "code",
   "execution_count": 24,
   "id": "a417ffb2",
   "metadata": {},
   "outputs": [
    {
     "name": "stdout",
     "output_type": "stream",
     "text": [
      "<google.cloud.aiplatform.tensorboard.tensorboard.Tensorboard object at 0x7f3d916f6e90> \n",
      "resource name: projects/691911073727/locations/us-central1/tensorboards/2913723405792444416\n",
      "INFO:google.cloud.aiplatform.base:Deleting Tensorboard : projects/691911073727/locations/us-central1/tensorboards/2913723405792444416\n",
      "INFO:google.cloud.aiplatform.base:Delete Tensorboard  backing LRO: projects/691911073727/locations/us-central1/operations/2893548192056475648\n",
      "INFO:google.cloud.aiplatform.base:Tensorboard deleted. . Resource name: projects/691911073727/locations/us-central1/tensorboards/2913723405792444416\n"
     ]
    }
   ],
   "source": [
    "tb = aiplatform.Tensorboard.list()\n",
    "for t in tb:\n",
    "    print(t)\n",
    "    t.delete()"
   ]
  },
  {
   "cell_type": "code",
   "execution_count": 44,
   "id": "2b35f0e3",
   "metadata": {},
   "outputs": [],
   "source": [
    "clients['tb'] = aiplatform_v1beta1.TensorboardServiceClient(client_options=client_options)"
   ]
  },
  {
   "cell_type": "code",
   "execution_count": 45,
   "id": "6519d9c1",
   "metadata": {},
   "outputs": [],
   "source": [
    "tbs = clients['tb'].list_tensorboards(parent=PARENT)"
   ]
  },
  {
   "cell_type": "code",
   "execution_count": 46,
   "id": "2b971630",
   "metadata": {},
   "outputs": [],
   "source": [
    "for tb in tbs:\n",
    "    print(tb.name)\n",
    "    tbes = clients['tb'].list_tensorboard_experiments(parent=tb.name)\n",
    "    for tbe in tbes:\n",
    "        print(tbe.name)\n",
    "        clients['tb'].delete_tensorboard_experiment(request=aiplatform_v1beta1.types.DeleteTensorboardExperimentRequest(name=tbe.name))\n",
    "    clients['tb'].delete_tensorboard(request = aiplatform_v1beta1.types.DeleteTensorboardRequest(name=tb.name))"
   ]
  },
  {
   "cell_type": "markdown",
   "id": "d856e141",
   "metadata": {},
   "source": [
    "## Vertex AI > Experiments > Studies\n",
    "Vizier Studies"
   ]
  },
  {
   "cell_type": "code",
   "execution_count": 27,
   "id": "e11bac14",
   "metadata": {},
   "outputs": [],
   "source": [
    "clients['viz'] = aiplatform_v1beta1.VizierServiceClient(client_options=client_options)"
   ]
  },
  {
   "cell_type": "code",
   "execution_count": 28,
   "id": "e2eb61a0",
   "metadata": {},
   "outputs": [],
   "source": [
    "studies = clients['viz'].list_studies(parent=PARENT)"
   ]
  },
  {
   "cell_type": "code",
   "execution_count": 29,
   "id": "3fb662e8",
   "metadata": {},
   "outputs": [
    {
     "name": "stdout",
     "output_type": "stream",
     "text": [
      "projects/691911073727/locations/us-central1/studies/4198436052403\n",
      "projects/691911073727/locations/us-central1/studies/2954684456476\n"
     ]
    }
   ],
   "source": [
    "for study in studies:\n",
    "    print(study.name)\n",
    "    clients['viz'].delete_study(name=study.name)"
   ]
  },
  {
   "cell_type": "markdown",
   "id": "cbd051c4",
   "metadata": {},
   "source": [
    "---\n",
    "## Vertex AI > Endpoints\n",
    "- Delete endpoints forcing deployed models to undeploy"
   ]
  },
  {
   "cell_type": "code",
   "execution_count": 25,
   "id": "4d3c05c1",
   "metadata": {},
   "outputs": [],
   "source": [
    "endpoints = aiplatform.Endpoint.list()"
   ]
  },
  {
   "cell_type": "code",
   "execution_count": 32,
   "id": "240040cc",
   "metadata": {},
   "outputs": [
    {
     "name": "stdout",
     "output_type": "stream",
     "text": [
      "projects/691911073727/locations/us-central1/endpoints/5021777467308769280\n",
      "INFO:google.cloud.aiplatform.models:Undeploying Endpoint model: projects/691911073727/locations/us-central1/endpoints/5021777467308769280\n",
      "INFO:google.cloud.aiplatform.models:Undeploy Endpoint model backing LRO: projects/691911073727/locations/us-central1/endpoints/5021777467308769280/operations/299474806691069952\n",
      "INFO:google.cloud.aiplatform.models:Endpoint model undeployed. Resource name: projects/691911073727/locations/us-central1/endpoints/5021777467308769280\n",
      "INFO:google.cloud.aiplatform.base:Deleting Endpoint : projects/691911073727/locations/us-central1/endpoints/5021777467308769280\n",
      "INFO:google.cloud.aiplatform.base:Delete Endpoint  backing LRO: projects/691911073727/locations/us-central1/operations/5992024735687376896\n",
      "INFO:google.cloud.aiplatform.base:Endpoint deleted. . Resource name: projects/691911073727/locations/us-central1/endpoints/5021777467308769280\n",
      "projects/691911073727/locations/us-central1/endpoints/3537841390090190848\n",
      "INFO:google.cloud.aiplatform.models:Undeploying Endpoint model: projects/691911073727/locations/us-central1/endpoints/3537841390090190848\n",
      "INFO:google.cloud.aiplatform.models:Undeploy Endpoint model backing LRO: projects/691911073727/locations/us-central1/endpoints/3537841390090190848/operations/8622126918071746560\n",
      "INFO:google.cloud.aiplatform.models:Endpoint model undeployed. Resource name: projects/691911073727/locations/us-central1/endpoints/3537841390090190848\n",
      "INFO:google.cloud.aiplatform.base:Deleting Endpoint : projects/691911073727/locations/us-central1/endpoints/3537841390090190848\n",
      "INFO:google.cloud.aiplatform.base:Delete Endpoint  backing LRO: projects/691911073727/locations/us-central1/operations/1227216329929392128\n",
      "INFO:google.cloud.aiplatform.base:Endpoint deleted. . Resource name: projects/691911073727/locations/us-central1/endpoints/3537841390090190848\n",
      "projects/691911073727/locations/us-central1/endpoints/8262117399201841152\n",
      "INFO:google.cloud.aiplatform.models:Undeploying Endpoint model: projects/691911073727/locations/us-central1/endpoints/8262117399201841152\n",
      "INFO:google.cloud.aiplatform.models:Undeploy Endpoint model backing LRO: projects/691911073727/locations/us-central1/endpoints/8262117399201841152/operations/9222231568418865152\n",
      "INFO:google.cloud.aiplatform.models:Endpoint model undeployed. Resource name: projects/691911073727/locations/us-central1/endpoints/8262117399201841152\n",
      "INFO:google.cloud.aiplatform.base:Deleting Endpoint : projects/691911073727/locations/us-central1/endpoints/8262117399201841152\n",
      "INFO:google.cloud.aiplatform.base:Delete Endpoint  backing LRO: projects/691911073727/locations/us-central1/operations/4199592083993919488\n",
      "INFO:google.cloud.aiplatform.base:Endpoint deleted. . Resource name: projects/691911073727/locations/us-central1/endpoints/8262117399201841152\n",
      "projects/691911073727/locations/us-central1/endpoints/7199267887142404096\n",
      "INFO:google.cloud.aiplatform.models:Undeploying Endpoint model: projects/691911073727/locations/us-central1/endpoints/7199267887142404096\n",
      "INFO:google.cloud.aiplatform.models:Undeploy Endpoint model backing LRO: projects/691911073727/locations/us-central1/endpoints/7199267887142404096/operations/5514643175186104320\n",
      "INFO:google.cloud.aiplatform.models:Endpoint model undeployed. Resource name: projects/691911073727/locations/us-central1/endpoints/7199267887142404096\n",
      "INFO:google.cloud.aiplatform.base:Deleting Endpoint : projects/691911073727/locations/us-central1/endpoints/7199267887142404096\n",
      "INFO:google.cloud.aiplatform.base:Delete Endpoint  backing LRO: projects/691911073727/locations/us-central1/operations/4271649678031847424\n",
      "INFO:google.cloud.aiplatform.base:Endpoint deleted. . Resource name: projects/691911073727/locations/us-central1/endpoints/7199267887142404096\n"
     ]
    }
   ],
   "source": [
    "for ep in endpoints:\n",
    "    print(ep.resource_name)\n",
    "    ep.delete(force=True)"
   ]
  },
  {
   "cell_type": "markdown",
   "id": "434760c6",
   "metadata": {},
   "source": [
    "---\n",
    "## Vertex AI > Models\n",
    "- Delete endpoints first (contain deployed models)\n",
    "- Delete uploaded models"
   ]
  },
  {
   "cell_type": "code",
   "execution_count": 33,
   "id": "3c43a9bb",
   "metadata": {},
   "outputs": [],
   "source": [
    "models = aiplatform.Model.list()"
   ]
  },
  {
   "cell_type": "code",
   "execution_count": 34,
   "id": "7d768b56",
   "metadata": {},
   "outputs": [
    {
     "name": "stdout",
     "output_type": "stream",
     "text": [
      "projects/691911073727/locations/us-central1/models/6536614219314364416\n",
      "INFO:google.cloud.aiplatform.base:Deleting Model : projects/691911073727/locations/us-central1/models/6536614219314364416\n",
      "INFO:google.cloud.aiplatform.base:Delete Model  backing LRO: projects/691911073727/locations/us-central1/operations/7820486184399798272\n",
      "INFO:google.cloud.aiplatform.base:Model deleted. . Resource name: projects/691911073727/locations/us-central1/models/6536614219314364416\n",
      "projects/691911073727/locations/us-central1/models/672927504477978624\n",
      "INFO:google.cloud.aiplatform.base:Deleting Model : projects/691911073727/locations/us-central1/models/672927504477978624\n",
      "INFO:google.cloud.aiplatform.base:Delete Model  backing LRO: projects/691911073727/locations/us-central1/operations/4433779264617185280\n",
      "INFO:google.cloud.aiplatform.base:Model deleted. . Resource name: projects/691911073727/locations/us-central1/models/672927504477978624\n",
      "projects/691911073727/locations/us-central1/models/1466686938802028544\n",
      "INFO:google.cloud.aiplatform.base:Deleting Model : projects/691911073727/locations/us-central1/models/1466686938802028544\n",
      "INFO:google.cloud.aiplatform.base:Delete Model  backing LRO: projects/691911073727/locations/us-central1/operations/9045465283044573184\n",
      "INFO:google.cloud.aiplatform.base:Model deleted. . Resource name: projects/691911073727/locations/us-central1/models/1466686938802028544\n",
      "projects/691911073727/locations/us-central1/models/3811936444755214336\n",
      "INFO:google.cloud.aiplatform.base:Deleting Model : projects/691911073727/locations/us-central1/models/3811936444755214336\n",
      "INFO:google.cloud.aiplatform.base:Delete Model  backing LRO: projects/691911073727/locations/us-central1/operations/8811278102421307392\n",
      "INFO:google.cloud.aiplatform.base:Model deleted. . Resource name: projects/691911073727/locations/us-central1/models/3811936444755214336\n"
     ]
    }
   ],
   "source": [
    "for model in models:\n",
    "    print(model.resource_name)\n",
    "    model.delete()"
   ]
  },
  {
   "cell_type": "markdown",
   "id": "e9e62819",
   "metadata": {},
   "source": [
    "---\n",
    "## Vertex AI > Batch Predictions\n",
    "- delete all batch prediction jobs"
   ]
  },
  {
   "cell_type": "code",
   "execution_count": 35,
   "id": "0893df45",
   "metadata": {},
   "outputs": [],
   "source": [
    "bps = aiplatform.BatchPredictionJob.list()"
   ]
  },
  {
   "cell_type": "code",
   "execution_count": 36,
   "id": "f95aac8d",
   "metadata": {},
   "outputs": [
    {
     "name": "stdout",
     "output_type": "stream",
     "text": [
      "projects/691911073727/locations/us-central1/batchPredictionJobs/7411572587349671936\n",
      "INFO:google.cloud.aiplatform.base:Deleting BatchPredictionJob : projects/691911073727/locations/us-central1/batchPredictionJobs/7411572587349671936\n",
      "INFO:google.cloud.aiplatform.base:Delete BatchPredictionJob  backing LRO: projects/691911073727/locations/us-central1/operations/4613923249712005120\n",
      "INFO:google.cloud.aiplatform.base:BatchPredictionJob deleted. . Resource name: projects/691911073727/locations/us-central1/batchPredictionJobs/7411572587349671936\n",
      "projects/691911073727/locations/us-central1/batchPredictionJobs/3329903950068449280\n",
      "INFO:google.cloud.aiplatform.base:Deleting BatchPredictionJob : projects/691911073727/locations/us-central1/batchPredictionJobs/3329903950068449280\n",
      "INFO:google.cloud.aiplatform.base:Delete BatchPredictionJob  backing LRO: projects/691911073727/locations/us-central1/operations/3758239320511610880\n",
      "INFO:google.cloud.aiplatform.base:BatchPredictionJob deleted. . Resource name: projects/691911073727/locations/us-central1/batchPredictionJobs/3329903950068449280\n",
      "projects/691911073727/locations/us-central1/batchPredictionJobs/7908657396220690432\n",
      "INFO:google.cloud.aiplatform.base:Deleting BatchPredictionJob : projects/691911073727/locations/us-central1/batchPredictionJobs/7908657396220690432\n",
      "INFO:google.cloud.aiplatform.base:Delete BatchPredictionJob  backing LRO: projects/691911073727/locations/us-central1/operations/7982615770985136128\n",
      "INFO:google.cloud.aiplatform.base:BatchPredictionJob deleted. . Resource name: projects/691911073727/locations/us-central1/batchPredictionJobs/7908657396220690432\n"
     ]
    }
   ],
   "source": [
    "for bp in bps:\n",
    "    print(bp.resource_name)\n",
    "    bp.delete()"
   ]
  },
  {
   "cell_type": "markdown",
   "id": "52f5ee10",
   "metadata": {},
   "source": [
    "---\n",
    "## Vertex AI > Metadata"
   ]
  },
  {
   "cell_type": "code",
   "execution_count": 37,
   "id": "13f84130",
   "metadata": {},
   "outputs": [],
   "source": [
    "clients['md'] = aiplatform_v1beta1.MetadataServiceClient(client_options=client_options)"
   ]
  },
  {
   "cell_type": "code",
   "execution_count": 38,
   "id": "52db9454",
   "metadata": {},
   "outputs": [],
   "source": [
    "md = clients['md'].list_metadata_stores(parent=PARENT)"
   ]
  },
  {
   "cell_type": "code",
   "execution_count": 39,
   "id": "2730e287",
   "metadata": {},
   "outputs": [
    {
     "name": "stdout",
     "output_type": "stream",
     "text": [
      "projects/691911073727/locations/us-central1/metadataStores/default\n",
      "name: \"projects/691911073727/locations/us-central1/metadataStores/default/artifacts/11435714960211677443\"\n",
      "display_name: \"endpoint\"\n",
      "uri: \"aiplatform://v1/projects/691911073727/locations/us-central1/endpoints/3537841390090190848\"\n",
      "etag: \"1631721239211\"\n",
      "create_time {\n",
      "  seconds: 1631720313\n",
      "  nanos: 984000000\n",
      "}\n",
      "update_time {\n",
      "  seconds: 1631721239\n",
      "  nanos: 211000000\n",
      "}\n",
      "state: LIVE\n",
      "schema_title: \"system.Artifact\"\n",
      "schema_version: \"0.0.1\"\n",
      "metadata {\n",
      "}\n",
      "\n",
      "name: \"projects/691911073727/locations/us-central1/metadataStores/default/artifacts/17120282799001191112\"\n",
      "display_name: \"model\"\n",
      "uri: \"aiplatform://v1/projects/691911073727/locations/us-central1/models/672927504477978624\"\n",
      "etag: \"1631720312791\"\n",
      "create_time {\n",
      "  seconds: 1631715765\n",
      "  nanos: 271000000\n",
      "}\n",
      "update_time {\n",
      "  seconds: 1631720312\n",
      "  nanos: 791000000\n",
      "}\n",
      "state: LIVE\n",
      "schema_title: \"system.Model\"\n",
      "schema_version: \"0.0.1\"\n",
      "metadata {\n",
      "}\n",
      "\n",
      "name: \"projects/691911073727/locations/us-central1/metadataStores/default/artifacts/16893466667385746254\"\n",
      "display_name: \"dataset\"\n",
      "uri: \"aiplatform://v1/projects/691911073727/locations/us-central1/datasets/5098945591392600064\"\n",
      "etag: \"1631715763660\"\n",
      "create_time {\n",
      "  seconds: 1631715650\n",
      "  nanos: 632000000\n",
      "}\n",
      "update_time {\n",
      "  seconds: 1631715763\n",
      "  nanos: 660000000\n",
      "}\n",
      "state: LIVE\n",
      "schema_title: \"system.Dataset\"\n",
      "schema_version: \"0.0.1\"\n",
      "metadata {\n",
      "}\n",
      "\n",
      "name: \"projects/691911073727/locations/us-central1/metadataStores/default/artifacts/6978755168452239880\"\n",
      "display_name: \"model\"\n",
      "uri: \"gs://statmike-mlops/digits/models/02c/20210915134637/kfp/691911073727/kfp-02c-digits-20210915135548/automltabulartrainingjob-run_-4971472611314761728/model\"\n",
      "etag: \"1631714309837\"\n",
      "create_time {\n",
      "  seconds: 1631714309\n",
      "  nanos: 837000000\n",
      "}\n",
      "update_time {\n",
      "  seconds: 1631714309\n",
      "  nanos: 837000000\n",
      "}\n",
      "state: PENDING\n",
      "schema_title: \"system.Model\"\n",
      "schema_version: \"0.0.1\"\n",
      "metadata {\n",
      "}\n",
      "\n",
      "name: \"projects/691911073727/locations/us-central1/metadataStores/default/artifacts/13636289326674381170\"\n",
      "display_name: \"dataset\"\n",
      "uri: \"aiplatform://v1/projects/691911073727/locations/us-central1/datasets/7530889390172667904\"\n",
      "etag: \"1631714308490\"\n",
      "create_time {\n",
      "  seconds: 1631714155\n",
      "  nanos: 223000000\n",
      "}\n",
      "update_time {\n",
      "  seconds: 1631714308\n",
      "  nanos: 490000000\n",
      "}\n",
      "state: LIVE\n",
      "schema_title: \"system.Dataset\"\n",
      "schema_version: \"0.0.1\"\n",
      "metadata {\n",
      "}\n",
      "\n"
     ]
    }
   ],
   "source": [
    "for m in md:\n",
    "    print(m.name)\n",
    "    arts = clients['md'].list_artifacts(parent=m.name)\n",
    "    for a in arts:\n",
    "        print(a)\n",
    "        clients['md'].delete_artifact(name=a.name)\n",
    "    #clients['md'].get_metadata_store(name=m.name)#.purge_artifacts(parent=m.name)"
   ]
  },
  {
   "cell_type": "markdown",
   "id": "51b02e2c",
   "metadata": {},
   "source": [
    "---\n",
    "## Storage Bucket Removal\n",
    "\n",
    "- delete contents and storage bucket `statmike-mlops` (named after project)"
   ]
  },
  {
   "cell_type": "code",
   "execution_count": 40,
   "id": "b36b1db6",
   "metadata": {},
   "outputs": [],
   "source": [
    "from google.cloud import storage\n",
    "clients['gcs'] = storage.Client()"
   ]
  },
  {
   "cell_type": "code",
   "execution_count": 41,
   "id": "555dab02",
   "metadata": {},
   "outputs": [],
   "source": [
    "bucket = clients['gcs'].get_bucket(PROJECT_ID)"
   ]
  },
  {
   "cell_type": "code",
   "execution_count": 42,
   "id": "bd1de7ad",
   "metadata": {},
   "outputs": [],
   "source": [
    "bucket.delete(force=True)"
   ]
  },
  {
   "cell_type": "code",
   "execution_count": null,
   "id": "74b94b4b",
   "metadata": {},
   "outputs": [],
   "source": []
  }
 ],
 "metadata": {
  "environment": {
   "name": "tf2-gpu.2-6.m79",
   "type": "gcloud",
   "uri": "gcr.io/deeplearning-platform-release/tf2-gpu.2-6:m79"
  },
  "kernelspec": {
   "display_name": "Python 3",
   "language": "python",
   "name": "python3"
  },
  "language_info": {
   "codemirror_mode": {
    "name": "ipython",
    "version": 3
   },
   "file_extension": ".py",
   "mimetype": "text/x-python",
   "name": "python",
   "nbconvert_exporter": "python",
   "pygments_lexer": "ipython3",
   "version": "3.7.10"
  }
 },
 "nbformat": 4,
 "nbformat_minor": 5
}
