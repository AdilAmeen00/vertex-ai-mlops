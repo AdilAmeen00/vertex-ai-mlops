{
 "cells": [
  {
   "cell_type": "markdown",
   "id": "db48503a",
   "metadata": {},
   "source": [
    "# Cleanup All Resources\n",
    "\n",
    "Each notebook has a resource cleanup section that is designed to remove just the resources it created.\n",
    "\n",
    "This notebook is designed to remove all resources by the type created.  By being a general cleanup utility, you can skip sections that you want to remain in use.  This notebook also has a section to delete the GCS bucket created in the `00 - Initial Setup` notebook.\n",
    "\n",
    "**Resources**\n",
    "- Vertex AI: https://googleapis.dev/python/aiplatform/latest/index.html\n",
    "- BigQuery: https://googleapis.dev/python/bigquery/latest/index.html\n",
    "- GCS: https://googleapis.dev/python/storage/latest/client.html"
   ]
  },
  {
   "cell_type": "markdown",
   "id": "5faf97fe",
   "metadata": {},
   "source": [
    "---\n",
    "## Setup"
   ]
  },
  {
   "cell_type": "markdown",
   "id": "64a6da4f",
   "metadata": {},
   "source": [
    "Parameters:"
   ]
  },
  {
   "cell_type": "code",
   "execution_count": 18,
   "id": "cdbdb92a",
   "metadata": {},
   "outputs": [],
   "source": [
    "PROJECT_ID = 'statmike-mlops'\n",
    "REGION = 'us-central1'\n",
    "PARENT = \"projects/\" + PROJECT_ID + \"/locations/\" + REGION"
   ]
  },
  {
   "cell_type": "markdown",
   "id": "60b54c62",
   "metadata": {},
   "source": [
    "AI Platform Client Setup:"
   ]
  },
  {
   "cell_type": "code",
   "execution_count": 19,
   "id": "72af3a4e",
   "metadata": {},
   "outputs": [],
   "source": [
    "from google.cloud import aiplatform\n",
    "from google.cloud import aiplatform_v1beta1\n",
    "\n",
    "API_ENDPOINT = \"{}-aiplatform.googleapis.com\".format(REGION)\n",
    "client_options = {\"api_endpoint\": API_ENDPOINT}\n",
    "clients = {}\n",
    "\n",
    "aiplatform.init(project=PROJECT_ID, location=REGION)\n",
    "\n",
    "PARENT = \"projects/\" + PROJECT_ID + \"/locations/\" + REGION"
   ]
  },
  {
   "cell_type": "markdown",
   "id": "02d85b37",
   "metadata": {},
   "source": [
    "---\n",
    "## BigQuery\n",
    "- Delete the dataset `digits`"
   ]
  },
  {
   "cell_type": "markdown",
   "id": "2fb634ae",
   "metadata": {},
   "source": [
    "Make a client connection to BigQuery"
   ]
  },
  {
   "cell_type": "code",
   "execution_count": 20,
   "id": "63170759",
   "metadata": {},
   "outputs": [],
   "source": [
    "from google.cloud import bigquery\n",
    "clients['bq'] = bigquery.Client(project=PROJECT_ID)"
   ]
  },
  {
   "cell_type": "markdown",
   "id": "ceb43354",
   "metadata": {},
   "source": [
    "list of datasets in the project:"
   ]
  },
  {
   "cell_type": "code",
   "execution_count": 21,
   "id": "42e8a226",
   "metadata": {},
   "outputs": [],
   "source": [
    "datasets = list(clients['bq'].list_datasets())"
   ]
  },
  {
   "cell_type": "markdown",
   "id": "57a3c42b",
   "metadata": {},
   "source": [
    "delete each dataset:"
   ]
  },
  {
   "cell_type": "code",
   "execution_count": 22,
   "id": "ed9ee80e",
   "metadata": {},
   "outputs": [
    {
     "name": "stdout",
     "output_type": "stream",
     "text": [
      "digits\n",
      "prediction_bq_digits_code_20210722094720_2021_07_22T03_55_36_267Z\n",
      "prediction_bq_digits_console_202172294628_2021_07_22T03_57_31_191Z\n"
     ]
    }
   ],
   "source": [
    "for ds in datasets:\n",
    "    print(ds.dataset_id)\n",
    "    clients['bq'].delete_dataset(ds.dataset_id,delete_contents=True,not_found_ok=True)"
   ]
  },
  {
   "cell_type": "markdown",
   "id": "caba62e3",
   "metadata": {},
   "source": [
    "---\n",
    "## Vertex AI > Datasets\n",
    "- Delete datasets"
   ]
  },
  {
   "cell_type": "code",
   "execution_count": 23,
   "id": "0f881dc0",
   "metadata": {},
   "outputs": [],
   "source": [
    "datasets = aiplatform.TabularDataset.list()"
   ]
  },
  {
   "cell_type": "code",
   "execution_count": 24,
   "id": "91f57acf",
   "metadata": {},
   "outputs": [
    {
     "name": "stdout",
     "output_type": "stream",
     "text": [
      "projects/691911073727/locations/us-central1/datasets/1345635106630402048\n",
      "INFO:google.cloud.aiplatform.base:Deleting TabularDataset : projects/691911073727/locations/us-central1/datasets/1345635106630402048\n",
      "INFO:google.cloud.aiplatform.base:Delete TabularDataset  backing LRO: projects/691911073727/locations/us-central1/operations/6510499993520963584\n",
      "INFO:google.cloud.aiplatform.base:TabularDataset deleted. . Resource name: projects/691911073727/locations/us-central1/datasets/1345635106630402048\n",
      "projects/691911073727/locations/us-central1/datasets/6912084246060335104\n",
      "INFO:google.cloud.aiplatform.base:Deleting TabularDataset : projects/691911073727/locations/us-central1/datasets/6912084246060335104\n",
      "INFO:google.cloud.aiplatform.base:Delete TabularDataset  backing LRO: projects/691911073727/locations/us-central1/operations/7765878389650489344\n",
      "INFO:google.cloud.aiplatform.base:TabularDataset deleted. . Resource name: projects/691911073727/locations/us-central1/datasets/6912084246060335104\n"
     ]
    }
   ],
   "source": [
    "for ds in datasets:\n",
    "    print(ds.resource_name)\n",
    "    aiplatform.TabularDataset(dataset_name=ds.resource_name).delete()"
   ]
  },
  {
   "cell_type": "markdown",
   "id": "465d7c57",
   "metadata": {},
   "source": [
    "---\n",
    "## Vertex AI > Feature Store\n",
    "- delete feature store including entity types and features"
   ]
  },
  {
   "cell_type": "code",
   "execution_count": 25,
   "id": "7ee9e18f",
   "metadata": {},
   "outputs": [],
   "source": [
    "clients['fs'] = aiplatform_v1beta1.FeaturestoreServiceClient(client_options=client_options)"
   ]
  },
  {
   "cell_type": "code",
   "execution_count": 26,
   "id": "35f9c227",
   "metadata": {},
   "outputs": [],
   "source": [
    "fs = clients['fs'].list_featurestores(parent=PARENT)"
   ]
  },
  {
   "cell_type": "code",
   "execution_count": 27,
   "id": "d63a0497",
   "metadata": {},
   "outputs": [
    {
     "name": "stdout",
     "output_type": "stream",
     "text": [
      "projects/691911073727/locations/us-central1/featurestores/digits_featurestore\n"
     ]
    }
   ],
   "source": [
    "for f in fs:\n",
    "    print(f.name)\n",
    "    clients['fs'].delete_featurestore(request = aiplatform_v1beta1.types.DeleteFeaturestoreRequest(name=f.name,force=True))"
   ]
  },
  {
   "cell_type": "markdown",
   "id": "911be68e",
   "metadata": {},
   "source": [
    "---\n",
    "## Vertex AI > Endpoints\n",
    "- Delete endpoints forcing deployed models to undeploy"
   ]
  },
  {
   "cell_type": "code",
   "execution_count": 28,
   "id": "4095472b",
   "metadata": {},
   "outputs": [],
   "source": [
    "endpoints = aiplatform.Endpoint.list()"
   ]
  },
  {
   "cell_type": "code",
   "execution_count": 29,
   "id": "a7668083",
   "metadata": {},
   "outputs": [
    {
     "name": "stdout",
     "output_type": "stream",
     "text": [
      "projects/691911073727/locations/us-central1/endpoints/2800869532317515776\n",
      "INFO:google.cloud.aiplatform.base:Deleting Endpoint : projects/691911073727/locations/us-central1/endpoints/2800869532317515776\n",
      "INFO:google.cloud.aiplatform.base:Delete Endpoint  backing LRO: projects/691911073727/locations/us-central1/operations/7690443095892033536\n",
      "INFO:google.cloud.aiplatform.base:Endpoint deleted. . Resource name: projects/691911073727/locations/us-central1/endpoints/2800869532317515776\n",
      "projects/691911073727/locations/us-central1/endpoints/218055146020536320\n",
      "INFO:google.cloud.aiplatform.models:Undeploying Endpoint model: projects/691911073727/locations/us-central1/endpoints/218055146020536320\n",
      "INFO:google.cloud.aiplatform.models:Undeploy Endpoint model backing LRO: projects/691911073727/locations/us-central1/endpoints/218055146020536320/operations/5546729673263677440\n",
      "INFO:google.cloud.aiplatform.models:Endpoint model undeployed. Resource name: projects/691911073727/locations/us-central1/endpoints/218055146020536320\n",
      "INFO:google.cloud.aiplatform.base:Deleting Endpoint : projects/691911073727/locations/us-central1/endpoints/218055146020536320\n",
      "INFO:google.cloud.aiplatform.base:Delete Endpoint  backing LRO: projects/691911073727/locations/us-central1/operations/8090137562821165056\n",
      "INFO:google.cloud.aiplatform.base:Endpoint deleted. . Resource name: projects/691911073727/locations/us-central1/endpoints/218055146020536320\n",
      "projects/691911073727/locations/us-central1/endpoints/573839516582805504\n",
      "INFO:google.cloud.aiplatform.models:Undeploying Endpoint model: projects/691911073727/locations/us-central1/endpoints/573839516582805504\n",
      "INFO:google.cloud.aiplatform.models:Undeploy Endpoint model backing LRO: projects/691911073727/locations/us-central1/endpoints/573839516582805504/operations/3240886664049983488\n",
      "INFO:google.cloud.aiplatform.models:Endpoint model undeployed. Resource name: projects/691911073727/locations/us-central1/endpoints/573839516582805504\n",
      "INFO:google.cloud.aiplatform.base:Deleting Endpoint : projects/691911073727/locations/us-central1/endpoints/573839516582805504\n",
      "INFO:google.cloud.aiplatform.base:Delete Endpoint  backing LRO: projects/691911073727/locations/us-central1/operations/1385403617573339136\n",
      "INFO:google.cloud.aiplatform.base:Endpoint deleted. . Resource name: projects/691911073727/locations/us-central1/endpoints/573839516582805504\n",
      "projects/691911073727/locations/us-central1/endpoints/5106712541531209728\n",
      "INFO:google.cloud.aiplatform.models:Undeploying Endpoint model: projects/691911073727/locations/us-central1/endpoints/5106712541531209728\n",
      "INFO:google.cloud.aiplatform.models:Undeploy Endpoint model backing LRO: projects/691911073727/locations/us-central1/endpoints/5106712541531209728/operations/5997089636000727040\n",
      "INFO:google.cloud.aiplatform.models:Endpoint model undeployed. Resource name: projects/691911073727/locations/us-central1/endpoints/5106712541531209728\n",
      "INFO:google.cloud.aiplatform.base:Deleting Endpoint : projects/691911073727/locations/us-central1/endpoints/5106712541531209728\n",
      "INFO:google.cloud.aiplatform.base:Delete Endpoint  backing LRO: projects/691911073727/locations/us-central1/operations/2988685084917235712\n",
      "INFO:google.cloud.aiplatform.base:Endpoint deleted. . Resource name: projects/691911073727/locations/us-central1/endpoints/5106712541531209728\n",
      "projects/691911073727/locations/us-central1/endpoints/7835893915717730304\n",
      "INFO:google.cloud.aiplatform.models:Undeploying Endpoint model: projects/691911073727/locations/us-central1/endpoints/7835893915717730304\n",
      "INFO:google.cloud.aiplatform.models:Undeploy Endpoint model backing LRO: projects/691911073727/locations/us-central1/endpoints/7835893915717730304/operations/2001270866616254464\n",
      "INFO:google.cloud.aiplatform.models:Endpoint model undeployed. Resource name: projects/691911073727/locations/us-central1/endpoints/7835893915717730304\n",
      "INFO:google.cloud.aiplatform.base:Deleting Endpoint : projects/691911073727/locations/us-central1/endpoints/7835893915717730304\n",
      "INFO:google.cloud.aiplatform.base:Delete Endpoint  backing LRO: projects/691911073727/locations/us-central1/operations/6537521591285186560\n",
      "INFO:google.cloud.aiplatform.base:Endpoint deleted. . Resource name: projects/691911073727/locations/us-central1/endpoints/7835893915717730304\n",
      "projects/691911073727/locations/us-central1/endpoints/9009081618647744512\n",
      "INFO:google.cloud.aiplatform.models:Undeploying Endpoint model: projects/691911073727/locations/us-central1/endpoints/9009081618647744512\n",
      "INFO:google.cloud.aiplatform.models:Undeploy Endpoint model backing LRO: projects/691911073727/locations/us-central1/endpoints/9009081618647744512/operations/5694222561060061184\n",
      "INFO:google.cloud.aiplatform.models:Endpoint model undeployed. Resource name: projects/691911073727/locations/us-central1/endpoints/9009081618647744512\n",
      "INFO:google.cloud.aiplatform.base:Deleting Endpoint : projects/691911073727/locations/us-central1/endpoints/9009081618647744512\n",
      "INFO:google.cloud.aiplatform.base:Delete Endpoint  backing LRO: projects/691911073727/locations/us-central1/operations/2087965159443136512\n",
      "INFO:google.cloud.aiplatform.base:Endpoint deleted. . Resource name: projects/691911073727/locations/us-central1/endpoints/9009081618647744512\n"
     ]
    }
   ],
   "source": [
    "for ep in endpoints:\n",
    "    print(ep.resource_name)\n",
    "    aiplatform.Endpoint(endpoint_name=ep.resource_name).delete(force=True)"
   ]
  },
  {
   "cell_type": "markdown",
   "id": "de153fc6",
   "metadata": {},
   "source": [
    "---\n",
    "## Vertex AI > Models\n",
    "- Delete uploaded models"
   ]
  },
  {
   "cell_type": "code",
   "execution_count": 30,
   "id": "17fd9806",
   "metadata": {},
   "outputs": [],
   "source": [
    "models = aiplatform.Model.list()"
   ]
  },
  {
   "cell_type": "code",
   "execution_count": 31,
   "id": "e368afbf",
   "metadata": {},
   "outputs": [
    {
     "name": "stdout",
     "output_type": "stream",
     "text": [
      "projects/691911073727/locations/us-central1/models/871525692733390848\n",
      "INFO:google.cloud.aiplatform.base:Deleting Model : projects/691911073727/locations/us-central1/models/871525692733390848\n",
      "INFO:google.cloud.aiplatform.base:Delete Model  backing LRO: projects/691911073727/locations/us-central1/operations/4231678582071492608\n",
      "INFO:google.cloud.aiplatform.base:Model deleted. . Resource name: projects/691911073727/locations/us-central1/models/871525692733390848\n",
      "projects/691911073727/locations/us-central1/models/3553419270832521216\n",
      "INFO:google.cloud.aiplatform.base:Deleting Model : projects/691911073727/locations/us-central1/models/3553419270832521216\n",
      "INFO:google.cloud.aiplatform.base:Delete Model  backing LRO: projects/691911073727/locations/us-central1/operations/4658394646764847104\n",
      "INFO:google.cloud.aiplatform.base:Model deleted. . Resource name: projects/691911073727/locations/us-central1/models/3553419270832521216\n",
      "projects/691911073727/locations/us-central1/models/3499164969071542272\n",
      "INFO:google.cloud.aiplatform.base:Deleting Model : projects/691911073727/locations/us-central1/models/3499164969071542272\n",
      "INFO:google.cloud.aiplatform.base:Delete Model  backing LRO: projects/691911073727/locations/us-central1/operations/8000065570273755136\n",
      "INFO:google.cloud.aiplatform.base:Model deleted. . Resource name: projects/691911073727/locations/us-central1/models/3499164969071542272\n",
      "projects/691911073727/locations/us-central1/models/6548313023033901056\n",
      "INFO:google.cloud.aiplatform.base:Deleting Model : projects/691911073727/locations/us-central1/models/6548313023033901056\n",
      "INFO:google.cloud.aiplatform.base:Delete Model  backing LRO: projects/691911073727/locations/us-central1/operations/2916627490879307776\n",
      "INFO:google.cloud.aiplatform.base:Model deleted. . Resource name: projects/691911073727/locations/us-central1/models/6548313023033901056\n",
      "projects/691911073727/locations/us-central1/models/7863364114226085888\n",
      "INFO:google.cloud.aiplatform.base:Deleting Model : projects/691911073727/locations/us-central1/models/7863364114226085888\n",
      "INFO:google.cloud.aiplatform.base:Delete Model  backing LRO: projects/691911073727/locations/us-central1/operations/6447449598737776640\n",
      "INFO:google.cloud.aiplatform.base:Model deleted. . Resource name: projects/691911073727/locations/us-central1/models/7863364114226085888\n",
      "projects/691911073727/locations/us-central1/models/5651885590954639360\n",
      "INFO:google.cloud.aiplatform.base:Deleting Model : projects/691911073727/locations/us-central1/models/5651885590954639360\n",
      "INFO:google.cloud.aiplatform.base:Delete Model  backing LRO: projects/691911073727/locations/us-central1/operations/4141606589524082688\n",
      "INFO:google.cloud.aiplatform.base:Model deleted. . Resource name: projects/691911073727/locations/us-central1/models/5651885590954639360\n"
     ]
    }
   ],
   "source": [
    "for model in models:\n",
    "    print(model.resource_name)\n",
    "    aiplatform.Model(model_name=model.resource_name).delete()"
   ]
  },
  {
   "cell_type": "markdown",
   "id": "c55e465f",
   "metadata": {},
   "source": [
    "---\n",
    "## Vertex AI > Batch Predictions\n",
    "- delete all batch prediction jobs"
   ]
  },
  {
   "cell_type": "code",
   "execution_count": 32,
   "id": "9358480e",
   "metadata": {},
   "outputs": [],
   "source": [
    "bps = aiplatform.BatchPredictionJob.list()"
   ]
  },
  {
   "cell_type": "code",
   "execution_count": 33,
   "id": "5882f6e4",
   "metadata": {},
   "outputs": [
    {
     "name": "stdout",
     "output_type": "stream",
     "text": [
      "projects/691911073727/locations/us-central1/batchPredictionJobs/3978635601665589248\n",
      "INFO:google.cloud.aiplatform.base:Deleting BatchPredictionJob : projects/691911073727/locations/us-central1/batchPredictionJobs/3978635601665589248\n",
      "INFO:google.cloud.aiplatform.base:Delete BatchPredictionJob  backing LRO: projects/691911073727/locations/us-central1/operations/596147782876659712\n",
      "INFO:google.cloud.aiplatform.base:BatchPredictionJob deleted. . Resource name: projects/691911073727/locations/us-central1/batchPredictionJobs/3978635601665589248\n",
      "projects/691911073727/locations/us-central1/batchPredictionJobs/7374349720702943232\n",
      "INFO:google.cloud.aiplatform.base:Deleting BatchPredictionJob : projects/691911073727/locations/us-central1/batchPredictionJobs/7374349720702943232\n",
      "INFO:google.cloud.aiplatform.base:Delete BatchPredictionJob  backing LRO: projects/691911073727/locations/us-central1/operations/5207833801304047616\n",
      "INFO:google.cloud.aiplatform.base:BatchPredictionJob deleted. . Resource name: projects/691911073727/locations/us-central1/batchPredictionJobs/7374349720702943232\n"
     ]
    }
   ],
   "source": [
    "for bp in bps:\n",
    "    print(bp.resource_name)\n",
    "    aiplatform.BatchPredictionJob(batch_prediction_job_name=bp.resource_name).delete()"
   ]
  },
  {
   "cell_type": "markdown",
   "id": "f33adcbf",
   "metadata": {},
   "source": [
    "---\n",
    "## Vertex AI > Experiments > Experiment & Tensorboard Instances\n",
    "ISSUE: remove experiments first then instances."
   ]
  },
  {
   "cell_type": "code",
   "execution_count": 4,
   "id": "7118b0bb",
   "metadata": {},
   "outputs": [],
   "source": [
    "clients['tb'] = aiplatform_v1beta1.TensorboardServiceClient(client_options=client_options)"
   ]
  },
  {
   "cell_type": "code",
   "execution_count": 6,
   "id": "881913ab",
   "metadata": {},
   "outputs": [],
   "source": [
    "tbs = clients['tb'].list_tensorboards(parent=PARENT)"
   ]
  },
  {
   "cell_type": "code",
   "execution_count": null,
   "id": "3c4b168d",
   "metadata": {},
   "outputs": [],
   "source": [
    "for tb in tbs:\n",
    "    print(tb.name)\n",
    "    tbes = clients['tb'].list_tensorboard_experiments(parent=tb.name)\n",
    "    for tbe in tbes:\n",
    "        print(tbe.name)\n",
    "        clients['tb'].delete_tensorboard_experiment(request=aiplatform_v1beta1.types.DeleteTensorboardExperimentRequest(name=tbe.name))\n",
    "    clients['tb'].delete_tensorboard(request = aiplatform_v1beta1.types.DeleteTensorboardRequest(name=tb.name))"
   ]
  },
  {
   "cell_type": "markdown",
   "id": "d75a650e",
   "metadata": {},
   "source": [
    "---\n",
    "## Vertex AI > Training\n",
    "- delete various jobs types\n",
    "- some create with aiplatform.* and other created by aiplatform.gapic.*"
   ]
  },
  {
   "cell_type": "code",
   "execution_count": 34,
   "id": "a11c2515",
   "metadata": {},
   "outputs": [
    {
     "data": {
      "text/plain": [
       "[<google.cloud.aiplatform.training_jobs.CustomTrainingJob object at 0x7f69e64ca510> \n",
       " resource name: projects/691911073727/locations/us-central1/trainingPipelines/2082620158542610432]"
      ]
     },
     "execution_count": 34,
     "metadata": {},
     "output_type": "execute_result"
    }
   ],
   "source": [
    "jobsA = aiplatform.CustomTrainingJob.list()\n",
    "jobsA"
   ]
  },
  {
   "cell_type": "code",
   "execution_count": 35,
   "id": "51f9e4b4",
   "metadata": {},
   "outputs": [
    {
     "data": {
      "text/plain": [
       "[<google.cloud.aiplatform.training_jobs.CustomPythonPackageTrainingJob object at 0x7f69e7b843d0> \n",
       " resource name: projects/691911073727/locations/us-central1/trainingPipelines/2082620158542610432]"
      ]
     },
     "execution_count": 35,
     "metadata": {},
     "output_type": "execute_result"
    }
   ],
   "source": [
    "jobsB = aiplatform.CustomPythonPackageTrainingJob.list()\n",
    "jobsB"
   ]
  },
  {
   "cell_type": "code",
   "execution_count": 36,
   "id": "837eb0a1",
   "metadata": {},
   "outputs": [
    {
     "data": {
      "text/plain": [
       "[<google.cloud.aiplatform.training_jobs.AutoMLTabularTrainingJob object at 0x7f69e5ca2a10> \n",
       " resource name: projects/691911073727/locations/us-central1/trainingPipelines/4474031560676343808,\n",
       " <google.cloud.aiplatform.training_jobs.AutoMLTabularTrainingJob object at 0x7f69e64d6a10> \n",
       " resource name: projects/691911073727/locations/us-central1/trainingPipelines/5938827339478597632]"
      ]
     },
     "execution_count": 36,
     "metadata": {},
     "output_type": "execute_result"
    }
   ],
   "source": [
    "jobsC = aiplatform.AutoMLTabularTrainingJob.list()\n",
    "jobsC"
   ]
  },
  {
   "cell_type": "markdown",
   "id": "1ac0d60f",
   "metadata": {},
   "source": [
    "## Vertex AI > Training > Custom Job\n",
    "- Delete custom training jobs"
   ]
  },
  {
   "cell_type": "code",
   "execution_count": 37,
   "id": "d9edbc7f",
   "metadata": {},
   "outputs": [],
   "source": [
    "clients['job'] = aiplatform.gapic.JobServiceClient(client_options=client_options)"
   ]
  },
  {
   "cell_type": "code",
   "execution_count": 38,
   "id": "9d9906f9",
   "metadata": {},
   "outputs": [
    {
     "name": "stdout",
     "output_type": "stream",
     "text": [
      "05_AIP_DIGITS_20210722110609\n",
      "06_AIP_DIGITS_20210722103209-custom-job\n"
     ]
    }
   ],
   "source": [
    "for x in clients['job'].list_custom_jobs(parent=PARENT):\n",
    "    print(x.display_name)\n",
    "    clients['job'].delete_custom_job(name=x.name)"
   ]
  },
  {
   "cell_type": "markdown",
   "id": "cc3cd4c3",
   "metadata": {},
   "source": [
    "## Vertex AI > Training > Training Pipeline (Python Package)\n",
    "- Delete training pipelines"
   ]
  },
  {
   "cell_type": "code",
   "execution_count": 39,
   "id": "4bbf9a2f",
   "metadata": {},
   "outputs": [],
   "source": [
    "clients['pipeline'] = aiplatform.gapic.PipelineServiceClient(client_options=client_options)"
   ]
  },
  {
   "cell_type": "code",
   "execution_count": 40,
   "id": "6ce8b6c4",
   "metadata": {},
   "outputs": [
    {
     "name": "stdout",
     "output_type": "stream",
     "text": [
      "06_AIP_DIGITS_20210722103209\n",
      "bq_digits_console_202172294628\n",
      "bq_digits_code_20210722094720\n"
     ]
    }
   ],
   "source": [
    "for x in clients['pipeline'].list_training_pipelines(parent=PARENT):\n",
    "    print(x.display_name)\n",
    "    clients['pipeline'].delete_training_pipeline(name=x.name)"
   ]
  },
  {
   "cell_type": "markdown",
   "id": "6dca4519",
   "metadata": {},
   "source": [
    "---\n",
    "## Vertex AI > Experiments > Studies\n",
    "Vizier Studies"
   ]
  },
  {
   "cell_type": "code",
   "execution_count": null,
   "id": "af7726a3",
   "metadata": {},
   "outputs": [],
   "source": [
    "clients['viz'] = aiplatform_v1beta1.VizierServiceClient(client_options=client_options)"
   ]
  },
  {
   "cell_type": "code",
   "execution_count": null,
   "id": "76b88b13",
   "metadata": {},
   "outputs": [],
   "source": [
    "studies = clients['viz'].list_studies(parent=PARENT)"
   ]
  },
  {
   "cell_type": "code",
   "execution_count": null,
   "id": "9d55287c",
   "metadata": {},
   "outputs": [],
   "source": [
    "for study in studies:\n",
    "    print(study.name)\n",
    "    clients['viz'].delete_study(request = aiplatform_v1beta1.types.DeleteFeaturestoreRequest(name=study.name))"
   ]
  },
  {
   "cell_type": "markdown",
   "id": "4ff73d27",
   "metadata": {},
   "source": [
    "---\n",
    "## Storage Bucket Removal\n",
    "\n",
    "- delete contents and storage bucket `statmike-mlops` (named after project)"
   ]
  },
  {
   "cell_type": "code",
   "execution_count": 41,
   "id": "bb4aa417",
   "metadata": {},
   "outputs": [],
   "source": [
    "from google.cloud import storage\n",
    "clients['gcs'] = storage.Client()"
   ]
  },
  {
   "cell_type": "code",
   "execution_count": 42,
   "id": "be2b624c",
   "metadata": {},
   "outputs": [],
   "source": [
    "bucket = clients['gcs'].get_bucket(PROJECT_ID)"
   ]
  },
  {
   "cell_type": "code",
   "execution_count": 43,
   "id": "c6a7923e",
   "metadata": {},
   "outputs": [],
   "source": [
    "bucket.delete(force=True)"
   ]
  },
  {
   "cell_type": "code",
   "execution_count": null,
   "id": "bd8c5e16",
   "metadata": {},
   "outputs": [],
   "source": []
  }
 ],
 "metadata": {
  "environment": {
   "name": "tf2-gpu.2-5.m76",
   "type": "gcloud",
   "uri": "gcr.io/deeplearning-platform-release/tf2-gpu.2-5:m76"
  },
  "kernelspec": {
   "display_name": "Python 3",
   "language": "python",
   "name": "python3"
  },
  "language_info": {
   "codemirror_mode": {
    "name": "ipython",
    "version": 3
   },
   "file_extension": ".py",
   "mimetype": "text/x-python",
   "name": "python",
   "nbconvert_exporter": "python",
   "pygments_lexer": "ipython3",
   "version": "3.7.10"
  }
 },
 "nbformat": 4,
 "nbformat_minor": 5
}
