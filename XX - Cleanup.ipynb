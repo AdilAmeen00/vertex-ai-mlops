{
 "cells": [
  {
   "cell_type": "markdown",
   "id": "abstract-hardware",
   "metadata": {},
   "source": [
    "# Cleanup Resources\n",
    "\n",
    "Each notebook has a resource cleanup section that is designed to remove just the resources it created.\n",
    "\n",
    "This notebook is designed to remove all resources by the type created.  By being a general cleanup utility, you can skip sections that you want to remain in use.  This notebook also has a section to delete the GCS bucket created in the `00 - Initial Setup` notebook.\n",
    "\n",
    "**Resources**\n",
    "- AI Platform: https://googleapis.dev/python/aiplatform/latest/index.html\n",
    "- BigQuery: https://googleapis.dev/python/bigquery/latest/index.html\n",
    "- GCS: https://googleapis.dev/python/storage/latest/client.html"
   ]
  },
  {
   "cell_type": "markdown",
   "id": "secondary-sleeping",
   "metadata": {},
   "source": [
    "---"
   ]
  },
  {
   "cell_type": "markdown",
   "id": "designed-guidance",
   "metadata": {},
   "source": [
    "## Setup"
   ]
  },
  {
   "cell_type": "markdown",
   "id": "controlling-mattress",
   "metadata": {},
   "source": [
    "Parameters:"
   ]
  },
  {
   "cell_type": "code",
   "execution_count": 14,
   "id": "national-plymouth",
   "metadata": {},
   "outputs": [],
   "source": [
    "PROJECT_ID = 'statmike-mlops'\n",
    "REGION = 'us-central1'\n",
    "PARENT = \"projects/\" + PROJECT_ID + \"/locations/\" + REGION"
   ]
  },
  {
   "cell_type": "markdown",
   "id": "fifth-damage",
   "metadata": {},
   "source": [
    "AI Platform Client Setup:"
   ]
  },
  {
   "cell_type": "code",
   "execution_count": 15,
   "id": "equivalent-pleasure",
   "metadata": {},
   "outputs": [],
   "source": [
    "from google.cloud import aiplatform\n",
    "API_ENDPOINT = \"{}-aiplatform.googleapis.com\".format(REGION)\n",
    "client_options = {\"api_endpoint\": API_ENDPOINT}\n",
    "clients = {}"
   ]
  },
  {
   "cell_type": "markdown",
   "id": "victorian-handbook",
   "metadata": {},
   "source": [
    "---"
   ]
  },
  {
   "cell_type": "markdown",
   "id": "environmental-diagram",
   "metadata": {},
   "source": [
    "## BigQuery\n",
    "- Delete the dataset `digits`"
   ]
  },
  {
   "cell_type": "markdown",
   "id": "arabic-thailand",
   "metadata": {},
   "source": [
    "Make a client connection to BigQuery"
   ]
  },
  {
   "cell_type": "code",
   "execution_count": 2,
   "id": "cross-visit",
   "metadata": {},
   "outputs": [],
   "source": [
    "from google.cloud import bigquery\n",
    "bq = bigquery.Client(project=PROJECT_ID)"
   ]
  },
  {
   "cell_type": "markdown",
   "id": "proof-journalist",
   "metadata": {},
   "source": [
    "Delete the dataset `digits`"
   ]
  },
  {
   "cell_type": "code",
   "execution_count": 4,
   "id": "disciplinary-barcelona",
   "metadata": {},
   "outputs": [],
   "source": [
    "bq.delete_dataset(PROJECT_ID+'.digits',delete_contents=True,not_found_ok=True)"
   ]
  },
  {
   "cell_type": "markdown",
   "id": "caring-small",
   "metadata": {},
   "source": [
    "---"
   ]
  },
  {
   "cell_type": "markdown",
   "id": "planned-thunder",
   "metadata": {},
   "source": [
    "## AI Platform (Unified) > Endpoints\n",
    "\n",
    "- Undeploy models\n",
    "- Delete endpoints"
   ]
  },
  {
   "cell_type": "code",
   "execution_count": 53,
   "id": "included-illinois",
   "metadata": {},
   "outputs": [],
   "source": [
    "clients['endpoint'] = aiplatform.gapic.EndpointServiceClient(client_options=client_options)"
   ]
  },
  {
   "cell_type": "code",
   "execution_count": 61,
   "id": "related-fashion",
   "metadata": {},
   "outputs": [],
   "source": [
    "#clients['endpoint'].list_endpoints(parent=PARENT)"
   ]
  },
  {
   "cell_type": "code",
   "execution_count": 56,
   "id": "tired-blame",
   "metadata": {},
   "outputs": [
    {
     "name": "stdout",
     "output_type": "stream",
     "text": [
      "endpoint name:  ENDPOINT_AIP_DIGITS_20210409142218\n",
      "deployed model name:  DEPLOYED_AIP_DIGITS_20210409142218\n",
      "endpoint name:  ENDPOINT_AIP_DIGITS_20210408205703\n",
      "deployed model name:  DEPLOYED_AIP_DIGITS_20210408205703\n",
      "endpoint name:  DIGITS2\n",
      "deployed model name:  KERAS-DIGITS\n",
      "endpoint name:  DIGITS\n",
      "deployed model name:  BQML-DIGITS\n"
     ]
    }
   ],
   "source": [
    "for x in clients['endpoint'].list_endpoints(parent=PARENT):\n",
    "    print(\"endpoint name: \",x.display_name)\n",
    "    for y in x.deployed_models:\n",
    "        print(\"deployed model name: \",y.display_name)\n",
    "        clients['endpoint'].undeploy_model(endpoint=x.name, deployed_model_id=y.id)"
   ]
  },
  {
   "cell_type": "code",
   "execution_count": 60,
   "id": "mature-interface",
   "metadata": {},
   "outputs": [
    {
     "name": "stdout",
     "output_type": "stream",
     "text": [
      "endpoint name:  DIGITS\n",
      "endpoint name:  DIGITS2\n",
      "endpoint name:  ENDPOINT_AIP_DIGITS_20210408205703\n",
      "endpoint name:  ENDPOINT_AIP_DIGITS_20210409142218\n"
     ]
    }
   ],
   "source": [
    "for x in clients['endpoint'].list_endpoints(parent=PARENT):\n",
    "    print(\"endpoint name: \",x.display_name)\n",
    "    clients['endpoint'].delete_endpoint(name=x.name)"
   ]
  },
  {
   "cell_type": "markdown",
   "id": "fixed-relevance",
   "metadata": {},
   "source": [
    "## AI Platform (Unified) > Models\n",
    "- Delete uploaded models"
   ]
  },
  {
   "cell_type": "code",
   "execution_count": 19,
   "id": "liquid-cuisine",
   "metadata": {},
   "outputs": [],
   "source": [
    "clients['model'] = aiplatform.gapic.ModelServiceClient(client_options=client_options)"
   ]
  },
  {
   "cell_type": "code",
   "execution_count": 62,
   "id": "hidden-champion",
   "metadata": {},
   "outputs": [
    {
     "name": "stdout",
     "output_type": "stream",
     "text": [
      "AIP_DIGITS_20210409142218\n",
      "AIP_DIGITS_20210408205703\n",
      "KERAS-DIGITS\n",
      "BQML-DIGITS\n"
     ]
    }
   ],
   "source": [
    "for x in clients['model'].list_models(parent=PARENT):\n",
    "    print(x.display_name)\n",
    "    clients['model'].delete_model(name=x.name)"
   ]
  },
  {
   "cell_type": "markdown",
   "id": "entertaining-flesh",
   "metadata": {},
   "source": [
    "## AI Platform (Unified) > Training > Custom Job\n",
    "- Delete custom training jobs"
   ]
  },
  {
   "cell_type": "code",
   "execution_count": 21,
   "id": "north-magic",
   "metadata": {},
   "outputs": [],
   "source": [
    "clients['job'] = aiplatform.gapic.JobServiceClient(client_options=client_options)"
   ]
  },
  {
   "cell_type": "code",
   "execution_count": 63,
   "id": "collective-recycling",
   "metadata": {},
   "outputs": [
    {
     "name": "stdout",
     "output_type": "stream",
     "text": [
      "AIP_DIGITS_20210409142218-custom-job\n",
      "AIP_DIGITS_20210408205703\n"
     ]
    }
   ],
   "source": [
    "for x in clients['job'].list_custom_jobs(parent=PARENT):\n",
    "    print(x.display_name)\n",
    "    clients['job'].delete_custom_job(name=x.name)"
   ]
  },
  {
   "cell_type": "markdown",
   "id": "romance-difference",
   "metadata": {},
   "source": [
    "## AI Platform (Unified) > Training > Training Pipeline\n",
    "- Delete training pipelines"
   ]
  },
  {
   "cell_type": "code",
   "execution_count": 25,
   "id": "valued-birthday",
   "metadata": {},
   "outputs": [],
   "source": [
    "clients['pipeline'] = aiplatform.gapic.PipelineServiceClient(client_options=client_options)"
   ]
  },
  {
   "cell_type": "code",
   "execution_count": 64,
   "id": "capable-episode",
   "metadata": {},
   "outputs": [
    {
     "name": "stdout",
     "output_type": "stream",
     "text": [
      "AIP_DIGITS_20210409142218\n"
     ]
    }
   ],
   "source": [
    "for x in clients['pipeline'].list_training_pipelines(parent=PARENT):\n",
    "    print(x.display_name)\n",
    "    clients['pipeline'].delete_training_pipeline(name=x.name)"
   ]
  },
  {
   "cell_type": "markdown",
   "id": "driving-width",
   "metadata": {},
   "source": [
    "## Storage Bucket Removal\n",
    "\n",
    "- delete contents and storage bucket `statmike-models`"
   ]
  },
  {
   "cell_type": "code",
   "execution_count": 36,
   "id": "short-bhutan",
   "metadata": {},
   "outputs": [],
   "source": [
    "from google.cloud import storage\n",
    "gcs = storage.Client()"
   ]
  },
  {
   "cell_type": "code",
   "execution_count": 37,
   "id": "surgical-valuable",
   "metadata": {},
   "outputs": [],
   "source": [
    "bucket = gcs.get_bucket(PROJECT_ID)"
   ]
  },
  {
   "cell_type": "code",
   "execution_count": 38,
   "id": "stupid-school",
   "metadata": {},
   "outputs": [],
   "source": [
    "bucket.delete(force=True)"
   ]
  }
 ],
 "metadata": {
  "environment": {
   "name": "tf2-gpu.2-4.m65",
   "type": "gcloud",
   "uri": "gcr.io/deeplearning-platform-release/tf2-gpu.2-4:m65"
  },
  "kernelspec": {
   "display_name": "Python 3",
   "language": "python",
   "name": "python3"
  },
  "language_info": {
   "codemirror_mode": {
    "name": "ipython",
    "version": 3
   },
   "file_extension": ".py",
   "mimetype": "text/x-python",
   "name": "python",
   "nbconvert_exporter": "python",
   "pygments_lexer": "ipython3",
   "version": "3.7.10"
  }
 },
 "nbformat": 4,
 "nbformat_minor": 5
}
