{
 "cells": [
  {
   "cell_type": "markdown",
   "id": "fe4c00a7",
   "metadata": {},
   "source": [
    "# Cleanup All Resources\n",
    "\n",
    "Each notebook has a resource cleanup section that is designed to remove just the resources it created.\n",
    "\n",
    "This notebook is designed to remove all resources by the type created.  By being a general cleanup utility, you can skip sections that you want to remain in use.  This notebook also has a section to delete the GCS bucket created in the `00 - Initial Setup` notebook.\n",
    "\n",
    "**Resources**\n",
    "- Vertex AI: https://googleapis.dev/python/aiplatform/latest/index.html\n",
    "- BigQuery: https://googleapis.dev/python/bigquery/latest/index.html\n",
    "- GCS: https://googleapis.dev/python/storage/latest/client.html"
   ]
  },
  {
   "cell_type": "markdown",
   "id": "f98e71dc",
   "metadata": {},
   "source": [
    "---\n",
    "## Setup"
   ]
  },
  {
   "cell_type": "markdown",
   "id": "79fb2133",
   "metadata": {},
   "source": [
    "Parameters:"
   ]
  },
  {
   "cell_type": "code",
   "execution_count": 1,
   "id": "000f1981",
   "metadata": {},
   "outputs": [],
   "source": [
    "PROJECT_ID = 'statmike-mlops'\n",
    "REGION = 'us-central1'\n",
    "PARENT = \"projects/\" + PROJECT_ID + \"/locations/\" + REGION"
   ]
  },
  {
   "cell_type": "markdown",
   "id": "bdca2c75",
   "metadata": {},
   "source": [
    "AI Platform Client Setup:"
   ]
  },
  {
   "cell_type": "code",
   "execution_count": 2,
   "id": "223a796c",
   "metadata": {},
   "outputs": [],
   "source": [
    "from google.cloud import aiplatform\n",
    "from google.cloud import aiplatform_v1beta1\n",
    "API_ENDPOINT = \"{}-aiplatform.googleapis.com\".format(REGION)\n",
    "client_options = {\"api_endpoint\": API_ENDPOINT}\n",
    "clients = {}\n",
    "aiplatform.init(project=PROJECT_ID, location=REGION)\n",
    "PARENT = \"projects/\" + PROJECT_ID + \"/locations/\" + REGION"
   ]
  },
  {
   "cell_type": "markdown",
   "id": "be6e4e2c",
   "metadata": {},
   "source": [
    "---\n",
    "## BigQuery\n",
    "- Delete the dataset `digits`"
   ]
  },
  {
   "cell_type": "markdown",
   "id": "33dc7497",
   "metadata": {},
   "source": [
    "Make a client connection to BigQuery"
   ]
  },
  {
   "cell_type": "code",
   "execution_count": 3,
   "id": "da8b72aa",
   "metadata": {},
   "outputs": [],
   "source": [
    "from google.cloud import bigquery\n",
    "clients['bq'] = bigquery.Client(project=PROJECT_ID)"
   ]
  },
  {
   "cell_type": "markdown",
   "id": "3e598585",
   "metadata": {},
   "source": [
    "list of datasets in the project:"
   ]
  },
  {
   "cell_type": "code",
   "execution_count": 4,
   "id": "8d88048a",
   "metadata": {},
   "outputs": [],
   "source": [
    "datasets = list(clients['bq'].list_datasets())"
   ]
  },
  {
   "cell_type": "markdown",
   "id": "31ee8c22",
   "metadata": {},
   "source": [
    "delete each dataset:"
   ]
  },
  {
   "cell_type": "code",
   "execution_count": 5,
   "id": "536f7281",
   "metadata": {},
   "outputs": [
    {
     "name": "stdout",
     "output_type": "stream",
     "text": [
      "digits\n",
      "digits_training\n",
      "prediction_bq_digits_code_20210714100524_2021_07_14T06_30_50_038Z\n"
     ]
    }
   ],
   "source": [
    "for ds in datasets:\n",
    "    print(ds.dataset_id)\n",
    "    clients['bq'].delete_dataset(ds.dataset_id,delete_contents=True,not_found_ok=True)"
   ]
  },
  {
   "cell_type": "markdown",
   "id": "21288f36",
   "metadata": {},
   "source": [
    "---\n",
    "## Vertex AI > Datasets\n",
    "- Delete datasets"
   ]
  },
  {
   "cell_type": "code",
   "execution_count": 6,
   "id": "feb4ae49",
   "metadata": {},
   "outputs": [],
   "source": [
    "datasets = aiplatform.TabularDataset.list()"
   ]
  },
  {
   "cell_type": "code",
   "execution_count": 7,
   "id": "4e0d099b",
   "metadata": {},
   "outputs": [
    {
     "name": "stdout",
     "output_type": "stream",
     "text": [
      "projects/691911073727/locations/us-central1/datasets/7248306105741213696\n",
      "INFO:google.cloud.aiplatform.base:Deleting TabularDataset : projects/691911073727/locations/us-central1/datasets/7248306105741213696\n",
      "INFO:google.cloud.aiplatform.base:Delete TabularDataset  backing LRO: projects/691911073727/locations/us-central1/operations/6805869498671824896\n",
      "INFO:google.cloud.aiplatform.base:TabularDataset deleted. . Resource name: projects/691911073727/locations/us-central1/datasets/7248306105741213696\n",
      "projects/691911073727/locations/us-central1/datasets/7275327703505436672\n",
      "INFO:google.cloud.aiplatform.base:Deleting TabularDataset : projects/691911073727/locations/us-central1/datasets/7275327703505436672\n",
      "INFO:google.cloud.aiplatform.base:Delete TabularDataset  backing LRO: projects/691911073727/locations/us-central1/operations/3311076187832320000\n",
      "INFO:google.cloud.aiplatform.base:TabularDataset deleted. . Resource name: projects/691911073727/locations/us-central1/datasets/7275327703505436672\n"
     ]
    }
   ],
   "source": [
    "for ds in datasets:\n",
    "    print(ds.resource_name)\n",
    "    aiplatform.TabularDataset(dataset_name=ds.resource_name).delete()"
   ]
  },
  {
   "cell_type": "markdown",
   "id": "9c80461a",
   "metadata": {},
   "source": [
    "---\n",
    "## Vertex AI > Feature Store\n",
    "- delete feature store including entity types and features"
   ]
  },
  {
   "cell_type": "code",
   "execution_count": 8,
   "id": "c2d9bb16",
   "metadata": {},
   "outputs": [],
   "source": [
    "clients['fs'] = aiplatform_v1beta1.FeaturestoreServiceClient(client_options=client_options)"
   ]
  },
  {
   "cell_type": "code",
   "execution_count": 9,
   "id": "22ad2a85",
   "metadata": {},
   "outputs": [],
   "source": [
    "fs = clients['fs'].list_featurestores(parent=PARENT)"
   ]
  },
  {
   "cell_type": "code",
   "execution_count": 10,
   "id": "e0a40d9c",
   "metadata": {},
   "outputs": [
    {
     "name": "stdout",
     "output_type": "stream",
     "text": [
      "projects/691911073727/locations/us-central1/featurestores/digits_featurestore\n"
     ]
    }
   ],
   "source": [
    "for f in fs:\n",
    "    print(f.name)\n",
    "    clients['fs'].delete_featurestore(request = aiplatform_v1beta1.types.DeleteFeaturestoreRequest(name=f.name,force=True))"
   ]
  },
  {
   "cell_type": "markdown",
   "id": "23a26896",
   "metadata": {},
   "source": [
    "---\n",
    "## Vertex AI > Endpoints\n",
    "- Delete endpoints forcing deployed models to undeploy"
   ]
  },
  {
   "cell_type": "code",
   "execution_count": 11,
   "id": "bf866e8f",
   "metadata": {},
   "outputs": [],
   "source": [
    "endpoints = aiplatform.Endpoint.list()"
   ]
  },
  {
   "cell_type": "code",
   "execution_count": 12,
   "id": "78bacc0e",
   "metadata": {},
   "outputs": [
    {
     "name": "stdout",
     "output_type": "stream",
     "text": [
      "projects/691911073727/locations/us-central1/endpoints/5623500598771974144\n",
      "INFO:google.cloud.aiplatform.models:Undeploying Endpoint model: projects/691911073727/locations/us-central1/endpoints/5623500598771974144\n",
      "INFO:google.cloud.aiplatform.models:Undeploy Endpoint model backing LRO: projects/691911073727/locations/us-central1/endpoints/5623500598771974144/operations/4229810511815901184\n",
      "INFO:google.cloud.aiplatform.models:Endpoint model undeployed. Resource name: projects/691911073727/locations/us-central1/endpoints/5623500598771974144\n",
      "INFO:google.cloud.aiplatform.base:Deleting Endpoint : projects/691911073727/locations/us-central1/endpoints/5623500598771974144\n",
      "INFO:google.cloud.aiplatform.base:Delete Endpoint  backing LRO: projects/691911073727/locations/us-central1/operations/1311477953279819776\n",
      "INFO:google.cloud.aiplatform.base:Endpoint deleted. . Resource name: projects/691911073727/locations/us-central1/endpoints/5623500598771974144\n",
      "projects/691911073727/locations/us-central1/endpoints/1250505360595222528\n",
      "INFO:google.cloud.aiplatform.models:Undeploying Endpoint model: projects/691911073727/locations/us-central1/endpoints/1250505360595222528\n",
      "INFO:google.cloud.aiplatform.models:Undeploy Endpoint model backing LRO: projects/691911073727/locations/us-central1/endpoints/1250505360595222528/operations/1721305519370534912\n",
      "INFO:google.cloud.aiplatform.models:Endpoint model undeployed. Resource name: projects/691911073727/locations/us-central1/endpoints/1250505360595222528\n",
      "INFO:google.cloud.aiplatform.base:Deleting Endpoint : projects/691911073727/locations/us-central1/endpoints/1250505360595222528\n",
      "INFO:google.cloud.aiplatform.base:Delete Endpoint  backing LRO: projects/691911073727/locations/us-central1/operations/2158154683225473024\n",
      "INFO:google.cloud.aiplatform.base:Endpoint deleted. . Resource name: projects/691911073727/locations/us-central1/endpoints/1250505360595222528\n",
      "projects/691911073727/locations/us-central1/endpoints/2200764881970397184\n",
      "INFO:google.cloud.aiplatform.models:Undeploying Endpoint model: projects/691911073727/locations/us-central1/endpoints/2200764881970397184\n",
      "INFO:google.cloud.aiplatform.models:Undeploy Endpoint model backing LRO: projects/691911073727/locations/us-central1/endpoints/2200764881970397184/operations/104513253144526848\n",
      "INFO:google.cloud.aiplatform.models:Endpoint model undeployed. Resource name: projects/691911073727/locations/us-central1/endpoints/2200764881970397184\n",
      "INFO:google.cloud.aiplatform.base:Deleting Endpoint : projects/691911073727/locations/us-central1/endpoints/2200764881970397184\n",
      "INFO:google.cloud.aiplatform.base:Delete Endpoint  backing LRO: projects/691911073727/locations/us-central1/operations/3121925003482759168\n",
      "INFO:google.cloud.aiplatform.base:Endpoint deleted. . Resource name: projects/691911073727/locations/us-central1/endpoints/2200764881970397184\n",
      "projects/691911073727/locations/us-central1/endpoints/4598931683545186304\n",
      "INFO:google.cloud.aiplatform.models:Undeploying Endpoint model: projects/691911073727/locations/us-central1/endpoints/4598931683545186304\n",
      "INFO:google.cloud.aiplatform.models:Undeploy Endpoint model backing LRO: projects/691911073727/locations/us-central1/endpoints/4598931683545186304/operations/4182522715728510976\n",
      "INFO:google.cloud.aiplatform.models:Endpoint model undeployed. Resource name: projects/691911073727/locations/us-central1/endpoints/4598931683545186304\n",
      "INFO:google.cloud.aiplatform.base:Deleting Endpoint : projects/691911073727/locations/us-central1/endpoints/4598931683545186304\n",
      "INFO:google.cloud.aiplatform.base:Delete Endpoint  backing LRO: projects/691911073727/locations/us-central1/operations/8999122517201256448\n",
      "INFO:google.cloud.aiplatform.base:Endpoint deleted. . Resource name: projects/691911073727/locations/us-central1/endpoints/4598931683545186304\n",
      "projects/691911073727/locations/us-central1/endpoints/6904774692758880256\n",
      "INFO:google.cloud.aiplatform.models:Undeploying Endpoint model: projects/691911073727/locations/us-central1/endpoints/6904774692758880256\n",
      "INFO:google.cloud.aiplatform.models:Undeploy Endpoint model backing LRO: projects/691911073727/locations/us-central1/endpoints/6904774692758880256/operations/6272192942828421120\n",
      "INFO:google.cloud.aiplatform.models:Endpoint model undeployed. Resource name: projects/691911073727/locations/us-central1/endpoints/6904774692758880256\n",
      "INFO:google.cloud.aiplatform.base:Deleting Endpoint : projects/691911073727/locations/us-central1/endpoints/6904774692758880256\n",
      "INFO:google.cloud.aiplatform.base:Delete Endpoint  backing LRO: projects/691911073727/locations/us-central1/operations/8229006980920901632\n",
      "INFO:google.cloud.aiplatform.base:Endpoint deleted. . Resource name: projects/691911073727/locations/us-central1/endpoints/6904774692758880256\n",
      "projects/691911073727/locations/us-central1/endpoints/1336073753515261952\n",
      "INFO:google.cloud.aiplatform.models:Undeploying Endpoint model: projects/691911073727/locations/us-central1/endpoints/1336073753515261952\n",
      "INFO:google.cloud.aiplatform.models:Undeploy Endpoint model backing LRO: projects/691911073727/locations/us-central1/endpoints/1336073753515261952/operations/735017200976396288\n",
      "INFO:google.cloud.aiplatform.models:Endpoint model undeployed. Resource name: projects/691911073727/locations/us-central1/endpoints/1336073753515261952\n",
      "INFO:google.cloud.aiplatform.base:Deleting Endpoint : projects/691911073727/locations/us-central1/endpoints/1336073753515261952\n",
      "INFO:google.cloud.aiplatform.base:Delete Endpoint  backing LRO: projects/691911073727/locations/us-central1/operations/7733611021910147072\n",
      "INFO:google.cloud.aiplatform.base:Endpoint deleted. . Resource name: projects/691911073727/locations/us-central1/endpoints/1336073753515261952\n"
     ]
    }
   ],
   "source": [
    "for ep in endpoints:\n",
    "    print(ep.resource_name)\n",
    "    aiplatform.Endpoint(endpoint_name=ep.resource_name).delete(force=True)"
   ]
  },
  {
   "cell_type": "markdown",
   "id": "702f4045",
   "metadata": {},
   "source": [
    "---\n",
    "## Vertex AI > Models\n",
    "- Delete uploaded models"
   ]
  },
  {
   "cell_type": "code",
   "execution_count": 13,
   "id": "f083a6b8",
   "metadata": {},
   "outputs": [],
   "source": [
    "models = aiplatform.Model.list()"
   ]
  },
  {
   "cell_type": "code",
   "execution_count": 14,
   "id": "4bdba49c",
   "metadata": {},
   "outputs": [
    {
     "name": "stdout",
     "output_type": "stream",
     "text": [
      "projects/691911073727/locations/us-central1/models/7751688917216133120\n",
      "INFO:google.cloud.aiplatform.base:Deleting Model : projects/691911073727/locations/us-central1/models/7751688917216133120\n",
      "INFO:google.cloud.aiplatform.base:Delete Model  backing LRO: projects/691911073727/locations/us-central1/operations/1969003498875912192\n",
      "INFO:google.cloud.aiplatform.base:Model deleted. . Resource name: projects/691911073727/locations/us-central1/models/7751688917216133120\n",
      "projects/691911073727/locations/us-central1/models/7467962140691791872\n",
      "INFO:google.cloud.aiplatform.base:Deleting Model : projects/691911073727/locations/us-central1/models/7467962140691791872\n",
      "INFO:google.cloud.aiplatform.base:Delete Model  backing LRO: projects/691911073727/locations/us-central1/operations/5094501640271036416\n",
      "INFO:google.cloud.aiplatform.base:Model deleted. . Resource name: projects/691911073727/locations/us-central1/models/7467962140691791872\n",
      "projects/691911073727/locations/us-central1/models/3626391658544758784\n",
      "INFO:google.cloud.aiplatform.base:Deleting Model : projects/691911073727/locations/us-central1/models/3626391658544758784\n",
      "INFO:google.cloud.aiplatform.base:Delete Model  backing LRO: projects/691911073727/locations/us-central1/operations/208096044574048256\n",
      "INFO:google.cloud.aiplatform.base:Model deleted. . Resource name: projects/691911073727/locations/us-central1/models/3626391658544758784\n",
      "projects/691911073727/locations/us-central1/models/6801429395840958464\n",
      "INFO:google.cloud.aiplatform.base:Deleting Model : projects/691911073727/locations/us-central1/models/6801429395840958464\n",
      "INFO:google.cloud.aiplatform.base:Delete Model  backing LRO: projects/691911073727/locations/us-central1/operations/2104111487697027072\n",
      "INFO:google.cloud.aiplatform.base:Model deleted. . Resource name: projects/691911073727/locations/us-central1/models/6801429395840958464\n",
      "projects/691911073727/locations/us-central1/models/6268315789950976000\n",
      "INFO:google.cloud.aiplatform.base:Deleting Model : projects/691911073727/locations/us-central1/models/6268315789950976000\n",
      "INFO:google.cloud.aiplatform.base:Delete Model  backing LRO: projects/691911073727/locations/us-central1/operations/2788658631057342464\n",
      "INFO:google.cloud.aiplatform.base:Model deleted. . Resource name: projects/691911073727/locations/us-central1/models/6268315789950976000\n",
      "projects/691911073727/locations/us-central1/models/1656629771523588096\n",
      "INFO:google.cloud.aiplatform.base:Deleting Model : projects/691911073727/locations/us-central1/models/1656629771523588096\n",
      "INFO:google.cloud.aiplatform.base:Delete Model  backing LRO: projects/691911073727/locations/us-central1/operations/7409351848739471360\n",
      "INFO:google.cloud.aiplatform.base:Model deleted. . Resource name: projects/691911073727/locations/us-central1/models/1656629771523588096\n",
      "projects/691911073727/locations/us-central1/models/5301730719926583296\n",
      "INFO:google.cloud.aiplatform.base:Deleting Model : projects/691911073727/locations/us-central1/models/5301730719926583296\n",
      "INFO:google.cloud.aiplatform.base:Delete Model  backing LRO: projects/691911073727/locations/us-central1/operations/1644744325705236480\n",
      "INFO:google.cloud.aiplatform.base:Model deleted. . Resource name: projects/691911073727/locations/us-central1/models/5301730719926583296\n"
     ]
    }
   ],
   "source": [
    "for model in models:\n",
    "    print(model.resource_name)\n",
    "    aiplatform.Model(model_name=model.resource_name).delete()"
   ]
  },
  {
   "cell_type": "markdown",
   "id": "9bcbd2e6",
   "metadata": {},
   "source": [
    "---\n",
    "## Vertex AI > Batch Predictions\n",
    "- delete all batch prediction jobs"
   ]
  },
  {
   "cell_type": "code",
   "execution_count": 15,
   "id": "5ffb72ea",
   "metadata": {},
   "outputs": [],
   "source": [
    "bps = aiplatform.BatchPredictionJob.list()"
   ]
  },
  {
   "cell_type": "code",
   "execution_count": 16,
   "id": "cf8e09f1",
   "metadata": {},
   "outputs": [
    {
     "name": "stdout",
     "output_type": "stream",
     "text": [
      "projects/691911073727/locations/us-central1/batchPredictionJobs/2210620904201781248\n",
      "INFO:google.cloud.aiplatform.base:Deleting BatchPredictionJob : projects/691911073727/locations/us-central1/batchPredictionJobs/2210620904201781248\n",
      "INFO:google.cloud.aiplatform.base:Delete BatchPredictionJob  backing LRO: projects/691911073727/locations/us-central1/operations/6580689517303300096\n",
      "INFO:google.cloud.aiplatform.base:BatchPredictionJob deleted. . Resource name: projects/691911073727/locations/us-central1/batchPredictionJobs/2210620904201781248\n"
     ]
    }
   ],
   "source": [
    "for bp in bps:\n",
    "    print(bp.resource_name)\n",
    "    aiplatform.BatchPredictionJob(batch_prediction_job_name=bp.resource_name).delete()"
   ]
  },
  {
   "cell_type": "markdown",
   "id": "2ccb2db5",
   "metadata": {},
   "source": [
    "---\n",
    "## Vertex AI > Experiments > Tensorboard Instances\n",
    "ISSUE: remove experiments first then instances."
   ]
  },
  {
   "cell_type": "code",
   "execution_count": 27,
   "id": "d8ef4813",
   "metadata": {},
   "outputs": [],
   "source": [
    "clients['tb'] = aiplatform_v1beta1.TensorboardServiceClient(client_options=client_options)"
   ]
  },
  {
   "cell_type": "code",
   "execution_count": 28,
   "id": "f952f92f",
   "metadata": {},
   "outputs": [],
   "source": [
    "tbs = clients['tb'].list_tensorboards(parent=PARENT)"
   ]
  },
  {
   "cell_type": "code",
   "execution_count": 33,
   "id": "96ee8e5c",
   "metadata": {},
   "outputs": [
    {
     "name": "stdout",
     "output_type": "stream",
     "text": [
      "projects/691911073727/locations/us-central1/tensorboards/3200124194595536896\n"
     ]
    }
   ],
   "source": [
    "for tb in tbs:\n",
    "    print(tb.name)\n",
    "    clients['tb'].delete_tensorboard(request = aiplatform_v1beta1.types.DeleteTensorboardRequest(name=tb.name))"
   ]
  },
  {
   "cell_type": "markdown",
   "id": "7bd6d5bd",
   "metadata": {},
   "source": [
    "## Vertex AI > Experiments > Experiments"
   ]
  },
  {
   "cell_type": "code",
   "execution_count": 35,
   "id": "d58838f4",
   "metadata": {},
   "outputs": [
    {
     "ename": "NotFound",
     "evalue": "404 The Tensorboard does not exist.",
     "output_type": "error",
     "traceback": [
      "\u001b[0;31m---------------------------------------------------------------------------\u001b[0m",
      "\u001b[0;31m_InactiveRpcError\u001b[0m                         Traceback (most recent call last)",
      "\u001b[0;32m/opt/conda/lib/python3.7/site-packages/google/api_core/grpc_helpers.py\u001b[0m in \u001b[0;36merror_remapped_callable\u001b[0;34m(*args, **kwargs)\u001b[0m\n\u001b[1;32m     72\u001b[0m         \u001b[0;32mtry\u001b[0m\u001b[0;34m:\u001b[0m\u001b[0;34m\u001b[0m\u001b[0;34m\u001b[0m\u001b[0m\n\u001b[0;32m---> 73\u001b[0;31m             \u001b[0;32mreturn\u001b[0m \u001b[0mcallable_\u001b[0m\u001b[0;34m(\u001b[0m\u001b[0;34m*\u001b[0m\u001b[0margs\u001b[0m\u001b[0;34m,\u001b[0m \u001b[0;34m**\u001b[0m\u001b[0mkwargs\u001b[0m\u001b[0;34m)\u001b[0m\u001b[0;34m\u001b[0m\u001b[0;34m\u001b[0m\u001b[0m\n\u001b[0m\u001b[1;32m     74\u001b[0m         \u001b[0;32mexcept\u001b[0m \u001b[0mgrpc\u001b[0m\u001b[0;34m.\u001b[0m\u001b[0mRpcError\u001b[0m \u001b[0;32mas\u001b[0m \u001b[0mexc\u001b[0m\u001b[0;34m:\u001b[0m\u001b[0;34m\u001b[0m\u001b[0;34m\u001b[0m\u001b[0m\n",
      "\u001b[0;32m~/.local/lib/python3.7/site-packages/grpc/_channel.py\u001b[0m in \u001b[0;36m__call__\u001b[0;34m(self, request, timeout, metadata, credentials, wait_for_ready, compression)\u001b[0m\n\u001b[1;32m    922\u001b[0m                                       wait_for_ready, compression)\n\u001b[0;32m--> 923\u001b[0;31m         \u001b[0;32mreturn\u001b[0m \u001b[0m_end_unary_response_blocking\u001b[0m\u001b[0;34m(\u001b[0m\u001b[0mstate\u001b[0m\u001b[0;34m,\u001b[0m \u001b[0mcall\u001b[0m\u001b[0;34m,\u001b[0m \u001b[0;32mFalse\u001b[0m\u001b[0;34m,\u001b[0m \u001b[0;32mNone\u001b[0m\u001b[0;34m)\u001b[0m\u001b[0;34m\u001b[0m\u001b[0;34m\u001b[0m\u001b[0m\n\u001b[0m\u001b[1;32m    924\u001b[0m \u001b[0;34m\u001b[0m\u001b[0m\n",
      "\u001b[0;32m~/.local/lib/python3.7/site-packages/grpc/_channel.py\u001b[0m in \u001b[0;36m_end_unary_response_blocking\u001b[0;34m(state, call, with_call, deadline)\u001b[0m\n\u001b[1;32m    825\u001b[0m     \u001b[0;32melse\u001b[0m\u001b[0;34m:\u001b[0m\u001b[0;34m\u001b[0m\u001b[0;34m\u001b[0m\u001b[0m\n\u001b[0;32m--> 826\u001b[0;31m         \u001b[0;32mraise\u001b[0m \u001b[0m_InactiveRpcError\u001b[0m\u001b[0;34m(\u001b[0m\u001b[0mstate\u001b[0m\u001b[0;34m)\u001b[0m\u001b[0;34m\u001b[0m\u001b[0;34m\u001b[0m\u001b[0m\n\u001b[0m\u001b[1;32m    827\u001b[0m \u001b[0;34m\u001b[0m\u001b[0m\n",
      "\u001b[0;31m_InactiveRpcError\u001b[0m: <_InactiveRpcError of RPC that terminated with:\n\tstatus = StatusCode.NOT_FOUND\n\tdetails = \"The Tensorboard does not exist.\"\n\tdebug_error_string = \"{\"created\":\"@1626290096.418563104\",\"description\":\"Error received from peer ipv4:74.125.124.95:443\",\"file\":\"src/core/lib/surface/call.cc\",\"file_line\":1062,\"grpc_message\":\"The Tensorboard does not exist.\",\"grpc_status\":5}\"\n>",
      "\nThe above exception was the direct cause of the following exception:\n",
      "\u001b[0;31mNotFound\u001b[0m                                  Traceback (most recent call last)",
      "\u001b[0;32m<ipython-input-35-5ebdd6b90a82>\u001b[0m in \u001b[0;36m<module>\u001b[0;34m\u001b[0m\n\u001b[0;32m----> 1\u001b[0;31m \u001b[0mtbes\u001b[0m \u001b[0;34m=\u001b[0m \u001b[0mclients\u001b[0m\u001b[0;34m[\u001b[0m\u001b[0;34m'tb'\u001b[0m\u001b[0;34m]\u001b[0m\u001b[0;34m.\u001b[0m\u001b[0mlist_tensorboard_experiments\u001b[0m\u001b[0;34m(\u001b[0m\u001b[0mparent\u001b[0m\u001b[0;34m=\u001b[0m\u001b[0;34m'projects/691911073727/locations/us-central1/tensorboards/3200124194595536896'\u001b[0m\u001b[0;34m)\u001b[0m\u001b[0;34m\u001b[0m\u001b[0;34m\u001b[0m\u001b[0m\n\u001b[0m",
      "\u001b[0;32m~/.local/lib/python3.7/site-packages/google/cloud/aiplatform_v1beta1/services/tensorboard_service/client.py\u001b[0m in \u001b[0;36mlist_tensorboard_experiments\u001b[0;34m(self, request, parent, retry, timeout, metadata)\u001b[0m\n\u001b[1;32m   1210\u001b[0m             \u001b[0mretry\u001b[0m\u001b[0;34m=\u001b[0m\u001b[0mretry\u001b[0m\u001b[0;34m,\u001b[0m\u001b[0;34m\u001b[0m\u001b[0;34m\u001b[0m\u001b[0m\n\u001b[1;32m   1211\u001b[0m             \u001b[0mtimeout\u001b[0m\u001b[0;34m=\u001b[0m\u001b[0mtimeout\u001b[0m\u001b[0;34m,\u001b[0m\u001b[0;34m\u001b[0m\u001b[0;34m\u001b[0m\u001b[0m\n\u001b[0;32m-> 1212\u001b[0;31m             \u001b[0mmetadata\u001b[0m\u001b[0;34m=\u001b[0m\u001b[0mmetadata\u001b[0m\u001b[0;34m,\u001b[0m\u001b[0;34m\u001b[0m\u001b[0;34m\u001b[0m\u001b[0m\n\u001b[0m\u001b[1;32m   1213\u001b[0m         )\n\u001b[1;32m   1214\u001b[0m \u001b[0;34m\u001b[0m\u001b[0m\n",
      "\u001b[0;32m/opt/conda/lib/python3.7/site-packages/google/api_core/gapic_v1/method.py\u001b[0m in \u001b[0;36m__call__\u001b[0;34m(self, *args, **kwargs)\u001b[0m\n\u001b[1;32m    143\u001b[0m             \u001b[0mkwargs\u001b[0m\u001b[0;34m[\u001b[0m\u001b[0;34m\"metadata\"\u001b[0m\u001b[0;34m]\u001b[0m \u001b[0;34m=\u001b[0m \u001b[0mmetadata\u001b[0m\u001b[0;34m\u001b[0m\u001b[0;34m\u001b[0m\u001b[0m\n\u001b[1;32m    144\u001b[0m \u001b[0;34m\u001b[0m\u001b[0m\n\u001b[0;32m--> 145\u001b[0;31m         \u001b[0;32mreturn\u001b[0m \u001b[0mwrapped_func\u001b[0m\u001b[0;34m(\u001b[0m\u001b[0;34m*\u001b[0m\u001b[0margs\u001b[0m\u001b[0;34m,\u001b[0m \u001b[0;34m**\u001b[0m\u001b[0mkwargs\u001b[0m\u001b[0;34m)\u001b[0m\u001b[0;34m\u001b[0m\u001b[0;34m\u001b[0m\u001b[0m\n\u001b[0m\u001b[1;32m    146\u001b[0m \u001b[0;34m\u001b[0m\u001b[0m\n\u001b[1;32m    147\u001b[0m \u001b[0;34m\u001b[0m\u001b[0m\n",
      "\u001b[0;32m/opt/conda/lib/python3.7/site-packages/google/api_core/grpc_helpers.py\u001b[0m in \u001b[0;36merror_remapped_callable\u001b[0;34m(*args, **kwargs)\u001b[0m\n\u001b[1;32m     73\u001b[0m             \u001b[0;32mreturn\u001b[0m \u001b[0mcallable_\u001b[0m\u001b[0;34m(\u001b[0m\u001b[0;34m*\u001b[0m\u001b[0margs\u001b[0m\u001b[0;34m,\u001b[0m \u001b[0;34m**\u001b[0m\u001b[0mkwargs\u001b[0m\u001b[0;34m)\u001b[0m\u001b[0;34m\u001b[0m\u001b[0;34m\u001b[0m\u001b[0m\n\u001b[1;32m     74\u001b[0m         \u001b[0;32mexcept\u001b[0m \u001b[0mgrpc\u001b[0m\u001b[0;34m.\u001b[0m\u001b[0mRpcError\u001b[0m \u001b[0;32mas\u001b[0m \u001b[0mexc\u001b[0m\u001b[0;34m:\u001b[0m\u001b[0;34m\u001b[0m\u001b[0;34m\u001b[0m\u001b[0m\n\u001b[0;32m---> 75\u001b[0;31m             \u001b[0msix\u001b[0m\u001b[0;34m.\u001b[0m\u001b[0mraise_from\u001b[0m\u001b[0;34m(\u001b[0m\u001b[0mexceptions\u001b[0m\u001b[0;34m.\u001b[0m\u001b[0mfrom_grpc_error\u001b[0m\u001b[0;34m(\u001b[0m\u001b[0mexc\u001b[0m\u001b[0;34m)\u001b[0m\u001b[0;34m,\u001b[0m \u001b[0mexc\u001b[0m\u001b[0;34m)\u001b[0m\u001b[0;34m\u001b[0m\u001b[0;34m\u001b[0m\u001b[0m\n\u001b[0m\u001b[1;32m     76\u001b[0m \u001b[0;34m\u001b[0m\u001b[0m\n\u001b[1;32m     77\u001b[0m     \u001b[0;32mreturn\u001b[0m \u001b[0merror_remapped_callable\u001b[0m\u001b[0;34m\u001b[0m\u001b[0;34m\u001b[0m\u001b[0m\n",
      "\u001b[0;32m~/.local/lib/python3.7/site-packages/six.py\u001b[0m in \u001b[0;36mraise_from\u001b[0;34m(value, from_value)\u001b[0m\n",
      "\u001b[0;31mNotFound\u001b[0m: 404 The Tensorboard does not exist."
     ]
    }
   ],
   "source": [
    "tbes = clients['tb'].list_tensorboard_experiments(parent='projects/691911073727/locations/us-central1/tensorboards/3200124194595536896')"
   ]
  },
  {
   "cell_type": "code",
   "execution_count": 37,
   "id": "55400bd1",
   "metadata": {},
   "outputs": [
    {
     "ename": "NotFound",
     "evalue": "404 The Tensorboard does not exist.",
     "output_type": "error",
     "traceback": [
      "\u001b[0;31m---------------------------------------------------------------------------\u001b[0m",
      "\u001b[0;31m_InactiveRpcError\u001b[0m                         Traceback (most recent call last)",
      "\u001b[0;32m/opt/conda/lib/python3.7/site-packages/google/api_core/grpc_helpers.py\u001b[0m in \u001b[0;36merror_remapped_callable\u001b[0;34m(*args, **kwargs)\u001b[0m\n\u001b[1;32m     72\u001b[0m         \u001b[0;32mtry\u001b[0m\u001b[0;34m:\u001b[0m\u001b[0;34m\u001b[0m\u001b[0;34m\u001b[0m\u001b[0m\n\u001b[0;32m---> 73\u001b[0;31m             \u001b[0;32mreturn\u001b[0m \u001b[0mcallable_\u001b[0m\u001b[0;34m(\u001b[0m\u001b[0;34m*\u001b[0m\u001b[0margs\u001b[0m\u001b[0;34m,\u001b[0m \u001b[0;34m**\u001b[0m\u001b[0mkwargs\u001b[0m\u001b[0;34m)\u001b[0m\u001b[0;34m\u001b[0m\u001b[0;34m\u001b[0m\u001b[0m\n\u001b[0m\u001b[1;32m     74\u001b[0m         \u001b[0;32mexcept\u001b[0m \u001b[0mgrpc\u001b[0m\u001b[0;34m.\u001b[0m\u001b[0mRpcError\u001b[0m \u001b[0;32mas\u001b[0m \u001b[0mexc\u001b[0m\u001b[0;34m:\u001b[0m\u001b[0;34m\u001b[0m\u001b[0;34m\u001b[0m\u001b[0m\n",
      "\u001b[0;32m~/.local/lib/python3.7/site-packages/grpc/_channel.py\u001b[0m in \u001b[0;36m__call__\u001b[0;34m(self, request, timeout, metadata, credentials, wait_for_ready, compression)\u001b[0m\n\u001b[1;32m    922\u001b[0m                                       wait_for_ready, compression)\n\u001b[0;32m--> 923\u001b[0;31m         \u001b[0;32mreturn\u001b[0m \u001b[0m_end_unary_response_blocking\u001b[0m\u001b[0;34m(\u001b[0m\u001b[0mstate\u001b[0m\u001b[0;34m,\u001b[0m \u001b[0mcall\u001b[0m\u001b[0;34m,\u001b[0m \u001b[0;32mFalse\u001b[0m\u001b[0;34m,\u001b[0m \u001b[0;32mNone\u001b[0m\u001b[0;34m)\u001b[0m\u001b[0;34m\u001b[0m\u001b[0;34m\u001b[0m\u001b[0m\n\u001b[0m\u001b[1;32m    924\u001b[0m \u001b[0;34m\u001b[0m\u001b[0m\n",
      "\u001b[0;32m~/.local/lib/python3.7/site-packages/grpc/_channel.py\u001b[0m in \u001b[0;36m_end_unary_response_blocking\u001b[0;34m(state, call, with_call, deadline)\u001b[0m\n\u001b[1;32m    825\u001b[0m     \u001b[0;32melse\u001b[0m\u001b[0;34m:\u001b[0m\u001b[0;34m\u001b[0m\u001b[0;34m\u001b[0m\u001b[0m\n\u001b[0;32m--> 826\u001b[0;31m         \u001b[0;32mraise\u001b[0m \u001b[0m_InactiveRpcError\u001b[0m\u001b[0;34m(\u001b[0m\u001b[0mstate\u001b[0m\u001b[0;34m)\u001b[0m\u001b[0;34m\u001b[0m\u001b[0;34m\u001b[0m\u001b[0m\n\u001b[0m\u001b[1;32m    827\u001b[0m \u001b[0;34m\u001b[0m\u001b[0m\n",
      "\u001b[0;31m_InactiveRpcError\u001b[0m: <_InactiveRpcError of RPC that terminated with:\n\tstatus = StatusCode.NOT_FOUND\n\tdetails = \"The Tensorboard does not exist.\"\n\tdebug_error_string = \"{\"created\":\"@1626291227.256935712\",\"description\":\"Error received from peer ipv4:142.250.148.95:443\",\"file\":\"src/core/lib/surface/call.cc\",\"file_line\":1062,\"grpc_message\":\"The Tensorboard does not exist.\",\"grpc_status\":5}\"\n>",
      "\nThe above exception was the direct cause of the following exception:\n",
      "\u001b[0;31mNotFound\u001b[0m                                  Traceback (most recent call last)",
      "\u001b[0;32m<ipython-input-37-2a44d7b262c7>\u001b[0m in \u001b[0;36m<module>\u001b[0;34m\u001b[0m\n\u001b[0;32m----> 1\u001b[0;31m \u001b[0mclients\u001b[0m\u001b[0;34m[\u001b[0m\u001b[0;34m'tb'\u001b[0m\u001b[0;34m]\u001b[0m\u001b[0;34m.\u001b[0m\u001b[0mdelete_tensorboard_experiment\u001b[0m\u001b[0;34m(\u001b[0m\u001b[0mrequest\u001b[0m\u001b[0;34m=\u001b[0m\u001b[0maiplatform_v1beta1\u001b[0m\u001b[0;34m.\u001b[0m\u001b[0mtypes\u001b[0m\u001b[0;34m.\u001b[0m\u001b[0mDeleteTensorboardExperimentRequest\u001b[0m\u001b[0;34m(\u001b[0m\u001b[0mname\u001b[0m\u001b[0;34m=\u001b[0m\u001b[0;34m'projects/691911073727/locations/us-central1/tensorboards/3200124194595536896'\u001b[0m\u001b[0;34m)\u001b[0m\u001b[0;34m)\u001b[0m\u001b[0;34m\u001b[0m\u001b[0;34m\u001b[0m\u001b[0m\n\u001b[0m",
      "\u001b[0;32m~/.local/lib/python3.7/site-packages/google/cloud/aiplatform_v1beta1/services/tensorboard_service/client.py\u001b[0m in \u001b[0;36mdelete_tensorboard_experiment\u001b[0;34m(self, request, name, retry, timeout, metadata)\u001b[0m\n\u001b[1;32m   1311\u001b[0m             \u001b[0mretry\u001b[0m\u001b[0;34m=\u001b[0m\u001b[0mretry\u001b[0m\u001b[0;34m,\u001b[0m\u001b[0;34m\u001b[0m\u001b[0;34m\u001b[0m\u001b[0m\n\u001b[1;32m   1312\u001b[0m             \u001b[0mtimeout\u001b[0m\u001b[0;34m=\u001b[0m\u001b[0mtimeout\u001b[0m\u001b[0;34m,\u001b[0m\u001b[0;34m\u001b[0m\u001b[0;34m\u001b[0m\u001b[0m\n\u001b[0;32m-> 1313\u001b[0;31m             \u001b[0mmetadata\u001b[0m\u001b[0;34m=\u001b[0m\u001b[0mmetadata\u001b[0m\u001b[0;34m,\u001b[0m\u001b[0;34m\u001b[0m\u001b[0;34m\u001b[0m\u001b[0m\n\u001b[0m\u001b[1;32m   1314\u001b[0m         )\n\u001b[1;32m   1315\u001b[0m \u001b[0;34m\u001b[0m\u001b[0m\n",
      "\u001b[0;32m/opt/conda/lib/python3.7/site-packages/google/api_core/gapic_v1/method.py\u001b[0m in \u001b[0;36m__call__\u001b[0;34m(self, *args, **kwargs)\u001b[0m\n\u001b[1;32m    143\u001b[0m             \u001b[0mkwargs\u001b[0m\u001b[0;34m[\u001b[0m\u001b[0;34m\"metadata\"\u001b[0m\u001b[0;34m]\u001b[0m \u001b[0;34m=\u001b[0m \u001b[0mmetadata\u001b[0m\u001b[0;34m\u001b[0m\u001b[0;34m\u001b[0m\u001b[0m\n\u001b[1;32m    144\u001b[0m \u001b[0;34m\u001b[0m\u001b[0m\n\u001b[0;32m--> 145\u001b[0;31m         \u001b[0;32mreturn\u001b[0m \u001b[0mwrapped_func\u001b[0m\u001b[0;34m(\u001b[0m\u001b[0;34m*\u001b[0m\u001b[0margs\u001b[0m\u001b[0;34m,\u001b[0m \u001b[0;34m**\u001b[0m\u001b[0mkwargs\u001b[0m\u001b[0;34m)\u001b[0m\u001b[0;34m\u001b[0m\u001b[0;34m\u001b[0m\u001b[0m\n\u001b[0m\u001b[1;32m    146\u001b[0m \u001b[0;34m\u001b[0m\u001b[0m\n\u001b[1;32m    147\u001b[0m \u001b[0;34m\u001b[0m\u001b[0m\n",
      "\u001b[0;32m/opt/conda/lib/python3.7/site-packages/google/api_core/grpc_helpers.py\u001b[0m in \u001b[0;36merror_remapped_callable\u001b[0;34m(*args, **kwargs)\u001b[0m\n\u001b[1;32m     73\u001b[0m             \u001b[0;32mreturn\u001b[0m \u001b[0mcallable_\u001b[0m\u001b[0;34m(\u001b[0m\u001b[0;34m*\u001b[0m\u001b[0margs\u001b[0m\u001b[0;34m,\u001b[0m \u001b[0;34m**\u001b[0m\u001b[0mkwargs\u001b[0m\u001b[0;34m)\u001b[0m\u001b[0;34m\u001b[0m\u001b[0;34m\u001b[0m\u001b[0m\n\u001b[1;32m     74\u001b[0m         \u001b[0;32mexcept\u001b[0m \u001b[0mgrpc\u001b[0m\u001b[0;34m.\u001b[0m\u001b[0mRpcError\u001b[0m \u001b[0;32mas\u001b[0m \u001b[0mexc\u001b[0m\u001b[0;34m:\u001b[0m\u001b[0;34m\u001b[0m\u001b[0;34m\u001b[0m\u001b[0m\n\u001b[0;32m---> 75\u001b[0;31m             \u001b[0msix\u001b[0m\u001b[0;34m.\u001b[0m\u001b[0mraise_from\u001b[0m\u001b[0;34m(\u001b[0m\u001b[0mexceptions\u001b[0m\u001b[0;34m.\u001b[0m\u001b[0mfrom_grpc_error\u001b[0m\u001b[0;34m(\u001b[0m\u001b[0mexc\u001b[0m\u001b[0;34m)\u001b[0m\u001b[0;34m,\u001b[0m \u001b[0mexc\u001b[0m\u001b[0;34m)\u001b[0m\u001b[0;34m\u001b[0m\u001b[0;34m\u001b[0m\u001b[0m\n\u001b[0m\u001b[1;32m     76\u001b[0m \u001b[0;34m\u001b[0m\u001b[0m\n\u001b[1;32m     77\u001b[0m     \u001b[0;32mreturn\u001b[0m \u001b[0merror_remapped_callable\u001b[0m\u001b[0;34m\u001b[0m\u001b[0;34m\u001b[0m\u001b[0m\n",
      "\u001b[0;32m~/.local/lib/python3.7/site-packages/six.py\u001b[0m in \u001b[0;36mraise_from\u001b[0;34m(value, from_value)\u001b[0m\n",
      "\u001b[0;31mNotFound\u001b[0m: 404 The Tensorboard does not exist."
     ]
    }
   ],
   "source": [
    "clients['tb'].delete_tensorboard_experiment(request=aiplatform_v1beta1.types.DeleteTensorboardExperimentRequest(name='projects/691911073727/locations/us-central1/tensorboards/3200124194595536896'))"
   ]
  },
  {
   "cell_type": "code",
   "execution_count": null,
   "id": "0c1a8d62",
   "metadata": {},
   "outputs": [],
   "source": []
  },
  {
   "cell_type": "markdown",
   "id": "f9a82005",
   "metadata": {},
   "source": [
    "---\n",
    "## Vertex AI > Training\n",
    "- delete various jobs types\n",
    "- some create with aiplatform.* and other created by aiplatform.gapic.*"
   ]
  },
  {
   "cell_type": "code",
   "execution_count": 17,
   "id": "4f06db76",
   "metadata": {},
   "outputs": [
    {
     "data": {
      "text/plain": [
       "[<google.cloud.aiplatform.training_jobs.CustomTrainingJob object at 0x7fa6b8a04510> \n",
       " resource name: projects/691911073727/locations/us-central1/trainingPipelines/7144314295986159616]"
      ]
     },
     "execution_count": 17,
     "metadata": {},
     "output_type": "execute_result"
    }
   ],
   "source": [
    "jobsA = aiplatform.CustomTrainingJob.list()\n",
    "jobsA"
   ]
  },
  {
   "cell_type": "code",
   "execution_count": 18,
   "id": "6e09595d",
   "metadata": {},
   "outputs": [
    {
     "data": {
      "text/plain": [
       "[<google.cloud.aiplatform.training_jobs.CustomPythonPackageTrainingJob object at 0x7fa6b89d2690> \n",
       " resource name: projects/691911073727/locations/us-central1/trainingPipelines/7144314295986159616]"
      ]
     },
     "execution_count": 18,
     "metadata": {},
     "output_type": "execute_result"
    }
   ],
   "source": [
    "jobsB = aiplatform.CustomPythonPackageTrainingJob.list()\n",
    "jobsB"
   ]
  },
  {
   "cell_type": "code",
   "execution_count": 19,
   "id": "0108d0a6",
   "metadata": {},
   "outputs": [
    {
     "data": {
      "text/plain": [
       "[<google.cloud.aiplatform.training_jobs.AutoMLTabularTrainingJob object at 0x7fa6b8e840d0> \n",
       " resource name: projects/691911073727/locations/us-central1/trainingPipelines/7482084268038946816,\n",
       " <google.cloud.aiplatform.training_jobs.AutoMLTabularTrainingJob object at 0x7fa6b8a063d0> \n",
       " resource name: projects/691911073727/locations/us-central1/trainingPipelines/524022843751530496]"
      ]
     },
     "execution_count": 19,
     "metadata": {},
     "output_type": "execute_result"
    }
   ],
   "source": [
    "jobsC = aiplatform.AutoMLTabularTrainingJob.list()\n",
    "jobsC"
   ]
  },
  {
   "cell_type": "markdown",
   "id": "a92fc31f",
   "metadata": {},
   "source": [
    "## Vertex AI > Training > Custom Job\n",
    "- Delete custom training jobs"
   ]
  },
  {
   "cell_type": "code",
   "execution_count": 20,
   "id": "db70b0fa",
   "metadata": {},
   "outputs": [],
   "source": [
    "clients['job'] = aiplatform.gapic.JobServiceClient(client_options=client_options)"
   ]
  },
  {
   "cell_type": "code",
   "execution_count": 21,
   "id": "89285178",
   "metadata": {},
   "outputs": [
    {
     "name": "stdout",
     "output_type": "stream",
     "text": [
      "05_AIP_DIGITS_20210714165425\n",
      "06_AIP_DIGITS_20210714132709-custom-job\n",
      "05_AIP_DIGITS_20210714131833\n"
     ]
    }
   ],
   "source": [
    "for x in clients['job'].list_custom_jobs(parent=PARENT):\n",
    "    print(x.display_name)\n",
    "    clients['job'].delete_custom_job(name=x.name)"
   ]
  },
  {
   "cell_type": "markdown",
   "id": "ab902997",
   "metadata": {},
   "source": [
    "## Vertex AI > Training > Training Pipeline (Python Package)\n",
    "- Delete training pipelines"
   ]
  },
  {
   "cell_type": "code",
   "execution_count": 22,
   "id": "e36854e1",
   "metadata": {},
   "outputs": [],
   "source": [
    "clients['pipeline'] = aiplatform.gapic.PipelineServiceClient(client_options=client_options)"
   ]
  },
  {
   "cell_type": "code",
   "execution_count": 23,
   "id": "b9f2c5ea",
   "metadata": {},
   "outputs": [
    {
     "name": "stdout",
     "output_type": "stream",
     "text": [
      "equifax _2021714142137\n",
      "06_AIP_DIGITS_20210714132709\n",
      "bq_digits_code_20210714100524\n"
     ]
    }
   ],
   "source": [
    "for x in clients['pipeline'].list_training_pipelines(parent=PARENT):\n",
    "    print(x.display_name)\n",
    "    clients['pipeline'].delete_training_pipeline(name=x.name)"
   ]
  },
  {
   "cell_type": "markdown",
   "id": "6753731d",
   "metadata": {},
   "source": [
    "---\n",
    "## Storage Bucket Removal\n",
    "\n",
    "- delete contents and storage bucket `statmike-mlops` (named after project)"
   ]
  },
  {
   "cell_type": "code",
   "execution_count": 24,
   "id": "fe39f66a",
   "metadata": {},
   "outputs": [],
   "source": [
    "from google.cloud import storage\n",
    "clients['gcs'] = storage.Client()"
   ]
  },
  {
   "cell_type": "code",
   "execution_count": 25,
   "id": "6af88d43",
   "metadata": {},
   "outputs": [],
   "source": [
    "bucket = clients['gcs'].get_bucket(PROJECT_ID)"
   ]
  },
  {
   "cell_type": "code",
   "execution_count": 26,
   "id": "ab05aa04",
   "metadata": {},
   "outputs": [],
   "source": [
    "bucket.delete(force=True)"
   ]
  },
  {
   "cell_type": "code",
   "execution_count": null,
   "id": "d508af63",
   "metadata": {},
   "outputs": [],
   "source": []
  }
 ],
 "metadata": {
  "environment": {
   "name": "managed-notebooks.m70",
   "type": "gcloud",
   "uri": "gcr.io/deeplearning-platform-release/managed-notebooks:m70"
  },
  "kernelspec": {
   "display_name": "Python",
   "language": "python",
   "name": "base"
  },
  "language_info": {
   "codemirror_mode": {
    "name": "ipython",
    "version": 3
   },
   "file_extension": ".py",
   "mimetype": "text/x-python",
   "name": "python",
   "nbconvert_exporter": "python",
   "pygments_lexer": "ipython3",
   "version": "3.7.10"
  }
 },
 "nbformat": 4,
 "nbformat_minor": 5
}
