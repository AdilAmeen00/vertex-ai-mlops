{
 "cells": [
  {
   "cell_type": "markdown",
   "id": "8cd563b4",
   "metadata": {},
   "source": [
    "# AutoML with Vertex AI - GCP Console\n",
    "\n",
    "This notebook captures the screenshots of using the Vertex AI GCP Console to\n",
    "- create a Dataset linked to BigQuery table\n",
    "- Train an AutoML model for the Dataset\n",
    "- Deploy the Model to and Endpoint\n",
    "- Create Batch Predictions\n",
    "- Create Online Predictions\n",
    "\n",
    "**Prerequisites**\n",
    "- `00 - Initial Setup`\n",
    "\n",
    "**Overview**\n",
    "\n",
    "<img src=\"architectures/statmike-mlops-A1.png\">\n"
   ]
  },
  {
   "cell_type": "markdown",
   "id": "ddba5dc0",
   "metadata": {},
   "source": [
    "## Create Dataset (link to BigQuery table)\n",
    "\n",
    "<img src=\"architectures/A1_Screenshots/ds_1.png\">\n",
    "\n",
    "\n",
    "<img src=\"architectures/A1_Screenshots/ds_2.png\">\n",
    "\n",
    "\n",
    "<img src=\"architectures/A1_Screenshots/ds_3.png\">\n",
    "\n",
    "\n",
    "<img src=\"architectures/A1_Screenshots/ds_4.png\">"
   ]
  },
  {
   "cell_type": "markdown",
   "id": "a9f26ad0",
   "metadata": {},
   "source": [
    "## Train Model with AutoML\n",
    "\n",
    "<img src=\"architectures/A1_Screenshots/train_1.png\">\n",
    "\n",
    "\n",
    "<img src=\"architectures/A1_Screenshots/train_2.png\">\n",
    "\n",
    "\n",
    "<img src=\"architectures/A1_Screenshots/train_3.png\">\n",
    "\n",
    "\n",
    "<img src=\"architectures/A1_Screenshots/train_4.png\">\n",
    "\n",
    "\n",
    "<img src=\"architectures/A1_Screenshots/train_5.png\">"
   ]
  },
  {
   "cell_type": "code",
   "execution_count": null,
   "id": "4a10ea4d",
   "metadata": {},
   "outputs": [],
   "source": []
  }
 ],
 "metadata": {
  "environment": {
   "name": "managed-notebooks.m70",
   "type": "gcloud",
   "uri": "gcr.io/deeplearning-platform-release/managed-notebooks:m70"
  },
  "kernelspec": {
   "display_name": "Python",
   "language": "python",
   "name": "base"
  },
  "language_info": {
   "codemirror_mode": {
    "name": "ipython",
    "version": 3
   },
   "file_extension": ".py",
   "mimetype": "text/x-python",
   "name": "python",
   "nbconvert_exporter": "python",
   "pygments_lexer": "ipython3",
   "version": "3.7.10"
  }
 },
 "nbformat": 4,
 "nbformat_minor": 5
}
