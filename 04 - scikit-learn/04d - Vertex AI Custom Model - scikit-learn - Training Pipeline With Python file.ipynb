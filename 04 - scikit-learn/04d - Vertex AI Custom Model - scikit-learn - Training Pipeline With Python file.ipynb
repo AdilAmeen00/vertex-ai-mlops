{
 "cells": [
  {
   "cell_type": "markdown",
   "id": "364fcad9",
   "metadata": {},
   "source": [
    "![ga4](https://www.google-analytics.com/collect?v=2&tid=G-6VDTYWLKX6&cid=1&en=page_view&sid=1&dl=statmike%2Fvertex-ai-mlops%2F04+-+scikit-learn&dt=04d+-+Vertex+AI+Custom+Model+-+scikit-learn+-+Training+Pipeline+With+Python+file.ipynb)\n",
    "\n",
    "# 04d - Vertex AI > Training > Training Pipelines - With Python file\n",
    "\n",
    "**04 Series Overview**\n",
    "\n",
    "Where a model gets trained is where it consumes computing resources.  With Vertex AI, you have choices for configuring the computing resources available at training.  This notebook is an example of an execution environment.  When it was set up there were choices for machine type and accelerators (GPUs).  \n",
    "\n",
    "In the [04 - Vertex AI Custom Model - scikit-learn - in Notebook](./04%20-%20Vertex%20AI%20Custom%20Model%20-%20scikit-learn%20-%20in%20Notebook.ipynb) notebook, the model training happened directly in the notebook.  The model was then imported to Vertex AI and deployed to an endpoint for online predictions. \n",
    "\n",
    "In this `04a-04i` series of demonstrations, the same model is trained using managed computing resources in Vertex AI Training as managed jobs.  These jobs will be demonstrated as:\n",
    "\n",
    "-  Custom Job that trains and saves (to GCS) a model from a python script (`04a`), python source distribution (`04b`), and custom container (`04c`)\n",
    "-  Training Pipeline that trains and registers a model from a python script (`04d`), python source distribution (`04e`), and custom container (`04f`)\n",
    "-  Hyperparameter Tuning Jobs from a python script (`04g`), python source distribution (`04h`), and custom container (`04i`)\n",
    "\n",
    "**This Notebook (`04d`): An extension of `04a` as a Training Pipeline that saves the model to Vertex AI > Model Registry**\n",
    "\n",
    "This notebook trains the same scikit-learn logistic regression model from [04 - Vertex AI Custom Model - scikit-learn - in Notebook](./04%20-%20Vertex%20AI%20Custom%20Model%20-%20scikit-learn%20-%20in%20Notebook.ipynb) by first modifying and saving the training code to a Python script as shown in [04 - Vertex AI Custom Model - scikit-learn - Notebook to Script](./04%20-%20Vertex%20AI%20Custom%20Model%20-%20scikit-learn%20-%20Notebook%20to%20Script.ipynb).  \n",
    "\n",
    "The script is then used as an input for a Vertex AI > Training > Training Pipeline that is also assigned compute resources and a [pre-built container for custom training](https://cloud.google.com/vertex-ai/docs/training/pre-built-containers) for executing the training in a managed service. \n",
    "\n",
    "Compared to the Custom Job in `04a` the primary considerations for this Training Pipeline are:\n",
    "- the final model is registered to Vertex AI > Model Registry\n",
    "- the training pipeline triggers a similar custom job in Vertex AI > Training\n",
    "\n",
    "This job is launched using the Vertex AI client library:\n",
    "- [Python Cloud Client Libraries](https://cloud.google.com/python/docs/reference)\n",
    "    - [google-cloud-aiplatform](https://cloud.google.com/python/docs/reference/aiplatform/latest)\n",
    "        - [`aiplatform` package](https://cloud.google.com/python/docs/reference/aiplatform/latest/google.cloud.aiplatform)\n",
    "            - [`aiplatform.CustomTrainingJob()`](https://cloud.google.com/python/docs/reference/aiplatform/latest/google.cloud.aiplatform.CustomTrainingJob#google_cloud_aiplatform_CustomTrainingJob)\n",
    "            - and run with the method [`.run()`](https://cloud.google.com/python/docs/reference/aiplatform/latest/google.cloud.aiplatform.CustomTrainingJob#google_cloud_aiplatform_CustomTrainingJob_run)\n",
    "\n",
    "**Vertex AI Training**\n",
    "\n",
    "In Vertex AI Training you can run your training code as a job where you specify the compute resources to use. For tips on preparing code, running training jobs, and workflows for building custom containers with software and training code combined please visit these [tips notebooks](../Tips/readme.md) in this repository:\n",
    "- [Python Packages](../Tips/Python%20Packages.ipynb)\n",
    "- [Python Custom Containers](../Tips/Python%20Custom%20Containers.ipynb)\n",
    "- [Python Training](../Tips/Python%20Training.ipynb)\n",
    "\n",
    "<p align=\"center\" width=\"100%\">\n",
    "    <img src=\"../architectures/overview/training.png\" width=\"45%\">\n",
    "    &nbsp; &nbsp; &nbsp; &nbsp;\n",
    "    <img src=\"../architectures/overview/training2.png\" width=\"45%\">\n",
    "</p>\n",
    "\n",
    "**Prerequisites:**\n",
    "-  [01 - BigQuery - Table Data Source](../01%20-%20Data%20Sources/01%20-%20BigQuery%20-%20Table%20Data%20Source.ipynb)\n",
    "-  Understanding:\n",
    "    -  Model overview in [04 - Vertex AI Custom Model - scikit-learn - in Notebook](./04%20-%20Vertex%20AI%20Custom%20Model%20-%20scikit-learn%20-%20in%20Notebook.ipynb)\n",
    "    -  Convert notebook code to Python Script in [04 - Vertex AI Custom Model - scikit-learn - Notebook to Script](./04%20-%20Vertex%20AI%20Custom%20Model%20-%20scikit-learn%20-%20Notebook%20to%20Script.ipynb)\n",
    "\n",
    "**Resources:**\n",
    "-  [sklearn](https://scikit-learn.org/stable/)\n",
    "-  [Python Client For Google BigQuery](https://googleapis.dev/python/bigquery/latest/index.html)\n",
    "-  [Python Client for Vertex AI](https://googleapis.dev/python/aiplatform/latest/aiplatform.html)\n",
    "-  Containers for training (Pre-Built)\n",
    "   -  [Overview](https://cloud.google.com/vertex-ai/docs/training/create-python-pre-built-container)\n",
    "   -  [List](https://cloud.google.com/vertex-ai/docs/training/pre-built-containers)\n",
    "\n",
    "**Conceptual Flow & Workflow**\n",
    "\n",
    "<p align=\"center\">\n",
    "  <img alt=\"Conceptual Flow\" src=\"../architectures/slides/05d_arch.png\" width=\"45%\">\n",
    "&nbsp; &nbsp; &nbsp; &nbsp;\n",
    "  <img alt=\"Workflow\" src=\"../architectures/slides/05d_console.png\" width=\"45%\">\n",
    "</p>"
   ]
  },
  {
   "cell_type": "markdown",
   "id": "8079389a",
   "metadata": {},
   "source": [
    "---\n",
    "## Setup"
   ]
  },
  {
   "cell_type": "markdown",
   "id": "de9141fd",
   "metadata": {},
   "source": [
    "inputs:"
   ]
  },
  {
   "cell_type": "code",
   "execution_count": 1,
   "id": "dd24162f-73a0-4430-8f24-10bb2d57ae06",
   "metadata": {},
   "outputs": [
    {
     "data": {
      "text/plain": [
       "'mg-ce-demos'"
      ]
     },
     "execution_count": 1,
     "metadata": {},
     "output_type": "execute_result"
    }
   ],
   "source": [
    "project = !gcloud config get-value project\n",
    "PROJECT_ID = project[0]\n",
    "PROJECT_ID"
   ]
  },
  {
   "cell_type": "code",
   "execution_count": 2,
   "id": "8d7364d5",
   "metadata": {},
   "outputs": [],
   "source": [
    "REGION = 'us-central1'\n",
    "EXPERIMENT = '04d'\n",
    "SERIES = '04'\n",
    "\n",
    "# source data\n",
    "BQ_PROJECT = PROJECT_ID\n",
    "BQ_DATASET = 'fraud'\n",
    "BQ_TABLE = 'fraud_prepped'\n",
    "\n",
    "# Resources\n",
    "DEPLOY_IMAGE = 'us-docker.pkg.dev/vertex-ai/prediction/sklearn-cpu.0-23:latest'\n",
    "TRAIN_IMAGE = 'us-docker.pkg.dev/vertex-ai/training/scikit-learn-cpu.0-23:latest'\n",
    "TRAIN_COMPUTE = 'n1-standard-4'\n",
    "DEPLOY_COMPUTE = 'n1-standard-4'\n",
    "\n",
    "# Model Training\n",
    "VAR_TARGET = 'Class'\n",
    "VAR_OMIT = 'transaction_id-splits' + '-' + VAR_TARGET # add more variables to the string with space delimiters\n",
    "SOLVER = 'newton-cg'\n",
    "PENALTY = 'l2'"
   ]
  },
  {
   "cell_type": "markdown",
   "id": "c08869b5",
   "metadata": {},
   "source": [
    "packages:"
   ]
  },
  {
   "cell_type": "code",
   "execution_count": 3,
   "id": "9c5fe512",
   "metadata": {},
   "outputs": [],
   "source": [
    "from google.cloud import aiplatform\n",
    "from datetime import datetime\n",
    "import pkg_resources\n",
    "from IPython.display import Markdown as md\n",
    "from google.cloud import bigquery\n",
    "from google.protobuf import json_format\n",
    "from google.protobuf.struct_pb2 import Value\n",
    "import json\n",
    "import numpy as np\n",
    "import pandas as pd"
   ]
  },
  {
   "cell_type": "markdown",
   "id": "4d758fd9",
   "metadata": {},
   "source": [
    "clients:"
   ]
  },
  {
   "cell_type": "code",
   "execution_count": 4,
   "id": "dccb3886",
   "metadata": {},
   "outputs": [],
   "source": [
    "aiplatform.init(project=PROJECT_ID, location=REGION)\n",
    "bq = bigquery.Client()"
   ]
  },
  {
   "cell_type": "markdown",
   "id": "5a3d6592",
   "metadata": {},
   "source": [
    "parameters:"
   ]
  },
  {
   "cell_type": "code",
   "execution_count": 5,
   "id": "465facc7",
   "metadata": {},
   "outputs": [],
   "source": [
    "TIMESTAMP = datetime.now().strftime(\"%Y%m%d%H%M%S\")\n",
    "BUCKET = PROJECT_ID\n",
    "URI = f\"gs://{BUCKET}/{SERIES}/{EXPERIMENT}\"\n",
    "DIR = f\"temp/{EXPERIMENT}\"\n",
    "BLOB = f\"{SERIES}/{EXPERIMENT}/models/{TIMESTAMP}/model/model.pkl\""
   ]
  },
  {
   "cell_type": "code",
   "execution_count": 6,
   "id": "4f1b4920-a57b-4fe1-b2e3-0835ae9e0147",
   "metadata": {},
   "outputs": [
    {
     "data": {
      "text/plain": [
       "'mg-ce-demos-main@mg-ce-demos.iam.gserviceaccount.com'"
      ]
     },
     "execution_count": 6,
     "metadata": {},
     "output_type": "execute_result"
    }
   ],
   "source": [
    "SERVICE_ACCOUNT = !gcloud config list --format='value(core.account)' \n",
    "SERVICE_ACCOUNT = SERVICE_ACCOUNT[0]\n",
    "SERVICE_ACCOUNT"
   ]
  },
  {
   "cell_type": "markdown",
   "id": "b3f47491-b3b9-4422-96d3-9fdf0abbc8df",
   "metadata": {},
   "source": [
    "List the service accounts current roles:"
   ]
  },
  {
   "cell_type": "code",
   "execution_count": 7,
   "id": "ae7e45dc-2b0b-480a-a35b-6fc6979a0690",
   "metadata": {},
   "outputs": [
    {
     "name": "stdout",
     "output_type": "stream",
     "text": [
      "ROLE\n",
      "roles/aiplatform.admin\n",
      "roles/bigquery.admin\n",
      "roles/editor\n",
      "roles/storage.objectAdmin\n",
      "\n",
      "\n",
      "Updates are available for some Google Cloud CLI components.  To install them,\n",
      "please run:\n",
      "  $ gcloud components update\n",
      "\n"
     ]
    }
   ],
   "source": [
    "!gcloud projects get-iam-policy $PROJECT_ID --filter=\"bindings.members:$SERVICE_ACCOUNT\" --format='table(bindings.role)' --flatten=\"bindings[].members\""
   ]
  },
  {
   "cell_type": "markdown",
   "id": "850d68a5-b68c-4578-a028-260f2ad77b36",
   "metadata": {},
   "source": [
    ">Note: If the resulting list is missing [roles/storage.objectAdmin](https://cloud.google.com/storage/docs/access-control/iam-roles) then [revisit the setup notebook](../00%20-%20Setup/00%20-%20Environment%20Setup.ipynb#permissions) and add this permission to the service account with the provided instructions."
   ]
  },
  {
   "cell_type": "markdown",
   "id": "03a669d2",
   "metadata": {},
   "source": [
    "environment:"
   ]
  },
  {
   "cell_type": "code",
   "execution_count": 8,
   "id": "517cd63d",
   "metadata": {},
   "outputs": [],
   "source": [
    "!rm -rf {DIR}\n",
    "!mkdir -p {DIR}"
   ]
  },
  {
   "cell_type": "markdown",
   "id": "726cab62-8a4a-4b49-a8c9-870e69285773",
   "metadata": {},
   "source": [
    "Experiment Tracking:"
   ]
  },
  {
   "cell_type": "code",
   "execution_count": 9,
   "id": "a7692ae6-89d7-4a79-9f35-902f96cce72b",
   "metadata": {},
   "outputs": [],
   "source": [
    "FRAMEWORK = 'sklearn'\n",
    "TASK = 'classification'\n",
    "MODEL_TYPE = 'logistric-regression'\n",
    "EXPERIMENT_NAME = f'experiment-{SERIES}-{EXPERIMENT}-{FRAMEWORK}-{TASK}-{MODEL_TYPE}'\n",
    "RUN_NAME = f'run-{TIMESTAMP}'"
   ]
  },
  {
   "cell_type": "markdown",
   "id": "56514d79-ec8e-4954-9978-ac58c17e1ad3",
   "metadata": {
    "tags": []
   },
   "source": [
    "---\n",
    "## Get Vertex AI Experiments Tensorboard Instance Name\n",
    "[Vertex AI Experiments](https://cloud.google.com/vertex-ai/docs/experiments/tensorboard-overview) has managed [Tensorboard](https://www.scikit-learn.org/tensorboard) instances that you can track Tensorboard Experiments (a training run or hyperparameter tuning sweep).  \n",
    "\n",
    "The training job will show up as an experiment for the Tensorboard instance and have the same name as the training job ID.\n",
    "\n",
    "This code checks to see if a Tensorboard Instance has been created in the project, retrieves it if so, creates it otherwise:"
   ]
  },
  {
   "cell_type": "code",
   "execution_count": 10,
   "id": "d3bb9bab-1787-4b60-9f38-8f1278e557a7",
   "metadata": {},
   "outputs": [],
   "source": [
    "tb = aiplatform.Tensorboard.list(filter=f\"labels.series={SERIES}\")\n",
    "if tb:\n",
    "    tb = tb[0]\n",
    "else: \n",
    "    tb = aiplatform.Tensorboard.create(display_name = SERIES, labels = {'series' : f'{SERIES}'})"
   ]
  },
  {
   "cell_type": "code",
   "execution_count": 11,
   "id": "a6428f6f-6cb6-4104-96d8-026387e818b5",
   "metadata": {
    "tags": []
   },
   "outputs": [
    {
     "data": {
      "text/plain": [
       "'projects/633472233130/locations/us-central1/tensorboards/4577495604850065408'"
      ]
     },
     "execution_count": 11,
     "metadata": {},
     "output_type": "execute_result"
    }
   ],
   "source": [
    "tb.resource_name"
   ]
  },
  {
   "cell_type": "markdown",
   "id": "89265da2-7d53-4ccb-9371-b1372c28d813",
   "metadata": {},
   "source": [
    "---\n",
    "## Setup Vertex AI Experiments\n",
    "\n",
    "The code in this section initializes the experiment and starts a run that represents this notebook.  Throughout the notebook sections for model training and evaluation information will be logged to the experiment using:\n",
    "- [.log_params](https://cloud.google.com/python/docs/reference/aiplatform/latest/google.cloud.aiplatform#google_cloud_aiplatform_log_params)\n",
    "- [.log_metrics](https://cloud.google.com/python/docs/reference/aiplatform/latest/google.cloud.aiplatform#google_cloud_aiplatform_log_metrics)\n",
    "- [.log_time_series_metrics](https://cloud.google.com/python/docs/reference/aiplatform/latest/google.cloud.aiplatform#google_cloud_aiplatform_log_time_series_metrics)"
   ]
  },
  {
   "cell_type": "code",
   "execution_count": 12,
   "id": "938b077b-10ac-4ce7-b147-60285494d324",
   "metadata": {},
   "outputs": [],
   "source": [
    "aiplatform.init(experiment = EXPERIMENT_NAME, experiment_tensorboard = tb.resource_name)"
   ]
  },
  {
   "cell_type": "markdown",
   "id": "0b28eb9f",
   "metadata": {},
   "source": [
    "---\n",
    "## Training"
   ]
  },
  {
   "cell_type": "markdown",
   "id": "dbaf22d4-4ee8-4ce6-ad38-c0671d0795dd",
   "metadata": {},
   "source": [
    "### Python File for Training\n",
    "\n",
    "This notebook trains the same scikit-learn Keras model from [04 - Vertex AI Custom Model - scikit-learn - in Notebook](./04%20-%20Vertex%20AI%20Custom%20Model%20-%20scikit-learn%20-%20in%20Notebook.ipynb) by first modifying and saving the training code to a python script as shown in [04 - Vertex AI Custom Model - scikit-learn - Notebook to Script](./04%20-%20Vertex%20AI%20Custom%20Model%20-%20scikit-learn%20-%20Notebook%20to%20Script.ipynb) which stores the script in [`./code/train.py`](./code/train.py).\n",
    "\n",
    "**Review the script:**"
   ]
  },
  {
   "cell_type": "code",
   "execution_count": 13,
   "id": "5b59ef69-fb65-4f4a-ad00-d0ea4e1572d9",
   "metadata": {},
   "outputs": [
    {
     "data": {
      "text/markdown": [
       "```python\n",
       "\n",
       "\n",
       "# package import\n",
       "import sklearn\n",
       "from sklearn.preprocessing import StandardScaler\n",
       "from sklearn.linear_model import LogisticRegression\n",
       "from sklearn.pipeline import Pipeline\n",
       "from sklearn import metrics\n",
       "\n",
       "import pickle\n",
       "import pandas as pd \n",
       "import numpy as np \n",
       "\n",
       "from google.cloud import bigquery\n",
       "from google.cloud import aiplatform\n",
       "from google.cloud import storage\n",
       "import argparse\n",
       "import os\n",
       "import sys\n",
       "\n",
       "# import argument to local variables\n",
       "parser = argparse.ArgumentParser()\n",
       "# the passed param, dest: a name for the param, default: if absent fetch this param from the OS, type: type to convert to, help: description of argument\n",
       "parser.add_argument('--penalty', dest = 'penalty', default = 'l2', type = str, help = 'Penalty term')\n",
       "parser.add_argument('--solver', dest = 'solver', default = 'newton-cg', type = str, help = 'Logistic regression solver')\n",
       "parser.add_argument('--var_target', dest = 'var_target', type=str)\n",
       "parser.add_argument('--var_omit', dest = 'var_omit', type=str)\n",
       "parser.add_argument('--project_id', dest = 'project_id', type=str)\n",
       "parser.add_argument('--bq_project', dest = 'bq_project', type=str)\n",
       "parser.add_argument('--bq_dataset', dest = 'bq_dataset', type=str)\n",
       "parser.add_argument('--bq_table', dest = 'bq_table', type=str)\n",
       "parser.add_argument('--region', dest = 'region', type=str)\n",
       "parser.add_argument('--experiment', dest = 'experiment', type=str)\n",
       "parser.add_argument('--series', dest = 'series', type=str)\n",
       "parser.add_argument('--experiment_name', dest = 'experiment_name', type=str)\n",
       "parser.add_argument('--run_name', dest = 'run_name', type=str)\n",
       "parser.add_argument('--bucket', dest = 'bucket', type=str)\n",
       "parser.add_argument('--uri', dest = 'uri', type=str)\n",
       "parser.add_argument('--blob', dest = 'blob', type=str)\n",
       "parser.add_argument('--timestamp', dest = 'timestamp', type=str)\n",
       "args = parser.parse_args()\n",
       "\n",
       "# Model Training\n",
       "VAR_TARGET = str(args.var_target)\n",
       "VAR_OMIT = str(args.var_omit).split('-')\n",
       "\n",
       "# clients\n",
       "bq = bigquery.Client(project = args.project_id)\n",
       "aiplatform.init(project = args.project_id, location = args.region)\n",
       "\n",
       "# Vertex AI Experiment\n",
       "expRun = aiplatform.ExperimentRun.create(run_name = args.run_name, experiment = args.experiment_name)\n",
       "expRun.log_params({'experiment': args.experiment, 'series': args.series, 'project_id': args.project_id})\n",
       "\n",
       "# get schema from bigquery source\n",
       "query = f\"SELECT * FROM {args.bq_project}.{args.bq_dataset}.INFORMATION_SCHEMA.COLUMNS WHERE TABLE_NAME = '{args.bq_table}'\"\n",
       "schema = bq.query(query).to_dataframe()\n",
       "\n",
       "# get number of classes from bigquery source\n",
       "nclasses = bq.query(query = f'SELECT DISTINCT {VAR_TARGET} FROM {args.bq_project}.{args.bq_dataset}.{args.bq_table} WHERE {VAR_TARGET} is not null').to_dataframe()\n",
       "nclasses = nclasses.shape[0]\n",
       "expRun.log_params({'data_source': f'bq://{args.bq_project}.{args.bq_dataset}.{args.bq_table}', 'nclasses': nclasses, 'var_split': 'splits', 'var_target': VAR_TARGET})\n",
       "\n",
       "train_query = f\"SELECT * FROM {args.bq_project}.{args.bq_dataset}.{args.bq_table} WHERE splits = 'TRAIN'\"\n",
       "train = bq.query(train_query).to_dataframe()\n",
       "X_train = train.loc[:, ~train.columns.isin(VAR_OMIT)]\n",
       "y_train = train[VAR_TARGET].astype('int')\n",
       "\n",
       "val_query = f\"SELECT * FROM {args.bq_project}.{args.bq_dataset}.{args.bq_table} WHERE splits = 'VALIDATE'\"\n",
       "val = bq.query(val_query).to_dataframe()\n",
       "X_val = val.loc[:, ~val.columns.isin(VAR_OMIT)]\n",
       "y_val = val[VAR_TARGET].astype('int')\n",
       "\n",
       "test_query = f\"SELECT * FROM {args.bq_project}.{args.bq_dataset}.{args.bq_table} WHERE splits = 'TEST'\"\n",
       "test = bq.query(test_query).to_dataframe()\n",
       "X_test = test.loc[:, ~test.columns.isin(VAR_OMIT)]\n",
       "y_test = test[VAR_TARGET].astype('int')\n",
       "\n",
       "# Logistic Regression\n",
       "# instantiate the model \n",
       "logistic = LogisticRegression(solver=args.solver, penalty=args.penalty)\n",
       "\n",
       "# Define a Standard Scaler to normalize inputs\n",
       "scaler = StandardScaler()\n",
       "\n",
       "expRun.log_params({'solver': args.solver, 'penalty': args.penalty})\n",
       "\n",
       "# define pipeline\n",
       "pipe = Pipeline(steps=[(\"scaler\", scaler), (\"logistic\", logistic)])\n",
       "\n",
       "# define grid search model\n",
       "model = pipe.fit(X_train, y_train)\n",
       "\n",
       "# test evaluations:\n",
       "y_pred = model.predict(X_test)\n",
       "test_acc = metrics.accuracy_score(y_test, y_pred) \n",
       "test_prec = metrics.precision_score(y_test, y_pred)\n",
       "test_rec = metrics.recall_score(y_test, y_pred)\n",
       "test_rocauc = metrics.roc_auc_score(y_test, y_pred)\n",
       "expRun.log_metrics({'test_accuracy': test_acc, 'test_precision': test_prec, 'test_recall': test_rec, 'test_roc_auc': test_rocauc})\n",
       "\n",
       "# val evaluations:\n",
       "y_pred_val = model.predict(X_val)\n",
       "val_acc = metrics.accuracy_score(y_val, y_pred_val) \n",
       "val_prec = metrics.precision_score(y_val, y_pred_val)\n",
       "val_rec = metrics.recall_score(y_val, y_pred_val)\n",
       "val_rocauc = metrics.roc_auc_score(y_val, y_pred_val)\n",
       "expRun.log_metrics({'validation_accuracy': val_acc, 'validation_precision': val_prec, 'validation_recall': val_rec, 'validation_roc_auc': val_rocauc})\n",
       "\n",
       "# training evaluations:\n",
       "y_pred_training = model.predict(X_train)\n",
       "training_acc = metrics.accuracy_score(y_train, y_pred_training) \n",
       "training_prec = metrics.precision_score(y_train, y_pred_training)\n",
       "training_rec = metrics.recall_score(y_train, y_pred_training)\n",
       "training_rocauc = metrics.roc_auc_score(y_train, y_pred_training)\n",
       "expRun.log_metrics({'training_accuracy': training_acc, 'training_precision':training_prec, 'training_recall': training_rec, 'training_roc_auc': training_rocauc})\n",
       "\n",
       "# output the model save files\n",
       "with open('model.pkl','wb') as f:\n",
       "    pickle.dump(model,f)\n",
       "    \n",
       "# Upload the model to GCS\n",
       "bucket = storage.Client().bucket(args.bucket)\n",
       "blob = bucket.blob(args.blob)\n",
       "blob.upload_from_filename('model.pkl')\n",
       "\n",
       "expRun.log_params({'model.save': f'{args.uri}/models/{args.timestamp}/model'})\n",
       "expRun.end_run()\n",
       "\n",
       "```"
      ],
      "text/plain": [
       "<IPython.core.display.Markdown object>"
      ]
     },
     "execution_count": 13,
     "metadata": {},
     "output_type": "execute_result"
    }
   ],
   "source": [
    "SCRIPT_PATH = './code/train.py'\n",
    "\n",
    "with open(SCRIPT_PATH, 'r') as file:\n",
    "    data = file.read()\n",
    "md(f\"```python\\n\\n{data}\\n```\")"
   ]
  },
  {
   "cell_type": "markdown",
   "id": "bcf92ee3",
   "metadata": {},
   "source": [
    "### Setup Training Job"
   ]
  },
  {
   "cell_type": "code",
   "execution_count": 14,
   "id": "ca154ef6",
   "metadata": {},
   "outputs": [],
   "source": [
    "CMDARGS = [\n",
    "    \"--penalty=\" + PENALTY,\n",
    "    \"--solver=\" + SOLVER,\n",
    "    \"--var_target=\" + VAR_TARGET,\n",
    "    \"--var_omit=\" + VAR_OMIT,\n",
    "    \"--project_id=\" + PROJECT_ID,\n",
    "    \"--bq_project=\" + BQ_PROJECT,\n",
    "    \"--bq_dataset=\" + BQ_DATASET,\n",
    "    \"--bq_table=\" + BQ_TABLE,\n",
    "    \"--region=\" + REGION,\n",
    "    \"--experiment=\" + EXPERIMENT,\n",
    "    \"--series=\" + SERIES,\n",
    "    \"--experiment_name=\" + EXPERIMENT_NAME,\n",
    "    \"--run_name=\" + RUN_NAME,\n",
    "    \"--bucket=\" + BUCKET,\n",
    "    \"--uri=\" + URI,\n",
    "    \"--blob=\" + BLOB,\n",
    "    \"--timestamp=\" + TIMESTAMP\n",
    "]"
   ]
  },
  {
   "cell_type": "code",
   "execution_count": 15,
   "id": "f0f64188",
   "metadata": {},
   "outputs": [],
   "source": [
    "trainingJob = aiplatform.CustomTrainingJob(\n",
    "    display_name = f'{SERIES}_{EXPERIMENT}_{TIMESTAMP}',\n",
    "    script_path = SCRIPT_PATH,\n",
    "    container_uri = TRAIN_IMAGE,\n",
    "    requirements = ['google-cloud-aiplatform', 'protobuf',  'db-dtypes>=1.0.0', 'google-auth>=2.6.0', 'google-cloud-bigquery>=3.0.1'],\n",
    "    staging_bucket = f\"{URI}/models/{TIMESTAMP}\",\n",
    "    model_serving_container_image_uri = DEPLOY_IMAGE,\n",
    "    labels = {'series' : f'{SERIES}', 'experiment' : f'{EXPERIMENT}', 'experiment_name' : f'{EXPERIMENT_NAME}', 'run_name' : f'{RUN_NAME}'}\n",
    ")"
   ]
  },
  {
   "cell_type": "markdown",
   "id": "a6b5c5bd",
   "metadata": {},
   "source": [
    "### Run Training Job AND Upload The Model\n",
    "The training job will automatically upload the model to the Vertex AI Model Registry and return the link to the model."
   ]
  },
  {
   "cell_type": "code",
   "execution_count": 16,
   "id": "b50cae3c",
   "metadata": {
    "scrolled": true,
    "tags": []
   },
   "outputs": [
    {
     "name": "stdout",
     "output_type": "stream",
     "text": [
      "This is a new model, creating in model registry\n",
      "Training script copied to:\n",
      "gs://mg-ce-demos/04/04d/models/20230131091335/aiplatform-2023-01-31-09:16:20.476-aiplatform_custom_trainer_script-0.1.tar.gz.\n",
      "Training Output directory:\n",
      "gs://mg-ce-demos/04/04d/models/20230131091335 \n",
      "View Training:\n",
      "https://console.cloud.google.com/ai/platform/locations/us-central1/training/2135989490882183168?project=633472233130\n",
      "View backing custom job:\n",
      "https://console.cloud.google.com/ai/platform/locations/us-central1/training/5957372939543248896?project=633472233130\n",
      "View tensorboard:\n",
      "https://us-central1.tensorboard.googleusercontent.com/experiment/projects+633472233130+locations+us-central1+tensorboards+4577495604850065408+experiments+5957372939543248896\n",
      "CustomTrainingJob projects/633472233130/locations/us-central1/trainingPipelines/2135989490882183168 current state:\n",
      "PipelineState.PIPELINE_STATE_RUNNING\n",
      "CustomTrainingJob projects/633472233130/locations/us-central1/trainingPipelines/2135989490882183168 current state:\n",
      "PipelineState.PIPELINE_STATE_RUNNING\n",
      "CustomTrainingJob projects/633472233130/locations/us-central1/trainingPipelines/2135989490882183168 current state:\n",
      "PipelineState.PIPELINE_STATE_RUNNING\n",
      "CustomTrainingJob projects/633472233130/locations/us-central1/trainingPipelines/2135989490882183168 current state:\n",
      "PipelineState.PIPELINE_STATE_RUNNING\n",
      "CustomTrainingJob projects/633472233130/locations/us-central1/trainingPipelines/2135989490882183168 current state:\n",
      "PipelineState.PIPELINE_STATE_RUNNING\n",
      "CustomTrainingJob projects/633472233130/locations/us-central1/trainingPipelines/2135989490882183168 current state:\n",
      "PipelineState.PIPELINE_STATE_RUNNING\n",
      "CustomTrainingJob run completed. Resource name: projects/633472233130/locations/us-central1/trainingPipelines/2135989490882183168\n",
      "Model available at projects/633472233130/locations/us-central1/models/model_04_04d\n"
     ]
    }
   ],
   "source": [
    "modelmatch = aiplatform.Model.list(filter = f'display_name={SERIES}_{EXPERIMENT} AND labels.series={SERIES} AND labels.experiment={EXPERIMENT}')\n",
    "\n",
    "upload_model = True\n",
    "if modelmatch:\n",
    "    print(\"Model Already in Registry:\")\n",
    "    if RUN_NAME in modelmatch[0].version_aliases:\n",
    "        print(\"This version already loaded, no action taken.\")\n",
    "        upload_model = False\n",
    "        model = aiplatform.Model(model_name = modelmatch[0].resource_name)\n",
    "    else:\n",
    "        print('Loading model as new default version.')\n",
    "        parent_model = modelmatch[0].resource_name\n",
    "else:\n",
    "    print('This is a new model, creating in model registry')\n",
    "    parent_model = ''\n",
    "    \n",
    "if upload_model:\n",
    "    model = trainingJob.run(\n",
    "        model_display_name = f'{SERIES}_{EXPERIMENT}',\n",
    "        model_labels = {'series' : f'{SERIES}', 'experiment' : f'{EXPERIMENT}', 'experiment_name' : f'{EXPERIMENT_NAME}', 'run_name' : f'{RUN_NAME}'},\n",
    "        model_id = f'model_{SERIES}_{EXPERIMENT}',\n",
    "        parent_model = parent_model,\n",
    "        is_default_version = True,\n",
    "        model_version_aliases = [RUN_NAME],\n",
    "        model_version_description = RUN_NAME,\n",
    "        base_output_dir = f\"{URI}/models/{TIMESTAMP}\",\n",
    "        service_account = SERVICE_ACCOUNT,\n",
    "        args = CMDARGS,\n",
    "        replica_count = 1,\n",
    "        machine_type = TRAIN_COMPUTE,\n",
    "        accelerator_count = 0,\n",
    "        #tensorboard = tb.resource_name\n",
    "    )"
   ]
  },
  {
   "cell_type": "markdown",
   "id": "8fbe282c-1172-45f3-9afb-ee1db409969f",
   "metadata": {},
   "source": [
    "Get the backing Custom Job for the Training Pipeline:"
   ]
  },
  {
   "cell_type": "code",
   "execution_count": 17,
   "id": "47f7697b-c2f3-4f2c-9e3b-3db869a03c58",
   "metadata": {},
   "outputs": [],
   "source": [
    "clientPL = aiplatform.gapic.PipelineServiceClient(client_options = {'api_endpoint': f'{REGION}-aiplatform.googleapis.com'})"
   ]
  },
  {
   "cell_type": "code",
   "execution_count": 18,
   "id": "b7fd024b-f7e1-4805-8a10-7aa6b827b9ad",
   "metadata": {},
   "outputs": [],
   "source": [
    "from google.protobuf.json_format import MessageToDict\n",
    "\n",
    "backingCustomJob = MessageToDict(clientPL.get_training_pipeline(name = trainingJob.resource_name)._pb)['trainingTaskMetadata']['backingCustomJob']"
   ]
  },
  {
   "cell_type": "code",
   "execution_count": 19,
   "id": "1757724f-095f-41e5-aa80-d4f11ac31568",
   "metadata": {},
   "outputs": [
    {
     "data": {
      "text/plain": [
       "('projects/633472233130/locations/us-central1/customJobs/5957372939543248896',\n",
       " '04_04d_20230131091335-custom-job')"
      ]
     },
     "execution_count": 19,
     "metadata": {},
     "output_type": "execute_result"
    }
   ],
   "source": [
    "customJob = aiplatform.CustomJob.get(backingCustomJob)\n",
    "customJob.resource_name, customJob.display_name"
   ]
  },
  {
   "cell_type": "markdown",
   "id": "9565b60b-b48f-4eb4-8ffc-3034ae2961ee",
   "metadata": {},
   "source": [
    "Create hyperlinks to job and tensorboard here:"
   ]
  },
  {
   "cell_type": "code",
   "execution_count": 23,
   "id": "b374a3f5-2f2a-4a03-b5af-d8b7f7a55ed3",
   "metadata": {},
   "outputs": [
    {
     "name": "stdout",
     "output_type": "stream",
     "text": [
      "Review the Training Pipeline here:\n",
      "https://console.cloud.google.com/vertex-ai/training/training-pipelines?project=mg-ce-demos\n",
      "Review the Custom Job here:\n",
      "https://console.cloud.google.com/vertex-ai/locations/us-central1/training/5957372939543248896/cpu?cloudshell=false&project=mg-ce-demos\n",
      "Review the model in the Vertex AI Model Registry:\n",
      "https://console.cloud.google.com/vertex-ai/locations/us-central1/models/model_04_04d?project=mg-ce-demos\n"
     ]
    }
   ],
   "source": [
    "job_link = f\"https://console.cloud.google.com/vertex-ai/locations/{REGION}/training/{customJob.resource_name.split('/')[-1]}/cpu?cloudshell=false&project={PROJECT_ID}\"\n",
    "#board_link = f\"https://{REGION}.tensorboard.googleusercontent.com/experiment/{tb.resource_name.replace('/', '+')}+experiments+{customJob.name.split('/')[-1]}\"\n",
    "\n",
    "print(f'Review the Training Pipeline here:\\nhttps://console.cloud.google.com/vertex-ai/training/training-pipelines?project={PROJECT_ID}')\n",
    "print(f'Review the Custom Job here:\\n{job_link}')\n",
    "#print(f'Review the TensorBoard From the Job here:\\n{board_link}')\n",
    "print(f'Review the model in the Vertex AI Model Registry:\\nhttps://console.cloud.google.com/vertex-ai/locations/{REGION}/models/{model.name}?project={PROJECT_ID}')"
   ]
  },
  {
   "cell_type": "markdown",
   "id": "076635bc",
   "metadata": {},
   "source": [
    "---\n",
    "## Serving"
   ]
  },
  {
   "cell_type": "markdown",
   "id": "bac1d662-ee11-473e-9c64-db74479c754c",
   "metadata": {},
   "source": [
    "### Vertex AI Experiment Update and Review"
   ]
  },
  {
   "cell_type": "code",
   "execution_count": 24,
   "id": "56779986-3705-4df2-89a4-a9e27c90a69a",
   "metadata": {},
   "outputs": [],
   "source": [
    "expRun = aiplatform.ExperimentRun(run_name = RUN_NAME, experiment = EXPERIMENT_NAME)"
   ]
  },
  {
   "cell_type": "code",
   "execution_count": 25,
   "id": "3ce0cf12-63ec-415b-9845-92dfae3b18e7",
   "metadata": {},
   "outputs": [],
   "source": [
    "expRun.log_params({\n",
    "    'model.uri': model.uri,\n",
    "    'model.display_name': model.display_name,\n",
    "    'model.name': model.name,\n",
    "    'model.resource_name': model.resource_name,\n",
    "    'model.version_id': model.version_id,\n",
    "    'model.versioned_resource_name': model.versioned_resource_name,\n",
    "    'trainingPipelines.display_name': trainingJob.display_name,\n",
    "    'trainingPipelines.resource_name': trainingJob.resource_name,\n",
    "    'customJobs.display_name': customJob.display_name,\n",
    "    'customJobs.resource_name': customJob.resource_name,\n",
    "    'customJobs.link': job_link,\n",
    "    'customJobs.tensorboard': board_link\n",
    "})"
   ]
  },
  {
   "cell_type": "markdown",
   "id": "22d97a5d-f506-44b2-9f62-40c1432bdda2",
   "metadata": {},
   "source": [
    "Complete the experiment run:"
   ]
  },
  {
   "cell_type": "code",
   "execution_count": 26,
   "id": "f4134d53-cea2-42da-a4d6-b6c71e835b4d",
   "metadata": {},
   "outputs": [],
   "source": [
    "expRun.update_state(state = aiplatform.gapic.Execution.State.COMPLETE)"
   ]
  },
  {
   "cell_type": "markdown",
   "id": "85ed547c-015a-4bda-b2cd-692d84772b40",
   "metadata": {},
   "source": [
    "Retrieve the experiment:"
   ]
  },
  {
   "cell_type": "code",
   "execution_count": 27,
   "id": "57b4e1d3-9836-4aac-9286-c0a07d4ccdf1",
   "metadata": {},
   "outputs": [],
   "source": [
    "exp = aiplatform.Experiment(experiment_name = EXPERIMENT_NAME)"
   ]
  },
  {
   "cell_type": "code",
   "execution_count": 28,
   "id": "65d603e1-b034-4469-a245-de9ab1334d28",
   "metadata": {},
   "outputs": [
    {
     "data": {
      "text/html": [
       "<div>\n",
       "<style scoped>\n",
       "    .dataframe tbody tr th:only-of-type {\n",
       "        vertical-align: middle;\n",
       "    }\n",
       "\n",
       "    .dataframe tbody tr th {\n",
       "        vertical-align: top;\n",
       "    }\n",
       "\n",
       "    .dataframe thead th {\n",
       "        text-align: right;\n",
       "    }\n",
       "</style>\n",
       "<table border=\"1\" class=\"dataframe\">\n",
       "  <thead>\n",
       "    <tr style=\"text-align: right;\">\n",
       "      <th></th>\n",
       "      <th>experiment_name</th>\n",
       "      <th>run_name</th>\n",
       "      <th>run_type</th>\n",
       "      <th>state</th>\n",
       "      <th>param.customJobs.tensorboard</th>\n",
       "      <th>param.customJobs.display_name</th>\n",
       "      <th>param.model.uri</th>\n",
       "      <th>param.customJobs.link</th>\n",
       "      <th>param.model.save</th>\n",
       "      <th>param.trainingPipelines.resource_name</th>\n",
       "      <th>...</th>\n",
       "      <th>metric.validation_recall</th>\n",
       "      <th>metric.test_accuracy</th>\n",
       "      <th>metric.training_precision</th>\n",
       "      <th>metric.validation_precision</th>\n",
       "      <th>metric.training_accuracy</th>\n",
       "      <th>metric.validation_roc_auc</th>\n",
       "      <th>metric.test_roc_auc</th>\n",
       "      <th>metric.training_recall</th>\n",
       "      <th>metric.test_precision</th>\n",
       "      <th>metric.training_roc_auc</th>\n",
       "    </tr>\n",
       "  </thead>\n",
       "  <tbody>\n",
       "    <tr>\n",
       "      <th>0</th>\n",
       "      <td>experiment-04-04d-sklearn-classification-logis...</td>\n",
       "      <td>run-20230131091335</td>\n",
       "      <td>system.ExperimentRun</td>\n",
       "      <td>COMPLETE</td>\n",
       "      <td>https://us-central1.tensorboard.googleusercont...</td>\n",
       "      <td>04_04d_20230131091335-custom-job</td>\n",
       "      <td>gs://mg-ce-demos/04/04d/models/20230131091335/...</td>\n",
       "      <td>https://console.cloud.google.com/vertex-ai/loc...</td>\n",
       "      <td>gs://mg-ce-demos/04/04d/models/20230131091335/...</td>\n",
       "      <td>projects/633472233130/locations/us-central1/tr...</td>\n",
       "      <td>...</td>\n",
       "      <td>0.54902</td>\n",
       "      <td>0.999087</td>\n",
       "      <td>0.878229</td>\n",
       "      <td>0.848485</td>\n",
       "      <td>0.99921</td>\n",
       "      <td>0.774422</td>\n",
       "      <td>0.803501</td>\n",
       "      <td>0.618182</td>\n",
       "      <td>0.894737</td>\n",
       "      <td>0.809018</td>\n",
       "    </tr>\n",
       "  </tbody>\n",
       "</table>\n",
       "<p>1 rows × 38 columns</p>\n",
       "</div>"
      ],
      "text/plain": [
       "                                     experiment_name            run_name  \\\n",
       "0  experiment-04-04d-sklearn-classification-logis...  run-20230131091335   \n",
       "\n",
       "               run_type     state  \\\n",
       "0  system.ExperimentRun  COMPLETE   \n",
       "\n",
       "                        param.customJobs.tensorboard  \\\n",
       "0  https://us-central1.tensorboard.googleusercont...   \n",
       "\n",
       "      param.customJobs.display_name  \\\n",
       "0  04_04d_20230131091335-custom-job   \n",
       "\n",
       "                                     param.model.uri  \\\n",
       "0  gs://mg-ce-demos/04/04d/models/20230131091335/...   \n",
       "\n",
       "                               param.customJobs.link  \\\n",
       "0  https://console.cloud.google.com/vertex-ai/loc...   \n",
       "\n",
       "                                    param.model.save  \\\n",
       "0  gs://mg-ce-demos/04/04d/models/20230131091335/...   \n",
       "\n",
       "               param.trainingPipelines.resource_name  ...  \\\n",
       "0  projects/633472233130/locations/us-central1/tr...  ...   \n",
       "\n",
       "  metric.validation_recall metric.test_accuracy metric.training_precision  \\\n",
       "0                  0.54902             0.999087                  0.878229   \n",
       "\n",
       "  metric.validation_precision metric.training_accuracy  \\\n",
       "0                    0.848485                  0.99921   \n",
       "\n",
       "  metric.validation_roc_auc  metric.test_roc_auc metric.training_recall  \\\n",
       "0                  0.774422             0.803501               0.618182   \n",
       "\n",
       "  metric.test_precision metric.training_roc_auc  \n",
       "0              0.894737                0.809018  \n",
       "\n",
       "[1 rows x 38 columns]"
      ]
     },
     "execution_count": 28,
     "metadata": {},
     "output_type": "execute_result"
    }
   ],
   "source": [
    "exp.get_data_frame()"
   ]
  },
  {
   "cell_type": "markdown",
   "id": "ad64259d-cd44-4321-b6ba-46eaa666cd67",
   "metadata": {},
   "source": [
    "Review the Experiments TensorBoard to compare runs:"
   ]
  },
  {
   "cell_type": "code",
   "execution_count": 31,
   "id": "3ce18389-8484-4d5d-a30e-c4841eb52e8f",
   "metadata": {},
   "outputs": [],
   "source": [
    "#print(f\"The Experiment TensorBoard Link:\\nhttps://{REGION}.tensorboard.googleusercontent.com/experiment/{tb.resource_name.replace('/', '+')}+experiments+{exp.name}\")"
   ]
  },
  {
   "cell_type": "code",
   "execution_count": 33,
   "id": "37b9fded-da22-4c24-8d8c-54fefb07e1db",
   "metadata": {},
   "outputs": [],
   "source": [
    "#expRun.get_time_series_data_frame()"
   ]
  },
  {
   "cell_type": "markdown",
   "id": "7900cd2f-ab2c-4cdb-adce-1a33af86c229",
   "metadata": {},
   "source": [
    "### Compare This Run Using Experiments"
   ]
  },
  {
   "cell_type": "markdown",
   "id": "f8073c43-5759-4d26-a8b9-a4b2f5c041e0",
   "metadata": {
    "tags": []
   },
   "source": [
    "Get a list of all experiments in this project:"
   ]
  },
  {
   "cell_type": "code",
   "execution_count": 34,
   "id": "bb42949a-a4ab-4ef0-b163-ce89d2b58c10",
   "metadata": {},
   "outputs": [],
   "source": [
    "experiments = aiplatform.Experiment.list()"
   ]
  },
  {
   "cell_type": "markdown",
   "id": "65301990-fe4b-4319-928d-a7831253976d",
   "metadata": {},
   "source": [
    "Remove experiments not in the SERIES:"
   ]
  },
  {
   "cell_type": "code",
   "execution_count": 35,
   "id": "d9fd9424-3b50-4921-868e-e08eb6e2c033",
   "metadata": {},
   "outputs": [],
   "source": [
    "experiments = [e for e in experiments if e.name.split('-')[0:2] == ['experiment', SERIES]]"
   ]
  },
  {
   "cell_type": "markdown",
   "id": "caeb1a77-8dd5-4845-8a8a-1cb851b8e030",
   "metadata": {},
   "source": [
    "Combine the runs from all experiments in SERIES into a single dataframe:"
   ]
  },
  {
   "cell_type": "code",
   "execution_count": 36,
   "id": "eb7352f4-d50a-43c1-a342-a15ba06b1ff6",
   "metadata": {},
   "outputs": [
    {
     "name": "stdout",
     "output_type": "stream",
     "text": [
      "experiment-04-04d-sklearn-classification-logistric-regression\n",
      "experiment-04-04-sklearn-classification-logistic-regression\n",
      "experiment-04-04c-sklearn-classification-logistric-regression\n",
      "experiment-04-04b-sklearn-classification-logistric-regression\n",
      "experiment-04-04a-sklearn-classification-logistric-regression\n",
      "experiment-04-04-sklearn-classification-sklearn-logistic-regression\n",
      "experiment-04-04-tf-classification-sklearn-logistic-regression\n"
     ]
    }
   ],
   "source": [
    "results = []\n",
    "for experiment in experiments:\n",
    "        results.append(experiment.get_data_frame())\n",
    "        print(experiment.name)\n",
    "results = pd.concat(results)"
   ]
  },
  {
   "cell_type": "markdown",
   "id": "6feed8a8-e04c-46cc-ac08-f8e82fd242bd",
   "metadata": {},
   "source": [
    "Create ranks for models within experiment and across the entire SERIES:"
   ]
  },
  {
   "cell_type": "code",
   "execution_count": 38,
   "id": "7cd876a4-7984-4687-b42b-c829952c2ad9",
   "metadata": {},
   "outputs": [
    {
     "data": {
      "text/html": [
       "<div>\n",
       "<style scoped>\n",
       "    .dataframe tbody tr th:only-of-type {\n",
       "        vertical-align: middle;\n",
       "    }\n",
       "\n",
       "    .dataframe tbody tr th {\n",
       "        vertical-align: top;\n",
       "    }\n",
       "\n",
       "    .dataframe thead th {\n",
       "        text-align: right;\n",
       "    }\n",
       "</style>\n",
       "<table border=\"1\" class=\"dataframe\">\n",
       "  <thead>\n",
       "    <tr style=\"text-align: right;\">\n",
       "      <th></th>\n",
       "      <th>experiment_name</th>\n",
       "      <th>run_name</th>\n",
       "      <th>param.model.display_name</th>\n",
       "      <th>param.model.version_id</th>\n",
       "      <th>metric.test_roc_auc</th>\n",
       "      <th>series_rank</th>\n",
       "      <th>experiment_rank</th>\n",
       "    </tr>\n",
       "  </thead>\n",
       "  <tbody>\n",
       "    <tr>\n",
       "      <th>28</th>\n",
       "      <td>experiment-04-04-sklearn-classification-logist...</td>\n",
       "      <td>run-20221102155936</td>\n",
       "      <td>04_04</td>\n",
       "      <td>2</td>\n",
       "      <td>0.803501</td>\n",
       "      <td>1.0</td>\n",
       "      <td>1.0</td>\n",
       "    </tr>\n",
       "    <tr>\n",
       "      <th>27</th>\n",
       "      <td>experiment-04-04-sklearn-classification-logist...</td>\n",
       "      <td>run-20221104083407</td>\n",
       "      <td>04_04</td>\n",
       "      <td>3</td>\n",
       "      <td>0.803501</td>\n",
       "      <td>1.0</td>\n",
       "      <td>1.0</td>\n",
       "    </tr>\n",
       "    <tr>\n",
       "      <th>26</th>\n",
       "      <td>experiment-04-04-sklearn-classification-logist...</td>\n",
       "      <td>run-20221104090606</td>\n",
       "      <td>04_04</td>\n",
       "      <td>4</td>\n",
       "      <td>0.803501</td>\n",
       "      <td>1.0</td>\n",
       "      <td>1.0</td>\n",
       "    </tr>\n",
       "    <tr>\n",
       "      <th>25</th>\n",
       "      <td>experiment-04-04-sklearn-classification-logist...</td>\n",
       "      <td>run-20221107104554</td>\n",
       "      <td>04_04</td>\n",
       "      <td>5</td>\n",
       "      <td>0.803501</td>\n",
       "      <td>1.0</td>\n",
       "      <td>1.0</td>\n",
       "    </tr>\n",
       "    <tr>\n",
       "      <th>24</th>\n",
       "      <td>experiment-04-04-sklearn-classification-logist...</td>\n",
       "      <td>run-20221108143538</td>\n",
       "      <td>NaN</td>\n",
       "      <td>NaN</td>\n",
       "      <td>NaN</td>\n",
       "      <td>NaN</td>\n",
       "      <td>NaN</td>\n",
       "    </tr>\n",
       "    <tr>\n",
       "      <th>...</th>\n",
       "      <td>...</td>\n",
       "      <td>...</td>\n",
       "      <td>...</td>\n",
       "      <td>...</td>\n",
       "      <td>...</td>\n",
       "      <td>...</td>\n",
       "      <td>...</td>\n",
       "    </tr>\n",
       "    <tr>\n",
       "      <th>32</th>\n",
       "      <td>experiment-04-04c-sklearn-classification-logis...</td>\n",
       "      <td>run-20221201132723</td>\n",
       "      <td>04_04c</td>\n",
       "      <td>2</td>\n",
       "      <td>0.803501</td>\n",
       "      <td>1.0</td>\n",
       "      <td>1.0</td>\n",
       "    </tr>\n",
       "    <tr>\n",
       "      <th>31</th>\n",
       "      <td>experiment-04-04c-sklearn-classification-logis...</td>\n",
       "      <td>run-20221206105306</td>\n",
       "      <td>04_04c</td>\n",
       "      <td>3</td>\n",
       "      <td>0.803501</td>\n",
       "      <td>1.0</td>\n",
       "      <td>1.0</td>\n",
       "    </tr>\n",
       "    <tr>\n",
       "      <th>30</th>\n",
       "      <td>experiment-04-04c-sklearn-classification-logis...</td>\n",
       "      <td>run-20221220083637</td>\n",
       "      <td>04_04c</td>\n",
       "      <td>4</td>\n",
       "      <td>0.803501</td>\n",
       "      <td>1.0</td>\n",
       "      <td>1.0</td>\n",
       "    </tr>\n",
       "    <tr>\n",
       "      <th>29</th>\n",
       "      <td>experiment-04-04c-sklearn-classification-logis...</td>\n",
       "      <td>run-20230125100727</td>\n",
       "      <td>04_04c</td>\n",
       "      <td>5</td>\n",
       "      <td>0.803501</td>\n",
       "      <td>1.0</td>\n",
       "      <td>1.0</td>\n",
       "    </tr>\n",
       "    <tr>\n",
       "      <th>0</th>\n",
       "      <td>experiment-04-04d-sklearn-classification-logis...</td>\n",
       "      <td>run-20230131091335</td>\n",
       "      <td>04_04d</td>\n",
       "      <td>1</td>\n",
       "      <td>0.803501</td>\n",
       "      <td>1.0</td>\n",
       "      <td>1.0</td>\n",
       "    </tr>\n",
       "  </tbody>\n",
       "</table>\n",
       "<p>75 rows × 7 columns</p>\n",
       "</div>"
      ],
      "text/plain": [
       "                                      experiment_name            run_name  \\\n",
       "28  experiment-04-04-sklearn-classification-logist...  run-20221102155936   \n",
       "27  experiment-04-04-sklearn-classification-logist...  run-20221104083407   \n",
       "26  experiment-04-04-sklearn-classification-logist...  run-20221104090606   \n",
       "25  experiment-04-04-sklearn-classification-logist...  run-20221107104554   \n",
       "24  experiment-04-04-sklearn-classification-logist...  run-20221108143538   \n",
       "..                                                ...                 ...   \n",
       "32  experiment-04-04c-sklearn-classification-logis...  run-20221201132723   \n",
       "31  experiment-04-04c-sklearn-classification-logis...  run-20221206105306   \n",
       "30  experiment-04-04c-sklearn-classification-logis...  run-20221220083637   \n",
       "29  experiment-04-04c-sklearn-classification-logis...  run-20230125100727   \n",
       "0   experiment-04-04d-sklearn-classification-logis...  run-20230131091335   \n",
       "\n",
       "   param.model.display_name param.model.version_id  metric.test_roc_auc  \\\n",
       "28                    04_04                      2             0.803501   \n",
       "27                    04_04                      3             0.803501   \n",
       "26                    04_04                      4             0.803501   \n",
       "25                    04_04                      5             0.803501   \n",
       "24                      NaN                    NaN                  NaN   \n",
       "..                      ...                    ...                  ...   \n",
       "32                   04_04c                      2             0.803501   \n",
       "31                   04_04c                      3             0.803501   \n",
       "30                   04_04c                      4             0.803501   \n",
       "29                   04_04c                      5             0.803501   \n",
       "0                    04_04d                      1             0.803501   \n",
       "\n",
       "    series_rank  experiment_rank  \n",
       "28          1.0              1.0  \n",
       "27          1.0              1.0  \n",
       "26          1.0              1.0  \n",
       "25          1.0              1.0  \n",
       "24          NaN              NaN  \n",
       "..          ...              ...  \n",
       "32          1.0              1.0  \n",
       "31          1.0              1.0  \n",
       "30          1.0              1.0  \n",
       "29          1.0              1.0  \n",
       "0           1.0              1.0  \n",
       "\n",
       "[75 rows x 7 columns]"
      ]
     },
     "execution_count": 38,
     "metadata": {},
     "output_type": "execute_result"
    }
   ],
   "source": [
    "def ranker(metric = 'metric.test_roc_auc'):\n",
    "    ranks = results[['experiment_name', 'run_name', 'param.model.display_name', 'param.model.version_id', metric]].copy().reset_index(drop = True)\n",
    "    ranks['series_rank'] = ranks[metric].rank(method = 'dense', ascending = False)\n",
    "    ranks['experiment_rank'] = ranks.groupby('experiment_name')[metric].rank(method = 'dense', ascending = False)\n",
    "    return ranks.sort_values(by = ['experiment_name', 'run_name'])\n",
    "    \n",
    "ranks = ranker('metric.test_roc_auc')\n",
    "ranks"
   ]
  },
  {
   "cell_type": "code",
   "execution_count": 39,
   "id": "dae6903c-1986-47f8-b1e7-f05777ca6fe4",
   "metadata": {},
   "outputs": [
    {
     "data": {
      "text/html": [
       "<div>\n",
       "<style scoped>\n",
       "    .dataframe tbody tr th:only-of-type {\n",
       "        vertical-align: middle;\n",
       "    }\n",
       "\n",
       "    .dataframe tbody tr th {\n",
       "        vertical-align: top;\n",
       "    }\n",
       "\n",
       "    .dataframe thead th {\n",
       "        text-align: right;\n",
       "    }\n",
       "</style>\n",
       "<table border=\"1\" class=\"dataframe\">\n",
       "  <thead>\n",
       "    <tr style=\"text-align: right;\">\n",
       "      <th></th>\n",
       "      <th>experiment_name</th>\n",
       "      <th>run_name</th>\n",
       "      <th>param.model.display_name</th>\n",
       "      <th>param.model.version_id</th>\n",
       "      <th>metric.test_roc_auc</th>\n",
       "      <th>series_rank</th>\n",
       "      <th>experiment_rank</th>\n",
       "    </tr>\n",
       "  </thead>\n",
       "  <tbody>\n",
       "    <tr>\n",
       "      <th>0</th>\n",
       "      <td>experiment-04-04d-sklearn-classification-logis...</td>\n",
       "      <td>run-20230131091335</td>\n",
       "      <td>04_04d</td>\n",
       "      <td>1</td>\n",
       "      <td>0.803501</td>\n",
       "      <td>1.0</td>\n",
       "      <td>1.0</td>\n",
       "    </tr>\n",
       "  </tbody>\n",
       "</table>\n",
       "</div>"
      ],
      "text/plain": [
       "                                     experiment_name            run_name  \\\n",
       "0  experiment-04-04d-sklearn-classification-logis...  run-20230131091335   \n",
       "\n",
       "  param.model.display_name param.model.version_id  metric.test_roc_auc  \\\n",
       "0                   04_04d                      1             0.803501   \n",
       "\n",
       "   series_rank  experiment_rank  \n",
       "0          1.0              1.0  "
      ]
     },
     "execution_count": 39,
     "metadata": {},
     "output_type": "execute_result"
    }
   ],
   "source": [
    "current_rank = ranks.loc[(ranks['param.model.display_name'] == model.display_name) & (ranks['param.model.version_id'] == model.version_id)]\n",
    "current_rank"
   ]
  },
  {
   "cell_type": "code",
   "execution_count": 40,
   "id": "1e45ccb7-8f93-4c12-9b7d-666fd8fa238c",
   "metadata": {},
   "outputs": [
    {
     "name": "stdout",
     "output_type": "stream",
     "text": [
      "The current model is ranked 1.0 within this experiment and 1.0 across this series.\n"
     ]
    }
   ],
   "source": [
    "print(f\"The current model is ranked {current_rank['experiment_rank'].iloc[0]} within this experiment and {current_rank['series_rank'].iloc[0]} across this series.\")"
   ]
  },
  {
   "cell_type": "markdown",
   "id": "efd637d4-a4ba-442e-9a53-9430b364ee75",
   "metadata": {},
   "source": [
    "### Create/Retrieve The Endpoint For This Series"
   ]
  },
  {
   "cell_type": "code",
   "execution_count": 41,
   "id": "2cc28d98-b525-4385-9b95-489bf574f967",
   "metadata": {},
   "outputs": [
    {
     "name": "stdout",
     "output_type": "stream",
     "text": [
      "Endpoint Exists: projects/633472233130/locations/us-central1/endpoints/1476393427452035072\n",
      "Review the Endpoint in the Console:\n",
      "https://console.cloud.google.com/vertex-ai/locations/us-central1/endpoints/1476393427452035072?project=mg-ce-demos\n"
     ]
    }
   ],
   "source": [
    "endpoints = aiplatform.Endpoint.list(filter = f\"labels.series={SERIES}\")\n",
    "if endpoints:\n",
    "    endpoint = endpoints[0]\n",
    "    print(f\"Endpoint Exists: {endpoints[0].resource_name}\")\n",
    "else:\n",
    "    endpoint = aiplatform.Endpoint.create(\n",
    "        display_name = f\"{SERIES}\",\n",
    "        labels = {'series' : f\"{SERIES}\"}    \n",
    "    )\n",
    "    print(f\"Endpoint Created: {endpoint.resource_name}\")\n",
    "    \n",
    "print(f'Review the Endpoint in the Console:\\nhttps://console.cloud.google.com/vertex-ai/locations/{REGION}/endpoints/{endpoint.name}?project={PROJECT_ID}')"
   ]
  },
  {
   "cell_type": "code",
   "execution_count": 42,
   "id": "0a538bf0",
   "metadata": {},
   "outputs": [
    {
     "data": {
      "text/plain": [
       "'04'"
      ]
     },
     "execution_count": 42,
     "metadata": {},
     "output_type": "execute_result"
    }
   ],
   "source": [
    "endpoint.display_name"
   ]
  },
  {
   "cell_type": "code",
   "execution_count": 43,
   "id": "0a0029bd-9744-4449-91f0-56ef7ca5e535",
   "metadata": {},
   "outputs": [
    {
     "data": {
      "text/plain": [
       "{'207900056626397184': 100}"
      ]
     },
     "execution_count": 43,
     "metadata": {},
     "output_type": "execute_result"
    }
   ],
   "source": [
    "endpoint.traffic_split"
   ]
  },
  {
   "cell_type": "code",
   "execution_count": 44,
   "id": "85d06eba-82dc-4d50-8405-800d756e3584",
   "metadata": {},
   "outputs": [
    {
     "data": {
      "text/plain": [
       "[id: \"207900056626397184\"\n",
       " model: \"projects/633472233130/locations/us-central1/models/model_04_04\"\n",
       " display_name: \"04_04\"\n",
       " create_time {\n",
       "   seconds: 1674667696\n",
       "   nanos: 988686000\n",
       " }\n",
       " dedicated_resources {\n",
       "   machine_spec {\n",
       "     machine_type: \"n1-standard-4\"\n",
       "   }\n",
       "   min_replica_count: 1\n",
       "   max_replica_count: 1\n",
       " }\n",
       " model_version_id: \"22\"]"
      ]
     },
     "execution_count": 44,
     "metadata": {},
     "output_type": "execute_result"
    }
   ],
   "source": [
    "deployed_models = endpoint.list_models()\n",
    "deployed_models"
   ]
  },
  {
   "cell_type": "markdown",
   "id": "00b39b0e-8c64-4dce-8cce-047f8592f4f0",
   "metadata": {},
   "source": [
    "### Should This Model Be Deployed?\n",
    "Is it better than the model already deployed on the endpoint?"
   ]
  },
  {
   "cell_type": "code",
   "execution_count": 45,
   "id": "5db9b246-2b03-4313-b620-5fc8029280b7",
   "metadata": {},
   "outputs": [
    {
     "name": "stdout",
     "output_type": "stream",
     "text": [
      "The current model is ranked better (1.0) than a currently deployed model (1.0).\n"
     ]
    }
   ],
   "source": [
    "deploy = False\n",
    "if deployed_models:\n",
    "    for deployed_model in deployed_models:\n",
    "        deployed_rank = ranks.loc[(ranks['param.model.display_name'] == deployed_model.display_name) & (ranks['param.model.version_id'] == deployed_model.model_version_id)]['series_rank'].iloc[0]\n",
    "        model_rank = current_rank['series_rank'].iloc[0]\n",
    "        if deployed_model.display_name == model.display_name and deployed_model.model_version_id == model.version_id:\n",
    "            print(f'The current model/version is already deployed.')\n",
    "            break\n",
    "        elif model_rank <= deployed_rank:\n",
    "            deploy = True\n",
    "            print(f'The current model is ranked better ({model_rank}) than a currently deployed model ({deployed_rank}).')\n",
    "            break\n",
    "    if deploy == False: print(f'The current model is ranked worse ({model_rank}) than a currently deployed model ({deployed_rank})')\n",
    "else: \n",
    "    deploy = True\n",
    "    print('No models currently deployed.')"
   ]
  },
  {
   "cell_type": "markdown",
   "id": "1e6e1cb7-3951-4a3a-ae2b-cfefeb2bf70f",
   "metadata": {},
   "source": [
    "### Deploy Model To Endpoint"
   ]
  },
  {
   "cell_type": "code",
   "execution_count": 46,
   "id": "2aa50205-0f93-423e-a622-4659f81e8674",
   "metadata": {},
   "outputs": [
    {
     "name": "stdout",
     "output_type": "stream",
     "text": [
      "Deploying model with 100% of traffic...\n",
      "Deploying Model projects/633472233130/locations/us-central1/models/model_04_04d to Endpoint : projects/633472233130/locations/us-central1/endpoints/1476393427452035072\n",
      "Deploy Endpoint model backing LRO: projects/633472233130/locations/us-central1/endpoints/1476393427452035072/operations/8762013453146652672\n",
      "Endpoint model deployed. Resource name: projects/633472233130/locations/us-central1/endpoints/1476393427452035072\n"
     ]
    }
   ],
   "source": [
    "if deploy:\n",
    "    print(f'Deploying model with 100% of traffic...')\n",
    "    endpoint.deploy(\n",
    "        model = model,\n",
    "        deployed_model_display_name = model.display_name,\n",
    "        traffic_percentage = 100,\n",
    "        machine_type = DEPLOY_COMPUTE,\n",
    "        min_replica_count = 1,\n",
    "        max_replica_count = 1\n",
    "    )\n",
    "else: print(f'Not deploying - current model is worse ({model_rank}) than the currently deployed model ({deployed_rank})') "
   ]
  },
  {
   "cell_type": "markdown",
   "id": "e743b78a-4be5-454d-a540-a270a33118c2",
   "metadata": {},
   "source": [
    "### Remove Deployed Models without Traffic"
   ]
  },
  {
   "cell_type": "code",
   "execution_count": 47,
   "id": "6945f51a-0c06-4760-bbfe-f2b9d1e7d38b",
   "metadata": {},
   "outputs": [
    {
     "name": "stdout",
     "output_type": "stream",
     "text": [
      "Undeploying Endpoint model: projects/633472233130/locations/us-central1/endpoints/1476393427452035072\n",
      "Undeploy Endpoint model backing LRO: projects/633472233130/locations/us-central1/endpoints/1476393427452035072/operations/3706722871423270912\n",
      "Endpoint model undeployed. Resource name: projects/633472233130/locations/us-central1/endpoints/1476393427452035072\n",
      "Undeploying 04_04 with version 22 because it has no traffic.\n",
      "Model 04_04d with version 1 has traffic = 100\n"
     ]
    }
   ],
   "source": [
    "for deployed_model in endpoint.list_models():\n",
    "    if deployed_model.id in endpoint.traffic_split:\n",
    "        print(f\"Model {deployed_model.display_name} with version {deployed_model.model_version_id} has traffic = {endpoint.traffic_split[deployed_model.id]}\")\n",
    "    else:\n",
    "        endpoint.undeploy(deployed_model_id = deployed_model.id)\n",
    "        print(f\"Undeploying {deployed_model.display_name} with version {deployed_model.model_version_id} because it has no traffic.\")"
   ]
  },
  {
   "cell_type": "code",
   "execution_count": 48,
   "id": "d90c6900-de81-4fcd-af0b-ba6b3925724d",
   "metadata": {},
   "outputs": [
    {
     "data": {
      "text/plain": [
       "{'950149570212397056': 100}"
      ]
     },
     "execution_count": 48,
     "metadata": {},
     "output_type": "execute_result"
    }
   ],
   "source": [
    "endpoint.traffic_split"
   ]
  },
  {
   "cell_type": "code",
   "execution_count": 50,
   "id": "14cbf4a3-9e32-4158-a9ee-0cfca92e8574",
   "metadata": {},
   "outputs": [
    {
     "data": {
      "text/plain": [
       "[id: \"950149570212397056\"\n",
       " model: \"projects/633472233130/locations/us-central1/models/model_04_04d\"\n",
       " display_name: \"04_04d\"\n",
       " create_time {\n",
       "   seconds: 1675175537\n",
       "   nanos: 209224000\n",
       " }\n",
       " dedicated_resources {\n",
       "   machine_spec {\n",
       "     machine_type: \"n1-standard-4\"\n",
       "   }\n",
       "   min_replica_count: 1\n",
       "   max_replica_count: 1\n",
       " }\n",
       " model_version_id: \"1\"]"
      ]
     },
     "execution_count": 50,
     "metadata": {},
     "output_type": "execute_result"
    }
   ],
   "source": [
    "endpoint.list_models()"
   ]
  },
  {
   "cell_type": "markdown",
   "id": "c573974e",
   "metadata": {},
   "source": [
    "---\n",
    "## Prediction\n",
    "\n",
    "See many more details on requesting predictions in the [04Tools - Prediction](./04Tools%20-%20Prediction.ipynb) notebook."
   ]
  },
  {
   "cell_type": "markdown",
   "id": "b37d51c1",
   "metadata": {},
   "source": [
    "### Prepare a record for prediction: instance and parameters lists"
   ]
  },
  {
   "cell_type": "code",
   "execution_count": 51,
   "id": "55c3919f",
   "metadata": {},
   "outputs": [],
   "source": [
    "test_query = f\"SELECT * FROM {BQ_PROJECT}.{BQ_DATASET}.{BQ_TABLE} WHERE splits = 'TEST'\"\n",
    "test = bq.query(test_query).to_dataframe()\n",
    "X_test = test.loc[:, ~test.columns.isin(VAR_OMIT.split('-'))]\n",
    "y_test = test[VAR_TARGET]\n",
    "\n",
    "instances = [X_test.to_dict(orient='split')['data'][0]]"
   ]
  },
  {
   "cell_type": "markdown",
   "id": "0edb7a8b",
   "metadata": {},
   "source": [
    "### Get Predictions: Python Client"
   ]
  },
  {
   "cell_type": "code",
   "execution_count": 52,
   "id": "564faa68",
   "metadata": {},
   "outputs": [
    {
     "data": {
      "text/plain": [
       "Prediction(predictions=[0.0], deployed_model_id='950149570212397056', model_version_id='1', model_resource_name='projects/633472233130/locations/us-central1/models/model_04_04d', explanations=None)"
      ]
     },
     "execution_count": 52,
     "metadata": {},
     "output_type": "execute_result"
    }
   ],
   "source": [
    "prediction = endpoint.predict(instances=instances)\n",
    "prediction"
   ]
  },
  {
   "cell_type": "code",
   "execution_count": 53,
   "id": "563d1b8c",
   "metadata": {},
   "outputs": [
    {
     "data": {
      "text/plain": [
       "0.0"
      ]
     },
     "execution_count": 53,
     "metadata": {},
     "output_type": "execute_result"
    }
   ],
   "source": [
    "prediction.predictions[0]"
   ]
  },
  {
   "cell_type": "code",
   "execution_count": 54,
   "id": "f443413b",
   "metadata": {},
   "outputs": [
    {
     "data": {
      "text/plain": [
       "0"
      ]
     },
     "execution_count": 54,
     "metadata": {},
     "output_type": "execute_result"
    }
   ],
   "source": [
    "np.argmax(prediction.predictions[0])"
   ]
  },
  {
   "cell_type": "markdown",
   "id": "8d7192c9",
   "metadata": {},
   "source": [
    "### Get Predictions: REST"
   ]
  },
  {
   "cell_type": "code",
   "execution_count": 55,
   "id": "4777b955",
   "metadata": {},
   "outputs": [],
   "source": [
    "with open(f'{DIR}/request.json','w') as file:\n",
    "    file.write(json.dumps({\"instances\": instances}))"
   ]
  },
  {
   "cell_type": "code",
   "execution_count": 56,
   "id": "fc788577",
   "metadata": {},
   "outputs": [
    {
     "name": "stdout",
     "output_type": "stream",
     "text": [
      "{\n",
      "  \"predictions\": [\n",
      "    0\n",
      "  ],\n",
      "  \"deployedModelId\": \"950149570212397056\",\n",
      "  \"model\": \"projects/633472233130/locations/us-central1/models/model_04_04d\",\n",
      "  \"modelDisplayName\": \"04_04d\",\n",
      "  \"modelVersionId\": \"1\"\n",
      "}\n"
     ]
    }
   ],
   "source": [
    "!curl -X POST \\\n",
    "-H \"Authorization: Bearer \"$(gcloud auth application-default print-access-token) \\\n",
    "-H \"Content-Type: application/json; charset=utf-8\" \\\n",
    "-d @{DIR}/request.json \\\n",
    "https://{REGION}-aiplatform.googleapis.com/v1/{endpoint.resource_name}:predict"
   ]
  },
  {
   "cell_type": "markdown",
   "id": "da6cf499",
   "metadata": {},
   "source": [
    "### Get Predictions: gcloud (CLI)"
   ]
  },
  {
   "cell_type": "code",
   "execution_count": 57,
   "id": "3922387a",
   "metadata": {},
   "outputs": [
    {
     "name": "stdout",
     "output_type": "stream",
     "text": [
      "Using endpoint [https://us-central1-prediction-aiplatform.googleapis.com/]\n",
      "[0]\n"
     ]
    }
   ],
   "source": [
    "!gcloud beta ai endpoints predict {endpoint.name.rsplit('/',1)[-1]} --region={REGION} --json-request={DIR}/request.json"
   ]
  },
  {
   "cell_type": "markdown",
   "id": "70b71a78",
   "metadata": {},
   "source": [
    "---\n",
    "## Remove Resources\n",
    "see notebook \"99 - Cleanup\""
   ]
  }
 ],
 "metadata": {
  "environment": {
   "kernel": "python3",
   "name": "tf2-gpu.2-3.m94",
   "type": "gcloud",
   "uri": "gcr.io/deeplearning-platform-release/tf2-gpu.2-3:m94"
  },
  "kernelspec": {
   "display_name": "Python 3 (ipykernel)",
   "language": "python",
   "name": "python3"
  },
  "language_info": {
   "codemirror_mode": {
    "name": "ipython",
    "version": 3
   },
   "file_extension": ".py",
   "mimetype": "text/x-python",
   "name": "python",
   "nbconvert_exporter": "python",
   "pygments_lexer": "ipython3",
   "version": "3.7.13"
  },
  "toc-autonumbering": false
 },
 "nbformat": 4,
 "nbformat_minor": 5
}
