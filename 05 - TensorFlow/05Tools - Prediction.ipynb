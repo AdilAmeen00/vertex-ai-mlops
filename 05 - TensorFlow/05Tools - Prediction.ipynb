{
 "cells": [
  {
   "cell_type": "markdown",
   "id": "5530ea8e-0359-4e32-a8f6-8beba4e4ee85",
   "metadata": {},
   "source": [
    "# 05Tools: Prediction\n",
    "Predictions from models created in the 05 series of notebooks.\n",
    "\n",
    "This notebook is a collection of examples that showcase many ways to serve models:\n",
    "- Online:\n",
    "    - Vertex AI Endpoints: Python, REST, CLI (gcloud)\n",
    "    - Local with TensorFlow ModelServer\n",
    "    - Remote with Cloud Run with TensorFlow ModelServer\n",
    "- Batch:\n",
    "    - BigQuery ML Model Import\n",
    "    - Vertex AI Batch Prediction Jobs\n",
    "\n",
    "### Prerequisites:\n",
    "-  At least 1 of the notebooks in this series [05, 05a-05i]\n",
    "\n",
    "### Conceptual Flow & Workflow\n",
    "<p align=\"center\">\n",
    "  <img alt=\"Conceptual Flow\" src=\"../architectures/slides/05tools_pred_arch.png\" width=\"45%\">\n",
    "&nbsp; &nbsp; &nbsp; &nbsp;\n",
    "  <img alt=\"Workflow\" src=\"../architectures/slides/05tools_pred_console.png\" width=\"45%\">\n",
    "</p>"
   ]
  },
  {
   "cell_type": "markdown",
   "id": "7cbc1869-a004-40d7-99fe-8ae68becb8ef",
   "metadata": {},
   "source": [
    "---\n",
    "## Setup"
   ]
  },
  {
   "cell_type": "markdown",
   "id": "c4b93b74-91fd-433b-ac67-b9e6ac5cb140",
   "metadata": {},
   "source": [
    "inputs:"
   ]
  },
  {
   "cell_type": "code",
   "execution_count": 1,
   "id": "3d88f310-d3b5-4785-a5e6-ac8cdbcc630d",
   "metadata": {},
   "outputs": [
    {
     "data": {
      "text/plain": [
       "'statmike-mlops-349915'"
      ]
     },
     "execution_count": 1,
     "metadata": {},
     "output_type": "execute_result"
    }
   ],
   "source": [
    "project = !gcloud config get-value project\n",
    "PROJECT_ID = project[0]\n",
    "PROJECT_ID"
   ]
  },
  {
   "cell_type": "code",
   "execution_count": 6,
   "id": "8457d0e4-ab01-4933-b179-e7505abf0405",
   "metadata": {},
   "outputs": [],
   "source": [
    "REGION = 'us-central1'\n",
    "EXPERIMENT = '05_predictions'\n",
    "SERIES = '05'\n",
    "\n",
    "# source data\n",
    "BQ_PROJECT = PROJECT_ID\n",
    "BQ_DATASET = 'fraud'\n",
    "BQ_TABLE = 'fraud_prepped'\n",
    "\n",
    "# Resources\n",
    "DEPLOY_COMPUTE = 'n1-standard-4'\n",
    "DEPLOY_IMAGE='us-docker.pkg.dev/vertex-ai/prediction/tf2-cpu.2-7:latest'\n",
    "\n",
    "# Model Training\n",
    "VAR_TARGET = 'Class'\n",
    "VAR_OMIT = 'transaction_id' # add more variables to the string with space delimiters"
   ]
  },
  {
   "cell_type": "markdown",
   "id": "a0bee74b-cc63-421b-b200-1323c7660c58",
   "metadata": {},
   "source": [
    "packages:"
   ]
  },
  {
   "cell_type": "code",
   "execution_count": 7,
   "id": "7fc761a0-cd7e-4cf8-aebb-281aae0e8ce3",
   "metadata": {},
   "outputs": [],
   "source": [
    "from google.cloud import aiplatform\n",
    "from google.cloud import bigquery\n",
    "\n",
    "import tensorflow as tf\n",
    "\n",
    "from datetime import datetime\n",
    "from google.protobuf import json_format\n",
    "from google.protobuf.struct_pb2 import Value\n",
    "import json\n",
    "import numpy as np\n",
    "\n",
    "import asyncio\n",
    "import time\n",
    "import multiprocessing"
   ]
  },
  {
   "cell_type": "markdown",
   "id": "5e46fb44-b7aa-4b93-89b5-d43749f82440",
   "metadata": {},
   "source": [
    "clients:"
   ]
  },
  {
   "cell_type": "code",
   "execution_count": 8,
   "id": "0ac462e2-2294-4097-8639-c8c4f2920ec7",
   "metadata": {},
   "outputs": [],
   "source": [
    "aiplatform.init(project=PROJECT_ID, location=REGION)\n",
    "bq = bigquery.Client()"
   ]
  },
  {
   "cell_type": "markdown",
   "id": "7849d23b-2b68-40fa-b9cf-3b542cb70b82",
   "metadata": {},
   "source": [
    "parameters:"
   ]
  },
  {
   "cell_type": "code",
   "execution_count": 9,
   "id": "c244567c-b232-4fba-8fca-adb13e66db50",
   "metadata": {},
   "outputs": [],
   "source": [
    "BUCKET = PROJECT_ID\n",
    "DIR = f\"temp/{EXPERIMENT}\""
   ]
  },
  {
   "cell_type": "code",
   "execution_count": 10,
   "id": "c5ac4a70-1180-4619-a110-82ca837742aa",
   "metadata": {},
   "outputs": [
    {
     "data": {
      "text/plain": [
       "'1026793852137-compute@developer.gserviceaccount.com'"
      ]
     },
     "execution_count": 10,
     "metadata": {},
     "output_type": "execute_result"
    }
   ],
   "source": [
    "# Give service account roles/storage.objectAdmin permissions\n",
    "# Console > IAM > Select Account <projectnumber>-compute@developer.gserviceaccount.com > edit - give role\n",
    "SERVICE_ACCOUNT = !gcloud config list --format='value(core.account)' \n",
    "SERVICE_ACCOUNT = SERVICE_ACCOUNT[0]\n",
    "SERVICE_ACCOUNT"
   ]
  },
  {
   "cell_type": "markdown",
   "id": "051d29e7-4048-4fa8-958b-24335c93a1c6",
   "metadata": {},
   "source": [
    "environment:"
   ]
  },
  {
   "cell_type": "code",
   "execution_count": 11,
   "id": "3dc2d64a-e63f-4b0d-b963-022a67b92f08",
   "metadata": {},
   "outputs": [],
   "source": [
    "!rm -rf {DIR}\n",
    "!mkdir -p {DIR}"
   ]
  },
  {
   "cell_type": "markdown",
   "id": "67a7d5f4-cdd2-4475-bf29-a47cd736de7a",
   "metadata": {},
   "source": [
    "---\n",
    "## Get Endpoint\n",
    "\n",
    "[Endpoint Properties and Methods](https://cloud.google.com/python/docs/reference/aiplatform/latest/google.cloud.aiplatform.Endpoint):\n",
    "\n",
    "```python\n",
    "endpoint\n",
    "endpoint.display_name\n",
    "endpoint.resource_name\n",
    "endpoint.traffic_split\n",
    "endpoint.list_models()\n",
    "```"
   ]
  },
  {
   "cell_type": "code",
   "execution_count": 12,
   "id": "67be4ca9-e393-4b62-b178-ce1b5df1a01f",
   "metadata": {},
   "outputs": [],
   "source": [
    "endpoints = aiplatform.Endpoint.list(filter = f\"labels.series={SERIES}\")\n",
    "endpoint = endpoints[0]"
   ]
  },
  {
   "cell_type": "markdown",
   "id": "eed300b1-7d58-4b0b-9a69-f32ba918d5ef",
   "metadata": {},
   "source": [
    "---\n",
    "## Retrieve Records For Prediction"
   ]
  },
  {
   "cell_type": "code",
   "execution_count": 13,
   "id": "387789b5-8916-4109-a604-e6f91eb1a57f",
   "metadata": {},
   "outputs": [],
   "source": [
    "n = 1000\n",
    "pred = bq.query(query = f\"SELECT * FROM {BQ_PROJECT}.{BQ_DATASET}.{BQ_TABLE} WHERE splits='TEST' LIMIT {n}\").to_dataframe()"
   ]
  },
  {
   "cell_type": "code",
   "execution_count": 14,
   "id": "deee9703-813c-45bd-a3e7-ffa2e9a3614e",
   "metadata": {},
   "outputs": [
    {
     "data": {
      "text/html": [
       "<div>\n",
       "<style scoped>\n",
       "    .dataframe tbody tr th:only-of-type {\n",
       "        vertical-align: middle;\n",
       "    }\n",
       "\n",
       "    .dataframe tbody tr th {\n",
       "        vertical-align: top;\n",
       "    }\n",
       "\n",
       "    .dataframe thead th {\n",
       "        text-align: right;\n",
       "    }\n",
       "</style>\n",
       "<table border=\"1\" class=\"dataframe\">\n",
       "  <thead>\n",
       "    <tr style=\"text-align: right;\">\n",
       "      <th></th>\n",
       "      <th>Time</th>\n",
       "      <th>V1</th>\n",
       "      <th>V2</th>\n",
       "      <th>V3</th>\n",
       "      <th>V4</th>\n",
       "      <th>V5</th>\n",
       "      <th>V6</th>\n",
       "      <th>V7</th>\n",
       "      <th>V8</th>\n",
       "      <th>V9</th>\n",
       "      <th>...</th>\n",
       "      <th>V23</th>\n",
       "      <th>V24</th>\n",
       "      <th>V25</th>\n",
       "      <th>V26</th>\n",
       "      <th>V27</th>\n",
       "      <th>V28</th>\n",
       "      <th>Amount</th>\n",
       "      <th>Class</th>\n",
       "      <th>transaction_id</th>\n",
       "      <th>splits</th>\n",
       "    </tr>\n",
       "  </thead>\n",
       "  <tbody>\n",
       "    <tr>\n",
       "      <th>0</th>\n",
       "      <td>35337</td>\n",
       "      <td>1.092844</td>\n",
       "      <td>-0.013230</td>\n",
       "      <td>1.359829</td>\n",
       "      <td>2.731537</td>\n",
       "      <td>-0.707357</td>\n",
       "      <td>0.873837</td>\n",
       "      <td>-0.796130</td>\n",
       "      <td>0.437707</td>\n",
       "      <td>0.396770</td>\n",
       "      <td>...</td>\n",
       "      <td>-0.167647</td>\n",
       "      <td>0.027557</td>\n",
       "      <td>0.592115</td>\n",
       "      <td>0.219695</td>\n",
       "      <td>0.036970</td>\n",
       "      <td>0.010984</td>\n",
       "      <td>0.0</td>\n",
       "      <td>0</td>\n",
       "      <td>a1b10547-d270-48c0-b902-7a0f735dadc7</td>\n",
       "      <td>TEST</td>\n",
       "    </tr>\n",
       "    <tr>\n",
       "      <th>1</th>\n",
       "      <td>60481</td>\n",
       "      <td>1.238973</td>\n",
       "      <td>0.035226</td>\n",
       "      <td>0.063003</td>\n",
       "      <td>0.641406</td>\n",
       "      <td>-0.260893</td>\n",
       "      <td>-0.580097</td>\n",
       "      <td>0.049938</td>\n",
       "      <td>-0.034733</td>\n",
       "      <td>0.405932</td>\n",
       "      <td>...</td>\n",
       "      <td>-0.057718</td>\n",
       "      <td>0.104983</td>\n",
       "      <td>0.537987</td>\n",
       "      <td>0.589563</td>\n",
       "      <td>-0.046207</td>\n",
       "      <td>-0.006212</td>\n",
       "      <td>0.0</td>\n",
       "      <td>0</td>\n",
       "      <td>814c62c8-ade4-47d5-bf83-313b0aafdee5</td>\n",
       "      <td>TEST</td>\n",
       "    </tr>\n",
       "    <tr>\n",
       "      <th>2</th>\n",
       "      <td>139587</td>\n",
       "      <td>1.870539</td>\n",
       "      <td>0.211079</td>\n",
       "      <td>0.224457</td>\n",
       "      <td>3.889486</td>\n",
       "      <td>-0.380177</td>\n",
       "      <td>0.249799</td>\n",
       "      <td>-0.577133</td>\n",
       "      <td>0.179189</td>\n",
       "      <td>-0.120462</td>\n",
       "      <td>...</td>\n",
       "      <td>0.180776</td>\n",
       "      <td>-0.060226</td>\n",
       "      <td>-0.228979</td>\n",
       "      <td>0.080827</td>\n",
       "      <td>0.009868</td>\n",
       "      <td>-0.036997</td>\n",
       "      <td>0.0</td>\n",
       "      <td>0</td>\n",
       "      <td>d08a1bfa-85c5-4f1b-9537-1c5a93e6afd0</td>\n",
       "      <td>TEST</td>\n",
       "    </tr>\n",
       "    <tr>\n",
       "      <th>3</th>\n",
       "      <td>162908</td>\n",
       "      <td>-3.368339</td>\n",
       "      <td>-1.980442</td>\n",
       "      <td>0.153645</td>\n",
       "      <td>-0.159795</td>\n",
       "      <td>3.847169</td>\n",
       "      <td>-3.516873</td>\n",
       "      <td>-1.209398</td>\n",
       "      <td>-0.292122</td>\n",
       "      <td>0.760543</td>\n",
       "      <td>...</td>\n",
       "      <td>-1.171627</td>\n",
       "      <td>0.214333</td>\n",
       "      <td>-0.159652</td>\n",
       "      <td>-0.060883</td>\n",
       "      <td>1.294977</td>\n",
       "      <td>0.120503</td>\n",
       "      <td>0.0</td>\n",
       "      <td>0</td>\n",
       "      <td>802f3307-8e5a-4475-b795-5d5d8d7d0120</td>\n",
       "      <td>TEST</td>\n",
       "    </tr>\n",
       "  </tbody>\n",
       "</table>\n",
       "<p>4 rows × 33 columns</p>\n",
       "</div>"
      ],
      "text/plain": [
       "     Time        V1        V2        V3        V4        V5        V6  \\\n",
       "0   35337  1.092844 -0.013230  1.359829  2.731537 -0.707357  0.873837   \n",
       "1   60481  1.238973  0.035226  0.063003  0.641406 -0.260893 -0.580097   \n",
       "2  139587  1.870539  0.211079  0.224457  3.889486 -0.380177  0.249799   \n",
       "3  162908 -3.368339 -1.980442  0.153645 -0.159795  3.847169 -3.516873   \n",
       "\n",
       "         V7        V8        V9  ...       V23       V24       V25       V26  \\\n",
       "0 -0.796130  0.437707  0.396770  ... -0.167647  0.027557  0.592115  0.219695   \n",
       "1  0.049938 -0.034733  0.405932  ... -0.057718  0.104983  0.537987  0.589563   \n",
       "2 -0.577133  0.179189 -0.120462  ...  0.180776 -0.060226 -0.228979  0.080827   \n",
       "3 -1.209398 -0.292122  0.760543  ... -1.171627  0.214333 -0.159652 -0.060883   \n",
       "\n",
       "        V27       V28  Amount  Class                        transaction_id  \\\n",
       "0  0.036970  0.010984     0.0      0  a1b10547-d270-48c0-b902-7a0f735dadc7   \n",
       "1 -0.046207 -0.006212     0.0      0  814c62c8-ade4-47d5-bf83-313b0aafdee5   \n",
       "2  0.009868 -0.036997     0.0      0  d08a1bfa-85c5-4f1b-9537-1c5a93e6afd0   \n",
       "3  1.294977  0.120503     0.0      0  802f3307-8e5a-4475-b795-5d5d8d7d0120   \n",
       "\n",
       "   splits  \n",
       "0    TEST  \n",
       "1    TEST  \n",
       "2    TEST  \n",
       "3    TEST  \n",
       "\n",
       "[4 rows x 33 columns]"
      ]
     },
     "execution_count": 14,
     "metadata": {},
     "output_type": "execute_result"
    }
   ],
   "source": [
    "pred.head(4)"
   ]
  },
  {
   "cell_type": "markdown",
   "id": "58d520d7-ef35-4683-a7df-c209ba384bcd",
   "metadata": {},
   "source": [
    "Remove columns not included as features in the model:"
   ]
  },
  {
   "cell_type": "code",
   "execution_count": 15,
   "id": "9932f548-2c04-4150-99e0-0da87e8f216c",
   "metadata": {},
   "outputs": [],
   "source": [
    "newobs = pred[pred.columns[~pred.columns.isin(VAR_OMIT.split()+[VAR_TARGET, 'splits'])]].to_dict(orient='records')\n",
    "#newobs[0]"
   ]
  },
  {
   "cell_type": "code",
   "execution_count": 16,
   "id": "74109e3f-fa98-4234-9496-4eb45dbabd90",
   "metadata": {},
   "outputs": [
    {
     "data": {
      "text/plain": [
       "1000"
      ]
     },
     "execution_count": 16,
     "metadata": {},
     "output_type": "execute_result"
    }
   ],
   "source": [
    "len(newobs)"
   ]
  },
  {
   "cell_type": "markdown",
   "id": "2a8fcefc-af1c-481c-b24f-9964c1d325c6",
   "metadata": {},
   "source": [
    "---\n",
    "## Online Predictions: Methods for Vertex AI Endpoints\n",
    "\n",
    "For each of the methods below the `predict` part of the request can be exchanged for `explain` if the endpoint has a model deployed with explanations setup.  Note: This will not work for the raw prediction methods.  See more about setting up explainability in the explainability notebook within this series."
   ]
  },
  {
   "cell_type": "markdown",
   "id": "ccd2c951-ee33-406d-9456-fe2b50c8448d",
   "metadata": {},
   "source": [
    "### Get Prediction: Python Client"
   ]
  },
  {
   "cell_type": "code",
   "execution_count": 17,
   "id": "5c262927-7e67-4e3f-b04b-17deadaa1325",
   "metadata": {},
   "outputs": [],
   "source": [
    "instances = [json_format.ParseDict(newobs[0], Value())]"
   ]
  },
  {
   "cell_type": "code",
   "execution_count": 18,
   "id": "67f442be-c9e2-4582-90fe-e090fc02730e",
   "metadata": {},
   "outputs": [
    {
     "data": {
      "text/plain": [
       "Prediction(predictions=[[0.999786437, 0.00021360183]], deployed_model_id='7361102804611497984', model_version_id='1', model_resource_name='projects/1026793852137/locations/us-central1/models/model_05c_fraud', explanations=None)"
      ]
     },
     "execution_count": 18,
     "metadata": {},
     "output_type": "execute_result"
    }
   ],
   "source": [
    "prediction = endpoint.predict(instances=instances)\n",
    "prediction"
   ]
  },
  {
   "cell_type": "code",
   "execution_count": 19,
   "id": "a5839c46-2cf5-4b09-8e0b-8919e5767112",
   "metadata": {},
   "outputs": [
    {
     "data": {
      "text/plain": [
       "[0.999786437, 0.00021360183]"
      ]
     },
     "execution_count": 19,
     "metadata": {},
     "output_type": "execute_result"
    }
   ],
   "source": [
    "prediction.predictions[0]"
   ]
  },
  {
   "cell_type": "code",
   "execution_count": 20,
   "id": "e5629b86-bd25-4a2c-8dbd-2ab306b58592",
   "metadata": {},
   "outputs": [
    {
     "data": {
      "text/plain": [
       "0"
      ]
     },
     "execution_count": 20,
     "metadata": {},
     "output_type": "execute_result"
    }
   ],
   "source": [
    "np.argmax(prediction.predictions[0])"
   ]
  },
  {
   "cell_type": "markdown",
   "id": "38f38fe9-240b-4fdd-98d6-1174d73107ef",
   "metadata": {},
   "source": [
    "### Get Prediction: Python Client (gapic)"
   ]
  },
  {
   "cell_type": "code",
   "execution_count": 21,
   "id": "96ef7b63-6cd3-4d91-a0a0-9d0bcda00569",
   "metadata": {},
   "outputs": [],
   "source": [
    "client_options = {\"api_endpoint\": f\"{REGION}-aiplatform.googleapis.com\"}"
   ]
  },
  {
   "cell_type": "code",
   "execution_count": 22,
   "id": "4bd3bf2d-ead1-422f-8cac-d4ad2d9ad750",
   "metadata": {},
   "outputs": [],
   "source": [
    "predictor = aiplatform.gapic.PredictionServiceClient(client_options = client_options)"
   ]
  },
  {
   "cell_type": "code",
   "execution_count": 23,
   "id": "dea6874e-5889-494d-9f7a-3428c98ee44d",
   "metadata": {},
   "outputs": [],
   "source": [
    "instances = [json_format.ParseDict(newobs[0], Value())]"
   ]
  },
  {
   "cell_type": "code",
   "execution_count": 24,
   "id": "ed962334-5feb-4c64-ad78-193c9f829dbf",
   "metadata": {},
   "outputs": [
    {
     "data": {
      "text/plain": [
       "predictions {\n",
       "  list_value {\n",
       "    values {\n",
       "      number_value: 0.999786437\n",
       "    }\n",
       "    values {\n",
       "      number_value: 0.00021360183\n",
       "    }\n",
       "  }\n",
       "}\n",
       "deployed_model_id: \"7361102804611497984\"\n",
       "model: \"projects/1026793852137/locations/us-central1/models/model_05c_fraud\"\n",
       "model_display_name: \"05c_fraud\"\n",
       "model_version_id: \"1\""
      ]
     },
     "execution_count": 24,
     "metadata": {},
     "output_type": "execute_result"
    }
   ],
   "source": [
    "prediction = predictor.predict(\n",
    "    endpoint = endpoint.resource_name,\n",
    "    instances = instances\n",
    ")\n",
    "prediction"
   ]
  },
  {
   "cell_type": "code",
   "execution_count": 25,
   "id": "1ef72398-66e6-4ea6-83a6-d75361b6a49f",
   "metadata": {},
   "outputs": [
    {
     "data": {
      "text/plain": [
       "[0.999786437, 0.00021360183]"
      ]
     },
     "execution_count": 25,
     "metadata": {},
     "output_type": "execute_result"
    }
   ],
   "source": [
    "prediction.predictions[0]"
   ]
  },
  {
   "cell_type": "code",
   "execution_count": 26,
   "id": "9cf24ea4-65db-45e2-8b9f-822efd5085f4",
   "metadata": {},
   "outputs": [
    {
     "data": {
      "text/plain": [
       "0"
      ]
     },
     "execution_count": 26,
     "metadata": {},
     "output_type": "execute_result"
    }
   ],
   "source": [
    "np.argmax(prediction.predictions[0])"
   ]
  },
  {
   "cell_type": "markdown",
   "id": "2b976e59-6d8e-43ac-9856-89592be90115",
   "metadata": {},
   "source": [
    "#### Use gapic for Raw Predictions"
   ]
  },
  {
   "cell_type": "code",
   "execution_count": 27,
   "id": "73b38fda-8e82-4d9a-92ba-385edd0f27a3",
   "metadata": {},
   "outputs": [],
   "source": [
    "client_options = {\"api_endpoint\": f\"{REGION}-aiplatform.googleapis.com\"}"
   ]
  },
  {
   "cell_type": "code",
   "execution_count": 28,
   "id": "42b29c02-8cba-4b01-99e3-c61a0f6df7b1",
   "metadata": {},
   "outputs": [],
   "source": [
    "predictor = aiplatform.gapic.PredictionServiceClient(client_options = client_options)"
   ]
  },
  {
   "cell_type": "code",
   "execution_count": 29,
   "id": "b4d65d86-a1c8-4ccf-9836-024fa5ef6379",
   "metadata": {},
   "outputs": [],
   "source": [
    "from google.api import httpbody_pb2\n",
    "instances = {\"instances\": [newobs[0]], \"signature_name\": \"serving_default\"}\n",
    "http_body = httpbody_pb2.HttpBody(data = json.dumps(instances).encode(\"utf-8\"), content_type = \"application/json\")"
   ]
  },
  {
   "cell_type": "code",
   "execution_count": 30,
   "id": "5b028013-b53c-4c85-8130-6b23ddb75d5d",
   "metadata": {},
   "outputs": [
    {
     "data": {
      "text/plain": [
       "content_type: \"application/json\"\n",
       "data: \"{\\n    \\\"predictions\\\": [[0.999786437, 0.00021360183]\\n    ]\\n}\""
      ]
     },
     "execution_count": 30,
     "metadata": {},
     "output_type": "execute_result"
    }
   ],
   "source": [
    "prediction = predictor.raw_predict(\n",
    "    endpoint = endpoint.resource_name,\n",
    "    http_body = http_body\n",
    ")\n",
    "prediction"
   ]
  },
  {
   "cell_type": "code",
   "execution_count": 31,
   "id": "f90e0886-2ebb-4ece-b549-8db103295b6e",
   "metadata": {},
   "outputs": [
    {
     "data": {
      "text/plain": [
       "{'predictions': [[0.999786437, 0.00021360183]]}"
      ]
     },
     "execution_count": 31,
     "metadata": {},
     "output_type": "execute_result"
    }
   ],
   "source": [
    "prediction = json.loads(prediction.data)\n",
    "prediction"
   ]
  },
  {
   "cell_type": "code",
   "execution_count": 32,
   "id": "542d3958-a257-48fe-ba2e-28ad5c5d7e1a",
   "metadata": {},
   "outputs": [
    {
     "data": {
      "text/plain": [
       "[0.999786437, 0.00021360183]"
      ]
     },
     "execution_count": 32,
     "metadata": {},
     "output_type": "execute_result"
    }
   ],
   "source": [
    "prediction['predictions'][0]"
   ]
  },
  {
   "cell_type": "code",
   "execution_count": 33,
   "id": "fd0d332b-b0cf-4b4f-8fcb-d37ed644e616",
   "metadata": {},
   "outputs": [
    {
     "data": {
      "text/plain": [
       "0"
      ]
     },
     "execution_count": 33,
     "metadata": {},
     "output_type": "execute_result"
    }
   ],
   "source": [
    "np.argmax(prediction['predictions'][0])"
   ]
  },
  {
   "cell_type": "markdown",
   "id": "8b4fe4df-6573-4547-b126-8cf81e9aa0f3",
   "metadata": {},
   "source": [
    "### Get Prediction: Python Client V1"
   ]
  },
  {
   "cell_type": "code",
   "execution_count": 34,
   "id": "8fa591da-f01b-4246-97ea-c540aa7ff668",
   "metadata": {},
   "outputs": [],
   "source": [
    "from google.cloud import aiplatform_v1\n",
    "\n",
    "client_options = {\"api_endpoint\": f\"{REGION}-aiplatform.googleapis.com\"}\n",
    "\n",
    "v1_client = aiplatform_v1.PredictionServiceClient(client_options = client_options)"
   ]
  },
  {
   "cell_type": "code",
   "execution_count": 35,
   "id": "52013c60-7670-42cf-8db2-794408e969ea",
   "metadata": {},
   "outputs": [],
   "source": [
    "instances = [json_format.ParseDict(newobs[0], Value())]"
   ]
  },
  {
   "cell_type": "code",
   "execution_count": 36,
   "id": "a23f7fe5-66df-4c12-b857-b5e161be5411",
   "metadata": {},
   "outputs": [
    {
     "data": {
      "text/plain": [
       "predictions {\n",
       "  list_value {\n",
       "    values {\n",
       "      number_value: 0.999786437\n",
       "    }\n",
       "    values {\n",
       "      number_value: 0.00021360183\n",
       "    }\n",
       "  }\n",
       "}\n",
       "deployed_model_id: \"7361102804611497984\"\n",
       "model: \"projects/1026793852137/locations/us-central1/models/model_05c_fraud\"\n",
       "model_display_name: \"05c_fraud\"\n",
       "model_version_id: \"1\""
      ]
     },
     "execution_count": 36,
     "metadata": {},
     "output_type": "execute_result"
    }
   ],
   "source": [
    "prediction = v1_client.predict(\n",
    "    endpoint = endpoint.resource_name,\n",
    "    instances = instances\n",
    ")\n",
    "prediction"
   ]
  },
  {
   "cell_type": "code",
   "execution_count": 37,
   "id": "18852c90-3b5c-4397-bd2d-4e055b49175e",
   "metadata": {},
   "outputs": [
    {
     "data": {
      "text/plain": [
       "[0.999786437, 0.00021360183]"
      ]
     },
     "execution_count": 37,
     "metadata": {},
     "output_type": "execute_result"
    }
   ],
   "source": [
    "prediction.predictions[0]"
   ]
  },
  {
   "cell_type": "code",
   "execution_count": 38,
   "id": "26613451-9dff-4572-a690-faa70c008b1a",
   "metadata": {},
   "outputs": [
    {
     "data": {
      "text/plain": [
       "0"
      ]
     },
     "execution_count": 38,
     "metadata": {},
     "output_type": "execute_result"
    }
   ],
   "source": [
    "np.argmax(prediction.predictions[0])"
   ]
  },
  {
   "cell_type": "markdown",
   "id": "849b5745-7805-4afe-beb2-6a0239add053",
   "metadata": {},
   "source": [
    "#### Use Python Client V1 For Raw Predictions"
   ]
  },
  {
   "cell_type": "code",
   "execution_count": 39,
   "id": "1a666754-cfa3-47c4-87e0-2859f78c4880",
   "metadata": {},
   "outputs": [],
   "source": [
    "from google.cloud import aiplatform_v1\n",
    "\n",
    "client_options = {\"api_endpoint\": f\"{REGION}-aiplatform.googleapis.com\"}\n",
    "\n",
    "v1_client = aiplatform_v1.PredictionServiceClient(client_options = client_options)"
   ]
  },
  {
   "cell_type": "code",
   "execution_count": 40,
   "id": "b441ff51-76c4-4848-8e08-4dd3039bb2b0",
   "metadata": {},
   "outputs": [],
   "source": [
    "from google.api import httpbody_pb2\n",
    "instances = {\"instances\": [newobs[0]], \"signature_name\": \"serving_default\"}\n",
    "http_body = httpbody_pb2.HttpBody(data = json.dumps(instances).encode(\"utf-8\"), content_type = \"application/json\")"
   ]
  },
  {
   "cell_type": "code",
   "execution_count": 41,
   "id": "6d15ce70-d861-4198-b02c-0e5ddc463898",
   "metadata": {},
   "outputs": [
    {
     "data": {
      "text/plain": [
       "content_type: \"application/json\"\n",
       "data: \"{\\n    \\\"predictions\\\": [[0.999786437, 0.00021360183]\\n    ]\\n}\""
      ]
     },
     "execution_count": 41,
     "metadata": {},
     "output_type": "execute_result"
    }
   ],
   "source": [
    "prediction = v1_client.raw_predict(\n",
    "    endpoint = endpoint.resource_name,\n",
    "    http_body = http_body\n",
    ")\n",
    "prediction"
   ]
  },
  {
   "cell_type": "code",
   "execution_count": 42,
   "id": "17ef57b8-7591-41b9-b084-91d8f7e3ab57",
   "metadata": {},
   "outputs": [
    {
     "data": {
      "text/plain": [
       "{'predictions': [[0.999786437, 0.00021360183]]}"
      ]
     },
     "execution_count": 42,
     "metadata": {},
     "output_type": "execute_result"
    }
   ],
   "source": [
    "prediction = json.loads(prediction.data)\n",
    "prediction"
   ]
  },
  {
   "cell_type": "code",
   "execution_count": 43,
   "id": "c61ebc5d-9712-429d-85f9-e6e60fb12a15",
   "metadata": {},
   "outputs": [
    {
     "data": {
      "text/plain": [
       "[0.999786437, 0.00021360183]"
      ]
     },
     "execution_count": 43,
     "metadata": {},
     "output_type": "execute_result"
    }
   ],
   "source": [
    "prediction['predictions'][0]"
   ]
  },
  {
   "cell_type": "code",
   "execution_count": 44,
   "id": "367bd1de-792c-487f-8755-e4c4ad8812d4",
   "metadata": {},
   "outputs": [
    {
     "data": {
      "text/plain": [
       "0"
      ]
     },
     "execution_count": 44,
     "metadata": {},
     "output_type": "execute_result"
    }
   ],
   "source": [
    "np.argmax(prediction['predictions'][0])"
   ]
  },
  {
   "cell_type": "markdown",
   "id": "d3706c46-3353-40a6-a724-0fc8c1630a94",
   "metadata": {},
   "source": [
    "### Get Prediction: Python Client V1 beta 1"
   ]
  },
  {
   "cell_type": "code",
   "execution_count": 45,
   "id": "02de13ad-5e10-409b-b309-11812de40c5a",
   "metadata": {},
   "outputs": [],
   "source": [
    "from google.cloud import aiplatform_v1beta1\n",
    "\n",
    "client_options = {\"api_endpoint\": f\"{REGION}-aiplatform.googleapis.com\"}\n",
    "\n",
    "v1beta1_client = aiplatform_v1beta1.PredictionServiceClient(client_options = client_options)"
   ]
  },
  {
   "cell_type": "code",
   "execution_count": 46,
   "id": "89755c31-17ae-45e3-bf36-ea7b34cf982c",
   "metadata": {},
   "outputs": [],
   "source": [
    "instances = [json_format.ParseDict(newobs[0], Value())]"
   ]
  },
  {
   "cell_type": "code",
   "execution_count": 47,
   "id": "ebdfb0c0-34d9-4efb-80d1-ab4a711b54f1",
   "metadata": {},
   "outputs": [
    {
     "data": {
      "text/plain": [
       "predictions {\n",
       "  list_value {\n",
       "    values {\n",
       "      number_value: 0.999786437\n",
       "    }\n",
       "    values {\n",
       "      number_value: 0.00021360183\n",
       "    }\n",
       "  }\n",
       "}\n",
       "deployed_model_id: \"7361102804611497984\"\n",
       "model: \"projects/1026793852137/locations/us-central1/models/model_05c_fraud\"\n",
       "model_display_name: \"05c_fraud\"\n",
       "model_version_id: \"1\""
      ]
     },
     "execution_count": 47,
     "metadata": {},
     "output_type": "execute_result"
    }
   ],
   "source": [
    "prediction = v1beta1_client.predict(\n",
    "    endpoint = endpoint.resource_name,\n",
    "    instances = instances\n",
    ")\n",
    "prediction"
   ]
  },
  {
   "cell_type": "code",
   "execution_count": 48,
   "id": "37ae005c-6731-4da6-a423-4eb1621ee0f6",
   "metadata": {},
   "outputs": [
    {
     "data": {
      "text/plain": [
       "[0.999786437, 0.00021360183]"
      ]
     },
     "execution_count": 48,
     "metadata": {},
     "output_type": "execute_result"
    }
   ],
   "source": [
    "prediction.predictions[0]"
   ]
  },
  {
   "cell_type": "code",
   "execution_count": 49,
   "id": "93464635-858d-4b64-bb5e-46c319597b3b",
   "metadata": {},
   "outputs": [
    {
     "data": {
      "text/plain": [
       "0"
      ]
     },
     "execution_count": 49,
     "metadata": {},
     "output_type": "execute_result"
    }
   ],
   "source": [
    "np.argmax(prediction.predictions[0])"
   ]
  },
  {
   "cell_type": "markdown",
   "id": "33d6604f-09c9-4beb-8126-89038cf83b23",
   "metadata": {},
   "source": [
    "#### Use Python Client V1 beta 1 For Raw Predictions"
   ]
  },
  {
   "cell_type": "code",
   "execution_count": 50,
   "id": "b53f3fd1-7b17-45c5-acba-892edb817cbd",
   "metadata": {},
   "outputs": [],
   "source": [
    "from google.cloud import aiplatform_v1beta1\n",
    "\n",
    "client_options = {\"api_endpoint\": f\"{REGION}-aiplatform.googleapis.com\"}\n",
    "\n",
    "v1beta1_client = aiplatform_v1.PredictionServiceClient(client_options = client_options)"
   ]
  },
  {
   "cell_type": "code",
   "execution_count": 51,
   "id": "268173a4-57c0-41b7-bfe6-eebe293d241e",
   "metadata": {},
   "outputs": [],
   "source": [
    "from google.api import httpbody_pb2\n",
    "instances = {\"instances\": [newobs[0]], \"signature_name\": \"serving_default\"}\n",
    "http_body = httpbody_pb2.HttpBody(data = json.dumps(instances).encode(\"utf-8\"), content_type = \"application/json\")"
   ]
  },
  {
   "cell_type": "code",
   "execution_count": 52,
   "id": "126ed4fa-f02d-48a4-8bff-ade1c8846058",
   "metadata": {},
   "outputs": [
    {
     "data": {
      "text/plain": [
       "content_type: \"application/json\"\n",
       "data: \"{\\n    \\\"predictions\\\": [[0.999786437, 0.00021360183]\\n    ]\\n}\""
      ]
     },
     "execution_count": 52,
     "metadata": {},
     "output_type": "execute_result"
    }
   ],
   "source": [
    "prediction = v1beta1_client.raw_predict(\n",
    "    endpoint = endpoint.resource_name,\n",
    "    http_body = http_body\n",
    ")\n",
    "prediction"
   ]
  },
  {
   "cell_type": "code",
   "execution_count": 53,
   "id": "71c10141-b979-4621-8f14-ddcfbe842a71",
   "metadata": {},
   "outputs": [
    {
     "data": {
      "text/plain": [
       "{'predictions': [[0.999786437, 0.00021360183]]}"
      ]
     },
     "execution_count": 53,
     "metadata": {},
     "output_type": "execute_result"
    }
   ],
   "source": [
    "prediction = json.loads(prediction.data)\n",
    "prediction"
   ]
  },
  {
   "cell_type": "code",
   "execution_count": 54,
   "id": "0c50d560-86f9-4abc-bd85-540e6fccb7cf",
   "metadata": {},
   "outputs": [
    {
     "data": {
      "text/plain": [
       "[0.999786437, 0.00021360183]"
      ]
     },
     "execution_count": 54,
     "metadata": {},
     "output_type": "execute_result"
    }
   ],
   "source": [
    "prediction['predictions'][0]"
   ]
  },
  {
   "cell_type": "code",
   "execution_count": 55,
   "id": "e2c52a34-69cd-4259-9276-3a2205e0dc5d",
   "metadata": {},
   "outputs": [
    {
     "data": {
      "text/plain": [
       "0"
      ]
     },
     "execution_count": 55,
     "metadata": {},
     "output_type": "execute_result"
    }
   ],
   "source": [
    "np.argmax(prediction['predictions'][0])"
   ]
  },
  {
   "cell_type": "markdown",
   "id": "950e4592-d06a-4aa7-a27a-fd80966d132c",
   "metadata": {},
   "source": [
    "### Get Prediction: REST"
   ]
  },
  {
   "cell_type": "markdown",
   "id": "0f3659b4-84fe-484f-bb6d-1450f9e62a86",
   "metadata": {},
   "source": [
    "#### Method 1: Command Line CURL"
   ]
  },
  {
   "cell_type": "code",
   "execution_count": 56,
   "id": "8c504fcf-b6c1-4dfc-aa7c-d5a6ce9d118d",
   "metadata": {},
   "outputs": [],
   "source": [
    "with open(f'{DIR}/request.json','w') as file:\n",
    "    file.write(json.dumps({\"instances\": [newobs[0]]}))"
   ]
  },
  {
   "cell_type": "code",
   "execution_count": 57,
   "id": "67922a11-a326-4b86-9562-75796b4c4e2b",
   "metadata": {},
   "outputs": [
    {
     "data": {
      "text/plain": [
       "{'predictions': [[0.999786437, 0.00021360183]],\n",
       " 'deployedModelId': '7361102804611497984',\n",
       " 'model': 'projects/1026793852137/locations/us-central1/models/model_05c_fraud',\n",
       " 'modelDisplayName': '05c_fraud',\n",
       " 'modelVersionId': '1'}"
      ]
     },
     "execution_count": 57,
     "metadata": {},
     "output_type": "execute_result"
    }
   ],
   "source": [
    "prediction = !curl -s POST \\\n",
    "-H \"Authorization: Bearer \"$(gcloud auth application-default print-access-token) \\\n",
    "-H \"Content-Type: application/json; charset=utf-8\" \\\n",
    "-d @{DIR}/request.json \\\n",
    "https://{REGION}-aiplatform.googleapis.com/v1/{endpoint.resource_name}:predict\n",
    "\n",
    "prediction = json.loads(''.join([p.strip() for p in prediction]))\n",
    "prediction"
   ]
  },
  {
   "cell_type": "code",
   "execution_count": 58,
   "id": "726455d9-1672-45ee-9aa7-49906eb01d5c",
   "metadata": {},
   "outputs": [
    {
     "data": {
      "text/plain": [
       "[0.999786437, 0.00021360183]"
      ]
     },
     "execution_count": 58,
     "metadata": {},
     "output_type": "execute_result"
    }
   ],
   "source": [
    "prediction['predictions'][0]"
   ]
  },
  {
   "cell_type": "code",
   "execution_count": 59,
   "id": "a65b2950-ff0b-4b0e-bca1-8cd12de3ecb0",
   "metadata": {},
   "outputs": [
    {
     "data": {
      "text/plain": [
       "0"
      ]
     },
     "execution_count": 59,
     "metadata": {},
     "output_type": "execute_result"
    }
   ],
   "source": [
    "np.argmax(prediction['predictions'][0])"
   ]
  },
  {
   "cell_type": "markdown",
   "id": "cfb74502-a39e-4b7d-b910-427299927866",
   "metadata": {},
   "source": [
    "##### Use CURL for Raw Predictions"
   ]
  },
  {
   "cell_type": "code",
   "execution_count": 60,
   "id": "5bbe7c61-9657-4fc4-b57b-ff0ac76af581",
   "metadata": {},
   "outputs": [],
   "source": [
    "with open(f'{DIR}/request.json','w') as file:\n",
    "    file.write(json.dumps({\"signature_name\": \"serving_default\", \"instances\": [newobs[0]]}))"
   ]
  },
  {
   "cell_type": "code",
   "execution_count": 61,
   "id": "e89d87f3-38c3-4fb3-8b40-9bbd8be09c69",
   "metadata": {},
   "outputs": [
    {
     "data": {
      "text/plain": [
       "{'predictions': [[0.999786437, 0.00021360183]]}"
      ]
     },
     "execution_count": 61,
     "metadata": {},
     "output_type": "execute_result"
    }
   ],
   "source": [
    "prediction = !curl -s POST \\\n",
    "-H \"Authorization: Bearer \"$(gcloud auth application-default print-access-token) \\\n",
    "-H \"Content-Type: application/json; charset=utf-8\" \\\n",
    "-d @{DIR}/request.json \\\n",
    "https://{REGION}-aiplatform.googleapis.com/v1/{endpoint.resource_name}:rawPredict\n",
    "\n",
    "prediction = json.loads(''.join([p.strip() for p in prediction]))\n",
    "prediction"
   ]
  },
  {
   "cell_type": "code",
   "execution_count": 62,
   "id": "1038669f-bacb-412b-b8f5-2633a01ac3a6",
   "metadata": {},
   "outputs": [
    {
     "data": {
      "text/plain": [
       "[0.999786437, 0.00021360183]"
      ]
     },
     "execution_count": 62,
     "metadata": {},
     "output_type": "execute_result"
    }
   ],
   "source": [
    "prediction['predictions'][0]"
   ]
  },
  {
   "cell_type": "code",
   "execution_count": 63,
   "id": "6a9f11ec-b3bc-42e7-80fb-f2aab4fd800b",
   "metadata": {},
   "outputs": [
    {
     "data": {
      "text/plain": [
       "0"
      ]
     },
     "execution_count": 63,
     "metadata": {},
     "output_type": "execute_result"
    }
   ],
   "source": [
    "np.argmax(prediction['predictions'][0])"
   ]
  },
  {
   "cell_type": "markdown",
   "id": "2ec54706-7359-4d01-95e7-2d16ef6441c4",
   "metadata": {},
   "source": [
    "#### Method 2: Python with requests"
   ]
  },
  {
   "cell_type": "code",
   "execution_count": 64,
   "id": "cd78b16b-440c-4c0d-88d8-a7fa2b34a194",
   "metadata": {},
   "outputs": [],
   "source": [
    "import requests"
   ]
  },
  {
   "cell_type": "code",
   "execution_count": 65,
   "id": "cbed175e-289f-4eff-9b9e-33a5358a0488",
   "metadata": {},
   "outputs": [],
   "source": [
    "token = !gcloud auth application-default print-access-token\n",
    "headers = {\"content-type\": \"application/json; charset=utf-8\", \"Authorization\": f'Bearer {token[0]}'}\n",
    "json_response = requests.post(f'https://{REGION}-aiplatform.googleapis.com/v1/{endpoint.resource_name}:predict', data=json.dumps({\"instances\": [newobs[0]]}), headers=headers)"
   ]
  },
  {
   "cell_type": "code",
   "execution_count": 66,
   "id": "b2cab35d-780a-4f48-935c-1af4d6acffa6",
   "metadata": {},
   "outputs": [
    {
     "name": "stdout",
     "output_type": "stream",
     "text": [
      "{\n",
      "  \"predictions\": [\n",
      "    [\n",
      "      0.999786437,\n",
      "      0.00021360183\n",
      "    ]\n",
      "  ],\n",
      "  \"deployedModelId\": \"7361102804611497984\",\n",
      "  \"model\": \"projects/1026793852137/locations/us-central1/models/model_05c_fraud\",\n",
      "  \"modelDisplayName\": \"05c_fraud\",\n",
      "  \"modelVersionId\": \"1\"\n",
      "}\n",
      "\n"
     ]
    }
   ],
   "source": [
    "print(json_response.text)"
   ]
  },
  {
   "cell_type": "code",
   "execution_count": 67,
   "id": "e2397a15-be1d-42f3-aab2-9175353f0fae",
   "metadata": {},
   "outputs": [
    {
     "data": {
      "text/plain": [
       "[[0.999786437, 0.00021360183]]"
      ]
     },
     "execution_count": 67,
     "metadata": {},
     "output_type": "execute_result"
    }
   ],
   "source": [
    "predictions = json.loads(json_response.text)['predictions']\n",
    "predictions"
   ]
  },
  {
   "cell_type": "code",
   "execution_count": 68,
   "id": "91bbbf95-f866-4214-8fa3-4dfe6b464b37",
   "metadata": {},
   "outputs": [
    {
     "data": {
      "text/plain": [
       "0"
      ]
     },
     "execution_count": 68,
     "metadata": {},
     "output_type": "execute_result"
    }
   ],
   "source": [
    "np.argmax(predictions[0])"
   ]
  },
  {
   "cell_type": "markdown",
   "id": "dd082ca4-044f-412c-9a5b-a26fd072c60c",
   "metadata": {},
   "source": [
    "##### Use Requests for Raw Predictions"
   ]
  },
  {
   "cell_type": "code",
   "execution_count": 69,
   "id": "a662e856-5817-48cb-be93-81c54c93af0c",
   "metadata": {},
   "outputs": [],
   "source": [
    "import requests"
   ]
  },
  {
   "cell_type": "code",
   "execution_count": 70,
   "id": "fd4db00b-f21b-4c3c-aed2-07aea0cb6c87",
   "metadata": {},
   "outputs": [],
   "source": [
    "token = !gcloud auth application-default print-access-token\n",
    "headers = {\"content-type\": \"application/json; charset=utf-8\", \"Authorization\": f'Bearer {token[0]}'}\n",
    "json_response = requests.post(f'https://{REGION}-aiplatform.googleapis.com/v1/{endpoint.resource_name}:rawPredict', data=json.dumps({\"signature_name\": \"serving_default\", \"instances\": [newobs[0]]}), headers=headers)"
   ]
  },
  {
   "cell_type": "code",
   "execution_count": 71,
   "id": "29d9be25-c171-4d8b-b3ae-0a9aecb6c749",
   "metadata": {},
   "outputs": [
    {
     "name": "stdout",
     "output_type": "stream",
     "text": [
      "{\n",
      "    \"predictions\": [[0.999786437, 0.00021360183]\n",
      "    ]\n",
      "}\n"
     ]
    }
   ],
   "source": [
    "print(json_response.text)"
   ]
  },
  {
   "cell_type": "code",
   "execution_count": 72,
   "id": "30cef2f2-dabe-4111-9e2d-3c083693867c",
   "metadata": {},
   "outputs": [
    {
     "data": {
      "text/plain": [
       "[[0.999786437, 0.00021360183]]"
      ]
     },
     "execution_count": 72,
     "metadata": {},
     "output_type": "execute_result"
    }
   ],
   "source": [
    "predictions = json.loads(json_response.text)['predictions']\n",
    "predictions"
   ]
  },
  {
   "cell_type": "code",
   "execution_count": 73,
   "id": "a9407871-69bd-4190-b8d5-12c2aa43989a",
   "metadata": {},
   "outputs": [
    {
     "data": {
      "text/plain": [
       "0"
      ]
     },
     "execution_count": 73,
     "metadata": {},
     "output_type": "execute_result"
    }
   ],
   "source": [
    "np.argmax(predictions[0])"
   ]
  },
  {
   "cell_type": "markdown",
   "id": "1dbe3e05-ea69-41b5-8cb9-955b15b882f9",
   "metadata": {},
   "source": [
    "### Get Prediction: gcloud (CLI)"
   ]
  },
  {
   "cell_type": "code",
   "execution_count": 74,
   "id": "7d2d2be2-4bd6-4566-95f1-acdcbd9926ee",
   "metadata": {},
   "outputs": [],
   "source": [
    "with open(f'{DIR}/request.json','w') as file:\n",
    "    file.write(json.dumps({\"instances\": [newobs[0]]}))"
   ]
  },
  {
   "cell_type": "code",
   "execution_count": 75,
   "id": "37657040-0521-4235-884a-f191d576655c",
   "metadata": {},
   "outputs": [
    {
     "data": {
      "text/plain": [
       "['Using endpoint [https://us-central1-prediction-aiplatform.googleapis.com/]',\n",
       " '[[0.999786437, 0.00021360183]]']"
      ]
     },
     "execution_count": 75,
     "metadata": {},
     "output_type": "execute_result"
    }
   ],
   "source": [
    "prediction = !gcloud ai endpoints predict {endpoint.name.rsplit('/',1)[-1]} --region={REGION} --json-request={DIR}/request.json\n",
    "prediction"
   ]
  },
  {
   "cell_type": "code",
   "execution_count": 76,
   "id": "71025142-a958-4f32-92df-602d8b8de09b",
   "metadata": {},
   "outputs": [
    {
     "data": {
      "text/plain": [
       "[0.999786437, 0.00021360183]"
      ]
     },
     "execution_count": 76,
     "metadata": {},
     "output_type": "execute_result"
    }
   ],
   "source": [
    "import ast\n",
    "prediction = ast.literal_eval(prediction[1])\n",
    "prediction[0]"
   ]
  },
  {
   "cell_type": "code",
   "execution_count": 77,
   "id": "6ed6f508-ed1a-4426-93e7-76cab1da5a71",
   "metadata": {},
   "outputs": [
    {
     "data": {
      "text/plain": [
       "0"
      ]
     },
     "execution_count": 77,
     "metadata": {},
     "output_type": "execute_result"
    }
   ],
   "source": [
    "np.argmax(prediction[0])"
   ]
  },
  {
   "cell_type": "markdown",
   "id": "d476d19f-42a0-4372-a246-ea8674d56fea",
   "metadata": {},
   "source": [
    "#### Use gcloud (CLI) For Raw Predictions"
   ]
  },
  {
   "cell_type": "code",
   "execution_count": 78,
   "id": "e3ec22fd-410e-4077-9669-c11063b61256",
   "metadata": {},
   "outputs": [],
   "source": [
    "with open(f'{DIR}/request.json','w') as file:\n",
    "    file.write(json.dumps({\"signature_name\": \"serving_default\", \"instances\": [newobs[0]]}))"
   ]
  },
  {
   "cell_type": "code",
   "execution_count": 79,
   "id": "f776e1c6-1d06-4c3a-9824-43e3c082911a",
   "metadata": {},
   "outputs": [
    {
     "data": {
      "text/plain": [
       "['Using endpoint [https://us-central1-aiplatform.googleapis.com/]',\n",
       " '{',\n",
       " '  \"predictions\": [',\n",
       " '    [',\n",
       " '      0.999786437,',\n",
       " '      0.00021360183',\n",
       " '    ]',\n",
       " '  ]',\n",
       " '}']"
      ]
     },
     "execution_count": 79,
     "metadata": {},
     "output_type": "execute_result"
    }
   ],
   "source": [
    "prediction = !gcloud ai endpoints raw-predict {endpoint.name.rsplit('/',1)[-1]} --region={REGION} --format=\"json\" --request=@{DIR}/request.json\n",
    "prediction"
   ]
  },
  {
   "cell_type": "code",
   "execution_count": 80,
   "id": "7c0ed887-fc96-42e6-b60d-9b73811852a6",
   "metadata": {},
   "outputs": [
    {
     "data": {
      "text/plain": [
       "{'predictions': [[0.999786437, 0.00021360183]]}"
      ]
     },
     "execution_count": 80,
     "metadata": {},
     "output_type": "execute_result"
    }
   ],
   "source": [
    "prediction = json.loads(\"\".join(prediction[1:]))\n",
    "prediction"
   ]
  },
  {
   "cell_type": "code",
   "execution_count": 81,
   "id": "8fe85820-22c6-48e4-ad28-d5e62589ad19",
   "metadata": {},
   "outputs": [
    {
     "data": {
      "text/plain": [
       "[0.999786437, 0.00021360183]"
      ]
     },
     "execution_count": 81,
     "metadata": {},
     "output_type": "execute_result"
    }
   ],
   "source": [
    "prediction['predictions'][0]"
   ]
  },
  {
   "cell_type": "code",
   "execution_count": 82,
   "id": "26db4db0-2a66-459c-8418-b895c025650f",
   "metadata": {},
   "outputs": [
    {
     "data": {
      "text/plain": [
       "0"
      ]
     },
     "execution_count": 82,
     "metadata": {},
     "output_type": "execute_result"
    }
   ],
   "source": [
    "np.argmax(prediction['predictions'][0])"
   ]
  },
  {
   "cell_type": "markdown",
   "id": "5472125c-7255-415b-8ad4-16695fd68f4c",
   "metadata": {},
   "source": [
    "---\n",
    "## Online Predictions: Synchronous Examples\n",
    "Synchronous calls to the Vertex AI Endpoint with different batch size of instances:"
   ]
  },
  {
   "cell_type": "code",
   "execution_count": 83,
   "id": "f789397a-a44a-408c-a37f-7f15adaa161b",
   "metadata": {},
   "outputs": [],
   "source": [
    "def syncPredictions(batch_size = 1):\n",
    "    predictions = []\n",
    "    start = time.perf_counter()\n",
    "    for p in range(0, len(newobs), batch_size):\n",
    "        instances = [json_format.ParseDict(example, Value()) for example in newobs[p:p+batch_size]]\n",
    "        preds = endpoint.predict(instances = instances)\n",
    "        predictions.extend(np.argmax(pred) for pred in preds.predictions)\n",
    "    elapsed = time.perf_counter() - start\n",
    "    print(f'{elapsed:0.5f} seconds')\n",
    "    return predictions"
   ]
  },
  {
   "cell_type": "code",
   "execution_count": 84,
   "id": "0faacadf-cff2-4bba-a046-5bdc97e1250a",
   "metadata": {},
   "outputs": [
    {
     "name": "stdout",
     "output_type": "stream",
     "text": [
      "14.41081 seconds\n"
     ]
    }
   ],
   "source": [
    "predictions = syncPredictions()"
   ]
  },
  {
   "cell_type": "code",
   "execution_count": 85,
   "id": "4a2c3335-c1de-4b17-b59e-a521a3c1b1e5",
   "metadata": {},
   "outputs": [
    {
     "name": "stdout",
     "output_type": "stream",
     "text": [
      "13.90619 seconds\n"
     ]
    }
   ],
   "source": [
    "predictions = syncPredictions(1)"
   ]
  },
  {
   "cell_type": "code",
   "execution_count": 86,
   "id": "42f938bd-81f1-4b57-8ab0-4c87db661af1",
   "metadata": {},
   "outputs": [
    {
     "name": "stdout",
     "output_type": "stream",
     "text": [
      "13.85071 seconds\n"
     ]
    }
   ],
   "source": [
    "predictions = syncPredictions(batch_size = 1)"
   ]
  },
  {
   "cell_type": "code",
   "execution_count": 87,
   "id": "f90f8190-cd4b-4246-993d-2fc030415bdc",
   "metadata": {},
   "outputs": [
    {
     "name": "stdout",
     "output_type": "stream",
     "text": [
      "7.12938 seconds\n"
     ]
    }
   ],
   "source": [
    "predictions = syncPredictions(batch_size = 2)"
   ]
  },
  {
   "cell_type": "code",
   "execution_count": 88,
   "id": "18dfda1f-5c9c-4d7e-aca2-4692656afa13",
   "metadata": {},
   "outputs": [
    {
     "name": "stdout",
     "output_type": "stream",
     "text": [
      "1.71058 seconds\n"
     ]
    }
   ],
   "source": [
    "predictions = syncPredictions(batch_size = 10)"
   ]
  },
  {
   "cell_type": "code",
   "execution_count": 89,
   "id": "0b80748a-cf26-4b76-a200-8247a691275a",
   "metadata": {},
   "outputs": [
    {
     "data": {
      "text/plain": [
       "Counter({0: 998, 1: 2})"
      ]
     },
     "execution_count": 89,
     "metadata": {},
     "output_type": "execute_result"
    }
   ],
   "source": [
    "from collections import Counter\n",
    "c = Counter(predictions)\n",
    "c"
   ]
  },
  {
   "cell_type": "code",
   "execution_count": 90,
   "id": "ef8bc8bf-67cf-47d1-82ba-de6eb0e027aa",
   "metadata": {},
   "outputs": [
    {
     "data": {
      "text/plain": [
       "[53, 576]"
      ]
     },
     "execution_count": 90,
     "metadata": {},
     "output_type": "execute_result"
    }
   ],
   "source": [
    "[i for i, j in enumerate(predictions) if j == 1]"
   ]
  },
  {
   "cell_type": "code",
   "execution_count": 91,
   "id": "84207f7d-22cf-49ec-bf8c-36da3a3416e7",
   "metadata": {},
   "outputs": [
    {
     "data": {
      "text/html": [
       "<div>\n",
       "<style scoped>\n",
       "    .dataframe tbody tr th:only-of-type {\n",
       "        vertical-align: middle;\n",
       "    }\n",
       "\n",
       "    .dataframe tbody tr th {\n",
       "        vertical-align: top;\n",
       "    }\n",
       "\n",
       "    .dataframe thead th {\n",
       "        text-align: right;\n",
       "    }\n",
       "</style>\n",
       "<table border=\"1\" class=\"dataframe\">\n",
       "  <thead>\n",
       "    <tr style=\"text-align: right;\">\n",
       "      <th></th>\n",
       "      <th>Time</th>\n",
       "      <th>V1</th>\n",
       "      <th>V2</th>\n",
       "      <th>V3</th>\n",
       "      <th>V4</th>\n",
       "      <th>V5</th>\n",
       "      <th>V6</th>\n",
       "      <th>V7</th>\n",
       "      <th>V8</th>\n",
       "      <th>V9</th>\n",
       "      <th>...</th>\n",
       "      <th>V23</th>\n",
       "      <th>V24</th>\n",
       "      <th>V25</th>\n",
       "      <th>V26</th>\n",
       "      <th>V27</th>\n",
       "      <th>V28</th>\n",
       "      <th>Amount</th>\n",
       "      <th>Class</th>\n",
       "      <th>transaction_id</th>\n",
       "      <th>splits</th>\n",
       "    </tr>\n",
       "  </thead>\n",
       "  <tbody>\n",
       "    <tr>\n",
       "      <th>53</th>\n",
       "      <td>85285</td>\n",
       "      <td>-7.030308</td>\n",
       "      <td>3.421991</td>\n",
       "      <td>-9.525072</td>\n",
       "      <td>5.270891</td>\n",
       "      <td>-4.024630</td>\n",
       "      <td>-2.865682</td>\n",
       "      <td>-6.989195</td>\n",
       "      <td>3.791551</td>\n",
       "      <td>-4.622730</td>\n",
       "      <td>...</td>\n",
       "      <td>0.036943</td>\n",
       "      <td>-0.355519</td>\n",
       "      <td>0.353634</td>\n",
       "      <td>1.042458</td>\n",
       "      <td>1.359516</td>\n",
       "      <td>-0.272188</td>\n",
       "      <td>0.0</td>\n",
       "      <td>1</td>\n",
       "      <td>0a3b566f-e662-4cd0-b702-99299890cb0f</td>\n",
       "      <td>TEST</td>\n",
       "    </tr>\n",
       "    <tr>\n",
       "      <th>576</th>\n",
       "      <td>56887</td>\n",
       "      <td>-0.075483</td>\n",
       "      <td>1.812355</td>\n",
       "      <td>-2.566981</td>\n",
       "      <td>4.127549</td>\n",
       "      <td>-1.628532</td>\n",
       "      <td>-0.805895</td>\n",
       "      <td>-3.390135</td>\n",
       "      <td>1.019353</td>\n",
       "      <td>-2.451251</td>\n",
       "      <td>...</td>\n",
       "      <td>-0.143624</td>\n",
       "      <td>0.013566</td>\n",
       "      <td>0.634203</td>\n",
       "      <td>0.213693</td>\n",
       "      <td>0.773625</td>\n",
       "      <td>0.387434</td>\n",
       "      <td>5.0</td>\n",
       "      <td>1</td>\n",
       "      <td>e17f6ee4-8dd8-4a38-9f51-e1bbf1e1aa2a</td>\n",
       "      <td>TEST</td>\n",
       "    </tr>\n",
       "  </tbody>\n",
       "</table>\n",
       "<p>2 rows × 33 columns</p>\n",
       "</div>"
      ],
      "text/plain": [
       "      Time        V1        V2        V3        V4        V5        V6  \\\n",
       "53   85285 -7.030308  3.421991 -9.525072  5.270891 -4.024630 -2.865682   \n",
       "576  56887 -0.075483  1.812355 -2.566981  4.127549 -1.628532 -0.805895   \n",
       "\n",
       "           V7        V8        V9  ...       V23       V24       V25  \\\n",
       "53  -6.989195  3.791551 -4.622730  ...  0.036943 -0.355519  0.353634   \n",
       "576 -3.390135  1.019353 -2.451251  ... -0.143624  0.013566  0.634203   \n",
       "\n",
       "          V26       V27       V28  Amount  Class  \\\n",
       "53   1.042458  1.359516 -0.272188     0.0      1   \n",
       "576  0.213693  0.773625  0.387434     5.0      1   \n",
       "\n",
       "                           transaction_id  splits  \n",
       "53   0a3b566f-e662-4cd0-b702-99299890cb0f    TEST  \n",
       "576  e17f6ee4-8dd8-4a38-9f51-e1bbf1e1aa2a    TEST  \n",
       "\n",
       "[2 rows x 33 columns]"
      ]
     },
     "execution_count": 91,
     "metadata": {},
     "output_type": "execute_result"
    }
   ],
   "source": [
    "pred.iloc[[i for i, j in enumerate(predictions) if j == 1]]"
   ]
  },
  {
   "cell_type": "markdown",
   "id": "fc999db6-ee50-4990-81fb-351c2659715e",
   "metadata": {},
   "source": [
    "---\n",
    "## Online Predictions: Asynchronous Examples\n",
    "Use asyncio for concurrent request of different batch sizes"
   ]
  },
  {
   "cell_type": "code",
   "execution_count": 92,
   "id": "aa33157b-88af-4136-90e2-73f0ab38f54a",
   "metadata": {},
   "outputs": [],
   "source": [
    "from google.cloud import aiplatform_v1\n",
    "\n",
    "client_options = {\"api_endpoint\": f\"{REGION}-aiplatform.googleapis.com\"}\n",
    "parent = f\"projects/{PROJECT_ID}/locations/{REGION}\"\n",
    "\n",
    "client = aiplatform_v1.PredictionServiceAsyncClient(client_options = client_options)"
   ]
  },
  {
   "cell_type": "code",
   "execution_count": 93,
   "id": "9743851a-851a-4bec-aee9-8462705e20af",
   "metadata": {},
   "outputs": [
    {
     "data": {
      "text/plain": [
       "'projects/1026793852137/locations/us-central1/endpoints/4573537362990071808'"
      ]
     },
     "execution_count": 93,
     "metadata": {},
     "output_type": "execute_result"
    }
   ],
   "source": [
    "endpoint.resource_name"
   ]
  },
  {
   "cell_type": "code",
   "execution_count": 94,
   "id": "6ba2772c-95b4-4a7d-8604-0e77cd1a729e",
   "metadata": {},
   "outputs": [],
   "source": [
    "instances = [json_format.ParseDict(newobs[0], Value())]"
   ]
  },
  {
   "cell_type": "code",
   "execution_count": 95,
   "id": "9b79ec03-6373-49cd-b159-7765e993f836",
   "metadata": {},
   "outputs": [
    {
     "data": {
      "text/plain": [
       "predictions {\n",
       "  list_value {\n",
       "    values {\n",
       "      number_value: 0.999786437\n",
       "    }\n",
       "    values {\n",
       "      number_value: 0.00021360183\n",
       "    }\n",
       "  }\n",
       "}\n",
       "deployed_model_id: \"7361102804611497984\"\n",
       "model: \"projects/1026793852137/locations/us-central1/models/model_05c_fraud\"\n",
       "model_display_name: \"05c_fraud\"\n",
       "model_version_id: \"1\""
      ]
     },
     "execution_count": 95,
     "metadata": {},
     "output_type": "execute_result"
    }
   ],
   "source": [
    "await client.predict(endpoint = endpoint.resource_name, instances = instances)"
   ]
  },
  {
   "cell_type": "code",
   "execution_count": 96,
   "id": "fc30113c-a399-43b3-a4f3-df525d007dca",
   "metadata": {},
   "outputs": [],
   "source": [
    "async def asyncPredictions(batch_size = 1, concur_requests = 100):\n",
    "    limit = asyncio.Semaphore(concur_requests)\n",
    "\n",
    "    predictions = [None] * len(newobs)\n",
    "\n",
    "    async def predictor(p, newob):\n",
    "        instances = [json_format.ParseDict(example, Value()) for example in newob]\n",
    "        async with limit:\n",
    "            prediction = await client.predict(endpoint = endpoint.resource_name, instances = instances)\n",
    "            if limit.locked():\n",
    "                await asyncio.sleep(.01)\n",
    "\n",
    "        predictions[p:p+batch_size] = [np.argmax(pred) for pred in prediction.predictions]\n",
    "\n",
    "    async def runner(newobs):\n",
    "        tasks = []\n",
    "        for p in range(0, len(newobs), batch_size):\n",
    "            task = asyncio.create_task(predictor(p, newobs[p:p+batch_size]))\n",
    "            tasks.append(task)\n",
    "\n",
    "        results = await asyncio.gather(*tasks)\n",
    "\n",
    "    start = time.perf_counter()\n",
    "    await runner(newobs)\n",
    "    elapsed = time.perf_counter() - start\n",
    "    print(f'{elapsed:0.5f} seconds')\n",
    "    \n",
    "    return predictions"
   ]
  },
  {
   "cell_type": "code",
   "execution_count": 99,
   "id": "04b94ff4-fd0d-4095-bd88-ac436c94212c",
   "metadata": {},
   "outputs": [
    {
     "name": "stdout",
     "output_type": "stream",
     "text": [
      "0.89793 seconds\n"
     ]
    }
   ],
   "source": [
    "# may need to run a second time - the initial ramp can throw an error\n",
    "predictions = await asyncPredictions()"
   ]
  },
  {
   "cell_type": "code",
   "execution_count": 100,
   "id": "1010bde2-c5a4-4b15-83f6-27f1e244e40d",
   "metadata": {},
   "outputs": [
    {
     "name": "stdout",
     "output_type": "stream",
     "text": [
      "0.90359 seconds\n"
     ]
    }
   ],
   "source": [
    "predictions = await asyncPredictions(1, 100)"
   ]
  },
  {
   "cell_type": "code",
   "execution_count": 101,
   "id": "7369488a-9daf-4f25-b66d-e1925c33f093",
   "metadata": {},
   "outputs": [
    {
     "name": "stdout",
     "output_type": "stream",
     "text": [
      "1.06988 seconds\n"
     ]
    }
   ],
   "source": [
    "predictions = await asyncPredictions(batch_size = 1, concur_requests = 100)"
   ]
  },
  {
   "cell_type": "code",
   "execution_count": 102,
   "id": "002f0ca5-b7e7-4e9a-ba38-d70309d57653",
   "metadata": {},
   "outputs": [
    {
     "name": "stdout",
     "output_type": "stream",
     "text": [
      "0.56022 seconds\n"
     ]
    }
   ],
   "source": [
    "predictions = await asyncPredictions(batch_size = 2, concur_requests = 100)"
   ]
  },
  {
   "cell_type": "code",
   "execution_count": 103,
   "id": "b2bf6bc2-23e7-45ec-b172-e7e3b9e37644",
   "metadata": {},
   "outputs": [
    {
     "name": "stdout",
     "output_type": "stream",
     "text": [
      "0.27755 seconds\n"
     ]
    }
   ],
   "source": [
    "predictions = await asyncPredictions(batch_size = 10, concur_requests = 100)"
   ]
  },
  {
   "cell_type": "code",
   "execution_count": 104,
   "id": "a2fa24db-9697-44c5-b815-328923154327",
   "metadata": {},
   "outputs": [
    {
     "data": {
      "text/plain": [
       "1000"
      ]
     },
     "execution_count": 104,
     "metadata": {},
     "output_type": "execute_result"
    }
   ],
   "source": [
    "len(predictions)"
   ]
  },
  {
   "cell_type": "code",
   "execution_count": 105,
   "id": "9d2a9a26-ec62-4186-881c-dfc6cf06f968",
   "metadata": {},
   "outputs": [
    {
     "data": {
      "text/plain": [
       "Counter({0: 998, 1: 2})"
      ]
     },
     "execution_count": 105,
     "metadata": {},
     "output_type": "execute_result"
    }
   ],
   "source": [
    "from collections import Counter\n",
    "c = Counter(predictions)\n",
    "c"
   ]
  },
  {
   "cell_type": "code",
   "execution_count": 106,
   "id": "ad4f5b68-df87-4102-babe-4134022a33db",
   "metadata": {},
   "outputs": [
    {
     "data": {
      "text/plain": [
       "[53, 576]"
      ]
     },
     "execution_count": 106,
     "metadata": {},
     "output_type": "execute_result"
    }
   ],
   "source": [
    "[i for i, j in enumerate(predictions) if j == 1]"
   ]
  },
  {
   "cell_type": "code",
   "execution_count": 107,
   "id": "7228a8a1-97c2-4739-861b-00cf252ce038",
   "metadata": {},
   "outputs": [
    {
     "data": {
      "text/html": [
       "<div>\n",
       "<style scoped>\n",
       "    .dataframe tbody tr th:only-of-type {\n",
       "        vertical-align: middle;\n",
       "    }\n",
       "\n",
       "    .dataframe tbody tr th {\n",
       "        vertical-align: top;\n",
       "    }\n",
       "\n",
       "    .dataframe thead th {\n",
       "        text-align: right;\n",
       "    }\n",
       "</style>\n",
       "<table border=\"1\" class=\"dataframe\">\n",
       "  <thead>\n",
       "    <tr style=\"text-align: right;\">\n",
       "      <th></th>\n",
       "      <th>Time</th>\n",
       "      <th>V1</th>\n",
       "      <th>V2</th>\n",
       "      <th>V3</th>\n",
       "      <th>V4</th>\n",
       "      <th>V5</th>\n",
       "      <th>V6</th>\n",
       "      <th>V7</th>\n",
       "      <th>V8</th>\n",
       "      <th>V9</th>\n",
       "      <th>...</th>\n",
       "      <th>V23</th>\n",
       "      <th>V24</th>\n",
       "      <th>V25</th>\n",
       "      <th>V26</th>\n",
       "      <th>V27</th>\n",
       "      <th>V28</th>\n",
       "      <th>Amount</th>\n",
       "      <th>Class</th>\n",
       "      <th>transaction_id</th>\n",
       "      <th>splits</th>\n",
       "    </tr>\n",
       "  </thead>\n",
       "  <tbody>\n",
       "    <tr>\n",
       "      <th>53</th>\n",
       "      <td>85285</td>\n",
       "      <td>-7.030308</td>\n",
       "      <td>3.421991</td>\n",
       "      <td>-9.525072</td>\n",
       "      <td>5.270891</td>\n",
       "      <td>-4.024630</td>\n",
       "      <td>-2.865682</td>\n",
       "      <td>-6.989195</td>\n",
       "      <td>3.791551</td>\n",
       "      <td>-4.622730</td>\n",
       "      <td>...</td>\n",
       "      <td>0.036943</td>\n",
       "      <td>-0.355519</td>\n",
       "      <td>0.353634</td>\n",
       "      <td>1.042458</td>\n",
       "      <td>1.359516</td>\n",
       "      <td>-0.272188</td>\n",
       "      <td>0.0</td>\n",
       "      <td>1</td>\n",
       "      <td>0a3b566f-e662-4cd0-b702-99299890cb0f</td>\n",
       "      <td>TEST</td>\n",
       "    </tr>\n",
       "    <tr>\n",
       "      <th>576</th>\n",
       "      <td>56887</td>\n",
       "      <td>-0.075483</td>\n",
       "      <td>1.812355</td>\n",
       "      <td>-2.566981</td>\n",
       "      <td>4.127549</td>\n",
       "      <td>-1.628532</td>\n",
       "      <td>-0.805895</td>\n",
       "      <td>-3.390135</td>\n",
       "      <td>1.019353</td>\n",
       "      <td>-2.451251</td>\n",
       "      <td>...</td>\n",
       "      <td>-0.143624</td>\n",
       "      <td>0.013566</td>\n",
       "      <td>0.634203</td>\n",
       "      <td>0.213693</td>\n",
       "      <td>0.773625</td>\n",
       "      <td>0.387434</td>\n",
       "      <td>5.0</td>\n",
       "      <td>1</td>\n",
       "      <td>e17f6ee4-8dd8-4a38-9f51-e1bbf1e1aa2a</td>\n",
       "      <td>TEST</td>\n",
       "    </tr>\n",
       "  </tbody>\n",
       "</table>\n",
       "<p>2 rows × 33 columns</p>\n",
       "</div>"
      ],
      "text/plain": [
       "      Time        V1        V2        V3        V4        V5        V6  \\\n",
       "53   85285 -7.030308  3.421991 -9.525072  5.270891 -4.024630 -2.865682   \n",
       "576  56887 -0.075483  1.812355 -2.566981  4.127549 -1.628532 -0.805895   \n",
       "\n",
       "           V7        V8        V9  ...       V23       V24       V25  \\\n",
       "53  -6.989195  3.791551 -4.622730  ...  0.036943 -0.355519  0.353634   \n",
       "576 -3.390135  1.019353 -2.451251  ... -0.143624  0.013566  0.634203   \n",
       "\n",
       "          V26       V27       V28  Amount  Class  \\\n",
       "53   1.042458  1.359516 -0.272188     0.0      1   \n",
       "576  0.213693  0.773625  0.387434     5.0      1   \n",
       "\n",
       "                           transaction_id  splits  \n",
       "53   0a3b566f-e662-4cd0-b702-99299890cb0f    TEST  \n",
       "576  e17f6ee4-8dd8-4a38-9f51-e1bbf1e1aa2a    TEST  \n",
       "\n",
       "[2 rows x 33 columns]"
      ]
     },
     "execution_count": 107,
     "metadata": {},
     "output_type": "execute_result"
    }
   ],
   "source": [
    "pred.iloc[[i for i, j in enumerate(predictions) if j == 1]]"
   ]
  },
  {
   "cell_type": "markdown",
   "id": "f5266346-b9d1-4da8-ada4-9741c1f31147",
   "metadata": {},
   "source": [
    "---\n",
    "## Vertex AI Batch Prediction Jobs\n",
    "\n",
    "Create a [Vertex AI Batch Predictions](https://cloud.google.com/vertex-ai/docs/predictions/batch-predictions#aiplatform_batch_predict_custom_trained-python) Job in one of these ways:\n",
    "- Directly with [aiplatform.BatchPredictionJob.create()](https://cloud.google.com/python/docs/reference/aiplatform/latest/google.cloud.aiplatform.BatchPredictionJob)\n",
    "- From a Model with [aiplatform.Model.batch_predict()](https://cloud.google.com/python/docs/reference/aiplatform/latest/google.cloud.aiplatform.Model#google_cloud_aiplatform_Model_batch_predict)\n",
    "- From JobServiceClient with [aiplatform_v1.JobServiceClient.create_batch_prediction_job()](https://cloud.google.com/python/docs/reference/aiplatform/latest/google.cloud.aiplatform_v1.services.job_service.JobServiceClient#google_cloud_aiplatform_v1_services_job_service_JobServiceClient_create_batch_prediction_job)\n",
    "- From JobServiceClient with [aiplatform_v1beta1.JobServiceClient.create_batch_prediction_job()](https://cloud.google.com/python/docs/reference/aiplatform/latest/google.cloud.aiplatform_v1beta1.services.job_service.JobServiceClient#google_cloud_aiplatform_v1beta1_services_job_service_JobServiceClient_create_batch_prediction_job)"
   ]
  },
  {
   "cell_type": "markdown",
   "id": "e203317e-4a8c-454f-a0d0-bc4a795662c8",
   "metadata": {},
   "source": [
    "### Model Information\n",
    "Using the model on the endpoint selected at the top of this notebook:"
   ]
  },
  {
   "cell_type": "code",
   "execution_count": 108,
   "id": "36bd4b53-5fe2-4637-b453-f8310a74e28a",
   "metadata": {},
   "outputs": [
    {
     "data": {
      "text/plain": [
       "<google.cloud.aiplatform.models.Endpoint object at 0x7f7cc87c64d0> \n",
       "resource name: projects/1026793852137/locations/us-central1/endpoints/4573537362990071808"
      ]
     },
     "execution_count": 108,
     "metadata": {},
     "output_type": "execute_result"
    }
   ],
   "source": [
    "endpoint"
   ]
  },
  {
   "cell_type": "code",
   "execution_count": 109,
   "id": "ef970951-084f-424a-ac96-125c2cce8ae4",
   "metadata": {},
   "outputs": [
    {
     "data": {
      "text/plain": [
       "id: \"7361102804611497984\"\n",
       "model: \"projects/1026793852137/locations/us-central1/models/model_05c_fraud\"\n",
       "display_name: \"05c_fraud\"\n",
       "create_time {\n",
       "  seconds: 1661532514\n",
       "  nanos: 298407000\n",
       "}\n",
       "dedicated_resources {\n",
       "  machine_spec {\n",
       "    machine_type: \"n1-standard-4\"\n",
       "  }\n",
       "  min_replica_count: 1\n",
       "  max_replica_count: 1\n",
       "}\n",
       "model_version_id: \"1\""
      ]
     },
     "execution_count": 109,
     "metadata": {},
     "output_type": "execute_result"
    }
   ],
   "source": [
    "endpoint.list_models()[0]"
   ]
  },
  {
   "cell_type": "code",
   "execution_count": 110,
   "id": "45583e2d-25ec-45c9-82c5-7c29b5b88306",
   "metadata": {},
   "outputs": [],
   "source": [
    "model = aiplatform.Model(\n",
    "    model_name = endpoint.list_models()[0].model+f'@{endpoint.list_models()[0].model_version_id}'\n",
    ")"
   ]
  },
  {
   "cell_type": "code",
   "execution_count": 111,
   "id": "259b9fbe-cfdf-4699-a541-b2879b5974a7",
   "metadata": {},
   "outputs": [
    {
     "data": {
      "text/plain": [
       "'05c_fraud'"
      ]
     },
     "execution_count": 111,
     "metadata": {},
     "output_type": "execute_result"
    }
   ],
   "source": [
    "model.display_name"
   ]
  },
  {
   "cell_type": "code",
   "execution_count": 112,
   "id": "1fd106b1-e996-40c8-a72b-7613422e7b8a",
   "metadata": {},
   "outputs": [
    {
     "data": {
      "text/plain": [
       "'projects/1026793852137/locations/us-central1/models/model_05c_fraud'"
      ]
     },
     "execution_count": 112,
     "metadata": {},
     "output_type": "execute_result"
    }
   ],
   "source": [
    "model.resource_name"
   ]
  },
  {
   "cell_type": "code",
   "execution_count": 113,
   "id": "7e590cf7-71df-41dc-b160-222a36b3242c",
   "metadata": {},
   "outputs": [
    {
     "data": {
      "text/plain": [
       "'1'"
      ]
     },
     "execution_count": 113,
     "metadata": {},
     "output_type": "execute_result"
    }
   ],
   "source": [
    "model.version_id"
   ]
  },
  {
   "cell_type": "code",
   "execution_count": 114,
   "id": "30001de0-f318-4421-99fe-01caa1fe3ad2",
   "metadata": {},
   "outputs": [
    {
     "data": {
      "text/plain": [
       "'run-20220826163231'"
      ]
     },
     "execution_count": 114,
     "metadata": {},
     "output_type": "execute_result"
    }
   ],
   "source": [
    "model.version_description"
   ]
  },
  {
   "cell_type": "code",
   "execution_count": 115,
   "id": "8c64794a-858f-44b2-8b43-2320922caa9c",
   "metadata": {},
   "outputs": [
    {
     "data": {
      "text/plain": [
       "'projects/1026793852137/locations/us-central1/models/model_05c_fraud@1'"
      ]
     },
     "execution_count": 115,
     "metadata": {},
     "output_type": "execute_result"
    }
   ],
   "source": [
    "model.versioned_resource_name"
   ]
  },
  {
   "cell_type": "code",
   "execution_count": 116,
   "id": "573ca290-bdfe-4f51-9680-e2580a6b1c18",
   "metadata": {},
   "outputs": [
    {
     "data": {
      "text/plain": [
       "['jsonl', 'bigquery', 'csv', 'tf-record', 'tf-record-gzip', 'file-list']"
      ]
     },
     "execution_count": 116,
     "metadata": {},
     "output_type": "execute_result"
    }
   ],
   "source": [
    "model.supported_input_storage_formats"
   ]
  },
  {
   "cell_type": "markdown",
   "id": "1d1ce58b-f1e1-4341-b076-c106923c9a3a",
   "metadata": {},
   "source": [
    "#### Using aiplatform_v1 Model Client\n",
    "It may also be helpful to try the [ModelServiceClient](https://cloud.google.com/python/docs/reference/aiplatform/latest/google.cloud.aiplatform_v1.services.model_service.ModelServiceClient) to review the model attributes.  Here is example code for trying this:"
   ]
  },
  {
   "cell_type": "code",
   "execution_count": 117,
   "id": "d2ab68d0-1464-46d7-9808-f9428739ea08",
   "metadata": {},
   "outputs": [
    {
     "data": {
      "text/plain": [
       "name: \"projects/1026793852137/locations/us-central1/models/model_05c_fraud@1\"\n",
       "display_name: \"05c_fraud\"\n",
       "predict_schemata {\n",
       "}\n",
       "metadata {\n",
       "}\n",
       "container_spec {\n",
       "  image_uri: \"us-docker.pkg.dev/vertex-ai/prediction/tf2-cpu.2-7:latest\"\n",
       "}\n",
       "supported_deployment_resources_types: DEDICATED_RESOURCES\n",
       "supported_deployment_resources_types: 3\n",
       "supported_input_storage_formats: \"jsonl\"\n",
       "supported_input_storage_formats: \"bigquery\"\n",
       "supported_input_storage_formats: \"csv\"\n",
       "supported_input_storage_formats: \"tf-record\"\n",
       "supported_input_storage_formats: \"tf-record-gzip\"\n",
       "supported_input_storage_formats: \"file-list\"\n",
       "supported_output_storage_formats: \"jsonl\"\n",
       "supported_output_storage_formats: \"bigquery\"\n",
       "create_time {\n",
       "  seconds: 1661532461\n",
       "  nanos: 38868000\n",
       "}\n",
       "update_time {\n",
       "  seconds: 1661532464\n",
       "  nanos: 330883000\n",
       "}\n",
       "deployed_models {\n",
       "  endpoint: \"projects/1026793852137/locations/us-central1/endpoints/4573537362990071808\"\n",
       "  deployed_model_id: \"7361102804611497984\"\n",
       "}\n",
       "etag: \"AMEw9yNxmAyJ8myw53JShZyTpxgjVBU6QS2k0s_qZrePJ7rDsFzZddh7vBy5u3elTqYp\"\n",
       "labels {\n",
       "  key: \"experiment\"\n",
       "  value: \"05c\"\n",
       "}\n",
       "labels {\n",
       "  key: \"experiment_name\"\n",
       "  value: \"experiment-05-05c-tf-classification-dnn\"\n",
       "}\n",
       "labels {\n",
       "  key: \"run_name\"\n",
       "  value: \"run-20220826163231\"\n",
       "}\n",
       "labels {\n",
       "  key: \"series\"\n",
       "  value: \"05\"\n",
       "}\n",
       "supported_export_formats {\n",
       "  id: \"custom-trained\"\n",
       "  exportable_contents: ARTIFACT\n",
       "}\n",
       "artifact_uri: \"gs://statmike-mlops-349915/fraud/models/05/05c/20220826163231/model\"\n",
       "version_id: \"1\"\n",
       "version_aliases: \"run-20220826163231\"\n",
       "version_aliases: \"default\"\n",
       "version_description: \"run-20220826163231\"\n",
       "version_create_time {\n",
       "  seconds: 1661532461\n",
       "  nanos: 38868000\n",
       "}\n",
       "version_update_time {\n",
       "  seconds: 1661532464\n",
       "  nanos: 330883000\n",
       "}"
      ]
     },
     "execution_count": 117,
     "metadata": {},
     "output_type": "execute_result"
    }
   ],
   "source": [
    "from google.cloud import aiplatform_v1\n",
    "\n",
    "client_options = {\"api_endpoint\": f\"{REGION}-aiplatform.googleapis.com\"}\n",
    "v1_clients = {}\n",
    "v1_clients['Model'] = aiplatform_v1.ModelServiceClient(client_options = client_options)\n",
    "\n",
    "model_v1 = v1_clients['Model'].get_model(\n",
    "    name = model.versioned_resource_name\n",
    ")\n",
    "model_v1"
   ]
  },
  {
   "cell_type": "markdown",
   "id": "7062cade-cbb9-4c2f-a8e3-014647ef0d30",
   "metadata": {},
   "source": [
    "### Batch Prediction Job With JSONL\n",
    "This process will export a BigQuery table to JSONL, use a Vertex AI Batch Prediction Job to create predictions, then import the result into BigQuery"
   ]
  },
  {
   "cell_type": "markdown",
   "id": "34b77d2c-bd59-47d2-84bf-5e52eb068807",
   "metadata": {},
   "source": [
    "#### BigQuery Extract To JSONL in GCS\n",
    "The Batch Prediction job will validate the provided JSONL to the model and will not accept additional columns.  It is also important to note that when BigQuery exports to JSONL it wraps INT64 values in qoutes which makes them appear as strings.  For this reason, I first cast the INT64 columns to FLOAT64 before exporting."
   ]
  },
  {
   "cell_type": "code",
   "execution_count": 120,
   "id": "4e299fbb-7dbd-43ea-a43c-1a4a04a9f325",
   "metadata": {},
   "outputs": [
    {
     "data": {
      "text/plain": [
       "<google.cloud.bigquery.table._EmptyRowIterator at 0x7f7c3eb39450>"
      ]
     },
     "execution_count": 120,
     "metadata": {},
     "output_type": "execute_result"
    }
   ],
   "source": [
    "# Exports to JSON appear to wrap INT64 types in qoutes\n",
    "job = bq.query(\n",
    "    query = f\"\"\"\n",
    "        CREATE OR REPLACE TABLE `{BQ_PROJECT}.{BQ_DATASET}.{BQ_TABLE}_json` AS\n",
    "            SELECT * EXCEPT(Time, Class, transaction_id, splits), CAST(Time AS FLOAT64) AS Time\n",
    "            FROM `{BQ_PROJECT}.{BQ_DATASET}.{BQ_TABLE}`\n",
    "    \"\"\"\n",
    ")\n",
    "job.result()"
   ]
  },
  {
   "cell_type": "code",
   "execution_count": 122,
   "id": "0bd7d4a4-6bdb-4871-803d-3c67b5030871",
   "metadata": {},
   "outputs": [],
   "source": [
    "ds = bigquery.DatasetReference(BQ_PROJECT, BQ_DATASET)\n",
    "tb = ds.table(f'{BQ_TABLE}_json')\n",
    "extractJob = bq.extract_table(\n",
    "    source = tb,\n",
    "    destination_uris = [f'gs://{PROJECT_ID}/{BQ_DATASET}/data/jsonl/{BQ_TABLE}.json'],\n",
    "    job_config = bigquery.job.ExtractJobConfig(destination_format = bigquery.DestinationFormat.NEWLINE_DELIMITED_JSON)\n",
    ")"
   ]
  },
  {
   "cell_type": "code",
   "execution_count": 123,
   "id": "6daa8adb-a8d4-42a3-8919-158b81d0f740",
   "metadata": {},
   "outputs": [
    {
     "data": {
      "text/plain": [
       "ExtractJob<project=statmike-mlops-349915, location=us-central1, id=a2a9e0ea-9876-4c5c-ac35-36bd25a15a06>"
      ]
     },
     "execution_count": 123,
     "metadata": {},
     "output_type": "execute_result"
    }
   ],
   "source": [
    "extractJob.result()"
   ]
  },
  {
   "cell_type": "markdown",
   "id": "bd458294-ade8-4eb4-9686-76953b8ae3a6",
   "metadata": {},
   "source": [
    "#### Batch Prediction Job"
   ]
  },
  {
   "cell_type": "code",
   "execution_count": 124,
   "id": "af8d8fc9-e4c8-441f-97ee-75cd1f91ef20",
   "metadata": {},
   "outputs": [
    {
     "data": {
      "text/plain": [
       "{'run_name': 'run-20220826163231',\n",
       " 'experiment': '05c',\n",
       " 'series': '05',\n",
       " 'experiment_name': 'experiment-05-05c-tf-classification-dnn'}"
      ]
     },
     "execution_count": 124,
     "metadata": {},
     "output_type": "execute_result"
    }
   ],
   "source": [
    "model.labels"
   ]
  },
  {
   "cell_type": "code",
   "execution_count": 125,
   "id": "f8a98e59-43b2-413e-86de-20b0f28327dc",
   "metadata": {},
   "outputs": [
    {
     "name": "stdout",
     "output_type": "stream",
     "text": [
      "Creating BatchPredictionJob\n"
     ]
    },
    {
     "name": "stderr",
     "output_type": "stream",
     "text": [
      "INFO:google.cloud.aiplatform.jobs:Creating BatchPredictionJob\n"
     ]
    },
    {
     "name": "stdout",
     "output_type": "stream",
     "text": [
      "BatchPredictionJob created. Resource name: projects/1026793852137/locations/us-central1/batchPredictionJobs/6048971191668965376\n"
     ]
    },
    {
     "name": "stderr",
     "output_type": "stream",
     "text": [
      "INFO:google.cloud.aiplatform.jobs:BatchPredictionJob created. Resource name: projects/1026793852137/locations/us-central1/batchPredictionJobs/6048971191668965376\n"
     ]
    },
    {
     "name": "stdout",
     "output_type": "stream",
     "text": [
      "To use this BatchPredictionJob in another session:\n"
     ]
    },
    {
     "name": "stderr",
     "output_type": "stream",
     "text": [
      "INFO:google.cloud.aiplatform.jobs:To use this BatchPredictionJob in another session:\n"
     ]
    },
    {
     "name": "stdout",
     "output_type": "stream",
     "text": [
      "bpj = aiplatform.BatchPredictionJob('projects/1026793852137/locations/us-central1/batchPredictionJobs/6048971191668965376')\n"
     ]
    },
    {
     "name": "stderr",
     "output_type": "stream",
     "text": [
      "INFO:google.cloud.aiplatform.jobs:bpj = aiplatform.BatchPredictionJob('projects/1026793852137/locations/us-central1/batchPredictionJobs/6048971191668965376')\n"
     ]
    },
    {
     "name": "stdout",
     "output_type": "stream",
     "text": [
      "View Batch Prediction Job:\n",
      "https://console.cloud.google.com/ai/platform/locations/us-central1/batch-predictions/6048971191668965376?project=1026793852137\n"
     ]
    },
    {
     "name": "stderr",
     "output_type": "stream",
     "text": [
      "INFO:google.cloud.aiplatform.jobs:View Batch Prediction Job:\n",
      "https://console.cloud.google.com/ai/platform/locations/us-central1/batch-predictions/6048971191668965376?project=1026793852137\n"
     ]
    }
   ],
   "source": [
    "TIMESTAMP = datetime.now().strftime(\"%Y%m%d%H%M%S\")\n",
    "batchJob = aiplatform.BatchPredictionJob.create(\n",
    "    job_display_name = f'{SERIES}_{BQ_DATASET}_{TIMESTAMP}',\n",
    "    model_name = model.versioned_resource_name,\n",
    "    labels = model.labels,\n",
    "    instances_format = 'jsonl',\n",
    "    predictions_format = 'jsonl',\n",
    "    gcs_source = f'gs://{PROJECT_ID}/{BQ_DATASET}/data/jsonl/{BQ_TABLE}.json',\n",
    "    gcs_destination_prefix = f'gs://{PROJECT_ID}/{BQ_DATASET}/data/jsonl/predictions_{TIMESTAMP}',\n",
    "    machine_type = 'n1-standard-8', #DEPLOY_COMPUTE,\n",
    "    accelerator_count = 0,\n",
    "    starting_replica_count = 1,\n",
    "    max_replica_count = 10,\n",
    "    batch_size = 1000,\n",
    "    sync = False #if True the call will wait for the job to complete\n",
    ")"
   ]
  },
  {
   "cell_type": "code",
   "execution_count": 126,
   "id": "eb5e471a-c035-4352-a406-87e16c794e23",
   "metadata": {
    "scrolled": true,
    "tags": []
   },
   "outputs": [
    {
     "name": "stdout",
     "output_type": "stream",
     "text": [
      "BatchPredictionJob projects/1026793852137/locations/us-central1/batchPredictionJobs/6048971191668965376 current state:\n",
      "JobState.JOB_STATE_RUNNING\n"
     ]
    },
    {
     "name": "stderr",
     "output_type": "stream",
     "text": [
      "INFO:google.cloud.aiplatform.jobs:BatchPredictionJob projects/1026793852137/locations/us-central1/batchPredictionJobs/6048971191668965376 current state:\n",
      "JobState.JOB_STATE_RUNNING\n"
     ]
    },
    {
     "name": "stdout",
     "output_type": "stream",
     "text": [
      "BatchPredictionJob projects/1026793852137/locations/us-central1/batchPredictionJobs/6048971191668965376 current state:\n",
      "JobState.JOB_STATE_RUNNING\n"
     ]
    },
    {
     "name": "stderr",
     "output_type": "stream",
     "text": [
      "INFO:google.cloud.aiplatform.jobs:BatchPredictionJob projects/1026793852137/locations/us-central1/batchPredictionJobs/6048971191668965376 current state:\n",
      "JobState.JOB_STATE_RUNNING\n"
     ]
    },
    {
     "name": "stdout",
     "output_type": "stream",
     "text": [
      "BatchPredictionJob projects/1026793852137/locations/us-central1/batchPredictionJobs/6048971191668965376 current state:\n",
      "JobState.JOB_STATE_RUNNING\n"
     ]
    },
    {
     "name": "stderr",
     "output_type": "stream",
     "text": [
      "INFO:google.cloud.aiplatform.jobs:BatchPredictionJob projects/1026793852137/locations/us-central1/batchPredictionJobs/6048971191668965376 current state:\n",
      "JobState.JOB_STATE_RUNNING\n"
     ]
    },
    {
     "name": "stdout",
     "output_type": "stream",
     "text": [
      "BatchPredictionJob projects/1026793852137/locations/us-central1/batchPredictionJobs/6048971191668965376 current state:\n",
      "JobState.JOB_STATE_RUNNING\n"
     ]
    },
    {
     "name": "stderr",
     "output_type": "stream",
     "text": [
      "INFO:google.cloud.aiplatform.jobs:BatchPredictionJob projects/1026793852137/locations/us-central1/batchPredictionJobs/6048971191668965376 current state:\n",
      "JobState.JOB_STATE_RUNNING\n"
     ]
    },
    {
     "name": "stdout",
     "output_type": "stream",
     "text": [
      "BatchPredictionJob projects/1026793852137/locations/us-central1/batchPredictionJobs/6048971191668965376 current state:\n",
      "JobState.JOB_STATE_RUNNING\n"
     ]
    },
    {
     "name": "stderr",
     "output_type": "stream",
     "text": [
      "INFO:google.cloud.aiplatform.jobs:BatchPredictionJob projects/1026793852137/locations/us-central1/batchPredictionJobs/6048971191668965376 current state:\n",
      "JobState.JOB_STATE_RUNNING\n"
     ]
    },
    {
     "name": "stdout",
     "output_type": "stream",
     "text": [
      "BatchPredictionJob projects/1026793852137/locations/us-central1/batchPredictionJobs/6048971191668965376 current state:\n",
      "JobState.JOB_STATE_RUNNING\n"
     ]
    },
    {
     "name": "stderr",
     "output_type": "stream",
     "text": [
      "INFO:google.cloud.aiplatform.jobs:BatchPredictionJob projects/1026793852137/locations/us-central1/batchPredictionJobs/6048971191668965376 current state:\n",
      "JobState.JOB_STATE_RUNNING\n"
     ]
    },
    {
     "name": "stdout",
     "output_type": "stream",
     "text": [
      "BatchPredictionJob projects/1026793852137/locations/us-central1/batchPredictionJobs/6048971191668965376 current state:\n",
      "JobState.JOB_STATE_RUNNING\n"
     ]
    },
    {
     "name": "stderr",
     "output_type": "stream",
     "text": [
      "INFO:google.cloud.aiplatform.jobs:BatchPredictionJob projects/1026793852137/locations/us-central1/batchPredictionJobs/6048971191668965376 current state:\n",
      "JobState.JOB_STATE_RUNNING\n"
     ]
    },
    {
     "name": "stdout",
     "output_type": "stream",
     "text": [
      "BatchPredictionJob projects/1026793852137/locations/us-central1/batchPredictionJobs/6048971191668965376 current state:\n",
      "JobState.JOB_STATE_RUNNING\n"
     ]
    },
    {
     "name": "stderr",
     "output_type": "stream",
     "text": [
      "INFO:google.cloud.aiplatform.jobs:BatchPredictionJob projects/1026793852137/locations/us-central1/batchPredictionJobs/6048971191668965376 current state:\n",
      "JobState.JOB_STATE_RUNNING\n"
     ]
    },
    {
     "name": "stdout",
     "output_type": "stream",
     "text": [
      "BatchPredictionJob projects/1026793852137/locations/us-central1/batchPredictionJobs/6048971191668965376 current state:\n",
      "JobState.JOB_STATE_RUNNING\n"
     ]
    },
    {
     "name": "stderr",
     "output_type": "stream",
     "text": [
      "INFO:google.cloud.aiplatform.jobs:BatchPredictionJob projects/1026793852137/locations/us-central1/batchPredictionJobs/6048971191668965376 current state:\n",
      "JobState.JOB_STATE_RUNNING\n"
     ]
    },
    {
     "name": "stdout",
     "output_type": "stream",
     "text": [
      "BatchPredictionJob projects/1026793852137/locations/us-central1/batchPredictionJobs/6048971191668965376 current state:\n",
      "JobState.JOB_STATE_SUCCEEDED\n"
     ]
    },
    {
     "name": "stderr",
     "output_type": "stream",
     "text": [
      "INFO:google.cloud.aiplatform.jobs:BatchPredictionJob projects/1026793852137/locations/us-central1/batchPredictionJobs/6048971191668965376 current state:\n",
      "JobState.JOB_STATE_SUCCEEDED\n"
     ]
    },
    {
     "name": "stdout",
     "output_type": "stream",
     "text": [
      "BatchPredictionJob run completed. Resource name: projects/1026793852137/locations/us-central1/batchPredictionJobs/6048971191668965376\n"
     ]
    },
    {
     "name": "stderr",
     "output_type": "stream",
     "text": [
      "INFO:google.cloud.aiplatform.jobs:BatchPredictionJob run completed. Resource name: projects/1026793852137/locations/us-central1/batchPredictionJobs/6048971191668965376\n"
     ]
    }
   ],
   "source": [
    "batchJob.wait()"
   ]
  },
  {
   "cell_type": "markdown",
   "id": "f98f4ff8-3e34-4166-aec2-8187638a3f59",
   "metadata": {},
   "source": [
    "#### Predictions > BigQuery"
   ]
  },
  {
   "cell_type": "code",
   "execution_count": 127,
   "id": "0702654a-ec7f-491e-b59d-5226f839a5b0",
   "metadata": {},
   "outputs": [
    {
     "data": {
      "text/plain": [
       "'gs://statmike-mlops-349915/fraud/data/jsonl/predictions_20220826203142/prediction-05c_fraud-2022_08_26T13_31_42_421Z'"
      ]
     },
     "execution_count": 127,
     "metadata": {},
     "output_type": "execute_result"
    }
   ],
   "source": [
    "batchJob.output_info.gcs_output_directory"
   ]
  },
  {
   "cell_type": "code",
   "execution_count": 128,
   "id": "c8d61614-0419-4917-bf11-256775b1266e",
   "metadata": {},
   "outputs": [],
   "source": [
    "job_config = bigquery.LoadJobConfig(\n",
    "    source_format = bigquery.SourceFormat.NEWLINE_DELIMITED_JSON,\n",
    "    write_disposition = bigquery.WriteDisposition.WRITE_TRUNCATE, #.WRITE_APPEND, #.WRITE_TRUNCATE,\n",
    "    create_disposition = bigquery.CreateDisposition.CREATE_IF_NEEDED,\n",
    "    autodetect = True\n",
    ")"
   ]
  },
  {
   "cell_type": "code",
   "execution_count": 129,
   "id": "e7a6dedb-4179-4573-8992-8175a02e80ea",
   "metadata": {},
   "outputs": [
    {
     "data": {
      "text/plain": [
       "LoadJob<project=statmike-mlops-349915, location=us-central1, id=94ce2692-3e14-473f-9590-8b6b69b0f1c9>"
      ]
     },
     "execution_count": 129,
     "metadata": {},
     "output_type": "execute_result"
    }
   ],
   "source": [
    "tb = ds.table(f'{BQ_TABLE}_predictions_{TIMESTAMP}')\n",
    "load_job = bq.load_table_from_uri(\n",
    "    source_uris = f\"{batchJob.output_info.gcs_output_directory}/*\",\n",
    "    destination = tb,\n",
    "    job_config = job_config\n",
    ")\n",
    "load_job.result()"
   ]
  },
  {
   "cell_type": "code",
   "execution_count": 130,
   "id": "d10a5d98-e253-460d-b05b-a9226b58770e",
   "metadata": {},
   "outputs": [
    {
     "data": {
      "text/plain": [
       "<google.cloud.bigquery.table._EmptyRowIterator at 0x7f7c3c3fcbd0>"
      ]
     },
     "execution_count": 130,
     "metadata": {},
     "output_type": "execute_result"
    }
   ],
   "source": [
    "job = bq.query(\n",
    "    query = f\"\"\"\n",
    "        CREATE OR REPLACE TABLE `{BQ_PROJECT}.{BQ_DATASET}.{BQ_TABLE}_predictions_{TIMESTAMP}` AS\n",
    "            SELECT instance.*, confidence, predicted_Class\n",
    "            FROM `{BQ_PROJECT}.{BQ_DATASET}.{BQ_TABLE}_predictions_{TIMESTAMP}`\n",
    "            CROSS JOIN\n",
    "            UNNEST(prediction) as confidence WITH OFFSET predicted_Class\n",
    "            WHERE confidence > 0.5\n",
    "    \"\"\"\n",
    ")\n",
    "job.result()"
   ]
  },
  {
   "cell_type": "code",
   "execution_count": 132,
   "id": "fc1e4ef5-96d6-47c7-9d7f-c4929eefaf5d",
   "metadata": {},
   "outputs": [
    {
     "data": {
      "text/html": [
       "<div>\n",
       "<style scoped>\n",
       "    .dataframe tbody tr th:only-of-type {\n",
       "        vertical-align: middle;\n",
       "    }\n",
       "\n",
       "    .dataframe tbody tr th {\n",
       "        vertical-align: top;\n",
       "    }\n",
       "\n",
       "    .dataframe thead th {\n",
       "        text-align: right;\n",
       "    }\n",
       "</style>\n",
       "<table border=\"1\" class=\"dataframe\">\n",
       "  <thead>\n",
       "    <tr style=\"text-align: right;\">\n",
       "      <th></th>\n",
       "      <th>Time</th>\n",
       "      <th>Amount</th>\n",
       "      <th>V28</th>\n",
       "      <th>V27</th>\n",
       "      <th>V25</th>\n",
       "      <th>V23</th>\n",
       "      <th>V22</th>\n",
       "      <th>V13</th>\n",
       "      <th>V20</th>\n",
       "      <th>V18</th>\n",
       "      <th>...</th>\n",
       "      <th>V14</th>\n",
       "      <th>V8</th>\n",
       "      <th>V19</th>\n",
       "      <th>V11</th>\n",
       "      <th>V6</th>\n",
       "      <th>V21</th>\n",
       "      <th>V4</th>\n",
       "      <th>V1</th>\n",
       "      <th>confidence</th>\n",
       "      <th>predicted_Class</th>\n",
       "    </tr>\n",
       "  </thead>\n",
       "  <tbody>\n",
       "    <tr>\n",
       "      <th>0</th>\n",
       "      <td>145155</td>\n",
       "      <td>0.0</td>\n",
       "      <td>-0.226410</td>\n",
       "      <td>-0.231012</td>\n",
       "      <td>0.283880</td>\n",
       "      <td>-0.447339</td>\n",
       "      <td>0.911485</td>\n",
       "      <td>-3.390399</td>\n",
       "      <td>-0.338020</td>\n",
       "      <td>-0.296251</td>\n",
       "      <td>...</td>\n",
       "      <td>1.134348</td>\n",
       "      <td>-0.616646</td>\n",
       "      <td>-0.241413</td>\n",
       "      <td>-1.383635</td>\n",
       "      <td>-1.737663</td>\n",
       "      <td>0.266611</td>\n",
       "      <td>-0.425378</td>\n",
       "      <td>0.271642</td>\n",
       "      <td>0.999989</td>\n",
       "      <td>0</td>\n",
       "    </tr>\n",
       "    <tr>\n",
       "      <th>1</th>\n",
       "      <td>30507</td>\n",
       "      <td>0.0</td>\n",
       "      <td>0.025494</td>\n",
       "      <td>0.065072</td>\n",
       "      <td>0.605360</td>\n",
       "      <td>-0.182292</td>\n",
       "      <td>0.346758</td>\n",
       "      <td>-0.184433</td>\n",
       "      <td>-0.145886</td>\n",
       "      <td>0.524842</td>\n",
       "      <td>...</td>\n",
       "      <td>-0.228832</td>\n",
       "      <td>0.145367</td>\n",
       "      <td>-0.165017</td>\n",
       "      <td>-1.534203</td>\n",
       "      <td>0.200168</td>\n",
       "      <td>0.060312</td>\n",
       "      <td>1.199715</td>\n",
       "      <td>1.235995</td>\n",
       "      <td>0.999728</td>\n",
       "      <td>0</td>\n",
       "    </tr>\n",
       "    <tr>\n",
       "      <th>2</th>\n",
       "      <td>64585</td>\n",
       "      <td>0.0</td>\n",
       "      <td>0.063238</td>\n",
       "      <td>0.027043</td>\n",
       "      <td>0.400300</td>\n",
       "      <td>-0.053692</td>\n",
       "      <td>-0.057036</td>\n",
       "      <td>-1.191306</td>\n",
       "      <td>-0.172659</td>\n",
       "      <td>1.026317</td>\n",
       "      <td>...</td>\n",
       "      <td>-1.880275</td>\n",
       "      <td>0.176170</td>\n",
       "      <td>-1.577070</td>\n",
       "      <td>2.140057</td>\n",
       "      <td>-0.320778</td>\n",
       "      <td>-0.008996</td>\n",
       "      <td>2.743318</td>\n",
       "      <td>1.080433</td>\n",
       "      <td>0.941189</td>\n",
       "      <td>0</td>\n",
       "    </tr>\n",
       "    <tr>\n",
       "      <th>3</th>\n",
       "      <td>32799</td>\n",
       "      <td>0.0</td>\n",
       "      <td>0.035332</td>\n",
       "      <td>0.060115</td>\n",
       "      <td>0.417245</td>\n",
       "      <td>-0.025964</td>\n",
       "      <td>0.480049</td>\n",
       "      <td>-1.365634</td>\n",
       "      <td>-0.245686</td>\n",
       "      <td>0.265599</td>\n",
       "      <td>...</td>\n",
       "      <td>0.035306</td>\n",
       "      <td>0.128115</td>\n",
       "      <td>-0.597020</td>\n",
       "      <td>-0.659895</td>\n",
       "      <td>-0.481690</td>\n",
       "      <td>0.125514</td>\n",
       "      <td>1.480620</td>\n",
       "      <td>1.153477</td>\n",
       "      <td>0.999822</td>\n",
       "      <td>0</td>\n",
       "    </tr>\n",
       "    <tr>\n",
       "      <th>4</th>\n",
       "      <td>145014</td>\n",
       "      <td>0.0</td>\n",
       "      <td>0.071346</td>\n",
       "      <td>0.194401</td>\n",
       "      <td>0.319797</td>\n",
       "      <td>-0.208977</td>\n",
       "      <td>0.855684</td>\n",
       "      <td>0.883790</td>\n",
       "      <td>0.243722</td>\n",
       "      <td>1.008516</td>\n",
       "      <td>...</td>\n",
       "      <td>-0.754661</td>\n",
       "      <td>1.636713</td>\n",
       "      <td>1.926909</td>\n",
       "      <td>-0.745086</td>\n",
       "      <td>2.356677</td>\n",
       "      <td>0.143207</td>\n",
       "      <td>4.663185</td>\n",
       "      <td>-1.708039</td>\n",
       "      <td>0.999976</td>\n",
       "      <td>0</td>\n",
       "    </tr>\n",
       "  </tbody>\n",
       "</table>\n",
       "<p>5 rows × 32 columns</p>\n",
       "</div>"
      ],
      "text/plain": [
       "     Time  Amount       V28       V27       V25       V23       V22       V13  \\\n",
       "0  145155     0.0 -0.226410 -0.231012  0.283880 -0.447339  0.911485 -3.390399   \n",
       "1   30507     0.0  0.025494  0.065072  0.605360 -0.182292  0.346758 -0.184433   \n",
       "2   64585     0.0  0.063238  0.027043  0.400300 -0.053692 -0.057036 -1.191306   \n",
       "3   32799     0.0  0.035332  0.060115  0.417245 -0.025964  0.480049 -1.365634   \n",
       "4  145014     0.0  0.071346  0.194401  0.319797 -0.208977  0.855684  0.883790   \n",
       "\n",
       "        V20       V18  ...       V14        V8       V19       V11        V6  \\\n",
       "0 -0.338020 -0.296251  ...  1.134348 -0.616646 -0.241413 -1.383635 -1.737663   \n",
       "1 -0.145886  0.524842  ... -0.228832  0.145367 -0.165017 -1.534203  0.200168   \n",
       "2 -0.172659  1.026317  ... -1.880275  0.176170 -1.577070  2.140057 -0.320778   \n",
       "3 -0.245686  0.265599  ...  0.035306  0.128115 -0.597020 -0.659895 -0.481690   \n",
       "4  0.243722  1.008516  ... -0.754661  1.636713  1.926909 -0.745086  2.356677   \n",
       "\n",
       "        V21        V4        V1  confidence  predicted_Class  \n",
       "0  0.266611 -0.425378  0.271642    0.999989                0  \n",
       "1  0.060312  1.199715  1.235995    0.999728                0  \n",
       "2 -0.008996  2.743318  1.080433    0.941189                0  \n",
       "3  0.125514  1.480620  1.153477    0.999822                0  \n",
       "4  0.143207  4.663185 -1.708039    0.999976                0  \n",
       "\n",
       "[5 rows x 32 columns]"
      ]
     },
     "execution_count": 132,
     "metadata": {},
     "output_type": "execute_result"
    }
   ],
   "source": [
    "bq.query(query = f\"SELECT * FROM `{BQ_PROJECT}.{BQ_DATASET}.{BQ_TABLE}_predictions_{TIMESTAMP}` LIMIT 5\").to_dataframe()"
   ]
  },
  {
   "cell_type": "markdown",
   "id": "9b9390eb-805d-4b81-837a-051c8222da37",
   "metadata": {},
   "source": [
    "### Example With aiplatform_v1.JobServiceClient.create_batch_prediction_job()\n",
    "This shows how to use the aiplatform_v1 Python client to create a batch prediction job.\n",
    "\n",
    "```python\n",
    "from google.cloud import aiplatform_v1\n",
    "\n",
    "client_options = {\"api_endpoint\": f\"{REGION}-aiplatform.googleapis.com\"}\n",
    "v1_clients['Jobs'] = aiplatform_v1.JobServiceClient(client_options = client_options)\n",
    "\n",
    "TIMESTAMP = datetime.now().strftime(\"%Y%m%d%H%M%S\")\n",
    "batchJobSpec = aiplatform_v1.BatchPredictionJob()\n",
    "batchJobSpec.display_name = f'{SERIES}_{BQ_DATASET}_{TIMESTAMP}'\n",
    "batchJobSpec.model = model.versioned_resource_name\n",
    "batchJobSpec.input_config.instances_format = 'bigquery'\n",
    "batchJobSpec.input_config.bigquery_source.input_uri = f'bq://{BQ_PROJECT}.{BQ_DATASET}.{BQ_TABLE}'\n",
    "batchJobSpec.output_config.predictions_format = 'bigquery'\n",
    "batchJobSpec.output_config.bigquery_destination.output_uri = f'bq://{BQ_PROJECT}.{BQ_DATASET}' #.predictions_{TIMESTAMP}\n",
    "batchJobSpec.dedicated_resources.machine_spec.machine_type = DEPLOY_COMPUTE\n",
    "batchJobSpec.dedicated_resources.machine_spec.accelerator_count = 0\n",
    "batchJobSpec.dedicated_resources.starting_replica_count = 1\n",
    "batchJobSpec.dedicated_resources.max_replica_count = 10\n",
    "batchJobSpec.manual_batch_tuning_parameters.batch_size = 100\n",
    "batchJobSpec\n",
    "\n",
    "batchJob = v1_client.create_batch_prediction_job(\n",
    "    parent = parent,\n",
    "    batch_prediction_job = batchJobSpec\n",
    ")\n",
    "batchJob\n",
    "```"
   ]
  },
  {
   "cell_type": "markdown",
   "id": "5c05ed4b-62ef-432b-8ba6-7133aa98e680",
   "metadata": {},
   "source": [
    "### Example With aiplatform.BatchPredictionJob.create()\n",
    "\n",
    "```python\n",
    "TIMESTAMP = datetime.now().strftime(\"%Y%m%d%H%M%S\")\n",
    "batchJob = aiplatform.BatchPredictionJob.create(\n",
    "    job_display_name = f'{SERIES}_{BQ_DATASET}_{TIMESTAMP}',\n",
    "    model_name = model.versioned_resource_name,\n",
    "    bigquery_source= f'bq://{BQ_PROJECT}.{BQ_DATASET}.{BQ_TABLE}',\n",
    "    bigquery_destination_prefix= f'bq://{BQ_PROJECT}.{BQ_DATASET}',\n",
    "    machine_type = DEPLOY_COMPUTE,\n",
    "    accelerator_count = 0,\n",
    "    starting_replica_count = 1,\n",
    "    max_replica_count = 2,\n",
    "    batch_size = 100,\n",
    "    sync = False #if True the call will wait for the job to complete\n",
    ")\n",
    "batchJob.wait()\n",
    "```"
   ]
  },
  {
   "cell_type": "markdown",
   "id": "26bbe0bc-49c4-4e2f-8ac7-83cc4d031f4f",
   "metadata": {},
   "source": [
    "### Example With aiplatform.Model.batch_predict()\n",
    "\n",
    "```python\n",
    "TIMESTAMP = datetime.now().strftime(\"%Y%m%d%H%M%S\")\n",
    "batchJob = model.batch_predict(\n",
    "    job_display_name = f'{SERIES}_{BQ_DATASET}_{TIMESTAMP}',\n",
    "    bigquery_source= f'bq://{BQ_PROJECT}.{BQ_DATASET}.{BQ_TABLE}',\n",
    "    instances_format = \"bigquery\",\n",
    "    bigquery_destination_prefix= f'bq://{BQ_PROJECT}.{BQ_DATASET}',\n",
    "    predictions_format = \"bigquery\",\n",
    "    machine_type = DEPLOY_COMPUTE,\n",
    "    accelerator_count = 0,\n",
    "    starting_replica_count = 1,\n",
    "    max_replica_count = 10,\n",
    "    batch_size = 100,\n",
    "    sync = False #if True the call will wait for the job to complete\n",
    ")\n",
    "batchJob.wait()\n",
    "```"
   ]
  },
  {
   "cell_type": "markdown",
   "id": "3f8d80dc-2a33-47ba-b816-dab67a1fd100",
   "metadata": {},
   "source": [
    "---\n",
    "## Batch Predictions: BigQuery ML\n",
    "\n",
    "Load a model to BigQuery and use BQML to create predictions.  Need the URI of TensorFlow model."
   ]
  },
  {
   "cell_type": "markdown",
   "id": "06e29f29-8efd-490d-b3da-158d506117e3",
   "metadata": {},
   "source": [
    "### Model Information\n",
    "Using the model on the endpoint selected at the top of this notebook:"
   ]
  },
  {
   "cell_type": "code",
   "execution_count": 133,
   "id": "0a26b6f7-a132-433b-8496-83a099f29fe3",
   "metadata": {},
   "outputs": [
    {
     "data": {
      "text/plain": [
       "id: \"261177992061911040\"\n",
       "model: \"projects/1026793852137/locations/us-central1/models/model_05h_fraud\"\n",
       "display_name: \"05h_fraud\"\n",
       "create_time {\n",
       "  seconds: 1661546709\n",
       "  nanos: 108896000\n",
       "}\n",
       "dedicated_resources {\n",
       "  machine_spec {\n",
       "    machine_type: \"n1-standard-4\"\n",
       "  }\n",
       "  min_replica_count: 1\n",
       "  max_replica_count: 1\n",
       "}\n",
       "model_version_id: \"1\""
      ]
     },
     "execution_count": 133,
     "metadata": {},
     "output_type": "execute_result"
    }
   ],
   "source": [
    "endpoint.list_models()[0]"
   ]
  },
  {
   "cell_type": "code",
   "execution_count": 134,
   "id": "179ae734-bcaa-43ed-902b-a5cb54b5df0c",
   "metadata": {},
   "outputs": [],
   "source": [
    "model = aiplatform.Model(\n",
    "    model_name = endpoint.list_models()[0].model+f'@{endpoint.list_models()[0].model_version_id}'\n",
    ")"
   ]
  },
  {
   "cell_type": "code",
   "execution_count": 135,
   "id": "1ef19d0e-0855-4941-893f-bd9511c504f1",
   "metadata": {},
   "outputs": [
    {
     "data": {
      "text/plain": [
       "'05h_fraud'"
      ]
     },
     "execution_count": 135,
     "metadata": {},
     "output_type": "execute_result"
    }
   ],
   "source": [
    "model.display_name"
   ]
  },
  {
   "cell_type": "code",
   "execution_count": 136,
   "id": "662f6179-5d5f-454e-a133-e0e052095acc",
   "metadata": {},
   "outputs": [
    {
     "data": {
      "text/plain": [
       "'projects/1026793852137/locations/us-central1/models/model_05h_fraud'"
      ]
     },
     "execution_count": 136,
     "metadata": {},
     "output_type": "execute_result"
    }
   ],
   "source": [
    "model.resource_name"
   ]
  },
  {
   "cell_type": "code",
   "execution_count": 137,
   "id": "2edfac29-ca52-4ec1-9625-9a0b36aa27bf",
   "metadata": {},
   "outputs": [
    {
     "data": {
      "text/plain": [
       "'1'"
      ]
     },
     "execution_count": 137,
     "metadata": {},
     "output_type": "execute_result"
    }
   ],
   "source": [
    "model.version_id"
   ]
  },
  {
   "cell_type": "code",
   "execution_count": 138,
   "id": "f9612ac5-e86f-4727-a0ec-56910e4375c5",
   "metadata": {},
   "outputs": [
    {
     "data": {
      "text/plain": [
       "'run-20220826194057-3'"
      ]
     },
     "execution_count": 138,
     "metadata": {},
     "output_type": "execute_result"
    }
   ],
   "source": [
    "model.version_description"
   ]
  },
  {
   "cell_type": "code",
   "execution_count": 139,
   "id": "6e9bd20c-362b-4a55-b9a6-d81635ac0ef8",
   "metadata": {},
   "outputs": [
    {
     "data": {
      "text/plain": [
       "'projects/1026793852137/locations/us-central1/models/model_05h_fraud@1'"
      ]
     },
     "execution_count": 139,
     "metadata": {},
     "output_type": "execute_result"
    }
   ],
   "source": [
    "model.versioned_resource_name"
   ]
  },
  {
   "cell_type": "code",
   "execution_count": 140,
   "id": "bae13e77-6944-4668-8367-8f992fabc811",
   "metadata": {},
   "outputs": [
    {
     "data": {
      "text/plain": [
       "'gs://statmike-mlops-349915/fraud/models/05/05h/20220826194057/3/model'"
      ]
     },
     "execution_count": 140,
     "metadata": {},
     "output_type": "execute_result"
    }
   ],
   "source": [
    "model.uri"
   ]
  },
  {
   "cell_type": "code",
   "execution_count": 141,
   "id": "4b8c3ad3-5307-4e66-940a-0c00d975ffb7",
   "metadata": {},
   "outputs": [
    {
     "data": {
      "text/plain": [
       "'model_05h_fraud'"
      ]
     },
     "execution_count": 141,
     "metadata": {},
     "output_type": "execute_result"
    }
   ],
   "source": [
    "model.name"
   ]
  },
  {
   "cell_type": "markdown",
   "id": "7e1e0252-2965-4dac-93b4-ba1b023d0c6d",
   "metadata": {},
   "source": [
    "### Import Model Into BigQuery"
   ]
  },
  {
   "cell_type": "code",
   "execution_count": 142,
   "id": "70448119-e4c3-484e-a595-73e38e689117",
   "metadata": {},
   "outputs": [],
   "source": [
    "query = f'''\n",
    "CREATE OR REPLACE MODEL `{BQ_PROJECT}.{BQ_DATASET}.{model.name}`\n",
    "    OPTIONS(\n",
    "        MODEL_TYPE = 'TENSORFLOW',\n",
    "        MODEL_PATH = '{model.uri}/*')\n",
    "'''"
   ]
  },
  {
   "cell_type": "code",
   "execution_count": 143,
   "id": "657c073c-0c1b-4ef9-b5be-b1be7e765f4e",
   "metadata": {},
   "outputs": [
    {
     "name": "stdout",
     "output_type": "stream",
     "text": [
      "\n",
      "CREATE OR REPLACE MODEL `statmike-mlops-349915.fraud.model_05h_fraud`\n",
      "    OPTIONS(\n",
      "        MODEL_TYPE = 'TENSORFLOW',\n",
      "        MODEL_PATH = 'gs://statmike-mlops-349915/fraud/models/05/05h/20220826194057/3/model/*')\n",
      "\n"
     ]
    }
   ],
   "source": [
    "print(query)"
   ]
  },
  {
   "cell_type": "code",
   "execution_count": 144,
   "id": "a2515237-3702-461a-ba0b-2a1eaa17fc59",
   "metadata": {},
   "outputs": [
    {
     "data": {
      "text/plain": [
       "3.252"
      ]
     },
     "execution_count": 144,
     "metadata": {},
     "output_type": "execute_result"
    }
   ],
   "source": [
    "job = bq.query(query = query)\n",
    "job.result()\n",
    "(job.ended-job.started).total_seconds()"
   ]
  },
  {
   "cell_type": "markdown",
   "id": "caa1d1d0-c8dd-4ab3-968d-f5cdcb7180d6",
   "metadata": {},
   "source": [
    "### Generate Predictions With BigQuery (ML.Predict)"
   ]
  },
  {
   "cell_type": "code",
   "execution_count": 145,
   "id": "cfb1efc5-670f-417e-b763-9706b06159a3",
   "metadata": {},
   "outputs": [
    {
     "data": {
      "text/html": [
       "<div>\n",
       "<style scoped>\n",
       "    .dataframe tbody tr th:only-of-type {\n",
       "        vertical-align: middle;\n",
       "    }\n",
       "\n",
       "    .dataframe tbody tr th {\n",
       "        vertical-align: top;\n",
       "    }\n",
       "\n",
       "    .dataframe thead th {\n",
       "        text-align: right;\n",
       "    }\n",
       "</style>\n",
       "<table border=\"1\" class=\"dataframe\">\n",
       "  <thead>\n",
       "    <tr style=\"text-align: right;\">\n",
       "      <th></th>\n",
       "      <th>prediction_layer</th>\n",
       "      <th>Time</th>\n",
       "      <th>V1</th>\n",
       "      <th>V2</th>\n",
       "      <th>V3</th>\n",
       "      <th>V4</th>\n",
       "      <th>V5</th>\n",
       "      <th>V6</th>\n",
       "      <th>V7</th>\n",
       "      <th>V8</th>\n",
       "      <th>...</th>\n",
       "      <th>V23</th>\n",
       "      <th>V24</th>\n",
       "      <th>V25</th>\n",
       "      <th>V26</th>\n",
       "      <th>V27</th>\n",
       "      <th>V28</th>\n",
       "      <th>Amount</th>\n",
       "      <th>Class</th>\n",
       "      <th>transaction_id</th>\n",
       "      <th>splits</th>\n",
       "    </tr>\n",
       "  </thead>\n",
       "  <tbody>\n",
       "    <tr>\n",
       "      <th>0</th>\n",
       "      <td>[5.436737865238683e-06, 0.9999944567680359]</td>\n",
       "      <td>85285</td>\n",
       "      <td>-7.030308</td>\n",
       "      <td>3.421991</td>\n",
       "      <td>-9.525072</td>\n",
       "      <td>5.270891</td>\n",
       "      <td>-4.024630</td>\n",
       "      <td>-2.865682</td>\n",
       "      <td>-6.989195</td>\n",
       "      <td>3.791551</td>\n",
       "      <td>...</td>\n",
       "      <td>0.036943</td>\n",
       "      <td>-0.355519</td>\n",
       "      <td>0.353634</td>\n",
       "      <td>1.042458</td>\n",
       "      <td>1.359516</td>\n",
       "      <td>-0.272188</td>\n",
       "      <td>0.0</td>\n",
       "      <td>1</td>\n",
       "      <td>0a3b566f-e662-4cd0-b702-99299890cb0f</td>\n",
       "      <td>TEST</td>\n",
       "    </tr>\n",
       "    <tr>\n",
       "      <th>1</th>\n",
       "      <td>[0.017139235511422157, 0.9828606843948364]</td>\n",
       "      <td>56887</td>\n",
       "      <td>-0.075483</td>\n",
       "      <td>1.812355</td>\n",
       "      <td>-2.566981</td>\n",
       "      <td>4.127549</td>\n",
       "      <td>-1.628532</td>\n",
       "      <td>-0.805895</td>\n",
       "      <td>-3.390135</td>\n",
       "      <td>1.019353</td>\n",
       "      <td>...</td>\n",
       "      <td>-0.143624</td>\n",
       "      <td>0.013566</td>\n",
       "      <td>0.634203</td>\n",
       "      <td>0.213693</td>\n",
       "      <td>0.773625</td>\n",
       "      <td>0.387434</td>\n",
       "      <td>5.0</td>\n",
       "      <td>1</td>\n",
       "      <td>e17f6ee4-8dd8-4a38-9f51-e1bbf1e1aa2a</td>\n",
       "      <td>TEST</td>\n",
       "    </tr>\n",
       "    <tr>\n",
       "      <th>2</th>\n",
       "      <td>[0.0003428384952712804, 0.9996570944786072]</td>\n",
       "      <td>43369</td>\n",
       "      <td>-3.365319</td>\n",
       "      <td>2.426503</td>\n",
       "      <td>-3.752227</td>\n",
       "      <td>0.276017</td>\n",
       "      <td>-2.305870</td>\n",
       "      <td>-1.961578</td>\n",
       "      <td>-3.029283</td>\n",
       "      <td>-1.674462</td>\n",
       "      <td>...</td>\n",
       "      <td>-0.248502</td>\n",
       "      <td>0.126550</td>\n",
       "      <td>0.104166</td>\n",
       "      <td>-1.055997</td>\n",
       "      <td>-1.200165</td>\n",
       "      <td>-1.012066</td>\n",
       "      <td>88.0</td>\n",
       "      <td>1</td>\n",
       "      <td>125e7617-a79a-468f-af1b-f184544347f4</td>\n",
       "      <td>TEST</td>\n",
       "    </tr>\n",
       "    <tr>\n",
       "      <th>3</th>\n",
       "      <td>[0.0043426500633358955, 0.9956573247909546]</td>\n",
       "      <td>143354</td>\n",
       "      <td>1.118331</td>\n",
       "      <td>2.074439</td>\n",
       "      <td>-3.837518</td>\n",
       "      <td>5.448060</td>\n",
       "      <td>0.071816</td>\n",
       "      <td>-1.020509</td>\n",
       "      <td>-1.808574</td>\n",
       "      <td>0.521744</td>\n",
       "      <td>...</td>\n",
       "      <td>-0.021910</td>\n",
       "      <td>-0.376560</td>\n",
       "      <td>0.192817</td>\n",
       "      <td>0.114107</td>\n",
       "      <td>0.500996</td>\n",
       "      <td>0.259533</td>\n",
       "      <td>1.0</td>\n",
       "      <td>1</td>\n",
       "      <td>17e4d066-124e-4a22-84fb-40b8b3456adf</td>\n",
       "      <td>TEST</td>\n",
       "    </tr>\n",
       "    <tr>\n",
       "      <th>4</th>\n",
       "      <td>[5.201393287279643e-05, 0.9999479651451111]</td>\n",
       "      <td>93888</td>\n",
       "      <td>-10.040631</td>\n",
       "      <td>6.139183</td>\n",
       "      <td>-12.972972</td>\n",
       "      <td>7.740555</td>\n",
       "      <td>-8.684705</td>\n",
       "      <td>-3.837429</td>\n",
       "      <td>-11.907702</td>\n",
       "      <td>5.833273</td>\n",
       "      <td>...</td>\n",
       "      <td>-0.567343</td>\n",
       "      <td>0.843012</td>\n",
       "      <td>0.549938</td>\n",
       "      <td>0.113892</td>\n",
       "      <td>-0.307375</td>\n",
       "      <td>0.061631</td>\n",
       "      <td>1.0</td>\n",
       "      <td>1</td>\n",
       "      <td>0a4e27c9-89e7-4588-86fd-70790cb3d45f</td>\n",
       "      <td>TEST</td>\n",
       "    </tr>\n",
       "    <tr>\n",
       "      <th>5</th>\n",
       "      <td>[1.7808358165893878e-07, 0.9999998211860657]</td>\n",
       "      <td>20332</td>\n",
       "      <td>-15.271362</td>\n",
       "      <td>8.326581</td>\n",
       "      <td>-22.338591</td>\n",
       "      <td>11.885313</td>\n",
       "      <td>-8.721334</td>\n",
       "      <td>-2.324307</td>\n",
       "      <td>-16.196419</td>\n",
       "      <td>0.512882</td>\n",
       "      <td>...</td>\n",
       "      <td>1.085617</td>\n",
       "      <td>-1.039797</td>\n",
       "      <td>-0.182006</td>\n",
       "      <td>0.649921</td>\n",
       "      <td>2.149247</td>\n",
       "      <td>-1.406811</td>\n",
       "      <td>1.0</td>\n",
       "      <td>1</td>\n",
       "      <td>5810b45a-602e-4113-b675-a0dcccaed0d5</td>\n",
       "      <td>TEST</td>\n",
       "    </tr>\n",
       "    <tr>\n",
       "      <th>6</th>\n",
       "      <td>[0.0026680349837988615, 0.9973319172859192]</td>\n",
       "      <td>7551</td>\n",
       "      <td>0.316459</td>\n",
       "      <td>3.809076</td>\n",
       "      <td>-5.615159</td>\n",
       "      <td>6.047445</td>\n",
       "      <td>1.554026</td>\n",
       "      <td>-2.651353</td>\n",
       "      <td>-0.746579</td>\n",
       "      <td>0.055586</td>\n",
       "      <td>...</td>\n",
       "      <td>-0.583813</td>\n",
       "      <td>-0.219845</td>\n",
       "      <td>1.474753</td>\n",
       "      <td>0.491192</td>\n",
       "      <td>0.518868</td>\n",
       "      <td>0.402528</td>\n",
       "      <td>1.0</td>\n",
       "      <td>1</td>\n",
       "      <td>2e70bcc4-4a04-44c5-82c1-5ee6061196c5</td>\n",
       "      <td>TEST</td>\n",
       "    </tr>\n",
       "    <tr>\n",
       "      <th>7</th>\n",
       "      <td>[2.383835408181767e-06, 0.9999975562095642]</td>\n",
       "      <td>13126</td>\n",
       "      <td>-2.880042</td>\n",
       "      <td>5.225442</td>\n",
       "      <td>-11.063330</td>\n",
       "      <td>6.689951</td>\n",
       "      <td>-5.759924</td>\n",
       "      <td>-2.244031</td>\n",
       "      <td>-11.199975</td>\n",
       "      <td>4.014722</td>\n",
       "      <td>...</td>\n",
       "      <td>0.795255</td>\n",
       "      <td>-0.778379</td>\n",
       "      <td>-1.646815</td>\n",
       "      <td>0.487539</td>\n",
       "      <td>1.427713</td>\n",
       "      <td>0.583172</td>\n",
       "      <td>1.0</td>\n",
       "      <td>1</td>\n",
       "      <td>ab20db30-3b79-4ebb-ac94-2f98e1eabee9</td>\n",
       "      <td>TEST</td>\n",
       "    </tr>\n",
       "    <tr>\n",
       "      <th>8</th>\n",
       "      <td>[3.500327238725731e-06, 0.999996542930603]</td>\n",
       "      <td>152036</td>\n",
       "      <td>-4.320609</td>\n",
       "      <td>3.199939</td>\n",
       "      <td>-5.799736</td>\n",
       "      <td>6.502330</td>\n",
       "      <td>0.378479</td>\n",
       "      <td>-1.948246</td>\n",
       "      <td>-2.167860</td>\n",
       "      <td>-0.728207</td>\n",
       "      <td>...</td>\n",
       "      <td>-0.136940</td>\n",
       "      <td>-0.620072</td>\n",
       "      <td>0.642531</td>\n",
       "      <td>0.280717</td>\n",
       "      <td>-2.649107</td>\n",
       "      <td>0.533641</td>\n",
       "      <td>1.0</td>\n",
       "      <td>1</td>\n",
       "      <td>1803e0ce-b531-4919-a2d3-cf0d07172166</td>\n",
       "      <td>TEST</td>\n",
       "    </tr>\n",
       "    <tr>\n",
       "      <th>9</th>\n",
       "      <td>[2.7075780053564813e-06, 0.9999972581863403]</td>\n",
       "      <td>100298</td>\n",
       "      <td>-22.341889</td>\n",
       "      <td>15.536133</td>\n",
       "      <td>-22.865228</td>\n",
       "      <td>7.043374</td>\n",
       "      <td>-14.183129</td>\n",
       "      <td>-0.463145</td>\n",
       "      <td>-28.215112</td>\n",
       "      <td>-14.607791</td>\n",
       "      <td>...</td>\n",
       "      <td>1.412928</td>\n",
       "      <td>0.382801</td>\n",
       "      <td>0.447154</td>\n",
       "      <td>-0.632816</td>\n",
       "      <td>-4.380154</td>\n",
       "      <td>-0.467863</td>\n",
       "      <td>1.0</td>\n",
       "      <td>1</td>\n",
       "      <td>7742da54-3f4c-4e8b-bccc-2d55ac0edd7e</td>\n",
       "      <td>TEST</td>\n",
       "    </tr>\n",
       "  </tbody>\n",
       "</table>\n",
       "<p>10 rows × 34 columns</p>\n",
       "</div>"
      ],
      "text/plain": [
       "                               prediction_layer    Time         V1         V2  \\\n",
       "0   [5.436737865238683e-06, 0.9999944567680359]   85285  -7.030308   3.421991   \n",
       "1    [0.017139235511422157, 0.9828606843948364]   56887  -0.075483   1.812355   \n",
       "2   [0.0003428384952712804, 0.9996570944786072]   43369  -3.365319   2.426503   \n",
       "3   [0.0043426500633358955, 0.9956573247909546]  143354   1.118331   2.074439   \n",
       "4   [5.201393287279643e-05, 0.9999479651451111]   93888 -10.040631   6.139183   \n",
       "5  [1.7808358165893878e-07, 0.9999998211860657]   20332 -15.271362   8.326581   \n",
       "6   [0.0026680349837988615, 0.9973319172859192]    7551   0.316459   3.809076   \n",
       "7   [2.383835408181767e-06, 0.9999975562095642]   13126  -2.880042   5.225442   \n",
       "8    [3.500327238725731e-06, 0.999996542930603]  152036  -4.320609   3.199939   \n",
       "9  [2.7075780053564813e-06, 0.9999972581863403]  100298 -22.341889  15.536133   \n",
       "\n",
       "          V3         V4         V5        V6         V7         V8  ...  \\\n",
       "0  -9.525072   5.270891  -4.024630 -2.865682  -6.989195   3.791551  ...   \n",
       "1  -2.566981   4.127549  -1.628532 -0.805895  -3.390135   1.019353  ...   \n",
       "2  -3.752227   0.276017  -2.305870 -1.961578  -3.029283  -1.674462  ...   \n",
       "3  -3.837518   5.448060   0.071816 -1.020509  -1.808574   0.521744  ...   \n",
       "4 -12.972972   7.740555  -8.684705 -3.837429 -11.907702   5.833273  ...   \n",
       "5 -22.338591  11.885313  -8.721334 -2.324307 -16.196419   0.512882  ...   \n",
       "6  -5.615159   6.047445   1.554026 -2.651353  -0.746579   0.055586  ...   \n",
       "7 -11.063330   6.689951  -5.759924 -2.244031 -11.199975   4.014722  ...   \n",
       "8  -5.799736   6.502330   0.378479 -1.948246  -2.167860  -0.728207  ...   \n",
       "9 -22.865228   7.043374 -14.183129 -0.463145 -28.215112 -14.607791  ...   \n",
       "\n",
       "        V23       V24       V25       V26       V27       V28  Amount  Class  \\\n",
       "0  0.036943 -0.355519  0.353634  1.042458  1.359516 -0.272188     0.0      1   \n",
       "1 -0.143624  0.013566  0.634203  0.213693  0.773625  0.387434     5.0      1   \n",
       "2 -0.248502  0.126550  0.104166 -1.055997 -1.200165 -1.012066    88.0      1   \n",
       "3 -0.021910 -0.376560  0.192817  0.114107  0.500996  0.259533     1.0      1   \n",
       "4 -0.567343  0.843012  0.549938  0.113892 -0.307375  0.061631     1.0      1   \n",
       "5  1.085617 -1.039797 -0.182006  0.649921  2.149247 -1.406811     1.0      1   \n",
       "6 -0.583813 -0.219845  1.474753  0.491192  0.518868  0.402528     1.0      1   \n",
       "7  0.795255 -0.778379 -1.646815  0.487539  1.427713  0.583172     1.0      1   \n",
       "8 -0.136940 -0.620072  0.642531  0.280717 -2.649107  0.533641     1.0      1   \n",
       "9  1.412928  0.382801  0.447154 -0.632816 -4.380154 -0.467863     1.0      1   \n",
       "\n",
       "                         transaction_id  splits  \n",
       "0  0a3b566f-e662-4cd0-b702-99299890cb0f    TEST  \n",
       "1  e17f6ee4-8dd8-4a38-9f51-e1bbf1e1aa2a    TEST  \n",
       "2  125e7617-a79a-468f-af1b-f184544347f4    TEST  \n",
       "3  17e4d066-124e-4a22-84fb-40b8b3456adf    TEST  \n",
       "4  0a4e27c9-89e7-4588-86fd-70790cb3d45f    TEST  \n",
       "5  5810b45a-602e-4113-b675-a0dcccaed0d5    TEST  \n",
       "6  2e70bcc4-4a04-44c5-82c1-5ee6061196c5    TEST  \n",
       "7  ab20db30-3b79-4ebb-ac94-2f98e1eabee9    TEST  \n",
       "8  1803e0ce-b531-4919-a2d3-cf0d07172166    TEST  \n",
       "9  7742da54-3f4c-4e8b-bccc-2d55ac0edd7e    TEST  \n",
       "\n",
       "[10 rows x 34 columns]"
      ]
     },
     "execution_count": 145,
     "metadata": {},
     "output_type": "execute_result"
    }
   ],
   "source": [
    "query = f'''\n",
    "SELECT *\n",
    "FROM ML.PREDICT(\n",
    "    MODEL `{BQ_PROJECT}.{BQ_DATASET}.{model.name}`, (\n",
    "        SELECT * \n",
    "        FROM {BQ_PROJECT}.{BQ_DATASET}.{BQ_TABLE}\n",
    "        WHERE splits='TEST' AND Class = 1\n",
    "        LIMIT 10\n",
    "    )\n",
    ")\n",
    "'''\n",
    "results = bq.query(query = query).to_dataframe()\n",
    "results"
   ]
  },
  {
   "cell_type": "markdown",
   "id": "011cf410-a0ee-47a2-92b3-6355291e593f",
   "metadata": {},
   "source": [
    "---\n",
    "## Notebook Predictions: Load Keras Model\n",
    "\n",
    "Note: The version of TensorFlow used in the training job that created the model may be a different version than the one running in this notebook.  This can cause an issue with tf.keras.models.load_model.  Make sure the versions are the same to prevent issues."
   ]
  },
  {
   "cell_type": "code",
   "execution_count": 146,
   "id": "7e06ed52-7b48-41fa-84c6-4fc45589d6a2",
   "metadata": {},
   "outputs": [],
   "source": [
    "model = aiplatform.Model(\n",
    "    model_name = endpoint.list_models()[0].model+f'@{endpoint.list_models()[0].model_version_id}'\n",
    ")"
   ]
  },
  {
   "cell_type": "code",
   "execution_count": 147,
   "id": "2b16c899-f081-49bb-ba1e-337d07c71ee9",
   "metadata": {},
   "outputs": [
    {
     "data": {
      "text/plain": [
       "'gs://statmike-mlops-349915/fraud/models/05/05h/20220826194057/3/model'"
      ]
     },
     "execution_count": 147,
     "metadata": {},
     "output_type": "execute_result"
    }
   ],
   "source": [
    "model.uri"
   ]
  },
  {
   "cell_type": "code",
   "execution_count": null,
   "id": "c947dcda-051e-46f1-85fc-d441c0ceb3a8",
   "metadata": {},
   "outputs": [],
   "source": [
    "keras_model = tf.keras.models.load_model(model.uri)"
   ]
  },
  {
   "cell_type": "code",
   "execution_count": 273,
   "id": "1631ae2a-28b4-48c7-949f-7b338261303a",
   "metadata": {},
   "outputs": [
    {
     "data": {
      "text/plain": [
       "array([[9.9986863e-01, 1.3134126e-04]], dtype=float32)"
      ]
     },
     "execution_count": 273,
     "metadata": {},
     "output_type": "execute_result"
    }
   ],
   "source": [
    "predictions = keras_model.predict({key: tf.constant([value], dtype=tf.float32, name = key) for key, value in newobs[0].items()})\n",
    "predictions"
   ]
  },
  {
   "cell_type": "code",
   "execution_count": 275,
   "id": "c3840ef5-afcf-4616-8e5b-a78bfde16054",
   "metadata": {},
   "outputs": [
    {
     "data": {
      "text/plain": [
       "0"
      ]
     },
     "execution_count": 275,
     "metadata": {},
     "output_type": "execute_result"
    }
   ],
   "source": [
    "np.argmax(predictions[0])"
   ]
  },
  {
   "cell_type": "markdown",
   "id": "ca8082e5-563b-449a-9c6b-1358bbbd7c63",
   "metadata": {},
   "source": [
    "---\n",
    "## Local Predictions: With TensorFlow ModelServer\n",
    "Locally run [TensorFlow Serving with Docker](https://www.tensorflow.org/tfx/serving/docker#serving_example)"
   ]
  },
  {
   "cell_type": "markdown",
   "id": "e55f505b-c195-4aa9-8a67-90b63b1ac87f",
   "metadata": {},
   "source": [
    "### Model Information\n",
    "Using the model on the endpoint selected at the top of this notebook:"
   ]
  },
  {
   "cell_type": "code",
   "execution_count": 149,
   "id": "ae032153-a77b-4112-b325-7679a1703e33",
   "metadata": {},
   "outputs": [
    {
     "data": {
      "text/plain": [
       "id: \"261177992061911040\"\n",
       "model: \"projects/1026793852137/locations/us-central1/models/model_05h_fraud\"\n",
       "display_name: \"05h_fraud\"\n",
       "create_time {\n",
       "  seconds: 1661546709\n",
       "  nanos: 108896000\n",
       "}\n",
       "dedicated_resources {\n",
       "  machine_spec {\n",
       "    machine_type: \"n1-standard-4\"\n",
       "  }\n",
       "  min_replica_count: 1\n",
       "  max_replica_count: 1\n",
       "}\n",
       "model_version_id: \"1\""
      ]
     },
     "execution_count": 149,
     "metadata": {},
     "output_type": "execute_result"
    }
   ],
   "source": [
    "endpoint.list_models()[0]"
   ]
  },
  {
   "cell_type": "code",
   "execution_count": 150,
   "id": "a5948b12-056b-47ae-96b4-342d21be8a1d",
   "metadata": {},
   "outputs": [],
   "source": [
    "model = aiplatform.Model(\n",
    "    model_name = endpoint.list_models()[0].model+f'@{endpoint.list_models()[0].model_version_id}'\n",
    ")"
   ]
  },
  {
   "cell_type": "code",
   "execution_count": 151,
   "id": "28b0dbe1-5e02-473e-a5c5-9fbd731600b5",
   "metadata": {},
   "outputs": [
    {
     "data": {
      "text/plain": [
       "'05h_fraud'"
      ]
     },
     "execution_count": 151,
     "metadata": {},
     "output_type": "execute_result"
    }
   ],
   "source": [
    "model.display_name"
   ]
  },
  {
   "cell_type": "code",
   "execution_count": 152,
   "id": "6c30d6ad-e8b5-4c65-aa8e-737ed536b5b2",
   "metadata": {},
   "outputs": [
    {
     "data": {
      "text/plain": [
       "'projects/1026793852137/locations/us-central1/models/model_05h_fraud'"
      ]
     },
     "execution_count": 152,
     "metadata": {},
     "output_type": "execute_result"
    }
   ],
   "source": [
    "model.resource_name"
   ]
  },
  {
   "cell_type": "code",
   "execution_count": 153,
   "id": "4b22ead7-3341-433f-b8a3-95cb8db3d40b",
   "metadata": {},
   "outputs": [
    {
     "data": {
      "text/plain": [
       "'1'"
      ]
     },
     "execution_count": 153,
     "metadata": {},
     "output_type": "execute_result"
    }
   ],
   "source": [
    "model.version_id"
   ]
  },
  {
   "cell_type": "code",
   "execution_count": 154,
   "id": "5f14d165-8fd8-4f4c-a87a-74d987b57ffd",
   "metadata": {},
   "outputs": [
    {
     "data": {
      "text/plain": [
       "'run-20220826194057-3'"
      ]
     },
     "execution_count": 154,
     "metadata": {},
     "output_type": "execute_result"
    }
   ],
   "source": [
    "model.version_description"
   ]
  },
  {
   "cell_type": "code",
   "execution_count": 155,
   "id": "a9c4454e-b97a-4c5e-afcb-c2dca41666bc",
   "metadata": {},
   "outputs": [
    {
     "data": {
      "text/plain": [
       "'projects/1026793852137/locations/us-central1/models/model_05h_fraud@1'"
      ]
     },
     "execution_count": 155,
     "metadata": {},
     "output_type": "execute_result"
    }
   ],
   "source": [
    "model.versioned_resource_name"
   ]
  },
  {
   "cell_type": "code",
   "execution_count": 156,
   "id": "040fd053-ffe3-4780-9871-5bff07ab1ccd",
   "metadata": {},
   "outputs": [
    {
     "data": {
      "text/plain": [
       "'gs://statmike-mlops-349915/fraud/models/05/05h/20220826194057/3/model'"
      ]
     },
     "execution_count": 156,
     "metadata": {},
     "output_type": "execute_result"
    }
   ],
   "source": [
    "model.uri"
   ]
  },
  {
   "cell_type": "code",
   "execution_count": 157,
   "id": "9fec2732-1a9a-49f7-a454-80e2df1f8d94",
   "metadata": {},
   "outputs": [
    {
     "data": {
      "text/plain": [
       "'model_05h_fraud'"
      ]
     },
     "execution_count": 157,
     "metadata": {},
     "output_type": "execute_result"
    }
   ],
   "source": [
    "model.name"
   ]
  },
  {
   "cell_type": "markdown",
   "id": "4f88a2ad-c75b-4b5b-841d-44d1efd393df",
   "metadata": {},
   "source": [
    "Locate the model files:"
   ]
  },
  {
   "cell_type": "code",
   "execution_count": 158,
   "id": "ba9c9c0e-9dec-4754-895d-dd91283f9fa2",
   "metadata": {},
   "outputs": [
    {
     "data": {
      "text/plain": [
       "'gs://statmike-mlops-349915/fraud/models/05/05h/20220826194057/3/model'"
      ]
     },
     "execution_count": 158,
     "metadata": {},
     "output_type": "execute_result"
    }
   ],
   "source": [
    "model.uri"
   ]
  },
  {
   "cell_type": "markdown",
   "id": "83b99660-4a96-4463-b724-b7eeaca741ad",
   "metadata": {},
   "source": [
    "Review the local directory for this notebook (created above):"
   ]
  },
  {
   "cell_type": "code",
   "execution_count": 159,
   "id": "bc35ebac-837d-4656-bcd9-f7998b126c60",
   "metadata": {},
   "outputs": [
    {
     "data": {
      "text/plain": [
       "'temp/05_predictions'"
      ]
     },
     "execution_count": 159,
     "metadata": {},
     "output_type": "execute_result"
    }
   ],
   "source": [
    "DIR"
   ]
  },
  {
   "cell_type": "code",
   "execution_count": 160,
   "id": "8d497daf-53cf-4003-9355-c17b2841098f",
   "metadata": {},
   "outputs": [
    {
     "name": "stdout",
     "output_type": "stream",
     "text": [
      "request.json\n"
     ]
    }
   ],
   "source": [
    "!ls {DIR}"
   ]
  },
  {
   "cell_type": "markdown",
   "id": "103cb7be-7830-404e-beea-24db19c1a603",
   "metadata": {},
   "source": [
    "Copy the model files to the local directory for this notebook:"
   ]
  },
  {
   "cell_type": "code",
   "execution_count": 161,
   "id": "9252373f-fa95-4ec5-8e0f-7e64004e7aad",
   "metadata": {},
   "outputs": [
    {
     "name": "stdout",
     "output_type": "stream",
     "text": [
      "Copying gs://statmike-mlops-349915/fraud/models/05/05h/20220826194057/3/model/keras_metadata.pb...\n",
      "Copying gs://statmike-mlops-349915/fraud/models/05/05h/20220826194057/3/model/saved_model.pb...\n",
      "/ [2 files][513.3 KiB/513.3 KiB]                                                \n",
      "==> NOTE: You are performing a sequence of gsutil operations that may\n",
      "run significantly faster if you instead use gsutil -m cp ... Please\n",
      "see the -m section under \"gsutil help options\" for further information\n",
      "about when gsutil -m can be advantageous.\n",
      "\n",
      "Copying gs://statmike-mlops-349915/fraud/models/05/05h/20220826194057/3/model/variables/variables.data-00000-of-00001...\n",
      "Copying gs://statmike-mlops-349915/fraud/models/05/05h/20220826194057/3/model/variables/variables.index...\n",
      "/ [4 files][558.2 KiB/558.2 KiB]                                                \n",
      "Operation completed over 4 objects/558.2 KiB.                                    \n"
     ]
    }
   ],
   "source": [
    "!gsutil cp -R {model.uri} {DIR}"
   ]
  },
  {
   "cell_type": "code",
   "execution_count": 162,
   "id": "28b5678b-86a0-4281-9112-ebbdfc8ed80e",
   "metadata": {},
   "outputs": [
    {
     "name": "stdout",
     "output_type": "stream",
     "text": [
      "model  request.json\n"
     ]
    }
   ],
   "source": [
    "!ls {DIR}"
   ]
  },
  {
   "cell_type": "code",
   "execution_count": 163,
   "id": "f1a19878-3b14-4a53-9bcc-3f60cfad67eb",
   "metadata": {},
   "outputs": [
    {
     "name": "stdout",
     "output_type": "stream",
     "text": [
      "keras_metadata.pb  saved_model.pb  variables\n"
     ]
    }
   ],
   "source": [
    "!ls {DIR}/model"
   ]
  },
  {
   "cell_type": "markdown",
   "id": "ea6c80c4-0a71-4177-9093-725c07e6ad21",
   "metadata": {},
   "source": [
    "### Load the Model and Review"
   ]
  },
  {
   "cell_type": "code",
   "execution_count": 164,
   "id": "53d72dcb-d9c1-4718-9e1f-f54cc078ad53",
   "metadata": {},
   "outputs": [],
   "source": [
    "reloaded_model = tf.saved_model.load(f'{DIR}/model')"
   ]
  },
  {
   "cell_type": "code",
   "execution_count": 165,
   "id": "ff39393d-1df2-4013-827c-e06472901c6e",
   "metadata": {},
   "outputs": [
    {
     "data": {
      "text/plain": [
       "_SignatureMap({'serving_default': <ConcreteFunction signature_wrapper(Amount, Time, V1, V10, V11, V12, V13, V14, V15, V16, V17, V18, V19, V2, V20, V21, V22, V23, V24, V25, V26, V27, V28, V3, V4, V5, V6, V7, V8, V9) at 0x7F7C185999D0>})"
      ]
     },
     "execution_count": 165,
     "metadata": {},
     "output_type": "execute_result"
    }
   ],
   "source": [
    "reloaded_model.signatures"
   ]
  },
  {
   "cell_type": "code",
   "execution_count": 166,
   "id": "7d1f11a7-c54d-48f0-86b0-5e09b645fe74",
   "metadata": {},
   "outputs": [
    {
     "data": {
      "text/plain": [
       "<ConcreteFunction signature_wrapper(Amount, Time, V1, V10, V11, V12, V13, V14, V15, V16, V17, V18, V19, V2, V20, V21, V22, V23, V24, V25, V26, V27, V28, V3, V4, V5, V6, V7, V8, V9) at 0x7F7C185999D0>"
      ]
     },
     "execution_count": 166,
     "metadata": {},
     "output_type": "execute_result"
    }
   ],
   "source": [
    "reloaded_model.signatures['serving_default']"
   ]
  },
  {
   "cell_type": "code",
   "execution_count": 167,
   "id": "77b85955-6d4a-469c-9972-1d27af69d2e2",
   "metadata": {},
   "outputs": [
    {
     "data": {
      "text/plain": [
       "((),\n",
       " {'Time': TensorSpec(shape=(None, 1), dtype=tf.float32, name='Time'),\n",
       "  'V26': TensorSpec(shape=(None, 1), dtype=tf.float32, name='V26'),\n",
       "  'V15': TensorSpec(shape=(None, 1), dtype=tf.float32, name='V15'),\n",
       "  'V21': TensorSpec(shape=(None, 1), dtype=tf.float32, name='V21'),\n",
       "  'V23': TensorSpec(shape=(None, 1), dtype=tf.float32, name='V23'),\n",
       "  'V28': TensorSpec(shape=(None, 1), dtype=tf.float32, name='V28'),\n",
       "  'V1': TensorSpec(shape=(None, 1), dtype=tf.float32, name='V1'),\n",
       "  'V3': TensorSpec(shape=(None, 1), dtype=tf.float32, name='V3'),\n",
       "  'V24': TensorSpec(shape=(None, 1), dtype=tf.float32, name='V24'),\n",
       "  'V17': TensorSpec(shape=(None, 1), dtype=tf.float32, name='V17'),\n",
       "  'V19': TensorSpec(shape=(None, 1), dtype=tf.float32, name='V19'),\n",
       "  'Amount': TensorSpec(shape=(None, 1), dtype=tf.float32, name='Amount'),\n",
       "  'V5': TensorSpec(shape=(None, 1), dtype=tf.float32, name='V5'),\n",
       "  'V4': TensorSpec(shape=(None, 1), dtype=tf.float32, name='V4'),\n",
       "  'V12': TensorSpec(shape=(None, 1), dtype=tf.float32, name='V12'),\n",
       "  'V27': TensorSpec(shape=(None, 1), dtype=tf.float32, name='V27'),\n",
       "  'V11': TensorSpec(shape=(None, 1), dtype=tf.float32, name='V11'),\n",
       "  'V18': TensorSpec(shape=(None, 1), dtype=tf.float32, name='V18'),\n",
       "  'V9': TensorSpec(shape=(None, 1), dtype=tf.float32, name='V9'),\n",
       "  'V2': TensorSpec(shape=(None, 1), dtype=tf.float32, name='V2'),\n",
       "  'V16': TensorSpec(shape=(None, 1), dtype=tf.float32, name='V16'),\n",
       "  'V13': TensorSpec(shape=(None, 1), dtype=tf.float32, name='V13'),\n",
       "  'V10': TensorSpec(shape=(None, 1), dtype=tf.float32, name='V10'),\n",
       "  'V14': TensorSpec(shape=(None, 1), dtype=tf.float32, name='V14'),\n",
       "  'V8': TensorSpec(shape=(None, 1), dtype=tf.float32, name='V8'),\n",
       "  'V20': TensorSpec(shape=(None, 1), dtype=tf.float32, name='V20'),\n",
       "  'V7': TensorSpec(shape=(None, 1), dtype=tf.float32, name='V7'),\n",
       "  'V22': TensorSpec(shape=(None, 1), dtype=tf.float32, name='V22'),\n",
       "  'V6': TensorSpec(shape=(None, 1), dtype=tf.float32, name='V6'),\n",
       "  'V25': TensorSpec(shape=(None, 1), dtype=tf.float32, name='V25')})"
      ]
     },
     "execution_count": 167,
     "metadata": {},
     "output_type": "execute_result"
    }
   ],
   "source": [
    "reloaded_model.signatures['serving_default'].structured_input_signature"
   ]
  },
  {
   "cell_type": "code",
   "execution_count": 168,
   "id": "34bba91d-f977-44db-801c-46e34251b6bb",
   "metadata": {},
   "outputs": [],
   "source": [
    "#!saved_model_cli show --dir {DIR}/model --all"
   ]
  },
  {
   "cell_type": "markdown",
   "id": "f06c1ec9-12b1-4513-be25-ce2cc80dc817",
   "metadata": {},
   "source": [
    "### Download Docker Image and Start Serving Container"
   ]
  },
  {
   "cell_type": "code",
   "execution_count": 169,
   "id": "39c563e0-ed67-42c1-b52d-478bb67608fd",
   "metadata": {
    "tags": []
   },
   "outputs": [
    {
     "name": "stdout",
     "output_type": "stream",
     "text": [
      "Using default tag: latest\n",
      "latest: Pulling from tensorflow/serving\n",
      "Digest: sha256:6651f4839e1124dbde75ee531825112af0a6b8ef082c88ab14ca53eb69a2e4bb\n",
      "Status: Image is up to date for tensorflow/serving:latest\n",
      "docker.io/tensorflow/serving:latest\n"
     ]
    }
   ],
   "source": [
    "!docker pull tensorflow/serving"
   ]
  },
  {
   "cell_type": "code",
   "execution_count": 170,
   "id": "c7f1b327-7c09-4498-bc99-c473da69115b",
   "metadata": {},
   "outputs": [
    {
     "name": "stdout",
     "output_type": "stream",
     "text": [
      "docker run -t -p 8501:8501 -v \"/$(pwd)/temp/05_predictions/model:/models/05/1\" -e MODEL_NAME=05 tensorflow/serving\n"
     ]
    }
   ],
   "source": [
    "command = f'''docker run -t -p 8501:8501 \\\n",
    "-v \"/$(pwd)/{DIR}/model:/models/{SERIES}/1\" \\\n",
    "-e MODEL_NAME={SERIES} \\\n",
    "tensorflow/serving'''\n",
    "print(command)"
   ]
  },
  {
   "cell_type": "markdown",
   "id": "89c54f6c-405e-4ba4-bbdf-22c08f767b99",
   "metadata": {},
   "source": [
    "**Run the command above in a subprocess at the local folder of this notebook - use multiprocess.Process():**"
   ]
  },
  {
   "cell_type": "code",
   "execution_count": 171,
   "id": "c4f09114-abe6-4d05-a71e-f33ddaa9dd38",
   "metadata": {},
   "outputs": [
    {
     "name": "stdout",
     "output_type": "stream",
     "text": [
      "/home/jupyter/vertex-ai-mlops\n"
     ]
    }
   ],
   "source": [
    "!pwd"
   ]
  },
  {
   "cell_type": "code",
   "execution_count": 172,
   "id": "ebc3947f-b0dd-4ef2-a86d-790c783ef21f",
   "metadata": {},
   "outputs": [
    {
     "name": "stdout",
     "output_type": "stream",
     "text": [
      "2022-08-26 21:03:12.441978: I tensorflow_serving/model_servers/server.cc:89] Building single TensorFlow model file config:  model_name: 05 model_base_path: /models/05\n",
      "2022-08-26 21:03:12.442822: I tensorflow_serving/model_servers/server_core.cc:465] Adding/updating models.\n",
      "2022-08-26 21:03:12.442867: I tensorflow_serving/model_servers/server_core.cc:591]  (Re-)adding model: 05\n",
      "2022-08-26 21:03:12.543596: I tensorflow_serving/core/basic_manager.cc:740] Successfully reserved resources to load servable {name: 05 version: 1}\n",
      "2022-08-26 21:03:12.543645: I tensorflow_serving/core/loader_harness.cc:66] Approving load for servable version {name: 05 version: 1}\n",
      "2022-08-26 21:03:12.543661: I tensorflow_serving/core/loader_harness.cc:74] Loading servable version {name: 05 version: 1}\n",
      "2022-08-26 21:03:12.543840: I external/org_tensorflow/tensorflow/cc/saved_model/reader.cc:38] Reading SavedModel from: /models/05/1\n",
      "2022-08-26 21:03:12.559290: I external/org_tensorflow/tensorflow/cc/saved_model/reader.cc:90] Reading meta graph with tags { serve }\n",
      "2022-08-26 21:03:12.559376: I external/org_tensorflow/tensorflow/cc/saved_model/reader.cc:132] Reading SavedModel debug info (if present) from: /models/05/1\n",
      "2022-08-26 21:03:12.559645: I external/org_tensorflow/tensorflow/core/platform/cpu_feature_guard.cc:142] This TensorFlow binary is optimized with oneAPI Deep Neural Network Library (oneDNN) to use the following CPU instructions in performance-critical operations:  AVX2 FMA\n",
      "To enable them in other operations, rebuild TensorFlow with the appropriate compiler flags.\n",
      "2022-08-26 21:03:12.641755: I external/org_tensorflow/tensorflow/cc/saved_model/loader.cc:206] Restoring SavedModel bundle.\n",
      "2022-08-26 21:03:12.648167: I external/org_tensorflow/tensorflow/core/platform/profile_utils/cpu_utils.cc:114] CPU Frequency: 2299995000 Hz\n",
      "2022-08-26 21:03:12.722155: I external/org_tensorflow/tensorflow/cc/saved_model/loader.cc:190] Running initialization op on SavedModel bundle at path: /models/05/1\n",
      "2022-08-26 21:03:12.756421: I external/org_tensorflow/tensorflow/cc/saved_model/loader.cc:277] SavedModel load for tags { serve }; Status: success: OK. Took 212539 microseconds.\n",
      "2022-08-26 21:03:12.760880: I tensorflow_serving/servables/tensorflow/saved_model_warmup_util.cc:59] No warmup data file found at /models/05/1/assets.extra/tf_serving_warmup_requests\n",
      "2022-08-26 21:03:12.763972: I tensorflow_serving/core/loader_harness.cc:87] Successfully loaded servable version {name: 05 version: 1}\n",
      "2022-08-26 21:03:12.765148: I tensorflow_serving/model_servers/server_core.cc:486] Finished adding/updating models\n",
      "2022-08-26 21:03:12.765333: I tensorflow_serving/model_servers/server.cc:367] Profiler service is enabled\n",
      "2022-08-26 21:03:12.767326: I tensorflow_serving/model_servers/server.cc:393] Running gRPC ModelServer at 0.0.0.0:8500 ...\n",
      "[warn] getaddrinfo: address family for nodename not supported\n",
      "2022-08-26 21:03:12.769955: I tensorflow_serving/model_servers/server.cc:414] Exporting HTTP/REST API at:localhost:8501 ...\n",
      "[evhttp_server.cc : 245] NET_LOG: Entering the event loop ...\n"
     ]
    }
   ],
   "source": [
    "import multiprocessing\n",
    "\n",
    "def docker_runner():\n",
    "    !{command}\n",
    "    #!docker run -t -p 8501:8501 -v \"/$(pwd)/temp/05tools_1/model:/models/fraud/1\" -e MODEL_NAME=fraud tensorflow/serving\n",
    "\n",
    "def main():\n",
    "    p = multiprocessing.Process(target=docker_runner)\n",
    "    p.start()\n",
    "    return p\n",
    "    \n",
    "p = main()"
   ]
  },
  {
   "cell_type": "markdown",
   "id": "eb611eec-d0b9-4234-8778-4503f6548709",
   "metadata": {},
   "source": [
    "### Get Predictions on Exposed Port"
   ]
  },
  {
   "cell_type": "code",
   "execution_count": 173,
   "id": "9a2676ae-d3f0-47eb-9ab7-f98529a50abd",
   "metadata": {},
   "outputs": [],
   "source": [
    "import requests"
   ]
  },
  {
   "cell_type": "code",
   "execution_count": 174,
   "id": "fa3dbdd1-fff3-440d-9170-4f6f08ed6899",
   "metadata": {},
   "outputs": [],
   "source": [
    "headers = {\"content-type\": \"application/json\"}\n",
    "json_response = requests.post(f'http://localhost:8501/v1/models/{SERIES}:predict', data=json.dumps({\"instances\": [newobs[0]]}), headers=headers)"
   ]
  },
  {
   "cell_type": "code",
   "execution_count": 175,
   "id": "93ea7e98-82e2-49c1-a508-6130e28d8c8c",
   "metadata": {},
   "outputs": [
    {
     "name": "stdout",
     "output_type": "stream",
     "text": [
      "{\n",
      "    \"predictions\": [[0.999176681, 0.000823272683]\n",
      "    ]\n",
      "}\n"
     ]
    }
   ],
   "source": [
    "print(json_response.text)"
   ]
  },
  {
   "cell_type": "code",
   "execution_count": 176,
   "id": "2e818c79-79ad-4b31-8342-5a752e9603eb",
   "metadata": {},
   "outputs": [
    {
     "data": {
      "text/plain": [
       "[[0.999176681, 0.000823272683]]"
      ]
     },
     "execution_count": 176,
     "metadata": {},
     "output_type": "execute_result"
    }
   ],
   "source": [
    "predictions = json.loads(json_response.text)['predictions']\n",
    "predictions"
   ]
  },
  {
   "cell_type": "code",
   "execution_count": 177,
   "id": "438c7238-c473-40ca-8175-536aba9a7c09",
   "metadata": {
    "tags": []
   },
   "outputs": [
    {
     "data": {
      "text/plain": [
       "0"
      ]
     },
     "execution_count": 177,
     "metadata": {},
     "output_type": "execute_result"
    }
   ],
   "source": [
    "np.argmax(predictions[0])"
   ]
  },
  {
   "cell_type": "markdown",
   "id": "cf396d8e-ee68-43b1-81e1-3a15040d6802",
   "metadata": {},
   "source": [
    "### Shutdown TensorFlow Serving Container\n",
    "There are two entities running: a subprocess called `p` and a docker container that was run by the subprocess.  It is not enough to just stop `p` but it might be enough to stop the container and then the subprocess will terminate due to completion.  The command below stop the subprocess `p` and then stop and remove the container."
   ]
  },
  {
   "cell_type": "code",
   "execution_count": 178,
   "id": "e407fc32-3dba-4dcc-b088-a731ca31ad3f",
   "metadata": {},
   "outputs": [],
   "source": [
    "p.terminate()"
   ]
  },
  {
   "cell_type": "code",
   "execution_count": 179,
   "id": "6b4daa91-94c3-472a-8bd8-a19e3964f0ff",
   "metadata": {},
   "outputs": [
    {
     "data": {
      "text/plain": [
       "False"
      ]
     },
     "execution_count": 179,
     "metadata": {},
     "output_type": "execute_result"
    }
   ],
   "source": [
    "p.is_alive()"
   ]
  },
  {
   "cell_type": "code",
   "execution_count": 180,
   "id": "2b0798c1-9453-41df-80b4-073ed6ebe47e",
   "metadata": {},
   "outputs": [
    {
     "data": {
      "text/plain": [
       "['CONTAINER ID   IMAGE                          COMMAND                  CREATED          STATUS          PORTS                              NAMES',\n",
       " 'f588bbe9f53b   tensorflow/serving             \"/usr/bin/tf_serving…\"   42 seconds ago   Up 41 seconds   8500/tcp, 0.0.0.0:8501->8501/tcp   reverent_zhukovsky',\n",
       " 'cfc6fa1ae606   gcr.io/inverting-proxy/agent   \"/bin/sh -c \\'/opt/bi…\"   13 days ago      Up 13 days                                         proxy-agent']"
      ]
     },
     "execution_count": 180,
     "metadata": {},
     "output_type": "execute_result"
    }
   ],
   "source": [
    "docker = !docker ps -a\n",
    "docker"
   ]
  },
  {
   "cell_type": "code",
   "execution_count": 181,
   "id": "443380f0-ba6a-47f4-b6ce-30dfa2ae894b",
   "metadata": {},
   "outputs": [
    {
     "name": "stdout",
     "output_type": "stream",
     "text": [
      "reverent_zhukovsky\n",
      "reverent_zhukovsky\n",
      "f588bbe9f53b\n"
     ]
    }
   ],
   "source": [
    "for d in docker:\n",
    "    if 'tensorflow/serving' in d:\n",
    "        print(d.split()[-1])\n",
    "        !docker stop {d.split()[-1]}\n",
    "        !docker rm {d.split()[0]}"
   ]
  },
  {
   "cell_type": "code",
   "execution_count": 182,
   "id": "862f00f2-46a5-4da0-8b12-691d2537440f",
   "metadata": {
    "tags": []
   },
   "outputs": [
    {
     "name": "stdout",
     "output_type": "stream",
     "text": [
      "CONTAINER ID   IMAGE                          COMMAND                  CREATED       STATUS       PORTS     NAMES\n",
      "cfc6fa1ae606   gcr.io/inverting-proxy/agent   \"/bin/sh -c '/opt/bi…\"   13 days ago   Up 13 days             proxy-agent\n"
     ]
    }
   ],
   "source": [
    "!docker ps -a"
   ]
  },
  {
   "cell_type": "markdown",
   "id": "aba6c1a7-7453-4bb1-be32-3245925e66d0",
   "metadata": {},
   "source": [
    "---\n",
    "## Serving With Cloud Run: TensorFlow ModelServer"
   ]
  },
  {
   "cell_type": "markdown",
   "id": "6dde58a8-fe97-454e-9ba6-86ce0b2603e9",
   "metadata": {},
   "source": [
    "### Model Information\n",
    "Using the model on the endpoint selected at the top of this notebook:"
   ]
  },
  {
   "cell_type": "code",
   "execution_count": 183,
   "id": "cb2e4f47-827f-4563-8177-6ed50690d24c",
   "metadata": {},
   "outputs": [
    {
     "data": {
      "text/plain": [
       "id: \"261177992061911040\"\n",
       "model: \"projects/1026793852137/locations/us-central1/models/model_05h_fraud\"\n",
       "display_name: \"05h_fraud\"\n",
       "create_time {\n",
       "  seconds: 1661546709\n",
       "  nanos: 108896000\n",
       "}\n",
       "dedicated_resources {\n",
       "  machine_spec {\n",
       "    machine_type: \"n1-standard-4\"\n",
       "  }\n",
       "  min_replica_count: 1\n",
       "  max_replica_count: 1\n",
       "}\n",
       "model_version_id: \"1\""
      ]
     },
     "execution_count": 183,
     "metadata": {},
     "output_type": "execute_result"
    }
   ],
   "source": [
    "endpoint.list_models()[0]"
   ]
  },
  {
   "cell_type": "code",
   "execution_count": 184,
   "id": "b73a1b69-2fc8-4627-b3a3-603e5e7e6fc7",
   "metadata": {},
   "outputs": [],
   "source": [
    "model = aiplatform.Model(\n",
    "    model_name = endpoint.list_models()[0].model+f'@{endpoint.list_models()[0].model_version_id}'\n",
    ")"
   ]
  },
  {
   "cell_type": "code",
   "execution_count": 185,
   "id": "67db7d42-f3cb-4344-bd65-cefe68158f83",
   "metadata": {},
   "outputs": [
    {
     "data": {
      "text/plain": [
       "'05h_fraud'"
      ]
     },
     "execution_count": 185,
     "metadata": {},
     "output_type": "execute_result"
    }
   ],
   "source": [
    "model.display_name"
   ]
  },
  {
   "cell_type": "code",
   "execution_count": 186,
   "id": "a6199762-de79-43e7-8128-44b6885d94db",
   "metadata": {},
   "outputs": [
    {
     "data": {
      "text/plain": [
       "'projects/1026793852137/locations/us-central1/models/model_05h_fraud'"
      ]
     },
     "execution_count": 186,
     "metadata": {},
     "output_type": "execute_result"
    }
   ],
   "source": [
    "model.resource_name"
   ]
  },
  {
   "cell_type": "code",
   "execution_count": 187,
   "id": "4d7b7910-c587-40cf-8141-bffe2c7817c9",
   "metadata": {},
   "outputs": [
    {
     "data": {
      "text/plain": [
       "'1'"
      ]
     },
     "execution_count": 187,
     "metadata": {},
     "output_type": "execute_result"
    }
   ],
   "source": [
    "model.version_id"
   ]
  },
  {
   "cell_type": "code",
   "execution_count": 188,
   "id": "3b29193c-6c25-469f-9f90-e7322fa295fd",
   "metadata": {},
   "outputs": [
    {
     "data": {
      "text/plain": [
       "'run-20220826194057-3'"
      ]
     },
     "execution_count": 188,
     "metadata": {},
     "output_type": "execute_result"
    }
   ],
   "source": [
    "model.version_description"
   ]
  },
  {
   "cell_type": "code",
   "execution_count": 189,
   "id": "b3dba765-c8bb-480a-bf45-ccc2f5ef5092",
   "metadata": {},
   "outputs": [
    {
     "data": {
      "text/plain": [
       "'projects/1026793852137/locations/us-central1/models/model_05h_fraud@1'"
      ]
     },
     "execution_count": 189,
     "metadata": {},
     "output_type": "execute_result"
    }
   ],
   "source": [
    "model.versioned_resource_name"
   ]
  },
  {
   "cell_type": "code",
   "execution_count": 190,
   "id": "79ec8d0c-edaa-4b37-964e-ddbcca8464d8",
   "metadata": {},
   "outputs": [
    {
     "data": {
      "text/plain": [
       "'gs://statmike-mlops-349915/fraud/models/05/05h/20220826194057/3/model'"
      ]
     },
     "execution_count": 190,
     "metadata": {},
     "output_type": "execute_result"
    }
   ],
   "source": [
    "model.uri"
   ]
  },
  {
   "cell_type": "code",
   "execution_count": 191,
   "id": "8acf533b-0767-4751-ad16-097aa993c557",
   "metadata": {},
   "outputs": [
    {
     "data": {
      "text/plain": [
       "'model_05h_fraud'"
      ]
     },
     "execution_count": 191,
     "metadata": {},
     "output_type": "execute_result"
    }
   ],
   "source": [
    "model.name"
   ]
  },
  {
   "cell_type": "markdown",
   "id": "99caebed-1267-46f0-a4a7-4488704638da",
   "metadata": {},
   "source": [
    "Locate the model files:"
   ]
  },
  {
   "cell_type": "code",
   "execution_count": 192,
   "id": "e46f8eda-b0a5-4800-893a-bba0c7f832b8",
   "metadata": {},
   "outputs": [
    {
     "data": {
      "text/plain": [
       "'gs://statmike-mlops-349915/fraud/models/05/05h/20220826194057/3/model'"
      ]
     },
     "execution_count": 192,
     "metadata": {},
     "output_type": "execute_result"
    }
   ],
   "source": [
    "model.uri"
   ]
  },
  {
   "cell_type": "markdown",
   "id": "31fbda1b-9053-49dd-9a7f-e09fb7757b2e",
   "metadata": {},
   "source": [
    "Review the local directory for this notebook (created above):"
   ]
  },
  {
   "cell_type": "code",
   "execution_count": 193,
   "id": "800d1389-ea64-46b3-a8fa-dd9c2cea1308",
   "metadata": {},
   "outputs": [
    {
     "data": {
      "text/plain": [
       "'temp/05_predictions'"
      ]
     },
     "execution_count": 193,
     "metadata": {},
     "output_type": "execute_result"
    }
   ],
   "source": [
    "DIR"
   ]
  },
  {
   "cell_type": "code",
   "execution_count": 194,
   "id": "f3e5f3b3-97fb-4c50-94cc-a3b24fab0585",
   "metadata": {},
   "outputs": [
    {
     "name": "stdout",
     "output_type": "stream",
     "text": [
      "model  request.json\n"
     ]
    }
   ],
   "source": [
    "!ls {DIR}"
   ]
  },
  {
   "cell_type": "markdown",
   "id": "3f87bef9-c086-4ca7-92af-3cc8616e8e53",
   "metadata": {},
   "source": [
    "Copy the model files to the local directory for this notebook:"
   ]
  },
  {
   "cell_type": "code",
   "execution_count": 195,
   "id": "f6a66574-3a7e-494a-95cb-37c461bd3ebd",
   "metadata": {},
   "outputs": [
    {
     "name": "stdout",
     "output_type": "stream",
     "text": [
      "Copying gs://statmike-mlops-349915/fraud/models/05/05h/20220826194057/3/model/keras_metadata.pb...\n",
      "Copying gs://statmike-mlops-349915/fraud/models/05/05h/20220826194057/3/model/saved_model.pb...\n",
      "/ [2 files][513.3 KiB/513.3 KiB]                                                \n",
      "==> NOTE: You are performing a sequence of gsutil operations that may\n",
      "run significantly faster if you instead use gsutil -m cp ... Please\n",
      "see the -m section under \"gsutil help options\" for further information\n",
      "about when gsutil -m can be advantageous.\n",
      "\n",
      "Copying gs://statmike-mlops-349915/fraud/models/05/05h/20220826194057/3/model/variables/variables.data-00000-of-00001...\n",
      "Copying gs://statmike-mlops-349915/fraud/models/05/05h/20220826194057/3/model/variables/variables.index...\n",
      "/ [4 files][558.2 KiB/558.2 KiB]                                                \n",
      "Operation completed over 4 objects/558.2 KiB.                                    \n"
     ]
    }
   ],
   "source": [
    "!gsutil cp -R {model.uri} {DIR}"
   ]
  },
  {
   "cell_type": "code",
   "execution_count": 196,
   "id": "4022353e-4b9a-4e63-91cc-062f6f2ad6f6",
   "metadata": {},
   "outputs": [
    {
     "name": "stdout",
     "output_type": "stream",
     "text": [
      "model  request.json\n"
     ]
    }
   ],
   "source": [
    "!ls {DIR}"
   ]
  },
  {
   "cell_type": "code",
   "execution_count": 197,
   "id": "09612d85-3681-4869-9cc9-8cdc182c5180",
   "metadata": {},
   "outputs": [
    {
     "name": "stdout",
     "output_type": "stream",
     "text": [
      "keras_metadata.pb  saved_model.pb  variables\n"
     ]
    }
   ],
   "source": [
    "!ls {DIR}/model"
   ]
  },
  {
   "cell_type": "markdown",
   "id": "410c2c70-66b9-4843-bde9-d0c4e6ce1761",
   "metadata": {},
   "source": [
    "### Load the Model (local) and Review"
   ]
  },
  {
   "cell_type": "code",
   "execution_count": 198,
   "id": "2d6e5297-3cbe-4d9f-a768-3d4c1aa89ad9",
   "metadata": {},
   "outputs": [],
   "source": [
    "reloaded_model = tf.saved_model.load(f'{DIR}/model')"
   ]
  },
  {
   "cell_type": "code",
   "execution_count": 199,
   "id": "7189d21a-a2b5-49ee-aad3-3defef9fb968",
   "metadata": {},
   "outputs": [
    {
     "data": {
      "text/plain": [
       "_SignatureMap({'serving_default': <ConcreteFunction signature_wrapper(Amount, Time, V1, V10, V11, V12, V13, V14, V15, V16, V17, V18, V19, V2, V20, V21, V22, V23, V24, V25, V26, V27, V28, V3, V4, V5, V6, V7, V8, V9) at 0x7F7C08748090>})"
      ]
     },
     "execution_count": 199,
     "metadata": {},
     "output_type": "execute_result"
    }
   ],
   "source": [
    "reloaded_model.signatures"
   ]
  },
  {
   "cell_type": "code",
   "execution_count": 200,
   "id": "78f5f883-ba94-4680-828a-026d55c63e4e",
   "metadata": {},
   "outputs": [
    {
     "data": {
      "text/plain": [
       "<ConcreteFunction signature_wrapper(Amount, Time, V1, V10, V11, V12, V13, V14, V15, V16, V17, V18, V19, V2, V20, V21, V22, V23, V24, V25, V26, V27, V28, V3, V4, V5, V6, V7, V8, V9) at 0x7F7C08748090>"
      ]
     },
     "execution_count": 200,
     "metadata": {},
     "output_type": "execute_result"
    }
   ],
   "source": [
    "reloaded_model.signatures['serving_default']"
   ]
  },
  {
   "cell_type": "code",
   "execution_count": 201,
   "id": "9e7a74ac-3daf-4048-964b-02442d3313e9",
   "metadata": {},
   "outputs": [
    {
     "data": {
      "text/plain": [
       "((),\n",
       " {'V18': TensorSpec(shape=(None, 1), dtype=tf.float32, name='V18'),\n",
       "  'V16': TensorSpec(shape=(None, 1), dtype=tf.float32, name='V16'),\n",
       "  'V23': TensorSpec(shape=(None, 1), dtype=tf.float32, name='V23'),\n",
       "  'V21': TensorSpec(shape=(None, 1), dtype=tf.float32, name='V21'),\n",
       "  'V6': TensorSpec(shape=(None, 1), dtype=tf.float32, name='V6'),\n",
       "  'V10': TensorSpec(shape=(None, 1), dtype=tf.float32, name='V10'),\n",
       "  'V25': TensorSpec(shape=(None, 1), dtype=tf.float32, name='V25'),\n",
       "  'V13': TensorSpec(shape=(None, 1), dtype=tf.float32, name='V13'),\n",
       "  'V28': TensorSpec(shape=(None, 1), dtype=tf.float32, name='V28'),\n",
       "  'V4': TensorSpec(shape=(None, 1), dtype=tf.float32, name='V4'),\n",
       "  'V9': TensorSpec(shape=(None, 1), dtype=tf.float32, name='V9'),\n",
       "  'V15': TensorSpec(shape=(None, 1), dtype=tf.float32, name='V15'),\n",
       "  'V5': TensorSpec(shape=(None, 1), dtype=tf.float32, name='V5'),\n",
       "  'V3': TensorSpec(shape=(None, 1), dtype=tf.float32, name='V3'),\n",
       "  'V27': TensorSpec(shape=(None, 1), dtype=tf.float32, name='V27'),\n",
       "  'V11': TensorSpec(shape=(None, 1), dtype=tf.float32, name='V11'),\n",
       "  'V20': TensorSpec(shape=(None, 1), dtype=tf.float32, name='V20'),\n",
       "  'V1': TensorSpec(shape=(None, 1), dtype=tf.float32, name='V1'),\n",
       "  'V2': TensorSpec(shape=(None, 1), dtype=tf.float32, name='V2'),\n",
       "  'V7': TensorSpec(shape=(None, 1), dtype=tf.float32, name='V7'),\n",
       "  'V17': TensorSpec(shape=(None, 1), dtype=tf.float32, name='V17'),\n",
       "  'Amount': TensorSpec(shape=(None, 1), dtype=tf.float32, name='Amount'),\n",
       "  'V22': TensorSpec(shape=(None, 1), dtype=tf.float32, name='V22'),\n",
       "  'V8': TensorSpec(shape=(None, 1), dtype=tf.float32, name='V8'),\n",
       "  'V12': TensorSpec(shape=(None, 1), dtype=tf.float32, name='V12'),\n",
       "  'V14': TensorSpec(shape=(None, 1), dtype=tf.float32, name='V14'),\n",
       "  'V24': TensorSpec(shape=(None, 1), dtype=tf.float32, name='V24'),\n",
       "  'V26': TensorSpec(shape=(None, 1), dtype=tf.float32, name='V26'),\n",
       "  'Time': TensorSpec(shape=(None, 1), dtype=tf.float32, name='Time'),\n",
       "  'V19': TensorSpec(shape=(None, 1), dtype=tf.float32, name='V19')})"
      ]
     },
     "execution_count": 201,
     "metadata": {},
     "output_type": "execute_result"
    }
   ],
   "source": [
    "reloaded_model.signatures['serving_default'].structured_input_signature"
   ]
  },
  {
   "cell_type": "code",
   "execution_count": 202,
   "id": "bc3a44da-c23d-4d9d-9d2c-191c36c3daa1",
   "metadata": {},
   "outputs": [],
   "source": [
    "#!saved_model_cli show --dir {DIR}/model --all"
   ]
  },
  {
   "cell_type": "markdown",
   "id": "8c025f60-ac3c-46cf-802c-54c670945fce",
   "metadata": {},
   "source": [
    "### Build Docker Container\n",
    "This build is local to the notebook.  It could be done on a service like Cloud Build."
   ]
  },
  {
   "cell_type": "code",
   "execution_count": 203,
   "id": "8da44d61-c8ad-4cc0-8e42-149435ead534",
   "metadata": {
    "tags": []
   },
   "outputs": [],
   "source": [
    "dockerfile = f\"\"\"\n",
    "FROM tensorflow/serving\n",
    "#ENTRYPOINT [“/usr/bin/env”]\n",
    "ENV MODEL_NAME={SERIES}\n",
    "ENV PORT=8501\n",
    "COPY . /models/{SERIES}/1\n",
    "#RUN ls -la /models/{SERIES}\n",
    "CMD tensorflow_model_server --port8500 --rest_api_port=$PORT --model_base_path=/models/{SERIES} --model_name=$MODEL_NAME\n",
    "\"\"\"\n",
    "with open(f'{DIR}/model/Dockerfile', 'w') as f:\n",
    "    f.write(dockerfile)"
   ]
  },
  {
   "cell_type": "markdown",
   "id": "c08bfe46-7ce8-4278-9fad-3b55b555fa9d",
   "metadata": {},
   "source": [
    "Create an Image Tag for Artifact Registry - the repository name:"
   ]
  },
  {
   "cell_type": "code",
   "execution_count": 204,
   "id": "6e2b7cdd-bd43-4b22-ab62-63d8a9395387",
   "metadata": {},
   "outputs": [
    {
     "data": {
      "text/plain": [
       "'us-central1-docker.pkg.dev/statmike-mlops-349915/statmike-mlops-349915/05_predictions:latest'"
      ]
     },
     "execution_count": 204,
     "metadata": {},
     "output_type": "execute_result"
    }
   ],
   "source": [
    "IMAGE_URI=f\"{REGION}-docker.pkg.dev/{PROJECT_ID}/{PROJECT_ID}/{EXPERIMENT}:latest\"\n",
    "IMAGE_URI"
   ]
  },
  {
   "cell_type": "markdown",
   "id": "82bedad1-60c3-4f4a-af06-f00dd894960f",
   "metadata": {},
   "source": [
    "Docker build - local:"
   ]
  },
  {
   "cell_type": "code",
   "execution_count": 205,
   "id": "94e9e835-32e5-4e13-bac6-f9864a1316d2",
   "metadata": {},
   "outputs": [
    {
     "name": "stdout",
     "output_type": "stream",
     "text": [
      "Sending build context to Docker daemon    577kB\n",
      "Step 1/5 : FROM tensorflow/serving\n",
      " ---> e874bf5e4700\n",
      "Step 2/5 : ENV MODEL_NAME=05\n",
      " ---> Running in 19af52825bb6\n",
      "Removing intermediate container 19af52825bb6\n",
      " ---> 61a96ae77269\n",
      "Step 3/5 : ENV PORT=8501\n",
      " ---> Running in 861e386ea73a\n",
      "Removing intermediate container 861e386ea73a\n",
      " ---> 4683d88f4b02\n",
      "Step 4/5 : COPY . /models/05/1\n",
      " ---> 5ac9b9a4e441\n",
      "Step 5/5 : CMD tensorflow_model_server --port8500 --rest_api_port=$PORT --model_base_path=/models/05 --model_name=$MODEL_NAME\n",
      " ---> Running in dce6ff89bebb\n",
      "Removing intermediate container dce6ff89bebb\n",
      " ---> 822c2c21e86b\n",
      "Successfully built 822c2c21e86b\n",
      "Successfully tagged us-central1-docker.pkg.dev/statmike-mlops-349915/statmike-mlops-349915/05_predictions:latest\n"
     ]
    }
   ],
   "source": [
    "!docker build -t $IMAGE_URI {DIR}/model/."
   ]
  },
  {
   "cell_type": "markdown",
   "id": "6bc5f586-ecc1-49a4-b7db-00473af40c33",
   "metadata": {},
   "source": [
    "### Test Docker Container Locally (in a subprocess)\n",
    "Use the `-rm` flag to indicate the container should be automatically removed once stopped."
   ]
  },
  {
   "cell_type": "code",
   "execution_count": 206,
   "id": "3e7e6146-2a34-4607-86f0-07cfc25f2d51",
   "metadata": {},
   "outputs": [
    {
     "name": "stdout",
     "output_type": "stream",
     "text": [
      "unknown argument: /bin/sh\n",
      "usage: tensorflow_model_server\n",
      "Flags:\n",
      "\t--port=8500                      \tint32\tTCP port to listen on for gRPC/HTTP API. Disabled if port set to zero.\n",
      "\t--grpc_socket_path=\"\"            \tstring\tIf non-empty, listen to a UNIX socket for gRPC API on the given path. Can be either relative or absolute path.\n",
      "\t--rest_api_port=0                \tint32\tPort to listen on for HTTP/REST API. If set to zero HTTP/REST API will not be exported. This port must be different than the one specified in --port.\n",
      "\t--rest_api_num_threads=16        \tint32\tNumber of threads for HTTP/REST API processing. If not set, will be auto set based on number of CPUs.\n",
      "\t--rest_api_timeout_in_ms=30000   \tint32\tTimeout for HTTP/REST API calls.\n",
      "\t--rest_api_enable_cors_support=false\tbool\tEnable CORS headers in response\n",
      "\t--enable_batching=false          \tbool\tenable batching\n",
      "\t--allow_version_labels_for_unavailable_models=false\tbool\tIf true, allows assigning unused version labels to models that are not available yet.\n",
      "\t--batching_parameters_file=\"\"    \tstring\tIf non-empty, read an ascii BatchingParameters protobuf from the supplied file name and use the contained values instead of the defaults.\n",
      "\t--model_config_file=\"\"           \tstring\tIf non-empty, read an ascii ModelServerConfig protobuf from the supplied file name, and serve the models in that file. This config file can be used to specify multiple models to serve and other advanced parameters including non-default version policy. (If used, --model_name, --model_base_path are ignored.)\n",
      "\t--model_config_file_poll_wait_seconds=0\tint32\tInterval in seconds between each poll of the filesystemfor model_config_file. If unset or set to zero, poll will be done exactly once and not periodically. Setting this to negative is reserved for testing purposes only.\n",
      "\t--model_name=\"default\"           \tstring\tname of model (ignored if --model_config_file flag is set)\n",
      "\t--model_base_path=\"\"             \tstring\tpath to export (ignored if --model_config_file flag is set, otherwise required)\n",
      "\t--num_load_threads=0             \tint32\tThe number of threads in the thread-pool used to load servables. If set as 0, we don't use a thread-pool, and servable loads are performed serially in the manager's main work loop, may casue the Serving request to be delayed. Default: 0\n",
      "\t--num_unload_threads=0           \tint32\tThe number of threads in the thread-pool used to unload servables. If set as 0, we don't use a thread-pool, and servable loads are performed serially in the manager's main work loop, may casue the Serving request to be delayed. Default: 0\n",
      "\t--max_num_load_retries=5         \tint32\tmaximum number of times it retries loading a model after the first failure, before giving up. If set to 0, a load is attempted only once. Default: 5\n",
      "\t--load_retry_interval_micros=60000000\tint64\tThe interval, in microseconds, between each servable load retry. If set negative, it doesn't wait. Default: 1 minute\n",
      "\t--file_system_poll_wait_seconds=1\tint32\tInterval in seconds between each poll of the filesystem for new model version. If set to zero poll will be exactly done once and not periodically. Setting this to negative value will disable polling entirely causing ModelServer to indefinitely wait for a new model at startup. Negative values are reserved for testing purposes only.\n",
      "\t--flush_filesystem_caches=true   \tbool\tIf true (the default), filesystem caches will be flushed after the initial load of all servables, and after each subsequent individual servable reload (if the number of load threads is 1). This reduces memory consumption of the model server, at the potential cost of cache misses if model files are accessed after servables are loaded.\n",
      "\t--tensorflow_session_parallelism=0\tint64\tNumber of threads to use for running a Tensorflow session. Auto-configured by default.Note that this option is ignored if --platform_config_file is non-empty.\n",
      "\t--tensorflow_intra_op_parallelism=0\tint64\tNumber of threads to use to parallelize the executionof an individual op. Auto-configured by default.Note that this option is ignored if --platform_config_file is non-empty.\n",
      "\t--tensorflow_inter_op_parallelism=0\tint64\tControls the number of operators that can be executed simultaneously. Auto-configured by default.Note that this option is ignored if --platform_config_file is non-empty.\n",
      "\t--ssl_config_file=\"\"             \tstring\tIf non-empty, read an ascii SSLConfig protobuf from the supplied file name and set up a secure gRPC channel\n",
      "\t--platform_config_file=\"\"        \tstring\tIf non-empty, read an ascii PlatformConfigMap protobuf from the supplied file name, and use that platform config instead of the Tensorflow platform. (If used, --enable_batching is ignored.)\n",
      "\t--per_process_gpu_memory_fraction=0.000000\tfloat\tFraction that each process occupies of the GPU memory space the value is between 0.0 and 1.0 (with 0.0 as the default) If 1.0, the server will allocate all the memory when the server starts, If 0.0, Tensorflow will automatically select a value.\n",
      "\t--saved_model_tags=\"serve\"       \tstring\tComma-separated set of tags corresponding to the meta graph def to load from SavedModel.\n",
      "\t--grpc_channel_arguments=\"\"      \tstring\tA comma separated list of arguments to be passed to the grpc server. (e.g. grpc.max_connection_age_ms=2000)\n",
      "\t--grpc_max_threads=16            \tint32\tMax grpc server threads to handle grpc messages.\n",
      "\t--enable_model_warmup=true       \tbool\tEnables model warmup, which triggers lazy initializations (such as TF optimizations) at load time, to reduce first request latency.\n",
      "\t--version=false                  \tbool\tDisplay version\n",
      "\t--monitoring_config_file=\"\"      \tstring\tIf non-empty, read an ascii MonitoringConfig protobuf from the supplied file name\n",
      "\t--remove_unused_fields_from_bundle_metagraph=true\tbool\tRemoves unused fields from MetaGraphDef proto message to save memory.\n",
      "\t--prefer_tflite_model=false      \tbool\tEXPERIMENTAL; CAN BE REMOVED ANYTIME! Prefer TensorFlow Lite model from `model.tflite` file in SavedModel directory, instead of the TensorFlow model from `saved_model.pb` file. If no TensorFlow Lite model found, fallback to TensorFlow model.\n",
      "\t--num_tflite_pools=4             \tint32\tEXPERIMENTAL; CAN BE REMOVED ANYTIME! Number of TFLite interpreters in an interpreter pool of TfLiteSession. Typically there is one TfLiteSession for each TF Lite model that is loaded. If not set, will be auto set based on number of CPUs.\n",
      "\t--num_tflite_interpreters_per_pool=1\tint32\tEXPERIMENTAL; CAN BE REMOVED ANYTIME! Number of TFLite interpreters in an interpreter pool of TfLiteSession. Typically there is one TfLiteSession for each TF Lite model that is loaded. If not set, will be 1.\n",
      "\t--enable_signature_method_name_check=false\tbool\tEnable method_name check for SignatureDef. Disable this if serving native TF2 regression/classification models.\n",
      "\t--xla_cpu_compilation_enabled=false\tbool\tEXPERIMENTAL; CAN BE REMOVED ANYTIME! Enable XLA:CPU JIT (default is disabled). With XLA:CPU JIT disabled, models utilizing this feature will return bad Status on first compilation request.\n",
      "\t--enable_profiler=true           \tbool\tEnable profiler service.\n",
      "2022-08-26 21:06:22.926780: I tensorflow_serving/model_servers/server.cc:89] Building single TensorFlow model file config:  model_name: 05 model_base_path: /models/05\n",
      "2022-08-26 21:06:22.927287: I tensorflow_serving/model_servers/server_core.cc:465] Adding/updating models.\n",
      "2022-08-26 21:06:22.927333: I tensorflow_serving/model_servers/server_core.cc:591]  (Re-)adding model: 05\n",
      "2022-08-26 21:06:23.028105: I tensorflow_serving/core/basic_manager.cc:740] Successfully reserved resources to load servable {name: 05 version: 1}\n",
      "2022-08-26 21:06:23.028155: I tensorflow_serving/core/loader_harness.cc:66] Approving load for servable version {name: 05 version: 1}\n",
      "2022-08-26 21:06:23.028171: I tensorflow_serving/core/loader_harness.cc:74] Loading servable version {name: 05 version: 1}\n",
      "2022-08-26 21:06:23.028259: I external/org_tensorflow/tensorflow/cc/saved_model/reader.cc:38] Reading SavedModel from: /models/05/1\n",
      "2022-08-26 21:06:23.043230: I external/org_tensorflow/tensorflow/cc/saved_model/reader.cc:90] Reading meta graph with tags { serve }\n",
      "2022-08-26 21:06:23.043287: I external/org_tensorflow/tensorflow/cc/saved_model/reader.cc:132] Reading SavedModel debug info (if present) from: /models/05/1\n",
      "2022-08-26 21:06:23.043431: I external/org_tensorflow/tensorflow/core/platform/cpu_feature_guard.cc:142] This TensorFlow binary is optimized with oneAPI Deep Neural Network Library (oneDNN) to use the following CPU instructions in performance-critical operations:  AVX2 FMA\n",
      "To enable them in other operations, rebuild TensorFlow with the appropriate compiler flags.\n",
      "2022-08-26 21:06:23.124223: I external/org_tensorflow/tensorflow/cc/saved_model/loader.cc:206] Restoring SavedModel bundle.\n",
      "2022-08-26 21:06:23.130143: I external/org_tensorflow/tensorflow/core/platform/profile_utils/cpu_utils.cc:114] CPU Frequency: 2299995000 Hz\n",
      "2022-08-26 21:06:23.201520: I external/org_tensorflow/tensorflow/cc/saved_model/loader.cc:190] Running initialization op on SavedModel bundle at path: /models/05/1\n",
      "2022-08-26 21:06:23.235381: I external/org_tensorflow/tensorflow/cc/saved_model/loader.cc:277] SavedModel load for tags { serve }; Status: success: OK. Took 207120 microseconds.\n",
      "2022-08-26 21:06:23.239634: I tensorflow_serving/servables/tensorflow/saved_model_warmup_util.cc:59] No warmup data file found at /models/05/1/assets.extra/tf_serving_warmup_requests\n",
      "2022-08-26 21:06:23.242790: I tensorflow_serving/core/loader_harness.cc:87] Successfully loaded servable version {name: 05 version: 1}\n",
      "2022-08-26 21:06:23.243935: I tensorflow_serving/model_servers/server_core.cc:486] Finished adding/updating models\n",
      "2022-08-26 21:06:23.244049: I tensorflow_serving/model_servers/server.cc:367] Profiler service is enabled\n",
      "2022-08-26 21:06:23.245974: I tensorflow_serving/model_servers/server.cc:393] Running gRPC ModelServer at 0.0.0.0:8500 ...\n",
      "[warn] getaddrinfo: address family for nodename not supported\n",
      "2022-08-26 21:06:23.248273: I tensorflow_serving/model_servers/server.cc:414] Exporting HTTP/REST API at:localhost:8501 ...\n",
      "[evhttp_server.cc : 245] NET_LOG: Entering the event loop ...\n"
     ]
    }
   ],
   "source": [
    "import multiprocessing\n",
    "\n",
    "def docker_runner():\n",
    "    !docker run -t --rm -i -p 8501:8501 $IMAGE_URI\n",
    "\n",
    "def main():\n",
    "    p = multiprocessing.Process(target=docker_runner)\n",
    "    p.start()\n",
    "    return p\n",
    "    \n",
    "p = main()"
   ]
  },
  {
   "cell_type": "markdown",
   "id": "a09af60d-7dbf-423d-bfac-d3186463cf5a",
   "metadata": {},
   "source": [
    "#### Get Predictions on Exposed Port"
   ]
  },
  {
   "cell_type": "code",
   "execution_count": 207,
   "id": "f318b776-9bc7-40fe-b838-af2c92c18dda",
   "metadata": {},
   "outputs": [],
   "source": [
    "import requests"
   ]
  },
  {
   "cell_type": "code",
   "execution_count": 208,
   "id": "fabccd13-aecb-4065-8f8d-662f912f0401",
   "metadata": {},
   "outputs": [],
   "source": [
    "headers = {\"content-type\": \"application/json\"}\n",
    "json_response = requests.post(f'http://localhost:8501/v1/models/{SERIES}:predict', data=json.dumps({\"instances\": [newobs[0]]}), headers=headers)"
   ]
  },
  {
   "cell_type": "code",
   "execution_count": 209,
   "id": "4108483e-8d4e-4f12-82c9-1b9aa2ddfc4d",
   "metadata": {},
   "outputs": [
    {
     "name": "stdout",
     "output_type": "stream",
     "text": [
      "{\n",
      "    \"predictions\": [[0.999176681, 0.000823272683]\n",
      "    ]\n",
      "}\n"
     ]
    }
   ],
   "source": [
    "print(json_response.text)"
   ]
  },
  {
   "cell_type": "code",
   "execution_count": 210,
   "id": "6ffaf1fe-daa5-4c18-a116-a46477524dd8",
   "metadata": {},
   "outputs": [
    {
     "data": {
      "text/plain": [
       "[[0.999176681, 0.000823272683]]"
      ]
     },
     "execution_count": 210,
     "metadata": {},
     "output_type": "execute_result"
    }
   ],
   "source": [
    "predictions = json.loads(json_response.text)['predictions']\n",
    "predictions"
   ]
  },
  {
   "cell_type": "code",
   "execution_count": 211,
   "id": "5b41786b-0964-4b1c-913c-3b6c08cd48a6",
   "metadata": {
    "tags": []
   },
   "outputs": [
    {
     "data": {
      "text/plain": [
       "0"
      ]
     },
     "execution_count": 211,
     "metadata": {},
     "output_type": "execute_result"
    }
   ],
   "source": [
    "np.argmax(predictions[0])"
   ]
  },
  {
   "cell_type": "markdown",
   "id": "3109660a-451e-4213-81c6-5f94aa41e086",
   "metadata": {},
   "source": [
    "#### Shutdown TensorFlow Serving Container\n",
    "There are two entities running: a subprocess called `p` and a docker container that was run by the subprocess.  It is not enough to just stop `p` but it might be enough to stop the container and then the subprocess will terminate due to completion.  The commands below stop the subprocess `p` and then stop and remove (automatic since run with `-rm` flag) the container."
   ]
  },
  {
   "cell_type": "code",
   "execution_count": 212,
   "id": "12cc8bca-47f2-4dc7-87ce-6f162197f65f",
   "metadata": {},
   "outputs": [],
   "source": [
    "p.terminate()"
   ]
  },
  {
   "cell_type": "code",
   "execution_count": 213,
   "id": "f1af3b7c-e73a-4a7c-8026-7284be895c9e",
   "metadata": {},
   "outputs": [
    {
     "data": {
      "text/plain": [
       "False"
      ]
     },
     "execution_count": 213,
     "metadata": {},
     "output_type": "execute_result"
    }
   ],
   "source": [
    "p.is_alive()"
   ]
  },
  {
   "cell_type": "code",
   "execution_count": 214,
   "id": "d3cbc09f-8052-4608-8982-b5b07c75af65",
   "metadata": {},
   "outputs": [
    {
     "data": {
      "text/plain": [
       "['CONTAINER ID   IMAGE                                                                                          COMMAND                  CREATED          STATUS          PORTS                              NAMES',\n",
       " 'b705fef88ede   us-central1-docker.pkg.dev/statmike-mlops-349915/statmike-mlops-349915/05_predictions:latest   \"/usr/bin/tf_serving…\"   39 seconds ago   Up 38 seconds   8500/tcp, 0.0.0.0:8501->8501/tcp   funny_agnesi',\n",
       " 'cfc6fa1ae606   gcr.io/inverting-proxy/agent                                                                   \"/bin/sh -c \\'/opt/bi…\"   13 days ago      Up 13 days                                         proxy-agent']"
      ]
     },
     "execution_count": 214,
     "metadata": {},
     "output_type": "execute_result"
    }
   ],
   "source": [
    "docker = !docker ps -a\n",
    "docker"
   ]
  },
  {
   "cell_type": "code",
   "execution_count": 215,
   "id": "02ceca87-d691-4387-9438-7b475bfb8800",
   "metadata": {},
   "outputs": [
    {
     "name": "stdout",
     "output_type": "stream",
     "text": [
      "funny_agnesi\n",
      "funny_agnesi\n"
     ]
    }
   ],
   "source": [
    "for d in docker:\n",
    "    if f'{IMAGE_URI}' in d:\n",
    "        print(d.split()[-1])\n",
    "        !docker stop {d.split()[-1]}"
   ]
  },
  {
   "cell_type": "code",
   "execution_count": 216,
   "id": "79682d3f-f091-497a-ab56-7514e186e050",
   "metadata": {
    "tags": []
   },
   "outputs": [
    {
     "name": "stdout",
     "output_type": "stream",
     "text": [
      "CONTAINER ID   IMAGE                          COMMAND                  CREATED       STATUS       PORTS     NAMES\n",
      "cfc6fa1ae606   gcr.io/inverting-proxy/agent   \"/bin/sh -c '/opt/bi…\"   13 days ago   Up 13 days             proxy-agent\n"
     ]
    }
   ],
   "source": [
    "!docker ps -a"
   ]
  },
  {
   "cell_type": "markdown",
   "id": "b9b8db77-1705-4111-be88-0e174876ec89",
   "metadata": {},
   "source": [
    "### Push the Docker Container to Artifact Registry"
   ]
  },
  {
   "cell_type": "markdown",
   "id": "19d27bb8-72b3-42f3-9402-2b248d24589a",
   "metadata": {},
   "source": [
    "#### Enable Artifact Registry API:\n",
    "Check to see if the api is enabled, if not then enable it:"
   ]
  },
  {
   "cell_type": "code",
   "execution_count": 217,
   "id": "e45e4bab-241c-4609-af07-594abe32830b",
   "metadata": {},
   "outputs": [
    {
     "name": "stdout",
     "output_type": "stream",
     "text": [
      "Artifact Registry is Enabled for This Project: statmike-mlops-349915\n"
     ]
    }
   ],
   "source": [
    "services = !gcloud services list --format=\"json\" --available --filter=name:artifactregistry.googleapis.com\n",
    "services = json.loads(\"\".join(services))\n",
    "\n",
    "if (services[0]['config']['name'] == 'artifactregistry.googleapis.com') & (services[0]['state'] == 'ENABLED'):\n",
    "    print(f\"Artifact Registry is Enabled for This Project: {PROJECT_ID}\")\n",
    "else:\n",
    "    print(f\"Enabeling Artifact Registry for this Project: {PROJECT_ID}\")\n",
    "    !gcloud services enable artifactregistry.googleapis.com"
   ]
  },
  {
   "cell_type": "markdown",
   "id": "ccc4798d-ae64-4f8d-9e70-e066b3b0b109",
   "metadata": {},
   "source": [
    "#### Create A Repository\n",
    "Check to see if the registry is already created, if not then create it"
   ]
  },
  {
   "cell_type": "code",
   "execution_count": 218,
   "id": "0160c912-008e-4422-b065-fb6f3028db2d",
   "metadata": {},
   "outputs": [
    {
     "name": "stdout",
     "output_type": "stream",
     "text": [
      "There is already a repository named statmike-mlops-349915\n"
     ]
    }
   ],
   "source": [
    "check_for_repo = !gcloud artifacts repositories describe {PROJECT_ID} --location={REGION}\n",
    "\n",
    "if check_for_repo[0].startswith('ERROR'):\n",
    "    print(f'Creating a repository named {PROJECT_ID}')\n",
    "    !gcloud  artifacts repositories create {PROJECT_ID} --repository-format=docker --location={REGION} --description=\"Vertex AI Training Custom Containers\"\n",
    "else:\n",
    "    print(f'There is already a repository named {PROJECT_ID}')"
   ]
  },
  {
   "cell_type": "markdown",
   "id": "8a377300-47c5-460d-849b-1c1dc5a721d5",
   "metadata": {},
   "source": [
    "#### Configure Local Docker to Use GCLOUD CLI"
   ]
  },
  {
   "cell_type": "code",
   "execution_count": 219,
   "id": "10f97352-9809-41cc-a795-344498c8f5ed",
   "metadata": {},
   "outputs": [
    {
     "name": "stdout",
     "output_type": "stream",
     "text": [
      "\u001b[1;33mWARNING:\u001b[0m Your config file at [/home/jupyter/.docker/config.json] contains these credential helper entries:\n",
      "\n",
      "{\n",
      "  \"credHelpers\": {\n",
      "    \"gcr.io\": \"gcloud\",\n",
      "    \"us.gcr.io\": \"gcloud\",\n",
      "    \"eu.gcr.io\": \"gcloud\",\n",
      "    \"asia.gcr.io\": \"gcloud\",\n",
      "    \"staging-k8s.gcr.io\": \"gcloud\",\n",
      "    \"marketplace.gcr.io\": \"gcloud\",\n",
      "    \"us-central1-docker.pkg.dev\": \"gcloud\"\n",
      "  }\n",
      "}\n",
      "Adding credentials for: us-central1-docker.pkg.dev\n",
      "gcloud credential helpers already registered correctly.\n"
     ]
    }
   ],
   "source": [
    "!gcloud auth configure-docker {REGION}-docker.pkg.dev --quiet"
   ]
  },
  {
   "cell_type": "markdown",
   "id": "16e87336-90be-4046-bb91-7f25efb0077d",
   "metadata": {},
   "source": [
    "#### Push The Container to The Repository"
   ]
  },
  {
   "cell_type": "code",
   "execution_count": 220,
   "id": "dffad9cb-7bfe-4746-ac3c-771d73a77487",
   "metadata": {},
   "outputs": [
    {
     "name": "stdout",
     "output_type": "stream",
     "text": [
      "The push refers to repository [us-central1-docker.pkg.dev/statmike-mlops-349915/statmike-mlops-349915/05_predictions]\n",
      "\n",
      "\u001b[1B9c0f0fb7: Preparing \n",
      "\u001b[1B23850a27: Preparing \n",
      "\u001b[1Ba33781cd: Preparing \n",
      "\u001b[1B89523b17: Preparing \n",
      "\u001b[1Bf28d5f3c: Preparing \n",
      "\u001b[1Bc6d2db45: Preparing \n",
      "\u001b[1Bbacb0351: Preparing \n",
      "\u001b[8B9c0f0fb7: Pushed lready exists 9kB\u001b[5A\u001b[2K\u001b[1A\u001b[2K\u001b[8A\u001b[2Klatest: digest: sha256:0cb8dacb33652b932190b7192a630742395948db07db06ee53f43042f7ff4ad5 size: 1989\n"
     ]
    }
   ],
   "source": [
    "!docker push $IMAGE_URI"
   ]
  },
  {
   "cell_type": "markdown",
   "id": "7f9eb899-f34d-45cc-9ad6-18ec86ee7960",
   "metadata": {},
   "source": [
    "### Deploy as Cloud Run Service\n",
    "This demonstration creates an open service allowing all traffic.  Review documentation for [Cloud Run](https://cloud.google.com/run/docs/overview/what-is-cloud-run) and the [CLOUD SKD CLI sections](https://cloud.google.com/sdk/gcloud/reference/run) for `gcloud run`.\n",
    "\n",
    "\n",
    "If you have a policy inforced for 'Domain Restricted Sharing' then it may need adjusting for the project to allow this.  This should be done with care and you may wish to only accept authenticated or internal traffic.  Review options for authentication [here](https://cloud.google.com/run/docs/authenticating/overview).\n",
    "\n",
    "Updated Org Policy:\n",
    "- Logged in as Admin\n",
    "- IAM > Organization Policies\n",
    "    - Changed to Project (not org level)\n",
    "    - Filter 'Domain Restricted Sharing'\n",
    "    - Select and Edit\n",
    "        - Applies to = Customize\n",
    "        - Policy enforcement = Replace\n",
    "        - Rules = Allow all\n",
    "    - Save"
   ]
  },
  {
   "cell_type": "markdown",
   "id": "9e49fc53-717c-44d6-8f4b-b0590848ab3c",
   "metadata": {},
   "source": [
    "View the Cloud Run Console for this project:"
   ]
  },
  {
   "cell_type": "code",
   "execution_count": 221,
   "id": "804d58c5-3652-4dd9-8429-b027347cf2eb",
   "metadata": {},
   "outputs": [
    {
     "name": "stdout",
     "output_type": "stream",
     "text": [
      "https://console.cloud.google.com/run?project=statmike-mlops-349915\n"
     ]
    }
   ],
   "source": [
    "print(f'https://console.cloud.google.com/run?project={PROJECT_ID}')"
   ]
  },
  {
   "cell_type": "code",
   "execution_count": 222,
   "id": "1679decb-cfa0-466c-bc7d-dac6019dea21",
   "metadata": {},
   "outputs": [
    {
     "name": "stdout",
     "output_type": "stream",
     "text": [
      "Deploying new service...                                                       \n",
      "  . Creating Revision...                                                       \n",
      "  . Routing traffic...                                                         \n",
      "  . Setting IAM Policy...                                                      \n"
     ]
    }
   ],
   "source": [
    "!gcloud run deploy endpoint-$SERIES-$BQ_DATASET --image=$IMAGE_URI --port=8501 --region=$REGION --platform=managed --allow-unauthenticated --no-user-output-enabled"
   ]
  },
  {
   "cell_type": "code",
   "execution_count": 223,
   "id": "0fe00e16-afa6-42f9-a3d6-d6e754228a12",
   "metadata": {},
   "outputs": [
    {
     "name": "stdout",
     "output_type": "stream",
     "text": [
      "   SERVICE            REGION       URL                                                LAST DEPLOYED BY                                     LAST DEPLOYED AT\n",
      "\u001b[32m✔\u001b[39;0m  endpoint-05-fraud  us-central1  https://endpoint-05-fraud-urlxi72dpa-uc.a.run.app  1026793852137-compute@developer.gserviceaccount.com  2022-08-26T21:08:34.408166Z\n"
     ]
    }
   ],
   "source": [
    "!gcloud run services list"
   ]
  },
  {
   "cell_type": "code",
   "execution_count": 224,
   "id": "01e34020-7542-4468-8d1d-2ac76c401911",
   "metadata": {},
   "outputs": [
    {
     "data": {
      "text/plain": [
       "'https://endpoint-05-fraud-urlxi72dpa-uc.a.run.app'"
      ]
     },
     "execution_count": 224,
     "metadata": {},
     "output_type": "execute_result"
    }
   ],
   "source": [
    "services = !gcloud run services list --format=\"json\" --filter=SERVICE:endpoint-$SERIES-$BQ_DATASET\n",
    "services = json.loads(\"\".join(services))[0]\n",
    "services['status']['url']"
   ]
  },
  {
   "cell_type": "markdown",
   "id": "b4e2c335-6fad-4253-9736-8f6717f9ed93",
   "metadata": {},
   "source": [
    "If you had to adjust a `Domain Restricted Sharing` policy after deployment then this command can update the service to allow all traffic:"
   ]
  },
  {
   "cell_type": "code",
   "execution_count": 225,
   "id": "4dcd3c3f-77b9-4df8-8e43-2e5d10e1ff02",
   "metadata": {},
   "outputs": [],
   "source": [
    "#!gcloud run services add-iam-policy-binding --region=us-central1 --member='allUsers' --role=roles/run.invoker endpoint-$SERIES-$DATANAME"
   ]
  },
  {
   "cell_type": "markdown",
   "id": "ab5a7b4b-5eb4-453a-945c-084620243c80",
   "metadata": {},
   "source": [
    "### Get Predictions Using Cloud Run Service"
   ]
  },
  {
   "cell_type": "code",
   "execution_count": 226,
   "id": "3ec8c9a9-0fd2-4300-aa10-2fa8b7b74183",
   "metadata": {},
   "outputs": [],
   "source": [
    "import requests"
   ]
  },
  {
   "cell_type": "code",
   "execution_count": 227,
   "id": "fe81bac3-46b3-4d6b-98c7-afc0d5a75108",
   "metadata": {},
   "outputs": [],
   "source": [
    "headers = {\"content-type\": \"application/json\"}\n",
    "json_response = requests.post(f\"{services['status']['url']}/v1/models/{SERIES}:predict\", data=json.dumps({\"instances\": [newobs[0]]}), headers=headers)"
   ]
  },
  {
   "cell_type": "code",
   "execution_count": 228,
   "id": "12bab5e7-00ac-4e4b-876a-06e3117fb4bd",
   "metadata": {},
   "outputs": [
    {
     "name": "stdout",
     "output_type": "stream",
     "text": [
      "{\n",
      "    \"predictions\": [[0.999176681, 0.000823272683]\n",
      "    ]\n",
      "}\n"
     ]
    }
   ],
   "source": [
    "print(json_response.text)"
   ]
  },
  {
   "cell_type": "code",
   "execution_count": 229,
   "id": "7e36a517-c851-473c-8298-0b8960cc58ee",
   "metadata": {},
   "outputs": [
    {
     "data": {
      "text/plain": [
       "[[0.999176681, 0.000823272683]]"
      ]
     },
     "execution_count": 229,
     "metadata": {},
     "output_type": "execute_result"
    }
   ],
   "source": [
    "predictions = json.loads(json_response.text)['predictions']\n",
    "predictions"
   ]
  },
  {
   "cell_type": "code",
   "execution_count": 230,
   "id": "976b3b56-67ec-4d37-a677-97b696c3f674",
   "metadata": {
    "tags": []
   },
   "outputs": [
    {
     "data": {
      "text/plain": [
       "0"
      ]
     },
     "execution_count": 230,
     "metadata": {},
     "output_type": "execute_result"
    }
   ],
   "source": [
    "np.argmax(predictions[0])"
   ]
  },
  {
   "cell_type": "markdown",
   "id": "f437695b-91f6-48f5-811b-8199f6ee600f",
   "metadata": {},
   "source": [
    "### Remove Service\n",
    "Alternatively, you could adjust the service to not accept traffic.  Cloud Run will scale down to zero - or only charge when CPU is used (startup, shutdown, and receiving requests) unless `--no-cpu-throttling` is used ([documentation](https://cloud.google.com/run/docs/configuring/cpu-allocation#setting))."
   ]
  },
  {
   "cell_type": "code",
   "execution_count": 231,
   "id": "de0968d3-5c40-4228-97cb-ea012d761d31",
   "metadata": {},
   "outputs": [
    {
     "name": "stdout",
     "output_type": "stream",
     "text": [
      "Deleting [endpoint-05-fraud]...done.                                           \n",
      "Deleted service [endpoint-05-fraud].\n"
     ]
    }
   ],
   "source": [
    "!gcloud run services delete --region=us-central1 --quiet endpoint-$SERIES-$BQ_DATASET"
   ]
  },
  {
   "cell_type": "markdown",
   "id": "ae0afee2-6e94-4c3c-8a18-f63e5c633799",
   "metadata": {},
   "source": [
    "---"
   ]
  },
  {
   "cell_type": "code",
   "execution_count": null,
   "id": "dedfc54d-2ac1-435b-9bcf-4c69a9bcc92d",
   "metadata": {},
   "outputs": [],
   "source": []
  },
  {
   "cell_type": "code",
   "execution_count": null,
   "id": "8fe34c49-5ea0-4ef6-bb2f-c849d176a940",
   "metadata": {},
   "outputs": [],
   "source": []
  },
  {
   "cell_type": "code",
   "execution_count": null,
   "id": "fda9f853-7019-4f25-8288-1c44a4c0b8bf",
   "metadata": {},
   "outputs": [],
   "source": []
  },
  {
   "cell_type": "code",
   "execution_count": null,
   "id": "76283294-8627-40bd-b05c-3dab42e25d57",
   "metadata": {},
   "outputs": [],
   "source": []
  },
  {
   "cell_type": "code",
   "execution_count": null,
   "id": "b8f1ea39-312d-4ed6-ab4a-1fc58c90fa0a",
   "metadata": {},
   "outputs": [],
   "source": []
  },
  {
   "cell_type": "code",
   "execution_count": null,
   "id": "7cc44882-6471-43bf-9a2f-77f5b1dcf81c",
   "metadata": {},
   "outputs": [],
   "source": []
  },
  {
   "cell_type": "code",
   "execution_count": null,
   "id": "1246cd3a-99bd-49ce-83d7-b5f901a72560",
   "metadata": {},
   "outputs": [],
   "source": []
  },
  {
   "cell_type": "code",
   "execution_count": null,
   "id": "17c868f0-8553-4512-8d97-1a698aa7b315",
   "metadata": {},
   "outputs": [],
   "source": []
  },
  {
   "cell_type": "code",
   "execution_count": null,
   "id": "8cb8e2ad-4711-42be-94dc-da9cf707aabd",
   "metadata": {},
   "outputs": [],
   "source": []
  },
  {
   "cell_type": "code",
   "execution_count": null,
   "id": "6c48fa90-6b48-4444-b9c7-539f12c44852",
   "metadata": {},
   "outputs": [],
   "source": []
  }
 ],
 "metadata": {
  "environment": {
   "kernel": "python3",
   "name": "tf2-gpu.2-3.m94",
   "type": "gcloud",
   "uri": "gcr.io/deeplearning-platform-release/tf2-gpu.2-3:m94"
  },
  "kernelspec": {
   "display_name": "Python 3",
   "language": "python",
   "name": "python3"
  },
  "language_info": {
   "codemirror_mode": {
    "name": "ipython",
    "version": 3
   },
   "file_extension": ".py",
   "mimetype": "text/x-python",
   "name": "python",
   "nbconvert_exporter": "python",
   "pygments_lexer": "ipython3",
   "version": "3.7.12"
  },
  "toc-autonumbering": false,
  "toc-showcode": false,
  "toc-showmarkdowntxt": false,
  "toc-showtags": false
 },
 "nbformat": 4,
 "nbformat_minor": 5
}
