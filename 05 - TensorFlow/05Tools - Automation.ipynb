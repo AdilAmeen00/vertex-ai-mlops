{
 "cells": [
  {
   "cell_type": "markdown",
   "id": "68182d96-0b09-4e58-ae38-915313f6317b",
   "metadata": {},
   "source": [
    "# 05Tools - Automation\n",
    "\n",
    "This notebook will focus on some helpful GCP tools for automation. In Vertex AI, Training Jobs and Pipelines are triggered to run with the Vertex AI Client library:\n",
    "\n",
    "- [Python Cloud Client Libraries](https://cloud.google.com/python/docs/reference)\n",
    "    - [google-cloud-aiplatform](https://cloud.google.com/python/docs/reference/aiplatform/latest)\n",
    "        - [`aiplatform` package](https://cloud.google.com/python/docs/reference/aiplatform/latest/google.cloud.aiplatform)\n",
    "            - Training Jobs\n",
    "                - [`aiplatform.CustomJob.from_local_script()`](https://cloud.google.com/python/docs/reference/aiplatform/latest/google.cloud.aiplatform.CustomJob#google_cloud_aiplatform_CustomJob_from_local_script)\n",
    "                    - 05a, Using a Python Script\n",
    "                - [`aiplatform.CustomJob()`](https://cloud.google.com/python/docs/reference/aiplatform/latest/google.cloud.aiplatform.CustomJob#google_cloud_aiplatform_CustomJob)\n",
    "                    - with [worker_pool_specs](https://cloud.google.com/python/docs/reference/aiplatform/latest/google.cloud.aiplatform_v1.types.WorkerPoolSpec) using `python_package_spec`\n",
    "                    - 05b, Using a Python Source Distribution\n",
    "                - [`aiplatform.CustomJob()`](https://cloud.google.com/python/docs/reference/aiplatform/latest/google.cloud.aiplatform.CustomJob#google_cloud_aiplatform_CustomJob)\n",
    "                    - with [worker_pool_specs](https://cloud.google.com/python/docs/reference/aiplatform/latest/google.cloud.aiplatform_v1.types.WorkerPoolSpec) using `container_spec`\n",
    "                    - 05c, Using a Custom Container\n",
    "                - [`aiplatform.CustomTrainingJob()`](https://cloud.google.com/python/docs/reference/aiplatform/latest/google.cloud.aiplatform.CustomTrainingJob#google_cloud_aiplatform_CustomTrainingJob)\n",
    "                    - 05d, Using a Python Script\n",
    "                - [`aiplatform.CustomPythonPackageTrainingJob()`](https://cloud.google.com/python/docs/reference/aiplatform/latest/google.cloud.aiplatform.CustomPythonPackageTrainingJob)\n",
    "                    - 05e, Using a Python Source Distribution\n",
    "                - [`aiplatform.CustomContainerTrainingJob()`](https://cloud.google.com/python/docs/reference/aiplatform/latest/google.cloud.aiplatform.CustomContainerTrainingJob#google_cloud_aiplatform_CustomContainerTrainingJob)\n",
    "                    - 05f, Using a Custom Container\n",
    "                - Hyperparameter Tuning Job:\n",
    "                    - [`aiplatform.HyperparameterTuningJob()`](https://cloud.google.com/python/docs/reference/aiplatform/latest/google.cloud.aiplatform.HyperparameterTuningJob#google_cloud_aiplatform_HyperparameterTuningJob)\n",
    "                    - In 05g, 05h, and 05i\n",
    "            - Pipelines\n",
    "                - [`aiplatform.PipelineJob](https://cloud.google.com/python/docs/reference/aiplatform/latest/google.cloud.aiplatform.PipelineJob)\n",
    "                \n",
    "This notebook will show using a Python Function to trigger jobs with the SDK summarized above.  The function will be run in a Cloud Function.  Functions are triggered, in this case we will show manual triggering and using Pub/Sub.  To demonstrate scheduling we will use Cloud Scheduler to push a message to Pub/Sub on a routine schedule.\n",
    "\n",
    "**Prerequisites:**\n",
    "\n",
    "\n",
    "**Resources:**\n",
    "\n",
    "\n",
    "**Conceptual Flow & Workflow**\n",
    "                \n"
   ]
  },
  {
   "cell_type": "markdown",
   "id": "2dab1250-c3f2-4993-abff-7b168ac12d3a",
   "metadata": {},
   "source": [
    "---\n",
    "## Setup"
   ]
  },
  {
   "cell_type": "code",
   "execution_count": null,
   "id": "04dcf507-ed43-441a-858b-5b5fb4d93716",
   "metadata": {},
   "outputs": [],
   "source": []
  },
  {
   "cell_type": "code",
   "execution_count": null,
   "id": "c2c9e385-c32e-4b23-8bfe-4140c36e1a18",
   "metadata": {},
   "outputs": [],
   "source": []
  },
  {
   "cell_type": "markdown",
   "id": "22f81ede-fe92-4c8c-8980-85fefefbd6f3",
   "metadata": {},
   "source": [
    "---\n",
    "## Cloud Functions"
   ]
  },
  {
   "cell_type": "code",
   "execution_count": null,
   "id": "439f5cfc-744f-4734-ac62-f1fba50e5041",
   "metadata": {},
   "outputs": [],
   "source": []
  },
  {
   "cell_type": "code",
   "execution_count": null,
   "id": "bb04b527-d252-456e-81c8-c1ff07188011",
   "metadata": {},
   "outputs": [],
   "source": []
  },
  {
   "cell_type": "markdown",
   "id": "115c4dc6-4e9a-47fa-92c7-8b64313c056c",
   "metadata": {},
   "source": [
    "---\n",
    "## Pub/Sub"
   ]
  },
  {
   "cell_type": "code",
   "execution_count": null,
   "id": "24ee03db-b4ce-4aa6-9280-155a32344dfe",
   "metadata": {},
   "outputs": [],
   "source": []
  },
  {
   "cell_type": "code",
   "execution_count": null,
   "id": "56ab87e4-2021-4b3f-b57a-18216ac78596",
   "metadata": {},
   "outputs": [],
   "source": []
  },
  {
   "cell_type": "markdown",
   "id": "202f798b-045a-468b-810d-42009c3500f1",
   "metadata": {},
   "source": [
    "---\n",
    "## Cloud Scheduler"
   ]
  },
  {
   "cell_type": "code",
   "execution_count": null,
   "id": "027bc68a-d747-423e-a529-903bab805181",
   "metadata": {},
   "outputs": [],
   "source": []
  },
  {
   "cell_type": "code",
   "execution_count": null,
   "id": "d066c4fe-3db0-4d6b-89fb-b0c75d79e712",
   "metadata": {},
   "outputs": [],
   "source": []
  },
  {
   "cell_type": "code",
   "execution_count": null,
   "id": "5b2e598c-deb5-490c-a532-b333365cac17",
   "metadata": {},
   "outputs": [],
   "source": []
  },
  {
   "cell_type": "code",
   "execution_count": null,
   "id": "e1aefdbb-7ad3-4631-bbdf-390b3f1394cf",
   "metadata": {},
   "outputs": [],
   "source": []
  }
 ],
 "metadata": {
  "environment": {
   "kernel": "python3",
   "name": "tf2-gpu.2-3.m94",
   "type": "gcloud",
   "uri": "gcr.io/deeplearning-platform-release/tf2-gpu.2-3:m94"
  },
  "kernelspec": {
   "display_name": "Python 3",
   "language": "python",
   "name": "python3"
  },
  "language_info": {
   "codemirror_mode": {
    "name": "ipython",
    "version": 3
   },
   "file_extension": ".py",
   "mimetype": "text/x-python",
   "name": "python",
   "nbconvert_exporter": "python",
   "pygments_lexer": "ipython3",
   "version": "3.7.12"
  }
 },
 "nbformat": 4,
 "nbformat_minor": 5
}
