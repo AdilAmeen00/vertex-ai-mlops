{
 "cells": [
  {
   "cell_type": "markdown",
   "id": "d88c3e15-9a15-4d65-b959-d122b5af91cf",
   "metadata": {},
   "source": [
    "# 05Tools: Model Explainability\n",
    "\n",
    "Model explainability help understand model outputs = predictions.  There are two approaches here:\n",
    "- Feature-Based Explanations\n",
    "    - How much did each feature contribute to a specific prediction\n",
    "    - Uses a baseline for comparison, usually based on the central value for each feature from the training data\n",
    "    - Helpful for recognizing bias and finding areas for improvement\n",
    "    - Read more about [feature attributions and methods](https://cloud.google.com/vertex-ai/docs/explainable-ai/overview#feature_attributions)\n",
    "    - Examples in [github.com/GoogleClouPlatform/vertex-ai-samples](https://github.com/GoogleCloudPlatform/vertex-ai-samples/tree/main/notebooks/official/explainable_ai)\n",
    "- Example-Based Explanations\n",
    "    - Return similar examples, neighbors, to help understand predictions\n",
    "    - Along with prediction, get example from the source data that are most similar to the prediction to further understand \"why?\"\n",
    "    \n",
    "Vertex AI can serve explanations during online and batch predictions.  \n",
    "\n",
    "### Prerequisites:\n",
    "-  At least 1 of the notebooks in this series [05, 05a-05i]\n",
    "\n",
    "### Conceptual Flow & Workflow\n",
    "<p align=\"center\">\n",
    "  <img alt=\"Conceptual Flow\" src=\"../architectures/slides/05tools_explain_arch.png\" width=\"45%\">\n",
    "&nbsp; &nbsp; &nbsp; &nbsp;\n",
    "  <img alt=\"Workflow\" src=\"../architectures/slides/05tools_explain_console.png\" width=\"45%\">\n",
    "</p>"
   ]
  },
  {
   "cell_type": "markdown",
   "id": "dfbf5aea-7edc-4961-bd66-542bbf201e06",
   "metadata": {},
   "source": [
    "---\n",
    "## Setup"
   ]
  },
  {
   "cell_type": "markdown",
   "id": "a2150c34-bfff-432b-b60a-20af9c153650",
   "metadata": {},
   "source": [
    "inputs:"
   ]
  },
  {
   "cell_type": "code",
   "execution_count": 2,
   "id": "93b4f256-97d1-4bf1-8b38-4b3bca857ac2",
   "metadata": {},
   "outputs": [
    {
     "data": {
      "text/plain": [
       "'statmike-mlops-349915'"
      ]
     },
     "execution_count": 2,
     "metadata": {},
     "output_type": "execute_result"
    }
   ],
   "source": [
    "project = !gcloud config get-value project\n",
    "PROJECT_ID = project[0]\n",
    "PROJECT_ID"
   ]
  },
  {
   "cell_type": "code",
   "execution_count": 3,
   "id": "3baf2329-67a1-40ce-b16c-77cbc733dff6",
   "metadata": {},
   "outputs": [],
   "source": [
    "REGION = 'us-central1'\n",
    "EXPERIMENT = '05_explanability'\n",
    "SERIES = '05'\n",
    "\n",
    "# source data\n",
    "BQ_PROJECT = PROJECT_ID\n",
    "BQ_DATASET = 'fraud'\n",
    "BQ_TABLE = 'fraud_prepped'\n",
    "\n",
    "# Resources\n",
    "DEPLOY_COMPUTE = 'n1-standard-4'\n",
    "DEPLOY_IMAGE='us-docker.pkg.dev/vertex-ai/prediction/tf2-cpu.2-7:latest'\n",
    "\n",
    "# Model Training\n",
    "VAR_TARGET = 'Class'\n",
    "VAR_OMIT = 'transaction_id' # add more variables to the string with space delimiters"
   ]
  },
  {
   "cell_type": "markdown",
   "id": "5c4f4c23-a10a-4027-8ab4-edb59d949fef",
   "metadata": {},
   "source": [
    "packages:"
   ]
  },
  {
   "cell_type": "code",
   "execution_count": 4,
   "id": "f5c03913-cb39-4367-810b-2685e713fd0c",
   "metadata": {},
   "outputs": [],
   "source": [
    "from google.cloud import aiplatform\n",
    "from google.cloud import bigquery\n",
    "\n",
    "import tensorflow as tf\n",
    "\n",
    "from datetime import datetime\n",
    "from google.protobuf import json_format\n",
    "from google.protobuf.struct_pb2 import Value\n",
    "import json\n",
    "import numpy as np"
   ]
  },
  {
   "cell_type": "markdown",
   "id": "3a12ed0a-3c56-48de-8e56-82dd1d860f23",
   "metadata": {},
   "source": [
    "clients:"
   ]
  },
  {
   "cell_type": "code",
   "execution_count": 5,
   "id": "8ea5aef0-1cf6-4f2a-ab03-bd91c04154c5",
   "metadata": {},
   "outputs": [],
   "source": [
    "aiplatform.init(project=PROJECT_ID, location=REGION)\n",
    "bq = bigquery.Client()"
   ]
  },
  {
   "cell_type": "markdown",
   "id": "35ee3501-3580-484d-9a21-232676afd882",
   "metadata": {},
   "source": [
    "parameters:"
   ]
  },
  {
   "cell_type": "code",
   "execution_count": 6,
   "id": "4192c9bb-7fd3-426a-8c8b-a302dbdbcf9f",
   "metadata": {},
   "outputs": [],
   "source": [
    "BUCKET = PROJECT_ID\n",
    "DIR = f\"temp/{EXPERIMENT}\""
   ]
  },
  {
   "cell_type": "code",
   "execution_count": 7,
   "id": "c979a85b-38f3-4011-8711-f1f0fd8aa517",
   "metadata": {},
   "outputs": [
    {
     "data": {
      "text/plain": [
       "'1026793852137-compute@developer.gserviceaccount.com'"
      ]
     },
     "execution_count": 7,
     "metadata": {},
     "output_type": "execute_result"
    }
   ],
   "source": [
    "# Give service account roles/storage.objectAdmin permissions\n",
    "# Console > IAM > Select Account <projectnumber>-compute@developer.gserviceaccount.com > edit - give role\n",
    "SERVICE_ACCOUNT = !gcloud config list --format='value(core.account)' \n",
    "SERVICE_ACCOUNT = SERVICE_ACCOUNT[0]\n",
    "SERVICE_ACCOUNT"
   ]
  },
  {
   "cell_type": "markdown",
   "id": "fa52b2ea-b3d1-4bb6-9c5d-196f5d26fe34",
   "metadata": {},
   "source": [
    "environment:"
   ]
  },
  {
   "cell_type": "code",
   "execution_count": 8,
   "id": "cd20362b-3fd3-4bd4-a73f-0e58a9c4373f",
   "metadata": {},
   "outputs": [],
   "source": [
    "!rm -rf {DIR}\n",
    "!mkdir -p {DIR}"
   ]
  },
  {
   "cell_type": "markdown",
   "id": "59ae4f69-6b08-4ca6-8dc0-a7cf16fea77d",
   "metadata": {},
   "source": [
    "---\n",
    "## Get Vertex AI Endpoint And Deployed Model"
   ]
  },
  {
   "cell_type": "code",
   "execution_count": 9,
   "id": "b2d74afb-77ea-4e0b-88d0-1689c4fc219c",
   "metadata": {},
   "outputs": [],
   "source": [
    "endpoints = aiplatform.Endpoint.list(filter = f\"labels.series={SERIES}\")\n",
    "endpoint = endpoints[0]"
   ]
  },
  {
   "cell_type": "code",
   "execution_count": 10,
   "id": "676f81ea-c357-4e3f-9451-2bb5579e1372",
   "metadata": {},
   "outputs": [
    {
     "data": {
      "text/plain": [
       "'05_fraud'"
      ]
     },
     "execution_count": 10,
     "metadata": {},
     "output_type": "execute_result"
    }
   ],
   "source": [
    "endpoint.display_name"
   ]
  },
  {
   "cell_type": "code",
   "execution_count": 11,
   "id": "fbdb37dd-2fba-48d8-9527-467b7760cf76",
   "metadata": {},
   "outputs": [],
   "source": [
    "model = aiplatform.Model(\n",
    "    model_name = endpoint.list_models()[0].model+f'@{endpoint.list_models()[0].model_version_id}'\n",
    ")"
   ]
  },
  {
   "cell_type": "code",
   "execution_count": 12,
   "id": "e090e560-9f82-480e-ab4e-9828b53de940",
   "metadata": {},
   "outputs": [
    {
     "data": {
      "text/plain": [
       "'05i_fraud'"
      ]
     },
     "execution_count": 12,
     "metadata": {},
     "output_type": "execute_result"
    }
   ],
   "source": [
    "model.display_name"
   ]
  },
  {
   "cell_type": "code",
   "execution_count": 13,
   "id": "88e8314c-c86a-4fe8-8fb1-7443eb3b2561",
   "metadata": {},
   "outputs": [
    {
     "data": {
      "text/plain": [
       "'projects/1026793852137/locations/us-central1/models/model_05i_fraud@1'"
      ]
     },
     "execution_count": 13,
     "metadata": {},
     "output_type": "execute_result"
    }
   ],
   "source": [
    "model.versioned_resource_name"
   ]
  },
  {
   "cell_type": "code",
   "execution_count": 14,
   "id": "52cf670f-e51d-45cf-b405-66ed396f0634",
   "metadata": {},
   "outputs": [
    {
     "data": {
      "text/plain": [
       "'gs://statmike-mlops-349915/fraud/models/05/05i/20220826194138/7/model'"
      ]
     },
     "execution_count": 14,
     "metadata": {},
     "output_type": "execute_result"
    }
   ],
   "source": [
    "model.uri"
   ]
  },
  {
   "cell_type": "markdown",
   "id": "44951097-7ecb-4508-ae3a-83633598919a",
   "metadata": {},
   "source": [
    "---\n",
    "## Retrieve Records For Prediction & Explanation"
   ]
  },
  {
   "cell_type": "code",
   "execution_count": 15,
   "id": "642aee16-fb2b-4898-a190-f6c490210992",
   "metadata": {},
   "outputs": [],
   "source": [
    "n = 1000\n",
    "pred = bq.query(query = f\"SELECT * FROM {BQ_PROJECT}.{BQ_DATASET}.{BQ_TABLE} WHERE splits='TEST' LIMIT {n}\").to_dataframe()"
   ]
  },
  {
   "cell_type": "code",
   "execution_count": 16,
   "id": "b08ce989-7e11-42ee-9a71-995211669620",
   "metadata": {},
   "outputs": [
    {
     "data": {
      "text/html": [
       "<div>\n",
       "<style scoped>\n",
       "    .dataframe tbody tr th:only-of-type {\n",
       "        vertical-align: middle;\n",
       "    }\n",
       "\n",
       "    .dataframe tbody tr th {\n",
       "        vertical-align: top;\n",
       "    }\n",
       "\n",
       "    .dataframe thead th {\n",
       "        text-align: right;\n",
       "    }\n",
       "</style>\n",
       "<table border=\"1\" class=\"dataframe\">\n",
       "  <thead>\n",
       "    <tr style=\"text-align: right;\">\n",
       "      <th></th>\n",
       "      <th>Time</th>\n",
       "      <th>V1</th>\n",
       "      <th>V2</th>\n",
       "      <th>V3</th>\n",
       "      <th>V4</th>\n",
       "      <th>V5</th>\n",
       "      <th>V6</th>\n",
       "      <th>V7</th>\n",
       "      <th>V8</th>\n",
       "      <th>V9</th>\n",
       "      <th>...</th>\n",
       "      <th>V23</th>\n",
       "      <th>V24</th>\n",
       "      <th>V25</th>\n",
       "      <th>V26</th>\n",
       "      <th>V27</th>\n",
       "      <th>V28</th>\n",
       "      <th>Amount</th>\n",
       "      <th>Class</th>\n",
       "      <th>transaction_id</th>\n",
       "      <th>splits</th>\n",
       "    </tr>\n",
       "  </thead>\n",
       "  <tbody>\n",
       "    <tr>\n",
       "      <th>0</th>\n",
       "      <td>35337</td>\n",
       "      <td>1.092844</td>\n",
       "      <td>-0.013230</td>\n",
       "      <td>1.359829</td>\n",
       "      <td>2.731537</td>\n",
       "      <td>-0.707357</td>\n",
       "      <td>0.873837</td>\n",
       "      <td>-0.796130</td>\n",
       "      <td>0.437707</td>\n",
       "      <td>0.396770</td>\n",
       "      <td>...</td>\n",
       "      <td>-0.167647</td>\n",
       "      <td>0.027557</td>\n",
       "      <td>0.592115</td>\n",
       "      <td>0.219695</td>\n",
       "      <td>0.036970</td>\n",
       "      <td>0.010984</td>\n",
       "      <td>0.0</td>\n",
       "      <td>0</td>\n",
       "      <td>a1b10547-d270-48c0-b902-7a0f735dadc7</td>\n",
       "      <td>TEST</td>\n",
       "    </tr>\n",
       "    <tr>\n",
       "      <th>1</th>\n",
       "      <td>60481</td>\n",
       "      <td>1.238973</td>\n",
       "      <td>0.035226</td>\n",
       "      <td>0.063003</td>\n",
       "      <td>0.641406</td>\n",
       "      <td>-0.260893</td>\n",
       "      <td>-0.580097</td>\n",
       "      <td>0.049938</td>\n",
       "      <td>-0.034733</td>\n",
       "      <td>0.405932</td>\n",
       "      <td>...</td>\n",
       "      <td>-0.057718</td>\n",
       "      <td>0.104983</td>\n",
       "      <td>0.537987</td>\n",
       "      <td>0.589563</td>\n",
       "      <td>-0.046207</td>\n",
       "      <td>-0.006212</td>\n",
       "      <td>0.0</td>\n",
       "      <td>0</td>\n",
       "      <td>814c62c8-ade4-47d5-bf83-313b0aafdee5</td>\n",
       "      <td>TEST</td>\n",
       "    </tr>\n",
       "    <tr>\n",
       "      <th>2</th>\n",
       "      <td>139587</td>\n",
       "      <td>1.870539</td>\n",
       "      <td>0.211079</td>\n",
       "      <td>0.224457</td>\n",
       "      <td>3.889486</td>\n",
       "      <td>-0.380177</td>\n",
       "      <td>0.249799</td>\n",
       "      <td>-0.577133</td>\n",
       "      <td>0.179189</td>\n",
       "      <td>-0.120462</td>\n",
       "      <td>...</td>\n",
       "      <td>0.180776</td>\n",
       "      <td>-0.060226</td>\n",
       "      <td>-0.228979</td>\n",
       "      <td>0.080827</td>\n",
       "      <td>0.009868</td>\n",
       "      <td>-0.036997</td>\n",
       "      <td>0.0</td>\n",
       "      <td>0</td>\n",
       "      <td>d08a1bfa-85c5-4f1b-9537-1c5a93e6afd0</td>\n",
       "      <td>TEST</td>\n",
       "    </tr>\n",
       "    <tr>\n",
       "      <th>3</th>\n",
       "      <td>162908</td>\n",
       "      <td>-3.368339</td>\n",
       "      <td>-1.980442</td>\n",
       "      <td>0.153645</td>\n",
       "      <td>-0.159795</td>\n",
       "      <td>3.847169</td>\n",
       "      <td>-3.516873</td>\n",
       "      <td>-1.209398</td>\n",
       "      <td>-0.292122</td>\n",
       "      <td>0.760543</td>\n",
       "      <td>...</td>\n",
       "      <td>-1.171627</td>\n",
       "      <td>0.214333</td>\n",
       "      <td>-0.159652</td>\n",
       "      <td>-0.060883</td>\n",
       "      <td>1.294977</td>\n",
       "      <td>0.120503</td>\n",
       "      <td>0.0</td>\n",
       "      <td>0</td>\n",
       "      <td>802f3307-8e5a-4475-b795-5d5d8d7d0120</td>\n",
       "      <td>TEST</td>\n",
       "    </tr>\n",
       "  </tbody>\n",
       "</table>\n",
       "<p>4 rows × 33 columns</p>\n",
       "</div>"
      ],
      "text/plain": [
       "     Time        V1        V2        V3        V4        V5        V6  \\\n",
       "0   35337  1.092844 -0.013230  1.359829  2.731537 -0.707357  0.873837   \n",
       "1   60481  1.238973  0.035226  0.063003  0.641406 -0.260893 -0.580097   \n",
       "2  139587  1.870539  0.211079  0.224457  3.889486 -0.380177  0.249799   \n",
       "3  162908 -3.368339 -1.980442  0.153645 -0.159795  3.847169 -3.516873   \n",
       "\n",
       "         V7        V8        V9  ...       V23       V24       V25       V26  \\\n",
       "0 -0.796130  0.437707  0.396770  ... -0.167647  0.027557  0.592115  0.219695   \n",
       "1  0.049938 -0.034733  0.405932  ... -0.057718  0.104983  0.537987  0.589563   \n",
       "2 -0.577133  0.179189 -0.120462  ...  0.180776 -0.060226 -0.228979  0.080827   \n",
       "3 -1.209398 -0.292122  0.760543  ... -1.171627  0.214333 -0.159652 -0.060883   \n",
       "\n",
       "        V27       V28  Amount  Class                        transaction_id  \\\n",
       "0  0.036970  0.010984     0.0      0  a1b10547-d270-48c0-b902-7a0f735dadc7   \n",
       "1 -0.046207 -0.006212     0.0      0  814c62c8-ade4-47d5-bf83-313b0aafdee5   \n",
       "2  0.009868 -0.036997     0.0      0  d08a1bfa-85c5-4f1b-9537-1c5a93e6afd0   \n",
       "3  1.294977  0.120503     0.0      0  802f3307-8e5a-4475-b795-5d5d8d7d0120   \n",
       "\n",
       "   splits  \n",
       "0    TEST  \n",
       "1    TEST  \n",
       "2    TEST  \n",
       "3    TEST  \n",
       "\n",
       "[4 rows x 33 columns]"
      ]
     },
     "execution_count": 16,
     "metadata": {},
     "output_type": "execute_result"
    }
   ],
   "source": [
    "pred.head(4)"
   ]
  },
  {
   "cell_type": "markdown",
   "id": "80bf03be-d6fe-413e-aeed-9ee41293f895",
   "metadata": {},
   "source": [
    "Remove columns not included as features in the model:"
   ]
  },
  {
   "cell_type": "code",
   "execution_count": 17,
   "id": "687f0128-cc0b-47b7-b423-875f396d8fd8",
   "metadata": {},
   "outputs": [],
   "source": [
    "newobs = pred[pred.columns[~pred.columns.isin(VAR_OMIT.split()+[VAR_TARGET, 'splits'])]].to_dict(orient='records')\n",
    "#newobs[0]"
   ]
  },
  {
   "cell_type": "code",
   "execution_count": 18,
   "id": "c268a533-f949-4299-9420-d6ae549a97fa",
   "metadata": {},
   "outputs": [
    {
     "data": {
      "text/plain": [
       "1000"
      ]
     },
     "execution_count": 18,
     "metadata": {},
     "output_type": "execute_result"
    }
   ],
   "source": [
    "len(newobs)"
   ]
  },
  {
   "cell_type": "markdown",
   "id": "6ddde2af-ef29-4363-9cf0-ebe166a2c6ce",
   "metadata": {},
   "source": [
    "---\n",
    "## Feature-Based Explanations\n",
    "\n",
    "In Vertex AI you [configure explanations](https://cloud.google.com/vertex-ai/docs/explainable-ai/configuring-explanations-feature-based) by providing an `explanationSpec`. For feature-based explanations this can be done when registering the model in the Model Registry.  You can also set, or override, the `explanationSpec` when deploying models to and endpoints or configuring batch predictions jobs.\n"
   ]
  },
  {
   "cell_type": "markdown",
   "id": "eb2be2b0-e3ae-4fb2-8208-1ff1abc9c837",
   "metadata": {},
   "source": [
    "### ExplanationSpec\n",
    "\n",
    "From the [Python client for Vertex AI](https://cloud.google.com/python/docs/reference/aiplatform/latest/google.cloud.aiplatform), the `explanationSpec` is provided by two input parameters: `explanation_parameters` and `explanation_metadata`.  The parameters must be passed together and can be set (or overwritten):\n",
    "- When registering the model in the Vertex AI Model Registry:\n",
    "    - https://cloud.google.com/python/docs/reference/aiplatform/latest/google.cloud.aiplatform.Model#google_cloud_aiplatform_Model_upload\n",
    "- When deploying a model the a Vertex AI Endpoint for online serving:\n",
    "    - https://cloud.google.com/python/docs/reference/aiplatform/latest/google.cloud.aiplatform.Endpoint#google_cloud_aiplatform_Endpoint_deploy\n",
    "- When creating a Vertex AI Batch Prediciton Job:\n",
    "    - https://cloud.google.com/python/docs/reference/aiplatform/latest/google.cloud.aiplatform.BatchPredictionJob#google_cloud_aiplatform_BatchPredictionJob_create\n"
   ]
  },
  {
   "cell_type": "markdown",
   "id": "d524836b-53ee-4bb5-9cae-0e042a1b0f24",
   "metadata": {},
   "source": [
    "#### Explanation Parameters\n",
    "\n",
    "The [Explanation Parameters](https://cloud.google.com/python/docs/reference/aiplatform/latest/google.cloud.aiplatform_v1.types.ExplanationParameters) included setting the method of attribution along with associated parameters for the method.  A review of methods can be found [here](https://cloud.google.com/vertex-ai/docs/explainable-ai/overview#compare-methods)."
   ]
  },
  {
   "cell_type": "code",
   "execution_count": 19,
   "id": "de5ec1ed-a796-41e5-ad9c-c8aba77032db",
   "metadata": {},
   "outputs": [
    {
     "data": {
      "text/plain": [
       "integrated_gradients_attribution {\n",
       "  step_count: 50\n",
       "}"
      ]
     },
     "execution_count": 19,
     "metadata": {},
     "output_type": "execute_result"
    }
   ],
   "source": [
    "explanation_parameters = aiplatform.explain.ExplanationParameters({'integrated_gradients_attribution': {'step_count': 50}})\n",
    "explanation_parameters"
   ]
  },
  {
   "cell_type": "markdown",
   "id": "c2f42f4a-e0d1-4eca-9d29-82a40b1c750e",
   "metadata": {},
   "source": [
    "#### Explanation Metadata\n",
    "\n",
    "The [Explanation Metadata](https://cloud.google.com/vertex-ai/docs/reference/rest/v1beta1/ExplanationSpec#explanationmetadata) specifys the inputs metadata and outputs metadata.  For a TensorFlow model there is a tool for building the explanation metadata as used below:\n",
    "- This is documented here: https://googleapis.dev/python/aiplatform/latest/index.html#explainable-ai-get-metadata\n"
   ]
  },
  {
   "cell_type": "code",
   "execution_count": 21,
   "id": "4e45f4fe-64bf-436b-885a-3ee0e6a9f93a",
   "metadata": {},
   "outputs": [],
   "source": [
    "from google.cloud.aiplatform.explain.metadata.tf.v2 import saved_model_metadata_builder\n",
    "builder = saved_model_metadata_builder.SavedModelMetadataBuilder(model.uri)\n",
    "explanation_metadata = builder.get_metadata_protobuf()"
   ]
  },
  {
   "cell_type": "code",
   "execution_count": 27,
   "id": "b126ba11-55a2-4678-b4af-dc702ae84523",
   "metadata": {
    "scrolled": true,
    "tags": []
   },
   "outputs": [
    {
     "data": {
      "text/plain": [
       "inputs {\n",
       "  key: \"Amount\"\n",
       "  value {\n",
       "    input_tensor_name: \"Amount\"\n",
       "  }\n",
       "}\n",
       "inputs {\n",
       "  key: \"Time\"\n",
       "  value {\n",
       "    input_tensor_name: \"Time\"\n",
       "  }\n",
       "}\n",
       "inputs {\n",
       "  key: \"V1\"\n",
       "  value {\n",
       "    input_tensor_name: \"V1\"\n",
       "  }\n",
       "}\n",
       "inputs {\n",
       "  key: \"V10\"\n",
       "  value {\n",
       "    input_tensor_name: \"V10\"\n",
       "  }\n",
       "}\n",
       "inputs {\n",
       "  key: \"V11\"\n",
       "  value {\n",
       "    input_tensor_name: \"V11\"\n",
       "  }\n",
       "}\n",
       "inputs {\n",
       "  key: \"V12\"\n",
       "  value {\n",
       "    input_tensor_name: \"V12\"\n",
       "  }\n",
       "}\n",
       "inputs {\n",
       "  key: \"V13\"\n",
       "  value {\n",
       "    input_tensor_name: \"V13\"\n",
       "  }\n",
       "}\n",
       "inputs {\n",
       "  key: \"V14\"\n",
       "  value {\n",
       "    input_tensor_name: \"V14\"\n",
       "  }\n",
       "}\n",
       "inputs {\n",
       "  key: \"V15\"\n",
       "  value {\n",
       "    input_tensor_name: \"V15\"\n",
       "  }\n",
       "}\n",
       "inputs {\n",
       "  key: \"V16\"\n",
       "  value {\n",
       "    input_tensor_name: \"V16\"\n",
       "  }\n",
       "}\n",
       "inputs {\n",
       "  key: \"V17\"\n",
       "  value {\n",
       "    input_tensor_name: \"V17\"\n",
       "  }\n",
       "}\n",
       "inputs {\n",
       "  key: \"V18\"\n",
       "  value {\n",
       "    input_tensor_name: \"V18\"\n",
       "  }\n",
       "}\n",
       "inputs {\n",
       "  key: \"V19\"\n",
       "  value {\n",
       "    input_tensor_name: \"V19\"\n",
       "  }\n",
       "}\n",
       "inputs {\n",
       "  key: \"V2\"\n",
       "  value {\n",
       "    input_tensor_name: \"V2\"\n",
       "  }\n",
       "}\n",
       "inputs {\n",
       "  key: \"V20\"\n",
       "  value {\n",
       "    input_tensor_name: \"V20\"\n",
       "  }\n",
       "}\n",
       "inputs {\n",
       "  key: \"V21\"\n",
       "  value {\n",
       "    input_tensor_name: \"V21\"\n",
       "  }\n",
       "}\n",
       "inputs {\n",
       "  key: \"V22\"\n",
       "  value {\n",
       "    input_tensor_name: \"V22\"\n",
       "  }\n",
       "}\n",
       "inputs {\n",
       "  key: \"V23\"\n",
       "  value {\n",
       "    input_tensor_name: \"V23\"\n",
       "  }\n",
       "}\n",
       "inputs {\n",
       "  key: \"V24\"\n",
       "  value {\n",
       "    input_tensor_name: \"V24\"\n",
       "  }\n",
       "}\n",
       "inputs {\n",
       "  key: \"V25\"\n",
       "  value {\n",
       "    input_tensor_name: \"V25\"\n",
       "  }\n",
       "}\n",
       "inputs {\n",
       "  key: \"V26\"\n",
       "  value {\n",
       "    input_tensor_name: \"V26\"\n",
       "  }\n",
       "}\n",
       "inputs {\n",
       "  key: \"V27\"\n",
       "  value {\n",
       "    input_tensor_name: \"V27\"\n",
       "  }\n",
       "}\n",
       "inputs {\n",
       "  key: \"V28\"\n",
       "  value {\n",
       "    input_tensor_name: \"V28\"\n",
       "  }\n",
       "}\n",
       "inputs {\n",
       "  key: \"V3\"\n",
       "  value {\n",
       "    input_tensor_name: \"V3\"\n",
       "  }\n",
       "}\n",
       "inputs {\n",
       "  key: \"V4\"\n",
       "  value {\n",
       "    input_tensor_name: \"V4\"\n",
       "  }\n",
       "}\n",
       "inputs {\n",
       "  key: \"V5\"\n",
       "  value {\n",
       "    input_tensor_name: \"V5\"\n",
       "  }\n",
       "}\n",
       "inputs {\n",
       "  key: \"V6\"\n",
       "  value {\n",
       "    input_tensor_name: \"V6\"\n",
       "  }\n",
       "}\n",
       "inputs {\n",
       "  key: \"V7\"\n",
       "  value {\n",
       "    input_tensor_name: \"V7\"\n",
       "  }\n",
       "}\n",
       "inputs {\n",
       "  key: \"V8\"\n",
       "  value {\n",
       "    input_tensor_name: \"V8\"\n",
       "  }\n",
       "}\n",
       "inputs {\n",
       "  key: \"V9\"\n",
       "  value {\n",
       "    input_tensor_name: \"V9\"\n",
       "  }\n",
       "}\n",
       "outputs {\n",
       "  key: \"prediction_layer\"\n",
       "  value {\n",
       "    output_tensor_name: \"prediction_layer\"\n",
       "  }\n",
       "}"
      ]
     },
     "execution_count": 27,
     "metadata": {},
     "output_type": "execute_result"
    }
   ],
   "source": [
    "explanation_metadata"
   ]
  },
  {
   "cell_type": "markdown",
   "id": "21d59fd7-78a8-4add-83c4-1e6a1e3fca70",
   "metadata": {},
   "source": [
    "### Create An Endpoint"
   ]
  },
  {
   "cell_type": "code",
   "execution_count": 28,
   "id": "2cc28d98-b525-4385-9b95-489bf574f967",
   "metadata": {},
   "outputs": [
    {
     "name": "stdout",
     "output_type": "stream",
     "text": [
      "Endpoint Exists: projects/1026793852137/locations/us-central1/endpoints/4573537362990071808\n"
     ]
    }
   ],
   "source": [
    "endpoints = aiplatform.Endpoint.list(filter = f\"labels.series={SERIES}\")\n",
    "if endpoints:\n",
    "    endpoint = endpoints[0]\n",
    "    print(f\"Endpoint Exists: {endpoints[0].resource_name}\")\n",
    "else:\n",
    "    endpoint = aiplatform.Endpoint.create(\n",
    "        display_name = f\"{SERIES}_{BQ_DATASET}\",\n",
    "        labels = {'series' : f\"{SERIES}\"}    \n",
    "    )\n",
    "    print(f\"Endpoint Created: {endpoint.resource_name}\")"
   ]
  },
  {
   "cell_type": "code",
   "execution_count": 29,
   "id": "0a538bf0",
   "metadata": {},
   "outputs": [
    {
     "data": {
      "text/plain": [
       "'05_fraud'"
      ]
     },
     "execution_count": 29,
     "metadata": {},
     "output_type": "execute_result"
    }
   ],
   "source": [
    "endpoint.display_name"
   ]
  },
  {
   "cell_type": "markdown",
   "id": "fc4f9ece-2a0f-40f6-9845-9eabd2ed9003",
   "metadata": {},
   "source": [
    "### Deploy Model To Endpoint\n",
    "At the top of this notebook a current endpoint was used to retrieve the model that was used to create the explanations metadata.  In the cell below the same model is deployed again with 100% of traffic, this time with explanations metadata.  This demonstrates that the `explanationSpec` can be provided with the model upload to the Model Registry or at the point of model use for Endponts or Batch Prediction Jobs. "
   ]
  },
  {
   "cell_type": "code",
   "execution_count": 30,
   "id": "2ea35f54-76d5-4015-8f82-78e7ec72a5fc",
   "metadata": {},
   "outputs": [
    {
     "name": "stdout",
     "output_type": "stream",
     "text": [
      "Deploying Model projects/1026793852137/locations/us-central1/models/model_05i_fraud to Endpoint : projects/1026793852137/locations/us-central1/endpoints/4573537362990071808\n",
      "Deploy Endpoint model backing LRO: projects/1026793852137/locations/us-central1/endpoints/4573537362990071808/operations/7112138531308306432\n"
     ]
    },
    {
     "name": "stderr",
     "output_type": "stream",
     "text": [
      "/opt/conda/lib/python3.7/site-packages/proto/marshal/rules/enums.py:40: UserWarning: Unrecognized DeploymentResourcesType enum value: 3\n",
      "  value=value,\n"
     ]
    },
    {
     "name": "stdout",
     "output_type": "stream",
     "text": [
      "Endpoint model deployed. Resource name: projects/1026793852137/locations/us-central1/endpoints/4573537362990071808\n"
     ]
    }
   ],
   "source": [
    "endpoint.deploy(\n",
    "    model = model,\n",
    "    deployed_model_display_name = model.display_name,\n",
    "    traffic_percentage = 100,\n",
    "    machine_type = DEPLOY_COMPUTE,\n",
    "    min_replica_count = 1,\n",
    "    max_replica_count = 1,\n",
    "    explanation_parameters = explanation_parameters,\n",
    "    explanation_metadata = explanation_metadata\n",
    ") "
   ]
  },
  {
   "cell_type": "markdown",
   "id": "8aa76ba9-b66c-4b5b-9476-004b16d4dbaf",
   "metadata": {},
   "source": [
    "### Remove Deployed Models without Traffic"
   ]
  },
  {
   "cell_type": "code",
   "execution_count": 31,
   "id": "00aa9466-6d9a-41cf-9bfa-7e8997572583",
   "metadata": {},
   "outputs": [
    {
     "name": "stdout",
     "output_type": "stream",
     "text": [
      "Undeploying Endpoint model: projects/1026793852137/locations/us-central1/endpoints/4573537362990071808\n",
      "Undeploy Endpoint model backing LRO: projects/1026793852137/locations/us-central1/endpoints/4573537362990071808/operations/876904847213854720\n",
      "Endpoint model undeployed. Resource name: projects/1026793852137/locations/us-central1/endpoints/4573537362990071808\n",
      "Undeploying 05i_fraud with version 1 because it has no traffic.\n",
      "Model 05i_fraud with version 1 has traffic = 100\n"
     ]
    }
   ],
   "source": [
    "for deployed_model in endpoint.list_models():\n",
    "    if deployed_model.id in endpoint.traffic_split:\n",
    "        print(f\"Model {deployed_model.display_name} with version {deployed_model.model_version_id} has traffic = {endpoint.traffic_split[deployed_model.id]}\")\n",
    "    else:\n",
    "        endpoint.undeploy(deployed_model_id = deployed_model.id)\n",
    "        print(f\"Undeploying {deployed_model.display_name} with version {deployed_model.model_version_id} because it has no traffic.\")"
   ]
  },
  {
   "cell_type": "code",
   "execution_count": 32,
   "id": "bacf24f6-c02e-409a-82b4-13c6e4a17dd1",
   "metadata": {},
   "outputs": [
    {
     "data": {
      "text/plain": [
       "{'5475220460650102784': 100}"
      ]
     },
     "execution_count": 32,
     "metadata": {},
     "output_type": "execute_result"
    }
   ],
   "source": [
    "endpoint.traffic_split"
   ]
  },
  {
   "cell_type": "code",
   "execution_count": 35,
   "id": "7e416491-c909-45d3-8c79-a74dcafaa4f9",
   "metadata": {
    "scrolled": true,
    "tags": []
   },
   "outputs": [
    {
     "data": {
      "text/plain": [
       "id: \"5475220460650102784\"\n",
       "model: \"projects/1026793852137/locations/us-central1/models/model_05i_fraud\"\n",
       "display_name: \"05i_fraud\"\n",
       "create_time {\n",
       "  seconds: 1661565734\n",
       "  nanos: 379696000\n",
       "}\n",
       "dedicated_resources {\n",
       "  machine_spec {\n",
       "    machine_type: \"n1-standard-4\"\n",
       "  }\n",
       "  min_replica_count: 1\n",
       "  max_replica_count: 1\n",
       "}\n",
       "explanation_spec {\n",
       "  parameters {\n",
       "    integrated_gradients_attribution {\n",
       "      step_count: 50\n",
       "    }\n",
       "  }\n",
       "  metadata {\n",
       "    inputs {\n",
       "      key: \"Amount\"\n",
       "      value {\n",
       "        input_tensor_name: \"Amount\"\n",
       "      }\n",
       "    }\n",
       "    inputs {\n",
       "      key: \"Time\"\n",
       "      value {\n",
       "        input_tensor_name: \"Time\"\n",
       "      }\n",
       "    }\n",
       "    inputs {\n",
       "      key: \"V1\"\n",
       "      value {\n",
       "        input_tensor_name: \"V1\"\n",
       "      }\n",
       "    }\n",
       "    inputs {\n",
       "      key: \"V10\"\n",
       "      value {\n",
       "        input_tensor_name: \"V10\"\n",
       "      }\n",
       "    }\n",
       "    inputs {\n",
       "      key: \"V11\"\n",
       "      value {\n",
       "        input_tensor_name: \"V11\"\n",
       "      }\n",
       "    }\n",
       "    inputs {\n",
       "      key: \"V12\"\n",
       "      value {\n",
       "        input_tensor_name: \"V12\"\n",
       "      }\n",
       "    }\n",
       "    inputs {\n",
       "      key: \"V13\"\n",
       "      value {\n",
       "        input_tensor_name: \"V13\"\n",
       "      }\n",
       "    }\n",
       "    inputs {\n",
       "      key: \"V14\"\n",
       "      value {\n",
       "        input_tensor_name: \"V14\"\n",
       "      }\n",
       "    }\n",
       "    inputs {\n",
       "      key: \"V15\"\n",
       "      value {\n",
       "        input_tensor_name: \"V15\"\n",
       "      }\n",
       "    }\n",
       "    inputs {\n",
       "      key: \"V16\"\n",
       "      value {\n",
       "        input_tensor_name: \"V16\"\n",
       "      }\n",
       "    }\n",
       "    inputs {\n",
       "      key: \"V17\"\n",
       "      value {\n",
       "        input_tensor_name: \"V17\"\n",
       "      }\n",
       "    }\n",
       "    inputs {\n",
       "      key: \"V18\"\n",
       "      value {\n",
       "        input_tensor_name: \"V18\"\n",
       "      }\n",
       "    }\n",
       "    inputs {\n",
       "      key: \"V19\"\n",
       "      value {\n",
       "        input_tensor_name: \"V19\"\n",
       "      }\n",
       "    }\n",
       "    inputs {\n",
       "      key: \"V2\"\n",
       "      value {\n",
       "        input_tensor_name: \"V2\"\n",
       "      }\n",
       "    }\n",
       "    inputs {\n",
       "      key: \"V20\"\n",
       "      value {\n",
       "        input_tensor_name: \"V20\"\n",
       "      }\n",
       "    }\n",
       "    inputs {\n",
       "      key: \"V21\"\n",
       "      value {\n",
       "        input_tensor_name: \"V21\"\n",
       "      }\n",
       "    }\n",
       "    inputs {\n",
       "      key: \"V22\"\n",
       "      value {\n",
       "        input_tensor_name: \"V22\"\n",
       "      }\n",
       "    }\n",
       "    inputs {\n",
       "      key: \"V23\"\n",
       "      value {\n",
       "        input_tensor_name: \"V23\"\n",
       "      }\n",
       "    }\n",
       "    inputs {\n",
       "      key: \"V24\"\n",
       "      value {\n",
       "        input_tensor_name: \"V24\"\n",
       "      }\n",
       "    }\n",
       "    inputs {\n",
       "      key: \"V25\"\n",
       "      value {\n",
       "        input_tensor_name: \"V25\"\n",
       "      }\n",
       "    }\n",
       "    inputs {\n",
       "      key: \"V26\"\n",
       "      value {\n",
       "        input_tensor_name: \"V26\"\n",
       "      }\n",
       "    }\n",
       "    inputs {\n",
       "      key: \"V27\"\n",
       "      value {\n",
       "        input_tensor_name: \"V27\"\n",
       "      }\n",
       "    }\n",
       "    inputs {\n",
       "      key: \"V28\"\n",
       "      value {\n",
       "        input_tensor_name: \"V28\"\n",
       "      }\n",
       "    }\n",
       "    inputs {\n",
       "      key: \"V3\"\n",
       "      value {\n",
       "        input_tensor_name: \"V3\"\n",
       "      }\n",
       "    }\n",
       "    inputs {\n",
       "      key: \"V4\"\n",
       "      value {\n",
       "        input_tensor_name: \"V4\"\n",
       "      }\n",
       "    }\n",
       "    inputs {\n",
       "      key: \"V5\"\n",
       "      value {\n",
       "        input_tensor_name: \"V5\"\n",
       "      }\n",
       "    }\n",
       "    inputs {\n",
       "      key: \"V6\"\n",
       "      value {\n",
       "        input_tensor_name: \"V6\"\n",
       "      }\n",
       "    }\n",
       "    inputs {\n",
       "      key: \"V7\"\n",
       "      value {\n",
       "        input_tensor_name: \"V7\"\n",
       "      }\n",
       "    }\n",
       "    inputs {\n",
       "      key: \"V8\"\n",
       "      value {\n",
       "        input_tensor_name: \"V8\"\n",
       "      }\n",
       "    }\n",
       "    inputs {\n",
       "      key: \"V9\"\n",
       "      value {\n",
       "        input_tensor_name: \"V9\"\n",
       "      }\n",
       "    }\n",
       "    outputs {\n",
       "      key: \"prediction_layer\"\n",
       "      value {\n",
       "        output_tensor_name: \"prediction_layer\"\n",
       "      }\n",
       "    }\n",
       "  }\n",
       "}\n",
       "model_version_id: \"1\""
      ]
     },
     "execution_count": 35,
     "metadata": {},
     "output_type": "execute_result"
    }
   ],
   "source": [
    "endpoint.list_models()[0]"
   ]
  },
  {
   "cell_type": "markdown",
   "id": "cae2dee4-cb0c-415e-ab1a-6b3980691b95",
   "metadata": {},
   "source": [
    "### Get Prediction: Python Client"
   ]
  },
  {
   "cell_type": "code",
   "execution_count": 36,
   "id": "5c262927-7e67-4e3f-b04b-17deadaa1325",
   "metadata": {},
   "outputs": [],
   "source": [
    "instances = [json_format.ParseDict(newobs[0], Value())]"
   ]
  },
  {
   "cell_type": "code",
   "execution_count": 37,
   "id": "67f442be-c9e2-4582-90fe-e090fc02730e",
   "metadata": {},
   "outputs": [
    {
     "data": {
      "text/plain": [
       "Prediction(predictions=[[0.998993218, 0.00100678555]], deployed_model_id='5475220460650102784', model_version_id='1', model_resource_name='projects/1026793852137/locations/us-central1/models/model_05i_fraud', explanations=None)"
      ]
     },
     "execution_count": 37,
     "metadata": {},
     "output_type": "execute_result"
    }
   ],
   "source": [
    "prediction = endpoint.predict(instances = instances)\n",
    "prediction"
   ]
  },
  {
   "cell_type": "code",
   "execution_count": 38,
   "id": "a5839c46-2cf5-4b09-8e0b-8919e5767112",
   "metadata": {},
   "outputs": [
    {
     "data": {
      "text/plain": [
       "[0.998993218, 0.00100678555]"
      ]
     },
     "execution_count": 38,
     "metadata": {},
     "output_type": "execute_result"
    }
   ],
   "source": [
    "prediction.predictions[0]"
   ]
  },
  {
   "cell_type": "code",
   "execution_count": 39,
   "id": "e5629b86-bd25-4a2c-8dbd-2ab306b58592",
   "metadata": {},
   "outputs": [
    {
     "data": {
      "text/plain": [
       "0"
      ]
     },
     "execution_count": 39,
     "metadata": {},
     "output_type": "execute_result"
    }
   ],
   "source": [
    "np.argmax(prediction.predictions[0])"
   ]
  },
  {
   "cell_type": "markdown",
   "id": "a9e77f5a-9925-4708-94c0-ada9be8d26d9",
   "metadata": {},
   "source": [
    "### Get Prediction & Explanation: Python Client"
   ]
  },
  {
   "cell_type": "code",
   "execution_count": 70,
   "id": "58a2c239-409b-45c6-850d-d260558f0f45",
   "metadata": {},
   "outputs": [],
   "source": [
    "explanation = endpoint.explain(instances = instances)"
   ]
  },
  {
   "cell_type": "code",
   "execution_count": 71,
   "id": "b14eb821-a733-4808-be89-ee947b64ed2a",
   "metadata": {},
   "outputs": [
    {
     "data": {
      "text/plain": [
       "[[0.998993218, 0.00100678555]]"
      ]
     },
     "execution_count": 71,
     "metadata": {},
     "output_type": "execute_result"
    }
   ],
   "source": [
    "explanation.predictions"
   ]
  },
  {
   "cell_type": "code",
   "execution_count": 72,
   "id": "b415f8bb-7cbf-49a5-b102-45634717dff0",
   "metadata": {},
   "outputs": [
    {
     "data": {
      "text/plain": [
       "[attributions {\n",
       "  baseline_output_value: 0.9999043941497803\n",
       "  instance_output_value: 0.9989932179450989\n",
       "  feature_attributions {\n",
       "    struct_value {\n",
       "      fields {\n",
       "        key: \"Amount\"\n",
       "        value {\n",
       "          number_value: 0.0\n",
       "        }\n",
       "      }\n",
       "      fields {\n",
       "        key: \"Time\"\n",
       "        value {\n",
       "          number_value: -0.000349865218289453\n",
       "        }\n",
       "      }\n",
       "      fields {\n",
       "        key: \"V1\"\n",
       "        value {\n",
       "          number_value: 0.0004099055037639018\n",
       "        }\n",
       "      }\n",
       "      fields {\n",
       "        key: \"V10\"\n",
       "        value {\n",
       "          number_value: 0.0002407934147236343\n",
       "        }\n",
       "      }\n",
       "      fields {\n",
       "        key: \"V11\"\n",
       "        value {\n",
       "          number_value: 0.0001822769519944738\n",
       "        }\n",
       "      }\n",
       "      fields {\n",
       "        key: \"V12\"\n",
       "        value {\n",
       "          number_value: 0.000543946283436166\n",
       "        }\n",
       "      }\n",
       "      fields {\n",
       "        key: \"V13\"\n",
       "        value {\n",
       "          number_value: -0.0002429582977135693\n",
       "        }\n",
       "      }\n",
       "      fields {\n",
       "        key: \"V14\"\n",
       "        value {\n",
       "          number_value: -0.0005498451589312713\n",
       "        }\n",
       "      }\n",
       "      fields {\n",
       "        key: \"V15\"\n",
       "        value {\n",
       "          number_value: -0.0001426940282634725\n",
       "        }\n",
       "      }\n",
       "      fields {\n",
       "        key: \"V16\"\n",
       "        value {\n",
       "          number_value: 2.859865766202834e-05\n",
       "        }\n",
       "      }\n",
       "      fields {\n",
       "        key: \"V17\"\n",
       "        value {\n",
       "          number_value: -7.964999527127166e-05\n",
       "        }\n",
       "      }\n",
       "      fields {\n",
       "        key: \"V18\"\n",
       "        value {\n",
       "          number_value: -0.0004360288246407125\n",
       "        }\n",
       "      }\n",
       "      fields {\n",
       "        key: \"V19\"\n",
       "        value {\n",
       "          number_value: -8.632365965008173e-05\n",
       "        }\n",
       "      }\n",
       "      fields {\n",
       "        key: \"V2\"\n",
       "        value {\n",
       "          number_value: 9.2732114362436e-06\n",
       "        }\n",
       "      }\n",
       "      fields {\n",
       "        key: \"V20\"\n",
       "        value {\n",
       "          number_value: -0.0001171964663619994\n",
       "        }\n",
       "      }\n",
       "      fields {\n",
       "        key: \"V21\"\n",
       "        value {\n",
       "          number_value: 2.793505293773866e-05\n",
       "        }\n",
       "      }\n",
       "      fields {\n",
       "        key: \"V22\"\n",
       "        value {\n",
       "          number_value: 8.121836344609784e-06\n",
       "        }\n",
       "      }\n",
       "      fields {\n",
       "        key: \"V23\"\n",
       "        value {\n",
       "          number_value: 0.0001753213361564571\n",
       "        }\n",
       "      }\n",
       "      fields {\n",
       "        key: \"V24\"\n",
       "        value {\n",
       "          number_value: 1.083602247017759e-05\n",
       "        }\n",
       "      }\n",
       "      fields {\n",
       "        key: \"V25\"\n",
       "        value {\n",
       "          number_value: 0.0006783337802176316\n",
       "        }\n",
       "      }\n",
       "      fields {\n",
       "        key: \"V26\"\n",
       "        value {\n",
       "          number_value: 0.000222999744585937\n",
       "        }\n",
       "      }\n",
       "      fields {\n",
       "        key: \"V27\"\n",
       "        value {\n",
       "          number_value: 1.326837387492595e-05\n",
       "        }\n",
       "      }\n",
       "      fields {\n",
       "        key: \"V28\"\n",
       "        value {\n",
       "          number_value: -7.47253957903993e-07\n",
       "        }\n",
       "      }\n",
       "      fields {\n",
       "        key: \"V3\"\n",
       "        value {\n",
       "          number_value: 0.000216359876022467\n",
       "        }\n",
       "      }\n",
       "      fields {\n",
       "        key: \"V4\"\n",
       "        value {\n",
       "          number_value: -0.001697567480199924\n",
       "        }\n",
       "      }\n",
       "      fields {\n",
       "        key: \"V5\"\n",
       "        value {\n",
       "          number_value: -1.609594325290559e-05\n",
       "        }\n",
       "      }\n",
       "      fields {\n",
       "        key: \"V6\"\n",
       "        value {\n",
       "          number_value: -7.082372395243857e-05\n",
       "        }\n",
       "      }\n",
       "      fields {\n",
       "        key: \"V7\"\n",
       "        value {\n",
       "          number_value: -6.686503932207739e-05\n",
       "        }\n",
       "      }\n",
       "      fields {\n",
       "        key: \"V8\"\n",
       "        value {\n",
       "          number_value: 0.0001625857241896991\n",
       "        }\n",
       "      }\n",
       "      fields {\n",
       "        key: \"V9\"\n",
       "        value {\n",
       "          number_value: 5.469417324454105e-05\n",
       "        }\n",
       "      }\n",
       "    }\n",
       "  }\n",
       "  output_index: 0\n",
       "  approximation_error: 0.04364097890271726\n",
       "  output_name: \"prediction_layer\"\n",
       "}\n",
       "]"
      ]
     },
     "execution_count": 72,
     "metadata": {},
     "output_type": "execute_result"
    }
   ],
   "source": [
    "explanation.explanations"
   ]
  },
  {
   "cell_type": "code",
   "execution_count": 42,
   "id": "5b5855e6-cfed-415e-937f-0b608a3a5460",
   "metadata": {},
   "outputs": [
    {
     "name": "stdout",
     "output_type": "stream",
     "text": [
      "attribution:\n",
      "baseline output: 0.9999043941497803\n",
      "instance output: 0.9989932179450989\n",
      "output_index: [0]\n",
      "output_name: prediction_layer\n",
      "approximation error: 0.04364097890271738\n"
     ]
    }
   ],
   "source": [
    "print(\"attribution:\")\n",
    "print(\"baseline output:\",explanation.explanations[0].attributions[0].baseline_output_value)\n",
    "print(\"instance output:\",explanation.explanations[0].attributions[0].instance_output_value)\n",
    "print(\"output_index:\",explanation.explanations[0].attributions[0].output_index)\n",
    "print(\"output_name:\",explanation.explanations[0].attributions[0].output_name)\n",
    "print(\"approximation error:\",explanation.explanations[0].attributions[0].approximation_error)"
   ]
  },
  {
   "cell_type": "code",
   "execution_count": 43,
   "id": "0a0d1674-6d45-4373-90bb-719a274c9166",
   "metadata": {},
   "outputs": [
    {
     "data": {
      "image/png": "[encoded data removed]",
      "text/plain": [
       "<Figure size 648x648 with 1 Axes>"
      ]
     },
     "metadata": {
      "needs_background": "light"
     },
     "output_type": "display_data"
    }
   ],
   "source": [
    "import matplotlib.pyplot as plt\n",
    "features = []\n",
    "scores = []\n",
    "for k in explanation.explanations[0].attributions[0].feature_attributions:\n",
    "    features.append(k)\n",
    "    scores.append(explanation.explanations[0].attributions[0].feature_attributions[k])\n",
    "features = [x for _, x in sorted(zip(scores, features))]\n",
    "scores = sorted(scores)\n",
    "fig, ax = plt.subplots()\n",
    "fig.set_size_inches(9, 9)\n",
    "ax.barh(features, scores)\n",
    "plt.title('Feature Attributions')\n",
    "fig.show()"
   ]
  },
  {
   "cell_type": "markdown",
   "id": "72e1ede1-0773-4ea8-a34a-9ca50a3310a2",
   "metadata": {},
   "source": [
    "In the plot above, each bar represents the attribution for a feature, or how much the feature affected the change in the predicted value relative to the baseline value."
   ]
  },
  {
   "cell_type": "code",
   "execution_count": 44,
   "id": "e014ebfa-4355-473f-8a94-12b98c487c5e",
   "metadata": {},
   "outputs": [
    {
     "name": "stdout",
     "output_type": "stream",
     "text": [
      "baseline output: 0.9999043941497803\n",
      "instance output: 0.9989932179450989\n",
      "Total Attribution: -0.0008714111467464482\n",
      "instance - baseline: -0.0009111762046813965\n"
     ]
    }
   ],
   "source": [
    "sum_attributions = 0\n",
    "for k in explanation.explanations[0].attributions[0].feature_attributions:\n",
    "    sum_attributions += explanation.explanations[0].attributions[0].feature_attributions[k]\n",
    "\n",
    "print(\"baseline output:\",explanation.explanations[0].attributions[0].baseline_output_value)\n",
    "print(\"instance output:\",explanation.explanations[0].attributions[0].instance_output_value)\n",
    "print(\"Total Attribution:\", sum_attributions)\n",
    "print(\"instance - baseline:\",explanation.explanations[0].attributions[0].instance_output_value-explanation.explanations[0].attributions[0].baseline_output_value)"
   ]
  },
  {
   "cell_type": "markdown",
   "id": "60aeca01-4d74-4521-a34d-3a5a75b1a0f1",
   "metadata": {},
   "source": [
    "### Explainable AI SDK: Local Explanations\n",
    "When using Vertex AI Workbench based user-manged notebooks you have access to the [Explainable AI SDK](https://github.com/GoogleCloudPlatform/explainable_ai_sdk).  This section demonstrates local explanations using the SDK.\n",
    "\n",
    "This can be helpful for iterating on setting up explanations before deploying the model with `explanationSpec`:\n",
    "- try different baselines\n",
    "- setup vizualization settings for image models\n",
    "- adjust parameters like steps (integrated gradients) or paths (sampled Shapley)"
   ]
  },
  {
   "cell_type": "code",
   "execution_count": 45,
   "id": "6c5282dd-0520-41f6-8c52-891c033357ce",
   "metadata": {},
   "outputs": [],
   "source": [
    "import explainable_ai_sdk\n",
    "from explainable_ai_sdk.metadata.tf.v2 import SavedModelMetadataBuilder"
   ]
  },
  {
   "cell_type": "code",
   "execution_count": 46,
   "id": "1d9df2aa-7caa-4138-ab74-54522ea3e806",
   "metadata": {},
   "outputs": [
    {
     "name": "stdout",
     "output_type": "stream",
     "text": [
      "INFO:tensorflow:Assets written to: temp/05_explanability/model/assets\n"
     ]
    },
    {
     "name": "stderr",
     "output_type": "stream",
     "text": [
      "INFO:tensorflow:Assets written to: temp/05_explanability/model/assets\n"
     ]
    },
    {
     "name": "stdout",
     "output_type": "stream",
     "text": [
      "temp/05_explanability/model:\n",
      "total 508\n",
      "drwxr-xr-x 2 jupyter jupyter   4096 Aug 27 02:11 assets\n",
      "-rw-r--r-- 1 jupyter jupyter   3541 Aug 27 02:11 explanation_metadata.json\n",
      "-rw-r--r-- 1 jupyter jupyter 505380 Aug 27 02:11 saved_model.pb\n",
      "drwxr-xr-x 2 jupyter jupyter   4096 Aug 27 02:11 variables\n",
      "\n",
      "temp/05_explanability/model/assets:\n",
      "total 0\n",
      "\n",
      "temp/05_explanability/model/variables:\n",
      "total 52\n",
      "-rw-r--r-- 1 jupyter jupyter 45865 Aug 27 02:11 variables.data-00000-of-00001\n",
      "-rw-r--r-- 1 jupyter jupyter  2122 Aug 27 02:11 variables.index\n"
     ]
    }
   ],
   "source": [
    "builder = SavedModelMetadataBuilder(model.uri)\n",
    "builder.save_model_with_metadata(f'{DIR}/model')\n",
    "!ls -l -R {DIR}/model"
   ]
  },
  {
   "cell_type": "code",
   "execution_count": 47,
   "id": "1c57a2ec-9dd5-4f9f-8dc2-f12eee0edd72",
   "metadata": {},
   "outputs": [],
   "source": [
    "local_model = explainable_ai_sdk.load_model_from_local_path(\n",
    "    model_path = f'{DIR}/model',\n",
    "    config = explainable_ai_sdk.IntegratedGradientsConfig(step_count = 50)\n",
    ")"
   ]
  },
  {
   "cell_type": "code",
   "execution_count": 48,
   "id": "4cc8544c-8e26-482d-8a6e-6b6d660a4ef5",
   "metadata": {},
   "outputs": [
    {
     "data": {
      "text/plain": [
       "explainable_ai_sdk.model.local_model.LocalModel"
      ]
     },
     "execution_count": 48,
     "metadata": {},
     "output_type": "execute_result"
    }
   ],
   "source": [
    "type(local_model)"
   ]
  },
  {
   "cell_type": "code",
   "execution_count": 49,
   "id": "98168109-769e-420a-89d0-4aff33c3f85f",
   "metadata": {},
   "outputs": [
    {
     "data": {
      "text/plain": [
       "{'Time': 35337,\n",
       " 'V1': 1.0928441854981998,\n",
       " 'V2': -0.0132303486713432,\n",
       " 'V3': 1.35982868199426,\n",
       " 'V4': 2.7315370965921004,\n",
       " 'V5': -0.707357349219652,\n",
       " 'V6': 0.8738370029866129,\n",
       " 'V7': -0.7961301510622031,\n",
       " 'V8': 0.437706509544851,\n",
       " 'V9': 0.39676985012996396,\n",
       " 'V10': 0.587438102569443,\n",
       " 'V11': -0.14979756231827498,\n",
       " 'V12': 0.29514781622888103,\n",
       " 'V13': -1.30382621882143,\n",
       " 'V14': -0.31782283120234495,\n",
       " 'V15': -2.03673231037199,\n",
       " 'V16': 0.376090905274179,\n",
       " 'V17': -0.30040350116459497,\n",
       " 'V18': 0.433799615590844,\n",
       " 'V19': -0.145082264348681,\n",
       " 'V20': -0.240427548108996,\n",
       " 'V21': 0.0376030733329398,\n",
       " 'V22': 0.38002620963091405,\n",
       " 'V23': -0.16764742731151097,\n",
       " 'V24': 0.0275573495476881,\n",
       " 'V25': 0.59211469704354,\n",
       " 'V26': 0.219695164116351,\n",
       " 'V27': 0.0369695108704894,\n",
       " 'V28': 0.010984441006191,\n",
       " 'Amount': 0.0}"
      ]
     },
     "execution_count": 49,
     "metadata": {},
     "output_type": "execute_result"
    }
   ],
   "source": [
    "newobs[0]"
   ]
  },
  {
   "cell_type": "markdown",
   "id": "9a900bbd-b480-4872-bd57-02daf52c2893",
   "metadata": {},
   "source": [
    "Update the dictionary to have values as tensors:"
   ]
  },
  {
   "cell_type": "code",
   "execution_count": 52,
   "id": "9183f902-0ba9-4dc8-a902-25a0829ca52a",
   "metadata": {},
   "outputs": [
    {
     "data": {
      "text/plain": [
       "{'Time': <tf.Tensor: shape=(1,), dtype=float64, numpy=array([35337.])>,\n",
       " 'V1': <tf.Tensor: shape=(1,), dtype=float64, numpy=array([1.09284419])>,\n",
       " 'V2': <tf.Tensor: shape=(1,), dtype=float64, numpy=array([-0.01323035])>,\n",
       " 'V3': <tf.Tensor: shape=(1,), dtype=float64, numpy=array([1.35982868])>,\n",
       " 'V4': <tf.Tensor: shape=(1,), dtype=float64, numpy=array([2.7315371])>,\n",
       " 'V5': <tf.Tensor: shape=(1,), dtype=float64, numpy=array([-0.70735735])>,\n",
       " 'V6': <tf.Tensor: shape=(1,), dtype=float64, numpy=array([0.873837])>,\n",
       " 'V7': <tf.Tensor: shape=(1,), dtype=float64, numpy=array([-0.79613015])>,\n",
       " 'V8': <tf.Tensor: shape=(1,), dtype=float64, numpy=array([0.43770651])>,\n",
       " 'V9': <tf.Tensor: shape=(1,), dtype=float64, numpy=array([0.39676985])>,\n",
       " 'V10': <tf.Tensor: shape=(1,), dtype=float64, numpy=array([0.5874381])>,\n",
       " 'V11': <tf.Tensor: shape=(1,), dtype=float64, numpy=array([-0.14979756])>,\n",
       " 'V12': <tf.Tensor: shape=(1,), dtype=float64, numpy=array([0.29514782])>,\n",
       " 'V13': <tf.Tensor: shape=(1,), dtype=float64, numpy=array([-1.30382622])>,\n",
       " 'V14': <tf.Tensor: shape=(1,), dtype=float64, numpy=array([-0.31782283])>,\n",
       " 'V15': <tf.Tensor: shape=(1,), dtype=float64, numpy=array([-2.03673231])>,\n",
       " 'V16': <tf.Tensor: shape=(1,), dtype=float64, numpy=array([0.37609091])>,\n",
       " 'V17': <tf.Tensor: shape=(1,), dtype=float64, numpy=array([-0.3004035])>,\n",
       " 'V18': <tf.Tensor: shape=(1,), dtype=float64, numpy=array([0.43379962])>,\n",
       " 'V19': <tf.Tensor: shape=(1,), dtype=float64, numpy=array([-0.14508226])>,\n",
       " 'V20': <tf.Tensor: shape=(1,), dtype=float64, numpy=array([-0.24042755])>,\n",
       " 'V21': <tf.Tensor: shape=(1,), dtype=float64, numpy=array([0.03760307])>,\n",
       " 'V22': <tf.Tensor: shape=(1,), dtype=float64, numpy=array([0.38002621])>,\n",
       " 'V23': <tf.Tensor: shape=(1,), dtype=float64, numpy=array([-0.16764743])>,\n",
       " 'V24': <tf.Tensor: shape=(1,), dtype=float64, numpy=array([0.02755735])>,\n",
       " 'V25': <tf.Tensor: shape=(1,), dtype=float64, numpy=array([0.5921147])>,\n",
       " 'V26': <tf.Tensor: shape=(1,), dtype=float64, numpy=array([0.21969516])>,\n",
       " 'V27': <tf.Tensor: shape=(1,), dtype=float64, numpy=array([0.03696951])>,\n",
       " 'V28': <tf.Tensor: shape=(1,), dtype=float64, numpy=array([0.01098444])>,\n",
       " 'Amount': <tf.Tensor: shape=(1,), dtype=float64, numpy=array([0.])>}"
      ]
     },
     "execution_count": 52,
     "metadata": {},
     "output_type": "execute_result"
    }
   ],
   "source": [
    "{key: tf.constant([value], dtype=tf.float64, name = key) for key, value in newobs[0].items()}"
   ]
  },
  {
   "cell_type": "code",
   "execution_count": 53,
   "id": "3b1a4201-828c-429d-9c9f-21e4cd4fd157",
   "metadata": {},
   "outputs": [
    {
     "data": {
      "text/plain": [
       "[{'prediction_layer': [0.9989932179450989, 0.0010067860130220652]}]"
      ]
     },
     "execution_count": 53,
     "metadata": {},
     "output_type": "execute_result"
    }
   ],
   "source": [
    "prediction = local_model.predict(instances = [{key: tf.constant([value], dtype=tf.float64, name = key) for key, value in newobs[0].items()}])\n",
    "prediction"
   ]
  },
  {
   "cell_type": "code",
   "execution_count": 54,
   "id": "18df7690-057c-4464-b713-7ff36fccc1dc",
   "metadata": {},
   "outputs": [
    {
     "data": {
      "text/plain": [
       "[<explainable_ai_sdk.model.explanation.Explanation at 0x7fec986fcb90>]"
      ]
     },
     "execution_count": 54,
     "metadata": {},
     "output_type": "execute_result"
    }
   ],
   "source": [
    "explanation = local_model.explain(instances = [{key: tf.constant([value], dtype=tf.float64, name = key) for key, value in newobs[0].items()}])\n",
    "explanation"
   ]
  },
  {
   "cell_type": "code",
   "execution_count": 55,
   "id": "36d11c91-d8a8-49b0-9292-2770c2d8c0b2",
   "metadata": {},
   "outputs": [
    {
     "data": {
      "text/plain": [
       "{'V13': -0.00025991094298660755,\n",
       " 'V24': 1.0715451935539022e-05,\n",
       " 'V28': -5.008934067518567e-07,\n",
       " 'V21': 2.809919351420831e-05,\n",
       " 'V18': -0.0004297656414564699,\n",
       " 'V4': -0.0017229134682565928,\n",
       " 'V1': 0.000397511146729812,\n",
       " 'V11': 0.0001818822493078187,\n",
       " 'V17': -8.126850298140198e-05,\n",
       " 'V25': 0.0006792759522795677,\n",
       " 'V15': -0.00013671354099642485,\n",
       " 'V26': 0.00021825265139341354,\n",
       " 'V7': -6.966513319639489e-05,\n",
       " 'Amount': 0.0,\n",
       " 'V5': -1.5059349607327022e-05,\n",
       " 'Time': -0.0003467779897619039,\n",
       " 'V16': 2.7743155442294665e-05,\n",
       " 'V20': -0.0001171016920125112,\n",
       " 'V12': 0.0005402057431638241,\n",
       " 'V3': 0.00022823952895123512,\n",
       " 'V9': 5.4535779781872407e-05,\n",
       " 'V2': 9.190739547193516e-06,\n",
       " 'V6': -7.157724030548707e-05,\n",
       " 'V22': 8.495044312439859e-06,\n",
       " 'V23': 0.00017433347238693386,\n",
       " 'V19': -8.475522190565243e-05,\n",
       " 'V10': 0.0002397342468611896,\n",
       " 'V27': 1.3548216884373687e-05,\n",
       " 'V14': -0.000550235970877111,\n",
       " 'V8': 0.0001588204177096486}"
      ]
     },
     "execution_count": 55,
     "metadata": {},
     "output_type": "execute_result"
    }
   ],
   "source": [
    "explanation[0].feature_importance()"
   ]
  },
  {
   "cell_type": "code",
   "execution_count": 56,
   "id": "078410d6-4cc8-4032-9f90-90233a3e0781",
   "metadata": {},
   "outputs": [
    {
     "data": {
      "text/plain": [
       "{'V13': array([-0.00025991], dtype=float32),\n",
       " 'V24': array([1.0715452e-05], dtype=float32),\n",
       " 'V28': array([-5.008934e-07], dtype=float32),\n",
       " 'V21': array([2.8099194e-05], dtype=float32),\n",
       " 'V18': array([-0.00042977], dtype=float32),\n",
       " 'V4': array([-0.00172291], dtype=float32),\n",
       " 'V1': array([0.00039751], dtype=float32),\n",
       " 'V11': array([0.00018188], dtype=float32),\n",
       " 'V17': array([-8.12685e-05], dtype=float32),\n",
       " 'V25': array([0.00067928], dtype=float32),\n",
       " 'V15': array([-0.00013671], dtype=float32),\n",
       " 'V26': array([0.00021825], dtype=float32),\n",
       " 'V7': array([-6.966513e-05], dtype=float32),\n",
       " 'Amount': array([-0.], dtype=float32),\n",
       " 'V5': array([-1.505935e-05], dtype=float32),\n",
       " 'Time': array([-0.00034678], dtype=float32),\n",
       " 'V16': array([2.7743155e-05], dtype=float32),\n",
       " 'V20': array([-0.0001171], dtype=float32),\n",
       " 'V12': array([0.00054021], dtype=float32),\n",
       " 'V3': array([0.00022824], dtype=float32),\n",
       " 'V9': array([5.453578e-05], dtype=float32),\n",
       " 'V2': array([9.19074e-06], dtype=float32),\n",
       " 'V6': array([-7.157724e-05], dtype=float32),\n",
       " 'V22': array([8.495044e-06], dtype=float32),\n",
       " 'V23': array([0.00017433], dtype=float32),\n",
       " 'V19': array([-8.475522e-05], dtype=float32),\n",
       " 'V10': array([0.00023973], dtype=float32),\n",
       " 'V27': array([1.3548217e-05], dtype=float32),\n",
       " 'V14': array([-0.00055024], dtype=float32),\n",
       " 'V8': array([0.00015882], dtype=float32)}"
      ]
     },
     "execution_count": 56,
     "metadata": {},
     "output_type": "execute_result"
    }
   ],
   "source": [
    "explanation[0].as_tensors()"
   ]
  },
  {
   "cell_type": "code",
   "execution_count": 57,
   "id": "103536f2-95fa-4bf8-a7bd-e65194d21579",
   "metadata": {},
   "outputs": [
    {
     "name": "stdout",
     "output_type": "stream",
     "text": [
      "Label Index 0\n",
      "Example Score: 0.9990\n",
      "Baseline Score: 0.9999\n",
      "Approximation Error: 0.0049\n"
     ]
    },
    {
     "data": {
      "image/png": "[encoded data removed]",
      "text/plain": [
       "<Figure size 432x288 with 1 Axes>"
      ]
     },
     "metadata": {
      "needs_background": "light"
     },
     "output_type": "display_data"
    }
   ],
   "source": [
    "explanation[0].visualize_attributions()"
   ]
  },
  {
   "cell_type": "code",
   "execution_count": 58,
   "id": "f4fdd102-3064-490d-a511-8cff8233593f",
   "metadata": {},
   "outputs": [
    {
     "data": {
      "image/png": "[encoded data removed]",
      "text/plain": [
       "<Figure size 432x288 with 1 Axes>"
      ]
     },
     "metadata": {
      "needs_background": "light"
     },
     "output_type": "display_data"
    }
   ],
   "source": [
    "explanation[0].visualize_top_k_features(k=len(newobs[0]))"
   ]
  },
  {
   "cell_type": "markdown",
   "id": "f1c5df30-1335-48b0-8c82-985596b867fe",
   "metadata": {},
   "source": [
    "### Explainable AI SDK With Vertex AI Endpoints\n",
    "The features of the Explainable AI SDK are also useful for Vertex AI Endpoints.  The example below shows using the SDK with a Vertex AI Endpoint, the one setup in this notebook with `explanationSpec`."
   ]
  },
  {
   "cell_type": "code",
   "execution_count": 59,
   "id": "4c77a370-d2cd-461a-8ac1-813e2f08665a",
   "metadata": {},
   "outputs": [],
   "source": [
    "vertex_explain = explainable_ai_sdk.load_model_from_vertex(\n",
    "    project = PROJECT_ID,\n",
    "    region = REGION,\n",
    "    endpoint_id = endpoint.resource_name.split('/')[-1]\n",
    ")"
   ]
  },
  {
   "cell_type": "code",
   "execution_count": 60,
   "id": "a2dd07a5-0a80-4e82-b2f8-e4ba816990e5",
   "metadata": {},
   "outputs": [
    {
     "data": {
      "text/plain": [
       "{'predictions': [[0.998993218, 0.00100678555]],\n",
       " 'deployedModelId': '5475220460650102784',\n",
       " 'model': 'projects/1026793852137/locations/us-central1/models/model_05i_fraud',\n",
       " 'modelDisplayName': '05i_fraud',\n",
       " 'modelVersionId': '1'}"
      ]
     },
     "execution_count": 60,
     "metadata": {},
     "output_type": "execute_result"
    }
   ],
   "source": [
    "prediction = vertex_explain.predict(instances = [newobs[0]])\n",
    "prediction"
   ]
  },
  {
   "cell_type": "code",
   "execution_count": 61,
   "id": "0cdd922e-170c-4d2f-933c-9d90371e7b1c",
   "metadata": {},
   "outputs": [],
   "source": [
    "explanation = vertex_explain.explain(instances = [newobs[0]])"
   ]
  },
  {
   "cell_type": "code",
   "execution_count": 62,
   "id": "da96eb1b-9660-4df7-89d9-32754764eca6",
   "metadata": {},
   "outputs": [
    {
     "data": {
      "text/plain": [
       "{'V10': 0.0002407934147236343,\n",
       " 'V9': 5.469417324454105e-05,\n",
       " 'V11': 0.0001822769519944738,\n",
       " 'V4': -0.001697567480199924,\n",
       " 'V7': -6.686503932207739e-05,\n",
       " 'V23': 0.0001753213361564571,\n",
       " 'V27': 1.326837387492595e-05,\n",
       " 'V2': 9.2732114362436e-06,\n",
       " 'V20': -0.0001171964663619994,\n",
       " 'V1': 0.0004099055037639018,\n",
       " 'V12': 0.000543946283436166,\n",
       " 'V17': -7.964999527127166e-05,\n",
       " 'V6': -7.082372395243857e-05,\n",
       " 'V28': -7.47253957903993e-07,\n",
       " 'V21': 2.793505293773866e-05,\n",
       " 'V5': -1.609594325290559e-05,\n",
       " 'V3': 0.000216359876022467,\n",
       " 'V19': -8.632365965008173e-05,\n",
       " 'V25': 0.0006783337802176316,\n",
       " 'V16': 2.859865766202834e-05,\n",
       " 'V22': 8.121836344609784e-06,\n",
       " 'V26': 0.000222999744585937,\n",
       " 'V18': -0.0004360288246407125,\n",
       " 'V8': 0.0001625857241896991,\n",
       " 'V15': -0.0001426940282634725,\n",
       " 'Time': -0.000349865218289453,\n",
       " 'V14': -0.0005498451589312713,\n",
       " 'V13': -0.0002429582977135693,\n",
       " 'V24': 1.083602247017759e-05}"
      ]
     },
     "execution_count": 62,
     "metadata": {},
     "output_type": "execute_result"
    }
   ],
   "source": [
    "explanation[0].feature_importance()"
   ]
  },
  {
   "cell_type": "code",
   "execution_count": 63,
   "id": "eb933ae1-e433-473f-8cdb-b8b385e53de2",
   "metadata": {},
   "outputs": [
    {
     "data": {
      "text/plain": [
       "{'V10': array(0.00024079),\n",
       " 'V9': array(5.46941732e-05),\n",
       " 'V11': array(0.00018228),\n",
       " 'V4': array(-0.00169757),\n",
       " 'V7': array(-6.68650393e-05),\n",
       " 'V23': array(0.00017532),\n",
       " 'V27': array(1.32683739e-05),\n",
       " 'V2': array(9.27321144e-06),\n",
       " 'V20': array(-0.0001172),\n",
       " 'V1': array(0.00040991),\n",
       " 'V12': array(0.00054395),\n",
       " 'V17': array(-7.96499953e-05),\n",
       " 'V6': array(-7.0823724e-05),\n",
       " 'V28': array(-7.47253958e-07),\n",
       " 'V21': array(2.79350529e-05),\n",
       " 'V5': array(-1.60959433e-05),\n",
       " 'V3': array(0.00021636),\n",
       " 'V19': array(-8.63236597e-05),\n",
       " 'V25': array(0.00067833),\n",
       " 'V16': array(2.85986577e-05),\n",
       " 'V22': array(8.12183634e-06),\n",
       " 'V26': array(0.000223),\n",
       " 'V18': array(-0.00043603),\n",
       " 'V8': array(0.00016259),\n",
       " 'V15': array(-0.00014269),\n",
       " 'Time': array(-0.00034987),\n",
       " 'V14': array(-0.00054985),\n",
       " 'V13': array(-0.00024296),\n",
       " 'V24': array(1.08360225e-05)}"
      ]
     },
     "execution_count": 63,
     "metadata": {},
     "output_type": "execute_result"
    }
   ],
   "source": [
    "explanation[0].as_tensors()"
   ]
  },
  {
   "cell_type": "code",
   "execution_count": 64,
   "id": "1b187673-80ad-48fe-8d5c-493bdffb9cde",
   "metadata": {},
   "outputs": [
    {
     "name": "stdout",
     "output_type": "stream",
     "text": [
      "Label Index [0]\n",
      "Example Score: 0.9990\n",
      "Baseline Score: 0.9999\n",
      "Approximation Error: 0.0436\n"
     ]
    }
   ],
   "source": [
    "explanation[0].visualize_attributions()"
   ]
  },
  {
   "cell_type": "code",
   "execution_count": 65,
   "id": "7779b72a-4063-4ee1-93a4-6650e29ec6da",
   "metadata": {},
   "outputs": [
    {
     "data": {
      "image/png": "[encoded data removed]",
      "text/plain": [
       "<Figure size 432x288 with 1 Axes>"
      ]
     },
     "metadata": {
      "needs_background": "light"
     },
     "output_type": "display_data"
    }
   ],
   "source": [
    "explanation[0].visualize_top_k_features(k=len(newobs[0]))"
   ]
  },
  {
   "cell_type": "markdown",
   "id": "76087d6a-f7c3-4b03-81d7-5fa250a8a47f",
   "metadata": {},
   "source": [
    "---\n",
    "## Example-Based Explanations"
   ]
  },
  {
   "cell_type": "code",
   "execution_count": null,
   "id": "10c0f424-051a-4f75-a485-4128c308d4af",
   "metadata": {},
   "outputs": [],
   "source": []
  },
  {
   "cell_type": "code",
   "execution_count": null,
   "id": "d3e3c8b3-4a32-4276-a0a6-c4ed71e1dca2",
   "metadata": {},
   "outputs": [],
   "source": []
  },
  {
   "cell_type": "code",
   "execution_count": null,
   "id": "b193293a-b803-4bf5-97af-86005a720c0b",
   "metadata": {},
   "outputs": [],
   "source": []
  },
  {
   "cell_type": "code",
   "execution_count": null,
   "id": "4a234c50-b5dc-410d-938c-4240897459d8",
   "metadata": {},
   "outputs": [],
   "source": []
  },
  {
   "cell_type": "code",
   "execution_count": null,
   "id": "7a9c68ae-70c8-483b-9cfc-573191b7f558",
   "metadata": {},
   "outputs": [],
   "source": []
  },
  {
   "cell_type": "code",
   "execution_count": null,
   "id": "04b9c428-e095-4cee-8655-0fae345777cb",
   "metadata": {},
   "outputs": [],
   "source": []
  },
  {
   "cell_type": "code",
   "execution_count": null,
   "id": "25eecff0-fbc8-401e-a642-55d4a61ae9f5",
   "metadata": {},
   "outputs": [],
   "source": []
  },
  {
   "cell_type": "code",
   "execution_count": null,
   "id": "199ca836-7533-4641-8cf8-833b1bab6b2a",
   "metadata": {},
   "outputs": [],
   "source": []
  },
  {
   "cell_type": "code",
   "execution_count": null,
   "id": "a2493991-9274-45a9-a4e4-838ddb8e74ca",
   "metadata": {},
   "outputs": [],
   "source": []
  },
  {
   "cell_type": "code",
   "execution_count": null,
   "id": "622ca325-0500-432c-b224-9ef9e5f75790",
   "metadata": {},
   "outputs": [],
   "source": []
  },
  {
   "cell_type": "code",
   "execution_count": null,
   "id": "6092ac21-d94a-4449-996f-97efe72a8038",
   "metadata": {},
   "outputs": [],
   "source": []
  },
  {
   "cell_type": "code",
   "execution_count": null,
   "id": "0667993d-3da8-4927-bb72-4c819e41334e",
   "metadata": {},
   "outputs": [],
   "source": []
  },
  {
   "cell_type": "code",
   "execution_count": null,
   "id": "7d7bc598-f996-4cdc-b611-b180d33f8cf0",
   "metadata": {},
   "outputs": [],
   "source": []
  },
  {
   "cell_type": "code",
   "execution_count": null,
   "id": "027bf721-95b4-4bff-be69-5d4dacc57a87",
   "metadata": {},
   "outputs": [],
   "source": []
  },
  {
   "cell_type": "code",
   "execution_count": null,
   "id": "53e785b7-7f09-4fd0-9faa-6f93cc89e391",
   "metadata": {},
   "outputs": [],
   "source": []
  },
  {
   "cell_type": "code",
   "execution_count": null,
   "id": "82bae6ac-8ab0-46a6-b8da-3228324b6450",
   "metadata": {},
   "outputs": [],
   "source": []
  },
  {
   "cell_type": "code",
   "execution_count": null,
   "id": "b79b8ad5-017f-49f4-add3-5b319237e6fd",
   "metadata": {},
   "outputs": [],
   "source": []
  },
  {
   "cell_type": "code",
   "execution_count": null,
   "id": "005c01a2-c9e3-4c2d-9ed1-68a25cd56ea9",
   "metadata": {},
   "outputs": [],
   "source": []
  }
 ],
 "metadata": {
  "environment": {
   "kernel": "python3",
   "name": "tf2-gpu.2-3.m94",
   "type": "gcloud",
   "uri": "gcr.io/deeplearning-platform-release/tf2-gpu.2-3:m94"
  },
  "kernelspec": {
   "display_name": "Python 3",
   "language": "python",
   "name": "python3"
  },
  "language_info": {
   "codemirror_mode": {
    "name": "ipython",
    "version": 3
   },
   "file_extension": ".py",
   "mimetype": "text/x-python",
   "name": "python",
   "nbconvert_exporter": "python",
   "pygments_lexer": "ipython3",
   "version": "3.7.12"
  }
 },
 "nbformat": 4,
 "nbformat_minor": 5
}
