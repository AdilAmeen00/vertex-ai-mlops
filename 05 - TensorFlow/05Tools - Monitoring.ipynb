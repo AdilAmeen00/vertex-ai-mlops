{
 "cells": [
  {
   "cell_type": "markdown",
   "id": "13798f26-6018-4d89-b340-c401e2cb1694",
   "metadata": {},
   "source": [
    "# 05Tools: Model Monitoring\n",
    "\n",
    "Bring contents of notebook 6a here\n",
    "Do this after\n",
    "- experiments\n",
    "- explainability\n",
    "- include the predictions in monitoring?\n",
    "\n",
    "Monitoring:\n",
    "- Features\n",
    "    - At Prediction time\n",
    "        - Shift from train time\n",
    "        - Drift over time\n",
    "        - Online and Batch\n",
    "        - Attributions\n",
    "            - From model explainability\n",
    "        - Predictions\n",
    "    - At data time\n",
    "        - values over time - feature store\n",
    "        - handy to understand impact across all models using a feature and to understand impact of using feature in future models\n",
    "        \n",
    "### Conceptual Flow & Workflow\n",
    "<p align=\"center\">\n",
    "  <img alt=\"Conceptual Flow\" src=\"../architectures/slides/05tools_monitor_arch.png\" width=\"45%\">\n",
    "&nbsp; &nbsp; &nbsp; &nbsp;\n",
    "  <img alt=\"Workflow\" src=\"../architectures/slides/05tools_monitor_console.png\" width=\"45%\">\n",
    "</p>"
   ]
  },
  {
   "cell_type": "code",
   "execution_count": null,
   "id": "395b39e8-76e3-4e7b-a47f-ad1d6c9ff781",
   "metadata": {},
   "outputs": [],
   "source": []
  }
 ],
 "metadata": {
  "environment": {
   "kernel": "python3",
   "name": "tf2-gpu.2-3.m94",
   "type": "gcloud",
   "uri": "gcr.io/deeplearning-platform-release/tf2-gpu.2-3:m94"
  },
  "kernelspec": {
   "display_name": "Python 3",
   "language": "python",
   "name": "python3"
  },
  "language_info": {
   "codemirror_mode": {
    "name": "ipython",
    "version": 3
   },
   "file_extension": ".py",
   "mimetype": "text/x-python",
   "name": "python",
   "nbconvert_exporter": "python",
   "pygments_lexer": "ipython3",
   "version": "3.7.12"
  }
 },
 "nbformat": 4,
 "nbformat_minor": 5
}
