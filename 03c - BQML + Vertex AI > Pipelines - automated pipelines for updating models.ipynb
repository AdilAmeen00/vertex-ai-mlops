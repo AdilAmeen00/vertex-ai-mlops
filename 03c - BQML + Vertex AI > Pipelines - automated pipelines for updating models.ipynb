{
 "cells": [
  {
   "cell_type": "markdown",
   "id": "6b59f1fb-5557-4f89-9ee6-505e1ccc8509",
   "metadata": {},
   "source": [
    "# 03c - BQML + Vertex AI > Pipelines - automated pipelines for updating models\n",
    "\n",
    "As time goes on change occurs:\n",
    "- inputs to our models may shift in distribution compared to when the model was trained - called training-serving skew\n",
    "- inputs to out models may shift over time - called prediction drift\n",
    "- new inputs/features may become available\n",
    "- a better model may be created\n",
    "\n",
    "In the `03b` notebook we deployed the model built with BQML in the `03a` notebook to a Vertex AI Endpoint for online prediction.  In this notebook we will build a challenger model with the same training data, also using BQML but with a different model type - a deep neural network similar what we build in the `05` series of ntoebooks.  We will construct a Vertex AI Pipeline to orchestrate the process of building the new model, comparing to the deployed mode, and conditionally replacing the deployed model with the new one.  \n",
    "\n",
    "This process could be triggered based on time elapsed, amount of new data, detect training-serving skew or prediction drift.  \n",
    "\n",
    "### Prerequisites:\n",
    "-  03a - BigQuery Machine Learning (BQML) - Machine Learning with SQL\n",
    "-  03b - Vertex AI + BQML - Online Predictions with BQML Models\n",
    "\n",
    "### Overview:\n",
    "- Build Custom Pipeline Components\n",
    "    - Use BigQuery ML to Get Predictions and Scikit-Learn to calculate model metrics\n",
    "    - Use BigQuery ML to train a new model - A Deep Neural Network\n",
    "    - Compare model metrics for baseline and challenger model\n",
    "    - Export BigQuery ML model to Google Cloud Storage\n",
    "    - Replace a model deployed to an endpoint (`03b`) with the challenger model, undeploy previous model\n",
    "- Define the Pipeline Flow\n",
    "- Compile the Pipeline\n",
    "- Run the Pipeline in Vertex AI\n",
    "- Get Predictions from the upated Endpoint\n",
    "\n",
    "### Resources:\n",
    "-  [Export formats for BigQuery ML models](https://cloud.google.com/bigquery-ml/docs/exporting-models)\n",
    "-  [Python Client for Vertex AI](https://googleapis.dev/python/aiplatform/latest/aiplatform.html)\n",
    "-  Codelab: [Vertex AI Pipelines Introduction](https://codelabs.developers.google.com/vertex-mlmd-pipelines#0)\n",
    "-  [Vertex AI Prebuilt KFP Components](https://google-cloud-pipeline-components.readthedocs.io/en/google-cloud-pipeline-components-0.2.0/)\n"
   ]
  },
  {
   "cell_type": "markdown",
   "id": "47c5855d-e3ff-464c-af1d-d7f0aa52cd1c",
   "metadata": {},
   "source": [
    "---\n",
    "## Vertex AI - Conceptual Flow\n",
    "\n",
    "<img src=\"architectures/slides/03c_arch.png\">\n",
    "\n",
    "---\n",
    "## Vertex AI - Workflow\n",
    "\n",
    "<img src=\"architectures/slides/03c_console.png\">"
   ]
  },
  {
   "cell_type": "markdown",
   "id": "39de3982-2555-4d5c-bae6-8e7d35710557",
   "metadata": {
    "tags": []
   },
   "source": [
    "---\n",
    "## Setup"
   ]
  },
  {
   "cell_type": "markdown",
   "id": "f870ab11-b5dc-4378-830c-b39feaaa5384",
   "metadata": {},
   "source": [
    "inputs:"
   ]
  },
  {
   "cell_type": "code",
   "execution_count": 43,
   "id": "bb73f2d6-e658-445c-8a2a-3c65edfe423a",
   "metadata": {},
   "outputs": [],
   "source": [
    "REGION = 'us-central1'\n",
    "PROJECT_ID='statmike-demo3'\n",
    "DATANAME = 'fraud'\n",
    "NOTEBOOK = '03c'\n",
    "\n",
    "# Resources\n",
    "DEPLOY_IMAGE='us-docker.pkg.dev/vertex-ai/prediction/tf2-cpu.2-3:latest'\n",
    "DEPLOY_COMPUTE = 'n1-standard-4'\n",
    "\n",
    "# Model Training\n",
    "VAR_TARGET = 'Class'\n",
    "VAR_OMIT = 'transaction_id' # add more variables to the string with space delimiters"
   ]
  },
  {
   "cell_type": "markdown",
   "id": "6fc1e984-dcde-4348-a72a-6848ac2a7538",
   "metadata": {},
   "source": [
    "packages:"
   ]
  },
  {
   "cell_type": "code",
   "execution_count": 44,
   "id": "968c1a4a-512f-4553-8e8c-130df1100a0e",
   "metadata": {},
   "outputs": [],
   "source": [
    "from google.cloud import aiplatform\n",
    "from datetime import datetime\n",
    "from typing import NamedTuple\n",
    "import kfp # used for dsl.pipeline\n",
    "import kfp.v2.dsl as dsl # used for dsl.component, dsl.Output, dsl.Input, dsl.Artifact, dsl.Model, ...\n",
    "from google_cloud_pipeline_components import aiplatform as gcc_aip\n",
    "\n",
    "from google.cloud import bigquery\n",
    "from google.protobuf import json_format\n",
    "from google.protobuf.struct_pb2 import Value\n",
    "import json\n",
    "import numpy as np"
   ]
  },
  {
   "cell_type": "markdown",
   "id": "216f8e48-531b-45b3-ad29-b64557cab774",
   "metadata": {},
   "source": [
    "clients:"
   ]
  },
  {
   "cell_type": "code",
   "execution_count": 45,
   "id": "cbd2df68-d747-45e7-9448-ec9454508407",
   "metadata": {},
   "outputs": [],
   "source": [
    "aiplatform.init(project=PROJECT_ID, location=REGION)\n",
    "bigquery = bigquery.Client()"
   ]
  },
  {
   "cell_type": "markdown",
   "id": "7f01eff3-dd34-4842-b477-bd9d72314a8c",
   "metadata": {},
   "source": [
    "parameters:"
   ]
  },
  {
   "cell_type": "code",
   "execution_count": 46,
   "id": "a4ca5abe-d716-4376-b7e7-9a8b6f8d45e4",
   "metadata": {},
   "outputs": [],
   "source": [
    "TIMESTAMP = datetime.now().strftime(\"%Y%m%d%H%M%S\")\n",
    "BUCKET = PROJECT_ID\n",
    "URI = f\"gs://{BUCKET}/{DATANAME}/models/{NOTEBOOK}\"\n",
    "DIR = f\"temp/{NOTEBOOK}\""
   ]
  },
  {
   "cell_type": "code",
   "execution_count": 47,
   "id": "4b750a1d-5080-4136-a9de-0d345147a26b",
   "metadata": {},
   "outputs": [
    {
     "data": {
      "text/plain": [
       "'715288179162-compute@developer.gserviceaccount.com'"
      ]
     },
     "execution_count": 47,
     "metadata": {},
     "output_type": "execute_result"
    }
   ],
   "source": [
    "# Give service account roles/storage.objectAdmin permissions\n",
    "# Console > IMA > Select Account <projectnumber>-compute@developer.gserviceaccount.com > edit - give role\n",
    "SERVICE_ACCOUNT = !gcloud config list --format='value(core.account)' \n",
    "SERVICE_ACCOUNT = SERVICE_ACCOUNT[0]\n",
    "SERVICE_ACCOUNT"
   ]
  },
  {
   "cell_type": "markdown",
   "id": "81f1d92b-35ec-4925-8aa2-e63a0dd84267",
   "metadata": {},
   "source": [
    "environment:"
   ]
  },
  {
   "cell_type": "code",
   "execution_count": 48,
   "id": "91e41643-6611-41dc-9519-ac0b129457d6",
   "metadata": {},
   "outputs": [],
   "source": [
    "!rm -rf {DIR}\n",
    "!mkdir -p {DIR}"
   ]
  },
  {
   "cell_type": "markdown",
   "id": "b752b9d4-1c24-4bea-ab77-4cd88d7356b6",
   "metadata": {
    "tags": []
   },
   "source": [
    "---\n",
    "## Custom Components (KFP)"
   ]
  },
  {
   "cell_type": "markdown",
   "id": "45ebcab1-0670-4c28-9993-0d8d4bb7a78e",
   "metadata": {},
   "source": [
    "### Model Metrics\n",
    "- Get Predictions for Test data from BigQuery Model\n",
    "- Calculate [average precision for the precision-recall curve](https://scikit-learn.org/stable/modules/generated/sklearn.metrics.average_precision_score.html#sklearn.metrics.average_precision_score)"
   ]
  },
  {
   "cell_type": "code",
   "execution_count": 119,
   "id": "a8ff6d61-6e04-4a2a-92f0-cd1fc508acd3",
   "metadata": {},
   "outputs": [],
   "source": [
    "@dsl.component(\n",
    "    base_image = 'python:3.9',\n",
    "    packages_to_install = ['pandas','pyarrow','sklearn','google-cloud-bigquery']\n",
    ")\n",
    "def bqml_eval(\n",
    "    project: str,\n",
    "    var_target: str,\n",
    "    model: str,\n",
    "    dataname: str,\n",
    "    metrics: dsl.Output[dsl.Metrics],\n",
    "    metricsc: dsl.Output[dsl.ClassificationMetrics]\n",
    ") -> NamedTuple(\"model_eval\", [(\"metric\", float)]):\n",
    "\n",
    "    from collections import namedtuple\n",
    "    from sklearn.metrics import average_precision_score, confusion_matrix\n",
    "    from google.cloud import bigquery\n",
    "    bigquery = bigquery.Client(project = project)\n",
    "\n",
    "    query = f\"\"\"\n",
    "    SELECT {var_target}, predicted_{var_target}, prob, splits \n",
    "    FROM ML.PREDICT (MODEL `{project}.{dataname}.{model}`,(\n",
    "        SELECT *\n",
    "        FROM `{project}.{dataname}.{dataname}_prepped`\n",
    "        WHERE splits = 'TEST')\n",
    "      ), UNNEST(predicted_{var_target}_probs)\n",
    "    WHERE label=1\n",
    "    \"\"\"\n",
    "    pred = bigquery.query(query = query).to_dataframe()\n",
    "\n",
    "    auPRC = average_precision_score(pred[var_target], pred['prob'], average='micro')    \n",
    "    metrics.log_metric('auPRC', auPRC)\n",
    "    metricsc.log_confusion_matrix(['Not Fraud', 'Fraud'], confusion_matrix(pred[var_target], pred[f'predicted_{var_target}']).tolist())\n",
    "    \n",
    "    model_eval = namedtuple(\"model_eval\", [\"metric\"])\n",
    "    return model_eval(metric = float(auPRC))"
   ]
  },
  {
   "cell_type": "markdown",
   "id": "42d2dc53-92e1-477e-9a17-6418ca36ab0d",
   "metadata": {},
   "source": [
    "### BigQuery - Train DNN"
   ]
  },
  {
   "cell_type": "code",
   "execution_count": 120,
   "id": "0bd02b99-213d-454e-a372-eafaf14e56b6",
   "metadata": {},
   "outputs": [],
   "source": [
    "@dsl.component(\n",
    "    base_image = 'python:3.9',\n",
    "    packages_to_install = ['google-cloud-bigquery']\n",
    ")\n",
    "def bqml_dnn(\n",
    "    project: str,\n",
    "    var_target: str,\n",
    "    var_omit: str,\n",
    "    model: str,\n",
    "    dataname: str,\n",
    "    bqml_model: dsl.Output[dsl.Artifact]\n",
    ") -> NamedTuple(\"bqml_training\", [(\"query\", str)]):\n",
    "    \n",
    "    from collections import namedtuple\n",
    "    from google.cloud import bigquery\n",
    "    bigquery = bigquery.Client(project = project)\n",
    "    \n",
    "    query = f\"\"\"\n",
    "    CREATE OR REPLACE MODEL `{project}.{dataname}.{model}`\n",
    "    OPTIONS\n",
    "        (model_type = 'DNN_CLASSIFIER',\n",
    "            auto_class_weights = FALSE,\n",
    "            input_label_cols = ['{var_target}'],\n",
    "            data_split_col = 'custom_splits',\n",
    "            data_split_method = 'CUSTOM',\n",
    "            EARLY_STOP = FALSE,\n",
    "            OPTIMIZER = 'SGD',\n",
    "            HIDDEN_UNITS = [2],\n",
    "            LEARN_RATE = 0.001,\n",
    "            BATCH_SIZE = 10,\n",
    "            DROPOUT = 0.25,\n",
    "            ACTIVATION_FN = 'SIGMOID',\n",
    "            MAX_ITERATIONS = 10\n",
    "        ) AS\n",
    "    SELECT * EXCEPT({','.join(var_omit.split())}, splits),\n",
    "        CASE\n",
    "            WHEN splits = 'TRAIN' THEN FALSE\n",
    "            ELSE TRUE\n",
    "        END AS custom_splits\n",
    "    FROM `{project}.{dataname}.{dataname}_prepped`\n",
    "    WHERE splits != 'TEST'\n",
    "    \"\"\"\n",
    "    job = bigquery.query(query = query)\n",
    "    job.result()\n",
    "    bqml_model.uri = f\"bq://{project}.{dataname}.{model}\"\n",
    "    \n",
    "    result = namedtuple(\"bqml_training\", [\"query\"])\n",
    "                \n",
    "    return result(query = str(query))"
   ]
  },
  {
   "cell_type": "markdown",
   "id": "3f11d778-fea2-4bfd-a2d3-a896e4e4d1af",
   "metadata": {},
   "source": [
    "### Compare Models"
   ]
  },
  {
   "cell_type": "code",
   "execution_count": 135,
   "id": "e63e2358-f059-4106-be9e-a6ee453eec45",
   "metadata": {},
   "outputs": [],
   "source": [
    "@dsl.component\n",
    "def model_compare(\n",
    "    base_metric: float,\n",
    "    challenger_metric: float,\n",
    ") -> NamedTuple(\"Outputs\", [(\"replace\", str)]):\n",
    "    \n",
    "    from collections import namedtuple \n",
    "    \n",
    "    if base_metric < challenger_metric:\n",
    "        replace = 'true'\n",
    "    else:\n",
    "        replace = 'false'\n",
    "    \n",
    "    output = namedtuple(\"Outputs\", \"replace\")\n",
    "    \n",
    "    return output(replace=str(replace))"
   ]
  },
  {
   "cell_type": "markdown",
   "id": "d1bf22f1-8e7b-4697-916a-b02c9fb127c9",
   "metadata": {},
   "source": [
    "### Export BQML Model"
   ]
  },
  {
   "cell_type": "code",
   "execution_count": 153,
   "id": "b3ac3753-f7ee-437c-bcf6-63deed2a2109",
   "metadata": {},
   "outputs": [],
   "source": [
    "@dsl.component(\n",
    "    base_image = 'python:3.9',\n",
    "    packages_to_install = ['google-cloud-bigquery']\n",
    ")\n",
    "def bqml_export(\n",
    "    project: str,\n",
    "    export_location: str,\n",
    "    bqml_model: dsl.Input[dsl.Model],\n",
    "    tf_model: dsl.Output[dsl.Artifact],  \n",
    "):\n",
    "    \n",
    "    from google.cloud import bigquery\n",
    "    bigquery = bigquery.Client(project = project)\n",
    "    \n",
    "    bqml_model_name = bqml_model.uri.split(\"/\")[-1]\n",
    "    export = bigquery.query(query = f\"EXPORT MODEL `{bqml_model_name}` OPTIONS(URI = '{export_location}')\")\n",
    "    export.result()\n",
    "    \n",
    "    tf_model.uri = export_location"
   ]
  },
  {
   "cell_type": "markdown",
   "id": "d5bdb4a1-a1b7-4403-bc44-bce46b981c91",
   "metadata": {},
   "source": [
    "### Replace Model On Endpoint"
   ]
  },
  {
   "cell_type": "code",
   "execution_count": 123,
   "id": "2433281e-390d-4ab5-bcfa-c171a72f7b2d",
   "metadata": {},
   "outputs": [],
   "source": [
    "@dsl.component(\n",
    "    packages_to_install = ['google-cloud-aiplatform'],\n",
    "    base_image = 'python:3.9'\n",
    ")\n",
    "def endpoint_update(\n",
    "    project: str,\n",
    "    region: str,\n",
    "    newmodel: dsl.Input[dsl.Model],\n",
    "    display_name: str,\n",
    "    deploy_machine: str,\n",
    "    deploy_container: str,\n",
    "    label: str\n",
    "):\n",
    "    \n",
    "    from google.cloud import aiplatform\n",
    "    aiplatform.init(project = project, location = region)\n",
    "\n",
    "    # upload new model (03c)\n",
    "    model = aiplatform.Model.upload(\n",
    "        display_name = display_name,\n",
    "        serving_container_image_uri = deploy_container,\n",
    "        artifact_uri = newmodel.uri,\n",
    "        labels = {'notebook':f'{label}'}\n",
    "    )\n",
    "    \n",
    "    # find endpoint from notebook 03b\n",
    "    for e in aiplatform.Endpoint.list():\n",
    "        if e.display_name.startswith('03b'): endpoint = e\n",
    "    print(endpoint.display_name)\n",
    "\n",
    "    # list model(s) on 03b endpoint\n",
    "    models = endpoint.list_models()\n",
    "    if len(models) == 1:\n",
    "        oldmodel = models[0]\n",
    "    print(oldmodel)\n",
    "    \n",
    "    # deploy 03c model to endpoint with traffic_split = 100\n",
    "    endpoint.deploy(\n",
    "        model = model,\n",
    "        deployed_model_display_name = display_name,\n",
    "        traffic_percentage = 100,\n",
    "        machine_type = deploy_machine,\n",
    "        min_replica_count = 1,\n",
    "        max_replica_count = 1\n",
    "    )\n",
    "    \n",
    "    # undeploy 03b model\n",
    "    endpoint.undeploy(\n",
    "        deployed_model_id = oldmodel.id\n",
    "    )"
   ]
  },
  {
   "cell_type": "markdown",
   "id": "b9535c2f-0f05-4c15-89de-c6cf135f7dd3",
   "metadata": {},
   "source": [
    "---\n",
    "## Pipeline (KFP) Definition"
   ]
  },
  {
   "cell_type": "code",
   "execution_count": 154,
   "id": "8d0342ef-5792-4060-afbd-01ca1cf9ef91",
   "metadata": {},
   "outputs": [],
   "source": [
    "@kfp.dsl.pipeline(\n",
    "    name = f'kfp-{NOTEBOOK}-{DATANAME}-{TIMESTAMP}', \n",
    "    pipeline_root = URI+'/'+str(TIMESTAMP)+'/kfp/'\n",
    ")\n",
    "def pipeline(\n",
    "    project: str = PROJECT_ID,\n",
    "    region: str = REGION,\n",
    "    dataname: str = DATANAME,\n",
    "    display_name: str = f'{NOTEBOOK}_{DATANAME}_{TIMESTAMP}',\n",
    "    deploy_machine: str = DEPLOY_COMPUTE,\n",
    "    deploy_container: str = DEPLOY_IMAGE,\n",
    "    bq_source: str = f'bq://{PROJECT_ID}.{DATANAME}.{DATANAME}_prepped',\n",
    "    var_target: str = VAR_TARGET,\n",
    "    var_omit: str = VAR_OMIT,\n",
    "    uri: str = URI,\n",
    "    label: str = NOTEBOOK \n",
    "):\n",
    "        \n",
    "    # get AUC for current model\n",
    "    base_model_eval = bqml_eval(\n",
    "        project = project,\n",
    "        var_target = var_target,\n",
    "        model = f'{dataname}_lr',\n",
    "        dataname = dataname\n",
    "    )\n",
    "    \n",
    "    # train challenger model with BQML\n",
    "    challenger_model = bqml_dnn(\n",
    "        project = project,\n",
    "        var_target = var_target,\n",
    "        var_omit = var_omit,\n",
    "        model = f'{dataname}_dnn',\n",
    "        dataname = dataname,\n",
    "    )\n",
    "    \n",
    "    # get AUC for challenger model\n",
    "    challenger_model_eval = bqml_eval(\n",
    "        project = project,\n",
    "        var_target = var_target,\n",
    "        model = f'{dataname}_dnn',\n",
    "        dataname = dataname\n",
    "    )\n",
    "    challenger_model_eval.after(challenger_model)\n",
    "    \n",
    "    # compare models\n",
    "    compare = model_compare(\n",
    "        base_metric = base_model_eval.outputs[\"metric\"],\n",
    "        challenger_metric = challenger_model_eval.outputs[\"metric\"]\n",
    "    )\n",
    "    \n",
    "    # conditional deployment\n",
    "    with dsl.Condition(\n",
    "        compare.outputs[\"replace\"] == \"true\",\n",
    "        name = \"replace_model\"\n",
    "    ):\n",
    "        # export BQML model\n",
    "        export = bqml_export(\n",
    "            project = project,\n",
    "            export_location = uri,\n",
    "            bqml_model = challenger_model.outputs[\"bqml_model\"]\n",
    "        )\n",
    "        \n",
    "        # replace model on endpoint (03b)\n",
    "        replace = endpoint_update(\n",
    "            project = project,\n",
    "            region = region,\n",
    "            newmodel = export.outputs[\"tf_model\"],\n",
    "            display_name = display_name,\n",
    "            deploy_machine = deploy_machine,\n",
    "            deploy_container = deploy_container,\n",
    "            label = label\n",
    "        )"
   ]
  },
  {
   "cell_type": "markdown",
   "id": "b6bfa7eb-910f-47b8-b1d2-a2ab0ce552ce",
   "metadata": {},
   "source": [
    "---\n",
    "## Compile Pipeline"
   ]
  },
  {
   "cell_type": "code",
   "execution_count": 155,
   "id": "bf89c7db-130a-4bbf-a358-ca99b2bd4e61",
   "metadata": {},
   "outputs": [],
   "source": [
    "kfp.v2.compiler.Compiler().compile(\n",
    "    pipeline_func = pipeline,\n",
    "    package_path = f\"{DIR}/{NOTEBOOK}.json\"\n",
    ")"
   ]
  },
  {
   "cell_type": "markdown",
   "id": "79b1e6b7-b504-4317-95f8-bca787948dcb",
   "metadata": {},
   "source": [
    "Move compiled pipeline files to GCS Bucket"
   ]
  },
  {
   "cell_type": "code",
   "execution_count": 156,
   "id": "d316e8f9-3eb1-46df-81bc-a3cf6d458922",
   "metadata": {},
   "outputs": [
    {
     "name": "stdout",
     "output_type": "stream",
     "text": [
      "Copying file://temp/03c/03c.json [Content-Type=application/json]...\n",
      "/ [1 files][ 30.6 KiB/ 30.6 KiB]                                                \n",
      "Operation completed over 1 objects/30.6 KiB.                                     \n"
     ]
    }
   ],
   "source": [
    "!gsutil cp {DIR}/{NOTEBOOK}.json {URI}/{TIMESTAMP}/kfp/"
   ]
  },
  {
   "cell_type": "markdown",
   "id": "bf8d0797-3f30-41b4-82af-a82c33f26133",
   "metadata": {},
   "source": [
    "---\n",
    "## Create Vertex AI Pipeline Job"
   ]
  },
  {
   "cell_type": "code",
   "execution_count": 157,
   "id": "e38dd6b9-9297-402d-9856-cf3731ccaeb3",
   "metadata": {},
   "outputs": [],
   "source": [
    "pipeline = aiplatform.PipelineJob(\n",
    "    display_name = f'{NOTEBOOK}_{DATANAME}_{TIMESTAMP}',\n",
    "    template_path = f\"{URI}/{TIMESTAMP}/kfp/{NOTEBOOK}.json\",\n",
    "    pipeline_root = f\"{URI}/{TIMESTAMP}/kfp/\",\n",
    "    enable_caching = True,\n",
    "    labels = {'notebook':f'{NOTEBOOK}'}\n",
    ")"
   ]
  },
  {
   "cell_type": "code",
   "execution_count": 158,
   "id": "51c4118c-616f-4285-bb1d-928f954ad9c9",
   "metadata": {},
   "outputs": [
    {
     "name": "stdout",
     "output_type": "stream",
     "text": [
      "INFO:google.cloud.aiplatform.pipeline_jobs:Creating PipelineJob\n",
      "INFO:google.cloud.aiplatform.pipeline_jobs:PipelineJob created. Resource name: projects/715288179162/locations/us-central1/pipelineJobs/kfp-03c-fraud-20220217183723-20220217222516\n",
      "INFO:google.cloud.aiplatform.pipeline_jobs:To use this PipelineJob in another session:\n",
      "INFO:google.cloud.aiplatform.pipeline_jobs:pipeline_job = aiplatform.PipelineJob.get('projects/715288179162/locations/us-central1/pipelineJobs/kfp-03c-fraud-20220217183723-20220217222516')\n",
      "INFO:google.cloud.aiplatform.pipeline_jobs:View Pipeline Job:\n",
      "https://console.cloud.google.com/vertex-ai/locations/us-central1/pipelines/runs/kfp-03c-fraud-20220217183723-20220217222516?project=715288179162\n",
      "INFO:google.cloud.aiplatform.pipeline_jobs:PipelineJob projects/715288179162/locations/us-central1/pipelineJobs/kfp-03c-fraud-20220217183723-20220217222516 current state:\n",
      "PipelineState.PIPELINE_STATE_RUNNING\n",
      "INFO:google.cloud.aiplatform.pipeline_jobs:PipelineJob projects/715288179162/locations/us-central1/pipelineJobs/kfp-03c-fraud-20220217183723-20220217222516 current state:\n",
      "PipelineState.PIPELINE_STATE_RUNNING\n",
      "INFO:google.cloud.aiplatform.pipeline_jobs:PipelineJob projects/715288179162/locations/us-central1/pipelineJobs/kfp-03c-fraud-20220217183723-20220217222516 current state:\n",
      "PipelineState.PIPELINE_STATE_RUNNING\n",
      "INFO:google.cloud.aiplatform.pipeline_jobs:PipelineJob projects/715288179162/locations/us-central1/pipelineJobs/kfp-03c-fraud-20220217183723-20220217222516 current state:\n",
      "PipelineState.PIPELINE_STATE_RUNNING\n",
      "INFO:google.cloud.aiplatform.pipeline_jobs:PipelineJob projects/715288179162/locations/us-central1/pipelineJobs/kfp-03c-fraud-20220217183723-20220217222516 current state:\n",
      "PipelineState.PIPELINE_STATE_RUNNING\n",
      "INFO:google.cloud.aiplatform.pipeline_jobs:PipelineJob projects/715288179162/locations/us-central1/pipelineJobs/kfp-03c-fraud-20220217183723-20220217222516 current state:\n",
      "PipelineState.PIPELINE_STATE_RUNNING\n",
      "INFO:google.cloud.aiplatform.pipeline_jobs:PipelineJob run completed. Resource name: projects/715288179162/locations/us-central1/pipelineJobs/kfp-03c-fraud-20220217183723-20220217222516\n"
     ]
    }
   ],
   "source": [
    "response = pipeline.run(service_account = SERVICE_ACCOUNT)"
   ]
  },
  {
   "cell_type": "code",
   "execution_count": 174,
   "id": "002c0d7f-8bdd-4380-828b-cae9dc4c0b26",
   "metadata": {},
   "outputs": [
    {
     "data": {
      "text/html": [
       "<div>\n",
       "<style scoped>\n",
       "    .dataframe tbody tr th:only-of-type {\n",
       "        vertical-align: middle;\n",
       "    }\n",
       "\n",
       "    .dataframe tbody tr th {\n",
       "        vertical-align: top;\n",
       "    }\n",
       "\n",
       "    .dataframe thead th {\n",
       "        text-align: right;\n",
       "    }\n",
       "</style>\n",
       "<table border=\"1\" class=\"dataframe\">\n",
       "  <thead>\n",
       "    <tr style=\"text-align: right;\">\n",
       "      <th></th>\n",
       "      <th>pipeline_name</th>\n",
       "      <th>run_name</th>\n",
       "      <th>param.input:var_omit</th>\n",
       "      <th>param.input:deploy_machine</th>\n",
       "      <th>param.input:dataname</th>\n",
       "      <th>param.input:region</th>\n",
       "      <th>param.input:display_name</th>\n",
       "      <th>param.input:project</th>\n",
       "      <th>param.input:deploy_container</th>\n",
       "      <th>param.input:label</th>\n",
       "      <th>param.input:uri</th>\n",
       "      <th>param.input:var_target</th>\n",
       "      <th>param.input:bq_source</th>\n",
       "      <th>metric.auPRC</th>\n",
       "      <th>metric.confusionMatrix</th>\n",
       "    </tr>\n",
       "  </thead>\n",
       "  <tbody>\n",
       "    <tr>\n",
       "      <th>0</th>\n",
       "      <td>kfp-03c-fraud-20220217183723</td>\n",
       "      <td>kfp-03c-fraud-20220217183723-20220217222516</td>\n",
       "      <td>transaction_id</td>\n",
       "      <td>n1-standard-4</td>\n",
       "      <td>fraud</td>\n",
       "      <td>us-central1</td>\n",
       "      <td>03c_fraud_20220217183723</td>\n",
       "      <td>statmike-demo3</td>\n",
       "      <td>us-docker.pkg.dev/vertex-ai/prediction/tf2-cpu...</td>\n",
       "      <td>03c</td>\n",
       "      <td>gs://statmike-demo3/fraud/models/03c</td>\n",
       "      <td>Class</td>\n",
       "      <td>bq://statmike-demo3.fraud.fraud_prepped</td>\n",
       "      <td>0.681381</td>\n",
       "      <td>{'rows': [{'row': [28370.0, 0.0]}, {'row': [53...</td>\n",
       "    </tr>\n",
       "    <tr>\n",
       "      <th>1</th>\n",
       "      <td>kfp-03c-fraud-20220217183723</td>\n",
       "      <td>kfp-03c-fraud-20220217183723-20220217205016</td>\n",
       "      <td>transaction_id</td>\n",
       "      <td>n1-standard-4</td>\n",
       "      <td>fraud</td>\n",
       "      <td>us-central1</td>\n",
       "      <td>03c_fraud_20220217183723</td>\n",
       "      <td>statmike-demo3</td>\n",
       "      <td>us-docker.pkg.dev/vertex-ai/prediction/tf2-cpu...</td>\n",
       "      <td>03c</td>\n",
       "      <td>gs://statmike-demo3/fraud/models/03c</td>\n",
       "      <td>Class</td>\n",
       "      <td>bq://statmike-demo3.fraud.fraud_prepped</td>\n",
       "      <td>0.681381</td>\n",
       "      <td>{'rows': [{'row': [28370.0, 0.0]}, {'row': [53...</td>\n",
       "    </tr>\n",
       "    <tr>\n",
       "      <th>2</th>\n",
       "      <td>kfp-03c-fraud-20220217183723</td>\n",
       "      <td>kfp-03c-fraud-20220217183723-20220217204556</td>\n",
       "      <td>transaction_id</td>\n",
       "      <td>n1-standard-4</td>\n",
       "      <td>fraud</td>\n",
       "      <td>us-central1</td>\n",
       "      <td>03c_fraud_20220217183723</td>\n",
       "      <td>statmike-demo3</td>\n",
       "      <td>us-docker.pkg.dev/vertex-ai/prediction/tf2-cpu...</td>\n",
       "      <td>03c</td>\n",
       "      <td>gs://statmike-demo3/fraud/models/03c</td>\n",
       "      <td>Class</td>\n",
       "      <td>bq://statmike-demo3.fraud.fraud_prepped</td>\n",
       "      <td>0.681381</td>\n",
       "      <td>{'annotationSpecs': [{'displayName': 'Not Frau...</td>\n",
       "    </tr>\n",
       "    <tr>\n",
       "      <th>3</th>\n",
       "      <td>kfp-03c-fraud-20220217183723</td>\n",
       "      <td>kfp-03c-fraud-20220217183723-20220217204121</td>\n",
       "      <td>transaction_id</td>\n",
       "      <td>n1-standard-4</td>\n",
       "      <td>fraud</td>\n",
       "      <td>us-central1</td>\n",
       "      <td>03c_fraud_20220217183723</td>\n",
       "      <td>statmike-demo3</td>\n",
       "      <td>us-docker.pkg.dev/vertex-ai/prediction/tf2-cpu...</td>\n",
       "      <td>03c</td>\n",
       "      <td>gs://statmike-demo3/fraud/models/03c</td>\n",
       "      <td>Class</td>\n",
       "      <td>bq://statmike-demo3.fraud.fraud_prepped</td>\n",
       "      <td>0.696497</td>\n",
       "      <td>{'annotationSpecs': [{'displayName': 'Not Frau...</td>\n",
       "    </tr>\n",
       "    <tr>\n",
       "      <th>4</th>\n",
       "      <td>kfp-03c-fraud-20220217183723</td>\n",
       "      <td>kfp-03c-fraud-20220217183723-20220217203739</td>\n",
       "      <td>transaction_id</td>\n",
       "      <td>n1-standard-4</td>\n",
       "      <td>fraud</td>\n",
       "      <td>us-central1</td>\n",
       "      <td>03c_fraud_20220217183723</td>\n",
       "      <td>statmike-demo3</td>\n",
       "      <td>us-docker.pkg.dev/vertex-ai/prediction/tf2-cpu...</td>\n",
       "      <td>03c</td>\n",
       "      <td>gs://statmike-demo3/fraud/models/03c</td>\n",
       "      <td>Class</td>\n",
       "      <td>bq://statmike-demo3.fraud.fraud_prepped</td>\n",
       "      <td>0.681381</td>\n",
       "      <td>{'annotationSpecs': [{'displayName': 'Not Frau...</td>\n",
       "    </tr>\n",
       "    <tr>\n",
       "      <th>5</th>\n",
       "      <td>kfp-03c-fraud-20220217183723</td>\n",
       "      <td>kfp-03c-fraud-20220217183723-20220217195716</td>\n",
       "      <td>transaction_id</td>\n",
       "      <td>n1-standard-4</td>\n",
       "      <td>fraud</td>\n",
       "      <td>us-central1</td>\n",
       "      <td>03c_fraud_20220217183723</td>\n",
       "      <td>statmike-demo3</td>\n",
       "      <td>us-docker.pkg.dev/vertex-ai/prediction/tf2-cpu...</td>\n",
       "      <td>03c</td>\n",
       "      <td>gs://statmike-demo3/fraud/models/03c</td>\n",
       "      <td>Class</td>\n",
       "      <td>bq://statmike-demo3.fraud.fraud_prepped</td>\n",
       "      <td>0.681381</td>\n",
       "      <td>{'annotationSpecs': [{'displayName': 'Not Frau...</td>\n",
       "    </tr>\n",
       "    <tr>\n",
       "      <th>6</th>\n",
       "      <td>kfp-03c-fraud-20220217183723</td>\n",
       "      <td>kfp-03c-fraud-20220217183723-20220217193225</td>\n",
       "      <td>transaction_id</td>\n",
       "      <td>n1-standard-4</td>\n",
       "      <td>fraud</td>\n",
       "      <td>us-central1</td>\n",
       "      <td>03c_fraud_20220217183723</td>\n",
       "      <td>statmike-demo3</td>\n",
       "      <td>us-docker.pkg.dev/vertex-ai/prediction/tf2-cpu...</td>\n",
       "      <td>03c</td>\n",
       "      <td>gs://statmike-demo3/fraud/models/03c</td>\n",
       "      <td>Class</td>\n",
       "      <td>bq://statmike-demo3.fraud.fraud_prepped</td>\n",
       "      <td>NaN</td>\n",
       "      <td>NaN</td>\n",
       "    </tr>\n",
       "    <tr>\n",
       "      <th>7</th>\n",
       "      <td>kfp-03c-fraud-20220217183723</td>\n",
       "      <td>kfp-03c-fraud-20220217183723-20220217192700</td>\n",
       "      <td>transaction_id</td>\n",
       "      <td>n1-standard-4</td>\n",
       "      <td>fraud</td>\n",
       "      <td>us-central1</td>\n",
       "      <td>03c_fraud_20220217183723</td>\n",
       "      <td>statmike-demo3</td>\n",
       "      <td>us-docker.pkg.dev/vertex-ai/prediction/tf2-cpu...</td>\n",
       "      <td>03c</td>\n",
       "      <td>gs://statmike-demo3/fraud/models/03c</td>\n",
       "      <td>Class</td>\n",
       "      <td>bq://statmike-demo3.fraud.fraud_prepped</td>\n",
       "      <td>NaN</td>\n",
       "      <td>NaN</td>\n",
       "    </tr>\n",
       "    <tr>\n",
       "      <th>8</th>\n",
       "      <td>kfp-03c-fraud-20220217183723</td>\n",
       "      <td>kfp-03c-fraud-20220217183723-20220217185420</td>\n",
       "      <td>transaction_id</td>\n",
       "      <td>n1-standard-4</td>\n",
       "      <td>fraud</td>\n",
       "      <td>us-central1</td>\n",
       "      <td>03c_fraud_20220217183723</td>\n",
       "      <td>statmike-demo3</td>\n",
       "      <td>us-docker.pkg.dev/vertex-ai/prediction/tf2-cpu...</td>\n",
       "      <td>03c</td>\n",
       "      <td>gs://statmike-demo3/fraud/models/03c</td>\n",
       "      <td>Class</td>\n",
       "      <td>bq://statmike-demo3.fraud.fraud_prepped</td>\n",
       "      <td>NaN</td>\n",
       "      <td>NaN</td>\n",
       "    </tr>\n",
       "    <tr>\n",
       "      <th>9</th>\n",
       "      <td>kfp-03c-fraud-20220217183723</td>\n",
       "      <td>kfp-03c-fraud-20220217183723-20220217183944</td>\n",
       "      <td>transaction_id</td>\n",
       "      <td>n1-standard-4</td>\n",
       "      <td>fraud</td>\n",
       "      <td>us-central1</td>\n",
       "      <td>03c_fraud_20220217183723</td>\n",
       "      <td>statmike-demo3</td>\n",
       "      <td>us-docker.pkg.dev/vertex-ai/prediction/tf2-cpu...</td>\n",
       "      <td>03c</td>\n",
       "      <td>gs://statmike-demo3/fraud/models/03c</td>\n",
       "      <td>Class</td>\n",
       "      <td>bq://statmike-demo3.fraud.fraud_prepped</td>\n",
       "      <td>NaN</td>\n",
       "      <td>NaN</td>\n",
       "    </tr>\n",
       "  </tbody>\n",
       "</table>\n",
       "</div>"
      ],
      "text/plain": [
       "                  pipeline_name                                     run_name  \\\n",
       "0  kfp-03c-fraud-20220217183723  kfp-03c-fraud-20220217183723-20220217222516   \n",
       "1  kfp-03c-fraud-20220217183723  kfp-03c-fraud-20220217183723-20220217205016   \n",
       "2  kfp-03c-fraud-20220217183723  kfp-03c-fraud-20220217183723-20220217204556   \n",
       "3  kfp-03c-fraud-20220217183723  kfp-03c-fraud-20220217183723-20220217204121   \n",
       "4  kfp-03c-fraud-20220217183723  kfp-03c-fraud-20220217183723-20220217203739   \n",
       "5  kfp-03c-fraud-20220217183723  kfp-03c-fraud-20220217183723-20220217195716   \n",
       "6  kfp-03c-fraud-20220217183723  kfp-03c-fraud-20220217183723-20220217193225   \n",
       "7  kfp-03c-fraud-20220217183723  kfp-03c-fraud-20220217183723-20220217192700   \n",
       "8  kfp-03c-fraud-20220217183723  kfp-03c-fraud-20220217183723-20220217185420   \n",
       "9  kfp-03c-fraud-20220217183723  kfp-03c-fraud-20220217183723-20220217183944   \n",
       "\n",
       "  param.input:var_omit param.input:deploy_machine param.input:dataname  \\\n",
       "0       transaction_id              n1-standard-4                fraud   \n",
       "1       transaction_id              n1-standard-4                fraud   \n",
       "2       transaction_id              n1-standard-4                fraud   \n",
       "3       transaction_id              n1-standard-4                fraud   \n",
       "4       transaction_id              n1-standard-4                fraud   \n",
       "5       transaction_id              n1-standard-4                fraud   \n",
       "6       transaction_id              n1-standard-4                fraud   \n",
       "7       transaction_id              n1-standard-4                fraud   \n",
       "8       transaction_id              n1-standard-4                fraud   \n",
       "9       transaction_id              n1-standard-4                fraud   \n",
       "\n",
       "  param.input:region  param.input:display_name param.input:project  \\\n",
       "0        us-central1  03c_fraud_20220217183723      statmike-demo3   \n",
       "1        us-central1  03c_fraud_20220217183723      statmike-demo3   \n",
       "2        us-central1  03c_fraud_20220217183723      statmike-demo3   \n",
       "3        us-central1  03c_fraud_20220217183723      statmike-demo3   \n",
       "4        us-central1  03c_fraud_20220217183723      statmike-demo3   \n",
       "5        us-central1  03c_fraud_20220217183723      statmike-demo3   \n",
       "6        us-central1  03c_fraud_20220217183723      statmike-demo3   \n",
       "7        us-central1  03c_fraud_20220217183723      statmike-demo3   \n",
       "8        us-central1  03c_fraud_20220217183723      statmike-demo3   \n",
       "9        us-central1  03c_fraud_20220217183723      statmike-demo3   \n",
       "\n",
       "                        param.input:deploy_container param.input:label  \\\n",
       "0  us-docker.pkg.dev/vertex-ai/prediction/tf2-cpu...               03c   \n",
       "1  us-docker.pkg.dev/vertex-ai/prediction/tf2-cpu...               03c   \n",
       "2  us-docker.pkg.dev/vertex-ai/prediction/tf2-cpu...               03c   \n",
       "3  us-docker.pkg.dev/vertex-ai/prediction/tf2-cpu...               03c   \n",
       "4  us-docker.pkg.dev/vertex-ai/prediction/tf2-cpu...               03c   \n",
       "5  us-docker.pkg.dev/vertex-ai/prediction/tf2-cpu...               03c   \n",
       "6  us-docker.pkg.dev/vertex-ai/prediction/tf2-cpu...               03c   \n",
       "7  us-docker.pkg.dev/vertex-ai/prediction/tf2-cpu...               03c   \n",
       "8  us-docker.pkg.dev/vertex-ai/prediction/tf2-cpu...               03c   \n",
       "9  us-docker.pkg.dev/vertex-ai/prediction/tf2-cpu...               03c   \n",
       "\n",
       "                        param.input:uri param.input:var_target  \\\n",
       "0  gs://statmike-demo3/fraud/models/03c                  Class   \n",
       "1  gs://statmike-demo3/fraud/models/03c                  Class   \n",
       "2  gs://statmike-demo3/fraud/models/03c                  Class   \n",
       "3  gs://statmike-demo3/fraud/models/03c                  Class   \n",
       "4  gs://statmike-demo3/fraud/models/03c                  Class   \n",
       "5  gs://statmike-demo3/fraud/models/03c                  Class   \n",
       "6  gs://statmike-demo3/fraud/models/03c                  Class   \n",
       "7  gs://statmike-demo3/fraud/models/03c                  Class   \n",
       "8  gs://statmike-demo3/fraud/models/03c                  Class   \n",
       "9  gs://statmike-demo3/fraud/models/03c                  Class   \n",
       "\n",
       "                     param.input:bq_source  metric.auPRC  \\\n",
       "0  bq://statmike-demo3.fraud.fraud_prepped      0.681381   \n",
       "1  bq://statmike-demo3.fraud.fraud_prepped      0.681381   \n",
       "2  bq://statmike-demo3.fraud.fraud_prepped      0.681381   \n",
       "3  bq://statmike-demo3.fraud.fraud_prepped      0.696497   \n",
       "4  bq://statmike-demo3.fraud.fraud_prepped      0.681381   \n",
       "5  bq://statmike-demo3.fraud.fraud_prepped      0.681381   \n",
       "6  bq://statmike-demo3.fraud.fraud_prepped           NaN   \n",
       "7  bq://statmike-demo3.fraud.fraud_prepped           NaN   \n",
       "8  bq://statmike-demo3.fraud.fraud_prepped           NaN   \n",
       "9  bq://statmike-demo3.fraud.fraud_prepped           NaN   \n",
       "\n",
       "                              metric.confusionMatrix  \n",
       "0  {'rows': [{'row': [28370.0, 0.0]}, {'row': [53...  \n",
       "1  {'rows': [{'row': [28370.0, 0.0]}, {'row': [53...  \n",
       "2  {'annotationSpecs': [{'displayName': 'Not Frau...  \n",
       "3  {'annotationSpecs': [{'displayName': 'Not Frau...  \n",
       "4  {'annotationSpecs': [{'displayName': 'Not Frau...  \n",
       "5  {'annotationSpecs': [{'displayName': 'Not Frau...  \n",
       "6                                                NaN  \n",
       "7                                                NaN  \n",
       "8                                                NaN  \n",
       "9                                                NaN  "
      ]
     },
     "execution_count": 174,
     "metadata": {},
     "output_type": "execute_result"
    }
   ],
   "source": [
    "aiplatform.get_pipeline_df(pipeline = f'kfp-{NOTEBOOK}-{DATANAME}-{TIMESTAMP}')"
   ]
  },
  {
   "cell_type": "markdown",
   "id": "c33e69dc-2724-400a-8bb1-b4c349441dde",
   "metadata": {},
   "source": [
    "## Review Pipeline Run\n",
    "\n",
    "<img src=\"architectures/notebooks/03c_screenshots/kfp_pipeline.png\">"
   ]
  },
  {
   "cell_type": "markdown",
   "id": "ea11a7b6-4f0d-41b7-8225-5ffbb2327368",
   "metadata": {},
   "source": [
    "---\n",
    "## Prediction"
   ]
  },
  {
   "cell_type": "markdown",
   "id": "fa6e0959-98a1-459f-8a5d-4f601e217b6f",
   "metadata": {},
   "source": [
    "### Prepare a record for prediction: instance and parameters lists"
   ]
  },
  {
   "cell_type": "code",
   "execution_count": 159,
   "id": "5bda8542",
   "metadata": {},
   "outputs": [],
   "source": [
    "pred = bigquery.query(query = f\"SELECT * FROM {DATANAME}.{DATANAME}_prepped WHERE splits='TEST' LIMIT 10\").to_dataframe()"
   ]
  },
  {
   "cell_type": "code",
   "execution_count": 160,
   "id": "bb5a77b7",
   "metadata": {},
   "outputs": [
    {
     "data": {
      "text/html": [
       "<div>\n",
       "<style scoped>\n",
       "    .dataframe tbody tr th:only-of-type {\n",
       "        vertical-align: middle;\n",
       "    }\n",
       "\n",
       "    .dataframe tbody tr th {\n",
       "        vertical-align: top;\n",
       "    }\n",
       "\n",
       "    .dataframe thead th {\n",
       "        text-align: right;\n",
       "    }\n",
       "</style>\n",
       "<table border=\"1\" class=\"dataframe\">\n",
       "  <thead>\n",
       "    <tr style=\"text-align: right;\">\n",
       "      <th></th>\n",
       "      <th>Time</th>\n",
       "      <th>V1</th>\n",
       "      <th>V2</th>\n",
       "      <th>V3</th>\n",
       "      <th>V4</th>\n",
       "      <th>V5</th>\n",
       "      <th>V6</th>\n",
       "      <th>V7</th>\n",
       "      <th>V8</th>\n",
       "      <th>V9</th>\n",
       "      <th>...</th>\n",
       "      <th>V23</th>\n",
       "      <th>V24</th>\n",
       "      <th>V25</th>\n",
       "      <th>V26</th>\n",
       "      <th>V27</th>\n",
       "      <th>V28</th>\n",
       "      <th>Amount</th>\n",
       "      <th>Class</th>\n",
       "      <th>transaction_id</th>\n",
       "      <th>splits</th>\n",
       "    </tr>\n",
       "  </thead>\n",
       "  <tbody>\n",
       "    <tr>\n",
       "      <th>0</th>\n",
       "      <td>7148</td>\n",
       "      <td>1.156386</td>\n",
       "      <td>0.193513</td>\n",
       "      <td>0.242220</td>\n",
       "      <td>0.660729</td>\n",
       "      <td>0.236144</td>\n",
       "      <td>0.311471</td>\n",
       "      <td>-0.088420</td>\n",
       "      <td>0.057844</td>\n",
       "      <td>1.123405</td>\n",
       "      <td>...</td>\n",
       "      <td>-0.051662</td>\n",
       "      <td>-0.262183</td>\n",
       "      <td>0.477870</td>\n",
       "      <td>0.556403</td>\n",
       "      <td>-0.046953</td>\n",
       "      <td>-0.021878</td>\n",
       "      <td>0.0</td>\n",
       "      <td>0</td>\n",
       "      <td>0eddc3ef-a61b-4fba-a3ab-0ed9a726dcf0</td>\n",
       "      <td>TEST</td>\n",
       "    </tr>\n",
       "    <tr>\n",
       "      <th>1</th>\n",
       "      <td>76311</td>\n",
       "      <td>-0.186529</td>\n",
       "      <td>0.545755</td>\n",
       "      <td>2.432618</td>\n",
       "      <td>3.266129</td>\n",
       "      <td>-0.784549</td>\n",
       "      <td>3.167033</td>\n",
       "      <td>-2.460489</td>\n",
       "      <td>-1.830983</td>\n",
       "      <td>0.389492</td>\n",
       "      <td>...</td>\n",
       "      <td>-0.400380</td>\n",
       "      <td>-1.265280</td>\n",
       "      <td>1.231000</td>\n",
       "      <td>0.749402</td>\n",
       "      <td>0.147862</td>\n",
       "      <td>0.187856</td>\n",
       "      <td>0.0</td>\n",
       "      <td>0</td>\n",
       "      <td>b1111e03-a559-4eb4-ab32-e3aea0072ef7</td>\n",
       "      <td>TEST</td>\n",
       "    </tr>\n",
       "    <tr>\n",
       "      <th>2</th>\n",
       "      <td>125139</td>\n",
       "      <td>1.879049</td>\n",
       "      <td>0.212473</td>\n",
       "      <td>-0.085529</td>\n",
       "      <td>3.554091</td>\n",
       "      <td>0.205505</td>\n",
       "      <td>1.188395</td>\n",
       "      <td>-0.672662</td>\n",
       "      <td>0.375249</td>\n",
       "      <td>-0.494351</td>\n",
       "      <td>...</td>\n",
       "      <td>0.131433</td>\n",
       "      <td>0.256023</td>\n",
       "      <td>-0.135450</td>\n",
       "      <td>0.048878</td>\n",
       "      <td>0.003082</td>\n",
       "      <td>-0.042219</td>\n",
       "      <td>0.0</td>\n",
       "      <td>0</td>\n",
       "      <td>0a0f4b69-01ee-436e-ae52-02237cd6433e</td>\n",
       "      <td>TEST</td>\n",
       "    </tr>\n",
       "    <tr>\n",
       "      <th>3</th>\n",
       "      <td>51632</td>\n",
       "      <td>1.264050</td>\n",
       "      <td>0.182193</td>\n",
       "      <td>0.020910</td>\n",
       "      <td>0.478060</td>\n",
       "      <td>-0.037823</td>\n",
       "      <td>-0.490973</td>\n",
       "      <td>0.166690</td>\n",
       "      <td>-0.130607</td>\n",
       "      <td>-0.157200</td>\n",
       "      <td>...</td>\n",
       "      <td>-0.167644</td>\n",
       "      <td>0.075563</td>\n",
       "      <td>0.698539</td>\n",
       "      <td>0.556361</td>\n",
       "      <td>-0.052595</td>\n",
       "      <td>-0.011799</td>\n",
       "      <td>0.0</td>\n",
       "      <td>0</td>\n",
       "      <td>ed678d6e-8dea-4d45-92b7-74e7eba22402</td>\n",
       "      <td>TEST</td>\n",
       "    </tr>\n",
       "  </tbody>\n",
       "</table>\n",
       "<p>4 rows × 33 columns</p>\n",
       "</div>"
      ],
      "text/plain": [
       "     Time        V1        V2        V3        V4        V5        V6  \\\n",
       "0    7148  1.156386  0.193513  0.242220  0.660729  0.236144  0.311471   \n",
       "1   76311 -0.186529  0.545755  2.432618  3.266129 -0.784549  3.167033   \n",
       "2  125139  1.879049  0.212473 -0.085529  3.554091  0.205505  1.188395   \n",
       "3   51632  1.264050  0.182193  0.020910  0.478060 -0.037823 -0.490973   \n",
       "\n",
       "         V7        V8        V9  ...       V23       V24       V25       V26  \\\n",
       "0 -0.088420  0.057844  1.123405  ... -0.051662 -0.262183  0.477870  0.556403   \n",
       "1 -2.460489 -1.830983  0.389492  ... -0.400380 -1.265280  1.231000  0.749402   \n",
       "2 -0.672662  0.375249 -0.494351  ...  0.131433  0.256023 -0.135450  0.048878   \n",
       "3  0.166690 -0.130607 -0.157200  ... -0.167644  0.075563  0.698539  0.556361   \n",
       "\n",
       "        V27       V28  Amount  Class                        transaction_id  \\\n",
       "0 -0.046953 -0.021878     0.0      0  0eddc3ef-a61b-4fba-a3ab-0ed9a726dcf0   \n",
       "1  0.147862  0.187856     0.0      0  b1111e03-a559-4eb4-ab32-e3aea0072ef7   \n",
       "2  0.003082 -0.042219     0.0      0  0a0f4b69-01ee-436e-ae52-02237cd6433e   \n",
       "3 -0.052595 -0.011799     0.0      0  ed678d6e-8dea-4d45-92b7-74e7eba22402   \n",
       "\n",
       "   splits  \n",
       "0    TEST  \n",
       "1    TEST  \n",
       "2    TEST  \n",
       "3    TEST  \n",
       "\n",
       "[4 rows x 33 columns]"
      ]
     },
     "execution_count": 160,
     "metadata": {},
     "output_type": "execute_result"
    }
   ],
   "source": [
    "pred.head(4)"
   ]
  },
  {
   "cell_type": "code",
   "execution_count": 161,
   "id": "4c32ed6b",
   "metadata": {},
   "outputs": [],
   "source": [
    "newob = pred[pred.columns[~pred.columns.isin(VAR_OMIT.split()+[VAR_TARGET, 'splits'])]].to_dict(orient='records')[0]\n",
    "#newob"
   ]
  },
  {
   "cell_type": "markdown",
   "id": "7b187e72-d73c-4076-ab57-fc8df77ad187",
   "metadata": {},
   "source": [
    "Need to understand the format of variables that the predictions expect.  AutoML may convert the type of some variables. The following cells retrieve the model from the endpoint and its schemata:"
   ]
  },
  {
   "cell_type": "code",
   "execution_count": 162,
   "id": "4c5bddb6",
   "metadata": {},
   "outputs": [],
   "source": [
    "newob['Time'] = str(newob['Time'])"
   ]
  },
  {
   "cell_type": "code",
   "execution_count": 163,
   "id": "d438383e",
   "metadata": {},
   "outputs": [],
   "source": [
    "instances = [json_format.ParseDict(newob, Value())]\n",
    "parameters = json_format.ParseDict({}, Value())"
   ]
  },
  {
   "cell_type": "markdown",
   "id": "01139225-025d-444f-9bf8-2af525730732",
   "metadata": {},
   "source": [
    "### Get Predictions: Python Client"
   ]
  },
  {
   "cell_type": "code",
   "execution_count": 169,
   "id": "279cf479",
   "metadata": {},
   "outputs": [
    {
     "name": "stdout",
     "output_type": "stream",
     "text": [
      "03b_fraud_20220107180801\n"
     ]
    }
   ],
   "source": [
    "for e in aiplatform.Endpoint.list():\n",
    "    if e.display_name.startswith('03b'): endpoint = e\n",
    "print(endpoint.display_name)"
   ]
  },
  {
   "cell_type": "code",
   "execution_count": null,
   "id": "c7c298d5",
   "metadata": {},
   "outputs": [],
   "source": [
    "prediction = endpoint.predict(instances=instances, parameters=parameters)\n",
    "prediction"
   ]
  },
  {
   "cell_type": "code",
   "execution_count": null,
   "id": "1323d595",
   "metadata": {},
   "outputs": [],
   "source": [
    "prediction.predictions[0]['classes'][np.argmax(prediction.predictions[0]['scores'])]"
   ]
  },
  {
   "cell_type": "markdown",
   "id": "ef471864-8a88-43b7-b9af-3215ac460ef9",
   "metadata": {},
   "source": [
    "### Get Predictions: REST"
   ]
  },
  {
   "cell_type": "code",
   "execution_count": 172,
   "id": "f6b3a5b9",
   "metadata": {},
   "outputs": [],
   "source": [
    "with open(f'{DIR}/request.json','w') as file:\n",
    "    file.write(json.dumps({\"instances\": [newob]}))"
   ]
  },
  {
   "cell_type": "code",
   "execution_count": 173,
   "id": "6e7b1b91",
   "metadata": {},
   "outputs": [
    {
     "name": "stdout",
     "output_type": "stream",
     "text": [
      "{\n",
      "  \"error\": {\n",
      "    \"code\": 400,\n",
      "    \"message\": \"{\\n    \\\"error\\\": \\\"Serving signature name: \\\\\\\"serving_default\\\\\\\" not found in signature def\\\"\\n}\",\n",
      "    \"status\": \"INVALID_ARGUMENT\"\n",
      "  }\n",
      "}\n"
     ]
    }
   ],
   "source": [
    "!curl -X POST \\\n",
    "-H \"Authorization: Bearer \"$(gcloud auth application-default print-access-token) \\\n",
    "-H \"Content-Type: application/json; charset=utf-8\" \\\n",
    "-d @{DIR}/request.json \\\n",
    "https://{REGION}-aiplatform.googleapis.com/v1/{endpoint.resource_name}:predict"
   ]
  },
  {
   "cell_type": "markdown",
   "id": "3752beb8-b4e7-45c8-8d2b-b36caace61e3",
   "metadata": {},
   "source": [
    "### Get Predictions: gcloud (CLI)"
   ]
  },
  {
   "cell_type": "code",
   "execution_count": 69,
   "id": "d3523017",
   "metadata": {},
   "outputs": [
    {
     "name": "stdout",
     "output_type": "stream",
     "text": [
      "Using endpoint [https://us-central1-prediction-aiplatform.googleapis.com/]\n",
      "[{'classes': ['0', '1'], 'scores': [0.9791908264160156, 0.02080914564430714]}]\n"
     ]
    }
   ],
   "source": [
    "!gcloud beta ai endpoints predict {endpoint.name.rsplit('/',1)[-1]} --region={REGION} --json-request={DIR}/request.json"
   ]
  },
  {
   "cell_type": "markdown",
   "id": "24191d22-46dd-4145-bbb9-ec4a6784a40a",
   "metadata": {},
   "source": [
    "---\n",
    "## Remove Resources\n",
    "see notebook \"99 - Cleanup\""
   ]
  },
  {
   "cell_type": "code",
   "execution_count": null,
   "id": "dc96ca1c-8419-41e5-a69e-f7e8d14d55bb",
   "metadata": {},
   "outputs": [],
   "source": []
  }
 ],
 "metadata": {
  "environment": {
   "kernel": "python3",
   "name": "tf2-gpu.2-3.m87",
   "type": "gcloud",
   "uri": "gcr.io/deeplearning-platform-release/tf2-gpu.2-3:m87"
  },
  "kernelspec": {
   "display_name": "Python 3",
   "language": "python",
   "name": "python3"
  },
  "language_info": {
   "codemirror_mode": {
    "name": "ipython",
    "version": 3
   },
   "file_extension": ".py",
   "mimetype": "text/x-python",
   "name": "python",
   "nbconvert_exporter": "python",
   "pygments_lexer": "ipython3",
   "version": "3.7.12"
  }
 },
 "nbformat": 4,
 "nbformat_minor": 5
}
