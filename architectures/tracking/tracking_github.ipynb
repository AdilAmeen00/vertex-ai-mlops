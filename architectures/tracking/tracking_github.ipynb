{
 "cells": [
  {
   "cell_type": "markdown",
   "id": "1b73cc6c-e766-4cbe-add3-e804c06afde2",
   "metadata": {},
   "source": [
    "![ga4](https://www.google-analytics.com/collect?v=2&tid=G-6VDTYWLKX6&cid=1&en=page_view&dt=tracking_github.ipynb&dl=statmike%2Fvertex-ai-mlops%2Farchitectures%2Ftracking)\n",
    "# GitHub Traffic For Repository"
   ]
  },
  {
   "cell_type": "markdown",
   "id": "9d3c17ef-be99-45e8-a30c-7aea522ce8be",
   "metadata": {},
   "source": [
    "## Setup"
   ]
  },
  {
   "cell_type": "code",
   "execution_count": 6,
   "id": "a795af53-5a7e-459c-84f2-3d9bc8f32d69",
   "metadata": {},
   "outputs": [
    {
     "data": {
      "text/plain": [
       "'statmike-mlops-349915'"
      ]
     },
     "execution_count": 6,
     "metadata": {},
     "output_type": "execute_result"
    }
   ],
   "source": [
    "project = !gcloud config get-value project\n",
    "PROJECT_ID = project[0]\n",
    "PROJECT_ID"
   ]
  },
  {
   "cell_type": "code",
   "execution_count": 108,
   "id": "ca7c985c-1710-4ec9-99b8-d5adc9d480f4",
   "metadata": {},
   "outputs": [],
   "source": [
    "github_user = 'statmike'\n",
    "github_repo = 'vertex-ai-mlops'"
   ]
  },
  {
   "cell_type": "code",
   "execution_count": 141,
   "id": "174167c6-a46d-4a8a-902b-c8cc8384808b",
   "metadata": {},
   "outputs": [],
   "source": [
    "import requests\n",
    "import json\n",
    "import time\n",
    "from datetime import datetime\n",
    "import pandas as pd\n",
    "from io import StringIO\n",
    "\n",
    "from google.cloud import bigquery\n",
    "from google.cloud import storage"
   ]
  },
  {
   "cell_type": "code",
   "execution_count": 142,
   "id": "a15d33f7-0806-4bc5-a532-122e0ca65694",
   "metadata": {},
   "outputs": [],
   "source": [
    "bq = bigquery.Client()\n",
    "gcs = storage.Client()"
   ]
  },
  {
   "cell_type": "code",
   "execution_count": 63,
   "id": "9adaab5d-1481-4d7c-ba9d-727bcb8273af",
   "metadata": {},
   "outputs": [],
   "source": [
    "DIR = 'temp'\n",
    "!rm -rf {DIR}\n",
    "!mkdir -p {DIR}"
   ]
  },
  {
   "cell_type": "markdown",
   "id": "c02da3c8-58f0-4f2f-8ec1-11e85479bf4a",
   "metadata": {},
   "source": [
    "---\n",
    "## Get Secret\n",
    "\n",
    "You need to create a secret to hold the PAT for accessing the GitHub API.  More information on [creating a secret manager](https://cloud.google.com/secret-manager/docs/creating-and-accessing-secrets#secretmanager-create-secret-console).\n"
   ]
  },
  {
   "cell_type": "code",
   "execution_count": 46,
   "id": "81d259f5-c7d5-48c8-842b-7b4f599020f1",
   "metadata": {},
   "outputs": [],
   "source": [
    "try:\n",
    "    import google.cloud.secretmanager\n",
    "except ImportError:\n",
    "    print('You need to pip install google-cloud-secret-manager')\n",
    "    !pip install google-cloud-secret-manager -q"
   ]
  },
  {
   "cell_type": "code",
   "execution_count": 47,
   "id": "51eae311-9380-4493-a243-024ff5a73c44",
   "metadata": {},
   "outputs": [],
   "source": [
    "from google.cloud import secretmanager"
   ]
  },
  {
   "cell_type": "code",
   "execution_count": 48,
   "id": "ef1acbe6-b7ef-4b90-9bc9-f6d0a45a7236",
   "metadata": {},
   "outputs": [],
   "source": [
    "client = secretmanager.SecretManagerServiceClient()"
   ]
  },
  {
   "cell_type": "code",
   "execution_count": 49,
   "id": "88ab2bbf-c698-43e4-ac72-818acbad512d",
   "metadata": {},
   "outputs": [],
   "source": [
    "secret = client.access_secret_version(request = {\"name\": f'projects/{PROJECT_ID}/secrets/github_api/versions/latest'})"
   ]
  },
  {
   "cell_type": "code",
   "execution_count": 50,
   "id": "02a3e0a9-5683-4ab1-84ab-74f44116ac04",
   "metadata": {},
   "outputs": [],
   "source": [
    "pat = secret.payload.data.decode('utf-8')"
   ]
  },
  {
   "cell_type": "markdown",
   "id": "770515b7-e6e2-4d05-9acb-934d65288e88",
   "metadata": {},
   "source": [
    "---\n",
    "## GitHub Traffic API\n",
    "\n",
    "- GitHub [traffic API](https://docs.github.com/en/rest/metrics/traffic#about-the-repository-traffic-api)\n",
    "- Permission the PAT will need are under [adminstration](https://docs.github.com/en/rest/overview/permissions-required-for-fine-grained-personal-access-tokens#administration)"
   ]
  },
  {
   "cell_type": "code",
   "execution_count": 110,
   "id": "066f6b79-c6f9-4753-9ffa-0de1224e9915",
   "metadata": {},
   "outputs": [],
   "source": [
    "github_api_url = f'https://api.github.com/repos/{github_user}/{github_repo}'"
   ]
  },
  {
   "cell_type": "code",
   "execution_count": 113,
   "id": "c91a3b3a-54da-494e-98a4-1250f1b79ea0",
   "metadata": {},
   "outputs": [],
   "source": [
    "## all three work:\n",
    "response = requests.get(f'{github_api_url}/traffic/clones', headers = {'Authorization': f'Bearer {pat}', 'Accept': 'application/vnd.github+json'})\n",
    "#response = requests.get(f'{github_api_url}/traffic/clones', auth = ('statmike', f'{pat}'), headers = {'Accept': 'application/vnd.github+json'})\n",
    "#response = requests.get(f'{github_api_url}/traffic/clones', auth = ('statmike', f'{pat}'), headers = {'Authorization': f'Bearer {pat}', 'Accept': 'application/vnd.github+json'})"
   ]
  },
  {
   "cell_type": "code",
   "execution_count": 114,
   "id": "d2c9e9dd-dc57-41ce-9b82-42ecfc25d41c",
   "metadata": {},
   "outputs": [
    {
     "data": {
      "text/plain": [
       "<Response [200]>"
      ]
     },
     "execution_count": 114,
     "metadata": {},
     "output_type": "execute_result"
    }
   ],
   "source": [
    "response"
   ]
  },
  {
   "cell_type": "code",
   "execution_count": 115,
   "id": "83e6e8c4-856d-40c8-9ac1-33f436793988",
   "metadata": {},
   "outputs": [
    {
     "data": {
      "text/plain": [
       "'{\"count\":57,\"uniques\":43,\"clones\":[{\"timestamp\":\"2022-11-13T00:00:00Z\",\"count\":2,\"uniques\":1},{\"timestamp\":\"2022-11-14T00:00:00Z\",\"count\":15,\"uniques\":11},{\"timestamp\":\"2022-11-15T00:00:00Z\",\"count\":3,\"uniques\":3},{\"timestamp\":\"2022-11-16T00:00:00Z\",\"count\":2,\"uniques\":2},{\"timestamp\":\"2022-11-17T00:00:00Z\",\"count\":2,\"uniques\":2},{\"timestamp\":\"2022-11-18T00:00:00Z\",\"count\":3,\"uniques\":3},{\"timestamp\":\"2022-11-19T00:00:00Z\",\"count\":3,\"uniques\":3},{\"timestamp\":\"2022-11-20T00:00:00Z\",\"count\":2,\"uniques\":2},{\"timestamp\":\"2022-11-21T00:00:00Z\",\"count\":7,\"uniques\":5},{\"timestamp\":\"2022-11-22T00:00:00Z\",\"count\":2,\"uniques\":1},{\"timestamp\":\"2022-11-23T00:00:00Z\",\"count\":1,\"uniques\":1},{\"timestamp\":\"2022-11-24T00:00:00Z\",\"count\":1,\"uniques\":1},{\"timestamp\":\"2022-11-25T00:00:00Z\",\"count\":4,\"uniques\":3},{\"timestamp\":\"2022-11-26T00:00:00Z\",\"count\":10,\"uniques\":6}]}'"
      ]
     },
     "execution_count": 115,
     "metadata": {},
     "output_type": "execute_result"
    }
   ],
   "source": [
    "response.text"
   ]
  },
  {
   "cell_type": "markdown",
   "id": "40d97da5-b843-4f27-a799-6b40daa3366c",
   "metadata": {},
   "source": [
    "---\n",
    "### Review metrics: Community Metrics"
   ]
  },
  {
   "cell_type": "code",
   "execution_count": 116,
   "id": "a414c356-5d72-45c6-8784-ff41a868b7e3",
   "metadata": {},
   "outputs": [
    {
     "data": {
      "text/plain": [
       "{'health_percentage': 42,\n",
       " 'description': 'Google Cloud Platform Vertex AI end-to-end workflows for machine learning operations',\n",
       " 'documentation': None,\n",
       " 'files': {'code_of_conduct': None,\n",
       "  'code_of_conduct_file': None,\n",
       "  'contributing': None,\n",
       "  'issue_template': None,\n",
       "  'pull_request_template': None,\n",
       "  'license': {'key': 'apache-2.0',\n",
       "   'name': 'Apache License 2.0',\n",
       "   'spdx_id': 'Apache-2.0',\n",
       "   'url': 'https://api.github.com/licenses/apache-2.0',\n",
       "   'node_id': 'MDc6TGljZW5zZTI=',\n",
       "   'html_url': 'https://github.com/statmike/vertex-ai-mlops/blob/main/LICENSE'},\n",
       "  'readme': {'url': 'https://api.github.com/repos/statmike/vertex-ai-mlops/contents/readme.md',\n",
       "   'html_url': 'https://github.com/statmike/vertex-ai-mlops/blob/main/readme.md'}},\n",
       " 'updated_at': None}"
      ]
     },
     "execution_count": 116,
     "metadata": {},
     "output_type": "execute_result"
    }
   ],
   "source": [
    "response = requests.get(f'{github_api_url}/community/profile', headers = {'Authorization': f'Bearer {pat}', 'Accept': 'application/vnd.github+json'})\n",
    "json.loads(response.text)"
   ]
  },
  {
   "cell_type": "markdown",
   "id": "87161833-834e-454b-81b2-44e9b3874ae2",
   "metadata": {},
   "source": [
    "---\n",
    "### Review metrics: Statistics - Weekly Code Activity"
   ]
  },
  {
   "cell_type": "code",
   "execution_count": 187,
   "id": "7fb016d0-ace8-469e-8735-f865a7844072",
   "metadata": {},
   "outputs": [
    {
     "data": {
      "text/plain": [
       "[[1616889600, 2983, -547],\n",
       " [1617494400, 7461, -3499],\n",
       " [1618099200, 12394, -6314],\n",
       " [1618704000, 7904, -6179],\n",
       " [1619308800, 0, 0],\n",
       " [1619913600, 0, 0],\n",
       " [1620518400, 0, 0],\n",
       " [1621123200, 0, 0],\n",
       " [1621728000, 0, 0],\n",
       " [1622332800, 0, 0],\n",
       " [1622937600, 695, -899],\n",
       " [1623542400, 0, 0],\n",
       " [1624147200, 246, -359],\n",
       " [1624752000, 0, 0],\n",
       " [1625356800, 14349, -11041],\n",
       " [1625961600, 3422, -1542],\n",
       " [1626566400, 1582, -1716],\n",
       " [1627171200, 0, 0],\n",
       " [1627776000, 0, 0],\n",
       " [1628380800, 1693, -2389],\n",
       " [1628985600, 0, 0],\n",
       " [1629590400, 0, 0],\n",
       " [1630195200, 10777, -6390],\n",
       " [1630800000, 400423, -206756],\n",
       " [1631404800, 217627, -217787],\n",
       " [1632009600, 14216, -10514],\n",
       " [1632614400, 1370, -1244],\n",
       " [1633219200, 2047, -715],\n",
       " [1633824000, 2705, -2357],\n",
       " [1634428800, 37, -62],\n",
       " [1635033600, 207, -161],\n",
       " [1635638400, 0, 0],\n",
       " [1636243200, 0, 0],\n",
       " [1636848000, 0, 0],\n",
       " [1637452800, 134, -139],\n",
       " [1638057600, 3731, -3358],\n",
       " [1638662400, 287, -296],\n",
       " [1639267200, 0, 0],\n",
       " [1639872000, 0, 0],\n",
       " [1640476800, 0, 0],\n",
       " [1641081600, 839, -973],\n",
       " [1641686400, 0, 0],\n",
       " [1642291200, 0, 0],\n",
       " [1642896000, 922, -391],\n",
       " [1643500800, 360, -259],\n",
       " [1644105600, 3111, -3186],\n",
       " [1644710400, 1816, -431],\n",
       " [1645315200, 1485, -354],\n",
       " [1645920000, 0, 0],\n",
       " [1646524800, 227785, -204152],\n",
       " [1647129600, 23017, -2144],\n",
       " [1647734400, 2820, -1477],\n",
       " [1648339200, 4287, -4375],\n",
       " [1648944000, 5102, -2882],\n",
       " [1649548800, 483, -371],\n",
       " [1650153600, 4140, 0],\n",
       " [1650758400, 0, 0],\n",
       " [1651363200, 1404, -3277],\n",
       " [1651968000, 0, 0],\n",
       " [1652572800, 755, -554],\n",
       " [1653177600, 5525, -2472],\n",
       " [1653782400, 0, 0],\n",
       " [1654387200, 0, 0],\n",
       " [1654992000, 0, 0],\n",
       " [1655596800, 715, -508],\n",
       " [1656201600, 1017, -1059],\n",
       " [1656806400, 1220, -1139],\n",
       " [1657411200, 0, 0],\n",
       " [1658016000, 0, 0],\n",
       " [1658620800, 15401, -6211],\n",
       " [1659225600, 13729, -7770],\n",
       " [1659830400, 4109, -3276],\n",
       " [1660435200, 13539, -8089],\n",
       " [1661040000, 164027, -143876],\n",
       " [1661644800, 159169, -266],\n",
       " [1662249600, 49163, -32089],\n",
       " [1662854400, 67894, -65551],\n",
       " [1663459200, 13432, -4092],\n",
       " [1664064000, 33216, -29621],\n",
       " [1664668800, 405573, -389656],\n",
       " [1665273600, 35192, -15185],\n",
       " [1665878400, 2935, -1084],\n",
       " [1666483200, 14334, -14637],\n",
       " [1667088000, 8105, -3299],\n",
       " [1667692800, 20932, -2660],\n",
       " [1668297600, 4100, -1280],\n",
       " [1668902400, 4319, -363],\n",
       " [1669507200, 0, 0]]"
      ]
     },
     "execution_count": 187,
     "metadata": {},
     "output_type": "execute_result"
    }
   ],
   "source": [
    "# timestamp (12AM Sunday each week for life of the repository), additions, deletions\n",
    "response = requests.get(f'{github_api_url}/stats/code_frequency', headers = {'Authorization': f'Bearer {pat}', 'Accept': 'application/vnd.github+json'})\n",
    "\n",
    "while response.status_code == 202:\n",
    "    time.sleep(30)\n",
    "    response = requests.get(f'{github_api_url}/stats/code_frequency', headers = {'Authorization': f'Bearer {pat}', 'Accept': 'application/vnd.github+json'})\n",
    "    \n",
    "json.loads(response.text)"
   ]
  },
  {
   "cell_type": "code",
   "execution_count": 191,
   "id": "f9fa161e-fbe4-482d-85ef-4a35c654f8c5",
   "metadata": {},
   "outputs": [
    {
     "data": {
      "text/plain": [
       "[{'week': 1616889600, 'additions': 2983, 'deletions': -547},\n",
       " {'week': 1617494400, 'additions': 7461, 'deletions': -3499},\n",
       " {'week': 1618099200, 'additions': 12394, 'deletions': -6314},\n",
       " {'week': 1618704000, 'additions': 7904, 'deletions': -6179},\n",
       " {'week': 1619308800, 'additions': 0, 'deletions': 0},\n",
       " {'week': 1619913600, 'additions': 0, 'deletions': 0},\n",
       " {'week': 1620518400, 'additions': 0, 'deletions': 0},\n",
       " {'week': 1621123200, 'additions': 0, 'deletions': 0},\n",
       " {'week': 1621728000, 'additions': 0, 'deletions': 0},\n",
       " {'week': 1622332800, 'additions': 0, 'deletions': 0},\n",
       " {'week': 1622937600, 'additions': 695, 'deletions': -899},\n",
       " {'week': 1623542400, 'additions': 0, 'deletions': 0},\n",
       " {'week': 1624147200, 'additions': 246, 'deletions': -359},\n",
       " {'week': 1624752000, 'additions': 0, 'deletions': 0},\n",
       " {'week': 1625356800, 'additions': 14349, 'deletions': -11041},\n",
       " {'week': 1625961600, 'additions': 3422, 'deletions': -1542},\n",
       " {'week': 1626566400, 'additions': 1582, 'deletions': -1716},\n",
       " {'week': 1627171200, 'additions': 0, 'deletions': 0},\n",
       " {'week': 1627776000, 'additions': 0, 'deletions': 0},\n",
       " {'week': 1628380800, 'additions': 1693, 'deletions': -2389},\n",
       " {'week': 1628985600, 'additions': 0, 'deletions': 0},\n",
       " {'week': 1629590400, 'additions': 0, 'deletions': 0},\n",
       " {'week': 1630195200, 'additions': 10777, 'deletions': -6390},\n",
       " {'week': 1630800000, 'additions': 400423, 'deletions': -206756},\n",
       " {'week': 1631404800, 'additions': 217627, 'deletions': -217787},\n",
       " {'week': 1632009600, 'additions': 14216, 'deletions': -10514},\n",
       " {'week': 1632614400, 'additions': 1370, 'deletions': -1244},\n",
       " {'week': 1633219200, 'additions': 2047, 'deletions': -715},\n",
       " {'week': 1633824000, 'additions': 2705, 'deletions': -2357},\n",
       " {'week': 1634428800, 'additions': 37, 'deletions': -62},\n",
       " {'week': 1635033600, 'additions': 207, 'deletions': -161},\n",
       " {'week': 1635638400, 'additions': 0, 'deletions': 0},\n",
       " {'week': 1636243200, 'additions': 0, 'deletions': 0},\n",
       " {'week': 1636848000, 'additions': 0, 'deletions': 0},\n",
       " {'week': 1637452800, 'additions': 134, 'deletions': -139},\n",
       " {'week': 1638057600, 'additions': 3731, 'deletions': -3358},\n",
       " {'week': 1638662400, 'additions': 287, 'deletions': -296},\n",
       " {'week': 1639267200, 'additions': 0, 'deletions': 0},\n",
       " {'week': 1639872000, 'additions': 0, 'deletions': 0},\n",
       " {'week': 1640476800, 'additions': 0, 'deletions': 0},\n",
       " {'week': 1641081600, 'additions': 839, 'deletions': -973},\n",
       " {'week': 1641686400, 'additions': 0, 'deletions': 0},\n",
       " {'week': 1642291200, 'additions': 0, 'deletions': 0},\n",
       " {'week': 1642896000, 'additions': 922, 'deletions': -391},\n",
       " {'week': 1643500800, 'additions': 360, 'deletions': -259},\n",
       " {'week': 1644105600, 'additions': 3111, 'deletions': -3186},\n",
       " {'week': 1644710400, 'additions': 1816, 'deletions': -431},\n",
       " {'week': 1645315200, 'additions': 1485, 'deletions': -354},\n",
       " {'week': 1645920000, 'additions': 0, 'deletions': 0},\n",
       " {'week': 1646524800, 'additions': 227785, 'deletions': -204152},\n",
       " {'week': 1647129600, 'additions': 23017, 'deletions': -2144},\n",
       " {'week': 1647734400, 'additions': 2820, 'deletions': -1477},\n",
       " {'week': 1648339200, 'additions': 4287, 'deletions': -4375},\n",
       " {'week': 1648944000, 'additions': 5102, 'deletions': -2882},\n",
       " {'week': 1649548800, 'additions': 483, 'deletions': -371},\n",
       " {'week': 1650153600, 'additions': 4140, 'deletions': 0},\n",
       " {'week': 1650758400, 'additions': 0, 'deletions': 0},\n",
       " {'week': 1651363200, 'additions': 1404, 'deletions': -3277},\n",
       " {'week': 1651968000, 'additions': 0, 'deletions': 0},\n",
       " {'week': 1652572800, 'additions': 755, 'deletions': -554},\n",
       " {'week': 1653177600, 'additions': 5525, 'deletions': -2472},\n",
       " {'week': 1653782400, 'additions': 0, 'deletions': 0},\n",
       " {'week': 1654387200, 'additions': 0, 'deletions': 0},\n",
       " {'week': 1654992000, 'additions': 0, 'deletions': 0},\n",
       " {'week': 1655596800, 'additions': 715, 'deletions': -508},\n",
       " {'week': 1656201600, 'additions': 1017, 'deletions': -1059},\n",
       " {'week': 1656806400, 'additions': 1220, 'deletions': -1139},\n",
       " {'week': 1657411200, 'additions': 0, 'deletions': 0},\n",
       " {'week': 1658016000, 'additions': 0, 'deletions': 0},\n",
       " {'week': 1658620800, 'additions': 15401, 'deletions': -6211},\n",
       " {'week': 1659225600, 'additions': 13729, 'deletions': -7770},\n",
       " {'week': 1659830400, 'additions': 4109, 'deletions': -3276},\n",
       " {'week': 1660435200, 'additions': 13539, 'deletions': -8089},\n",
       " {'week': 1661040000, 'additions': 164027, 'deletions': -143876},\n",
       " {'week': 1661644800, 'additions': 159169, 'deletions': -266},\n",
       " {'week': 1662249600, 'additions': 49163, 'deletions': -32089},\n",
       " {'week': 1662854400, 'additions': 67894, 'deletions': -65551},\n",
       " {'week': 1663459200, 'additions': 13432, 'deletions': -4092},\n",
       " {'week': 1664064000, 'additions': 33216, 'deletions': -29621},\n",
       " {'week': 1664668800, 'additions': 405573, 'deletions': -389656},\n",
       " {'week': 1665273600, 'additions': 35192, 'deletions': -15185},\n",
       " {'week': 1665878400, 'additions': 2935, 'deletions': -1084},\n",
       " {'week': 1666483200, 'additions': 14334, 'deletions': -14637},\n",
       " {'week': 1667088000, 'additions': 8105, 'deletions': -3299},\n",
       " {'week': 1667692800, 'additions': 20932, 'deletions': -2660},\n",
       " {'week': 1668297600, 'additions': 4100, 'deletions': -1280},\n",
       " {'week': 1668902400, 'additions': 4319, 'deletions': -363},\n",
       " {'week': 1669507200, 'additions': 0, 'deletions': 0}]"
      ]
     },
     "execution_count": 191,
     "metadata": {},
     "output_type": "execute_result"
    }
   ],
   "source": [
    "# array of array is not allowed in json/bigquery, convert to array of struct/dict:\n",
    "\n",
    "[{'week': v[0], 'additions': v[1], 'deletions': v[2]} for v in json.loads(response.text)]"
   ]
  },
  {
   "cell_type": "markdown",
   "id": "28db248a-b594-489d-a87c-b7f099742e4f",
   "metadata": {},
   "source": [
    "---\n",
    "### Review metrics: Statistics - Weekly Commit Activity"
   ]
  },
  {
   "cell_type": "code",
   "execution_count": 38,
   "id": "51470b42-f18e-47f7-9e4a-be0948095776",
   "metadata": {},
   "outputs": [
    {
     "data": {
      "text/plain": [
       "[{'days': [0, 1, 2, 1, 0, 1, 0], 'total': 5, 'week': 1638057600},\n",
       " {'days': [0, 0, 0, 3, 0, 0, 0], 'total': 3, 'week': 1638662400},\n",
       " {'days': [0, 0, 0, 0, 0, 0, 0], 'total': 0, 'week': 1639267200},\n",
       " {'days': [0, 0, 0, 0, 0, 0, 0], 'total': 0, 'week': 1639872000},\n",
       " {'days': [0, 0, 0, 0, 0, 0, 0], 'total': 0, 'week': 1640476800},\n",
       " {'days': [0, 16, 3, 1, 0, 1, 1], 'total': 22, 'week': 1641081600},\n",
       " {'days': [0, 0, 0, 0, 0, 0, 0], 'total': 0, 'week': 1641686400},\n",
       " {'days': [0, 0, 0, 0, 0, 0, 0], 'total': 0, 'week': 1642291200},\n",
       " {'days': [0, 0, 0, 2, 0, 0, 2], 'total': 4, 'week': 1642896000},\n",
       " {'days': [0, 0, 0, 1, 1, 1, 0], 'total': 3, 'week': 1643500800},\n",
       " {'days': [0, 5, 0, 3, 2, 1, 1], 'total': 12, 'week': 1644105600},\n",
       " {'days': [0, 2, 1, 0, 0, 2, 0], 'total': 5, 'week': 1644710400},\n",
       " {'days': [0, 1, 0, 0, 0, 1, 0], 'total': 2, 'week': 1645315200},\n",
       " {'days': [0, 0, 0, 0, 0, 0, 0], 'total': 0, 'week': 1645920000},\n",
       " {'days': [0, 0, 0, 2, 1, 6, 1], 'total': 10, 'week': 1646524800},\n",
       " {'days': [2, 4, 3, 0, 1, 1, 3], 'total': 14, 'week': 1647129600},\n",
       " {'days': [1, 4, 0, 0, 0, 1, 0], 'total': 6, 'week': 1647734400},\n",
       " {'days': [0, 0, 0, 0, 0, 0, 7], 'total': 7, 'week': 1648339200},\n",
       " {'days': [0, 1, 0, 4, 1, 0, 0], 'total': 6, 'week': 1648944000},\n",
       " {'days': [0, 0, 4, 0, 0, 0, 0], 'total': 4, 'week': 1649548800},\n",
       " {'days': [0, 1, 1, 0, 0, 0, 0], 'total': 2, 'week': 1650153600},\n",
       " {'days': [0, 0, 0, 0, 0, 0, 0], 'total': 0, 'week': 1650758400},\n",
       " {'days': [1, 0, 0, 0, 0, 0, 0], 'total': 1, 'week': 1651363200},\n",
       " {'days': [0, 0, 0, 0, 0, 0, 0], 'total': 0, 'week': 1651968000},\n",
       " {'days': [0, 0, 0, 0, 0, 1, 1], 'total': 2, 'week': 1652572800},\n",
       " {'days': [4, 1, 1, 1, 3, 0, 3], 'total': 13, 'week': 1653177600},\n",
       " {'days': [0, 0, 0, 0, 0, 0, 0], 'total': 0, 'week': 1653782400},\n",
       " {'days': [0, 0, 0, 0, 0, 0, 0], 'total': 0, 'week': 1654387200},\n",
       " {'days': [0, 0, 0, 0, 0, 0, 0], 'total': 0, 'week': 1654992000},\n",
       " {'days': [0, 0, 2, 0, 0, 0, 0], 'total': 2, 'week': 1655596800},\n",
       " {'days': [0, 1, 2, 0, 0, 0, 0], 'total': 3, 'week': 1656201600},\n",
       " {'days': [0, 0, 0, 0, 3, 0, 0], 'total': 3, 'week': 1656806400},\n",
       " {'days': [0, 0, 0, 0, 0, 0, 0], 'total': 0, 'week': 1657411200},\n",
       " {'days': [0, 0, 0, 0, 0, 0, 0], 'total': 0, 'week': 1658016000},\n",
       " {'days': [0, 0, 0, 0, 3, 7, 1], 'total': 11, 'week': 1658620800},\n",
       " {'days': [0, 1, 2, 2, 3, 0, 2], 'total': 10, 'week': 1659225600},\n",
       " {'days': [0, 10, 0, 0, 0, 3, 1], 'total': 14, 'week': 1659830400},\n",
       " {'days': [4, 1, 0, 1, 1, 2, 1], 'total': 10, 'week': 1660435200},\n",
       " {'days': [0, 3, 3, 1, 0, 0, 10], 'total': 17, 'week': 1661040000},\n",
       " {'days': [1, 0, 0, 1, 0, 0, 0], 'total': 2, 'week': 1661644800},\n",
       " {'days': [0, 0, 0, 0, 0, 2, 3], 'total': 5, 'week': 1662249600},\n",
       " {'days': [4, 0, 9, 2, 4, 0, 8], 'total': 27, 'week': 1662854400},\n",
       " {'days': [3, 1, 12, 6, 4, 0, 8], 'total': 34, 'week': 1663459200},\n",
       " {'days': [0, 0, 9, 9, 0, 4, 1], 'total': 23, 'week': 1664064000},\n",
       " {'days': [0, 10, 9, 4, 3, 2, 1], 'total': 29, 'week': 1664668800},\n",
       " {'days': [8, 8, 7, 5, 4, 12, 2], 'total': 46, 'week': 1665273600},\n",
       " {'days': [1, 5, 3, 0, 5, 0, 0], 'total': 14, 'week': 1665878400},\n",
       " {'days': [0, 4, 0, 4, 0, 3, 3], 'total': 14, 'week': 1666483200},\n",
       " {'days': [2, 0, 4, 2, 2, 0, 0], 'total': 10, 'week': 1667088000},\n",
       " {'days': [0, 2, 4, 3, 3, 1, 0], 'total': 13, 'week': 1667692800},\n",
       " {'days': [0, 6, 0, 1, 0, 0, 0], 'total': 7, 'week': 1668297600},\n",
       " {'days': [0, 2, 0, 3, 0, 1, 3], 'total': 9, 'week': 1668902400}]"
      ]
     },
     "execution_count": 38,
     "metadata": {},
     "output_type": "execute_result"
    }
   ],
   "source": [
    "# commits per day [sunday, ..., saturday], total, week (timestamp)\n",
    "response = requests.get(f'{github_api_url}/stats/commit_activity', headers = {'Authorization': f'Bearer {pat}', 'Accept': 'application/vnd.github+json'})\n",
    "\n",
    "while response.status_code == 202:\n",
    "    time.sleep(30)\n",
    "    response = requests.get(f'{github_api_url}/stats/commit_activity', headers = {'Authorization': f'Bearer {pat}', 'Accept': 'application/vnd.github+json'})\n",
    "    \n",
    "json.loads(response.text)"
   ]
  },
  {
   "cell_type": "markdown",
   "id": "de9451ea-9d94-4785-82b4-6de1bef5c592",
   "metadata": {},
   "source": [
    "---\n",
    "### Review metrics: Statistics - Weekly Contributor Activity (Code and Commit)"
   ]
  },
  {
   "cell_type": "code",
   "execution_count": 39,
   "id": "fa6098eb-2f69-4938-8837-4e426ebde8c0",
   "metadata": {},
   "outputs": [
    {
     "data": {
      "text/plain": [
       "[{'total': 1,\n",
       "  'weeks': [{'w': 1616889600, 'a': 0, 'd': 0, 'c': 0},\n",
       "   {'w': 1617494400, 'a': 0, 'd': 0, 'c': 0},\n",
       "   {'w': 1618099200, 'a': 0, 'd': 0, 'c': 0},\n",
       "   {'w': 1618704000, 'a': 0, 'd': 0, 'c': 0},\n",
       "   {'w': 1619308800, 'a': 0, 'd': 0, 'c': 0},\n",
       "   {'w': 1619913600, 'a': 0, 'd': 0, 'c': 0},\n",
       "   {'w': 1620518400, 'a': 0, 'd': 0, 'c': 0},\n",
       "   {'w': 1621123200, 'a': 0, 'd': 0, 'c': 0},\n",
       "   {'w': 1621728000, 'a': 0, 'd': 0, 'c': 0},\n",
       "   {'w': 1622332800, 'a': 0, 'd': 0, 'c': 0},\n",
       "   {'w': 1622937600, 'a': 0, 'd': 0, 'c': 0},\n",
       "   {'w': 1623542400, 'a': 0, 'd': 0, 'c': 0},\n",
       "   {'w': 1624147200, 'a': 0, 'd': 0, 'c': 0},\n",
       "   {'w': 1624752000, 'a': 0, 'd': 0, 'c': 0},\n",
       "   {'w': 1625356800, 'a': 0, 'd': 0, 'c': 0},\n",
       "   {'w': 1625961600, 'a': 0, 'd': 0, 'c': 0},\n",
       "   {'w': 1626566400, 'a': 0, 'd': 0, 'c': 0},\n",
       "   {'w': 1627171200, 'a': 0, 'd': 0, 'c': 0},\n",
       "   {'w': 1627776000, 'a': 0, 'd': 0, 'c': 0},\n",
       "   {'w': 1628380800, 'a': 0, 'd': 0, 'c': 0},\n",
       "   {'w': 1628985600, 'a': 0, 'd': 0, 'c': 0},\n",
       "   {'w': 1629590400, 'a': 0, 'd': 0, 'c': 0},\n",
       "   {'w': 1630195200, 'a': 0, 'd': 0, 'c': 0},\n",
       "   {'w': 1630800000, 'a': 0, 'd': 0, 'c': 0},\n",
       "   {'w': 1631404800, 'a': 0, 'd': 0, 'c': 0},\n",
       "   {'w': 1632009600, 'a': 0, 'd': 0, 'c': 0},\n",
       "   {'w': 1632614400, 'a': 0, 'd': 0, 'c': 0},\n",
       "   {'w': 1633219200, 'a': 0, 'd': 0, 'c': 0},\n",
       "   {'w': 1633824000, 'a': 0, 'd': 0, 'c': 0},\n",
       "   {'w': 1634428800, 'a': 0, 'd': 0, 'c': 0},\n",
       "   {'w': 1635033600, 'a': 0, 'd': 0, 'c': 0},\n",
       "   {'w': 1635638400, 'a': 0, 'd': 0, 'c': 0},\n",
       "   {'w': 1636243200, 'a': 0, 'd': 0, 'c': 0},\n",
       "   {'w': 1636848000, 'a': 0, 'd': 0, 'c': 0},\n",
       "   {'w': 1637452800, 'a': 0, 'd': 0, 'c': 0},\n",
       "   {'w': 1638057600, 'a': 0, 'd': 0, 'c': 0},\n",
       "   {'w': 1638662400, 'a': 0, 'd': 0, 'c': 0},\n",
       "   {'w': 1639267200, 'a': 0, 'd': 0, 'c': 0},\n",
       "   {'w': 1639872000, 'a': 0, 'd': 0, 'c': 0},\n",
       "   {'w': 1640476800, 'a': 0, 'd': 0, 'c': 0},\n",
       "   {'w': 1641081600, 'a': 0, 'd': 0, 'c': 0},\n",
       "   {'w': 1641686400, 'a': 0, 'd': 0, 'c': 0},\n",
       "   {'w': 1642291200, 'a': 0, 'd': 0, 'c': 0},\n",
       "   {'w': 1642896000, 'a': 0, 'd': 0, 'c': 0},\n",
       "   {'w': 1643500800, 'a': 0, 'd': 0, 'c': 0},\n",
       "   {'w': 1644105600, 'a': 0, 'd': 0, 'c': 0},\n",
       "   {'w': 1644710400, 'a': 0, 'd': 0, 'c': 0},\n",
       "   {'w': 1645315200, 'a': 0, 'd': 0, 'c': 0},\n",
       "   {'w': 1645920000, 'a': 0, 'd': 0, 'c': 0},\n",
       "   {'w': 1646524800, 'a': 0, 'd': 0, 'c': 0},\n",
       "   {'w': 1647129600, 'a': 0, 'd': 0, 'c': 0},\n",
       "   {'w': 1647734400, 'a': 0, 'd': 0, 'c': 0},\n",
       "   {'w': 1648339200, 'a': 0, 'd': 0, 'c': 0},\n",
       "   {'w': 1648944000, 'a': 0, 'd': 0, 'c': 0},\n",
       "   {'w': 1649548800, 'a': 0, 'd': 0, 'c': 0},\n",
       "   {'w': 1650153600, 'a': 0, 'd': 0, 'c': 0},\n",
       "   {'w': 1650758400, 'a': 0, 'd': 0, 'c': 0},\n",
       "   {'w': 1651363200, 'a': 0, 'd': 0, 'c': 0},\n",
       "   {'w': 1651968000, 'a': 0, 'd': 0, 'c': 0},\n",
       "   {'w': 1652572800, 'a': 0, 'd': 0, 'c': 0},\n",
       "   {'w': 1653177600, 'a': 0, 'd': 0, 'c': 0},\n",
       "   {'w': 1653782400, 'a': 0, 'd': 0, 'c': 0},\n",
       "   {'w': 1654387200, 'a': 0, 'd': 0, 'c': 0},\n",
       "   {'w': 1654992000, 'a': 0, 'd': 0, 'c': 0},\n",
       "   {'w': 1655596800, 'a': 0, 'd': 0, 'c': 0},\n",
       "   {'w': 1656201600, 'a': 0, 'd': 0, 'c': 0},\n",
       "   {'w': 1656806400, 'a': 0, 'd': 0, 'c': 0},\n",
       "   {'w': 1657411200, 'a': 0, 'd': 0, 'c': 0},\n",
       "   {'w': 1658016000, 'a': 0, 'd': 0, 'c': 0},\n",
       "   {'w': 1658620800, 'a': 0, 'd': 0, 'c': 0},\n",
       "   {'w': 1659225600, 'a': 0, 'd': 0, 'c': 0},\n",
       "   {'w': 1659830400, 'a': 0, 'd': 0, 'c': 0},\n",
       "   {'w': 1660435200, 'a': 0, 'd': 0, 'c': 0},\n",
       "   {'w': 1661040000, 'a': 0, 'd': 0, 'c': 0},\n",
       "   {'w': 1661644800, 'a': 0, 'd': 0, 'c': 0},\n",
       "   {'w': 1662249600, 'a': 0, 'd': 0, 'c': 0},\n",
       "   {'w': 1662854400, 'a': 0, 'd': 0, 'c': 0},\n",
       "   {'w': 1663459200, 'a': 0, 'd': 0, 'c': 0},\n",
       "   {'w': 1664064000, 'a': 0, 'd': 0, 'c': 0},\n",
       "   {'w': 1664668800, 'a': 0, 'd': 0, 'c': 0},\n",
       "   {'w': 1665273600, 'a': 0, 'd': 0, 'c': 0},\n",
       "   {'w': 1665878400, 'a': 0, 'd': 0, 'c': 0},\n",
       "   {'w': 1666483200, 'a': 0, 'd': 0, 'c': 0},\n",
       "   {'w': 1667088000, 'a': 0, 'd': 0, 'c': 0},\n",
       "   {'w': 1667692800, 'a': 6357, 'd': 2, 'c': 1},\n",
       "   {'w': 1668297600, 'a': 0, 'd': 0, 'c': 0},\n",
       "   {'w': 1668902400, 'a': 0, 'd': 0, 'c': 0}],\n",
       "  'author': {'login': 'goodrules',\n",
       "   'id': 7725348,\n",
       "   'node_id': 'MDQ6VXNlcjc3MjUzNDg=',\n",
       "   'avatar_url': 'https://avatars.githubusercontent.com/u/7725348?v=4',\n",
       "   'gravatar_id': '',\n",
       "   'url': 'https://api.github.com/users/goodrules',\n",
       "   'html_url': 'https://github.com/goodrules',\n",
       "   'followers_url': 'https://api.github.com/users/goodrules/followers',\n",
       "   'following_url': 'https://api.github.com/users/goodrules/following{/other_user}',\n",
       "   'gists_url': 'https://api.github.com/users/goodrules/gists{/gist_id}',\n",
       "   'starred_url': 'https://api.github.com/users/goodrules/starred{/owner}{/repo}',\n",
       "   'subscriptions_url': 'https://api.github.com/users/goodrules/subscriptions',\n",
       "   'organizations_url': 'https://api.github.com/users/goodrules/orgs',\n",
       "   'repos_url': 'https://api.github.com/users/goodrules/repos',\n",
       "   'events_url': 'https://api.github.com/users/goodrules/events{/privacy}',\n",
       "   'received_events_url': 'https://api.github.com/users/goodrules/received_events',\n",
       "   'type': 'User',\n",
       "   'site_admin': False}},\n",
       " {'total': 1,\n",
       "  'weeks': [{'w': 1616889600, 'a': 0, 'd': 0, 'c': 0},\n",
       "   {'w': 1617494400, 'a': 0, 'd': 0, 'c': 0},\n",
       "   {'w': 1618099200, 'a': 0, 'd': 0, 'c': 0},\n",
       "   {'w': 1618704000, 'a': 0, 'd': 0, 'c': 0},\n",
       "   {'w': 1619308800, 'a': 0, 'd': 0, 'c': 0},\n",
       "   {'w': 1619913600, 'a': 0, 'd': 0, 'c': 0},\n",
       "   {'w': 1620518400, 'a': 0, 'd': 0, 'c': 0},\n",
       "   {'w': 1621123200, 'a': 0, 'd': 0, 'c': 0},\n",
       "   {'w': 1621728000, 'a': 0, 'd': 0, 'c': 0},\n",
       "   {'w': 1622332800, 'a': 0, 'd': 0, 'c': 0},\n",
       "   {'w': 1622937600, 'a': 0, 'd': 0, 'c': 0},\n",
       "   {'w': 1623542400, 'a': 0, 'd': 0, 'c': 0},\n",
       "   {'w': 1624147200, 'a': 0, 'd': 0, 'c': 0},\n",
       "   {'w': 1624752000, 'a': 0, 'd': 0, 'c': 0},\n",
       "   {'w': 1625356800, 'a': 0, 'd': 0, 'c': 0},\n",
       "   {'w': 1625961600, 'a': 0, 'd': 0, 'c': 0},\n",
       "   {'w': 1626566400, 'a': 0, 'd': 0, 'c': 0},\n",
       "   {'w': 1627171200, 'a': 0, 'd': 0, 'c': 0},\n",
       "   {'w': 1627776000, 'a': 0, 'd': 0, 'c': 0},\n",
       "   {'w': 1628380800, 'a': 0, 'd': 0, 'c': 0},\n",
       "   {'w': 1628985600, 'a': 0, 'd': 0, 'c': 0},\n",
       "   {'w': 1629590400, 'a': 0, 'd': 0, 'c': 0},\n",
       "   {'w': 1630195200, 'a': 0, 'd': 0, 'c': 0},\n",
       "   {'w': 1630800000, 'a': 0, 'd': 0, 'c': 0},\n",
       "   {'w': 1631404800, 'a': 0, 'd': 0, 'c': 0},\n",
       "   {'w': 1632009600, 'a': 0, 'd': 0, 'c': 0},\n",
       "   {'w': 1632614400, 'a': 0, 'd': 0, 'c': 0},\n",
       "   {'w': 1633219200, 'a': 0, 'd': 0, 'c': 0},\n",
       "   {'w': 1633824000, 'a': 0, 'd': 0, 'c': 0},\n",
       "   {'w': 1634428800, 'a': 0, 'd': 0, 'c': 0},\n",
       "   {'w': 1635033600, 'a': 0, 'd': 0, 'c': 0},\n",
       "   {'w': 1635638400, 'a': 0, 'd': 0, 'c': 0},\n",
       "   {'w': 1636243200, 'a': 0, 'd': 0, 'c': 0},\n",
       "   {'w': 1636848000, 'a': 0, 'd': 0, 'c': 0},\n",
       "   {'w': 1637452800, 'a': 0, 'd': 0, 'c': 0},\n",
       "   {'w': 1638057600, 'a': 0, 'd': 0, 'c': 0},\n",
       "   {'w': 1638662400, 'a': 0, 'd': 0, 'c': 0},\n",
       "   {'w': 1639267200, 'a': 0, 'd': 0, 'c': 0},\n",
       "   {'w': 1639872000, 'a': 0, 'd': 0, 'c': 0},\n",
       "   {'w': 1640476800, 'a': 0, 'd': 0, 'c': 0},\n",
       "   {'w': 1641081600, 'a': 0, 'd': 0, 'c': 0},\n",
       "   {'w': 1641686400, 'a': 0, 'd': 0, 'c': 0},\n",
       "   {'w': 1642291200, 'a': 0, 'd': 0, 'c': 0},\n",
       "   {'w': 1642896000, 'a': 0, 'd': 0, 'c': 0},\n",
       "   {'w': 1643500800, 'a': 0, 'd': 0, 'c': 0},\n",
       "   {'w': 1644105600, 'a': 0, 'd': 0, 'c': 0},\n",
       "   {'w': 1644710400, 'a': 0, 'd': 0, 'c': 0},\n",
       "   {'w': 1645315200, 'a': 0, 'd': 0, 'c': 0},\n",
       "   {'w': 1645920000, 'a': 0, 'd': 0, 'c': 0},\n",
       "   {'w': 1646524800, 'a': 0, 'd': 0, 'c': 0},\n",
       "   {'w': 1647129600, 'a': 0, 'd': 0, 'c': 0},\n",
       "   {'w': 1647734400, 'a': 0, 'd': 0, 'c': 0},\n",
       "   {'w': 1648339200, 'a': 0, 'd': 0, 'c': 0},\n",
       "   {'w': 1648944000, 'a': 0, 'd': 0, 'c': 0},\n",
       "   {'w': 1649548800, 'a': 0, 'd': 0, 'c': 0},\n",
       "   {'w': 1650153600, 'a': 0, 'd': 0, 'c': 0},\n",
       "   {'w': 1650758400, 'a': 0, 'd': 0, 'c': 0},\n",
       "   {'w': 1651363200, 'a': 0, 'd': 0, 'c': 0},\n",
       "   {'w': 1651968000, 'a': 0, 'd': 0, 'c': 0},\n",
       "   {'w': 1652572800, 'a': 0, 'd': 0, 'c': 0},\n",
       "   {'w': 1653177600, 'a': 0, 'd': 0, 'c': 0},\n",
       "   {'w': 1653782400, 'a': 0, 'd': 0, 'c': 0},\n",
       "   {'w': 1654387200, 'a': 0, 'd': 0, 'c': 0},\n",
       "   {'w': 1654992000, 'a': 0, 'd': 0, 'c': 0},\n",
       "   {'w': 1655596800, 'a': 0, 'd': 0, 'c': 0},\n",
       "   {'w': 1656201600, 'a': 0, 'd': 0, 'c': 0},\n",
       "   {'w': 1656806400, 'a': 0, 'd': 0, 'c': 0},\n",
       "   {'w': 1657411200, 'a': 0, 'd': 0, 'c': 0},\n",
       "   {'w': 1658016000, 'a': 0, 'd': 0, 'c': 0},\n",
       "   {'w': 1658620800, 'a': 0, 'd': 0, 'c': 0},\n",
       "   {'w': 1659225600, 'a': 0, 'd': 0, 'c': 0},\n",
       "   {'w': 1659830400, 'a': 0, 'd': 0, 'c': 0},\n",
       "   {'w': 1660435200, 'a': 0, 'd': 0, 'c': 0},\n",
       "   {'w': 1661040000, 'a': 0, 'd': 0, 'c': 0},\n",
       "   {'w': 1661644800, 'a': 0, 'd': 0, 'c': 0},\n",
       "   {'w': 1662249600, 'a': 0, 'd': 0, 'c': 0},\n",
       "   {'w': 1662854400, 'a': 0, 'd': 0, 'c': 0},\n",
       "   {'w': 1663459200, 'a': 0, 'd': 0, 'c': 0},\n",
       "   {'w': 1664064000, 'a': 0, 'd': 0, 'c': 0},\n",
       "   {'w': 1664668800, 'a': 0, 'd': 0, 'c': 0},\n",
       "   {'w': 1665273600, 'a': 0, 'd': 0, 'c': 0},\n",
       "   {'w': 1665878400, 'a': 0, 'd': 0, 'c': 0},\n",
       "   {'w': 1666483200, 'a': 50, 'd': 29, 'c': 1},\n",
       "   {'w': 1667088000, 'a': 0, 'd': 0, 'c': 0},\n",
       "   {'w': 1667692800, 'a': 0, 'd': 0, 'c': 0},\n",
       "   {'w': 1668297600, 'a': 0, 'd': 0, 'c': 0},\n",
       "   {'w': 1668902400, 'a': 0, 'd': 0, 'c': 0}],\n",
       "  'author': {'login': 'karticn-google',\n",
       "   'id': 110996829,\n",
       "   'node_id': 'U_kgDOBp2tXQ',\n",
       "   'avatar_url': 'https://avatars.githubusercontent.com/u/110996829?v=4',\n",
       "   'gravatar_id': '',\n",
       "   'url': 'https://api.github.com/users/karticn-google',\n",
       "   'html_url': 'https://github.com/karticn-google',\n",
       "   'followers_url': 'https://api.github.com/users/karticn-google/followers',\n",
       "   'following_url': 'https://api.github.com/users/karticn-google/following{/other_user}',\n",
       "   'gists_url': 'https://api.github.com/users/karticn-google/gists{/gist_id}',\n",
       "   'starred_url': 'https://api.github.com/users/karticn-google/starred{/owner}{/repo}',\n",
       "   'subscriptions_url': 'https://api.github.com/users/karticn-google/subscriptions',\n",
       "   'organizations_url': 'https://api.github.com/users/karticn-google/orgs',\n",
       "   'repos_url': 'https://api.github.com/users/karticn-google/repos',\n",
       "   'events_url': 'https://api.github.com/users/karticn-google/events{/privacy}',\n",
       "   'received_events_url': 'https://api.github.com/users/karticn-google/received_events',\n",
       "   'type': 'User',\n",
       "   'site_admin': False}},\n",
       " {'total': 2,\n",
       "  'weeks': [{'w': 1616889600, 'a': 0, 'd': 0, 'c': 0},\n",
       "   {'w': 1617494400, 'a': 0, 'd': 0, 'c': 0},\n",
       "   {'w': 1618099200, 'a': 0, 'd': 0, 'c': 0},\n",
       "   {'w': 1618704000, 'a': 0, 'd': 0, 'c': 0},\n",
       "   {'w': 1619308800, 'a': 0, 'd': 0, 'c': 0},\n",
       "   {'w': 1619913600, 'a': 0, 'd': 0, 'c': 0},\n",
       "   {'w': 1620518400, 'a': 0, 'd': 0, 'c': 0},\n",
       "   {'w': 1621123200, 'a': 0, 'd': 0, 'c': 0},\n",
       "   {'w': 1621728000, 'a': 0, 'd': 0, 'c': 0},\n",
       "   {'w': 1622332800, 'a': 0, 'd': 0, 'c': 0},\n",
       "   {'w': 1622937600, 'a': 0, 'd': 0, 'c': 0},\n",
       "   {'w': 1623542400, 'a': 0, 'd': 0, 'c': 0},\n",
       "   {'w': 1624147200, 'a': 0, 'd': 0, 'c': 0},\n",
       "   {'w': 1624752000, 'a': 0, 'd': 0, 'c': 0},\n",
       "   {'w': 1625356800, 'a': 0, 'd': 0, 'c': 0},\n",
       "   {'w': 1625961600, 'a': 0, 'd': 0, 'c': 0},\n",
       "   {'w': 1626566400, 'a': 0, 'd': 0, 'c': 0},\n",
       "   {'w': 1627171200, 'a': 0, 'd': 0, 'c': 0},\n",
       "   {'w': 1627776000, 'a': 0, 'd': 0, 'c': 0},\n",
       "   {'w': 1628380800, 'a': 0, 'd': 0, 'c': 0},\n",
       "   {'w': 1628985600, 'a': 0, 'd': 0, 'c': 0},\n",
       "   {'w': 1629590400, 'a': 0, 'd': 0, 'c': 0},\n",
       "   {'w': 1630195200, 'a': 0, 'd': 0, 'c': 0},\n",
       "   {'w': 1630800000, 'a': 0, 'd': 0, 'c': 0},\n",
       "   {'w': 1631404800, 'a': 0, 'd': 0, 'c': 0},\n",
       "   {'w': 1632009600, 'a': 0, 'd': 0, 'c': 0},\n",
       "   {'w': 1632614400, 'a': 0, 'd': 0, 'c': 0},\n",
       "   {'w': 1633219200, 'a': 0, 'd': 0, 'c': 0},\n",
       "   {'w': 1633824000, 'a': 0, 'd': 0, 'c': 0},\n",
       "   {'w': 1634428800, 'a': 0, 'd': 0, 'c': 0},\n",
       "   {'w': 1635033600, 'a': 0, 'd': 0, 'c': 0},\n",
       "   {'w': 1635638400, 'a': 0, 'd': 0, 'c': 0},\n",
       "   {'w': 1636243200, 'a': 0, 'd': 0, 'c': 0},\n",
       "   {'w': 1636848000, 'a': 0, 'd': 0, 'c': 0},\n",
       "   {'w': 1637452800, 'a': 0, 'd': 0, 'c': 0},\n",
       "   {'w': 1638057600, 'a': 0, 'd': 0, 'c': 0},\n",
       "   {'w': 1638662400, 'a': 0, 'd': 0, 'c': 0},\n",
       "   {'w': 1639267200, 'a': 0, 'd': 0, 'c': 0},\n",
       "   {'w': 1639872000, 'a': 0, 'd': 0, 'c': 0},\n",
       "   {'w': 1640476800, 'a': 0, 'd': 0, 'c': 0},\n",
       "   {'w': 1641081600, 'a': 0, 'd': 0, 'c': 0},\n",
       "   {'w': 1641686400, 'a': 0, 'd': 0, 'c': 0},\n",
       "   {'w': 1642291200, 'a': 0, 'd': 0, 'c': 0},\n",
       "   {'w': 1642896000, 'a': 0, 'd': 0, 'c': 0},\n",
       "   {'w': 1643500800, 'a': 0, 'd': 0, 'c': 0},\n",
       "   {'w': 1644105600, 'a': 0, 'd': 0, 'c': 0},\n",
       "   {'w': 1644710400, 'a': 0, 'd': 0, 'c': 0},\n",
       "   {'w': 1645315200, 'a': 0, 'd': 0, 'c': 0},\n",
       "   {'w': 1645920000, 'a': 0, 'd': 0, 'c': 0},\n",
       "   {'w': 1646524800, 'a': 0, 'd': 0, 'c': 0},\n",
       "   {'w': 1647129600, 'a': 0, 'd': 0, 'c': 0},\n",
       "   {'w': 1647734400, 'a': 0, 'd': 0, 'c': 0},\n",
       "   {'w': 1648339200, 'a': 0, 'd': 0, 'c': 0},\n",
       "   {'w': 1648944000, 'a': 0, 'd': 0, 'c': 0},\n",
       "   {'w': 1649548800, 'a': 0, 'd': 0, 'c': 0},\n",
       "   {'w': 1650153600, 'a': 0, 'd': 0, 'c': 0},\n",
       "   {'w': 1650758400, 'a': 0, 'd': 0, 'c': 0},\n",
       "   {'w': 1651363200, 'a': 0, 'd': 0, 'c': 0},\n",
       "   {'w': 1651968000, 'a': 0, 'd': 0, 'c': 0},\n",
       "   {'w': 1652572800, 'a': 0, 'd': 0, 'c': 0},\n",
       "   {'w': 1653177600, 'a': 0, 'd': 0, 'c': 0},\n",
       "   {'w': 1653782400, 'a': 0, 'd': 0, 'c': 0},\n",
       "   {'w': 1654387200, 'a': 0, 'd': 0, 'c': 0},\n",
       "   {'w': 1654992000, 'a': 0, 'd': 0, 'c': 0},\n",
       "   {'w': 1655596800, 'a': 0, 'd': 0, 'c': 0},\n",
       "   {'w': 1656201600, 'a': 0, 'd': 0, 'c': 0},\n",
       "   {'w': 1656806400, 'a': 0, 'd': 0, 'c': 0},\n",
       "   {'w': 1657411200, 'a': 0, 'd': 0, 'c': 0},\n",
       "   {'w': 1658016000, 'a': 0, 'd': 0, 'c': 0},\n",
       "   {'w': 1658620800, 'a': 0, 'd': 0, 'c': 0},\n",
       "   {'w': 1659225600, 'a': 0, 'd': 0, 'c': 0},\n",
       "   {'w': 1659830400, 'a': 0, 'd': 0, 'c': 0},\n",
       "   {'w': 1660435200, 'a': 0, 'd': 0, 'c': 0},\n",
       "   {'w': 1661040000, 'a': 0, 'd': 0, 'c': 0},\n",
       "   {'w': 1661644800, 'a': 0, 'd': 0, 'c': 0},\n",
       "   {'w': 1662249600, 'a': 0, 'd': 0, 'c': 0},\n",
       "   {'w': 1662854400, 'a': 0, 'd': 0, 'c': 0},\n",
       "   {'w': 1663459200, 'a': 0, 'd': 0, 'c': 0},\n",
       "   {'w': 1664064000, 'a': 0, 'd': 0, 'c': 0},\n",
       "   {'w': 1664668800, 'a': 0, 'd': 0, 'c': 0},\n",
       "   {'w': 1665273600, 'a': 0, 'd': 0, 'c': 0},\n",
       "   {'w': 1665878400, 'a': 2, 'd': 2, 'c': 2},\n",
       "   {'w': 1666483200, 'a': 0, 'd': 0, 'c': 0},\n",
       "   {'w': 1667088000, 'a': 0, 'd': 0, 'c': 0},\n",
       "   {'w': 1667692800, 'a': 0, 'd': 0, 'c': 0},\n",
       "   {'w': 1668297600, 'a': 0, 'd': 0, 'c': 0},\n",
       "   {'w': 1668902400, 'a': 0, 'd': 0, 'c': 0}],\n",
       "  'author': {'login': 'PavelPetukhov',\n",
       "   'id': 2112085,\n",
       "   'node_id': 'MDQ6VXNlcjIxMTIwODU=',\n",
       "   'avatar_url': 'https://avatars.githubusercontent.com/u/2112085?v=4',\n",
       "   'gravatar_id': '',\n",
       "   'url': 'https://api.github.com/users/PavelPetukhov',\n",
       "   'html_url': 'https://github.com/PavelPetukhov',\n",
       "   'followers_url': 'https://api.github.com/users/PavelPetukhov/followers',\n",
       "   'following_url': 'https://api.github.com/users/PavelPetukhov/following{/other_user}',\n",
       "   'gists_url': 'https://api.github.com/users/PavelPetukhov/gists{/gist_id}',\n",
       "   'starred_url': 'https://api.github.com/users/PavelPetukhov/starred{/owner}{/repo}',\n",
       "   'subscriptions_url': 'https://api.github.com/users/PavelPetukhov/subscriptions',\n",
       "   'organizations_url': 'https://api.github.com/users/PavelPetukhov/orgs',\n",
       "   'repos_url': 'https://api.github.com/users/PavelPetukhov/repos',\n",
       "   'events_url': 'https://api.github.com/users/PavelPetukhov/events{/privacy}',\n",
       "   'received_events_url': 'https://api.github.com/users/PavelPetukhov/received_events',\n",
       "   'type': 'User',\n",
       "   'site_admin': False}},\n",
       " {'total': 440,\n",
       "  'weeks': [{'w': 1616889600, 'a': 0, 'd': 0, 'c': 0},\n",
       "   {'w': 1617494400, 'a': 0, 'd': 0, 'c': 0},\n",
       "   {'w': 1618099200, 'a': 0, 'd': 0, 'c': 0},\n",
       "   {'w': 1618704000, 'a': 1097, 'd': 604, 'c': 2},\n",
       "   {'w': 1619308800, 'a': 0, 'd': 0, 'c': 0},\n",
       "   {'w': 1619913600, 'a': 0, 'd': 0, 'c': 0},\n",
       "   {'w': 1620518400, 'a': 0, 'd': 0, 'c': 0},\n",
       "   {'w': 1621123200, 'a': 0, 'd': 0, 'c': 0},\n",
       "   {'w': 1621728000, 'a': 0, 'd': 0, 'c': 0},\n",
       "   {'w': 1622332800, 'a': 0, 'd': 0, 'c': 0},\n",
       "   {'w': 1622937600, 'a': 0, 'd': 0, 'c': 0},\n",
       "   {'w': 1623542400, 'a': 0, 'd': 0, 'c': 0},\n",
       "   {'w': 1624147200, 'a': 0, 'd': 0, 'c': 0},\n",
       "   {'w': 1624752000, 'a': 0, 'd': 0, 'c': 0},\n",
       "   {'w': 1625356800, 'a': 0, 'd': 0, 'c': 0},\n",
       "   {'w': 1625961600, 'a': 9, 'd': 12, 'c': 1},\n",
       "   {'w': 1626566400, 'a': 0, 'd': 0, 'c': 0},\n",
       "   {'w': 1627171200, 'a': 0, 'd': 0, 'c': 0},\n",
       "   {'w': 1627776000, 'a': 0, 'd': 0, 'c': 0},\n",
       "   {'w': 1628380800, 'a': 0, 'd': 0, 'c': 0},\n",
       "   {'w': 1628985600, 'a': 0, 'd': 0, 'c': 0},\n",
       "   {'w': 1629590400, 'a': 0, 'd': 0, 'c': 0},\n",
       "   {'w': 1630195200, 'a': 10777, 'd': 6390, 'c': 6},\n",
       "   {'w': 1630800000, 'a': 400423, 'd': 206756, 'c': 8},\n",
       "   {'w': 1631404800, 'a': 0, 'd': 0, 'c': 0},\n",
       "   {'w': 1632009600, 'a': 1128, 'd': 742, 'c': 3},\n",
       "   {'w': 1632614400, 'a': 1370, 'd': 1244, 'c': 9},\n",
       "   {'w': 1633219200, 'a': 2047, 'd': 715, 'c': 4},\n",
       "   {'w': 1633824000, 'a': 2705, 'd': 2357, 'c': 14},\n",
       "   {'w': 1634428800, 'a': 37, 'd': 62, 'c': 5},\n",
       "   {'w': 1635033600, 'a': 207, 'd': 161, 'c': 3},\n",
       "   {'w': 1635638400, 'a': 0, 'd': 0, 'c': 0},\n",
       "   {'w': 1636243200, 'a': 0, 'd': 0, 'c': 0},\n",
       "   {'w': 1636848000, 'a': 0, 'd': 0, 'c': 0},\n",
       "   {'w': 1637452800, 'a': 134, 'd': 139, 'c': 1},\n",
       "   {'w': 1638057600, 'a': 3731, 'd': 3358, 'c': 5},\n",
       "   {'w': 1638662400, 'a': 287, 'd': 296, 'c': 3},\n",
       "   {'w': 1639267200, 'a': 0, 'd': 0, 'c': 0},\n",
       "   {'w': 1639872000, 'a': 0, 'd': 0, 'c': 0},\n",
       "   {'w': 1640476800, 'a': 0, 'd': 0, 'c': 0},\n",
       "   {'w': 1641081600, 'a': 839, 'd': 973, 'c': 22},\n",
       "   {'w': 1641686400, 'a': 0, 'd': 0, 'c': 0},\n",
       "   {'w': 1642291200, 'a': 0, 'd': 0, 'c': 0},\n",
       "   {'w': 1642896000, 'a': 922, 'd': 391, 'c': 4},\n",
       "   {'w': 1643500800, 'a': 360, 'd': 259, 'c': 3},\n",
       "   {'w': 1644105600, 'a': 3111, 'd': 3186, 'c': 12},\n",
       "   {'w': 1644710400, 'a': 1816, 'd': 431, 'c': 5},\n",
       "   {'w': 1645315200, 'a': 1485, 'd': 354, 'c': 2},\n",
       "   {'w': 1645920000, 'a': 0, 'd': 0, 'c': 0},\n",
       "   {'w': 1646524800, 'a': 227785, 'd': 204152, 'c': 10},\n",
       "   {'w': 1647129600, 'a': 23017, 'd': 2144, 'c': 14},\n",
       "   {'w': 1647734400, 'a': 2431, 'd': 1477, 'c': 5},\n",
       "   {'w': 1648339200, 'a': 0, 'd': 0, 'c': 0},\n",
       "   {'w': 1648944000, 'a': 0, 'd': 0, 'c': 0},\n",
       "   {'w': 1649548800, 'a': 0, 'd': 0, 'c': 0},\n",
       "   {'w': 1650153600, 'a': 0, 'd': 0, 'c': 0},\n",
       "   {'w': 1650758400, 'a': 0, 'd': 0, 'c': 0},\n",
       "   {'w': 1651363200, 'a': 0, 'd': 0, 'c': 0},\n",
       "   {'w': 1651968000, 'a': 0, 'd': 0, 'c': 0},\n",
       "   {'w': 1652572800, 'a': 0, 'd': 0, 'c': 0},\n",
       "   {'w': 1653177600, 'a': 2604, 'd': 0, 'c': 1},\n",
       "   {'w': 1653782400, 'a': 0, 'd': 0, 'c': 0},\n",
       "   {'w': 1654387200, 'a': 0, 'd': 0, 'c': 0},\n",
       "   {'w': 1654992000, 'a': 0, 'd': 0, 'c': 0},\n",
       "   {'w': 1655596800, 'a': 715, 'd': 508, 'c': 2},\n",
       "   {'w': 1656201600, 'a': 1017, 'd': 1059, 'c': 3},\n",
       "   {'w': 1656806400, 'a': 1220, 'd': 1139, 'c': 3},\n",
       "   {'w': 1657411200, 'a': 0, 'd': 0, 'c': 0},\n",
       "   {'w': 1658016000, 'a': 0, 'd': 0, 'c': 0},\n",
       "   {'w': 1658620800, 'a': 15401, 'd': 6211, 'c': 11},\n",
       "   {'w': 1659225600, 'a': 13729, 'd': 7770, 'c': 10},\n",
       "   {'w': 1659830400, 'a': 4109, 'd': 3276, 'c': 14},\n",
       "   {'w': 1660435200, 'a': 13539, 'd': 8089, 'c': 10},\n",
       "   {'w': 1661040000, 'a': 164027, 'd': 143876, 'c': 17},\n",
       "   {'w': 1661644800, 'a': 159169, 'd': 266, 'c': 2},\n",
       "   {'w': 1662249600, 'a': 49163, 'd': 32089, 'c': 5},\n",
       "   {'w': 1662854400, 'a': 67894, 'd': 65551, 'c': 27},\n",
       "   {'w': 1663459200, 'a': 13432, 'd': 4092, 'c': 34},\n",
       "   {'w': 1664064000, 'a': 33216, 'd': 29621, 'c': 23},\n",
       "   {'w': 1664668800, 'a': 405573, 'd': 389656, 'c': 29},\n",
       "   {'w': 1665273600, 'a': 35192, 'd': 15185, 'c': 46},\n",
       "   {'w': 1665878400, 'a': 2933, 'd': 1082, 'c': 12},\n",
       "   {'w': 1666483200, 'a': 14284, 'd': 14608, 'c': 13},\n",
       "   {'w': 1667088000, 'a': 8105, 'd': 3299, 'c': 10},\n",
       "   {'w': 1667692800, 'a': 14575, 'd': 2658, 'c': 12},\n",
       "   {'w': 1668297600, 'a': 4048, 'd': 1256, 'c': 6},\n",
       "   {'w': 1668902400, 'a': 3521, 'd': 347, 'c': 9}],\n",
       "  'author': {'login': 'statmike',\n",
       "   'id': 17235991,\n",
       "   'node_id': 'MDQ6VXNlcjE3MjM1OTkx',\n",
       "   'avatar_url': 'https://avatars.githubusercontent.com/u/17235991?v=4',\n",
       "   'gravatar_id': '',\n",
       "   'url': 'https://api.github.com/users/statmike',\n",
       "   'html_url': 'https://github.com/statmike',\n",
       "   'followers_url': 'https://api.github.com/users/statmike/followers',\n",
       "   'following_url': 'https://api.github.com/users/statmike/following{/other_user}',\n",
       "   'gists_url': 'https://api.github.com/users/statmike/gists{/gist_id}',\n",
       "   'starred_url': 'https://api.github.com/users/statmike/starred{/owner}{/repo}',\n",
       "   'subscriptions_url': 'https://api.github.com/users/statmike/subscriptions',\n",
       "   'organizations_url': 'https://api.github.com/users/statmike/orgs',\n",
       "   'repos_url': 'https://api.github.com/users/statmike/repos',\n",
       "   'events_url': 'https://api.github.com/users/statmike/events{/privacy}',\n",
       "   'received_events_url': 'https://api.github.com/users/statmike/received_events',\n",
       "   'type': 'User',\n",
       "   'site_admin': False}}]"
      ]
     },
     "execution_count": 39,
     "metadata": {},
     "output_type": "execute_result"
    }
   ],
   "source": [
    "# list of dict for each author with 52 week data: total alltime, week list [week timestamp, additions, deletions, commits], author info\n",
    "response = requests.get(f'{github_api_url}/stats/contributors', headers = {'Authorization': f'Bearer {pat}', 'Accept': 'application/vnd.github+json'})\n",
    "\n",
    "while response.status_code == 202:\n",
    "    time.sleep(30)\n",
    "    response = requests.get(f'{github_api_url}/stats/contributors', headers = {'Authorization': f'Bearer {pat}', 'Accept': 'application/vnd.github+json'})\n",
    "    \n",
    "json.loads(response.text)"
   ]
  },
  {
   "cell_type": "markdown",
   "id": "e79a859d-f469-4867-8150-6c1f4f65b693",
   "metadata": {},
   "source": [
    "---\n",
    "### Review metrics: Statistics - Weekly Contributor Commit Activity \n",
    "- a very summarized view of the above the looks at just commit counts by two contributor groups: owner, all.  Non-owner commits can be calculated by subtraction."
   ]
  },
  {
   "cell_type": "code",
   "execution_count": 40,
   "id": "dd9eff6d-a863-4e4a-b757-ec5a93e9b1f8",
   "metadata": {},
   "outputs": [
    {
     "data": {
      "text/plain": [
       "{'all': [5,\n",
       "  3,\n",
       "  0,\n",
       "  0,\n",
       "  0,\n",
       "  21,\n",
       "  1,\n",
       "  0,\n",
       "  2,\n",
       "  6,\n",
       "  11,\n",
       "  6,\n",
       "  2,\n",
       "  0,\n",
       "  9,\n",
       "  14,\n",
       "  9,\n",
       "  0,\n",
       "  13,\n",
       "  4,\n",
       "  2,\n",
       "  0,\n",
       "  1,\n",
       "  0,\n",
       "  1,\n",
       "  12,\n",
       "  3,\n",
       "  0,\n",
       "  0,\n",
       "  2,\n",
       "  3,\n",
       "  3,\n",
       "  0,\n",
       "  0,\n",
       "  10,\n",
       "  9,\n",
       "  15,\n",
       "  10,\n",
       "  9,\n",
       "  12,\n",
       "  2,\n",
       "  22,\n",
       "  34,\n",
       "  30,\n",
       "  29,\n",
       "  45,\n",
       "  17,\n",
       "  11,\n",
       "  13,\n",
       "  13,\n",
       "  7,\n",
       "  6],\n",
       " 'owner': [5,\n",
       "  3,\n",
       "  0,\n",
       "  0,\n",
       "  0,\n",
       "  21,\n",
       "  1,\n",
       "  0,\n",
       "  2,\n",
       "  6,\n",
       "  11,\n",
       "  6,\n",
       "  2,\n",
       "  0,\n",
       "  9,\n",
       "  14,\n",
       "  8,\n",
       "  0,\n",
       "  0,\n",
       "  0,\n",
       "  0,\n",
       "  0,\n",
       "  0,\n",
       "  0,\n",
       "  0,\n",
       "  1,\n",
       "  1,\n",
       "  0,\n",
       "  0,\n",
       "  2,\n",
       "  3,\n",
       "  3,\n",
       "  0,\n",
       "  0,\n",
       "  10,\n",
       "  9,\n",
       "  15,\n",
       "  10,\n",
       "  9,\n",
       "  12,\n",
       "  2,\n",
       "  22,\n",
       "  34,\n",
       "  30,\n",
       "  29,\n",
       "  45,\n",
       "  15,\n",
       "  10,\n",
       "  13,\n",
       "  12,\n",
       "  6,\n",
       "  6]}"
      ]
     },
     "execution_count": 40,
     "metadata": {},
     "output_type": "execute_result"
    }
   ],
   "source": [
    "# total commit counts for all and owner as list for last 52 weeks (index=0 is oldest week, to most recent)\n",
    "response = requests.get(f'{github_api_url}/stats/participation', headers = {'Authorization': f'Bearer {pat}', 'Accept': 'application/vnd.github+json'})\n",
    "\n",
    "#while response.status_code == 202:\n",
    "#    time.sleep(30)\n",
    "#    response = requests.get(f'{github_api_url}/stats/participation', headers = {'Authorization': f'Bearer {pat}', 'Accept': 'application/vnd.github+json'})\n",
    "    \n",
    "json.loads(response.text)"
   ]
  },
  {
   "cell_type": "markdown",
   "id": "07f8e422-a70d-4073-8328-50d6f7d20d19",
   "metadata": {},
   "source": [
    "---\n",
    "### Review metrics: Traffic - Clones"
   ]
  },
  {
   "cell_type": "code",
   "execution_count": 41,
   "id": "c05fe328-91d0-486f-96cc-8669872fd945",
   "metadata": {},
   "outputs": [
    {
     "data": {
      "text/plain": [
       "{'count': 49,\n",
       " 'uniques': 39,\n",
       " 'clones': [{'timestamp': '2022-11-12T00:00:00Z', 'count': 2, 'uniques': 2},\n",
       "  {'timestamp': '2022-11-13T00:00:00Z', 'count': 2, 'uniques': 1},\n",
       "  {'timestamp': '2022-11-14T00:00:00Z', 'count': 15, 'uniques': 11},\n",
       "  {'timestamp': '2022-11-15T00:00:00Z', 'count': 3, 'uniques': 3},\n",
       "  {'timestamp': '2022-11-16T00:00:00Z', 'count': 2, 'uniques': 2},\n",
       "  {'timestamp': '2022-11-17T00:00:00Z', 'count': 2, 'uniques': 2},\n",
       "  {'timestamp': '2022-11-18T00:00:00Z', 'count': 3, 'uniques': 3},\n",
       "  {'timestamp': '2022-11-19T00:00:00Z', 'count': 3, 'uniques': 3},\n",
       "  {'timestamp': '2022-11-20T00:00:00Z', 'count': 2, 'uniques': 2},\n",
       "  {'timestamp': '2022-11-21T00:00:00Z', 'count': 7, 'uniques': 5},\n",
       "  {'timestamp': '2022-11-22T00:00:00Z', 'count': 2, 'uniques': 1},\n",
       "  {'timestamp': '2022-11-23T00:00:00Z', 'count': 1, 'uniques': 1},\n",
       "  {'timestamp': '2022-11-24T00:00:00Z', 'count': 1, 'uniques': 1},\n",
       "  {'timestamp': '2022-11-25T00:00:00Z', 'count': 4, 'uniques': 3}]}"
      ]
     },
     "execution_count": 41,
     "metadata": {},
     "output_type": "execute_result"
    }
   ],
   "source": [
    "# clone stats for last 14 days\n",
    "response = requests.get(f'{github_api_url}/traffic/clones', headers = {'Authorization': f'Bearer {pat}', 'Accept': 'application/vnd.github+json'})\n",
    "json.loads(response.text)"
   ]
  },
  {
   "cell_type": "markdown",
   "id": "e2a59bb1-0e51-4478-a104-6dd61b1b954a",
   "metadata": {},
   "source": [
    "---\n",
    "### Review metrics: Traffic - Top 10 Content"
   ]
  },
  {
   "cell_type": "code",
   "execution_count": 42,
   "id": "82e10c8b-1ec0-4861-95cd-fe4b1ed7b16a",
   "metadata": {},
   "outputs": [
    {
     "data": {
      "text/plain": [
       "[{'path': '/statmike/vertex-ai-mlops',\n",
       "  'title': 'statmike/vertex-ai-mlops: Google Cloud Platform Vertex AI end-to-end workflow...',\n",
       "  'count': 435,\n",
       "  'uniques': 185},\n",
       " {'path': '/statmike/vertex-ai-mlops/tree/main/02%20-%20Vertex%20AI%20AutoML',\n",
       "  'title': 'vertex-ai-mlops/02 - Vertex AI AutoML at main · statmike/vertex-ai-mlops · Gi...',\n",
       "  'count': 74,\n",
       "  'uniques': 38},\n",
       " {'path': '/statmike/vertex-ai-mlops/tree/main/00%20-%20Setup',\n",
       "  'title': 'vertex-ai-mlops/00 - Setup at main · statmike/vertex-ai-mlops · GitHub',\n",
       "  'count': 57,\n",
       "  'uniques': 33},\n",
       " {'path': '/statmike/vertex-ai-mlops/tree/main/05%20-%20TensorFlow',\n",
       "  'title': 'vertex-ai-mlops/05 - TensorFlow at main · statmike/vertex-ai-mlops · GitHub',\n",
       "  'count': 55,\n",
       "  'uniques': 32},\n",
       " {'path': '/statmike/vertex-ai-mlops/blob/main/00%20-%20Setup/00%20-%20Environment%20Setup.ipynb',\n",
       "  'title': 'vertex-ai-mlops/00 - Environment Setup.ipynb at main · statmike/vertex-ai-mlops',\n",
       "  'count': 46,\n",
       "  'uniques': 28},\n",
       " {'path': '/statmike/vertex-ai-mlops/tree/main/01%20-%20Data%20Sources',\n",
       "  'title': 'vertex-ai-mlops/01 - Data Sources at main · statmike/vertex-ai-mlops · GitHub',\n",
       "  'count': 44,\n",
       "  'uniques': 27},\n",
       " {'path': '/statmike/vertex-ai-mlops/blob/main/02%20-%20Vertex%20AI%20AutoML/02a%20-%20Vertex%20AI%20-%20AutoML%20in%20GCP%20Console%20(no%20code).ipynb',\n",
       "  'title': 'vertex-ai-mlops/02a - Vertex AI - AutoML in GCP Console (no code).ipynb at ma...',\n",
       "  'count': 43,\n",
       "  'uniques': 27},\n",
       " {'path': '/statmike/vertex-ai-mlops/tree/main/03%20-%20BigQuery%20ML%20(BQML)',\n",
       "  'title': 'vertex-ai-mlops/03 - BigQuery ML (BQML) at main · statmike/vertex-ai-mlops · ...',\n",
       "  'count': 42,\n",
       "  'uniques': 23},\n",
       " {'path': '/statmike/vertex-ai-mlops/blob/main/02%20-%20Vertex%20AI%20AutoML/02c%20-%20Vertex%20AI%20%3E%20Pipelines%20-%20AutoML%20with%20clients%20(code)%20In%20automated%20pipeline.ipynb',\n",
       "  'title': 'vertex-ai-mlops/02c - Vertex AI > Pipelines - AutoML with clients (code) In a...',\n",
       "  'count': 40,\n",
       "  'uniques': 13},\n",
       " {'path': '/statmike/vertex-ai-mlops/tree/main/04%20-%20scikit-learn',\n",
       "  'title': 'vertex-ai-mlops/04 - scikit-learn at main · statmike/vertex-ai-mlops · GitHub',\n",
       "  'count': 38,\n",
       "  'uniques': 23}]"
      ]
     },
     "execution_count": 42,
     "metadata": {},
     "output_type": "execute_result"
    }
   ],
   "source": [
    "# top 10 popular content for previous 14 days\n",
    "response = requests.get(f'{github_api_url}/traffic/popular/paths', headers = {'Authorization': f'Bearer {pat}', 'Accept': 'application/vnd.github+json'})\n",
    "json.loads(response.text)"
   ]
  },
  {
   "cell_type": "markdown",
   "id": "ab599d3e-3714-425f-b9f8-4f8cdac5e89f",
   "metadata": {},
   "source": [
    "---\n",
    "### Review metrics: Traffic - Top 10 Referral Sources"
   ]
  },
  {
   "cell_type": "code",
   "execution_count": 43,
   "id": "f0c4567a-c759-41ba-b903-bf5f4f045d53",
   "metadata": {},
   "outputs": [
    {
     "data": {
      "text/plain": [
       "[{'referrer': 'youtube.com', 'count': 325, 'uniques': 75},\n",
       " {'referrer': 'github.com', 'count': 221, 'uniques': 38},\n",
       " {'referrer': 'Google', 'count': 146, 'uniques': 54},\n",
       " {'referrer': 'notebooks.githubusercontent.com', 'count': 25, 'uniques': 13},\n",
       " {'referrer': 'art-analytics.appspot.com', 'count': 7, 'uniques': 2},\n",
       " {'referrer': 'statics.teams.cdn.office.net', 'count': 4, 'uniques': 2},\n",
       " {'referrer': 'm.facebook.com', 'count': 3, 'uniques': 1}]"
      ]
     },
     "execution_count": 43,
     "metadata": {},
     "output_type": "execute_result"
    }
   ],
   "source": [
    "# top 10 referral sources for last 14 days\n",
    "response = requests.get(f'{github_api_url}/traffic/popular/referrers', headers = {'Authorization': f'Bearer {pat}', 'Accept': 'application/vnd.github+json'})\n",
    "json.loads(response.text)"
   ]
  },
  {
   "cell_type": "markdown",
   "id": "64d4064d-233e-4794-bc87-6bfd21b72899",
   "metadata": {},
   "source": [
    "---\n",
    "### Review metrics: Traffic - Page Views"
   ]
  },
  {
   "cell_type": "code",
   "execution_count": 153,
   "id": "cb5bcdcc-3d2c-464a-b4d5-2bc6cdd3f77d",
   "metadata": {},
   "outputs": [
    {
     "data": {
      "text/plain": [
       "{'count': 1524,\n",
       " 'uniques': 253,\n",
       " 'views': [{'timestamp': '2022-11-13T00:00:00Z', 'count': 44, 'uniques': 12},\n",
       "  {'timestamp': '2022-11-14T00:00:00Z', 'count': 123, 'uniques': 35},\n",
       "  {'timestamp': '2022-11-15T00:00:00Z', 'count': 150, 'uniques': 33},\n",
       "  {'timestamp': '2022-11-16T00:00:00Z', 'count': 128, 'uniques': 32},\n",
       "  {'timestamp': '2022-11-17T00:00:00Z', 'count': 166, 'uniques': 41},\n",
       "  {'timestamp': '2022-11-18T00:00:00Z', 'count': 74, 'uniques': 31},\n",
       "  {'timestamp': '2022-11-19T00:00:00Z', 'count': 89, 'uniques': 13},\n",
       "  {'timestamp': '2022-11-20T00:00:00Z', 'count': 147, 'uniques': 20},\n",
       "  {'timestamp': '2022-11-21T00:00:00Z', 'count': 141, 'uniques': 29},\n",
       "  {'timestamp': '2022-11-22T00:00:00Z', 'count': 78, 'uniques': 20},\n",
       "  {'timestamp': '2022-11-23T00:00:00Z', 'count': 74, 'uniques': 21},\n",
       "  {'timestamp': '2022-11-24T00:00:00Z', 'count': 156, 'uniques': 34},\n",
       "  {'timestamp': '2022-11-25T00:00:00Z', 'count': 108, 'uniques': 19},\n",
       "  {'timestamp': '2022-11-26T00:00:00Z', 'count': 29, 'uniques': 10},\n",
       "  {'timestamp': '2022-11-27T00:00:00Z', 'count': 17, 'uniques': 2}]}"
      ]
     },
     "execution_count": 153,
     "metadata": {},
     "output_type": "execute_result"
    }
   ],
   "source": [
    "# number of views for last 14 days\n",
    "response = requests.get(f'{github_api_url}/traffic/views', headers = {'Authorization': f'Bearer {pat}', 'Accept': 'application/vnd.github+json'})\n",
    "json.loads(response.text)"
   ]
  },
  {
   "cell_type": "markdown",
   "id": "8f37f0c2-927b-407e-8c9f-7c2f685775c3",
   "metadata": {},
   "source": [
    "---\n",
    "## IDEA\n",
    "\n",
    "- Cloud Sheduler > PubSub > Cloud Function\n",
    "    - Get Secret for PAT\n",
    "    - Fetch from GitHub API\n",
    "    - Store in BigQuery\n",
    "    - Create Pub/Sub Topic\n",
    "    - Create Cloud Schedular for each night 4AM to trigger Pub/Sub Topic\n",
    "    - Write Cloud Function subscribed to Pub/Sub Topic that updates tables each night: insert, append\n",
    "    - Trigger DataForm ELT process"
   ]
  },
  {
   "cell_type": "markdown",
   "id": "0894a5cb-2891-40a7-95cc-05106a0c889f",
   "metadata": {},
   "source": [
    "---\n",
    "### Collect Metrics\n",
    "\n",
    "Create a json object that stores the returns from the api calls:"
   ]
  },
  {
   "cell_type": "code",
   "execution_count": 222,
   "id": "2efee8ab-b569-47c9-8045-56b01170b89d",
   "metadata": {},
   "outputs": [],
   "source": [
    "current_datetime = datetime.now()\n",
    "\n",
    "paths = ['community/profile', 'stats/code_frequency', 'stats/commit_activity', 'stats/contributors', 'stats/participation', 'traffic/clones', 'traffic/popular/paths', 'traffic/popular/referrers', 'traffic/views']\n",
    "\n",
    "responses = {\n",
    "    'collect_time': current_datetime.strftime(\"%Y-%m-%dT%H:%M:%SZ\"),\n",
    "    'github_user': github_user,\n",
    "    'github_repo': github_repo\n",
    "}"
   ]
  },
  {
   "cell_type": "code",
   "execution_count": 223,
   "id": "b1343e30-3811-4806-bda7-138e23f87e64",
   "metadata": {},
   "outputs": [],
   "source": [
    "for path in paths:\n",
    "    response = requests.get(f'{github_api_url}/{path}', headers = {'Authorization': f'Bearer {pat}', 'Accept': 'application/vnd.github+json'})\n",
    "\n",
    "    while response.status_code == 202:\n",
    "        time.sleep(30)\n",
    "        response = requests.get(f'{github_api_url}/{path}', headers = {'Authorization': f'Bearer {pat}', 'Accept': 'application/vnd.github+json'})\n",
    "\n",
    "    if path == 'stats/code_frequency':\n",
    "        responses[path.replace('/', '_')] = {'response': [{'week': v[0], 'additions': v[1], 'deletions': v[2]} for v in json.loads(response.text)]}\n",
    "    else:\n",
    "        responses[path.replace('/', '_')] = {'response': json.loads(response.text)}"
   ]
  },
  {
   "cell_type": "markdown",
   "id": "d784a7f9-9439-46c0-9497-a91c1c32f1ed",
   "metadata": {
    "tags": []
   },
   "source": [
    "---\n",
    "### Write to File"
   ]
  },
  {
   "cell_type": "code",
   "execution_count": 224,
   "id": "73467745-9fc7-4e98-a8ce-43654d2d00b1",
   "metadata": {},
   "outputs": [],
   "source": [
    "with open(f\"{DIR}/responses_{current_datetime.strftime('%Y%m%d%H%M%S')}.json\",'w') as file:\n",
    "    json.dump(responses, file)"
   ]
  },
  {
   "cell_type": "markdown",
   "id": "a95b00d2-3802-4028-9920-fb87812594ed",
   "metadata": {},
   "source": [
    "---\n",
    "### Store in GCS"
   ]
  },
  {
   "cell_type": "code",
   "execution_count": 225,
   "id": "ec66a834-a660-4a48-9bf8-f176d9b8ae5e",
   "metadata": {},
   "outputs": [],
   "source": [
    "bucket = gcs.bucket(PROJECT_ID)\n",
    "blob = bucket.blob(f\"architectures/tracking/responses_{current_datetime.strftime('%Y%m%d%H%M%S')}.json\")\n",
    "blob.upload_from_filename(f\"{DIR}/responses_{current_datetime.strftime('%Y%m%d%H%M%S')}.json\")"
   ]
  },
  {
   "cell_type": "code",
   "execution_count": 226,
   "id": "e9484eaa-fe4e-4a73-a904-3245819ed177",
   "metadata": {},
   "outputs": [
    {
     "data": {
      "text/plain": [
       "[<Blob: statmike-mlops-349915, architectures/tracking/responses_20221127032906.json, 1669519749193090>]"
      ]
     },
     "execution_count": 226,
     "metadata": {},
     "output_type": "execute_result"
    }
   ],
   "source": [
    "list(bucket.list_blobs(prefix = 'architectures/tracking'))"
   ]
  },
  {
   "cell_type": "code",
   "execution_count": 227,
   "id": "59d617a7-93e8-482c-8e88-71c87d4d6658",
   "metadata": {},
   "outputs": [
    {
     "data": {
      "text/plain": [
       "'statmike-mlops-349915'"
      ]
     },
     "execution_count": 227,
     "metadata": {},
     "output_type": "execute_result"
    }
   ],
   "source": [
    "bucket.name"
   ]
  },
  {
   "cell_type": "code",
   "execution_count": 228,
   "id": "ef01a29e-bb7a-4368-890a-8c40958dcb75",
   "metadata": {},
   "outputs": [
    {
     "data": {
      "text/plain": [
       "'architectures/tracking/responses_20221127032906.json'"
      ]
     },
     "execution_count": 228,
     "metadata": {},
     "output_type": "execute_result"
    }
   ],
   "source": [
    "blob.name"
   ]
  },
  {
   "cell_type": "markdown",
   "id": "a34c028c-3ff2-45d4-96fc-f04d015c7196",
   "metadata": {},
   "source": [
    "---\n",
    "### Create BigQuery Dataset"
   ]
  },
  {
   "cell_type": "code",
   "execution_count": 229,
   "id": "bfedf21e-0ce0-4309-a349-97eae972ad80",
   "metadata": {},
   "outputs": [],
   "source": [
    "ds = bigquery.Dataset(f\"{PROJECT_ID}.github_api\")\n",
    "ds.location = 'us' #REGION\n",
    "ds = bq.create_dataset(dataset = ds, exists_ok = True)"
   ]
  },
  {
   "cell_type": "code",
   "execution_count": 230,
   "id": "1d9e6413-0402-4bca-86d8-fdc30f8582b0",
   "metadata": {},
   "outputs": [
    {
     "data": {
      "text/plain": [
       "'github_api'"
      ]
     },
     "execution_count": 230,
     "metadata": {},
     "output_type": "execute_result"
    }
   ],
   "source": [
    "ds.dataset_id"
   ]
  },
  {
   "cell_type": "code",
   "execution_count": 231,
   "id": "c704ec7a-a0ac-4369-b92c-19877daecb2b",
   "metadata": {},
   "outputs": [
    {
     "data": {
      "text/plain": [
       "'statmike-mlops-349915:github_api'"
      ]
     },
     "execution_count": 231,
     "metadata": {},
     "output_type": "execute_result"
    }
   ],
   "source": [
    "ds.full_dataset_id"
   ]
  },
  {
   "cell_type": "markdown",
   "id": "699c13ab-7ac0-4b0b-b2c8-c02c14095780",
   "metadata": {},
   "source": [
    "---\n",
    "### Create/Replace BigQuery Table\n",
    "\n",
    "With time partition on collect_time"
   ]
  },
  {
   "cell_type": "code",
   "execution_count": 237,
   "id": "ce0a5e26-ba37-4d60-8b8f-0eb78d93b2b2",
   "metadata": {},
   "outputs": [
    {
     "data": {
      "text/plain": [
       "LoadJob<project=statmike-mlops-349915, location=US, id=22e62465-4065-45d5-b81d-af638eab1d68>"
      ]
     },
     "execution_count": 237,
     "metadata": {},
     "output_type": "execute_result"
    }
   ],
   "source": [
    "destination = bigquery.TableReference.from_string(f\"{PROJECT_ID}.{ds.dataset_id}.raw\")\n",
    "job_config = bigquery.LoadJobConfig(\n",
    "    write_disposition = 'WRITE_TRUNCATE', # WRITE_EMPTY, WRITE_APPEND\n",
    "    source_format = bigquery.SourceFormat.NEWLINE_DELIMITED_JSON,\n",
    "    autodetect = True,\n",
    "    time_partitioning = bigquery.table.TimePartitioning(field='collect_time')\n",
    ")\n",
    "job = bq.load_table_from_uri(f\"gs://{bucket.name}/{blob.name}\", destination, job_config = job_config)\n",
    "job.result()"
   ]
  },
  {
   "cell_type": "code",
   "execution_count": 238,
   "id": "76c849ff-731d-4a01-833b-58eaa22d4be5",
   "metadata": {},
   "outputs": [],
   "source": [
    "job.errors"
   ]
  },
  {
   "cell_type": "markdown",
   "id": "2ebfdfab-4c1e-4a32-baf5-f786a05c7159",
   "metadata": {},
   "source": [
    "---\n",
    "### Collect Metrics Again + Save to File + Store in GCS"
   ]
  },
  {
   "cell_type": "code",
   "execution_count": 239,
   "id": "16b96b80-549b-4b1e-a234-1baaf4a8b507",
   "metadata": {},
   "outputs": [],
   "source": [
    "current_datetime = datetime.now()\n",
    "\n",
    "paths = ['community/profile', 'stats/code_frequency', 'stats/commit_activity', 'stats/contributors', 'stats/participation', 'traffic/clones', 'traffic/popular/paths', 'traffic/popular/referrers', 'traffic/views']\n",
    "\n",
    "responses = {\n",
    "    'collect_time': current_datetime.strftime(\"%Y-%m-%dT%H:%M:%SZ\"),\n",
    "    'github_user': github_user,\n",
    "    'github_repo': github_repo\n",
    "}"
   ]
  },
  {
   "cell_type": "code",
   "execution_count": 240,
   "id": "c5cfb69b-206d-4402-9897-490e07becb02",
   "metadata": {},
   "outputs": [],
   "source": [
    "for path in paths:\n",
    "    response = requests.get(f'{github_api_url}/{path}', headers = {'Authorization': f'Bearer {pat}', 'Accept': 'application/vnd.github+json'})\n",
    "\n",
    "    while response.status_code == 202:\n",
    "        time.sleep(30)\n",
    "        response = requests.get(f'{github_api_url}/{path}', headers = {'Authorization': f'Bearer {pat}', 'Accept': 'application/vnd.github+json'})\n",
    "\n",
    "    if path == 'stats/code_frequency':\n",
    "        responses[path.replace('/', '_')] = {'response': [{'week': v[0], 'additions': v[1], 'deletions': v[2]} for v in json.loads(response.text)]}\n",
    "    else:\n",
    "        responses[path.replace('/', '_')] = {'response': json.loads(response.text)}"
   ]
  },
  {
   "cell_type": "code",
   "execution_count": 241,
   "id": "37e2e54f-6a31-44ae-ad52-403f366ec7c8",
   "metadata": {},
   "outputs": [],
   "source": [
    "with open(f\"{DIR}/responses_{current_datetime.strftime('%Y%m%d%H%M%S')}.json\",'w') as file:\n",
    "    json.dump(responses, file)"
   ]
  },
  {
   "cell_type": "code",
   "execution_count": 242,
   "id": "04a8a490-5d56-480f-b7ec-752fbf827989",
   "metadata": {},
   "outputs": [],
   "source": [
    "bucket = gcs.bucket(PROJECT_ID)\n",
    "blob = bucket.blob(f\"architectures/tracking/responses_{current_datetime.strftime('%Y%m%d%H%M%S')}.json\")\n",
    "blob.upload_from_filename(f\"{DIR}/responses_{current_datetime.strftime('%Y%m%d%H%M%S')}.json\")"
   ]
  },
  {
   "cell_type": "markdown",
   "id": "21ed4a01-e1d4-410b-9290-88a2bd5f9bef",
   "metadata": {},
   "source": [
    "---\n",
    "### Append Metrics to BigQuery Table"
   ]
  },
  {
   "cell_type": "code",
   "execution_count": 243,
   "id": "e3b91083-bfcb-4fd3-9988-61cbc8cb30cc",
   "metadata": {},
   "outputs": [
    {
     "data": {
      "text/plain": [
       "LoadJob<project=statmike-mlops-349915, location=US, id=99fe7d8d-6f9e-4d49-bfe9-2b696d7bcbc8>"
      ]
     },
     "execution_count": 243,
     "metadata": {},
     "output_type": "execute_result"
    }
   ],
   "source": [
    "destination = bigquery.TableReference.from_string(f\"{PROJECT_ID}.{ds.dataset_id}.raw\")\n",
    "job_config = bigquery.LoadJobConfig(\n",
    "    write_disposition = 'WRITE_APPEND', # WRITE_EMPTY, WRITE_APPEND\n",
    "    source_format = bigquery.SourceFormat.NEWLINE_DELIMITED_JSON,\n",
    "    autodetect = True\n",
    ")\n",
    "job = bq.load_table_from_uri(f\"gs://{bucket.name}/{blob.name}\", destination, job_config = job_config)\n",
    "job.result()"
   ]
  },
  {
   "cell_type": "code",
   "execution_count": null,
   "id": "3627a6dc-7d2a-4145-8da4-b17528ae1759",
   "metadata": {},
   "outputs": [],
   "source": []
  },
  {
   "cell_type": "code",
   "execution_count": null,
   "id": "00c94a4e-aaa5-4397-99b3-f1359e6dc8d2",
   "metadata": {},
   "outputs": [],
   "source": []
  },
  {
   "cell_type": "code",
   "execution_count": null,
   "id": "8ca33573-9468-4157-beeb-dbb264e3c17f",
   "metadata": {},
   "outputs": [],
   "source": []
  },
  {
   "cell_type": "code",
   "execution_count": null,
   "id": "01359214-12ab-4dc4-a1ef-0b81a140156e",
   "metadata": {},
   "outputs": [],
   "source": []
  },
  {
   "cell_type": "code",
   "execution_count": null,
   "id": "4846bd3b-c199-479d-8723-2a38a815ed9d",
   "metadata": {},
   "outputs": [],
   "source": []
  }
 ],
 "metadata": {
  "environment": {
   "kernel": "python3",
   "name": "tf2-gpu.2-3.m94",
   "type": "gcloud",
   "uri": "gcr.io/deeplearning-platform-release/tf2-gpu.2-3:m94"
  },
  "kernelspec": {
   "display_name": "Python 3",
   "language": "python",
   "name": "python3"
  },
  "language_info": {
   "codemirror_mode": {
    "name": "ipython",
    "version": 3
   },
   "file_extension": ".py",
   "mimetype": "text/x-python",
   "name": "python",
   "nbconvert_exporter": "python",
   "pygments_lexer": "ipython3",
   "version": "3.7.12"
  }
 },
 "nbformat": 4,
 "nbformat_minor": 5
}
