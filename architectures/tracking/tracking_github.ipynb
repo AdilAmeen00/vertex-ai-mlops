{
 "cells": [
  {
   "cell_type": "markdown",
   "id": "1b73cc6c-e766-4cbe-add3-e804c06afde2",
   "metadata": {},
   "source": [
    "![ga4](https://www.google-analytics.com/collect?v=2&tid=G-6VDTYWLKX6&cid=1&en=page_view&dt=tracking_github.ipynb&dl=statmike%2Fvertex-ai-mlops%2Farchitectures%2Ftracking)\n",
    "# GitHub Traffic For Repository"
   ]
  },
  {
   "cell_type": "markdown",
   "id": "9d3c17ef-be99-45e8-a30c-7aea522ce8be",
   "metadata": {},
   "source": [
    "## Setup"
   ]
  },
  {
   "cell_type": "code",
   "execution_count": 6,
   "id": "a795af53-5a7e-459c-84f2-3d9bc8f32d69",
   "metadata": {},
   "outputs": [
    {
     "data": {
      "text/plain": [
       "'statmike-mlops-349915'"
      ]
     },
     "execution_count": 6,
     "metadata": {},
     "output_type": "execute_result"
    }
   ],
   "source": [
    "project = !gcloud config get-value project\n",
    "PROJECT_ID = project[0]\n",
    "PROJECT_ID"
   ]
  },
  {
   "cell_type": "code",
   "execution_count": null,
   "id": "ca7c985c-1710-4ec9-99b8-d5adc9d480f4",
   "metadata": {},
   "outputs": [],
   "source": []
  },
  {
   "cell_type": "code",
   "execution_count": 12,
   "id": "174167c6-a46d-4a8a-902b-c8cc8384808b",
   "metadata": {},
   "outputs": [],
   "source": [
    "import requests\n",
    "import json\n",
    "from google.cloud import bigquery"
   ]
  },
  {
   "cell_type": "markdown",
   "id": "c02da3c8-58f0-4f2f-8ec1-11e85479bf4a",
   "metadata": {},
   "source": [
    "---\n",
    "## Get Secret\n",
    "\n",
    "You need to create a secret to hold the PAT for accessing the GitHub API.  More information on [creating a secret manager](https://cloud.google.com/secret-manager/docs/creating-and-accessing-secrets#secretmanager-create-secret-console).\n"
   ]
  },
  {
   "cell_type": "code",
   "execution_count": 3,
   "id": "81d259f5-c7d5-48c8-842b-7b4f599020f1",
   "metadata": {},
   "outputs": [
    {
     "name": "stdout",
     "output_type": "stream",
     "text": [
      "You need to pip install google-cloud-secret-manager\n"
     ]
    }
   ],
   "source": [
    "try:\n",
    "    import google.cloud.secretmanager\n",
    "except ImportError:\n",
    "    print('You need to pip install google-cloud-secret-manager')\n",
    "    !pip install google-cloud-secret-manager -q"
   ]
  },
  {
   "cell_type": "code",
   "execution_count": 4,
   "id": "51eae311-9380-4493-a243-024ff5a73c44",
   "metadata": {},
   "outputs": [],
   "source": [
    "from google.cloud import secretmanager"
   ]
  },
  {
   "cell_type": "code",
   "execution_count": 5,
   "id": "ef1acbe6-b7ef-4b90-9bc9-f6d0a45a7236",
   "metadata": {},
   "outputs": [],
   "source": [
    "client = secretmanager.SecretManagerServiceClient()"
   ]
  },
  {
   "cell_type": "code",
   "execution_count": 7,
   "id": "88ab2bbf-c698-43e4-ac72-818acbad512d",
   "metadata": {},
   "outputs": [],
   "source": [
    "secret = client.access_secret_version(request = {\"name\": f'projects/{PROJECT_ID}/secrets/github_api/versions/latest'})"
   ]
  },
  {
   "cell_type": "code",
   "execution_count": 10,
   "id": "02a3e0a9-5683-4ab1-84ab-74f44116ac04",
   "metadata": {},
   "outputs": [],
   "source": [
    "pat = secret.payload.data.decode('utf-8')"
   ]
  },
  {
   "cell_type": "markdown",
   "id": "770515b7-e6e2-4d05-9acb-934d65288e88",
   "metadata": {},
   "source": [
    "---\n",
    "## GitHub Traffic API\n",
    "\n",
    "- GitHub [traffic API](https://docs.github.com/en/rest/metrics/traffic#about-the-repository-traffic-api)\n",
    "- Permission the PAT will need are under [adminstration](https://docs.github.com/en/rest/overview/permissions-required-for-fine-grained-personal-access-tokens#administration)"
   ]
  },
  {
   "cell_type": "code",
   "execution_count": 13,
   "id": "c91a3b3a-54da-494e-98a4-1250f1b79ea0",
   "metadata": {},
   "outputs": [],
   "source": [
    "## all three work:\n",
    "response = requests.get('https://api.github.com/repos/statmike/vertex-ai-mlops/traffic/clones', headers = {'Authorization': f'Bearer {pat}', 'Accept': 'application/vnd.github+json'})\n",
    "#response = requests.get('https://api.github.com/repos/statmike/vertex-ai-mlops/traffic/clones', auth = ('statmike', f'{pat}'), headers = {'Accept': 'application/vnd.github+json'})\n",
    "#response = requests.get('https://api.github.com/repos/statmike/vertex-ai-mlops/traffic/clones', auth = ('statmike', f'{pat}'), headers = {'Authorization': f'Bearer {pat}', 'Accept': 'application/vnd.github+json'})"
   ]
  },
  {
   "cell_type": "code",
   "execution_count": 14,
   "id": "d2c9e9dd-dc57-41ce-9b82-42ecfc25d41c",
   "metadata": {},
   "outputs": [
    {
     "data": {
      "text/plain": [
       "<Response [200]>"
      ]
     },
     "execution_count": 14,
     "metadata": {},
     "output_type": "execute_result"
    }
   ],
   "source": [
    "response"
   ]
  },
  {
   "cell_type": "code",
   "execution_count": 15,
   "id": "83e6e8c4-856d-40c8-9ac1-33f436793988",
   "metadata": {},
   "outputs": [
    {
     "data": {
      "text/plain": [
       "'{\"count\":49,\"uniques\":39,\"clones\":[{\"timestamp\":\"2022-11-12T00:00:00Z\",\"count\":2,\"uniques\":2},{\"timestamp\":\"2022-11-13T00:00:00Z\",\"count\":2,\"uniques\":1},{\"timestamp\":\"2022-11-14T00:00:00Z\",\"count\":15,\"uniques\":11},{\"timestamp\":\"2022-11-15T00:00:00Z\",\"count\":3,\"uniques\":3},{\"timestamp\":\"2022-11-16T00:00:00Z\",\"count\":2,\"uniques\":2},{\"timestamp\":\"2022-11-17T00:00:00Z\",\"count\":2,\"uniques\":2},{\"timestamp\":\"2022-11-18T00:00:00Z\",\"count\":3,\"uniques\":3},{\"timestamp\":\"2022-11-19T00:00:00Z\",\"count\":3,\"uniques\":3},{\"timestamp\":\"2022-11-20T00:00:00Z\",\"count\":2,\"uniques\":2},{\"timestamp\":\"2022-11-21T00:00:00Z\",\"count\":7,\"uniques\":5},{\"timestamp\":\"2022-11-22T00:00:00Z\",\"count\":2,\"uniques\":1},{\"timestamp\":\"2022-11-23T00:00:00Z\",\"count\":1,\"uniques\":1},{\"timestamp\":\"2022-11-24T00:00:00Z\",\"count\":1,\"uniques\":1},{\"timestamp\":\"2022-11-25T00:00:00Z\",\"count\":4,\"uniques\":3}]}'"
      ]
     },
     "execution_count": 15,
     "metadata": {},
     "output_type": "execute_result"
    }
   ],
   "source": [
    "response.text"
   ]
  },
  {
   "cell_type": "markdown",
   "id": "40d97da5-b843-4f27-a799-6b40daa3366c",
   "metadata": {},
   "source": [
    "### Review metrics"
   ]
  },
  {
   "cell_type": "code",
   "execution_count": 16,
   "id": "a414c356-5d72-45c6-8784-ff41a868b7e3",
   "metadata": {},
   "outputs": [
    {
     "data": {
      "text/plain": [
       "{'health_percentage': 42,\n",
       " 'description': 'Google Cloud Platform Vertex AI end-to-end workflows for machine learning operations',\n",
       " 'documentation': None,\n",
       " 'files': {'code_of_conduct': None,\n",
       "  'code_of_conduct_file': None,\n",
       "  'contributing': None,\n",
       "  'issue_template': None,\n",
       "  'pull_request_template': None,\n",
       "  'license': {'key': 'apache-2.0',\n",
       "   'name': 'Apache License 2.0',\n",
       "   'spdx_id': 'Apache-2.0',\n",
       "   'url': 'https://api.github.com/licenses/apache-2.0',\n",
       "   'node_id': 'MDc6TGljZW5zZTI=',\n",
       "   'html_url': 'https://github.com/statmike/vertex-ai-mlops/blob/main/LICENSE'},\n",
       "  'readme': {'url': 'https://api.github.com/repos/statmike/vertex-ai-mlops/contents/readme.md',\n",
       "   'html_url': 'https://github.com/statmike/vertex-ai-mlops/blob/main/readme.md'}},\n",
       " 'updated_at': None}"
      ]
     },
     "execution_count": 16,
     "metadata": {},
     "output_type": "execute_result"
    }
   ],
   "source": [
    "response = requests.get('https://api.github.com/repos/statmike/vertex-ai-mlops/community/profile', headers = {'Authorization': f'Bearer {pat}', 'Accept': 'application/vnd.github+json'})\n",
    "json.loads(response.text)"
   ]
  },
  {
   "cell_type": "code",
   "execution_count": 17,
   "id": "c05fe328-91d0-486f-96cc-8669872fd945",
   "metadata": {},
   "outputs": [
    {
     "data": {
      "text/plain": [
       "{'count': 49,\n",
       " 'uniques': 39,\n",
       " 'clones': [{'timestamp': '2022-11-12T00:00:00Z', 'count': 2, 'uniques': 2},\n",
       "  {'timestamp': '2022-11-13T00:00:00Z', 'count': 2, 'uniques': 1},\n",
       "  {'timestamp': '2022-11-14T00:00:00Z', 'count': 15, 'uniques': 11},\n",
       "  {'timestamp': '2022-11-15T00:00:00Z', 'count': 3, 'uniques': 3},\n",
       "  {'timestamp': '2022-11-16T00:00:00Z', 'count': 2, 'uniques': 2},\n",
       "  {'timestamp': '2022-11-17T00:00:00Z', 'count': 2, 'uniques': 2},\n",
       "  {'timestamp': '2022-11-18T00:00:00Z', 'count': 3, 'uniques': 3},\n",
       "  {'timestamp': '2022-11-19T00:00:00Z', 'count': 3, 'uniques': 3},\n",
       "  {'timestamp': '2022-11-20T00:00:00Z', 'count': 2, 'uniques': 2},\n",
       "  {'timestamp': '2022-11-21T00:00:00Z', 'count': 7, 'uniques': 5},\n",
       "  {'timestamp': '2022-11-22T00:00:00Z', 'count': 2, 'uniques': 1},\n",
       "  {'timestamp': '2022-11-23T00:00:00Z', 'count': 1, 'uniques': 1},\n",
       "  {'timestamp': '2022-11-24T00:00:00Z', 'count': 1, 'uniques': 1},\n",
       "  {'timestamp': '2022-11-25T00:00:00Z', 'count': 4, 'uniques': 3}]}"
      ]
     },
     "execution_count": 17,
     "metadata": {},
     "output_type": "execute_result"
    }
   ],
   "source": [
    "response = requests.get('https://api.github.com/repos/statmike/vertex-ai-mlops/traffic/clones', headers = {'Authorization': f'Bearer {pat}', 'Accept': 'application/vnd.github+json'})\n",
    "json.loads(response.text)"
   ]
  },
  {
   "cell_type": "code",
   "execution_count": 18,
   "id": "82e10c8b-1ec0-4861-95cd-fe4b1ed7b16a",
   "metadata": {},
   "outputs": [
    {
     "data": {
      "text/plain": [
       "[{'path': '/statmike/vertex-ai-mlops',\n",
       "  'title': 'statmike/vertex-ai-mlops: Google Cloud Platform Vertex AI end-to-end workflow...',\n",
       "  'count': 435,\n",
       "  'uniques': 185},\n",
       " {'path': '/statmike/vertex-ai-mlops/tree/main/02%20-%20Vertex%20AI%20AutoML',\n",
       "  'title': 'vertex-ai-mlops/02 - Vertex AI AutoML at main · statmike/vertex-ai-mlops · Gi...',\n",
       "  'count': 74,\n",
       "  'uniques': 38},\n",
       " {'path': '/statmike/vertex-ai-mlops/tree/main/00%20-%20Setup',\n",
       "  'title': 'vertex-ai-mlops/00 - Setup at main · statmike/vertex-ai-mlops · GitHub',\n",
       "  'count': 57,\n",
       "  'uniques': 33},\n",
       " {'path': '/statmike/vertex-ai-mlops/tree/main/05%20-%20TensorFlow',\n",
       "  'title': 'vertex-ai-mlops/05 - TensorFlow at main · statmike/vertex-ai-mlops · GitHub',\n",
       "  'count': 55,\n",
       "  'uniques': 32},\n",
       " {'path': '/statmike/vertex-ai-mlops/blob/main/00%20-%20Setup/00%20-%20Environment%20Setup.ipynb',\n",
       "  'title': 'vertex-ai-mlops/00 - Environment Setup.ipynb at main · statmike/vertex-ai-mlops',\n",
       "  'count': 46,\n",
       "  'uniques': 28},\n",
       " {'path': '/statmike/vertex-ai-mlops/tree/main/01%20-%20Data%20Sources',\n",
       "  'title': 'vertex-ai-mlops/01 - Data Sources at main · statmike/vertex-ai-mlops · GitHub',\n",
       "  'count': 44,\n",
       "  'uniques': 27},\n",
       " {'path': '/statmike/vertex-ai-mlops/blob/main/02%20-%20Vertex%20AI%20AutoML/02a%20-%20Vertex%20AI%20-%20AutoML%20in%20GCP%20Console%20(no%20code).ipynb',\n",
       "  'title': 'vertex-ai-mlops/02a - Vertex AI - AutoML in GCP Console (no code).ipynb at ma...',\n",
       "  'count': 43,\n",
       "  'uniques': 27},\n",
       " {'path': '/statmike/vertex-ai-mlops/tree/main/03%20-%20BigQuery%20ML%20(BQML)',\n",
       "  'title': 'vertex-ai-mlops/03 - BigQuery ML (BQML) at main · statmike/vertex-ai-mlops · ...',\n",
       "  'count': 42,\n",
       "  'uniques': 23},\n",
       " {'path': '/statmike/vertex-ai-mlops/blob/main/02%20-%20Vertex%20AI%20AutoML/02c%20-%20Vertex%20AI%20%3E%20Pipelines%20-%20AutoML%20with%20clients%20(code)%20In%20automated%20pipeline.ipynb',\n",
       "  'title': 'vertex-ai-mlops/02c - Vertex AI > Pipelines - AutoML with clients (code) In a...',\n",
       "  'count': 40,\n",
       "  'uniques': 13},\n",
       " {'path': '/statmike/vertex-ai-mlops/tree/main/04%20-%20scikit-learn',\n",
       "  'title': 'vertex-ai-mlops/04 - scikit-learn at main · statmike/vertex-ai-mlops · GitHub',\n",
       "  'count': 38,\n",
       "  'uniques': 23}]"
      ]
     },
     "execution_count": 18,
     "metadata": {},
     "output_type": "execute_result"
    }
   ],
   "source": [
    "response = requests.get('https://api.github.com/repos/statmike/vertex-ai-mlops/traffic/popular/paths', headers = {'Authorization': f'Bearer {pat}', 'Accept': 'application/vnd.github+json'})\n",
    "json.loads(response.text)"
   ]
  },
  {
   "cell_type": "code",
   "execution_count": 19,
   "id": "f0c4567a-c759-41ba-b903-bf5f4f045d53",
   "metadata": {},
   "outputs": [
    {
     "data": {
      "text/plain": [
       "[{'referrer': 'youtube.com', 'count': 312, 'uniques': 72},\n",
       " {'referrer': 'github.com', 'count': 213, 'uniques': 37},\n",
       " {'referrer': 'Google', 'count': 144, 'uniques': 52},\n",
       " {'referrer': 'notebooks.githubusercontent.com', 'count': 23, 'uniques': 13},\n",
       " {'referrer': 'art-analytics.appspot.com', 'count': 7, 'uniques': 2},\n",
       " {'referrer': 'statics.teams.cdn.office.net', 'count': 4, 'uniques': 2},\n",
       " {'referrer': 'm.facebook.com', 'count': 3, 'uniques': 1}]"
      ]
     },
     "execution_count": 19,
     "metadata": {},
     "output_type": "execute_result"
    }
   ],
   "source": [
    "response = requests.get('https://api.github.com/repos/statmike/vertex-ai-mlops/traffic/popular/referrers', headers = {'Authorization': f'Bearer {pat}', 'Accept': 'application/vnd.github+json'})\n",
    "json.loads(response.text)"
   ]
  },
  {
   "cell_type": "code",
   "execution_count": 20,
   "id": "cb5bcdcc-3d2c-464a-b4d5-2bc6cdd3f77d",
   "metadata": {},
   "outputs": [
    {
     "data": {
      "text/plain": [
       "{'count': 1511,\n",
       " 'uniques': 253,\n",
       " 'views': [{'timestamp': '2022-11-12T00:00:00Z', 'count': 32, 'uniques': 9},\n",
       "  {'timestamp': '2022-11-13T00:00:00Z', 'count': 45, 'uniques': 13},\n",
       "  {'timestamp': '2022-11-14T00:00:00Z', 'count': 123, 'uniques': 35},\n",
       "  {'timestamp': '2022-11-15T00:00:00Z', 'count': 150, 'uniques': 33},\n",
       "  {'timestamp': '2022-11-16T00:00:00Z', 'count': 128, 'uniques': 32},\n",
       "  {'timestamp': '2022-11-17T00:00:00Z', 'count': 166, 'uniques': 41},\n",
       "  {'timestamp': '2022-11-18T00:00:00Z', 'count': 74, 'uniques': 31},\n",
       "  {'timestamp': '2022-11-19T00:00:00Z', 'count': 89, 'uniques': 13},\n",
       "  {'timestamp': '2022-11-20T00:00:00Z', 'count': 147, 'uniques': 20},\n",
       "  {'timestamp': '2022-11-21T00:00:00Z', 'count': 141, 'uniques': 29},\n",
       "  {'timestamp': '2022-11-22T00:00:00Z', 'count': 78, 'uniques': 20},\n",
       "  {'timestamp': '2022-11-23T00:00:00Z', 'count': 74, 'uniques': 21},\n",
       "  {'timestamp': '2022-11-24T00:00:00Z', 'count': 156, 'uniques': 34},\n",
       "  {'timestamp': '2022-11-25T00:00:00Z', 'count': 108, 'uniques': 19}]}"
      ]
     },
     "execution_count": 20,
     "metadata": {},
     "output_type": "execute_result"
    }
   ],
   "source": [
    "response = requests.get('https://api.github.com/repos/statmike/vertex-ai-mlops/traffic/views', headers = {'Authorization': f'Bearer {pat}', 'Accept': 'application/vnd.github+json'})\n",
    "json.loads(response.text)"
   ]
  },
  {
   "cell_type": "markdown",
   "id": "8f37f0c2-927b-407e-8c9f-7c2f685775c3",
   "metadata": {},
   "source": [
    "---\n",
    "## IDEA\n",
    "\n",
    "- Cloud Sheduler > PubSub > Cloud Function\n",
    "    - Get Secret for PAT\n",
    "    - Fetch from GitHub API\n",
    "    - Store in BigQuery\n",
    "    - Write Cloud Function that updates tables each night: insert, append\n",
    "    - Trigger DataForm ELT process"
   ]
  },
  {
   "cell_type": "markdown",
   "id": "a34c028c-3ff2-45d4-96fc-f04d015c7196",
   "metadata": {},
   "source": [
    "---\n",
    "### Create BigQuery Tables"
   ]
  },
  {
   "cell_type": "code",
   "execution_count": null,
   "id": "48d87689-eea7-4a53-ae9c-1102886ba97e",
   "metadata": {},
   "outputs": [],
   "source": []
  },
  {
   "cell_type": "code",
   "execution_count": null,
   "id": "bfedf21e-0ce0-4309-a349-97eae972ad80",
   "metadata": {},
   "outputs": [],
   "source": []
  },
  {
   "cell_type": "code",
   "execution_count": null,
   "id": "1d9e6413-0402-4bca-86d8-fdc30f8582b0",
   "metadata": {},
   "outputs": [],
   "source": []
  },
  {
   "cell_type": "code",
   "execution_count": null,
   "id": "c704ec7a-a0ac-4369-b92c-19877daecb2b",
   "metadata": {},
   "outputs": [],
   "source": []
  },
  {
   "cell_type": "code",
   "execution_count": null,
   "id": "8a2a2ab2-2248-4122-aeb8-fdb13c1c6973",
   "metadata": {},
   "outputs": [],
   "source": []
  },
  {
   "cell_type": "code",
   "execution_count": null,
   "id": "66e3bada-9843-4378-8906-f3102d52f88c",
   "metadata": {},
   "outputs": [],
   "source": []
  },
  {
   "cell_type": "code",
   "execution_count": null,
   "id": "ce0a5e26-ba37-4d60-8b8f-0eb78d93b2b2",
   "metadata": {},
   "outputs": [],
   "source": []
  },
  {
   "cell_type": "code",
   "execution_count": null,
   "id": "38cf6439-62a6-4f4c-ba8e-030574ea3fd4",
   "metadata": {},
   "outputs": [],
   "source": []
  },
  {
   "cell_type": "code",
   "execution_count": null,
   "id": "949fbf2a-f936-45de-a295-d416b5b6b073",
   "metadata": {},
   "outputs": [],
   "source": []
  },
  {
   "cell_type": "code",
   "execution_count": null,
   "id": "b74f838b-e10c-4c70-95d2-68f01735aaaa",
   "metadata": {},
   "outputs": [],
   "source": []
  },
  {
   "cell_type": "code",
   "execution_count": null,
   "id": "37e2e54f-6a31-44ae-ad52-403f366ec7c8",
   "metadata": {},
   "outputs": [],
   "source": []
  },
  {
   "cell_type": "code",
   "execution_count": null,
   "id": "04a8a490-5d56-480f-b7ec-752fbf827989",
   "metadata": {},
   "outputs": [],
   "source": []
  },
  {
   "cell_type": "code",
   "execution_count": null,
   "id": "e3b91083-bfcb-4fd3-9988-61cbc8cb30cc",
   "metadata": {},
   "outputs": [],
   "source": []
  },
  {
   "cell_type": "code",
   "execution_count": null,
   "id": "ce22ea72-9f94-4ad4-9beb-1e1f392ba102",
   "metadata": {},
   "outputs": [],
   "source": []
  },
  {
   "cell_type": "code",
   "execution_count": null,
   "id": "767b6746-3cc8-4cbc-8a9a-d3a6427d31df",
   "metadata": {},
   "outputs": [],
   "source": []
  },
  {
   "cell_type": "code",
   "execution_count": null,
   "id": "3627a6dc-7d2a-4145-8da4-b17528ae1759",
   "metadata": {},
   "outputs": [],
   "source": []
  },
  {
   "cell_type": "code",
   "execution_count": null,
   "id": "00c94a4e-aaa5-4397-99b3-f1359e6dc8d2",
   "metadata": {},
   "outputs": [],
   "source": []
  },
  {
   "cell_type": "code",
   "execution_count": null,
   "id": "8ca33573-9468-4157-beeb-dbb264e3c17f",
   "metadata": {},
   "outputs": [],
   "source": []
  },
  {
   "cell_type": "code",
   "execution_count": null,
   "id": "01359214-12ab-4dc4-a1ef-0b81a140156e",
   "metadata": {},
   "outputs": [],
   "source": []
  },
  {
   "cell_type": "code",
   "execution_count": null,
   "id": "4846bd3b-c199-479d-8723-2a38a815ed9d",
   "metadata": {},
   "outputs": [],
   "source": []
  }
 ],
 "metadata": {
  "environment": {
   "kernel": "python3",
   "name": "tf2-gpu.2-3.m94",
   "type": "gcloud",
   "uri": "gcr.io/deeplearning-platform-release/tf2-gpu.2-3:m94"
  },
  "kernelspec": {
   "display_name": "Python 3",
   "language": "python",
   "name": "python3"
  },
  "language_info": {
   "codemirror_mode": {
    "name": "ipython",
    "version": 3
   },
   "file_extension": ".py",
   "mimetype": "text/x-python",
   "name": "python",
   "nbconvert_exporter": "python",
   "pygments_lexer": "ipython3",
   "version": "3.7.12"
  }
 },
 "nbformat": 4,
 "nbformat_minor": 5
}
