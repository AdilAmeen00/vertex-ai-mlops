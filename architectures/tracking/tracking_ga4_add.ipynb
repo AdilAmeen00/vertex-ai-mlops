{
 "cells": [
  {
   "cell_type": "markdown",
   "id": "3edd82e8-ca7f-4af7-888a-5ab8e3f38d2d",
   "metadata": {},
   "source": [
    "# Adding GA4 Event (page_view) Tracking to all Repository Documents\n",
    "\n",
    "- Get list of all `.md` and `.ipynb` document in this repository\n",
    "- Create GA4 Measurment Protocol pixel link for each document\n",
    "- edit each document to contain an image load for the pixel"
   ]
  },
  {
   "cell_type": "code",
   "execution_count": 2,
   "id": "b50f72b2-eb26-4b80-9f83-446361dcb28b",
   "metadata": {},
   "outputs": [],
   "source": [
    "import os"
   ]
  },
  {
   "cell_type": "code",
   "execution_count": 3,
   "id": "458bc0fd-c5a7-4635-ab92-df21e3debe88",
   "metadata": {},
   "outputs": [],
   "source": [
    "measurement_id = 'G-6VDTYWLKX6'"
   ]
  },
  {
   "cell_type": "code",
   "execution_count": 9,
   "id": "d4d5445d-6c8d-445f-a4c2-a8132cacd9c5",
   "metadata": {},
   "outputs": [
    {
     "name": "stdout",
     "output_type": "stream",
     "text": [
      "/home/jupyter/vertex-ai-mlops/architectures/tracking/tracking_ga4.ipynb\n",
      "/home/jupyter/vertex-ai-mlops/architectures/tracking/Untitled.ipynb\n",
      "/home/jupyter/vertex-ai-mlops/architectures/tracking/tracking_github.ipynb\n"
     ]
    }
   ],
   "source": [
    "for root, dirs, files in os.walk(r'/home/jupyter/vertex-ai-mlops/architectures/tracking'):\n",
    "    for file in files:\n",
    "        if file.endswith(('.md', '.ipynb')) and not root.endswith('.ipynb_checkpoints'):\n",
    "            #print(root)\n",
    "            print(os.path.join(root, file))"
   ]
  },
  {
   "cell_type": "code",
   "execution_count": null,
   "id": "125b587f-4117-4b8d-9beb-d30b86129dc2",
   "metadata": {},
   "outputs": [],
   "source": []
  },
  {
   "cell_type": "code",
   "execution_count": null,
   "id": "55880507-d896-4ed2-8456-82fb5b7ef47d",
   "metadata": {},
   "outputs": [],
   "source": []
  },
  {
   "cell_type": "code",
   "execution_count": null,
   "id": "f88d9d12-f198-45b6-9381-6dfdd046a7bd",
   "metadata": {},
   "outputs": [],
   "source": []
  },
  {
   "cell_type": "code",
   "execution_count": null,
   "id": "dab1567a-3287-4bc2-b90b-ad0c275115c2",
   "metadata": {},
   "outputs": [],
   "source": []
  },
  {
   "cell_type": "code",
   "execution_count": null,
   "id": "957e43a8-c370-401b-8707-9a2392a45e07",
   "metadata": {},
   "outputs": [],
   "source": []
  },
  {
   "cell_type": "code",
   "execution_count": null,
   "id": "02bbd300-ce4e-48cb-af7e-10697485b406",
   "metadata": {},
   "outputs": [],
   "source": []
  },
  {
   "cell_type": "code",
   "execution_count": null,
   "id": "b800c7d1-0e7f-4bda-a1c3-fb96d182bb12",
   "metadata": {},
   "outputs": [],
   "source": []
  },
  {
   "cell_type": "code",
   "execution_count": null,
   "id": "f7e558b8-bbe5-479d-8acd-12e4ade1250b",
   "metadata": {},
   "outputs": [],
   "source": []
  },
  {
   "cell_type": "code",
   "execution_count": null,
   "id": "2fbd64be-cd43-4480-8a65-406ffcf88846",
   "metadata": {},
   "outputs": [],
   "source": []
  },
  {
   "cell_type": "code",
   "execution_count": null,
   "id": "d5949968-c83e-4404-866c-fff2ec798d5a",
   "metadata": {},
   "outputs": [],
   "source": []
  },
  {
   "cell_type": "code",
   "execution_count": null,
   "id": "2bb70152-5162-41b0-af9d-aac1b8e3e67e",
   "metadata": {},
   "outputs": [],
   "source": []
  },
  {
   "cell_type": "code",
   "execution_count": null,
   "id": "bf9201df-c20b-4476-a3eb-6211153b36a6",
   "metadata": {},
   "outputs": [],
   "source": [
    "measurement_id = 'G-6VDTYWLKX6'\n",
    "pwd = !pwd\n",
    "pwd = pwd[0].replace('/home/jupyter/', 'statmike/')\n",
    "file_name = 'tracking_ga4.ipynb'\n",
    "\n",
    "url = 'https://www.google-analytics.com/collect?v=2'\n",
    "track_parms = f'&tid={measurement_id}&cid=1&en=page_view&sid=1'\n",
    "pass_parms = f\"&dt={urllib.parse.quote_plus(file_name)}&dl={urllib.parse.quote_plus(pwd)}\"\n",
    "click = url + track_parms + pass_parms\n",
    "\n",
    "print(click)"
   ]
  },
  {
   "cell_type": "code",
   "execution_count": null,
   "id": "4cb3acae-6035-437f-92c6-b47bdea93622",
   "metadata": {},
   "outputs": [],
   "source": []
  }
 ],
 "metadata": {
  "environment": {
   "kernel": "python3",
   "name": "tf2-gpu.2-3.m94",
   "type": "gcloud",
   "uri": "gcr.io/deeplearning-platform-release/tf2-gpu.2-3:m94"
  },
  "kernelspec": {
   "display_name": "Python 3",
   "language": "python",
   "name": "python3"
  },
  "language_info": {
   "codemirror_mode": {
    "name": "ipython",
    "version": 3
   },
   "file_extension": ".py",
   "mimetype": "text/x-python",
   "name": "python",
   "nbconvert_exporter": "python",
   "pygments_lexer": "ipython3",
   "version": "3.7.12"
  }
 },
 "nbformat": 4,
 "nbformat_minor": 5
}
