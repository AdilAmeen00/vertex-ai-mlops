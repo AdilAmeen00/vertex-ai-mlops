{
 "cells": [
  {
   "cell_type": "markdown",
   "id": "852115f2-a0b5-49d2-ab40-922aaa88dd54",
   "metadata": {},
   "source": [
    "## GA4 Reporting\n",
    "\n",
    "This notebooks cover the creation of initial reporting tables for GA4 tracking data in this repository.  It also include the query used for incremental, daily, updates of the reporting table that take advantage of shared data from GA4 Exports and partitioningn of the reporting tables."
   ]
  },
  {
   "cell_type": "code",
   "execution_count": null,
   "id": "b2b4dd03-9768-4190-83a6-bf7acf20ec00",
   "metadata": {},
   "outputs": [],
   "source": []
  }
 ],
 "metadata": {
  "environment": {
   "kernel": "python3",
   "name": "tf2-gpu.2-3.m94",
   "type": "gcloud",
   "uri": "gcr.io/deeplearning-platform-release/tf2-gpu.2-3:m94"
  },
  "kernelspec": {
   "display_name": "Python 3",
   "language": "python",
   "name": "python3"
  },
  "language_info": {
   "codemirror_mode": {
    "name": "ipython",
    "version": 3
   },
   "file_extension": ".py",
   "mimetype": "text/x-python",
   "name": "python",
   "nbconvert_exporter": "python",
   "pygments_lexer": "ipython3",
   "version": "3.7.12"
  }
 },
 "nbformat": 4,
 "nbformat_minor": 5
}
