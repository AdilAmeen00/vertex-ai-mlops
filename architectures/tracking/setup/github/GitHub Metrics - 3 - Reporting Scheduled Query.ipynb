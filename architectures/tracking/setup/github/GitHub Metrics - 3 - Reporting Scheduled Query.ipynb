{
 "cells": [
  {
   "cell_type": "markdown",
   "metadata": {
    "id": "vLYH0pndhiob"
   },
   "source": [
    "![ga4](https://www.google-analytics.com/collect?v=2&tid=G-6VDTYWLKX6&cid=1&en=page_view&sid=1&dl=statmike%2Fvertex-ai-mlops%2Farchitectures%2Ftracking%2Fsetup%2Fgithub&dt=GitHub+Metrics+-+3+-+Reporting+Scheduled+Query.ipynb)\n",
    "\n",
    "# GitHub Metrics: BQ Scheduled Query For Reporting\n",
    "\n",
    "https://cloud.google.com/bigquery/docs/scheduling-queries#set_up_scheduled_queries\n",
    "\n"
   ]
  },
  {
   "cell_type": "markdown",
   "metadata": {
    "id": "0KsOeZEioSYq"
   },
   "source": [
    "---\n",
    "## COLAB SETUP\n",
    "\n",
    "To run this notebook in Colab click [![Open In Colab](https://colab.research.google.com/assets/colab-badge.svg)](https://colab.research.google.com/github/statmike/vertex-ai-mlops/blob/main/architectures/tracking/setup/github/GitHub%20Metrics%20-%203%20-%20Reporting%20Scheduled%20Query.ipynb) and run the cells in this section.  Otherwise, skip this section."
   ]
  },
  {
   "cell_type": "code",
   "execution_count": 1,
   "metadata": {
    "colab": {
     "base_uri": "https://localhost:8080/"
    },
    "executionInfo": {
     "elapsed": 8235,
     "status": "ok",
     "timestamp": 1676690965016,
     "user": {
      "displayName": "Mike Henderson",
      "userId": "11664017018095232389"
     },
     "user_tz": 300
    },
    "id": "MWl8BI5apkcI",
    "outputId": "326786cc-d235-4ee3-a984-74d7377b2acc"
   },
   "outputs": [
    {
     "name": "stdout",
     "output_type": "stream",
     "text": [
      "\u001b[2K     \u001b[90m━━━━━━━━━━━━━━━━━━━━━━━━━━━━━━━━━━━━━━━\u001b[0m \u001b[32m62.2/62.2 KB\u001b[0m \u001b[31m624.1 kB/s\u001b[0m eta \u001b[36m0:00:00\u001b[0m00:01\u001b[0m\n",
      "\u001b[?25h"
     ]
    }
   ],
   "source": [
    "try:\n",
    "  from google.cloud import bigquery_datatransfer\n",
    "except ImportError:\n",
    "  !pip install google-cloud-bigquery-datatransfer -q"
   ]
  },
  {
   "cell_type": "code",
   "execution_count": 2,
   "metadata": {
    "executionInfo": {
     "elapsed": 14225,
     "status": "ok",
     "timestamp": 1676690980652,
     "user": {
      "displayName": "Mike Henderson",
      "userId": "11664017018095232389"
     },
     "user_tz": 300
    },
    "id": "WdZkhxNLoVNY"
   },
   "outputs": [],
   "source": [
    "try:\n",
    "    import google.colab\n",
    "    #!pip install --upgrade google-cloud-bigquery -q\n",
    "    from google.colab import auth\n",
    "    auth.authenticate_user()\n",
    "    import os\n",
    "    #os.kill(os.getpid(), 9)\n",
    "except Exception:\n",
    "    pass"
   ]
  },
  {
   "cell_type": "code",
   "execution_count": 3,
   "metadata": {
    "colab": {
     "base_uri": "https://localhost:8080/"
    },
    "executionInfo": {
     "elapsed": 3138,
     "status": "ok",
     "timestamp": 1676690989769,
     "user": {
      "displayName": "Mike Henderson",
      "userId": "11664017018095232389"
     },
     "user_tz": 300
    },
    "id": "DGym8rPioVTH",
    "outputId": "2c82d2da-cb24-4d76-b29a-6111487667b6"
   },
   "outputs": [
    {
     "name": "stdout",
     "output_type": "stream",
     "text": [
      "Updated property [core/project].\n"
     ]
    }
   ],
   "source": [
    "PROJECT_ID = 'vertex-ai-mlops-369716' # replace with project ID\n",
    "!gcloud config set project {PROJECT_ID}"
   ]
  },
  {
   "cell_type": "markdown",
   "metadata": {
    "id": "tVA5SciOoNlf"
   },
   "source": [
    "---\n",
    "## Setup"
   ]
  },
  {
   "cell_type": "code",
   "execution_count": 32,
   "metadata": {
    "colab": {
     "base_uri": "https://localhost:8080/",
     "height": 35
    },
    "executionInfo": {
     "elapsed": 1051,
     "status": "ok",
     "timestamp": 1676697316747,
     "user": {
      "displayName": "Mike Henderson",
      "userId": "11664017018095232389"
     },
     "user_tz": 300
    },
    "id": "pCPIhNOomdyi",
    "outputId": "9d8e1a3a-40e4-4309-df32-3f6405c1bf79"
   },
   "outputs": [
    {
     "data": {
      "application/vnd.google.colaboratory.intrinsic+json": {
       "type": "string"
      },
      "text/plain": [
       "'vertex-ai-mlops-369716'"
      ]
     },
     "execution_count": 32,
     "metadata": {},
     "output_type": "execute_result"
    }
   ],
   "source": [
    "project = !gcloud config get-value project\n",
    "PROJECT_ID = project[0]\n",
    "PROJECT_ID"
   ]
  },
  {
   "cell_type": "code",
   "execution_count": 33,
   "metadata": {
    "executionInfo": {
     "elapsed": 202,
     "status": "ok",
     "timestamp": 1676697325279,
     "user": {
      "displayName": "Mike Henderson",
      "userId": "11664017018095232389"
     },
     "user_tz": 300
    },
    "id": "JwYJTkWAoY5U"
   },
   "outputs": [],
   "source": [
    "REGION = 'us-central1'\n",
    "\n",
    "BQ_PROJECT = PROJECT_ID\n",
    "BQ_DATASET = 'reporting'"
   ]
  },
  {
   "cell_type": "code",
   "execution_count": 6,
   "metadata": {
    "executionInfo": {
     "elapsed": 217,
     "status": "ok",
     "timestamp": 1676691082093,
     "user": {
      "displayName": "Mike Henderson",
      "userId": "11664017018095232389"
     },
     "user_tz": 300
    },
    "id": "wjIPLHPWoY8O"
   },
   "outputs": [],
   "source": [
    "import requests\n",
    "import json\n",
    "import time\n",
    "from datetime import datetime\n",
    "import pandas as pd\n",
    "from io import StringIO\n",
    "import os, shutil\n",
    "\n",
    "from google.cloud import bigquery\n",
    "from google.cloud import bigquery_datatransfer"
   ]
  },
  {
   "cell_type": "code",
   "execution_count": 34,
   "metadata": {
    "executionInfo": {
     "elapsed": 209,
     "status": "ok",
     "timestamp": 1676697329027,
     "user": {
      "displayName": "Mike Henderson",
      "userId": "11664017018095232389"
     },
     "user_tz": 300
    },
    "id": "YyZ2WKRtoY-R"
   },
   "outputs": [],
   "source": [
    "bq = bigquery.Client(project = PROJECT_ID)\n",
    "transfer_client = bigquery_datatransfer.DataTransferServiceClient()"
   ]
  },
  {
   "cell_type": "markdown",
   "metadata": {
    "id": "9pPNKlxpl0Ho"
   },
   "source": [
    "## BQ Query Design"
   ]
  },
  {
   "cell_type": "code",
   "execution_count": 9,
   "metadata": {
    "colab": {
     "base_uri": "https://localhost:8080/"
    },
    "executionInfo": {
     "elapsed": 308,
     "status": "ok",
     "timestamp": 1676694859596,
     "user": {
      "displayName": "Mike Henderson",
      "userId": "11664017018095232389"
     },
     "user_tz": 300
    },
    "id": "UPadquODj6dO",
    "outputId": "eb970768-7e39-4c25-b3de-0e218bf36c4b"
   },
   "outputs": [
    {
     "name": "stdout",
     "output_type": "stream",
     "text": [
      "\n",
      "WITH\n",
      "  # calculate contributions not attributed to author and assign to statmike\n",
      "  RESIDUALS AS (\n",
      "    SELECT 'statmike' as author, week, \n",
      "      overall.additions - authors.additions AS additions,\n",
      "      overall.deletions - authors.deletions as deletions,\n",
      "      overall.commits - authors.commits as commits,\n",
      "      github_account, github_repo\n",
      "    FROM (SELECT * FROM `vertex-ai-mlops-369716.github_metrics.weekly_commits`) AS overall\n",
      "    JOIN (SELECT week, sum(additions) as additions, sum(deletions) as deletions, sum(commits) as commits\n",
      "        FROM `vertex-ai-mlops-369716.github_metrics.author_weekly_commits`\n",
      "        GROUP BY week) AS authors\n",
      "    USING(week)\n",
      "    WHERE overall.additions != authors.additions\n",
      "      OR overall.deletions != authors.deletions\n",
      "      OR overall.commits != authors.commits),\n",
      "  # combine attributions back with authors\n",
      "  COMBINED AS (\n",
      "    SELECT * FROM RESIDUALS\n",
      "    UNION ALL\n",
      "    SELECT * FROM `vertex-ai-mlops-369716.github_metrics.author_weekly_commits`)\n",
      "# combine attributions for author statmike\n",
      "SELECT author, week, SUM(additions) as additions, SUM(deletions) as deletions, sum(commits) as commits, github_account, github_repo\n",
      "FROM COMBINED\n",
      "GROUP BY author, week, github_account, github_repo\n",
      "\n"
     ]
    }
   ],
   "source": [
    "query = f\"\"\"\n",
    "WITH\n",
    "  # calculate contributions not attributed to author and assign to statmike\n",
    "  RESIDUALS AS (\n",
    "    SELECT 'statmike' as author, week, \n",
    "      overall.additions - authors.additions AS additions,\n",
    "      overall.deletions - authors.deletions as deletions,\n",
    "      overall.commits - authors.commits as commits,\n",
    "      github_account, github_repo\n",
    "    FROM (SELECT * FROM `vertex-ai-mlops-369716.github_metrics.weekly_commits`) AS overall\n",
    "    JOIN (SELECT week, sum(additions) as additions, sum(deletions) as deletions, sum(commits) as commits\n",
    "        FROM `vertex-ai-mlops-369716.github_metrics.author_weekly_commits`\n",
    "        GROUP BY week) AS authors\n",
    "    USING(week)\n",
    "    WHERE overall.additions != authors.additions\n",
    "      OR overall.deletions != authors.deletions\n",
    "      OR overall.commits != authors.commits),\n",
    "  # combine attributions back with authors\n",
    "  COMBINED AS (\n",
    "    SELECT * FROM RESIDUALS\n",
    "    UNION ALL\n",
    "    SELECT * FROM `vertex-ai-mlops-369716.github_metrics.author_weekly_commits`)\n",
    "# combine attributions for author statmike\n",
    "SELECT author, week, SUM(additions) as additions, SUM(deletions) as deletions, sum(commits) as commits, github_account, github_repo\n",
    "FROM COMBINED\n",
    "GROUP BY author, week, github_account, github_repo\n",
    "\"\"\"\n",
    "print(query)"
   ]
  },
  {
   "cell_type": "code",
   "execution_count": 10,
   "metadata": {
    "colab": {
     "base_uri": "https://localhost:8080/",
     "height": 424
    },
    "executionInfo": {
     "elapsed": 3421,
     "status": "ok",
     "timestamp": 1676694880724,
     "user": {
      "displayName": "Mike Henderson",
      "userId": "11664017018095232389"
     },
     "user_tz": 300
    },
    "id": "7M2BLmqYj6Z6",
    "outputId": "5686a354-a23d-4273-a174-2f62c55e87bd"
   },
   "outputs": [
    {
     "data": {
      "text/html": [
       "\n",
       "  <div id=\"df-14b3caa0-ce49-4cd4-b619-9d073c3ab074\">\n",
       "    <div class=\"colab-df-container\">\n",
       "      <div>\n",
       "<style scoped>\n",
       "    .dataframe tbody tr th:only-of-type {\n",
       "        vertical-align: middle;\n",
       "    }\n",
       "\n",
       "    .dataframe tbody tr th {\n",
       "        vertical-align: top;\n",
       "    }\n",
       "\n",
       "    .dataframe thead th {\n",
       "        text-align: right;\n",
       "    }\n",
       "</style>\n",
       "<table border=\"1\" class=\"dataframe\">\n",
       "  <thead>\n",
       "    <tr style=\"text-align: right;\">\n",
       "      <th></th>\n",
       "      <th>author</th>\n",
       "      <th>week</th>\n",
       "      <th>additions</th>\n",
       "      <th>deletions</th>\n",
       "      <th>commits</th>\n",
       "      <th>github_account</th>\n",
       "      <th>github_repo</th>\n",
       "    </tr>\n",
       "  </thead>\n",
       "  <tbody>\n",
       "    <tr>\n",
       "      <th>0</th>\n",
       "      <td>karticn-google</td>\n",
       "      <td>2021-03-28</td>\n",
       "      <td>0</td>\n",
       "      <td>0</td>\n",
       "      <td>0.0</td>\n",
       "      <td>statmike</td>\n",
       "      <td>vertex-ai-mlops</td>\n",
       "    </tr>\n",
       "    <tr>\n",
       "      <th>1</th>\n",
       "      <td>karticn-google</td>\n",
       "      <td>2021-04-04</td>\n",
       "      <td>0</td>\n",
       "      <td>0</td>\n",
       "      <td>0.0</td>\n",
       "      <td>statmike</td>\n",
       "      <td>vertex-ai-mlops</td>\n",
       "    </tr>\n",
       "    <tr>\n",
       "      <th>2</th>\n",
       "      <td>karticn-google</td>\n",
       "      <td>2021-04-11</td>\n",
       "      <td>0</td>\n",
       "      <td>0</td>\n",
       "      <td>0.0</td>\n",
       "      <td>statmike</td>\n",
       "      <td>vertex-ai-mlops</td>\n",
       "    </tr>\n",
       "    <tr>\n",
       "      <th>3</th>\n",
       "      <td>karticn-google</td>\n",
       "      <td>2021-04-18</td>\n",
       "      <td>0</td>\n",
       "      <td>0</td>\n",
       "      <td>0.0</td>\n",
       "      <td>statmike</td>\n",
       "      <td>vertex-ai-mlops</td>\n",
       "    </tr>\n",
       "    <tr>\n",
       "      <th>4</th>\n",
       "      <td>karticn-google</td>\n",
       "      <td>2021-04-25</td>\n",
       "      <td>0</td>\n",
       "      <td>0</td>\n",
       "      <td>0.0</td>\n",
       "      <td>statmike</td>\n",
       "      <td>vertex-ai-mlops</td>\n",
       "    </tr>\n",
       "    <tr>\n",
       "      <th>...</th>\n",
       "      <td>...</td>\n",
       "      <td>...</td>\n",
       "      <td>...</td>\n",
       "      <td>...</td>\n",
       "      <td>...</td>\n",
       "      <td>...</td>\n",
       "      <td>...</td>\n",
       "    </tr>\n",
       "    <tr>\n",
       "      <th>391</th>\n",
       "      <td>statmike</td>\n",
       "      <td>2023-02-05</td>\n",
       "      <td>37346</td>\n",
       "      <td>-2162</td>\n",
       "      <td>24.0</td>\n",
       "      <td>statmike</td>\n",
       "      <td>vertex-ai-mlops</td>\n",
       "    </tr>\n",
       "    <tr>\n",
       "      <th>392</th>\n",
       "      <td>statmike</td>\n",
       "      <td>2022-09-11</td>\n",
       "      <td>67894</td>\n",
       "      <td>-65551</td>\n",
       "      <td>27.0</td>\n",
       "      <td>statmike</td>\n",
       "      <td>vertex-ai-mlops</td>\n",
       "    </tr>\n",
       "    <tr>\n",
       "      <th>393</th>\n",
       "      <td>statmike</td>\n",
       "      <td>2022-10-02</td>\n",
       "      <td>405573</td>\n",
       "      <td>-389656</td>\n",
       "      <td>29.0</td>\n",
       "      <td>statmike</td>\n",
       "      <td>vertex-ai-mlops</td>\n",
       "    </tr>\n",
       "    <tr>\n",
       "      <th>394</th>\n",
       "      <td>statmike</td>\n",
       "      <td>2022-09-18</td>\n",
       "      <td>13432</td>\n",
       "      <td>-4092</td>\n",
       "      <td>34.0</td>\n",
       "      <td>statmike</td>\n",
       "      <td>vertex-ai-mlops</td>\n",
       "    </tr>\n",
       "    <tr>\n",
       "      <th>395</th>\n",
       "      <td>statmike</td>\n",
       "      <td>2022-10-09</td>\n",
       "      <td>35192</td>\n",
       "      <td>-15185</td>\n",
       "      <td>46.0</td>\n",
       "      <td>statmike</td>\n",
       "      <td>vertex-ai-mlops</td>\n",
       "    </tr>\n",
       "  </tbody>\n",
       "</table>\n",
       "<p>396 rows × 7 columns</p>\n",
       "</div>\n",
       "      <button class=\"colab-df-convert\" onclick=\"convertToInteractive('df-14b3caa0-ce49-4cd4-b619-9d073c3ab074')\"\n",
       "              title=\"Convert this dataframe to an interactive table.\"\n",
       "              style=\"display:none;\">\n",
       "        \n",
       "  <svg xmlns=\"http://www.w3.org/2000/svg\" height=\"24px\"viewBox=\"0 0 24 24\"\n",
       "       width=\"24px\">\n",
       "    <path d=\"M0 0h24v24H0V0z\" fill=\"none\"/>\n",
       "    <path d=\"M18.56 5.44l.94 2.06.94-2.06 2.06-.94-2.06-.94-.94-2.06-.94 2.06-2.06.94zm-11 1L8.5 8.5l.94-2.06 2.06-.94-2.06-.94L8.5 2.5l-.94 2.06-2.06.94zm10 10l.94 2.06.94-2.06 2.06-.94-2.06-.94-.94-2.06-.94 2.06-2.06.94z\"/><path d=\"M17.41 7.96l-1.37-1.37c-.4-.4-.92-.59-1.43-.59-.52 0-1.04.2-1.43.59L10.3 9.45l-7.72 7.72c-.78.78-.78 2.05 0 2.83L4 21.41c.39.39.9.59 1.41.59.51 0 1.02-.2 1.41-.59l7.78-7.78 2.81-2.81c.8-.78.8-2.07 0-2.86zM5.41 20L4 18.59l7.72-7.72 1.47 1.35L5.41 20z\"/>\n",
       "  </svg>\n",
       "      </button>\n",
       "      \n",
       "  <style>\n",
       "    .colab-df-container {\n",
       "      display:flex;\n",
       "      flex-wrap:wrap;\n",
       "      gap: 12px;\n",
       "    }\n",
       "\n",
       "    .colab-df-convert {\n",
       "      background-color: #E8F0FE;\n",
       "      border: none;\n",
       "      border-radius: 50%;\n",
       "      cursor: pointer;\n",
       "      display: none;\n",
       "      fill: #1967D2;\n",
       "      height: 32px;\n",
       "      padding: 0 0 0 0;\n",
       "      width: 32px;\n",
       "    }\n",
       "\n",
       "    .colab-df-convert:hover {\n",
       "      background-color: #E2EBFA;\n",
       "      box-shadow: 0px 1px 2px rgba(60, 64, 67, 0.3), 0px 1px 3px 1px rgba(60, 64, 67, 0.15);\n",
       "      fill: #174EA6;\n",
       "    }\n",
       "\n",
       "    [theme=dark] .colab-df-convert {\n",
       "      background-color: #3B4455;\n",
       "      fill: #D2E3FC;\n",
       "    }\n",
       "\n",
       "    [theme=dark] .colab-df-convert:hover {\n",
       "      background-color: #434B5C;\n",
       "      box-shadow: 0px 1px 3px 1px rgba(0, 0, 0, 0.15);\n",
       "      filter: drop-shadow(0px 1px 2px rgba(0, 0, 0, 0.3));\n",
       "      fill: #FFFFFF;\n",
       "    }\n",
       "  </style>\n",
       "\n",
       "      <script>\n",
       "        const buttonEl =\n",
       "          document.querySelector('#df-14b3caa0-ce49-4cd4-b619-9d073c3ab074 button.colab-df-convert');\n",
       "        buttonEl.style.display =\n",
       "          google.colab.kernel.accessAllowed ? 'block' : 'none';\n",
       "\n",
       "        async function convertToInteractive(key) {\n",
       "          const element = document.querySelector('#df-14b3caa0-ce49-4cd4-b619-9d073c3ab074');\n",
       "          const dataTable =\n",
       "            await google.colab.kernel.invokeFunction('convertToInteractive',\n",
       "                                                     [key], {});\n",
       "          if (!dataTable) return;\n",
       "\n",
       "          const docLinkHtml = 'Like what you see? Visit the ' +\n",
       "            '<a target=\"_blank\" href=https://colab.research.google.com/notebooks/data_table.ipynb>data table notebook</a>'\n",
       "            + ' to learn more about interactive tables.';\n",
       "          element.innerHTML = '';\n",
       "          dataTable['output_type'] = 'display_data';\n",
       "          await google.colab.output.renderOutput(dataTable, element);\n",
       "          const docLink = document.createElement('div');\n",
       "          docLink.innerHTML = docLinkHtml;\n",
       "          element.appendChild(docLink);\n",
       "        }\n",
       "      </script>\n",
       "    </div>\n",
       "  </div>\n",
       "  "
      ],
      "text/plain": [
       "             author       week  additions  deletions  commits github_account  \\\n",
       "0    karticn-google 2021-03-28          0          0      0.0       statmike   \n",
       "1    karticn-google 2021-04-04          0          0      0.0       statmike   \n",
       "2    karticn-google 2021-04-11          0          0      0.0       statmike   \n",
       "3    karticn-google 2021-04-18          0          0      0.0       statmike   \n",
       "4    karticn-google 2021-04-25          0          0      0.0       statmike   \n",
       "..              ...        ...        ...        ...      ...            ...   \n",
       "391        statmike 2023-02-05      37346      -2162     24.0       statmike   \n",
       "392        statmike 2022-09-11      67894     -65551     27.0       statmike   \n",
       "393        statmike 2022-10-02     405573    -389656     29.0       statmike   \n",
       "394        statmike 2022-09-18      13432      -4092     34.0       statmike   \n",
       "395        statmike 2022-10-09      35192     -15185     46.0       statmike   \n",
       "\n",
       "         github_repo  \n",
       "0    vertex-ai-mlops  \n",
       "1    vertex-ai-mlops  \n",
       "2    vertex-ai-mlops  \n",
       "3    vertex-ai-mlops  \n",
       "4    vertex-ai-mlops  \n",
       "..               ...  \n",
       "391  vertex-ai-mlops  \n",
       "392  vertex-ai-mlops  \n",
       "393  vertex-ai-mlops  \n",
       "394  vertex-ai-mlops  \n",
       "395  vertex-ai-mlops  \n",
       "\n",
       "[396 rows x 7 columns]"
      ]
     },
     "execution_count": 10,
     "metadata": {},
     "output_type": "execute_result"
    }
   ],
   "source": [
    "bq.query(query = query).to_dataframe()"
   ]
  },
  {
   "cell_type": "markdown",
   "metadata": {
    "id": "V10zEx3HzhLS"
   },
   "source": [
    "## BigQuery Initial Table Creation"
   ]
  },
  {
   "cell_type": "code",
   "execution_count": 12,
   "metadata": {
    "colab": {
     "base_uri": "https://localhost:8080/"
    },
    "executionInfo": {
     "elapsed": 3052,
     "status": "ok",
     "timestamp": 1676695047872,
     "user": {
      "displayName": "Mike Henderson",
      "userId": "11664017018095232389"
     },
     "user_tz": 300
    },
    "id": "TMTU_3Dkj6XH",
    "outputId": "d13e8f83-b5cb-41bc-e808-e035b116b4d5"
   },
   "outputs": [
    {
     "data": {
      "text/plain": [
       "<google.cloud.bigquery.table._EmptyRowIterator at 0x7f0dc19ecf10>"
      ]
     },
     "execution_count": 12,
     "metadata": {},
     "output_type": "execute_result"
    }
   ],
   "source": [
    "job = bq.query(query = f\"\"\"CREATE OR REPLACE TABLE `{BQ_PROJECT}.{BQ_DATASET}.github_contributions` AS {query}\"\"\")\n",
    "job.result()"
   ]
  },
  {
   "cell_type": "markdown",
   "metadata": {
    "id": "3OYzf-R60p9o"
   },
   "source": [
    "## BigQuery Incremental Update"
   ]
  },
  {
   "cell_type": "code",
   "execution_count": 18,
   "metadata": {
    "colab": {
     "base_uri": "https://localhost:8080/"
    },
    "executionInfo": {
     "elapsed": 232,
     "status": "ok",
     "timestamp": 1676695595519,
     "user": {
      "displayName": "Mike Henderson",
      "userId": "11664017018095232389"
     },
     "user_tz": 300
    },
    "id": "oIrcsKQVj6Uj",
    "outputId": "42c98fca-09c6-4a7b-a98f-452b4d4eaae8"
   },
   "outputs": [
    {
     "name": "stdout",
     "output_type": "stream",
     "text": [
      "\n",
      "DELETE FROM `vertex-ai-mlops-369716.reporting.github_contributions` WHERE week >= DATE_SUB(CURRENT_DATE(), INTERVAL 1 WEEK);\n",
      "INSERT INTO `vertex-ai-mlops-369716.reporting.github_contributions`\n",
      "  WITH\n",
      "    # calculate contributions not attributed to author and assign to statmike\n",
      "    RESIDUALS AS (\n",
      "      SELECT 'statmike' as author, week, \n",
      "        overall.additions - authors.additions AS additions,\n",
      "        overall.deletions - authors.deletions as deletions,\n",
      "        overall.commits - authors.commits as commits,\n",
      "        github_account, github_repo\n",
      "      FROM (SELECT *\n",
      "        FROM `vertex-ai-mlops-369716.github_metrics.weekly_commits`\n",
      "        WHERE week >= DATE_SUB(CURRENT_DATE(), INTERVAL 1 WEEK)) AS overall\n",
      "      JOIN (SELECT week, sum(additions) as additions, sum(deletions) as deletions, sum(commits) as commits\n",
      "          FROM `vertex-ai-mlops-369716.github_metrics.author_weekly_commits`\n",
      "          WHERE week >= DATE_SUB(CURRENT_DATE(), INTERVAL 1 WEEK)\n",
      "          GROUP BY week) AS authors\n",
      "      USING(week)\n",
      "      WHERE overall.additions != authors.additions\n",
      "        OR overall.deletions != authors.deletions\n",
      "        OR overall.commits != authors.commits),\n",
      "    # combine attributions back with authors\n",
      "    COMBINED AS (\n",
      "      SELECT * FROM RESIDUALS\n",
      "      UNION ALL\n",
      "      SELECT *\n",
      "        FROM `vertex-ai-mlops-369716.github_metrics.author_weekly_commits`\n",
      "        WHERE week >= DATE_SUB(CURRENT_DATE(), INTERVAL 1 WEEK))\n",
      "  # combine attributions for author statmike\n",
      "  SELECT author, week, SUM(additions) as additions, SUM(deletions) as deletions, sum(commits) as commits, github_account, github_repo\n",
      "  FROM COMBINED\n",
      "  GROUP BY author, week, github_account, github_repo;\n",
      "\n"
     ]
    }
   ],
   "source": [
    "increment_query = f\"\"\"\n",
    "DELETE FROM `{BQ_PROJECT}.{BQ_DATASET}.github_contributions` WHERE week >= DATE_SUB(CURRENT_DATE(), INTERVAL 1 WEEK);\n",
    "INSERT INTO `{BQ_PROJECT}.{BQ_DATASET}.github_contributions`\n",
    "  WITH\n",
    "    # calculate contributions not attributed to author and assign to statmike\n",
    "    RESIDUALS AS (\n",
    "      SELECT 'statmike' as author, week, \n",
    "        overall.additions - authors.additions AS additions,\n",
    "        overall.deletions - authors.deletions as deletions,\n",
    "        overall.commits - authors.commits as commits,\n",
    "        github_account, github_repo\n",
    "      FROM (SELECT *\n",
    "        FROM `vertex-ai-mlops-369716.github_metrics.weekly_commits`\n",
    "        WHERE week >= DATE_SUB(CURRENT_DATE(), INTERVAL 1 WEEK)) AS overall\n",
    "      JOIN (SELECT week, sum(additions) as additions, sum(deletions) as deletions, sum(commits) as commits\n",
    "          FROM `vertex-ai-mlops-369716.github_metrics.author_weekly_commits`\n",
    "          WHERE week >= DATE_SUB(CURRENT_DATE(), INTERVAL 1 WEEK)\n",
    "          GROUP BY week) AS authors\n",
    "      USING(week)\n",
    "      WHERE overall.additions != authors.additions\n",
    "        OR overall.deletions != authors.deletions\n",
    "        OR overall.commits != authors.commits),\n",
    "    # combine attributions back with authors\n",
    "    COMBINED AS (\n",
    "      SELECT * FROM RESIDUALS\n",
    "      UNION ALL\n",
    "      SELECT *\n",
    "        FROM `vertex-ai-mlops-369716.github_metrics.author_weekly_commits`\n",
    "        WHERE week >= DATE_SUB(CURRENT_DATE(), INTERVAL 1 WEEK))\n",
    "  # combine attributions for author statmike\n",
    "  SELECT author, week, SUM(additions) as additions, SUM(deletions) as deletions, sum(commits) as commits, github_account, github_repo\n",
    "  FROM COMBINED\n",
    "  GROUP BY author, week, github_account, github_repo;\n",
    "\"\"\"\n",
    "print(increment_query)"
   ]
  },
  {
   "cell_type": "code",
   "execution_count": 19,
   "metadata": {
    "colab": {
     "base_uri": "https://localhost:8080/"
    },
    "executionInfo": {
     "elapsed": 5203,
     "status": "ok",
     "timestamp": 1676695601715,
     "user": {
      "displayName": "Mike Henderson",
      "userId": "11664017018095232389"
     },
     "user_tz": 300
    },
    "id": "BNO267x-0njI",
    "outputId": "6009d4c5-1e03-4516-9b9c-6c81ed1b1c61"
   },
   "outputs": [
    {
     "data": {
      "text/plain": [
       "<google.cloud.bigquery.table._EmptyRowIterator at 0x7f0dc1957460>"
      ]
     },
     "execution_count": 19,
     "metadata": {},
     "output_type": "execute_result"
    }
   ],
   "source": [
    "job = bq.query(query = increment_query)\n",
    "job.result()"
   ]
  },
  {
   "cell_type": "markdown",
   "metadata": {
    "id": "M4lITr7q2v3G"
   },
   "source": [
    "## Schedule BigQuery Query\n",
    "\n",
    "**FOR NOW - SETUP IN CONSOLE USING QUERY ABOVE**\n"
   ]
  },
  {
   "cell_type": "code",
   "execution_count": 26,
   "metadata": {
    "executionInfo": {
     "elapsed": 209,
     "status": "ok",
     "timestamp": 1676696983556,
     "user": {
      "displayName": "Mike Henderson",
      "userId": "11664017018095232389"
     },
     "user_tz": 300
    },
    "id": "cd9gyEDa0nmR"
   },
   "outputs": [],
   "source": [
    "transfer_config = bigquery_datatransfer.TransferConfig(\n",
    "    display_name = \"github_contributions - update monday\",\n",
    "    data_source_id=\"scheduled_query\",\n",
    "    params={\n",
    "        \"query\": increment_query\n",
    "    },\n",
    "    schedule=\"every mon 08:00\",\n",
    "    dataset_region = 'us'\n",
    ")"
   ]
  },
  {
   "cell_type": "code",
   "execution_count": null,
   "metadata": {
    "colab": {
     "base_uri": "https://localhost:8080/",
     "height": 815
    },
    "executionInfo": {
     "elapsed": 761,
     "status": "error",
     "timestamp": 1676697300194,
     "user": {
      "displayName": "Mike Henderson",
      "userId": "11664017018095232389"
     },
     "user_tz": 300
    },
    "id": "Y4YMrwk96wE0",
    "outputId": "6a354f64-2b7a-4f2f-9923-230c676f7df2"
   },
   "outputs": [],
   "source": [
    "transfer_config = transfer_client.create_transfer_config(\n",
    "    bigquery_datatransfer.CreateTransferConfigRequest(\n",
    "        parent = 'projects/807305962454/locations/us',\n",
    "        transfer_config = transfer_config\n",
    "    )\n",
    ")"
   ]
  },
  {
   "cell_type": "code",
   "execution_count": 20,
   "metadata": {
    "colab": {
     "base_uri": "https://localhost:8080/",
     "height": 35
    },
    "executionInfo": {
     "elapsed": 226,
     "status": "ok",
     "timestamp": 1676696185350,
     "user": {
      "displayName": "Mike Henderson",
      "userId": "11664017018095232389"
     },
     "user_tz": 300
    },
    "id": "XsygFC-k0nqu",
    "outputId": "8ac2ed87-3ff0-4f02-8b00-d5dce7e5889c"
   },
   "outputs": [
    {
     "data": {
      "application/vnd.google.colaboratory.intrinsic+json": {
       "type": "string"
      },
      "text/plain": [
       "'projects/vertex-ai-mlops-369716'"
      ]
     },
     "execution_count": 20,
     "metadata": {},
     "output_type": "execute_result"
    }
   ],
   "source": [
    "parent = transfer_client.common_project_path(BQ_PROJECT)\n",
    "parent"
   ]
  },
  {
   "cell_type": "code",
   "execution_count": null,
   "metadata": {
    "id": "37h_uyoD0nyQ"
   },
   "outputs": [],
   "source": []
  },
  {
   "cell_type": "code",
   "execution_count": null,
   "metadata": {
    "id": "rxMKOmXb0n2c"
   },
   "outputs": [],
   "source": []
  },
  {
   "cell_type": "code",
   "execution_count": null,
   "metadata": {
    "id": "BXgKkIpL0n5M"
   },
   "outputs": [],
   "source": []
  },
  {
   "cell_type": "code",
   "execution_count": null,
   "metadata": {
    "id": "Yx08u7Tw0n7-"
   },
   "outputs": [],
   "source": []
  },
  {
   "cell_type": "code",
   "execution_count": null,
   "metadata": {
    "id": "kmTbgj-R0n-j"
   },
   "outputs": [],
   "source": []
  },
  {
   "cell_type": "code",
   "execution_count": null,
   "metadata": {
    "id": "3rIben7a0oBt"
   },
   "outputs": [],
   "source": []
  }
 ],
 "metadata": {
  "colab": {
   "authorship_tag": "ABX9TyMOJDC3Ucd5XpI+G6HPBUw/",
   "provenance": []
  },
  "environment": {
   "kernel": "python3",
   "name": "tf2-gpu.2-3.m94",
   "type": "gcloud",
   "uri": "gcr.io/deeplearning-platform-release/tf2-gpu.2-3:m94"
  },
  "kernelspec": {
   "display_name": "Python 3",
   "language": "python",
   "name": "python3"
  },
  "language_info": {
   "codemirror_mode": {
    "name": "ipython",
    "version": 3
   },
   "file_extension": ".py",
   "mimetype": "text/x-python",
   "name": "python",
   "nbconvert_exporter": "python",
   "pygments_lexer": "ipython3",
   "version": "3.7.12"
  }
 },
 "nbformat": 4,
 "nbformat_minor": 4
}
