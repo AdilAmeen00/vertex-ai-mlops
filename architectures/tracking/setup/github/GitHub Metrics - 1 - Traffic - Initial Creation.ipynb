{
 "cells": [
  {
   "cell_type": "markdown",
   "metadata": {
    "id": "MRoj6dSNn0mw"
   },
   "source": [
    "![ga4](https://www.google-analytics.com/collect?v=2&tid=G-6VDTYWLKX6&cid=1&en=page_view&sid=1&dl=statmike%2Fvertex-ai-mlops%2Farchitectures%2Ftracking%2Fsetup%2Fgithub&dt=GitHub+Metrics+-+1+-+Initial+Creation.ipynb)\n",
    "\n",
    "# GitHub Traffic For /statmike/vertex-ai-mlops\n",
    "\n",
    "Using the [GitHub API](https://docs.github.com/en/rest/metrics/statistics?apiVersion=2022-11-28) to:\n",
    "- get traffic data\n",
    "\n",
    "**Notes:**\n",
    "\n",
    "The API offers different ways to retrieve commit information.  These are different summaries of the the same information.\n",
    "- `/commits` retrieves all commits for a repository, but not files\n",
    "- `/commits/sha` where `sha` is the sha for a commit will retrieve the files associated with the individual commit\n",
    "- `/contributors` a weekly summary of commits, additions, deletions for each contributor\n",
    "- `/stats/code_frequency` is a weekly history of additions and deletions summarized\n",
    "- `/stats/commit_activity` has the last year of weekly data for commits \n",
    "\n",
    "\n",
    "The most granualar levels is using `/commits` and then `/commits/sha` to retrieve timestamped file level information within commits.  This data could then be rolled up to all other levels in reporting.\n",
    "\n",
    "\n",
    "Approach notes:\n",
    "- I prefer to not convert date/times to formats in pandas and instead save this as a step in BigQuery.  Why? Loading a dataframe to BigQuery has a middle layer where the data gets serialized and transferred.  This middle step is another set of format conversions that can impact dates/times.  This can cause errors when later appending to the same BigQuery tables even when the dataframe matches the original identically. A -> B -> C is not the same as A -> B|C -> C"
   ]
  },
  {
   "cell_type": "markdown",
   "metadata": {
    "id": "0KsOeZEioSYq"
   },
   "source": [
    "---\n",
    "## Colab Setup\n",
    "\n",
    "To run this notebook in Colab click [![Open In Colab](https://colab.research.google.com/assets/colab-badge.svg)](https://colab.research.google.com/github/statmike/vertex-ai-mlops/blob/main/architectures/tracking/setup/github/GitHub%20Metrics%20-%201%20-%20Traffic%20-%20Initial%20Creation.ipynb) and run the cells in this section.  Otherwise, skip this section.\n",
    "\n",
    "This cell will authenticate to GCP (follow prompts in the popup)."
   ]
  },
  {
   "cell_type": "code",
   "execution_count": 50,
   "metadata": {
    "executionInfo": {
     "elapsed": 117,
     "status": "ok",
     "timestamp": 1676832744809,
     "user": {
      "displayName": "Mike Henderson",
      "userId": "11664017018095232389"
     },
     "user_tz": 300
    },
    "id": "MWl8BI5apkcI"
   },
   "outputs": [],
   "source": [
    "PROJECT_ID = 'vertex-ai-mlops-369716' # replace with project ID"
   ]
  },
  {
   "cell_type": "code",
   "execution_count": 51,
   "metadata": {
    "colab": {
     "base_uri": "https://localhost:8080/"
    },
    "executionInfo": {
     "elapsed": 2051,
     "status": "ok",
     "timestamp": 1676832747893,
     "user": {
      "displayName": "Mike Henderson",
      "userId": "11664017018095232389"
     },
     "user_tz": 300
    },
    "id": "WdZkhxNLoVNY",
    "outputId": "fe20d544-b542-43eb-b3ba-52b9a030b3ff"
   },
   "outputs": [
    {
     "name": "stdout",
     "output_type": "stream",
     "text": [
      "Updated property [core/project].\n"
     ]
    }
   ],
   "source": [
    "try:\n",
    "    import google.colab\n",
    "    try:\n",
    "      from google.cloud import secretmanager\n",
    "    except ImportError:\n",
    "      !pip install google-cloud-secret-manager -q\n",
    "    from google.colab import auth\n",
    "    auth.authenticate_user()\n",
    "    !gcloud config set project {PROJECT_ID}\n",
    "except Exception:\n",
    "    pass"
   ]
  },
  {
   "cell_type": "markdown",
   "metadata": {
    "id": "tVA5SciOoNlf"
   },
   "source": [
    "---\n",
    "## Setup"
   ]
  },
  {
   "cell_type": "code",
   "execution_count": 1,
   "metadata": {
    "colab": {
     "base_uri": "https://localhost:8080/",
     "height": 35
    },
    "executionInfo": {
     "elapsed": 1000,
     "status": "ok",
     "timestamp": 1676832748890,
     "user": {
      "displayName": "Mike Henderson",
      "userId": "11664017018095232389"
     },
     "user_tz": 300
    },
    "id": "pCPIhNOomdyi",
    "outputId": "7353568b-69db-4b0e-a87a-c8ec90278c3f"
   },
   "outputs": [
    {
     "data": {
      "text/plain": [
       "'statmike-mlops-349915'"
      ]
     },
     "execution_count": 1,
     "metadata": {},
     "output_type": "execute_result"
    }
   ],
   "source": [
    "project = !gcloud config get-value project\n",
    "PROJECT_ID = project[0]\n",
    "PROJECT_ID"
   ]
  },
  {
   "cell_type": "code",
   "execution_count": 2,
   "metadata": {
    "executionInfo": {
     "elapsed": 5,
     "status": "ok",
     "timestamp": 1676832748891,
     "user": {
      "displayName": "Mike Henderson",
      "userId": "11664017018095232389"
     },
     "user_tz": 300
    },
    "id": "JwYJTkWAoY5U"
   },
   "outputs": [],
   "source": [
    "REGION = 'us-central1'\n",
    "\n",
    "github_user = 'statmike'\n",
    "github_repo = 'vertex-ai-mlops'\n",
    "\n",
    "BQ_PROJECT = PROJECT_ID\n",
    "BQ_DATASET = 'github_metrics'"
   ]
  },
  {
   "cell_type": "code",
   "execution_count": 38,
   "metadata": {
    "executionInfo": {
     "elapsed": 4,
     "status": "ok",
     "timestamp": 1676832748891,
     "user": {
      "displayName": "Mike Henderson",
      "userId": "11664017018095232389"
     },
     "user_tz": 300
    },
    "id": "wjIPLHPWoY8O"
   },
   "outputs": [],
   "source": [
    "import requests\n",
    "import json\n",
    "import time\n",
    "from datetime import datetime\n",
    "import pandas as pd\n",
    "import numpy as np\n",
    "from io import StringIO\n",
    "import os, shutil\n",
    "\n",
    "from google.cloud import bigquery\n",
    "from google.cloud import secretmanager"
   ]
  },
  {
   "cell_type": "code",
   "execution_count": 4,
   "metadata": {
    "executionInfo": {
     "elapsed": 131,
     "status": "ok",
     "timestamp": 1676832749153,
     "user": {
      "displayName": "Mike Henderson",
      "userId": "11664017018095232389"
     },
     "user_tz": 300
    },
    "id": "YyZ2WKRtoY-R"
   },
   "outputs": [],
   "source": [
    "bq = bigquery.Client(project = PROJECT_ID)\n",
    "secret_client = secretmanager.SecretManagerServiceClient()"
   ]
  },
  {
   "cell_type": "code",
   "execution_count": 5,
   "metadata": {
    "executionInfo": {
     "elapsed": 312,
     "status": "ok",
     "timestamp": 1676832749991,
     "user": {
      "displayName": "Mike Henderson",
      "userId": "11664017018095232389"
     },
     "user_tz": 300
    },
    "id": "XXvL27DPoZAP"
   },
   "outputs": [],
   "source": [
    "secret = secret_client.access_secret_version(request = {\"name\": f'projects/{PROJECT_ID}/secrets/github_api/versions/latest'})\n",
    "pat = secret.payload.data.decode('utf-8')"
   ]
  },
  {
   "cell_type": "markdown",
   "metadata": {
    "id": "X8rENrk0qmPm"
   },
   "source": [
    "---\n",
    "## GitHub API\n",
    "\n",
    "Define the API url for the user and repository.  Create a helper function that will make get request from API addresses and if the receive a 202 response (accepted request) then retry until it receives a 200 response (successful response)."
   ]
  },
  {
   "cell_type": "code",
   "execution_count": 6,
   "metadata": {
    "executionInfo": {
     "elapsed": 136,
     "status": "ok",
     "timestamp": 1676832751293,
     "user": {
      "displayName": "Mike Henderson",
      "userId": "11664017018095232389"
     },
     "user_tz": 300
    },
    "id": "QBkk62vnoZCU"
   },
   "outputs": [],
   "source": [
    "github_api_url = f'https://api.github.com/repos/{github_user}/{github_repo}'"
   ]
  },
  {
   "cell_type": "code",
   "execution_count": 85,
   "metadata": {
    "executionInfo": {
     "elapsed": 134,
     "status": "ok",
     "timestamp": 1676832752046,
     "user": {
      "displayName": "Mike Henderson",
      "userId": "11664017018095232389"
     },
     "user_tz": 300
    },
    "id": "viAWwoPIy0WT"
   },
   "outputs": [],
   "source": [
    "def metric_get(metric_type, query_parameters = ''):\n",
    "  response = requests.get(f'{github_api_url}/{metric_type}{query_parameters}', headers = {'Authorization': f'Bearer {pat}', 'Accept': 'application/vnd.github+json'})\n",
    "  while response.status_code == 202:\n",
    "      time.sleep(10)\n",
    "      response = requests.get(f'{github_api_url}/{metric_type}{query_parameters}', headers = {'Authorization': f'Bearer {pat}', 'Accept': 'application/vnd.github+json'})\n",
    "  return response"
   ]
  },
  {
   "cell_type": "markdown",
   "metadata": {
    "id": "rwIjYQ4c2tac"
   },
   "source": [
    "---\n",
    "## Data Exploration\n",
    "\n",
    "The following subsection retrieve and format data from different parts of the API related to commits."
   ]
  },
  {
   "cell_type": "markdown",
   "metadata": {},
   "source": [
    "### /traffic/clones\n",
    "- https://docs.github.com/en/rest/metrics/traffic?apiVersion=2022-11-28#get-repository-clones\n",
    "- 14 day history of clones\n",
    "- schema:\n",
    "    - count = total clones for windows\n",
    "    - uniques = unique cloners across window (not the sum of daily)\n",
    "    - clones:\n",
    "        - timestamp = midnight of day (start of day)"
   ]
  },
  {
   "cell_type": "code",
   "execution_count": 86,
   "metadata": {},
   "outputs": [
    {
     "data": {
      "text/plain": [
       "200"
      ]
     },
     "execution_count": 86,
     "metadata": {},
     "output_type": "execute_result"
    }
   ],
   "source": [
    "metric_type = 'traffic/clones'\n",
    "response = metric_get(metric_type)\n",
    "response.status_code"
   ]
  },
  {
   "cell_type": "code",
   "execution_count": 87,
   "metadata": {},
   "outputs": [],
   "source": [
    "#json.loads(response.text)"
   ]
  },
  {
   "cell_type": "code",
   "execution_count": 88,
   "metadata": {},
   "outputs": [
    {
     "name": "stderr",
     "output_type": "stream",
     "text": [
      "/opt/conda/lib/python3.7/site-packages/pandas/core/indexing.py:1732: SettingWithCopyWarning: \n",
      "A value is trying to be set on a copy of a slice from a DataFrame\n",
      "\n",
      "See the caveats in the documentation: https://pandas.pydata.org/pandas-docs/stable/user_guide/indexing.html#returning-a-view-versus-a-copy\n",
      "  self._setitem_single_block(indexer, value, name)\n"
     ]
    },
    {
     "data": {
      "text/html": [
       "<div>\n",
       "<style scoped>\n",
       "    .dataframe tbody tr th:only-of-type {\n",
       "        vertical-align: middle;\n",
       "    }\n",
       "\n",
       "    .dataframe tbody tr th {\n",
       "        vertical-align: top;\n",
       "    }\n",
       "\n",
       "    .dataframe thead th {\n",
       "        text-align: right;\n",
       "    }\n",
       "</style>\n",
       "<table border=\"1\" class=\"dataframe\">\n",
       "  <thead>\n",
       "    <tr style=\"text-align: right;\">\n",
       "      <th></th>\n",
       "      <th>timestamp</th>\n",
       "      <th>count</th>\n",
       "      <th>uniques</th>\n",
       "      <th>14day_uniques</th>\n",
       "    </tr>\n",
       "  </thead>\n",
       "  <tbody>\n",
       "    <tr>\n",
       "      <th>0</th>\n",
       "      <td>2023-02-09T00:00:00Z</td>\n",
       "      <td>20</td>\n",
       "      <td>12</td>\n",
       "      <td>NaN</td>\n",
       "    </tr>\n",
       "    <tr>\n",
       "      <th>1</th>\n",
       "      <td>2023-02-10T00:00:00Z</td>\n",
       "      <td>28</td>\n",
       "      <td>17</td>\n",
       "      <td>NaN</td>\n",
       "    </tr>\n",
       "    <tr>\n",
       "      <th>2</th>\n",
       "      <td>2023-02-11T00:00:00Z</td>\n",
       "      <td>10</td>\n",
       "      <td>6</td>\n",
       "      <td>NaN</td>\n",
       "    </tr>\n",
       "    <tr>\n",
       "      <th>3</th>\n",
       "      <td>2023-02-12T00:00:00Z</td>\n",
       "      <td>9</td>\n",
       "      <td>6</td>\n",
       "      <td>NaN</td>\n",
       "    </tr>\n",
       "    <tr>\n",
       "      <th>4</th>\n",
       "      <td>2023-02-13T00:00:00Z</td>\n",
       "      <td>6</td>\n",
       "      <td>6</td>\n",
       "      <td>NaN</td>\n",
       "    </tr>\n",
       "    <tr>\n",
       "      <th>5</th>\n",
       "      <td>2023-02-14T00:00:00Z</td>\n",
       "      <td>29</td>\n",
       "      <td>7</td>\n",
       "      <td>NaN</td>\n",
       "    </tr>\n",
       "    <tr>\n",
       "      <th>6</th>\n",
       "      <td>2023-02-15T00:00:00Z</td>\n",
       "      <td>13</td>\n",
       "      <td>8</td>\n",
       "      <td>NaN</td>\n",
       "    </tr>\n",
       "    <tr>\n",
       "      <th>7</th>\n",
       "      <td>2023-02-16T00:00:00Z</td>\n",
       "      <td>20</td>\n",
       "      <td>19</td>\n",
       "      <td>NaN</td>\n",
       "    </tr>\n",
       "    <tr>\n",
       "      <th>8</th>\n",
       "      <td>2023-02-17T00:00:00Z</td>\n",
       "      <td>3</td>\n",
       "      <td>2</td>\n",
       "      <td>NaN</td>\n",
       "    </tr>\n",
       "    <tr>\n",
       "      <th>9</th>\n",
       "      <td>2023-02-18T00:00:00Z</td>\n",
       "      <td>14</td>\n",
       "      <td>6</td>\n",
       "      <td>NaN</td>\n",
       "    </tr>\n",
       "    <tr>\n",
       "      <th>10</th>\n",
       "      <td>2023-02-19T00:00:00Z</td>\n",
       "      <td>10</td>\n",
       "      <td>6</td>\n",
       "      <td>NaN</td>\n",
       "    </tr>\n",
       "    <tr>\n",
       "      <th>11</th>\n",
       "      <td>2023-02-20T00:00:00Z</td>\n",
       "      <td>16</td>\n",
       "      <td>10</td>\n",
       "      <td>NaN</td>\n",
       "    </tr>\n",
       "    <tr>\n",
       "      <th>12</th>\n",
       "      <td>2023-02-21T00:00:00Z</td>\n",
       "      <td>1</td>\n",
       "      <td>1</td>\n",
       "      <td>87.0</td>\n",
       "    </tr>\n",
       "  </tbody>\n",
       "</table>\n",
       "</div>"
      ],
      "text/plain": [
       "               timestamp  count  uniques  14day_uniques\n",
       "0   2023-02-09T00:00:00Z     20       12            NaN\n",
       "1   2023-02-10T00:00:00Z     28       17            NaN\n",
       "2   2023-02-11T00:00:00Z     10        6            NaN\n",
       "3   2023-02-12T00:00:00Z      9        6            NaN\n",
       "4   2023-02-13T00:00:00Z      6        6            NaN\n",
       "5   2023-02-14T00:00:00Z     29        7            NaN\n",
       "6   2023-02-15T00:00:00Z     13        8            NaN\n",
       "7   2023-02-16T00:00:00Z     20       19            NaN\n",
       "8   2023-02-17T00:00:00Z      3        2            NaN\n",
       "9   2023-02-18T00:00:00Z     14        6            NaN\n",
       "10  2023-02-19T00:00:00Z     10        6            NaN\n",
       "11  2023-02-20T00:00:00Z     16       10            NaN\n",
       "12  2023-02-21T00:00:00Z      1        1           87.0"
      ]
     },
     "execution_count": 88,
     "metadata": {},
     "output_type": "execute_result"
    }
   ],
   "source": [
    "clones = pd.DataFrame(json.loads(response.text)['clones'])\n",
    "clones['14day_uniques'] = np.nan\n",
    "clones['14day_uniques'].iloc[-1] = json.loads(response.text)['uniques']\n",
    "clones"
   ]
  },
  {
   "cell_type": "markdown",
   "metadata": {
    "tags": []
   },
   "source": [
    "### /traffic/popular/paths\n",
    "- https://docs.github.com/en/rest/metrics/traffic?apiVersion=2022-11-28#get-top-referral-paths\n",
    "- top 10 documents for past 14 days"
   ]
  },
  {
   "cell_type": "code",
   "execution_count": 47,
   "metadata": {},
   "outputs": [
    {
     "data": {
      "text/plain": [
       "200"
      ]
     },
     "execution_count": 47,
     "metadata": {},
     "output_type": "execute_result"
    }
   ],
   "source": [
    "metric_type = 'traffic/popular/paths'\n",
    "response = metric_get(metric_type)\n",
    "response.status_code"
   ]
  },
  {
   "cell_type": "code",
   "execution_count": 48,
   "metadata": {},
   "outputs": [
    {
     "data": {
      "text/plain": [
       "[{'path': '/statmike/vertex-ai-mlops',\n",
       "  'title': 'statmike/vertex-ai-mlops: Google Cloud Platform Vertex AI end-to-end workflow...',\n",
       "  'count': 588,\n",
       "  'uniques': 223},\n",
       " {'path': '/statmike/vertex-ai-mlops/blob/main/00%20-%20Setup/00%20-%20Environment%20Setup.ipynb',\n",
       "  'title': 'vertex-ai-mlops/00 - Environment Setup.ipynb at main · statmike/vertex-ai-mlops',\n",
       "  'count': 73,\n",
       "  'uniques': 43},\n",
       " {'path': '/statmike/vertex-ai-mlops/tree/main/00%20-%20Setup',\n",
       "  'title': 'vertex-ai-mlops/00 - Setup at main · statmike/vertex-ai-mlops · GitHub',\n",
       "  'count': 68,\n",
       "  'uniques': 48},\n",
       " {'path': '/statmike/vertex-ai-mlops/tree/main/02%20-%20Vertex%20AI%20AutoML',\n",
       "  'title': 'vertex-ai-mlops/02 - Vertex AI AutoML at main · statmike/vertex-ai-mlops · Gi...',\n",
       "  'count': 63,\n",
       "  'uniques': 42},\n",
       " {'path': '/statmike/vertex-ai-mlops/tree/main/04%20-%20scikit-learn',\n",
       "  'title': 'vertex-ai-mlops/04 - scikit-learn at main · statmike/vertex-ai-mlops · GitHub',\n",
       "  'count': 60,\n",
       "  'uniques': 35},\n",
       " {'path': '/statmike/vertex-ai-mlops/blob/main/01%20-%20Data%20Sources/01%20-%20BigQuery%20-%20Table%20Data%20Source.ipynb',\n",
       "  'title': 'vertex-ai-mlops/01 - BigQuery - Table Data Source.ipynb at main · statmike/ve...',\n",
       "  'count': 52,\n",
       "  'uniques': 30},\n",
       " {'path': '/statmike/vertex-ai-mlops/tree/main/01%20-%20Data%20Sources',\n",
       "  'title': 'vertex-ai-mlops/01 - Data Sources at main · statmike/vertex-ai-mlops · GitHub',\n",
       "  'count': 48,\n",
       "  'uniques': 29},\n",
       " {'path': '/statmike/vertex-ai-mlops/tree/main/05%20-%20TensorFlow',\n",
       "  'title': 'vertex-ai-mlops/05 - TensorFlow at main · statmike/vertex-ai-mlops · GitHub',\n",
       "  'count': 47,\n",
       "  'uniques': 30},\n",
       " {'path': '/statmike/vertex-ai-mlops/blob/main/architectures/overview/05_overview.png',\n",
       "  'title': 'vertex-ai-mlops/05_overview.png at main · statmike/vertex-ai-mlops · GitHub',\n",
       "  'count': 36,\n",
       "  'uniques': 19},\n",
       " {'path': '/statmike/vertex-ai-mlops/tree/main/03%20-%20BigQuery%20ML%20(BQML)',\n",
       "  'title': 'vertex-ai-mlops/03 - BigQuery ML (BQML) at main · statmike/vertex-ai-mlops · ...',\n",
       "  'count': 35,\n",
       "  'uniques': 21}]"
      ]
     },
     "execution_count": 48,
     "metadata": {},
     "output_type": "execute_result"
    }
   ],
   "source": [
    "json.loads(response.text)"
   ]
  },
  {
   "cell_type": "code",
   "execution_count": 49,
   "metadata": {},
   "outputs": [
    {
     "data": {
      "text/html": [
       "<div>\n",
       "<style scoped>\n",
       "    .dataframe tbody tr th:only-of-type {\n",
       "        vertical-align: middle;\n",
       "    }\n",
       "\n",
       "    .dataframe tbody tr th {\n",
       "        vertical-align: top;\n",
       "    }\n",
       "\n",
       "    .dataframe thead th {\n",
       "        text-align: right;\n",
       "    }\n",
       "</style>\n",
       "<table border=\"1\" class=\"dataframe\">\n",
       "  <thead>\n",
       "    <tr style=\"text-align: right;\">\n",
       "      <th></th>\n",
       "      <th>path</th>\n",
       "      <th>title</th>\n",
       "      <th>count</th>\n",
       "      <th>uniques</th>\n",
       "    </tr>\n",
       "  </thead>\n",
       "  <tbody>\n",
       "    <tr>\n",
       "      <th>0</th>\n",
       "      <td>/statmike/vertex-ai-mlops</td>\n",
       "      <td>statmike/vertex-ai-mlops: Google Cloud Platfor...</td>\n",
       "      <td>588</td>\n",
       "      <td>223</td>\n",
       "    </tr>\n",
       "    <tr>\n",
       "      <th>1</th>\n",
       "      <td>/statmike/vertex-ai-mlops/blob/main/00%20-%20S...</td>\n",
       "      <td>vertex-ai-mlops/00 - Environment Setup.ipynb a...</td>\n",
       "      <td>73</td>\n",
       "      <td>43</td>\n",
       "    </tr>\n",
       "    <tr>\n",
       "      <th>2</th>\n",
       "      <td>/statmike/vertex-ai-mlops/tree/main/00%20-%20S...</td>\n",
       "      <td>vertex-ai-mlops/00 - Setup at main · statmike/...</td>\n",
       "      <td>68</td>\n",
       "      <td>48</td>\n",
       "    </tr>\n",
       "    <tr>\n",
       "      <th>3</th>\n",
       "      <td>/statmike/vertex-ai-mlops/tree/main/02%20-%20V...</td>\n",
       "      <td>vertex-ai-mlops/02 - Vertex AI AutoML at main ...</td>\n",
       "      <td>63</td>\n",
       "      <td>42</td>\n",
       "    </tr>\n",
       "    <tr>\n",
       "      <th>4</th>\n",
       "      <td>/statmike/vertex-ai-mlops/tree/main/04%20-%20s...</td>\n",
       "      <td>vertex-ai-mlops/04 - scikit-learn at main · st...</td>\n",
       "      <td>60</td>\n",
       "      <td>35</td>\n",
       "    </tr>\n",
       "    <tr>\n",
       "      <th>5</th>\n",
       "      <td>/statmike/vertex-ai-mlops/blob/main/01%20-%20D...</td>\n",
       "      <td>vertex-ai-mlops/01 - BigQuery - Table Data Sou...</td>\n",
       "      <td>52</td>\n",
       "      <td>30</td>\n",
       "    </tr>\n",
       "    <tr>\n",
       "      <th>6</th>\n",
       "      <td>/statmike/vertex-ai-mlops/tree/main/01%20-%20D...</td>\n",
       "      <td>vertex-ai-mlops/01 - Data Sources at main · st...</td>\n",
       "      <td>48</td>\n",
       "      <td>29</td>\n",
       "    </tr>\n",
       "    <tr>\n",
       "      <th>7</th>\n",
       "      <td>/statmike/vertex-ai-mlops/tree/main/05%20-%20T...</td>\n",
       "      <td>vertex-ai-mlops/05 - TensorFlow at main · stat...</td>\n",
       "      <td>47</td>\n",
       "      <td>30</td>\n",
       "    </tr>\n",
       "    <tr>\n",
       "      <th>8</th>\n",
       "      <td>/statmike/vertex-ai-mlops/blob/main/architectu...</td>\n",
       "      <td>vertex-ai-mlops/05_overview.png at main · stat...</td>\n",
       "      <td>36</td>\n",
       "      <td>19</td>\n",
       "    </tr>\n",
       "    <tr>\n",
       "      <th>9</th>\n",
       "      <td>/statmike/vertex-ai-mlops/tree/main/03%20-%20B...</td>\n",
       "      <td>vertex-ai-mlops/03 - BigQuery ML (BQML) at mai...</td>\n",
       "      <td>35</td>\n",
       "      <td>21</td>\n",
       "    </tr>\n",
       "  </tbody>\n",
       "</table>\n",
       "</div>"
      ],
      "text/plain": [
       "                                                path  \\\n",
       "0                          /statmike/vertex-ai-mlops   \n",
       "1  /statmike/vertex-ai-mlops/blob/main/00%20-%20S...   \n",
       "2  /statmike/vertex-ai-mlops/tree/main/00%20-%20S...   \n",
       "3  /statmike/vertex-ai-mlops/tree/main/02%20-%20V...   \n",
       "4  /statmike/vertex-ai-mlops/tree/main/04%20-%20s...   \n",
       "5  /statmike/vertex-ai-mlops/blob/main/01%20-%20D...   \n",
       "6  /statmike/vertex-ai-mlops/tree/main/01%20-%20D...   \n",
       "7  /statmike/vertex-ai-mlops/tree/main/05%20-%20T...   \n",
       "8  /statmike/vertex-ai-mlops/blob/main/architectu...   \n",
       "9  /statmike/vertex-ai-mlops/tree/main/03%20-%20B...   \n",
       "\n",
       "                                               title  count  uniques  \n",
       "0  statmike/vertex-ai-mlops: Google Cloud Platfor...    588      223  \n",
       "1  vertex-ai-mlops/00 - Environment Setup.ipynb a...     73       43  \n",
       "2  vertex-ai-mlops/00 - Setup at main · statmike/...     68       48  \n",
       "3  vertex-ai-mlops/02 - Vertex AI AutoML at main ...     63       42  \n",
       "4  vertex-ai-mlops/04 - scikit-learn at main · st...     60       35  \n",
       "5  vertex-ai-mlops/01 - BigQuery - Table Data Sou...     52       30  \n",
       "6  vertex-ai-mlops/01 - Data Sources at main · st...     48       29  \n",
       "7  vertex-ai-mlops/05 - TensorFlow at main · stat...     47       30  \n",
       "8  vertex-ai-mlops/05_overview.png at main · stat...     36       19  \n",
       "9  vertex-ai-mlops/03 - BigQuery ML (BQML) at mai...     35       21  "
      ]
     },
     "execution_count": 49,
     "metadata": {},
     "output_type": "execute_result"
    }
   ],
   "source": [
    "paths = pd.DataFrame(json.loads(response.text))\n",
    "paths"
   ]
  },
  {
   "cell_type": "code",
   "execution_count": 50,
   "metadata": {},
   "outputs": [],
   "source": [
    "# remove title\n",
    "# parse path: no / indicates readme.md, otherwise remove /blob/main and url encode\n",
    "# add todays date (or yesterday?)"
   ]
  },
  {
   "cell_type": "code",
   "execution_count": null,
   "metadata": {},
   "outputs": [],
   "source": []
  },
  {
   "cell_type": "markdown",
   "metadata": {},
   "source": [
    "### /traffic/popular/referrers\n",
    "- https://docs.github.com/en/rest/metrics/traffic?apiVersion=2022-11-28#get-top-referral-sources\n",
    "- top 10 referring sites over past 14 days"
   ]
  },
  {
   "cell_type": "code",
   "execution_count": 51,
   "metadata": {},
   "outputs": [
    {
     "data": {
      "text/plain": [
       "200"
      ]
     },
     "execution_count": 51,
     "metadata": {},
     "output_type": "execute_result"
    }
   ],
   "source": [
    "metric_type = 'traffic/popular/referrers'\n",
    "response = metric_get(metric_type)\n",
    "response.status_code"
   ]
  },
  {
   "cell_type": "code",
   "execution_count": 52,
   "metadata": {},
   "outputs": [
    {
     "data": {
      "text/plain": [
       "[{'referrer': 'youtube.com', 'count': 490, 'uniques': 117},\n",
       " {'referrer': 'github.com', 'count': 199, 'uniques': 41},\n",
       " {'referrer': 'Google', 'count': 187, 'uniques': 60},\n",
       " {'referrer': 'statics.teams.cdn.office.net', 'count': 10, 'uniques': 2},\n",
       " {'referrer': 'notebooks.githubusercontent.com', 'count': 7, 'uniques': 4},\n",
       " {'referrer': 'm.youtube.com', 'count': 6, 'uniques': 1},\n",
       " {'referrer': 'mail.google.com', 'count': 1, 'uniques': 1},\n",
       " {'referrer': 'colab.research.google.com', 'count': 1, 'uniques': 1}]"
      ]
     },
     "execution_count": 52,
     "metadata": {},
     "output_type": "execute_result"
    }
   ],
   "source": [
    "json.loads(response.text)"
   ]
  },
  {
   "cell_type": "code",
   "execution_count": 53,
   "metadata": {},
   "outputs": [
    {
     "data": {
      "text/html": [
       "<div>\n",
       "<style scoped>\n",
       "    .dataframe tbody tr th:only-of-type {\n",
       "        vertical-align: middle;\n",
       "    }\n",
       "\n",
       "    .dataframe tbody tr th {\n",
       "        vertical-align: top;\n",
       "    }\n",
       "\n",
       "    .dataframe thead th {\n",
       "        text-align: right;\n",
       "    }\n",
       "</style>\n",
       "<table border=\"1\" class=\"dataframe\">\n",
       "  <thead>\n",
       "    <tr style=\"text-align: right;\">\n",
       "      <th></th>\n",
       "      <th>referrer</th>\n",
       "      <th>count</th>\n",
       "      <th>uniques</th>\n",
       "    </tr>\n",
       "  </thead>\n",
       "  <tbody>\n",
       "    <tr>\n",
       "      <th>0</th>\n",
       "      <td>youtube.com</td>\n",
       "      <td>490</td>\n",
       "      <td>117</td>\n",
       "    </tr>\n",
       "    <tr>\n",
       "      <th>1</th>\n",
       "      <td>github.com</td>\n",
       "      <td>199</td>\n",
       "      <td>41</td>\n",
       "    </tr>\n",
       "    <tr>\n",
       "      <th>2</th>\n",
       "      <td>Google</td>\n",
       "      <td>187</td>\n",
       "      <td>60</td>\n",
       "    </tr>\n",
       "    <tr>\n",
       "      <th>3</th>\n",
       "      <td>statics.teams.cdn.office.net</td>\n",
       "      <td>10</td>\n",
       "      <td>2</td>\n",
       "    </tr>\n",
       "    <tr>\n",
       "      <th>4</th>\n",
       "      <td>notebooks.githubusercontent.com</td>\n",
       "      <td>7</td>\n",
       "      <td>4</td>\n",
       "    </tr>\n",
       "    <tr>\n",
       "      <th>5</th>\n",
       "      <td>m.youtube.com</td>\n",
       "      <td>6</td>\n",
       "      <td>1</td>\n",
       "    </tr>\n",
       "    <tr>\n",
       "      <th>6</th>\n",
       "      <td>mail.google.com</td>\n",
       "      <td>1</td>\n",
       "      <td>1</td>\n",
       "    </tr>\n",
       "    <tr>\n",
       "      <th>7</th>\n",
       "      <td>colab.research.google.com</td>\n",
       "      <td>1</td>\n",
       "      <td>1</td>\n",
       "    </tr>\n",
       "  </tbody>\n",
       "</table>\n",
       "</div>"
      ],
      "text/plain": [
       "                          referrer  count  uniques\n",
       "0                      youtube.com    490      117\n",
       "1                       github.com    199       41\n",
       "2                           Google    187       60\n",
       "3     statics.teams.cdn.office.net     10        2\n",
       "4  notebooks.githubusercontent.com      7        4\n",
       "5                    m.youtube.com      6        1\n",
       "6                  mail.google.com      1        1\n",
       "7        colab.research.google.com      1        1"
      ]
     },
     "execution_count": 53,
     "metadata": {},
     "output_type": "execute_result"
    }
   ],
   "source": [
    "referrer = pd.DataFrame(json.loads(response.text))\n",
    "referrer"
   ]
  },
  {
   "cell_type": "code",
   "execution_count": 54,
   "metadata": {},
   "outputs": [],
   "source": [
    "# add todays date (or yesterday?)"
   ]
  },
  {
   "cell_type": "code",
   "execution_count": null,
   "metadata": {},
   "outputs": [],
   "source": []
  },
  {
   "cell_type": "markdown",
   "metadata": {},
   "source": [
    "### /traffic/views\n",
    "- https://docs.github.com/en/rest/metrics/traffic?apiVersion=2022-11-28#get-page-views\n",
    "- daily views for last 14 days\n",
    "- schema:\n",
    "    - count = total views for last 2 weeks (sum of daily)\n",
    "    - uniques = total unique over 14 days (not sum of daily)\n",
    "    - views:\n",
    "        - timestamp - daily at midnight\n",
    "        - count = daily count\n",
    "        - uniques = daily unique count"
   ]
  },
  {
   "cell_type": "code",
   "execution_count": 55,
   "metadata": {},
   "outputs": [
    {
     "data": {
      "text/plain": [
       "200"
      ]
     },
     "execution_count": 55,
     "metadata": {},
     "output_type": "execute_result"
    }
   ],
   "source": [
    "metric_type = 'traffic/views'\n",
    "response = metric_get(metric_type)\n",
    "response.status_code"
   ]
  },
  {
   "cell_type": "code",
   "execution_count": 56,
   "metadata": {},
   "outputs": [
    {
     "data": {
      "text/plain": [
       "{'count': 2224,\n",
       " 'uniques': 324,\n",
       " 'views': [{'timestamp': '2023-02-09T00:00:00Z', 'count': 155, 'uniques': 43},\n",
       "  {'timestamp': '2023-02-10T00:00:00Z', 'count': 185, 'uniques': 45},\n",
       "  {'timestamp': '2023-02-11T00:00:00Z', 'count': 78, 'uniques': 17},\n",
       "  {'timestamp': '2023-02-12T00:00:00Z', 'count': 90, 'uniques': 20},\n",
       "  {'timestamp': '2023-02-13T00:00:00Z', 'count': 219, 'uniques': 43},\n",
       "  {'timestamp': '2023-02-14T00:00:00Z', 'count': 176, 'uniques': 48},\n",
       "  {'timestamp': '2023-02-15T00:00:00Z', 'count': 118, 'uniques': 37},\n",
       "  {'timestamp': '2023-02-16T00:00:00Z', 'count': 162, 'uniques': 35},\n",
       "  {'timestamp': '2023-02-17T00:00:00Z', 'count': 157, 'uniques': 38},\n",
       "  {'timestamp': '2023-02-18T00:00:00Z', 'count': 87, 'uniques': 18},\n",
       "  {'timestamp': '2023-02-19T00:00:00Z', 'count': 82, 'uniques': 18},\n",
       "  {'timestamp': '2023-02-20T00:00:00Z', 'count': 255, 'uniques': 43},\n",
       "  {'timestamp': '2023-02-21T00:00:00Z', 'count': 260, 'uniques': 51},\n",
       "  {'timestamp': '2023-02-22T00:00:00Z', 'count': 200, 'uniques': 33}]}"
      ]
     },
     "execution_count": 56,
     "metadata": {},
     "output_type": "execute_result"
    }
   ],
   "source": [
    "json.loads(response.text)"
   ]
  },
  {
   "cell_type": "code",
   "execution_count": 57,
   "metadata": {},
   "outputs": [
    {
     "name": "stderr",
     "output_type": "stream",
     "text": [
      "/opt/conda/lib/python3.7/site-packages/pandas/core/indexing.py:1732: SettingWithCopyWarning: \n",
      "A value is trying to be set on a copy of a slice from a DataFrame\n",
      "\n",
      "See the caveats in the documentation: https://pandas.pydata.org/pandas-docs/stable/user_guide/indexing.html#returning-a-view-versus-a-copy\n",
      "  self._setitem_single_block(indexer, value, name)\n"
     ]
    },
    {
     "data": {
      "text/html": [
       "<div>\n",
       "<style scoped>\n",
       "    .dataframe tbody tr th:only-of-type {\n",
       "        vertical-align: middle;\n",
       "    }\n",
       "\n",
       "    .dataframe tbody tr th {\n",
       "        vertical-align: top;\n",
       "    }\n",
       "\n",
       "    .dataframe thead th {\n",
       "        text-align: right;\n",
       "    }\n",
       "</style>\n",
       "<table border=\"1\" class=\"dataframe\">\n",
       "  <thead>\n",
       "    <tr style=\"text-align: right;\">\n",
       "      <th></th>\n",
       "      <th>timestamp</th>\n",
       "      <th>count</th>\n",
       "      <th>uniques</th>\n",
       "      <th>14day_uniques</th>\n",
       "    </tr>\n",
       "  </thead>\n",
       "  <tbody>\n",
       "    <tr>\n",
       "      <th>0</th>\n",
       "      <td>2023-02-09T00:00:00Z</td>\n",
       "      <td>155</td>\n",
       "      <td>43</td>\n",
       "      <td>NaN</td>\n",
       "    </tr>\n",
       "    <tr>\n",
       "      <th>1</th>\n",
       "      <td>2023-02-10T00:00:00Z</td>\n",
       "      <td>185</td>\n",
       "      <td>45</td>\n",
       "      <td>NaN</td>\n",
       "    </tr>\n",
       "    <tr>\n",
       "      <th>2</th>\n",
       "      <td>2023-02-11T00:00:00Z</td>\n",
       "      <td>78</td>\n",
       "      <td>17</td>\n",
       "      <td>NaN</td>\n",
       "    </tr>\n",
       "    <tr>\n",
       "      <th>3</th>\n",
       "      <td>2023-02-12T00:00:00Z</td>\n",
       "      <td>90</td>\n",
       "      <td>20</td>\n",
       "      <td>NaN</td>\n",
       "    </tr>\n",
       "    <tr>\n",
       "      <th>4</th>\n",
       "      <td>2023-02-13T00:00:00Z</td>\n",
       "      <td>219</td>\n",
       "      <td>43</td>\n",
       "      <td>NaN</td>\n",
       "    </tr>\n",
       "    <tr>\n",
       "      <th>5</th>\n",
       "      <td>2023-02-14T00:00:00Z</td>\n",
       "      <td>176</td>\n",
       "      <td>48</td>\n",
       "      <td>NaN</td>\n",
       "    </tr>\n",
       "    <tr>\n",
       "      <th>6</th>\n",
       "      <td>2023-02-15T00:00:00Z</td>\n",
       "      <td>118</td>\n",
       "      <td>37</td>\n",
       "      <td>NaN</td>\n",
       "    </tr>\n",
       "    <tr>\n",
       "      <th>7</th>\n",
       "      <td>2023-02-16T00:00:00Z</td>\n",
       "      <td>162</td>\n",
       "      <td>35</td>\n",
       "      <td>NaN</td>\n",
       "    </tr>\n",
       "    <tr>\n",
       "      <th>8</th>\n",
       "      <td>2023-02-17T00:00:00Z</td>\n",
       "      <td>157</td>\n",
       "      <td>38</td>\n",
       "      <td>NaN</td>\n",
       "    </tr>\n",
       "    <tr>\n",
       "      <th>9</th>\n",
       "      <td>2023-02-18T00:00:00Z</td>\n",
       "      <td>87</td>\n",
       "      <td>18</td>\n",
       "      <td>NaN</td>\n",
       "    </tr>\n",
       "    <tr>\n",
       "      <th>10</th>\n",
       "      <td>2023-02-19T00:00:00Z</td>\n",
       "      <td>82</td>\n",
       "      <td>18</td>\n",
       "      <td>NaN</td>\n",
       "    </tr>\n",
       "    <tr>\n",
       "      <th>11</th>\n",
       "      <td>2023-02-20T00:00:00Z</td>\n",
       "      <td>255</td>\n",
       "      <td>43</td>\n",
       "      <td>NaN</td>\n",
       "    </tr>\n",
       "    <tr>\n",
       "      <th>12</th>\n",
       "      <td>2023-02-21T00:00:00Z</td>\n",
       "      <td>260</td>\n",
       "      <td>51</td>\n",
       "      <td>NaN</td>\n",
       "    </tr>\n",
       "    <tr>\n",
       "      <th>13</th>\n",
       "      <td>2023-02-22T00:00:00Z</td>\n",
       "      <td>200</td>\n",
       "      <td>33</td>\n",
       "      <td>324.0</td>\n",
       "    </tr>\n",
       "  </tbody>\n",
       "</table>\n",
       "</div>"
      ],
      "text/plain": [
       "               timestamp  count  uniques  14day_uniques\n",
       "0   2023-02-09T00:00:00Z    155       43            NaN\n",
       "1   2023-02-10T00:00:00Z    185       45            NaN\n",
       "2   2023-02-11T00:00:00Z     78       17            NaN\n",
       "3   2023-02-12T00:00:00Z     90       20            NaN\n",
       "4   2023-02-13T00:00:00Z    219       43            NaN\n",
       "5   2023-02-14T00:00:00Z    176       48            NaN\n",
       "6   2023-02-15T00:00:00Z    118       37            NaN\n",
       "7   2023-02-16T00:00:00Z    162       35            NaN\n",
       "8   2023-02-17T00:00:00Z    157       38            NaN\n",
       "9   2023-02-18T00:00:00Z     87       18            NaN\n",
       "10  2023-02-19T00:00:00Z     82       18            NaN\n",
       "11  2023-02-20T00:00:00Z    255       43            NaN\n",
       "12  2023-02-21T00:00:00Z    260       51            NaN\n",
       "13  2023-02-22T00:00:00Z    200       33          324.0"
      ]
     },
     "execution_count": 57,
     "metadata": {},
     "output_type": "execute_result"
    }
   ],
   "source": [
    "views = pd.DataFrame(json.loads(response.text)['views'])\n",
    "views['14day_uniques'] = np.nan\n",
    "views['14day_uniques'].iloc[-1] = json.loads(response.text)['uniques']\n",
    "views"
   ]
  },
  {
   "cell_type": "markdown",
   "metadata": {},
   "source": [
    "### /stargazers\n",
    "- https://docs.github.com/en/rest/activity/starring?apiVersion=2022-11-28#list-stargazers\n",
    "- list of current users who have starred the repository"
   ]
  },
  {
   "cell_type": "code",
   "execution_count": 92,
   "metadata": {},
   "outputs": [
    {
     "data": {
      "text/plain": [
       "148"
      ]
     },
     "execution_count": 92,
     "metadata": {},
     "output_type": "execute_result"
    }
   ],
   "source": [
    "metric_type = 'stargazers'\n",
    "\n",
    "page_size = 100\n",
    "page = 1\n",
    "raw = []\n",
    "while page_size == 100:\n",
    "    response = metric_get(metric_type, f'?per_page={page_size}&page={page}')\n",
    "    raw_new = json.loads(response.text)\n",
    "    raw += raw_new\n",
    "    page_size = len(raw_new)\n",
    "    page += 1\n",
    "len(raw)"
   ]
  },
  {
   "cell_type": "code",
   "execution_count": 93,
   "metadata": {},
   "outputs": [
    {
     "data": {
      "text/plain": [
       "{'login': 'newcooldiscoveries',\n",
       " 'id': 68378011,\n",
       " 'node_id': 'MDQ6VXNlcjY4Mzc4MDEx',\n",
       " 'avatar_url': 'https://avatars.githubusercontent.com/u/68378011?v=4',\n",
       " 'gravatar_id': '',\n",
       " 'url': 'https://api.github.com/users/newcooldiscoveries',\n",
       " 'html_url': 'https://github.com/newcooldiscoveries',\n",
       " 'followers_url': 'https://api.github.com/users/newcooldiscoveries/followers',\n",
       " 'following_url': 'https://api.github.com/users/newcooldiscoveries/following{/other_user}',\n",
       " 'gists_url': 'https://api.github.com/users/newcooldiscoveries/gists{/gist_id}',\n",
       " 'starred_url': 'https://api.github.com/users/newcooldiscoveries/starred{/owner}{/repo}',\n",
       " 'subscriptions_url': 'https://api.github.com/users/newcooldiscoveries/subscriptions',\n",
       " 'organizations_url': 'https://api.github.com/users/newcooldiscoveries/orgs',\n",
       " 'repos_url': 'https://api.github.com/users/newcooldiscoveries/repos',\n",
       " 'events_url': 'https://api.github.com/users/newcooldiscoveries/events{/privacy}',\n",
       " 'received_events_url': 'https://api.github.com/users/newcooldiscoveries/received_events',\n",
       " 'type': 'User',\n",
       " 'site_admin': False}"
      ]
     },
     "execution_count": 93,
     "metadata": {},
     "output_type": "execute_result"
    }
   ],
   "source": [
    "raw[0]"
   ]
  },
  {
   "cell_type": "code",
   "execution_count": 94,
   "metadata": {},
   "outputs": [
    {
     "data": {
      "text/plain": [
       "0      newcooldiscoveries\n",
       "1                giranntu\n",
       "2                 sinanek\n",
       "3             amith-ajith\n",
       "4                 rsavoie\n",
       "              ...        \n",
       "143           JosephDavis\n",
       "144                dunncw\n",
       "145        PeterGolovatyi\n",
       "146        littlefish0331\n",
       "147                   bx2\n",
       "Name: login, Length: 148, dtype: object"
      ]
     },
     "execution_count": 94,
     "metadata": {},
     "output_type": "execute_result"
    }
   ],
   "source": [
    "stars = pd.DataFrame(raw)['login']\n",
    "stars"
   ]
  },
  {
   "cell_type": "code",
   "execution_count": 63,
   "metadata": {},
   "outputs": [],
   "source": [
    "# add columns for first seen, last seen"
   ]
  },
  {
   "cell_type": "code",
   "execution_count": null,
   "metadata": {},
   "outputs": [],
   "source": []
  },
  {
   "cell_type": "markdown",
   "metadata": {},
   "source": [
    "### /forks\n",
    "- https://docs.github.com/en/rest/repos/forks?apiVersion=2022-11-28#list-forks\n",
    "- list of current forks of main repository"
   ]
  },
  {
   "cell_type": "code",
   "execution_count": 95,
   "metadata": {},
   "outputs": [
    {
     "data": {
      "text/plain": [
       "73"
      ]
     },
     "execution_count": 95,
     "metadata": {},
     "output_type": "execute_result"
    }
   ],
   "source": [
    "metric_type = 'forks'\n",
    "\n",
    "page_size = 100\n",
    "page = 1\n",
    "raw = []\n",
    "while page_size == 100:\n",
    "    response = metric_get(metric_type, f'?per_page={page_size}&page={page}')\n",
    "    raw_new = json.loads(response.text)\n",
    "    raw += raw_new\n",
    "    page_size = len(raw_new)\n",
    "    page += 1\n",
    "len(raw)"
   ]
  },
  {
   "cell_type": "code",
   "execution_count": 96,
   "metadata": {},
   "outputs": [
    {
     "data": {
      "text/plain": [
       "{'id': 605249844,\n",
       " 'node_id': 'R_kgDOJBNhNA',\n",
       " 'name': 'vertex-ai-mlops',\n",
       " 'full_name': 'yfumero/vertex-ai-mlops',\n",
       " 'private': False,\n",
       " 'owner': {'login': 'yfumero',\n",
       "  'id': 36447627,\n",
       "  'node_id': 'MDQ6VXNlcjM2NDQ3NjI3',\n",
       "  'avatar_url': 'https://avatars.githubusercontent.com/u/36447627?v=4',\n",
       "  'gravatar_id': '',\n",
       "  'url': 'https://api.github.com/users/yfumero',\n",
       "  'html_url': 'https://github.com/yfumero',\n",
       "  'followers_url': 'https://api.github.com/users/yfumero/followers',\n",
       "  'following_url': 'https://api.github.com/users/yfumero/following{/other_user}',\n",
       "  'gists_url': 'https://api.github.com/users/yfumero/gists{/gist_id}',\n",
       "  'starred_url': 'https://api.github.com/users/yfumero/starred{/owner}{/repo}',\n",
       "  'subscriptions_url': 'https://api.github.com/users/yfumero/subscriptions',\n",
       "  'organizations_url': 'https://api.github.com/users/yfumero/orgs',\n",
       "  'repos_url': 'https://api.github.com/users/yfumero/repos',\n",
       "  'events_url': 'https://api.github.com/users/yfumero/events{/privacy}',\n",
       "  'received_events_url': 'https://api.github.com/users/yfumero/received_events',\n",
       "  'type': 'User',\n",
       "  'site_admin': False},\n",
       " 'html_url': 'https://github.com/yfumero/vertex-ai-mlops',\n",
       " 'description': 'Google Cloud Platform Vertex AI end-to-end workflows for machine learning operations',\n",
       " 'fork': True,\n",
       " 'url': 'https://api.github.com/repos/yfumero/vertex-ai-mlops',\n",
       " 'forks_url': 'https://api.github.com/repos/yfumero/vertex-ai-mlops/forks',\n",
       " 'keys_url': 'https://api.github.com/repos/yfumero/vertex-ai-mlops/keys{/key_id}',\n",
       " 'collaborators_url': 'https://api.github.com/repos/yfumero/vertex-ai-mlops/collaborators{/collaborator}',\n",
       " 'teams_url': 'https://api.github.com/repos/yfumero/vertex-ai-mlops/teams',\n",
       " 'hooks_url': 'https://api.github.com/repos/yfumero/vertex-ai-mlops/hooks',\n",
       " 'issue_events_url': 'https://api.github.com/repos/yfumero/vertex-ai-mlops/issues/events{/number}',\n",
       " 'events_url': 'https://api.github.com/repos/yfumero/vertex-ai-mlops/events',\n",
       " 'assignees_url': 'https://api.github.com/repos/yfumero/vertex-ai-mlops/assignees{/user}',\n",
       " 'branches_url': 'https://api.github.com/repos/yfumero/vertex-ai-mlops/branches{/branch}',\n",
       " 'tags_url': 'https://api.github.com/repos/yfumero/vertex-ai-mlops/tags',\n",
       " 'blobs_url': 'https://api.github.com/repos/yfumero/vertex-ai-mlops/git/blobs{/sha}',\n",
       " 'git_tags_url': 'https://api.github.com/repos/yfumero/vertex-ai-mlops/git/tags{/sha}',\n",
       " 'git_refs_url': 'https://api.github.com/repos/yfumero/vertex-ai-mlops/git/refs{/sha}',\n",
       " 'trees_url': 'https://api.github.com/repos/yfumero/vertex-ai-mlops/git/trees{/sha}',\n",
       " 'statuses_url': 'https://api.github.com/repos/yfumero/vertex-ai-mlops/statuses/{sha}',\n",
       " 'languages_url': 'https://api.github.com/repos/yfumero/vertex-ai-mlops/languages',\n",
       " 'stargazers_url': 'https://api.github.com/repos/yfumero/vertex-ai-mlops/stargazers',\n",
       " 'contributors_url': 'https://api.github.com/repos/yfumero/vertex-ai-mlops/contributors',\n",
       " 'subscribers_url': 'https://api.github.com/repos/yfumero/vertex-ai-mlops/subscribers',\n",
       " 'subscription_url': 'https://api.github.com/repos/yfumero/vertex-ai-mlops/subscription',\n",
       " 'commits_url': 'https://api.github.com/repos/yfumero/vertex-ai-mlops/commits{/sha}',\n",
       " 'git_commits_url': 'https://api.github.com/repos/yfumero/vertex-ai-mlops/git/commits{/sha}',\n",
       " 'comments_url': 'https://api.github.com/repos/yfumero/vertex-ai-mlops/comments{/number}',\n",
       " 'issue_comment_url': 'https://api.github.com/repos/yfumero/vertex-ai-mlops/issues/comments{/number}',\n",
       " 'contents_url': 'https://api.github.com/repos/yfumero/vertex-ai-mlops/contents/{+path}',\n",
       " 'compare_url': 'https://api.github.com/repos/yfumero/vertex-ai-mlops/compare/{base}...{head}',\n",
       " 'merges_url': 'https://api.github.com/repos/yfumero/vertex-ai-mlops/merges',\n",
       " 'archive_url': 'https://api.github.com/repos/yfumero/vertex-ai-mlops/{archive_format}{/ref}',\n",
       " 'downloads_url': 'https://api.github.com/repos/yfumero/vertex-ai-mlops/downloads',\n",
       " 'issues_url': 'https://api.github.com/repos/yfumero/vertex-ai-mlops/issues{/number}',\n",
       " 'pulls_url': 'https://api.github.com/repos/yfumero/vertex-ai-mlops/pulls{/number}',\n",
       " 'milestones_url': 'https://api.github.com/repos/yfumero/vertex-ai-mlops/milestones{/number}',\n",
       " 'notifications_url': 'https://api.github.com/repos/yfumero/vertex-ai-mlops/notifications{?since,all,participating}',\n",
       " 'labels_url': 'https://api.github.com/repos/yfumero/vertex-ai-mlops/labels{/name}',\n",
       " 'releases_url': 'https://api.github.com/repos/yfumero/vertex-ai-mlops/releases{/id}',\n",
       " 'deployments_url': 'https://api.github.com/repos/yfumero/vertex-ai-mlops/deployments',\n",
       " 'created_at': '2023-02-22T19:08:00Z',\n",
       " 'updated_at': '2023-02-22T12:39:23Z',\n",
       " 'pushed_at': '2023-02-22T15:14:17Z',\n",
       " 'git_url': 'git://github.com/yfumero/vertex-ai-mlops.git',\n",
       " 'ssh_url': 'git@github.com:yfumero/vertex-ai-mlops.git',\n",
       " 'clone_url': 'https://github.com/yfumero/vertex-ai-mlops.git',\n",
       " 'svn_url': 'https://github.com/yfumero/vertex-ai-mlops',\n",
       " 'homepage': '',\n",
       " 'size': 539432,\n",
       " 'stargazers_count': 0,\n",
       " 'watchers_count': 0,\n",
       " 'language': None,\n",
       " 'has_issues': False,\n",
       " 'has_projects': True,\n",
       " 'has_downloads': True,\n",
       " 'has_wiki': True,\n",
       " 'has_pages': False,\n",
       " 'has_discussions': False,\n",
       " 'forks_count': 0,\n",
       " 'mirror_url': None,\n",
       " 'archived': False,\n",
       " 'disabled': False,\n",
       " 'open_issues_count': 0,\n",
       " 'license': {'key': 'apache-2.0',\n",
       "  'name': 'Apache License 2.0',\n",
       "  'spdx_id': 'Apache-2.0',\n",
       "  'url': 'https://api.github.com/licenses/apache-2.0',\n",
       "  'node_id': 'MDc6TGljZW5zZTI='},\n",
       " 'allow_forking': True,\n",
       " 'is_template': False,\n",
       " 'web_commit_signoff_required': False,\n",
       " 'topics': [],\n",
       " 'visibility': 'public',\n",
       " 'forks': 0,\n",
       " 'open_issues': 0,\n",
       " 'watchers': 0,\n",
       " 'default_branch': 'main',\n",
       " 'permissions': {'admin': False,\n",
       "  'maintain': False,\n",
       "  'push': False,\n",
       "  'triage': False,\n",
       "  'pull': True}}"
      ]
     },
     "execution_count": 96,
     "metadata": {},
     "output_type": "execute_result"
    }
   ],
   "source": [
    "raw[0]"
   ]
  },
  {
   "cell_type": "code",
   "execution_count": 97,
   "metadata": {},
   "outputs": [
    {
     "data": {
      "text/html": [
       "<div>\n",
       "<style scoped>\n",
       "    .dataframe tbody tr th:only-of-type {\n",
       "        vertical-align: middle;\n",
       "    }\n",
       "\n",
       "    .dataframe tbody tr th {\n",
       "        vertical-align: top;\n",
       "    }\n",
       "\n",
       "    .dataframe thead th {\n",
       "        text-align: right;\n",
       "    }\n",
       "</style>\n",
       "<table border=\"1\" class=\"dataframe\">\n",
       "  <thead>\n",
       "    <tr style=\"text-align: right;\">\n",
       "      <th></th>\n",
       "      <th>name</th>\n",
       "      <th>full_name</th>\n",
       "      <th>owner</th>\n",
       "      <th>stars</th>\n",
       "      <th>watchers</th>\n",
       "      <th>forks</th>\n",
       "    </tr>\n",
       "  </thead>\n",
       "  <tbody>\n",
       "    <tr>\n",
       "      <th>0</th>\n",
       "      <td>vertex-ai-mlops</td>\n",
       "      <td>yfumero/vertex-ai-mlops</td>\n",
       "      <td>yfumero</td>\n",
       "      <td>0</td>\n",
       "      <td>0</td>\n",
       "      <td>0</td>\n",
       "    </tr>\n",
       "    <tr>\n",
       "      <th>1</th>\n",
       "      <td>vertex-ai-mlops</td>\n",
       "      <td>ivanmkc/vertex-ai-mlops</td>\n",
       "      <td>ivanmkc</td>\n",
       "      <td>0</td>\n",
       "      <td>0</td>\n",
       "      <td>0</td>\n",
       "    </tr>\n",
       "    <tr>\n",
       "      <th>2</th>\n",
       "      <td>vertex-ai-mlops</td>\n",
       "      <td>xjaztek/vertex-ai-mlops</td>\n",
       "      <td>xjaztek</td>\n",
       "      <td>0</td>\n",
       "      <td>0</td>\n",
       "      <td>0</td>\n",
       "    </tr>\n",
       "    <tr>\n",
       "      <th>3</th>\n",
       "      <td>vertex-ai-mlops</td>\n",
       "      <td>praneethkumar4/vertex-ai-mlops</td>\n",
       "      <td>praneethkumar4</td>\n",
       "      <td>0</td>\n",
       "      <td>0</td>\n",
       "      <td>0</td>\n",
       "    </tr>\n",
       "    <tr>\n",
       "      <th>4</th>\n",
       "      <td>vertex-ai-mlops</td>\n",
       "      <td>psod18/vertex-ai-mlops</td>\n",
       "      <td>psod18</td>\n",
       "      <td>0</td>\n",
       "      <td>0</td>\n",
       "      <td>0</td>\n",
       "    </tr>\n",
       "    <tr>\n",
       "      <th>...</th>\n",
       "      <td>...</td>\n",
       "      <td>...</td>\n",
       "      <td>...</td>\n",
       "      <td>...</td>\n",
       "      <td>...</td>\n",
       "      <td>...</td>\n",
       "    </tr>\n",
       "    <tr>\n",
       "      <th>68</th>\n",
       "      <td>vertex-ai-mlops</td>\n",
       "      <td>danielnguyen-ds/vertex-ai-mlops</td>\n",
       "      <td>danielnguyen-ds</td>\n",
       "      <td>0</td>\n",
       "      <td>0</td>\n",
       "      <td>0</td>\n",
       "    </tr>\n",
       "    <tr>\n",
       "      <th>69</th>\n",
       "      <td>vertex-ai-mlops</td>\n",
       "      <td>justinjm/vertex-ai-mlops</td>\n",
       "      <td>justinjm</td>\n",
       "      <td>0</td>\n",
       "      <td>0</td>\n",
       "      <td>0</td>\n",
       "    </tr>\n",
       "    <tr>\n",
       "      <th>70</th>\n",
       "      <td>vertex-ai-mlops</td>\n",
       "      <td>motconmeobuon/vertex-ai-mlops</td>\n",
       "      <td>motconmeobuon</td>\n",
       "      <td>0</td>\n",
       "      <td>0</td>\n",
       "      <td>0</td>\n",
       "    </tr>\n",
       "    <tr>\n",
       "      <th>71</th>\n",
       "      <td>vertex-ai-mlops</td>\n",
       "      <td>ANN-KOREA/vertex-ai-mlops</td>\n",
       "      <td>ANN-KOREA</td>\n",
       "      <td>0</td>\n",
       "      <td>0</td>\n",
       "      <td>0</td>\n",
       "    </tr>\n",
       "    <tr>\n",
       "      <th>72</th>\n",
       "      <td>vertex-ai-mlops</td>\n",
       "      <td>newcooldiscoveries/vertex-ai-mlops</td>\n",
       "      <td>newcooldiscoveries</td>\n",
       "      <td>0</td>\n",
       "      <td>0</td>\n",
       "      <td>0</td>\n",
       "    </tr>\n",
       "  </tbody>\n",
       "</table>\n",
       "<p>73 rows × 6 columns</p>\n",
       "</div>"
      ],
      "text/plain": [
       "               name                           full_name               owner  \\\n",
       "0   vertex-ai-mlops             yfumero/vertex-ai-mlops             yfumero   \n",
       "1   vertex-ai-mlops             ivanmkc/vertex-ai-mlops             ivanmkc   \n",
       "2   vertex-ai-mlops             xjaztek/vertex-ai-mlops             xjaztek   \n",
       "3   vertex-ai-mlops      praneethkumar4/vertex-ai-mlops      praneethkumar4   \n",
       "4   vertex-ai-mlops              psod18/vertex-ai-mlops              psod18   \n",
       "..              ...                                 ...                 ...   \n",
       "68  vertex-ai-mlops     danielnguyen-ds/vertex-ai-mlops     danielnguyen-ds   \n",
       "69  vertex-ai-mlops            justinjm/vertex-ai-mlops            justinjm   \n",
       "70  vertex-ai-mlops       motconmeobuon/vertex-ai-mlops       motconmeobuon   \n",
       "71  vertex-ai-mlops           ANN-KOREA/vertex-ai-mlops           ANN-KOREA   \n",
       "72  vertex-ai-mlops  newcooldiscoveries/vertex-ai-mlops  newcooldiscoveries   \n",
       "\n",
       "    stars  watchers  forks  \n",
       "0       0         0      0  \n",
       "1       0         0      0  \n",
       "2       0         0      0  \n",
       "3       0         0      0  \n",
       "4       0         0      0  \n",
       "..    ...       ...    ...  \n",
       "68      0         0      0  \n",
       "69      0         0      0  \n",
       "70      0         0      0  \n",
       "71      0         0      0  \n",
       "72      0         0      0  \n",
       "\n",
       "[73 rows x 6 columns]"
      ]
     },
     "execution_count": 97,
     "metadata": {},
     "output_type": "execute_result"
    }
   ],
   "source": [
    "forks = []\n",
    "for f in raw:\n",
    "    forks += [{\n",
    "        'name': f['name'],\n",
    "        'full_name': f['full_name'],\n",
    "        'owner': f['owner']['login'],\n",
    "        'stars': f['stargazers_count'],\n",
    "        'watchers': f['watchers_count'],\n",
    "        'forks': f['forks_count']\n",
    "    }]\n",
    "forks = pd.DataFrame(forks)\n",
    "forks"
   ]
  },
  {
   "cell_type": "code",
   "execution_count": 72,
   "metadata": {},
   "outputs": [],
   "source": [
    "# add columns for first seen, last seen"
   ]
  },
  {
   "cell_type": "code",
   "execution_count": 80,
   "metadata": {},
   "outputs": [],
   "source": []
  },
  {
   "cell_type": "markdown",
   "metadata": {},
   "source": [
    "### /subscribers\n",
    "- https://docs.github.com/en/rest/activity/watching?apiVersion=2022-11-28#list-watchers\n",
    "- list of watchers for repository"
   ]
  },
  {
   "cell_type": "code",
   "execution_count": 98,
   "metadata": {},
   "outputs": [
    {
     "data": {
      "text/plain": [
       "12"
      ]
     },
     "execution_count": 98,
     "metadata": {},
     "output_type": "execute_result"
    }
   ],
   "source": [
    "metric_type = 'subscribers'\n",
    "\n",
    "page_size = 100\n",
    "page = 1\n",
    "raw = []\n",
    "while page_size == 100:\n",
    "    response = metric_get(metric_type, f'?per_page={page_size}&page={page}')\n",
    "    raw_new = json.loads(response.text)\n",
    "    raw += raw_new\n",
    "    page_size = len(raw_new)\n",
    "    page += 1\n",
    "len(raw)"
   ]
  },
  {
   "cell_type": "code",
   "execution_count": 99,
   "metadata": {},
   "outputs": [
    {
     "data": {
      "text/plain": [
       "{'login': 'statmike',\n",
       " 'id': 17235991,\n",
       " 'node_id': 'MDQ6VXNlcjE3MjM1OTkx',\n",
       " 'avatar_url': 'https://avatars.githubusercontent.com/u/17235991?v=4',\n",
       " 'gravatar_id': '',\n",
       " 'url': 'https://api.github.com/users/statmike',\n",
       " 'html_url': 'https://github.com/statmike',\n",
       " 'followers_url': 'https://api.github.com/users/statmike/followers',\n",
       " 'following_url': 'https://api.github.com/users/statmike/following{/other_user}',\n",
       " 'gists_url': 'https://api.github.com/users/statmike/gists{/gist_id}',\n",
       " 'starred_url': 'https://api.github.com/users/statmike/starred{/owner}{/repo}',\n",
       " 'subscriptions_url': 'https://api.github.com/users/statmike/subscriptions',\n",
       " 'organizations_url': 'https://api.github.com/users/statmike/orgs',\n",
       " 'repos_url': 'https://api.github.com/users/statmike/repos',\n",
       " 'events_url': 'https://api.github.com/users/statmike/events{/privacy}',\n",
       " 'received_events_url': 'https://api.github.com/users/statmike/received_events',\n",
       " 'type': 'User',\n",
       " 'site_admin': False}"
      ]
     },
     "execution_count": 99,
     "metadata": {},
     "output_type": "execute_result"
    }
   ],
   "source": [
    "raw[0]"
   ]
  },
  {
   "cell_type": "code",
   "execution_count": 100,
   "metadata": {},
   "outputs": [
    {
     "data": {
      "text/plain": [
       "0              statmike\n",
       "1               sinanek\n",
       "2              inardini\n",
       "3        rafal-wasowski\n",
       "4            majacaci00\n",
       "5             hamehrabi\n",
       "6     alvaroferrerrizzo\n",
       "7       rmazara-kinaxis\n",
       "8           slopez-lmes\n",
       "9              drkostas\n",
       "10              rsher60\n",
       "11       shantanusharma\n",
       "Name: login, dtype: object"
      ]
     },
     "execution_count": 100,
     "metadata": {},
     "output_type": "execute_result"
    }
   ],
   "source": [
    "watchers = pd.DataFrame(raw)['login']\n",
    "watchers"
   ]
  },
  {
   "cell_type": "code",
   "execution_count": 101,
   "metadata": {},
   "outputs": [],
   "source": [
    "# add columsn for first seen and last seen"
   ]
  },
  {
   "cell_type": "code",
   "execution_count": null,
   "metadata": {},
   "outputs": [],
   "source": []
  },
  {
   "cell_type": "markdown",
   "metadata": {},
   "source": [
    "---\n",
    "## Pandas Tables"
   ]
  },
  {
   "cell_type": "code",
   "execution_count": null,
   "metadata": {},
   "outputs": [],
   "source": []
  },
  {
   "cell_type": "code",
   "execution_count": null,
   "metadata": {},
   "outputs": [],
   "source": []
  },
  {
   "cell_type": "code",
   "execution_count": null,
   "metadata": {},
   "outputs": [],
   "source": []
  },
  {
   "cell_type": "code",
   "execution_count": null,
   "metadata": {},
   "outputs": [],
   "source": []
  },
  {
   "cell_type": "markdown",
   "metadata": {},
   "source": [
    "---\n",
    "## BigQuery Tables: Initial Creation"
   ]
  },
  {
   "cell_type": "code",
   "execution_count": null,
   "metadata": {},
   "outputs": [],
   "source": []
  },
  {
   "cell_type": "code",
   "execution_count": null,
   "metadata": {},
   "outputs": [],
   "source": []
  },
  {
   "cell_type": "code",
   "execution_count": null,
   "metadata": {},
   "outputs": [],
   "source": []
  },
  {
   "cell_type": "code",
   "execution_count": null,
   "metadata": {},
   "outputs": [],
   "source": []
  },
  {
   "cell_type": "markdown",
   "metadata": {},
   "source": [
    "---\n",
    "## BigQuery Tables: Increment"
   ]
  },
  {
   "cell_type": "code",
   "execution_count": null,
   "metadata": {},
   "outputs": [],
   "source": []
  },
  {
   "cell_type": "code",
   "execution_count": null,
   "metadata": {},
   "outputs": [],
   "source": []
  },
  {
   "cell_type": "code",
   "execution_count": null,
   "metadata": {},
   "outputs": [],
   "source": []
  },
  {
   "cell_type": "code",
   "execution_count": null,
   "metadata": {},
   "outputs": [],
   "source": []
  },
  {
   "cell_type": "markdown",
   "metadata": {},
   "source": [
    "---\n",
    "## Diagnostics"
   ]
  },
  {
   "cell_type": "code",
   "execution_count": null,
   "metadata": {},
   "outputs": [],
   "source": []
  },
  {
   "cell_type": "code",
   "execution_count": null,
   "metadata": {},
   "outputs": [],
   "source": []
  },
  {
   "cell_type": "code",
   "execution_count": null,
   "metadata": {},
   "outputs": [],
   "source": []
  },
  {
   "cell_type": "code",
   "execution_count": null,
   "metadata": {},
   "outputs": [],
   "source": []
  },
  {
   "cell_type": "code",
   "execution_count": null,
   "metadata": {},
   "outputs": [],
   "source": []
  },
  {
   "cell_type": "code",
   "execution_count": null,
   "metadata": {
    "id": "sGTeM9jRXNnH"
   },
   "outputs": [],
   "source": []
  }
 ],
 "metadata": {
  "colab": {
   "provenance": [],
   "toc_visible": true
  },
  "environment": {
   "kernel": "python3",
   "name": "tf2-gpu.2-3.m94",
   "type": "gcloud",
   "uri": "gcr.io/deeplearning-platform-release/tf2-gpu.2-3:m94"
  },
  "kernelspec": {
   "display_name": "Python 3",
   "language": "python",
   "name": "python3"
  },
  "language_info": {
   "codemirror_mode": {
    "name": "ipython",
    "version": 3
   },
   "file_extension": ".py",
   "mimetype": "text/x-python",
   "name": "python",
   "nbconvert_exporter": "python",
   "pygments_lexer": "ipython3",
   "version": "3.7.12"
  }
 },
 "nbformat": 4,
 "nbformat_minor": 4
}
