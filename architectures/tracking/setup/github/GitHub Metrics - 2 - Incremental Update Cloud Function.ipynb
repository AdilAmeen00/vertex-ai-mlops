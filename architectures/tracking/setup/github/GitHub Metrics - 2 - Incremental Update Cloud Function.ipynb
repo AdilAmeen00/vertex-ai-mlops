{
 "cells": [
  {
   "cell_type": "markdown",
   "metadata": {
    "id": "vc7wbgTVhZfL"
   },
   "source": [
    "![ga4](https://www.google-analytics.com/collect?v=2&tid=G-6VDTYWLKX6&cid=1&en=page_view&sid=1&dl=statmike%2Fvertex-ai-mlops%2Farchitectures%2Ftracking%2Fsetup%2Fgithub&dt=GitHub+Metrics+-+2+-+Incremental+Update+Cloud+Function.ipynb)\n",
    "\n",
    "# GitHub Metrics: Cloud Function For Incremental Updates\n",
    "\n",
    "The notebook **reference with link here** created and initial set of tables in the BigQuery dataset `github_metrics`.  Table are `commits` and `commits_files`.  The logic for incrementally updating these is also tested and developed in that notebook.\n",
    "\n",
    "This notebook creates a Cloud Function to run the code that incrementally updates the tables in the dataset. and schedules it to run daily using Pub/Sub and Cloud Scheduler."
   ]
  },
  {
   "cell_type": "markdown",
   "metadata": {
    "id": "Nw1ZZWFyXw2L"
   },
   "source": [
    "---\n",
    "## Colab Setup\n",
    "\n",
    "To run this notebook in Colab click [![Open In Colab](https://colab.research.google.com/assets/colab-badge.svg)](https://colab.research.google.com/github/statmike/vertex-ai-mlops/blob/main/architectures/tracking/setup/github/GitHub%20Metrics%20-%202%20-%20Incremental%20Update%20Cloud%20Function.ipynb) and run the cells in this section.  Otherwise, skip this section.\n",
    "\n",
    "This cell will authenticate to GCP (follow prompts in the popup)."
   ]
  },
  {
   "cell_type": "code",
   "execution_count": 1,
   "metadata": {
    "executionInfo": {
     "elapsed": 5,
     "status": "ok",
     "timestamp": 1676839112724,
     "user": {
      "displayName": "Mike Henderson",
      "userId": "11664017018095232389"
     },
     "user_tz": 300
    },
    "id": "MWl8BI5apkcI"
   },
   "outputs": [],
   "source": [
    "PROJECT_ID = 'vertex-ai-mlops-369716' # replace with project ID"
   ]
  },
  {
   "cell_type": "code",
   "execution_count": 2,
   "metadata": {
    "colab": {
     "base_uri": "https://localhost:8080/"
    },
    "executionInfo": {
     "elapsed": 16486,
     "status": "ok",
     "timestamp": 1676839135244,
     "user": {
      "displayName": "Mike Henderson",
      "userId": "11664017018095232389"
     },
     "user_tz": 300
    },
    "id": "WdZkhxNLoVNY",
    "outputId": "97ab51b4-931a-49ed-a2f9-0a3e8612023a"
   },
   "outputs": [
    {
     "name": "stdout",
     "output_type": "stream",
     "text": [
      "Updated property [core/project].\n"
     ]
    }
   ],
   "source": [
    "try:\n",
    "    import google.colab\n",
    "    from google.colab import auth\n",
    "    auth.authenticate_user()\n",
    "    !gcloud config set project {PROJECT_ID}\n",
    "except Exception:\n",
    "    pass"
   ]
  },
  {
   "cell_type": "markdown",
   "metadata": {
    "id": "_-QlhG8rZDvT"
   },
   "source": [
    "---\n",
    "## Package Installs (if needed)\n",
    "\n",
    "This notebook uses the Python Clients for\n",
    "- Google Service Usage\n",
    "    - to enable APIs\n",
    "- Cloud Pub/Sub\n",
    "- Cloud Functions\n",
    "- Cloud Scheduler\n",
    "\n",
    "The cells below check to see if the required Python libraries are installed.  If any are not it will print a message to do the install with the associated pip command to use.  These installs must be completed before continuing this notebook."
   ]
  },
  {
   "cell_type": "code",
   "execution_count": 3,
   "metadata": {
    "colab": {
     "base_uri": "https://localhost:8080/"
    },
    "executionInfo": {
     "elapsed": 21112,
     "status": "ok",
     "timestamp": 1676839162323,
     "user": {
      "displayName": "Mike Henderson",
      "userId": "11664017018095232389"
     },
     "user_tz": 300
    },
    "id": "HP8pLhQMZEMe",
    "outputId": "1cb66937-15e8-4c13-870c-5efa9aeb3292"
   },
   "outputs": [
    {
     "name": "stdout",
     "output_type": "stream",
     "text": [
      "You need to pip install google-cloud-service-usage\n",
      "\u001b[2K     \u001b[90m━━━━━━━━━━━━━━━━━━━━━━━━━━━━━━━━━━━━━━━━\u001b[0m \u001b[32m46.0/46.0 KB\u001b[0m \u001b[31m2.8 MB/s\u001b[0m eta \u001b[36m0:00:00\u001b[0m\n",
      "\u001b[?25hYou need to pip install google-cloud-pubsub\n",
      "\u001b[2K     \u001b[90m━━━━━━━━━━━━━━━━━━━━━━━━━━━━━━━━━━━━━━━\u001b[0m \u001b[32m242.2/242.2 KB\u001b[0m \u001b[31m8.0 MB/s\u001b[0m eta \u001b[36m0:00:00\u001b[0m\n",
      "\u001b[?25hYou need to pip install google-cloud-functions\n",
      "\u001b[2K     \u001b[90m━━━━━━━━━━━━━━━━━━━━━━━━━━━━━━━━━━━━━━━\u001b[0m \u001b[32m125.6/125.6 KB\u001b[0m \u001b[31m6.8 MB/s\u001b[0m eta \u001b[36m0:00:00\u001b[0m\n",
      "\u001b[?25hYou need to pip install google-cloud-scheduler\n",
      "\u001b[2K     \u001b[90m━━━━━━━━━━━━━━━━━━━━━━━━━━━━━━━━━━━━━━━━\u001b[0m \u001b[32m98.5/98.5 KB\u001b[0m \u001b[31m5.1 MB/s\u001b[0m eta \u001b[36m0:00:00\u001b[0m\n",
      "\u001b[?25h"
     ]
    }
   ],
   "source": [
    "try:\n",
    "    import google.cloud.service_usage_v1\n",
    "except ImportError:\n",
    "    print('You need to pip install google-cloud-service-usage')\n",
    "    !pip install google-cloud-service-usage -q\n",
    "\n",
    "try:\n",
    "    import google.cloud.pubsub\n",
    "except ImportError:\n",
    "    print('You need to pip install google-cloud-pubsub')\n",
    "    !pip install google-cloud-pubsub -q\n",
    "\n",
    "try:\n",
    "    import google.cloud.functions\n",
    "except ImportError:\n",
    "    print('You need to pip install google-cloud-functions')\n",
    "    !pip install google-cloud-functions -q\n",
    "\n",
    "try:\n",
    "    import google.cloud.scheduler\n",
    "except ImportError:\n",
    "    print('You need to pip install google-cloud-scheduler')\n",
    "    !pip install google-cloud-scheduler -q"
   ]
  },
  {
   "cell_type": "markdown",
   "metadata": {
    "id": "tVA5SciOoNlf"
   },
   "source": [
    "---\n",
    "## Setup"
   ]
  },
  {
   "cell_type": "code",
   "execution_count": 4,
   "metadata": {
    "colab": {
     "base_uri": "https://localhost:8080/",
     "height": 35
    },
    "executionInfo": {
     "elapsed": 1104,
     "status": "ok",
     "timestamp": 1676839183114,
     "user": {
      "displayName": "Mike Henderson",
      "userId": "11664017018095232389"
     },
     "user_tz": 300
    },
    "id": "pCPIhNOomdyi",
    "outputId": "dcd43ce9-ab60-484a-fae0-d950b6b45342"
   },
   "outputs": [
    {
     "data": {
      "application/vnd.google.colaboratory.intrinsic+json": {
       "type": "string"
      },
      "text/plain": [
       "'vertex-ai-mlops-369716'"
      ]
     },
     "execution_count": 4,
     "metadata": {},
     "output_type": "execute_result"
    }
   ],
   "source": [
    "project = !gcloud config get-value project\n",
    "PROJECT_ID = project[0]\n",
    "PROJECT_ID"
   ]
  },
  {
   "cell_type": "code",
   "execution_count": 5,
   "metadata": {
    "executionInfo": {
     "elapsed": 150,
     "status": "ok",
     "timestamp": 1676839212161,
     "user": {
      "displayName": "Mike Henderson",
      "userId": "11664017018095232389"
     },
     "user_tz": 300
    },
    "id": "JwYJTkWAoY5U"
   },
   "outputs": [],
   "source": [
    "REGION = 'us-central1'\n",
    "\n",
    "github_user = 'statmike'\n",
    "github_repo = 'vertex-ai-mlops'\n",
    "\n",
    "BQ_PROJECT = PROJECT_ID\n",
    "BQ_DATASET = 'github_metrics'"
   ]
  },
  {
   "cell_type": "code",
   "execution_count": 20,
   "metadata": {
    "executionInfo": {
     "elapsed": 184,
     "status": "ok",
     "timestamp": 1676840980865,
     "user": {
      "displayName": "Mike Henderson",
      "userId": "11664017018095232389"
     },
     "user_tz": 300
    },
    "id": "wjIPLHPWoY8O"
   },
   "outputs": [],
   "source": [
    "import requests\n",
    "import json\n",
    "import time\n",
    "from datetime import datetime\n",
    "import pandas as pd\n",
    "from io import StringIO\n",
    "import os, shutil\n",
    "\n",
    "from google.cloud import bigquery\n",
    "from google.cloud import storage\n",
    "\n",
    "from google.cloud import service_usage_v1\n",
    "from google.cloud import pubsub_v1\n",
    "from google.cloud import functions_v1\n",
    "from google.cloud import scheduler_v1"
   ]
  },
  {
   "cell_type": "code",
   "execution_count": 21,
   "metadata": {
    "executionInfo": {
     "elapsed": 172,
     "status": "ok",
     "timestamp": 1676840993194,
     "user": {
      "displayName": "Mike Henderson",
      "userId": "11664017018095232389"
     },
     "user_tz": 300
    },
    "id": "YyZ2WKRtoY-R"
   },
   "outputs": [],
   "source": [
    "bq = bigquery.Client(project = PROJECT_ID)\n",
    "gcs = storage.Client(project = PROJECT_ID)\n",
    "\n",
    "su_client = service_usage_v1.ServiceUsageClient()\n",
    "pubsub_pubclient = pubsub_v1.PublisherClient() \n",
    "functions_client = functions_v1.CloudFunctionsServiceClient()\n",
    "scheduler_client = scheduler_v1.CloudSchedulerClient()"
   ]
  },
  {
   "cell_type": "code",
   "execution_count": 30,
   "metadata": {
    "executionInfo": {
     "elapsed": 342,
     "status": "ok",
     "timestamp": 1676842418461,
     "user": {
      "displayName": "Mike Henderson",
      "userId": "11664017018095232389"
     },
     "user_tz": 300
    },
    "id": "4Uy3ZhfdglKE"
   },
   "outputs": [],
   "source": [
    "DIR = 'temp'\n",
    "!rm -rf {DIR}\n",
    "!mkdir -p {DIR}"
   ]
  },
  {
   "cell_type": "markdown",
   "metadata": {
    "id": "_LnkZxK8b_Rx"
   },
   "source": [
    "---\n",
    "## Enable APIs\n",
    "\n",
    "Using Cloud Functions, Cloud Pub/Sub and Cloud Scheduler requires enabling these APIs for the Google Cloud Project.  Additionally, Cloud Functions uses Cloud Build which also need to be enabled.\n",
    "\n",
    "Options for enabeling these.  In this notebook option 2 is used.\n",
    " 1. Use the APIs & Services page in the console: https://console.cloud.google.com/apis\n",
    "     - `+ Enable APIs and Services`\n",
    "     - Search for Cloud Build and Enable\n",
    "     - Search for Artifact Registry and Enable\n",
    " 2. Use [Google Service Usage](https://cloud.google.com/service-usage/docs) API from Python\n",
    "     - [Python Client For Service Usage](https://github.com/googleapis/python-service-usage)\n",
    "     - [Python Client Library Documentation](https://cloud.google.com/python/docs/reference/serviceusage/latest)\n",
    "     \n",
    "The following code cells use the Service Usage Client to:\n",
    "- get the state of the service\n",
    "- if 'DISABLED':\n",
    "    - Try enabling the service and return the state after trying\n",
    "- if 'ENABLED' print the state for confirmation"
   ]
  },
  {
   "cell_type": "markdown",
   "metadata": {
    "id": "5s4qC8wKxy7y"
   },
   "source": [
    "### IAM\n",
    "The API may be needed for creating a service account to run the Cloud Function"
   ]
  },
  {
   "cell_type": "code",
   "execution_count": 62,
   "metadata": {
    "colab": {
     "base_uri": "https://localhost:8080/"
    },
    "executionInfo": {
     "elapsed": 1827,
     "status": "ok",
     "timestamp": 1676845537621,
     "user": {
      "displayName": "Mike Henderson",
      "userId": "11664017018095232389"
     },
     "user_tz": 300
    },
    "id": "qJstNPsVxzU3",
    "outputId": "57165358-4e9b-456b-8b09-fb5a9a2421b2"
   },
   "outputs": [
    {
     "name": "stdout",
     "output_type": "stream",
     "text": [
      "IAM is currently DISABLED for project: vertex-ai-mlops-369716\n",
      "Trying to Enable...\n",
      "IAM is now enabled for project: vertex-ai-mlops-369716\n"
     ]
    }
   ],
   "source": [
    "iam = su_client.get_service(\n",
    "    request = service_usage_v1.GetServiceRequest(\n",
    "        name = f'projects/{PROJECT_ID}/services/iam.googleapis.com'\n",
    "    )\n",
    ").state.name\n",
    "\n",
    "\n",
    "if pubsub == 'DISABLED':\n",
    "    print(f'IAM is currently {iam} for project: {PROJECT_ID}')\n",
    "    print(f'Trying to Enable...')\n",
    "    operation = su_client.enable_service(\n",
    "        request = service_usage_v1.EnableServiceRequest(\n",
    "            name = f'projects/{PROJECT_ID}/services/iam.googleapis.com'\n",
    "        )\n",
    "    )\n",
    "    response = operation.result()\n",
    "    if response.service.state.name == 'ENABLED':\n",
    "        print(f'IAM is now enabled for project: {PROJECT_ID}')\n",
    "    else:\n",
    "        print(response)\n",
    "else:\n",
    "    print(f'IAM already enabled for project: {PROJECT_ID}')"
   ]
  },
  {
   "cell_type": "markdown",
   "metadata": {
    "id": "1dwUhJJ2cKHc"
   },
   "source": [
    "### Cloud Pub/Sub"
   ]
  },
  {
   "cell_type": "code",
   "execution_count": 13,
   "metadata": {
    "colab": {
     "base_uri": "https://localhost:8080/"
    },
    "executionInfo": {
     "elapsed": 4062,
     "status": "ok",
     "timestamp": 1676839832776,
     "user": {
      "displayName": "Mike Henderson",
      "userId": "11664017018095232389"
     },
     "user_tz": 300
    },
    "id": "sT8dJC1JcKqQ",
    "outputId": "10820c86-9596-47dd-9cad-a13a6f5c3029"
   },
   "outputs": [
    {
     "name": "stdout",
     "output_type": "stream",
     "text": [
      "Cloud Pub/Sub is currently DISABLED for project: vertex-ai-mlops-369716\n",
      "Trying to Enable...\n",
      "Cloud Pub/Sub is now enabled for project: vertex-ai-mlops-369716\n"
     ]
    }
   ],
   "source": [
    "pubsub = su_client.get_service(\n",
    "    request = service_usage_v1.GetServiceRequest(\n",
    "        name = f'projects/{PROJECT_ID}/services/pubsub.googleapis.com'\n",
    "    )\n",
    ").state.name\n",
    "\n",
    "\n",
    "if pubsub == 'DISABLED':\n",
    "    print(f'Cloud Pub/Sub is currently {pubsub} for project: {PROJECT_ID}')\n",
    "    print(f'Trying to Enable...')\n",
    "    operation = su_client.enable_service(\n",
    "        request = service_usage_v1.EnableServiceRequest(\n",
    "            name = f'projects/{PROJECT_ID}/services/pubsub.googleapis.com'\n",
    "        )\n",
    "    )\n",
    "    response = operation.result()\n",
    "    if response.service.state.name == 'ENABLED':\n",
    "        print(f'Cloud Pub/Sub is now enabled for project: {PROJECT_ID}')\n",
    "    else:\n",
    "        print(response)\n",
    "else:\n",
    "    print(f'Cloud Pub/Sub already enabled for project: {PROJECT_ID}')"
   ]
  },
  {
   "cell_type": "markdown",
   "metadata": {
    "id": "S3JwTpSLcLD8"
   },
   "source": [
    "### Cloud Functions"
   ]
  },
  {
   "cell_type": "code",
   "execution_count": 14,
   "metadata": {
    "colab": {
     "base_uri": "https://localhost:8080/"
    },
    "executionInfo": {
     "elapsed": 5449,
     "status": "ok",
     "timestamp": 1676839858464,
     "user": {
      "displayName": "Mike Henderson",
      "userId": "11664017018095232389"
     },
     "user_tz": 300
    },
    "id": "6IMhH26acLj6",
    "outputId": "7fa4f319-33f3-499f-b731-8af127477a6c"
   },
   "outputs": [
    {
     "name": "stdout",
     "output_type": "stream",
     "text": [
      "Cloud Functions is currently DISABLED for project: vertex-ai-mlops-369716\n",
      "Trying to Enable...\n",
      "Cloud Functions is now enabled for project: vertex-ai-mlops-369716\n"
     ]
    }
   ],
   "source": [
    "cloudfunctions = su_client.get_service(\n",
    "    request = service_usage_v1.GetServiceRequest(\n",
    "        name = f'projects/{PROJECT_ID}/services/cloudfunctions.googleapis.com'\n",
    "    )\n",
    ").state.name\n",
    "\n",
    "\n",
    "if cloudfunctions == 'DISABLED':\n",
    "    print(f'Cloud Functions is currently {cloudfunctions} for project: {PROJECT_ID}')\n",
    "    print(f'Trying to Enable...')\n",
    "    operation = su_client.enable_service(\n",
    "        request = service_usage_v1.EnableServiceRequest(\n",
    "            name = f'projects/{PROJECT_ID}/services/cloudfunctions.googleapis.com'\n",
    "        )\n",
    "    )\n",
    "    response = operation.result()\n",
    "    if response.service.state.name == 'ENABLED':\n",
    "        print(f'Cloud Functions is now enabled for project: {PROJECT_ID}')\n",
    "    else:\n",
    "        print(response)\n",
    "else:\n",
    "    print(f'Cloud Functions already enabled for project: {PROJECT_ID}')"
   ]
  },
  {
   "cell_type": "markdown",
   "metadata": {
    "id": "F3NMT-u2cL8o"
   },
   "source": [
    "### Cloud Scheduler"
   ]
  },
  {
   "cell_type": "code",
   "execution_count": 15,
   "metadata": {
    "colab": {
     "base_uri": "https://localhost:8080/"
    },
    "executionInfo": {
     "elapsed": 4877,
     "status": "ok",
     "timestamp": 1676839883928,
     "user": {
      "displayName": "Mike Henderson",
      "userId": "11664017018095232389"
     },
     "user_tz": 300
    },
    "id": "WV5-Tl8CcMah",
    "outputId": "c27cec6d-1b35-497a-90fa-91d1b69b6154"
   },
   "outputs": [
    {
     "name": "stdout",
     "output_type": "stream",
     "text": [
      "Cloud Scheduler is currently DISABLED for project: vertex-ai-mlops-369716\n",
      "Trying to Enable...\n",
      "Cloud Scheduler is now enabled for project: vertex-ai-mlops-369716\n"
     ]
    }
   ],
   "source": [
    "cloudscheduler = su_client.get_service(\n",
    "    request = service_usage_v1.GetServiceRequest(\n",
    "        name = f'projects/{PROJECT_ID}/services/cloudscheduler.googleapis.com'\n",
    "    )\n",
    ").state.name\n",
    "\n",
    "\n",
    "if cloudscheduler == 'DISABLED':\n",
    "    print(f'Cloud Scheduler is currently {cloudscheduler} for project: {PROJECT_ID}')\n",
    "    print(f'Trying to Enable...')\n",
    "    operation = su_client.enable_service(\n",
    "        request = service_usage_v1.EnableServiceRequest(\n",
    "            name = f'projects/{PROJECT_ID}/services/cloudscheduler.googleapis.com'\n",
    "        )\n",
    "    )\n",
    "    response = operation.result()\n",
    "    if response.service.state.name == 'ENABLED':\n",
    "        print(f'Cloud Scheduler is now enabled for project: {PROJECT_ID}')\n",
    "    else:\n",
    "        print(response)\n",
    "else:\n",
    "    print(f'Cloud Scheduler already enabled for project: {PROJECT_ID}')"
   ]
  },
  {
   "cell_type": "markdown",
   "metadata": {
    "id": "uXkO3We2opgE"
   },
   "source": [
    "### Cloud Build \n",
    "Used By Cloud Functions"
   ]
  },
  {
   "cell_type": "code",
   "execution_count": 49,
   "metadata": {
    "colab": {
     "base_uri": "https://localhost:8080/"
    },
    "executionInfo": {
     "elapsed": 17688,
     "status": "ok",
     "timestamp": 1676843126938,
     "user": {
      "displayName": "Mike Henderson",
      "userId": "11664017018095232389"
     },
     "user_tz": 300
    },
    "id": "cKNT0f1qop8s",
    "outputId": "169ead80-86c6-4dcf-e4f5-7555524616fb"
   },
   "outputs": [
    {
     "name": "stdout",
     "output_type": "stream",
     "text": [
      "Cloud Build is currently DISABLED for project: vertex-ai-mlops-369716\n",
      "Trying to Enable...\n",
      "Cloud Build is now enabled for project: vertex-ai-mlops-369716\n"
     ]
    }
   ],
   "source": [
    "cloudbuild = su_client.get_service(\n",
    "    request = service_usage_v1.GetServiceRequest(\n",
    "        name = f'projects/{PROJECT_ID}/services/cloudbuild.googleapis.com'\n",
    "    )\n",
    ").state.name\n",
    "\n",
    "\n",
    "if cloudbuild == 'DISABLED':\n",
    "    print(f'Cloud Build is currently {cloudbuild} for project: {PROJECT_ID}')\n",
    "    print(f'Trying to Enable...')\n",
    "    operation = su_client.enable_service(\n",
    "        request = service_usage_v1.EnableServiceRequest(\n",
    "            name = f'projects/{PROJECT_ID}/services/cloudbuild.googleapis.com'\n",
    "        )\n",
    "    )\n",
    "    response = operation.result()\n",
    "    if response.service.state.name == 'ENABLED':\n",
    "        print(f'Cloud Build is now enabled for project: {PROJECT_ID}')\n",
    "    else:\n",
    "        print(response)\n",
    "else:\n",
    "    print(f'Cloud Build already enabled for project: {PROJECT_ID}')"
   ]
  },
  {
   "cell_type": "markdown",
   "metadata": {
    "id": "R8C45WQpaHIB"
   },
   "source": [
    "---\n",
    "## Pub/Sub\n",
    "Use a Pub/Sub topic to trigger a Cloud Function to run.  The topic will be able to receive message manually or on a schedule from Cloud Scheduler.\n",
    "\n",
    "The main concepts:\n",
    "- Topic - a feed of messages\n",
    "     - Publish - send a new message to a topic\n",
    "     - Subscription - receive messages that arrive on topic\n",
    "          - Push - the subscriber has new messages pushed to it\n",
    "          - Pull - the subscriber request new messages by pulling them\n",
    "          \n",
    "In this example, a topic will be set up for daily runs of metric functions.  Publishing a new message to this topic will trigger one or more Cloud Functions to run like the one setup below.  The Cloud Funtion will have a push subscription to the topic."
   ]
  },
  {
   "cell_type": "code",
   "execution_count": 16,
   "metadata": {
    "executionInfo": {
     "elapsed": 188,
     "status": "ok",
     "timestamp": 1676839899175,
     "user": {
      "displayName": "Mike Henderson",
      "userId": "11664017018095232389"
     },
     "user_tz": 300
    },
    "id": "oieCXgTJaBzf"
   },
   "outputs": [],
   "source": [
    "PUBSUB_TOPIC = 'daily_metrics_triggers'"
   ]
  },
  {
   "cell_type": "code",
   "execution_count": 17,
   "metadata": {
    "executionInfo": {
     "elapsed": 348,
     "status": "ok",
     "timestamp": 1676839900439,
     "user": {
      "displayName": "Mike Henderson",
      "userId": "11664017018095232389"
     },
     "user_tz": 300
    },
    "id": "73xvkrPAbFVI"
   },
   "outputs": [],
   "source": [
    "topic = ''\n",
    "for topic in pubsub_pubclient.list_topics(project = f'projects/{PROJECT_ID}'):\n",
    "    if topic.name.endswith(PUBSUB_TOPIC):\n",
    "        break\n",
    "    else: topic = ''"
   ]
  },
  {
   "cell_type": "code",
   "execution_count": 18,
   "metadata": {
    "colab": {
     "base_uri": "https://localhost:8080/"
    },
    "executionInfo": {
     "elapsed": 226,
     "status": "ok",
     "timestamp": 1676839901815,
     "user": {
      "displayName": "Mike Henderson",
      "userId": "11664017018095232389"
     },
     "user_tz": 300
    },
    "id": "UlsN_SjKbFSn",
    "outputId": "56f18daa-1cf4-40fa-fb63-b88ee367ca0d"
   },
   "outputs": [
    {
     "name": "stdout",
     "output_type": "stream",
     "text": [
      "name: \"projects/vertex-ai-mlops-369716/topics/daily_metrics_triggers\"\n",
      "\n"
     ]
    }
   ],
   "source": [
    "if topic:\n",
    "    print(topic)\n",
    "else:\n",
    "    topic = pubsub_pubclient.create_topic(\n",
    "        name = pubsub_pubclient.topic_path(PROJECT_ID, PUBSUB_TOPIC)\n",
    "    )\n",
    "    print(topic)"
   ]
  },
  {
   "cell_type": "code",
   "execution_count": 125,
   "metadata": {
    "colab": {
     "base_uri": "https://localhost:8080/"
    },
    "executionInfo": {
     "elapsed": 144,
     "status": "ok",
     "timestamp": 1676847943320,
     "user": {
      "displayName": "Mike Henderson",
      "userId": "11664017018095232389"
     },
     "user_tz": 300
    },
    "id": "xRoSIOtC7IQF",
    "outputId": "14c19297-4fef-4299-e31d-370af93defd6"
   },
   "outputs": [
    {
     "name": "stdout",
     "output_type": "stream",
     "text": [
      "Review The Pub/Sub Topic In The Console:\n",
      "https://console.cloud.google.com/cloudpubsub/topic/list?project=vertex-ai-mlops-369716\n"
     ]
    }
   ],
   "source": [
    "print(f'Review The Pub/Sub Topic In The Console:\\nhttps://console.cloud.google.com/cloudpubsub/topic/list?project={PROJECT_ID}')"
   ]
  },
  {
   "cell_type": "markdown",
   "metadata": {
    "id": "kaK6itFkgF80"
   },
   "source": [
    "---\n",
    "## Cloud Function\n",
    "\n",
    "Create a Cloud Funtion that runs the incremental update code for the tables in the dataset `github_metrics`.  The method below creates code files and zips them for storage on Cloud Storage as a source to the Cloud Function."
   ]
  },
  {
   "cell_type": "markdown",
   "metadata": {
    "id": "Jew-vd3XggLq"
   },
   "source": [
    "### Create Files"
   ]
  },
  {
   "cell_type": "code",
   "execution_count": 93,
   "metadata": {
    "executionInfo": {
     "elapsed": 188,
     "status": "ok",
     "timestamp": 1676847071230,
     "user": {
      "displayName": "Mike Henderson",
      "userId": "11664017018095232389"
     },
     "user_tz": 300
    },
    "id": "kpyBT84nbFPu"
   },
   "outputs": [],
   "source": [
    "if os.path.exists(f'{DIR}/function'): shutil.rmtree(f'{DIR}/function')\n",
    "os.makedirs(f'{DIR}/function')"
   ]
  },
  {
   "cell_type": "code",
   "execution_count": 94,
   "metadata": {
    "colab": {
     "base_uri": "https://localhost:8080/"
    },
    "executionInfo": {
     "elapsed": 4,
     "status": "ok",
     "timestamp": 1676847071782,
     "user": {
      "displayName": "Mike Henderson",
      "userId": "11664017018095232389"
     },
     "user_tz": 300
    },
    "id": "LrXx5dQPbFNA",
    "outputId": "0d73b8c4-c747-4d2e-f5c2-aa484538c58a"
   },
   "outputs": [
    {
     "name": "stdout",
     "output_type": "stream",
     "text": [
      "Writing temp/function/requirements.txt\n"
     ]
    }
   ],
   "source": [
    "%%writefile {DIR}/function/requirements.txt\n",
    "pandas\n",
    "db-dtypes\n",
    "google-cloud-bigquery\n",
    "google-cloud-storage"
   ]
  },
  {
   "cell_type": "code",
   "execution_count": 95,
   "metadata": {
    "colab": {
     "base_uri": "https://localhost:8080/"
    },
    "executionInfo": {
     "elapsed": 10,
     "status": "ok",
     "timestamp": 1676847072515,
     "user": {
      "displayName": "Mike Henderson",
      "userId": "11664017018095232389"
     },
     "user_tz": 300
    },
    "id": "KENNnOrbbFJV",
    "outputId": "aff43c02-8409-43dc-8542-e44060d1ae24"
   },
   "outputs": [
    {
     "name": "stdout",
     "output_type": "stream",
     "text": [
      "Writing temp/function/main.py\n"
     ]
    }
   ],
   "source": [
    "%%writefile {DIR}/function/main.py\n",
    "\n",
    "# packages\n",
    "import base64\n",
    "import requests\n",
    "import json\n",
    "import pandas as pd\n",
    "import os\n",
    "from google.cloud import bigquery\n",
    "from google.cloud import storage\n",
    "\n",
    "\n",
    "# clients\n",
    "bq = bigquery.Client()\n",
    "gcs = storage.Client()\n",
    "\n",
    "\n",
    "# parameters\n",
    "github_user = 'statmike'\n",
    "github_repo = 'vertex-ai-mlops'\n",
    "BQ_DATASET = 'github_metrics'\n",
    "github_api_url = f'https://api.github.com/repos/{github_user}/{github_repo}'\n",
    "pat = os.getenv('GITHUB_PAT')\n",
    "\n",
    "\n",
    "# helper function\n",
    "def metric_get(metric_type):\n",
    "  response = requests.get(f'{github_api_url}/{metric_type}', headers = {'Authorization': f'Bearer {pat}', 'Accept': 'application/vnd.github+json'})\n",
    "  while response.status_code == 202:\n",
    "      time.sleep(10)\n",
    "      response = requests.get(f'{github_api_url}/{metric_type}', headers = {'Authorization': f'Bearer {pat}', 'Accept': 'application/vnd.github+json'})\n",
    "  return response\n",
    "\n",
    "\n",
    "# the function\n",
    "def collect(event, context):\n",
    "\n",
    "    # print inputs to Cloud Function\n",
    "    function_inputs = json.loads(base64.b64decode(event['data']).decode('utf-8'))\n",
    "    print(function_inputs)\n",
    "    PROJECT_ID = function_inputs['PROJECT_ID']\n",
    "    BQ_PROJECT = PROJECT_ID\n",
    "\n",
    "    # Read Commits From GitHub\n",
    "    page_size = 100\n",
    "    page = 1\n",
    "    raw_commits = []\n",
    "    while page_size == 100:\n",
    "      response = requests.get(f'{github_api_url}/commits?per_page=100&page={page}', headers = {'Authorization': f'Bearer {pat}', 'Accept': 'application/vnd.github+json'})\n",
    "      new_page = json.loads(response.text)\n",
    "      if response.status_code == 200:\n",
    "        raw_commits += new_page\n",
    "        page_size = len(new_page)\n",
    "        page +=1\n",
    "      else: break\n",
    "\n",
    "    # parse Commits into list of dicts: one for each commit\n",
    "    commits = []\n",
    "    for i, c in enumerate(raw_commits):\n",
    "      author = c['commit']['author']['name']\n",
    "      author2 = ''\n",
    "      if 'author' in c and c['author']:\n",
    "        if 'login' in c['author']: author2 = c['author']['login']\n",
    "\n",
    "      # refined author with logic:\n",
    "      if author2: refined_author = author2\n",
    "      else: refined_author = author \n",
    "\n",
    "      commits += [{\n",
    "          'sha': c['sha'],\n",
    "          'datetime': c['commit']['committer']['date'],\n",
    "          'url': c['html_url'],\n",
    "          'message': c['commit']['message'],\n",
    "          'author': refined_author\n",
    "      }]\n",
    "\n",
    "    # create pandas dataframe of commits\n",
    "    commits = pd.DataFrame(commits)\n",
    "    #commits['datetime'] = pd.to_datetime(commits['datetime'], infer_datetime_format = True)\n",
    "    commits.loc[commits['author'].str.lower() == 'mike henderson', 'author'] = 'statmike'\n",
    "\n",
    "    # look prior commits, make a list of which commits are new\n",
    "    prior_commits = bq.query(query = f\"\"\"SELECT sha FROM `{BQ_PROJECT}.{BQ_DATASET}.commits`\"\"\").to_dataframe()\n",
    "    new_commits = pd.merge(prior_commits, commits, on = 'sha', how = 'outer', indicator = True)\n",
    "    new_commits = new_commits[new_commits['_merge'] == 'right_only'].drop('_merge', axis = 1)\n",
    "\n",
    "    # if new commits then update to BigQuery\n",
    "    if new_commits.shape[0] > 0:\n",
    "      new_commits_job = bq.load_table_from_dataframe(\n",
    "          dataframe = new_commits,\n",
    "          destination = bigquery.TableReference.from_string(f\"{BQ_PROJECT}.{BQ_DATASET}.commits\"),\n",
    "          job_config = bigquery.LoadJobConfig(\n",
    "              write_disposition = 'WRITE_APPEND', # WRITE_TRUNCATE = replace if exists, WRITE_APPEND = append if exists, WRITE_EMPTY = write new but dont overwrite\n",
    "              autodetect = True # detect schema\n",
    "          )\n",
    "      )\n",
    "      new_commits_job.result()\n",
    "\n",
    "    # if new commits, retrieve files associated with the commits, parse the data into dataframe, append to BigQuery table\n",
    "    if new_commits.shape[0] > 0:\n",
    "      # retrieve files for new commits:\n",
    "      sha = list(new_commits['sha'])\n",
    "      raw_files = []\n",
    "      for s in sha:\n",
    "        page = 1\n",
    "        response = requests.get(f'{github_api_url}/commits/{s}?per_page=100&page={page}', headers = {'Authorization': f'Bearer {pat}', 'Accept': 'application/vnd.github+json'})\n",
    "        files = json.loads(response.text)['files']\n",
    "        if len(files) == 100:\n",
    "          while len(files) % 100 == 0:\n",
    "            page += 1\n",
    "            response = requests.get(f'{github_api_url}/commits/{s}?per_page=100&page={page}', headers = {'Authorization': f'Bearer {pat}', 'Accept': 'application/vnd.github+json'})\n",
    "            files += json.loads(response.text)['files']\n",
    "        raw_files += [{'sha': s, 'files': files}]\n",
    "\n",
    "      # parse data for files and combine with commit data in dataframe\n",
    "      commits_files = []\n",
    "      for c in raw_files:\n",
    "        for f in c['files']:\n",
    "          commits_files += [{\n",
    "              'sha': c['sha'],\n",
    "              'file_sha': f['sha'],\n",
    "              'file': f\"{github_user}/{github_repo}/{f['filename']}\",\n",
    "              'additions': f['additions'],\n",
    "              'deletions': f['deletions']\n",
    "          }]\n",
    "      commits_files = pd.DataFrame(commits_files)\n",
    "      commits_files = pd.merge(new_commits, commits_files, on = 'sha', how = 'inner')\n",
    "\n",
    "      # append files for new commits to BigQuery table\n",
    "      new_commits_files_job = bq.load_table_from_dataframe(\n",
    "          dataframe = commits_files,\n",
    "          destination = bigquery.TableReference.from_string(f\"{BQ_PROJECT}.{BQ_DATASET}.commits_files\"),\n",
    "          job_config = bigquery.LoadJobConfig(\n",
    "              write_disposition = 'WRITE_APPEND', # WRITE_TRUNCATE = replace if exists, WRITE_APPEND = append if exists, WRITE_EMPTY = write new but dont overwrite\n",
    "              autodetect = True, # detect schema\n",
    "          )\n",
    "      )\n",
    "      new_commits_files_job.result()"
   ]
  },
  {
   "cell_type": "code",
   "execution_count": 96,
   "metadata": {
    "colab": {
     "base_uri": "https://localhost:8080/"
    },
    "executionInfo": {
     "elapsed": 18,
     "status": "ok",
     "timestamp": 1676847072773,
     "user": {
      "displayName": "Mike Henderson",
      "userId": "11664017018095232389"
     },
     "user_tz": 300
    },
    "id": "XKMFg981bFFE",
    "outputId": "76b54902-cdc8-48b7-c84f-bfee6f5b83c5"
   },
   "outputs": [
    {
     "name": "stdout",
     "output_type": "stream",
     "text": [
      "main.py  requirements.txt\n"
     ]
    }
   ],
   "source": [
    "!ls {DIR}/function"
   ]
  },
  {
   "cell_type": "markdown",
   "metadata": {
    "id": "9AoZW8nLhQGW"
   },
   "source": [
    "### Zip Files"
   ]
  },
  {
   "cell_type": "code",
   "execution_count": 97,
   "metadata": {
    "executionInfo": {
     "elapsed": 6,
     "status": "ok",
     "timestamp": 1676847073218,
     "user": {
      "displayName": "Mike Henderson",
      "userId": "11664017018095232389"
     },
     "user_tz": 300
    },
    "id": "0gWHs48VbFCp"
   },
   "outputs": [],
   "source": [
    "import zipfile\n",
    "with zipfile.ZipFile(f'{DIR}/function/function_commit.zip', mode = 'w') as archive:\n",
    "    archive.write(f'{DIR}/function/main.py', 'main.py')\n",
    "    archive.write(f'{DIR}/function/requirements.txt', 'requirements.txt')"
   ]
  },
  {
   "cell_type": "code",
   "execution_count": 98,
   "metadata": {
    "colab": {
     "base_uri": "https://localhost:8080/"
    },
    "executionInfo": {
     "elapsed": 7,
     "status": "ok",
     "timestamp": 1676847073421,
     "user": {
      "displayName": "Mike Henderson",
      "userId": "11664017018095232389"
     },
     "user_tz": 300
    },
    "id": "Z7159ULTbFBA",
    "outputId": "1b14d345-3037-46c1-cded-ef366a94ab5e"
   },
   "outputs": [
    {
     "name": "stdout",
     "output_type": "stream",
     "text": [
      "function_commit.zip  main.py  requirements.txt\n"
     ]
    }
   ],
   "source": [
    "!ls {DIR}/function"
   ]
  },
  {
   "cell_type": "code",
   "execution_count": 99,
   "metadata": {
    "colab": {
     "base_uri": "https://localhost:8080/"
    },
    "executionInfo": {
     "elapsed": 8,
     "status": "ok",
     "timestamp": 1676847073619,
     "user": {
      "displayName": "Mike Henderson",
      "userId": "11664017018095232389"
     },
     "user_tz": 300
    },
    "id": "TFsp0r0PbE-B",
    "outputId": "dcb56563-b264-479e-863a-d286a356c9d0"
   },
   "outputs": [
    {
     "name": "stdout",
     "output_type": "stream",
     "text": [
      "File Name                                             Modified             Size\n",
      "main.py                                        2023-02-19 22:51:12         5436\n",
      "requirements.txt                               2023-02-19 22:51:10           60\n"
     ]
    }
   ],
   "source": [
    "with zipfile.ZipFile(f'{DIR}/function/function_commit.zip', mode = 'r') as zip:\n",
    "    zip.printdir()"
   ]
  },
  {
   "cell_type": "markdown",
   "metadata": {
    "id": "iioImcxihT5S"
   },
   "source": [
    "### Move Files to GCS\n",
    "\n",
    "Expects a bucket with the same name as the project:"
   ]
  },
  {
   "cell_type": "code",
   "execution_count": 100,
   "metadata": {
    "executionInfo": {
     "elapsed": 2,
     "status": "ok",
     "timestamp": 1676847074282,
     "user": {
      "displayName": "Mike Henderson",
      "userId": "11664017018095232389"
     },
     "user_tz": 300
    },
    "id": "8K7w_jQ1bE6n"
   },
   "outputs": [],
   "source": [
    "bucket = gcs.bucket(PROJECT_ID)"
   ]
  },
  {
   "cell_type": "code",
   "execution_count": 101,
   "metadata": {
    "executionInfo": {
     "elapsed": 220,
     "status": "ok",
     "timestamp": 1676847074717,
     "user": {
      "displayName": "Mike Henderson",
      "userId": "11664017018095232389"
     },
     "user_tz": 300
    },
    "id": "FAWndgwxlyVd"
   },
   "outputs": [],
   "source": [
    "SOURCEPATH = f'architectures/tracking/setup/github'\n",
    "blob = bucket.blob(f'{SOURCEPATH}/function_commit.zip')\n",
    "blob.upload_from_filename(f'{DIR}/function/function_commit.zip')"
   ]
  },
  {
   "cell_type": "code",
   "execution_count": 102,
   "metadata": {
    "colab": {
     "base_uri": "https://localhost:8080/"
    },
    "executionInfo": {
     "elapsed": 13,
     "status": "ok",
     "timestamp": 1676847074954,
     "user": {
      "displayName": "Mike Henderson",
      "userId": "11664017018095232389"
     },
     "user_tz": 300
    },
    "id": "V9KkgKA6lzkE",
    "outputId": "51b463eb-b155-45a3-ce85-9c590894aa1b"
   },
   "outputs": [
    {
     "data": {
      "text/plain": [
       "[<Blob: vertex-ai-mlops-369716, architectures/tracking/setup/github/function_commit.zip, 1676847074681164>]"
      ]
     },
     "execution_count": 102,
     "metadata": {},
     "output_type": "execute_result"
    }
   ],
   "source": [
    "list(bucket.list_blobs(prefix = f'{SOURCEPATH}'))"
   ]
  },
  {
   "cell_type": "code",
   "execution_count": 103,
   "metadata": {
    "colab": {
     "base_uri": "https://localhost:8080/"
    },
    "executionInfo": {
     "elapsed": 8,
     "status": "ok",
     "timestamp": 1676847074955,
     "user": {
      "displayName": "Mike Henderson",
      "userId": "11664017018095232389"
     },
     "user_tz": 300
    },
    "id": "ZSLvyEQdlzhh",
    "outputId": "9e46fe77-aa15-4d3c-988a-aa9fc3f77851"
   },
   "outputs": [
    {
     "name": "stdout",
     "output_type": "stream",
     "text": [
      "View the bucket directly here:\n",
      "https://console.cloud.google.com/storage/browser/vertex-ai-mlops-369716/architectures/tracking/setup/github;tab=objects&project=vertex-ai-mlops-369716\n"
     ]
    }
   ],
   "source": [
    "print(f\"View the bucket directly here:\\nhttps://console.cloud.google.com/storage/browser/{PROJECT_ID}/{SOURCEPATH};tab=objects&project={PROJECT_ID}\")"
   ]
  },
  {
   "cell_type": "markdown",
   "metadata": {
    "id": "VF7cLwtSvrQw"
   },
   "source": [
    "### Service Account\n",
    "The Cloud Function will run as a service account.  Retrieve the default app engine service account and check its permissions.  It needs to be able to read/write to BigQuery and read secrets from the secret manager.\n",
    "\n",
    "I used the Console to create a service account for these jobs:\n",
    "- Console > IAM > Service Accounts\n",
    "- Create New: name = `metrics-runner`\n",
    "- roles = BigQuery Admin, Secret Accessor\n",
    "\n"
   ]
  },
  {
   "cell_type": "code",
   "execution_count": 124,
   "metadata": {
    "colab": {
     "base_uri": "https://localhost:8080/"
    },
    "executionInfo": {
     "elapsed": 4,
     "status": "ok",
     "timestamp": 1676847826175,
     "user": {
      "displayName": "Mike Henderson",
      "userId": "11664017018095232389"
     },
     "user_tz": 300
    },
    "id": "KmzXT6wa6rNJ",
    "outputId": "77d7e13b-7c83-4d79-dbe5-dc43f5fe5264"
   },
   "outputs": [
    {
     "name": "stdout",
     "output_type": "stream",
     "text": [
      "Review Service Account Details in Console:\n",
      "https://console.cloud.google.com/iam-admin/serviceaccounts?project=vertex-ai-mlops-369716\n"
     ]
    }
   ],
   "source": [
    "print(f'Review Service Account Details in Console:\\nhttps://console.cloud.google.com/iam-admin/serviceaccounts?project={PROJECT_ID}')"
   ]
  },
  {
   "cell_type": "markdown",
   "metadata": {
    "id": "38-1ERqwmyUZ"
   },
   "source": [
    "### Create (or Update) Cloud Function"
   ]
  },
  {
   "cell_type": "code",
   "execution_count": 104,
   "metadata": {
    "executionInfo": {
     "elapsed": 4,
     "status": "ok",
     "timestamp": 1676847077349,
     "user": {
      "displayName": "Mike Henderson",
      "userId": "11664017018095232389"
     },
     "user_tz": 300
    },
    "id": "olE04Uw0lzfw"
   },
   "outputs": [],
   "source": [
    "function_name = f'github_metrics_commits'"
   ]
  },
  {
   "cell_type": "code",
   "execution_count": 105,
   "metadata": {
    "executionInfo": {
     "elapsed": 189,
     "status": "ok",
     "timestamp": 1676847077535,
     "user": {
      "displayName": "Mike Henderson",
      "userId": "11664017018095232389"
     },
     "user_tz": 300
    },
    "id": "lCPBjqQwlzdN"
   },
   "outputs": [],
   "source": [
    "function = ''\n",
    "for function in functions_client.list_functions(request = functions_v1.ListFunctionsRequest(parent = f'projects/{PROJECT_ID}/locations/{REGION}')):\n",
    "    if function.name.endswith(function_name):\n",
    "        break\n",
    "    else: function = ''"
   ]
  },
  {
   "cell_type": "code",
   "execution_count": 106,
   "metadata": {
    "colab": {
     "base_uri": "https://localhost:8080/"
    },
    "executionInfo": {
     "elapsed": 12,
     "status": "ok",
     "timestamp": 1676847077536,
     "user": {
      "displayName": "Mike Henderson",
      "userId": "11664017018095232389"
     },
     "user_tz": 300
    },
    "id": "Hdjvp8HLnC8d",
    "outputId": "e788db35-9408-41c5-fce6-065034c44190"
   },
   "outputs": [
    {
     "data": {
      "text/plain": [
       "name: \"projects/vertex-ai-mlops-369716/locations/us-central1/functions/github_metrics_commits\"\n",
       "source_archive_url: \"gs://vertex-ai-mlops-369716/architectures/tracking/setup/github/function_commit.zip\"\n",
       "event_trigger {\n",
       "  event_type: \"providers/cloud.pubsub/eventTypes/topic.publish\"\n",
       "  resource: \"projects/vertex-ai-mlops-369716/topics/daily_metrics_triggers\"\n",
       "  service: \"pubsub.googleapis.com\"\n",
       "  failure_policy {\n",
       "  }\n",
       "}\n",
       "status: ACTIVE\n",
       "entry_point: \"collect\"\n",
       "timeout {\n",
       "  seconds: 420\n",
       "}\n",
       "available_memory_mb: 256\n",
       "service_account_email: \"metrics-runner@vertex-ai-mlops-369716.iam.gserviceaccount.com\"\n",
       "update_time {\n",
       "  seconds: 1676846019\n",
       "  nanos: 961000000\n",
       "}\n",
       "version_id: 3\n",
       "runtime: \"python310\"\n",
       "max_instances: 3000\n",
       "ingress_settings: ALLOW_ALL\n",
       "build_id: \"801d548e-f755-4569-9264-f22b0eb282a7\"\n",
       "secret_environment_variables {\n",
       "  key: \"GITHUB_PAT\"\n",
       "  project_id: \"807305962454\"\n",
       "  secret: \"github_api\"\n",
       "  version: \"latest\"\n",
       "}\n",
       "build_name: \"projects/807305962454/locations/us-central1/builds/801d548e-f755-4569-9264-f22b0eb282a7\"\n",
       "docker_registry: CONTAINER_REGISTRY"
      ]
     },
     "execution_count": 106,
     "metadata": {},
     "output_type": "execute_result"
    }
   ],
   "source": [
    "function"
   ]
  },
  {
   "cell_type": "code",
   "execution_count": 107,
   "metadata": {
    "executionInfo": {
     "elapsed": 3,
     "status": "ok",
     "timestamp": 1676847077713,
     "user": {
      "displayName": "Mike Henderson",
      "userId": "11664017018095232389"
     },
     "user_tz": 300
    },
    "id": "c9e88xwClzbV"
   },
   "outputs": [],
   "source": [
    "from google.protobuf.duration_pb2 import Duration\n",
    "\n",
    "functionDef = functions_v1.CloudFunction()\n",
    "functionDef.name = f'projects/{PROJECT_ID}/locations/{REGION}/functions/{function_name}'\n",
    "functionDef.source_archive_url = f\"gs://{PROJECT_ID}/{SOURCEPATH}/function_commit.zip\"\n",
    "functionDef.event_trigger = functions_v1.EventTrigger()\n",
    "functionDef.event_trigger.event_type = 'providers/cloud.pubsub/eventTypes/topic.publish'\n",
    "functionDef.event_trigger.resource = topic.name\n",
    "functionDef.runtime = 'python310'\n",
    "functionDef.entry_point = 'collect'\n",
    "functionDef.timeout = Duration(seconds = 420)\n",
    "functionDef.service_account_email = f\"metrics-runner@{PROJECT_ID}.iam.gserviceaccount.com\"\n",
    "functionDef.secret_environment_variables = [functions_v1.SecretEnvVar(\n",
    "    key = 'GITHUB_PAT',\n",
    "    secret = 'github_api'\n",
    ")]"
   ]
  },
  {
   "cell_type": "code",
   "execution_count": 108,
   "metadata": {
    "colab": {
     "base_uri": "https://localhost:8080/"
    },
    "executionInfo": {
     "elapsed": 4,
     "status": "ok",
     "timestamp": 1676847078481,
     "user": {
      "displayName": "Mike Henderson",
      "userId": "11664017018095232389"
     },
     "user_tz": 300
    },
    "id": "VkQ9l8AYlzY9",
    "outputId": "5efce89e-40d2-4f88-cd4e-d7f75f26c616"
   },
   "outputs": [
    {
     "data": {
      "text/plain": [
       "name: \"projects/vertex-ai-mlops-369716/locations/us-central1/functions/github_metrics_commits\"\n",
       "source_archive_url: \"gs://vertex-ai-mlops-369716/architectures/tracking/setup/github/function_commit.zip\"\n",
       "event_trigger {\n",
       "  event_type: \"providers/cloud.pubsub/eventTypes/topic.publish\"\n",
       "  resource: \"projects/vertex-ai-mlops-369716/topics/daily_metrics_triggers\"\n",
       "}\n",
       "entry_point: \"collect\"\n",
       "timeout {\n",
       "  seconds: 420\n",
       "}\n",
       "service_account_email: \"metrics-runner@vertex-ai-mlops-369716.iam.gserviceaccount.com\"\n",
       "runtime: \"python310\"\n",
       "secret_environment_variables {\n",
       "  key: \"GITHUB_PAT\"\n",
       "  secret: \"github_api\"\n",
       "}"
      ]
     },
     "execution_count": 108,
     "metadata": {},
     "output_type": "execute_result"
    }
   ],
   "source": [
    "functionDef"
   ]
  },
  {
   "cell_type": "code",
   "execution_count": 109,
   "metadata": {
    "executionInfo": {
     "elapsed": 388,
     "status": "ok",
     "timestamp": 1676847079558,
     "user": {
      "displayName": "Mike Henderson",
      "userId": "11664017018095232389"
     },
     "user_tz": 300
    },
    "id": "OomTBZM-lzWP"
   },
   "outputs": [],
   "source": [
    "if function:\n",
    "    request = functions_v1.UpdateFunctionRequest(\n",
    "        function = functionDef\n",
    "    )\n",
    "    operation = functions_client.update_function(request = request)\n",
    "else:\n",
    "    request = functions_v1.CreateFunctionRequest(\n",
    "        location = f\"projects/{PROJECT_ID}/locations/{REGION}\",\n",
    "        function = functionDef\n",
    "    )\n",
    "    operation = functions_client.create_function(request = request)"
   ]
  },
  {
   "cell_type": "code",
   "execution_count": 110,
   "metadata": {
    "colab": {
     "base_uri": "https://localhost:8080/"
    },
    "executionInfo": {
     "elapsed": 142061,
     "status": "ok",
     "timestamp": 1676847221834,
     "user": {
      "displayName": "Mike Henderson",
      "userId": "11664017018095232389"
     },
     "user_tz": 300
    },
    "id": "aFeoweDQlzS5",
    "outputId": "4b55fee8-0430-46f8-f97b-afc847fb91ea"
   },
   "outputs": [
    {
     "name": "stdout",
     "output_type": "stream",
     "text": [
      "name: \"projects/vertex-ai-mlops-369716/locations/us-central1/functions/github_metrics_commits\"\n",
      "source_archive_url: \"gs://vertex-ai-mlops-369716/architectures/tracking/setup/github/function_commit.zip\"\n",
      "event_trigger {\n",
      "  event_type: \"providers/cloud.pubsub/eventTypes/topic.publish\"\n",
      "  resource: \"projects/vertex-ai-mlops-369716/topics/daily_metrics_triggers\"\n",
      "  service: \"pubsub.googleapis.com\"\n",
      "  failure_policy {\n",
      "  }\n",
      "}\n",
      "status: ACTIVE\n",
      "entry_point: \"collect\"\n",
      "timeout {\n",
      "  seconds: 420\n",
      "}\n",
      "available_memory_mb: 256\n",
      "service_account_email: \"metrics-runner@vertex-ai-mlops-369716.iam.gserviceaccount.com\"\n",
      "update_time {\n",
      "  seconds: 1676847212\n",
      "  nanos: 97000000\n",
      "}\n",
      "version_id: 5\n",
      "runtime: \"python310\"\n",
      "max_instances: 3000\n",
      "ingress_settings: ALLOW_ALL\n",
      "build_id: \"0354f03f-c84c-497c-8ed3-5631cce37f1e\"\n",
      "secret_environment_variables {\n",
      "  key: \"GITHUB_PAT\"\n",
      "  project_id: \"807305962454\"\n",
      "  secret: \"github_api\"\n",
      "  version: \"latest\"\n",
      "}\n",
      "build_name: \"projects/807305962454/locations/us-central1/builds/0354f03f-c84c-497c-8ed3-5631cce37f1e\"\n",
      "docker_registry: CONTAINER_REGISTRY\n",
      "\n"
     ]
    }
   ],
   "source": [
    "response = operation.result()\n",
    "print(response)"
   ]
  },
  {
   "cell_type": "code",
   "execution_count": 111,
   "metadata": {
    "colab": {
     "base_uri": "https://localhost:8080/"
    },
    "executionInfo": {
     "elapsed": 15,
     "status": "ok",
     "timestamp": 1676847221834,
     "user": {
      "displayName": "Mike Henderson",
      "userId": "11664017018095232389"
     },
     "user_tz": 300
    },
    "id": "pYRzg_23lzQg",
    "outputId": "27294f35-22dc-4eca-b7ff-2d8d77543a2c"
   },
   "outputs": [
    {
     "name": "stdout",
     "output_type": "stream",
     "text": [
      "Review the Cloud Function in the console here:\n",
      "https://console.cloud.google.com/functions/list?env=gen1&project=vertex-ai-mlops-369716\n"
     ]
    }
   ],
   "source": [
    "print(f'Review the Cloud Function in the console here:\\nhttps://console.cloud.google.com/functions/list?env=gen1&project={PROJECT_ID}')"
   ]
  },
  {
   "cell_type": "markdown",
   "metadata": {
    "id": "09eF9DPCqPDF"
   },
   "source": [
    "### Manual Run of Cloud Function\n",
    "\n",
    "Publish a message to the Pub/Sub topic that will cause the Cloud Function to initiate training.  The code below could be anywhere you want to trigger training!\n",
    "\n",
    "The function will receive the message as `event` in the format:\n",
    "```\n",
    "{\n",
    "    '@type': 'type.googleapis.com/google.pubsub.v1.PubsubMessage',\n",
    "    'attributes': {'key' : 'value', ...},\n",
    "    'data': <base64 encoded string>\n",
    "}\n",
    "```\n",
    "\n",
    "To handle the `event` and retrieve the inputs of the message three things need to happen:\n",
    "1. reference the 'data' value as `event['data']`\n",
    "2. decode the 'data' value with `base64.b64decode(<1>).decode('utf-8')`\n",
    "3. convert the decoded string into a Python dictionary with `json.loads(<2>)`\n",
    "\n",
    "This looks like:\n",
    "```\n",
    "funtion_inputs = json.loads(base64.b64decode(event['data']).decode('utf-8'))\n",
    "```"
   ]
  },
  {
   "cell_type": "code",
   "execution_count": 127,
   "metadata": {
    "executionInfo": {
     "elapsed": 179,
     "status": "ok",
     "timestamp": 1676852216381,
     "user": {
      "displayName": "Mike Henderson",
      "userId": "11664017018095232389"
     },
     "user_tz": 300
    },
    "id": "YLvUdDCUlzNa"
   },
   "outputs": [],
   "source": [
    "function_input = {\n",
    "    'PROJECT_ID': PROJECT_ID\n",
    "}"
   ]
  },
  {
   "cell_type": "code",
   "execution_count": 128,
   "metadata": {
    "executionInfo": {
     "elapsed": 185,
     "status": "ok",
     "timestamp": 1676852218535,
     "user": {
      "displayName": "Mike Henderson",
      "userId": "11664017018095232389"
     },
     "user_tz": 300
    },
    "id": "NRiUp32ElzKk"
   },
   "outputs": [],
   "source": [
    "message = json.dumps(function_input)\n",
    "message = message.encode('utf-8')"
   ]
  },
  {
   "cell_type": "code",
   "execution_count": 129,
   "metadata": {
    "executionInfo": {
     "elapsed": 170,
     "status": "ok",
     "timestamp": 1676852219424,
     "user": {
      "displayName": "Mike Henderson",
      "userId": "11664017018095232389"
     },
     "user_tz": 300
    },
    "id": "5iVY4blUnLJy"
   },
   "outputs": [],
   "source": [
    "future = pubsub_pubclient.publish(topic.name, message, trigger = 'manual')"
   ]
  },
  {
   "cell_type": "code",
   "execution_count": 130,
   "metadata": {
    "colab": {
     "base_uri": "https://localhost:8080/",
     "height": 35
    },
    "executionInfo": {
     "elapsed": 9,
     "status": "ok",
     "timestamp": 1676852220542,
     "user": {
      "displayName": "Mike Henderson",
      "userId": "11664017018095232389"
     },
     "user_tz": 300
    },
    "id": "g0El69aJnLGc",
    "outputId": "74caf268-60ee-4bfd-d3e1-223e50355342"
   },
   "outputs": [
    {
     "data": {
      "application/vnd.google.colaboratory.intrinsic+json": {
       "type": "string"
      },
      "text/plain": [
       "'6958028301856185'"
      ]
     },
     "execution_count": 130,
     "metadata": {},
     "output_type": "execute_result"
    }
   ],
   "source": [
    "future.result()"
   ]
  },
  {
   "cell_type": "markdown",
   "metadata": {
    "id": "sIldXzPpqftI"
   },
   "source": [
    "---\n",
    "## Scheduled Run with Cloud Scheduler\n",
    "\n",
    "Use Cloud Scheduler to publish a message to the topic at any defined interval which will cause the Cloud Function to initiate training.\n",
    "\n",
    "Resources:\n",
    "- List of Time zones - [TZ Database Names](https://en.wikipedia.org/wiki/List_of_tz_database_time_zones)\n",
    "- Job Frequency - [unix-cron format guide](https://man7.org/linux/man-pages/man5/crontab.5.html)\n",
    "    - minute hour day_of_month month day_of_week\n",
    "    - 0 23 * * tue = 11PM every Tuesday\n"
   ]
  },
  {
   "cell_type": "code",
   "execution_count": 116,
   "metadata": {
    "executionInfo": {
     "elapsed": 140,
     "status": "ok",
     "timestamp": 1676847421926,
     "user": {
      "displayName": "Mike Henderson",
      "userId": "11664017018095232389"
     },
     "user_tz": 300
    },
    "id": "j5E3Is9hnLCV"
   },
   "outputs": [],
   "source": [
    "schedule_name = 'daily_3am_est'"
   ]
  },
  {
   "cell_type": "code",
   "execution_count": 117,
   "metadata": {
    "executionInfo": {
     "elapsed": 564,
     "status": "ok",
     "timestamp": 1676847439297,
     "user": {
      "displayName": "Mike Henderson",
      "userId": "11664017018095232389"
     },
     "user_tz": 300
    },
    "id": "BKdJXugMnLAE"
   },
   "outputs": [],
   "source": [
    "schedule = ''\n",
    "for schedule in scheduler_client.list_jobs(parent = f'projects/{PROJECT_ID}/locations/{REGION}'):\n",
    "    if schedule.name.endswith(schedule_name):\n",
    "        break\n",
    "    else: schedule = ''"
   ]
  },
  {
   "cell_type": "code",
   "execution_count": 118,
   "metadata": {
    "colab": {
     "base_uri": "https://localhost:8080/"
    },
    "executionInfo": {
     "elapsed": 796,
     "status": "ok",
     "timestamp": 1676847544527,
     "user": {
      "displayName": "Mike Henderson",
      "userId": "11664017018095232389"
     },
     "user_tz": 300
    },
    "id": "LCc7ponWnK-F",
    "outputId": "8657384d-5904-46ac-cd66-50ea47937444"
   },
   "outputs": [
    {
     "name": "stdout",
     "output_type": "stream",
     "text": [
      "name: \"projects/vertex-ai-mlops-369716/locations/us-central1/jobs/daily_3am_est\"\n",
      "pubsub_target {\n",
      "  topic_name: \"projects/vertex-ai-mlops-369716/topics/daily_metrics_triggers\"\n",
      "  data: \"{\\\"PROJECT_ID\\\": \\\"vertex-ai-mlops-369716\\\"}\"\n",
      "  attributes {\n",
      "    key: \"trigger\"\n",
      "    value: \"scheduled\"\n",
      "  }\n",
      "}\n",
      "user_update_time {\n",
      "  seconds: 1676847544\n",
      "}\n",
      "state: ENABLED\n",
      "schedule: \"0 3 * * *\"\n",
      "time_zone: \"America/New_York\"\n",
      "\n"
     ]
    }
   ],
   "source": [
    "if schedule:\n",
    "    print(schedule)\n",
    "else:\n",
    "    request = scheduler_v1.CreateJobRequest(\n",
    "        parent = f'projects/{PROJECT_ID}/locations/{REGION}',\n",
    "        job = scheduler_v1.Job(\n",
    "            name = f'projects/{PROJECT_ID}/locations/{REGION}/jobs/{schedule_name}',\n",
    "            pubsub_target = scheduler_v1.PubsubTarget(\n",
    "                topic_name = topic.name,\n",
    "                data = message,\n",
    "                attributes = {'trigger': 'scheduled'}\n",
    "            ),\n",
    "            schedule = '0 3 * * *',\n",
    "            time_zone = 'America/New_York'\n",
    "        )\n",
    "    )\n",
    "    schedule = scheduler_client.create_job(request = request)\n",
    "    print(schedule)"
   ]
  },
  {
   "cell_type": "code",
   "execution_count": 126,
   "metadata": {
    "colab": {
     "base_uri": "https://localhost:8080/"
    },
    "executionInfo": {
     "elapsed": 15,
     "status": "ok",
     "timestamp": 1676847992379,
     "user": {
      "displayName": "Mike Henderson",
      "userId": "11664017018095232389"
     },
     "user_tz": 300
    },
    "id": "-OlK0diknK7q",
    "outputId": "cb418f87-d711-4ae7-ab85-ae19fd1e3d02"
   },
   "outputs": [
    {
     "name": "stdout",
     "output_type": "stream",
     "text": [
      "Review the schedule in the console:\n",
      "https://console.cloud.google.com/cloudscheduler?project=vertex-ai-mlops-369716\n"
     ]
    }
   ],
   "source": [
    "print(f'Review the schedule in the console:\\nhttps://console.cloud.google.com/cloudscheduler?project={PROJECT_ID}')"
   ]
  },
  {
   "cell_type": "code",
   "execution_count": null,
   "metadata": {
    "id": "CS_HXRUanK5d"
   },
   "outputs": [],
   "source": []
  },
  {
   "cell_type": "code",
   "execution_count": null,
   "metadata": {
    "id": "ASmMNNQvnK2k"
   },
   "outputs": [],
   "source": []
  },
  {
   "cell_type": "code",
   "execution_count": null,
   "metadata": {
    "id": "VwI00glLnKz8"
   },
   "outputs": [],
   "source": []
  }
 ],
 "metadata": {
  "colab": {
   "provenance": [],
   "toc_visible": true
  },
  "environment": {
   "kernel": "python3",
   "name": "tf2-gpu.2-3.m94",
   "type": "gcloud",
   "uri": "gcr.io/deeplearning-platform-release/tf2-gpu.2-3:m94"
  },
  "kernelspec": {
   "display_name": "Python 3",
   "language": "python",
   "name": "python3"
  },
  "language_info": {
   "codemirror_mode": {
    "name": "ipython",
    "version": 3
   },
   "file_extension": ".py",
   "mimetype": "text/x-python",
   "name": "python",
   "nbconvert_exporter": "python",
   "pygments_lexer": "ipython3",
   "version": "3.7.12"
  }
 },
 "nbformat": 4,
 "nbformat_minor": 4
}
