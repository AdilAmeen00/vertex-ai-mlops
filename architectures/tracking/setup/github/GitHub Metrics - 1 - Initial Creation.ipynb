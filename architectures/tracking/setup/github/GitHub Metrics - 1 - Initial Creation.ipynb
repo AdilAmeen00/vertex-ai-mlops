{
 "cells": [
  {
   "cell_type": "markdown",
   "metadata": {
    "id": "MRoj6dSNn0mw"
   },
   "source": [
    "![ga4](https://www.google-analytics.com/collect?v=2&tid=G-6VDTYWLKX6&cid=1&en=page_view&sid=1&dl=statmike%2Fvertex-ai-mlops%2Farchitectures%2Ftracking%2Fsetup%2Fgithub&dt=GitHub+Metrics+-+1+-+Initial+Creation.ipynb)\n",
    "\n",
    "# GitHub Statistics For /statmike/vertex-ai-mlops\n",
    "\n",
    "Using the [GitHub API](https://docs.github.com/en/rest/metrics/statistics?apiVersion=2022-11-28) to:\n",
    "- get commit history\n",
    "\n",
    "**Notes:**\n",
    "\n",
    "The API offers different ways to retrieve commit information.  These are different summaries of the the same information.\n",
    "- `/commits` retrieves all commits for a repository, but not files\n",
    "- `/commits/sha` where `sha` is the sha for a commit will retrieve the files associated with the individual commit\n",
    "- `/contributors` a weekly summary of commits, additions, deletions for each contributor\n",
    "- `/stats/code_frequency` is a weekly history of additions and deletions summarized\n",
    "- `/stats/commit_activity` has the last year of weekly data for commits \n",
    "\n",
    "\n",
    "The most granualar levels is using `/commits` and then `/commits/sha` to retrieve timestamped file level information within commits.  This data could then be rolled up to all other levels in reporting.\n",
    "\n",
    "\n",
    "Approach notes:\n",
    "- I prefer to not converte datas/times to formats in pandas and instead save this as a step in BigQuery.  Why? Loading a dataframe to BigQuery has a middle layer where the data gets serialized and transferred.  This middle step is another set of format conversions that can impact dates/times.  This can cause errors when later appending to the same BigQuery tables even when the dataframe matches the original identically. A > B > C is not the same as A > B|C > C"
   ]
  },
  {
   "cell_type": "markdown",
   "metadata": {
    "id": "0KsOeZEioSYq"
   },
   "source": [
    "---\n",
    "## Colab Setup\n",
    "\n",
    "To run this notebook in Colab click [![Open In Colab](https://colab.research.google.com/assets/colab-badge.svg)](https://colab.research.google.com/github/statmike/vertex-ai-mlops/blob/main/architectures/tracking/setup/github/GitHub%20Metrics%20-%201%20-%20Initial%20Creation.ipynb) and run the cells in this section.  Otherwise, skip this section.\n",
    "\n",
    "This cell will authenticate to GCP (follow prompts in the popup)."
   ]
  },
  {
   "cell_type": "code",
   "execution_count": 50,
   "metadata": {
    "executionInfo": {
     "elapsed": 117,
     "status": "ok",
     "timestamp": 1676832744809,
     "user": {
      "displayName": "Mike Henderson",
      "userId": "11664017018095232389"
     },
     "user_tz": 300
    },
    "id": "MWl8BI5apkcI"
   },
   "outputs": [],
   "source": [
    "PROJECT_ID = 'vertex-ai-mlops-369716' # replace with project ID"
   ]
  },
  {
   "cell_type": "code",
   "execution_count": 51,
   "metadata": {
    "colab": {
     "base_uri": "https://localhost:8080/"
    },
    "executionInfo": {
     "elapsed": 2051,
     "status": "ok",
     "timestamp": 1676832747893,
     "user": {
      "displayName": "Mike Henderson",
      "userId": "11664017018095232389"
     },
     "user_tz": 300
    },
    "id": "WdZkhxNLoVNY",
    "outputId": "fe20d544-b542-43eb-b3ba-52b9a030b3ff"
   },
   "outputs": [
    {
     "name": "stdout",
     "output_type": "stream",
     "text": [
      "Updated property [core/project].\n"
     ]
    }
   ],
   "source": [
    "try:\n",
    "    import google.colab\n",
    "    try:\n",
    "      from google.cloud import secretmanager\n",
    "    except ImportError:\n",
    "      !pip install google-cloud-secret-manager -q\n",
    "    from google.colab import auth\n",
    "    auth.authenticate_user()\n",
    "    !gcloud config set project {PROJECT_ID}\n",
    "except Exception:\n",
    "    pass"
   ]
  },
  {
   "cell_type": "markdown",
   "metadata": {
    "id": "tVA5SciOoNlf"
   },
   "source": [
    "---\n",
    "## Setup"
   ]
  },
  {
   "cell_type": "code",
   "execution_count": 52,
   "metadata": {
    "colab": {
     "base_uri": "https://localhost:8080/",
     "height": 35
    },
    "executionInfo": {
     "elapsed": 1000,
     "status": "ok",
     "timestamp": 1676832748890,
     "user": {
      "displayName": "Mike Henderson",
      "userId": "11664017018095232389"
     },
     "user_tz": 300
    },
    "id": "pCPIhNOomdyi",
    "outputId": "7353568b-69db-4b0e-a87a-c8ec90278c3f"
   },
   "outputs": [
    {
     "data": {
      "application/vnd.google.colaboratory.intrinsic+json": {
       "type": "string"
      },
      "text/plain": [
       "'vertex-ai-mlops-369716'"
      ]
     },
     "execution_count": 52,
     "metadata": {},
     "output_type": "execute_result"
    }
   ],
   "source": [
    "project = !gcloud config get-value project\n",
    "PROJECT_ID = project[0]\n",
    "PROJECT_ID"
   ]
  },
  {
   "cell_type": "code",
   "execution_count": 53,
   "metadata": {
    "executionInfo": {
     "elapsed": 5,
     "status": "ok",
     "timestamp": 1676832748891,
     "user": {
      "displayName": "Mike Henderson",
      "userId": "11664017018095232389"
     },
     "user_tz": 300
    },
    "id": "JwYJTkWAoY5U"
   },
   "outputs": [],
   "source": [
    "REGION = 'us-central1'\n",
    "\n",
    "github_user = 'statmike'\n",
    "github_repo = 'vertex-ai-mlops'\n",
    "\n",
    "BQ_PROJECT = PROJECT_ID\n",
    "BQ_DATASET = 'github_metrics'"
   ]
  },
  {
   "cell_type": "code",
   "execution_count": 54,
   "metadata": {
    "executionInfo": {
     "elapsed": 4,
     "status": "ok",
     "timestamp": 1676832748891,
     "user": {
      "displayName": "Mike Henderson",
      "userId": "11664017018095232389"
     },
     "user_tz": 300
    },
    "id": "wjIPLHPWoY8O"
   },
   "outputs": [],
   "source": [
    "import requests\n",
    "import json\n",
    "import time\n",
    "from datetime import datetime\n",
    "import pandas as pd\n",
    "from io import StringIO\n",
    "import os, shutil\n",
    "\n",
    "from google.cloud import bigquery\n",
    "from google.cloud import secretmanager"
   ]
  },
  {
   "cell_type": "code",
   "execution_count": 55,
   "metadata": {
    "executionInfo": {
     "elapsed": 131,
     "status": "ok",
     "timestamp": 1676832749153,
     "user": {
      "displayName": "Mike Henderson",
      "userId": "11664017018095232389"
     },
     "user_tz": 300
    },
    "id": "YyZ2WKRtoY-R"
   },
   "outputs": [],
   "source": [
    "bq = bigquery.Client(project = PROJECT_ID)\n",
    "secret_client = secretmanager.SecretManagerServiceClient()"
   ]
  },
  {
   "cell_type": "code",
   "execution_count": 56,
   "metadata": {
    "executionInfo": {
     "elapsed": 312,
     "status": "ok",
     "timestamp": 1676832749991,
     "user": {
      "displayName": "Mike Henderson",
      "userId": "11664017018095232389"
     },
     "user_tz": 300
    },
    "id": "XXvL27DPoZAP"
   },
   "outputs": [],
   "source": [
    "secret = secret_client.access_secret_version(request = {\"name\": f'projects/{PROJECT_ID}/secrets/github_api/versions/latest'})\n",
    "pat = secret.payload.data.decode('utf-8')"
   ]
  },
  {
   "cell_type": "markdown",
   "metadata": {
    "id": "X8rENrk0qmPm"
   },
   "source": [
    "---\n",
    "## GitHub API\n",
    "\n",
    "Define the API url for the user and repository.  Create a helper function that will make get request from API addresses and if the receive a 202 response (accepted request) then retry until it receives a 200 response (successful response)."
   ]
  },
  {
   "cell_type": "code",
   "execution_count": 57,
   "metadata": {
    "executionInfo": {
     "elapsed": 136,
     "status": "ok",
     "timestamp": 1676832751293,
     "user": {
      "displayName": "Mike Henderson",
      "userId": "11664017018095232389"
     },
     "user_tz": 300
    },
    "id": "QBkk62vnoZCU"
   },
   "outputs": [],
   "source": [
    "github_api_url = f'https://api.github.com/repos/{github_user}/{github_repo}'"
   ]
  },
  {
   "cell_type": "code",
   "execution_count": 58,
   "metadata": {
    "executionInfo": {
     "elapsed": 134,
     "status": "ok",
     "timestamp": 1676832752046,
     "user": {
      "displayName": "Mike Henderson",
      "userId": "11664017018095232389"
     },
     "user_tz": 300
    },
    "id": "viAWwoPIy0WT"
   },
   "outputs": [],
   "source": [
    "def metric_get(metric_type):\n",
    "  response = requests.get(f'{github_api_url}/{metric_type}', headers = {'Authorization': f'Bearer {pat}', 'Accept': 'application/vnd.github+json'})\n",
    "  while response.status_code == 202:\n",
    "      time.sleep(10)\n",
    "      response = requests.get(f'{github_api_url}/{metric_type}', headers = {'Authorization': f'Bearer {pat}', 'Accept': 'application/vnd.github+json'})\n",
    "  return response"
   ]
  },
  {
   "cell_type": "markdown",
   "metadata": {
    "id": "rwIjYQ4c2tac"
   },
   "source": [
    "---\n",
    "## Data Exploration\n",
    "\n",
    "The following subsection retrieve and format data from different parts of the API related to commits."
   ]
  },
  {
   "cell_type": "markdown",
   "metadata": {
    "id": "aRJRtt2Sxgxg"
   },
   "source": [
    "---\n",
    "### code_frequency\n",
    "- stats/code_frequency\n",
    "- https://docs.github.com/en/rest/metrics/statistics?apiVersion=2022-11-28#get-the-weekly-commit-activity\n",
    "- Full history of repository\n",
    "- schema: list of list for each week\n",
    "  - 3 elements are integers: UNIX Timestamp for 12AM each Sunday, additions, deletions\n",
    "- LRO may return status_code = 202 while running, do retry until 200\n"
   ]
  },
  {
   "cell_type": "code",
   "execution_count": 59,
   "metadata": {
    "colab": {
     "base_uri": "https://localhost:8080/"
    },
    "executionInfo": {
     "elapsed": 392,
     "status": "ok",
     "timestamp": 1676832754934,
     "user": {
      "displayName": "Mike Henderson",
      "userId": "11664017018095232389"
     },
     "user_tz": 300
    },
    "id": "KMHAD_X8yhg1",
    "outputId": "208591b2-2cbd-4eb4-925d-2199957a81aa"
   },
   "outputs": [
    {
     "data": {
      "text/plain": [
       "200"
      ]
     },
     "execution_count": 59,
     "metadata": {},
     "output_type": "execute_result"
    }
   ],
   "source": [
    "metric_type = 'stats/code_frequency'\n",
    "response = metric_get(metric_type)\n",
    "response.status_code"
   ]
  },
  {
   "cell_type": "code",
   "execution_count": 60,
   "metadata": {
    "executionInfo": {
     "elapsed": 224,
     "status": "ok",
     "timestamp": 1676832766047,
     "user": {
      "displayName": "Mike Henderson",
      "userId": "11664017018095232389"
     },
     "user_tz": 300
    },
    "id": "BICG4AYWoZEb"
   },
   "outputs": [],
   "source": [
    "code_frequency = pd.DataFrame(json.loads(response.text), columns = ['week', 'additions', 'deletions'])\n",
    "#code_frequency['week'] = pd.to_datetime(code_frequency['week'], unit = 's')"
   ]
  },
  {
   "cell_type": "code",
   "execution_count": 61,
   "metadata": {
    "colab": {
     "base_uri": "https://localhost:8080/",
     "height": 206
    },
    "executionInfo": {
     "elapsed": 111,
     "status": "ok",
     "timestamp": 1676832767301,
     "user": {
      "displayName": "Mike Henderson",
      "userId": "11664017018095232389"
     },
     "user_tz": 300
    },
    "id": "8_qoIdCBoZI9",
    "outputId": "02b0854d-9d7e-4e48-c7e8-50b82caa5d8e"
   },
   "outputs": [
    {
     "data": {
      "text/html": [
       "\n",
       "  <div id=\"df-c535dbc9-92e5-44b7-afc1-babbf6a68417\">\n",
       "    <div class=\"colab-df-container\">\n",
       "      <div>\n",
       "<style scoped>\n",
       "    .dataframe tbody tr th:only-of-type {\n",
       "        vertical-align: middle;\n",
       "    }\n",
       "\n",
       "    .dataframe tbody tr th {\n",
       "        vertical-align: top;\n",
       "    }\n",
       "\n",
       "    .dataframe thead th {\n",
       "        text-align: right;\n",
       "    }\n",
       "</style>\n",
       "<table border=\"1\" class=\"dataframe\">\n",
       "  <thead>\n",
       "    <tr style=\"text-align: right;\">\n",
       "      <th></th>\n",
       "      <th>week</th>\n",
       "      <th>additions</th>\n",
       "      <th>deletions</th>\n",
       "    </tr>\n",
       "  </thead>\n",
       "  <tbody>\n",
       "    <tr>\n",
       "      <th>0</th>\n",
       "      <td>1616889600</td>\n",
       "      <td>2983</td>\n",
       "      <td>-547</td>\n",
       "    </tr>\n",
       "    <tr>\n",
       "      <th>1</th>\n",
       "      <td>1617494400</td>\n",
       "      <td>7461</td>\n",
       "      <td>-3499</td>\n",
       "    </tr>\n",
       "    <tr>\n",
       "      <th>2</th>\n",
       "      <td>1618099200</td>\n",
       "      <td>12394</td>\n",
       "      <td>-6314</td>\n",
       "    </tr>\n",
       "    <tr>\n",
       "      <th>3</th>\n",
       "      <td>1618704000</td>\n",
       "      <td>7904</td>\n",
       "      <td>-6179</td>\n",
       "    </tr>\n",
       "    <tr>\n",
       "      <th>4</th>\n",
       "      <td>1619308800</td>\n",
       "      <td>0</td>\n",
       "      <td>0</td>\n",
       "    </tr>\n",
       "  </tbody>\n",
       "</table>\n",
       "</div>\n",
       "      <button class=\"colab-df-convert\" onclick=\"convertToInteractive('df-c535dbc9-92e5-44b7-afc1-babbf6a68417')\"\n",
       "              title=\"Convert this dataframe to an interactive table.\"\n",
       "              style=\"display:none;\">\n",
       "        \n",
       "  <svg xmlns=\"http://www.w3.org/2000/svg\" height=\"24px\"viewBox=\"0 0 24 24\"\n",
       "       width=\"24px\">\n",
       "    <path d=\"M0 0h24v24H0V0z\" fill=\"none\"/>\n",
       "    <path d=\"M18.56 5.44l.94 2.06.94-2.06 2.06-.94-2.06-.94-.94-2.06-.94 2.06-2.06.94zm-11 1L8.5 8.5l.94-2.06 2.06-.94-2.06-.94L8.5 2.5l-.94 2.06-2.06.94zm10 10l.94 2.06.94-2.06 2.06-.94-2.06-.94-.94-2.06-.94 2.06-2.06.94z\"/><path d=\"M17.41 7.96l-1.37-1.37c-.4-.4-.92-.59-1.43-.59-.52 0-1.04.2-1.43.59L10.3 9.45l-7.72 7.72c-.78.78-.78 2.05 0 2.83L4 21.41c.39.39.9.59 1.41.59.51 0 1.02-.2 1.41-.59l7.78-7.78 2.81-2.81c.8-.78.8-2.07 0-2.86zM5.41 20L4 18.59l7.72-7.72 1.47 1.35L5.41 20z\"/>\n",
       "  </svg>\n",
       "      </button>\n",
       "      \n",
       "  <style>\n",
       "    .colab-df-container {\n",
       "      display:flex;\n",
       "      flex-wrap:wrap;\n",
       "      gap: 12px;\n",
       "    }\n",
       "\n",
       "    .colab-df-convert {\n",
       "      background-color: #E8F0FE;\n",
       "      border: none;\n",
       "      border-radius: 50%;\n",
       "      cursor: pointer;\n",
       "      display: none;\n",
       "      fill: #1967D2;\n",
       "      height: 32px;\n",
       "      padding: 0 0 0 0;\n",
       "      width: 32px;\n",
       "    }\n",
       "\n",
       "    .colab-df-convert:hover {\n",
       "      background-color: #E2EBFA;\n",
       "      box-shadow: 0px 1px 2px rgba(60, 64, 67, 0.3), 0px 1px 3px 1px rgba(60, 64, 67, 0.15);\n",
       "      fill: #174EA6;\n",
       "    }\n",
       "\n",
       "    [theme=dark] .colab-df-convert {\n",
       "      background-color: #3B4455;\n",
       "      fill: #D2E3FC;\n",
       "    }\n",
       "\n",
       "    [theme=dark] .colab-df-convert:hover {\n",
       "      background-color: #434B5C;\n",
       "      box-shadow: 0px 1px 3px 1px rgba(0, 0, 0, 0.15);\n",
       "      filter: drop-shadow(0px 1px 2px rgba(0, 0, 0, 0.3));\n",
       "      fill: #FFFFFF;\n",
       "    }\n",
       "  </style>\n",
       "\n",
       "      <script>\n",
       "        const buttonEl =\n",
       "          document.querySelector('#df-c535dbc9-92e5-44b7-afc1-babbf6a68417 button.colab-df-convert');\n",
       "        buttonEl.style.display =\n",
       "          google.colab.kernel.accessAllowed ? 'block' : 'none';\n",
       "\n",
       "        async function convertToInteractive(key) {\n",
       "          const element = document.querySelector('#df-c535dbc9-92e5-44b7-afc1-babbf6a68417');\n",
       "          const dataTable =\n",
       "            await google.colab.kernel.invokeFunction('convertToInteractive',\n",
       "                                                     [key], {});\n",
       "          if (!dataTable) return;\n",
       "\n",
       "          const docLinkHtml = 'Like what you see? Visit the ' +\n",
       "            '<a target=\"_blank\" href=https://colab.research.google.com/notebooks/data_table.ipynb>data table notebook</a>'\n",
       "            + ' to learn more about interactive tables.';\n",
       "          element.innerHTML = '';\n",
       "          dataTable['output_type'] = 'display_data';\n",
       "          await google.colab.output.renderOutput(dataTable, element);\n",
       "          const docLink = document.createElement('div');\n",
       "          docLink.innerHTML = docLinkHtml;\n",
       "          element.appendChild(docLink);\n",
       "        }\n",
       "      </script>\n",
       "    </div>\n",
       "  </div>\n",
       "  "
      ],
      "text/plain": [
       "         week  additions  deletions\n",
       "0  1616889600       2983       -547\n",
       "1  1617494400       7461      -3499\n",
       "2  1618099200      12394      -6314\n",
       "3  1618704000       7904      -6179\n",
       "4  1619308800          0          0"
      ]
     },
     "execution_count": 61,
     "metadata": {},
     "output_type": "execute_result"
    }
   ],
   "source": [
    "code_frequency.head()"
   ]
  },
  {
   "cell_type": "markdown",
   "metadata": {
    "id": "dU96LVjy1l-g"
   },
   "source": [
    "---\n",
    "### commit_activity\n",
    "- stats/commit_activity\n",
    "- https://docs.github.com/en/rest/metrics/statistics?apiVersion=2022-11-28#get-the-last-year-of-commit-activity\n",
    "- last year of commit activity\n",
    "- schema: list of dict for each week\n",
    "  - week: UNIX Timestamp for 12AM each Sunday\n",
    "  - total: int of number of commits\n",
    "  - days: list of ints with commit per day [sunday, ..., saturday]\n",
    "- LRO may return status_code = 202 while running, do retry until 200\n"
   ]
  },
  {
   "cell_type": "code",
   "execution_count": 62,
   "metadata": {
    "colab": {
     "base_uri": "https://localhost:8080/"
    },
    "executionInfo": {
     "elapsed": 335,
     "status": "ok",
     "timestamp": 1676832773796,
     "user": {
      "displayName": "Mike Henderson",
      "userId": "11664017018095232389"
     },
     "user_tz": 300
    },
    "id": "2qJr6P0_oZK4",
    "outputId": "362f7c98-7137-4623-f6ff-2fb80d5da09c"
   },
   "outputs": [
    {
     "data": {
      "text/plain": [
       "200"
      ]
     },
     "execution_count": 62,
     "metadata": {},
     "output_type": "execute_result"
    }
   ],
   "source": [
    "metric_type = 'stats/commit_activity'\n",
    "response = metric_get(metric_type)\n",
    "response.status_code"
   ]
  },
  {
   "cell_type": "code",
   "execution_count": 63,
   "metadata": {
    "executionInfo": {
     "elapsed": 129,
     "status": "ok",
     "timestamp": 1676832777393,
     "user": {
      "displayName": "Mike Henderson",
      "userId": "11664017018095232389"
     },
     "user_tz": 300
    },
    "id": "iR8ixNhdoZMw"
   },
   "outputs": [],
   "source": [
    "commit_activity = pd.DataFrame(json.loads(response.text)).drop(columns = ['days']).rename(columns = {'total' : 'commits'})\n",
    "#commit_activity['week'] = pd.to_datetime(commit_activity['week'], unit = 's')"
   ]
  },
  {
   "cell_type": "code",
   "execution_count": 64,
   "metadata": {
    "colab": {
     "base_uri": "https://localhost:8080/",
     "height": 206
    },
    "executionInfo": {
     "elapsed": 163,
     "status": "ok",
     "timestamp": 1676832778959,
     "user": {
      "displayName": "Mike Henderson",
      "userId": "11664017018095232389"
     },
     "user_tz": 300
    },
    "id": "6Se1cY1foZPF",
    "outputId": "ee81c134-a6ce-4737-c760-c351c205b4ab"
   },
   "outputs": [
    {
     "data": {
      "text/html": [
       "\n",
       "  <div id=\"df-f97bf72d-02ee-4806-970c-3f0aed0f4018\">\n",
       "    <div class=\"colab-df-container\">\n",
       "      <div>\n",
       "<style scoped>\n",
       "    .dataframe tbody tr th:only-of-type {\n",
       "        vertical-align: middle;\n",
       "    }\n",
       "\n",
       "    .dataframe tbody tr th {\n",
       "        vertical-align: top;\n",
       "    }\n",
       "\n",
       "    .dataframe thead th {\n",
       "        text-align: right;\n",
       "    }\n",
       "</style>\n",
       "<table border=\"1\" class=\"dataframe\">\n",
       "  <thead>\n",
       "    <tr style=\"text-align: right;\">\n",
       "      <th></th>\n",
       "      <th>commits</th>\n",
       "      <th>week</th>\n",
       "    </tr>\n",
       "  </thead>\n",
       "  <tbody>\n",
       "    <tr>\n",
       "      <th>0</th>\n",
       "      <td>0</td>\n",
       "      <td>1645920000</td>\n",
       "    </tr>\n",
       "    <tr>\n",
       "      <th>1</th>\n",
       "      <td>10</td>\n",
       "      <td>1646524800</td>\n",
       "    </tr>\n",
       "    <tr>\n",
       "      <th>2</th>\n",
       "      <td>14</td>\n",
       "      <td>1647129600</td>\n",
       "    </tr>\n",
       "    <tr>\n",
       "      <th>3</th>\n",
       "      <td>6</td>\n",
       "      <td>1647734400</td>\n",
       "    </tr>\n",
       "    <tr>\n",
       "      <th>4</th>\n",
       "      <td>7</td>\n",
       "      <td>1648339200</td>\n",
       "    </tr>\n",
       "  </tbody>\n",
       "</table>\n",
       "</div>\n",
       "      <button class=\"colab-df-convert\" onclick=\"convertToInteractive('df-f97bf72d-02ee-4806-970c-3f0aed0f4018')\"\n",
       "              title=\"Convert this dataframe to an interactive table.\"\n",
       "              style=\"display:none;\">\n",
       "        \n",
       "  <svg xmlns=\"http://www.w3.org/2000/svg\" height=\"24px\"viewBox=\"0 0 24 24\"\n",
       "       width=\"24px\">\n",
       "    <path d=\"M0 0h24v24H0V0z\" fill=\"none\"/>\n",
       "    <path d=\"M18.56 5.44l.94 2.06.94-2.06 2.06-.94-2.06-.94-.94-2.06-.94 2.06-2.06.94zm-11 1L8.5 8.5l.94-2.06 2.06-.94-2.06-.94L8.5 2.5l-.94 2.06-2.06.94zm10 10l.94 2.06.94-2.06 2.06-.94-2.06-.94-.94-2.06-.94 2.06-2.06.94z\"/><path d=\"M17.41 7.96l-1.37-1.37c-.4-.4-.92-.59-1.43-.59-.52 0-1.04.2-1.43.59L10.3 9.45l-7.72 7.72c-.78.78-.78 2.05 0 2.83L4 21.41c.39.39.9.59 1.41.59.51 0 1.02-.2 1.41-.59l7.78-7.78 2.81-2.81c.8-.78.8-2.07 0-2.86zM5.41 20L4 18.59l7.72-7.72 1.47 1.35L5.41 20z\"/>\n",
       "  </svg>\n",
       "      </button>\n",
       "      \n",
       "  <style>\n",
       "    .colab-df-container {\n",
       "      display:flex;\n",
       "      flex-wrap:wrap;\n",
       "      gap: 12px;\n",
       "    }\n",
       "\n",
       "    .colab-df-convert {\n",
       "      background-color: #E8F0FE;\n",
       "      border: none;\n",
       "      border-radius: 50%;\n",
       "      cursor: pointer;\n",
       "      display: none;\n",
       "      fill: #1967D2;\n",
       "      height: 32px;\n",
       "      padding: 0 0 0 0;\n",
       "      width: 32px;\n",
       "    }\n",
       "\n",
       "    .colab-df-convert:hover {\n",
       "      background-color: #E2EBFA;\n",
       "      box-shadow: 0px 1px 2px rgba(60, 64, 67, 0.3), 0px 1px 3px 1px rgba(60, 64, 67, 0.15);\n",
       "      fill: #174EA6;\n",
       "    }\n",
       "\n",
       "    [theme=dark] .colab-df-convert {\n",
       "      background-color: #3B4455;\n",
       "      fill: #D2E3FC;\n",
       "    }\n",
       "\n",
       "    [theme=dark] .colab-df-convert:hover {\n",
       "      background-color: #434B5C;\n",
       "      box-shadow: 0px 1px 3px 1px rgba(0, 0, 0, 0.15);\n",
       "      filter: drop-shadow(0px 1px 2px rgba(0, 0, 0, 0.3));\n",
       "      fill: #FFFFFF;\n",
       "    }\n",
       "  </style>\n",
       "\n",
       "      <script>\n",
       "        const buttonEl =\n",
       "          document.querySelector('#df-f97bf72d-02ee-4806-970c-3f0aed0f4018 button.colab-df-convert');\n",
       "        buttonEl.style.display =\n",
       "          google.colab.kernel.accessAllowed ? 'block' : 'none';\n",
       "\n",
       "        async function convertToInteractive(key) {\n",
       "          const element = document.querySelector('#df-f97bf72d-02ee-4806-970c-3f0aed0f4018');\n",
       "          const dataTable =\n",
       "            await google.colab.kernel.invokeFunction('convertToInteractive',\n",
       "                                                     [key], {});\n",
       "          if (!dataTable) return;\n",
       "\n",
       "          const docLinkHtml = 'Like what you see? Visit the ' +\n",
       "            '<a target=\"_blank\" href=https://colab.research.google.com/notebooks/data_table.ipynb>data table notebook</a>'\n",
       "            + ' to learn more about interactive tables.';\n",
       "          element.innerHTML = '';\n",
       "          dataTable['output_type'] = 'display_data';\n",
       "          await google.colab.output.renderOutput(dataTable, element);\n",
       "          const docLink = document.createElement('div');\n",
       "          docLink.innerHTML = docLinkHtml;\n",
       "          element.appendChild(docLink);\n",
       "        }\n",
       "      </script>\n",
       "    </div>\n",
       "  </div>\n",
       "  "
      ],
      "text/plain": [
       "   commits        week\n",
       "0        0  1645920000\n",
       "1       10  1646524800\n",
       "2       14  1647129600\n",
       "3        6  1647734400\n",
       "4        7  1648339200"
      ]
     },
     "execution_count": 64,
     "metadata": {},
     "output_type": "execute_result"
    }
   ],
   "source": [
    "commit_activity.head()"
   ]
  },
  {
   "cell_type": "markdown",
   "metadata": {
    "id": "OuEC_s_y7SAS"
   },
   "source": [
    "---\n",
    "### contributors\n",
    "- stats/contributors\n",
    "- https://docs.github.com/en/rest/metrics/statistics?apiVersion=2022-11-28#get-all-contributor-commit-activity\n",
    "- full history of repository\n",
    "- schema: list of dict for contributor\n",
    "  - total: total commits all time\n",
    "  - weeks: list of dicts for each week:\n",
    "    - w: UNIX Timestamp for 12AM each Sunday\n",
    "    - a: additions\n",
    "    - d: deletions\n",
    "    - c: commits\n",
    "  - author: dict\n",
    "    - login: user name on GitHub\n",
    "    - ...\n",
    "- LRO may return status_code = 202 while running, do retry until 200\n"
   ]
  },
  {
   "cell_type": "code",
   "execution_count": 65,
   "metadata": {
    "colab": {
     "base_uri": "https://localhost:8080/"
    },
    "executionInfo": {
     "elapsed": 403,
     "status": "ok",
     "timestamp": 1676832791764,
     "user": {
      "displayName": "Mike Henderson",
      "userId": "11664017018095232389"
     },
     "user_tz": 300
    },
    "id": "y6QfX3xP7SAa",
    "outputId": "97be8374-5493-44e5-fbcd-4647122d3d5c"
   },
   "outputs": [
    {
     "data": {
      "text/plain": [
       "200"
      ]
     },
     "execution_count": 65,
     "metadata": {},
     "output_type": "execute_result"
    }
   ],
   "source": [
    "metric_type = 'stats/contributors'\n",
    "response = metric_get(metric_type)\n",
    "response.status_code"
   ]
  },
  {
   "cell_type": "code",
   "execution_count": 66,
   "metadata": {
    "executionInfo": {
     "elapsed": 108,
     "status": "ok",
     "timestamp": 1676832795085,
     "user": {
      "displayName": "Mike Henderson",
      "userId": "11664017018095232389"
     },
     "user_tz": 300
    },
    "id": "Z_HDDDDh-4hh"
   },
   "outputs": [],
   "source": [
    "parsed_response = []\n",
    "for e in json.loads(response.text):\n",
    "  for week in e['weeks']:\n",
    "    parsed_response += [{'author': e['author']['login'], 'week': week['w'], 'additions': week['a'], 'deletions': -1*week['d'], 'commits': week['c']}]"
   ]
  },
  {
   "cell_type": "code",
   "execution_count": 67,
   "metadata": {
    "colab": {
     "base_uri": "https://localhost:8080/"
    },
    "executionInfo": {
     "elapsed": 121,
     "status": "ok",
     "timestamp": 1676832796628,
     "user": {
      "displayName": "Mike Henderson",
      "userId": "11664017018095232389"
     },
     "user_tz": 300
    },
    "id": "GCHA5e_foZSJ",
    "outputId": "2c041617-d2ca-46b7-eb11-5af3296c0ffb"
   },
   "outputs": [
    {
     "data": {
      "text/plain": [
       "{'author': 'karticn-google',\n",
       " 'week': 1616889600,\n",
       " 'additions': 0,\n",
       " 'deletions': 0,\n",
       " 'commits': 0}"
      ]
     },
     "execution_count": 67,
     "metadata": {},
     "output_type": "execute_result"
    }
   ],
   "source": [
    "parsed_response[0]"
   ]
  },
  {
   "cell_type": "code",
   "execution_count": 68,
   "metadata": {
    "executionInfo": {
     "elapsed": 101,
     "status": "ok",
     "timestamp": 1676832799563,
     "user": {
      "displayName": "Mike Henderson",
      "userId": "11664017018095232389"
     },
     "user_tz": 300
    },
    "id": "32gx26VE9aDP"
   },
   "outputs": [],
   "source": [
    "contributors = pd.DataFrame(parsed_response)\n",
    "#contributors['week'] = pd.to_datetime(contributors['week'], unit = 's')"
   ]
  },
  {
   "cell_type": "code",
   "execution_count": 69,
   "metadata": {
    "colab": {
     "base_uri": "https://localhost:8080/",
     "height": 206
    },
    "executionInfo": {
     "elapsed": 107,
     "status": "ok",
     "timestamp": 1676832800785,
     "user": {
      "displayName": "Mike Henderson",
      "userId": "11664017018095232389"
     },
     "user_tz": 300
    },
    "id": "vnDRDw82AjOU",
    "outputId": "7e9597b6-7098-4485-f04f-b937ab19919d"
   },
   "outputs": [
    {
     "data": {
      "text/html": [
       "\n",
       "  <div id=\"df-e352713a-7adb-4bee-abc1-86b39d80276a\">\n",
       "    <div class=\"colab-df-container\">\n",
       "      <div>\n",
       "<style scoped>\n",
       "    .dataframe tbody tr th:only-of-type {\n",
       "        vertical-align: middle;\n",
       "    }\n",
       "\n",
       "    .dataframe tbody tr th {\n",
       "        vertical-align: top;\n",
       "    }\n",
       "\n",
       "    .dataframe thead th {\n",
       "        text-align: right;\n",
       "    }\n",
       "</style>\n",
       "<table border=\"1\" class=\"dataframe\">\n",
       "  <thead>\n",
       "    <tr style=\"text-align: right;\">\n",
       "      <th></th>\n",
       "      <th>author</th>\n",
       "      <th>week</th>\n",
       "      <th>additions</th>\n",
       "      <th>deletions</th>\n",
       "      <th>commits</th>\n",
       "    </tr>\n",
       "  </thead>\n",
       "  <tbody>\n",
       "    <tr>\n",
       "      <th>0</th>\n",
       "      <td>karticn-google</td>\n",
       "      <td>1616889600</td>\n",
       "      <td>0</td>\n",
       "      <td>0</td>\n",
       "      <td>0</td>\n",
       "    </tr>\n",
       "    <tr>\n",
       "      <th>1</th>\n",
       "      <td>karticn-google</td>\n",
       "      <td>1617494400</td>\n",
       "      <td>0</td>\n",
       "      <td>0</td>\n",
       "      <td>0</td>\n",
       "    </tr>\n",
       "    <tr>\n",
       "      <th>2</th>\n",
       "      <td>karticn-google</td>\n",
       "      <td>1618099200</td>\n",
       "      <td>0</td>\n",
       "      <td>0</td>\n",
       "      <td>0</td>\n",
       "    </tr>\n",
       "    <tr>\n",
       "      <th>3</th>\n",
       "      <td>karticn-google</td>\n",
       "      <td>1618704000</td>\n",
       "      <td>0</td>\n",
       "      <td>0</td>\n",
       "      <td>0</td>\n",
       "    </tr>\n",
       "    <tr>\n",
       "      <th>4</th>\n",
       "      <td>karticn-google</td>\n",
       "      <td>1619308800</td>\n",
       "      <td>0</td>\n",
       "      <td>0</td>\n",
       "      <td>0</td>\n",
       "    </tr>\n",
       "  </tbody>\n",
       "</table>\n",
       "</div>\n",
       "      <button class=\"colab-df-convert\" onclick=\"convertToInteractive('df-e352713a-7adb-4bee-abc1-86b39d80276a')\"\n",
       "              title=\"Convert this dataframe to an interactive table.\"\n",
       "              style=\"display:none;\">\n",
       "        \n",
       "  <svg xmlns=\"http://www.w3.org/2000/svg\" height=\"24px\"viewBox=\"0 0 24 24\"\n",
       "       width=\"24px\">\n",
       "    <path d=\"M0 0h24v24H0V0z\" fill=\"none\"/>\n",
       "    <path d=\"M18.56 5.44l.94 2.06.94-2.06 2.06-.94-2.06-.94-.94-2.06-.94 2.06-2.06.94zm-11 1L8.5 8.5l.94-2.06 2.06-.94-2.06-.94L8.5 2.5l-.94 2.06-2.06.94zm10 10l.94 2.06.94-2.06 2.06-.94-2.06-.94-.94-2.06-.94 2.06-2.06.94z\"/><path d=\"M17.41 7.96l-1.37-1.37c-.4-.4-.92-.59-1.43-.59-.52 0-1.04.2-1.43.59L10.3 9.45l-7.72 7.72c-.78.78-.78 2.05 0 2.83L4 21.41c.39.39.9.59 1.41.59.51 0 1.02-.2 1.41-.59l7.78-7.78 2.81-2.81c.8-.78.8-2.07 0-2.86zM5.41 20L4 18.59l7.72-7.72 1.47 1.35L5.41 20z\"/>\n",
       "  </svg>\n",
       "      </button>\n",
       "      \n",
       "  <style>\n",
       "    .colab-df-container {\n",
       "      display:flex;\n",
       "      flex-wrap:wrap;\n",
       "      gap: 12px;\n",
       "    }\n",
       "\n",
       "    .colab-df-convert {\n",
       "      background-color: #E8F0FE;\n",
       "      border: none;\n",
       "      border-radius: 50%;\n",
       "      cursor: pointer;\n",
       "      display: none;\n",
       "      fill: #1967D2;\n",
       "      height: 32px;\n",
       "      padding: 0 0 0 0;\n",
       "      width: 32px;\n",
       "    }\n",
       "\n",
       "    .colab-df-convert:hover {\n",
       "      background-color: #E2EBFA;\n",
       "      box-shadow: 0px 1px 2px rgba(60, 64, 67, 0.3), 0px 1px 3px 1px rgba(60, 64, 67, 0.15);\n",
       "      fill: #174EA6;\n",
       "    }\n",
       "\n",
       "    [theme=dark] .colab-df-convert {\n",
       "      background-color: #3B4455;\n",
       "      fill: #D2E3FC;\n",
       "    }\n",
       "\n",
       "    [theme=dark] .colab-df-convert:hover {\n",
       "      background-color: #434B5C;\n",
       "      box-shadow: 0px 1px 3px 1px rgba(0, 0, 0, 0.15);\n",
       "      filter: drop-shadow(0px 1px 2px rgba(0, 0, 0, 0.3));\n",
       "      fill: #FFFFFF;\n",
       "    }\n",
       "  </style>\n",
       "\n",
       "      <script>\n",
       "        const buttonEl =\n",
       "          document.querySelector('#df-e352713a-7adb-4bee-abc1-86b39d80276a button.colab-df-convert');\n",
       "        buttonEl.style.display =\n",
       "          google.colab.kernel.accessAllowed ? 'block' : 'none';\n",
       "\n",
       "        async function convertToInteractive(key) {\n",
       "          const element = document.querySelector('#df-e352713a-7adb-4bee-abc1-86b39d80276a');\n",
       "          const dataTable =\n",
       "            await google.colab.kernel.invokeFunction('convertToInteractive',\n",
       "                                                     [key], {});\n",
       "          if (!dataTable) return;\n",
       "\n",
       "          const docLinkHtml = 'Like what you see? Visit the ' +\n",
       "            '<a target=\"_blank\" href=https://colab.research.google.com/notebooks/data_table.ipynb>data table notebook</a>'\n",
       "            + ' to learn more about interactive tables.';\n",
       "          element.innerHTML = '';\n",
       "          dataTable['output_type'] = 'display_data';\n",
       "          await google.colab.output.renderOutput(dataTable, element);\n",
       "          const docLink = document.createElement('div');\n",
       "          docLink.innerHTML = docLinkHtml;\n",
       "          element.appendChild(docLink);\n",
       "        }\n",
       "      </script>\n",
       "    </div>\n",
       "  </div>\n",
       "  "
      ],
      "text/plain": [
       "           author        week  additions  deletions  commits\n",
       "0  karticn-google  1616889600          0          0        0\n",
       "1  karticn-google  1617494400          0          0        0\n",
       "2  karticn-google  1618099200          0          0        0\n",
       "3  karticn-google  1618704000          0          0        0\n",
       "4  karticn-google  1619308800          0          0        0"
      ]
     },
     "execution_count": 69,
     "metadata": {},
     "output_type": "execute_result"
    }
   ],
   "source": [
    "contributors.head()"
   ]
  },
  {
   "cell_type": "markdown",
   "metadata": {
    "id": "T1aIxYVUWDOu"
   },
   "source": [
    "### commits\n",
    "- /commits\n",
    "- Get a list of commits with details\n",
    "- schema: list of dict for each commit\n",
    "  - \n"
   ]
  },
  {
   "cell_type": "code",
   "execution_count": 70,
   "metadata": {
    "executionInfo": {
     "elapsed": 2766,
     "status": "ok",
     "timestamp": 1676832811908,
     "user": {
      "displayName": "Mike Henderson",
      "userId": "11664017018095232389"
     },
     "user_tz": 300
    },
    "id": "7cg4Hsq2eBNE"
   },
   "outputs": [],
   "source": [
    "page_size = 100\n",
    "page = 1\n",
    "raw_commits = []\n",
    "while page_size == 100:\n",
    "  response = requests.get(f'{github_api_url}/commits?per_page=100&page={page}', headers = {'Authorization': f'Bearer {pat}', 'Accept': 'application/vnd.github+json'})\n",
    "  new_page = json.loads(response.text)\n",
    "  if response.status_code == 200:\n",
    "    raw_commits += new_page\n",
    "    page_size = len(new_page)\n",
    "    page +=1\n",
    "  else: break"
   ]
  },
  {
   "cell_type": "code",
   "execution_count": 71,
   "metadata": {
    "colab": {
     "base_uri": "https://localhost:8080/"
    },
    "executionInfo": {
     "elapsed": 2,
     "status": "ok",
     "timestamp": 1676832812144,
     "user": {
      "displayName": "Mike Henderson",
      "userId": "11664017018095232389"
     },
     "user_tz": 300
    },
    "id": "xCjOfaqzeBK5",
    "outputId": "01813ff1-83db-41ff-f6e8-55bf520baaa3"
   },
   "outputs": [
    {
     "data": {
      "text/plain": [
       "708"
      ]
     },
     "execution_count": 71,
     "metadata": {},
     "output_type": "execute_result"
    }
   ],
   "source": [
    "len(raw_commits)"
   ]
  },
  {
   "cell_type": "code",
   "execution_count": 72,
   "metadata": {
    "colab": {
     "base_uri": "https://localhost:8080/"
    },
    "executionInfo": {
     "elapsed": 119,
     "status": "ok",
     "timestamp": 1676832813282,
     "user": {
      "displayName": "Mike Henderson",
      "userId": "11664017018095232389"
     },
     "user_tz": 300
    },
    "id": "itgqm5CleBIl",
    "outputId": "81c2aeac-c17b-4b9e-ae11-3592dcad133a"
   },
   "outputs": [
    {
     "data": {
      "text/plain": [
       "{'sha': '877ff535c3f01b9383a0cbb4be204705230983cc',\n",
       " 'node_id': 'C_kwDOFwjp5toAKDg3N2ZmNTM1YzNmMDFiOTM4M2EwY2JiNGJlMjA0NzA1MjMwOTgzY2M',\n",
       " 'commit': {'author': {'name': 'Mike Henderson',\n",
       "   'email': 'statmike@gmail.com',\n",
       "   'date': '2023-02-19T18:19:54Z'},\n",
       "  'committer': {'name': 'Mike Henderson',\n",
       "   'email': 'statmike@gmail.com',\n",
       "   'date': '2023-02-19T18:19:54Z'},\n",
       "  'message': 'notes',\n",
       "  'tree': {'sha': '8dad1a7b6c6c707565dd8fc45561d1e73efb0666',\n",
       "   'url': 'https://api.github.com/repos/statmike/vertex-ai-mlops/git/trees/8dad1a7b6c6c707565dd8fc45561d1e73efb0666'},\n",
       "  'url': 'https://api.github.com/repos/statmike/vertex-ai-mlops/git/commits/877ff535c3f01b9383a0cbb4be204705230983cc',\n",
       "  'comment_count': 0,\n",
       "  'verification': {'verified': False,\n",
       "   'reason': 'unsigned',\n",
       "   'signature': None,\n",
       "   'payload': None}},\n",
       " 'url': 'https://api.github.com/repos/statmike/vertex-ai-mlops/commits/877ff535c3f01b9383a0cbb4be204705230983cc',\n",
       " 'html_url': 'https://github.com/statmike/vertex-ai-mlops/commit/877ff535c3f01b9383a0cbb4be204705230983cc',\n",
       " 'comments_url': 'https://api.github.com/repos/statmike/vertex-ai-mlops/commits/877ff535c3f01b9383a0cbb4be204705230983cc/comments',\n",
       " 'author': {'login': 'statmike',\n",
       "  'id': 17235991,\n",
       "  'node_id': 'MDQ6VXNlcjE3MjM1OTkx',\n",
       "  'avatar_url': 'https://avatars.githubusercontent.com/u/17235991?v=4',\n",
       "  'gravatar_id': '',\n",
       "  'url': 'https://api.github.com/users/statmike',\n",
       "  'html_url': 'https://github.com/statmike',\n",
       "  'followers_url': 'https://api.github.com/users/statmike/followers',\n",
       "  'following_url': 'https://api.github.com/users/statmike/following{/other_user}',\n",
       "  'gists_url': 'https://api.github.com/users/statmike/gists{/gist_id}',\n",
       "  'starred_url': 'https://api.github.com/users/statmike/starred{/owner}{/repo}',\n",
       "  'subscriptions_url': 'https://api.github.com/users/statmike/subscriptions',\n",
       "  'organizations_url': 'https://api.github.com/users/statmike/orgs',\n",
       "  'repos_url': 'https://api.github.com/users/statmike/repos',\n",
       "  'events_url': 'https://api.github.com/users/statmike/events{/privacy}',\n",
       "  'received_events_url': 'https://api.github.com/users/statmike/received_events',\n",
       "  'type': 'User',\n",
       "  'site_admin': False},\n",
       " 'committer': {'login': 'statmike',\n",
       "  'id': 17235991,\n",
       "  'node_id': 'MDQ6VXNlcjE3MjM1OTkx',\n",
       "  'avatar_url': 'https://avatars.githubusercontent.com/u/17235991?v=4',\n",
       "  'gravatar_id': '',\n",
       "  'url': 'https://api.github.com/users/statmike',\n",
       "  'html_url': 'https://github.com/statmike',\n",
       "  'followers_url': 'https://api.github.com/users/statmike/followers',\n",
       "  'following_url': 'https://api.github.com/users/statmike/following{/other_user}',\n",
       "  'gists_url': 'https://api.github.com/users/statmike/gists{/gist_id}',\n",
       "  'starred_url': 'https://api.github.com/users/statmike/starred{/owner}{/repo}',\n",
       "  'subscriptions_url': 'https://api.github.com/users/statmike/subscriptions',\n",
       "  'organizations_url': 'https://api.github.com/users/statmike/orgs',\n",
       "  'repos_url': 'https://api.github.com/users/statmike/repos',\n",
       "  'events_url': 'https://api.github.com/users/statmike/events{/privacy}',\n",
       "  'received_events_url': 'https://api.github.com/users/statmike/received_events',\n",
       "  'type': 'User',\n",
       "  'site_admin': False},\n",
       " 'parents': [{'sha': '5b85c2efa0a17cf4b0a49d045dc259135a158c59',\n",
       "   'url': 'https://api.github.com/repos/statmike/vertex-ai-mlops/commits/5b85c2efa0a17cf4b0a49d045dc259135a158c59',\n",
       "   'html_url': 'https://github.com/statmike/vertex-ai-mlops/commit/5b85c2efa0a17cf4b0a49d045dc259135a158c59'}]}"
      ]
     },
     "execution_count": 72,
     "metadata": {},
     "output_type": "execute_result"
    }
   ],
   "source": [
    "raw_commits[0]"
   ]
  },
  {
   "cell_type": "code",
   "execution_count": 73,
   "metadata": {
    "executionInfo": {
     "elapsed": 108,
     "status": "ok",
     "timestamp": 1676832853271,
     "user": {
      "displayName": "Mike Henderson",
      "userId": "11664017018095232389"
     },
     "user_tz": 300
    },
    "id": "jpXzFdl5eBF3"
   },
   "outputs": [],
   "source": [
    "commits = []\n",
    "for i, c in enumerate(raw_commits):\n",
    "  committer = c['commit']['committer']['name']\n",
    "  author = c['commit']['author']['name']\n",
    "  committer2 = ''\n",
    "  if 'committer' in c and c['committer']:\n",
    "    if 'login' in c['committer']: committer2 = c['committer']['login']\n",
    "  author2 = ''\n",
    "  if 'author' in c and c['author']:\n",
    "    if 'login' in c['author']: author2 = c['author']['login']\n",
    "\n",
    "  # refined author with logic:\n",
    "  if author2: refined_author = author2\n",
    "  else: refined_author = author \n",
    "\n",
    "  commits += [{\n",
    "      'sha': c['sha'],\n",
    "      'datetime': c['commit']['committer']['date'],\n",
    "      'url': c['html_url'],\n",
    "      'message': c['commit']['message'],\n",
    "      'author': refined_author,\n",
    "      #'committer': committer,\n",
    "      #'author': author,\n",
    "      #'committer2': committer2,\n",
    "      #'author2': author2\n",
    "  }]"
   ]
  },
  {
   "cell_type": "code",
   "execution_count": 74,
   "metadata": {
    "executionInfo": {
     "elapsed": 115,
     "status": "ok",
     "timestamp": 1676832855493,
     "user": {
      "displayName": "Mike Henderson",
      "userId": "11664017018095232389"
     },
     "user_tz": 300
    },
    "id": "amesnO_leBCo"
   },
   "outputs": [],
   "source": [
    "commits = pd.DataFrame(commits)"
   ]
  },
  {
   "cell_type": "code",
   "execution_count": 75,
   "metadata": {
    "colab": {
     "base_uri": "https://localhost:8080/",
     "height": 206
    },
    "executionInfo": {
     "elapsed": 153,
     "status": "ok",
     "timestamp": 1676832875999,
     "user": {
      "displayName": "Mike Henderson",
      "userId": "11664017018095232389"
     },
     "user_tz": 300
    },
    "id": "rH6hrNhh-_0d",
    "outputId": "aaa91698-99dc-42f3-800a-aecf27a5822d"
   },
   "outputs": [
    {
     "data": {
      "text/html": [
       "\n",
       "  <div id=\"df-6239f9cc-dbdb-48be-aa5e-583d97baf257\">\n",
       "    <div class=\"colab-df-container\">\n",
       "      <div>\n",
       "<style scoped>\n",
       "    .dataframe tbody tr th:only-of-type {\n",
       "        vertical-align: middle;\n",
       "    }\n",
       "\n",
       "    .dataframe tbody tr th {\n",
       "        vertical-align: top;\n",
       "    }\n",
       "\n",
       "    .dataframe thead th {\n",
       "        text-align: right;\n",
       "    }\n",
       "</style>\n",
       "<table border=\"1\" class=\"dataframe\">\n",
       "  <thead>\n",
       "    <tr style=\"text-align: right;\">\n",
       "      <th></th>\n",
       "      <th>sha</th>\n",
       "      <th>datetime</th>\n",
       "      <th>url</th>\n",
       "      <th>message</th>\n",
       "      <th>author</th>\n",
       "    </tr>\n",
       "  </thead>\n",
       "  <tbody>\n",
       "    <tr>\n",
       "      <th>0</th>\n",
       "      <td>877ff535c3f01b9383a0cbb4be204705230983cc</td>\n",
       "      <td>2023-02-19T18:19:54Z</td>\n",
       "      <td>https://github.com/statmike/vertex-ai-mlops/co...</td>\n",
       "      <td>notes</td>\n",
       "      <td>statmike</td>\n",
       "    </tr>\n",
       "    <tr>\n",
       "      <th>1</th>\n",
       "      <td>5b85c2efa0a17cf4b0a49d045dc259135a158c59</td>\n",
       "      <td>2023-02-19T01:19:08Z</td>\n",
       "      <td>https://github.com/statmike/vertex-ai-mlops/co...</td>\n",
       "      <td>process update</td>\n",
       "      <td>statmike</td>\n",
       "    </tr>\n",
       "    <tr>\n",
       "      <th>2</th>\n",
       "      <td>dbfc6a9755a8eb782856af435a8383c683a598c1</td>\n",
       "      <td>2023-02-19T01:17:43Z</td>\n",
       "      <td>https://github.com/statmike/vertex-ai-mlops/co...</td>\n",
       "      <td>add colab process</td>\n",
       "      <td>statmike</td>\n",
       "    </tr>\n",
       "    <tr>\n",
       "      <th>3</th>\n",
       "      <td>151476a18b3a56228e3810bcfd5416e7cfe0de5f</td>\n",
       "      <td>2023-02-19T01:13:21Z</td>\n",
       "      <td>https://github.com/statmike/vertex-ai-mlops/co...</td>\n",
       "      <td>GA4 reporting process update</td>\n",
       "      <td>statmike</td>\n",
       "    </tr>\n",
       "    <tr>\n",
       "      <th>4</th>\n",
       "      <td>e8c28c8ed407688435c470b3ce39e3b1d697eef3</td>\n",
       "      <td>2023-02-18T22:59:45Z</td>\n",
       "      <td>https://github.com/statmike/vertex-ai-mlops/co...</td>\n",
       "      <td>tracking update</td>\n",
       "      <td>statmike</td>\n",
       "    </tr>\n",
       "  </tbody>\n",
       "</table>\n",
       "</div>\n",
       "      <button class=\"colab-df-convert\" onclick=\"convertToInteractive('df-6239f9cc-dbdb-48be-aa5e-583d97baf257')\"\n",
       "              title=\"Convert this dataframe to an interactive table.\"\n",
       "              style=\"display:none;\">\n",
       "        \n",
       "  <svg xmlns=\"http://www.w3.org/2000/svg\" height=\"24px\"viewBox=\"0 0 24 24\"\n",
       "       width=\"24px\">\n",
       "    <path d=\"M0 0h24v24H0V0z\" fill=\"none\"/>\n",
       "    <path d=\"M18.56 5.44l.94 2.06.94-2.06 2.06-.94-2.06-.94-.94-2.06-.94 2.06-2.06.94zm-11 1L8.5 8.5l.94-2.06 2.06-.94-2.06-.94L8.5 2.5l-.94 2.06-2.06.94zm10 10l.94 2.06.94-2.06 2.06-.94-2.06-.94-.94-2.06-.94 2.06-2.06.94z\"/><path d=\"M17.41 7.96l-1.37-1.37c-.4-.4-.92-.59-1.43-.59-.52 0-1.04.2-1.43.59L10.3 9.45l-7.72 7.72c-.78.78-.78 2.05 0 2.83L4 21.41c.39.39.9.59 1.41.59.51 0 1.02-.2 1.41-.59l7.78-7.78 2.81-2.81c.8-.78.8-2.07 0-2.86zM5.41 20L4 18.59l7.72-7.72 1.47 1.35L5.41 20z\"/>\n",
       "  </svg>\n",
       "      </button>\n",
       "      \n",
       "  <style>\n",
       "    .colab-df-container {\n",
       "      display:flex;\n",
       "      flex-wrap:wrap;\n",
       "      gap: 12px;\n",
       "    }\n",
       "\n",
       "    .colab-df-convert {\n",
       "      background-color: #E8F0FE;\n",
       "      border: none;\n",
       "      border-radius: 50%;\n",
       "      cursor: pointer;\n",
       "      display: none;\n",
       "      fill: #1967D2;\n",
       "      height: 32px;\n",
       "      padding: 0 0 0 0;\n",
       "      width: 32px;\n",
       "    }\n",
       "\n",
       "    .colab-df-convert:hover {\n",
       "      background-color: #E2EBFA;\n",
       "      box-shadow: 0px 1px 2px rgba(60, 64, 67, 0.3), 0px 1px 3px 1px rgba(60, 64, 67, 0.15);\n",
       "      fill: #174EA6;\n",
       "    }\n",
       "\n",
       "    [theme=dark] .colab-df-convert {\n",
       "      background-color: #3B4455;\n",
       "      fill: #D2E3FC;\n",
       "    }\n",
       "\n",
       "    [theme=dark] .colab-df-convert:hover {\n",
       "      background-color: #434B5C;\n",
       "      box-shadow: 0px 1px 3px 1px rgba(0, 0, 0, 0.15);\n",
       "      filter: drop-shadow(0px 1px 2px rgba(0, 0, 0, 0.3));\n",
       "      fill: #FFFFFF;\n",
       "    }\n",
       "  </style>\n",
       "\n",
       "      <script>\n",
       "        const buttonEl =\n",
       "          document.querySelector('#df-6239f9cc-dbdb-48be-aa5e-583d97baf257 button.colab-df-convert');\n",
       "        buttonEl.style.display =\n",
       "          google.colab.kernel.accessAllowed ? 'block' : 'none';\n",
       "\n",
       "        async function convertToInteractive(key) {\n",
       "          const element = document.querySelector('#df-6239f9cc-dbdb-48be-aa5e-583d97baf257');\n",
       "          const dataTable =\n",
       "            await google.colab.kernel.invokeFunction('convertToInteractive',\n",
       "                                                     [key], {});\n",
       "          if (!dataTable) return;\n",
       "\n",
       "          const docLinkHtml = 'Like what you see? Visit the ' +\n",
       "            '<a target=\"_blank\" href=https://colab.research.google.com/notebooks/data_table.ipynb>data table notebook</a>'\n",
       "            + ' to learn more about interactive tables.';\n",
       "          element.innerHTML = '';\n",
       "          dataTable['output_type'] = 'display_data';\n",
       "          await google.colab.output.renderOutput(dataTable, element);\n",
       "          const docLink = document.createElement('div');\n",
       "          docLink.innerHTML = docLinkHtml;\n",
       "          element.appendChild(docLink);\n",
       "        }\n",
       "      </script>\n",
       "    </div>\n",
       "  </div>\n",
       "  "
      ],
      "text/plain": [
       "                                        sha              datetime  \\\n",
       "0  877ff535c3f01b9383a0cbb4be204705230983cc  2023-02-19T18:19:54Z   \n",
       "1  5b85c2efa0a17cf4b0a49d045dc259135a158c59  2023-02-19T01:19:08Z   \n",
       "2  dbfc6a9755a8eb782856af435a8383c683a598c1  2023-02-19T01:17:43Z   \n",
       "3  151476a18b3a56228e3810bcfd5416e7cfe0de5f  2023-02-19T01:13:21Z   \n",
       "4  e8c28c8ed407688435c470b3ce39e3b1d697eef3  2023-02-18T22:59:45Z   \n",
       "\n",
       "                                                 url  \\\n",
       "0  https://github.com/statmike/vertex-ai-mlops/co...   \n",
       "1  https://github.com/statmike/vertex-ai-mlops/co...   \n",
       "2  https://github.com/statmike/vertex-ai-mlops/co...   \n",
       "3  https://github.com/statmike/vertex-ai-mlops/co...   \n",
       "4  https://github.com/statmike/vertex-ai-mlops/co...   \n",
       "\n",
       "                        message    author  \n",
       "0                         notes  statmike  \n",
       "1                process update  statmike  \n",
       "2             add colab process  statmike  \n",
       "3  GA4 reporting process update  statmike  \n",
       "4               tracking update  statmike  "
      ]
     },
     "execution_count": 75,
     "metadata": {},
     "output_type": "execute_result"
    }
   ],
   "source": [
    "commits.head()"
   ]
  },
  {
   "cell_type": "code",
   "execution_count": 76,
   "metadata": {
    "executionInfo": {
     "elapsed": 124,
     "status": "ok",
     "timestamp": 1676832883524,
     "user": {
      "displayName": "Mike Henderson",
      "userId": "11664017018095232389"
     },
     "user_tz": 300
    },
    "id": "vgO5lrFH-_u9"
   },
   "outputs": [],
   "source": [
    "#commits['datetime'] = pd.to_datetime(commits['datetime'], infer_datetime_format = True)"
   ]
  },
  {
   "cell_type": "code",
   "execution_count": 77,
   "metadata": {
    "colab": {
     "base_uri": "https://localhost:8080/",
     "height": 206
    },
    "executionInfo": {
     "elapsed": 115,
     "status": "ok",
     "timestamp": 1676832884461,
     "user": {
      "displayName": "Mike Henderson",
      "userId": "11664017018095232389"
     },
     "user_tz": 300
    },
    "id": "MKZGJTUa-_gU",
    "outputId": "f6e1a9f2-a1eb-4c18-f139-6de0f8851d02"
   },
   "outputs": [
    {
     "data": {
      "text/html": [
       "\n",
       "  <div id=\"df-384d4ffc-310b-4cff-90a1-c672cd3b51c2\">\n",
       "    <div class=\"colab-df-container\">\n",
       "      <div>\n",
       "<style scoped>\n",
       "    .dataframe tbody tr th:only-of-type {\n",
       "        vertical-align: middle;\n",
       "    }\n",
       "\n",
       "    .dataframe tbody tr th {\n",
       "        vertical-align: top;\n",
       "    }\n",
       "\n",
       "    .dataframe thead th {\n",
       "        text-align: right;\n",
       "    }\n",
       "</style>\n",
       "<table border=\"1\" class=\"dataframe\">\n",
       "  <thead>\n",
       "    <tr style=\"text-align: right;\">\n",
       "      <th></th>\n",
       "      <th>sha</th>\n",
       "      <th>datetime</th>\n",
       "      <th>url</th>\n",
       "      <th>message</th>\n",
       "      <th>author</th>\n",
       "    </tr>\n",
       "  </thead>\n",
       "  <tbody>\n",
       "    <tr>\n",
       "      <th>0</th>\n",
       "      <td>877ff535c3f01b9383a0cbb4be204705230983cc</td>\n",
       "      <td>2023-02-19T18:19:54Z</td>\n",
       "      <td>https://github.com/statmike/vertex-ai-mlops/co...</td>\n",
       "      <td>notes</td>\n",
       "      <td>statmike</td>\n",
       "    </tr>\n",
       "    <tr>\n",
       "      <th>1</th>\n",
       "      <td>5b85c2efa0a17cf4b0a49d045dc259135a158c59</td>\n",
       "      <td>2023-02-19T01:19:08Z</td>\n",
       "      <td>https://github.com/statmike/vertex-ai-mlops/co...</td>\n",
       "      <td>process update</td>\n",
       "      <td>statmike</td>\n",
       "    </tr>\n",
       "    <tr>\n",
       "      <th>2</th>\n",
       "      <td>dbfc6a9755a8eb782856af435a8383c683a598c1</td>\n",
       "      <td>2023-02-19T01:17:43Z</td>\n",
       "      <td>https://github.com/statmike/vertex-ai-mlops/co...</td>\n",
       "      <td>add colab process</td>\n",
       "      <td>statmike</td>\n",
       "    </tr>\n",
       "    <tr>\n",
       "      <th>3</th>\n",
       "      <td>151476a18b3a56228e3810bcfd5416e7cfe0de5f</td>\n",
       "      <td>2023-02-19T01:13:21Z</td>\n",
       "      <td>https://github.com/statmike/vertex-ai-mlops/co...</td>\n",
       "      <td>GA4 reporting process update</td>\n",
       "      <td>statmike</td>\n",
       "    </tr>\n",
       "    <tr>\n",
       "      <th>4</th>\n",
       "      <td>e8c28c8ed407688435c470b3ce39e3b1d697eef3</td>\n",
       "      <td>2023-02-18T22:59:45Z</td>\n",
       "      <td>https://github.com/statmike/vertex-ai-mlops/co...</td>\n",
       "      <td>tracking update</td>\n",
       "      <td>statmike</td>\n",
       "    </tr>\n",
       "  </tbody>\n",
       "</table>\n",
       "</div>\n",
       "      <button class=\"colab-df-convert\" onclick=\"convertToInteractive('df-384d4ffc-310b-4cff-90a1-c672cd3b51c2')\"\n",
       "              title=\"Convert this dataframe to an interactive table.\"\n",
       "              style=\"display:none;\">\n",
       "        \n",
       "  <svg xmlns=\"http://www.w3.org/2000/svg\" height=\"24px\"viewBox=\"0 0 24 24\"\n",
       "       width=\"24px\">\n",
       "    <path d=\"M0 0h24v24H0V0z\" fill=\"none\"/>\n",
       "    <path d=\"M18.56 5.44l.94 2.06.94-2.06 2.06-.94-2.06-.94-.94-2.06-.94 2.06-2.06.94zm-11 1L8.5 8.5l.94-2.06 2.06-.94-2.06-.94L8.5 2.5l-.94 2.06-2.06.94zm10 10l.94 2.06.94-2.06 2.06-.94-2.06-.94-.94-2.06-.94 2.06-2.06.94z\"/><path d=\"M17.41 7.96l-1.37-1.37c-.4-.4-.92-.59-1.43-.59-.52 0-1.04.2-1.43.59L10.3 9.45l-7.72 7.72c-.78.78-.78 2.05 0 2.83L4 21.41c.39.39.9.59 1.41.59.51 0 1.02-.2 1.41-.59l7.78-7.78 2.81-2.81c.8-.78.8-2.07 0-2.86zM5.41 20L4 18.59l7.72-7.72 1.47 1.35L5.41 20z\"/>\n",
       "  </svg>\n",
       "      </button>\n",
       "      \n",
       "  <style>\n",
       "    .colab-df-container {\n",
       "      display:flex;\n",
       "      flex-wrap:wrap;\n",
       "      gap: 12px;\n",
       "    }\n",
       "\n",
       "    .colab-df-convert {\n",
       "      background-color: #E8F0FE;\n",
       "      border: none;\n",
       "      border-radius: 50%;\n",
       "      cursor: pointer;\n",
       "      display: none;\n",
       "      fill: #1967D2;\n",
       "      height: 32px;\n",
       "      padding: 0 0 0 0;\n",
       "      width: 32px;\n",
       "    }\n",
       "\n",
       "    .colab-df-convert:hover {\n",
       "      background-color: #E2EBFA;\n",
       "      box-shadow: 0px 1px 2px rgba(60, 64, 67, 0.3), 0px 1px 3px 1px rgba(60, 64, 67, 0.15);\n",
       "      fill: #174EA6;\n",
       "    }\n",
       "\n",
       "    [theme=dark] .colab-df-convert {\n",
       "      background-color: #3B4455;\n",
       "      fill: #D2E3FC;\n",
       "    }\n",
       "\n",
       "    [theme=dark] .colab-df-convert:hover {\n",
       "      background-color: #434B5C;\n",
       "      box-shadow: 0px 1px 3px 1px rgba(0, 0, 0, 0.15);\n",
       "      filter: drop-shadow(0px 1px 2px rgba(0, 0, 0, 0.3));\n",
       "      fill: #FFFFFF;\n",
       "    }\n",
       "  </style>\n",
       "\n",
       "      <script>\n",
       "        const buttonEl =\n",
       "          document.querySelector('#df-384d4ffc-310b-4cff-90a1-c672cd3b51c2 button.colab-df-convert');\n",
       "        buttonEl.style.display =\n",
       "          google.colab.kernel.accessAllowed ? 'block' : 'none';\n",
       "\n",
       "        async function convertToInteractive(key) {\n",
       "          const element = document.querySelector('#df-384d4ffc-310b-4cff-90a1-c672cd3b51c2');\n",
       "          const dataTable =\n",
       "            await google.colab.kernel.invokeFunction('convertToInteractive',\n",
       "                                                     [key], {});\n",
       "          if (!dataTable) return;\n",
       "\n",
       "          const docLinkHtml = 'Like what you see? Visit the ' +\n",
       "            '<a target=\"_blank\" href=https://colab.research.google.com/notebooks/data_table.ipynb>data table notebook</a>'\n",
       "            + ' to learn more about interactive tables.';\n",
       "          element.innerHTML = '';\n",
       "          dataTable['output_type'] = 'display_data';\n",
       "          await google.colab.output.renderOutput(dataTable, element);\n",
       "          const docLink = document.createElement('div');\n",
       "          docLink.innerHTML = docLinkHtml;\n",
       "          element.appendChild(docLink);\n",
       "        }\n",
       "      </script>\n",
       "    </div>\n",
       "  </div>\n",
       "  "
      ],
      "text/plain": [
       "                                        sha              datetime  \\\n",
       "0  877ff535c3f01b9383a0cbb4be204705230983cc  2023-02-19T18:19:54Z   \n",
       "1  5b85c2efa0a17cf4b0a49d045dc259135a158c59  2023-02-19T01:19:08Z   \n",
       "2  dbfc6a9755a8eb782856af435a8383c683a598c1  2023-02-19T01:17:43Z   \n",
       "3  151476a18b3a56228e3810bcfd5416e7cfe0de5f  2023-02-19T01:13:21Z   \n",
       "4  e8c28c8ed407688435c470b3ce39e3b1d697eef3  2023-02-18T22:59:45Z   \n",
       "\n",
       "                                                 url  \\\n",
       "0  https://github.com/statmike/vertex-ai-mlops/co...   \n",
       "1  https://github.com/statmike/vertex-ai-mlops/co...   \n",
       "2  https://github.com/statmike/vertex-ai-mlops/co...   \n",
       "3  https://github.com/statmike/vertex-ai-mlops/co...   \n",
       "4  https://github.com/statmike/vertex-ai-mlops/co...   \n",
       "\n",
       "                        message    author  \n",
       "0                         notes  statmike  \n",
       "1                process update  statmike  \n",
       "2             add colab process  statmike  \n",
       "3  GA4 reporting process update  statmike  \n",
       "4               tracking update  statmike  "
      ]
     },
     "execution_count": 77,
     "metadata": {},
     "output_type": "execute_result"
    }
   ],
   "source": [
    "commits.head()"
   ]
  },
  {
   "cell_type": "code",
   "execution_count": 78,
   "metadata": {
    "colab": {
     "base_uri": "https://localhost:8080/"
    },
    "executionInfo": {
     "elapsed": 157,
     "status": "ok",
     "timestamp": 1676832886421,
     "user": {
      "displayName": "Mike Henderson",
      "userId": "11664017018095232389"
     },
     "user_tz": 300
    },
    "id": "5S7R0kZCeA5d",
    "outputId": "b54187a0-8ee2-4099-b2f2-ac4d6ba0bd7e"
   },
   "outputs": [
    {
     "data": {
      "text/plain": [
       "sha         object\n",
       "datetime    object\n",
       "url         object\n",
       "message     object\n",
       "author      object\n",
       "dtype: object"
      ]
     },
     "execution_count": 78,
     "metadata": {},
     "output_type": "execute_result"
    }
   ],
   "source": [
    "commits.dtypes"
   ]
  },
  {
   "cell_type": "code",
   "execution_count": 79,
   "metadata": {
    "colab": {
     "base_uri": "https://localhost:8080/",
     "height": 269
    },
    "executionInfo": {
     "elapsed": 128,
     "status": "ok",
     "timestamp": 1676832889142,
     "user": {
      "displayName": "Mike Henderson",
      "userId": "11664017018095232389"
     },
     "user_tz": 300
    },
    "id": "XYl5lqZFWEwa",
    "outputId": "9cacb5f1-2b09-423f-c0ed-2e87c136eca1"
   },
   "outputs": [
    {
     "data": {
      "text/html": [
       "\n",
       "  <div id=\"df-4d165748-c94d-4e2e-a7a8-3fb452cac418\">\n",
       "    <div class=\"colab-df-container\">\n",
       "      <div>\n",
       "<style scoped>\n",
       "    .dataframe tbody tr th:only-of-type {\n",
       "        vertical-align: middle;\n",
       "    }\n",
       "\n",
       "    .dataframe tbody tr th {\n",
       "        vertical-align: top;\n",
       "    }\n",
       "\n",
       "    .dataframe thead th {\n",
       "        text-align: right;\n",
       "    }\n",
       "</style>\n",
       "<table border=\"1\" class=\"dataframe\">\n",
       "  <thead>\n",
       "    <tr style=\"text-align: right;\">\n",
       "      <th></th>\n",
       "      <th>sha</th>\n",
       "      <th>datetime</th>\n",
       "      <th>url</th>\n",
       "      <th>message</th>\n",
       "    </tr>\n",
       "    <tr>\n",
       "      <th>author</th>\n",
       "      <th></th>\n",
       "      <th></th>\n",
       "      <th></th>\n",
       "      <th></th>\n",
       "    </tr>\n",
       "  </thead>\n",
       "  <tbody>\n",
       "    <tr>\n",
       "      <th>Mike Henderson</th>\n",
       "      <td>44</td>\n",
       "      <td>44</td>\n",
       "      <td>44</td>\n",
       "      <td>44</td>\n",
       "    </tr>\n",
       "    <tr>\n",
       "      <th>PavelPetukhov</th>\n",
       "      <td>2</td>\n",
       "      <td>2</td>\n",
       "      <td>2</td>\n",
       "      <td>2</td>\n",
       "    </tr>\n",
       "    <tr>\n",
       "      <th>goodrules</th>\n",
       "      <td>10</td>\n",
       "      <td>10</td>\n",
       "      <td>10</td>\n",
       "      <td>10</td>\n",
       "    </tr>\n",
       "    <tr>\n",
       "      <th>karticn-google</th>\n",
       "      <td>1</td>\n",
       "      <td>1</td>\n",
       "      <td>1</td>\n",
       "      <td>1</td>\n",
       "    </tr>\n",
       "    <tr>\n",
       "      <th>mike henderson</th>\n",
       "      <td>1</td>\n",
       "      <td>1</td>\n",
       "      <td>1</td>\n",
       "      <td>1</td>\n",
       "    </tr>\n",
       "    <tr>\n",
       "      <th>statmike</th>\n",
       "      <td>650</td>\n",
       "      <td>650</td>\n",
       "      <td>650</td>\n",
       "      <td>650</td>\n",
       "    </tr>\n",
       "  </tbody>\n",
       "</table>\n",
       "</div>\n",
       "      <button class=\"colab-df-convert\" onclick=\"convertToInteractive('df-4d165748-c94d-4e2e-a7a8-3fb452cac418')\"\n",
       "              title=\"Convert this dataframe to an interactive table.\"\n",
       "              style=\"display:none;\">\n",
       "        \n",
       "  <svg xmlns=\"http://www.w3.org/2000/svg\" height=\"24px\"viewBox=\"0 0 24 24\"\n",
       "       width=\"24px\">\n",
       "    <path d=\"M0 0h24v24H0V0z\" fill=\"none\"/>\n",
       "    <path d=\"M18.56 5.44l.94 2.06.94-2.06 2.06-.94-2.06-.94-.94-2.06-.94 2.06-2.06.94zm-11 1L8.5 8.5l.94-2.06 2.06-.94-2.06-.94L8.5 2.5l-.94 2.06-2.06.94zm10 10l.94 2.06.94-2.06 2.06-.94-2.06-.94-.94-2.06-.94 2.06-2.06.94z\"/><path d=\"M17.41 7.96l-1.37-1.37c-.4-.4-.92-.59-1.43-.59-.52 0-1.04.2-1.43.59L10.3 9.45l-7.72 7.72c-.78.78-.78 2.05 0 2.83L4 21.41c.39.39.9.59 1.41.59.51 0 1.02-.2 1.41-.59l7.78-7.78 2.81-2.81c.8-.78.8-2.07 0-2.86zM5.41 20L4 18.59l7.72-7.72 1.47 1.35L5.41 20z\"/>\n",
       "  </svg>\n",
       "      </button>\n",
       "      \n",
       "  <style>\n",
       "    .colab-df-container {\n",
       "      display:flex;\n",
       "      flex-wrap:wrap;\n",
       "      gap: 12px;\n",
       "    }\n",
       "\n",
       "    .colab-df-convert {\n",
       "      background-color: #E8F0FE;\n",
       "      border: none;\n",
       "      border-radius: 50%;\n",
       "      cursor: pointer;\n",
       "      display: none;\n",
       "      fill: #1967D2;\n",
       "      height: 32px;\n",
       "      padding: 0 0 0 0;\n",
       "      width: 32px;\n",
       "    }\n",
       "\n",
       "    .colab-df-convert:hover {\n",
       "      background-color: #E2EBFA;\n",
       "      box-shadow: 0px 1px 2px rgba(60, 64, 67, 0.3), 0px 1px 3px 1px rgba(60, 64, 67, 0.15);\n",
       "      fill: #174EA6;\n",
       "    }\n",
       "\n",
       "    [theme=dark] .colab-df-convert {\n",
       "      background-color: #3B4455;\n",
       "      fill: #D2E3FC;\n",
       "    }\n",
       "\n",
       "    [theme=dark] .colab-df-convert:hover {\n",
       "      background-color: #434B5C;\n",
       "      box-shadow: 0px 1px 3px 1px rgba(0, 0, 0, 0.15);\n",
       "      filter: drop-shadow(0px 1px 2px rgba(0, 0, 0, 0.3));\n",
       "      fill: #FFFFFF;\n",
       "    }\n",
       "  </style>\n",
       "\n",
       "      <script>\n",
       "        const buttonEl =\n",
       "          document.querySelector('#df-4d165748-c94d-4e2e-a7a8-3fb452cac418 button.colab-df-convert');\n",
       "        buttonEl.style.display =\n",
       "          google.colab.kernel.accessAllowed ? 'block' : 'none';\n",
       "\n",
       "        async function convertToInteractive(key) {\n",
       "          const element = document.querySelector('#df-4d165748-c94d-4e2e-a7a8-3fb452cac418');\n",
       "          const dataTable =\n",
       "            await google.colab.kernel.invokeFunction('convertToInteractive',\n",
       "                                                     [key], {});\n",
       "          if (!dataTable) return;\n",
       "\n",
       "          const docLinkHtml = 'Like what you see? Visit the ' +\n",
       "            '<a target=\"_blank\" href=https://colab.research.google.com/notebooks/data_table.ipynb>data table notebook</a>'\n",
       "            + ' to learn more about interactive tables.';\n",
       "          element.innerHTML = '';\n",
       "          dataTable['output_type'] = 'display_data';\n",
       "          await google.colab.output.renderOutput(dataTable, element);\n",
       "          const docLink = document.createElement('div');\n",
       "          docLink.innerHTML = docLinkHtml;\n",
       "          element.appendChild(docLink);\n",
       "        }\n",
       "      </script>\n",
       "    </div>\n",
       "  </div>\n",
       "  "
      ],
      "text/plain": [
       "                sha  datetime  url  message\n",
       "author                                     \n",
       "Mike Henderson   44        44   44       44\n",
       "PavelPetukhov     2         2    2        2\n",
       "goodrules        10        10   10       10\n",
       "karticn-google    1         1    1        1\n",
       "mike henderson    1         1    1        1\n",
       "statmike        650       650  650      650"
      ]
     },
     "execution_count": 79,
     "metadata": {},
     "output_type": "execute_result"
    }
   ],
   "source": [
    "commits.groupby(['author']).count()"
   ]
  },
  {
   "cell_type": "code",
   "execution_count": 80,
   "metadata": {
    "executionInfo": {
     "elapsed": 124,
     "status": "ok",
     "timestamp": 1676832892622,
     "user": {
      "displayName": "Mike Henderson",
      "userId": "11664017018095232389"
     },
     "user_tz": 300
    },
    "id": "T9nj7ha6vMTM"
   },
   "outputs": [],
   "source": [
    "commits.loc[commits['author'].str.lower() == 'mike henderson', 'author'] = 'statmike'"
   ]
  },
  {
   "cell_type": "code",
   "execution_count": 81,
   "metadata": {
    "colab": {
     "base_uri": "https://localhost:8080/",
     "height": 206
    },
    "executionInfo": {
     "elapsed": 222,
     "status": "ok",
     "timestamp": 1676832894519,
     "user": {
      "displayName": "Mike Henderson",
      "userId": "11664017018095232389"
     },
     "user_tz": 300
    },
    "id": "OyLzXLZv1tXX",
    "outputId": "56ab4c80-bc0d-4577-aa1a-055d6091b4f4"
   },
   "outputs": [
    {
     "data": {
      "text/html": [
       "\n",
       "  <div id=\"df-ad84a6d9-8100-4aa9-89e5-e41ecd6f558e\">\n",
       "    <div class=\"colab-df-container\">\n",
       "      <div>\n",
       "<style scoped>\n",
       "    .dataframe tbody tr th:only-of-type {\n",
       "        vertical-align: middle;\n",
       "    }\n",
       "\n",
       "    .dataframe tbody tr th {\n",
       "        vertical-align: top;\n",
       "    }\n",
       "\n",
       "    .dataframe thead th {\n",
       "        text-align: right;\n",
       "    }\n",
       "</style>\n",
       "<table border=\"1\" class=\"dataframe\">\n",
       "  <thead>\n",
       "    <tr style=\"text-align: right;\">\n",
       "      <th></th>\n",
       "      <th>sha</th>\n",
       "      <th>datetime</th>\n",
       "      <th>url</th>\n",
       "      <th>message</th>\n",
       "    </tr>\n",
       "    <tr>\n",
       "      <th>author</th>\n",
       "      <th></th>\n",
       "      <th></th>\n",
       "      <th></th>\n",
       "      <th></th>\n",
       "    </tr>\n",
       "  </thead>\n",
       "  <tbody>\n",
       "    <tr>\n",
       "      <th>PavelPetukhov</th>\n",
       "      <td>2</td>\n",
       "      <td>2</td>\n",
       "      <td>2</td>\n",
       "      <td>2</td>\n",
       "    </tr>\n",
       "    <tr>\n",
       "      <th>goodrules</th>\n",
       "      <td>10</td>\n",
       "      <td>10</td>\n",
       "      <td>10</td>\n",
       "      <td>10</td>\n",
       "    </tr>\n",
       "    <tr>\n",
       "      <th>karticn-google</th>\n",
       "      <td>1</td>\n",
       "      <td>1</td>\n",
       "      <td>1</td>\n",
       "      <td>1</td>\n",
       "    </tr>\n",
       "    <tr>\n",
       "      <th>statmike</th>\n",
       "      <td>695</td>\n",
       "      <td>695</td>\n",
       "      <td>695</td>\n",
       "      <td>695</td>\n",
       "    </tr>\n",
       "  </tbody>\n",
       "</table>\n",
       "</div>\n",
       "      <button class=\"colab-df-convert\" onclick=\"convertToInteractive('df-ad84a6d9-8100-4aa9-89e5-e41ecd6f558e')\"\n",
       "              title=\"Convert this dataframe to an interactive table.\"\n",
       "              style=\"display:none;\">\n",
       "        \n",
       "  <svg xmlns=\"http://www.w3.org/2000/svg\" height=\"24px\"viewBox=\"0 0 24 24\"\n",
       "       width=\"24px\">\n",
       "    <path d=\"M0 0h24v24H0V0z\" fill=\"none\"/>\n",
       "    <path d=\"M18.56 5.44l.94 2.06.94-2.06 2.06-.94-2.06-.94-.94-2.06-.94 2.06-2.06.94zm-11 1L8.5 8.5l.94-2.06 2.06-.94-2.06-.94L8.5 2.5l-.94 2.06-2.06.94zm10 10l.94 2.06.94-2.06 2.06-.94-2.06-.94-.94-2.06-.94 2.06-2.06.94z\"/><path d=\"M17.41 7.96l-1.37-1.37c-.4-.4-.92-.59-1.43-.59-.52 0-1.04.2-1.43.59L10.3 9.45l-7.72 7.72c-.78.78-.78 2.05 0 2.83L4 21.41c.39.39.9.59 1.41.59.51 0 1.02-.2 1.41-.59l7.78-7.78 2.81-2.81c.8-.78.8-2.07 0-2.86zM5.41 20L4 18.59l7.72-7.72 1.47 1.35L5.41 20z\"/>\n",
       "  </svg>\n",
       "      </button>\n",
       "      \n",
       "  <style>\n",
       "    .colab-df-container {\n",
       "      display:flex;\n",
       "      flex-wrap:wrap;\n",
       "      gap: 12px;\n",
       "    }\n",
       "\n",
       "    .colab-df-convert {\n",
       "      background-color: #E8F0FE;\n",
       "      border: none;\n",
       "      border-radius: 50%;\n",
       "      cursor: pointer;\n",
       "      display: none;\n",
       "      fill: #1967D2;\n",
       "      height: 32px;\n",
       "      padding: 0 0 0 0;\n",
       "      width: 32px;\n",
       "    }\n",
       "\n",
       "    .colab-df-convert:hover {\n",
       "      background-color: #E2EBFA;\n",
       "      box-shadow: 0px 1px 2px rgba(60, 64, 67, 0.3), 0px 1px 3px 1px rgba(60, 64, 67, 0.15);\n",
       "      fill: #174EA6;\n",
       "    }\n",
       "\n",
       "    [theme=dark] .colab-df-convert {\n",
       "      background-color: #3B4455;\n",
       "      fill: #D2E3FC;\n",
       "    }\n",
       "\n",
       "    [theme=dark] .colab-df-convert:hover {\n",
       "      background-color: #434B5C;\n",
       "      box-shadow: 0px 1px 3px 1px rgba(0, 0, 0, 0.15);\n",
       "      filter: drop-shadow(0px 1px 2px rgba(0, 0, 0, 0.3));\n",
       "      fill: #FFFFFF;\n",
       "    }\n",
       "  </style>\n",
       "\n",
       "      <script>\n",
       "        const buttonEl =\n",
       "          document.querySelector('#df-ad84a6d9-8100-4aa9-89e5-e41ecd6f558e button.colab-df-convert');\n",
       "        buttonEl.style.display =\n",
       "          google.colab.kernel.accessAllowed ? 'block' : 'none';\n",
       "\n",
       "        async function convertToInteractive(key) {\n",
       "          const element = document.querySelector('#df-ad84a6d9-8100-4aa9-89e5-e41ecd6f558e');\n",
       "          const dataTable =\n",
       "            await google.colab.kernel.invokeFunction('convertToInteractive',\n",
       "                                                     [key], {});\n",
       "          if (!dataTable) return;\n",
       "\n",
       "          const docLinkHtml = 'Like what you see? Visit the ' +\n",
       "            '<a target=\"_blank\" href=https://colab.research.google.com/notebooks/data_table.ipynb>data table notebook</a>'\n",
       "            + ' to learn more about interactive tables.';\n",
       "          element.innerHTML = '';\n",
       "          dataTable['output_type'] = 'display_data';\n",
       "          await google.colab.output.renderOutput(dataTable, element);\n",
       "          const docLink = document.createElement('div');\n",
       "          docLink.innerHTML = docLinkHtml;\n",
       "          element.appendChild(docLink);\n",
       "        }\n",
       "      </script>\n",
       "    </div>\n",
       "  </div>\n",
       "  "
      ],
      "text/plain": [
       "                sha  datetime  url  message\n",
       "author                                     \n",
       "PavelPetukhov     2         2    2        2\n",
       "goodrules        10        10   10       10\n",
       "karticn-google    1         1    1        1\n",
       "statmike        695       695  695      695"
      ]
     },
     "execution_count": 81,
     "metadata": {},
     "output_type": "execute_result"
    }
   ],
   "source": [
    "commits.groupby(['author']).count()"
   ]
  },
  {
   "cell_type": "code",
   "execution_count": 82,
   "metadata": {
    "colab": {
     "base_uri": "https://localhost:8080/",
     "height": 206
    },
    "executionInfo": {
     "elapsed": 6,
     "status": "ok",
     "timestamp": 1676832896993,
     "user": {
      "displayName": "Mike Henderson",
      "userId": "11664017018095232389"
     },
     "user_tz": 300
    },
    "id": "fFKfweKj5ene",
    "outputId": "e5194316-4902-4b78-926c-8111d19b19d7"
   },
   "outputs": [
    {
     "data": {
      "text/html": [
       "\n",
       "  <div id=\"df-051dcf68-7fe6-48c0-a78b-8c2ce4de7b60\">\n",
       "    <div class=\"colab-df-container\">\n",
       "      <div>\n",
       "<style scoped>\n",
       "    .dataframe tbody tr th:only-of-type {\n",
       "        vertical-align: middle;\n",
       "    }\n",
       "\n",
       "    .dataframe tbody tr th {\n",
       "        vertical-align: top;\n",
       "    }\n",
       "\n",
       "    .dataframe thead th {\n",
       "        text-align: right;\n",
       "    }\n",
       "</style>\n",
       "<table border=\"1\" class=\"dataframe\">\n",
       "  <thead>\n",
       "    <tr style=\"text-align: right;\">\n",
       "      <th></th>\n",
       "      <th>sha</th>\n",
       "      <th>datetime</th>\n",
       "      <th>url</th>\n",
       "      <th>message</th>\n",
       "      <th>author</th>\n",
       "    </tr>\n",
       "  </thead>\n",
       "  <tbody>\n",
       "    <tr>\n",
       "      <th>0</th>\n",
       "      <td>877ff535c3f01b9383a0cbb4be204705230983cc</td>\n",
       "      <td>2023-02-19T18:19:54Z</td>\n",
       "      <td>https://github.com/statmike/vertex-ai-mlops/co...</td>\n",
       "      <td>notes</td>\n",
       "      <td>statmike</td>\n",
       "    </tr>\n",
       "    <tr>\n",
       "      <th>1</th>\n",
       "      <td>5b85c2efa0a17cf4b0a49d045dc259135a158c59</td>\n",
       "      <td>2023-02-19T01:19:08Z</td>\n",
       "      <td>https://github.com/statmike/vertex-ai-mlops/co...</td>\n",
       "      <td>process update</td>\n",
       "      <td>statmike</td>\n",
       "    </tr>\n",
       "    <tr>\n",
       "      <th>2</th>\n",
       "      <td>dbfc6a9755a8eb782856af435a8383c683a598c1</td>\n",
       "      <td>2023-02-19T01:17:43Z</td>\n",
       "      <td>https://github.com/statmike/vertex-ai-mlops/co...</td>\n",
       "      <td>add colab process</td>\n",
       "      <td>statmike</td>\n",
       "    </tr>\n",
       "    <tr>\n",
       "      <th>3</th>\n",
       "      <td>151476a18b3a56228e3810bcfd5416e7cfe0de5f</td>\n",
       "      <td>2023-02-19T01:13:21Z</td>\n",
       "      <td>https://github.com/statmike/vertex-ai-mlops/co...</td>\n",
       "      <td>GA4 reporting process update</td>\n",
       "      <td>statmike</td>\n",
       "    </tr>\n",
       "    <tr>\n",
       "      <th>4</th>\n",
       "      <td>e8c28c8ed407688435c470b3ce39e3b1d697eef3</td>\n",
       "      <td>2023-02-18T22:59:45Z</td>\n",
       "      <td>https://github.com/statmike/vertex-ai-mlops/co...</td>\n",
       "      <td>tracking update</td>\n",
       "      <td>statmike</td>\n",
       "    </tr>\n",
       "  </tbody>\n",
       "</table>\n",
       "</div>\n",
       "      <button class=\"colab-df-convert\" onclick=\"convertToInteractive('df-051dcf68-7fe6-48c0-a78b-8c2ce4de7b60')\"\n",
       "              title=\"Convert this dataframe to an interactive table.\"\n",
       "              style=\"display:none;\">\n",
       "        \n",
       "  <svg xmlns=\"http://www.w3.org/2000/svg\" height=\"24px\"viewBox=\"0 0 24 24\"\n",
       "       width=\"24px\">\n",
       "    <path d=\"M0 0h24v24H0V0z\" fill=\"none\"/>\n",
       "    <path d=\"M18.56 5.44l.94 2.06.94-2.06 2.06-.94-2.06-.94-.94-2.06-.94 2.06-2.06.94zm-11 1L8.5 8.5l.94-2.06 2.06-.94-2.06-.94L8.5 2.5l-.94 2.06-2.06.94zm10 10l.94 2.06.94-2.06 2.06-.94-2.06-.94-.94-2.06-.94 2.06-2.06.94z\"/><path d=\"M17.41 7.96l-1.37-1.37c-.4-.4-.92-.59-1.43-.59-.52 0-1.04.2-1.43.59L10.3 9.45l-7.72 7.72c-.78.78-.78 2.05 0 2.83L4 21.41c.39.39.9.59 1.41.59.51 0 1.02-.2 1.41-.59l7.78-7.78 2.81-2.81c.8-.78.8-2.07 0-2.86zM5.41 20L4 18.59l7.72-7.72 1.47 1.35L5.41 20z\"/>\n",
       "  </svg>\n",
       "      </button>\n",
       "      \n",
       "  <style>\n",
       "    .colab-df-container {\n",
       "      display:flex;\n",
       "      flex-wrap:wrap;\n",
       "      gap: 12px;\n",
       "    }\n",
       "\n",
       "    .colab-df-convert {\n",
       "      background-color: #E8F0FE;\n",
       "      border: none;\n",
       "      border-radius: 50%;\n",
       "      cursor: pointer;\n",
       "      display: none;\n",
       "      fill: #1967D2;\n",
       "      height: 32px;\n",
       "      padding: 0 0 0 0;\n",
       "      width: 32px;\n",
       "    }\n",
       "\n",
       "    .colab-df-convert:hover {\n",
       "      background-color: #E2EBFA;\n",
       "      box-shadow: 0px 1px 2px rgba(60, 64, 67, 0.3), 0px 1px 3px 1px rgba(60, 64, 67, 0.15);\n",
       "      fill: #174EA6;\n",
       "    }\n",
       "\n",
       "    [theme=dark] .colab-df-convert {\n",
       "      background-color: #3B4455;\n",
       "      fill: #D2E3FC;\n",
       "    }\n",
       "\n",
       "    [theme=dark] .colab-df-convert:hover {\n",
       "      background-color: #434B5C;\n",
       "      box-shadow: 0px 1px 3px 1px rgba(0, 0, 0, 0.15);\n",
       "      filter: drop-shadow(0px 1px 2px rgba(0, 0, 0, 0.3));\n",
       "      fill: #FFFFFF;\n",
       "    }\n",
       "  </style>\n",
       "\n",
       "      <script>\n",
       "        const buttonEl =\n",
       "          document.querySelector('#df-051dcf68-7fe6-48c0-a78b-8c2ce4de7b60 button.colab-df-convert');\n",
       "        buttonEl.style.display =\n",
       "          google.colab.kernel.accessAllowed ? 'block' : 'none';\n",
       "\n",
       "        async function convertToInteractive(key) {\n",
       "          const element = document.querySelector('#df-051dcf68-7fe6-48c0-a78b-8c2ce4de7b60');\n",
       "          const dataTable =\n",
       "            await google.colab.kernel.invokeFunction('convertToInteractive',\n",
       "                                                     [key], {});\n",
       "          if (!dataTable) return;\n",
       "\n",
       "          const docLinkHtml = 'Like what you see? Visit the ' +\n",
       "            '<a target=\"_blank\" href=https://colab.research.google.com/notebooks/data_table.ipynb>data table notebook</a>'\n",
       "            + ' to learn more about interactive tables.';\n",
       "          element.innerHTML = '';\n",
       "          dataTable['output_type'] = 'display_data';\n",
       "          await google.colab.output.renderOutput(dataTable, element);\n",
       "          const docLink = document.createElement('div');\n",
       "          docLink.innerHTML = docLinkHtml;\n",
       "          element.appendChild(docLink);\n",
       "        }\n",
       "      </script>\n",
       "    </div>\n",
       "  </div>\n",
       "  "
      ],
      "text/plain": [
       "                                        sha              datetime  \\\n",
       "0  877ff535c3f01b9383a0cbb4be204705230983cc  2023-02-19T18:19:54Z   \n",
       "1  5b85c2efa0a17cf4b0a49d045dc259135a158c59  2023-02-19T01:19:08Z   \n",
       "2  dbfc6a9755a8eb782856af435a8383c683a598c1  2023-02-19T01:17:43Z   \n",
       "3  151476a18b3a56228e3810bcfd5416e7cfe0de5f  2023-02-19T01:13:21Z   \n",
       "4  e8c28c8ed407688435c470b3ce39e3b1d697eef3  2023-02-18T22:59:45Z   \n",
       "\n",
       "                                                 url  \\\n",
       "0  https://github.com/statmike/vertex-ai-mlops/co...   \n",
       "1  https://github.com/statmike/vertex-ai-mlops/co...   \n",
       "2  https://github.com/statmike/vertex-ai-mlops/co...   \n",
       "3  https://github.com/statmike/vertex-ai-mlops/co...   \n",
       "4  https://github.com/statmike/vertex-ai-mlops/co...   \n",
       "\n",
       "                        message    author  \n",
       "0                         notes  statmike  \n",
       "1                process update  statmike  \n",
       "2             add colab process  statmike  \n",
       "3  GA4 reporting process update  statmike  \n",
       "4               tracking update  statmike  "
      ]
     },
     "execution_count": 82,
     "metadata": {},
     "output_type": "execute_result"
    }
   ],
   "source": [
    "commits.head()"
   ]
  },
  {
   "cell_type": "markdown",
   "metadata": {
    "id": "Zfle1ox0115A"
   },
   "source": [
    "### commits_files\n",
    "- /commits/REF (use SHA)"
   ]
  },
  {
   "cell_type": "code",
   "execution_count": 83,
   "metadata": {
    "executionInfo": {
     "elapsed": 161,
     "status": "ok",
     "timestamp": 1676832915042,
     "user": {
      "displayName": "Mike Henderson",
      "userId": "11664017018095232389"
     },
     "user_tz": 300
    },
    "id": "cTWLWWaC2To5"
   },
   "outputs": [],
   "source": [
    "sha = list(commits['sha'])"
   ]
  },
  {
   "cell_type": "code",
   "execution_count": 84,
   "metadata": {
    "executionInfo": {
     "elapsed": 239410,
     "status": "ok",
     "timestamp": 1676833162891,
     "user": {
      "displayName": "Mike Henderson",
      "userId": "11664017018095232389"
     },
     "user_tz": 300
    },
    "id": "BJC1L6cb2UqS"
   },
   "outputs": [],
   "source": [
    "raw_files = []\n",
    "for s in sha:\n",
    "  page = 1\n",
    "  response = requests.get(f'{github_api_url}/commits/{s}?per_page=100&page={page}', headers = {'Authorization': f'Bearer {pat}', 'Accept': 'application/vnd.github+json'})\n",
    "  files = json.loads(response.text)['files']\n",
    "  if len(files) == 100:\n",
    "    while len(files) % 100 == 0:\n",
    "      page += 1\n",
    "      response = requests.get(f'{github_api_url}/commits/{s}?per_page=100&page={page}', headers = {'Authorization': f'Bearer {pat}', 'Accept': 'application/vnd.github+json'})\n",
    "      files += json.loads(response.text)['files']\n",
    "  raw_files += [{'sha': s, 'files': files}]"
   ]
  },
  {
   "cell_type": "code",
   "execution_count": 85,
   "metadata": {
    "colab": {
     "base_uri": "https://localhost:8080/"
    },
    "executionInfo": {
     "elapsed": 24,
     "status": "ok",
     "timestamp": 1676833162892,
     "user": {
      "displayName": "Mike Henderson",
      "userId": "11664017018095232389"
     },
     "user_tz": 300
    },
    "id": "-yDqXbml2Umw",
    "outputId": "6424e56e-998b-44e3-e29f-34c48f9b43b6"
   },
   "outputs": [
    {
     "data": {
      "text/plain": [
       "708"
      ]
     },
     "execution_count": 85,
     "metadata": {},
     "output_type": "execute_result"
    }
   ],
   "source": [
    "len(raw_files)"
   ]
  },
  {
   "cell_type": "code",
   "execution_count": 86,
   "metadata": {
    "colab": {
     "base_uri": "https://localhost:8080/"
    },
    "executionInfo": {
     "elapsed": 22,
     "status": "ok",
     "timestamp": 1676833162892,
     "user": {
      "displayName": "Mike Henderson",
      "userId": "11664017018095232389"
     },
     "user_tz": 300
    },
    "id": "Gx6if-tf2UkE",
    "outputId": "6997af63-a289-4c91-f701-0101a460ae68"
   },
   "outputs": [
    {
     "data": {
      "text/plain": [
       "1"
      ]
     },
     "execution_count": 86,
     "metadata": {},
     "output_type": "execute_result"
    }
   ],
   "source": [
    "len(raw_files[2]['files'])"
   ]
  },
  {
   "cell_type": "code",
   "execution_count": 87,
   "metadata": {
    "colab": {
     "base_uri": "https://localhost:8080/"
    },
    "executionInfo": {
     "elapsed": 20,
     "status": "ok",
     "timestamp": 1676833162893,
     "user": {
      "displayName": "Mike Henderson",
      "userId": "11664017018095232389"
     },
     "user_tz": 300
    },
    "id": "RmKkzvHi2Uhu",
    "outputId": "fd1bc8a6-0360-47f8-e5da-0881e74a9ed0"
   },
   "outputs": [
    {
     "data": {
      "text/plain": [
       "[{'sha': '2076f1aa518041c2a238e81ffc23e36fba2433d2',\n",
       "  'filename': 'architectures/tracking/setup/github/readme.md',\n",
       "  'status': 'modified',\n",
       "  'additions': 1,\n",
       "  'deletions': 0,\n",
       "  'changes': 1,\n",
       "  'blob_url': 'https://github.com/statmike/vertex-ai-mlops/blob/877ff535c3f01b9383a0cbb4be204705230983cc/architectures%2Ftracking%2Fsetup%2Fgithub%2Freadme.md',\n",
       "  'raw_url': 'https://github.com/statmike/vertex-ai-mlops/raw/877ff535c3f01b9383a0cbb4be204705230983cc/architectures%2Ftracking%2Fsetup%2Fgithub%2Freadme.md',\n",
       "  'contents_url': 'https://api.github.com/repos/statmike/vertex-ai-mlops/contents/architectures%2Ftracking%2Fsetup%2Fgithub%2Freadme.md?ref=877ff535c3f01b9383a0cbb4be204705230983cc',\n",
       "  'patch': '@@ -7,5 +7,6 @@ Setup the data reads from the GitHub API\\n \\n ## Notebooks For Gathering and Processing Information:\\n - [GitHub Metrics - 1 - Initial Creation](./GitHub%20Metrics%20-%201%20-%20Initial%20Creation.ipynb)\\n+    - Building the tables `commits` and `commits_files` in the BigQuery dataset `github_metrics`\\n - [GitHub Metrics - 2 - Incremental Update Cloud Function](./GitHub%20Metrics%20-%202%20-%20Incremental%20Update%20Cloud%20Function.ipynb)\\n - [GitHub Metrics - 3 - Reporting Scheduled Query](./GitHub%20Metrics%20-%203%20-%20Reporting%20Scheduled%20Query.ipynb)'}]"
      ]
     },
     "execution_count": 87,
     "metadata": {},
     "output_type": "execute_result"
    }
   ],
   "source": [
    "raw_files[0]['files']"
   ]
  },
  {
   "cell_type": "code",
   "execution_count": 88,
   "metadata": {
    "executionInfo": {
     "elapsed": 16,
     "status": "ok",
     "timestamp": 1676833162893,
     "user": {
      "displayName": "Mike Henderson",
      "userId": "11664017018095232389"
     },
     "user_tz": 300
    },
    "id": "EjQ54D352UaV"
   },
   "outputs": [],
   "source": [
    "commits_files = []\n",
    "for c in raw_files:\n",
    "  for f in c['files']:\n",
    "    commits_files += [{\n",
    "        'sha': c['sha'],\n",
    "        'file_sha': f['sha'],\n",
    "        'file': f\"{github_user}/{github_repo}/{f['filename']}\",\n",
    "        'additions': f['additions'],\n",
    "        'deletions': f['deletions']\n",
    "    }]"
   ]
  },
  {
   "cell_type": "code",
   "execution_count": 89,
   "metadata": {
    "executionInfo": {
     "elapsed": 132,
     "status": "ok",
     "timestamp": 1676833163009,
     "user": {
      "displayName": "Mike Henderson",
      "userId": "11664017018095232389"
     },
     "user_tz": 300
    },
    "id": "EevoG-Xe2UVZ"
   },
   "outputs": [],
   "source": [
    "commits_files = pd.DataFrame(commits_files)"
   ]
  },
  {
   "cell_type": "code",
   "execution_count": 90,
   "metadata": {
    "colab": {
     "base_uri": "https://localhost:8080/",
     "height": 206
    },
    "executionInfo": {
     "elapsed": 5,
     "status": "ok",
     "timestamp": 1676833163010,
     "user": {
      "displayName": "Mike Henderson",
      "userId": "11664017018095232389"
     },
     "user_tz": 300
    },
    "id": "Fo6RRmbC2UN5",
    "outputId": "bafa2799-7a99-4fd9-b426-170b9b4b3e8b"
   },
   "outputs": [
    {
     "data": {
      "text/html": [
       "\n",
       "  <div id=\"df-de8597a3-31c6-4667-9790-6c592d2c83dd\">\n",
       "    <div class=\"colab-df-container\">\n",
       "      <div>\n",
       "<style scoped>\n",
       "    .dataframe tbody tr th:only-of-type {\n",
       "        vertical-align: middle;\n",
       "    }\n",
       "\n",
       "    .dataframe tbody tr th {\n",
       "        vertical-align: top;\n",
       "    }\n",
       "\n",
       "    .dataframe thead th {\n",
       "        text-align: right;\n",
       "    }\n",
       "</style>\n",
       "<table border=\"1\" class=\"dataframe\">\n",
       "  <thead>\n",
       "    <tr style=\"text-align: right;\">\n",
       "      <th></th>\n",
       "      <th>sha</th>\n",
       "      <th>file_sha</th>\n",
       "      <th>file</th>\n",
       "      <th>additions</th>\n",
       "      <th>deletions</th>\n",
       "    </tr>\n",
       "  </thead>\n",
       "  <tbody>\n",
       "    <tr>\n",
       "      <th>0</th>\n",
       "      <td>877ff535c3f01b9383a0cbb4be204705230983cc</td>\n",
       "      <td>2076f1aa518041c2a238e81ffc23e36fba2433d2</td>\n",
       "      <td>statmike/vertex-ai-mlops/architectures/trackin...</td>\n",
       "      <td>1</td>\n",
       "      <td>0</td>\n",
       "    </tr>\n",
       "    <tr>\n",
       "      <th>1</th>\n",
       "      <td>5b85c2efa0a17cf4b0a49d045dc259135a158c59</td>\n",
       "      <td>d56dfb3c5ff1cb2bfd92ab404cd11a2677875618</td>\n",
       "      <td>statmike/vertex-ai-mlops/architectures/trackin...</td>\n",
       "      <td>1</td>\n",
       "      <td>0</td>\n",
       "    </tr>\n",
       "    <tr>\n",
       "      <th>2</th>\n",
       "      <td>dbfc6a9755a8eb782856af435a8383c683a598c1</td>\n",
       "      <td>696a6b8c109004639678b964a782fffea8bec850</td>\n",
       "      <td>statmike/vertex-ai-mlops/architectures/trackin...</td>\n",
       "      <td>11</td>\n",
       "      <td>0</td>\n",
       "    </tr>\n",
       "    <tr>\n",
       "      <th>3</th>\n",
       "      <td>151476a18b3a56228e3810bcfd5416e7cfe0de5f</td>\n",
       "      <td>ec4f76a6f89ae3b2e49be2761b7f8d21822ccec2</td>\n",
       "      <td>statmike/vertex-ai-mlops/architectures/trackin...</td>\n",
       "      <td>1</td>\n",
       "      <td>1</td>\n",
       "    </tr>\n",
       "    <tr>\n",
       "      <th>4</th>\n",
       "      <td>151476a18b3a56228e3810bcfd5416e7cfe0de5f</td>\n",
       "      <td>b2e135734a66e00479f69e8e4865c2e802e276c4</td>\n",
       "      <td>statmike/vertex-ai-mlops/architectures/trackin...</td>\n",
       "      <td>1</td>\n",
       "      <td>1</td>\n",
       "    </tr>\n",
       "  </tbody>\n",
       "</table>\n",
       "</div>\n",
       "      <button class=\"colab-df-convert\" onclick=\"convertToInteractive('df-de8597a3-31c6-4667-9790-6c592d2c83dd')\"\n",
       "              title=\"Convert this dataframe to an interactive table.\"\n",
       "              style=\"display:none;\">\n",
       "        \n",
       "  <svg xmlns=\"http://www.w3.org/2000/svg\" height=\"24px\"viewBox=\"0 0 24 24\"\n",
       "       width=\"24px\">\n",
       "    <path d=\"M0 0h24v24H0V0z\" fill=\"none\"/>\n",
       "    <path d=\"M18.56 5.44l.94 2.06.94-2.06 2.06-.94-2.06-.94-.94-2.06-.94 2.06-2.06.94zm-11 1L8.5 8.5l.94-2.06 2.06-.94-2.06-.94L8.5 2.5l-.94 2.06-2.06.94zm10 10l.94 2.06.94-2.06 2.06-.94-2.06-.94-.94-2.06-.94 2.06-2.06.94z\"/><path d=\"M17.41 7.96l-1.37-1.37c-.4-.4-.92-.59-1.43-.59-.52 0-1.04.2-1.43.59L10.3 9.45l-7.72 7.72c-.78.78-.78 2.05 0 2.83L4 21.41c.39.39.9.59 1.41.59.51 0 1.02-.2 1.41-.59l7.78-7.78 2.81-2.81c.8-.78.8-2.07 0-2.86zM5.41 20L4 18.59l7.72-7.72 1.47 1.35L5.41 20z\"/>\n",
       "  </svg>\n",
       "      </button>\n",
       "      \n",
       "  <style>\n",
       "    .colab-df-container {\n",
       "      display:flex;\n",
       "      flex-wrap:wrap;\n",
       "      gap: 12px;\n",
       "    }\n",
       "\n",
       "    .colab-df-convert {\n",
       "      background-color: #E8F0FE;\n",
       "      border: none;\n",
       "      border-radius: 50%;\n",
       "      cursor: pointer;\n",
       "      display: none;\n",
       "      fill: #1967D2;\n",
       "      height: 32px;\n",
       "      padding: 0 0 0 0;\n",
       "      width: 32px;\n",
       "    }\n",
       "\n",
       "    .colab-df-convert:hover {\n",
       "      background-color: #E2EBFA;\n",
       "      box-shadow: 0px 1px 2px rgba(60, 64, 67, 0.3), 0px 1px 3px 1px rgba(60, 64, 67, 0.15);\n",
       "      fill: #174EA6;\n",
       "    }\n",
       "\n",
       "    [theme=dark] .colab-df-convert {\n",
       "      background-color: #3B4455;\n",
       "      fill: #D2E3FC;\n",
       "    }\n",
       "\n",
       "    [theme=dark] .colab-df-convert:hover {\n",
       "      background-color: #434B5C;\n",
       "      box-shadow: 0px 1px 3px 1px rgba(0, 0, 0, 0.15);\n",
       "      filter: drop-shadow(0px 1px 2px rgba(0, 0, 0, 0.3));\n",
       "      fill: #FFFFFF;\n",
       "    }\n",
       "  </style>\n",
       "\n",
       "      <script>\n",
       "        const buttonEl =\n",
       "          document.querySelector('#df-de8597a3-31c6-4667-9790-6c592d2c83dd button.colab-df-convert');\n",
       "        buttonEl.style.display =\n",
       "          google.colab.kernel.accessAllowed ? 'block' : 'none';\n",
       "\n",
       "        async function convertToInteractive(key) {\n",
       "          const element = document.querySelector('#df-de8597a3-31c6-4667-9790-6c592d2c83dd');\n",
       "          const dataTable =\n",
       "            await google.colab.kernel.invokeFunction('convertToInteractive',\n",
       "                                                     [key], {});\n",
       "          if (!dataTable) return;\n",
       "\n",
       "          const docLinkHtml = 'Like what you see? Visit the ' +\n",
       "            '<a target=\"_blank\" href=https://colab.research.google.com/notebooks/data_table.ipynb>data table notebook</a>'\n",
       "            + ' to learn more about interactive tables.';\n",
       "          element.innerHTML = '';\n",
       "          dataTable['output_type'] = 'display_data';\n",
       "          await google.colab.output.renderOutput(dataTable, element);\n",
       "          const docLink = document.createElement('div');\n",
       "          docLink.innerHTML = docLinkHtml;\n",
       "          element.appendChild(docLink);\n",
       "        }\n",
       "      </script>\n",
       "    </div>\n",
       "  </div>\n",
       "  "
      ],
      "text/plain": [
       "                                        sha  \\\n",
       "0  877ff535c3f01b9383a0cbb4be204705230983cc   \n",
       "1  5b85c2efa0a17cf4b0a49d045dc259135a158c59   \n",
       "2  dbfc6a9755a8eb782856af435a8383c683a598c1   \n",
       "3  151476a18b3a56228e3810bcfd5416e7cfe0de5f   \n",
       "4  151476a18b3a56228e3810bcfd5416e7cfe0de5f   \n",
       "\n",
       "                                   file_sha  \\\n",
       "0  2076f1aa518041c2a238e81ffc23e36fba2433d2   \n",
       "1  d56dfb3c5ff1cb2bfd92ab404cd11a2677875618   \n",
       "2  696a6b8c109004639678b964a782fffea8bec850   \n",
       "3  ec4f76a6f89ae3b2e49be2761b7f8d21822ccec2   \n",
       "4  b2e135734a66e00479f69e8e4865c2e802e276c4   \n",
       "\n",
       "                                                file  additions  deletions  \n",
       "0  statmike/vertex-ai-mlops/architectures/trackin...          1          0  \n",
       "1  statmike/vertex-ai-mlops/architectures/trackin...          1          0  \n",
       "2  statmike/vertex-ai-mlops/architectures/trackin...         11          0  \n",
       "3  statmike/vertex-ai-mlops/architectures/trackin...          1          1  \n",
       "4  statmike/vertex-ai-mlops/architectures/trackin...          1          1  "
      ]
     },
     "execution_count": 90,
     "metadata": {},
     "output_type": "execute_result"
    }
   ],
   "source": [
    "commits_files.head()"
   ]
  },
  {
   "cell_type": "markdown",
   "metadata": {
    "id": "3nuglWwQbfwn"
   },
   "source": [
    "---\n",
    "## Pandas Tables\n",
    "\n",
    "The following section combines and does final formatting to prepare a dataframe version of data to save."
   ]
  },
  {
   "cell_type": "markdown",
   "metadata": {
    "id": "ayhyjghCmVqd"
   },
   "source": [
    "### weekly_commits (combine code_frequency and commit_activity)"
   ]
  },
  {
   "cell_type": "code",
   "execution_count": 91,
   "metadata": {
    "colab": {
     "base_uri": "https://localhost:8080/",
     "height": 206
    },
    "executionInfo": {
     "elapsed": 14,
     "status": "ok",
     "timestamp": 1676833163419,
     "user": {
      "displayName": "Mike Henderson",
      "userId": "11664017018095232389"
     },
     "user_tz": 300
    },
    "id": "h570z6aibgVj",
    "outputId": "45bc208c-7a4d-4286-bbf8-fdddde5c019f"
   },
   "outputs": [
    {
     "data": {
      "text/html": [
       "\n",
       "  <div id=\"df-4d71e5a5-082f-4b46-92c8-be086b9abbfe\">\n",
       "    <div class=\"colab-df-container\">\n",
       "      <div>\n",
       "<style scoped>\n",
       "    .dataframe tbody tr th:only-of-type {\n",
       "        vertical-align: middle;\n",
       "    }\n",
       "\n",
       "    .dataframe tbody tr th {\n",
       "        vertical-align: top;\n",
       "    }\n",
       "\n",
       "    .dataframe thead th {\n",
       "        text-align: right;\n",
       "    }\n",
       "</style>\n",
       "<table border=\"1\" class=\"dataframe\">\n",
       "  <thead>\n",
       "    <tr style=\"text-align: right;\">\n",
       "      <th></th>\n",
       "      <th>week</th>\n",
       "      <th>additions</th>\n",
       "      <th>deletions</th>\n",
       "      <th>commits</th>\n",
       "      <th>github_account</th>\n",
       "      <th>github_repo</th>\n",
       "    </tr>\n",
       "  </thead>\n",
       "  <tbody>\n",
       "    <tr>\n",
       "      <th>0</th>\n",
       "      <td>1616889600</td>\n",
       "      <td>2983</td>\n",
       "      <td>-547</td>\n",
       "      <td>NaN</td>\n",
       "      <td>statmike</td>\n",
       "      <td>vertex-ai-mlops</td>\n",
       "    </tr>\n",
       "    <tr>\n",
       "      <th>1</th>\n",
       "      <td>1617494400</td>\n",
       "      <td>7461</td>\n",
       "      <td>-3499</td>\n",
       "      <td>NaN</td>\n",
       "      <td>statmike</td>\n",
       "      <td>vertex-ai-mlops</td>\n",
       "    </tr>\n",
       "    <tr>\n",
       "      <th>2</th>\n",
       "      <td>1618099200</td>\n",
       "      <td>12394</td>\n",
       "      <td>-6314</td>\n",
       "      <td>NaN</td>\n",
       "      <td>statmike</td>\n",
       "      <td>vertex-ai-mlops</td>\n",
       "    </tr>\n",
       "    <tr>\n",
       "      <th>3</th>\n",
       "      <td>1618704000</td>\n",
       "      <td>7904</td>\n",
       "      <td>-6179</td>\n",
       "      <td>NaN</td>\n",
       "      <td>statmike</td>\n",
       "      <td>vertex-ai-mlops</td>\n",
       "    </tr>\n",
       "    <tr>\n",
       "      <th>4</th>\n",
       "      <td>1619308800</td>\n",
       "      <td>0</td>\n",
       "      <td>0</td>\n",
       "      <td>NaN</td>\n",
       "      <td>statmike</td>\n",
       "      <td>vertex-ai-mlops</td>\n",
       "    </tr>\n",
       "  </tbody>\n",
       "</table>\n",
       "</div>\n",
       "      <button class=\"colab-df-convert\" onclick=\"convertToInteractive('df-4d71e5a5-082f-4b46-92c8-be086b9abbfe')\"\n",
       "              title=\"Convert this dataframe to an interactive table.\"\n",
       "              style=\"display:none;\">\n",
       "        \n",
       "  <svg xmlns=\"http://www.w3.org/2000/svg\" height=\"24px\"viewBox=\"0 0 24 24\"\n",
       "       width=\"24px\">\n",
       "    <path d=\"M0 0h24v24H0V0z\" fill=\"none\"/>\n",
       "    <path d=\"M18.56 5.44l.94 2.06.94-2.06 2.06-.94-2.06-.94-.94-2.06-.94 2.06-2.06.94zm-11 1L8.5 8.5l.94-2.06 2.06-.94-2.06-.94L8.5 2.5l-.94 2.06-2.06.94zm10 10l.94 2.06.94-2.06 2.06-.94-2.06-.94-.94-2.06-.94 2.06-2.06.94z\"/><path d=\"M17.41 7.96l-1.37-1.37c-.4-.4-.92-.59-1.43-.59-.52 0-1.04.2-1.43.59L10.3 9.45l-7.72 7.72c-.78.78-.78 2.05 0 2.83L4 21.41c.39.39.9.59 1.41.59.51 0 1.02-.2 1.41-.59l7.78-7.78 2.81-2.81c.8-.78.8-2.07 0-2.86zM5.41 20L4 18.59l7.72-7.72 1.47 1.35L5.41 20z\"/>\n",
       "  </svg>\n",
       "      </button>\n",
       "      \n",
       "  <style>\n",
       "    .colab-df-container {\n",
       "      display:flex;\n",
       "      flex-wrap:wrap;\n",
       "      gap: 12px;\n",
       "    }\n",
       "\n",
       "    .colab-df-convert {\n",
       "      background-color: #E8F0FE;\n",
       "      border: none;\n",
       "      border-radius: 50%;\n",
       "      cursor: pointer;\n",
       "      display: none;\n",
       "      fill: #1967D2;\n",
       "      height: 32px;\n",
       "      padding: 0 0 0 0;\n",
       "      width: 32px;\n",
       "    }\n",
       "\n",
       "    .colab-df-convert:hover {\n",
       "      background-color: #E2EBFA;\n",
       "      box-shadow: 0px 1px 2px rgba(60, 64, 67, 0.3), 0px 1px 3px 1px rgba(60, 64, 67, 0.15);\n",
       "      fill: #174EA6;\n",
       "    }\n",
       "\n",
       "    [theme=dark] .colab-df-convert {\n",
       "      background-color: #3B4455;\n",
       "      fill: #D2E3FC;\n",
       "    }\n",
       "\n",
       "    [theme=dark] .colab-df-convert:hover {\n",
       "      background-color: #434B5C;\n",
       "      box-shadow: 0px 1px 3px 1px rgba(0, 0, 0, 0.15);\n",
       "      filter: drop-shadow(0px 1px 2px rgba(0, 0, 0, 0.3));\n",
       "      fill: #FFFFFF;\n",
       "    }\n",
       "  </style>\n",
       "\n",
       "      <script>\n",
       "        const buttonEl =\n",
       "          document.querySelector('#df-4d71e5a5-082f-4b46-92c8-be086b9abbfe button.colab-df-convert');\n",
       "        buttonEl.style.display =\n",
       "          google.colab.kernel.accessAllowed ? 'block' : 'none';\n",
       "\n",
       "        async function convertToInteractive(key) {\n",
       "          const element = document.querySelector('#df-4d71e5a5-082f-4b46-92c8-be086b9abbfe');\n",
       "          const dataTable =\n",
       "            await google.colab.kernel.invokeFunction('convertToInteractive',\n",
       "                                                     [key], {});\n",
       "          if (!dataTable) return;\n",
       "\n",
       "          const docLinkHtml = 'Like what you see? Visit the ' +\n",
       "            '<a target=\"_blank\" href=https://colab.research.google.com/notebooks/data_table.ipynb>data table notebook</a>'\n",
       "            + ' to learn more about interactive tables.';\n",
       "          element.innerHTML = '';\n",
       "          dataTable['output_type'] = 'display_data';\n",
       "          await google.colab.output.renderOutput(dataTable, element);\n",
       "          const docLink = document.createElement('div');\n",
       "          docLink.innerHTML = docLinkHtml;\n",
       "          element.appendChild(docLink);\n",
       "        }\n",
       "      </script>\n",
       "    </div>\n",
       "  </div>\n",
       "  "
      ],
      "text/plain": [
       "         week  additions  deletions  commits github_account      github_repo\n",
       "0  1616889600       2983       -547      NaN       statmike  vertex-ai-mlops\n",
       "1  1617494400       7461      -3499      NaN       statmike  vertex-ai-mlops\n",
       "2  1618099200      12394      -6314      NaN       statmike  vertex-ai-mlops\n",
       "3  1618704000       7904      -6179      NaN       statmike  vertex-ai-mlops\n",
       "4  1619308800          0          0      NaN       statmike  vertex-ai-mlops"
      ]
     },
     "execution_count": 91,
     "metadata": {},
     "output_type": "execute_result"
    }
   ],
   "source": [
    "weekly_commits = pd.merge(code_frequency, commit_activity, on = 'week', how = 'outer')\n",
    "weekly_commits['github_account'] = github_user\n",
    "weekly_commits['github_repo'] = github_repo\n",
    "weekly_commits.head()"
   ]
  },
  {
   "cell_type": "markdown",
   "metadata": {
    "id": "_pekLnzQmYxk"
   },
   "source": [
    "### author_weekly_commits (contributors)"
   ]
  },
  {
   "cell_type": "code",
   "execution_count": 92,
   "metadata": {
    "colab": {
     "base_uri": "https://localhost:8080/",
     "height": 206
    },
    "executionInfo": {
     "elapsed": 14,
     "status": "ok",
     "timestamp": 1676833163420,
     "user": {
      "displayName": "Mike Henderson",
      "userId": "11664017018095232389"
     },
     "user_tz": 300
    },
    "id": "FnevxV4UbgYd",
    "outputId": "c25e089f-6576-4780-83a7-e3a485a0ae78"
   },
   "outputs": [
    {
     "data": {
      "text/html": [
       "\n",
       "  <div id=\"df-631faac9-b461-42f4-ad68-7662130739a9\">\n",
       "    <div class=\"colab-df-container\">\n",
       "      <div>\n",
       "<style scoped>\n",
       "    .dataframe tbody tr th:only-of-type {\n",
       "        vertical-align: middle;\n",
       "    }\n",
       "\n",
       "    .dataframe tbody tr th {\n",
       "        vertical-align: top;\n",
       "    }\n",
       "\n",
       "    .dataframe thead th {\n",
       "        text-align: right;\n",
       "    }\n",
       "</style>\n",
       "<table border=\"1\" class=\"dataframe\">\n",
       "  <thead>\n",
       "    <tr style=\"text-align: right;\">\n",
       "      <th></th>\n",
       "      <th>author</th>\n",
       "      <th>week</th>\n",
       "      <th>additions</th>\n",
       "      <th>deletions</th>\n",
       "      <th>commits</th>\n",
       "      <th>github_account</th>\n",
       "      <th>github_repo</th>\n",
       "    </tr>\n",
       "  </thead>\n",
       "  <tbody>\n",
       "    <tr>\n",
       "      <th>0</th>\n",
       "      <td>karticn-google</td>\n",
       "      <td>1616889600</td>\n",
       "      <td>0</td>\n",
       "      <td>0</td>\n",
       "      <td>0</td>\n",
       "      <td>statmike</td>\n",
       "      <td>vertex-ai-mlops</td>\n",
       "    </tr>\n",
       "    <tr>\n",
       "      <th>1</th>\n",
       "      <td>karticn-google</td>\n",
       "      <td>1617494400</td>\n",
       "      <td>0</td>\n",
       "      <td>0</td>\n",
       "      <td>0</td>\n",
       "      <td>statmike</td>\n",
       "      <td>vertex-ai-mlops</td>\n",
       "    </tr>\n",
       "    <tr>\n",
       "      <th>2</th>\n",
       "      <td>karticn-google</td>\n",
       "      <td>1618099200</td>\n",
       "      <td>0</td>\n",
       "      <td>0</td>\n",
       "      <td>0</td>\n",
       "      <td>statmike</td>\n",
       "      <td>vertex-ai-mlops</td>\n",
       "    </tr>\n",
       "    <tr>\n",
       "      <th>3</th>\n",
       "      <td>karticn-google</td>\n",
       "      <td>1618704000</td>\n",
       "      <td>0</td>\n",
       "      <td>0</td>\n",
       "      <td>0</td>\n",
       "      <td>statmike</td>\n",
       "      <td>vertex-ai-mlops</td>\n",
       "    </tr>\n",
       "    <tr>\n",
       "      <th>4</th>\n",
       "      <td>karticn-google</td>\n",
       "      <td>1619308800</td>\n",
       "      <td>0</td>\n",
       "      <td>0</td>\n",
       "      <td>0</td>\n",
       "      <td>statmike</td>\n",
       "      <td>vertex-ai-mlops</td>\n",
       "    </tr>\n",
       "  </tbody>\n",
       "</table>\n",
       "</div>\n",
       "      <button class=\"colab-df-convert\" onclick=\"convertToInteractive('df-631faac9-b461-42f4-ad68-7662130739a9')\"\n",
       "              title=\"Convert this dataframe to an interactive table.\"\n",
       "              style=\"display:none;\">\n",
       "        \n",
       "  <svg xmlns=\"http://www.w3.org/2000/svg\" height=\"24px\"viewBox=\"0 0 24 24\"\n",
       "       width=\"24px\">\n",
       "    <path d=\"M0 0h24v24H0V0z\" fill=\"none\"/>\n",
       "    <path d=\"M18.56 5.44l.94 2.06.94-2.06 2.06-.94-2.06-.94-.94-2.06-.94 2.06-2.06.94zm-11 1L8.5 8.5l.94-2.06 2.06-.94-2.06-.94L8.5 2.5l-.94 2.06-2.06.94zm10 10l.94 2.06.94-2.06 2.06-.94-2.06-.94-.94-2.06-.94 2.06-2.06.94z\"/><path d=\"M17.41 7.96l-1.37-1.37c-.4-.4-.92-.59-1.43-.59-.52 0-1.04.2-1.43.59L10.3 9.45l-7.72 7.72c-.78.78-.78 2.05 0 2.83L4 21.41c.39.39.9.59 1.41.59.51 0 1.02-.2 1.41-.59l7.78-7.78 2.81-2.81c.8-.78.8-2.07 0-2.86zM5.41 20L4 18.59l7.72-7.72 1.47 1.35L5.41 20z\"/>\n",
       "  </svg>\n",
       "      </button>\n",
       "      \n",
       "  <style>\n",
       "    .colab-df-container {\n",
       "      display:flex;\n",
       "      flex-wrap:wrap;\n",
       "      gap: 12px;\n",
       "    }\n",
       "\n",
       "    .colab-df-convert {\n",
       "      background-color: #E8F0FE;\n",
       "      border: none;\n",
       "      border-radius: 50%;\n",
       "      cursor: pointer;\n",
       "      display: none;\n",
       "      fill: #1967D2;\n",
       "      height: 32px;\n",
       "      padding: 0 0 0 0;\n",
       "      width: 32px;\n",
       "    }\n",
       "\n",
       "    .colab-df-convert:hover {\n",
       "      background-color: #E2EBFA;\n",
       "      box-shadow: 0px 1px 2px rgba(60, 64, 67, 0.3), 0px 1px 3px 1px rgba(60, 64, 67, 0.15);\n",
       "      fill: #174EA6;\n",
       "    }\n",
       "\n",
       "    [theme=dark] .colab-df-convert {\n",
       "      background-color: #3B4455;\n",
       "      fill: #D2E3FC;\n",
       "    }\n",
       "\n",
       "    [theme=dark] .colab-df-convert:hover {\n",
       "      background-color: #434B5C;\n",
       "      box-shadow: 0px 1px 3px 1px rgba(0, 0, 0, 0.15);\n",
       "      filter: drop-shadow(0px 1px 2px rgba(0, 0, 0, 0.3));\n",
       "      fill: #FFFFFF;\n",
       "    }\n",
       "  </style>\n",
       "\n",
       "      <script>\n",
       "        const buttonEl =\n",
       "          document.querySelector('#df-631faac9-b461-42f4-ad68-7662130739a9 button.colab-df-convert');\n",
       "        buttonEl.style.display =\n",
       "          google.colab.kernel.accessAllowed ? 'block' : 'none';\n",
       "\n",
       "        async function convertToInteractive(key) {\n",
       "          const element = document.querySelector('#df-631faac9-b461-42f4-ad68-7662130739a9');\n",
       "          const dataTable =\n",
       "            await google.colab.kernel.invokeFunction('convertToInteractive',\n",
       "                                                     [key], {});\n",
       "          if (!dataTable) return;\n",
       "\n",
       "          const docLinkHtml = 'Like what you see? Visit the ' +\n",
       "            '<a target=\"_blank\" href=https://colab.research.google.com/notebooks/data_table.ipynb>data table notebook</a>'\n",
       "            + ' to learn more about interactive tables.';\n",
       "          element.innerHTML = '';\n",
       "          dataTable['output_type'] = 'display_data';\n",
       "          await google.colab.output.renderOutput(dataTable, element);\n",
       "          const docLink = document.createElement('div');\n",
       "          docLink.innerHTML = docLinkHtml;\n",
       "          element.appendChild(docLink);\n",
       "        }\n",
       "      </script>\n",
       "    </div>\n",
       "  </div>\n",
       "  "
      ],
      "text/plain": [
       "           author        week  additions  deletions  commits github_account  \\\n",
       "0  karticn-google  1616889600          0          0        0       statmike   \n",
       "1  karticn-google  1617494400          0          0        0       statmike   \n",
       "2  karticn-google  1618099200          0          0        0       statmike   \n",
       "3  karticn-google  1618704000          0          0        0       statmike   \n",
       "4  karticn-google  1619308800          0          0        0       statmike   \n",
       "\n",
       "       github_repo  \n",
       "0  vertex-ai-mlops  \n",
       "1  vertex-ai-mlops  \n",
       "2  vertex-ai-mlops  \n",
       "3  vertex-ai-mlops  \n",
       "4  vertex-ai-mlops  "
      ]
     },
     "execution_count": 92,
     "metadata": {},
     "output_type": "execute_result"
    }
   ],
   "source": [
    "author_weekly_commits = contributors\n",
    "author_weekly_commits['github_account'] = github_user\n",
    "author_weekly_commits['github_repo'] = github_repo\n",
    "author_weekly_commits.head()"
   ]
  },
  {
   "cell_type": "markdown",
   "metadata": {
    "id": "bTZYIqhH98tu"
   },
   "source": [
    "### commits"
   ]
  },
  {
   "cell_type": "code",
   "execution_count": 93,
   "metadata": {
    "colab": {
     "base_uri": "https://localhost:8080/",
     "height": 206
    },
    "executionInfo": {
     "elapsed": 14,
     "status": "ok",
     "timestamp": 1676833163421,
     "user": {
      "displayName": "Mike Henderson",
      "userId": "11664017018095232389"
     },
     "user_tz": 300
    },
    "id": "4Kmu6sp599Je",
    "outputId": "4e7529cc-033a-4e61-8a70-8418e0ed9c11"
   },
   "outputs": [
    {
     "data": {
      "text/html": [
       "\n",
       "  <div id=\"df-cf324276-0eed-4528-8f2b-69c15691c14b\">\n",
       "    <div class=\"colab-df-container\">\n",
       "      <div>\n",
       "<style scoped>\n",
       "    .dataframe tbody tr th:only-of-type {\n",
       "        vertical-align: middle;\n",
       "    }\n",
       "\n",
       "    .dataframe tbody tr th {\n",
       "        vertical-align: top;\n",
       "    }\n",
       "\n",
       "    .dataframe thead th {\n",
       "        text-align: right;\n",
       "    }\n",
       "</style>\n",
       "<table border=\"1\" class=\"dataframe\">\n",
       "  <thead>\n",
       "    <tr style=\"text-align: right;\">\n",
       "      <th></th>\n",
       "      <th>sha</th>\n",
       "      <th>datetime</th>\n",
       "      <th>url</th>\n",
       "      <th>message</th>\n",
       "      <th>author</th>\n",
       "    </tr>\n",
       "  </thead>\n",
       "  <tbody>\n",
       "    <tr>\n",
       "      <th>0</th>\n",
       "      <td>877ff535c3f01b9383a0cbb4be204705230983cc</td>\n",
       "      <td>2023-02-19T18:19:54Z</td>\n",
       "      <td>https://github.com/statmike/vertex-ai-mlops/co...</td>\n",
       "      <td>notes</td>\n",
       "      <td>statmike</td>\n",
       "    </tr>\n",
       "    <tr>\n",
       "      <th>1</th>\n",
       "      <td>5b85c2efa0a17cf4b0a49d045dc259135a158c59</td>\n",
       "      <td>2023-02-19T01:19:08Z</td>\n",
       "      <td>https://github.com/statmike/vertex-ai-mlops/co...</td>\n",
       "      <td>process update</td>\n",
       "      <td>statmike</td>\n",
       "    </tr>\n",
       "    <tr>\n",
       "      <th>2</th>\n",
       "      <td>dbfc6a9755a8eb782856af435a8383c683a598c1</td>\n",
       "      <td>2023-02-19T01:17:43Z</td>\n",
       "      <td>https://github.com/statmike/vertex-ai-mlops/co...</td>\n",
       "      <td>add colab process</td>\n",
       "      <td>statmike</td>\n",
       "    </tr>\n",
       "    <tr>\n",
       "      <th>3</th>\n",
       "      <td>151476a18b3a56228e3810bcfd5416e7cfe0de5f</td>\n",
       "      <td>2023-02-19T01:13:21Z</td>\n",
       "      <td>https://github.com/statmike/vertex-ai-mlops/co...</td>\n",
       "      <td>GA4 reporting process update</td>\n",
       "      <td>statmike</td>\n",
       "    </tr>\n",
       "    <tr>\n",
       "      <th>4</th>\n",
       "      <td>e8c28c8ed407688435c470b3ce39e3b1d697eef3</td>\n",
       "      <td>2023-02-18T22:59:45Z</td>\n",
       "      <td>https://github.com/statmike/vertex-ai-mlops/co...</td>\n",
       "      <td>tracking update</td>\n",
       "      <td>statmike</td>\n",
       "    </tr>\n",
       "  </tbody>\n",
       "</table>\n",
       "</div>\n",
       "      <button class=\"colab-df-convert\" onclick=\"convertToInteractive('df-cf324276-0eed-4528-8f2b-69c15691c14b')\"\n",
       "              title=\"Convert this dataframe to an interactive table.\"\n",
       "              style=\"display:none;\">\n",
       "        \n",
       "  <svg xmlns=\"http://www.w3.org/2000/svg\" height=\"24px\"viewBox=\"0 0 24 24\"\n",
       "       width=\"24px\">\n",
       "    <path d=\"M0 0h24v24H0V0z\" fill=\"none\"/>\n",
       "    <path d=\"M18.56 5.44l.94 2.06.94-2.06 2.06-.94-2.06-.94-.94-2.06-.94 2.06-2.06.94zm-11 1L8.5 8.5l.94-2.06 2.06-.94-2.06-.94L8.5 2.5l-.94 2.06-2.06.94zm10 10l.94 2.06.94-2.06 2.06-.94-2.06-.94-.94-2.06-.94 2.06-2.06.94z\"/><path d=\"M17.41 7.96l-1.37-1.37c-.4-.4-.92-.59-1.43-.59-.52 0-1.04.2-1.43.59L10.3 9.45l-7.72 7.72c-.78.78-.78 2.05 0 2.83L4 21.41c.39.39.9.59 1.41.59.51 0 1.02-.2 1.41-.59l7.78-7.78 2.81-2.81c.8-.78.8-2.07 0-2.86zM5.41 20L4 18.59l7.72-7.72 1.47 1.35L5.41 20z\"/>\n",
       "  </svg>\n",
       "      </button>\n",
       "      \n",
       "  <style>\n",
       "    .colab-df-container {\n",
       "      display:flex;\n",
       "      flex-wrap:wrap;\n",
       "      gap: 12px;\n",
       "    }\n",
       "\n",
       "    .colab-df-convert {\n",
       "      background-color: #E8F0FE;\n",
       "      border: none;\n",
       "      border-radius: 50%;\n",
       "      cursor: pointer;\n",
       "      display: none;\n",
       "      fill: #1967D2;\n",
       "      height: 32px;\n",
       "      padding: 0 0 0 0;\n",
       "      width: 32px;\n",
       "    }\n",
       "\n",
       "    .colab-df-convert:hover {\n",
       "      background-color: #E2EBFA;\n",
       "      box-shadow: 0px 1px 2px rgba(60, 64, 67, 0.3), 0px 1px 3px 1px rgba(60, 64, 67, 0.15);\n",
       "      fill: #174EA6;\n",
       "    }\n",
       "\n",
       "    [theme=dark] .colab-df-convert {\n",
       "      background-color: #3B4455;\n",
       "      fill: #D2E3FC;\n",
       "    }\n",
       "\n",
       "    [theme=dark] .colab-df-convert:hover {\n",
       "      background-color: #434B5C;\n",
       "      box-shadow: 0px 1px 3px 1px rgba(0, 0, 0, 0.15);\n",
       "      filter: drop-shadow(0px 1px 2px rgba(0, 0, 0, 0.3));\n",
       "      fill: #FFFFFF;\n",
       "    }\n",
       "  </style>\n",
       "\n",
       "      <script>\n",
       "        const buttonEl =\n",
       "          document.querySelector('#df-cf324276-0eed-4528-8f2b-69c15691c14b button.colab-df-convert');\n",
       "        buttonEl.style.display =\n",
       "          google.colab.kernel.accessAllowed ? 'block' : 'none';\n",
       "\n",
       "        async function convertToInteractive(key) {\n",
       "          const element = document.querySelector('#df-cf324276-0eed-4528-8f2b-69c15691c14b');\n",
       "          const dataTable =\n",
       "            await google.colab.kernel.invokeFunction('convertToInteractive',\n",
       "                                                     [key], {});\n",
       "          if (!dataTable) return;\n",
       "\n",
       "          const docLinkHtml = 'Like what you see? Visit the ' +\n",
       "            '<a target=\"_blank\" href=https://colab.research.google.com/notebooks/data_table.ipynb>data table notebook</a>'\n",
       "            + ' to learn more about interactive tables.';\n",
       "          element.innerHTML = '';\n",
       "          dataTable['output_type'] = 'display_data';\n",
       "          await google.colab.output.renderOutput(dataTable, element);\n",
       "          const docLink = document.createElement('div');\n",
       "          docLink.innerHTML = docLinkHtml;\n",
       "          element.appendChild(docLink);\n",
       "        }\n",
       "      </script>\n",
       "    </div>\n",
       "  </div>\n",
       "  "
      ],
      "text/plain": [
       "                                        sha              datetime  \\\n",
       "0  877ff535c3f01b9383a0cbb4be204705230983cc  2023-02-19T18:19:54Z   \n",
       "1  5b85c2efa0a17cf4b0a49d045dc259135a158c59  2023-02-19T01:19:08Z   \n",
       "2  dbfc6a9755a8eb782856af435a8383c683a598c1  2023-02-19T01:17:43Z   \n",
       "3  151476a18b3a56228e3810bcfd5416e7cfe0de5f  2023-02-19T01:13:21Z   \n",
       "4  e8c28c8ed407688435c470b3ce39e3b1d697eef3  2023-02-18T22:59:45Z   \n",
       "\n",
       "                                                 url  \\\n",
       "0  https://github.com/statmike/vertex-ai-mlops/co...   \n",
       "1  https://github.com/statmike/vertex-ai-mlops/co...   \n",
       "2  https://github.com/statmike/vertex-ai-mlops/co...   \n",
       "3  https://github.com/statmike/vertex-ai-mlops/co...   \n",
       "4  https://github.com/statmike/vertex-ai-mlops/co...   \n",
       "\n",
       "                        message    author  \n",
       "0                         notes  statmike  \n",
       "1                process update  statmike  \n",
       "2             add colab process  statmike  \n",
       "3  GA4 reporting process update  statmike  \n",
       "4               tracking update  statmike  "
      ]
     },
     "execution_count": 93,
     "metadata": {},
     "output_type": "execute_result"
    }
   ],
   "source": [
    "commits = commits\n",
    "commits.head()"
   ]
  },
  {
   "cell_type": "markdown",
   "metadata": {
    "id": "pyp8Bp__99ek"
   },
   "source": [
    "### commits_files"
   ]
  },
  {
   "cell_type": "code",
   "execution_count": 94,
   "metadata": {
    "colab": {
     "base_uri": "https://localhost:8080/",
     "height": 337
    },
    "executionInfo": {
     "elapsed": 13,
     "status": "ok",
     "timestamp": 1676833163421,
     "user": {
      "displayName": "Mike Henderson",
      "userId": "11664017018095232389"
     },
     "user_tz": 300
    },
    "id": "UOPG82i099_S",
    "outputId": "224ba88a-0be0-48a4-9f5b-472a6b87ec3d"
   },
   "outputs": [
    {
     "data": {
      "text/html": [
       "\n",
       "  <div id=\"df-5382f1a6-f368-4030-8a90-12c484866368\">\n",
       "    <div class=\"colab-df-container\">\n",
       "      <div>\n",
       "<style scoped>\n",
       "    .dataframe tbody tr th:only-of-type {\n",
       "        vertical-align: middle;\n",
       "    }\n",
       "\n",
       "    .dataframe tbody tr th {\n",
       "        vertical-align: top;\n",
       "    }\n",
       "\n",
       "    .dataframe thead th {\n",
       "        text-align: right;\n",
       "    }\n",
       "</style>\n",
       "<table border=\"1\" class=\"dataframe\">\n",
       "  <thead>\n",
       "    <tr style=\"text-align: right;\">\n",
       "      <th></th>\n",
       "      <th>sha</th>\n",
       "      <th>datetime</th>\n",
       "      <th>url</th>\n",
       "      <th>message</th>\n",
       "      <th>author</th>\n",
       "      <th>file_sha</th>\n",
       "      <th>file</th>\n",
       "      <th>additions</th>\n",
       "      <th>deletions</th>\n",
       "    </tr>\n",
       "  </thead>\n",
       "  <tbody>\n",
       "    <tr>\n",
       "      <th>0</th>\n",
       "      <td>877ff535c3f01b9383a0cbb4be204705230983cc</td>\n",
       "      <td>2023-02-19T18:19:54Z</td>\n",
       "      <td>https://github.com/statmike/vertex-ai-mlops/co...</td>\n",
       "      <td>notes</td>\n",
       "      <td>statmike</td>\n",
       "      <td>2076f1aa518041c2a238e81ffc23e36fba2433d2</td>\n",
       "      <td>statmike/vertex-ai-mlops/architectures/trackin...</td>\n",
       "      <td>1</td>\n",
       "      <td>0</td>\n",
       "    </tr>\n",
       "    <tr>\n",
       "      <th>1</th>\n",
       "      <td>5b85c2efa0a17cf4b0a49d045dc259135a158c59</td>\n",
       "      <td>2023-02-19T01:19:08Z</td>\n",
       "      <td>https://github.com/statmike/vertex-ai-mlops/co...</td>\n",
       "      <td>process update</td>\n",
       "      <td>statmike</td>\n",
       "      <td>d56dfb3c5ff1cb2bfd92ab404cd11a2677875618</td>\n",
       "      <td>statmike/vertex-ai-mlops/architectures/trackin...</td>\n",
       "      <td>1</td>\n",
       "      <td>0</td>\n",
       "    </tr>\n",
       "    <tr>\n",
       "      <th>2</th>\n",
       "      <td>dbfc6a9755a8eb782856af435a8383c683a598c1</td>\n",
       "      <td>2023-02-19T01:17:43Z</td>\n",
       "      <td>https://github.com/statmike/vertex-ai-mlops/co...</td>\n",
       "      <td>add colab process</td>\n",
       "      <td>statmike</td>\n",
       "      <td>696a6b8c109004639678b964a782fffea8bec850</td>\n",
       "      <td>statmike/vertex-ai-mlops/architectures/trackin...</td>\n",
       "      <td>11</td>\n",
       "      <td>0</td>\n",
       "    </tr>\n",
       "    <tr>\n",
       "      <th>3</th>\n",
       "      <td>151476a18b3a56228e3810bcfd5416e7cfe0de5f</td>\n",
       "      <td>2023-02-19T01:13:21Z</td>\n",
       "      <td>https://github.com/statmike/vertex-ai-mlops/co...</td>\n",
       "      <td>GA4 reporting process update</td>\n",
       "      <td>statmike</td>\n",
       "      <td>ec4f76a6f89ae3b2e49be2761b7f8d21822ccec2</td>\n",
       "      <td>statmike/vertex-ai-mlops/architectures/trackin...</td>\n",
       "      <td>1</td>\n",
       "      <td>1</td>\n",
       "    </tr>\n",
       "    <tr>\n",
       "      <th>4</th>\n",
       "      <td>151476a18b3a56228e3810bcfd5416e7cfe0de5f</td>\n",
       "      <td>2023-02-19T01:13:21Z</td>\n",
       "      <td>https://github.com/statmike/vertex-ai-mlops/co...</td>\n",
       "      <td>GA4 reporting process update</td>\n",
       "      <td>statmike</td>\n",
       "      <td>b2e135734a66e00479f69e8e4865c2e802e276c4</td>\n",
       "      <td>statmike/vertex-ai-mlops/architectures/trackin...</td>\n",
       "      <td>1</td>\n",
       "      <td>1</td>\n",
       "    </tr>\n",
       "  </tbody>\n",
       "</table>\n",
       "</div>\n",
       "      <button class=\"colab-df-convert\" onclick=\"convertToInteractive('df-5382f1a6-f368-4030-8a90-12c484866368')\"\n",
       "              title=\"Convert this dataframe to an interactive table.\"\n",
       "              style=\"display:none;\">\n",
       "        \n",
       "  <svg xmlns=\"http://www.w3.org/2000/svg\" height=\"24px\"viewBox=\"0 0 24 24\"\n",
       "       width=\"24px\">\n",
       "    <path d=\"M0 0h24v24H0V0z\" fill=\"none\"/>\n",
       "    <path d=\"M18.56 5.44l.94 2.06.94-2.06 2.06-.94-2.06-.94-.94-2.06-.94 2.06-2.06.94zm-11 1L8.5 8.5l.94-2.06 2.06-.94-2.06-.94L8.5 2.5l-.94 2.06-2.06.94zm10 10l.94 2.06.94-2.06 2.06-.94-2.06-.94-.94-2.06-.94 2.06-2.06.94z\"/><path d=\"M17.41 7.96l-1.37-1.37c-.4-.4-.92-.59-1.43-.59-.52 0-1.04.2-1.43.59L10.3 9.45l-7.72 7.72c-.78.78-.78 2.05 0 2.83L4 21.41c.39.39.9.59 1.41.59.51 0 1.02-.2 1.41-.59l7.78-7.78 2.81-2.81c.8-.78.8-2.07 0-2.86zM5.41 20L4 18.59l7.72-7.72 1.47 1.35L5.41 20z\"/>\n",
       "  </svg>\n",
       "      </button>\n",
       "      \n",
       "  <style>\n",
       "    .colab-df-container {\n",
       "      display:flex;\n",
       "      flex-wrap:wrap;\n",
       "      gap: 12px;\n",
       "    }\n",
       "\n",
       "    .colab-df-convert {\n",
       "      background-color: #E8F0FE;\n",
       "      border: none;\n",
       "      border-radius: 50%;\n",
       "      cursor: pointer;\n",
       "      display: none;\n",
       "      fill: #1967D2;\n",
       "      height: 32px;\n",
       "      padding: 0 0 0 0;\n",
       "      width: 32px;\n",
       "    }\n",
       "\n",
       "    .colab-df-convert:hover {\n",
       "      background-color: #E2EBFA;\n",
       "      box-shadow: 0px 1px 2px rgba(60, 64, 67, 0.3), 0px 1px 3px 1px rgba(60, 64, 67, 0.15);\n",
       "      fill: #174EA6;\n",
       "    }\n",
       "\n",
       "    [theme=dark] .colab-df-convert {\n",
       "      background-color: #3B4455;\n",
       "      fill: #D2E3FC;\n",
       "    }\n",
       "\n",
       "    [theme=dark] .colab-df-convert:hover {\n",
       "      background-color: #434B5C;\n",
       "      box-shadow: 0px 1px 3px 1px rgba(0, 0, 0, 0.15);\n",
       "      filter: drop-shadow(0px 1px 2px rgba(0, 0, 0, 0.3));\n",
       "      fill: #FFFFFF;\n",
       "    }\n",
       "  </style>\n",
       "\n",
       "      <script>\n",
       "        const buttonEl =\n",
       "          document.querySelector('#df-5382f1a6-f368-4030-8a90-12c484866368 button.colab-df-convert');\n",
       "        buttonEl.style.display =\n",
       "          google.colab.kernel.accessAllowed ? 'block' : 'none';\n",
       "\n",
       "        async function convertToInteractive(key) {\n",
       "          const element = document.querySelector('#df-5382f1a6-f368-4030-8a90-12c484866368');\n",
       "          const dataTable =\n",
       "            await google.colab.kernel.invokeFunction('convertToInteractive',\n",
       "                                                     [key], {});\n",
       "          if (!dataTable) return;\n",
       "\n",
       "          const docLinkHtml = 'Like what you see? Visit the ' +\n",
       "            '<a target=\"_blank\" href=https://colab.research.google.com/notebooks/data_table.ipynb>data table notebook</a>'\n",
       "            + ' to learn more about interactive tables.';\n",
       "          element.innerHTML = '';\n",
       "          dataTable['output_type'] = 'display_data';\n",
       "          await google.colab.output.renderOutput(dataTable, element);\n",
       "          const docLink = document.createElement('div');\n",
       "          docLink.innerHTML = docLinkHtml;\n",
       "          element.appendChild(docLink);\n",
       "        }\n",
       "      </script>\n",
       "    </div>\n",
       "  </div>\n",
       "  "
      ],
      "text/plain": [
       "                                        sha              datetime  \\\n",
       "0  877ff535c3f01b9383a0cbb4be204705230983cc  2023-02-19T18:19:54Z   \n",
       "1  5b85c2efa0a17cf4b0a49d045dc259135a158c59  2023-02-19T01:19:08Z   \n",
       "2  dbfc6a9755a8eb782856af435a8383c683a598c1  2023-02-19T01:17:43Z   \n",
       "3  151476a18b3a56228e3810bcfd5416e7cfe0de5f  2023-02-19T01:13:21Z   \n",
       "4  151476a18b3a56228e3810bcfd5416e7cfe0de5f  2023-02-19T01:13:21Z   \n",
       "\n",
       "                                                 url  \\\n",
       "0  https://github.com/statmike/vertex-ai-mlops/co...   \n",
       "1  https://github.com/statmike/vertex-ai-mlops/co...   \n",
       "2  https://github.com/statmike/vertex-ai-mlops/co...   \n",
       "3  https://github.com/statmike/vertex-ai-mlops/co...   \n",
       "4  https://github.com/statmike/vertex-ai-mlops/co...   \n",
       "\n",
       "                        message    author  \\\n",
       "0                         notes  statmike   \n",
       "1                process update  statmike   \n",
       "2             add colab process  statmike   \n",
       "3  GA4 reporting process update  statmike   \n",
       "4  GA4 reporting process update  statmike   \n",
       "\n",
       "                                   file_sha  \\\n",
       "0  2076f1aa518041c2a238e81ffc23e36fba2433d2   \n",
       "1  d56dfb3c5ff1cb2bfd92ab404cd11a2677875618   \n",
       "2  696a6b8c109004639678b964a782fffea8bec850   \n",
       "3  ec4f76a6f89ae3b2e49be2761b7f8d21822ccec2   \n",
       "4  b2e135734a66e00479f69e8e4865c2e802e276c4   \n",
       "\n",
       "                                                file  additions  deletions  \n",
       "0  statmike/vertex-ai-mlops/architectures/trackin...          1          0  \n",
       "1  statmike/vertex-ai-mlops/architectures/trackin...          1          0  \n",
       "2  statmike/vertex-ai-mlops/architectures/trackin...         11          0  \n",
       "3  statmike/vertex-ai-mlops/architectures/trackin...          1          1  \n",
       "4  statmike/vertex-ai-mlops/architectures/trackin...          1          1  "
      ]
     },
     "execution_count": 94,
     "metadata": {},
     "output_type": "execute_result"
    }
   ],
   "source": [
    "commits_files = pd.merge(commits, commits_files, on = 'sha', how = 'outer')\n",
    "commits_files.head()"
   ]
  },
  {
   "cell_type": "markdown",
   "metadata": {
    "id": "mPfR5YmOBhrx"
   },
   "source": [
    "---\n",
    "## BigQuery Tables: Initial Creation\n"
   ]
  },
  {
   "cell_type": "markdown",
   "metadata": {
    "id": "JYAYyNiNmezZ"
   },
   "source": [
    "### weekly_commits"
   ]
  },
  {
   "cell_type": "code",
   "execution_count": 95,
   "metadata": {
    "colab": {
     "base_uri": "https://localhost:8080/"
    },
    "executionInfo": {
     "elapsed": 3594,
     "status": "ok",
     "timestamp": 1676833297988,
     "user": {
      "displayName": "Mike Henderson",
      "userId": "11664017018095232389"
     },
     "user_tz": 300
    },
    "id": "XCymDE1SF4w1",
    "outputId": "121249d3-986b-4782-c940-fcd81f5b22d2"
   },
   "outputs": [
    {
     "data": {
      "text/plain": [
       "LoadJob<project=vertex-ai-mlops-369716, location=US, id=8c6337df-8d27-4676-a05c-987614dddf9a>"
      ]
     },
     "execution_count": 95,
     "metadata": {},
     "output_type": "execute_result"
    }
   ],
   "source": [
    "weekly_commits_job = bq.load_table_from_dataframe(\n",
    "    dataframe = weekly_commits,\n",
    "    destination = bigquery.TableReference.from_string(f\"{BQ_PROJECT}.{BQ_DATASET}.weekly_commits\"),\n",
    "    job_config = bigquery.LoadJobConfig(\n",
    "        write_disposition = 'WRITE_TRUNCATE', # WRITE_TRUNCATE = replace if exists, WRITE_APPEND = append if exists, WRITE_EMPTY = write new but dont overwrite\n",
    "        autodetect = True, # detect schema\n",
    "    )\n",
    ")\n",
    "weekly_commits_job.result()"
   ]
  },
  {
   "cell_type": "markdown",
   "metadata": {
    "id": "yy6TL2CYmhz8"
   },
   "source": [
    "### author_weekly_commits"
   ]
  },
  {
   "cell_type": "code",
   "execution_count": 96,
   "metadata": {
    "colab": {
     "base_uri": "https://localhost:8080/"
    },
    "executionInfo": {
     "elapsed": 2968,
     "status": "ok",
     "timestamp": 1676833300953,
     "user": {
      "displayName": "Mike Henderson",
      "userId": "11664017018095232389"
     },
     "user_tz": 300
    },
    "id": "9zhk_pcJF40k",
    "outputId": "fc1bfd94-827f-4b51-8b40-17271fdc78de"
   },
   "outputs": [
    {
     "data": {
      "text/plain": [
       "LoadJob<project=vertex-ai-mlops-369716, location=US, id=9bb0abca-04b4-45a9-88f6-051a2123cc21>"
      ]
     },
     "execution_count": 96,
     "metadata": {},
     "output_type": "execute_result"
    }
   ],
   "source": [
    "author_weekly_commits_job = bq.load_table_from_dataframe(\n",
    "    dataframe = author_weekly_commits,\n",
    "    destination = bigquery.TableReference.from_string(f\"{BQ_PROJECT}.{BQ_DATASET}.author_weekly_commits\"),\n",
    "    job_config = bigquery.LoadJobConfig(\n",
    "        write_disposition = 'WRITE_TRUNCATE', # WRITE_TRUNCATE = replace if exists, WRITE_APPEND = append if exists, WRITE_EMPTY = write new but dont overwrite\n",
    "        autodetect = True, # detect schema\n",
    "    )\n",
    ")\n",
    "author_weekly_commits_job.result()"
   ]
  },
  {
   "cell_type": "markdown",
   "metadata": {
    "id": "LztkR53hAyau"
   },
   "source": [
    "### commits"
   ]
  },
  {
   "cell_type": "code",
   "execution_count": 97,
   "metadata": {
    "colab": {
     "base_uri": "https://localhost:8080/"
    },
    "executionInfo": {
     "elapsed": 3362,
     "status": "ok",
     "timestamp": 1676833304313,
     "user": {
      "displayName": "Mike Henderson",
      "userId": "11664017018095232389"
     },
     "user_tz": 300
    },
    "id": "fc5UBFtQ5sC2",
    "outputId": "812731d6-cce4-4c60-932c-7ef20c46cea5"
   },
   "outputs": [
    {
     "data": {
      "text/plain": [
       "LoadJob<project=vertex-ai-mlops-369716, location=US, id=57fa4124-66df-449e-812f-bd0250b0d273>"
      ]
     },
     "execution_count": 97,
     "metadata": {},
     "output_type": "execute_result"
    }
   ],
   "source": [
    "commits_job = bq.load_table_from_dataframe(\n",
    "    dataframe = commits,\n",
    "    destination = bigquery.TableReference.from_string(f\"{BQ_PROJECT}.{BQ_DATASET}.commits\"),\n",
    "    job_config = bigquery.LoadJobConfig(\n",
    "        write_disposition = 'WRITE_TRUNCATE', # WRITE_TRUNCATE = replace if exists, WRITE_APPEND = append if exists, WRITE_EMPTY = write new but dont overwrite\n",
    "        autodetect = True, # detect schema\n",
    "    )\n",
    ")\n",
    "commits_job.result()"
   ]
  },
  {
   "cell_type": "markdown",
   "metadata": {
    "id": "7Yhx3N_MA1WP"
   },
   "source": [
    "### commits_files"
   ]
  },
  {
   "cell_type": "code",
   "execution_count": 98,
   "metadata": {
    "colab": {
     "base_uri": "https://localhost:8080/"
    },
    "executionInfo": {
     "elapsed": 3713,
     "status": "ok",
     "timestamp": 1676833308023,
     "user": {
      "displayName": "Mike Henderson",
      "userId": "11664017018095232389"
     },
     "user_tz": 300
    },
    "id": "rczKIB-B5r4S",
    "outputId": "be2df0d8-bd1a-4dd7-e17b-f5da6e4003a2"
   },
   "outputs": [
    {
     "data": {
      "text/plain": [
       "LoadJob<project=vertex-ai-mlops-369716, location=US, id=9a2ec441-6d3e-44da-bd48-1eabdf263c5f>"
      ]
     },
     "execution_count": 98,
     "metadata": {},
     "output_type": "execute_result"
    }
   ],
   "source": [
    "commits_files_job = bq.load_table_from_dataframe(\n",
    "    dataframe = commits_files,\n",
    "    destination = bigquery.TableReference.from_string(f\"{BQ_PROJECT}.{BQ_DATASET}.commits_files\"),\n",
    "    job_config = bigquery.LoadJobConfig(\n",
    "        write_disposition = 'WRITE_TRUNCATE', # WRITE_TRUNCATE = replace if exists, WRITE_APPEND = append if exists, WRITE_EMPTY = write new but dont overwrite\n",
    "        autodetect = True, # detect schema\n",
    "    )\n",
    ")\n",
    "commits_files_job.result()"
   ]
  },
  {
   "cell_type": "markdown",
   "metadata": {
    "id": "L6ixMoLqJsSB"
   },
   "source": [
    "---\n",
    "## BigQuery Tables: Increment\n",
    "\n",
    "- get last week of data: prior_weekly_commits\n",
    "- keep all new records for 'last week' and newer: new_weekly_commits\n",
    "- conditions:\n",
    "  - if same number of rows and rows identitial: do nothing\n",
    "  - elif rows are same for last week: remove it from new, if new records then append them\n",
    "  - if row for last week differs: drop it from BQ, then append"
   ]
  },
  {
   "cell_type": "markdown",
   "metadata": {
    "id": "OjVPIijKXCJK"
   },
   "source": [
    "### weekly_commits"
   ]
  },
  {
   "cell_type": "code",
   "execution_count": 147,
   "metadata": {
    "executionInfo": {
     "elapsed": 10584,
     "status": "ok",
     "timestamp": 1676834631025,
     "user": {
      "displayName": "Mike Henderson",
      "userId": "11664017018095232389"
     },
     "user_tz": 300
    },
    "id": "r5s4_Ksrrs8c"
   },
   "outputs": [],
   "source": [
    "metric_type = 'stats/code_frequency'\n",
    "response = metric_get(metric_type)\n",
    "code_frequency = pd.DataFrame(json.loads(response.text), columns = ['week', 'additions', 'deletions'])\n",
    "#code_frequency['week'] = pd.to_datetime(code_frequency['week'], unit = 's')"
   ]
  },
  {
   "cell_type": "code",
   "execution_count": 148,
   "metadata": {
    "executionInfo": {
     "elapsed": 30942,
     "status": "ok",
     "timestamp": 1676834661953,
     "user": {
      "displayName": "Mike Henderson",
      "userId": "11664017018095232389"
     },
     "user_tz": 300
    },
    "id": "oqMuIMRprZ8T"
   },
   "outputs": [],
   "source": [
    "metric_type = 'stats/commit_activity'\n",
    "response = metric_get(metric_type)\n",
    "commit_activity = pd.DataFrame(json.loads(response.text)).drop(columns = ['days']).rename(columns = {'total' : 'commits'})\n",
    "#commit_activity['week'] = pd.to_datetime(commit_activity['week'], unit = 's')"
   ]
  },
  {
   "cell_type": "code",
   "execution_count": 149,
   "metadata": {
    "executionInfo": {
     "elapsed": 18,
     "status": "ok",
     "timestamp": 1676834661954,
     "user": {
      "displayName": "Mike Henderson",
      "userId": "11664017018095232389"
     },
     "user_tz": 300
    },
    "id": "scXCY1OArAsH"
   },
   "outputs": [],
   "source": [
    "weekly_commits = pd.merge(code_frequency, commit_activity, on = 'week', how = 'outer')\n",
    "weekly_commits['github_account'] = github_user\n",
    "weekly_commits['github_repo'] = github_repo"
   ]
  },
  {
   "cell_type": "code",
   "execution_count": 150,
   "metadata": {
    "executionInfo": {
     "elapsed": 2332,
     "status": "ok",
     "timestamp": 1676834664268,
     "user": {
      "displayName": "Mike Henderson",
      "userId": "11664017018095232389"
     },
     "user_tz": 300
    },
    "id": "yXZGDpR8F43J"
   },
   "outputs": [],
   "source": [
    "prior_weekly_commits = bq.query(query = f\"\"\"SELECT t.* FROM `{BQ_PROJECT}.{BQ_DATASET}.weekly_commits` t WHERE 1=1 QUALIFY row_number() over(order by week desc) = 1\"\"\").to_dataframe()"
   ]
  },
  {
   "cell_type": "code",
   "execution_count": 151,
   "metadata": {
    "colab": {
     "base_uri": "https://localhost:8080/",
     "height": 81
    },
    "executionInfo": {
     "elapsed": 21,
     "status": "ok",
     "timestamp": 1676834664269,
     "user": {
      "displayName": "Mike Henderson",
      "userId": "11664017018095232389"
     },
     "user_tz": 300
    },
    "id": "PvvFuYcwF471",
    "outputId": "487b6b9d-71a5-4294-e3a4-4f7a08dcc5d9"
   },
   "outputs": [
    {
     "data": {
      "text/html": [
       "\n",
       "  <div id=\"df-d3ebcf8b-c3bb-4260-9df4-eb664187a546\">\n",
       "    <div class=\"colab-df-container\">\n",
       "      <div>\n",
       "<style scoped>\n",
       "    .dataframe tbody tr th:only-of-type {\n",
       "        vertical-align: middle;\n",
       "    }\n",
       "\n",
       "    .dataframe tbody tr th {\n",
       "        vertical-align: top;\n",
       "    }\n",
       "\n",
       "    .dataframe thead th {\n",
       "        text-align: right;\n",
       "    }\n",
       "</style>\n",
       "<table border=\"1\" class=\"dataframe\">\n",
       "  <thead>\n",
       "    <tr style=\"text-align: right;\">\n",
       "      <th></th>\n",
       "      <th>week</th>\n",
       "      <th>additions</th>\n",
       "      <th>deletions</th>\n",
       "      <th>commits</th>\n",
       "      <th>github_account</th>\n",
       "      <th>github_repo</th>\n",
       "    </tr>\n",
       "  </thead>\n",
       "  <tbody>\n",
       "    <tr>\n",
       "      <th>0</th>\n",
       "      <td>1676160000</td>\n",
       "      <td>36560</td>\n",
       "      <td>-13179</td>\n",
       "      <td>21.0</td>\n",
       "      <td>statmike</td>\n",
       "      <td>vertex-ai-mlops</td>\n",
       "    </tr>\n",
       "  </tbody>\n",
       "</table>\n",
       "</div>\n",
       "      <button class=\"colab-df-convert\" onclick=\"convertToInteractive('df-d3ebcf8b-c3bb-4260-9df4-eb664187a546')\"\n",
       "              title=\"Convert this dataframe to an interactive table.\"\n",
       "              style=\"display:none;\">\n",
       "        \n",
       "  <svg xmlns=\"http://www.w3.org/2000/svg\" height=\"24px\"viewBox=\"0 0 24 24\"\n",
       "       width=\"24px\">\n",
       "    <path d=\"M0 0h24v24H0V0z\" fill=\"none\"/>\n",
       "    <path d=\"M18.56 5.44l.94 2.06.94-2.06 2.06-.94-2.06-.94-.94-2.06-.94 2.06-2.06.94zm-11 1L8.5 8.5l.94-2.06 2.06-.94-2.06-.94L8.5 2.5l-.94 2.06-2.06.94zm10 10l.94 2.06.94-2.06 2.06-.94-2.06-.94-.94-2.06-.94 2.06-2.06.94z\"/><path d=\"M17.41 7.96l-1.37-1.37c-.4-.4-.92-.59-1.43-.59-.52 0-1.04.2-1.43.59L10.3 9.45l-7.72 7.72c-.78.78-.78 2.05 0 2.83L4 21.41c.39.39.9.59 1.41.59.51 0 1.02-.2 1.41-.59l7.78-7.78 2.81-2.81c.8-.78.8-2.07 0-2.86zM5.41 20L4 18.59l7.72-7.72 1.47 1.35L5.41 20z\"/>\n",
       "  </svg>\n",
       "      </button>\n",
       "      \n",
       "  <style>\n",
       "    .colab-df-container {\n",
       "      display:flex;\n",
       "      flex-wrap:wrap;\n",
       "      gap: 12px;\n",
       "    }\n",
       "\n",
       "    .colab-df-convert {\n",
       "      background-color: #E8F0FE;\n",
       "      border: none;\n",
       "      border-radius: 50%;\n",
       "      cursor: pointer;\n",
       "      display: none;\n",
       "      fill: #1967D2;\n",
       "      height: 32px;\n",
       "      padding: 0 0 0 0;\n",
       "      width: 32px;\n",
       "    }\n",
       "\n",
       "    .colab-df-convert:hover {\n",
       "      background-color: #E2EBFA;\n",
       "      box-shadow: 0px 1px 2px rgba(60, 64, 67, 0.3), 0px 1px 3px 1px rgba(60, 64, 67, 0.15);\n",
       "      fill: #174EA6;\n",
       "    }\n",
       "\n",
       "    [theme=dark] .colab-df-convert {\n",
       "      background-color: #3B4455;\n",
       "      fill: #D2E3FC;\n",
       "    }\n",
       "\n",
       "    [theme=dark] .colab-df-convert:hover {\n",
       "      background-color: #434B5C;\n",
       "      box-shadow: 0px 1px 3px 1px rgba(0, 0, 0, 0.15);\n",
       "      filter: drop-shadow(0px 1px 2px rgba(0, 0, 0, 0.3));\n",
       "      fill: #FFFFFF;\n",
       "    }\n",
       "  </style>\n",
       "\n",
       "      <script>\n",
       "        const buttonEl =\n",
       "          document.querySelector('#df-d3ebcf8b-c3bb-4260-9df4-eb664187a546 button.colab-df-convert');\n",
       "        buttonEl.style.display =\n",
       "          google.colab.kernel.accessAllowed ? 'block' : 'none';\n",
       "\n",
       "        async function convertToInteractive(key) {\n",
       "          const element = document.querySelector('#df-d3ebcf8b-c3bb-4260-9df4-eb664187a546');\n",
       "          const dataTable =\n",
       "            await google.colab.kernel.invokeFunction('convertToInteractive',\n",
       "                                                     [key], {});\n",
       "          if (!dataTable) return;\n",
       "\n",
       "          const docLinkHtml = 'Like what you see? Visit the ' +\n",
       "            '<a target=\"_blank\" href=https://colab.research.google.com/notebooks/data_table.ipynb>data table notebook</a>'\n",
       "            + ' to learn more about interactive tables.';\n",
       "          element.innerHTML = '';\n",
       "          dataTable['output_type'] = 'display_data';\n",
       "          await google.colab.output.renderOutput(dataTable, element);\n",
       "          const docLink = document.createElement('div');\n",
       "          docLink.innerHTML = docLinkHtml;\n",
       "          element.appendChild(docLink);\n",
       "        }\n",
       "      </script>\n",
       "    </div>\n",
       "  </div>\n",
       "  "
      ],
      "text/plain": [
       "         week  additions  deletions  commits github_account      github_repo\n",
       "0  1676160000      36560     -13179     21.0       statmike  vertex-ai-mlops"
      ]
     },
     "execution_count": 151,
     "metadata": {},
     "output_type": "execute_result"
    }
   ],
   "source": [
    "prior_weekly_commits"
   ]
  },
  {
   "cell_type": "code",
   "execution_count": 152,
   "metadata": {
    "executionInfo": {
     "elapsed": 20,
     "status": "ok",
     "timestamp": 1676834664270,
     "user": {
      "displayName": "Mike Henderson",
      "userId": "11664017018095232389"
     },
     "user_tz": 300
    },
    "id": "uAmWuA6HF4_J"
   },
   "outputs": [],
   "source": [
    "new_weekly_commits = weekly_commits[(weekly_commits['week'] >= prior_weekly_commits['week'].max())]"
   ]
  },
  {
   "cell_type": "code",
   "execution_count": 153,
   "metadata": {
    "colab": {
     "base_uri": "https://localhost:8080/",
     "height": 112
    },
    "executionInfo": {
     "elapsed": 150,
     "status": "ok",
     "timestamp": 1676834664400,
     "user": {
      "displayName": "Mike Henderson",
      "userId": "11664017018095232389"
     },
     "user_tz": 300
    },
    "id": "rjHBG4tDMfDY",
    "outputId": "5b9ee437-e6d9-4527-b129-1b67c2fd6d0b"
   },
   "outputs": [
    {
     "data": {
      "text/html": [
       "\n",
       "  <div id=\"df-6f1265a2-015e-429d-b3b9-24620604b838\">\n",
       "    <div class=\"colab-df-container\">\n",
       "      <div>\n",
       "<style scoped>\n",
       "    .dataframe tbody tr th:only-of-type {\n",
       "        vertical-align: middle;\n",
       "    }\n",
       "\n",
       "    .dataframe tbody tr th {\n",
       "        vertical-align: top;\n",
       "    }\n",
       "\n",
       "    .dataframe thead th {\n",
       "        text-align: right;\n",
       "    }\n",
       "</style>\n",
       "<table border=\"1\" class=\"dataframe\">\n",
       "  <thead>\n",
       "    <tr style=\"text-align: right;\">\n",
       "      <th></th>\n",
       "      <th>week</th>\n",
       "      <th>additions</th>\n",
       "      <th>deletions</th>\n",
       "      <th>commits</th>\n",
       "      <th>github_account</th>\n",
       "      <th>github_repo</th>\n",
       "    </tr>\n",
       "  </thead>\n",
       "  <tbody>\n",
       "    <tr>\n",
       "      <th>98</th>\n",
       "      <td>1676160000</td>\n",
       "      <td>36560</td>\n",
       "      <td>-13179</td>\n",
       "      <td>21.0</td>\n",
       "      <td>statmike</td>\n",
       "      <td>vertex-ai-mlops</td>\n",
       "    </tr>\n",
       "    <tr>\n",
       "      <th>99</th>\n",
       "      <td>1676764800</td>\n",
       "      <td>21</td>\n",
       "      <td>-3</td>\n",
       "      <td>5.0</td>\n",
       "      <td>statmike</td>\n",
       "      <td>vertex-ai-mlops</td>\n",
       "    </tr>\n",
       "  </tbody>\n",
       "</table>\n",
       "</div>\n",
       "      <button class=\"colab-df-convert\" onclick=\"convertToInteractive('df-6f1265a2-015e-429d-b3b9-24620604b838')\"\n",
       "              title=\"Convert this dataframe to an interactive table.\"\n",
       "              style=\"display:none;\">\n",
       "        \n",
       "  <svg xmlns=\"http://www.w3.org/2000/svg\" height=\"24px\"viewBox=\"0 0 24 24\"\n",
       "       width=\"24px\">\n",
       "    <path d=\"M0 0h24v24H0V0z\" fill=\"none\"/>\n",
       "    <path d=\"M18.56 5.44l.94 2.06.94-2.06 2.06-.94-2.06-.94-.94-2.06-.94 2.06-2.06.94zm-11 1L8.5 8.5l.94-2.06 2.06-.94-2.06-.94L8.5 2.5l-.94 2.06-2.06.94zm10 10l.94 2.06.94-2.06 2.06-.94-2.06-.94-.94-2.06-.94 2.06-2.06.94z\"/><path d=\"M17.41 7.96l-1.37-1.37c-.4-.4-.92-.59-1.43-.59-.52 0-1.04.2-1.43.59L10.3 9.45l-7.72 7.72c-.78.78-.78 2.05 0 2.83L4 21.41c.39.39.9.59 1.41.59.51 0 1.02-.2 1.41-.59l7.78-7.78 2.81-2.81c.8-.78.8-2.07 0-2.86zM5.41 20L4 18.59l7.72-7.72 1.47 1.35L5.41 20z\"/>\n",
       "  </svg>\n",
       "      </button>\n",
       "      \n",
       "  <style>\n",
       "    .colab-df-container {\n",
       "      display:flex;\n",
       "      flex-wrap:wrap;\n",
       "      gap: 12px;\n",
       "    }\n",
       "\n",
       "    .colab-df-convert {\n",
       "      background-color: #E8F0FE;\n",
       "      border: none;\n",
       "      border-radius: 50%;\n",
       "      cursor: pointer;\n",
       "      display: none;\n",
       "      fill: #1967D2;\n",
       "      height: 32px;\n",
       "      padding: 0 0 0 0;\n",
       "      width: 32px;\n",
       "    }\n",
       "\n",
       "    .colab-df-convert:hover {\n",
       "      background-color: #E2EBFA;\n",
       "      box-shadow: 0px 1px 2px rgba(60, 64, 67, 0.3), 0px 1px 3px 1px rgba(60, 64, 67, 0.15);\n",
       "      fill: #174EA6;\n",
       "    }\n",
       "\n",
       "    [theme=dark] .colab-df-convert {\n",
       "      background-color: #3B4455;\n",
       "      fill: #D2E3FC;\n",
       "    }\n",
       "\n",
       "    [theme=dark] .colab-df-convert:hover {\n",
       "      background-color: #434B5C;\n",
       "      box-shadow: 0px 1px 3px 1px rgba(0, 0, 0, 0.15);\n",
       "      filter: drop-shadow(0px 1px 2px rgba(0, 0, 0, 0.3));\n",
       "      fill: #FFFFFF;\n",
       "    }\n",
       "  </style>\n",
       "\n",
       "      <script>\n",
       "        const buttonEl =\n",
       "          document.querySelector('#df-6f1265a2-015e-429d-b3b9-24620604b838 button.colab-df-convert');\n",
       "        buttonEl.style.display =\n",
       "          google.colab.kernel.accessAllowed ? 'block' : 'none';\n",
       "\n",
       "        async function convertToInteractive(key) {\n",
       "          const element = document.querySelector('#df-6f1265a2-015e-429d-b3b9-24620604b838');\n",
       "          const dataTable =\n",
       "            await google.colab.kernel.invokeFunction('convertToInteractive',\n",
       "                                                     [key], {});\n",
       "          if (!dataTable) return;\n",
       "\n",
       "          const docLinkHtml = 'Like what you see? Visit the ' +\n",
       "            '<a target=\"_blank\" href=https://colab.research.google.com/notebooks/data_table.ipynb>data table notebook</a>'\n",
       "            + ' to learn more about interactive tables.';\n",
       "          element.innerHTML = '';\n",
       "          dataTable['output_type'] = 'display_data';\n",
       "          await google.colab.output.renderOutput(dataTable, element);\n",
       "          const docLink = document.createElement('div');\n",
       "          docLink.innerHTML = docLinkHtml;\n",
       "          element.appendChild(docLink);\n",
       "        }\n",
       "      </script>\n",
       "    </div>\n",
       "  </div>\n",
       "  "
      ],
      "text/plain": [
       "          week  additions  deletions  commits github_account      github_repo\n",
       "98  1676160000      36560     -13179     21.0       statmike  vertex-ai-mlops\n",
       "99  1676764800         21         -3      5.0       statmike  vertex-ai-mlops"
      ]
     },
     "execution_count": 153,
     "metadata": {},
     "output_type": "execute_result"
    }
   ],
   "source": [
    "new_weekly_commits"
   ]
  },
  {
   "cell_type": "code",
   "execution_count": 154,
   "metadata": {
    "executionInfo": {
     "elapsed": 4,
     "status": "ok",
     "timestamp": 1676834664401,
     "user": {
      "displayName": "Mike Henderson",
      "userId": "11664017018095232389"
     },
     "user_tz": 300
    },
    "id": "BLLwz01yDsR1"
   },
   "outputs": [],
   "source": [
    "# fake a change to force a load\n",
    "#print(new_weekly_commits['commits'].iloc[0])\n",
    "#new_weekly_commits['commits'].iloc[0] = 5\n",
    "#print(new_weekly_commits['commits'].iloc[0])"
   ]
  },
  {
   "cell_type": "code",
   "execution_count": 155,
   "metadata": {
    "executionInfo": {
     "elapsed": 3107,
     "status": "ok",
     "timestamp": 1676834714657,
     "user": {
      "displayName": "Mike Henderson",
      "userId": "11664017018095232389"
     },
     "user_tz": 300
    },
    "id": "T3OBNPfDPMYR"
   },
   "outputs": [],
   "source": [
    "# check if no new weeks data added (both will have 1 record for last week)\n",
    "if prior_weekly_commits.shape[0] == new_weekly_commits.shape[0]:\n",
    "  # check if last weeks data changed\n",
    "  if prior_weekly_commits.values.tolist() != new_weekly_commits.values.tolist():\n",
    "    # remove old week from BQ\n",
    "    job = bq.query(query = f\"\"\"DELETE FROM `{BQ_PROJECT}.{BQ_DATASET}.weekly_commits` WHERE week = {prior_weekly_commits['week'].max()}\"\"\")\n",
    "    job.result()\n",
    "    # append updated week\n",
    "    new_weekly_commits_job = bq.load_table_from_dataframe(\n",
    "        dataframe = new_weekly_commits,\n",
    "        destination = bigquery.TableReference.from_string(f\"{BQ_PROJECT}.{BQ_DATASET}.weekly_commits\"),\n",
    "        job_config = bigquery.LoadJobConfig(\n",
    "            write_disposition = 'WRITE_APPEND', # WRITE_TRUNCATE = replace if exists, WRITE_APPEND = append if exists, WRITE_EMPTY = write new but dont overwrite\n",
    "            autodetect = True, # detect schema\n",
    "        )\n",
    "    )\n",
    "    new_weekly_commits_job.result()\n",
    "# if new weeks data has been added (could even be more than one):\n",
    "else:\n",
    "  # check if overlapping week changed\n",
    "  if prior_weekly_commits.values.tolist() != new_weekly_commits[(new_weekly_commits['week'] == prior_weekly_commits['week'].max())].values.tolist():\n",
    "    # remove old week from BQ\n",
    "    job = bq.query(query = f\"\"\"DELETE FROM `{BQ_PROJECT}.{BQ_DATASET}.weekly_commits` WHERE week = {prior_weekly_commits['week'].max()}\"\"\")\n",
    "    job.result()\n",
    "    # append all: updated and new\n",
    "    new_weekly_commits_job = bq.load_table_from_dataframe(\n",
    "        dataframe = new_weekly_commits,\n",
    "        destination = bigquery.TableReference.from_string(f\"{BQ_PROJECT}.{BQ_DATASET}.weekly_commits\"),\n",
    "        job_config = bigquery.LoadJobConfig(\n",
    "            write_disposition = 'WRITE_APPEND', # WRITE_TRUNCATE = replace if exists, WRITE_APPEND = append if exists, WRITE_EMPTY = write new but dont overwrite\n",
    "            autodetect = True, # detect schema\n",
    "        )\n",
    "    )\n",
    "    new_weekly_commits_job.result()\n",
    "  else:\n",
    "    # remove old week from new_weekly_commits\n",
    "    new_weekly_commits = new_weekly_commits[(new_weekly_commits['week'] != prior_weekly_commits['week'].max())]\n",
    "    # append new week(s)\n",
    "    new_weekly_commits_job = bq.load_table_from_dataframe(\n",
    "        dataframe = new_weekly_commits,\n",
    "        destination = bigquery.TableReference.from_string(f\"{BQ_PROJECT}.{BQ_DATASET}.weekly_commits\"),\n",
    "        job_config = bigquery.LoadJobConfig(\n",
    "            write_disposition = 'WRITE_APPEND', # WRITE_TRUNCATE = replace if exists, WRITE_APPEND = append if exists, WRITE_EMPTY = write new but dont overwrite\n",
    "            autodetect = True, # detect schema\n",
    "        )\n",
    "    )\n",
    "    new_weekly_commits_job.result()"
   ]
  },
  {
   "cell_type": "markdown",
   "metadata": {
    "id": "3-xDj77GXHSA"
   },
   "source": [
    "### author_weekly_commits"
   ]
  },
  {
   "cell_type": "code",
   "execution_count": 156,
   "metadata": {
    "executionInfo": {
     "elapsed": 10553,
     "status": "ok",
     "timestamp": 1676834851927,
     "user": {
      "displayName": "Mike Henderson",
      "userId": "11664017018095232389"
     },
     "user_tz": 300
    },
    "id": "8SJ2nrKusKoE"
   },
   "outputs": [],
   "source": [
    "metric_type = 'stats/contributors'\n",
    "response = metric_get(metric_type)\n",
    "\n",
    "parsed_response = []\n",
    "for e in json.loads(response.text):\n",
    "  for week in e['weeks']:\n",
    "    parsed_response += [{'author': e['author']['login'], 'week': week['w'], 'additions': week['a'], 'deletions': -1*week['d'], 'commits': week['c']}]\n",
    "\n",
    "contributors = pd.DataFrame(parsed_response)\n",
    "#contributors['week'] = pd.to_datetime(contributors['week'], unit = 's')"
   ]
  },
  {
   "cell_type": "code",
   "execution_count": 157,
   "metadata": {
    "executionInfo": {
     "elapsed": 5,
     "status": "ok",
     "timestamp": 1676834851928,
     "user": {
      "displayName": "Mike Henderson",
      "userId": "11664017018095232389"
     },
     "user_tz": 300
    },
    "id": "SEWHuuY6r4O_"
   },
   "outputs": [],
   "source": [
    "author_weekly_commits = contributors\n",
    "author_weekly_commits['github_account'] = github_user\n",
    "author_weekly_commits['github_repo'] = github_repo"
   ]
  },
  {
   "cell_type": "code",
   "execution_count": 158,
   "metadata": {
    "executionInfo": {
     "elapsed": 2232,
     "status": "ok",
     "timestamp": 1676834854156,
     "user": {
      "displayName": "Mike Henderson",
      "userId": "11664017018095232389"
     },
     "user_tz": 300
    },
    "id": "81u5L6TpXQL8"
   },
   "outputs": [],
   "source": [
    "prior_author_weekly_commits = bq.query(query = f\"\"\"SELECT t.* FROM `{BQ_PROJECT}.{BQ_DATASET}.author_weekly_commits` t WHERE 1=1 QUALIFY row_number() over(partition by author order by week desc) = 1\"\"\").to_dataframe().sort_values(by = ['week', 'author'])"
   ]
  },
  {
   "cell_type": "code",
   "execution_count": 159,
   "metadata": {
    "colab": {
     "base_uri": "https://localhost:8080/",
     "height": 175
    },
    "executionInfo": {
     "elapsed": 14,
     "status": "ok",
     "timestamp": 1676834854156,
     "user": {
      "displayName": "Mike Henderson",
      "userId": "11664017018095232389"
     },
     "user_tz": 300
    },
    "id": "HgRjqbRbXQL8",
    "outputId": "97ce947b-cc05-45a3-b8a6-d7abf32d4491"
   },
   "outputs": [
    {
     "data": {
      "text/html": [
       "\n",
       "  <div id=\"df-9c204de4-1d05-4088-be06-cf63a677357c\">\n",
       "    <div class=\"colab-df-container\">\n",
       "      <div>\n",
       "<style scoped>\n",
       "    .dataframe tbody tr th:only-of-type {\n",
       "        vertical-align: middle;\n",
       "    }\n",
       "\n",
       "    .dataframe tbody tr th {\n",
       "        vertical-align: top;\n",
       "    }\n",
       "\n",
       "    .dataframe thead th {\n",
       "        text-align: right;\n",
       "    }\n",
       "</style>\n",
       "<table border=\"1\" class=\"dataframe\">\n",
       "  <thead>\n",
       "    <tr style=\"text-align: right;\">\n",
       "      <th></th>\n",
       "      <th>author</th>\n",
       "      <th>week</th>\n",
       "      <th>additions</th>\n",
       "      <th>deletions</th>\n",
       "      <th>commits</th>\n",
       "      <th>github_account</th>\n",
       "      <th>github_repo</th>\n",
       "    </tr>\n",
       "  </thead>\n",
       "  <tbody>\n",
       "    <tr>\n",
       "      <th>3</th>\n",
       "      <td>PavelPetukhov</td>\n",
       "      <td>1676764800</td>\n",
       "      <td>0</td>\n",
       "      <td>0</td>\n",
       "      <td>1</td>\n",
       "      <td>statmike</td>\n",
       "      <td>vertex-ai-mlops</td>\n",
       "    </tr>\n",
       "    <tr>\n",
       "      <th>2</th>\n",
       "      <td>goodrules</td>\n",
       "      <td>1676764800</td>\n",
       "      <td>0</td>\n",
       "      <td>0</td>\n",
       "      <td>0</td>\n",
       "      <td>statmike</td>\n",
       "      <td>vertex-ai-mlops</td>\n",
       "    </tr>\n",
       "    <tr>\n",
       "      <th>0</th>\n",
       "      <td>karticn-google</td>\n",
       "      <td>1676764800</td>\n",
       "      <td>0</td>\n",
       "      <td>0</td>\n",
       "      <td>0</td>\n",
       "      <td>statmike</td>\n",
       "      <td>vertex-ai-mlops</td>\n",
       "    </tr>\n",
       "    <tr>\n",
       "      <th>1</th>\n",
       "      <td>statmike</td>\n",
       "      <td>1676764800</td>\n",
       "      <td>20</td>\n",
       "      <td>-3</td>\n",
       "      <td>4</td>\n",
       "      <td>statmike</td>\n",
       "      <td>vertex-ai-mlops</td>\n",
       "    </tr>\n",
       "  </tbody>\n",
       "</table>\n",
       "</div>\n",
       "      <button class=\"colab-df-convert\" onclick=\"convertToInteractive('df-9c204de4-1d05-4088-be06-cf63a677357c')\"\n",
       "              title=\"Convert this dataframe to an interactive table.\"\n",
       "              style=\"display:none;\">\n",
       "        \n",
       "  <svg xmlns=\"http://www.w3.org/2000/svg\" height=\"24px\"viewBox=\"0 0 24 24\"\n",
       "       width=\"24px\">\n",
       "    <path d=\"M0 0h24v24H0V0z\" fill=\"none\"/>\n",
       "    <path d=\"M18.56 5.44l.94 2.06.94-2.06 2.06-.94-2.06-.94-.94-2.06-.94 2.06-2.06.94zm-11 1L8.5 8.5l.94-2.06 2.06-.94-2.06-.94L8.5 2.5l-.94 2.06-2.06.94zm10 10l.94 2.06.94-2.06 2.06-.94-2.06-.94-.94-2.06-.94 2.06-2.06.94z\"/><path d=\"M17.41 7.96l-1.37-1.37c-.4-.4-.92-.59-1.43-.59-.52 0-1.04.2-1.43.59L10.3 9.45l-7.72 7.72c-.78.78-.78 2.05 0 2.83L4 21.41c.39.39.9.59 1.41.59.51 0 1.02-.2 1.41-.59l7.78-7.78 2.81-2.81c.8-.78.8-2.07 0-2.86zM5.41 20L4 18.59l7.72-7.72 1.47 1.35L5.41 20z\"/>\n",
       "  </svg>\n",
       "      </button>\n",
       "      \n",
       "  <style>\n",
       "    .colab-df-container {\n",
       "      display:flex;\n",
       "      flex-wrap:wrap;\n",
       "      gap: 12px;\n",
       "    }\n",
       "\n",
       "    .colab-df-convert {\n",
       "      background-color: #E8F0FE;\n",
       "      border: none;\n",
       "      border-radius: 50%;\n",
       "      cursor: pointer;\n",
       "      display: none;\n",
       "      fill: #1967D2;\n",
       "      height: 32px;\n",
       "      padding: 0 0 0 0;\n",
       "      width: 32px;\n",
       "    }\n",
       "\n",
       "    .colab-df-convert:hover {\n",
       "      background-color: #E2EBFA;\n",
       "      box-shadow: 0px 1px 2px rgba(60, 64, 67, 0.3), 0px 1px 3px 1px rgba(60, 64, 67, 0.15);\n",
       "      fill: #174EA6;\n",
       "    }\n",
       "\n",
       "    [theme=dark] .colab-df-convert {\n",
       "      background-color: #3B4455;\n",
       "      fill: #D2E3FC;\n",
       "    }\n",
       "\n",
       "    [theme=dark] .colab-df-convert:hover {\n",
       "      background-color: #434B5C;\n",
       "      box-shadow: 0px 1px 3px 1px rgba(0, 0, 0, 0.15);\n",
       "      filter: drop-shadow(0px 1px 2px rgba(0, 0, 0, 0.3));\n",
       "      fill: #FFFFFF;\n",
       "    }\n",
       "  </style>\n",
       "\n",
       "      <script>\n",
       "        const buttonEl =\n",
       "          document.querySelector('#df-9c204de4-1d05-4088-be06-cf63a677357c button.colab-df-convert');\n",
       "        buttonEl.style.display =\n",
       "          google.colab.kernel.accessAllowed ? 'block' : 'none';\n",
       "\n",
       "        async function convertToInteractive(key) {\n",
       "          const element = document.querySelector('#df-9c204de4-1d05-4088-be06-cf63a677357c');\n",
       "          const dataTable =\n",
       "            await google.colab.kernel.invokeFunction('convertToInteractive',\n",
       "                                                     [key], {});\n",
       "          if (!dataTable) return;\n",
       "\n",
       "          const docLinkHtml = 'Like what you see? Visit the ' +\n",
       "            '<a target=\"_blank\" href=https://colab.research.google.com/notebooks/data_table.ipynb>data table notebook</a>'\n",
       "            + ' to learn more about interactive tables.';\n",
       "          element.innerHTML = '';\n",
       "          dataTable['output_type'] = 'display_data';\n",
       "          await google.colab.output.renderOutput(dataTable, element);\n",
       "          const docLink = document.createElement('div');\n",
       "          docLink.innerHTML = docLinkHtml;\n",
       "          element.appendChild(docLink);\n",
       "        }\n",
       "      </script>\n",
       "    </div>\n",
       "  </div>\n",
       "  "
      ],
      "text/plain": [
       "           author        week  additions  deletions  commits github_account  \\\n",
       "3   PavelPetukhov  1676764800          0          0        1       statmike   \n",
       "2       goodrules  1676764800          0          0        0       statmike   \n",
       "0  karticn-google  1676764800          0          0        0       statmike   \n",
       "1        statmike  1676764800         20         -3        4       statmike   \n",
       "\n",
       "       github_repo  \n",
       "3  vertex-ai-mlops  \n",
       "2  vertex-ai-mlops  \n",
       "0  vertex-ai-mlops  \n",
       "1  vertex-ai-mlops  "
      ]
     },
     "execution_count": 159,
     "metadata": {},
     "output_type": "execute_result"
    }
   ],
   "source": [
    "prior_author_weekly_commits"
   ]
  },
  {
   "cell_type": "code",
   "execution_count": 160,
   "metadata": {
    "executionInfo": {
     "elapsed": 13,
     "status": "ok",
     "timestamp": 1676834854157,
     "user": {
      "displayName": "Mike Henderson",
      "userId": "11664017018095232389"
     },
     "user_tz": 300
    },
    "id": "EzXD7-WrXQL9"
   },
   "outputs": [],
   "source": [
    "new_author_weekly_commits = author_weekly_commits[(author_weekly_commits['week'] >= prior_author_weekly_commits['week'].max())].sort_values(by = ['week', 'author'])"
   ]
  },
  {
   "cell_type": "code",
   "execution_count": 161,
   "metadata": {
    "colab": {
     "base_uri": "https://localhost:8080/",
     "height": 175
    },
    "executionInfo": {
     "elapsed": 13,
     "status": "ok",
     "timestamp": 1676834854157,
     "user": {
      "displayName": "Mike Henderson",
      "userId": "11664017018095232389"
     },
     "user_tz": 300
    },
    "id": "ql7SViaGXQL9",
    "outputId": "1f2579d1-cb41-4390-94f7-597a010d6f5d"
   },
   "outputs": [
    {
     "data": {
      "text/html": [
       "\n",
       "  <div id=\"df-de3cda9d-47e5-4376-b684-f560c08171bd\">\n",
       "    <div class=\"colab-df-container\">\n",
       "      <div>\n",
       "<style scoped>\n",
       "    .dataframe tbody tr th:only-of-type {\n",
       "        vertical-align: middle;\n",
       "    }\n",
       "\n",
       "    .dataframe tbody tr th {\n",
       "        vertical-align: top;\n",
       "    }\n",
       "\n",
       "    .dataframe thead th {\n",
       "        text-align: right;\n",
       "    }\n",
       "</style>\n",
       "<table border=\"1\" class=\"dataframe\">\n",
       "  <thead>\n",
       "    <tr style=\"text-align: right;\">\n",
       "      <th></th>\n",
       "      <th>author</th>\n",
       "      <th>week</th>\n",
       "      <th>additions</th>\n",
       "      <th>deletions</th>\n",
       "      <th>commits</th>\n",
       "      <th>github_account</th>\n",
       "      <th>github_repo</th>\n",
       "    </tr>\n",
       "  </thead>\n",
       "  <tbody>\n",
       "    <tr>\n",
       "      <th>199</th>\n",
       "      <td>PavelPetukhov</td>\n",
       "      <td>1676764800</td>\n",
       "      <td>0</td>\n",
       "      <td>0</td>\n",
       "      <td>0</td>\n",
       "      <td>statmike</td>\n",
       "      <td>vertex-ai-mlops</td>\n",
       "    </tr>\n",
       "    <tr>\n",
       "      <th>299</th>\n",
       "      <td>goodrules</td>\n",
       "      <td>1676764800</td>\n",
       "      <td>0</td>\n",
       "      <td>0</td>\n",
       "      <td>0</td>\n",
       "      <td>statmike</td>\n",
       "      <td>vertex-ai-mlops</td>\n",
       "    </tr>\n",
       "    <tr>\n",
       "      <th>99</th>\n",
       "      <td>karticn-google</td>\n",
       "      <td>1676764800</td>\n",
       "      <td>0</td>\n",
       "      <td>0</td>\n",
       "      <td>0</td>\n",
       "      <td>statmike</td>\n",
       "      <td>vertex-ai-mlops</td>\n",
       "    </tr>\n",
       "    <tr>\n",
       "      <th>399</th>\n",
       "      <td>statmike</td>\n",
       "      <td>1676764800</td>\n",
       "      <td>21</td>\n",
       "      <td>-3</td>\n",
       "      <td>5</td>\n",
       "      <td>statmike</td>\n",
       "      <td>vertex-ai-mlops</td>\n",
       "    </tr>\n",
       "  </tbody>\n",
       "</table>\n",
       "</div>\n",
       "      <button class=\"colab-df-convert\" onclick=\"convertToInteractive('df-de3cda9d-47e5-4376-b684-f560c08171bd')\"\n",
       "              title=\"Convert this dataframe to an interactive table.\"\n",
       "              style=\"display:none;\">\n",
       "        \n",
       "  <svg xmlns=\"http://www.w3.org/2000/svg\" height=\"24px\"viewBox=\"0 0 24 24\"\n",
       "       width=\"24px\">\n",
       "    <path d=\"M0 0h24v24H0V0z\" fill=\"none\"/>\n",
       "    <path d=\"M18.56 5.44l.94 2.06.94-2.06 2.06-.94-2.06-.94-.94-2.06-.94 2.06-2.06.94zm-11 1L8.5 8.5l.94-2.06 2.06-.94-2.06-.94L8.5 2.5l-.94 2.06-2.06.94zm10 10l.94 2.06.94-2.06 2.06-.94-2.06-.94-.94-2.06-.94 2.06-2.06.94z\"/><path d=\"M17.41 7.96l-1.37-1.37c-.4-.4-.92-.59-1.43-.59-.52 0-1.04.2-1.43.59L10.3 9.45l-7.72 7.72c-.78.78-.78 2.05 0 2.83L4 21.41c.39.39.9.59 1.41.59.51 0 1.02-.2 1.41-.59l7.78-7.78 2.81-2.81c.8-.78.8-2.07 0-2.86zM5.41 20L4 18.59l7.72-7.72 1.47 1.35L5.41 20z\"/>\n",
       "  </svg>\n",
       "      </button>\n",
       "      \n",
       "  <style>\n",
       "    .colab-df-container {\n",
       "      display:flex;\n",
       "      flex-wrap:wrap;\n",
       "      gap: 12px;\n",
       "    }\n",
       "\n",
       "    .colab-df-convert {\n",
       "      background-color: #E8F0FE;\n",
       "      border: none;\n",
       "      border-radius: 50%;\n",
       "      cursor: pointer;\n",
       "      display: none;\n",
       "      fill: #1967D2;\n",
       "      height: 32px;\n",
       "      padding: 0 0 0 0;\n",
       "      width: 32px;\n",
       "    }\n",
       "\n",
       "    .colab-df-convert:hover {\n",
       "      background-color: #E2EBFA;\n",
       "      box-shadow: 0px 1px 2px rgba(60, 64, 67, 0.3), 0px 1px 3px 1px rgba(60, 64, 67, 0.15);\n",
       "      fill: #174EA6;\n",
       "    }\n",
       "\n",
       "    [theme=dark] .colab-df-convert {\n",
       "      background-color: #3B4455;\n",
       "      fill: #D2E3FC;\n",
       "    }\n",
       "\n",
       "    [theme=dark] .colab-df-convert:hover {\n",
       "      background-color: #434B5C;\n",
       "      box-shadow: 0px 1px 3px 1px rgba(0, 0, 0, 0.15);\n",
       "      filter: drop-shadow(0px 1px 2px rgba(0, 0, 0, 0.3));\n",
       "      fill: #FFFFFF;\n",
       "    }\n",
       "  </style>\n",
       "\n",
       "      <script>\n",
       "        const buttonEl =\n",
       "          document.querySelector('#df-de3cda9d-47e5-4376-b684-f560c08171bd button.colab-df-convert');\n",
       "        buttonEl.style.display =\n",
       "          google.colab.kernel.accessAllowed ? 'block' : 'none';\n",
       "\n",
       "        async function convertToInteractive(key) {\n",
       "          const element = document.querySelector('#df-de3cda9d-47e5-4376-b684-f560c08171bd');\n",
       "          const dataTable =\n",
       "            await google.colab.kernel.invokeFunction('convertToInteractive',\n",
       "                                                     [key], {});\n",
       "          if (!dataTable) return;\n",
       "\n",
       "          const docLinkHtml = 'Like what you see? Visit the ' +\n",
       "            '<a target=\"_blank\" href=https://colab.research.google.com/notebooks/data_table.ipynb>data table notebook</a>'\n",
       "            + ' to learn more about interactive tables.';\n",
       "          element.innerHTML = '';\n",
       "          dataTable['output_type'] = 'display_data';\n",
       "          await google.colab.output.renderOutput(dataTable, element);\n",
       "          const docLink = document.createElement('div');\n",
       "          docLink.innerHTML = docLinkHtml;\n",
       "          element.appendChild(docLink);\n",
       "        }\n",
       "      </script>\n",
       "    </div>\n",
       "  </div>\n",
       "  "
      ],
      "text/plain": [
       "             author        week  additions  deletions  commits github_account  \\\n",
       "199   PavelPetukhov  1676764800          0          0        0       statmike   \n",
       "299       goodrules  1676764800          0          0        0       statmike   \n",
       "99   karticn-google  1676764800          0          0        0       statmike   \n",
       "399        statmike  1676764800         21         -3        5       statmike   \n",
       "\n",
       "         github_repo  \n",
       "199  vertex-ai-mlops  \n",
       "299  vertex-ai-mlops  \n",
       "99   vertex-ai-mlops  \n",
       "399  vertex-ai-mlops  "
      ]
     },
     "execution_count": 161,
     "metadata": {},
     "output_type": "execute_result"
    }
   ],
   "source": [
    "new_author_weekly_commits"
   ]
  },
  {
   "cell_type": "code",
   "execution_count": 162,
   "metadata": {
    "executionInfo": {
     "elapsed": 116,
     "status": "ok",
     "timestamp": 1676834883808,
     "user": {
      "displayName": "Mike Henderson",
      "userId": "11664017018095232389"
     },
     "user_tz": 300
    },
    "id": "HGbnUAi0FHNx"
   },
   "outputs": [],
   "source": [
    "# fake a change to force a load\n",
    "#print(new_author_weekly_commits['commits'].iloc[0])\n",
    "#new_author_weekly_commits['commits'].iloc[0] = 1\n",
    "#print(new_author_weekly_commits['commits'].iloc[0])"
   ]
  },
  {
   "cell_type": "code",
   "execution_count": 163,
   "metadata": {
    "colab": {
     "base_uri": "https://localhost:8080/",
     "height": 175
    },
    "executionInfo": {
     "elapsed": 119,
     "status": "ok",
     "timestamp": 1676834888681,
     "user": {
      "displayName": "Mike Henderson",
      "userId": "11664017018095232389"
     },
     "user_tz": 300
    },
    "id": "sghjVfkTFd8b",
    "outputId": "7940930f-6eaa-4dc0-c18e-a794a1a409a6"
   },
   "outputs": [
    {
     "data": {
      "text/html": [
       "\n",
       "  <div id=\"df-8cce3ea9-65d2-4647-b24c-531c73aa623c\">\n",
       "    <div class=\"colab-df-container\">\n",
       "      <div>\n",
       "<style scoped>\n",
       "    .dataframe tbody tr th:only-of-type {\n",
       "        vertical-align: middle;\n",
       "    }\n",
       "\n",
       "    .dataframe tbody tr th {\n",
       "        vertical-align: top;\n",
       "    }\n",
       "\n",
       "    .dataframe thead th {\n",
       "        text-align: right;\n",
       "    }\n",
       "</style>\n",
       "<table border=\"1\" class=\"dataframe\">\n",
       "  <thead>\n",
       "    <tr style=\"text-align: right;\">\n",
       "      <th></th>\n",
       "      <th>author</th>\n",
       "      <th>week</th>\n",
       "      <th>additions</th>\n",
       "      <th>deletions</th>\n",
       "      <th>commits</th>\n",
       "      <th>github_account</th>\n",
       "      <th>github_repo</th>\n",
       "    </tr>\n",
       "  </thead>\n",
       "  <tbody>\n",
       "    <tr>\n",
       "      <th>199</th>\n",
       "      <td>PavelPetukhov</td>\n",
       "      <td>1676764800</td>\n",
       "      <td>0</td>\n",
       "      <td>0</td>\n",
       "      <td>0</td>\n",
       "      <td>statmike</td>\n",
       "      <td>vertex-ai-mlops</td>\n",
       "    </tr>\n",
       "    <tr>\n",
       "      <th>299</th>\n",
       "      <td>goodrules</td>\n",
       "      <td>1676764800</td>\n",
       "      <td>0</td>\n",
       "      <td>0</td>\n",
       "      <td>0</td>\n",
       "      <td>statmike</td>\n",
       "      <td>vertex-ai-mlops</td>\n",
       "    </tr>\n",
       "    <tr>\n",
       "      <th>99</th>\n",
       "      <td>karticn-google</td>\n",
       "      <td>1676764800</td>\n",
       "      <td>0</td>\n",
       "      <td>0</td>\n",
       "      <td>0</td>\n",
       "      <td>statmike</td>\n",
       "      <td>vertex-ai-mlops</td>\n",
       "    </tr>\n",
       "    <tr>\n",
       "      <th>399</th>\n",
       "      <td>statmike</td>\n",
       "      <td>1676764800</td>\n",
       "      <td>21</td>\n",
       "      <td>-3</td>\n",
       "      <td>5</td>\n",
       "      <td>statmike</td>\n",
       "      <td>vertex-ai-mlops</td>\n",
       "    </tr>\n",
       "  </tbody>\n",
       "</table>\n",
       "</div>\n",
       "      <button class=\"colab-df-convert\" onclick=\"convertToInteractive('df-8cce3ea9-65d2-4647-b24c-531c73aa623c')\"\n",
       "              title=\"Convert this dataframe to an interactive table.\"\n",
       "              style=\"display:none;\">\n",
       "        \n",
       "  <svg xmlns=\"http://www.w3.org/2000/svg\" height=\"24px\"viewBox=\"0 0 24 24\"\n",
       "       width=\"24px\">\n",
       "    <path d=\"M0 0h24v24H0V0z\" fill=\"none\"/>\n",
       "    <path d=\"M18.56 5.44l.94 2.06.94-2.06 2.06-.94-2.06-.94-.94-2.06-.94 2.06-2.06.94zm-11 1L8.5 8.5l.94-2.06 2.06-.94-2.06-.94L8.5 2.5l-.94 2.06-2.06.94zm10 10l.94 2.06.94-2.06 2.06-.94-2.06-.94-.94-2.06-.94 2.06-2.06.94z\"/><path d=\"M17.41 7.96l-1.37-1.37c-.4-.4-.92-.59-1.43-.59-.52 0-1.04.2-1.43.59L10.3 9.45l-7.72 7.72c-.78.78-.78 2.05 0 2.83L4 21.41c.39.39.9.59 1.41.59.51 0 1.02-.2 1.41-.59l7.78-7.78 2.81-2.81c.8-.78.8-2.07 0-2.86zM5.41 20L4 18.59l7.72-7.72 1.47 1.35L5.41 20z\"/>\n",
       "  </svg>\n",
       "      </button>\n",
       "      \n",
       "  <style>\n",
       "    .colab-df-container {\n",
       "      display:flex;\n",
       "      flex-wrap:wrap;\n",
       "      gap: 12px;\n",
       "    }\n",
       "\n",
       "    .colab-df-convert {\n",
       "      background-color: #E8F0FE;\n",
       "      border: none;\n",
       "      border-radius: 50%;\n",
       "      cursor: pointer;\n",
       "      display: none;\n",
       "      fill: #1967D2;\n",
       "      height: 32px;\n",
       "      padding: 0 0 0 0;\n",
       "      width: 32px;\n",
       "    }\n",
       "\n",
       "    .colab-df-convert:hover {\n",
       "      background-color: #E2EBFA;\n",
       "      box-shadow: 0px 1px 2px rgba(60, 64, 67, 0.3), 0px 1px 3px 1px rgba(60, 64, 67, 0.15);\n",
       "      fill: #174EA6;\n",
       "    }\n",
       "\n",
       "    [theme=dark] .colab-df-convert {\n",
       "      background-color: #3B4455;\n",
       "      fill: #D2E3FC;\n",
       "    }\n",
       "\n",
       "    [theme=dark] .colab-df-convert:hover {\n",
       "      background-color: #434B5C;\n",
       "      box-shadow: 0px 1px 3px 1px rgba(0, 0, 0, 0.15);\n",
       "      filter: drop-shadow(0px 1px 2px rgba(0, 0, 0, 0.3));\n",
       "      fill: #FFFFFF;\n",
       "    }\n",
       "  </style>\n",
       "\n",
       "      <script>\n",
       "        const buttonEl =\n",
       "          document.querySelector('#df-8cce3ea9-65d2-4647-b24c-531c73aa623c button.colab-df-convert');\n",
       "        buttonEl.style.display =\n",
       "          google.colab.kernel.accessAllowed ? 'block' : 'none';\n",
       "\n",
       "        async function convertToInteractive(key) {\n",
       "          const element = document.querySelector('#df-8cce3ea9-65d2-4647-b24c-531c73aa623c');\n",
       "          const dataTable =\n",
       "            await google.colab.kernel.invokeFunction('convertToInteractive',\n",
       "                                                     [key], {});\n",
       "          if (!dataTable) return;\n",
       "\n",
       "          const docLinkHtml = 'Like what you see? Visit the ' +\n",
       "            '<a target=\"_blank\" href=https://colab.research.google.com/notebooks/data_table.ipynb>data table notebook</a>'\n",
       "            + ' to learn more about interactive tables.';\n",
       "          element.innerHTML = '';\n",
       "          dataTable['output_type'] = 'display_data';\n",
       "          await google.colab.output.renderOutput(dataTable, element);\n",
       "          const docLink = document.createElement('div');\n",
       "          docLink.innerHTML = docLinkHtml;\n",
       "          element.appendChild(docLink);\n",
       "        }\n",
       "      </script>\n",
       "    </div>\n",
       "  </div>\n",
       "  "
      ],
      "text/plain": [
       "             author        week  additions  deletions  commits github_account  \\\n",
       "199   PavelPetukhov  1676764800          0          0        0       statmike   \n",
       "299       goodrules  1676764800          0          0        0       statmike   \n",
       "99   karticn-google  1676764800          0          0        0       statmike   \n",
       "399        statmike  1676764800         21         -3        5       statmike   \n",
       "\n",
       "         github_repo  \n",
       "199  vertex-ai-mlops  \n",
       "299  vertex-ai-mlops  \n",
       "99   vertex-ai-mlops  \n",
       "399  vertex-ai-mlops  "
      ]
     },
     "execution_count": 163,
     "metadata": {},
     "output_type": "execute_result"
    }
   ],
   "source": [
    "new_author_weekly_commits"
   ]
  },
  {
   "cell_type": "code",
   "execution_count": 164,
   "metadata": {
    "executionInfo": {
     "elapsed": 5097,
     "status": "ok",
     "timestamp": 1676834939791,
     "user": {
      "displayName": "Mike Henderson",
      "userId": "11664017018095232389"
     },
     "user_tz": 300
    },
    "id": "vtFMlJfwXQL9"
   },
   "outputs": [],
   "source": [
    "# check if no new weeks data added (both will have 1 record for last week)\n",
    "if prior_author_weekly_commits.shape[0] == new_author_weekly_commits.shape[0]:\n",
    "  # check if last weeks data changed\n",
    "  if prior_author_weekly_commits.values.tolist() != new_author_weekly_commits.values.tolist():\n",
    "    # remove old week from BQ\n",
    "    job = bq.query(query = f\"\"\"DELETE FROM `{BQ_PROJECT}.{BQ_DATASET}.author_weekly_commits` WHERE week = {prior_author_weekly_commits['week'].max()}\"\"\")\n",
    "    job.result()\n",
    "    # append updated week\n",
    "    new_author_weekly_commits_job = bq.load_table_from_dataframe(\n",
    "        dataframe = new_author_weekly_commits,\n",
    "        destination = bigquery.TableReference.from_string(f\"{BQ_PROJECT}.{BQ_DATASET}.author_weekly_commits\"),\n",
    "        job_config = bigquery.LoadJobConfig(\n",
    "            write_disposition = 'WRITE_APPEND', # WRITE_TRUNCATE = replace if exists, WRITE_APPEND = append if exists, WRITE_EMPTY = write new but dont overwrite\n",
    "            autodetect = True, # detect schema\n",
    "        )\n",
    "    )\n",
    "    new_author_weekly_commits_job.result()\n",
    "# if new weeks data has been added (could even be more than one):\n",
    "else:\n",
    "  # check if overlapping week changed\n",
    "  if prior_author_weekly_commits.values.tolist() != new_author_weekly_commits[(new_author_weekly_commits['week'] == prior_author_weekly_commits['week'].max())].values.tolist():\n",
    "    # remove old week from BQ\n",
    "    job = bq.query(query = f\"\"\"DELETE FROM `{BQ_PROJECT}.{BQ_DATASET}.author_weekly_commits` WHERE week = {prior_author_weekly_commits['week'].max()}\"\"\")\n",
    "    job.result()\n",
    "    # append all: updated and new\n",
    "    new_author_weekly_commits_job = bq.load_table_from_dataframe(\n",
    "        dataframe = new_author_weekly_commits,\n",
    "        destination = bigquery.TableReference.from_string(f\"{BQ_PROJECT}.{BQ_DATASET}.author_weekly_commits\"),\n",
    "        job_config = bigquery.LoadJobConfig(\n",
    "            write_disposition = 'WRITE_APPEND', # WRITE_TRUNCATE = replace if exists, WRITE_APPEND = append if exists, WRITE_EMPTY = write new but dont overwrite\n",
    "            #autodetect = True, # detect schema\n",
    "        )\n",
    "    )\n",
    "    new_author_weekly_commits_job.result()\n",
    "  else:\n",
    "    # remove old week from new_author_weekly_commits\n",
    "    new_author_weekly_commits = new_author_weekly_commits[(new_author_weekly_commits['week'] != prior_author_weekly_commits['week'].max())]\n",
    "    # append new week(s)\n",
    "    new_author_weekly_commits_job = bq.load_table_from_dataframe(\n",
    "        dataframe = new_author_weekly_commits,\n",
    "        destination = bigquery.TableReference.from_string(f\"{BQ_PROJECT}.{BQ_DATASET}.author_weekly_commits\"),\n",
    "        job_config = bigquery.LoadJobConfig(\n",
    "            write_disposition = 'WRITE_APPEND', # WRITE_TRUNCATE = replace if exists, WRITE_APPEND = append if exists, WRITE_EMPTY = write new but dont overwrite\n",
    "            autodetect = True, # detect schema\n",
    "        )\n",
    "    )\n",
    "    new_author_weekly_commits_job.result()"
   ]
  },
  {
   "cell_type": "markdown",
   "metadata": {
    "id": "JaZ2HokyCtJk"
   },
   "source": [
    "### commits\n",
    "\n",
    "Commits can arrive after they are create because a push or pull may be delayed.  For this reason, load the full commit history and check for new `sha` values.  Only these need to be added. This is always an append operation."
   ]
  },
  {
   "cell_type": "code",
   "execution_count": 165,
   "metadata": {
    "executionInfo": {
     "elapsed": 2894,
     "status": "ok",
     "timestamp": 1676834946475,
     "user": {
      "displayName": "Mike Henderson",
      "userId": "11664017018095232389"
     },
     "user_tz": 300
    },
    "id": "-nMmd7uzqrIW"
   },
   "outputs": [],
   "source": [
    "page_size = 100\n",
    "page = 1\n",
    "raw_commits = []\n",
    "while page_size == 100:\n",
    "  response = requests.get(f'{github_api_url}/commits?per_page=100&page={page}', headers = {'Authorization': f'Bearer {pat}', 'Accept': 'application/vnd.github+json'})\n",
    "  new_page = json.loads(response.text)\n",
    "  if response.status_code == 200:\n",
    "    raw_commits += new_page\n",
    "    page_size = len(new_page)\n",
    "    page +=1\n",
    "  else: break\n",
    "\n",
    "commits = []\n",
    "for i, c in enumerate(raw_commits):\n",
    "  committer = c['commit']['committer']['name']\n",
    "  author = c['commit']['author']['name']\n",
    "  committer2 = ''\n",
    "  if 'committer' in c and c['committer']:\n",
    "    if 'login' in c['committer']: committer2 = c['committer']['login']\n",
    "  author2 = ''\n",
    "  if 'author' in c and c['author']:\n",
    "    if 'login' in c['author']: author2 = c['author']['login']\n",
    "\n",
    "  # refined author with logic:\n",
    "  if author2: refined_author = author2\n",
    "  else: refined_author = author \n",
    "\n",
    "  commits += [{\n",
    "      'sha': c['sha'],\n",
    "      'datetime': c['commit']['committer']['date'],\n",
    "      'url': c['html_url'],\n",
    "      'message': c['commit']['message'],\n",
    "      'author': refined_author,\n",
    "      #'committer': committer,\n",
    "      #'author': author,\n",
    "      #'committer2': committer2,\n",
    "      #'author2': author2\n",
    "  }]\n",
    "\n",
    "commits = pd.DataFrame(commits)\n",
    "#commits['datetime'] = pd.to_datetime(commits['datetime'], infer_datetime_format = True)\n",
    "commits.loc[commits['author'].str.lower() == 'mike henderson', 'author'] = 'statmike'"
   ]
  },
  {
   "cell_type": "code",
   "execution_count": 166,
   "metadata": {
    "colab": {
     "base_uri": "https://localhost:8080/",
     "height": 206
    },
    "executionInfo": {
     "elapsed": 112,
     "status": "ok",
     "timestamp": 1676834948275,
     "user": {
      "displayName": "Mike Henderson",
      "userId": "11664017018095232389"
     },
     "user_tz": 300
    },
    "id": "UOs20BY-x20q",
    "outputId": "8fc6c744-898f-46d7-f677-1b8c3e24b6be"
   },
   "outputs": [
    {
     "data": {
      "text/html": [
       "\n",
       "  <div id=\"df-7d306fc6-ad8b-4e1b-9c75-4f973dfd1b47\">\n",
       "    <div class=\"colab-df-container\">\n",
       "      <div>\n",
       "<style scoped>\n",
       "    .dataframe tbody tr th:only-of-type {\n",
       "        vertical-align: middle;\n",
       "    }\n",
       "\n",
       "    .dataframe tbody tr th {\n",
       "        vertical-align: top;\n",
       "    }\n",
       "\n",
       "    .dataframe thead th {\n",
       "        text-align: right;\n",
       "    }\n",
       "</style>\n",
       "<table border=\"1\" class=\"dataframe\">\n",
       "  <thead>\n",
       "    <tr style=\"text-align: right;\">\n",
       "      <th></th>\n",
       "      <th>sha</th>\n",
       "      <th>datetime</th>\n",
       "      <th>url</th>\n",
       "      <th>message</th>\n",
       "      <th>author</th>\n",
       "    </tr>\n",
       "  </thead>\n",
       "  <tbody>\n",
       "    <tr>\n",
       "      <th>0</th>\n",
       "      <td>09404bb01b5c98b55b2387ef5cf48fb73581bc18</td>\n",
       "      <td>2023-02-19T19:14:01Z</td>\n",
       "      <td>https://github.com/statmike/vertex-ai-mlops/co...</td>\n",
       "      <td>notes</td>\n",
       "      <td>statmike</td>\n",
       "    </tr>\n",
       "    <tr>\n",
       "      <th>1</th>\n",
       "      <td>877ff535c3f01b9383a0cbb4be204705230983cc</td>\n",
       "      <td>2023-02-19T18:19:54Z</td>\n",
       "      <td>https://github.com/statmike/vertex-ai-mlops/co...</td>\n",
       "      <td>notes</td>\n",
       "      <td>statmike</td>\n",
       "    </tr>\n",
       "    <tr>\n",
       "      <th>2</th>\n",
       "      <td>5b85c2efa0a17cf4b0a49d045dc259135a158c59</td>\n",
       "      <td>2023-02-19T01:19:08Z</td>\n",
       "      <td>https://github.com/statmike/vertex-ai-mlops/co...</td>\n",
       "      <td>process update</td>\n",
       "      <td>statmike</td>\n",
       "    </tr>\n",
       "    <tr>\n",
       "      <th>3</th>\n",
       "      <td>dbfc6a9755a8eb782856af435a8383c683a598c1</td>\n",
       "      <td>2023-02-19T01:17:43Z</td>\n",
       "      <td>https://github.com/statmike/vertex-ai-mlops/co...</td>\n",
       "      <td>add colab process</td>\n",
       "      <td>statmike</td>\n",
       "    </tr>\n",
       "    <tr>\n",
       "      <th>4</th>\n",
       "      <td>151476a18b3a56228e3810bcfd5416e7cfe0de5f</td>\n",
       "      <td>2023-02-19T01:13:21Z</td>\n",
       "      <td>https://github.com/statmike/vertex-ai-mlops/co...</td>\n",
       "      <td>GA4 reporting process update</td>\n",
       "      <td>statmike</td>\n",
       "    </tr>\n",
       "  </tbody>\n",
       "</table>\n",
       "</div>\n",
       "      <button class=\"colab-df-convert\" onclick=\"convertToInteractive('df-7d306fc6-ad8b-4e1b-9c75-4f973dfd1b47')\"\n",
       "              title=\"Convert this dataframe to an interactive table.\"\n",
       "              style=\"display:none;\">\n",
       "        \n",
       "  <svg xmlns=\"http://www.w3.org/2000/svg\" height=\"24px\"viewBox=\"0 0 24 24\"\n",
       "       width=\"24px\">\n",
       "    <path d=\"M0 0h24v24H0V0z\" fill=\"none\"/>\n",
       "    <path d=\"M18.56 5.44l.94 2.06.94-2.06 2.06-.94-2.06-.94-.94-2.06-.94 2.06-2.06.94zm-11 1L8.5 8.5l.94-2.06 2.06-.94-2.06-.94L8.5 2.5l-.94 2.06-2.06.94zm10 10l.94 2.06.94-2.06 2.06-.94-2.06-.94-.94-2.06-.94 2.06-2.06.94z\"/><path d=\"M17.41 7.96l-1.37-1.37c-.4-.4-.92-.59-1.43-.59-.52 0-1.04.2-1.43.59L10.3 9.45l-7.72 7.72c-.78.78-.78 2.05 0 2.83L4 21.41c.39.39.9.59 1.41.59.51 0 1.02-.2 1.41-.59l7.78-7.78 2.81-2.81c.8-.78.8-2.07 0-2.86zM5.41 20L4 18.59l7.72-7.72 1.47 1.35L5.41 20z\"/>\n",
       "  </svg>\n",
       "      </button>\n",
       "      \n",
       "  <style>\n",
       "    .colab-df-container {\n",
       "      display:flex;\n",
       "      flex-wrap:wrap;\n",
       "      gap: 12px;\n",
       "    }\n",
       "\n",
       "    .colab-df-convert {\n",
       "      background-color: #E8F0FE;\n",
       "      border: none;\n",
       "      border-radius: 50%;\n",
       "      cursor: pointer;\n",
       "      display: none;\n",
       "      fill: #1967D2;\n",
       "      height: 32px;\n",
       "      padding: 0 0 0 0;\n",
       "      width: 32px;\n",
       "    }\n",
       "\n",
       "    .colab-df-convert:hover {\n",
       "      background-color: #E2EBFA;\n",
       "      box-shadow: 0px 1px 2px rgba(60, 64, 67, 0.3), 0px 1px 3px 1px rgba(60, 64, 67, 0.15);\n",
       "      fill: #174EA6;\n",
       "    }\n",
       "\n",
       "    [theme=dark] .colab-df-convert {\n",
       "      background-color: #3B4455;\n",
       "      fill: #D2E3FC;\n",
       "    }\n",
       "\n",
       "    [theme=dark] .colab-df-convert:hover {\n",
       "      background-color: #434B5C;\n",
       "      box-shadow: 0px 1px 3px 1px rgba(0, 0, 0, 0.15);\n",
       "      filter: drop-shadow(0px 1px 2px rgba(0, 0, 0, 0.3));\n",
       "      fill: #FFFFFF;\n",
       "    }\n",
       "  </style>\n",
       "\n",
       "      <script>\n",
       "        const buttonEl =\n",
       "          document.querySelector('#df-7d306fc6-ad8b-4e1b-9c75-4f973dfd1b47 button.colab-df-convert');\n",
       "        buttonEl.style.display =\n",
       "          google.colab.kernel.accessAllowed ? 'block' : 'none';\n",
       "\n",
       "        async function convertToInteractive(key) {\n",
       "          const element = document.querySelector('#df-7d306fc6-ad8b-4e1b-9c75-4f973dfd1b47');\n",
       "          const dataTable =\n",
       "            await google.colab.kernel.invokeFunction('convertToInteractive',\n",
       "                                                     [key], {});\n",
       "          if (!dataTable) return;\n",
       "\n",
       "          const docLinkHtml = 'Like what you see? Visit the ' +\n",
       "            '<a target=\"_blank\" href=https://colab.research.google.com/notebooks/data_table.ipynb>data table notebook</a>'\n",
       "            + ' to learn more about interactive tables.';\n",
       "          element.innerHTML = '';\n",
       "          dataTable['output_type'] = 'display_data';\n",
       "          await google.colab.output.renderOutput(dataTable, element);\n",
       "          const docLink = document.createElement('div');\n",
       "          docLink.innerHTML = docLinkHtml;\n",
       "          element.appendChild(docLink);\n",
       "        }\n",
       "      </script>\n",
       "    </div>\n",
       "  </div>\n",
       "  "
      ],
      "text/plain": [
       "                                        sha              datetime  \\\n",
       "0  09404bb01b5c98b55b2387ef5cf48fb73581bc18  2023-02-19T19:14:01Z   \n",
       "1  877ff535c3f01b9383a0cbb4be204705230983cc  2023-02-19T18:19:54Z   \n",
       "2  5b85c2efa0a17cf4b0a49d045dc259135a158c59  2023-02-19T01:19:08Z   \n",
       "3  dbfc6a9755a8eb782856af435a8383c683a598c1  2023-02-19T01:17:43Z   \n",
       "4  151476a18b3a56228e3810bcfd5416e7cfe0de5f  2023-02-19T01:13:21Z   \n",
       "\n",
       "                                                 url  \\\n",
       "0  https://github.com/statmike/vertex-ai-mlops/co...   \n",
       "1  https://github.com/statmike/vertex-ai-mlops/co...   \n",
       "2  https://github.com/statmike/vertex-ai-mlops/co...   \n",
       "3  https://github.com/statmike/vertex-ai-mlops/co...   \n",
       "4  https://github.com/statmike/vertex-ai-mlops/co...   \n",
       "\n",
       "                        message    author  \n",
       "0                         notes  statmike  \n",
       "1                         notes  statmike  \n",
       "2                process update  statmike  \n",
       "3             add colab process  statmike  \n",
       "4  GA4 reporting process update  statmike  "
      ]
     },
     "execution_count": 166,
     "metadata": {},
     "output_type": "execute_result"
    }
   ],
   "source": [
    "commits.head()"
   ]
  },
  {
   "cell_type": "code",
   "execution_count": 167,
   "metadata": {
    "executionInfo": {
     "elapsed": 2192,
     "status": "ok",
     "timestamp": 1676834953939,
     "user": {
      "displayName": "Mike Henderson",
      "userId": "11664017018095232389"
     },
     "user_tz": 300
    },
    "id": "PPiL26o7OjvY"
   },
   "outputs": [],
   "source": [
    "prior_commits = bq.query(query = f\"\"\"SELECT sha FROM `{BQ_PROJECT}.{BQ_DATASET}.commits`\"\"\").to_dataframe()"
   ]
  },
  {
   "cell_type": "code",
   "execution_count": 168,
   "metadata": {
    "executionInfo": {
     "elapsed": 3,
     "status": "ok",
     "timestamp": 1676834954183,
     "user": {
      "displayName": "Mike Henderson",
      "userId": "11664017018095232389"
     },
     "user_tz": 300
    },
    "id": "xNzcq4ZiCzBS"
   },
   "outputs": [],
   "source": [
    "new_commits = pd.merge(prior_commits, commits, on = 'sha', how = 'outer', indicator = True)\n",
    "new_commits = new_commits[new_commits['_merge'] == 'right_only'].drop('_merge', axis = 1)"
   ]
  },
  {
   "cell_type": "code",
   "execution_count": 169,
   "metadata": {
    "colab": {
     "base_uri": "https://localhost:8080/"
    },
    "executionInfo": {
     "elapsed": 3,
     "status": "ok",
     "timestamp": 1676834955728,
     "user": {
      "displayName": "Mike Henderson",
      "userId": "11664017018095232389"
     },
     "user_tz": 300
    },
    "id": "J0W73A62zjBl",
    "outputId": "ae5394a8-217c-43a7-990d-9e290869c746"
   },
   "outputs": [
    {
     "data": {
      "text/plain": [
       "0"
      ]
     },
     "execution_count": 169,
     "metadata": {},
     "output_type": "execute_result"
    }
   ],
   "source": [
    "new_commits.shape[0]"
   ]
  },
  {
   "cell_type": "code",
   "execution_count": 170,
   "metadata": {
    "executionInfo": {
     "elapsed": 101,
     "status": "ok",
     "timestamp": 1676834957281,
     "user": {
      "displayName": "Mike Henderson",
      "userId": "11664017018095232389"
     },
     "user_tz": 300
    },
    "id": "cVOHpWm5Cy2h"
   },
   "outputs": [],
   "source": [
    "if new_commits.shape[0] > 0:\n",
    "  new_commits_job = bq.load_table_from_dataframe(\n",
    "      dataframe = new_commits,\n",
    "      destination = bigquery.TableReference.from_string(f\"{BQ_PROJECT}.{BQ_DATASET}.commits\"),\n",
    "      job_config = bigquery.LoadJobConfig(\n",
    "          write_disposition = 'WRITE_APPEND', # WRITE_TRUNCATE = replace if exists, WRITE_APPEND = append if exists, WRITE_EMPTY = write new but dont overwrite\n",
    "          autodetect = True # detect schema\n",
    "      )\n",
    "  )\n",
    "  new_commits_job.result()"
   ]
  },
  {
   "cell_type": "markdown",
   "metadata": {
    "id": "xQLbjb0kCzdj"
   },
   "source": [
    "### commits_files\n",
    "\n",
    "Only need to fetch files for new commits found above.  This is always an append operation."
   ]
  },
  {
   "cell_type": "code",
   "execution_count": 171,
   "metadata": {
    "executionInfo": {
     "elapsed": 105,
     "status": "ok",
     "timestamp": 1676834959270,
     "user": {
      "displayName": "Mike Henderson",
      "userId": "11664017018095232389"
     },
     "user_tz": 300
    },
    "id": "v2r5I_28C3fZ"
   },
   "outputs": [],
   "source": [
    "if new_commits.shape[0] > 0:\n",
    "  sha = list(new_commits['sha'])\n",
    "  raw_files = []\n",
    "  for s in sha:\n",
    "    page = 1\n",
    "    response = requests.get(f'{github_api_url}/commits/{s}?per_page=100&page={page}', headers = {'Authorization': f'Bearer {pat}', 'Accept': 'application/vnd.github+json'})\n",
    "    files = json.loads(response.text)['files']\n",
    "    if len(files) == 100:\n",
    "      while len(files) % 100 == 0:\n",
    "        page += 1\n",
    "        response = requests.get(f'{github_api_url}/commits/{s}?per_page=100&page={page}', headers = {'Authorization': f'Bearer {pat}', 'Accept': 'application/vnd.github+json'})\n",
    "        files += json.loads(response.text)['files']\n",
    "    raw_files += [{'sha': s, 'files': files}]\n",
    "\n",
    "  commits_files = []\n",
    "  for c in raw_files:\n",
    "    for f in c['files']:\n",
    "      commits_files += [{\n",
    "          'sha': c['sha'],\n",
    "          'file_sha': f['sha'],\n",
    "          'file': f\"{github_user}/{github_repo}/{f['filename']}\",\n",
    "          'additions': f['additions'],\n",
    "          'deletions': f['deletions']\n",
    "      }]\n",
    "  commits_files = pd.DataFrame(commits_files)\n",
    "  commits_files = pd.merge(new_commits, commits_files, on = 'sha', how = 'inner')\n",
    "\n",
    "  new_commits_files_job = bq.load_table_from_dataframe(\n",
    "      dataframe = commits_files,\n",
    "      destination = bigquery.TableReference.from_string(f\"{BQ_PROJECT}.{BQ_DATASET}.commits_files\"),\n",
    "      job_config = bigquery.LoadJobConfig(\n",
    "          write_disposition = 'WRITE_APPEND', # WRITE_TRUNCATE = replace if exists, WRITE_APPEND = append if exists, WRITE_EMPTY = write new but dont overwrite\n",
    "          autodetect = True, # detect schema\n",
    "      )\n",
    "  )\n",
    "  new_commits_files_job.result()"
   ]
  },
  {
   "cell_type": "markdown",
   "metadata": {
    "id": "3P4ohIE_J0Zl"
   },
   "source": [
    "---\n",
    "## Diagnostics\n",
    "\n",
    "Mainly, can:\n",
    "- the results in weekly_commits be created from commits\n",
    "- the results in author_weekly_commits be created from commits\n",
    "- the results in commits be created from commits_files"
   ]
  },
  {
   "cell_type": "code",
   "execution_count": 196,
   "metadata": {
    "colab": {
     "base_uri": "https://localhost:8080/",
     "height": 269
    },
    "executionInfo": {
     "elapsed": 2356,
     "status": "ok",
     "timestamp": 1676837587088,
     "user": {
      "displayName": "Mike Henderson",
      "userId": "11664017018095232389"
     },
     "user_tz": 300
    },
    "id": "3kM9L6eqC4Kg",
    "outputId": "4316dc98-a33a-4927-fca1-13baa525707f"
   },
   "outputs": [
    {
     "data": {
      "text/html": [
       "\n",
       "  <div id=\"df-4cb91e86-6d32-4a1c-b002-498860d994e1\">\n",
       "    <div class=\"colab-df-container\">\n",
       "      <div>\n",
       "<style scoped>\n",
       "    .dataframe tbody tr th:only-of-type {\n",
       "        vertical-align: middle;\n",
       "    }\n",
       "\n",
       "    .dataframe tbody tr th {\n",
       "        vertical-align: top;\n",
       "    }\n",
       "\n",
       "    .dataframe thead th {\n",
       "        text-align: right;\n",
       "    }\n",
       "</style>\n",
       "<table border=\"1\" class=\"dataframe\">\n",
       "  <thead>\n",
       "    <tr style=\"text-align: right;\">\n",
       "      <th></th>\n",
       "      <th>week</th>\n",
       "      <th>weekly_commits</th>\n",
       "      <th>commits</th>\n",
       "      <th>diff</th>\n",
       "    </tr>\n",
       "  </thead>\n",
       "  <tbody>\n",
       "    <tr>\n",
       "      <th>0</th>\n",
       "      <td>2023-01-29</td>\n",
       "      <td>15.0</td>\n",
       "      <td>17</td>\n",
       "      <td>-2.0</td>\n",
       "    </tr>\n",
       "    <tr>\n",
       "      <th>1</th>\n",
       "      <td>2023-01-22</td>\n",
       "      <td>9.0</td>\n",
       "      <td>11</td>\n",
       "      <td>-2.0</td>\n",
       "    </tr>\n",
       "    <tr>\n",
       "      <th>2</th>\n",
       "      <td>2023-01-08</td>\n",
       "      <td>8.0</td>\n",
       "      <td>9</td>\n",
       "      <td>-1.0</td>\n",
       "    </tr>\n",
       "    <tr>\n",
       "      <th>3</th>\n",
       "      <td>2022-10-16</td>\n",
       "      <td>14.0</td>\n",
       "      <td>15</td>\n",
       "      <td>-1.0</td>\n",
       "    </tr>\n",
       "    <tr>\n",
       "      <th>4</th>\n",
       "      <td>2022-08-21</td>\n",
       "      <td>17.0</td>\n",
       "      <td>18</td>\n",
       "      <td>-1.0</td>\n",
       "    </tr>\n",
       "    <tr>\n",
       "      <th>5</th>\n",
       "      <td>2022-05-22</td>\n",
       "      <td>13.0</td>\n",
       "      <td>14</td>\n",
       "      <td>-1.0</td>\n",
       "    </tr>\n",
       "    <tr>\n",
       "      <th>6</th>\n",
       "      <td>2022-03-13</td>\n",
       "      <td>14.0</td>\n",
       "      <td>16</td>\n",
       "      <td>-2.0</td>\n",
       "    </tr>\n",
       "  </tbody>\n",
       "</table>\n",
       "</div>\n",
       "      <button class=\"colab-df-convert\" onclick=\"convertToInteractive('df-4cb91e86-6d32-4a1c-b002-498860d994e1')\"\n",
       "              title=\"Convert this dataframe to an interactive table.\"\n",
       "              style=\"display:none;\">\n",
       "        \n",
       "  <svg xmlns=\"http://www.w3.org/2000/svg\" height=\"24px\"viewBox=\"0 0 24 24\"\n",
       "       width=\"24px\">\n",
       "    <path d=\"M0 0h24v24H0V0z\" fill=\"none\"/>\n",
       "    <path d=\"M18.56 5.44l.94 2.06.94-2.06 2.06-.94-2.06-.94-.94-2.06-.94 2.06-2.06.94zm-11 1L8.5 8.5l.94-2.06 2.06-.94-2.06-.94L8.5 2.5l-.94 2.06-2.06.94zm10 10l.94 2.06.94-2.06 2.06-.94-2.06-.94-.94-2.06-.94 2.06-2.06.94z\"/><path d=\"M17.41 7.96l-1.37-1.37c-.4-.4-.92-.59-1.43-.59-.52 0-1.04.2-1.43.59L10.3 9.45l-7.72 7.72c-.78.78-.78 2.05 0 2.83L4 21.41c.39.39.9.59 1.41.59.51 0 1.02-.2 1.41-.59l7.78-7.78 2.81-2.81c.8-.78.8-2.07 0-2.86zM5.41 20L4 18.59l7.72-7.72 1.47 1.35L5.41 20z\"/>\n",
       "  </svg>\n",
       "      </button>\n",
       "      \n",
       "  <style>\n",
       "    .colab-df-container {\n",
       "      display:flex;\n",
       "      flex-wrap:wrap;\n",
       "      gap: 12px;\n",
       "    }\n",
       "\n",
       "    .colab-df-convert {\n",
       "      background-color: #E8F0FE;\n",
       "      border: none;\n",
       "      border-radius: 50%;\n",
       "      cursor: pointer;\n",
       "      display: none;\n",
       "      fill: #1967D2;\n",
       "      height: 32px;\n",
       "      padding: 0 0 0 0;\n",
       "      width: 32px;\n",
       "    }\n",
       "\n",
       "    .colab-df-convert:hover {\n",
       "      background-color: #E2EBFA;\n",
       "      box-shadow: 0px 1px 2px rgba(60, 64, 67, 0.3), 0px 1px 3px 1px rgba(60, 64, 67, 0.15);\n",
       "      fill: #174EA6;\n",
       "    }\n",
       "\n",
       "    [theme=dark] .colab-df-convert {\n",
       "      background-color: #3B4455;\n",
       "      fill: #D2E3FC;\n",
       "    }\n",
       "\n",
       "    [theme=dark] .colab-df-convert:hover {\n",
       "      background-color: #434B5C;\n",
       "      box-shadow: 0px 1px 3px 1px rgba(0, 0, 0, 0.15);\n",
       "      filter: drop-shadow(0px 1px 2px rgba(0, 0, 0, 0.3));\n",
       "      fill: #FFFFFF;\n",
       "    }\n",
       "  </style>\n",
       "\n",
       "      <script>\n",
       "        const buttonEl =\n",
       "          document.querySelector('#df-4cb91e86-6d32-4a1c-b002-498860d994e1 button.colab-df-convert');\n",
       "        buttonEl.style.display =\n",
       "          google.colab.kernel.accessAllowed ? 'block' : 'none';\n",
       "\n",
       "        async function convertToInteractive(key) {\n",
       "          const element = document.querySelector('#df-4cb91e86-6d32-4a1c-b002-498860d994e1');\n",
       "          const dataTable =\n",
       "            await google.colab.kernel.invokeFunction('convertToInteractive',\n",
       "                                                     [key], {});\n",
       "          if (!dataTable) return;\n",
       "\n",
       "          const docLinkHtml = 'Like what you see? Visit the ' +\n",
       "            '<a target=\"_blank\" href=https://colab.research.google.com/notebooks/data_table.ipynb>data table notebook</a>'\n",
       "            + ' to learn more about interactive tables.';\n",
       "          element.innerHTML = '';\n",
       "          dataTable['output_type'] = 'display_data';\n",
       "          await google.colab.output.renderOutput(dataTable, element);\n",
       "          const docLink = document.createElement('div');\n",
       "          docLink.innerHTML = docLinkHtml;\n",
       "          element.appendChild(docLink);\n",
       "        }\n",
       "      </script>\n",
       "    </div>\n",
       "  </div>\n",
       "  "
      ],
      "text/plain": [
       "         week  weekly_commits  commits  diff\n",
       "0  2023-01-29            15.0       17  -2.0\n",
       "1  2023-01-22             9.0       11  -2.0\n",
       "2  2023-01-08             8.0        9  -1.0\n",
       "3  2022-10-16            14.0       15  -1.0\n",
       "4  2022-08-21            17.0       18  -1.0\n",
       "5  2022-05-22            13.0       14  -1.0\n",
       "6  2022-03-13            14.0       16  -2.0"
      ]
     },
     "execution_count": 196,
     "metadata": {},
     "output_type": "execute_result"
    }
   ],
   "source": [
    "# does weekly_commits match the data in commits?\n",
    "query = f\"\"\"\n",
    "WITH\n",
    "  weekly_commits AS (\n",
    "    SELECT\n",
    "      EXTRACT(DATE FROM TIMESTAMP_SECONDS(week)) AS week,\n",
    "      commits\n",
    "    FROM `{BQ_PROJECT}.{BQ_DATASET}.weekly_commits`\n",
    "    ORDER BY week\n",
    "  ),\n",
    "  commits AS (\n",
    "    SELECT\n",
    "      DATE_TRUNC(EXTRACT(DATE FROM TIMESTAMP(datetime)), WEEK) AS week,\n",
    "      #EXTRACT(DATE FROM TIMESTAMP_TRUNC(TIMESTAMP_SECONDS(datetime), WEEK)) AS week,\n",
    "      count(*) AS commits\n",
    "    FROM `{BQ_PROJECT}.{BQ_DATASET}.commits`\n",
    "    GROUP BY week\n",
    "    ORDER BY week \n",
    "  ),\n",
    "  combo AS (\n",
    "    SELECT week, weekly_commits.commits as weekly_commits, commits.commits as commits, weekly_commits.commits - commits.commits as diff\n",
    "    FROM weekly_commits\n",
    "    JOIN commits\n",
    "    USING(week)\n",
    "  ),\n",
    "  diffs AS (\n",
    "    SELECT *\n",
    "    FROM combo\n",
    "    WHERE diff != 0\n",
    "  )\n",
    "SELECT *\n",
    "FROM diffs\n",
    "#JOIN combo\n",
    "#USING(week)\n",
    "\"\"\"\n",
    "bq.query(query).to_dataframe()"
   ]
  },
  {
   "cell_type": "code",
   "execution_count": 199,
   "metadata": {
    "colab": {
     "base_uri": "https://localhost:8080/",
     "height": 927
    },
    "executionInfo": {
     "elapsed": 2550,
     "status": "ok",
     "timestamp": 1676837820036,
     "user": {
      "displayName": "Mike Henderson",
      "userId": "11664017018095232389"
     },
     "user_tz": 300
    },
    "id": "YnmZDQOjKFmP",
    "outputId": "babac3be-2abe-4e68-e171-6220c64c2fb0"
   },
   "outputs": [
    {
     "data": {
      "text/html": [
       "\n",
       "  <div id=\"df-1329d55d-48bb-4059-bcc8-fbbfe6227a39\">\n",
       "    <div class=\"colab-df-container\">\n",
       "      <div>\n",
       "<style scoped>\n",
       "    .dataframe tbody tr th:only-of-type {\n",
       "        vertical-align: middle;\n",
       "    }\n",
       "\n",
       "    .dataframe tbody tr th {\n",
       "        vertical-align: top;\n",
       "    }\n",
       "\n",
       "    .dataframe thead th {\n",
       "        text-align: right;\n",
       "    }\n",
       "</style>\n",
       "<table border=\"1\" class=\"dataframe\">\n",
       "  <thead>\n",
       "    <tr style=\"text-align: right;\">\n",
       "      <th></th>\n",
       "      <th>author</th>\n",
       "      <th>week</th>\n",
       "      <th>author_weekly_commits</th>\n",
       "      <th>commits</th>\n",
       "      <th>diff</th>\n",
       "    </tr>\n",
       "  </thead>\n",
       "  <tbody>\n",
       "    <tr>\n",
       "      <th>0</th>\n",
       "      <td>statmike</td>\n",
       "      <td>2021-03-28</td>\n",
       "      <td>0</td>\n",
       "      <td>8</td>\n",
       "      <td>-8</td>\n",
       "    </tr>\n",
       "    <tr>\n",
       "      <th>1</th>\n",
       "      <td>statmike</td>\n",
       "      <td>2022-05-15</td>\n",
       "      <td>0</td>\n",
       "      <td>2</td>\n",
       "      <td>-2</td>\n",
       "    </tr>\n",
       "    <tr>\n",
       "      <th>2</th>\n",
       "      <td>statmike</td>\n",
       "      <td>2021-08-08</td>\n",
       "      <td>0</td>\n",
       "      <td>4</td>\n",
       "      <td>-4</td>\n",
       "    </tr>\n",
       "    <tr>\n",
       "      <th>3</th>\n",
       "      <td>statmike</td>\n",
       "      <td>2021-07-18</td>\n",
       "      <td>0</td>\n",
       "      <td>4</td>\n",
       "      <td>-4</td>\n",
       "    </tr>\n",
       "    <tr>\n",
       "      <th>4</th>\n",
       "      <td>statmike</td>\n",
       "      <td>2022-03-27</td>\n",
       "      <td>0</td>\n",
       "      <td>7</td>\n",
       "      <td>-7</td>\n",
       "    </tr>\n",
       "    <tr>\n",
       "      <th>5</th>\n",
       "      <td>statmike</td>\n",
       "      <td>2021-07-04</td>\n",
       "      <td>0</td>\n",
       "      <td>9</td>\n",
       "      <td>-9</td>\n",
       "    </tr>\n",
       "    <tr>\n",
       "      <th>6</th>\n",
       "      <td>statmike</td>\n",
       "      <td>2022-04-17</td>\n",
       "      <td>0</td>\n",
       "      <td>2</td>\n",
       "      <td>-2</td>\n",
       "    </tr>\n",
       "    <tr>\n",
       "      <th>7</th>\n",
       "      <td>statmike</td>\n",
       "      <td>2021-04-04</td>\n",
       "      <td>0</td>\n",
       "      <td>12</td>\n",
       "      <td>-12</td>\n",
       "    </tr>\n",
       "    <tr>\n",
       "      <th>8</th>\n",
       "      <td>statmike</td>\n",
       "      <td>2021-06-20</td>\n",
       "      <td>0</td>\n",
       "      <td>1</td>\n",
       "      <td>-1</td>\n",
       "    </tr>\n",
       "    <tr>\n",
       "      <th>9</th>\n",
       "      <td>statmike</td>\n",
       "      <td>2022-04-10</td>\n",
       "      <td>0</td>\n",
       "      <td>4</td>\n",
       "      <td>-4</td>\n",
       "    </tr>\n",
       "    <tr>\n",
       "      <th>10</th>\n",
       "      <td>statmike</td>\n",
       "      <td>2022-05-01</td>\n",
       "      <td>0</td>\n",
       "      <td>1</td>\n",
       "      <td>-1</td>\n",
       "    </tr>\n",
       "    <tr>\n",
       "      <th>11</th>\n",
       "      <td>statmike</td>\n",
       "      <td>2021-06-06</td>\n",
       "      <td>0</td>\n",
       "      <td>1</td>\n",
       "      <td>-1</td>\n",
       "    </tr>\n",
       "    <tr>\n",
       "      <th>12</th>\n",
       "      <td>statmike</td>\n",
       "      <td>2021-04-11</td>\n",
       "      <td>0</td>\n",
       "      <td>15</td>\n",
       "      <td>-15</td>\n",
       "    </tr>\n",
       "    <tr>\n",
       "      <th>13</th>\n",
       "      <td>statmike</td>\n",
       "      <td>2022-04-03</td>\n",
       "      <td>0</td>\n",
       "      <td>6</td>\n",
       "      <td>-6</td>\n",
       "    </tr>\n",
       "    <tr>\n",
       "      <th>14</th>\n",
       "      <td>statmike</td>\n",
       "      <td>2021-09-12</td>\n",
       "      <td>0</td>\n",
       "      <td>15</td>\n",
       "      <td>-15</td>\n",
       "    </tr>\n",
       "    <tr>\n",
       "      <th>15</th>\n",
       "      <td>statmike</td>\n",
       "      <td>2021-07-11</td>\n",
       "      <td>1</td>\n",
       "      <td>5</td>\n",
       "      <td>-4</td>\n",
       "    </tr>\n",
       "    <tr>\n",
       "      <th>16</th>\n",
       "      <td>statmike</td>\n",
       "      <td>2022-05-22</td>\n",
       "      <td>1</td>\n",
       "      <td>14</td>\n",
       "      <td>-13</td>\n",
       "    </tr>\n",
       "    <tr>\n",
       "      <th>17</th>\n",
       "      <td>statmike</td>\n",
       "      <td>2021-04-18</td>\n",
       "      <td>2</td>\n",
       "      <td>3</td>\n",
       "      <td>-1</td>\n",
       "    </tr>\n",
       "    <tr>\n",
       "      <th>18</th>\n",
       "      <td>statmike</td>\n",
       "      <td>2021-09-19</td>\n",
       "      <td>3</td>\n",
       "      <td>12</td>\n",
       "      <td>-9</td>\n",
       "    </tr>\n",
       "    <tr>\n",
       "      <th>19</th>\n",
       "      <td>statmike</td>\n",
       "      <td>2022-01-23</td>\n",
       "      <td>4</td>\n",
       "      <td>5</td>\n",
       "      <td>-1</td>\n",
       "    </tr>\n",
       "    <tr>\n",
       "      <th>20</th>\n",
       "      <td>statmike</td>\n",
       "      <td>2023-01-22</td>\n",
       "      <td>5</td>\n",
       "      <td>7</td>\n",
       "      <td>-2</td>\n",
       "    </tr>\n",
       "    <tr>\n",
       "      <th>21</th>\n",
       "      <td>statmike</td>\n",
       "      <td>2022-03-20</td>\n",
       "      <td>5</td>\n",
       "      <td>6</td>\n",
       "      <td>-1</td>\n",
       "    </tr>\n",
       "    <tr>\n",
       "      <th>22</th>\n",
       "      <td>statmike</td>\n",
       "      <td>2023-01-08</td>\n",
       "      <td>6</td>\n",
       "      <td>7</td>\n",
       "      <td>-1</td>\n",
       "    </tr>\n",
       "    <tr>\n",
       "      <th>23</th>\n",
       "      <td>statmike</td>\n",
       "      <td>2022-11-13</td>\n",
       "      <td>6</td>\n",
       "      <td>7</td>\n",
       "      <td>-1</td>\n",
       "    </tr>\n",
       "    <tr>\n",
       "      <th>24</th>\n",
       "      <td>statmike</td>\n",
       "      <td>2022-10-16</td>\n",
       "      <td>12</td>\n",
       "      <td>13</td>\n",
       "      <td>-1</td>\n",
       "    </tr>\n",
       "    <tr>\n",
       "      <th>25</th>\n",
       "      <td>statmike</td>\n",
       "      <td>2023-01-29</td>\n",
       "      <td>13</td>\n",
       "      <td>15</td>\n",
       "      <td>-2</td>\n",
       "    </tr>\n",
       "    <tr>\n",
       "      <th>26</th>\n",
       "      <td>statmike</td>\n",
       "      <td>2022-03-13</td>\n",
       "      <td>14</td>\n",
       "      <td>16</td>\n",
       "      <td>-2</td>\n",
       "    </tr>\n",
       "    <tr>\n",
       "      <th>27</th>\n",
       "      <td>statmike</td>\n",
       "      <td>2022-08-21</td>\n",
       "      <td>17</td>\n",
       "      <td>18</td>\n",
       "      <td>-1</td>\n",
       "    </tr>\n",
       "  </tbody>\n",
       "</table>\n",
       "</div>\n",
       "      <button class=\"colab-df-convert\" onclick=\"convertToInteractive('df-1329d55d-48bb-4059-bcc8-fbbfe6227a39')\"\n",
       "              title=\"Convert this dataframe to an interactive table.\"\n",
       "              style=\"display:none;\">\n",
       "        \n",
       "  <svg xmlns=\"http://www.w3.org/2000/svg\" height=\"24px\"viewBox=\"0 0 24 24\"\n",
       "       width=\"24px\">\n",
       "    <path d=\"M0 0h24v24H0V0z\" fill=\"none\"/>\n",
       "    <path d=\"M18.56 5.44l.94 2.06.94-2.06 2.06-.94-2.06-.94-.94-2.06-.94 2.06-2.06.94zm-11 1L8.5 8.5l.94-2.06 2.06-.94-2.06-.94L8.5 2.5l-.94 2.06-2.06.94zm10 10l.94 2.06.94-2.06 2.06-.94-2.06-.94-.94-2.06-.94 2.06-2.06.94z\"/><path d=\"M17.41 7.96l-1.37-1.37c-.4-.4-.92-.59-1.43-.59-.52 0-1.04.2-1.43.59L10.3 9.45l-7.72 7.72c-.78.78-.78 2.05 0 2.83L4 21.41c.39.39.9.59 1.41.59.51 0 1.02-.2 1.41-.59l7.78-7.78 2.81-2.81c.8-.78.8-2.07 0-2.86zM5.41 20L4 18.59l7.72-7.72 1.47 1.35L5.41 20z\"/>\n",
       "  </svg>\n",
       "      </button>\n",
       "      \n",
       "  <style>\n",
       "    .colab-df-container {\n",
       "      display:flex;\n",
       "      flex-wrap:wrap;\n",
       "      gap: 12px;\n",
       "    }\n",
       "\n",
       "    .colab-df-convert {\n",
       "      background-color: #E8F0FE;\n",
       "      border: none;\n",
       "      border-radius: 50%;\n",
       "      cursor: pointer;\n",
       "      display: none;\n",
       "      fill: #1967D2;\n",
       "      height: 32px;\n",
       "      padding: 0 0 0 0;\n",
       "      width: 32px;\n",
       "    }\n",
       "\n",
       "    .colab-df-convert:hover {\n",
       "      background-color: #E2EBFA;\n",
       "      box-shadow: 0px 1px 2px rgba(60, 64, 67, 0.3), 0px 1px 3px 1px rgba(60, 64, 67, 0.15);\n",
       "      fill: #174EA6;\n",
       "    }\n",
       "\n",
       "    [theme=dark] .colab-df-convert {\n",
       "      background-color: #3B4455;\n",
       "      fill: #D2E3FC;\n",
       "    }\n",
       "\n",
       "    [theme=dark] .colab-df-convert:hover {\n",
       "      background-color: #434B5C;\n",
       "      box-shadow: 0px 1px 3px 1px rgba(0, 0, 0, 0.15);\n",
       "      filter: drop-shadow(0px 1px 2px rgba(0, 0, 0, 0.3));\n",
       "      fill: #FFFFFF;\n",
       "    }\n",
       "  </style>\n",
       "\n",
       "      <script>\n",
       "        const buttonEl =\n",
       "          document.querySelector('#df-1329d55d-48bb-4059-bcc8-fbbfe6227a39 button.colab-df-convert');\n",
       "        buttonEl.style.display =\n",
       "          google.colab.kernel.accessAllowed ? 'block' : 'none';\n",
       "\n",
       "        async function convertToInteractive(key) {\n",
       "          const element = document.querySelector('#df-1329d55d-48bb-4059-bcc8-fbbfe6227a39');\n",
       "          const dataTable =\n",
       "            await google.colab.kernel.invokeFunction('convertToInteractive',\n",
       "                                                     [key], {});\n",
       "          if (!dataTable) return;\n",
       "\n",
       "          const docLinkHtml = 'Like what you see? Visit the ' +\n",
       "            '<a target=\"_blank\" href=https://colab.research.google.com/notebooks/data_table.ipynb>data table notebook</a>'\n",
       "            + ' to learn more about interactive tables.';\n",
       "          element.innerHTML = '';\n",
       "          dataTable['output_type'] = 'display_data';\n",
       "          await google.colab.output.renderOutput(dataTable, element);\n",
       "          const docLink = document.createElement('div');\n",
       "          docLink.innerHTML = docLinkHtml;\n",
       "          element.appendChild(docLink);\n",
       "        }\n",
       "      </script>\n",
       "    </div>\n",
       "  </div>\n",
       "  "
      ],
      "text/plain": [
       "      author        week  author_weekly_commits  commits  diff\n",
       "0   statmike  2021-03-28                      0        8    -8\n",
       "1   statmike  2022-05-15                      0        2    -2\n",
       "2   statmike  2021-08-08                      0        4    -4\n",
       "3   statmike  2021-07-18                      0        4    -4\n",
       "4   statmike  2022-03-27                      0        7    -7\n",
       "5   statmike  2021-07-04                      0        9    -9\n",
       "6   statmike  2022-04-17                      0        2    -2\n",
       "7   statmike  2021-04-04                      0       12   -12\n",
       "8   statmike  2021-06-20                      0        1    -1\n",
       "9   statmike  2022-04-10                      0        4    -4\n",
       "10  statmike  2022-05-01                      0        1    -1\n",
       "11  statmike  2021-06-06                      0        1    -1\n",
       "12  statmike  2021-04-11                      0       15   -15\n",
       "13  statmike  2022-04-03                      0        6    -6\n",
       "14  statmike  2021-09-12                      0       15   -15\n",
       "15  statmike  2021-07-11                      1        5    -4\n",
       "16  statmike  2022-05-22                      1       14   -13\n",
       "17  statmike  2021-04-18                      2        3    -1\n",
       "18  statmike  2021-09-19                      3       12    -9\n",
       "19  statmike  2022-01-23                      4        5    -1\n",
       "20  statmike  2023-01-22                      5        7    -2\n",
       "21  statmike  2022-03-20                      5        6    -1\n",
       "22  statmike  2023-01-08                      6        7    -1\n",
       "23  statmike  2022-11-13                      6        7    -1\n",
       "24  statmike  2022-10-16                     12       13    -1\n",
       "25  statmike  2023-01-29                     13       15    -2\n",
       "26  statmike  2022-03-13                     14       16    -2\n",
       "27  statmike  2022-08-21                     17       18    -1"
      ]
     },
     "execution_count": 199,
     "metadata": {},
     "output_type": "execute_result"
    }
   ],
   "source": [
    "# does weekly_commits match the data in commits?\n",
    "query = f\"\"\"\n",
    "WITH\n",
    "  author_weekly_commits AS (\n",
    "    SELECT\n",
    "      author, \n",
    "      EXTRACT(DATE FROM TIMESTAMP_SECONDS(week)) AS week,\n",
    "      commits\n",
    "    FROM `{BQ_PROJECT}.{BQ_DATASET}.author_weekly_commits`\n",
    "    ORDER BY author, week\n",
    "  ),\n",
    "  commits AS (\n",
    "    SELECT\n",
    "      author,\n",
    "      DATE_TRUNC(EXTRACT(DATE FROM TIMESTAMP(datetime)), WEEK) AS week,\n",
    "      #EXTRACT(DATE FROM TIMESTAMP_TRUNC(TIMESTAMP_SECONDS(datetime), WEEK)) AS week,\n",
    "      count(*) AS commits\n",
    "    FROM `{BQ_PROJECT}.{BQ_DATASET}.commits`\n",
    "    GROUP BY author, week\n",
    "    ORDER BY author, week \n",
    "  ),\n",
    "  combo AS (\n",
    "    SELECT author, week, author_weekly_commits.commits as author_weekly_commits, commits.commits as commits, author_weekly_commits.commits - commits.commits as diff\n",
    "    FROM author_weekly_commits\n",
    "    JOIN commits\n",
    "    USING(author, week)\n",
    "  ),\n",
    "  diffs AS (\n",
    "    SELECT *\n",
    "    FROM combo\n",
    "    WHERE diff != 0\n",
    "  )\n",
    "SELECT *\n",
    "FROM diffs\n",
    "#JOIN combo\n",
    "#USING(week)\n",
    "\"\"\"\n",
    "bq.query(query).to_dataframe()"
   ]
  },
  {
   "cell_type": "code",
   "execution_count": 201,
   "metadata": {
    "colab": {
     "base_uri": "https://localhost:8080/",
     "height": 81
    },
    "executionInfo": {
     "elapsed": 1869,
     "status": "ok",
     "timestamp": 1676837954844,
     "user": {
      "displayName": "Mike Henderson",
      "userId": "11664017018095232389"
     },
     "user_tz": 300
    },
    "id": "1XcwmRkCKFhb",
    "outputId": "e5c38a66-c9ac-4686-c140-c2615f18db3d"
   },
   "outputs": [
    {
     "data": {
      "text/html": [
       "\n",
       "  <div id=\"df-b5327587-d924-49f0-a50e-f0fa8ed2e7ea\">\n",
       "    <div class=\"colab-df-container\">\n",
       "      <div>\n",
       "<style scoped>\n",
       "    .dataframe tbody tr th:only-of-type {\n",
       "        vertical-align: middle;\n",
       "    }\n",
       "\n",
       "    .dataframe tbody tr th {\n",
       "        vertical-align: top;\n",
       "    }\n",
       "\n",
       "    .dataframe thead th {\n",
       "        text-align: right;\n",
       "    }\n",
       "</style>\n",
       "<table border=\"1\" class=\"dataframe\">\n",
       "  <thead>\n",
       "    <tr style=\"text-align: right;\">\n",
       "      <th></th>\n",
       "      <th>f0_</th>\n",
       "    </tr>\n",
       "  </thead>\n",
       "  <tbody>\n",
       "    <tr>\n",
       "      <th>0</th>\n",
       "      <td>503.0</td>\n",
       "    </tr>\n",
       "  </tbody>\n",
       "</table>\n",
       "</div>\n",
       "      <button class=\"colab-df-convert\" onclick=\"convertToInteractive('df-b5327587-d924-49f0-a50e-f0fa8ed2e7ea')\"\n",
       "              title=\"Convert this dataframe to an interactive table.\"\n",
       "              style=\"display:none;\">\n",
       "        \n",
       "  <svg xmlns=\"http://www.w3.org/2000/svg\" height=\"24px\"viewBox=\"0 0 24 24\"\n",
       "       width=\"24px\">\n",
       "    <path d=\"M0 0h24v24H0V0z\" fill=\"none\"/>\n",
       "    <path d=\"M18.56 5.44l.94 2.06.94-2.06 2.06-.94-2.06-.94-.94-2.06-.94 2.06-2.06.94zm-11 1L8.5 8.5l.94-2.06 2.06-.94-2.06-.94L8.5 2.5l-.94 2.06-2.06.94zm10 10l.94 2.06.94-2.06 2.06-.94-2.06-.94-.94-2.06-.94 2.06-2.06.94z\"/><path d=\"M17.41 7.96l-1.37-1.37c-.4-.4-.92-.59-1.43-.59-.52 0-1.04.2-1.43.59L10.3 9.45l-7.72 7.72c-.78.78-.78 2.05 0 2.83L4 21.41c.39.39.9.59 1.41.59.51 0 1.02-.2 1.41-.59l7.78-7.78 2.81-2.81c.8-.78.8-2.07 0-2.86zM5.41 20L4 18.59l7.72-7.72 1.47 1.35L5.41 20z\"/>\n",
       "  </svg>\n",
       "      </button>\n",
       "      \n",
       "  <style>\n",
       "    .colab-df-container {\n",
       "      display:flex;\n",
       "      flex-wrap:wrap;\n",
       "      gap: 12px;\n",
       "    }\n",
       "\n",
       "    .colab-df-convert {\n",
       "      background-color: #E8F0FE;\n",
       "      border: none;\n",
       "      border-radius: 50%;\n",
       "      cursor: pointer;\n",
       "      display: none;\n",
       "      fill: #1967D2;\n",
       "      height: 32px;\n",
       "      padding: 0 0 0 0;\n",
       "      width: 32px;\n",
       "    }\n",
       "\n",
       "    .colab-df-convert:hover {\n",
       "      background-color: #E2EBFA;\n",
       "      box-shadow: 0px 1px 2px rgba(60, 64, 67, 0.3), 0px 1px 3px 1px rgba(60, 64, 67, 0.15);\n",
       "      fill: #174EA6;\n",
       "    }\n",
       "\n",
       "    [theme=dark] .colab-df-convert {\n",
       "      background-color: #3B4455;\n",
       "      fill: #D2E3FC;\n",
       "    }\n",
       "\n",
       "    [theme=dark] .colab-df-convert:hover {\n",
       "      background-color: #434B5C;\n",
       "      box-shadow: 0px 1px 3px 1px rgba(0, 0, 0, 0.15);\n",
       "      filter: drop-shadow(0px 1px 2px rgba(0, 0, 0, 0.3));\n",
       "      fill: #FFFFFF;\n",
       "    }\n",
       "  </style>\n",
       "\n",
       "      <script>\n",
       "        const buttonEl =\n",
       "          document.querySelector('#df-b5327587-d924-49f0-a50e-f0fa8ed2e7ea button.colab-df-convert');\n",
       "        buttonEl.style.display =\n",
       "          google.colab.kernel.accessAllowed ? 'block' : 'none';\n",
       "\n",
       "        async function convertToInteractive(key) {\n",
       "          const element = document.querySelector('#df-b5327587-d924-49f0-a50e-f0fa8ed2e7ea');\n",
       "          const dataTable =\n",
       "            await google.colab.kernel.invokeFunction('convertToInteractive',\n",
       "                                                     [key], {});\n",
       "          if (!dataTable) return;\n",
       "\n",
       "          const docLinkHtml = 'Like what you see? Visit the ' +\n",
       "            '<a target=\"_blank\" href=https://colab.research.google.com/notebooks/data_table.ipynb>data table notebook</a>'\n",
       "            + ' to learn more about interactive tables.';\n",
       "          element.innerHTML = '';\n",
       "          dataTable['output_type'] = 'display_data';\n",
       "          await google.colab.output.renderOutput(dataTable, element);\n",
       "          const docLink = document.createElement('div');\n",
       "          docLink.innerHTML = docLinkHtml;\n",
       "          element.appendChild(docLink);\n",
       "        }\n",
       "      </script>\n",
       "    </div>\n",
       "  </div>\n",
       "  "
      ],
      "text/plain": [
       "     f0_\n",
       "0  503.0"
      ]
     },
     "execution_count": 201,
     "metadata": {},
     "output_type": "execute_result"
    }
   ],
   "source": [
    "# total commits in weekly_commits\n",
    "# recall that this file only has history for 52 week = 1 year\n",
    "query = f\"\"\"\n",
    "SELECT SUM(commits)\n",
    "FROM `{BQ_PROJECT}.{BQ_DATASET}.weekly_commits`\n",
    "\"\"\"\n",
    "bq.query(query).to_dataframe()"
   ]
  },
  {
   "cell_type": "code",
   "execution_count": 202,
   "metadata": {
    "colab": {
     "base_uri": "https://localhost:8080/",
     "height": 81
    },
    "executionInfo": {
     "elapsed": 2034,
     "status": "ok",
     "timestamp": 1676837969113,
     "user": {
      "displayName": "Mike Henderson",
      "userId": "11664017018095232389"
     },
     "user_tz": 300
    },
    "id": "gNSoRSF-KFfS",
    "outputId": "5367b1f4-d2ab-4836-f383-5433b0e345d9"
   },
   "outputs": [
    {
     "data": {
      "text/html": [
       "\n",
       "  <div id=\"df-f539bcd7-6dfc-469a-8e4d-8ca8d6328874\">\n",
       "    <div class=\"colab-df-container\">\n",
       "      <div>\n",
       "<style scoped>\n",
       "    .dataframe tbody tr th:only-of-type {\n",
       "        vertical-align: middle;\n",
       "    }\n",
       "\n",
       "    .dataframe tbody tr th {\n",
       "        vertical-align: top;\n",
       "    }\n",
       "\n",
       "    .dataframe thead th {\n",
       "        text-align: right;\n",
       "    }\n",
       "</style>\n",
       "<table border=\"1\" class=\"dataframe\">\n",
       "  <thead>\n",
       "    <tr style=\"text-align: right;\">\n",
       "      <th></th>\n",
       "      <th>f0_</th>\n",
       "    </tr>\n",
       "  </thead>\n",
       "  <tbody>\n",
       "    <tr>\n",
       "      <th>0</th>\n",
       "      <td>579</td>\n",
       "    </tr>\n",
       "  </tbody>\n",
       "</table>\n",
       "</div>\n",
       "      <button class=\"colab-df-convert\" onclick=\"convertToInteractive('df-f539bcd7-6dfc-469a-8e4d-8ca8d6328874')\"\n",
       "              title=\"Convert this dataframe to an interactive table.\"\n",
       "              style=\"display:none;\">\n",
       "        \n",
       "  <svg xmlns=\"http://www.w3.org/2000/svg\" height=\"24px\"viewBox=\"0 0 24 24\"\n",
       "       width=\"24px\">\n",
       "    <path d=\"M0 0h24v24H0V0z\" fill=\"none\"/>\n",
       "    <path d=\"M18.56 5.44l.94 2.06.94-2.06 2.06-.94-2.06-.94-.94-2.06-.94 2.06-2.06.94zm-11 1L8.5 8.5l.94-2.06 2.06-.94-2.06-.94L8.5 2.5l-.94 2.06-2.06.94zm10 10l.94 2.06.94-2.06 2.06-.94-2.06-.94-.94-2.06-.94 2.06-2.06.94z\"/><path d=\"M17.41 7.96l-1.37-1.37c-.4-.4-.92-.59-1.43-.59-.52 0-1.04.2-1.43.59L10.3 9.45l-7.72 7.72c-.78.78-.78 2.05 0 2.83L4 21.41c.39.39.9.59 1.41.59.51 0 1.02-.2 1.41-.59l7.78-7.78 2.81-2.81c.8-.78.8-2.07 0-2.86zM5.41 20L4 18.59l7.72-7.72 1.47 1.35L5.41 20z\"/>\n",
       "  </svg>\n",
       "      </button>\n",
       "      \n",
       "  <style>\n",
       "    .colab-df-container {\n",
       "      display:flex;\n",
       "      flex-wrap:wrap;\n",
       "      gap: 12px;\n",
       "    }\n",
       "\n",
       "    .colab-df-convert {\n",
       "      background-color: #E8F0FE;\n",
       "      border: none;\n",
       "      border-radius: 50%;\n",
       "      cursor: pointer;\n",
       "      display: none;\n",
       "      fill: #1967D2;\n",
       "      height: 32px;\n",
       "      padding: 0 0 0 0;\n",
       "      width: 32px;\n",
       "    }\n",
       "\n",
       "    .colab-df-convert:hover {\n",
       "      background-color: #E2EBFA;\n",
       "      box-shadow: 0px 1px 2px rgba(60, 64, 67, 0.3), 0px 1px 3px 1px rgba(60, 64, 67, 0.15);\n",
       "      fill: #174EA6;\n",
       "    }\n",
       "\n",
       "    [theme=dark] .colab-df-convert {\n",
       "      background-color: #3B4455;\n",
       "      fill: #D2E3FC;\n",
       "    }\n",
       "\n",
       "    [theme=dark] .colab-df-convert:hover {\n",
       "      background-color: #434B5C;\n",
       "      box-shadow: 0px 1px 3px 1px rgba(0, 0, 0, 0.15);\n",
       "      filter: drop-shadow(0px 1px 2px rgba(0, 0, 0, 0.3));\n",
       "      fill: #FFFFFF;\n",
       "    }\n",
       "  </style>\n",
       "\n",
       "      <script>\n",
       "        const buttonEl =\n",
       "          document.querySelector('#df-f539bcd7-6dfc-469a-8e4d-8ca8d6328874 button.colab-df-convert');\n",
       "        buttonEl.style.display =\n",
       "          google.colab.kernel.accessAllowed ? 'block' : 'none';\n",
       "\n",
       "        async function convertToInteractive(key) {\n",
       "          const element = document.querySelector('#df-f539bcd7-6dfc-469a-8e4d-8ca8d6328874');\n",
       "          const dataTable =\n",
       "            await google.colab.kernel.invokeFunction('convertToInteractive',\n",
       "                                                     [key], {});\n",
       "          if (!dataTable) return;\n",
       "\n",
       "          const docLinkHtml = 'Like what you see? Visit the ' +\n",
       "            '<a target=\"_blank\" href=https://colab.research.google.com/notebooks/data_table.ipynb>data table notebook</a>'\n",
       "            + ' to learn more about interactive tables.';\n",
       "          element.innerHTML = '';\n",
       "          dataTable['output_type'] = 'display_data';\n",
       "          await google.colab.output.renderOutput(dataTable, element);\n",
       "          const docLink = document.createElement('div');\n",
       "          docLink.innerHTML = docLinkHtml;\n",
       "          element.appendChild(docLink);\n",
       "        }\n",
       "      </script>\n",
       "    </div>\n",
       "  </div>\n",
       "  "
      ],
      "text/plain": [
       "   f0_\n",
       "0  579"
      ]
     },
     "execution_count": 202,
     "metadata": {},
     "output_type": "execute_result"
    }
   ],
   "source": [
    "# total commits in author_weekly_commits\n",
    "query = f\"\"\"\n",
    "SELECT SUM(commits)\n",
    "FROM `{BQ_PROJECT}.{BQ_DATASET}.author_weekly_commits`\n",
    "\"\"\"\n",
    "bq.query(query).to_dataframe()"
   ]
  },
  {
   "cell_type": "code",
   "execution_count": 203,
   "metadata": {
    "colab": {
     "base_uri": "https://localhost:8080/",
     "height": 81
    },
    "executionInfo": {
     "elapsed": 2612,
     "status": "ok",
     "timestamp": 1676838008304,
     "user": {
      "displayName": "Mike Henderson",
      "userId": "11664017018095232389"
     },
     "user_tz": 300
    },
    "id": "CiTeebgkKFci",
    "outputId": "83cbc539-64ac-4931-b3d8-6a70e49b592d"
   },
   "outputs": [
    {
     "data": {
      "text/html": [
       "\n",
       "  <div id=\"df-5b8e55cd-882d-46d7-b3a7-2f1db82863d0\">\n",
       "    <div class=\"colab-df-container\">\n",
       "      <div>\n",
       "<style scoped>\n",
       "    .dataframe tbody tr th:only-of-type {\n",
       "        vertical-align: middle;\n",
       "    }\n",
       "\n",
       "    .dataframe tbody tr th {\n",
       "        vertical-align: top;\n",
       "    }\n",
       "\n",
       "    .dataframe thead th {\n",
       "        text-align: right;\n",
       "    }\n",
       "</style>\n",
       "<table border=\"1\" class=\"dataframe\">\n",
       "  <thead>\n",
       "    <tr style=\"text-align: right;\">\n",
       "      <th></th>\n",
       "      <th>f0_</th>\n",
       "    </tr>\n",
       "  </thead>\n",
       "  <tbody>\n",
       "    <tr>\n",
       "      <th>0</th>\n",
       "      <td>709</td>\n",
       "    </tr>\n",
       "  </tbody>\n",
       "</table>\n",
       "</div>\n",
       "      <button class=\"colab-df-convert\" onclick=\"convertToInteractive('df-5b8e55cd-882d-46d7-b3a7-2f1db82863d0')\"\n",
       "              title=\"Convert this dataframe to an interactive table.\"\n",
       "              style=\"display:none;\">\n",
       "        \n",
       "  <svg xmlns=\"http://www.w3.org/2000/svg\" height=\"24px\"viewBox=\"0 0 24 24\"\n",
       "       width=\"24px\">\n",
       "    <path d=\"M0 0h24v24H0V0z\" fill=\"none\"/>\n",
       "    <path d=\"M18.56 5.44l.94 2.06.94-2.06 2.06-.94-2.06-.94-.94-2.06-.94 2.06-2.06.94zm-11 1L8.5 8.5l.94-2.06 2.06-.94-2.06-.94L8.5 2.5l-.94 2.06-2.06.94zm10 10l.94 2.06.94-2.06 2.06-.94-2.06-.94-.94-2.06-.94 2.06-2.06.94z\"/><path d=\"M17.41 7.96l-1.37-1.37c-.4-.4-.92-.59-1.43-.59-.52 0-1.04.2-1.43.59L10.3 9.45l-7.72 7.72c-.78.78-.78 2.05 0 2.83L4 21.41c.39.39.9.59 1.41.59.51 0 1.02-.2 1.41-.59l7.78-7.78 2.81-2.81c.8-.78.8-2.07 0-2.86zM5.41 20L4 18.59l7.72-7.72 1.47 1.35L5.41 20z\"/>\n",
       "  </svg>\n",
       "      </button>\n",
       "      \n",
       "  <style>\n",
       "    .colab-df-container {\n",
       "      display:flex;\n",
       "      flex-wrap:wrap;\n",
       "      gap: 12px;\n",
       "    }\n",
       "\n",
       "    .colab-df-convert {\n",
       "      background-color: #E8F0FE;\n",
       "      border: none;\n",
       "      border-radius: 50%;\n",
       "      cursor: pointer;\n",
       "      display: none;\n",
       "      fill: #1967D2;\n",
       "      height: 32px;\n",
       "      padding: 0 0 0 0;\n",
       "      width: 32px;\n",
       "    }\n",
       "\n",
       "    .colab-df-convert:hover {\n",
       "      background-color: #E2EBFA;\n",
       "      box-shadow: 0px 1px 2px rgba(60, 64, 67, 0.3), 0px 1px 3px 1px rgba(60, 64, 67, 0.15);\n",
       "      fill: #174EA6;\n",
       "    }\n",
       "\n",
       "    [theme=dark] .colab-df-convert {\n",
       "      background-color: #3B4455;\n",
       "      fill: #D2E3FC;\n",
       "    }\n",
       "\n",
       "    [theme=dark] .colab-df-convert:hover {\n",
       "      background-color: #434B5C;\n",
       "      box-shadow: 0px 1px 3px 1px rgba(0, 0, 0, 0.15);\n",
       "      filter: drop-shadow(0px 1px 2px rgba(0, 0, 0, 0.3));\n",
       "      fill: #FFFFFF;\n",
       "    }\n",
       "  </style>\n",
       "\n",
       "      <script>\n",
       "        const buttonEl =\n",
       "          document.querySelector('#df-5b8e55cd-882d-46d7-b3a7-2f1db82863d0 button.colab-df-convert');\n",
       "        buttonEl.style.display =\n",
       "          google.colab.kernel.accessAllowed ? 'block' : 'none';\n",
       "\n",
       "        async function convertToInteractive(key) {\n",
       "          const element = document.querySelector('#df-5b8e55cd-882d-46d7-b3a7-2f1db82863d0');\n",
       "          const dataTable =\n",
       "            await google.colab.kernel.invokeFunction('convertToInteractive',\n",
       "                                                     [key], {});\n",
       "          if (!dataTable) return;\n",
       "\n",
       "          const docLinkHtml = 'Like what you see? Visit the ' +\n",
       "            '<a target=\"_blank\" href=https://colab.research.google.com/notebooks/data_table.ipynb>data table notebook</a>'\n",
       "            + ' to learn more about interactive tables.';\n",
       "          element.innerHTML = '';\n",
       "          dataTable['output_type'] = 'display_data';\n",
       "          await google.colab.output.renderOutput(dataTable, element);\n",
       "          const docLink = document.createElement('div');\n",
       "          docLink.innerHTML = docLinkHtml;\n",
       "          element.appendChild(docLink);\n",
       "        }\n",
       "      </script>\n",
       "    </div>\n",
       "  </div>\n",
       "  "
      ],
      "text/plain": [
       "   f0_\n",
       "0  709"
      ]
     },
     "execution_count": 203,
     "metadata": {},
     "output_type": "execute_result"
    }
   ],
   "source": [
    "# total commits in commits\n",
    "query = f\"\"\"\n",
    "SELECT count(*)\n",
    "FROM `{BQ_PROJECT}.{BQ_DATASET}.commits`\n",
    "\"\"\"\n",
    "bq.query(query).to_dataframe()"
   ]
  },
  {
   "cell_type": "code",
   "execution_count": 205,
   "metadata": {
    "colab": {
     "base_uri": "https://localhost:8080/",
     "height": 81
    },
    "executionInfo": {
     "elapsed": 2067,
     "status": "ok",
     "timestamp": 1676838072994,
     "user": {
      "displayName": "Mike Henderson",
      "userId": "11664017018095232389"
     },
     "user_tz": 300
    },
    "id": "iWSjb5TlKFaC",
    "outputId": "37ac6f09-bb0f-4b2d-ad18-3474d2069c71"
   },
   "outputs": [
    {
     "data": {
      "text/html": [
       "\n",
       "  <div id=\"df-57d4d1de-8cc7-441f-8448-b5c8c58617ee\">\n",
       "    <div class=\"colab-df-container\">\n",
       "      <div>\n",
       "<style scoped>\n",
       "    .dataframe tbody tr th:only-of-type {\n",
       "        vertical-align: middle;\n",
       "    }\n",
       "\n",
       "    .dataframe tbody tr th {\n",
       "        vertical-align: top;\n",
       "    }\n",
       "\n",
       "    .dataframe thead th {\n",
       "        text-align: right;\n",
       "    }\n",
       "</style>\n",
       "<table border=\"1\" class=\"dataframe\">\n",
       "  <thead>\n",
       "    <tr style=\"text-align: right;\">\n",
       "      <th></th>\n",
       "      <th>f0_</th>\n",
       "    </tr>\n",
       "  </thead>\n",
       "  <tbody>\n",
       "    <tr>\n",
       "      <th>0</th>\n",
       "      <td>709</td>\n",
       "    </tr>\n",
       "  </tbody>\n",
       "</table>\n",
       "</div>\n",
       "      <button class=\"colab-df-convert\" onclick=\"convertToInteractive('df-57d4d1de-8cc7-441f-8448-b5c8c58617ee')\"\n",
       "              title=\"Convert this dataframe to an interactive table.\"\n",
       "              style=\"display:none;\">\n",
       "        \n",
       "  <svg xmlns=\"http://www.w3.org/2000/svg\" height=\"24px\"viewBox=\"0 0 24 24\"\n",
       "       width=\"24px\">\n",
       "    <path d=\"M0 0h24v24H0V0z\" fill=\"none\"/>\n",
       "    <path d=\"M18.56 5.44l.94 2.06.94-2.06 2.06-.94-2.06-.94-.94-2.06-.94 2.06-2.06.94zm-11 1L8.5 8.5l.94-2.06 2.06-.94-2.06-.94L8.5 2.5l-.94 2.06-2.06.94zm10 10l.94 2.06.94-2.06 2.06-.94-2.06-.94-.94-2.06-.94 2.06-2.06.94z\"/><path d=\"M17.41 7.96l-1.37-1.37c-.4-.4-.92-.59-1.43-.59-.52 0-1.04.2-1.43.59L10.3 9.45l-7.72 7.72c-.78.78-.78 2.05 0 2.83L4 21.41c.39.39.9.59 1.41.59.51 0 1.02-.2 1.41-.59l7.78-7.78 2.81-2.81c.8-.78.8-2.07 0-2.86zM5.41 20L4 18.59l7.72-7.72 1.47 1.35L5.41 20z\"/>\n",
       "  </svg>\n",
       "      </button>\n",
       "      \n",
       "  <style>\n",
       "    .colab-df-container {\n",
       "      display:flex;\n",
       "      flex-wrap:wrap;\n",
       "      gap: 12px;\n",
       "    }\n",
       "\n",
       "    .colab-df-convert {\n",
       "      background-color: #E8F0FE;\n",
       "      border: none;\n",
       "      border-radius: 50%;\n",
       "      cursor: pointer;\n",
       "      display: none;\n",
       "      fill: #1967D2;\n",
       "      height: 32px;\n",
       "      padding: 0 0 0 0;\n",
       "      width: 32px;\n",
       "    }\n",
       "\n",
       "    .colab-df-convert:hover {\n",
       "      background-color: #E2EBFA;\n",
       "      box-shadow: 0px 1px 2px rgba(60, 64, 67, 0.3), 0px 1px 3px 1px rgba(60, 64, 67, 0.15);\n",
       "      fill: #174EA6;\n",
       "    }\n",
       "\n",
       "    [theme=dark] .colab-df-convert {\n",
       "      background-color: #3B4455;\n",
       "      fill: #D2E3FC;\n",
       "    }\n",
       "\n",
       "    [theme=dark] .colab-df-convert:hover {\n",
       "      background-color: #434B5C;\n",
       "      box-shadow: 0px 1px 3px 1px rgba(0, 0, 0, 0.15);\n",
       "      filter: drop-shadow(0px 1px 2px rgba(0, 0, 0, 0.3));\n",
       "      fill: #FFFFFF;\n",
       "    }\n",
       "  </style>\n",
       "\n",
       "      <script>\n",
       "        const buttonEl =\n",
       "          document.querySelector('#df-57d4d1de-8cc7-441f-8448-b5c8c58617ee button.colab-df-convert');\n",
       "        buttonEl.style.display =\n",
       "          google.colab.kernel.accessAllowed ? 'block' : 'none';\n",
       "\n",
       "        async function convertToInteractive(key) {\n",
       "          const element = document.querySelector('#df-57d4d1de-8cc7-441f-8448-b5c8c58617ee');\n",
       "          const dataTable =\n",
       "            await google.colab.kernel.invokeFunction('convertToInteractive',\n",
       "                                                     [key], {});\n",
       "          if (!dataTable) return;\n",
       "\n",
       "          const docLinkHtml = 'Like what you see? Visit the ' +\n",
       "            '<a target=\"_blank\" href=https://colab.research.google.com/notebooks/data_table.ipynb>data table notebook</a>'\n",
       "            + ' to learn more about interactive tables.';\n",
       "          element.innerHTML = '';\n",
       "          dataTable['output_type'] = 'display_data';\n",
       "          await google.colab.output.renderOutput(dataTable, element);\n",
       "          const docLink = document.createElement('div');\n",
       "          docLink.innerHTML = docLinkHtml;\n",
       "          element.appendChild(docLink);\n",
       "        }\n",
       "      </script>\n",
       "    </div>\n",
       "  </div>\n",
       "  "
      ],
      "text/plain": [
       "   f0_\n",
       "0  709"
      ]
     },
     "execution_count": 205,
     "metadata": {},
     "output_type": "execute_result"
    }
   ],
   "source": [
    "# total commits in commits_files\n",
    "query = f\"\"\"\n",
    "SELECT count(*)\n",
    "FROM\n",
    "(SELECT DISTINCT sha FROM `{BQ_PROJECT}.{BQ_DATASET}.commits_files`)\n",
    "\"\"\"\n",
    "bq.query(query).to_dataframe()"
   ]
  },
  {
   "cell_type": "markdown",
   "metadata": {
    "id": "qMnqBSLQVqHw"
   },
   "source": [
    "## Decision\n",
    "\n",
    "Only keep `commits` and `commits_files` as they are more detailed and have fully history of the repository as well as including commits that are part of pull request.  The logic for the builds also includes loading comitts that arrive late due to being pulled from branches and other users or local clone days after they are comitted."
   ]
  },
  {
   "cell_type": "code",
   "execution_count": 206,
   "metadata": {
    "executionInfo": {
     "elapsed": 254,
     "status": "ok",
     "timestamp": 1676838289576,
     "user": {
      "displayName": "Mike Henderson",
      "userId": "11664017018095232389"
     },
     "user_tz": 300
    },
    "id": "DOV1g8X6KFU3"
   },
   "outputs": [],
   "source": [
    "bq.delete_table(f\"{BQ_PROJECT}.{BQ_DATASET}.weekly_commits\", not_found_ok = True)"
   ]
  },
  {
   "cell_type": "code",
   "execution_count": 207,
   "metadata": {
    "executionInfo": {
     "elapsed": 349,
     "status": "ok",
     "timestamp": 1676838307786,
     "user": {
      "displayName": "Mike Henderson",
      "userId": "11664017018095232389"
     },
     "user_tz": 300
    },
    "id": "WCxHD3rbKFR2"
   },
   "outputs": [],
   "source": [
    "bq.delete_table(f\"{BQ_PROJECT}.{BQ_DATASET}.author_weekly_commits\", not_found_ok = True)"
   ]
  },
  {
   "cell_type": "code",
   "execution_count": 209,
   "metadata": {
    "colab": {
     "base_uri": "https://localhost:8080/"
    },
    "executionInfo": {
     "elapsed": 241,
     "status": "ok",
     "timestamp": 1676838500018,
     "user": {
      "displayName": "Mike Henderson",
      "userId": "11664017018095232389"
     },
     "user_tz": 300
    },
    "id": "ORFKj0soKFJK",
    "outputId": "4668a6ac-9c2c-4b8e-bd2b-b1fe678c3e21"
   },
   "outputs": [
    {
     "name": "stdout",
     "output_type": "stream",
     "text": [
      "vertex-ai-mlops-369716:github_metrics.commits\n",
      "vertex-ai-mlops-369716:github_metrics.commits_files\n"
     ]
    }
   ],
   "source": [
    "for t in list(bq.list_tables(f\"{BQ_PROJECT}.{BQ_DATASET}\")):\n",
    "  print(t.full_table_id)"
   ]
  },
  {
   "cell_type": "code",
   "execution_count": null,
   "metadata": {
    "id": "sGTeM9jRXNnH"
   },
   "outputs": [],
   "source": []
  }
 ],
 "metadata": {
  "colab": {
   "provenance": [],
   "toc_visible": true
  },
  "environment": {
   "kernel": "python3",
   "name": "tf2-gpu.2-3.m94",
   "type": "gcloud",
   "uri": "gcr.io/deeplearning-platform-release/tf2-gpu.2-3:m94"
  },
  "kernelspec": {
   "display_name": "Python 3",
   "language": "python",
   "name": "python3"
  },
  "language_info": {
   "codemirror_mode": {
    "name": "ipython",
    "version": 3
   },
   "file_extension": ".py",
   "mimetype": "text/x-python",
   "name": "python",
   "nbconvert_exporter": "python",
   "pygments_lexer": "ipython3",
   "version": "3.7.12"
  }
 },
 "nbformat": 4,
 "nbformat_minor": 4
}
