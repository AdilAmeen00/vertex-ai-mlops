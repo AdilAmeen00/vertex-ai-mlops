{
 "cells": [
  {
   "cell_type": "markdown",
   "id": "75b6b217-1890-40ba-8b62-7f09328e8001",
   "metadata": {},
   "source": [
    "# Visuals\n",
    "\n"
   ]
  },
  {
   "cell_type": "markdown",
   "id": "a2c96961-db13-4da4-8710-1eb5dd13457c",
   "metadata": {},
   "source": [
    "---\n",
    "## Colors"
   ]
  },
  {
   "cell_type": "code",
   "execution_count": 1,
   "id": "f277cecb-98f3-4a6a-a4a1-35798cf2792f",
   "metadata": {},
   "outputs": [],
   "source": [
    "gcolors = dict(\n",
    "    blue = ['#E8F0FE','#D2E3FC','#AECBFA','#8AB4F8','#669DF6','#4285F4','#1A73E8','#1967D2','#185ABC','#174EA6'],\n",
    "    red = ['#FCE8E6','#FAD2CF','#F6AEA9','#F28B82','#EE675C','#EA4335','#D93025','#C5221F','#B31412','#A50E0E'],\n",
    "    yellow = ['#FEF7E0','#FEEFC3','#FDE293','#FDD663','#FCC934','#FBBC04','#F9AB00','#F29900','#EA8600','#E37400'],\n",
    "    green = ['#E6F4EA','#CEEAD6','#A8DAB5','#81C995','#5BB974','#34A853','#1E8E3E','#188038','#137333','#0D652D'],\n",
    "    grey = ['#F8F9FA','#F1F3F4','#E8EAED','#DADCE0','#BDC1C6','#9AA0A6','#80868B','#5F6368','#3C4043','#202124']\n",
    ")"
   ]
  },
  {
   "cell_type": "code",
   "execution_count": 2,
   "id": "65720c12-f4ee-4ad4-a47e-f5bdac6c836e",
   "metadata": {},
   "outputs": [
    {
     "data": {
      "text/markdown": [
       "<span style=\"font-family: monospace\"><span style=\"color: #E8F0FE\">Vertex AI</span></span> <span style=\"font-family: monospace\"><span style=\"color: #D2E3FC\">Vertex AI</span></span> <span style=\"font-family: monospace\"><span style=\"color: #AECBFA\">Vertex AI</span></span> <span style=\"font-family: monospace\"><span style=\"color: #8AB4F8\">Vertex AI</span></span> <span style=\"font-family: monospace\"><span style=\"color: #669DF6\">Vertex AI</span></span> <span style=\"font-family: monospace\"><span style=\"color: #4285F4\">Vertex AI</span></span> <span style=\"font-family: monospace\"><span style=\"color: #1A73E8\">Vertex AI</span></span> <span style=\"font-family: monospace\"><span style=\"color: #1967D2\">Vertex AI</span></span> <span style=\"font-family: monospace\"><span style=\"color: #185ABC\">Vertex AI</span></span> <span style=\"font-family: monospace\"><span style=\"color: #174EA6\">Vertex AI</span></span>"
      ],
      "text/plain": [
       "<IPython.core.display.Markdown object>"
      ]
     },
     "metadata": {},
     "output_type": "display_data"
    },
    {
     "data": {
      "text/markdown": [
       "<span style=\"font-family: monospace\"><span style=\"color: #FCE8E6\">Vertex AI</span></span> <span style=\"font-family: monospace\"><span style=\"color: #FAD2CF\">Vertex AI</span></span> <span style=\"font-family: monospace\"><span style=\"color: #F6AEA9\">Vertex AI</span></span> <span style=\"font-family: monospace\"><span style=\"color: #F28B82\">Vertex AI</span></span> <span style=\"font-family: monospace\"><span style=\"color: #EE675C\">Vertex AI</span></span> <span style=\"font-family: monospace\"><span style=\"color: #EA4335\">Vertex AI</span></span> <span style=\"font-family: monospace\"><span style=\"color: #D93025\">Vertex AI</span></span> <span style=\"font-family: monospace\"><span style=\"color: #C5221F\">Vertex AI</span></span> <span style=\"font-family: monospace\"><span style=\"color: #B31412\">Vertex AI</span></span> <span style=\"font-family: monospace\"><span style=\"color: #A50E0E\">Vertex AI</span></span>"
      ],
      "text/plain": [
       "<IPython.core.display.Markdown object>"
      ]
     },
     "metadata": {},
     "output_type": "display_data"
    },
    {
     "data": {
      "text/markdown": [
       "<span style=\"font-family: monospace\"><span style=\"color: #FEF7E0\">Vertex AI</span></span> <span style=\"font-family: monospace\"><span style=\"color: #FEEFC3\">Vertex AI</span></span> <span style=\"font-family: monospace\"><span style=\"color: #FDE293\">Vertex AI</span></span> <span style=\"font-family: monospace\"><span style=\"color: #FDD663\">Vertex AI</span></span> <span style=\"font-family: monospace\"><span style=\"color: #FCC934\">Vertex AI</span></span> <span style=\"font-family: monospace\"><span style=\"color: #FBBC04\">Vertex AI</span></span> <span style=\"font-family: monospace\"><span style=\"color: #F9AB00\">Vertex AI</span></span> <span style=\"font-family: monospace\"><span style=\"color: #F29900\">Vertex AI</span></span> <span style=\"font-family: monospace\"><span style=\"color: #EA8600\">Vertex AI</span></span> <span style=\"font-family: monospace\"><span style=\"color: #E37400\">Vertex AI</span></span>"
      ],
      "text/plain": [
       "<IPython.core.display.Markdown object>"
      ]
     },
     "metadata": {},
     "output_type": "display_data"
    },
    {
     "data": {
      "text/markdown": [
       "<span style=\"font-family: monospace\"><span style=\"color: #E6F4EA\">Vertex AI</span></span> <span style=\"font-family: monospace\"><span style=\"color: #CEEAD6\">Vertex AI</span></span> <span style=\"font-family: monospace\"><span style=\"color: #A8DAB5\">Vertex AI</span></span> <span style=\"font-family: monospace\"><span style=\"color: #81C995\">Vertex AI</span></span> <span style=\"font-family: monospace\"><span style=\"color: #5BB974\">Vertex AI</span></span> <span style=\"font-family: monospace\"><span style=\"color: #34A853\">Vertex AI</span></span> <span style=\"font-family: monospace\"><span style=\"color: #1E8E3E\">Vertex AI</span></span> <span style=\"font-family: monospace\"><span style=\"color: #188038\">Vertex AI</span></span> <span style=\"font-family: monospace\"><span style=\"color: #137333\">Vertex AI</span></span> <span style=\"font-family: monospace\"><span style=\"color: #0D652D\">Vertex AI</span></span>"
      ],
      "text/plain": [
       "<IPython.core.display.Markdown object>"
      ]
     },
     "metadata": {},
     "output_type": "display_data"
    },
    {
     "data": {
      "text/markdown": [
       "<span style=\"font-family: monospace\"><span style=\"color: #F8F9FA\">Vertex AI</span></span> <span style=\"font-family: monospace\"><span style=\"color: #F1F3F4\">Vertex AI</span></span> <span style=\"font-family: monospace\"><span style=\"color: #E8EAED\">Vertex AI</span></span> <span style=\"font-family: monospace\"><span style=\"color: #DADCE0\">Vertex AI</span></span> <span style=\"font-family: monospace\"><span style=\"color: #BDC1C6\">Vertex AI</span></span> <span style=\"font-family: monospace\"><span style=\"color: #9AA0A6\">Vertex AI</span></span> <span style=\"font-family: monospace\"><span style=\"color: #80868B\">Vertex AI</span></span> <span style=\"font-family: monospace\"><span style=\"color: #5F6368\">Vertex AI</span></span> <span style=\"font-family: monospace\"><span style=\"color: #3C4043\">Vertex AI</span></span> <span style=\"font-family: monospace\"><span style=\"color: #202124\">Vertex AI</span></span>"
      ],
      "text/plain": [
       "<IPython.core.display.Markdown object>"
      ]
     },
     "metadata": {},
     "output_type": "display_data"
    }
   ],
   "source": [
    "import IPython\n",
    "def colorer(scheme, text):\n",
    "    for colors in scheme.keys():\n",
    "        IPython.display.display(\n",
    "            IPython.display.Markdown(\n",
    "                ' '.join(\n",
    "                    f'<span style=\"font-family: monospace\"><span style=\"color: {color}\">{text}</span></span>'\n",
    "                    for color in scheme[colors]\n",
    "                )\n",
    "            )\n",
    "        )\n",
    "colorer(gcolors, 'Vertex AI')"
   ]
  },
  {
   "cell_type": "markdown",
   "id": "19076e2f-f7dc-49b2-9bec-8b9f9488ec19",
   "metadata": {},
   "source": [
    "---\n",
    "## Graphviz\n",
    "\n",
    "Use [graphviz](https://graphviz.readthedocs.io/en/stable/manual.html).\n",
    "- Which is a python interface to [Graphviz](https://www.graphviz.org/)\n",
    "    - Which uses an abstract languaged called [Dot Language](https://www.graphviz.org/doc/info/lang.html)\n",
    "    \n",
    "    \n",
    "Open These Reference Links When Writing Code:\n",
    "- [Graphviz Documentation](https://graphviz.org/doc/info/lang.html)\n",
    "- [Python Graphviz API](https://graphviz.readthedocs.io/en/stable/api.html)"
   ]
  },
  {
   "cell_type": "code",
   "execution_count": 3,
   "id": "a057ea4b-6ec8-4d02-ab01-f2ffe6b047a9",
   "metadata": {},
   "outputs": [],
   "source": [
    "#!sudo apt-get -qq install graphviz"
   ]
  },
  {
   "cell_type": "code",
   "execution_count": 4,
   "id": "03bb4a53-8f69-4b44-b8ef-b5591eae7af9",
   "metadata": {},
   "outputs": [],
   "source": [
    "#!pip install graphviz -q -U"
   ]
  },
  {
   "cell_type": "code",
   "execution_count": 5,
   "id": "6aecf27b-a56e-499e-b18b-e5fc5a36c4fd",
   "metadata": {},
   "outputs": [],
   "source": [
    "import graphviz\n",
    "from IPython.display import Image"
   ]
  },
  {
   "cell_type": "markdown",
   "id": "14948482-b0a9-4f10-9d27-f4a425fb6a0a",
   "metadata": {},
   "source": [
    "---\n",
    "## Google Fonts\n",
    "\n",
    "- https://github.com/google/fonts/blob/main/README.md\n",
    "- https://fonts.google.com/\n",
    "\n"
   ]
  },
  {
   "cell_type": "code",
   "execution_count": 54,
   "id": "1d7e3b2f-2153-470e-9762-b9085a070985",
   "metadata": {},
   "outputs": [],
   "source": [
    "# get font for annotations: get fonts from fonts.google.com\n",
    "#font_source_url = \"https://fonts.googleapis.com/css2?family=Roboto+Mono&display=swap\"\n",
    "#font_source = requests.get(font_source_url).content.decode(\"utf-8\")\n",
    "#start_url = font_source.find('url(')+4\n",
    "#end_url = font_source.find(')', start_url)\n",
    "#font_url = font_source[start_url:end_url]\n",
    "#font = PIL.ImageFont.truetype(io.BytesIO(requests.get(font_url).content), 35)"
   ]
  },
  {
   "cell_type": "markdown",
   "id": "c1ff4037-eb21-44b2-800f-4b68b5106d48",
   "metadata": {},
   "source": [
    "---\n",
    "## Example"
   ]
  },
  {
   "cell_type": "code",
   "execution_count": 6,
   "id": "3c003da6-5ee6-4732-9756-cb7e400c3614",
   "metadata": {},
   "outputs": [
    {
     "data": {
      "image/svg+xml": [
       "<?xml version=\"1.0\" encoding=\"UTF-8\" standalone=\"no\"?>\n",
       "<!DOCTYPE svg PUBLIC \"-//W3C//DTD SVG 1.1//EN\"\n",
       " \"http://www.w3.org/Graphics/SVG/1.1/DTD/svg11.dtd\">\n",
       "<!-- Generated by graphviz version 2.43.0 (0)\n",
       " -->\n",
       "<!-- Title: %3 Pages: 1 -->\n",
       "<svg width=\"134pt\" height=\"188pt\"\n",
       " viewBox=\"0.00 0.00 134.00 188.00\" xmlns=\"http://www.w3.org/2000/svg\" xmlns:xlink=\"http://www.w3.org/1999/xlink\">\n",
       "<g id=\"graph0\" class=\"graph\" transform=\"scale(1 1) rotate(0) translate(4 184)\">\n",
       "<title>%3</title>\n",
       "<polygon fill=\"white\" stroke=\"transparent\" points=\"-4,4 -4,-184 130,-184 130,4 -4,4\"/>\n",
       "<!-- 1 -->\n",
       "<g id=\"node1\" class=\"node\">\n",
       "<title>1</title>\n",
       "<ellipse fill=\"none\" stroke=\"black\" cx=\"63\" cy=\"-162\" rx=\"27\" ry=\"18\"/>\n",
       "<text text-anchor=\"middle\" x=\"63\" y=\"-158.3\" font-family=\"Times,serif\" font-size=\"14.00\">1</text>\n",
       "</g>\n",
       "<!-- 3 -->\n",
       "<g id=\"node2\" class=\"node\">\n",
       "<title>3</title>\n",
       "<ellipse fill=\"none\" stroke=\"black\" cx=\"27\" cy=\"-90\" rx=\"27\" ry=\"18\"/>\n",
       "<text text-anchor=\"middle\" x=\"27\" y=\"-86.3\" font-family=\"Times,serif\" font-size=\"14.00\">3</text>\n",
       "</g>\n",
       "<!-- 1&#45;&gt;3 -->\n",
       "<g id=\"edge2\" class=\"edge\">\n",
       "<title>1&#45;&gt;3</title>\n",
       "<path fill=\"none\" stroke=\"black\" d=\"M54.65,-144.76C50.29,-136.28 44.85,-125.71 39.96,-116.2\"/>\n",
       "<polygon fill=\"black\" stroke=\"black\" points=\"42.99,-114.44 35.3,-107.15 36.77,-117.64 42.99,-114.44\"/>\n",
       "</g>\n",
       "<!-- 2 -->\n",
       "<g id=\"node3\" class=\"node\">\n",
       "<title>2</title>\n",
       "<ellipse fill=\"none\" stroke=\"black\" cx=\"99\" cy=\"-90\" rx=\"27\" ry=\"18\"/>\n",
       "<text text-anchor=\"middle\" x=\"99\" y=\"-86.3\" font-family=\"Times,serif\" font-size=\"14.00\">2</text>\n",
       "</g>\n",
       "<!-- 1&#45;&gt;2 -->\n",
       "<g id=\"edge1\" class=\"edge\">\n",
       "<title>1&#45;&gt;2</title>\n",
       "<path fill=\"none\" stroke=\"black\" d=\"M71.35,-144.76C75.71,-136.28 81.15,-125.71 86.04,-116.2\"/>\n",
       "<polygon fill=\"black\" stroke=\"black\" points=\"89.23,-117.64 90.7,-107.15 83.01,-114.44 89.23,-117.64\"/>\n",
       "</g>\n",
       "<!-- 5 -->\n",
       "<g id=\"node4\" class=\"node\">\n",
       "<title>5</title>\n",
       "<ellipse fill=\"none\" stroke=\"black\" cx=\"27\" cy=\"-18\" rx=\"27\" ry=\"18\"/>\n",
       "<text text-anchor=\"middle\" x=\"27\" y=\"-14.3\" font-family=\"Times,serif\" font-size=\"14.00\">5</text>\n",
       "</g>\n",
       "<!-- 3&#45;&gt;5 -->\n",
       "<g id=\"edge3\" class=\"edge\">\n",
       "<title>3&#45;&gt;5</title>\n",
       "<path fill=\"none\" stroke=\"black\" d=\"M27,-71.7C27,-63.98 27,-54.71 27,-46.11\"/>\n",
       "<polygon fill=\"black\" stroke=\"black\" points=\"30.5,-46.1 27,-36.1 23.5,-46.1 30.5,-46.1\"/>\n",
       "</g>\n",
       "</g>\n",
       "</svg>\n"
      ],
      "text/plain": [
       "<graphviz.graphs.Digraph at 0x7fa50b8db550>"
      ]
     },
     "execution_count": 6,
     "metadata": {},
     "output_type": "execute_result"
    }
   ],
   "source": [
    "# Create Digraph object\n",
    "dot = graphviz.Digraph()\n",
    "\n",
    "# Add nodes\n",
    "dot.node('1')\n",
    "dot.node('3')\n",
    "dot.node('2')\n",
    "dot.node('5')\n",
    "\n",
    "# Add edges\n",
    "dot.edges(['12', '13', '35'])\n",
    "\n",
    "# save to file\n",
    "dot.render(filename = 'dot', directory = './images', format = 'png')\n",
    "\n",
    "# Visualize the graph in notebook\n",
    "dot"
   ]
  },
  {
   "cell_type": "code",
   "execution_count": 7,
   "id": "309d5e6e-bd18-4da3-bdaf-1f3fc1f78275",
   "metadata": {},
   "outputs": [
    {
     "data": {
      "image/png": "[encoded data removed]",
      "text/plain": [
       "<IPython.core.display.Image object>"
      ]
     },
     "execution_count": 7,
     "metadata": {},
     "output_type": "execute_result"
    }
   ],
   "source": [
    "# visualize the file\n",
    "Image('./images/dot.png')"
   ]
  },
  {
   "cell_type": "markdown",
   "id": "b2053d00-fc6d-41a5-b349-3a8e486a0ede",
   "metadata": {},
   "source": [
    "## ./readme.md: code progression"
   ]
  },
  {
   "cell_type": "code",
   "execution_count": 8,
   "id": "87cebd72-7830-453c-aa9b-4dd4a09bff9f",
   "metadata": {},
   "outputs": [
    {
     "data": {
      "image/svg+xml": [
       "<?xml version=\"1.0\" encoding=\"UTF-8\" standalone=\"no\"?>\n",
       "<!DOCTYPE svg PUBLIC \"-//W3C//DTD SVG 1.1//EN\"\n",
       " \"http://www.w3.org/Graphics/SVG/1.1/DTD/svg11.dtd\">\n",
       "<!-- Generated by graphviz version 2.43.0 (0)\n",
       " -->\n",
       "<!-- Title: %3 Pages: 1 -->\n",
       "<svg width=\"292pt\" height=\"44pt\"\n",
       " viewBox=\"0.00 0.00 292.00 44.00\" xmlns=\"http://www.w3.org/2000/svg\" xmlns:xlink=\"http://www.w3.org/1999/xlink\">\n",
       "<g id=\"graph0\" class=\"graph\" transform=\"scale(1 1) rotate(0) translate(4 40)\">\n",
       "<title>%3</title>\n",
       "<polygon fill=\"white\" stroke=\"transparent\" points=\"-4,4 -4,-40 288,-40 288,4 -4,4\"/>\n",
       "<!-- a1 -->\n",
       "<g id=\"node1\" class=\"node\">\n",
       "<title>a1</title>\n",
       "<path fill=\"#669df6\" stroke=\"#669df6\" stroke-width=\"3\" d=\"M60,-36C60,-36 12,-36 12,-36 6,-36 0,-30 0,-24 0,-24 0,-12 0,-12 0,-6 6,0 12,0 12,0 60,0 60,0 66,0 72,-6 72,-12 72,-12 72,-24 72,-24 72,-30 66,-36 60,-36\"/>\n",
       "<text text-anchor=\"middle\" x=\"36\" y=\"-14.3\" font-family=\"Times,serif\" font-size=\"14.00\">Explore</text>\n",
       "</g>\n",
       "<!-- a2 -->\n",
       "<g id=\"node2\" class=\"node\">\n",
       "<title>a2</title>\n",
       "<path fill=\"#fcc934\" stroke=\"#669df6\" stroke-width=\"3\" d=\"M170,-36C170,-36 120,-36 120,-36 114,-36 108,-30 108,-24 108,-24 108,-12 108,-12 108,-6 114,0 120,0 120,0 170,0 170,0 176,0 182,-6 182,-12 182,-12 182,-24 182,-24 182,-30 176,-36 170,-36\"/>\n",
       "<text text-anchor=\"middle\" x=\"145\" y=\"-14.3\" font-family=\"Times,serif\" font-size=\"14.00\">Develop</text>\n",
       "</g>\n",
       "<!-- a1&#45;&gt;a2 -->\n",
       "<g id=\"edge1\" class=\"edge\">\n",
       "<title>a1&#45;&gt;a2</title>\n",
       "<path fill=\"none\" stroke=\"#669df6\" stroke-width=\"3\" d=\"M72.04,-18C80.18,-18 88.98,-18 97.53,-18\"/>\n",
       "<polygon fill=\"#669df6\" stroke=\"#669df6\" stroke-width=\"3\" points=\"97.78,-21.5 107.78,-18 97.78,-14.5 97.78,-21.5\"/>\n",
       "</g>\n",
       "<!-- a3 -->\n",
       "<g id=\"node3\" class=\"node\">\n",
       "<title>a3</title>\n",
       "<path fill=\"#bdc1c6\" stroke=\"#fcc934\" stroke-width=\"3\" d=\"M272,-36C272,-36 230,-36 230,-36 224,-36 218,-30 218,-24 218,-24 218,-12 218,-12 218,-6 224,0 230,0 230,0 272,0 272,0 278,0 284,-6 284,-12 284,-12 284,-24 284,-24 284,-30 278,-36 272,-36\"/>\n",
       "<text text-anchor=\"middle\" x=\"251\" y=\"-14.3\" font-family=\"Times,serif\" font-size=\"14.00\">Deploy</text>\n",
       "</g>\n",
       "<!-- a2&#45;&gt;a3 -->\n",
       "<g id=\"edge2\" class=\"edge\">\n",
       "<title>a2&#45;&gt;a3</title>\n",
       "<path fill=\"none\" stroke=\"#fcc934\" stroke-width=\"3\" d=\"M182.08,-18C190.34,-18 199.19,-18 207.69,-18\"/>\n",
       "<polygon fill=\"#fcc934\" stroke=\"#fcc934\" stroke-width=\"3\" points=\"207.8,-21.5 217.8,-18 207.8,-14.5 207.8,-21.5\"/>\n",
       "</g>\n",
       "</g>\n",
       "</svg>\n"
      ],
      "text/plain": [
       "<graphviz.graphs.Digraph at 0x7fa50ba2b6a0>"
      ]
     },
     "execution_count": 8,
     "metadata": {},
     "output_type": "execute_result"
    }
   ],
   "source": [
    "file = 'code_progression'\n",
    "path = 'images/readme'\n",
    "# Create Digraph object\n",
    "cp = graphviz.Digraph()\n",
    "cp.attr(rankdir = 'LR')\n",
    "\n",
    "# Add nodes\n",
    "cp.node(name = 'a1', label = 'Explore', shape = 'rectangle', style = 'filled,rounded', penwidth = '3', color = gcolors['blue'][4], fillcolor = gcolors['blue'][4])\n",
    "cp.node(name = 'a2', label = 'Develop', shape = 'rectangle', style = 'filled,rounded', penwidth = '3', color = gcolors['blue'][4], fillcolor = gcolors['yellow'][4])\n",
    "cp.node(name = 'a3', label = 'Deploy', shape = 'rectangle', style = 'filled,rounded', penwidth = '3', color = gcolors['yellow'][4], fillcolor = gcolors['grey'][4])\n",
    "\n",
    "# Add edges\n",
    "cp.edge('a1', 'a2', color = gcolors['blue'][4], penwidth = '3')\n",
    "cp.edge('a2', 'a3', color = gcolors['yellow'][4], penwidth = '3')\n",
    "\n",
    "# save to file\n",
    "cp.render(filename = f'{file}', directory = f'./{path}', format = 'png')\n",
    "\n",
    "# Visualize the graph in notebook\n",
    "cp"
   ]
  },
  {
   "cell_type": "code",
   "execution_count": 9,
   "id": "ce7e3afe-cb5e-458d-a204-217727e46ccb",
   "metadata": {},
   "outputs": [
    {
     "data": {
      "image/svg+xml": [
       "<?xml version=\"1.0\" encoding=\"UTF-8\" standalone=\"no\"?>\n",
       "<!DOCTYPE svg PUBLIC \"-//W3C//DTD SVG 1.1//EN\"\n",
       " \"http://www.w3.org/Graphics/SVG/1.1/DTD/svg11.dtd\">\n",
       "<!-- Generated by graphviz version 2.43.0 (0)\n",
       " -->\n",
       "<!-- Title: %3 Pages: 1 -->\n",
       "<svg width=\"366pt\" height=\"44pt\"\n",
       " viewBox=\"0.00 0.00 365.85 44.00\" xmlns=\"http://www.w3.org/2000/svg\" xmlns:xlink=\"http://www.w3.org/1999/xlink\">\n",
       "<g id=\"graph0\" class=\"graph\" transform=\"scale(1 1) rotate(0) translate(4 40)\">\n",
       "<title>%3</title>\n",
       "<polygon fill=\"white\" stroke=\"transparent\" points=\"-4,4 -4,-40 361.85,-40 361.85,4 -4,4\"/>\n",
       "<!-- a1 -->\n",
       "<g id=\"node1\" class=\"node\">\n",
       "<title>a1</title>\n",
       "<path fill=\"#669df6\" stroke=\"#669df6\" stroke-width=\"3\" d=\"M60,-36C60,-36 12,-36 12,-36 6,-36 0,-30 0,-24 0,-24 0,-12 0,-12 0,-6 6,0 12,0 12,0 60,0 60,0 66,0 72,-6 72,-12 72,-12 72,-24 72,-24 72,-30 66,-36 60,-36\"/>\n",
       "<text text-anchor=\"middle\" x=\"36\" y=\"-14.3\" font-family=\"Times,serif\" font-size=\"14.00\">Explore</text>\n",
       "</g>\n",
       "<!-- a2 -->\n",
       "<g id=\"node2\" class=\"node\">\n",
       "<title>a2</title>\n",
       "<path fill=\"#fcc934\" stroke=\"#669df6\" stroke-width=\"3\" d=\"M170,-36C170,-36 120,-36 120,-36 114,-36 108,-30 108,-24 108,-24 108,-12 108,-12 108,-6 114,0 120,0 120,0 170,0 170,0 176,0 182,-6 182,-12 182,-12 182,-24 182,-24 182,-30 176,-36 170,-36\"/>\n",
       "<text text-anchor=\"middle\" x=\"145\" y=\"-14.3\" font-family=\"Times,serif\" font-size=\"14.00\">Develop</text>\n",
       "</g>\n",
       "<!-- a1&#45;&gt;a2 -->\n",
       "<g id=\"edge1\" class=\"edge\">\n",
       "<title>a1&#45;&gt;a2</title>\n",
       "<path fill=\"none\" stroke=\"#669df6\" stroke-width=\"3\" d=\"M72.04,-18C80.18,-18 88.98,-18 97.53,-18\"/>\n",
       "<polygon fill=\"#669df6\" stroke=\"#669df6\" stroke-width=\"3\" points=\"97.78,-21.5 107.78,-18 97.78,-14.5 97.78,-21.5\"/>\n",
       "</g>\n",
       "<!-- m -->\n",
       "<g id=\"node3\" class=\"node\">\n",
       "<title>m</title>\n",
       "<path fill=\"#ee675c\" stroke=\"#ee675c\" stroke-width=\"0\" d=\"M250.98,-22.25C250.98,-22.25 246.18,-22.25 246.18,-22.25 243.78,-22.25 240.64,-24.53 239.9,-26.82 239.9,-26.82 238.4,-31.43 238.4,-31.43 237.67,-33.72 236.19,-33.72 235.45,-31.43 235.45,-31.43 233.95,-26.82 233.95,-26.82 233.21,-24.53 230.08,-22.25 227.67,-22.25 227.67,-22.25 222.87,-22.25 222.87,-22.25 220.47,-22.25 220.01,-20.83 221.95,-19.42 221.95,-19.42 225.85,-16.58 225.85,-16.58 227.79,-15.17 228.99,-11.47 228.25,-9.18 228.25,-9.18 226.75,-4.57 226.75,-4.57 226.01,-2.28 227.21,-1.41 229.15,-2.83 229.15,-2.83 233.05,-5.67 233.05,-5.67 234.99,-7.08 238.87,-7.08 240.81,-5.67 240.81,-5.67 244.7,-2.83 244.7,-2.83 246.64,-1.41 247.84,-2.28 247.1,-4.57 247.1,-4.57 245.61,-9.18 245.61,-9.18 244.87,-11.47 246.07,-15.17 248.01,-16.58 248.01,-16.58 251.9,-19.42 251.9,-19.42 253.84,-20.83 253.38,-22.25 250.98,-22.25\"/>\n",
       "</g>\n",
       "<!-- a2&#45;&gt;m -->\n",
       "<g id=\"edge2\" class=\"edge\">\n",
       "<title>a2&#45;&gt;m</title>\n",
       "<path fill=\"none\" stroke=\"#fcc934\" stroke-width=\"3\" d=\"M182.06,-18C196.91,-18 213.12,-18 223.83,-18\"/>\n",
       "</g>\n",
       "<!-- a3 -->\n",
       "<g id=\"node4\" class=\"node\">\n",
       "<title>a3</title>\n",
       "<path fill=\"#bdc1c6\" stroke=\"#fcc934\" stroke-width=\"3\" d=\"M345.85,-36C345.85,-36 303.85,-36 303.85,-36 297.85,-36 291.85,-30 291.85,-24 291.85,-24 291.85,-12 291.85,-12 291.85,-6 297.85,0 303.85,0 303.85,0 345.85,0 345.85,0 351.85,0 357.85,-6 357.85,-12 357.85,-12 357.85,-24 357.85,-24 357.85,-30 351.85,-36 345.85,-36\"/>\n",
       "<text text-anchor=\"middle\" x=\"324.85\" y=\"-14.3\" font-family=\"Times,serif\" font-size=\"14.00\">Deploy</text>\n",
       "</g>\n",
       "<!-- m&#45;&gt;a3 -->\n",
       "<g id=\"edge3\" class=\"edge\">\n",
       "<title>m&#45;&gt;a3</title>\n",
       "<path fill=\"none\" stroke=\"#fcc934\" stroke-width=\"3\" d=\"M250.24,-18C258.48,-18 269.86,-18 281.22,-18\"/>\n",
       "<polygon fill=\"#fcc934\" stroke=\"#fcc934\" stroke-width=\"3\" points=\"281.54,-21.5 291.54,-18 281.54,-14.5 281.54,-21.5\"/>\n",
       "</g>\n",
       "</g>\n",
       "</svg>\n"
      ],
      "text/plain": [
       "<graphviz.graphs.Digraph at 0x7fa50b8f4310>"
      ]
     },
     "execution_count": 9,
     "metadata": {},
     "output_type": "execute_result"
    }
   ],
   "source": [
    "file = 'code_progression_star'\n",
    "path = 'images/readme'\n",
    "# Create Digraph object\n",
    "cp = graphviz.Digraph()\n",
    "cp.attr(rankdir = 'LR')\n",
    "\n",
    "# Add nodes\n",
    "cp.node(name = 'a1', label = 'Explore', shape = 'rectangle', style = 'filled,rounded', penwidth = '3', color = gcolors['blue'][4], fillcolor = gcolors['blue'][4])\n",
    "cp.node(name = 'a2', label = 'Develop', shape = 'rectangle', style = 'filled,rounded', penwidth = '3', color = gcolors['blue'][4], fillcolor = gcolors['yellow'][4])\n",
    "cp.node(name = 'm', label = '', shape = 'star', style = 'filled,rounded', penwidth = '0', color = gcolors['red'][4], fillcolor = gcolors['red'][4], fixedsize = 'True', width = '.5', height = '.5')\n",
    "cp.node(name = 'a3', label = 'Deploy', shape = 'rectangle', style = 'filled,rounded', penwidth = '3', color = gcolors['yellow'][4], fillcolor = gcolors['grey'][4])\n",
    "\n",
    "# Add edges\n",
    "cp.edge('a1', 'a2', color = gcolors['blue'][4], penwidth = '3')\n",
    "cp.edge('a2', 'm', color = gcolors['yellow'][4], penwidth = '3', arrowhead = 'none')\n",
    "cp.edge('m', 'a3', color = gcolors['yellow'][4], penwidth = '3')\n",
    "#cp.edge('a2', 'a3', color = gcolors['blue'][4], penwidth = '3')\n",
    "\n",
    "# save to file\n",
    "cp.render(filename = f'{file}', directory = f'./{path}', format = 'png')\n",
    "\n",
    "# Visualize the graph in notebook\n",
    "cp"
   ]
  },
  {
   "cell_type": "markdown",
   "id": "1e18da75-f3b3-4b18-a856-c252f6b90494",
   "metadata": {},
   "source": [
    "## ./readme.md: decision"
   ]
  },
  {
   "cell_type": "code",
   "execution_count": 53,
   "id": "50317159-184d-4e3f-864d-48eafbf38801",
   "metadata": {},
   "outputs": [
    {
     "data": {
      "image/svg+xml": [
       "<?xml version=\"1.0\" encoding=\"UTF-8\" standalone=\"no\"?>\n",
       "<!DOCTYPE svg PUBLIC \"-//W3C//DTD SVG 1.1//EN\"\n",
       " \"http://www.w3.org/Graphics/SVG/1.1/DTD/svg11.dtd\">\n",
       "<!-- Generated by graphviz version 2.43.0 (0)\n",
       " -->\n",
       "<!-- Title: %3 Pages: 1 -->\n",
       "<svg width=\"1173pt\" height=\"305pt\"\n",
       " viewBox=\"0.00 0.00 1173.00 305.00\" xmlns=\"http://www.w3.org/2000/svg\" xmlns:xlink=\"http://www.w3.org/1999/xlink\">\n",
       "<g id=\"graph0\" class=\"graph\" transform=\"scale(1 1) rotate(0) translate(4 301)\">\n",
       "<title>%3</title>\n",
       "<polygon fill=\"white\" stroke=\"transparent\" points=\"-4,4 -4,-301 1169,-301 1169,4 -4,4\"/>\n",
       "<text text-anchor=\"middle\" x=\"582.5\" y=\"-277\" font-family=\"Times,serif\" font-size=\"20.00\">Starting Points For AI With ML</text>\n",
       "<!-- d0 -->\n",
       "<g id=\"node1\" class=\"node\">\n",
       "<title>d0</title>\n",
       "<path fill=\"#669df6\" stroke=\"#5bb974\" stroke-width=\"3\" d=\"M45.51,-258.51C45.51,-258.51 8.49,-221.49 8.49,-221.49 4.24,-217.24 4.24,-208.76 8.49,-204.51 8.49,-204.51 45.51,-167.49 45.51,-167.49 49.76,-163.24 58.24,-163.24 62.49,-167.49 62.49,-167.49 99.51,-204.51 99.51,-204.51 103.76,-208.76 103.76,-217.24 99.51,-221.49 99.51,-221.49 62.49,-258.51 62.49,-258.51 58.24,-262.76 49.76,-262.76 45.51,-258.51\"/>\n",
       "<text text-anchor=\"middle\" x=\"54\" y=\"-209.3\" font-family=\"Times,serif\" font-size=\"14.00\">Task Type:</text>\n",
       "</g>\n",
       "<!-- g -->\n",
       "<g id=\"node2\" class=\"node\">\n",
       "<title>g</title>\n",
       "<path fill=\"#fcc934\" stroke=\"#fcc934\" stroke-width=\"3\" d=\"M914,-254C914,-254 690,-254 690,-254 684,-254 678,-248 678,-242 678,-242 678,-228 678,-228 678,-222 684,-216 690,-216 690,-216 914,-216 914,-216 920,-216 926,-222 926,-228 926,-228 926,-242 926,-242 926,-248 920,-254 914,-254\"/>\n",
       "<text text-anchor=\"middle\" x=\"802\" y=\"-238.8\" font-family=\"Times,serif\" font-size=\"14.00\">Generative AI</text>\n",
       "<text text-anchor=\"middle\" x=\"802\" y=\"-223.8\" font-family=\"Times,serif\" font-size=\"14.00\">Foundation Models On Vertex AI</text>\n",
       "</g>\n",
       "<!-- d0&#45;&gt;g -->\n",
       "<g id=\"edge2\" class=\"edge\">\n",
       "<title>d0&#45;&gt;g</title>\n",
       "<path fill=\"none\" stroke=\"#fcc934\" stroke-width=\"3\" d=\"M100.51,-220.64C133.12,-225.75 178.13,-232.05 218,-235 371.99,-246.38 549.48,-244.19 667.78,-240.57\"/>\n",
       "<polygon fill=\"#fcc934\" stroke=\"#fcc934\" stroke-width=\"3\" points=\"668.09,-244.07 677.97,-240.25 667.87,-237.07 668.09,-244.07\"/>\n",
       "<text text-anchor=\"middle\" x=\"383.5\" y=\"-246.8\" font-family=\"Times,serif\" font-size=\"14.00\">Generative</text>\n",
       "</g>\n",
       "<!-- d1 -->\n",
       "<g id=\"node3\" class=\"node\">\n",
       "<title>d1</title>\n",
       "<path fill=\"#669df6\" stroke=\"#5bb974\" stroke-width=\"3\" d=\"M263.51,-217.51C263.51,-217.51 226.49,-180.49 226.49,-180.49 222.24,-176.24 222.24,-167.76 226.49,-163.51 226.49,-163.51 263.51,-126.49 263.51,-126.49 267.76,-122.24 276.24,-122.24 280.49,-126.49 280.49,-126.49 317.51,-163.51 317.51,-163.51 321.76,-167.76 321.76,-176.24 317.51,-180.49 317.51,-180.49 280.49,-217.51 280.49,-217.51 276.24,-221.76 267.76,-221.76 263.51,-217.51\"/>\n",
       "<text text-anchor=\"middle\" x=\"272\" y=\"-183.3\" font-family=\"Times,serif\" font-size=\"14.00\">Do You</text>\n",
       "<text text-anchor=\"middle\" x=\"272\" y=\"-168.3\" font-family=\"Times,serif\" font-size=\"14.00\">Have Training</text>\n",
       "<text text-anchor=\"middle\" x=\"272\" y=\"-153.3\" font-family=\"Times,serif\" font-size=\"14.00\">Data?</text>\n",
       "</g>\n",
       "<!-- d0&#45;&gt;d1 -->\n",
       "<g id=\"edge1\" class=\"edge\">\n",
       "<title>d0&#45;&gt;d1</title>\n",
       "<path fill=\"none\" stroke=\"#5bb974\" stroke-width=\"3\" d=\"M99.76,-204.5C133.64,-198.07 180.35,-189.21 216.43,-182.36\"/>\n",
       "<polygon fill=\"#5bb974\" stroke=\"#5bb974\" stroke-width=\"3\" points=\"217.13,-185.79 226.3,-180.48 215.82,-178.91 217.13,-185.79\"/>\n",
       "<text text-anchor=\"middle\" x=\"163\" y=\"-201.8\" font-family=\"Times,serif\" font-size=\"14.00\">Prediction</text>\n",
       "</g>\n",
       "<!-- r1 -->\n",
       "<g id=\"node4\" class=\"node\">\n",
       "<title>r1</title>\n",
       "<path fill=\"#5bb974\" stroke=\"#5bb974\" stroke-width=\"3\" d=\"M563,-226C563,-226 453,-226 453,-226 447,-226 441,-220 441,-214 441,-214 441,-202 441,-202 441,-196 447,-190 453,-190 453,-190 563,-190 563,-190 569,-190 575,-196 575,-202 575,-202 575,-214 575,-214 575,-220 569,-226 563,-226\"/>\n",
       "<text text-anchor=\"middle\" x=\"508\" y=\"-204.3\" font-family=\"Times,serif\" font-size=\"14.00\">Pre&#45;trained APIs</text>\n",
       "</g>\n",
       "<!-- d1&#45;&gt;r1 -->\n",
       "<g id=\"edge3\" class=\"edge\">\n",
       "<title>d1&#45;&gt;r1</title>\n",
       "<path fill=\"none\" stroke=\"#5bb974\" stroke-width=\"3\" d=\"M318.95,-179.07C350.71,-183.95 393.7,-190.57 430.56,-196.24\"/>\n",
       "<polygon fill=\"#5bb974\" stroke=\"#5bb974\" stroke-width=\"3\" points=\"430.36,-199.75 440.78,-197.81 431.43,-192.83 430.36,-199.75\"/>\n",
       "<text text-anchor=\"middle\" x=\"383.5\" y=\"-197.8\" font-family=\"Times,serif\" font-size=\"14.00\">No</text>\n",
       "</g>\n",
       "<!-- d2 -->\n",
       "<g id=\"node5\" class=\"node\">\n",
       "<title>d2</title>\n",
       "<path fill=\"#669df6\" stroke=\"#5bb974\" stroke-width=\"3\" d=\"M499.51,-163.51C499.51,-163.51 462.49,-126.49 462.49,-126.49 458.24,-122.24 458.24,-113.76 462.49,-109.51 462.49,-109.51 499.51,-72.49 499.51,-72.49 503.76,-68.24 512.24,-68.24 516.49,-72.49 516.49,-72.49 553.51,-109.51 553.51,-109.51 557.76,-113.76 557.76,-122.24 553.51,-126.49 553.51,-126.49 516.49,-163.51 516.49,-163.51 512.24,-167.76 503.76,-167.76 499.51,-163.51\"/>\n",
       "<text text-anchor=\"middle\" x=\"508\" y=\"-136.8\" font-family=\"Times,serif\" font-size=\"14.00\">Are You</text>\n",
       "<text text-anchor=\"middle\" x=\"508\" y=\"-121.8\" font-family=\"Times,serif\" font-size=\"14.00\">Writing</text>\n",
       "<text text-anchor=\"middle\" x=\"508\" y=\"-106.8\" font-family=\"Times,serif\" font-size=\"14.00\">Training</text>\n",
       "<text text-anchor=\"middle\" x=\"508\" y=\"-91.8\" font-family=\"Times,serif\" font-size=\"14.00\">Code?</text>\n",
       "</g>\n",
       "<!-- d1&#45;&gt;d2 -->\n",
       "<g id=\"edge4\" class=\"edge\">\n",
       "<title>d1&#45;&gt;d2</title>\n",
       "<path fill=\"none\" stroke=\"#5bb974\" stroke-width=\"3\" d=\"M316.19,-162.03C354.99,-153.08 412.08,-139.9 453.7,-130.3\"/>\n",
       "<polygon fill=\"#5bb974\" stroke=\"#5bb974\" stroke-width=\"3\" points=\"454.71,-133.66 463.66,-128 453.13,-126.84 454.71,-133.66\"/>\n",
       "<text text-anchor=\"middle\" x=\"383.5\" y=\"-158.8\" font-family=\"Times,serif\" font-size=\"14.00\">Yes</text>\n",
       "</g>\n",
       "<!-- r1&#45;&gt;g -->\n",
       "<g id=\"edge9\" class=\"edge\">\n",
       "<title>r1&#45;&gt;g</title>\n",
       "<path fill=\"none\" stroke=\"#fcc934\" stroke-width=\"3\" d=\"M575.26,-214.13C602.67,-216.66 635.48,-219.69 667.49,-222.65\"/>\n",
       "<polygon fill=\"#fcc934\" stroke=\"#fcc934\" stroke-width=\"3\" points=\"667.56,-226.18 677.84,-223.61 668.21,-219.21 667.56,-226.18\"/>\n",
       "<text text-anchor=\"middle\" x=\"626.5\" y=\"-224.8\" font-family=\"Times,serif\" font-size=\"14.00\">Including</text>\n",
       "</g>\n",
       "<!-- r2 -->\n",
       "<g id=\"node6\" class=\"node\">\n",
       "<title>r2</title>\n",
       "<path fill=\"#5bb974\" stroke=\"#5bb974\" stroke-width=\"3\" d=\"M861.5,-162C861.5,-162 742.5,-162 742.5,-162 736.5,-162 730.5,-156 730.5,-150 730.5,-150 730.5,-138 730.5,-138 730.5,-132 736.5,-126 742.5,-126 742.5,-126 861.5,-126 861.5,-126 867.5,-126 873.5,-132 873.5,-138 873.5,-138 873.5,-150 873.5,-150 873.5,-156 867.5,-162 861.5,-162\"/>\n",
       "<text text-anchor=\"middle\" x=\"802\" y=\"-140.3\" font-family=\"Times,serif\" font-size=\"14.00\">Vertex AI AutoML</text>\n",
       "</g>\n",
       "<!-- d2&#45;&gt;r2 -->\n",
       "<g id=\"edge5\" class=\"edge\">\n",
       "<title>d2&#45;&gt;r2</title>\n",
       "<path fill=\"none\" stroke=\"#5bb974\" stroke-width=\"3\" d=\"M557.87,-122.35C602.09,-126.29 668.06,-132.16 720.13,-136.8\"/>\n",
       "<polygon fill=\"#5bb974\" stroke=\"#5bb974\" stroke-width=\"3\" points=\"720.07,-140.31 730.34,-137.71 720.69,-133.34 720.07,-140.31\"/>\n",
       "<text text-anchor=\"middle\" x=\"626.5\" y=\"-134.8\" font-family=\"Times,serif\" font-size=\"14.00\">No</text>\n",
       "</g>\n",
       "<!-- d3 -->\n",
       "<g id=\"node7\" class=\"node\">\n",
       "<title>d3</title>\n",
       "<path fill=\"#669df6\" stroke=\"#5bb974\" stroke-width=\"3\" d=\"M793.51,-99.51C793.51,-99.51 756.49,-62.49 756.49,-62.49 752.24,-58.24 752.24,-49.76 756.49,-45.51 756.49,-45.51 793.51,-8.49 793.51,-8.49 797.76,-4.24 806.24,-4.24 810.49,-8.49 810.49,-8.49 847.51,-45.51 847.51,-45.51 851.76,-49.76 851.76,-58.24 847.51,-62.49 847.51,-62.49 810.49,-99.51 810.49,-99.51 806.24,-103.76 797.76,-103.76 793.51,-99.51\"/>\n",
       "<text text-anchor=\"middle\" x=\"802\" y=\"-57.8\" font-family=\"Times,serif\" font-size=\"14.00\">Framework</text>\n",
       "<text text-anchor=\"middle\" x=\"802\" y=\"-42.8\" font-family=\"Times,serif\" font-size=\"14.00\">Choice:</text>\n",
       "</g>\n",
       "<!-- d2&#45;&gt;d3 -->\n",
       "<g id=\"edge6\" class=\"edge\">\n",
       "<title>d2&#45;&gt;d3</title>\n",
       "<path fill=\"none\" stroke=\"#5bb974\" stroke-width=\"3\" d=\"M552.72,-108.42C604.69,-97.03 691.41,-78.02 747.38,-65.75\"/>\n",
       "<polygon fill=\"#5bb974\" stroke=\"#5bb974\" stroke-width=\"3\" points=\"748.44,-69.1 757.46,-63.54 746.95,-62.26 748.44,-69.1\"/>\n",
       "<text text-anchor=\"middle\" x=\"626.5\" y=\"-103.8\" font-family=\"Times,serif\" font-size=\"14.00\">Yes</text>\n",
       "</g>\n",
       "<!-- r3 -->\n",
       "<g id=\"node8\" class=\"node\">\n",
       "<title>r3</title>\n",
       "<path fill=\"#5bb974\" stroke=\"#5bb974\" stroke-width=\"3\" d=\"M1153,-99C1153,-99 1065,-99 1065,-99 1059,-99 1053,-93 1053,-87 1053,-87 1053,-75 1053,-75 1053,-69 1059,-63 1065,-63 1065,-63 1153,-63 1153,-63 1159,-63 1165,-69 1165,-75 1165,-75 1165,-87 1165,-87 1165,-93 1159,-99 1153,-99\"/>\n",
       "<text text-anchor=\"middle\" x=\"1109\" y=\"-77.3\" font-family=\"Times,serif\" font-size=\"14.00\">BigQuery ML</text>\n",
       "</g>\n",
       "<!-- d3&#45;&gt;r3 -->\n",
       "<g id=\"edge7\" class=\"edge\">\n",
       "<title>d3&#45;&gt;r3</title>\n",
       "<path fill=\"none\" stroke=\"#5bb974\" stroke-width=\"3\" d=\"M852,-58.34C903.79,-62.92 985.72,-70.18 1042.91,-75.24\"/>\n",
       "<polygon fill=\"#5bb974\" stroke=\"#5bb974\" stroke-width=\"3\" points=\"1042.66,-78.73 1052.93,-76.12 1043.27,-71.76 1042.66,-78.73\"/>\n",
       "<text text-anchor=\"middle\" x=\"989.5\" y=\"-78.8\" font-family=\"Times,serif\" font-size=\"14.00\">SQL</text>\n",
       "</g>\n",
       "<!-- r4 -->\n",
       "<g id=\"node9\" class=\"node\">\n",
       "<title>r4</title>\n",
       "<path fill=\"#5bb974\" stroke=\"#5bb974\" stroke-width=\"3\" d=\"M1138.5,-45C1138.5,-45 1079.5,-45 1079.5,-45 1073.5,-45 1067.5,-39 1067.5,-33 1067.5,-33 1067.5,-21 1067.5,-21 1067.5,-15 1073.5,-9 1079.5,-9 1079.5,-9 1138.5,-9 1138.5,-9 1144.5,-9 1150.5,-15 1150.5,-21 1150.5,-21 1150.5,-33 1150.5,-33 1150.5,-39 1144.5,-45 1138.5,-45\"/>\n",
       "<text text-anchor=\"middle\" x=\"1109\" y=\"-23.3\" font-family=\"Times,serif\" font-size=\"14.00\">Vertex AI</text>\n",
       "</g>\n",
       "<!-- d3&#45;&gt;r4 -->\n",
       "<g id=\"edge8\" class=\"edge\">\n",
       "<title>d3&#45;&gt;r4</title>\n",
       "<path fill=\"none\" stroke=\"#5bb974\" stroke-width=\"3\" d=\"M852,-49.66C908.28,-44.68 1000.16,-36.55 1057.19,-31.5\"/>\n",
       "<polygon fill=\"#5bb974\" stroke=\"#5bb974\" stroke-width=\"3\" points=\"1057.76,-34.96 1067.41,-30.59 1057.14,-27.99 1057.76,-34.96\"/>\n",
       "<text text-anchor=\"middle\" x=\"989.5\" y=\"-45.8\" font-family=\"Times,serif\" font-size=\"14.00\">Your Choice!</text>\n",
       "</g>\n",
       "</g>\n",
       "</svg>\n"
      ],
      "text/plain": [
       "<graphviz.graphs.Digraph at 0x7fa50ae80b50>"
      ]
     },
     "execution_count": 53,
     "metadata": {},
     "output_type": "execute_result"
    }
   ],
   "source": [
    "file = 'decision_training'\n",
    "path = 'images/readme'\n",
    "# Create Digraph object\n",
    "d = graphviz.Digraph()\n",
    "d.attr(rankdir = 'LR', label = 'Starting Points For AI With ML', labelloc = 'top', fontsize = '20')\n",
    "\n",
    "# Add Decision Nodes:\n",
    "d.node(name = 'd0', label = 'Task Type:', \n",
    "       shape = 'diamond', style = 'filled,rounded', penwidth = '3', color = gcolors['green'][4], fillcolor = gcolors['blue'][4], \n",
    "       fixedsize = 'True', width = '1.5', height = '1.5')\n",
    "\n",
    "d.node(name = 'g', label = 'Generative AI\\nFoundation Models On Vertex AI', \n",
    "       shape = 'rectangle', style = 'filled,rounded', penwidth = '3', color = gcolors['yellow'][4], fillcolor = gcolors['yellow'][4],)\n",
    "\n",
    "d.node(name = 'd1', label = 'Do You\\nHave Training\\nData?', \n",
    "       shape = 'diamond', style = 'filled,rounded', penwidth = '3', color = gcolors['green'][4], fillcolor = gcolors['blue'][4], \n",
    "       fixedsize = 'True', width = '1.5', height = '1.5')\n",
    "d.node(name = 'r1', label = 'Pre-trained APIs', \n",
    "       shape = 'rectangle', style = 'filled,rounded', penwidth = '3', color = gcolors['green'][4], fillcolor = gcolors['green'][4],)\n",
    "\n",
    "d.node(name = 'd2', label = 'Are You\\nWriting\\nTraining\\nCode?', \n",
    "       shape = 'diamond', style = 'filled,rounded', penwidth = '3', color = gcolors['green'][4], fillcolor = gcolors['blue'][4], \n",
    "       fixedsize = 'True', width = '1.5', height = '1.5')\n",
    "d.node(name = 'r2', label = 'Vertex AI AutoML', \n",
    "       shape = 'rectangle', style = 'filled,rounded', penwidth = '3', color = gcolors['green'][4], fillcolor = gcolors['green'][4],)\n",
    "\n",
    "d.node(name = 'd3', label = 'Framework\\nChoice:', \n",
    "       shape = 'diamond', style = 'filled,rounded', penwidth = '3', color = gcolors['green'][4], fillcolor = gcolors['blue'][4], \n",
    "       fixedsize = 'True', width = '1.5', height = '1.5')\n",
    "d.node(name = 'r3', label = 'BigQuery ML', \n",
    "       shape = 'rectangle', style = 'filled,rounded', penwidth = '3', color = gcolors['green'][4], fillcolor = gcolors['green'][4],)\n",
    "d.node(name = 'r4', label = 'Vertex AI', \n",
    "       shape = 'rectangle', style = 'filled,rounded', penwidth = '3', color = gcolors['green'][4], fillcolor = gcolors['green'][4],)\n",
    "\n",
    "\n",
    "\n",
    "\n",
    "# Add edges\n",
    "d.edge('d0', 'd1', label = 'Prediction',\n",
    "       color = gcolors['green'][4], penwidth = '3', )\n",
    "d.edge('d0', 'g', label = 'Generative',\n",
    "       color = gcolors['yellow'][4], penwidth = '3', )\n",
    "\n",
    "\n",
    "d.edge('d1', 'r1', label = 'No',\n",
    "       color = gcolors['green'][4], penwidth = '3', )\n",
    "d.edge('d1', 'd2', label = 'Yes',\n",
    "        color = gcolors['green'][4], penwidth = '3')\n",
    "d.edge('d2', 'r2', label = 'No',\n",
    "       color = gcolors['green'][4], penwidth = '3')\n",
    "d.edge('d2', 'd3', label = 'Yes',\n",
    "       color = gcolors['green'][4], penwidth = '3')\n",
    "d.edge('d3', 'r3', label = 'SQL',\n",
    "       color = gcolors['green'][4], penwidth = '3')\n",
    "d.edge('d3', 'r4', label = 'Your Choice!',\n",
    "       color = gcolors['green'][4], penwidth = '3')\n",
    "\n",
    "#d.edge('d1', 'g', label = 'Your Choice!',\n",
    "#       color = gcolors['green'][4], penwidth = '3')\n",
    "\n",
    "# extra edges:\n",
    "d.edge('r1', 'g', label = 'Including',\n",
    "       color = gcolors['yellow'][4], penwidth = '3')\n",
    "\n",
    "\n",
    "# save to file\n",
    "d.render(filename = f'{file}', directory = f'./{path}', format = 'png')\n",
    "\n",
    "# Visualize the graph in notebook\n",
    "d"
   ]
  },
  {
   "cell_type": "code",
   "execution_count": null,
   "id": "e5e75f61-03e9-4d5e-b5de-6ad1699c38d5",
   "metadata": {},
   "outputs": [],
   "source": []
  }
 ],
 "metadata": {
  "environment": {
   "kernel": "python3",
   "name": "tf2-gpu.2-12.m110",
   "type": "gcloud",
   "uri": "gcr.io/deeplearning-platform-release/tf2-gpu.2-12:m110"
  },
  "kernelspec": {
   "display_name": "Python 3",
   "language": "python",
   "name": "python3"
  },
  "language_info": {
   "codemirror_mode": {
    "name": "ipython",
    "version": 3
   },
   "file_extension": ".py",
   "mimetype": "text/x-python",
   "name": "python",
   "nbconvert_exporter": "python",
   "pygments_lexer": "ipython3",
   "version": "3.10.12"
  }
 },
 "nbformat": 4,
 "nbformat_minor": 5
}
