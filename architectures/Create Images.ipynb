{
 "cells": [
  {
   "cell_type": "markdown",
   "id": "9b1be994",
   "metadata": {},
   "source": [
    "# Convert PDF of gSlides to Images (PNG)\n",
    "- store 'architectures.pdf' in /vertex-ai-mlops/slides\n",
    "- store 'thumbnails.pdf' in /vertex-ai-mlops/thumbnails\n",
    "- run this notebook in /vertext-ai-mlops/architectures\n",
    "- slides are stored as slide_X.png in /vertext-ai-mlops/architectures/slides\n",
    "- thumbnails are stored as tn_X.png in /vertext-ai-mlops/architectures/thumbnails (/plain, and /playbutton)"
   ]
  },
  {
   "cell_type": "markdown",
   "id": "def6b959-71b2-4330-8089-940381b8d4fc",
   "metadata": {},
   "source": [
    "---\n",
    "## Setup"
   ]
  },
  {
   "cell_type": "code",
   "execution_count": 1,
   "id": "cd3e42a3",
   "metadata": {},
   "outputs": [
    {
     "name": "stdout",
     "output_type": "stream",
     "text": [
      "'Create Images.ipynb'   notebooks   slides   thumbnails\n"
     ]
    }
   ],
   "source": [
    "!ls"
   ]
  },
  {
   "cell_type": "code",
   "execution_count": 2,
   "id": "bf5e699b",
   "metadata": {},
   "outputs": [],
   "source": [
    "!pip install pdf2image -q -U"
   ]
  },
  {
   "cell_type": "code",
   "execution_count": 3,
   "id": "770b647b",
   "metadata": {},
   "outputs": [
    {
     "name": "stdout",
     "output_type": "stream",
     "text": [
      "Collecting package metadata (current_repodata.json): ...working... done\n",
      "Solving environment: ...working... done\n",
      "\n",
      "## Package Plan ##\n",
      "\n",
      "  environment location: /opt/conda\n",
      "\n",
      "  added / updated specs:\n",
      "    - poppler\n",
      "\n",
      "\n",
      "The following packages will be downloaded:\n",
      "\n",
      "    package                    |            build\n",
      "    ---------------------------|-----------------\n",
      "    boost-cpp-1.74.0           |       h312852a_4        16.3 MB  conda-forge\n",
      "    ca-certificates-2021.10.8  |       ha878542_0         139 KB  conda-forge\n",
      "    certifi-2021.10.8          |   py37h89c1867_0         144 KB  conda-forge\n",
      "    conda-4.10.3               |   py37h89c1867_2         3.1 MB  conda-forge\n",
      "    font-ttf-dejavu-sans-mono-2.37|       hab24e00_0         388 KB  conda-forge\n",
      "    font-ttf-inconsolata-3.000 |       h77eed37_0          94 KB  conda-forge\n",
      "    font-ttf-source-code-pro-2.038|       h77eed37_0         684 KB  conda-forge\n",
      "    font-ttf-ubuntu-0.83       |       hab24e00_0         1.9 MB  conda-forge\n",
      "    fonts-conda-ecosystem-1    |                0           4 KB  conda-forge\n",
      "    fonts-conda-forge-1        |                0           4 KB  conda-forge\n",
      "    poppler-21.10.0            |       ha39eefc_0        17.4 MB  conda-forge\n",
      "    poppler-data-0.4.11        |       hd8ed1ab_0         3.6 MB  conda-forge\n",
      "    ------------------------------------------------------------\n",
      "                                           Total:        43.8 MB\n",
      "\n",
      "The following NEW packages will be INSTALLED:\n",
      "\n",
      "  boost-cpp          conda-forge/linux-64::boost-cpp-1.74.0-h312852a_4\n",
      "  font-ttf-dejavu-s~ conda-forge/noarch::font-ttf-dejavu-sans-mono-2.37-hab24e00_0\n",
      "  font-ttf-inconsol~ conda-forge/noarch::font-ttf-inconsolata-3.000-h77eed37_0\n",
      "  font-ttf-source-c~ conda-forge/noarch::font-ttf-source-code-pro-2.038-h77eed37_0\n",
      "  font-ttf-ubuntu    conda-forge/noarch::font-ttf-ubuntu-0.83-hab24e00_0\n",
      "  fonts-conda-ecosy~ conda-forge/noarch::fonts-conda-ecosystem-1-0\n",
      "  fonts-conda-forge  conda-forge/noarch::fonts-conda-forge-1-0\n",
      "  poppler            conda-forge/linux-64::poppler-21.10.0-ha39eefc_0\n",
      "  poppler-data       conda-forge/noarch::poppler-data-0.4.11-hd8ed1ab_0\n",
      "\n",
      "The following packages will be UPDATED:\n",
      "\n",
      "  ca-certificates                      2021.5.30-ha878542_0 --> 2021.10.8-ha878542_0\n",
      "  certifi                          2021.5.30-py37h89c1867_0 --> 2021.10.8-py37h89c1867_0\n",
      "  conda                               4.10.3-py37h89c1867_1 --> 4.10.3-py37h89c1867_2\n",
      "\n",
      "\n",
      "Preparing transaction: ...working... done\n",
      "Verifying transaction: ...working... done\n",
      "Executing transaction: ...working... done\n"
     ]
    }
   ],
   "source": [
    "!conda install -c conda-forge poppler -y -q"
   ]
  },
  {
   "cell_type": "code",
   "execution_count": 4,
   "id": "f7f08bcb",
   "metadata": {},
   "outputs": [],
   "source": [
    "from pdf2image import convert_from_path"
   ]
  },
  {
   "cell_type": "markdown",
   "id": "b2adf4d0-f01f-428d-8793-2a6d6eb780be",
   "metadata": {},
   "source": [
    "---\n",
    "## Architectures.pdf"
   ]
  },
  {
   "cell_type": "code",
   "execution_count": 5,
   "id": "d94d886b",
   "metadata": {},
   "outputs": [],
   "source": [
    "images = convert_from_path('slides/architectures.pdf',350)"
   ]
  },
  {
   "cell_type": "code",
   "execution_count": 6,
   "id": "f2d78582",
   "metadata": {},
   "outputs": [],
   "source": [
    "for i, image in enumerate(images):\n",
    "    if i > 0:\n",
    "        image.save(f'slides/slide_{str(i).zfill(2)}.png')"
   ]
  },
  {
   "cell_type": "markdown",
   "id": "dd18000c-efb2-4c4e-a73e-ee4d64479de0",
   "metadata": {},
   "source": [
    "---\n",
    "## Thumbnails.pdf"
   ]
  },
  {
   "cell_type": "code",
   "execution_count": 35,
   "id": "2f292ed0-42fb-437f-b9d5-3167d8522d2f",
   "metadata": {},
   "outputs": [],
   "source": [
    "from PIL import Image\n",
    "import os"
   ]
  },
  {
   "cell_type": "code",
   "execution_count": 36,
   "id": "c9e97437-407a-4e2d-afa5-588b9f42b616",
   "metadata": {},
   "outputs": [],
   "source": [
    "images = convert_from_path('thumbnails/thumbnails.pdf', size=(1920, 1080))"
   ]
  },
  {
   "cell_type": "markdown",
   "id": "433aa850-6d5f-4754-b193-8a149cc146a1",
   "metadata": {},
   "source": [
    "/plain versions"
   ]
  },
  {
   "cell_type": "code",
   "execution_count": 37,
   "id": "41892501-59d5-4507-927a-fb1350e084dc",
   "metadata": {},
   "outputs": [],
   "source": [
    "for i, image in enumerate(images):\n",
    "    if i > 0:\n",
    "        image.save(f'thumbnails/plain/tn_{str(i).zfill(2)}.png')"
   ]
  },
  {
   "cell_type": "markdown",
   "id": "a91f9892-27f0-4a93-9930-5c7279b5e2bd",
   "metadata": {},
   "source": [
    "/prepared versions\n",
    "- add the architecture slide to the plain version"
   ]
  },
  {
   "cell_type": "code",
   "execution_count": 44,
   "id": "d567be40-ce38-421d-adca-8a61d193c1ec",
   "metadata": {},
   "outputs": [],
   "source": [
    "for filename in os.listdir('thumbnails/plain'):\n",
    "    \n",
    "    if not (filename.endswith('.png')):\n",
    "        continue\n",
    "    if filename == 'tn_01.png':\n",
    "        thumb = Image.open(f'thumbnails/plain/{filename}')\n",
    "        thumb.save(f'thumbnails/prepared/{filename}')\n",
    "        continue\n",
    "    \n",
    "    # grab plain thumbnail\n",
    "    thumb = Image.open(f'thumbnails/plain/{filename}')\n",
    "    tWidth, tHeight = thumb.size\n",
    "    \n",
    "    # grab related architecture slide\n",
    "    slideN = 3 + 2*(int(filename[3:5])-2)\n",
    "    slide = Image.open(f'slides/slide_{str(slideN).zfill(2)}.png').convert(\"RGBA\")\n",
    "    sWidth, sHeight = slide.size\n",
    "    slide = slide.resize((int(tWidth/1.6), int(tHeight/1.6)))\n",
    "    \n",
    "    # save the prepared version with architecture added to plain thumbnail\n",
    "    thumb.paste(slide, (int(tWidth/3), int(tHeight/7)), slide)\n",
    "    thumb.save(f'thumbnails/prepared/{filename}')"
   ]
  },
  {
   "cell_type": "markdown",
   "id": "ddb67fed-1bbd-41a9-b350-c426b05b91df",
   "metadata": {},
   "source": [
    "/playbutton versions\n",
    "- add playbutton to the prepapared versions"
   ]
  },
  {
   "cell_type": "code",
   "execution_count": 45,
   "id": "861aaef0-432b-41a3-89aa-f1dd63ec9f99",
   "metadata": {},
   "outputs": [],
   "source": [
    "playbutton = Image.open('thumbnails/logo_youtube_color_1x_web_512dp.png').convert(\"RGBA\")\n",
    "pbWidth, pbHeight = playbutton.size\n",
    "#playbutton.show()"
   ]
  },
  {
   "cell_type": "code",
   "execution_count": 46,
   "id": "84f0633c-727c-4fbd-9a32-14390dfe27f3",
   "metadata": {},
   "outputs": [
    {
     "name": "stdout",
     "output_type": "stream",
     "text": [
      "tn_01.png\n",
      "tn_08.png\n",
      "tn_09.png\n",
      "tn_13.png\n",
      "tn_10.png\n",
      "tn_04.png\n",
      "tn_16.png\n",
      "tn_11.png\n",
      "tn_05.png\n",
      "tn_02.png\n",
      "tn_07.png\n",
      "tn_14.png\n",
      "tn_18.png\n",
      "tn_17.png\n",
      "tn_06.png\n",
      "tn_12.png\n",
      "tn_15.png\n",
      "tn_03.png\n"
     ]
    }
   ],
   "source": [
    "for filename in os.listdir('thumbnails/prepared'):\n",
    "    if not (filename.endswith('.png')):\n",
    "        continue\n",
    "    tn = Image.open(f'thumbnails/prepared/{filename}')\n",
    "    tnWidth, tnHeight = tn.size\n",
    "    print(filename)\n",
    "    tn.paste(playbutton, (int(tnWidth/2 - pbWidth/2), int(tnHeight/2 - pbHeight/2)), playbutton)\n",
    "    tn.save(f'thumbnails/playbutton/{filename}')"
   ]
  },
  {
   "cell_type": "code",
   "execution_count": null,
   "id": "be69562e-2d8e-4960-aff0-8a4c413d0b8b",
   "metadata": {},
   "outputs": [],
   "source": []
  }
 ],
 "metadata": {
  "environment": {
   "name": "tf2-gpu.2-3.m80",
   "type": "gcloud",
   "uri": "gcr.io/deeplearning-platform-release/tf2-gpu.2-3:m80"
  },
  "kernelspec": {
   "display_name": "Python 3",
   "language": "python",
   "name": "python3"
  },
  "language_info": {
   "codemirror_mode": {
    "name": "ipython",
    "version": 3
   },
   "file_extension": ".py",
   "mimetype": "text/x-python",
   "name": "python",
   "nbconvert_exporter": "python",
   "pygments_lexer": "ipython3",
   "version": "3.7.10"
  }
 },
 "nbformat": 4,
 "nbformat_minor": 5
}
