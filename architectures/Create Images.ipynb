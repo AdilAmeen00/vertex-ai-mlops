{
 "cells": [
  {
   "cell_type": "markdown",
   "id": "9b1be994",
   "metadata": {},
   "source": [
    "# Convert PDF of gSlides to Images (PNG)\n",
    "- store 'architectures.pdf' in /vertex-ai-mlops/slides\n",
    "- store 'thumbnails.pdf' in /vertex-ai-mlops/thumbnails\n",
    "- run this notebook in /vertext-ai-mlops/architectures\n",
    "- slides are stored as slide_X.png in /vertext-ai-mlops/architectures/slides\n",
    "- thumbnails are stored as tn_X.png in /vertext-ai-mlops/architectures/thumbnails (/plain, and /playbutton)"
   ]
  },
  {
   "cell_type": "markdown",
   "id": "def6b959-71b2-4330-8089-940381b8d4fc",
   "metadata": {},
   "source": [
    "---\n",
    "## Setup"
   ]
  },
  {
   "cell_type": "code",
   "execution_count": 41,
   "id": "cd3e42a3",
   "metadata": {},
   "outputs": [
    {
     "name": "stdout",
     "output_type": "stream",
     "text": [
      "'Create Images.ipynb'   notebooks   slides   thumbnails\n"
     ]
    }
   ],
   "source": [
    "!ls"
   ]
  },
  {
   "cell_type": "code",
   "execution_count": 42,
   "id": "bf5e699b",
   "metadata": {},
   "outputs": [],
   "source": [
    "!pip install pdf2image -q -U"
   ]
  },
  {
   "cell_type": "code",
   "execution_count": 43,
   "id": "770b647b",
   "metadata": {},
   "outputs": [
    {
     "name": "stdout",
     "output_type": "stream",
     "text": [
      "Collecting package metadata (current_repodata.json): ...working... done\n",
      "Solving environment: ...working... done\n",
      "\n",
      "# All requested packages already installed.\n",
      "\n"
     ]
    }
   ],
   "source": [
    "!conda install -c conda-forge poppler -y -q"
   ]
  },
  {
   "cell_type": "code",
   "execution_count": 44,
   "id": "f7f08bcb",
   "metadata": {},
   "outputs": [],
   "source": [
    "from pdf2image import convert_from_path"
   ]
  },
  {
   "cell_type": "markdown",
   "id": "ec0cc6f8-8954-492d-b057-af9e7972a701",
   "metadata": {},
   "source": [
    "---\n",
    "## Mapping"
   ]
  },
  {
   "cell_type": "code",
   "execution_count": 45,
   "id": "6a8cd453-2fdd-4456-b1aa-1ee039dbfcb3",
   "metadata": {},
   "outputs": [],
   "source": [
    "import os, glob\n",
    "notebooks = []\n",
    "for nb in glob.glob('../*.ipynb'):\n",
    "    notebooks.append(nb.split(' - ')[0][3:])"
   ]
  },
  {
   "cell_type": "code",
   "execution_count": 46,
   "id": "8f5f4b8c-bc63-4788-b358-ade0fc57059e",
   "metadata": {},
   "outputs": [],
   "source": [
    "notebooks.sort()"
   ]
  },
  {
   "cell_type": "code",
   "execution_count": 47,
   "id": "27c6308c-03fb-4ffc-8bd5-ee1954a2acc6",
   "metadata": {},
   "outputs": [],
   "source": [
    "notebooks = ['readme'] + notebooks"
   ]
  },
  {
   "cell_type": "code",
   "execution_count": 48,
   "id": "4f5db692-5a9e-4b6f-a7c7-534b5ff9ebf8",
   "metadata": {},
   "outputs": [
    {
     "data": {
      "text/plain": [
       "['readme',\n",
       " '00',\n",
       " '01',\n",
       " '02a',\n",
       " '02b',\n",
       " '02c',\n",
       " '03a',\n",
       " '03b',\n",
       " '04a',\n",
       " '05',\n",
       " '05a',\n",
       " '05b',\n",
       " '05c',\n",
       " '05d',\n",
       " '05e',\n",
       " '05f',\n",
       " '06',\n",
       " '07',\n",
       " '99']"
      ]
     },
     "execution_count": 48,
     "metadata": {},
     "output_type": "execute_result"
    }
   ],
   "source": [
    "notebooks"
   ]
  },
  {
   "cell_type": "markdown",
   "id": "b2adf4d0-f01f-428d-8793-2a6d6eb780be",
   "metadata": {},
   "source": [
    "---\n",
    "## Architectures.pdf"
   ]
  },
  {
   "cell_type": "code",
   "execution_count": 49,
   "id": "d94d886b",
   "metadata": {},
   "outputs": [],
   "source": [
    "images = convert_from_path('slides/architectures.pdf',350)"
   ]
  },
  {
   "cell_type": "code",
   "execution_count": 50,
   "id": "f2d78582",
   "metadata": {},
   "outputs": [],
   "source": [
    "for i, image in enumerate(images):\n",
    "    if i > 0:\n",
    "        # div by 2: int part is index for notebooks, remainder is 0=arch, 1=console\n",
    "        slide = notebooks[int((i-1)/2)]\n",
    "        if ((i-1) % 2) == 0: suffix = 'arch'\n",
    "        else: suffix = 'console'\n",
    "        image.save(f'slides/{slide}_{suffix}.png')"
   ]
  },
  {
   "cell_type": "markdown",
   "id": "dd18000c-efb2-4c4e-a73e-ee4d64479de0",
   "metadata": {},
   "source": [
    "---\n",
    "## Thumbnails.pdf"
   ]
  },
  {
   "cell_type": "code",
   "execution_count": 51,
   "id": "2f292ed0-42fb-437f-b9d5-3167d8522d2f",
   "metadata": {},
   "outputs": [],
   "source": [
    "from PIL import Image\n",
    "import os"
   ]
  },
  {
   "cell_type": "code",
   "execution_count": 52,
   "id": "c9e97437-407a-4e2d-afa5-588b9f42b616",
   "metadata": {},
   "outputs": [],
   "source": [
    "images = convert_from_path('thumbnails/thumbnails.pdf', size=(1920, 1080))"
   ]
  },
  {
   "cell_type": "markdown",
   "id": "433aa850-6d5f-4754-b193-8a149cc146a1",
   "metadata": {},
   "source": [
    "/plain versions"
   ]
  },
  {
   "cell_type": "code",
   "execution_count": 53,
   "id": "41892501-59d5-4507-927a-fb1350e084dc",
   "metadata": {},
   "outputs": [],
   "source": [
    "for i, image in enumerate(images):\n",
    "    if i > 0:\n",
    "        image.save(f'thumbnails/plain/{notebooks[i-1]}.png')"
   ]
  },
  {
   "cell_type": "markdown",
   "id": "a91f9892-27f0-4a93-9930-5c7279b5e2bd",
   "metadata": {},
   "source": [
    "/prepared versions\n",
    "- add the architecture slide to the plain version"
   ]
  },
  {
   "cell_type": "code",
   "execution_count": 54,
   "id": "d567be40-ce38-421d-adca-8a61d193c1ec",
   "metadata": {},
   "outputs": [],
   "source": [
    "for filename in os.listdir('thumbnails/plain'):\n",
    "    \n",
    "    if not (filename.endswith('.png')):\n",
    "        continue\n",
    "    if filename == 'readme.png':\n",
    "        thumb = Image.open(f'thumbnails/plain/{filename}')\n",
    "        thumb.save(f'thumbnails/prepared/{filename}')\n",
    "        continue\n",
    "    \n",
    "    # grab plain thumbnail\n",
    "    thumb = Image.open(f'thumbnails/plain/{filename}')\n",
    "    tWidth, tHeight = thumb.size\n",
    "    \n",
    "    # grab related architecture slide\n",
    "    slide = Image.open(f\"slides/{filename.split('.')[0]}_arch.png\").convert(\"RGBA\")\n",
    "    sWidth, sHeight = slide.size\n",
    "    slide = slide.resize((int(tWidth/1.6), int(tHeight/1.6)))\n",
    "    \n",
    "    # save the prepared version with architecture added to plain thumbnail\n",
    "    thumb.paste(slide, (int(tWidth/3), int(tHeight/7)), slide)\n",
    "    thumb.save(f'thumbnails/prepared/{filename}')"
   ]
  },
  {
   "cell_type": "markdown",
   "id": "ddb67fed-1bbd-41a9-b350-c426b05b91df",
   "metadata": {},
   "source": [
    "/playbutton versions\n",
    "- add playbutton to the prepapared versions"
   ]
  },
  {
   "cell_type": "code",
   "execution_count": 55,
   "id": "861aaef0-432b-41a3-89aa-f1dd63ec9f99",
   "metadata": {},
   "outputs": [],
   "source": [
    "playbutton = Image.open('thumbnails/logo_youtube_color_1x_web_512dp.png').convert(\"RGBA\")\n",
    "pbWidth, pbHeight = playbutton.size\n",
    "#playbutton.show()"
   ]
  },
  {
   "cell_type": "code",
   "execution_count": 56,
   "id": "84f0633c-727c-4fbd-9a32-14390dfe27f3",
   "metadata": {},
   "outputs": [
    {
     "name": "stdout",
     "output_type": "stream",
     "text": [
      "01.png\n",
      "06.png\n",
      "02b.png\n",
      "readme.png\n",
      "02c.png\n",
      "05a.png\n",
      "07.png\n",
      "04a.png\n",
      "00.png\n",
      "05e.png\n",
      "05c.png\n",
      "05f.png\n",
      "03a.png\n",
      "05b.png\n",
      "02a.png\n",
      "05.png\n",
      "03b.png\n",
      "05d.png\n"
     ]
    }
   ],
   "source": [
    "for filename in os.listdir('thumbnails/prepared'):\n",
    "    if not (filename.endswith('.png')):\n",
    "        continue\n",
    "    tn = Image.open(f'thumbnails/prepared/{filename}')\n",
    "    tnWidth, tnHeight = tn.size\n",
    "    print(filename)\n",
    "    tn.paste(playbutton, (int(tnWidth/2 - pbWidth/2), int(tnHeight/2 - pbHeight/2)), playbutton)\n",
    "    tn.save(f'thumbnails/playbutton/{filename}')"
   ]
  },
  {
   "cell_type": "code",
   "execution_count": null,
   "id": "be69562e-2d8e-4960-aff0-8a4c413d0b8b",
   "metadata": {},
   "outputs": [],
   "source": []
  }
 ],
 "metadata": {
  "environment": {
   "name": "tf2-gpu.2-3.m81",
   "type": "gcloud",
   "uri": "gcr.io/deeplearning-platform-release/tf2-gpu.2-3:m81"
  },
  "kernelspec": {
   "display_name": "Python 3",
   "language": "python",
   "name": "python3"
  },
  "language_info": {
   "codemirror_mode": {
    "name": "ipython",
    "version": 3
   },
   "file_extension": ".py",
   "mimetype": "text/x-python",
   "name": "python",
   "nbconvert_exporter": "python",
   "pygments_lexer": "ipython3",
   "version": "3.7.10"
  }
 },
 "nbformat": 4,
 "nbformat_minor": 5
}
