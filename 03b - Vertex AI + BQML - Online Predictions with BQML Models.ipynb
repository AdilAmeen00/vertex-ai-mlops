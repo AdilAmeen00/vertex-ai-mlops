{
 "cells": [
  {
   "cell_type": "markdown",
   "id": "ffc0d1a3",
   "metadata": {},
   "source": [
    "# 03b - Vertex AI + BQML - Online Predictions with BQML Models\n",
    "\n",
    "Models built with BigQuery ML (BQML), like the one in (03a), can also be exported for use and deployment outside of BigQuery.  A Vertex AI Endpoint can be used for online predictions with an exported model.  This demonstration shows the process of exporting and deploying a BQML model with Vertex AI.\n",
    "\n",
    "**Prerequisites:**\n",
    "\n",
    "-  03a - BigQuery Machine Learning (BQML) - Machine Learning with SQL\n",
    "\n",
    "**Overview:**\n",
    "\n",
    "-  Export the BigQuery ML model built in (03a) to a GCS bucket URI\n",
    "   -  EXPORT MODEL …\n",
    "-  Use Python Client google.cloud.aiplatform for Vertex AI\n",
    "   -  Upload Model\n",
    "      -  Model - aiplatform.Model.upoad\n",
    "   -  Create Endpoint\n",
    "      -  Endpoint - aiplatform.Endpoint.create\n",
    "   -  Deploy to Endpoint\n",
    "      -  Endpoint.deploy(model=Model)\n",
    "   -  Online Predictions\n",
    "      -  Endpoint.predict\n",
    "\n",
    "**Resources:**\n",
    "\n",
    "-  [Export formats for BigQuery ML models](https://cloud.google.com/bigquery-ml/docs/exporting-models)\n",
    "-  [Python Client for Vertex AI](https://googleapis.dev/python/aiplatform/latest/aiplatform.html)\n",
    "\n",
    "**Related Training:**\n",
    "\n",
    "-  todo"
   ]
  },
  {
   "cell_type": "markdown",
   "id": "1179ee8c",
   "metadata": {},
   "source": [
    "---\n",
    "## Vertex AI - Conceptual Flow\n",
    "\n",
    "<img src=\"architectures/slides/slide_15.png\">\n",
    "\n",
    "---\n",
    "## Vertex AI - Workflow\n",
    "\n",
    "<img src=\"architectures/slides/slide_16.png\">"
   ]
  },
  {
   "cell_type": "markdown",
   "id": "613afac5",
   "metadata": {},
   "source": [
    "---\n",
    "## Setup"
   ]
  },
  {
   "cell_type": "markdown",
   "id": "dc5e27bc",
   "metadata": {},
   "source": [
    "inputs:"
   ]
  },
  {
   "cell_type": "code",
   "execution_count": 2,
   "id": "ad6661f2",
   "metadata": {},
   "outputs": [],
   "source": [
    "REGION = 'us-central1'\n",
    "PROJECT_ID='statmike-mlops'\n",
    "DATANAME = 'fraud'\n",
    "NOTEBOOK = '03b'\n",
    "\n",
    "# Resources\n",
    "DEPLOY_IMAGE='us-docker.pkg.dev/cloud-aiplatform/prediction/tf2-cpu.2-2:latest'\n",
    "DEPLOY_COMPUTE = 'n1-standard-4'\n",
    "\n",
    "# Model Training\n",
    "VAR_TARGET = 'Class'\n",
    "VAR_OMIT = 'transaction_id' # add more variables to the string with space delimiters"
   ]
  },
  {
   "cell_type": "markdown",
   "id": "cf050841",
   "metadata": {},
   "source": [
    "packages:"
   ]
  },
  {
   "cell_type": "code",
   "execution_count": 3,
   "id": "a91d32df",
   "metadata": {},
   "outputs": [],
   "source": [
    "from google.cloud import aiplatform\n",
    "from datetime import datetime\n",
    "\n",
    "from google.cloud import bigquery\n",
    "from google.protobuf import json_format\n",
    "from google.protobuf.struct_pb2 import Value\n",
    "import json\n",
    "import numpy as np"
   ]
  },
  {
   "cell_type": "markdown",
   "id": "b2686afc",
   "metadata": {},
   "source": [
    "clients:"
   ]
  },
  {
   "cell_type": "code",
   "execution_count": 4,
   "id": "2d1777a5",
   "metadata": {},
   "outputs": [],
   "source": [
    "aiplatform.init(project=PROJECT_ID, location=REGION)\n",
    "bigquery = bigquery.Client()"
   ]
  },
  {
   "cell_type": "markdown",
   "id": "6d6a7643",
   "metadata": {},
   "source": [
    "parameters:"
   ]
  },
  {
   "cell_type": "code",
   "execution_count": 5,
   "id": "d3ba70ba",
   "metadata": {},
   "outputs": [],
   "source": [
    "TIMESTAMP = datetime.now().strftime(\"%Y%m%d%H%M%S\")\n",
    "BUCKET = PROJECT_ID\n",
    "URI = f\"gs://{BUCKET}/{DATANAME}/models/{NOTEBOOK}\"\n",
    "params = {\"URI\": URI}\n",
    "DIR = f\"temp/{NOTEBOOK}\""
   ]
  },
  {
   "cell_type": "markdown",
   "id": "cb02dbd6",
   "metadata": {},
   "source": [
    "environment:"
   ]
  },
  {
   "cell_type": "code",
   "execution_count": 6,
   "id": "cc2f1b43",
   "metadata": {},
   "outputs": [],
   "source": [
    "!rm -rf {DIR}\n",
    "!mkdir -p {DIR}"
   ]
  },
  {
   "cell_type": "markdown",
   "id": "e94caa8b",
   "metadata": {},
   "source": [
    "---\n",
    "## Export the BigQuery Model\n",
    "\n",
    "Export the BigQuery Model:\n",
    "- https://cloud.google.com/bigquery-ml/docs/exporting-models"
   ]
  },
  {
   "cell_type": "code",
   "execution_count": 7,
   "id": "e3851cbd",
   "metadata": {},
   "outputs": [],
   "source": [
    "export = bigquery.query(query = f\"EXPORT MODEL {DATANAME}.{DATANAME}_lr OPTIONS(URI = '{URI}')\")"
   ]
  },
  {
   "cell_type": "code",
   "execution_count": 8,
   "id": "670a6c33",
   "metadata": {},
   "outputs": [
    {
     "data": {
      "text/plain": [
       "<google.cloud.bigquery.table._EmptyRowIterator at 0x7f27a4bbae50>"
      ]
     },
     "execution_count": 8,
     "metadata": {},
     "output_type": "execute_result"
    }
   ],
   "source": [
    "export.result()"
   ]
  },
  {
   "cell_type": "markdown",
   "id": "0a19ae22",
   "metadata": {},
   "source": [
    "---\n",
    "## Serving"
   ]
  },
  {
   "cell_type": "markdown",
   "id": "e6e5e9a6",
   "metadata": {},
   "source": [
    "### Upload The Model"
   ]
  },
  {
   "cell_type": "code",
   "execution_count": 9,
   "id": "d76901c6",
   "metadata": {},
   "outputs": [
    {
     "name": "stdout",
     "output_type": "stream",
     "text": [
      "INFO:google.cloud.aiplatform.models:Creating Model\n",
      "INFO:google.cloud.aiplatform.models:Create Model backing LRO: projects/691911073727/locations/us-central1/models/420444450368520192/operations/8958485117194469376\n",
      "INFO:google.cloud.aiplatform.models:Model created. Resource name: projects/691911073727/locations/us-central1/models/420444450368520192\n",
      "INFO:google.cloud.aiplatform.models:To use this Model in another session:\n",
      "INFO:google.cloud.aiplatform.models:model = aiplatform.Model('projects/691911073727/locations/us-central1/models/420444450368520192')\n"
     ]
    }
   ],
   "source": [
    "model = aiplatform.Model.upload(\n",
    "    display_name = f'{NOTEBOOK}_{DATANAME}_{TIMESTAMP}',\n",
    "    serving_container_image_uri = DEPLOY_IMAGE,\n",
    "    artifact_uri = URI,\n",
    "    labels = {'notebook':f'{NOTEBOOK}'}\n",
    ")"
   ]
  },
  {
   "cell_type": "code",
   "execution_count": 10,
   "id": "24ee6764",
   "metadata": {},
   "outputs": [
    {
     "data": {
      "text/plain": [
       "'03b_fraud_20210922110523'"
      ]
     },
     "execution_count": 10,
     "metadata": {},
     "output_type": "execute_result"
    }
   ],
   "source": [
    "model.display_name"
   ]
  },
  {
   "cell_type": "markdown",
   "id": "034f0c19",
   "metadata": {},
   "source": [
    "### Create An Endpoint"
   ]
  },
  {
   "cell_type": "code",
   "execution_count": 11,
   "id": "93224b2d",
   "metadata": {},
   "outputs": [
    {
     "name": "stdout",
     "output_type": "stream",
     "text": [
      "INFO:google.cloud.aiplatform.models:Creating Endpoint\n",
      "INFO:google.cloud.aiplatform.models:Create Endpoint backing LRO: projects/691911073727/locations/us-central1/endpoints/6134729525222703104/operations/3473100771057205248\n",
      "INFO:google.cloud.aiplatform.models:Endpoint created. Resource name: projects/691911073727/locations/us-central1/endpoints/6134729525222703104\n",
      "INFO:google.cloud.aiplatform.models:To use this Endpoint in another session:\n",
      "INFO:google.cloud.aiplatform.models:endpoint = aiplatform.Endpoint('projects/691911073727/locations/us-central1/endpoints/6134729525222703104')\n"
     ]
    }
   ],
   "source": [
    "endpoint = aiplatform.Endpoint.create(\n",
    "    display_name = f'{NOTEBOOK}_{DATANAME}_{TIMESTAMP}',\n",
    "    labels = {'notebook':f'{NOTEBOOK}'}\n",
    ")"
   ]
  },
  {
   "cell_type": "code",
   "execution_count": 12,
   "id": "7285cced",
   "metadata": {},
   "outputs": [
    {
     "data": {
      "text/plain": [
       "'03b_fraud_20210922110523'"
      ]
     },
     "execution_count": 12,
     "metadata": {},
     "output_type": "execute_result"
    }
   ],
   "source": [
    "endpoint.display_name"
   ]
  },
  {
   "cell_type": "markdown",
   "id": "9158992e",
   "metadata": {},
   "source": [
    "### Deploy Model To Endpoint"
   ]
  },
  {
   "cell_type": "code",
   "execution_count": 13,
   "id": "040707a6",
   "metadata": {},
   "outputs": [
    {
     "name": "stdout",
     "output_type": "stream",
     "text": [
      "INFO:google.cloud.aiplatform.models:Deploying Model projects/691911073727/locations/us-central1/models/420444450368520192 to Endpoint : projects/691911073727/locations/us-central1/endpoints/6134729525222703104\n",
      "INFO:google.cloud.aiplatform.models:Deploy Endpoint model backing LRO: projects/691911073727/locations/us-central1/endpoints/6134729525222703104/operations/590797009540087808\n",
      "INFO:google.cloud.aiplatform.models:Endpoint model deployed. Resource name: projects/691911073727/locations/us-central1/endpoints/6134729525222703104\n"
     ]
    }
   ],
   "source": [
    "endpoint.deploy(\n",
    "    model = model,\n",
    "    deployed_model_display_name = f'{NOTEBOOK}_{DATANAME}_{TIMESTAMP}',\n",
    "    traffic_percentage = 100,\n",
    "    machine_type = DEPLOY_COMPUTE,\n",
    "    min_replica_count = 1,\n",
    "    max_replica_count = 1\n",
    ")"
   ]
  },
  {
   "cell_type": "markdown",
   "id": "087da7cc",
   "metadata": {},
   "source": [
    "---\n",
    "## Prediction"
   ]
  },
  {
   "cell_type": "markdown",
   "id": "46bc4c06",
   "metadata": {},
   "source": [
    "### Prepare a record for prediction: instance and parameters lists"
   ]
  },
  {
   "cell_type": "code",
   "execution_count": 25,
   "id": "b8f349ad",
   "metadata": {},
   "outputs": [],
   "source": [
    "pred = bigquery.query(query = f\"SELECT * FROM {DATANAME}.{DATANAME}_prepped WHERE splits='TEST' LIMIT 10\").to_dataframe()"
   ]
  },
  {
   "cell_type": "code",
   "execution_count": 26,
   "id": "8ed5d125",
   "metadata": {},
   "outputs": [
    {
     "data": {
      "text/html": [
       "<div>\n",
       "<style scoped>\n",
       "    .dataframe tbody tr th:only-of-type {\n",
       "        vertical-align: middle;\n",
       "    }\n",
       "\n",
       "    .dataframe tbody tr th {\n",
       "        vertical-align: top;\n",
       "    }\n",
       "\n",
       "    .dataframe thead th {\n",
       "        text-align: right;\n",
       "    }\n",
       "</style>\n",
       "<table border=\"1\" class=\"dataframe\">\n",
       "  <thead>\n",
       "    <tr style=\"text-align: right;\">\n",
       "      <th></th>\n",
       "      <th>Time</th>\n",
       "      <th>V1</th>\n",
       "      <th>V2</th>\n",
       "      <th>V3</th>\n",
       "      <th>V4</th>\n",
       "      <th>V5</th>\n",
       "      <th>V6</th>\n",
       "      <th>V7</th>\n",
       "      <th>V8</th>\n",
       "      <th>V9</th>\n",
       "      <th>...</th>\n",
       "      <th>V23</th>\n",
       "      <th>V24</th>\n",
       "      <th>V25</th>\n",
       "      <th>V26</th>\n",
       "      <th>V27</th>\n",
       "      <th>V28</th>\n",
       "      <th>Amount</th>\n",
       "      <th>Class</th>\n",
       "      <th>transaction_id</th>\n",
       "      <th>splits</th>\n",
       "    </tr>\n",
       "  </thead>\n",
       "  <tbody>\n",
       "    <tr>\n",
       "      <th>0</th>\n",
       "      <td>75176</td>\n",
       "      <td>1.235603</td>\n",
       "      <td>0.041383</td>\n",
       "      <td>0.675286</td>\n",
       "      <td>0.836279</td>\n",
       "      <td>-0.675016</td>\n",
       "      <td>-0.657342</td>\n",
       "      <td>-0.154209</td>\n",
       "      <td>-0.067491</td>\n",
       "      <td>0.602617</td>\n",
       "      <td>...</td>\n",
       "      <td>0.088164</td>\n",
       "      <td>0.396205</td>\n",
       "      <td>0.324557</td>\n",
       "      <td>0.182930</td>\n",
       "      <td>-0.017115</td>\n",
       "      <td>0.014979</td>\n",
       "      <td>0.0</td>\n",
       "      <td>0</td>\n",
       "      <td>6f40e111-2131-4031-aef1-268b2daf02a3</td>\n",
       "      <td>TEST</td>\n",
       "    </tr>\n",
       "    <tr>\n",
       "      <th>1</th>\n",
       "      <td>112225</td>\n",
       "      <td>-0.285756</td>\n",
       "      <td>0.965688</td>\n",
       "      <td>2.147689</td>\n",
       "      <td>2.838137</td>\n",
       "      <td>1.104026</td>\n",
       "      <td>1.462921</td>\n",
       "      <td>-0.835272</td>\n",
       "      <td>-0.409875</td>\n",
       "      <td>-0.810586</td>\n",
       "      <td>...</td>\n",
       "      <td>-1.222639</td>\n",
       "      <td>0.044689</td>\n",
       "      <td>1.324343</td>\n",
       "      <td>-0.077670</td>\n",
       "      <td>0.128146</td>\n",
       "      <td>0.179651</td>\n",
       "      <td>0.0</td>\n",
       "      <td>0</td>\n",
       "      <td>c9bdeaf0-79d4-4faf-8aaa-14127a0e3513</td>\n",
       "      <td>TEST</td>\n",
       "    </tr>\n",
       "    <tr>\n",
       "      <th>2</th>\n",
       "      <td>113420</td>\n",
       "      <td>1.890283</td>\n",
       "      <td>0.241366</td>\n",
       "      <td>-0.165823</td>\n",
       "      <td>4.068924</td>\n",
       "      <td>-0.146807</td>\n",
       "      <td>0.140339</td>\n",
       "      <td>-0.258090</td>\n",
       "      <td>0.084852</td>\n",
       "      <td>-0.056567</td>\n",
       "      <td>...</td>\n",
       "      <td>0.097449</td>\n",
       "      <td>0.019180</td>\n",
       "      <td>0.060621</td>\n",
       "      <td>0.136349</td>\n",
       "      <td>-0.010745</td>\n",
       "      <td>-0.049814</td>\n",
       "      <td>0.0</td>\n",
       "      <td>0</td>\n",
       "      <td>611f4879-490d-4ab5-9e4f-c7944d6165eb</td>\n",
       "      <td>TEST</td>\n",
       "    </tr>\n",
       "    <tr>\n",
       "      <th>3</th>\n",
       "      <td>121910</td>\n",
       "      <td>-1.227268</td>\n",
       "      <td>1.555572</td>\n",
       "      <td>1.245848</td>\n",
       "      <td>4.071686</td>\n",
       "      <td>1.154573</td>\n",
       "      <td>2.058276</td>\n",
       "      <td>-1.179951</td>\n",
       "      <td>-2.211140</td>\n",
       "      <td>-2.248168</td>\n",
       "      <td>...</td>\n",
       "      <td>-0.380109</td>\n",
       "      <td>-1.485002</td>\n",
       "      <td>0.237729</td>\n",
       "      <td>0.524141</td>\n",
       "      <td>-0.037543</td>\n",
       "      <td>0.121962</td>\n",
       "      <td>0.0</td>\n",
       "      <td>0</td>\n",
       "      <td>3212444f-1412-49ae-adfa-a1a0ca54d8c5</td>\n",
       "      <td>TEST</td>\n",
       "    </tr>\n",
       "  </tbody>\n",
       "</table>\n",
       "<p>4 rows × 33 columns</p>\n",
       "</div>"
      ],
      "text/plain": [
       "     Time        V1        V2        V3        V4        V5        V6  \\\n",
       "0   75176  1.235603  0.041383  0.675286  0.836279 -0.675016 -0.657342   \n",
       "1  112225 -0.285756  0.965688  2.147689  2.838137  1.104026  1.462921   \n",
       "2  113420  1.890283  0.241366 -0.165823  4.068924 -0.146807  0.140339   \n",
       "3  121910 -1.227268  1.555572  1.245848  4.071686  1.154573  2.058276   \n",
       "\n",
       "         V7        V8        V9  ...       V23       V24       V25       V26  \\\n",
       "0 -0.154209 -0.067491  0.602617  ...  0.088164  0.396205  0.324557  0.182930   \n",
       "1 -0.835272 -0.409875 -0.810586  ... -1.222639  0.044689  1.324343 -0.077670   \n",
       "2 -0.258090  0.084852 -0.056567  ...  0.097449  0.019180  0.060621  0.136349   \n",
       "3 -1.179951 -2.211140 -2.248168  ... -0.380109 -1.485002  0.237729  0.524141   \n",
       "\n",
       "        V27       V28  Amount  Class                        transaction_id  \\\n",
       "0 -0.017115  0.014979     0.0      0  6f40e111-2131-4031-aef1-268b2daf02a3   \n",
       "1  0.128146  0.179651     0.0      0  c9bdeaf0-79d4-4faf-8aaa-14127a0e3513   \n",
       "2 -0.010745 -0.049814     0.0      0  611f4879-490d-4ab5-9e4f-c7944d6165eb   \n",
       "3 -0.037543  0.121962     0.0      0  3212444f-1412-49ae-adfa-a1a0ca54d8c5   \n",
       "\n",
       "   splits  \n",
       "0    TEST  \n",
       "1    TEST  \n",
       "2    TEST  \n",
       "3    TEST  \n",
       "\n",
       "[4 rows x 33 columns]"
      ]
     },
     "execution_count": 26,
     "metadata": {},
     "output_type": "execute_result"
    }
   ],
   "source": [
    "pred.head(4)"
   ]
  },
  {
   "cell_type": "code",
   "execution_count": 30,
   "id": "20dd66e1",
   "metadata": {},
   "outputs": [],
   "source": [
    "newob = pred[pred.columns[~pred.columns.isin(VAR_OMIT.split()+[VAR_TARGET,'splits'])]].to_dict(orient='records')[0]\n",
    "#newob"
   ]
  },
  {
   "cell_type": "code",
   "execution_count": 31,
   "id": "ff39daac",
   "metadata": {},
   "outputs": [],
   "source": [
    "instances = [json_format.ParseDict(newob, Value())]\n",
    "parameters = json_format.ParseDict({}, Value())"
   ]
  },
  {
   "cell_type": "markdown",
   "id": "dfd7f4ef",
   "metadata": {},
   "source": [
    "### Get Predictions: Python Client"
   ]
  },
  {
   "cell_type": "code",
   "execution_count": 32,
   "id": "9d95d9ba",
   "metadata": {},
   "outputs": [
    {
     "data": {
      "text/plain": [
       "Prediction(predictions=[{'Class_values': ['1', '0'], 'Class_probs': [0.05572191194179966, 0.9442780880582003], 'predicted_Class': ['0']}], deployed_model_id='5471389762138931200', explanations=None)"
      ]
     },
     "execution_count": 32,
     "metadata": {},
     "output_type": "execute_result"
    }
   ],
   "source": [
    "prediction = endpoint.predict(instances=instances, parameters=parameters)\n",
    "prediction"
   ]
  },
  {
   "cell_type": "code",
   "execution_count": 33,
   "id": "559eda29",
   "metadata": {},
   "outputs": [
    {
     "data": {
      "text/plain": [
       "{'Class_values': ['1', '0'],\n",
       " 'Class_probs': [0.05572191194179966, 0.9442780880582003],\n",
       " 'predicted_Class': ['0']}"
      ]
     },
     "execution_count": 33,
     "metadata": {},
     "output_type": "execute_result"
    }
   ],
   "source": [
    "prediction.predictions[0]#['classes'][np.argmax(prediction.predictions[0]['scores'])]"
   ]
  },
  {
   "cell_type": "code",
   "execution_count": 34,
   "id": "4edcf178",
   "metadata": {},
   "outputs": [
    {
     "data": {
      "text/plain": [
       "'0'"
      ]
     },
     "execution_count": 34,
     "metadata": {},
     "output_type": "execute_result"
    }
   ],
   "source": [
    "prediction.predictions[0][f'{VAR_TARGET}_values'][np.argmax(prediction.predictions[0][f'{VAR_TARGET}_probs'])]"
   ]
  },
  {
   "cell_type": "markdown",
   "id": "5cec468a",
   "metadata": {},
   "source": [
    "### Get Predictions: REST"
   ]
  },
  {
   "cell_type": "code",
   "execution_count": 35,
   "id": "eb32a338",
   "metadata": {},
   "outputs": [],
   "source": [
    "with open(f'{DIR}/request.json','w') as file:\n",
    "    file.write(json.dumps({\"instances\": [newob]}))"
   ]
  },
  {
   "cell_type": "code",
   "execution_count": 36,
   "id": "f4006e2a",
   "metadata": {},
   "outputs": [
    {
     "name": "stdout",
     "output_type": "stream",
     "text": [
      "{\n",
      "  \"predictions\": [\n",
      "    {\n",
      "      \"predicted_Class\": [\n",
      "        \"0\"\n",
      "      ],\n",
      "      \"Class_probs\": [\n",
      "        0.055721911941799658,\n",
      "        0.94427808805820035\n",
      "      ],\n",
      "      \"Class_values\": [\n",
      "        \"1\",\n",
      "        \"0\"\n",
      "      ]\n",
      "    }\n",
      "  ],\n",
      "  \"deployedModelId\": \"5471389762138931200\"\n",
      "}\n"
     ]
    }
   ],
   "source": [
    "!curl -X POST \\\n",
    "-H \"Authorization: Bearer \"$(gcloud auth application-default print-access-token) \\\n",
    "-H \"Content-Type: application/json; charset=utf-8\" \\\n",
    "-d @{DIR}/request.json \\\n",
    "https://{REGION}-aiplatform.googleapis.com/v1/{endpoint.resource_name}:predict"
   ]
  },
  {
   "cell_type": "markdown",
   "id": "4edee92e",
   "metadata": {},
   "source": [
    "### Get Predictions: gcloud (CLI)"
   ]
  },
  {
   "cell_type": "code",
   "execution_count": 37,
   "id": "3d8649b2",
   "metadata": {},
   "outputs": [
    {
     "name": "stdout",
     "output_type": "stream",
     "text": [
      "Using endpoint [https://us-central1-prediction-aiplatform.googleapis.com/]\n",
      "[{'Class_probs': [0.05572191194179966, 0.9442780880582003], 'Class_values': ['1', '0'], 'predicted_Class': ['0']}]\n"
     ]
    }
   ],
   "source": [
    "!gcloud beta ai endpoints predict {endpoint.name.rsplit('/',1)[-1]} --region={REGION} --json-request={DIR}/request.json"
   ]
  },
  {
   "cell_type": "markdown",
   "id": "cf9b632b",
   "metadata": {},
   "source": [
    "---\n",
    "## Remove Resources\n",
    "see notebook \"XX - Cleanup\""
   ]
  }
 ],
 "metadata": {
  "environment": {
   "name": "tf2-gpu.2-3.m79",
   "type": "gcloud",
   "uri": "gcr.io/deeplearning-platform-release/tf2-gpu.2-3:m79"
  },
  "kernelspec": {
   "display_name": "Python 3",
   "language": "python",
   "name": "python3"
  },
  "language_info": {
   "codemirror_mode": {
    "name": "ipython",
    "version": 3
   },
   "file_extension": ".py",
   "mimetype": "text/x-python",
   "name": "python",
   "nbconvert_exporter": "python",
   "pygments_lexer": "ipython3",
   "version": "3.7.10"
  }
 },
 "nbformat": 4,
 "nbformat_minor": 5
}
