{
 "cells": [
  {
   "cell_type": "markdown",
   "id": "45aa1842",
   "metadata": {},
   "source": [
    "# 04a - Vertex AI > Notebooks - Models Built in Notebooks with Tensorflow\n",
    "\n",
    "Where a model gets trained is where it consumes computing resources.  With Vertex AI, you have choices for configuring the computing resources available at training.  This notebook is an example of an execution environment.  When it was set up there were choices for machine type and accelerators (GPUs).  \n",
    "\n",
    "This notebook shows training a model directly within the runtime of the notebook environment.  Then the model is saved and moved to GCS for deployment to a Vertex AI Endpoint for online predictions.  The model training is done with [Tensorflow](https://www.tensorflow.org/), specifically [Keras](https://keras.io/), and was designed to show a neural network approach to logistic regression.  The training data batches are read from BigQuery using [Tensorflow I/O](https://www.tensorflow.org/io).\n",
    "\n",
    "**Prerequisites:**\n",
    "\n",
    "-  01 - BigQuery - Table Data Source\n",
    "\n",
    "**Overview:**\n",
    "\n",
    "-  Use Python Client for BigQuery\n",
    "   -  Read the tables schema from BigQuery INFORMATION_SCHEMA\n",
    "   -  Prepare the feature information for Tensorflow\n",
    "-  Define a function that remaps the input data into features and target variables where target is one-hot encoded (classification model with 10 classes)\n",
    "-  Set Tensorflow I/O read session\n",
    "-  Demonstrate reading a single batch\n",
    "-  Train a Tensorflow model\n",
    "   -  Define the model layers\n",
    "   -  Compile the model\n",
    "   -  Fit the model\n",
    "   -  Evaluate the model (loss, accuracy)\n",
    "   -  Create prediction with the model\n",
    "-  Use Python Client google.cloud.aiplatform for Vertex AI\n",
    "   -  Upload Model\n",
    "      -  Model - aiplatform.Model.upoad\n",
    "   -  Create Endpoint\n",
    "      -  Endpoint - aiplatform.Endpoint.create\n",
    "   -  Deploy to Endpoint\n",
    "      -  Endpoint.deploy(model=Model)\n",
    "   -  Online Predictions\n",
    "      -  Endpoint.predict\n",
    "-  Online Predictions with:\n",
    "   -  REST call\n",
    "   -  gcloud CLI\n",
    "\n",
    "**Resources:**\n",
    "\n",
    "-  [BigQuery Tensorflow Reader](https://www.tensorflow.org/io/tutorials/bigquery)\n",
    "-  [Keras Sequential](https://www.tensorflow.org/api_docs/python/tf/keras/Sequential)\n",
    "   -  [Keras API](https://www.tensorflow.org/api_docs/python/tf/keras)\n",
    "-  [Python Client For Google BigQuery](https://googleapis.dev/python/bigquery/latest/index.html)\n",
    "-  [Tensorflow Python Client](https://www.tensorflow.org/api_docs/python/tf)\n",
    "-  [Tensorflow I/O Python Client](https://www.tensorflow.org/io/api_docs/python/tfio/bigquery)\n",
    "-  [Python Client for Vertex AI](https://googleapis.dev/python/aiplatform/latest/aiplatform.html)\n",
    "\n",
    "**Related Training:**\n",
    "\n",
    "-  todo"
   ]
  },
  {
   "cell_type": "markdown",
   "id": "43942a83",
   "metadata": {},
   "source": [
    "---\n",
    "## Vertex AI - Conceptual Flow\n",
    "\n",
    "<img src=\"architectures/slides/slide_17.png\">\n",
    "\n",
    "---\n",
    "## Vertex AI - Workflow\n",
    "\n",
    "<img src=\"architectures/slides/slide_18.png\">"
   ]
  },
  {
   "cell_type": "markdown",
   "id": "5f1fcab6",
   "metadata": {},
   "source": [
    "---\n",
    "## Setup"
   ]
  },
  {
   "cell_type": "markdown",
   "id": "3e97b7c3",
   "metadata": {},
   "source": [
    "inputs:"
   ]
  },
  {
   "cell_type": "code",
   "execution_count": 12,
   "id": "7c4ad6ec",
   "metadata": {},
   "outputs": [],
   "source": [
    "REGION = 'us-central1'\n",
    "PROJECT_ID='statmike-mlops'\n",
    "DATANAME = 'fraud'\n",
    "NOTEBOOK = '04a'\n",
    "\n",
    "# Resources\n",
    "DEPLOY_COMPUTE = 'n1-standard-4'\n",
    "DEPLOY_IMAGE='us-docker.pkg.dev/cloud-aiplatform/prediction/tf2-cpu.2-2:latest'\n",
    "\n",
    "# Model Training\n",
    "VAR_TARGET = 'Class'\n",
    "VAR_OMIT = 'transaction_id' # add more variables to the string with space delimiters\n",
    "EPOCHS = 10\n",
    "BATCH_SIZE = 100"
   ]
  },
  {
   "cell_type": "markdown",
   "id": "f905a32d",
   "metadata": {},
   "source": [
    "packages:"
   ]
  },
  {
   "cell_type": "code",
   "execution_count": 13,
   "id": "9af36d0d",
   "metadata": {},
   "outputs": [],
   "source": [
    "from google.cloud import bigquery\n",
    "\n",
    "from tensorflow.python.framework import dtypes\n",
    "from tensorflow_io.bigquery import BigQueryClient\n",
    "import tensorflow as tf\n",
    "\n",
    "from google.cloud import aiplatform\n",
    "from datetime import datetime\n",
    "\n",
    "from google.protobuf import json_format\n",
    "from google.protobuf.struct_pb2 import Value\n",
    "import json\n",
    "import numpy as np"
   ]
  },
  {
   "cell_type": "markdown",
   "id": "cdbd7928",
   "metadata": {},
   "source": [
    "clients:"
   ]
  },
  {
   "cell_type": "code",
   "execution_count": 14,
   "id": "e4f303a3",
   "metadata": {},
   "outputs": [],
   "source": [
    "aiplatform.init(project=PROJECT_ID, location=REGION)\n",
    "bigquery = bigquery.Client()"
   ]
  },
  {
   "cell_type": "markdown",
   "id": "8c6c542f",
   "metadata": {},
   "source": [
    "parameters:"
   ]
  },
  {
   "cell_type": "code",
   "execution_count": 15,
   "id": "ec83808b",
   "metadata": {},
   "outputs": [],
   "source": [
    "TIMESTAMP = datetime.now().strftime(\"%Y%m%d%H%M%S\")\n",
    "BUCKET = PROJECT_ID\n",
    "URI = f\"gs://{BUCKET}/{DATANAME}/models/{NOTEBOOK}\"\n",
    "DIR = f\"temp/{NOTEBOOK}\""
   ]
  },
  {
   "cell_type": "markdown",
   "id": "2210af93",
   "metadata": {},
   "source": [
    "environment:"
   ]
  },
  {
   "cell_type": "code",
   "execution_count": 16,
   "id": "9c589be4",
   "metadata": {},
   "outputs": [],
   "source": [
    "!rm -rf {DIR}\n",
    "!mkdir -p {DIR}"
   ]
  },
  {
   "cell_type": "markdown",
   "id": "ba4dabc7",
   "metadata": {},
   "source": [
    "---\n",
    "## Get The Schema of The Training Data"
   ]
  },
  {
   "cell_type": "code",
   "execution_count": 17,
   "id": "1e22eeec",
   "metadata": {},
   "outputs": [],
   "source": [
    "query = f\"SELECT * FROM {DATANAME}.INFORMATION_SCHEMA.COLUMNS WHERE TABLE_NAME = '{DATANAME}_prepped'\"\n",
    "schema = bigquery.query(query).to_dataframe()"
   ]
  },
  {
   "cell_type": "code",
   "execution_count": 18,
   "id": "11d5c490",
   "metadata": {},
   "outputs": [
    {
     "data": {
      "text/html": [
       "<div>\n",
       "<style scoped>\n",
       "    .dataframe tbody tr th:only-of-type {\n",
       "        vertical-align: middle;\n",
       "    }\n",
       "\n",
       "    .dataframe tbody tr th {\n",
       "        vertical-align: top;\n",
       "    }\n",
       "\n",
       "    .dataframe thead th {\n",
       "        text-align: right;\n",
       "    }\n",
       "</style>\n",
       "<table border=\"1\" class=\"dataframe\">\n",
       "  <thead>\n",
       "    <tr style=\"text-align: right;\">\n",
       "      <th></th>\n",
       "      <th>table_catalog</th>\n",
       "      <th>table_schema</th>\n",
       "      <th>table_name</th>\n",
       "      <th>column_name</th>\n",
       "      <th>ordinal_position</th>\n",
       "      <th>is_nullable</th>\n",
       "      <th>data_type</th>\n",
       "      <th>is_generated</th>\n",
       "      <th>generation_expression</th>\n",
       "      <th>is_stored</th>\n",
       "      <th>is_hidden</th>\n",
       "      <th>is_updatable</th>\n",
       "      <th>is_system_defined</th>\n",
       "      <th>is_partitioning_column</th>\n",
       "      <th>clustering_ordinal_position</th>\n",
       "    </tr>\n",
       "  </thead>\n",
       "  <tbody>\n",
       "    <tr>\n",
       "      <th>0</th>\n",
       "      <td>statmike-mlops</td>\n",
       "      <td>fraud</td>\n",
       "      <td>fraud_prepped</td>\n",
       "      <td>Time</td>\n",
       "      <td>1</td>\n",
       "      <td>YES</td>\n",
       "      <td>INT64</td>\n",
       "      <td>NEVER</td>\n",
       "      <td>None</td>\n",
       "      <td>None</td>\n",
       "      <td>NO</td>\n",
       "      <td>None</td>\n",
       "      <td>NO</td>\n",
       "      <td>NO</td>\n",
       "      <td>NaN</td>\n",
       "    </tr>\n",
       "    <tr>\n",
       "      <th>1</th>\n",
       "      <td>statmike-mlops</td>\n",
       "      <td>fraud</td>\n",
       "      <td>fraud_prepped</td>\n",
       "      <td>V1</td>\n",
       "      <td>2</td>\n",
       "      <td>YES</td>\n",
       "      <td>FLOAT64</td>\n",
       "      <td>NEVER</td>\n",
       "      <td>None</td>\n",
       "      <td>None</td>\n",
       "      <td>NO</td>\n",
       "      <td>None</td>\n",
       "      <td>NO</td>\n",
       "      <td>NO</td>\n",
       "      <td>NaN</td>\n",
       "    </tr>\n",
       "    <tr>\n",
       "      <th>2</th>\n",
       "      <td>statmike-mlops</td>\n",
       "      <td>fraud</td>\n",
       "      <td>fraud_prepped</td>\n",
       "      <td>V2</td>\n",
       "      <td>3</td>\n",
       "      <td>YES</td>\n",
       "      <td>FLOAT64</td>\n",
       "      <td>NEVER</td>\n",
       "      <td>None</td>\n",
       "      <td>None</td>\n",
       "      <td>NO</td>\n",
       "      <td>None</td>\n",
       "      <td>NO</td>\n",
       "      <td>NO</td>\n",
       "      <td>NaN</td>\n",
       "    </tr>\n",
       "    <tr>\n",
       "      <th>3</th>\n",
       "      <td>statmike-mlops</td>\n",
       "      <td>fraud</td>\n",
       "      <td>fraud_prepped</td>\n",
       "      <td>V3</td>\n",
       "      <td>4</td>\n",
       "      <td>YES</td>\n",
       "      <td>FLOAT64</td>\n",
       "      <td>NEVER</td>\n",
       "      <td>None</td>\n",
       "      <td>None</td>\n",
       "      <td>NO</td>\n",
       "      <td>None</td>\n",
       "      <td>NO</td>\n",
       "      <td>NO</td>\n",
       "      <td>NaN</td>\n",
       "    </tr>\n",
       "    <tr>\n",
       "      <th>4</th>\n",
       "      <td>statmike-mlops</td>\n",
       "      <td>fraud</td>\n",
       "      <td>fraud_prepped</td>\n",
       "      <td>V4</td>\n",
       "      <td>5</td>\n",
       "      <td>YES</td>\n",
       "      <td>FLOAT64</td>\n",
       "      <td>NEVER</td>\n",
       "      <td>None</td>\n",
       "      <td>None</td>\n",
       "      <td>NO</td>\n",
       "      <td>None</td>\n",
       "      <td>NO</td>\n",
       "      <td>NO</td>\n",
       "      <td>NaN</td>\n",
       "    </tr>\n",
       "    <tr>\n",
       "      <th>5</th>\n",
       "      <td>statmike-mlops</td>\n",
       "      <td>fraud</td>\n",
       "      <td>fraud_prepped</td>\n",
       "      <td>V5</td>\n",
       "      <td>6</td>\n",
       "      <td>YES</td>\n",
       "      <td>FLOAT64</td>\n",
       "      <td>NEVER</td>\n",
       "      <td>None</td>\n",
       "      <td>None</td>\n",
       "      <td>NO</td>\n",
       "      <td>None</td>\n",
       "      <td>NO</td>\n",
       "      <td>NO</td>\n",
       "      <td>NaN</td>\n",
       "    </tr>\n",
       "    <tr>\n",
       "      <th>6</th>\n",
       "      <td>statmike-mlops</td>\n",
       "      <td>fraud</td>\n",
       "      <td>fraud_prepped</td>\n",
       "      <td>V6</td>\n",
       "      <td>7</td>\n",
       "      <td>YES</td>\n",
       "      <td>FLOAT64</td>\n",
       "      <td>NEVER</td>\n",
       "      <td>None</td>\n",
       "      <td>None</td>\n",
       "      <td>NO</td>\n",
       "      <td>None</td>\n",
       "      <td>NO</td>\n",
       "      <td>NO</td>\n",
       "      <td>NaN</td>\n",
       "    </tr>\n",
       "    <tr>\n",
       "      <th>7</th>\n",
       "      <td>statmike-mlops</td>\n",
       "      <td>fraud</td>\n",
       "      <td>fraud_prepped</td>\n",
       "      <td>V7</td>\n",
       "      <td>8</td>\n",
       "      <td>YES</td>\n",
       "      <td>FLOAT64</td>\n",
       "      <td>NEVER</td>\n",
       "      <td>None</td>\n",
       "      <td>None</td>\n",
       "      <td>NO</td>\n",
       "      <td>None</td>\n",
       "      <td>NO</td>\n",
       "      <td>NO</td>\n",
       "      <td>NaN</td>\n",
       "    </tr>\n",
       "    <tr>\n",
       "      <th>8</th>\n",
       "      <td>statmike-mlops</td>\n",
       "      <td>fraud</td>\n",
       "      <td>fraud_prepped</td>\n",
       "      <td>V8</td>\n",
       "      <td>9</td>\n",
       "      <td>YES</td>\n",
       "      <td>FLOAT64</td>\n",
       "      <td>NEVER</td>\n",
       "      <td>None</td>\n",
       "      <td>None</td>\n",
       "      <td>NO</td>\n",
       "      <td>None</td>\n",
       "      <td>NO</td>\n",
       "      <td>NO</td>\n",
       "      <td>NaN</td>\n",
       "    </tr>\n",
       "    <tr>\n",
       "      <th>9</th>\n",
       "      <td>statmike-mlops</td>\n",
       "      <td>fraud</td>\n",
       "      <td>fraud_prepped</td>\n",
       "      <td>V9</td>\n",
       "      <td>10</td>\n",
       "      <td>YES</td>\n",
       "      <td>FLOAT64</td>\n",
       "      <td>NEVER</td>\n",
       "      <td>None</td>\n",
       "      <td>None</td>\n",
       "      <td>NO</td>\n",
       "      <td>None</td>\n",
       "      <td>NO</td>\n",
       "      <td>NO</td>\n",
       "      <td>NaN</td>\n",
       "    </tr>\n",
       "    <tr>\n",
       "      <th>10</th>\n",
       "      <td>statmike-mlops</td>\n",
       "      <td>fraud</td>\n",
       "      <td>fraud_prepped</td>\n",
       "      <td>V10</td>\n",
       "      <td>11</td>\n",
       "      <td>YES</td>\n",
       "      <td>FLOAT64</td>\n",
       "      <td>NEVER</td>\n",
       "      <td>None</td>\n",
       "      <td>None</td>\n",
       "      <td>NO</td>\n",
       "      <td>None</td>\n",
       "      <td>NO</td>\n",
       "      <td>NO</td>\n",
       "      <td>NaN</td>\n",
       "    </tr>\n",
       "    <tr>\n",
       "      <th>11</th>\n",
       "      <td>statmike-mlops</td>\n",
       "      <td>fraud</td>\n",
       "      <td>fraud_prepped</td>\n",
       "      <td>V11</td>\n",
       "      <td>12</td>\n",
       "      <td>YES</td>\n",
       "      <td>FLOAT64</td>\n",
       "      <td>NEVER</td>\n",
       "      <td>None</td>\n",
       "      <td>None</td>\n",
       "      <td>NO</td>\n",
       "      <td>None</td>\n",
       "      <td>NO</td>\n",
       "      <td>NO</td>\n",
       "      <td>NaN</td>\n",
       "    </tr>\n",
       "    <tr>\n",
       "      <th>12</th>\n",
       "      <td>statmike-mlops</td>\n",
       "      <td>fraud</td>\n",
       "      <td>fraud_prepped</td>\n",
       "      <td>V12</td>\n",
       "      <td>13</td>\n",
       "      <td>YES</td>\n",
       "      <td>FLOAT64</td>\n",
       "      <td>NEVER</td>\n",
       "      <td>None</td>\n",
       "      <td>None</td>\n",
       "      <td>NO</td>\n",
       "      <td>None</td>\n",
       "      <td>NO</td>\n",
       "      <td>NO</td>\n",
       "      <td>NaN</td>\n",
       "    </tr>\n",
       "    <tr>\n",
       "      <th>13</th>\n",
       "      <td>statmike-mlops</td>\n",
       "      <td>fraud</td>\n",
       "      <td>fraud_prepped</td>\n",
       "      <td>V13</td>\n",
       "      <td>14</td>\n",
       "      <td>YES</td>\n",
       "      <td>FLOAT64</td>\n",
       "      <td>NEVER</td>\n",
       "      <td>None</td>\n",
       "      <td>None</td>\n",
       "      <td>NO</td>\n",
       "      <td>None</td>\n",
       "      <td>NO</td>\n",
       "      <td>NO</td>\n",
       "      <td>NaN</td>\n",
       "    </tr>\n",
       "    <tr>\n",
       "      <th>14</th>\n",
       "      <td>statmike-mlops</td>\n",
       "      <td>fraud</td>\n",
       "      <td>fraud_prepped</td>\n",
       "      <td>V14</td>\n",
       "      <td>15</td>\n",
       "      <td>YES</td>\n",
       "      <td>FLOAT64</td>\n",
       "      <td>NEVER</td>\n",
       "      <td>None</td>\n",
       "      <td>None</td>\n",
       "      <td>NO</td>\n",
       "      <td>None</td>\n",
       "      <td>NO</td>\n",
       "      <td>NO</td>\n",
       "      <td>NaN</td>\n",
       "    </tr>\n",
       "    <tr>\n",
       "      <th>15</th>\n",
       "      <td>statmike-mlops</td>\n",
       "      <td>fraud</td>\n",
       "      <td>fraud_prepped</td>\n",
       "      <td>V15</td>\n",
       "      <td>16</td>\n",
       "      <td>YES</td>\n",
       "      <td>FLOAT64</td>\n",
       "      <td>NEVER</td>\n",
       "      <td>None</td>\n",
       "      <td>None</td>\n",
       "      <td>NO</td>\n",
       "      <td>None</td>\n",
       "      <td>NO</td>\n",
       "      <td>NO</td>\n",
       "      <td>NaN</td>\n",
       "    </tr>\n",
       "    <tr>\n",
       "      <th>16</th>\n",
       "      <td>statmike-mlops</td>\n",
       "      <td>fraud</td>\n",
       "      <td>fraud_prepped</td>\n",
       "      <td>V16</td>\n",
       "      <td>17</td>\n",
       "      <td>YES</td>\n",
       "      <td>FLOAT64</td>\n",
       "      <td>NEVER</td>\n",
       "      <td>None</td>\n",
       "      <td>None</td>\n",
       "      <td>NO</td>\n",
       "      <td>None</td>\n",
       "      <td>NO</td>\n",
       "      <td>NO</td>\n",
       "      <td>NaN</td>\n",
       "    </tr>\n",
       "    <tr>\n",
       "      <th>17</th>\n",
       "      <td>statmike-mlops</td>\n",
       "      <td>fraud</td>\n",
       "      <td>fraud_prepped</td>\n",
       "      <td>V17</td>\n",
       "      <td>18</td>\n",
       "      <td>YES</td>\n",
       "      <td>FLOAT64</td>\n",
       "      <td>NEVER</td>\n",
       "      <td>None</td>\n",
       "      <td>None</td>\n",
       "      <td>NO</td>\n",
       "      <td>None</td>\n",
       "      <td>NO</td>\n",
       "      <td>NO</td>\n",
       "      <td>NaN</td>\n",
       "    </tr>\n",
       "    <tr>\n",
       "      <th>18</th>\n",
       "      <td>statmike-mlops</td>\n",
       "      <td>fraud</td>\n",
       "      <td>fraud_prepped</td>\n",
       "      <td>V18</td>\n",
       "      <td>19</td>\n",
       "      <td>YES</td>\n",
       "      <td>FLOAT64</td>\n",
       "      <td>NEVER</td>\n",
       "      <td>None</td>\n",
       "      <td>None</td>\n",
       "      <td>NO</td>\n",
       "      <td>None</td>\n",
       "      <td>NO</td>\n",
       "      <td>NO</td>\n",
       "      <td>NaN</td>\n",
       "    </tr>\n",
       "    <tr>\n",
       "      <th>19</th>\n",
       "      <td>statmike-mlops</td>\n",
       "      <td>fraud</td>\n",
       "      <td>fraud_prepped</td>\n",
       "      <td>V19</td>\n",
       "      <td>20</td>\n",
       "      <td>YES</td>\n",
       "      <td>FLOAT64</td>\n",
       "      <td>NEVER</td>\n",
       "      <td>None</td>\n",
       "      <td>None</td>\n",
       "      <td>NO</td>\n",
       "      <td>None</td>\n",
       "      <td>NO</td>\n",
       "      <td>NO</td>\n",
       "      <td>NaN</td>\n",
       "    </tr>\n",
       "    <tr>\n",
       "      <th>20</th>\n",
       "      <td>statmike-mlops</td>\n",
       "      <td>fraud</td>\n",
       "      <td>fraud_prepped</td>\n",
       "      <td>V20</td>\n",
       "      <td>21</td>\n",
       "      <td>YES</td>\n",
       "      <td>FLOAT64</td>\n",
       "      <td>NEVER</td>\n",
       "      <td>None</td>\n",
       "      <td>None</td>\n",
       "      <td>NO</td>\n",
       "      <td>None</td>\n",
       "      <td>NO</td>\n",
       "      <td>NO</td>\n",
       "      <td>NaN</td>\n",
       "    </tr>\n",
       "    <tr>\n",
       "      <th>21</th>\n",
       "      <td>statmike-mlops</td>\n",
       "      <td>fraud</td>\n",
       "      <td>fraud_prepped</td>\n",
       "      <td>V21</td>\n",
       "      <td>22</td>\n",
       "      <td>YES</td>\n",
       "      <td>FLOAT64</td>\n",
       "      <td>NEVER</td>\n",
       "      <td>None</td>\n",
       "      <td>None</td>\n",
       "      <td>NO</td>\n",
       "      <td>None</td>\n",
       "      <td>NO</td>\n",
       "      <td>NO</td>\n",
       "      <td>NaN</td>\n",
       "    </tr>\n",
       "    <tr>\n",
       "      <th>22</th>\n",
       "      <td>statmike-mlops</td>\n",
       "      <td>fraud</td>\n",
       "      <td>fraud_prepped</td>\n",
       "      <td>V22</td>\n",
       "      <td>23</td>\n",
       "      <td>YES</td>\n",
       "      <td>FLOAT64</td>\n",
       "      <td>NEVER</td>\n",
       "      <td>None</td>\n",
       "      <td>None</td>\n",
       "      <td>NO</td>\n",
       "      <td>None</td>\n",
       "      <td>NO</td>\n",
       "      <td>NO</td>\n",
       "      <td>NaN</td>\n",
       "    </tr>\n",
       "    <tr>\n",
       "      <th>23</th>\n",
       "      <td>statmike-mlops</td>\n",
       "      <td>fraud</td>\n",
       "      <td>fraud_prepped</td>\n",
       "      <td>V23</td>\n",
       "      <td>24</td>\n",
       "      <td>YES</td>\n",
       "      <td>FLOAT64</td>\n",
       "      <td>NEVER</td>\n",
       "      <td>None</td>\n",
       "      <td>None</td>\n",
       "      <td>NO</td>\n",
       "      <td>None</td>\n",
       "      <td>NO</td>\n",
       "      <td>NO</td>\n",
       "      <td>NaN</td>\n",
       "    </tr>\n",
       "    <tr>\n",
       "      <th>24</th>\n",
       "      <td>statmike-mlops</td>\n",
       "      <td>fraud</td>\n",
       "      <td>fraud_prepped</td>\n",
       "      <td>V24</td>\n",
       "      <td>25</td>\n",
       "      <td>YES</td>\n",
       "      <td>FLOAT64</td>\n",
       "      <td>NEVER</td>\n",
       "      <td>None</td>\n",
       "      <td>None</td>\n",
       "      <td>NO</td>\n",
       "      <td>None</td>\n",
       "      <td>NO</td>\n",
       "      <td>NO</td>\n",
       "      <td>NaN</td>\n",
       "    </tr>\n",
       "    <tr>\n",
       "      <th>25</th>\n",
       "      <td>statmike-mlops</td>\n",
       "      <td>fraud</td>\n",
       "      <td>fraud_prepped</td>\n",
       "      <td>V25</td>\n",
       "      <td>26</td>\n",
       "      <td>YES</td>\n",
       "      <td>FLOAT64</td>\n",
       "      <td>NEVER</td>\n",
       "      <td>None</td>\n",
       "      <td>None</td>\n",
       "      <td>NO</td>\n",
       "      <td>None</td>\n",
       "      <td>NO</td>\n",
       "      <td>NO</td>\n",
       "      <td>NaN</td>\n",
       "    </tr>\n",
       "    <tr>\n",
       "      <th>26</th>\n",
       "      <td>statmike-mlops</td>\n",
       "      <td>fraud</td>\n",
       "      <td>fraud_prepped</td>\n",
       "      <td>V26</td>\n",
       "      <td>27</td>\n",
       "      <td>YES</td>\n",
       "      <td>FLOAT64</td>\n",
       "      <td>NEVER</td>\n",
       "      <td>None</td>\n",
       "      <td>None</td>\n",
       "      <td>NO</td>\n",
       "      <td>None</td>\n",
       "      <td>NO</td>\n",
       "      <td>NO</td>\n",
       "      <td>NaN</td>\n",
       "    </tr>\n",
       "    <tr>\n",
       "      <th>27</th>\n",
       "      <td>statmike-mlops</td>\n",
       "      <td>fraud</td>\n",
       "      <td>fraud_prepped</td>\n",
       "      <td>V27</td>\n",
       "      <td>28</td>\n",
       "      <td>YES</td>\n",
       "      <td>FLOAT64</td>\n",
       "      <td>NEVER</td>\n",
       "      <td>None</td>\n",
       "      <td>None</td>\n",
       "      <td>NO</td>\n",
       "      <td>None</td>\n",
       "      <td>NO</td>\n",
       "      <td>NO</td>\n",
       "      <td>NaN</td>\n",
       "    </tr>\n",
       "    <tr>\n",
       "      <th>28</th>\n",
       "      <td>statmike-mlops</td>\n",
       "      <td>fraud</td>\n",
       "      <td>fraud_prepped</td>\n",
       "      <td>V28</td>\n",
       "      <td>29</td>\n",
       "      <td>YES</td>\n",
       "      <td>FLOAT64</td>\n",
       "      <td>NEVER</td>\n",
       "      <td>None</td>\n",
       "      <td>None</td>\n",
       "      <td>NO</td>\n",
       "      <td>None</td>\n",
       "      <td>NO</td>\n",
       "      <td>NO</td>\n",
       "      <td>NaN</td>\n",
       "    </tr>\n",
       "    <tr>\n",
       "      <th>29</th>\n",
       "      <td>statmike-mlops</td>\n",
       "      <td>fraud</td>\n",
       "      <td>fraud_prepped</td>\n",
       "      <td>Amount</td>\n",
       "      <td>30</td>\n",
       "      <td>YES</td>\n",
       "      <td>FLOAT64</td>\n",
       "      <td>NEVER</td>\n",
       "      <td>None</td>\n",
       "      <td>None</td>\n",
       "      <td>NO</td>\n",
       "      <td>None</td>\n",
       "      <td>NO</td>\n",
       "      <td>NO</td>\n",
       "      <td>NaN</td>\n",
       "    </tr>\n",
       "    <tr>\n",
       "      <th>30</th>\n",
       "      <td>statmike-mlops</td>\n",
       "      <td>fraud</td>\n",
       "      <td>fraud_prepped</td>\n",
       "      <td>Class</td>\n",
       "      <td>31</td>\n",
       "      <td>YES</td>\n",
       "      <td>INT64</td>\n",
       "      <td>NEVER</td>\n",
       "      <td>None</td>\n",
       "      <td>None</td>\n",
       "      <td>NO</td>\n",
       "      <td>None</td>\n",
       "      <td>NO</td>\n",
       "      <td>NO</td>\n",
       "      <td>NaN</td>\n",
       "    </tr>\n",
       "    <tr>\n",
       "      <th>31</th>\n",
       "      <td>statmike-mlops</td>\n",
       "      <td>fraud</td>\n",
       "      <td>fraud_prepped</td>\n",
       "      <td>transaction_id</td>\n",
       "      <td>32</td>\n",
       "      <td>YES</td>\n",
       "      <td>STRING</td>\n",
       "      <td>NEVER</td>\n",
       "      <td>None</td>\n",
       "      <td>None</td>\n",
       "      <td>NO</td>\n",
       "      <td>None</td>\n",
       "      <td>NO</td>\n",
       "      <td>NO</td>\n",
       "      <td>NaN</td>\n",
       "    </tr>\n",
       "    <tr>\n",
       "      <th>32</th>\n",
       "      <td>statmike-mlops</td>\n",
       "      <td>fraud</td>\n",
       "      <td>fraud_prepped</td>\n",
       "      <td>splits</td>\n",
       "      <td>33</td>\n",
       "      <td>YES</td>\n",
       "      <td>STRING</td>\n",
       "      <td>NEVER</td>\n",
       "      <td>None</td>\n",
       "      <td>None</td>\n",
       "      <td>NO</td>\n",
       "      <td>None</td>\n",
       "      <td>NO</td>\n",
       "      <td>NO</td>\n",
       "      <td>NaN</td>\n",
       "    </tr>\n",
       "  </tbody>\n",
       "</table>\n",
       "</div>"
      ],
      "text/plain": [
       "     table_catalog table_schema     table_name     column_name  \\\n",
       "0   statmike-mlops        fraud  fraud_prepped            Time   \n",
       "1   statmike-mlops        fraud  fraud_prepped              V1   \n",
       "2   statmike-mlops        fraud  fraud_prepped              V2   \n",
       "3   statmike-mlops        fraud  fraud_prepped              V3   \n",
       "4   statmike-mlops        fraud  fraud_prepped              V4   \n",
       "5   statmike-mlops        fraud  fraud_prepped              V5   \n",
       "6   statmike-mlops        fraud  fraud_prepped              V6   \n",
       "7   statmike-mlops        fraud  fraud_prepped              V7   \n",
       "8   statmike-mlops        fraud  fraud_prepped              V8   \n",
       "9   statmike-mlops        fraud  fraud_prepped              V9   \n",
       "10  statmike-mlops        fraud  fraud_prepped             V10   \n",
       "11  statmike-mlops        fraud  fraud_prepped             V11   \n",
       "12  statmike-mlops        fraud  fraud_prepped             V12   \n",
       "13  statmike-mlops        fraud  fraud_prepped             V13   \n",
       "14  statmike-mlops        fraud  fraud_prepped             V14   \n",
       "15  statmike-mlops        fraud  fraud_prepped             V15   \n",
       "16  statmike-mlops        fraud  fraud_prepped             V16   \n",
       "17  statmike-mlops        fraud  fraud_prepped             V17   \n",
       "18  statmike-mlops        fraud  fraud_prepped             V18   \n",
       "19  statmike-mlops        fraud  fraud_prepped             V19   \n",
       "20  statmike-mlops        fraud  fraud_prepped             V20   \n",
       "21  statmike-mlops        fraud  fraud_prepped             V21   \n",
       "22  statmike-mlops        fraud  fraud_prepped             V22   \n",
       "23  statmike-mlops        fraud  fraud_prepped             V23   \n",
       "24  statmike-mlops        fraud  fraud_prepped             V24   \n",
       "25  statmike-mlops        fraud  fraud_prepped             V25   \n",
       "26  statmike-mlops        fraud  fraud_prepped             V26   \n",
       "27  statmike-mlops        fraud  fraud_prepped             V27   \n",
       "28  statmike-mlops        fraud  fraud_prepped             V28   \n",
       "29  statmike-mlops        fraud  fraud_prepped          Amount   \n",
       "30  statmike-mlops        fraud  fraud_prepped           Class   \n",
       "31  statmike-mlops        fraud  fraud_prepped  transaction_id   \n",
       "32  statmike-mlops        fraud  fraud_prepped          splits   \n",
       "\n",
       "    ordinal_position is_nullable data_type is_generated generation_expression  \\\n",
       "0                  1         YES     INT64        NEVER                  None   \n",
       "1                  2         YES   FLOAT64        NEVER                  None   \n",
       "2                  3         YES   FLOAT64        NEVER                  None   \n",
       "3                  4         YES   FLOAT64        NEVER                  None   \n",
       "4                  5         YES   FLOAT64        NEVER                  None   \n",
       "5                  6         YES   FLOAT64        NEVER                  None   \n",
       "6                  7         YES   FLOAT64        NEVER                  None   \n",
       "7                  8         YES   FLOAT64        NEVER                  None   \n",
       "8                  9         YES   FLOAT64        NEVER                  None   \n",
       "9                 10         YES   FLOAT64        NEVER                  None   \n",
       "10                11         YES   FLOAT64        NEVER                  None   \n",
       "11                12         YES   FLOAT64        NEVER                  None   \n",
       "12                13         YES   FLOAT64        NEVER                  None   \n",
       "13                14         YES   FLOAT64        NEVER                  None   \n",
       "14                15         YES   FLOAT64        NEVER                  None   \n",
       "15                16         YES   FLOAT64        NEVER                  None   \n",
       "16                17         YES   FLOAT64        NEVER                  None   \n",
       "17                18         YES   FLOAT64        NEVER                  None   \n",
       "18                19         YES   FLOAT64        NEVER                  None   \n",
       "19                20         YES   FLOAT64        NEVER                  None   \n",
       "20                21         YES   FLOAT64        NEVER                  None   \n",
       "21                22         YES   FLOAT64        NEVER                  None   \n",
       "22                23         YES   FLOAT64        NEVER                  None   \n",
       "23                24         YES   FLOAT64        NEVER                  None   \n",
       "24                25         YES   FLOAT64        NEVER                  None   \n",
       "25                26         YES   FLOAT64        NEVER                  None   \n",
       "26                27         YES   FLOAT64        NEVER                  None   \n",
       "27                28         YES   FLOAT64        NEVER                  None   \n",
       "28                29         YES   FLOAT64        NEVER                  None   \n",
       "29                30         YES   FLOAT64        NEVER                  None   \n",
       "30                31         YES     INT64        NEVER                  None   \n",
       "31                32         YES    STRING        NEVER                  None   \n",
       "32                33         YES    STRING        NEVER                  None   \n",
       "\n",
       "   is_stored is_hidden is_updatable is_system_defined is_partitioning_column  \\\n",
       "0       None        NO         None                NO                     NO   \n",
       "1       None        NO         None                NO                     NO   \n",
       "2       None        NO         None                NO                     NO   \n",
       "3       None        NO         None                NO                     NO   \n",
       "4       None        NO         None                NO                     NO   \n",
       "5       None        NO         None                NO                     NO   \n",
       "6       None        NO         None                NO                     NO   \n",
       "7       None        NO         None                NO                     NO   \n",
       "8       None        NO         None                NO                     NO   \n",
       "9       None        NO         None                NO                     NO   \n",
       "10      None        NO         None                NO                     NO   \n",
       "11      None        NO         None                NO                     NO   \n",
       "12      None        NO         None                NO                     NO   \n",
       "13      None        NO         None                NO                     NO   \n",
       "14      None        NO         None                NO                     NO   \n",
       "15      None        NO         None                NO                     NO   \n",
       "16      None        NO         None                NO                     NO   \n",
       "17      None        NO         None                NO                     NO   \n",
       "18      None        NO         None                NO                     NO   \n",
       "19      None        NO         None                NO                     NO   \n",
       "20      None        NO         None                NO                     NO   \n",
       "21      None        NO         None                NO                     NO   \n",
       "22      None        NO         None                NO                     NO   \n",
       "23      None        NO         None                NO                     NO   \n",
       "24      None        NO         None                NO                     NO   \n",
       "25      None        NO         None                NO                     NO   \n",
       "26      None        NO         None                NO                     NO   \n",
       "27      None        NO         None                NO                     NO   \n",
       "28      None        NO         None                NO                     NO   \n",
       "29      None        NO         None                NO                     NO   \n",
       "30      None        NO         None                NO                     NO   \n",
       "31      None        NO         None                NO                     NO   \n",
       "32      None        NO         None                NO                     NO   \n",
       "\n",
       "    clustering_ordinal_position  \n",
       "0                           NaN  \n",
       "1                           NaN  \n",
       "2                           NaN  \n",
       "3                           NaN  \n",
       "4                           NaN  \n",
       "5                           NaN  \n",
       "6                           NaN  \n",
       "7                           NaN  \n",
       "8                           NaN  \n",
       "9                           NaN  \n",
       "10                          NaN  \n",
       "11                          NaN  \n",
       "12                          NaN  \n",
       "13                          NaN  \n",
       "14                          NaN  \n",
       "15                          NaN  \n",
       "16                          NaN  \n",
       "17                          NaN  \n",
       "18                          NaN  \n",
       "19                          NaN  \n",
       "20                          NaN  \n",
       "21                          NaN  \n",
       "22                          NaN  \n",
       "23                          NaN  \n",
       "24                          NaN  \n",
       "25                          NaN  \n",
       "26                          NaN  \n",
       "27                          NaN  \n",
       "28                          NaN  \n",
       "29                          NaN  \n",
       "30                          NaN  \n",
       "31                          NaN  \n",
       "32                          NaN  "
      ]
     },
     "execution_count": 18,
     "metadata": {},
     "output_type": "execute_result"
    }
   ],
   "source": [
    "schema"
   ]
  },
  {
   "cell_type": "markdown",
   "id": "744ab017",
   "metadata": {},
   "source": [
    "## Number of Classes for the VAR_TARGET?"
   ]
  },
  {
   "cell_type": "code",
   "execution_count": 19,
   "id": "2004df38",
   "metadata": {},
   "outputs": [],
   "source": [
    "nclasses = bigquery.query(query = f'SELECT DISTINCT {VAR_TARGET} FROM {DATANAME}.{DATANAME}_prepped WHERE {VAR_TARGET} is not null').to_dataframe()"
   ]
  },
  {
   "cell_type": "code",
   "execution_count": 20,
   "id": "8ce244d5",
   "metadata": {},
   "outputs": [
    {
     "data": {
      "text/html": [
       "<div>\n",
       "<style scoped>\n",
       "    .dataframe tbody tr th:only-of-type {\n",
       "        vertical-align: middle;\n",
       "    }\n",
       "\n",
       "    .dataframe tbody tr th {\n",
       "        vertical-align: top;\n",
       "    }\n",
       "\n",
       "    .dataframe thead th {\n",
       "        text-align: right;\n",
       "    }\n",
       "</style>\n",
       "<table border=\"1\" class=\"dataframe\">\n",
       "  <thead>\n",
       "    <tr style=\"text-align: right;\">\n",
       "      <th></th>\n",
       "      <th>Class</th>\n",
       "    </tr>\n",
       "  </thead>\n",
       "  <tbody>\n",
       "    <tr>\n",
       "      <th>0</th>\n",
       "      <td>0</td>\n",
       "    </tr>\n",
       "    <tr>\n",
       "      <th>1</th>\n",
       "      <td>1</td>\n",
       "    </tr>\n",
       "  </tbody>\n",
       "</table>\n",
       "</div>"
      ],
      "text/plain": [
       "   Class\n",
       "0      0\n",
       "1      1"
      ]
     },
     "execution_count": 20,
     "metadata": {},
     "output_type": "execute_result"
    }
   ],
   "source": [
    "nclasses"
   ]
  },
  {
   "cell_type": "code",
   "execution_count": 21,
   "id": "ca6ae4ca",
   "metadata": {},
   "outputs": [
    {
     "data": {
      "text/plain": [
       "2"
      ]
     },
     "execution_count": 21,
     "metadata": {},
     "output_type": "execute_result"
    }
   ],
   "source": [
    "nclasses = nclasses.shape[0]\n",
    "nclasses"
   ]
  },
  {
   "cell_type": "markdown",
   "id": "43f2bf77",
   "metadata": {},
   "source": [
    "## Prepare Inputs For Tensorflow Training\n",
    "\n",
    "Use the the table schema to prepare the TensorFlow Model:\n",
    "- Omit unused columns\n",
    "- Create `feature_columns` for the model\n",
    "- Define the `dtypes` for TensorFlow"
   ]
  },
  {
   "cell_type": "code",
   "execution_count": 22,
   "id": "82836663",
   "metadata": {},
   "outputs": [],
   "source": [
    "OMIT = VAR_OMIT.split() + ['splits']\n",
    "\n",
    "selected_fields = schema[~schema.column_name.isin(OMIT)].column_name.tolist()\n",
    "\n",
    "feature_columns = []\n",
    "feature_layer_inputs = {}\n",
    "for header in selected_fields:\n",
    "    if header != VAR_TARGET:\n",
    "        feature_columns.append(tf.feature_column.numeric_column(header))\n",
    "        feature_layer_inputs[header] = tf.keras.Input(shape=(1,),name=header)\n",
    "\n",
    "# all the columns in this data source are either float64 or int64\n",
    "output_types = schema[~schema.column_name.isin(OMIT)].data_type.tolist()\n",
    "output_types = [dtypes.float64 if x=='FLOAT64' else dtypes.int64 for x in output_types]"
   ]
  },
  {
   "cell_type": "markdown",
   "id": "13663dc0",
   "metadata": {},
   "source": [
    "Define a function that remaps the input data for TensorFlow into:\n",
    "- features\n",
    "- `target` - and one_hot encoded for multi-class classification"
   ]
  },
  {
   "cell_type": "code",
   "execution_count": 23,
   "id": "337f7592",
   "metadata": {},
   "outputs": [],
   "source": [
    "def transTable(row_dict):\n",
    "    target=row_dict.pop(VAR_TARGET)\n",
    "    target = tf.one_hot(tf.cast(target,tf.int64), nclasses)\n",
    "    target = tf.cast(target, tf.float32)\n",
    "    return(row_dict, target)"
   ]
  },
  {
   "cell_type": "markdown",
   "id": "faed12d5",
   "metadata": {},
   "source": [
    "## Use Tensorflow I/O to Read Batches from BigQuery\n",
    "\n",
    "Setup TensorFlow_IO client > session > table + table.map\n",
    "- https://www.tensorflow.org/io/api_docs/python/tfio/bigquery/BigQueryClient"
   ]
  },
  {
   "cell_type": "code",
   "execution_count": 24,
   "id": "002f0da6",
   "metadata": {},
   "outputs": [],
   "source": [
    "def bq_reader(split):\n",
    "    reader = BigQueryClient()\n",
    "\n",
    "    training = reader.read_session(\n",
    "        parent = f\"projects/{PROJECT_ID}\",\n",
    "        project_id = PROJECT_ID,\n",
    "        table_id = f\"{DATANAME}_prepped\",\n",
    "        dataset_id = DATANAME,\n",
    "        selected_fields = selected_fields,\n",
    "        output_types = output_types,\n",
    "        row_restriction = f\"splits='{split}'\",\n",
    "        requested_streams = 3\n",
    "    )\n",
    "    \n",
    "    return training"
   ]
  },
  {
   "cell_type": "code",
   "execution_count": 25,
   "id": "c4a6120c",
   "metadata": {},
   "outputs": [
    {
     "name": "stderr",
     "output_type": "stream",
     "text": [
      "2021-09-23 18:51:34.850938: I tensorflow/core/platform/profile_utils/cpu_utils.cc:104] CPU Frequency: 2299995000 Hz\n",
      "2021-09-23 18:51:34.851383: I tensorflow/compiler/xla/service/service.cc:168] XLA service 0x56390fac8300 initialized for platform Host (this does not guarantee that XLA will be used). Devices:\n",
      "2021-09-23 18:51:34.851416: I tensorflow/compiler/xla/service/service.cc:176]   StreamExecutor device (0): Host, Default Version\n",
      "2021-09-23 18:51:34.851592: I tensorflow/core/common_runtime/process_util.cc:146] Creating new thread pool with default inter op setting: 2. Tune using inter_op_parallelism_threads for best performance.\n"
     ]
    }
   ],
   "source": [
    "train = bq_reader('TRAIN').parallel_read_rows().map(transTable).shuffle(BATCH_SIZE*10).batch(BATCH_SIZE)\n",
    "validate = bq_reader('VALIDATE').parallel_read_rows().map(transTable).batch(BATCH_SIZE)\n",
    "test = bq_reader('TEST').parallel_read_rows().map(transTable).batch(BATCH_SIZE)"
   ]
  },
  {
   "cell_type": "markdown",
   "id": "d71c770b",
   "metadata": {},
   "source": [
    "Review a single batch of the train data:"
   ]
  },
  {
   "cell_type": "code",
   "execution_count": 26,
   "id": "14dd98ac",
   "metadata": {},
   "outputs": [
    {
     "name": "stdout",
     "output_type": "stream",
     "text": [
      "features:\n",
      " ['Amount', 'Time', 'V1', 'V10', 'V11', 'V12', 'V13', 'V14', 'V15', 'V16', 'V17', 'V18', 'V19', 'V2', 'V20', 'V21', 'V22', 'V23', 'V24', 'V25', 'V26', 'V27', 'V28', 'V3', 'V4', 'V5', 'V6', 'V7', 'V8', 'V9']\n",
      "\n",
      "target:\n",
      " tf.Tensor(\n",
      "[[1. 0.]\n",
      " [1. 0.]\n",
      " [1. 0.]\n",
      " [1. 0.]\n",
      " [1. 0.]\n",
      " [1. 0.]\n",
      " [1. 0.]\n",
      " [1. 0.]\n",
      " [1. 0.]\n",
      " [1. 0.]], shape=(10, 2), dtype=float32)\n"
     ]
    }
   ],
   "source": [
    "for a, b in train.take(1):\n",
    "    columns=list(a.keys())\n",
    "    print('features:\\n',columns)\n",
    "    print('\\ntarget:\\n',b[0:10])"
   ]
  },
  {
   "cell_type": "markdown",
   "id": "35d4a32a",
   "metadata": {},
   "source": [
    "---\n",
    "## Train the Model In The Notebook\n",
    "\n",
    "Define the Model:"
   ]
  },
  {
   "cell_type": "code",
   "execution_count": 27,
   "id": "d589a1e5",
   "metadata": {},
   "outputs": [],
   "source": [
    "# Simple Logistic Regression\n",
    "feature_layer = tf.keras.layers.DenseFeatures(feature_columns)\n",
    "feature_layer_outputs = feature_layer(feature_layer_inputs)\n",
    "\n",
    "layers = tf.keras.layers.BatchNormalization()(feature_layer_outputs)\n",
    "layers = tf.keras.layers.Dense(nclasses, activation = tf.nn.softmax)(layers)\n",
    "\n",
    "model = tf.keras.Model(\n",
    "    inputs = [v for v in feature_layer_inputs.values()],\n",
    "    outputs = layers\n",
    ")\n",
    "opt = tf.keras.optimizers.SGD() #SGD or Adam\n",
    "loss = tf.keras.losses.CategoricalCrossentropy()\n",
    "model.compile(\n",
    "    optimizer = opt,\n",
    "    loss = loss,\n",
    "    metrics = ['accuracy']\n",
    ")"
   ]
  },
  {
   "cell_type": "code",
   "execution_count": 29,
   "id": "483f38af",
   "metadata": {},
   "outputs": [
    {
     "name": "stdout",
     "output_type": "stream",
     "text": [
      "Model: \"functional_1\"\n",
      "__________________________________________________________________________________________________\n",
      "Layer (type)                    Output Shape         Param #     Connected to                     \n",
      "==================================================================================================\n",
      "Amount (InputLayer)             [(None, 1)]          0                                            \n",
      "__________________________________________________________________________________________________\n",
      "Time (InputLayer)               [(None, 1)]          0                                            \n",
      "__________________________________________________________________________________________________\n",
      "V1 (InputLayer)                 [(None, 1)]          0                                            \n",
      "__________________________________________________________________________________________________\n",
      "V10 (InputLayer)                [(None, 1)]          0                                            \n",
      "__________________________________________________________________________________________________\n",
      "V11 (InputLayer)                [(None, 1)]          0                                            \n",
      "__________________________________________________________________________________________________\n",
      "V12 (InputLayer)                [(None, 1)]          0                                            \n",
      "__________________________________________________________________________________________________\n",
      "V13 (InputLayer)                [(None, 1)]          0                                            \n",
      "__________________________________________________________________________________________________\n",
      "V14 (InputLayer)                [(None, 1)]          0                                            \n",
      "__________________________________________________________________________________________________\n",
      "V15 (InputLayer)                [(None, 1)]          0                                            \n",
      "__________________________________________________________________________________________________\n",
      "V16 (InputLayer)                [(None, 1)]          0                                            \n",
      "__________________________________________________________________________________________________\n",
      "V17 (InputLayer)                [(None, 1)]          0                                            \n",
      "__________________________________________________________________________________________________\n",
      "V18 (InputLayer)                [(None, 1)]          0                                            \n",
      "__________________________________________________________________________________________________\n",
      "V19 (InputLayer)                [(None, 1)]          0                                            \n",
      "__________________________________________________________________________________________________\n",
      "V2 (InputLayer)                 [(None, 1)]          0                                            \n",
      "__________________________________________________________________________________________________\n",
      "V20 (InputLayer)                [(None, 1)]          0                                            \n",
      "__________________________________________________________________________________________________\n",
      "V21 (InputLayer)                [(None, 1)]          0                                            \n",
      "__________________________________________________________________________________________________\n",
      "V22 (InputLayer)                [(None, 1)]          0                                            \n",
      "__________________________________________________________________________________________________\n",
      "V23 (InputLayer)                [(None, 1)]          0                                            \n",
      "__________________________________________________________________________________________________\n",
      "V24 (InputLayer)                [(None, 1)]          0                                            \n",
      "__________________________________________________________________________________________________\n",
      "V25 (InputLayer)                [(None, 1)]          0                                            \n",
      "__________________________________________________________________________________________________\n",
      "V26 (InputLayer)                [(None, 1)]          0                                            \n",
      "__________________________________________________________________________________________________\n",
      "V27 (InputLayer)                [(None, 1)]          0                                            \n",
      "__________________________________________________________________________________________________\n",
      "V28 (InputLayer)                [(None, 1)]          0                                            \n",
      "__________________________________________________________________________________________________\n",
      "V3 (InputLayer)                 [(None, 1)]          0                                            \n",
      "__________________________________________________________________________________________________\n",
      "V4 (InputLayer)                 [(None, 1)]          0                                            \n",
      "__________________________________________________________________________________________________\n",
      "V5 (InputLayer)                 [(None, 1)]          0                                            \n",
      "__________________________________________________________________________________________________\n",
      "V6 (InputLayer)                 [(None, 1)]          0                                            \n",
      "__________________________________________________________________________________________________\n",
      "V7 (InputLayer)                 [(None, 1)]          0                                            \n",
      "__________________________________________________________________________________________________\n",
      "V8 (InputLayer)                 [(None, 1)]          0                                            \n",
      "__________________________________________________________________________________________________\n",
      "V9 (InputLayer)                 [(None, 1)]          0                                            \n",
      "__________________________________________________________________________________________________\n",
      "dense_features (DenseFeatures)  (None, 30)           0           Amount[0][0]                     \n",
      "                                                                 Time[0][0]                       \n",
      "                                                                 V1[0][0]                         \n",
      "                                                                 V10[0][0]                        \n",
      "                                                                 V11[0][0]                        \n",
      "                                                                 V12[0][0]                        \n",
      "                                                                 V13[0][0]                        \n",
      "                                                                 V14[0][0]                        \n",
      "                                                                 V15[0][0]                        \n",
      "                                                                 V16[0][0]                        \n",
      "                                                                 V17[0][0]                        \n",
      "                                                                 V18[0][0]                        \n",
      "                                                                 V19[0][0]                        \n",
      "                                                                 V2[0][0]                         \n",
      "                                                                 V20[0][0]                        \n",
      "                                                                 V21[0][0]                        \n",
      "                                                                 V22[0][0]                        \n",
      "                                                                 V23[0][0]                        \n",
      "                                                                 V24[0][0]                        \n",
      "                                                                 V25[0][0]                        \n",
      "                                                                 V26[0][0]                        \n",
      "                                                                 V27[0][0]                        \n",
      "                                                                 V28[0][0]                        \n",
      "                                                                 V3[0][0]                         \n",
      "                                                                 V4[0][0]                         \n",
      "                                                                 V5[0][0]                         \n",
      "                                                                 V6[0][0]                         \n",
      "                                                                 V7[0][0]                         \n",
      "                                                                 V8[0][0]                         \n",
      "                                                                 V9[0][0]                         \n",
      "__________________________________________________________________________________________________\n",
      "batch_normalization (BatchNorma (None, 30)           120         dense_features[0][0]             \n",
      "__________________________________________________________________________________________________\n",
      "dense (Dense)                   (None, 2)            62          batch_normalization[0][0]        \n",
      "==================================================================================================\n",
      "Total params: 182\n",
      "Trainable params: 122\n",
      "Non-trainable params: 60\n",
      "__________________________________________________________________________________________________\n"
     ]
    }
   ],
   "source": [
    "model.summary()"
   ]
  },
  {
   "cell_type": "markdown",
   "id": "e3d54e3f",
   "metadata": {},
   "source": [
    "Fit the Model:"
   ]
  },
  {
   "cell_type": "code",
   "execution_count": 30,
   "id": "54bc4218",
   "metadata": {},
   "outputs": [
    {
     "name": "stdout",
     "output_type": "stream",
     "text": [
      "Epoch 1/10\n",
      "2274/2274 [==============================] - 79s 35ms/step - loss: 0.0617 - accuracy: 0.9831 - val_loss: 0.0135 - val_accuracy: 0.9991\n",
      "Epoch 2/10\n",
      "2274/2274 [==============================] - 84s 37ms/step - loss: 0.0088 - accuracy: 0.9992 - val_loss: 0.0104 - val_accuracy: 0.9992\n",
      "Epoch 3/10\n",
      "2274/2274 [==============================] - 82s 36ms/step - loss: 0.0070 - accuracy: 0.9992 - val_loss: 0.0094 - val_accuracy: 0.9992\n",
      "Epoch 4/10\n",
      "2274/2274 [==============================] - 81s 36ms/step - loss: 0.0062 - accuracy: 0.9993 - val_loss: 0.0088 - val_accuracy: 0.9992\n",
      "Epoch 5/10\n",
      "2274/2274 [==============================] - 79s 35ms/step - loss: 0.0060 - accuracy: 0.9992 - val_loss: 0.0083 - val_accuracy: 0.9992\n",
      "Epoch 6/10\n",
      "2274/2274 [==============================] - 81s 36ms/step - loss: 0.0057 - accuracy: 0.9992 - val_loss: 0.0079 - val_accuracy: 0.9992\n",
      "Epoch 7/10\n",
      "2274/2274 [==============================] - 83s 37ms/step - loss: 0.0052 - accuracy: 0.9992 - val_loss: 0.0077 - val_accuracy: 0.9993\n",
      "Epoch 8/10\n",
      "2274/2274 [==============================] - 79s 35ms/step - loss: 0.0052 - accuracy: 0.9993 - val_loss: 0.0074 - val_accuracy: 0.9993\n",
      "Epoch 9/10\n",
      "2274/2274 [==============================] - 80s 35ms/step - loss: 0.0051 - accuracy: 0.9993 - val_loss: 0.0071 - val_accuracy: 0.9993\n",
      "Epoch 10/10\n",
      "2274/2274 [==============================] - 78s 34ms/step - loss: 0.0050 - accuracy: 0.9993 - val_loss: 0.0070 - val_accuracy: 0.9993\n"
     ]
    }
   ],
   "source": [
    "history = model.fit(train, epochs = EPOCHS, validation_data = validate)"
   ]
  },
  {
   "cell_type": "code",
   "execution_count": 34,
   "id": "9af5d491",
   "metadata": {},
   "outputs": [
    {
     "data": {
      "text/plain": [
       "0.0039153494872152805"
      ]
     },
     "execution_count": 34,
     "metadata": {},
     "output_type": "execute_result"
    }
   ],
   "source": [
    "history.history['loss'][-1]"
   ]
  },
  {
   "cell_type": "markdown",
   "id": "e13a7f8d",
   "metadata": {},
   "source": [
    "Evaluate the model with the test data:"
   ]
  },
  {
   "cell_type": "code",
   "execution_count": 35,
   "id": "2ebba2ea",
   "metadata": {},
   "outputs": [
    {
     "name": "stdout",
     "output_type": "stream",
     "text": [
      "290/290 [==============================] - 5s 18ms/step - loss: 0.0038 - accuracy: 0.9994\n"
     ]
    }
   ],
   "source": [
    "loss, accuracy = model.evaluate(test)"
   ]
  },
  {
   "cell_type": "code",
   "execution_count": 36,
   "id": "8ebabd6b",
   "metadata": {},
   "outputs": [
    {
     "name": "stdout",
     "output_type": "stream",
     "text": [
      "285/285 [==============================] - 6s 21ms/step - loss: 0.0057 - accuracy: 0.9992\n"
     ]
    }
   ],
   "source": [
    "loss, accuracy = model.evaluate(validate)"
   ]
  },
  {
   "cell_type": "code",
   "execution_count": 37,
   "id": "fa642213",
   "metadata": {},
   "outputs": [
    {
     "name": "stdout",
     "output_type": "stream",
     "text": [
      "2274/2274 [==============================] - 77s 34ms/step - loss: 0.0050 - accuracy: 0.9994\n"
     ]
    }
   ],
   "source": [
    "loss, accuracy = model.evaluate(train)"
   ]
  },
  {
   "cell_type": "markdown",
   "id": "dfc24642",
   "metadata": {},
   "source": [
    "Create Prediction from a batch of the test data and review first row:"
   ]
  },
  {
   "cell_type": "code",
   "execution_count": 39,
   "id": "7b4a410b",
   "metadata": {},
   "outputs": [
    {
     "data": {
      "text/plain": [
       "array([9.9971837e-01, 2.8160628e-04], dtype=float32)"
      ]
     },
     "execution_count": 39,
     "metadata": {},
     "output_type": "execute_result"
    }
   ],
   "source": [
    "model.predict(test.take(1))[0]"
   ]
  },
  {
   "cell_type": "markdown",
   "id": "d894db94",
   "metadata": {},
   "source": [
    "---\n",
    "## Serving"
   ]
  },
  {
   "cell_type": "markdown",
   "id": "3456e893",
   "metadata": {},
   "source": [
    "### Save The Model"
   ]
  },
  {
   "cell_type": "code",
   "execution_count": 40,
   "id": "7b951310",
   "metadata": {},
   "outputs": [
    {
     "name": "stdout",
     "output_type": "stream",
     "text": [
      "WARNING:tensorflow:From /opt/conda/lib/python3.7/site-packages/tensorflow/python/training/tracking/tracking.py:111: Model.state_updates (from tensorflow.python.keras.engine.training) is deprecated and will be removed in a future version.\n",
      "Instructions for updating:\n",
      "This property should not be used in TensorFlow 2.0, as updates are applied automatically.\n",
      "WARNING:tensorflow:From /opt/conda/lib/python3.7/site-packages/tensorflow/python/training/tracking/tracking.py:111: Model.state_updates (from tensorflow.python.keras.engine.training) is deprecated and will be removed in a future version.\n",
      "Instructions for updating:\n",
      "This property should not be used in TensorFlow 2.0, as updates are applied automatically.\n",
      "WARNING:tensorflow:From /opt/conda/lib/python3.7/site-packages/tensorflow/python/training/tracking/tracking.py:111: Layer.updates (from tensorflow.python.keras.engine.base_layer) is deprecated and will be removed in a future version.\n",
      "Instructions for updating:\n",
      "This property should not be used in TensorFlow 2.0, as updates are applied automatically.\n",
      "WARNING:tensorflow:From /opt/conda/lib/python3.7/site-packages/tensorflow/python/training/tracking/tracking.py:111: Layer.updates (from tensorflow.python.keras.engine.base_layer) is deprecated and will be removed in a future version.\n",
      "Instructions for updating:\n",
      "This property should not be used in TensorFlow 2.0, as updates are applied automatically.\n"
     ]
    },
    {
     "name": "stderr",
     "output_type": "stream",
     "text": [
      "2021-09-23 14:27:43.247955: W tensorflow/python/util/util.cc:348] Sets are not currently considered sequences, but this may change in the future, so consider avoiding using them.\n"
     ]
    },
    {
     "name": "stdout",
     "output_type": "stream",
     "text": [
      "INFO:tensorflow:Assets written to: gs://statmike-mlops/fraud/models/04a/assets\n",
      "INFO:tensorflow:Assets written to: gs://statmike-mlops/fraud/models/04a/assets\n"
     ]
    }
   ],
   "source": [
    "model.save(URI)"
   ]
  },
  {
   "cell_type": "markdown",
   "id": "d6d55c32",
   "metadata": {},
   "source": [
    "### Upload The Model"
   ]
  },
  {
   "cell_type": "code",
   "execution_count": 41,
   "id": "42d74b8f",
   "metadata": {},
   "outputs": [
    {
     "name": "stdout",
     "output_type": "stream",
     "text": [
      "INFO:google.cloud.aiplatform.models:Creating Model\n",
      "INFO:google.cloud.aiplatform.models:Create Model backing LRO: projects/691911073727/locations/us-central1/models/4311554528416628736/operations/743658812614901760\n",
      "INFO:google.cloud.aiplatform.models:Model created. Resource name: projects/691911073727/locations/us-central1/models/4311554528416628736\n",
      "INFO:google.cloud.aiplatform.models:To use this Model in another session:\n",
      "INFO:google.cloud.aiplatform.models:model = aiplatform.Model('projects/691911073727/locations/us-central1/models/4311554528416628736')\n"
     ]
    }
   ],
   "source": [
    "model = aiplatform.Model.upload(\n",
    "    display_name = f'{NOTEBOOK}_{DATANAME}_{TIMESTAMP}',\n",
    "    serving_container_image_uri = DEPLOY_IMAGE,\n",
    "    artifact_uri = URI,\n",
    "    labels = {'notebook':f'{NOTEBOOK}'}\n",
    ")"
   ]
  },
  {
   "cell_type": "code",
   "execution_count": 42,
   "id": "1f094070",
   "metadata": {},
   "outputs": [
    {
     "data": {
      "text/plain": [
       "'04a_fraud_20210923133320'"
      ]
     },
     "execution_count": 42,
     "metadata": {},
     "output_type": "execute_result"
    }
   ],
   "source": [
    "model.display_name"
   ]
  },
  {
   "cell_type": "markdown",
   "id": "a2b99318",
   "metadata": {},
   "source": [
    "### Create An Endpoint"
   ]
  },
  {
   "cell_type": "code",
   "execution_count": 43,
   "id": "89fd5064",
   "metadata": {},
   "outputs": [
    {
     "name": "stdout",
     "output_type": "stream",
     "text": [
      "INFO:google.cloud.aiplatform.models:Creating Endpoint\n",
      "INFO:google.cloud.aiplatform.models:Create Endpoint backing LRO: projects/691911073727/locations/us-central1/endpoints/3110562375443415040/operations/4582977494948249600\n",
      "INFO:google.cloud.aiplatform.models:Endpoint created. Resource name: projects/691911073727/locations/us-central1/endpoints/3110562375443415040\n",
      "INFO:google.cloud.aiplatform.models:To use this Endpoint in another session:\n",
      "INFO:google.cloud.aiplatform.models:endpoint = aiplatform.Endpoint('projects/691911073727/locations/us-central1/endpoints/3110562375443415040')\n"
     ]
    }
   ],
   "source": [
    "endpoint = aiplatform.Endpoint.create(\n",
    "    display_name = f'{NOTEBOOK}_{DATANAME}_{TIMESTAMP}',\n",
    "    labels = {'notebook':f'{NOTEBOOK}'}\n",
    ")"
   ]
  },
  {
   "cell_type": "code",
   "execution_count": 44,
   "id": "4bf978d4",
   "metadata": {},
   "outputs": [
    {
     "data": {
      "text/plain": [
       "'04a_fraud_20210923133320'"
      ]
     },
     "execution_count": 44,
     "metadata": {},
     "output_type": "execute_result"
    }
   ],
   "source": [
    "endpoint.display_name"
   ]
  },
  {
   "cell_type": "markdown",
   "id": "832fd3a9",
   "metadata": {},
   "source": [
    "### Deploy Model To Endpoint"
   ]
  },
  {
   "cell_type": "code",
   "execution_count": 45,
   "id": "89e7ad4a",
   "metadata": {},
   "outputs": [
    {
     "name": "stdout",
     "output_type": "stream",
     "text": [
      "INFO:google.cloud.aiplatform.models:Deploying Model projects/691911073727/locations/us-central1/models/4311554528416628736 to Endpoint : projects/691911073727/locations/us-central1/endpoints/3110562375443415040\n",
      "INFO:google.cloud.aiplatform.models:Deploy Endpoint model backing LRO: projects/691911073727/locations/us-central1/endpoints/3110562375443415040/operations/5988100578687844352\n",
      "INFO:google.cloud.aiplatform.models:Endpoint model deployed. Resource name: projects/691911073727/locations/us-central1/endpoints/3110562375443415040\n"
     ]
    }
   ],
   "source": [
    "endpoint.deploy(\n",
    "    model = model,\n",
    "    deployed_model_display_name = f'{NOTEBOOK}_{DATANAME}_{TIMESTAMP}',\n",
    "    traffic_percentage = 100,\n",
    "    machine_type = DEPLOY_COMPUTE,\n",
    "    min_replica_count = 1,\n",
    "    max_replica_count = 1\n",
    ")"
   ]
  },
  {
   "cell_type": "markdown",
   "id": "020fa940",
   "metadata": {},
   "source": [
    "---\n",
    "## Prediction"
   ]
  },
  {
   "cell_type": "markdown",
   "id": "c35e993c",
   "metadata": {},
   "source": [
    "### Prepare a record for prediction: instance and parameters lists"
   ]
  },
  {
   "cell_type": "code",
   "execution_count": 63,
   "id": "5827f84b",
   "metadata": {},
   "outputs": [],
   "source": [
    "pred = bigquery.query(query = f\"SELECT * FROM {DATANAME}.{DATANAME}_prepped WHERE splits='TEST' LIMIT 10\").to_dataframe()"
   ]
  },
  {
   "cell_type": "code",
   "execution_count": 64,
   "id": "0f7b72ff",
   "metadata": {},
   "outputs": [
    {
     "data": {
      "text/html": [
       "<div>\n",
       "<style scoped>\n",
       "    .dataframe tbody tr th:only-of-type {\n",
       "        vertical-align: middle;\n",
       "    }\n",
       "\n",
       "    .dataframe tbody tr th {\n",
       "        vertical-align: top;\n",
       "    }\n",
       "\n",
       "    .dataframe thead th {\n",
       "        text-align: right;\n",
       "    }\n",
       "</style>\n",
       "<table border=\"1\" class=\"dataframe\">\n",
       "  <thead>\n",
       "    <tr style=\"text-align: right;\">\n",
       "      <th></th>\n",
       "      <th>Time</th>\n",
       "      <th>V1</th>\n",
       "      <th>V2</th>\n",
       "      <th>V3</th>\n",
       "      <th>V4</th>\n",
       "      <th>V5</th>\n",
       "      <th>V6</th>\n",
       "      <th>V7</th>\n",
       "      <th>V8</th>\n",
       "      <th>V9</th>\n",
       "      <th>...</th>\n",
       "      <th>V23</th>\n",
       "      <th>V24</th>\n",
       "      <th>V25</th>\n",
       "      <th>V26</th>\n",
       "      <th>V27</th>\n",
       "      <th>V28</th>\n",
       "      <th>Amount</th>\n",
       "      <th>Class</th>\n",
       "      <th>transaction_id</th>\n",
       "      <th>splits</th>\n",
       "    </tr>\n",
       "  </thead>\n",
       "  <tbody>\n",
       "    <tr>\n",
       "      <th>0</th>\n",
       "      <td>75176</td>\n",
       "      <td>1.235603</td>\n",
       "      <td>0.041383</td>\n",
       "      <td>0.675286</td>\n",
       "      <td>0.836279</td>\n",
       "      <td>-0.675016</td>\n",
       "      <td>-0.657342</td>\n",
       "      <td>-0.154209</td>\n",
       "      <td>-0.067491</td>\n",
       "      <td>0.602617</td>\n",
       "      <td>...</td>\n",
       "      <td>0.088164</td>\n",
       "      <td>0.396205</td>\n",
       "      <td>0.324557</td>\n",
       "      <td>0.182930</td>\n",
       "      <td>-0.017115</td>\n",
       "      <td>0.014979</td>\n",
       "      <td>0.0</td>\n",
       "      <td>0</td>\n",
       "      <td>6f40e111-2131-4031-aef1-268b2daf02a3</td>\n",
       "      <td>TEST</td>\n",
       "    </tr>\n",
       "    <tr>\n",
       "      <th>1</th>\n",
       "      <td>112225</td>\n",
       "      <td>-0.285756</td>\n",
       "      <td>0.965688</td>\n",
       "      <td>2.147689</td>\n",
       "      <td>2.838137</td>\n",
       "      <td>1.104026</td>\n",
       "      <td>1.462921</td>\n",
       "      <td>-0.835272</td>\n",
       "      <td>-0.409875</td>\n",
       "      <td>-0.810586</td>\n",
       "      <td>...</td>\n",
       "      <td>-1.222639</td>\n",
       "      <td>0.044689</td>\n",
       "      <td>1.324343</td>\n",
       "      <td>-0.077670</td>\n",
       "      <td>0.128146</td>\n",
       "      <td>0.179651</td>\n",
       "      <td>0.0</td>\n",
       "      <td>0</td>\n",
       "      <td>c9bdeaf0-79d4-4faf-8aaa-14127a0e3513</td>\n",
       "      <td>TEST</td>\n",
       "    </tr>\n",
       "    <tr>\n",
       "      <th>2</th>\n",
       "      <td>113420</td>\n",
       "      <td>1.890283</td>\n",
       "      <td>0.241366</td>\n",
       "      <td>-0.165823</td>\n",
       "      <td>4.068924</td>\n",
       "      <td>-0.146807</td>\n",
       "      <td>0.140339</td>\n",
       "      <td>-0.258090</td>\n",
       "      <td>0.084852</td>\n",
       "      <td>-0.056567</td>\n",
       "      <td>...</td>\n",
       "      <td>0.097449</td>\n",
       "      <td>0.019180</td>\n",
       "      <td>0.060621</td>\n",
       "      <td>0.136349</td>\n",
       "      <td>-0.010745</td>\n",
       "      <td>-0.049814</td>\n",
       "      <td>0.0</td>\n",
       "      <td>0</td>\n",
       "      <td>611f4879-490d-4ab5-9e4f-c7944d6165eb</td>\n",
       "      <td>TEST</td>\n",
       "    </tr>\n",
       "    <tr>\n",
       "      <th>3</th>\n",
       "      <td>121910</td>\n",
       "      <td>-1.227268</td>\n",
       "      <td>1.555572</td>\n",
       "      <td>1.245848</td>\n",
       "      <td>4.071686</td>\n",
       "      <td>1.154573</td>\n",
       "      <td>2.058276</td>\n",
       "      <td>-1.179951</td>\n",
       "      <td>-2.211140</td>\n",
       "      <td>-2.248168</td>\n",
       "      <td>...</td>\n",
       "      <td>-0.380109</td>\n",
       "      <td>-1.485002</td>\n",
       "      <td>0.237729</td>\n",
       "      <td>0.524141</td>\n",
       "      <td>-0.037543</td>\n",
       "      <td>0.121962</td>\n",
       "      <td>0.0</td>\n",
       "      <td>0</td>\n",
       "      <td>3212444f-1412-49ae-adfa-a1a0ca54d8c5</td>\n",
       "      <td>TEST</td>\n",
       "    </tr>\n",
       "  </tbody>\n",
       "</table>\n",
       "<p>4 rows × 33 columns</p>\n",
       "</div>"
      ],
      "text/plain": [
       "     Time        V1        V2        V3        V4        V5        V6  \\\n",
       "0   75176  1.235603  0.041383  0.675286  0.836279 -0.675016 -0.657342   \n",
       "1  112225 -0.285756  0.965688  2.147689  2.838137  1.104026  1.462921   \n",
       "2  113420  1.890283  0.241366 -0.165823  4.068924 -0.146807  0.140339   \n",
       "3  121910 -1.227268  1.555572  1.245848  4.071686  1.154573  2.058276   \n",
       "\n",
       "         V7        V8        V9  ...       V23       V24       V25       V26  \\\n",
       "0 -0.154209 -0.067491  0.602617  ...  0.088164  0.396205  0.324557  0.182930   \n",
       "1 -0.835272 -0.409875 -0.810586  ... -1.222639  0.044689  1.324343 -0.077670   \n",
       "2 -0.258090  0.084852 -0.056567  ...  0.097449  0.019180  0.060621  0.136349   \n",
       "3 -1.179951 -2.211140 -2.248168  ... -0.380109 -1.485002  0.237729  0.524141   \n",
       "\n",
       "        V27       V28  Amount  Class                        transaction_id  \\\n",
       "0 -0.017115  0.014979     0.0      0  6f40e111-2131-4031-aef1-268b2daf02a3   \n",
       "1  0.128146  0.179651     0.0      0  c9bdeaf0-79d4-4faf-8aaa-14127a0e3513   \n",
       "2 -0.010745 -0.049814     0.0      0  611f4879-490d-4ab5-9e4f-c7944d6165eb   \n",
       "3 -0.037543  0.121962     0.0      0  3212444f-1412-49ae-adfa-a1a0ca54d8c5   \n",
       "\n",
       "   splits  \n",
       "0    TEST  \n",
       "1    TEST  \n",
       "2    TEST  \n",
       "3    TEST  \n",
       "\n",
       "[4 rows x 33 columns]"
      ]
     },
     "execution_count": 64,
     "metadata": {},
     "output_type": "execute_result"
    }
   ],
   "source": [
    "pred.head(4)"
   ]
  },
  {
   "cell_type": "code",
   "execution_count": 65,
   "id": "e7c97ae6",
   "metadata": {},
   "outputs": [],
   "source": [
    "newob = pred[pred.columns[~pred.columns.isin(VAR_OMIT.split()+[VAR_TARGET, 'splits'])]].to_dict(orient='records')[0]\n",
    "#newob"
   ]
  },
  {
   "cell_type": "code",
   "execution_count": 66,
   "id": "fa2d1635",
   "metadata": {},
   "outputs": [],
   "source": [
    "instances = [json_format.ParseDict(newob, Value())]\n",
    "parameters = json_format.ParseDict({}, Value())"
   ]
  },
  {
   "cell_type": "markdown",
   "id": "553eacb2",
   "metadata": {},
   "source": [
    "### Get Predictions: Python Client"
   ]
  },
  {
   "cell_type": "code",
   "execution_count": 67,
   "id": "ad235983",
   "metadata": {},
   "outputs": [
    {
     "data": {
      "text/plain": [
       "Prediction(predictions=[[0.999718368, 0.000281606306]], deployed_model_id='1405483723553505280', explanations=None)"
      ]
     },
     "execution_count": 67,
     "metadata": {},
     "output_type": "execute_result"
    }
   ],
   "source": [
    "prediction = endpoint.predict(instances=instances, parameters=parameters)\n",
    "prediction"
   ]
  },
  {
   "cell_type": "code",
   "execution_count": 68,
   "id": "0dd5a6d4",
   "metadata": {},
   "outputs": [
    {
     "data": {
      "text/plain": [
       "[0.999718368, 0.000281606306]"
      ]
     },
     "execution_count": 68,
     "metadata": {},
     "output_type": "execute_result"
    }
   ],
   "source": [
    "prediction.predictions[0]"
   ]
  },
  {
   "cell_type": "code",
   "execution_count": 69,
   "id": "901d2a37",
   "metadata": {},
   "outputs": [
    {
     "data": {
      "text/plain": [
       "0"
      ]
     },
     "execution_count": 69,
     "metadata": {},
     "output_type": "execute_result"
    }
   ],
   "source": [
    "np.argmax(prediction.predictions[0])"
   ]
  },
  {
   "cell_type": "markdown",
   "id": "719cbddb",
   "metadata": {},
   "source": [
    "### Get Predictions: REST"
   ]
  },
  {
   "cell_type": "code",
   "execution_count": 70,
   "id": "bfba28ef",
   "metadata": {},
   "outputs": [],
   "source": [
    "with open(f'{DIR}/request.json','w') as file:\n",
    "    file.write(json.dumps({\"instances\": [newob]}))"
   ]
  },
  {
   "cell_type": "code",
   "execution_count": 71,
   "id": "08d368e7",
   "metadata": {},
   "outputs": [
    {
     "name": "stdout",
     "output_type": "stream",
     "text": [
      "{\n",
      "  \"predictions\": [\n",
      "    [\n",
      "      0.999718368,\n",
      "      0.000281606306\n",
      "    ]\n",
      "  ],\n",
      "  \"deployedModelId\": \"1405483723553505280\"\n",
      "}\n"
     ]
    }
   ],
   "source": [
    "!curl -X POST \\\n",
    "-H \"Authorization: Bearer \"$(gcloud auth application-default print-access-token) \\\n",
    "-H \"Content-Type: application/json; charset=utf-8\" \\\n",
    "-d @{DIR}/request.json \\\n",
    "https://{REGION}-aiplatform.googleapis.com/v1/{endpoint.resource_name}:predict"
   ]
  },
  {
   "cell_type": "markdown",
   "id": "7dc7644b",
   "metadata": {},
   "source": [
    "### Get Predictions: gcloud (CLI)"
   ]
  },
  {
   "cell_type": "code",
   "execution_count": 72,
   "id": "4955c896",
   "metadata": {},
   "outputs": [
    {
     "name": "stdout",
     "output_type": "stream",
     "text": [
      "Using endpoint [https://us-central1-prediction-aiplatform.googleapis.com/]\n",
      "[[0.999718368, 0.000281606306]]\n"
     ]
    }
   ],
   "source": [
    "!gcloud beta ai endpoints predict {endpoint.name.rsplit('/',1)[-1]} --region={REGION} --json-request={DIR}/request.json"
   ]
  },
  {
   "cell_type": "markdown",
   "id": "88df3a07",
   "metadata": {},
   "source": [
    "---\n",
    "## Remove Resources\n",
    "see notebook \"XX - Cleanup\""
   ]
  }
 ],
 "metadata": {
  "environment": {
   "name": "tf2-gpu.2-3.m79",
   "type": "gcloud",
   "uri": "gcr.io/deeplearning-platform-release/tf2-gpu.2-3:m79"
  },
  "kernelspec": {
   "display_name": "Python 3",
   "language": "python",
   "name": "python3"
  },
  "language_info": {
   "codemirror_mode": {
    "name": "ipython",
    "version": 3
   },
   "file_extension": ".py",
   "mimetype": "text/x-python",
   "name": "python",
   "nbconvert_exporter": "python",
   "pygments_lexer": "ipython3",
   "version": "3.7.10"
  }
 },
 "nbformat": 4,
 "nbformat_minor": 5
}
