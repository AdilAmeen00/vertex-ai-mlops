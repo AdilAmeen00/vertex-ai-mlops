{
 "cells": [
  {
   "cell_type": "markdown",
   "id": "08b4010a",
   "metadata": {},
   "source": [
    "# 05g - Vertex AI > Training > Hyperparameter Tuning Jobs\n",
    "\n",
    "### 05 Series Overview\n",
    "Where a model gets trained is where it consumes computing resources.  With Vertex AI, you have choices for configuring the computing resources available at training.  This notebook is an example of an execution environment.  When it was set up there were choices for machine type and accelerators (GPUs).  \n",
    "\n",
    "In the `05` notebook, the model training happened directly in the notebook.  The models were then imported to Vertex AI and deployed to an endpoint for online predictions. \n",
    "\n",
    "In this `05a-05i` series of demonstrations, the same model is trained using managed computing resources in Vertex AI as custom training jobs.  These jobs will be demonstrated as:\n",
    "\n",
    "-  Custom Job from a python script (`05a`), python source distribution (`05b`), and custom container (`05c`)\n",
    "-  Training Pipeline that trains and saves models from a python script (`05d`), python source distribution (`05e`), and custom container (`05f`)\n",
    "-  Hyperparameter Tuning Jobs from a python script (`05g`), python source distribution (`05h`), and custom container (`05i`)\n",
    "\n",
    "### This Notebook (`05g`): An extension of `05a` with Hyperparameter Tuning\n",
    "This notebook trains the same Tensorflow Keras model from `05` by first modifying and saving the training code to a python script (same as `05a`).\n",
    "\n",
    "The script is then used as an input for a Vertex AI > Training > Custom Job that is also assigned compute resources and a [pre-built container for custom training](https://cloud.google.com/vertex-ai/docs/training/pre-built-containers) for executing the training in a managed service. This is done with [Vertex AI Python SDK](https://googleapis.dev/python/aiplatform/latest/aiplatform.html#) using the class [`aiplatform.CustomJob.from_local_script()`](https://googleapis.dev/python/aiplatform/latest/aiplatform.html#google.cloud.aiplatform.CustomJob.from_local_script).\n",
    "\n",
    "The Custom Job is then used as the input for a Vertex AI > Training > Hyperparameter Tuning Job.  This runs and manages the tuning loops for the number of trials in each loop, collects the metric(s) and manages the parameters with the selected search algorithm for parameter modification.  This is done with the [Vertex AI Python SDK](https://googleapis.dev/python/aiplatform/latest/aiplatform.html#) using the class [`aiplatform.HyperparameterTuningJob()`](https://googleapis.dev/python/aiplatform/latest/aiplatform.html#google.cloud.aiplatform.HyperparameterTuningJob).\n",
    "\n",
    "The training can be reviewed with Vertex AI's managed Tensorboard under Vertex AI > Experiments > Experiments, or by clicking on the `05g...` job under Vertex AI > Training > Hyperparameters Tuning Jobs and then clicking the 'Open Tensorboard' link. Each set of hyperparameters tried will show up as a separate run of the model training.  Tensorboard has section called Hparams that makes comparing these runs easier and the setup and use of this feature is in the next notebooks of the series `05h` and `05i`.\n",
    "\n",
    "<img src=\"architectures/overview/Training.png\">\n",
    "\n",
    "### Prerequisites:\n",
    "-  01 - BigQuery - Table Data Source\n",
    "-  Understanding:\n",
    "    -  05 - Vertex AI > Notebooks - Models Built in Notebooks with Tensorflow\n",
    "        -  Contains a more granular review of the Tensorflow model training\n",
    "\n",
    "### Resources:\n",
    "-  [BigQuery Tensorflow Reader](https://www.tensorflow.org/io/tutorials/bigquery)\n",
    "-  [Keras Sequential](https://www.tensorflow.org/api_docs/python/tf/keras/Sequential)\n",
    "   -  [Keras API](https://www.tensorflow.org/api_docs/python/tf/keras)\n",
    "-  [Python Client For Google BigQuery](https://googleapis.dev/python/bigquery/latest/index.html)\n",
    "-  [Tensorflow Python Client](https://www.tensorflow.org/api_docs/python/tf)\n",
    "-  [Tensorflow I/O Python Client](https://www.tensorflow.org/io/api_docs/python/tfio/bigquery)\n",
    "-  [Python Client for Vertex AI](https://googleapis.dev/python/aiplatform/latest/aiplatform.html)\n",
    "-  Containers for training (Pre-Built)\n",
    "   -  [Overview](https://cloud.google.com/vertex-ai/docs/training/create-python-pre-built-container)\n",
    "   -  [List](https://cloud.google.com/vertex-ai/docs/training/pre-built-containers)\n",
    "-  Vertex AI Hyperparameter Tuning\n",
    "   -  [Overview of Hyperparameter Tuning](https://cloud.google.com/vertex-ai/docs/training/hyperparameter-tuning-overview)\n",
    "   -  [Using Hyperparameter Tuning](https://cloud.google.com/vertex-ai/docs/training/using-hyperparameter-tuning)\n"
   ]
  },
  {
   "cell_type": "markdown",
   "id": "de1da57d",
   "metadata": {},
   "source": [
    "---\n",
    "## Vertex AI - Conceptual Flow\n",
    "\n",
    "<img src=\"architectures/slides/05g_arch.png\">\n",
    "\n",
    "---\n",
    "## Vertex AI - Workflow\n",
    "\n",
    "<img src=\"architectures/slides/05g_console.png\">"
   ]
  },
  {
   "cell_type": "markdown",
   "id": "c6aa954d",
   "metadata": {},
   "source": [
    "---\n",
    "## Setup"
   ]
  },
  {
   "cell_type": "markdown",
   "id": "f05565fc",
   "metadata": {},
   "source": [
    "inputs:"
   ]
  },
  {
   "cell_type": "code",
   "execution_count": 1,
   "id": "0c0d813b-0c5f-4ade-85b0-e8b3d12c0d70",
   "metadata": {},
   "outputs": [
    {
     "data": {
      "text/plain": [
       "'statmike-mlops-349915'"
      ]
     },
     "execution_count": 1,
     "metadata": {},
     "output_type": "execute_result"
    }
   ],
   "source": [
    "project = !gcloud config get-value project\n",
    "PROJECT_ID = project[0]\n",
    "PROJECT_ID"
   ]
  },
  {
   "cell_type": "code",
   "execution_count": 2,
   "id": "5cbb3331",
   "metadata": {},
   "outputs": [],
   "source": [
    "REGION = 'us-central1'\n",
    "EXPERIMENT = '05g'\n",
    "SERIES = '05'\n",
    "\n",
    "# source data\n",
    "BQ_PROJECT = PROJECT_ID\n",
    "BQ_DATASET = 'fraud'\n",
    "BQ_TABLE = 'fraud_prepped'\n",
    "\n",
    "# Resources\n",
    "TRAIN_IMAGE = 'us-docker.pkg.dev/vertex-ai/training/tf-cpu.2-7:latest'\n",
    "DEPLOY_IMAGE ='us-docker.pkg.dev/vertex-ai/prediction/tf2-cpu.2-7:latest'\n",
    "TRAIN_COMPUTE = 'n1-standard-4'\n",
    "DEPLOY_COMPUTE = 'n1-standard-4'\n",
    "\n",
    "# Model Training\n",
    "VAR_TARGET = 'Class'\n",
    "VAR_OMIT = 'transaction_id' # add more variables to the string with space delimiters\n",
    "EPOCHS = 10\n",
    "BATCH_SIZE = 100"
   ]
  },
  {
   "cell_type": "markdown",
   "id": "9328f759",
   "metadata": {},
   "source": [
    "packages:"
   ]
  },
  {
   "cell_type": "code",
   "execution_count": 3,
   "id": "2b9e6218",
   "metadata": {},
   "outputs": [],
   "source": [
    "from google.cloud import aiplatform\n",
    "from datetime import datetime\n",
    "\n",
    "from google.cloud import bigquery\n",
    "from google.protobuf import json_format\n",
    "from google.protobuf.struct_pb2 import Value\n",
    "import json\n",
    "import numpy as np\n",
    "import pandas as pd"
   ]
  },
  {
   "cell_type": "markdown",
   "id": "0ca8d5b7",
   "metadata": {},
   "source": [
    "clients:"
   ]
  },
  {
   "cell_type": "code",
   "execution_count": 4,
   "id": "d7f7b473",
   "metadata": {},
   "outputs": [],
   "source": [
    "aiplatform.init(project=PROJECT_ID, location=REGION)\n",
    "bigquery = bigquery.Client()"
   ]
  },
  {
   "cell_type": "markdown",
   "id": "741ed844",
   "metadata": {},
   "source": [
    "parameters:"
   ]
  },
  {
   "cell_type": "code",
   "execution_count": 5,
   "id": "f2c63af6",
   "metadata": {},
   "outputs": [],
   "source": [
    "TIMESTAMP = datetime.now().strftime(\"%Y%m%d%H%M%S\")\n",
    "BUCKET = PROJECT_ID\n",
    "URI = f\"gs://{BUCKET}/{BQ_DATASET}/models/{SERIES}/{EXPERIMENT}\"\n",
    "DIR = f\"temp/{EXPERIMENT}\""
   ]
  },
  {
   "cell_type": "code",
   "execution_count": 6,
   "id": "1be55ce8",
   "metadata": {},
   "outputs": [
    {
     "data": {
      "text/plain": [
       "'1026793852137-compute@developer.gserviceaccount.com'"
      ]
     },
     "execution_count": 6,
     "metadata": {},
     "output_type": "execute_result"
    }
   ],
   "source": [
    "# Give service account roles/storage.objectAdmin permissions\n",
    "# Console > IMA > Select Account <projectnumber>-compute@developer.gserviceaccount.com > edit - give role\n",
    "SERVICE_ACCOUNT = !gcloud config list --format='value(core.account)' \n",
    "SERVICE_ACCOUNT = SERVICE_ACCOUNT[0]\n",
    "SERVICE_ACCOUNT"
   ]
  },
  {
   "cell_type": "markdown",
   "id": "476af43c",
   "metadata": {},
   "source": [
    "environment:"
   ]
  },
  {
   "cell_type": "code",
   "execution_count": 7,
   "id": "194cf496",
   "metadata": {},
   "outputs": [],
   "source": [
    "!rm -rf {DIR}\n",
    "!mkdir -p {DIR}"
   ]
  },
  {
   "cell_type": "markdown",
   "id": "0600913c-5696-44dd-9789-c06a2434eaae",
   "metadata": {},
   "source": [
    "Experiment Tracking:"
   ]
  },
  {
   "cell_type": "code",
   "execution_count": 8,
   "id": "904180b8-9685-4d4a-82f7-7bfacdce1edc",
   "metadata": {},
   "outputs": [],
   "source": [
    "FRAMEWORK = 'tf'\n",
    "TASK = 'classification'\n",
    "MODEL_TYPE = 'dnn'\n",
    "EXPERIMENT_NAME = f'experiment-{SERIES}-{EXPERIMENT}-{FRAMEWORK}-{TASK}-{MODEL_TYPE}'\n",
    "RUN_NAME = f'run-{TIMESTAMP}'"
   ]
  },
  {
   "cell_type": "markdown",
   "id": "351c17fe-cf92-4014-be03-0c711a4fba9c",
   "metadata": {
    "tags": []
   },
   "source": [
    "---\n",
    "## Get Vertex AI Experiments TensorBoard Instance Name\n",
    "[Vertex AI Experiments](https://cloud.google.com/vertex-ai/docs/experiments/tensorboard-overview) has managed [TensorBoard](https://www.tensorflow.org/tensorboard) instances that you can track TensorBoard Experiments (a training run or hyperparameter tuning sweep).  \n",
    "\n",
    "The training job will show up as an experiment for the TensorBoard instance and have the same name as the training job ID.\n",
    "\n",
    "This code checks to see if a TensorBoard Instance has been created in the project, retrieves it if so, creates it otherwise:"
   ]
  },
  {
   "cell_type": "code",
   "execution_count": 9,
   "id": "b930b1c6-2891-4ae3-9ac6-50bdffcb0122",
   "metadata": {},
   "outputs": [],
   "source": [
    "tb = aiplatform.Tensorboard.list(filter=f\"labels.series={SERIES}\")\n",
    "if tb:\n",
    "    tb = tb[0]\n",
    "else: \n",
    "    tb = aiplatform.Tensorboard.create(display_name = SERIES, labels = {'series' : f'{SERIES}'})"
   ]
  },
  {
   "cell_type": "code",
   "execution_count": 10,
   "id": "76a7716d-7645-48dd-8398-e7e70ad739e1",
   "metadata": {
    "tags": []
   },
   "outputs": [
    {
     "data": {
      "text/plain": [
       "'projects/1026793852137/locations/us-central1/tensorboards/7179142426307592192'"
      ]
     },
     "execution_count": 10,
     "metadata": {},
     "output_type": "execute_result"
    }
   ],
   "source": [
    "tb.resource_name"
   ]
  },
  {
   "cell_type": "markdown",
   "id": "1b71cfa9-24fb-41e0-9c02-85cb9107a6bf",
   "metadata": {
    "tags": []
   },
   "source": [
    "---\n",
    "## Setup Vertex AI Experiments\n",
    "\n",
    "The code in this section initializes the experiment and starts a run that represents this notebook.  Throughout the notebook sections for model training and evaluation information will be logged to the experiment using:\n",
    "- [.log_params](https://cloud.google.com/python/docs/reference/aiplatform/latest/google.cloud.aiplatform#google_cloud_aiplatform_log_params)\n",
    "- [.log_metrics](https://cloud.google.com/python/docs/reference/aiplatform/latest/google.cloud.aiplatform#google_cloud_aiplatform_log_metrics)\n",
    "- [.log_time_series_metrics](https://cloud.google.com/python/docs/reference/aiplatform/latest/google.cloud.aiplatform#google_cloud_aiplatform_log_time_series_metrics)"
   ]
  },
  {
   "cell_type": "code",
   "execution_count": 11,
   "id": "b50688f8-8c11-462a-9a37-6f503a7cd85d",
   "metadata": {
    "tags": []
   },
   "outputs": [],
   "source": [
    "aiplatform.init(experiment = EXPERIMENT_NAME, experiment_tensorboard = tb.resource_name)"
   ]
  },
  {
   "cell_type": "markdown",
   "id": "06880307",
   "metadata": {},
   "source": [
    "---\n",
    "## Training"
   ]
  },
  {
   "cell_type": "markdown",
   "id": "bba9d1f3-f1dc-4506-8e33-c85765902ff6",
   "metadata": {},
   "source": [
    "### Assemble Python File for Training\n",
    "\n",
    "This is the training code from the notebook based training in `05` restructured as a Python Script that has parameter inputs and creates a Vertex AI Experiment run.\n",
    "\n",
    "Create the main python trainer file as `/train.py`:"
   ]
  },
  {
   "cell_type": "markdown",
   "id": "4536253b-c92e-4d2f-8e4e-294340129691",
   "metadata": {},
   "source": [
    "#### Review Pre-Built `05_train_hp.py`"
   ]
  },
  {
   "cell_type": "code",
   "execution_count": 19,
   "id": "5b59ef69-fb65-4f4a-ad00-d0ea4e1572d9",
   "metadata": {},
   "outputs": [
    {
     "data": {
      "text/markdown": [
       "```python\n",
       "# package import\n",
       "from tensorflow.python.framework import dtypes\n",
       "from tensorflow_io.bigquery import BigQueryClient\n",
       "import tensorflow as tf\n",
       "from google.cloud import bigquery\n",
       "from google.cloud import aiplatform\n",
       "import argparse\n",
       "import os\n",
       "import sys\n",
       "import hypertune\n",
       "from tensorboard.plugins.hparams import api as hp\n",
       "\n",
       "# import argument to local variables\n",
       "parser = argparse.ArgumentParser()\n",
       "# the passed param, dest: a name for the param, default: if absent fetch this param from the OS, type: type to convert to, help: description of argument\n",
       "parser.add_argument('--epochs', dest = 'epochs', default = 10, type = int, help = 'Number of Epochs')\n",
       "parser.add_argument('--batch_size', dest = 'batch_size', default = 32, type = int, help = 'Batch Size')\n",
       "parser.add_argument('--var_target', dest = 'var_target', type=str)\n",
       "parser.add_argument('--var_omit', dest = 'var_omit', type=str, nargs='*')\n",
       "parser.add_argument('--project_id', dest = 'project_id', type=str)\n",
       "parser.add_argument('--bq_project', dest = 'bq_project', type=str)\n",
       "parser.add_argument('--bq_dataset', dest = 'bq_dataset', type=str)\n",
       "parser.add_argument('--bq_table', dest = 'bq_table', type=str)\n",
       "parser.add_argument('--region', dest = 'region', type=str)\n",
       "parser.add_argument('--experiment', dest = 'experiment', type=str)\n",
       "parser.add_argument('--series', dest = 'series', type=str)\n",
       "parser.add_argument('--experiment_name', dest = 'experiment_name', type=str)\n",
       "parser.add_argument('--run_name', dest = 'run_name', type=str)\n",
       "# hyperparameters\n",
       "parser.add_argument('--lr', dest='learning_rate', required=True, type=float, help='Learning Rate')\n",
       "parser.add_argument('--m', dest='momentum', required=True, type=float, help='Momentum')\n",
       "args = parser.parse_args()\n",
       "\n",
       "# setup tensorboard hparams\n",
       "HP_LEARNING_RATE = hp.HParam('learning_rate', hp.RealInterval(0.0, 1.0))\n",
       "HP_MOMENTUM = hp.HParam('momentum', hp.RealInterval(0.0,1.0))\n",
       "hparams = {\n",
       "    HP_LEARNING_RATE: args.learning_rate,\n",
       "    HP_MOMENTUM: args.momentum\n",
       "}\n",
       "\n",
       "# clients\n",
       "bigquery = bigquery.Client(project = args.project_id)\n",
       "aiplatform.init(project = args.project_id, location = args.region)\n",
       "hpt = hypertune.HyperTune()\n",
       "args.run_name = f'{args.run_name}-{hpt.trial_id}'\n",
       "\n",
       "# Vertex AI Experiment\n",
       "expRun = aiplatform.ExperimentRun.create(run_name = args.run_name, experiment = args.experiment_name)\n",
       "expRun.log_params({'experiment': args.experiment, 'series': args.series, 'project_id': args.project_id})\n",
       "expRun.log_params({'hyperparameter.learning_rate': args.learning_rate, 'hyperparameter.momentum': args.momentum})\n",
       "\n",
       "# get schema from bigquery source\n",
       "query = f\"SELECT * FROM {args.bq_project}.{args.bq_dataset}.INFORMATION_SCHEMA.COLUMNS WHERE TABLE_NAME = '{args.bq_table}'\"\n",
       "schema = bigquery.query(query).to_dataframe()\n",
       "\n",
       "# get number of classes from bigquery source\n",
       "nclasses = bigquery.query(query = f'SELECT DISTINCT {args.var_target} FROM {args.bq_project}.{args.bq_dataset}.{args.bq_table} WHERE {args.var_target} is not null').to_dataframe()\n",
       "nclasses = nclasses.shape[0]\n",
       "expRun.log_params({'data_source': f'bq://{args.bq_project}.{args.bq_dataset}.{args.bq_table}', 'nclasses': nclasses, 'var_split': 'splits', 'var_target': args.var_target})\n",
       "\n",
       "# Make a list of columns to omit\n",
       "OMIT = args.var_omit + ['splits']\n",
       "\n",
       "# use schema to prepare a list of columns to read from BigQuery\n",
       "selected_fields = schema[~schema.column_name.isin(OMIT)].column_name.tolist()\n",
       "\n",
       "# all the columns in this data source are either float64 or int64\n",
       "output_types = [dtypes.float64 if x=='FLOAT64' else dtypes.int64 for x in schema[~schema.column_name.isin(OMIT)].data_type.tolist()]\n",
       "\n",
       "# remap input data to Tensorflow inputs of features and target\n",
       "def transTable(row_dict):\n",
       "    target = row_dict.pop(args.var_target)\n",
       "    target = tf.one_hot(tf.cast(target, tf.int64), nclasses)\n",
       "    target = tf.cast(target, tf.float32)\n",
       "    return(row_dict, target)\n",
       "\n",
       "# function to setup a bigquery reader with Tensorflow I/O\n",
       "def bq_reader(split):\n",
       "    reader = BigQueryClient()\n",
       "\n",
       "    training = reader.read_session(\n",
       "        parent = f\"projects/{args.project_id}\",\n",
       "        project_id = args.bq_project,\n",
       "        table_id = args.bq_table,\n",
       "        dataset_id = args.bq_dataset,\n",
       "        selected_fields = selected_fields,\n",
       "        output_types = output_types,\n",
       "        row_restriction = f\"splits='{split}'\",\n",
       "        requested_streams = 3\n",
       "    )\n",
       "    \n",
       "    return training\n",
       "\n",
       "# setup feed for train, validate and test\n",
       "train = bq_reader('TRAIN').parallel_read_rows().prefetch(1).map(transTable).shuffle(args.batch_size*10).batch(args.batch_size)\n",
       "validate = bq_reader('VALIDATE').parallel_read_rows().prefetch(1).map(transTable).batch(args.batch_size)\n",
       "test = bq_reader('TEST').parallel_read_rows().prefetch(1).map(transTable).batch(args.batch_size)\n",
       "expRun.log_params({'training.batch_size': args.batch_size, 'training.shuffle': 10*args.batch_size, 'training.prefetch': 1})\n",
       "\n",
       "# Logistic Regression\n",
       "\n",
       "# model input definitions\n",
       "feature_columns = {header: tf.feature_column.numeric_column(header) for header in selected_fields if header != args.var_target}\n",
       "feature_layer_inputs = {header: tf.keras.layers.Input(shape = (1,), name = header) for header in selected_fields if header != args.var_target}\n",
       "\n",
       "# feature columns to a Dense Feature Layer\n",
       "feature_layer_outputs = tf.keras.layers.DenseFeatures(feature_columns.values(), name = 'feature_layer')(feature_layer_inputs)\n",
       "\n",
       "# batch normalization then Dense with softmax activation to nclasses\n",
       "layers = tf.keras.layers.BatchNormalization(name = 'batch_normalization_layer')(feature_layer_outputs)\n",
       "layers = tf.keras.layers.Dense(64, activation = 'relu', name = 'hidden_layer')(layers)\n",
       "layers = tf.keras.layers.Dense(32, activation = 'relu', name = 'embedding_layer')(layers)\n",
       "layers = tf.keras.layers.Dense(nclasses, activation = tf.nn.softmax, name = 'prediction_layer')(layers)\n",
       "\n",
       "# the model\n",
       "model = tf.keras.Model(\n",
       "    inputs = feature_layer_inputs,\n",
       "    outputs = layers,\n",
       "    name = args.experiment\n",
       ")\n",
       "opt = tf.keras.optimizers.SGD(learning_rate = args.learning_rate, momentum = args.momentum) #SGD or Adam\n",
       "loss = tf.keras.losses.CategoricalCrossentropy()\n",
       "model.compile(\n",
       "    optimizer = opt,\n",
       "    loss = loss,\n",
       "    metrics = ['accuracy', tf.keras.metrics.AUC(curve='PR', name = 'auprc')]\n",
       ")\n",
       "\n",
       "# setup tensorboard logs and train\n",
       "tensorboard_callback = tf.keras.callbacks.TensorBoard(log_dir=os.environ['AIP_TENSORBOARD_LOG_DIR'], histogram_freq=1)\n",
       "hparams_callback = hp.KerasCallback(os.environ['AIP_TENSORBOARD_LOG_DIR'] + 'train/', hparams, trial_id = args.run_name)\n",
       "history = model.fit(train, epochs = args.epochs, callbacks = [tensorboard_callback, hparams_callback], validation_data = validate)\n",
       "expRun.log_params({'epochs': history.params['epochs']})\n",
       "for e in range(0, history.params['epochs']):\n",
       "    expRun.log_time_series_metrics(\n",
       "        {\n",
       "            'train_loss': history.history['loss'][e],\n",
       "            'train_accuracy': history.history['accuracy'][e],\n",
       "            'train_auprc': history.history['auprc'][e],\n",
       "            'val_loss': history.history['val_loss'][e],\n",
       "            'val_accuracy': history.history['val_accuracy'][e],\n",
       "            'val_auprc': history.history['val_auprc'][e]\n",
       "        }\n",
       "    )\n",
       "\n",
       "# evaluations:\n",
       "loss, accuracy, auprc = model.evaluate(test)\n",
       "expRun.log_metrics({'test_loss': loss, 'test_accuracy': accuracy, 'test_auprc': auprc})\n",
       "loss, accuracy, auprc = model.evaluate(validate)\n",
       "expRun.log_metrics({'val_loss': loss, 'val_accuracy': accuracy, 'val_auprc': auprc})\n",
       "loss, accuracy, auprc = model.evaluate(train)\n",
       "expRun.log_metrics({'train_loss': loss, 'train_accuracy': accuracy, 'train_auprc': auprc})\n",
       "\n",
       "# output the model save files\n",
       "model.save(os.getenv(\"AIP_MODEL_DIR\"))\n",
       "expRun.log_params({'model.save': os.getenv(\"AIP_MODEL_DIR\")})\n",
       "expRun.end_run()\n",
       "\n",
       "# report hypertune info back to Vertex AI Training > Hyperparamter Tuning Job\n",
       "hpt.report_hyperparameter_tuning_metric(\n",
       "    hyperparameter_metric_tag = 'auprc',\n",
       "    metric_value = history.history['auprc'][-1])\n",
       "```"
      ],
      "text/plain": [
       "<IPython.core.display.Markdown object>"
      ]
     },
     "execution_count": 19,
     "metadata": {},
     "output_type": "execute_result"
    }
   ],
   "source": [
    "from IPython.display import Markdown as md\n",
    "\n",
    "with open(f'05_train_hp.py', 'r') as file:\n",
    "    data = file.read()\n",
    "md(\"```python\" + data + \"```\")"
   ]
  },
  {
   "cell_type": "markdown",
   "id": "edcbd297-3905-43ba-a8d5-55d2319d8c31",
   "metadata": {
    "tags": []
   },
   "source": [
    "#### Copy Script to This Experiment\n",
    "\n",
    "Create the main python trainer file as `/train.py`:"
   ]
  },
  {
   "cell_type": "code",
   "execution_count": 20,
   "id": "0f5f7398-7e70-41b2-8653-48e1075ccb7e",
   "metadata": {},
   "outputs": [],
   "source": [
    "!cp 05_train_hp.py {DIR}/train.py"
   ]
  },
  {
   "cell_type": "markdown",
   "id": "f3ea9334",
   "metadata": {},
   "source": [
    "### Setup Training Job"
   ]
  },
  {
   "cell_type": "code",
   "execution_count": 21,
   "id": "6f99fcc8-7eaf-4086-b214-04b3159d5abf",
   "metadata": {},
   "outputs": [],
   "source": [
    "CMDARGS = [\n",
    "    \"--epochs=\" + str(EPOCHS),\n",
    "    \"--batch_size=\" + str(BATCH_SIZE),\n",
    "    \"--var_target=\" + VAR_TARGET,\n",
    "    \"--var_omit=\" + VAR_OMIT,\n",
    "    \"--project_id=\" + PROJECT_ID,\n",
    "    \"--bq_project=\" + BQ_PROJECT,\n",
    "    \"--bq_dataset=\" + BQ_DATASET,\n",
    "    \"--bq_table=\" + BQ_TABLE,\n",
    "    \"--region=\" + REGION,\n",
    "    \"--experiment=\" + EXPERIMENT,\n",
    "    \"--series=\" + SERIES,\n",
    "    \"--experiment_name=\" + EXPERIMENT_NAME,\n",
    "    \"--run_name=\" + RUN_NAME\n",
    "]"
   ]
  },
  {
   "cell_type": "code",
   "execution_count": 22,
   "id": "0a2b628d-f699-467e-9ca6-2e1d1080f191",
   "metadata": {},
   "outputs": [
    {
     "name": "stdout",
     "output_type": "stream",
     "text": [
      "Training script copied to:\n",
      "gs://statmike-mlops-349915/fraud/models/05/05g/20220826184958/aiplatform-2022-08-26-19:15:42.479-aiplatform_custom_trainer_script-0.1.tar.gz.\n"
     ]
    }
   ],
   "source": [
    "customJob = aiplatform.CustomJob.from_local_script(\n",
    "    display_name = f'{EXPERIMENT}_{BQ_DATASET}_{TIMESTAMP}',\n",
    "    script_path = f\"{DIR}/train.py\",\n",
    "    container_uri = TRAIN_IMAGE,\n",
    "    args = CMDARGS,\n",
    "    requirements = ['tensorflow_io', f'google-cloud-aiplatform>={aiplatform.__version__}'],\n",
    "    replica_count = 1,\n",
    "    machine_type = TRAIN_COMPUTE,\n",
    "    accelerator_count = 0,\n",
    "    base_output_dir = f\"{URI}/{TIMESTAMP}\",\n",
    "    staging_bucket = f\"{URI}/{TIMESTAMP}\",\n",
    "    labels = {'series' : f'{SERIES}', 'experiment' : f'{EXPERIMENT}', 'experiment_name' : f'{EXPERIMENT_NAME}', 'run_name' : f'{RUN_NAME}'}\n",
    ")"
   ]
  },
  {
   "cell_type": "markdown",
   "id": "b04b2e81",
   "metadata": {},
   "source": [
    "### Setup Hyperparameter Tuning Job"
   ]
  },
  {
   "cell_type": "code",
   "execution_count": 23,
   "id": "aea9f388-7bb8-4691-a9ef-1a46257e5d0a",
   "metadata": {},
   "outputs": [],
   "source": [
    "METRIC_SPEC = {\n",
    "    \"auprc\": \"maximize\"\n",
    "}\n",
    "\n",
    "PARAMETER_SPEC = {\n",
    "    \"lr\": aiplatform.hyperparameter_tuning.DoubleParameterSpec(min=0.001, max=0.1, scale=\"log\"),\n",
    "    \"m\": aiplatform.hyperparameter_tuning.DoubleParameterSpec(min=1e-7, max=0.9, scale=\"linear\")\n",
    "}"
   ]
  },
  {
   "cell_type": "code",
   "execution_count": 24,
   "id": "c4e0035e-67fc-44e2-a8e3-0ec9da50f7b0",
   "metadata": {},
   "outputs": [],
   "source": [
    "tuningJob = aiplatform.HyperparameterTuningJob(\n",
    "    display_name = f'{EXPERIMENT}_{BQ_DATASET}_{TIMESTAMP}',\n",
    "    custom_job = customJob,\n",
    "    metric_spec = METRIC_SPEC,\n",
    "    parameter_spec = PARAMETER_SPEC,\n",
    "    max_trial_count = 10,\n",
    "    parallel_trial_count = 5,\n",
    "    search_algorithm = None,\n",
    "    labels = {'series' : f'{SERIES}', 'experiment' : f'{EXPERIMENT}', 'experiment_name' : f'{EXPERIMENT_NAME}', 'run_name' : f'{RUN_NAME}'}\n",
    ")"
   ]
  },
  {
   "cell_type": "markdown",
   "id": "a6249099",
   "metadata": {},
   "source": [
    "### Run Training Job"
   ]
  },
  {
   "cell_type": "code",
   "execution_count": 25,
   "id": "1cc277b5-dfbf-4081-9610-86801aa55631",
   "metadata": {
    "scrolled": true,
    "tags": []
   },
   "outputs": [
    {
     "name": "stdout",
     "output_type": "stream",
     "text": [
      "Creating HyperparameterTuningJob\n",
      "HyperparameterTuningJob created. Resource name: projects/1026793852137/locations/us-central1/hyperparameterTuningJobs/5401015795281035264\n",
      "To use this HyperparameterTuningJob in another session:\n",
      "hpt_job = aiplatform.HyperparameterTuningJob.get('projects/1026793852137/locations/us-central1/hyperparameterTuningJobs/5401015795281035264')\n",
      "View HyperparameterTuningJob:\n",
      "https://console.cloud.google.com/ai/platform/locations/us-central1/training/5401015795281035264?project=1026793852137\n",
      "View Tensorboard:\n",
      "https://us-central1.tensorboard.googleusercontent.com/experiment/projects+1026793852137+locations+us-central1+tensorboards+7179142426307592192+experiments+5401015795281035264\n",
      "HyperparameterTuningJob projects/1026793852137/locations/us-central1/hyperparameterTuningJobs/5401015795281035264 current state:\n",
      "JobState.JOB_STATE_PENDING\n",
      "HyperparameterTuningJob projects/1026793852137/locations/us-central1/hyperparameterTuningJobs/5401015795281035264 current state:\n",
      "JobState.JOB_STATE_RUNNING\n",
      "HyperparameterTuningJob projects/1026793852137/locations/us-central1/hyperparameterTuningJobs/5401015795281035264 current state:\n",
      "JobState.JOB_STATE_RUNNING\n",
      "HyperparameterTuningJob projects/1026793852137/locations/us-central1/hyperparameterTuningJobs/5401015795281035264 current state:\n",
      "JobState.JOB_STATE_RUNNING\n",
      "HyperparameterTuningJob projects/1026793852137/locations/us-central1/hyperparameterTuningJobs/5401015795281035264 current state:\n",
      "JobState.JOB_STATE_RUNNING\n",
      "HyperparameterTuningJob projects/1026793852137/locations/us-central1/hyperparameterTuningJobs/5401015795281035264 current state:\n",
      "JobState.JOB_STATE_RUNNING\n",
      "HyperparameterTuningJob projects/1026793852137/locations/us-central1/hyperparameterTuningJobs/5401015795281035264 current state:\n",
      "JobState.JOB_STATE_RUNNING\n",
      "HyperparameterTuningJob projects/1026793852137/locations/us-central1/hyperparameterTuningJobs/5401015795281035264 current state:\n",
      "JobState.JOB_STATE_RUNNING\n",
      "HyperparameterTuningJob projects/1026793852137/locations/us-central1/hyperparameterTuningJobs/5401015795281035264 current state:\n",
      "JobState.JOB_STATE_RUNNING\n",
      "HyperparameterTuningJob projects/1026793852137/locations/us-central1/hyperparameterTuningJobs/5401015795281035264 current state:\n",
      "JobState.JOB_STATE_RUNNING\n",
      "HyperparameterTuningJob projects/1026793852137/locations/us-central1/hyperparameterTuningJobs/5401015795281035264 current state:\n",
      "JobState.JOB_STATE_RUNNING\n",
      "HyperparameterTuningJob projects/1026793852137/locations/us-central1/hyperparameterTuningJobs/5401015795281035264 current state:\n",
      "JobState.JOB_STATE_RUNNING\n",
      "HyperparameterTuningJob projects/1026793852137/locations/us-central1/hyperparameterTuningJobs/5401015795281035264 current state:\n",
      "JobState.JOB_STATE_RUNNING\n",
      "HyperparameterTuningJob projects/1026793852137/locations/us-central1/hyperparameterTuningJobs/5401015795281035264 current state:\n",
      "JobState.JOB_STATE_RUNNING\n",
      "HyperparameterTuningJob projects/1026793852137/locations/us-central1/hyperparameterTuningJobs/5401015795281035264 current state:\n",
      "JobState.JOB_STATE_RUNNING\n",
      "HyperparameterTuningJob projects/1026793852137/locations/us-central1/hyperparameterTuningJobs/5401015795281035264 current state:\n",
      "JobState.JOB_STATE_RUNNING\n",
      "HyperparameterTuningJob projects/1026793852137/locations/us-central1/hyperparameterTuningJobs/5401015795281035264 current state:\n",
      "JobState.JOB_STATE_RUNNING\n",
      "HyperparameterTuningJob projects/1026793852137/locations/us-central1/hyperparameterTuningJobs/5401015795281035264 current state:\n",
      "JobState.JOB_STATE_RUNNING\n",
      "HyperparameterTuningJob projects/1026793852137/locations/us-central1/hyperparameterTuningJobs/5401015795281035264 current state:\n",
      "JobState.JOB_STATE_RUNNING\n",
      "HyperparameterTuningJob projects/1026793852137/locations/us-central1/hyperparameterTuningJobs/5401015795281035264 current state:\n",
      "JobState.JOB_STATE_RUNNING\n",
      "HyperparameterTuningJob projects/1026793852137/locations/us-central1/hyperparameterTuningJobs/5401015795281035264 current state:\n",
      "JobState.JOB_STATE_RUNNING\n",
      "HyperparameterTuningJob projects/1026793852137/locations/us-central1/hyperparameterTuningJobs/5401015795281035264 current state:\n",
      "JobState.JOB_STATE_RUNNING\n",
      "HyperparameterTuningJob projects/1026793852137/locations/us-central1/hyperparameterTuningJobs/5401015795281035264 current state:\n",
      "JobState.JOB_STATE_RUNNING\n",
      "HyperparameterTuningJob projects/1026793852137/locations/us-central1/hyperparameterTuningJobs/5401015795281035264 current state:\n",
      "JobState.JOB_STATE_RUNNING\n",
      "HyperparameterTuningJob projects/1026793852137/locations/us-central1/hyperparameterTuningJobs/5401015795281035264 current state:\n",
      "JobState.JOB_STATE_RUNNING\n",
      "HyperparameterTuningJob projects/1026793852137/locations/us-central1/hyperparameterTuningJobs/5401015795281035264 current state:\n",
      "JobState.JOB_STATE_RUNNING\n",
      "HyperparameterTuningJob projects/1026793852137/locations/us-central1/hyperparameterTuningJobs/5401015795281035264 current state:\n",
      "JobState.JOB_STATE_RUNNING\n",
      "HyperparameterTuningJob projects/1026793852137/locations/us-central1/hyperparameterTuningJobs/5401015795281035264 current state:\n",
      "JobState.JOB_STATE_RUNNING\n",
      "HyperparameterTuningJob projects/1026793852137/locations/us-central1/hyperparameterTuningJobs/5401015795281035264 current state:\n",
      "JobState.JOB_STATE_RUNNING\n",
      "HyperparameterTuningJob projects/1026793852137/locations/us-central1/hyperparameterTuningJobs/5401015795281035264 current state:\n",
      "JobState.JOB_STATE_RUNNING\n",
      "HyperparameterTuningJob projects/1026793852137/locations/us-central1/hyperparameterTuningJobs/5401015795281035264 current state:\n",
      "JobState.JOB_STATE_RUNNING\n",
      "HyperparameterTuningJob projects/1026793852137/locations/us-central1/hyperparameterTuningJobs/5401015795281035264 current state:\n",
      "JobState.JOB_STATE_RUNNING\n",
      "HyperparameterTuningJob projects/1026793852137/locations/us-central1/hyperparameterTuningJobs/5401015795281035264 current state:\n",
      "JobState.JOB_STATE_RUNNING\n",
      "HyperparameterTuningJob projects/1026793852137/locations/us-central1/hyperparameterTuningJobs/5401015795281035264 current state:\n",
      "JobState.JOB_STATE_RUNNING\n",
      "HyperparameterTuningJob projects/1026793852137/locations/us-central1/hyperparameterTuningJobs/5401015795281035264 current state:\n",
      "JobState.JOB_STATE_RUNNING\n",
      "HyperparameterTuningJob projects/1026793852137/locations/us-central1/hyperparameterTuningJobs/5401015795281035264 current state:\n",
      "JobState.JOB_STATE_RUNNING\n",
      "HyperparameterTuningJob projects/1026793852137/locations/us-central1/hyperparameterTuningJobs/5401015795281035264 current state:\n",
      "JobState.JOB_STATE_RUNNING\n",
      "HyperparameterTuningJob projects/1026793852137/locations/us-central1/hyperparameterTuningJobs/5401015795281035264 current state:\n",
      "JobState.JOB_STATE_RUNNING\n",
      "HyperparameterTuningJob projects/1026793852137/locations/us-central1/hyperparameterTuningJobs/5401015795281035264 current state:\n",
      "JobState.JOB_STATE_RUNNING\n",
      "HyperparameterTuningJob projects/1026793852137/locations/us-central1/hyperparameterTuningJobs/5401015795281035264 current state:\n",
      "JobState.JOB_STATE_RUNNING\n",
      "HyperparameterTuningJob projects/1026793852137/locations/us-central1/hyperparameterTuningJobs/5401015795281035264 current state:\n",
      "JobState.JOB_STATE_RUNNING\n",
      "HyperparameterTuningJob projects/1026793852137/locations/us-central1/hyperparameterTuningJobs/5401015795281035264 current state:\n",
      "JobState.JOB_STATE_RUNNING\n",
      "HyperparameterTuningJob projects/1026793852137/locations/us-central1/hyperparameterTuningJobs/5401015795281035264 current state:\n",
      "JobState.JOB_STATE_RUNNING\n",
      "HyperparameterTuningJob projects/1026793852137/locations/us-central1/hyperparameterTuningJobs/5401015795281035264 current state:\n",
      "JobState.JOB_STATE_RUNNING\n",
      "HyperparameterTuningJob projects/1026793852137/locations/us-central1/hyperparameterTuningJobs/5401015795281035264 current state:\n",
      "JobState.JOB_STATE_RUNNING\n",
      "HyperparameterTuningJob projects/1026793852137/locations/us-central1/hyperparameterTuningJobs/5401015795281035264 current state:\n",
      "JobState.JOB_STATE_RUNNING\n",
      "HyperparameterTuningJob projects/1026793852137/locations/us-central1/hyperparameterTuningJobs/5401015795281035264 current state:\n",
      "JobState.JOB_STATE_RUNNING\n",
      "HyperparameterTuningJob projects/1026793852137/locations/us-central1/hyperparameterTuningJobs/5401015795281035264 current state:\n",
      "JobState.JOB_STATE_RUNNING\n",
      "HyperparameterTuningJob projects/1026793852137/locations/us-central1/hyperparameterTuningJobs/5401015795281035264 current state:\n",
      "JobState.JOB_STATE_RUNNING\n",
      "HyperparameterTuningJob projects/1026793852137/locations/us-central1/hyperparameterTuningJobs/5401015795281035264 current state:\n",
      "JobState.JOB_STATE_RUNNING\n",
      "HyperparameterTuningJob projects/1026793852137/locations/us-central1/hyperparameterTuningJobs/5401015795281035264 current state:\n",
      "JobState.JOB_STATE_RUNNING\n",
      "HyperparameterTuningJob projects/1026793852137/locations/us-central1/hyperparameterTuningJobs/5401015795281035264 current state:\n",
      "JobState.JOB_STATE_RUNNING\n",
      "HyperparameterTuningJob projects/1026793852137/locations/us-central1/hyperparameterTuningJobs/5401015795281035264 current state:\n",
      "JobState.JOB_STATE_RUNNING\n",
      "HyperparameterTuningJob projects/1026793852137/locations/us-central1/hyperparameterTuningJobs/5401015795281035264 current state:\n",
      "JobState.JOB_STATE_RUNNING\n",
      "HyperparameterTuningJob projects/1026793852137/locations/us-central1/hyperparameterTuningJobs/5401015795281035264 current state:\n",
      "JobState.JOB_STATE_RUNNING\n",
      "HyperparameterTuningJob projects/1026793852137/locations/us-central1/hyperparameterTuningJobs/5401015795281035264 current state:\n",
      "JobState.JOB_STATE_RUNNING\n",
      "HyperparameterTuningJob projects/1026793852137/locations/us-central1/hyperparameterTuningJobs/5401015795281035264 current state:\n",
      "JobState.JOB_STATE_RUNNING\n",
      "HyperparameterTuningJob projects/1026793852137/locations/us-central1/hyperparameterTuningJobs/5401015795281035264 current state:\n",
      "JobState.JOB_STATE_RUNNING\n",
      "HyperparameterTuningJob projects/1026793852137/locations/us-central1/hyperparameterTuningJobs/5401015795281035264 current state:\n",
      "JobState.JOB_STATE_RUNNING\n",
      "HyperparameterTuningJob projects/1026793852137/locations/us-central1/hyperparameterTuningJobs/5401015795281035264 current state:\n",
      "JobState.JOB_STATE_RUNNING\n",
      "HyperparameterTuningJob projects/1026793852137/locations/us-central1/hyperparameterTuningJobs/5401015795281035264 current state:\n",
      "JobState.JOB_STATE_RUNNING\n",
      "HyperparameterTuningJob projects/1026793852137/locations/us-central1/hyperparameterTuningJobs/5401015795281035264 current state:\n",
      "JobState.JOB_STATE_RUNNING\n",
      "HyperparameterTuningJob projects/1026793852137/locations/us-central1/hyperparameterTuningJobs/5401015795281035264 current state:\n",
      "JobState.JOB_STATE_RUNNING\n",
      "HyperparameterTuningJob projects/1026793852137/locations/us-central1/hyperparameterTuningJobs/5401015795281035264 current state:\n",
      "JobState.JOB_STATE_RUNNING\n",
      "HyperparameterTuningJob projects/1026793852137/locations/us-central1/hyperparameterTuningJobs/5401015795281035264 current state:\n",
      "JobState.JOB_STATE_RUNNING\n",
      "HyperparameterTuningJob projects/1026793852137/locations/us-central1/hyperparameterTuningJobs/5401015795281035264 current state:\n",
      "JobState.JOB_STATE_RUNNING\n",
      "HyperparameterTuningJob projects/1026793852137/locations/us-central1/hyperparameterTuningJobs/5401015795281035264 current state:\n",
      "JobState.JOB_STATE_RUNNING\n",
      "HyperparameterTuningJob projects/1026793852137/locations/us-central1/hyperparameterTuningJobs/5401015795281035264 current state:\n",
      "JobState.JOB_STATE_RUNNING\n",
      "HyperparameterTuningJob projects/1026793852137/locations/us-central1/hyperparameterTuningJobs/5401015795281035264 current state:\n",
      "JobState.JOB_STATE_RUNNING\n",
      "HyperparameterTuningJob projects/1026793852137/locations/us-central1/hyperparameterTuningJobs/5401015795281035264 current state:\n",
      "JobState.JOB_STATE_RUNNING\n",
      "HyperparameterTuningJob projects/1026793852137/locations/us-central1/hyperparameterTuningJobs/5401015795281035264 current state:\n",
      "JobState.JOB_STATE_RUNNING\n",
      "HyperparameterTuningJob projects/1026793852137/locations/us-central1/hyperparameterTuningJobs/5401015795281035264 current state:\n",
      "JobState.JOB_STATE_RUNNING\n",
      "HyperparameterTuningJob projects/1026793852137/locations/us-central1/hyperparameterTuningJobs/5401015795281035264 current state:\n",
      "JobState.JOB_STATE_RUNNING\n",
      "HyperparameterTuningJob projects/1026793852137/locations/us-central1/hyperparameterTuningJobs/5401015795281035264 current state:\n",
      "JobState.JOB_STATE_RUNNING\n",
      "HyperparameterTuningJob projects/1026793852137/locations/us-central1/hyperparameterTuningJobs/5401015795281035264 current state:\n",
      "JobState.JOB_STATE_RUNNING\n",
      "HyperparameterTuningJob projects/1026793852137/locations/us-central1/hyperparameterTuningJobs/5401015795281035264 current state:\n",
      "JobState.JOB_STATE_RUNNING\n",
      "HyperparameterTuningJob projects/1026793852137/locations/us-central1/hyperparameterTuningJobs/5401015795281035264 current state:\n",
      "JobState.JOB_STATE_RUNNING\n",
      "HyperparameterTuningJob projects/1026793852137/locations/us-central1/hyperparameterTuningJobs/5401015795281035264 current state:\n",
      "JobState.JOB_STATE_RUNNING\n",
      "HyperparameterTuningJob projects/1026793852137/locations/us-central1/hyperparameterTuningJobs/5401015795281035264 current state:\n",
      "JobState.JOB_STATE_RUNNING\n",
      "HyperparameterTuningJob projects/1026793852137/locations/us-central1/hyperparameterTuningJobs/5401015795281035264 current state:\n",
      "JobState.JOB_STATE_RUNNING\n",
      "HyperparameterTuningJob projects/1026793852137/locations/us-central1/hyperparameterTuningJobs/5401015795281035264 current state:\n",
      "JobState.JOB_STATE_RUNNING\n",
      "HyperparameterTuningJob projects/1026793852137/locations/us-central1/hyperparameterTuningJobs/5401015795281035264 current state:\n",
      "JobState.JOB_STATE_RUNNING\n",
      "HyperparameterTuningJob projects/1026793852137/locations/us-central1/hyperparameterTuningJobs/5401015795281035264 current state:\n",
      "JobState.JOB_STATE_RUNNING\n",
      "HyperparameterTuningJob projects/1026793852137/locations/us-central1/hyperparameterTuningJobs/5401015795281035264 current state:\n",
      "JobState.JOB_STATE_RUNNING\n",
      "HyperparameterTuningJob projects/1026793852137/locations/us-central1/hyperparameterTuningJobs/5401015795281035264 current state:\n",
      "JobState.JOB_STATE_RUNNING\n",
      "HyperparameterTuningJob projects/1026793852137/locations/us-central1/hyperparameterTuningJobs/5401015795281035264 current state:\n",
      "JobState.JOB_STATE_RUNNING\n",
      "HyperparameterTuningJob projects/1026793852137/locations/us-central1/hyperparameterTuningJobs/5401015795281035264 current state:\n",
      "JobState.JOB_STATE_RUNNING\n",
      "HyperparameterTuningJob projects/1026793852137/locations/us-central1/hyperparameterTuningJobs/5401015795281035264 current state:\n",
      "JobState.JOB_STATE_RUNNING\n",
      "HyperparameterTuningJob projects/1026793852137/locations/us-central1/hyperparameterTuningJobs/5401015795281035264 current state:\n",
      "JobState.JOB_STATE_RUNNING\n",
      "HyperparameterTuningJob projects/1026793852137/locations/us-central1/hyperparameterTuningJobs/5401015795281035264 current state:\n",
      "JobState.JOB_STATE_RUNNING\n",
      "HyperparameterTuningJob projects/1026793852137/locations/us-central1/hyperparameterTuningJobs/5401015795281035264 current state:\n",
      "JobState.JOB_STATE_RUNNING\n",
      "HyperparameterTuningJob projects/1026793852137/locations/us-central1/hyperparameterTuningJobs/5401015795281035264 current state:\n",
      "JobState.JOB_STATE_RUNNING\n",
      "HyperparameterTuningJob projects/1026793852137/locations/us-central1/hyperparameterTuningJobs/5401015795281035264 current state:\n",
      "JobState.JOB_STATE_RUNNING\n",
      "HyperparameterTuningJob projects/1026793852137/locations/us-central1/hyperparameterTuningJobs/5401015795281035264 current state:\n",
      "JobState.JOB_STATE_RUNNING\n",
      "HyperparameterTuningJob projects/1026793852137/locations/us-central1/hyperparameterTuningJobs/5401015795281035264 current state:\n",
      "JobState.JOB_STATE_RUNNING\n",
      "HyperparameterTuningJob projects/1026793852137/locations/us-central1/hyperparameterTuningJobs/5401015795281035264 current state:\n",
      "JobState.JOB_STATE_RUNNING\n",
      "HyperparameterTuningJob projects/1026793852137/locations/us-central1/hyperparameterTuningJobs/5401015795281035264 current state:\n",
      "JobState.JOB_STATE_RUNNING\n",
      "HyperparameterTuningJob projects/1026793852137/locations/us-central1/hyperparameterTuningJobs/5401015795281035264 current state:\n",
      "JobState.JOB_STATE_RUNNING\n",
      "HyperparameterTuningJob projects/1026793852137/locations/us-central1/hyperparameterTuningJobs/5401015795281035264 current state:\n",
      "JobState.JOB_STATE_RUNNING\n",
      "HyperparameterTuningJob projects/1026793852137/locations/us-central1/hyperparameterTuningJobs/5401015795281035264 current state:\n",
      "JobState.JOB_STATE_RUNNING\n",
      "HyperparameterTuningJob projects/1026793852137/locations/us-central1/hyperparameterTuningJobs/5401015795281035264 current state:\n",
      "JobState.JOB_STATE_RUNNING\n",
      "HyperparameterTuningJob projects/1026793852137/locations/us-central1/hyperparameterTuningJobs/5401015795281035264 current state:\n",
      "JobState.JOB_STATE_RUNNING\n",
      "HyperparameterTuningJob projects/1026793852137/locations/us-central1/hyperparameterTuningJobs/5401015795281035264 current state:\n",
      "JobState.JOB_STATE_RUNNING\n",
      "HyperparameterTuningJob projects/1026793852137/locations/us-central1/hyperparameterTuningJobs/5401015795281035264 current state:\n",
      "JobState.JOB_STATE_RUNNING\n",
      "HyperparameterTuningJob projects/1026793852137/locations/us-central1/hyperparameterTuningJobs/5401015795281035264 current state:\n",
      "JobState.JOB_STATE_RUNNING\n",
      "HyperparameterTuningJob projects/1026793852137/locations/us-central1/hyperparameterTuningJobs/5401015795281035264 current state:\n",
      "JobState.JOB_STATE_RUNNING\n",
      "HyperparameterTuningJob projects/1026793852137/locations/us-central1/hyperparameterTuningJobs/5401015795281035264 current state:\n",
      "JobState.JOB_STATE_RUNNING\n",
      "HyperparameterTuningJob projects/1026793852137/locations/us-central1/hyperparameterTuningJobs/5401015795281035264 current state:\n",
      "JobState.JOB_STATE_RUNNING\n",
      "HyperparameterTuningJob projects/1026793852137/locations/us-central1/hyperparameterTuningJobs/5401015795281035264 current state:\n",
      "JobState.JOB_STATE_RUNNING\n",
      "HyperparameterTuningJob projects/1026793852137/locations/us-central1/hyperparameterTuningJobs/5401015795281035264 current state:\n",
      "JobState.JOB_STATE_RUNNING\n",
      "HyperparameterTuningJob projects/1026793852137/locations/us-central1/hyperparameterTuningJobs/5401015795281035264 current state:\n",
      "JobState.JOB_STATE_RUNNING\n",
      "HyperparameterTuningJob projects/1026793852137/locations/us-central1/hyperparameterTuningJobs/5401015795281035264 current state:\n",
      "JobState.JOB_STATE_RUNNING\n",
      "HyperparameterTuningJob projects/1026793852137/locations/us-central1/hyperparameterTuningJobs/5401015795281035264 current state:\n",
      "JobState.JOB_STATE_RUNNING\n",
      "HyperparameterTuningJob projects/1026793852137/locations/us-central1/hyperparameterTuningJobs/5401015795281035264 current state:\n",
      "JobState.JOB_STATE_RUNNING\n",
      "HyperparameterTuningJob projects/1026793852137/locations/us-central1/hyperparameterTuningJobs/5401015795281035264 current state:\n",
      "JobState.JOB_STATE_RUNNING\n",
      "HyperparameterTuningJob projects/1026793852137/locations/us-central1/hyperparameterTuningJobs/5401015795281035264 current state:\n",
      "JobState.JOB_STATE_RUNNING\n",
      "HyperparameterTuningJob projects/1026793852137/locations/us-central1/hyperparameterTuningJobs/5401015795281035264 current state:\n",
      "JobState.JOB_STATE_RUNNING\n",
      "HyperparameterTuningJob projects/1026793852137/locations/us-central1/hyperparameterTuningJobs/5401015795281035264 current state:\n",
      "JobState.JOB_STATE_RUNNING\n",
      "HyperparameterTuningJob projects/1026793852137/locations/us-central1/hyperparameterTuningJobs/5401015795281035264 current state:\n",
      "JobState.JOB_STATE_RUNNING\n",
      "HyperparameterTuningJob projects/1026793852137/locations/us-central1/hyperparameterTuningJobs/5401015795281035264 current state:\n",
      "JobState.JOB_STATE_RUNNING\n",
      "HyperparameterTuningJob projects/1026793852137/locations/us-central1/hyperparameterTuningJobs/5401015795281035264 current state:\n",
      "JobState.JOB_STATE_RUNNING\n",
      "HyperparameterTuningJob projects/1026793852137/locations/us-central1/hyperparameterTuningJobs/5401015795281035264 current state:\n",
      "JobState.JOB_STATE_RUNNING\n",
      "HyperparameterTuningJob projects/1026793852137/locations/us-central1/hyperparameterTuningJobs/5401015795281035264 current state:\n",
      "JobState.JOB_STATE_RUNNING\n",
      "HyperparameterTuningJob projects/1026793852137/locations/us-central1/hyperparameterTuningJobs/5401015795281035264 current state:\n",
      "JobState.JOB_STATE_RUNNING\n",
      "HyperparameterTuningJob projects/1026793852137/locations/us-central1/hyperparameterTuningJobs/5401015795281035264 current state:\n",
      "JobState.JOB_STATE_RUNNING\n",
      "HyperparameterTuningJob projects/1026793852137/locations/us-central1/hyperparameterTuningJobs/5401015795281035264 current state:\n",
      "JobState.JOB_STATE_RUNNING\n",
      "HyperparameterTuningJob projects/1026793852137/locations/us-central1/hyperparameterTuningJobs/5401015795281035264 current state:\n",
      "JobState.JOB_STATE_RUNNING\n",
      "HyperparameterTuningJob projects/1026793852137/locations/us-central1/hyperparameterTuningJobs/5401015795281035264 current state:\n",
      "JobState.JOB_STATE_RUNNING\n",
      "HyperparameterTuningJob projects/1026793852137/locations/us-central1/hyperparameterTuningJobs/5401015795281035264 current state:\n",
      "JobState.JOB_STATE_RUNNING\n",
      "HyperparameterTuningJob projects/1026793852137/locations/us-central1/hyperparameterTuningJobs/5401015795281035264 current state:\n",
      "JobState.JOB_STATE_RUNNING\n",
      "HyperparameterTuningJob projects/1026793852137/locations/us-central1/hyperparameterTuningJobs/5401015795281035264 current state:\n",
      "JobState.JOB_STATE_RUNNING\n",
      "HyperparameterTuningJob projects/1026793852137/locations/us-central1/hyperparameterTuningJobs/5401015795281035264 current state:\n",
      "JobState.JOB_STATE_RUNNING\n",
      "HyperparameterTuningJob projects/1026793852137/locations/us-central1/hyperparameterTuningJobs/5401015795281035264 current state:\n",
      "JobState.JOB_STATE_RUNNING\n",
      "HyperparameterTuningJob projects/1026793852137/locations/us-central1/hyperparameterTuningJobs/5401015795281035264 current state:\n",
      "JobState.JOB_STATE_RUNNING\n",
      "HyperparameterTuningJob projects/1026793852137/locations/us-central1/hyperparameterTuningJobs/5401015795281035264 current state:\n",
      "JobState.JOB_STATE_RUNNING\n",
      "HyperparameterTuningJob projects/1026793852137/locations/us-central1/hyperparameterTuningJobs/5401015795281035264 current state:\n",
      "JobState.JOB_STATE_RUNNING\n",
      "HyperparameterTuningJob projects/1026793852137/locations/us-central1/hyperparameterTuningJobs/5401015795281035264 current state:\n",
      "JobState.JOB_STATE_RUNNING\n",
      "HyperparameterTuningJob projects/1026793852137/locations/us-central1/hyperparameterTuningJobs/5401015795281035264 current state:\n",
      "JobState.JOB_STATE_RUNNING\n",
      "HyperparameterTuningJob projects/1026793852137/locations/us-central1/hyperparameterTuningJobs/5401015795281035264 current state:\n",
      "JobState.JOB_STATE_RUNNING\n",
      "HyperparameterTuningJob projects/1026793852137/locations/us-central1/hyperparameterTuningJobs/5401015795281035264 current state:\n",
      "JobState.JOB_STATE_RUNNING\n",
      "HyperparameterTuningJob projects/1026793852137/locations/us-central1/hyperparameterTuningJobs/5401015795281035264 current state:\n",
      "JobState.JOB_STATE_RUNNING\n",
      "HyperparameterTuningJob projects/1026793852137/locations/us-central1/hyperparameterTuningJobs/5401015795281035264 current state:\n",
      "JobState.JOB_STATE_RUNNING\n",
      "HyperparameterTuningJob projects/1026793852137/locations/us-central1/hyperparameterTuningJobs/5401015795281035264 current state:\n",
      "JobState.JOB_STATE_RUNNING\n",
      "HyperparameterTuningJob projects/1026793852137/locations/us-central1/hyperparameterTuningJobs/5401015795281035264 current state:\n",
      "JobState.JOB_STATE_RUNNING\n",
      "HyperparameterTuningJob projects/1026793852137/locations/us-central1/hyperparameterTuningJobs/5401015795281035264 current state:\n",
      "JobState.JOB_STATE_RUNNING\n",
      "HyperparameterTuningJob projects/1026793852137/locations/us-central1/hyperparameterTuningJobs/5401015795281035264 current state:\n",
      "JobState.JOB_STATE_RUNNING\n",
      "HyperparameterTuningJob projects/1026793852137/locations/us-central1/hyperparameterTuningJobs/5401015795281035264 current state:\n",
      "JobState.JOB_STATE_RUNNING\n",
      "HyperparameterTuningJob projects/1026793852137/locations/us-central1/hyperparameterTuningJobs/5401015795281035264 current state:\n",
      "JobState.JOB_STATE_RUNNING\n",
      "HyperparameterTuningJob projects/1026793852137/locations/us-central1/hyperparameterTuningJobs/5401015795281035264 current state:\n",
      "JobState.JOB_STATE_RUNNING\n",
      "HyperparameterTuningJob projects/1026793852137/locations/us-central1/hyperparameterTuningJobs/5401015795281035264 current state:\n",
      "JobState.JOB_STATE_RUNNING\n",
      "HyperparameterTuningJob projects/1026793852137/locations/us-central1/hyperparameterTuningJobs/5401015795281035264 current state:\n",
      "JobState.JOB_STATE_RUNNING\n",
      "HyperparameterTuningJob projects/1026793852137/locations/us-central1/hyperparameterTuningJobs/5401015795281035264 current state:\n",
      "JobState.JOB_STATE_RUNNING\n",
      "HyperparameterTuningJob projects/1026793852137/locations/us-central1/hyperparameterTuningJobs/5401015795281035264 current state:\n",
      "JobState.JOB_STATE_RUNNING\n",
      "HyperparameterTuningJob projects/1026793852137/locations/us-central1/hyperparameterTuningJobs/5401015795281035264 current state:\n",
      "JobState.JOB_STATE_RUNNING\n",
      "HyperparameterTuningJob projects/1026793852137/locations/us-central1/hyperparameterTuningJobs/5401015795281035264 current state:\n",
      "JobState.JOB_STATE_RUNNING\n",
      "HyperparameterTuningJob projects/1026793852137/locations/us-central1/hyperparameterTuningJobs/5401015795281035264 current state:\n",
      "JobState.JOB_STATE_RUNNING\n",
      "HyperparameterTuningJob projects/1026793852137/locations/us-central1/hyperparameterTuningJobs/5401015795281035264 current state:\n",
      "JobState.JOB_STATE_RUNNING\n",
      "HyperparameterTuningJob projects/1026793852137/locations/us-central1/hyperparameterTuningJobs/5401015795281035264 current state:\n",
      "JobState.JOB_STATE_RUNNING\n",
      "HyperparameterTuningJob projects/1026793852137/locations/us-central1/hyperparameterTuningJobs/5401015795281035264 current state:\n",
      "JobState.JOB_STATE_RUNNING\n",
      "HyperparameterTuningJob projects/1026793852137/locations/us-central1/hyperparameterTuningJobs/5401015795281035264 current state:\n",
      "JobState.JOB_STATE_RUNNING\n",
      "HyperparameterTuningJob projects/1026793852137/locations/us-central1/hyperparameterTuningJobs/5401015795281035264 current state:\n",
      "JobState.JOB_STATE_RUNNING\n",
      "HyperparameterTuningJob projects/1026793852137/locations/us-central1/hyperparameterTuningJobs/5401015795281035264 current state:\n",
      "JobState.JOB_STATE_RUNNING\n",
      "HyperparameterTuningJob projects/1026793852137/locations/us-central1/hyperparameterTuningJobs/5401015795281035264 current state:\n",
      "JobState.JOB_STATE_RUNNING\n",
      "HyperparameterTuningJob projects/1026793852137/locations/us-central1/hyperparameterTuningJobs/5401015795281035264 current state:\n",
      "JobState.JOB_STATE_RUNNING\n",
      "HyperparameterTuningJob projects/1026793852137/locations/us-central1/hyperparameterTuningJobs/5401015795281035264 current state:\n",
      "JobState.JOB_STATE_RUNNING\n",
      "HyperparameterTuningJob projects/1026793852137/locations/us-central1/hyperparameterTuningJobs/5401015795281035264 current state:\n",
      "JobState.JOB_STATE_RUNNING\n",
      "HyperparameterTuningJob projects/1026793852137/locations/us-central1/hyperparameterTuningJobs/5401015795281035264 current state:\n",
      "JobState.JOB_STATE_RUNNING\n",
      "HyperparameterTuningJob projects/1026793852137/locations/us-central1/hyperparameterTuningJobs/5401015795281035264 current state:\n",
      "JobState.JOB_STATE_RUNNING\n",
      "HyperparameterTuningJob projects/1026793852137/locations/us-central1/hyperparameterTuningJobs/5401015795281035264 current state:\n",
      "JobState.JOB_STATE_RUNNING\n",
      "HyperparameterTuningJob projects/1026793852137/locations/us-central1/hyperparameterTuningJobs/5401015795281035264 current state:\n",
      "JobState.JOB_STATE_RUNNING\n",
      "HyperparameterTuningJob projects/1026793852137/locations/us-central1/hyperparameterTuningJobs/5401015795281035264 current state:\n",
      "JobState.JOB_STATE_RUNNING\n",
      "HyperparameterTuningJob projects/1026793852137/locations/us-central1/hyperparameterTuningJobs/5401015795281035264 current state:\n",
      "JobState.JOB_STATE_RUNNING\n",
      "HyperparameterTuningJob projects/1026793852137/locations/us-central1/hyperparameterTuningJobs/5401015795281035264 current state:\n",
      "JobState.JOB_STATE_RUNNING\n",
      "HyperparameterTuningJob projects/1026793852137/locations/us-central1/hyperparameterTuningJobs/5401015795281035264 current state:\n",
      "JobState.JOB_STATE_RUNNING\n",
      "HyperparameterTuningJob projects/1026793852137/locations/us-central1/hyperparameterTuningJobs/5401015795281035264 current state:\n",
      "JobState.JOB_STATE_RUNNING\n",
      "HyperparameterTuningJob projects/1026793852137/locations/us-central1/hyperparameterTuningJobs/5401015795281035264 current state:\n",
      "JobState.JOB_STATE_RUNNING\n",
      "HyperparameterTuningJob projects/1026793852137/locations/us-central1/hyperparameterTuningJobs/5401015795281035264 current state:\n",
      "JobState.JOB_STATE_RUNNING\n",
      "HyperparameterTuningJob projects/1026793852137/locations/us-central1/hyperparameterTuningJobs/5401015795281035264 current state:\n",
      "JobState.JOB_STATE_RUNNING\n",
      "HyperparameterTuningJob projects/1026793852137/locations/us-central1/hyperparameterTuningJobs/5401015795281035264 current state:\n",
      "JobState.JOB_STATE_RUNNING\n",
      "HyperparameterTuningJob projects/1026793852137/locations/us-central1/hyperparameterTuningJobs/5401015795281035264 current state:\n",
      "JobState.JOB_STATE_RUNNING\n",
      "HyperparameterTuningJob projects/1026793852137/locations/us-central1/hyperparameterTuningJobs/5401015795281035264 current state:\n",
      "JobState.JOB_STATE_RUNNING\n",
      "HyperparameterTuningJob projects/1026793852137/locations/us-central1/hyperparameterTuningJobs/5401015795281035264 current state:\n",
      "JobState.JOB_STATE_RUNNING\n",
      "HyperparameterTuningJob projects/1026793852137/locations/us-central1/hyperparameterTuningJobs/5401015795281035264 current state:\n",
      "JobState.JOB_STATE_RUNNING\n",
      "HyperparameterTuningJob projects/1026793852137/locations/us-central1/hyperparameterTuningJobs/5401015795281035264 current state:\n",
      "JobState.JOB_STATE_RUNNING\n",
      "HyperparameterTuningJob projects/1026793852137/locations/us-central1/hyperparameterTuningJobs/5401015795281035264 current state:\n",
      "JobState.JOB_STATE_RUNNING\n",
      "HyperparameterTuningJob projects/1026793852137/locations/us-central1/hyperparameterTuningJobs/5401015795281035264 current state:\n",
      "JobState.JOB_STATE_RUNNING\n",
      "HyperparameterTuningJob projects/1026793852137/locations/us-central1/hyperparameterTuningJobs/5401015795281035264 current state:\n",
      "JobState.JOB_STATE_RUNNING\n",
      "HyperparameterTuningJob projects/1026793852137/locations/us-central1/hyperparameterTuningJobs/5401015795281035264 current state:\n",
      "JobState.JOB_STATE_RUNNING\n",
      "HyperparameterTuningJob projects/1026793852137/locations/us-central1/hyperparameterTuningJobs/5401015795281035264 current state:\n",
      "JobState.JOB_STATE_RUNNING\n",
      "HyperparameterTuningJob projects/1026793852137/locations/us-central1/hyperparameterTuningJobs/5401015795281035264 current state:\n",
      "JobState.JOB_STATE_RUNNING\n",
      "HyperparameterTuningJob projects/1026793852137/locations/us-central1/hyperparameterTuningJobs/5401015795281035264 current state:\n",
      "JobState.JOB_STATE_RUNNING\n",
      "HyperparameterTuningJob projects/1026793852137/locations/us-central1/hyperparameterTuningJobs/5401015795281035264 current state:\n",
      "JobState.JOB_STATE_RUNNING\n",
      "HyperparameterTuningJob projects/1026793852137/locations/us-central1/hyperparameterTuningJobs/5401015795281035264 current state:\n",
      "JobState.JOB_STATE_RUNNING\n",
      "HyperparameterTuningJob projects/1026793852137/locations/us-central1/hyperparameterTuningJobs/5401015795281035264 current state:\n",
      "JobState.JOB_STATE_RUNNING\n",
      "HyperparameterTuningJob projects/1026793852137/locations/us-central1/hyperparameterTuningJobs/5401015795281035264 current state:\n",
      "JobState.JOB_STATE_RUNNING\n",
      "HyperparameterTuningJob projects/1026793852137/locations/us-central1/hyperparameterTuningJobs/5401015795281035264 current state:\n",
      "JobState.JOB_STATE_RUNNING\n",
      "HyperparameterTuningJob projects/1026793852137/locations/us-central1/hyperparameterTuningJobs/5401015795281035264 current state:\n",
      "JobState.JOB_STATE_RUNNING\n",
      "HyperparameterTuningJob projects/1026793852137/locations/us-central1/hyperparameterTuningJobs/5401015795281035264 current state:\n",
      "JobState.JOB_STATE_RUNNING\n",
      "HyperparameterTuningJob projects/1026793852137/locations/us-central1/hyperparameterTuningJobs/5401015795281035264 current state:\n",
      "JobState.JOB_STATE_RUNNING\n",
      "HyperparameterTuningJob projects/1026793852137/locations/us-central1/hyperparameterTuningJobs/5401015795281035264 current state:\n",
      "JobState.JOB_STATE_RUNNING\n",
      "HyperparameterTuningJob projects/1026793852137/locations/us-central1/hyperparameterTuningJobs/5401015795281035264 current state:\n",
      "JobState.JOB_STATE_RUNNING\n",
      "HyperparameterTuningJob projects/1026793852137/locations/us-central1/hyperparameterTuningJobs/5401015795281035264 current state:\n",
      "JobState.JOB_STATE_RUNNING\n",
      "HyperparameterTuningJob projects/1026793852137/locations/us-central1/hyperparameterTuningJobs/5401015795281035264 current state:\n",
      "JobState.JOB_STATE_RUNNING\n",
      "HyperparameterTuningJob projects/1026793852137/locations/us-central1/hyperparameterTuningJobs/5401015795281035264 current state:\n",
      "JobState.JOB_STATE_RUNNING\n",
      "HyperparameterTuningJob projects/1026793852137/locations/us-central1/hyperparameterTuningJobs/5401015795281035264 current state:\n",
      "JobState.JOB_STATE_RUNNING\n",
      "HyperparameterTuningJob projects/1026793852137/locations/us-central1/hyperparameterTuningJobs/5401015795281035264 current state:\n",
      "JobState.JOB_STATE_RUNNING\n",
      "HyperparameterTuningJob projects/1026793852137/locations/us-central1/hyperparameterTuningJobs/5401015795281035264 current state:\n",
      "JobState.JOB_STATE_RUNNING\n",
      "HyperparameterTuningJob projects/1026793852137/locations/us-central1/hyperparameterTuningJobs/5401015795281035264 current state:\n",
      "JobState.JOB_STATE_RUNNING\n",
      "HyperparameterTuningJob projects/1026793852137/locations/us-central1/hyperparameterTuningJobs/5401015795281035264 current state:\n",
      "JobState.JOB_STATE_RUNNING\n",
      "HyperparameterTuningJob projects/1026793852137/locations/us-central1/hyperparameterTuningJobs/5401015795281035264 current state:\n",
      "JobState.JOB_STATE_RUNNING\n",
      "HyperparameterTuningJob projects/1026793852137/locations/us-central1/hyperparameterTuningJobs/5401015795281035264 current state:\n",
      "JobState.JOB_STATE_RUNNING\n",
      "HyperparameterTuningJob projects/1026793852137/locations/us-central1/hyperparameterTuningJobs/5401015795281035264 current state:\n",
      "JobState.JOB_STATE_RUNNING\n",
      "HyperparameterTuningJob projects/1026793852137/locations/us-central1/hyperparameterTuningJobs/5401015795281035264 current state:\n",
      "JobState.JOB_STATE_RUNNING\n",
      "HyperparameterTuningJob projects/1026793852137/locations/us-central1/hyperparameterTuningJobs/5401015795281035264 current state:\n",
      "JobState.JOB_STATE_RUNNING\n",
      "HyperparameterTuningJob projects/1026793852137/locations/us-central1/hyperparameterTuningJobs/5401015795281035264 current state:\n",
      "JobState.JOB_STATE_RUNNING\n",
      "HyperparameterTuningJob projects/1026793852137/locations/us-central1/hyperparameterTuningJobs/5401015795281035264 current state:\n",
      "JobState.JOB_STATE_RUNNING\n",
      "HyperparameterTuningJob projects/1026793852137/locations/us-central1/hyperparameterTuningJobs/5401015795281035264 current state:\n",
      "JobState.JOB_STATE_RUNNING\n",
      "HyperparameterTuningJob projects/1026793852137/locations/us-central1/hyperparameterTuningJobs/5401015795281035264 current state:\n",
      "JobState.JOB_STATE_RUNNING\n",
      "HyperparameterTuningJob projects/1026793852137/locations/us-central1/hyperparameterTuningJobs/5401015795281035264 current state:\n",
      "JobState.JOB_STATE_RUNNING\n",
      "HyperparameterTuningJob projects/1026793852137/locations/us-central1/hyperparameterTuningJobs/5401015795281035264 current state:\n",
      "JobState.JOB_STATE_RUNNING\n",
      "HyperparameterTuningJob projects/1026793852137/locations/us-central1/hyperparameterTuningJobs/5401015795281035264 current state:\n",
      "JobState.JOB_STATE_RUNNING\n",
      "HyperparameterTuningJob projects/1026793852137/locations/us-central1/hyperparameterTuningJobs/5401015795281035264 current state:\n",
      "JobState.JOB_STATE_RUNNING\n",
      "HyperparameterTuningJob projects/1026793852137/locations/us-central1/hyperparameterTuningJobs/5401015795281035264 current state:\n",
      "JobState.JOB_STATE_RUNNING\n",
      "HyperparameterTuningJob projects/1026793852137/locations/us-central1/hyperparameterTuningJobs/5401015795281035264 current state:\n",
      "JobState.JOB_STATE_RUNNING\n",
      "HyperparameterTuningJob projects/1026793852137/locations/us-central1/hyperparameterTuningJobs/5401015795281035264 current state:\n",
      "JobState.JOB_STATE_RUNNING\n",
      "HyperparameterTuningJob projects/1026793852137/locations/us-central1/hyperparameterTuningJobs/5401015795281035264 current state:\n",
      "JobState.JOB_STATE_RUNNING\n",
      "HyperparameterTuningJob projects/1026793852137/locations/us-central1/hyperparameterTuningJobs/5401015795281035264 current state:\n",
      "JobState.JOB_STATE_RUNNING\n",
      "HyperparameterTuningJob projects/1026793852137/locations/us-central1/hyperparameterTuningJobs/5401015795281035264 current state:\n",
      "JobState.JOB_STATE_RUNNING\n",
      "HyperparameterTuningJob projects/1026793852137/locations/us-central1/hyperparameterTuningJobs/5401015795281035264 current state:\n",
      "JobState.JOB_STATE_RUNNING\n",
      "HyperparameterTuningJob projects/1026793852137/locations/us-central1/hyperparameterTuningJobs/5401015795281035264 current state:\n",
      "JobState.JOB_STATE_RUNNING\n",
      "HyperparameterTuningJob projects/1026793852137/locations/us-central1/hyperparameterTuningJobs/5401015795281035264 current state:\n",
      "JobState.JOB_STATE_RUNNING\n",
      "HyperparameterTuningJob projects/1026793852137/locations/us-central1/hyperparameterTuningJobs/5401015795281035264 current state:\n",
      "JobState.JOB_STATE_RUNNING\n",
      "HyperparameterTuningJob projects/1026793852137/locations/us-central1/hyperparameterTuningJobs/5401015795281035264 current state:\n",
      "JobState.JOB_STATE_RUNNING\n",
      "HyperparameterTuningJob projects/1026793852137/locations/us-central1/hyperparameterTuningJobs/5401015795281035264 current state:\n",
      "JobState.JOB_STATE_RUNNING\n",
      "HyperparameterTuningJob projects/1026793852137/locations/us-central1/hyperparameterTuningJobs/5401015795281035264 current state:\n",
      "JobState.JOB_STATE_RUNNING\n",
      "HyperparameterTuningJob projects/1026793852137/locations/us-central1/hyperparameterTuningJobs/5401015795281035264 current state:\n",
      "JobState.JOB_STATE_RUNNING\n",
      "HyperparameterTuningJob projects/1026793852137/locations/us-central1/hyperparameterTuningJobs/5401015795281035264 current state:\n",
      "JobState.JOB_STATE_RUNNING\n",
      "HyperparameterTuningJob projects/1026793852137/locations/us-central1/hyperparameterTuningJobs/5401015795281035264 current state:\n",
      "JobState.JOB_STATE_RUNNING\n",
      "HyperparameterTuningJob projects/1026793852137/locations/us-central1/hyperparameterTuningJobs/5401015795281035264 current state:\n",
      "JobState.JOB_STATE_RUNNING\n",
      "HyperparameterTuningJob projects/1026793852137/locations/us-central1/hyperparameterTuningJobs/5401015795281035264 current state:\n",
      "JobState.JOB_STATE_RUNNING\n",
      "HyperparameterTuningJob projects/1026793852137/locations/us-central1/hyperparameterTuningJobs/5401015795281035264 current state:\n",
      "JobState.JOB_STATE_RUNNING\n",
      "HyperparameterTuningJob projects/1026793852137/locations/us-central1/hyperparameterTuningJobs/5401015795281035264 current state:\n",
      "JobState.JOB_STATE_RUNNING\n",
      "HyperparameterTuningJob projects/1026793852137/locations/us-central1/hyperparameterTuningJobs/5401015795281035264 current state:\n",
      "JobState.JOB_STATE_RUNNING\n",
      "HyperparameterTuningJob projects/1026793852137/locations/us-central1/hyperparameterTuningJobs/5401015795281035264 current state:\n",
      "JobState.JOB_STATE_RUNNING\n",
      "HyperparameterTuningJob projects/1026793852137/locations/us-central1/hyperparameterTuningJobs/5401015795281035264 current state:\n",
      "JobState.JOB_STATE_RUNNING\n",
      "HyperparameterTuningJob projects/1026793852137/locations/us-central1/hyperparameterTuningJobs/5401015795281035264 current state:\n",
      "JobState.JOB_STATE_RUNNING\n",
      "HyperparameterTuningJob projects/1026793852137/locations/us-central1/hyperparameterTuningJobs/5401015795281035264 current state:\n",
      "JobState.JOB_STATE_RUNNING\n",
      "HyperparameterTuningJob projects/1026793852137/locations/us-central1/hyperparameterTuningJobs/5401015795281035264 current state:\n",
      "JobState.JOB_STATE_RUNNING\n",
      "HyperparameterTuningJob projects/1026793852137/locations/us-central1/hyperparameterTuningJobs/5401015795281035264 current state:\n",
      "JobState.JOB_STATE_RUNNING\n",
      "HyperparameterTuningJob projects/1026793852137/locations/us-central1/hyperparameterTuningJobs/5401015795281035264 current state:\n",
      "JobState.JOB_STATE_RUNNING\n",
      "HyperparameterTuningJob projects/1026793852137/locations/us-central1/hyperparameterTuningJobs/5401015795281035264 current state:\n",
      "JobState.JOB_STATE_RUNNING\n",
      "HyperparameterTuningJob projects/1026793852137/locations/us-central1/hyperparameterTuningJobs/5401015795281035264 current state:\n",
      "JobState.JOB_STATE_RUNNING\n",
      "HyperparameterTuningJob projects/1026793852137/locations/us-central1/hyperparameterTuningJobs/5401015795281035264 current state:\n",
      "JobState.JOB_STATE_RUNNING\n",
      "HyperparameterTuningJob projects/1026793852137/locations/us-central1/hyperparameterTuningJobs/5401015795281035264 current state:\n",
      "JobState.JOB_STATE_RUNNING\n",
      "HyperparameterTuningJob projects/1026793852137/locations/us-central1/hyperparameterTuningJobs/5401015795281035264 current state:\n",
      "JobState.JOB_STATE_RUNNING\n",
      "HyperparameterTuningJob projects/1026793852137/locations/us-central1/hyperparameterTuningJobs/5401015795281035264 current state:\n",
      "JobState.JOB_STATE_RUNNING\n",
      "HyperparameterTuningJob projects/1026793852137/locations/us-central1/hyperparameterTuningJobs/5401015795281035264 current state:\n",
      "JobState.JOB_STATE_RUNNING\n",
      "HyperparameterTuningJob projects/1026793852137/locations/us-central1/hyperparameterTuningJobs/5401015795281035264 current state:\n",
      "JobState.JOB_STATE_RUNNING\n",
      "HyperparameterTuningJob projects/1026793852137/locations/us-central1/hyperparameterTuningJobs/5401015795281035264 current state:\n",
      "JobState.JOB_STATE_RUNNING\n",
      "HyperparameterTuningJob projects/1026793852137/locations/us-central1/hyperparameterTuningJobs/5401015795281035264 current state:\n",
      "JobState.JOB_STATE_RUNNING\n",
      "HyperparameterTuningJob projects/1026793852137/locations/us-central1/hyperparameterTuningJobs/5401015795281035264 current state:\n",
      "JobState.JOB_STATE_RUNNING\n",
      "HyperparameterTuningJob projects/1026793852137/locations/us-central1/hyperparameterTuningJobs/5401015795281035264 current state:\n",
      "JobState.JOB_STATE_RUNNING\n",
      "HyperparameterTuningJob projects/1026793852137/locations/us-central1/hyperparameterTuningJobs/5401015795281035264 current state:\n",
      "JobState.JOB_STATE_RUNNING\n",
      "HyperparameterTuningJob projects/1026793852137/locations/us-central1/hyperparameterTuningJobs/5401015795281035264 current state:\n",
      "JobState.JOB_STATE_RUNNING\n",
      "HyperparameterTuningJob projects/1026793852137/locations/us-central1/hyperparameterTuningJobs/5401015795281035264 current state:\n",
      "JobState.JOB_STATE_RUNNING\n",
      "HyperparameterTuningJob projects/1026793852137/locations/us-central1/hyperparameterTuningJobs/5401015795281035264 current state:\n",
      "JobState.JOB_STATE_RUNNING\n",
      "HyperparameterTuningJob projects/1026793852137/locations/us-central1/hyperparameterTuningJobs/5401015795281035264 current state:\n",
      "JobState.JOB_STATE_RUNNING\n",
      "HyperparameterTuningJob projects/1026793852137/locations/us-central1/hyperparameterTuningJobs/5401015795281035264 current state:\n",
      "JobState.JOB_STATE_RUNNING\n",
      "HyperparameterTuningJob projects/1026793852137/locations/us-central1/hyperparameterTuningJobs/5401015795281035264 current state:\n",
      "JobState.JOB_STATE_RUNNING\n",
      "HyperparameterTuningJob projects/1026793852137/locations/us-central1/hyperparameterTuningJobs/5401015795281035264 current state:\n",
      "JobState.JOB_STATE_RUNNING\n",
      "HyperparameterTuningJob projects/1026793852137/locations/us-central1/hyperparameterTuningJobs/5401015795281035264 current state:\n",
      "JobState.JOB_STATE_RUNNING\n",
      "HyperparameterTuningJob projects/1026793852137/locations/us-central1/hyperparameterTuningJobs/5401015795281035264 current state:\n",
      "JobState.JOB_STATE_RUNNING\n",
      "HyperparameterTuningJob projects/1026793852137/locations/us-central1/hyperparameterTuningJobs/5401015795281035264 current state:\n",
      "JobState.JOB_STATE_RUNNING\n",
      "HyperparameterTuningJob projects/1026793852137/locations/us-central1/hyperparameterTuningJobs/5401015795281035264 current state:\n",
      "JobState.JOB_STATE_RUNNING\n",
      "HyperparameterTuningJob projects/1026793852137/locations/us-central1/hyperparameterTuningJobs/5401015795281035264 current state:\n",
      "JobState.JOB_STATE_RUNNING\n",
      "HyperparameterTuningJob projects/1026793852137/locations/us-central1/hyperparameterTuningJobs/5401015795281035264 current state:\n",
      "JobState.JOB_STATE_RUNNING\n",
      "HyperparameterTuningJob projects/1026793852137/locations/us-central1/hyperparameterTuningJobs/5401015795281035264 current state:\n",
      "JobState.JOB_STATE_RUNNING\n",
      "HyperparameterTuningJob projects/1026793852137/locations/us-central1/hyperparameterTuningJobs/5401015795281035264 current state:\n",
      "JobState.JOB_STATE_RUNNING\n",
      "HyperparameterTuningJob projects/1026793852137/locations/us-central1/hyperparameterTuningJobs/5401015795281035264 current state:\n",
      "JobState.JOB_STATE_RUNNING\n",
      "HyperparameterTuningJob projects/1026793852137/locations/us-central1/hyperparameterTuningJobs/5401015795281035264 current state:\n",
      "JobState.JOB_STATE_RUNNING\n",
      "HyperparameterTuningJob projects/1026793852137/locations/us-central1/hyperparameterTuningJobs/5401015795281035264 current state:\n",
      "JobState.JOB_STATE_RUNNING\n",
      "HyperparameterTuningJob projects/1026793852137/locations/us-central1/hyperparameterTuningJobs/5401015795281035264 current state:\n",
      "JobState.JOB_STATE_RUNNING\n",
      "HyperparameterTuningJob projects/1026793852137/locations/us-central1/hyperparameterTuningJobs/5401015795281035264 current state:\n",
      "JobState.JOB_STATE_RUNNING\n",
      "HyperparameterTuningJob projects/1026793852137/locations/us-central1/hyperparameterTuningJobs/5401015795281035264 current state:\n",
      "JobState.JOB_STATE_RUNNING\n",
      "HyperparameterTuningJob projects/1026793852137/locations/us-central1/hyperparameterTuningJobs/5401015795281035264 current state:\n",
      "JobState.JOB_STATE_RUNNING\n",
      "HyperparameterTuningJob projects/1026793852137/locations/us-central1/hyperparameterTuningJobs/5401015795281035264 current state:\n",
      "JobState.JOB_STATE_RUNNING\n",
      "HyperparameterTuningJob projects/1026793852137/locations/us-central1/hyperparameterTuningJobs/5401015795281035264 current state:\n",
      "JobState.JOB_STATE_RUNNING\n",
      "HyperparameterTuningJob projects/1026793852137/locations/us-central1/hyperparameterTuningJobs/5401015795281035264 current state:\n",
      "JobState.JOB_STATE_RUNNING\n",
      "HyperparameterTuningJob projects/1026793852137/locations/us-central1/hyperparameterTuningJobs/5401015795281035264 current state:\n",
      "JobState.JOB_STATE_RUNNING\n",
      "HyperparameterTuningJob projects/1026793852137/locations/us-central1/hyperparameterTuningJobs/5401015795281035264 current state:\n",
      "JobState.JOB_STATE_RUNNING\n",
      "HyperparameterTuningJob projects/1026793852137/locations/us-central1/hyperparameterTuningJobs/5401015795281035264 current state:\n",
      "JobState.JOB_STATE_RUNNING\n",
      "HyperparameterTuningJob projects/1026793852137/locations/us-central1/hyperparameterTuningJobs/5401015795281035264 current state:\n",
      "JobState.JOB_STATE_RUNNING\n",
      "HyperparameterTuningJob projects/1026793852137/locations/us-central1/hyperparameterTuningJobs/5401015795281035264 current state:\n",
      "JobState.JOB_STATE_RUNNING\n",
      "HyperparameterTuningJob projects/1026793852137/locations/us-central1/hyperparameterTuningJobs/5401015795281035264 current state:\n",
      "JobState.JOB_STATE_RUNNING\n",
      "HyperparameterTuningJob projects/1026793852137/locations/us-central1/hyperparameterTuningJobs/5401015795281035264 current state:\n",
      "JobState.JOB_STATE_RUNNING\n",
      "HyperparameterTuningJob projects/1026793852137/locations/us-central1/hyperparameterTuningJobs/5401015795281035264 current state:\n",
      "JobState.JOB_STATE_RUNNING\n",
      "HyperparameterTuningJob projects/1026793852137/locations/us-central1/hyperparameterTuningJobs/5401015795281035264 current state:\n",
      "JobState.JOB_STATE_RUNNING\n",
      "HyperparameterTuningJob projects/1026793852137/locations/us-central1/hyperparameterTuningJobs/5401015795281035264 current state:\n",
      "JobState.JOB_STATE_RUNNING\n",
      "HyperparameterTuningJob projects/1026793852137/locations/us-central1/hyperparameterTuningJobs/5401015795281035264 current state:\n",
      "JobState.JOB_STATE_RUNNING\n",
      "HyperparameterTuningJob projects/1026793852137/locations/us-central1/hyperparameterTuningJobs/5401015795281035264 current state:\n",
      "JobState.JOB_STATE_RUNNING\n",
      "HyperparameterTuningJob projects/1026793852137/locations/us-central1/hyperparameterTuningJobs/5401015795281035264 current state:\n",
      "JobState.JOB_STATE_RUNNING\n",
      "HyperparameterTuningJob projects/1026793852137/locations/us-central1/hyperparameterTuningJobs/5401015795281035264 current state:\n",
      "JobState.JOB_STATE_RUNNING\n",
      "HyperparameterTuningJob projects/1026793852137/locations/us-central1/hyperparameterTuningJobs/5401015795281035264 current state:\n",
      "JobState.JOB_STATE_RUNNING\n",
      "HyperparameterTuningJob projects/1026793852137/locations/us-central1/hyperparameterTuningJobs/5401015795281035264 current state:\n",
      "JobState.JOB_STATE_RUNNING\n",
      "HyperparameterTuningJob projects/1026793852137/locations/us-central1/hyperparameterTuningJobs/5401015795281035264 current state:\n",
      "JobState.JOB_STATE_RUNNING\n",
      "HyperparameterTuningJob projects/1026793852137/locations/us-central1/hyperparameterTuningJobs/5401015795281035264 current state:\n",
      "JobState.JOB_STATE_RUNNING\n",
      "HyperparameterTuningJob projects/1026793852137/locations/us-central1/hyperparameterTuningJobs/5401015795281035264 current state:\n",
      "JobState.JOB_STATE_RUNNING\n",
      "HyperparameterTuningJob projects/1026793852137/locations/us-central1/hyperparameterTuningJobs/5401015795281035264 current state:\n",
      "JobState.JOB_STATE_RUNNING\n",
      "HyperparameterTuningJob projects/1026793852137/locations/us-central1/hyperparameterTuningJobs/5401015795281035264 current state:\n",
      "JobState.JOB_STATE_RUNNING\n",
      "HyperparameterTuningJob projects/1026793852137/locations/us-central1/hyperparameterTuningJobs/5401015795281035264 current state:\n",
      "JobState.JOB_STATE_RUNNING\n",
      "HyperparameterTuningJob projects/1026793852137/locations/us-central1/hyperparameterTuningJobs/5401015795281035264 current state:\n",
      "JobState.JOB_STATE_RUNNING\n",
      "HyperparameterTuningJob projects/1026793852137/locations/us-central1/hyperparameterTuningJobs/5401015795281035264 current state:\n",
      "JobState.JOB_STATE_RUNNING\n",
      "HyperparameterTuningJob projects/1026793852137/locations/us-central1/hyperparameterTuningJobs/5401015795281035264 current state:\n",
      "JobState.JOB_STATE_RUNNING\n",
      "HyperparameterTuningJob projects/1026793852137/locations/us-central1/hyperparameterTuningJobs/5401015795281035264 current state:\n",
      "JobState.JOB_STATE_RUNNING\n",
      "HyperparameterTuningJob projects/1026793852137/locations/us-central1/hyperparameterTuningJobs/5401015795281035264 current state:\n",
      "JobState.JOB_STATE_RUNNING\n",
      "HyperparameterTuningJob projects/1026793852137/locations/us-central1/hyperparameterTuningJobs/5401015795281035264 current state:\n",
      "JobState.JOB_STATE_RUNNING\n",
      "HyperparameterTuningJob projects/1026793852137/locations/us-central1/hyperparameterTuningJobs/5401015795281035264 current state:\n",
      "JobState.JOB_STATE_RUNNING\n",
      "HyperparameterTuningJob projects/1026793852137/locations/us-central1/hyperparameterTuningJobs/5401015795281035264 current state:\n",
      "JobState.JOB_STATE_RUNNING\n",
      "HyperparameterTuningJob projects/1026793852137/locations/us-central1/hyperparameterTuningJobs/5401015795281035264 current state:\n",
      "JobState.JOB_STATE_RUNNING\n",
      "HyperparameterTuningJob projects/1026793852137/locations/us-central1/hyperparameterTuningJobs/5401015795281035264 current state:\n",
      "JobState.JOB_STATE_RUNNING\n",
      "HyperparameterTuningJob projects/1026793852137/locations/us-central1/hyperparameterTuningJobs/5401015795281035264 current state:\n",
      "JobState.JOB_STATE_RUNNING\n",
      "HyperparameterTuningJob projects/1026793852137/locations/us-central1/hyperparameterTuningJobs/5401015795281035264 current state:\n",
      "JobState.JOB_STATE_RUNNING\n",
      "HyperparameterTuningJob projects/1026793852137/locations/us-central1/hyperparameterTuningJobs/5401015795281035264 current state:\n",
      "JobState.JOB_STATE_RUNNING\n",
      "HyperparameterTuningJob projects/1026793852137/locations/us-central1/hyperparameterTuningJobs/5401015795281035264 current state:\n",
      "JobState.JOB_STATE_RUNNING\n",
      "HyperparameterTuningJob projects/1026793852137/locations/us-central1/hyperparameterTuningJobs/5401015795281035264 current state:\n",
      "JobState.JOB_STATE_RUNNING\n",
      "HyperparameterTuningJob projects/1026793852137/locations/us-central1/hyperparameterTuningJobs/5401015795281035264 current state:\n",
      "JobState.JOB_STATE_RUNNING\n",
      "HyperparameterTuningJob projects/1026793852137/locations/us-central1/hyperparameterTuningJobs/5401015795281035264 current state:\n",
      "JobState.JOB_STATE_RUNNING\n",
      "HyperparameterTuningJob projects/1026793852137/locations/us-central1/hyperparameterTuningJobs/5401015795281035264 current state:\n",
      "JobState.JOB_STATE_RUNNING\n",
      "HyperparameterTuningJob projects/1026793852137/locations/us-central1/hyperparameterTuningJobs/5401015795281035264 current state:\n",
      "JobState.JOB_STATE_RUNNING\n",
      "HyperparameterTuningJob projects/1026793852137/locations/us-central1/hyperparameterTuningJobs/5401015795281035264 current state:\n",
      "JobState.JOB_STATE_RUNNING\n",
      "HyperparameterTuningJob projects/1026793852137/locations/us-central1/hyperparameterTuningJobs/5401015795281035264 current state:\n",
      "JobState.JOB_STATE_RUNNING\n",
      "HyperparameterTuningJob projects/1026793852137/locations/us-central1/hyperparameterTuningJobs/5401015795281035264 current state:\n",
      "JobState.JOB_STATE_RUNNING\n",
      "HyperparameterTuningJob projects/1026793852137/locations/us-central1/hyperparameterTuningJobs/5401015795281035264 current state:\n",
      "JobState.JOB_STATE_RUNNING\n",
      "HyperparameterTuningJob projects/1026793852137/locations/us-central1/hyperparameterTuningJobs/5401015795281035264 current state:\n",
      "JobState.JOB_STATE_RUNNING\n",
      "HyperparameterTuningJob projects/1026793852137/locations/us-central1/hyperparameterTuningJobs/5401015795281035264 current state:\n",
      "JobState.JOB_STATE_RUNNING\n",
      "HyperparameterTuningJob projects/1026793852137/locations/us-central1/hyperparameterTuningJobs/5401015795281035264 current state:\n",
      "JobState.JOB_STATE_RUNNING\n",
      "HyperparameterTuningJob projects/1026793852137/locations/us-central1/hyperparameterTuningJobs/5401015795281035264 current state:\n",
      "JobState.JOB_STATE_RUNNING\n",
      "HyperparameterTuningJob projects/1026793852137/locations/us-central1/hyperparameterTuningJobs/5401015795281035264 current state:\n",
      "JobState.JOB_STATE_RUNNING\n",
      "HyperparameterTuningJob projects/1026793852137/locations/us-central1/hyperparameterTuningJobs/5401015795281035264 current state:\n",
      "JobState.JOB_STATE_RUNNING\n",
      "HyperparameterTuningJob projects/1026793852137/locations/us-central1/hyperparameterTuningJobs/5401015795281035264 current state:\n",
      "JobState.JOB_STATE_RUNNING\n",
      "HyperparameterTuningJob projects/1026793852137/locations/us-central1/hyperparameterTuningJobs/5401015795281035264 current state:\n",
      "JobState.JOB_STATE_RUNNING\n",
      "HyperparameterTuningJob projects/1026793852137/locations/us-central1/hyperparameterTuningJobs/5401015795281035264 current state:\n",
      "JobState.JOB_STATE_RUNNING\n",
      "HyperparameterTuningJob projects/1026793852137/locations/us-central1/hyperparameterTuningJobs/5401015795281035264 current state:\n",
      "JobState.JOB_STATE_RUNNING\n",
      "HyperparameterTuningJob projects/1026793852137/locations/us-central1/hyperparameterTuningJobs/5401015795281035264 current state:\n",
      "JobState.JOB_STATE_RUNNING\n",
      "HyperparameterTuningJob projects/1026793852137/locations/us-central1/hyperparameterTuningJobs/5401015795281035264 current state:\n",
      "JobState.JOB_STATE_RUNNING\n",
      "HyperparameterTuningJob projects/1026793852137/locations/us-central1/hyperparameterTuningJobs/5401015795281035264 current state:\n",
      "JobState.JOB_STATE_RUNNING\n",
      "HyperparameterTuningJob projects/1026793852137/locations/us-central1/hyperparameterTuningJobs/5401015795281035264 current state:\n",
      "JobState.JOB_STATE_RUNNING\n",
      "HyperparameterTuningJob projects/1026793852137/locations/us-central1/hyperparameterTuningJobs/5401015795281035264 current state:\n",
      "JobState.JOB_STATE_RUNNING\n",
      "HyperparameterTuningJob projects/1026793852137/locations/us-central1/hyperparameterTuningJobs/5401015795281035264 current state:\n",
      "JobState.JOB_STATE_RUNNING\n",
      "HyperparameterTuningJob projects/1026793852137/locations/us-central1/hyperparameterTuningJobs/5401015795281035264 current state:\n",
      "JobState.JOB_STATE_RUNNING\n",
      "HyperparameterTuningJob projects/1026793852137/locations/us-central1/hyperparameterTuningJobs/5401015795281035264 current state:\n",
      "JobState.JOB_STATE_RUNNING\n",
      "HyperparameterTuningJob projects/1026793852137/locations/us-central1/hyperparameterTuningJobs/5401015795281035264 current state:\n",
      "JobState.JOB_STATE_RUNNING\n",
      "HyperparameterTuningJob projects/1026793852137/locations/us-central1/hyperparameterTuningJobs/5401015795281035264 current state:\n",
      "JobState.JOB_STATE_RUNNING\n",
      "HyperparameterTuningJob projects/1026793852137/locations/us-central1/hyperparameterTuningJobs/5401015795281035264 current state:\n",
      "JobState.JOB_STATE_RUNNING\n",
      "HyperparameterTuningJob projects/1026793852137/locations/us-central1/hyperparameterTuningJobs/5401015795281035264 current state:\n",
      "JobState.JOB_STATE_RUNNING\n",
      "HyperparameterTuningJob projects/1026793852137/locations/us-central1/hyperparameterTuningJobs/5401015795281035264 current state:\n",
      "JobState.JOB_STATE_RUNNING\n",
      "HyperparameterTuningJob projects/1026793852137/locations/us-central1/hyperparameterTuningJobs/5401015795281035264 current state:\n",
      "JobState.JOB_STATE_RUNNING\n",
      "HyperparameterTuningJob projects/1026793852137/locations/us-central1/hyperparameterTuningJobs/5401015795281035264 current state:\n",
      "JobState.JOB_STATE_RUNNING\n",
      "HyperparameterTuningJob projects/1026793852137/locations/us-central1/hyperparameterTuningJobs/5401015795281035264 current state:\n",
      "JobState.JOB_STATE_RUNNING\n",
      "HyperparameterTuningJob projects/1026793852137/locations/us-central1/hyperparameterTuningJobs/5401015795281035264 current state:\n",
      "JobState.JOB_STATE_SUCCEEDED\n",
      "HyperparameterTuningJob run completed. Resource name: projects/1026793852137/locations/us-central1/hyperparameterTuningJobs/5401015795281035264\n"
     ]
    }
   ],
   "source": [
    "tuningJob.run(\n",
    "    service_account = SERVICE_ACCOUNT,\n",
    "    tensorboard = tb.resource_name\n",
    ")"
   ]
  },
  {
   "cell_type": "code",
   "execution_count": 26,
   "id": "25fdc0eb-77d9-4760-896d-53b1c018dbdb",
   "metadata": {},
   "outputs": [
    {
     "data": {
      "text/plain": [
       "('projects/1026793852137/locations/us-central1/hyperparameterTuningJobs/5401015795281035264',\n",
       " '05g_fraud_20220826184958')"
      ]
     },
     "execution_count": 26,
     "metadata": {},
     "output_type": "execute_result"
    }
   ],
   "source": [
    "tuningJob.resource_name, tuningJob.display_name"
   ]
  },
  {
   "cell_type": "markdown",
   "id": "b16e26e7-2cd1-4e55-af42-11563d0cdbc6",
   "metadata": {},
   "source": [
    "Create hyperlinks to job and tensorboard here:"
   ]
  },
  {
   "cell_type": "code",
   "execution_count": 27,
   "id": "e59b706c-0999-4765-aac2-fa3c52bc0215",
   "metadata": {},
   "outputs": [],
   "source": [
    "job_link = f\"https://console.cloud.google.com/ai/platform/locations/{REGION}/training/{tuningJob.resource_name.split('/')[-1]}?project={PROJECT_ID}\"\n",
    "board_link = f\"https://{REGION}.tensorboard.googleusercontent.com/experiment/{tb.resource_name.replace('/', '+')}+experiments+{tuningJob.resource_name.split('/')[-1]}\""
   ]
  },
  {
   "cell_type": "code",
   "execution_count": 28,
   "id": "a2895cc0-88f2-46bc-ba91-0851e5ce0426",
   "metadata": {},
   "outputs": [
    {
     "name": "stdout",
     "output_type": "stream",
     "text": [
      "Review the Job here:\n",
      "https://console.cloud.google.com/ai/platform/locations/us-central1/training/5401015795281035264?project=statmike-mlops-349915\n",
      "Review the TensorBoard From the Job here:\n",
      "https://us-central1.tensorboard.googleusercontent.com/experiment/projects+1026793852137+locations+us-central1+tensorboards+7179142426307592192+experiments+5401015795281035264\n",
      "Review the TensorBoard From the Job here (direct link to HPARAMS dashboard):\n",
      "https://us-central1.tensorboard.googleusercontent.com/experiment/projects+1026793852137+locations+us-central1+tensorboards+7179142426307592192+experiments+5401015795281035264/#hparams\n"
     ]
    }
   ],
   "source": [
    "print(f'Review the Job here:\\n{job_link}')\n",
    "print(f'Review the TensorBoard From the Job here:\\n{board_link}')\n",
    "print(f'Review the TensorBoard From the Job here (direct link to HPARAMS dashboard):\\n{board_link}/#hparams')"
   ]
  },
  {
   "cell_type": "markdown",
   "id": "6c8acff2-6daf-49e4-b6a0-c80df5d8058c",
   "metadata": {},
   "source": [
    "### Get Best Run"
   ]
  },
  {
   "cell_type": "code",
   "execution_count": 29,
   "id": "faed179a",
   "metadata": {},
   "outputs": [
    {
     "data": {
      "text/plain": [
       "[0.9997091293334961,\n",
       " 0.999727189540863,\n",
       " 0.9996439814567566,\n",
       " 0.9997153282165527,\n",
       " 0.999773383140564,\n",
       " 0.9997678399085999,\n",
       " 0.9998486042022705,\n",
       " 0.9998194575309753,\n",
       " 0.9997676014900208,\n",
       " 0.9997903108596802]"
      ]
     },
     "execution_count": 29,
     "metadata": {},
     "output_type": "execute_result"
    }
   ],
   "source": [
    "# if trial.state.name == 'SUCCEEDED'\n",
    "auprc = [trial.final_measurement.metrics[0].value if trial.state.name == 'SUCCEEDED' else 1 for trial in tuningJob.trials]\n",
    "auprc"
   ]
  },
  {
   "cell_type": "code",
   "execution_count": 30,
   "id": "5e699294",
   "metadata": {},
   "outputs": [
    {
     "data": {
      "text/plain": [
       "id: \"7\"\n",
       "state: SUCCEEDED\n",
       "parameters {\n",
       "  parameter_id: \"lr\"\n",
       "  value {\n",
       "    number_value: 0.1\n",
       "  }\n",
       "}\n",
       "parameters {\n",
       "  parameter_id: \"m\"\n",
       "  value {\n",
       "    number_value: 0.7753601462992353\n",
       "  }\n",
       "}\n",
       "final_measurement {\n",
       "  step_count: 1\n",
       "  metrics {\n",
       "    metric_id: \"auprc\"\n",
       "    value: 0.9998486042022705\n",
       "  }\n",
       "}\n",
       "start_time {\n",
       "  seconds: 1661542223\n",
       "  nanos: 770164825\n",
       "}\n",
       "end_time {\n",
       "  seconds: 1661542891\n",
       "}"
      ]
     },
     "execution_count": 30,
     "metadata": {},
     "output_type": "execute_result"
    }
   ],
   "source": [
    "best = tuningJob.trials[auprc.index(max(auprc))]\n",
    "best"
   ]
  },
  {
   "cell_type": "code",
   "execution_count": 31,
   "id": "471aa31a-122f-4147-aa4c-9776c12fa443",
   "metadata": {},
   "outputs": [
    {
     "data": {
      "text/plain": [
       "'7'"
      ]
     },
     "execution_count": 31,
     "metadata": {},
     "output_type": "execute_result"
    }
   ],
   "source": [
    "best.id"
   ]
  },
  {
   "cell_type": "markdown",
   "id": "bb4bf665",
   "metadata": {},
   "source": [
    "---\n",
    "## Serving"
   ]
  },
  {
   "cell_type": "markdown",
   "id": "1bda4198",
   "metadata": {},
   "source": [
    "### Upload The Model\n",
    "Only upload the best model from the hyperparmeter tuning job:"
   ]
  },
  {
   "cell_type": "code",
   "execution_count": 34,
   "id": "af63fd1e",
   "metadata": {},
   "outputs": [
    {
     "name": "stdout",
     "output_type": "stream",
     "text": [
      "This is a new model, creating in model registry\n",
      "Creating Model\n",
      "Create Model backing LRO: projects/1026793852137/locations/us-central1/models/model_05g_fraud/operations/5350668127053021184\n",
      "Model created. Resource name: projects/1026793852137/locations/us-central1/models/7702681484942901248@1\n",
      "To use this Model in another session:\n",
      "model = aiplatform.Model('projects/1026793852137/locations/us-central1/models/7702681484942901248@1')\n"
     ]
    }
   ],
   "source": [
    "modelmatch = aiplatform.Model.list(filter = f'labels.series={SERIES} AND labels.experiemnt={EXPERIMENT}')\n",
    "if modelmatch:\n",
    "    print(\"Model Already in Registry:\")\n",
    "    if RUN_NAME in modelmatch[0].version_aliases:\n",
    "        print(\"This version already loaded, no action taken.\")\n",
    "        model = aiplatform.Model(model_name = modelmatch[0].resource_name)\n",
    "    else:\n",
    "        print('Loading model as new default version.')\n",
    "        model = aiplatform.Model.upload(\n",
    "            display_name = f'{EXPERIMENT}_{BQ_DATSET}',\n",
    "            model_id = f'model_{EXPERIMENT}_{BQ_DATASET}',\n",
    "            parent_model =  modelmatch[0].resource_name,\n",
    "            serving_container_image_uri = DEPLOY_IMAGE,\n",
    "            artifact_uri = f\"{URI}/{TIMESTAMP}/{best.id}/model\",\n",
    "            is_default_version = True,\n",
    "            version_aliases = [f'{RUN_NAME}-{best.id}'],\n",
    "            version_description = f'{RUN_NAME}-{best.id}',\n",
    "            labels = {'series' : f'{SERIES}', 'experiment' : f'{EXPERIMENT}', 'experiment_name' : f'{EXPERIMENT_NAME}', 'run_name' : f'{RUN_NAME}-{best.id}'}        \n",
    "        )\n",
    "else:\n",
    "    print('This is a new model, creating in model registry')\n",
    "    model = aiplatform.Model.upload(\n",
    "        display_name = f'{EXPERIMENT}_{BQ_DATASET}',\n",
    "        model_id = f'model_{EXPERIMENT}_{BQ_DATASET}',\n",
    "        serving_container_image_uri = DEPLOY_IMAGE,\n",
    "        artifact_uri = f\"{URI}/{TIMESTAMP}/{best.id}/model\",\n",
    "        is_default_version = True,\n",
    "        version_aliases = [f'{RUN_NAME}-{best.id}'],\n",
    "        version_description = f'{RUN_NAME}-{best.id}',\n",
    "        labels = {'series' : f'{SERIES}', 'experiment' : f'{EXPERIMENT}', 'experiment_name' : f'{EXPERIMENT_NAME}', 'run_name' : f'{RUN_NAME}-{best.id}'}\n",
    "    )   "
   ]
  },
  {
   "cell_type": "markdown",
   "id": "c45ee38b-4f58-4cda-9a49-12728593d27b",
   "metadata": {},
   "source": [
    "**Note** on Version Aliases:\n",
    ">Expectation is a name starting with `a-z` that can include `[a-zA-Z0-9-]`\n",
    "\n",
    "**Retrieve a Model Resource**\n",
    "\n",
    "[Resource](https://cloud.google.com/python/docs/reference/aiplatform/latest/google.cloud.aiplatform.Model)\n",
    "```Python\n",
    "model = aiplatform.Model(model_name = f'model_{NOTEBOOK}_{DATANAME}') # retrieves default version\n",
    "model = aiplatform.Model(model_name = f'model_{NOTEBOOK}_{DATANAME}@time-{TIMESTAMP}') # retrieves specific version\n",
    "model = aiplatform.Model(model_name = f'model_{NOTEBOOK}_{DATANAME}', version = f'time-{TIMESTAMP}') # retrieves specific version\n",
    "```"
   ]
  },
  {
   "cell_type": "markdown",
   "id": "aa43d924-491d-4257-aa58-ca0777877ef8",
   "metadata": {},
   "source": [
    "### Vertex AI Experiment Update and Review"
   ]
  },
  {
   "cell_type": "code",
   "execution_count": 35,
   "id": "39a85b24-9bcb-4d11-8818-f3e4f9a89f6f",
   "metadata": {},
   "outputs": [],
   "source": [
    "expRun = aiplatform.ExperimentRun(run_name = f'{RUN_NAME}-{best.id}', experiment = EXPERIMENT_NAME)"
   ]
  },
  {
   "cell_type": "code",
   "execution_count": 36,
   "id": "80dbe229-564d-49fb-bbb2-280bfa07fa49",
   "metadata": {},
   "outputs": [],
   "source": [
    "expRun.log_params({\n",
    "    'model.uri': model.uri,\n",
    "    'model.display_name': model.display_name,\n",
    "    'model.resource_name': model.resource_name,\n",
    "    'model.version_id': model.version_id,\n",
    "    'model.versioned_resource_name': model.versioned_resource_name,\n",
    "    'hyperparameterTuningJobs.display_name': tuningJob.display_name,\n",
    "    'hyperparameterTuning.resource_name': tuningJob.resource_name,\n",
    "    'hyperparameterTuning.link': job_link,\n",
    "    'hyperparameterTuning.tensorboard': board_link\n",
    "})"
   ]
  },
  {
   "cell_type": "markdown",
   "id": "6d46fbf9-b9dc-4ced-8c9d-8fbec99dcb79",
   "metadata": {},
   "source": [
    "Complete the experiment run:"
   ]
  },
  {
   "cell_type": "code",
   "execution_count": 37,
   "id": "e3a1dcfe-1b4a-434d-85e9-acd9e5e557be",
   "metadata": {},
   "outputs": [],
   "source": [
    "expRun.update_state(state = aiplatform.gapic.Execution.State.COMPLETE)"
   ]
  },
  {
   "cell_type": "markdown",
   "id": "5ab34bc6-53fa-45d5-880e-f1af9d2bd685",
   "metadata": {},
   "source": [
    "Need to add the `hyperparameterTuning` job information to each run of the experiment:"
   ]
  },
  {
   "cell_type": "code",
   "execution_count": 38,
   "id": "23da03c9-0b38-41c8-b1e3-1d35ab7943fb",
   "metadata": {},
   "outputs": [],
   "source": [
    "for trial in tuningJob.trials:\n",
    "    expRun = aiplatform.ExperimentRun(run_name = f'{RUN_NAME}-{trial.id}', experiment = EXPERIMENT_NAME)\n",
    "    expRun.log_params({\n",
    "        'hyperparameterTuningJobs.display_name': tuningJob.display_name,\n",
    "        'hyperparameterTuning.resource_name': tuningJob.resource_name,\n",
    "        'hyperparameterTuning.link': job_link,\n",
    "        'hyperparameterTuning.tensorboard': board_link\n",
    "    })\n",
    "    expRun.update_state(state = aiplatform.gapic.Execution.State.COMPLETE)"
   ]
  },
  {
   "cell_type": "markdown",
   "id": "7fa576c7-1cc7-45b7-a533-8c40baa611ce",
   "metadata": {},
   "source": [
    "Retrieve the experiment:"
   ]
  },
  {
   "cell_type": "code",
   "execution_count": 39,
   "id": "57b4e1d3-9836-4aac-9286-c0a07d4ccdf1",
   "metadata": {},
   "outputs": [],
   "source": [
    "exp = aiplatform.Experiment(experiment_name = EXPERIMENT_NAME)"
   ]
  },
  {
   "cell_type": "code",
   "execution_count": 40,
   "id": "65d603e1-b034-4469-a245-de9ab1334d28",
   "metadata": {},
   "outputs": [
    {
     "data": {
      "text/html": [
       "<div>\n",
       "<style scoped>\n",
       "    .dataframe tbody tr th:only-of-type {\n",
       "        vertical-align: middle;\n",
       "    }\n",
       "\n",
       "    .dataframe tbody tr th {\n",
       "        vertical-align: top;\n",
       "    }\n",
       "\n",
       "    .dataframe thead th {\n",
       "        text-align: right;\n",
       "    }\n",
       "</style>\n",
       "<table border=\"1\" class=\"dataframe\">\n",
       "  <thead>\n",
       "    <tr style=\"text-align: right;\">\n",
       "      <th></th>\n",
       "      <th>experiment_name</th>\n",
       "      <th>run_name</th>\n",
       "      <th>run_type</th>\n",
       "      <th>state</th>\n",
       "      <th>param.hyperparameterTuningJobs.display_name</th>\n",
       "      <th>param.hyperparameterTuning.link</th>\n",
       "      <th>param.hyperparameterTuning.resource_name</th>\n",
       "      <th>param.hyperparameter.momentum</th>\n",
       "      <th>param.model.save</th>\n",
       "      <th>param.var_split</th>\n",
       "      <th>...</th>\n",
       "      <th>metric.train_loss</th>\n",
       "      <th>metric.val_auprc</th>\n",
       "      <th>metric.test_loss</th>\n",
       "      <th>metric.train_accuracy</th>\n",
       "      <th>time_series_metric.val_loss</th>\n",
       "      <th>time_series_metric.val_auprc</th>\n",
       "      <th>time_series_metric.train_loss</th>\n",
       "      <th>time_series_metric.train_accuracy</th>\n",
       "      <th>time_series_metric.train_auprc</th>\n",
       "      <th>time_series_metric.val_accuracy</th>\n",
       "    </tr>\n",
       "  </thead>\n",
       "  <tbody>\n",
       "    <tr>\n",
       "      <th>0</th>\n",
       "      <td>experiment-05-05g-tf-classification-dnn</td>\n",
       "      <td>run-20220826184958-10</td>\n",
       "      <td>system.ExperimentRun</td>\n",
       "      <td>COMPLETE</td>\n",
       "      <td>05g_fraud_20220826184958</td>\n",
       "      <td>https://console.cloud.google.com/ai/platform/l...</td>\n",
       "      <td>projects/1026793852137/locations/us-central1/h...</td>\n",
       "      <td>7.073616e-01</td>\n",
       "      <td>gs://statmike-mlops-349915/fraud/models/05/05g...</td>\n",
       "      <td>splits</td>\n",
       "      <td>...</td>\n",
       "      <td>0.003344</td>\n",
       "      <td>0.999670</td>\n",
       "      <td>0.003496</td>\n",
       "      <td>0.999434</td>\n",
       "      <td>0.004419</td>\n",
       "      <td>0.999670</td>\n",
       "      <td>0.002584</td>\n",
       "      <td>0.999474</td>\n",
       "      <td>0.999790</td>\n",
       "      <td>0.999327</td>\n",
       "    </tr>\n",
       "    <tr>\n",
       "      <th>1</th>\n",
       "      <td>experiment-05-05g-tf-classification-dnn</td>\n",
       "      <td>run-20220826184958-9</td>\n",
       "      <td>system.ExperimentRun</td>\n",
       "      <td>COMPLETE</td>\n",
       "      <td>05g_fraud_20220826184958</td>\n",
       "      <td>https://console.cloud.google.com/ai/platform/l...</td>\n",
       "      <td>projects/1026793852137/locations/us-central1/h...</td>\n",
       "      <td>5.847699e-01</td>\n",
       "      <td>gs://statmike-mlops-349915/fraud/models/05/05g...</td>\n",
       "      <td>splits</td>\n",
       "      <td>...</td>\n",
       "      <td>0.003189</td>\n",
       "      <td>0.999669</td>\n",
       "      <td>0.003257</td>\n",
       "      <td>0.999461</td>\n",
       "      <td>0.004623</td>\n",
       "      <td>0.999669</td>\n",
       "      <td>0.002439</td>\n",
       "      <td>0.999500</td>\n",
       "      <td>0.999768</td>\n",
       "      <td>0.999292</td>\n",
       "    </tr>\n",
       "    <tr>\n",
       "      <th>2</th>\n",
       "      <td>experiment-05-05g-tf-classification-dnn</td>\n",
       "      <td>run-20220826184958-8</td>\n",
       "      <td>system.ExperimentRun</td>\n",
       "      <td>COMPLETE</td>\n",
       "      <td>05g_fraud_20220826184958</td>\n",
       "      <td>https://console.cloud.google.com/ai/platform/l...</td>\n",
       "      <td>projects/1026793852137/locations/us-central1/h...</td>\n",
       "      <td>9.000000e-01</td>\n",
       "      <td>gs://statmike-mlops-349915/fraud/models/05/05g...</td>\n",
       "      <td>splits</td>\n",
       "      <td>...</td>\n",
       "      <td>0.002765</td>\n",
       "      <td>0.999715</td>\n",
       "      <td>0.003191</td>\n",
       "      <td>0.999461</td>\n",
       "      <td>0.004369</td>\n",
       "      <td>0.999715</td>\n",
       "      <td>0.002309</td>\n",
       "      <td>0.999456</td>\n",
       "      <td>0.999819</td>\n",
       "      <td>0.999327</td>\n",
       "    </tr>\n",
       "    <tr>\n",
       "      <th>3</th>\n",
       "      <td>experiment-05-05g-tf-classification-dnn</td>\n",
       "      <td>run-20220826184958-6</td>\n",
       "      <td>system.ExperimentRun</td>\n",
       "      <td>COMPLETE</td>\n",
       "      <td>05g_fraud_20220826184958</td>\n",
       "      <td>https://console.cloud.google.com/ai/platform/l...</td>\n",
       "      <td>projects/1026793852137/locations/us-central1/h...</td>\n",
       "      <td>1.000000e-07</td>\n",
       "      <td>gs://statmike-mlops-349915/fraud/models/05/05g...</td>\n",
       "      <td>splits</td>\n",
       "      <td>...</td>\n",
       "      <td>0.003757</td>\n",
       "      <td>0.999530</td>\n",
       "      <td>0.004006</td>\n",
       "      <td>0.999448</td>\n",
       "      <td>0.005249</td>\n",
       "      <td>0.999530</td>\n",
       "      <td>0.002392</td>\n",
       "      <td>0.999487</td>\n",
       "      <td>0.999768</td>\n",
       "      <td>0.999256</td>\n",
       "    </tr>\n",
       "    <tr>\n",
       "      <th>4</th>\n",
       "      <td>experiment-05-05g-tf-classification-dnn</td>\n",
       "      <td>run-20220826184958-5</td>\n",
       "      <td>system.ExperimentRun</td>\n",
       "      <td>COMPLETE</td>\n",
       "      <td>05g_fraud_20220826184958</td>\n",
       "      <td>https://console.cloud.google.com/ai/platform/l...</td>\n",
       "      <td>projects/1026793852137/locations/us-central1/h...</td>\n",
       "      <td>6.891439e-01</td>\n",
       "      <td>gs://statmike-mlops-349915/fraud/models/05/05g...</td>\n",
       "      <td>splits</td>\n",
       "      <td>...</td>\n",
       "      <td>0.003183</td>\n",
       "      <td>0.999670</td>\n",
       "      <td>0.003498</td>\n",
       "      <td>0.999426</td>\n",
       "      <td>0.004720</td>\n",
       "      <td>0.999670</td>\n",
       "      <td>0.002442</td>\n",
       "      <td>0.999491</td>\n",
       "      <td>0.999773</td>\n",
       "      <td>0.999256</td>\n",
       "    </tr>\n",
       "    <tr>\n",
       "      <th>5</th>\n",
       "      <td>experiment-05-05g-tf-classification-dnn</td>\n",
       "      <td>run-20220826184958-4</td>\n",
       "      <td>system.ExperimentRun</td>\n",
       "      <td>COMPLETE</td>\n",
       "      <td>05g_fraud_20220826184958</td>\n",
       "      <td>https://console.cloud.google.com/ai/platform/l...</td>\n",
       "      <td>projects/1026793852137/locations/us-central1/h...</td>\n",
       "      <td>6.971284e-01</td>\n",
       "      <td>gs://statmike-mlops-349915/fraud/models/05/05g...</td>\n",
       "      <td>splits</td>\n",
       "      <td>...</td>\n",
       "      <td>0.003115</td>\n",
       "      <td>0.999716</td>\n",
       "      <td>0.003090</td>\n",
       "      <td>0.999465</td>\n",
       "      <td>0.004520</td>\n",
       "      <td>0.999716</td>\n",
       "      <td>0.002961</td>\n",
       "      <td>0.999408</td>\n",
       "      <td>0.999715</td>\n",
       "      <td>0.999292</td>\n",
       "    </tr>\n",
       "    <tr>\n",
       "      <th>6</th>\n",
       "      <td>experiment-05-05g-tf-classification-dnn</td>\n",
       "      <td>run-20220826184958-3</td>\n",
       "      <td>system.ExperimentRun</td>\n",
       "      <td>COMPLETE</td>\n",
       "      <td>05g_fraud_20220826184958</td>\n",
       "      <td>https://console.cloud.google.com/ai/platform/l...</td>\n",
       "      <td>projects/1026793852137/locations/us-central1/h...</td>\n",
       "      <td>4.632279e-01</td>\n",
       "      <td>gs://statmike-mlops-349915/fraud/models/05/05g...</td>\n",
       "      <td>splits</td>\n",
       "      <td>...</td>\n",
       "      <td>0.004220</td>\n",
       "      <td>0.999437</td>\n",
       "      <td>0.004049</td>\n",
       "      <td>0.999404</td>\n",
       "      <td>0.005929</td>\n",
       "      <td>0.999437</td>\n",
       "      <td>0.003684</td>\n",
       "      <td>0.999334</td>\n",
       "      <td>0.999644</td>\n",
       "      <td>0.999115</td>\n",
       "    </tr>\n",
       "    <tr>\n",
       "      <th>7</th>\n",
       "      <td>experiment-05-05g-tf-classification-dnn</td>\n",
       "      <td>run-20220826184958-2</td>\n",
       "      <td>system.ExperimentRun</td>\n",
       "      <td>COMPLETE</td>\n",
       "      <td>05g_fraud_20220826184958</td>\n",
       "      <td>https://console.cloud.google.com/ai/platform/l...</td>\n",
       "      <td>projects/1026793852137/locations/us-central1/h...</td>\n",
       "      <td>2.525340e-01</td>\n",
       "      <td>gs://statmike-mlops-349915/fraud/models/05/05g...</td>\n",
       "      <td>splits</td>\n",
       "      <td>...</td>\n",
       "      <td>0.003444</td>\n",
       "      <td>0.999625</td>\n",
       "      <td>0.003426</td>\n",
       "      <td>0.999448</td>\n",
       "      <td>0.004312</td>\n",
       "      <td>0.999625</td>\n",
       "      <td>0.002810</td>\n",
       "      <td>0.999461</td>\n",
       "      <td>0.999727</td>\n",
       "      <td>0.999327</td>\n",
       "    </tr>\n",
       "    <tr>\n",
       "      <th>8</th>\n",
       "      <td>experiment-05-05g-tf-classification-dnn</td>\n",
       "      <td>run-20220826184958-1</td>\n",
       "      <td>system.ExperimentRun</td>\n",
       "      <td>COMPLETE</td>\n",
       "      <td>05g_fraud_20220826184958</td>\n",
       "      <td>https://console.cloud.google.com/ai/platform/l...</td>\n",
       "      <td>projects/1026793852137/locations/us-central1/h...</td>\n",
       "      <td>4.500001e-01</td>\n",
       "      <td>gs://statmike-mlops-349915/fraud/models/05/05g...</td>\n",
       "      <td>splits</td>\n",
       "      <td>...</td>\n",
       "      <td>0.003495</td>\n",
       "      <td>0.999624</td>\n",
       "      <td>0.003569</td>\n",
       "      <td>0.999412</td>\n",
       "      <td>0.004408</td>\n",
       "      <td>0.999624</td>\n",
       "      <td>0.003086</td>\n",
       "      <td>0.999404</td>\n",
       "      <td>0.999709</td>\n",
       "      <td>0.999221</td>\n",
       "    </tr>\n",
       "    <tr>\n",
       "      <th>9</th>\n",
       "      <td>experiment-05-05g-tf-classification-dnn</td>\n",
       "      <td>run-20220826184958-7</td>\n",
       "      <td>system.ExperimentRun</td>\n",
       "      <td>COMPLETE</td>\n",
       "      <td>05g_fraud_20220826184958</td>\n",
       "      <td>https://console.cloud.google.com/ai/platform/l...</td>\n",
       "      <td>projects/1026793852137/locations/us-central1/h...</td>\n",
       "      <td>7.753601e-01</td>\n",
       "      <td>gs://statmike-mlops-349915/fraud/models/05/05g...</td>\n",
       "      <td>splits</td>\n",
       "      <td>...</td>\n",
       "      <td>0.003050</td>\n",
       "      <td>0.999575</td>\n",
       "      <td>0.003831</td>\n",
       "      <td>0.999478</td>\n",
       "      <td>0.004959</td>\n",
       "      <td>0.999575</td>\n",
       "      <td>0.002146</td>\n",
       "      <td>0.999448</td>\n",
       "      <td>0.999849</td>\n",
       "      <td>0.999221</td>\n",
       "    </tr>\n",
       "  </tbody>\n",
       "</table>\n",
       "<p>10 rows × 42 columns</p>\n",
       "</div>"
      ],
      "text/plain": [
       "                           experiment_name               run_name  \\\n",
       "0  experiment-05-05g-tf-classification-dnn  run-20220826184958-10   \n",
       "1  experiment-05-05g-tf-classification-dnn   run-20220826184958-9   \n",
       "2  experiment-05-05g-tf-classification-dnn   run-20220826184958-8   \n",
       "3  experiment-05-05g-tf-classification-dnn   run-20220826184958-6   \n",
       "4  experiment-05-05g-tf-classification-dnn   run-20220826184958-5   \n",
       "5  experiment-05-05g-tf-classification-dnn   run-20220826184958-4   \n",
       "6  experiment-05-05g-tf-classification-dnn   run-20220826184958-3   \n",
       "7  experiment-05-05g-tf-classification-dnn   run-20220826184958-2   \n",
       "8  experiment-05-05g-tf-classification-dnn   run-20220826184958-1   \n",
       "9  experiment-05-05g-tf-classification-dnn   run-20220826184958-7   \n",
       "\n",
       "               run_type     state param.hyperparameterTuningJobs.display_name  \\\n",
       "0  system.ExperimentRun  COMPLETE                    05g_fraud_20220826184958   \n",
       "1  system.ExperimentRun  COMPLETE                    05g_fraud_20220826184958   \n",
       "2  system.ExperimentRun  COMPLETE                    05g_fraud_20220826184958   \n",
       "3  system.ExperimentRun  COMPLETE                    05g_fraud_20220826184958   \n",
       "4  system.ExperimentRun  COMPLETE                    05g_fraud_20220826184958   \n",
       "5  system.ExperimentRun  COMPLETE                    05g_fraud_20220826184958   \n",
       "6  system.ExperimentRun  COMPLETE                    05g_fraud_20220826184958   \n",
       "7  system.ExperimentRun  COMPLETE                    05g_fraud_20220826184958   \n",
       "8  system.ExperimentRun  COMPLETE                    05g_fraud_20220826184958   \n",
       "9  system.ExperimentRun  COMPLETE                    05g_fraud_20220826184958   \n",
       "\n",
       "                     param.hyperparameterTuning.link  \\\n",
       "0  https://console.cloud.google.com/ai/platform/l...   \n",
       "1  https://console.cloud.google.com/ai/platform/l...   \n",
       "2  https://console.cloud.google.com/ai/platform/l...   \n",
       "3  https://console.cloud.google.com/ai/platform/l...   \n",
       "4  https://console.cloud.google.com/ai/platform/l...   \n",
       "5  https://console.cloud.google.com/ai/platform/l...   \n",
       "6  https://console.cloud.google.com/ai/platform/l...   \n",
       "7  https://console.cloud.google.com/ai/platform/l...   \n",
       "8  https://console.cloud.google.com/ai/platform/l...   \n",
       "9  https://console.cloud.google.com/ai/platform/l...   \n",
       "\n",
       "            param.hyperparameterTuning.resource_name  \\\n",
       "0  projects/1026793852137/locations/us-central1/h...   \n",
       "1  projects/1026793852137/locations/us-central1/h...   \n",
       "2  projects/1026793852137/locations/us-central1/h...   \n",
       "3  projects/1026793852137/locations/us-central1/h...   \n",
       "4  projects/1026793852137/locations/us-central1/h...   \n",
       "5  projects/1026793852137/locations/us-central1/h...   \n",
       "6  projects/1026793852137/locations/us-central1/h...   \n",
       "7  projects/1026793852137/locations/us-central1/h...   \n",
       "8  projects/1026793852137/locations/us-central1/h...   \n",
       "9  projects/1026793852137/locations/us-central1/h...   \n",
       "\n",
       "   param.hyperparameter.momentum  \\\n",
       "0                   7.073616e-01   \n",
       "1                   5.847699e-01   \n",
       "2                   9.000000e-01   \n",
       "3                   1.000000e-07   \n",
       "4                   6.891439e-01   \n",
       "5                   6.971284e-01   \n",
       "6                   4.632279e-01   \n",
       "7                   2.525340e-01   \n",
       "8                   4.500001e-01   \n",
       "9                   7.753601e-01   \n",
       "\n",
       "                                    param.model.save param.var_split  ...  \\\n",
       "0  gs://statmike-mlops-349915/fraud/models/05/05g...          splits  ...   \n",
       "1  gs://statmike-mlops-349915/fraud/models/05/05g...          splits  ...   \n",
       "2  gs://statmike-mlops-349915/fraud/models/05/05g...          splits  ...   \n",
       "3  gs://statmike-mlops-349915/fraud/models/05/05g...          splits  ...   \n",
       "4  gs://statmike-mlops-349915/fraud/models/05/05g...          splits  ...   \n",
       "5  gs://statmike-mlops-349915/fraud/models/05/05g...          splits  ...   \n",
       "6  gs://statmike-mlops-349915/fraud/models/05/05g...          splits  ...   \n",
       "7  gs://statmike-mlops-349915/fraud/models/05/05g...          splits  ...   \n",
       "8  gs://statmike-mlops-349915/fraud/models/05/05g...          splits  ...   \n",
       "9  gs://statmike-mlops-349915/fraud/models/05/05g...          splits  ...   \n",
       "\n",
       "   metric.train_loss metric.val_auprc  metric.test_loss  \\\n",
       "0           0.003344         0.999670          0.003496   \n",
       "1           0.003189         0.999669          0.003257   \n",
       "2           0.002765         0.999715          0.003191   \n",
       "3           0.003757         0.999530          0.004006   \n",
       "4           0.003183         0.999670          0.003498   \n",
       "5           0.003115         0.999716          0.003090   \n",
       "6           0.004220         0.999437          0.004049   \n",
       "7           0.003444         0.999625          0.003426   \n",
       "8           0.003495         0.999624          0.003569   \n",
       "9           0.003050         0.999575          0.003831   \n",
       "\n",
       "   metric.train_accuracy time_series_metric.val_loss  \\\n",
       "0               0.999434                    0.004419   \n",
       "1               0.999461                    0.004623   \n",
       "2               0.999461                    0.004369   \n",
       "3               0.999448                    0.005249   \n",
       "4               0.999426                    0.004720   \n",
       "5               0.999465                    0.004520   \n",
       "6               0.999404                    0.005929   \n",
       "7               0.999448                    0.004312   \n",
       "8               0.999412                    0.004408   \n",
       "9               0.999478                    0.004959   \n",
       "\n",
       "   time_series_metric.val_auprc time_series_metric.train_loss  \\\n",
       "0                      0.999670                      0.002584   \n",
       "1                      0.999669                      0.002439   \n",
       "2                      0.999715                      0.002309   \n",
       "3                      0.999530                      0.002392   \n",
       "4                      0.999670                      0.002442   \n",
       "5                      0.999716                      0.002961   \n",
       "6                      0.999437                      0.003684   \n",
       "7                      0.999625                      0.002810   \n",
       "8                      0.999624                      0.003086   \n",
       "9                      0.999575                      0.002146   \n",
       "\n",
       "   time_series_metric.train_accuracy time_series_metric.train_auprc  \\\n",
       "0                           0.999474                       0.999790   \n",
       "1                           0.999500                       0.999768   \n",
       "2                           0.999456                       0.999819   \n",
       "3                           0.999487                       0.999768   \n",
       "4                           0.999491                       0.999773   \n",
       "5                           0.999408                       0.999715   \n",
       "6                           0.999334                       0.999644   \n",
       "7                           0.999461                       0.999727   \n",
       "8                           0.999404                       0.999709   \n",
       "9                           0.999448                       0.999849   \n",
       "\n",
       "  time_series_metric.val_accuracy  \n",
       "0                        0.999327  \n",
       "1                        0.999292  \n",
       "2                        0.999327  \n",
       "3                        0.999256  \n",
       "4                        0.999256  \n",
       "5                        0.999292  \n",
       "6                        0.999115  \n",
       "7                        0.999327  \n",
       "8                        0.999221  \n",
       "9                        0.999221  \n",
       "\n",
       "[10 rows x 42 columns]"
      ]
     },
     "execution_count": 40,
     "metadata": {},
     "output_type": "execute_result"
    }
   ],
   "source": [
    "exp.get_data_frame()"
   ]
  },
  {
   "cell_type": "markdown",
   "id": "9bc69ae6-e0e3-4763-8471-bc2837d0675b",
   "metadata": {},
   "source": [
    "Review the Experiments TensorBoard to compare runs:"
   ]
  },
  {
   "cell_type": "code",
   "execution_count": 45,
   "id": "3ce18389-8484-4d5d-a30e-c4841eb52e8f",
   "metadata": {},
   "outputs": [
    {
     "name": "stdout",
     "output_type": "stream",
     "text": [
      "The Experiment TensorBoard Link:\n",
      "https://us-central1.tensorboard.googleusercontent.com/experiment/projects+1026793852137+locations+us-central1+tensorboards+7179142426307592192+experiments+experiment-05-05g-tf-classification-dnn\n"
     ]
    }
   ],
   "source": [
    "print(f\"The Experiment TensorBoard Link:\\nhttps://{REGION}.tensorboard.googleusercontent.com/experiment/{tb.resource_name.replace('/', '+')}+experiments+{exp.name}\")"
   ]
  },
  {
   "cell_type": "markdown",
   "id": "631226fd-c3d1-4b6b-9d3a-0bc129cca0fb",
   "metadata": {},
   "source": [
    "### Compare This Run Using Experiments"
   ]
  },
  {
   "cell_type": "markdown",
   "id": "ecc77160-5019-4f32-bd59-b8a5fc47be37",
   "metadata": {
    "tags": []
   },
   "source": [
    "Get a list of all experiments in this project:"
   ]
  },
  {
   "cell_type": "code",
   "execution_count": 46,
   "id": "bb42949a-a4ab-4ef0-b163-ce89d2b58c10",
   "metadata": {},
   "outputs": [],
   "source": [
    "experiments = aiplatform.Experiment.list()"
   ]
  },
  {
   "cell_type": "markdown",
   "id": "3bf94d8e-3906-48f1-a2c7-d737a92bf1e6",
   "metadata": {},
   "source": [
    "Remove experiments not in the SERIES:"
   ]
  },
  {
   "cell_type": "code",
   "execution_count": 47,
   "id": "d9fd9424-3b50-4921-868e-e08eb6e2c033",
   "metadata": {},
   "outputs": [],
   "source": [
    "experiments = [e for e in experiments if e.name.split('-')[0:2] == ['experiment', SERIES]]"
   ]
  },
  {
   "cell_type": "markdown",
   "id": "d69cbd44-d1aa-4b57-93e6-3fd8672a6f23",
   "metadata": {},
   "source": [
    "Combine the runs from all experiments in SERIES into a single dataframe:"
   ]
  },
  {
   "cell_type": "code",
   "execution_count": 48,
   "id": "eb7352f4-d50a-43c1-a342-a15ba06b1ff6",
   "metadata": {},
   "outputs": [
    {
     "name": "stdout",
     "output_type": "stream",
     "text": [
      "experiment-05-05i-tf-classification-dnn\n",
      "experiment-05-05h-tf-classification-dnn\n",
      "experiment-05-05g-tf-classification-dnn\n",
      "experiment-05-05f-tf-classification-dnn\n",
      "experiment-05-05e-tf-classification-dnn\n",
      "experiment-05-05d-tf-classification-dnn\n",
      "experiment-05-05c-tf-classification-dnn\n",
      "experiment-05-05b-tf-classification-dnn\n",
      "experiment-05-05a-tf-classification-dnn\n",
      "experiment-05-05-tf-classification-dnn\n"
     ]
    }
   ],
   "source": [
    "results = []\n",
    "for experiment in experiments:\n",
    "        results.append(experiment.get_data_frame())\n",
    "        print(experiment.name)\n",
    "results = pd.concat(results)"
   ]
  },
  {
   "cell_type": "markdown",
   "id": "7ad3c0bf-5a65-4219-be82-17cbc11c31f0",
   "metadata": {},
   "source": [
    "Create ranks for models within experiment and across the entire SERIES:"
   ]
  },
  {
   "cell_type": "code",
   "execution_count": 52,
   "id": "7cd876a4-7984-4687-b42b-c829952c2ad9",
   "metadata": {},
   "outputs": [
    {
     "data": {
      "text/html": [
       "<div>\n",
       "<style scoped>\n",
       "    .dataframe tbody tr th:only-of-type {\n",
       "        vertical-align: middle;\n",
       "    }\n",
       "\n",
       "    .dataframe tbody tr th {\n",
       "        vertical-align: top;\n",
       "    }\n",
       "\n",
       "    .dataframe thead th {\n",
       "        text-align: right;\n",
       "    }\n",
       "</style>\n",
       "<table border=\"1\" class=\"dataframe\">\n",
       "  <thead>\n",
       "    <tr style=\"text-align: right;\">\n",
       "      <th></th>\n",
       "      <th>experiment_name</th>\n",
       "      <th>run_name</th>\n",
       "      <th>param.model.display_name</th>\n",
       "      <th>param.model.version_id</th>\n",
       "      <th>metric.test_auprc</th>\n",
       "      <th>series_rank</th>\n",
       "      <th>experiment_rank</th>\n",
       "    </tr>\n",
       "  </thead>\n",
       "  <tbody>\n",
       "    <tr>\n",
       "      <th>34</th>\n",
       "      <td>experiment-05-05-tf-classification-dnn</td>\n",
       "      <td>run-20220825143943</td>\n",
       "      <td>05_fraud</td>\n",
       "      <td>1</td>\n",
       "      <td>0.999398</td>\n",
       "      <td>8.0</td>\n",
       "      <td>1.0</td>\n",
       "    </tr>\n",
       "    <tr>\n",
       "      <th>33</th>\n",
       "      <td>experiment-05-05-tf-classification-dnn</td>\n",
       "      <td>run-20220825161109</td>\n",
       "      <td>05_fraud</td>\n",
       "      <td>2</td>\n",
       "      <td>0.999397</td>\n",
       "      <td>9.0</td>\n",
       "      <td>2.0</td>\n",
       "    </tr>\n",
       "    <tr>\n",
       "      <th>32</th>\n",
       "      <td>experiment-05-05-tf-classification-dnn</td>\n",
       "      <td>run-20220825175329</td>\n",
       "      <td>05_fraud</td>\n",
       "      <td>3</td>\n",
       "      <td>0.999344</td>\n",
       "      <td>10.0</td>\n",
       "      <td>3.0</td>\n",
       "    </tr>\n",
       "    <tr>\n",
       "      <th>31</th>\n",
       "      <td>experiment-05-05a-tf-classification-dnn</td>\n",
       "      <td>run-20220826104731</td>\n",
       "      <td>05a_fraud</td>\n",
       "      <td>1</td>\n",
       "      <td>0.999627</td>\n",
       "      <td>4.0</td>\n",
       "      <td>1.0</td>\n",
       "    </tr>\n",
       "    <tr>\n",
       "      <th>30</th>\n",
       "      <td>experiment-05-05b-tf-classification-dnn</td>\n",
       "      <td>run-20220826114523</td>\n",
       "      <td>05b_fraud</td>\n",
       "      <td>1</td>\n",
       "      <td>0.999582</td>\n",
       "      <td>5.0</td>\n",
       "      <td>1.0</td>\n",
       "    </tr>\n",
       "    <tr>\n",
       "      <th>29</th>\n",
       "      <td>experiment-05-05c-tf-classification-dnn</td>\n",
       "      <td>run-20220826163231</td>\n",
       "      <td>05c_fraud</td>\n",
       "      <td>1</td>\n",
       "      <td>0.999674</td>\n",
       "      <td>1.0</td>\n",
       "      <td>1.0</td>\n",
       "    </tr>\n",
       "    <tr>\n",
       "      <th>28</th>\n",
       "      <td>experiment-05-05d-tf-classification-dnn</td>\n",
       "      <td>run-20220826170803</td>\n",
       "      <td>05d_fraud</td>\n",
       "      <td>1</td>\n",
       "      <td>0.999579</td>\n",
       "      <td>7.0</td>\n",
       "      <td>1.0</td>\n",
       "    </tr>\n",
       "    <tr>\n",
       "      <th>27</th>\n",
       "      <td>experiment-05-05e-tf-classification-dnn</td>\n",
       "      <td>run-20220826174636</td>\n",
       "      <td>05e_fraud</td>\n",
       "      <td>1</td>\n",
       "      <td>0.999581</td>\n",
       "      <td>6.0</td>\n",
       "      <td>1.0</td>\n",
       "    </tr>\n",
       "    <tr>\n",
       "      <th>26</th>\n",
       "      <td>experiment-05-05f-tf-classification-dnn</td>\n",
       "      <td>run-20220826182653</td>\n",
       "      <td>05f_fraud</td>\n",
       "      <td>1</td>\n",
       "      <td>0.999672</td>\n",
       "      <td>2.0</td>\n",
       "      <td>1.0</td>\n",
       "    </tr>\n",
       "    <tr>\n",
       "      <th>25</th>\n",
       "      <td>experiment-05-05g-tf-classification-dnn</td>\n",
       "      <td>run-20220826184958-7</td>\n",
       "      <td>05g_fraud</td>\n",
       "      <td>1</td>\n",
       "      <td>0.999671</td>\n",
       "      <td>3.0</td>\n",
       "      <td>1.0</td>\n",
       "    </tr>\n",
       "  </tbody>\n",
       "</table>\n",
       "</div>"
      ],
      "text/plain": [
       "                            experiment_name              run_name  \\\n",
       "34   experiment-05-05-tf-classification-dnn    run-20220825143943   \n",
       "33   experiment-05-05-tf-classification-dnn    run-20220825161109   \n",
       "32   experiment-05-05-tf-classification-dnn    run-20220825175329   \n",
       "31  experiment-05-05a-tf-classification-dnn    run-20220826104731   \n",
       "30  experiment-05-05b-tf-classification-dnn    run-20220826114523   \n",
       "29  experiment-05-05c-tf-classification-dnn    run-20220826163231   \n",
       "28  experiment-05-05d-tf-classification-dnn    run-20220826170803   \n",
       "27  experiment-05-05e-tf-classification-dnn    run-20220826174636   \n",
       "26  experiment-05-05f-tf-classification-dnn    run-20220826182653   \n",
       "25  experiment-05-05g-tf-classification-dnn  run-20220826184958-7   \n",
       "\n",
       "   param.model.display_name param.model.version_id  metric.test_auprc  \\\n",
       "34                 05_fraud                      1           0.999398   \n",
       "33                 05_fraud                      2           0.999397   \n",
       "32                 05_fraud                      3           0.999344   \n",
       "31                05a_fraud                      1           0.999627   \n",
       "30                05b_fraud                      1           0.999582   \n",
       "29                05c_fraud                      1           0.999674   \n",
       "28                05d_fraud                      1           0.999579   \n",
       "27                05e_fraud                      1           0.999581   \n",
       "26                05f_fraud                      1           0.999672   \n",
       "25                05g_fraud                      1           0.999671   \n",
       "\n",
       "    series_rank  experiment_rank  \n",
       "34          8.0              1.0  \n",
       "33          9.0              2.0  \n",
       "32         10.0              3.0  \n",
       "31          4.0              1.0  \n",
       "30          5.0              1.0  \n",
       "29          1.0              1.0  \n",
       "28          7.0              1.0  \n",
       "27          6.0              1.0  \n",
       "26          2.0              1.0  \n",
       "25          3.0              1.0  "
      ]
     },
     "execution_count": 52,
     "metadata": {},
     "output_type": "execute_result"
    }
   ],
   "source": [
    "def ranker(metric = 'metric.test_auprc'):\n",
    "    ranks = results[['experiment_name', 'run_name', 'param.model.display_name', 'param.model.version_id', metric]].copy().reset_index(drop = True)\n",
    "    ranks = ranks[~ranks['param.model.display_name'].isnull()]\n",
    "    ranks['series_rank'] = ranks[metric].rank(method = 'dense', ascending = False)\n",
    "    ranks['experiment_rank'] = ranks.groupby('experiment_name')[metric].rank(method = 'dense', ascending = False)\n",
    "    return ranks.sort_values(by = ['experiment_name', 'run_name'])\n",
    "    \n",
    "ranks = ranker('metric.test_auprc')\n",
    "ranks"
   ]
  },
  {
   "cell_type": "code",
   "execution_count": 53,
   "id": "dae6903c-1986-47f8-b1e7-f05777ca6fe4",
   "metadata": {},
   "outputs": [
    {
     "data": {
      "text/html": [
       "<div>\n",
       "<style scoped>\n",
       "    .dataframe tbody tr th:only-of-type {\n",
       "        vertical-align: middle;\n",
       "    }\n",
       "\n",
       "    .dataframe tbody tr th {\n",
       "        vertical-align: top;\n",
       "    }\n",
       "\n",
       "    .dataframe thead th {\n",
       "        text-align: right;\n",
       "    }\n",
       "</style>\n",
       "<table border=\"1\" class=\"dataframe\">\n",
       "  <thead>\n",
       "    <tr style=\"text-align: right;\">\n",
       "      <th></th>\n",
       "      <th>experiment_name</th>\n",
       "      <th>run_name</th>\n",
       "      <th>param.model.display_name</th>\n",
       "      <th>param.model.version_id</th>\n",
       "      <th>metric.test_auprc</th>\n",
       "      <th>series_rank</th>\n",
       "      <th>experiment_rank</th>\n",
       "    </tr>\n",
       "  </thead>\n",
       "  <tbody>\n",
       "    <tr>\n",
       "      <th>25</th>\n",
       "      <td>experiment-05-05g-tf-classification-dnn</td>\n",
       "      <td>run-20220826184958-7</td>\n",
       "      <td>05g_fraud</td>\n",
       "      <td>1</td>\n",
       "      <td>0.999671</td>\n",
       "      <td>3.0</td>\n",
       "      <td>1.0</td>\n",
       "    </tr>\n",
       "  </tbody>\n",
       "</table>\n",
       "</div>"
      ],
      "text/plain": [
       "                            experiment_name              run_name  \\\n",
       "25  experiment-05-05g-tf-classification-dnn  run-20220826184958-7   \n",
       "\n",
       "   param.model.display_name param.model.version_id  metric.test_auprc  \\\n",
       "25                05g_fraud                      1           0.999671   \n",
       "\n",
       "    series_rank  experiment_rank  \n",
       "25          3.0              1.0  "
      ]
     },
     "execution_count": 53,
     "metadata": {},
     "output_type": "execute_result"
    }
   ],
   "source": [
    "current_rank = ranks.loc[(ranks['param.model.display_name'] == model.display_name) & (ranks['param.model.version_id'] == model.version_id)]\n",
    "current_rank"
   ]
  },
  {
   "cell_type": "code",
   "execution_count": 54,
   "id": "1e45ccb7-8f93-4c12-9b7d-666fd8fa238c",
   "metadata": {},
   "outputs": [
    {
     "name": "stdout",
     "output_type": "stream",
     "text": [
      "The current model is ranked 1.0 within this experiment and 3.0 across this series.\n"
     ]
    }
   ],
   "source": [
    "print(f\"The current model is ranked {current_rank['experiment_rank'].iloc[0]} within this experiment and {current_rank['series_rank'].iloc[0]} across this series.\")"
   ]
  },
  {
   "cell_type": "markdown",
   "id": "2851fff7-a7d3-4910-a20b-c72828f4da1d",
   "metadata": {},
   "source": [
    "### Create/Retrieve The Endpoint For This Series"
   ]
  },
  {
   "cell_type": "code",
   "execution_count": 55,
   "id": "2cc28d98-b525-4385-9b95-489bf574f967",
   "metadata": {},
   "outputs": [
    {
     "name": "stdout",
     "output_type": "stream",
     "text": [
      "Endpoint Exists: projects/1026793852137/locations/us-central1/endpoints/4573537362990071808\n"
     ]
    }
   ],
   "source": [
    "endpoints = aiplatform.Endpoint.list(filter = f\"labels.series={SERIES}\")\n",
    "if endpoints:\n",
    "    endpoint = endpoints[0]\n",
    "    print(f\"Endpoint Exists: {endpoints[0].resource_name}\")\n",
    "else:\n",
    "    endpoint = aiplatform.Endpoint.create(\n",
    "        display_name = f\"{SERIES}_{BQ_DATASET}\",\n",
    "        labels = {'series' : f\"{SERIES}\"}    \n",
    "    )\n",
    "    print(f\"Endpoint Created: {endpoint.resource_name}\")"
   ]
  },
  {
   "cell_type": "code",
   "execution_count": 56,
   "id": "0a538bf0",
   "metadata": {},
   "outputs": [
    {
     "data": {
      "text/plain": [
       "'05_fraud'"
      ]
     },
     "execution_count": 56,
     "metadata": {},
     "output_type": "execute_result"
    }
   ],
   "source": [
    "endpoint.display_name"
   ]
  },
  {
   "cell_type": "code",
   "execution_count": 57,
   "id": "0a0029bd-9744-4449-91f0-56ef7ca5e535",
   "metadata": {},
   "outputs": [
    {
     "data": {
      "text/plain": [
       "{'7361102804611497984': 100}"
      ]
     },
     "execution_count": 57,
     "metadata": {},
     "output_type": "execute_result"
    }
   ],
   "source": [
    "endpoint.traffic_split"
   ]
  },
  {
   "cell_type": "code",
   "execution_count": 58,
   "id": "85d06eba-82dc-4d50-8405-800d756e3584",
   "metadata": {},
   "outputs": [
    {
     "data": {
      "text/plain": [
       "[id: \"7361102804611497984\"\n",
       " model: \"projects/1026793852137/locations/us-central1/models/model_05c_fraud\"\n",
       " display_name: \"05c_fraud\"\n",
       " create_time {\n",
       "   seconds: 1661532514\n",
       "   nanos: 298407000\n",
       " }\n",
       " dedicated_resources {\n",
       "   machine_spec {\n",
       "     machine_type: \"n1-standard-4\"\n",
       "   }\n",
       "   min_replica_count: 1\n",
       "   max_replica_count: 1\n",
       " }\n",
       " model_version_id: \"1\"]"
      ]
     },
     "execution_count": 58,
     "metadata": {},
     "output_type": "execute_result"
    }
   ],
   "source": [
    "deployed_models = endpoint.list_models()\n",
    "deployed_models"
   ]
  },
  {
   "cell_type": "markdown",
   "id": "f99cd8db-6b0b-4b8d-b147-769577037abc",
   "metadata": {},
   "source": [
    "### Should This Model Be Deployed?\n",
    "Is it better than the model already deployed on the endpoint?"
   ]
  },
  {
   "cell_type": "code",
   "execution_count": 59,
   "id": "5db9b246-2b03-4313-b620-5fc8029280b7",
   "metadata": {},
   "outputs": [
    {
     "name": "stdout",
     "output_type": "stream",
     "text": [
      "The current model is ranked worse (3.0) than a currently deployed model (1.0)\n"
     ]
    }
   ],
   "source": [
    "deploy = False\n",
    "if deployed_models:\n",
    "    for deployed_model in deployed_models:\n",
    "        deployed_rank = ranks.loc[(ranks['param.model.display_name'] == deployed_model.display_name) & (ranks['param.model.version_id'] == deployed_model.model_version_id)]['series_rank'].iloc[0]\n",
    "        model_rank = current_rank['series_rank'].iloc[0]\n",
    "        if deployed_model.display_name == model.display_name and deployed_model.model_version_id == model.version_id:\n",
    "            print(f'The current model/version is already deployed.')\n",
    "            break\n",
    "        elif model_rank <= deployed_rank:\n",
    "            deploy = True\n",
    "            print(f'The current model is ranked better ({model_rank}) than a currently deployed model ({deployed_rank}).')\n",
    "            break\n",
    "    if deploy == False: print(f'The current model is ranked worse ({model_rank}) than a currently deployed model ({deployed_rank})')\n",
    "else: \n",
    "    deply = True\n",
    "    print('No models currently deployed.')"
   ]
  },
  {
   "cell_type": "markdown",
   "id": "647eebe7-b87f-4911-b101-1a8c2c8980da",
   "metadata": {},
   "source": [
    "### Deploy Model To Endpoint"
   ]
  },
  {
   "cell_type": "code",
   "execution_count": 60,
   "id": "2aa50205-0f93-423e-a622-4659f81e8674",
   "metadata": {},
   "outputs": [
    {
     "name": "stdout",
     "output_type": "stream",
     "text": [
      "Not deploying - current model is worse (3.0) than the currently deployed model (1.0)\n"
     ]
    }
   ],
   "source": [
    "if deploy:\n",
    "    print(f'Deploying model with 100% of traffic...')\n",
    "    endpoint.deploy(\n",
    "        model = model,\n",
    "        deployed_model_display_name = model.display_name,\n",
    "        traffic_percentage = 100,\n",
    "        machine_type = DEPLOY_COMPUTE,\n",
    "        min_replica_count = 1,\n",
    "        max_replica_count = 1\n",
    "    )\n",
    "else: print(f'Not deploying - current model is worse ({model_rank}) than the currently deployed model ({deployed_rank})')"
   ]
  },
  {
   "cell_type": "markdown",
   "id": "77c0af25-2b22-47b1-bf45-4c6227d5d991",
   "metadata": {},
   "source": [
    "### Remove Deployed Models without Traffic"
   ]
  },
  {
   "cell_type": "code",
   "execution_count": 61,
   "id": "6945f51a-0c06-4760-bbfe-f2b9d1e7d38b",
   "metadata": {},
   "outputs": [
    {
     "name": "stdout",
     "output_type": "stream",
     "text": [
      "Model 05c_fraud with version 1 has traffic = 100\n"
     ]
    }
   ],
   "source": [
    "for deployed_model in endpoint.list_models():\n",
    "    if deployed_model.id in endpoint.traffic_split:\n",
    "        print(f\"Model {deployed_model.display_name} with version {deployed_model.model_version_id} has traffic = {endpoint.traffic_split[deployed_model.id]}\")\n",
    "    else:\n",
    "        endpoint.undeploy(deployed_model_id = deployed_model.id)\n",
    "        print(f\"Undeploying {deployed_model.display_name} with version {deployed_model.model_version_id} because it has no traffic.\")"
   ]
  },
  {
   "cell_type": "code",
   "execution_count": 62,
   "id": "d90c6900-de81-4fcd-af0b-ba6b3925724d",
   "metadata": {},
   "outputs": [
    {
     "data": {
      "text/plain": [
       "{'7361102804611497984': 100}"
      ]
     },
     "execution_count": 62,
     "metadata": {},
     "output_type": "execute_result"
    }
   ],
   "source": [
    "endpoint.traffic_split"
   ]
  },
  {
   "cell_type": "code",
   "execution_count": 63,
   "id": "14cbf4a3-9e32-4158-a9ee-0cfca92e8574",
   "metadata": {},
   "outputs": [
    {
     "data": {
      "text/plain": [
       "[id: \"7361102804611497984\"\n",
       " model: \"projects/1026793852137/locations/us-central1/models/model_05c_fraud\"\n",
       " display_name: \"05c_fraud\"\n",
       " create_time {\n",
       "   seconds: 1661532514\n",
       "   nanos: 298407000\n",
       " }\n",
       " dedicated_resources {\n",
       "   machine_spec {\n",
       "     machine_type: \"n1-standard-4\"\n",
       "   }\n",
       "   min_replica_count: 1\n",
       "   max_replica_count: 1\n",
       " }\n",
       " model_version_id: \"1\"]"
      ]
     },
     "execution_count": 63,
     "metadata": {},
     "output_type": "execute_result"
    }
   ],
   "source": [
    "endpoint.list_models()"
   ]
  },
  {
   "cell_type": "markdown",
   "id": "d37fb337-132a-44c3-b903-f8dfb9e1c53d",
   "metadata": {},
   "source": [
    "---\n",
    "## Prediction\n",
    "\n",
    "See many more details on requesting predictions in the `05tools_1 Predictions` notebook."
   ]
  },
  {
   "cell_type": "markdown",
   "id": "51ea06a2-9f6a-412e-9830-f8aa066ece44",
   "metadata": {},
   "source": [
    "### Prepare a record for prediction: instance and parameters lists"
   ]
  },
  {
   "cell_type": "code",
   "execution_count": 64,
   "id": "c2588145",
   "metadata": {},
   "outputs": [],
   "source": [
    "pred = bigquery.query(query = f\"SELECT * FROM {BQ_PROJECT}.{BQ_DATASET}.{BQ_TABLE} WHERE splits='TEST' LIMIT 10\").to_dataframe()"
   ]
  },
  {
   "cell_type": "code",
   "execution_count": 65,
   "id": "8dff5477",
   "metadata": {},
   "outputs": [
    {
     "data": {
      "text/html": [
       "<div>\n",
       "<style scoped>\n",
       "    .dataframe tbody tr th:only-of-type {\n",
       "        vertical-align: middle;\n",
       "    }\n",
       "\n",
       "    .dataframe tbody tr th {\n",
       "        vertical-align: top;\n",
       "    }\n",
       "\n",
       "    .dataframe thead th {\n",
       "        text-align: right;\n",
       "    }\n",
       "</style>\n",
       "<table border=\"1\" class=\"dataframe\">\n",
       "  <thead>\n",
       "    <tr style=\"text-align: right;\">\n",
       "      <th></th>\n",
       "      <th>Time</th>\n",
       "      <th>V1</th>\n",
       "      <th>V2</th>\n",
       "      <th>V3</th>\n",
       "      <th>V4</th>\n",
       "      <th>V5</th>\n",
       "      <th>V6</th>\n",
       "      <th>V7</th>\n",
       "      <th>V8</th>\n",
       "      <th>V9</th>\n",
       "      <th>...</th>\n",
       "      <th>V23</th>\n",
       "      <th>V24</th>\n",
       "      <th>V25</th>\n",
       "      <th>V26</th>\n",
       "      <th>V27</th>\n",
       "      <th>V28</th>\n",
       "      <th>Amount</th>\n",
       "      <th>Class</th>\n",
       "      <th>transaction_id</th>\n",
       "      <th>splits</th>\n",
       "    </tr>\n",
       "  </thead>\n",
       "  <tbody>\n",
       "    <tr>\n",
       "      <th>0</th>\n",
       "      <td>35337</td>\n",
       "      <td>1.092844</td>\n",
       "      <td>-0.013230</td>\n",
       "      <td>1.359829</td>\n",
       "      <td>2.731537</td>\n",
       "      <td>-0.707357</td>\n",
       "      <td>0.873837</td>\n",
       "      <td>-0.796130</td>\n",
       "      <td>0.437707</td>\n",
       "      <td>0.396770</td>\n",
       "      <td>...</td>\n",
       "      <td>-0.167647</td>\n",
       "      <td>0.027557</td>\n",
       "      <td>0.592115</td>\n",
       "      <td>0.219695</td>\n",
       "      <td>0.036970</td>\n",
       "      <td>0.010984</td>\n",
       "      <td>0.0</td>\n",
       "      <td>0</td>\n",
       "      <td>a1b10547-d270-48c0-b902-7a0f735dadc7</td>\n",
       "      <td>TEST</td>\n",
       "    </tr>\n",
       "    <tr>\n",
       "      <th>1</th>\n",
       "      <td>60481</td>\n",
       "      <td>1.238973</td>\n",
       "      <td>0.035226</td>\n",
       "      <td>0.063003</td>\n",
       "      <td>0.641406</td>\n",
       "      <td>-0.260893</td>\n",
       "      <td>-0.580097</td>\n",
       "      <td>0.049938</td>\n",
       "      <td>-0.034733</td>\n",
       "      <td>0.405932</td>\n",
       "      <td>...</td>\n",
       "      <td>-0.057718</td>\n",
       "      <td>0.104983</td>\n",
       "      <td>0.537987</td>\n",
       "      <td>0.589563</td>\n",
       "      <td>-0.046207</td>\n",
       "      <td>-0.006212</td>\n",
       "      <td>0.0</td>\n",
       "      <td>0</td>\n",
       "      <td>814c62c8-ade4-47d5-bf83-313b0aafdee5</td>\n",
       "      <td>TEST</td>\n",
       "    </tr>\n",
       "    <tr>\n",
       "      <th>2</th>\n",
       "      <td>139587</td>\n",
       "      <td>1.870539</td>\n",
       "      <td>0.211079</td>\n",
       "      <td>0.224457</td>\n",
       "      <td>3.889486</td>\n",
       "      <td>-0.380177</td>\n",
       "      <td>0.249799</td>\n",
       "      <td>-0.577133</td>\n",
       "      <td>0.179189</td>\n",
       "      <td>-0.120462</td>\n",
       "      <td>...</td>\n",
       "      <td>0.180776</td>\n",
       "      <td>-0.060226</td>\n",
       "      <td>-0.228979</td>\n",
       "      <td>0.080827</td>\n",
       "      <td>0.009868</td>\n",
       "      <td>-0.036997</td>\n",
       "      <td>0.0</td>\n",
       "      <td>0</td>\n",
       "      <td>d08a1bfa-85c5-4f1b-9537-1c5a93e6afd0</td>\n",
       "      <td>TEST</td>\n",
       "    </tr>\n",
       "    <tr>\n",
       "      <th>3</th>\n",
       "      <td>162908</td>\n",
       "      <td>-3.368339</td>\n",
       "      <td>-1.980442</td>\n",
       "      <td>0.153645</td>\n",
       "      <td>-0.159795</td>\n",
       "      <td>3.847169</td>\n",
       "      <td>-3.516873</td>\n",
       "      <td>-1.209398</td>\n",
       "      <td>-0.292122</td>\n",
       "      <td>0.760543</td>\n",
       "      <td>...</td>\n",
       "      <td>-1.171627</td>\n",
       "      <td>0.214333</td>\n",
       "      <td>-0.159652</td>\n",
       "      <td>-0.060883</td>\n",
       "      <td>1.294977</td>\n",
       "      <td>0.120503</td>\n",
       "      <td>0.0</td>\n",
       "      <td>0</td>\n",
       "      <td>802f3307-8e5a-4475-b795-5d5d8d7d0120</td>\n",
       "      <td>TEST</td>\n",
       "    </tr>\n",
       "  </tbody>\n",
       "</table>\n",
       "<p>4 rows × 33 columns</p>\n",
       "</div>"
      ],
      "text/plain": [
       "     Time        V1        V2        V3        V4        V5        V6  \\\n",
       "0   35337  1.092844 -0.013230  1.359829  2.731537 -0.707357  0.873837   \n",
       "1   60481  1.238973  0.035226  0.063003  0.641406 -0.260893 -0.580097   \n",
       "2  139587  1.870539  0.211079  0.224457  3.889486 -0.380177  0.249799   \n",
       "3  162908 -3.368339 -1.980442  0.153645 -0.159795  3.847169 -3.516873   \n",
       "\n",
       "         V7        V8        V9  ...       V23       V24       V25       V26  \\\n",
       "0 -0.796130  0.437707  0.396770  ... -0.167647  0.027557  0.592115  0.219695   \n",
       "1  0.049938 -0.034733  0.405932  ... -0.057718  0.104983  0.537987  0.589563   \n",
       "2 -0.577133  0.179189 -0.120462  ...  0.180776 -0.060226 -0.228979  0.080827   \n",
       "3 -1.209398 -0.292122  0.760543  ... -1.171627  0.214333 -0.159652 -0.060883   \n",
       "\n",
       "        V27       V28  Amount  Class                        transaction_id  \\\n",
       "0  0.036970  0.010984     0.0      0  a1b10547-d270-48c0-b902-7a0f735dadc7   \n",
       "1 -0.046207 -0.006212     0.0      0  814c62c8-ade4-47d5-bf83-313b0aafdee5   \n",
       "2  0.009868 -0.036997     0.0      0  d08a1bfa-85c5-4f1b-9537-1c5a93e6afd0   \n",
       "3  1.294977  0.120503     0.0      0  802f3307-8e5a-4475-b795-5d5d8d7d0120   \n",
       "\n",
       "   splits  \n",
       "0    TEST  \n",
       "1    TEST  \n",
       "2    TEST  \n",
       "3    TEST  \n",
       "\n",
       "[4 rows x 33 columns]"
      ]
     },
     "execution_count": 65,
     "metadata": {},
     "output_type": "execute_result"
    }
   ],
   "source": [
    "pred.head(4)"
   ]
  },
  {
   "cell_type": "code",
   "execution_count": 66,
   "id": "13bacbf6",
   "metadata": {},
   "outputs": [],
   "source": [
    "newob = pred[pred.columns[~pred.columns.isin(VAR_OMIT.split()+[VAR_TARGET, 'splits'])]].to_dict(orient='records')[0]\n",
    "#newob"
   ]
  },
  {
   "cell_type": "code",
   "execution_count": 67,
   "id": "9d8b6579",
   "metadata": {
    "tags": []
   },
   "outputs": [],
   "source": [
    "instances = [json_format.ParseDict(newob, Value())]"
   ]
  },
  {
   "cell_type": "markdown",
   "id": "23f64743",
   "metadata": {},
   "source": [
    "### Get Predictions: Python Client"
   ]
  },
  {
   "cell_type": "code",
   "execution_count": 68,
   "id": "e452b19e",
   "metadata": {},
   "outputs": [
    {
     "data": {
      "text/plain": [
       "Prediction(predictions=[[0.999786437, 0.00021360183]], deployed_model_id='7361102804611497984', model_version_id='1', model_resource_name='projects/1026793852137/locations/us-central1/models/model_05c_fraud', explanations=None)"
      ]
     },
     "execution_count": 68,
     "metadata": {},
     "output_type": "execute_result"
    }
   ],
   "source": [
    "prediction = endpoint.predict(instances=instances)\n",
    "prediction"
   ]
  },
  {
   "cell_type": "code",
   "execution_count": 69,
   "id": "5d09b930",
   "metadata": {},
   "outputs": [
    {
     "data": {
      "text/plain": [
       "[0.999786437, 0.00021360183]"
      ]
     },
     "execution_count": 69,
     "metadata": {},
     "output_type": "execute_result"
    }
   ],
   "source": [
    "prediction.predictions[0]"
   ]
  },
  {
   "cell_type": "code",
   "execution_count": 70,
   "id": "2c37c624",
   "metadata": {},
   "outputs": [
    {
     "data": {
      "text/plain": [
       "0"
      ]
     },
     "execution_count": 70,
     "metadata": {},
     "output_type": "execute_result"
    }
   ],
   "source": [
    "np.argmax(prediction.predictions[0])"
   ]
  },
  {
   "cell_type": "markdown",
   "id": "36fae0cb",
   "metadata": {},
   "source": [
    "### Get Predictions: REST"
   ]
  },
  {
   "cell_type": "code",
   "execution_count": 71,
   "id": "51cd7050",
   "metadata": {},
   "outputs": [],
   "source": [
    "with open(f'{DIR}/request.json','w') as file:\n",
    "    file.write(json.dumps({\"instances\": [newob]}))"
   ]
  },
  {
   "cell_type": "code",
   "execution_count": 72,
   "id": "23e96c29",
   "metadata": {},
   "outputs": [
    {
     "name": "stdout",
     "output_type": "stream",
     "text": [
      "{\n",
      "  \"predictions\": [\n",
      "    [\n",
      "      0.999786437,\n",
      "      0.00021360183\n",
      "    ]\n",
      "  ],\n",
      "  \"deployedModelId\": \"7361102804611497984\",\n",
      "  \"model\": \"projects/1026793852137/locations/us-central1/models/model_05c_fraud\",\n",
      "  \"modelDisplayName\": \"05c_fraud\",\n",
      "  \"modelVersionId\": \"1\"\n",
      "}\n"
     ]
    }
   ],
   "source": [
    "!curl -X POST \\\n",
    "-H \"Authorization: Bearer \"$(gcloud auth application-default print-access-token) \\\n",
    "-H \"Content-Type: application/json; charset=utf-8\" \\\n",
    "-d @{DIR}/request.json \\\n",
    "https://{REGION}-aiplatform.googleapis.com/v1/{endpoint.resource_name}:predict"
   ]
  },
  {
   "cell_type": "markdown",
   "id": "8a39753f",
   "metadata": {},
   "source": [
    "### Get Predictions: gcloud (CLI)"
   ]
  },
  {
   "cell_type": "code",
   "execution_count": 73,
   "id": "e51644a4",
   "metadata": {},
   "outputs": [
    {
     "name": "stdout",
     "output_type": "stream",
     "text": [
      "Using endpoint [https://us-central1-prediction-aiplatform.googleapis.com/]\n",
      "[[0.999786437, 0.00021360183]]\n"
     ]
    }
   ],
   "source": [
    "!gcloud beta ai endpoints predict {endpoint.name.rsplit('/',1)[-1]} --region={REGION} --json-request={DIR}/request.json"
   ]
  },
  {
   "cell_type": "markdown",
   "id": "139b43c5",
   "metadata": {},
   "source": [
    "---\n",
    "## Remove Resources\n",
    "see notebook \"99 - Cleanup\""
   ]
  }
 ],
 "metadata": {
  "environment": {
   "kernel": "python3",
   "name": "tf2-gpu.2-3.m94",
   "type": "gcloud",
   "uri": "gcr.io/deeplearning-platform-release/tf2-gpu.2-3:m94"
  },
  "kernelspec": {
   "display_name": "Python 3",
   "language": "python",
   "name": "python3"
  },
  "language_info": {
   "codemirror_mode": {
    "name": "ipython",
    "version": 3
   },
   "file_extension": ".py",
   "mimetype": "text/x-python",
   "name": "python",
   "nbconvert_exporter": "python",
   "pygments_lexer": "ipython3",
   "version": "3.7.12"
  },
  "toc-autonumbering": false
 },
 "nbformat": 4,
 "nbformat_minor": 5
}
