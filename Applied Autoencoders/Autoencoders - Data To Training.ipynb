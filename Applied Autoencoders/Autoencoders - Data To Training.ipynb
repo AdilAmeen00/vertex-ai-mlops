{
 "cells": [
  {
   "cell_type": "markdown",
   "id": "233cde43-fcfa-4607-8195-27fe03ca7e9f",
   "metadata": {
    "tags": []
   },
   "source": [
    "![ga4](https://www.google-analytics.com/collect?v=2&tid=G-6VDTYWLKX6&cid=1&en=page_view&sid=1&dl=statmike%2Fvertex-ai-mlops%2FApplied+Autoencoders&dt=Autoencoders+-+Data+To+Training.ipynb)\n",
    "\n",
    "# Autoencoders - Data To Training\n",
    "\n",
    "How to retrieve data for training, and using, an autoencoder.\n",
    "\n",
    "This workflow covers getting data to the location of training, in this case, many methods of getting BigQuery data into a Pandas DataFrame.  Then the dataframe is used as inputs for batches to TensorFlow with named inputs (columns).  Additionally, the TensorFlow I/O reader for BigQuery is used to directly read batches from BigQuery without the need to first load an entire dataframe.\n",
    "\n",
    "---\n",
    "Part of the [series **Applied Autoencoders Series**](https://github.com/statmike/vertex-ai-mlops/blob/main/Applied%20Autoencoders/readme.md)\n",
    "\n",
    "A series of workflows focused on training and using autoencoders.  The series starts from the foundation of reading data efficiently and incrementally introduces concepts.\n",
    "\n",
    "---\n",
    "\n",
    "**Prerequisites**\n",
    "\n",
    "[01 - BigQuery - Table Data Source](../../01%20-%20Data%20Sources/01%20-%20BigQuery%20-%20Table%20Data%20Source.ipynb)"
   ]
  },
  {
   "cell_type": "markdown",
   "id": "2d9ef3a1-7c54-4736-bf8f-b7b832524c9c",
   "metadata": {},
   "source": [
    "---\n",
    "## Colab Setup\n",
    "\n",
    "To run this notebook in Colab click [![Open In Colab](https://colab.research.google.com/assets/colab-badge.svg)](https://colab.research.google.com/github/statmike/vertex-ai-mlops/blob/main/Applied%20Autoencoders/Autoencoders%20-%20Data%20To%20Training.ipynb) and run the cells in this section.  Otherwise, skip this section.\n",
    "\n",
    "This cell will authenticate to GCP (follow prompts in the popup)."
   ]
  },
  {
   "cell_type": "code",
   "execution_count": 2,
   "id": "799bb844-0ea3-4907-a1ae-d5dcc39e641d",
   "metadata": {
    "tags": []
   },
   "outputs": [],
   "source": [
    "PROJECT_ID = 'statmike-mlops-349915' # replace with project ID"
   ]
  },
  {
   "cell_type": "code",
   "execution_count": 3,
   "id": "ce63b674-5529-4bd5-be35-6c26f9527cbc",
   "metadata": {
    "tags": []
   },
   "outputs": [],
   "source": [
    "try:\n",
    "    import google.colab\n",
    "    from google.colab import auth\n",
    "    auth.authenticate_user()\n",
    "    !gcloud config set project {PROJECT_ID}\n",
    "except Exception:\n",
    "    pass"
   ]
  },
  {
   "cell_type": "markdown",
   "id": "7b6dcb9c-0f10-4a47-b106-301961c90249",
   "metadata": {},
   "source": [
    "---\n",
    "## Installs\n",
    "\n",
    "The list `packages` contains tuples of package import names and install names.  If the import name is not found then the install name is used to install quitely for the current user."
   ]
  },
  {
   "cell_type": "code",
   "execution_count": 4,
   "id": "8dd6bf96-953a-4cbe-a745-100bba26304f",
   "metadata": {
    "tags": []
   },
   "outputs": [],
   "source": [
    "# tuples of (import name, install name)\n",
    "packages = [\n",
    "    ('google.cloud.bigquery', 'google-cloud-bigquery'),\n",
    "    ('google.cloud.bigquery_storage', 'google-cloud-bigquery-storage'),\n",
    "    ('bigframes', 'bigframes'),\n",
    "    ('pandas_gbq', 'pandas-gbq'),\n",
    "    ('tensorflow', 'tensorflow', '2.10'),\n",
    "    ('tensorflow_io', '--no-deps tensorflow-io'),\n",
    "    ('graphviz', 'graphviz'),\n",
    "    ('pydot', 'pydot')\n",
    "]\n",
    "\n",
    "import importlib\n",
    "install = False\n",
    "for package in packages:\n",
    "    if not importlib.util.find_spec(package[0]):\n",
    "        print(f'installing package {package[1]}')\n",
    "        install = True\n",
    "        !pip install {package[1]} -U -q --user\n",
    "    elif len(package) == 3:\n",
    "        if importlib.metadata.version(package[0]) < package[2]:\n",
    "            print(f'updating package {package[1]}')\n",
    "            install = True\n",
    "            !pip install {package[1]} -U -q --user"
   ]
  },
  {
   "cell_type": "code",
   "execution_count": 5,
   "id": "dab88582-d5f4-4677-a307-650478d72d53",
   "metadata": {
    "tags": []
   },
   "outputs": [],
   "source": [
    "#!sudo apt-get -qq install graphviz"
   ]
  },
  {
   "cell_type": "markdown",
   "id": "58bb2fc8-34c7-4868-ba63-345e6950085d",
   "metadata": {},
   "source": [
    "### Restart Kernel (If Installs Occured)\n",
    "\n",
    "After a kernel restart the code submission can start with the next cell after this one."
   ]
  },
  {
   "cell_type": "code",
   "execution_count": 6,
   "id": "ac5564b3-ae19-49b2-b08b-91e8ede3bfcd",
   "metadata": {
    "tags": []
   },
   "outputs": [],
   "source": [
    "if install:\n",
    "    import IPython\n",
    "    app = IPython.Application.instance()\n",
    "    app.kernel.do_shutdown(True)"
   ]
  },
  {
   "cell_type": "markdown",
   "id": "915d8e0d-0de2-4c4b-8d52-4ae27db57da1",
   "metadata": {},
   "source": [
    "---\n",
    "## Setup"
   ]
  },
  {
   "cell_type": "markdown",
   "id": "bbb7c734-78a2-4ffb-bd72-db40ccaf37c3",
   "metadata": {},
   "source": [
    "inputs:"
   ]
  },
  {
   "cell_type": "code",
   "execution_count": 7,
   "id": "b1e21014-458d-4e04-995a-c1feafab1ad8",
   "metadata": {
    "tags": []
   },
   "outputs": [
    {
     "data": {
      "text/plain": [
       "'statmike-mlops-349915'"
      ]
     },
     "execution_count": 7,
     "metadata": {},
     "output_type": "execute_result"
    }
   ],
   "source": [
    "project = !gcloud config get-value project\n",
    "PROJECT_ID = project[0]\n",
    "PROJECT_ID"
   ]
  },
  {
   "cell_type": "code",
   "execution_count": 8,
   "id": "47b38e06-3f24-413d-9bf7-29549178061f",
   "metadata": {
    "tags": []
   },
   "outputs": [],
   "source": [
    "REGION = 'us-central1'\n",
    "EXPERIMENT = 'data'\n",
    "SERIES = 'applied-autoencoders'\n",
    "\n",
    "# source data\n",
    "BQ_PROJECT = PROJECT_ID\n",
    "BQ_DATASET = 'fraud'\n",
    "BQ_TABLE = 'fraud_prepped'\n",
    "\n",
    "# specify a GCS Bucket\n",
    "GCS_BUCKET = PROJECT_ID\n",
    "\n",
    "# Model Training\n",
    "VAR_TARGET = 'Class'\n",
    "VAR_OMIT = 'transaction_id,splits' # add more variables to the string with comma delimiters"
   ]
  },
  {
   "cell_type": "markdown",
   "id": "91df847f-29fd-4143-9a7d-3a4cef923bff",
   "metadata": {},
   "source": [
    "packages:"
   ]
  },
  {
   "cell_type": "code",
   "execution_count": 9,
   "id": "9adf564d-5e6b-4991-932e-3c2170899e38",
   "metadata": {
    "tags": []
   },
   "outputs": [],
   "source": [
    "import os\n",
    "os.environ['TF_CPP_MIN_LOG_LEVEL'] = '3'\n",
    "\n",
    "from google.cloud import bigquery\n",
    "from google.cloud import bigquery_storage\n",
    "import bigframes.pandas as bpd\n",
    "import pandas as pd\n",
    "import numpy as np\n",
    "import concurrent.futures\n",
    "\n",
    "from tensorflow.python.framework import dtypes\n",
    "from tensorflow_io.bigquery import BigQueryClient\n",
    "import tensorflow as tf\n",
    "\n",
    "#from datetime import datetime\n",
    "\n",
    "#from google.protobuf import json_format\n",
    "#from google.protobuf.struct_pb2 import Value\n",
    "#import json\n",
    "#import numpy as np\n"
   ]
  },
  {
   "cell_type": "markdown",
   "id": "94e4334e-a4ba-4d42-9b95-735a66d0eb06",
   "metadata": {},
   "source": [
    "clients:"
   ]
  },
  {
   "cell_type": "code",
   "execution_count": 10,
   "id": "1687bea4-c090-4884-a7b1-6a7b4ed561fc",
   "metadata": {
    "tags": []
   },
   "outputs": [],
   "source": [
    "bq = bigquery.Client(project = PROJECT_ID)\n",
    "bqstorage = bigquery_storage.BigQueryReadClient()\n",
    "bpd.options.bigquery.project = PROJECT_ID"
   ]
  },
  {
   "cell_type": "markdown",
   "id": "71d726f2-2c1f-4bb2-b288-db37bda88f7f",
   "metadata": {},
   "source": [
    "---\n",
    "## Review Data\n",
    "\n",
    "The data source here was prepared in [01 - BigQuery - Table Data Source](../01%20-%20Data%20Sources/01%20-%20BigQuery%20-%20Table%20Data%20Source.ipynb).  In this notebook we will use prepared BigQuery table as input for TensorFlow.\n",
    "\n",
    "This is a table of 284,807 credit card transactions classified as fradulant or normal in the column `Class`.  In order protect confidentiality, the original features have been transformed using [principle component analysis (PCA)](https://en.wikipedia.org/wiki/Principal_component_analysis) into 28 features named `V1, V2, ... V28` (float).  Two descriptive features are provided without transformation by PCA:\n",
    "- `Time` (integer) is the seconds elapsed between the transaction and the earliest transaction in the table\n",
    "- `Amount` (float) is the value of the transaction\n",
    "\n",
    "The data preparation included added splits for machine learning with a column named `splits` with 80% for training (`TRAIN`), 10% for validation (`VALIDATE`) and 10% for testing (`TEST`).  Additionally, a unique identifier was added to each transaction, `transaction_id`.  "
   ]
  },
  {
   "cell_type": "markdown",
   "id": "f2cbecf9-1bce-4636-9968-eaf3a2dbcca1",
   "metadata": {},
   "source": [
    "Review the number of records for each level of the data splits:"
   ]
  },
  {
   "cell_type": "code",
   "execution_count": 11,
   "id": "918d1728-f262-4238-9ee0-d6f0c6418023",
   "metadata": {
    "tags": []
   },
   "outputs": [
    {
     "name": "stdout",
     "output_type": "stream",
     "text": [
      "\n",
      "    SELECT splits, count(*) as n\n",
      "    FROM `statmike-mlops-349915.fraud.fraud_prepped`\n",
      "    GROUP BY splits\n",
      "\n"
     ]
    }
   ],
   "source": [
    "query = f\"\"\"\n",
    "    SELECT splits, count(*) as n\n",
    "    FROM `{BQ_PROJECT}.{BQ_DATASET}.{BQ_TABLE}`\n",
    "    GROUP BY splits\n",
    "\"\"\"\n",
    "print(query)"
   ]
  },
  {
   "cell_type": "code",
   "execution_count": 12,
   "id": "60533e86-7e88-4f9a-b8ea-9421ea6b20b6",
   "metadata": {
    "tags": []
   },
   "outputs": [
    {
     "data": {
      "text/html": [
       "<div>\n",
       "<style scoped>\n",
       "    .dataframe tbody tr th:only-of-type {\n",
       "        vertical-align: middle;\n",
       "    }\n",
       "\n",
       "    .dataframe tbody tr th {\n",
       "        vertical-align: top;\n",
       "    }\n",
       "\n",
       "    .dataframe thead th {\n",
       "        text-align: right;\n",
       "    }\n",
       "</style>\n",
       "<table border=\"1\" class=\"dataframe\">\n",
       "  <thead>\n",
       "    <tr style=\"text-align: right;\">\n",
       "      <th></th>\n",
       "      <th>splits</th>\n",
       "      <th>n</th>\n",
       "    </tr>\n",
       "  </thead>\n",
       "  <tbody>\n",
       "    <tr>\n",
       "      <th>0</th>\n",
       "      <td>TEST</td>\n",
       "      <td>28502</td>\n",
       "    </tr>\n",
       "    <tr>\n",
       "      <th>1</th>\n",
       "      <td>TRAIN</td>\n",
       "      <td>228061</td>\n",
       "    </tr>\n",
       "    <tr>\n",
       "      <th>2</th>\n",
       "      <td>VALIDATE</td>\n",
       "      <td>28244</td>\n",
       "    </tr>\n",
       "  </tbody>\n",
       "</table>\n",
       "</div>"
      ],
      "text/plain": [
       "     splits       n\n",
       "0      TEST   28502\n",
       "1     TRAIN  228061\n",
       "2  VALIDATE   28244"
      ]
     },
     "execution_count": 12,
     "metadata": {},
     "output_type": "execute_result"
    }
   ],
   "source": [
    "bq.query(query = query).to_dataframe()"
   ]
  },
  {
   "cell_type": "markdown",
   "id": "5404b3fd-5ae6-4cc4-ae43-1f0197f3943b",
   "metadata": {},
   "source": [
    "---\n",
    "## From BigQuery To Pandas DataFrame\n",
    "\n",
    "A dataframe is a great input for TensorFlow for smaller tabular data sources.  The Panda dataframe can read data from many locations.  This section will cover multiple ways of retrieving data stored in BigQuery into a dataframe.\n",
    "\n",
    "For larger sources see the later section that covers using the TensorFlow I/O reader for BigQuery."
   ]
  },
  {
   "cell_type": "markdown",
   "id": "852d1f2f-233e-4e99-ad58-42ab48a00746",
   "metadata": {},
   "source": [
    "### Common Query\n",
    "\n",
    "A common SQL query to use for retrieval from BigQuery clients that use SQL (not the storage client). This selects all the columns other than the ones listed to omit above in `VAR_OMIT` while also subsetting to just the `splits = 'TRAIN'` rows."
   ]
  },
  {
   "cell_type": "code",
   "execution_count": 13,
   "id": "815ff7dd-54bd-4a99-9861-53db9f76b042",
   "metadata": {
    "tags": []
   },
   "outputs": [
    {
     "name": "stdout",
     "output_type": "stream",
     "text": [
      "\n",
      "SELECT * EXCEPT(Class,transaction_id,splits)\n",
      "FROM `statmike-mlops-349915.fraud.fraud_prepped`\n",
      "WHERE splits = 'TRAIN'\n",
      "\n"
     ]
    }
   ],
   "source": [
    "query = f'''\n",
    "SELECT * EXCEPT({','.join([VAR_TARGET] + VAR_OMIT.replace(' ', '').split(','))})\n",
    "FROM `{BQ_PROJECT}.{BQ_DATASET}.{BQ_TABLE}`\n",
    "WHERE splits = 'TRAIN'\n",
    "'''\n",
    "print(query)"
   ]
  },
  {
   "cell_type": "markdown",
   "id": "4d26ef25-adc7-484d-ab9e-5eec11d526f0",
   "metadata": {},
   "source": [
    "### BigQuery Cell Magic\n",
    "\n",
    "When working in Jupyter notebooks, like here, using the IPython cell magic for BigQuery can be very helpful.\n",
    "- [Reference](https://cloud.google.com/python/docs/reference/bigquery/latest/magics)"
   ]
  },
  {
   "cell_type": "code",
   "execution_count": 14,
   "id": "f1260a43-15d4-4e85-953c-6d74fb5dfeb8",
   "metadata": {
    "tags": []
   },
   "outputs": [
    {
     "data": {
      "application/vnd.jupyter.widget-view+json": {
       "model_id": "b8d1127551d940a796d597c4f2b4efcc",
       "version_major": 2,
       "version_minor": 0
      },
      "text/plain": [
       "Query is running:   0%|          |"
      ]
     },
     "metadata": {},
     "output_type": "display_data"
    },
    {
     "data": {
      "application/vnd.jupyter.widget-view+json": {
       "model_id": "69a2cf22e99947659c50bf98477d95b1",
       "version_major": 2,
       "version_minor": 0
      },
      "text/plain": [
       "Downloading:   0%|          |"
      ]
     },
     "metadata": {},
     "output_type": "display_data"
    }
   ],
   "source": [
    "%%bigquery bq_data_magic\n",
    "SELECT * EXCEPT(Class,transaction_id,splits)\n",
    "FROM `statmike-mlops-349915.fraud.fraud_prepped`\n",
    "WHERE splits = 'TRAIN'"
   ]
  },
  {
   "cell_type": "code",
   "execution_count": 15,
   "id": "86cf423d-5013-428e-a9f3-83cbe82d0999",
   "metadata": {
    "tags": []
   },
   "outputs": [
    {
     "data": {
      "text/html": [
       "<div>\n",
       "<style scoped>\n",
       "    .dataframe tbody tr th:only-of-type {\n",
       "        vertical-align: middle;\n",
       "    }\n",
       "\n",
       "    .dataframe tbody tr th {\n",
       "        vertical-align: top;\n",
       "    }\n",
       "\n",
       "    .dataframe thead th {\n",
       "        text-align: right;\n",
       "    }\n",
       "</style>\n",
       "<table border=\"1\" class=\"dataframe\">\n",
       "  <thead>\n",
       "    <tr style=\"text-align: right;\">\n",
       "      <th></th>\n",
       "      <th>Time</th>\n",
       "      <th>V1</th>\n",
       "      <th>V2</th>\n",
       "      <th>V3</th>\n",
       "      <th>V4</th>\n",
       "      <th>V5</th>\n",
       "      <th>V6</th>\n",
       "      <th>V7</th>\n",
       "      <th>V8</th>\n",
       "      <th>V9</th>\n",
       "      <th>...</th>\n",
       "      <th>V20</th>\n",
       "      <th>V21</th>\n",
       "      <th>V22</th>\n",
       "      <th>V23</th>\n",
       "      <th>V24</th>\n",
       "      <th>V25</th>\n",
       "      <th>V26</th>\n",
       "      <th>V27</th>\n",
       "      <th>V28</th>\n",
       "      <th>Amount</th>\n",
       "    </tr>\n",
       "  </thead>\n",
       "  <tbody>\n",
       "    <tr>\n",
       "      <th>0</th>\n",
       "      <td>2812</td>\n",
       "      <td>-0.633403</td>\n",
       "      <td>0.963616</td>\n",
       "      <td>2.494946</td>\n",
       "      <td>2.099051</td>\n",
       "      <td>-0.404331</td>\n",
       "      <td>0.235862</td>\n",
       "      <td>-0.007932</td>\n",
       "      <td>0.211442</td>\n",
       "      <td>-0.209817</td>\n",
       "      <td>...</td>\n",
       "      <td>-0.174985</td>\n",
       "      <td>0.014676</td>\n",
       "      <td>0.016278</td>\n",
       "      <td>-0.061462</td>\n",
       "      <td>0.355196</td>\n",
       "      <td>-0.179086</td>\n",
       "      <td>-0.106947</td>\n",
       "      <td>-0.215039</td>\n",
       "      <td>0.050698</td>\n",
       "      <td>0.0</td>\n",
       "    </tr>\n",
       "    <tr>\n",
       "      <th>1</th>\n",
       "      <td>3150</td>\n",
       "      <td>1.313281</td>\n",
       "      <td>-0.257923</td>\n",
       "      <td>0.118463</td>\n",
       "      <td>-0.735557</td>\n",
       "      <td>-0.569308</td>\n",
       "      <td>-0.733577</td>\n",
       "      <td>-0.138659</td>\n",
       "      <td>-0.141641</td>\n",
       "      <td>1.708019</td>\n",
       "      <td>...</td>\n",
       "      <td>-0.145144</td>\n",
       "      <td>-0.082467</td>\n",
       "      <td>0.126066</td>\n",
       "      <td>-0.223157</td>\n",
       "      <td>-0.074977</td>\n",
       "      <td>0.921940</td>\n",
       "      <td>-0.528283</td>\n",
       "      <td>0.064476</td>\n",
       "      <td>0.013132</td>\n",
       "      <td>0.0</td>\n",
       "    </tr>\n",
       "    <tr>\n",
       "      <th>2</th>\n",
       "      <td>16676</td>\n",
       "      <td>1.158480</td>\n",
       "      <td>0.168947</td>\n",
       "      <td>0.536345</td>\n",
       "      <td>1.187908</td>\n",
       "      <td>-0.265547</td>\n",
       "      <td>-0.076325</td>\n",
       "      <td>-0.355844</td>\n",
       "      <td>0.144615</td>\n",
       "      <td>1.462346</td>\n",
       "      <td>...</td>\n",
       "      <td>-0.355289</td>\n",
       "      <td>0.016492</td>\n",
       "      <td>0.263518</td>\n",
       "      <td>-0.076711</td>\n",
       "      <td>-0.079402</td>\n",
       "      <td>0.502827</td>\n",
       "      <td>-0.270819</td>\n",
       "      <td>-0.004966</td>\n",
       "      <td>-0.003372</td>\n",
       "      <td>0.0</td>\n",
       "    </tr>\n",
       "    <tr>\n",
       "      <th>3</th>\n",
       "      <td>17701</td>\n",
       "      <td>-1.279231</td>\n",
       "      <td>-0.153303</td>\n",
       "      <td>3.296310</td>\n",
       "      <td>3.320441</td>\n",
       "      <td>1.139018</td>\n",
       "      <td>0.542343</td>\n",
       "      <td>-0.729928</td>\n",
       "      <td>-0.051774</td>\n",
       "      <td>0.922712</td>\n",
       "      <td>...</td>\n",
       "      <td>0.028639</td>\n",
       "      <td>-0.409746</td>\n",
       "      <td>-0.342575</td>\n",
       "      <td>-0.493297</td>\n",
       "      <td>-0.017046</td>\n",
       "      <td>-0.107404</td>\n",
       "      <td>0.101164</td>\n",
       "      <td>-0.197940</td>\n",
       "      <td>-0.435654</td>\n",
       "      <td>0.0</td>\n",
       "    </tr>\n",
       "    <tr>\n",
       "      <th>4</th>\n",
       "      <td>28131</td>\n",
       "      <td>1.069507</td>\n",
       "      <td>-0.000362</td>\n",
       "      <td>1.448936</td>\n",
       "      <td>2.874498</td>\n",
       "      <td>-0.736266</td>\n",
       "      <td>0.831932</td>\n",
       "      <td>-0.762267</td>\n",
       "      <td>0.406772</td>\n",
       "      <td>0.626473</td>\n",
       "      <td>...</td>\n",
       "      <td>-0.292305</td>\n",
       "      <td>0.035393</td>\n",
       "      <td>0.444433</td>\n",
       "      <td>-0.085413</td>\n",
       "      <td>0.099090</td>\n",
       "      <td>0.506438</td>\n",
       "      <td>0.246418</td>\n",
       "      <td>0.057864</td>\n",
       "      <td>0.021133</td>\n",
       "      <td>0.0</td>\n",
       "    </tr>\n",
       "  </tbody>\n",
       "</table>\n",
       "<p>5 rows × 30 columns</p>\n",
       "</div>"
      ],
      "text/plain": [
       "    Time        V1        V2        V3        V4        V5        V6  \\\n",
       "0   2812 -0.633403  0.963616  2.494946  2.099051 -0.404331  0.235862   \n",
       "1   3150  1.313281 -0.257923  0.118463 -0.735557 -0.569308 -0.733577   \n",
       "2  16676  1.158480  0.168947  0.536345  1.187908 -0.265547 -0.076325   \n",
       "3  17701 -1.279231 -0.153303  3.296310  3.320441  1.139018  0.542343   \n",
       "4  28131  1.069507 -0.000362  1.448936  2.874498 -0.736266  0.831932   \n",
       "\n",
       "         V7        V8        V9  ...       V20       V21       V22       V23  \\\n",
       "0 -0.007932  0.211442 -0.209817  ... -0.174985  0.014676  0.016278 -0.061462   \n",
       "1 -0.138659 -0.141641  1.708019  ... -0.145144 -0.082467  0.126066 -0.223157   \n",
       "2 -0.355844  0.144615  1.462346  ... -0.355289  0.016492  0.263518 -0.076711   \n",
       "3 -0.729928 -0.051774  0.922712  ...  0.028639 -0.409746 -0.342575 -0.493297   \n",
       "4 -0.762267  0.406772  0.626473  ... -0.292305  0.035393  0.444433 -0.085413   \n",
       "\n",
       "        V24       V25       V26       V27       V28  Amount  \n",
       "0  0.355196 -0.179086 -0.106947 -0.215039  0.050698     0.0  \n",
       "1 -0.074977  0.921940 -0.528283  0.064476  0.013132     0.0  \n",
       "2 -0.079402  0.502827 -0.270819 -0.004966 -0.003372     0.0  \n",
       "3 -0.017046 -0.107404  0.101164 -0.197940 -0.435654     0.0  \n",
       "4  0.099090  0.506438  0.246418  0.057864  0.021133     0.0  \n",
       "\n",
       "[5 rows x 30 columns]"
      ]
     },
     "execution_count": 15,
     "metadata": {},
     "output_type": "execute_result"
    }
   ],
   "source": [
    "bq_data_magic.head()"
   ]
  },
  {
   "cell_type": "code",
   "execution_count": 16,
   "id": "38e9d435-aad5-4728-ba49-922274056625",
   "metadata": {
    "tags": []
   },
   "outputs": [
    {
     "data": {
      "text/plain": [
       "pandas.core.frame.DataFrame"
      ]
     },
     "execution_count": 16,
     "metadata": {},
     "output_type": "execute_result"
    }
   ],
   "source": [
    "type(bq_data_magic)"
   ]
  },
  {
   "cell_type": "code",
   "execution_count": 17,
   "id": "1d4f5189-ceb5-412a-957a-136734408b70",
   "metadata": {
    "tags": []
   },
   "outputs": [
    {
     "data": {
      "text/plain": [
       "(228061, 30)"
      ]
     },
     "execution_count": 17,
     "metadata": {},
     "output_type": "execute_result"
    }
   ],
   "source": [
    "bq_data_magic.shape"
   ]
  },
  {
   "cell_type": "markdown",
   "id": "eb8c7cc8-7b1b-4349-87a9-5310ba256ea4",
   "metadata": {},
   "source": [
    "### BigQuery Python Client\n",
    "\n",
    "The Python Client for BigQuery makes executing queries in BigQuery from SQL as simple as passing the SQL query as a string.  This also means the query can be constructed locally in Python as it was above in the 'Common Query' section.  The results of queries can be directly retrieved to a local dataframe using the `to_dataframe()` method.\n",
    "- [Reference](https://cloud.google.com/python/docs/reference/bigquery/latest)"
   ]
  },
  {
   "cell_type": "code",
   "execution_count": 18,
   "id": "7a91942d-8966-4d6d-875f-b13deb0cee13",
   "metadata": {
    "tags": []
   },
   "outputs": [
    {
     "data": {
      "text/html": [
       "<div>\n",
       "<style scoped>\n",
       "    .dataframe tbody tr th:only-of-type {\n",
       "        vertical-align: middle;\n",
       "    }\n",
       "\n",
       "    .dataframe tbody tr th {\n",
       "        vertical-align: top;\n",
       "    }\n",
       "\n",
       "    .dataframe thead th {\n",
       "        text-align: right;\n",
       "    }\n",
       "</style>\n",
       "<table border=\"1\" class=\"dataframe\">\n",
       "  <thead>\n",
       "    <tr style=\"text-align: right;\">\n",
       "      <th></th>\n",
       "      <th>Time</th>\n",
       "      <th>V1</th>\n",
       "      <th>V2</th>\n",
       "      <th>V3</th>\n",
       "      <th>V4</th>\n",
       "      <th>V5</th>\n",
       "      <th>V6</th>\n",
       "      <th>V7</th>\n",
       "      <th>V8</th>\n",
       "      <th>V9</th>\n",
       "      <th>...</th>\n",
       "      <th>V20</th>\n",
       "      <th>V21</th>\n",
       "      <th>V22</th>\n",
       "      <th>V23</th>\n",
       "      <th>V24</th>\n",
       "      <th>V25</th>\n",
       "      <th>V26</th>\n",
       "      <th>V27</th>\n",
       "      <th>V28</th>\n",
       "      <th>Amount</th>\n",
       "    </tr>\n",
       "  </thead>\n",
       "  <tbody>\n",
       "    <tr>\n",
       "      <th>0</th>\n",
       "      <td>2812</td>\n",
       "      <td>-0.633403</td>\n",
       "      <td>0.963616</td>\n",
       "      <td>2.494946</td>\n",
       "      <td>2.099051</td>\n",
       "      <td>-0.404331</td>\n",
       "      <td>0.235862</td>\n",
       "      <td>-0.007932</td>\n",
       "      <td>0.211442</td>\n",
       "      <td>-0.209817</td>\n",
       "      <td>...</td>\n",
       "      <td>-0.174985</td>\n",
       "      <td>0.014676</td>\n",
       "      <td>0.016278</td>\n",
       "      <td>-0.061462</td>\n",
       "      <td>0.355196</td>\n",
       "      <td>-0.179086</td>\n",
       "      <td>-0.106947</td>\n",
       "      <td>-0.215039</td>\n",
       "      <td>0.050698</td>\n",
       "      <td>0.0</td>\n",
       "    </tr>\n",
       "    <tr>\n",
       "      <th>1</th>\n",
       "      <td>3150</td>\n",
       "      <td>1.313281</td>\n",
       "      <td>-0.257923</td>\n",
       "      <td>0.118463</td>\n",
       "      <td>-0.735557</td>\n",
       "      <td>-0.569308</td>\n",
       "      <td>-0.733577</td>\n",
       "      <td>-0.138659</td>\n",
       "      <td>-0.141641</td>\n",
       "      <td>1.708019</td>\n",
       "      <td>...</td>\n",
       "      <td>-0.145144</td>\n",
       "      <td>-0.082467</td>\n",
       "      <td>0.126066</td>\n",
       "      <td>-0.223157</td>\n",
       "      <td>-0.074977</td>\n",
       "      <td>0.921940</td>\n",
       "      <td>-0.528283</td>\n",
       "      <td>0.064476</td>\n",
       "      <td>0.013132</td>\n",
       "      <td>0.0</td>\n",
       "    </tr>\n",
       "    <tr>\n",
       "      <th>2</th>\n",
       "      <td>16676</td>\n",
       "      <td>1.158480</td>\n",
       "      <td>0.168947</td>\n",
       "      <td>0.536345</td>\n",
       "      <td>1.187908</td>\n",
       "      <td>-0.265547</td>\n",
       "      <td>-0.076325</td>\n",
       "      <td>-0.355844</td>\n",
       "      <td>0.144615</td>\n",
       "      <td>1.462346</td>\n",
       "      <td>...</td>\n",
       "      <td>-0.355289</td>\n",
       "      <td>0.016492</td>\n",
       "      <td>0.263518</td>\n",
       "      <td>-0.076711</td>\n",
       "      <td>-0.079402</td>\n",
       "      <td>0.502827</td>\n",
       "      <td>-0.270819</td>\n",
       "      <td>-0.004966</td>\n",
       "      <td>-0.003372</td>\n",
       "      <td>0.0</td>\n",
       "    </tr>\n",
       "    <tr>\n",
       "      <th>3</th>\n",
       "      <td>17701</td>\n",
       "      <td>-1.279231</td>\n",
       "      <td>-0.153303</td>\n",
       "      <td>3.296310</td>\n",
       "      <td>3.320441</td>\n",
       "      <td>1.139018</td>\n",
       "      <td>0.542343</td>\n",
       "      <td>-0.729928</td>\n",
       "      <td>-0.051774</td>\n",
       "      <td>0.922712</td>\n",
       "      <td>...</td>\n",
       "      <td>0.028639</td>\n",
       "      <td>-0.409746</td>\n",
       "      <td>-0.342575</td>\n",
       "      <td>-0.493297</td>\n",
       "      <td>-0.017046</td>\n",
       "      <td>-0.107404</td>\n",
       "      <td>0.101164</td>\n",
       "      <td>-0.197940</td>\n",
       "      <td>-0.435654</td>\n",
       "      <td>0.0</td>\n",
       "    </tr>\n",
       "    <tr>\n",
       "      <th>4</th>\n",
       "      <td>28131</td>\n",
       "      <td>1.069507</td>\n",
       "      <td>-0.000362</td>\n",
       "      <td>1.448936</td>\n",
       "      <td>2.874498</td>\n",
       "      <td>-0.736266</td>\n",
       "      <td>0.831932</td>\n",
       "      <td>-0.762267</td>\n",
       "      <td>0.406772</td>\n",
       "      <td>0.626473</td>\n",
       "      <td>...</td>\n",
       "      <td>-0.292305</td>\n",
       "      <td>0.035393</td>\n",
       "      <td>0.444433</td>\n",
       "      <td>-0.085413</td>\n",
       "      <td>0.099090</td>\n",
       "      <td>0.506438</td>\n",
       "      <td>0.246418</td>\n",
       "      <td>0.057864</td>\n",
       "      <td>0.021133</td>\n",
       "      <td>0.0</td>\n",
       "    </tr>\n",
       "  </tbody>\n",
       "</table>\n",
       "<p>5 rows × 30 columns</p>\n",
       "</div>"
      ],
      "text/plain": [
       "    Time        V1        V2        V3        V4        V5        V6  \\\n",
       "0   2812 -0.633403  0.963616  2.494946  2.099051 -0.404331  0.235862   \n",
       "1   3150  1.313281 -0.257923  0.118463 -0.735557 -0.569308 -0.733577   \n",
       "2  16676  1.158480  0.168947  0.536345  1.187908 -0.265547 -0.076325   \n",
       "3  17701 -1.279231 -0.153303  3.296310  3.320441  1.139018  0.542343   \n",
       "4  28131  1.069507 -0.000362  1.448936  2.874498 -0.736266  0.831932   \n",
       "\n",
       "         V7        V8        V9  ...       V20       V21       V22       V23  \\\n",
       "0 -0.007932  0.211442 -0.209817  ... -0.174985  0.014676  0.016278 -0.061462   \n",
       "1 -0.138659 -0.141641  1.708019  ... -0.145144 -0.082467  0.126066 -0.223157   \n",
       "2 -0.355844  0.144615  1.462346  ... -0.355289  0.016492  0.263518 -0.076711   \n",
       "3 -0.729928 -0.051774  0.922712  ...  0.028639 -0.409746 -0.342575 -0.493297   \n",
       "4 -0.762267  0.406772  0.626473  ... -0.292305  0.035393  0.444433 -0.085413   \n",
       "\n",
       "        V24       V25       V26       V27       V28  Amount  \n",
       "0  0.355196 -0.179086 -0.106947 -0.215039  0.050698     0.0  \n",
       "1 -0.074977  0.921940 -0.528283  0.064476  0.013132     0.0  \n",
       "2 -0.079402  0.502827 -0.270819 -0.004966 -0.003372     0.0  \n",
       "3 -0.017046 -0.107404  0.101164 -0.197940 -0.435654     0.0  \n",
       "4  0.099090  0.506438  0.246418  0.057864  0.021133     0.0  \n",
       "\n",
       "[5 rows x 30 columns]"
      ]
     },
     "execution_count": 18,
     "metadata": {},
     "output_type": "execute_result"
    }
   ],
   "source": [
    "bq_data_client = bq.query(query = query).to_dataframe()\n",
    "bq_data_client.head()"
   ]
  },
  {
   "cell_type": "code",
   "execution_count": 19,
   "id": "6ca58f5d-4ae7-4d49-aca2-3ba839614511",
   "metadata": {
    "tags": []
   },
   "outputs": [
    {
     "data": {
      "text/plain": [
       "pandas.core.frame.DataFrame"
      ]
     },
     "execution_count": 19,
     "metadata": {},
     "output_type": "execute_result"
    }
   ],
   "source": [
    "type(bq_data_client)"
   ]
  },
  {
   "cell_type": "code",
   "execution_count": 20,
   "id": "2e1e79ff-8a1b-475d-959e-05ccc8f7c4b7",
   "metadata": {
    "tags": []
   },
   "outputs": [
    {
     "data": {
      "text/plain": [
       "(228061, 30)"
      ]
     },
     "execution_count": 20,
     "metadata": {},
     "output_type": "execute_result"
    }
   ],
   "source": [
    "bq_data_client.shape"
   ]
  },
  {
   "cell_type": "markdown",
   "id": "e4978113-1687-4534-97a9-b43abe00fe85",
   "metadata": {},
   "source": [
    "### BigQuery BigFrames Client\n",
    "\n",
    "The BigFrames Client for BigQuery is new (2023) and allows references remote BigQuery tables as dataframe like object in local Python.  The dataframe functions are executed in BigQuery and results stored in temporary tables.  At any point a temporary table can be stored as a permanent table with the `.to_gbq()` method or even pulled fully to the Python execution environment as a local dataframe with the `.to_pandas()` method as demonstrated below.\n",
    "- [Reference](https://cloud.google.com/python/docs/reference/bigframes/latest)"
   ]
  },
  {
   "cell_type": "code",
   "execution_count": 21,
   "id": "7facdcda-35ec-4d12-b34c-165d518993ab",
   "metadata": {
    "tags": []
   },
   "outputs": [
    {
     "data": {
      "text/html": [
       "Query job 453bca96-eca4-4012-9f1f-a5759706de72 is DONE. 70.4 MB processed. <a target=\"_blank\" href=\"https://console.cloud.google.com/bigquery?project=statmike-mlops-349915&j=bq:us-central1:453bca96-eca4-4012-9f1f-a5759706de72&page=queryresults\">Open Job</a>"
      ],
      "text/plain": [
       "<IPython.core.display.HTML object>"
      ]
     },
     "metadata": {},
     "output_type": "display_data"
    },
    {
     "data": {
      "text/html": [
       "Query job e894d9fb-1f6a-41bb-9c45-7b5f55f4544f is DONE. 54.7 MB processed. <a target=\"_blank\" href=\"https://console.cloud.google.com/bigquery?project=statmike-mlops-349915&j=bq:us-central1:e894d9fb-1f6a-41bb-9c45-7b5f55f4544f&page=queryresults\">Open Job</a>"
      ],
      "text/plain": [
       "<IPython.core.display.HTML object>"
      ]
     },
     "metadata": {},
     "output_type": "display_data"
    },
    {
     "data": {
      "text/html": [
       "Query job ee0d179e-99bc-45bc-8587-75718767c73e is DONE. 54.7 MB processed. <a target=\"_blank\" href=\"https://console.cloud.google.com/bigquery?project=statmike-mlops-349915&j=bq:us-central1:ee0d179e-99bc-45bc-8587-75718767c73e&page=queryresults\">Open Job</a>"
      ],
      "text/plain": [
       "<IPython.core.display.HTML object>"
      ]
     },
     "metadata": {},
     "output_type": "display_data"
    },
    {
     "data": {
      "text/html": [
       "<div>\n",
       "<style scoped>\n",
       "    .dataframe tbody tr th:only-of-type {\n",
       "        vertical-align: middle;\n",
       "    }\n",
       "\n",
       "    .dataframe tbody tr th {\n",
       "        vertical-align: top;\n",
       "    }\n",
       "\n",
       "    .dataframe thead th {\n",
       "        text-align: right;\n",
       "    }\n",
       "</style>\n",
       "<table border=\"1\" class=\"dataframe\">\n",
       "  <thead>\n",
       "    <tr style=\"text-align: right;\">\n",
       "      <th></th>\n",
       "      <th>Time</th>\n",
       "      <th>V1</th>\n",
       "      <th>V2</th>\n",
       "      <th>V3</th>\n",
       "      <th>V4</th>\n",
       "      <th>V5</th>\n",
       "      <th>V6</th>\n",
       "      <th>V7</th>\n",
       "      <th>V8</th>\n",
       "      <th>V9</th>\n",
       "      <th>...</th>\n",
       "      <th>V20</th>\n",
       "      <th>V21</th>\n",
       "      <th>V22</th>\n",
       "      <th>V23</th>\n",
       "      <th>V24</th>\n",
       "      <th>V25</th>\n",
       "      <th>V26</th>\n",
       "      <th>V27</th>\n",
       "      <th>V28</th>\n",
       "      <th>Amount</th>\n",
       "    </tr>\n",
       "  </thead>\n",
       "  <tbody>\n",
       "    <tr>\n",
       "      <th>0</th>\n",
       "      <td>117857</td>\n",
       "      <td>-0.34221</td>\n",
       "      <td>0.903781</td>\n",
       "      <td>0.556961</td>\n",
       "      <td>-0.195003</td>\n",
       "      <td>0.112991</td>\n",
       "      <td>-0.51582</td>\n",
       "      <td>0.811486</td>\n",
       "      <td>-0.554063</td>\n",
       "      <td>-1.763437</td>\n",
       "      <td>...</td>\n",
       "      <td>0.714474</td>\n",
       "      <td>-0.078788</td>\n",
       "      <td>0.108075</td>\n",
       "      <td>-0.290118</td>\n",
       "      <td>1.113121</td>\n",
       "      <td>0.447556</td>\n",
       "      <td>0.199248</td>\n",
       "      <td>-0.081135</td>\n",
       "      <td>-0.061349</td>\n",
       "      <td>40.0</td>\n",
       "    </tr>\n",
       "    <tr>\n",
       "      <th>1</th>\n",
       "      <td>56447</td>\n",
       "      <td>1.42638</td>\n",
       "      <td>-0.611825</td>\n",
       "      <td>0.16567</td>\n",
       "      <td>-0.898404</td>\n",
       "      <td>-0.671324</td>\n",
       "      <td>-0.14292</td>\n",
       "      <td>-0.756738</td>\n",
       "      <td>0.090045</td>\n",
       "      <td>-0.472077</td>\n",
       "      <td>...</td>\n",
       "      <td>-0.047684</td>\n",
       "      <td>-0.143361</td>\n",
       "      <td>-0.569391</td>\n",
       "      <td>0.082969</td>\n",
       "      <td>-0.838399</td>\n",
       "      <td>0.21394</td>\n",
       "      <td>-0.393502</td>\n",
       "      <td>0.015332</td>\n",
       "      <td>0.006712</td>\n",
       "      <td>6.18</td>\n",
       "    </tr>\n",
       "    <tr>\n",
       "      <th>2</th>\n",
       "      <td>26096</td>\n",
       "      <td>-4.254652</td>\n",
       "      <td>4.612257</td>\n",
       "      <td>-0.286959</td>\n",
       "      <td>-0.95134</td>\n",
       "      <td>0.979931</td>\n",
       "      <td>-0.953636</td>\n",
       "      <td>3.114519</td>\n",
       "      <td>-2.523468</td>\n",
       "      <td>5.570837</td>\n",
       "      <td>...</td>\n",
       "      <td>4.261157</td>\n",
       "      <td>-1.124268</td>\n",
       "      <td>0.597059</td>\n",
       "      <td>-0.133162</td>\n",
       "      <td>0.470766</td>\n",
       "      <td>0.230323</td>\n",
       "      <td>-0.678818</td>\n",
       "      <td>1.085622</td>\n",
       "      <td>-0.940805</td>\n",
       "      <td>1.79</td>\n",
       "    </tr>\n",
       "    <tr>\n",
       "      <th>3</th>\n",
       "      <td>125780</td>\n",
       "      <td>-0.345134</td>\n",
       "      <td>1.036943</td>\n",
       "      <td>-0.230124</td>\n",
       "      <td>-0.755815</td>\n",
       "      <td>0.374212</td>\n",
       "      <td>-0.506093</td>\n",
       "      <td>0.613336</td>\n",
       "      <td>0.387138</td>\n",
       "      <td>-0.522661</td>\n",
       "      <td>...</td>\n",
       "      <td>-0.064826</td>\n",
       "      <td>-0.17186</td>\n",
       "      <td>-0.48293</td>\n",
       "      <td>0.102741</td>\n",
       "      <td>-0.463138</td>\n",
       "      <td>-0.434558</td>\n",
       "      <td>0.151072</td>\n",
       "      <td>0.118073</td>\n",
       "      <td>0.021872</td>\n",
       "      <td>19.98</td>\n",
       "    </tr>\n",
       "    <tr>\n",
       "      <th>4</th>\n",
       "      <td>56861</td>\n",
       "      <td>-3.021637</td>\n",
       "      <td>-3.317537</td>\n",
       "      <td>1.372621</td>\n",
       "      <td>-2.25474</td>\n",
       "      <td>0.75967</td>\n",
       "      <td>0.605632</td>\n",
       "      <td>-2.111818</td>\n",
       "      <td>1.355714</td>\n",
       "      <td>-2.332184</td>\n",
       "      <td>...</td>\n",
       "      <td>0.281491</td>\n",
       "      <td>0.446124</td>\n",
       "      <td>0.429207</td>\n",
       "      <td>0.072856</td>\n",
       "      <td>-1.389918</td>\n",
       "      <td>0.079758</td>\n",
       "      <td>-0.127151</td>\n",
       "      <td>-0.002403</td>\n",
       "      <td>-0.410168</td>\n",
       "      <td>118.0</td>\n",
       "    </tr>\n",
       "  </tbody>\n",
       "</table>\n",
       "<p>5 rows × 30 columns</p>\n",
       "</div>[5 rows x 30 columns in total]"
      ],
      "text/plain": [
       "     Time        V1        V2        V3        V4        V5        V6  \\\n",
       "0  117857  -0.34221  0.903781  0.556961 -0.195003  0.112991  -0.51582   \n",
       "1   56447   1.42638 -0.611825   0.16567 -0.898404 -0.671324  -0.14292   \n",
       "2   26096 -4.254652  4.612257 -0.286959  -0.95134  0.979931 -0.953636   \n",
       "3  125780 -0.345134  1.036943 -0.230124 -0.755815  0.374212 -0.506093   \n",
       "4   56861 -3.021637 -3.317537  1.372621  -2.25474   0.75967  0.605632   \n",
       "\n",
       "         V7        V8        V9  ...       V20       V21       V22       V23  \\\n",
       "0  0.811486 -0.554063 -1.763437  ...  0.714474 -0.078788  0.108075 -0.290118   \n",
       "1 -0.756738  0.090045 -0.472077  ... -0.047684 -0.143361 -0.569391  0.082969   \n",
       "2  3.114519 -2.523468  5.570837  ...  4.261157 -1.124268  0.597059 -0.133162   \n",
       "3  0.613336  0.387138 -0.522661  ... -0.064826  -0.17186  -0.48293  0.102741   \n",
       "4 -2.111818  1.355714 -2.332184  ...  0.281491  0.446124  0.429207  0.072856   \n",
       "\n",
       "        V24       V25       V26       V27       V28  Amount  \n",
       "0  1.113121  0.447556  0.199248 -0.081135 -0.061349    40.0  \n",
       "1 -0.838399   0.21394 -0.393502  0.015332  0.006712    6.18  \n",
       "2  0.470766  0.230323 -0.678818  1.085622 -0.940805    1.79  \n",
       "3 -0.463138 -0.434558  0.151072  0.118073  0.021872   19.98  \n",
       "4 -1.389918  0.079758 -0.127151 -0.002403 -0.410168   118.0  \n",
       "\n",
       "[5 rows x 30 columns]"
      ]
     },
     "execution_count": 21,
     "metadata": {},
     "output_type": "execute_result"
    }
   ],
   "source": [
    "bq_data_bigframes = bpd.read_gbq(query)\n",
    "bq_data_bigframes.head()"
   ]
  },
  {
   "cell_type": "code",
   "execution_count": 22,
   "id": "49f34ee8-21b8-4983-9f8d-f7cd6bbcceaa",
   "metadata": {
    "tags": []
   },
   "outputs": [
    {
     "data": {
      "text/plain": [
       "bigframes.dataframe.DataFrame"
      ]
     },
     "execution_count": 22,
     "metadata": {},
     "output_type": "execute_result"
    }
   ],
   "source": [
    "type(bq_data_bigframes)"
   ]
  },
  {
   "cell_type": "code",
   "execution_count": 23,
   "id": "8ca4e952-ae52-4c09-a662-a1157cf05765",
   "metadata": {
    "tags": []
   },
   "outputs": [
    {
     "data": {
      "text/html": [
       "Query job e8149aa2-ec62-4666-9c78-99839f56d2e2 is DONE. 0 Bytes processed. <a target=\"_blank\" href=\"https://console.cloud.google.com/bigquery?project=statmike-mlops-349915&j=bq:us-central1:e8149aa2-ec62-4666-9c78-99839f56d2e2&page=queryresults\">Open Job</a>"
      ],
      "text/plain": [
       "<IPython.core.display.HTML object>"
      ]
     },
     "metadata": {},
     "output_type": "display_data"
    },
    {
     "data": {
      "text/plain": [
       "(228061, 30)"
      ]
     },
     "execution_count": 23,
     "metadata": {},
     "output_type": "execute_result"
    }
   ],
   "source": [
    "bq_data_bigframes.shape"
   ]
  },
  {
   "cell_type": "code",
   "execution_count": 24,
   "id": "3f9ab244-b607-42f2-a641-1955f57c60a2",
   "metadata": {
    "tags": []
   },
   "outputs": [
    {
     "data": {
      "text/html": [
       "Query job 992cc5d6-c8c4-44fe-9096-f419c9ba5fae is DONE. 54.7 MB processed. <a target=\"_blank\" href=\"https://console.cloud.google.com/bigquery?project=statmike-mlops-349915&j=bq:us-central1:992cc5d6-c8c4-44fe-9096-f419c9ba5fae&page=queryresults\">Open Job</a>"
      ],
      "text/plain": [
       "<IPython.core.display.HTML object>"
      ]
     },
     "metadata": {},
     "output_type": "display_data"
    },
    {
     "data": {
      "text/plain": [
       "pandas.core.frame.DataFrame"
      ]
     },
     "execution_count": 24,
     "metadata": {},
     "output_type": "execute_result"
    }
   ],
   "source": [
    "bq_data_bigframes = bq_data_bigframes.to_pandas()\n",
    "type(bq_data_bigframes)"
   ]
  },
  {
   "cell_type": "code",
   "execution_count": 25,
   "id": "f05a55f4-1297-469e-af85-0d6fbd1c5d38",
   "metadata": {
    "tags": []
   },
   "outputs": [
    {
     "data": {
      "text/plain": [
       "(228061, 30)"
      ]
     },
     "execution_count": 25,
     "metadata": {},
     "output_type": "execute_result"
    }
   ],
   "source": [
    "bq_data_bigframes.shape"
   ]
  },
  {
   "cell_type": "markdown",
   "id": "2a4209e2-3030-4b6c-8687-faa6f04cb2d0",
   "metadata": {},
   "source": [
    "### BigQuery Storage Client\n",
    "\n",
    "BigQuery storage is very efficient for retrieval with the BigQuery Storage Client.  All BigQuery permanent tables are stored in columar format with efficient blocks that also represent any clustering and partitioning used.  Retrieval from storage does not use the compute side of BigQuery and can be read directly from storage in multiple asynchronous streams.  Retrieval can also be shaped by selecting a subset of fields and setting row restrictions to filter which rows are returned.  \n",
    "- [Reference](https://cloud.google.com/python/docs/reference/bigquerystorage/latest)"
   ]
  },
  {
   "cell_type": "code",
   "execution_count": 26,
   "id": "28b2d98a-cdec-4ec3-9cab-fc66b63ce829",
   "metadata": {
    "tags": []
   },
   "outputs": [],
   "source": [
    "read_session = bqstorage.create_read_session(\n",
    "    request = dict(\n",
    "        parent = f'projects/{PROJECT_ID}',\n",
    "        read_session = dict(\n",
    "            table = f\"projects/{BQ_PROJECT}/datasets/{BQ_DATASET}/tables/{BQ_TABLE}\",\n",
    "            data_format = bigquery_storage.types.DataFormat.ARROW,\n",
    "            read_options = dict(\n",
    "                row_restriction = \"splits = 'TRAIN'\",\n",
    "                selected_fields = bq_data_bigframes.columns.tolist()\n",
    "            )\n",
    "        ),\n",
    "        max_stream_count = 0\n",
    "    )\n",
    ")"
   ]
  },
  {
   "cell_type": "code",
   "execution_count": 27,
   "id": "c90bd26b-cec2-4c5b-80c8-60496b7f9a5b",
   "metadata": {
    "tags": []
   },
   "outputs": [
    {
     "data": {
      "text/plain": [
       "1"
      ]
     },
     "execution_count": 27,
     "metadata": {},
     "output_type": "execute_result"
    }
   ],
   "source": [
    "len(read_session.streams)"
   ]
  },
  {
   "cell_type": "code",
   "execution_count": 28,
   "id": "ebd1033e-e7e1-4798-a895-00e664367388",
   "metadata": {
    "tags": []
   },
   "outputs": [],
   "source": [
    "def read_stream(stream):\n",
    "    # setup a reader\n",
    "    reader = bqstorage.read_rows(name = stream.name)\n",
    "    # read rows from reader into a dataframe.  Note this is actually multiple operations - read and convert\n",
    "    return reader.to_dataframe()\n",
    "\n",
    "\n",
    "bq_data_storage = []\n",
    "with concurrent.futures.ThreadPoolExecutor(max_workers = len(read_session.streams)) as executor:\n",
    "    futures = {\n",
    "        executor.submit(read_stream, stream): stream for stream in read_session.streams\n",
    "    }\n",
    "    for future in concurrent.futures.as_completed(futures):\n",
    "        stream = futures[future]\n",
    "        bq_data_storage.append(future.result())"
   ]
  },
  {
   "cell_type": "code",
   "execution_count": 29,
   "id": "0f0b572d-cc6f-4b50-bb20-8d924611fe0d",
   "metadata": {
    "tags": []
   },
   "outputs": [
    {
     "data": {
      "text/plain": [
       "1"
      ]
     },
     "execution_count": 29,
     "metadata": {},
     "output_type": "execute_result"
    }
   ],
   "source": [
    "len(bq_data_storage)"
   ]
  },
  {
   "cell_type": "code",
   "execution_count": 30,
   "id": "6c466822-cd9b-4f3a-980b-4f1ab0f4ee3f",
   "metadata": {
    "tags": []
   },
   "outputs": [
    {
     "data": {
      "text/plain": [
       "(228061, 30)"
      ]
     },
     "execution_count": 30,
     "metadata": {},
     "output_type": "execute_result"
    }
   ],
   "source": [
    "bq_data_storage[0].shape"
   ]
  },
  {
   "cell_type": "code",
   "execution_count": 31,
   "id": "f43461bc-bb2e-4e38-97aa-618eb58adf35",
   "metadata": {
    "tags": []
   },
   "outputs": [
    {
     "data": {
      "text/plain": [
       "(228061, 30)"
      ]
     },
     "execution_count": 31,
     "metadata": {},
     "output_type": "execute_result"
    }
   ],
   "source": [
    "bq_data_storage = pd.concat(bq_data_storage)\n",
    "bq_data_storage.shape"
   ]
  },
  {
   "cell_type": "code",
   "execution_count": 32,
   "id": "1659f506-2c83-4fad-9bd3-af7b30010619",
   "metadata": {
    "tags": []
   },
   "outputs": [
    {
     "data": {
      "text/plain": [
       "pandas.core.frame.DataFrame"
      ]
     },
     "execution_count": 32,
     "metadata": {},
     "output_type": "execute_result"
    }
   ],
   "source": [
    "type(bq_data_storage)"
   ]
  },
  {
   "cell_type": "code",
   "execution_count": 33,
   "id": "64e11d42-3f9d-4ea8-910d-30eedc1ea9ec",
   "metadata": {
    "tags": []
   },
   "outputs": [
    {
     "data": {
      "text/html": [
       "<div>\n",
       "<style scoped>\n",
       "    .dataframe tbody tr th:only-of-type {\n",
       "        vertical-align: middle;\n",
       "    }\n",
       "\n",
       "    .dataframe tbody tr th {\n",
       "        vertical-align: top;\n",
       "    }\n",
       "\n",
       "    .dataframe thead th {\n",
       "        text-align: right;\n",
       "    }\n",
       "</style>\n",
       "<table border=\"1\" class=\"dataframe\">\n",
       "  <thead>\n",
       "    <tr style=\"text-align: right;\">\n",
       "      <th></th>\n",
       "      <th>Time</th>\n",
       "      <th>V1</th>\n",
       "      <th>V2</th>\n",
       "      <th>V3</th>\n",
       "      <th>V4</th>\n",
       "      <th>V5</th>\n",
       "      <th>V6</th>\n",
       "      <th>V7</th>\n",
       "      <th>V8</th>\n",
       "      <th>V9</th>\n",
       "      <th>...</th>\n",
       "      <th>V20</th>\n",
       "      <th>V21</th>\n",
       "      <th>V22</th>\n",
       "      <th>V23</th>\n",
       "      <th>V24</th>\n",
       "      <th>V25</th>\n",
       "      <th>V26</th>\n",
       "      <th>V27</th>\n",
       "      <th>V28</th>\n",
       "      <th>Amount</th>\n",
       "    </tr>\n",
       "  </thead>\n",
       "  <tbody>\n",
       "    <tr>\n",
       "      <th>0</th>\n",
       "      <td>2812</td>\n",
       "      <td>-0.633403</td>\n",
       "      <td>0.963616</td>\n",
       "      <td>2.494946</td>\n",
       "      <td>2.099051</td>\n",
       "      <td>-0.404331</td>\n",
       "      <td>0.235862</td>\n",
       "      <td>-0.007932</td>\n",
       "      <td>0.211442</td>\n",
       "      <td>-0.209817</td>\n",
       "      <td>...</td>\n",
       "      <td>-0.174985</td>\n",
       "      <td>0.014676</td>\n",
       "      <td>0.016278</td>\n",
       "      <td>-0.061462</td>\n",
       "      <td>0.355196</td>\n",
       "      <td>-0.179086</td>\n",
       "      <td>-0.106947</td>\n",
       "      <td>-0.215039</td>\n",
       "      <td>0.050698</td>\n",
       "      <td>0.0</td>\n",
       "    </tr>\n",
       "    <tr>\n",
       "      <th>1</th>\n",
       "      <td>3150</td>\n",
       "      <td>1.313281</td>\n",
       "      <td>-0.257923</td>\n",
       "      <td>0.118463</td>\n",
       "      <td>-0.735557</td>\n",
       "      <td>-0.569308</td>\n",
       "      <td>-0.733577</td>\n",
       "      <td>-0.138659</td>\n",
       "      <td>-0.141641</td>\n",
       "      <td>1.708019</td>\n",
       "      <td>...</td>\n",
       "      <td>-0.145144</td>\n",
       "      <td>-0.082467</td>\n",
       "      <td>0.126066</td>\n",
       "      <td>-0.223157</td>\n",
       "      <td>-0.074977</td>\n",
       "      <td>0.921940</td>\n",
       "      <td>-0.528283</td>\n",
       "      <td>0.064476</td>\n",
       "      <td>0.013132</td>\n",
       "      <td>0.0</td>\n",
       "    </tr>\n",
       "    <tr>\n",
       "      <th>2</th>\n",
       "      <td>16676</td>\n",
       "      <td>1.158480</td>\n",
       "      <td>0.168947</td>\n",
       "      <td>0.536345</td>\n",
       "      <td>1.187908</td>\n",
       "      <td>-0.265547</td>\n",
       "      <td>-0.076325</td>\n",
       "      <td>-0.355844</td>\n",
       "      <td>0.144615</td>\n",
       "      <td>1.462346</td>\n",
       "      <td>...</td>\n",
       "      <td>-0.355289</td>\n",
       "      <td>0.016492</td>\n",
       "      <td>0.263518</td>\n",
       "      <td>-0.076711</td>\n",
       "      <td>-0.079402</td>\n",
       "      <td>0.502827</td>\n",
       "      <td>-0.270819</td>\n",
       "      <td>-0.004966</td>\n",
       "      <td>-0.003372</td>\n",
       "      <td>0.0</td>\n",
       "    </tr>\n",
       "    <tr>\n",
       "      <th>3</th>\n",
       "      <td>17701</td>\n",
       "      <td>-1.279231</td>\n",
       "      <td>-0.153303</td>\n",
       "      <td>3.296310</td>\n",
       "      <td>3.320441</td>\n",
       "      <td>1.139018</td>\n",
       "      <td>0.542343</td>\n",
       "      <td>-0.729928</td>\n",
       "      <td>-0.051774</td>\n",
       "      <td>0.922712</td>\n",
       "      <td>...</td>\n",
       "      <td>0.028639</td>\n",
       "      <td>-0.409746</td>\n",
       "      <td>-0.342575</td>\n",
       "      <td>-0.493297</td>\n",
       "      <td>-0.017046</td>\n",
       "      <td>-0.107404</td>\n",
       "      <td>0.101164</td>\n",
       "      <td>-0.197940</td>\n",
       "      <td>-0.435654</td>\n",
       "      <td>0.0</td>\n",
       "    </tr>\n",
       "    <tr>\n",
       "      <th>4</th>\n",
       "      <td>28131</td>\n",
       "      <td>1.069507</td>\n",
       "      <td>-0.000362</td>\n",
       "      <td>1.448936</td>\n",
       "      <td>2.874498</td>\n",
       "      <td>-0.736266</td>\n",
       "      <td>0.831932</td>\n",
       "      <td>-0.762267</td>\n",
       "      <td>0.406772</td>\n",
       "      <td>0.626473</td>\n",
       "      <td>...</td>\n",
       "      <td>-0.292305</td>\n",
       "      <td>0.035393</td>\n",
       "      <td>0.444433</td>\n",
       "      <td>-0.085413</td>\n",
       "      <td>0.099090</td>\n",
       "      <td>0.506438</td>\n",
       "      <td>0.246418</td>\n",
       "      <td>0.057864</td>\n",
       "      <td>0.021133</td>\n",
       "      <td>0.0</td>\n",
       "    </tr>\n",
       "  </tbody>\n",
       "</table>\n",
       "<p>5 rows × 30 columns</p>\n",
       "</div>"
      ],
      "text/plain": [
       "    Time        V1        V2        V3        V4        V5        V6  \\\n",
       "0   2812 -0.633403  0.963616  2.494946  2.099051 -0.404331  0.235862   \n",
       "1   3150  1.313281 -0.257923  0.118463 -0.735557 -0.569308 -0.733577   \n",
       "2  16676  1.158480  0.168947  0.536345  1.187908 -0.265547 -0.076325   \n",
       "3  17701 -1.279231 -0.153303  3.296310  3.320441  1.139018  0.542343   \n",
       "4  28131  1.069507 -0.000362  1.448936  2.874498 -0.736266  0.831932   \n",
       "\n",
       "         V7        V8        V9  ...       V20       V21       V22       V23  \\\n",
       "0 -0.007932  0.211442 -0.209817  ... -0.174985  0.014676  0.016278 -0.061462   \n",
       "1 -0.138659 -0.141641  1.708019  ... -0.145144 -0.082467  0.126066 -0.223157   \n",
       "2 -0.355844  0.144615  1.462346  ... -0.355289  0.016492  0.263518 -0.076711   \n",
       "3 -0.729928 -0.051774  0.922712  ...  0.028639 -0.409746 -0.342575 -0.493297   \n",
       "4 -0.762267  0.406772  0.626473  ... -0.292305  0.035393  0.444433 -0.085413   \n",
       "\n",
       "        V24       V25       V26       V27       V28  Amount  \n",
       "0  0.355196 -0.179086 -0.106947 -0.215039  0.050698     0.0  \n",
       "1 -0.074977  0.921940 -0.528283  0.064476  0.013132     0.0  \n",
       "2 -0.079402  0.502827 -0.270819 -0.004966 -0.003372     0.0  \n",
       "3 -0.017046 -0.107404  0.101164 -0.197940 -0.435654     0.0  \n",
       "4  0.099090  0.506438  0.246418  0.057864  0.021133     0.0  \n",
       "\n",
       "[5 rows x 30 columns]"
      ]
     },
     "execution_count": 33,
     "metadata": {},
     "output_type": "execute_result"
    }
   ],
   "source": [
    "bq_data_storage.head()"
   ]
  },
  {
   "cell_type": "markdown",
   "id": "59109c58-de01-4578-b21c-8ae1fed8f4af",
   "metadata": {},
   "source": [
    "### Indirect BigQuery with `pandas-gbq`\n",
    "\n",
    "When working with [Pandas](https://pandas.pydata.org/docs/user_guide/index.html#user-guide) the methods above show the client returning data to pandas dataframes.  This section will show a pandas mudule, [pandas-gbq](https://pandas-gbq.readthedocs.io/en/latest/) that wraps the BigQuery client so that pandas can retrieve BigQuery data to dataframes.\n",
    "\n",
    "References:\n",
    "- [Comparison of BigQuery Client with pandas-gbq](https://cloud.google.com/bigquery/docs/pandas-gbq-migration)"
   ]
  },
  {
   "cell_type": "code",
   "execution_count": 34,
   "id": "8c4a2fdb-91e3-4a91-8700-fbc67290caa9",
   "metadata": {
    "tags": []
   },
   "outputs": [
    {
     "data": {
      "text/html": [
       "<div>\n",
       "<style scoped>\n",
       "    .dataframe tbody tr th:only-of-type {\n",
       "        vertical-align: middle;\n",
       "    }\n",
       "\n",
       "    .dataframe tbody tr th {\n",
       "        vertical-align: top;\n",
       "    }\n",
       "\n",
       "    .dataframe thead th {\n",
       "        text-align: right;\n",
       "    }\n",
       "</style>\n",
       "<table border=\"1\" class=\"dataframe\">\n",
       "  <thead>\n",
       "    <tr style=\"text-align: right;\">\n",
       "      <th></th>\n",
       "      <th>Time</th>\n",
       "      <th>V1</th>\n",
       "      <th>V2</th>\n",
       "      <th>V3</th>\n",
       "      <th>V4</th>\n",
       "      <th>V5</th>\n",
       "      <th>V6</th>\n",
       "      <th>V7</th>\n",
       "      <th>V8</th>\n",
       "      <th>V9</th>\n",
       "      <th>...</th>\n",
       "      <th>V20</th>\n",
       "      <th>V21</th>\n",
       "      <th>V22</th>\n",
       "      <th>V23</th>\n",
       "      <th>V24</th>\n",
       "      <th>V25</th>\n",
       "      <th>V26</th>\n",
       "      <th>V27</th>\n",
       "      <th>V28</th>\n",
       "      <th>Amount</th>\n",
       "    </tr>\n",
       "  </thead>\n",
       "  <tbody>\n",
       "    <tr>\n",
       "      <th>0</th>\n",
       "      <td>2812</td>\n",
       "      <td>-0.633403</td>\n",
       "      <td>0.963616</td>\n",
       "      <td>2.494946</td>\n",
       "      <td>2.099051</td>\n",
       "      <td>-0.404331</td>\n",
       "      <td>0.235862</td>\n",
       "      <td>-0.007932</td>\n",
       "      <td>0.211442</td>\n",
       "      <td>-0.209817</td>\n",
       "      <td>...</td>\n",
       "      <td>-0.174985</td>\n",
       "      <td>0.014676</td>\n",
       "      <td>0.016278</td>\n",
       "      <td>-0.061462</td>\n",
       "      <td>0.355196</td>\n",
       "      <td>-0.179086</td>\n",
       "      <td>-0.106947</td>\n",
       "      <td>-0.215039</td>\n",
       "      <td>0.050698</td>\n",
       "      <td>0.0</td>\n",
       "    </tr>\n",
       "    <tr>\n",
       "      <th>1</th>\n",
       "      <td>3150</td>\n",
       "      <td>1.313281</td>\n",
       "      <td>-0.257923</td>\n",
       "      <td>0.118463</td>\n",
       "      <td>-0.735557</td>\n",
       "      <td>-0.569308</td>\n",
       "      <td>-0.733577</td>\n",
       "      <td>-0.138659</td>\n",
       "      <td>-0.141641</td>\n",
       "      <td>1.708019</td>\n",
       "      <td>...</td>\n",
       "      <td>-0.145144</td>\n",
       "      <td>-0.082467</td>\n",
       "      <td>0.126066</td>\n",
       "      <td>-0.223157</td>\n",
       "      <td>-0.074977</td>\n",
       "      <td>0.921940</td>\n",
       "      <td>-0.528283</td>\n",
       "      <td>0.064476</td>\n",
       "      <td>0.013132</td>\n",
       "      <td>0.0</td>\n",
       "    </tr>\n",
       "    <tr>\n",
       "      <th>2</th>\n",
       "      <td>16676</td>\n",
       "      <td>1.158480</td>\n",
       "      <td>0.168947</td>\n",
       "      <td>0.536345</td>\n",
       "      <td>1.187908</td>\n",
       "      <td>-0.265547</td>\n",
       "      <td>-0.076325</td>\n",
       "      <td>-0.355844</td>\n",
       "      <td>0.144615</td>\n",
       "      <td>1.462346</td>\n",
       "      <td>...</td>\n",
       "      <td>-0.355289</td>\n",
       "      <td>0.016492</td>\n",
       "      <td>0.263518</td>\n",
       "      <td>-0.076711</td>\n",
       "      <td>-0.079402</td>\n",
       "      <td>0.502827</td>\n",
       "      <td>-0.270819</td>\n",
       "      <td>-0.004966</td>\n",
       "      <td>-0.003372</td>\n",
       "      <td>0.0</td>\n",
       "    </tr>\n",
       "    <tr>\n",
       "      <th>3</th>\n",
       "      <td>17701</td>\n",
       "      <td>-1.279231</td>\n",
       "      <td>-0.153303</td>\n",
       "      <td>3.296310</td>\n",
       "      <td>3.320441</td>\n",
       "      <td>1.139018</td>\n",
       "      <td>0.542343</td>\n",
       "      <td>-0.729928</td>\n",
       "      <td>-0.051774</td>\n",
       "      <td>0.922712</td>\n",
       "      <td>...</td>\n",
       "      <td>0.028639</td>\n",
       "      <td>-0.409746</td>\n",
       "      <td>-0.342575</td>\n",
       "      <td>-0.493297</td>\n",
       "      <td>-0.017046</td>\n",
       "      <td>-0.107404</td>\n",
       "      <td>0.101164</td>\n",
       "      <td>-0.197940</td>\n",
       "      <td>-0.435654</td>\n",
       "      <td>0.0</td>\n",
       "    </tr>\n",
       "    <tr>\n",
       "      <th>4</th>\n",
       "      <td>28131</td>\n",
       "      <td>1.069507</td>\n",
       "      <td>-0.000362</td>\n",
       "      <td>1.448936</td>\n",
       "      <td>2.874498</td>\n",
       "      <td>-0.736266</td>\n",
       "      <td>0.831932</td>\n",
       "      <td>-0.762267</td>\n",
       "      <td>0.406772</td>\n",
       "      <td>0.626473</td>\n",
       "      <td>...</td>\n",
       "      <td>-0.292305</td>\n",
       "      <td>0.035393</td>\n",
       "      <td>0.444433</td>\n",
       "      <td>-0.085413</td>\n",
       "      <td>0.099090</td>\n",
       "      <td>0.506438</td>\n",
       "      <td>0.246418</td>\n",
       "      <td>0.057864</td>\n",
       "      <td>0.021133</td>\n",
       "      <td>0.0</td>\n",
       "    </tr>\n",
       "  </tbody>\n",
       "</table>\n",
       "<p>5 rows × 30 columns</p>\n",
       "</div>"
      ],
      "text/plain": [
       "    Time        V1        V2        V3        V4        V5        V6  \\\n",
       "0   2812 -0.633403  0.963616  2.494946  2.099051 -0.404331  0.235862   \n",
       "1   3150  1.313281 -0.257923  0.118463 -0.735557 -0.569308 -0.733577   \n",
       "2  16676  1.158480  0.168947  0.536345  1.187908 -0.265547 -0.076325   \n",
       "3  17701 -1.279231 -0.153303  3.296310  3.320441  1.139018  0.542343   \n",
       "4  28131  1.069507 -0.000362  1.448936  2.874498 -0.736266  0.831932   \n",
       "\n",
       "         V7        V8        V9  ...       V20       V21       V22       V23  \\\n",
       "0 -0.007932  0.211442 -0.209817  ... -0.174985  0.014676  0.016278 -0.061462   \n",
       "1 -0.138659 -0.141641  1.708019  ... -0.145144 -0.082467  0.126066 -0.223157   \n",
       "2 -0.355844  0.144615  1.462346  ... -0.355289  0.016492  0.263518 -0.076711   \n",
       "3 -0.729928 -0.051774  0.922712  ...  0.028639 -0.409746 -0.342575 -0.493297   \n",
       "4 -0.762267  0.406772  0.626473  ... -0.292305  0.035393  0.444433 -0.085413   \n",
       "\n",
       "        V24       V25       V26       V27       V28  Amount  \n",
       "0  0.355196 -0.179086 -0.106947 -0.215039  0.050698     0.0  \n",
       "1 -0.074977  0.921940 -0.528283  0.064476  0.013132     0.0  \n",
       "2 -0.079402  0.502827 -0.270819 -0.004966 -0.003372     0.0  \n",
       "3 -0.017046 -0.107404  0.101164 -0.197940 -0.435654     0.0  \n",
       "4  0.099090  0.506438  0.246418  0.057864  0.021133     0.0  \n",
       "\n",
       "[5 rows x 30 columns]"
      ]
     },
     "execution_count": 34,
     "metadata": {},
     "output_type": "execute_result"
    }
   ],
   "source": [
    "bq_data_pandasgbq = pd.read_gbq(query, project_id = PROJECT_ID)\n",
    "bq_data_pandasgbq.head()"
   ]
  },
  {
   "cell_type": "code",
   "execution_count": 35,
   "id": "4863857f-3cf9-40da-83af-f7046edf3fac",
   "metadata": {
    "tags": []
   },
   "outputs": [
    {
     "data": {
      "text/plain": [
       "pandas.core.frame.DataFrame"
      ]
     },
     "execution_count": 35,
     "metadata": {},
     "output_type": "execute_result"
    }
   ],
   "source": [
    "type(bq_data_pandasgbq)"
   ]
  },
  {
   "cell_type": "code",
   "execution_count": 36,
   "id": "f74ce91f-2681-4461-a412-55a60f9fd386",
   "metadata": {
    "tags": []
   },
   "outputs": [
    {
     "data": {
      "text/plain": [
       "(228061, 30)"
      ]
     },
     "execution_count": 36,
     "metadata": {},
     "output_type": "execute_result"
    }
   ],
   "source": [
    "bq_data_pandasgbq.shape"
   ]
  },
  {
   "cell_type": "markdown",
   "id": "9fa569d4-1000-4225-9feb-421025877e45",
   "metadata": {},
   "source": [
    "## From Pandas Dataframe To TensorFlow\n",
    "\n",
    "The methods above read data to a Pandas dataframe that is local to this session.  This section shows how to make the dataframe ready for TensorFlow as a `tf.data` object.  More methods are [covered here](https://www.tensorflow.org/tutorials/load_data/pandas_dataframe) in the TensorFlow tutorials."
   ]
  },
  {
   "cell_type": "markdown",
   "id": "c86ed116-3d23-4b46-806e-8b1d537cbe26",
   "metadata": {},
   "source": [
    "Make a copy of one of the dataframes above:"
   ]
  },
  {
   "cell_type": "code",
   "execution_count": 37,
   "id": "3768dd0a-a649-4b09-b476-c41900a867b1",
   "metadata": {
    "tags": []
   },
   "outputs": [],
   "source": [
    "training_data = bq_data_storage.copy()"
   ]
  },
  {
   "cell_type": "markdown",
   "id": "ac07cc4c-736e-4817-b070-8a1b045a4fe8",
   "metadata": {},
   "source": [
    "Setup a `tf.data` object to read the dataframe.  In this case, cast the dataframe to a dictonary to preserve the column names in the inputs. Otherwise each row would be read as an array.\n",
    "\n",
    "References:\n",
    "    - [tf.data.Dataset.from_tensor_slices()](https://www.tensorflow.org/api_docs/python/tf/data/Dataset#from_tensor_slices)\n",
    "    - [Load a pandas DataFrame - A DataFrame as a dictionary](https://www.tensorflow.org/tutorials/load_data/pandas_dataframe#a_dataframe_as_a_dictionary)"
   ]
  },
  {
   "cell_type": "code",
   "execution_count": 38,
   "id": "bedb5078-e1ef-42ea-b643-b03bda42c7ca",
   "metadata": {
    "tags": []
   },
   "outputs": [],
   "source": [
    "training_reader = tf.data.Dataset.from_tensor_slices(dict(training_data))"
   ]
  },
  {
   "cell_type": "markdown",
   "id": "223974a2-4130-4aa5-85e3-30d19cb3b843",
   "metadata": {},
   "source": [
    "Setup and [iterator](https://docs.python.org/3/library/functions.html#iter) and review a return value from the [tf.data.Dataset](https://www.tensorflow.org/api_docs/python/tf/data/Dataset):"
   ]
  },
  {
   "cell_type": "code",
   "execution_count": 39,
   "id": "871a3932-cfe4-4017-ae81-bb403af8937b",
   "metadata": {
    "tags": []
   },
   "outputs": [
    {
     "data": {
      "text/plain": [
       "{'Time': 2812,\n",
       " 'V1': -0.6334029882736469,\n",
       " 'V2': 0.9636160386293929,\n",
       " 'V3': 2.4949456217577497,\n",
       " 'V4': 2.0990509863350297,\n",
       " 'V5': -0.4043306727875379,\n",
       " 'V6': 0.23586157953548997,\n",
       " 'V7': -0.00793190515031739,\n",
       " 'V8': 0.211441518482132,\n",
       " 'V9': -0.20981682042808,\n",
       " 'V10': 0.308297602896481,\n",
       " 'V11': -1.20499230853772,\n",
       " 'V12': -0.4747078092970429,\n",
       " 'V13': -0.654063561632139,\n",
       " 'V14': -0.474599113137004,\n",
       " 'V15': -0.428417793384727,\n",
       " 'V16': 0.5366514815446061,\n",
       " 'V17': -0.380654616844995,\n",
       " 'V18': 0.0286505393093891,\n",
       " 'V19': -0.687969434192997,\n",
       " 'V20': -0.174984760363205,\n",
       " 'V21': 0.0146755277991034,\n",
       " 'V22': 0.0162781765829899,\n",
       " 'V23': -0.061462472923487,\n",
       " 'V24': 0.35519634316361604,\n",
       " 'V25': -0.17908550429831896,\n",
       " 'V26': -0.10694742544378999,\n",
       " 'V27': -0.21503925668538898,\n",
       " 'V28': 0.0506977952270228,\n",
       " 'Amount': 0.0}"
      ]
     },
     "execution_count": 39,
     "metadata": {},
     "output_type": "execute_result"
    }
   ],
   "source": [
    "ds_iter = iter(training_reader)\n",
    "{key: value.numpy() for key, value in next(ds_iter).items()}"
   ]
  },
  {
   "cell_type": "markdown",
   "id": "5bab5cc0-eb0f-4400-a48e-42c41909e838",
   "metadata": {},
   "source": [
    "Build a function and compile it as a `tf.function` that creates a new input feature that is an array of all numeric features values. Also, cast columns to a common datatype as needed.\n",
    "\n",
    "References:\n",
    "- [tf.function](https://www.tensorflow.org/api_docs/python/tf/function)\n",
    "- [Introduction to graphs and tf.function](https://www.tensorflow.org/guide/intro_to_graphs)"
   ]
  },
  {
   "cell_type": "code",
   "execution_count": 40,
   "id": "f700a999-4a51-4602-83f4-30c03becc7a5",
   "metadata": {
    "tags": []
   },
   "outputs": [],
   "source": [
    "@tf.function\n",
    "def fn1(x):\n",
    "    y = {}\n",
    "    y.update(x)\n",
    "    feature_array = []\n",
    "    for col in training_data.columns:\n",
    "        if x[col].dtype != tf.float64:\n",
    "            feature_array.append(tf.cast(x[col], tf.float64))\n",
    "        else:\n",
    "            feature_array.append(x[col])\n",
    "    \n",
    "    y['feature_array'] = feature_array\n",
    "    return y"
   ]
  },
  {
   "cell_type": "markdown",
   "id": "557c10a0-2f90-4938-821d-9bb8f8061aa4",
   "metadata": {},
   "source": [
    "Use an iterator to return and review a value from the Dataset while [mapping](https://www.tensorflow.org/api_docs/python/tf/data/Dataset#map) this function to each call:"
   ]
  },
  {
   "cell_type": "code",
   "execution_count": 41,
   "id": "60fa8a90-a98d-49f3-adb3-80fe392c85cd",
   "metadata": {
    "tags": []
   },
   "outputs": [
    {
     "data": {
      "text/plain": [
       "{'Time': 2812,\n",
       " 'V1': -0.6334029882736469,\n",
       " 'V2': 0.9636160386293929,\n",
       " 'V3': 2.4949456217577497,\n",
       " 'V4': 2.0990509863350297,\n",
       " 'V5': -0.4043306727875379,\n",
       " 'V6': 0.23586157953548997,\n",
       " 'V7': -0.00793190515031739,\n",
       " 'V8': 0.211441518482132,\n",
       " 'V9': -0.20981682042808,\n",
       " 'V10': 0.308297602896481,\n",
       " 'V11': -1.20499230853772,\n",
       " 'V12': -0.4747078092970429,\n",
       " 'V13': -0.654063561632139,\n",
       " 'V14': -0.474599113137004,\n",
       " 'V15': -0.428417793384727,\n",
       " 'V16': 0.5366514815446061,\n",
       " 'V17': -0.380654616844995,\n",
       " 'V18': 0.0286505393093891,\n",
       " 'V19': -0.687969434192997,\n",
       " 'V20': -0.174984760363205,\n",
       " 'V21': 0.0146755277991034,\n",
       " 'V22': 0.0162781765829899,\n",
       " 'V23': -0.061462472923487,\n",
       " 'V24': 0.35519634316361604,\n",
       " 'V25': -0.17908550429831896,\n",
       " 'V26': -0.10694742544378999,\n",
       " 'V27': -0.21503925668538898,\n",
       " 'V28': 0.0506977952270228,\n",
       " 'Amount': 0.0,\n",
       " 'feature_array': array([ 2.81200000e+03, -6.33402988e-01,  9.63616039e-01,  2.49494562e+00,\n",
       "         2.09905099e+00, -4.04330673e-01,  2.35861580e-01, -7.93190515e-03,\n",
       "         2.11441518e-01, -2.09816820e-01,  3.08297603e-01, -1.20499231e+00,\n",
       "        -4.74707809e-01, -6.54063562e-01, -4.74599113e-01, -4.28417793e-01,\n",
       "         5.36651482e-01, -3.80654617e-01,  2.86505393e-02, -6.87969434e-01,\n",
       "        -1.74984760e-01,  1.46755278e-02,  1.62781766e-02, -6.14624729e-02,\n",
       "         3.55196343e-01, -1.79085504e-01, -1.06947425e-01, -2.15039257e-01,\n",
       "         5.06977952e-02,  0.00000000e+00])}"
      ]
     },
     "execution_count": 41,
     "metadata": {},
     "output_type": "execute_result"
    }
   ],
   "source": [
    "ds_iter = iter(training_reader.map(fn1))\n",
    "{key: value.numpy() for key, value in next(ds_iter).items()}"
   ]
  },
  {
   "cell_type": "markdown",
   "id": "1692d11d-169a-4ff7-99e4-3851063413e6",
   "metadata": {},
   "source": [
    "Now test the Dataset reader with option that will be used, like:\n",
    "- [batch()](https://www.tensorflow.org/api_docs/python/tf/data/Dataset#batch) to limit the number of rows per call\n",
    "- [map(lambda v: (v. v.pop('feature_array')))](https://www.tensorflow.org/api_docs/python/tf/data/Dataset#map) to turn the response into a tuple with the feature columns in the first element and the new 'feature_array' in the second element.\n",
    "\n",
    "Use [take(1)](https://www.tensorflow.org/api_docs/python/tf/data/Dataset#take) to limit the number of calls for batches to a single request."
   ]
  },
  {
   "cell_type": "code",
   "execution_count": 42,
   "id": "14f624be-7aa1-4a88-a26d-e791f88ceb84",
   "metadata": {
    "tags": []
   },
   "outputs": [
    {
     "name": "stdout",
     "output_type": "stream",
     "text": [
      "features:\n",
      " ['Time', 'V1', 'V2', 'V3', 'V4', 'V5', 'V6', 'V7', 'V8', 'V9', 'V10', 'V11', 'V12', 'V13', 'V14', 'V15', 'V16', 'V17', 'V18', 'V19', 'V20', 'V21', 'V22', 'V23', 'V24', 'V25', 'V26', 'V27', 'V28', 'Amount']\n",
      "('Time', <tf.Tensor: shape=(2,), dtype=int64, numpy=array([2812, 3150])>)\n",
      "('V1', <tf.Tensor: shape=(2,), dtype=float64, numpy=array([-0.63340299,  1.31328087])>)\n",
      "('V2', <tf.Tensor: shape=(2,), dtype=float64, numpy=array([ 0.96361604, -0.25792282])>)\n",
      "('V3', <tf.Tensor: shape=(2,), dtype=float64, numpy=array([2.49494562, 0.11846283])>)\n",
      "('V4', <tf.Tensor: shape=(2,), dtype=float64, numpy=array([ 2.09905099, -0.73555665])>)\n",
      "('V5', <tf.Tensor: shape=(2,), dtype=float64, numpy=array([-0.40433067, -0.56930772])>)\n",
      "('V6', <tf.Tensor: shape=(2,), dtype=float64, numpy=array([ 0.23586158, -0.73357721])>)\n",
      "('V7', <tf.Tensor: shape=(2,), dtype=float64, numpy=array([-0.00793191, -0.13865918])>)\n",
      "('V8', <tf.Tensor: shape=(2,), dtype=float64, numpy=array([ 0.21144152, -0.14164134])>)\n",
      "('V9', <tf.Tensor: shape=(2,), dtype=float64, numpy=array([-0.20981682,  1.70801916])>)\n",
      "('V10', <tf.Tensor: shape=(2,), dtype=float64, numpy=array([ 0.3082976 , -1.10329377])>)\n",
      "('V11', <tf.Tensor: shape=(2,), dtype=float64, numpy=array([-1.20499231, -1.08782009])>)\n",
      "('V12', <tf.Tensor: shape=(2,), dtype=float64, numpy=array([-0.47470781,  0.64467588])>)\n",
      "('V13', <tf.Tensor: shape=(2,), dtype=float64, numpy=array([-0.65406356, -0.21536864])>)\n",
      "('V14', <tf.Tensor: shape=(2,), dtype=float64, numpy=array([-0.47459911, -0.07471497])>)\n",
      "('V15', <tf.Tensor: shape=(2,), dtype=float64, numpy=array([-0.42841779,  0.28787333])>)\n",
      "('V16', <tf.Tensor: shape=(2,), dtype=float64, numpy=array([ 0.53665148, -1.00176397])>)\n",
      "('V17', <tf.Tensor: shape=(2,), dtype=float64, numpy=array([-0.38065462,  0.09376776])>)\n",
      "('V18', <tf.Tensor: shape=(2,), dtype=float64, numpy=array([ 0.02865054, -0.07254906])>)\n",
      "('V19', <tf.Tensor: shape=(2,), dtype=float64, numpy=array([-0.68796943,  1.1083853 ])>)\n",
      "('V20', <tf.Tensor: shape=(2,), dtype=float64, numpy=array([-0.17498476, -0.14514383])>)\n",
      "('V21', <tf.Tensor: shape=(2,), dtype=float64, numpy=array([ 0.01467553, -0.08246737])>)\n",
      "('V22', <tf.Tensor: shape=(2,), dtype=float64, numpy=array([0.01627818, 0.12606591])>)\n",
      "('V23', <tf.Tensor: shape=(2,), dtype=float64, numpy=array([-0.06146247, -0.22315725])>)\n",
      "('V24', <tf.Tensor: shape=(2,), dtype=float64, numpy=array([ 0.35519634, -0.07497714])>)\n",
      "('V25', <tf.Tensor: shape=(2,), dtype=float64, numpy=array([-0.1790855 ,  0.92193958])>)\n",
      "('V26', <tf.Tensor: shape=(2,), dtype=float64, numpy=array([-0.10694743, -0.52828348])>)\n",
      "('V27', <tf.Tensor: shape=(2,), dtype=float64, numpy=array([-0.21503926,  0.06447566])>)\n",
      "('V28', <tf.Tensor: shape=(2,), dtype=float64, numpy=array([0.0506978 , 0.01313189])>)\n",
      "('Amount', <tf.Tensor: shape=(2,), dtype=float64, numpy=array([0., 0.])>)\n",
      "feature array:\n",
      " tf.Tensor(\n",
      "[[ 2.81200000e+03 -6.33402988e-01  9.63616039e-01  2.49494562e+00\n",
      "   2.09905099e+00 -4.04330673e-01  2.35861580e-01 -7.93190515e-03\n",
      "   2.11441518e-01 -2.09816820e-01  3.08297603e-01 -1.20499231e+00\n",
      "  -4.74707809e-01 -6.54063562e-01 -4.74599113e-01 -4.28417793e-01\n",
      "   5.36651482e-01 -3.80654617e-01  2.86505393e-02 -6.87969434e-01\n",
      "  -1.74984760e-01  1.46755278e-02  1.62781766e-02 -6.14624729e-02\n",
      "   3.55196343e-01 -1.79085504e-01 -1.06947425e-01 -2.15039257e-01\n",
      "   5.06977952e-02  0.00000000e+00]\n",
      " [ 3.15000000e+03  1.31328087e+00 -2.57922822e-01  1.18462828e-01\n",
      "  -7.35556647e-01 -5.69307720e-01 -7.33577207e-01 -1.38659177e-01\n",
      "  -1.41641341e-01  1.70801916e+00 -1.10329377e+00 -1.08782009e+00\n",
      "   6.44675882e-01 -2.15368642e-01 -7.47149675e-02  2.87873335e-01\n",
      "  -1.00176397e+00  9.37677555e-02 -7.25490596e-02  1.10838530e+00\n",
      "  -1.45143829e-01 -8.24673673e-02  1.26065912e-01 -2.23157253e-01\n",
      "  -7.49771434e-02  9.21939582e-01 -5.28283485e-01  6.44756571e-02\n",
      "   1.31318875e-02  0.00000000e+00]], shape=(2, 30), dtype=float64)\n"
     ]
    }
   ],
   "source": [
    "for features, feature_array in training_reader.map(fn1).map(lambda v: (v, v.pop('feature_array'))).batch(2).take(1):\n",
    "    print('features:\\n',list(features.keys()))\n",
    "    for feature in features.items():\n",
    "        print(feature)\n",
    "    print('feature array:\\n', feature_array)"
   ]
  },
  {
   "cell_type": "markdown",
   "id": "f0dea5af-49a5-4f74-897f-9f6208cf52c5",
   "metadata": {},
   "source": [
    "### Training In TensorFlow"
   ]
  },
  {
   "cell_type": "markdown",
   "id": "45cc5b0a-fa56-4b08-9ea8-e911286432e9",
   "metadata": {},
   "source": [
    "Build a normalization layer with [Keras Preprocessing Layers](https://www.tensorflow.org/guide/keras/preprocessing_layers). In this case all columns are already numeric so applying [tf.keras.layers.Normalization](https://www.tensorflow.org/api_docs/python/tf/keras/layers/Normalization) to the 'feature_array' column using the option `axis = -1` will calculate the mean and variance for each element of the 'feature_array' across all records.  This calculation only need to be done onece and can be triggered with the built in [.adapt()](https://www.tensorflow.org/api_docs/python/tf/keras/layers/Normalization#adapt) method.  The `adapt()` method forces the calculation of the mean and variance across and input dataset.  In the case, we modify the `tf.data.Dataset` reader built above to only return the 'feature_array' column and then pass it to the adapt method.\n",
    "\n",
    "> Tip: apply a larger batch size to this reader to speed up performance.  The only calculations being made are the mean and variance and they are only computed once, prior to training."
   ]
  },
  {
   "cell_type": "code",
   "execution_count": 43,
   "id": "be8f11d0-fdbc-4d73-91d6-b1a2dd6efaf4",
   "metadata": {
    "tags": []
   },
   "outputs": [
    {
     "data": {
      "text/plain": [
       "(<tf.Tensor: shape=(1, 30), dtype=float32, numpy=\n",
       " array([[ 9.4811133e+04, -2.1519326e-04,  3.1602196e-04, -5.2488595e-04,\n",
       "          6.9466559e-04, -1.2641819e-03,  2.0892750e-03, -7.2106207e-04,\n",
       "         -1.0636140e-03,  1.4059977e-03, -7.1558170e-05, -6.4140302e-04,\n",
       "         -1.5961546e-03,  1.8235012e-03, -6.6740625e-04,  4.2201288e-04,\n",
       "         -2.3144973e-04,  5.9940410e-04, -7.0123409e-04, -1.1209438e-03,\n",
       "          7.4361498e-04, -5.4229691e-04,  7.6822005e-04,  3.2623837e-04,\n",
       "          3.5052517e-04, -5.9398869e-04,  4.6557584e-04, -6.2941969e-04,\n",
       "         -8.2514744e-05,  8.8535156e+01]], dtype=float32)>,\n",
       " <tf.Tensor: shape=(1, 30), dtype=float32, numpy=\n",
       " array([[2.2556255e+09, 3.8344266e+00, 2.7213738e+00, 2.3109169e+00,\n",
       "         2.0030899e+00, 1.9093831e+00, 1.7799078e+00, 1.5511755e+00,\n",
       "         1.4520742e+00, 1.2102603e+00, 1.1956733e+00, 1.0426062e+00,\n",
       "         1.0046861e+00, 9.9211246e-01, 9.2476696e-01, 8.3907151e-01,\n",
       "         7.6823246e-01, 7.2538882e-01, 7.0431167e-01, 6.6373295e-01,\n",
       "         5.9766579e-01, 5.4661345e-01, 5.2690613e-01, 3.7746012e-01,\n",
       "         3.6725327e-01, 2.7222067e-01, 2.3230758e-01, 1.6414191e-01,\n",
       "         1.0881755e-01, 6.3182051e+04]], dtype=float32)>)"
      ]
     },
     "execution_count": 43,
     "metadata": {},
     "output_type": "execute_result"
    }
   ],
   "source": [
    "feature_array_reader = training_reader.map(fn1).map(lambda v: v.pop('feature_array'))\n",
    "normalizer = tf.keras.layers.Normalization(name = 'normalize', axis = -1)\n",
    "normalizer.adapt(feature_array_reader.prefetch(2).batch(10000))\n",
    "normalizer.mean, normalizer.variance"
   ]
  },
  {
   "cell_type": "markdown",
   "id": "834753d0-4996-473f-a1ed-9b97eec9effb",
   "metadata": {},
   "source": [
    "Similarly, build a de-normalizer to help return final reconstructed values from the autoencoder to the original scale.  This also uses [tf.keras.layers.Normalization()](https://www.tensorflow.org/api_docs/python/tf/keras/layers/Normalization) but the mean and variance calculated for the normalization layer can be directly input while also using the `invert = True` argument to indicate an inverse transformation."
   ]
  },
  {
   "cell_type": "code",
   "execution_count": 44,
   "id": "06863247-30d8-4398-81a0-b8267552d54a",
   "metadata": {
    "tags": []
   },
   "outputs": [],
   "source": [
    "denormalizer = tf.keras.layers.Normalization(\n",
    "    name = 'denormalize',\n",
    "    mean = normalizer.mean,\n",
    "    variance = normalizer.variance,\n",
    "    invert = True\n",
    ")"
   ]
  },
  {
   "cell_type": "markdown",
   "id": "cb2b240f-6e6b-4fd0-8529-2a17cc6fc944",
   "metadata": {},
   "source": [
    "Build the model with layers:"
   ]
  },
  {
   "cell_type": "code",
   "execution_count": 45,
   "id": "af424248-8f9b-4539-b18d-e6bacb90c69c",
   "metadata": {
    "tags": []
   },
   "outputs": [],
   "source": [
    "# feature inputs: autoencoder\n",
    "feature_inputs = [tf.keras.Input(shape = (1,), dtype = dtypes.float64, name = feature) for feature in training_data.columns]\n",
    "\n",
    "# input layer of concatenated features\n",
    "feature_layer = tf.keras.layers.Concatenate(name = 'feature_layer')(feature_inputs)\n",
    "\n",
    "# use pre-learned normalizer a layer in model\n",
    "norm_layer = normalizer(feature_layer)\n",
    "\n",
    "# encoder\n",
    "encoder = tf.keras.layers.Dense(128, activation = tf.nn.relu)(norm_layer)\n",
    "encoder = tf.keras.layers.Dense(64, activation = tf.nn.relu)(encoder)\n",
    "encoder = tf.keras.layers.Dense(8, activation = tf.nn.relu, name = 'encoder')(encoder)\n",
    "\n",
    "# decoder\n",
    "decoder = tf.keras.layers.Dense(64, activation = tf.nn.relu)(encoder)\n",
    "decoder = tf.keras.layers.Dense(128, activation = tf.nn.relu)(decoder)\n",
    "decoder = tf.keras.layers.Dense(feature_layer.shape[1], activation = tf.nn.sigmoid, name = 'decoder')(decoder)\n",
    "\n",
    "# de-normalize \n",
    "reconstruct = denormalizer(decoder)\n",
    "\n",
    "# define loss function - custom\n",
    "def mae_loss(norm_layer, decoder):\n",
    "    return tf.keras.losses.mae(norm_layer, decoder)"
   ]
  },
  {
   "cell_type": "markdown",
   "id": "85164aea-3d90-405f-b05e-82082dc39d84",
   "metadata": {},
   "source": [
    "Create a model from the layers using [tf.keras.Model](https://www.tensorflow.org/api_docs/python/tf/keras/Model).  The inputs will be the first layer, 'feature_inputs' and the outputs will each of: encoder, decoder, and reconstruct layers."
   ]
  },
  {
   "cell_type": "code",
   "execution_count": 46,
   "id": "7e8f459c-24e2-438e-97b9-9657cb649ec7",
   "metadata": {
    "tags": []
   },
   "outputs": [],
   "source": [
    "model = tf.keras.Model(\n",
    "    inputs = feature_inputs,\n",
    "    outputs = {\n",
    "        'feature_layer': feature_layer,\n",
    "        'norm_layer': norm_layer,\n",
    "        'decoder': decoder,\n",
    "        'reconstruct': reconstruct\n",
    "    },\n",
    "    name = 'autoencoder_from_dataframe'\n",
    ")"
   ]
  },
  {
   "cell_type": "markdown",
   "id": "6be638ce-34d9-433e-9d3f-394cf9e8e115",
   "metadata": {},
   "source": [
    "Compile the model to make it ready for training.  "
   ]
  },
  {
   "cell_type": "code",
   "execution_count": 47,
   "id": "c228f853-9648-4674-8413-db38b60adb0e",
   "metadata": {
    "tags": []
   },
   "outputs": [],
   "source": [
    "model.compile(\n",
    "    optimizer = tf.keras.optimizers.Adam(), #SGD or Adam\n",
    "    loss = {'decoder': tf.keras.losses.MeanAbsoluteError()},\n",
    "    #loss = {'decoder': mae_loss},\n",
    "    metrics = {'decoder': [\n",
    "        tf.keras.metrics.RootMeanSquaredError(name = 'rmse'),\n",
    "        tf.keras.metrics.MeanSquaredError(name = 'mse'),\n",
    "        tf.keras.metrics.MeanAbsoluteError(name = 'mae'),\n",
    "        tf.keras.metrics.MeanSquaredLogarithmicError(name = 'msle'),\n",
    "    ]}\n",
    ")"
   ]
  },
  {
   "cell_type": "code",
   "execution_count": 48,
   "id": "69e522ff-c93c-4ef9-b8d4-c34fa6ba017c",
   "metadata": {
    "tags": []
   },
   "outputs": [
    {
     "name": "stdout",
     "output_type": "stream",
     "text": [
      "Epoch 1/2\n",
      "2281/2281 [==============================] - 15s 6ms/step - loss: 3163.7671 - decoder_loss: 3163.7671 - decoder_rmse: 19360.3203 - decoder_mse: 374821568.0000 - decoder_mae: 3163.7671 - decoder_msle: 4.1063\n",
      "Epoch 2/2\n",
      "2281/2281 [==============================] - 13s 6ms/step - loss: 3163.7390 - decoder_loss: 3163.7390 - decoder_rmse: 19360.3203 - decoder_mse: 374822112.0000 - decoder_mae: 3163.7390 - decoder_msle: 4.0862\n"
     ]
    },
    {
     "data": {
      "text/plain": [
       "<keras.src.callbacks.History at 0x7fc7b7b4ceb0>"
      ]
     },
     "execution_count": 48,
     "metadata": {},
     "output_type": "execute_result"
    }
   ],
   "source": [
    "model.fit(\n",
    "    training_reader.prefetch(2).map(fn1).map(lambda v: (v, v.pop('feature_array'))).shuffle(1000).batch(100),\n",
    "    epochs = 2\n",
    ")"
   ]
  },
  {
   "cell_type": "markdown",
   "id": "86baf64c-2d4f-4cfb-aaba-6004fd196f7f",
   "metadata": {},
   "source": [
    "### Prediction"
   ]
  },
  {
   "cell_type": "markdown",
   "id": "3dda2e4f-da8b-42e4-bce7-e19cc213fe42",
   "metadata": {},
   "source": [
    "Retrieve a record, also called an instance, to use for prediction:"
   ]
  },
  {
   "cell_type": "code",
   "execution_count": 63,
   "id": "e8b8dd7c-0c22-4fd7-9ed1-d0a5d626e449",
   "metadata": {
    "tags": []
   },
   "outputs": [
    {
     "data": {
      "text/plain": [
       "{'Time': array([2812]),\n",
       " 'V1': array([-0.63340299]),\n",
       " 'V2': array([0.96361604]),\n",
       " 'V3': array([2.49494562]),\n",
       " 'V4': array([2.09905099]),\n",
       " 'V5': array([-0.40433067]),\n",
       " 'V6': array([0.23586158]),\n",
       " 'V7': array([-0.00793191]),\n",
       " 'V8': array([0.21144152]),\n",
       " 'V9': array([-0.20981682]),\n",
       " 'V10': array([0.3082976]),\n",
       " 'V11': array([-1.20499231]),\n",
       " 'V12': array([-0.47470781]),\n",
       " 'V13': array([-0.65406356]),\n",
       " 'V14': array([-0.47459911]),\n",
       " 'V15': array([-0.42841779]),\n",
       " 'V16': array([0.53665148]),\n",
       " 'V17': array([-0.38065462]),\n",
       " 'V18': array([0.02865054]),\n",
       " 'V19': array([-0.68796943]),\n",
       " 'V20': array([-0.17498476]),\n",
       " 'V21': array([0.01467553]),\n",
       " 'V22': array([0.01627818]),\n",
       " 'V23': array([-0.06146247]),\n",
       " 'V24': array([0.35519634]),\n",
       " 'V25': array([-0.1790855]),\n",
       " 'V26': array([-0.10694743]),\n",
       " 'V27': array([-0.21503926]),\n",
       " 'V28': array([0.0506978]),\n",
       " 'Amount': array([0.])}"
      ]
     },
     "execution_count": 63,
     "metadata": {},
     "output_type": "execute_result"
    }
   ],
   "source": [
    "ds_iter = iter(training_reader.batch(1).take(1))\n",
    "instance = {key: value.numpy() for key, value in next(ds_iter).items()}\n",
    "instance"
   ]
  },
  {
   "cell_type": "markdown",
   "id": "988b40ee-7486-4822-b6d3-f8e936265a3f",
   "metadata": {
    "tags": []
   },
   "source": [
    "Get the prediction for the instance directly from the model using the [predict()](https://www.tensorflow.org/api_docs/python/tf/keras/Model#predict) method:"
   ]
  },
  {
   "cell_type": "code",
   "execution_count": 64,
   "id": "31d5b3e7-f56e-4bbe-8d6a-93144c3e2a96",
   "metadata": {
    "tags": []
   },
   "outputs": [
    {
     "name": "stdout",
     "output_type": "stream",
     "text": [
      "1/1 [==============================] - 0s 40ms/step\n"
     ]
    },
    {
     "data": {
      "text/plain": [
       "{'feature_layer': array([[ 2.8120000e+03, -6.3340300e-01,  9.6361601e-01,  2.4949455e+00,\n",
       "          2.0990510e+00, -4.0433067e-01,  2.3586158e-01, -7.9319049e-03,\n",
       "          2.1144152e-01, -2.0981681e-01,  3.0829760e-01, -1.2049923e+00,\n",
       "         -4.7470781e-01, -6.5406358e-01, -4.7459912e-01, -4.2841780e-01,\n",
       "          5.3665149e-01, -3.8065460e-01,  2.8650539e-02, -6.8796945e-01,\n",
       "         -1.7498475e-01,  1.4675528e-02,  1.6278177e-02, -6.1462473e-02,\n",
       "          3.5519636e-01, -1.7908551e-01, -1.0694742e-01, -2.1503925e-01,\n",
       "          5.0697796e-02,  0.0000000e+00]], dtype=float32),\n",
       " 'norm_layer': array([[-1.937092  , -0.32335705,  0.58393896,  1.6415733 ,  1.482617  ,\n",
       "         -0.2916958 ,  0.17522429, -0.00578969,  0.17634982, -0.19200009,\n",
       "          0.28201008, -1.1794863 , -0.472007  , -0.6584891 , -0.49283284,\n",
       "         -0.4681614 ,  0.61253834, -0.44764012,  0.03497453, -0.8430712 ,\n",
       "         -0.22730693,  0.02058318,  0.02136702, -0.10057119,  0.5855404 ,\n",
       "         -0.34210312, -0.22285642, -0.52921844,  0.15393801, -0.35222396]],\n",
       "       dtype=float32),\n",
       " 'decoder': array([[1.0000000e+00, 8.7562431e-12, 9.0617776e-01, 9.9999970e-01,\n",
       "         9.9729848e-01, 5.3546061e-03, 3.5449871e-01, 4.9829915e-02,\n",
       "         9.8819606e-02, 3.1882478e-03, 8.7474465e-02, 5.2347924e-03,\n",
       "         1.5399154e-01, 3.9444816e-09, 8.4945525e-04, 3.6342286e-03,\n",
       "         1.8889314e-11, 3.1541131e-02, 1.0524126e-01, 8.1478614e-01,\n",
       "         8.0608316e-02, 2.9843172e-02, 1.8696433e-01, 8.2345781e-05,\n",
       "         2.7546874e-01, 4.6859615e-05, 1.4847802e-09, 7.3626056e-02,\n",
       "         6.6265360e-02, 1.0000000e+00]], dtype=float32),\n",
       " 'reconstruct': array([[ 1.4230456e+05, -2.1519324e-04,  1.4952000e+00,  1.5196446e+00,\n",
       "          1.4121767e+00,  6.1348355e-03,  4.7503728e-01,  6.1340198e-02,\n",
       "          1.1801603e-01,  4.9134474e-03,  9.5579021e-02,  4.7037434e-03,\n",
       "          1.5275577e-01,  1.8235052e-03,  1.4947075e-04,  3.7509971e-03,\n",
       "         -2.3144971e-04,  2.7462911e-02,  8.7620683e-02,  6.6268378e-01,\n",
       "          6.3060969e-02,  2.1521749e-02,  1.3648245e-01,  3.7682979e-04,\n",
       "          1.6728850e-01, -5.6953978e-04,  4.6557657e-04,  2.9199759e-02,\n",
       "          2.1776773e-02,  3.3989557e+02]], dtype=float32)}"
      ]
     },
     "execution_count": 64,
     "metadata": {},
     "output_type": "execute_result"
    }
   ],
   "source": [
    "prediction = model.predict(instance)\n",
    "prediction"
   ]
  },
  {
   "cell_type": "markdown",
   "id": "35b71621-bfad-43b4-baaf-06aef4acedbf",
   "metadata": {},
   "source": [
    "The model has named outputs:"
   ]
  },
  {
   "cell_type": "code",
   "execution_count": 65,
   "id": "87f37eee-17e8-4b0c-bace-c771fc94c619",
   "metadata": {
    "tags": []
   },
   "outputs": [
    {
     "data": {
      "text/plain": [
       "[<KerasTensor: shape=(None, 30) dtype=float32 (created by layer 'decoder')>,\n",
       " <KerasTensor: shape=(None, 30) dtype=float32 (created by layer 'feature_layer')>,\n",
       " <KerasTensor: shape=(None, 30) dtype=float32 (created by layer 'normalize')>,\n",
       " <KerasTensor: shape=(None, 30) dtype=float32 (created by layer 'denormalize')>]"
      ]
     },
     "execution_count": 65,
     "metadata": {},
     "output_type": "execute_result"
    }
   ],
   "source": [
    "model.outputs"
   ]
  },
  {
   "cell_type": "markdown",
   "id": "51ac1432-482a-4ec8-9f3d-197260e54021",
   "metadata": {},
   "source": [
    "Which can be directly referenced in the predictions:"
   ]
  },
  {
   "cell_type": "code",
   "execution_count": 66,
   "id": "54f7dc57-f410-475c-8109-a7a9dbe0a3b8",
   "metadata": {
    "tags": []
   },
   "outputs": [
    {
     "data": {
      "text/plain": [
       "array([[ 1.4230456e+05, -2.1519324e-04,  1.4952000e+00,  1.5196446e+00,\n",
       "         1.4121767e+00,  6.1348355e-03,  4.7503728e-01,  6.1340198e-02,\n",
       "         1.1801603e-01,  4.9134474e-03,  9.5579021e-02,  4.7037434e-03,\n",
       "         1.5275577e-01,  1.8235052e-03,  1.4947075e-04,  3.7509971e-03,\n",
       "        -2.3144971e-04,  2.7462911e-02,  8.7620683e-02,  6.6268378e-01,\n",
       "         6.3060969e-02,  2.1521749e-02,  1.3648245e-01,  3.7682979e-04,\n",
       "         1.6728850e-01, -5.6953978e-04,  4.6557657e-04,  2.9199759e-02,\n",
       "         2.1776773e-02,  3.3989557e+02]], dtype=float32)"
      ]
     },
     "execution_count": 66,
     "metadata": {},
     "output_type": "execute_result"
    }
   ],
   "source": [
    "prediction['reconstruct']"
   ]
  },
  {
   "cell_type": "markdown",
   "id": "569f0b75-bef1-47bf-be16-9d1ea7388cea",
   "metadata": {
    "tags": []
   },
   "source": [
    "Multiple records, also called instances, can be predicted at the same time:"
   ]
  },
  {
   "cell_type": "code",
   "execution_count": 67,
   "id": "c9880dfd-1277-4ca2-83f4-b16e0b1b829c",
   "metadata": {
    "tags": []
   },
   "outputs": [
    {
     "data": {
      "text/plain": [
       "{'Time': array([2812, 3150]),\n",
       " 'V1': array([-0.63340299,  1.31328087]),\n",
       " 'V2': array([ 0.96361604, -0.25792282]),\n",
       " 'V3': array([2.49494562, 0.11846283]),\n",
       " 'V4': array([ 2.09905099, -0.73555665]),\n",
       " 'V5': array([-0.40433067, -0.56930772]),\n",
       " 'V6': array([ 0.23586158, -0.73357721]),\n",
       " 'V7': array([-0.00793191, -0.13865918]),\n",
       " 'V8': array([ 0.21144152, -0.14164134]),\n",
       " 'V9': array([-0.20981682,  1.70801916]),\n",
       " 'V10': array([ 0.3082976 , -1.10329377]),\n",
       " 'V11': array([-1.20499231, -1.08782009]),\n",
       " 'V12': array([-0.47470781,  0.64467588]),\n",
       " 'V13': array([-0.65406356, -0.21536864]),\n",
       " 'V14': array([-0.47459911, -0.07471497]),\n",
       " 'V15': array([-0.42841779,  0.28787333]),\n",
       " 'V16': array([ 0.53665148, -1.00176397]),\n",
       " 'V17': array([-0.38065462,  0.09376776]),\n",
       " 'V18': array([ 0.02865054, -0.07254906]),\n",
       " 'V19': array([-0.68796943,  1.1083853 ]),\n",
       " 'V20': array([-0.17498476, -0.14514383]),\n",
       " 'V21': array([ 0.01467553, -0.08246737]),\n",
       " 'V22': array([0.01627818, 0.12606591]),\n",
       " 'V23': array([-0.06146247, -0.22315725]),\n",
       " 'V24': array([ 0.35519634, -0.07497714]),\n",
       " 'V25': array([-0.1790855 ,  0.92193958]),\n",
       " 'V26': array([-0.10694743, -0.52828348]),\n",
       " 'V27': array([-0.21503926,  0.06447566]),\n",
       " 'V28': array([0.0506978 , 0.01313189]),\n",
       " 'Amount': array([0., 0.])}"
      ]
     },
     "execution_count": 67,
     "metadata": {},
     "output_type": "execute_result"
    }
   ],
   "source": [
    "ds_iter = iter(training_reader.batch(2).take(1))\n",
    "instances = {key: value.numpy() for key, value in next(ds_iter).items()}\n",
    "instances"
   ]
  },
  {
   "cell_type": "code",
   "execution_count": 68,
   "id": "3a60fcac-8bfd-45e4-87d8-d106079995a6",
   "metadata": {
    "tags": []
   },
   "outputs": [
    {
     "name": "stdout",
     "output_type": "stream",
     "text": [
      "1/1 [==============================] - 0s 41ms/step\n"
     ]
    },
    {
     "data": {
      "text/plain": [
       "array([[ 1.4230456e+05, -2.1519324e-04,  1.4951999e+00,  1.5196446e+00,\n",
       "         1.4121767e+00,  6.1348290e-03,  4.7503763e-01,  6.1340131e-02,\n",
       "         1.1801631e-01,  4.9134521e-03,  9.5578760e-02,  4.7037387e-03,\n",
       "         1.5275575e-01,  1.8235052e-03,  1.4947308e-04,  3.7510036e-03,\n",
       "        -2.3144971e-04,  2.7462857e-02,  8.7620832e-02,  6.6268361e-01,\n",
       "         6.3060932e-02,  2.1521749e-02,  1.3648215e-01,  3.7682979e-04,\n",
       "         1.6728833e-01, -5.6953978e-04,  4.6557657e-04,  2.9199719e-02,\n",
       "         2.1776769e-02,  3.3989557e+02],\n",
       "       [ 1.4230456e+05,  1.9579538e+00,  3.1602365e-04,  1.6818026e-01,\n",
       "         5.4540168e-02, -1.2403572e-03,  2.9143826e-03,  4.6561495e-04,\n",
       "         2.7090572e-02,  1.0978662e+00, -7.0910319e-05, -3.6981062e-04,\n",
       "         6.6006875e-01,  1.8235403e-03,  2.9768083e-02,  3.6315274e-01,\n",
       "        -2.3123699e-04,  2.2773892e-02,  8.3688293e-03, -1.1208523e-03,\n",
       "         7.4997096e-04,  3.4153730e-02,  1.8506378e-01,  3.2702286e-04,\n",
       "         1.5659017e-02,  1.4736524e-02,  4.6563719e-04, -5.2936428e-04,\n",
       "         1.3674238e-03,  3.3989478e+02]], dtype=float32)"
      ]
     },
     "execution_count": 68,
     "metadata": {},
     "output_type": "execute_result"
    }
   ],
   "source": [
    "prediction = model.predict(instances)\n",
    "prediction['reconstruct']"
   ]
  },
  {
   "cell_type": "markdown",
   "id": "a4a40e17-08f4-4e99-81a4-890c76b0c04c",
   "metadata": {},
   "source": [
    "The input side of the model was built to take named inputs, columns.  An advantage of this is that the inputs at prediction time can change order and the model will reassemble them in the correct order for inference.  Had the model been trained on an array of feature values, then the array would need to be provide here at inference time in the exact same order.  This can be very helpful when inputs are images with nature order of features: rows, columns, and layers of pixels.  For tabular data arranged in named columns, using named inputs prevent training/serving skew by removing the need to both gather the input columns and order them.\n",
    "\n",
    "To demonstrate, the single instance above will be pass in the correct and in reversed order:"
   ]
  },
  {
   "cell_type": "code",
   "execution_count": 69,
   "id": "38d81b08-813e-4ba0-9527-8851fdf164b0",
   "metadata": {
    "tags": []
   },
   "outputs": [
    {
     "data": {
      "text/plain": [
       "{'Time': array([2812]),\n",
       " 'V1': array([-0.63340299]),\n",
       " 'V2': array([0.96361604]),\n",
       " 'V3': array([2.49494562]),\n",
       " 'V4': array([2.09905099]),\n",
       " 'V5': array([-0.40433067]),\n",
       " 'V6': array([0.23586158]),\n",
       " 'V7': array([-0.00793191]),\n",
       " 'V8': array([0.21144152]),\n",
       " 'V9': array([-0.20981682]),\n",
       " 'V10': array([0.3082976]),\n",
       " 'V11': array([-1.20499231]),\n",
       " 'V12': array([-0.47470781]),\n",
       " 'V13': array([-0.65406356]),\n",
       " 'V14': array([-0.47459911]),\n",
       " 'V15': array([-0.42841779]),\n",
       " 'V16': array([0.53665148]),\n",
       " 'V17': array([-0.38065462]),\n",
       " 'V18': array([0.02865054]),\n",
       " 'V19': array([-0.68796943]),\n",
       " 'V20': array([-0.17498476]),\n",
       " 'V21': array([0.01467553]),\n",
       " 'V22': array([0.01627818]),\n",
       " 'V23': array([-0.06146247]),\n",
       " 'V24': array([0.35519634]),\n",
       " 'V25': array([-0.1790855]),\n",
       " 'V26': array([-0.10694743]),\n",
       " 'V27': array([-0.21503926]),\n",
       " 'V28': array([0.0506978]),\n",
       " 'Amount': array([0.])}"
      ]
     },
     "execution_count": 69,
     "metadata": {},
     "output_type": "execute_result"
    }
   ],
   "source": [
    "instance"
   ]
  },
  {
   "cell_type": "code",
   "execution_count": 73,
   "id": "5e2aa6de-8c0d-4fbd-bc64-8faf31d8030d",
   "metadata": {
    "tags": []
   },
   "outputs": [
    {
     "data": {
      "text/plain": [
       "{'Amount': array([0.]),\n",
       " 'V28': array([0.0506978]),\n",
       " 'V27': array([-0.21503926]),\n",
       " 'V26': array([-0.10694743]),\n",
       " 'V25': array([-0.1790855]),\n",
       " 'V24': array([0.35519634]),\n",
       " 'V23': array([-0.06146247]),\n",
       " 'V22': array([0.01627818]),\n",
       " 'V21': array([0.01467553]),\n",
       " 'V20': array([-0.17498476]),\n",
       " 'V19': array([-0.68796943]),\n",
       " 'V18': array([0.02865054]),\n",
       " 'V17': array([-0.38065462]),\n",
       " 'V16': array([0.53665148]),\n",
       " 'V15': array([-0.42841779]),\n",
       " 'V14': array([-0.47459911]),\n",
       " 'V13': array([-0.65406356]),\n",
       " 'V12': array([-0.47470781]),\n",
       " 'V11': array([-1.20499231]),\n",
       " 'V10': array([0.3082976]),\n",
       " 'V9': array([-0.20981682]),\n",
       " 'V8': array([0.21144152]),\n",
       " 'V7': array([-0.00793191]),\n",
       " 'V6': array([0.23586158]),\n",
       " 'V5': array([-0.40433067]),\n",
       " 'V4': array([2.09905099]),\n",
       " 'V3': array([2.49494562]),\n",
       " 'V2': array([0.96361604]),\n",
       " 'V1': array([-0.63340299]),\n",
       " 'Time': array([2812])}"
      ]
     },
     "execution_count": 73,
     "metadata": {},
     "output_type": "execute_result"
    }
   ],
   "source": [
    "instance_reversed = {k:v for k,v in reversed(instance.items())}\n",
    "instance_reversed"
   ]
  },
  {
   "cell_type": "code",
   "execution_count": 75,
   "id": "dc02b640-5b36-4bf4-9c81-30d036fadac0",
   "metadata": {
    "tags": []
   },
   "outputs": [
    {
     "name": "stdout",
     "output_type": "stream",
     "text": [
      "1/1 [==============================] - 0s 41ms/step\n",
      "1/1 [==============================] - 0s 41ms/step\n"
     ]
    },
    {
     "data": {
      "text/plain": [
       "(array([[ 1.4230456e+05, -2.1519324e-04,  1.4952000e+00,  1.5196446e+00,\n",
       "          1.4121767e+00,  6.1348355e-03,  4.7503728e-01,  6.1340198e-02,\n",
       "          1.1801603e-01,  4.9134474e-03,  9.5579021e-02,  4.7037434e-03,\n",
       "          1.5275577e-01,  1.8235052e-03,  1.4947075e-04,  3.7509971e-03,\n",
       "         -2.3144971e-04,  2.7462911e-02,  8.7620683e-02,  6.6268378e-01,\n",
       "          6.3060969e-02,  2.1521749e-02,  1.3648245e-01,  3.7682979e-04,\n",
       "          1.6728850e-01, -5.6953978e-04,  4.6557657e-04,  2.9199759e-02,\n",
       "          2.1776773e-02,  3.3989557e+02]], dtype=float32),\n",
       " array([[ 1.4230456e+05, -2.1519324e-04,  1.4952000e+00,  1.5196446e+00,\n",
       "          1.4121767e+00,  6.1348355e-03,  4.7503728e-01,  6.1340198e-02,\n",
       "          1.1801603e-01,  4.9134474e-03,  9.5579021e-02,  4.7037434e-03,\n",
       "          1.5275577e-01,  1.8235052e-03,  1.4947075e-04,  3.7509971e-03,\n",
       "         -2.3144971e-04,  2.7462911e-02,  8.7620683e-02,  6.6268378e-01,\n",
       "          6.3060969e-02,  2.1521749e-02,  1.3648245e-01,  3.7682979e-04,\n",
       "          1.6728850e-01, -5.6953978e-04,  4.6557657e-04,  2.9199759e-02,\n",
       "          2.1776773e-02,  3.3989557e+02]], dtype=float32))"
      ]
     },
     "execution_count": 75,
     "metadata": {},
     "output_type": "execute_result"
    }
   ],
   "source": [
    "prediction = model.predict(instance)['reconstruct']\n",
    "prediction_reversed = model.predict(instance_reversed)['reconstruct']\n",
    "prediction, prediction_reversed"
   ]
  },
  {
   "cell_type": "markdown",
   "id": "03afcfed-a43e-4b37-bd93-c86e245655ac",
   "metadata": {},
   "source": [
    "Both prediction look identical even thought the instance was input in a different order.  This can also be programatically checked for confirmation:"
   ]
  },
  {
   "cell_type": "code",
   "execution_count": 76,
   "id": "69755407-0222-43b6-8f6d-7c305ab89768",
   "metadata": {
    "tags": []
   },
   "outputs": [
    {
     "data": {
      "text/plain": [
       "True"
      ]
     },
     "execution_count": 76,
     "metadata": {},
     "output_type": "execute_result"
    }
   ],
   "source": [
    "(prediction == prediction_reversed).all()"
   ]
  },
  {
   "cell_type": "markdown",
   "id": "1a3119cc-ac06-498c-9747-d794a1b7da39",
   "metadata": {},
   "source": [
    "### Post-processing\n",
    "\n",
    "An incredible feature of TensorFlow/Keras is being able to treat models as layers. \n",
    "\n",
    "The trained model above outputs the reconstructed feature array from the trained autoencoder.  It would be great to have more information and different formatting though. Like:\n",
    "- report instance level metrics to help interpret the reconstruction: MAE, MSE, MSLE\n",
    "    - base these on the actual values and the normalized values\n",
    "- return the reconstructed feature array to named elements matching the named inputs to the model\n",
    "- order the reconstructed feature array in decending order by magnitude of the error\n",
    "    - base magnitude of error on the absolute difference in normalized values\n",
    "    \n",
    "The following builds post-processing model that takes the outputs of the autoencoder as inputs.  Then, a new model is built that combines these together into a single model."
   ]
  },
  {
   "cell_type": "code",
   "execution_count": 155,
   "id": "05e6001f-25a7-4af0-a617-557158cee4d3",
   "metadata": {
    "tags": []
   },
   "outputs": [],
   "source": [
    "# metric calcs on denormalized values\n",
    "mean_absolute_error = tf.keras.losses.mae(reconstruct, feature_layer)\n",
    "mean_squared_error = tf.keras.losses.mse(reconstruct, feature_layer)\n",
    "mean_squared_log_error = tf.keras.losses.msle(reconstruct, feature_layer)\n",
    "\n",
    "# metric calc on normalized values\n",
    "norm_mean_absolute_error = tf.keras.losses.mae(norm_layer, decoder)\n",
    "norm_mean_squared_error = tf.keras.losses.mse(norm_layer, decoder)\n",
    "norm_mean_squared_log_error = tf.keras.losses.msle(norm_layer, decoder)\n",
    "\n",
    "# list reconstruction error for each feature\n",
    "errors = [{feature_inputs[v].name : val} for v, val in enumerate(reconstruct[0,:])]\n",
    "\n",
    "# errors ordered by norm error absolute magnitude\n",
    "norm_abs_diffs = tf.math.abs(norm_layer - decoder)\n",
    "ordered_norm_abs_diffs = tf.argsort(norm_abs_diffs, direction = 'DESCENDING')\n",
    "errors_impact_order = [i for i in ordered_norm_abs_diffs[0,:]]"
   ]
  },
  {
   "cell_type": "code",
   "execution_count": 156,
   "id": "0b6aecfe-33f1-4a9e-bcdd-d88ea487ed4b",
   "metadata": {
    "tags": []
   },
   "outputs": [],
   "source": [
    "post_model = tf.keras.Model(\n",
    "    #inputs = {k: v for k, v in model.output.items() if k in ['reconstruct', 'feature_layer']},\n",
    "    inputs = model.output,\n",
    "    outputs = {\n",
    "        'mean_absolute_error': mean_absolute_error[0],\n",
    "        'mean_squared_error': mean_squared_error[0],\n",
    "        'mean_squared_log_error': mean_squared_log_error[0],\n",
    "        'norm_mean_absolute_error': norm_mean_absolute_error[0],\n",
    "        'norm_mean_squared_error': norm_mean_squared_error[0],\n",
    "        'norm_mean_squared_log_error': norm_mean_squared_log_error[0],\n",
    "        'errors': errors,\n",
    "        'errors_impact_order': errors_impact_order\n",
    "    },\n",
    "    name = 'autoencoder_post'\n",
    ")"
   ]
  },
  {
   "cell_type": "code",
   "execution_count": 157,
   "id": "549d51e1-641e-4268-8684-7a1156d8dc2d",
   "metadata": {
    "tags": []
   },
   "outputs": [],
   "source": [
    "full_model = tf.keras.Model(\n",
    "    inputs = model.inputs,\n",
    "    outputs = post_model(model(model.inputs))\n",
    ")"
   ]
  },
  {
   "cell_type": "code",
   "execution_count": 167,
   "id": "84cee7e2-2d8e-4f57-83b1-f5b2f3079ffe",
   "metadata": {
    "tags": []
   },
   "outputs": [
    {
     "name": "stdout",
     "output_type": "stream",
     "text": [
      "1/1 [==============================] - 0s 45ms/step\n"
     ]
    },
    {
     "data": {
      "text/plain": [
       "{'mean_absolute_error': 4661.44775390625,\n",
       " 'mean_squared_error': 648609664.0,\n",
       " 'mean_squared_log_error': 1.67367684841156,\n",
       " 'norm_mean_absolute_error': 0.5154851078987122,\n",
       " 'norm_mean_squared_error': 0.6112011671066284,\n",
       " 'norm_mean_squared_log_error': 0.06236143782734871,\n",
       " 'errors': [{'Time': 142304.5625},\n",
       "  {'V1': -0.00021519324218388647},\n",
       "  {'V2': 1.4952000379562378},\n",
       "  {'V3': 1.5196446180343628},\n",
       "  {'V4': 1.4121767282485962},\n",
       "  {'V5': 0.006134835537523031},\n",
       "  {'V6': 0.47503727674484253},\n",
       "  {'V7': 0.061340197920799255},\n",
       "  {'V8': 0.11801602691411972},\n",
       "  {'V9': 0.0049134474247694016},\n",
       "  {'V10': 0.09557902067899704},\n",
       "  {'V11': 0.0047037433832883835},\n",
       "  {'V12': 0.1527557671070099},\n",
       "  {'V13': 0.0018235051538795233},\n",
       "  {'V14': 0.000149470753967762},\n",
       "  {'V15': 0.003750997129827738},\n",
       "  {'V16': -0.0002314497105544433},\n",
       "  {'V17': 0.0274629108607769},\n",
       "  {'V18': 0.08762068301439285},\n",
       "  {'V19': 0.6626837849617004},\n",
       "  {'V20': 0.06306096911430359},\n",
       "  {'V21': 0.02152174897491932},\n",
       "  {'V22': 0.13648244738578796},\n",
       "  {'V23': 0.0003768297901842743},\n",
       "  {'V24': 0.16728849709033966},\n",
       "  {'V25': -0.0005695397849194705},\n",
       "  {'V26': 0.0004655765660572797},\n",
       "  {'V27': 0.029199758544564247},\n",
       "  {'V28': 0.021776773035526276},\n",
       "  {'Amount': 339.89556884765625}],\n",
       " 'errors_impact_order': [0,\n",
       "  19,\n",
       "  29,\n",
       "  11,\n",
       "  13,\n",
       "  3,\n",
       "  12,\n",
       "  16,\n",
       "  27,\n",
       "  14,\n",
       "  4,\n",
       "  17,\n",
       "  15,\n",
       "  25,\n",
       "  1,\n",
       "  2,\n",
       "  24,\n",
       "  20,\n",
       "  5,\n",
       "  26,\n",
       "  9,\n",
       "  10,\n",
       "  6,\n",
       "  22,\n",
       "  23,\n",
       "  28,\n",
       "  8,\n",
       "  18,\n",
       "  7,\n",
       "  21]}"
      ]
     },
     "execution_count": 167,
     "metadata": {},
     "output_type": "execute_result"
    }
   ],
   "source": [
    "full_model.predict(instance)"
   ]
  },
  {
   "cell_type": "markdown",
   "id": "424701cd-ba5a-4033-98ec-8d4a7bab7116",
   "metadata": {},
   "source": [
    "## From BigQuery To TensorFlow With TensorFlow I/O\n",
    "\n",
    "A highly effective way to read batches directly to `tf.data` objects from BigQuery storage!\n",
    "\n",
    "https://www.tensorflow.org/io"
   ]
  },
  {
   "cell_type": "code",
   "execution_count": 345,
   "id": "64bde432-3886-498c-ab98-7c5768a18603",
   "metadata": {
    "tags": []
   },
   "outputs": [
    {
     "data": {
      "text/plain": [
       "2"
      ]
     },
     "execution_count": 345,
     "metadata": {},
     "output_type": "execute_result"
    }
   ],
   "source": [
    "nclasses = bq.query(query = f'SELECT DISTINCT {VAR_TARGET} FROM {BQ_PROJECT}.{BQ_DATASET}.{BQ_TABLE} WHERE {VAR_TARGET} is not null').to_dataframe()\n",
    "nclasses = nclasses.shape[0]\n",
    "nclasses"
   ]
  },
  {
   "cell_type": "code",
   "execution_count": 346,
   "id": "063bce92-7a53-481e-abe9-9b341a9fb17e",
   "metadata": {
    "tags": []
   },
   "outputs": [],
   "source": [
    "query = f'''\n",
    "SELECT *\n",
    "FROM {BQ_PROJECT}.{BQ_DATASET}.INFORMATION_SCHEMA.COLUMNS\n",
    "WHERE TABLE_NAME = '{BQ_TABLE}'\n",
    "    AND COLUMN_NAME NOT IN ('transaction_id', 'splits')\n",
    "'''\n",
    "schema = bq.query(query).to_dataframe()"
   ]
  },
  {
   "cell_type": "code",
   "execution_count": 347,
   "id": "d1dc0336-ff59-4f13-9f55-97e96c4b63b3",
   "metadata": {
    "tags": []
   },
   "outputs": [
    {
     "data": {
      "text/plain": [
       "['INT64', 'FLOAT64']"
      ]
     },
     "execution_count": 347,
     "metadata": {},
     "output_type": "execute_result"
    }
   ],
   "source": [
    "schema.data_type.unique().tolist()"
   ]
  },
  {
   "cell_type": "code",
   "execution_count": 348,
   "id": "fd77d0a7-2193-4be0-81b4-57bb8b8b84ff",
   "metadata": {
    "tags": []
   },
   "outputs": [],
   "source": [
    "types = {\n",
    "    'FLOAT64' : dtypes.float64,\n",
    "    'INT64' : dtypes.int64\n",
    "}"
   ]
  },
  {
   "cell_type": "code",
   "execution_count": 349,
   "id": "d18a0b37-efdf-4a35-b68c-c075d4f56968",
   "metadata": {
    "tags": []
   },
   "outputs": [],
   "source": [
    "def prep(features):\n",
    "    target = features.pop(VAR_TARGET)\n",
    "    target = tf.one_hot(tf.cast(target, tf.int64), nclasses)\n",
    "    target = tf.cast(target, tf.float64)\n",
    "    return(features, target)"
   ]
  },
  {
   "cell_type": "code",
   "execution_count": 353,
   "id": "14376535-2593-4e78-bf56-ba83bd587320",
   "metadata": {
    "tags": []
   },
   "outputs": [
    {
     "data": {
      "text/plain": [
       "tensorflow.python.data.ops.interleave_op._ParallelInterleaveDataset"
      ]
     },
     "execution_count": 353,
     "metadata": {},
     "output_type": "execute_result"
    }
   ],
   "source": [
    "training_reader_tfio = BigQueryClient().read_session(\n",
    "    parent = f\"projects/{PROJECT_ID}\",\n",
    "    project_id = BQ_PROJECT,\n",
    "    table_id = BQ_TABLE,\n",
    "    dataset_id = BQ_DATASET,\n",
    "    selected_fields = [x for x in schema.column_name.tolist()],\n",
    "    output_types = [types[x] for x in schema.data_type.tolist()],\n",
    "    row_restriction = f\"splits='TRAIN'\",\n",
    "    requested_streams = 3\n",
    ").parallel_read_rows(sloppy = True, num_parallel_calls = tf.data.experimental.AUTOTUNE)\n",
    "type(training_reader_tfio)"
   ]
  },
  {
   "cell_type": "code",
   "execution_count": 354,
   "id": "0cf11928-d591-4ce8-84ca-6f076f148d2c",
   "metadata": {
    "tags": []
   },
   "outputs": [
    {
     "name": "stdout",
     "output_type": "stream",
     "text": [
      "features:\n",
      " ['Amount', 'Time', 'V1', 'V10', 'V11', 'V12', 'V13', 'V14', 'V15', 'V16', 'V17', 'V18', 'V19', 'V2', 'V20', 'V21', 'V22', 'V23', 'V24', 'V25', 'V26', 'V27', 'V28', 'V3', 'V4', 'V5', 'V6', 'V7', 'V8', 'V9']\n",
      "('Amount', <tf.Tensor: shape=(5,), dtype=float64, numpy=array([0., 0., 0., 0., 0.])>)\n",
      "('Time', <tf.Tensor: shape=(5,), dtype=int64, numpy=array([ 2812,  3150, 16676, 17701, 28131])>)\n",
      "('V1', <tf.Tensor: shape=(5,), dtype=float64, numpy=array([-0.63340299,  1.31328087,  1.15847976, -1.27923083,  1.06950736])>)\n",
      "('V10', <tf.Tensor: shape=(5,), dtype=float64, numpy=array([ 0.3082976 , -1.10329377, -0.17276001,  0.84594969,  0.37324618])>)\n",
      "('V11', <tf.Tensor: shape=(5,), dtype=float64, numpy=array([-1.20499231, -1.08782009,  2.05305928,  1.38923569, -1.32944263])>)\n",
      "('V12', <tf.Tensor: shape=(5,), dtype=float64, numpy=array([-0.47470781,  0.64467588, -2.73649895, -2.44018135, -0.1867695 ])>)\n",
      "('V13', <tf.Tensor: shape=(5,), dtype=float64, numpy=array([-0.65406356, -0.21536864, -0.65945968,  1.09921626, -1.2715409 ])>)\n",
      "('V14', <tf.Tensor: shape=(5,), dtype=float64, numpy=array([-0.47459911, -0.07471497,  2.39520841,  0.76496092, -0.47134632])>)\n",
      "('V15', <tf.Tensor: shape=(5,), dtype=float64, numpy=array([-0.42841779,  0.28787333,  0.03210484, -1.32315853, -1.11108035])>)\n",
      "('V16', <tf.Tensor: shape=(5,), dtype=float64, numpy=array([ 0.53665148, -1.00176397,  0.09806718, -0.28971316, -0.2096666 ])>)\n",
      "('V17', <tf.Tensor: shape=(5,), dtype=float64, numpy=array([-0.38065462,  0.09376776,  0.42428227,  0.65615985,  0.34660557])>)\n",
      "('V18', <tf.Tensor: shape=(5,), dtype=float64, numpy=array([ 0.02865054, -0.07254906,  0.59856386,  0.77523608, -0.62063772])>)\n",
      "('V19', <tf.Tensor: shape=(5,), dtype=float64, numpy=array([-0.68796943,  1.1083853 , -0.70353147,  1.52883351, -0.91684769])>)\n",
      "('V2', <tf.Tensor: shape=(5,), dtype=float64, numpy=\n",
      "array([ 9.63616039e-01, -2.57922822e-01,  1.68946502e-01, -1.53303332e-01,\n",
      "       -3.61567697e-04])>)\n",
      "('V20', <tf.Tensor: shape=(5,), dtype=float64, numpy=array([-0.17498476, -0.14514383, -0.35528903,  0.0286392 , -0.29230464])>)\n",
      "('V21', <tf.Tensor: shape=(5,), dtype=float64, numpy=array([ 0.01467553, -0.08246737,  0.01649243, -0.40974641,  0.03539309])>)\n",
      "('V22', <tf.Tensor: shape=(5,), dtype=float64, numpy=array([ 0.01627818,  0.12606591,  0.26351819, -0.34257494,  0.44443334])>)\n",
      "('V23', <tf.Tensor: shape=(5,), dtype=float64, numpy=array([-0.06146247, -0.22315725, -0.07671142, -0.49329682, -0.08541321])>)\n",
      "('V24', <tf.Tensor: shape=(5,), dtype=float64, numpy=array([ 0.35519634, -0.07497714, -0.07940242, -0.01704646,  0.09909026])>)\n",
      "('V25', <tf.Tensor: shape=(5,), dtype=float64, numpy=array([-0.1790855 ,  0.92193958,  0.50282708, -0.10740384,  0.50643843])>)\n",
      "('V26', <tf.Tensor: shape=(5,), dtype=float64, numpy=array([-0.10694743, -0.52828348, -0.2708189 ,  0.10116408,  0.24641823])>)\n",
      "('V27', <tf.Tensor: shape=(5,), dtype=float64, numpy=array([-0.21503926,  0.06447566, -0.0049661 , -0.19794013,  0.05786398])>)\n",
      "('V28', <tf.Tensor: shape=(5,), dtype=float64, numpy=array([ 0.0506978 ,  0.01313189, -0.00337181, -0.43565366,  0.02113273])>)\n",
      "('V3', <tf.Tensor: shape=(5,), dtype=float64, numpy=array([2.49494562, 0.11846283, 0.53634505, 3.29631037, 1.44893558])>)\n",
      "('V4', <tf.Tensor: shape=(5,), dtype=float64, numpy=array([ 2.09905099, -0.73555665,  1.18790841,  3.32044136,  2.87449797])>)\n",
      "('V5', <tf.Tensor: shape=(5,), dtype=float64, numpy=array([-0.40433067, -0.56930772, -0.26554689,  1.13901754, -0.73626591])>)\n",
      "('V6', <tf.Tensor: shape=(5,), dtype=float64, numpy=array([ 0.23586158, -0.73357721, -0.07632466,  0.54234305,  0.8319322 ])>)\n",
      "('V7', <tf.Tensor: shape=(5,), dtype=float64, numpy=array([-0.00793191, -0.13865918, -0.35584369, -0.72992832, -0.76226682])>)\n",
      "('V8', <tf.Tensor: shape=(5,), dtype=float64, numpy=array([ 0.21144152, -0.14164134,  0.14461505, -0.05177411,  0.40677214])>)\n",
      "('V9', <tf.Tensor: shape=(5,), dtype=float64, numpy=array([-0.20981682,  1.70801916,  1.46234622,  0.92271182,  0.62647258])>)\n",
      "\n",
      "target:\n",
      " tf.Tensor(\n",
      "[[1. 0.]\n",
      " [1. 0.]\n",
      " [1. 0.]\n",
      " [1. 0.]\n",
      " [1. 0.]], shape=(5, 2), dtype=float64)\n"
     ]
    }
   ],
   "source": [
    "for features, target in training_reader_tfio.map(prep).batch(5).take(1):\n",
    "    print('features:\\n',list(features.keys()))\n",
    "    for feature in features.items():\n",
    "        print(feature)\n",
    "    print('\\ntarget:\\n',target)"
   ]
  },
  {
   "cell_type": "markdown",
   "id": "33ea38e8-a23c-440a-967b-537e75de8f62",
   "metadata": {},
   "source": [
    "### Training In TensorFlow"
   ]
  },
  {
   "cell_type": "code",
   "execution_count": 361,
   "id": "8f322564-922b-46c2-a020-60b7f8e32584",
   "metadata": {
    "tags": []
   },
   "outputs": [],
   "source": [
    "feature_inputs = [tf.keras.Input(shape = (1,), dtype = dtypes.float64, name = feature) for feature in schema.column_name if feature != VAR_TARGET]"
   ]
  },
  {
   "cell_type": "code",
   "execution_count": 362,
   "id": "9390f6d4-6d95-4dbe-b7fb-ab9c325f86b6",
   "metadata": {
    "tags": []
   },
   "outputs": [],
   "source": [
    "feature_layer = tf.keras.layers.Concatenate(name = 'feature_layer')(feature_inputs)\n",
    "norm_layer = tf.keras.layers.BatchNormalization(axis = -1, name = 'batch_normalization')(feature_layer)\n",
    "logistic = tf.keras.layers.Dense(nclasses, activation = tf.nn.softmax, name = 'logistic')(norm_layer)"
   ]
  },
  {
   "cell_type": "code",
   "execution_count": 363,
   "id": "c91c595e-8505-4097-a783-8b94b1d3ae7e",
   "metadata": {
    "tags": []
   },
   "outputs": [],
   "source": [
    "model = tf.keras.Model(\n",
    "    inputs = feature_inputs,\n",
    "    outputs = logistic,\n",
    "    name = 'example_from_dataframe'\n",
    ")"
   ]
  },
  {
   "cell_type": "code",
   "execution_count": 364,
   "id": "6a5c6467-105f-4862-94e9-d93d526f6c07",
   "metadata": {
    "tags": []
   },
   "outputs": [],
   "source": [
    "model.compile(\n",
    "    optimizer = tf.keras.optimizers.SGD(), #SGD or Adam\n",
    "    loss = tf.keras.losses.CategoricalCrossentropy(),\n",
    "    metrics = ['accuracy', tf.keras.metrics.AUC(curve = 'PR', name = 'auprc')]\n",
    ")"
   ]
  },
  {
   "cell_type": "code",
   "execution_count": 365,
   "id": "189db388-2e6a-4798-8618-04f6eb78e106",
   "metadata": {
    "tags": []
   },
   "outputs": [
    {
     "name": "stdout",
     "output_type": "stream",
     "text": [
      "Epoch 1/2\n",
      "2281/2281 [==============================] - 18s 7ms/step - loss: 0.0738 - accuracy: 0.9824 - auprc: 0.9973\n",
      "Epoch 2/2\n",
      "2281/2281 [==============================] - 17s 7ms/step - loss: 0.0089 - accuracy: 0.9991 - auprc: 0.9996\n"
     ]
    },
    {
     "data": {
      "text/plain": [
       "<keras.src.callbacks.History at 0x7f24fb151e70>"
      ]
     },
     "execution_count": 365,
     "metadata": {},
     "output_type": "execute_result"
    }
   ],
   "source": [
    "model.fit(training_reader_tfio.prefetch(2).map(prep).shuffle(1000).batch(100), epochs = 2)"
   ]
  },
  {
   "cell_type": "code",
   "execution_count": null,
   "id": "be08fc9f-4aaf-4c13-8dea-d86b661a1b24",
   "metadata": {},
   "outputs": [],
   "source": []
  }
 ],
 "metadata": {
  "environment": {
   "kernel": "conda-root-py",
   "name": "workbench-notebooks.m113",
   "type": "gcloud",
   "uri": "gcr.io/deeplearning-platform-release/workbench-notebooks:m113"
  },
  "kernelspec": {
   "display_name": "Python 3 (ipykernel) (Local)",
   "language": "python",
   "name": "conda-root-py"
  },
  "language_info": {
   "codemirror_mode": {
    "name": "ipython",
    "version": 3
   },
   "file_extension": ".py",
   "mimetype": "text/x-python",
   "name": "python",
   "nbconvert_exporter": "python",
   "pygments_lexer": "ipython3",
   "version": "3.10.13"
  }
 },
 "nbformat": 4,
 "nbformat_minor": 5
}
