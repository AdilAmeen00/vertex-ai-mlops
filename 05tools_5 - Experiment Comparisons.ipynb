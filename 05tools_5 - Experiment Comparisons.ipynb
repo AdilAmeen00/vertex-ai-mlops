{
 "cells": [
  {
   "cell_type": "markdown",
   "id": "224440e7-4d7b-4ae8-8fbc-fbd2151e1cd0",
   "metadata": {},
   "source": [
    "# 05tools_4: Experiment Comparisons\n",
    "\n",
    "Use the Python client to retrieve, review, and compare experiments from this series\n",
    "\n",
    "### Prerequisites:\n",
    "-  At least 1 of the notebooks in this series [05, 05a-05i]\n",
    "    - Each of these notebooks creates an experiment.  Rerunning the notebooks creates additonal runs of the experiment.  The models created by each run are uploaded to the Vertex AI Model Registry with a version alias for the experiment run name and has labels for the experiment_name and run_name."
   ]
  },
  {
   "cell_type": "markdown",
   "id": "e4b33b3c-9249-42ba-af11-107d2f7ea949",
   "metadata": {},
   "source": [
    "---\n",
    "## Setup"
   ]
  },
  {
   "cell_type": "markdown",
   "id": "baede62b-ede8-4fef-9345-2a8a93f25cb1",
   "metadata": {},
   "source": [
    "inputs:"
   ]
  },
  {
   "cell_type": "code",
   "execution_count": 143,
   "id": "17db3fdd-0d17-45bf-8f0e-4980900f4354",
   "metadata": {},
   "outputs": [
    {
     "data": {
      "text/plain": [
       "'statmike-mlops-349915'"
      ]
     },
     "execution_count": 143,
     "metadata": {},
     "output_type": "execute_result"
    }
   ],
   "source": [
    "project = !gcloud config get-value project\n",
    "PROJECT_ID = project[0]\n",
    "PROJECT_ID"
   ]
  },
  {
   "cell_type": "code",
   "execution_count": 144,
   "id": "8429ee3d-43b0-4047-8705-8c0e60afbfff",
   "metadata": {},
   "outputs": [],
   "source": [
    "REGION = 'us-central1'\n",
    "SERIES = '05'"
   ]
  },
  {
   "cell_type": "markdown",
   "id": "9e9f5faa-f69e-4d82-a20c-b82c4e65c294",
   "metadata": {},
   "source": [
    "packages:"
   ]
  },
  {
   "cell_type": "code",
   "execution_count": 145,
   "id": "abb55190-0576-4906-a827-744debe3b97b",
   "metadata": {},
   "outputs": [],
   "source": [
    "from google.cloud import aiplatform\n",
    "import pandas as pd\n",
    "from IPython.display import HTML"
   ]
  },
  {
   "cell_type": "markdown",
   "id": "17c8faba-6a64-4169-bcfa-8e6777f0d610",
   "metadata": {},
   "source": [
    "clients:"
   ]
  },
  {
   "cell_type": "code",
   "execution_count": 146,
   "id": "54212c4a-aa5a-4d99-b155-5d01a2756fe1",
   "metadata": {},
   "outputs": [],
   "source": [
    "aiplatform.init(project = PROJECT_ID, location = REGION)"
   ]
  },
  {
   "cell_type": "markdown",
   "id": "2c5312eb-d8d9-4a67-b6d0-4def952514f9",
   "metadata": {},
   "source": [
    "---\n",
    "## Experiments"
   ]
  },
  {
   "cell_type": "markdown",
   "id": "679c5c63-9718-4735-a7e5-3986e1ce01ab",
   "metadata": {},
   "source": [
    "Get a list of all experiments in this project:"
   ]
  },
  {
   "cell_type": "code",
   "execution_count": 147,
   "id": "b54f7014-7ffb-4635-993b-577108c9c01e",
   "metadata": {},
   "outputs": [],
   "source": [
    "experiments = aiplatform.Experiment.list()"
   ]
  },
  {
   "cell_type": "markdown",
   "id": "c1846449-5436-4067-989e-3fffbec12ff3",
   "metadata": {},
   "source": [
    "Remove experiments not in the SERIES:"
   ]
  },
  {
   "cell_type": "code",
   "execution_count": 148,
   "id": "2f8643bf-2f59-444c-9369-7919acd4fba4",
   "metadata": {},
   "outputs": [],
   "source": [
    "experiments = [e for e in experiments if e.name.split('-')[0:2] == ['experiment', SERIES]]"
   ]
  },
  {
   "cell_type": "markdown",
   "id": "54485db1-fd73-471f-9c42-72bc849b8d1f",
   "metadata": {},
   "source": [
    "### Combine Runs from All Experiments in SERIES"
   ]
  },
  {
   "cell_type": "markdown",
   "id": "8023b80f-0a43-4a67-abf8-109d2b84f4a1",
   "metadata": {},
   "source": [
    "Combine the runs from all experiments in SERIES into a single dataframe:"
   ]
  },
  {
   "cell_type": "code",
   "execution_count": 149,
   "id": "c8ba8899-1048-440e-b738-b2678da63cca",
   "metadata": {},
   "outputs": [
    {
     "name": "stdout",
     "output_type": "stream",
     "text": [
      "experiment-05-05c-classification-dnn\n",
      "experiment-05-05b-classification-dnn\n",
      "experiment-05-05a-classification-dnn\n",
      "experiment-05-05-classification-dnn\n"
     ]
    }
   ],
   "source": [
    "results = []\n",
    "for experiment in experiments:\n",
    "        results.append(experiment.get_data_frame())\n",
    "        print(experiment.name)\n",
    "results = pd.concat(results)"
   ]
  },
  {
   "cell_type": "code",
   "execution_count": 150,
   "id": "3fb36c33-1908-4a2c-91fb-8ba3d81caef6",
   "metadata": {},
   "outputs": [
    {
     "data": {
      "text/html": [
       "<div>\n",
       "<style scoped>\n",
       "    .dataframe tbody tr th:only-of-type {\n",
       "        vertical-align: middle;\n",
       "    }\n",
       "\n",
       "    .dataframe tbody tr th {\n",
       "        vertical-align: top;\n",
       "    }\n",
       "\n",
       "    .dataframe thead th {\n",
       "        text-align: right;\n",
       "    }\n",
       "</style>\n",
       "<table border=\"1\" class=\"dataframe\">\n",
       "  <thead>\n",
       "    <tr style=\"text-align: right;\">\n",
       "      <th></th>\n",
       "      <th>experiment_name</th>\n",
       "      <th>run_name</th>\n",
       "      <th>run_type</th>\n",
       "      <th>state</th>\n",
       "      <th>param.MODEL_VERSIONED_RESOURCE_NAME</th>\n",
       "      <th>param.job.resource_name</th>\n",
       "      <th>param.SHUFFLE</th>\n",
       "      <th>param.nclasses</th>\n",
       "      <th>param.DATANAME</th>\n",
       "      <th>param.NOTEBOOK</th>\n",
       "      <th>...</th>\n",
       "      <th>metric.train_accuracy</th>\n",
       "      <th>metric.val_accuracy</th>\n",
       "      <th>metric.train_loss</th>\n",
       "      <th>metric.train_auprc</th>\n",
       "      <th>time_series_metric.train_accuracy</th>\n",
       "      <th>time_series_metric.train_loss</th>\n",
       "      <th>time_series_metric.val_accuracy</th>\n",
       "      <th>time_series_metric.train_auprc</th>\n",
       "      <th>time_series_metric.val_auprc</th>\n",
       "      <th>time_series_metric.val_loss</th>\n",
       "    </tr>\n",
       "  </thead>\n",
       "  <tbody>\n",
       "    <tr>\n",
       "      <th>0</th>\n",
       "      <td>experiment-05-05c-classification-dnn</td>\n",
       "      <td>run-20220820145839</td>\n",
       "      <td>system.ExperimentRun</td>\n",
       "      <td>COMPLETE</td>\n",
       "      <td>projects/1026793852137/locations/us-central1/m...</td>\n",
       "      <td>projects/1026793852137/locations/us-central1/c...</td>\n",
       "      <td>1000.0</td>\n",
       "      <td>2.0</td>\n",
       "      <td>fraud</td>\n",
       "      <td>05c</td>\n",
       "      <td>...</td>\n",
       "      <td>0.999382</td>\n",
       "      <td>0.999256</td>\n",
       "      <td>0.003817</td>\n",
       "      <td>0.999580</td>\n",
       "      <td>0.999373</td>\n",
       "      <td>0.003501</td>\n",
       "      <td>0.999256</td>\n",
       "      <td>0.999686</td>\n",
       "      <td>0.999762</td>\n",
       "      <td>0.004752</td>\n",
       "    </tr>\n",
       "    <tr>\n",
       "      <th>0</th>\n",
       "      <td>experiment-05-05b-classification-dnn</td>\n",
       "      <td>run-20220820135734</td>\n",
       "      <td>system.ExperimentRun</td>\n",
       "      <td>COMPLETE</td>\n",
       "      <td>projects/1026793852137/locations/us-central1/m...</td>\n",
       "      <td>projects/1026793852137/locations/us-central1/c...</td>\n",
       "      <td>1000.0</td>\n",
       "      <td>2.0</td>\n",
       "      <td>fraud</td>\n",
       "      <td>05b</td>\n",
       "      <td>...</td>\n",
       "      <td>0.999426</td>\n",
       "      <td>0.999398</td>\n",
       "      <td>0.003640</td>\n",
       "      <td>0.999576</td>\n",
       "      <td>0.999399</td>\n",
       "      <td>0.003174</td>\n",
       "      <td>0.999398</td>\n",
       "      <td>0.999692</td>\n",
       "      <td>0.999530</td>\n",
       "      <td>0.005067</td>\n",
       "    </tr>\n",
       "    <tr>\n",
       "      <th>0</th>\n",
       "      <td>experiment-05-05a-classification-dnn</td>\n",
       "      <td>run-20220819202407</td>\n",
       "      <td>system.ExperimentRun</td>\n",
       "      <td>COMPLETE</td>\n",
       "      <td>projects/1026793852137/locations/us-central1/m...</td>\n",
       "      <td>projects/1026793852137/locations/us-central1/c...</td>\n",
       "      <td>1000.0</td>\n",
       "      <td>2.0</td>\n",
       "      <td>fraud</td>\n",
       "      <td>05a</td>\n",
       "      <td>...</td>\n",
       "      <td>0.999399</td>\n",
       "      <td>0.999256</td>\n",
       "      <td>0.003784</td>\n",
       "      <td>0.999587</td>\n",
       "      <td>0.999360</td>\n",
       "      <td>0.003388</td>\n",
       "      <td>0.999256</td>\n",
       "      <td>0.999703</td>\n",
       "      <td>0.999624</td>\n",
       "      <td>0.005430</td>\n",
       "    </tr>\n",
       "    <tr>\n",
       "      <th>1</th>\n",
       "      <td>experiment-05-05a-classification-dnn</td>\n",
       "      <td>run-20220819200415</td>\n",
       "      <td>system.ExperimentRun</td>\n",
       "      <td>COMPLETE</td>\n",
       "      <td>projects/1026793852137/locations/us-central1/m...</td>\n",
       "      <td>projects/1026793852137/locations/us-central1/c...</td>\n",
       "      <td>1000.0</td>\n",
       "      <td>2.0</td>\n",
       "      <td>fraud</td>\n",
       "      <td>05a</td>\n",
       "      <td>...</td>\n",
       "      <td>0.999434</td>\n",
       "      <td>0.999292</td>\n",
       "      <td>0.003726</td>\n",
       "      <td>0.999592</td>\n",
       "      <td>0.999430</td>\n",
       "      <td>0.003390</td>\n",
       "      <td>0.999292</td>\n",
       "      <td>0.999692</td>\n",
       "      <td>0.999577</td>\n",
       "      <td>0.005310</td>\n",
       "    </tr>\n",
       "    <tr>\n",
       "      <th>0</th>\n",
       "      <td>experiment-05-05-classification-dnn</td>\n",
       "      <td>run-20220820134653</td>\n",
       "      <td>system.ExperimentRun</td>\n",
       "      <td>COMPLETE</td>\n",
       "      <td>projects/1026793852137/locations/us-central1/m...</td>\n",
       "      <td>NaN</td>\n",
       "      <td>1000.0</td>\n",
       "      <td>2.0</td>\n",
       "      <td>fraud</td>\n",
       "      <td>05</td>\n",
       "      <td>...</td>\n",
       "      <td>0.999360</td>\n",
       "      <td>0.999221</td>\n",
       "      <td>0.005110</td>\n",
       "      <td>0.999446</td>\n",
       "      <td>0.999329</td>\n",
       "      <td>0.004197</td>\n",
       "      <td>0.999221</td>\n",
       "      <td>0.999619</td>\n",
       "      <td>0.999388</td>\n",
       "      <td>0.006359</td>\n",
       "    </tr>\n",
       "    <tr>\n",
       "      <th>1</th>\n",
       "      <td>experiment-05-05-classification-dnn</td>\n",
       "      <td>run-20220819201639</td>\n",
       "      <td>system.ExperimentRun</td>\n",
       "      <td>COMPLETE</td>\n",
       "      <td>projects/1026793852137/locations/us-central1/m...</td>\n",
       "      <td>NaN</td>\n",
       "      <td>1000.0</td>\n",
       "      <td>2.0</td>\n",
       "      <td>fraud</td>\n",
       "      <td>05</td>\n",
       "      <td>...</td>\n",
       "      <td>0.999233</td>\n",
       "      <td>0.999115</td>\n",
       "      <td>0.005703</td>\n",
       "      <td>0.999418</td>\n",
       "      <td>0.999136</td>\n",
       "      <td>0.004978</td>\n",
       "      <td>0.999115</td>\n",
       "      <td>0.999557</td>\n",
       "      <td>0.999384</td>\n",
       "      <td>0.006003</td>\n",
       "    </tr>\n",
       "    <tr>\n",
       "      <th>2</th>\n",
       "      <td>experiment-05-05-classification-dnn</td>\n",
       "      <td>run-20220819200009</td>\n",
       "      <td>system.ExperimentRun</td>\n",
       "      <td>COMPLETE</td>\n",
       "      <td>projects/1026793852137/locations/us-central1/m...</td>\n",
       "      <td>NaN</td>\n",
       "      <td>1000.0</td>\n",
       "      <td>2.0</td>\n",
       "      <td>fraud</td>\n",
       "      <td>05</td>\n",
       "      <td>...</td>\n",
       "      <td>0.999382</td>\n",
       "      <td>0.999221</td>\n",
       "      <td>0.005540</td>\n",
       "      <td>0.999372</td>\n",
       "      <td>0.999277</td>\n",
       "      <td>0.004442</td>\n",
       "      <td>0.999221</td>\n",
       "      <td>0.999562</td>\n",
       "      <td>0.999342</td>\n",
       "      <td>0.006728</td>\n",
       "    </tr>\n",
       "  </tbody>\n",
       "</table>\n",
       "<p>7 rows × 39 columns</p>\n",
       "</div>"
      ],
      "text/plain": [
       "                        experiment_name            run_name  \\\n",
       "0  experiment-05-05c-classification-dnn  run-20220820145839   \n",
       "0  experiment-05-05b-classification-dnn  run-20220820135734   \n",
       "0  experiment-05-05a-classification-dnn  run-20220819202407   \n",
       "1  experiment-05-05a-classification-dnn  run-20220819200415   \n",
       "0   experiment-05-05-classification-dnn  run-20220820134653   \n",
       "1   experiment-05-05-classification-dnn  run-20220819201639   \n",
       "2   experiment-05-05-classification-dnn  run-20220819200009   \n",
       "\n",
       "               run_type     state  \\\n",
       "0  system.ExperimentRun  COMPLETE   \n",
       "0  system.ExperimentRun  COMPLETE   \n",
       "0  system.ExperimentRun  COMPLETE   \n",
       "1  system.ExperimentRun  COMPLETE   \n",
       "0  system.ExperimentRun  COMPLETE   \n",
       "1  system.ExperimentRun  COMPLETE   \n",
       "2  system.ExperimentRun  COMPLETE   \n",
       "\n",
       "                 param.MODEL_VERSIONED_RESOURCE_NAME  \\\n",
       "0  projects/1026793852137/locations/us-central1/m...   \n",
       "0  projects/1026793852137/locations/us-central1/m...   \n",
       "0  projects/1026793852137/locations/us-central1/m...   \n",
       "1  projects/1026793852137/locations/us-central1/m...   \n",
       "0  projects/1026793852137/locations/us-central1/m...   \n",
       "1  projects/1026793852137/locations/us-central1/m...   \n",
       "2  projects/1026793852137/locations/us-central1/m...   \n",
       "\n",
       "                             param.job.resource_name  param.SHUFFLE  \\\n",
       "0  projects/1026793852137/locations/us-central1/c...         1000.0   \n",
       "0  projects/1026793852137/locations/us-central1/c...         1000.0   \n",
       "0  projects/1026793852137/locations/us-central1/c...         1000.0   \n",
       "1  projects/1026793852137/locations/us-central1/c...         1000.0   \n",
       "0                                                NaN         1000.0   \n",
       "1                                                NaN         1000.0   \n",
       "2                                                NaN         1000.0   \n",
       "\n",
       "   param.nclasses param.DATANAME param.NOTEBOOK  ... metric.train_accuracy  \\\n",
       "0             2.0          fraud            05c  ...              0.999382   \n",
       "0             2.0          fraud            05b  ...              0.999426   \n",
       "0             2.0          fraud            05a  ...              0.999399   \n",
       "1             2.0          fraud            05a  ...              0.999434   \n",
       "0             2.0          fraud             05  ...              0.999360   \n",
       "1             2.0          fraud             05  ...              0.999233   \n",
       "2             2.0          fraud             05  ...              0.999382   \n",
       "\n",
       "  metric.val_accuracy  metric.train_loss metric.train_auprc  \\\n",
       "0            0.999256           0.003817           0.999580   \n",
       "0            0.999398           0.003640           0.999576   \n",
       "0            0.999256           0.003784           0.999587   \n",
       "1            0.999292           0.003726           0.999592   \n",
       "0            0.999221           0.005110           0.999446   \n",
       "1            0.999115           0.005703           0.999418   \n",
       "2            0.999221           0.005540           0.999372   \n",
       "\n",
       "  time_series_metric.train_accuracy time_series_metric.train_loss  \\\n",
       "0                          0.999373                      0.003501   \n",
       "0                          0.999399                      0.003174   \n",
       "0                          0.999360                      0.003388   \n",
       "1                          0.999430                      0.003390   \n",
       "0                          0.999329                      0.004197   \n",
       "1                          0.999136                      0.004978   \n",
       "2                          0.999277                      0.004442   \n",
       "\n",
       "   time_series_metric.val_accuracy time_series_metric.train_auprc  \\\n",
       "0                         0.999256                       0.999686   \n",
       "0                         0.999398                       0.999692   \n",
       "0                         0.999256                       0.999703   \n",
       "1                         0.999292                       0.999692   \n",
       "0                         0.999221                       0.999619   \n",
       "1                         0.999115                       0.999557   \n",
       "2                         0.999221                       0.999562   \n",
       "\n",
       "  time_series_metric.val_auprc time_series_metric.val_loss  \n",
       "0                     0.999762                    0.004752  \n",
       "0                     0.999530                    0.005067  \n",
       "0                     0.999624                    0.005430  \n",
       "1                     0.999577                    0.005310  \n",
       "0                     0.999388                    0.006359  \n",
       "1                     0.999384                    0.006003  \n",
       "2                     0.999342                    0.006728  \n",
       "\n",
       "[7 rows x 39 columns]"
      ]
     },
     "execution_count": 150,
     "metadata": {},
     "output_type": "execute_result"
    }
   ],
   "source": [
    "results"
   ]
  },
  {
   "cell_type": "markdown",
   "id": "f17af425-083e-400b-8d25-1127f72200b0",
   "metadata": {},
   "source": [
    "Get Links to all Experiment Runs with Vertex AI Training Jobs:\n",
    "- Link to Job\n",
    "- Link to TensorBoard for Job"
   ]
  },
  {
   "cell_type": "code",
   "execution_count": 151,
   "id": "9fad15cf-a6ff-43e9-bd13-3c31271e66f6",
   "metadata": {},
   "outputs": [
    {
     "data": {
      "text/html": [
       "<table border=\"1\" class=\"dataframe\">\n",
       "  <thead>\n",
       "    <tr style=\"text-align: right;\">\n",
       "      <th></th>\n",
       "      <th>experiment_name</th>\n",
       "      <th>run_name</th>\n",
       "      <th>param.job.resource_name</th>\n",
       "      <th>param.job.board_link</th>\n",
       "      <th>param.job.display_name</th>\n",
       "      <th>param.job.job_link</th>\n",
       "      <th>param.job.type</th>\n",
       "    </tr>\n",
       "  </thead>\n",
       "  <tbody>\n",
       "    <tr>\n",
       "      <th>0</th>\n",
       "      <td>experiment-05-05c-classification-dnn</td>\n",
       "      <td>run-20220820145839</td>\n",
       "      <td>projects/1026793852137/locations/us-central1/customJobs/678650737378459648</td>\n",
       "      <td><a href=\"https://us-central1.tensorboard.googleusercontent.com/experiment/projects+1026793852137+locations+us-central1+tensorboards+4204796347406090240+experiments+678650737378459648\" target=\"_blank\">https://us-central1.tensorboard.googleusercontent.com/experiment/projects+1026793852137+locations+us-central1+tensorboards+4204796347406090240+experiments+678650737378459648</a></td>\n",
       "      <td>05c_fraud_20220820145839</td>\n",
       "      <td><a href=\"https://console.cloud.google.com/vertex-ai/locations/us-central1/training/678650737378459648/cpu?cloudshell=false&project=statmike-mlops-349915\" target=\"_blank\">https://console.cloud.google.com/vertex-ai/locations/us-central1/training/678650737378459648/cpu?cloudshell=false&project=statmike-mlops-349915</a></td>\n",
       "      <td>aiplatform.CustomJob.from_local_script()</td>\n",
       "    </tr>\n",
       "    <tr>\n",
       "      <th>0</th>\n",
       "      <td>experiment-05-05b-classification-dnn</td>\n",
       "      <td>run-20220820135734</td>\n",
       "      <td>projects/1026793852137/locations/us-central1/customJobs/5835835260671098880</td>\n",
       "      <td><a href=\"https://us-central1.tensorboard.googleusercontent.com/experiment/projects+1026793852137+locations+us-central1+tensorboards+4204796347406090240+experiments+5835835260671098880\" target=\"_blank\">https://us-central1.tensorboard.googleusercontent.com/experiment/projects+1026793852137+locations+us-central1+tensorboards+4204796347406090240+experiments+5835835260671098880</a></td>\n",
       "      <td>05b_fraud_20220820135734</td>\n",
       "      <td><a href=\"https://console.cloud.google.com/vertex-ai/locations/us-central1/training/5835835260671098880/cpu?cloudshell=false&project=statmike-mlops-349915\" target=\"_blank\">https://console.cloud.google.com/vertex-ai/locations/us-central1/training/5835835260671098880/cpu?cloudshell=false&project=statmike-mlops-349915</a></td>\n",
       "      <td>aiplatform.CustomJob.from_local_script()</td>\n",
       "    </tr>\n",
       "    <tr>\n",
       "      <th>0</th>\n",
       "      <td>experiment-05-05a-classification-dnn</td>\n",
       "      <td>run-20220819202407</td>\n",
       "      <td>projects/1026793852137/locations/us-central1/customJobs/9194368294503579648</td>\n",
       "      <td><a href=\"https://us-central1.tensorboard.googleusercontent.com/experiment/projects+1026793852137+locations+us-central1+tensorboards+4204796347406090240+experiments+9194368294503579648\" target=\"_blank\">https://us-central1.tensorboard.googleusercontent.com/experiment/projects+1026793852137+locations+us-central1+tensorboards+4204796347406090240+experiments+9194368294503579648</a></td>\n",
       "      <td>05a_fraud_20220819202407</td>\n",
       "      <td><a href=\"https://console.cloud.google.com/vertex-ai/locations/us-central1/training/9194368294503579648/cpu?cloudshell=false&project=statmike-mlops-349915\" target=\"_blank\">https://console.cloud.google.com/vertex-ai/locations/us-central1/training/9194368294503579648/cpu?cloudshell=false&project=statmike-mlops-349915</a></td>\n",
       "      <td>aiplatform.CustomJob.from_local_script()</td>\n",
       "    </tr>\n",
       "    <tr>\n",
       "      <th>1</th>\n",
       "      <td>experiment-05-05a-classification-dnn</td>\n",
       "      <td>run-20220819200415</td>\n",
       "      <td>projects/1026793852137/locations/us-central1/customJobs/8012173392318824448</td>\n",
       "      <td><a href=\"https://us-central1.tensorboard.googleusercontent.com/experiment/projects+1026793852137+locations+us-central1+tensorboards+4204796347406090240+experiments+8012173392318824448\" target=\"_blank\">https://us-central1.tensorboard.googleusercontent.com/experiment/projects+1026793852137+locations+us-central1+tensorboards+4204796347406090240+experiments+8012173392318824448</a></td>\n",
       "      <td>05a_fraud_20220819200415</td>\n",
       "      <td><a href=\"https://console.cloud.google.com/vertex-ai/locations/us-central1/training/8012173392318824448/cpu?cloudshell=false&project=statmike-mlops-349915\" target=\"_blank\">https://console.cloud.google.com/vertex-ai/locations/us-central1/training/8012173392318824448/cpu?cloudshell=false&project=statmike-mlops-349915</a></td>\n",
       "      <td>aiplatform.CustomJob.from_local_script()</td>\n",
       "    </tr>\n",
       "    <tr>\n",
       "      <th>0</th>\n",
       "      <td>experiment-05-05-classification-dnn</td>\n",
       "      <td>run-20220820134653</td>\n",
       "      <td>NaN</td>\n",
       "      <td>NaN</td>\n",
       "      <td>NaN</td>\n",
       "      <td>NaN</td>\n",
       "      <td>NaN</td>\n",
       "    </tr>\n",
       "    <tr>\n",
       "      <th>1</th>\n",
       "      <td>experiment-05-05-classification-dnn</td>\n",
       "      <td>run-20220819201639</td>\n",
       "      <td>NaN</td>\n",
       "      <td>NaN</td>\n",
       "      <td>NaN</td>\n",
       "      <td>NaN</td>\n",
       "      <td>NaN</td>\n",
       "    </tr>\n",
       "    <tr>\n",
       "      <th>2</th>\n",
       "      <td>experiment-05-05-classification-dnn</td>\n",
       "      <td>run-20220819200009</td>\n",
       "      <td>NaN</td>\n",
       "      <td>NaN</td>\n",
       "      <td>NaN</td>\n",
       "      <td>NaN</td>\n",
       "      <td>NaN</td>\n",
       "    </tr>\n",
       "  </tbody>\n",
       "</table>"
      ],
      "text/plain": [
       "<IPython.core.display.HTML object>"
      ]
     },
     "execution_count": 151,
     "metadata": {},
     "output_type": "execute_result"
    }
   ],
   "source": [
    "# just names and job* columns\n",
    "mask = results.columns.str.startswith('param.job')\n",
    "mask[0:2] = True\n",
    "HTML(results.loc[:,mask].to_html(render_links=True, escape=False))"
   ]
  },
  {
   "cell_type": "markdown",
   "id": "a7f8bfc3-e286-4fda-b99b-61bb898e8a7c",
   "metadata": {},
   "source": [
    "### Hyperlinks To TensorBoard for Experiments and Comparison Of All Experiments"
   ]
  },
  {
   "cell_type": "markdown",
   "id": "542be31a-45b2-4079-b3bf-751ddd41af83",
   "metadata": {},
   "source": [
    "Get a hyperlink to the TensorBoard for each experiment:"
   ]
  },
  {
   "cell_type": "code",
   "execution_count": 152,
   "id": "e501b65e-46f4-40e8-994f-65c0effe40a8",
   "metadata": {},
   "outputs": [],
   "source": [
    "tensorboards = []\n",
    "for experiment in experiments:\n",
    "    tboard = experiment.get_backing_tensorboard_resource().resource_name.replace('/', '+')\n",
    "    tensorboards.append([experiment.name, f\"https://{REGION}.tensorboard.googleusercontent.com/experiment/{tboard}+experiments+{experiment.name}\"])\n",
    "tensorboards = pd.DataFrame(tensorboards, columns = ['Experiment', 'TensorBoard Link'])    "
   ]
  },
  {
   "cell_type": "code",
   "execution_count": 153,
   "id": "a3b24a34-560c-4d0f-8a37-97e9c0cfe82d",
   "metadata": {},
   "outputs": [
    {
     "data": {
      "text/html": [
       "<table border=\"1\" class=\"dataframe\">\n",
       "  <thead>\n",
       "    <tr style=\"text-align: right;\">\n",
       "      <th></th>\n",
       "      <th>Experiment</th>\n",
       "      <th>TensorBoard Link</th>\n",
       "    </tr>\n",
       "  </thead>\n",
       "  <tbody>\n",
       "    <tr>\n",
       "      <th>0</th>\n",
       "      <td>experiment-05-05c-classification-dnn</td>\n",
       "      <td><a href=\"https://us-central1.tensorboard.googleusercontent.com/experiment/projects+1026793852137+locations+us-central1+tensorboards+4204796347406090240+experiments+experiment-05-05c-classification-dnn\" target=\"_blank\">https://us-central1.tensorboard.googleusercontent.com/experiment/projects+1026793852137+locations+us-central1+tensorboards+4204796347406090240+experiments+experiment-05-05c-classification-dnn</a></td>\n",
       "    </tr>\n",
       "    <tr>\n",
       "      <th>1</th>\n",
       "      <td>experiment-05-05b-classification-dnn</td>\n",
       "      <td><a href=\"https://us-central1.tensorboard.googleusercontent.com/experiment/projects+1026793852137+locations+us-central1+tensorboards+4204796347406090240+experiments+experiment-05-05b-classification-dnn\" target=\"_blank\">https://us-central1.tensorboard.googleusercontent.com/experiment/projects+1026793852137+locations+us-central1+tensorboards+4204796347406090240+experiments+experiment-05-05b-classification-dnn</a></td>\n",
       "    </tr>\n",
       "    <tr>\n",
       "      <th>2</th>\n",
       "      <td>experiment-05-05a-classification-dnn</td>\n",
       "      <td><a href=\"https://us-central1.tensorboard.googleusercontent.com/experiment/projects+1026793852137+locations+us-central1+tensorboards+4204796347406090240+experiments+experiment-05-05a-classification-dnn\" target=\"_blank\">https://us-central1.tensorboard.googleusercontent.com/experiment/projects+1026793852137+locations+us-central1+tensorboards+4204796347406090240+experiments+experiment-05-05a-classification-dnn</a></td>\n",
       "    </tr>\n",
       "    <tr>\n",
       "      <th>3</th>\n",
       "      <td>experiment-05-05-classification-dnn</td>\n",
       "      <td><a href=\"https://us-central1.tensorboard.googleusercontent.com/experiment/projects+1026793852137+locations+us-central1+tensorboards+4204796347406090240+experiments+experiment-05-05-classification-dnn\" target=\"_blank\">https://us-central1.tensorboard.googleusercontent.com/experiment/projects+1026793852137+locations+us-central1+tensorboards+4204796347406090240+experiments+experiment-05-05-classification-dnn</a></td>\n",
       "    </tr>\n",
       "  </tbody>\n",
       "</table>"
      ],
      "text/plain": [
       "<IPython.core.display.HTML object>"
      ]
     },
     "execution_count": 153,
     "metadata": {},
     "output_type": "execute_result"
    }
   ],
   "source": [
    "HTML(tensorboards.to_html(render_links=True, escape=False))"
   ]
  },
  {
   "cell_type": "markdown",
   "id": "b49113e1-5732-4756-a33e-71ce4e433122",
   "metadata": {},
   "source": [
    "Compare all experiments in SERIES with TensorBoard:"
   ]
  },
  {
   "cell_type": "code",
   "execution_count": 154,
   "id": "436d71a6-c458-49f3-9e43-e6b749bbeb3e",
   "metadata": {},
   "outputs": [
    {
     "name": "stdout",
     "output_type": "stream",
     "text": [
      "https://us-central1.tensorboard.googleusercontent.com/compare/1-experiment-05-05c-classification-dnn:1026793852137+us-central1+4204796347406090240+experiment-05-05c-classification-dnn,2-experiment-05-05b-classification-dnn:1026793852137+us-central1+4204796347406090240+experiment-05-05b-classification-dnn,3-experiment-05-05a-classification-dnn:1026793852137+us-central1+4204796347406090240+experiment-05-05a-classification-dnn,4-experiment-05-05-classification-dnn:1026793852137+us-central1+4204796347406090240+experiment-05-05-classification-dnn\n"
     ]
    }
   ],
   "source": [
    "compare_link = f\"https://{REGION}.tensorboard.googleusercontent.com/compare/\"\n",
    "for e, experiment in enumerate(experiments):\n",
    "    if e>0: compare_link += ','\n",
    "    tboard = experiment.get_backing_tensorboard_resource().resource_name.split('/')\n",
    "    compare_link += f\"{e+1}-{experiment.name}:{'+'.join(tboard[1::2])}+{experiment.name}\"\n",
    "print(compare_link)"
   ]
  },
  {
   "cell_type": "code",
   "execution_count": null,
   "id": "e732e01c-c76a-4f79-ad17-fe39a22dd436",
   "metadata": {},
   "outputs": [],
   "source": []
  }
 ],
 "metadata": {
  "environment": {
   "kernel": "python3",
   "name": "tf2-gpu.2-3.m94",
   "type": "gcloud",
   "uri": "gcr.io/deeplearning-platform-release/tf2-gpu.2-3:m94"
  },
  "kernelspec": {
   "display_name": "Python 3",
   "language": "python",
   "name": "python3"
  },
  "language_info": {
   "codemirror_mode": {
    "name": "ipython",
    "version": 3
   },
   "file_extension": ".py",
   "mimetype": "text/x-python",
   "name": "python",
   "nbconvert_exporter": "python",
   "pygments_lexer": "ipython3",
   "version": "3.7.12"
  }
 },
 "nbformat": 4,
 "nbformat_minor": 5
}
