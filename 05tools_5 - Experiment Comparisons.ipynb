{
 "cells": [
  {
   "cell_type": "markdown",
   "id": "224440e7-4d7b-4ae8-8fbc-fbd2151e1cd0",
   "metadata": {},
   "source": [
    "# 05tools_4: Experiment Comparisons\n",
    "\n",
    "Use the Python client to retrieve and compare experiments from this series"
   ]
  },
  {
   "cell_type": "code",
   "execution_count": null,
   "id": "acc5ccc1-3862-4a20-bd24-79e17d646656",
   "metadata": {},
   "outputs": [],
   "source": [
    "# create an experiment from experiments, even picking the winner from hyperparamter tuning experiments"
   ]
  },
  {
   "cell_type": "code",
   "execution_count": null,
   "id": "8429ee3d-43b0-4047-8705-8c0e60afbfff",
   "metadata": {},
   "outputs": [],
   "source": []
  },
  {
   "cell_type": "code",
   "execution_count": null,
   "id": "9d4591d3-1136-410f-a39d-800f8776e726",
   "metadata": {},
   "outputs": [],
   "source": []
  },
  {
   "cell_type": "code",
   "execution_count": null,
   "id": "a9decc85-2ae6-4a98-9a53-16356eaf0d08",
   "metadata": {},
   "outputs": [],
   "source": []
  },
  {
   "cell_type": "code",
   "execution_count": null,
   "id": "0b059bea-8880-4082-b034-b0e136242b3b",
   "metadata": {},
   "outputs": [],
   "source": []
  },
  {
   "cell_type": "code",
   "execution_count": null,
   "id": "e9660240-0c41-4834-992f-1568164e3b04",
   "metadata": {},
   "outputs": [],
   "source": []
  }
 ],
 "metadata": {
  "environment": {
   "kernel": "python3",
   "name": "tf2-gpu.2-3.m94",
   "type": "gcloud",
   "uri": "gcr.io/deeplearning-platform-release/tf2-gpu.2-3:m94"
  },
  "kernelspec": {
   "display_name": "Python 3",
   "language": "python",
   "name": "python3"
  },
  "language_info": {
   "codemirror_mode": {
    "name": "ipython",
    "version": 3
   },
   "file_extension": ".py",
   "mimetype": "text/x-python",
   "name": "python",
   "nbconvert_exporter": "python",
   "pygments_lexer": "ipython3",
   "version": "3.7.12"
  }
 },
 "nbformat": 4,
 "nbformat_minor": 5
}
