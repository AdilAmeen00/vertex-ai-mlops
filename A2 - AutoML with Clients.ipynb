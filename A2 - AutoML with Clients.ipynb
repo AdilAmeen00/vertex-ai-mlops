{
 "cells": [
  {
   "cell_type": "markdown",
   "id": "1a6aaf92",
   "metadata": {},
   "source": [
    "# AutoML with Vertex AI - Python Clients\n",
    "\n",
    "This notebook uses Python Clients for Vertex AI to recreate this workflow:\n",
    "- create a Dataset linked to BigQuery table\n",
    "- Train an AutoML model for the Dataset\n",
    "- Deploy the Model to and Endpoint\n",
    "- Create Batch Predictions\n",
    "- Create Online Predictions\n",
    "\n",
    "**Prerequisites**\n",
    "- `00 - Initial Setup`\n",
    "\n",
    "**Resources**\n",
    "- API: https://googleapis.dev/python/aiplatform/latest/aiplatform.html\n",
    "\n",
    "**Overview**\n",
    "\n",
    "<img src=\"architectures/statmike-mlops-A2.png\">"
   ]
  },
  {
   "cell_type": "markdown",
   "id": "fc2e4639",
   "metadata": {},
   "source": [
    "---\n",
    "## Setup"
   ]
  },
  {
   "cell_type": "markdown",
   "id": "08c41637",
   "metadata": {},
   "source": [
    "Import Libraries"
   ]
  },
  {
   "cell_type": "code",
   "execution_count": 1,
   "id": "5c627941",
   "metadata": {},
   "outputs": [],
   "source": [
    "from google.cloud import aiplatform"
   ]
  },
  {
   "cell_type": "markdown",
   "id": "3dd561be",
   "metadata": {},
   "source": [
    "Parameters"
   ]
  },
  {
   "cell_type": "code",
   "execution_count": 2,
   "id": "23b097f9",
   "metadata": {},
   "outputs": [],
   "source": [
    "# Locations\n",
    "REGION = 'us-central1'\n",
    "PROJECT_ID='statmike-mlops'\n",
    "PARENT = \"projects/\" + PROJECT_ID + \"/locations/\" + REGION\n",
    "\n",
    "# current time to help with unique resource labeling\n",
    "from datetime import datetime\n",
    "TIMESTAMP = datetime.now().strftime(\"%Y%m%d%H%M%S\")"
   ]
  },
  {
   "cell_type": "code",
   "execution_count": 3,
   "id": "e07bf93b",
   "metadata": {},
   "outputs": [],
   "source": [
    "aiplatform.init(project=PROJECT_ID, location=REGION)"
   ]
  },
  {
   "cell_type": "markdown",
   "id": "54891fba",
   "metadata": {},
   "source": [
    "---\n",
    "## Create Dataset (link to BigQuery table)"
   ]
  },
  {
   "cell_type": "code",
   "execution_count": 5,
   "id": "d12c30a4",
   "metadata": {},
   "outputs": [
    {
     "name": "stdout",
     "output_type": "stream",
     "text": [
      "INFO:google.cloud.aiplatform.datasets.dataset:Creating TabularDataset\n",
      "INFO:google.cloud.aiplatform.datasets.dataset:Create TabularDataset backing LRO: projects/691911073727/locations/us-central1/datasets/3579561259294523392/operations/5385608338841010176\n",
      "INFO:google.cloud.aiplatform.datasets.dataset:TabularDataset created. Resource name: projects/691911073727/locations/us-central1/datasets/3579561259294523392\n",
      "INFO:google.cloud.aiplatform.datasets.dataset:To use this TabularDataset in another session:\n",
      "INFO:google.cloud.aiplatform.datasets.dataset:ds = aiplatform.TabularDataset('projects/691911073727/locations/us-central1/datasets/3579561259294523392')\n"
     ]
    }
   ],
   "source": [
    "# dataset\n",
    "dataset = aiplatform.TabularDataset.create(display_name='bq_digits_code', bq_source='bq://statmike-mlops.digits.digits_source')"
   ]
  },
  {
   "cell_type": "markdown",
   "id": "c4b05c40",
   "metadata": {},
   "source": [
    "---\n",
    "## Train Model with AutoML"
   ]
  },
  {
   "cell_type": "code",
   "execution_count": 27,
   "id": "d10a1cda",
   "metadata": {},
   "outputs": [],
   "source": [
    "#automl model\n",
    "transformations = []\n",
    "\n",
    "for i in range(64):\n",
    "    transformations.append({'auto': {'column_name': 'p'+str(i)}})"
   ]
  },
  {
   "cell_type": "code",
   "execution_count": 28,
   "id": "6c5771aa",
   "metadata": {},
   "outputs": [],
   "source": [
    "tabular_classification_job = aiplatform.AutoMLTabularTrainingJob(display_name='bq_digits_code_'+TIMESTAMP, optimization_prediction_type = 'classification', column_transformations=transformations)"
   ]
  },
  {
   "cell_type": "code",
   "execution_count": 29,
   "id": "b643a3a7",
   "metadata": {},
   "outputs": [
    {
     "name": "stdout",
     "output_type": "stream",
     "text": [
      "INFO:google.cloud.aiplatform.training_jobs:View Training:\n",
      "https://console.cloud.google.com/ai/platform/locations/us-central1/training/3915092625673158656?project=691911073727\n",
      "INFO:google.cloud.aiplatform.training_jobs:AutoMLTabularTrainingJob projects/691911073727/locations/us-central1/trainingPipelines/3915092625673158656 current state:\n",
      "PipelineState.PIPELINE_STATE_RUNNING\n",
      "INFO:google.cloud.aiplatform.training_jobs:AutoMLTabularTrainingJob projects/691911073727/locations/us-central1/trainingPipelines/3915092625673158656 current state:\n",
      "PipelineState.PIPELINE_STATE_RUNNING\n",
      "INFO:google.cloud.aiplatform.training_jobs:AutoMLTabularTrainingJob projects/691911073727/locations/us-central1/trainingPipelines/3915092625673158656 current state:\n",
      "PipelineState.PIPELINE_STATE_RUNNING\n",
      "INFO:google.cloud.aiplatform.training_jobs:AutoMLTabularTrainingJob projects/691911073727/locations/us-central1/trainingPipelines/3915092625673158656 current state:\n",
      "PipelineState.PIPELINE_STATE_RUNNING\n",
      "INFO:google.cloud.aiplatform.training_jobs:AutoMLTabularTrainingJob projects/691911073727/locations/us-central1/trainingPipelines/3915092625673158656 current state:\n",
      "PipelineState.PIPELINE_STATE_RUNNING\n",
      "INFO:google.cloud.aiplatform.training_jobs:AutoMLTabularTrainingJob projects/691911073727/locations/us-central1/trainingPipelines/3915092625673158656 current state:\n",
      "PipelineState.PIPELINE_STATE_RUNNING\n",
      "INFO:google.cloud.aiplatform.training_jobs:AutoMLTabularTrainingJob projects/691911073727/locations/us-central1/trainingPipelines/3915092625673158656 current state:\n",
      "PipelineState.PIPELINE_STATE_RUNNING\n",
      "INFO:google.cloud.aiplatform.training_jobs:AutoMLTabularTrainingJob projects/691911073727/locations/us-central1/trainingPipelines/3915092625673158656 current state:\n",
      "PipelineState.PIPELINE_STATE_RUNNING\n",
      "INFO:google.cloud.aiplatform.training_jobs:AutoMLTabularTrainingJob projects/691911073727/locations/us-central1/trainingPipelines/3915092625673158656 current state:\n",
      "PipelineState.PIPELINE_STATE_RUNNING\n",
      "INFO:google.cloud.aiplatform.training_jobs:AutoMLTabularTrainingJob projects/691911073727/locations/us-central1/trainingPipelines/3915092625673158656 current state:\n",
      "PipelineState.PIPELINE_STATE_RUNNING\n",
      "INFO:google.cloud.aiplatform.training_jobs:AutoMLTabularTrainingJob projects/691911073727/locations/us-central1/trainingPipelines/3915092625673158656 current state:\n",
      "PipelineState.PIPELINE_STATE_RUNNING\n",
      "INFO:google.cloud.aiplatform.training_jobs:AutoMLTabularTrainingJob projects/691911073727/locations/us-central1/trainingPipelines/3915092625673158656 current state:\n",
      "PipelineState.PIPELINE_STATE_RUNNING\n",
      "INFO:google.cloud.aiplatform.training_jobs:AutoMLTabularTrainingJob projects/691911073727/locations/us-central1/trainingPipelines/3915092625673158656 current state:\n",
      "PipelineState.PIPELINE_STATE_RUNNING\n",
      "INFO:google.cloud.aiplatform.training_jobs:AutoMLTabularTrainingJob projects/691911073727/locations/us-central1/trainingPipelines/3915092625673158656 current state:\n",
      "PipelineState.PIPELINE_STATE_RUNNING\n",
      "INFO:google.cloud.aiplatform.training_jobs:AutoMLTabularTrainingJob projects/691911073727/locations/us-central1/trainingPipelines/3915092625673158656 current state:\n",
      "PipelineState.PIPELINE_STATE_RUNNING\n",
      "INFO:google.cloud.aiplatform.training_jobs:AutoMLTabularTrainingJob projects/691911073727/locations/us-central1/trainingPipelines/3915092625673158656 current state:\n",
      "PipelineState.PIPELINE_STATE_RUNNING\n",
      "INFO:google.cloud.aiplatform.training_jobs:AutoMLTabularTrainingJob projects/691911073727/locations/us-central1/trainingPipelines/3915092625673158656 current state:\n",
      "PipelineState.PIPELINE_STATE_RUNNING\n",
      "INFO:google.cloud.aiplatform.training_jobs:AutoMLTabularTrainingJob projects/691911073727/locations/us-central1/trainingPipelines/3915092625673158656 current state:\n",
      "PipelineState.PIPELINE_STATE_RUNNING\n",
      "INFO:google.cloud.aiplatform.training_jobs:AutoMLTabularTrainingJob projects/691911073727/locations/us-central1/trainingPipelines/3915092625673158656 current state:\n",
      "PipelineState.PIPELINE_STATE_RUNNING\n",
      "INFO:google.cloud.aiplatform.training_jobs:AutoMLTabularTrainingJob projects/691911073727/locations/us-central1/trainingPipelines/3915092625673158656 current state:\n",
      "PipelineState.PIPELINE_STATE_RUNNING\n",
      "INFO:google.cloud.aiplatform.training_jobs:AutoMLTabularTrainingJob projects/691911073727/locations/us-central1/trainingPipelines/3915092625673158656 current state:\n",
      "PipelineState.PIPELINE_STATE_RUNNING\n",
      "INFO:google.cloud.aiplatform.training_jobs:AutoMLTabularTrainingJob projects/691911073727/locations/us-central1/trainingPipelines/3915092625673158656 current state:\n",
      "PipelineState.PIPELINE_STATE_RUNNING\n",
      "INFO:google.cloud.aiplatform.training_jobs:AutoMLTabularTrainingJob projects/691911073727/locations/us-central1/trainingPipelines/3915092625673158656 current state:\n",
      "PipelineState.PIPELINE_STATE_RUNNING\n",
      "INFO:google.cloud.aiplatform.training_jobs:AutoMLTabularTrainingJob projects/691911073727/locations/us-central1/trainingPipelines/3915092625673158656 current state:\n",
      "PipelineState.PIPELINE_STATE_RUNNING\n",
      "INFO:google.cloud.aiplatform.training_jobs:AutoMLTabularTrainingJob projects/691911073727/locations/us-central1/trainingPipelines/3915092625673158656 current state:\n",
      "PipelineState.PIPELINE_STATE_RUNNING\n",
      "INFO:google.cloud.aiplatform.training_jobs:AutoMLTabularTrainingJob projects/691911073727/locations/us-central1/trainingPipelines/3915092625673158656 current state:\n",
      "PipelineState.PIPELINE_STATE_RUNNING\n",
      "INFO:google.cloud.aiplatform.training_jobs:AutoMLTabularTrainingJob run completed. Resource name: projects/691911073727/locations/us-central1/trainingPipelines/3915092625673158656\n",
      "INFO:google.cloud.aiplatform.training_jobs:Model available at projects/691911073727/locations/us-central1/models/6423689977095258112\n"
     ]
    }
   ],
   "source": [
    "model = tabular_classification_job.run(\n",
    "        dataset=dataset,\n",
    "        target_column='target',\n",
    "        training_fraction_split=0.8,\n",
    "        validation_fraction_split=0.1,\n",
    "        test_fraction_split=0.1,\n",
    "        budget_milli_node_hours=1000,\n",
    "        model_display_name='bq_digits_code_'+TIMESTAMP,\n",
    "        disable_early_stopping=False,\n",
    "        sync=True,\n",
    "    )"
   ]
  },
  {
   "cell_type": "markdown",
   "id": "d32b2ada",
   "metadata": {},
   "source": [
    "---\n",
    "## Endpoint and Deployment"
   ]
  },
  {
   "cell_type": "code",
   "execution_count": 36,
   "id": "ae84fc13",
   "metadata": {},
   "outputs": [
    {
     "name": "stdout",
     "output_type": "stream",
     "text": [
      "INFO:google.cloud.aiplatform.models:Creating Endpoint\n",
      "INFO:google.cloud.aiplatform.models:Create Endpoint backing LRO: projects/691911073727/locations/us-central1/endpoints/6358150287986786304/operations/732897342558044160\n",
      "INFO:google.cloud.aiplatform.models:Endpoint created. Resource name: projects/691911073727/locations/us-central1/endpoints/6358150287986786304\n",
      "INFO:google.cloud.aiplatform.models:To use this Endpoint in another session:\n",
      "INFO:google.cloud.aiplatform.models:endpoint = aiplatform.Endpoint('projects/691911073727/locations/us-central1/endpoints/6358150287986786304')\n"
     ]
    }
   ],
   "source": [
    "# endpoint\n",
    "endpoint = aiplatform.Endpoint.create(display_name='bq_digits_code_'+TIMESTAMP)"
   ]
  },
  {
   "cell_type": "code",
   "execution_count": 37,
   "id": "7e4c54e0",
   "metadata": {},
   "outputs": [
    {
     "name": "stdout",
     "output_type": "stream",
     "text": [
      "INFO:google.cloud.aiplatform.models:Deploying Model projects/691911073727/locations/us-central1/models/6423689977095258112 to Endpoint : projects/691911073727/locations/us-central1/endpoints/6358150287986786304\n",
      "INFO:google.cloud.aiplatform.models:Deploy Endpoint model backing LRO: projects/691911073727/locations/us-central1/endpoints/6358150287986786304/operations/1025631318337126400\n",
      "INFO:google.cloud.aiplatform.models:Endpoint model deployed. Resource name: projects/691911073727/locations/us-central1/endpoints/6358150287986786304\n"
     ]
    }
   ],
   "source": [
    "# deploy model to endpoint\n",
    "endpoint.deploy(\n",
    "    model=model,\n",
    "    deployed_model_display_name='bq_digits_code_DEPLOYED_'+TIMESTAMP,\n",
    "    traffic_percentage = 100,\n",
    "    machine_type = 'n1-standard-4',\n",
    "    min_replica_count = 1,\n",
    "    max_replica_count = 1,\n",
    "    sync=True\n",
    ")"
   ]
  },
  {
   "cell_type": "markdown",
   "id": "9796d54f",
   "metadata": {},
   "source": [
    "---\n",
    "## Prediction"
   ]
  },
  {
   "cell_type": "markdown",
   "id": "e6e445c5",
   "metadata": {},
   "source": [
    "### Prepare a record for prediction: instance and parameters lists"
   ]
  },
  {
   "cell_type": "code",
   "execution_count": 40,
   "id": "be41433d",
   "metadata": {},
   "outputs": [
    {
     "name": "stderr",
     "output_type": "stream",
     "text": [
      "Query complete after 0.00s: 100%|██████████| 1/1 [00:00<00:00, 422.86query/s]                          \n",
      "Downloading: 100%|██████████| 10/10 [00:01<00:00,  8.97rows/s]\n"
     ]
    }
   ],
   "source": [
    "%%bigquery pred\n",
    "SELECT *\n",
    "FROM `digits.digits_source`\n",
    "LIMIT 10"
   ]
  },
  {
   "cell_type": "code",
   "execution_count": 41,
   "id": "7ab9d924",
   "metadata": {},
   "outputs": [
    {
     "data": {
      "text/html": [
       "<div>\n",
       "<style scoped>\n",
       "    .dataframe tbody tr th:only-of-type {\n",
       "        vertical-align: middle;\n",
       "    }\n",
       "\n",
       "    .dataframe tbody tr th {\n",
       "        vertical-align: top;\n",
       "    }\n",
       "\n",
       "    .dataframe thead th {\n",
       "        text-align: right;\n",
       "    }\n",
       "</style>\n",
       "<table border=\"1\" class=\"dataframe\">\n",
       "  <thead>\n",
       "    <tr style=\"text-align: right;\">\n",
       "      <th></th>\n",
       "      <th>p0</th>\n",
       "      <th>p1</th>\n",
       "      <th>p2</th>\n",
       "      <th>p3</th>\n",
       "      <th>p4</th>\n",
       "      <th>p5</th>\n",
       "      <th>p6</th>\n",
       "      <th>p7</th>\n",
       "      <th>p8</th>\n",
       "      <th>p9</th>\n",
       "      <th>...</th>\n",
       "      <th>p56</th>\n",
       "      <th>p57</th>\n",
       "      <th>p58</th>\n",
       "      <th>p59</th>\n",
       "      <th>p60</th>\n",
       "      <th>p61</th>\n",
       "      <th>p62</th>\n",
       "      <th>p63</th>\n",
       "      <th>target</th>\n",
       "      <th>target_OE</th>\n",
       "    </tr>\n",
       "  </thead>\n",
       "  <tbody>\n",
       "    <tr>\n",
       "      <th>0</th>\n",
       "      <td>0.0</td>\n",
       "      <td>5.0</td>\n",
       "      <td>16.0</td>\n",
       "      <td>15.0</td>\n",
       "      <td>5.0</td>\n",
       "      <td>0.0</td>\n",
       "      <td>0.0</td>\n",
       "      <td>0.0</td>\n",
       "      <td>0.0</td>\n",
       "      <td>2.0</td>\n",
       "      <td>...</td>\n",
       "      <td>0.0</td>\n",
       "      <td>6.0</td>\n",
       "      <td>16.0</td>\n",
       "      <td>16.0</td>\n",
       "      <td>16.0</td>\n",
       "      <td>16.0</td>\n",
       "      <td>7.0</td>\n",
       "      <td>0.0</td>\n",
       "      <td>2</td>\n",
       "      <td>Even</td>\n",
       "    </tr>\n",
       "  </tbody>\n",
       "</table>\n",
       "<p>1 rows × 66 columns</p>\n",
       "</div>"
      ],
      "text/plain": [
       "    p0   p1    p2    p3   p4   p5   p6   p7   p8   p9  ...  p56  p57   p58  \\\n",
       "0  0.0  5.0  16.0  15.0  5.0  0.0  0.0  0.0  0.0  2.0  ...  0.0  6.0  16.0   \n",
       "\n",
       "    p59   p60   p61  p62  p63  target  target_OE  \n",
       "0  16.0  16.0  16.0  7.0  0.0       2       Even  \n",
       "\n",
       "[1 rows x 66 columns]"
      ]
     },
     "execution_count": 41,
     "metadata": {},
     "output_type": "execute_result"
    }
   ],
   "source": [
    "pred.head(1)"
   ]
  },
  {
   "cell_type": "code",
   "execution_count": 42,
   "id": "64d7870d",
   "metadata": {},
   "outputs": [],
   "source": [
    "newob = pred.loc[:0,'p0':'p63'].to_dict(orient='records')[0]\n",
    "#newob"
   ]
  },
  {
   "cell_type": "code",
   "execution_count": 44,
   "id": "3cba73c9",
   "metadata": {},
   "outputs": [],
   "source": [
    "from google.protobuf import json_format\n",
    "from google.protobuf.struct_pb2 import Value\n",
    "\n",
    "instances=[json_format.ParseDict(newob, Value())]\n",
    "parameters=json_format.ParseDict({}, Value())"
   ]
  },
  {
   "cell_type": "markdown",
   "id": "ad748e2d",
   "metadata": {},
   "source": [
    "### Prediction: Online"
   ]
  },
  {
   "cell_type": "code",
   "execution_count": 57,
   "id": "25d0991c",
   "metadata": {},
   "outputs": [],
   "source": [
    "# get predictions\n",
    "prediction = endpoint.predict(instances=instances,parameters=parameters)"
   ]
  },
  {
   "cell_type": "code",
   "execution_count": 58,
   "id": "19b9120f",
   "metadata": {},
   "outputs": [
    {
     "data": {
      "text/plain": [
       "Prediction(predictions=[{'classes': ['4', '5', '3', '1', '0', '8', '2', '7', '9', '6'], 'scores': [0.001207366120070219, 0.0007000679615885019, 0.009571815840899944, 0.02577057108283043, 0.0006502495962195098, 0.0413755476474762, 0.9119542837142944, 0.003187478519976139, 0.002909382106736302, 0.002673302078619599]}], deployed_model_id='3852248939075993600', explanations=None)"
      ]
     },
     "execution_count": 58,
     "metadata": {},
     "output_type": "execute_result"
    }
   ],
   "source": [
    "prediction"
   ]
  },
  {
   "cell_type": "code",
   "execution_count": 59,
   "id": "f989378e",
   "metadata": {},
   "outputs": [
    {
     "data": {
      "text/plain": [
       "'2'"
      ]
     },
     "execution_count": 59,
     "metadata": {},
     "output_type": "execute_result"
    }
   ],
   "source": [
    "import numpy as np\n",
    "prediction.predictions[0]['classes'][np.argmax(prediction.predictions[0]['scores'])]"
   ]
  },
  {
   "cell_type": "markdown",
   "id": "e5fc213c",
   "metadata": {},
   "source": [
    "## Explanation\n",
    "Interpretation Guide\n",
    "- https://cloud.google.com/vertex-ai/docs/predictions/interpreting-results-automl#tabular"
   ]
  },
  {
   "cell_type": "code",
   "execution_count": 94,
   "id": "18eee163",
   "metadata": {},
   "outputs": [],
   "source": [
    "# get explanations\n",
    "explanation = endpoint.explain(instances=instances, parameters=parameters)"
   ]
  },
  {
   "cell_type": "code",
   "execution_count": 95,
   "id": "df41c8d3",
   "metadata": {},
   "outputs": [
    {
     "data": {
      "text/plain": [
       "[{'classes': ['4', '5', '3', '1', '0', '8', '2', '7', '9', '6'],\n",
       "  'scores': [0.001207366120070219,\n",
       "   0.0007000679615885019,\n",
       "   0.009571815840899944,\n",
       "   0.02577057108283043,\n",
       "   0.0006502495962195098,\n",
       "   0.0413755476474762,\n",
       "   0.9119542837142944,\n",
       "   0.003187478519976139,\n",
       "   0.002909382106736302,\n",
       "   0.002673302078619599]}]"
      ]
     },
     "execution_count": 95,
     "metadata": {},
     "output_type": "execute_result"
    }
   ],
   "source": [
    "explanation.predictions"
   ]
  },
  {
   "cell_type": "code",
   "execution_count": 97,
   "id": "ada4ce3c",
   "metadata": {},
   "outputs": [
    {
     "name": "stdout",
     "output_type": "stream",
     "text": [
      "attribution:\n",
      "baseline output 0.0020054997876286507\n",
      "instance output 0.9119542837142944\n",
      "output_index [6]\n",
      "output display value 2\n",
      "approximation error 0.025497518298939547\n"
     ]
    }
   ],
   "source": [
    "print(\"attribution:\")\n",
    "print(\"baseline output\",explanation.explanations[0].attributions[0].baseline_output_value)\n",
    "print(\"instance output\",explanation.explanations[0].attributions[0].instance_output_value)\n",
    "print(\"output_index\",explanation.explanations[0].attributions[0].output_index)\n",
    "print(\"output display value\",explanation.explanations[0].attributions[0].output_display_name)\n",
    "print(\"approximation error\",explanation.explanations[0].attributions[0].approximation_error)"
   ]
  },
  {
   "cell_type": "code",
   "execution_count": 98,
   "id": "9876d25a",
   "metadata": {},
   "outputs": [
    {
     "data": {
      "text/plain": [
       "baseline_output_value: 0.0020054997876286507\n",
       "instance_output_value: 0.9119542837142944\n",
       "feature_attributions {\n",
       "  struct_value {\n",
       "    fields {\n",
       "      key: \"p0\"\n",
       "      value {\n",
       "        number_value: 0.0\n",
       "      }\n",
       "    }\n",
       "    fields {\n",
       "      key: \"p1\"\n",
       "      value {\n",
       "        number_value: 0.0\n",
       "      }\n",
       "    }\n",
       "    fields {\n",
       "      key: \"p10\"\n",
       "      value {\n",
       "        number_value: 0.0\n",
       "      }\n",
       "    }\n",
       "    fields {\n",
       "      key: \"p11\"\n",
       "      value {\n",
       "        number_value: 0.01840283994429878\n",
       "      }\n",
       "    }\n",
       "    fields {\n",
       "      key: \"p12\"\n",
       "      value {\n",
       "        number_value: 0.06219814651246582\n",
       "      }\n",
       "    }\n",
       "    fields {\n",
       "      key: \"p13\"\n",
       "      value {\n",
       "        number_value: 0.008858684051249708\n",
       "      }\n",
       "    }\n",
       "    fields {\n",
       "      key: \"p14\"\n",
       "      value {\n",
       "        number_value: 0.0\n",
       "      }\n",
       "    }\n",
       "    fields {\n",
       "      key: \"p15\"\n",
       "      value {\n",
       "        number_value: 0.0\n",
       "      }\n",
       "    }\n",
       "    fields {\n",
       "      key: \"p16\"\n",
       "      value {\n",
       "        number_value: 0.0\n",
       "      }\n",
       "    }\n",
       "    fields {\n",
       "      key: \"p17\"\n",
       "      value {\n",
       "        number_value: 0.0\n",
       "      }\n",
       "    }\n",
       "    fields {\n",
       "      key: \"p18\"\n",
       "      value {\n",
       "        number_value: 0.03899878369910376\n",
       "      }\n",
       "    }\n",
       "    fields {\n",
       "      key: \"p19\"\n",
       "      value {\n",
       "        number_value: 0.007377658571515765\n",
       "      }\n",
       "    }\n",
       "    fields {\n",
       "      key: \"p2\"\n",
       "      value {\n",
       "        number_value: 0.002037337848118373\n",
       "      }\n",
       "    }\n",
       "    fields {\n",
       "      key: \"p20\"\n",
       "      value {\n",
       "        number_value: 0.000664283471581127\n",
       "      }\n",
       "    }\n",
       "    fields {\n",
       "      key: \"p21\"\n",
       "      value {\n",
       "        number_value: 0.01648058655804821\n",
       "      }\n",
       "    }\n",
       "    fields {\n",
       "      key: \"p22\"\n",
       "      value {\n",
       "        number_value: 0.0\n",
       "      }\n",
       "    }\n",
       "    fields {\n",
       "      key: \"p23\"\n",
       "      value {\n",
       "        number_value: 0.0\n",
       "      }\n",
       "    }\n",
       "    fields {\n",
       "      key: \"p24\"\n",
       "      value {\n",
       "        number_value: 0.0\n",
       "      }\n",
       "    }\n",
       "    fields {\n",
       "      key: \"p25\"\n",
       "      value {\n",
       "        number_value: 0.0\n",
       "      }\n",
       "    }\n",
       "    fields {\n",
       "      key: \"p26\"\n",
       "      value {\n",
       "        number_value: 0.02619168884536651\n",
       "      }\n",
       "    }\n",
       "    fields {\n",
       "      key: \"p27\"\n",
       "      value {\n",
       "        number_value: -0.01134619542530605\n",
       "      }\n",
       "    }\n",
       "    fields {\n",
       "      key: \"p28\"\n",
       "      value {\n",
       "        number_value: 0.0\n",
       "      }\n",
       "    }\n",
       "    fields {\n",
       "      key: \"p29\"\n",
       "      value {\n",
       "        number_value: 0.0\n",
       "      }\n",
       "    }\n",
       "    fields {\n",
       "      key: \"p3\"\n",
       "      value {\n",
       "        number_value: 0.0\n",
       "      }\n",
       "    }\n",
       "    fields {\n",
       "      key: \"p30\"\n",
       "      value {\n",
       "        number_value: 0.0\n",
       "      }\n",
       "    }\n",
       "    fields {\n",
       "      key: \"p31\"\n",
       "      value {\n",
       "        number_value: 0.0\n",
       "      }\n",
       "    }\n",
       "    fields {\n",
       "      key: \"p32\"\n",
       "      value {\n",
       "        number_value: 0.0\n",
       "      }\n",
       "    }\n",
       "    fields {\n",
       "      key: \"p33\"\n",
       "      value {\n",
       "        number_value: 0.0\n",
       "      }\n",
       "    }\n",
       "    fields {\n",
       "      key: \"p34\"\n",
       "      value {\n",
       "        number_value: -0.01595333329376964\n",
       "      }\n",
       "    }\n",
       "    fields {\n",
       "      key: \"p35\"\n",
       "      value {\n",
       "        number_value: -0.002849567748074021\n",
       "      }\n",
       "    }\n",
       "    fields {\n",
       "      key: \"p36\"\n",
       "      value {\n",
       "        number_value: 0.006682496220621813\n",
       "      }\n",
       "    }\n",
       "    fields {\n",
       "      key: \"p37\"\n",
       "      value {\n",
       "        number_value: 0.0\n",
       "      }\n",
       "    }\n",
       "    fields {\n",
       "      key: \"p38\"\n",
       "      value {\n",
       "        number_value: 0.06176091672802743\n",
       "      }\n",
       "    }\n",
       "    fields {\n",
       "      key: \"p39\"\n",
       "      value {\n",
       "        number_value: 0.0\n",
       "      }\n",
       "    }\n",
       "    fields {\n",
       "      key: \"p4\"\n",
       "      value {\n",
       "        number_value: 0.007234875412125673\n",
       "      }\n",
       "    }\n",
       "    fields {\n",
       "      key: \"p40\"\n",
       "      value {\n",
       "        number_value: 0.0\n",
       "      }\n",
       "    }\n",
       "    fields {\n",
       "      key: \"p41\"\n",
       "      value {\n",
       "        number_value: -0.001061693432607821\n",
       "      }\n",
       "    }\n",
       "    fields {\n",
       "      key: \"p42\"\n",
       "      value {\n",
       "        number_value: 0.00860547537117132\n",
       "      }\n",
       "    }\n",
       "    fields {\n",
       "      key: \"p43\"\n",
       "      value {\n",
       "        number_value: 0.0\n",
       "      }\n",
       "    }\n",
       "    fields {\n",
       "      key: \"p44\"\n",
       "      value {\n",
       "        number_value: 0.007722295687666961\n",
       "      }\n",
       "    }\n",
       "    fields {\n",
       "      key: \"p45\"\n",
       "      value {\n",
       "        number_value: 0.1115448331194265\n",
       "      }\n",
       "    }\n",
       "    fields {\n",
       "      key: \"p46\"\n",
       "      value {\n",
       "        number_value: 0.0\n",
       "      }\n",
       "    }\n",
       "    fields {\n",
       "      key: \"p47\"\n",
       "      value {\n",
       "        number_value: 0.0\n",
       "      }\n",
       "    }\n",
       "    fields {\n",
       "      key: \"p48\"\n",
       "      value {\n",
       "        number_value: 0.0\n",
       "      }\n",
       "    }\n",
       "    fields {\n",
       "      key: \"p49\"\n",
       "      value {\n",
       "        number_value: 0.01791144628077745\n",
       "      }\n",
       "    }\n",
       "    fields {\n",
       "      key: \"p5\"\n",
       "      value {\n",
       "        number_value: 0.0\n",
       "      }\n",
       "    }\n",
       "    fields {\n",
       "      key: \"p50\"\n",
       "      value {\n",
       "        number_value: 0.0\n",
       "      }\n",
       "    }\n",
       "    fields {\n",
       "      key: \"p51\"\n",
       "      value {\n",
       "        number_value: 1.83399034930127e-05\n",
       "      }\n",
       "    }\n",
       "    fields {\n",
       "      key: \"p52\"\n",
       "      value {\n",
       "        number_value: 0.0\n",
       "      }\n",
       "    }\n",
       "    fields {\n",
       "      key: \"p53\"\n",
       "      value {\n",
       "        number_value: 0.0\n",
       "      }\n",
       "    }\n",
       "    fields {\n",
       "      key: \"p54\"\n",
       "      value {\n",
       "        number_value: 0.3278463378748191\n",
       "      }\n",
       "    }\n",
       "    fields {\n",
       "      key: \"p55\"\n",
       "      value {\n",
       "        number_value: 0.0\n",
       "      }\n",
       "    }\n",
       "    fields {\n",
       "      key: \"p56\"\n",
       "      value {\n",
       "        number_value: 0.0\n",
       "      }\n",
       "    }\n",
       "    fields {\n",
       "      key: \"p57\"\n",
       "      value {\n",
       "        number_value: 0.0\n",
       "      }\n",
       "    }\n",
       "    fields {\n",
       "      key: \"p58\"\n",
       "      value {\n",
       "        number_value: 0.09489436630558755\n",
       "      }\n",
       "    }\n",
       "    fields {\n",
       "      key: \"p59\"\n",
       "      value {\n",
       "        number_value: 0.0\n",
       "      }\n",
       "    }\n",
       "    fields {\n",
       "      key: \"p6\"\n",
       "      value {\n",
       "        number_value: 0.0\n",
       "      }\n",
       "    }\n",
       "    fields {\n",
       "      key: \"p60\"\n",
       "      value {\n",
       "        number_value: 0.0\n",
       "      }\n",
       "    }\n",
       "    fields {\n",
       "      key: \"p61\"\n",
       "      value {\n",
       "        number_value: 0.003525698624019112\n",
       "      }\n",
       "    }\n",
       "    fields {\n",
       "      key: \"p62\"\n",
       "      value {\n",
       "        number_value: 0.08937917460155274\n",
       "      }\n",
       "    }\n",
       "    fields {\n",
       "      key: \"p63\"\n",
       "      value {\n",
       "        number_value: 0.0\n",
       "      }\n",
       "    }\n",
       "    fields {\n",
       "      key: \"p7\"\n",
       "      value {\n",
       "        number_value: 0.0\n",
       "      }\n",
       "    }\n",
       "    fields {\n",
       "      key: \"p8\"\n",
       "      value {\n",
       "        number_value: 0.0\n",
       "      }\n",
       "    }\n",
       "    fields {\n",
       "      key: \"p9\"\n",
       "      value {\n",
       "        number_value: 0.02282330819538661\n",
       "      }\n",
       "    }\n",
       "  }\n",
       "}\n",
       "output_index: 6\n",
       "output_display_name: \"2\"\n",
       "approximation_error: 0.025497518298939547\n",
       "output_name: \"scores\""
      ]
     },
     "execution_count": 98,
     "metadata": {},
     "output_type": "execute_result"
    }
   ],
   "source": [
    "explanation.explanations[0].attributions[0]"
   ]
  },
  {
   "cell_type": "markdown",
   "id": "34eb47a2",
   "metadata": {},
   "source": [
    "### Batch Predictions: BigQuery Source to BigQuery Destination, with Explanations"
   ]
  },
  {
   "cell_type": "code",
   "execution_count": 92,
   "id": "9e3400a2",
   "metadata": {},
   "outputs": [
    {
     "name": "stdout",
     "output_type": "stream",
     "text": [
      "INFO:google.cloud.aiplatform.jobs:Creating BatchPredictionJob\n",
      "INFO:google.cloud.aiplatform.jobs:BatchPredictionJob created. Resource name: projects/691911073727/locations/us-central1/batchPredictionJobs/3040831348009861120\n",
      "INFO:google.cloud.aiplatform.jobs:To use this BatchPredictionJob in another session:\n",
      "INFO:google.cloud.aiplatform.jobs:bpj = aiplatform.BatchPredictionJob('projects/691911073727/locations/us-central1/batchPredictionJobs/3040831348009861120')\n",
      "INFO:google.cloud.aiplatform.jobs:View Batch Prediction Job:\n",
      "https://console.cloud.google.com/ai/platform/locations/us-central1/batch-predictions/3040831348009861120?project=691911073727\n",
      "INFO:google.cloud.aiplatform.jobs:BatchPredictionJob projects/691911073727/locations/us-central1/batchPredictionJobs/3040831348009861120 current state:\n",
      "JobState.JOB_STATE_RUNNING\n",
      "INFO:google.cloud.aiplatform.jobs:BatchPredictionJob  run. Resource name: projects/691911073727/locations/us-central1/batchPredictionJobs/3040831348009861120\n"
     ]
    }
   ],
   "source": [
    "# batch predictions\n",
    "batch = aiplatform.BatchPredictionJob.create(\n",
    "    job_display_name='bq_digits_code_'+TIMESTAMP,\n",
    "    model_name=model.name,\n",
    "    instances_format=\"bigquery\",\n",
    "    predictions_format=\"bigquery\",\n",
    "    bigquery_source=\"bq://statmike-mlops.digits.digits_source\",\n",
    "    bigquery_destination_prefix=\"statmike-mlops\",\n",
    "    generate_explanation=True\n",
    ")"
   ]
  },
  {
   "cell_type": "code",
   "execution_count": null,
   "id": "66258e73",
   "metadata": {},
   "outputs": [],
   "source": []
  }
 ],
 "metadata": {
  "environment": {
   "name": "managed-notebooks.m70",
   "type": "gcloud",
   "uri": "gcr.io/deeplearning-platform-release/managed-notebooks:m70"
  },
  "kernelspec": {
   "display_name": "Python",
   "language": "python",
   "name": "base"
  },
  "language_info": {
   "codemirror_mode": {
    "name": "ipython",
    "version": 3
   },
   "file_extension": ".py",
   "mimetype": "text/x-python",
   "name": "python",
   "nbconvert_exporter": "python",
   "pygments_lexer": "ipython3",
   "version": "3.7.10"
  }
 },
 "nbformat": 4,
 "nbformat_minor": 5
}
