{
 "cells": [
  {
   "cell_type": "markdown",
   "id": "85657f96",
   "metadata": {},
   "source": [
    "# AutoML with Vertex AI - Python Clients\n",
    "\n",
    "This notebook uses Python Clients for Vertex AI to recreate this workflow:\n",
    "- create a Dataset linked to BigQuery table\n",
    "- Train an AutoML model for the Dataset\n",
    "- Deploy the Model to and Endpoint\n",
    "- Create Batch Predictions\n",
    "- Create Online Predictions\n",
    "\n",
    "**Prerequisites**\n",
    "- `00 - Initial Setup`\n",
    "\n",
    "**Resources**\n",
    "- API: https://googleapis.dev/python/aiplatform/latest/aiplatform.html\n",
    "\n",
    "**Overview**\n",
    "\n",
    "<img src=\"architectures/statmike-mlops-A2.png\">"
   ]
  },
  {
   "cell_type": "markdown",
   "id": "1549641c",
   "metadata": {},
   "source": [
    "---\n",
    "## Setup"
   ]
  },
  {
   "cell_type": "markdown",
   "id": "cece3170",
   "metadata": {},
   "source": [
    "Import Libraries"
   ]
  },
  {
   "cell_type": "code",
   "execution_count": 1,
   "id": "d25b29ef",
   "metadata": {},
   "outputs": [],
   "source": [
    "from google.cloud import aiplatform"
   ]
  },
  {
   "cell_type": "markdown",
   "id": "5d0cc214",
   "metadata": {},
   "source": [
    "Parameters"
   ]
  },
  {
   "cell_type": "code",
   "execution_count": 2,
   "id": "6fe49c4a",
   "metadata": {},
   "outputs": [],
   "source": [
    "# Locations\n",
    "REGION = 'us-central1'\n",
    "PROJECT_ID='statmike-mlops'\n",
    "PARENT = \"projects/\" + PROJECT_ID + \"/locations/\" + REGION\n",
    "\n",
    "# current time to help with unique resource labeling\n",
    "from datetime import datetime\n",
    "TIMESTAMP = datetime.now().strftime(\"%Y%m%d%H%M%S\")"
   ]
  },
  {
   "cell_type": "code",
   "execution_count": 3,
   "id": "a331d24a",
   "metadata": {},
   "outputs": [],
   "source": [
    "aiplatform.init(project=PROJECT_ID, location=REGION)"
   ]
  },
  {
   "cell_type": "markdown",
   "id": "a8e74b4d",
   "metadata": {},
   "source": [
    "---\n",
    "## Create Dataset (link to BigQuery table)"
   ]
  },
  {
   "cell_type": "code",
   "execution_count": 4,
   "id": "083b387a",
   "metadata": {},
   "outputs": [
    {
     "name": "stdout",
     "output_type": "stream",
     "text": [
      "INFO:google.cloud.aiplatform.datasets.dataset:Creating TabularDataset\n",
      "INFO:google.cloud.aiplatform.datasets.dataset:Create TabularDataset backing LRO: projects/691911073727/locations/us-central1/datasets/7275327703505436672/operations/3649479478582706176\n",
      "INFO:google.cloud.aiplatform.datasets.dataset:TabularDataset created. Resource name: projects/691911073727/locations/us-central1/datasets/7275327703505436672\n",
      "INFO:google.cloud.aiplatform.datasets.dataset:To use this TabularDataset in another session:\n",
      "INFO:google.cloud.aiplatform.datasets.dataset:ds = aiplatform.TabularDataset('projects/691911073727/locations/us-central1/datasets/7275327703505436672')\n"
     ]
    }
   ],
   "source": [
    "# dataset\n",
    "dataset = aiplatform.TabularDataset.create(display_name='bq_digits_code', bq_source='bq://statmike-mlops.digits.digits_source')"
   ]
  },
  {
   "cell_type": "markdown",
   "id": "0b78412c",
   "metadata": {},
   "source": [
    "---\n",
    "## Train Model with AutoML"
   ]
  },
  {
   "cell_type": "code",
   "execution_count": 5,
   "id": "f0aec847",
   "metadata": {},
   "outputs": [],
   "source": [
    "#automl model\n",
    "transformations = []\n",
    "\n",
    "for i in range(64):\n",
    "    transformations.append({'auto': {'column_name': 'p'+str(i)}})"
   ]
  },
  {
   "cell_type": "code",
   "execution_count": 6,
   "id": "550ade5e",
   "metadata": {},
   "outputs": [],
   "source": [
    "tabular_classification_job = aiplatform.AutoMLTabularTrainingJob(display_name='bq_digits_code_'+TIMESTAMP, optimization_prediction_type = 'classification', column_transformations=transformations)"
   ]
  },
  {
   "cell_type": "code",
   "execution_count": 7,
   "id": "6e59abfc",
   "metadata": {},
   "outputs": [
    {
     "name": "stdout",
     "output_type": "stream",
     "text": [
      "INFO:google.cloud.aiplatform.training_jobs:View Training:\n",
      "https://console.cloud.google.com/ai/platform/locations/us-central1/training/524022843751530496?project=691911073727\n",
      "INFO:google.cloud.aiplatform.training_jobs:AutoMLTabularTrainingJob projects/691911073727/locations/us-central1/trainingPipelines/524022843751530496 current state:\n",
      "PipelineState.PIPELINE_STATE_RUNNING\n",
      "INFO:google.cloud.aiplatform.training_jobs:AutoMLTabularTrainingJob projects/691911073727/locations/us-central1/trainingPipelines/524022843751530496 current state:\n",
      "PipelineState.PIPELINE_STATE_RUNNING\n",
      "INFO:google.cloud.aiplatform.training_jobs:AutoMLTabularTrainingJob projects/691911073727/locations/us-central1/trainingPipelines/524022843751530496 current state:\n",
      "PipelineState.PIPELINE_STATE_RUNNING\n",
      "INFO:google.cloud.aiplatform.training_jobs:AutoMLTabularTrainingJob projects/691911073727/locations/us-central1/trainingPipelines/524022843751530496 current state:\n",
      "PipelineState.PIPELINE_STATE_RUNNING\n",
      "INFO:google.cloud.aiplatform.training_jobs:AutoMLTabularTrainingJob projects/691911073727/locations/us-central1/trainingPipelines/524022843751530496 current state:\n",
      "PipelineState.PIPELINE_STATE_RUNNING\n",
      "INFO:google.cloud.aiplatform.training_jobs:AutoMLTabularTrainingJob projects/691911073727/locations/us-central1/trainingPipelines/524022843751530496 current state:\n",
      "PipelineState.PIPELINE_STATE_RUNNING\n",
      "INFO:google.cloud.aiplatform.training_jobs:AutoMLTabularTrainingJob projects/691911073727/locations/us-central1/trainingPipelines/524022843751530496 current state:\n",
      "PipelineState.PIPELINE_STATE_RUNNING\n",
      "INFO:google.cloud.aiplatform.training_jobs:AutoMLTabularTrainingJob projects/691911073727/locations/us-central1/trainingPipelines/524022843751530496 current state:\n",
      "PipelineState.PIPELINE_STATE_RUNNING\n",
      "INFO:google.cloud.aiplatform.training_jobs:AutoMLTabularTrainingJob projects/691911073727/locations/us-central1/trainingPipelines/524022843751530496 current state:\n",
      "PipelineState.PIPELINE_STATE_RUNNING\n",
      "INFO:google.cloud.aiplatform.training_jobs:AutoMLTabularTrainingJob projects/691911073727/locations/us-central1/trainingPipelines/524022843751530496 current state:\n",
      "PipelineState.PIPELINE_STATE_RUNNING\n",
      "INFO:google.cloud.aiplatform.training_jobs:AutoMLTabularTrainingJob projects/691911073727/locations/us-central1/trainingPipelines/524022843751530496 current state:\n",
      "PipelineState.PIPELINE_STATE_RUNNING\n",
      "INFO:google.cloud.aiplatform.training_jobs:AutoMLTabularTrainingJob projects/691911073727/locations/us-central1/trainingPipelines/524022843751530496 current state:\n",
      "PipelineState.PIPELINE_STATE_RUNNING\n",
      "INFO:google.cloud.aiplatform.training_jobs:AutoMLTabularTrainingJob projects/691911073727/locations/us-central1/trainingPipelines/524022843751530496 current state:\n",
      "PipelineState.PIPELINE_STATE_RUNNING\n",
      "INFO:google.cloud.aiplatform.training_jobs:AutoMLTabularTrainingJob projects/691911073727/locations/us-central1/trainingPipelines/524022843751530496 current state:\n",
      "PipelineState.PIPELINE_STATE_RUNNING\n",
      "INFO:google.cloud.aiplatform.training_jobs:AutoMLTabularTrainingJob projects/691911073727/locations/us-central1/trainingPipelines/524022843751530496 current state:\n",
      "PipelineState.PIPELINE_STATE_RUNNING\n",
      "INFO:google.cloud.aiplatform.training_jobs:AutoMLTabularTrainingJob run completed. Resource name: projects/691911073727/locations/us-central1/trainingPipelines/524022843751530496\n",
      "INFO:google.cloud.aiplatform.training_jobs:Model available at projects/691911073727/locations/us-central1/models/6268315789950976000\n"
     ]
    }
   ],
   "source": [
    "model = tabular_classification_job.run(\n",
    "        dataset=dataset,\n",
    "        target_column='target',\n",
    "        training_fraction_split=0.8,\n",
    "        validation_fraction_split=0.1,\n",
    "        test_fraction_split=0.1,\n",
    "        budget_milli_node_hours=1000,\n",
    "        model_display_name='bq_digits_code_'+TIMESTAMP,\n",
    "        disable_early_stopping=False,\n",
    "        sync=True,\n",
    "    )"
   ]
  },
  {
   "cell_type": "markdown",
   "id": "0b1ede67",
   "metadata": {},
   "source": [
    "---\n",
    "## Endpoint and Deployment"
   ]
  },
  {
   "cell_type": "code",
   "execution_count": 8,
   "id": "11d4ddab",
   "metadata": {},
   "outputs": [
    {
     "name": "stdout",
     "output_type": "stream",
     "text": [
      "INFO:google.cloud.aiplatform.models:Creating Endpoint\n",
      "INFO:google.cloud.aiplatform.models:Create Endpoint backing LRO: projects/691911073727/locations/us-central1/endpoints/4598931683545186304/operations/6670831878594887680\n",
      "INFO:google.cloud.aiplatform.models:Endpoint created. Resource name: projects/691911073727/locations/us-central1/endpoints/4598931683545186304\n",
      "INFO:google.cloud.aiplatform.models:To use this Endpoint in another session:\n",
      "INFO:google.cloud.aiplatform.models:endpoint = aiplatform.Endpoint('projects/691911073727/locations/us-central1/endpoints/4598931683545186304')\n"
     ]
    }
   ],
   "source": [
    "# endpoint\n",
    "endpoint = aiplatform.Endpoint.create(display_name='bq_digits_code_'+TIMESTAMP)"
   ]
  },
  {
   "cell_type": "code",
   "execution_count": 9,
   "id": "355c0310",
   "metadata": {},
   "outputs": [
    {
     "name": "stdout",
     "output_type": "stream",
     "text": [
      "INFO:google.cloud.aiplatform.models:Deploying Model projects/691911073727/locations/us-central1/models/6268315789950976000 to Endpoint : projects/691911073727/locations/us-central1/endpoints/4598931683545186304\n",
      "INFO:google.cloud.aiplatform.models:Deploy Endpoint model backing LRO: projects/691911073727/locations/us-central1/endpoints/4598931683545186304/operations/6682653827616735232\n",
      "INFO:google.cloud.aiplatform.models:Endpoint model deployed. Resource name: projects/691911073727/locations/us-central1/endpoints/4598931683545186304\n"
     ]
    }
   ],
   "source": [
    "# deploy model to endpoint\n",
    "endpoint.deploy(\n",
    "    model=model,\n",
    "    deployed_model_display_name='bq_digits_code_DEPLOYED_'+TIMESTAMP,\n",
    "    traffic_percentage = 100,\n",
    "    machine_type = 'n1-standard-4',\n",
    "    min_replica_count = 1,\n",
    "    max_replica_count = 1,\n",
    "    sync=True\n",
    ")"
   ]
  },
  {
   "cell_type": "markdown",
   "id": "6ee00008",
   "metadata": {},
   "source": [
    "---\n",
    "## Prediction"
   ]
  },
  {
   "cell_type": "markdown",
   "id": "0a6fafc5",
   "metadata": {},
   "source": [
    "### Prepare a record for prediction: instance and parameters lists"
   ]
  },
  {
   "cell_type": "code",
   "execution_count": 22,
   "id": "256e4abb",
   "metadata": {},
   "outputs": [
    {
     "name": "stderr",
     "output_type": "stream",
     "text": [
      "Query complete after 0.00s: 100%|██████████| 1/1 [00:00<00:00, 740.39query/s] \n",
      "Downloading: 100%|██████████| 10/10 [00:01<00:00,  8.51rows/s]\n"
     ]
    }
   ],
   "source": [
    "%%bigquery pred\n",
    "SELECT *\n",
    "FROM `digits.digits_source`\n",
    "LIMIT 10"
   ]
  },
  {
   "cell_type": "code",
   "execution_count": 24,
   "id": "a69e96f6",
   "metadata": {},
   "outputs": [
    {
     "data": {
      "text/html": [
       "<div>\n",
       "<style scoped>\n",
       "    .dataframe tbody tr th:only-of-type {\n",
       "        vertical-align: middle;\n",
       "    }\n",
       "\n",
       "    .dataframe tbody tr th {\n",
       "        vertical-align: top;\n",
       "    }\n",
       "\n",
       "    .dataframe thead th {\n",
       "        text-align: right;\n",
       "    }\n",
       "</style>\n",
       "<table border=\"1\" class=\"dataframe\">\n",
       "  <thead>\n",
       "    <tr style=\"text-align: right;\">\n",
       "      <th></th>\n",
       "      <th>p0</th>\n",
       "      <th>p1</th>\n",
       "      <th>p2</th>\n",
       "      <th>p3</th>\n",
       "      <th>p4</th>\n",
       "      <th>p5</th>\n",
       "      <th>p6</th>\n",
       "      <th>p7</th>\n",
       "      <th>p8</th>\n",
       "      <th>p9</th>\n",
       "      <th>...</th>\n",
       "      <th>p56</th>\n",
       "      <th>p57</th>\n",
       "      <th>p58</th>\n",
       "      <th>p59</th>\n",
       "      <th>p60</th>\n",
       "      <th>p61</th>\n",
       "      <th>p62</th>\n",
       "      <th>p63</th>\n",
       "      <th>target</th>\n",
       "      <th>target_OE</th>\n",
       "    </tr>\n",
       "  </thead>\n",
       "  <tbody>\n",
       "    <tr>\n",
       "      <th>0</th>\n",
       "      <td>0.0</td>\n",
       "      <td>5.0</td>\n",
       "      <td>16.0</td>\n",
       "      <td>15.0</td>\n",
       "      <td>5.0</td>\n",
       "      <td>0.0</td>\n",
       "      <td>0.0</td>\n",
       "      <td>0.0</td>\n",
       "      <td>0.0</td>\n",
       "      <td>2.0</td>\n",
       "      <td>...</td>\n",
       "      <td>0.0</td>\n",
       "      <td>6.0</td>\n",
       "      <td>16.0</td>\n",
       "      <td>16.0</td>\n",
       "      <td>16.0</td>\n",
       "      <td>16.0</td>\n",
       "      <td>7.0</td>\n",
       "      <td>0.0</td>\n",
       "      <td>2</td>\n",
       "      <td>Even</td>\n",
       "    </tr>\n",
       "    <tr>\n",
       "      <th>1</th>\n",
       "      <td>0.0</td>\n",
       "      <td>5.0</td>\n",
       "      <td>16.0</td>\n",
       "      <td>12.0</td>\n",
       "      <td>1.0</td>\n",
       "      <td>0.0</td>\n",
       "      <td>0.0</td>\n",
       "      <td>0.0</td>\n",
       "      <td>0.0</td>\n",
       "      <td>5.0</td>\n",
       "      <td>...</td>\n",
       "      <td>0.0</td>\n",
       "      <td>8.0</td>\n",
       "      <td>16.0</td>\n",
       "      <td>16.0</td>\n",
       "      <td>16.0</td>\n",
       "      <td>16.0</td>\n",
       "      <td>4.0</td>\n",
       "      <td>0.0</td>\n",
       "      <td>2</td>\n",
       "      <td>Even</td>\n",
       "    </tr>\n",
       "    <tr>\n",
       "      <th>2</th>\n",
       "      <td>0.0</td>\n",
       "      <td>5.0</td>\n",
       "      <td>15.0</td>\n",
       "      <td>16.0</td>\n",
       "      <td>6.0</td>\n",
       "      <td>0.0</td>\n",
       "      <td>0.0</td>\n",
       "      <td>0.0</td>\n",
       "      <td>0.0</td>\n",
       "      <td>11.0</td>\n",
       "      <td>...</td>\n",
       "      <td>0.0</td>\n",
       "      <td>6.0</td>\n",
       "      <td>16.0</td>\n",
       "      <td>16.0</td>\n",
       "      <td>16.0</td>\n",
       "      <td>13.0</td>\n",
       "      <td>3.0</td>\n",
       "      <td>0.0</td>\n",
       "      <td>2</td>\n",
       "      <td>Even</td>\n",
       "    </tr>\n",
       "    <tr>\n",
       "      <th>3</th>\n",
       "      <td>0.0</td>\n",
       "      <td>4.0</td>\n",
       "      <td>15.0</td>\n",
       "      <td>15.0</td>\n",
       "      <td>8.0</td>\n",
       "      <td>0.0</td>\n",
       "      <td>0.0</td>\n",
       "      <td>0.0</td>\n",
       "      <td>0.0</td>\n",
       "      <td>8.0</td>\n",
       "      <td>...</td>\n",
       "      <td>0.0</td>\n",
       "      <td>7.0</td>\n",
       "      <td>14.0</td>\n",
       "      <td>11.0</td>\n",
       "      <td>0.0</td>\n",
       "      <td>0.0</td>\n",
       "      <td>0.0</td>\n",
       "      <td>0.0</td>\n",
       "      <td>2</td>\n",
       "      <td>Even</td>\n",
       "    </tr>\n",
       "  </tbody>\n",
       "</table>\n",
       "<p>4 rows × 66 columns</p>\n",
       "</div>"
      ],
      "text/plain": [
       "    p0   p1    p2    p3   p4   p5   p6   p7   p8    p9  ...  p56  p57   p58  \\\n",
       "0  0.0  5.0  16.0  15.0  5.0  0.0  0.0  0.0  0.0   2.0  ...  0.0  6.0  16.0   \n",
       "1  0.0  5.0  16.0  12.0  1.0  0.0  0.0  0.0  0.0   5.0  ...  0.0  8.0  16.0   \n",
       "2  0.0  5.0  15.0  16.0  6.0  0.0  0.0  0.0  0.0  11.0  ...  0.0  6.0  16.0   \n",
       "3  0.0  4.0  15.0  15.0  8.0  0.0  0.0  0.0  0.0   8.0  ...  0.0  7.0  14.0   \n",
       "\n",
       "    p59   p60   p61  p62  p63  target  target_OE  \n",
       "0  16.0  16.0  16.0  7.0  0.0       2       Even  \n",
       "1  16.0  16.0  16.0  4.0  0.0       2       Even  \n",
       "2  16.0  16.0  13.0  3.0  0.0       2       Even  \n",
       "3  11.0   0.0   0.0  0.0  0.0       2       Even  \n",
       "\n",
       "[4 rows x 66 columns]"
      ]
     },
     "execution_count": 24,
     "metadata": {},
     "output_type": "execute_result"
    }
   ],
   "source": [
    "pred.head(4)"
   ]
  },
  {
   "cell_type": "code",
   "execution_count": 25,
   "id": "2ffcfa53",
   "metadata": {},
   "outputs": [],
   "source": [
    "newob = pred.loc[:0,'p0':'p63'].to_dict(orient='records')[0]\n",
    "#newob"
   ]
  },
  {
   "cell_type": "code",
   "execution_count": 26,
   "id": "7f2dfa20",
   "metadata": {},
   "outputs": [],
   "source": [
    "from google.protobuf import json_format\n",
    "from google.protobuf.struct_pb2 import Value\n",
    "\n",
    "instances=[json_format.ParseDict(newob, Value())]\n",
    "parameters=json_format.ParseDict({}, Value())"
   ]
  },
  {
   "cell_type": "markdown",
   "id": "70a993cf",
   "metadata": {},
   "source": [
    "### Prediction: Online"
   ]
  },
  {
   "cell_type": "code",
   "execution_count": 27,
   "id": "e4a01761",
   "metadata": {},
   "outputs": [],
   "source": [
    "# get predictions\n",
    "prediction = endpoint.predict(instances=instances,parameters=parameters)"
   ]
  },
  {
   "cell_type": "code",
   "execution_count": 28,
   "id": "a4f4606c",
   "metadata": {},
   "outputs": [
    {
     "data": {
      "text/plain": [
       "Prediction(predictions=[{'classes': ['4', '5', '3', '1', '0', '8', '2', '7', '9', '6'], 'scores': [6.069624753600727e-16, 1.954054322864107e-12, 6.117282375095456e-11, 9.747689461159226e-11, 1.896347314950058e-15, 7.989873651581547e-09, 1.0, 3.530983144761635e-11, 2.633724266237411e-14, 3.530564783669338e-14]}], deployed_model_id='3356290030111817728', explanations=None)"
      ]
     },
     "execution_count": 28,
     "metadata": {},
     "output_type": "execute_result"
    }
   ],
   "source": [
    "prediction"
   ]
  },
  {
   "cell_type": "code",
   "execution_count": 29,
   "id": "67d8c44f",
   "metadata": {},
   "outputs": [
    {
     "data": {
      "text/plain": [
       "'2'"
      ]
     },
     "execution_count": 29,
     "metadata": {},
     "output_type": "execute_result"
    }
   ],
   "source": [
    "import numpy as np\n",
    "prediction.predictions[0]['classes'][np.argmax(prediction.predictions[0]['scores'])]"
   ]
  },
  {
   "cell_type": "markdown",
   "id": "b819482c",
   "metadata": {},
   "source": [
    "## Explanation\n",
    "Interpretation Guide\n",
    "- https://cloud.google.com/vertex-ai/docs/predictions/interpreting-results-automl#tabular"
   ]
  },
  {
   "cell_type": "code",
   "execution_count": 30,
   "id": "bfef75ca",
   "metadata": {},
   "outputs": [],
   "source": [
    "# get explanations\n",
    "explanation = endpoint.explain(instances=instances, parameters=parameters)"
   ]
  },
  {
   "cell_type": "code",
   "execution_count": 31,
   "id": "8de9b325",
   "metadata": {},
   "outputs": [
    {
     "data": {
      "text/plain": [
       "[{'scores': [6.069624753600727e-16,\n",
       "   1.954054322864107e-12,\n",
       "   6.117282375095456e-11,\n",
       "   9.747689461159226e-11,\n",
       "   1.896347314950058e-15,\n",
       "   7.989873651581547e-09,\n",
       "   1.0,\n",
       "   3.530983144761635e-11,\n",
       "   2.633724266237411e-14,\n",
       "   3.530564783669338e-14],\n",
       "  'classes': ['4', '5', '3', '1', '0', '8', '2', '7', '9', '6']}]"
      ]
     },
     "execution_count": 31,
     "metadata": {},
     "output_type": "execute_result"
    }
   ],
   "source": [
    "explanation.predictions"
   ]
  },
  {
   "cell_type": "code",
   "execution_count": 32,
   "id": "fbfbfa45",
   "metadata": {},
   "outputs": [
    {
     "name": "stdout",
     "output_type": "stream",
     "text": [
      "attribution:\n",
      "baseline output 0.003236972028389573\n",
      "instance output 1.0\n",
      "output_index [6]\n",
      "output display value 2\n",
      "approximation error 0.026670592544750134\n"
     ]
    }
   ],
   "source": [
    "print(\"attribution:\")\n",
    "print(\"baseline output\",explanation.explanations[0].attributions[0].baseline_output_value)\n",
    "print(\"instance output\",explanation.explanations[0].attributions[0].instance_output_value)\n",
    "print(\"output_index\",explanation.explanations[0].attributions[0].output_index)\n",
    "print(\"output display value\",explanation.explanations[0].attributions[0].output_display_name)\n",
    "print(\"approximation error\",explanation.explanations[0].attributions[0].approximation_error)"
   ]
  },
  {
   "cell_type": "code",
   "execution_count": 20,
   "id": "4c4b04b9",
   "metadata": {},
   "outputs": [
    {
     "data": {
      "text/plain": [
       "baseline_output_value: 0.003236972028389573\n",
       "instance_output_value: 1.0\n",
       "feature_attributions {\n",
       "  struct_value {\n",
       "    fields {\n",
       "      key: \"p0\"\n",
       "      value {\n",
       "        number_value: 0.0\n",
       "      }\n",
       "    }\n",
       "    fields {\n",
       "      key: \"p1\"\n",
       "      value {\n",
       "        number_value: 0.009378357574210636\n",
       "      }\n",
       "    }\n",
       "    fields {\n",
       "      key: \"p10\"\n",
       "      value {\n",
       "        number_value: 0.0\n",
       "      }\n",
       "    }\n",
       "    fields {\n",
       "      key: \"p11\"\n",
       "      value {\n",
       "        number_value: 0.001816767400928906\n",
       "      }\n",
       "    }\n",
       "    fields {\n",
       "      key: \"p12\"\n",
       "      value {\n",
       "        number_value: 0.0004308171503778015\n",
       "      }\n",
       "    }\n",
       "    fields {\n",
       "      key: \"p13\"\n",
       "      value {\n",
       "        number_value: 0.06674912792264617\n",
       "      }\n",
       "    }\n",
       "    fields {\n",
       "      key: \"p14\"\n",
       "      value {\n",
       "        number_value: 0.0\n",
       "      }\n",
       "    }\n",
       "    fields {\n",
       "      key: \"p15\"\n",
       "      value {\n",
       "        number_value: 0.0\n",
       "      }\n",
       "    }\n",
       "    fields {\n",
       "      key: \"p16\"\n",
       "      value {\n",
       "        number_value: 0.0\n",
       "      }\n",
       "    }\n",
       "    fields {\n",
       "      key: \"p17\"\n",
       "      value {\n",
       "        number_value: 0.0\n",
       "      }\n",
       "    }\n",
       "    fields {\n",
       "      key: \"p18\"\n",
       "      value {\n",
       "        number_value: 0.04211003320025546\n",
       "      }\n",
       "    }\n",
       "    fields {\n",
       "      key: \"p19\"\n",
       "      value {\n",
       "        number_value: -0.008873574327610965\n",
       "      }\n",
       "    }\n",
       "    fields {\n",
       "      key: \"p2\"\n",
       "      value {\n",
       "        number_value: 0.007570538453624717\n",
       "      }\n",
       "    }\n",
       "    fields {\n",
       "      key: \"p20\"\n",
       "      value {\n",
       "        number_value: 0.002434096398896405\n",
       "      }\n",
       "    }\n",
       "    fields {\n",
       "      key: \"p21\"\n",
       "      value {\n",
       "        number_value: 0.02482561005412468\n",
       "      }\n",
       "    }\n",
       "    fields {\n",
       "      key: \"p22\"\n",
       "      value {\n",
       "        number_value: 0.0\n",
       "      }\n",
       "    }\n",
       "    fields {\n",
       "      key: \"p23\"\n",
       "      value {\n",
       "        number_value: 0.0\n",
       "      }\n",
       "    }\n",
       "    fields {\n",
       "      key: \"p24\"\n",
       "      value {\n",
       "        number_value: 0.0\n",
       "      }\n",
       "    }\n",
       "    fields {\n",
       "      key: \"p25\"\n",
       "      value {\n",
       "        number_value: 0.0002282157240967666\n",
       "      }\n",
       "    }\n",
       "    fields {\n",
       "      key: \"p26\"\n",
       "      value {\n",
       "        number_value: 0.0931127554005278\n",
       "      }\n",
       "    }\n",
       "    fields {\n",
       "      key: \"p27\"\n",
       "      value {\n",
       "        number_value: -0.005489394077033337\n",
       "      }\n",
       "    }\n",
       "    fields {\n",
       "      key: \"p28\"\n",
       "      value {\n",
       "        number_value: 0.0003474789388876941\n",
       "      }\n",
       "    }\n",
       "    fields {\n",
       "      key: \"p29\"\n",
       "      value {\n",
       "        number_value: 0.03287208106900964\n",
       "      }\n",
       "    }\n",
       "    fields {\n",
       "      key: \"p3\"\n",
       "      value {\n",
       "        number_value: 0.01759742080633129\n",
       "      }\n",
       "    }\n",
       "    fields {\n",
       "      key: \"p30\"\n",
       "      value {\n",
       "        number_value: 0.0\n",
       "      }\n",
       "    }\n",
       "    fields {\n",
       "      key: \"p31\"\n",
       "      value {\n",
       "        number_value: 0.0\n",
       "      }\n",
       "    }\n",
       "    fields {\n",
       "      key: \"p32\"\n",
       "      value {\n",
       "        number_value: 0.0\n",
       "      }\n",
       "    }\n",
       "    fields {\n",
       "      key: \"p33\"\n",
       "      value {\n",
       "        number_value: 0.0\n",
       "      }\n",
       "    }\n",
       "    fields {\n",
       "      key: \"p34\"\n",
       "      value {\n",
       "        number_value: -0.01348325448842453\n",
       "      }\n",
       "    }\n",
       "    fields {\n",
       "      key: \"p35\"\n",
       "      value {\n",
       "        number_value: -0.01511962766692575\n",
       "      }\n",
       "    }\n",
       "    fields {\n",
       "      key: \"p36\"\n",
       "      value {\n",
       "        number_value: 0.006795166309789887\n",
       "      }\n",
       "    }\n",
       "    fields {\n",
       "      key: \"p37\"\n",
       "      value {\n",
       "        number_value: 0.02179402325834547\n",
       "      }\n",
       "    }\n",
       "    fields {\n",
       "      key: \"p38\"\n",
       "      value {\n",
       "        number_value: 0.002541711620454277\n",
       "      }\n",
       "    }\n",
       "    fields {\n",
       "      key: \"p39\"\n",
       "      value {\n",
       "        number_value: 0.0\n",
       "      }\n",
       "    }\n",
       "    fields {\n",
       "      key: \"p4\"\n",
       "      value {\n",
       "        number_value: 0.01282937319150993\n",
       "      }\n",
       "    }\n",
       "    fields {\n",
       "      key: \"p40\"\n",
       "      value {\n",
       "        number_value: 0.0\n",
       "      }\n",
       "    }\n",
       "    fields {\n",
       "      key: \"p41\"\n",
       "      value {\n",
       "        number_value: 0.01008919031093163\n",
       "      }\n",
       "    }\n",
       "    fields {\n",
       "      key: \"p42\"\n",
       "      value {\n",
       "        number_value: -0.02296077349456027\n",
       "      }\n",
       "    }\n",
       "    fields {\n",
       "      key: \"p43\"\n",
       "      value {\n",
       "        number_value: 0.0144097057304212\n",
       "      }\n",
       "    }\n",
       "    fields {\n",
       "      key: \"p44\"\n",
       "      value {\n",
       "        number_value: 0.1475015156237142\n",
       "      }\n",
       "    }\n",
       "    fields {\n",
       "      key: \"p45\"\n",
       "      value {\n",
       "        number_value: 0.02240384283608624\n",
       "      }\n",
       "    }\n",
       "    fields {\n",
       "      key: \"p46\"\n",
       "      value {\n",
       "        number_value: 4.979535671217101e-05\n",
       "      }\n",
       "    }\n",
       "    fields {\n",
       "      key: \"p47\"\n",
       "      value {\n",
       "        number_value: 0.0\n",
       "      }\n",
       "    }\n",
       "    fields {\n",
       "      key: \"p48\"\n",
       "      value {\n",
       "        number_value: 0.0\n",
       "      }\n",
       "    }\n",
       "    fields {\n",
       "      key: \"p49\"\n",
       "      value {\n",
       "        number_value: 0.0860638517354216\n",
       "      }\n",
       "    }\n",
       "    fields {\n",
       "      key: \"p5\"\n",
       "      value {\n",
       "        number_value: -0.003030303416640631\n",
       "      }\n",
       "    }\n",
       "    fields {\n",
       "      key: \"p50\"\n",
       "      value {\n",
       "        number_value: 0.02432352643726127\n",
       "      }\n",
       "    }\n",
       "    fields {\n",
       "      key: \"p51\"\n",
       "      value {\n",
       "        number_value: 0.01453492414605405\n",
       "      }\n",
       "    }\n",
       "    fields {\n",
       "      key: \"p52\"\n",
       "      value {\n",
       "        number_value: -0.01588524904634271\n",
       "      }\n",
       "    }\n",
       "    fields {\n",
       "      key: \"p53\"\n",
       "      value {\n",
       "        number_value: -0.003045210681323494\n",
       "      }\n",
       "    }\n",
       "    fields {\n",
       "      key: \"p54\"\n",
       "      value {\n",
       "        number_value: 0.006613799237779209\n",
       "      }\n",
       "    }\n",
       "    fields {\n",
       "      key: \"p55\"\n",
       "      value {\n",
       "        number_value: 0.0\n",
       "      }\n",
       "    }\n",
       "    fields {\n",
       "      key: \"p56\"\n",
       "      value {\n",
       "        number_value: 0.0\n",
       "      }\n",
       "    }\n",
       "    fields {\n",
       "      key: \"p57\"\n",
       "      value {\n",
       "        number_value: 0.2452499110451234\n",
       "      }\n",
       "    }\n",
       "    fields {\n",
       "      key: \"p58\"\n",
       "      value {\n",
       "        number_value: 0.05474314665687936\n",
       "      }\n",
       "    }\n",
       "    fields {\n",
       "      key: \"p59\"\n",
       "      value {\n",
       "        number_value: 0.01584862904357059\n",
       "      }\n",
       "    }\n",
       "    fields {\n",
       "      key: \"p6\"\n",
       "      value {\n",
       "        number_value: 0.0\n",
       "      }\n",
       "    }\n",
       "    fields {\n",
       "      key: \"p60\"\n",
       "      value {\n",
       "        number_value: 0.002461724681779742\n",
       "      }\n",
       "    }\n",
       "    fields {\n",
       "      key: \"p61\"\n",
       "      value {\n",
       "        number_value: 0.02263097972276487\n",
       "      }\n",
       "    }\n",
       "    fields {\n",
       "      key: \"p62\"\n",
       "      value {\n",
       "        number_value: 0.07139069929585926\n",
       "      }\n",
       "    }\n",
       "    fields {\n",
       "      key: \"p63\"\n",
       "      value {\n",
       "        number_value: 0.0\n",
       "      }\n",
       "    }\n",
       "    fields {\n",
       "      key: \"p7\"\n",
       "      value {\n",
       "        number_value: 0.0\n",
       "      }\n",
       "    }\n",
       "    fields {\n",
       "      key: \"p8\"\n",
       "      value {\n",
       "        number_value: 0.0\n",
       "      }\n",
       "    }\n",
       "    fields {\n",
       "      key: \"p9\"\n",
       "      value {\n",
       "        number_value: 0.002901598836095737\n",
       "      }\n",
       "    }\n",
       "  }\n",
       "}\n",
       "output_index: 6\n",
       "output_display_name: \"2\"\n",
       "approximation_error: 0.026670592544750134\n",
       "output_name: \"scores\""
      ]
     },
     "execution_count": 20,
     "metadata": {},
     "output_type": "execute_result"
    }
   ],
   "source": [
    "explanation.explanations[0].attributions[0]"
   ]
  },
  {
   "cell_type": "markdown",
   "id": "ec3451f1",
   "metadata": {},
   "source": [
    "### Batch Predictions: BigQuery Source to BigQuery Destination, with Explanations"
   ]
  },
  {
   "cell_type": "code",
   "execution_count": 21,
   "id": "000e5bce",
   "metadata": {},
   "outputs": [
    {
     "name": "stdout",
     "output_type": "stream",
     "text": [
      "INFO:google.cloud.aiplatform.jobs:Creating BatchPredictionJob\n",
      "INFO:google.cloud.aiplatform.jobs:BatchPredictionJob created. Resource name: projects/691911073727/locations/us-central1/batchPredictionJobs/2210620904201781248\n",
      "INFO:google.cloud.aiplatform.jobs:To use this BatchPredictionJob in another session:\n",
      "INFO:google.cloud.aiplatform.jobs:bpj = aiplatform.BatchPredictionJob('projects/691911073727/locations/us-central1/batchPredictionJobs/2210620904201781248')\n",
      "INFO:google.cloud.aiplatform.jobs:View Batch Prediction Job:\n",
      "https://console.cloud.google.com/ai/platform/locations/us-central1/batch-predictions/2210620904201781248?project=691911073727\n",
      "INFO:google.cloud.aiplatform.jobs:BatchPredictionJob projects/691911073727/locations/us-central1/batchPredictionJobs/2210620904201781248 current state:\n",
      "JobState.JOB_STATE_RUNNING\n",
      "INFO:google.cloud.aiplatform.jobs:BatchPredictionJob  run. Resource name: projects/691911073727/locations/us-central1/batchPredictionJobs/2210620904201781248\n"
     ]
    }
   ],
   "source": [
    "# batch predictions\n",
    "batch = aiplatform.BatchPredictionJob.create(\n",
    "    job_display_name='bq_digits_code_'+TIMESTAMP,\n",
    "    model_name=model.name,\n",
    "    instances_format=\"bigquery\",\n",
    "    predictions_format=\"bigquery\",\n",
    "    bigquery_source=\"bq://statmike-mlops.digits.digits_source\",\n",
    "    bigquery_destination_prefix=\"statmike-mlops\",\n",
    "    generate_explanation=True\n",
    ")"
   ]
  },
  {
   "cell_type": "code",
   "execution_count": null,
   "id": "b9317235",
   "metadata": {},
   "outputs": [],
   "source": []
  }
 ],
 "metadata": {
  "environment": {
   "name": "managed-notebooks.m70",
   "type": "gcloud",
   "uri": "gcr.io/deeplearning-platform-release/managed-notebooks:m70"
  },
  "kernelspec": {
   "display_name": "Python",
   "language": "python",
   "name": "base"
  },
  "language_info": {
   "codemirror_mode": {
    "name": "ipython",
    "version": 3
   },
   "file_extension": ".py",
   "mimetype": "text/x-python",
   "name": "python",
   "nbconvert_exporter": "python",
   "pygments_lexer": "ipython3",
   "version": "3.7.10"
  }
 },
 "nbformat": 4,
 "nbformat_minor": 5
}
