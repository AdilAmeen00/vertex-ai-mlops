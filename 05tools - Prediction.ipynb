{
 "cells": [
  {
   "cell_type": "markdown",
   "id": "5530ea8e-0359-4e32-a8f6-8beba4e4ee85",
   "metadata": {},
   "source": [
    "# 05x Tools - Prediction\n",
    "\n",
    "## WORK IN PROGRESS (7/28/2022)\n",
    "Predictions from models created in the 05 series of notebooks.\n",
    "\n",
    "\n",
    "This notebook will feature example of\n",
    "- using an endpoint for predictions: sync and async\n",
    "    - demonstrate endpoint scaling (async)\n",
    "- using traffic split for multiple models on an endpoint\n",
    "- hosting multiple models on an endpoint\n",
    "- create batch prediction jobs\n",
    "- import model into BigQuery for Batch Prediction"
   ]
  },
  {
   "cell_type": "markdown",
   "id": "7cbc1869-a004-40d7-99fe-8ae68becb8ef",
   "metadata": {},
   "source": [
    "---\n",
    "## Setup"
   ]
  },
  {
   "cell_type": "markdown",
   "id": "c4b93b74-91fd-433b-ac67-b9e6ac5cb140",
   "metadata": {},
   "source": [
    "inputs:"
   ]
  },
  {
   "cell_type": "code",
   "execution_count": 87,
   "id": "3d88f310-d3b5-4785-a5e6-ac8cdbcc630d",
   "metadata": {},
   "outputs": [
    {
     "data": {
      "text/plain": [
       "'statmike-mlops-349915'"
      ]
     },
     "execution_count": 87,
     "metadata": {},
     "output_type": "execute_result"
    }
   ],
   "source": [
    "project = !gcloud config get-value project\n",
    "PROJECT_ID = project[0]\n",
    "PROJECT_ID"
   ]
  },
  {
   "cell_type": "code",
   "execution_count": 88,
   "id": "8457d0e4-ab01-4933-b179-e7505abf0405",
   "metadata": {},
   "outputs": [],
   "source": [
    "REGION = 'us-central1'\n",
    "DATANAME = 'fraud'\n",
    "SERIES = '05'\n",
    "\n",
    "# Model Training\n",
    "VAR_TARGET = 'Class'\n",
    "VAR_OMIT = 'transaction_id' # add more variables to the string with space delimiters\n",
    "EPOCHS = 10\n",
    "BATCH_SIZE = 100"
   ]
  },
  {
   "cell_type": "markdown",
   "id": "a0bee74b-cc63-421b-b200-1323c7660c58",
   "metadata": {},
   "source": [
    "packages:"
   ]
  },
  {
   "cell_type": "code",
   "execution_count": 89,
   "id": "7fc761a0-cd7e-4cf8-aebb-281aae0e8ce3",
   "metadata": {},
   "outputs": [],
   "source": [
    "from google.cloud import aiplatform\n",
    "\n",
    "from google.cloud import bigquery\n",
    "from google.protobuf import json_format\n",
    "from google.protobuf.struct_pb2 import Value\n",
    "import json\n",
    "import numpy as np"
   ]
  },
  {
   "cell_type": "markdown",
   "id": "5e46fb44-b7aa-4b93-89b5-d43749f82440",
   "metadata": {},
   "source": [
    "clients:"
   ]
  },
  {
   "cell_type": "code",
   "execution_count": 90,
   "id": "0ac462e2-2294-4097-8639-c8c4f2920ec7",
   "metadata": {},
   "outputs": [],
   "source": [
    "aiplatform.init(project=PROJECT_ID, location=REGION)\n",
    "bq = bigquery.Client()"
   ]
  },
  {
   "cell_type": "markdown",
   "id": "7849d23b-2b68-40fa-b9cf-3b542cb70b82",
   "metadata": {},
   "source": [
    "parameters:"
   ]
  },
  {
   "cell_type": "code",
   "execution_count": null,
   "id": "c244567c-b232-4fba-8fca-adb13e66db50",
   "metadata": {},
   "outputs": [],
   "source": []
  },
  {
   "cell_type": "markdown",
   "id": "051d29e7-4048-4fa8-958b-24335c93a1c6",
   "metadata": {},
   "source": [
    "environment:"
   ]
  },
  {
   "cell_type": "code",
   "execution_count": null,
   "id": "defbbda3-8120-4bad-b30c-95b9b2e418ae",
   "metadata": {},
   "outputs": [],
   "source": []
  },
  {
   "cell_type": "markdown",
   "id": "5472125c-7255-415b-8ad4-16695fd68f4c",
   "metadata": {},
   "source": [
    "---\n",
    "## Online Predictions: Synchronous Examples"
   ]
  },
  {
   "cell_type": "markdown",
   "id": "2ad366a0-98fb-4066-8ac1-1979131996a5",
   "metadata": {},
   "source": [
    "### Get Endpoint\n",
    "\n",
    "```python\n",
    "endpoint\n",
    "endpoint.display_name\n",
    "endpoint.resource_name\n",
    "endpoint.traffic_split\n",
    "endpoint.list_models()\n",
    "```"
   ]
  },
  {
   "cell_type": "code",
   "execution_count": 91,
   "id": "24676dc8-cfd2-4a24-ad9b-b51710c2acf0",
   "metadata": {},
   "outputs": [],
   "source": [
    "endpoints = aiplatform.Endpoint.list(filter = f\"display_name={SERIES}_{DATANAME}\")\n",
    "endpoint = endpoints[0]"
   ]
  },
  {
   "cell_type": "markdown",
   "id": "4db80ba7-ee77-4c91-a59d-3a142e564b45",
   "metadata": {},
   "source": [
    "### Retrieve records for prediction"
   ]
  },
  {
   "cell_type": "code",
   "execution_count": 92,
   "id": "387789b5-8916-4109-a604-e6f91eb1a57f",
   "metadata": {},
   "outputs": [],
   "source": [
    "pred = bq.query(query = f\"SELECT * FROM {DATANAME}.{DATANAME}_prepped WHERE splits='TEST' LIMIT 1000\").to_dataframe()"
   ]
  },
  {
   "cell_type": "code",
   "execution_count": 93,
   "id": "deee9703-813c-45bd-a3e7-ffa2e9a3614e",
   "metadata": {},
   "outputs": [
    {
     "data": {
      "text/html": [
       "<div>\n",
       "<style scoped>\n",
       "    .dataframe tbody tr th:only-of-type {\n",
       "        vertical-align: middle;\n",
       "    }\n",
       "\n",
       "    .dataframe tbody tr th {\n",
       "        vertical-align: top;\n",
       "    }\n",
       "\n",
       "    .dataframe thead th {\n",
       "        text-align: right;\n",
       "    }\n",
       "</style>\n",
       "<table border=\"1\" class=\"dataframe\">\n",
       "  <thead>\n",
       "    <tr style=\"text-align: right;\">\n",
       "      <th></th>\n",
       "      <th>Time</th>\n",
       "      <th>V1</th>\n",
       "      <th>V2</th>\n",
       "      <th>V3</th>\n",
       "      <th>V4</th>\n",
       "      <th>V5</th>\n",
       "      <th>V6</th>\n",
       "      <th>V7</th>\n",
       "      <th>V8</th>\n",
       "      <th>V9</th>\n",
       "      <th>...</th>\n",
       "      <th>V23</th>\n",
       "      <th>V24</th>\n",
       "      <th>V25</th>\n",
       "      <th>V26</th>\n",
       "      <th>V27</th>\n",
       "      <th>V28</th>\n",
       "      <th>Amount</th>\n",
       "      <th>Class</th>\n",
       "      <th>transaction_id</th>\n",
       "      <th>splits</th>\n",
       "    </tr>\n",
       "  </thead>\n",
       "  <tbody>\n",
       "    <tr>\n",
       "      <th>0</th>\n",
       "      <td>32799</td>\n",
       "      <td>1.153477</td>\n",
       "      <td>-0.047859</td>\n",
       "      <td>1.358363</td>\n",
       "      <td>1.480620</td>\n",
       "      <td>-1.222598</td>\n",
       "      <td>-0.481690</td>\n",
       "      <td>-0.654461</td>\n",
       "      <td>0.128115</td>\n",
       "      <td>0.907095</td>\n",
       "      <td>...</td>\n",
       "      <td>-0.025964</td>\n",
       "      <td>0.701843</td>\n",
       "      <td>0.417245</td>\n",
       "      <td>-0.257691</td>\n",
       "      <td>0.060115</td>\n",
       "      <td>0.035332</td>\n",
       "      <td>0.0</td>\n",
       "      <td>0</td>\n",
       "      <td>e9d16028-4b41-4753-87ee-041d33642ae9</td>\n",
       "      <td>TEST</td>\n",
       "    </tr>\n",
       "    <tr>\n",
       "      <th>1</th>\n",
       "      <td>35483</td>\n",
       "      <td>1.286640</td>\n",
       "      <td>0.072917</td>\n",
       "      <td>0.212182</td>\n",
       "      <td>-0.269732</td>\n",
       "      <td>-0.283961</td>\n",
       "      <td>-0.663306</td>\n",
       "      <td>-0.016385</td>\n",
       "      <td>-0.120297</td>\n",
       "      <td>-0.135962</td>\n",
       "      <td>...</td>\n",
       "      <td>0.052674</td>\n",
       "      <td>0.076792</td>\n",
       "      <td>0.209208</td>\n",
       "      <td>0.847617</td>\n",
       "      <td>-0.086559</td>\n",
       "      <td>-0.008262</td>\n",
       "      <td>0.0</td>\n",
       "      <td>0</td>\n",
       "      <td>8b319d3a-2b2d-445b-a9a2-0da3d664ec2a</td>\n",
       "      <td>TEST</td>\n",
       "    </tr>\n",
       "    <tr>\n",
       "      <th>2</th>\n",
       "      <td>163935</td>\n",
       "      <td>1.961967</td>\n",
       "      <td>-0.247295</td>\n",
       "      <td>-1.751841</td>\n",
       "      <td>-0.268689</td>\n",
       "      <td>0.956431</td>\n",
       "      <td>0.707211</td>\n",
       "      <td>0.020675</td>\n",
       "      <td>0.189433</td>\n",
       "      <td>0.455055</td>\n",
       "      <td>...</td>\n",
       "      <td>0.186420</td>\n",
       "      <td>-1.621368</td>\n",
       "      <td>-0.131098</td>\n",
       "      <td>0.034276</td>\n",
       "      <td>-0.004909</td>\n",
       "      <td>-0.090859</td>\n",
       "      <td>0.0</td>\n",
       "      <td>0</td>\n",
       "      <td>788afb87-60aa-4482-8b48-c924bec634aa</td>\n",
       "      <td>TEST</td>\n",
       "    </tr>\n",
       "    <tr>\n",
       "      <th>3</th>\n",
       "      <td>30707</td>\n",
       "      <td>-0.964364</td>\n",
       "      <td>0.176372</td>\n",
       "      <td>2.464128</td>\n",
       "      <td>2.672539</td>\n",
       "      <td>0.145676</td>\n",
       "      <td>-0.152913</td>\n",
       "      <td>-0.591983</td>\n",
       "      <td>0.305066</td>\n",
       "      <td>-0.148034</td>\n",
       "      <td>...</td>\n",
       "      <td>-0.024200</td>\n",
       "      <td>0.365226</td>\n",
       "      <td>-0.745369</td>\n",
       "      <td>-0.060544</td>\n",
       "      <td>0.095692</td>\n",
       "      <td>0.217639</td>\n",
       "      <td>0.0</td>\n",
       "      <td>0</td>\n",
       "      <td>473d0936-1974-4ae8-ab70-230e7599bd3f</td>\n",
       "      <td>TEST</td>\n",
       "    </tr>\n",
       "  </tbody>\n",
       "</table>\n",
       "<p>4 rows × 33 columns</p>\n",
       "</div>"
      ],
      "text/plain": [
       "     Time        V1        V2        V3        V4        V5        V6  \\\n",
       "0   32799  1.153477 -0.047859  1.358363  1.480620 -1.222598 -0.481690   \n",
       "1   35483  1.286640  0.072917  0.212182 -0.269732 -0.283961 -0.663306   \n",
       "2  163935  1.961967 -0.247295 -1.751841 -0.268689  0.956431  0.707211   \n",
       "3   30707 -0.964364  0.176372  2.464128  2.672539  0.145676 -0.152913   \n",
       "\n",
       "         V7        V8        V9  ...       V23       V24       V25       V26  \\\n",
       "0 -0.654461  0.128115  0.907095  ... -0.025964  0.701843  0.417245 -0.257691   \n",
       "1 -0.016385 -0.120297 -0.135962  ...  0.052674  0.076792  0.209208  0.847617   \n",
       "2  0.020675  0.189433  0.455055  ...  0.186420 -1.621368 -0.131098  0.034276   \n",
       "3 -0.591983  0.305066 -0.148034  ... -0.024200  0.365226 -0.745369 -0.060544   \n",
       "\n",
       "        V27       V28  Amount  Class                        transaction_id  \\\n",
       "0  0.060115  0.035332     0.0      0  e9d16028-4b41-4753-87ee-041d33642ae9   \n",
       "1 -0.086559 -0.008262     0.0      0  8b319d3a-2b2d-445b-a9a2-0da3d664ec2a   \n",
       "2 -0.004909 -0.090859     0.0      0  788afb87-60aa-4482-8b48-c924bec634aa   \n",
       "3  0.095692  0.217639     0.0      0  473d0936-1974-4ae8-ab70-230e7599bd3f   \n",
       "\n",
       "   splits  \n",
       "0    TEST  \n",
       "1    TEST  \n",
       "2    TEST  \n",
       "3    TEST  \n",
       "\n",
       "[4 rows x 33 columns]"
      ]
     },
     "execution_count": 93,
     "metadata": {},
     "output_type": "execute_result"
    }
   ],
   "source": [
    "pred.head(4)"
   ]
  },
  {
   "cell_type": "code",
   "execution_count": 94,
   "id": "9932f548-2c04-4150-99e0-0da87e8f216c",
   "metadata": {},
   "outputs": [],
   "source": [
    "newobs = pred[pred.columns[~pred.columns.isin(VAR_OMIT.split()+[VAR_TARGET, 'splits'])]].to_dict(orient='records')\n",
    "#newobs[0]"
   ]
  },
  {
   "cell_type": "code",
   "execution_count": 95,
   "id": "74109e3f-fa98-4234-9496-4eb45dbabd90",
   "metadata": {},
   "outputs": [
    {
     "data": {
      "text/plain": [
       "1000"
      ]
     },
     "execution_count": 95,
     "metadata": {},
     "output_type": "execute_result"
    }
   ],
   "source": [
    "len(newobs)"
   ]
  },
  {
   "cell_type": "markdown",
   "id": "1e7e216e-ea79-45d5-ba7a-4134d450f3a7",
   "metadata": {},
   "source": [
    "### Get Single Prediction: Python Client"
   ]
  },
  {
   "cell_type": "code",
   "execution_count": 96,
   "id": "24393197-86d5-49a7-ae1a-2a912ede5608",
   "metadata": {},
   "outputs": [
    {
     "data": {
      "text/plain": [
       "Prediction(predictions=[[0.999275744, 0.000724321057]], deployed_model_id='7271945605738397696', model_version_id='', model_resource_name='projects/1026793852137/locations/us-central1/models/model_05i_fraud', explanations=None)"
      ]
     },
     "execution_count": 96,
     "metadata": {},
     "output_type": "execute_result"
    }
   ],
   "source": [
    "instances = [json_format.ParseDict(newobs[0], Value())]\n",
    "parameters = json_format.ParseDict({}, Value())\n",
    "\n",
    "prediction = endpoint.predict(instances=instances, parameters=parameters)\n",
    "prediction"
   ]
  },
  {
   "cell_type": "code",
   "execution_count": 97,
   "id": "f0da2dcc-870e-45b8-aa0f-863b062316dc",
   "metadata": {},
   "outputs": [
    {
     "data": {
      "text/plain": [
       "[0.999275744, 0.000724321057]"
      ]
     },
     "execution_count": 97,
     "metadata": {},
     "output_type": "execute_result"
    }
   ],
   "source": [
    "prediction.predictions[0]"
   ]
  },
  {
   "cell_type": "code",
   "execution_count": 98,
   "id": "b7f26223-beb7-4831-96a9-f7527fe5359b",
   "metadata": {},
   "outputs": [
    {
     "data": {
      "text/plain": [
       "0"
      ]
     },
     "execution_count": 98,
     "metadata": {},
     "output_type": "execute_result"
    }
   ],
   "source": [
    "np.argmax(prediction.predictions[0])"
   ]
  },
  {
   "cell_type": "markdown",
   "id": "91008544-01e5-4c27-97e4-844271865bfa",
   "metadata": {},
   "source": [
    "### Get Synchronous Predictions: Python Client"
   ]
  },
  {
   "cell_type": "code",
   "execution_count": 99,
   "id": "edc35b2f-b358-4862-9b8b-b5f3b4c6b0f8",
   "metadata": {},
   "outputs": [],
   "source": [
    "predictions = []\n",
    "for p in range(len(newobs)):\n",
    "    instances = [json_format.ParseDict(newobs[p], Value())]\n",
    "    parameters = json_format.ParseDict({}, Value())\n",
    "    prediction = endpoint.predict(instances=instances, parameters=parameters)\n",
    "    predictions.append(np.argmax(prediction.predictions[0]))"
   ]
  },
  {
   "cell_type": "code",
   "execution_count": 100,
   "id": "0b80748a-cf26-4b76-a200-8247a691275a",
   "metadata": {},
   "outputs": [
    {
     "data": {
      "text/plain": [
       "Counter({0: 997, 1: 3})"
      ]
     },
     "execution_count": 100,
     "metadata": {},
     "output_type": "execute_result"
    }
   ],
   "source": [
    "from collections import Counter\n",
    "c = Counter(predictions)\n",
    "c"
   ]
  },
  {
   "cell_type": "code",
   "execution_count": 68,
   "id": "ef8bc8bf-67cf-47d1-82ba-de6eb0e027aa",
   "metadata": {},
   "outputs": [
    {
     "data": {
      "text/plain": [
       "[85, 251, 473]"
      ]
     },
     "execution_count": 68,
     "metadata": {},
     "output_type": "execute_result"
    }
   ],
   "source": [
    "[i for i, j in enumerate(predictions) if j == 1]"
   ]
  },
  {
   "cell_type": "code",
   "execution_count": 69,
   "id": "84207f7d-22cf-49ec-bf8c-36da3a3416e7",
   "metadata": {},
   "outputs": [
    {
     "data": {
      "text/html": [
       "<div>\n",
       "<style scoped>\n",
       "    .dataframe tbody tr th:only-of-type {\n",
       "        vertical-align: middle;\n",
       "    }\n",
       "\n",
       "    .dataframe tbody tr th {\n",
       "        vertical-align: top;\n",
       "    }\n",
       "\n",
       "    .dataframe thead th {\n",
       "        text-align: right;\n",
       "    }\n",
       "</style>\n",
       "<table border=\"1\" class=\"dataframe\">\n",
       "  <thead>\n",
       "    <tr style=\"text-align: right;\">\n",
       "      <th></th>\n",
       "      <th>Time</th>\n",
       "      <th>V1</th>\n",
       "      <th>V2</th>\n",
       "      <th>V3</th>\n",
       "      <th>V4</th>\n",
       "      <th>V5</th>\n",
       "      <th>V6</th>\n",
       "      <th>V7</th>\n",
       "      <th>V8</th>\n",
       "      <th>V9</th>\n",
       "      <th>...</th>\n",
       "      <th>V23</th>\n",
       "      <th>V24</th>\n",
       "      <th>V25</th>\n",
       "      <th>V26</th>\n",
       "      <th>V27</th>\n",
       "      <th>V28</th>\n",
       "      <th>Amount</th>\n",
       "      <th>Class</th>\n",
       "      <th>transaction_id</th>\n",
       "      <th>splits</th>\n",
       "    </tr>\n",
       "  </thead>\n",
       "  <tbody>\n",
       "    <tr>\n",
       "      <th>85</th>\n",
       "      <td>148074</td>\n",
       "      <td>-2.219219</td>\n",
       "      <td>0.727831</td>\n",
       "      <td>-5.458230</td>\n",
       "      <td>5.924850</td>\n",
       "      <td>3.932464</td>\n",
       "      <td>-3.085984</td>\n",
       "      <td>-1.677870</td>\n",
       "      <td>0.865075</td>\n",
       "      <td>-3.177260</td>\n",
       "      <td>...</td>\n",
       "      <td>-0.028752</td>\n",
       "      <td>0.025723</td>\n",
       "      <td>-0.825835</td>\n",
       "      <td>-0.013089</td>\n",
       "      <td>0.413291</td>\n",
       "      <td>-0.131387</td>\n",
       "      <td>0.0</td>\n",
       "      <td>1</td>\n",
       "      <td>a13daf1c-d562-4f9e-b3a4-ba0bfe58d6fa</td>\n",
       "      <td>TEST</td>\n",
       "    </tr>\n",
       "    <tr>\n",
       "      <th>251</th>\n",
       "      <td>129668</td>\n",
       "      <td>0.753356</td>\n",
       "      <td>2.284988</td>\n",
       "      <td>-5.164492</td>\n",
       "      <td>3.831112</td>\n",
       "      <td>-0.073622</td>\n",
       "      <td>-1.316596</td>\n",
       "      <td>-1.855495</td>\n",
       "      <td>0.831079</td>\n",
       "      <td>-1.567514</td>\n",
       "      <td>...</td>\n",
       "      <td>0.187697</td>\n",
       "      <td>0.358433</td>\n",
       "      <td>-0.488934</td>\n",
       "      <td>-0.258802</td>\n",
       "      <td>0.296145</td>\n",
       "      <td>-0.047174</td>\n",
       "      <td>2.0</td>\n",
       "      <td>1</td>\n",
       "      <td>ccbcb7b2-79be-4ad0-9b75-771f695ef69b</td>\n",
       "      <td>TEST</td>\n",
       "    </tr>\n",
       "    <tr>\n",
       "      <th>473</th>\n",
       "      <td>56887</td>\n",
       "      <td>-0.075483</td>\n",
       "      <td>1.812355</td>\n",
       "      <td>-2.566981</td>\n",
       "      <td>4.127549</td>\n",
       "      <td>-1.628532</td>\n",
       "      <td>-0.805895</td>\n",
       "      <td>-3.390135</td>\n",
       "      <td>1.019353</td>\n",
       "      <td>-2.451251</td>\n",
       "      <td>...</td>\n",
       "      <td>-0.143624</td>\n",
       "      <td>0.013566</td>\n",
       "      <td>0.634203</td>\n",
       "      <td>0.213693</td>\n",
       "      <td>0.773625</td>\n",
       "      <td>0.387434</td>\n",
       "      <td>5.0</td>\n",
       "      <td>1</td>\n",
       "      <td>ba8d853c-0e20-4422-a9f0-03daa3b492e7</td>\n",
       "      <td>TEST</td>\n",
       "    </tr>\n",
       "  </tbody>\n",
       "</table>\n",
       "<p>3 rows × 33 columns</p>\n",
       "</div>"
      ],
      "text/plain": [
       "       Time        V1        V2        V3        V4        V5        V6  \\\n",
       "85   148074 -2.219219  0.727831 -5.458230  5.924850  3.932464 -3.085984   \n",
       "251  129668  0.753356  2.284988 -5.164492  3.831112 -0.073622 -1.316596   \n",
       "473   56887 -0.075483  1.812355 -2.566981  4.127549 -1.628532 -0.805895   \n",
       "\n",
       "           V7        V8        V9  ...       V23       V24       V25  \\\n",
       "85  -1.677870  0.865075 -3.177260  ... -0.028752  0.025723 -0.825835   \n",
       "251 -1.855495  0.831079 -1.567514  ...  0.187697  0.358433 -0.488934   \n",
       "473 -3.390135  1.019353 -2.451251  ... -0.143624  0.013566  0.634203   \n",
       "\n",
       "          V26       V27       V28  Amount  Class  \\\n",
       "85  -0.013089  0.413291 -0.131387     0.0      1   \n",
       "251 -0.258802  0.296145 -0.047174     2.0      1   \n",
       "473  0.213693  0.773625  0.387434     5.0      1   \n",
       "\n",
       "                           transaction_id  splits  \n",
       "85   a13daf1c-d562-4f9e-b3a4-ba0bfe58d6fa    TEST  \n",
       "251  ccbcb7b2-79be-4ad0-9b75-771f695ef69b    TEST  \n",
       "473  ba8d853c-0e20-4422-a9f0-03daa3b492e7    TEST  \n",
       "\n",
       "[3 rows x 33 columns]"
      ]
     },
     "execution_count": 69,
     "metadata": {},
     "output_type": "execute_result"
    }
   ],
   "source": [
    "pred.iloc[[i for i, j in enumerate(predictions) if j == 1]]"
   ]
  },
  {
   "cell_type": "markdown",
   "id": "3f8d80dc-2a33-47ba-b816-dab67a1fd100",
   "metadata": {},
   "source": [
    "---\n",
    "## Batch Predictions: BigQuery ML\n",
    "\n",
    "Load a model to BigQuery and use BQML to create predictions.  Need the URI of TensorFlow model."
   ]
  },
  {
   "cell_type": "markdown",
   "id": "9ebb0542-e3ff-492c-9d0b-93c75e631bea",
   "metadata": {},
   "source": [
    "### Get Endpoint\n",
    "Model is currently deployed for online prediction.  Retrieve the current model and import to BigQuery for predictions."
   ]
  },
  {
   "cell_type": "code",
   "execution_count": 70,
   "id": "fd10501b-20a2-46b1-a706-97b11f7f7e3c",
   "metadata": {},
   "outputs": [],
   "source": [
    "endpoints = aiplatform.Endpoint.list(filter = f\"display_name={SERIES}_{DATANAME}\")\n",
    "endpoint = endpoints[0]"
   ]
  },
  {
   "cell_type": "code",
   "execution_count": 71,
   "id": "93a59f2d-4f65-4ac1-82f7-925c1f3b6d74",
   "metadata": {},
   "outputs": [
    {
     "data": {
      "text/plain": [
       "'projects/1026793852137/locations/us-central1/models/model_05i_fraud'"
      ]
     },
     "execution_count": 71,
     "metadata": {},
     "output_type": "execute_result"
    }
   ],
   "source": [
    "endpoint.list_models()[0].model"
   ]
  },
  {
   "cell_type": "markdown",
   "id": "88e8a5d2-a19c-4134-8d8d-75c33ce81281",
   "metadata": {},
   "source": [
    "### Get Model At Endpoint"
   ]
  },
  {
   "cell_type": "code",
   "execution_count": 72,
   "id": "3fee7c79-8d6e-42b2-a3ee-a778200a40e3",
   "metadata": {},
   "outputs": [],
   "source": [
    "model = aiplatform.Model(model_name = endpoint.list_models()[0].model)"
   ]
  },
  {
   "cell_type": "code",
   "execution_count": 73,
   "id": "bae13e77-6944-4668-8367-8f992fabc811",
   "metadata": {},
   "outputs": [
    {
     "data": {
      "text/plain": [
       "'gs://statmike-mlops-349915/fraud/models/05i/20220728003419/18/model'"
      ]
     },
     "execution_count": 73,
     "metadata": {},
     "output_type": "execute_result"
    }
   ],
   "source": [
    "model.uri"
   ]
  },
  {
   "cell_type": "code",
   "execution_count": 74,
   "id": "4b8c3ad3-5307-4e66-940a-0c00d975ffb7",
   "metadata": {},
   "outputs": [
    {
     "data": {
      "text/plain": [
       "'model_05i_fraud'"
      ]
     },
     "execution_count": 74,
     "metadata": {},
     "output_type": "execute_result"
    }
   ],
   "source": [
    "model.name"
   ]
  },
  {
   "cell_type": "markdown",
   "id": "7e1e0252-2965-4dac-93b4-ba1b023d0c6d",
   "metadata": {},
   "source": [
    "### Import Model Into BigQuery"
   ]
  },
  {
   "cell_type": "code",
   "execution_count": 81,
   "id": "70448119-e4c3-484e-a595-73e38e689117",
   "metadata": {},
   "outputs": [],
   "source": [
    "query = f'''\n",
    "CREATE OR REPLACE MODEL `{PROJECT_ID}.{DATANAME}.{model.name}`\n",
    "    OPTIONS(\n",
    "        MODEL_TYPE = 'TENSORFLOW',\n",
    "        MODEL_PATH = '{model.uri}/*')\n",
    "'''"
   ]
  },
  {
   "cell_type": "code",
   "execution_count": 82,
   "id": "657c073c-0c1b-4ef9-b5be-b1be7e765f4e",
   "metadata": {},
   "outputs": [
    {
     "name": "stdout",
     "output_type": "stream",
     "text": [
      "\n",
      "CREATE OR REPLACE MODEL `statmike-mlops-349915.fraud.model_05i_fraud`\n",
      "    OPTIONS(\n",
      "        MODEL_TYPE = 'TENSORFLOW',\n",
      "        MODEL_PATH = 'gs://statmike-mlops-349915/fraud/models/05i/20220728003419/18/model/*')\n",
      "\n"
     ]
    }
   ],
   "source": [
    "print(query)"
   ]
  },
  {
   "cell_type": "code",
   "execution_count": 83,
   "id": "a2515237-3702-461a-ba0b-2a1eaa17fc59",
   "metadata": {},
   "outputs": [
    {
     "data": {
      "text/plain": [
       "4.049"
      ]
     },
     "execution_count": 83,
     "metadata": {},
     "output_type": "execute_result"
    }
   ],
   "source": [
    "job = bq.query(query = query)\n",
    "job.result()\n",
    "(job.ended-job.started).total_seconds()"
   ]
  },
  {
   "cell_type": "markdown",
   "id": "caa1d1d0-c8dd-4ab3-968d-f5cdcb7180d6",
   "metadata": {},
   "source": [
    "### Generate Predictions With BigQuery (ML.Predict)"
   ]
  },
  {
   "cell_type": "code",
   "execution_count": 86,
   "id": "cfb1efc5-670f-417e-b763-9706b06159a3",
   "metadata": {},
   "outputs": [
    {
     "data": {
      "text/html": [
       "<div>\n",
       "<style scoped>\n",
       "    .dataframe tbody tr th:only-of-type {\n",
       "        vertical-align: middle;\n",
       "    }\n",
       "\n",
       "    .dataframe tbody tr th {\n",
       "        vertical-align: top;\n",
       "    }\n",
       "\n",
       "    .dataframe thead th {\n",
       "        text-align: right;\n",
       "    }\n",
       "</style>\n",
       "<table border=\"1\" class=\"dataframe\">\n",
       "  <thead>\n",
       "    <tr style=\"text-align: right;\">\n",
       "      <th></th>\n",
       "      <th>dense</th>\n",
       "      <th>Time</th>\n",
       "      <th>V1</th>\n",
       "      <th>V2</th>\n",
       "      <th>V3</th>\n",
       "      <th>V4</th>\n",
       "      <th>V5</th>\n",
       "      <th>V6</th>\n",
       "      <th>V7</th>\n",
       "      <th>V8</th>\n",
       "      <th>...</th>\n",
       "      <th>V23</th>\n",
       "      <th>V24</th>\n",
       "      <th>V25</th>\n",
       "      <th>V26</th>\n",
       "      <th>V27</th>\n",
       "      <th>V28</th>\n",
       "      <th>Amount</th>\n",
       "      <th>Class</th>\n",
       "      <th>transaction_id</th>\n",
       "      <th>splits</th>\n",
       "    </tr>\n",
       "  </thead>\n",
       "  <tbody>\n",
       "    <tr>\n",
       "      <th>0</th>\n",
       "      <td>[0.0016647283919155598, 0.9983352422714233]</td>\n",
       "      <td>148074</td>\n",
       "      <td>-2.219219</td>\n",
       "      <td>0.727831</td>\n",
       "      <td>-5.458230</td>\n",
       "      <td>5.924850</td>\n",
       "      <td>3.932464</td>\n",
       "      <td>-3.085984</td>\n",
       "      <td>-1.677870</td>\n",
       "      <td>0.865075</td>\n",
       "      <td>...</td>\n",
       "      <td>-0.028752</td>\n",
       "      <td>0.025723</td>\n",
       "      <td>-0.825835</td>\n",
       "      <td>-0.013089</td>\n",
       "      <td>0.413291</td>\n",
       "      <td>-0.131387</td>\n",
       "      <td>0.0</td>\n",
       "      <td>1</td>\n",
       "      <td>a13daf1c-d562-4f9e-b3a4-ba0bfe58d6fa</td>\n",
       "      <td>TEST</td>\n",
       "    </tr>\n",
       "    <tr>\n",
       "      <th>1</th>\n",
       "      <td>[0.016800928860902786, 0.9831990003585815]</td>\n",
       "      <td>129668</td>\n",
       "      <td>0.753356</td>\n",
       "      <td>2.284988</td>\n",
       "      <td>-5.164492</td>\n",
       "      <td>3.831112</td>\n",
       "      <td>-0.073622</td>\n",
       "      <td>-1.316596</td>\n",
       "      <td>-1.855495</td>\n",
       "      <td>0.831079</td>\n",
       "      <td>...</td>\n",
       "      <td>0.187697</td>\n",
       "      <td>0.358433</td>\n",
       "      <td>-0.488934</td>\n",
       "      <td>-0.258802</td>\n",
       "      <td>0.296145</td>\n",
       "      <td>-0.047174</td>\n",
       "      <td>2.0</td>\n",
       "      <td>1</td>\n",
       "      <td>ccbcb7b2-79be-4ad0-9b75-771f695ef69b</td>\n",
       "      <td>TEST</td>\n",
       "    </tr>\n",
       "    <tr>\n",
       "      <th>2</th>\n",
       "      <td>[0.0005459527601487935, 0.9994540810585022]</td>\n",
       "      <td>56887</td>\n",
       "      <td>-0.075483</td>\n",
       "      <td>1.812355</td>\n",
       "      <td>-2.566981</td>\n",
       "      <td>4.127549</td>\n",
       "      <td>-1.628532</td>\n",
       "      <td>-0.805895</td>\n",
       "      <td>-3.390135</td>\n",
       "      <td>1.019353</td>\n",
       "      <td>...</td>\n",
       "      <td>-0.143624</td>\n",
       "      <td>0.013566</td>\n",
       "      <td>0.634203</td>\n",
       "      <td>0.213693</td>\n",
       "      <td>0.773625</td>\n",
       "      <td>0.387434</td>\n",
       "      <td>5.0</td>\n",
       "      <td>1</td>\n",
       "      <td>ba8d853c-0e20-4422-a9f0-03daa3b492e7</td>\n",
       "      <td>TEST</td>\n",
       "    </tr>\n",
       "    <tr>\n",
       "      <th>3</th>\n",
       "      <td>[0.8952898979187012, 0.10471007227897644]</td>\n",
       "      <td>146998</td>\n",
       "      <td>-2.064240</td>\n",
       "      <td>2.629739</td>\n",
       "      <td>-0.748406</td>\n",
       "      <td>0.694992</td>\n",
       "      <td>0.418178</td>\n",
       "      <td>1.392520</td>\n",
       "      <td>-1.697801</td>\n",
       "      <td>-6.333065</td>\n",
       "      <td>...</td>\n",
       "      <td>0.459861</td>\n",
       "      <td>-1.051685</td>\n",
       "      <td>0.209178</td>\n",
       "      <td>-0.319859</td>\n",
       "      <td>0.015434</td>\n",
       "      <td>-0.050117</td>\n",
       "      <td>8.0</td>\n",
       "      <td>1</td>\n",
       "      <td>f390e04f-14f4-4c77-b18d-6adb8da79b54</td>\n",
       "      <td>TEST</td>\n",
       "    </tr>\n",
       "    <tr>\n",
       "      <th>4</th>\n",
       "      <td>[0.11997880041599274, 0.8800212740898132]</td>\n",
       "      <td>78725</td>\n",
       "      <td>-4.312479</td>\n",
       "      <td>1.886476</td>\n",
       "      <td>-2.338634</td>\n",
       "      <td>-0.475243</td>\n",
       "      <td>-1.185444</td>\n",
       "      <td>-2.112079</td>\n",
       "      <td>-2.122793</td>\n",
       "      <td>0.272565</td>\n",
       "      <td>...</td>\n",
       "      <td>-1.114692</td>\n",
       "      <td>0.269069</td>\n",
       "      <td>-0.020572</td>\n",
       "      <td>-0.963489</td>\n",
       "      <td>-0.918888</td>\n",
       "      <td>0.001454</td>\n",
       "      <td>60.0</td>\n",
       "      <td>1</td>\n",
       "      <td>37db7004-4459-48a3-8464-24c5ff19cc3b</td>\n",
       "      <td>TEST</td>\n",
       "    </tr>\n",
       "    <tr>\n",
       "      <th>5</th>\n",
       "      <td>[4.79785031131931e-16, 0.9999999403953552]</td>\n",
       "      <td>14152</td>\n",
       "      <td>-4.710529</td>\n",
       "      <td>8.636214</td>\n",
       "      <td>-15.496222</td>\n",
       "      <td>10.313349</td>\n",
       "      <td>-4.351341</td>\n",
       "      <td>-3.322689</td>\n",
       "      <td>-10.788373</td>\n",
       "      <td>5.060381</td>\n",
       "      <td>...</td>\n",
       "      <td>0.554408</td>\n",
       "      <td>-1.204042</td>\n",
       "      <td>-0.450685</td>\n",
       "      <td>0.641836</td>\n",
       "      <td>1.605958</td>\n",
       "      <td>0.721644</td>\n",
       "      <td>1.0</td>\n",
       "      <td>1</td>\n",
       "      <td>5bb6c913-1486-4421-a791-f13511b24f1f</td>\n",
       "      <td>TEST</td>\n",
       "    </tr>\n",
       "    <tr>\n",
       "      <th>6</th>\n",
       "      <td>[6.733386092618032e-14, 0.9999999403953552]</td>\n",
       "      <td>21419</td>\n",
       "      <td>-17.467710</td>\n",
       "      <td>10.114816</td>\n",
       "      <td>-24.202142</td>\n",
       "      <td>11.805469</td>\n",
       "      <td>-10.198046</td>\n",
       "      <td>-2.579938</td>\n",
       "      <td>-17.656788</td>\n",
       "      <td>2.256902</td>\n",
       "      <td>...</td>\n",
       "      <td>1.296817</td>\n",
       "      <td>-1.055104</td>\n",
       "      <td>0.111792</td>\n",
       "      <td>0.679695</td>\n",
       "      <td>2.093541</td>\n",
       "      <td>-1.425491</td>\n",
       "      <td>1.0</td>\n",
       "      <td>1</td>\n",
       "      <td>8922139c-c818-4d35-a996-7dc72d19216a</td>\n",
       "      <td>TEST</td>\n",
       "    </tr>\n",
       "    <tr>\n",
       "      <th>7</th>\n",
       "      <td>[1.3924342056270689e-05, 0.9999859929084778]</td>\n",
       "      <td>143456</td>\n",
       "      <td>-2.006582</td>\n",
       "      <td>3.676577</td>\n",
       "      <td>-5.463811</td>\n",
       "      <td>7.232058</td>\n",
       "      <td>-1.627859</td>\n",
       "      <td>-0.996755</td>\n",
       "      <td>-4.299833</td>\n",
       "      <td>2.268867</td>\n",
       "      <td>...</td>\n",
       "      <td>0.167947</td>\n",
       "      <td>-0.449864</td>\n",
       "      <td>0.023702</td>\n",
       "      <td>0.536905</td>\n",
       "      <td>0.485864</td>\n",
       "      <td>-0.042393</td>\n",
       "      <td>1.0</td>\n",
       "      <td>1</td>\n",
       "      <td>ebd4dc94-3c92-41c8-b158-88ea102a5c23</td>\n",
       "      <td>TEST</td>\n",
       "    </tr>\n",
       "    <tr>\n",
       "      <th>8</th>\n",
       "      <td>[1.3694696463062428e-05, 0.9999862909317017]</td>\n",
       "      <td>40662</td>\n",
       "      <td>-4.446847</td>\n",
       "      <td>-0.014793</td>\n",
       "      <td>-5.126307</td>\n",
       "      <td>6.945130</td>\n",
       "      <td>5.269255</td>\n",
       "      <td>-4.297177</td>\n",
       "      <td>-2.591242</td>\n",
       "      <td>0.342671</td>\n",
       "      <td>...</td>\n",
       "      <td>-0.226017</td>\n",
       "      <td>-0.401236</td>\n",
       "      <td>0.856124</td>\n",
       "      <td>0.661272</td>\n",
       "      <td>0.492560</td>\n",
       "      <td>0.971834</td>\n",
       "      <td>1.0</td>\n",
       "      <td>1</td>\n",
       "      <td>632895ce-64c7-4296-a638-ca415be392df</td>\n",
       "      <td>TEST</td>\n",
       "    </tr>\n",
       "    <tr>\n",
       "      <th>9</th>\n",
       "      <td>[0.9690614938735962, 0.030938537791371346]</td>\n",
       "      <td>77171</td>\n",
       "      <td>1.118560</td>\n",
       "      <td>1.291858</td>\n",
       "      <td>-1.298805</td>\n",
       "      <td>2.135772</td>\n",
       "      <td>0.772204</td>\n",
       "      <td>-1.147291</td>\n",
       "      <td>0.390578</td>\n",
       "      <td>-0.107072</td>\n",
       "      <td>...</td>\n",
       "      <td>-0.102326</td>\n",
       "      <td>0.017911</td>\n",
       "      <td>0.650302</td>\n",
       "      <td>-0.332366</td>\n",
       "      <td>0.105949</td>\n",
       "      <td>0.128124</td>\n",
       "      <td>1.0</td>\n",
       "      <td>1</td>\n",
       "      <td>b17e46f7-9352-4bd0-91d4-4260be816363</td>\n",
       "      <td>TEST</td>\n",
       "    </tr>\n",
       "  </tbody>\n",
       "</table>\n",
       "<p>10 rows × 34 columns</p>\n",
       "</div>"
      ],
      "text/plain": [
       "                                          dense    Time         V1         V2  \\\n",
       "0   [0.0016647283919155598, 0.9983352422714233]  148074  -2.219219   0.727831   \n",
       "1    [0.016800928860902786, 0.9831990003585815]  129668   0.753356   2.284988   \n",
       "2   [0.0005459527601487935, 0.9994540810585022]   56887  -0.075483   1.812355   \n",
       "3     [0.8952898979187012, 0.10471007227897644]  146998  -2.064240   2.629739   \n",
       "4     [0.11997880041599274, 0.8800212740898132]   78725  -4.312479   1.886476   \n",
       "5    [4.79785031131931e-16, 0.9999999403953552]   14152  -4.710529   8.636214   \n",
       "6   [6.733386092618032e-14, 0.9999999403953552]   21419 -17.467710  10.114816   \n",
       "7  [1.3924342056270689e-05, 0.9999859929084778]  143456  -2.006582   3.676577   \n",
       "8  [1.3694696463062428e-05, 0.9999862909317017]   40662  -4.446847  -0.014793   \n",
       "9    [0.9690614938735962, 0.030938537791371346]   77171   1.118560   1.291858   \n",
       "\n",
       "          V3         V4         V5        V6         V7        V8  ...  \\\n",
       "0  -5.458230   5.924850   3.932464 -3.085984  -1.677870  0.865075  ...   \n",
       "1  -5.164492   3.831112  -0.073622 -1.316596  -1.855495  0.831079  ...   \n",
       "2  -2.566981   4.127549  -1.628532 -0.805895  -3.390135  1.019353  ...   \n",
       "3  -0.748406   0.694992   0.418178  1.392520  -1.697801 -6.333065  ...   \n",
       "4  -2.338634  -0.475243  -1.185444 -2.112079  -2.122793  0.272565  ...   \n",
       "5 -15.496222  10.313349  -4.351341 -3.322689 -10.788373  5.060381  ...   \n",
       "6 -24.202142  11.805469 -10.198046 -2.579938 -17.656788  2.256902  ...   \n",
       "7  -5.463811   7.232058  -1.627859 -0.996755  -4.299833  2.268867  ...   \n",
       "8  -5.126307   6.945130   5.269255 -4.297177  -2.591242  0.342671  ...   \n",
       "9  -1.298805   2.135772   0.772204 -1.147291   0.390578 -0.107072  ...   \n",
       "\n",
       "        V23       V24       V25       V26       V27       V28  Amount  Class  \\\n",
       "0 -0.028752  0.025723 -0.825835 -0.013089  0.413291 -0.131387     0.0      1   \n",
       "1  0.187697  0.358433 -0.488934 -0.258802  0.296145 -0.047174     2.0      1   \n",
       "2 -0.143624  0.013566  0.634203  0.213693  0.773625  0.387434     5.0      1   \n",
       "3  0.459861 -1.051685  0.209178 -0.319859  0.015434 -0.050117     8.0      1   \n",
       "4 -1.114692  0.269069 -0.020572 -0.963489 -0.918888  0.001454    60.0      1   \n",
       "5  0.554408 -1.204042 -0.450685  0.641836  1.605958  0.721644     1.0      1   \n",
       "6  1.296817 -1.055104  0.111792  0.679695  2.093541 -1.425491     1.0      1   \n",
       "7  0.167947 -0.449864  0.023702  0.536905  0.485864 -0.042393     1.0      1   \n",
       "8 -0.226017 -0.401236  0.856124  0.661272  0.492560  0.971834     1.0      1   \n",
       "9 -0.102326  0.017911  0.650302 -0.332366  0.105949  0.128124     1.0      1   \n",
       "\n",
       "                         transaction_id  splits  \n",
       "0  a13daf1c-d562-4f9e-b3a4-ba0bfe58d6fa    TEST  \n",
       "1  ccbcb7b2-79be-4ad0-9b75-771f695ef69b    TEST  \n",
       "2  ba8d853c-0e20-4422-a9f0-03daa3b492e7    TEST  \n",
       "3  f390e04f-14f4-4c77-b18d-6adb8da79b54    TEST  \n",
       "4  37db7004-4459-48a3-8464-24c5ff19cc3b    TEST  \n",
       "5  5bb6c913-1486-4421-a791-f13511b24f1f    TEST  \n",
       "6  8922139c-c818-4d35-a996-7dc72d19216a    TEST  \n",
       "7  ebd4dc94-3c92-41c8-b158-88ea102a5c23    TEST  \n",
       "8  632895ce-64c7-4296-a638-ca415be392df    TEST  \n",
       "9  b17e46f7-9352-4bd0-91d4-4260be816363    TEST  \n",
       "\n",
       "[10 rows x 34 columns]"
      ]
     },
     "execution_count": 86,
     "metadata": {},
     "output_type": "execute_result"
    }
   ],
   "source": [
    "query = f'''\n",
    "SELECT *\n",
    "FROM ML.PREDICT(\n",
    "    MODEL `{PROJECT_ID}.{DATANAME}.{model.name}`, (\n",
    "        SELECT * \n",
    "        FROM {DATANAME}.{DATANAME}_prepped\n",
    "        WHERE splits='TEST' AND Class = 1\n",
    "        LIMIT 10\n",
    "    )\n",
    ")\n",
    "'''\n",
    "results = bq.query(query = query).to_dataframe()\n",
    "results"
   ]
  },
  {
   "cell_type": "code",
   "execution_count": null,
   "id": "b3fd3de5-c7b4-4b92-b743-34c2e0288186",
   "metadata": {},
   "outputs": [],
   "source": []
  }
 ],
 "metadata": {
  "environment": {
   "kernel": "python3",
   "name": "tf2-gpu.2-3.m94",
   "type": "gcloud",
   "uri": "gcr.io/deeplearning-platform-release/tf2-gpu.2-3:m94"
  },
  "kernelspec": {
   "display_name": "Python 3",
   "language": "python",
   "name": "python3"
  },
  "language_info": {
   "codemirror_mode": {
    "name": "ipython",
    "version": 3
   },
   "file_extension": ".py",
   "mimetype": "text/x-python",
   "name": "python",
   "nbconvert_exporter": "python",
   "pygments_lexer": "ipython3",
   "version": "3.7.12"
  }
 },
 "nbformat": 4,
 "nbformat_minor": 5
}
