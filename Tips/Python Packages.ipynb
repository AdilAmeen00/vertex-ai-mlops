{
 "cells": [
  {
   "cell_type": "markdown",
   "id": "616a1185-fc50-4a14-8670-37c35e29d9ea",
   "metadata": {},
   "source": [
    "# Python Packages - for Training Code\n",
    "### IN ACTIVE DEVELOPMENT - not complete\n",
    "\n",
    "At the simplest, all the training code may be in a single `filename.py` file that is a module. There are a couple of layers of depth that are commonly added to this:\n",
    "\n",
    "**Python Modules**\n",
    "\n",
    "Modules are files: `filename.py`\n",
    "\n",
    "**Python Project**\n",
    "\n",
    "Projects are collections of **Python Modules** in folders and possibly subfolders.  Here is an example project named `trainer`.\n",
    "```bash\n",
    "│   │   ├── trainer/\n",
    "│   │   │   ├── __init__.py\n",
    "│   │   │   ├── train.py\n",
    "│   │   │   ├── module_1.py\n",
    "│   │   │   ├── helpers/\n",
    "│   │   │   │   ├── __init__.py\n",
    "│   │   │   │   ├── module_a.py\n",
    "│   │   │   │   ├── module_a.py\n",
    "```\n",
    "Here the `train.py` might have `import module_1` and `import helpers.module_a as module_a`.  Note the `__init__.py` file in the folders - this is an empty file that lets Python know the folder can be imported as a module.\n",
    "\n",
    "**Python Packages**\n",
    "\n",
    "Packages are creating by adding necessary files to a **Python Project** to help create a distribution package.\n",
    "```bash\n",
    "├── training_package/\n",
    "│   ├── pyproject.toml\n",
    "│   ├── src/\n",
    "│   │   ├── trainer/\n",
    "│   │   │   ├── __init__.py\n",
    "│   │   │   ├── train.py\n",
    "│   │   │   ├── module_1.py\n",
    "│   │   │   ├── helpers/\n",
    "│   │   │   │   ├── __init__.py\n",
    "│   │   │   │   ├── module_a.py\n",
    "│   │   │   │   ├── module_a.py\n",
    "```\n",
    "\n",
    "Example `pyproject.toml` file that sets `setuptools` as the build system:\n",
    "```python\n",
    "[build-system]\n",
    "requires = [\"setuptools\"]\n",
    "build-backend = \"setuptools.build_meta\"\n",
    "\n",
    "[project]\n",
    "name = 'trainer'\n",
    "version = '0.1'\n",
    "dependencies = ['tensorflow_io', 'google-cloud-aiplatform>=1.17.0']\n",
    "description = 'Training Package'\n",
    "authors = [{{name = 'statmike'}}]\n",
    "```\n",
    "\n",
    "**Python Distribution Archive**\n",
    "\n",
    "Prepare **Python Packages** for distribution - called an archive, distribution, or distribution archive. There are two formats for these:\n",
    "- `file.tar.gz` is a source distributions\n",
    "    - created with `python setup.py sdist` or `python -m build` run in the package level folder\n",
    "    - tarballs, `file.tar`, a collection of files wrapped into a single file\n",
    "    - compressed, `file.tar.gz`, using [gzip](https://www.gzip.org/)\n",
    "    - contains metadata and source files to be installed by pip\n",
    "- `.whl` is a built distribution\n",
    "    - created with `python setup.py bdist_wheel` or `python -m build` from the `package` level folder\n",
    "    - wheels, `file.whl`, built into a compressed binary format that is portable\n",
    "\n",
    "Notes on distribution tools:\n",
    "- here we use the setuptools as the backend build tool specified in the `[build-system]` section of `pyproject.toml`\n",
    "    - `python -m build` uses `pyproject.toml` to automatically create both `.whl` built distribution and `.tar.gz` source distribution versions\n",
    "- another way you may see this done is using setuptools directly by creating a `setup.py` file instead of `pyproject.toml`.  It can then be used with setuptools:\n",
    "    - `python setup.py sdist` which automaticlaly creates `file.tar.gz` by default\n",
    "    - `python setup.py bdist_wheel` which creates `file.whl`\n",
    "    - this is the method mentioned on this Vertex AI documentation page for [creating a python training application for a pre-built container](https://cloud.google.com/vertex-ai/docs/training/create-python-pre-built-container)\n",
    "        - the method in this notebook also builds the source distribution in a compatible way for use with Vertex AI pre-built containers.  You can actually directly use `gzip` to create the source distribution for a folder of training files!\n",
    "- several advantages to using `build`\n",
    "    - automatically create source and built distribution in a `/dist` subfolder\n",
    "    - automatic discovery of modules for common directory structures - [link](https://setuptools.pypa.io/en/latest/userguide/package_discovery.html#automatic-discovery)\n",
    "    - defaults to include package data files - [link](https://setuptools.pypa.io/en/latest/userguide/datafiles.html#include-package-data)\n",
    "    - can link to readme.md and license files\n",
    "\n",
    "**Installing Packages**\n",
    "\n",
    "When you `pip install ...` what is happening?  This causes pip to look for the package and install it.  The default location to look is [PyPI](https://pypi.org/).  This can be overridden:\n",
    "- local install `pip install path/to/file.tar.gz` or `pip install path/to/file.whl`\n",
    "- install from custom repository on Artifact Registry with `pip install --index-url https://{REGION}-python.pkg.dev/{PROJECT}/{REPOSITORY}/{PACKAGE}/ sampleproject`\n",
    "\n",
    "\n",
    "Resources:\n",
    "- [pip install](https://pip.pypa.io/en/stable/cli/pip_install/)\n",
    "- [Packaging Python Projects Tutorial](https://packaging.python.org/en/latest/tutorials/packaging-projects/)\n",
    "- [setuptools](https://docs.python.org/3/distutils/sourcedist.html)\n",
    "- [setuptools quickstart](https://setuptools.pypa.io/en/latest/userguide/quickstart.html)"
   ]
  },
  {
   "cell_type": "markdown",
   "id": "be149cb7-9aab-4ca1-93c4-0e294d723a1a",
   "metadata": {},
   "source": [
    "---\n",
    "## Package Installs (if needed)\n",
    "\n",
    "This notebook uses the Python Clients for\n",
    "- Google Service Usage\n",
    "    - to enable APIs (Artifact Registry)\n",
    "- Artifact Registry\n",
    "    - to create a repository for storing custom Python packages in a GCP Project\n",
    "\n",
    "The cells below check to see if the required Python libraries are installed.  If any are not it will print a message to do the install with the associated pip command to use.  These installs must be completed before continuing this notebook."
   ]
  },
  {
   "cell_type": "code",
   "execution_count": 123,
   "id": "e517d857-e3fb-431a-a426-bcad424353d9",
   "metadata": {},
   "outputs": [],
   "source": [
    "try:\n",
    "    import google.cloud.service_usage_v1\n",
    "except ImportError:\n",
    "    print('You need to pip install google-cloud-service-usage')\n",
    "    !pip install google-cloud-service-usage -q"
   ]
  },
  {
   "cell_type": "code",
   "execution_count": 124,
   "id": "18845f24-9ddf-4b64-9eb6-40c77783136c",
   "metadata": {},
   "outputs": [],
   "source": [
    "try:\n",
    "    import google.cloud.artifactregistry_v1\n",
    "except ImportError:\n",
    "    print('You need to pip install google-cloud-artifact-registry')\n",
    "    !pip install google-cloud-artifact-registry -q"
   ]
  },
  {
   "cell_type": "code",
   "execution_count": 132,
   "id": "6115404d-af8c-4a30-b846-37bea8b411e8",
   "metadata": {},
   "outputs": [],
   "source": [
    "try:\n",
    "    import build\n",
    "except ImportError:\n",
    "    print('You need to pip install build')\n",
    "    !pip install build -q"
   ]
  },
  {
   "cell_type": "markdown",
   "id": "18937d6e-2c46-4590-9778-427316380644",
   "metadata": {},
   "source": [
    "---\n",
    "## Setup"
   ]
  },
  {
   "cell_type": "markdown",
   "id": "9c3f1466-8c08-4884-9c0b-b09cb9df94a3",
   "metadata": {},
   "source": [
    "inputs:"
   ]
  },
  {
   "cell_type": "code",
   "execution_count": 2,
   "id": "09680104-3052-4adb-b247-8ecaa4672a34",
   "metadata": {},
   "outputs": [
    {
     "data": {
      "text/plain": [
       "'statmike-mlops-349915'"
      ]
     },
     "execution_count": 2,
     "metadata": {},
     "output_type": "execute_result"
    }
   ],
   "source": [
    "project = !gcloud config get-value project\n",
    "PROJECT_ID = project[0]\n",
    "PROJECT_ID"
   ]
  },
  {
   "cell_type": "code",
   "execution_count": 3,
   "id": "b2a88a5e-0238-47ac-9e70-c761892c602d",
   "metadata": {},
   "outputs": [],
   "source": [
    "REGION = 'us-central1'\n",
    "EXPERIMENT = 'packages'\n",
    "SERIES = 'tips'"
   ]
  },
  {
   "cell_type": "markdown",
   "id": "d8da1824-09dc-4215-98cd-4471667a92a6",
   "metadata": {},
   "source": [
    "packages:"
   ]
  },
  {
   "cell_type": "code",
   "execution_count": 77,
   "id": "7629a781-519d-48b7-a135-812b31dea62d",
   "metadata": {},
   "outputs": [],
   "source": [
    "import os, shutil\n",
    "from datetime import datetime\n",
    "from google.cloud import storage\n",
    "from google.cloud import aiplatform"
   ]
  },
  {
   "cell_type": "markdown",
   "id": "dbc1edec-b957-4453-89e1-9aa68035602e",
   "metadata": {},
   "source": [
    "clients:"
   ]
  },
  {
   "cell_type": "code",
   "execution_count": 22,
   "id": "31447726-a55a-4ef5-bd2d-2465215d22a9",
   "metadata": {},
   "outputs": [],
   "source": [
    "gcs = storage.Client()\n",
    "aiplatform.init(project = PROJECT_ID, location = REGION)"
   ]
  },
  {
   "cell_type": "markdown",
   "id": "e41b6f01-0018-4185-ac68-61e9a43a3070",
   "metadata": {},
   "source": [
    "parameters:"
   ]
  },
  {
   "cell_type": "code",
   "execution_count": 6,
   "id": "f01a4cfe-8ade-4272-92a2-d78bc532cb89",
   "metadata": {},
   "outputs": [],
   "source": [
    "DIR = f'temp/{EXPERIMENT}'"
   ]
  },
  {
   "cell_type": "markdown",
   "id": "27e41e2e-b2e7-4447-83fd-8ead073a8ce2",
   "metadata": {},
   "source": [
    "environment:"
   ]
  },
  {
   "cell_type": "code",
   "execution_count": 103,
   "id": "3d3912e8-7365-4bda-8105-88f8fa298524",
   "metadata": {},
   "outputs": [
    {
     "name": "stdout",
     "output_type": "stream",
     "text": [
      "DIR exists?  True\n"
     ]
    },
    {
     "data": {
      "text/plain": [
       "['job-parms', 'gcs', 'multiprocess', 'packages']"
      ]
     },
     "execution_count": 103,
     "metadata": {},
     "output_type": "execute_result"
    }
   ],
   "source": [
    "# remove directory named DIR if exists\n",
    "shutil.rmtree(DIR, ignore_errors = True)\n",
    "\n",
    "# create directory DIR\n",
    "os.makedirs(DIR)\n",
    "\n",
    "# check for existance of DIR\n",
    "print('DIR exists? ', os.path.exists(DIR))\n",
    "\n",
    "# list contents of directory one level higher than DIR\n",
    "os.listdir(DIR + '/../')"
   ]
  },
  {
   "cell_type": "markdown",
   "id": "2b5b13f5-0e0e-4d8f-b40d-6e1684da3432",
   "metadata": {},
   "source": [
    "## Construct Python Package"
   ]
  },
  {
   "cell_type": "markdown",
   "id": "93d6c2db-f5b2-4298-8369-9b9ad6d09eb6",
   "metadata": {},
   "source": [
    "Use the temp dirctory crated at DIR:"
   ]
  },
  {
   "cell_type": "code",
   "execution_count": 104,
   "id": "6b3ed43e-cbf5-410c-b9af-7a1e3b82a894",
   "metadata": {},
   "outputs": [
    {
     "data": {
      "text/plain": [
       "'temp/packages'"
      ]
     },
     "execution_count": 104,
     "metadata": {},
     "output_type": "execute_result"
    }
   ],
   "source": [
    "DIR"
   ]
  },
  {
   "cell_type": "code",
   "execution_count": 105,
   "id": "4fd56b82-afaa-4402-b6bf-2a22064eab6f",
   "metadata": {},
   "outputs": [
    {
     "data": {
      "text/plain": [
       "['job-parms', 'gcs', 'multiprocess', 'packages']"
      ]
     },
     "execution_count": 105,
     "metadata": {},
     "output_type": "execute_result"
    }
   ],
   "source": [
    "os.listdir(f'{DIR}/../')"
   ]
  },
  {
   "cell_type": "markdown",
   "id": "df5efeb6-5e60-4bbe-b004-49a1d80687c6",
   "metadata": {},
   "source": [
    "### Create the folder structure:"
   ]
  },
  {
   "cell_type": "code",
   "execution_count": 106,
   "id": "23e2c788-3ef6-4748-8f1f-b7024b2599e3",
   "metadata": {},
   "outputs": [],
   "source": [
    "os.makedirs(DIR+'/trainer/src/trainer')"
   ]
  },
  {
   "cell_type": "code",
   "execution_count": 107,
   "id": "5b08dcc3-ca10-4920-a4c6-393ed53086d1",
   "metadata": {},
   "outputs": [
    {
     "name": "stdout",
     "output_type": "stream",
     "text": [
      "temp/packages\n",
      "temp/packages/trainer\n",
      "temp/packages/trainer/src\n",
      "temp/packages/trainer/src/trainer\n"
     ]
    }
   ],
   "source": [
    "for root, dirs, files in os.walk(DIR):\n",
    "    print(root)"
   ]
  },
  {
   "cell_type": "markdown",
   "id": "15cc1a36-e006-47fd-a980-875c4218dd60",
   "metadata": {},
   "source": [
    "### Add files to directory:\n",
    "\n",
    "The `05 - TensorFlow` series has a model training file named `05_train.py` that will be used here."
   ]
  },
  {
   "cell_type": "code",
   "execution_count": 108,
   "id": "f62ff510-1136-4122-9a31-dbe32eccb31f",
   "metadata": {},
   "outputs": [],
   "source": [
    "shutil.copyfile('../05 - TensorFlow/05_train.py', f'{DIR}/trainer/src/trainer/train.py')\n",
    "with open(f'{DIR}/trainer/src/trainer/__init__.py', 'w') as file: pass"
   ]
  },
  {
   "cell_type": "code",
   "execution_count": 109,
   "id": "29669ad0-0944-49bb-8d2e-dff5d3a8bc78",
   "metadata": {},
   "outputs": [],
   "source": [
    "with open(f'{DIR}/trainer/pyproject.toml', 'w') as file:\n",
    "    file.write(f\"\"\"[build-system]\n",
    "requires = [\"setuptools\"]\n",
    "build-backend = \"setuptools.build_meta\"\n",
    "\n",
    "[project]\n",
    "name = 'trainer'\n",
    "version = '0.1'\n",
    "# dependencies = ['tensorflow_io', 'google-cloud-aiplatform>={aiplatform.__version__}']\n",
    "dependencies = ['tensorflow_io', 'google-cloud-aiplatform==1.16.0']\n",
    "description = 'Training Package'\n",
    "authors = [{{name = 'statmike'}}]\n",
    "\"\"\")"
   ]
  },
  {
   "cell_type": "markdown",
   "id": "6517dae0-5b0b-4e63-9894-9b22964619b4",
   "metadata": {},
   "source": [
    "list directory:"
   ]
  },
  {
   "cell_type": "code",
   "execution_count": 110,
   "id": "4d2039fb-4857-4b1e-bdce-f65ba3a6df19",
   "metadata": {},
   "outputs": [
    {
     "name": "stdout",
     "output_type": "stream",
     "text": [
      "temp/packages/trainer/pyproject.toml\n",
      "temp/packages/trainer/src/trainer/__init__.py\n",
      "temp/packages/trainer/src/trainer/train.py\n"
     ]
    }
   ],
   "source": [
    "for root, dirs, files in os.walk(DIR):\n",
    "    for f in files:\n",
    "        print(os.path.join(root, f))"
   ]
  },
  {
   "cell_type": "markdown",
   "id": "7ffeb127-98c6-408f-9cd2-746c2b9aabee",
   "metadata": {},
   "source": [
    "### Build the Python distribution archives:\n",
    "\n",
    "The build process creates both a `.tar.gz` source distribution and a `.whl` built distribution"
   ]
  },
  {
   "cell_type": "code",
   "execution_count": 111,
   "id": "c06245fc-e6d6-4871-ae53-1adc46c5856a",
   "metadata": {
    "scrolled": true,
    "tags": []
   },
   "outputs": [
    {
     "name": "stdout",
     "output_type": "stream",
     "text": [
      "\u001b[1m* Creating virtualenv isolated environment...\u001b[0m\n",
      "\u001b[1m* Installing packages in isolated environment... (setuptools)\u001b[0m\n",
      "\u001b[1m* Getting dependencies for sdist...\u001b[0m\n",
      "running egg_info\n",
      "creating src/trainer.egg-info\n",
      "writing src/trainer.egg-info/PKG-INFO\n",
      "writing dependency_links to src/trainer.egg-info/dependency_links.txt\n",
      "writing requirements to src/trainer.egg-info/requires.txt\n",
      "writing top-level names to src/trainer.egg-info/top_level.txt\n",
      "writing manifest file 'src/trainer.egg-info/SOURCES.txt'\n",
      "reading manifest file 'src/trainer.egg-info/SOURCES.txt'\n",
      "writing manifest file 'src/trainer.egg-info/SOURCES.txt'\n",
      "\u001b[1m* Building sdist...\u001b[0m\n",
      "running sdist\n",
      "running egg_info\n",
      "writing src/trainer.egg-info/PKG-INFO\n",
      "writing dependency_links to src/trainer.egg-info/dependency_links.txt\n",
      "writing requirements to src/trainer.egg-info/requires.txt\n",
      "writing top-level names to src/trainer.egg-info/top_level.txt\n",
      "reading manifest file 'src/trainer.egg-info/SOURCES.txt'\n",
      "writing manifest file 'src/trainer.egg-info/SOURCES.txt'\n",
      "warning: sdist: standard file not found: should have one of README, README.rst, README.txt, README.md\n",
      "\n",
      "running check\n",
      "creating trainer-0.1\n",
      "creating trainer-0.1/src\n",
      "creating trainer-0.1/src/trainer\n",
      "creating trainer-0.1/src/trainer.egg-info\n",
      "copying files to trainer-0.1...\n",
      "copying pyproject.toml -> trainer-0.1\n",
      "copying src/trainer/__init__.py -> trainer-0.1/src/trainer\n",
      "copying src/trainer/train.py -> trainer-0.1/src/trainer\n",
      "copying src/trainer.egg-info/PKG-INFO -> trainer-0.1/src/trainer.egg-info\n",
      "copying src/trainer.egg-info/SOURCES.txt -> trainer-0.1/src/trainer.egg-info\n",
      "copying src/trainer.egg-info/dependency_links.txt -> trainer-0.1/src/trainer.egg-info\n",
      "copying src/trainer.egg-info/requires.txt -> trainer-0.1/src/trainer.egg-info\n",
      "copying src/trainer.egg-info/top_level.txt -> trainer-0.1/src/trainer.egg-info\n",
      "Writing trainer-0.1/setup.cfg\n",
      "Creating tar archive\n",
      "removing 'trainer-0.1' (and everything under it)\n",
      "\u001b[1m* Building wheel from sdist\u001b[0m\n",
      "\u001b[1m* Creating virtualenv isolated environment...\u001b[0m\n",
      "\u001b[1m* Installing packages in isolated environment... (setuptools)\u001b[0m\n",
      "\u001b[1m* Getting dependencies for wheel...\u001b[0m\n",
      "running egg_info\n",
      "writing src/trainer.egg-info/PKG-INFO\n",
      "writing dependency_links to src/trainer.egg-info/dependency_links.txt\n",
      "writing requirements to src/trainer.egg-info/requires.txt\n",
      "writing top-level names to src/trainer.egg-info/top_level.txt\n",
      "reading manifest file 'src/trainer.egg-info/SOURCES.txt'\n",
      "writing manifest file 'src/trainer.egg-info/SOURCES.txt'\n",
      "\u001b[1m* Installing packages in isolated environment... (wheel)\u001b[0m\n",
      "\u001b[1m* Building wheel...\u001b[0m\n",
      "running bdist_wheel\n",
      "running build\n",
      "running build_py\n",
      "creating build\n",
      "creating build/lib\n",
      "creating build/lib/trainer\n",
      "copying src/trainer/train.py -> build/lib/trainer\n",
      "copying src/trainer/__init__.py -> build/lib/trainer\n",
      "running egg_info\n",
      "writing src/trainer.egg-info/PKG-INFO\n",
      "writing dependency_links to src/trainer.egg-info/dependency_links.txt\n",
      "writing requirements to src/trainer.egg-info/requires.txt\n",
      "writing top-level names to src/trainer.egg-info/top_level.txt\n",
      "reading manifest file 'src/trainer.egg-info/SOURCES.txt'\n",
      "writing manifest file 'src/trainer.egg-info/SOURCES.txt'\n",
      "installing to build/bdist.linux-x86_64/wheel\n",
      "running install\n",
      "running install_lib\n",
      "creating build/bdist.linux-x86_64\n",
      "creating build/bdist.linux-x86_64/wheel\n",
      "creating build/bdist.linux-x86_64/wheel/trainer\n",
      "copying build/lib/trainer/train.py -> build/bdist.linux-x86_64/wheel/trainer\n",
      "copying build/lib/trainer/__init__.py -> build/bdist.linux-x86_64/wheel/trainer\n",
      "running install_egg_info\n",
      "Copying src/trainer.egg-info to build/bdist.linux-x86_64/wheel/trainer-0.1-py3.7.egg-info\n",
      "running install_scripts\n",
      "creating build/bdist.linux-x86_64/wheel/trainer-0.1.dist-info/WHEEL\n",
      "creating '/home/jupyter/vertex-ai-mlops/Tips/temp/packages/trainer/dist/tmpr6o0h1t_/trainer-0.1-py3-none-any.whl' and adding 'build/bdist.linux-x86_64/wheel' to it\n",
      "adding 'trainer/__init__.py'\n",
      "adding 'trainer/train.py'\n",
      "adding 'trainer-0.1.dist-info/METADATA'\n",
      "adding 'trainer-0.1.dist-info/WHEEL'\n",
      "adding 'trainer-0.1.dist-info/top_level.txt'\n",
      "adding 'trainer-0.1.dist-info/RECORD'\n",
      "removing build/bdist.linux-x86_64/wheel\n",
      "\u001b[1m\u001b[92mSuccessfully built \u001b[4mtrainer-0.1.tar.gz\u001b[0m\u001b[1m\u001b[92m and \u001b[4mtrainer-0.1-py3-none-any.whl\u001b[0m\u001b[1m\u001b[92m\u001b[0m\n",
      "\u001b[0m"
     ]
    }
   ],
   "source": [
    "!cd ./{DIR}/trainer && python -m build"
   ]
  },
  {
   "cell_type": "markdown",
   "id": "087c9872-b835-48cf-ba6a-c7e365848933",
   "metadata": {},
   "source": [
    "list directory:"
   ]
  },
  {
   "cell_type": "code",
   "execution_count": 114,
   "id": "41cb8e6b-d08e-42c4-9142-f7d978416f46",
   "metadata": {},
   "outputs": [
    {
     "name": "stdout",
     "output_type": "stream",
     "text": [
      "temp/packages/trainer/pyproject.toml\n",
      "temp/packages/trainer/src/trainer.egg-info/top_level.txt\n",
      "temp/packages/trainer/src/trainer.egg-info/SOURCES.txt\n",
      "temp/packages/trainer/src/trainer.egg-info/requires.txt\n",
      "temp/packages/trainer/src/trainer.egg-info/dependency_links.txt\n",
      "temp/packages/trainer/src/trainer.egg-info/PKG-INFO\n",
      "temp/packages/trainer/src/trainer/__init__.py\n",
      "temp/packages/trainer/src/trainer/train.py\n",
      "temp/packages/trainer/dist/trainer-0.1-py3-none-any.whl\n",
      "temp/packages/trainer/dist/trainer-0.1.tar.gz\n"
     ]
    }
   ],
   "source": [
    "for root, dirs, files in os.walk(DIR):\n",
    "    for f in files:\n",
    "        print(os.path.join(root, f))"
   ]
  },
  {
   "cell_type": "markdown",
   "id": "c4848a24-0ce3-4ae2-883e-710041c06c30",
   "metadata": {},
   "source": [
    "**Review**\n",
    "\n",
    "This single folder now has:\n",
    "\n",
    "- a single training file/module: {DIR}/training/src/trainer/train.py\n",
    "- a folder of training code: {DIR}/training/src/trainer*\n",
    "    - with a starting point of train.py\n",
    "- a source distribution: {DIR}/training/dist/trainer-0.1.tar.gz\n",
    "- a built distribution: {DIR}/training/dist/trainer-0.1-py3-none-any.whl"
   ]
  },
  {
   "cell_type": "markdown",
   "id": "0876e703-10a2-4d34-85fa-74024f26fa1e",
   "metadata": {},
   "source": [
    "### Copy to GCS\n",
    "\n",
    "Here the folder structure for DIR will be copied to the GCS Bucket used across this project.  This section uses skills that are discussed in more detail in the [Python Client for GCS](./Python%20Client%20for%20GCS.ipynb) notebook."
   ]
  },
  {
   "cell_type": "markdown",
   "id": "0c1d8f4f-f04d-45c3-80ed-823d7612bd2a",
   "metadata": {},
   "source": [
    "List buckets in project:"
   ]
  },
  {
   "cell_type": "code",
   "execution_count": 115,
   "id": "e5e1f0b9-6edc-499d-8574-687226847d78",
   "metadata": {},
   "outputs": [
    {
     "data": {
      "text/plain": [
       "[<Bucket: cloud-ai-platform-a68e7f3a-fac8-47f6-9f92-fff95c09cdb8>,\n",
       " <Bucket: statmike-mlops-349915>,\n",
       " <Bucket: statmike-mlops-349915-vertex-pipelines-us-central1>]"
      ]
     },
     "execution_count": 115,
     "metadata": {},
     "output_type": "execute_result"
    }
   ],
   "source": [
    "list(gcs.list_buckets())"
   ]
  },
  {
   "cell_type": "markdown",
   "id": "44ae862e-aa14-4137-981b-40d940aecaa6",
   "metadata": {},
   "source": [
    "Get the bucket:"
   ]
  },
  {
   "cell_type": "code",
   "execution_count": 116,
   "id": "fa9ab5fb-f424-495e-b773-260f7bb5bc8f",
   "metadata": {},
   "outputs": [],
   "source": [
    "bucket = gcs.lookup_bucket(PROJECT_ID)"
   ]
  },
  {
   "cell_type": "markdown",
   "id": "edcc74d4-04e4-4395-898c-1c73114b0ae8",
   "metadata": {},
   "source": [
    "list file to upload:"
   ]
  },
  {
   "cell_type": "code",
   "execution_count": 117,
   "id": "0287e7fe-3c73-483c-a5f1-35768fa61e1a",
   "metadata": {},
   "outputs": [
    {
     "name": "stdout",
     "output_type": "stream",
     "text": [
      "temp/packages/trainer/pyproject.toml\n",
      "temp/packages/trainer/src/trainer.egg-info/top_level.txt\n",
      "temp/packages/trainer/src/trainer.egg-info/SOURCES.txt\n",
      "temp/packages/trainer/src/trainer.egg-info/requires.txt\n",
      "temp/packages/trainer/src/trainer.egg-info/dependency_links.txt\n",
      "temp/packages/trainer/src/trainer.egg-info/PKG-INFO\n",
      "temp/packages/trainer/src/trainer/__init__.py\n",
      "temp/packages/trainer/src/trainer/train.py\n",
      "temp/packages/trainer/dist/trainer-0.1-py3-none-any.whl\n",
      "temp/packages/trainer/dist/trainer-0.1.tar.gz\n"
     ]
    }
   ],
   "source": [
    "for root, dirs, files in os.walk(DIR):\n",
    "    for f in files:\n",
    "        print(os.path.join(root, f))"
   ]
  },
  {
   "cell_type": "markdown",
   "id": "f85cabdc-528c-440c-bf43-7409a105a0d3",
   "metadata": {},
   "source": [
    "list of desired bucket object URIs:"
   ]
  },
  {
   "cell_type": "code",
   "execution_count": 118,
   "id": "e40e4f90-4061-4442-8abe-6be5fbae47d2",
   "metadata": {},
   "outputs": [
    {
     "name": "stdout",
     "output_type": "stream",
     "text": [
      "tips/packages/trainer/pyproject.toml\n",
      "tips/packages/trainer/src/trainer.egg-info/top_level.txt\n",
      "tips/packages/trainer/src/trainer.egg-info/SOURCES.txt\n",
      "tips/packages/trainer/src/trainer.egg-info/requires.txt\n",
      "tips/packages/trainer/src/trainer.egg-info/dependency_links.txt\n",
      "tips/packages/trainer/src/trainer.egg-info/PKG-INFO\n",
      "tips/packages/trainer/src/trainer/__init__.py\n",
      "tips/packages/trainer/src/trainer/train.py\n",
      "tips/packages/trainer/dist/trainer-0.1-py3-none-any.whl\n",
      "tips/packages/trainer/dist/trainer-0.1.tar.gz\n"
     ]
    }
   ],
   "source": [
    "for root, dirs, files in os.walk(DIR):\n",
    "    for f in files:\n",
    "        filepath = os.path.join(root, f)\n",
    "        gcspath = f'{SERIES}/{EXPERIMENT}{filepath[len(DIR):]}'\n",
    "        print(gcspath)"
   ]
  },
  {
   "cell_type": "markdown",
   "id": "e48dc5ff-aabd-4f06-a300-98ab03c07a62",
   "metadata": {},
   "source": [
    "upload files as objects:"
   ]
  },
  {
   "cell_type": "code",
   "execution_count": 119,
   "id": "5935e6e6-813d-4f3e-9e0f-c7d2a3c855ce",
   "metadata": {},
   "outputs": [],
   "source": [
    "for root, dirs, files in os.walk(DIR):\n",
    "    for f in files:\n",
    "        filepath = os.path.join(root, f)\n",
    "        gcspath = f'{SERIES}/{EXPERIMENT}{filepath[len(DIR):]}'\n",
    "        blob = bucket.blob(gcspath)\n",
    "        blob.upload_from_filename(filepath)"
   ]
  },
  {
   "cell_type": "code",
   "execution_count": 120,
   "id": "dfb199b8-9f3f-4d5d-bf9a-7727e71f97d1",
   "metadata": {},
   "outputs": [
    {
     "name": "stdout",
     "output_type": "stream",
     "text": [
      "View the bucket directly here:\n",
      "https://console.cloud.google.com/storage/browser/statmike-mlops-349915;tab=objects&project=statmike-mlops-349915\n"
     ]
    }
   ],
   "source": [
    "print(f\"View the bucket directly here:\\nhttps://console.cloud.google.com/storage/browser/{PROJECT_ID};tab=objects&project={PROJECT_ID}\")"
   ]
  },
  {
   "cell_type": "markdown",
   "id": "33878a45-d6e3-4428-b9ca-79dc6004a7c2",
   "metadata": {},
   "source": [
    "list files in bucket:"
   ]
  },
  {
   "cell_type": "code",
   "execution_count": 122,
   "id": "cad2c043-9d3c-4879-8a68-d4f319f0dcdc",
   "metadata": {},
   "outputs": [
    {
     "name": "stdout",
     "output_type": "stream",
     "text": [
      "tips/packages/trainer/dist/trainer-0.1-py3-none-any.whl\n",
      "tips/packages/trainer/dist/trainer-0.1.tar.gz\n",
      "tips/packages/trainer/pyproject.toml\n",
      "tips/packages/trainer/src/trainer.egg-info/PKG-INFO\n",
      "tips/packages/trainer/src/trainer.egg-info/SOURCES.txt\n",
      "tips/packages/trainer/src/trainer.egg-info/dependency_links.txt\n",
      "tips/packages/trainer/src/trainer.egg-info/requires.txt\n",
      "tips/packages/trainer/src/trainer.egg-info/top_level.txt\n",
      "tips/packages/trainer/src/trainer/__init__.py\n",
      "tips/packages/trainer/src/trainer/train.py\n"
     ]
    }
   ],
   "source": [
    "for blob in list(bucket.list_blobs(prefix = f'{SERIES}/{EXPERIMENT}/trainer')):\n",
    "    print(blob.name)"
   ]
  },
  {
   "cell_type": "markdown",
   "id": "be7499ba-3de4-497c-91d6-d7e376704376",
   "metadata": {},
   "source": [
    "## Artifact Registry\n",
    "\n",
    "- describe\n",
    "- setup\n",
    "- create repository for python\n",
    "- upload package\n",
    "- show listing at multiple levels - see doc"
   ]
  },
  {
   "cell_type": "code",
   "execution_count": null,
   "id": "b49b31e3-888d-4476-876d-0764b70df3d4",
   "metadata": {},
   "outputs": [],
   "source": []
  },
  {
   "cell_type": "code",
   "execution_count": null,
   "id": "5837d832-4a38-4d17-b2f2-5f591554ddd5",
   "metadata": {},
   "outputs": [],
   "source": []
  },
  {
   "cell_type": "markdown",
   "id": "f759b58d-75ad-4772-84d2-d789f459ea8a",
   "metadata": {},
   "source": [
    "## Vertex AI Training - Custom Jobs\n",
    "\n",
    "Vertex AI Training has Custom Jobs that can be launched with:\n",
    "- single files/modules from local disk\n",
    "- source distributions from GCS URI's\n",
    "- custom containers\n",
    "\n",
    "Below are tests/examples for the single file and source distribution created in this notebook.  The custom container workflows will be examined further in the [Python Client for Cloud Build](./Python%20Client%20for%20Cloud%20Build.ipynb) notebook."
   ]
  },
  {
   "cell_type": "markdown",
   "id": "77671a9d-3d51-4bd5-8ab7-490e19ef3a3c",
   "metadata": {},
   "source": [
    "### Job Inputs\n",
    "\n",
    "The example test jobs below are based on jobs in the `05 - TensorFlow` series and takes advantage of Vertex AI Experiments and mangaed TensorBoard.  This section creates a TensorBoard instance and gets other inputs for the jobs:"
   ]
  },
  {
   "cell_type": "code",
   "execution_count": 86,
   "id": "c28ab1fa-0ccb-4a7d-9330-9733121f8ecb",
   "metadata": {},
   "outputs": [
    {
     "name": "stdout",
     "output_type": "stream",
     "text": [
      "Creating Tensorboard\n",
      "Create Tensorboard backing LRO: projects/1026793852137/locations/us-central1/tensorboards/7360834523774320640/operations/7276711232730562560\n",
      "Tensorboard created. Resource name: projects/1026793852137/locations/us-central1/tensorboards/7360834523774320640\n",
      "To use this Tensorboard in another session:\n",
      "tb = aiplatform.Tensorboard('projects/1026793852137/locations/us-central1/tensorboards/7360834523774320640')\n"
     ]
    }
   ],
   "source": [
    "tb = aiplatform.Tensorboard.list(filter=f\"labels.series={SERIES}\")\n",
    "if tb:\n",
    "    tb = tb[0]\n",
    "else: \n",
    "    tb = aiplatform.Tensorboard.create(display_name = SERIES, labels = {'series' : f'{SERIES}'})"
   ]
  },
  {
   "cell_type": "code",
   "execution_count": 87,
   "id": "ec10e8f3-9abe-4f3b-a41e-656ebbd0dd47",
   "metadata": {},
   "outputs": [
    {
     "data": {
      "text/plain": [
       "'projects/1026793852137/locations/us-central1/tensorboards/7360834523774320640'"
      ]
     },
     "execution_count": 87,
     "metadata": {},
     "output_type": "execute_result"
    }
   ],
   "source": [
    "tb.resource_name"
   ]
  },
  {
   "cell_type": "code",
   "execution_count": 88,
   "id": "37ec8d10-b867-410c-ac68-6fa455321868",
   "metadata": {},
   "outputs": [
    {
     "data": {
      "text/plain": [
       "'1026793852137-compute@developer.gserviceaccount.com'"
      ]
     },
     "execution_count": 88,
     "metadata": {},
     "output_type": "execute_result"
    }
   ],
   "source": [
    "# Give service account roles/storage.objectAdmin permissions\n",
    "# Console > IMA > Select Account <projectnumber>-compute@developer.gserviceaccount.com > edit - give role\n",
    "SERVICE_ACCOUNT = !gcloud config list --format='value(core.account)' \n",
    "SERVICE_ACCOUNT = SERVICE_ACCOUNT[0]\n",
    "SERVICE_ACCOUNT"
   ]
  },
  {
   "cell_type": "markdown",
   "id": "09a0f270-c0fa-423e-a0f8-7a26742ffe33",
   "metadata": {
    "tags": []
   },
   "source": [
    "### Custom Job: From Local Script\n",
    "\n",
    "This is a modified version of notebook [05a - Vertex AI Custom Model - TensorFlow - Custom Job With Python File](../05%20-%20TensorFlow/05a%20-%20Vertex%20AI%20Custom%20Model%20-%20TensorFlow%20-%20Custom%20Job%20With%20Python%20File.ipynb) that uses the local script for this project.\n",
    "\n",
    "Notes:\n",
    "- This uses a single `file.py` from the local directory, not a GCS URI\n",
    "- When you run `aiplatform.CustomJob.from_local_script()` it responds with a message confirming the local script was copied to the GCS URI provide in the parameter `staging_bucket = `."
   ]
  },
  {
   "cell_type": "code",
   "execution_count": 95,
   "id": "b6e38cb3-fea5-4703-921d-f6e9e652056a",
   "metadata": {},
   "outputs": [],
   "source": [
    "TIMESTAMP = datetime.now().strftime(\"%Y%m%d%H%M%S\")\n",
    "EXPERIMENT_NAME = f'experiment-{SERIES}-{EXPERIMENT}-tf-classification-dnn'\n",
    "RUN_NAME = f'run-{TIMESTAMP}'\n",
    "\n",
    "TRAIN_IMAGE = 'us-docker.pkg.dev/vertex-ai/training/tf-cpu.2-7:latest'\n",
    "TRAIN_COMPUTE = 'n1-standard-4'\n",
    "URI = f'gs://{PROJECT_ID}/{SERIES}/{EXPERIMENT}/models'\n",
    "\n",
    "\n",
    "CMDARGS = [\n",
    "    \"--epochs=5\",\n",
    "    \"--batch_size=100\",\n",
    "    \"--var_target=Class\",\n",
    "    \"--var_omit=transaction_id\",\n",
    "    f\"--project_id={PROJECT_ID}\",\n",
    "    f\"--bq_project={PROJECT_ID}\",\n",
    "    \"--bq_dataset=fraud\",\n",
    "    \"--bq_table=fraud_prepped\",\n",
    "    f\"--region={REGION}\",\n",
    "    f\"--experiment={EXPERIMENT}\",\n",
    "    f\"--series={SERIES}\",\n",
    "    f\"--experiment_name={EXPERIMENT_NAME}\",\n",
    "    f\"--run_name={RUN_NAME}\"\n",
    "]"
   ]
  },
  {
   "cell_type": "code",
   "execution_count": 96,
   "id": "154f1a48-8d0c-4359-8f3c-07c7e2012702",
   "metadata": {},
   "outputs": [],
   "source": [
    "aiplatform.init(experiment = EXPERIMENT_NAME, experiment_tensorboard = tb.resource_name)"
   ]
  },
  {
   "cell_type": "code",
   "execution_count": 98,
   "id": "349ea603-4ef6-4eb5-a1aa-a7f23bd5e55d",
   "metadata": {},
   "outputs": [
    {
     "name": "stdout",
     "output_type": "stream",
     "text": [
      "Training script copied to:\n",
      "gs://statmike-mlops-349915/tips/packages/models/20220920133849/aiplatform-2022-09-20-13:38:54.543-aiplatform_custom_trainer_script-0.1.tar.gz.\n"
     ]
    }
   ],
   "source": [
    "customJob = aiplatform.CustomJob.from_local_script(\n",
    "    display_name = f'{SERIES}_{EXPERIMENT}_{TIMESTAMP}',\n",
    "    script_path = f\"{DIR}/trainer/src/trainer/train.py\",\n",
    "    container_uri = TRAIN_IMAGE,\n",
    "    args = CMDARGS,\n",
    "    requirements = ['tensorflow_io', 'google-cloud-aiplatform==1.16.0'],\n",
    "    replica_count = 1,\n",
    "    machine_type = TRAIN_COMPUTE,\n",
    "    accelerator_count = 0,\n",
    "    base_output_dir = f\"{URI}/{TIMESTAMP}\",\n",
    "    staging_bucket = f\"{URI}/{TIMESTAMP}\",\n",
    "    labels = {'series' : f'{SERIES}', 'experiment' : f'{EXPERIMENT}', 'experiment_name' : f'{EXPERIMENT_NAME}', 'run_name' : f'{RUN_NAME}'}\n",
    ")"
   ]
  },
  {
   "cell_type": "code",
   "execution_count": 99,
   "id": "ffa7f2b9-bc3e-44de-808a-a4515978f59e",
   "metadata": {
    "scrolled": true,
    "tags": []
   },
   "outputs": [
    {
     "name": "stdout",
     "output_type": "stream",
     "text": [
      "Creating CustomJob\n",
      "CustomJob created. Resource name: projects/1026793852137/locations/us-central1/customJobs/7289745324602556416\n",
      "To use this CustomJob in another session:\n",
      "custom_job = aiplatform.CustomJob.get('projects/1026793852137/locations/us-central1/customJobs/7289745324602556416')\n",
      "View Custom Job:\n",
      "https://console.cloud.google.com/ai/platform/locations/us-central1/training/7289745324602556416?project=1026793852137\n",
      "View Tensorboard:\n",
      "https://us-central1.tensorboard.googleusercontent.com/experiment/projects+1026793852137+locations+us-central1+tensorboards+7360834523774320640+experiments+7289745324602556416\n",
      "CustomJob projects/1026793852137/locations/us-central1/customJobs/7289745324602556416 current state:\n",
      "JobState.JOB_STATE_QUEUED\n",
      "CustomJob projects/1026793852137/locations/us-central1/customJobs/7289745324602556416 current state:\n",
      "JobState.JOB_STATE_PENDING\n",
      "CustomJob projects/1026793852137/locations/us-central1/customJobs/7289745324602556416 current state:\n",
      "JobState.JOB_STATE_PENDING\n",
      "CustomJob projects/1026793852137/locations/us-central1/customJobs/7289745324602556416 current state:\n",
      "JobState.JOB_STATE_PENDING\n",
      "CustomJob projects/1026793852137/locations/us-central1/customJobs/7289745324602556416 current state:\n",
      "JobState.JOB_STATE_PENDING\n",
      "CustomJob projects/1026793852137/locations/us-central1/customJobs/7289745324602556416 current state:\n",
      "JobState.JOB_STATE_PENDING\n",
      "CustomJob projects/1026793852137/locations/us-central1/customJobs/7289745324602556416 current state:\n",
      "JobState.JOB_STATE_PENDING\n",
      "CustomJob projects/1026793852137/locations/us-central1/customJobs/7289745324602556416 current state:\n",
      "JobState.JOB_STATE_PENDING\n",
      "CustomJob projects/1026793852137/locations/us-central1/customJobs/7289745324602556416 current state:\n",
      "JobState.JOB_STATE_PENDING\n",
      "CustomJob projects/1026793852137/locations/us-central1/customJobs/7289745324602556416 current state:\n",
      "JobState.JOB_STATE_PENDING\n",
      "CustomJob projects/1026793852137/locations/us-central1/customJobs/7289745324602556416 current state:\n",
      "JobState.JOB_STATE_PENDING\n",
      "CustomJob projects/1026793852137/locations/us-central1/customJobs/7289745324602556416 current state:\n",
      "JobState.JOB_STATE_PENDING\n",
      "CustomJob projects/1026793852137/locations/us-central1/customJobs/7289745324602556416 current state:\n",
      "JobState.JOB_STATE_PENDING\n",
      "CustomJob projects/1026793852137/locations/us-central1/customJobs/7289745324602556416 current state:\n",
      "JobState.JOB_STATE_PENDING\n",
      "CustomJob projects/1026793852137/locations/us-central1/customJobs/7289745324602556416 current state:\n",
      "JobState.JOB_STATE_PENDING\n",
      "CustomJob projects/1026793852137/locations/us-central1/customJobs/7289745324602556416 current state:\n",
      "JobState.JOB_STATE_PENDING\n",
      "CustomJob projects/1026793852137/locations/us-central1/customJobs/7289745324602556416 current state:\n",
      "JobState.JOB_STATE_PENDING\n",
      "CustomJob projects/1026793852137/locations/us-central1/customJobs/7289745324602556416 current state:\n",
      "JobState.JOB_STATE_PENDING\n",
      "CustomJob projects/1026793852137/locations/us-central1/customJobs/7289745324602556416 current state:\n",
      "JobState.JOB_STATE_PENDING\n",
      "CustomJob projects/1026793852137/locations/us-central1/customJobs/7289745324602556416 current state:\n",
      "JobState.JOB_STATE_PENDING\n",
      "CustomJob projects/1026793852137/locations/us-central1/customJobs/7289745324602556416 current state:\n",
      "JobState.JOB_STATE_PENDING\n",
      "CustomJob projects/1026793852137/locations/us-central1/customJobs/7289745324602556416 current state:\n",
      "JobState.JOB_STATE_PENDING\n",
      "CustomJob projects/1026793852137/locations/us-central1/customJobs/7289745324602556416 current state:\n",
      "JobState.JOB_STATE_PENDING\n",
      "CustomJob projects/1026793852137/locations/us-central1/customJobs/7289745324602556416 current state:\n",
      "JobState.JOB_STATE_PENDING\n",
      "CustomJob projects/1026793852137/locations/us-central1/customJobs/7289745324602556416 current state:\n",
      "JobState.JOB_STATE_PENDING\n",
      "CustomJob projects/1026793852137/locations/us-central1/customJobs/7289745324602556416 current state:\n",
      "JobState.JOB_STATE_PENDING\n",
      "CustomJob projects/1026793852137/locations/us-central1/customJobs/7289745324602556416 current state:\n",
      "JobState.JOB_STATE_PENDING\n",
      "CustomJob projects/1026793852137/locations/us-central1/customJobs/7289745324602556416 current state:\n",
      "JobState.JOB_STATE_PENDING\n",
      "CustomJob projects/1026793852137/locations/us-central1/customJobs/7289745324602556416 current state:\n",
      "JobState.JOB_STATE_PENDING\n",
      "CustomJob projects/1026793852137/locations/us-central1/customJobs/7289745324602556416 current state:\n",
      "JobState.JOB_STATE_PENDING\n",
      "CustomJob projects/1026793852137/locations/us-central1/customJobs/7289745324602556416 current state:\n",
      "JobState.JOB_STATE_PENDING\n",
      "CustomJob projects/1026793852137/locations/us-central1/customJobs/7289745324602556416 current state:\n",
      "JobState.JOB_STATE_PENDING\n",
      "CustomJob projects/1026793852137/locations/us-central1/customJobs/7289745324602556416 current state:\n",
      "JobState.JOB_STATE_PENDING\n",
      "CustomJob projects/1026793852137/locations/us-central1/customJobs/7289745324602556416 current state:\n",
      "JobState.JOB_STATE_PENDING\n",
      "CustomJob projects/1026793852137/locations/us-central1/customJobs/7289745324602556416 current state:\n",
      "JobState.JOB_STATE_PENDING\n",
      "CustomJob projects/1026793852137/locations/us-central1/customJobs/7289745324602556416 current state:\n",
      "JobState.JOB_STATE_PENDING\n",
      "CustomJob projects/1026793852137/locations/us-central1/customJobs/7289745324602556416 current state:\n",
      "JobState.JOB_STATE_RUNNING\n",
      "CustomJob projects/1026793852137/locations/us-central1/customJobs/7289745324602556416 current state:\n",
      "JobState.JOB_STATE_RUNNING\n",
      "CustomJob projects/1026793852137/locations/us-central1/customJobs/7289745324602556416 current state:\n",
      "JobState.JOB_STATE_RUNNING\n",
      "CustomJob projects/1026793852137/locations/us-central1/customJobs/7289745324602556416 current state:\n",
      "JobState.JOB_STATE_RUNNING\n",
      "CustomJob projects/1026793852137/locations/us-central1/customJobs/7289745324602556416 current state:\n",
      "JobState.JOB_STATE_RUNNING\n",
      "CustomJob projects/1026793852137/locations/us-central1/customJobs/7289745324602556416 current state:\n",
      "JobState.JOB_STATE_RUNNING\n",
      "CustomJob projects/1026793852137/locations/us-central1/customJobs/7289745324602556416 current state:\n",
      "JobState.JOB_STATE_RUNNING\n",
      "CustomJob projects/1026793852137/locations/us-central1/customJobs/7289745324602556416 current state:\n",
      "JobState.JOB_STATE_RUNNING\n",
      "CustomJob projects/1026793852137/locations/us-central1/customJobs/7289745324602556416 current state:\n",
      "JobState.JOB_STATE_RUNNING\n",
      "CustomJob projects/1026793852137/locations/us-central1/customJobs/7289745324602556416 current state:\n",
      "JobState.JOB_STATE_RUNNING\n",
      "CustomJob projects/1026793852137/locations/us-central1/customJobs/7289745324602556416 current state:\n",
      "JobState.JOB_STATE_RUNNING\n",
      "CustomJob projects/1026793852137/locations/us-central1/customJobs/7289745324602556416 current state:\n",
      "JobState.JOB_STATE_RUNNING\n",
      "CustomJob projects/1026793852137/locations/us-central1/customJobs/7289745324602556416 current state:\n",
      "JobState.JOB_STATE_RUNNING\n",
      "CustomJob projects/1026793852137/locations/us-central1/customJobs/7289745324602556416 current state:\n",
      "JobState.JOB_STATE_RUNNING\n",
      "CustomJob projects/1026793852137/locations/us-central1/customJobs/7289745324602556416 current state:\n",
      "JobState.JOB_STATE_RUNNING\n",
      "CustomJob projects/1026793852137/locations/us-central1/customJobs/7289745324602556416 current state:\n",
      "JobState.JOB_STATE_RUNNING\n",
      "CustomJob projects/1026793852137/locations/us-central1/customJobs/7289745324602556416 current state:\n",
      "JobState.JOB_STATE_RUNNING\n",
      "CustomJob projects/1026793852137/locations/us-central1/customJobs/7289745324602556416 current state:\n",
      "JobState.JOB_STATE_RUNNING\n",
      "CustomJob projects/1026793852137/locations/us-central1/customJobs/7289745324602556416 current state:\n",
      "JobState.JOB_STATE_RUNNING\n",
      "CustomJob projects/1026793852137/locations/us-central1/customJobs/7289745324602556416 current state:\n",
      "JobState.JOB_STATE_RUNNING\n",
      "CustomJob projects/1026793852137/locations/us-central1/customJobs/7289745324602556416 current state:\n",
      "JobState.JOB_STATE_RUNNING\n",
      "CustomJob projects/1026793852137/locations/us-central1/customJobs/7289745324602556416 current state:\n",
      "JobState.JOB_STATE_RUNNING\n",
      "CustomJob projects/1026793852137/locations/us-central1/customJobs/7289745324602556416 current state:\n",
      "JobState.JOB_STATE_RUNNING\n",
      "CustomJob projects/1026793852137/locations/us-central1/customJobs/7289745324602556416 current state:\n",
      "JobState.JOB_STATE_RUNNING\n",
      "CustomJob projects/1026793852137/locations/us-central1/customJobs/7289745324602556416 current state:\n",
      "JobState.JOB_STATE_RUNNING\n",
      "CustomJob projects/1026793852137/locations/us-central1/customJobs/7289745324602556416 current state:\n",
      "JobState.JOB_STATE_RUNNING\n",
      "CustomJob projects/1026793852137/locations/us-central1/customJobs/7289745324602556416 current state:\n",
      "JobState.JOB_STATE_RUNNING\n",
      "CustomJob projects/1026793852137/locations/us-central1/customJobs/7289745324602556416 current state:\n",
      "JobState.JOB_STATE_RUNNING\n",
      "CustomJob projects/1026793852137/locations/us-central1/customJobs/7289745324602556416 current state:\n",
      "JobState.JOB_STATE_RUNNING\n",
      "CustomJob projects/1026793852137/locations/us-central1/customJobs/7289745324602556416 current state:\n",
      "JobState.JOB_STATE_RUNNING\n",
      "CustomJob projects/1026793852137/locations/us-central1/customJobs/7289745324602556416 current state:\n",
      "JobState.JOB_STATE_RUNNING\n",
      "CustomJob projects/1026793852137/locations/us-central1/customJobs/7289745324602556416 current state:\n",
      "JobState.JOB_STATE_RUNNING\n",
      "CustomJob projects/1026793852137/locations/us-central1/customJobs/7289745324602556416 current state:\n",
      "JobState.JOB_STATE_RUNNING\n",
      "CustomJob projects/1026793852137/locations/us-central1/customJobs/7289745324602556416 current state:\n",
      "JobState.JOB_STATE_RUNNING\n",
      "CustomJob projects/1026793852137/locations/us-central1/customJobs/7289745324602556416 current state:\n",
      "JobState.JOB_STATE_RUNNING\n",
      "CustomJob projects/1026793852137/locations/us-central1/customJobs/7289745324602556416 current state:\n",
      "JobState.JOB_STATE_RUNNING\n",
      "CustomJob projects/1026793852137/locations/us-central1/customJobs/7289745324602556416 current state:\n",
      "JobState.JOB_STATE_RUNNING\n",
      "CustomJob projects/1026793852137/locations/us-central1/customJobs/7289745324602556416 current state:\n",
      "JobState.JOB_STATE_RUNNING\n",
      "CustomJob projects/1026793852137/locations/us-central1/customJobs/7289745324602556416 current state:\n",
      "JobState.JOB_STATE_RUNNING\n",
      "CustomJob projects/1026793852137/locations/us-central1/customJobs/7289745324602556416 current state:\n",
      "JobState.JOB_STATE_RUNNING\n",
      "CustomJob projects/1026793852137/locations/us-central1/customJobs/7289745324602556416 current state:\n",
      "JobState.JOB_STATE_RUNNING\n",
      "CustomJob projects/1026793852137/locations/us-central1/customJobs/7289745324602556416 current state:\n",
      "JobState.JOB_STATE_RUNNING\n",
      "CustomJob projects/1026793852137/locations/us-central1/customJobs/7289745324602556416 current state:\n",
      "JobState.JOB_STATE_RUNNING\n",
      "CustomJob projects/1026793852137/locations/us-central1/customJobs/7289745324602556416 current state:\n",
      "JobState.JOB_STATE_RUNNING\n",
      "CustomJob projects/1026793852137/locations/us-central1/customJobs/7289745324602556416 current state:\n",
      "JobState.JOB_STATE_RUNNING\n",
      "CustomJob projects/1026793852137/locations/us-central1/customJobs/7289745324602556416 current state:\n",
      "JobState.JOB_STATE_RUNNING\n",
      "CustomJob projects/1026793852137/locations/us-central1/customJobs/7289745324602556416 current state:\n",
      "JobState.JOB_STATE_RUNNING\n",
      "CustomJob projects/1026793852137/locations/us-central1/customJobs/7289745324602556416 current state:\n",
      "JobState.JOB_STATE_RUNNING\n",
      "CustomJob projects/1026793852137/locations/us-central1/customJobs/7289745324602556416 current state:\n",
      "JobState.JOB_STATE_RUNNING\n",
      "CustomJob projects/1026793852137/locations/us-central1/customJobs/7289745324602556416 current state:\n",
      "JobState.JOB_STATE_RUNNING\n",
      "CustomJob projects/1026793852137/locations/us-central1/customJobs/7289745324602556416 current state:\n",
      "JobState.JOB_STATE_RUNNING\n",
      "CustomJob projects/1026793852137/locations/us-central1/customJobs/7289745324602556416 current state:\n",
      "JobState.JOB_STATE_RUNNING\n",
      "CustomJob projects/1026793852137/locations/us-central1/customJobs/7289745324602556416 current state:\n",
      "JobState.JOB_STATE_RUNNING\n",
      "CustomJob projects/1026793852137/locations/us-central1/customJobs/7289745324602556416 current state:\n",
      "JobState.JOB_STATE_RUNNING\n",
      "CustomJob projects/1026793852137/locations/us-central1/customJobs/7289745324602556416 current state:\n",
      "JobState.JOB_STATE_RUNNING\n",
      "CustomJob projects/1026793852137/locations/us-central1/customJobs/7289745324602556416 current state:\n",
      "JobState.JOB_STATE_RUNNING\n",
      "CustomJob projects/1026793852137/locations/us-central1/customJobs/7289745324602556416 current state:\n",
      "JobState.JOB_STATE_RUNNING\n",
      "CustomJob projects/1026793852137/locations/us-central1/customJobs/7289745324602556416 current state:\n",
      "JobState.JOB_STATE_RUNNING\n",
      "CustomJob projects/1026793852137/locations/us-central1/customJobs/7289745324602556416 current state:\n",
      "JobState.JOB_STATE_RUNNING\n",
      "CustomJob projects/1026793852137/locations/us-central1/customJobs/7289745324602556416 current state:\n",
      "JobState.JOB_STATE_RUNNING\n",
      "CustomJob projects/1026793852137/locations/us-central1/customJobs/7289745324602556416 current state:\n",
      "JobState.JOB_STATE_SUCCEEDED\n",
      "CustomJob run completed. Resource name: projects/1026793852137/locations/us-central1/customJobs/7289745324602556416\n"
     ]
    }
   ],
   "source": [
    "customJob.run(\n",
    "    service_account = SERVICE_ACCOUNT,\n",
    "    tensorboard = tb.resource_name\n",
    ")"
   ]
  },
  {
   "cell_type": "code",
   "execution_count": 100,
   "id": "8de42f62-a376-47db-b236-c177b087b46b",
   "metadata": {},
   "outputs": [
    {
     "name": "stdout",
     "output_type": "stream",
     "text": [
      "Review the Job here:\n",
      "https://console.cloud.google.com/vertex-ai/locations/us-central1/training/7289745324602556416/cpu?cloudshell=false&project=statmike-mlops-349915\n"
     ]
    }
   ],
   "source": [
    "job_link = f\"https://console.cloud.google.com/vertex-ai/locations/{REGION}/training/{customJob.resource_name.split('/')[-1]}/cpu?cloudshell=false&project={PROJECT_ID}\"\n",
    "print(f'Review the Job here:\\n{job_link}')"
   ]
  },
  {
   "cell_type": "code",
   "execution_count": 131,
   "id": "08fb7554-b569-4802-998c-fd24bf5f7a4d",
   "metadata": {},
   "outputs": [
    {
     "name": "stdout",
     "output_type": "stream",
     "text": [
      "Review the model output here:\n",
      "https://console.cloud.google.com/storage/browser/statmike-mlops-349915/tips/packages/models/20220920141208?project=statmike-mlops-349915\n"
     ]
    }
   ],
   "source": [
    "print(f'Review the model output here:\\nhttps://console.cloud.google.com/storage/browser/{PROJECT_ID}/{SERIES}/{EXPERIMENT}/models/{TIMESTAMP}?project={PROJECT_ID}')"
   ]
  },
  {
   "cell_type": "markdown",
   "id": "8c2ef648-2926-494a-af18-30d6a4b49568",
   "metadata": {
    "tags": []
   },
   "source": [
    "### Custom Job: From Python Source Distribution\n",
    "\n",
    "This is a modified version of notebook [05b - Vertex AI Custom Model - TensorFlow - Custom Job With Python Source Distribution](../05%20-%20TensorFlow/05b%20-%20Vertex%20AI%20Custom%20Model%20-%20TensorFlow%20-%20Custom%20Job%20With%20Python%20Source%20Distribution.ipynb) that uses the source distribution stored in GCS for this project.\n",
    "\n",
    "Notes:"
   ]
  },
  {
   "cell_type": "code",
   "execution_count": 123,
   "id": "5f9a3439-07d7-4b3d-b3db-6a9162c6e203",
   "metadata": {},
   "outputs": [],
   "source": [
    "TIMESTAMP = datetime.now().strftime(\"%Y%m%d%H%M%S\")\n",
    "EXPERIMENT_NAME = f'experiment-{SERIES}-{EXPERIMENT}-tf-classification-dnn'\n",
    "RUN_NAME = f'run-{TIMESTAMP}'\n",
    "\n",
    "TRAIN_IMAGE = 'us-docker.pkg.dev/vertex-ai/training/tf-cpu.2-7:latest'\n",
    "TRAIN_COMPUTE = 'n1-standard-4'\n",
    "URI = f'gs://{PROJECT_ID}/{SERIES}/{EXPERIMENT}/models'\n",
    "\n",
    "CMDARGS = [\n",
    "    \"--epochs=5\",\n",
    "    \"--batch_size=100\",\n",
    "    \"--var_target=Class\",\n",
    "    \"--var_omit=transaction_id\",\n",
    "    f\"--project_id={PROJECT_ID}\",\n",
    "    f\"--bq_project={PROJECT_ID}\",\n",
    "    \"--bq_dataset=fraud\",\n",
    "    \"--bq_table=fraud_prepped\",\n",
    "    f\"--region={REGION}\",\n",
    "    f\"--experiment={EXPERIMENT}\",\n",
    "    f\"--series={SERIES}\",\n",
    "    f\"--experiment_name={EXPERIMENT_NAME}\",\n",
    "    f\"--run_name={RUN_NAME}\"\n",
    "]\n",
    "\n",
    "MACHINE_SPEC = {\n",
    "    \"machine_type\": TRAIN_COMPUTE,\n",
    "    \"accelerator_count\": 0\n",
    "}\n",
    "\n",
    "WORKER_POOL_SPEC = [\n",
    "    {\n",
    "        \"replica_count\": 1,\n",
    "        \"machine_spec\": MACHINE_SPEC,\n",
    "        \"python_package_spec\": {\n",
    "            \"executor_image_uri\": TRAIN_IMAGE,\n",
    "            \"package_uris\": [f\"gs://{PROJECT_ID}/{SERIES}/{EXPERIMENT}/trainer/dist/trainer-0.1.tar.gz\"],\n",
    "            \"python_module\": \"trainer.train\",\n",
    "            \"args\": CMDARGS\n",
    "        }\n",
    "    }\n",
    "]"
   ]
  },
  {
   "cell_type": "code",
   "execution_count": 124,
   "id": "79b3843b-1fc3-4f64-aaf8-fe23e8c1e9d9",
   "metadata": {},
   "outputs": [],
   "source": [
    "aiplatform.init(experiment = EXPERIMENT_NAME, experiment_tensorboard = tb.resource_name)"
   ]
  },
  {
   "cell_type": "code",
   "execution_count": 125,
   "id": "df583dc0-df81-4b9d-9a4e-9e88ba43b6a2",
   "metadata": {},
   "outputs": [],
   "source": [
    "customJob = aiplatform.CustomJob(\n",
    "    display_name = f'{SERIES}_{EXPERIMENT}_{TIMESTAMP}',\n",
    "    worker_pool_specs = WORKER_POOL_SPEC,\n",
    "    base_output_dir = f\"{URI}/{TIMESTAMP}\",\n",
    "    staging_bucket = f\"{URI}/{TIMESTAMP}\",\n",
    "    labels = {'series' : f'{SERIES}', 'experiment' : f'{EXPERIMENT}', 'experiment_name' : f'{EXPERIMENT_NAME}', 'run_name' : f'{RUN_NAME}'}\n",
    ")"
   ]
  },
  {
   "cell_type": "code",
   "execution_count": 126,
   "id": "4434d8d8-534f-4032-8288-8d5c7f0bca63",
   "metadata": {
    "scrolled": true,
    "tags": []
   },
   "outputs": [
    {
     "name": "stdout",
     "output_type": "stream",
     "text": [
      "Creating CustomJob\n",
      "CustomJob created. Resource name: projects/1026793852137/locations/us-central1/customJobs/2326778535240269824\n",
      "To use this CustomJob in another session:\n",
      "custom_job = aiplatform.CustomJob.get('projects/1026793852137/locations/us-central1/customJobs/2326778535240269824')\n",
      "View Custom Job:\n",
      "https://console.cloud.google.com/ai/platform/locations/us-central1/training/2326778535240269824?project=1026793852137\n",
      "View Tensorboard:\n",
      "https://us-central1.tensorboard.googleusercontent.com/experiment/projects+1026793852137+locations+us-central1+tensorboards+7360834523774320640+experiments+2326778535240269824\n",
      "CustomJob projects/1026793852137/locations/us-central1/customJobs/2326778535240269824 current state:\n",
      "JobState.JOB_STATE_QUEUED\n",
      "CustomJob projects/1026793852137/locations/us-central1/customJobs/2326778535240269824 current state:\n",
      "JobState.JOB_STATE_PENDING\n",
      "CustomJob projects/1026793852137/locations/us-central1/customJobs/2326778535240269824 current state:\n",
      "JobState.JOB_STATE_PENDING\n",
      "CustomJob projects/1026793852137/locations/us-central1/customJobs/2326778535240269824 current state:\n",
      "JobState.JOB_STATE_PENDING\n",
      "CustomJob projects/1026793852137/locations/us-central1/customJobs/2326778535240269824 current state:\n",
      "JobState.JOB_STATE_PENDING\n",
      "CustomJob projects/1026793852137/locations/us-central1/customJobs/2326778535240269824 current state:\n",
      "JobState.JOB_STATE_PENDING\n",
      "CustomJob projects/1026793852137/locations/us-central1/customJobs/2326778535240269824 current state:\n",
      "JobState.JOB_STATE_PENDING\n",
      "CustomJob projects/1026793852137/locations/us-central1/customJobs/2326778535240269824 current state:\n",
      "JobState.JOB_STATE_PENDING\n",
      "CustomJob projects/1026793852137/locations/us-central1/customJobs/2326778535240269824 current state:\n",
      "JobState.JOB_STATE_PENDING\n",
      "CustomJob projects/1026793852137/locations/us-central1/customJobs/2326778535240269824 current state:\n",
      "JobState.JOB_STATE_PENDING\n",
      "CustomJob projects/1026793852137/locations/us-central1/customJobs/2326778535240269824 current state:\n",
      "JobState.JOB_STATE_PENDING\n",
      "CustomJob projects/1026793852137/locations/us-central1/customJobs/2326778535240269824 current state:\n",
      "JobState.JOB_STATE_PENDING\n",
      "CustomJob projects/1026793852137/locations/us-central1/customJobs/2326778535240269824 current state:\n",
      "JobState.JOB_STATE_PENDING\n",
      "CustomJob projects/1026793852137/locations/us-central1/customJobs/2326778535240269824 current state:\n",
      "JobState.JOB_STATE_PENDING\n",
      "CustomJob projects/1026793852137/locations/us-central1/customJobs/2326778535240269824 current state:\n",
      "JobState.JOB_STATE_PENDING\n",
      "CustomJob projects/1026793852137/locations/us-central1/customJobs/2326778535240269824 current state:\n",
      "JobState.JOB_STATE_PENDING\n",
      "CustomJob projects/1026793852137/locations/us-central1/customJobs/2326778535240269824 current state:\n",
      "JobState.JOB_STATE_PENDING\n",
      "CustomJob projects/1026793852137/locations/us-central1/customJobs/2326778535240269824 current state:\n",
      "JobState.JOB_STATE_PENDING\n",
      "CustomJob projects/1026793852137/locations/us-central1/customJobs/2326778535240269824 current state:\n",
      "JobState.JOB_STATE_PENDING\n",
      "CustomJob projects/1026793852137/locations/us-central1/customJobs/2326778535240269824 current state:\n",
      "JobState.JOB_STATE_PENDING\n",
      "CustomJob projects/1026793852137/locations/us-central1/customJobs/2326778535240269824 current state:\n",
      "JobState.JOB_STATE_PENDING\n",
      "CustomJob projects/1026793852137/locations/us-central1/customJobs/2326778535240269824 current state:\n",
      "JobState.JOB_STATE_PENDING\n",
      "CustomJob projects/1026793852137/locations/us-central1/customJobs/2326778535240269824 current state:\n",
      "JobState.JOB_STATE_PENDING\n",
      "CustomJob projects/1026793852137/locations/us-central1/customJobs/2326778535240269824 current state:\n",
      "JobState.JOB_STATE_PENDING\n",
      "CustomJob projects/1026793852137/locations/us-central1/customJobs/2326778535240269824 current state:\n",
      "JobState.JOB_STATE_PENDING\n",
      "CustomJob projects/1026793852137/locations/us-central1/customJobs/2326778535240269824 current state:\n",
      "JobState.JOB_STATE_PENDING\n",
      "CustomJob projects/1026793852137/locations/us-central1/customJobs/2326778535240269824 current state:\n",
      "JobState.JOB_STATE_PENDING\n",
      "CustomJob projects/1026793852137/locations/us-central1/customJobs/2326778535240269824 current state:\n",
      "JobState.JOB_STATE_PENDING\n",
      "CustomJob projects/1026793852137/locations/us-central1/customJobs/2326778535240269824 current state:\n",
      "JobState.JOB_STATE_PENDING\n",
      "CustomJob projects/1026793852137/locations/us-central1/customJobs/2326778535240269824 current state:\n",
      "JobState.JOB_STATE_PENDING\n",
      "CustomJob projects/1026793852137/locations/us-central1/customJobs/2326778535240269824 current state:\n",
      "JobState.JOB_STATE_PENDING\n",
      "CustomJob projects/1026793852137/locations/us-central1/customJobs/2326778535240269824 current state:\n",
      "JobState.JOB_STATE_PENDING\n",
      "CustomJob projects/1026793852137/locations/us-central1/customJobs/2326778535240269824 current state:\n",
      "JobState.JOB_STATE_PENDING\n",
      "CustomJob projects/1026793852137/locations/us-central1/customJobs/2326778535240269824 current state:\n",
      "JobState.JOB_STATE_PENDING\n",
      "CustomJob projects/1026793852137/locations/us-central1/customJobs/2326778535240269824 current state:\n",
      "JobState.JOB_STATE_PENDING\n",
      "CustomJob projects/1026793852137/locations/us-central1/customJobs/2326778535240269824 current state:\n",
      "JobState.JOB_STATE_PENDING\n",
      "CustomJob projects/1026793852137/locations/us-central1/customJobs/2326778535240269824 current state:\n",
      "JobState.JOB_STATE_PENDING\n",
      "CustomJob projects/1026793852137/locations/us-central1/customJobs/2326778535240269824 current state:\n",
      "JobState.JOB_STATE_PENDING\n",
      "CustomJob projects/1026793852137/locations/us-central1/customJobs/2326778535240269824 current state:\n",
      "JobState.JOB_STATE_RUNNING\n",
      "CustomJob projects/1026793852137/locations/us-central1/customJobs/2326778535240269824 current state:\n",
      "JobState.JOB_STATE_RUNNING\n",
      "CustomJob projects/1026793852137/locations/us-central1/customJobs/2326778535240269824 current state:\n",
      "JobState.JOB_STATE_RUNNING\n",
      "CustomJob projects/1026793852137/locations/us-central1/customJobs/2326778535240269824 current state:\n",
      "JobState.JOB_STATE_RUNNING\n",
      "CustomJob projects/1026793852137/locations/us-central1/customJobs/2326778535240269824 current state:\n",
      "JobState.JOB_STATE_RUNNING\n",
      "CustomJob projects/1026793852137/locations/us-central1/customJobs/2326778535240269824 current state:\n",
      "JobState.JOB_STATE_RUNNING\n",
      "CustomJob projects/1026793852137/locations/us-central1/customJobs/2326778535240269824 current state:\n",
      "JobState.JOB_STATE_RUNNING\n",
      "CustomJob projects/1026793852137/locations/us-central1/customJobs/2326778535240269824 current state:\n",
      "JobState.JOB_STATE_RUNNING\n",
      "CustomJob projects/1026793852137/locations/us-central1/customJobs/2326778535240269824 current state:\n",
      "JobState.JOB_STATE_RUNNING\n",
      "CustomJob projects/1026793852137/locations/us-central1/customJobs/2326778535240269824 current state:\n",
      "JobState.JOB_STATE_RUNNING\n",
      "CustomJob projects/1026793852137/locations/us-central1/customJobs/2326778535240269824 current state:\n",
      "JobState.JOB_STATE_RUNNING\n",
      "CustomJob projects/1026793852137/locations/us-central1/customJobs/2326778535240269824 current state:\n",
      "JobState.JOB_STATE_RUNNING\n",
      "CustomJob projects/1026793852137/locations/us-central1/customJobs/2326778535240269824 current state:\n",
      "JobState.JOB_STATE_RUNNING\n",
      "CustomJob projects/1026793852137/locations/us-central1/customJobs/2326778535240269824 current state:\n",
      "JobState.JOB_STATE_RUNNING\n",
      "CustomJob projects/1026793852137/locations/us-central1/customJobs/2326778535240269824 current state:\n",
      "JobState.JOB_STATE_RUNNING\n",
      "CustomJob projects/1026793852137/locations/us-central1/customJobs/2326778535240269824 current state:\n",
      "JobState.JOB_STATE_RUNNING\n",
      "CustomJob projects/1026793852137/locations/us-central1/customJobs/2326778535240269824 current state:\n",
      "JobState.JOB_STATE_RUNNING\n",
      "CustomJob projects/1026793852137/locations/us-central1/customJobs/2326778535240269824 current state:\n",
      "JobState.JOB_STATE_RUNNING\n",
      "CustomJob projects/1026793852137/locations/us-central1/customJobs/2326778535240269824 current state:\n",
      "JobState.JOB_STATE_RUNNING\n",
      "CustomJob projects/1026793852137/locations/us-central1/customJobs/2326778535240269824 current state:\n",
      "JobState.JOB_STATE_RUNNING\n",
      "CustomJob projects/1026793852137/locations/us-central1/customJobs/2326778535240269824 current state:\n",
      "JobState.JOB_STATE_RUNNING\n",
      "CustomJob projects/1026793852137/locations/us-central1/customJobs/2326778535240269824 current state:\n",
      "JobState.JOB_STATE_RUNNING\n",
      "CustomJob projects/1026793852137/locations/us-central1/customJobs/2326778535240269824 current state:\n",
      "JobState.JOB_STATE_RUNNING\n",
      "CustomJob projects/1026793852137/locations/us-central1/customJobs/2326778535240269824 current state:\n",
      "JobState.JOB_STATE_RUNNING\n",
      "CustomJob projects/1026793852137/locations/us-central1/customJobs/2326778535240269824 current state:\n",
      "JobState.JOB_STATE_RUNNING\n",
      "CustomJob projects/1026793852137/locations/us-central1/customJobs/2326778535240269824 current state:\n",
      "JobState.JOB_STATE_RUNNING\n",
      "CustomJob projects/1026793852137/locations/us-central1/customJobs/2326778535240269824 current state:\n",
      "JobState.JOB_STATE_RUNNING\n",
      "CustomJob projects/1026793852137/locations/us-central1/customJobs/2326778535240269824 current state:\n",
      "JobState.JOB_STATE_RUNNING\n",
      "CustomJob projects/1026793852137/locations/us-central1/customJobs/2326778535240269824 current state:\n",
      "JobState.JOB_STATE_RUNNING\n",
      "CustomJob projects/1026793852137/locations/us-central1/customJobs/2326778535240269824 current state:\n",
      "JobState.JOB_STATE_RUNNING\n",
      "CustomJob projects/1026793852137/locations/us-central1/customJobs/2326778535240269824 current state:\n",
      "JobState.JOB_STATE_RUNNING\n",
      "CustomJob projects/1026793852137/locations/us-central1/customJobs/2326778535240269824 current state:\n",
      "JobState.JOB_STATE_RUNNING\n",
      "CustomJob projects/1026793852137/locations/us-central1/customJobs/2326778535240269824 current state:\n",
      "JobState.JOB_STATE_RUNNING\n",
      "CustomJob projects/1026793852137/locations/us-central1/customJobs/2326778535240269824 current state:\n",
      "JobState.JOB_STATE_RUNNING\n",
      "CustomJob projects/1026793852137/locations/us-central1/customJobs/2326778535240269824 current state:\n",
      "JobState.JOB_STATE_RUNNING\n",
      "CustomJob projects/1026793852137/locations/us-central1/customJobs/2326778535240269824 current state:\n",
      "JobState.JOB_STATE_RUNNING\n",
      "CustomJob projects/1026793852137/locations/us-central1/customJobs/2326778535240269824 current state:\n",
      "JobState.JOB_STATE_RUNNING\n",
      "CustomJob projects/1026793852137/locations/us-central1/customJobs/2326778535240269824 current state:\n",
      "JobState.JOB_STATE_RUNNING\n",
      "CustomJob projects/1026793852137/locations/us-central1/customJobs/2326778535240269824 current state:\n",
      "JobState.JOB_STATE_RUNNING\n",
      "CustomJob projects/1026793852137/locations/us-central1/customJobs/2326778535240269824 current state:\n",
      "JobState.JOB_STATE_RUNNING\n",
      "CustomJob projects/1026793852137/locations/us-central1/customJobs/2326778535240269824 current state:\n",
      "JobState.JOB_STATE_RUNNING\n",
      "CustomJob projects/1026793852137/locations/us-central1/customJobs/2326778535240269824 current state:\n",
      "JobState.JOB_STATE_RUNNING\n",
      "CustomJob projects/1026793852137/locations/us-central1/customJobs/2326778535240269824 current state:\n",
      "JobState.JOB_STATE_RUNNING\n",
      "CustomJob projects/1026793852137/locations/us-central1/customJobs/2326778535240269824 current state:\n",
      "JobState.JOB_STATE_RUNNING\n",
      "CustomJob projects/1026793852137/locations/us-central1/customJobs/2326778535240269824 current state:\n",
      "JobState.JOB_STATE_RUNNING\n",
      "CustomJob projects/1026793852137/locations/us-central1/customJobs/2326778535240269824 current state:\n",
      "JobState.JOB_STATE_RUNNING\n",
      "CustomJob projects/1026793852137/locations/us-central1/customJobs/2326778535240269824 current state:\n",
      "JobState.JOB_STATE_RUNNING\n",
      "CustomJob projects/1026793852137/locations/us-central1/customJobs/2326778535240269824 current state:\n",
      "JobState.JOB_STATE_RUNNING\n",
      "CustomJob projects/1026793852137/locations/us-central1/customJobs/2326778535240269824 current state:\n",
      "JobState.JOB_STATE_RUNNING\n",
      "CustomJob projects/1026793852137/locations/us-central1/customJobs/2326778535240269824 current state:\n",
      "JobState.JOB_STATE_RUNNING\n",
      "CustomJob projects/1026793852137/locations/us-central1/customJobs/2326778535240269824 current state:\n",
      "JobState.JOB_STATE_RUNNING\n",
      "CustomJob projects/1026793852137/locations/us-central1/customJobs/2326778535240269824 current state:\n",
      "JobState.JOB_STATE_RUNNING\n",
      "CustomJob projects/1026793852137/locations/us-central1/customJobs/2326778535240269824 current state:\n",
      "JobState.JOB_STATE_RUNNING\n",
      "CustomJob projects/1026793852137/locations/us-central1/customJobs/2326778535240269824 current state:\n",
      "JobState.JOB_STATE_RUNNING\n",
      "CustomJob projects/1026793852137/locations/us-central1/customJobs/2326778535240269824 current state:\n",
      "JobState.JOB_STATE_RUNNING\n",
      "CustomJob projects/1026793852137/locations/us-central1/customJobs/2326778535240269824 current state:\n",
      "JobState.JOB_STATE_RUNNING\n",
      "CustomJob projects/1026793852137/locations/us-central1/customJobs/2326778535240269824 current state:\n",
      "JobState.JOB_STATE_RUNNING\n",
      "CustomJob projects/1026793852137/locations/us-central1/customJobs/2326778535240269824 current state:\n",
      "JobState.JOB_STATE_RUNNING\n",
      "CustomJob projects/1026793852137/locations/us-central1/customJobs/2326778535240269824 current state:\n",
      "JobState.JOB_STATE_RUNNING\n",
      "CustomJob projects/1026793852137/locations/us-central1/customJobs/2326778535240269824 current state:\n",
      "JobState.JOB_STATE_RUNNING\n",
      "CustomJob projects/1026793852137/locations/us-central1/customJobs/2326778535240269824 current state:\n",
      "JobState.JOB_STATE_SUCCEEDED\n",
      "CustomJob run completed. Resource name: projects/1026793852137/locations/us-central1/customJobs/2326778535240269824\n"
     ]
    }
   ],
   "source": [
    "customJob.run(\n",
    "    service_account = SERVICE_ACCOUNT,\n",
    "    tensorboard = tb.resource_name\n",
    ")"
   ]
  },
  {
   "cell_type": "code",
   "execution_count": 128,
   "id": "d6a17fce-ff30-4ffd-bf7f-19e2f69f20a5",
   "metadata": {},
   "outputs": [
    {
     "name": "stdout",
     "output_type": "stream",
     "text": [
      "Review the Job here:\n",
      "https://console.cloud.google.com/vertex-ai/locations/us-central1/training/2326778535240269824/cpu?cloudshell=false&project=statmike-mlops-349915\n"
     ]
    }
   ],
   "source": [
    "job_link = f\"https://console.cloud.google.com/vertex-ai/locations/{REGION}/training/{customJob.resource_name.split('/')[-1]}/cpu?cloudshell=false&project={PROJECT_ID}\"\n",
    "print(f'Review the Job here:\\n{job_link}')"
   ]
  },
  {
   "cell_type": "code",
   "execution_count": 130,
   "id": "defbab6e-5368-4555-8631-55cbac281fba",
   "metadata": {},
   "outputs": [
    {
     "name": "stdout",
     "output_type": "stream",
     "text": [
      "Review the model output here:\n",
      "https://console.cloud.google.com/storage/browser/statmike-mlops-349915/tips/packages/models/20220920141208?project=statmike-mlops-349915\n"
     ]
    }
   ],
   "source": [
    "print(f'Review the model output here:\\nhttps://console.cloud.google.com/storage/browser/{PROJECT_ID}/{SERIES}/{EXPERIMENT}/models/{TIMESTAMP}?project={PROJECT_ID}')"
   ]
  }
 ],
 "metadata": {
  "environment": {
   "kernel": "python3",
   "name": "tf2-gpu.2-3.m94",
   "type": "gcloud",
   "uri": "gcr.io/deeplearning-platform-release/tf2-gpu.2-3:m94"
  },
  "kernelspec": {
   "display_name": "Python 3",
   "language": "python",
   "name": "python3"
  },
  "language_info": {
   "codemirror_mode": {
    "name": "ipython",
    "version": 3
   },
   "file_extension": ".py",
   "mimetype": "text/x-python",
   "name": "python",
   "nbconvert_exporter": "python",
   "pygments_lexer": "ipython3",
   "version": "3.7.12"
  }
 },
 "nbformat": 4,
 "nbformat_minor": 5
}
