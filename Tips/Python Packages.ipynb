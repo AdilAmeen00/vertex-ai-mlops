{
 "cells": [
  {
   "cell_type": "markdown",
   "id": "616a1185-fc50-4a14-8670-37c35e29d9ea",
   "metadata": {},
   "source": [
    "# Python Packages - for Training Code\n",
    "### IN ACTIVE DEVELOPMENT - not complete\n",
    "\n",
    "At the simplest, all the training code may be in a single `filename.py` file that is a module. There are a couple of layers of depth that are commonly added to this:\n",
    "\n",
    "**Python Modules**\n",
    "\n",
    "Modules are files: `filename.py`\n",
    "\n",
    "**Python Project**\n",
    "\n",
    "Projects are collections of **Python Modules** in folders and possibly subfolders.  Here is an example project named `trainer`.\n",
    "```bash\n",
    "│   │   ├── trainer/\n",
    "│   │   │   ├── __init__.py\n",
    "│   │   │   ├── train.py\n",
    "│   │   │   ├── module_1.py\n",
    "│   │   │   ├── helpers/\n",
    "│   │   │   │   ├── __init__.py\n",
    "│   │   │   │   ├── module_a.py\n",
    "│   │   │   │   ├── module_a.py\n",
    "```\n",
    "Here the `train.py` might have `import module_1` and `import helpers.module_a as module_a`.  Note the `__init__.py` file in the folders - this is an empty file that lets Python know the folder can be imported as a module.\n",
    "\n",
    "**Python Packages**\n",
    "\n",
    "Packages are creating by adding necessary files to a **Python Project** to help create a distribution package.\n",
    "```bash\n",
    "├── training_package/\n",
    "│   ├── pyproject.toml\n",
    "│   ├── src/\n",
    "│   │   ├── trainer/\n",
    "│   │   │   ├── __init__.py\n",
    "│   │   │   ├── train.py\n",
    "│   │   │   ├── module_1.py\n",
    "│   │   │   ├── helpers/\n",
    "│   │   │   │   ├── __init__.py\n",
    "│   │   │   │   ├── module_a.py\n",
    "│   │   │   │   ├── module_a.py\n",
    "```\n",
    "\n",
    "Example `pyproject.toml` file that sets `setuptools` as the build system:\n",
    "```python\n",
    "[build-system]\n",
    "requires = [\"setuptools\"]\n",
    "build-backend = \"setuptools.build_meta\"\n",
    "\n",
    "[project]\n",
    "name = 'trainer'\n",
    "version = '0.1'\n",
    "dependencies = ['tensorflow_io', 'google-cloud-aiplatform>=1.17.0']\n",
    "description = 'Training Package'\n",
    "authors = [{{name = 'statmike'}}]\n",
    "```\n",
    "\n",
    "**Python Distribution Archive**\n",
    "\n",
    "Prepare **Python Packages** for distribution - called an archive, distribution, or distribution archive. There are two formats for these:\n",
    "- `file.tar.gz` is a source distributions\n",
    "    - created with `python setup.py sdist` or `python -m build` run in the package level folder\n",
    "    - tarballs, `file.tar`, a collection of files wrapped into a single file\n",
    "    - compressed, `file.tar.gz`, using [gzip](https://www.gzip.org/)\n",
    "    - contains metadata and source files to be installed by pip\n",
    "- `.whl` is a built distribution\n",
    "    - created with `python setup.py bdist_wheel` or `python -m build` from the `package` level folder\n",
    "    - wheels, `file.whl`, built into a compressed binary format that is portable\n",
    "\n",
    "Notes on distribution tools:\n",
    "- here we use the setuptools directly with\n",
    "    - `python setup.py sdist` which automaticlaly creates `file.tar.gz` by default\n",
    "    - `python setup.py bdist_wheel` which creates `file.whl`\n",
    "- `python -m build` would use a `project.toml` file which could specify setuptools and will automaticaly create .whl and .tar.gz versions\n",
    "\n",
    "write these up also when clean above\n",
    "pyproject.toml and setup tools will by default look for packages in common folder layouts, or you can specify package.  package data, if present is include by default.  pytproject.toml can also link to readme.md and license\n",
    "\n",
    "\n",
    "\n",
    "**Installing Packages**\n",
    "\n",
    "When you `pip install ...` what is happening?  This causes pip to look for the package and install it.  The default location to look is [PyPI](https://pypi.org/).  This can be overridden:\n",
    "- local install `pip install path/to/file.tar.gz` or `pip install path/to/file.whl`\n",
    "- install from custom repository on Artifact Registry with `pip install --index-url https://{REGION}-python.pkg.dev/{PROJECT}/{REPOSITORY}/{PACKAGE}/ sampleproject`\n",
    "\n",
    "\n",
    "Resources:\n",
    "- [pip install](https://pip.pypa.io/en/stable/cli/pip_install/)\n",
    "- [Packaging Python Projects Tutorial](https://packaging.python.org/en/latest/tutorials/packaging-projects/)\n",
    "- [setuptools](https://docs.python.org/3/distutils/sourcedist.html)\n",
    "- [setuptools quickstart](https://setuptools.pypa.io/en/latest/userguide/quickstart.html)"
   ]
  },
  {
   "cell_type": "markdown",
   "id": "be149cb7-9aab-4ca1-93c4-0e294d723a1a",
   "metadata": {},
   "source": [
    "---\n",
    "## Package Installs (if needed)\n",
    "\n",
    "The cells below check to see if the required Python libraries are installed.  If any are not it will print a message to do the install with the associated pip command to use.  These install must be completed before continuing this notebook."
   ]
  },
  {
   "cell_type": "code",
   "execution_count": 109,
   "id": "6115404d-af8c-4a30-b846-37bea8b411e8",
   "metadata": {},
   "outputs": [],
   "source": [
    "try:\n",
    "    import build\n",
    "except ImportError:\n",
    "    print('You need to pip install build')"
   ]
  },
  {
   "cell_type": "markdown",
   "id": "18937d6e-2c46-4590-9778-427316380644",
   "metadata": {},
   "source": [
    "---\n",
    "## Setup"
   ]
  },
  {
   "cell_type": "markdown",
   "id": "9c3f1466-8c08-4884-9c0b-b09cb9df94a3",
   "metadata": {},
   "source": [
    "inputs:"
   ]
  },
  {
   "cell_type": "code",
   "execution_count": 4,
   "id": "09680104-3052-4adb-b247-8ecaa4672a34",
   "metadata": {},
   "outputs": [
    {
     "data": {
      "text/plain": [
       "'statmike-mlops-349915'"
      ]
     },
     "execution_count": 4,
     "metadata": {},
     "output_type": "execute_result"
    }
   ],
   "source": [
    "project = !gcloud config get-value project\n",
    "PROJECT_ID = project[0]\n",
    "PROJECT_ID"
   ]
  },
  {
   "cell_type": "code",
   "execution_count": 32,
   "id": "b2a88a5e-0238-47ac-9e70-c761892c602d",
   "metadata": {},
   "outputs": [],
   "source": [
    "REGION = 'us-central1'\n",
    "EXPERIMENT = 'packages'\n",
    "SERIES = 'tips'"
   ]
  },
  {
   "cell_type": "markdown",
   "id": "d8da1824-09dc-4215-98cd-4471667a92a6",
   "metadata": {},
   "source": [
    "packages:"
   ]
  },
  {
   "cell_type": "code",
   "execution_count": 97,
   "id": "7629a781-519d-48b7-a135-812b31dea62d",
   "metadata": {},
   "outputs": [],
   "source": [
    "import os, shutil\n",
    "\n",
    "from google.cloud import aiplatform"
   ]
  },
  {
   "cell_type": "markdown",
   "id": "dbc1edec-b957-4453-89e1-9aa68035602e",
   "metadata": {},
   "source": [
    "clients:"
   ]
  },
  {
   "cell_type": "code",
   "execution_count": 98,
   "id": "31447726-a55a-4ef5-bd2d-2465215d22a9",
   "metadata": {},
   "outputs": [],
   "source": [
    "aiplatform.init(project = PROJECT_ID, location = REGION)"
   ]
  },
  {
   "cell_type": "markdown",
   "id": "e41b6f01-0018-4185-ac68-61e9a43a3070",
   "metadata": {},
   "source": [
    "parameters:"
   ]
  },
  {
   "cell_type": "code",
   "execution_count": 19,
   "id": "f01a4cfe-8ade-4272-92a2-d78bc532cb89",
   "metadata": {},
   "outputs": [],
   "source": [
    "DIR = f'temp/{EXPERIMENT}'"
   ]
  },
  {
   "cell_type": "markdown",
   "id": "27e41e2e-b2e7-4447-83fd-8ead073a8ce2",
   "metadata": {},
   "source": [
    "environment:"
   ]
  },
  {
   "cell_type": "code",
   "execution_count": 85,
   "id": "3d3912e8-7365-4bda-8105-88f8fa298524",
   "metadata": {},
   "outputs": [
    {
     "name": "stdout",
     "output_type": "stream",
     "text": [
      "True\n"
     ]
    },
    {
     "data": {
      "text/plain": [
       "['job-parms', 'tips_build', '.ipynb_checkpoints', 'multi', 'gcs']"
      ]
     },
     "execution_count": 85,
     "metadata": {},
     "output_type": "execute_result"
    }
   ],
   "source": [
    "# remove directory named DIR if exists\n",
    "shutil.rmtree(DIR, ignore_errors = True)\n",
    "\n",
    "# create directory DIR\n",
    "os.makedirs(DIR)\n",
    "\n",
    "# check for existance of DIR\n",
    "print('DIR exists? ', os.path.exists(DIR))\n",
    "\n",
    "# list contents of directory one level higher than DIR\n",
    "os.listdir(DIR + '/../')"
   ]
  },
  {
   "cell_type": "markdown",
   "id": "2b5b13f5-0e0e-4d8f-b40d-6e1684da3432",
   "metadata": {},
   "source": [
    "### Construct Python Package"
   ]
  },
  {
   "cell_type": "markdown",
   "id": "93d6c2db-f5b2-4298-8369-9b9ad6d09eb6",
   "metadata": {},
   "source": [
    "Use the temp dirctory crated at DIR:"
   ]
  },
  {
   "cell_type": "code",
   "execution_count": 81,
   "id": "6b3ed43e-cbf5-410c-b9af-7a1e3b82a894",
   "metadata": {},
   "outputs": [
    {
     "data": {
      "text/plain": [
       "'temp/tips_build'"
      ]
     },
     "execution_count": 81,
     "metadata": {},
     "output_type": "execute_result"
    }
   ],
   "source": [
    "DIR"
   ]
  },
  {
   "cell_type": "code",
   "execution_count": 80,
   "id": "4fd56b82-afaa-4402-b6bf-2a22064eab6f",
   "metadata": {},
   "outputs": [
    {
     "data": {
      "text/plain": [
       "['job-parms', 'tips_build', '.ipynb_checkpoints', 'multi', 'gcs']"
      ]
     },
     "execution_count": 80,
     "metadata": {},
     "output_type": "execute_result"
    }
   ],
   "source": [
    "os.listdir(f'{DIR}/../')"
   ]
  },
  {
   "cell_type": "markdown",
   "id": "df5efeb6-5e60-4bbe-b004-49a1d80687c6",
   "metadata": {},
   "source": [
    "create the folder structure:"
   ]
  },
  {
   "cell_type": "code",
   "execution_count": 86,
   "id": "23e2c788-3ef6-4748-8f1f-b7024b2599e3",
   "metadata": {},
   "outputs": [],
   "source": [
    "os.makedirs(DIR+'/trainer/src/trainer')"
   ]
  },
  {
   "cell_type": "code",
   "execution_count": 91,
   "id": "8cbad6b2-2f6d-4491-9a9d-fae1b1d099de",
   "metadata": {},
   "outputs": [
    {
     "name": "stdout",
     "output_type": "stream",
     "text": [
      "temp/tips_build/trainer\n",
      "temp/tips_build/trainer/src\n",
      "temp/tips_build/trainer/src/trainer\n"
     ]
    }
   ],
   "source": [
    "for r, d, f in os.walk(DIR):\n",
    "    for s in d:\n",
    "        print(os.path.join(r, s))"
   ]
  },
  {
   "cell_type": "markdown",
   "id": "15cc1a36-e006-47fd-a980-875c4218dd60",
   "metadata": {},
   "source": [
    "add files to directory:"
   ]
  },
  {
   "cell_type": "code",
   "execution_count": 102,
   "id": "f62ff510-1136-4122-9a31-dbe32eccb31f",
   "metadata": {},
   "outputs": [],
   "source": [
    "shutil.copyfile('../05 - TensorFlow/05_train.py', f'{DIR}/trainer/src/trainer/train.py')\n",
    "with open(f'{DIR}/trainer/src/trainer/__init__.py', 'w') as file: pass"
   ]
  },
  {
   "cell_type": "code",
   "execution_count": 119,
   "id": "29669ad0-0944-49bb-8d2e-dff5d3a8bc78",
   "metadata": {},
   "outputs": [],
   "source": [
    "with open(f'{DIR}/trainer/pyproject.toml', 'w') as file:\n",
    "    file.write(f\"\"\"[build-system]\n",
    "requires = [\"setuptools\"]\n",
    "build-backend = \"setuptools.build_meta\"\n",
    "\n",
    "[project]\n",
    "name = 'trainer'\n",
    "version = '0.1'\n",
    "dependencies = ['tensorflow_io', 'google-cloud-aiplatform>={aiplatform.__version__}']\n",
    "description = 'Training Package'\n",
    "authors = [{{name = 'statmike'}}]\n",
    "\"\"\")"
   ]
  },
  {
   "cell_type": "markdown",
   "id": "6517dae0-5b0b-4e63-9894-9b22964619b4",
   "metadata": {},
   "source": [
    "list directory:"
   ]
  },
  {
   "cell_type": "code",
   "execution_count": 120,
   "id": "4d2039fb-4857-4b1e-bdce-f65ba3a6df19",
   "metadata": {},
   "outputs": [
    {
     "name": "stdout",
     "output_type": "stream",
     "text": [
      "temp/tips_build/trainer\n",
      "temp/tips_build/trainer/.ipynb_checkpoints\n",
      "temp/tips_build/trainer/src\n",
      "temp/tips_build/trainer/src/pyproject.toml\n",
      "temp/tips_build/trainer/src/trainer\n",
      "temp/tips_build/trainer/src/trainer/trainer/__init__.py\n",
      "temp/tips_build/trainer/src/trainer/trainer/train.py\n"
     ]
    }
   ],
   "source": [
    "for root, dirs, files in os.walk(DIR):\n",
    "    for d in dirs:\n",
    "        print(os.path.join(root, d))\n",
    "    for f in files:\n",
    "        print(os.path.join(root, d, f))"
   ]
  },
  {
   "cell_type": "markdown",
   "id": "7ffeb127-98c6-408f-9cd2-746c2b9aabee",
   "metadata": {},
   "source": [
    "build Python distribution archive:"
   ]
  },
  {
   "cell_type": "code",
   "execution_count": 121,
   "id": "c06245fc-e6d6-4871-ae53-1adc46c5856a",
   "metadata": {
    "scrolled": true,
    "tags": []
   },
   "outputs": [
    {
     "name": "stdout",
     "output_type": "stream",
     "text": [
      "\u001b[1m* Creating virtualenv isolated environment...\u001b[0m\n",
      "\u001b[1m* Installing packages in isolated environment... (setuptools)\u001b[0m\n",
      "\u001b[1m* Getting dependencies for sdist...\u001b[0m\n",
      "running egg_info\n",
      "creating src/trainer.egg-info\n",
      "writing src/trainer.egg-info/PKG-INFO\n",
      "writing dependency_links to src/trainer.egg-info/dependency_links.txt\n",
      "writing requirements to src/trainer.egg-info/requires.txt\n",
      "writing top-level names to src/trainer.egg-info/top_level.txt\n",
      "writing manifest file 'src/trainer.egg-info/SOURCES.txt'\n",
      "reading manifest file 'src/trainer.egg-info/SOURCES.txt'\n",
      "writing manifest file 'src/trainer.egg-info/SOURCES.txt'\n",
      "\u001b[1m* Building sdist...\u001b[0m\n",
      "running sdist\n",
      "running egg_info\n",
      "writing src/trainer.egg-info/PKG-INFO\n",
      "writing dependency_links to src/trainer.egg-info/dependency_links.txt\n",
      "writing requirements to src/trainer.egg-info/requires.txt\n",
      "writing top-level names to src/trainer.egg-info/top_level.txt\n",
      "reading manifest file 'src/trainer.egg-info/SOURCES.txt'\n",
      "writing manifest file 'src/trainer.egg-info/SOURCES.txt'\n",
      "warning: sdist: standard file not found: should have one of README, README.rst, README.txt, README.md\n",
      "\n",
      "running check\n",
      "creating trainer-0.1\n",
      "creating trainer-0.1/src\n",
      "creating trainer-0.1/src/trainer\n",
      "creating trainer-0.1/src/trainer.egg-info\n",
      "copying files to trainer-0.1...\n",
      "copying pyproject.toml -> trainer-0.1\n",
      "copying src/trainer/__init__.py -> trainer-0.1/src/trainer\n",
      "copying src/trainer/train.py -> trainer-0.1/src/trainer\n",
      "copying src/trainer.egg-info/PKG-INFO -> trainer-0.1/src/trainer.egg-info\n",
      "copying src/trainer.egg-info/SOURCES.txt -> trainer-0.1/src/trainer.egg-info\n",
      "copying src/trainer.egg-info/dependency_links.txt -> trainer-0.1/src/trainer.egg-info\n",
      "copying src/trainer.egg-info/requires.txt -> trainer-0.1/src/trainer.egg-info\n",
      "copying src/trainer.egg-info/top_level.txt -> trainer-0.1/src/trainer.egg-info\n",
      "Writing trainer-0.1/setup.cfg\n",
      "Creating tar archive\n",
      "removing 'trainer-0.1' (and everything under it)\n",
      "\u001b[1m* Building wheel from sdist\u001b[0m\n",
      "\u001b[1m* Creating virtualenv isolated environment...\u001b[0m\n",
      "\u001b[1m* Installing packages in isolated environment... (setuptools)\u001b[0m\n",
      "\u001b[1m* Getting dependencies for wheel...\u001b[0m\n",
      "running egg_info\n",
      "writing src/trainer.egg-info/PKG-INFO\n",
      "writing dependency_links to src/trainer.egg-info/dependency_links.txt\n",
      "writing requirements to src/trainer.egg-info/requires.txt\n",
      "writing top-level names to src/trainer.egg-info/top_level.txt\n",
      "reading manifest file 'src/trainer.egg-info/SOURCES.txt'\n",
      "writing manifest file 'src/trainer.egg-info/SOURCES.txt'\n",
      "\u001b[1m* Installing packages in isolated environment... (wheel)\u001b[0m\n",
      "\u001b[1m* Building wheel...\u001b[0m\n",
      "running bdist_wheel\n",
      "running build\n",
      "running build_py\n",
      "creating build\n",
      "creating build/lib\n",
      "creating build/lib/trainer\n",
      "copying src/trainer/train.py -> build/lib/trainer\n",
      "copying src/trainer/__init__.py -> build/lib/trainer\n",
      "running egg_info\n",
      "writing src/trainer.egg-info/PKG-INFO\n",
      "writing dependency_links to src/trainer.egg-info/dependency_links.txt\n",
      "writing requirements to src/trainer.egg-info/requires.txt\n",
      "writing top-level names to src/trainer.egg-info/top_level.txt\n",
      "reading manifest file 'src/trainer.egg-info/SOURCES.txt'\n",
      "writing manifest file 'src/trainer.egg-info/SOURCES.txt'\n",
      "installing to build/bdist.linux-x86_64/wheel\n",
      "running install\n",
      "running install_lib\n",
      "creating build/bdist.linux-x86_64\n",
      "creating build/bdist.linux-x86_64/wheel\n",
      "creating build/bdist.linux-x86_64/wheel/trainer\n",
      "copying build/lib/trainer/train.py -> build/bdist.linux-x86_64/wheel/trainer\n",
      "copying build/lib/trainer/__init__.py -> build/bdist.linux-x86_64/wheel/trainer\n",
      "running install_egg_info\n",
      "Copying src/trainer.egg-info to build/bdist.linux-x86_64/wheel/trainer-0.1-py3.7.egg-info\n",
      "running install_scripts\n",
      "creating build/bdist.linux-x86_64/wheel/trainer-0.1.dist-info/WHEEL\n",
      "creating '/home/jupyter/vertex-ai-mlops/Tips/temp/tips_build/trainer/dist/tmp1648hv06/trainer-0.1-py3-none-any.whl' and adding 'build/bdist.linux-x86_64/wheel' to it\n",
      "adding 'trainer/__init__.py'\n",
      "adding 'trainer/train.py'\n",
      "adding 'trainer-0.1.dist-info/METADATA'\n",
      "adding 'trainer-0.1.dist-info/WHEEL'\n",
      "adding 'trainer-0.1.dist-info/top_level.txt'\n",
      "adding 'trainer-0.1.dist-info/RECORD'\n",
      "removing build/bdist.linux-x86_64/wheel\n",
      "\u001b[1m\u001b[92mSuccessfully built \u001b[4mtrainer-0.1.tar.gz\u001b[0m\u001b[1m\u001b[92m and \u001b[4mtrainer-0.1-py3-none-any.whl\u001b[0m\u001b[1m\u001b[92m\u001b[0m\n",
      "\u001b[0m"
     ]
    }
   ],
   "source": [
    "!cd ./{DIR}/trainer && python -m build"
   ]
  },
  {
   "cell_type": "markdown",
   "id": "087c9872-b835-48cf-ba6a-c7e365848933",
   "metadata": {},
   "source": [
    "list directory:"
   ]
  },
  {
   "cell_type": "code",
   "execution_count": 122,
   "id": "41cb8e6b-d08e-42c4-9142-f7d978416f46",
   "metadata": {},
   "outputs": [
    {
     "name": "stdout",
     "output_type": "stream",
     "text": [
      "temp/tips_build/trainer\n",
      "temp/tips_build/trainer/.ipynb_checkpoints\n",
      "temp/tips_build/trainer/src\n",
      "temp/tips_build/trainer/dist\n",
      "temp/tips_build/trainer/dist/pyproject.toml\n",
      "temp/tips_build/trainer/src/trainer.egg-info\n",
      "temp/tips_build/trainer/src/trainer\n",
      "temp/tips_build/trainer/src/trainer.egg-info/trainer/top_level.txt\n",
      "temp/tips_build/trainer/src/trainer.egg-info/trainer/SOURCES.txt\n",
      "temp/tips_build/trainer/src/trainer.egg-info/trainer/requires.txt\n",
      "temp/tips_build/trainer/src/trainer.egg-info/trainer/dependency_links.txt\n",
      "temp/tips_build/trainer/src/trainer.egg-info/trainer/PKG-INFO\n",
      "temp/tips_build/trainer/src/trainer/trainer/__init__.py\n",
      "temp/tips_build/trainer/src/trainer/trainer/train.py\n",
      "temp/tips_build/trainer/dist/trainer/trainer-0.1-py3-none-any.whl\n",
      "temp/tips_build/trainer/dist/trainer/trainer-0.1.tar.gz\n"
     ]
    }
   ],
   "source": [
    "for root, dirs, files in os.walk(DIR):\n",
    "    for d in dirs:\n",
    "        print(os.path.join(root, d))\n",
    "    for f in files:\n",
    "        print(os.path.join(root, d, f))"
   ]
  },
  {
   "cell_type": "markdown",
   "id": "c4848a24-0ce3-4ae2-883e-710041c06c30",
   "metadata": {},
   "source": [
    "This directory now has three key items:\n",
    "- a single training file: {DIR}/training/src/trainer/train.py\n",
    "- a folder of training code: {DIR}/training/src/trainer*\n",
    "    - with a starting point of train.py\n",
    "- a source distribution: {DIR}/training/dist/trainer-0.1.tar.gz"
   ]
  }
 ],
 "metadata": {
  "environment": {
   "kernel": "python3",
   "name": "tf2-gpu.2-3.m94",
   "type": "gcloud",
   "uri": "gcr.io/deeplearning-platform-release/tf2-gpu.2-3:m94"
  },
  "kernelspec": {
   "display_name": "Python 3",
   "language": "python",
   "name": "python3"
  },
  "language_info": {
   "codemirror_mode": {
    "name": "ipython",
    "version": 3
   },
   "file_extension": ".py",
   "mimetype": "text/x-python",
   "name": "python",
   "nbconvert_exporter": "python",
   "pygments_lexer": "ipython3",
   "version": "3.7.12"
  }
 },
 "nbformat": 4,
 "nbformat_minor": 5
}
