{
 "cells": [
  {
   "cell_type": "markdown",
   "id": "c6bab0ab-aced-42e1-81cc-897bf7d6c09c",
   "metadata": {},
   "source": [
    "# Python Client for GCS\n",
    "\n",
    "Google Cloud Storage (GCS), bucket to hold all your information.\n",
    "\n",
    "This notebook illustrates some common interaction with GCS and provides tips.\n",
    "\n",
    "Resources:\n",
    "- [Product](https://cloud.google.com/storage)\n",
    "- [Client API](https://github.com/googleapis/python-storage)\n",
    "- [Client API Documentation](https://cloud.google.com/python/docs/reference/storage/latest)\n"
   ]
  },
  {
   "cell_type": "markdown",
   "id": "2056c123-d8a6-46da-b990-40ef067e73a4",
   "metadata": {},
   "source": [
    "---\n",
    "## Setup"
   ]
  },
  {
   "cell_type": "markdown",
   "id": "c60f85d2-3250-4c94-8b7a-0a7b46ffaeb3",
   "metadata": {},
   "source": [
    "inputs:"
   ]
  },
  {
   "cell_type": "code",
   "execution_count": 2,
   "id": "d3237c8c-e220-4db9-9af0-e11f09b58754",
   "metadata": {},
   "outputs": [],
   "source": [
    "EXPERIMENT = 'gcs'"
   ]
  },
  {
   "cell_type": "markdown",
   "id": "be41cb1d-181b-4558-84d8-dae9c74fb35b",
   "metadata": {},
   "source": [
    "packages:"
   ]
  },
  {
   "cell_type": "code",
   "execution_count": 3,
   "id": "3bdba16a-f4a1-4b10-856f-4141389b3cf4",
   "metadata": {},
   "outputs": [],
   "source": [
    "from google.cloud import storage"
   ]
  },
  {
   "cell_type": "markdown",
   "id": "0a85f74e-3ebe-4a6c-96db-fef7b9caa321",
   "metadata": {},
   "source": [
    "clients:"
   ]
  },
  {
   "cell_type": "code",
   "execution_count": 4,
   "id": "3e3271c4-dbe8-406b-8c3f-4e753a655c56",
   "metadata": {},
   "outputs": [],
   "source": [
    "gcs = storage.Client()"
   ]
  },
  {
   "cell_type": "markdown",
   "id": "379632d0-cbfa-4d02-88b1-32f31f573075",
   "metadata": {},
   "source": [
    "parameters:"
   ]
  },
  {
   "cell_type": "code",
   "execution_count": 5,
   "id": "7376d6f5-beb9-4f08-be0d-5fbc42c588d0",
   "metadata": {},
   "outputs": [],
   "source": [
    "DIR = f'temp/{EXPERIMENT}'"
   ]
  },
  {
   "cell_type": "markdown",
   "id": "4354c29b-8263-4d25-bee5-639c7f791633",
   "metadata": {},
   "source": [
    "environment:"
   ]
  },
  {
   "cell_type": "code",
   "execution_count": 6,
   "id": "431f84d7-c7ba-4bc0-a67b-ac524234660d",
   "metadata": {},
   "outputs": [],
   "source": [
    "!rm -rf {DIR}\n",
    "!mkdir -p {DIR}"
   ]
  },
  {
   "cell_type": "code",
   "execution_count": null,
   "id": "a0a7e01d-5b2c-42d7-b3a7-c54b5d3eba76",
   "metadata": {},
   "outputs": [],
   "source": []
  }
 ],
 "metadata": {
  "environment": {
   "kernel": "python3",
   "name": "tf2-gpu.2-3.m94",
   "type": "gcloud",
   "uri": "gcr.io/deeplearning-platform-release/tf2-gpu.2-3:m94"
  },
  "kernelspec": {
   "display_name": "Python 3",
   "language": "python",
   "name": "python3"
  },
  "language_info": {
   "codemirror_mode": {
    "name": "ipython",
    "version": 3
   },
   "file_extension": ".py",
   "mimetype": "text/x-python",
   "name": "python",
   "nbconvert_exporter": "python",
   "pygments_lexer": "ipython3",
   "version": "3.7.12"
  }
 },
 "nbformat": 4,
 "nbformat_minor": 5
}
