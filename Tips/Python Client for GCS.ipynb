{
 "cells": [
  {
   "cell_type": "markdown",
   "id": "c6bab0ab-aced-42e1-81cc-897bf7d6c09c",
   "metadata": {},
   "source": [
    "# Python Client for GCS\n",
    "\n",
    "Google Cloud Storage (GCS), buckets to hold all your information, data, files.\n",
    "\n",
    "This notebook illustrates some common interactions with GCS and provides tips on using the Python Client to:\n",
    "- List buckets\n",
    "- List files\n",
    "- Download files\n",
    "- Upload files\n",
    "- more\n",
    "\n",
    "Resources:\n",
    "- [Product](https://cloud.google.com/storage)\n",
    "- [Client API](https://github.com/googleapis/python-storage)\n",
    "- [Client API Documentation](https://cloud.google.com/python/docs/reference/storage/latest)\n"
   ]
  },
  {
   "cell_type": "markdown",
   "id": "2056c123-d8a6-46da-b990-40ef067e73a4",
   "metadata": {},
   "source": [
    "---\n",
    "## Setup"
   ]
  },
  {
   "cell_type": "markdown",
   "id": "c60f85d2-3250-4c94-8b7a-0a7b46ffaeb3",
   "metadata": {},
   "source": [
    "inputs:"
   ]
  },
  {
   "cell_type": "code",
   "execution_count": 2,
   "id": "d3237c8c-e220-4db9-9af0-e11f09b58754",
   "metadata": {},
   "outputs": [],
   "source": [
    "EXPERIMENT = 'gcs'"
   ]
  },
  {
   "cell_type": "markdown",
   "id": "be41cb1d-181b-4558-84d8-dae9c74fb35b",
   "metadata": {},
   "source": [
    "packages:"
   ]
  },
  {
   "cell_type": "code",
   "execution_count": 3,
   "id": "3bdba16a-f4a1-4b10-856f-4141389b3cf4",
   "metadata": {},
   "outputs": [],
   "source": [
    "from google.cloud import storage"
   ]
  },
  {
   "cell_type": "markdown",
   "id": "0a85f74e-3ebe-4a6c-96db-fef7b9caa321",
   "metadata": {},
   "source": [
    "clients:"
   ]
  },
  {
   "cell_type": "code",
   "execution_count": 4,
   "id": "3e3271c4-dbe8-406b-8c3f-4e753a655c56",
   "metadata": {},
   "outputs": [],
   "source": [
    "gcs = storage.Client()"
   ]
  },
  {
   "cell_type": "markdown",
   "id": "379632d0-cbfa-4d02-88b1-32f31f573075",
   "metadata": {},
   "source": [
    "parameters:"
   ]
  },
  {
   "cell_type": "code",
   "execution_count": 5,
   "id": "7376d6f5-beb9-4f08-be0d-5fbc42c588d0",
   "metadata": {},
   "outputs": [],
   "source": [
    "DIR = f'temp/{EXPERIMENT}'"
   ]
  },
  {
   "cell_type": "markdown",
   "id": "4354c29b-8263-4d25-bee5-639c7f791633",
   "metadata": {},
   "source": [
    "environment:"
   ]
  },
  {
   "cell_type": "code",
   "execution_count": 6,
   "id": "431f84d7-c7ba-4bc0-a67b-ac524234660d",
   "metadata": {},
   "outputs": [],
   "source": [
    "!rm -rf {DIR}\n",
    "!mkdir -p {DIR}"
   ]
  },
  {
   "cell_type": "markdown",
   "id": "53280796-6b16-4653-a658-f22eb1822efd",
   "metadata": {},
   "source": [
    "---\n",
    "## Buckets"
   ]
  },
  {
   "cell_type": "code",
   "execution_count": null,
   "id": "1857c3d5-3a8e-4ff1-8c0e-98eedd68cfe7",
   "metadata": {},
   "outputs": [],
   "source": []
  },
  {
   "cell_type": "code",
   "execution_count": null,
   "id": "92bc0ee7-cbe1-44e3-9560-11a3e84d73bd",
   "metadata": {},
   "outputs": [],
   "source": []
  },
  {
   "cell_type": "code",
   "execution_count": null,
   "id": "c6c83dd9-a8ff-4615-aa55-778e73ed566e",
   "metadata": {},
   "outputs": [],
   "source": []
  },
  {
   "cell_type": "code",
   "execution_count": null,
   "id": "8447298a-0143-45cd-9687-cefa1a1d9b60",
   "metadata": {},
   "outputs": [],
   "source": []
  },
  {
   "cell_type": "code",
   "execution_count": null,
   "id": "de924045-7405-4feb-a0e4-44aa96ddc241",
   "metadata": {},
   "outputs": [],
   "source": []
  },
  {
   "cell_type": "markdown",
   "id": "6181a78e-6638-434a-978e-a0b9a9e3137f",
   "metadata": {},
   "source": [
    "## Files (blobs)"
   ]
  },
  {
   "cell_type": "code",
   "execution_count": null,
   "id": "c308a921-80d9-42b8-ad9f-ea3b8db19a05",
   "metadata": {},
   "outputs": [],
   "source": []
  },
  {
   "cell_type": "code",
   "execution_count": null,
   "id": "8f4c5b2c-a218-4a7c-95d6-9bca74313b6c",
   "metadata": {},
   "outputs": [],
   "source": []
  },
  {
   "cell_type": "code",
   "execution_count": null,
   "id": "cd983d14-3c2b-4a7d-97cf-4fe5c1c33838",
   "metadata": {},
   "outputs": [],
   "source": []
  },
  {
   "cell_type": "markdown",
   "id": "b3edc5f5-a0af-4103-a164-c3ade25d2ac6",
   "metadata": {},
   "source": [
    "### Downloading"
   ]
  },
  {
   "cell_type": "code",
   "execution_count": null,
   "id": "4b0b0b83-0017-4eea-9909-bb2b5f4a00ab",
   "metadata": {},
   "outputs": [],
   "source": []
  },
  {
   "cell_type": "code",
   "execution_count": null,
   "id": "cfabf115-3e56-40f7-bffa-a90abadbfc5c",
   "metadata": {},
   "outputs": [],
   "source": []
  },
  {
   "cell_type": "code",
   "execution_count": null,
   "id": "541244d1-0acc-44e0-b10d-37e81f19c6db",
   "metadata": {},
   "outputs": [],
   "source": []
  },
  {
   "cell_type": "markdown",
   "id": "bde97427-c17a-4464-b5a8-031254155fc6",
   "metadata": {},
   "source": [
    "### Uploading"
   ]
  },
  {
   "cell_type": "code",
   "execution_count": null,
   "id": "96983d88-09e0-4229-a21d-f62814fcc109",
   "metadata": {},
   "outputs": [],
   "source": []
  },
  {
   "cell_type": "code",
   "execution_count": null,
   "id": "34eb6434-d260-4b91-9163-243b75d9436d",
   "metadata": {},
   "outputs": [],
   "source": []
  },
  {
   "cell_type": "code",
   "execution_count": null,
   "id": "a1375267-c078-4228-a8c0-0e350279e900",
   "metadata": {},
   "outputs": [],
   "source": []
  },
  {
   "cell_type": "code",
   "execution_count": null,
   "id": "f7ac9c4e-0042-4832-9206-eb5798071aad",
   "metadata": {},
   "outputs": [],
   "source": []
  },
  {
   "cell_type": "code",
   "execution_count": null,
   "id": "a7afd0b9-d1da-4622-a1f3-22f45b884b63",
   "metadata": {},
   "outputs": [],
   "source": []
  },
  {
   "cell_type": "code",
   "execution_count": null,
   "id": "90ba8553-ebd9-4854-9160-2d41ca01de1d",
   "metadata": {},
   "outputs": [],
   "source": []
  }
 ],
 "metadata": {
  "environment": {
   "kernel": "python3",
   "name": "tf2-gpu.2-3.m94",
   "type": "gcloud",
   "uri": "gcr.io/deeplearning-platform-release/tf2-gpu.2-3:m94"
  },
  "kernelspec": {
   "display_name": "Python 3",
   "language": "python",
   "name": "python3"
  },
  "language_info": {
   "codemirror_mode": {
    "name": "ipython",
    "version": 3
   },
   "file_extension": ".py",
   "mimetype": "text/x-python",
   "name": "python",
   "nbconvert_exporter": "python",
   "pygments_lexer": "ipython3",
   "version": "3.7.12"
  }
 },
 "nbformat": 4,
 "nbformat_minor": 5
}
