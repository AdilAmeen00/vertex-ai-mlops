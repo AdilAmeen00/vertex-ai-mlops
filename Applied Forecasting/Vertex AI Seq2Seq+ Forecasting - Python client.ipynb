{
 "cells": [
  {
   "cell_type": "markdown",
   "id": "5031d3bd-e471-443d-b6b6-83a3c9f98a8e",
   "metadata": {},
   "source": [
    "![ga4](https://www.google-analytics.com/collect?v=2&tid=G-6VDTYWLKX6&cid=1&en=page_view&sid=1&dl=statmike%2Fvertex-ai-mlops%2FApplied+Forecasting&dt=Vertex+AI+Seq2Seq%2B+Forecasting+-+Python+client.ipynb)\n",
    "\n",
    "# Vertex AI Seq2Seq+ Forecasting - Python client\n",
    "\n",
    "\n",
    "---\n",
    "\n",
    "**Series Overview**\n",
    "\n",
    "[This series](./readme.md) explores forecasting with Vertex AI, BigQuery ML, and additional open source frameworks.  Forecasting consist of following a measurement over time and exploring trends, the impact of seasonality (years, months, days, etc), holidays, and special events with the hope of using these insights to forecast into the near future.  Some method also incoporate observable measurements that impact demand to understand the relationships and make forecasting more accurate.\n",
    "\n",
    "**Data Source: Citibike rentals in New York City**\n",
    "\n",
    "This series uses Citibike rentals in New York city.  The bike stations near central park will be selected and the daily number bike trips that orignate from these stations will be followed over time.  This will illustrate some common forecasting issues due to new stations being introduced over time and some stations only have the most recent few months, or just weeks of data.  The data are found in the BigQuery Public datasets at:: \n",
    "- `bigquery-public-data.new_york.citibike_trips`\n",
    "- `bigquery-public-data.new_york.citibike_stations`\n",
    "\n",
    "**Vertex AI Overview**\n",
    "\n",
    "---\n",
    "\n",
    "**Prerequisites:**\n",
    "- [BigQuery Time Series Forecasting Data Review and Preparation](./BigQuery%20Time%20Series%20Forecasting%20Data%20Review%20and%20Preparation.ipynb)\n",
    "    - prepare data for this notebook\n",
    "\n",
    "**Resources:**"
   ]
  },
  {
   "cell_type": "markdown",
   "id": "1b68c4c8-1108-463d-9252-064357fbebf9",
   "metadata": {},
   "source": [
    "---\n",
    "## Colab Setup\n",
    "\n",
    "To run this notebook in Colab click [![Open In Colab](https://colab.research.google.com/assets/colab-badge.svg)](https://colab.research.google.com/github/statmike/vertex-ai-mlops/blob/main/Applied%20Forecasting/Vertex%20AI%20Seq2Seq+%20Forecasting%20-%20Python%20client.ipynb) and run the cells in this section.  Otherwise, skip this section.\n",
    "\n",
    "This cell will authenticate to GCP (follow prompts in the popup)."
   ]
  },
  {
   "cell_type": "code",
   "execution_count": 1,
   "id": "3cd9d8c2-7b47-4d1f-b3f2-0b9e18c4661c",
   "metadata": {},
   "outputs": [],
   "source": [
    "PROJECT_ID = 'statmike-mlops-349915' # replace with project ID"
   ]
  },
  {
   "cell_type": "code",
   "execution_count": 473,
   "id": "f0da2315-f547-4fe3-a2eb-c918b50ed772",
   "metadata": {},
   "outputs": [],
   "source": [
    "try:\n",
    "    import google.colab\n",
    "    from google.colab import auth\n",
    "    auth.authenticate_user()\n",
    "    !gcloud config set project {PROJECT_ID}\n",
    "except Exception:\n",
    "    pass"
   ]
  },
  {
   "cell_type": "code",
   "execution_count": null,
   "id": "caf236ab-fb99-46cc-8b80-9f6478297ee8",
   "metadata": {},
   "outputs": [],
   "source": []
  }
 ],
 "metadata": {
  "environment": {
   "kernel": "python3",
   "name": "tf2-gpu.2-11.m104",
   "type": "gcloud",
   "uri": "gcr.io/deeplearning-platform-release/tf2-gpu.2-11:m104"
  },
  "kernelspec": {
   "display_name": "Python 3 (ipykernel)",
   "language": "python",
   "name": "python3"
  },
  "language_info": {
   "codemirror_mode": {
    "name": "ipython",
    "version": 3
   },
   "file_extension": ".py",
   "mimetype": "text/x-python",
   "name": "python",
   "nbconvert_exporter": "python",
   "pygments_lexer": "ipython3",
   "version": "3.7.12"
  }
 },
 "nbformat": 4,
 "nbformat_minor": 5
}
