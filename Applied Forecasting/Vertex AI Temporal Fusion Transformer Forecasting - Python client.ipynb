{
 "cells": [
  {
   "cell_type": "markdown",
   "id": "57a9e80b-190d-45e6-acea-25dfeec88485",
   "metadata": {},
   "source": [
    "# Vertex AI Temporal Fusion Transformer Forecasting - Python client"
   ]
  },
  {
   "cell_type": "code",
   "execution_count": null,
   "id": "3bec9b4a-506e-4d01-a040-72a5fd03a37b",
   "metadata": {},
   "outputs": [],
   "source": []
  }
 ],
 "metadata": {
  "environment": {
   "kernel": "",
   "name": "tf2-gpu.2-11.m104",
   "type": "gcloud",
   "uri": "gcr.io/deeplearning-platform-release/tf2-gpu.2-11:m104"
  },
  "kernelspec": {
   "display_name": "",
   "name": ""
  },
  "language_info": {
   "name": ""
  }
 },
 "nbformat": 4,
 "nbformat_minor": 5
}
