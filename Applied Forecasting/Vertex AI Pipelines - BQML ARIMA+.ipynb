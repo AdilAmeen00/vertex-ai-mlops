{
 "cells": [
  {
   "cell_type": "markdown",
   "id": "20fd4153-3520-4fdb-8f99-e4bc799a2e57",
   "metadata": {},
   "source": [
    "# Vertex AI Pipelines - BQML ARIMA+"
   ]
  },
  {
   "cell_type": "code",
   "execution_count": null,
   "id": "1df90176-c97c-4bd7-8d7e-c85823fbda6c",
   "metadata": {},
   "outputs": [],
   "source": []
  }
 ],
 "metadata": {
  "environment": {
   "kernel": "",
   "name": "tf2-gpu.2-11.m104",
   "type": "gcloud",
   "uri": "gcr.io/deeplearning-platform-release/tf2-gpu.2-11:m104"
  },
  "kernelspec": {
   "display_name": "",
   "name": ""
  },
  "language_info": {
   "name": ""
  }
 },
 "nbformat": 4,
 "nbformat_minor": 5
}
