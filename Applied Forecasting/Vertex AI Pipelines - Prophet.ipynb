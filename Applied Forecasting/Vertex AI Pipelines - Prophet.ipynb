{
 "cells": [
  {
   "cell_type": "markdown",
   "id": "93d445b2-98da-49dc-bb2d-315e136b4bb7",
   "metadata": {},
   "source": [
    "# Vertex AI Pipelines - Prophet"
   ]
  },
  {
   "cell_type": "code",
   "execution_count": null,
   "id": "20d52136-0dd1-4e94-a454-727a78d5718f",
   "metadata": {},
   "outputs": [],
   "source": []
  }
 ],
 "metadata": {
  "environment": {
   "kernel": "",
   "name": "tf2-gpu.2-11.m104",
   "type": "gcloud",
   "uri": "gcr.io/deeplearning-platform-release/tf2-gpu.2-11:m104"
  },
  "kernelspec": {
   "display_name": "",
   "name": ""
  },
  "language_info": {
   "name": ""
  }
 },
 "nbformat": 4,
 "nbformat_minor": 5
}
