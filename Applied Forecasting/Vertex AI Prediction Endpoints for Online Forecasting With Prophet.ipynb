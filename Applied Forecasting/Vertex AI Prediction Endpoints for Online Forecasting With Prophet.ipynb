{
 "cells": [
  {
   "cell_type": "markdown",
   "id": "5b9392db-5e06-4c5a-a330-201c8b1bb230",
   "metadata": {},
   "source": [
    "![ga4](https://www.google-analytics.com/collect?v=2&tid=G-6VDTYWLKX6&cid=1&en=page_view&sid=1&dl=statmike%2Fvertex-ai-mlops%2FApplied+Forecasting&dt=Vertex+AI+Prediction+Endpoints+for+Online+Forecasting+With+Prophet.ipynb)\n",
    "\n",
    "# Vertex AI Prediction Endpoints for Online Forecasting With Prophet\n",
    "\n",
    "Sometimes forecasting needs to be done in the moment to support applications like anomaly detection.  These are near real-time requirements where a given recent time-series can be used to train a forecast model that is used to predict the near-future.  The predictions can be used as expected range of behavior for a process that is monitored and then flagged if it deviates from the expectaiton.  \n",
    "\n",
    "Most forecasting techniques are done in batch.  For this application an online training and serving applicaiton need to be built.  \n",
    "\n",
    "The workflow:\n",
    "- Build Forecasting Code with Prophet\n",
    "- Build A Custom Prediction Routine that run the forecasting code\n",
    "- Deploy the Custom Prediction Routine to a Vertex AI Online Endpoint\n",
    "- Get Forecast on-demand\n"
   ]
  },
  {
   "cell_type": "markdown",
   "id": "3babe6ed-8a1d-4056-9bd1-00bd2e993891",
   "metadata": {
    "id": "od_UkDpvRmgD",
    "tags": []
   },
   "source": [
    "---\n",
    "## Colab Setup\n",
    "\n",
    "To run this notebook in Colab click [![Open In Colab](https://colab.research.google.com/assets/colab-badge.svg)](https://colab.research.google.com/github/statmike/vertex-ai-mlops/blob/main/Applied%20Forecasting/Vertex%20AI%20Prediction%20Endpoints%20for%20Online%20Forecasting%20With%20Prophet.ipynb) and run the cells in this section.  Otherwise, skip this section.\n",
    "\n",
    "This cell will authenticate to GCP (follow prompts in the popup)."
   ]
  },
  {
   "cell_type": "code",
   "execution_count": 1,
   "id": "6c96aa8f-b41b-4ee0-933b-b868a8fbfb15",
   "metadata": {
    "executionInfo": {
     "elapsed": 195,
     "status": "ok",
     "timestamp": 1683726184843,
     "user": {
      "displayName": "Mike Henderson",
      "userId": "07691629187611687318"
     },
     "user_tz": 240
    },
    "id": "8UO9FnqyKBlF"
   },
   "outputs": [],
   "source": [
    "PROJECT_ID = 'statmike-mlops-349915' # replace with project ID"
   ]
  },
  {
   "cell_type": "code",
   "execution_count": 2,
   "id": "c7f52db0-99b5-4cd3-acb3-984a43cbf482",
   "metadata": {
    "colab": {
     "base_uri": "https://localhost:8080/"
    },
    "executionInfo": {
     "elapsed": 68869,
     "status": "ok",
     "timestamp": 1683726253709,
     "user": {
      "displayName": "Mike Henderson",
      "userId": "07691629187611687318"
     },
     "user_tz": 240
    },
    "id": "N98-KK7LRkjm",
    "outputId": "09ec5008-0def-4e1a-c349-c598ee752f78"
   },
   "outputs": [],
   "source": [
    "try:\n",
    "    import google.colab\n",
    "    from google.colab import auth\n",
    "    auth.authenticate_user()\n",
    "    !gcloud config set project {PROJECT_ID}\n",
    "except Exception:\n",
    "    pass"
   ]
  },
  {
   "cell_type": "markdown",
   "id": "f7ef8975-89a4-4ac1-8a92-3b048f9a3ca7",
   "metadata": {},
   "source": [
    "---\n",
    "## Installs and API Enablement\n",
    "\n",
    "The clients packages may need installing in this environment.  Also, the APIs for Cloud Speech-To-Text and Cloud Text-To-Speech need to be enabled (if not already enabled)."
   ]
  },
  {
   "cell_type": "markdown",
   "id": "6b75e4c9-6dbe-4ff2-83be-c67b9afbd4eb",
   "metadata": {},
   "source": [
    "### Installs (If Needed)\n",
    "The list `packages` contains tuples of package import names and install names.  If the import name is not found then the install name is used to install quitely for the current user."
   ]
  },
  {
   "cell_type": "code",
   "execution_count": 65,
   "id": "8913a7c1-2c90-49c4-afa7-5141fcdbdec3",
   "metadata": {},
   "outputs": [],
   "source": [
    "packages = [\n",
    "    ('stan', 'pystan'),\n",
    "    ('prophet', 'prophet'),\n",
    "    ('bigframes', 'bigframes'),\n",
    "    ('google.cloud.aiplatform', 'google-cloud-aiplatform')\n",
    "]\n",
    "\n",
    "import importlib\n",
    "install = False\n",
    "for package in packages:\n",
    "    if not importlib.util.find_spec(package[0]):\n",
    "        print(f'installing package {package[1]}')\n",
    "        install = True\n",
    "        !pip install {package[1]} -U -q --user"
   ]
  },
  {
   "cell_type": "markdown",
   "id": "e5fc3d2f-b7c2-4b8f-9982-2a9970775a2c",
   "metadata": {},
   "source": [
    "### API Enablement"
   ]
  },
  {
   "cell_type": "code",
   "execution_count": null,
   "id": "9b668a8b-465e-4705-bc38-f06299c94603",
   "metadata": {},
   "outputs": [],
   "source": []
  },
  {
   "cell_type": "markdown",
   "id": "f8546b28-dfab-42a0-ba3b-54cf30dde538",
   "metadata": {},
   "source": [
    "### Restart Kernel (If Installs Occured)\n",
    "\n",
    "After a kernel restart the code submission can start with the next cell after this one."
   ]
  },
  {
   "cell_type": "code",
   "execution_count": 54,
   "id": "77978c58-fa01-4e1c-aba3-2c7758c59b50",
   "metadata": {},
   "outputs": [],
   "source": [
    "if install:\n",
    "    import IPython\n",
    "    app = IPython.Application.instance()\n",
    "    app.kernel.do_shutdown(True)"
   ]
  },
  {
   "cell_type": "markdown",
   "id": "5bac3055-3df4-4fb6-8302-c0d5b261d1f2",
   "metadata": {},
   "source": [
    "---\n",
    "## Setup"
   ]
  },
  {
   "cell_type": "code",
   "execution_count": 1,
   "id": "bba52fd5-cd01-42ea-9b64-facb2a58c978",
   "metadata": {},
   "outputs": [
    {
     "data": {
      "text/plain": [
       "'statmike-mlops-349915'"
      ]
     },
     "execution_count": 1,
     "metadata": {},
     "output_type": "execute_result"
    }
   ],
   "source": [
    "project = !gcloud config get-value project\n",
    "PROJECT_ID = project[0]\n",
    "PROJECT_ID"
   ]
  },
  {
   "cell_type": "code",
   "execution_count": 2,
   "id": "22b2f913-49f6-4c99-b869-4b95e94aa6ec",
   "metadata": {},
   "outputs": [],
   "source": [
    "REGION = 'us-central1'\n",
    "EXPERIMENT = 'online-prophet'\n",
    "SERIES = 'applied-forecasting'"
   ]
  },
  {
   "cell_type": "code",
   "execution_count": 6,
   "id": "ac56db85-88d6-424d-8964-6334c2810bb7",
   "metadata": {},
   "outputs": [],
   "source": [
    "BQ_REGION = REGION[0:2]\n",
    "\n",
    "BQ_PROJECT = PROJECT_ID\n",
    "BQ_DATASET = SERIES.replace('-','_')\n",
    "BQ_TABLE = 'forecasting-data_prepped'"
   ]
  },
  {
   "cell_type": "code",
   "execution_count": 8,
   "id": "50e10085-f354-4239-b0d5-2921610e9072",
   "metadata": {},
   "outputs": [],
   "source": [
    "from google.cloud import aiplatform\n",
    "from prophet import Prophet\n",
    "import bigframes.pandas as bf"
   ]
  },
  {
   "cell_type": "code",
   "execution_count": 9,
   "id": "d6f03bfc-ffbb-4379-92b5-973f6328d7a4",
   "metadata": {},
   "outputs": [],
   "source": [
    "aiplatform.init(project = PROJECT_ID, location = REGION)\n",
    "bf.options.bigquery.project = BQ_PROJECT\n",
    "bf.options.bigquery.location = BQ_REGION"
   ]
  },
  {
   "cell_type": "code",
   "execution_count": 70,
   "id": "7c71b9aa-f988-4813-a77b-858e811b9261",
   "metadata": {},
   "outputs": [],
   "source": [
    "# already create Artifact Registry Repository:\n",
    "REPOSITORY = f\"{REGION}-docker.pkg.dev/{PROJECT_ID}/{PROJECT_ID}\""
   ]
  },
  {
   "cell_type": "code",
   "execution_count": 66,
   "id": "f061659a-f0ca-4a4a-bd57-39618df863c7",
   "metadata": {},
   "outputs": [
    {
     "data": {
      "text/plain": [
       "'1026793852137-compute@developer.gserviceaccount.com'"
      ]
     },
     "execution_count": 66,
     "metadata": {},
     "output_type": "execute_result"
    }
   ],
   "source": [
    "SERVICE_ACCOUNT = !gcloud config list --format='value(core.account)' \n",
    "SERVICE_ACCOUNT = SERVICE_ACCOUNT[0]\n",
    "SERVICE_ACCOUNT"
   ]
  },
  {
   "cell_type": "code",
   "execution_count": 67,
   "id": "820c6259-3cb1-4933-8498-b8a92445759a",
   "metadata": {},
   "outputs": [],
   "source": [
    "DIR = f'temp/{EXPERIMENT}'\n",
    "!rm -rf {DIR}\n",
    "!mkdir -p {DIR}"
   ]
  },
  {
   "cell_type": "markdown",
   "id": "cfc1bcdb-2780-4833-bd1b-f50c7c2d1ff7",
   "metadata": {},
   "source": [
    "---\n",
    "## Time Series Data\n",
    "\n",
    "Use the [BigFrames API](https://cloud.google.com/python/docs/reference/bigframes/latest) to work directly with the prepared time series data from BigQuery:\n"
   ]
  },
  {
   "cell_type": "markdown",
   "id": "f1c09a15-f03c-40a6-a2f6-106e4b2468b3",
   "metadata": {},
   "source": [
    "Link to data as dataframe:"
   ]
  },
  {
   "cell_type": "code",
   "execution_count": 17,
   "id": "3563eeea-d150-473f-90e6-e1f452967093",
   "metadata": {},
   "outputs": [
    {
     "data": {
      "application/vnd.jupyter.widget-view+json": {
       "model_id": "f6d740849dab4276bb9ae0db0fa63bc7",
       "version_major": 2,
       "version_minor": 0
      },
      "text/plain": [
       "HTML(value='Query job 1efcc378-3890-44b0-84de-ff4c18edb3c3 is RUNNING. <a target=\"_blank\" href=\"https://consol…"
      ]
     },
     "metadata": {},
     "output_type": "display_data"
    }
   ],
   "source": [
    "df = bf.read_gbq(f\"{BQ_PROJECT}.{BQ_DATASET}.{BQ_TABLE}\")"
   ]
  },
  {
   "cell_type": "markdown",
   "id": "97b9a267-ae06-4e31-ad53-d40e51b38973",
   "metadata": {},
   "source": [
    "Use Pandas methods to evaluate the dataframe:"
   ]
  },
  {
   "cell_type": "code",
   "execution_count": 18,
   "id": "8fac2228-dbe1-47ab-a84d-89830dba2488",
   "metadata": {},
   "outputs": [
    {
     "data": {
      "application/vnd.jupyter.widget-view+json": {
       "model_id": "b963a4ad712143ffbc601ee8a28b1db2",
       "version_major": 2,
       "version_minor": 0
      },
      "text/plain": [
       "HTML(value='Query job c6598780-0dd4-41e3-9e27-e7bf3f8045d0 is DONE. 0 Bytes processed. <a target=\"_blank\" href…"
      ]
     },
     "metadata": {},
     "output_type": "display_data"
    },
    {
     "data": {
      "text/plain": [
       "(4382, 8)"
      ]
     },
     "execution_count": 18,
     "metadata": {},
     "output_type": "execute_result"
    }
   ],
   "source": [
    "df.shape"
   ]
  },
  {
   "cell_type": "code",
   "execution_count": 19,
   "id": "5ed734a2-24c5-4d06-bc34-d1139fabc7e6",
   "metadata": {},
   "outputs": [
    {
     "data": {
      "text/plain": [
       "start_station_name         string[pyarrow]\n",
       "starttime             date32[day][pyarrow]\n",
       "num_trips                            Int64\n",
       "avg_tripduration                   Float64\n",
       "pct_subscriber                     Float64\n",
       "ratio_gender                       Float64\n",
       "capacity                             Int64\n",
       "splits                     string[pyarrow]\n",
       "dtype: object"
      ]
     },
     "execution_count": 19,
     "metadata": {},
     "output_type": "execute_result"
    }
   ],
   "source": [
    "df.dtypes"
   ]
  },
  {
   "cell_type": "markdown",
   "id": "fd600060-4626-4536-ad62-9ff84dcf9102",
   "metadata": {},
   "source": [
    "Get a list of unique station names:"
   ]
  },
  {
   "cell_type": "code",
   "execution_count": 20,
   "id": "4db5647f-70d7-483d-93c6-53987210fa79",
   "metadata": {},
   "outputs": [
    {
     "data": {
      "application/vnd.jupyter.widget-view+json": {
       "model_id": "2be8a6d7784b47fda2459d2a591f9b3d",
       "version_major": 2,
       "version_minor": 0
      },
      "text/plain": [
       "HTML(value='Query job 50455405-b7d0-4189-8c57-60f4fd2292fe is DONE. 163.8 kB processed. <a target=\"_blank\" hre…"
      ]
     },
     "metadata": {},
     "output_type": "display_data"
    },
    {
     "data": {
      "text/plain": [
       "['Central Park S & 6 Ave',\n",
       " 'Central Park West & W 72 St',\n",
       " 'Grand Army Plaza & Central Park S',\n",
       " 'W 82 St & Central Park West',\n",
       " 'Central Park West & W 100 St',\n",
       " 'Central Park West & W 85 St',\n",
       " 'Central Park North & Adam Clayton Powell Blvd',\n",
       " 'Central Park West & W 76 St',\n",
       " 'Central Park West & W 68 St',\n",
       " 'Central Park West & W 102 St',\n",
       " 'Central Park W & W 96 St',\n",
       " 'W 106 St & Central Park West']"
      ]
     },
     "execution_count": 20,
     "metadata": {},
     "output_type": "execute_result"
    }
   ],
   "source": [
    "stations = df['start_station_name'].unique().tolist()\n",
    "stations"
   ]
  },
  {
   "cell_type": "markdown",
   "id": "70cd5222-139e-4a4f-ac71-198991c307fb",
   "metadata": {},
   "source": [
    "Review a single time series:"
   ]
  },
  {
   "cell_type": "code",
   "execution_count": 23,
   "id": "2c0d9ce5-3ed3-40ae-8fc4-527fb54e7860",
   "metadata": {},
   "outputs": [
    {
     "data": {
      "application/vnd.jupyter.widget-view+json": {
       "model_id": "dcf07a184866462d9c65175b10eb6c16",
       "version_major": 2,
       "version_minor": 0
      },
      "text/plain": [
       "HTML(value='Query job f8246c7c-623d-45dc-82f8-35e56efaeeee is DONE. 128.8 kB processed. <a target=\"_blank\" hre…"
      ]
     },
     "metadata": {},
     "output_type": "display_data"
    },
    {
     "data": {
      "application/vnd.jupyter.widget-view+json": {
       "model_id": "5a14b94b570340b49c4373eeca49ab0c",
       "version_major": 2,
       "version_minor": 0
      },
      "text/plain": [
       "HTML(value='Query job b0104ea4-5841-4eb8-b0d7-a3389aef0d7d is DONE. 403.5 kB processed. <a target=\"_blank\" hre…"
      ]
     },
     "metadata": {},
     "output_type": "display_data"
    },
    {
     "data": {
      "application/vnd.jupyter.widget-view+json": {
       "model_id": "30ba3d9969774637ba78a6437a986d59",
       "version_major": 2,
       "version_minor": 0
      },
      "text/plain": [
       "HTML(value='Query job be6691d1-676d-4ec6-b30b-1772661e6d23 is DONE. 0 Bytes processed. <a target=\"_blank\" href…"
      ]
     },
     "metadata": {},
     "output_type": "display_data"
    },
    {
     "data": {
      "text/html": [
       "<div>\n",
       "<style scoped>\n",
       "    .dataframe tbody tr th:only-of-type {\n",
       "        vertical-align: middle;\n",
       "    }\n",
       "\n",
       "    .dataframe tbody tr th {\n",
       "        vertical-align: top;\n",
       "    }\n",
       "\n",
       "    .dataframe thead th {\n",
       "        text-align: right;\n",
       "    }\n",
       "</style>\n",
       "<table border=\"1\" class=\"dataframe\">\n",
       "  <thead>\n",
       "    <tr style=\"text-align: right;\">\n",
       "      <th></th>\n",
       "      <th>start_station_name</th>\n",
       "      <th>starttime</th>\n",
       "      <th>num_trips</th>\n",
       "      <th>avg_tripduration</th>\n",
       "      <th>pct_subscriber</th>\n",
       "      <th>ratio_gender</th>\n",
       "      <th>capacity</th>\n",
       "      <th>splits</th>\n",
       "    </tr>\n",
       "  </thead>\n",
       "  <tbody>\n",
       "    <tr>\n",
       "      <th>1730</th>\n",
       "      <td>Central Park S &amp; 6 Ave</td>\n",
       "      <td>2013-07-01</td>\n",
       "      <td>69</td>\n",
       "      <td>1532.144928</td>\n",
       "      <td>0.652174</td>\n",
       "      <td>1.464286</td>\n",
       "      <td>73</td>\n",
       "      <td>TRAIN</td>\n",
       "    </tr>\n",
       "    <tr>\n",
       "      <th>3685</th>\n",
       "      <td>Central Park S &amp; 6 Ave</td>\n",
       "      <td>2013-07-02</td>\n",
       "      <td>180</td>\n",
       "      <td>1817.505556</td>\n",
       "      <td>0.327778</td>\n",
       "      <td>0.363636</td>\n",
       "      <td>73</td>\n",
       "      <td>TRAIN</td>\n",
       "    </tr>\n",
       "    <tr>\n",
       "      <th>2626</th>\n",
       "      <td>Central Park S &amp; 6 Ave</td>\n",
       "      <td>2013-07-03</td>\n",
       "      <td>115</td>\n",
       "      <td>1615.504348</td>\n",
       "      <td>0.4</td>\n",
       "      <td>0.455696</td>\n",
       "      <td>73</td>\n",
       "      <td>TRAIN</td>\n",
       "    </tr>\n",
       "    <tr>\n",
       "      <th>3614</th>\n",
       "      <td>Central Park S &amp; 6 Ave</td>\n",
       "      <td>2013-07-04</td>\n",
       "      <td>175</td>\n",
       "      <td>2225.331429</td>\n",
       "      <td>0.297143</td>\n",
       "      <td>0.241135</td>\n",
       "      <td>73</td>\n",
       "      <td>TRAIN</td>\n",
       "    </tr>\n",
       "    <tr>\n",
       "      <th>3881</th>\n",
       "      <td>Central Park S &amp; 6 Ave</td>\n",
       "      <td>2013-07-05</td>\n",
       "      <td>195</td>\n",
       "      <td>2213.061538</td>\n",
       "      <td>0.215385</td>\n",
       "      <td>0.203704</td>\n",
       "      <td>73</td>\n",
       "      <td>TRAIN</td>\n",
       "    </tr>\n",
       "    <tr>\n",
       "      <th>4158</th>\n",
       "      <td>Central Park S &amp; 6 Ave</td>\n",
       "      <td>2013-07-06</td>\n",
       "      <td>222</td>\n",
       "      <td>1812.40991</td>\n",
       "      <td>0.18018</td>\n",
       "      <td>0.168421</td>\n",
       "      <td>73</td>\n",
       "      <td>TRAIN</td>\n",
       "    </tr>\n",
       "    <tr>\n",
       "      <th>207</th>\n",
       "      <td>Central Park S &amp; 6 Ave</td>\n",
       "      <td>2013-07-07</td>\n",
       "      <td>266</td>\n",
       "      <td>1942.007519</td>\n",
       "      <td>0.214286</td>\n",
       "      <td>0.1875</td>\n",
       "      <td>73</td>\n",
       "      <td>TRAIN</td>\n",
       "    </tr>\n",
       "    <tr>\n",
       "      <th>3113</th>\n",
       "      <td>Central Park S &amp; 6 Ave</td>\n",
       "      <td>2013-07-08</td>\n",
       "      <td>143</td>\n",
       "      <td>2368.783217</td>\n",
       "      <td>0.328671</td>\n",
       "      <td>0.361905</td>\n",
       "      <td>73</td>\n",
       "      <td>TRAIN</td>\n",
       "    </tr>\n",
       "    <tr>\n",
       "      <th>3193</th>\n",
       "      <td>Central Park S &amp; 6 Ave</td>\n",
       "      <td>2013-07-09</td>\n",
       "      <td>148</td>\n",
       "      <td>1942.959459</td>\n",
       "      <td>0.554054</td>\n",
       "      <td>0.741176</td>\n",
       "      <td>73</td>\n",
       "      <td>TRAIN</td>\n",
       "    </tr>\n",
       "    <tr>\n",
       "      <th>3095</th>\n",
       "      <td>Central Park S &amp; 6 Ave</td>\n",
       "      <td>2013-07-10</td>\n",
       "      <td>142</td>\n",
       "      <td>1868.626761</td>\n",
       "      <td>0.514085</td>\n",
       "      <td>0.690476</td>\n",
       "      <td>73</td>\n",
       "      <td>TRAIN</td>\n",
       "    </tr>\n",
       "    <tr>\n",
       "      <th>2773</th>\n",
       "      <td>Central Park S &amp; 6 Ave</td>\n",
       "      <td>2013-07-11</td>\n",
       "      <td>123</td>\n",
       "      <td>1606.528455</td>\n",
       "      <td>0.512195</td>\n",
       "      <td>0.782609</td>\n",
       "      <td>73</td>\n",
       "      <td>TRAIN</td>\n",
       "    </tr>\n",
       "    <tr>\n",
       "      <th>1906</th>\n",
       "      <td>Central Park S &amp; 6 Ave</td>\n",
       "      <td>2013-07-12</td>\n",
       "      <td>76</td>\n",
       "      <td>1818.276316</td>\n",
       "      <td>0.486842</td>\n",
       "      <td>0.652174</td>\n",
       "      <td>73</td>\n",
       "      <td>TRAIN</td>\n",
       "    </tr>\n",
       "    <tr>\n",
       "      <th>620</th>\n",
       "      <td>Central Park S &amp; 6 Ave</td>\n",
       "      <td>2013-07-13</td>\n",
       "      <td>281</td>\n",
       "      <td>2145.434164</td>\n",
       "      <td>0.263345</td>\n",
       "      <td>0.237885</td>\n",
       "      <td>73</td>\n",
       "      <td>TRAIN</td>\n",
       "    </tr>\n",
       "    <tr>\n",
       "      <th>2142</th>\n",
       "      <td>Central Park S &amp; 6 Ave</td>\n",
       "      <td>2013-07-14</td>\n",
       "      <td>343</td>\n",
       "      <td>2488.282799</td>\n",
       "      <td>0.335277</td>\n",
       "      <td>0.324324</td>\n",
       "      <td>73</td>\n",
       "      <td>TRAIN</td>\n",
       "    </tr>\n",
       "    <tr>\n",
       "      <th>3435</th>\n",
       "      <td>Central Park S &amp; 6 Ave</td>\n",
       "      <td>2013-07-15</td>\n",
       "      <td>163</td>\n",
       "      <td>1709.668712</td>\n",
       "      <td>0.435583</td>\n",
       "      <td>0.598039</td>\n",
       "      <td>73</td>\n",
       "      <td>TRAIN</td>\n",
       "    </tr>\n",
       "    <tr>\n",
       "      <th>3116</th>\n",
       "      <td>Central Park S &amp; 6 Ave</td>\n",
       "      <td>2013-07-16</td>\n",
       "      <td>143</td>\n",
       "      <td>1685.125874</td>\n",
       "      <td>0.615385</td>\n",
       "      <td>0.906667</td>\n",
       "      <td>73</td>\n",
       "      <td>TRAIN</td>\n",
       "    </tr>\n",
       "    <tr>\n",
       "      <th>2160</th>\n",
       "      <td>Central Park S &amp; 6 Ave</td>\n",
       "      <td>2013-07-17</td>\n",
       "      <td>89</td>\n",
       "      <td>1404.539326</td>\n",
       "      <td>0.797753</td>\n",
       "      <td>1.966667</td>\n",
       "      <td>73</td>\n",
       "      <td>TRAIN</td>\n",
       "    </tr>\n",
       "    <tr>\n",
       "      <th>2643</th>\n",
       "      <td>Central Park S &amp; 6 Ave</td>\n",
       "      <td>2013-07-18</td>\n",
       "      <td>116</td>\n",
       "      <td>1428.12931</td>\n",
       "      <td>0.818966</td>\n",
       "      <td>1.761905</td>\n",
       "      <td>73</td>\n",
       "      <td>TRAIN</td>\n",
       "    </tr>\n",
       "    <tr>\n",
       "      <th>2927</th>\n",
       "      <td>Central Park S &amp; 6 Ave</td>\n",
       "      <td>2013-07-19</td>\n",
       "      <td>132</td>\n",
       "      <td>1651.30303</td>\n",
       "      <td>0.44697</td>\n",
       "      <td>0.62963</td>\n",
       "      <td>73</td>\n",
       "      <td>TRAIN</td>\n",
       "    </tr>\n",
       "    <tr>\n",
       "      <th>4081</th>\n",
       "      <td>Central Park S &amp; 6 Ave</td>\n",
       "      <td>2013-07-20</td>\n",
       "      <td>214</td>\n",
       "      <td>1980.995327</td>\n",
       "      <td>0.303738</td>\n",
       "      <td>0.329193</td>\n",
       "      <td>73</td>\n",
       "      <td>TRAIN</td>\n",
       "    </tr>\n",
       "    <tr>\n",
       "      <th>2771</th>\n",
       "      <td>Central Park S &amp; 6 Ave</td>\n",
       "      <td>2013-07-21</td>\n",
       "      <td>378</td>\n",
       "      <td>1998.018519</td>\n",
       "      <td>0.261905</td>\n",
       "      <td>0.239344</td>\n",
       "      <td>73</td>\n",
       "      <td>TRAIN</td>\n",
       "    </tr>\n",
       "    <tr>\n",
       "      <th>3365</th>\n",
       "      <td>Central Park S &amp; 6 Ave</td>\n",
       "      <td>2013-07-22</td>\n",
       "      <td>159</td>\n",
       "      <td>1707.930818</td>\n",
       "      <td>0.465409</td>\n",
       "      <td>0.622449</td>\n",
       "      <td>73</td>\n",
       "      <td>TRAIN</td>\n",
       "    </tr>\n",
       "    <tr>\n",
       "      <th>3346</th>\n",
       "      <td>Central Park S &amp; 6 Ave</td>\n",
       "      <td>2013-07-23</td>\n",
       "      <td>158</td>\n",
       "      <td>1883.291139</td>\n",
       "      <td>0.506329</td>\n",
       "      <td>0.680851</td>\n",
       "      <td>73</td>\n",
       "      <td>TRAIN</td>\n",
       "    </tr>\n",
       "    <tr>\n",
       "      <th>3852</th>\n",
       "      <td>Central Park S &amp; 6 Ave</td>\n",
       "      <td>2013-07-24</td>\n",
       "      <td>192</td>\n",
       "      <td>1697.692708</td>\n",
       "      <td>0.526042</td>\n",
       "      <td>0.627119</td>\n",
       "      <td>73</td>\n",
       "      <td>TRAIN</td>\n",
       "    </tr>\n",
       "    <tr>\n",
       "      <th>3343</th>\n",
       "      <td>Central Park S &amp; 6 Ave</td>\n",
       "      <td>2013-07-25</td>\n",
       "      <td>158</td>\n",
       "      <td>1601.316456</td>\n",
       "      <td>0.594937</td>\n",
       "      <td>0.880952</td>\n",
       "      <td>73</td>\n",
       "      <td>TRAIN</td>\n",
       "    </tr>\n",
       "  </tbody>\n",
       "</table>\n",
       "<p>25 rows × 8 columns</p>\n",
       "</div>[1177 rows x 8 columns in total]"
      ],
      "text/plain": [
       "          start_station_name  starttime  num_trips  avg_tripduration  \\\n",
       "1730  Central Park S & 6 Ave 2013-07-01         69       1532.144928   \n",
       "3685  Central Park S & 6 Ave 2013-07-02        180       1817.505556   \n",
       "2626  Central Park S & 6 Ave 2013-07-03        115       1615.504348   \n",
       "3614  Central Park S & 6 Ave 2013-07-04        175       2225.331429   \n",
       "3881  Central Park S & 6 Ave 2013-07-05        195       2213.061538   \n",
       "4158  Central Park S & 6 Ave 2013-07-06        222        1812.40991   \n",
       "207   Central Park S & 6 Ave 2013-07-07        266       1942.007519   \n",
       "3113  Central Park S & 6 Ave 2013-07-08        143       2368.783217   \n",
       "3193  Central Park S & 6 Ave 2013-07-09        148       1942.959459   \n",
       "3095  Central Park S & 6 Ave 2013-07-10        142       1868.626761   \n",
       "2773  Central Park S & 6 Ave 2013-07-11        123       1606.528455   \n",
       "1906  Central Park S & 6 Ave 2013-07-12         76       1818.276316   \n",
       "620   Central Park S & 6 Ave 2013-07-13        281       2145.434164   \n",
       "2142  Central Park S & 6 Ave 2013-07-14        343       2488.282799   \n",
       "3435  Central Park S & 6 Ave 2013-07-15        163       1709.668712   \n",
       "3116  Central Park S & 6 Ave 2013-07-16        143       1685.125874   \n",
       "2160  Central Park S & 6 Ave 2013-07-17         89       1404.539326   \n",
       "2643  Central Park S & 6 Ave 2013-07-18        116        1428.12931   \n",
       "2927  Central Park S & 6 Ave 2013-07-19        132        1651.30303   \n",
       "4081  Central Park S & 6 Ave 2013-07-20        214       1980.995327   \n",
       "2771  Central Park S & 6 Ave 2013-07-21        378       1998.018519   \n",
       "3365  Central Park S & 6 Ave 2013-07-22        159       1707.930818   \n",
       "3346  Central Park S & 6 Ave 2013-07-23        158       1883.291139   \n",
       "3852  Central Park S & 6 Ave 2013-07-24        192       1697.692708   \n",
       "3343  Central Park S & 6 Ave 2013-07-25        158       1601.316456   \n",
       "\n",
       "      pct_subscriber  ratio_gender  capacity splits  \n",
       "1730        0.652174      1.464286        73  TRAIN  \n",
       "3685        0.327778      0.363636        73  TRAIN  \n",
       "2626             0.4      0.455696        73  TRAIN  \n",
       "3614        0.297143      0.241135        73  TRAIN  \n",
       "3881        0.215385      0.203704        73  TRAIN  \n",
       "4158         0.18018      0.168421        73  TRAIN  \n",
       "207         0.214286        0.1875        73  TRAIN  \n",
       "3113        0.328671      0.361905        73  TRAIN  \n",
       "3193        0.554054      0.741176        73  TRAIN  \n",
       "3095        0.514085      0.690476        73  TRAIN  \n",
       "2773        0.512195      0.782609        73  TRAIN  \n",
       "1906        0.486842      0.652174        73  TRAIN  \n",
       "620         0.263345      0.237885        73  TRAIN  \n",
       "2142        0.335277      0.324324        73  TRAIN  \n",
       "3435        0.435583      0.598039        73  TRAIN  \n",
       "3116        0.615385      0.906667        73  TRAIN  \n",
       "2160        0.797753      1.966667        73  TRAIN  \n",
       "2643        0.818966      1.761905        73  TRAIN  \n",
       "2927         0.44697       0.62963        73  TRAIN  \n",
       "4081        0.303738      0.329193        73  TRAIN  \n",
       "2771        0.261905      0.239344        73  TRAIN  \n",
       "3365        0.465409      0.622449        73  TRAIN  \n",
       "3346        0.506329      0.680851        73  TRAIN  \n",
       "3852        0.526042      0.627119        73  TRAIN  \n",
       "3343        0.594937      0.880952        73  TRAIN  \n",
       "...\n",
       "\n",
       "[1177 rows x 8 columns]"
      ]
     },
     "execution_count": 23,
     "metadata": {},
     "output_type": "execute_result"
    }
   ],
   "source": [
    "df[df['start_station_name'] == stations[0]].sort_values(by = ['starttime'])"
   ]
  },
  {
   "cell_type": "markdown",
   "id": "c847b68f-e8ea-4319-80b8-8b8eb0b89906",
   "metadata": {},
   "source": [
    "---\n",
    "## Prepare Data For Prophet\n",
    "\n",
    "Prophet expects a dataframe for a single time series with columns `ds` for timestamp and `y` for the demand variable of the forecast. This data has multiple series, one for each station identified in the column `start_station_name`. Below is the code to create a dataframe for a given `start_station_name`."
   ]
  },
  {
   "cell_type": "code",
   "execution_count": 24,
   "id": "dd921edc-4b55-48f4-b35d-35ed6f0a4a4d",
   "metadata": {},
   "outputs": [
    {
     "data": {
      "text/plain": [
       "'Central Park S & 6 Ave'"
      ]
     },
     "execution_count": 24,
     "metadata": {},
     "output_type": "execute_result"
    }
   ],
   "source": [
    "stations[0]"
   ]
  },
  {
   "cell_type": "code",
   "execution_count": 28,
   "id": "ca3f07ba-e104-4d16-a843-65fcf4d292ae",
   "metadata": {},
   "outputs": [],
   "source": [
    "ts = df[(df['start_station_name'] == stations[0]) & (df['splits'] != 'TEST')][['starttime','num_trips']].rename(columns = {'starttime': 'ds', 'num_trips': 'y'}).sort_values(by = ['ds'])"
   ]
  },
  {
   "cell_type": "code",
   "execution_count": 35,
   "id": "1bf7fba9-74ca-4faf-800d-ca4c43b69e33",
   "metadata": {},
   "outputs": [
    {
     "data": {
      "application/vnd.jupyter.widget-view+json": {
       "model_id": "744e2ef715db49f2887949afa57ccc99",
       "version_major": 2,
       "version_minor": 0
      },
      "text/plain": [
       "HTML(value='Query job b47e259f-6d54-4853-bf79-bc0add2641cc is DONE. 0 Bytes processed. <a target=\"_blank\" href…"
      ]
     },
     "metadata": {},
     "output_type": "display_data"
    },
    {
     "data": {
      "application/vnd.jupyter.widget-view+json": {
       "model_id": "09330d0768754ae998fa1733073ecadb",
       "version_major": 2,
       "version_minor": 0
      },
      "text/plain": [
       "HTML(value='Query job 9bc22ff7-1032-445a-9355-3d5c5c977fc0 is DONE. 0 Bytes processed. <a target=\"_blank\" href…"
      ]
     },
     "metadata": {},
     "output_type": "display_data"
    },
    {
     "data": {
      "application/vnd.jupyter.widget-view+json": {
       "model_id": "5b2b3266126f4686aeaab5e9a6bc12e3",
       "version_major": 2,
       "version_minor": 0
      },
      "text/plain": [
       "HTML(value='Query job 71d59651-c221-47fd-a1ca-9e3bb2850aaf is DONE. 0 Bytes processed. <a target=\"_blank\" href…"
      ]
     },
     "metadata": {},
     "output_type": "display_data"
    },
    {
     "data": {
      "text/html": [
       "<div>\n",
       "<style scoped>\n",
       "    .dataframe tbody tr th:only-of-type {\n",
       "        vertical-align: middle;\n",
       "    }\n",
       "\n",
       "    .dataframe tbody tr th {\n",
       "        vertical-align: top;\n",
       "    }\n",
       "\n",
       "    .dataframe thead th {\n",
       "        text-align: right;\n",
       "    }\n",
       "</style>\n",
       "<table border=\"1\" class=\"dataframe\">\n",
       "  <thead>\n",
       "    <tr style=\"text-align: right;\">\n",
       "      <th></th>\n",
       "      <th>ds</th>\n",
       "      <th>y</th>\n",
       "    </tr>\n",
       "  </thead>\n",
       "  <tbody>\n",
       "    <tr>\n",
       "      <th>1730</th>\n",
       "      <td>2013-07-01</td>\n",
       "      <td>69</td>\n",
       "    </tr>\n",
       "    <tr>\n",
       "      <th>3685</th>\n",
       "      <td>2013-07-02</td>\n",
       "      <td>180</td>\n",
       "    </tr>\n",
       "    <tr>\n",
       "      <th>2626</th>\n",
       "      <td>2013-07-03</td>\n",
       "      <td>115</td>\n",
       "    </tr>\n",
       "    <tr>\n",
       "      <th>3614</th>\n",
       "      <td>2013-07-04</td>\n",
       "      <td>175</td>\n",
       "    </tr>\n",
       "    <tr>\n",
       "      <th>3881</th>\n",
       "      <td>2013-07-05</td>\n",
       "      <td>195</td>\n",
       "    </tr>\n",
       "  </tbody>\n",
       "</table>\n",
       "<p>5 rows × 2 columns</p>\n",
       "</div>[5 rows x 2 columns in total]"
      ],
      "text/plain": [
       "             ds    y\n",
       "1730 2013-07-01   69\n",
       "3685 2013-07-02  180\n",
       "2626 2013-07-03  115\n",
       "3614 2013-07-04  175\n",
       "3881 2013-07-05  195\n",
       "\n",
       "[5 rows x 2 columns]"
      ]
     },
     "execution_count": 35,
     "metadata": {},
     "output_type": "execute_result"
    }
   ],
   "source": [
    "ts.head()"
   ]
  },
  {
   "cell_type": "markdown",
   "id": "3dbe351e-87ea-4a76-ae8b-694635df3ba2",
   "metadata": {},
   "source": [
    "Move a copy of the prepared data in `ts` to a local Pandas dataframe with `to_pandas()` method."
   ]
  },
  {
   "cell_type": "code",
   "execution_count": 39,
   "id": "32316d9f-e9eb-40e4-b2f2-bd58b5525cae",
   "metadata": {},
   "outputs": [
    {
     "data": {
      "application/vnd.jupyter.widget-view+json": {
       "model_id": "ee69d6fd0bd84a0095be2f728f0fabfa",
       "version_major": 2,
       "version_minor": 0
      },
      "text/plain": [
       "HTML(value='Query job c58fc5d4-4aee-4baa-af6d-625d0daceeac is DONE. 265.0 kB processed. <a target=\"_blank\" hre…"
      ]
     },
     "metadata": {},
     "output_type": "display_data"
    }
   ],
   "source": [
    "local_ts = ts.to_pandas()"
   ]
  },
  {
   "cell_type": "code",
   "execution_count": 41,
   "id": "4c6d173e-c145-4987-8429-ecf870164117",
   "metadata": {},
   "outputs": [
    {
     "data": {
      "text/plain": [
       "(bigframes.dataframe.DataFrame, pandas.core.frame.DataFrame)"
      ]
     },
     "execution_count": 41,
     "metadata": {},
     "output_type": "execute_result"
    }
   ],
   "source": [
    "type(ts), type(local_ts)"
   ]
  },
  {
   "cell_type": "markdown",
   "id": "4f1a1689-c5da-4b43-8d1c-c5e155a92381",
   "metadata": {},
   "source": [
    "---\n",
    "## Create Forecast Model For Single Time Series - Locally (In Notebook)"
   ]
  },
  {
   "cell_type": "markdown",
   "id": "df30a89e-4137-488b-87cc-3f49c1419235",
   "metadata": {},
   "source": [
    "Fit with seasonality and holidays added:"
   ]
  },
  {
   "cell_type": "code",
   "execution_count": 42,
   "id": "6f8a4025-c5f4-4683-8976-ac6e007e94f5",
   "metadata": {},
   "outputs": [
    {
     "name": "stderr",
     "output_type": "stream",
     "text": [
      "[DEBUG][2023-09-05 20:12:44,202][cmdstanpy] input tempfile: /var/tmp/tmp9tjc8xz0/6ouiofls.json\n",
      "[DEBUG][2023-09-05 20:12:44,293][cmdstanpy] input tempfile: /var/tmp/tmp9tjc8xz0/z26qa79o.json\n",
      "[DEBUG][2023-09-05 20:12:44,322][cmdstanpy] idx 0\n",
      "[DEBUG][2023-09-05 20:12:44,322][cmdstanpy] running CmdStan, num_threads: None\n",
      "[DEBUG][2023-09-05 20:12:44,324][cmdstanpy] CmdStan args: ['/opt/conda/lib/python3.10/site-packages/prophet/stan_model/prophet_model.bin', 'random', 'seed=1265', 'data', 'file=/var/tmp/tmp9tjc8xz0/6ouiofls.json', 'init=/var/tmp/tmp9tjc8xz0/z26qa79o.json', 'output', 'file=/var/tmp/tmp9tjc8xz0/prophet_modelq869zbn5/prophet_model-20230905201244.csv', 'method=optimize', 'algorithm=lbfgs', 'iter=10000']\n",
      "20:12:44 - cmdstanpy - INFO - Chain [1] start processing\n",
      "[INFO][2023-09-05 20:12:44,325][cmdstanpy] Chain [1] start processing\n",
      "20:12:44 - cmdstanpy - INFO - Chain [1] done processing\n",
      "[INFO][2023-09-05 20:12:44,419][cmdstanpy] Chain [1] done processing\n"
     ]
    },
    {
     "data": {
      "text/plain": [
       "<prophet.forecaster.Prophet at 0x7f9532f65270>"
      ]
     },
     "execution_count": 42,
     "metadata": {},
     "output_type": "execute_result"
    }
   ],
   "source": [
    "p = Prophet(yearly_seasonality=True, weekly_seasonality=True, daily_seasonality=True)\n",
    "p.add_country_holidays(country_name='US')\n",
    "p.fit(local_ts)"
   ]
  },
  {
   "cell_type": "markdown",
   "id": "87076b01-d9c6-4632-b2de-c9f127c5ca56",
   "metadata": {},
   "source": [
    "Make dataframe for forecast by adding periods to the known date range of the training data. If you only want the forecast horizone then use the option `include_history = False`."
   ]
  },
  {
   "cell_type": "code",
   "execution_count": 45,
   "id": "f842569c-f959-4eb5-85a3-61633b511fc1",
   "metadata": {},
   "outputs": [
    {
     "data": {
      "text/html": [
       "<div>\n",
       "<style scoped>\n",
       "    .dataframe tbody tr th:only-of-type {\n",
       "        vertical-align: middle;\n",
       "    }\n",
       "\n",
       "    .dataframe tbody tr th {\n",
       "        vertical-align: top;\n",
       "    }\n",
       "\n",
       "    .dataframe thead th {\n",
       "        text-align: right;\n",
       "    }\n",
       "</style>\n",
       "<table border=\"1\" class=\"dataframe\">\n",
       "  <thead>\n",
       "    <tr style=\"text-align: right;\">\n",
       "      <th></th>\n",
       "      <th>ds</th>\n",
       "    </tr>\n",
       "  </thead>\n",
       "  <tbody>\n",
       "    <tr>\n",
       "      <th>0</th>\n",
       "      <td>2016-09-17</td>\n",
       "    </tr>\n",
       "    <tr>\n",
       "      <th>1</th>\n",
       "      <td>2016-09-18</td>\n",
       "    </tr>\n",
       "    <tr>\n",
       "      <th>2</th>\n",
       "      <td>2016-09-19</td>\n",
       "    </tr>\n",
       "    <tr>\n",
       "      <th>3</th>\n",
       "      <td>2016-09-20</td>\n",
       "    </tr>\n",
       "    <tr>\n",
       "      <th>4</th>\n",
       "      <td>2016-09-21</td>\n",
       "    </tr>\n",
       "  </tbody>\n",
       "</table>\n",
       "</div>"
      ],
      "text/plain": [
       "          ds\n",
       "0 2016-09-17\n",
       "1 2016-09-18\n",
       "2 2016-09-19\n",
       "3 2016-09-20\n",
       "4 2016-09-21"
      ]
     },
     "execution_count": 45,
     "metadata": {},
     "output_type": "execute_result"
    }
   ],
   "source": [
    "future = p.make_future_dataframe(periods = 2*14, include_history = False)\n",
    "future.head()"
   ]
  },
  {
   "cell_type": "markdown",
   "id": "e328ae0a-4acb-480c-aa9d-8fa2cd85779a",
   "metadata": {},
   "source": [
    "Generate the predictions for the forecast horizon. Since we kept the default that include the training history dates, we also get fit information for each of these dates."
   ]
  },
  {
   "cell_type": "code",
   "execution_count": 46,
   "id": "1e7363c2-aab5-4f88-8cd9-cae6a2e93ebf",
   "metadata": {},
   "outputs": [
    {
     "data": {
      "text/html": [
       "<div>\n",
       "<style scoped>\n",
       "    .dataframe tbody tr th:only-of-type {\n",
       "        vertical-align: middle;\n",
       "    }\n",
       "\n",
       "    .dataframe tbody tr th {\n",
       "        vertical-align: top;\n",
       "    }\n",
       "\n",
       "    .dataframe thead th {\n",
       "        text-align: right;\n",
       "    }\n",
       "</style>\n",
       "<table border=\"1\" class=\"dataframe\">\n",
       "  <thead>\n",
       "    <tr style=\"text-align: right;\">\n",
       "      <th></th>\n",
       "      <th>ds</th>\n",
       "      <th>trend</th>\n",
       "      <th>yhat_lower</th>\n",
       "      <th>yhat_upper</th>\n",
       "      <th>trend_lower</th>\n",
       "      <th>trend_upper</th>\n",
       "      <th>Christmas Day</th>\n",
       "      <th>Christmas Day_lower</th>\n",
       "      <th>Christmas Day_upper</th>\n",
       "      <th>Christmas Day (Observed)</th>\n",
       "      <th>...</th>\n",
       "      <th>weekly</th>\n",
       "      <th>weekly_lower</th>\n",
       "      <th>weekly_upper</th>\n",
       "      <th>yearly</th>\n",
       "      <th>yearly_lower</th>\n",
       "      <th>yearly_upper</th>\n",
       "      <th>multiplicative_terms</th>\n",
       "      <th>multiplicative_terms_lower</th>\n",
       "      <th>multiplicative_terms_upper</th>\n",
       "      <th>yhat</th>\n",
       "    </tr>\n",
       "  </thead>\n",
       "  <tbody>\n",
       "    <tr>\n",
       "      <th>0</th>\n",
       "      <td>2016-09-17</td>\n",
       "      <td>201.815061</td>\n",
       "      <td>288.913859</td>\n",
       "      <td>440.377540</td>\n",
       "      <td>201.815061</td>\n",
       "      <td>201.815061</td>\n",
       "      <td>0.0</td>\n",
       "      <td>0.0</td>\n",
       "      <td>0.0</td>\n",
       "      <td>0.0</td>\n",
       "      <td>...</td>\n",
       "      <td>51.071301</td>\n",
       "      <td>51.071301</td>\n",
       "      <td>51.071301</td>\n",
       "      <td>79.598499</td>\n",
       "      <td>79.598499</td>\n",
       "      <td>79.598499</td>\n",
       "      <td>0.0</td>\n",
       "      <td>0.0</td>\n",
       "      <td>0.0</td>\n",
       "      <td>362.321883</td>\n",
       "    </tr>\n",
       "    <tr>\n",
       "      <th>1</th>\n",
       "      <td>2016-09-18</td>\n",
       "      <td>201.983953</td>\n",
       "      <td>287.952881</td>\n",
       "      <td>439.779814</td>\n",
       "      <td>201.983953</td>\n",
       "      <td>201.983953</td>\n",
       "      <td>0.0</td>\n",
       "      <td>0.0</td>\n",
       "      <td>0.0</td>\n",
       "      <td>0.0</td>\n",
       "      <td>...</td>\n",
       "      <td>58.079214</td>\n",
       "      <td>58.079214</td>\n",
       "      <td>58.079214</td>\n",
       "      <td>75.813931</td>\n",
       "      <td>75.813931</td>\n",
       "      <td>75.813931</td>\n",
       "      <td>0.0</td>\n",
       "      <td>0.0</td>\n",
       "      <td>0.0</td>\n",
       "      <td>365.714120</td>\n",
       "    </tr>\n",
       "    <tr>\n",
       "      <th>2</th>\n",
       "      <td>2016-09-19</td>\n",
       "      <td>202.152845</td>\n",
       "      <td>212.359098</td>\n",
       "      <td>365.578894</td>\n",
       "      <td>202.152845</td>\n",
       "      <td>202.152845</td>\n",
       "      <td>0.0</td>\n",
       "      <td>0.0</td>\n",
       "      <td>0.0</td>\n",
       "      <td>0.0</td>\n",
       "      <td>...</td>\n",
       "      <td>-13.180703</td>\n",
       "      <td>-13.180703</td>\n",
       "      <td>-13.180703</td>\n",
       "      <td>71.851156</td>\n",
       "      <td>71.851156</td>\n",
       "      <td>71.851156</td>\n",
       "      <td>0.0</td>\n",
       "      <td>0.0</td>\n",
       "      <td>0.0</td>\n",
       "      <td>290.660320</td>\n",
       "    </tr>\n",
       "    <tr>\n",
       "      <th>3</th>\n",
       "      <td>2016-09-20</td>\n",
       "      <td>202.321737</td>\n",
       "      <td>197.030875</td>\n",
       "      <td>347.991780</td>\n",
       "      <td>202.321737</td>\n",
       "      <td>202.321737</td>\n",
       "      <td>0.0</td>\n",
       "      <td>0.0</td>\n",
       "      <td>0.0</td>\n",
       "      <td>0.0</td>\n",
       "      <td>...</td>\n",
       "      <td>-27.552479</td>\n",
       "      <td>-27.552479</td>\n",
       "      <td>-27.552479</td>\n",
       "      <td>67.766558</td>\n",
       "      <td>67.766558</td>\n",
       "      <td>67.766558</td>\n",
       "      <td>0.0</td>\n",
       "      <td>0.0</td>\n",
       "      <td>0.0</td>\n",
       "      <td>272.372838</td>\n",
       "    </tr>\n",
       "    <tr>\n",
       "      <th>4</th>\n",
       "      <td>2016-09-21</td>\n",
       "      <td>202.490629</td>\n",
       "      <td>195.481405</td>\n",
       "      <td>345.884583</td>\n",
       "      <td>202.490629</td>\n",
       "      <td>202.490629</td>\n",
       "      <td>0.0</td>\n",
       "      <td>0.0</td>\n",
       "      <td>0.0</td>\n",
       "      <td>0.0</td>\n",
       "      <td>...</td>\n",
       "      <td>-26.074759</td>\n",
       "      <td>-26.074759</td>\n",
       "      <td>-26.074759</td>\n",
       "      <td>63.618574</td>\n",
       "      <td>63.618574</td>\n",
       "      <td>63.618574</td>\n",
       "      <td>0.0</td>\n",
       "      <td>0.0</td>\n",
       "      <td>0.0</td>\n",
       "      <td>269.871466</td>\n",
       "    </tr>\n",
       "  </tbody>\n",
       "</table>\n",
       "<p>5 rows × 61 columns</p>\n",
       "</div>"
      ],
      "text/plain": [
       "          ds       trend  yhat_lower  yhat_upper  trend_lower  trend_upper  \\\n",
       "0 2016-09-17  201.815061  288.913859  440.377540   201.815061   201.815061   \n",
       "1 2016-09-18  201.983953  287.952881  439.779814   201.983953   201.983953   \n",
       "2 2016-09-19  202.152845  212.359098  365.578894   202.152845   202.152845   \n",
       "3 2016-09-20  202.321737  197.030875  347.991780   202.321737   202.321737   \n",
       "4 2016-09-21  202.490629  195.481405  345.884583   202.490629   202.490629   \n",
       "\n",
       "   Christmas Day  Christmas Day_lower  Christmas Day_upper  \\\n",
       "0            0.0                  0.0                  0.0   \n",
       "1            0.0                  0.0                  0.0   \n",
       "2            0.0                  0.0                  0.0   \n",
       "3            0.0                  0.0                  0.0   \n",
       "4            0.0                  0.0                  0.0   \n",
       "\n",
       "   Christmas Day (Observed)  ...     weekly  weekly_lower  weekly_upper  \\\n",
       "0                       0.0  ...  51.071301     51.071301     51.071301   \n",
       "1                       0.0  ...  58.079214     58.079214     58.079214   \n",
       "2                       0.0  ... -13.180703    -13.180703    -13.180703   \n",
       "3                       0.0  ... -27.552479    -27.552479    -27.552479   \n",
       "4                       0.0  ... -26.074759    -26.074759    -26.074759   \n",
       "\n",
       "      yearly  yearly_lower  yearly_upper  multiplicative_terms  \\\n",
       "0  79.598499     79.598499     79.598499                   0.0   \n",
       "1  75.813931     75.813931     75.813931                   0.0   \n",
       "2  71.851156     71.851156     71.851156                   0.0   \n",
       "3  67.766558     67.766558     67.766558                   0.0   \n",
       "4  63.618574     63.618574     63.618574                   0.0   \n",
       "\n",
       "   multiplicative_terms_lower  multiplicative_terms_upper        yhat  \n",
       "0                         0.0                         0.0  362.321883  \n",
       "1                         0.0                         0.0  365.714120  \n",
       "2                         0.0                         0.0  290.660320  \n",
       "3                         0.0                         0.0  272.372838  \n",
       "4                         0.0                         0.0  269.871466  \n",
       "\n",
       "[5 rows x 61 columns]"
      ]
     },
     "execution_count": 46,
     "metadata": {},
     "output_type": "execute_result"
    }
   ],
   "source": [
    "forecast = p.predict(future)\n",
    "forecast.head()"
   ]
  },
  {
   "cell_type": "markdown",
   "id": "38df8fec-4ba0-4d4c-a48f-15140b05ca0f",
   "metadata": {},
   "source": [
    "Use the built in plotting capabilites of Prophet to review the time series with forecast:"
   ]
  },
  {
   "cell_type": "code",
   "execution_count": 50,
   "id": "277030f1-e43a-413e-8d5b-b096077c7f0c",
   "metadata": {},
   "outputs": [
    {
     "data": {
      "image/png": "[encoded data removed]",
      "text/plain": [
       "<Figure size 1000x600 with 1 Axes>"
      ]
     },
     "metadata": {},
     "output_type": "display_data"
    }
   ],
   "source": [
    "p.plot(forecast);"
   ]
  },
  {
   "cell_type": "code",
   "execution_count": 51,
   "id": "cae8f357-c32f-4f89-9aa2-f9b3cb1a36f7",
   "metadata": {},
   "outputs": [
    {
     "data": {
      "image/png": "[encoded data removed]",
      "text/plain": [
       "<Figure size 900x1500 with 5 Axes>"
      ]
     },
     "metadata": {},
     "output_type": "display_data"
    }
   ],
   "source": [
    "p.plot_components(forecast);"
   ]
  },
  {
   "cell_type": "markdown",
   "id": "f4c5a68b-8f72-4728-9c1b-40eb83181721",
   "metadata": {},
   "source": [
    "Format `forecast` data as json for transport:"
   ]
  },
  {
   "cell_type": "code",
   "execution_count": 77,
   "id": "c7b4e7e3-51f1-44a0-a96c-7e07eebf264c",
   "metadata": {},
   "outputs": [
    {
     "data": {
      "text/plain": [
       "{'ds': {0: Timestamp('2016-09-17 00:00:00'),\n",
       "  1: Timestamp('2016-09-18 00:00:00')},\n",
       " 'yhat': {0: 362.32188328977406, 1: 365.71411998933894},\n",
       " 'yhat_lower': {0: 288.9138594529242, 1: 287.95288123043383},\n",
       " 'yhat_upper': {0: 440.3775396793928, 1: 439.7798138073954}}"
      ]
     },
     "execution_count": 77,
     "metadata": {},
     "output_type": "execute_result"
    }
   ],
   "source": [
    "forecast[['ds', 'yhat', 'yhat_lower', 'yhat_upper']].iloc[0:2].to_dict()"
   ]
  },
  {
   "cell_type": "markdown",
   "id": "9411137c-84d8-45e0-b192-9408220ccde6",
   "metadata": {},
   "source": [
    "---\n",
    "## Build Custom Prediction Routine\n",
    "\n",
    "[Custom Prediction Routine](https://cloud.google.com/vertex-ai/docs/predictions/custom-prediction-routines) - A custom container built by the Vertex AI SDK that assist with pre/post processing code without the need to setup an HTTP server."
   ]
  },
  {
   "cell_type": "markdown",
   "id": "2c4b8cb2-c194-45a4-a9f9-5c22f59583c6",
   "metadata": {},
   "source": [
    "Make a local folder for source code:"
   ]
  },
  {
   "cell_type": "code",
   "execution_count": 68,
   "id": "293f56b0-66db-48d9-be1c-9150820e3af4",
   "metadata": {},
   "outputs": [],
   "source": [
    "!mkdir -p {DIR}/SRC"
   ]
  },
  {
   "cell_type": "markdown",
   "id": "839b30f6-226c-42b3-92b9-e3ffa8a2afec",
   "metadata": {},
   "source": [
    "Create a `requirements.txt` file with the required Python packages:"
   ]
  },
  {
   "cell_type": "code",
   "execution_count": 69,
   "id": "ddd416cd-51ab-4b53-9cb9-f6cd9622ba82",
   "metadata": {},
   "outputs": [
    {
     "name": "stdout",
     "output_type": "stream",
     "text": [
      "Writing temp/online-prophet/SRC/requirements.txt\n"
     ]
    }
   ],
   "source": [
    "%%writefile {DIR}/SRC/requirements.txt\n",
    "fastapi\n",
    "uvicorn==0.17.6\n",
    "pandas\n",
    "google-cloud-aiplatform[prediction]>=1.16.0\n",
    "pystan\n",
    "prophet"
   ]
  },
  {
   "cell_type": "markdown",
   "id": "21a78ba8-96c2-403c-a5d2-4b406765c4d3",
   "metadata": {},
   "source": [
    "Create a `predictor.py` file with the prediction routine:"
   ]
  },
  {
   "cell_type": "code",
   "execution_count": null,
   "id": "3ca35a99-f8f4-496b-b00a-c563d8fc6b23",
   "metadata": {},
   "outputs": [],
   "source": [
    "%%writefile {DIR}/SRC/predictor.py\n",
    "\n",
    "# packages\n",
    "from google.cloud.aiplatform.prediction.predictor import Predictor\n",
    "from prophet import Prophet\n",
    "\n",
    "def forecast():\n",
    "    \n",
    "    p = Prophet(yearly_seasonality=True, weekly_seasonality=True, daily_seasonality=True)\n",
    "    p.add_country_holidays(country_name='US')\n",
    "    p.fit(ts)\n",
    "    \n",
    "    future = p.make_future_dataframe(periods = 10, include_history = False)\n",
    "    forecast = p.predict(future)\n",
    "    \n",
    "    forecast = forecast[['ds', 'yhat', 'yhat_lower', 'yhat_upper']].to_dict()\n",
    "    \n",
    "    return forecast\n",
    "    \n",
    "class CprPredictor(Predictor):\n",
    "    def __init__(self):\n",
    "        return\n",
    "    \n",
    "    def load(self, artifacts_uri: str) -> None:\n",
    "        # no model to load here, this example trans a model and returns predictions/forecast\n",
    "        \n",
    "    def predict(self, instances):\n",
    "        \n",
    "        instances = instances['instances']\n",
    "        results = [f\"{forecast(instance)}\" for instance in instances]\n",
    "        \n",
    "        return (\"forecast\": results)"
   ]
  },
  {
   "cell_type": "markdown",
   "id": "d5f6e84b-875e-42db-bcc1-21be01002129",
   "metadata": {},
   "source": [
    "---\n",
    "## Run Custom Prediction Routine - Locally (In Notebook)\n",
    "\n",
    "This will require a user-managed workbench due to requirement for Docker."
   ]
  },
  {
   "cell_type": "code",
   "execution_count": null,
   "id": "dc324699-ff23-43c7-8957-b0b2c20da27f",
   "metadata": {},
   "outputs": [],
   "source": [
    "Load Local Model:"
   ]
  },
  {
   "cell_type": "code",
   "execution_count": null,
   "id": "675d5b84-db7b-4b8a-9d04-fb67ba59047c",
   "metadata": {},
   "outputs": [],
   "source": [
    "from google.cloud.aiplatform.prediction import LocalModel\n",
    "# load the local predictor class:\n",
    "from temp.cpr_training.SRC.predictor import CprPredictor\n",
    "\n",
    "local_model = LocalModel.build_cpr_model(\n",
    "    src_dir = f\"{DIR}/SRC\",\n",
    "    output_image_uri = f\"{REPOSITORY}/{SERIES}_{EXPERIMENT}\",\n",
    "    predictor = CprPredictor,\n",
    "    requirements_path = os.path.join(f\"{DIR}/SRC\", \"requirements.txt\"),\n",
    ")"
   ]
  },
  {
   "cell_type": "code",
   "execution_count": null,
   "id": "ca3b8149-9ed2-4ace-bcb7-31f64fd6c8fe",
   "metadata": {},
   "outputs": [],
   "source": [
    "Host Local Model:"
   ]
  },
  {
   "cell_type": "code",
   "execution_count": null,
   "id": "7c54c819-bbd7-45a2-9468-cdca964b564d",
   "metadata": {},
   "outputs": [],
   "source": [
    "with local_model.deploy_to_local_endpoint() as local_endpoint:\n",
    "    predict_response = local_endpoint.predict(\n",
    "        request = '{\"instances\": [100, 1000, 2000, 3000]}',\n",
    "        headers={\"Content-Type\": \"application/json\"}\n",
    "    )\n",
    "\n",
    "    health_check_response = local_endpoint.run_health_check()"
   ]
  },
  {
   "cell_type": "code",
   "execution_count": null,
   "id": "80d17ebf-ef16-4917-8ebd-96a74e3a7d68",
   "metadata": {},
   "outputs": [],
   "source": []
  },
  {
   "cell_type": "code",
   "execution_count": null,
   "id": "28aa31fc-1290-4fbc-8eb8-91eae219558e",
   "metadata": {},
   "outputs": [],
   "source": []
  },
  {
   "cell_type": "code",
   "execution_count": null,
   "id": "11bb64c9-cf48-4404-a09b-e72ce2bd9e50",
   "metadata": {},
   "outputs": [],
   "source": []
  },
  {
   "cell_type": "code",
   "execution_count": null,
   "id": "90cd0820-d823-4c70-afe4-386160f9148c",
   "metadata": {},
   "outputs": [],
   "source": []
  },
  {
   "cell_type": "code",
   "execution_count": null,
   "id": "743dd3d3-acdf-4a34-ac55-b8800a2039aa",
   "metadata": {},
   "outputs": [],
   "source": []
  },
  {
   "cell_type": "markdown",
   "id": "3669eda6-6b30-4155-93e8-269edb945f3b",
   "metadata": {},
   "source": [
    "---\n",
    "## Push Model To Vertex AI"
   ]
  },
  {
   "cell_type": "code",
   "execution_count": null,
   "id": "2e6c4a1e-5dd5-4322-8892-d378aa3f994d",
   "metadata": {},
   "outputs": [],
   "source": []
  },
  {
   "cell_type": "code",
   "execution_count": null,
   "id": "7179ee13-8d86-4e2b-b66d-842e51b7d1dc",
   "metadata": {},
   "outputs": [],
   "source": []
  },
  {
   "cell_type": "code",
   "execution_count": null,
   "id": "6328e553-8b3c-4660-9025-be9e45b3b1dc",
   "metadata": {},
   "outputs": [],
   "source": []
  }
 ],
 "metadata": {
  "environment": {
   "kernel": "python3",
   "name": "tf2-gpu.2-12.m110",
   "type": "gcloud",
   "uri": "gcr.io/deeplearning-platform-release/tf2-gpu.2-12:m110"
  },
  "kernelspec": {
   "display_name": "Python 3",
   "language": "python",
   "name": "python3"
  },
  "language_info": {
   "codemirror_mode": {
    "name": "ipython",
    "version": 3
   },
   "file_extension": ".py",
   "mimetype": "text/x-python",
   "name": "python",
   "nbconvert_exporter": "python",
   "pygments_lexer": "ipython3",
   "version": "3.10.12"
  }
 },
 "nbformat": 4,
 "nbformat_minor": 5
}
