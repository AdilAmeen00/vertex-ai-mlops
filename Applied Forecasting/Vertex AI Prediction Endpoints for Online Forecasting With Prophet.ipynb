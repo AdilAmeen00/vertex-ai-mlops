{
 "cells": [
  {
   "cell_type": "markdown",
   "id": "5b9392db-5e06-4c5a-a330-201c8b1bb230",
   "metadata": {},
   "source": [
    "![ga4](https://www.google-analytics.com/collect?v=2&tid=G-6VDTYWLKX6&cid=1&en=page_view&sid=1&dl=statmike%2Fvertex-ai-mlops%2FApplied+Forecasting&dt=Vertex+AI+Prediction+Endpoints+for+Online+Forecasting With Prophet.ipynb)\n",
    "\n",
    "# Vertex AI Prediction Endpoints for Online Forecasting With Prophet\n",
    "\n",
    "Sometimes forecasting needs to be done in the moment to support applications like anomaly detection.  These are near real-time requirements where a given recent time-series can be used to train a forecast model that is used to predict the near-future.  The predictions can be used as expected range of behavior for a process that is monitored and then flagged if it deviates from the expectaiton.  \n",
    "\n",
    "Most forecasting techniques are done in batch.  For this application an online training and serving applicaiton need to be built.  \n",
    "\n",
    "The workflow:\n",
    "- Build Forecasting Code with Prophet\n",
    "- Build A Custom Prediction Routine that run the forecasting code\n",
    "- Deploy the Custom Prediction Routine to a Vertex AI Online Endpoint\n",
    "- Get Forecast on-demand\n"
   ]
  },
  {
   "cell_type": "code",
   "execution_count": null,
   "id": "2b757776-6f47-49d9-a38b-25184be7d248",
   "metadata": {},
   "outputs": [],
   "source": []
  }
 ],
 "metadata": {
  "environment": {
   "kernel": "python3",
   "name": "tf2-gpu.2-11.m104",
   "type": "gcloud",
   "uri": "gcr.io/deeplearning-platform-release/tf2-gpu.2-11:m104"
  },
  "kernelspec": {
   "display_name": "Python 3 (ipykernel)",
   "language": "python",
   "name": "python3"
  },
  "language_info": {
   "codemirror_mode": {
    "name": "ipython",
    "version": 3
   },
   "file_extension": ".py",
   "mimetype": "text/x-python",
   "name": "python",
   "nbconvert_exporter": "python",
   "pygments_lexer": "ipython3",
   "version": "3.7.12"
  }
 },
 "nbformat": 4,
 "nbformat_minor": 5
}
