{
 "cells": [
  {
   "cell_type": "markdown",
   "id": "99c9fd97",
   "metadata": {
    "tags": []
   },
   "source": [
    "# Cleanup All Resources\n",
    "\n",
    "This notebook is designed to remove all resources by the type created.  By being a general cleanup utility, you can skip sections that you want to remain in use.  This notebook also has a section to delete the GCS bucket created in the `00 - Environment Setup` notebook.\n",
    "\n",
    "### Resources\n",
    "- Vertex AI: https://googleapis.dev/python/aiplatform/latest/index.html\n",
    "- BigQuery: https://googleapis.dev/python/bigquery/latest/index.html\n",
    "- GCS: https://googleapis.dev/python/storage/latest/client.html"
   ]
  },
  {
   "cell_type": "markdown",
   "id": "267068ff-d77e-4242-8f65-2f81a39eeaa8",
   "metadata": {},
   "source": [
    "---\n",
    "## Method 1: Delete The Project\n",
    "- [Instructions](https://cloud.google.com/resource-manager/docs/creating-managing-projects#shutting_down_projects)\n",
    "    - Open Console > IAM & Admin > Settings: [Link](https://console.cloud.google.com/iam-admin/settings)\n",
    "    - Click Select a project.\n",
    "    - Select a project you want to delete, and click Open.\n",
    "    - Click Shut down.\n",
    "    - Enter the Project ID, then click Shut down."
   ]
  },
  {
   "cell_type": "markdown",
   "id": "753dd64c",
   "metadata": {},
   "source": [
    "---\n",
    "## Method 2: Remove the Items Created By This Notebook\n",
    "\n",
    "## Setup\n",
    "When Finished with removing each Vertex AI, GCS, and BigQuery item below, you will then need to stop and delete this notebook instance in Console > Vertex AI > Notebooks."
   ]
  },
  {
   "cell_type": "markdown",
   "id": "6c4116ef",
   "metadata": {},
   "source": [
    "inputs:"
   ]
  },
  {
   "cell_type": "code",
   "execution_count": 1,
   "id": "1c4998a4",
   "metadata": {},
   "outputs": [],
   "source": [
    "PROJECT_ID = \"statmike-mlops\"\n",
    "REGION = 'us-central1'"
   ]
  },
  {
   "cell_type": "code",
   "execution_count": 2,
   "id": "536f5a54-c01a-4b84-abb0-cc8c0c8894fa",
   "metadata": {},
   "outputs": [
    {
     "data": {
      "text/plain": [
       "'statmike-mlops-349915'"
      ]
     },
     "execution_count": 2,
     "metadata": {},
     "output_type": "execute_result"
    }
   ],
   "source": [
    "project = !gcloud config get-value project\n",
    "PROJECT_ID = project[0]\n",
    "PROJECT_ID"
   ]
  },
  {
   "cell_type": "markdown",
   "id": "c6446eee",
   "metadata": {},
   "source": [
    "packages:"
   ]
  },
  {
   "cell_type": "code",
   "execution_count": 3,
   "id": "23f17f5e",
   "metadata": {},
   "outputs": [],
   "source": [
    "from google.cloud import aiplatform\n",
    "from google.cloud import aiplatform_v1beta1\n",
    "from google.cloud import bigquery\n",
    "from google.cloud import storage"
   ]
  },
  {
   "cell_type": "markdown",
   "id": "7272a73a",
   "metadata": {},
   "source": [
    "parameters:"
   ]
  },
  {
   "cell_type": "code",
   "execution_count": 4,
   "id": "6a6bc14d",
   "metadata": {},
   "outputs": [],
   "source": [
    "API_ENDPOINT = \"{}-aiplatform.googleapis.com\".format(REGION)\n",
    "client_options = {\"api_endpoint\": API_ENDPOINT}\n",
    "clients = {}\n",
    "\n",
    "PARENT = \"projects/\" + PROJECT_ID + \"/locations/\" + REGION"
   ]
  },
  {
   "cell_type": "markdown",
   "id": "0a2c1aad",
   "metadata": {},
   "source": [
    "clients:"
   ]
  },
  {
   "cell_type": "code",
   "execution_count": 5,
   "id": "ea5281a1",
   "metadata": {},
   "outputs": [],
   "source": [
    "aiplatform.init(project=PROJECT_ID, location=REGION)\n",
    "clients['bq'] = bigquery.Client(project=PROJECT_ID)\n",
    "clients['fs'] = aiplatform_v1beta1.FeaturestoreServiceClient(client_options=client_options)\n",
    "clients['viz'] = aiplatform_v1beta1.VizierServiceClient(client_options=client_options)\n",
    "clients['tb'] = aiplatform_v1beta1.TensorboardServiceClient(client_options=client_options)\n",
    "clients['md'] = aiplatform_v1beta1.MetadataServiceClient(client_options=client_options)\n",
    "clients['gcs'] = storage.Client()"
   ]
  },
  {
   "cell_type": "markdown",
   "id": "2f857a6a",
   "metadata": {},
   "source": [
    "---\n",
    "## BigQuery\n",
    "- Delete the dataset `digits`"
   ]
  },
  {
   "cell_type": "markdown",
   "id": "14786c5f",
   "metadata": {},
   "source": [
    "list of datasets in the project:"
   ]
  },
  {
   "cell_type": "code",
   "execution_count": 6,
   "id": "9a155309",
   "metadata": {},
   "outputs": [],
   "source": [
    "datasets = list(clients['bq'].list_datasets())"
   ]
  },
  {
   "cell_type": "markdown",
   "id": "3f5ced99",
   "metadata": {},
   "source": [
    "delete each dataset:"
   ]
  },
  {
   "cell_type": "code",
   "execution_count": 7,
   "id": "c49ef04c",
   "metadata": {},
   "outputs": [
    {
     "name": "stdout",
     "output_type": "stream",
     "text": [
      "digits\n"
     ]
    }
   ],
   "source": [
    "for ds in datasets:\n",
    "    print(ds.dataset_id)\n",
    "    clients['bq'].delete_dataset(ds.dataset_id,delete_contents=True,not_found_ok=True)"
   ]
  },
  {
   "cell_type": "markdown",
   "id": "fb44d47f",
   "metadata": {},
   "source": [
    "---\n",
    "## Vertex AI > Datasets\n",
    "- Delete datasets"
   ]
  },
  {
   "cell_type": "code",
   "execution_count": 10,
   "id": "4edca1fd",
   "metadata": {},
   "outputs": [],
   "source": [
    "datasets = aiplatform.TabularDataset.list()"
   ]
  },
  {
   "cell_type": "code",
   "execution_count": 11,
   "id": "ec04bb1e",
   "metadata": {},
   "outputs": [
    {
     "name": "stdout",
     "output_type": "stream",
     "text": [
      "projects/691911073727/locations/us-central1/datasets/8862828979967492096\n",
      "INFO:google.cloud.aiplatform.base:Deleting TabularDataset : projects/691911073727/locations/us-central1/datasets/8862828979967492096\n",
      "INFO:google.cloud.aiplatform.base:Delete TabularDataset  backing LRO: projects/691911073727/locations/us-central1/operations/3452940125850304512\n",
      "INFO:google.cloud.aiplatform.base:TabularDataset deleted. . Resource name: projects/691911073727/locations/us-central1/datasets/8862828979967492096\n",
      "projects/691911073727/locations/us-central1/datasets/459112075294146560\n",
      "INFO:google.cloud.aiplatform.base:Deleting TabularDataset : projects/691911073727/locations/us-central1/datasets/459112075294146560\n",
      "INFO:google.cloud.aiplatform.base:Delete TabularDataset  backing LRO: projects/691911073727/locations/us-central1/operations/7573733784894308352\n",
      "INFO:google.cloud.aiplatform.base:TabularDataset deleted. . Resource name: projects/691911073727/locations/us-central1/datasets/459112075294146560\n",
      "projects/691911073727/locations/us-central1/datasets/8219940133160353792\n",
      "INFO:google.cloud.aiplatform.base:Deleting TabularDataset : projects/691911073727/locations/us-central1/datasets/8219940133160353792\n",
      "INFO:google.cloud.aiplatform.base:Delete TabularDataset  backing LRO: projects/691911073727/locations/us-central1/operations/8474453710368407552\n",
      "INFO:google.cloud.aiplatform.base:TabularDataset deleted. . Resource name: projects/691911073727/locations/us-central1/datasets/8219940133160353792\n",
      "projects/691911073727/locations/us-central1/datasets/496266772219953152\n",
      "INFO:google.cloud.aiplatform.base:Deleting TabularDataset : projects/691911073727/locations/us-central1/datasets/496266772219953152\n",
      "INFO:google.cloud.aiplatform.base:Delete TabularDataset  backing LRO: projects/691911073727/locations/us-central1/operations/6371272684386385920\n",
      "INFO:google.cloud.aiplatform.base:TabularDataset deleted. . Resource name: projects/691911073727/locations/us-central1/datasets/496266772219953152\n",
      "projects/691911073727/locations/us-central1/datasets/9051417214363631616\n",
      "INFO:google.cloud.aiplatform.base:Deleting TabularDataset : projects/691911073727/locations/us-central1/datasets/9051417214363631616\n",
      "INFO:google.cloud.aiplatform.base:Delete TabularDataset  backing LRO: projects/691911073727/locations/us-central1/operations/5547113952577585152\n",
      "INFO:google.cloud.aiplatform.base:TabularDataset deleted. . Resource name: projects/691911073727/locations/us-central1/datasets/9051417214363631616\n",
      "projects/691911073727/locations/us-central1/datasets/4849558762026958848\n",
      "INFO:google.cloud.aiplatform.base:Deleting TabularDataset : projects/691911073727/locations/us-central1/datasets/4849558762026958848\n",
      "INFO:google.cloud.aiplatform.base:Delete TabularDataset  backing LRO: projects/691911073727/locations/us-central1/operations/4858063209589899264\n",
      "INFO:google.cloud.aiplatform.base:TabularDataset deleted. . Resource name: projects/691911073727/locations/us-central1/datasets/4849558762026958848\n"
     ]
    }
   ],
   "source": [
    "for ds in datasets:\n",
    "    print(ds.resource_name)\n",
    "    aiplatform.TabularDataset(dataset_name=ds.resource_name).delete()"
   ]
  },
  {
   "cell_type": "markdown",
   "id": "a8adc716",
   "metadata": {},
   "source": [
    "---\n",
    "## Vertex AI > Features\n",
    "- delete feature store including entity types and features"
   ]
  },
  {
   "cell_type": "code",
   "execution_count": 13,
   "id": "9adfe475",
   "metadata": {},
   "outputs": [],
   "source": [
    "fs = clients['fs'].list_featurestores(parent=PARENT)"
   ]
  },
  {
   "cell_type": "code",
   "execution_count": 14,
   "id": "6c5d7910",
   "metadata": {},
   "outputs": [
    {
     "name": "stdout",
     "output_type": "stream",
     "text": [
      "projects/691911073727/locations/us-central1/featurestores/digits\n"
     ]
    }
   ],
   "source": [
    "for f in fs:\n",
    "    print(f.name)\n",
    "    clients['fs'].delete_featurestore(request = aiplatform_v1beta1.types.DeleteFeaturestoreRequest(name=f.name,force=True))"
   ]
  },
  {
   "cell_type": "markdown",
   "id": "7812df62",
   "metadata": {},
   "source": [
    "---\n",
    "## Vertex AI > Pipelines\n",
    "* Delete Managed Pipelines"
   ]
  },
  {
   "cell_type": "code",
   "execution_count": 15,
   "id": "ad302441",
   "metadata": {},
   "outputs": [],
   "source": [
    "pl = aiplatform.PipelineJob.list()"
   ]
  },
  {
   "cell_type": "code",
   "execution_count": 16,
   "id": "baa6949a",
   "metadata": {},
   "outputs": [
    {
     "name": "stdout",
     "output_type": "stream",
     "text": [
      "kfp-02c-digits-20210919213805-20210920012552\n",
      "INFO:google.cloud.aiplatform.base:Deleting PipelineJob : projects/691911073727/locations/us-central1/pipelineJobs/kfp-02c-digits-20210919213805-20210920012552\n",
      "INFO:google.cloud.aiplatform.base:Delete PipelineJob  backing LRO: projects/691911073727/locations/us-central1/operations/214851993770917888\n",
      "INFO:google.cloud.aiplatform.base:PipelineJob deleted. . Resource name: projects/691911073727/locations/us-central1/pipelineJobs/kfp-02c-digits-20210919213805-20210920012552\n",
      "kfp-02c-digits-20210916004500-20210916004518\n",
      "INFO:google.cloud.aiplatform.base:Deleting PipelineJob : projects/691911073727/locations/us-central1/pipelineJobs/kfp-02c-digits-20210916004500-20210916004518\n",
      "INFO:google.cloud.aiplatform.base:Delete PipelineJob  backing LRO: projects/691911073727/locations/us-central1/operations/6641488662028615680\n",
      "INFO:google.cloud.aiplatform.base:PipelineJob deleted. . Resource name: projects/691911073727/locations/us-central1/pipelineJobs/kfp-02c-digits-20210916004500-20210916004518\n"
     ]
    }
   ],
   "source": [
    "for p in pl:\n",
    "    print(p.name)\n",
    "    p.delete()"
   ]
  },
  {
   "cell_type": "markdown",
   "id": "15e055ea",
   "metadata": {},
   "source": [
    "---\n",
    "## Vertex AI > Training\n",
    "- delete various jobs types\n",
    "- some create with aiplatform.* and other created by aiplatform.gapic.*"
   ]
  },
  {
   "cell_type": "markdown",
   "id": "a30b6776",
   "metadata": {},
   "source": [
    "## Vertex AI > Training > Training Pipelines\n",
    "- Delete training pipelines"
   ]
  },
  {
   "cell_type": "code",
   "execution_count": 17,
   "id": "f37acb08",
   "metadata": {},
   "outputs": [
    {
     "name": "stdout",
     "output_type": "stream",
     "text": [
      "05c_digits_20210919214125\n",
      "INFO:google.cloud.aiplatform.base:Deleting CustomTrainingJob : projects/691911073727/locations/us-central1/trainingPipelines/3736564922671169536\n",
      "INFO:google.cloud.aiplatform.base:Delete CustomTrainingJob  backing LRO: projects/691911073727/locations/us-central1/operations/4767991217042489344\n",
      "INFO:google.cloud.aiplatform.base:CustomTrainingJob deleted. . Resource name: projects/691911073727/locations/us-central1/trainingPipelines/3736564922671169536\n",
      "05d_digits_20210919123929\n",
      "INFO:google.cloud.aiplatform.base:Deleting CustomTrainingJob : projects/691911073727/locations/us-central1/trainingPipelines/521135526216990720\n",
      "INFO:google.cloud.aiplatform.base:Delete CustomTrainingJob  backing LRO: projects/691911073727/locations/us-central1/operations/5520092354813362176\n",
      "INFO:google.cloud.aiplatform.base:CustomTrainingJob deleted. . Resource name: projects/691911073727/locations/us-central1/trainingPipelines/521135526216990720\n",
      "05d_digits_20210919114251\n",
      "INFO:google.cloud.aiplatform.base:Deleting CustomTrainingJob : projects/691911073727/locations/us-central1/trainingPipelines/8757093344770785280\n",
      "INFO:google.cloud.aiplatform.base:Delete CustomTrainingJob  backing LRO: projects/691911073727/locations/us-central1/operations/6745071453458137088\n",
      "INFO:google.cloud.aiplatform.base:CustomTrainingJob deleted. . Resource name: projects/691911073727/locations/us-central1/trainingPipelines/8757093344770785280\n",
      "05c_digits_20210918123137\n",
      "INFO:google.cloud.aiplatform.base:Deleting CustomTrainingJob : projects/691911073727/locations/us-central1/trainingPipelines/6098280714761928704\n",
      "INFO:google.cloud.aiplatform.base:Delete CustomTrainingJob  backing LRO: projects/691911073727/locations/us-central1/operations/7740366971107016704\n",
      "INFO:google.cloud.aiplatform.base:CustomTrainingJob deleted. . Resource name: projects/691911073727/locations/us-central1/trainingPipelines/6098280714761928704\n"
     ]
    }
   ],
   "source": [
    "jobs = aiplatform.CustomTrainingJob.list()\n",
    "for j in jobs:\n",
    "    print(j.display_name)\n",
    "    j.delete()"
   ]
  },
  {
   "cell_type": "code",
   "execution_count": 18,
   "id": "15533315",
   "metadata": {},
   "outputs": [],
   "source": [
    "jobs = aiplatform.CustomPythonPackageTrainingJob.list()\n",
    "for j in jobs:\n",
    "    print(j.display_name)\n",
    "    j.delete()"
   ]
  },
  {
   "cell_type": "code",
   "execution_count": 19,
   "id": "f8556364",
   "metadata": {},
   "outputs": [
    {
     "name": "stdout",
     "output_type": "stream",
     "text": [
      "02c_digits_20210919213805\n",
      "INFO:google.cloud.aiplatform.base:Deleting AutoMLTabularTrainingJob : projects/691911073727/locations/us-central1/trainingPipelines/2019286089759457280\n",
      "INFO:google.cloud.aiplatform.base:Delete AutoMLTabularTrainingJob  backing LRO: projects/691911073727/locations/us-central1/operations/2187428630559195136\n",
      "INFO:google.cloud.aiplatform.base:AutoMLTabularTrainingJob deleted. . Resource name: projects/691911073727/locations/us-central1/trainingPipelines/2019286089759457280\n",
      "02b_digits_20210919205707\n",
      "INFO:google.cloud.aiplatform.base:Deleting AutoMLTabularTrainingJob : projects/691911073727/locations/us-central1/trainingPipelines/275548609036943360\n",
      "INFO:google.cloud.aiplatform.base:Delete AutoMLTabularTrainingJob  backing LRO: projects/691911073727/locations/us-central1/operations/5772293933946109952\n",
      "INFO:google.cloud.aiplatform.base:AutoMLTabularTrainingJob deleted. . Resource name: projects/691911073727/locations/us-central1/trainingPipelines/275548609036943360\n",
      "02a_2021916145515\n",
      "INFO:google.cloud.aiplatform.base:Deleting AutoMLTabularTrainingJob : projects/691911073727/locations/us-central1/trainingPipelines/6442032030069817344\n",
      "INFO:google.cloud.aiplatform.base:Delete AutoMLTabularTrainingJob  backing LRO: projects/691911073727/locations/us-central1/operations/3777199299020980224\n",
      "INFO:google.cloud.aiplatform.base:AutoMLTabularTrainingJob deleted. . Resource name: projects/691911073727/locations/us-central1/trainingPipelines/6442032030069817344\n",
      "02b_digits_20210916141540\n",
      "INFO:google.cloud.aiplatform.base:Deleting AutoMLTabularTrainingJob : projects/691911073727/locations/us-central1/trainingPipelines/8307648175708045312\n",
      "INFO:google.cloud.aiplatform.base:Delete AutoMLTabularTrainingJob  backing LRO: projects/691911073727/locations/us-central1/operations/3466450924732416000\n",
      "INFO:google.cloud.aiplatform.base:AutoMLTabularTrainingJob deleted. . Resource name: projects/691911073727/locations/us-central1/trainingPipelines/8307648175708045312\n",
      "02c_digits_20210916004500\n",
      "INFO:google.cloud.aiplatform.base:Deleting AutoMLTabularTrainingJob : projects/691911073727/locations/us-central1/trainingPipelines/4513928439601823744\n",
      "INFO:google.cloud.aiplatform.base:Delete AutoMLTabularTrainingJob  backing LRO: projects/691911073727/locations/us-central1/operations/6249675494447382528\n",
      "INFO:google.cloud.aiplatform.base:AutoMLTabularTrainingJob deleted. . Resource name: projects/691911073727/locations/us-central1/trainingPipelines/4513928439601823744\n"
     ]
    }
   ],
   "source": [
    "jobs = aiplatform.AutoMLTabularTrainingJob.list()\n",
    "for j in jobs:\n",
    "    print(j.display_name)\n",
    "    j.delete()"
   ]
  },
  {
   "cell_type": "markdown",
   "id": "d402b8db",
   "metadata": {},
   "source": [
    "## Vertex AI > Training > Custom Job\n",
    "- Delete custom training jobs"
   ]
  },
  {
   "cell_type": "code",
   "execution_count": 20,
   "id": "a2c8a1dd",
   "metadata": {},
   "outputs": [
    {
     "name": "stdout",
     "output_type": "stream",
     "text": [
      "caip_pipelines_7436225837067665408_5190583288497963008\n",
      "INFO:google.cloud.aiplatform.base:Deleting CustomJob : projects/691911073727/locations/us-central1/customJobs/7441057091160113152\n",
      "INFO:google.cloud.aiplatform.base:Delete CustomJob  backing LRO: projects/691911073727/locations/us-central1/operations/4493271639772889088\n",
      "INFO:google.cloud.aiplatform.base:CustomJob deleted. . Resource name: projects/691911073727/locations/us-central1/customJobs/7441057091160113152\n",
      "caip_pipelines_7436225837067665408_-8644474766784200704\n",
      "INFO:google.cloud.aiplatform.base:Deleting CustomJob : projects/691911073727/locations/us-central1/customJobs/9149610199793795072\n",
      "INFO:google.cloud.aiplatform.base:Delete CustomJob  backing LRO: projects/691911073727/locations/us-central1/operations/9104957658200276992\n",
      "INFO:google.cloud.aiplatform.base:CustomJob deleted. . Resource name: projects/691911073727/locations/us-central1/customJobs/9149610199793795072\n",
      "caip_pipelines_7436225837067665408_-4032788748356812800\n",
      "INFO:google.cloud.aiplatform.base:Deleting CustomJob : projects/691911073727/locations/us-central1/customJobs/5405993009542070272\n",
      "INFO:google.cloud.aiplatform.base:Delete CustomJob  backing LRO: projects/691911073727/locations/us-central1/operations/9050914462671831040\n",
      "INFO:google.cloud.aiplatform.base:CustomJob deleted. . Resource name: projects/691911073727/locations/us-central1/customJobs/5405993009542070272\n",
      "05c_digits_20210919214125-custom-job\n",
      "INFO:google.cloud.aiplatform.base:Deleting CustomJob : projects/691911073727/locations/us-central1/customJobs/8218420608090767360\n",
      "INFO:google.cloud.aiplatform.base:Delete CustomJob  backing LRO: projects/691911073727/locations/us-central1/operations/8388885317448368128\n",
      "INFO:google.cloud.aiplatform.base:CustomJob deleted. . Resource name: projects/691911073727/locations/us-central1/customJobs/8218420608090767360\n",
      "05d_digits_20210919123929-custom-job\n",
      "INFO:google.cloud.aiplatform.base:Deleting CustomJob : projects/691911073727/locations/us-central1/customJobs/7852503138366914560\n",
      "INFO:google.cloud.aiplatform.base:Delete CustomJob  backing LRO: projects/691911073727/locations/us-central1/operations/259887990044622848\n",
      "INFO:google.cloud.aiplatform.base:CustomJob deleted. . Resource name: projects/691911073727/locations/us-central1/customJobs/7852503138366914560\n",
      "05d_digits_20210919114251-custom-job\n",
      "INFO:google.cloud.aiplatform.base:Deleting CustomJob : projects/691911073727/locations/us-central1/customJobs/2257906501265915904\n",
      "INFO:google.cloud.aiplatform.base:Delete CustomJob  backing LRO: projects/691911073727/locations/us-central1/operations/2462148207828795392\n",
      "INFO:google.cloud.aiplatform.base:CustomJob deleted. . Resource name: projects/691911073727/locations/us-central1/customJobs/2257906501265915904\n",
      "05c_digits_20210918123137-custom-job\n",
      "INFO:google.cloud.aiplatform.base:Deleting CustomJob : projects/691911073727/locations/us-central1/customJobs/5986535149007798272\n",
      "INFO:google.cloud.aiplatform.base:Delete CustomJob  backing LRO: projects/691911073727/locations/us-central1/operations/6673013859420209152\n",
      "INFO:google.cloud.aiplatform.base:CustomJob deleted. . Resource name: projects/691911073727/locations/us-central1/customJobs/5986535149007798272\n",
      "05b_digits_20210917192930\n",
      "INFO:google.cloud.aiplatform.base:Deleting CustomJob : projects/691911073727/locations/us-central1/customJobs/7800922848884686848\n",
      "INFO:google.cloud.aiplatform.base:Delete CustomJob  backing LRO: projects/691911073727/locations/us-central1/operations/7073834226256183296\n",
      "INFO:google.cloud.aiplatform.base:CustomJob deleted. . Resource name: projects/691911073727/locations/us-central1/customJobs/7800922848884686848\n",
      "05a_digits_20210917172654\n",
      "INFO:google.cloud.aiplatform.base:Deleting CustomJob : projects/691911073727/locations/us-central1/customJobs/757855981630652416\n",
      "INFO:google.cloud.aiplatform.base:Delete CustomJob  backing LRO: projects/691911073727/locations/us-central1/operations/5195833181642686464\n",
      "INFO:google.cloud.aiplatform.base:CustomJob deleted. . Resource name: projects/691911073727/locations/us-central1/customJobs/757855981630652416\n",
      "05a_digits_20210917171058\n",
      "INFO:google.cloud.aiplatform.base:Deleting CustomJob : projects/691911073727/locations/us-central1/customJobs/7419805730418458624\n",
      "INFO:google.cloud.aiplatform.base:Delete CustomJob  backing LRO: projects/691911073727/locations/us-central1/operations/2673817390315208704\n",
      "INFO:google.cloud.aiplatform.base:CustomJob deleted. . Resource name: projects/691911073727/locations/us-central1/customJobs/7419805730418458624\n",
      "caip_pipelines_581184254256349184_-8922255384425529344\n",
      "INFO:google.cloud.aiplatform.base:Deleting CustomJob : projects/691911073727/locations/us-central1/customJobs/4374316851153338368\n",
      "INFO:google.cloud.aiplatform.base:Delete CustomJob  backing LRO: projects/691911073727/locations/us-central1/operations/3673616507591458816\n",
      "INFO:google.cloud.aiplatform.base:CustomJob deleted. . Resource name: projects/691911073727/locations/us-central1/customJobs/4374316851153338368\n",
      "caip_pipelines_581184254256349184_301116652429246464\n",
      "INFO:google.cloud.aiplatform.base:Deleting CustomJob : projects/691911073727/locations/us-central1/customJobs/7972692953422364672\n",
      "INFO:google.cloud.aiplatform.base:Delete CustomJob  backing LRO: projects/691911073727/locations/us-central1/operations/894895537503862784\n",
      "INFO:google.cloud.aiplatform.base:CustomJob deleted. . Resource name: projects/691911073727/locations/us-central1/customJobs/7972692953422364672\n",
      "caip_pipelines_581184254256349184_4912802670856634368\n",
      "INFO:google.cloud.aiplatform.base:Deleting CustomJob : projects/691911073727/locations/us-central1/customJobs/6890280930481537024\n",
      "INFO:google.cloud.aiplatform.base:Delete CustomJob  backing LRO: projects/691911073727/locations/us-central1/operations/4871574008472010752\n",
      "INFO:google.cloud.aiplatform.base:CustomJob deleted. . Resource name: projects/691911073727/locations/us-central1/customJobs/6890280930481537024\n"
     ]
    }
   ],
   "source": [
    "jobs = aiplatform.CustomJob.list()\n",
    "for j in jobs:\n",
    "    print(j.display_name)\n",
    "    j.delete()"
   ]
  },
  {
   "cell_type": "markdown",
   "id": "09fb512e",
   "metadata": {},
   "source": [
    "## Vertex AI > Training > Hyperparameter Tuning Job"
   ]
  },
  {
   "cell_type": "code",
   "execution_count": 21,
   "id": "e087e1c1",
   "metadata": {},
   "outputs": [
    {
     "name": "stdout",
     "output_type": "stream",
     "text": [
      "05f_digits_20210920145828\n",
      "INFO:google.cloud.aiplatform.base:Deleting HyperparameterTuningJob : projects/691911073727/locations/us-central1/hyperparameterTuningJobs/6687856441761464320\n",
      "INFO:google.cloud.aiplatform.base:Delete HyperparameterTuningJob  backing LRO: projects/691911073727/locations/us-central1/operations/1687529071921070080\n",
      "INFO:google.cloud.aiplatform.base:HyperparameterTuningJob deleted. . Resource name: projects/691911073727/locations/us-central1/hyperparameterTuningJobs/6687856441761464320\n",
      "05e_digits_20210920125450\n",
      "INFO:google.cloud.aiplatform.base:Deleting HyperparameterTuningJob : projects/691911073727/locations/us-central1/hyperparameterTuningJobs/6831945241558253568\n",
      "INFO:google.cloud.aiplatform.base:Delete HyperparameterTuningJob  backing LRO: projects/691911073727/locations/us-central1/operations/5673214742143959040\n",
      "INFO:google.cloud.aiplatform.base:HyperparameterTuningJob deleted. . Resource name: projects/691911073727/locations/us-central1/hyperparameterTuningJobs/6831945241558253568\n"
     ]
    }
   ],
   "source": [
    "jobs = aiplatform.HyperparameterTuningJob.list()\n",
    "for j in jobs:\n",
    "    print(j.display_name)\n",
    "    j.delete()"
   ]
  },
  {
   "cell_type": "markdown",
   "id": "d6ee0a33",
   "metadata": {},
   "source": [
    "---\n",
    "## Vertex AI > Experiments > Experiment & Tensorboard Instances"
   ]
  },
  {
   "cell_type": "code",
   "execution_count": 26,
   "id": "98f8d5ff",
   "metadata": {},
   "outputs": [],
   "source": [
    "tbs = clients['tb'].list_tensorboards(parent=PARENT)"
   ]
  },
  {
   "cell_type": "code",
   "execution_count": 28,
   "id": "024daa6e",
   "metadata": {},
   "outputs": [
    {
     "name": "stdout",
     "output_type": "stream",
     "text": [
      "projects/691911073727/locations/us-central1/tensorboards/8640050331994030080\n"
     ]
    }
   ],
   "source": [
    "for tb in tbs:\n",
    "    print(tb.name)\n",
    "    tbes = clients['tb'].list_tensorboard_experiments(parent=tb.name)\n",
    "    for tbe in tbes:\n",
    "        print(tbe.name)\n",
    "        clients['tb'].delete_tensorboard_experiment(request=aiplatform_v1beta1.types.DeleteTensorboardExperimentRequest(name=tbe.name))\n",
    "    clients['tb'].delete_tensorboard(request = aiplatform_v1beta1.types.DeleteTensorboardRequest(name=tb.name))"
   ]
  },
  {
   "cell_type": "markdown",
   "id": "e05560a5",
   "metadata": {},
   "source": [
    "## Vertex AI > Experiments > Studies\n",
    "Vizier Studies"
   ]
  },
  {
   "cell_type": "code",
   "execution_count": 23,
   "id": "f3dbebb6",
   "metadata": {},
   "outputs": [],
   "source": [
    "studies = clients['viz'].list_studies(parent=PARENT)"
   ]
  },
  {
   "cell_type": "code",
   "execution_count": 24,
   "id": "f3d899cc",
   "metadata": {},
   "outputs": [
    {
     "name": "stdout",
     "output_type": "stream",
     "text": [
      "projects/691911073727/locations/us-central1/studies/4214226082825\n",
      "projects/691911073727/locations/us-central1/studies/639592116037\n"
     ]
    }
   ],
   "source": [
    "for study in studies:\n",
    "    print(study.name)\n",
    "    clients['viz'].delete_study(name=study.name)"
   ]
  },
  {
   "cell_type": "markdown",
   "id": "7d52c19c",
   "metadata": {},
   "source": [
    "---\n",
    "## Vertex AI > Endpoints\n",
    "- Delete endpoints forcing deployed models to undeploy"
   ]
  },
  {
   "cell_type": "code",
   "execution_count": 29,
   "id": "71467adf",
   "metadata": {},
   "outputs": [],
   "source": [
    "endpoints = aiplatform.Endpoint.list()"
   ]
  },
  {
   "cell_type": "code",
   "execution_count": 30,
   "id": "1407adc7",
   "metadata": {},
   "outputs": [
    {
     "name": "stdout",
     "output_type": "stream",
     "text": [
      "projects/691911073727/locations/us-central1/endpoints/7936169376170901504\n",
      "INFO:google.cloud.aiplatform.models:Undeploying Endpoint model: projects/691911073727/locations/us-central1/endpoints/7936169376170901504\n",
      "INFO:google.cloud.aiplatform.models:Undeploy Endpoint model backing LRO: projects/691911073727/locations/us-central1/endpoints/7936169376170901504/operations/7231460213214150656\n",
      "INFO:google.cloud.aiplatform.models:Endpoint model undeployed. Resource name: projects/691911073727/locations/us-central1/endpoints/7936169376170901504\n",
      "INFO:google.cloud.aiplatform.base:Deleting Endpoint : projects/691911073727/locations/us-central1/endpoints/7936169376170901504\n",
      "INFO:google.cloud.aiplatform.base:Delete Endpoint  backing LRO: projects/691911073727/locations/us-central1/operations/6609963464637022208\n",
      "INFO:google.cloud.aiplatform.base:Endpoint deleted. . Resource name: projects/691911073727/locations/us-central1/endpoints/7936169376170901504\n",
      "projects/691911073727/locations/us-central1/endpoints/1311937274262323200\n",
      "INFO:google.cloud.aiplatform.models:Undeploying Endpoint model: projects/691911073727/locations/us-central1/endpoints/1311937274262323200\n",
      "INFO:google.cloud.aiplatform.models:Undeploy Endpoint model backing LRO: projects/691911073727/locations/us-central1/endpoints/1311937274262323200/operations/6113441605719425024\n",
      "INFO:google.cloud.aiplatform.models:Endpoint model undeployed. Resource name: projects/691911073727/locations/us-central1/endpoints/1311937274262323200\n",
      "INFO:google.cloud.aiplatform.base:Deleting Endpoint : projects/691911073727/locations/us-central1/endpoints/1311937274262323200\n",
      "INFO:google.cloud.aiplatform.base:Delete Endpoint  backing LRO: projects/691911073727/locations/us-central1/operations/5235239678382178304\n",
      "INFO:google.cloud.aiplatform.base:Endpoint deleted. . Resource name: projects/691911073727/locations/us-central1/endpoints/1311937274262323200\n",
      "projects/691911073727/locations/us-central1/endpoints/5588105120450609152\n",
      "INFO:google.cloud.aiplatform.models:Undeploying Endpoint model: projects/691911073727/locations/us-central1/endpoints/5588105120450609152\n",
      "INFO:google.cloud.aiplatform.models:Undeploy Endpoint model backing LRO: projects/691911073727/locations/us-central1/endpoints/5588105120450609152/operations/6707916756532330496\n",
      "INFO:google.cloud.aiplatform.models:Endpoint model undeployed. Resource name: projects/691911073727/locations/us-central1/endpoints/5588105120450609152\n",
      "INFO:google.cloud.aiplatform.base:Deleting Endpoint : projects/691911073727/locations/us-central1/endpoints/5588105120450609152\n",
      "INFO:google.cloud.aiplatform.base:Delete Endpoint  backing LRO: projects/691911073727/locations/us-central1/operations/3807598596505731072\n",
      "INFO:google.cloud.aiplatform.base:Endpoint deleted. . Resource name: projects/691911073727/locations/us-central1/endpoints/5588105120450609152\n",
      "projects/691911073727/locations/us-central1/endpoints/4644600998516490240\n",
      "INFO:google.cloud.aiplatform.models:Undeploying Endpoint model: projects/691911073727/locations/us-central1/endpoints/4644600998516490240\n",
      "INFO:google.cloud.aiplatform.models:Undeploy Endpoint model backing LRO: projects/691911073727/locations/us-central1/endpoints/4644600998516490240/operations/8419284614933118976\n",
      "INFO:google.cloud.aiplatform.models:Endpoint model undeployed. Resource name: projects/691911073727/locations/us-central1/endpoints/4644600998516490240\n",
      "INFO:google.cloud.aiplatform.base:Deleting Endpoint : projects/691911073727/locations/us-central1/endpoints/4644600998516490240\n",
      "INFO:google.cloud.aiplatform.base:Delete Endpoint  backing LRO: projects/691911073727/locations/us-central1/operations/7014161531193524224\n",
      "INFO:google.cloud.aiplatform.base:Endpoint deleted. . Resource name: projects/691911073727/locations/us-central1/endpoints/4644600998516490240\n",
      "projects/691911073727/locations/us-central1/endpoints/3858722863540338688\n",
      "INFO:google.cloud.aiplatform.models:Undeploying Endpoint model: projects/691911073727/locations/us-central1/endpoints/3858722863540338688\n",
      "INFO:google.cloud.aiplatform.models:Undeploy Endpoint model backing LRO: projects/691911073727/locations/us-central1/endpoints/3858722863540338688/operations/9144364154939768832\n",
      "INFO:google.cloud.aiplatform.models:Endpoint model undeployed. Resource name: projects/691911073727/locations/us-central1/endpoints/3858722863540338688\n",
      "INFO:google.cloud.aiplatform.base:Deleting Endpoint : projects/691911073727/locations/us-central1/endpoints/3858722863540338688\n",
      "INFO:google.cloud.aiplatform.base:Delete Endpoint  backing LRO: projects/691911073727/locations/us-central1/operations/8915806473850716160\n",
      "INFO:google.cloud.aiplatform.base:Endpoint deleted. . Resource name: projects/691911073727/locations/us-central1/endpoints/3858722863540338688\n",
      "projects/691911073727/locations/us-central1/endpoints/5743479307594891264\n",
      "INFO:google.cloud.aiplatform.models:Undeploying Endpoint model: projects/691911073727/locations/us-central1/endpoints/5743479307594891264\n",
      "INFO:google.cloud.aiplatform.models:Undeploy Endpoint model backing LRO: projects/691911073727/locations/us-central1/endpoints/5743479307594891264/operations/925294834988613632\n",
      "INFO:google.cloud.aiplatform.models:Endpoint model undeployed. Resource name: projects/691911073727/locations/us-central1/endpoints/5743479307594891264\n",
      "INFO:google.cloud.aiplatform.base:Deleting Endpoint : projects/691911073727/locations/us-central1/endpoints/5743479307594891264\n",
      "INFO:google.cloud.aiplatform.base:Delete Endpoint  backing LRO: projects/691911073727/locations/us-central1/operations/4402073747318636544\n",
      "INFO:google.cloud.aiplatform.base:Endpoint deleted. . Resource name: projects/691911073727/locations/us-central1/endpoints/5743479307594891264\n",
      "projects/691911073727/locations/us-central1/endpoints/1552879854326644736\n",
      "INFO:google.cloud.aiplatform.models:Undeploying Endpoint model: projects/691911073727/locations/us-central1/endpoints/1552879854326644736\n",
      "INFO:google.cloud.aiplatform.models:Undeploy Endpoint model backing LRO: projects/691911073727/locations/us-central1/endpoints/1552879854326644736/operations/5536980853416001536\n",
      "INFO:google.cloud.aiplatform.models:Endpoint model undeployed. Resource name: projects/691911073727/locations/us-central1/endpoints/1552879854326644736\n",
      "INFO:google.cloud.aiplatform.base:Deleting Endpoint : projects/691911073727/locations/us-central1/endpoints/1552879854326644736\n",
      "INFO:google.cloud.aiplatform.base:Delete Endpoint  backing LRO: projects/691911073727/locations/us-central1/operations/3231137844202307584\n",
      "INFO:google.cloud.aiplatform.base:Endpoint deleted. . Resource name: projects/691911073727/locations/us-central1/endpoints/1552879854326644736\n",
      "projects/691911073727/locations/us-central1/endpoints/6560882639962636288\n",
      "INFO:google.cloud.aiplatform.models:Undeploying Endpoint model: projects/691911073727/locations/us-central1/endpoints/6560882639962636288\n",
      "INFO:google.cloud.aiplatform.models:Undeploy Endpoint model backing LRO: projects/691911073727/locations/us-central1/endpoints/6560882639962636288/operations/5433398061986480128\n",
      "INFO:google.cloud.aiplatform.models:Endpoint model undeployed. Resource name: projects/691911073727/locations/us-central1/endpoints/6560882639962636288\n",
      "INFO:google.cloud.aiplatform.base:Deleting Endpoint : projects/691911073727/locations/us-central1/endpoints/6560882639962636288\n",
      "INFO:google.cloud.aiplatform.base:Delete Endpoint  backing LRO: projects/691911073727/locations/us-central1/operations/137164900198776832\n",
      "INFO:google.cloud.aiplatform.base:Endpoint deleted. . Resource name: projects/691911073727/locations/us-central1/endpoints/6560882639962636288\n",
      "projects/691911073727/locations/us-central1/endpoints/7761091940656873472\n",
      "INFO:google.cloud.aiplatform.models:Undeploying Endpoint model: projects/691911073727/locations/us-central1/endpoints/7761091940656873472\n",
      "INFO:google.cloud.aiplatform.models:Undeploy Endpoint model backing LRO: projects/691911073727/locations/us-central1/endpoints/7761091940656873472/operations/3645469009920393216\n",
      "INFO:google.cloud.aiplatform.models:Endpoint model undeployed. Resource name: projects/691911073727/locations/us-central1/endpoints/7761091940656873472\n",
      "INFO:google.cloud.aiplatform.base:Deleting Endpoint : projects/691911073727/locations/us-central1/endpoints/7761091940656873472\n",
      "INFO:google.cloud.aiplatform.base:Delete Endpoint  backing LRO: projects/691911073727/locations/us-central1/operations/2078216339595460608\n",
      "INFO:google.cloud.aiplatform.base:Endpoint deleted. . Resource name: projects/691911073727/locations/us-central1/endpoints/7761091940656873472\n",
      "projects/691911073727/locations/us-central1/endpoints/4399154818824798208\n",
      "INFO:google.cloud.aiplatform.models:Undeploying Endpoint model: projects/691911073727/locations/us-central1/endpoints/4399154818824798208\n",
      "INFO:google.cloud.aiplatform.models:Undeploy Endpoint model backing LRO: projects/691911073727/locations/us-central1/endpoints/4399154818824798208/operations/4748850918626164736\n",
      "INFO:google.cloud.aiplatform.models:Endpoint model undeployed. Resource name: projects/691911073727/locations/us-central1/endpoints/4399154818824798208\n",
      "INFO:google.cloud.aiplatform.base:Deleting Endpoint : projects/691911073727/locations/us-central1/endpoints/4399154818824798208\n",
      "INFO:google.cloud.aiplatform.base:Delete Endpoint  backing LRO: projects/691911073727/locations/us-central1/operations/3978735382345809920\n",
      "INFO:google.cloud.aiplatform.base:Endpoint deleted. . Resource name: projects/691911073727/locations/us-central1/endpoints/4399154818824798208\n",
      "projects/691911073727/locations/us-central1/endpoints/5446241732188438528\n",
      "INFO:google.cloud.aiplatform.models:Undeploying Endpoint model: projects/691911073727/locations/us-central1/endpoints/5446241732188438528\n",
      "INFO:google.cloud.aiplatform.models:Undeploy Endpoint model backing LRO: projects/691911073727/locations/us-central1/endpoints/5446241732188438528/operations/1249554008159289344\n",
      "INFO:google.cloud.aiplatform.models:Endpoint model undeployed. Resource name: projects/691911073727/locations/us-central1/endpoints/5446241732188438528\n",
      "INFO:google.cloud.aiplatform.base:Deleting Endpoint : projects/691911073727/locations/us-central1/endpoints/5446241732188438528\n",
      "INFO:google.cloud.aiplatform.base:Delete Endpoint  backing LRO: projects/691911073727/locations/us-central1/operations/7541082687595872256\n",
      "INFO:google.cloud.aiplatform.base:Endpoint deleted. . Resource name: projects/691911073727/locations/us-central1/endpoints/5446241732188438528\n",
      "projects/691911073727/locations/us-central1/endpoints/3724740774626066432\n",
      "INFO:google.cloud.aiplatform.models:Undeploying Endpoint model: projects/691911073727/locations/us-central1/endpoints/3724740774626066432\n",
      "INFO:google.cloud.aiplatform.models:Undeploy Endpoint model backing LRO: projects/691911073727/locations/us-central1/endpoints/3724740774626066432/operations/8257155028347781120\n",
      "INFO:google.cloud.aiplatform.models:Endpoint model undeployed. Resource name: projects/691911073727/locations/us-central1/endpoints/3724740774626066432\n",
      "INFO:google.cloud.aiplatform.base:Deleting Endpoint : projects/691911073727/locations/us-central1/endpoints/3724740774626066432\n",
      "INFO:google.cloud.aiplatform.base:Delete Endpoint  backing LRO: projects/691911073727/locations/us-central1/operations/1096431620828692480\n",
      "INFO:google.cloud.aiplatform.base:Endpoint deleted. . Resource name: projects/691911073727/locations/us-central1/endpoints/3724740774626066432\n",
      "projects/691911073727/locations/us-central1/endpoints/7140721091986587648\n",
      "INFO:google.cloud.aiplatform.models:Undeploying Endpoint model: projects/691911073727/locations/us-central1/endpoints/7140721091986587648\n",
      "INFO:google.cloud.aiplatform.models:Undeploy Endpoint model backing LRO: projects/691911073727/locations/us-central1/endpoints/7140721091986587648/operations/5708117639256080384\n",
      "INFO:google.cloud.aiplatform.models:Endpoint model undeployed. Resource name: projects/691911073727/locations/us-central1/endpoints/7140721091986587648\n",
      "INFO:google.cloud.aiplatform.base:Deleting Endpoint : projects/691911073727/locations/us-central1/endpoints/7140721091986587648\n",
      "INFO:google.cloud.aiplatform.base:Delete Endpoint  backing LRO: projects/691911073727/locations/us-central1/operations/5168811583878463488\n",
      "INFO:google.cloud.aiplatform.base:Endpoint deleted. . Resource name: projects/691911073727/locations/us-central1/endpoints/7140721091986587648\n"
     ]
    }
   ],
   "source": [
    "for ep in endpoints:\n",
    "    print(ep.resource_name)\n",
    "    ep.delete(force=True)"
   ]
  },
  {
   "cell_type": "markdown",
   "id": "eea6b3bb",
   "metadata": {},
   "source": [
    "---\n",
    "## Vertex AI > Models\n",
    "- Delete endpoints first (contain deployed models)\n",
    "- Delete uploaded models"
   ]
  },
  {
   "cell_type": "code",
   "execution_count": 6,
   "id": "4e805eb0",
   "metadata": {},
   "outputs": [],
   "source": [
    "models = aiplatform.Model.list()"
   ]
  },
  {
   "cell_type": "code",
   "execution_count": 7,
   "id": "f942e39e",
   "metadata": {},
   "outputs": [
    {
     "name": "stdout",
     "output_type": "stream",
     "text": [
      "projects/1026793852137/locations/us-central1/models/6133608023362371584\n",
      "Deleting Model : projects/1026793852137/locations/us-central1/models/6133608023362371584\n",
      "Delete Model  backing LRO: projects/1026793852137/locations/us-central1/operations/2080748308715798528\n",
      "Model deleted. . Resource name: projects/1026793852137/locations/us-central1/models/6133608023362371584\n",
      "projects/1026793852137/locations/us-central1/models/2891016291655614464\n",
      "Deleting Model : projects/1026793852137/locations/us-central1/models/2891016291655614464\n",
      "Delete Model  backing LRO: projects/1026793852137/locations/us-central1/operations/2970209235121471488\n",
      "Model deleted. . Resource name: projects/1026793852137/locations/us-central1/models/2891016291655614464\n",
      "projects/1026793852137/locations/us-central1/models/6928493357593264128\n",
      "Deleting Model : projects/1026793852137/locations/us-central1/models/6928493357593264128\n",
      "Delete Model  backing LRO: projects/1026793852137/locations/us-central1/operations/1432229962374447104\n",
      "Model deleted. . Resource name: projects/1026793852137/locations/us-central1/models/6928493357593264128\n",
      "projects/1026793852137/locations/us-central1/models/1578217000277114880\n",
      "Deleting Model : projects/1026793852137/locations/us-central1/models/1578217000277114880\n",
      "Delete Model  backing LRO: projects/1026793852137/locations/us-central1/operations/2433154979557539840\n",
      "Model deleted. . Resource name: projects/1026793852137/locations/us-central1/models/1578217000277114880\n",
      "projects/1026793852137/locations/us-central1/models/4488668259465297920\n",
      "Deleting Model : projects/1026793852137/locations/us-central1/models/4488668259465297920\n",
      "Delete Model  backing LRO: projects/1026793852137/locations/us-central1/operations/8059276814050131968\n",
      "Model deleted. . Resource name: projects/1026793852137/locations/us-central1/models/4488668259465297920\n",
      "projects/1026793852137/locations/us-central1/models/2498077224167538688\n",
      "Deleting Model : projects/1026793852137/locations/us-central1/models/2498077224167538688\n",
      "Delete Model  backing LRO: projects/1026793852137/locations/us-central1/operations/2857619244437209088\n",
      "Model deleted. . Resource name: projects/1026793852137/locations/us-central1/models/2498077224167538688\n",
      "projects/1026793852137/locations/us-central1/models/4705966941485924352\n",
      "Deleting Model : projects/1026793852137/locations/us-central1/models/4705966941485924352\n",
      "Delete Model  backing LRO: projects/1026793852137/locations/us-central1/operations/371632250128695296\n",
      "Model deleted. . Resource name: projects/1026793852137/locations/us-central1/models/4705966941485924352\n",
      "projects/1026793852137/locations/us-central1/models/1497152206984445952\n",
      "Deleting Model : projects/1026793852137/locations/us-central1/models/1497152206984445952\n",
      "Delete Model  backing LRO: projects/1026793852137/locations/us-central1/operations/1631514245885591552\n",
      "Model deleted. . Resource name: projects/1026793852137/locations/us-central1/models/1497152206984445952\n",
      "projects/1026793852137/locations/us-central1/models/6645892480975765504\n",
      "Deleting Model : projects/1026793852137/locations/us-central1/models/6645892480975765504\n",
      "Delete Model  backing LRO: projects/1026793852137/locations/us-central1/operations/7441157765193531392\n",
      "Model deleted. . Resource name: projects/1026793852137/locations/us-central1/models/6645892480975765504\n",
      "projects/1026793852137/locations/us-central1/models/6732586773802647552\n",
      "Deleting Model : projects/1026793852137/locations/us-central1/models/6732586773802647552\n",
      "Delete Model  backing LRO: projects/1026793852137/locations/us-central1/operations/6243200264312979456\n",
      "Model deleted. . Resource name: projects/1026793852137/locations/us-central1/models/6732586773802647552\n",
      "projects/1026793852137/locations/us-central1/models/4261236478283087872\n",
      "Deleting Model : projects/1026793852137/locations/us-central1/models/4261236478283087872\n",
      "Delete Model  backing LRO: projects/1026793852137/locations/us-central1/operations/1676550242159296512\n",
      "Model deleted. . Resource name: projects/1026793852137/locations/us-central1/models/4261236478283087872\n",
      "projects/1026793852137/locations/us-central1/models/8926965692238921728\n",
      "Deleting Model : projects/1026793852137/locations/us-central1/models/8926965692238921728\n",
      "Delete Model  backing LRO: projects/1026793852137/locations/us-central1/operations/2420770080582270976\n",
      "Model deleted. . Resource name: projects/1026793852137/locations/us-central1/models/8926965692238921728\n",
      "projects/1026793852137/locations/us-central1/models/766443167443582976\n",
      "Deleting Model : projects/1026793852137/locations/us-central1/models/766443167443582976\n",
      "Delete Model  backing LRO: projects/1026793852137/locations/us-central1/operations/7044840997984927744\n",
      "Model deleted. . Resource name: projects/1026793852137/locations/us-central1/models/766443167443582976\n",
      "projects/1026793852137/locations/us-central1/models/2812203298176630784\n",
      "Deleting Model : projects/1026793852137/locations/us-central1/models/2812203298176630784\n",
      "Delete Model  backing LRO: projects/1026793852137/locations/us-central1/operations/6676671728447389696\n",
      "Model deleted. . Resource name: projects/1026793852137/locations/us-central1/models/2812203298176630784\n",
      "projects/1026793852137/locations/us-central1/models/7992468769559543808\n",
      "Deleting Model : projects/1026793852137/locations/us-central1/models/7992468769559543808\n",
      "Delete Model  backing LRO: projects/1026793852137/locations/us-central1/operations/3893447158732423168\n",
      "Model deleted. . Resource name: projects/1026793852137/locations/us-central1/models/7992468769559543808\n",
      "projects/1026793852137/locations/us-central1/models/5727158156992184320\n",
      "Deleting Model : projects/1026793852137/locations/us-central1/models/5727158156992184320\n",
      "Delete Model  backing LRO: projects/1026793852137/locations/us-central1/operations/7032456099009658880\n",
      "Model deleted. . Resource name: projects/1026793852137/locations/us-central1/models/5727158156992184320\n",
      "projects/1026793852137/locations/us-central1/models/7416008017256120320\n",
      "Deleting Model : projects/1026793852137/locations/us-central1/models/7416008017256120320\n",
      "Delete Model  backing LRO: projects/1026793852137/locations/us-central1/operations/4370828719233695744\n",
      "Model deleted. . Resource name: projects/1026793852137/locations/us-central1/models/7416008017256120320\n",
      "projects/1026793852137/locations/us-central1/models/8575684921304023040\n",
      "Deleting Model : projects/1026793852137/locations/us-central1/models/8575684921304023040\n",
      "Delete Model  backing LRO: projects/1026793852137/locations/us-central1/operations/7045966897891770368\n",
      "Model deleted. . Resource name: projects/1026793852137/locations/us-central1/models/8575684921304023040\n",
      "projects/1026793852137/locations/us-central1/models/3963998902876635136\n",
      "Deleting Model : projects/1026793852137/locations/us-central1/models/3963998902876635136\n",
      "Delete Model  backing LRO: projects/1026793852137/locations/us-central1/operations/1281359374857535488\n",
      "Model deleted. . Resource name: projects/1026793852137/locations/us-central1/models/3963998902876635136\n",
      "projects/1026793852137/locations/us-central1/models/8956239089816829952\n",
      "Deleting Model : projects/1026793852137/locations/us-central1/models/8956239089816829952\n",
      "Delete Model  backing LRO: projects/1026793852137/locations/us-central1/operations/8113320009578577920\n",
      "Model deleted. . Resource name: projects/1026793852137/locations/us-central1/models/8956239089816829952\n",
      "projects/1026793852137/locations/us-central1/models/6044661930721804288\n",
      "Deleting Model : projects/1026793852137/locations/us-central1/models/6044661930721804288\n",
      "Delete Model  backing LRO: projects/1026793852137/locations/us-central1/operations/3937357255099285504\n",
      "Model deleted. . Resource name: projects/1026793852137/locations/us-central1/models/6044661930721804288\n",
      "projects/1026793852137/locations/us-central1/models/3518142539766956032\n",
      "Deleting Model : projects/1026793852137/locations/us-central1/models/3518142539766956032\n",
      "Delete Model  backing LRO: projects/1026793852137/locations/us-central1/operations/2294669291015897088\n",
      "Model deleted. . Resource name: projects/1026793852137/locations/us-central1/models/3518142539766956032\n",
      "projects/1026793852137/locations/us-central1/models/2957444386159329280\n",
      "Deleting Model : projects/1026793852137/locations/us-central1/models/2957444386159329280\n",
      "Delete Model  backing LRO: projects/1026793852137/locations/us-central1/operations/6906355309443284992\n",
      "Model deleted. . Resource name: projects/1026793852137/locations/us-central1/models/2957444386159329280\n",
      "projects/1026793852137/locations/us-central1/models/1937379070559911936\n",
      "Deleting Model : projects/1026793852137/locations/us-central1/models/1937379070559911936\n",
      "Delete Model  backing LRO: projects/1026793852137/locations/us-central1/operations/8505133177159811072\n",
      "Model deleted. . Resource name: projects/1026793852137/locations/us-central1/models/1937379070559911936\n",
      "projects/1026793852137/locations/us-central1/models/8048763764901675008\n",
      "Deleting Model : projects/1026793852137/locations/us-central1/models/8048763764901675008\n",
      "Delete Model  backing LRO: projects/1026793852137/locations/us-central1/operations/619330229634072576\n",
      "Model deleted. . Resource name: projects/1026793852137/locations/us-central1/models/8048763764901675008\n",
      "projects/1026793852137/locations/us-central1/models/7701986593594146816\n",
      "Deleting Model : projects/1026793852137/locations/us-central1/models/7701986593594146816\n",
      "Delete Model  backing LRO: projects/1026793852137/locations/us-central1/operations/8982514737661083648\n",
      "Model deleted. . Resource name: projects/1026793852137/locations/us-central1/models/7701986593594146816\n"
     ]
    }
   ],
   "source": [
    "for model in models:\n",
    "    print(model.resource_name)\n",
    "    model.delete()"
   ]
  },
  {
   "cell_type": "markdown",
   "id": "e2226b29",
   "metadata": {},
   "source": [
    "---\n",
    "## Vertex AI > Batch Predictions\n",
    "- delete all batch prediction jobs"
   ]
  },
  {
   "cell_type": "code",
   "execution_count": 33,
   "id": "ab2c5a71",
   "metadata": {},
   "outputs": [],
   "source": [
    "bps = aiplatform.BatchPredictionJob.list()"
   ]
  },
  {
   "cell_type": "code",
   "execution_count": 34,
   "id": "58bebdd4",
   "metadata": {},
   "outputs": [],
   "source": [
    "for bp in bps:\n",
    "    print(bp.resource_name)\n",
    "    bp.delete()"
   ]
  },
  {
   "cell_type": "markdown",
   "id": "43cd8eb7",
   "metadata": {},
   "source": [
    "---\n",
    "## Vertex AI > Metadata"
   ]
  },
  {
   "cell_type": "code",
   "execution_count": 36,
   "id": "4bf195bb",
   "metadata": {},
   "outputs": [],
   "source": [
    "md = clients['md'].list_metadata_stores(parent=PARENT)"
   ]
  },
  {
   "cell_type": "code",
   "execution_count": 47,
   "id": "cd9cde55",
   "metadata": {},
   "outputs": [
    {
     "name": "stdout",
     "output_type": "stream",
     "text": [
      "projects/691911073727/locations/us-central1/metadataStores/default\n",
      "projects/691911073727/locations/us-central1/metadataStores/default/artifacts/6180199488504697479\n",
      "projects/691911073727/locations/us-central1/metadataStores/default/artifacts/1222243081411306850\n",
      "projects/691911073727/locations/us-central1/metadataStores/default/artifacts/873618663861831837\n",
      "projects/691911073727/locations/us-central1/metadataStores/default/artifacts/3239445619323675727\n",
      "projects/691911073727/locations/us-central1/metadataStores/default/artifacts/9832748077701759572\n",
      "projects/691911073727/locations/us-central1/metadataStores/default/artifacts/8919405980845928163\n"
     ]
    }
   ],
   "source": [
    "for m in md:\n",
    "    print(m.name)\n",
    "    arts = clients['md'].list_artifacts(parent=m.name)\n",
    "    for a in arts:\n",
    "        print(a.name)\n",
    "        clients['md'].delete_artifact(name=a.name)\n",
    "    if m.name.split('/')[-1] != 'default':\n",
    "        print('delete would happen here - update code to make this happen')\n",
    "        #clients['md'].get_metadata_store(name=m.name)#.purge_artifacts(parent=m.name)"
   ]
  },
  {
   "cell_type": "markdown",
   "id": "ebb2e865",
   "metadata": {},
   "source": [
    "---\n",
    "## Storage Bucket Removal\n",
    "\n",
    "- delete contents and storage bucket `statmike-mlops` (named after project)"
   ]
  },
  {
   "cell_type": "code",
   "execution_count": 50,
   "id": "0cfd7d05",
   "metadata": {},
   "outputs": [],
   "source": [
    "bucket = clients['gcs'].get_bucket(PROJECT_ID)"
   ]
  },
  {
   "cell_type": "code",
   "execution_count": null,
   "id": "1f692e3a",
   "metadata": {},
   "outputs": [],
   "source": [
    "#bucket.delete(force=True)"
   ]
  }
 ],
 "metadata": {
  "environment": {
   "kernel": "python3",
   "name": "tf2-gpu.2-8.m93",
   "type": "gcloud",
   "uri": "gcr.io/deeplearning-platform-release/tf2-gpu.2-8:m93"
  },
  "kernelspec": {
   "display_name": "Python 3",
   "language": "python",
   "name": "python3"
  },
  "language_info": {
   "codemirror_mode": {
    "name": "ipython",
    "version": 3
   },
   "file_extension": ".py",
   "mimetype": "text/x-python",
   "name": "python",
   "nbconvert_exporter": "python",
   "pygments_lexer": "ipython3",
   "version": "3.7.12"
  }
 },
 "nbformat": 4,
 "nbformat_minor": 5
}
