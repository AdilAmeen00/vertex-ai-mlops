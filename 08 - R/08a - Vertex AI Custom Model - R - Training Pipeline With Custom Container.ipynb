{
 "cells": [
  {
   "cell_type": "markdown",
   "id": "48ea515a-03df-4412-abd3-820fd69dee05",
   "metadata": {},
   "source": [
    "# 08a - Vertex AI > Training > Training Pipelines - With Custom Container\n",
    "\n",
    "# <IN ACTIVE DEVELOPMENT - NOT COMPLETE>\n",
    "\n",
    "Dev Notes:\n",
    "- Python Kernel\n",
    "- Orchestrates Vertex AI Services Sequentially\n",
    "\n",
    "\n",
    "Next Steps:\n",
    "- Pipeline to conduct steps\n",
    "- use [reticulate](https://rstudio.github.io/reticulate/) for an R centric workflow"
   ]
  },
  {
   "cell_type": "code",
   "execution_count": null,
   "id": "3004b5d6-bec7-4fef-b297-ff32782af14a",
   "metadata": {},
   "outputs": [],
   "source": []
  }
 ],
 "metadata": {
  "environment": {
   "kernel": "python3",
   "name": "tf2-gpu.2-3.m94",
   "type": "gcloud",
   "uri": "gcr.io/deeplearning-platform-release/tf2-gpu.2-3:m94"
  },
  "kernelspec": {
   "display_name": "Python 3",
   "language": "python",
   "name": "python3"
  },
  "language_info": {
   "codemirror_mode": {
    "name": "ipython",
    "version": 3
   },
   "file_extension": ".py",
   "mimetype": "text/x-python",
   "name": "python",
   "nbconvert_exporter": "python",
   "pygments_lexer": "ipython3",
   "version": "3.7.12"
  }
 },
 "nbformat": 4,
 "nbformat_minor": 5
}
