{
 "cells": [
  {
   "cell_type": "markdown",
   "id": "6b59f1fb-5557-4f89-9ee6-505e1ccc8509",
   "metadata": {},
   "source": [
    "# 03Tools - Pipeline Example 1\n",
    "\n",
    "**Deploying the current best model to an endpoint**\n",
    "\n",
    "The notebooks `03a` through `03f` all train ML models with different techniques using the same training data.  This might represent:\n",
    "- multiple coworkers working on the same project or\n",
    "- different approaches being tried at different times\n",
    "- continuous development of multiple techniques in parallel\n",
    "\n",
    "In each attempt, the final model is registered to Vertex AI Model Registry as the latest, best attempt for the approach.  All of the model are registered with the same label value for `series`.  Using this label, we could routinely review all the approaches and pick the \"current\" best model for the domain.\n",
    "\n",
    "An example workflow might be:\n",
    "\n",
    "# **PLACE THE OUTLINE HERE**\n",
    "\n",
    "**Pipelines**\n",
    "When the workflow includes multiple steps with direct dependicies we have a pipeline.  Using Vertex AI Pipelines we can do all these steps in a single serverless manner.  Each of the steps of our workflow outlined above turn into components.  The components are connected through inputs and outputs.  \n",
    "\n",
    "**Prerequisites:**\n",
    "-  One or More of `03a`, `03b`, `03c`, `03d`, `03e`, `03f`\n",
    "    - Each of these register a model/version in the Vertex AI Model Registry\n",
    "\n",
    "**Resources:**\n",
    "- [Introduction to Vertex AI Pipelines](https://cloud.google.com/vertex-ai/docs/pipelines/components-introduction)\n",
    "- [Pre-Built Components](https://cloud.google.com/vertex-ai/docs/pipelines/gcpc-list)\n",
    "    - [SDK Documentation](https://google-cloud-pipeline-components.readthedocs.io/page/)\n",
    "- [Custom Components](https://cloud.google.com/vertex-ai/docs/pipelines/build-own-components)\n",
    "    - [Pipleines SDK](https://www.kubeflow.org/docs/components/pipelines/sdk-v2/v2-compatibility/)\n",
    "\n",
    "**Conceptual Flow & Workflow**\n",
    "<p align=\"center\">\n",
    "  <img alt=\"Conceptual Flow\" src=\"../architectures/slides/03tools_pipe1_arch.png\" width=\"45%\">\n",
    "&nbsp; &nbsp; &nbsp; &nbsp;\n",
    "  <img alt=\"Workflow\" src=\"../architectures/slides/03tools_pipe1_console.png\" width=\"45%\">\n",
    "</p>"
   ]
  },
  {
   "cell_type": "markdown",
   "id": "39de3982-2555-4d5c-bae6-8e7d35710557",
   "metadata": {
    "tags": []
   },
   "source": [
    "---\n",
    "## Setup"
   ]
  },
  {
   "cell_type": "markdown",
   "id": "f870ab11-b5dc-4378-830c-b39feaaa5384",
   "metadata": {},
   "source": [
    "inputs:"
   ]
  },
  {
   "cell_type": "code",
   "execution_count": 1,
   "id": "de005cc5-f141-4593-9f00-6d4da186424f",
   "metadata": {},
   "outputs": [
    {
     "data": {
      "text/plain": [
       "'statmike-mlops-349915'"
      ]
     },
     "execution_count": 1,
     "metadata": {},
     "output_type": "execute_result"
    }
   ],
   "source": [
    "project = !gcloud config get-value project\n",
    "PROJECT_ID = project[0]\n",
    "PROJECT_ID"
   ]
  },
  {
   "cell_type": "code",
   "execution_count": 2,
   "id": "bb73f2d6-e658-445c-8a2a-3c65edfe423a",
   "metadata": {},
   "outputs": [],
   "source": [
    "REGION = 'us-central1'\n",
    "EXPERIMENT = 'pipeline_1'\n",
    "SERIES = '03'\n",
    "\n",
    "# source data\n",
    "BQ_PROJECT = PROJECT_ID\n",
    "BQ_DATASET = 'fraud'\n",
    "BQ_TABLE = 'fraud_prepped'\n",
    "\n",
    "# Model Training\n",
    "VAR_TARGET = 'Class'\n",
    "VAR_OMIT = 'transaction_id' # add more variables to the string with space delimiters"
   ]
  },
  {
   "cell_type": "markdown",
   "id": "6fc1e984-dcde-4348-a72a-6848ac2a7538",
   "metadata": {},
   "source": [
    "packages:"
   ]
  },
  {
   "cell_type": "code",
   "execution_count": 3,
   "id": "968c1a4a-512f-4553-8e8c-130df1100a0e",
   "metadata": {},
   "outputs": [],
   "source": [
    "from google.cloud import aiplatform\n",
    "from google.cloud import bigquery\n",
    "from datetime import datetime\n",
    "\n",
    "from datetime import datetime\n",
    "from typing import NamedTuple\n",
    "\n",
    "from kfp import dsl\n",
    "from kfp.v2 import compiler\n",
    "from kfp.v2.dsl import Artifact, Input, Metrics, Output, component"
   ]
  },
  {
   "cell_type": "markdown",
   "id": "216f8e48-531b-45b3-ad29-b64557cab774",
   "metadata": {},
   "source": [
    "clients:"
   ]
  },
  {
   "cell_type": "code",
   "execution_count": 4,
   "id": "cbd2df68-d747-45e7-9448-ec9454508407",
   "metadata": {},
   "outputs": [],
   "source": [
    "aiplatform.init(project=PROJECT_ID, location=REGION)\n",
    "bq = bigquery.Client()"
   ]
  },
  {
   "cell_type": "markdown",
   "id": "7f01eff3-dd34-4842-b477-bd9d72314a8c",
   "metadata": {},
   "source": [
    "parameters:"
   ]
  },
  {
   "cell_type": "code",
   "execution_count": 5,
   "id": "a4ca5abe-d716-4376-b7e7-9a8b6f8d45e4",
   "metadata": {},
   "outputs": [],
   "source": [
    "TIMESTAMP = datetime.now().strftime(\"%Y%m%d%H%M%S\")\n",
    "BUCKET = PROJECT_ID\n",
    "URI = f\"gs://{BUCKET}/{DATANAME}/pipelines/{EXPERIMENT}\"\n",
    "DIR = f\"temp/{NOTEBOOK}\""
   ]
  },
  {
   "cell_type": "code",
   "execution_count": 6,
   "id": "4b750a1d-5080-4136-a9de-0d345147a26b",
   "metadata": {},
   "outputs": [
    {
     "data": {
      "text/plain": [
       "'1026793852137-compute@developer.gserviceaccount.com'"
      ]
     },
     "execution_count": 6,
     "metadata": {},
     "output_type": "execute_result"
    }
   ],
   "source": [
    "# Give service account roles/storage.objectAdmin permissions\n",
    "# Console > IMA > Select Account <projectnumber>-compute@developer.gserviceaccount.com > edit - give role\n",
    "SERVICE_ACCOUNT = !gcloud config list --format='value(core.account)' \n",
    "SERVICE_ACCOUNT = SERVICE_ACCOUNT[0]\n",
    "SERVICE_ACCOUNT"
   ]
  },
  {
   "cell_type": "markdown",
   "id": "81f1d92b-35ec-4925-8aa2-e63a0dd84267",
   "metadata": {},
   "source": [
    "environment:"
   ]
  },
  {
   "cell_type": "code",
   "execution_count": 7,
   "id": "91e41643-6611-41dc-9519-ac0b129457d6",
   "metadata": {},
   "outputs": [],
   "source": [
    "#!rm -rf {DIR}\n",
    "#!mkdir -p {DIR}"
   ]
  },
  {
   "cell_type": "markdown",
   "id": "dc790f5f-1805-4d09-90c9-a05f632f8571",
   "metadata": {},
   "source": [
    "---"
   ]
  },
  {
   "cell_type": "markdown",
   "id": "e02a43fa-c7a1-4336-91d1-d6d17a523513",
   "metadata": {},
   "source": [
    "## Pipeline\n",
    "\n",
    "This section follows the process I take to build a workflow as a Vertex AI Pipeline.  \n",
    "1. Create an outline of the workflow\n",
    "2. Prepare components, custom or prebuilt for each step\n",
    "3. Define the pipeline\n",
    "4. Compile and run the pipeline\n",
    "\n",
    "The build process can be iterative where 2, 3, and 4 and created and tested as iterative steps."
   ]
  },
  {
   "cell_type": "markdown",
   "id": "3d6d632c-8f90-455e-a207-d46ad0100eb4",
   "metadata": {},
   "source": [
    "### 1 - Outline Pipeline"
   ]
  },
  {
   "cell_type": "markdown",
   "id": "b979a503-704f-4fd7-8aa8-cb95796d8807",
   "metadata": {},
   "source": [
    "- Candidate Review path:\n",
    "- Get list of candidate models: Vertex AI Model Registry where labels.series={SERIES} and version_alias=default\n",
    "- Loop (async) over list of candidate models\n",
    "    - BigqueryEvaluateModelJobOp\n",
    "    - BigqueryMLConfusionMatrixJobOp\n",
    "    - BigqueryMLRocCurveJobOp\n",
    "- Pick the best candidate model\n",
    "- Current model review path:\n",
    "- Check for endpoint, create if needed\n",
    "- Get the deployed model with most traffic, if any\n",
    "    - BigqueryEvaluateModelJobOp\n",
    "    - BigqueryMLConfusionMatrixJobOp\n",
    "    - BigqueryMLRocCurveJobOp\n",
    "- Compare And Update Path:\n",
    "- Condition: if best > deployed then deploy\n",
    "- test prediction on endpoint\n",
    "- Condition: if prediction passes undeploy previous model, else move traffic back to previous model"
   ]
  },
  {
   "cell_type": "markdown",
   "id": "965a9a23-2cab-45bc-b60f-8699a0ee0d5f",
   "metadata": {},
   "source": [
    "### 2 - Prepare Components"
   ]
  },
  {
   "cell_type": "markdown",
   "id": "045ee8ed-a458-4f7d-9be5-d56a4c46d9bc",
   "metadata": {},
   "source": [
    "#### Component 1"
   ]
  },
  {
   "cell_type": "code",
   "execution_count": null,
   "id": "694cc82a-ff9b-44a9-90d6-d9388117a858",
   "metadata": {},
   "outputs": [],
   "source": []
  },
  {
   "cell_type": "markdown",
   "id": "7e78b2d5-891c-4e3d-aab6-12381b95159f",
   "metadata": {},
   "source": [
    "#### Component 2"
   ]
  },
  {
   "cell_type": "code",
   "execution_count": null,
   "id": "ddea2699-fc3b-4872-a912-afdbf1328947",
   "metadata": {},
   "outputs": [],
   "source": []
  },
  {
   "cell_type": "markdown",
   "id": "4ccd098e-8045-4c9c-8577-e7855cbce6e4",
   "metadata": {},
   "source": [
    "#### Component 3"
   ]
  },
  {
   "cell_type": "code",
   "execution_count": null,
   "id": "4c8c80ad-0ede-4c4c-8bd6-a7609318cc44",
   "metadata": {},
   "outputs": [],
   "source": []
  },
  {
   "cell_type": "markdown",
   "id": "7978a6bb-ee9a-498e-9ec9-41716204b636",
   "metadata": {},
   "source": [
    "#### Component 4"
   ]
  },
  {
   "cell_type": "code",
   "execution_count": null,
   "id": "6ef4a07e-22fd-4035-aba6-d9c3d794cf2c",
   "metadata": {},
   "outputs": [],
   "source": []
  },
  {
   "cell_type": "markdown",
   "id": "1ff0b771-1b67-4eca-939e-44e5c6279086",
   "metadata": {},
   "source": [
    "#### Component 5"
   ]
  },
  {
   "cell_type": "code",
   "execution_count": null,
   "id": "92b66d0f-9b07-42ec-8a9d-96b5488093a5",
   "metadata": {},
   "outputs": [],
   "source": []
  },
  {
   "cell_type": "markdown",
   "id": "41be29e5-cf54-4ec4-b230-05ea70bb3759",
   "metadata": {},
   "source": [
    "### 3 - Define Pipeline"
   ]
  },
  {
   "cell_type": "code",
   "execution_count": null,
   "id": "94adf436-290e-4b63-b21d-5738df88fe38",
   "metadata": {},
   "outputs": [],
   "source": [
    "@dsl.pipeline(\n",
    "    name = f'series-{SERIES}-tournament',\n",
    "    description = f'Update endpoint with best model.'\n",
    ")\n"
   ]
  },
  {
   "cell_type": "markdown",
   "id": "b76e41d1-b009-4fbe-b940-0466534f89f5",
   "metadata": {},
   "source": [
    "### 4 - Compile And Run Pipeline"
   ]
  },
  {
   "cell_type": "markdown",
   "id": "6048df17-29fb-4174-916b-9892aae3ddf3",
   "metadata": {},
   "source": [
    "#### Collect Inputs"
   ]
  },
  {
   "cell_type": "code",
   "execution_count": null,
   "id": "4763b950-5e86-4f81-b5c4-3a74fc897d22",
   "metadata": {},
   "outputs": [],
   "source": [
    "query = f\"\"\"\n",
    "CREATE OR REPLACE VIEW `{BQ_PROJECT}.{BQ_DATASET}.{BQ_TABLE}_TEST` AS\n",
    "    SELECT * EXCEPT({','.join(VAR_OMIT.split())}, splits),\n",
    "    FROM `{BQ_PROJECT}.{BQ_DATASET}.{BQ_TABLE}`\n",
    "    WHERE splits = 'TEST'\n",
    "\"\"\"\n",
    "job = bq.query(query = query)\n",
    "job.result()"
   ]
  },
  {
   "cell_type": "code",
   "execution_count": null,
   "id": "61ac603f-c25b-45fd-b1db-2ca64eb2b956",
   "metadata": {},
   "outputs": [],
   "source": [
    "parameter_values = {\n",
    "    \"project\" : PROJECT_ID},\n",
    "    \"region\" : REGION,\n",
    "    \"experiment\" : EXPERIMENT,\n",
    "    \"series\": SERIES,\n",
    "    \"bq_test\": f'{BQ_PROJECT}.{BQ_DATASET}.{BQ_TABLE}_TEST'\n",
    "}"
   ]
  },
  {
   "cell_type": "markdown",
   "id": "f65a8ddc-c632-4a63-ae37-2cd9b163251c",
   "metadata": {},
   "source": [
    "#### Compile Pipeline"
   ]
  },
  {
   "cell_type": "code",
   "execution_count": null,
   "id": "dd5f5fcf-08b4-4eeb-9f6c-8703a591691b",
   "metadata": {},
   "outputs": [],
   "source": [
    "kfp.v2.compiler.Compiler().compile(\n",
    "    pipeline_func = pipeline,\n",
    "    package_path = f\"{DIR}/{NOTEBOOK}.json\"\n",
    ")"
   ]
  },
  {
   "cell_type": "markdown",
   "id": "3546e428-a295-4dff-b381-baa9c99a899e",
   "metadata": {},
   "source": [
    "#### Define Pipeline Job\n",
    "Using compiled pipeline:"
   ]
  },
  {
   "cell_type": "code",
   "execution_count": null,
   "id": "c3acb880-8412-40b4-972b-068e30f0926a",
   "metadata": {},
   "outputs": [],
   "source": [
    "pipeline_job = aiplatform.PipelineJob(\n",
    "    display_name = f\"{NOTEBOOK}_tournament\",\n",
    "    template_path = f\"{DIR}/{NOTEBOOK}.json\",\n",
    "    parameter_values = parameter_values,\n",
    "    pipeline_root = ,\n",
    "    enable_caching = False,\n",
    "    labels = {}\n",
    ")"
   ]
  },
  {
   "cell_type": "markdown",
   "id": "446bff5d-ffca-4d05-8090-fa97f52e9c92",
   "metadata": {},
   "source": [
    "#### Submit Pipeline Job"
   ]
  },
  {
   "cell_type": "code",
   "execution_count": null,
   "id": "04b64989-573e-4452-bc9c-dfe68dc8bfed",
   "metadata": {},
   "outputs": [],
   "source": [
    "response = pipeline_job.submit(\n",
    "    service_account = SERVICE_ACCOUNT\n",
    ")"
   ]
  },
  {
   "cell_type": "markdown",
   "id": "9dbd289e-dde8-4c6f-ad9d-c6946793158a",
   "metadata": {},
   "source": [
    "#### Wait On Pipeline Job"
   ]
  },
  {
   "cell_type": "code",
   "execution_count": null,
   "id": "dd7251a9-d2b6-4fa3-a442-b9f644b8675e",
   "metadata": {},
   "outputs": [],
   "source": [
    "pipeline_job.wait()"
   ]
  },
  {
   "cell_type": "markdown",
   "id": "7180f1ea-18cc-4ac7-be58-73a12d04cc1c",
   "metadata": {},
   "source": [
    "### Get Parameters and Metrics From Pipeline Job"
   ]
  },
  {
   "cell_type": "code",
   "execution_count": null,
   "id": "44550d79-ead6-4b83-850f-6ae4e8b18def",
   "metadata": {},
   "outputs": [],
   "source": [
    "aiplatform.get_pipline_df(\n",
    "    pipeline = \n",
    ")"
   ]
  },
  {
   "cell_type": "markdown",
   "id": "24191d22-46dd-4145-bbb9-ec4a6784a40a",
   "metadata": {},
   "source": [
    "---\n",
    "## Remove Resources\n",
    "see notebook \"99 - Cleanup\""
   ]
  }
 ],
 "metadata": {
  "environment": {
   "kernel": "python3",
   "name": "tf2-gpu.2-3.m94",
   "type": "gcloud",
   "uri": "gcr.io/deeplearning-platform-release/tf2-gpu.2-3:m94"
  },
  "kernelspec": {
   "display_name": "Python 3",
   "language": "python",
   "name": "python3"
  },
  "language_info": {
   "codemirror_mode": {
    "name": "ipython",
    "version": 3
   },
   "file_extension": ".py",
   "mimetype": "text/x-python",
   "name": "python",
   "nbconvert_exporter": "python",
   "pygments_lexer": "ipython3",
   "version": "3.7.12"
  },
  "toc-autonumbering": false
 },
 "nbformat": 4,
 "nbformat_minor": 5
}
