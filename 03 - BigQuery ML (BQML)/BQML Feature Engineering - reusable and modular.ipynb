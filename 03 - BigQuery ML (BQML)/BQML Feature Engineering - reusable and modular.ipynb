{
 "cells": [
  {
   "cell_type": "markdown",
   "id": "4f33bf0f-c2a6-4dd6-9307-d30c10854218",
   "metadata": {},
   "source": [
    "![ga4](https://www.google-analytics.com/collect?v=2&tid=G-6VDTYWLKX6&cid=1&en=page_view&sid=1&dl=statmike%2Fvertex-ai-mlops%2F03+-+BigQuery+ML+%28BQML%29&dt=BQML+Feature+Engineering+-+reuseable+modular.ipynb)\n",
    "\n",
    "# BigQuery ML (BQML) Feature Engineering - Reusable and Modular"
   ]
  },
  {
   "cell_type": "markdown",
   "id": "35fce6f5-eef5-4989-848c-50430f6e4ca5",
   "metadata": {
    "id": "od_UkDpvRmgD"
   },
   "source": [
    "---\n",
    "## Colab Setup\n",
    "\n",
    "To run this notebook in Colab click [![Open In Colab](https://colab.research.google.com/assets/colab-badge.svg)](https://colab.research.google.com/github/statmike/vertex-ai-mlops/blob/main/Applied%20GenAI/Vertex%20AI%20GenAI%20For%20Document%20Q&A%20v2%20-%20MLB%20Rules%20For%20Baseball.ipynb) and run the cells in this section.  Otherwise, skip this section.\n",
    "\n",
    "This cell will authenticate to GCP (follow prompts in the popup)."
   ]
  },
  {
   "cell_type": "code",
   "execution_count": 1,
   "id": "5f318fef-5147-4063-8786-923390132365",
   "metadata": {
    "executionInfo": {
     "elapsed": 195,
     "status": "ok",
     "timestamp": 1683726184843,
     "user": {
      "displayName": "Mike Henderson",
      "userId": "07691629187611687318"
     },
     "user_tz": 240
    },
    "id": "8UO9FnqyKBlF"
   },
   "outputs": [],
   "source": [
    "PROJECT_ID = 'statmike-mlops-349915' # replace with project ID"
   ]
  },
  {
   "cell_type": "code",
   "execution_count": 2,
   "id": "a6c7083f-df17-49c8-b74e-8e9b1bddf659",
   "metadata": {
    "colab": {
     "base_uri": "https://localhost:8080/"
    },
    "executionInfo": {
     "elapsed": 68869,
     "status": "ok",
     "timestamp": 1683726253709,
     "user": {
      "displayName": "Mike Henderson",
      "userId": "07691629187611687318"
     },
     "user_tz": 240
    },
    "id": "N98-KK7LRkjm",
    "outputId": "09ec5008-0def-4e1a-c349-c598ee752f78"
   },
   "outputs": [],
   "source": [
    "try:\n",
    "    import google.colab\n",
    "    from google.colab import auth\n",
    "    auth.authenticate_user()\n",
    "    !gcloud config set project {PROJECT_ID}\n",
    "except Exception:\n",
    "    pass"
   ]
  },
  {
   "cell_type": "markdown",
   "id": "cee53189-e087-4b62-8cd2-adce75205abc",
   "metadata": {},
   "source": [
    "## Installs (If Needed)\n",
    "\n",
    "The clients packages may need installing in this environment. "
   ]
  },
  {
   "cell_type": "code",
   "execution_count": 77,
   "id": "4d888df6-bce7-432d-9448-3c5c288a7439",
   "metadata": {},
   "outputs": [],
   "source": [
    "# tuples of (import name, install name)\n",
    "packages = [\n",
    "    ('google.cloud.aiplatform', 'google-cloud-aiplatform'),\n",
    "    ('google.cloud.documentai', 'google-cloud-bigquery'),\n",
    "    ('google.cloud.storage', 'google-cloud-storage'),\n",
    "    ('bigframes', 'bigframes'),\n",
    "    ('pandas', 'pandas')\n",
    "]\n",
    "\n",
    "import importlib\n",
    "install = False\n",
    "for package in packages:\n",
    "    if not importlib.util.find_spec(package[0]):\n",
    "        print(f'installing package {package[1]}')\n",
    "        install = True\n",
    "        !pip install {package[1]} -U -q --user"
   ]
  },
  {
   "cell_type": "markdown",
   "id": "f61e1af9-08f1-4b3a-9040-6db34963a6c7",
   "metadata": {},
   "source": [
    "### Restart Kernel (If Installs Occured)\n",
    "\n",
    "After a kernel restart the code submission can start with the next cell after this one."
   ]
  },
  {
   "cell_type": "code",
   "execution_count": 4,
   "id": "f290a065-f28f-4802-bd71-f326ad7af1e8",
   "metadata": {},
   "outputs": [],
   "source": [
    "if install:\n",
    "    import IPython\n",
    "    app = IPython.Application.instance()\n",
    "    app.kernel.do_shutdown(True)"
   ]
  },
  {
   "cell_type": "markdown",
   "id": "361a4570-c1b1-4857-8b26-5fdb93bda135",
   "metadata": {
    "id": "appt8-yVRtJ1"
   },
   "source": [
    "---\n",
    "## Setup"
   ]
  },
  {
   "cell_type": "markdown",
   "id": "451ed609-398e-46d7-af29-855e0b7d4ca6",
   "metadata": {
    "id": "63mx2EozRxFP"
   },
   "source": [
    "Inputs"
   ]
  },
  {
   "cell_type": "code",
   "execution_count": 5,
   "id": "80c4d683-2888-43c1-874f-9e7092ad5ea2",
   "metadata": {
    "colab": {
     "base_uri": "https://localhost:8080/",
     "height": 35
    },
    "executionInfo": {
     "elapsed": 2124,
     "status": "ok",
     "timestamp": 1683726390544,
     "user": {
      "displayName": "Mike Henderson",
      "userId": "07691629187611687318"
     },
     "user_tz": 240
    },
    "id": "xzcoXjM5Rky5",
    "outputId": "b3bdcbc1-70d5-472e-aea2-42c74a42efde"
   },
   "outputs": [
    {
     "data": {
      "text/plain": [
       "'statmike-mlops-349915'"
      ]
     },
     "execution_count": 5,
     "metadata": {},
     "output_type": "execute_result"
    }
   ],
   "source": [
    "project = !gcloud config get-value project\n",
    "PROJECT_ID = project[0]\n",
    "PROJECT_ID"
   ]
  },
  {
   "cell_type": "code",
   "execution_count": 22,
   "id": "e1dad47f-a2c3-431d-a11b-5e0b318b4924",
   "metadata": {},
   "outputs": [],
   "source": [
    "REGION = 'us-central1'\n",
    "\n",
    "# specify a GCS Bucket\n",
    "GCS_BUCKET = PROJECT_ID\n",
    "\n",
    "# BigQuery Source Table\n",
    "BQ_SOURCE_TABLE = 'bigquery-public-data.ml_datasets.penguins'\n",
    "\n",
    "# BigQuery Environment Parameters\n",
    "BQ_REGION = REGION[0:2] # use multi-region\n",
    "BQ_PROJECT = PROJECT_ID\n",
    "BQ_DATASET = 'bqml'\n",
    "BQ_TABLE_PREFIX = 'feature-engineering'"
   ]
  },
  {
   "cell_type": "markdown",
   "id": "dc69bdfe-6a93-4893-999f-f16579ce0668",
   "metadata": {
    "id": "LuajVwCiO6Yg"
   },
   "source": [
    "Packages"
   ]
  },
  {
   "cell_type": "code",
   "execution_count": null,
   "id": "f0e862ff-51a9-4d67-8675-5f584eb6b905",
   "metadata": {
    "executionInfo": {
     "elapsed": 17761,
     "status": "ok",
     "timestamp": 1683726409304,
     "user": {
      "displayName": "Mike Henderson",
      "userId": "07691629187611687318"
     },
     "user_tz": 240
    },
    "id": "LVC7zzSLRk2C"
   },
   "outputs": [],
   "source": [
    "from google.cloud import bigquery\n",
    "from google.cloud import aiplatform\n",
    "from google.cloud import storage\n",
    "import bigframes.pandas as bf\n",
    "import bigframes.ml as bfml\n",
    "import pandas as pd\n",
    "\n",
    "# load BigQuery IPython Magics (for Jupyter Notebooks)\n",
    "%load_ext google.cloud.bigquery"
   ]
  },
  {
   "cell_type": "markdown",
   "id": "f4527c7d-3378-4a97-8819-bf6704cae1f5",
   "metadata": {
    "id": "EyAVFG9TO9H-"
   },
   "source": [
    "Clients"
   ]
  },
  {
   "cell_type": "code",
   "execution_count": 79,
   "id": "037b8bb2-0617-45c1-b085-042a6f2306c7",
   "metadata": {
    "executionInfo": {
     "elapsed": 19,
     "status": "ok",
     "timestamp": 1683726409306,
     "user": {
      "displayName": "Mike Henderson",
      "userId": "07691629187611687318"
     },
     "user_tz": 240
    },
    "id": "L0RPE13LOZce"
   },
   "outputs": [],
   "source": [
    "# bigquery client\n",
    "bq = bigquery.Client(project = PROJECT_ID)\n",
    "\n",
    "# vertex ai client\n",
    "aiplatform.init(project = PROJECT_ID, location = REGION)\n",
    "\n",
    "# gcs client\n",
    "gcs = storage.Client(project = PROJECT_ID)\n",
    "\n",
    "# setup BigFrames API\n",
    "bf.reset_session()\n",
    "bf.options.bigquery.project = BQ_PROJECT\n",
    "bf.options.bigquery.location = BQ_REGION\n",
    "bf_session = bf.get_global_session()"
   ]
  },
  {
   "cell_type": "markdown",
   "id": "4ab2eae1-f009-47b2-b788-07ed86dfbf8d",
   "metadata": {},
   "source": [
    "---\n",
    "## BigQuery Source Data\n",
    "\n",
    "The source table is a BigQuery Public Dataset table.  The following cell uses the BigQuery IPython magic to retrieve 5 rows of the table for review.  This data is known as [Palmer Penguins](https://allisonhorst.github.io/palmerpenguins/) data: \n",
    "\n",
    "```\n",
    "@Manual{,\n",
    "  title = {palmerpenguins: Palmer Archipelago (Antarctica) penguin data},\n",
    "  author = {Allison Marie Horst and Alison Presmanes Hill and Kristen B Gorman},\n",
    "  year = {2020},\n",
    "  note = {R package version 0.1.0},\n",
    "  doi = {10.5281/zenodo.3960218},\n",
    "  url = {https://allisonhorst.github.io/palmerpenguins/},\n",
    "}\n",
    "```\n",
    "\n",
    "\n",
    "There are 334 observations of 4 numerical features (culman length, culmen depth, flipper length, body mass) and 2  categorical features (island, sex) that represent 3 species of penguins."
   ]
  },
  {
   "cell_type": "code",
   "execution_count": 9,
   "id": "da471a56-f3f0-4a08-861f-5babadb0e2eb",
   "metadata": {},
   "outputs": [
    {
     "data": {
      "application/vnd.jupyter.widget-view+json": {
       "model_id": "b355fe8a8ff04451abf8f043e35d07ba",
       "version_major": 2,
       "version_minor": 0
      },
      "text/plain": [
       "Query is running:   0%|          |"
      ]
     },
     "metadata": {},
     "output_type": "display_data"
    },
    {
     "data": {
      "application/vnd.jupyter.widget-view+json": {
       "model_id": "ad07934f6213428496bd533a89d02998",
       "version_major": 2,
       "version_minor": 0
      },
      "text/plain": [
       "Downloading:   0%|          |"
      ]
     },
     "metadata": {},
     "output_type": "display_data"
    },
    {
     "data": {
      "text/html": [
       "<div>\n",
       "<style scoped>\n",
       "    .dataframe tbody tr th:only-of-type {\n",
       "        vertical-align: middle;\n",
       "    }\n",
       "\n",
       "    .dataframe tbody tr th {\n",
       "        vertical-align: top;\n",
       "    }\n",
       "\n",
       "    .dataframe thead th {\n",
       "        text-align: right;\n",
       "    }\n",
       "</style>\n",
       "<table border=\"1\" class=\"dataframe\">\n",
       "  <thead>\n",
       "    <tr style=\"text-align: right;\">\n",
       "      <th></th>\n",
       "      <th>species</th>\n",
       "      <th>island</th>\n",
       "      <th>culmen_length_mm</th>\n",
       "      <th>culmen_depth_mm</th>\n",
       "      <th>flipper_length_mm</th>\n",
       "      <th>body_mass_g</th>\n",
       "      <th>sex</th>\n",
       "    </tr>\n",
       "  </thead>\n",
       "  <tbody>\n",
       "    <tr>\n",
       "      <th>0</th>\n",
       "      <td>Adelie Penguin (Pygoscelis adeliae)</td>\n",
       "      <td>Dream</td>\n",
       "      <td>36.6</td>\n",
       "      <td>18.4</td>\n",
       "      <td>184.0</td>\n",
       "      <td>3475.0</td>\n",
       "      <td>FEMALE</td>\n",
       "    </tr>\n",
       "    <tr>\n",
       "      <th>1</th>\n",
       "      <td>Adelie Penguin (Pygoscelis adeliae)</td>\n",
       "      <td>Dream</td>\n",
       "      <td>39.8</td>\n",
       "      <td>19.1</td>\n",
       "      <td>184.0</td>\n",
       "      <td>4650.0</td>\n",
       "      <td>MALE</td>\n",
       "    </tr>\n",
       "    <tr>\n",
       "      <th>2</th>\n",
       "      <td>Adelie Penguin (Pygoscelis adeliae)</td>\n",
       "      <td>Dream</td>\n",
       "      <td>40.9</td>\n",
       "      <td>18.9</td>\n",
       "      <td>184.0</td>\n",
       "      <td>3900.0</td>\n",
       "      <td>MALE</td>\n",
       "    </tr>\n",
       "    <tr>\n",
       "      <th>3</th>\n",
       "      <td>Chinstrap penguin (Pygoscelis antarctica)</td>\n",
       "      <td>Dream</td>\n",
       "      <td>46.5</td>\n",
       "      <td>17.9</td>\n",
       "      <td>192.0</td>\n",
       "      <td>3500.0</td>\n",
       "      <td>FEMALE</td>\n",
       "    </tr>\n",
       "    <tr>\n",
       "      <th>4</th>\n",
       "      <td>Adelie Penguin (Pygoscelis adeliae)</td>\n",
       "      <td>Dream</td>\n",
       "      <td>37.3</td>\n",
       "      <td>16.8</td>\n",
       "      <td>192.0</td>\n",
       "      <td>3000.0</td>\n",
       "      <td>FEMALE</td>\n",
       "    </tr>\n",
       "  </tbody>\n",
       "</table>\n",
       "</div>"
      ],
      "text/plain": [
       "                                     species island  culmen_length_mm  \\\n",
       "0        Adelie Penguin (Pygoscelis adeliae)  Dream              36.6   \n",
       "1        Adelie Penguin (Pygoscelis adeliae)  Dream              39.8   \n",
       "2        Adelie Penguin (Pygoscelis adeliae)  Dream              40.9   \n",
       "3  Chinstrap penguin (Pygoscelis antarctica)  Dream              46.5   \n",
       "4        Adelie Penguin (Pygoscelis adeliae)  Dream              37.3   \n",
       "\n",
       "   culmen_depth_mm  flipper_length_mm  body_mass_g     sex  \n",
       "0             18.4              184.0       3475.0  FEMALE  \n",
       "1             19.1              184.0       4650.0    MALE  \n",
       "2             18.9              184.0       3900.0    MALE  \n",
       "3             17.9              192.0       3500.0  FEMALE  \n",
       "4             16.8              192.0       3000.0  FEMALE  "
      ]
     },
     "execution_count": 9,
     "metadata": {},
     "output_type": "execute_result"
    }
   ],
   "source": [
    "%%bigquery\n",
    "SELECT *\n",
    "FROM `bigquery-public-data.ml_datasets.penguins`\n",
    "LIMIT 5"
   ]
  },
  {
   "cell_type": "markdown",
   "id": "03441bd7-02d6-47be-8360-0af94fdce55c",
   "metadata": {},
   "source": [
    "Review the mean values of each measurement within `species`:"
   ]
  },
  {
   "cell_type": "code",
   "execution_count": 10,
   "id": "7456a1d0-21d8-4591-b01e-3f96d9fe9cd2",
   "metadata": {},
   "outputs": [
    {
     "data": {
      "application/vnd.jupyter.widget-view+json": {
       "model_id": "ccae549b137b40a7b4b5d23345f8c64b",
       "version_major": 2,
       "version_minor": 0
      },
      "text/plain": [
       "Query is running:   0%|          |"
      ]
     },
     "metadata": {},
     "output_type": "display_data"
    },
    {
     "data": {
      "application/vnd.jupyter.widget-view+json": {
       "model_id": "299b1b4877ca4ad0970b1bb1369f125a",
       "version_major": 2,
       "version_minor": 0
      },
      "text/plain": [
       "Downloading:   0%|          |"
      ]
     },
     "metadata": {},
     "output_type": "display_data"
    },
    {
     "data": {
      "text/html": [
       "<div>\n",
       "<style scoped>\n",
       "    .dataframe tbody tr th:only-of-type {\n",
       "        vertical-align: middle;\n",
       "    }\n",
       "\n",
       "    .dataframe tbody tr th {\n",
       "        vertical-align: top;\n",
       "    }\n",
       "\n",
       "    .dataframe thead th {\n",
       "        text-align: right;\n",
       "    }\n",
       "</style>\n",
       "<table border=\"1\" class=\"dataframe\">\n",
       "  <thead>\n",
       "    <tr style=\"text-align: right;\">\n",
       "      <th></th>\n",
       "      <th>species</th>\n",
       "      <th>count</th>\n",
       "      <th>mean_culmen_length</th>\n",
       "      <th>mean_culment_depth</th>\n",
       "      <th>mean_flipper_length</th>\n",
       "      <th>mean_body_mass</th>\n",
       "    </tr>\n",
       "  </thead>\n",
       "  <tbody>\n",
       "    <tr>\n",
       "      <th>0</th>\n",
       "      <td>Adelie Penguin (Pygoscelis adeliae)</td>\n",
       "      <td>152</td>\n",
       "      <td>38.791391</td>\n",
       "      <td>18.346358</td>\n",
       "      <td>189.953642</td>\n",
       "      <td>3700.662252</td>\n",
       "    </tr>\n",
       "    <tr>\n",
       "      <th>1</th>\n",
       "      <td>Chinstrap penguin (Pygoscelis antarctica)</td>\n",
       "      <td>68</td>\n",
       "      <td>48.833824</td>\n",
       "      <td>18.420588</td>\n",
       "      <td>195.823529</td>\n",
       "      <td>3733.088235</td>\n",
       "    </tr>\n",
       "    <tr>\n",
       "      <th>2</th>\n",
       "      <td>Gentoo penguin (Pygoscelis papua)</td>\n",
       "      <td>124</td>\n",
       "      <td>47.504878</td>\n",
       "      <td>14.982114</td>\n",
       "      <td>217.186992</td>\n",
       "      <td>5076.016260</td>\n",
       "    </tr>\n",
       "  </tbody>\n",
       "</table>\n",
       "</div>"
      ],
      "text/plain": [
       "                                     species  count  mean_culmen_length  \\\n",
       "0        Adelie Penguin (Pygoscelis adeliae)    152           38.791391   \n",
       "1  Chinstrap penguin (Pygoscelis antarctica)     68           48.833824   \n",
       "2          Gentoo penguin (Pygoscelis papua)    124           47.504878   \n",
       "\n",
       "   mean_culment_depth  mean_flipper_length  mean_body_mass  \n",
       "0           18.346358           189.953642     3700.662252  \n",
       "1           18.420588           195.823529     3733.088235  \n",
       "2           14.982114           217.186992     5076.016260  "
      ]
     },
     "execution_count": 10,
     "metadata": {},
     "output_type": "execute_result"
    }
   ],
   "source": [
    "%%bigquery\n",
    "SELECT species, count(*) as count,\n",
    "    AVG(culmen_length_mm) as mean_culmen_length,\n",
    "    AVG(culmen_depth_mm) as mean_culment_depth,\n",
    "    AVG(flipper_length_mm) as mean_flipper_length,\n",
    "    AVG(body_mass_g) as mean_body_mass\n",
    "FROM `bigquery-public-data.ml_datasets.penguins`\n",
    "GROUP BY species"
   ]
  },
  {
   "cell_type": "markdown",
   "id": "36668bbc-db31-407c-b9f0-529403f3a767",
   "metadata": {},
   "source": [
    "Review the mean values of each measurement within `species` and `island`:"
   ]
  },
  {
   "cell_type": "code",
   "execution_count": 11,
   "id": "c7190fc3-dbb8-41d7-a31d-0c0e90ac4b8a",
   "metadata": {},
   "outputs": [
    {
     "data": {
      "application/vnd.jupyter.widget-view+json": {
       "model_id": "fc5467106e9b4c24b0b392bbbe271504",
       "version_major": 2,
       "version_minor": 0
      },
      "text/plain": [
       "Query is running:   0%|          |"
      ]
     },
     "metadata": {},
     "output_type": "display_data"
    },
    {
     "data": {
      "application/vnd.jupyter.widget-view+json": {
       "model_id": "92e57deeacf04017b5b7a44e12e8fa28",
       "version_major": 2,
       "version_minor": 0
      },
      "text/plain": [
       "Downloading:   0%|          |"
      ]
     },
     "metadata": {},
     "output_type": "display_data"
    },
    {
     "data": {
      "text/html": [
       "<div>\n",
       "<style scoped>\n",
       "    .dataframe tbody tr th:only-of-type {\n",
       "        vertical-align: middle;\n",
       "    }\n",
       "\n",
       "    .dataframe tbody tr th {\n",
       "        vertical-align: top;\n",
       "    }\n",
       "\n",
       "    .dataframe thead th {\n",
       "        text-align: right;\n",
       "    }\n",
       "</style>\n",
       "<table border=\"1\" class=\"dataframe\">\n",
       "  <thead>\n",
       "    <tr style=\"text-align: right;\">\n",
       "      <th></th>\n",
       "      <th>species</th>\n",
       "      <th>island</th>\n",
       "      <th>count</th>\n",
       "      <th>mean_culmen_length</th>\n",
       "      <th>mean_culment_depth</th>\n",
       "      <th>mean_flipper_length</th>\n",
       "      <th>mean_body_mass</th>\n",
       "    </tr>\n",
       "  </thead>\n",
       "  <tbody>\n",
       "    <tr>\n",
       "      <th>0</th>\n",
       "      <td>Adelie Penguin (Pygoscelis adeliae)</td>\n",
       "      <td>Dream</td>\n",
       "      <td>56</td>\n",
       "      <td>38.501786</td>\n",
       "      <td>18.251786</td>\n",
       "      <td>189.732143</td>\n",
       "      <td>3688.392857</td>\n",
       "    </tr>\n",
       "    <tr>\n",
       "      <th>1</th>\n",
       "      <td>Chinstrap penguin (Pygoscelis antarctica)</td>\n",
       "      <td>Dream</td>\n",
       "      <td>68</td>\n",
       "      <td>48.833824</td>\n",
       "      <td>18.420588</td>\n",
       "      <td>195.823529</td>\n",
       "      <td>3733.088235</td>\n",
       "    </tr>\n",
       "    <tr>\n",
       "      <th>2</th>\n",
       "      <td>Gentoo penguin (Pygoscelis papua)</td>\n",
       "      <td>Biscoe</td>\n",
       "      <td>124</td>\n",
       "      <td>47.504878</td>\n",
       "      <td>14.982114</td>\n",
       "      <td>217.186992</td>\n",
       "      <td>5076.016260</td>\n",
       "    </tr>\n",
       "    <tr>\n",
       "      <th>3</th>\n",
       "      <td>Adelie Penguin (Pygoscelis adeliae)</td>\n",
       "      <td>Biscoe</td>\n",
       "      <td>44</td>\n",
       "      <td>38.975000</td>\n",
       "      <td>18.370455</td>\n",
       "      <td>188.795455</td>\n",
       "      <td>3709.659091</td>\n",
       "    </tr>\n",
       "    <tr>\n",
       "      <th>4</th>\n",
       "      <td>Adelie Penguin (Pygoscelis adeliae)</td>\n",
       "      <td>Torgersen</td>\n",
       "      <td>52</td>\n",
       "      <td>38.950980</td>\n",
       "      <td>18.429412</td>\n",
       "      <td>191.196078</td>\n",
       "      <td>3706.372549</td>\n",
       "    </tr>\n",
       "  </tbody>\n",
       "</table>\n",
       "</div>"
      ],
      "text/plain": [
       "                                     species     island  count  \\\n",
       "0        Adelie Penguin (Pygoscelis adeliae)      Dream     56   \n",
       "1  Chinstrap penguin (Pygoscelis antarctica)      Dream     68   \n",
       "2          Gentoo penguin (Pygoscelis papua)     Biscoe    124   \n",
       "3        Adelie Penguin (Pygoscelis adeliae)     Biscoe     44   \n",
       "4        Adelie Penguin (Pygoscelis adeliae)  Torgersen     52   \n",
       "\n",
       "   mean_culmen_length  mean_culment_depth  mean_flipper_length  mean_body_mass  \n",
       "0           38.501786           18.251786           189.732143     3688.392857  \n",
       "1           48.833824           18.420588           195.823529     3733.088235  \n",
       "2           47.504878           14.982114           217.186992     5076.016260  \n",
       "3           38.975000           18.370455           188.795455     3709.659091  \n",
       "4           38.950980           18.429412           191.196078     3706.372549  "
      ]
     },
     "execution_count": 11,
     "metadata": {},
     "output_type": "execute_result"
    }
   ],
   "source": [
    "%%bigquery\n",
    "SELECT species, island, count(*) as count,\n",
    "    AVG(culmen_length_mm) as mean_culmen_length,\n",
    "    AVG(culmen_depth_mm) as mean_culment_depth,\n",
    "    AVG(flipper_length_mm) as mean_flipper_length,\n",
    "    AVG(body_mass_g) as mean_body_mass\n",
    "FROM `bigquery-public-data.ml_datasets.penguins`\n",
    "GROUP BY species, island"
   ]
  },
  {
   "cell_type": "markdown",
   "id": "d984e2ec-d6cd-4abb-aad0-6528da1252d3",
   "metadata": {},
   "source": [
    "Review the mean values of each measurment within `species` and `sex`:"
   ]
  },
  {
   "cell_type": "code",
   "execution_count": 12,
   "id": "f20f60ca-8600-4363-a9bd-099cf92a0f1e",
   "metadata": {},
   "outputs": [
    {
     "data": {
      "application/vnd.jupyter.widget-view+json": {
       "model_id": "a6c0acab0f354a4abf461e166b70ce9b",
       "version_major": 2,
       "version_minor": 0
      },
      "text/plain": [
       "Query is running:   0%|          |"
      ]
     },
     "metadata": {},
     "output_type": "display_data"
    },
    {
     "data": {
      "application/vnd.jupyter.widget-view+json": {
       "model_id": "d61db3f78e0b463daaa15ee9075984c3",
       "version_major": 2,
       "version_minor": 0
      },
      "text/plain": [
       "Downloading:   0%|          |"
      ]
     },
     "metadata": {},
     "output_type": "display_data"
    },
    {
     "data": {
      "text/html": [
       "<div>\n",
       "<style scoped>\n",
       "    .dataframe tbody tr th:only-of-type {\n",
       "        vertical-align: middle;\n",
       "    }\n",
       "\n",
       "    .dataframe tbody tr th {\n",
       "        vertical-align: top;\n",
       "    }\n",
       "\n",
       "    .dataframe thead th {\n",
       "        text-align: right;\n",
       "    }\n",
       "</style>\n",
       "<table border=\"1\" class=\"dataframe\">\n",
       "  <thead>\n",
       "    <tr style=\"text-align: right;\">\n",
       "      <th></th>\n",
       "      <th>species</th>\n",
       "      <th>sex</th>\n",
       "      <th>count</th>\n",
       "      <th>mean_culmen_length</th>\n",
       "      <th>mean_culment_depth</th>\n",
       "      <th>mean_flipper_length</th>\n",
       "      <th>mean_body_mass</th>\n",
       "    </tr>\n",
       "  </thead>\n",
       "  <tbody>\n",
       "    <tr>\n",
       "      <th>0</th>\n",
       "      <td>Adelie Penguin (Pygoscelis adeliae)</td>\n",
       "      <td>FEMALE</td>\n",
       "      <td>73</td>\n",
       "      <td>37.257534</td>\n",
       "      <td>17.621918</td>\n",
       "      <td>187.794521</td>\n",
       "      <td>3368.835616</td>\n",
       "    </tr>\n",
       "    <tr>\n",
       "      <th>1</th>\n",
       "      <td>Adelie Penguin (Pygoscelis adeliae)</td>\n",
       "      <td>MALE</td>\n",
       "      <td>73</td>\n",
       "      <td>40.390411</td>\n",
       "      <td>19.072603</td>\n",
       "      <td>192.410959</td>\n",
       "      <td>4043.493151</td>\n",
       "    </tr>\n",
       "    <tr>\n",
       "      <th>2</th>\n",
       "      <td>Chinstrap penguin (Pygoscelis antarctica)</td>\n",
       "      <td>FEMALE</td>\n",
       "      <td>34</td>\n",
       "      <td>46.573529</td>\n",
       "      <td>17.588235</td>\n",
       "      <td>191.735294</td>\n",
       "      <td>3527.205882</td>\n",
       "    </tr>\n",
       "    <tr>\n",
       "      <th>3</th>\n",
       "      <td>Chinstrap penguin (Pygoscelis antarctica)</td>\n",
       "      <td>MALE</td>\n",
       "      <td>34</td>\n",
       "      <td>51.094118</td>\n",
       "      <td>19.252941</td>\n",
       "      <td>199.911765</td>\n",
       "      <td>3938.970588</td>\n",
       "    </tr>\n",
       "    <tr>\n",
       "      <th>4</th>\n",
       "      <td>Adelie Penguin (Pygoscelis adeliae)</td>\n",
       "      <td>None</td>\n",
       "      <td>6</td>\n",
       "      <td>37.840000</td>\n",
       "      <td>18.320000</td>\n",
       "      <td>185.600000</td>\n",
       "      <td>3540.000000</td>\n",
       "    </tr>\n",
       "    <tr>\n",
       "      <th>5</th>\n",
       "      <td>Gentoo penguin (Pygoscelis papua)</td>\n",
       "      <td>None</td>\n",
       "      <td>4</td>\n",
       "      <td>46.000000</td>\n",
       "      <td>14.166667</td>\n",
       "      <td>215.333333</td>\n",
       "      <td>4491.666667</td>\n",
       "    </tr>\n",
       "    <tr>\n",
       "      <th>6</th>\n",
       "      <td>Gentoo penguin (Pygoscelis papua)</td>\n",
       "      <td>FEMALE</td>\n",
       "      <td>58</td>\n",
       "      <td>45.563793</td>\n",
       "      <td>14.237931</td>\n",
       "      <td>212.706897</td>\n",
       "      <td>4679.741379</td>\n",
       "    </tr>\n",
       "    <tr>\n",
       "      <th>7</th>\n",
       "      <td>Gentoo penguin (Pygoscelis papua)</td>\n",
       "      <td>MALE</td>\n",
       "      <td>61</td>\n",
       "      <td>49.473770</td>\n",
       "      <td>15.718033</td>\n",
       "      <td>221.540984</td>\n",
       "      <td>5484.836066</td>\n",
       "    </tr>\n",
       "    <tr>\n",
       "      <th>8</th>\n",
       "      <td>Gentoo penguin (Pygoscelis papua)</td>\n",
       "      <td>.</td>\n",
       "      <td>1</td>\n",
       "      <td>44.500000</td>\n",
       "      <td>15.700000</td>\n",
       "      <td>217.000000</td>\n",
       "      <td>4875.000000</td>\n",
       "    </tr>\n",
       "  </tbody>\n",
       "</table>\n",
       "</div>"
      ],
      "text/plain": [
       "                                     species     sex  count  \\\n",
       "0        Adelie Penguin (Pygoscelis adeliae)  FEMALE     73   \n",
       "1        Adelie Penguin (Pygoscelis adeliae)    MALE     73   \n",
       "2  Chinstrap penguin (Pygoscelis antarctica)  FEMALE     34   \n",
       "3  Chinstrap penguin (Pygoscelis antarctica)    MALE     34   \n",
       "4        Adelie Penguin (Pygoscelis adeliae)    None      6   \n",
       "5          Gentoo penguin (Pygoscelis papua)    None      4   \n",
       "6          Gentoo penguin (Pygoscelis papua)  FEMALE     58   \n",
       "7          Gentoo penguin (Pygoscelis papua)    MALE     61   \n",
       "8          Gentoo penguin (Pygoscelis papua)       .      1   \n",
       "\n",
       "   mean_culmen_length  mean_culment_depth  mean_flipper_length  mean_body_mass  \n",
       "0           37.257534           17.621918           187.794521     3368.835616  \n",
       "1           40.390411           19.072603           192.410959     4043.493151  \n",
       "2           46.573529           17.588235           191.735294     3527.205882  \n",
       "3           51.094118           19.252941           199.911765     3938.970588  \n",
       "4           37.840000           18.320000           185.600000     3540.000000  \n",
       "5           46.000000           14.166667           215.333333     4491.666667  \n",
       "6           45.563793           14.237931           212.706897     4679.741379  \n",
       "7           49.473770           15.718033           221.540984     5484.836066  \n",
       "8           44.500000           15.700000           217.000000     4875.000000  "
      ]
     },
     "execution_count": 12,
     "metadata": {},
     "output_type": "execute_result"
    }
   ],
   "source": [
    "%%bigquery\n",
    "SELECT species, sex, count(*) as count,\n",
    "    AVG(culmen_length_mm) as mean_culmen_length,\n",
    "    AVG(culmen_depth_mm) as mean_culment_depth,\n",
    "    AVG(flipper_length_mm) as mean_flipper_length,\n",
    "    AVG(body_mass_g) as mean_body_mass\n",
    "FROM `bigquery-public-data.ml_datasets.penguins`\n",
    "GROUP BY species, sex"
   ]
  },
  {
   "cell_type": "markdown",
   "id": "0fd958c6-160d-4c57-b1dc-cf11d9531e72",
   "metadata": {},
   "source": [
    "Which observations have missing values?"
   ]
  },
  {
   "cell_type": "code",
   "execution_count": 13,
   "id": "06a9852c-6ac0-4aa9-a971-a9d6ce6b4296",
   "metadata": {},
   "outputs": [
    {
     "data": {
      "application/vnd.jupyter.widget-view+json": {
       "model_id": "0124154e7d954dab8eea8c34ec96e8fc",
       "version_major": 2,
       "version_minor": 0
      },
      "text/plain": [
       "Query is running:   0%|          |"
      ]
     },
     "metadata": {},
     "output_type": "display_data"
    },
    {
     "data": {
      "application/vnd.jupyter.widget-view+json": {
       "model_id": "406c67b2032b4804bab4af29bc4fa63e",
       "version_major": 2,
       "version_minor": 0
      },
      "text/plain": [
       "Downloading:   0%|          |"
      ]
     },
     "metadata": {},
     "output_type": "display_data"
    },
    {
     "data": {
      "text/html": [
       "<div>\n",
       "<style scoped>\n",
       "    .dataframe tbody tr th:only-of-type {\n",
       "        vertical-align: middle;\n",
       "    }\n",
       "\n",
       "    .dataframe tbody tr th {\n",
       "        vertical-align: top;\n",
       "    }\n",
       "\n",
       "    .dataframe thead th {\n",
       "        text-align: right;\n",
       "    }\n",
       "</style>\n",
       "<table border=\"1\" class=\"dataframe\">\n",
       "  <thead>\n",
       "    <tr style=\"text-align: right;\">\n",
       "      <th></th>\n",
       "      <th>species</th>\n",
       "      <th>island</th>\n",
       "      <th>culmen_length_mm</th>\n",
       "      <th>culmen_depth_mm</th>\n",
       "      <th>flipper_length_mm</th>\n",
       "      <th>body_mass_g</th>\n",
       "      <th>sex</th>\n",
       "    </tr>\n",
       "  </thead>\n",
       "  <tbody>\n",
       "    <tr>\n",
       "      <th>0</th>\n",
       "      <td>Adelie Penguin (Pygoscelis adeliae)</td>\n",
       "      <td>Dream</td>\n",
       "      <td>37.5</td>\n",
       "      <td>18.9</td>\n",
       "      <td>179.0</td>\n",
       "      <td>2975.0</td>\n",
       "      <td>None</td>\n",
       "    </tr>\n",
       "    <tr>\n",
       "      <th>1</th>\n",
       "      <td>Gentoo penguin (Pygoscelis papua)</td>\n",
       "      <td>Biscoe</td>\n",
       "      <td>NaN</td>\n",
       "      <td>NaN</td>\n",
       "      <td>NaN</td>\n",
       "      <td>NaN</td>\n",
       "      <td>None</td>\n",
       "    </tr>\n",
       "    <tr>\n",
       "      <th>2</th>\n",
       "      <td>Gentoo penguin (Pygoscelis papua)</td>\n",
       "      <td>Biscoe</td>\n",
       "      <td>47.3</td>\n",
       "      <td>13.8</td>\n",
       "      <td>216.0</td>\n",
       "      <td>4725.0</td>\n",
       "      <td>None</td>\n",
       "    </tr>\n",
       "    <tr>\n",
       "      <th>3</th>\n",
       "      <td>Gentoo penguin (Pygoscelis papua)</td>\n",
       "      <td>Biscoe</td>\n",
       "      <td>44.5</td>\n",
       "      <td>14.3</td>\n",
       "      <td>216.0</td>\n",
       "      <td>4100.0</td>\n",
       "      <td>None</td>\n",
       "    </tr>\n",
       "    <tr>\n",
       "      <th>4</th>\n",
       "      <td>Gentoo penguin (Pygoscelis papua)</td>\n",
       "      <td>Biscoe</td>\n",
       "      <td>44.5</td>\n",
       "      <td>15.7</td>\n",
       "      <td>217.0</td>\n",
       "      <td>4875.0</td>\n",
       "      <td>.</td>\n",
       "    </tr>\n",
       "    <tr>\n",
       "      <th>5</th>\n",
       "      <td>Gentoo penguin (Pygoscelis papua)</td>\n",
       "      <td>Biscoe</td>\n",
       "      <td>46.2</td>\n",
       "      <td>14.4</td>\n",
       "      <td>214.0</td>\n",
       "      <td>4650.0</td>\n",
       "      <td>None</td>\n",
       "    </tr>\n",
       "    <tr>\n",
       "      <th>6</th>\n",
       "      <td>Adelie Penguin (Pygoscelis adeliae)</td>\n",
       "      <td>Torgersen</td>\n",
       "      <td>NaN</td>\n",
       "      <td>NaN</td>\n",
       "      <td>NaN</td>\n",
       "      <td>NaN</td>\n",
       "      <td>None</td>\n",
       "    </tr>\n",
       "    <tr>\n",
       "      <th>7</th>\n",
       "      <td>Adelie Penguin (Pygoscelis adeliae)</td>\n",
       "      <td>Torgersen</td>\n",
       "      <td>34.1</td>\n",
       "      <td>18.1</td>\n",
       "      <td>193.0</td>\n",
       "      <td>3475.0</td>\n",
       "      <td>None</td>\n",
       "    </tr>\n",
       "    <tr>\n",
       "      <th>8</th>\n",
       "      <td>Adelie Penguin (Pygoscelis adeliae)</td>\n",
       "      <td>Torgersen</td>\n",
       "      <td>37.8</td>\n",
       "      <td>17.1</td>\n",
       "      <td>186.0</td>\n",
       "      <td>3300.0</td>\n",
       "      <td>None</td>\n",
       "    </tr>\n",
       "    <tr>\n",
       "      <th>9</th>\n",
       "      <td>Adelie Penguin (Pygoscelis adeliae)</td>\n",
       "      <td>Torgersen</td>\n",
       "      <td>37.8</td>\n",
       "      <td>17.3</td>\n",
       "      <td>180.0</td>\n",
       "      <td>3700.0</td>\n",
       "      <td>None</td>\n",
       "    </tr>\n",
       "    <tr>\n",
       "      <th>10</th>\n",
       "      <td>Adelie Penguin (Pygoscelis adeliae)</td>\n",
       "      <td>Torgersen</td>\n",
       "      <td>42.0</td>\n",
       "      <td>20.2</td>\n",
       "      <td>190.0</td>\n",
       "      <td>4250.0</td>\n",
       "      <td>None</td>\n",
       "    </tr>\n",
       "  </tbody>\n",
       "</table>\n",
       "</div>"
      ],
      "text/plain": [
       "                                species     island  culmen_length_mm  \\\n",
       "0   Adelie Penguin (Pygoscelis adeliae)      Dream              37.5   \n",
       "1     Gentoo penguin (Pygoscelis papua)     Biscoe               NaN   \n",
       "2     Gentoo penguin (Pygoscelis papua)     Biscoe              47.3   \n",
       "3     Gentoo penguin (Pygoscelis papua)     Biscoe              44.5   \n",
       "4     Gentoo penguin (Pygoscelis papua)     Biscoe              44.5   \n",
       "5     Gentoo penguin (Pygoscelis papua)     Biscoe              46.2   \n",
       "6   Adelie Penguin (Pygoscelis adeliae)  Torgersen               NaN   \n",
       "7   Adelie Penguin (Pygoscelis adeliae)  Torgersen              34.1   \n",
       "8   Adelie Penguin (Pygoscelis adeliae)  Torgersen              37.8   \n",
       "9   Adelie Penguin (Pygoscelis adeliae)  Torgersen              37.8   \n",
       "10  Adelie Penguin (Pygoscelis adeliae)  Torgersen              42.0   \n",
       "\n",
       "    culmen_depth_mm  flipper_length_mm  body_mass_g   sex  \n",
       "0              18.9              179.0       2975.0  None  \n",
       "1               NaN                NaN          NaN  None  \n",
       "2              13.8              216.0       4725.0  None  \n",
       "3              14.3              216.0       4100.0  None  \n",
       "4              15.7              217.0       4875.0     .  \n",
       "5              14.4              214.0       4650.0  None  \n",
       "6               NaN                NaN          NaN  None  \n",
       "7              18.1              193.0       3475.0  None  \n",
       "8              17.1              186.0       3300.0  None  \n",
       "9              17.3              180.0       3700.0  None  \n",
       "10             20.2              190.0       4250.0  None  "
      ]
     },
     "execution_count": 13,
     "metadata": {},
     "output_type": "execute_result"
    }
   ],
   "source": [
    "%%bigquery\n",
    "SELECT *\n",
    "FROM `bigquery-public-data.ml_datasets.penguins`\n",
    "WHERE sex IS NULL OR sex = '.'\n",
    "    OR culmen_length_mm IS NULL\n",
    "    OR culmen_depth_mm IS NULL\n",
    "    OR flipper_length_mm IS NULL\n",
    "    OR body_mass_g IS NULL"
   ]
  },
  {
   "cell_type": "markdown",
   "id": "8a834c76-260f-4e2f-868b-12e3d1db4421",
   "metadata": {},
   "source": [
    "### Processing As Dataframes Using BigFrames API\n",
    "\n",
    "It can be helpful to use the `.describe()` method from Pandas.  The [BigFrames](https://cloud.google.com/python/docs/reference/bigframes/latest) API allows you to work in Python with dataframe like objects while the execution remains inside of BigQuery."
   ]
  },
  {
   "cell_type": "code",
   "execution_count": 14,
   "id": "c8b9ee2e-c343-4405-a1eb-475ac4fb6e63",
   "metadata": {},
   "outputs": [
    {
     "data": {
      "application/vnd.jupyter.widget-view+json": {
       "model_id": "09de591a0c5f4648a9b9b63fbbad707d",
       "version_major": 2,
       "version_minor": 0
      },
      "text/plain": [
       "HTML(value='Query job a2c9ecf8-425f-4ade-835c-35b0a504a8bf is RUNNING. <a target=\"_blank\" href=\"https://consol…"
      ]
     },
     "metadata": {},
     "output_type": "display_data"
    }
   ],
   "source": [
    "df = bf.read_gbq(BQ_SOURCE_TABLE)"
   ]
  },
  {
   "cell_type": "code",
   "execution_count": 15,
   "id": "40ceca0a-e36d-4a89-8978-3ef34ecdb00e",
   "metadata": {},
   "outputs": [
    {
     "data": {
      "application/vnd.jupyter.widget-view+json": {
       "model_id": "99666cfac81e4a1db88207d719cbb358",
       "version_major": 2,
       "version_minor": 0
      },
      "text/plain": [
       "HTML(value='Query job 1dd51f19-0155-4fa5-a119-62c3448a3124 is DONE. 0 Bytes processed. <a target=\"_blank\" href…"
      ]
     },
     "metadata": {},
     "output_type": "display_data"
    },
    {
     "data": {
      "application/vnd.jupyter.widget-view+json": {
       "model_id": "bdef64f13ba047b7abda4cd79cef8e46",
       "version_major": 2,
       "version_minor": 0
      },
      "text/plain": [
       "HTML(value='Query job 94c259a8-5ee7-42ec-b41f-13c274dfe3a4 is DONE. 10.9 kB processed. <a target=\"_blank\" href…"
      ]
     },
     "metadata": {},
     "output_type": "display_data"
    },
    {
     "data": {
      "application/vnd.jupyter.widget-view+json": {
       "model_id": "1d4ea47d78e04872b7458c179bd9dcb9",
       "version_major": 2,
       "version_minor": 0
      },
      "text/plain": [
       "HTML(value='Query job 1b9ddefc-9300-4a59-b5c3-37e26ae125c2 is DONE. 0 Bytes processed. <a target=\"_blank\" href…"
      ]
     },
     "metadata": {},
     "output_type": "display_data"
    },
    {
     "data": {
      "text/html": [
       "<div>\n",
       "<style scoped>\n",
       "    .dataframe tbody tr th:only-of-type {\n",
       "        vertical-align: middle;\n",
       "    }\n",
       "\n",
       "    .dataframe tbody tr th {\n",
       "        vertical-align: top;\n",
       "    }\n",
       "\n",
       "    .dataframe thead th {\n",
       "        text-align: right;\n",
       "    }\n",
       "</style>\n",
       "<table border=\"1\" class=\"dataframe\">\n",
       "  <thead>\n",
       "    <tr style=\"text-align: right;\">\n",
       "      <th></th>\n",
       "      <th>culmen_length_mm</th>\n",
       "      <th>culmen_depth_mm</th>\n",
       "      <th>flipper_length_mm</th>\n",
       "      <th>body_mass_g</th>\n",
       "    </tr>\n",
       "  </thead>\n",
       "  <tbody>\n",
       "    <tr>\n",
       "      <th>count</th>\n",
       "      <td>342.0</td>\n",
       "      <td>342.0</td>\n",
       "      <td>342.0</td>\n",
       "      <td>342.0</td>\n",
       "    </tr>\n",
       "    <tr>\n",
       "      <th>mean</th>\n",
       "      <td>43.92193</td>\n",
       "      <td>17.15117</td>\n",
       "      <td>200.915205</td>\n",
       "      <td>4201.754386</td>\n",
       "    </tr>\n",
       "    <tr>\n",
       "      <th>std</th>\n",
       "      <td>5.459584</td>\n",
       "      <td>1.974793</td>\n",
       "      <td>14.061714</td>\n",
       "      <td>801.954536</td>\n",
       "    </tr>\n",
       "    <tr>\n",
       "      <th>min</th>\n",
       "      <td>32.1</td>\n",
       "      <td>13.1</td>\n",
       "      <td>172.0</td>\n",
       "      <td>2700.0</td>\n",
       "    </tr>\n",
       "    <tr>\n",
       "      <th>25%</th>\n",
       "      <td>39.2</td>\n",
       "      <td>15.6</td>\n",
       "      <td>190.0</td>\n",
       "      <td>3550.0</td>\n",
       "    </tr>\n",
       "    <tr>\n",
       "      <th>50%</th>\n",
       "      <td>44.4</td>\n",
       "      <td>17.3</td>\n",
       "      <td>197.0</td>\n",
       "      <td>4050.0</td>\n",
       "    </tr>\n",
       "    <tr>\n",
       "      <th>75%</th>\n",
       "      <td>48.5</td>\n",
       "      <td>18.7</td>\n",
       "      <td>213.0</td>\n",
       "      <td>4750.0</td>\n",
       "    </tr>\n",
       "    <tr>\n",
       "      <th>max</th>\n",
       "      <td>59.6</td>\n",
       "      <td>21.5</td>\n",
       "      <td>231.0</td>\n",
       "      <td>6300.0</td>\n",
       "    </tr>\n",
       "  </tbody>\n",
       "</table>\n",
       "<p>8 rows × 4 columns</p>\n",
       "</div>[8 rows x 4 columns in total]"
      ],
      "text/plain": [
       "       culmen_length_mm  culmen_depth_mm  flipper_length_mm  body_mass_g\n",
       "count             342.0            342.0              342.0        342.0\n",
       "mean           43.92193         17.15117         200.915205  4201.754386\n",
       "std            5.459584         1.974793          14.061714   801.954536\n",
       "min                32.1             13.1              172.0       2700.0\n",
       "25%                39.2             15.6              190.0       3550.0\n",
       "50%                44.4             17.3              197.0       4050.0\n",
       "75%                48.5             18.7              213.0       4750.0\n",
       "max                59.6             21.5              231.0       6300.0\n",
       "\n",
       "[8 rows x 4 columns]"
      ]
     },
     "execution_count": 15,
     "metadata": {},
     "output_type": "execute_result"
    }
   ],
   "source": [
    "df.describe()"
   ]
  },
  {
   "cell_type": "markdown",
   "id": "d963149c-77ce-4765-bad2-53375750173b",
   "metadata": {},
   "source": [
    "---\n",
    "## BigQuery Setup\n",
    "\n",
    "This workflow uses a BigQuery Public Dataset table (reviewed above).  This section creates (or links existing) dataset in the users BigQuery project.  This dataset is used to store the model object created below."
   ]
  },
  {
   "cell_type": "markdown",
   "id": "6759be97-92e6-4e8e-9d2e-496398c70f8f",
   "metadata": {},
   "source": [
    "Create the dataset if missing:"
   ]
  },
  {
   "cell_type": "code",
   "execution_count": 16,
   "id": "229efdd8-7320-4cd2-81a2-c181614933f5",
   "metadata": {},
   "outputs": [],
   "source": [
    "ds = bigquery.Dataset(f\"{BQ_PROJECT}.{BQ_DATASET}\")\n",
    "ds.location = BQ_REGION\n",
    "ds = bq.create_dataset(dataset = ds, exists_ok = True)"
   ]
  },
  {
   "cell_type": "markdown",
   "id": "25d9323a-e74c-4d4b-8d2a-53abc036be6b",
   "metadata": {},
   "source": [
    "Review dataset attributes:"
   ]
  },
  {
   "cell_type": "code",
   "execution_count": 17,
   "id": "a6dbe25d-7b6f-43cd-88ac-7beccb1ce1ee",
   "metadata": {},
   "outputs": [
    {
     "data": {
      "text/plain": [
       "'bqml'"
      ]
     },
     "execution_count": 17,
     "metadata": {},
     "output_type": "execute_result"
    }
   ],
   "source": [
    "ds.dataset_id"
   ]
  },
  {
   "cell_type": "code",
   "execution_count": 18,
   "id": "37d81560-22d8-42e3-aa78-0664d765c15e",
   "metadata": {},
   "outputs": [
    {
     "data": {
      "text/plain": [
       "'statmike-mlops-349915'"
      ]
     },
     "execution_count": 18,
     "metadata": {},
     "output_type": "execute_result"
    }
   ],
   "source": [
    "ds.project"
   ]
  },
  {
   "cell_type": "code",
   "execution_count": 19,
   "id": "4528c5e2-5d64-4707-bd60-300cccfc3c24",
   "metadata": {},
   "outputs": [
    {
     "data": {
      "text/plain": [
       "'statmike-mlops-349915:bqml'"
      ]
     },
     "execution_count": 19,
     "metadata": {},
     "output_type": "execute_result"
    }
   ],
   "source": [
    "ds.full_dataset_id"
   ]
  },
  {
   "cell_type": "code",
   "execution_count": 20,
   "id": "a798f7bf-9eaa-48e4-8682-2d1f738bd93b",
   "metadata": {},
   "outputs": [
    {
     "data": {
      "text/plain": [
       "'/projects/statmike-mlops-349915/datasets/bqml'"
      ]
     },
     "execution_count": 20,
     "metadata": {},
     "output_type": "execute_result"
    }
   ],
   "source": [
    "ds.path"
   ]
  },
  {
   "cell_type": "code",
   "execution_count": 21,
   "id": "10afc018-fbb7-463c-a016-8b862f777739",
   "metadata": {},
   "outputs": [
    {
     "data": {
      "text/plain": [
       "'US'"
      ]
     },
     "execution_count": 21,
     "metadata": {},
     "output_type": "execute_result"
    }
   ],
   "source": [
    "ds.location"
   ]
  },
  {
   "cell_type": "markdown",
   "id": "606986f8-6686-457f-8e95-d280793b407a",
   "metadata": {},
   "source": [
    "### Add Train/Text Splits To Source Data\n",
    "\n",
    "Make a copy of the source data in the local project including a column `split` with values of 'TRAIN' and 'TEST'.  The code below shows how to do stratified sampling for balance across the categorical variable `island` within each `species`."
   ]
  },
  {
   "cell_type": "markdown",
   "id": "0b36206e-31a8-4606-afa4-a3978fcd9a59",
   "metadata": {},
   "source": [
    "Use the Python Client for BigQuery to create the source table with `split` column.  This uses an formated string in Python to construct the query string using parameters."
   ]
  },
  {
   "cell_type": "code",
   "execution_count": 23,
   "id": "551d347d-914a-40af-8a64-466b2ad60616",
   "metadata": {},
   "outputs": [
    {
     "data": {
      "text/plain": [
       "<google.cloud.bigquery.table._EmptyRowIterator at 0x7f4003e923b0>"
      ]
     },
     "execution_count": 23,
     "metadata": {},
     "output_type": "execute_result"
    }
   ],
   "source": [
    "query_job = bq.query(\n",
    "    f'''\n",
    "    CREATE OR REPLACE TABLE `{BQ_PROJECT}.{BQ_DATASET}.{BQ_TABLE_PREFIX}-source` AS\n",
    "        SELECT * EXCEPT(seq, count),\n",
    "            CASE\n",
    "                WHEN seq <= CEIL(.1 * count) THEN 'EVAL'\n",
    "                WHEN species IS NULL THEN 'EVAL'\n",
    "                ELSE 'TRAIN'\n",
    "            END AS split\n",
    "        FROM (\n",
    "            SELECT * EXCEPT(sex),\n",
    "                CASE WHEN sex = '.' THEN NULL ELSE sex END AS sex,\n",
    "                ROW_NUMBER() OVER (PARTITION BY species, island ORDER BY RAND()) as seq\n",
    "            FROM `{BQ_SOURCE_TABLE}`\n",
    "        )\n",
    "        LEFT OUTER JOIN (\n",
    "            SELECT species, island, COUNT(*) as count\n",
    "            FROM `{BQ_SOURCE_TABLE}`\n",
    "            GROUP BY species, island\n",
    "        )\n",
    "        USING(species, island)\n",
    "    '''\n",
    ")\n",
    "query_job.result()"
   ]
  },
  {
   "cell_type": "markdown",
   "id": "f523a611-45a0-4215-a759-bc9d448a6b32",
   "metadata": {},
   "source": [
    "Print out the able name:"
   ]
  },
  {
   "cell_type": "code",
   "execution_count": 24,
   "id": "a1337212-c51d-4cb0-8f52-7f2f6726d1ca",
   "metadata": {},
   "outputs": [
    {
     "name": "stdout",
     "output_type": "stream",
     "text": [
      "statmike-mlops-349915.bqml.feature-engineering-source\n"
     ]
    }
   ],
   "source": [
    "print(f'{BQ_PROJECT}.{BQ_DATASET}.{BQ_TABLE_PREFIX}-source')"
   ]
  },
  {
   "cell_type": "markdown",
   "id": "47f6df51-e717-4ec2-a112-9a0a7ed70bf0",
   "metadata": {},
   "source": [
    "Review the TRAIN/TEST split:"
   ]
  },
  {
   "cell_type": "code",
   "execution_count": 25,
   "id": "3a79e14f-04c9-4975-a324-417b263b8788",
   "metadata": {},
   "outputs": [
    {
     "data": {
      "application/vnd.jupyter.widget-view+json": {
       "model_id": "097d8acfdb8f4c41931d669e49646494",
       "version_major": 2,
       "version_minor": 0
      },
      "text/plain": [
       "Query is running:   0%|          |"
      ]
     },
     "metadata": {},
     "output_type": "display_data"
    },
    {
     "data": {
      "application/vnd.jupyter.widget-view+json": {
       "model_id": "52414212b0e24dc9bf4f2f40bdf1f53d",
       "version_major": 2,
       "version_minor": 0
      },
      "text/plain": [
       "Downloading:   0%|          |"
      ]
     },
     "metadata": {},
     "output_type": "display_data"
    },
    {
     "data": {
      "text/html": [
       "<div>\n",
       "<style scoped>\n",
       "    .dataframe tbody tr th:only-of-type {\n",
       "        vertical-align: middle;\n",
       "    }\n",
       "\n",
       "    .dataframe tbody tr th {\n",
       "        vertical-align: top;\n",
       "    }\n",
       "\n",
       "    .dataframe thead th {\n",
       "        text-align: right;\n",
       "    }\n",
       "</style>\n",
       "<table border=\"1\" class=\"dataframe\">\n",
       "  <thead>\n",
       "    <tr style=\"text-align: right;\">\n",
       "      <th></th>\n",
       "      <th>species</th>\n",
       "      <th>island</th>\n",
       "      <th>count</th>\n",
       "      <th>TRAIN_PCT</th>\n",
       "      <th>EVAL_PCT</th>\n",
       "    </tr>\n",
       "  </thead>\n",
       "  <tbody>\n",
       "    <tr>\n",
       "      <th>0</th>\n",
       "      <td>Adelie Penguin (Pygoscelis adeliae)</td>\n",
       "      <td>Dream</td>\n",
       "      <td>56</td>\n",
       "      <td>89.285714</td>\n",
       "      <td>10.714286</td>\n",
       "    </tr>\n",
       "    <tr>\n",
       "      <th>1</th>\n",
       "      <td>Chinstrap penguin (Pygoscelis antarctica)</td>\n",
       "      <td>Dream</td>\n",
       "      <td>68</td>\n",
       "      <td>89.705882</td>\n",
       "      <td>10.294118</td>\n",
       "    </tr>\n",
       "    <tr>\n",
       "      <th>2</th>\n",
       "      <td>Gentoo penguin (Pygoscelis papua)</td>\n",
       "      <td>Biscoe</td>\n",
       "      <td>124</td>\n",
       "      <td>89.516129</td>\n",
       "      <td>10.483871</td>\n",
       "    </tr>\n",
       "    <tr>\n",
       "      <th>3</th>\n",
       "      <td>Adelie Penguin (Pygoscelis adeliae)</td>\n",
       "      <td>Biscoe</td>\n",
       "      <td>44</td>\n",
       "      <td>88.636364</td>\n",
       "      <td>11.363636</td>\n",
       "    </tr>\n",
       "    <tr>\n",
       "      <th>4</th>\n",
       "      <td>Adelie Penguin (Pygoscelis adeliae)</td>\n",
       "      <td>Torgersen</td>\n",
       "      <td>52</td>\n",
       "      <td>88.461538</td>\n",
       "      <td>11.538462</td>\n",
       "    </tr>\n",
       "  </tbody>\n",
       "</table>\n",
       "</div>"
      ],
      "text/plain": [
       "                                     species     island  count  TRAIN_PCT  \\\n",
       "0        Adelie Penguin (Pygoscelis adeliae)      Dream     56  89.285714   \n",
       "1  Chinstrap penguin (Pygoscelis antarctica)      Dream     68  89.705882   \n",
       "2          Gentoo penguin (Pygoscelis papua)     Biscoe    124  89.516129   \n",
       "3        Adelie Penguin (Pygoscelis adeliae)     Biscoe     44  88.636364   \n",
       "4        Adelie Penguin (Pygoscelis adeliae)  Torgersen     52  88.461538   \n",
       "\n",
       "    EVAL_PCT  \n",
       "0  10.714286  \n",
       "1  10.294118  \n",
       "2  10.483871  \n",
       "3  11.363636  \n",
       "4  11.538462  "
      ]
     },
     "execution_count": 25,
     "metadata": {},
     "output_type": "execute_result"
    }
   ],
   "source": [
    "%%bigquery\n",
    "SELECT species, island,\n",
    "    COUNT(*) as count,\n",
    "    100 * COUNTIF(split = 'TRAIN')/COUNT(*) AS TRAIN_PCT,\n",
    "    100 * COUNTIF(split = 'EVAL')/COUNT(*) AS EVAL_PCT\n",
    "FROM `statmike-mlops-349915.bqml.reuse-feature-engineering-source`\n",
    "GROUP BY species, island"
   ]
  },
  {
   "cell_type": "markdown",
   "id": "ba19b0be-5d5c-4fb1-81d6-f0575bc029c8",
   "metadata": {},
   "source": [
    "Which observations have missing values?  "
   ]
  },
  {
   "cell_type": "code",
   "execution_count": 26,
   "id": "93eb0496-ec52-4b01-844b-7025082b24ca",
   "metadata": {},
   "outputs": [
    {
     "data": {
      "application/vnd.jupyter.widget-view+json": {
       "model_id": "b8a70387c58f4f8480ec51600da78c3c",
       "version_major": 2,
       "version_minor": 0
      },
      "text/plain": [
       "Query is running:   0%|          |"
      ]
     },
     "metadata": {},
     "output_type": "display_data"
    },
    {
     "data": {
      "application/vnd.jupyter.widget-view+json": {
       "model_id": "41f756f3120e458aad70eae955b1a1b1",
       "version_major": 2,
       "version_minor": 0
      },
      "text/plain": [
       "Downloading:   0%|          |"
      ]
     },
     "metadata": {},
     "output_type": "display_data"
    },
    {
     "data": {
      "text/html": [
       "<div>\n",
       "<style scoped>\n",
       "    .dataframe tbody tr th:only-of-type {\n",
       "        vertical-align: middle;\n",
       "    }\n",
       "\n",
       "    .dataframe tbody tr th {\n",
       "        vertical-align: top;\n",
       "    }\n",
       "\n",
       "    .dataframe thead th {\n",
       "        text-align: right;\n",
       "    }\n",
       "</style>\n",
       "<table border=\"1\" class=\"dataframe\">\n",
       "  <thead>\n",
       "    <tr style=\"text-align: right;\">\n",
       "      <th></th>\n",
       "      <th>species</th>\n",
       "      <th>island</th>\n",
       "      <th>culmen_length_mm</th>\n",
       "      <th>culmen_depth_mm</th>\n",
       "      <th>flipper_length_mm</th>\n",
       "      <th>body_mass_g</th>\n",
       "      <th>sex</th>\n",
       "      <th>split</th>\n",
       "    </tr>\n",
       "  </thead>\n",
       "  <tbody>\n",
       "    <tr>\n",
       "      <th>0</th>\n",
       "      <td>Adelie Penguin (Pygoscelis adeliae)</td>\n",
       "      <td>Dream</td>\n",
       "      <td>37.5</td>\n",
       "      <td>18.9</td>\n",
       "      <td>179.0</td>\n",
       "      <td>2975.0</td>\n",
       "      <td>None</td>\n",
       "      <td>TRAIN</td>\n",
       "    </tr>\n",
       "    <tr>\n",
       "      <th>1</th>\n",
       "      <td>Gentoo penguin (Pygoscelis papua)</td>\n",
       "      <td>Biscoe</td>\n",
       "      <td>NaN</td>\n",
       "      <td>NaN</td>\n",
       "      <td>NaN</td>\n",
       "      <td>NaN</td>\n",
       "      <td>None</td>\n",
       "      <td>TRAIN</td>\n",
       "    </tr>\n",
       "    <tr>\n",
       "      <th>2</th>\n",
       "      <td>Gentoo penguin (Pygoscelis papua)</td>\n",
       "      <td>Biscoe</td>\n",
       "      <td>44.5</td>\n",
       "      <td>14.3</td>\n",
       "      <td>216.0</td>\n",
       "      <td>4100.0</td>\n",
       "      <td>None</td>\n",
       "      <td>TRAIN</td>\n",
       "    </tr>\n",
       "    <tr>\n",
       "      <th>3</th>\n",
       "      <td>Gentoo penguin (Pygoscelis papua)</td>\n",
       "      <td>Biscoe</td>\n",
       "      <td>47.3</td>\n",
       "      <td>13.8</td>\n",
       "      <td>216.0</td>\n",
       "      <td>4725.0</td>\n",
       "      <td>None</td>\n",
       "      <td>TRAIN</td>\n",
       "    </tr>\n",
       "    <tr>\n",
       "      <th>4</th>\n",
       "      <td>Gentoo penguin (Pygoscelis papua)</td>\n",
       "      <td>Biscoe</td>\n",
       "      <td>44.5</td>\n",
       "      <td>15.7</td>\n",
       "      <td>217.0</td>\n",
       "      <td>4875.0</td>\n",
       "      <td>None</td>\n",
       "      <td>TRAIN</td>\n",
       "    </tr>\n",
       "    <tr>\n",
       "      <th>5</th>\n",
       "      <td>Gentoo penguin (Pygoscelis papua)</td>\n",
       "      <td>Biscoe</td>\n",
       "      <td>46.2</td>\n",
       "      <td>14.4</td>\n",
       "      <td>214.0</td>\n",
       "      <td>4650.0</td>\n",
       "      <td>None</td>\n",
       "      <td>TRAIN</td>\n",
       "    </tr>\n",
       "    <tr>\n",
       "      <th>6</th>\n",
       "      <td>Adelie Penguin (Pygoscelis adeliae)</td>\n",
       "      <td>Torgersen</td>\n",
       "      <td>NaN</td>\n",
       "      <td>NaN</td>\n",
       "      <td>NaN</td>\n",
       "      <td>NaN</td>\n",
       "      <td>None</td>\n",
       "      <td>TRAIN</td>\n",
       "    </tr>\n",
       "    <tr>\n",
       "      <th>7</th>\n",
       "      <td>Adelie Penguin (Pygoscelis adeliae)</td>\n",
       "      <td>Torgersen</td>\n",
       "      <td>34.1</td>\n",
       "      <td>18.1</td>\n",
       "      <td>193.0</td>\n",
       "      <td>3475.0</td>\n",
       "      <td>None</td>\n",
       "      <td>TRAIN</td>\n",
       "    </tr>\n",
       "    <tr>\n",
       "      <th>8</th>\n",
       "      <td>Adelie Penguin (Pygoscelis adeliae)</td>\n",
       "      <td>Torgersen</td>\n",
       "      <td>37.8</td>\n",
       "      <td>17.1</td>\n",
       "      <td>186.0</td>\n",
       "      <td>3300.0</td>\n",
       "      <td>None</td>\n",
       "      <td>TRAIN</td>\n",
       "    </tr>\n",
       "    <tr>\n",
       "      <th>9</th>\n",
       "      <td>Adelie Penguin (Pygoscelis adeliae)</td>\n",
       "      <td>Torgersen</td>\n",
       "      <td>37.8</td>\n",
       "      <td>17.3</td>\n",
       "      <td>180.0</td>\n",
       "      <td>3700.0</td>\n",
       "      <td>None</td>\n",
       "      <td>TRAIN</td>\n",
       "    </tr>\n",
       "    <tr>\n",
       "      <th>10</th>\n",
       "      <td>Adelie Penguin (Pygoscelis adeliae)</td>\n",
       "      <td>Torgersen</td>\n",
       "      <td>42.0</td>\n",
       "      <td>20.2</td>\n",
       "      <td>190.0</td>\n",
       "      <td>4250.0</td>\n",
       "      <td>None</td>\n",
       "      <td>TRAIN</td>\n",
       "    </tr>\n",
       "  </tbody>\n",
       "</table>\n",
       "</div>"
      ],
      "text/plain": [
       "                                species     island  culmen_length_mm  \\\n",
       "0   Adelie Penguin (Pygoscelis adeliae)      Dream              37.5   \n",
       "1     Gentoo penguin (Pygoscelis papua)     Biscoe               NaN   \n",
       "2     Gentoo penguin (Pygoscelis papua)     Biscoe              44.5   \n",
       "3     Gentoo penguin (Pygoscelis papua)     Biscoe              47.3   \n",
       "4     Gentoo penguin (Pygoscelis papua)     Biscoe              44.5   \n",
       "5     Gentoo penguin (Pygoscelis papua)     Biscoe              46.2   \n",
       "6   Adelie Penguin (Pygoscelis adeliae)  Torgersen               NaN   \n",
       "7   Adelie Penguin (Pygoscelis adeliae)  Torgersen              34.1   \n",
       "8   Adelie Penguin (Pygoscelis adeliae)  Torgersen              37.8   \n",
       "9   Adelie Penguin (Pygoscelis adeliae)  Torgersen              37.8   \n",
       "10  Adelie Penguin (Pygoscelis adeliae)  Torgersen              42.0   \n",
       "\n",
       "    culmen_depth_mm  flipper_length_mm  body_mass_g   sex  split  \n",
       "0              18.9              179.0       2975.0  None  TRAIN  \n",
       "1               NaN                NaN          NaN  None  TRAIN  \n",
       "2              14.3              216.0       4100.0  None  TRAIN  \n",
       "3              13.8              216.0       4725.0  None  TRAIN  \n",
       "4              15.7              217.0       4875.0  None  TRAIN  \n",
       "5              14.4              214.0       4650.0  None  TRAIN  \n",
       "6               NaN                NaN          NaN  None  TRAIN  \n",
       "7              18.1              193.0       3475.0  None  TRAIN  \n",
       "8              17.1              186.0       3300.0  None  TRAIN  \n",
       "9              17.3              180.0       3700.0  None  TRAIN  \n",
       "10             20.2              190.0       4250.0  None  TRAIN  "
      ]
     },
     "execution_count": 26,
     "metadata": {},
     "output_type": "execute_result"
    }
   ],
   "source": [
    "%%bigquery\n",
    "SELECT *\n",
    "FROM `statmike-mlops-349915.bqml.reuse-feature-engineering-source`\n",
    "WHERE sex IS NULL OR sex = '.'\n",
    "    OR culmen_length_mm IS NULL\n",
    "    OR culmen_depth_mm IS NULL\n",
    "    OR flipper_length_mm IS NULL\n",
    "    OR body_mass_g IS NULL"
   ]
  },
  {
   "cell_type": "markdown",
   "id": "f5971c6c-9b68-4eac-9e64-82fd79f67309",
   "metadata": {},
   "source": [
    "---\n",
    "## Embedded Preprocessing"
   ]
  },
  {
   "cell_type": "markdown",
   "id": "23f96d54-6617-4d9a-8d27-e5d660d5fbed",
   "metadata": {},
   "source": [
    "### Create Model Using `TRANSFORM` statement\n",
    "\n",
    "Using the `TRANSFORM` clause, you can specify the desired preprocessing of column into features.  In the case of this data there are several desired preprocessing steps based on the data review above:\n",
    "- impute missing values with `ML.IMPUTER`\n",
    "- scale the `body_mass_g` column with `ML.ROBUST_SCALER`\n",
    "- scale the other numerical columns with `ML.STANDARD_SCALER`\n",
    "\n",
    "The model specification below does the data imputation in the inpute query and the scaling embedded in the model with a `TRANSFORM` clause."
   ]
  },
  {
   "cell_type": "code",
   "execution_count": 41,
   "id": "1c732743-b7bd-4d40-bbcb-723d888f636a",
   "metadata": {},
   "outputs": [
    {
     "data": {
      "application/vnd.jupyter.widget-view+json": {
       "model_id": "8a8b9431607643f18fbcc839fd83eb13",
       "version_major": 2,
       "version_minor": 0
      },
      "text/plain": [
       "Query is running:   0%|          |"
      ]
     },
     "metadata": {},
     "output_type": "display_data"
    },
    {
     "data": {
      "text/html": [
       "<div>\n",
       "<style scoped>\n",
       "    .dataframe tbody tr th:only-of-type {\n",
       "        vertical-align: middle;\n",
       "    }\n",
       "\n",
       "    .dataframe tbody tr th {\n",
       "        vertical-align: top;\n",
       "    }\n",
       "\n",
       "    .dataframe thead th {\n",
       "        text-align: right;\n",
       "    }\n",
       "</style>\n",
       "<table border=\"1\" class=\"dataframe\">\n",
       "  <thead>\n",
       "    <tr style=\"text-align: right;\">\n",
       "      <th></th>\n",
       "    </tr>\n",
       "  </thead>\n",
       "  <tbody>\n",
       "  </tbody>\n",
       "</table>\n",
       "</div>"
      ],
      "text/plain": [
       "Empty DataFrame\n",
       "Columns: []\n",
       "Index: []"
      ]
     },
     "execution_count": 41,
     "metadata": {},
     "output_type": "execute_result"
    }
   ],
   "source": [
    "%%bigquery\n",
    "CREATE OR REPLACE MODEL `statmike-mlops-349915.bqml.embedded_preprocessing`\n",
    "    TRANSFORM(\n",
    "        species, sex, island, split,\n",
    "        ML.ROBUST_SCALER(body_mass_g) OVER() AS body_mass_g,\n",
    "        ML.STANDARD_SCALER(culmen_length_mm) OVER() AS culmen_length_mm,\n",
    "        ML.STANDARD_SCALER(culmen_depth_mm) OVER() AS culmen_depth_mm,\n",
    "        ML.STANDARD_SCALER(flipper_length_mm) OVER() AS flipper_length_mm\n",
    "    )\n",
    "    OPTIONS(\n",
    "        model_type = 'BOOSTED_TREE_CLASSIFIER',\n",
    "        input_label_cols = ['species'],\n",
    "        data_split_method = 'CUSTOM',\n",
    "        data_split_col = 'split',\n",
    "        model_registry = 'VERTEX_AI',\n",
    "        VERTEX_AI_MODEL_ID = 'bqml_embedded_preprocessing'\n",
    "    )\n",
    "AS\n",
    "SELECT species,\n",
    "    CASE WHEN split = 'TRAIN' THEN FALSE ELSE TRUE END AS split,\n",
    "    ML.IMPUTER(sex, 'most_frequent') OVER() AS sex,\n",
    "    ML.IMPUTER(body_mass_g, 'median') OVER() AS body_mass_g,\n",
    "    ML.IMPUTER(culmen_length_mm, 'mean') OVER() AS culmen_length_mm,\n",
    "    ML.IMPUTER(culmen_depth_mm, 'mean') OVER() AS culmen_depth_mm,\n",
    "    ML.IMPUTER(flipper_length_mm, 'mean') OVER() AS flipper_length_mm, \n",
    "FROM `statmike-mlops-349915.bqml.reuse-feature-engineering-source`"
   ]
  },
  {
   "cell_type": "markdown",
   "id": "1ac82fe0-9217-4265-a169-00b542d8a4cb",
   "metadata": {},
   "source": [
    "The feature information for the model can be reviewed with ML.FEATURE_INFO.  This shows summary statistics pre-transformation.  Notice that the `null_count` is 0 for all features because the `ML.IMPUTER` functions filled in the missing values as instructed on the query statement."
   ]
  },
  {
   "cell_type": "code",
   "execution_count": 42,
   "id": "3b1cad55-d67a-45d3-80b8-4d93ba375264",
   "metadata": {},
   "outputs": [
    {
     "data": {
      "application/vnd.jupyter.widget-view+json": {
       "model_id": "005a9030b2f846388df75e6f94ed4e38",
       "version_major": 2,
       "version_minor": 0
      },
      "text/plain": [
       "Query is running:   0%|          |"
      ]
     },
     "metadata": {},
     "output_type": "display_data"
    },
    {
     "data": {
      "application/vnd.jupyter.widget-view+json": {
       "model_id": "bbcd9c98484e4bbf86bba11d78d366eb",
       "version_major": 2,
       "version_minor": 0
      },
      "text/plain": [
       "Downloading:   0%|          |"
      ]
     },
     "metadata": {},
     "output_type": "display_data"
    },
    {
     "data": {
      "text/html": [
       "<div>\n",
       "<style scoped>\n",
       "    .dataframe tbody tr th:only-of-type {\n",
       "        vertical-align: middle;\n",
       "    }\n",
       "\n",
       "    .dataframe tbody tr th {\n",
       "        vertical-align: top;\n",
       "    }\n",
       "\n",
       "    .dataframe thead th {\n",
       "        text-align: right;\n",
       "    }\n",
       "</style>\n",
       "<table border=\"1\" class=\"dataframe\">\n",
       "  <thead>\n",
       "    <tr style=\"text-align: right;\">\n",
       "      <th></th>\n",
       "      <th>input</th>\n",
       "      <th>min</th>\n",
       "      <th>max</th>\n",
       "      <th>mean</th>\n",
       "      <th>median</th>\n",
       "      <th>stddev</th>\n",
       "      <th>category_count</th>\n",
       "      <th>null_count</th>\n",
       "      <th>dimension</th>\n",
       "    </tr>\n",
       "  </thead>\n",
       "  <tbody>\n",
       "    <tr>\n",
       "      <th>0</th>\n",
       "      <td>body_mass_g</td>\n",
       "      <td>2700.0</td>\n",
       "      <td>6300.0</td>\n",
       "      <td>4221.498371</td>\n",
       "      <td>4050.0</td>\n",
       "      <td>790.485415</td>\n",
       "      <td>&lt;NA&gt;</td>\n",
       "      <td>0</td>\n",
       "      <td>&lt;NA&gt;</td>\n",
       "    </tr>\n",
       "    <tr>\n",
       "      <th>1</th>\n",
       "      <td>culmen_length_mm</td>\n",
       "      <td>32.1</td>\n",
       "      <td>59.6</td>\n",
       "      <td>44.062032</td>\n",
       "      <td>44.5</td>\n",
       "      <td>5.430990</td>\n",
       "      <td>&lt;NA&gt;</td>\n",
       "      <td>0</td>\n",
       "      <td>&lt;NA&gt;</td>\n",
       "    </tr>\n",
       "    <tr>\n",
       "      <th>2</th>\n",
       "      <td>culmen_depth_mm</td>\n",
       "      <td>13.1</td>\n",
       "      <td>21.5</td>\n",
       "      <td>17.195447</td>\n",
       "      <td>17.3</td>\n",
       "      <td>1.997309</td>\n",
       "      <td>&lt;NA&gt;</td>\n",
       "      <td>0</td>\n",
       "      <td>&lt;NA&gt;</td>\n",
       "    </tr>\n",
       "    <tr>\n",
       "      <th>3</th>\n",
       "      <td>flipper_length_mm</td>\n",
       "      <td>172.0</td>\n",
       "      <td>231.0</td>\n",
       "      <td>201.077623</td>\n",
       "      <td>197.0</td>\n",
       "      <td>13.986240</td>\n",
       "      <td>&lt;NA&gt;</td>\n",
       "      <td>0</td>\n",
       "      <td>&lt;NA&gt;</td>\n",
       "    </tr>\n",
       "  </tbody>\n",
       "</table>\n",
       "</div>"
      ],
      "text/plain": [
       "               input     min     max         mean  median      stddev  \\\n",
       "0        body_mass_g  2700.0  6300.0  4221.498371  4050.0  790.485415   \n",
       "1   culmen_length_mm    32.1    59.6    44.062032    44.5    5.430990   \n",
       "2    culmen_depth_mm    13.1    21.5    17.195447    17.3    1.997309   \n",
       "3  flipper_length_mm   172.0   231.0   201.077623   197.0   13.986240   \n",
       "\n",
       "   category_count  null_count  dimension  \n",
       "0            <NA>           0       <NA>  \n",
       "1            <NA>           0       <NA>  \n",
       "2            <NA>           0       <NA>  \n",
       "3            <NA>           0       <NA>  "
      ]
     },
     "execution_count": 42,
     "metadata": {},
     "output_type": "execute_result"
    }
   ],
   "source": [
    "%%bigquery\n",
    "SELECT *\n",
    "FROM ML.FEATURE_INFO(MODEL `statmike-mlops-349915.bqml.embedded_preprocessing`)"
   ]
  },
  {
   "cell_type": "markdown",
   "id": "593d1b75-3765-4e99-8a0a-26bdd3189b13",
   "metadata": {},
   "source": [
    "The `ML.EVALUATE` function can be used to review the evaluation metrics, here for both splits combined.  Notice that the imputation with `ML.IMPUTER` function needs to be repeated because it was not embedded in the mdoel above."
   ]
  },
  {
   "cell_type": "code",
   "execution_count": 43,
   "id": "6b6cdfe3-b6f9-4c24-a37f-479643044d4d",
   "metadata": {},
   "outputs": [
    {
     "data": {
      "application/vnd.jupyter.widget-view+json": {
       "model_id": "e9b720d8ec7f46afba649984bbd53d41",
       "version_major": 2,
       "version_minor": 0
      },
      "text/plain": [
       "Query is running:   0%|          |"
      ]
     },
     "metadata": {},
     "output_type": "display_data"
    },
    {
     "data": {
      "application/vnd.jupyter.widget-view+json": {
       "model_id": "a89acde17aac4df3984be44a03365beb",
       "version_major": 2,
       "version_minor": 0
      },
      "text/plain": [
       "Downloading:   0%|          |"
      ]
     },
     "metadata": {},
     "output_type": "display_data"
    },
    {
     "data": {
      "text/html": [
       "<div>\n",
       "<style scoped>\n",
       "    .dataframe tbody tr th:only-of-type {\n",
       "        vertical-align: middle;\n",
       "    }\n",
       "\n",
       "    .dataframe tbody tr th {\n",
       "        vertical-align: top;\n",
       "    }\n",
       "\n",
       "    .dataframe thead th {\n",
       "        text-align: right;\n",
       "    }\n",
       "</style>\n",
       "<table border=\"1\" class=\"dataframe\">\n",
       "  <thead>\n",
       "    <tr style=\"text-align: right;\">\n",
       "      <th></th>\n",
       "      <th>precision</th>\n",
       "      <th>recall</th>\n",
       "      <th>accuracy</th>\n",
       "      <th>f1_score</th>\n",
       "      <th>log_loss</th>\n",
       "      <th>roc_auc</th>\n",
       "    </tr>\n",
       "  </thead>\n",
       "  <tbody>\n",
       "    <tr>\n",
       "      <th>0</th>\n",
       "      <td>0.995671</td>\n",
       "      <td>0.99241</td>\n",
       "      <td>0.994186</td>\n",
       "      <td>0.994003</td>\n",
       "      <td>0.024628</td>\n",
       "      <td>1.0</td>\n",
       "    </tr>\n",
       "  </tbody>\n",
       "</table>\n",
       "</div>"
      ],
      "text/plain": [
       "   precision   recall  accuracy  f1_score  log_loss  roc_auc\n",
       "0   0.995671  0.99241  0.994186  0.994003  0.024628      1.0"
      ]
     },
     "execution_count": 43,
     "metadata": {},
     "output_type": "execute_result"
    }
   ],
   "source": [
    "%%bigquery\n",
    "WITH\n",
    "    imputed AS (\n",
    "        SELECT species, island, split,\n",
    "            ML.IMPUTER(sex, 'most_frequent') OVER() AS sex,\n",
    "            ML.IMPUTER(body_mass_g, 'median') OVER() AS body_mass_g,\n",
    "            ML.IMPUTER(culmen_length_mm, 'mean') OVER() AS culmen_length_mm,\n",
    "            ML.IMPUTER(culmen_depth_mm, 'mean') OVER() AS culmen_depth_mm,\n",
    "            ML.IMPUTER(flipper_length_mm, 'mean') OVER() AS flipper_length_mm, \n",
    "        FROM `statmike-mlops-349915.bqml.reuse-feature-engineering-source`  \n",
    "    )\n",
    "SELECT *\n",
    "FROM ML.EVALUATE(\n",
    "    MODEL `statmike-mlops-349915.bqml.embedded_preprocessing`,\n",
    "    (SELECT * FROM imputed)\n",
    ")"
   ]
  },
  {
   "cell_type": "markdown",
   "id": "46893141-6c73-4e6e-8809-f3b336a886ed",
   "metadata": {},
   "source": [
    "---\n",
    "## Reusable Preprocessing\n",
    "\n",
    "With the `ML.TRANSFORM` function you can transform the results of a query statement using the transformation of a previously create model.  That makes models TRANSFORM statements complete reusuable.  This is helpful because the transform statement also remember values that were calculated when they were created - like the mean and standard-deviation used with `ML.STANDARD_SCALER`."
   ]
  },
  {
   "cell_type": "markdown",
   "id": "6f66fa46-27a2-478c-9e8a-efbad37fa9c9",
   "metadata": {},
   "source": [
    "### Using ML.TRANSFORM"
   ]
  },
  {
   "cell_type": "markdown",
   "id": "96489752-34a6-49f3-ba04-8dd2b585b8c1",
   "metadata": {},
   "source": [
    "First, a sample of raw data:"
   ]
  },
  {
   "cell_type": "code",
   "execution_count": 44,
   "id": "836f844e-e68b-4818-aacb-f236c075c90c",
   "metadata": {},
   "outputs": [
    {
     "data": {
      "application/vnd.jupyter.widget-view+json": {
       "model_id": "f86e86d2d0554e65a9d12ea68911f174",
       "version_major": 2,
       "version_minor": 0
      },
      "text/plain": [
       "Query is running:   0%|          |"
      ]
     },
     "metadata": {},
     "output_type": "display_data"
    },
    {
     "data": {
      "application/vnd.jupyter.widget-view+json": {
       "model_id": "1a10c2bfe514413bb46c2b7cef424f6f",
       "version_major": 2,
       "version_minor": 0
      },
      "text/plain": [
       "Downloading:   0%|          |"
      ]
     },
     "metadata": {},
     "output_type": "display_data"
    },
    {
     "data": {
      "text/html": [
       "<div>\n",
       "<style scoped>\n",
       "    .dataframe tbody tr th:only-of-type {\n",
       "        vertical-align: middle;\n",
       "    }\n",
       "\n",
       "    .dataframe tbody tr th {\n",
       "        vertical-align: top;\n",
       "    }\n",
       "\n",
       "    .dataframe thead th {\n",
       "        text-align: right;\n",
       "    }\n",
       "</style>\n",
       "<table border=\"1\" class=\"dataframe\">\n",
       "  <thead>\n",
       "    <tr style=\"text-align: right;\">\n",
       "      <th></th>\n",
       "      <th>species</th>\n",
       "      <th>island</th>\n",
       "      <th>culmen_length_mm</th>\n",
       "      <th>culmen_depth_mm</th>\n",
       "      <th>flipper_length_mm</th>\n",
       "      <th>body_mass_g</th>\n",
       "      <th>sex</th>\n",
       "      <th>split</th>\n",
       "    </tr>\n",
       "  </thead>\n",
       "  <tbody>\n",
       "    <tr>\n",
       "      <th>0</th>\n",
       "      <td>Gentoo penguin (Pygoscelis papua)</td>\n",
       "      <td>Biscoe</td>\n",
       "      <td>NaN</td>\n",
       "      <td>NaN</td>\n",
       "      <td>NaN</td>\n",
       "      <td>NaN</td>\n",
       "      <td>None</td>\n",
       "      <td>TRAIN</td>\n",
       "    </tr>\n",
       "    <tr>\n",
       "      <th>1</th>\n",
       "      <td>Gentoo penguin (Pygoscelis papua)</td>\n",
       "      <td>Biscoe</td>\n",
       "      <td>44.5</td>\n",
       "      <td>14.3</td>\n",
       "      <td>216.0</td>\n",
       "      <td>4100.0</td>\n",
       "      <td>None</td>\n",
       "      <td>TRAIN</td>\n",
       "    </tr>\n",
       "    <tr>\n",
       "      <th>2</th>\n",
       "      <td>Gentoo penguin (Pygoscelis papua)</td>\n",
       "      <td>Biscoe</td>\n",
       "      <td>47.3</td>\n",
       "      <td>13.8</td>\n",
       "      <td>216.0</td>\n",
       "      <td>4725.0</td>\n",
       "      <td>None</td>\n",
       "      <td>TRAIN</td>\n",
       "    </tr>\n",
       "    <tr>\n",
       "      <th>3</th>\n",
       "      <td>Gentoo penguin (Pygoscelis papua)</td>\n",
       "      <td>Biscoe</td>\n",
       "      <td>44.5</td>\n",
       "      <td>15.7</td>\n",
       "      <td>217.0</td>\n",
       "      <td>4875.0</td>\n",
       "      <td>None</td>\n",
       "      <td>TRAIN</td>\n",
       "    </tr>\n",
       "    <tr>\n",
       "      <th>4</th>\n",
       "      <td>Gentoo penguin (Pygoscelis papua)</td>\n",
       "      <td>Biscoe</td>\n",
       "      <td>46.2</td>\n",
       "      <td>14.4</td>\n",
       "      <td>214.0</td>\n",
       "      <td>4650.0</td>\n",
       "      <td>None</td>\n",
       "      <td>TRAIN</td>\n",
       "    </tr>\n",
       "  </tbody>\n",
       "</table>\n",
       "</div>"
      ],
      "text/plain": [
       "                             species  island  culmen_length_mm  \\\n",
       "0  Gentoo penguin (Pygoscelis papua)  Biscoe               NaN   \n",
       "1  Gentoo penguin (Pygoscelis papua)  Biscoe              44.5   \n",
       "2  Gentoo penguin (Pygoscelis papua)  Biscoe              47.3   \n",
       "3  Gentoo penguin (Pygoscelis papua)  Biscoe              44.5   \n",
       "4  Gentoo penguin (Pygoscelis papua)  Biscoe              46.2   \n",
       "\n",
       "   culmen_depth_mm  flipper_length_mm  body_mass_g   sex  split  \n",
       "0              NaN                NaN          NaN  None  TRAIN  \n",
       "1             14.3              216.0       4100.0  None  TRAIN  \n",
       "2             13.8              216.0       4725.0  None  TRAIN  \n",
       "3             15.7              217.0       4875.0  None  TRAIN  \n",
       "4             14.4              214.0       4650.0  None  TRAIN  "
      ]
     },
     "execution_count": 44,
     "metadata": {},
     "output_type": "execute_result"
    }
   ],
   "source": [
    "%%bigquery\n",
    "SELECT *\n",
    "FROM `statmike-mlops-349915.bqml.reuse-feature-engineering-source`\n",
    "WHERE sex IS NULL AND island = 'Biscoe'"
   ]
  },
  {
   "cell_type": "markdown",
   "id": "5130cd45-82a8-456b-a714-171348332e4d",
   "metadata": {},
   "source": [
    "Second, the same raw sample processed with the transformation from the model created above:"
   ]
  },
  {
   "cell_type": "code",
   "execution_count": 45,
   "id": "11a7e9c5-0221-4cf9-9953-01857473c250",
   "metadata": {},
   "outputs": [
    {
     "data": {
      "application/vnd.jupyter.widget-view+json": {
       "model_id": "f897631c508249a18260ae3ac63b2232",
       "version_major": 2,
       "version_minor": 0
      },
      "text/plain": [
       "Query is running:   0%|          |"
      ]
     },
     "metadata": {},
     "output_type": "display_data"
    },
    {
     "data": {
      "application/vnd.jupyter.widget-view+json": {
       "model_id": "0fab7d4e265d4131be39e1ec6556cded",
       "version_major": 2,
       "version_minor": 0
      },
      "text/plain": [
       "Downloading:   0%|          |"
      ]
     },
     "metadata": {},
     "output_type": "display_data"
    },
    {
     "data": {
      "text/html": [
       "<div>\n",
       "<style scoped>\n",
       "    .dataframe tbody tr th:only-of-type {\n",
       "        vertical-align: middle;\n",
       "    }\n",
       "\n",
       "    .dataframe tbody tr th {\n",
       "        vertical-align: top;\n",
       "    }\n",
       "\n",
       "    .dataframe thead th {\n",
       "        text-align: right;\n",
       "    }\n",
       "</style>\n",
       "<table border=\"1\" class=\"dataframe\">\n",
       "  <thead>\n",
       "    <tr style=\"text-align: right;\">\n",
       "      <th></th>\n",
       "      <th>body_mass_g</th>\n",
       "      <th>culmen_length_mm</th>\n",
       "      <th>culmen_depth_mm</th>\n",
       "      <th>flipper_length_mm</th>\n",
       "      <th>species</th>\n",
       "      <th>island</th>\n",
       "      <th>sex</th>\n",
       "      <th>split</th>\n",
       "    </tr>\n",
       "  </thead>\n",
       "  <tbody>\n",
       "    <tr>\n",
       "      <th>0</th>\n",
       "      <td>NaN</td>\n",
       "      <td>NaN</td>\n",
       "      <td>NaN</td>\n",
       "      <td>NaN</td>\n",
       "      <td>Gentoo penguin (Pygoscelis papua)</td>\n",
       "      <td>Biscoe</td>\n",
       "      <td>None</td>\n",
       "      <td>TRAIN</td>\n",
       "    </tr>\n",
       "    <tr>\n",
       "      <th>1</th>\n",
       "      <td>0.043478</td>\n",
       "      <td>0.080780</td>\n",
       "      <td>-1.452020</td>\n",
       "      <td>1.068651</td>\n",
       "      <td>Gentoo penguin (Pygoscelis papua)</td>\n",
       "      <td>Biscoe</td>\n",
       "      <td>None</td>\n",
       "      <td>TRAIN</td>\n",
       "    </tr>\n",
       "    <tr>\n",
       "      <th>2</th>\n",
       "      <td>0.586957</td>\n",
       "      <td>0.597181</td>\n",
       "      <td>-1.702766</td>\n",
       "      <td>1.068651</td>\n",
       "      <td>Gentoo penguin (Pygoscelis papua)</td>\n",
       "      <td>Biscoe</td>\n",
       "      <td>None</td>\n",
       "      <td>TRAIN</td>\n",
       "    </tr>\n",
       "    <tr>\n",
       "      <th>3</th>\n",
       "      <td>0.717391</td>\n",
       "      <td>0.080780</td>\n",
       "      <td>-0.749931</td>\n",
       "      <td>1.140267</td>\n",
       "      <td>Gentoo penguin (Pygoscelis papua)</td>\n",
       "      <td>Biscoe</td>\n",
       "      <td>None</td>\n",
       "      <td>TRAIN</td>\n",
       "    </tr>\n",
       "    <tr>\n",
       "      <th>4</th>\n",
       "      <td>0.521739</td>\n",
       "      <td>0.394309</td>\n",
       "      <td>-1.401871</td>\n",
       "      <td>0.925419</td>\n",
       "      <td>Gentoo penguin (Pygoscelis papua)</td>\n",
       "      <td>Biscoe</td>\n",
       "      <td>None</td>\n",
       "      <td>TRAIN</td>\n",
       "    </tr>\n",
       "  </tbody>\n",
       "</table>\n",
       "</div>"
      ],
      "text/plain": [
       "   body_mass_g  culmen_length_mm  culmen_depth_mm  flipper_length_mm  \\\n",
       "0          NaN               NaN              NaN                NaN   \n",
       "1     0.043478          0.080780        -1.452020           1.068651   \n",
       "2     0.586957          0.597181        -1.702766           1.068651   \n",
       "3     0.717391          0.080780        -0.749931           1.140267   \n",
       "4     0.521739          0.394309        -1.401871           0.925419   \n",
       "\n",
       "                             species  island   sex  split  \n",
       "0  Gentoo penguin (Pygoscelis papua)  Biscoe  None  TRAIN  \n",
       "1  Gentoo penguin (Pygoscelis papua)  Biscoe  None  TRAIN  \n",
       "2  Gentoo penguin (Pygoscelis papua)  Biscoe  None  TRAIN  \n",
       "3  Gentoo penguin (Pygoscelis papua)  Biscoe  None  TRAIN  \n",
       "4  Gentoo penguin (Pygoscelis papua)  Biscoe  None  TRAIN  "
      ]
     },
     "execution_count": 45,
     "metadata": {},
     "output_type": "execute_result"
    }
   ],
   "source": [
    "%%bigquery\n",
    "SELECT *\n",
    "FROM ML.TRANSFORM(\n",
    "    MODEL `statmike-mlops-349915.bqml.embedded_preprocessing`,\n",
    "    (SELECT *\n",
    "     FROM `statmike-mlops-349915.bqml.reuse-feature-engineering-source`\n",
    "     WHERE sex IS NULL AND island = 'Biscoe'\n",
    "    )\n",
    ")"
   ]
  },
  {
   "cell_type": "markdown",
   "id": "4f4aa7ce-9b54-4cab-994e-96b43e1fea69",
   "metadata": {},
   "source": [
    "Third, the same raw sample first with imputed missing values, then processed with the transformation from the model created above:"
   ]
  },
  {
   "cell_type": "code",
   "execution_count": 46,
   "id": "e0488365-ffe4-4ab2-b680-5ceb6219182f",
   "metadata": {},
   "outputs": [
    {
     "data": {
      "application/vnd.jupyter.widget-view+json": {
       "model_id": "543282387c894962ac7d79115d2bd958",
       "version_major": 2,
       "version_minor": 0
      },
      "text/plain": [
       "Query is running:   0%|          |"
      ]
     },
     "metadata": {},
     "output_type": "display_data"
    },
    {
     "data": {
      "application/vnd.jupyter.widget-view+json": {
       "model_id": "18f9ad1f987b4a42af0fa0af446a7284",
       "version_major": 2,
       "version_minor": 0
      },
      "text/plain": [
       "Downloading:   0%|          |"
      ]
     },
     "metadata": {},
     "output_type": "display_data"
    },
    {
     "data": {
      "text/html": [
       "<div>\n",
       "<style scoped>\n",
       "    .dataframe tbody tr th:only-of-type {\n",
       "        vertical-align: middle;\n",
       "    }\n",
       "\n",
       "    .dataframe tbody tr th {\n",
       "        vertical-align: top;\n",
       "    }\n",
       "\n",
       "    .dataframe thead th {\n",
       "        text-align: right;\n",
       "    }\n",
       "</style>\n",
       "<table border=\"1\" class=\"dataframe\">\n",
       "  <thead>\n",
       "    <tr style=\"text-align: right;\">\n",
       "      <th></th>\n",
       "      <th>sex</th>\n",
       "      <th>body_mass_g</th>\n",
       "      <th>culmen_length_mm</th>\n",
       "      <th>culmen_depth_mm</th>\n",
       "      <th>flipper_length_mm</th>\n",
       "      <th>species</th>\n",
       "      <th>split</th>\n",
       "      <th>island</th>\n",
       "      <th>sex_null</th>\n",
       "    </tr>\n",
       "  </thead>\n",
       "  <tbody>\n",
       "    <tr>\n",
       "      <th>0</th>\n",
       "      <td>MALE</td>\n",
       "      <td>0.000000</td>\n",
       "      <td>-0.025833</td>\n",
       "      <td>-0.022181</td>\n",
       "      <td>-0.011659</td>\n",
       "      <td>Gentoo penguin (Pygoscelis papua)</td>\n",
       "      <td>TRAIN</td>\n",
       "      <td>Biscoe</td>\n",
       "      <td>True</td>\n",
       "    </tr>\n",
       "    <tr>\n",
       "      <th>1</th>\n",
       "      <td>MALE</td>\n",
       "      <td>0.043478</td>\n",
       "      <td>0.080780</td>\n",
       "      <td>-1.452020</td>\n",
       "      <td>1.068651</td>\n",
       "      <td>Gentoo penguin (Pygoscelis papua)</td>\n",
       "      <td>TRAIN</td>\n",
       "      <td>Biscoe</td>\n",
       "      <td>True</td>\n",
       "    </tr>\n",
       "    <tr>\n",
       "      <th>2</th>\n",
       "      <td>MALE</td>\n",
       "      <td>0.586957</td>\n",
       "      <td>0.597181</td>\n",
       "      <td>-1.702766</td>\n",
       "      <td>1.068651</td>\n",
       "      <td>Gentoo penguin (Pygoscelis papua)</td>\n",
       "      <td>TRAIN</td>\n",
       "      <td>Biscoe</td>\n",
       "      <td>True</td>\n",
       "    </tr>\n",
       "    <tr>\n",
       "      <th>3</th>\n",
       "      <td>MALE</td>\n",
       "      <td>0.717391</td>\n",
       "      <td>0.080780</td>\n",
       "      <td>-0.749931</td>\n",
       "      <td>1.140267</td>\n",
       "      <td>Gentoo penguin (Pygoscelis papua)</td>\n",
       "      <td>TRAIN</td>\n",
       "      <td>Biscoe</td>\n",
       "      <td>True</td>\n",
       "    </tr>\n",
       "    <tr>\n",
       "      <th>4</th>\n",
       "      <td>MALE</td>\n",
       "      <td>0.521739</td>\n",
       "      <td>0.394309</td>\n",
       "      <td>-1.401871</td>\n",
       "      <td>0.925419</td>\n",
       "      <td>Gentoo penguin (Pygoscelis papua)</td>\n",
       "      <td>TRAIN</td>\n",
       "      <td>Biscoe</td>\n",
       "      <td>True</td>\n",
       "    </tr>\n",
       "  </tbody>\n",
       "</table>\n",
       "</div>"
      ],
      "text/plain": [
       "    sex  body_mass_g  culmen_length_mm  culmen_depth_mm  flipper_length_mm  \\\n",
       "0  MALE     0.000000         -0.025833        -0.022181          -0.011659   \n",
       "1  MALE     0.043478          0.080780        -1.452020           1.068651   \n",
       "2  MALE     0.586957          0.597181        -1.702766           1.068651   \n",
       "3  MALE     0.717391          0.080780        -0.749931           1.140267   \n",
       "4  MALE     0.521739          0.394309        -1.401871           0.925419   \n",
       "\n",
       "                             species  split  island  sex_null  \n",
       "0  Gentoo penguin (Pygoscelis papua)  TRAIN  Biscoe      True  \n",
       "1  Gentoo penguin (Pygoscelis papua)  TRAIN  Biscoe      True  \n",
       "2  Gentoo penguin (Pygoscelis papua)  TRAIN  Biscoe      True  \n",
       "3  Gentoo penguin (Pygoscelis papua)  TRAIN  Biscoe      True  \n",
       "4  Gentoo penguin (Pygoscelis papua)  TRAIN  Biscoe      True  "
      ]
     },
     "execution_count": 46,
     "metadata": {},
     "output_type": "execute_result"
    }
   ],
   "source": [
    "%%bigquery\n",
    "WITH\n",
    "    imputed AS (\n",
    "        SELECT species, split, island,\n",
    "            CASE WHEN sex IS NULL THEN TRUE ELSE FALSE END AS sex_null,\n",
    "            ML.IMPUTER(sex, 'most_frequent') OVER() AS sex,\n",
    "            ML.IMPUTER(body_mass_g, 'median') OVER() AS body_mass_g,\n",
    "            ML.IMPUTER(culmen_length_mm, 'mean') OVER() AS culmen_length_mm,\n",
    "            ML.IMPUTER(culmen_depth_mm, 'mean') OVER() AS culmen_depth_mm,\n",
    "            ML.IMPUTER(flipper_length_mm, 'mean') OVER() AS flipper_length_mm, \n",
    "        FROM `statmike-mlops-349915.bqml.reuse-feature-engineering-source`  \n",
    "    )\n",
    "SELECT *\n",
    "FROM ML.TRANSFORM(\n",
    "    MODEL `statmike-mlops-349915.bqml.embedded_preprocessing`,\n",
    "    (SELECT *\n",
    "     FROM imputed\n",
    "     WHERE sex_null AND island = 'Biscoe'\n",
    "    )\n",
    ")"
   ]
  },
  {
   "cell_type": "markdown",
   "id": "24b20264-840a-4372-88bb-31659d52bd73",
   "metadata": {},
   "source": [
    "---\n",
    "## Modular Preprocessing\n",
    "\n",
    "What if you want to take adavantage of the `TRANSFORM` clauses results repeatedly across many models and other parts of your workflow?  What if you want to apply multiple `TRANSFORM` clauses in sequence: like imputation then scaling? You can build a model with only transformations using the `model_type = 'TRANSFORM_ONLY'` as follows."
   ]
  },
  {
   "cell_type": "markdown",
   "id": "d8e383ff-1159-40cf-8f82-03305c0072bf",
   "metadata": {},
   "source": [
    "### Create `TRANSFORM_ONLY` Model - For Imputation"
   ]
  },
  {
   "cell_type": "code",
   "execution_count": 47,
   "id": "fee2a744-4c00-4d6b-bd0a-f325b6cfb06b",
   "metadata": {},
   "outputs": [
    {
     "data": {
      "application/vnd.jupyter.widget-view+json": {
       "model_id": "f5ca082d7b614fb197c863299e09e579",
       "version_major": 2,
       "version_minor": 0
      },
      "text/plain": [
       "Query is running:   0%|          |"
      ]
     },
     "metadata": {},
     "output_type": "display_data"
    },
    {
     "data": {
      "text/html": [
       "<div>\n",
       "<style scoped>\n",
       "    .dataframe tbody tr th:only-of-type {\n",
       "        vertical-align: middle;\n",
       "    }\n",
       "\n",
       "    .dataframe tbody tr th {\n",
       "        vertical-align: top;\n",
       "    }\n",
       "\n",
       "    .dataframe thead th {\n",
       "        text-align: right;\n",
       "    }\n",
       "</style>\n",
       "<table border=\"1\" class=\"dataframe\">\n",
       "  <thead>\n",
       "    <tr style=\"text-align: right;\">\n",
       "      <th></th>\n",
       "    </tr>\n",
       "  </thead>\n",
       "  <tbody>\n",
       "  </tbody>\n",
       "</table>\n",
       "</div>"
      ],
      "text/plain": [
       "Empty DataFrame\n",
       "Columns: []\n",
       "Index: []"
      ]
     },
     "execution_count": 47,
     "metadata": {},
     "output_type": "execute_result"
    }
   ],
   "source": [
    "%%bigquery\n",
    "CREATE OR REPLACE MODEL `statmike-mlops-349915.bqml.modular_preprocessing_impute`\n",
    "    TRANSFORM(\n",
    "        ML.IMPUTER(sex, 'most_frequent') OVER() AS sex,\n",
    "        ML.IMPUTER(body_mass_g, 'median') OVER() AS body_mass_g,\n",
    "        ML.IMPUTER(culmen_length_mm, 'mean') OVER() AS culmen_length_mm,\n",
    "        ML.IMPUTER(culmen_depth_mm, 'mean') OVER() AS culmen_depth_mm,\n",
    "        ML.IMPUTER(flipper_length_mm, 'mean') OVER() AS flipper_length_mm\n",
    "    )\n",
    "    OPTIONS(\n",
    "        model_type = 'TRANSFORM_ONLY',\n",
    "        model_registry = 'VERTEX_AI',\n",
    "        VERTEX_AI_MODEL_ID = 'bqml_modular_preprocessing_impute'\n",
    "    )\n",
    "AS\n",
    "SELECT * \n",
    "FROM `statmike-mlops-349915.bqml.reuse-feature-engineering-source`\n",
    "WHERE split = 'TRAIN'"
   ]
  },
  {
   "cell_type": "markdown",
   "id": "ffcc0613-fb25-4033-87aa-a937cda78471",
   "metadata": {},
   "source": [
    "Now apply the `TRANSFORM_ONLY` model using `ML.TRANSFORM`:"
   ]
  },
  {
   "cell_type": "code",
   "execution_count": 48,
   "id": "11a6faad-6e23-468b-83c5-bd05edaafeff",
   "metadata": {},
   "outputs": [
    {
     "data": {
      "application/vnd.jupyter.widget-view+json": {
       "model_id": "27f92dd674664bb5beee263aa33f0609",
       "version_major": 2,
       "version_minor": 0
      },
      "text/plain": [
       "Query is running:   0%|          |"
      ]
     },
     "metadata": {},
     "output_type": "display_data"
    },
    {
     "data": {
      "application/vnd.jupyter.widget-view+json": {
       "model_id": "4d13c75beb2a478abc510722de82a52a",
       "version_major": 2,
       "version_minor": 0
      },
      "text/plain": [
       "Downloading:   0%|          |"
      ]
     },
     "metadata": {},
     "output_type": "display_data"
    },
    {
     "data": {
      "text/html": [
       "<div>\n",
       "<style scoped>\n",
       "    .dataframe tbody tr th:only-of-type {\n",
       "        vertical-align: middle;\n",
       "    }\n",
       "\n",
       "    .dataframe tbody tr th {\n",
       "        vertical-align: top;\n",
       "    }\n",
       "\n",
       "    .dataframe thead th {\n",
       "        text-align: right;\n",
       "    }\n",
       "</style>\n",
       "<table border=\"1\" class=\"dataframe\">\n",
       "  <thead>\n",
       "    <tr style=\"text-align: right;\">\n",
       "      <th></th>\n",
       "      <th>sex</th>\n",
       "      <th>body_mass_g</th>\n",
       "      <th>culmen_length_mm</th>\n",
       "      <th>culmen_depth_mm</th>\n",
       "      <th>flipper_length_mm</th>\n",
       "      <th>species</th>\n",
       "      <th>island</th>\n",
       "      <th>split</th>\n",
       "    </tr>\n",
       "  </thead>\n",
       "  <tbody>\n",
       "    <tr>\n",
       "      <th>0</th>\n",
       "      <td>MALE</td>\n",
       "      <td>4050.0</td>\n",
       "      <td>44.063</td>\n",
       "      <td>17.1957</td>\n",
       "      <td>201.079</td>\n",
       "      <td>Gentoo penguin (Pygoscelis papua)</td>\n",
       "      <td>Biscoe</td>\n",
       "      <td>TRAIN</td>\n",
       "    </tr>\n",
       "    <tr>\n",
       "      <th>1</th>\n",
       "      <td>MALE</td>\n",
       "      <td>4100.0</td>\n",
       "      <td>44.500</td>\n",
       "      <td>14.3000</td>\n",
       "      <td>216.000</td>\n",
       "      <td>Gentoo penguin (Pygoscelis papua)</td>\n",
       "      <td>Biscoe</td>\n",
       "      <td>TRAIN</td>\n",
       "    </tr>\n",
       "    <tr>\n",
       "      <th>2</th>\n",
       "      <td>MALE</td>\n",
       "      <td>4725.0</td>\n",
       "      <td>47.300</td>\n",
       "      <td>13.8000</td>\n",
       "      <td>216.000</td>\n",
       "      <td>Gentoo penguin (Pygoscelis papua)</td>\n",
       "      <td>Biscoe</td>\n",
       "      <td>TRAIN</td>\n",
       "    </tr>\n",
       "    <tr>\n",
       "      <th>3</th>\n",
       "      <td>MALE</td>\n",
       "      <td>4875.0</td>\n",
       "      <td>44.500</td>\n",
       "      <td>15.7000</td>\n",
       "      <td>217.000</td>\n",
       "      <td>Gentoo penguin (Pygoscelis papua)</td>\n",
       "      <td>Biscoe</td>\n",
       "      <td>TRAIN</td>\n",
       "    </tr>\n",
       "    <tr>\n",
       "      <th>4</th>\n",
       "      <td>MALE</td>\n",
       "      <td>4650.0</td>\n",
       "      <td>46.200</td>\n",
       "      <td>14.4000</td>\n",
       "      <td>214.000</td>\n",
       "      <td>Gentoo penguin (Pygoscelis papua)</td>\n",
       "      <td>Biscoe</td>\n",
       "      <td>TRAIN</td>\n",
       "    </tr>\n",
       "  </tbody>\n",
       "</table>\n",
       "</div>"
      ],
      "text/plain": [
       "    sex  body_mass_g  culmen_length_mm  culmen_depth_mm  flipper_length_mm  \\\n",
       "0  MALE       4050.0            44.063          17.1957            201.079   \n",
       "1  MALE       4100.0            44.500          14.3000            216.000   \n",
       "2  MALE       4725.0            47.300          13.8000            216.000   \n",
       "3  MALE       4875.0            44.500          15.7000            217.000   \n",
       "4  MALE       4650.0            46.200          14.4000            214.000   \n",
       "\n",
       "                             species  island  split  \n",
       "0  Gentoo penguin (Pygoscelis papua)  Biscoe  TRAIN  \n",
       "1  Gentoo penguin (Pygoscelis papua)  Biscoe  TRAIN  \n",
       "2  Gentoo penguin (Pygoscelis papua)  Biscoe  TRAIN  \n",
       "3  Gentoo penguin (Pygoscelis papua)  Biscoe  TRAIN  \n",
       "4  Gentoo penguin (Pygoscelis papua)  Biscoe  TRAIN  "
      ]
     },
     "execution_count": 48,
     "metadata": {},
     "output_type": "execute_result"
    }
   ],
   "source": [
    "%%bigquery\n",
    "SELECT *\n",
    "FROM ML.TRANSFORM(\n",
    "    MODEL `statmike-mlops-349915.bqml.modular_preprocessing_impute`,\n",
    "    (SELECT *\n",
    "        FROM `statmike-mlops-349915.bqml.reuse-feature-engineering-source`\n",
    "        WHERE sex IS NULL and island = 'Biscoe')\n",
    ")"
   ]
  },
  {
   "cell_type": "markdown",
   "id": "d19d9389-2ea8-4f8c-96dc-16b6a3deccd3",
   "metadata": {},
   "source": [
    "### Create `TRANSFORM_ONLY` Model - For Scaling"
   ]
  },
  {
   "cell_type": "code",
   "execution_count": 49,
   "id": "1654de4e-7424-40ad-bd3f-9f03e1448b8b",
   "metadata": {},
   "outputs": [
    {
     "data": {
      "application/vnd.jupyter.widget-view+json": {
       "model_id": "a1d2bea60aff4090af9f21b452f469d8",
       "version_major": 2,
       "version_minor": 0
      },
      "text/plain": [
       "Query is running:   0%|          |"
      ]
     },
     "metadata": {},
     "output_type": "display_data"
    },
    {
     "data": {
      "text/html": [
       "<div>\n",
       "<style scoped>\n",
       "    .dataframe tbody tr th:only-of-type {\n",
       "        vertical-align: middle;\n",
       "    }\n",
       "\n",
       "    .dataframe tbody tr th {\n",
       "        vertical-align: top;\n",
       "    }\n",
       "\n",
       "    .dataframe thead th {\n",
       "        text-align: right;\n",
       "    }\n",
       "</style>\n",
       "<table border=\"1\" class=\"dataframe\">\n",
       "  <thead>\n",
       "    <tr style=\"text-align: right;\">\n",
       "      <th></th>\n",
       "    </tr>\n",
       "  </thead>\n",
       "  <tbody>\n",
       "  </tbody>\n",
       "</table>\n",
       "</div>"
      ],
      "text/plain": [
       "Empty DataFrame\n",
       "Columns: []\n",
       "Index: []"
      ]
     },
     "execution_count": 49,
     "metadata": {},
     "output_type": "execute_result"
    }
   ],
   "source": [
    "%%bigquery\n",
    "CREATE OR REPLACE MODEL `statmike-mlops-349915.bqml.modular_preprocessing_scale`\n",
    "    TRANSFORM(\n",
    "        ML.ROBUST_SCALER(body_mass_g) OVER() AS body_mass_g,\n",
    "        ML.STANDARD_SCALER(culmen_length_mm) OVER() AS culmen_length_mm,\n",
    "        ML.STANDARD_SCALER(culmen_depth_mm) OVER() AS culmen_depth_mm,\n",
    "        ML.STANDARD_SCALER(flipper_length_mm) OVER() AS flipper_length_mm\n",
    "    )\n",
    "    OPTIONS(\n",
    "        model_type = 'TRANSFORM_ONLY',\n",
    "        model_registry = 'VERTEX_AI',\n",
    "        VERTEX_AI_MODEL_ID = 'bqml_modular_preprocessing_scale'\n",
    ")\n",
    "AS\n",
    "SELECT * \n",
    "FROM `statmike-mlops-349915.bqml.reuse-feature-engineering-source`\n",
    "WHERE split = 'TRAIN'"
   ]
  },
  {
   "cell_type": "markdown",
   "id": "14b4f91d-c429-4001-a302-e5ca2c2c0b1f",
   "metadata": {},
   "source": [
    "Now apply the `TRANSFORM_ONLY` model using `ML.TRANSFORM`:"
   ]
  },
  {
   "cell_type": "code",
   "execution_count": 50,
   "id": "fca298ac-3a23-4d14-9917-7d28ead67ba4",
   "metadata": {},
   "outputs": [
    {
     "data": {
      "application/vnd.jupyter.widget-view+json": {
       "model_id": "c407f59ca4fb49adaa148d0bb00fea13",
       "version_major": 2,
       "version_minor": 0
      },
      "text/plain": [
       "Query is running:   0%|          |"
      ]
     },
     "metadata": {},
     "output_type": "display_data"
    },
    {
     "data": {
      "application/vnd.jupyter.widget-view+json": {
       "model_id": "11358061fe414857a76460de6ec28f8f",
       "version_major": 2,
       "version_minor": 0
      },
      "text/plain": [
       "Downloading:   0%|          |"
      ]
     },
     "metadata": {},
     "output_type": "display_data"
    },
    {
     "data": {
      "text/html": [
       "<div>\n",
       "<style scoped>\n",
       "    .dataframe tbody tr th:only-of-type {\n",
       "        vertical-align: middle;\n",
       "    }\n",
       "\n",
       "    .dataframe tbody tr th {\n",
       "        vertical-align: top;\n",
       "    }\n",
       "\n",
       "    .dataframe thead th {\n",
       "        text-align: right;\n",
       "    }\n",
       "</style>\n",
       "<table border=\"1\" class=\"dataframe\">\n",
       "  <thead>\n",
       "    <tr style=\"text-align: right;\">\n",
       "      <th></th>\n",
       "      <th>body_mass_g</th>\n",
       "      <th>culmen_length_mm</th>\n",
       "      <th>culmen_depth_mm</th>\n",
       "      <th>flipper_length_mm</th>\n",
       "      <th>species</th>\n",
       "      <th>island</th>\n",
       "      <th>sex</th>\n",
       "      <th>split</th>\n",
       "    </tr>\n",
       "  </thead>\n",
       "  <tbody>\n",
       "    <tr>\n",
       "      <th>0</th>\n",
       "      <td>NaN</td>\n",
       "      <td>NaN</td>\n",
       "      <td>NaN</td>\n",
       "      <td>NaN</td>\n",
       "      <td>Gentoo penguin (Pygoscelis papua)</td>\n",
       "      <td>Biscoe</td>\n",
       "      <td>None</td>\n",
       "      <td>TRAIN</td>\n",
       "    </tr>\n",
       "    <tr>\n",
       "      <th>1</th>\n",
       "      <td>0.043478</td>\n",
       "      <td>0.080333</td>\n",
       "      <td>-1.447430</td>\n",
       "      <td>1.065093</td>\n",
       "      <td>Gentoo penguin (Pygoscelis papua)</td>\n",
       "      <td>Biscoe</td>\n",
       "      <td>None</td>\n",
       "      <td>TRAIN</td>\n",
       "    </tr>\n",
       "    <tr>\n",
       "      <th>2</th>\n",
       "      <td>0.586957</td>\n",
       "      <td>0.595051</td>\n",
       "      <td>-1.697358</td>\n",
       "      <td>1.065093</td>\n",
       "      <td>Gentoo penguin (Pygoscelis papua)</td>\n",
       "      <td>Biscoe</td>\n",
       "      <td>None</td>\n",
       "      <td>TRAIN</td>\n",
       "    </tr>\n",
       "    <tr>\n",
       "      <th>3</th>\n",
       "      <td>0.717391</td>\n",
       "      <td>0.080333</td>\n",
       "      <td>-0.747633</td>\n",
       "      <td>1.136476</td>\n",
       "      <td>Gentoo penguin (Pygoscelis papua)</td>\n",
       "      <td>Biscoe</td>\n",
       "      <td>None</td>\n",
       "      <td>TRAIN</td>\n",
       "    </tr>\n",
       "    <tr>\n",
       "      <th>4</th>\n",
       "      <td>0.521739</td>\n",
       "      <td>0.392840</td>\n",
       "      <td>-1.397445</td>\n",
       "      <td>0.922329</td>\n",
       "      <td>Gentoo penguin (Pygoscelis papua)</td>\n",
       "      <td>Biscoe</td>\n",
       "      <td>None</td>\n",
       "      <td>TRAIN</td>\n",
       "    </tr>\n",
       "  </tbody>\n",
       "</table>\n",
       "</div>"
      ],
      "text/plain": [
       "   body_mass_g  culmen_length_mm  culmen_depth_mm  flipper_length_mm  \\\n",
       "0          NaN               NaN              NaN                NaN   \n",
       "1     0.043478          0.080333        -1.447430           1.065093   \n",
       "2     0.586957          0.595051        -1.697358           1.065093   \n",
       "3     0.717391          0.080333        -0.747633           1.136476   \n",
       "4     0.521739          0.392840        -1.397445           0.922329   \n",
       "\n",
       "                             species  island   sex  split  \n",
       "0  Gentoo penguin (Pygoscelis papua)  Biscoe  None  TRAIN  \n",
       "1  Gentoo penguin (Pygoscelis papua)  Biscoe  None  TRAIN  \n",
       "2  Gentoo penguin (Pygoscelis papua)  Biscoe  None  TRAIN  \n",
       "3  Gentoo penguin (Pygoscelis papua)  Biscoe  None  TRAIN  \n",
       "4  Gentoo penguin (Pygoscelis papua)  Biscoe  None  TRAIN  "
      ]
     },
     "execution_count": 50,
     "metadata": {},
     "output_type": "execute_result"
    }
   ],
   "source": [
    "%%bigquery\n",
    "SELECT *\n",
    "FROM ML.TRANSFORM(\n",
    "    MODEL `statmike-mlops-349915.bqml.modular_preprocessing_scale`,\n",
    "    (SELECT *\n",
    "        FROM `statmike-mlops-349915.bqml.reuse-feature-engineering-source`\n",
    "        WHERE sex IS NULL and island = 'Biscoe')\n",
    ")"
   ]
  },
  {
   "cell_type": "markdown",
   "id": "0aa12eed-5136-4038-936c-4e65e9a6e4ba",
   "metadata": {},
   "source": [
    "### Apply Multiple `TRANSFORM_ONLY` Models - Feature Pipeline"
   ]
  },
  {
   "cell_type": "code",
   "execution_count": 51,
   "id": "b61249ab-6018-4ac3-991f-43652d8426c1",
   "metadata": {},
   "outputs": [
    {
     "data": {
      "application/vnd.jupyter.widget-view+json": {
       "model_id": "9306328c88e941b9b1819d3df412d788",
       "version_major": 2,
       "version_minor": 0
      },
      "text/plain": [
       "Query is running:   0%|          |"
      ]
     },
     "metadata": {},
     "output_type": "display_data"
    },
    {
     "data": {
      "application/vnd.jupyter.widget-view+json": {
       "model_id": "9afc34eec66a4e99b870632dce30adfb",
       "version_major": 2,
       "version_minor": 0
      },
      "text/plain": [
       "Downloading:   0%|          |"
      ]
     },
     "metadata": {},
     "output_type": "display_data"
    },
    {
     "data": {
      "text/html": [
       "<div>\n",
       "<style scoped>\n",
       "    .dataframe tbody tr th:only-of-type {\n",
       "        vertical-align: middle;\n",
       "    }\n",
       "\n",
       "    .dataframe tbody tr th {\n",
       "        vertical-align: top;\n",
       "    }\n",
       "\n",
       "    .dataframe thead th {\n",
       "        text-align: right;\n",
       "    }\n",
       "</style>\n",
       "<table border=\"1\" class=\"dataframe\">\n",
       "  <thead>\n",
       "    <tr style=\"text-align: right;\">\n",
       "      <th></th>\n",
       "      <th>body_mass_g</th>\n",
       "      <th>culmen_length_mm</th>\n",
       "      <th>culmen_depth_mm</th>\n",
       "      <th>flipper_length_mm</th>\n",
       "      <th>sex</th>\n",
       "      <th>species</th>\n",
       "      <th>island</th>\n",
       "      <th>split</th>\n",
       "    </tr>\n",
       "  </thead>\n",
       "  <tbody>\n",
       "    <tr>\n",
       "      <th>0</th>\n",
       "      <td>0.000000</td>\n",
       "      <td>0.000000</td>\n",
       "      <td>0.000000</td>\n",
       "      <td>0.000000</td>\n",
       "      <td>MALE</td>\n",
       "      <td>Gentoo penguin (Pygoscelis papua)</td>\n",
       "      <td>Biscoe</td>\n",
       "      <td>TRAIN</td>\n",
       "    </tr>\n",
       "    <tr>\n",
       "      <th>1</th>\n",
       "      <td>0.043478</td>\n",
       "      <td>0.080333</td>\n",
       "      <td>-1.447430</td>\n",
       "      <td>1.065093</td>\n",
       "      <td>MALE</td>\n",
       "      <td>Gentoo penguin (Pygoscelis papua)</td>\n",
       "      <td>Biscoe</td>\n",
       "      <td>TRAIN</td>\n",
       "    </tr>\n",
       "    <tr>\n",
       "      <th>2</th>\n",
       "      <td>0.586957</td>\n",
       "      <td>0.595051</td>\n",
       "      <td>-1.697358</td>\n",
       "      <td>1.065093</td>\n",
       "      <td>MALE</td>\n",
       "      <td>Gentoo penguin (Pygoscelis papua)</td>\n",
       "      <td>Biscoe</td>\n",
       "      <td>TRAIN</td>\n",
       "    </tr>\n",
       "    <tr>\n",
       "      <th>3</th>\n",
       "      <td>0.717391</td>\n",
       "      <td>0.080333</td>\n",
       "      <td>-0.747633</td>\n",
       "      <td>1.136476</td>\n",
       "      <td>MALE</td>\n",
       "      <td>Gentoo penguin (Pygoscelis papua)</td>\n",
       "      <td>Biscoe</td>\n",
       "      <td>TRAIN</td>\n",
       "    </tr>\n",
       "    <tr>\n",
       "      <th>4</th>\n",
       "      <td>0.521739</td>\n",
       "      <td>0.392840</td>\n",
       "      <td>-1.397445</td>\n",
       "      <td>0.922329</td>\n",
       "      <td>MALE</td>\n",
       "      <td>Gentoo penguin (Pygoscelis papua)</td>\n",
       "      <td>Biscoe</td>\n",
       "      <td>TRAIN</td>\n",
       "    </tr>\n",
       "  </tbody>\n",
       "</table>\n",
       "</div>"
      ],
      "text/plain": [
       "   body_mass_g  culmen_length_mm  culmen_depth_mm  flipper_length_mm   sex  \\\n",
       "0     0.000000          0.000000         0.000000           0.000000  MALE   \n",
       "1     0.043478          0.080333        -1.447430           1.065093  MALE   \n",
       "2     0.586957          0.595051        -1.697358           1.065093  MALE   \n",
       "3     0.717391          0.080333        -0.747633           1.136476  MALE   \n",
       "4     0.521739          0.392840        -1.397445           0.922329  MALE   \n",
       "\n",
       "                             species  island  split  \n",
       "0  Gentoo penguin (Pygoscelis papua)  Biscoe  TRAIN  \n",
       "1  Gentoo penguin (Pygoscelis papua)  Biscoe  TRAIN  \n",
       "2  Gentoo penguin (Pygoscelis papua)  Biscoe  TRAIN  \n",
       "3  Gentoo penguin (Pygoscelis papua)  Biscoe  TRAIN  \n",
       "4  Gentoo penguin (Pygoscelis papua)  Biscoe  TRAIN  "
      ]
     },
     "execution_count": 51,
     "metadata": {},
     "output_type": "execute_result"
    }
   ],
   "source": [
    "%%bigquery\n",
    "WITH\n",
    "    raw AS (\n",
    "        SELECT *\n",
    "        FROM `statmike-mlops-349915.bqml.reuse-feature-engineering-source`\n",
    "        WHERE sex IS NULL and island = 'Biscoe'\n",
    "    ),\n",
    "    impute AS (\n",
    "        SELECT *\n",
    "        FROM ML.TRANSFORM(\n",
    "            MODEL `statmike-mlops-349915.bqml.modular_preprocessing_impute`,\n",
    "            (SELECT * FROM raw)\n",
    "        )\n",
    "    ),\n",
    "    scale AS (\n",
    "        SELECT *\n",
    "        FROM ML.TRANSFORM(\n",
    "            MODEL `statmike-mlops-349915.bqml.modular_preprocessing_scale`,\n",
    "            (SELECT * FROM impute)\n",
    "        )\n",
    "    \n",
    "    )\n",
    "SELECT *\n",
    "FROM scale"
   ]
  },
  {
   "cell_type": "markdown",
   "id": "64d27b79-6e0e-4e5e-8d4d-611cba26723f",
   "metadata": {},
   "source": [
    "### Create Model Using `TRANSFORM_ONLY` Models As Feature Pipeline"
   ]
  },
  {
   "cell_type": "code",
   "execution_count": 52,
   "id": "b2330f87-b8a7-4519-bd5d-364472747546",
   "metadata": {},
   "outputs": [
    {
     "data": {
      "application/vnd.jupyter.widget-view+json": {
       "model_id": "3f5e287de4cb4cec80a6556f5104876f",
       "version_major": 2,
       "version_minor": 0
      },
      "text/plain": [
       "Query is running:   0%|          |"
      ]
     },
     "metadata": {},
     "output_type": "display_data"
    },
    {
     "data": {
      "text/html": [
       "<div>\n",
       "<style scoped>\n",
       "    .dataframe tbody tr th:only-of-type {\n",
       "        vertical-align: middle;\n",
       "    }\n",
       "\n",
       "    .dataframe tbody tr th {\n",
       "        vertical-align: top;\n",
       "    }\n",
       "\n",
       "    .dataframe thead th {\n",
       "        text-align: right;\n",
       "    }\n",
       "</style>\n",
       "<table border=\"1\" class=\"dataframe\">\n",
       "  <thead>\n",
       "    <tr style=\"text-align: right;\">\n",
       "      <th></th>\n",
       "    </tr>\n",
       "  </thead>\n",
       "  <tbody>\n",
       "  </tbody>\n",
       "</table>\n",
       "</div>"
      ],
      "text/plain": [
       "Empty DataFrame\n",
       "Columns: []\n",
       "Index: []"
      ]
     },
     "execution_count": 52,
     "metadata": {},
     "output_type": "execute_result"
    }
   ],
   "source": [
    "%%bigquery\n",
    "CREATE OR REPLACE MODEL `statmike-mlops-349915.bqml.modular_preprocessing`\n",
    "    OPTIONS(\n",
    "        model_type = 'BOOSTED_TREE_CLASSIFIER',\n",
    "        input_label_cols = ['species'],\n",
    "        data_split_method = 'CUSTOM',\n",
    "        data_split_col = 'split',\n",
    "        model_registry = 'VERTEX_AI',\n",
    "        VERTEX_AI_MODEL_ID = 'bqml_modular_preprocessing'\n",
    "    )\n",
    "AS\n",
    "WITH\n",
    "    raw AS (\n",
    "        SELECT *\n",
    "        FROM `statmike-mlops-349915.bqml.reuse-feature-engineering-source`\n",
    "    ),\n",
    "    impute AS (\n",
    "        SELECT *\n",
    "        FROM ML.TRANSFORM(\n",
    "            MODEL `statmike-mlops-349915.bqml.modular_preprocessing_impute`,\n",
    "            (SELECT * FROM raw)\n",
    "        )\n",
    "    ),\n",
    "    scale AS (\n",
    "        SELECT *\n",
    "        FROM ML.TRANSFORM(\n",
    "            MODEL `statmike-mlops-349915.bqml.modular_preprocessing_scale`,\n",
    "            (SELECT * FROM impute)\n",
    "        )\n",
    "    )\n",
    "SELECT * EXCEPT(split),\n",
    "    CASE WHEN split = 'TRAIN' THEN FALSE ELSE TRUE END AS split\n",
    "FROM scale"
   ]
  },
  {
   "cell_type": "markdown",
   "id": "9ac7ea2a-18cf-4233-9a34-930626deb961",
   "metadata": {},
   "source": [
    "The feature information for the model can be reviewed with ML.FEATURE_INFO.  This shows summary statistics pre-transformation inside the model, but since the features were pre-processed using modular `TRANSFORM_ONLY` models, the input featurs are already imputed and scaled."
   ]
  },
  {
   "cell_type": "code",
   "execution_count": 53,
   "id": "93f58752-3879-437a-bff2-d3f7f5aefe18",
   "metadata": {},
   "outputs": [
    {
     "data": {
      "application/vnd.jupyter.widget-view+json": {
       "model_id": "01b44256f2224c8d960a9df0714790b1",
       "version_major": 2,
       "version_minor": 0
      },
      "text/plain": [
       "Query is running:   0%|          |"
      ]
     },
     "metadata": {},
     "output_type": "display_data"
    },
    {
     "data": {
      "application/vnd.jupyter.widget-view+json": {
       "model_id": "369458047ee64a13965da9d094ddc117",
       "version_major": 2,
       "version_minor": 0
      },
      "text/plain": [
       "Downloading:   0%|          |"
      ]
     },
     "metadata": {},
     "output_type": "display_data"
    },
    {
     "data": {
      "text/html": [
       "<div>\n",
       "<style scoped>\n",
       "    .dataframe tbody tr th:only-of-type {\n",
       "        vertical-align: middle;\n",
       "    }\n",
       "\n",
       "    .dataframe tbody tr th {\n",
       "        vertical-align: top;\n",
       "    }\n",
       "\n",
       "    .dataframe thead th {\n",
       "        text-align: right;\n",
       "    }\n",
       "</style>\n",
       "<table border=\"1\" class=\"dataframe\">\n",
       "  <thead>\n",
       "    <tr style=\"text-align: right;\">\n",
       "      <th></th>\n",
       "      <th>input</th>\n",
       "      <th>min</th>\n",
       "      <th>max</th>\n",
       "      <th>mean</th>\n",
       "      <th>median</th>\n",
       "      <th>stddev</th>\n",
       "      <th>category_count</th>\n",
       "      <th>null_count</th>\n",
       "      <th>dimension</th>\n",
       "    </tr>\n",
       "  </thead>\n",
       "  <tbody>\n",
       "    <tr>\n",
       "      <th>0</th>\n",
       "      <td>body_mass_g</td>\n",
       "      <td>-1.173913</td>\n",
       "      <td>1.956522</td>\n",
       "      <td>0.149129</td>\n",
       "      <td>0.000000</td>\n",
       "      <td>0.687379</td>\n",
       "      <td>&lt;NA&gt;</td>\n",
       "      <td>0</td>\n",
       "      <td>&lt;NA&gt;</td>\n",
       "    </tr>\n",
       "    <tr>\n",
       "      <th>1</th>\n",
       "      <td>culmen_length_mm</td>\n",
       "      <td>-2.199133</td>\n",
       "      <td>2.856134</td>\n",
       "      <td>-0.000009</td>\n",
       "      <td>0.080333</td>\n",
       "      <td>0.998365</td>\n",
       "      <td>&lt;NA&gt;</td>\n",
       "      <td>0</td>\n",
       "      <td>&lt;NA&gt;</td>\n",
       "    </tr>\n",
       "    <tr>\n",
       "      <th>2</th>\n",
       "      <td>culmen_depth_mm</td>\n",
       "      <td>-2.047256</td>\n",
       "      <td>2.151526</td>\n",
       "      <td>0.000019</td>\n",
       "      <td>0.052135</td>\n",
       "      <td>0.998363</td>\n",
       "      <td>&lt;NA&gt;</td>\n",
       "      <td>0</td>\n",
       "      <td>&lt;NA&gt;</td>\n",
       "    </tr>\n",
       "    <tr>\n",
       "      <th>3</th>\n",
       "      <td>flipper_length_mm</td>\n",
       "      <td>-2.075722</td>\n",
       "      <td>2.135826</td>\n",
       "      <td>-0.000022</td>\n",
       "      <td>-0.219786</td>\n",
       "      <td>0.998368</td>\n",
       "      <td>&lt;NA&gt;</td>\n",
       "      <td>0</td>\n",
       "      <td>&lt;NA&gt;</td>\n",
       "    </tr>\n",
       "    <tr>\n",
       "      <th>4</th>\n",
       "      <td>sex</td>\n",
       "      <td>NaN</td>\n",
       "      <td>NaN</td>\n",
       "      <td>NaN</td>\n",
       "      <td>NaN</td>\n",
       "      <td>NaN</td>\n",
       "      <td>2</td>\n",
       "      <td>0</td>\n",
       "      <td>&lt;NA&gt;</td>\n",
       "    </tr>\n",
       "    <tr>\n",
       "      <th>5</th>\n",
       "      <td>island</td>\n",
       "      <td>NaN</td>\n",
       "      <td>NaN</td>\n",
       "      <td>NaN</td>\n",
       "      <td>NaN</td>\n",
       "      <td>NaN</td>\n",
       "      <td>3</td>\n",
       "      <td>0</td>\n",
       "      <td>&lt;NA&gt;</td>\n",
       "    </tr>\n",
       "  </tbody>\n",
       "</table>\n",
       "</div>"
      ],
      "text/plain": [
       "               input       min       max      mean    median    stddev  \\\n",
       "0        body_mass_g -1.173913  1.956522  0.149129  0.000000  0.687379   \n",
       "1   culmen_length_mm -2.199133  2.856134 -0.000009  0.080333  0.998365   \n",
       "2    culmen_depth_mm -2.047256  2.151526  0.000019  0.052135  0.998363   \n",
       "3  flipper_length_mm -2.075722  2.135826 -0.000022 -0.219786  0.998368   \n",
       "4                sex       NaN       NaN       NaN       NaN       NaN   \n",
       "5             island       NaN       NaN       NaN       NaN       NaN   \n",
       "\n",
       "   category_count  null_count  dimension  \n",
       "0            <NA>           0       <NA>  \n",
       "1            <NA>           0       <NA>  \n",
       "2            <NA>           0       <NA>  \n",
       "3            <NA>           0       <NA>  \n",
       "4               2           0       <NA>  \n",
       "5               3           0       <NA>  "
      ]
     },
     "execution_count": 53,
     "metadata": {},
     "output_type": "execute_result"
    }
   ],
   "source": [
    "%%bigquery\n",
    "SELECT *\n",
    "FROM ML.FEATURE_INFO(MODEL `statmike-mlops-349915.bqml.modular_preprocessing`)"
   ]
  },
  {
   "cell_type": "markdown",
   "id": "c0ba7707-9176-4f0e-8088-577e927c5231",
   "metadata": {},
   "source": [
    "The `ML.EVALUATE` function can be used to review the evaluation metrics, here for both splits combined.  Notice that the feature pipeline needs to be repeated because it is not embedded in the model in this case."
   ]
  },
  {
   "cell_type": "code",
   "execution_count": 54,
   "id": "c6bed37b-541e-4cd2-89e0-13ef15a32631",
   "metadata": {},
   "outputs": [
    {
     "data": {
      "application/vnd.jupyter.widget-view+json": {
       "model_id": "856cf617887141b3afb807a47d433cf9",
       "version_major": 2,
       "version_minor": 0
      },
      "text/plain": [
       "Query is running:   0%|          |"
      ]
     },
     "metadata": {},
     "output_type": "display_data"
    },
    {
     "data": {
      "application/vnd.jupyter.widget-view+json": {
       "model_id": "10ed7f63ef734b5588bd5c1c51eecd5b",
       "version_major": 2,
       "version_minor": 0
      },
      "text/plain": [
       "Downloading:   0%|          |"
      ]
     },
     "metadata": {},
     "output_type": "display_data"
    },
    {
     "data": {
      "text/html": [
       "<div>\n",
       "<style scoped>\n",
       "    .dataframe tbody tr th:only-of-type {\n",
       "        vertical-align: middle;\n",
       "    }\n",
       "\n",
       "    .dataframe tbody tr th {\n",
       "        vertical-align: top;\n",
       "    }\n",
       "\n",
       "    .dataframe thead th {\n",
       "        text-align: right;\n",
       "    }\n",
       "</style>\n",
       "<table border=\"1\" class=\"dataframe\">\n",
       "  <thead>\n",
       "    <tr style=\"text-align: right;\">\n",
       "      <th></th>\n",
       "      <th>precision</th>\n",
       "      <th>recall</th>\n",
       "      <th>accuracy</th>\n",
       "      <th>f1_score</th>\n",
       "      <th>log_loss</th>\n",
       "      <th>roc_auc</th>\n",
       "    </tr>\n",
       "  </thead>\n",
       "  <tbody>\n",
       "    <tr>\n",
       "      <th>0</th>\n",
       "      <td>0.997821</td>\n",
       "      <td>0.995098</td>\n",
       "      <td>0.997093</td>\n",
       "      <td>0.996438</td>\n",
       "      <td>0.021294</td>\n",
       "      <td>1.0</td>\n",
       "    </tr>\n",
       "  </tbody>\n",
       "</table>\n",
       "</div>"
      ],
      "text/plain": [
       "   precision    recall  accuracy  f1_score  log_loss  roc_auc\n",
       "0   0.997821  0.995098  0.997093  0.996438  0.021294      1.0"
      ]
     },
     "execution_count": 54,
     "metadata": {},
     "output_type": "execute_result"
    }
   ],
   "source": [
    "%%bigquery\n",
    "WITH\n",
    "    raw AS (\n",
    "        SELECT *\n",
    "        FROM `statmike-mlops-349915.bqml.reuse-feature-engineering-source`\n",
    "    ),\n",
    "    impute AS (\n",
    "        SELECT *\n",
    "        FROM ML.TRANSFORM(\n",
    "            MODEL `statmike-mlops-349915.bqml.modular_preprocessing_impute`,\n",
    "            (SELECT * FROM raw)\n",
    "        )\n",
    "    ),\n",
    "    scale AS (\n",
    "        SELECT *\n",
    "        FROM ML.TRANSFORM(\n",
    "            MODEL `statmike-mlops-349915.bqml.modular_preprocessing_scale`,\n",
    "            (SELECT * FROM impute)\n",
    "        )\n",
    "    )\n",
    "SELECT *\n",
    "FROM ML.EVALUATE(\n",
    "    MODEL `statmike-mlops-349915.bqml.modular_preprocessing`,\n",
    "    (SELECT * FROM scale)\n",
    ")"
   ]
  },
  {
   "cell_type": "markdown",
   "id": "a9431eb1-570c-41cb-81e1-2e220b89210a",
   "metadata": {},
   "source": [
    "---\n",
    "## Using Models With BigFrames API\n",
    "\n",
    "The model with embedded preprocessing can be used directly with the BigFrame API."
   ]
  },
  {
   "cell_type": "code",
   "execution_count": null,
   "id": "4ca40f92-bc3d-4caa-bb4e-55c2caffd172",
   "metadata": {},
   "outputs": [],
   "source": [
    "model = bf.read_gbq_model(f'{BQ_PROJECT}.{BQ_DATASET}.embedded_preprocessing')"
   ]
  },
  {
   "cell_type": "code",
   "execution_count": 110,
   "id": "c3b96359-ff61-4f27-aff4-cd5cb32a67a3",
   "metadata": {},
   "outputs": [
    {
     "data": {
      "text/plain": [
       "{'island': 'Dream',\n",
       " 'culmen_length_mm': 40.9,\n",
       " 'culmen_depth_mm': 18.9,\n",
       " 'flipper_length_mm': 184.0,\n",
       " 'sex': 'MALE',\n",
       " 'body_mass_g': 3650.0}"
      ]
     },
     "execution_count": 110,
     "metadata": {},
     "output_type": "execute_result"
    }
   ],
   "source": [
    "test_dict = dict(\n",
    "    island = 'Dream',\n",
    "    culmen_length_mm = 40.9,\n",
    "    culmen_depth_mm = 18.9,\n",
    "    flipper_length_mm = 184.0,\n",
    "    sex = 'MALE',\n",
    "    body_mass_g = 3650.0\n",
    ")\n",
    "test_dict"
   ]
  },
  {
   "cell_type": "code",
   "execution_count": 111,
   "id": "f6611bfa-e3f8-4e9c-a81b-ce093e438fb4",
   "metadata": {},
   "outputs": [
    {
     "data": {
      "application/vnd.jupyter.widget-view+json": {
       "model_id": "e90737c7b95a45929ed5f45cafb05fe2",
       "version_major": 2,
       "version_minor": 0
      },
      "text/plain": [
       "HTML(value='Load job 92c50bdf-798f-4c12-9234-7cbf4eabc747 is RUNNING. <a target=\"_blank\" href=\"https://console…"
      ]
     },
     "metadata": {},
     "output_type": "display_data"
    },
    {
     "data": {
      "application/vnd.jupyter.widget-view+json": {
       "model_id": "54076a123d27465e81925bb32dc04fd6",
       "version_major": 2,
       "version_minor": 0
      },
      "text/plain": [
       "HTML(value='Query job 9b2c6404-f6a2-4229-81e0-acfb032ef923 is DONE. 8 Bytes processed. <a target=\"_blank\" href…"
      ]
     },
     "metadata": {},
     "output_type": "display_data"
    },
    {
     "data": {
      "application/vnd.jupyter.widget-view+json": {
       "model_id": "2ed0193b546648498fe671a84096f72a",
       "version_major": 2,
       "version_minor": 0
      },
      "text/plain": [
       "HTML(value='Query job 79b83d19-bce2-4498-b6a5-0567b2f6b7e2 is DONE. 53 Bytes processed. <a target=\"_blank\" hre…"
      ]
     },
     "metadata": {},
     "output_type": "display_data"
    },
    {
     "data": {
      "application/vnd.jupyter.widget-view+json": {
       "model_id": "a054a135b54244a7a90580fb24f8c127",
       "version_major": 2,
       "version_minor": 0
      },
      "text/plain": [
       "HTML(value='Query job 1b2554ee-ef7c-43ef-848e-cb8e0e9cc9df is DONE. 0 Bytes processed. <a target=\"_blank\" href…"
      ]
     },
     "metadata": {},
     "output_type": "display_data"
    },
    {
     "data": {
      "text/html": [
       "<div>\n",
       "<style scoped>\n",
       "    .dataframe tbody tr th:only-of-type {\n",
       "        vertical-align: middle;\n",
       "    }\n",
       "\n",
       "    .dataframe tbody tr th {\n",
       "        vertical-align: top;\n",
       "    }\n",
       "\n",
       "    .dataframe thead th {\n",
       "        text-align: right;\n",
       "    }\n",
       "</style>\n",
       "<table border=\"1\" class=\"dataframe\">\n",
       "  <thead>\n",
       "    <tr style=\"text-align: right;\">\n",
       "      <th></th>\n",
       "      <th>island</th>\n",
       "      <th>culmen_length_mm</th>\n",
       "      <th>culmen_depth_mm</th>\n",
       "      <th>flipper_length_mm</th>\n",
       "      <th>sex</th>\n",
       "      <th>body_mass_g</th>\n",
       "    </tr>\n",
       "  </thead>\n",
       "  <tbody>\n",
       "    <tr>\n",
       "      <th>0</th>\n",
       "      <td>Dream</td>\n",
       "      <td>40.9</td>\n",
       "      <td>18.9</td>\n",
       "      <td>184.0</td>\n",
       "      <td>MALE</td>\n",
       "      <td>3650.0</td>\n",
       "    </tr>\n",
       "  </tbody>\n",
       "</table>\n",
       "<p>1 rows × 6 columns</p>\n",
       "</div>[1 rows x 6 columns in total]"
      ],
      "text/plain": [
       "  island  culmen_length_mm  culmen_depth_mm  flipper_length_mm   sex  \\\n",
       "0  Dream              40.9             18.9              184.0  MALE   \n",
       "\n",
       "   body_mass_g  \n",
       "0       3650.0  \n",
       "\n",
       "[1 rows x 6 columns]"
      ]
     },
     "execution_count": 111,
     "metadata": {},
     "output_type": "execute_result"
    }
   ],
   "source": [
    "test_df = pd.Series(test_dict).to_frame().T\n",
    "test_bf = bf.read_pandas(test_df)\n",
    "test_bf.head()"
   ]
  },
  {
   "cell_type": "code",
   "execution_count": 73,
   "id": "30598965-763d-4c19-96f5-4de709e58055",
   "metadata": {},
   "outputs": [
    {
     "data": {
      "application/vnd.jupyter.widget-view+json": {
       "model_id": "2c48651e9e7a41528c8a2700d26fa18b",
       "version_major": 2,
       "version_minor": 0
      },
      "text/plain": [
       "HTML(value='Query job eda0d29e-6f4a-47a8-b3c6-5f4c3888af59 is RUNNING. <a target=\"_blank\" href=\"https://consol…"
      ]
     },
     "metadata": {},
     "output_type": "display_data"
    },
    {
     "data": {
      "application/vnd.jupyter.widget-view+json": {
       "model_id": "3a728a122cb44225aa6cc8bc279d7067",
       "version_major": 2,
       "version_minor": 0
      },
      "text/plain": [
       "HTML(value='Query job 2d5a57d9-00f5-461f-ba48-2fdf771b1cb9 is DONE. 8 Bytes processed. <a target=\"_blank\" href…"
      ]
     },
     "metadata": {},
     "output_type": "display_data"
    },
    {
     "data": {
      "application/vnd.jupyter.widget-view+json": {
       "model_id": "29aef52af0b746d19584e6f647efef78",
       "version_major": 2,
       "version_minor": 0
      },
      "text/plain": [
       "HTML(value='Query job 4b12b399-bfe1-4331-a6f8-6b40bb1723e5 is DONE. 0 Bytes processed. <a target=\"_blank\" href…"
      ]
     },
     "metadata": {},
     "output_type": "display_data"
    },
    {
     "data": {
      "application/vnd.jupyter.widget-view+json": {
       "model_id": "2896e028761c40638c8e5dcbfaecfc12",
       "version_major": 2,
       "version_minor": 0
      },
      "text/plain": [
       "HTML(value='Query job 37ff546f-01cc-4af9-860f-6388d52275e4 is DONE. 51 Bytes processed. <a target=\"_blank\" hre…"
      ]
     },
     "metadata": {},
     "output_type": "display_data"
    },
    {
     "data": {
      "application/vnd.jupyter.widget-view+json": {
       "model_id": "a987cc2ba01f4fff850ebc967fabc683",
       "version_major": 2,
       "version_minor": 0
      },
      "text/plain": [
       "HTML(value='Query job 9c59a1a9-dbb3-4112-a802-ae07030cb5a4 is DONE. 0 Bytes processed. <a target=\"_blank\" href…"
      ]
     },
     "metadata": {},
     "output_type": "display_data"
    },
    {
     "data": {
      "text/html": [
       "<div>\n",
       "<style scoped>\n",
       "    .dataframe tbody tr th:only-of-type {\n",
       "        vertical-align: middle;\n",
       "    }\n",
       "\n",
       "    .dataframe tbody tr th {\n",
       "        vertical-align: top;\n",
       "    }\n",
       "\n",
       "    .dataframe thead th {\n",
       "        text-align: right;\n",
       "    }\n",
       "</style>\n",
       "<table border=\"1\" class=\"dataframe\">\n",
       "  <thead>\n",
       "    <tr style=\"text-align: right;\">\n",
       "      <th></th>\n",
       "      <th>predicted_species</th>\n",
       "    </tr>\n",
       "  </thead>\n",
       "  <tbody>\n",
       "    <tr>\n",
       "      <th>0</th>\n",
       "      <td>Chinstrap penguin (Pygoscelis antarctica)</td>\n",
       "    </tr>\n",
       "  </tbody>\n",
       "</table>\n",
       "<p>1 rows × 1 columns</p>\n",
       "</div>[1 rows x 1 columns in total]"
      ],
      "text/plain": [
       "                           predicted_species\n",
       "0  Chinstrap penguin (Pygoscelis antarctica)\n",
       "\n",
       "[1 rows x 1 columns]"
      ]
     },
     "execution_count": 73,
     "metadata": {},
     "output_type": "execute_result"
    }
   ],
   "source": [
    "model.predict(test_bf)"
   ]
  },
  {
   "cell_type": "markdown",
   "id": "dba3d1ad-3434-4ac4-8883-93afcce2c838",
   "metadata": {},
   "source": [
    "---\n",
    "## Export To GCS For Complete Portability"
   ]
  },
  {
   "cell_type": "code",
   "execution_count": 81,
   "id": "03c8cf59-b6f6-4473-b3ad-f9d336e88f81",
   "metadata": {},
   "outputs": [
    {
     "data": {
      "text/plain": [
       "<Bucket: statmike-mlops-349915>"
      ]
     },
     "execution_count": 81,
     "metadata": {},
     "output_type": "execute_result"
    }
   ],
   "source": [
    "gcs.lookup_bucket(GCS_BUCKET)"
   ]
  },
  {
   "cell_type": "code",
   "execution_count": 88,
   "id": "36fe5e1c-4ddc-46ca-b73c-643b20904151",
   "metadata": {},
   "outputs": [
    {
     "data": {
      "application/vnd.jupyter.widget-view+json": {
       "model_id": "9ef76459437f4870b57ecb7ec2893f30",
       "version_major": 2,
       "version_minor": 0
      },
      "text/plain": [
       "Query is running:   0%|          |"
      ]
     },
     "metadata": {},
     "output_type": "display_data"
    },
    {
     "data": {
      "text/html": [
       "<div>\n",
       "<style scoped>\n",
       "    .dataframe tbody tr th:only-of-type {\n",
       "        vertical-align: middle;\n",
       "    }\n",
       "\n",
       "    .dataframe tbody tr th {\n",
       "        vertical-align: top;\n",
       "    }\n",
       "\n",
       "    .dataframe thead th {\n",
       "        text-align: right;\n",
       "    }\n",
       "</style>\n",
       "<table border=\"1\" class=\"dataframe\">\n",
       "  <thead>\n",
       "    <tr style=\"text-align: right;\">\n",
       "      <th></th>\n",
       "    </tr>\n",
       "  </thead>\n",
       "  <tbody>\n",
       "  </tbody>\n",
       "</table>\n",
       "</div>"
      ],
      "text/plain": [
       "Empty DataFrame\n",
       "Columns: []\n",
       "Index: []"
      ]
     },
     "execution_count": 88,
     "metadata": {},
     "output_type": "execute_result"
    }
   ],
   "source": [
    "%%bigquery\n",
    "EXPORT MODEL `statmike-mlops-349915.bqml.embedded_preprocessing`\n",
    "    OPTIONS(URI = 'gs://statmike-mlops-349915/bqml/feature-engineering/models/embedded_preprocessing');\n",
    "EXPORT MODEL `statmike-mlops-349915.bqml.modular_preprocessing`\n",
    "    OPTIONS(URI = 'gs://statmike-mlops-349915/bqml/feature-engineering/models/modular_preprocessing');\n",
    "EXPORT MODEL `statmike-mlops-349915.bqml.modular_preprocessing_impute`\n",
    "    OPTIONS(URI = 'gs://statmike-mlops-349915/bqml/feature-engineering/models/modular_preprocessing_impute');\n",
    "EXPORT MODEL `statmike-mlops-349915.bqml.modular_preprocessing_scale`\n",
    "    OPTIONS(URI = 'gs://statmike-mlops-349915/bqml/feature-engineering/models/modular_preprocessing/scale');"
   ]
  },
  {
   "cell_type": "code",
   "execution_count": 91,
   "id": "4cfb7ecd-077e-4b29-8e1f-f9c485dea86e",
   "metadata": {},
   "outputs": [
    {
     "name": "stdout",
     "output_type": "stream",
     "text": [
      "bqml/feature-engineering/\n",
      "bqml/feature-engineering/models/\n",
      "bqml/feature-engineering/models/embedded_preprocessing/\n",
      "bqml/feature-engineering/models/embedded_preprocessing/assets/0_categorical_label.txt\n",
      "bqml/feature-engineering/models/embedded_preprocessing/assets/model_metadata.json\n",
      "bqml/feature-engineering/models/embedded_preprocessing/explanation_metadata.json\n",
      "bqml/feature-engineering/models/embedded_preprocessing/main.py\n",
      "bqml/feature-engineering/models/embedded_preprocessing/model.bst\n",
      "bqml/feature-engineering/models/embedded_preprocessing/transform/\n",
      "bqml/feature-engineering/models/embedded_preprocessing/transform/assets/\n",
      "bqml/feature-engineering/models/embedded_preprocessing/transform/fingerprint.pb\n",
      "bqml/feature-engineering/models/embedded_preprocessing/transform/saved_model.pb\n",
      "bqml/feature-engineering/models/embedded_preprocessing/transform/variables/\n",
      "bqml/feature-engineering/models/embedded_preprocessing/transform/variables/variables.data-00000-of-00001\n",
      "bqml/feature-engineering/models/embedded_preprocessing/transform/variables/variables.index\n",
      "bqml/feature-engineering/models/embedded_preprocessing/xgboost_predictor-0.1.tar.gz\n",
      "bqml/feature-engineering/models/modular_preprocessing/assets/4_categorical_label.txt\n",
      "bqml/feature-engineering/models/modular_preprocessing/assets/5_categorical_label.txt\n",
      "bqml/feature-engineering/models/modular_preprocessing/assets/model_metadata.json\n",
      "bqml/feature-engineering/models/modular_preprocessing/explanation_metadata.json\n",
      "bqml/feature-engineering/models/modular_preprocessing/main.py\n",
      "bqml/feature-engineering/models/modular_preprocessing/model.bst\n",
      "bqml/feature-engineering/models/modular_preprocessing/scale/\n",
      "bqml/feature-engineering/models/modular_preprocessing/scale/transform/\n",
      "bqml/feature-engineering/models/modular_preprocessing/scale/transform/assets/\n",
      "bqml/feature-engineering/models/modular_preprocessing/scale/transform/fingerprint.pb\n",
      "bqml/feature-engineering/models/modular_preprocessing/scale/transform/saved_model.pb\n",
      "bqml/feature-engineering/models/modular_preprocessing/scale/transform/variables/\n",
      "bqml/feature-engineering/models/modular_preprocessing/scale/transform/variables/variables.data-00000-of-00001\n",
      "bqml/feature-engineering/models/modular_preprocessing/scale/transform/variables/variables.index\n",
      "bqml/feature-engineering/models/modular_preprocessing/xgboost_predictor-0.1.tar.gz\n",
      "bqml/feature-engineering/models/modular_preprocessing_impute/\n",
      "bqml/feature-engineering/models/modular_preprocessing_impute/transform/\n",
      "bqml/feature-engineering/models/modular_preprocessing_impute/transform/assets/\n",
      "bqml/feature-engineering/models/modular_preprocessing_impute/transform/fingerprint.pb\n",
      "bqml/feature-engineering/models/modular_preprocessing_impute/transform/saved_model.pb\n",
      "bqml/feature-engineering/models/modular_preprocessing_impute/transform/variables/\n",
      "bqml/feature-engineering/models/modular_preprocessing_impute/transform/variables/variables.data-00000-of-00001\n",
      "bqml/feature-engineering/models/modular_preprocessing_impute/transform/variables/variables.index\n"
     ]
    }
   ],
   "source": [
    "for blob in list(gcs.bucket(GCS_BUCKET).list_blobs(prefix = 'bqml/feature-engineering/')):\n",
    "    print(blob.name)"
   ]
  },
  {
   "cell_type": "markdown",
   "id": "df68e3fb-1f82-4d12-a89a-a9a3df4f41e7",
   "metadata": {},
   "source": [
    "---\n",
    "## Online Serving With Vertex AI"
   ]
  },
  {
   "cell_type": "code",
   "execution_count": null,
   "id": "8518a840-fb98-4530-811b-e3ed3fef3a16",
   "metadata": {},
   "outputs": [],
   "source": [
    "## vertex ai client\n",
    "aiplatform.init(project = PROJECT_ID, location = REGION)"
   ]
  },
  {
   "cell_type": "code",
   "execution_count": 96,
   "id": "5ec2bc65-45d3-4efc-af92-2f965f13df13",
   "metadata": {},
   "outputs": [
    {
     "name": "stdout",
     "output_type": "stream",
     "text": [
      "bqml_modular_preprocessing\n",
      "bqml_modular_preprocessing_scale\n",
      "bqml_modular_preprocessing_impute\n",
      "bqml_embedded_preprocessing\n"
     ]
    }
   ],
   "source": [
    "for model in aiplatform.Model.list():\n",
    "    if model.name.startswith('bqml_modular'): print(model.name)\n",
    "    if model.name.startswith('bqml_embedded'): print(model.name)"
   ]
  },
  {
   "cell_type": "code",
   "execution_count": 103,
   "id": "40ff3f46-ccbf-4651-b3b7-b2c23f5b59c1",
   "metadata": {},
   "outputs": [],
   "source": [
    "vertex_model = aiplatform.Model(model_name = 'bqml_embedded_preprocessing')"
   ]
  },
  {
   "cell_type": "code",
   "execution_count": 104,
   "id": "8d41094f-009c-4ba5-9f4f-ce6c8686e9f1",
   "metadata": {},
   "outputs": [
    {
     "name": "stdout",
     "output_type": "stream",
     "text": [
      "Creating Endpoint\n"
     ]
    },
    {
     "name": "stderr",
     "output_type": "stream",
     "text": [
      "[INFO][2023-11-15 00:00:28,405][google.cloud.aiplatform.models] Creating Endpoint\n"
     ]
    },
    {
     "name": "stdout",
     "output_type": "stream",
     "text": [
      "Create Endpoint backing LRO: projects/1026793852137/locations/us-central1/endpoints/4638340379307933696/operations/2973200868821696512\n"
     ]
    },
    {
     "name": "stderr",
     "output_type": "stream",
     "text": [
      "[INFO][2023-11-15 00:00:28,407][google.cloud.aiplatform.models] Create Endpoint backing LRO: projects/1026793852137/locations/us-central1/endpoints/4638340379307933696/operations/2973200868821696512\n"
     ]
    },
    {
     "name": "stdout",
     "output_type": "stream",
     "text": [
      "Endpoint created. Resource name: projects/1026793852137/locations/us-central1/endpoints/4638340379307933696\n"
     ]
    },
    {
     "name": "stderr",
     "output_type": "stream",
     "text": [
      "[INFO][2023-11-15 00:00:30,084][google.cloud.aiplatform.models] Endpoint created. Resource name: projects/1026793852137/locations/us-central1/endpoints/4638340379307933696\n"
     ]
    },
    {
     "name": "stdout",
     "output_type": "stream",
     "text": [
      "To use this Endpoint in another session:\n"
     ]
    },
    {
     "name": "stderr",
     "output_type": "stream",
     "text": [
      "[INFO][2023-11-15 00:00:30,085][google.cloud.aiplatform.models] To use this Endpoint in another session:\n"
     ]
    },
    {
     "name": "stdout",
     "output_type": "stream",
     "text": [
      "endpoint = aiplatform.Endpoint('projects/1026793852137/locations/us-central1/endpoints/4638340379307933696')\n"
     ]
    },
    {
     "name": "stderr",
     "output_type": "stream",
     "text": [
      "[INFO][2023-11-15 00:00:30,086][google.cloud.aiplatform.models] endpoint = aiplatform.Endpoint('projects/1026793852137/locations/us-central1/endpoints/4638340379307933696')\n"
     ]
    },
    {
     "name": "stdout",
     "output_type": "stream",
     "text": [
      "Deploying model to Endpoint : projects/1026793852137/locations/us-central1/endpoints/4638340379307933696\n"
     ]
    },
    {
     "name": "stderr",
     "output_type": "stream",
     "text": [
      "[INFO][2023-11-15 00:00:30,174][google.cloud.aiplatform.models] Deploying model to Endpoint : projects/1026793852137/locations/us-central1/endpoints/4638340379307933696\n"
     ]
    },
    {
     "name": "stdout",
     "output_type": "stream",
     "text": [
      "Using default machine_type: n1-standard-2\n"
     ]
    },
    {
     "name": "stderr",
     "output_type": "stream",
     "text": [
      "[INFO][2023-11-15 00:00:30,177][google.cloud.aiplatform.models] Using default machine_type: n1-standard-2\n"
     ]
    },
    {
     "name": "stdout",
     "output_type": "stream",
     "text": [
      "Deploy Endpoint model backing LRO: projects/1026793852137/locations/us-central1/endpoints/4638340379307933696/operations/1870381910069346304\n"
     ]
    },
    {
     "name": "stderr",
     "output_type": "stream",
     "text": [
      "[INFO][2023-11-15 00:00:30,314][google.cloud.aiplatform.models] Deploy Endpoint model backing LRO: projects/1026793852137/locations/us-central1/endpoints/4638340379307933696/operations/1870381910069346304\n"
     ]
    },
    {
     "name": "stdout",
     "output_type": "stream",
     "text": [
      "Endpoint model deployed. Resource name: projects/1026793852137/locations/us-central1/endpoints/4638340379307933696\n"
     ]
    },
    {
     "name": "stderr",
     "output_type": "stream",
     "text": [
      "[INFO][2023-11-15 00:18:38,427][google.cloud.aiplatform.models] Endpoint model deployed. Resource name: projects/1026793852137/locations/us-central1/endpoints/4638340379307933696\n"
     ]
    }
   ],
   "source": [
    "endpoint = vertex_model.deploy()"
   ]
  },
  {
   "cell_type": "code",
   "execution_count": 112,
   "id": "b94d2453-2a20-4eea-bbc8-7a4b635e9d2c",
   "metadata": {},
   "outputs": [
    {
     "ename": "FailedPrecondition",
     "evalue": "400 \"Prediction failed: Exception during predicting with bqml model with transform clause: \\\"island\\\" in not an input of the TRANSFORM.\"\n",
     "output_type": "error",
     "traceback": [
      "\u001b[0;31m---------------------------------------------------------------------------\u001b[0m",
      "\u001b[0;31m_InactiveRpcError\u001b[0m                         Traceback (most recent call last)",
      "File \u001b[0;32m/opt/conda/lib/python3.10/site-packages/google/api_core/grpc_helpers.py:65\u001b[0m, in \u001b[0;36m_wrap_unary_errors.<locals>.error_remapped_callable\u001b[0;34m(*args, **kwargs)\u001b[0m\n\u001b[1;32m     64\u001b[0m \u001b[38;5;28;01mtry\u001b[39;00m:\n\u001b[0;32m---> 65\u001b[0m     \u001b[38;5;28;01mreturn\u001b[39;00m \u001b[43mcallable_\u001b[49m\u001b[43m(\u001b[49m\u001b[38;5;241;43m*\u001b[39;49m\u001b[43margs\u001b[49m\u001b[43m,\u001b[49m\u001b[43m \u001b[49m\u001b[38;5;241;43m*\u001b[39;49m\u001b[38;5;241;43m*\u001b[39;49m\u001b[43mkwargs\u001b[49m\u001b[43m)\u001b[49m\n\u001b[1;32m     66\u001b[0m \u001b[38;5;28;01mexcept\u001b[39;00m grpc\u001b[38;5;241m.\u001b[39mRpcError \u001b[38;5;28;01mas\u001b[39;00m exc:\n",
      "File \u001b[0;32m~/.local/lib/python3.10/site-packages/grpc/_channel.py:1161\u001b[0m, in \u001b[0;36m_UnaryUnaryMultiCallable.__call__\u001b[0;34m(self, request, timeout, metadata, credentials, wait_for_ready, compression)\u001b[0m\n\u001b[1;32m   1155\u001b[0m (\n\u001b[1;32m   1156\u001b[0m     state,\n\u001b[1;32m   1157\u001b[0m     call,\n\u001b[1;32m   1158\u001b[0m ) \u001b[38;5;241m=\u001b[39m \u001b[38;5;28mself\u001b[39m\u001b[38;5;241m.\u001b[39m_blocking(\n\u001b[1;32m   1159\u001b[0m     request, timeout, metadata, credentials, wait_for_ready, compression\n\u001b[1;32m   1160\u001b[0m )\n\u001b[0;32m-> 1161\u001b[0m \u001b[38;5;28;01mreturn\u001b[39;00m \u001b[43m_end_unary_response_blocking\u001b[49m\u001b[43m(\u001b[49m\u001b[43mstate\u001b[49m\u001b[43m,\u001b[49m\u001b[43m \u001b[49m\u001b[43mcall\u001b[49m\u001b[43m,\u001b[49m\u001b[43m \u001b[49m\u001b[38;5;28;43;01mFalse\u001b[39;49;00m\u001b[43m,\u001b[49m\u001b[43m \u001b[49m\u001b[38;5;28;43;01mNone\u001b[39;49;00m\u001b[43m)\u001b[49m\n",
      "File \u001b[0;32m~/.local/lib/python3.10/site-packages/grpc/_channel.py:1004\u001b[0m, in \u001b[0;36m_end_unary_response_blocking\u001b[0;34m(state, call, with_call, deadline)\u001b[0m\n\u001b[1;32m   1003\u001b[0m \u001b[38;5;28;01melse\u001b[39;00m:\n\u001b[0;32m-> 1004\u001b[0m     \u001b[38;5;28;01mraise\u001b[39;00m _InactiveRpcError(state)\n",
      "\u001b[0;31m_InactiveRpcError\u001b[0m: <_InactiveRpcError of RPC that terminated with:\n\tstatus = StatusCode.FAILED_PRECONDITION\n\tdetails = \"\"Prediction failed: Exception during predicting with bqml model with transform clause: \\\"island\\\" in not an input of the TRANSFORM.\"\n\"\n\tdebug_error_string = \"UNKNOWN:Error received from peer ipv4:108.177.111.95:443 {grpc_message:\"\\\"Prediction failed: Exception during predicting with bqml model with transform clause: \\\\\\\"island\\\\\\\" in not an input of the TRANSFORM.\\\"\\n\", grpc_status:9, created_time:\"2023-11-15T00:20:14.708865353+00:00\"}\"\n>",
      "\nThe above exception was the direct cause of the following exception:\n",
      "\u001b[0;31mFailedPrecondition\u001b[0m                        Traceback (most recent call last)",
      "Cell \u001b[0;32mIn[112], line 1\u001b[0m\n\u001b[0;32m----> 1\u001b[0m \u001b[43mendpoint\u001b[49m\u001b[38;5;241;43m.\u001b[39;49m\u001b[43mpredict\u001b[49m\u001b[43m(\u001b[49m\u001b[43minstances\u001b[49m\u001b[43m \u001b[49m\u001b[38;5;241;43m=\u001b[39;49m\u001b[43m \u001b[49m\u001b[43m[\u001b[49m\u001b[43mtest_dict\u001b[49m\u001b[43m]\u001b[49m\u001b[43m)\u001b[49m\n",
      "File \u001b[0;32m/opt/conda/lib/python3.10/site-packages/google/cloud/aiplatform/models.py:1596\u001b[0m, in \u001b[0;36mEndpoint.predict\u001b[0;34m(self, instances, parameters, timeout, use_raw_predict)\u001b[0m\n\u001b[1;32m   1583\u001b[0m     \u001b[38;5;28;01mreturn\u001b[39;00m Prediction(\n\u001b[1;32m   1584\u001b[0m         predictions\u001b[38;5;241m=\u001b[39mjson_response[\u001b[38;5;124m\"\u001b[39m\u001b[38;5;124mpredictions\u001b[39m\u001b[38;5;124m\"\u001b[39m],\n\u001b[1;32m   1585\u001b[0m         deployed_model_id\u001b[38;5;241m=\u001b[39mraw_predict_response\u001b[38;5;241m.\u001b[39mheaders[\n\u001b[0;32m   (...)\u001b[0m\n\u001b[1;32m   1593\u001b[0m         ),\n\u001b[1;32m   1594\u001b[0m     )\n\u001b[1;32m   1595\u001b[0m \u001b[38;5;28;01melse\u001b[39;00m:\n\u001b[0;32m-> 1596\u001b[0m     prediction_response \u001b[38;5;241m=\u001b[39m \u001b[38;5;28;43mself\u001b[39;49m\u001b[38;5;241;43m.\u001b[39;49m\u001b[43m_prediction_client\u001b[49m\u001b[38;5;241;43m.\u001b[39;49m\u001b[43mpredict\u001b[49m\u001b[43m(\u001b[49m\n\u001b[1;32m   1597\u001b[0m \u001b[43m        \u001b[49m\u001b[43mendpoint\u001b[49m\u001b[38;5;241;43m=\u001b[39;49m\u001b[38;5;28;43mself\u001b[39;49m\u001b[38;5;241;43m.\u001b[39;49m\u001b[43m_gca_resource\u001b[49m\u001b[38;5;241;43m.\u001b[39;49m\u001b[43mname\u001b[49m\u001b[43m,\u001b[49m\n\u001b[1;32m   1598\u001b[0m \u001b[43m        \u001b[49m\u001b[43minstances\u001b[49m\u001b[38;5;241;43m=\u001b[39;49m\u001b[43minstances\u001b[49m\u001b[43m,\u001b[49m\n\u001b[1;32m   1599\u001b[0m \u001b[43m        \u001b[49m\u001b[43mparameters\u001b[49m\u001b[38;5;241;43m=\u001b[39;49m\u001b[43mparameters\u001b[49m\u001b[43m,\u001b[49m\n\u001b[1;32m   1600\u001b[0m \u001b[43m        \u001b[49m\u001b[43mtimeout\u001b[49m\u001b[38;5;241;43m=\u001b[39;49m\u001b[43mtimeout\u001b[49m\u001b[43m,\u001b[49m\n\u001b[1;32m   1601\u001b[0m \u001b[43m    \u001b[49m\u001b[43m)\u001b[49m\n\u001b[1;32m   1603\u001b[0m     \u001b[38;5;28;01mreturn\u001b[39;00m Prediction(\n\u001b[1;32m   1604\u001b[0m         predictions\u001b[38;5;241m=\u001b[39m[\n\u001b[1;32m   1605\u001b[0m             json_format\u001b[38;5;241m.\u001b[39mMessageToDict(item)\n\u001b[0;32m   (...)\u001b[0m\n\u001b[1;32m   1610\u001b[0m         model_resource_name\u001b[38;5;241m=\u001b[39mprediction_response\u001b[38;5;241m.\u001b[39mmodel,\n\u001b[1;32m   1611\u001b[0m     )\n",
      "File \u001b[0;32m/opt/conda/lib/python3.10/site-packages/google/cloud/aiplatform_v1/services/prediction_service/client.py:604\u001b[0m, in \u001b[0;36mPredictionServiceClient.predict\u001b[0;34m(self, request, endpoint, instances, parameters, retry, timeout, metadata)\u001b[0m\n\u001b[1;32m    599\u001b[0m metadata \u001b[38;5;241m=\u001b[39m \u001b[38;5;28mtuple\u001b[39m(metadata) \u001b[38;5;241m+\u001b[39m (\n\u001b[1;32m    600\u001b[0m     gapic_v1\u001b[38;5;241m.\u001b[39mrouting_header\u001b[38;5;241m.\u001b[39mto_grpc_metadata(((\u001b[38;5;124m\"\u001b[39m\u001b[38;5;124mendpoint\u001b[39m\u001b[38;5;124m\"\u001b[39m, request\u001b[38;5;241m.\u001b[39mendpoint),)),\n\u001b[1;32m    601\u001b[0m )\n\u001b[1;32m    603\u001b[0m \u001b[38;5;66;03m# Send the request.\u001b[39;00m\n\u001b[0;32m--> 604\u001b[0m response \u001b[38;5;241m=\u001b[39m \u001b[43mrpc\u001b[49m\u001b[43m(\u001b[49m\n\u001b[1;32m    605\u001b[0m \u001b[43m    \u001b[49m\u001b[43mrequest\u001b[49m\u001b[43m,\u001b[49m\n\u001b[1;32m    606\u001b[0m \u001b[43m    \u001b[49m\u001b[43mretry\u001b[49m\u001b[38;5;241;43m=\u001b[39;49m\u001b[43mretry\u001b[49m\u001b[43m,\u001b[49m\n\u001b[1;32m    607\u001b[0m \u001b[43m    \u001b[49m\u001b[43mtimeout\u001b[49m\u001b[38;5;241;43m=\u001b[39;49m\u001b[43mtimeout\u001b[49m\u001b[43m,\u001b[49m\n\u001b[1;32m    608\u001b[0m \u001b[43m    \u001b[49m\u001b[43mmetadata\u001b[49m\u001b[38;5;241;43m=\u001b[39;49m\u001b[43mmetadata\u001b[49m\u001b[43m,\u001b[49m\n\u001b[1;32m    609\u001b[0m \u001b[43m\u001b[49m\u001b[43m)\u001b[49m\n\u001b[1;32m    611\u001b[0m \u001b[38;5;66;03m# Done; return the response.\u001b[39;00m\n\u001b[1;32m    612\u001b[0m \u001b[38;5;28;01mreturn\u001b[39;00m response\n",
      "File \u001b[0;32m/opt/conda/lib/python3.10/site-packages/google/api_core/gapic_v1/method.py:113\u001b[0m, in \u001b[0;36m_GapicCallable.__call__\u001b[0;34m(self, timeout, retry, *args, **kwargs)\u001b[0m\n\u001b[1;32m    110\u001b[0m     metadata\u001b[38;5;241m.\u001b[39mextend(\u001b[38;5;28mself\u001b[39m\u001b[38;5;241m.\u001b[39m_metadata)\n\u001b[1;32m    111\u001b[0m     kwargs[\u001b[38;5;124m\"\u001b[39m\u001b[38;5;124mmetadata\u001b[39m\u001b[38;5;124m\"\u001b[39m] \u001b[38;5;241m=\u001b[39m metadata\n\u001b[0;32m--> 113\u001b[0m \u001b[38;5;28;01mreturn\u001b[39;00m \u001b[43mwrapped_func\u001b[49m\u001b[43m(\u001b[49m\u001b[38;5;241;43m*\u001b[39;49m\u001b[43margs\u001b[49m\u001b[43m,\u001b[49m\u001b[43m \u001b[49m\u001b[38;5;241;43m*\u001b[39;49m\u001b[38;5;241;43m*\u001b[39;49m\u001b[43mkwargs\u001b[49m\u001b[43m)\u001b[49m\n",
      "File \u001b[0;32m/opt/conda/lib/python3.10/site-packages/google/api_core/grpc_helpers.py:67\u001b[0m, in \u001b[0;36m_wrap_unary_errors.<locals>.error_remapped_callable\u001b[0;34m(*args, **kwargs)\u001b[0m\n\u001b[1;32m     65\u001b[0m     \u001b[38;5;28;01mreturn\u001b[39;00m callable_(\u001b[38;5;241m*\u001b[39margs, \u001b[38;5;241m*\u001b[39m\u001b[38;5;241m*\u001b[39mkwargs)\n\u001b[1;32m     66\u001b[0m \u001b[38;5;28;01mexcept\u001b[39;00m grpc\u001b[38;5;241m.\u001b[39mRpcError \u001b[38;5;28;01mas\u001b[39;00m exc:\n\u001b[0;32m---> 67\u001b[0m     \u001b[38;5;28;01mraise\u001b[39;00m exceptions\u001b[38;5;241m.\u001b[39mfrom_grpc_error(exc) \u001b[38;5;28;01mfrom\u001b[39;00m \u001b[38;5;21;01mexc\u001b[39;00m\n",
      "\u001b[0;31mFailedPrecondition\u001b[0m: 400 \"Prediction failed: Exception during predicting with bqml model with transform clause: \\\"island\\\" in not an input of the TRANSFORM.\"\n"
     ]
    }
   ],
   "source": [
    "endpoint.predict(instances = [test_dict])"
   ]
  },
  {
   "cell_type": "markdown",
   "id": "27c64404-e00a-4dc8-b3c8-a2f2c773e9dc",
   "metadata": {},
   "source": [
    "---\n",
    "## Review Objects in GCP Console: BigQuery Models, GCS Exports, Vertex AI Models, Vertex AI Endpoints"
   ]
  },
  {
   "cell_type": "code",
   "execution_count": null,
   "id": "e67da5d3-aec6-4072-a54b-876a8423bdb0",
   "metadata": {},
   "outputs": [],
   "source": []
  },
  {
   "cell_type": "markdown",
   "id": "cc4596fb-265e-4834-abfa-714002dff5a1",
   "metadata": {},
   "source": [
    "### Console: BigQuery Models"
   ]
  },
  {
   "cell_type": "code",
   "execution_count": null,
   "id": "0054e862-0602-4d23-b658-3e5111ddb7a2",
   "metadata": {},
   "outputs": [],
   "source": []
  },
  {
   "cell_type": "markdown",
   "id": "eb359b14-ed57-4a93-8322-4d8fbbafa368",
   "metadata": {},
   "source": [
    "### Console: GCS Model Files"
   ]
  },
  {
   "cell_type": "code",
   "execution_count": null,
   "id": "2b462613-7f27-41dc-a293-163acea6e659",
   "metadata": {},
   "outputs": [],
   "source": []
  },
  {
   "cell_type": "markdown",
   "id": "7e1e6899-3bb9-469e-9deb-2a229e6683cc",
   "metadata": {},
   "source": [
    "### Console: Vertex AI Model Registry"
   ]
  },
  {
   "cell_type": "code",
   "execution_count": null,
   "id": "5da5395b-166e-428f-9053-31740daba24b",
   "metadata": {},
   "outputs": [],
   "source": []
  },
  {
   "cell_type": "markdown",
   "id": "f4de0b66-c4ae-4799-9193-f444ec87e103",
   "metadata": {},
   "source": [
    "### Console: Vertex AI Endpoint"
   ]
  },
  {
   "cell_type": "code",
   "execution_count": null,
   "id": "34d7309c-8edb-4649-a8ae-beee82ad9fa0",
   "metadata": {},
   "outputs": [],
   "source": []
  },
  {
   "cell_type": "code",
   "execution_count": null,
   "id": "e8c18592-9b04-4790-abf3-f5583c838eab",
   "metadata": {},
   "outputs": [],
   "source": []
  },
  {
   "cell_type": "markdown",
   "id": "d6a5ffbf-d5fd-47f7-bd24-d8952a353014",
   "metadata": {},
   "source": [
    "---\n",
    "## Remove Resources Created In This Notebook\n",
    "\n",
    "- Dataset In BigQuery\n",
    "- Model Objects In BigQuery\n",
    "- Model Exports in GCS\n",
    "- Endpoints In Vertex AI"
   ]
  },
  {
   "cell_type": "code",
   "execution_count": null,
   "id": "596d7531-d0df-41fd-b84e-191e4bae4feb",
   "metadata": {},
   "outputs": [],
   "source": []
  }
 ],
 "metadata": {
  "environment": {
   "kernel": "python3",
   "name": "tf2-gpu.2-12.m110",
   "type": "gcloud",
   "uri": "gcr.io/deeplearning-platform-release/tf2-gpu.2-12:m110"
  },
  "kernelspec": {
   "display_name": "Python 3",
   "language": "python",
   "name": "python3"
  },
  "language_info": {
   "codemirror_mode": {
    "name": "ipython",
    "version": 3
   },
   "file_extension": ".py",
   "mimetype": "text/x-python",
   "name": "python",
   "nbconvert_exporter": "python",
   "pygments_lexer": "ipython3",
   "version": "3.10.12"
  }
 },
 "nbformat": 4,
 "nbformat_minor": 5
}
