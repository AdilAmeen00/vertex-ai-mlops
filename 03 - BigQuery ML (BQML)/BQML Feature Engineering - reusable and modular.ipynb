{
 "cells": [
  {
   "cell_type": "markdown",
   "id": "4f33bf0f-c2a6-4dd6-9307-d30c10854218",
   "metadata": {},
   "source": [
    "![ga4](https://www.google-analytics.com/collect?v=2&tid=G-6VDTYWLKX6&cid=1&en=page_view&sid=1&dl=statmike%2Fvertex-ai-mlops%2F03+-+BigQuery+ML+%28BQML%29&dt=BQML+Feature+Engineering+-+reuseable+modular.ipynb)\n",
    "\n",
    "# BigQuery Feature Engineering - Reusable and Modular"
   ]
  },
  {
   "cell_type": "markdown",
   "id": "35fce6f5-eef5-4989-848c-50430f6e4ca5",
   "metadata": {
    "id": "od_UkDpvRmgD"
   },
   "source": [
    "---\n",
    "## Colab Setup\n",
    "\n",
    "To run this notebook in Colab click [![Open In Colab](https://colab.research.google.com/assets/colab-badge.svg)](https://colab.research.google.com/github/statmike/vertex-ai-mlops/blob/main/Applied%20GenAI/Vertex%20AI%20GenAI%20For%20Document%20Q&A%20v2%20-%20MLB%20Rules%20For%20Baseball.ipynb) and run the cells in this section.  Otherwise, skip this section.\n",
    "\n",
    "This cell will authenticate to GCP (follow prompts in the popup)."
   ]
  },
  {
   "cell_type": "code",
   "execution_count": 1,
   "id": "5f318fef-5147-4063-8786-923390132365",
   "metadata": {
    "executionInfo": {
     "elapsed": 195,
     "status": "ok",
     "timestamp": 1683726184843,
     "user": {
      "displayName": "Mike Henderson",
      "userId": "07691629187611687318"
     },
     "user_tz": 240
    },
    "id": "8UO9FnqyKBlF"
   },
   "outputs": [],
   "source": [
    "PROJECT_ID = 'statmike-mlops-349915' # replace with project ID"
   ]
  },
  {
   "cell_type": "code",
   "execution_count": 2,
   "id": "a6c7083f-df17-49c8-b74e-8e9b1bddf659",
   "metadata": {
    "colab": {
     "base_uri": "https://localhost:8080/"
    },
    "executionInfo": {
     "elapsed": 68869,
     "status": "ok",
     "timestamp": 1683726253709,
     "user": {
      "displayName": "Mike Henderson",
      "userId": "07691629187611687318"
     },
     "user_tz": 240
    },
    "id": "N98-KK7LRkjm",
    "outputId": "09ec5008-0def-4e1a-c349-c598ee752f78"
   },
   "outputs": [],
   "source": [
    "try:\n",
    "    import google.colab\n",
    "    from google.colab import auth\n",
    "    auth.authenticate_user()\n",
    "    !gcloud config set project {PROJECT_ID}\n",
    "except Exception:\n",
    "    pass"
   ]
  },
  {
   "cell_type": "markdown",
   "id": "cee53189-e087-4b62-8cd2-adce75205abc",
   "metadata": {},
   "source": [
    "## Installs (If Needed)\n",
    "\n",
    "The clients packages may need installing in this environment. "
   ]
  },
  {
   "cell_type": "code",
   "execution_count": 3,
   "id": "4d888df6-bce7-432d-9448-3c5c288a7439",
   "metadata": {},
   "outputs": [],
   "source": [
    "# tuples of (import name, install name)\n",
    "packages = [\n",
    "    ('google.cloud.aiplatform', 'google-cloud-aiplatform'),\n",
    "    ('google.cloud.documentai', 'google-cloud-bigquery'),\n",
    "]\n",
    "\n",
    "import importlib\n",
    "install = False\n",
    "for package in packages:\n",
    "    if not importlib.util.find_spec(package[0]):\n",
    "        print(f'installing package {package[1]}')\n",
    "        install = True\n",
    "        !pip install {package[1]} -U -q --user"
   ]
  },
  {
   "cell_type": "markdown",
   "id": "f61e1af9-08f1-4b3a-9040-6db34963a6c7",
   "metadata": {},
   "source": [
    "### Restart Kernel (If Installs Occured)\n",
    "\n",
    "After a kernel restart the code submission can start with the next cell after this one."
   ]
  },
  {
   "cell_type": "code",
   "execution_count": 5,
   "id": "f290a065-f28f-4802-bd71-f326ad7af1e8",
   "metadata": {},
   "outputs": [],
   "source": [
    "if install:\n",
    "    import IPython\n",
    "    app = IPython.Application.instance()\n",
    "    app.kernel.do_shutdown(True)"
   ]
  },
  {
   "cell_type": "markdown",
   "id": "361a4570-c1b1-4857-8b26-5fdb93bda135",
   "metadata": {
    "id": "appt8-yVRtJ1"
   },
   "source": [
    "---\n",
    "## Setup"
   ]
  },
  {
   "cell_type": "markdown",
   "id": "451ed609-398e-46d7-af29-855e0b7d4ca6",
   "metadata": {
    "id": "63mx2EozRxFP"
   },
   "source": [
    "Inputs"
   ]
  },
  {
   "cell_type": "code",
   "execution_count": 6,
   "id": "80c4d683-2888-43c1-874f-9e7092ad5ea2",
   "metadata": {
    "colab": {
     "base_uri": "https://localhost:8080/",
     "height": 35
    },
    "executionInfo": {
     "elapsed": 2124,
     "status": "ok",
     "timestamp": 1683726390544,
     "user": {
      "displayName": "Mike Henderson",
      "userId": "07691629187611687318"
     },
     "user_tz": 240
    },
    "id": "xzcoXjM5Rky5",
    "outputId": "b3bdcbc1-70d5-472e-aea2-42c74a42efde"
   },
   "outputs": [
    {
     "data": {
      "text/plain": [
       "'statmike-mlops-349915'"
      ]
     },
     "execution_count": 6,
     "metadata": {},
     "output_type": "execute_result"
    }
   ],
   "source": [
    "project = !gcloud config get-value project\n",
    "PROJECT_ID = project[0]\n",
    "PROJECT_ID"
   ]
  },
  {
   "cell_type": "code",
   "execution_count": null,
   "id": "e1dad47f-a2c3-431d-a11b-5e0b318b4924",
   "metadata": {},
   "outputs": [],
   "source": [
    "REGION = 'us-central1'\n",
    "\n",
    "# specify a GCS Bucket\n",
    "GCS_BUCKET = PROJECT_ID"
   ]
  },
  {
   "cell_type": "markdown",
   "id": "dc69bdfe-6a93-4893-999f-f16579ce0668",
   "metadata": {
    "id": "LuajVwCiO6Yg"
   },
   "source": [
    "Packages"
   ]
  },
  {
   "cell_type": "code",
   "execution_count": 175,
   "id": "f0e862ff-51a9-4d67-8675-5f584eb6b905",
   "metadata": {
    "executionInfo": {
     "elapsed": 17761,
     "status": "ok",
     "timestamp": 1683726409304,
     "user": {
      "displayName": "Mike Henderson",
      "userId": "07691629187611687318"
     },
     "user_tz": 240
    },
    "id": "LVC7zzSLRk2C"
   },
   "outputs": [],
   "source": [
    "from google.cloud import bigquery\n",
    "from google.cloud import aiplatform"
   ]
  },
  {
   "cell_type": "markdown",
   "id": "f4527c7d-3378-4a97-8819-bf6704cae1f5",
   "metadata": {
    "id": "EyAVFG9TO9H-"
   },
   "source": [
    "Clients"
   ]
  },
  {
   "cell_type": "code",
   "execution_count": 9,
   "id": "037b8bb2-0617-45c1-b085-042a6f2306c7",
   "metadata": {
    "executionInfo": {
     "elapsed": 19,
     "status": "ok",
     "timestamp": 1683726409306,
     "user": {
      "displayName": "Mike Henderson",
      "userId": "07691629187611687318"
     },
     "user_tz": 240
    },
    "id": "L0RPE13LOZce"
   },
   "outputs": [],
   "source": [
    "# bigquery client\n",
    "bq = bigquery.Client(project = PROJECT_ID)"
   ]
  },
  {
   "cell_type": "markdown",
   "id": "f5971c6c-9b68-4eac-9e64-82fd79f67309",
   "metadata": {},
   "source": [
    "---\n",
    "## Embedded Preprocessing"
   ]
  },
  {
   "cell_type": "markdown",
   "id": "23f96d54-6617-4d9a-8d27-e5d660d5fbed",
   "metadata": {},
   "source": [
    "### Create Model Using `TRANSFORM` statement"
   ]
  },
  {
   "cell_type": "code",
   "execution_count": null,
   "id": "1c732743-b7bd-4d40-bbcb-723d888f636a",
   "metadata": {},
   "outputs": [],
   "source": []
  },
  {
   "cell_type": "code",
   "execution_count": null,
   "id": "3b1cad55-d67a-45d3-80b8-4d93ba375264",
   "metadata": {},
   "outputs": [],
   "source": []
  },
  {
   "cell_type": "markdown",
   "id": "46893141-6c73-4e6e-8809-f3b336a886ed",
   "metadata": {},
   "source": [
    "---\n",
    "## Reusable Preprocessing"
   ]
  },
  {
   "cell_type": "markdown",
   "id": "5379dee9-4716-41c2-b0d0-b1731825e0d9",
   "metadata": {},
   "source": [
    "### Create Model Referencing Prior Models Preprocessing"
   ]
  },
  {
   "cell_type": "code",
   "execution_count": null,
   "id": "ded18c92-96ad-4222-9177-2efd1a6f0f73",
   "metadata": {},
   "outputs": [],
   "source": []
  },
  {
   "cell_type": "code",
   "execution_count": null,
   "id": "827b1923-3ed6-4d4d-90ed-b74b58e16043",
   "metadata": {},
   "outputs": [],
   "source": []
  },
  {
   "cell_type": "markdown",
   "id": "24b20264-840a-4372-88bb-31659d52bd73",
   "metadata": {},
   "source": [
    "---\n",
    "## Modular Preprocessing"
   ]
  },
  {
   "cell_type": "markdown",
   "id": "d8e383ff-1159-40cf-8f82-03305c0072bf",
   "metadata": {},
   "source": [
    "### Create `TRANSFORM_ONLY` Model"
   ]
  },
  {
   "cell_type": "code",
   "execution_count": null,
   "id": "fee2a744-4c00-4d6b-bd0a-f325b6cfb06b",
   "metadata": {},
   "outputs": [],
   "source": []
  },
  {
   "cell_type": "code",
   "execution_count": null,
   "id": "4462a797-3801-49b6-a876-0e9ae7f7e800",
   "metadata": {},
   "outputs": [],
   "source": []
  },
  {
   "cell_type": "markdown",
   "id": "64d27b79-6e0e-4e5e-8d4d-611cba26723f",
   "metadata": {},
   "source": [
    "### Create Model Using `TRANSFORM_ONLY` Model To Preprocess Inputs"
   ]
  },
  {
   "cell_type": "code",
   "execution_count": null,
   "id": "57a4af04-12ea-4627-861c-3ee08cb48afe",
   "metadata": {},
   "outputs": [],
   "source": []
  },
  {
   "cell_type": "code",
   "execution_count": null,
   "id": "7d6356cb-a423-444e-b9b3-77551b398d11",
   "metadata": {},
   "outputs": [],
   "source": []
  },
  {
   "cell_type": "markdown",
   "id": "dba3d1ad-3434-4ac4-8883-93afcce2c838",
   "metadata": {},
   "source": [
    "---\n",
    "## Export To GCS For Complete Portability"
   ]
  },
  {
   "cell_type": "code",
   "execution_count": null,
   "id": "48a11f97-dab1-4c36-83bb-66b402014ab2",
   "metadata": {},
   "outputs": [],
   "source": []
  },
  {
   "cell_type": "code",
   "execution_count": null,
   "id": "36fe5e1c-4ddc-46ca-b73c-643b20904151",
   "metadata": {},
   "outputs": [],
   "source": []
  },
  {
   "cell_type": "markdown",
   "id": "df68e3fb-1f82-4d12-a89a-a9a3df4f41e7",
   "metadata": {},
   "source": [
    "---\n",
    "## Online Serving With Vertex AI"
   ]
  },
  {
   "cell_type": "code",
   "execution_count": null,
   "id": "8518a840-fb98-4530-811b-e3ed3fef3a16",
   "metadata": {},
   "outputs": [],
   "source": [
    "## vertex ai client\n",
    "aiplatform.init(project = PROJECT_ID, location = REGION)"
   ]
  },
  {
   "cell_type": "code",
   "execution_count": null,
   "id": "5ec2bc65-45d3-4efc-af92-2f965f13df13",
   "metadata": {},
   "outputs": [],
   "source": []
  },
  {
   "cell_type": "code",
   "execution_count": null,
   "id": "40ff3f46-ccbf-4651-b3b7-b2c23f5b59c1",
   "metadata": {},
   "outputs": [],
   "source": []
  },
  {
   "cell_type": "code",
   "execution_count": null,
   "id": "8d41094f-009c-4ba5-9f4f-ce6c8686e9f1",
   "metadata": {},
   "outputs": [],
   "source": []
  },
  {
   "cell_type": "markdown",
   "id": "d6a5ffbf-d5fd-47f7-bd24-d8952a353014",
   "metadata": {},
   "source": [
    "---\n",
    "## Remove Resources Created In This Notebook\n",
    "\n",
    "- Dataset In BigQuery\n",
    "- Model Objects In BigQuery\n",
    "- Model Exports in GCS\n",
    "- Endpoints In Vertex AI"
   ]
  },
  {
   "cell_type": "code",
   "execution_count": null,
   "id": "596d7531-d0df-41fd-b84e-191e4bae4feb",
   "metadata": {},
   "outputs": [],
   "source": []
  }
 ],
 "metadata": {
  "environment": {
   "kernel": "python3",
   "name": "tf2-gpu.2-12.m110",
   "type": "gcloud",
   "uri": "gcr.io/deeplearning-platform-release/tf2-gpu.2-12:m110"
  },
  "kernelspec": {
   "display_name": "Python 3",
   "language": "python",
   "name": "python3"
  },
  "language_info": {
   "codemirror_mode": {
    "name": "ipython",
    "version": 3
   },
   "file_extension": ".py",
   "mimetype": "text/x-python",
   "name": "python",
   "nbconvert_exporter": "python",
   "pygments_lexer": "ipython3",
   "version": "3.10.12"
  }
 },
 "nbformat": 4,
 "nbformat_minor": 5
}
