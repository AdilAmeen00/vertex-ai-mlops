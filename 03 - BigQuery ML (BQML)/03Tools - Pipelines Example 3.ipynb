{
 "cells": [
  {
   "cell_type": "markdown",
   "id": "07e15b47-417a-4f51-9bd3-58445d960076",
   "metadata": {},
   "source": [
    "# 03Tools - Pipelines\n",
    "\n",
    "A pipeline example comparing all model types with hyperparamter tuning"
   ]
  },
  {
   "cell_type": "code",
   "execution_count": null,
   "id": "777be54d-c5c3-42fd-a8e7-3ec80818e67a",
   "metadata": {},
   "outputs": [],
   "source": []
  }
 ],
 "metadata": {
  "environment": {
   "kernel": "python3",
   "name": "tf2-gpu.2-3.m94",
   "type": "gcloud",
   "uri": "gcr.io/deeplearning-platform-release/tf2-gpu.2-3:m94"
  },
  "kernelspec": {
   "display_name": "Python 3",
   "language": "python",
   "name": "python3"
  },
  "language_info": {
   "codemirror_mode": {
    "name": "ipython",
    "version": 3
   },
   "file_extension": ".py",
   "mimetype": "text/x-python",
   "name": "python",
   "nbconvert_exporter": "python",
   "pygments_lexer": "ipython3",
   "version": "3.7.12"
  }
 },
 "nbformat": 4,
 "nbformat_minor": 5
}
