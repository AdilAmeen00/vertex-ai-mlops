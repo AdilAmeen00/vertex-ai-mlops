{
 "cells": [
  {
   "cell_type": "markdown",
   "id": "68588577-d64a-417a-8d0f-d254a97acf24",
   "metadata": {},
   "source": [
    "# 03e - BigQuery ML (BQML) - Wide-And-Deep Neural Network For Classification\n",
    "\n",
    "In this notebook, BigQuery ML (BQML) is used to create a wide-and-deep neural network model using TensorFlow.\n",
    "\n",
    "### Wide-And-Deep Neural Networks\n",
    "A jointly trained network consisting of a wide linear model and a deep neural network.  The concept is that the linear model memorizes patterns in features and the deep neural network model generalizes patterns in features.  Together they can work to offer the best pattern for the feature set.  This is helpful for large sparse features, like categorical variables with many possible values frequently found in ranking problems and recommendation systems.\n",
    "\n",
    "Reference: [Wide & Deep Learning: Better Together with TensorFlow](https://ai.googleblog.com/2016/06/wide-deep-learning-better-together-with.html)\n",
    "\n",
    "### BigQuery ML (BQML)\n",
    "BigQuery has a number of machine learning algorithms callable directly from SQL.  This gives the convenience of using the common language of `SQL` with statments like `CREATE MODEL …`.  The library of available models is constantly growing and covers supervised, unsupervised, and time series methods as well as functions for evaluation - even anomaly detection from results, explainability and hyperparameter tuning.  A great starting point for seeing the scope of available methods is the [user journey for models](https://cloud.google.com/bigquery-ml/docs/reference/standard-sql/bigqueryml-syntax-e2e-journey).\n",
    "\n",
    "### Prerequisites:\n",
    "-  01 - BigQuery - Table Data Source\n",
    "\n",
    "### Resources:\n",
    "-  [BigQuery ML (BQML) Overview](https://cloud.google.com/bigquery-ml/docs/introduction)\n",
    "-  [Overview of BQML methods and workflows](https://cloud.google.com/bigquery-ml/docs/reference/standard-sql/bigqueryml-syntax-e2e-journey)\n",
    "\n",
    "### Conceptual Flow & Workflow\n",
    "<p align=\"center\">\n",
    "  <img alt=\"Conceptual Flow\" src=\"../architectures/slides/03a_arch.png\" width=\"45%\">\n",
    "&nbsp; &nbsp; &nbsp; &nbsp;\n",
    "  <img alt=\"Workflow\" src=\"../architectures/slides/03a_console.png\" width=\"45%\">\n",
    "</p>"
   ]
  },
  {
   "cell_type": "markdown",
   "id": "2ac1cc38-196c-48b1-96ca-28f5ef821c9e",
   "metadata": {},
   "source": [
    "---\n",
    "## Setup"
   ]
  },
  {
   "cell_type": "markdown",
   "id": "a015f681-8274-42ec-9656-378996bcdd6d",
   "metadata": {},
   "source": [
    "inputs:"
   ]
  },
  {
   "cell_type": "code",
   "execution_count": 1,
   "id": "315ca658-6711-489d-9405-6fe9b650d857",
   "metadata": {},
   "outputs": [
    {
     "data": {
      "text/plain": [
       "'statmike-mlops-349915'"
      ]
     },
     "execution_count": 1,
     "metadata": {},
     "output_type": "execute_result"
    }
   ],
   "source": [
    "project = !gcloud config get-value project\n",
    "PROJECT_ID = project[0]\n",
    "PROJECT_ID"
   ]
  },
  {
   "cell_type": "code",
   "execution_count": 2,
   "id": "31db3887-f2ee-4607-b8fd-23a4a968bb50",
   "metadata": {},
   "outputs": [],
   "source": [
    "REGION = 'us-central1'\n",
    "EXPERIMENT = '03e'\n",
    "SERIES = '03'\n",
    "\n",
    "# source data\n",
    "BQ_PROJECT = PROJECT_ID\n",
    "BQ_DATASET = 'fraud'\n",
    "BQ_TABLE = 'fraud_prepped'\n",
    "BQ_MODEL = f'{EXPERIMENT}_{BQ_DATASET}'\n",
    "\n",
    "# Resources for serving BigQuery Model Exports\n",
    "TF_DEPLOY_IMAGE = 'us-docker.pkg.dev/vertex-ai/prediction/tf2-cpu.2-3:latest'\n",
    "XGB_DEPLOY_IMAGE = 'us-docker.pkg.dev/vertex-ai/prediction/xgboost-cpu.0-82:latest'\n",
    "\n",
    "# Model Training\n",
    "VAR_TARGET = 'Class'\n",
    "VAR_OMIT = 'transaction_id' # add more variables to the string with space delimiters"
   ]
  },
  {
   "cell_type": "markdown",
   "id": "50ebaca6-9dc5-4474-ad1c-3d3e22876ccc",
   "metadata": {},
   "source": [
    "packages:"
   ]
  },
  {
   "cell_type": "code",
   "execution_count": 3,
   "id": "358496b0-7799-46a1-99d8-de4e4bb594bc",
   "metadata": {},
   "outputs": [],
   "source": [
    "from google.cloud import bigquery\n",
    "from google.cloud import aiplatform\n",
    "from datetime import datetime\n",
    "import matplotlib.pyplot as plt"
   ]
  },
  {
   "cell_type": "markdown",
   "id": "9c4fcfcd-11ed-493d-9139-4ea93638bb49",
   "metadata": {},
   "source": [
    "clients:"
   ]
  },
  {
   "cell_type": "code",
   "execution_count": 4,
   "id": "7341c8a6-263a-4dc1-b49d-38b06532263a",
   "metadata": {},
   "outputs": [],
   "source": [
    "bq = bigquery.Client()\n",
    "aiplatform.init(project=PROJECT_ID, location=REGION)"
   ]
  },
  {
   "cell_type": "markdown",
   "id": "fcec1218-096c-4133-8c93-775c7c812444",
   "metadata": {},
   "source": [
    "parameters:"
   ]
  },
  {
   "cell_type": "code",
   "execution_count": 5,
   "id": "9d53e721-b850-475e-b289-95a2a4fa3886",
   "metadata": {},
   "outputs": [],
   "source": [
    "TIMESTAMP = datetime.now().strftime(\"%Y%m%d%H%M%S\")\n",
    "BUCKET = PROJECT_ID\n",
    "URI = f\"gs://{BUCKET}/{BQ_DATASET}/models/{SERIES}/{EXPERIMENT}\"\n",
    "RUN_NAME = f'run-{TIMESTAMP}'"
   ]
  },
  {
   "cell_type": "markdown",
   "id": "08cdc930-f65c-4095-80b7-9a29b8f666a7",
   "metadata": {},
   "source": [
    "---\n",
    "## Train Model\n",
    "\n",
    "Use BigQuery ML to train a wide-and-deep neural network using TensorFlow:\n",
    "- [Wide-And-Deep Network](https://cloud.google.com/bigquery-ml/docs/reference/standard-sql/bigqueryml-syntax-create-wnd-models) with BigQuery ML (BQML)\n",
    "- This uses the `splits` column that notebook `01` created\n",
    "- `data_split_method = CUSTOM` uses the column in `data_split_col` to assign training data for `FALSE` values and evaluation data for `TRUE` values.\n",
    "    - in this example the `WHERE splits != 'TEST'` statement filters out the test data and\n",
    "    - the `CASE` statement maps training data to FALSE and validation data to TRUE"
   ]
  },
  {
   "cell_type": "code",
   "execution_count": 6,
   "id": "d3f6b365-02a9-4f56-8573-7216e4f77f05",
   "metadata": {},
   "outputs": [
    {
     "data": {
      "text/plain": [
       "<google.cloud.bigquery.table._EmptyRowIterator at 0x7f2266361c90>"
      ]
     },
     "execution_count": 6,
     "metadata": {},
     "output_type": "execute_result"
    }
   ],
   "source": [
    "query = f\"\"\"\n",
    "CREATE OR REPLACE MODEL `{BQ_PROJECT}.{BQ_DATASET}.{BQ_MODEL}`\n",
    "OPTIONS\n",
    "    (model_type = 'DNN_LINEAR_COMBINED_CLASSIFIER',\n",
    "        auto_class_weights = FALSE,\n",
    "        input_label_cols = ['{VAR_TARGET}'],\n",
    "        enable_global_explain = TRUE,\n",
    "        integrated_gradients_num_steps = 30,\n",
    "        data_split_col = 'custom_splits',\n",
    "        data_split_method = 'CUSTOM',\n",
    "        activation_fn = 'SIGMOID',\n",
    "        batch_size = 100,\n",
    "        dropout = 0.05,\n",
    "        early_stop = FALSE,\n",
    "        hidden_units = [64, 32],\n",
    "        max_iterations = 10, #epochs\n",
    "        optimizer = 'SGD'\n",
    "    ) AS\n",
    "SELECT * EXCEPT({','.join(VAR_OMIT.split())}, splits),\n",
    "    CASE\n",
    "        WHEN splits = 'TRAIN' THEN FALSE\n",
    "        ELSE TRUE\n",
    "    END AS custom_splits\n",
    "FROM `{BQ_PROJECT}.{BQ_DATASET}.{BQ_TABLE}`\n",
    "WHERE splits != 'TEST'\n",
    "\"\"\"\n",
    "job = bq.query(query = query)\n",
    "job.result()"
   ]
  },
  {
   "cell_type": "code",
   "execution_count": 7,
   "id": "98a9758d-bc9f-4f66-a8d2-303ac19295b2",
   "metadata": {},
   "outputs": [
    {
     "data": {
      "text/plain": [
       "1055.672"
      ]
     },
     "execution_count": 7,
     "metadata": {},
     "output_type": "execute_result"
    }
   ],
   "source": [
    "(job.ended-job.started).total_seconds()"
   ]
  },
  {
   "cell_type": "markdown",
   "id": "86a8c8f6-850a-4e6d-92ee-9c643391f974",
   "metadata": {},
   "source": [
    "Add labels to the model in BigQuery:"
   ]
  },
  {
   "cell_type": "code",
   "execution_count": 8,
   "id": "af8e04d3-ade7-459e-ac5c-745e49c00c04",
   "metadata": {},
   "outputs": [],
   "source": [
    "model = bq.get_model(f'{BQ_PROJECT}.{BQ_DATASET}.{BQ_MODEL}')\n",
    "model.labels = {'series' : f'{SERIES}', 'experiment' : f'{EXPERIMENT}'}\n",
    "model = bq.update_model(model, ['labels'])"
   ]
  },
  {
   "cell_type": "markdown",
   "id": "75697e7e-b501-4e02-9ca2-37074d37f8aa",
   "metadata": {},
   "source": [
    "Review the iterations from training with [`ML.TRAINING_INFO`](https://cloud.google.com/bigquery-ml/docs/reference/standard-sql/bigqueryml-syntax-train):"
   ]
  },
  {
   "cell_type": "code",
   "execution_count": 9,
   "id": "89d9f2fb-4b44-4f1d-b085-638f4daccfd4",
   "metadata": {},
   "outputs": [
    {
     "data": {
      "text/html": [
       "<div>\n",
       "<style scoped>\n",
       "    .dataframe tbody tr th:only-of-type {\n",
       "        vertical-align: middle;\n",
       "    }\n",
       "\n",
       "    .dataframe tbody tr th {\n",
       "        vertical-align: top;\n",
       "    }\n",
       "\n",
       "    .dataframe thead th {\n",
       "        text-align: right;\n",
       "    }\n",
       "</style>\n",
       "<table border=\"1\" class=\"dataframe\">\n",
       "  <thead>\n",
       "    <tr style=\"text-align: right;\">\n",
       "      <th></th>\n",
       "      <th>training_run</th>\n",
       "      <th>iteration</th>\n",
       "      <th>loss</th>\n",
       "      <th>eval_loss</th>\n",
       "      <th>learning_rate</th>\n",
       "      <th>duration_ms</th>\n",
       "    </tr>\n",
       "  </thead>\n",
       "  <tbody>\n",
       "    <tr>\n",
       "      <th>0</th>\n",
       "      <td>0</td>\n",
       "      <td>9</td>\n",
       "      <td>0.618836</td>\n",
       "      <td>0.004264</td>\n",
       "      <td>0.01</td>\n",
       "      <td>30691</td>\n",
       "    </tr>\n",
       "    <tr>\n",
       "      <th>1</th>\n",
       "      <td>0</td>\n",
       "      <td>8</td>\n",
       "      <td>1.048279</td>\n",
       "      <td>0.004159</td>\n",
       "      <td>0.01</td>\n",
       "      <td>37863</td>\n",
       "    </tr>\n",
       "    <tr>\n",
       "      <th>2</th>\n",
       "      <td>0</td>\n",
       "      <td>7</td>\n",
       "      <td>0.750996</td>\n",
       "      <td>0.004106</td>\n",
       "      <td>0.01</td>\n",
       "      <td>42589</td>\n",
       "    </tr>\n",
       "    <tr>\n",
       "      <th>3</th>\n",
       "      <td>0</td>\n",
       "      <td>6</td>\n",
       "      <td>0.513540</td>\n",
       "      <td>0.003802</td>\n",
       "      <td>0.01</td>\n",
       "      <td>46430</td>\n",
       "    </tr>\n",
       "    <tr>\n",
       "      <th>4</th>\n",
       "      <td>0</td>\n",
       "      <td>5</td>\n",
       "      <td>0.333559</td>\n",
       "      <td>0.004136</td>\n",
       "      <td>0.01</td>\n",
       "      <td>45671</td>\n",
       "    </tr>\n",
       "    <tr>\n",
       "      <th>5</th>\n",
       "      <td>0</td>\n",
       "      <td>4</td>\n",
       "      <td>0.262451</td>\n",
       "      <td>0.007587</td>\n",
       "      <td>0.01</td>\n",
       "      <td>67136</td>\n",
       "    </tr>\n",
       "    <tr>\n",
       "      <th>6</th>\n",
       "      <td>0</td>\n",
       "      <td>3</td>\n",
       "      <td>0.208091</td>\n",
       "      <td>0.015586</td>\n",
       "      <td>0.01</td>\n",
       "      <td>45901</td>\n",
       "    </tr>\n",
       "    <tr>\n",
       "      <th>7</th>\n",
       "      <td>0</td>\n",
       "      <td>2</td>\n",
       "      <td>0.224298</td>\n",
       "      <td>0.018772</td>\n",
       "      <td>0.01</td>\n",
       "      <td>46603</td>\n",
       "    </tr>\n",
       "    <tr>\n",
       "      <th>8</th>\n",
       "      <td>0</td>\n",
       "      <td>1</td>\n",
       "      <td>0.263680</td>\n",
       "      <td>0.056029</td>\n",
       "      <td>0.01</td>\n",
       "      <td>49009</td>\n",
       "    </tr>\n",
       "    <tr>\n",
       "      <th>9</th>\n",
       "      <td>0</td>\n",
       "      <td>0</td>\n",
       "      <td>0.251252</td>\n",
       "      <td>0.219257</td>\n",
       "      <td>0.01</td>\n",
       "      <td>46721</td>\n",
       "    </tr>\n",
       "  </tbody>\n",
       "</table>\n",
       "</div>"
      ],
      "text/plain": [
       "   training_run  iteration      loss  eval_loss  learning_rate  duration_ms\n",
       "0             0          9  0.618836   0.004264           0.01        30691\n",
       "1             0          8  1.048279   0.004159           0.01        37863\n",
       "2             0          7  0.750996   0.004106           0.01        42589\n",
       "3             0          6  0.513540   0.003802           0.01        46430\n",
       "4             0          5  0.333559   0.004136           0.01        45671\n",
       "5             0          4  0.262451   0.007587           0.01        67136\n",
       "6             0          3  0.208091   0.015586           0.01        45901\n",
       "7             0          2  0.224298   0.018772           0.01        46603\n",
       "8             0          1  0.263680   0.056029           0.01        49009\n",
       "9             0          0  0.251252   0.219257           0.01        46721"
      ]
     },
     "execution_count": 9,
     "metadata": {},
     "output_type": "execute_result"
    }
   ],
   "source": [
    "history = bq.query(\n",
    "    query = f\"\"\"\n",
    "        SELECT *\n",
    "        FROM ML.TRAINING_INFO(MODEL `{BQ_PROJECT}.{BQ_DATASET}.{BQ_MODEL}`)\n",
    "        \"\"\"\n",
    ").to_dataframe()\n",
    "history"
   ]
  },
  {
   "cell_type": "markdown",
   "id": "7167de7f-8e87-405c-ae37-ccf9e9cdf134",
   "metadata": {},
   "source": [
    "Plot the loss history:"
   ]
  },
  {
   "cell_type": "code",
   "execution_count": 10,
   "id": "c8d1c766-860d-44f2-8880-cd96002e41c7",
   "metadata": {},
   "outputs": [
    {
     "data": {
      "text/plain": [
       "<AxesSubplot:xlabel='iteration'>"
      ]
     },
     "execution_count": 10,
     "metadata": {},
     "output_type": "execute_result"
    },
    {
     "data": {
      "image/png": "[encoded data removed]",
      "text/plain": [
       "<Figure size 720x360 with 1 Axes>"
      ]
     },
     "metadata": {
      "needs_background": "light"
     },
     "output_type": "display_data"
    }
   ],
   "source": [
    "history.plot(x = 'iteration', y = ['loss','eval_loss'], figsize = (10, 5), grid = True)"
   ]
  },
  {
   "cell_type": "markdown",
   "id": "c61e2ab6-bed2-4f2e-ac56-a1d06eaa7253",
   "metadata": {},
   "source": [
    "### Check out this model in BigQuery Console:\n",
    "- Make sure project selected is the one from this notebook\n",
    "- Under Explore, expand this project and dataset\n",
    "- Expand Models and select the model create here"
   ]
  },
  {
   "cell_type": "code",
   "execution_count": 11,
   "id": "ab172823-40ac-4385-9f13-b0c3d94e42c4",
   "metadata": {},
   "outputs": [
    {
     "name": "stdout",
     "output_type": "stream",
     "text": [
      "BigQuery Console for Project:\n",
      "https://console.cloud.google.com/bigquery?project=statmike-mlops-349915\n"
     ]
    }
   ],
   "source": [
    "print(f'BigQuery Console for Project:\\nhttps://console.cloud.google.com/bigquery?project={PROJECT_ID}')"
   ]
  },
  {
   "cell_type": "code",
   "execution_count": 12,
   "id": "72fafd30-efa8-4a46-887c-a95353031342",
   "metadata": {},
   "outputs": [
    {
     "name": "stdout",
     "output_type": "stream",
     "text": [
      "Direct link to the model in BigQuery:\n",
      "https://console.cloud.google.com/bigquery?project=statmike-mlops-349915&ws=!1m5!1m4!5m3!1sstatmike-mlops-349915!2sfraud!3s03e_fraud\n"
     ]
    }
   ],
   "source": [
    "print(f'Direct link to the model in BigQuery:\\nhttps://console.cloud.google.com/bigquery?project={PROJECT_ID}&ws=!1m5!1m4!5m3!1s{PROJECT_ID}!2s{BQ_DATASET}!3s{BQ_MODEL}')"
   ]
  },
  {
   "cell_type": "markdown",
   "id": "48fef7d5-495d-4d03-b6f6-ce4e0be1baf9",
   "metadata": {},
   "source": [
    "---\n",
    "## Evaluate Model"
   ]
  },
  {
   "cell_type": "markdown",
   "id": "6aded649-899b-4ce3-8f3e-bee48048899f",
   "metadata": {},
   "source": [
    "### Metrics"
   ]
  },
  {
   "cell_type": "markdown",
   "id": "1cf88f67-8fca-4961-aacd-42c430ec47de",
   "metadata": {},
   "source": [
    "Review the model evaluation statistics on the splits with [`ML.EVALUATE`](https://cloud.google.com/bigquery-ml/docs/reference/standard-sql/bigqueryml-syntax-evaluate):"
   ]
  },
  {
   "cell_type": "code",
   "execution_count": 13,
   "id": "cc215352",
   "metadata": {},
   "outputs": [
    {
     "data": {
      "text/html": [
       "<div>\n",
       "<style scoped>\n",
       "    .dataframe tbody tr th:only-of-type {\n",
       "        vertical-align: middle;\n",
       "    }\n",
       "\n",
       "    .dataframe tbody tr th {\n",
       "        vertical-align: top;\n",
       "    }\n",
       "\n",
       "    .dataframe thead th {\n",
       "        text-align: right;\n",
       "    }\n",
       "</style>\n",
       "<table border=\"1\" class=\"dataframe\">\n",
       "  <thead>\n",
       "    <tr style=\"text-align: right;\">\n",
       "      <th></th>\n",
       "      <th>SPLIT</th>\n",
       "      <th>precision</th>\n",
       "      <th>recall</th>\n",
       "      <th>accuracy</th>\n",
       "      <th>f1_score</th>\n",
       "      <th>log_loss</th>\n",
       "      <th>roc_auc</th>\n",
       "    </tr>\n",
       "  </thead>\n",
       "  <tbody>\n",
       "    <tr>\n",
       "      <th>0</th>\n",
       "      <td>TEST</td>\n",
       "      <td>0.860465</td>\n",
       "      <td>0.787234</td>\n",
       "      <td>0.999439</td>\n",
       "      <td>0.822222</td>\n",
       "      <td>0.003464</td>\n",
       "      <td>0.954855</td>\n",
       "    </tr>\n",
       "    <tr>\n",
       "      <th>1</th>\n",
       "      <td>TRAIN</td>\n",
       "      <td>0.834625</td>\n",
       "      <td>0.813602</td>\n",
       "      <td>0.999395</td>\n",
       "      <td>0.823980</td>\n",
       "      <td>0.003476</td>\n",
       "      <td>0.959113</td>\n",
       "    </tr>\n",
       "    <tr>\n",
       "      <th>2</th>\n",
       "      <td>VALIDATE</td>\n",
       "      <td>0.818182</td>\n",
       "      <td>0.750000</td>\n",
       "      <td>0.999292</td>\n",
       "      <td>0.782609</td>\n",
       "      <td>0.004264</td>\n",
       "      <td>0.955463</td>\n",
       "    </tr>\n",
       "  </tbody>\n",
       "</table>\n",
       "</div>"
      ],
      "text/plain": [
       "      SPLIT  precision    recall  accuracy  f1_score  log_loss   roc_auc\n",
       "0      TEST   0.860465  0.787234  0.999439  0.822222  0.003464  0.954855\n",
       "1     TRAIN   0.834625  0.813602  0.999395  0.823980  0.003476  0.959113\n",
       "2  VALIDATE   0.818182  0.750000  0.999292  0.782609  0.004264  0.955463"
      ]
     },
     "execution_count": 13,
     "metadata": {},
     "output_type": "execute_result"
    }
   ],
   "source": [
    "query = f\"\"\"\n",
    "SELECT 'TEST' as SPLIT, * FROM ML.EVALUATE (MODEL `{BQ_PROJECT}.{BQ_DATASET}.{BQ_MODEL}`,\n",
    "    (SELECT * FROM `{BQ_PROJECT}.{BQ_DATASET}.{BQ_TABLE}` WHERE SPLITS='TEST'))\n",
    "UNION ALL\n",
    "SELECT 'VALIDATE' as SPLIT, * FROM ML.EVALUATE (MODEL `{BQ_PROJECT}.{BQ_DATASET}.{BQ_MODEL}`,\n",
    "    (SELECT * FROM `{BQ_PROJECT}.{BQ_DATASET}.{BQ_TABLE}` WHERE SPLITS='VALIDATE'))\n",
    "UNION ALL\n",
    "SELECT 'TRAIN' as SPLIT, * FROM ML.EVALUATE (MODEL `{BQ_PROJECT}.{BQ_DATASET}.{BQ_MODEL}`,\n",
    "    (SELECT * FROM `{BQ_PROJECT}.{BQ_DATASET}.{BQ_TABLE}` WHERE SPLITS='TRAIN'))\n",
    "\"\"\"\n",
    "bq.query(query = query).to_dataframe()"
   ]
  },
  {
   "cell_type": "markdown",
   "id": "97a7c941-0a67-4224-b9f0-0685dfa4ae93",
   "metadata": {},
   "source": [
    "### Confusion Matrix"
   ]
  },
  {
   "cell_type": "markdown",
   "id": "679f8e13-3e5c-4ca6-acfe-052bf94f4a68",
   "metadata": {},
   "source": [
    "Review the confusion matrix for each split with [`ML.CONFUSION_MATRIX`](https://cloud.google.com/bigquery-ml/docs/reference/standard-sql/bigqueryml-syntax-confusion):"
   ]
  },
  {
   "cell_type": "code",
   "execution_count": 14,
   "id": "0feb32e9",
   "metadata": {},
   "outputs": [
    {
     "data": {
      "text/html": [
       "<div>\n",
       "<style scoped>\n",
       "    .dataframe tbody tr th:only-of-type {\n",
       "        vertical-align: middle;\n",
       "    }\n",
       "\n",
       "    .dataframe tbody tr th {\n",
       "        vertical-align: top;\n",
       "    }\n",
       "\n",
       "    .dataframe thead th {\n",
       "        text-align: right;\n",
       "    }\n",
       "</style>\n",
       "<table border=\"1\" class=\"dataframe\">\n",
       "  <thead>\n",
       "    <tr style=\"text-align: right;\">\n",
       "      <th></th>\n",
       "      <th>expected_label</th>\n",
       "      <th>_0</th>\n",
       "      <th>_1</th>\n",
       "    </tr>\n",
       "  </thead>\n",
       "  <tbody>\n",
       "    <tr>\n",
       "      <th>0</th>\n",
       "      <td>0</td>\n",
       "      <td>227600</td>\n",
       "      <td>64</td>\n",
       "    </tr>\n",
       "    <tr>\n",
       "      <th>1</th>\n",
       "      <td>1</td>\n",
       "      <td>74</td>\n",
       "      <td>323</td>\n",
       "    </tr>\n",
       "  </tbody>\n",
       "</table>\n",
       "</div>"
      ],
      "text/plain": [
       "   expected_label      _0   _1\n",
       "0               0  227600   64\n",
       "1               1      74  323"
      ]
     },
     "execution_count": 14,
     "metadata": {},
     "output_type": "execute_result"
    }
   ],
   "source": [
    "query = f\"\"\"\n",
    "SELECT *\n",
    "FROM ML.CONFUSION_MATRIX (MODEL `{BQ_PROJECT}.{BQ_DATASET}.{BQ_MODEL}`,(\n",
    "    SELECT *\n",
    "    FROM `{BQ_PROJECT}.{BQ_DATASET}.{BQ_TABLE}`\n",
    "    WHERE splits = 'TRAIN')\n",
    "  )\n",
    "\"\"\"\n",
    "bq.query(query = query).to_dataframe()"
   ]
  },
  {
   "cell_type": "code",
   "execution_count": 15,
   "id": "b26c799e",
   "metadata": {},
   "outputs": [
    {
     "data": {
      "text/html": [
       "<div>\n",
       "<style scoped>\n",
       "    .dataframe tbody tr th:only-of-type {\n",
       "        vertical-align: middle;\n",
       "    }\n",
       "\n",
       "    .dataframe tbody tr th {\n",
       "        vertical-align: top;\n",
       "    }\n",
       "\n",
       "    .dataframe thead th {\n",
       "        text-align: right;\n",
       "    }\n",
       "</style>\n",
       "<table border=\"1\" class=\"dataframe\">\n",
       "  <thead>\n",
       "    <tr style=\"text-align: right;\">\n",
       "      <th></th>\n",
       "      <th>expected_label</th>\n",
       "      <th>_0</th>\n",
       "      <th>_1</th>\n",
       "    </tr>\n",
       "  </thead>\n",
       "  <tbody>\n",
       "    <tr>\n",
       "      <th>0</th>\n",
       "      <td>0</td>\n",
       "      <td>28188</td>\n",
       "      <td>8</td>\n",
       "    </tr>\n",
       "    <tr>\n",
       "      <th>1</th>\n",
       "      <td>1</td>\n",
       "      <td>12</td>\n",
       "      <td>36</td>\n",
       "    </tr>\n",
       "  </tbody>\n",
       "</table>\n",
       "</div>"
      ],
      "text/plain": [
       "   expected_label     _0  _1\n",
       "0               0  28188   8\n",
       "1               1     12  36"
      ]
     },
     "execution_count": 15,
     "metadata": {},
     "output_type": "execute_result"
    }
   ],
   "source": [
    "query = f\"\"\"\n",
    "SELECT *\n",
    "FROM ML.CONFUSION_MATRIX (MODEL `{BQ_PROJECT}.{BQ_DATASET}.{BQ_MODEL}`,(\n",
    "    SELECT *\n",
    "    FROM `{BQ_PROJECT}.{BQ_DATASET}.{BQ_TABLE}`\n",
    "    WHERE splits = 'VALIDATE')\n",
    "  )\n",
    "\"\"\"\n",
    "bq.query(query = query).to_dataframe()"
   ]
  },
  {
   "cell_type": "code",
   "execution_count": 16,
   "id": "c1251bc5",
   "metadata": {},
   "outputs": [
    {
     "data": {
      "text/html": [
       "<div>\n",
       "<style scoped>\n",
       "    .dataframe tbody tr th:only-of-type {\n",
       "        vertical-align: middle;\n",
       "    }\n",
       "\n",
       "    .dataframe tbody tr th {\n",
       "        vertical-align: top;\n",
       "    }\n",
       "\n",
       "    .dataframe thead th {\n",
       "        text-align: right;\n",
       "    }\n",
       "</style>\n",
       "<table border=\"1\" class=\"dataframe\">\n",
       "  <thead>\n",
       "    <tr style=\"text-align: right;\">\n",
       "      <th></th>\n",
       "      <th>expected_label</th>\n",
       "      <th>_0</th>\n",
       "      <th>_1</th>\n",
       "    </tr>\n",
       "  </thead>\n",
       "  <tbody>\n",
       "    <tr>\n",
       "      <th>0</th>\n",
       "      <td>0</td>\n",
       "      <td>28449</td>\n",
       "      <td>6</td>\n",
       "    </tr>\n",
       "    <tr>\n",
       "      <th>1</th>\n",
       "      <td>1</td>\n",
       "      <td>10</td>\n",
       "      <td>37</td>\n",
       "    </tr>\n",
       "  </tbody>\n",
       "</table>\n",
       "</div>"
      ],
      "text/plain": [
       "   expected_label     _0  _1\n",
       "0               0  28449   6\n",
       "1               1     10  37"
      ]
     },
     "execution_count": 16,
     "metadata": {},
     "output_type": "execute_result"
    }
   ],
   "source": [
    "query = f\"\"\"\n",
    "SELECT *\n",
    "FROM ML.CONFUSION_MATRIX (MODEL `{BQ_PROJECT}.{BQ_DATASET}.{BQ_MODEL}`,(\n",
    "    SELECT *\n",
    "    FROM `{BQ_PROJECT}.{BQ_DATASET}.{BQ_TABLE}`\n",
    "    WHERE splits = 'TEST')\n",
    "  )\n",
    "\"\"\"\n",
    "bq.query(query = query).to_dataframe()"
   ]
  },
  {
   "cell_type": "markdown",
   "id": "355dc362-5a2e-45f9-9fd5-22b25173aa7a",
   "metadata": {},
   "source": [
    "### ROC Curve\n",
    "\n",
    "Retrieve the ROC Curve for each split using [`ML.ROC_CURVE`](https://cloud.google.com/bigquery-ml/docs/reference/standard-sql/bigqueryml-syntax-roc):"
   ]
  },
  {
   "cell_type": "code",
   "execution_count": 17,
   "id": "fedf624f-6749-4648-9b0f-64fc3f9edfb8",
   "metadata": {},
   "outputs": [
    {
     "data": {
      "text/html": [
       "<div>\n",
       "<style scoped>\n",
       "    .dataframe tbody tr th:only-of-type {\n",
       "        vertical-align: middle;\n",
       "    }\n",
       "\n",
       "    .dataframe tbody tr th {\n",
       "        vertical-align: top;\n",
       "    }\n",
       "\n",
       "    .dataframe thead th {\n",
       "        text-align: right;\n",
       "    }\n",
       "</style>\n",
       "<table border=\"1\" class=\"dataframe\">\n",
       "  <thead>\n",
       "    <tr style=\"text-align: right;\">\n",
       "      <th></th>\n",
       "      <th>threshold</th>\n",
       "      <th>recall</th>\n",
       "      <th>false_positive_rate</th>\n",
       "      <th>true_positives</th>\n",
       "      <th>false_positives</th>\n",
       "      <th>true_negatives</th>\n",
       "      <th>false_negatives</th>\n",
       "    </tr>\n",
       "  </thead>\n",
       "  <tbody>\n",
       "    <tr>\n",
       "      <th>0</th>\n",
       "      <td>0.999299</td>\n",
       "      <td>0.005038</td>\n",
       "      <td>0.000000</td>\n",
       "      <td>2</td>\n",
       "      <td>0</td>\n",
       "      <td>227664</td>\n",
       "      <td>395</td>\n",
       "    </tr>\n",
       "    <tr>\n",
       "      <th>1</th>\n",
       "      <td>0.000942</td>\n",
       "      <td>0.894207</td>\n",
       "      <td>0.008653</td>\n",
       "      <td>355</td>\n",
       "      <td>1970</td>\n",
       "      <td>225694</td>\n",
       "      <td>42</td>\n",
       "    </tr>\n",
       "    <tr>\n",
       "      <th>2</th>\n",
       "      <td>0.000436</td>\n",
       "      <td>0.929471</td>\n",
       "      <td>0.018519</td>\n",
       "      <td>369</td>\n",
       "      <td>4216</td>\n",
       "      <td>223448</td>\n",
       "      <td>28</td>\n",
       "    </tr>\n",
       "    <tr>\n",
       "      <th>3</th>\n",
       "      <td>0.000304</td>\n",
       "      <td>0.934509</td>\n",
       "      <td>0.028652</td>\n",
       "      <td>371</td>\n",
       "      <td>6523</td>\n",
       "      <td>221141</td>\n",
       "      <td>26</td>\n",
       "    </tr>\n",
       "    <tr>\n",
       "      <th>4</th>\n",
       "      <td>0.000293</td>\n",
       "      <td>0.942065</td>\n",
       "      <td>0.038394</td>\n",
       "      <td>374</td>\n",
       "      <td>8741</td>\n",
       "      <td>218923</td>\n",
       "      <td>23</td>\n",
       "    </tr>\n",
       "  </tbody>\n",
       "</table>\n",
       "</div>"
      ],
      "text/plain": [
       "   threshold    recall  false_positive_rate  true_positives  false_positives  \\\n",
       "0   0.999299  0.005038             0.000000               2                0   \n",
       "1   0.000942  0.894207             0.008653             355             1970   \n",
       "2   0.000436  0.929471             0.018519             369             4216   \n",
       "3   0.000304  0.934509             0.028652             371             6523   \n",
       "4   0.000293  0.942065             0.038394             374             8741   \n",
       "\n",
       "   true_negatives  false_negatives  \n",
       "0          227664              395  \n",
       "1          225694               42  \n",
       "2          223448               28  \n",
       "3          221141               26  \n",
       "4          218923               23  "
      ]
     },
     "execution_count": 17,
     "metadata": {},
     "output_type": "execute_result"
    }
   ],
   "source": [
    "query = f\"\"\"\n",
    "SELECT *\n",
    "FROM ML.ROC_CURVE (MODEL `{BQ_PROJECT}.{BQ_DATASET}.{BQ_MODEL}`,(\n",
    "    SELECT *\n",
    "    FROM `{BQ_PROJECT}.{BQ_DATASET}.{BQ_TABLE}`\n",
    "    WHERE splits = 'TRAIN')\n",
    "  )\n",
    "\"\"\"\n",
    "train_roc = bq.query(query = query).to_dataframe()\n",
    "train_roc.head()"
   ]
  },
  {
   "cell_type": "code",
   "execution_count": 18,
   "id": "dbdba57b-c3c7-4f99-b658-026608f57037",
   "metadata": {},
   "outputs": [
    {
     "data": {
      "text/html": [
       "<div>\n",
       "<style scoped>\n",
       "    .dataframe tbody tr th:only-of-type {\n",
       "        vertical-align: middle;\n",
       "    }\n",
       "\n",
       "    .dataframe tbody tr th {\n",
       "        vertical-align: top;\n",
       "    }\n",
       "\n",
       "    .dataframe thead th {\n",
       "        text-align: right;\n",
       "    }\n",
       "</style>\n",
       "<table border=\"1\" class=\"dataframe\">\n",
       "  <thead>\n",
       "    <tr style=\"text-align: right;\">\n",
       "      <th></th>\n",
       "      <th>threshold</th>\n",
       "      <th>recall</th>\n",
       "      <th>false_positive_rate</th>\n",
       "      <th>true_positives</th>\n",
       "      <th>false_positives</th>\n",
       "      <th>true_negatives</th>\n",
       "      <th>false_negatives</th>\n",
       "    </tr>\n",
       "  </thead>\n",
       "  <tbody>\n",
       "    <tr>\n",
       "      <th>0</th>\n",
       "      <td>0.999219</td>\n",
       "      <td>0.020833</td>\n",
       "      <td>0.000000</td>\n",
       "      <td>1</td>\n",
       "      <td>0</td>\n",
       "      <td>28196</td>\n",
       "      <td>47</td>\n",
       "    </tr>\n",
       "    <tr>\n",
       "      <th>1</th>\n",
       "      <td>0.000968</td>\n",
       "      <td>0.875000</td>\n",
       "      <td>0.008725</td>\n",
       "      <td>42</td>\n",
       "      <td>246</td>\n",
       "      <td>27950</td>\n",
       "      <td>6</td>\n",
       "    </tr>\n",
       "    <tr>\n",
       "      <th>2</th>\n",
       "      <td>0.000437</td>\n",
       "      <td>0.916667</td>\n",
       "      <td>0.018407</td>\n",
       "      <td>44</td>\n",
       "      <td>519</td>\n",
       "      <td>27677</td>\n",
       "      <td>4</td>\n",
       "    </tr>\n",
       "    <tr>\n",
       "      <th>3</th>\n",
       "      <td>0.000304</td>\n",
       "      <td>0.916667</td>\n",
       "      <td>0.028586</td>\n",
       "      <td>44</td>\n",
       "      <td>806</td>\n",
       "      <td>27390</td>\n",
       "      <td>4</td>\n",
       "    </tr>\n",
       "    <tr>\n",
       "      <th>4</th>\n",
       "      <td>0.000289</td>\n",
       "      <td>0.916667</td>\n",
       "      <td>0.038622</td>\n",
       "      <td>44</td>\n",
       "      <td>1089</td>\n",
       "      <td>27107</td>\n",
       "      <td>4</td>\n",
       "    </tr>\n",
       "  </tbody>\n",
       "</table>\n",
       "</div>"
      ],
      "text/plain": [
       "   threshold    recall  false_positive_rate  true_positives  false_positives  \\\n",
       "0   0.999219  0.020833             0.000000               1                0   \n",
       "1   0.000968  0.875000             0.008725              42              246   \n",
       "2   0.000437  0.916667             0.018407              44              519   \n",
       "3   0.000304  0.916667             0.028586              44              806   \n",
       "4   0.000289  0.916667             0.038622              44             1089   \n",
       "\n",
       "   true_negatives  false_negatives  \n",
       "0           28196               47  \n",
       "1           27950                6  \n",
       "2           27677                4  \n",
       "3           27390                4  \n",
       "4           27107                4  "
      ]
     },
     "execution_count": 18,
     "metadata": {},
     "output_type": "execute_result"
    }
   ],
   "source": [
    "query = f\"\"\"\n",
    "SELECT *\n",
    "FROM ML.ROC_CURVE (MODEL `{BQ_PROJECT}.{BQ_DATASET}.{BQ_MODEL}`,(\n",
    "    SELECT *\n",
    "    FROM `{BQ_PROJECT}.{BQ_DATASET}.{BQ_TABLE}`\n",
    "    WHERE splits = 'VALIDATE')\n",
    "  )\n",
    "\"\"\"\n",
    "val_roc = bq.query(query = query).to_dataframe()\n",
    "val_roc.head()"
   ]
  },
  {
   "cell_type": "code",
   "execution_count": 19,
   "id": "c8127f09-ce81-4f6d-8e81-e7c569eb39db",
   "metadata": {},
   "outputs": [
    {
     "data": {
      "text/html": [
       "<div>\n",
       "<style scoped>\n",
       "    .dataframe tbody tr th:only-of-type {\n",
       "        vertical-align: middle;\n",
       "    }\n",
       "\n",
       "    .dataframe tbody tr th {\n",
       "        vertical-align: top;\n",
       "    }\n",
       "\n",
       "    .dataframe thead th {\n",
       "        text-align: right;\n",
       "    }\n",
       "</style>\n",
       "<table border=\"1\" class=\"dataframe\">\n",
       "  <thead>\n",
       "    <tr style=\"text-align: right;\">\n",
       "      <th></th>\n",
       "      <th>threshold</th>\n",
       "      <th>recall</th>\n",
       "      <th>false_positive_rate</th>\n",
       "      <th>true_positives</th>\n",
       "      <th>false_positives</th>\n",
       "      <th>true_negatives</th>\n",
       "      <th>false_negatives</th>\n",
       "    </tr>\n",
       "  </thead>\n",
       "  <tbody>\n",
       "    <tr>\n",
       "      <th>0</th>\n",
       "      <td>0.999287</td>\n",
       "      <td>0.021277</td>\n",
       "      <td>0.000000</td>\n",
       "      <td>1</td>\n",
       "      <td>0</td>\n",
       "      <td>28455</td>\n",
       "      <td>46</td>\n",
       "    </tr>\n",
       "    <tr>\n",
       "      <th>1</th>\n",
       "      <td>0.000922</td>\n",
       "      <td>0.914894</td>\n",
       "      <td>0.008786</td>\n",
       "      <td>43</td>\n",
       "      <td>250</td>\n",
       "      <td>28205</td>\n",
       "      <td>4</td>\n",
       "    </tr>\n",
       "    <tr>\n",
       "      <th>2</th>\n",
       "      <td>0.000426</td>\n",
       "      <td>0.936170</td>\n",
       "      <td>0.018661</td>\n",
       "      <td>44</td>\n",
       "      <td>531</td>\n",
       "      <td>27924</td>\n",
       "      <td>3</td>\n",
       "    </tr>\n",
       "    <tr>\n",
       "      <th>3</th>\n",
       "      <td>0.000304</td>\n",
       "      <td>0.936170</td>\n",
       "      <td>0.028501</td>\n",
       "      <td>44</td>\n",
       "      <td>811</td>\n",
       "      <td>27644</td>\n",
       "      <td>3</td>\n",
       "    </tr>\n",
       "    <tr>\n",
       "      <th>4</th>\n",
       "      <td>0.000284</td>\n",
       "      <td>0.936170</td>\n",
       "      <td>0.038447</td>\n",
       "      <td>44</td>\n",
       "      <td>1094</td>\n",
       "      <td>27361</td>\n",
       "      <td>3</td>\n",
       "    </tr>\n",
       "  </tbody>\n",
       "</table>\n",
       "</div>"
      ],
      "text/plain": [
       "   threshold    recall  false_positive_rate  true_positives  false_positives  \\\n",
       "0   0.999287  0.021277             0.000000               1                0   \n",
       "1   0.000922  0.914894             0.008786              43              250   \n",
       "2   0.000426  0.936170             0.018661              44              531   \n",
       "3   0.000304  0.936170             0.028501              44              811   \n",
       "4   0.000284  0.936170             0.038447              44             1094   \n",
       "\n",
       "   true_negatives  false_negatives  \n",
       "0           28455               46  \n",
       "1           28205                4  \n",
       "2           27924                3  \n",
       "3           27644                3  \n",
       "4           27361                3  "
      ]
     },
     "execution_count": 19,
     "metadata": {},
     "output_type": "execute_result"
    }
   ],
   "source": [
    "query = f\"\"\"\n",
    "SELECT *\n",
    "FROM ML.ROC_CURVE (MODEL `{BQ_PROJECT}.{BQ_DATASET}.{BQ_MODEL}`,(\n",
    "    SELECT *\n",
    "    FROM `{BQ_PROJECT}.{BQ_DATASET}.{BQ_TABLE}`\n",
    "    WHERE splits = 'TEST')\n",
    "  )\n",
    "\"\"\"\n",
    "test_roc = bq.query(query = query).to_dataframe()\n",
    "test_roc.head()"
   ]
  },
  {
   "cell_type": "code",
   "execution_count": 20,
   "id": "473cb999-eae9-425b-ade6-ec8c183baa6c",
   "metadata": {},
   "outputs": [
    {
     "data": {
      "image/png": "[encoded data removed]",
      "text/plain": [
       "<Figure size 1080x360 with 1 Axes>"
      ]
     },
     "metadata": {
      "needs_background": "light"
     },
     "output_type": "display_data"
    }
   ],
   "source": [
    "plt.figure(figsize=(15,5))\n",
    "plt.plot(train_roc['false_positive_rate'], train_roc['recall'], label='TRAIN')\n",
    "plt.plot(val_roc['false_positive_rate'], val_roc['recall'], label='VALIDATE')\n",
    "plt.plot(test_roc['false_positive_rate'], test_roc['recall'], label='TEST')\n",
    "plt.xlabel('False Positive Rate')\n",
    "plt.ylabel('True Positive Rate\\nRecall')\n",
    "plt.title('ROC Curves')\n",
    "plt.legend()\n",
    "plt.show()"
   ]
  },
  {
   "cell_type": "markdown",
   "id": "847fad8e-3eb7-494b-be03-46e9ae6cf6a4",
   "metadata": {},
   "source": [
    "---\n",
    "## Predictions"
   ]
  },
  {
   "cell_type": "markdown",
   "id": "3fc2bb7a-c20d-486c-bb4c-38cd070a368b",
   "metadata": {},
   "source": [
    "Create a pandas dataframe with predictions for the test data in the table:"
   ]
  },
  {
   "cell_type": "code",
   "execution_count": 21,
   "id": "11007445",
   "metadata": {},
   "outputs": [],
   "source": [
    "query = f\"\"\"\n",
    "SELECT *\n",
    "FROM ML.PREDICT (MODEL `{BQ_PROJECT}.{BQ_DATASET}.{BQ_MODEL}`,(\n",
    "    SELECT *\n",
    "    FROM `{BQ_PROJECT}.{BQ_DATASET}.{BQ_TABLE}`\n",
    "    WHERE splits = 'TEST')\n",
    "  )\n",
    "\"\"\"\n",
    "pred = bq.query(query = query).to_dataframe()"
   ]
  },
  {
   "cell_type": "markdown",
   "id": "fa04d99b-7a34-4ade-aaa1-81f443187f27",
   "metadata": {},
   "source": [
    "Review columns from the predictions - note that the query added columns with prefix `predicted_`"
   ]
  },
  {
   "cell_type": "code",
   "execution_count": 22,
   "id": "78c44b1f",
   "metadata": {},
   "outputs": [
    {
     "data": {
      "text/plain": [
       "Index(['predicted_Class', 'predicted_Class_probs', 'Time', 'V1', 'V2', 'V3',\n",
       "       'V4', 'V5', 'V6', 'V7', 'V8', 'V9', 'V10', 'V11', 'V12', 'V13', 'V14',\n",
       "       'V15', 'V16', 'V17', 'V18', 'V19', 'V20', 'V21', 'V22', 'V23', 'V24',\n",
       "       'V25', 'V26', 'V27', 'V28', 'Amount', 'Class', 'transaction_id',\n",
       "       'splits'],\n",
       "      dtype='object')"
      ]
     },
     "execution_count": 22,
     "metadata": {},
     "output_type": "execute_result"
    }
   ],
   "source": [
    "pred.columns"
   ]
  },
  {
   "cell_type": "markdown",
   "id": "78e8972a-cffe-4e9f-af47-1a8fba9c4e12",
   "metadata": {},
   "source": [
    "Print the first few rows for the columns related to the actual and predicted values:"
   ]
  },
  {
   "cell_type": "code",
   "execution_count": 23,
   "id": "c66df846",
   "metadata": {},
   "outputs": [
    {
     "data": {
      "text/html": [
       "<div>\n",
       "<style scoped>\n",
       "    .dataframe tbody tr th:only-of-type {\n",
       "        vertical-align: middle;\n",
       "    }\n",
       "\n",
       "    .dataframe tbody tr th {\n",
       "        vertical-align: top;\n",
       "    }\n",
       "\n",
       "    .dataframe thead th {\n",
       "        text-align: right;\n",
       "    }\n",
       "</style>\n",
       "<table border=\"1\" class=\"dataframe\">\n",
       "  <thead>\n",
       "    <tr style=\"text-align: right;\">\n",
       "      <th></th>\n",
       "      <th>Class</th>\n",
       "      <th>predicted_Class</th>\n",
       "      <th>predicted_Class_probs</th>\n",
       "      <th>splits</th>\n",
       "    </tr>\n",
       "  </thead>\n",
       "  <tbody>\n",
       "    <tr>\n",
       "      <th>0</th>\n",
       "      <td>0</td>\n",
       "      <td>0</td>\n",
       "      <td>[{'label': 1, 'prob': 4.291067671147175e-05}, ...</td>\n",
       "      <td>TEST</td>\n",
       "    </tr>\n",
       "    <tr>\n",
       "      <th>1</th>\n",
       "      <td>0</td>\n",
       "      <td>0</td>\n",
       "      <td>[{'label': 1, 'prob': 4.322495078667998e-05}, ...</td>\n",
       "      <td>TEST</td>\n",
       "    </tr>\n",
       "    <tr>\n",
       "      <th>2</th>\n",
       "      <td>0</td>\n",
       "      <td>0</td>\n",
       "      <td>[{'label': 1, 'prob': 4.322495078667998e-05}, ...</td>\n",
       "      <td>TEST</td>\n",
       "    </tr>\n",
       "    <tr>\n",
       "      <th>3</th>\n",
       "      <td>0</td>\n",
       "      <td>0</td>\n",
       "      <td>[{'label': 1, 'prob': 4.322495078667998e-05}, ...</td>\n",
       "      <td>TEST</td>\n",
       "    </tr>\n",
       "    <tr>\n",
       "      <th>4</th>\n",
       "      <td>0</td>\n",
       "      <td>0</td>\n",
       "      <td>[{'label': 1, 'prob': 4.322495078667998e-05}, ...</td>\n",
       "      <td>TEST</td>\n",
       "    </tr>\n",
       "  </tbody>\n",
       "</table>\n",
       "</div>"
      ],
      "text/plain": [
       "   Class  predicted_Class                              predicted_Class_probs  \\\n",
       "0      0                0  [{'label': 1, 'prob': 4.291067671147175e-05}, ...   \n",
       "1      0                0  [{'label': 1, 'prob': 4.322495078667998e-05}, ...   \n",
       "2      0                0  [{'label': 1, 'prob': 4.322495078667998e-05}, ...   \n",
       "3      0                0  [{'label': 1, 'prob': 4.322495078667998e-05}, ...   \n",
       "4      0                0  [{'label': 1, 'prob': 4.322495078667998e-05}, ...   \n",
       "\n",
       "  splits  \n",
       "0   TEST  \n",
       "1   TEST  \n",
       "2   TEST  \n",
       "3   TEST  \n",
       "4   TEST  "
      ]
     },
     "execution_count": 23,
     "metadata": {},
     "output_type": "execute_result"
    }
   ],
   "source": [
    "pred[[VAR_TARGET, f'predicted_{VAR_TARGET}', f'predicted_{VAR_TARGET}_probs', 'splits']].head()"
   ]
  },
  {
   "cell_type": "markdown",
   "id": "5e190331-3f4c-4827-a1ac-d9e8888e797d",
   "metadata": {},
   "source": [
    "Notice the nested dictionary for predicted probabilities.  In BigQuery this is a Record type structure with nested fields for `label` and `prop`.  This is returned to the pandas dataframe as a nested dictionary.\n",
    "\n",
    "The following code sorts the dictionary for the first record by `prob`:"
   ]
  },
  {
   "cell_type": "code",
   "execution_count": 24,
   "id": "b213c1f7",
   "metadata": {},
   "outputs": [
    {
     "data": {
      "text/plain": [
       "[[{'label': 0, 'prob': 0.9999570250511169},\n",
       "  {'label': 1, 'prob': 4.291067671147175e-05}]]"
      ]
     },
     "execution_count": 24,
     "metadata": {},
     "output_type": "execute_result"
    }
   ],
   "source": [
    "exec('temp = pred.predicted_'+VAR_TARGET+'_probs[0]')\n",
    "[sorted(x, key = lambda x: x['label']) for x in [temp]]"
   ]
  },
  {
   "cell_type": "markdown",
   "id": "ede35c23-c209-43f7-aace-9df243282c2f",
   "metadata": {},
   "source": [
    "---\n",
    "## Explanations\n",
    "[Built-in](https://cloud.google.com/bigquery-ml/docs/reference/standard-sql/bigqueryml-syntax-xai-overview) capabilities to understand how features contributed to predictions both individually (local) and overall (global)."
   ]
  },
  {
   "cell_type": "markdown",
   "id": "e7ab8824-de74-425e-979f-7fc6181ff007",
   "metadata": {},
   "source": [
    "### Local Explainability\n",
    "Retrieve feature attribution values to interpret each features contribution to a prediction relative to the baseline prediction using [`ML.EXPLAIN_PREDICT`](https://cloud.google.com/bigquery-ml/docs/reference/standard-sql/bigqueryml-syntax-explain-predict)."
   ]
  },
  {
   "cell_type": "code",
   "execution_count": 25,
   "id": "219fd574-6971-4e8a-8805-fdd2d3514a69",
   "metadata": {},
   "outputs": [],
   "source": [
    "query = f\"\"\"\n",
    "SELECT *\n",
    "FROM ML.EXPLAIN_PREDICT (MODEL `{BQ_PROJECT}.{BQ_DATASET}.{BQ_MODEL}`,(\n",
    "    SELECT *\n",
    "    FROM `{BQ_PROJECT}.{BQ_DATASET}.{BQ_TABLE}`\n",
    "    WHERE splits = 'TEST'), STRUCT(10 as top_k_features)\n",
    "  )\n",
    "\"\"\"\n",
    "explain = bq.query(query = query).to_dataframe()"
   ]
  },
  {
   "cell_type": "code",
   "execution_count": 26,
   "id": "6b9e6324-b1c5-477d-95c8-c3338738fec0",
   "metadata": {},
   "outputs": [
    {
     "data": {
      "text/html": [
       "<div>\n",
       "<style scoped>\n",
       "    .dataframe tbody tr th:only-of-type {\n",
       "        vertical-align: middle;\n",
       "    }\n",
       "\n",
       "    .dataframe tbody tr th {\n",
       "        vertical-align: top;\n",
       "    }\n",
       "\n",
       "    .dataframe thead th {\n",
       "        text-align: right;\n",
       "    }\n",
       "</style>\n",
       "<table border=\"1\" class=\"dataframe\">\n",
       "  <thead>\n",
       "    <tr style=\"text-align: right;\">\n",
       "      <th></th>\n",
       "      <th>predicted_Class</th>\n",
       "      <th>probability</th>\n",
       "      <th>top_feature_attributions</th>\n",
       "      <th>baseline_prediction_value</th>\n",
       "      <th>prediction_value</th>\n",
       "      <th>approximation_error</th>\n",
       "      <th>Time</th>\n",
       "      <th>V1</th>\n",
       "      <th>V2</th>\n",
       "      <th>V3</th>\n",
       "      <th>...</th>\n",
       "      <th>V23</th>\n",
       "      <th>V24</th>\n",
       "      <th>V25</th>\n",
       "      <th>V26</th>\n",
       "      <th>V27</th>\n",
       "      <th>V28</th>\n",
       "      <th>Amount</th>\n",
       "      <th>Class</th>\n",
       "      <th>transaction_id</th>\n",
       "      <th>splits</th>\n",
       "    </tr>\n",
       "  </thead>\n",
       "  <tbody>\n",
       "    <tr>\n",
       "      <th>0</th>\n",
       "      <td>0</td>\n",
       "      <td>0.999957</td>\n",
       "      <td>[{'feature': 'V4', 'attribution': 0.0070336004...</td>\n",
       "      <td>10.049049</td>\n",
       "      <td>10.056347</td>\n",
       "      <td>0.000016</td>\n",
       "      <td>35337</td>\n",
       "      <td>1.092844</td>\n",
       "      <td>-0.013230</td>\n",
       "      <td>1.359829</td>\n",
       "      <td>...</td>\n",
       "      <td>-0.167647</td>\n",
       "      <td>0.027557</td>\n",
       "      <td>0.592115</td>\n",
       "      <td>0.219695</td>\n",
       "      <td>0.036970</td>\n",
       "      <td>0.010984</td>\n",
       "      <td>0.0</td>\n",
       "      <td>0</td>\n",
       "      <td>a1b10547-d270-48c0-b902-7a0f735dadc7</td>\n",
       "      <td>TEST</td>\n",
       "    </tr>\n",
       "    <tr>\n",
       "      <th>1</th>\n",
       "      <td>0</td>\n",
       "      <td>0.999957</td>\n",
       "      <td>[{'feature': 'Time', 'attribution': 2.49002226...</td>\n",
       "      <td>10.049049</td>\n",
       "      <td>10.049049</td>\n",
       "      <td>3.293831</td>\n",
       "      <td>60481</td>\n",
       "      <td>1.238973</td>\n",
       "      <td>0.035226</td>\n",
       "      <td>0.063003</td>\n",
       "      <td>...</td>\n",
       "      <td>-0.057718</td>\n",
       "      <td>0.104983</td>\n",
       "      <td>0.537987</td>\n",
       "      <td>0.589563</td>\n",
       "      <td>-0.046207</td>\n",
       "      <td>-0.006212</td>\n",
       "      <td>0.0</td>\n",
       "      <td>0</td>\n",
       "      <td>814c62c8-ade4-47d5-bf83-313b0aafdee5</td>\n",
       "      <td>TEST</td>\n",
       "    </tr>\n",
       "    <tr>\n",
       "      <th>2</th>\n",
       "      <td>0</td>\n",
       "      <td>0.999957</td>\n",
       "      <td>[{'feature': 'V4', 'attribution': 9.4522973717...</td>\n",
       "      <td>10.049049</td>\n",
       "      <td>10.049049</td>\n",
       "      <td>0.035823</td>\n",
       "      <td>139587</td>\n",
       "      <td>1.870539</td>\n",
       "      <td>0.211079</td>\n",
       "      <td>0.224457</td>\n",
       "      <td>...</td>\n",
       "      <td>0.180776</td>\n",
       "      <td>-0.060226</td>\n",
       "      <td>-0.228979</td>\n",
       "      <td>0.080827</td>\n",
       "      <td>0.009868</td>\n",
       "      <td>-0.036997</td>\n",
       "      <td>0.0</td>\n",
       "      <td>0</td>\n",
       "      <td>d08a1bfa-85c5-4f1b-9537-1c5a93e6afd0</td>\n",
       "      <td>TEST</td>\n",
       "    </tr>\n",
       "    <tr>\n",
       "      <th>3</th>\n",
       "      <td>0</td>\n",
       "      <td>0.999957</td>\n",
       "      <td>[{'feature': 'V6', 'attribution': -6.249588825...</td>\n",
       "      <td>10.049049</td>\n",
       "      <td>10.049049</td>\n",
       "      <td>0.072206</td>\n",
       "      <td>162908</td>\n",
       "      <td>-3.368339</td>\n",
       "      <td>-1.980442</td>\n",
       "      <td>0.153645</td>\n",
       "      <td>...</td>\n",
       "      <td>-1.171627</td>\n",
       "      <td>0.214333</td>\n",
       "      <td>-0.159652</td>\n",
       "      <td>-0.060883</td>\n",
       "      <td>1.294977</td>\n",
       "      <td>0.120503</td>\n",
       "      <td>0.0</td>\n",
       "      <td>0</td>\n",
       "      <td>802f3307-8e5a-4475-b795-5d5d8d7d0120</td>\n",
       "      <td>TEST</td>\n",
       "    </tr>\n",
       "    <tr>\n",
       "      <th>4</th>\n",
       "      <td>0</td>\n",
       "      <td>0.999957</td>\n",
       "      <td>[{'feature': 'V3', 'attribution': -1.860332698...</td>\n",
       "      <td>10.049049</td>\n",
       "      <td>10.049049</td>\n",
       "      <td>0.017436</td>\n",
       "      <td>165236</td>\n",
       "      <td>2.180149</td>\n",
       "      <td>0.218732</td>\n",
       "      <td>-2.637726</td>\n",
       "      <td>...</td>\n",
       "      <td>-0.176957</td>\n",
       "      <td>0.563779</td>\n",
       "      <td>0.730183</td>\n",
       "      <td>0.707494</td>\n",
       "      <td>-0.131066</td>\n",
       "      <td>-0.090428</td>\n",
       "      <td>0.0</td>\n",
       "      <td>0</td>\n",
       "      <td>c8a5b93a-1598-4689-80be-4f9f5df0b8ce</td>\n",
       "      <td>TEST</td>\n",
       "    </tr>\n",
       "  </tbody>\n",
       "</table>\n",
       "<p>5 rows × 39 columns</p>\n",
       "</div>"
      ],
      "text/plain": [
       "   predicted_Class  probability  \\\n",
       "0                0     0.999957   \n",
       "1                0     0.999957   \n",
       "2                0     0.999957   \n",
       "3                0     0.999957   \n",
       "4                0     0.999957   \n",
       "\n",
       "                            top_feature_attributions  \\\n",
       "0  [{'feature': 'V4', 'attribution': 0.0070336004...   \n",
       "1  [{'feature': 'Time', 'attribution': 2.49002226...   \n",
       "2  [{'feature': 'V4', 'attribution': 9.4522973717...   \n",
       "3  [{'feature': 'V6', 'attribution': -6.249588825...   \n",
       "4  [{'feature': 'V3', 'attribution': -1.860332698...   \n",
       "\n",
       "   baseline_prediction_value  prediction_value  approximation_error    Time  \\\n",
       "0                  10.049049         10.056347             0.000016   35337   \n",
       "1                  10.049049         10.049049             3.293831   60481   \n",
       "2                  10.049049         10.049049             0.035823  139587   \n",
       "3                  10.049049         10.049049             0.072206  162908   \n",
       "4                  10.049049         10.049049             0.017436  165236   \n",
       "\n",
       "         V1        V2        V3  ...       V23       V24       V25       V26  \\\n",
       "0  1.092844 -0.013230  1.359829  ... -0.167647  0.027557  0.592115  0.219695   \n",
       "1  1.238973  0.035226  0.063003  ... -0.057718  0.104983  0.537987  0.589563   \n",
       "2  1.870539  0.211079  0.224457  ...  0.180776 -0.060226 -0.228979  0.080827   \n",
       "3 -3.368339 -1.980442  0.153645  ... -1.171627  0.214333 -0.159652 -0.060883   \n",
       "4  2.180149  0.218732 -2.637726  ... -0.176957  0.563779  0.730183  0.707494   \n",
       "\n",
       "        V27       V28  Amount  Class                        transaction_id  \\\n",
       "0  0.036970  0.010984     0.0      0  a1b10547-d270-48c0-b902-7a0f735dadc7   \n",
       "1 -0.046207 -0.006212     0.0      0  814c62c8-ade4-47d5-bf83-313b0aafdee5   \n",
       "2  0.009868 -0.036997     0.0      0  d08a1bfa-85c5-4f1b-9537-1c5a93e6afd0   \n",
       "3  1.294977  0.120503     0.0      0  802f3307-8e5a-4475-b795-5d5d8d7d0120   \n",
       "4 -0.131066 -0.090428     0.0      0  c8a5b93a-1598-4689-80be-4f9f5df0b8ce   \n",
       "\n",
       "   splits  \n",
       "0    TEST  \n",
       "1    TEST  \n",
       "2    TEST  \n",
       "3    TEST  \n",
       "4    TEST  \n",
       "\n",
       "[5 rows x 39 columns]"
      ]
     },
     "execution_count": 26,
     "metadata": {},
     "output_type": "execute_result"
    }
   ],
   "source": [
    "explain.head()"
   ]
  },
  {
   "cell_type": "markdown",
   "id": "831fb273-c3fe-447a-8f48-82eded4f20eb",
   "metadata": {},
   "source": [
    "Create a plot of feature attributions for a single prediction:"
   ]
  },
  {
   "cell_type": "code",
   "execution_count": 27,
   "id": "d9d6f625-5d5b-4017-b7b0-ccb59148ee62",
   "metadata": {},
   "outputs": [],
   "source": [
    "explanation = explain.iloc[0]['top_feature_attributions']"
   ]
  },
  {
   "cell_type": "code",
   "execution_count": 28,
   "id": "3645d9e5-b411-40f2-953a-c45a2c160664",
   "metadata": {},
   "outputs": [
    {
     "data": {
      "image/png": "[encoded data removed]",
      "text/plain": [
       "<Figure size 1080x360 with 1 Axes>"
      ]
     },
     "metadata": {
      "needs_background": "light"
     },
     "output_type": "display_data"
    }
   ],
   "source": [
    "features = []\n",
    "scores = []\n",
    "for k in explanation:\n",
    "    features.append(k['feature'])\n",
    "    scores.append(k['attribution'])\n",
    "features = [x for _, x in sorted(zip(scores, features))]\n",
    "scores = sorted(scores)\n",
    "\n",
    "plt.figure(figsize=(15,5))\n",
    "plt.barh(features, scores)\n",
    "plt.title('Feature Attribution for Prediction')\n",
    "plt.show()"
   ]
  },
  {
   "cell_type": "markdown",
   "id": "195c2a56-5b20-46a9-9dfc-bc0d373b1f79",
   "metadata": {},
   "source": [
    "### Global Explainability\n",
    "Retrieve the influence of each feature on the model with [`ML.GLOBAL_EXPLAIN`](https://cloud.google.com/bigquery-ml/docs/reference/standard-sql/bigqueryml-syntax-global-explain).  "
   ]
  },
  {
   "cell_type": "code",
   "execution_count": 29,
   "id": "c8175a73-b86a-403e-8692-66aad5131512",
   "metadata": {},
   "outputs": [],
   "source": [
    "query = f\"\"\"\n",
    "SELECT *\n",
    "FROM ML.GLOBAL_EXPLAIN (MODEL `{BQ_PROJECT}.{BQ_DATASET}.{BQ_MODEL}`)\n",
    "\"\"\"\n",
    "gexplain = bq.query(query = query).to_dataframe()"
   ]
  },
  {
   "cell_type": "code",
   "execution_count": 30,
   "id": "f9cba8b6-2117-4c16-b8e2-c0bd3a3249b1",
   "metadata": {},
   "outputs": [
    {
     "data": {
      "text/html": [
       "<div>\n",
       "<style scoped>\n",
       "    .dataframe tbody tr th:only-of-type {\n",
       "        vertical-align: middle;\n",
       "    }\n",
       "\n",
       "    .dataframe tbody tr th {\n",
       "        vertical-align: top;\n",
       "    }\n",
       "\n",
       "    .dataframe thead th {\n",
       "        text-align: right;\n",
       "    }\n",
       "</style>\n",
       "<table border=\"1\" class=\"dataframe\">\n",
       "  <thead>\n",
       "    <tr style=\"text-align: right;\">\n",
       "      <th></th>\n",
       "      <th>feature</th>\n",
       "      <th>attribution</th>\n",
       "    </tr>\n",
       "  </thead>\n",
       "  <tbody>\n",
       "    <tr>\n",
       "      <th>0</th>\n",
       "      <td>Amount</td>\n",
       "      <td>0.085307</td>\n",
       "    </tr>\n",
       "    <tr>\n",
       "      <th>1</th>\n",
       "      <td>V14</td>\n",
       "      <td>0.081472</td>\n",
       "    </tr>\n",
       "    <tr>\n",
       "      <th>2</th>\n",
       "      <td>V4</td>\n",
       "      <td>0.045541</td>\n",
       "    </tr>\n",
       "    <tr>\n",
       "      <th>3</th>\n",
       "      <td>V20</td>\n",
       "      <td>0.038980</td>\n",
       "    </tr>\n",
       "    <tr>\n",
       "      <th>4</th>\n",
       "      <td>Time</td>\n",
       "      <td>0.037707</td>\n",
       "    </tr>\n",
       "  </tbody>\n",
       "</table>\n",
       "</div>"
      ],
      "text/plain": [
       "  feature  attribution\n",
       "0  Amount     0.085307\n",
       "1     V14     0.081472\n",
       "2      V4     0.045541\n",
       "3     V20     0.038980\n",
       "4    Time     0.037707"
      ]
     },
     "execution_count": 30,
     "metadata": {},
     "output_type": "execute_result"
    }
   ],
   "source": [
    "gexplain.head()"
   ]
  },
  {
   "cell_type": "code",
   "execution_count": 31,
   "id": "e1529486-9a8d-4587-9ec0-4f5e2d39b3d4",
   "metadata": {},
   "outputs": [
    {
     "data": {
      "image/png": "[encoded data removed]",
      "text/plain": [
       "<Figure size 1080x576 with 1 Axes>"
      ]
     },
     "metadata": {
      "needs_background": "light"
     },
     "output_type": "display_data"
    }
   ],
   "source": [
    "plt.figure(figsize=(15,8))\n",
    "plt.barh(gexplain['feature'], gexplain['attribution'])\n",
    "plt.title('Global Influence')\n",
    "plt.xlabel('Attribution')\n",
    "#plt.ylabel('Feature')\n",
    "plt.show()"
   ]
  },
  {
   "cell_type": "markdown",
   "id": "a6f9b2a8-bcbd-439c-9dc7-993a8a96df13",
   "metadata": {},
   "source": [
    "---\n",
    "## Serving With Vertex AI\n",
    "\n",
    "This demonstration shows the process of exporting and registering a BQML model with Vertex AI Model Registry.  To directly integrate BQML with Vertex AI Model Registry it is now (April 1, 2022) possible at model creation time with options `vertex_ai_model_id` and `vertex_ai_model_version_alises`. See the documentation for this direct integration [here](https://cloud.google.com/bigquery-ml/docs/managing-models-vertex)."
   ]
  },
  {
   "cell_type": "markdown",
   "id": "1ab373f4-025e-4095-acec-ebdceadc7ec1",
   "metadata": {},
   "source": [
    "### Export the BigQuery Model\n",
    "\n",
    "Reference: [Export the BigQuery Model](https://cloud.google.com/bigquery-ml/docs/exporting-models)"
   ]
  },
  {
   "cell_type": "code",
   "execution_count": 32,
   "id": "14d20b14-695f-4658-a85c-c3abfd57bb8f",
   "metadata": {},
   "outputs": [
    {
     "data": {
      "text/plain": [
       "<google.cloud.bigquery.table._EmptyRowIterator at 0x7f221b8afd90>"
      ]
     },
     "execution_count": 32,
     "metadata": {},
     "output_type": "execute_result"
    }
   ],
   "source": [
    "query = f\"\"\"\n",
    "EXPORT MODEL `{BQ_PROJECT}.{BQ_DATASET}.{BQ_MODEL}`\n",
    "    OPTIONS (URI = '{URI}/{TIMESTAMP}/model')\n",
    "\"\"\"\n",
    "export = bq.query(query = query)\n",
    "export.result()"
   ]
  },
  {
   "cell_type": "code",
   "execution_count": 33,
   "id": "226bef46-e9ae-4d65-85dd-0f6a3cfbe119",
   "metadata": {},
   "outputs": [
    {
     "data": {
      "text/plain": [
       "3.671"
      ]
     },
     "execution_count": 33,
     "metadata": {},
     "output_type": "execute_result"
    }
   ],
   "source": [
    "(export.ended - export.started).total_seconds()"
   ]
  },
  {
   "cell_type": "code",
   "execution_count": 34,
   "id": "633589ec-24d6-4f11-98e5-a8d97847dce7",
   "metadata": {},
   "outputs": [
    {
     "data": {
      "text/plain": [
       "['gs://statmike-mlops-349915/fraud/models/03/03e/20220908175333/model/checkpoint',\n",
       " 'gs://statmike-mlops-349915/fraud/models/03/03e/20220908175333/model/explanation_metadata.json',\n",
       " 'gs://statmike-mlops-349915/fraud/models/03/03e/20220908175333/model/graph.pbtxt',\n",
       " 'gs://statmike-mlops-349915/fraud/models/03/03e/20220908175333/model/model.ckpt-22800.data-00000-of-00002',\n",
       " 'gs://statmike-mlops-349915/fraud/models/03/03e/20220908175333/model/model.ckpt-22800.data-00001-of-00002',\n",
       " 'gs://statmike-mlops-349915/fraud/models/03/03e/20220908175333/model/model.ckpt-22800.index',\n",
       " 'gs://statmike-mlops-349915/fraud/models/03/03e/20220908175333/model/model.ckpt-22800.meta',\n",
       " 'gs://statmike-mlops-349915/fraud/models/03/03e/20220908175333/model/saved_model.pb',\n",
       " 'gs://statmike-mlops-349915/fraud/models/03/03e/20220908175333/model/variables/']"
      ]
     },
     "execution_count": 34,
     "metadata": {},
     "output_type": "execute_result"
    }
   ],
   "source": [
    "listing = !gsutil ls {URI}/{TIMESTAMP}/model\n",
    "listing"
   ]
  },
  {
   "cell_type": "code",
   "execution_count": 35,
   "id": "2cf20d25-78aa-4693-9df6-e4b6c3df80a6",
   "metadata": {},
   "outputs": [
    {
     "name": "stdout",
     "output_type": "stream",
     "text": [
      "View the export in the console:\n",
      "https://console.cloud.google.com/storage/browser/statmike-mlops-349915/fraud/models/03/03e/20220908175333/model?project=statmike-mlops-349915\n"
     ]
    }
   ],
   "source": [
    "print(f\"View the export in the console:\\nhttps://console.cloud.google.com/storage/browser/{URI.split('//')[-1]}/{TIMESTAMP}/model?project={PROJECT_ID}\")"
   ]
  },
  {
   "cell_type": "markdown",
   "id": "d93653cd-769a-4bd5-9e9e-ac58ad162754",
   "metadata": {},
   "source": [
    "### Detect The Model Types Framework"
   ]
  },
  {
   "cell_type": "code",
   "execution_count": 36,
   "id": "3306c2d6-1f46-4c1f-8103-27962967b8bc",
   "metadata": {},
   "outputs": [
    {
     "name": "stdout",
     "output_type": "stream",
     "text": [
      "framework = TensorFlow\n"
     ]
    }
   ],
   "source": [
    "filetype = {'pb': 'TensorFlow', 'bst': 'XGBoost'}\n",
    "\n",
    "filetypes = [filetype[f.split('.')[-1]] for f in listing if f.split('.')[-1] in ['pb','bst']]\n",
    "if len(filetypes) == 1:\n",
    "    framework = filetypes[0]\n",
    "    print(f'framework = {framework}')\n",
    "else:\n",
    "    raise TypeError(f\"Model Type Undeteremined!! Review the contents of of 'listing = {listing}'.\")"
   ]
  },
  {
   "cell_type": "markdown",
   "id": "d91c822c-9e20-4e71-9859-338af5a92ad5",
   "metadata": {},
   "source": [
    "Set the `DEPLOY_IMAGE` based on the framework:"
   ]
  },
  {
   "cell_type": "code",
   "execution_count": 37,
   "id": "84d42133-6e2a-4ac3-b66c-f7e576d9859a",
   "metadata": {},
   "outputs": [
    {
     "data": {
      "text/plain": [
       "'us-docker.pkg.dev/vertex-ai/prediction/tf2-cpu.2-3:latest'"
      ]
     },
     "execution_count": 37,
     "metadata": {},
     "output_type": "execute_result"
    }
   ],
   "source": [
    "if framework == 'TensorFlow':\n",
    "    DEPLOY_IMAGE = TF_DEPLOY_IMAGE\n",
    "elif framework == 'XGBoost':\n",
    "    DEPLOY_IMAGE = XGB_DEPLOY_IMAGE\n",
    "    \n",
    "DEPLOY_IMAGE"
   ]
  },
  {
   "cell_type": "markdown",
   "id": "a92e9b1c-d245-4850-9e8f-7527f8e3d242",
   "metadata": {},
   "source": [
    "### Upload The Model To Vertex AI Model Registry\n",
    "References:\n",
    "- Python SDK for [`aiplatform.Model`](https://googleapis.dev/python/aiplatform/latest/aiplatform/services.html#google.cloud.aiplatform.Model)\n",
    "- Python Client for [`aiplatform.Model`](https://cloud.google.com/python/docs/reference/aiplatform/latest/google.cloud.aiplatform.Model)"
   ]
  },
  {
   "cell_type": "code",
   "execution_count": 38,
   "id": "51d473e4-2b7b-4906-87ec-cd8209e855f5",
   "metadata": {},
   "outputs": [
    {
     "name": "stdout",
     "output_type": "stream",
     "text": [
      "This is a new model, creating in model registry\n",
      "Creating Model\n",
      "Create Model backing LRO: projects/1026793852137/locations/us-central1/models/model_03e_fraud/operations/1681791339210997760\n",
      "Model created. Resource name: projects/1026793852137/locations/us-central1/models/9047709661154770944@1\n",
      "To use this Model in another session:\n",
      "model = aiplatform.Model('projects/1026793852137/locations/us-central1/models/9047709661154770944@1')\n"
     ]
    }
   ],
   "source": [
    "modelmatch = aiplatform.Model.list(filter = f'labels.series={SERIES} AND labels.experiment={EXPERIMENT}')\n",
    "\n",
    "upload_model = True\n",
    "if modelmatch:\n",
    "    print(\"Model Already in Registry:\")\n",
    "    if RUN_NAME in modelmatch[0].version_aliases:\n",
    "        print(\"This version already loaded, no action taken.\")\n",
    "        upload_model = False\n",
    "        model = aiplatform.Model(model_name = modelmatch[0].resource_name)\n",
    "    else:\n",
    "        print('Loading model as new default version.')\n",
    "        parent_model =  modelmatch[0].resource_name\n",
    "else:\n",
    "    print('This is a new model, creating in model registry')\n",
    "    parent_model = ''\n",
    "\n",
    "if upload_model:\n",
    "    model = aiplatform.Model.upload(\n",
    "        display_name = f'{EXPERIMENT}_{BQ_DATASET}',\n",
    "        model_id = f'model_{EXPERIMENT}_{BQ_DATASET}',\n",
    "        parent_model = parent_model,\n",
    "        serving_container_image_uri = DEPLOY_IMAGE,\n",
    "        artifact_uri = f\"{URI}/{TIMESTAMP}/model\",\n",
    "        is_default_version = True,\n",
    "        version_aliases = [RUN_NAME],\n",
    "        version_description = RUN_NAME,\n",
    "        labels = {'series' : f'{SERIES}', 'experiment' : f'{EXPERIMENT}', 'run_name' : f'{RUN_NAME}', 'framework' : f'{framework.lower()}'}\n",
    "    )  "
   ]
  },
  {
   "cell_type": "code",
   "execution_count": 39,
   "id": "07952005-d31a-4aae-a32c-c92013f1376b",
   "metadata": {},
   "outputs": [
    {
     "data": {
      "text/plain": [
       "'03e_fraud'"
      ]
     },
     "execution_count": 39,
     "metadata": {},
     "output_type": "execute_result"
    }
   ],
   "source": [
    "model.display_name"
   ]
  },
  {
   "cell_type": "code",
   "execution_count": 40,
   "id": "36fd0a92-88d2-495f-831f-eed4efb53019",
   "metadata": {},
   "outputs": [
    {
     "data": {
      "text/plain": [
       "'projects/1026793852137/locations/us-central1/models/9047709661154770944'"
      ]
     },
     "execution_count": 40,
     "metadata": {},
     "output_type": "execute_result"
    }
   ],
   "source": [
    "model.resource_name"
   ]
  },
  {
   "cell_type": "code",
   "execution_count": 41,
   "id": "b59f62f0-8870-4b27-a0d2-73c5114ed33b",
   "metadata": {},
   "outputs": [
    {
     "name": "stdout",
     "output_type": "stream",
     "text": [
      "View the model in the Vertex AI Console:\n",
      "https://console.cloud.google.com/vertex-ai/locations/us-central1/models/model_03e_fraud?project=statmike-mlops-349915\n"
     ]
    }
   ],
   "source": [
    "print(f\"View the model in the Vertex AI Console:\\nhttps://console.cloud.google.com/vertex-ai/locations/{REGION}/models/model_{EXPERIMENT}_{BQ_DATASET}?project={PROJECT_ID}\")"
   ]
  },
  {
   "cell_type": "markdown",
   "id": "82fd03f9-c4a8-4b57-aec0-bbf306c7d6e3",
   "metadata": {},
   "source": [
    "---\n",
    "## Online Predictions with Vertex AI Endpoints\n",
    "Check out the notebook `03Tools - Predictions` to see how to use this model with [online predictions in Vertex AI](https://cloud.google.com/vertex-ai/docs/predictions/online-predictions-custom-models)."
   ]
  },
  {
   "cell_type": "markdown",
   "id": "eb4926d3-d08f-40d3-aa77-71ff57cabd15",
   "metadata": {},
   "source": [
    "---\n",
    "## Remove Resources\n",
    "see notebook \"99 - Cleanup\""
   ]
  }
 ],
 "metadata": {
  "environment": {
   "kernel": "python3",
   "name": "tf2-gpu.2-3.m94",
   "type": "gcloud",
   "uri": "gcr.io/deeplearning-platform-release/tf2-gpu.2-3:m94"
  },
  "kernelspec": {
   "display_name": "Python 3",
   "language": "python",
   "name": "python3"
  },
  "language_info": {
   "codemirror_mode": {
    "name": "ipython",
    "version": 3
   },
   "file_extension": ".py",
   "mimetype": "text/x-python",
   "name": "python",
   "nbconvert_exporter": "python",
   "pygments_lexer": "ipython3",
   "version": "3.7.12"
  }
 },
 "nbformat": 4,
 "nbformat_minor": 5
}
