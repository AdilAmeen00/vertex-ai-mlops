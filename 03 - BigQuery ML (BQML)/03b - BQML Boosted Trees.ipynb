{
 "cells": [
  {
   "cell_type": "markdown",
   "id": "154fe7ff-fdbe-4152-9e8a-f1a86cc0aede",
   "metadata": {},
   "source": [
    "# 03b - BigQuery ML (BQML) - Boosted Trees For Classification\n",
    "\n",
    "In this notebook, BigQuery ML (BQML) is used to create a boosted tree model (using XGBoost).\n",
    "\n",
    "BigQuery has a number of machine learning algorithms callable directly from SQL.  This gives the convenience of using the common language of `SQL` with statments like `CREATE MODEL …`.  The library of available models is constantly growing and covers supervised, unsupervised, and time series methods as well as functions for evaluation - even anomaly detection from results, explainability and hyperparameter tuning.  A great starting point for seeing the scope of available methods is the [user journey for models](https://cloud.google.com/bigquery-ml/docs/reference/standard-sql/bigqueryml-syntax-e2e-journey).\n",
    "\n",
    "**Prerequisites:**\n",
    "-  01 - BigQuery - Table Data Source\n",
    "\n",
    "**Resources:**\n",
    "-  [BigQuery ML (BQML) Overview](https://cloud.google.com/bigquery-ml/docs/introduction)\n",
    "-  [Overview of BQML methods and workflows](https://cloud.google.com/bigquery-ml/docs/reference/standard-sql/bigqueryml-syntax-e2e-journey)\n",
    "\n",
    "**Conceptual Flow & Workflow**\n",
    "<p align=\"center\">\n",
    "  <img alt=\"Conceptual Flow\" src=\"../architectures/slides/03b_arch.png\" width=\"45%\">\n",
    "&nbsp; &nbsp; &nbsp; &nbsp;\n",
    "  <img alt=\"Workflow\" src=\"../architectures/slides/03b_console.png\" width=\"45%\">\n",
    "</p>"
   ]
  },
  {
   "cell_type": "markdown",
   "id": "3c217dda-058f-4920-8390-6b4592ba84a6",
   "metadata": {},
   "source": [
    "---\n",
    "## Setup"
   ]
  },
  {
   "cell_type": "markdown",
   "id": "51bd94bb-38a5-4c6b-ac0b-1abd60220907",
   "metadata": {},
   "source": [
    "inputs:"
   ]
  },
  {
   "cell_type": "code",
   "execution_count": 7,
   "id": "fe02e1c2-b00f-4ba9-b963-b3fc9754c783",
   "metadata": {},
   "outputs": [
    {
     "data": {
      "text/plain": [
       "'statmike-mlops-349915'"
      ]
     },
     "execution_count": 7,
     "metadata": {},
     "output_type": "execute_result"
    }
   ],
   "source": [
    "project = !gcloud config get-value project\n",
    "PROJECT_ID = project[0]\n",
    "PROJECT_ID"
   ]
  },
  {
   "cell_type": "code",
   "execution_count": 8,
   "id": "d26ae38e-d3b2-4952-996e-67c119538a19",
   "metadata": {},
   "outputs": [],
   "source": [
    "REGION = 'us-central1'\n",
    "EXPERIMENT = '03b'\n",
    "SERIES = '03'\n",
    "\n",
    "# source data\n",
    "BQ_PROJECT = PROJECT_ID\n",
    "BQ_DATASET = 'fraud'\n",
    "BQ_TABLE = 'fraud_prepped'\n",
    "\n",
    "# Resources for serving BigQuery Model Exports\n",
    "TF_DEPLOY_IMAGE = 'us-docker.pkg.dev/vertex-ai/prediction/tf2-cpu.2-3:latest'\n",
    "XGB_DEPLOY_IMAGE = 'us-docker.pkg.dev/vertex-ai/prediction/xgboost-cpu.0-82:latest'\n",
    "\n",
    "# Model Training\n",
    "VAR_TARGET = 'Class'\n",
    "VAR_OMIT = 'transaction_id' # add more variables to the string with space delimiters"
   ]
  },
  {
   "cell_type": "markdown",
   "id": "435f311e-87b4-484d-a51b-996d22a80bf9",
   "metadata": {},
   "source": [
    "packages:"
   ]
  },
  {
   "cell_type": "code",
   "execution_count": 9,
   "id": "f49b4d56-aa59-48d9-83dd-cc7edb54c8ce",
   "metadata": {},
   "outputs": [],
   "source": [
    "from google.cloud import bigquery\n",
    "from google.cloud import aiplatform\n",
    "from datetime import datetime\n",
    "import matplotlib.pyplot as plt"
   ]
  },
  {
   "cell_type": "markdown",
   "id": "494ce655-21c7-4b9c-b314-bbed26263ac3",
   "metadata": {},
   "source": [
    "clients:"
   ]
  },
  {
   "cell_type": "code",
   "execution_count": 10,
   "id": "50c5337e-8efc-4778-88ab-35cb8b610cf7",
   "metadata": {},
   "outputs": [],
   "source": [
    "bq = bigquery.Client()\n",
    "aiplatform.init(project=PROJECT_ID, location=REGION)"
   ]
  },
  {
   "cell_type": "markdown",
   "id": "7578411a-9806-426c-a56c-434479975191",
   "metadata": {},
   "source": [
    "parameters:"
   ]
  },
  {
   "cell_type": "code",
   "execution_count": 11,
   "id": "727f479d-b980-42dc-9930-a878d5ee2148",
   "metadata": {},
   "outputs": [],
   "source": [
    "TIMESTAMP = datetime.now().strftime(\"%Y%m%d%H%M%S\")\n",
    "BUCKET = PROJECT_ID\n",
    "URI = f\"gs://{BUCKET}/{BQ_DATASET}/models/{SERIES}/{EXPERIMENT}\"\n",
    "RUN_NAME = f'run-{TIMESTAMP}'\n",
    "\n",
    "BQ_MODEL = f'{EXPERIMENT}_{BQ_DATASET}_{TIMESTAMP}'"
   ]
  },
  {
   "cell_type": "markdown",
   "id": "2e4eab20-c1d1-4c3d-8ecc-54c4cc190658",
   "metadata": {},
   "source": [
    "---\n",
    "## This Run"
   ]
  },
  {
   "cell_type": "code",
   "execution_count": 50,
   "id": "681ef463-436d-4c3d-a20c-0b62f6bd3b49",
   "metadata": {},
   "outputs": [
    {
     "name": "stdout",
     "output_type": "stream",
     "text": [
      "This run with create BQML model: statmike-mlops-349915.fraud.03b_fraud_20220909115401\n",
      "The Timestamp Is: 20220909115401\n"
     ]
    }
   ],
   "source": [
    "print(f'This run with create BQML model: {BQ_PROJECT}.{BQ_DATASET}.{BQ_MODEL}')\n",
    "print(f'The Timestamp Is: {TIMESTAMP}')"
   ]
  },
  {
   "cell_type": "markdown",
   "id": "dcf97a81-326e-4a25-a6fe-cac6b0618f57",
   "metadata": {},
   "source": [
    "---\n",
    "## Train Model\n",
    "\n",
    "Use BigQuery ML to train multiclass boosted tree model using XGBoost:\n",
    "- [Boosted Tree](https://cloud.google.com/bigquery-ml/docs/reference/standard-sql/bigqueryml-syntax-create-boosted-tree) with BigQuery ML (BQML)\n",
    "- This uses the `splits` column that notebook `01` created\n",
    "- `data_split_method = CUSTOM` uses the column in `data_split_col` to assign training data for `FALSE` values and evaluation data for `TRUE` values.\n",
    "    - in this example the `WHERE splits != 'TEST'` statement filters out the test data and\n",
    "    - the `CASE` statement maps training data to FALSE and validation data to TRUE"
   ]
  },
  {
   "cell_type": "code",
   "execution_count": 12,
   "id": "2c538095-594f-480d-b43f-2a1222e7a01a",
   "metadata": {},
   "outputs": [
    {
     "data": {
      "text/plain": [
       "<google.cloud.bigquery.table._EmptyRowIterator at 0x7f463b239ed0>"
      ]
     },
     "execution_count": 12,
     "metadata": {},
     "output_type": "execute_result"
    }
   ],
   "source": [
    "query = f\"\"\"\n",
    "CREATE MODEL `{BQ_PROJECT}.{BQ_DATASET}.{BQ_MODEL}`\n",
    "OPTIONS\n",
    "    (model_type = 'BOOSTED_TREE_CLASSIFIER',\n",
    "        auto_class_weights = TRUE,\n",
    "        input_label_cols = ['{VAR_TARGET}'],\n",
    "        enable_global_explain = TRUE,\n",
    "        data_split_col = 'custom_splits',\n",
    "        data_split_method = 'CUSTOM',\n",
    "        booster_type = 'GBTREE',\n",
    "        num_parallel_tree = 1,\n",
    "        max_iterations = 30,\n",
    "        early_stop = TRUE,\n",
    "        min_rel_progress = 0.01,\n",
    "        tree_method = 'HIST',\n",
    "        subsample = 0.85\n",
    "    ) AS\n",
    "SELECT * EXCEPT({','.join(VAR_OMIT.split())}, splits),\n",
    "    CASE\n",
    "        WHEN splits = 'TRAIN' THEN FALSE\n",
    "        ELSE TRUE\n",
    "    END AS custom_splits\n",
    "FROM `{BQ_PROJECT}.{BQ_DATASET}.{BQ_TABLE}`\n",
    "WHERE splits != 'TEST'\n",
    "\"\"\"\n",
    "job = bq.query(query = query)\n",
    "job.result()"
   ]
  },
  {
   "cell_type": "code",
   "execution_count": 13,
   "id": "ecc8f810-ec25-4b8f-80e7-bd2b7a0552a7",
   "metadata": {},
   "outputs": [
    {
     "data": {
      "text/plain": [
       "563.715"
      ]
     },
     "execution_count": 13,
     "metadata": {},
     "output_type": "execute_result"
    }
   ],
   "source": [
    "(job.ended-job.started).total_seconds()"
   ]
  },
  {
   "cell_type": "markdown",
   "id": "89ae800c-9820-4295-8ed4-0a91bfd86f82",
   "metadata": {},
   "source": [
    "Add labels to the model in BigQuery:"
   ]
  },
  {
   "cell_type": "code",
   "execution_count": 14,
   "id": "680faba6-caed-4f10-873b-40b73537fbbf",
   "metadata": {},
   "outputs": [],
   "source": [
    "model = bq.get_model(f'{BQ_PROJECT}.{BQ_DATASET}.{BQ_MODEL}')\n",
    "model.labels = {'series' : f'{SERIES}', 'experiment' : f'{EXPERIMENT}'}\n",
    "model = bq.update_model(model, ['labels'])"
   ]
  },
  {
   "cell_type": "markdown",
   "id": "763f82db-fb16-4005-ad08-be49f662866a",
   "metadata": {},
   "source": [
    "Review the iterations from training with [`ML.TRAINING_INFO`](https://cloud.google.com/bigquery-ml/docs/reference/standard-sql/bigqueryml-syntax-train):"
   ]
  },
  {
   "cell_type": "code",
   "execution_count": 15,
   "id": "2026b1c6-9aeb-4f84-b17f-d0c31e48c4c4",
   "metadata": {},
   "outputs": [
    {
     "data": {
      "text/html": [
       "<div>\n",
       "<style scoped>\n",
       "    .dataframe tbody tr th:only-of-type {\n",
       "        vertical-align: middle;\n",
       "    }\n",
       "\n",
       "    .dataframe tbody tr th {\n",
       "        vertical-align: top;\n",
       "    }\n",
       "\n",
       "    .dataframe thead th {\n",
       "        text-align: right;\n",
       "    }\n",
       "</style>\n",
       "<table border=\"1\" class=\"dataframe\">\n",
       "  <thead>\n",
       "    <tr style=\"text-align: right;\">\n",
       "      <th></th>\n",
       "      <th>training_run</th>\n",
       "      <th>iteration</th>\n",
       "      <th>loss</th>\n",
       "      <th>eval_loss</th>\n",
       "      <th>learning_rate</th>\n",
       "      <th>duration_ms</th>\n",
       "    </tr>\n",
       "  </thead>\n",
       "  <tbody>\n",
       "    <tr>\n",
       "      <th>0</th>\n",
       "      <td>0</td>\n",
       "      <td>1</td>\n",
       "      <td>0.460371</td>\n",
       "      <td>0.487593</td>\n",
       "      <td>0.3</td>\n",
       "      <td>102504</td>\n",
       "    </tr>\n",
       "    <tr>\n",
       "      <th>1</th>\n",
       "      <td>0</td>\n",
       "      <td>2</td>\n",
       "      <td>0.325808</td>\n",
       "      <td>0.384883</td>\n",
       "      <td>0.3</td>\n",
       "      <td>60</td>\n",
       "    </tr>\n",
       "    <tr>\n",
       "      <th>2</th>\n",
       "      <td>0</td>\n",
       "      <td>3</td>\n",
       "      <td>0.239488</td>\n",
       "      <td>0.322136</td>\n",
       "      <td>0.3</td>\n",
       "      <td>69</td>\n",
       "    </tr>\n",
       "    <tr>\n",
       "      <th>3</th>\n",
       "      <td>0</td>\n",
       "      <td>4</td>\n",
       "      <td>0.178605</td>\n",
       "      <td>0.286369</td>\n",
       "      <td>0.3</td>\n",
       "      <td>63</td>\n",
       "    </tr>\n",
       "    <tr>\n",
       "      <th>4</th>\n",
       "      <td>0</td>\n",
       "      <td>5</td>\n",
       "      <td>0.135646</td>\n",
       "      <td>0.264070</td>\n",
       "      <td>0.3</td>\n",
       "      <td>62</td>\n",
       "    </tr>\n",
       "    <tr>\n",
       "      <th>5</th>\n",
       "      <td>0</td>\n",
       "      <td>6</td>\n",
       "      <td>0.104948</td>\n",
       "      <td>0.242806</td>\n",
       "      <td>0.3</td>\n",
       "      <td>61</td>\n",
       "    </tr>\n",
       "    <tr>\n",
       "      <th>6</th>\n",
       "      <td>0</td>\n",
       "      <td>7</td>\n",
       "      <td>0.081695</td>\n",
       "      <td>0.228636</td>\n",
       "      <td>0.3</td>\n",
       "      <td>77</td>\n",
       "    </tr>\n",
       "    <tr>\n",
       "      <th>7</th>\n",
       "      <td>0</td>\n",
       "      <td>8</td>\n",
       "      <td>0.063784</td>\n",
       "      <td>0.239402</td>\n",
       "      <td>0.3</td>\n",
       "      <td>77</td>\n",
       "    </tr>\n",
       "  </tbody>\n",
       "</table>\n",
       "</div>"
      ],
      "text/plain": [
       "   training_run  iteration      loss  eval_loss  learning_rate  duration_ms\n",
       "0             0          1  0.460371   0.487593            0.3       102504\n",
       "1             0          2  0.325808   0.384883            0.3           60\n",
       "2             0          3  0.239488   0.322136            0.3           69\n",
       "3             0          4  0.178605   0.286369            0.3           63\n",
       "4             0          5  0.135646   0.264070            0.3           62\n",
       "5             0          6  0.104948   0.242806            0.3           61\n",
       "6             0          7  0.081695   0.228636            0.3           77\n",
       "7             0          8  0.063784   0.239402            0.3           77"
      ]
     },
     "execution_count": 15,
     "metadata": {},
     "output_type": "execute_result"
    }
   ],
   "source": [
    "history = bq.query(\n",
    "    query = f\"\"\"\n",
    "        SELECT *\n",
    "        FROM ML.TRAINING_INFO(MODEL `{BQ_PROJECT}.{BQ_DATASET}.{BQ_MODEL}`)\n",
    "        ORDER BY iteration\"\"\"\n",
    ").to_dataframe()\n",
    "history"
   ]
  },
  {
   "cell_type": "markdown",
   "id": "d3c687d7-e66d-42e0-909b-7247ba3c1609",
   "metadata": {},
   "source": [
    "Plot the loss history:"
   ]
  },
  {
   "cell_type": "code",
   "execution_count": 16,
   "id": "cc24c0e7-c2c6-441f-a6c4-944f5a1d79d9",
   "metadata": {},
   "outputs": [
    {
     "data": {
      "text/plain": [
       "<AxesSubplot:xlabel='iteration'>"
      ]
     },
     "execution_count": 16,
     "metadata": {},
     "output_type": "execute_result"
    },
    {
     "data": {
      "image/png": "[encoded data removed]",
      "text/plain": [
       "<Figure size 720x360 with 1 Axes>"
      ]
     },
     "metadata": {
      "needs_background": "light"
     },
     "output_type": "display_data"
    }
   ],
   "source": [
    "history.plot(x = 'iteration', y = ['loss','eval_loss'], figsize = (10, 5), grid = True)"
   ]
  },
  {
   "cell_type": "markdown",
   "id": "6c7e2ba5-44c7-4f8c-a2f4-7e838a500d7e",
   "metadata": {},
   "source": [
    "### Check out this model in BigQuery Console:\n",
    "- Make sure project selected is the one from this notebook\n",
    "- Under Explore, expand this project and dataset\n",
    "- Expand Models and select the model create here"
   ]
  },
  {
   "cell_type": "code",
   "execution_count": 17,
   "id": "1ab73b51-c95f-4235-b935-185a8ad2ccd0",
   "metadata": {},
   "outputs": [
    {
     "name": "stdout",
     "output_type": "stream",
     "text": [
      "BigQuery Console for Project:\n",
      "https://console.cloud.google.com/bigquery?project=statmike-mlops-349915\n"
     ]
    }
   ],
   "source": [
    "print(f'BigQuery Console for Project:\\nhttps://console.cloud.google.com/bigquery?project={PROJECT_ID}')"
   ]
  },
  {
   "cell_type": "code",
   "execution_count": 18,
   "id": "fa2db8e8-b9b5-4883-ab4e-8f93735103b1",
   "metadata": {},
   "outputs": [
    {
     "name": "stdout",
     "output_type": "stream",
     "text": [
      "Direct link to the model in BigQuery:\n",
      "https://console.cloud.google.com/bigquery?project=statmike-mlops-349915&ws=!1m5!1m4!5m3!1sstatmike-mlops-349915!2sfraud!3s03b_fraud_20220909115401\n"
     ]
    }
   ],
   "source": [
    "print(f'Direct link to the model in BigQuery:\\nhttps://console.cloud.google.com/bigquery?project={PROJECT_ID}&ws=!1m5!1m4!5m3!1s{PROJECT_ID}!2s{BQ_DATASET}!3s{BQ_MODEL}')"
   ]
  },
  {
   "cell_type": "markdown",
   "id": "762c7a57-8f7e-4c10-88b6-d5cc7ddf8baf",
   "metadata": {},
   "source": [
    "---\n",
    "## Evaluate Model"
   ]
  },
  {
   "cell_type": "markdown",
   "id": "65612cae-8d72-48a3-993b-210d0cde8c1e",
   "metadata": {},
   "source": [
    "### Metrics"
   ]
  },
  {
   "cell_type": "markdown",
   "id": "ea2e82ab-ecdd-49fd-b1c8-3196c478c8eb",
   "metadata": {},
   "source": [
    "Review the model evaluation statistics on the splits with [`ML.EVALUATE`](https://cloud.google.com/bigquery-ml/docs/reference/standard-sql/bigqueryml-syntax-evaluate):"
   ]
  },
  {
   "cell_type": "code",
   "execution_count": 19,
   "id": "060aa2ef-4178-42c8-8307-3f5ab580188b",
   "metadata": {},
   "outputs": [
    {
     "data": {
      "text/html": [
       "<div>\n",
       "<style scoped>\n",
       "    .dataframe tbody tr th:only-of-type {\n",
       "        vertical-align: middle;\n",
       "    }\n",
       "\n",
       "    .dataframe tbody tr th {\n",
       "        vertical-align: top;\n",
       "    }\n",
       "\n",
       "    .dataframe thead th {\n",
       "        text-align: right;\n",
       "    }\n",
       "</style>\n",
       "<table border=\"1\" class=\"dataframe\">\n",
       "  <thead>\n",
       "    <tr style=\"text-align: right;\">\n",
       "      <th></th>\n",
       "      <th>SPLIT</th>\n",
       "      <th>precision</th>\n",
       "      <th>recall</th>\n",
       "      <th>accuracy</th>\n",
       "      <th>f1_score</th>\n",
       "      <th>log_loss</th>\n",
       "      <th>roc_auc</th>\n",
       "    </tr>\n",
       "  </thead>\n",
       "  <tbody>\n",
       "    <tr>\n",
       "      <th>0</th>\n",
       "      <td>TRAIN</td>\n",
       "      <td>0.373585</td>\n",
       "      <td>0.997481</td>\n",
       "      <td>0.997084</td>\n",
       "      <td>0.543583</td>\n",
       "      <td>0.059512</td>\n",
       "      <td>0.999984</td>\n",
       "    </tr>\n",
       "    <tr>\n",
       "      <th>1</th>\n",
       "      <td>TEST</td>\n",
       "      <td>0.325581</td>\n",
       "      <td>0.893617</td>\n",
       "      <td>0.996772</td>\n",
       "      <td>0.477273</td>\n",
       "      <td>0.059773</td>\n",
       "      <td>0.943168</td>\n",
       "    </tr>\n",
       "    <tr>\n",
       "      <th>2</th>\n",
       "      <td>VALIDATE</td>\n",
       "      <td>0.307087</td>\n",
       "      <td>0.812500</td>\n",
       "      <td>0.996566</td>\n",
       "      <td>0.445714</td>\n",
       "      <td>0.060314</td>\n",
       "      <td>0.985603</td>\n",
       "    </tr>\n",
       "  </tbody>\n",
       "</table>\n",
       "</div>"
      ],
      "text/plain": [
       "      SPLIT  precision    recall  accuracy  f1_score  log_loss   roc_auc\n",
       "0     TRAIN   0.373585  0.997481  0.997084  0.543583  0.059512  0.999984\n",
       "1      TEST   0.325581  0.893617  0.996772  0.477273  0.059773  0.943168\n",
       "2  VALIDATE   0.307087  0.812500  0.996566  0.445714  0.060314  0.985603"
      ]
     },
     "execution_count": 19,
     "metadata": {},
     "output_type": "execute_result"
    }
   ],
   "source": [
    "query = f\"\"\"\n",
    "SELECT 'TEST' as SPLIT, * FROM ML.EVALUATE (MODEL `{BQ_PROJECT}.{BQ_DATASET}.{BQ_MODEL}`,\n",
    "    (SELECT * FROM `{BQ_PROJECT}.{BQ_DATASET}.{BQ_TABLE}` WHERE SPLITS='TEST'))\n",
    "UNION ALL\n",
    "SELECT 'VALIDATE' as SPLIT, * FROM ML.EVALUATE (MODEL `{BQ_PROJECT}.{BQ_DATASET}.{BQ_MODEL}`,\n",
    "    (SELECT * FROM `{BQ_PROJECT}.{BQ_DATASET}.{BQ_TABLE}` WHERE SPLITS='VALIDATE'))\n",
    "UNION ALL\n",
    "SELECT 'TRAIN' as SPLIT, * FROM ML.EVALUATE (MODEL `{BQ_PROJECT}.{BQ_DATASET}.{BQ_MODEL}`,\n",
    "    (SELECT * FROM `{BQ_PROJECT}.{BQ_DATASET}.{BQ_TABLE}` WHERE SPLITS='TRAIN'))\n",
    "\"\"\"\n",
    "bq.query(query = query).to_dataframe()"
   ]
  },
  {
   "cell_type": "markdown",
   "id": "44291b30-f79f-4c47-a36b-bcba54b7e8cd",
   "metadata": {},
   "source": [
    "### Confusion Matrix"
   ]
  },
  {
   "cell_type": "markdown",
   "id": "07ea8d61-ca9b-468b-a693-ce3ca554ae7a",
   "metadata": {},
   "source": [
    "Review the confusion matrix for each split with [`ML.CONFUSION_MATRIX`](https://cloud.google.com/bigquery-ml/docs/reference/standard-sql/bigqueryml-syntax-confusion):"
   ]
  },
  {
   "cell_type": "code",
   "execution_count": 20,
   "id": "aee2b18f-fde5-45c2-9a32-07b2201d00d6",
   "metadata": {},
   "outputs": [
    {
     "data": {
      "text/html": [
       "<div>\n",
       "<style scoped>\n",
       "    .dataframe tbody tr th:only-of-type {\n",
       "        vertical-align: middle;\n",
       "    }\n",
       "\n",
       "    .dataframe tbody tr th {\n",
       "        vertical-align: top;\n",
       "    }\n",
       "\n",
       "    .dataframe thead th {\n",
       "        text-align: right;\n",
       "    }\n",
       "</style>\n",
       "<table border=\"1\" class=\"dataframe\">\n",
       "  <thead>\n",
       "    <tr style=\"text-align: right;\">\n",
       "      <th></th>\n",
       "      <th>expected_label</th>\n",
       "      <th>_0</th>\n",
       "      <th>_1</th>\n",
       "    </tr>\n",
       "  </thead>\n",
       "  <tbody>\n",
       "    <tr>\n",
       "      <th>0</th>\n",
       "      <td>0</td>\n",
       "      <td>227000</td>\n",
       "      <td>664</td>\n",
       "    </tr>\n",
       "    <tr>\n",
       "      <th>1</th>\n",
       "      <td>1</td>\n",
       "      <td>1</td>\n",
       "      <td>396</td>\n",
       "    </tr>\n",
       "  </tbody>\n",
       "</table>\n",
       "</div>"
      ],
      "text/plain": [
       "   expected_label      _0   _1\n",
       "0               0  227000  664\n",
       "1               1       1  396"
      ]
     },
     "execution_count": 20,
     "metadata": {},
     "output_type": "execute_result"
    }
   ],
   "source": [
    "query = f\"\"\"\n",
    "SELECT *\n",
    "FROM ML.CONFUSION_MATRIX (MODEL `{BQ_PROJECT}.{BQ_DATASET}.{BQ_MODEL}`,(\n",
    "    SELECT *\n",
    "    FROM `{BQ_PROJECT}.{BQ_DATASET}.{BQ_TABLE}`\n",
    "    WHERE splits = 'TRAIN')\n",
    "  )\n",
    "\"\"\"\n",
    "bq.query(query = query).to_dataframe()"
   ]
  },
  {
   "cell_type": "code",
   "execution_count": 21,
   "id": "b656cf03-3cef-40ae-be66-c82e2837ea23",
   "metadata": {},
   "outputs": [
    {
     "data": {
      "text/html": [
       "<div>\n",
       "<style scoped>\n",
       "    .dataframe tbody tr th:only-of-type {\n",
       "        vertical-align: middle;\n",
       "    }\n",
       "\n",
       "    .dataframe tbody tr th {\n",
       "        vertical-align: top;\n",
       "    }\n",
       "\n",
       "    .dataframe thead th {\n",
       "        text-align: right;\n",
       "    }\n",
       "</style>\n",
       "<table border=\"1\" class=\"dataframe\">\n",
       "  <thead>\n",
       "    <tr style=\"text-align: right;\">\n",
       "      <th></th>\n",
       "      <th>expected_label</th>\n",
       "      <th>_0</th>\n",
       "      <th>_1</th>\n",
       "    </tr>\n",
       "  </thead>\n",
       "  <tbody>\n",
       "    <tr>\n",
       "      <th>0</th>\n",
       "      <td>0</td>\n",
       "      <td>28108</td>\n",
       "      <td>88</td>\n",
       "    </tr>\n",
       "    <tr>\n",
       "      <th>1</th>\n",
       "      <td>1</td>\n",
       "      <td>9</td>\n",
       "      <td>39</td>\n",
       "    </tr>\n",
       "  </tbody>\n",
       "</table>\n",
       "</div>"
      ],
      "text/plain": [
       "   expected_label     _0  _1\n",
       "0               0  28108  88\n",
       "1               1      9  39"
      ]
     },
     "execution_count": 21,
     "metadata": {},
     "output_type": "execute_result"
    }
   ],
   "source": [
    "query = f\"\"\"\n",
    "SELECT *\n",
    "FROM ML.CONFUSION_MATRIX (MODEL `{BQ_PROJECT}.{BQ_DATASET}.{BQ_MODEL}`,(\n",
    "    SELECT *\n",
    "    FROM `{BQ_PROJECT}.{BQ_DATASET}.{BQ_TABLE}`\n",
    "    WHERE splits = 'VALIDATE')\n",
    "  )\n",
    "\"\"\"\n",
    "bq.query(query = query).to_dataframe()"
   ]
  },
  {
   "cell_type": "code",
   "execution_count": 22,
   "id": "d1342021-4d49-427f-b5aa-1a5e8c7dd843",
   "metadata": {},
   "outputs": [
    {
     "data": {
      "text/html": [
       "<div>\n",
       "<style scoped>\n",
       "    .dataframe tbody tr th:only-of-type {\n",
       "        vertical-align: middle;\n",
       "    }\n",
       "\n",
       "    .dataframe tbody tr th {\n",
       "        vertical-align: top;\n",
       "    }\n",
       "\n",
       "    .dataframe thead th {\n",
       "        text-align: right;\n",
       "    }\n",
       "</style>\n",
       "<table border=\"1\" class=\"dataframe\">\n",
       "  <thead>\n",
       "    <tr style=\"text-align: right;\">\n",
       "      <th></th>\n",
       "      <th>expected_label</th>\n",
       "      <th>_0</th>\n",
       "      <th>_1</th>\n",
       "    </tr>\n",
       "  </thead>\n",
       "  <tbody>\n",
       "    <tr>\n",
       "      <th>0</th>\n",
       "      <td>0</td>\n",
       "      <td>28368</td>\n",
       "      <td>87</td>\n",
       "    </tr>\n",
       "    <tr>\n",
       "      <th>1</th>\n",
       "      <td>1</td>\n",
       "      <td>5</td>\n",
       "      <td>42</td>\n",
       "    </tr>\n",
       "  </tbody>\n",
       "</table>\n",
       "</div>"
      ],
      "text/plain": [
       "   expected_label     _0  _1\n",
       "0               0  28368  87\n",
       "1               1      5  42"
      ]
     },
     "execution_count": 22,
     "metadata": {},
     "output_type": "execute_result"
    }
   ],
   "source": [
    "query = f\"\"\"\n",
    "SELECT *\n",
    "FROM ML.CONFUSION_MATRIX (MODEL `{BQ_PROJECT}.{BQ_DATASET}.{BQ_MODEL}`,(\n",
    "    SELECT *\n",
    "    FROM `{BQ_PROJECT}.{BQ_DATASET}.{BQ_TABLE}`\n",
    "    WHERE splits = 'TEST')\n",
    "  )\n",
    "\"\"\"\n",
    "bq.query(query = query).to_dataframe()"
   ]
  },
  {
   "cell_type": "markdown",
   "id": "64911ee9-6201-4b64-8e17-a56460d3d2ed",
   "metadata": {},
   "source": [
    "### ROC Curve\n",
    "\n",
    "Retrieve the ROC Curve for each split using [`ML.ROC_CURVE`](https://cloud.google.com/bigquery-ml/docs/reference/standard-sql/bigqueryml-syntax-roc):"
   ]
  },
  {
   "cell_type": "code",
   "execution_count": 23,
   "id": "69f2d6c8-4b13-4fe7-82ae-1a65835f9ddc",
   "metadata": {},
   "outputs": [
    {
     "data": {
      "text/html": [
       "<div>\n",
       "<style scoped>\n",
       "    .dataframe tbody tr th:only-of-type {\n",
       "        vertical-align: middle;\n",
       "    }\n",
       "\n",
       "    .dataframe tbody tr th {\n",
       "        vertical-align: top;\n",
       "    }\n",
       "\n",
       "    .dataframe thead th {\n",
       "        text-align: right;\n",
       "    }\n",
       "</style>\n",
       "<table border=\"1\" class=\"dataframe\">\n",
       "  <thead>\n",
       "    <tr style=\"text-align: right;\">\n",
       "      <th></th>\n",
       "      <th>threshold</th>\n",
       "      <th>recall</th>\n",
       "      <th>false_positive_rate</th>\n",
       "      <th>true_positives</th>\n",
       "      <th>false_positives</th>\n",
       "      <th>true_negatives</th>\n",
       "      <th>false_negatives</th>\n",
       "    </tr>\n",
       "  </thead>\n",
       "  <tbody>\n",
       "    <tr>\n",
       "      <th>0</th>\n",
       "      <td>0.959626</td>\n",
       "      <td>0.012594</td>\n",
       "      <td>0.000000</td>\n",
       "      <td>5</td>\n",
       "      <td>0</td>\n",
       "      <td>227664</td>\n",
       "      <td>392</td>\n",
       "    </tr>\n",
       "    <tr>\n",
       "      <th>1</th>\n",
       "      <td>0.304281</td>\n",
       "      <td>1.000000</td>\n",
       "      <td>0.008267</td>\n",
       "      <td>397</td>\n",
       "      <td>1882</td>\n",
       "      <td>225782</td>\n",
       "      <td>0</td>\n",
       "    </tr>\n",
       "    <tr>\n",
       "      <th>2</th>\n",
       "      <td>0.192452</td>\n",
       "      <td>1.000000</td>\n",
       "      <td>0.018347</td>\n",
       "      <td>397</td>\n",
       "      <td>4177</td>\n",
       "      <td>223487</td>\n",
       "      <td>0</td>\n",
       "    </tr>\n",
       "    <tr>\n",
       "      <th>3</th>\n",
       "      <td>0.151461</td>\n",
       "      <td>1.000000</td>\n",
       "      <td>0.028098</td>\n",
       "      <td>397</td>\n",
       "      <td>6397</td>\n",
       "      <td>221267</td>\n",
       "      <td>0</td>\n",
       "    </tr>\n",
       "    <tr>\n",
       "      <th>4</th>\n",
       "      <td>0.128065</td>\n",
       "      <td>1.000000</td>\n",
       "      <td>0.038333</td>\n",
       "      <td>397</td>\n",
       "      <td>8727</td>\n",
       "      <td>218937</td>\n",
       "      <td>0</td>\n",
       "    </tr>\n",
       "  </tbody>\n",
       "</table>\n",
       "</div>"
      ],
      "text/plain": [
       "   threshold    recall  false_positive_rate  true_positives  false_positives  \\\n",
       "0   0.959626  0.012594             0.000000               5                0   \n",
       "1   0.304281  1.000000             0.008267             397             1882   \n",
       "2   0.192452  1.000000             0.018347             397             4177   \n",
       "3   0.151461  1.000000             0.028098             397             6397   \n",
       "4   0.128065  1.000000             0.038333             397             8727   \n",
       "\n",
       "   true_negatives  false_negatives  \n",
       "0          227664              392  \n",
       "1          225782                0  \n",
       "2          223487                0  \n",
       "3          221267                0  \n",
       "4          218937                0  "
      ]
     },
     "execution_count": 23,
     "metadata": {},
     "output_type": "execute_result"
    }
   ],
   "source": [
    "query = f\"\"\"\n",
    "SELECT *\n",
    "FROM ML.ROC_CURVE (MODEL `{BQ_PROJECT}.{BQ_DATASET}.{BQ_MODEL}`,(\n",
    "    SELECT *\n",
    "    FROM `{BQ_PROJECT}.{BQ_DATASET}.{BQ_TABLE}`\n",
    "    WHERE splits = 'TRAIN')\n",
    "  )\n",
    "\"\"\"\n",
    "train_roc = bq.query(query = query).to_dataframe()\n",
    "train_roc.head()"
   ]
  },
  {
   "cell_type": "code",
   "execution_count": 24,
   "id": "ee815577-6df7-4054-a002-c3643e4b34fc",
   "metadata": {},
   "outputs": [
    {
     "data": {
      "text/html": [
       "<div>\n",
       "<style scoped>\n",
       "    .dataframe tbody tr th:only-of-type {\n",
       "        vertical-align: middle;\n",
       "    }\n",
       "\n",
       "    .dataframe tbody tr th {\n",
       "        vertical-align: top;\n",
       "    }\n",
       "\n",
       "    .dataframe thead th {\n",
       "        text-align: right;\n",
       "    }\n",
       "</style>\n",
       "<table border=\"1\" class=\"dataframe\">\n",
       "  <thead>\n",
       "    <tr style=\"text-align: right;\">\n",
       "      <th></th>\n",
       "      <th>threshold</th>\n",
       "      <th>recall</th>\n",
       "      <th>false_positive_rate</th>\n",
       "      <th>true_positives</th>\n",
       "      <th>false_positives</th>\n",
       "      <th>true_negatives</th>\n",
       "      <th>false_negatives</th>\n",
       "    </tr>\n",
       "  </thead>\n",
       "  <tbody>\n",
       "    <tr>\n",
       "      <th>0</th>\n",
       "      <td>0.959086</td>\n",
       "      <td>0.687500</td>\n",
       "      <td>0.000177</td>\n",
       "      <td>33</td>\n",
       "      <td>5</td>\n",
       "      <td>28191</td>\n",
       "      <td>15</td>\n",
       "    </tr>\n",
       "    <tr>\n",
       "      <th>1</th>\n",
       "      <td>0.298823</td>\n",
       "      <td>0.854167</td>\n",
       "      <td>0.008725</td>\n",
       "      <td>41</td>\n",
       "      <td>246</td>\n",
       "      <td>27950</td>\n",
       "      <td>7</td>\n",
       "    </tr>\n",
       "    <tr>\n",
       "      <th>2</th>\n",
       "      <td>0.194687</td>\n",
       "      <td>0.875000</td>\n",
       "      <td>0.018513</td>\n",
       "      <td>42</td>\n",
       "      <td>522</td>\n",
       "      <td>27674</td>\n",
       "      <td>6</td>\n",
       "    </tr>\n",
       "    <tr>\n",
       "      <th>3</th>\n",
       "      <td>0.152950</td>\n",
       "      <td>0.895833</td>\n",
       "      <td>0.028444</td>\n",
       "      <td>43</td>\n",
       "      <td>802</td>\n",
       "      <td>27394</td>\n",
       "      <td>5</td>\n",
       "    </tr>\n",
       "    <tr>\n",
       "      <th>4</th>\n",
       "      <td>0.129726</td>\n",
       "      <td>0.895833</td>\n",
       "      <td>0.038658</td>\n",
       "      <td>43</td>\n",
       "      <td>1090</td>\n",
       "      <td>27106</td>\n",
       "      <td>5</td>\n",
       "    </tr>\n",
       "  </tbody>\n",
       "</table>\n",
       "</div>"
      ],
      "text/plain": [
       "   threshold    recall  false_positive_rate  true_positives  false_positives  \\\n",
       "0   0.959086  0.687500             0.000177              33                5   \n",
       "1   0.298823  0.854167             0.008725              41              246   \n",
       "2   0.194687  0.875000             0.018513              42              522   \n",
       "3   0.152950  0.895833             0.028444              43              802   \n",
       "4   0.129726  0.895833             0.038658              43             1090   \n",
       "\n",
       "   true_negatives  false_negatives  \n",
       "0           28191               15  \n",
       "1           27950                7  \n",
       "2           27674                6  \n",
       "3           27394                5  \n",
       "4           27106                5  "
      ]
     },
     "execution_count": 24,
     "metadata": {},
     "output_type": "execute_result"
    }
   ],
   "source": [
    "query = f\"\"\"\n",
    "SELECT *\n",
    "FROM ML.ROC_CURVE (MODEL `{BQ_PROJECT}.{BQ_DATASET}.{BQ_MODEL}`,(\n",
    "    SELECT *\n",
    "    FROM `{BQ_PROJECT}.{BQ_DATASET}.{BQ_TABLE}`\n",
    "    WHERE splits = 'VALIDATE')\n",
    "  )\n",
    "\"\"\"\n",
    "val_roc = bq.query(query = query).to_dataframe()\n",
    "val_roc.head()"
   ]
  },
  {
   "cell_type": "code",
   "execution_count": 25,
   "id": "90204250-5061-4457-8bf9-d5529e0cfd1b",
   "metadata": {},
   "outputs": [
    {
     "data": {
      "text/html": [
       "<div>\n",
       "<style scoped>\n",
       "    .dataframe tbody tr th:only-of-type {\n",
       "        vertical-align: middle;\n",
       "    }\n",
       "\n",
       "    .dataframe tbody tr th {\n",
       "        vertical-align: top;\n",
       "    }\n",
       "\n",
       "    .dataframe thead th {\n",
       "        text-align: right;\n",
       "    }\n",
       "</style>\n",
       "<table border=\"1\" class=\"dataframe\">\n",
       "  <thead>\n",
       "    <tr style=\"text-align: right;\">\n",
       "      <th></th>\n",
       "      <th>threshold</th>\n",
       "      <th>recall</th>\n",
       "      <th>false_positive_rate</th>\n",
       "      <th>true_positives</th>\n",
       "      <th>false_positives</th>\n",
       "      <th>true_negatives</th>\n",
       "      <th>false_negatives</th>\n",
       "    </tr>\n",
       "  </thead>\n",
       "  <tbody>\n",
       "    <tr>\n",
       "      <th>0</th>\n",
       "      <td>0.959086</td>\n",
       "      <td>0.702128</td>\n",
       "      <td>0.000176</td>\n",
       "      <td>33</td>\n",
       "      <td>5</td>\n",
       "      <td>28450</td>\n",
       "      <td>14</td>\n",
       "    </tr>\n",
       "    <tr>\n",
       "      <th>1</th>\n",
       "      <td>0.287890</td>\n",
       "      <td>0.893617</td>\n",
       "      <td>0.008645</td>\n",
       "      <td>42</td>\n",
       "      <td>246</td>\n",
       "      <td>28209</td>\n",
       "      <td>5</td>\n",
       "    </tr>\n",
       "    <tr>\n",
       "      <th>2</th>\n",
       "      <td>0.184318</td>\n",
       "      <td>0.914894</td>\n",
       "      <td>0.018626</td>\n",
       "      <td>43</td>\n",
       "      <td>530</td>\n",
       "      <td>27925</td>\n",
       "      <td>4</td>\n",
       "    </tr>\n",
       "    <tr>\n",
       "      <th>3</th>\n",
       "      <td>0.148696</td>\n",
       "      <td>0.914894</td>\n",
       "      <td>0.028642</td>\n",
       "      <td>43</td>\n",
       "      <td>815</td>\n",
       "      <td>27640</td>\n",
       "      <td>4</td>\n",
       "    </tr>\n",
       "    <tr>\n",
       "      <th>4</th>\n",
       "      <td>0.126239</td>\n",
       "      <td>0.936170</td>\n",
       "      <td>0.038552</td>\n",
       "      <td>44</td>\n",
       "      <td>1097</td>\n",
       "      <td>27358</td>\n",
       "      <td>3</td>\n",
       "    </tr>\n",
       "  </tbody>\n",
       "</table>\n",
       "</div>"
      ],
      "text/plain": [
       "   threshold    recall  false_positive_rate  true_positives  false_positives  \\\n",
       "0   0.959086  0.702128             0.000176              33                5   \n",
       "1   0.287890  0.893617             0.008645              42              246   \n",
       "2   0.184318  0.914894             0.018626              43              530   \n",
       "3   0.148696  0.914894             0.028642              43              815   \n",
       "4   0.126239  0.936170             0.038552              44             1097   \n",
       "\n",
       "   true_negatives  false_negatives  \n",
       "0           28450               14  \n",
       "1           28209                5  \n",
       "2           27925                4  \n",
       "3           27640                4  \n",
       "4           27358                3  "
      ]
     },
     "execution_count": 25,
     "metadata": {},
     "output_type": "execute_result"
    }
   ],
   "source": [
    "query = f\"\"\"\n",
    "SELECT *\n",
    "FROM ML.ROC_CURVE (MODEL `{BQ_PROJECT}.{BQ_DATASET}.{BQ_MODEL}`,(\n",
    "    SELECT *\n",
    "    FROM `{BQ_PROJECT}.{BQ_DATASET}.{BQ_TABLE}`\n",
    "    WHERE splits = 'TEST')\n",
    "  )\n",
    "\"\"\"\n",
    "test_roc = bq.query(query = query).to_dataframe()\n",
    "test_roc.head()"
   ]
  },
  {
   "cell_type": "code",
   "execution_count": 26,
   "id": "4f0d473e-eba3-4a73-85bd-a441f189d6a5",
   "metadata": {},
   "outputs": [
    {
     "data": {
      "image/png": "[encoded data removed]",
      "text/plain": [
       "<Figure size 1080x360 with 1 Axes>"
      ]
     },
     "metadata": {
      "needs_background": "light"
     },
     "output_type": "display_data"
    }
   ],
   "source": [
    "plt.figure(figsize=(15,5))\n",
    "plt.plot(train_roc['false_positive_rate'], train_roc['recall'], label='TRAIN')\n",
    "plt.plot(val_roc['false_positive_rate'], val_roc['recall'], label='VALIDATE')\n",
    "plt.plot(test_roc['false_positive_rate'], test_roc['recall'], label='TEST')\n",
    "plt.xlabel('False Positive Rate')\n",
    "plt.ylabel('True Positive Rate\\nRecall')\n",
    "plt.title('ROC Curves')\n",
    "plt.legend()\n",
    "plt.show()"
   ]
  },
  {
   "cell_type": "markdown",
   "id": "0272c033-30d2-479d-bb30-83b539cf4d1f",
   "metadata": {},
   "source": [
    "---\n",
    "## Predictions"
   ]
  },
  {
   "cell_type": "markdown",
   "id": "86ab3213-fa0b-462e-bdb9-77498e3d718d",
   "metadata": {},
   "source": [
    "Create a pandas dataframe with predictions for the test data in the table:"
   ]
  },
  {
   "cell_type": "code",
   "execution_count": 27,
   "id": "2244cac9-a189-43fc-aa76-a20830e339ff",
   "metadata": {},
   "outputs": [],
   "source": [
    "query = f\"\"\"\n",
    "SELECT *\n",
    "FROM ML.PREDICT (MODEL `{BQ_PROJECT}.{BQ_DATASET}.{BQ_MODEL}`,(\n",
    "    SELECT *\n",
    "    FROM `{BQ_PROJECT}.{BQ_DATASET}.{BQ_TABLE}`\n",
    "    WHERE splits = 'TEST')\n",
    "  )\n",
    "\"\"\"\n",
    "pred = bq.query(query = query).to_dataframe()"
   ]
  },
  {
   "cell_type": "markdown",
   "id": "fe5d7ec0-557d-4c52-857a-d048a6dfa909",
   "metadata": {},
   "source": [
    "Review columns from the predictions - note that the query added columns with prefix `predicted_`"
   ]
  },
  {
   "cell_type": "code",
   "execution_count": 28,
   "id": "3168716a-3f6e-4889-9f89-57e77fe2639a",
   "metadata": {},
   "outputs": [
    {
     "data": {
      "text/plain": [
       "Index(['predicted_Class', 'predicted_Class_probs', 'Time', 'V1', 'V2', 'V3',\n",
       "       'V4', 'V5', 'V6', 'V7', 'V8', 'V9', 'V10', 'V11', 'V12', 'V13', 'V14',\n",
       "       'V15', 'V16', 'V17', 'V18', 'V19', 'V20', 'V21', 'V22', 'V23', 'V24',\n",
       "       'V25', 'V26', 'V27', 'V28', 'Amount', 'Class', 'transaction_id',\n",
       "       'splits'],\n",
       "      dtype='object')"
      ]
     },
     "execution_count": 28,
     "metadata": {},
     "output_type": "execute_result"
    }
   ],
   "source": [
    "pred.columns"
   ]
  },
  {
   "cell_type": "markdown",
   "id": "d0171db9-05c9-42d5-9ff7-076f0e7f2a50",
   "metadata": {},
   "source": [
    "Print the first few rows for the columns related to the actual and predicted values:"
   ]
  },
  {
   "cell_type": "code",
   "execution_count": 29,
   "id": "1e68cdc2-2b1e-4047-9195-de583607aa6f",
   "metadata": {},
   "outputs": [
    {
     "data": {
      "text/html": [
       "<div>\n",
       "<style scoped>\n",
       "    .dataframe tbody tr th:only-of-type {\n",
       "        vertical-align: middle;\n",
       "    }\n",
       "\n",
       "    .dataframe tbody tr th {\n",
       "        vertical-align: top;\n",
       "    }\n",
       "\n",
       "    .dataframe thead th {\n",
       "        text-align: right;\n",
       "    }\n",
       "</style>\n",
       "<table border=\"1\" class=\"dataframe\">\n",
       "  <thead>\n",
       "    <tr style=\"text-align: right;\">\n",
       "      <th></th>\n",
       "      <th>Class</th>\n",
       "      <th>predicted_Class</th>\n",
       "      <th>predicted_Class_probs</th>\n",
       "      <th>splits</th>\n",
       "    </tr>\n",
       "  </thead>\n",
       "  <tbody>\n",
       "    <tr>\n",
       "      <th>0</th>\n",
       "      <td>0</td>\n",
       "      <td>0</td>\n",
       "      <td>[{'label': 1, 'prob': 0.06262340396642685}, {'...</td>\n",
       "      <td>TEST</td>\n",
       "    </tr>\n",
       "    <tr>\n",
       "      <th>1</th>\n",
       "      <td>0</td>\n",
       "      <td>0</td>\n",
       "      <td>[{'label': 1, 'prob': 0.04055237025022507}, {'...</td>\n",
       "      <td>TEST</td>\n",
       "    </tr>\n",
       "    <tr>\n",
       "      <th>2</th>\n",
       "      <td>0</td>\n",
       "      <td>0</td>\n",
       "      <td>[{'label': 1, 'prob': 0.06496338546276093}, {'...</td>\n",
       "      <td>TEST</td>\n",
       "    </tr>\n",
       "    <tr>\n",
       "      <th>3</th>\n",
       "      <td>0</td>\n",
       "      <td>0</td>\n",
       "      <td>[{'label': 1, 'prob': 0.05595624819397926}, {'...</td>\n",
       "      <td>TEST</td>\n",
       "    </tr>\n",
       "    <tr>\n",
       "      <th>4</th>\n",
       "      <td>0</td>\n",
       "      <td>0</td>\n",
       "      <td>[{'label': 1, 'prob': 0.052495550364255905}, {...</td>\n",
       "      <td>TEST</td>\n",
       "    </tr>\n",
       "  </tbody>\n",
       "</table>\n",
       "</div>"
      ],
      "text/plain": [
       "   Class  predicted_Class                              predicted_Class_probs  \\\n",
       "0      0                0  [{'label': 1, 'prob': 0.06262340396642685}, {'...   \n",
       "1      0                0  [{'label': 1, 'prob': 0.04055237025022507}, {'...   \n",
       "2      0                0  [{'label': 1, 'prob': 0.06496338546276093}, {'...   \n",
       "3      0                0  [{'label': 1, 'prob': 0.05595624819397926}, {'...   \n",
       "4      0                0  [{'label': 1, 'prob': 0.052495550364255905}, {...   \n",
       "\n",
       "  splits  \n",
       "0   TEST  \n",
       "1   TEST  \n",
       "2   TEST  \n",
       "3   TEST  \n",
       "4   TEST  "
      ]
     },
     "execution_count": 29,
     "metadata": {},
     "output_type": "execute_result"
    }
   ],
   "source": [
    "pred[[VAR_TARGET, f'predicted_{VAR_TARGET}', f'predicted_{VAR_TARGET}_probs', 'splits']].head()"
   ]
  },
  {
   "cell_type": "markdown",
   "id": "acfe79ca-fe93-40b2-a8fc-c601cc031b94",
   "metadata": {},
   "source": [
    "Notice the nested dictionary for predicted probabilities.  In BigQuery this is a Record type structure with nested fields for `label` and `prop`.  This is returned to the pandas dataframe as a nested dictionary.\n",
    "\n",
    "The following code sorts the dictionary for the first record by `prob`:"
   ]
  },
  {
   "cell_type": "code",
   "execution_count": 30,
   "id": "0af499d0-a306-48d7-b0ac-eafad09a49d6",
   "metadata": {},
   "outputs": [
    {
     "data": {
      "text/plain": [
       "[[{'label': 0, 'prob': 0.9373765587806702},\n",
       "  {'label': 1, 'prob': 0.06262340396642685}]]"
      ]
     },
     "execution_count": 30,
     "metadata": {},
     "output_type": "execute_result"
    }
   ],
   "source": [
    "exec('temp = pred.predicted_'+VAR_TARGET+'_probs[0]')\n",
    "[sorted(x, key = lambda x: x['label']) for x in [temp]]"
   ]
  },
  {
   "cell_type": "markdown",
   "id": "c2cc0fe0-9826-4c7c-8d73-ae091234f604",
   "metadata": {},
   "source": [
    "---\n",
    "## Explanations\n",
    "[Built-in](https://cloud.google.com/bigquery-ml/docs/reference/standard-sql/bigqueryml-syntax-xai-overview) capabilities to understand how features contributed to predictions both individually (local) and overall (global)."
   ]
  },
  {
   "cell_type": "markdown",
   "id": "2cde2a09-24c2-44bd-80f8-fbba08a320ad",
   "metadata": {},
   "source": [
    "### Local Explainability\n",
    "Retrieve feature attribution values to interpret each features contribution to a prediction relative to the baseline prediction using [`ML.EXPLAIN_PREDICT`](https://cloud.google.com/bigquery-ml/docs/reference/standard-sql/bigqueryml-syntax-explain-predict)."
   ]
  },
  {
   "cell_type": "code",
   "execution_count": 31,
   "id": "ea08dce7-a67f-478c-96f9-5d1e6091ef70",
   "metadata": {},
   "outputs": [],
   "source": [
    "query = f\"\"\"\n",
    "SELECT *\n",
    "FROM ML.EXPLAIN_PREDICT (MODEL `{BQ_PROJECT}.{BQ_DATASET}.{BQ_MODEL}`,(\n",
    "    SELECT *\n",
    "    FROM `{BQ_PROJECT}.{BQ_DATASET}.{BQ_TABLE}`\n",
    "    WHERE splits = 'TEST'), STRUCT(10 as top_k_features)\n",
    "  )\n",
    "\"\"\"\n",
    "explain = bq.query(query = query).to_dataframe()"
   ]
  },
  {
   "cell_type": "code",
   "execution_count": 32,
   "id": "6511d3c0-100b-4950-b205-79f7162694cc",
   "metadata": {},
   "outputs": [
    {
     "data": {
      "text/html": [
       "<div>\n",
       "<style scoped>\n",
       "    .dataframe tbody tr th:only-of-type {\n",
       "        vertical-align: middle;\n",
       "    }\n",
       "\n",
       "    .dataframe tbody tr th {\n",
       "        vertical-align: top;\n",
       "    }\n",
       "\n",
       "    .dataframe thead th {\n",
       "        text-align: right;\n",
       "    }\n",
       "</style>\n",
       "<table border=\"1\" class=\"dataframe\">\n",
       "  <thead>\n",
       "    <tr style=\"text-align: right;\">\n",
       "      <th></th>\n",
       "      <th>predicted_Class</th>\n",
       "      <th>probability</th>\n",
       "      <th>top_feature_attributions</th>\n",
       "      <th>baseline_prediction_value</th>\n",
       "      <th>prediction_value</th>\n",
       "      <th>approximation_error</th>\n",
       "      <th>Time</th>\n",
       "      <th>V1</th>\n",
       "      <th>V2</th>\n",
       "      <th>V3</th>\n",
       "      <th>...</th>\n",
       "      <th>V23</th>\n",
       "      <th>V24</th>\n",
       "      <th>V25</th>\n",
       "      <th>V26</th>\n",
       "      <th>V27</th>\n",
       "      <th>V28</th>\n",
       "      <th>Amount</th>\n",
       "      <th>Class</th>\n",
       "      <th>transaction_id</th>\n",
       "      <th>splits</th>\n",
       "    </tr>\n",
       "  </thead>\n",
       "  <tbody>\n",
       "    <tr>\n",
       "      <th>0</th>\n",
       "      <td>0</td>\n",
       "      <td>0.937377</td>\n",
       "      <td>[{'feature': 'V14', 'attribution': 0.460075676...</td>\n",
       "      <td>0.460722</td>\n",
       "      <td>1.843990</td>\n",
       "      <td>0.0</td>\n",
       "      <td>35337</td>\n",
       "      <td>1.092844</td>\n",
       "      <td>-0.013230</td>\n",
       "      <td>1.359829</td>\n",
       "      <td>...</td>\n",
       "      <td>-0.167647</td>\n",
       "      <td>0.027557</td>\n",
       "      <td>0.592115</td>\n",
       "      <td>0.219695</td>\n",
       "      <td>0.036970</td>\n",
       "      <td>0.010984</td>\n",
       "      <td>0.0</td>\n",
       "      <td>0</td>\n",
       "      <td>a1b10547-d270-48c0-b902-7a0f735dadc7</td>\n",
       "      <td>TEST</td>\n",
       "    </tr>\n",
       "    <tr>\n",
       "      <th>1</th>\n",
       "      <td>0</td>\n",
       "      <td>0.959448</td>\n",
       "      <td>[{'feature': 'V14', 'attribution': 0.667598545...</td>\n",
       "      <td>0.460722</td>\n",
       "      <td>2.082929</td>\n",
       "      <td>0.0</td>\n",
       "      <td>60481</td>\n",
       "      <td>1.238973</td>\n",
       "      <td>0.035226</td>\n",
       "      <td>0.063003</td>\n",
       "      <td>...</td>\n",
       "      <td>-0.057718</td>\n",
       "      <td>0.104983</td>\n",
       "      <td>0.537987</td>\n",
       "      <td>0.589563</td>\n",
       "      <td>-0.046207</td>\n",
       "      <td>-0.006212</td>\n",
       "      <td>0.0</td>\n",
       "      <td>0</td>\n",
       "      <td>814c62c8-ade4-47d5-bf83-313b0aafdee5</td>\n",
       "      <td>TEST</td>\n",
       "    </tr>\n",
       "    <tr>\n",
       "      <th>2</th>\n",
       "      <td>0</td>\n",
       "      <td>0.935037</td>\n",
       "      <td>[{'feature': 'V4', 'attribution': -0.475051462...</td>\n",
       "      <td>0.460722</td>\n",
       "      <td>1.905740</td>\n",
       "      <td>0.0</td>\n",
       "      <td>139587</td>\n",
       "      <td>1.870539</td>\n",
       "      <td>0.211079</td>\n",
       "      <td>0.224457</td>\n",
       "      <td>...</td>\n",
       "      <td>0.180776</td>\n",
       "      <td>-0.060226</td>\n",
       "      <td>-0.228979</td>\n",
       "      <td>0.080827</td>\n",
       "      <td>0.009868</td>\n",
       "      <td>-0.036997</td>\n",
       "      <td>0.0</td>\n",
       "      <td>0</td>\n",
       "      <td>d08a1bfa-85c5-4f1b-9537-1c5a93e6afd0</td>\n",
       "      <td>TEST</td>\n",
       "    </tr>\n",
       "    <tr>\n",
       "      <th>3</th>\n",
       "      <td>0</td>\n",
       "      <td>0.944044</td>\n",
       "      <td>[{'feature': 'V14', 'attribution': 0.455073177...</td>\n",
       "      <td>0.460722</td>\n",
       "      <td>2.082929</td>\n",
       "      <td>0.0</td>\n",
       "      <td>162908</td>\n",
       "      <td>-3.368339</td>\n",
       "      <td>-1.980442</td>\n",
       "      <td>0.153645</td>\n",
       "      <td>...</td>\n",
       "      <td>-1.171627</td>\n",
       "      <td>0.214333</td>\n",
       "      <td>-0.159652</td>\n",
       "      <td>-0.060883</td>\n",
       "      <td>1.294977</td>\n",
       "      <td>0.120503</td>\n",
       "      <td>0.0</td>\n",
       "      <td>0</td>\n",
       "      <td>802f3307-8e5a-4475-b795-5d5d8d7d0120</td>\n",
       "      <td>TEST</td>\n",
       "    </tr>\n",
       "    <tr>\n",
       "      <th>4</th>\n",
       "      <td>0</td>\n",
       "      <td>0.947504</td>\n",
       "      <td>[{'feature': 'V14', 'attribution': 0.459714353...</td>\n",
       "      <td>0.460722</td>\n",
       "      <td>1.812268</td>\n",
       "      <td>0.0</td>\n",
       "      <td>165236</td>\n",
       "      <td>2.180149</td>\n",
       "      <td>0.218732</td>\n",
       "      <td>-2.637726</td>\n",
       "      <td>...</td>\n",
       "      <td>-0.176957</td>\n",
       "      <td>0.563779</td>\n",
       "      <td>0.730183</td>\n",
       "      <td>0.707494</td>\n",
       "      <td>-0.131066</td>\n",
       "      <td>-0.090428</td>\n",
       "      <td>0.0</td>\n",
       "      <td>0</td>\n",
       "      <td>c8a5b93a-1598-4689-80be-4f9f5df0b8ce</td>\n",
       "      <td>TEST</td>\n",
       "    </tr>\n",
       "  </tbody>\n",
       "</table>\n",
       "<p>5 rows × 39 columns</p>\n",
       "</div>"
      ],
      "text/plain": [
       "   predicted_Class  probability  \\\n",
       "0                0     0.937377   \n",
       "1                0     0.959448   \n",
       "2                0     0.935037   \n",
       "3                0     0.944044   \n",
       "4                0     0.947504   \n",
       "\n",
       "                            top_feature_attributions  \\\n",
       "0  [{'feature': 'V14', 'attribution': 0.460075676...   \n",
       "1  [{'feature': 'V14', 'attribution': 0.667598545...   \n",
       "2  [{'feature': 'V4', 'attribution': -0.475051462...   \n",
       "3  [{'feature': 'V14', 'attribution': 0.455073177...   \n",
       "4  [{'feature': 'V14', 'attribution': 0.459714353...   \n",
       "\n",
       "   baseline_prediction_value  prediction_value  approximation_error    Time  \\\n",
       "0                   0.460722          1.843990                  0.0   35337   \n",
       "1                   0.460722          2.082929                  0.0   60481   \n",
       "2                   0.460722          1.905740                  0.0  139587   \n",
       "3                   0.460722          2.082929                  0.0  162908   \n",
       "4                   0.460722          1.812268                  0.0  165236   \n",
       "\n",
       "         V1        V2        V3  ...       V23       V24       V25       V26  \\\n",
       "0  1.092844 -0.013230  1.359829  ... -0.167647  0.027557  0.592115  0.219695   \n",
       "1  1.238973  0.035226  0.063003  ... -0.057718  0.104983  0.537987  0.589563   \n",
       "2  1.870539  0.211079  0.224457  ...  0.180776 -0.060226 -0.228979  0.080827   \n",
       "3 -3.368339 -1.980442  0.153645  ... -1.171627  0.214333 -0.159652 -0.060883   \n",
       "4  2.180149  0.218732 -2.637726  ... -0.176957  0.563779  0.730183  0.707494   \n",
       "\n",
       "        V27       V28  Amount  Class                        transaction_id  \\\n",
       "0  0.036970  0.010984     0.0      0  a1b10547-d270-48c0-b902-7a0f735dadc7   \n",
       "1 -0.046207 -0.006212     0.0      0  814c62c8-ade4-47d5-bf83-313b0aafdee5   \n",
       "2  0.009868 -0.036997     0.0      0  d08a1bfa-85c5-4f1b-9537-1c5a93e6afd0   \n",
       "3  1.294977  0.120503     0.0      0  802f3307-8e5a-4475-b795-5d5d8d7d0120   \n",
       "4 -0.131066 -0.090428     0.0      0  c8a5b93a-1598-4689-80be-4f9f5df0b8ce   \n",
       "\n",
       "   splits  \n",
       "0    TEST  \n",
       "1    TEST  \n",
       "2    TEST  \n",
       "3    TEST  \n",
       "4    TEST  \n",
       "\n",
       "[5 rows x 39 columns]"
      ]
     },
     "execution_count": 32,
     "metadata": {},
     "output_type": "execute_result"
    }
   ],
   "source": [
    "explain.head()"
   ]
  },
  {
   "cell_type": "markdown",
   "id": "17ff9487-1853-483d-a59a-71dc9914adfc",
   "metadata": {},
   "source": [
    "Create a plot of feature attributions for a single prediction:"
   ]
  },
  {
   "cell_type": "code",
   "execution_count": 33,
   "id": "238163a9-d01a-4ded-aa05-10a3e76a3c79",
   "metadata": {},
   "outputs": [],
   "source": [
    "explanation = explain.iloc[0]['top_feature_attributions']"
   ]
  },
  {
   "cell_type": "code",
   "execution_count": 34,
   "id": "43efad42-f045-408b-b6cc-16a1936856ab",
   "metadata": {},
   "outputs": [
    {
     "data": {
      "image/png": "[encoded data removed]",
      "text/plain": [
       "<Figure size 1080x360 with 1 Axes>"
      ]
     },
     "metadata": {
      "needs_background": "light"
     },
     "output_type": "display_data"
    }
   ],
   "source": [
    "features = []\n",
    "scores = []\n",
    "for k in explanation:\n",
    "    features.append(k['feature'])\n",
    "    scores.append(k['attribution'])\n",
    "features = [x for _, x in sorted(zip(scores, features))]\n",
    "scores = sorted(scores)\n",
    "\n",
    "plt.figure(figsize=(15,5))\n",
    "plt.barh(features, scores)\n",
    "plt.title('Feature Attribution for Prediction')\n",
    "plt.show()"
   ]
  },
  {
   "cell_type": "markdown",
   "id": "bb9285ef-7e19-4069-89c2-c6ed2479ed09",
   "metadata": {},
   "source": [
    "### Global Explainability\n",
    "Retrieve the influence of each feature on the model with [`ML.GLOBAL_EXPLAIN`](https://cloud.google.com/bigquery-ml/docs/reference/standard-sql/bigqueryml-syntax-global-explain).  "
   ]
  },
  {
   "cell_type": "code",
   "execution_count": 35,
   "id": "b3b751ef-3ac2-4c53-97a5-d30372a1cfb6",
   "metadata": {},
   "outputs": [],
   "source": [
    "query = f\"\"\"\n",
    "SELECT *\n",
    "FROM ML.GLOBAL_EXPLAIN (MODEL `{BQ_PROJECT}.{BQ_DATASET}.{BQ_MODEL}`)\n",
    "\"\"\"\n",
    "gexplain = bq.query(query = query).to_dataframe()"
   ]
  },
  {
   "cell_type": "code",
   "execution_count": 36,
   "id": "b49bca16-4666-4542-b3e7-0bec00653edc",
   "metadata": {},
   "outputs": [
    {
     "data": {
      "text/html": [
       "<div>\n",
       "<style scoped>\n",
       "    .dataframe tbody tr th:only-of-type {\n",
       "        vertical-align: middle;\n",
       "    }\n",
       "\n",
       "    .dataframe tbody tr th {\n",
       "        vertical-align: top;\n",
       "    }\n",
       "\n",
       "    .dataframe thead th {\n",
       "        text-align: right;\n",
       "    }\n",
       "</style>\n",
       "<table border=\"1\" class=\"dataframe\">\n",
       "  <thead>\n",
       "    <tr style=\"text-align: right;\">\n",
       "      <th></th>\n",
       "      <th>feature</th>\n",
       "      <th>attribution</th>\n",
       "    </tr>\n",
       "  </thead>\n",
       "  <tbody>\n",
       "    <tr>\n",
       "      <th>0</th>\n",
       "      <td>V14</td>\n",
       "      <td>0.533357</td>\n",
       "    </tr>\n",
       "    <tr>\n",
       "      <th>1</th>\n",
       "      <td>V3</td>\n",
       "      <td>0.238530</td>\n",
       "    </tr>\n",
       "    <tr>\n",
       "      <th>2</th>\n",
       "      <td>V12</td>\n",
       "      <td>0.227042</td>\n",
       "    </tr>\n",
       "    <tr>\n",
       "      <th>3</th>\n",
       "      <td>V4</td>\n",
       "      <td>0.205650</td>\n",
       "    </tr>\n",
       "    <tr>\n",
       "      <th>4</th>\n",
       "      <td>V11</td>\n",
       "      <td>0.132678</td>\n",
       "    </tr>\n",
       "  </tbody>\n",
       "</table>\n",
       "</div>"
      ],
      "text/plain": [
       "  feature  attribution\n",
       "0     V14     0.533357\n",
       "1      V3     0.238530\n",
       "2     V12     0.227042\n",
       "3      V4     0.205650\n",
       "4     V11     0.132678"
      ]
     },
     "execution_count": 36,
     "metadata": {},
     "output_type": "execute_result"
    }
   ],
   "source": [
    "gexplain.head()"
   ]
  },
  {
   "cell_type": "code",
   "execution_count": 37,
   "id": "03f5cbd0-1036-4165-8b88-273234d307d1",
   "metadata": {},
   "outputs": [
    {
     "data": {
      "image/png": "[encoded data removed]",
      "text/plain": [
       "<Figure size 1080x576 with 1 Axes>"
      ]
     },
     "metadata": {
      "needs_background": "light"
     },
     "output_type": "display_data"
    }
   ],
   "source": [
    "plt.figure(figsize=(15,8))\n",
    "plt.barh(gexplain['feature'], gexplain['attribution'])\n",
    "plt.title('Global Influence')\n",
    "plt.xlabel('Attribution')\n",
    "#plt.ylabel('Feature')\n",
    "plt.show()"
   ]
  },
  {
   "cell_type": "markdown",
   "id": "20fcbba9-32f7-46b3-b9d8-ff42f29258aa",
   "metadata": {},
   "source": [
    "### Feature Importance\n",
    "\n",
    "Retrieve the [XGBoost feature importances](https://xgboost.readthedocs.io/en/latest/python/python_api.html#xgboost.XGBRegressor.feature_importances_) for the model using [`ML.FEATURE_IMPORTANCE`](https://cloud.google.com/bigquery-ml/docs/reference/standard-sql/bigqueryml-syntax-importance).\n",
    "- importance_weight: the number of splits the feature was used in across all trees\n",
    "- importance_gain: the improvement in accuracy due to splits using the feature\n",
    "- importance_cover: the number of rows of data covered by splits using the feature"
   ]
  },
  {
   "cell_type": "code",
   "execution_count": 38,
   "id": "6ee976b5-6bc1-4c82-818c-9e34d62790d5",
   "metadata": {},
   "outputs": [],
   "source": [
    "query = f\"\"\"\n",
    "SELECT *\n",
    "FROM ML.FEATURE_IMPORTANCE (MODEL `{BQ_PROJECT}.{BQ_DATASET}.{BQ_MODEL}`)\n",
    "\"\"\"\n",
    "feature_importance = bq.query(query = query).to_dataframe()"
   ]
  },
  {
   "cell_type": "code",
   "execution_count": 39,
   "id": "153489af-58dc-48b7-a7f9-9fce646df468",
   "metadata": {},
   "outputs": [
    {
     "data": {
      "text/html": [
       "<div>\n",
       "<style scoped>\n",
       "    .dataframe tbody tr th:only-of-type {\n",
       "        vertical-align: middle;\n",
       "    }\n",
       "\n",
       "    .dataframe tbody tr th {\n",
       "        vertical-align: top;\n",
       "    }\n",
       "\n",
       "    .dataframe thead th {\n",
       "        text-align: right;\n",
       "    }\n",
       "</style>\n",
       "<table border=\"1\" class=\"dataframe\">\n",
       "  <thead>\n",
       "    <tr style=\"text-align: right;\">\n",
       "      <th></th>\n",
       "      <th>feature</th>\n",
       "      <th>importance_weight</th>\n",
       "      <th>importance_gain</th>\n",
       "      <th>importance_cover</th>\n",
       "    </tr>\n",
       "  </thead>\n",
       "  <tbody>\n",
       "    <tr>\n",
       "      <th>0</th>\n",
       "      <td>Time</td>\n",
       "      <td>16</td>\n",
       "      <td>211.599225</td>\n",
       "      <td>2742.851680</td>\n",
       "    </tr>\n",
       "    <tr>\n",
       "      <th>1</th>\n",
       "      <td>V1</td>\n",
       "      <td>25</td>\n",
       "      <td>82.378776</td>\n",
       "      <td>12180.477495</td>\n",
       "    </tr>\n",
       "    <tr>\n",
       "      <th>2</th>\n",
       "      <td>V2</td>\n",
       "      <td>4</td>\n",
       "      <td>207.231712</td>\n",
       "      <td>1647.064210</td>\n",
       "    </tr>\n",
       "    <tr>\n",
       "      <th>3</th>\n",
       "      <td>V3</td>\n",
       "      <td>19</td>\n",
       "      <td>136.385832</td>\n",
       "      <td>13839.990099</td>\n",
       "    </tr>\n",
       "    <tr>\n",
       "      <th>4</th>\n",
       "      <td>V4</td>\n",
       "      <td>57</td>\n",
       "      <td>607.768612</td>\n",
       "      <td>13637.047205</td>\n",
       "    </tr>\n",
       "    <tr>\n",
       "      <th>5</th>\n",
       "      <td>V5</td>\n",
       "      <td>3</td>\n",
       "      <td>153.966647</td>\n",
       "      <td>1510.943318</td>\n",
       "    </tr>\n",
       "    <tr>\n",
       "      <th>6</th>\n",
       "      <td>V6</td>\n",
       "      <td>6</td>\n",
       "      <td>162.358305</td>\n",
       "      <td>2593.235879</td>\n",
       "    </tr>\n",
       "    <tr>\n",
       "      <th>7</th>\n",
       "      <td>V7</td>\n",
       "      <td>22</td>\n",
       "      <td>152.058309</td>\n",
       "      <td>11357.648096</td>\n",
       "    </tr>\n",
       "    <tr>\n",
       "      <th>8</th>\n",
       "      <td>V8</td>\n",
       "      <td>16</td>\n",
       "      <td>369.190685</td>\n",
       "      <td>3254.624433</td>\n",
       "    </tr>\n",
       "    <tr>\n",
       "      <th>9</th>\n",
       "      <td>V9</td>\n",
       "      <td>16</td>\n",
       "      <td>110.695192</td>\n",
       "      <td>2263.771786</td>\n",
       "    </tr>\n",
       "    <tr>\n",
       "      <th>10</th>\n",
       "      <td>V10</td>\n",
       "      <td>35</td>\n",
       "      <td>144.299475</td>\n",
       "      <td>13679.638954</td>\n",
       "    </tr>\n",
       "    <tr>\n",
       "      <th>11</th>\n",
       "      <td>V11</td>\n",
       "      <td>34</td>\n",
       "      <td>133.009005</td>\n",
       "      <td>8222.175794</td>\n",
       "    </tr>\n",
       "    <tr>\n",
       "      <th>12</th>\n",
       "      <td>V12</td>\n",
       "      <td>56</td>\n",
       "      <td>355.186110</td>\n",
       "      <td>8932.618233</td>\n",
       "    </tr>\n",
       "    <tr>\n",
       "      <th>13</th>\n",
       "      <td>V13</td>\n",
       "      <td>18</td>\n",
       "      <td>413.069989</td>\n",
       "      <td>3730.755883</td>\n",
       "    </tr>\n",
       "    <tr>\n",
       "      <th>14</th>\n",
       "      <td>V14</td>\n",
       "      <td>52</td>\n",
       "      <td>6695.555510</td>\n",
       "      <td>27646.039901</td>\n",
       "    </tr>\n",
       "    <tr>\n",
       "      <th>15</th>\n",
       "      <td>V15</td>\n",
       "      <td>13</td>\n",
       "      <td>265.560944</td>\n",
       "      <td>4166.200359</td>\n",
       "    </tr>\n",
       "    <tr>\n",
       "      <th>16</th>\n",
       "      <td>V16</td>\n",
       "      <td>9</td>\n",
       "      <td>183.860597</td>\n",
       "      <td>2473.676971</td>\n",
       "    </tr>\n",
       "    <tr>\n",
       "      <th>17</th>\n",
       "      <td>V17</td>\n",
       "      <td>10</td>\n",
       "      <td>162.864235</td>\n",
       "      <td>8373.580634</td>\n",
       "    </tr>\n",
       "    <tr>\n",
       "      <th>18</th>\n",
       "      <td>V18</td>\n",
       "      <td>15</td>\n",
       "      <td>217.485170</td>\n",
       "      <td>2283.248967</td>\n",
       "    </tr>\n",
       "    <tr>\n",
       "      <th>19</th>\n",
       "      <td>V19</td>\n",
       "      <td>23</td>\n",
       "      <td>147.669351</td>\n",
       "      <td>3189.709681</td>\n",
       "    </tr>\n",
       "    <tr>\n",
       "      <th>20</th>\n",
       "      <td>V20</td>\n",
       "      <td>21</td>\n",
       "      <td>322.480146</td>\n",
       "      <td>12471.396818</td>\n",
       "    </tr>\n",
       "    <tr>\n",
       "      <th>21</th>\n",
       "      <td>V21</td>\n",
       "      <td>11</td>\n",
       "      <td>325.475382</td>\n",
       "      <td>16309.724191</td>\n",
       "    </tr>\n",
       "    <tr>\n",
       "      <th>22</th>\n",
       "      <td>V22</td>\n",
       "      <td>18</td>\n",
       "      <td>94.305017</td>\n",
       "      <td>6029.943549</td>\n",
       "    </tr>\n",
       "    <tr>\n",
       "      <th>23</th>\n",
       "      <td>V23</td>\n",
       "      <td>16</td>\n",
       "      <td>232.247147</td>\n",
       "      <td>1733.512468</td>\n",
       "    </tr>\n",
       "    <tr>\n",
       "      <th>24</th>\n",
       "      <td>V24</td>\n",
       "      <td>6</td>\n",
       "      <td>57.301870</td>\n",
       "      <td>627.864701</td>\n",
       "    </tr>\n",
       "    <tr>\n",
       "      <th>25</th>\n",
       "      <td>V25</td>\n",
       "      <td>9</td>\n",
       "      <td>140.786519</td>\n",
       "      <td>929.903644</td>\n",
       "    </tr>\n",
       "    <tr>\n",
       "      <th>26</th>\n",
       "      <td>V26</td>\n",
       "      <td>33</td>\n",
       "      <td>143.633100</td>\n",
       "      <td>937.564366</td>\n",
       "    </tr>\n",
       "    <tr>\n",
       "      <th>27</th>\n",
       "      <td>V27</td>\n",
       "      <td>17</td>\n",
       "      <td>179.849757</td>\n",
       "      <td>1165.912524</td>\n",
       "    </tr>\n",
       "    <tr>\n",
       "      <th>28</th>\n",
       "      <td>V28</td>\n",
       "      <td>17</td>\n",
       "      <td>182.830542</td>\n",
       "      <td>1735.501886</td>\n",
       "    </tr>\n",
       "    <tr>\n",
       "      <th>29</th>\n",
       "      <td>Amount</td>\n",
       "      <td>26</td>\n",
       "      <td>196.282422</td>\n",
       "      <td>3172.257035</td>\n",
       "    </tr>\n",
       "  </tbody>\n",
       "</table>\n",
       "</div>"
      ],
      "text/plain": [
       "   feature  importance_weight  importance_gain  importance_cover\n",
       "0     Time                 16       211.599225       2742.851680\n",
       "1       V1                 25        82.378776      12180.477495\n",
       "2       V2                  4       207.231712       1647.064210\n",
       "3       V3                 19       136.385832      13839.990099\n",
       "4       V4                 57       607.768612      13637.047205\n",
       "5       V5                  3       153.966647       1510.943318\n",
       "6       V6                  6       162.358305       2593.235879\n",
       "7       V7                 22       152.058309      11357.648096\n",
       "8       V8                 16       369.190685       3254.624433\n",
       "9       V9                 16       110.695192       2263.771786\n",
       "10     V10                 35       144.299475      13679.638954\n",
       "11     V11                 34       133.009005       8222.175794\n",
       "12     V12                 56       355.186110       8932.618233\n",
       "13     V13                 18       413.069989       3730.755883\n",
       "14     V14                 52      6695.555510      27646.039901\n",
       "15     V15                 13       265.560944       4166.200359\n",
       "16     V16                  9       183.860597       2473.676971\n",
       "17     V17                 10       162.864235       8373.580634\n",
       "18     V18                 15       217.485170       2283.248967\n",
       "19     V19                 23       147.669351       3189.709681\n",
       "20     V20                 21       322.480146      12471.396818\n",
       "21     V21                 11       325.475382      16309.724191\n",
       "22     V22                 18        94.305017       6029.943549\n",
       "23     V23                 16       232.247147       1733.512468\n",
       "24     V24                  6        57.301870        627.864701\n",
       "25     V25                  9       140.786519        929.903644\n",
       "26     V26                 33       143.633100        937.564366\n",
       "27     V27                 17       179.849757       1165.912524\n",
       "28     V28                 17       182.830542       1735.501886\n",
       "29  Amount                 26       196.282422       3172.257035"
      ]
     },
     "execution_count": 39,
     "metadata": {},
     "output_type": "execute_result"
    }
   ],
   "source": [
    "feature_importance"
   ]
  },
  {
   "cell_type": "markdown",
   "id": "a7c6d76f-c536-4a42-a7a3-bc8671c15e57",
   "metadata": {},
   "source": [
    "---\n",
    "## Serving With Vertex AI\n",
    "\n",
    "This demonstration shows the process of exporting and registering a BQML model with Vertex AI Model Registry.  To directly integrate BQML with Vertex AI Model Registry it is now (April 1, 2022) possible at model creation time with options `vertex_ai_model_id` and `vertex_ai_model_version_alises`. See the documentation for this direct integration [here](https://cloud.google.com/bigquery-ml/docs/managing-models-vertex)."
   ]
  },
  {
   "cell_type": "markdown",
   "id": "d4c660a2-1402-4f25-91f8-fd7a016ed571",
   "metadata": {},
   "source": [
    "### Export the BigQuery Model\n",
    "\n",
    "Reference: [Export the BigQuery Model](https://cloud.google.com/bigquery-ml/docs/exporting-models)"
   ]
  },
  {
   "cell_type": "code",
   "execution_count": 40,
   "id": "ca543938-f98c-4369-9aa8-b52010e43ae4",
   "metadata": {},
   "outputs": [
    {
     "data": {
      "text/plain": [
       "<google.cloud.bigquery.table._EmptyRowIterator at 0x7f45eb16b910>"
      ]
     },
     "execution_count": 40,
     "metadata": {},
     "output_type": "execute_result"
    }
   ],
   "source": [
    "query = f\"\"\"\n",
    "EXPORT MODEL `{BQ_PROJECT}.{BQ_DATASET}.{BQ_MODEL}`\n",
    "    OPTIONS (URI = '{URI}/{TIMESTAMP}/model')\n",
    "\"\"\"\n",
    "export = bq.query(query = query)\n",
    "export.result()"
   ]
  },
  {
   "cell_type": "code",
   "execution_count": 41,
   "id": "1481b4ef-9aed-4e8c-9d1e-7b6f09c5c4df",
   "metadata": {},
   "outputs": [
    {
     "data": {
      "text/plain": [
       "1.222"
      ]
     },
     "execution_count": 41,
     "metadata": {},
     "output_type": "execute_result"
    }
   ],
   "source": [
    "(export.ended - export.started).total_seconds()"
   ]
  },
  {
   "cell_type": "code",
   "execution_count": 42,
   "id": "1fcef092-733b-4dbf-be23-e43d56f18080",
   "metadata": {},
   "outputs": [
    {
     "data": {
      "text/plain": [
       "['gs://statmike-mlops-349915/fraud/models/03/03b/20220909115401/model/main.py',\n",
       " 'gs://statmike-mlops-349915/fraud/models/03/03b/20220909115401/model/model.bst',\n",
       " 'gs://statmike-mlops-349915/fraud/models/03/03b/20220909115401/model/xgboost_predictor-0.1.tar.gz',\n",
       " 'gs://statmike-mlops-349915/fraud/models/03/03b/20220909115401/model/assets/']"
      ]
     },
     "execution_count": 42,
     "metadata": {},
     "output_type": "execute_result"
    }
   ],
   "source": [
    "listing = !gsutil ls {URI}/{TIMESTAMP}/model\n",
    "listing"
   ]
  },
  {
   "cell_type": "code",
   "execution_count": 43,
   "id": "8e758215-839a-48db-8b88-6208524a9f3b",
   "metadata": {},
   "outputs": [
    {
     "name": "stdout",
     "output_type": "stream",
     "text": [
      "View the export in the console:\n",
      "https://console.cloud.google.com/storage/browser/statmike-mlops-349915/fraud/models/03/03b/20220909115401/model?project=statmike-mlops-349915\n"
     ]
    }
   ],
   "source": [
    "print(f\"View the export in the console:\\nhttps://console.cloud.google.com/storage/browser/{URI.split('//')[-1]}/{TIMESTAMP}/model?project={PROJECT_ID}\")"
   ]
  },
  {
   "cell_type": "markdown",
   "id": "eb8321e0-1aa8-410d-9fe8-21739611d150",
   "metadata": {},
   "source": [
    "### Detect The Model Types Framework"
   ]
  },
  {
   "cell_type": "code",
   "execution_count": 44,
   "id": "218d3a2c-b67b-47c1-90a7-1552ee7dc1f4",
   "metadata": {},
   "outputs": [
    {
     "name": "stdout",
     "output_type": "stream",
     "text": [
      "framework = XGBoost\n"
     ]
    }
   ],
   "source": [
    "filetype = {'pb': 'TensorFlow', 'bst': 'XGBoost'}\n",
    "\n",
    "filetypes = [filetype[f.split('.')[-1]] for f in listing if f.split('.')[-1] in ['pb','bst']]\n",
    "if len(filetypes) == 1:\n",
    "    framework = filetypes[0]\n",
    "    print(f'framework = {framework}')\n",
    "else:\n",
    "    raise TypeError(f\"Model Type Undeteremined!! Review the contents of of 'listing = {listing}'.\")"
   ]
  },
  {
   "cell_type": "markdown",
   "id": "1916bbf6-3bca-4487-9990-381abf105dce",
   "metadata": {},
   "source": [
    "Set the `DEPLOY_IMAGE` based on the framework:"
   ]
  },
  {
   "cell_type": "code",
   "execution_count": 45,
   "id": "127d3fd4-f06a-4362-a433-2d30b6dd84be",
   "metadata": {},
   "outputs": [
    {
     "data": {
      "text/plain": [
       "'us-docker.pkg.dev/vertex-ai/prediction/xgboost-cpu.0-82:latest'"
      ]
     },
     "execution_count": 45,
     "metadata": {},
     "output_type": "execute_result"
    }
   ],
   "source": [
    "if framework == 'TensorFlow':\n",
    "    DEPLOY_IMAGE = TF_DEPLOY_IMAGE\n",
    "elif framework == 'XGBoost':\n",
    "    DEPLOY_IMAGE = XGB_DEPLOY_IMAGE\n",
    "    \n",
    "DEPLOY_IMAGE"
   ]
  },
  {
   "cell_type": "markdown",
   "id": "96635614-2ca0-4d9d-8a7a-9c853b4a1dca",
   "metadata": {},
   "source": [
    "### Upload The Model To Vertex AI Model Registry\n",
    "References:\n",
    "- Python SDK for [`aiplatform.Model`](https://googleapis.dev/python/aiplatform/latest/aiplatform/services.html#google.cloud.aiplatform.Model)\n",
    "- Python Client for [`aiplatform.Model`](https://cloud.google.com/python/docs/reference/aiplatform/latest/google.cloud.aiplatform.Model)"
   ]
  },
  {
   "cell_type": "code",
   "execution_count": 46,
   "id": "945b0496-38d6-4e18-9e2c-f724851a0648",
   "metadata": {},
   "outputs": [
    {
     "name": "stdout",
     "output_type": "stream",
     "text": [
      "This is a new model, adding to model registry as version 1\n",
      "Creating Model\n",
      "Create Model backing LRO: projects/1026793852137/locations/us-central1/models/model_03b_fraud/operations/2231001795331620864\n",
      "Model created. Resource name: projects/1026793852137/locations/us-central1/models/1175417512511143936@1\n",
      "To use this Model in another session:\n",
      "model = aiplatform.Model('projects/1026793852137/locations/us-central1/models/1175417512511143936@1')\n"
     ]
    }
   ],
   "source": [
    "modelmatch = aiplatform.Model.list(filter = f'labels.series={SERIES} AND labels.experiment={EXPERIMENT}')\n",
    "\n",
    "upload_model = True\n",
    "if modelmatch:\n",
    "    print(\"Model Already in Registry:\")\n",
    "    if RUN_NAME in modelmatch[0].version_aliases:\n",
    "        print(\"This version already loaded, no action taken.\")\n",
    "        upload_model = False\n",
    "        model = aiplatform.Model(model_name = modelmatch[0].resource_name)\n",
    "    else:\n",
    "        print('Loading model as new default version.')\n",
    "        parent_model =  modelmatch[0].resource_name\n",
    "else:\n",
    "    print('This is a new model, adding to model registry as version 1')\n",
    "    parent_model = ''\n",
    "\n",
    "if upload_model:\n",
    "    model = aiplatform.Model.upload(\n",
    "        display_name = f'{EXPERIMENT}_{BQ_DATASET}',\n",
    "        model_id = f'model_{EXPERIMENT}_{BQ_DATASET}',\n",
    "        parent_model = parent_model,\n",
    "        serving_container_image_uri = DEPLOY_IMAGE,\n",
    "        artifact_uri = f\"{URI}/{TIMESTAMP}/model\",\n",
    "        is_default_version = True,\n",
    "        version_aliases = [RUN_NAME],\n",
    "        version_description = RUN_NAME,\n",
    "        labels = {'series' : f'{SERIES}', 'experiment' : f'{EXPERIMENT}', 'timestamp': f'{TIMESTAMP}', 'run_name' : f'{RUN_NAME}', 'framework' : f'{framework.lower()}'}\n",
    "    )  "
   ]
  },
  {
   "cell_type": "code",
   "execution_count": 47,
   "id": "cc011e56-9eb1-4ded-a4f3-dcf3705a2db3",
   "metadata": {},
   "outputs": [
    {
     "data": {
      "text/plain": [
       "'03b_fraud'"
      ]
     },
     "execution_count": 47,
     "metadata": {},
     "output_type": "execute_result"
    }
   ],
   "source": [
    "model.display_name"
   ]
  },
  {
   "cell_type": "code",
   "execution_count": 48,
   "id": "3ee67f27-046c-4d68-b629-b16a82d4ba3b",
   "metadata": {},
   "outputs": [
    {
     "data": {
      "text/plain": [
       "'projects/1026793852137/locations/us-central1/models/1175417512511143936'"
      ]
     },
     "execution_count": 48,
     "metadata": {},
     "output_type": "execute_result"
    }
   ],
   "source": [
    "model.resource_name"
   ]
  },
  {
   "cell_type": "code",
   "execution_count": 49,
   "id": "33350db6-f6f4-4f98-a9a7-0442eac39727",
   "metadata": {},
   "outputs": [
    {
     "name": "stdout",
     "output_type": "stream",
     "text": [
      "View the model in the Vertex AI Console:\n",
      "https://console.cloud.google.com/vertex-ai/locations/us-central1/models/model_03b_fraud?project=statmike-mlops-349915\n"
     ]
    }
   ],
   "source": [
    "print(f\"View the model in the Vertex AI Console:\\nhttps://console.cloud.google.com/vertex-ai/locations/{REGION}/models/model_{EXPERIMENT}_{BQ_DATASET}?project={PROJECT_ID}\")"
   ]
  },
  {
   "cell_type": "markdown",
   "id": "c033f7fb-abed-44cf-a000-424a8dd7e5f3",
   "metadata": {},
   "source": [
    "---\n",
    "## Online Predictions with Vertex AI Endpoints\n",
    "Check out the notebook `03Tools - Predictions` to see how to use this model with [online predictions in Vertex AI](https://cloud.google.com/vertex-ai/docs/predictions/online-predictions-custom-models)."
   ]
  },
  {
   "cell_type": "markdown",
   "id": "dd47dd27-6ad6-4ad1-94b6-fc1a46f697a3",
   "metadata": {},
   "source": [
    "---\n",
    "## Remove Resources\n",
    "see notebook \"99 - Cleanup\""
   ]
  }
 ],
 "metadata": {
  "environment": {
   "kernel": "python3",
   "name": "tf2-gpu.2-3.m94",
   "type": "gcloud",
   "uri": "gcr.io/deeplearning-platform-release/tf2-gpu.2-3:m94"
  },
  "kernelspec": {
   "display_name": "Python 3",
   "language": "python",
   "name": "python3"
  },
  "language_info": {
   "codemirror_mode": {
    "name": "ipython",
    "version": 3
   },
   "file_extension": ".py",
   "mimetype": "text/x-python",
   "name": "python",
   "nbconvert_exporter": "python",
   "pygments_lexer": "ipython3",
   "version": "3.7.12"
  }
 },
 "nbformat": 4,
 "nbformat_minor": 5
}
