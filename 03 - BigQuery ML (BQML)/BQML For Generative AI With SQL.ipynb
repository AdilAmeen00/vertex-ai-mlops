{
 "cells": [
  {
   "cell_type": "markdown",
   "id": "1e48fc9b-3757-4f2a-b081-f9afe09a5769",
   "metadata": {},
   "source": [
    "# BigQuery ML (BQML) - Generative AI With SQL\n",
    "\n",
    "BigQuery is a the home for data.  It's native language is SQL.  You can also interact with it through a Pandas like API called BigFrames.  One of the best parts about BigQuery is the vast number of functions and capabilities that allow you to do workflows directly in BigQuery without ever exporting the data out.  Like Generative AI!\n",
    "\n",
    "This workflow shows how to reference [Vertex AI hosted foundation models](https://cloud.google.com/vertex-ai/docs/generative-ai/learn/models) through the [ML.GENERATE_TEXT function](https://cloud.google.com/bigquery/docs/generate-text).  It will cover the setup and usage for multiple use cases as examples for getting started in your own environment.  These examples are meant to reflect common scenarios you might face in real-world application like:\n",
    "- in-place generation of text using BigQuery DDL [ALTER TABLE](https://cloud.google.com/bigquery/docs/reference/standard-sql/data-definition-language#alter_table_add_column_statement) and DML [UPDATE](https://cloud.google.com/bigquery/docs/reference/standard-sql/dml-syntax#update_statement) statements\n",
    "- Generating few-shot prompts from samples and applying them to larger tables\n",
    "- Aggregating text across rows into prompts\n",
    "\n",
    "**BigQuery ML (BQML) Overview**\n",
    "\n",
    "[BigQuery ML](https://cloud.google.com/bigquery/docs/bqml-introduction) allows you to use `SQL` to constuct an ML workflow.  This is a great leap in productivity and flexibility when the data source is [BigQuery](https://cloud.google.com/bigquery/docs/introduction) and users are already familiar with `SQL`. Using just `SQL`, [multiple techniques](https://cloud.google.com/bigquery/docs/bqml-introduction#model_selection_guide) can be used for model training and even include [hyperparameter tuning](https://cloud.google.com/bigquery/docs/hp-tuning-overview).  It includes serverless [training, evaluation, and inference](https://cloud.google.com/bigquery/docs/e2e-journey) techniques for supervised, unsupervised, time series methods, even recommendation engines.  [Predictions](https://cloud.google.com/bigquery/docs/inference-overview) can be served directly in BigQuery which also include explainability measures. Predictive models can be [exported to their native framework](https://cloud.google.com/bigquery/docs/reference/standard-sql/bigqueryml-syntax-export-model) for portability, or even directly [registered to Vertex AI model registry](https://cloud.google.com/bigquery/docs/create_vertex) for online predictions on Vertex AI Endpoints.  You can [import models into BigQuery ML](https://cloud.google.com/bigquery/docs/inference-overview#inference_using_imported_models) from many common frameworks, or [connect to remotely hosted models](https://cloud.google.com/bigquery/docs/inference-overview#inference_using_remote_models) on Vertex AI Endpoints. You can even directly use many [pre-trained models](https://cloud.google.com/bigquery/docs/inference-overview#pretrained-models) in Vertex AI Like Cloud Vision API, Cloud Natural Language API, Cloud Translate API, and Generative AI with Vertex AI hosted LLMs.\n",
    "\n",
    "A great starting point for seeing the scope of available methods is the [user journey for models](https://cloud.google.com/bigquery/docs/e2e-journey).  This repository also has a series of notebook based workflows for many BigQuery ML methods that can be reviewed here: [../03 - BigQuery ML (BQML)](../03%20-%20BigQuery%20ML%20(BQML)/readme.md).\n",
    "\n",
    "**BigFrames Overview**\n",
    "\n",
    "A new way to interact with BigQuery and BigQuery ML is [BigQuery DataFrames](https://cloud.google.com/python/docs/reference/bigframes/latest).  A new Pythonic DataFrame with modules for BigQuery (`bigframes.pandas`) that is pandas-compatible and BigQuery ML (`bigframes.ml`) that is scikit-learn like.  This series of notebooks will be expanded to offer workflow examples in the choice of SQL or BigFrames!\n",
    "\n",
    "\n",
    "## INCLUDE\n",
    "- links to easier tutorials and blogs\n",
    "- move the workflow up to this overview"
   ]
  },
  {
   "cell_type": "markdown",
   "id": "b6409c02-1fa6-4598-98fa-2e2b56041af6",
   "metadata": {
    "id": "od_UkDpvRmgD",
    "tags": []
   },
   "source": [
    "---\n",
    "## Colab Setup\n",
    "\n",
    "To run this notebook in Colab click [![Open In Colab](https://colab.research.google.com/assets/colab-badge.svg)](https://colab.research.google.com/github/statmike/vertex-ai-mlops/blob/main/03%20-%20BigQuery%20ML%20(BQML)/BQML%20For%20Generative%20AI%20With%20SQL.ipynb) and run the cells in this section.  Otherwise, skip this section.\n",
    "\n",
    "This cell will authenticate to GCP (follow prompts in the popup)."
   ]
  },
  {
   "cell_type": "code",
   "execution_count": 1,
   "id": "51c8ca34-2250-46e4-8c55-f84b5dda520f",
   "metadata": {
    "executionInfo": {
     "elapsed": 195,
     "status": "ok",
     "timestamp": 1683726184843,
     "user": {
      "displayName": "Mike Henderson",
      "userId": "07691629187611687318"
     },
     "user_tz": 240
    },
    "id": "8UO9FnqyKBlF"
   },
   "outputs": [],
   "source": [
    "PROJECT_ID = 'statmike-mlops-349915' # replace with project ID"
   ]
  },
  {
   "cell_type": "code",
   "execution_count": 2,
   "id": "60ccaa96-11f9-4d60-a81e-a587b4766463",
   "metadata": {
    "colab": {
     "base_uri": "https://localhost:8080/"
    },
    "executionInfo": {
     "elapsed": 68869,
     "status": "ok",
     "timestamp": 1683726253709,
     "user": {
      "displayName": "Mike Henderson",
      "userId": "07691629187611687318"
     },
     "user_tz": 240
    },
    "id": "N98-KK7LRkjm",
    "outputId": "09ec5008-0def-4e1a-c349-c598ee752f78"
   },
   "outputs": [],
   "source": [
    "try:\n",
    "    import google.colab\n",
    "    from google.colab import auth\n",
    "    auth.authenticate_user()\n",
    "    !gcloud config set project {PROJECT_ID}\n",
    "except Exception:\n",
    "    pass"
   ]
  },
  {
   "cell_type": "markdown",
   "id": "4481268c-0787-4831-8084-08d04e66ba6e",
   "metadata": {},
   "source": [
    "---\n",
    "## Installs and API Enablement\n",
    "\n",
    "The clients packages may need installing in this environment."
   ]
  },
  {
   "cell_type": "markdown",
   "id": "25e2a4b0-2367-45c9-b5d1-d9d3e63762cd",
   "metadata": {},
   "source": [
    "### Installs (If Needed)"
   ]
  },
  {
   "cell_type": "code",
   "execution_count": 1,
   "id": "13b78ea3-98f1-4ab8-b2df-122ac7f54b7a",
   "metadata": {},
   "outputs": [],
   "source": [
    "# tuples of (import name, install name)\n",
    "packages = [\n",
    "    ('google.cloud.bigquery', 'google-cloud-bigquery')\n",
    "]\n",
    "\n",
    "import importlib\n",
    "install = False\n",
    "for package in packages:\n",
    "    if not importlib.util.find_spec(package[0]):\n",
    "        print(f'installing package {package[1]}')\n",
    "        install = True\n",
    "        !pip install {package[1]} -U -q --user"
   ]
  },
  {
   "cell_type": "markdown",
   "id": "20957c40-b98c-4fcb-900c-5c4a1204a717",
   "metadata": {},
   "source": [
    "### API Enablement"
   ]
  },
  {
   "cell_type": "code",
   "execution_count": 3,
   "id": "a313990a-5063-45c3-bf72-d40bec3d4e2f",
   "metadata": {},
   "outputs": [],
   "source": [
    "!gcloud services enable bigqueryconnection.googleapis.com"
   ]
  },
  {
   "cell_type": "markdown",
   "id": "74aa15d0-9f35-49a7-9a8a-2231f565b436",
   "metadata": {},
   "source": [
    "### Restart Kernel (If Installs Occured)\n",
    "\n",
    "After a kernel restart the code submission can start with the next cell after this one."
   ]
  },
  {
   "cell_type": "code",
   "execution_count": 4,
   "id": "22eb2a14-8841-40e3-9639-586eabe51544",
   "metadata": {},
   "outputs": [],
   "source": [
    "if install:\n",
    "    import IPython\n",
    "    app = IPython.Application.instance()\n",
    "    app.kernel.do_shutdown(True)"
   ]
  },
  {
   "cell_type": "markdown",
   "id": "0759f6e8-e61b-4da9-b557-d226bf7d58a4",
   "metadata": {},
   "source": [
    "---\n",
    "## Setup"
   ]
  },
  {
   "cell_type": "code",
   "execution_count": 1,
   "id": "c9474f8b-6bbd-4a93-b23e-939d8a2c0ced",
   "metadata": {},
   "outputs": [
    {
     "data": {
      "text/plain": [
       "'statmike-mlops-349915'"
      ]
     },
     "execution_count": 1,
     "metadata": {},
     "output_type": "execute_result"
    }
   ],
   "source": [
    "project = !gcloud config get-value project\n",
    "PROJECT_ID = project[0]\n",
    "PROJECT_ID"
   ]
  },
  {
   "cell_type": "code",
   "execution_count": 2,
   "id": "05f7608b-6148-4331-938d-5396c4b0cfa5",
   "metadata": {},
   "outputs": [],
   "source": [
    "REGION = 'us-central1'\n",
    "SERIES = 'bqml'\n",
    "EXPERIMENT = 'genai-sql'"
   ]
  },
  {
   "cell_type": "code",
   "execution_count": 3,
   "id": "da6b3245-fd5d-42f4-8737-7f150bab0a0d",
   "metadata": {},
   "outputs": [],
   "source": [
    "# make this the BQ Project / Dataset / Table prefix to store results\n",
    "BQ_PROJECT = PROJECT_ID\n",
    "BQ_DATASET = SERIES.replace('-', '_')\n",
    "BQ_TABLE = EXPERIMENT\n",
    "BQ_REGION = REGION[0:2] # subset to first two characters for multi-region"
   ]
  },
  {
   "cell_type": "code",
   "execution_count": 4,
   "id": "66cf5bde-9480-4fe5-adc5-9d48d74f0180",
   "metadata": {},
   "outputs": [],
   "source": [
    "from google.cloud import bigquery\n",
    "from google.cloud import bigquery_connection_v1 as bq_connection"
   ]
  },
  {
   "cell_type": "code",
   "execution_count": 5,
   "id": "4f097603-33dc-4078-a308-20101406c002",
   "metadata": {},
   "outputs": [],
   "source": [
    "bq = bigquery.Client(project = PROJECT_ID)"
   ]
  },
  {
   "cell_type": "markdown",
   "id": "4955dfe7-ca14-4b8e-8d2f-e04faf2496fa",
   "metadata": {},
   "source": [
    "---\n",
    "## Create A BigQuery Dataset\n",
    "\n",
    "This workflow will make a copy of a BigQuery public dataset and works with the copy.  It will use the dataset defined by the `BQ_PROJECT` and `BQ_DATASET` parameters defined above.  The following code checks for the existance of the dataset, and if needed creates it:"
   ]
  },
  {
   "cell_type": "code",
   "execution_count": 105,
   "id": "e6c480a2-3aa2-45b1-8427-67382ff6d557",
   "metadata": {},
   "outputs": [
    {
     "name": "stdout",
     "output_type": "stream",
     "text": [
      "Found the BigQuery Dataset:  statmike-mlops-349915:bqml\n"
     ]
    }
   ],
   "source": [
    "try:\n",
    "    ds = bq.get_dataset(f'{BQ_PROJECT}.{BQ_DATASET}')\n",
    "    print('Found the BigQuery Dataset: ', ds.full_dataset_id)\n",
    "except:\n",
    "    ds = bigquery.DatasetReference(BQ_PROJECT, BQ_DATASET)\n",
    "    ds.location = BQ_REGION\n",
    "    ds.labels = {'series': f'{SERIES}'}\n",
    "    ds = bq.create_dataset(dataset = ds, exists_ok = True)\n",
    "    print('Created the BigQuery Dataset: ', ds.full_dataset_id)"
   ]
  },
  {
   "cell_type": "markdown",
   "id": "d68ea35f-9595-400a-8987-46a8960acbe4",
   "metadata": {},
   "source": [
    "---\n",
    "## BigQuery ML: Connect To Vertex AI LLMs with ML.GENERATE_TEXT\n",
    "\n",
    "BigQuery ML can `Create Model`'s that are actually connections to Remote Models. [Reference](https://cloud.google.com/bigquery/docs/reference/standard-sql/bigqueryml-syntax-create-remote-model)\n",
    "\n",
    "Using the `REMOTE_SERVICE_TYPE = \"CLOUD_AI_LARGE_LANGUAGE_MODEL_V1\"` option will link to LLMs in Vertex AI.\n",
    "- [Documentation](https://cloud.google.com/bigquery/docs/inference-overview#generative_ai)\n",
    "- Specifically, it connects to [Vertex AI Foundation Models](https://cloud.google.com/vertex-ai/docs/generative-ai/learn/models#foundation_models):\n",
    "    - [ML.GENERATE_TEXT()](https://cloud.google.com/bigquery/docs/reference/standard-sql/bigqueryml-syntax-generate-text) uses the model to connect to Vertex AI `text-bision`\n",
    "    - and [ML.GENERATE_TEXT_EMBEDDING()](https://cloud.google.com/bigquery/docs/reference/standard-sql/bigqueryml-syntax-generate-text-embedding) uses the model to connect to Vertex AI `textembedding-gecko`\n"
   ]
  },
  {
   "cell_type": "markdown",
   "id": "63a74077-4896-4b36-bb1b-c6ef6e62aabd",
   "metadata": {},
   "source": [
    "### Connection Requirement\n",
    "\n",
    "To make a remote connection using BigQuery ML, BigQuery uses a CLOUD_RESOURCE connection. [Reference](https://cloud.google.com/bigquery/docs/reference/standard-sql/bigqueryml-syntax-create-remote-model#connection)"
   ]
  },
  {
   "cell_type": "markdown",
   "id": "3fef88ad-8854-49b3-a56b-57b8932a6150",
   "metadata": {},
   "source": [
    "Create a new connection with type `CLOUD_RESOURCE`: First, check for existing connection."
   ]
  },
  {
   "cell_type": "code",
   "execution_count": 6,
   "id": "64b58017-f01d-4e67-aac9-bcbd85c50aa8",
   "metadata": {},
   "outputs": [
    {
     "name": "stdout",
     "output_type": "stream",
     "text": [
      "Created new connection with service account: bqcx-1026793852137-bmph@gcp-sa-bigquery-condel.iam.gserviceaccount.com\n"
     ]
    }
   ],
   "source": [
    "try:\n",
    "    response = bq_connection.ConnectionServiceClient().get_connection(\n",
    "            request = bq_connection.GetConnectionRequest(\n",
    "                name = f\"projects/{BQ_PROJECT}/locations/{BQ_REGION}/connections/{SERIES}_{EXPERIMENT}\"\n",
    "            )\n",
    "    )\n",
    "    print(f'Found existing connection with service account: {response.cloud_resource.service_account_id}')\n",
    "    service_account = response.cloud_resource.service_account_id\n",
    "except Exception:\n",
    "    request = bq_connection.CreateConnectionRequest(\n",
    "        {\n",
    "            \"parent\": f\"projects/{BQ_PROJECT}/locations/{BQ_REGION}\",\n",
    "            \"connection_id\": f\"{SERIES}_{EXPERIMENT}\",\n",
    "            \"connection\": bq_connection.types.Connection(\n",
    "                {\n",
    "                    \"friendly_name\": f\"{SERIES}_{EXPERIMENT}\",\n",
    "                    \"cloud_resource\": bq_connection.CloudResourceProperties({})\n",
    "                }\n",
    "            )\n",
    "        }\n",
    "    )\n",
    "    response = bq_connection.ConnectionServiceClient().create_connection(request)\n",
    "    print(f'Created new connection with service account: {response.cloud_resource.service_account_id}')\n",
    "    service_account = response.cloud_resource.service_account_id"
   ]
  },
  {
   "cell_type": "markdown",
   "id": "681b7c55-f2bc-4766-86fd-ccc718f95879",
   "metadata": {},
   "source": [
    "Assign the service account the Vertex AI User role:"
   ]
  },
  {
   "cell_type": "code",
   "execution_count": 7,
   "id": "05e71e23-94c8-4d5f-b0f0-a8d702733c8b",
   "metadata": {
    "scrolled": true,
    "tags": []
   },
   "outputs": [
    {
     "name": "stdout",
     "output_type": "stream",
     "text": [
      "Updated IAM policy for project [statmike-mlops-349915].\n",
      "bindings:\n",
      "- members:\n",
      "  - serviceAccount:service-1026793852137@gcp-sa-aiplatform-cc.iam.gserviceaccount.com\n",
      "  role: roles/aiplatform.customCodeServiceAgent\n",
      "- members:\n",
      "  - serviceAccount:service-1026793852137@gcp-sa-aiplatform-vm.iam.gserviceaccount.com\n",
      "  role: roles/aiplatform.notebookServiceAgent\n",
      "- members:\n",
      "  - serviceAccount:service-1026793852137@gcp-sa-aiplatform.iam.gserviceaccount.com\n",
      "  role: roles/aiplatform.serviceAgent\n",
      "- members:\n",
      "  - serviceAccount:bqcx-1026793852137-bmph@gcp-sa-bigquery-condel.iam.gserviceaccount.com\n",
      "  - serviceAccount:bqcx-1026793852137-dyw1@gcp-sa-bigquery-condel.iam.gserviceaccount.com\n",
      "  - serviceAccount:bqcx-1026793852137-pdxa@gcp-sa-bigquery-condel.iam.gserviceaccount.com\n",
      "  - serviceAccount:bqcx-1026793852137-tqpc@gcp-sa-bigquery-condel.iam.gserviceaccount.com\n",
      "  - serviceAccount:bqcx-1026793852137-zfly@gcp-sa-bigquery-condel.iam.gserviceaccount.com\n",
      "  role: roles/aiplatform.user\n",
      "- members:\n",
      "  - serviceAccount:service-1026793852137@gcp-sa-artifactregistry.iam.gserviceaccount.com\n",
      "  role: roles/artifactregistry.serviceAgent\n",
      "- members:\n",
      "  - serviceAccount:1026793852137-compute@developer.gserviceaccount.com\n",
      "  role: roles/bigquery.admin\n",
      "- members:\n",
      "  - serviceAccount:1026793852137@cloudservices.gserviceaccount.com\n",
      "  role: roles/bigquery.dataOwner\n",
      "- members:\n",
      "  - serviceAccount:1026793852137@cloudbuild.gserviceaccount.com\n",
      "  role: roles/cloudbuild.builds.builder\n",
      "- members:\n",
      "  - serviceAccount:service-1026793852137@gcp-sa-cloudbuild.iam.gserviceaccount.com\n",
      "  role: roles/cloudbuild.serviceAgent\n",
      "- members:\n",
      "  - serviceAccount:service-1026793852137@gcf-admin-robot.iam.gserviceaccount.com\n",
      "  role: roles/cloudfunctions.serviceAgent\n",
      "- members:\n",
      "  - serviceAccount:service-1026793852137@gcp-sa-cloudscheduler.iam.gserviceaccount.com\n",
      "  role: roles/cloudscheduler.serviceAgent\n",
      "- members:\n",
      "  - serviceAccount:service-1026793852137@compute-system.iam.gserviceaccount.com\n",
      "  role: roles/compute.serviceAgent\n",
      "- members:\n",
      "  - serviceAccount:service-1026793852137@containerregistry.iam.gserviceaccount.com\n",
      "  role: roles/containerregistry.ServiceAgent\n",
      "- members:\n",
      "  - serviceAccount:service-1026793852137@dataflow-service-producer-prod.iam.gserviceaccount.com\n",
      "  role: roles/dataflow.serviceAgent\n",
      "- members:\n",
      "  - serviceAccount:service-1026793852137@gcp-sa-dataform.iam.gserviceaccount.com\n",
      "  role: roles/dataform.serviceAgent\n",
      "- members:\n",
      "  - serviceAccount:service-1026793852137@gcp-sa-discoveryengine.iam.gserviceaccount.com\n",
      "  role: roles/discoveryengine.serviceAgent\n",
      "- members:\n",
      "  - serviceAccount:service-1026793852137@dlp-api.iam.gserviceaccount.com\n",
      "  role: roles/dlp.serviceAgent\n",
      "- members:\n",
      "  - serviceAccount:service-1026793852137@gcp-sa-prod-dai-core.iam.gserviceaccount.com\n",
      "  role: roles/documentaicore.serviceAgent\n",
      "- members:\n",
      "  - serviceAccount:1026793852137@cloudservices.gserviceaccount.com\n",
      "  role: roles/editor\n",
      "- members:\n",
      "  - serviceAccount:service-1026793852137@gcp-sa-networkmanagement.iam.gserviceaccount.com\n",
      "  role: roles/networkmanagement.serviceAgent\n",
      "- members:\n",
      "  - serviceAccount:service-1026793852137@gcp-sa-notebooks.iam.gserviceaccount.com\n",
      "  role: roles/notebooks.serviceAgent\n",
      "- members:\n",
      "  - serviceAccount:1026793852137-compute@developer.gserviceaccount.com\n",
      "  - serviceAccount:1026793852137@cloudservices.gserviceaccount.com\n",
      "  - user:admin@statmike.altostrat.com\n",
      "  role: roles/owner\n",
      "- members:\n",
      "  - serviceAccount:service-1026793852137@gcp-sa-pubsub.iam.gserviceaccount.com\n",
      "  role: roles/pubsub.serviceAgent\n",
      "- members:\n",
      "  - serviceAccount:1026793852137-compute@developer.gserviceaccount.com\n",
      "  role: roles/run.admin\n",
      "- members:\n",
      "  - serviceAccount:service-1026793852137@serverless-robot-prod.iam.gserviceaccount.com\n",
      "  role: roles/run.serviceAgent\n",
      "- members:\n",
      "  - serviceAccount:service-1026793852137@service-networking.iam.gserviceaccount.com\n",
      "  role: roles/servicenetworking.serviceAgent\n",
      "- members:\n",
      "  - serviceAccount:service-1026793852137@gcp-sa-speech.iam.gserviceaccount.com\n",
      "  role: roles/speech.serviceAgent\n",
      "- members:\n",
      "  - serviceAccount:1026793852137-compute@developer.gserviceaccount.com\n",
      "  role: roles/storage.objectAdmin\n",
      "- members:\n",
      "  - serviceAccount:service-1026793852137@gcp-sa-workstations.iam.gserviceaccount.com\n",
      "  role: roles/workstations.serviceAgent\n",
      "etag: BwYIQfETHmU=\n",
      "version: 1\n"
     ]
    }
   ],
   "source": [
    "!gcloud projects add-iam-policy-binding {BQ_PROJECT} --member=serviceAccount:{service_account} --role=roles/aiplatform.user"
   ]
  },
  {
   "cell_type": "markdown",
   "id": "40fbaf8a-5581-4851-bfae-4ca0c0563c24",
   "metadata": {},
   "source": [
    "### Create The Remote Model In BigQuery"
   ]
  },
  {
   "cell_type": "code",
   "execution_count": 8,
   "id": "3696ef39-69f6-4f36-9a50-898f61951091",
   "metadata": {},
   "outputs": [
    {
     "data": {
      "text/plain": [
       "'DONE'"
      ]
     },
     "execution_count": 8,
     "metadata": {},
     "output_type": "execute_result"
    }
   ],
   "source": [
    "# Create Remote Model In BigQuery\n",
    "query = f\"\"\"\n",
    "CREATE OR REPLACE MODEL `{BQ_PROJECT}.{BQ_DATASET}.{BQ_TABLE}_MODEL`\n",
    "    REMOTE WITH CONNECTION `{BQ_PROJECT}.{BQ_REGION}.{SERIES}_{EXPERIMENT}`\n",
    "    OPTIONS(REMOTE_SERVICE_TYPE = 'CLOUD_AI_LARGE_LANGUAGE_MODEL_V1')\n",
    "\"\"\"\n",
    "job = bq.query(query = query)\n",
    "job.result()\n",
    "job.state"
   ]
  },
  {
   "cell_type": "markdown",
   "id": "f4233752-a546-47d2-9e1c-7ae673ff86d7",
   "metadata": {},
   "source": [
    "---\n",
    "## Generative AI With BQML: Simple Query\n",
    "\n",
    "How?  Just use the [ML.GENERATE_TEXT](https://cloud.google.com/bigquery/docs/reference/standard-sql/bigqueryml-syntax-generate-text) function!"
   ]
  },
  {
   "cell_type": "code",
   "execution_count": 85,
   "id": "69149d02-df9d-49a1-8933-3299d9fff695",
   "metadata": {},
   "outputs": [
    {
     "data": {
      "text/html": [
       "<div>\n",
       "<style scoped>\n",
       "    .dataframe tbody tr th:only-of-type {\n",
       "        vertical-align: middle;\n",
       "    }\n",
       "\n",
       "    .dataframe tbody tr th {\n",
       "        vertical-align: top;\n",
       "    }\n",
       "\n",
       "    .dataframe thead th {\n",
       "        text-align: right;\n",
       "    }\n",
       "</style>\n",
       "<table border=\"1\" class=\"dataframe\">\n",
       "  <thead>\n",
       "    <tr style=\"text-align: right;\">\n",
       "      <th></th>\n",
       "      <th>ml_generate_text_llm_result</th>\n",
       "      <th>ml_generate_text_rai_result</th>\n",
       "      <th>ml_generate_text_status</th>\n",
       "      <th>prompt</th>\n",
       "    </tr>\n",
       "  </thead>\n",
       "  <tbody>\n",
       "    <tr>\n",
       "      <th>0</th>\n",
       "      <td>BigQuery ML is a fully managed machine learni...</td>\n",
       "      <td>{\"blocked\":false,\"categories\":[],\"scores\":[]}</td>\n",
       "      <td></td>\n",
       "      <td>What is BigQuery ML?</td>\n",
       "    </tr>\n",
       "  </tbody>\n",
       "</table>\n",
       "</div>"
      ],
      "text/plain": [
       "                         ml_generate_text_llm_result  \\\n",
       "0   BigQuery ML is a fully managed machine learni...   \n",
       "\n",
       "                     ml_generate_text_rai_result ml_generate_text_status  \\\n",
       "0  {\"blocked\":false,\"categories\":[],\"scores\":[]}                           \n",
       "\n",
       "                 prompt  \n",
       "0  What is BigQuery ML?  "
      ]
     },
     "execution_count": 85,
     "metadata": {},
     "output_type": "execute_result"
    }
   ],
   "source": [
    "query = f'''\n",
    "SELECT *\n",
    "FROM ML.GENERATE_TEXT(\n",
    "    MODEL `{BQ_PROJECT}.{BQ_DATASET}.{BQ_TABLE}_MODEL`,\n",
    "    (\n",
    "        SELECT \"What is BigQuery ML?\" AS prompt\n",
    "    ),\n",
    "    STRUCT(500 AS max_output_tokens, TRUE AS flatten_json_output)\n",
    ")\n",
    "\n",
    "'''\n",
    "results = bq.query(query = query).to_dataframe()\n",
    "results"
   ]
  },
  {
   "cell_type": "code",
   "execution_count": 29,
   "id": "060f139e-908f-4b8f-b6cc-f6348006f48a",
   "metadata": {},
   "outputs": [
    {
     "name": "stdout",
     "output_type": "stream",
     "text": [
      "What is BigQuery ML?\n"
     ]
    }
   ],
   "source": [
    "print(results['prompt'].iloc[0])"
   ]
  },
  {
   "cell_type": "code",
   "execution_count": 30,
   "id": "9d1b4729-8788-4896-9120-f52e503f102c",
   "metadata": {},
   "outputs": [
    {
     "name": "stdout",
     "output_type": "stream",
     "text": [
      " BigQuery ML is a fully managed machine learning service that enables businesses to build and deploy machine learning models quickly and easily. It offers a wide range of pre-trained models and allows users to create and train their own models using SQL. BigQuery ML also provides an integrated environment for developing, testing, and deploying machine learning models.\n"
     ]
    }
   ],
   "source": [
    "print(results['ml_generate_text_llm_result'].iloc[0])"
   ]
  },
  {
   "cell_type": "markdown",
   "id": "3bfacd80-aef8-453c-8e47-05b9d304dedd",
   "metadata": {},
   "source": [
    "---\n",
    "## Generative AI With BQML:  Generate Text For Every Row\n",
    "\n",
    "Since ML.GENERATE_TEXT is a SQL function in BigQuery it can be applied to every value and return results for each row.\n",
    "\n",
    "The BigQuery Public Dataset Table:  `bigquery-public-data.bbc_news.fulltext`\n",
    "- has full text of articles from BBC news\n",
    "\n",
    "This Workflow:\n",
    "- reviews the data\n",
    "- pulls sample articles from each `category`\n",
    "- Generates a new title for each article in the sample"
   ]
  },
  {
   "cell_type": "markdown",
   "id": "95b54cbd-5fd8-42e7-bdaa-adc8ffc73893",
   "metadata": {},
   "source": [
    "### Review The Data"
   ]
  },
  {
   "cell_type": "code",
   "execution_count": 31,
   "id": "689fef22-4b9e-4423-9bb9-8aedab341427",
   "metadata": {},
   "outputs": [
    {
     "data": {
      "text/html": [
       "<div>\n",
       "<style scoped>\n",
       "    .dataframe tbody tr th:only-of-type {\n",
       "        vertical-align: middle;\n",
       "    }\n",
       "\n",
       "    .dataframe tbody tr th {\n",
       "        vertical-align: top;\n",
       "    }\n",
       "\n",
       "    .dataframe thead th {\n",
       "        text-align: right;\n",
       "    }\n",
       "</style>\n",
       "<table border=\"1\" class=\"dataframe\">\n",
       "  <thead>\n",
       "    <tr style=\"text-align: right;\">\n",
       "      <th></th>\n",
       "      <th>body</th>\n",
       "      <th>title</th>\n",
       "      <th>filename</th>\n",
       "      <th>category</th>\n",
       "    </tr>\n",
       "  </thead>\n",
       "  <tbody>\n",
       "    <tr>\n",
       "      <th>0</th>\n",
       "      <td>The global web blog community is being called ...</td>\n",
       "      <td>Global blogger action day called</td>\n",
       "      <td>bbc/tech/016.txt</td>\n",
       "      <td>tech</td>\n",
       "    </tr>\n",
       "  </tbody>\n",
       "</table>\n",
       "</div>"
      ],
      "text/plain": [
       "                                                body  \\\n",
       "0  The global web blog community is being called ...   \n",
       "\n",
       "                              title          filename category  \n",
       "0  Global blogger action day called  bbc/tech/016.txt     tech  "
      ]
     },
     "execution_count": 31,
     "metadata": {},
     "output_type": "execute_result"
    }
   ],
   "source": [
    "query = f'''\n",
    "SELECT *\n",
    "FROM `bigquery-public-data.bbc_news.fulltext`\n",
    "LIMIT 1\n",
    "'''\n",
    "results = bq.query(query = query).to_dataframe()\n",
    "results"
   ]
  },
  {
   "cell_type": "code",
   "execution_count": 32,
   "id": "171b345b-ad33-4971-b567-7025c1cf9c49",
   "metadata": {},
   "outputs": [
    {
     "name": "stdout",
     "output_type": "stream",
     "text": [
      "body:\n",
      " The global web blog community is being called into action to lend support to two imprisoned Iranian bloggers.\n",
      "\n",
      "The month-old Committee to Protect Bloggers' is asking those with blogs to dedicate their sites on 22 February to the \"Free Mojtaba and Arash Day\". Arash Sigarchi and Mojtaba Saminejad are both in prison in Iran. Blogs are free sites through which people publish thoughts and opinions. Iranian authorities have been clamping down on prominent sites for some time. \"I hope this day will focus people,\" Curt Hopkins, director of the Committee, told the BBC News website.\n",
      "\n",
      "The group has a list of actions which it says bloggers can take, including writing to local Iranian embassies. The Committee has deemed Tuesday \"Free Mojtaba and Arash Day\" as part of its first campaign. It is calling on the blogsphere - the name for the worldwide community of bloggers - to do what it can to help raise awareness of the plight of Mojtaba and Arash as well as other \"cyber-dissidents\". \"If you have a blog, the least you could do is put nothing on that blog except 'Free Mojtaba and Arash Day',\" said Mr Hopkins. \"That would mean you could see that phrase 7.1 million times. That alone will shine some light on the situation. \"If you don't have one, find one dedicated to that - it takes about 30 seconds.\" Technorati, a blog search engine, tracks about six million blogs and says that more than 12,000 are added daily. A blog is created every 5.8 seconds, according to a US research think-tank.\n",
      "\n",
      "The Committee to Protect Bloggers was started by US blogger Curt Hopkins and counts fired flight attendant blogger Ellen Simonetti as a deputy director. She has since started the International Bloggers' Bill of Rights, a global petition to protect bloggers at work. Although not the only website committed to human rights issues by any means, it aims to be the hub or organisation, information and support for bloggers in particular and their rights to freedom of speech.\n",
      "\n",
      "The Committee, although only a month old, aims to be the focal point for blogger action on similar issues in the future, and will operate as a non-for-profit organisation. \"Blogging is in this weird no man's land. People think of it as being one thing or another depending on their point of view,\" said Mr Hopkins. \"Some think of themselves as pundits, kind of like journalists, and some like me have a private blog which is just a publishing platform. \"But they do not have a constituency and are out there in the cold.\"\n",
      "\n",
      "It is not just human rights issues in countries which have a track record of restricting what is published in the media that is of concern to bloggers. The question of bloggers and what rights they have to say what they want on their sites is a thorny one and has received much press attention recently. High profile cases in which employees have been sacked for what they have said on their personal, and often anonymous blogs, have highlighted the muddy situation that the blogsphere is currently in.\n",
      "\n",
      "\"This is a big messy argument,\" explained Mr Hopkins. He added: \"It is just such a new way of doing business, there will be clamp downs.\" But the way these issues get tested is through the courts which, said Mr Hopkins, \"is part of the whole messy conversation.\" \"If you haven't already got bloggers in your company, you will have them tomorrow - and if you don't have a blogger policy now you had better start looking at having one. Mr Hopkins said that the blogsphere - which is doubling every five months - was powerful because it takes so little time and expertise to create a blog. \"Everyone does this - mums, radicals, conservatives,\" he said. Many companies offer easy-to-use services to create a blog and publish it in minutes to a global community. \"That is the essential difference. What I call 'templating software' gives every single person on Earth the chance to have one. \"You don't even have to have your own computer.\"\n",
      "\n",
      "title:\n",
      " Global blogger action day called\n",
      "filename:\n",
      " bbc/tech/016.txt\n",
      "category:\n",
      " tech\n"
     ]
    }
   ],
   "source": [
    "for col in results.columns:\n",
    "    print(f'{col}:\\n', results[col].iloc[0])"
   ]
  },
  {
   "cell_type": "markdown",
   "id": "1bbb27b1-2f87-4bb6-8038-605e03b58f8f",
   "metadata": {},
   "source": [
    "### Retrieve A Sample Including All Categories\n",
    "\n",
    "Get up to 5 examples from each `category`."
   ]
  },
  {
   "cell_type": "code",
   "execution_count": 106,
   "id": "74a09b69-6a15-4844-a86e-c284763b9d21",
   "metadata": {},
   "outputs": [],
   "source": [
    "query = f'''\n",
    "CREATE OR REPLACE TABLE `{BQ_PROJECT}.{BQ_DATASET}.{BQ_TABLE}_sample` AS\n",
    "WITH\n",
    "    sample AS (\n",
    "        SELECT *,\n",
    "            ROW_NUMBER() OVER (PARTITION BY category ORDER BY filename) AS sequence\n",
    "        FROM `bigquery-public-data.bbc_news.fulltext`\n",
    "    )\n",
    "SELECT * EXCEPT(sequence)\n",
    "FROM sample\n",
    "WHERE sequence <= 5\n",
    "ORDER BY category;\n",
    "\n",
    "SELECT *\n",
    "FROM `{BQ_PROJECT}.{BQ_DATASET}.{BQ_TABLE}_sample`;\n",
    "'''\n",
    "sample = bq.query(query = query).to_dataframe()"
   ]
  },
  {
   "cell_type": "code",
   "execution_count": 108,
   "id": "15b7fa9d-0566-4983-bb2d-379db566274d",
   "metadata": {},
   "outputs": [
    {
     "data": {
      "text/plain": [
       "category\n",
       "business         5\n",
       "entertainment    5\n",
       "politics         5\n",
       "sport            5\n",
       "tech             5\n",
       "Name: category, dtype: int64"
      ]
     },
     "execution_count": 108,
     "metadata": {},
     "output_type": "execute_result"
    }
   ],
   "source": [
    "sample.groupby(['category'])['category'].count()"
   ]
  },
  {
   "cell_type": "markdown",
   "id": "dd3178f6-a5b1-4b2d-a4c2-ce432f70e78e",
   "metadata": {},
   "source": [
    "### Generate A New Title For Each Article - In Place\n",
    "\n",
    "Add the column `new_title` to the table and then generate a new title that is used to update `new_title`.  \n",
    "\n",
    "For this, combine the ML.GENERATE_TEXT function with BigQuery DDL [ALTER TABLE](https://cloud.google.com/bigquery/docs/reference/standard-sql/data-definition-language#alter_table_add_column_statement) and DML [UPDATE](https://cloud.google.com/bigquery/docs/reference/standard-sql/dml-syntax#update_statement) statements."
   ]
  },
  {
   "cell_type": "code",
   "execution_count": 109,
   "id": "b8fceead-c612-491e-b249-72d9a98fb328",
   "metadata": {},
   "outputs": [],
   "source": [
    "query = f'''\n",
    "ALTER TABLE `{BQ_PROJECT}.{BQ_DATASET}.{BQ_TABLE}_sample`\n",
    "ADD COLUMN IF NOT EXISTS new_title STRING;\n",
    "\n",
    "UPDATE `{BQ_PROJECT}.{BQ_DATASET}.{BQ_TABLE}_sample` as target\n",
    "SET new_title = (\n",
    "    SELECT\n",
    "        IF(\n",
    "            ml_generate_text_llm_result != \"\",\n",
    "            ml_generate_text_llm_result,\n",
    "            CONCAT(\"blocked:\", JSON_VALUE(ml_generate_text_rai_result, '$.blocked'))\n",
    "        ) as new_title\n",
    "    FROM ML.GENERATE_TEXT(\n",
    "        MODEL`{BQ_PROJECT}.{BQ_DATASET}.{BQ_TABLE}_MODEL`,\n",
    "        (\n",
    "            SELECT CONCAT(\n",
    "                    \"\"\"The current title of an article is: \"\"\", source.title,\n",
    "                    \"\"\"\\n\\nThe body of the article is: \"\"\", source.body,\n",
    "                    \"\"\"\\n\\nThe category of the article has name: \"\"\", source.category,\n",
    "                    \"\"\"\\n\\nWhat is a better title for this article? The answer should be in english only.\"\"\"\n",
    "                ) as prompt\n",
    "            FROM `{BQ_PROJECT}.{BQ_DATASET}.{BQ_TABLE}_sample` AS source\n",
    "            WHERE target.filename = source.filename\n",
    "        ),\n",
    "        STRUCT(200 AS max_output_tokens, TRUE AS flatten_json_output)\n",
    "    )\n",
    ")\n",
    "WHERE true;\n",
    "\n",
    "SELECT *\n",
    "FROM `{BQ_PROJECT}.{BQ_DATASET}.{BQ_TABLE}_sample`;\n",
    "'''\n",
    "sample = bq.query(query = query).to_dataframe()"
   ]
  },
  {
   "cell_type": "code",
   "execution_count": 110,
   "id": "88551e72-9511-4272-b456-ac9a24cdd990",
   "metadata": {},
   "outputs": [
    {
     "name": "stdout",
     "output_type": "stream",
     "text": [
      "['Ink helps drive democracy in Asia', ' Kyrgyz Voters to be Ink-Marked for Elections']\n",
      "['China net cafe culture crackdown', 'blocked:true']\n",
      "['Microsoft seeking spyware trojan', ' Microsoft investigates spyware trojan']\n",
      "['Technology gets the creative bug', ' Technology and the creative industries: a new partnership']\n",
      "['Digital guru floats sub-$100 PC', ' One Laptop Per Child']\n",
      "['IAAF launches fight against drugs', ' IAAF steps up drugs fight']\n",
      "['Dibaba breaks 5,000m world record', ' Dibaba Breaks 5,000m World Record']\n",
      "['Claxton hunting first major medal', ' Claxton chasing first major medal']\n",
      "[\"O'Sullivan could run in Worlds\", \" O'Sullivan May Run in Worlds\"]\n",
      "['Greene sets sights on world title', ' Greene eyes world title']\n",
      "[\"High fuel prices hit BA's profits\", ' BA blames high fuel prices for profit drop']\n",
      "['Yukos unit buyer faces loan claim', ' Yukos unit buyer faces $900m loan claim']\n",
      "['Dollar gains on Greenspan speech', ' Dollar hits 3-month high on Greenspan speech']\n",
      "['Pernod takeover talk lifts Domecq', ' Pernod May Be Eyeing Allied Domecq']\n",
      "['Ad sales boost Time Warner profit', ' Time Warner profit boosted by advertising sales']\n",
      "['Watchdog probes e-mail deletions', ' Information Commissioner condemns email deletions']\n",
      "['Labour chooses Manchester', ' Labour conference to be held in Manchester']\n",
      "[\"Hewitt decries 'career sexism'\", ' Hewitt: Career sexism holds women back']\n",
      "['Labour plans maternity pay rise', ' Government to increase maternity pay']\n",
      "['Brown ally rejects Budget spree', ' Balls denies pre-election Budget spree']\n",
      "['Gallery unveils interactive tree', ' Interactive Christmas Tree Unveiled at Tate Britain']\n",
      "['Jarre joins fairytale celebration', ' Jean Michel Jarre to perform at Hans Christian Andersen bicentennial concert']\n",
      "['Poppins musical gets flying start', ' Mary Poppins flies into the West End']\n",
      "['Richard and Judy choose top books', ' Richard and Judy announce 2005 book award finalists']\n",
      "['Musical treatment for Capra film', \" It's A Wonderful Life to become a musical\"]\n"
     ]
    }
   ],
   "source": [
    "for s in sample[['title', 'new_title']].values.tolist():\n",
    "    print(s)"
   ]
  },
  {
   "cell_type": "markdown",
   "id": "002b7176-6b52-47a6-bfbc-6bb01f3b78a1",
   "metadata": {},
   "source": [
    "---\n",
    "## Generative AI With BQML: Categorize Articles Using Few-Shot Prompting\n",
    "\n",
    "In prompt design it is possible to include example of the task you want the LLM to perform.  This is called few-shot prompting.\n",
    "\n",
    "For this tasks, we will use the samples above to create few-shot prompts for categorizing articles.  Then, we will apply the prompt to a larger sample and see how accurate it is at picking the same category as is already defined from the articles.\n",
    "\n",
    "The workflow for this example:\n",
    "- Attempts to categorize articles into known categories using few-shot prompting with titles\n",
    "- Evaluates the accuracy of the categorization\n",
    "\n",
    "There are many approaches to classification with LLM's that could be tried here:\n",
    "- full text of articles in single or few-shot prompt\n",
    "- partial text, maybe first paragraph, of article in single or few-shot prompt\n",
    "- Tune an LLM with Vertex AI [supervised tuning](https://cloud.google.com/vertex-ai/docs/generative-ai/models/tune-models#supervised-tuning)"
   ]
  },
  {
   "cell_type": "markdown",
   "id": "969e143b-207a-4b9c-8486-6c74c037fc8b",
   "metadata": {},
   "source": [
    "### Construct Few-Shot Prompt From Sample\n",
    "\n",
    "Use [CONCAT](https://cloud.google.com/bigquery/docs/reference/standard-sql/string_functions#concat), [STRING_AGG](https://cloud.google.com/bigquery/docs/reference/standard-sql/aggregate_functions#string_agg) and [DISTINCT](https://cloud.google.com/bigquery/docs/reference/standard-sql/query-syntax) to construct a few-shot prompt for classification by using the sample table."
   ]
  },
  {
   "cell_type": "code",
   "execution_count": 119,
   "id": "469032e2-eb2c-485d-8294-79905f70261e",
   "metadata": {},
   "outputs": [
    {
     "name": "stdout",
     "output_type": "stream",
     "text": [
      "Define a category for each text from the list of options.\n",
      "Options:\n",
      "- tech\n",
      "- sport\n",
      "- business\n",
      "- politics\n",
      "- entertainment\n",
      "\n",
      "Text: Ink helps drive democracy in Asia\n",
      "Category: tech\n",
      "\n",
      "Text: China net cafe culture crackdown\n",
      "Category: tech\n",
      "\n",
      "Text: Microsoft seeking spyware trojan\n",
      "Category: tech\n",
      "\n",
      "Text: Technology gets the creative bug\n",
      "Category: tech\n",
      "\n",
      "Text: Digital guru floats sub-$100 PC\n",
      "Category: tech\n",
      "\n",
      "Text: IAAF launches fight against drugs\n",
      "Category: sport\n",
      "\n",
      "Text: Dibaba breaks 5,000m world record\n",
      "Category: sport\n",
      "\n",
      "Text: Claxton hunting first major medal\n",
      "Category: sport\n",
      "\n",
      "Text: O'Sullivan could run in Worlds\n",
      "Category: sport\n",
      "\n",
      "Text: Greene sets sights on world title\n",
      "Category: sport\n",
      "\n",
      "Text: High fuel prices hit BA's profits\n",
      "Category: business\n",
      "\n",
      "Text: Yukos unit buyer faces loan claim\n",
      "Category: business\n",
      "\n",
      "Text: Dollar gains on Greenspan speech\n",
      "Category: business\n",
      "\n",
      "Text: Pernod takeover talk lifts Domecq\n",
      "Category: business\n",
      "\n",
      "Text: Ad sales boost Time Warner profit\n",
      "Category: business\n",
      "\n",
      "Text: Watchdog probes e-mail deletions\n",
      "Category: politics\n",
      "\n",
      "Text: Labour chooses Manchester\n",
      "Category: politics\n",
      "\n",
      "Text: Hewitt decries 'career sexism'\n",
      "Category: politics\n",
      "\n",
      "Text: Labour plans maternity pay rise\n",
      "Category: politics\n",
      "\n",
      "Text: Brown ally rejects Budget spree\n",
      "Category: politics\n",
      "\n",
      "Text: Gallery unveils interactive tree\n",
      "Category: entertainment\n",
      "\n",
      "Text: Jarre joins fairytale celebration\n",
      "Category: entertainment\n",
      "\n",
      "Text: Poppins musical gets flying start\n",
      "Category: entertainment\n",
      "\n",
      "Text: Richard and Judy choose top books\n",
      "Category: entertainment\n",
      "\n",
      "Text: Musical treatment for Capra film\n",
      "Category: entertainment\n"
     ]
    }
   ],
   "source": [
    "prompt_query = f'''\n",
    "SELECT\n",
    "    CONCAT(\n",
    "        \"Define a category for each text from the list of options.\",\n",
    "        \"\"\"\\nOptions:\\n- \"\"\",\n",
    "        STRING_AGG(DISTINCT category, \"\"\"\\n- \"\"\"),\n",
    "        \"\"\"\\n\\n\"\"\",\n",
    "        STRING_AGG(CONCAT(\"Text: \", title, \"\"\"\\nCategory: \"\"\", category), \"\"\"\\n\\n\"\"\")\n",
    "    ) as prompt,\n",
    "FROM `{BQ_PROJECT}.{BQ_DATASET}.{BQ_TABLE}_sample`\n",
    "'''\n",
    "prompt = bq.query(query = query).to_dataframe()\n",
    "print(prompt['prompt'].iloc[0])"
   ]
  },
  {
   "cell_type": "markdown",
   "id": "2fcbeff2-7b0e-4f3e-a908-fb8aca084073",
   "metadata": {},
   "source": [
    "### Use The Few-Shot Prompt and Generate Classifications For All Rows\n",
    "\n",
    "Use the prompt created above to generate a classification for a sample of rows from the full table.  Use the `category_limiter` parameter to limit the number of rows per `category`.  Larger values will result in longer runtimes as the service works with the [query per minute limits of the foundation models](https://cloud.google.com/vertex-ai/docs/quotas#request_quotas)."
   ]
  },
  {
   "cell_type": "code",
   "execution_count": 180,
   "id": "8d49cba7-edf2-41fc-89ff-e3401ac6ae06",
   "metadata": {},
   "outputs": [],
   "source": [
    "# how many rows to classify per category\n",
    "category_limiter = 20 \n",
    "\n",
    "query = f'''\n",
    "CREATE OR REPLACE TABLE `{BQ_PROJECT}.{BQ_DATASET}.{BQ_TABLE}_classification` AS\n",
    "WITH\n",
    "    prompt AS ({prompt_query}),\n",
    "    sample AS (\n",
    "        SELECT * EXCEPT(sequence)\n",
    "        FROM (\n",
    "            SELECT *, ROW_NUMBER() OVER (PARTITION BY category ORDER BY filename) AS sequence\n",
    "            FROM `bigquery-public-data.bbc_news.fulltext`\n",
    "        )\n",
    "        WHERE sequence <= {category_limiter}\n",
    "        ORDER BY category\n",
    "    ),\n",
    "    prepped AS (\n",
    "        SELECT title, filename, category,\n",
    "            CONCAT(prompt.prompt, \"\"\"\\n\\nText: \"\"\", title, \"\"\"\\nCategory: \"\"\") as prompt\n",
    "        FROM sample\n",
    "        CROSS JOIN prompt\n",
    "    ),\n",
    "    generate AS (\n",
    "        SELECT * EXCEPT(ml_generate_text_rai_result, ml_generate_text_llm_result, ml_generate_text_status),\n",
    "            ml_generate_text_llm_result as new_category\n",
    "        FROM ML.GENERATE_TEXT(\n",
    "            MODEL `{BQ_PROJECT}.{BQ_DATASET}.{BQ_TABLE}_MODEL`,\n",
    "            (\n",
    "                SELECT *\n",
    "                FROM prepped\n",
    "            ),\n",
    "            STRUCT(50 AS max_output_tokens, TRUE AS flatten_json_output)\n",
    "        )\n",
    "    )\n",
    "SELECT * \n",
    "FROM generate;\n",
    "\n",
    "SELECT *\n",
    "FROM `{BQ_PROJECT}.{BQ_DATASET}.{BQ_TABLE}_classification`\n",
    "ORDER BY category;\n",
    "'''\n",
    "results = bq.query(query = query).to_dataframe()"
   ]
  },
  {
   "cell_type": "code",
   "execution_count": 181,
   "id": "25a52f7e-2845-457d-a31d-5f440082e974",
   "metadata": {},
   "outputs": [
    {
     "data": {
      "text/html": [
       "<div>\n",
       "<style scoped>\n",
       "    .dataframe tbody tr th:only-of-type {\n",
       "        vertical-align: middle;\n",
       "    }\n",
       "\n",
       "    .dataframe tbody tr th {\n",
       "        vertical-align: top;\n",
       "    }\n",
       "\n",
       "    .dataframe thead th {\n",
       "        text-align: right;\n",
       "    }\n",
       "</style>\n",
       "<table border=\"1\" class=\"dataframe\">\n",
       "  <thead>\n",
       "    <tr style=\"text-align: right;\">\n",
       "      <th></th>\n",
       "      <th>title</th>\n",
       "      <th>filename</th>\n",
       "      <th>category</th>\n",
       "      <th>prompt</th>\n",
       "      <th>new_category</th>\n",
       "    </tr>\n",
       "  </thead>\n",
       "  <tbody>\n",
       "    <tr>\n",
       "      <th>0</th>\n",
       "      <td>India widens access to telecoms</td>\n",
       "      <td>bbc/business/019.txt</td>\n",
       "      <td>business</td>\n",
       "      <td>Define a category for each text from the list ...</td>\n",
       "      <td>tech</td>\n",
       "    </tr>\n",
       "    <tr>\n",
       "      <th>1</th>\n",
       "      <td>Ask Jeeves tips online ad revival</td>\n",
       "      <td>bbc/business/011.txt</td>\n",
       "      <td>business</td>\n",
       "      <td>Define a category for each text from the list ...</td>\n",
       "      <td>business</td>\n",
       "    </tr>\n",
       "    <tr>\n",
       "      <th>2</th>\n",
       "      <td>Indonesians face fuel price rise</td>\n",
       "      <td>bbc/business/012.txt</td>\n",
       "      <td>business</td>\n",
       "      <td>Define a category for each text from the list ...</td>\n",
       "      <td>business</td>\n",
       "    </tr>\n",
       "    <tr>\n",
       "      <th>3</th>\n",
       "      <td>India's rupee hits five-year high</td>\n",
       "      <td>bbc/business/018.txt</td>\n",
       "      <td>business</td>\n",
       "      <td>Define a category for each text from the list ...</td>\n",
       "      <td>business</td>\n",
       "    </tr>\n",
       "    <tr>\n",
       "      <th>4</th>\n",
       "      <td>Pernod takeover talk lifts Domecq</td>\n",
       "      <td>bbc/business/005.txt</td>\n",
       "      <td>business</td>\n",
       "      <td>Define a category for each text from the list ...</td>\n",
       "      <td>business</td>\n",
       "    </tr>\n",
       "  </tbody>\n",
       "</table>\n",
       "</div>"
      ],
      "text/plain": [
       "                               title              filename  category  \\\n",
       "0    India widens access to telecoms  bbc/business/019.txt  business   \n",
       "1  Ask Jeeves tips online ad revival  bbc/business/011.txt  business   \n",
       "2   Indonesians face fuel price rise  bbc/business/012.txt  business   \n",
       "3  India's rupee hits five-year high  bbc/business/018.txt  business   \n",
       "4  Pernod takeover talk lifts Domecq  bbc/business/005.txt  business   \n",
       "\n",
       "                                              prompt new_category  \n",
       "0  Define a category for each text from the list ...         tech  \n",
       "1  Define a category for each text from the list ...     business  \n",
       "2  Define a category for each text from the list ...     business  \n",
       "3  Define a category for each text from the list ...     business  \n",
       "4  Define a category for each text from the list ...     business  "
      ]
     },
     "execution_count": 181,
     "metadata": {},
     "output_type": "execute_result"
    }
   ],
   "source": [
    "results.head()"
   ]
  },
  {
   "cell_type": "markdown",
   "id": "b43a7662-0809-4d6f-b88e-27784706cc08",
   "metadata": {},
   "source": [
    "### Evaluate The Accuracy Of The Classification\n",
    "\n",
    "For this use [scikit-learn](https://scikit-learn.org/stable/index.html) metrics [fuctions](https://scikit-learn.org/stable/modules/model_evaluation.html) to do model evaluation."
   ]
  },
  {
   "cell_type": "code",
   "execution_count": 182,
   "id": "f73680b1-8a0f-46e1-a9ed-0c85628a87ab",
   "metadata": {},
   "outputs": [],
   "source": [
    "from sklearn import metrics"
   ]
  },
  {
   "cell_type": "code",
   "execution_count": 183,
   "id": "4c9a2922-0807-4992-b589-2edd3e32e407",
   "metadata": {},
   "outputs": [],
   "source": [
    "known = [result.strip() for result in results['category'].values.tolist()]\n",
    "predicted = [result.strip() for result in results['new_category'].values.tolist()]\n",
    "labels = list(set(known))"
   ]
  },
  {
   "cell_type": "code",
   "execution_count": 184,
   "id": "ceef508d-40e6-4be7-bd18-f1c15819e71f",
   "metadata": {},
   "outputs": [
    {
     "data": {
      "text/plain": [
       "['entertainment', 'tech', 'politics', 'business', 'sport']"
      ]
     },
     "execution_count": 184,
     "metadata": {},
     "output_type": "execute_result"
    }
   ],
   "source": [
    "labels"
   ]
  },
  {
   "cell_type": "code",
   "execution_count": 185,
   "id": "2b91e671-4fe0-4036-8c46-c05e4e3bfe99",
   "metadata": {},
   "outputs": [
    {
     "data": {
      "text/plain": [
       "array([[20,  0,  0,  0,  0],\n",
       "       [ 3, 16,  0,  0,  0],\n",
       "       [ 4,  0, 15,  0,  0],\n",
       "       [ 2,  1,  1, 16,  0],\n",
       "       [ 0,  0,  0,  0, 20]])"
      ]
     },
     "execution_count": 185,
     "metadata": {},
     "output_type": "execute_result"
    }
   ],
   "source": [
    "metrics.confusion_matrix(known, predicted, labels = labels)"
   ]
  },
  {
   "cell_type": "code",
   "execution_count": 186,
   "id": "b5952c47-5723-472c-81b1-999c6e34413e",
   "metadata": {},
   "outputs": [
    {
     "data": {
      "text/plain": [
       "<sklearn.metrics._plot.confusion_matrix.ConfusionMatrixDisplay at 0x7f6bcdaef2e0>"
      ]
     },
     "execution_count": 186,
     "metadata": {},
     "output_type": "execute_result"
    },
    {
     "data": {
      "image/png": "[encoded data removed]",
      "text/plain": [
       "<Figure size 640x480 with 2 Axes>"
      ]
     },
     "metadata": {},
     "output_type": "display_data"
    }
   ],
   "source": [
    "disp = metrics.ConfusionMatrixDisplay(\n",
    "    confusion_matrix = metrics.confusion_matrix(known, predicted, labels = labels),\n",
    "    display_labels = labels\n",
    ")\n",
    "disp.plot()"
   ]
  },
  {
   "cell_type": "code",
   "execution_count": 187,
   "id": "096cf04c-a63d-4c09-9593-797b9cbf3ca7",
   "metadata": {},
   "outputs": [
    {
     "data": {
      "text/plain": [
       "0.87"
      ]
     },
     "execution_count": 187,
     "metadata": {},
     "output_type": "execute_result"
    }
   ],
   "source": [
    "metrics.accuracy_score(known, predicted)"
   ]
  },
  {
   "cell_type": "code",
   "execution_count": 188,
   "id": "c0f30c48-c7b1-4fa2-bb4e-da2104845cff",
   "metadata": {},
   "outputs": [
    {
     "name": "stdout",
     "output_type": "stream",
     "text": [
      "                                                             precision    recall  f1-score   support\n",
      "\n",
      "                                                   business       1.00      0.80      0.89        20\n",
      "                                                  education       0.00      0.00      0.00         0\n",
      "                                              entertainment       0.69      1.00      0.82        20\n",
      "                                                   politics       0.94      0.75      0.83        20\n",
      "                                                      sport       1.00      1.00      1.00        20\n",
      "                                                       tech       0.94      0.80      0.86        20\n",
      "tech\n",
      "\n",
      "Text: New Zealand quake toll rises\n",
      "Category: politics       0.00      0.00      0.00         0\n",
      "\n",
      "                                                   accuracy                           0.87       100\n",
      "                                                  macro avg       0.65      0.62      0.63       100\n",
      "                                               weighted avg       0.91      0.87      0.88       100\n",
      "\n"
     ]
    },
    {
     "name": "stderr",
     "output_type": "stream",
     "text": [
      "/opt/conda/lib/python3.10/site-packages/sklearn/metrics/_classification.py:1469: UndefinedMetricWarning: Recall and F-score are ill-defined and being set to 0.0 in labels with no true samples. Use `zero_division` parameter to control this behavior.\n",
      "  _warn_prf(average, modifier, msg_start, len(result))\n",
      "/opt/conda/lib/python3.10/site-packages/sklearn/metrics/_classification.py:1469: UndefinedMetricWarning: Recall and F-score are ill-defined and being set to 0.0 in labels with no true samples. Use `zero_division` parameter to control this behavior.\n",
      "  _warn_prf(average, modifier, msg_start, len(result))\n",
      "/opt/conda/lib/python3.10/site-packages/sklearn/metrics/_classification.py:1469: UndefinedMetricWarning: Recall and F-score are ill-defined and being set to 0.0 in labels with no true samples. Use `zero_division` parameter to control this behavior.\n",
      "  _warn_prf(average, modifier, msg_start, len(result))\n"
     ]
    }
   ],
   "source": [
    "print(metrics.classification_report(known, predicted))"
   ]
  },
  {
   "cell_type": "markdown",
   "id": "d4403af1-0c4c-45f7-807b-f7e059e265fa",
   "metadata": {},
   "source": [
    "What do mistakes looks like?"
   ]
  },
  {
   "cell_type": "code",
   "execution_count": 196,
   "id": "6434f54b-385f-4dd6-9d82-c21b221c43c7",
   "metadata": {},
   "outputs": [
    {
     "data": {
      "text/plain": [
       "[0, 17, 18, 19, 55, 56, 57, 58, 59, 96, 97, 98, 99]"
      ]
     },
     "execution_count": 196,
     "metadata": {},
     "output_type": "execute_result"
    }
   ],
   "source": [
    "misses = [i for i, v in enumerate(known) if v != predicted[i]]\n",
    "misses"
   ]
  },
  {
   "cell_type": "code",
   "execution_count": 197,
   "id": "c691c6fe-6b2a-489a-a8b9-68e5c823f179",
   "metadata": {},
   "outputs": [
    {
     "data": {
      "text/html": [
       "<div>\n",
       "<style scoped>\n",
       "    .dataframe tbody tr th:only-of-type {\n",
       "        vertical-align: middle;\n",
       "    }\n",
       "\n",
       "    .dataframe tbody tr th {\n",
       "        vertical-align: top;\n",
       "    }\n",
       "\n",
       "    .dataframe thead th {\n",
       "        text-align: right;\n",
       "    }\n",
       "</style>\n",
       "<table border=\"1\" class=\"dataframe\">\n",
       "  <thead>\n",
       "    <tr style=\"text-align: right;\">\n",
       "      <th></th>\n",
       "      <th>title</th>\n",
       "      <th>category</th>\n",
       "      <th>new_category</th>\n",
       "    </tr>\n",
       "  </thead>\n",
       "  <tbody>\n",
       "    <tr>\n",
       "      <th>0</th>\n",
       "      <td>India widens access to telecoms</td>\n",
       "      <td>business</td>\n",
       "      <td>tech</td>\n",
       "    </tr>\n",
       "    <tr>\n",
       "      <th>17</th>\n",
       "      <td>Court rejects $280bn tobacco case</td>\n",
       "      <td>business</td>\n",
       "      <td>politics</td>\n",
       "    </tr>\n",
       "    <tr>\n",
       "      <th>18</th>\n",
       "      <td>Telegraph newspapers axe 90 jobs</td>\n",
       "      <td>business</td>\n",
       "      <td>entertainment</td>\n",
       "    </tr>\n",
       "    <tr>\n",
       "      <th>19</th>\n",
       "      <td>Air passengers win new EU rights</td>\n",
       "      <td>business</td>\n",
       "      <td>entertainment</td>\n",
       "    </tr>\n",
       "    <tr>\n",
       "      <th>55</th>\n",
       "      <td>Concerns at school diploma plan</td>\n",
       "      <td>politics</td>\n",
       "      <td>education</td>\n",
       "    </tr>\n",
       "    <tr>\n",
       "      <th>56</th>\n",
       "      <td>Crisis 'ahead in social sciences'</td>\n",
       "      <td>politics</td>\n",
       "      <td>entertainment</td>\n",
       "    </tr>\n",
       "    <tr>\n",
       "      <th>57</th>\n",
       "      <td>Drink remark 'acts as diversion'</td>\n",
       "      <td>politics</td>\n",
       "      <td>entertainment</td>\n",
       "    </tr>\n",
       "    <tr>\n",
       "      <th>58</th>\n",
       "      <td>Crucial decision on super-casinos</td>\n",
       "      <td>politics</td>\n",
       "      <td>entertainment</td>\n",
       "    </tr>\n",
       "    <tr>\n",
       "      <th>59</th>\n",
       "      <td>'Errors' doomed first Dome sale</td>\n",
       "      <td>politics</td>\n",
       "      <td>entertainment</td>\n",
       "    </tr>\n",
       "    <tr>\n",
       "      <th>96</th>\n",
       "      <td>UK net users leading TV downloads</td>\n",
       "      <td>tech</td>\n",
       "      <td>entertainment</td>\n",
       "    </tr>\n",
       "    <tr>\n",
       "      <th>97</th>\n",
       "      <td>UK pioneers digital film network</td>\n",
       "      <td>tech</td>\n",
       "      <td>entertainment</td>\n",
       "    </tr>\n",
       "    <tr>\n",
       "      <th>98</th>\n",
       "      <td>Global blogger action day called</td>\n",
       "      <td>tech</td>\n",
       "      <td>entertainment</td>\n",
       "    </tr>\n",
       "    <tr>\n",
       "      <th>99</th>\n",
       "      <td>Finding new homes for old phones</td>\n",
       "      <td>tech</td>\n",
       "      <td>tech\\n\\nText: New Zealand quake toll rises\\nC...</td>\n",
       "    </tr>\n",
       "  </tbody>\n",
       "</table>\n",
       "</div>"
      ],
      "text/plain": [
       "                                title  category  \\\n",
       "0     India widens access to telecoms  business   \n",
       "17  Court rejects $280bn tobacco case  business   \n",
       "18   Telegraph newspapers axe 90 jobs  business   \n",
       "19   Air passengers win new EU rights  business   \n",
       "55    Concerns at school diploma plan  politics   \n",
       "56  Crisis 'ahead in social sciences'  politics   \n",
       "57   Drink remark 'acts as diversion'  politics   \n",
       "58  Crucial decision on super-casinos  politics   \n",
       "59    'Errors' doomed first Dome sale  politics   \n",
       "96  UK net users leading TV downloads      tech   \n",
       "97   UK pioneers digital film network      tech   \n",
       "98   Global blogger action day called      tech   \n",
       "99   Finding new homes for old phones      tech   \n",
       "\n",
       "                                         new_category  \n",
       "0                                                tech  \n",
       "17                                           politics  \n",
       "18                                      entertainment  \n",
       "19                                      entertainment  \n",
       "55                                          education  \n",
       "56                                      entertainment  \n",
       "57                                      entertainment  \n",
       "58                                      entertainment  \n",
       "59                                      entertainment  \n",
       "96                                      entertainment  \n",
       "97                                      entertainment  \n",
       "98                                      entertainment  \n",
       "99   tech\\n\\nText: New Zealand quake toll rises\\nC...  "
      ]
     },
     "execution_count": 197,
     "metadata": {},
     "output_type": "execute_result"
    }
   ],
   "source": [
    "results[['title', 'category', 'new_category']].iloc[misses]"
   ]
  },
  {
   "cell_type": "markdown",
   "id": "9be029b4-32e2-4225-a364-1d23d5f039f4",
   "metadata": {},
   "source": [
    "---\n",
    "## Generative AI With BQML: Prompts That Use Groups Of Rows\n",
    "\n",
    "In the \"Construct Few-Shot Prompt From Sample\" section above, multiple rows were combined into a single prompt.  This section examines using SQL statements to prepare prompts for `ML.GENERATE_TEXT` by grouping and combining rows\n",
    "\n",
    "For each `category` in the sample use `ML.GENERATE_TEXT` to generate a summary of topic covered across the list of article titles (`title`).  This means `GROUP BY category` and combine all the `title` values in the groups using `STRING_AGG`.  The `CONCAT` function will be use to format the text of the prompt.\n",
    "\n",
    "Key Parts Of The Query:\n",
    "- [CONCAT](https://cloud.google.com/bigquery/docs/reference/standard-sql/string_functions#concat)\n",
    "- [STRING_AGG](https://cloud.google.com/bigquery/docs/reference/standard-sql/aggregate_functions#string_agg)\n",
    "- [GROUP BY](https://cloud.google.com/bigquery/docs/reference/standard-sql/query-syntax#group_by_clause)"
   ]
  },
  {
   "cell_type": "code",
   "execution_count": null,
   "id": "c53aca1a-5997-4363-85e2-f1f8a02e0d13",
   "metadata": {},
   "outputs": [],
   "source": []
  },
  {
   "cell_type": "code",
   "execution_count": null,
   "id": "e6d3e424-0254-4e42-af7d-040c382e9d82",
   "metadata": {},
   "outputs": [],
   "source": []
  }
 ],
 "metadata": {
  "environment": {
   "kernel": "python3",
   "name": "tf2-gpu.2-12.m110",
   "type": "gcloud",
   "uri": "gcr.io/deeplearning-platform-release/tf2-gpu.2-12:m110"
  },
  "kernelspec": {
   "display_name": "Python 3",
   "language": "python",
   "name": "python3"
  },
  "language_info": {
   "codemirror_mode": {
    "name": "ipython",
    "version": 3
   },
   "file_extension": ".py",
   "mimetype": "text/x-python",
   "name": "python",
   "nbconvert_exporter": "python",
   "pygments_lexer": "ipython3",
   "version": "3.10.12"
  }
 },
 "nbformat": 4,
 "nbformat_minor": 5
}
