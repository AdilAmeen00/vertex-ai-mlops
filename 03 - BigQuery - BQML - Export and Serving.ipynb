{
 "cells": [
  {
   "cell_type": "markdown",
   "id": "stupid-directory",
   "metadata": {},
   "source": [
    "# BigQuery - BQML - Export and Serving"
   ]
  },
  {
   "cell_type": "markdown",
   "id": "polish-shock",
   "metadata": {},
   "source": [
    "Setup Parameters For Model Deployment"
   ]
  },
  {
   "cell_type": "code",
   "execution_count": 113,
   "id": "mathematical-banks",
   "metadata": {},
   "outputs": [],
   "source": [
    "MODEL_NAME='BQML-DIGITS'\n",
    "ENDPOINT_NAME='DIGITS'\n",
    "MODEL_DIR='gs://statmike-models/digits/bqml'\n",
    "FRAMEWORK='TENSORFLOW'\n",
    "params = {\"MODEL_DIR\":MODEL_DIR}\n",
    "REGION='us-central1'\n",
    "CONTAINER_URI='us-docker.pkg.dev/cloud-aiplatform/prediction/tf2-cpu.2-2:latest'"
   ]
  },
  {
   "cell_type": "markdown",
   "id": "insured-junior",
   "metadata": {},
   "source": [
    "Export the BigQuery Model:\n",
    "- https://cloud.google.com/bigquery-ml/docs/exporting-models"
   ]
  },
  {
   "cell_type": "code",
   "execution_count": 85,
   "id": "former-gentleman",
   "metadata": {},
   "outputs": [
    {
     "data": {
      "text/html": [
       "<div>\n",
       "<style scoped>\n",
       "    .dataframe tbody tr th:only-of-type {\n",
       "        vertical-align: middle;\n",
       "    }\n",
       "\n",
       "    .dataframe tbody tr th {\n",
       "        vertical-align: top;\n",
       "    }\n",
       "\n",
       "    .dataframe thead th {\n",
       "        text-align: right;\n",
       "    }\n",
       "</style>\n",
       "<table border=\"1\" class=\"dataframe\">\n",
       "  <thead>\n",
       "    <tr style=\"text-align: right;\">\n",
       "      <th></th>\n",
       "    </tr>\n",
       "  </thead>\n",
       "  <tbody>\n",
       "  </tbody>\n",
       "</table>\n",
       "</div>"
      ],
      "text/plain": [
       "Empty DataFrame\n",
       "Columns: []\n",
       "Index: []"
      ]
     },
     "execution_count": 85,
     "metadata": {},
     "output_type": "execute_result"
    }
   ],
   "source": [
    "%%bigquery --params $params\n",
    "EXPORT MODEL `statmike-mlops.digits.digits_lr`\n",
    "OPTIONS(URI = @MODEL_DIR)"
   ]
  },
  {
   "cell_type": "markdown",
   "id": "killing-admission",
   "metadata": {},
   "source": [
    "This is a custom model.  We are importing it to AI Platform (Unified).  This is a good starting point:\n",
    "- https://cloud.google.com/ai-platform-unified/docs/predictions/importing-custom-trained-model"
   ]
  },
  {
   "cell_type": "markdown",
   "id": "standing-dream",
   "metadata": {},
   "source": [
    "Import the Model:\n",
    "- https://cloud.google.com/ai-platform-unified/docs/predictions/importing-custom-trained-model#import_a_model_programmatically\n",
    "- region of bucket and model must be the same"
   ]
  },
  {
   "cell_type": "code",
   "execution_count": 108,
   "id": "endangered-ukraine",
   "metadata": {},
   "outputs": [
    {
     "name": "stdout",
     "output_type": "stream",
     "text": [
      "Using endpoint [https://us-central1-aiplatform.googleapis.com/]\n",
      "Waiting for operation [5754222635709890560]...done.                            \n"
     ]
    }
   ],
   "source": [
    "!gcloud beta ai models upload --region=$REGION --display-name=$MODEL_NAME --container-image-uri=$CONTAINER_URI --artifact-uri=$MODEL_DIR"
   ]
  },
  {
   "cell_type": "code",
   "execution_count": 110,
   "id": "sixth-stretch",
   "metadata": {},
   "outputs": [
    {
     "name": "stdout",
     "output_type": "stream",
     "text": [
      "Using endpoint [https://us-central1-aiplatform.googleapis.com/]\n",
      "---\n",
      "artifactUri: gs://statmike-models/digits/bqml\n",
      "containerSpec:\n",
      "  imageUri: us-docker.pkg.dev/cloud-aiplatform/prediction/tf2-cpu.2-2:latest\n",
      "createTime: '2021-04-02T12:06:20.360877Z'\n",
      "displayName: BQML-DIGITS\n",
      "etag: AMEw9yM1kSWkg3E0aqT8GFxjdUKhmgMOteYFbx6AOYfnQ7VVi6rjIGItKTmN_sO0sio=\n",
      "name: projects/691911073727/locations/us-central1/models/3796763184291905536\n",
      "predictSchemata: {}\n",
      "supportedDeploymentResourcesTypes:\n",
      "- DEDICATED_RESOURCES\n",
      "supportedExportFormats:\n",
      "- exportableContents:\n",
      "  - ARTIFACT\n",
      "  id: custom-trained\n",
      "supportedInputStorageFormats:\n",
      "- jsonl\n",
      "- csv\n",
      "- tf-record\n",
      "- tf-record-gzip\n",
      "- file-list\n",
      "supportedOutputStorageFormats:\n",
      "- jsonl\n",
      "updateTime: '2021-04-02T12:06:36.018533Z'\n"
     ]
    }
   ],
   "source": [
    "!gcloud beta ai models list --region=$REGION --filter=display_name=$MODEL_NAME"
   ]
  },
  {
   "cell_type": "code",
   "execution_count": 118,
   "id": "sealed-regular",
   "metadata": {},
   "outputs": [],
   "source": [
    "MODEL_ID=3796763184291905536"
   ]
  },
  {
   "cell_type": "markdown",
   "id": "concerned-northern",
   "metadata": {},
   "source": [
    "Deploy the Model:\n",
    "    - https://cloud.google.com/ai-platform-unified/docs/predictions/deploy-model-api"
   ]
  },
  {
   "cell_type": "code",
   "execution_count": 114,
   "id": "valid-geology",
   "metadata": {},
   "outputs": [
    {
     "name": "stdout",
     "output_type": "stream",
     "text": [
      "Using endpoint [https://us-central1-aiplatform.googleapis.com/]\n",
      "Waiting for operation [3011530462641258496]...done.                            \n",
      "Created AI Platform endpoint: projects/691911073727/locations/us-central1/endpoints/9120088312588009472.\n"
     ]
    }
   ],
   "source": [
    "!gcloud beta ai endpoints create --region=$REGION --display-name=$ENDPOINT_NAME"
   ]
  },
  {
   "cell_type": "code",
   "execution_count": 115,
   "id": "boolean-valuation",
   "metadata": {},
   "outputs": [
    {
     "name": "stdout",
     "output_type": "stream",
     "text": [
      "Using endpoint [https://us-central1-aiplatform.googleapis.com/]\n",
      "ENDPOINT_ID          DISPLAY_NAME\n",
      "9120088312588009472  DIGITS\n"
     ]
    }
   ],
   "source": [
    "!gcloud beta ai endpoints list --region=$REGION --filter=display_name=$ENDPOINT_NAME"
   ]
  },
  {
   "cell_type": "code",
   "execution_count": 119,
   "id": "fatty-planning",
   "metadata": {},
   "outputs": [],
   "source": [
    "ENDPOINT_ID=9120088312588009472"
   ]
  },
  {
   "cell_type": "code",
   "execution_count": 120,
   "id": "exclusive-communist",
   "metadata": {},
   "outputs": [
    {
     "name": "stdout",
     "output_type": "stream",
     "text": [
      "Using endpoint [https://us-central1-aiplatform.googleapis.com/]\n",
      "Waiting for operation [2011731345365008384]...done.                            \n",
      "Deployed a model to the endpoint 9120088312588009472. Id of the deployed model: 5470343027069288448.\n"
     ]
    }
   ],
   "source": [
    "!gcloud beta ai endpoints deploy-model $ENDPOINT_ID --region=$REGION --model=$MODEL_ID --display-name=$MODEL_NAME --traffic-split=0=100"
   ]
  },
  {
   "cell_type": "code",
   "execution_count": 121,
   "id": "capable-disclosure",
   "metadata": {},
   "outputs": [],
   "source": [
    "DMODEL_ID=5470343027069288448"
   ]
  },
  {
   "cell_type": "markdown",
   "id": "competent-fleece",
   "metadata": {},
   "source": [
    "Get an online prediction:\n",
    "- https://cloud.google.com/ai-platform-unified/docs/predictions/online-predictions-custom-models#online_predict_custom_trained-python"
   ]
  },
  {
   "cell_type": "code",
   "execution_count": 126,
   "id": "foster-morris",
   "metadata": {},
   "outputs": [],
   "source": [
    "%%bigquery pred\n",
    "SELECT *\n",
    "FROM ML.PREDICT(MODEL `statmike-mlops.digits.digits_lr`,(\n",
    "    SELECT *\n",
    "    FROM `statmike-mlops.digits.digits_prepped`)\n",
    "  )"
   ]
  },
  {
   "cell_type": "code",
   "execution_count": 139,
   "id": "meaningful-dressing",
   "metadata": {},
   "outputs": [
    {
     "data": {
      "text/plain": [
       "{'instances': [{'p0': 0.0,\n",
       "   'p1': 0.0,\n",
       "   'p2': 0.0,\n",
       "   'p3': 9.0,\n",
       "   'p4': 14.0,\n",
       "   'p5': 6.0,\n",
       "   'p6': 0.0,\n",
       "   'p7': 0.0,\n",
       "   'p8': 0.0,\n",
       "   'p9': 0.0,\n",
       "   'p10': 10.0,\n",
       "   'p11': 13.0,\n",
       "   'p12': 4.0,\n",
       "   'p13': 13.0,\n",
       "   'p14': 2.0,\n",
       "   'p15': 0.0,\n",
       "   'p16': 0.0,\n",
       "   'p17': 2.0,\n",
       "   'p18': 14.0,\n",
       "   'p19': 0.0,\n",
       "   'p20': 0.0,\n",
       "   'p21': 10.0,\n",
       "   'p22': 6.0,\n",
       "   'p23': 0.0,\n",
       "   'p24': 0.0,\n",
       "   'p25': 4.0,\n",
       "   'p26': 9.0,\n",
       "   'p27': 0.0,\n",
       "   'p28': 0.0,\n",
       "   'p29': 6.0,\n",
       "   'p30': 8.0,\n",
       "   'p31': 0.0,\n",
       "   'p32': 0.0,\n",
       "   'p33': 5.0,\n",
       "   'p34': 8.0,\n",
       "   'p35': 0.0,\n",
       "   'p36': 0.0,\n",
       "   'p37': 8.0,\n",
       "   'p38': 7.0,\n",
       "   'p39': 0.0,\n",
       "   'p40': 0.0,\n",
       "   'p41': 2.0,\n",
       "   'p42': 11.0,\n",
       "   'p43': 1.0,\n",
       "   'p44': 0.0,\n",
       "   'p45': 9.0,\n",
       "   'p46': 5.0,\n",
       "   'p47': 0.0,\n",
       "   'p48': 0.0,\n",
       "   'p49': 0.0,\n",
       "   'p50': 6.0,\n",
       "   'p51': 11.0,\n",
       "   'p52': 4.0,\n",
       "   'p53': 13.0,\n",
       "   'p54': 3.0,\n",
       "   'p55': 0.0,\n",
       "   'p56': 0.0,\n",
       "   'p57': 0.0,\n",
       "   'p58': 1.0,\n",
       "   'p59': 11.0,\n",
       "   'p60': 16.0,\n",
       "   'p61': 12.0,\n",
       "   'p62': 0.0,\n",
       "   'p63': 0.0}]}"
      ]
     },
     "execution_count": 139,
     "metadata": {},
     "output_type": "execute_result"
    }
   ],
   "source": [
    "newob = pred.loc[:0,'p0':'p63'].to_dict(orient='records')\n",
    "newob = {'instances':newob}\n",
    "newob"
   ]
  },
  {
   "cell_type": "code",
   "execution_count": 141,
   "id": "acute-nylon",
   "metadata": {},
   "outputs": [],
   "source": [
    "import json\n",
    "with open('newob.json','w') as f:\n",
    "    json.dump(newob,f)"
   ]
  },
  {
   "cell_type": "code",
   "execution_count": 142,
   "id": "authorized-federal",
   "metadata": {},
   "outputs": [
    {
     "name": "stdout",
     "output_type": "stream",
     "text": [
      "Using endpoint [https://us-central1-prediction-aiplatform.googleapis.com/]\n",
      "[{'predicted_target': ['0'], 'target_probs': [0.02363371530789796, 0.003446720128738627, 0.001599293545129464, 0.0007580118000224823, 2.437671616048318e-05, 0.001326708643650751, 0.0004530015313821015, 0.002578678260762049, 0.0009653040951390625, 0.965214189971117], 'target_values': ['6', '9', '4', '8', '1', '5', '3', '2', '7', '0']}]\n"
     ]
    }
   ],
   "source": [
    "!gcloud beta ai endpoints predict $ENDPOINT_ID --region=$REGION --json-request=newob.json"
   ]
  },
  {
   "cell_type": "code",
   "execution_count": 148,
   "id": "dedicated-planning",
   "metadata": {},
   "outputs": [],
   "source": [
    "import subprocess\n",
    "prediction = subprocess.getoutput('gcloud beta ai endpoints predict '+str(ENDPOINT_ID)+' --region='+REGION+' --json-request=newob.json')"
   ]
  },
  {
   "cell_type": "code",
   "execution_count": 149,
   "id": "aging-familiar",
   "metadata": {},
   "outputs": [
    {
     "data": {
      "text/plain": [
       "\"Using endpoint [https://us-central1-prediction-aiplatform.googleapis.com/]\\n[{'predicted_target': ['0'], 'target_probs': [0.02363371530789796, 0.003446720128738627, 0.001599293545129464, 0.0007580118000224823, 2.437671616048318e-05, 0.001326708643650751, 0.0004530015313821015, 0.002578678260762049, 0.0009653040951390625, 0.965214189971117], 'target_values': ['6', '9', '4', '8', '1', '5', '3', '2', '7', '0']}]\""
      ]
     },
     "execution_count": 149,
     "metadata": {},
     "output_type": "execute_result"
    }
   ],
   "source": [
    "prediction"
   ]
  },
  {
   "cell_type": "code",
   "execution_count": 151,
   "id": "adjusted-chance",
   "metadata": {},
   "outputs": [
    {
     "data": {
      "text/plain": [
       "{'predicted_target': ['0'],\n",
       " 'target_probs': [0.02363371530789796,\n",
       "  0.003446720128738627,\n",
       "  0.001599293545129464,\n",
       "  0.0007580118000224823,\n",
       "  2.437671616048318e-05,\n",
       "  0.001326708643650751,\n",
       "  0.0004530015313821015,\n",
       "  0.002578678260762049,\n",
       "  0.0009653040951390625,\n",
       "  0.965214189971117],\n",
       " 'target_values': ['6', '9', '4', '8', '1', '5', '3', '2', '7', '0']}"
      ]
     },
     "execution_count": 151,
     "metadata": {},
     "output_type": "execute_result"
    }
   ],
   "source": [
    "import re\n",
    "import ast\n",
    "pred = ast.literal_eval(re.search('({.+})',prediction).group(0))\n",
    "pred"
   ]
  },
  {
   "cell_type": "markdown",
   "id": "interstate-walter",
   "metadata": {},
   "source": [
    "# Remove Resources\n",
    "- undeploy-model\n",
    "- remove endpoint\n",
    "- remove model"
   ]
  },
  {
   "cell_type": "code",
   "execution_count": 160,
   "id": "ranking-allocation",
   "metadata": {},
   "outputs": [
    {
     "name": "stdout",
     "output_type": "stream",
     "text": [
      "Using endpoint [https://us-central1-aiplatform.googleapis.com/]\n",
      "createTime: '2021-04-02T12:10:45.394681Z'\n",
      "displayName: DIGITS\n",
      "etag: AMEw9yMcTPcNAhfyf1iF_g8oFT7vF4BBNt-yYKU0vgRSEXSbP4af79ZijhV-JctILMs=\n",
      "name: projects/691911073727/locations/us-central1/endpoints/9120088312588009472\n",
      "updateTime: '2021-04-02T13:08:43.180916Z'\n"
     ]
    }
   ],
   "source": [
    "!gcloud beta ai endpoints describe $ENDPOINT_ID --region=$REGION"
   ]
  },
  {
   "cell_type": "code",
   "execution_count": 153,
   "id": "organized-philippines",
   "metadata": {},
   "outputs": [
    {
     "name": "stdout",
     "output_type": "stream",
     "text": [
      "Using endpoint [https://us-central1-aiplatform.googleapis.com/]\n"
     ]
    }
   ],
   "source": [
    "!gcloud beta ai endpoints undeploy-model $ENDPOINT_ID --region=$REGION --deployed-model-id=$DMODEL_ID"
   ]
  },
  {
   "cell_type": "code",
   "execution_count": 165,
   "id": "heard-marshall",
   "metadata": {},
   "outputs": [
    {
     "name": "stdout",
     "output_type": "stream",
     "text": [
      "Using endpoint [https://us-central1-aiplatform.googleapis.com/]\n",
      "This will delete endpoint [9120088312588009472]...\n",
      "\n",
      "Do you want to continue (Y/n)?  \n"
     ]
    }
   ],
   "source": [
    "!echo \"Y\" | gcloud beta ai endpoints delete $ENDPOINT_ID --region=$REGION"
   ]
  },
  {
   "cell_type": "code",
   "execution_count": 166,
   "id": "square-report",
   "metadata": {},
   "outputs": [
    {
     "name": "stdout",
     "output_type": "stream",
     "text": [
      "Using endpoint [https://us-central1-aiplatform.googleapis.com/]\n"
     ]
    }
   ],
   "source": [
    "!gcloud beta ai models delete $MODEL_ID --region=$REGION"
   ]
  },
  {
   "cell_type": "code",
   "execution_count": 167,
   "id": "inclusive-experience",
   "metadata": {},
   "outputs": [
    {
     "name": "stdout",
     "output_type": "stream",
     "text": [
      "Removing gs://statmike-models/digits/bqml/#1617362257495261...\n",
      "Removing gs://statmike-models/digits/bqml/saved_model.pb#1617362258134061...    \n",
      "Removing gs://statmike-models/digits/bqml/variables/#1617362258019580...        \n",
      "Removing gs://statmike-models/digits/bqml/variables/variables.data-00000-of-00001#1617362258266353...\n",
      "/ [4 objects]                                                                   \n",
      "==> NOTE: You are performing a sequence of gsutil operations that may\n",
      "run significantly faster if you instead use gsutil -m rm ... Please\n",
      "see the -m section under \"gsutil help options\" for further information\n",
      "about when gsutil -m can be advantageous.\n",
      "\n",
      "Removing gs://statmike-models/digits/bqml/variables/variables.index#1617362258370588...\n",
      "/ [5 objects]                                                                   \n",
      "Operation completed over 5 objects.                                              \n"
     ]
    }
   ],
   "source": [
    "!gsutil rm -r $MODEL_DIR"
   ]
  }
 ],
 "metadata": {
  "environment": {
   "name": "tf2-gpu.2-4.m65",
   "type": "gcloud",
   "uri": "gcr.io/deeplearning-platform-release/tf2-gpu.2-4:m65"
  },
  "kernelspec": {
   "display_name": "Python 3",
   "language": "python",
   "name": "python3"
  },
  "language_info": {
   "codemirror_mode": {
    "name": "ipython",
    "version": 3
   },
   "file_extension": ".py",
   "mimetype": "text/x-python",
   "name": "python",
   "nbconvert_exporter": "python",
   "pygments_lexer": "ipython3",
   "version": "3.7.10"
  }
 },
 "nbformat": 4,
 "nbformat_minor": 5
}
