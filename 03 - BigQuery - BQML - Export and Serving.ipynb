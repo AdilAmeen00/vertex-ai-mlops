{
 "cells": [
  {
   "cell_type": "markdown",
   "id": "explicit-violence",
   "metadata": {},
   "source": [
    "# BigQuery - BQML - Export and Serving"
   ]
  },
  {
   "cell_type": "code",
   "execution_count": 22,
   "id": "suspended-reservation",
   "metadata": {},
   "outputs": [
    {
     "data": {
      "text/html": [
       "<div>\n",
       "<style scoped>\n",
       "    .dataframe tbody tr th:only-of-type {\n",
       "        vertical-align: middle;\n",
       "    }\n",
       "\n",
       "    .dataframe tbody tr th {\n",
       "        vertical-align: top;\n",
       "    }\n",
       "\n",
       "    .dataframe thead th {\n",
       "        text-align: right;\n",
       "    }\n",
       "</style>\n",
       "<table border=\"1\" class=\"dataframe\">\n",
       "  <thead>\n",
       "    <tr style=\"text-align: right;\">\n",
       "      <th></th>\n",
       "    </tr>\n",
       "  </thead>\n",
       "  <tbody>\n",
       "  </tbody>\n",
       "</table>\n",
       "</div>"
      ],
      "text/plain": [
       "Empty DataFrame\n",
       "Columns: []\n",
       "Index: []"
      ]
     },
     "execution_count": 22,
     "metadata": {},
     "output_type": "execute_result"
    }
   ],
   "source": [
    "%%bigquery\n",
    "EXPORT MODEL `statmike-mlops.digits.digits_lr`\n",
    "OPTIONS(URI = 'gs://statmike-models/digits/bqml')"
   ]
  },
  {
   "cell_type": "code",
   "execution_count": 23,
   "id": "hispanic-dinner",
   "metadata": {},
   "outputs": [],
   "source": [
    "MODEL_NAME='DIGIT_MODEL'\n",
    "MODEL_DIR='gs://statmike-models/digits/bqml'\n",
    "MODEL_VERSION='BQML_LR'\n",
    "FRAMEWORK='TENSORFLOW'"
   ]
  },
  {
   "cell_type": "markdown",
   "id": "expensive-shock",
   "metadata": {},
   "source": [
    "This is a custom model.  We are importing it to AI Platform (Unified).  This is a good starting point:\n",
    "- https://cloud.google.com/ai-platform-unified/docs/predictions/importing-custom-trained-model"
   ]
  },
  {
   "cell_type": "markdown",
   "id": "close-thousand",
   "metadata": {},
   "source": [
    "Import the Model:\n",
    "- https://cloud.google.com/ai-platform-unified/docs/predictions/importing-custom-trained-model#import_a_model_programmatically\n",
    "- region of bucket and model must be the same"
   ]
  },
  {
   "cell_type": "code",
   "execution_count": 24,
   "id": "complex-representative",
   "metadata": {},
   "outputs": [
    {
     "name": "stderr",
     "output_type": "stream",
     "text": [
      "Using endpoint [https://us-central1-aiplatform.googleapis.com/]\n",
      "Waiting for operation [8829706192180740096]...\n",
      ".......................................................................................................................................done.\n"
     ]
    }
   ],
   "source": [
    "%%bash\n",
    "gcloud beta ai models upload --region=us-central1 --display-name=BQML-Digits --container-image-uri='us-docker.pkg.dev/cloud-aiplatform/prediction/tf2-cpu.2-2:latest' --artifact-uri='gs://statmike-models/digits/bqml'"
   ]
  },
  {
   "cell_type": "markdown",
   "id": "disturbed-quilt",
   "metadata": {},
   "source": [
    "Deploy the Model:\n",
    "    - https://cloud.google.com/ai-platform-unified/docs/predictions/deploy-model-api"
   ]
  },
  {
   "cell_type": "code",
   "execution_count": 25,
   "id": "outer-alarm",
   "metadata": {},
   "outputs": [
    {
     "name": "stderr",
     "output_type": "stream",
     "text": [
      "Using endpoint [https://us-central1-aiplatform.googleapis.com/]\n",
      "Waiting for operation [1040730636643467264]...\n",
      "........................................................................................................................................done.\n",
      "Created AI Platform endpoint: projects/691911073727/locations/us-central1/endpoints/7050965758787977216.\n"
     ]
    }
   ],
   "source": [
    "%%bash\n",
    "gcloud beta ai endpoints create --region=us-central1 --display-name=digits"
   ]
  },
  {
   "cell_type": "code",
   "execution_count": 28,
   "id": "known-stanford",
   "metadata": {},
   "outputs": [
    {
     "name": "stdout",
     "output_type": "stream",
     "text": [
      "Using endpoint [https://us-central1-aiplatform.googleapis.com/]\n",
      "ENDPOINT_ID          DISPLAY_NAME\n",
      "7050965758787977216  digits\n"
     ]
    }
   ],
   "source": [
    "!gcloud beta ai endpoints list --region=us-central1 --filter=display_name=digits"
   ]
  },
  {
   "cell_type": "code",
   "execution_count": 31,
   "id": "complex-favor",
   "metadata": {},
   "outputs": [
    {
     "name": "stdout",
     "output_type": "stream",
     "text": [
      "Using endpoint [https://us-central1-aiplatform.googleapis.com/]\n",
      "---\n",
      "artifactUri: gs://statmike-models/digits/bqml\n",
      "containerSpec:\n",
      "  imageUri: us-docker.pkg.dev/cloud-aiplatform/prediction/tf2-cpu.2-2:latest\n",
      "createTime: '2021-04-01T23:56:52.847600Z'\n",
      "displayName: BQML-Digits\n",
      "etag: AMEw9yNzx8Zf-6jeftzU7Eo8hdHZCysFBCV5GI6Js-Qtur16mzyVsTvj1qLx6-l9ZfA=\n",
      "name: projects/691911073727/locations/us-central1/models/5751325422570700800\n",
      "predictSchemata: {}\n",
      "supportedDeploymentResourcesTypes:\n",
      "- DEDICATED_RESOURCES\n",
      "supportedExportFormats:\n",
      "- exportableContents:\n",
      "  - ARTIFACT\n",
      "  id: custom-trained\n",
      "supportedInputStorageFormats:\n",
      "- jsonl\n",
      "- csv\n",
      "- tf-record\n",
      "- tf-record-gzip\n",
      "- file-list\n",
      "supportedOutputStorageFormats:\n",
      "- jsonl\n",
      "updateTime: '2021-04-01T23:57:16.157314Z'\n"
     ]
    }
   ],
   "source": [
    "!gcloud beta ai models list --region=us-central1 --filter=display_name=BQML-Digits"
   ]
  },
  {
   "cell_type": "code",
   "execution_count": 32,
   "id": "rolled-winner",
   "metadata": {},
   "outputs": [
    {
     "name": "stdout",
     "output_type": "stream",
     "text": [
      "Using endpoint [https://us-central1-aiplatform.googleapis.com/]\n",
      "Waiting for operation [6776064762099793920]...done.                            \n",
      "Deployed a model to the endpoint 7050965758787977216. Id of the deployed model: 9105310876310700032.\n"
     ]
    }
   ],
   "source": [
    "!gcloud beta ai endpoints deploy-model 7050965758787977216 --region=us-central1 --model=5751325422570700800 --display-name=BQML-Digits"
   ]
  },
  {
   "cell_type": "markdown",
   "id": "median-guess",
   "metadata": {},
   "source": [
    "Get an online prediction:\n",
    "- https://cloud.google.com/ai-platform-unified/docs/predictions/online-predictions-custom-models#online_predict_custom_trained-python"
   ]
  },
  {
   "cell_type": "code",
   "execution_count": 46,
   "id": "wrong-financing",
   "metadata": {},
   "outputs": [
    {
     "ename": "ModuleNotFoundError",
     "evalue": "No module named 'google.cloud.aiplatform'",
     "output_type": "error",
     "traceback": [
      "\u001b[0;31m---------------------------------------------------------------------------\u001b[0m",
      "\u001b[0;31mModuleNotFoundError\u001b[0m                       Traceback (most recent call last)",
      "\u001b[0;32m<ipython-input-46-33c0c157e173>\u001b[0m in \u001b[0;36m<module>\u001b[0;34m\u001b[0m\n\u001b[1;32m      1\u001b[0m \u001b[0;32mfrom\u001b[0m \u001b[0mtyping\u001b[0m \u001b[0;32mimport\u001b[0m \u001b[0mDict\u001b[0m\u001b[0;34m\u001b[0m\u001b[0;34m\u001b[0m\u001b[0m\n\u001b[1;32m      2\u001b[0m \u001b[0;34m\u001b[0m\u001b[0m\n\u001b[0;32m----> 3\u001b[0;31m \u001b[0;32mfrom\u001b[0m \u001b[0mgoogle\u001b[0m\u001b[0;34m.\u001b[0m\u001b[0mcloud\u001b[0m\u001b[0;34m.\u001b[0m\u001b[0maiplatform\u001b[0m \u001b[0;32mimport\u001b[0m \u001b[0mgapic\u001b[0m\u001b[0;34m\u001b[0m\u001b[0;34m\u001b[0m\u001b[0m\n\u001b[0m\u001b[1;32m      4\u001b[0m \u001b[0;32mfrom\u001b[0m \u001b[0mgoogle\u001b[0m\u001b[0;34m.\u001b[0m\u001b[0mprotobuf\u001b[0m \u001b[0;32mimport\u001b[0m \u001b[0mjson_format\u001b[0m\u001b[0;34m\u001b[0m\u001b[0;34m\u001b[0m\u001b[0m\n\u001b[1;32m      5\u001b[0m \u001b[0;32mfrom\u001b[0m \u001b[0mgoogle\u001b[0m\u001b[0;34m.\u001b[0m\u001b[0mprotobuf\u001b[0m\u001b[0;34m.\u001b[0m\u001b[0mstruct_pb2\u001b[0m \u001b[0;32mimport\u001b[0m \u001b[0mValue\u001b[0m\u001b[0;34m\u001b[0m\u001b[0;34m\u001b[0m\u001b[0m\n",
      "\u001b[0;31mModuleNotFoundError\u001b[0m: No module named 'google.cloud.aiplatform'"
     ]
    }
   ],
   "source": [
    "from typing import Dict\n",
    "\n",
    "from google.cloud.aiplatform import gapic\n",
    "from google.protobuf import json_format\n",
    "from google.protobuf.struct_pb2 import Value"
   ]
  },
  {
   "cell_type": "code",
   "execution_count": 33,
   "id": "constitutional-deficit",
   "metadata": {},
   "outputs": [
    {
     "ename": "ImportError",
     "evalue": "cannot import name 'aiplatform' from 'google.cloud' (unknown location)",
     "output_type": "error",
     "traceback": [
      "\u001b[0;31m---------------------------------------------------------------------------\u001b[0m",
      "\u001b[0;31mImportError\u001b[0m                               Traceback (most recent call last)",
      "\u001b[0;32m<ipython-input-33-cfdd25c6c818>\u001b[0m in \u001b[0;36m<module>\u001b[0;34m\u001b[0m\n\u001b[1;32m      1\u001b[0m \u001b[0;32mfrom\u001b[0m \u001b[0mtyping\u001b[0m \u001b[0;32mimport\u001b[0m \u001b[0mDict\u001b[0m\u001b[0;34m\u001b[0m\u001b[0;34m\u001b[0m\u001b[0m\n\u001b[1;32m      2\u001b[0m \u001b[0;34m\u001b[0m\u001b[0m\n\u001b[0;32m----> 3\u001b[0;31m \u001b[0;32mfrom\u001b[0m \u001b[0mgoogle\u001b[0m\u001b[0;34m.\u001b[0m\u001b[0mcloud\u001b[0m \u001b[0;32mimport\u001b[0m \u001b[0maiplatform\u001b[0m\u001b[0;34m\u001b[0m\u001b[0;34m\u001b[0m\u001b[0m\n\u001b[0m\u001b[1;32m      4\u001b[0m \u001b[0;32mfrom\u001b[0m \u001b[0mgoogle\u001b[0m\u001b[0;34m.\u001b[0m\u001b[0mprotobuf\u001b[0m \u001b[0;32mimport\u001b[0m \u001b[0mjson_format\u001b[0m\u001b[0;34m\u001b[0m\u001b[0;34m\u001b[0m\u001b[0m\n\u001b[1;32m      5\u001b[0m \u001b[0;32mfrom\u001b[0m \u001b[0mgoogle\u001b[0m\u001b[0;34m.\u001b[0m\u001b[0mprotobuf\u001b[0m\u001b[0;34m.\u001b[0m\u001b[0mstruct_pb2\u001b[0m \u001b[0;32mimport\u001b[0m \u001b[0mValue\u001b[0m\u001b[0;34m\u001b[0m\u001b[0;34m\u001b[0m\u001b[0m\n",
      "\u001b[0;31mImportError\u001b[0m: cannot import name 'aiplatform' from 'google.cloud' (unknown location)"
     ]
    }
   ],
   "source": [
    "def predict_custom_trained_model_sample(\n",
    "    project: str,\n",
    "    endpoint_id: str,\n",
    "    instance_dict: Dict,\n",
    "    location: str = \"us-central1\",\n",
    "    api_endpoint: str = \"us-central1-aiplatform.googleapis.com\",\n",
    "):\n",
    "    # The AI Platform services require regional API endpoints.\n",
    "    client_options = {\"api_endpoint\": api_endpoint}\n",
    "    # Initialize client that will be used to create and send requests.\n",
    "    # This client only needs to be created once, and can be reused for multiple requests.\n",
    "    client = aiplatform.gapic.PredictionServiceClient(client_options=client_options)\n",
    "    # The format of each instance should conform to the deployed model's prediction input schema.\n",
    "    instance = json_format.ParseDict(instance_dict, Value())\n",
    "    instances = [instance]\n",
    "    parameters_dict = {}\n",
    "    parameters = json_format.ParseDict(parameters_dict, Value())\n",
    "    endpoint = client.endpoint_path(\n",
    "        project=project, location=location, endpoint=endpoint_id\n",
    "    )\n",
    "    response = client.predict(\n",
    "        endpoint=endpoint, instances=instances, parameters=parameters\n",
    "    )\n",
    "    print(\"response\")\n",
    "    print(\" deployed_model_id:\", response.deployed_model_id)\n",
    "    # The predictions are a google.protobuf.Value representation of the model's predictions.\n",
    "    predictions = response.predictions\n",
    "    for prediction in predictions:\n",
    "        print(\" prediction:\", dict(prediction))"
   ]
  },
  {
   "cell_type": "code",
   "execution_count": null,
   "id": "instant-sacrifice",
   "metadata": {},
   "outputs": [],
   "source": [
    "predict_custom_trained_model_sample(\n",
    "    project=\"691911073727\",\n",
    "    endpoint_id=\"7050965758787977216\",\n",
    "    location=\"us-central1\",\n",
    "    instance_dict={ \"values\": newob, \"key\": 1}\n",
    ")"
   ]
  },
  {
   "cell_type": "code",
   "execution_count": 35,
   "id": "engaging-vertex",
   "metadata": {},
   "outputs": [],
   "source": [
    "%%bigquery pred\n",
    "SELECT *\n",
    "FROM ML.PREDICT(MODEL `statmike-mlops.digits.digits_lr`,(\n",
    "    SELECT *\n",
    "    FROM `statmike-mlops.digits.digits_prepped`)\n",
    "  )"
   ]
  },
  {
   "cell_type": "code",
   "execution_count": 43,
   "id": "collaborative-timothy",
   "metadata": {},
   "outputs": [
    {
     "data": {
      "text/plain": [
       "[0.0,\n",
       " 0.0,\n",
       " 0.0,\n",
       " 9.0,\n",
       " 14.0,\n",
       " 6.0,\n",
       " 0.0,\n",
       " 0.0,\n",
       " 0.0,\n",
       " 0.0,\n",
       " 10.0,\n",
       " 13.0,\n",
       " 4.0,\n",
       " 13.0,\n",
       " 2.0,\n",
       " 0.0,\n",
       " 0.0,\n",
       " 2.0,\n",
       " 14.0,\n",
       " 0.0,\n",
       " 0.0,\n",
       " 10.0,\n",
       " 6.0,\n",
       " 0.0,\n",
       " 0.0,\n",
       " 4.0,\n",
       " 9.0,\n",
       " 0.0,\n",
       " 0.0,\n",
       " 6.0,\n",
       " 8.0,\n",
       " 0.0,\n",
       " 0.0,\n",
       " 5.0,\n",
       " 8.0,\n",
       " 0.0,\n",
       " 0.0,\n",
       " 8.0,\n",
       " 7.0,\n",
       " 0.0,\n",
       " 0.0,\n",
       " 2.0,\n",
       " 11.0,\n",
       " 1.0,\n",
       " 0.0,\n",
       " 9.0,\n",
       " 5.0,\n",
       " 0.0,\n",
       " 0.0,\n",
       " 0.0,\n",
       " 6.0,\n",
       " 11.0,\n",
       " 4.0,\n",
       " 13.0,\n",
       " 3.0,\n",
       " 0.0,\n",
       " 0.0,\n",
       " 0.0,\n",
       " 1.0,\n",
       " 11.0,\n",
       " 16.0,\n",
       " 12.0,\n",
       " 0.0,\n",
       " 0.0]"
      ]
     },
     "execution_count": 43,
     "metadata": {},
     "output_type": "execute_result"
    }
   ],
   "source": [
    "newob = pred.loc[:0,'p0':'p63'].values.flatten().tolist()"
   ]
  },
  {
   "cell_type": "code",
   "execution_count": null,
   "id": "annual-celtic",
   "metadata": {},
   "outputs": [],
   "source": []
  }
 ],
 "metadata": {
  "environment": {
   "name": "tf2-gpu.2-4.m65",
   "type": "gcloud",
   "uri": "gcr.io/deeplearning-platform-release/tf2-gpu.2-4:m65"
  },
  "kernelspec": {
   "display_name": "Python 3",
   "language": "python",
   "name": "python3"
  },
  "language_info": {
   "codemirror_mode": {
    "name": "ipython",
    "version": 3
   },
   "file_extension": ".py",
   "mimetype": "text/x-python",
   "name": "python",
   "nbconvert_exporter": "python",
   "pygments_lexer": "ipython3",
   "version": "3.7.10"
  }
 },
 "nbformat": 4,
 "nbformat_minor": 5
}
