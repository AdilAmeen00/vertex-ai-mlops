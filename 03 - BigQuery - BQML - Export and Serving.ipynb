{
 "cells": [
  {
   "cell_type": "markdown",
   "id": "protective-characteristic",
   "metadata": {},
   "source": [
    "# BigQuery - BQML - Export and Serving\n",
    "\n",
    "This notebook export the BigQuery ML model create in `02 - BigQuery - BQML` and then uses AI Platform to upload the model and deploy it to and endpoint for online predictions.\n",
    "\n",
    "**Prerequisites**\n",
    "- `00 - Initial Setup`\n",
    "- `01 - BigQuery - Data`\n",
    "- `02 - BigQuery - BQML`\n",
    "\n",
    "---"
   ]
  },
  {
   "cell_type": "markdown",
   "id": "communist-congress",
   "metadata": {},
   "source": [
    "Setup Parameters For Model Deployment"
   ]
  },
  {
   "cell_type": "code",
   "execution_count": 28,
   "id": "severe-apparel",
   "metadata": {},
   "outputs": [],
   "source": [
    "PROJECT_ID='statmike-mlops'\n",
    "MODEL_NAME='BQML-DIGITS'\n",
    "ENDPOINT_NAME='DIGITS'\n",
    "MODEL_DIR='gs://statmike-models/digits/bqml'\n",
    "FRAMEWORK='TENSORFLOW'\n",
    "params = {\"MODEL_DIR\":MODEL_DIR}\n",
    "REGION='us-central1'\n",
    "CONTAINER_URI='us-docker.pkg.dev/cloud-aiplatform/prediction/tf2-cpu.2-2:latest'"
   ]
  },
  {
   "cell_type": "markdown",
   "id": "minor-segment",
   "metadata": {},
   "source": [
    "Export the BigQuery Model:\n",
    "- https://cloud.google.com/bigquery-ml/docs/exporting-models"
   ]
  },
  {
   "cell_type": "code",
   "execution_count": 2,
   "id": "modern-sending",
   "metadata": {},
   "outputs": [
    {
     "data": {
      "text/html": [
       "<div>\n",
       "<style scoped>\n",
       "    .dataframe tbody tr th:only-of-type {\n",
       "        vertical-align: middle;\n",
       "    }\n",
       "\n",
       "    .dataframe tbody tr th {\n",
       "        vertical-align: top;\n",
       "    }\n",
       "\n",
       "    .dataframe thead th {\n",
       "        text-align: right;\n",
       "    }\n",
       "</style>\n",
       "<table border=\"1\" class=\"dataframe\">\n",
       "  <thead>\n",
       "    <tr style=\"text-align: right;\">\n",
       "      <th></th>\n",
       "    </tr>\n",
       "  </thead>\n",
       "  <tbody>\n",
       "  </tbody>\n",
       "</table>\n",
       "</div>"
      ],
      "text/plain": [
       "Empty DataFrame\n",
       "Columns: []\n",
       "Index: []"
      ]
     },
     "execution_count": 2,
     "metadata": {},
     "output_type": "execute_result"
    }
   ],
   "source": [
    "%%bigquery --params $params\n",
    "EXPORT MODEL `statmike-mlops.digits.digits_lr`\n",
    "OPTIONS(URI = @MODEL_DIR)"
   ]
  },
  {
   "cell_type": "markdown",
   "id": "radical-guest",
   "metadata": {},
   "source": [
    "This is a custom model.  We are importing it to AI Platform (Unified).  This is a good starting point:\n",
    "- https://cloud.google.com/ai-platform-unified/docs/predictions/importing-custom-trained-model"
   ]
  },
  {
   "cell_type": "markdown",
   "id": "sticky-breathing",
   "metadata": {},
   "source": [
    "Import the Model:\n",
    "- https://cloud.google.com/ai-platform-unified/docs/predictions/importing-custom-trained-model#import_a_model_programmatically\n",
    "- region of bucket and model must be the same"
   ]
  },
  {
   "cell_type": "code",
   "execution_count": 3,
   "id": "specific-remove",
   "metadata": {},
   "outputs": [
    {
     "name": "stdout",
     "output_type": "stream",
     "text": [
      "Using endpoint [https://us-central1-aiplatform.googleapis.com/]\n",
      "Waiting for operation [4173947349665579008]...done.                            \n"
     ]
    }
   ],
   "source": [
    "!gcloud beta ai models upload --region=$REGION --display-name=$MODEL_NAME --container-image-uri=$CONTAINER_URI --artifact-uri=$MODEL_DIR"
   ]
  },
  {
   "cell_type": "code",
   "execution_count": 4,
   "id": "sophisticated-bowling",
   "metadata": {},
   "outputs": [
    {
     "name": "stdout",
     "output_type": "stream",
     "text": [
      "Using endpoint [https://us-central1-aiplatform.googleapis.com/]\n",
      "---\n",
      "artifactUri: gs://statmike-models/digits/bqml\n",
      "containerSpec:\n",
      "  imageUri: us-docker.pkg.dev/cloud-aiplatform/prediction/tf2-cpu.2-2:latest\n",
      "createTime: '2021-04-06T12:55:31.840217Z'\n",
      "displayName: BQML-DIGITS\n",
      "etag: AMEw9yO7T_d9BdgGQ5PCNuduFH1OtYCKyOBInfmlCPlRFTq5tVKhDqqZ7I8XxkxTR8Ec\n",
      "name: projects/691911073727/locations/us-central1/models/5301528409787072512\n",
      "predictSchemata: {}\n",
      "supportedDeploymentResourcesTypes:\n",
      "- DEDICATED_RESOURCES\n",
      "supportedExportFormats:\n",
      "- exportableContents:\n",
      "  - ARTIFACT\n",
      "  id: custom-trained\n",
      "supportedInputStorageFormats:\n",
      "- jsonl\n",
      "- csv\n",
      "- tf-record\n",
      "- tf-record-gzip\n",
      "- file-list\n",
      "supportedOutputStorageFormats:\n",
      "- jsonl\n",
      "updateTime: '2021-04-06T12:55:49.425534Z'\n"
     ]
    }
   ],
   "source": [
    "!gcloud beta ai models list --region=$REGION --filter=display_name=$MODEL_NAME"
   ]
  },
  {
   "cell_type": "code",
   "execution_count": 5,
   "id": "present-runner",
   "metadata": {},
   "outputs": [],
   "source": [
    "MODEL_ID=5301528409787072512"
   ]
  },
  {
   "cell_type": "markdown",
   "id": "finnish-family",
   "metadata": {},
   "source": [
    "Deploy the Model:\n",
    "    - https://cloud.google.com/ai-platform-unified/docs/predictions/deploy-model-api"
   ]
  },
  {
   "cell_type": "code",
   "execution_count": 6,
   "id": "twenty-victoria",
   "metadata": {},
   "outputs": [
    {
     "name": "stdout",
     "output_type": "stream",
     "text": [
      "Using endpoint [https://us-central1-aiplatform.googleapis.com/]\n",
      "Waiting for operation [2440061493127938048]...done.                            \n",
      "Created AI Platform endpoint: projects/691911073727/locations/us-central1/endpoints/611662716578299904.\n"
     ]
    }
   ],
   "source": [
    "!gcloud beta ai endpoints create --region=$REGION --display-name=$ENDPOINT_NAME"
   ]
  },
  {
   "cell_type": "code",
   "execution_count": 7,
   "id": "negative-improvement",
   "metadata": {},
   "outputs": [
    {
     "name": "stdout",
     "output_type": "stream",
     "text": [
      "Using endpoint [https://us-central1-aiplatform.googleapis.com/]\n",
      "ENDPOINT_ID         DISPLAY_NAME\n",
      "611662716578299904  DIGITS\n"
     ]
    }
   ],
   "source": [
    "!gcloud beta ai endpoints list --region=$REGION --filter=display_name=$ENDPOINT_NAME"
   ]
  },
  {
   "cell_type": "code",
   "execution_count": 25,
   "id": "super-furniture",
   "metadata": {},
   "outputs": [],
   "source": [
    "ENDPOINT_ID=611662716578299904"
   ]
  },
  {
   "cell_type": "code",
   "execution_count": 9,
   "id": "substantial-conversation",
   "metadata": {},
   "outputs": [
    {
     "name": "stdout",
     "output_type": "stream",
     "text": [
      "Using endpoint [https://us-central1-aiplatform.googleapis.com/]\n",
      "Waiting for operation [8781129768465596416]...done.                            \n",
      "Deployed a model to the endpoint 611662716578299904. Id of the deployed model: 2038318636036259840.\n"
     ]
    }
   ],
   "source": [
    "!gcloud beta ai endpoints deploy-model $ENDPOINT_ID --region=$REGION --model=$MODEL_ID --display-name=$MODEL_NAME --traffic-split=0=100"
   ]
  },
  {
   "cell_type": "code",
   "execution_count": 10,
   "id": "discrete-circle",
   "metadata": {},
   "outputs": [],
   "source": [
    "DMODEL_ID=2038318636036259840"
   ]
  },
  {
   "cell_type": "markdown",
   "id": "iraqi-tournament",
   "metadata": {},
   "source": [
    "Get an online prediction:\n",
    "- https://cloud.google.com/ai-platform-unified/docs/predictions/online-predictions-custom-models#online_predict_custom_trained-python"
   ]
  },
  {
   "cell_type": "code",
   "execution_count": 26,
   "id": "expired-memorabilia",
   "metadata": {},
   "outputs": [],
   "source": [
    "%%bigquery pred\n",
    "SELECT *\n",
    "FROM ML.PREDICT(MODEL `statmike-mlops.digits.digits_lr`,(\n",
    "    SELECT *\n",
    "    FROM `statmike-mlops.digits.digits_prepped`)\n",
    "  )"
   ]
  },
  {
   "cell_type": "code",
   "execution_count": 27,
   "id": "gentle-telling",
   "metadata": {},
   "outputs": [
    {
     "data": {
      "text/plain": [
       "{'instances': [{'p0': 0.0,\n",
       "   'p1': 0.0,\n",
       "   'p2': 0.0,\n",
       "   'p3': 9.0,\n",
       "   'p4': 14.0,\n",
       "   'p5': 6.0,\n",
       "   'p6': 0.0,\n",
       "   'p7': 0.0,\n",
       "   'p8': 0.0,\n",
       "   'p9': 0.0,\n",
       "   'p10': 10.0,\n",
       "   'p11': 13.0,\n",
       "   'p12': 4.0,\n",
       "   'p13': 13.0,\n",
       "   'p14': 2.0,\n",
       "   'p15': 0.0,\n",
       "   'p16': 0.0,\n",
       "   'p17': 2.0,\n",
       "   'p18': 14.0,\n",
       "   'p19': 0.0,\n",
       "   'p20': 0.0,\n",
       "   'p21': 10.0,\n",
       "   'p22': 6.0,\n",
       "   'p23': 0.0,\n",
       "   'p24': 0.0,\n",
       "   'p25': 4.0,\n",
       "   'p26': 9.0,\n",
       "   'p27': 0.0,\n",
       "   'p28': 0.0,\n",
       "   'p29': 6.0,\n",
       "   'p30': 8.0,\n",
       "   'p31': 0.0,\n",
       "   'p32': 0.0,\n",
       "   'p33': 5.0,\n",
       "   'p34': 8.0,\n",
       "   'p35': 0.0,\n",
       "   'p36': 0.0,\n",
       "   'p37': 8.0,\n",
       "   'p38': 7.0,\n",
       "   'p39': 0.0,\n",
       "   'p40': 0.0,\n",
       "   'p41': 2.0,\n",
       "   'p42': 11.0,\n",
       "   'p43': 1.0,\n",
       "   'p44': 0.0,\n",
       "   'p45': 9.0,\n",
       "   'p46': 5.0,\n",
       "   'p47': 0.0,\n",
       "   'p48': 0.0,\n",
       "   'p49': 0.0,\n",
       "   'p50': 6.0,\n",
       "   'p51': 11.0,\n",
       "   'p52': 4.0,\n",
       "   'p53': 13.0,\n",
       "   'p54': 3.0,\n",
       "   'p55': 0.0,\n",
       "   'p56': 0.0,\n",
       "   'p57': 0.0,\n",
       "   'p58': 1.0,\n",
       "   'p59': 11.0,\n",
       "   'p60': 16.0,\n",
       "   'p61': 12.0,\n",
       "   'p62': 0.0,\n",
       "   'p63': 0.0}]}"
      ]
     },
     "execution_count": 27,
     "metadata": {},
     "output_type": "execute_result"
    }
   ],
   "source": [
    "newob = pred.loc[:0,'p0':'p63'].to_dict(orient='records')\n",
    "newob = {'instances':newob}\n",
    "newob"
   ]
  },
  {
   "cell_type": "code",
   "execution_count": 5,
   "id": "vocational-watson",
   "metadata": {},
   "outputs": [],
   "source": [
    "import json\n",
    "with open('newob.json','w') as f:\n",
    "    json.dump(newob,f)"
   ]
  },
  {
   "cell_type": "code",
   "execution_count": 29,
   "id": "prostate-pacific",
   "metadata": {},
   "outputs": [
    {
     "name": "stdout",
     "output_type": "stream",
     "text": [
      "Using endpoint [https://us-central1-prediction-aiplatform.googleapis.com/]\n",
      "[{'predicted_target': ['0'], 'target_probs': [0.000994065348172725, 0.9700539615211876, 0.00060805839739735, 0.004169505932933619, 0.01795098494524042, 0.0008685308769735512, 2.518177689824373e-05, 0.001623011973809741, 0.002588321491166412, 0.001118377736220435], 'target_values': ['8', '0', '3', '9', '6', '7', '1', '2', '4', '5']}]\n"
     ]
    }
   ],
   "source": [
    "!gcloud beta ai endpoints predict $ENDPOINT_ID --region=$REGION --json-request=newob.json"
   ]
  },
  {
   "cell_type": "code",
   "execution_count": 7,
   "id": "editorial-applicant",
   "metadata": {},
   "outputs": [],
   "source": [
    "from typing import Dict\n",
    "\n",
    "from google.cloud import aiplatform\n",
    "from google.protobuf import json_format\n",
    "from google.protobuf.struct_pb2 import Value\n",
    "\n",
    "\n",
    "def predict_custom_trained_model_sample(\n",
    "    project: str,\n",
    "    endpoint_id: str,\n",
    "    instance_dict: Dict,\n",
    "    location: str = \"us-central1\",\n",
    "    api_endpoint: str = \"us-central1-aiplatform.googleapis.com\",\n",
    "):\n",
    "    # The AI Platform services require regional API endpoints.\n",
    "    client_options = {\"api_endpoint\": api_endpoint}\n",
    "    # Initialize client that will be used to create and send requests.\n",
    "    # This client only needs to be created once, and can be reused for multiple requests.\n",
    "    client = aiplatform.gapic.PredictionServiceClient(client_options=client_options)\n",
    "    # The format of each instance should conform to the deployed model's prediction input schema.\n",
    "    instance = json_format.ParseDict(instance_dict, Value())\n",
    "    instances = [instance]\n",
    "    parameters_dict = {}\n",
    "    parameters = json_format.ParseDict(parameters_dict, Value())\n",
    "    endpoint = client.endpoint_path(\n",
    "        project=project, location=location, endpoint=endpoint_id\n",
    "    )\n",
    "    response = client.predict(\n",
    "        endpoint=endpoint, instances=instances, parameters=parameters\n",
    "    )\n",
    "    print(\"response\")\n",
    "    print(\" deployed_model_id:\", response.deployed_model_id)\n",
    "    # The predictions are a google.protobuf.Value representation of the model's predictions.\n",
    "    predictions = response.predictions\n",
    "    return predictions\n",
    "    #for prediction in predictions:\n",
    "        #print(\" prediction:\", dict(prediction))"
   ]
  },
  {
   "cell_type": "code",
   "execution_count": 8,
   "id": "adequate-prague",
   "metadata": {},
   "outputs": [],
   "source": [
    "newob = pred.loc[:0,'p0':'p63'].to_dict(orient='records')\n",
    "newob=newob[0]"
   ]
  },
  {
   "cell_type": "code",
   "execution_count": 11,
   "id": "twenty-control",
   "metadata": {},
   "outputs": [
    {
     "name": "stdout",
     "output_type": "stream",
     "text": [
      "response\n",
      " deployed_model_id: 2038318636036259840\n"
     ]
    }
   ],
   "source": [
    "predictions = predict_custom_trained_model_sample(PROJECT_ID,ENDPOINT_ID,newob)"
   ]
  },
  {
   "cell_type": "code",
   "execution_count": 15,
   "id": "worse-tuesday",
   "metadata": {},
   "outputs": [
    {
     "name": "stdout",
     "output_type": "stream",
     "text": [
      "{'target_probs': [0.000994065348172725, 0.9700539615211876, 0.00060805839739735, 0.004169505932933619, 0.01795098494524042, 0.0008685308769735512, 2.518177689824373e-05, 0.001623011973809741, 0.002588321491166412, 0.001118377736220435], 'target_values': ['8', '0', '3', '9', '6', '7', '1', '2', '4', '5'], 'predicted_target': ['0']}\n"
     ]
    }
   ],
   "source": [
    "for x in predictions: print(dict(x))"
   ]
  },
  {
   "cell_type": "code",
   "execution_count": 21,
   "id": "bibliographic-confidence",
   "metadata": {},
   "outputs": [
    {
     "data": {
      "text/plain": [
       "'0'"
      ]
     },
     "execution_count": 21,
     "metadata": {},
     "output_type": "execute_result"
    }
   ],
   "source": [
    "dict(predictions[0])['predicted_target'][0]"
   ]
  },
  {
   "cell_type": "code",
   "execution_count": 24,
   "id": "mineral-greeting",
   "metadata": {},
   "outputs": [
    {
     "data": {
      "text/plain": [
       "'0'"
      ]
     },
     "execution_count": 24,
     "metadata": {},
     "output_type": "execute_result"
    }
   ],
   "source": [
    "import numpy as np\n",
    "pos = np.argmax(dict(predictions[0])['target_probs'])\n",
    "dict(predictions[0])['target_values'][pos]"
   ]
  },
  {
   "cell_type": "markdown",
   "id": "light-customer",
   "metadata": {},
   "source": [
    "# Remove Resources\n",
    "- undeploy-model\n",
    "- remove endpoint\n",
    "- remove model"
   ]
  },
  {
   "cell_type": "code",
   "execution_count": 160,
   "id": "herbal-restoration",
   "metadata": {},
   "outputs": [
    {
     "name": "stdout",
     "output_type": "stream",
     "text": [
      "Using endpoint [https://us-central1-aiplatform.googleapis.com/]\n",
      "createTime: '2021-04-02T12:10:45.394681Z'\n",
      "displayName: DIGITS\n",
      "etag: AMEw9yMcTPcNAhfyf1iF_g8oFT7vF4BBNt-yYKU0vgRSEXSbP4af79ZijhV-JctILMs=\n",
      "name: projects/691911073727/locations/us-central1/endpoints/9120088312588009472\n",
      "updateTime: '2021-04-02T13:08:43.180916Z'\n"
     ]
    }
   ],
   "source": [
    "!gcloud beta ai endpoints describe $ENDPOINT_ID --region=$REGION"
   ]
  },
  {
   "cell_type": "code",
   "execution_count": 153,
   "id": "blond-skiing",
   "metadata": {},
   "outputs": [
    {
     "name": "stdout",
     "output_type": "stream",
     "text": [
      "Using endpoint [https://us-central1-aiplatform.googleapis.com/]\n"
     ]
    }
   ],
   "source": [
    "!gcloud beta ai endpoints undeploy-model $ENDPOINT_ID --region=$REGION --deployed-model-id=$DMODEL_ID"
   ]
  },
  {
   "cell_type": "code",
   "execution_count": 165,
   "id": "competent-forth",
   "metadata": {},
   "outputs": [
    {
     "name": "stdout",
     "output_type": "stream",
     "text": [
      "Using endpoint [https://us-central1-aiplatform.googleapis.com/]\n",
      "This will delete endpoint [9120088312588009472]...\n",
      "\n",
      "Do you want to continue (Y/n)?  \n"
     ]
    }
   ],
   "source": [
    "!echo \"Y\" | gcloud beta ai endpoints delete $ENDPOINT_ID --region=$REGION"
   ]
  },
  {
   "cell_type": "code",
   "execution_count": 166,
   "id": "social-windsor",
   "metadata": {},
   "outputs": [
    {
     "name": "stdout",
     "output_type": "stream",
     "text": [
      "Using endpoint [https://us-central1-aiplatform.googleapis.com/]\n"
     ]
    }
   ],
   "source": [
    "!gcloud beta ai models delete $MODEL_ID --region=$REGION"
   ]
  },
  {
   "cell_type": "code",
   "execution_count": 167,
   "id": "german-brooks",
   "metadata": {},
   "outputs": [
    {
     "name": "stdout",
     "output_type": "stream",
     "text": [
      "Removing gs://statmike-models/digits/bqml/#1617362257495261...\n",
      "Removing gs://statmike-models/digits/bqml/saved_model.pb#1617362258134061...    \n",
      "Removing gs://statmike-models/digits/bqml/variables/#1617362258019580...        \n",
      "Removing gs://statmike-models/digits/bqml/variables/variables.data-00000-of-00001#1617362258266353...\n",
      "/ [4 objects]                                                                   \n",
      "==> NOTE: You are performing a sequence of gsutil operations that may\n",
      "run significantly faster if you instead use gsutil -m rm ... Please\n",
      "see the -m section under \"gsutil help options\" for further information\n",
      "about when gsutil -m can be advantageous.\n",
      "\n",
      "Removing gs://statmike-models/digits/bqml/variables/variables.index#1617362258370588...\n",
      "/ [5 objects]                                                                   \n",
      "Operation completed over 5 objects.                                              \n"
     ]
    }
   ],
   "source": [
    "!gsutil rm -r $MODEL_DIR"
   ]
  }
 ],
 "metadata": {
  "environment": {
   "name": "tf2-gpu.2-4.m65",
   "type": "gcloud",
   "uri": "gcr.io/deeplearning-platform-release/tf2-gpu.2-4:m65"
  },
  "kernelspec": {
   "display_name": "Python 3",
   "language": "python",
   "name": "python3"
  },
  "language_info": {
   "codemirror_mode": {
    "name": "ipython",
    "version": 3
   },
   "file_extension": ".py",
   "mimetype": "text/x-python",
   "name": "python",
   "nbconvert_exporter": "python",
   "pygments_lexer": "ipython3",
   "version": "3.7.10"
  }
 },
 "nbformat": 4,
 "nbformat_minor": 5
}
