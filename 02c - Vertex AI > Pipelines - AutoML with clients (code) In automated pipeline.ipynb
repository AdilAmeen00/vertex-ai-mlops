{
 "cells": [
  {
   "cell_type": "markdown",
   "id": "3cebabe4",
   "metadata": {},
   "source": [
    "# 02c - Vertex AI > Pipelines - AutoML with clients (code) In automated pipeline\n",
    "\n",
    "Use[ Kubeflow](https://www.kubeflow.org/) Pipelines running on [Vertex AI Pipelines](https://cloud.google.com/vertex-ai/docs/pipelines/introduction) to orchestrate the process of training a custom model with AutoML Tabular and deploy it to a Vertex AI Endpoint for serving (online and batch) predictions and explanations.  This demonstrates how to automate the processes of (02a) or (02b) with pipeline orchestration.\n",
    "\n",
    "**Prerequisites:**\n",
    "\n",
    "-  01 -  BigQuery - Table Data Source\n",
    "\n",
    "**Overview:**\n",
    "\n",
    "-  Use Kubeflow Python SDK to build a pipeline\n",
    "   -  Create pipeline using Google Cloud Pipeline Components (from google_cloud_pipeline_components import aiplatform as gcc_aip)\n",
    "      -  Use cc_aip.TabularDatasetCreateOp to register dataset from BigQuery table\n",
    "      -  Train AutoML tabular model with gcc_aip.AutoMLTabularTrainingJobRunOp\n",
    "      -  Deploy model to endpoint using gcc_aip.ModelDeployOp\n",
    "   -  Compile the pipeline\n",
    "      -  kfp.v2.compiler.Compiler().compile\n",
    "   -  Move the pipeline code to GCS Bucket\n",
    "   -  Run the pipeline with google.cloud.aiplatform.PipelineJob\n",
    "-  Online Predictions using Vertex AI Endpoint\n",
    "-  Online Explanations using Vertex AI Endpoint\n",
    "-  Batch Prediction Job for predictions and explanation with source and destination tables in BigQuery\n",
    "\n",
    "**Resources:**\n",
    "\n",
    "-  [Vertex AI Pipelines](https://cloud.google.com/vertex-ai/docs/pipelines/build-pipeline#google-cloud-components) see aiplatform.PipelineJob\n",
    "-  [Python Client for Vertex AI](https://googleapis.dev/python/aiplatform/latest/aiplatform.html)\n",
    "-  [Kubeflow Pipelines Components for Google Cloud](https://github.com/kubeflow/pipelines/tree/master/components/google-cloud)\n",
    "\n",
    "**Related Training:**\n",
    "\n",
    "-  Codelab: [Vertex AI Pipelines Introduction](https://codelabs.developers.google.com/vertex-mlmd-pipelines#0)\n",
    "-  todo"
   ]
  },
  {
   "cell_type": "markdown",
   "id": "800d6e6a",
   "metadata": {},
   "source": [
    "---\n",
    "## Vertex AI - Conceptual Flow\n",
    "\n",
    "<img src=\"architectures/slides/slide_11.png\">\n",
    "\n",
    "---\n",
    "## Vertex AI - Workflow\n",
    "\n",
    "<img src=\"architectures/slides/slide_12.png\">"
   ]
  },
  {
   "cell_type": "markdown",
   "id": "229cef71",
   "metadata": {},
   "source": [
    "---\n",
    "## Setup"
   ]
  },
  {
   "cell_type": "markdown",
   "id": "4b6b82e4",
   "metadata": {},
   "source": [
    "inputs:"
   ]
  },
  {
   "cell_type": "code",
   "execution_count": 83,
   "id": "b255bf32",
   "metadata": {},
   "outputs": [],
   "source": [
    "REGION = 'us-central1'\n",
    "PROJECT_ID='statmike-mlops'\n",
    "DATANAME = 'fraud'\n",
    "NOTEBOOK = '02c'\n",
    "\n",
    "# Resources\n",
    "DEPLOY_COMPUTE = 'n1-standard-4'\n",
    "\n",
    "# Model Training\n",
    "VAR_TARGET = 'Class'\n",
    "VAR_OMIT = 'transaction_id' # add more variables to the string with space delimiters"
   ]
  },
  {
   "cell_type": "markdown",
   "id": "00693f36",
   "metadata": {},
   "source": [
    "packages:"
   ]
  },
  {
   "cell_type": "code",
   "execution_count": 84,
   "id": "f3bf8620",
   "metadata": {},
   "outputs": [],
   "source": [
    "from google.cloud import aiplatform\n",
    "from datetime import datetime\n",
    "import kfp\n",
    "import kfp.v2.dsl as dsl\n",
    "from google_cloud_pipeline_components import aiplatform as gcc_aip\n",
    "\n",
    "from google.cloud import bigquery\n",
    "from google.protobuf import json_format\n",
    "from google.protobuf.struct_pb2 import Value\n",
    "import json\n",
    "import numpy as np"
   ]
  },
  {
   "cell_type": "markdown",
   "id": "b01a4860",
   "metadata": {},
   "source": [
    "clients:"
   ]
  },
  {
   "cell_type": "code",
   "execution_count": 85,
   "id": "d0f88c50",
   "metadata": {},
   "outputs": [],
   "source": [
    "aiplatform.init(project=PROJECT_ID, location=REGION)\n",
    "bigquery = bigquery.Client()"
   ]
  },
  {
   "cell_type": "markdown",
   "id": "8d14fbbc",
   "metadata": {},
   "source": [
    "parameters:"
   ]
  },
  {
   "cell_type": "code",
   "execution_count": 86,
   "id": "f65b2223",
   "metadata": {},
   "outputs": [],
   "source": [
    "TIMESTAMP = datetime.now().strftime(\"%Y%m%d%H%M%S\")\n",
    "BUCKET = PROJECT_ID\n",
    "URI = f\"gs://{BUCKET}/{DATANAME}/models/{NOTEBOOK}\"\n",
    "DIR = f\"temp/{NOTEBOOK}\""
   ]
  },
  {
   "cell_type": "code",
   "execution_count": 87,
   "id": "b6c636bd",
   "metadata": {},
   "outputs": [
    {
     "data": {
      "text/plain": [
       "'691911073727-compute@developer.gserviceaccount.com'"
      ]
     },
     "execution_count": 87,
     "metadata": {},
     "output_type": "execute_result"
    }
   ],
   "source": [
    "# Give service account roles/storage.objectAdmin permissions\n",
    "# Console > IMA > Select Account <projectnumber>-compute@developer.gserviceaccount.com > edit - give role\n",
    "SERVICE_ACCOUNT = !gcloud config list --format='value(core.account)' \n",
    "SERVICE_ACCOUNT = SERVICE_ACCOUNT[0]\n",
    "SERVICE_ACCOUNT"
   ]
  },
  {
   "cell_type": "markdown",
   "id": "10f15187",
   "metadata": {},
   "source": [
    "environment:"
   ]
  },
  {
   "cell_type": "code",
   "execution_count": 88,
   "id": "f7383876",
   "metadata": {},
   "outputs": [],
   "source": [
    "!rm -rf {DIR}\n",
    "!mkdir -p {DIR}"
   ]
  },
  {
   "cell_type": "markdown",
   "id": "c08c3499",
   "metadata": {},
   "source": [
    "---\n",
    "## Pipeline (KFP) Definition\n",
    "- Flow\n",
    "    - Create Vertex AI Dataset from link to BigQuery table\n",
    "    - Create Vertex AI AutoML Tabular Training Job\n",
    "    - Create Endpoint and Depoy trained model"
   ]
  },
  {
   "cell_type": "code",
   "execution_count": 89,
   "id": "eb85abc1",
   "metadata": {},
   "outputs": [],
   "source": [
    "@kfp.dsl.pipeline(name = f'kfp-{NOTEBOOK}-{DATANAME}-{TIMESTAMP}', pipeline_root = URI+'/'+str(TIMESTAMP)+'/kfp/')\n",
    "def pipeline(\n",
    "    project: str = PROJECT_ID,\n",
    "    dataname: str = DATANAME,\n",
    "    display_name: str = f'{NOTEBOOK}_{DATANAME}_{TIMESTAMP}',\n",
    "    deploy_machine: str = DEPLOY_COMPUTE,\n",
    "    bq_source: str = f'bq://{PROJECT_ID}.{DATANAME}.{DATANAME}_prepped',\n",
    "    var_target: str = VAR_TARGET,\n",
    "    var_omit: str = VAR_OMIT,\n",
    "    label: str = NOTEBOOK \n",
    "):\n",
    "    \n",
    "    # dataset\n",
    "    dataset = gcc_aip.TabularDatasetCreateOp(\n",
    "        project = project,\n",
    "        display_name = display_name,\n",
    "        bq_source = bq_source,\n",
    "        labels = {'notebook':f'{label}'}\n",
    "    )\n",
    "    \n",
    "    # get feature names\n",
    "    from google.cloud import bigquery\n",
    "    bigquery = bigquery.Client(project = PROJECT_ID)\n",
    "    query = f\"SELECT * FROM {DATANAME}.INFORMATION_SCHEMA.COLUMNS WHERE TABLE_NAME = '{DATANAME}_prepped'\"\n",
    "    schema = bigquery.query(query).to_dataframe()\n",
    "    OMIT = VAR_OMIT.split() + [VAR_TARGET, 'splits']\n",
    "    features = schema[~schema.column_name.isin(OMIT)].column_name.tolist()\n",
    "    features = dict.fromkeys(features, 'auto')\n",
    "    \n",
    "    # training\n",
    "    model = gcc_aip.AutoMLTabularTrainingJobRunOp(\n",
    "        project = project,\n",
    "        display_name = display_name,\n",
    "        optimization_prediction_type = \"classification\",\n",
    "        budget_milli_node_hours = 1000,\n",
    "        disable_early_stopping=False,\n",
    "        column_specs = features,\n",
    "        dataset = dataset.outputs['dataset'],\n",
    "        target_column = var_target,\n",
    "        #predefined_split_column_name = 'splits',\n",
    "        training_fraction_split = 0.8,\n",
    "        validation_fraction_split = 0.1,\n",
    "        test_fraction_split = 0.1,\n",
    "        labels = {'notebook':f'{label}'}\n",
    "    )\n",
    "    \n",
    "    # Endpoint Deployment\n",
    "    endpoint = gcc_aip.ModelDeployOp(\n",
    "        model = model.outputs[\"model\"],\n",
    "        project = project,\n",
    "        #display_name = display_name,\n",
    "        machine_type = deploy_machine,\n",
    "        #labels = {'notebook':f'{label}'}\n",
    "    )"
   ]
  },
  {
   "cell_type": "markdown",
   "id": "4bd7cda6",
   "metadata": {},
   "source": [
    "---\n",
    "## Compile Pipeline"
   ]
  },
  {
   "cell_type": "code",
   "execution_count": 90,
   "id": "db3e8ce2",
   "metadata": {},
   "outputs": [],
   "source": [
    "kfp.v2.compiler.Compiler().compile(\n",
    "    pipeline_func = pipeline,\n",
    "    package_path = f\"{DIR}/{NOTEBOOK}.json\"\n",
    ")"
   ]
  },
  {
   "cell_type": "markdown",
   "id": "72d3a04e",
   "metadata": {},
   "source": [
    "Move compiled pipeline files to GCS Bucket"
   ]
  },
  {
   "cell_type": "code",
   "execution_count": 91,
   "id": "671d4cbe",
   "metadata": {},
   "outputs": [
    {
     "name": "stdout",
     "output_type": "stream",
     "text": [
      "Copying file://temp/02c/02c.json [Content-Type=application/json]...\n",
      "/ [1 files][ 11.8 KiB/ 11.8 KiB]                                                \n",
      "Operation completed over 1 objects/11.8 KiB.                                     \n"
     ]
    }
   ],
   "source": [
    "!gsutil cp {DIR}/{NOTEBOOK}.json {URI}/{TIMESTAMP}/kfp/"
   ]
  },
  {
   "cell_type": "markdown",
   "id": "45241ff1",
   "metadata": {},
   "source": [
    "---\n",
    "## Create Vertex AI Pipeline Job"
   ]
  },
  {
   "cell_type": "code",
   "execution_count": 92,
   "id": "f5dd3e4c",
   "metadata": {},
   "outputs": [],
   "source": [
    "pipeline = aiplatform.PipelineJob(\n",
    "    display_name = f'{NOTEBOOK}_{DATANAME}_{TIMESTAMP}',\n",
    "    template_path = f\"{URI}/{TIMESTAMP}/kfp/{NOTEBOOK}.json\",\n",
    "    pipeline_root = f\"{URI}/{TIMESTAMP}/kfp/\",\n",
    "    labels = {'notebook':f'{NOTEBOOK}'}\n",
    ")"
   ]
  },
  {
   "cell_type": "code",
   "execution_count": 93,
   "id": "5ee521df",
   "metadata": {},
   "outputs": [
    {
     "name": "stdout",
     "output_type": "stream",
     "text": [
      "INFO:google.cloud.aiplatform.pipeline_jobs:Creating PipelineJob\n",
      "INFO:google.cloud.aiplatform.pipeline_jobs:PipelineJob created. Resource name: projects/691911073727/locations/us-central1/pipelineJobs/kfp-02c-fraud-20210922094451-20210922094543\n",
      "INFO:google.cloud.aiplatform.pipeline_jobs:To use this PipelineJob in another session:\n",
      "INFO:google.cloud.aiplatform.pipeline_jobs:pipeline_job = aiplatform.PipelineJob.get('projects/691911073727/locations/us-central1/pipelineJobs/kfp-02c-fraud-20210922094451-20210922094543')\n",
      "INFO:google.cloud.aiplatform.pipeline_jobs:View Pipeline Job:\n",
      "https://console.cloud.google.com/vertex-ai/locations/us-central1/pipelines/runs/kfp-02c-fraud-20210922094451-20210922094543?project=691911073727\n",
      "INFO:google.cloud.aiplatform.pipeline_jobs:PipelineJob projects/691911073727/locations/us-central1/pipelineJobs/kfp-02c-fraud-20210922094451-20210922094543 current state:\n",
      "PipelineState.PIPELINE_STATE_RUNNING\n",
      "INFO:google.cloud.aiplatform.pipeline_jobs:PipelineJob projects/691911073727/locations/us-central1/pipelineJobs/kfp-02c-fraud-20210922094451-20210922094543 current state:\n",
      "PipelineState.PIPELINE_STATE_RUNNING\n",
      "INFO:google.cloud.aiplatform.pipeline_jobs:PipelineJob projects/691911073727/locations/us-central1/pipelineJobs/kfp-02c-fraud-20210922094451-20210922094543 current state:\n",
      "PipelineState.PIPELINE_STATE_RUNNING\n",
      "INFO:google.cloud.aiplatform.pipeline_jobs:PipelineJob projects/691911073727/locations/us-central1/pipelineJobs/kfp-02c-fraud-20210922094451-20210922094543 current state:\n",
      "PipelineState.PIPELINE_STATE_RUNNING\n",
      "INFO:google.cloud.aiplatform.pipeline_jobs:PipelineJob projects/691911073727/locations/us-central1/pipelineJobs/kfp-02c-fraud-20210922094451-20210922094543 current state:\n",
      "PipelineState.PIPELINE_STATE_RUNNING\n",
      "INFO:google.cloud.aiplatform.pipeline_jobs:PipelineJob projects/691911073727/locations/us-central1/pipelineJobs/kfp-02c-fraud-20210922094451-20210922094543 current state:\n",
      "PipelineState.PIPELINE_STATE_RUNNING\n",
      "INFO:google.cloud.aiplatform.pipeline_jobs:PipelineJob projects/691911073727/locations/us-central1/pipelineJobs/kfp-02c-fraud-20210922094451-20210922094543 current state:\n",
      "PipelineState.PIPELINE_STATE_RUNNING\n",
      "INFO:google.cloud.aiplatform.pipeline_jobs:PipelineJob projects/691911073727/locations/us-central1/pipelineJobs/kfp-02c-fraud-20210922094451-20210922094543 current state:\n",
      "PipelineState.PIPELINE_STATE_RUNNING\n",
      "INFO:google.cloud.aiplatform.pipeline_jobs:PipelineJob projects/691911073727/locations/us-central1/pipelineJobs/kfp-02c-fraud-20210922094451-20210922094543 current state:\n",
      "PipelineState.PIPELINE_STATE_RUNNING\n",
      "INFO:google.cloud.aiplatform.pipeline_jobs:PipelineJob projects/691911073727/locations/us-central1/pipelineJobs/kfp-02c-fraud-20210922094451-20210922094543 current state:\n",
      "PipelineState.PIPELINE_STATE_RUNNING\n",
      "INFO:google.cloud.aiplatform.pipeline_jobs:PipelineJob projects/691911073727/locations/us-central1/pipelineJobs/kfp-02c-fraud-20210922094451-20210922094543 current state:\n",
      "PipelineState.PIPELINE_STATE_RUNNING\n",
      "INFO:google.cloud.aiplatform.pipeline_jobs:PipelineJob projects/691911073727/locations/us-central1/pipelineJobs/kfp-02c-fraud-20210922094451-20210922094543 current state:\n",
      "PipelineState.PIPELINE_STATE_RUNNING\n",
      "INFO:google.cloud.aiplatform.pipeline_jobs:PipelineJob projects/691911073727/locations/us-central1/pipelineJobs/kfp-02c-fraud-20210922094451-20210922094543 current state:\n",
      "PipelineState.PIPELINE_STATE_RUNNING\n",
      "INFO:google.cloud.aiplatform.pipeline_jobs:PipelineJob projects/691911073727/locations/us-central1/pipelineJobs/kfp-02c-fraud-20210922094451-20210922094543 current state:\n",
      "PipelineState.PIPELINE_STATE_RUNNING\n",
      "INFO:google.cloud.aiplatform.pipeline_jobs:PipelineJob projects/691911073727/locations/us-central1/pipelineJobs/kfp-02c-fraud-20210922094451-20210922094543 current state:\n",
      "PipelineState.PIPELINE_STATE_RUNNING\n",
      "INFO:google.cloud.aiplatform.pipeline_jobs:PipelineJob projects/691911073727/locations/us-central1/pipelineJobs/kfp-02c-fraud-20210922094451-20210922094543 current state:\n",
      "PipelineState.PIPELINE_STATE_RUNNING\n",
      "INFO:google.cloud.aiplatform.pipeline_jobs:PipelineJob projects/691911073727/locations/us-central1/pipelineJobs/kfp-02c-fraud-20210922094451-20210922094543 current state:\n",
      "PipelineState.PIPELINE_STATE_RUNNING\n",
      "INFO:google.cloud.aiplatform.pipeline_jobs:PipelineJob projects/691911073727/locations/us-central1/pipelineJobs/kfp-02c-fraud-20210922094451-20210922094543 current state:\n",
      "PipelineState.PIPELINE_STATE_RUNNING\n",
      "INFO:google.cloud.aiplatform.pipeline_jobs:PipelineJob projects/691911073727/locations/us-central1/pipelineJobs/kfp-02c-fraud-20210922094451-20210922094543 current state:\n",
      "PipelineState.PIPELINE_STATE_RUNNING\n",
      "INFO:google.cloud.aiplatform.pipeline_jobs:PipelineJob projects/691911073727/locations/us-central1/pipelineJobs/kfp-02c-fraud-20210922094451-20210922094543 current state:\n",
      "PipelineState.PIPELINE_STATE_RUNNING\n",
      "INFO:google.cloud.aiplatform.pipeline_jobs:PipelineJob projects/691911073727/locations/us-central1/pipelineJobs/kfp-02c-fraud-20210922094451-20210922094543 current state:\n",
      "PipelineState.PIPELINE_STATE_RUNNING\n",
      "INFO:google.cloud.aiplatform.pipeline_jobs:PipelineJob projects/691911073727/locations/us-central1/pipelineJobs/kfp-02c-fraud-20210922094451-20210922094543 current state:\n",
      "PipelineState.PIPELINE_STATE_RUNNING\n",
      "INFO:google.cloud.aiplatform.pipeline_jobs:PipelineJob projects/691911073727/locations/us-central1/pipelineJobs/kfp-02c-fraud-20210922094451-20210922094543 current state:\n",
      "PipelineState.PIPELINE_STATE_RUNNING\n",
      "INFO:google.cloud.aiplatform.pipeline_jobs:PipelineJob projects/691911073727/locations/us-central1/pipelineJobs/kfp-02c-fraud-20210922094451-20210922094543 current state:\n",
      "PipelineState.PIPELINE_STATE_RUNNING\n",
      "INFO:google.cloud.aiplatform.pipeline_jobs:PipelineJob projects/691911073727/locations/us-central1/pipelineJobs/kfp-02c-fraud-20210922094451-20210922094543 current state:\n",
      "PipelineState.PIPELINE_STATE_RUNNING\n",
      "INFO:google.cloud.aiplatform.pipeline_jobs:PipelineJob projects/691911073727/locations/us-central1/pipelineJobs/kfp-02c-fraud-20210922094451-20210922094543 current state:\n",
      "PipelineState.PIPELINE_STATE_RUNNING\n",
      "INFO:google.cloud.aiplatform.pipeline_jobs:PipelineJob projects/691911073727/locations/us-central1/pipelineJobs/kfp-02c-fraud-20210922094451-20210922094543 current state:\n",
      "PipelineState.PIPELINE_STATE_RUNNING\n",
      "INFO:google.cloud.aiplatform.pipeline_jobs:PipelineJob projects/691911073727/locations/us-central1/pipelineJobs/kfp-02c-fraud-20210922094451-20210922094543 current state:\n",
      "PipelineState.PIPELINE_STATE_RUNNING\n",
      "INFO:google.cloud.aiplatform.pipeline_jobs:PipelineJob projects/691911073727/locations/us-central1/pipelineJobs/kfp-02c-fraud-20210922094451-20210922094543 current state:\n",
      "PipelineState.PIPELINE_STATE_RUNNING\n",
      "INFO:google.cloud.aiplatform.pipeline_jobs:PipelineJob projects/691911073727/locations/us-central1/pipelineJobs/kfp-02c-fraud-20210922094451-20210922094543 current state:\n",
      "PipelineState.PIPELINE_STATE_RUNNING\n",
      "INFO:google.cloud.aiplatform.pipeline_jobs:PipelineJob projects/691911073727/locations/us-central1/pipelineJobs/kfp-02c-fraud-20210922094451-20210922094543 current state:\n",
      "PipelineState.PIPELINE_STATE_RUNNING\n",
      "INFO:google.cloud.aiplatform.pipeline_jobs:PipelineJob projects/691911073727/locations/us-central1/pipelineJobs/kfp-02c-fraud-20210922094451-20210922094543 current state:\n",
      "PipelineState.PIPELINE_STATE_RUNNING\n",
      "INFO:google.cloud.aiplatform.pipeline_jobs:PipelineJob projects/691911073727/locations/us-central1/pipelineJobs/kfp-02c-fraud-20210922094451-20210922094543 current state:\n",
      "PipelineState.PIPELINE_STATE_RUNNING\n",
      "INFO:google.cloud.aiplatform.pipeline_jobs:PipelineJob projects/691911073727/locations/us-central1/pipelineJobs/kfp-02c-fraud-20210922094451-20210922094543 current state:\n",
      "PipelineState.PIPELINE_STATE_RUNNING\n",
      "INFO:google.cloud.aiplatform.pipeline_jobs:PipelineJob projects/691911073727/locations/us-central1/pipelineJobs/kfp-02c-fraud-20210922094451-20210922094543 current state:\n",
      "PipelineState.PIPELINE_STATE_RUNNING\n",
      "INFO:google.cloud.aiplatform.pipeline_jobs:PipelineJob run completed. Resource name: projects/691911073727/locations/us-central1/pipelineJobs/kfp-02c-fraud-20210922094451-20210922094543\n"
     ]
    }
   ],
   "source": [
    "response = pipeline.run(service_account = SERVICE_ACCOUNT)"
   ]
  },
  {
   "cell_type": "code",
   "execution_count": 94,
   "id": "29ff7495",
   "metadata": {},
   "outputs": [
    {
     "data": {
      "text/html": [
       "<div>\n",
       "<style scoped>\n",
       "    .dataframe tbody tr th:only-of-type {\n",
       "        vertical-align: middle;\n",
       "    }\n",
       "\n",
       "    .dataframe tbody tr th {\n",
       "        vertical-align: top;\n",
       "    }\n",
       "\n",
       "    .dataframe thead th {\n",
       "        text-align: right;\n",
       "    }\n",
       "</style>\n",
       "<table border=\"1\" class=\"dataframe\">\n",
       "  <thead>\n",
       "    <tr style=\"text-align: right;\">\n",
       "      <th></th>\n",
       "      <th>pipeline_name</th>\n",
       "      <th>run_name</th>\n",
       "      <th>param.input:bq_source</th>\n",
       "      <th>param.input:display_name</th>\n",
       "      <th>param.input:label</th>\n",
       "      <th>param.input:project</th>\n",
       "      <th>param.input:var_omit</th>\n",
       "      <th>param.input:dataname</th>\n",
       "      <th>param.input:deploy_machine</th>\n",
       "      <th>param.input:var_target</th>\n",
       "    </tr>\n",
       "  </thead>\n",
       "  <tbody>\n",
       "    <tr>\n",
       "      <th>0</th>\n",
       "      <td>kfp-02c-fraud-20210922094451</td>\n",
       "      <td>kfp-02c-fraud-20210922094451-20210922094543</td>\n",
       "      <td>bq://statmike-mlops.fraud.fraud_prepped</td>\n",
       "      <td>02c_fraud_20210922094451</td>\n",
       "      <td>02c</td>\n",
       "      <td>statmike-mlops</td>\n",
       "      <td>transaction_id</td>\n",
       "      <td>fraud</td>\n",
       "      <td>n1-standard-4</td>\n",
       "      <td>Class</td>\n",
       "    </tr>\n",
       "  </tbody>\n",
       "</table>\n",
       "</div>"
      ],
      "text/plain": [
       "                  pipeline_name                                     run_name  \\\n",
       "0  kfp-02c-fraud-20210922094451  kfp-02c-fraud-20210922094451-20210922094543   \n",
       "\n",
       "                     param.input:bq_source  param.input:display_name  \\\n",
       "0  bq://statmike-mlops.fraud.fraud_prepped  02c_fraud_20210922094451   \n",
       "\n",
       "  param.input:label param.input:project param.input:var_omit  \\\n",
       "0               02c      statmike-mlops       transaction_id   \n",
       "\n",
       "  param.input:dataname param.input:deploy_machine param.input:var_target  \n",
       "0                fraud              n1-standard-4                  Class  "
      ]
     },
     "execution_count": 94,
     "metadata": {},
     "output_type": "execute_result"
    }
   ],
   "source": [
    "aiplatform.get_pipeline_df(pipeline = f'kfp-{NOTEBOOK}-{DATANAME}-{TIMESTAMP}')"
   ]
  },
  {
   "cell_type": "markdown",
   "id": "3829782e",
   "metadata": {},
   "source": [
    "---\n",
    "## Prediction"
   ]
  },
  {
   "cell_type": "markdown",
   "id": "0269e25d",
   "metadata": {},
   "source": [
    "### Prepare a record for prediction: instance and parameters lists"
   ]
  },
  {
   "cell_type": "code",
   "execution_count": 131,
   "id": "5bda8542",
   "metadata": {},
   "outputs": [],
   "source": [
    "pred = bigquery.query(query = f\"SELECT * FROM {DATANAME}.{DATANAME}_prepped WHERE splits='TEST' LIMIT 10\").to_dataframe()"
   ]
  },
  {
   "cell_type": "code",
   "execution_count": 132,
   "id": "bb5a77b7",
   "metadata": {},
   "outputs": [
    {
     "data": {
      "text/html": [
       "<div>\n",
       "<style scoped>\n",
       "    .dataframe tbody tr th:only-of-type {\n",
       "        vertical-align: middle;\n",
       "    }\n",
       "\n",
       "    .dataframe tbody tr th {\n",
       "        vertical-align: top;\n",
       "    }\n",
       "\n",
       "    .dataframe thead th {\n",
       "        text-align: right;\n",
       "    }\n",
       "</style>\n",
       "<table border=\"1\" class=\"dataframe\">\n",
       "  <thead>\n",
       "    <tr style=\"text-align: right;\">\n",
       "      <th></th>\n",
       "      <th>Time</th>\n",
       "      <th>V1</th>\n",
       "      <th>V2</th>\n",
       "      <th>V3</th>\n",
       "      <th>V4</th>\n",
       "      <th>V5</th>\n",
       "      <th>V6</th>\n",
       "      <th>V7</th>\n",
       "      <th>V8</th>\n",
       "      <th>V9</th>\n",
       "      <th>...</th>\n",
       "      <th>V23</th>\n",
       "      <th>V24</th>\n",
       "      <th>V25</th>\n",
       "      <th>V26</th>\n",
       "      <th>V27</th>\n",
       "      <th>V28</th>\n",
       "      <th>Amount</th>\n",
       "      <th>Class</th>\n",
       "      <th>transaction_id</th>\n",
       "      <th>splits</th>\n",
       "    </tr>\n",
       "  </thead>\n",
       "  <tbody>\n",
       "    <tr>\n",
       "      <th>0</th>\n",
       "      <td>75176</td>\n",
       "      <td>1.235603</td>\n",
       "      <td>0.041383</td>\n",
       "      <td>0.675286</td>\n",
       "      <td>0.836279</td>\n",
       "      <td>-0.675016</td>\n",
       "      <td>-0.657342</td>\n",
       "      <td>-0.154209</td>\n",
       "      <td>-0.067491</td>\n",
       "      <td>0.602617</td>\n",
       "      <td>...</td>\n",
       "      <td>0.088164</td>\n",
       "      <td>0.396205</td>\n",
       "      <td>0.324557</td>\n",
       "      <td>0.182930</td>\n",
       "      <td>-0.017115</td>\n",
       "      <td>0.014979</td>\n",
       "      <td>0.0</td>\n",
       "      <td>0</td>\n",
       "      <td>6f40e111-2131-4031-aef1-268b2daf02a3</td>\n",
       "      <td>TEST</td>\n",
       "    </tr>\n",
       "    <tr>\n",
       "      <th>1</th>\n",
       "      <td>112225</td>\n",
       "      <td>-0.285756</td>\n",
       "      <td>0.965688</td>\n",
       "      <td>2.147689</td>\n",
       "      <td>2.838137</td>\n",
       "      <td>1.104026</td>\n",
       "      <td>1.462921</td>\n",
       "      <td>-0.835272</td>\n",
       "      <td>-0.409875</td>\n",
       "      <td>-0.810586</td>\n",
       "      <td>...</td>\n",
       "      <td>-1.222639</td>\n",
       "      <td>0.044689</td>\n",
       "      <td>1.324343</td>\n",
       "      <td>-0.077670</td>\n",
       "      <td>0.128146</td>\n",
       "      <td>0.179651</td>\n",
       "      <td>0.0</td>\n",
       "      <td>0</td>\n",
       "      <td>c9bdeaf0-79d4-4faf-8aaa-14127a0e3513</td>\n",
       "      <td>TEST</td>\n",
       "    </tr>\n",
       "    <tr>\n",
       "      <th>2</th>\n",
       "      <td>113420</td>\n",
       "      <td>1.890283</td>\n",
       "      <td>0.241366</td>\n",
       "      <td>-0.165823</td>\n",
       "      <td>4.068924</td>\n",
       "      <td>-0.146807</td>\n",
       "      <td>0.140339</td>\n",
       "      <td>-0.258090</td>\n",
       "      <td>0.084852</td>\n",
       "      <td>-0.056567</td>\n",
       "      <td>...</td>\n",
       "      <td>0.097449</td>\n",
       "      <td>0.019180</td>\n",
       "      <td>0.060621</td>\n",
       "      <td>0.136349</td>\n",
       "      <td>-0.010745</td>\n",
       "      <td>-0.049814</td>\n",
       "      <td>0.0</td>\n",
       "      <td>0</td>\n",
       "      <td>611f4879-490d-4ab5-9e4f-c7944d6165eb</td>\n",
       "      <td>TEST</td>\n",
       "    </tr>\n",
       "    <tr>\n",
       "      <th>3</th>\n",
       "      <td>121910</td>\n",
       "      <td>-1.227268</td>\n",
       "      <td>1.555572</td>\n",
       "      <td>1.245848</td>\n",
       "      <td>4.071686</td>\n",
       "      <td>1.154573</td>\n",
       "      <td>2.058276</td>\n",
       "      <td>-1.179951</td>\n",
       "      <td>-2.211140</td>\n",
       "      <td>-2.248168</td>\n",
       "      <td>...</td>\n",
       "      <td>-0.380109</td>\n",
       "      <td>-1.485002</td>\n",
       "      <td>0.237729</td>\n",
       "      <td>0.524141</td>\n",
       "      <td>-0.037543</td>\n",
       "      <td>0.121962</td>\n",
       "      <td>0.0</td>\n",
       "      <td>0</td>\n",
       "      <td>3212444f-1412-49ae-adfa-a1a0ca54d8c5</td>\n",
       "      <td>TEST</td>\n",
       "    </tr>\n",
       "  </tbody>\n",
       "</table>\n",
       "<p>4 rows × 33 columns</p>\n",
       "</div>"
      ],
      "text/plain": [
       "     Time        V1        V2        V3        V4        V5        V6  \\\n",
       "0   75176  1.235603  0.041383  0.675286  0.836279 -0.675016 -0.657342   \n",
       "1  112225 -0.285756  0.965688  2.147689  2.838137  1.104026  1.462921   \n",
       "2  113420  1.890283  0.241366 -0.165823  4.068924 -0.146807  0.140339   \n",
       "3  121910 -1.227268  1.555572  1.245848  4.071686  1.154573  2.058276   \n",
       "\n",
       "         V7        V8        V9  ...       V23       V24       V25       V26  \\\n",
       "0 -0.154209 -0.067491  0.602617  ...  0.088164  0.396205  0.324557  0.182930   \n",
       "1 -0.835272 -0.409875 -0.810586  ... -1.222639  0.044689  1.324343 -0.077670   \n",
       "2 -0.258090  0.084852 -0.056567  ...  0.097449  0.019180  0.060621  0.136349   \n",
       "3 -1.179951 -2.211140 -2.248168  ... -0.380109 -1.485002  0.237729  0.524141   \n",
       "\n",
       "        V27       V28  Amount  Class                        transaction_id  \\\n",
       "0 -0.017115  0.014979     0.0      0  6f40e111-2131-4031-aef1-268b2daf02a3   \n",
       "1  0.128146  0.179651     0.0      0  c9bdeaf0-79d4-4faf-8aaa-14127a0e3513   \n",
       "2 -0.010745 -0.049814     0.0      0  611f4879-490d-4ab5-9e4f-c7944d6165eb   \n",
       "3 -0.037543  0.121962     0.0      0  3212444f-1412-49ae-adfa-a1a0ca54d8c5   \n",
       "\n",
       "   splits  \n",
       "0    TEST  \n",
       "1    TEST  \n",
       "2    TEST  \n",
       "3    TEST  \n",
       "\n",
       "[4 rows x 33 columns]"
      ]
     },
     "execution_count": 132,
     "metadata": {},
     "output_type": "execute_result"
    }
   ],
   "source": [
    "pred.head(4)"
   ]
  },
  {
   "cell_type": "code",
   "execution_count": 149,
   "id": "4c32ed6b",
   "metadata": {},
   "outputs": [],
   "source": [
    "newob = pred[pred.columns[~pred.columns.isin(VAR_OMIT.split()+[VAR_TARGET, 'splits'])]].to_dict(orient='records')[0]\n",
    "#newob"
   ]
  },
  {
   "cell_type": "markdown",
   "id": "c2fde74e",
   "metadata": {},
   "source": [
    "Need to understand the format of variables that the predictions expect.  AutoML may convert the type of some variables. The following cells retrieve the model from the endpoint and its schemata:"
   ]
  },
  {
   "cell_type": "code",
   "execution_count": 152,
   "id": "4c5bddb6",
   "metadata": {},
   "outputs": [],
   "source": [
    "newob['Time'] = str(newob['Time'])"
   ]
  },
  {
   "cell_type": "code",
   "execution_count": 154,
   "id": "d438383e",
   "metadata": {},
   "outputs": [],
   "source": [
    "instances = [json_format.ParseDict(newob, Value())]\n",
    "parameters = json_format.ParseDict({}, Value())"
   ]
  },
  {
   "cell_type": "markdown",
   "id": "ec61f206",
   "metadata": {},
   "source": [
    "### Get Predictions: Python Client"
   ]
  },
  {
   "cell_type": "code",
   "execution_count": 155,
   "id": "279cf479",
   "metadata": {},
   "outputs": [
    {
     "data": {
      "text/plain": [
       "'02c_fraud_20210922094451_endpoint'"
      ]
     },
     "execution_count": 155,
     "metadata": {},
     "output_type": "execute_result"
    }
   ],
   "source": [
    "endpoint = aiplatform.Endpoint.list(filter=f'display_name={NOTEBOOK}_{DATANAME}_{TIMESTAMP}_endpoint')[0]\n",
    "endpoint.display_name"
   ]
  },
  {
   "cell_type": "code",
   "execution_count": 156,
   "id": "c7c298d5",
   "metadata": {},
   "outputs": [
    {
     "data": {
      "text/plain": [
       "Prediction(predictions=[{'classes': ['0', '1'], 'scores': [0.9995495080947876, 0.0004505057877395302]}], deployed_model_id='6791788877888618496', explanations=None)"
      ]
     },
     "execution_count": 156,
     "metadata": {},
     "output_type": "execute_result"
    }
   ],
   "source": [
    "prediction = endpoint.predict(instances=instances, parameters=parameters)\n",
    "prediction"
   ]
  },
  {
   "cell_type": "code",
   "execution_count": 157,
   "id": "1323d595",
   "metadata": {},
   "outputs": [
    {
     "data": {
      "text/plain": [
       "'0'"
      ]
     },
     "execution_count": 157,
     "metadata": {},
     "output_type": "execute_result"
    }
   ],
   "source": [
    "prediction.predictions[0]['classes'][np.argmax(prediction.predictions[0]['scores'])]"
   ]
  },
  {
   "cell_type": "markdown",
   "id": "f68781f2",
   "metadata": {},
   "source": [
    "### Get Predictions: REST"
   ]
  },
  {
   "cell_type": "code",
   "execution_count": 158,
   "id": "f6b3a5b9",
   "metadata": {},
   "outputs": [],
   "source": [
    "with open(f'{DIR}/request.json','w') as file:\n",
    "    file.write(json.dumps({\"instances\": [newob]}))"
   ]
  },
  {
   "cell_type": "code",
   "execution_count": 159,
   "id": "6e7b1b91",
   "metadata": {},
   "outputs": [
    {
     "name": "stdout",
     "output_type": "stream",
     "text": [
      "{\n",
      "  \"predictions\": [\n",
      "    {\n",
      "      \"scores\": [\n",
      "        0.9995495080947876,\n",
      "        0.00045050578773953021\n",
      "      ],\n",
      "      \"classes\": [\n",
      "        \"0\",\n",
      "        \"1\"\n",
      "      ]\n",
      "    }\n",
      "  ],\n",
      "  \"deployedModelId\": \"6791788877888618496\"\n",
      "}\n"
     ]
    }
   ],
   "source": [
    "!curl -X POST \\\n",
    "-H \"Authorization: Bearer \"$(gcloud auth application-default print-access-token) \\\n",
    "-H \"Content-Type: application/json; charset=utf-8\" \\\n",
    "-d @{DIR}/request.json \\\n",
    "https://{REGION}-aiplatform.googleapis.com/v1/{endpoint.resource_name}:predict"
   ]
  },
  {
   "cell_type": "markdown",
   "id": "7b428c9d",
   "metadata": {},
   "source": [
    "### Get Predictions: gcloud (CLI)"
   ]
  },
  {
   "cell_type": "code",
   "execution_count": 160,
   "id": "d3523017",
   "metadata": {},
   "outputs": [
    {
     "name": "stdout",
     "output_type": "stream",
     "text": [
      "Using endpoint [https://us-central1-prediction-aiplatform.googleapis.com/]\n",
      "[{'classes': ['0', '1'], 'scores': [0.9995495080947876, 0.0004505057877395302]}]\n"
     ]
    }
   ],
   "source": [
    "!gcloud beta ai endpoints predict {endpoint.name.rsplit('/',1)[-1]} --region={REGION} --json-request={DIR}/request.json"
   ]
  },
  {
   "cell_type": "markdown",
   "id": "1a12e906",
   "metadata": {},
   "source": [
    "### Batch Predictions: BigQuery Source to BigQuery Destination, with Explanations"
   ]
  },
  {
   "cell_type": "code",
   "execution_count": 67,
   "id": "7145bae3",
   "metadata": {},
   "outputs": [
    {
     "name": "stdout",
     "output_type": "stream",
     "text": [
      "INFO:google.cloud.aiplatform.jobs:Creating BatchPredictionJob\n",
      "INFO:google.cloud.aiplatform.jobs:BatchPredictionJob created. Resource name: projects/691911073727/locations/us-central1/batchPredictionJobs/7411572587349671936\n",
      "INFO:google.cloud.aiplatform.jobs:To use this BatchPredictionJob in another session:\n",
      "INFO:google.cloud.aiplatform.jobs:bpj = aiplatform.BatchPredictionJob('projects/691911073727/locations/us-central1/batchPredictionJobs/7411572587349671936')\n",
      "INFO:google.cloud.aiplatform.jobs:View Batch Prediction Job:\n",
      "https://console.cloud.google.com/ai/platform/locations/us-central1/batch-predictions/7411572587349671936?project=691911073727\n",
      "INFO:google.cloud.aiplatform.jobs:BatchPredictionJob projects/691911073727/locations/us-central1/batchPredictionJobs/7411572587349671936 current state:\n",
      "JobState.JOB_STATE_RUNNING\n",
      "INFO:google.cloud.aiplatform.jobs:BatchPredictionJob projects/691911073727/locations/us-central1/batchPredictionJobs/7411572587349671936 current state:\n",
      "JobState.JOB_STATE_RUNNING\n",
      "INFO:google.cloud.aiplatform.jobs:BatchPredictionJob projects/691911073727/locations/us-central1/batchPredictionJobs/7411572587349671936 current state:\n",
      "JobState.JOB_STATE_RUNNING\n",
      "INFO:google.cloud.aiplatform.jobs:BatchPredictionJob projects/691911073727/locations/us-central1/batchPredictionJobs/7411572587349671936 current state:\n",
      "JobState.JOB_STATE_RUNNING\n",
      "INFO:google.cloud.aiplatform.jobs:BatchPredictionJob projects/691911073727/locations/us-central1/batchPredictionJobs/7411572587349671936 current state:\n",
      "JobState.JOB_STATE_RUNNING\n",
      "INFO:google.cloud.aiplatform.jobs:BatchPredictionJob projects/691911073727/locations/us-central1/batchPredictionJobs/7411572587349671936 current state:\n",
      "JobState.JOB_STATE_RUNNING\n",
      "INFO:google.cloud.aiplatform.jobs:BatchPredictionJob projects/691911073727/locations/us-central1/batchPredictionJobs/7411572587349671936 current state:\n",
      "JobState.JOB_STATE_RUNNING\n",
      "INFO:google.cloud.aiplatform.jobs:BatchPredictionJob projects/691911073727/locations/us-central1/batchPredictionJobs/7411572587349671936 current state:\n",
      "JobState.JOB_STATE_RUNNING\n",
      "INFO:google.cloud.aiplatform.jobs:BatchPredictionJob projects/691911073727/locations/us-central1/batchPredictionJobs/7411572587349671936 current state:\n",
      "JobState.JOB_STATE_RUNNING\n",
      "INFO:google.cloud.aiplatform.jobs:BatchPredictionJob projects/691911073727/locations/us-central1/batchPredictionJobs/7411572587349671936 current state:\n",
      "JobState.JOB_STATE_RUNNING\n",
      "INFO:google.cloud.aiplatform.jobs:BatchPredictionJob projects/691911073727/locations/us-central1/batchPredictionJobs/7411572587349671936 current state:\n",
      "JobState.JOB_STATE_RUNNING\n",
      "INFO:google.cloud.aiplatform.jobs:BatchPredictionJob projects/691911073727/locations/us-central1/batchPredictionJobs/7411572587349671936 current state:\n",
      "JobState.JOB_STATE_SUCCEEDED\n",
      "INFO:google.cloud.aiplatform.jobs:BatchPredictionJob run completed. Resource name: projects/691911073727/locations/us-central1/batchPredictionJobs/7411572587349671936\n"
     ]
    }
   ],
   "source": [
    "batch = aiplatform.BatchPredictionJob.create(\n",
    "    job_display_name = f'{NOTEBOOK}_{DATANAME}_{TIMESTAMP}',\n",
    "    model_name = endpoint.list_models()[0].model,\n",
    "    instances_format = \"bigquery\",\n",
    "    predictions_format = \"bigquery\",\n",
    "    bigquery_source = f'bq://{PROJECT_ID}.{DATANAME}.{DATANAME}_prepped',\n",
    "    bigquery_destination_prefix = f\"{PROJECT_ID}\",\n",
    "    generate_explanation=True,\n",
    "    labels = {'notebook':f'{NOTEBOOK}'}\n",
    ")"
   ]
  },
  {
   "cell_type": "markdown",
   "id": "3d0d825b",
   "metadata": {},
   "source": [
    "---\n",
    "## Explanations\n",
    "Interpretation Guide\n",
    "- https://cloud.google.com/vertex-ai/docs/predictions/interpreting-results-automl#tabular"
   ]
  },
  {
   "cell_type": "code",
   "execution_count": 79,
   "id": "80280fc8",
   "metadata": {},
   "outputs": [],
   "source": [
    "explanation = endpoint.explain(instances=instances, parameters=parameters)"
   ]
  },
  {
   "cell_type": "code",
   "execution_count": 80,
   "id": "6b2a6912",
   "metadata": {},
   "outputs": [
    {
     "data": {
      "text/plain": [
       "[{'classes': ['1', '9', '7', '4', '6', '5', '3', '8', '2', '0'],\n",
       "  'scores': [0.0009737279615364969,\n",
       "   0.001646753866225481,\n",
       "   0.01082501467317343,\n",
       "   0.001175398472696543,\n",
       "   0.0007391706458292902,\n",
       "   3.578661107894732e-06,\n",
       "   0.003482987405732274,\n",
       "   0.01744825765490532,\n",
       "   0.9632335305213928,\n",
       "   0.0004715350805781782]}]"
      ]
     },
     "execution_count": 80,
     "metadata": {},
     "output_type": "execute_result"
    }
   ],
   "source": [
    "explanation.predictions"
   ]
  },
  {
   "cell_type": "code",
   "execution_count": 81,
   "id": "a862b22a",
   "metadata": {},
   "outputs": [
    {
     "name": "stdout",
     "output_type": "stream",
     "text": [
      "attribution:\n",
      "baseline output 0.0031117068803203957\n",
      "instance output 0.9632335305213928\n",
      "output_index [8]\n",
      "output display value 2\n",
      "approximation error 0.029062144378465396\n"
     ]
    }
   ],
   "source": [
    "print(\"attribution:\")\n",
    "print(\"baseline output\",explanation.explanations[0].attributions[0].baseline_output_value)\n",
    "print(\"instance output\",explanation.explanations[0].attributions[0].instance_output_value)\n",
    "print(\"output_index\",explanation.explanations[0].attributions[0].output_index)\n",
    "print(\"output display value\",explanation.explanations[0].attributions[0].output_display_name)\n",
    "print(\"approximation error\",explanation.explanations[0].attributions[0].approximation_error)"
   ]
  },
  {
   "cell_type": "code",
   "execution_count": 82,
   "id": "b697b038",
   "metadata": {},
   "outputs": [
    {
     "data": {
      "text/plain": [
       "baseline_output_value: 0.0031117068803203957\n",
       "instance_output_value: 0.9632335305213928\n",
       "feature_attributions {\n",
       "  struct_value {\n",
       "    fields {\n",
       "      key: \"p0\"\n",
       "      value {\n",
       "        number_value: -3.326152052198137e-11\n",
       "      }\n",
       "    }\n",
       "    fields {\n",
       "      key: \"p1\"\n",
       "      value {\n",
       "        number_value: 0.003104999727968659\n",
       "      }\n",
       "    }\n",
       "    fields {\n",
       "      key: \"p10\"\n",
       "      value {\n",
       "        number_value: 0.0\n",
       "      }\n",
       "    }\n",
       "    fields {\n",
       "      key: \"p11\"\n",
       "      value {\n",
       "        number_value: 0.003400824165769986\n",
       "      }\n",
       "    }\n",
       "    fields {\n",
       "      key: \"p12\"\n",
       "      value {\n",
       "        number_value: 0.0003907554450311831\n",
       "      }\n",
       "    }\n",
       "    fields {\n",
       "      key: \"p13\"\n",
       "      value {\n",
       "        number_value: 0.1004349844131086\n",
       "      }\n",
       "    }\n",
       "    fields {\n",
       "      key: \"p14\"\n",
       "      value {\n",
       "        number_value: 0.0\n",
       "      }\n",
       "    }\n",
       "    fields {\n",
       "      key: \"p15\"\n",
       "      value {\n",
       "        number_value: 0.0\n",
       "      }\n",
       "    }\n",
       "    fields {\n",
       "      key: \"p16\"\n",
       "      value {\n",
       "        number_value: 0.0\n",
       "      }\n",
       "    }\n",
       "    fields {\n",
       "      key: \"p17\"\n",
       "      value {\n",
       "        number_value: 0.0007883249782025814\n",
       "      }\n",
       "    }\n",
       "    fields {\n",
       "      key: \"p18\"\n",
       "      value {\n",
       "        number_value: 0.05621770290391786\n",
       "      }\n",
       "    }\n",
       "    fields {\n",
       "      key: \"p19\"\n",
       "      value {\n",
       "        number_value: 0.0004447608787034239\n",
       "      }\n",
       "    }\n",
       "    fields {\n",
       "      key: \"p2\"\n",
       "      value {\n",
       "        number_value: 0.0006501829318170037\n",
       "      }\n",
       "    }\n",
       "    fields {\n",
       "      key: \"p20\"\n",
       "      value {\n",
       "        number_value: -0.0001534920052758285\n",
       "      }\n",
       "    }\n",
       "    fields {\n",
       "      key: \"p21\"\n",
       "      value {\n",
       "        number_value: 0.03218654307004597\n",
       "      }\n",
       "    }\n",
       "    fields {\n",
       "      key: \"p22\"\n",
       "      value {\n",
       "        number_value: 0.0\n",
       "      }\n",
       "    }\n",
       "    fields {\n",
       "      key: \"p23\"\n",
       "      value {\n",
       "        number_value: 0.0\n",
       "      }\n",
       "    }\n",
       "    fields {\n",
       "      key: \"p24\"\n",
       "      value {\n",
       "        number_value: 0.0\n",
       "      }\n",
       "    }\n",
       "    fields {\n",
       "      key: \"p25\"\n",
       "      value {\n",
       "        number_value: -0.0007057699175285441\n",
       "      }\n",
       "    }\n",
       "    fields {\n",
       "      key: \"p26\"\n",
       "      value {\n",
       "        number_value: 0.07859321683645248\n",
       "      }\n",
       "    }\n",
       "    fields {\n",
       "      key: \"p27\"\n",
       "      value {\n",
       "        number_value: -0.0004188377476696457\n",
       "      }\n",
       "    }\n",
       "    fields {\n",
       "      key: \"p28\"\n",
       "      value {\n",
       "        number_value: 1.560577324458531e-05\n",
       "      }\n",
       "    }\n",
       "    fields {\n",
       "      key: \"p29\"\n",
       "      value {\n",
       "        number_value: 0.01508309163286218\n",
       "      }\n",
       "    }\n",
       "    fields {\n",
       "      key: \"p3\"\n",
       "      value {\n",
       "        number_value: 0.01005776253129755\n",
       "      }\n",
       "    }\n",
       "    fields {\n",
       "      key: \"p30\"\n",
       "      value {\n",
       "        number_value: 0.0\n",
       "      }\n",
       "    }\n",
       "    fields {\n",
       "      key: \"p31\"\n",
       "      value {\n",
       "        number_value: 0.0\n",
       "      }\n",
       "    }\n",
       "    fields {\n",
       "      key: \"p32\"\n",
       "      value {\n",
       "        number_value: 0.0\n",
       "      }\n",
       "    }\n",
       "    fields {\n",
       "      key: \"p33\"\n",
       "      value {\n",
       "        number_value: 3.326152052198137e-11\n",
       "      }\n",
       "    }\n",
       "    fields {\n",
       "      key: \"p34\"\n",
       "      value {\n",
       "        number_value: -0.009002615797466465\n",
       "      }\n",
       "    }\n",
       "    fields {\n",
       "      key: \"p35\"\n",
       "      value {\n",
       "        number_value: -0.00737994779566569\n",
       "      }\n",
       "    }\n",
       "    fields {\n",
       "      key: \"p36\"\n",
       "      value {\n",
       "        number_value: -0.002077297107981784\n",
       "      }\n",
       "    }\n",
       "    fields {\n",
       "      key: \"p37\"\n",
       "      value {\n",
       "        number_value: 0.001767519462321486\n",
       "      }\n",
       "    }\n",
       "    fields {\n",
       "      key: \"p38\"\n",
       "      value {\n",
       "        number_value: 0.002355852530204824\n",
       "      }\n",
       "    }\n",
       "    fields {\n",
       "      key: \"p39\"\n",
       "      value {\n",
       "        number_value: 0.0\n",
       "      }\n",
       "    }\n",
       "    fields {\n",
       "      key: \"p4\"\n",
       "      value {\n",
       "        number_value: 0.0296684719422566\n",
       "      }\n",
       "    }\n",
       "    fields {\n",
       "      key: \"p40\"\n",
       "      value {\n",
       "        number_value: 0.0\n",
       "      }\n",
       "    }\n",
       "    fields {\n",
       "      key: \"p41\"\n",
       "      value {\n",
       "        number_value: 0.01310593255662492\n",
       "      }\n",
       "    }\n",
       "    fields {\n",
       "      key: \"p42\"\n",
       "      value {\n",
       "        number_value: -0.01502632532667901\n",
       "      }\n",
       "    }\n",
       "    fields {\n",
       "      key: \"p43\"\n",
       "      value {\n",
       "        number_value: 0.01598362717777491\n",
       "      }\n",
       "    }\n",
       "    fields {\n",
       "      key: \"p44\"\n",
       "      value {\n",
       "        number_value: 0.1875638255317296\n",
       "      }\n",
       "    }\n",
       "    fields {\n",
       "      key: \"p45\"\n",
       "      value {\n",
       "        number_value: 0.003623191732913256\n",
       "      }\n",
       "    }\n",
       "    fields {\n",
       "      key: \"p46\"\n",
       "      value {\n",
       "        number_value: -0.0006430736809436764\n",
       "      }\n",
       "    }\n",
       "    fields {\n",
       "      key: \"p47\"\n",
       "      value {\n",
       "        number_value: 0.0\n",
       "      }\n",
       "    }\n",
       "    fields {\n",
       "      key: \"p48\"\n",
       "      value {\n",
       "        number_value: 0.0\n",
       "      }\n",
       "    }\n",
       "    fields {\n",
       "      key: \"p49\"\n",
       "      value {\n",
       "        number_value: 0.07713596103712916\n",
       "      }\n",
       "    }\n",
       "    fields {\n",
       "      key: \"p5\"\n",
       "      value {\n",
       "        number_value: -0.00447923836431333\n",
       "      }\n",
       "    }\n",
       "    fields {\n",
       "      key: \"p50\"\n",
       "      value {\n",
       "        number_value: 0.02619273651258222\n",
       "      }\n",
       "    }\n",
       "    fields {\n",
       "      key: \"p51\"\n",
       "      value {\n",
       "        number_value: 0.01675057045317122\n",
       "      }\n",
       "    }\n",
       "    fields {\n",
       "      key: \"p52\"\n",
       "      value {\n",
       "        number_value: -0.02198877787616636\n",
       "      }\n",
       "    }\n",
       "    fields {\n",
       "      key: \"p53\"\n",
       "      value {\n",
       "        number_value: 6.894165250871862e-05\n",
       "      }\n",
       "    }\n",
       "    fields {\n",
       "      key: \"p54\"\n",
       "      value {\n",
       "        number_value: 0.003193938838584082\n",
       "      }\n",
       "    }\n",
       "    fields {\n",
       "      key: \"p55\"\n",
       "      value {\n",
       "        number_value: 0.0\n",
       "      }\n",
       "    }\n",
       "    fields {\n",
       "      key: \"p56\"\n",
       "      value {\n",
       "        number_value: 0.0\n",
       "      }\n",
       "    }\n",
       "    fields {\n",
       "      key: \"p57\"\n",
       "      value {\n",
       "        number_value: 0.2187103540303984\n",
       "      }\n",
       "    }\n",
       "    fields {\n",
       "      key: \"p58\"\n",
       "      value {\n",
       "        number_value: 0.05427608915072467\n",
       "      }\n",
       "    }\n",
       "    fields {\n",
       "      key: \"p59\"\n",
       "      value {\n",
       "        number_value: 0.01598114327394537\n",
       "      }\n",
       "    }\n",
       "    fields {\n",
       "      key: \"p6\"\n",
       "      value {\n",
       "        number_value: 0.0\n",
       "      }\n",
       "    }\n",
       "    fields {\n",
       "      key: \"p60\"\n",
       "      value {\n",
       "        number_value: 0.0003372777053820235\n",
       "      }\n",
       "    }\n",
       "    fields {\n",
       "      key: \"p61\"\n",
       "      value {\n",
       "        number_value: 0.008556430860023414\n",
       "      }\n",
       "    }\n",
       "    fields {\n",
       "      key: \"p62\"\n",
       "      value {\n",
       "        number_value: 0.04490524181164801\n",
       "      }\n",
       "    }\n",
       "    fields {\n",
       "      key: \"p63\"\n",
       "      value {\n",
       "        number_value: 0.0\n",
       "      }\n",
       "    }\n",
       "    fields {\n",
       "      key: \"p7\"\n",
       "      value {\n",
       "        number_value: 0.0\n",
       "      }\n",
       "    }\n",
       "    fields {\n",
       "      key: \"p8\"\n",
       "      value {\n",
       "        number_value: 0.0\n",
       "      }\n",
       "    }\n",
       "    fields {\n",
       "      key: \"p9\"\n",
       "      value {\n",
       "        number_value: 0.0004513377124177558\n",
       "      }\n",
       "    }\n",
       "  }\n",
       "}\n",
       "output_index: 8\n",
       "output_display_name: \"2\"\n",
       "approximation_error: 0.029062144378465396\n",
       "output_name: \"scores\""
      ]
     },
     "execution_count": 82,
     "metadata": {},
     "output_type": "execute_result"
    }
   ],
   "source": [
    "explanation.explanations[0].attributions[0]"
   ]
  },
  {
   "cell_type": "markdown",
   "id": "4022b5bd",
   "metadata": {},
   "source": [
    "---\n",
    "## Remove Resources\n",
    "see notebook \"XX - Cleanup\""
   ]
  }
 ],
 "metadata": {
  "environment": {
   "name": "tf2-gpu.2-3.m79",
   "type": "gcloud",
   "uri": "gcr.io/deeplearning-platform-release/tf2-gpu.2-3:m79"
  },
  "kernelspec": {
   "display_name": "Python 3",
   "language": "python",
   "name": "python3"
  },
  "language_info": {
   "codemirror_mode": {
    "name": "ipython",
    "version": 3
   },
   "file_extension": ".py",
   "mimetype": "text/x-python",
   "name": "python",
   "nbconvert_exporter": "python",
   "pygments_lexer": "ipython3",
   "version": "3.7.10"
  }
 },
 "nbformat": 4,
 "nbformat_minor": 5
}
