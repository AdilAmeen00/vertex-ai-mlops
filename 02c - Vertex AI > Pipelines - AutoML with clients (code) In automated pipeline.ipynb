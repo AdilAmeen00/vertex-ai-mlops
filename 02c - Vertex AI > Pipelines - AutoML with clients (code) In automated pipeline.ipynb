{
 "cells": [
  {
   "cell_type": "markdown",
   "id": "770a0e3a",
   "metadata": {},
   "source": [
    "# AutoML with Vertex AI - Python Clients\n",
    "## Orchestrated with Vertex AI - Pipelines\n",
    "\n",
    "This notebook uses Python Clients for Vertex AI to recreate this workflow:\n",
    "- create a Dataset linked to BigQuery table\n",
    "- Train an AutoML model for the Dataset\n",
    "- Deploy the Model to and Endpoint\n",
    "- Create Batch Predictions\n",
    "- Create Online Predictions\n",
    "\n",
    "**Prerequisites**\n",
    "- `00 - Initial Setup`\n",
    "- `01 - BigQuery Data`\n",
    "\n",
    "**Resources**\n",
    "- API: https://googleapis.dev/python/aiplatform/latest/aiplatform.html\n",
    "\n",
    "https://cloud.google.com/vertex-ai/docs/pipelines/build-pipeline#google-cloud-components\n",
    "\n",
    "https://github.com/kubeflow/pipelines/tree/master/components/google-cloud\n",
    "\n",
    "https://codelabs.developers.google.com/vertex-mlmd-pipelines#0\n",
    "\n",
    "**Overview**\n",
    "\n",
    "<img src=\"architectures/statmike-mlops-A2.png\">"
   ]
  },
  {
   "cell_type": "markdown",
   "id": "45ba75db",
   "metadata": {},
   "source": [
    "---"
   ]
  },
  {
   "cell_type": "code",
   "execution_count": 95,
   "id": "ea8ec40c",
   "metadata": {},
   "outputs": [],
   "source": [
    "from google.cloud import aiplatform\n",
    "from datetime import datetime\n",
    "import kfp\n",
    "import kfp.v2.dsl as dsl\n",
    "from google_cloud_pipeline_components import aiplatform as gcc_aip"
   ]
  },
  {
   "cell_type": "code",
   "execution_count": 126,
   "id": "19d6916e",
   "metadata": {},
   "outputs": [],
   "source": [
    "# Locations\n",
    "REGION = 'us-central1'\n",
    "PROJECT_ID='statmike-mlops'\n",
    "BUCKET_NAME='gs://{}/digits/model/02c-automl'.format(PROJECT_ID)\n",
    "TIMESTAMP = datetime.now().strftime(\"%Y%m%d%H%M%S\")\n",
    "EXPERIMENT_NAME = '02c-automl'\n",
    "JOB_NAME = 'job-'+EXPERIMENT_NAME+'_'+TIMESTAMP\n",
    "MODEL_DIR = '{}/{}'.format(BUCKET_NAME, JOB_NAME)\n",
    "PIPELINE_ROOT = f\"{MODEL_DIR}/pipeline_root/\"\n",
    "PARENT = \"projects/\" + PROJECT_ID + \"/locations/\" + REGION\n",
    "\n",
    "# files\n",
    "PACKAGE = EXPERIMENT_NAME\n",
    "\n",
    "# Resources\n",
    "DEPLOY_COMPUTE='n1-standard-4'"
   ]
  },
  {
   "cell_type": "markdown",
   "id": "5318cae1",
   "metadata": {},
   "source": [
    "Give service account roles/storage.objectAdmin permissions: Console > IAM > Select account projectnumber-compute@developer.gserviceaccount.com > edit - give it the role"
   ]
  },
  {
   "cell_type": "code",
   "execution_count": 127,
   "id": "6384ac55",
   "metadata": {},
   "outputs": [
    {
     "data": {
      "text/plain": [
       "'691911073727-compute@developer.gserviceaccount.com'"
      ]
     },
     "execution_count": 127,
     "metadata": {},
     "output_type": "execute_result"
    }
   ],
   "source": [
    "SERVICE_ACCOUNT = !gcloud config list --format='value(core.account)' \n",
    "SERVICE_ACCOUNT = SERVICE_ACCOUNT[0]\n",
    "SERVICE_ACCOUNT"
   ]
  },
  {
   "cell_type": "code",
   "execution_count": 128,
   "id": "f7c506b7",
   "metadata": {},
   "outputs": [],
   "source": [
    "aiplatform.init(project=PROJECT_ID, location=REGION)"
   ]
  },
  {
   "cell_type": "markdown",
   "id": "361ae29e",
   "metadata": {},
   "source": [
    "---\n"
   ]
  },
  {
   "cell_type": "code",
   "execution_count": 129,
   "id": "27622312",
   "metadata": {},
   "outputs": [],
   "source": [
    "!rm -rf {PACKAGE}\n",
    "!mkdir {PACKAGE}"
   ]
  },
  {
   "cell_type": "code",
   "execution_count": 130,
   "id": "dc399812",
   "metadata": {},
   "outputs": [],
   "source": [
    "# Pipeline - was EXPERIMENT_NAME\n",
    "@kfp.dsl.pipeline(name='testname', pipeline_root=PIPELINE_ROOT)\n",
    "def pipeline(\n",
    "    project: str = PROJECT_ID,\n",
    "    display_name: str = JOB_NAME,\n",
    "    deploy_machine: str = DEPLOY_COMPUTE,\n",
    "    bq_source: str = \"bq://statmike-mlops.digits.digits_source\",\n",
    "    \n",
    "):\n",
    "    \n",
    "    # dataset\n",
    "    dataset = gcc_aip.TabularDatasetCreateOp(\n",
    "        project = project,\n",
    "        display_name = display_name,\n",
    "        bq_source = bq_source\n",
    "    )\n",
    "    \n",
    "    # training\n",
    "    transformations = []\n",
    "    for i in range(64):\n",
    "        transformations.append({'auto': {'column_name': 'p'+str(i)}})\n",
    "        \n",
    "    model = gcc_aip.AutoMLTabularTrainingJobRunOp(\n",
    "        project = project,\n",
    "        display_name = display_name,\n",
    "        optimization_prediction_type = \"classification\",\n",
    "        budget_milli_node_hours = 1000,\n",
    "        disable_early_stopping=False,\n",
    "        column_transformations = transformations,\n",
    "        dataset = dataset.outputs['dataset'],\n",
    "        target_column = \"target\",\n",
    "        training_fraction_split=0.8,\n",
    "        validation_fraction_split=0.1,\n",
    "        test_fraction_split=0.1,\n",
    "    )\n",
    "    \n",
    "    # Endpoint Deployment\n",
    "    endpoint = gcc_aip.ModelDeployOp(\n",
    "        model = model.outputs[\"model\"],\n",
    "        project = project,\n",
    "        machine_type = deploy_machine\n",
    "    )"
   ]
  },
  {
   "cell_type": "code",
   "execution_count": 131,
   "id": "a045a18d",
   "metadata": {},
   "outputs": [],
   "source": [
    "# Compile\n",
    "kfp.v2.compiler.Compiler().compile(\n",
    "    pipeline_func=pipeline, package_path=f\"{PACKAGE}/{EXPERIMENT_NAME}.json\"\n",
    ")"
   ]
  },
  {
   "cell_type": "code",
   "execution_count": 132,
   "id": "b2d5d7b5",
   "metadata": {},
   "outputs": [
    {
     "name": "stdout",
     "output_type": "stream",
     "text": [
      "Copying file://02c-automl/02c-automl.json [Content-Type=application/json]...\n",
      "/ [1 files][ 12.0 KiB/ 12.0 KiB]                                                \n",
      "Operation completed over 1 objects/12.0 KiB.                                     \n"
     ]
    }
   ],
   "source": [
    "# Move to GCS\n",
    "!gsutil cp {PACKAGE}/*.json $PIPELINE_ROOT"
   ]
  },
  {
   "cell_type": "code",
   "execution_count": 133,
   "id": "22c944f0",
   "metadata": {},
   "outputs": [
    {
     "data": {
      "text/plain": [
       "'job-02c-automl_20210908124535'"
      ]
     },
     "execution_count": 133,
     "metadata": {},
     "output_type": "execute_result"
    }
   ],
   "source": [
    "JOB_NAME"
   ]
  },
  {
   "cell_type": "code",
   "execution_count": 134,
   "id": "d35db04d",
   "metadata": {},
   "outputs": [
    {
     "data": {
      "text/plain": [
       "'02c-automl'"
      ]
     },
     "execution_count": 134,
     "metadata": {},
     "output_type": "execute_result"
    }
   ],
   "source": [
    "EXPERIMENT_NAME"
   ]
  },
  {
   "cell_type": "code",
   "execution_count": 135,
   "id": "de09c95f",
   "metadata": {},
   "outputs": [],
   "source": [
    "# Make Job\n",
    "plJob = aiplatform.PipelineJob(\n",
    "    display_name=EXPERIMENT_NAME,\n",
    "    template_path=f\"{PIPELINE_ROOT}{EXPERIMENT_NAME}.json\",\n",
    "    pipeline_root=PIPELINE_ROOT\n",
    ")"
   ]
  },
  {
   "cell_type": "code",
   "execution_count": 136,
   "id": "51cfcf62",
   "metadata": {},
   "outputs": [
    {
     "name": "stdout",
     "output_type": "stream",
     "text": [
      "INFO:google.cloud.aiplatform.pipeline_jobs:Creating PipelineJob\n",
      "INFO:google.cloud.aiplatform.pipeline_jobs:PipelineJob created. Resource name: projects/691911073727/locations/us-central1/pipelineJobs/testname-20210908124552\n",
      "INFO:google.cloud.aiplatform.pipeline_jobs:To use this PipelineJob in another session:\n",
      "INFO:google.cloud.aiplatform.pipeline_jobs:pipeline_job = aiplatform.PipelineJob.get('projects/691911073727/locations/us-central1/pipelineJobs/testname-20210908124552')\n",
      "INFO:google.cloud.aiplatform.pipeline_jobs:View Pipeline Job:\n",
      "https://console.cloud.google.com/vertex-ai/locations/us-central1/pipelines/runs/testname-20210908124552?project=691911073727\n",
      "INFO:google.cloud.aiplatform.pipeline_jobs:PipelineJob projects/691911073727/locations/us-central1/pipelineJobs/testname-20210908124552 current state:\n",
      "PipelineState.PIPELINE_STATE_RUNNING\n",
      "INFO:google.cloud.aiplatform.pipeline_jobs:PipelineJob projects/691911073727/locations/us-central1/pipelineJobs/testname-20210908124552 current state:\n",
      "PipelineState.PIPELINE_STATE_RUNNING\n",
      "INFO:google.cloud.aiplatform.pipeline_jobs:PipelineJob projects/691911073727/locations/us-central1/pipelineJobs/testname-20210908124552 current state:\n",
      "PipelineState.PIPELINE_STATE_RUNNING\n",
      "INFO:google.cloud.aiplatform.pipeline_jobs:PipelineJob projects/691911073727/locations/us-central1/pipelineJobs/testname-20210908124552 current state:\n",
      "PipelineState.PIPELINE_STATE_RUNNING\n",
      "INFO:google.cloud.aiplatform.pipeline_jobs:PipelineJob projects/691911073727/locations/us-central1/pipelineJobs/testname-20210908124552 current state:\n",
      "PipelineState.PIPELINE_STATE_RUNNING\n",
      "INFO:google.cloud.aiplatform.pipeline_jobs:PipelineJob projects/691911073727/locations/us-central1/pipelineJobs/testname-20210908124552 current state:\n",
      "PipelineState.PIPELINE_STATE_RUNNING\n",
      "INFO:google.cloud.aiplatform.pipeline_jobs:PipelineJob projects/691911073727/locations/us-central1/pipelineJobs/testname-20210908124552 current state:\n",
      "PipelineState.PIPELINE_STATE_RUNNING\n",
      "INFO:google.cloud.aiplatform.pipeline_jobs:PipelineJob projects/691911073727/locations/us-central1/pipelineJobs/testname-20210908124552 current state:\n",
      "PipelineState.PIPELINE_STATE_RUNNING\n",
      "INFO:google.cloud.aiplatform.pipeline_jobs:PipelineJob projects/691911073727/locations/us-central1/pipelineJobs/testname-20210908124552 current state:\n",
      "PipelineState.PIPELINE_STATE_RUNNING\n",
      "INFO:google.cloud.aiplatform.pipeline_jobs:PipelineJob projects/691911073727/locations/us-central1/pipelineJobs/testname-20210908124552 current state:\n",
      "PipelineState.PIPELINE_STATE_RUNNING\n",
      "INFO:google.cloud.aiplatform.pipeline_jobs:PipelineJob projects/691911073727/locations/us-central1/pipelineJobs/testname-20210908124552 current state:\n",
      "PipelineState.PIPELINE_STATE_RUNNING\n",
      "INFO:google.cloud.aiplatform.pipeline_jobs:PipelineJob projects/691911073727/locations/us-central1/pipelineJobs/testname-20210908124552 current state:\n",
      "PipelineState.PIPELINE_STATE_RUNNING\n",
      "INFO:google.cloud.aiplatform.pipeline_jobs:PipelineJob projects/691911073727/locations/us-central1/pipelineJobs/testname-20210908124552 current state:\n",
      "PipelineState.PIPELINE_STATE_RUNNING\n",
      "INFO:google.cloud.aiplatform.pipeline_jobs:PipelineJob projects/691911073727/locations/us-central1/pipelineJobs/testname-20210908124552 current state:\n",
      "PipelineState.PIPELINE_STATE_RUNNING\n",
      "INFO:google.cloud.aiplatform.pipeline_jobs:PipelineJob projects/691911073727/locations/us-central1/pipelineJobs/testname-20210908124552 current state:\n",
      "PipelineState.PIPELINE_STATE_RUNNING\n",
      "INFO:google.cloud.aiplatform.pipeline_jobs:PipelineJob projects/691911073727/locations/us-central1/pipelineJobs/testname-20210908124552 current state:\n",
      "PipelineState.PIPELINE_STATE_RUNNING\n",
      "INFO:google.cloud.aiplatform.pipeline_jobs:PipelineJob projects/691911073727/locations/us-central1/pipelineJobs/testname-20210908124552 current state:\n",
      "PipelineState.PIPELINE_STATE_RUNNING\n",
      "INFO:google.cloud.aiplatform.pipeline_jobs:PipelineJob projects/691911073727/locations/us-central1/pipelineJobs/testname-20210908124552 current state:\n",
      "PipelineState.PIPELINE_STATE_RUNNING\n",
      "INFO:google.cloud.aiplatform.pipeline_jobs:PipelineJob projects/691911073727/locations/us-central1/pipelineJobs/testname-20210908124552 current state:\n",
      "PipelineState.PIPELINE_STATE_RUNNING\n",
      "INFO:google.cloud.aiplatform.pipeline_jobs:PipelineJob run completed. Resource name: projects/691911073727/locations/us-central1/pipelineJobs/testname-20210908124552\n"
     ]
    }
   ],
   "source": [
    "# Run Job\n",
    "response = plJob.run(service_account = SERVICE_ACCOUNT)"
   ]
  },
  {
   "cell_type": "code",
   "execution_count": 165,
   "id": "83373488",
   "metadata": {},
   "outputs": [
    {
     "data": {
      "text/html": [
       "<div>\n",
       "<style scoped>\n",
       "    .dataframe tbody tr th:only-of-type {\n",
       "        vertical-align: middle;\n",
       "    }\n",
       "\n",
       "    .dataframe tbody tr th {\n",
       "        vertical-align: top;\n",
       "    }\n",
       "\n",
       "    .dataframe thead th {\n",
       "        text-align: right;\n",
       "    }\n",
       "</style>\n",
       "<table border=\"1\" class=\"dataframe\">\n",
       "  <thead>\n",
       "    <tr style=\"text-align: right;\">\n",
       "      <th></th>\n",
       "      <th>pipeline_name</th>\n",
       "      <th>run_name</th>\n",
       "      <th>param.input:project</th>\n",
       "      <th>param.input:display_name</th>\n",
       "      <th>param.input:bq_source</th>\n",
       "      <th>param.input:deploy_machine</th>\n",
       "    </tr>\n",
       "  </thead>\n",
       "  <tbody>\n",
       "    <tr>\n",
       "      <th>0</th>\n",
       "      <td>testname</td>\n",
       "      <td>testname-20210908124552</td>\n",
       "      <td>statmike-mlops</td>\n",
       "      <td>job-02c-automl_20210908124535</td>\n",
       "      <td>bq://statmike-mlops.digits.digits_source</td>\n",
       "      <td>n1-standard-4</td>\n",
       "    </tr>\n",
       "  </tbody>\n",
       "</table>\n",
       "</div>"
      ],
      "text/plain": [
       "  pipeline_name                 run_name param.input:project  \\\n",
       "0      testname  testname-20210908124552      statmike-mlops   \n",
       "\n",
       "        param.input:display_name                     param.input:bq_source  \\\n",
       "0  job-02c-automl_20210908124535  bq://statmike-mlops.digits.digits_source   \n",
       "\n",
       "  param.input:deploy_machine  \n",
       "0              n1-standard-4  "
      ]
     },
     "execution_count": 165,
     "metadata": {},
     "output_type": "execute_result"
    }
   ],
   "source": [
    "aiplatform.get_pipeline_df(pipeline='testname')"
   ]
  },
  {
   "cell_type": "markdown",
   "id": "afa663fc",
   "metadata": {},
   "source": [
    "---\n",
    "## Prediction"
   ]
  },
  {
   "cell_type": "markdown",
   "id": "8b0b8bae",
   "metadata": {},
   "source": [
    "### Prepare a record for prediction: instance and parameters lists"
   ]
  },
  {
   "cell_type": "code",
   "execution_count": 137,
   "id": "1cb23ebf",
   "metadata": {},
   "outputs": [
    {
     "name": "stderr",
     "output_type": "stream",
     "text": [
      "Query complete after 0.01s: 100%|██████████| 1/1 [00:00<00:00, 469.32query/s]                          \n",
      "Downloading: 100%|██████████| 10/10 [00:01<00:00,  5.14rows/s]\n"
     ]
    }
   ],
   "source": [
    "%%bigquery pred\n",
    "SELECT *\n",
    "FROM `digits.digits_source`\n",
    "LIMIT 10"
   ]
  },
  {
   "cell_type": "code",
   "execution_count": 138,
   "id": "a183b1bc",
   "metadata": {},
   "outputs": [
    {
     "data": {
      "text/html": [
       "<div>\n",
       "<style scoped>\n",
       "    .dataframe tbody tr th:only-of-type {\n",
       "        vertical-align: middle;\n",
       "    }\n",
       "\n",
       "    .dataframe tbody tr th {\n",
       "        vertical-align: top;\n",
       "    }\n",
       "\n",
       "    .dataframe thead th {\n",
       "        text-align: right;\n",
       "    }\n",
       "</style>\n",
       "<table border=\"1\" class=\"dataframe\">\n",
       "  <thead>\n",
       "    <tr style=\"text-align: right;\">\n",
       "      <th></th>\n",
       "      <th>p0</th>\n",
       "      <th>p1</th>\n",
       "      <th>p2</th>\n",
       "      <th>p3</th>\n",
       "      <th>p4</th>\n",
       "      <th>p5</th>\n",
       "      <th>p6</th>\n",
       "      <th>p7</th>\n",
       "      <th>p8</th>\n",
       "      <th>p9</th>\n",
       "      <th>...</th>\n",
       "      <th>p56</th>\n",
       "      <th>p57</th>\n",
       "      <th>p58</th>\n",
       "      <th>p59</th>\n",
       "      <th>p60</th>\n",
       "      <th>p61</th>\n",
       "      <th>p62</th>\n",
       "      <th>p63</th>\n",
       "      <th>target</th>\n",
       "      <th>target_OE</th>\n",
       "    </tr>\n",
       "  </thead>\n",
       "  <tbody>\n",
       "    <tr>\n",
       "      <th>0</th>\n",
       "      <td>0.0</td>\n",
       "      <td>5.0</td>\n",
       "      <td>16.0</td>\n",
       "      <td>15.0</td>\n",
       "      <td>5.0</td>\n",
       "      <td>0.0</td>\n",
       "      <td>0.0</td>\n",
       "      <td>0.0</td>\n",
       "      <td>0.0</td>\n",
       "      <td>2.0</td>\n",
       "      <td>...</td>\n",
       "      <td>0.0</td>\n",
       "      <td>6.0</td>\n",
       "      <td>16.0</td>\n",
       "      <td>16.0</td>\n",
       "      <td>16.0</td>\n",
       "      <td>16.0</td>\n",
       "      <td>7.0</td>\n",
       "      <td>0.0</td>\n",
       "      <td>2</td>\n",
       "      <td>Even</td>\n",
       "    </tr>\n",
       "    <tr>\n",
       "      <th>1</th>\n",
       "      <td>0.0</td>\n",
       "      <td>5.0</td>\n",
       "      <td>16.0</td>\n",
       "      <td>12.0</td>\n",
       "      <td>1.0</td>\n",
       "      <td>0.0</td>\n",
       "      <td>0.0</td>\n",
       "      <td>0.0</td>\n",
       "      <td>0.0</td>\n",
       "      <td>5.0</td>\n",
       "      <td>...</td>\n",
       "      <td>0.0</td>\n",
       "      <td>8.0</td>\n",
       "      <td>16.0</td>\n",
       "      <td>16.0</td>\n",
       "      <td>16.0</td>\n",
       "      <td>16.0</td>\n",
       "      <td>4.0</td>\n",
       "      <td>0.0</td>\n",
       "      <td>2</td>\n",
       "      <td>Even</td>\n",
       "    </tr>\n",
       "    <tr>\n",
       "      <th>2</th>\n",
       "      <td>0.0</td>\n",
       "      <td>5.0</td>\n",
       "      <td>15.0</td>\n",
       "      <td>16.0</td>\n",
       "      <td>6.0</td>\n",
       "      <td>0.0</td>\n",
       "      <td>0.0</td>\n",
       "      <td>0.0</td>\n",
       "      <td>0.0</td>\n",
       "      <td>11.0</td>\n",
       "      <td>...</td>\n",
       "      <td>0.0</td>\n",
       "      <td>6.0</td>\n",
       "      <td>16.0</td>\n",
       "      <td>16.0</td>\n",
       "      <td>16.0</td>\n",
       "      <td>13.0</td>\n",
       "      <td>3.0</td>\n",
       "      <td>0.0</td>\n",
       "      <td>2</td>\n",
       "      <td>Even</td>\n",
       "    </tr>\n",
       "    <tr>\n",
       "      <th>3</th>\n",
       "      <td>0.0</td>\n",
       "      <td>4.0</td>\n",
       "      <td>15.0</td>\n",
       "      <td>15.0</td>\n",
       "      <td>8.0</td>\n",
       "      <td>0.0</td>\n",
       "      <td>0.0</td>\n",
       "      <td>0.0</td>\n",
       "      <td>0.0</td>\n",
       "      <td>8.0</td>\n",
       "      <td>...</td>\n",
       "      <td>0.0</td>\n",
       "      <td>7.0</td>\n",
       "      <td>14.0</td>\n",
       "      <td>11.0</td>\n",
       "      <td>0.0</td>\n",
       "      <td>0.0</td>\n",
       "      <td>0.0</td>\n",
       "      <td>0.0</td>\n",
       "      <td>2</td>\n",
       "      <td>Even</td>\n",
       "    </tr>\n",
       "  </tbody>\n",
       "</table>\n",
       "<p>4 rows × 66 columns</p>\n",
       "</div>"
      ],
      "text/plain": [
       "    p0   p1    p2    p3   p4   p5   p6   p7   p8    p9  ...  p56  p57   p58  \\\n",
       "0  0.0  5.0  16.0  15.0  5.0  0.0  0.0  0.0  0.0   2.0  ...  0.0  6.0  16.0   \n",
       "1  0.0  5.0  16.0  12.0  1.0  0.0  0.0  0.0  0.0   5.0  ...  0.0  8.0  16.0   \n",
       "2  0.0  5.0  15.0  16.0  6.0  0.0  0.0  0.0  0.0  11.0  ...  0.0  6.0  16.0   \n",
       "3  0.0  4.0  15.0  15.0  8.0  0.0  0.0  0.0  0.0   8.0  ...  0.0  7.0  14.0   \n",
       "\n",
       "    p59   p60   p61  p62  p63  target  target_OE  \n",
       "0  16.0  16.0  16.0  7.0  0.0       2       Even  \n",
       "1  16.0  16.0  16.0  4.0  0.0       2       Even  \n",
       "2  16.0  16.0  13.0  3.0  0.0       2       Even  \n",
       "3  11.0   0.0   0.0  0.0  0.0       2       Even  \n",
       "\n",
       "[4 rows x 66 columns]"
      ]
     },
     "execution_count": 138,
     "metadata": {},
     "output_type": "execute_result"
    }
   ],
   "source": [
    "pred.head(4)"
   ]
  },
  {
   "cell_type": "code",
   "execution_count": 139,
   "id": "79e12aba",
   "metadata": {},
   "outputs": [],
   "source": [
    "newob = pred.loc[:0,'p0':'p63'].to_dict(orient='records')[0]\n",
    "#newob"
   ]
  },
  {
   "cell_type": "code",
   "execution_count": 140,
   "id": "cf0ea3f8",
   "metadata": {},
   "outputs": [],
   "source": [
    "from google.protobuf import json_format\n",
    "from google.protobuf.struct_pb2 import Value\n",
    "\n",
    "instances=[json_format.ParseDict(newob, Value())]\n",
    "parameters=json_format.ParseDict({}, Value())"
   ]
  },
  {
   "cell_type": "markdown",
   "id": "b2b7ecef",
   "metadata": {},
   "source": [
    "### Prediction: Online"
   ]
  },
  {
   "cell_type": "code",
   "execution_count": 145,
   "id": "5769c064",
   "metadata": {},
   "outputs": [],
   "source": [
    "ename = 'job-02c-automl_20210908124535_endpoint'"
   ]
  },
  {
   "cell_type": "code",
   "execution_count": 146,
   "id": "4fb330ed",
   "metadata": {},
   "outputs": [],
   "source": [
    "endpoint = aiplatform.Endpoint.list(filter=f'display_name={ename}')[0]"
   ]
  },
  {
   "cell_type": "code",
   "execution_count": 149,
   "id": "08b63865",
   "metadata": {},
   "outputs": [],
   "source": [
    "# get predictions\n",
    "prediction = endpoint.predict(instances=instances,parameters=parameters)"
   ]
  },
  {
   "cell_type": "code",
   "execution_count": 150,
   "id": "42dd5e27",
   "metadata": {},
   "outputs": [
    {
     "data": {
      "text/plain": [
       "Prediction(predictions=[{'classes': ['4', '5', '3', '1', '0', '8', '2', '7', '9', '6'], 'scores': [8.749476837488501e-13, 1.520173764646415e-09, 1.218805039115978e-07, 3.909719481498541e-08, 2.406981731983837e-12, 1.94232666217431e-06, 0.9999978542327881, 1.186109521711387e-08, 1.392742032813032e-10, 9.13831094129236e-11]}], deployed_model_id='3566930069714632704', explanations=None)"
      ]
     },
     "execution_count": 150,
     "metadata": {},
     "output_type": "execute_result"
    }
   ],
   "source": [
    "prediction"
   ]
  },
  {
   "cell_type": "code",
   "execution_count": 151,
   "id": "66479170",
   "metadata": {},
   "outputs": [
    {
     "data": {
      "text/plain": [
       "'2'"
      ]
     },
     "execution_count": 151,
     "metadata": {},
     "output_type": "execute_result"
    }
   ],
   "source": [
    "import numpy as np\n",
    "prediction.predictions[0]['classes'][np.argmax(prediction.predictions[0]['scores'])]"
   ]
  },
  {
   "cell_type": "markdown",
   "id": "3298889a",
   "metadata": {},
   "source": [
    "## Explanation\n",
    "Interpretation Guide\n",
    "- https://cloud.google.com/vertex-ai/docs/predictions/interpreting-results-automl#tabular"
   ]
  },
  {
   "cell_type": "code",
   "execution_count": 152,
   "id": "ff03e7bd",
   "metadata": {},
   "outputs": [],
   "source": [
    "# get explanations\n",
    "explanation = endpoint.explain(instances=instances, parameters=parameters)"
   ]
  },
  {
   "cell_type": "code",
   "execution_count": 153,
   "id": "973f1dbc",
   "metadata": {},
   "outputs": [
    {
     "data": {
      "text/plain": [
       "[{'scores': [8.749476837488501e-13,\n",
       "   1.520173764646415e-09,\n",
       "   1.218805039115978e-07,\n",
       "   3.909719481498541e-08,\n",
       "   2.406981731983837e-12,\n",
       "   1.94232666217431e-06,\n",
       "   0.9999978542327881,\n",
       "   1.186109521711387e-08,\n",
       "   1.392742032813032e-10,\n",
       "   9.13831094129236e-11],\n",
       "  'classes': ['4', '5', '3', '1', '0', '8', '2', '7', '9', '6']}]"
      ]
     },
     "execution_count": 153,
     "metadata": {},
     "output_type": "execute_result"
    }
   ],
   "source": [
    "explanation.predictions"
   ]
  },
  {
   "cell_type": "code",
   "execution_count": 154,
   "id": "5ec2f6f1",
   "metadata": {},
   "outputs": [
    {
     "name": "stdout",
     "output_type": "stream",
     "text": [
      "attribution:\n",
      "baseline output 0.002922810148447752\n",
      "instance output 0.9999978542327881\n",
      "output_index [6]\n",
      "output display value 2\n",
      "approximation error 0.0240365035235022\n"
     ]
    }
   ],
   "source": [
    "print(\"attribution:\")\n",
    "print(\"baseline output\",explanation.explanations[0].attributions[0].baseline_output_value)\n",
    "print(\"instance output\",explanation.explanations[0].attributions[0].instance_output_value)\n",
    "print(\"output_index\",explanation.explanations[0].attributions[0].output_index)\n",
    "print(\"output display value\",explanation.explanations[0].attributions[0].output_display_name)\n",
    "print(\"approximation error\",explanation.explanations[0].attributions[0].approximation_error)"
   ]
  },
  {
   "cell_type": "code",
   "execution_count": 21,
   "id": "fd025847",
   "metadata": {},
   "outputs": [
    {
     "data": {
      "text/plain": [
       "baseline_output_value: 0.0011145027820020914\n",
       "instance_output_value: 1.0\n",
       "feature_attributions {\n",
       "  struct_value {\n",
       "    fields {\n",
       "      key: \"p0\"\n",
       "      value {\n",
       "        number_value: 0.0\n",
       "      }\n",
       "    }\n",
       "    fields {\n",
       "      key: \"p1\"\n",
       "      value {\n",
       "        number_value: 0.005055854970123619\n",
       "      }\n",
       "    }\n",
       "    fields {\n",
       "      key: \"p10\"\n",
       "      value {\n",
       "        number_value: 0.0\n",
       "      }\n",
       "    }\n",
       "    fields {\n",
       "      key: \"p11\"\n",
       "      value {\n",
       "        number_value: 0.00138039983409856\n",
       "      }\n",
       "    }\n",
       "    fields {\n",
       "      key: \"p12\"\n",
       "      value {\n",
       "        number_value: 0.001151186447324497\n",
       "      }\n",
       "    }\n",
       "    fields {\n",
       "      key: \"p13\"\n",
       "      value {\n",
       "        number_value: 0.07197858341221165\n",
       "      }\n",
       "    }\n",
       "    fields {\n",
       "      key: \"p14\"\n",
       "      value {\n",
       "        number_value: 0.0\n",
       "      }\n",
       "    }\n",
       "    fields {\n",
       "      key: \"p15\"\n",
       "      value {\n",
       "        number_value: 0.0\n",
       "      }\n",
       "    }\n",
       "    fields {\n",
       "      key: \"p16\"\n",
       "      value {\n",
       "        number_value: 0.0\n",
       "      }\n",
       "    }\n",
       "    fields {\n",
       "      key: \"p17\"\n",
       "      value {\n",
       "        number_value: 0.0\n",
       "      }\n",
       "    }\n",
       "    fields {\n",
       "      key: \"p18\"\n",
       "      value {\n",
       "        number_value: 0.04881459008902311\n",
       "      }\n",
       "    }\n",
       "    fields {\n",
       "      key: \"p19\"\n",
       "      value {\n",
       "        number_value: -0.005448143796197006\n",
       "      }\n",
       "    }\n",
       "    fields {\n",
       "      key: \"p2\"\n",
       "      value {\n",
       "        number_value: 0.004332488743654851\n",
       "      }\n",
       "    }\n",
       "    fields {\n",
       "      key: \"p20\"\n",
       "      value {\n",
       "        number_value: 0.001248690116751407\n",
       "      }\n",
       "    }\n",
       "    fields {\n",
       "      key: \"p21\"\n",
       "      value {\n",
       "        number_value: 0.02585849735519982\n",
       "      }\n",
       "    }\n",
       "    fields {\n",
       "      key: \"p22\"\n",
       "      value {\n",
       "        number_value: 0.0\n",
       "      }\n",
       "    }\n",
       "    fields {\n",
       "      key: \"p23\"\n",
       "      value {\n",
       "        number_value: 0.0\n",
       "      }\n",
       "    }\n",
       "    fields {\n",
       "      key: \"p24\"\n",
       "      value {\n",
       "        number_value: 0.0\n",
       "      }\n",
       "    }\n",
       "    fields {\n",
       "      key: \"p25\"\n",
       "      value {\n",
       "        number_value: 0.000876916601555422\n",
       "      }\n",
       "    }\n",
       "    fields {\n",
       "      key: \"p26\"\n",
       "      value {\n",
       "        number_value: 0.1075096100602033\n",
       "      }\n",
       "    }\n",
       "    fields {\n",
       "      key: \"p27\"\n",
       "      value {\n",
       "        number_value: -0.003877072497354155\n",
       "      }\n",
       "    }\n",
       "    fields {\n",
       "      key: \"p28\"\n",
       "      value {\n",
       "        number_value: 0.0002738896125395383\n",
       "      }\n",
       "    }\n",
       "    fields {\n",
       "      key: \"p29\"\n",
       "      value {\n",
       "        number_value: 0.02741256090147155\n",
       "      }\n",
       "    }\n",
       "    fields {\n",
       "      key: \"p3\"\n",
       "      value {\n",
       "        number_value: 0.01925947394088975\n",
       "      }\n",
       "    }\n",
       "    fields {\n",
       "      key: \"p30\"\n",
       "      value {\n",
       "        number_value: 0.0\n",
       "      }\n",
       "    }\n",
       "    fields {\n",
       "      key: \"p31\"\n",
       "      value {\n",
       "        number_value: 0.0\n",
       "      }\n",
       "    }\n",
       "    fields {\n",
       "      key: \"p32\"\n",
       "      value {\n",
       "        number_value: 0.0\n",
       "      }\n",
       "    }\n",
       "    fields {\n",
       "      key: \"p33\"\n",
       "      value {\n",
       "        number_value: 0.0\n",
       "      }\n",
       "    }\n",
       "    fields {\n",
       "      key: \"p34\"\n",
       "      value {\n",
       "        number_value: -0.01390625760125529\n",
       "      }\n",
       "    }\n",
       "    fields {\n",
       "      key: \"p35\"\n",
       "      value {\n",
       "        number_value: -0.01267053904510768\n",
       "      }\n",
       "    }\n",
       "    fields {\n",
       "      key: \"p36\"\n",
       "      value {\n",
       "        number_value: 0.006641465006396174\n",
       "      }\n",
       "    }\n",
       "    fields {\n",
       "      key: \"p37\"\n",
       "      value {\n",
       "        number_value: 0.0177262361560549\n",
       "      }\n",
       "    }\n",
       "    fields {\n",
       "      key: \"p38\"\n",
       "      value {\n",
       "        number_value: 0.002326342177444271\n",
       "      }\n",
       "    }\n",
       "    fields {\n",
       "      key: \"p39\"\n",
       "      value {\n",
       "        number_value: 0.0\n",
       "      }\n",
       "    }\n",
       "    fields {\n",
       "      key: \"p4\"\n",
       "      value {\n",
       "        number_value: 0.01586205918075783\n",
       "      }\n",
       "    }\n",
       "    fields {\n",
       "      key: \"p40\"\n",
       "      value {\n",
       "        number_value: 0.0\n",
       "      }\n",
       "    }\n",
       "    fields {\n",
       "      key: \"p41\"\n",
       "      value {\n",
       "        number_value: 0.01371355745608785\n",
       "      }\n",
       "    }\n",
       "    fields {\n",
       "      key: \"p42\"\n",
       "      value {\n",
       "        number_value: -0.02419643625866489\n",
       "      }\n",
       "    }\n",
       "    fields {\n",
       "      key: \"p43\"\n",
       "      value {\n",
       "        number_value: 0.01311592518218926\n",
       "      }\n",
       "    }\n",
       "    fields {\n",
       "      key: \"p44\"\n",
       "      value {\n",
       "        number_value: 0.1505521777019437\n",
       "      }\n",
       "    }\n",
       "    fields {\n",
       "      key: \"p45\"\n",
       "      value {\n",
       "        number_value: 0.02656778610876894\n",
       "      }\n",
       "    }\n",
       "    fields {\n",
       "      key: \"p46\"\n",
       "      value {\n",
       "        number_value: 7.469516380556993e-05\n",
       "      }\n",
       "    }\n",
       "    fields {\n",
       "      key: \"p47\"\n",
       "      value {\n",
       "        number_value: 0.0\n",
       "      }\n",
       "    }\n",
       "    fields {\n",
       "      key: \"p48\"\n",
       "      value {\n",
       "        number_value: 0.0\n",
       "      }\n",
       "    }\n",
       "    fields {\n",
       "      key: \"p49\"\n",
       "      value {\n",
       "        number_value: 0.08187360742262431\n",
       "      }\n",
       "    }\n",
       "    fields {\n",
       "      key: \"p5\"\n",
       "      value {\n",
       "        number_value: -0.001799446538955505\n",
       "      }\n",
       "    }\n",
       "    fields {\n",
       "      key: \"p50\"\n",
       "      value {\n",
       "        number_value: 0.02298637735657394\n",
       "      }\n",
       "    }\n",
       "    fields {\n",
       "      key: \"p51\"\n",
       "      value {\n",
       "        number_value: 0.01979225070265654\n",
       "      }\n",
       "    }\n",
       "    fields {\n",
       "      key: \"p52\"\n",
       "      value {\n",
       "        number_value: -0.01784080586263112\n",
       "      }\n",
       "    }\n",
       "    fields {\n",
       "      key: \"p53\"\n",
       "      value {\n",
       "        number_value: -0.002018050057813525\n",
       "      }\n",
       "    }\n",
       "    fields {\n",
       "      key: \"p54\"\n",
       "      value {\n",
       "        number_value: 0.005739784666470119\n",
       "      }\n",
       "    }\n",
       "    fields {\n",
       "      key: \"p55\"\n",
       "      value {\n",
       "        number_value: 0.0\n",
       "      }\n",
       "    }\n",
       "    fields {\n",
       "      key: \"p56\"\n",
       "      value {\n",
       "        number_value: 0.0\n",
       "      }\n",
       "    }\n",
       "    fields {\n",
       "      key: \"p57\"\n",
       "      value {\n",
       "        number_value: 0.2152835534819003\n",
       "      }\n",
       "    }\n",
       "    fields {\n",
       "      key: \"p58\"\n",
       "      value {\n",
       "        number_value: 0.05308996495192072\n",
       "      }\n",
       "    }\n",
       "    fields {\n",
       "      key: \"p59\"\n",
       "      value {\n",
       "        number_value: 0.02376187339957271\n",
       "      }\n",
       "    }\n",
       "    fields {\n",
       "      key: \"p6\"\n",
       "      value {\n",
       "        number_value: 0.0\n",
       "      }\n",
       "    }\n",
       "    fields {\n",
       "      key: \"p60\"\n",
       "      value {\n",
       "        number_value: 0.003105282367739294\n",
       "      }\n",
       "    }\n",
       "    fields {\n",
       "      key: \"p61\"\n",
       "      value {\n",
       "        number_value: 0.02385552868612909\n",
       "      }\n",
       "    }\n",
       "    fields {\n",
       "      key: \"p62\"\n",
       "      value {\n",
       "        number_value: 0.06583960627072624\n",
       "      }\n",
       "    }\n",
       "    fields {\n",
       "      key: \"p63\"\n",
       "      value {\n",
       "        number_value: 0.0\n",
       "      }\n",
       "    }\n",
       "    fields {\n",
       "      key: \"p7\"\n",
       "      value {\n",
       "        number_value: 0.0\n",
       "      }\n",
       "    }\n",
       "    fields {\n",
       "      key: \"p8\"\n",
       "      value {\n",
       "        number_value: 0.0\n",
       "      }\n",
       "    }\n",
       "    fields {\n",
       "      key: \"p9\"\n",
       "      value {\n",
       "        number_value: 0.003581433351168276\n",
       "      }\n",
       "    }\n",
       "  }\n",
       "}\n",
       "output_index: 6\n",
       "output_display_name: \"2\"\n",
       "approximation_error: 0.026947302348119068\n",
       "output_name: \"scores\""
      ]
     },
     "execution_count": 21,
     "metadata": {},
     "output_type": "execute_result"
    }
   ],
   "source": [
    "explanation.explanations[0].attributions[0]"
   ]
  },
  {
   "cell_type": "markdown",
   "id": "6be80325",
   "metadata": {},
   "source": [
    "### Batch Predictions: BigQuery Source to BigQuery Destination, with Explanations"
   ]
  },
  {
   "cell_type": "code",
   "execution_count": 163,
   "id": "3e7643a6",
   "metadata": {},
   "outputs": [
    {
     "name": "stdout",
     "output_type": "stream",
     "text": [
      "INFO:google.cloud.aiplatform.jobs:Creating BatchPredictionJob\n",
      "INFO:google.cloud.aiplatform.jobs:BatchPredictionJob created. Resource name: projects/691911073727/locations/us-central1/batchPredictionJobs/1358699503791636480\n",
      "INFO:google.cloud.aiplatform.jobs:To use this BatchPredictionJob in another session:\n",
      "INFO:google.cloud.aiplatform.jobs:bpj = aiplatform.BatchPredictionJob('projects/691911073727/locations/us-central1/batchPredictionJobs/1358699503791636480')\n",
      "INFO:google.cloud.aiplatform.jobs:View Batch Prediction Job:\n",
      "https://console.cloud.google.com/ai/platform/locations/us-central1/batch-predictions/1358699503791636480?project=691911073727\n",
      "INFO:google.cloud.aiplatform.jobs:BatchPredictionJob projects/691911073727/locations/us-central1/batchPredictionJobs/1358699503791636480 current state:\n",
      "JobState.JOB_STATE_PENDING\n",
      "INFO:google.cloud.aiplatform.jobs:BatchPredictionJob projects/691911073727/locations/us-central1/batchPredictionJobs/1358699503791636480 current state:\n",
      "JobState.JOB_STATE_PENDING\n",
      "INFO:google.cloud.aiplatform.jobs:BatchPredictionJob projects/691911073727/locations/us-central1/batchPredictionJobs/1358699503791636480 current state:\n",
      "JobState.JOB_STATE_RUNNING\n",
      "INFO:google.cloud.aiplatform.jobs:BatchPredictionJob projects/691911073727/locations/us-central1/batchPredictionJobs/1358699503791636480 current state:\n",
      "JobState.JOB_STATE_RUNNING\n",
      "INFO:google.cloud.aiplatform.jobs:BatchPredictionJob projects/691911073727/locations/us-central1/batchPredictionJobs/1358699503791636480 current state:\n",
      "JobState.JOB_STATE_RUNNING\n",
      "INFO:google.cloud.aiplatform.jobs:BatchPredictionJob projects/691911073727/locations/us-central1/batchPredictionJobs/1358699503791636480 current state:\n",
      "JobState.JOB_STATE_RUNNING\n",
      "INFO:google.cloud.aiplatform.jobs:BatchPredictionJob projects/691911073727/locations/us-central1/batchPredictionJobs/1358699503791636480 current state:\n",
      "JobState.JOB_STATE_RUNNING\n",
      "INFO:google.cloud.aiplatform.jobs:BatchPredictionJob projects/691911073727/locations/us-central1/batchPredictionJobs/1358699503791636480 current state:\n",
      "JobState.JOB_STATE_RUNNING\n",
      "INFO:google.cloud.aiplatform.jobs:BatchPredictionJob projects/691911073727/locations/us-central1/batchPredictionJobs/1358699503791636480 current state:\n",
      "JobState.JOB_STATE_RUNNING\n",
      "INFO:google.cloud.aiplatform.jobs:BatchPredictionJob projects/691911073727/locations/us-central1/batchPredictionJobs/1358699503791636480 current state:\n",
      "JobState.JOB_STATE_RUNNING\n",
      "INFO:google.cloud.aiplatform.jobs:BatchPredictionJob projects/691911073727/locations/us-central1/batchPredictionJobs/1358699503791636480 current state:\n",
      "JobState.JOB_STATE_SUCCEEDED\n",
      "INFO:google.cloud.aiplatform.jobs:BatchPredictionJob run completed. Resource name: projects/691911073727/locations/us-central1/batchPredictionJobs/1358699503791636480\n"
     ]
    }
   ],
   "source": [
    "# batch predictions\n",
    "batch = aiplatform.BatchPredictionJob.create(\n",
    "    job_display_name='bq_digits_code_'+TIMESTAMP,\n",
    "    model_name=endpoint.list_models()[0].model,\n",
    "    instances_format=\"bigquery\",\n",
    "    predictions_format=\"bigquery\",\n",
    "    bigquery_source=\"bq://statmike-mlops.digits.digits_source\",\n",
    "    bigquery_destination_prefix=\"statmike-mlops\",\n",
    "    generate_explanation=True\n",
    ")"
   ]
  },
  {
   "cell_type": "code",
   "execution_count": null,
   "id": "70579590",
   "metadata": {},
   "outputs": [],
   "source": []
  }
 ],
 "metadata": {
  "environment": {
   "name": "tf2-gpu.2-5.m76",
   "type": "gcloud",
   "uri": "gcr.io/deeplearning-platform-release/tf2-gpu.2-5:m76"
  },
  "kernelspec": {
   "display_name": "Python 3",
   "language": "python",
   "name": "python3"
  },
  "language_info": {
   "codemirror_mode": {
    "name": "ipython",
    "version": 3
   },
   "file_extension": ".py",
   "mimetype": "text/x-python",
   "name": "python",
   "nbconvert_exporter": "python",
   "pygments_lexer": "ipython3",
   "version": "3.7.10"
  }
 },
 "nbformat": 4,
 "nbformat_minor": 5
}
