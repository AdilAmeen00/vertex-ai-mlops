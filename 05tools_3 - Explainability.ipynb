{
 "cells": [
  {
   "cell_type": "markdown",
   "id": "d88c3e15-9a15-4d65-b959-d122b5af91cf",
   "metadata": {},
   "source": [
    "# 05tools_3: Model Explanability\n",
    "\n",
    "Model explainability help understand model outputs = predictions.  There are two approaches here:\n",
    "- Feature-Based Explanations\n",
    "    - How much did each feature contribute to a specific prediction\n",
    "    - Uses a baseline for comparison, usually based on the central value for each feature from the training data\n",
    "    - Helpful for recognizing bias and finding areas for improvement\n",
    "    - Read more about [feature attributions and methods](https://cloud.google.com/vertex-ai/docs/explainable-ai/overview#feature_attributions)\n",
    "    - Examples in [github.com/GoogleClouPlatform/vertex-ai-samples](https://github.com/GoogleCloudPlatform/vertex-ai-samples/tree/main/notebooks/official/explainable_ai)\n",
    "- Example-Based Explanations\n",
    "    - Return similar examples, neighbors, to help understand predictions\n",
    "    - Along with prediction, get example from the source data that are most similar to the prediction to further understand \"why?\"\n",
    "    \n",
    "Vertex AI can serve explanations during online and batch predictions.  \n",
    "\n",
    "### Prerequisites:\n",
    "-  At least 1 of the notebooks in this series [05, 05a-05i]"
   ]
  },
  {
   "cell_type": "markdown",
   "id": "dfbf5aea-7edc-4961-bd66-542bbf201e06",
   "metadata": {},
   "source": [
    "---\n",
    "## Setup"
   ]
  },
  {
   "cell_type": "markdown",
   "id": "a2150c34-bfff-432b-b60a-20af9c153650",
   "metadata": {},
   "source": [
    "inputs:"
   ]
  },
  {
   "cell_type": "code",
   "execution_count": 1,
   "id": "93b4f256-97d1-4bf1-8b38-4b3bca857ac2",
   "metadata": {},
   "outputs": [
    {
     "data": {
      "text/plain": [
       "'statmike-mlops-349915'"
      ]
     },
     "execution_count": 1,
     "metadata": {},
     "output_type": "execute_result"
    }
   ],
   "source": [
    "project = !gcloud config get-value project\n",
    "PROJECT_ID = project[0]\n",
    "PROJECT_ID"
   ]
  },
  {
   "cell_type": "code",
   "execution_count": 34,
   "id": "3baf2329-67a1-40ce-b16c-77cbc733dff6",
   "metadata": {},
   "outputs": [],
   "source": [
    "REGION = 'us-central1'\n",
    "DATANAME = 'fraud'\n",
    "NOTEBOOK = '05tools_3'\n",
    "SERIES = '05'\n",
    "\n",
    "# Resources\n",
    "DEPLOY_COMPUTE = 'n1-standard-4'\n",
    "DEPLOY_IMAGE='us-docker.pkg.dev/vertex-ai/prediction/tf2-cpu.2-7:latest'\n",
    "\n",
    "# Model Training\n",
    "VAR_TARGET = 'Class'\n",
    "VAR_OMIT = 'transaction_id' # add more variables to the string with space delimiters"
   ]
  },
  {
   "cell_type": "markdown",
   "id": "5c4f4c23-a10a-4027-8ab4-edb59d949fef",
   "metadata": {},
   "source": [
    "packages:"
   ]
  },
  {
   "cell_type": "code",
   "execution_count": 3,
   "id": "f5c03913-cb39-4367-810b-2685e713fd0c",
   "metadata": {},
   "outputs": [],
   "source": [
    "from google.cloud import aiplatform\n",
    "from google.cloud import bigquery\n",
    "\n",
    "import tensorflow as tf\n",
    "\n",
    "from datetime import datetime\n",
    "from google.protobuf import json_format\n",
    "from google.protobuf.struct_pb2 import Value\n",
    "import json\n",
    "import numpy as np"
   ]
  },
  {
   "cell_type": "markdown",
   "id": "3a12ed0a-3c56-48de-8e56-82dd1d860f23",
   "metadata": {},
   "source": [
    "clients:"
   ]
  },
  {
   "cell_type": "code",
   "execution_count": 4,
   "id": "8ea5aef0-1cf6-4f2a-ab03-bd91c04154c5",
   "metadata": {},
   "outputs": [],
   "source": [
    "aiplatform.init(project=PROJECT_ID, location=REGION)\n",
    "bq = bigquery.Client()"
   ]
  },
  {
   "cell_type": "markdown",
   "id": "35ee3501-3580-484d-9a21-232676afd882",
   "metadata": {},
   "source": [
    "parameters:"
   ]
  },
  {
   "cell_type": "code",
   "execution_count": 5,
   "id": "4192c9bb-7fd3-426a-8c8b-a302dbdbcf9f",
   "metadata": {},
   "outputs": [],
   "source": [
    "BUCKET = PROJECT_ID\n",
    "DIR = f\"temp/{NOTEBOOK}\""
   ]
  },
  {
   "cell_type": "code",
   "execution_count": 6,
   "id": "c979a85b-38f3-4011-8711-f1f0fd8aa517",
   "metadata": {},
   "outputs": [
    {
     "data": {
      "text/plain": [
       "'1026793852137-compute@developer.gserviceaccount.com'"
      ]
     },
     "execution_count": 6,
     "metadata": {},
     "output_type": "execute_result"
    }
   ],
   "source": [
    "# Give service account roles/storage.objectAdmin permissions\n",
    "# Console > IAM > Select Account <projectnumber>-compute@developer.gserviceaccount.com > edit - give role\n",
    "SERVICE_ACCOUNT = !gcloud config list --format='value(core.account)' \n",
    "SERVICE_ACCOUNT = SERVICE_ACCOUNT[0]\n",
    "SERVICE_ACCOUNT"
   ]
  },
  {
   "cell_type": "markdown",
   "id": "fa52b2ea-b3d1-4bb6-9c5d-196f5d26fe34",
   "metadata": {},
   "source": [
    "environment:"
   ]
  },
  {
   "cell_type": "code",
   "execution_count": 7,
   "id": "cd20362b-3fd3-4bd4-a73f-0e58a9c4373f",
   "metadata": {},
   "outputs": [],
   "source": [
    "!rm -rf {DIR}\n",
    "!mkdir -p {DIR}"
   ]
  },
  {
   "cell_type": "markdown",
   "id": "59ae4f69-6b08-4ca6-8dc0-a7cf16fea77d",
   "metadata": {},
   "source": [
    "---\n",
    "## Get Vertex AI Endpoint And Deployed Model"
   ]
  },
  {
   "cell_type": "code",
   "execution_count": 13,
   "id": "b2d74afb-77ea-4e0b-88d0-1689c4fc219c",
   "metadata": {},
   "outputs": [],
   "source": [
    "endpoints = aiplatform.Endpoint.list(filter = f\"display_name={SERIES}_{DATANAME}\")\n",
    "endpoint = endpoints[0]"
   ]
  },
  {
   "cell_type": "code",
   "execution_count": 14,
   "id": "676f81ea-c357-4e3f-9451-2bb5579e1372",
   "metadata": {},
   "outputs": [
    {
     "data": {
      "text/plain": [
       "'05_fraud'"
      ]
     },
     "execution_count": 14,
     "metadata": {},
     "output_type": "execute_result"
    }
   ],
   "source": [
    "endpoint.display_name"
   ]
  },
  {
   "cell_type": "code",
   "execution_count": 15,
   "id": "fbdb37dd-2fba-48d8-9527-467b7760cf76",
   "metadata": {},
   "outputs": [],
   "source": [
    "model = aiplatform.Model(\n",
    "    model_name = endpoint.list_models()[0].model+f'@{endpoint.list_models()[0].model_version_id}'\n",
    ")"
   ]
  },
  {
   "cell_type": "code",
   "execution_count": 16,
   "id": "e090e560-9f82-480e-ab4e-9828b53de940",
   "metadata": {},
   "outputs": [
    {
     "data": {
      "text/plain": [
       "'05_fraud'"
      ]
     },
     "execution_count": 16,
     "metadata": {},
     "output_type": "execute_result"
    }
   ],
   "source": [
    "model.display_name"
   ]
  },
  {
   "cell_type": "code",
   "execution_count": 17,
   "id": "88e8314c-c86a-4fe8-8fb1-7443eb3b2561",
   "metadata": {},
   "outputs": [
    {
     "data": {
      "text/plain": [
       "'projects/1026793852137/locations/us-central1/models/model_05_fraud@2'"
      ]
     },
     "execution_count": 17,
     "metadata": {},
     "output_type": "execute_result"
    }
   ],
   "source": [
    "model.versioned_resource_name"
   ]
  },
  {
   "cell_type": "code",
   "execution_count": 18,
   "id": "52cf670f-e51d-45cf-b405-66ed396f0634",
   "metadata": {},
   "outputs": [
    {
     "data": {
      "text/plain": [
       "'gs://statmike-mlops-349915/fraud/models/05/20220815200908/model'"
      ]
     },
     "execution_count": 18,
     "metadata": {},
     "output_type": "execute_result"
    }
   ],
   "source": [
    "model.uri"
   ]
  },
  {
   "cell_type": "markdown",
   "id": "44951097-7ecb-4508-ae3a-83633598919a",
   "metadata": {},
   "source": [
    "---\n",
    "## Retrieve Records For Prediction & Explanation"
   ]
  },
  {
   "cell_type": "code",
   "execution_count": 19,
   "id": "642aee16-fb2b-4898-a190-f6c490210992",
   "metadata": {},
   "outputs": [],
   "source": [
    "n = 1000\n",
    "pred = bq.query(query = f\"SELECT * FROM {DATANAME}.{DATANAME}_prepped WHERE splits='TEST' LIMIT {n}\").to_dataframe()"
   ]
  },
  {
   "cell_type": "code",
   "execution_count": 20,
   "id": "b08ce989-7e11-42ee-9a71-995211669620",
   "metadata": {},
   "outputs": [
    {
     "data": {
      "text/html": [
       "<div>\n",
       "<style scoped>\n",
       "    .dataframe tbody tr th:only-of-type {\n",
       "        vertical-align: middle;\n",
       "    }\n",
       "\n",
       "    .dataframe tbody tr th {\n",
       "        vertical-align: top;\n",
       "    }\n",
       "\n",
       "    .dataframe thead th {\n",
       "        text-align: right;\n",
       "    }\n",
       "</style>\n",
       "<table border=\"1\" class=\"dataframe\">\n",
       "  <thead>\n",
       "    <tr style=\"text-align: right;\">\n",
       "      <th></th>\n",
       "      <th>Time</th>\n",
       "      <th>V1</th>\n",
       "      <th>V2</th>\n",
       "      <th>V3</th>\n",
       "      <th>V4</th>\n",
       "      <th>V5</th>\n",
       "      <th>V6</th>\n",
       "      <th>V7</th>\n",
       "      <th>V8</th>\n",
       "      <th>V9</th>\n",
       "      <th>...</th>\n",
       "      <th>V23</th>\n",
       "      <th>V24</th>\n",
       "      <th>V25</th>\n",
       "      <th>V26</th>\n",
       "      <th>V27</th>\n",
       "      <th>V28</th>\n",
       "      <th>Amount</th>\n",
       "      <th>Class</th>\n",
       "      <th>transaction_id</th>\n",
       "      <th>splits</th>\n",
       "    </tr>\n",
       "  </thead>\n",
       "  <tbody>\n",
       "    <tr>\n",
       "      <th>0</th>\n",
       "      <td>32799</td>\n",
       "      <td>1.153477</td>\n",
       "      <td>-0.047859</td>\n",
       "      <td>1.358363</td>\n",
       "      <td>1.480620</td>\n",
       "      <td>-1.222598</td>\n",
       "      <td>-0.481690</td>\n",
       "      <td>-0.654461</td>\n",
       "      <td>0.128115</td>\n",
       "      <td>0.907095</td>\n",
       "      <td>...</td>\n",
       "      <td>-0.025964</td>\n",
       "      <td>0.701843</td>\n",
       "      <td>0.417245</td>\n",
       "      <td>-0.257691</td>\n",
       "      <td>0.060115</td>\n",
       "      <td>0.035332</td>\n",
       "      <td>0.0</td>\n",
       "      <td>0</td>\n",
       "      <td>e9d16028-4b41-4753-87ee-041d33642ae9</td>\n",
       "      <td>TEST</td>\n",
       "    </tr>\n",
       "    <tr>\n",
       "      <th>1</th>\n",
       "      <td>35483</td>\n",
       "      <td>1.286640</td>\n",
       "      <td>0.072917</td>\n",
       "      <td>0.212182</td>\n",
       "      <td>-0.269732</td>\n",
       "      <td>-0.283961</td>\n",
       "      <td>-0.663306</td>\n",
       "      <td>-0.016385</td>\n",
       "      <td>-0.120297</td>\n",
       "      <td>-0.135962</td>\n",
       "      <td>...</td>\n",
       "      <td>0.052674</td>\n",
       "      <td>0.076792</td>\n",
       "      <td>0.209208</td>\n",
       "      <td>0.847617</td>\n",
       "      <td>-0.086559</td>\n",
       "      <td>-0.008262</td>\n",
       "      <td>0.0</td>\n",
       "      <td>0</td>\n",
       "      <td>8b319d3a-2b2d-445b-a9a2-0da3d664ec2a</td>\n",
       "      <td>TEST</td>\n",
       "    </tr>\n",
       "    <tr>\n",
       "      <th>2</th>\n",
       "      <td>163935</td>\n",
       "      <td>1.961967</td>\n",
       "      <td>-0.247295</td>\n",
       "      <td>-1.751841</td>\n",
       "      <td>-0.268689</td>\n",
       "      <td>0.956431</td>\n",
       "      <td>0.707211</td>\n",
       "      <td>0.020675</td>\n",
       "      <td>0.189433</td>\n",
       "      <td>0.455055</td>\n",
       "      <td>...</td>\n",
       "      <td>0.186420</td>\n",
       "      <td>-1.621368</td>\n",
       "      <td>-0.131098</td>\n",
       "      <td>0.034276</td>\n",
       "      <td>-0.004909</td>\n",
       "      <td>-0.090859</td>\n",
       "      <td>0.0</td>\n",
       "      <td>0</td>\n",
       "      <td>788afb87-60aa-4482-8b48-c924bec634aa</td>\n",
       "      <td>TEST</td>\n",
       "    </tr>\n",
       "    <tr>\n",
       "      <th>3</th>\n",
       "      <td>30707</td>\n",
       "      <td>-0.964364</td>\n",
       "      <td>0.176372</td>\n",
       "      <td>2.464128</td>\n",
       "      <td>2.672539</td>\n",
       "      <td>0.145676</td>\n",
       "      <td>-0.152913</td>\n",
       "      <td>-0.591983</td>\n",
       "      <td>0.305066</td>\n",
       "      <td>-0.148034</td>\n",
       "      <td>...</td>\n",
       "      <td>-0.024200</td>\n",
       "      <td>0.365226</td>\n",
       "      <td>-0.745369</td>\n",
       "      <td>-0.060544</td>\n",
       "      <td>0.095692</td>\n",
       "      <td>0.217639</td>\n",
       "      <td>0.0</td>\n",
       "      <td>0</td>\n",
       "      <td>473d0936-1974-4ae8-ab70-230e7599bd3f</td>\n",
       "      <td>TEST</td>\n",
       "    </tr>\n",
       "  </tbody>\n",
       "</table>\n",
       "<p>4 rows × 33 columns</p>\n",
       "</div>"
      ],
      "text/plain": [
       "     Time        V1        V2        V3        V4        V5        V6  \\\n",
       "0   32799  1.153477 -0.047859  1.358363  1.480620 -1.222598 -0.481690   \n",
       "1   35483  1.286640  0.072917  0.212182 -0.269732 -0.283961 -0.663306   \n",
       "2  163935  1.961967 -0.247295 -1.751841 -0.268689  0.956431  0.707211   \n",
       "3   30707 -0.964364  0.176372  2.464128  2.672539  0.145676 -0.152913   \n",
       "\n",
       "         V7        V8        V9  ...       V23       V24       V25       V26  \\\n",
       "0 -0.654461  0.128115  0.907095  ... -0.025964  0.701843  0.417245 -0.257691   \n",
       "1 -0.016385 -0.120297 -0.135962  ...  0.052674  0.076792  0.209208  0.847617   \n",
       "2  0.020675  0.189433  0.455055  ...  0.186420 -1.621368 -0.131098  0.034276   \n",
       "3 -0.591983  0.305066 -0.148034  ... -0.024200  0.365226 -0.745369 -0.060544   \n",
       "\n",
       "        V27       V28  Amount  Class                        transaction_id  \\\n",
       "0  0.060115  0.035332     0.0      0  e9d16028-4b41-4753-87ee-041d33642ae9   \n",
       "1 -0.086559 -0.008262     0.0      0  8b319d3a-2b2d-445b-a9a2-0da3d664ec2a   \n",
       "2 -0.004909 -0.090859     0.0      0  788afb87-60aa-4482-8b48-c924bec634aa   \n",
       "3  0.095692  0.217639     0.0      0  473d0936-1974-4ae8-ab70-230e7599bd3f   \n",
       "\n",
       "   splits  \n",
       "0    TEST  \n",
       "1    TEST  \n",
       "2    TEST  \n",
       "3    TEST  \n",
       "\n",
       "[4 rows x 33 columns]"
      ]
     },
     "execution_count": 20,
     "metadata": {},
     "output_type": "execute_result"
    }
   ],
   "source": [
    "pred.head(4)"
   ]
  },
  {
   "cell_type": "markdown",
   "id": "80bf03be-d6fe-413e-aeed-9ee41293f895",
   "metadata": {},
   "source": [
    "Remove columns not included as features in the model:"
   ]
  },
  {
   "cell_type": "code",
   "execution_count": 21,
   "id": "687f0128-cc0b-47b7-b423-875f396d8fd8",
   "metadata": {},
   "outputs": [],
   "source": [
    "newobs = pred[pred.columns[~pred.columns.isin(VAR_OMIT.split()+[VAR_TARGET, 'splits'])]].to_dict(orient='records')\n",
    "#newobs[0]"
   ]
  },
  {
   "cell_type": "code",
   "execution_count": 22,
   "id": "c268a533-f949-4299-9420-d6ae549a97fa",
   "metadata": {},
   "outputs": [
    {
     "data": {
      "text/plain": [
       "1000"
      ]
     },
     "execution_count": 22,
     "metadata": {},
     "output_type": "execute_result"
    }
   ],
   "source": [
    "len(newobs)"
   ]
  },
  {
   "cell_type": "markdown",
   "id": "6ddde2af-ef29-4363-9cf0-ebe166a2c6ce",
   "metadata": {},
   "source": [
    "---\n",
    "## Feature-Based Explanations\n",
    "\n",
    "In Vertex AI you [configure explanations](https://cloud.google.com/vertex-ai/docs/explainable-ai/configuring-explanations-feature-based) by providing an `explanationSpec`. For feature-based explanations this can be done when registering the model in the Model Registry.  You can also set, or override, the `explanationSpec` when deploying models to and endpoints or configuring batch predictions jobs.\n"
   ]
  },
  {
   "cell_type": "markdown",
   "id": "eb2be2b0-e3ae-4fb2-8208-1ff1abc9c837",
   "metadata": {},
   "source": [
    "### ExplanationSpec\n",
    "\n",
    "From the [Python client for Vertex AI](https://cloud.google.com/python/docs/reference/aiplatform/latest/google.cloud.aiplatform), the `explanationSpec` is provided by two input parameters: `explanation_parameters` and `explanation_metadata`.  The parameters must be passed together and can be set (or overwritten):\n",
    "- When registring the model in the Vertex AI Model Registry:\n",
    "    - https://cloud.google.com/python/docs/reference/aiplatform/latest/google.cloud.aiplatform.Model#google_cloud_aiplatform_Model_upload\n",
    "- When deploying a model the a Vertex AI Endpoint for online serving:\n",
    "    - https://cloud.google.com/python/docs/reference/aiplatform/latest/google.cloud.aiplatform.Endpoint#google_cloud_aiplatform_Endpoint_deploy\n",
    "- When creating a Vertex AI Batch Prediciton Job:\n",
    "    - https://cloud.google.com/python/docs/reference/aiplatform/latest/google.cloud.aiplatform.BatchPredictionJob#google_cloud_aiplatform_BatchPredictionJob_create\n",
    "\n"
   ]
  },
  {
   "cell_type": "markdown",
   "id": "d524836b-53ee-4bb5-9cae-0e042a1b0f24",
   "metadata": {},
   "source": [
    "#### Explanation Parameters\n",
    "\n",
    "The [Explanation Parameters](https://cloud.google.com/vertex-ai/docs/reference/rest/v1beta1/ExplanationSpec#ExplanationParameters) included setting the method of attribution along with associated parameters for the method.  A review of methods can be found [here](https://cloud.google.com/vertex-ai/docs/explainable-ai/overview#compare-methods)."
   ]
  },
  {
   "cell_type": "code",
   "execution_count": 41,
   "id": "de5ec1ed-a796-41e5-ad9c-c8aba77032db",
   "metadata": {},
   "outputs": [
    {
     "data": {
      "text/plain": [
       "integrated_gradients_attribution {\n",
       "  step_count: 50\n",
       "}"
      ]
     },
     "execution_count": 41,
     "metadata": {},
     "output_type": "execute_result"
    }
   ],
   "source": [
    "explanation_parameters = aiplatform.explain.ExplanationParameters({'integrated_gradients_attribution': {'step_count': 50}})\n",
    "explanation_parameters"
   ]
  },
  {
   "cell_type": "markdown",
   "id": "c2f42f4a-e0d1-4eca-9d29-82a40b1c750e",
   "metadata": {},
   "source": [
    "#### Explanation Metadata\n",
    "\n",
    "The [Explanation Metadata](https://cloud.google.com/vertex-ai/docs/reference/rest/v1beta1/ExplanationSpec#explanationmetadata) specifys the inputs metadata and outputs metadata.  For a TensorFlow model there is a tool for building the explanation metadata as used below:\n",
    "- This is documented here: https://googleapis.dev/python/aiplatform/latest/index.html#explainable-ai-get-metadata\n"
   ]
  },
  {
   "cell_type": "code",
   "execution_count": 39,
   "id": "4e45f4fe-64bf-436b-885a-3ee0e6a9f93a",
   "metadata": {},
   "outputs": [],
   "source": [
    "from google.cloud.aiplatform.explain.metadata.tf.v2 import saved_model_metadata_builder\n",
    "builder = saved_model_metadata_builder.SavedModelMetadataBuilder(model.uri)\n",
    "explanation_metadata = builder.get_metadata_protobuf()"
   ]
  },
  {
   "cell_type": "code",
   "execution_count": 40,
   "id": "b126ba11-55a2-4678-b4af-dc702ae84523",
   "metadata": {},
   "outputs": [
    {
     "data": {
      "text/plain": [
       "inputs {\n",
       "  key: \"Amount\"\n",
       "  value {\n",
       "    input_tensor_name: \"Amount\"\n",
       "  }\n",
       "}\n",
       "inputs {\n",
       "  key: \"Time\"\n",
       "  value {\n",
       "    input_tensor_name: \"Time\"\n",
       "  }\n",
       "}\n",
       "inputs {\n",
       "  key: \"V1\"\n",
       "  value {\n",
       "    input_tensor_name: \"V1\"\n",
       "  }\n",
       "}\n",
       "inputs {\n",
       "  key: \"V10\"\n",
       "  value {\n",
       "    input_tensor_name: \"V10\"\n",
       "  }\n",
       "}\n",
       "inputs {\n",
       "  key: \"V11\"\n",
       "  value {\n",
       "    input_tensor_name: \"V11\"\n",
       "  }\n",
       "}\n",
       "inputs {\n",
       "  key: \"V12\"\n",
       "  value {\n",
       "    input_tensor_name: \"V12\"\n",
       "  }\n",
       "}\n",
       "inputs {\n",
       "  key: \"V13\"\n",
       "  value {\n",
       "    input_tensor_name: \"V13\"\n",
       "  }\n",
       "}\n",
       "inputs {\n",
       "  key: \"V14\"\n",
       "  value {\n",
       "    input_tensor_name: \"V14\"\n",
       "  }\n",
       "}\n",
       "inputs {\n",
       "  key: \"V15\"\n",
       "  value {\n",
       "    input_tensor_name: \"V15\"\n",
       "  }\n",
       "}\n",
       "inputs {\n",
       "  key: \"V16\"\n",
       "  value {\n",
       "    input_tensor_name: \"V16\"\n",
       "  }\n",
       "}\n",
       "inputs {\n",
       "  key: \"V17\"\n",
       "  value {\n",
       "    input_tensor_name: \"V17\"\n",
       "  }\n",
       "}\n",
       "inputs {\n",
       "  key: \"V18\"\n",
       "  value {\n",
       "    input_tensor_name: \"V18\"\n",
       "  }\n",
       "}\n",
       "inputs {\n",
       "  key: \"V19\"\n",
       "  value {\n",
       "    input_tensor_name: \"V19\"\n",
       "  }\n",
       "}\n",
       "inputs {\n",
       "  key: \"V2\"\n",
       "  value {\n",
       "    input_tensor_name: \"V2\"\n",
       "  }\n",
       "}\n",
       "inputs {\n",
       "  key: \"V20\"\n",
       "  value {\n",
       "    input_tensor_name: \"V20\"\n",
       "  }\n",
       "}\n",
       "inputs {\n",
       "  key: \"V21\"\n",
       "  value {\n",
       "    input_tensor_name: \"V21\"\n",
       "  }\n",
       "}\n",
       "inputs {\n",
       "  key: \"V22\"\n",
       "  value {\n",
       "    input_tensor_name: \"V22\"\n",
       "  }\n",
       "}\n",
       "inputs {\n",
       "  key: \"V23\"\n",
       "  value {\n",
       "    input_tensor_name: \"V23\"\n",
       "  }\n",
       "}\n",
       "inputs {\n",
       "  key: \"V24\"\n",
       "  value {\n",
       "    input_tensor_name: \"V24\"\n",
       "  }\n",
       "}\n",
       "inputs {\n",
       "  key: \"V25\"\n",
       "  value {\n",
       "    input_tensor_name: \"V25\"\n",
       "  }\n",
       "}\n",
       "inputs {\n",
       "  key: \"V26\"\n",
       "  value {\n",
       "    input_tensor_name: \"V26\"\n",
       "  }\n",
       "}\n",
       "inputs {\n",
       "  key: \"V27\"\n",
       "  value {\n",
       "    input_tensor_name: \"V27\"\n",
       "  }\n",
       "}\n",
       "inputs {\n",
       "  key: \"V28\"\n",
       "  value {\n",
       "    input_tensor_name: \"V28\"\n",
       "  }\n",
       "}\n",
       "inputs {\n",
       "  key: \"V3\"\n",
       "  value {\n",
       "    input_tensor_name: \"V3\"\n",
       "  }\n",
       "}\n",
       "inputs {\n",
       "  key: \"V4\"\n",
       "  value {\n",
       "    input_tensor_name: \"V4\"\n",
       "  }\n",
       "}\n",
       "inputs {\n",
       "  key: \"V5\"\n",
       "  value {\n",
       "    input_tensor_name: \"V5\"\n",
       "  }\n",
       "}\n",
       "inputs {\n",
       "  key: \"V6\"\n",
       "  value {\n",
       "    input_tensor_name: \"V6\"\n",
       "  }\n",
       "}\n",
       "inputs {\n",
       "  key: \"V7\"\n",
       "  value {\n",
       "    input_tensor_name: \"V7\"\n",
       "  }\n",
       "}\n",
       "inputs {\n",
       "  key: \"V8\"\n",
       "  value {\n",
       "    input_tensor_name: \"V8\"\n",
       "  }\n",
       "}\n",
       "inputs {\n",
       "  key: \"V9\"\n",
       "  value {\n",
       "    input_tensor_name: \"V9\"\n",
       "  }\n",
       "}\n",
       "outputs {\n",
       "  key: \"prediction_layer\"\n",
       "  value {\n",
       "    output_tensor_name: \"prediction_layer\"\n",
       "  }\n",
       "}"
      ]
     },
     "execution_count": 40,
     "metadata": {},
     "output_type": "execute_result"
    }
   ],
   "source": [
    "explanation_metadata"
   ]
  },
  {
   "cell_type": "markdown",
   "id": "21d59fd7-78a8-4add-83c4-1e6a1e3fca70",
   "metadata": {},
   "source": [
    "### Create An Endpoint"
   ]
  },
  {
   "cell_type": "code",
   "execution_count": 35,
   "id": "2cc28d98-b525-4385-9b95-489bf574f967",
   "metadata": {},
   "outputs": [
    {
     "name": "stdout",
     "output_type": "stream",
     "text": [
      "Endpoint Exists: projects/1026793852137/locations/us-central1/endpoints/7252545822577917952\n"
     ]
    }
   ],
   "source": [
    "endpoints = aiplatform.Endpoint.list(filter = f\"display_name={SERIES}_{DATANAME}\")\n",
    "if endpoints:\n",
    "    endpoint = endpoints[0]\n",
    "    print(f\"Endpoint Exists: {endpoints[0].resource_name}\")\n",
    "else:\n",
    "    endpoint = aiplatform.Endpoint.create(\n",
    "        display_name = f\"{SERIES}_{DATANAME}\",\n",
    "        labels = {'notebook':f\"{SERIES}\"}    \n",
    "    )\n",
    "    print(f\"Endpoint Created: {endpoint.resource_name}\")"
   ]
  },
  {
   "cell_type": "code",
   "execution_count": 36,
   "id": "0a538bf0",
   "metadata": {},
   "outputs": [
    {
     "data": {
      "text/plain": [
       "'05_fraud'"
      ]
     },
     "execution_count": 36,
     "metadata": {},
     "output_type": "execute_result"
    }
   ],
   "source": [
    "endpoint.display_name"
   ]
  },
  {
   "cell_type": "markdown",
   "id": "fc4f9ece-2a0f-40f6-9845-9eabd2ed9003",
   "metadata": {},
   "source": [
    "### Deploy Model To Endpoint\n",
    "At the top of this notebook a current endpoint was used to retrieve the model that was used to create the explanations metadata.  In the cell below the same model is deployed again with 100% of traffic, this time with explanations metadata.  This demonstrates that the `explanationSpec` can be provided with the model upload to the Model Registry or at the point of model use for Endponts or Batch Prediction Jobs. "
   ]
  },
  {
   "cell_type": "code",
   "execution_count": 45,
   "id": "2ea35f54-76d5-4015-8f82-78e7ec72a5fc",
   "metadata": {},
   "outputs": [
    {
     "name": "stdout",
     "output_type": "stream",
     "text": [
      "Deploying Model projects/1026793852137/locations/us-central1/models/model_05_fraud to Endpoint : projects/1026793852137/locations/us-central1/endpoints/7252545822577917952\n",
      "Deploy Endpoint model backing LRO: projects/1026793852137/locations/us-central1/endpoints/7252545822577917952/operations/7105598636146294784\n",
      "Endpoint model deployed. Resource name: projects/1026793852137/locations/us-central1/endpoints/7252545822577917952\n"
     ]
    }
   ],
   "source": [
    "endpoint.deploy(\n",
    "    model = model,\n",
    "    deployed_model_display_name = model.display_name,\n",
    "    traffic_percentage = 100,\n",
    "    machine_type = DEPLOY_COMPUTE,\n",
    "    min_replica_count = 1,\n",
    "    max_replica_count = 1,\n",
    "    explanation_parameters = explanation_parameters,\n",
    "    explanation_metadata = explanation_metadata\n",
    ") "
   ]
  },
  {
   "cell_type": "markdown",
   "id": "8aa76ba9-b66c-4b5b-9476-004b16d4dbaf",
   "metadata": {},
   "source": [
    "### Remove Deployed Models without Traffic"
   ]
  },
  {
   "cell_type": "code",
   "execution_count": 46,
   "id": "00aa9466-6d9a-41cf-9bfa-7e8997572583",
   "metadata": {},
   "outputs": [
    {
     "name": "stdout",
     "output_type": "stream",
     "text": [
      "Model 05_fraud has traffic = 100\n",
      "Undeploying Endpoint model: projects/1026793852137/locations/us-central1/endpoints/7252545822577917952\n",
      "Undeploy Endpoint model backing LRO: projects/1026793852137/locations/us-central1/endpoints/7252545822577917952/operations/1333672763717582848\n",
      "Endpoint model undeployed. Resource name: projects/1026793852137/locations/us-central1/endpoints/7252545822577917952\n",
      "Undeployed 05_fraud version 2 as it has no traffic.\n",
      "Undeploying Endpoint model: projects/1026793852137/locations/us-central1/endpoints/7252545822577917952\n",
      "Undeploy Endpoint model backing LRO: projects/1026793852137/locations/us-central1/endpoints/7252545822577917952/operations/4486192502876930048\n",
      "Endpoint model undeployed. Resource name: projects/1026793852137/locations/us-central1/endpoints/7252545822577917952\n",
      "Undeployed 05tools_3_fraud version 2 as it has no traffic.\n"
     ]
    }
   ],
   "source": [
    "for dmodel in endpoint.list_models():\n",
    "    if dmodel.id in endpoint.traffic_split:\n",
    "        print(f\"Model {dmodel.display_name} has traffic = {endpoint.traffic_split[dmodel.id]}\")\n",
    "    else:\n",
    "        endpoint.undeploy(deployed_model_id = dmodel.id)\n",
    "        print(f\"Undeployed {dmodel.display_name} version {dmodel.model_version_id} as it has no traffic.\")"
   ]
  },
  {
   "cell_type": "code",
   "execution_count": 47,
   "id": "bacf24f6-c02e-409a-82b4-13c6e4a17dd1",
   "metadata": {},
   "outputs": [
    {
     "data": {
      "text/plain": [
       "{'5929943285526167552': 100}"
      ]
     },
     "execution_count": 47,
     "metadata": {},
     "output_type": "execute_result"
    }
   ],
   "source": [
    "endpoint.traffic_split"
   ]
  },
  {
   "cell_type": "code",
   "execution_count": 48,
   "id": "7e416491-c909-45d3-8c79-a74dcafaa4f9",
   "metadata": {},
   "outputs": [
    {
     "data": {
      "text/plain": [
       "[id: \"5929943285526167552\"\n",
       " model: \"projects/1026793852137/locations/us-central1/models/model_05_fraud\"\n",
       " display_name: \"05_fraud\"\n",
       " create_time {\n",
       "   seconds: 1660648599\n",
       "   nanos: 28025000\n",
       " }\n",
       " dedicated_resources {\n",
       "   machine_spec {\n",
       "     machine_type: \"n1-standard-4\"\n",
       "   }\n",
       "   min_replica_count: 1\n",
       "   max_replica_count: 1\n",
       " }\n",
       " explanation_spec {\n",
       "   parameters {\n",
       "     integrated_gradients_attribution {\n",
       "       step_count: 50\n",
       "     }\n",
       "   }\n",
       "   metadata {\n",
       "     inputs {\n",
       "       key: \"Amount\"\n",
       "       value {\n",
       "         input_tensor_name: \"Amount\"\n",
       "       }\n",
       "     }\n",
       "     inputs {\n",
       "       key: \"Time\"\n",
       "       value {\n",
       "         input_tensor_name: \"Time\"\n",
       "       }\n",
       "     }\n",
       "     inputs {\n",
       "       key: \"V1\"\n",
       "       value {\n",
       "         input_tensor_name: \"V1\"\n",
       "       }\n",
       "     }\n",
       "     inputs {\n",
       "       key: \"V10\"\n",
       "       value {\n",
       "         input_tensor_name: \"V10\"\n",
       "       }\n",
       "     }\n",
       "     inputs {\n",
       "       key: \"V11\"\n",
       "       value {\n",
       "         input_tensor_name: \"V11\"\n",
       "       }\n",
       "     }\n",
       "     inputs {\n",
       "       key: \"V12\"\n",
       "       value {\n",
       "         input_tensor_name: \"V12\"\n",
       "       }\n",
       "     }\n",
       "     inputs {\n",
       "       key: \"V13\"\n",
       "       value {\n",
       "         input_tensor_name: \"V13\"\n",
       "       }\n",
       "     }\n",
       "     inputs {\n",
       "       key: \"V14\"\n",
       "       value {\n",
       "         input_tensor_name: \"V14\"\n",
       "       }\n",
       "     }\n",
       "     inputs {\n",
       "       key: \"V15\"\n",
       "       value {\n",
       "         input_tensor_name: \"V15\"\n",
       "       }\n",
       "     }\n",
       "     inputs {\n",
       "       key: \"V16\"\n",
       "       value {\n",
       "         input_tensor_name: \"V16\"\n",
       "       }\n",
       "     }\n",
       "     inputs {\n",
       "       key: \"V17\"\n",
       "       value {\n",
       "         input_tensor_name: \"V17\"\n",
       "       }\n",
       "     }\n",
       "     inputs {\n",
       "       key: \"V18\"\n",
       "       value {\n",
       "         input_tensor_name: \"V18\"\n",
       "       }\n",
       "     }\n",
       "     inputs {\n",
       "       key: \"V19\"\n",
       "       value {\n",
       "         input_tensor_name: \"V19\"\n",
       "       }\n",
       "     }\n",
       "     inputs {\n",
       "       key: \"V2\"\n",
       "       value {\n",
       "         input_tensor_name: \"V2\"\n",
       "       }\n",
       "     }\n",
       "     inputs {\n",
       "       key: \"V20\"\n",
       "       value {\n",
       "         input_tensor_name: \"V20\"\n",
       "       }\n",
       "     }\n",
       "     inputs {\n",
       "       key: \"V21\"\n",
       "       value {\n",
       "         input_tensor_name: \"V21\"\n",
       "       }\n",
       "     }\n",
       "     inputs {\n",
       "       key: \"V22\"\n",
       "       value {\n",
       "         input_tensor_name: \"V22\"\n",
       "       }\n",
       "     }\n",
       "     inputs {\n",
       "       key: \"V23\"\n",
       "       value {\n",
       "         input_tensor_name: \"V23\"\n",
       "       }\n",
       "     }\n",
       "     inputs {\n",
       "       key: \"V24\"\n",
       "       value {\n",
       "         input_tensor_name: \"V24\"\n",
       "       }\n",
       "     }\n",
       "     inputs {\n",
       "       key: \"V25\"\n",
       "       value {\n",
       "         input_tensor_name: \"V25\"\n",
       "       }\n",
       "     }\n",
       "     inputs {\n",
       "       key: \"V26\"\n",
       "       value {\n",
       "         input_tensor_name: \"V26\"\n",
       "       }\n",
       "     }\n",
       "     inputs {\n",
       "       key: \"V27\"\n",
       "       value {\n",
       "         input_tensor_name: \"V27\"\n",
       "       }\n",
       "     }\n",
       "     inputs {\n",
       "       key: \"V28\"\n",
       "       value {\n",
       "         input_tensor_name: \"V28\"\n",
       "       }\n",
       "     }\n",
       "     inputs {\n",
       "       key: \"V3\"\n",
       "       value {\n",
       "         input_tensor_name: \"V3\"\n",
       "       }\n",
       "     }\n",
       "     inputs {\n",
       "       key: \"V4\"\n",
       "       value {\n",
       "         input_tensor_name: \"V4\"\n",
       "       }\n",
       "     }\n",
       "     inputs {\n",
       "       key: \"V5\"\n",
       "       value {\n",
       "         input_tensor_name: \"V5\"\n",
       "       }\n",
       "     }\n",
       "     inputs {\n",
       "       key: \"V6\"\n",
       "       value {\n",
       "         input_tensor_name: \"V6\"\n",
       "       }\n",
       "     }\n",
       "     inputs {\n",
       "       key: \"V7\"\n",
       "       value {\n",
       "         input_tensor_name: \"V7\"\n",
       "       }\n",
       "     }\n",
       "     inputs {\n",
       "       key: \"V8\"\n",
       "       value {\n",
       "         input_tensor_name: \"V8\"\n",
       "       }\n",
       "     }\n",
       "     inputs {\n",
       "       key: \"V9\"\n",
       "       value {\n",
       "         input_tensor_name: \"V9\"\n",
       "       }\n",
       "     }\n",
       "     outputs {\n",
       "       key: \"prediction_layer\"\n",
       "       value {\n",
       "         output_tensor_name: \"prediction_layer\"\n",
       "       }\n",
       "     }\n",
       "   }\n",
       " }\n",
       " model_version_id: \"2\"]"
      ]
     },
     "execution_count": 48,
     "metadata": {},
     "output_type": "execute_result"
    }
   ],
   "source": [
    "endpoint.list_models()"
   ]
  },
  {
   "cell_type": "markdown",
   "id": "cae2dee4-cb0c-415e-ab1a-6b3980691b95",
   "metadata": {},
   "source": [
    "### Get Prediction: Python Client"
   ]
  },
  {
   "cell_type": "code",
   "execution_count": 49,
   "id": "5c262927-7e67-4e3f-b04b-17deadaa1325",
   "metadata": {},
   "outputs": [],
   "source": [
    "instances = [json_format.ParseDict(newobs[0], Value())]"
   ]
  },
  {
   "cell_type": "code",
   "execution_count": 53,
   "id": "67f442be-c9e2-4582-90fe-e090fc02730e",
   "metadata": {},
   "outputs": [
    {
     "data": {
      "text/plain": [
       "Prediction(predictions=[[0.999868631, 0.000131341265]], deployed_model_id='5929943285526167552', model_version_id='2', model_resource_name='projects/1026793852137/locations/us-central1/models/model_05_fraud', explanations=None)"
      ]
     },
     "execution_count": 53,
     "metadata": {},
     "output_type": "execute_result"
    }
   ],
   "source": [
    "prediction = endpoint.predict(instances = instances)\n",
    "prediction"
   ]
  },
  {
   "cell_type": "code",
   "execution_count": 54,
   "id": "a5839c46-2cf5-4b09-8e0b-8919e5767112",
   "metadata": {},
   "outputs": [
    {
     "data": {
      "text/plain": [
       "[0.999868631, 0.000131341265]"
      ]
     },
     "execution_count": 54,
     "metadata": {},
     "output_type": "execute_result"
    }
   ],
   "source": [
    "prediction.predictions[0]"
   ]
  },
  {
   "cell_type": "code",
   "execution_count": 55,
   "id": "e5629b86-bd25-4a2c-8dbd-2ab306b58592",
   "metadata": {},
   "outputs": [
    {
     "data": {
      "text/plain": [
       "0"
      ]
     },
     "execution_count": 55,
     "metadata": {},
     "output_type": "execute_result"
    }
   ],
   "source": [
    "np.argmax(prediction.predictions[0])"
   ]
  },
  {
   "cell_type": "markdown",
   "id": "a9e77f5a-9925-4708-94c0-ada9be8d26d9",
   "metadata": {},
   "source": [
    "### Get Prediction & Explanation: Python Client"
   ]
  },
  {
   "cell_type": "code",
   "execution_count": 56,
   "id": "58a2c239-409b-45c6-850d-d260558f0f45",
   "metadata": {},
   "outputs": [],
   "source": [
    "explanation = endpoint.explain(instances = instances)"
   ]
  },
  {
   "cell_type": "code",
   "execution_count": 59,
   "id": "b14eb821-a733-4808-be89-ee947b64ed2a",
   "metadata": {},
   "outputs": [
    {
     "data": {
      "text/plain": [
       "[0.999868631, 0.000131341265]"
      ]
     },
     "execution_count": 59,
     "metadata": {},
     "output_type": "execute_result"
    }
   ],
   "source": [
    "explanation.predictions[0]"
   ]
  },
  {
   "cell_type": "code",
   "execution_count": 72,
   "id": "5b5855e6-cfed-415e-937f-0b608a3a5460",
   "metadata": {},
   "outputs": [
    {
     "name": "stdout",
     "output_type": "stream",
     "text": [
      "attribution:\n",
      "baseline output: 0.9982391595840454\n",
      "instance output: 0.999868631362915\n",
      "output_index: [0]\n",
      "output_name: prediction_layer\n",
      "approximation error: 0.0011341020580217219\n"
     ]
    }
   ],
   "source": [
    "print(\"attribution:\")\n",
    "print(\"baseline output:\",explanation.explanations[0].attributions[0].baseline_output_value)\n",
    "print(\"instance output:\",explanation.explanations[0].attributions[0].instance_output_value)\n",
    "print(\"output_index:\",explanation.explanations[0].attributions[0].output_index)\n",
    "print(\"output_name:\",explanation.explanations[0].attributions[0].output_name)\n",
    "print(\"approximation error:\",explanation.explanations[0].attributions[0].approximation_error)"
   ]
  },
  {
   "cell_type": "code",
   "execution_count": 64,
   "id": "0a0d1674-6d45-4373-90bb-719a274c9166",
   "metadata": {},
   "outputs": [
    {
     "data": {
      "image/png": "[encoded data removed]",
      "text/plain": [
       "<Figure size 648x648 with 1 Axes>"
      ]
     },
     "metadata": {
      "needs_background": "light"
     },
     "output_type": "display_data"
    }
   ],
   "source": [
    "import matplotlib.pyplot as plt\n",
    "features = []\n",
    "scores = []\n",
    "for k in explanation.explanations[0].attributions[0].feature_attributions:\n",
    "    features.append(k)\n",
    "    scores.append(explanation.explanations[0].attributions[0].feature_attributions[k])\n",
    "features = [x for _, x in sorted(zip(scores, features))]\n",
    "scores = sorted(scores)\n",
    "fig, ax = plt.subplots()\n",
    "fig.set_size_inches(9, 9)\n",
    "ax.barh(features, scores)\n",
    "plt.title('Feature Attributions')\n",
    "fig.show()"
   ]
  },
  {
   "cell_type": "markdown",
   "id": "72e1ede1-0773-4ea8-a34a-9ca50a3310a2",
   "metadata": {},
   "source": [
    "In the plot above, each bar represents the attribution for a feature, or how much the feature affected the change in the predicted value relative to the baseline value."
   ]
  },
  {
   "cell_type": "code",
   "execution_count": 71,
   "id": "e014ebfa-4355-473f-8a94-12b98c487c5e",
   "metadata": {},
   "outputs": [
    {
     "name": "stdout",
     "output_type": "stream",
     "text": [
      "baseline output: 0.9982391595840454\n",
      "instance output: 0.999868631362915\n",
      "Total Attribution: 0.0016276237802307042\n",
      "instance - baseline: 0.001629471778869629\n"
     ]
    }
   ],
   "source": [
    "sum_attributions = 0\n",
    "for k in explanation.explanations[0].attributions[0].feature_attributions:\n",
    "    sum_attributions += explanation.explanations[0].attributions[0].feature_attributions[k]\n",
    "\n",
    "print(\"baseline output:\",explanation.explanations[0].attributions[0].baseline_output_value)\n",
    "print(\"instance output:\",explanation.explanations[0].attributions[0].instance_output_value)\n",
    "print(\"Total Attribution:\", sum_attributions)\n",
    "print(\"instance - baseline:\",explanation.explanations[0].attributions[0].instance_output_value-explanation.explanations[0].attributions[0].baseline_output_value)"
   ]
  },
  {
   "cell_type": "markdown",
   "id": "60aeca01-4d74-4521-a34d-3a5a75b1a0f1",
   "metadata": {},
   "source": [
    "### Explainable AI SDK: Local Explanations\n",
    "When using Vertex AI Workbench based user-manged notebooks you have access to the [Explainable AI SDK](https://github.com/GoogleCloudPlatform/explainable_ai_sdk).  This section demonstrates local explanations using the SDK.\n",
    "\n",
    "This can be helpful for iterating on setting up explanations before deploying the model with `explanationSpec`:\n",
    "- try different baselines\n",
    "- setup vizualization settings for image models\n",
    "- adjust parameters like steps (integrated gradients) or paths (sampled Shapley)"
   ]
  },
  {
   "cell_type": "code",
   "execution_count": 79,
   "id": "6c5282dd-0520-41f6-8c52-891c033357ce",
   "metadata": {},
   "outputs": [],
   "source": [
    "import explainable_ai_sdk\n",
    "from explainable_ai_sdk.metadata.tf.v2 import SavedModelMetadataBuilder"
   ]
  },
  {
   "cell_type": "code",
   "execution_count": 172,
   "id": "1d9df2aa-7caa-4138-ab74-54522ea3e806",
   "metadata": {},
   "outputs": [
    {
     "name": "stdout",
     "output_type": "stream",
     "text": [
      "INFO:tensorflow:Assets written to: temp/05tools_3/model/assets\n"
     ]
    },
    {
     "name": "stderr",
     "output_type": "stream",
     "text": [
      "INFO:tensorflow:Assets written to: temp/05tools_3/model/assets\n"
     ]
    },
    {
     "name": "stdout",
     "output_type": "stream",
     "text": [
      "temp/05tools_3/model:\n",
      "total 500\n",
      "drwxr-xr-x 2 jupyter jupyter   4096 Aug 16 13:26 assets\n",
      "-rw-r--r-- 1 jupyter jupyter   3541 Aug 16 15:29 explanation_metadata.json\n",
      "-rw-r--r-- 1 jupyter jupyter 495718 Aug 16 15:29 saved_model.pb\n",
      "drwxr-xr-x 2 jupyter jupyter   4096 Aug 16 15:29 variables\n",
      "\n",
      "temp/05tools_3/model/assets:\n",
      "total 0\n",
      "\n",
      "temp/05tools_3/model/variables:\n",
      "total 32\n",
      "-rw-r--r-- 1 jupyter jupyter 27802 Aug 16 15:29 variables.data-00000-of-00001\n",
      "-rw-r--r-- 1 jupyter jupyter  1449 Aug 16 15:29 variables.index\n"
     ]
    }
   ],
   "source": [
    "builder = SavedModelMetadataBuilder(model.uri)\n",
    "builder.save_model_with_metadata(f'{DIR}/model')\n",
    "!ls -l -R {DIR}/model"
   ]
  },
  {
   "cell_type": "code",
   "execution_count": 180,
   "id": "1c57a2ec-9dd5-4f9f-8dc2-f12eee0edd72",
   "metadata": {},
   "outputs": [],
   "source": [
    "local_model = explainable_ai_sdk.load_model_from_local_path(\n",
    "    model_path = f'{DIR}/model',\n",
    "    config = explainable_ai_sdk.IntegratedGradientsConfig(step_count = 50)\n",
    ")"
   ]
  },
  {
   "cell_type": "code",
   "execution_count": 222,
   "id": "4cc8544c-8e26-482d-8a6e-6b6d660a4ef5",
   "metadata": {},
   "outputs": [
    {
     "data": {
      "text/plain": [
       "explainable_ai_sdk.model.local_model.LocalModel"
      ]
     },
     "execution_count": 222,
     "metadata": {},
     "output_type": "execute_result"
    }
   ],
   "source": [
    "type(local_model)"
   ]
  },
  {
   "cell_type": "code",
   "execution_count": 184,
   "id": "98168109-769e-420a-89d0-4aff33c3f85f",
   "metadata": {},
   "outputs": [
    {
     "data": {
      "text/plain": [
       "{'Time': 32799,\n",
       " 'V1': 1.15347743766561,\n",
       " 'V2': -0.0478588055804616,\n",
       " 'V3': 1.35836288729212,\n",
       " 'V4': 1.48062009487976,\n",
       " 'V5': -1.22259808550513,\n",
       " 'V6': -0.481689608379461,\n",
       " 'V7': -0.6544612667240159,\n",
       " 'V8': 0.128114599402494,\n",
       " 'V9': 0.907094671648477,\n",
       " 'V10': -0.0364175882073298,\n",
       " 'V11': -0.659895142180526,\n",
       " 'V12': -0.307334930019039,\n",
       " 'V13': -1.3656343720183501,\n",
       " 'V14': 0.035305634441467997,\n",
       " 'V15': 0.7114399756440071,\n",
       " 'V16': 0.25384340384905,\n",
       " 'V17': -0.22283165732475999,\n",
       " 'V18': 0.26559908021792394,\n",
       " 'V19': -0.5970199308963089,\n",
       " 'V20': -0.24568562944008399,\n",
       " 'V21': 0.12551444308840598,\n",
       " 'V22': 0.480049308608633,\n",
       " 'V23': -0.0259637518455547,\n",
       " 'V24': 0.7018428515999721,\n",
       " 'V25': 0.41724451503333504,\n",
       " 'V26': -0.257690694038964,\n",
       " 'V27': 0.06011458360133701,\n",
       " 'V28': 0.0353320583585812,\n",
       " 'Amount': 0.0}"
      ]
     },
     "execution_count": 184,
     "metadata": {},
     "output_type": "execute_result"
    }
   ],
   "source": [
    "newobs[0]"
   ]
  },
  {
   "cell_type": "code",
   "execution_count": 202,
   "id": "9183f902-0ba9-4dc8-a902-25a0829ca52a",
   "metadata": {},
   "outputs": [
    {
     "data": {
      "text/plain": [
       "{'Time': <tf.Tensor: shape=(1,), dtype=float64, numpy=array([32799.])>,\n",
       " 'V1': <tf.Tensor: shape=(1,), dtype=float64, numpy=array([1.15347744])>,\n",
       " 'V2': <tf.Tensor: shape=(1,), dtype=float64, numpy=array([-0.04785881])>,\n",
       " 'V3': <tf.Tensor: shape=(1,), dtype=float64, numpy=array([1.35836289])>,\n",
       " 'V4': <tf.Tensor: shape=(1,), dtype=float64, numpy=array([1.48062009])>,\n",
       " 'V5': <tf.Tensor: shape=(1,), dtype=float64, numpy=array([-1.22259809])>,\n",
       " 'V6': <tf.Tensor: shape=(1,), dtype=float64, numpy=array([-0.48168961])>,\n",
       " 'V7': <tf.Tensor: shape=(1,), dtype=float64, numpy=array([-0.65446127])>,\n",
       " 'V8': <tf.Tensor: shape=(1,), dtype=float64, numpy=array([0.1281146])>,\n",
       " 'V9': <tf.Tensor: shape=(1,), dtype=float64, numpy=array([0.90709467])>,\n",
       " 'V10': <tf.Tensor: shape=(1,), dtype=float64, numpy=array([-0.03641759])>,\n",
       " 'V11': <tf.Tensor: shape=(1,), dtype=float64, numpy=array([-0.65989514])>,\n",
       " 'V12': <tf.Tensor: shape=(1,), dtype=float64, numpy=array([-0.30733493])>,\n",
       " 'V13': <tf.Tensor: shape=(1,), dtype=float64, numpy=array([-1.36563437])>,\n",
       " 'V14': <tf.Tensor: shape=(1,), dtype=float64, numpy=array([0.03530563])>,\n",
       " 'V15': <tf.Tensor: shape=(1,), dtype=float64, numpy=array([0.71143998])>,\n",
       " 'V16': <tf.Tensor: shape=(1,), dtype=float64, numpy=array([0.2538434])>,\n",
       " 'V17': <tf.Tensor: shape=(1,), dtype=float64, numpy=array([-0.22283166])>,\n",
       " 'V18': <tf.Tensor: shape=(1,), dtype=float64, numpy=array([0.26559908])>,\n",
       " 'V19': <tf.Tensor: shape=(1,), dtype=float64, numpy=array([-0.59701993])>,\n",
       " 'V20': <tf.Tensor: shape=(1,), dtype=float64, numpy=array([-0.24568563])>,\n",
       " 'V21': <tf.Tensor: shape=(1,), dtype=float64, numpy=array([0.12551444])>,\n",
       " 'V22': <tf.Tensor: shape=(1,), dtype=float64, numpy=array([0.48004931])>,\n",
       " 'V23': <tf.Tensor: shape=(1,), dtype=float64, numpy=array([-0.02596375])>,\n",
       " 'V24': <tf.Tensor: shape=(1,), dtype=float64, numpy=array([0.70184285])>,\n",
       " 'V25': <tf.Tensor: shape=(1,), dtype=float64, numpy=array([0.41724452])>,\n",
       " 'V26': <tf.Tensor: shape=(1,), dtype=float64, numpy=array([-0.25769069])>,\n",
       " 'V27': <tf.Tensor: shape=(1,), dtype=float64, numpy=array([0.06011458])>,\n",
       " 'V28': <tf.Tensor: shape=(1,), dtype=float64, numpy=array([0.03533206])>,\n",
       " 'Amount': <tf.Tensor: shape=(1,), dtype=float64, numpy=array([0.])>}"
      ]
     },
     "execution_count": 202,
     "metadata": {},
     "output_type": "execute_result"
    }
   ],
   "source": [
    "{key: tf.constant([value], dtype=tf.float64, name = key) for key, value in newobs[0].items()}"
   ]
  },
  {
   "cell_type": "code",
   "execution_count": 204,
   "id": "3b1a4201-828c-429d-9c9f-21e4cd4fd157",
   "metadata": {},
   "outputs": [
    {
     "data": {
      "text/plain": [
       "[{'prediction_layer': [0.999868631362915, 0.00013134126493241638]}]"
      ]
     },
     "execution_count": 204,
     "metadata": {},
     "output_type": "execute_result"
    }
   ],
   "source": [
    "prediction = local_model.predict(instances = [{key: tf.constant([value], dtype=tf.float64, name = key) for key, value in newobs[0].items()}])\n",
    "prediction"
   ]
  },
  {
   "cell_type": "code",
   "execution_count": 205,
   "id": "18df7690-057c-4464-b713-7ff36fccc1dc",
   "metadata": {},
   "outputs": [
    {
     "data": {
      "text/plain": [
       "[<explainable_ai_sdk.model.explanation.Explanation at 0x7f2df6c238d0>]"
      ]
     },
     "execution_count": 205,
     "metadata": {},
     "output_type": "execute_result"
    }
   ],
   "source": [
    "explanation = local_model.explain(instances = [{key: tf.constant([value], dtype=tf.float64, name = key) for key, value in newobs[0].items()}])\n",
    "explanation"
   ]
  },
  {
   "cell_type": "code",
   "execution_count": 206,
   "id": "36d11c91-d8a8-49b0-9292-2770c2d8c0b2",
   "metadata": {},
   "outputs": [
    {
     "data": {
      "text/plain": [
       "{'V27': 2.3187947590486147e-05,\n",
       " 'V21': -1.857690534734502e-08,\n",
       " 'V15': 7.92201972217299e-05,\n",
       " 'V23': 1.1624036844182228e-08,\n",
       " 'V26': -1.914645326905884e-05,\n",
       " 'Time': -0.000568615912925452,\n",
       " 'V17': 5.2168277761666104e-05,\n",
       " 'V18': 0.00017379414930474013,\n",
       " 'V16': 0.0001217191165778786,\n",
       " 'V14': 3.695191480801441e-05,\n",
       " 'V6': 6.410972855519503e-05,\n",
       " 'V20': 6.839562411187217e-05,\n",
       " 'V4': -0.0005530852940864861,\n",
       " 'V28': 7.488383289455669e-06,\n",
       " 'V3': 0.0005863337428309023,\n",
       " 'V8': 5.04457057104446e-05,\n",
       " 'V19': 1.9648902593871753e-07,\n",
       " 'V9': 0.00021793397900182754,\n",
       " 'Amount': 0.0,\n",
       " 'V1': 0.0005379419308155775,\n",
       " 'V10': -1.094575782190077e-05,\n",
       " 'V12': -0.00023656767734792084,\n",
       " 'V11': 0.00045407452853396535,\n",
       " 'V25': 0.00023622048320248723,\n",
       " 'V24': 0.00015644836821593344,\n",
       " 'V22': 0.0003299017553217709,\n",
       " 'V13': -0.00015876580437179655,\n",
       " 'V5': 0.00035706331254914403,\n",
       " 'V2': 1.7390046195941977e-05,\n",
       " 'V7': -0.0004042212967760861}"
      ]
     },
     "execution_count": 206,
     "metadata": {},
     "output_type": "execute_result"
    }
   ],
   "source": [
    "explanation[0].feature_importance()"
   ]
  },
  {
   "cell_type": "code",
   "execution_count": 207,
   "id": "078410d6-4cc8-4032-9f90-90233a3e0781",
   "metadata": {},
   "outputs": [
    {
     "data": {
      "text/plain": [
       "{'V27': array([2.3187948e-05], dtype=float32),\n",
       " 'V21': array([-1.8576905e-08], dtype=float32),\n",
       " 'V15': array([7.92202e-05], dtype=float32),\n",
       " 'V23': array([1.1624037e-08], dtype=float32),\n",
       " 'V26': array([-1.9146453e-05], dtype=float32),\n",
       " 'Time': array([-0.00056862], dtype=float32),\n",
       " 'V17': array([5.2168278e-05], dtype=float32),\n",
       " 'V18': array([0.00017379], dtype=float32),\n",
       " 'V16': array([0.00012172], dtype=float32),\n",
       " 'V14': array([3.6951915e-05], dtype=float32),\n",
       " 'V6': array([6.410973e-05], dtype=float32),\n",
       " 'V20': array([6.8395624e-05], dtype=float32),\n",
       " 'V4': array([-0.00055309], dtype=float32),\n",
       " 'V28': array([7.4883833e-06], dtype=float32),\n",
       " 'V3': array([0.00058633], dtype=float32),\n",
       " 'V8': array([5.0445706e-05], dtype=float32),\n",
       " 'V19': array([1.9648903e-07], dtype=float32),\n",
       " 'V9': array([0.00021793], dtype=float32),\n",
       " 'Amount': array([-0.], dtype=float32),\n",
       " 'V1': array([0.00053794], dtype=float32),\n",
       " 'V10': array([-1.0945758e-05], dtype=float32),\n",
       " 'V12': array([-0.00023657], dtype=float32),\n",
       " 'V11': array([0.00045407], dtype=float32),\n",
       " 'V25': array([0.00023622], dtype=float32),\n",
       " 'V24': array([0.00015645], dtype=float32),\n",
       " 'V22': array([0.0003299], dtype=float32),\n",
       " 'V13': array([-0.00015877], dtype=float32),\n",
       " 'V5': array([0.00035706], dtype=float32),\n",
       " 'V2': array([1.7390046e-05], dtype=float32),\n",
       " 'V7': array([-0.00040422], dtype=float32)}"
      ]
     },
     "execution_count": 207,
     "metadata": {},
     "output_type": "execute_result"
    }
   ],
   "source": [
    "explanation[0].as_tensors()"
   ]
  },
  {
   "cell_type": "code",
   "execution_count": 208,
   "id": "103536f2-95fa-4bf8-a7bd-e65194d21579",
   "metadata": {},
   "outputs": [
    {
     "name": "stdout",
     "output_type": "stream",
     "text": [
      "Label Index 0\n",
      "Example Score: 0.9999\n",
      "Baseline Score: 0.9982\n",
      "Approximation Error: 0.0060\n"
     ]
    },
    {
     "data": {
      "image/png": "[encoded data removed]",
      "text/plain": [
       "<Figure size 432x288 with 1 Axes>"
      ]
     },
     "metadata": {
      "needs_background": "light"
     },
     "output_type": "display_data"
    }
   ],
   "source": [
    "explanation[0].visualize_attributions()"
   ]
  },
  {
   "cell_type": "code",
   "execution_count": 211,
   "id": "f4fdd102-3064-490d-a511-8cff8233593f",
   "metadata": {},
   "outputs": [
    {
     "data": {
      "image/png": "[encoded data removed]",
      "text/plain": [
       "<Figure size 432x288 with 1 Axes>"
      ]
     },
     "metadata": {
      "needs_background": "light"
     },
     "output_type": "display_data"
    }
   ],
   "source": [
    "explanation[0].visualize_top_k_features(k=len(newobs[0]))"
   ]
  },
  {
   "cell_type": "markdown",
   "id": "f1c5df30-1335-48b0-8c82-985596b867fe",
   "metadata": {},
   "source": [
    "### Explainable AI SDK With Vertex AI Endpoints\n",
    "The features of the Explainable AI SDK are also useful for Vertex AI Endpoints.  The example below shows using the SDK with a Vertex AI Endpoint, the one setup in this notebook with `explanationSpec`."
   ]
  },
  {
   "cell_type": "code",
   "execution_count": 213,
   "id": "4c77a370-d2cd-461a-8ac1-813e2f08665a",
   "metadata": {},
   "outputs": [],
   "source": [
    "vertex_explain = explainable_ai_sdk.load_model_from_vertex(\n",
    "    project = PROJECT_ID,\n",
    "    region = REGION,\n",
    "    endpoint_id = endpoint.resource_name.split('/')[-1]\n",
    ")"
   ]
  },
  {
   "cell_type": "code",
   "execution_count": 214,
   "id": "a2dd07a5-0a80-4e82-b2f8-e4ba816990e5",
   "metadata": {},
   "outputs": [
    {
     "data": {
      "text/plain": [
       "{'predictions': [[0.999868631, 0.000131341265]],\n",
       " 'deployedModelId': '5929943285526167552',\n",
       " 'model': 'projects/1026793852137/locations/us-central1/models/model_05_fraud',\n",
       " 'modelDisplayName': '05_fraud',\n",
       " 'modelVersionId': '2'}"
      ]
     },
     "execution_count": 214,
     "metadata": {},
     "output_type": "execute_result"
    }
   ],
   "source": [
    "prediction = vertex_explain.predict(instances = [newobs[0]])\n",
    "prediction"
   ]
  },
  {
   "cell_type": "code",
   "execution_count": 215,
   "id": "0cdd922e-170c-4d2f-933c-9d90371e7b1c",
   "metadata": {},
   "outputs": [],
   "source": [
    "explanation = vertex_explain.explain(instances = [newobs[0]])"
   ]
  },
  {
   "cell_type": "code",
   "execution_count": 216,
   "id": "da96eb1b-9660-4df7-89d9-32754764eca6",
   "metadata": {},
   "outputs": [
    {
     "data": {
      "text/plain": [
       "{'V6': 6.32305570944756e-05,\n",
       " 'Time': -0.0005644056170757296,\n",
       " 'V3': 0.0005862443876218519,\n",
       " 'V12': -0.0002338219884710284,\n",
       " 'V16': 0.0001219742939404552,\n",
       " 'V27': 2.296230569430825e-05,\n",
       " 'V1': 0.0005346872354193361,\n",
       " 'V19': -4.391112084627638e-06,\n",
       " 'V13': -0.0001578577202080322,\n",
       " 'V18': 0.0001716385820340425,\n",
       " 'V11': 0.0004518153387045784,\n",
       " 'V10': -1.111432975064325e-05,\n",
       " 'V4': -0.0005487667499262989,\n",
       " 'V28': 7.082115204084696e-06,\n",
       " 'V20': 6.938063768356484e-05,\n",
       " 'V9': 0.0002194917776004117,\n",
       " 'V8': 5.062969851832529e-05,\n",
       " 'V22': 0.0003306545735255082,\n",
       " 'V23': 1.766099258222833e-07,\n",
       " 'V17': 5.140912391432412e-05,\n",
       " 'V21': 1.949838204872482e-07,\n",
       " 'V24': 0.0001621057369752206,\n",
       " 'V26': -1.843766157289843e-05,\n",
       " 'V2': 1.748263595768682e-05,\n",
       " 'V14': 3.670380091659775e-05,\n",
       " 'V15': 7.979581647602168e-05,\n",
       " 'V7': -0.0004003349897527289,\n",
       " 'V5': 0.000352598851561832,\n",
       " 'V25': 0.0002364948864837564}"
      ]
     },
     "execution_count": 216,
     "metadata": {},
     "output_type": "execute_result"
    }
   ],
   "source": [
    "explanation[0].feature_importance()"
   ]
  },
  {
   "cell_type": "code",
   "execution_count": 217,
   "id": "eb933ae1-e433-473f-8cdb-b8b385e53de2",
   "metadata": {},
   "outputs": [
    {
     "data": {
      "text/plain": [
       "{'V6': array(6.32305571e-05),\n",
       " 'Time': array(-0.00056441),\n",
       " 'V3': array(0.00058624),\n",
       " 'V12': array(-0.00023382),\n",
       " 'V16': array(0.00012197),\n",
       " 'V27': array(2.29623057e-05),\n",
       " 'V1': array(0.00053469),\n",
       " 'V19': array(-4.39111208e-06),\n",
       " 'V13': array(-0.00015786),\n",
       " 'V18': array(0.00017164),\n",
       " 'V11': array(0.00045182),\n",
       " 'V10': array(-1.11143298e-05),\n",
       " 'V4': array(-0.00054877),\n",
       " 'V28': array(7.0821152e-06),\n",
       " 'V20': array(6.93806377e-05),\n",
       " 'V9': array(0.00021949),\n",
       " 'V8': array(5.06296985e-05),\n",
       " 'V22': array(0.00033065),\n",
       " 'V23': array(1.76609926e-07),\n",
       " 'V17': array(5.14091239e-05),\n",
       " 'V21': array(1.9498382e-07),\n",
       " 'V24': array(0.00016211),\n",
       " 'V26': array(-1.84376616e-05),\n",
       " 'V2': array(1.7482636e-05),\n",
       " 'V14': array(3.67038009e-05),\n",
       " 'V15': array(7.97958165e-05),\n",
       " 'V7': array(-0.00040033),\n",
       " 'V5': array(0.0003526),\n",
       " 'V25': array(0.00023649)}"
      ]
     },
     "execution_count": 217,
     "metadata": {},
     "output_type": "execute_result"
    }
   ],
   "source": [
    "explanation[0].as_tensors()"
   ]
  },
  {
   "cell_type": "code",
   "execution_count": 218,
   "id": "1b187673-80ad-48fe-8d5c-493bdffb9cde",
   "metadata": {},
   "outputs": [
    {
     "name": "stdout",
     "output_type": "stream",
     "text": [
      "Label Index [0]\n",
      "Example Score: 0.9999\n",
      "Baseline Score: 0.9982\n",
      "Approximation Error: 0.0011\n"
     ]
    }
   ],
   "source": [
    "explanation[0].visualize_attributions()"
   ]
  },
  {
   "cell_type": "code",
   "execution_count": 219,
   "id": "7779b72a-4063-4ee1-93a4-6650e29ec6da",
   "metadata": {},
   "outputs": [
    {
     "data": {
      "image/png": "[encoded data removed]",
      "text/plain": [
       "<Figure size 432x288 with 1 Axes>"
      ]
     },
     "metadata": {
      "needs_background": "light"
     },
     "output_type": "display_data"
    }
   ],
   "source": [
    "explanation[0].visualize_top_k_features(k=len(newobs[0]))"
   ]
  },
  {
   "cell_type": "markdown",
   "id": "76087d6a-f7c3-4b03-81d7-5fa250a8a47f",
   "metadata": {},
   "source": [
    "---\n",
    "## Example-Based Explanations"
   ]
  },
  {
   "cell_type": "code",
   "execution_count": null,
   "id": "10c0f424-051a-4f75-a485-4128c308d4af",
   "metadata": {},
   "outputs": [],
   "source": []
  },
  {
   "cell_type": "code",
   "execution_count": null,
   "id": "d3e3c8b3-4a32-4276-a0a6-c4ed71e1dca2",
   "metadata": {},
   "outputs": [],
   "source": []
  },
  {
   "cell_type": "code",
   "execution_count": null,
   "id": "b193293a-b803-4bf5-97af-86005a720c0b",
   "metadata": {},
   "outputs": [],
   "source": []
  },
  {
   "cell_type": "code",
   "execution_count": null,
   "id": "4a234c50-b5dc-410d-938c-4240897459d8",
   "metadata": {},
   "outputs": [],
   "source": []
  },
  {
   "cell_type": "code",
   "execution_count": null,
   "id": "7a9c68ae-70c8-483b-9cfc-573191b7f558",
   "metadata": {},
   "outputs": [],
   "source": []
  },
  {
   "cell_type": "code",
   "execution_count": null,
   "id": "04b9c428-e095-4cee-8655-0fae345777cb",
   "metadata": {},
   "outputs": [],
   "source": []
  },
  {
   "cell_type": "code",
   "execution_count": null,
   "id": "25eecff0-fbc8-401e-a642-55d4a61ae9f5",
   "metadata": {},
   "outputs": [],
   "source": []
  },
  {
   "cell_type": "code",
   "execution_count": null,
   "id": "199ca836-7533-4641-8cf8-833b1bab6b2a",
   "metadata": {},
   "outputs": [],
   "source": []
  },
  {
   "cell_type": "code",
   "execution_count": null,
   "id": "a2493991-9274-45a9-a4e4-838ddb8e74ca",
   "metadata": {},
   "outputs": [],
   "source": []
  },
  {
   "cell_type": "code",
   "execution_count": null,
   "id": "622ca325-0500-432c-b224-9ef9e5f75790",
   "metadata": {},
   "outputs": [],
   "source": []
  },
  {
   "cell_type": "code",
   "execution_count": null,
   "id": "6092ac21-d94a-4449-996f-97efe72a8038",
   "metadata": {},
   "outputs": [],
   "source": []
  },
  {
   "cell_type": "code",
   "execution_count": null,
   "id": "0667993d-3da8-4927-bb72-4c819e41334e",
   "metadata": {},
   "outputs": [],
   "source": []
  },
  {
   "cell_type": "code",
   "execution_count": null,
   "id": "7d7bc598-f996-4cdc-b611-b180d33f8cf0",
   "metadata": {},
   "outputs": [],
   "source": []
  },
  {
   "cell_type": "code",
   "execution_count": null,
   "id": "027bf721-95b4-4bff-be69-5d4dacc57a87",
   "metadata": {},
   "outputs": [],
   "source": []
  },
  {
   "cell_type": "code",
   "execution_count": null,
   "id": "53e785b7-7f09-4fd0-9faa-6f93cc89e391",
   "metadata": {},
   "outputs": [],
   "source": []
  },
  {
   "cell_type": "code",
   "execution_count": null,
   "id": "82bae6ac-8ab0-46a6-b8da-3228324b6450",
   "metadata": {},
   "outputs": [],
   "source": []
  },
  {
   "cell_type": "code",
   "execution_count": null,
   "id": "b79b8ad5-017f-49f4-add3-5b319237e6fd",
   "metadata": {},
   "outputs": [],
   "source": []
  },
  {
   "cell_type": "code",
   "execution_count": null,
   "id": "005c01a2-c9e3-4c2d-9ed1-68a25cd56ea9",
   "metadata": {},
   "outputs": [],
   "source": []
  }
 ],
 "metadata": {
  "environment": {
   "kernel": "python3",
   "name": "tf2-gpu.2-3.m94",
   "type": "gcloud",
   "uri": "gcr.io/deeplearning-platform-release/tf2-gpu.2-3:m94"
  },
  "kernelspec": {
   "display_name": "Python 3",
   "language": "python",
   "name": "python3"
  },
  "language_info": {
   "codemirror_mode": {
    "name": "ipython",
    "version": 3
   },
   "file_extension": ".py",
   "mimetype": "text/x-python",
   "name": "python",
   "nbconvert_exporter": "python",
   "pygments_lexer": "ipython3",
   "version": "3.7.12"
  }
 },
 "nbformat": 4,
 "nbformat_minor": 5
}
