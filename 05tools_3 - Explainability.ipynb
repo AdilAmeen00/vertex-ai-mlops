{
 "cells": [
  {
   "cell_type": "markdown",
   "id": "d88c3e15-9a15-4d65-b959-d122b5af91cf",
   "metadata": {},
   "source": [
    "# 05tools_3: Model Explainability\n",
    "\n",
    "Model explainability help understand model outputs = predictions.  There are two approaches here:\n",
    "- Feature-Based Explainations\n",
    "    - How much did each feature contribute to a specific prediction\n",
    "    - Uses a baseline for comparison, usually based on the central value for each feature from the training data\n",
    "    - Helpful for recognizing bias and finding areas for improvement\n",
    "    - Read more about [feature attributions and methods](https://cloud.google.com/vertex-ai/docs/explainable-ai/overview#feature_attributions)\n",
    "- Example-Based Explainations\n",
    "    - Return similar examples, neighbors, to help understand predictions\n",
    "    - Along with prediction, get example from the source data that are most similar to the prediction to further understand \"why?\"\n",
    "    \n",
    "Vertex AI can serve explainations during online and batch predictions.  "
   ]
  },
  {
   "cell_type": "markdown",
   "id": "6ddde2af-ef29-4363-9cf0-ebe166a2c6ce",
   "metadata": {},
   "source": [
    "---\n",
    "## Feature-Based Explainations\n",
    "\n",
    "In Vertex AI you setup explainations by providing an `explanationSpec`. For feature-based explainations this can be done when registering the model in the Model Registry.  You can also set, or override, the `explainationSpec` when deploying models to and endpoints or configuring batch predictions jobs.\n"
   ]
  },
  {
   "cell_type": "code",
   "execution_count": null,
   "id": "4e45f4fe-64bf-436b-885a-3ee0e6a9f93a",
   "metadata": {},
   "outputs": [],
   "source": []
  }
 ],
 "metadata": {
  "environment": {
   "kernel": "python3",
   "name": "tf2-gpu.2-3.m94",
   "type": "gcloud",
   "uri": "gcr.io/deeplearning-platform-release/tf2-gpu.2-3:m94"
  },
  "kernelspec": {
   "display_name": "Python 3",
   "language": "python",
   "name": "python3"
  },
  "language_info": {
   "codemirror_mode": {
    "name": "ipython",
    "version": 3
   },
   "file_extension": ".py",
   "mimetype": "text/x-python",
   "name": "python",
   "nbconvert_exporter": "python",
   "pygments_lexer": "ipython3",
   "version": "3.7.12"
  }
 },
 "nbformat": 4,
 "nbformat_minor": 5
}
