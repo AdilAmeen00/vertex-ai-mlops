{
 "cells": [
  {
   "cell_type": "markdown",
   "id": "039dd056",
   "metadata": {},
   "source": [
    "# Vertex AI - Experiments > Tensorboard\n",
    "## Create a Tensorboard Instance for use in 5a-5e\n",
    "\n",
    "This notebook creates a tensorboard instance in Vertex AI experiments.  \n",
    "\n",
    "**Prerequisites**\n",
    "- `00 - Initial Setup`\n",
    "    \n",
    "**Resources**\n",
    "- Adopted From:\n",
    "    - https://cloud.google.com/vertex-ai/docs/experiments/tensorboard-overview\n",
    "    - https://www.tensorflow.org/tensorboard/get_started\n",
    "- Using Google Cloud Client Libraries (Python for Vertex AI):\n",
    "    - https://googleapis.dev/python/aiplatform/latest/index.html\n",
    "\n",
    "**Overview**\n",
    "\n",
    "<img src=\"architectures/statmike-mlops-05a.png\">"
   ]
  },
  {
   "cell_type": "markdown",
   "id": "44cee32e",
   "metadata": {},
   "source": [
    "---\n",
    "## Setup"
   ]
  },
  {
   "cell_type": "markdown",
   "id": "d3f75596",
   "metadata": {},
   "source": [
    "Setup the environment:"
   ]
  },
  {
   "cell_type": "code",
   "execution_count": null,
   "id": "c75b35d5",
   "metadata": {},
   "outputs": [],
   "source": [
    "from google.cloud import aiplatform"
   ]
  },
  {
   "cell_type": "markdown",
   "id": "153388ad",
   "metadata": {},
   "source": [
    "Define Parameters:"
   ]
  },
  {
   "cell_type": "code",
   "execution_count": null,
   "id": "15a26675",
   "metadata": {},
   "outputs": [],
   "source": [
    "# Locations\n",
    "REGION = 'us-central1'\n",
    "PROJECT_ID='statmike-mlops'\n",
    "PARENT = \"projects/\" + PROJECT_ID + \"/locations/\" + REGION\n",
    "\n",
    "TENSORBOARD_ID = 'digits_tensorboard'"
   ]
  },
  {
   "cell_type": "markdown",
   "id": "a053841c",
   "metadata": {},
   "source": [
    "Setup AI Platform Python Clients\n",
    "- https://googleapis.dev/python/aiplatform/latest/index.html"
   ]
  },
  {
   "cell_type": "code",
   "execution_count": null,
   "id": "b1cfe652",
   "metadata": {},
   "outputs": [],
   "source": [
    "aiplatform.init(project=PROJECT_ID, location=REGION)"
   ]
  },
  {
   "cell_type": "markdown",
   "id": "1fb19fa6",
   "metadata": {},
   "source": [
    "---\n",
    "## Tensorboard Instance"
   ]
  },
  {
   "cell_type": "code",
   "execution_count": 5,
   "id": "0331ac7d",
   "metadata": {},
   "outputs": [
    {
     "name": "stdout",
     "output_type": "stream",
     "text": [
      "INFO:google.cloud.aiplatform.tensorboard.tensorboard:Creating Tensorboard\n",
      "INFO:google.cloud.aiplatform.tensorboard.tensorboard:Create Tensorboard backing LRO: projects/691911073727/locations/us-central1/tensorboards/3436703912520843264/operations/5620158908057255936\n",
      "INFO:google.cloud.aiplatform.tensorboard.tensorboard:Tensorboard created. Resource name: projects/691911073727/locations/us-central1/tensorboards/3436703912520843264\n",
      "INFO:google.cloud.aiplatform.tensorboard.tensorboard:To use this Tensorboard in another session:\n",
      "INFO:google.cloud.aiplatform.tensorboard.tensorboard:tb = aiplatform.Tensorboard('projects/691911073727/locations/us-central1/tensorboards/3436703912520843264')\n"
     ]
    }
   ],
   "source": [
    "tb = aiplatform.Tensorboard.create(display_name=TENSORBOARD_ID)"
   ]
  },
  {
   "cell_type": "markdown",
   "id": "af71f749",
   "metadata": {},
   "source": [
    "---\n",
    "## Remove Resources\n",
    "see notebook \"XX - Cleanup\""
   ]
  },
  {
   "cell_type": "code",
   "execution_count": null,
   "id": "ab2c4815",
   "metadata": {},
   "outputs": [],
   "source": []
  }
 ],
 "metadata": {
  "environment": {
   "name": "tf2-gpu.2-5.m76",
   "type": "gcloud",
   "uri": "gcr.io/deeplearning-platform-release/tf2-gpu.2-5:m76"
  },
  "kernelspec": {
   "display_name": "Python 3",
   "language": "python",
   "name": "python3"
  },
  "language_info": {
   "codemirror_mode": {
    "name": "ipython",
    "version": 3
   },
   "file_extension": ".py",
   "mimetype": "text/x-python",
   "name": "python",
   "nbconvert_exporter": "python",
   "pygments_lexer": "ipython3",
   "version": "3.7.10"
  }
 },
 "nbformat": 4,
 "nbformat_minor": 5
}
