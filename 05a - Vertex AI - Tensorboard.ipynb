{
 "cells": [
  {
   "cell_type": "markdown",
   "id": "8b7725db",
   "metadata": {},
   "source": [
    "# Vertex AI - Tensorboard\n",
    "\n",
    "This notebook creates a tensorboard instance in Vertex AI experiments.  \n",
    "\n",
    "**Prerequisites**\n",
    "- `00 - Initial Setup`\n",
    "    \n",
    "**Resources**\n",
    "- Adopted From:\n",
    "    - https://cloud.google.com/vertex-ai/docs/experiments/tensorboard-overview\n",
    "    - https://www.tensorflow.org/tensorboard/get_started\n",
    "- Using Google Cloud Client Libraries (Python for Vertex AI):\n",
    "    - https://googleapis.dev/python/aiplatform/latest/index.html\n",
    "\n",
    "**Overview**\n",
    "\n",
    "<img src=\"architectures/statmike-mlops-05a.png\">"
   ]
  },
  {
   "cell_type": "markdown",
   "id": "8cf69816",
   "metadata": {},
   "source": [
    "---\n",
    "## Setup"
   ]
  },
  {
   "cell_type": "code",
   "execution_count": 1,
   "id": "5cb49c8e",
   "metadata": {},
   "outputs": [],
   "source": [
    "from google.cloud.aiplatform_v1beta1 import (TensorboardServiceClient, types)"
   ]
  },
  {
   "cell_type": "code",
   "execution_count": 2,
   "id": "f5b7a25e",
   "metadata": {},
   "outputs": [],
   "source": [
    "# Locations\n",
    "REGION = 'us-central1'\n",
    "PROJECT_ID='statmike-mlops'\n",
    "PARENT = \"projects/\" + PROJECT_ID + \"/locations/\" + REGION\n",
    "\n",
    "EXPERIMENT_ID = '05-aip-digits'"
   ]
  },
  {
   "cell_type": "code",
   "execution_count": 3,
   "id": "82dd5d24",
   "metadata": {},
   "outputs": [],
   "source": [
    "API_ENDPOINT = \"{}-aiplatform.googleapis.com\".format(REGION)\n",
    "client_options = {\"api_endpoint\": API_ENDPOINT}\n",
    "clients = {}"
   ]
  },
  {
   "cell_type": "markdown",
   "id": "6dc15257",
   "metadata": {},
   "source": [
    "## Tensorboard Instance"
   ]
  },
  {
   "cell_type": "code",
   "execution_count": 4,
   "id": "1f80bd18",
   "metadata": {},
   "outputs": [],
   "source": [
    "clients['tb'] = TensorboardServiceClient(client_options=client_options)"
   ]
  },
  {
   "cell_type": "code",
   "execution_count": 21,
   "id": "ff456247",
   "metadata": {},
   "outputs": [],
   "source": [
    "BASE_RESOURCE_PATH = clients['tb'].common_location_path(PROJECT_ID, REGION)"
   ]
  },
  {
   "cell_type": "code",
   "execution_count": 22,
   "id": "a56e423b",
   "metadata": {},
   "outputs": [
    {
     "data": {
      "text/plain": [
       "'projects/statmike-mlops/locations/us-central1'"
      ]
     },
     "execution_count": 22,
     "metadata": {},
     "output_type": "execute_result"
    }
   ],
   "source": [
    "BASE_RESOURCE_PATH"
   ]
  },
  {
   "cell_type": "code",
   "execution_count": 44,
   "id": "cd361b88",
   "metadata": {},
   "outputs": [],
   "source": [
    "TENSORBOARD_ID = 'digits_tensorboard'"
   ]
  },
  {
   "cell_type": "code",
   "execution_count": 46,
   "id": "fe7f97b6",
   "metadata": {},
   "outputs": [],
   "source": [
    "tensorboard_lro = clients['tb'].create_tensorboard(\n",
    "        parent = BASE_RESOURCE_PATH,\n",
    "        tensorboard = types.Tensorboard(\n",
    "            display_name = TENSORBOARD_ID,\n",
    "        ),\n",
    ")"
   ]
  },
  {
   "cell_type": "code",
   "execution_count": 47,
   "id": "2a4662fc",
   "metadata": {},
   "outputs": [
    {
     "data": {
      "text/plain": [
       "name: \"projects/691911073727/locations/us-central1/tensorboards/5984333926728990720\"\n",
       "display_name: \"digits_tensorboard\""
      ]
     },
     "execution_count": 47,
     "metadata": {},
     "output_type": "execute_result"
    }
   ],
   "source": [
    "tensorboard_lro.result()"
   ]
  },
  {
   "cell_type": "markdown",
   "id": "ce1bd9ec",
   "metadata": {},
   "source": [
    "## Tensorboard Experiment"
   ]
  },
  {
   "cell_type": "code",
   "execution_count": 48,
   "id": "7ddd995d",
   "metadata": {},
   "outputs": [],
   "source": [
    "experiment_lro = clients['tb'].create_tensorboard_experiment(\n",
    "    request = types.CreateTensorboardExperimentRequest(\n",
    "        parent = tensorboard_lro.result().name,\n",
    "        tensorboard_experiment = types.TensorboardExperiment(\n",
    "            display_name = EXPERIMENT_ID\n",
    "        ),\n",
    "        tensorboard_experiment_id = EXPERIMENT_ID,\n",
    "    )\n",
    ")"
   ]
  },
  {
   "cell_type": "code",
   "execution_count": 49,
   "id": "6893d694",
   "metadata": {},
   "outputs": [
    {
     "data": {
      "text/plain": [
       "name: \"projects/691911073727/locations/us-central1/tensorboards/5984333926728990720/experiments/05-aip-digits\"\n",
       "display_name: \"05-aip-digits\"\n",
       "create_time {\n",
       "  seconds: 1628770111\n",
       "  nanos: 464043000\n",
       "}\n",
       "update_time {\n",
       "  seconds: 1628770111\n",
       "  nanos: 464043000\n",
       "}\n",
       "etag: \"AMEw9yNhIOyBUlayySAnIvCVekYu8KN0M4UXFsvpCYluQ3iQTjZxPGewk5LP5m5gC5mA\""
      ]
     },
     "execution_count": 49,
     "metadata": {},
     "output_type": "execute_result"
    }
   ],
   "source": [
    "experiment_lro"
   ]
  },
  {
   "cell_type": "code",
   "execution_count": null,
   "id": "83a69f1a",
   "metadata": {},
   "outputs": [],
   "source": []
  }
 ],
 "metadata": {
  "environment": {
   "name": "tf2-gpu.2-5.m76",
   "type": "gcloud",
   "uri": "gcr.io/deeplearning-platform-release/tf2-gpu.2-5:m76"
  },
  "kernelspec": {
   "display_name": "Python 3",
   "language": "python",
   "name": "python3"
  },
  "language_info": {
   "codemirror_mode": {
    "name": "ipython",
    "version": 3
   },
   "file_extension": ".py",
   "mimetype": "text/x-python",
   "name": "python",
   "nbconvert_exporter": "python",
   "pygments_lexer": "ipython3",
   "version": "3.7.10"
  }
 },
 "nbformat": 4,
 "nbformat_minor": 5
}
