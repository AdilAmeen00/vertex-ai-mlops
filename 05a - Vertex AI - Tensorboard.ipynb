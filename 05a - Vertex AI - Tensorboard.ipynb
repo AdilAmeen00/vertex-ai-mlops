{
 "cells": [
  {
   "cell_type": "markdown",
   "id": "815e54b2",
   "metadata": {},
   "source": [
    "# Vertex AI - Tensorboard\n",
    "\n",
    "This notebook creates a tensorboard instance in Vertex AI experiments.  \n",
    "\n",
    "**Prerequisites**\n",
    "- `00 - Initial Setup`\n",
    "    \n",
    "**Resources**\n",
    "- Adopted From:\n",
    "    - https://cloud.google.com/vertex-ai/docs/experiments/tensorboard-overview\n",
    "    - https://www.tensorflow.org/tensorboard/get_started\n",
    "- Using Google Cloud Client Libraries (Python for Vertex AI):\n",
    "    - https://googleapis.dev/python/aiplatform/latest/index.html\n",
    "\n",
    "**Overview**\n",
    "\n",
    "<img src=\"architectures/statmike-mlops-05a.png\">"
   ]
  },
  {
   "cell_type": "markdown",
   "id": "78315472",
   "metadata": {},
   "source": [
    "---\n",
    "## Setup"
   ]
  },
  {
   "cell_type": "code",
   "execution_count": 1,
   "id": "5dd5fafc",
   "metadata": {},
   "outputs": [],
   "source": [
    "from google.cloud.aiplatform_v1beta1 import (TensorboardServiceClient, types)"
   ]
  },
  {
   "cell_type": "code",
   "execution_count": 12,
   "id": "e9906664",
   "metadata": {},
   "outputs": [],
   "source": [
    "# Locations\n",
    "REGION = 'us-central1'\n",
    "PROJECT_ID='statmike-mlops'\n",
    "PARENT = \"projects/\" + PROJECT_ID + \"/locations/\" + REGION\n",
    "\n",
    "EXPERIMENT_ID = '05-aip-digits'"
   ]
  },
  {
   "cell_type": "code",
   "execution_count": 3,
   "id": "733da3a5",
   "metadata": {},
   "outputs": [],
   "source": [
    "API_ENDPOINT = \"{}-aiplatform.googleapis.com\".format(REGION)\n",
    "client_options = {\"api_endpoint\": API_ENDPOINT}\n",
    "clients = {}"
   ]
  },
  {
   "cell_type": "markdown",
   "id": "60e741dc",
   "metadata": {},
   "source": [
    "## Tensorboard Instance"
   ]
  },
  {
   "cell_type": "code",
   "execution_count": 4,
   "id": "cdccf8e6",
   "metadata": {},
   "outputs": [],
   "source": [
    "clients['tb'] = TensorboardServiceClient(client_options=client_options)"
   ]
  },
  {
   "cell_type": "code",
   "execution_count": 5,
   "id": "c36198af",
   "metadata": {},
   "outputs": [],
   "source": [
    "BASE_RESOURCE_PATH = clients['tb'].common_location_path(PROJECT_ID, REGION)"
   ]
  },
  {
   "cell_type": "code",
   "execution_count": 6,
   "id": "4bfb3f93",
   "metadata": {},
   "outputs": [],
   "source": [
    "TENSORBOARD_ID = 'digits_tensorboard'"
   ]
  },
  {
   "cell_type": "code",
   "execution_count": 7,
   "id": "a093c279",
   "metadata": {},
   "outputs": [],
   "source": [
    "tensorboard_lro = clients['tb'].create_tensorboard(\n",
    "    request=types.CreateTensorboardRequest(\n",
    "        parent = BASE_RESOURCE_PATH,\n",
    "        tensorboard=types.Tensorboard(\n",
    "            name=TENSORBOARD_ID,\n",
    "            display_name=\"Tensorboad for handwritten digits model training\"\n",
    "        ),\n",
    "    )\n",
    ")"
   ]
  },
  {
   "cell_type": "code",
   "execution_count": 8,
   "id": "08f6c4fa",
   "metadata": {},
   "outputs": [
    {
     "data": {
      "text/plain": [
       "name: \"projects/691911073727/locations/us-central1/tensorboards/7995331897838272512\"\n",
       "display_name: \"Tensorboad for handwritten digits model training\""
      ]
     },
     "execution_count": 8,
     "metadata": {},
     "output_type": "execute_result"
    }
   ],
   "source": [
    "tensorboard_lro.result()"
   ]
  },
  {
   "cell_type": "markdown",
   "id": "665cd29c",
   "metadata": {},
   "source": [
    "## Tensorboard Experiment"
   ]
  },
  {
   "cell_type": "code",
   "execution_count": 13,
   "id": "60e25874",
   "metadata": {},
   "outputs": [],
   "source": [
    "experiment_lro = clients['tb'].create_tensorboard_experiment(\n",
    "    request = types.CreateTensorboardExperimentRequest(\n",
    "        parent = tensorboard_lro.result().name,\n",
    "        tensorboard_experiment = types.TensorboardExperiment(\n",
    "            display_name = EXPERIMENT_ID\n",
    "        ),\n",
    "        tensorboard_experiment_id = EXPERIMENT_ID,\n",
    "    )\n",
    ")"
   ]
  },
  {
   "cell_type": "code",
   "execution_count": 14,
   "id": "5e48c9d3",
   "metadata": {},
   "outputs": [
    {
     "data": {
      "text/plain": [
       "name: \"projects/691911073727/locations/us-central1/tensorboards/7995331897838272512/experiments/05-aip-digits\"\n",
       "display_name: \"05-aip-digits\"\n",
       "create_time {\n",
       "  seconds: 1626949759\n",
       "  nanos: 750576000\n",
       "}\n",
       "update_time {\n",
       "  seconds: 1626949759\n",
       "  nanos: 750576000\n",
       "}\n",
       "etag: \"AMEw9yOBZ7LjlxOtRbrOJa59T7I93Nhl5WhPUZGO-hX_Mfdy1rEUR0BySWfGnMyRmMlH\""
      ]
     },
     "execution_count": 14,
     "metadata": {},
     "output_type": "execute_result"
    }
   ],
   "source": [
    "experiment_lro"
   ]
  },
  {
   "cell_type": "code",
   "execution_count": null,
   "id": "3bf35c43",
   "metadata": {},
   "outputs": [],
   "source": []
  }
 ],
 "metadata": {
  "environment": {
   "name": "managed-notebooks.m70",
   "type": "gcloud",
   "uri": "gcr.io/deeplearning-platform-release/managed-notebooks:m70"
  },
  "kernelspec": {
   "display_name": "Python",
   "language": "python",
   "name": "base"
  },
  "language_info": {
   "codemirror_mode": {
    "name": "ipython",
    "version": 3
   },
   "file_extension": ".py",
   "mimetype": "text/x-python",
   "name": "python",
   "nbconvert_exporter": "python",
   "pygments_lexer": "ipython3",
   "version": "3.7.10"
  }
 },
 "nbformat": 4,
 "nbformat_minor": 5
}
