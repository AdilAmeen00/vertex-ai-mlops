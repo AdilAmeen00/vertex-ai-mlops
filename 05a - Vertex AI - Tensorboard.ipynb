{
 "cells": [
  {
   "cell_type": "markdown",
   "id": "4463c22d",
   "metadata": {},
   "source": [
    "# Vertex AI - Tensorboard\n",
    "\n",
    "This notebook creates a tensorboard instance in Vertex AI experiments.  \n",
    "\n",
    "**Prerequisites**\n",
    "- `00 - Initial Setup`\n",
    "    \n",
    "**Resources**\n",
    "- Adopted From:\n",
    "    - https://cloud.google.com/vertex-ai/docs/experiments/tensorboard-overview\n",
    "    - https://www.tensorflow.org/tensorboard/get_started\n",
    "- Using Google Cloud Client Libraries (Python for Vertex AI):\n",
    "    - https://googleapis.dev/python/aiplatform/latest/index.html\n",
    "\n",
    "**Overview**\n",
    "\n",
    "<img src=\"architectures/statmike-mlops-05a.png\">"
   ]
  },
  {
   "cell_type": "markdown",
   "id": "60417d50",
   "metadata": {},
   "source": [
    "---\n",
    "## Setup"
   ]
  },
  {
   "cell_type": "code",
   "execution_count": 1,
   "id": "998d850a",
   "metadata": {},
   "outputs": [],
   "source": [
    "from google.cloud.aiplatform_v1beta1 import (TensorboardServiceClient, types)"
   ]
  },
  {
   "cell_type": "code",
   "execution_count": 2,
   "id": "948ead72",
   "metadata": {},
   "outputs": [],
   "source": [
    "# Locations\n",
    "REGION = 'us-central1'\n",
    "PROJECT_ID='statmike-mlops'\n",
    "PARENT = \"projects/\" + PROJECT_ID + \"/locations/\" + REGION\n",
    "\n",
    "EXPERIMENT_ID = '05-aip-digits'"
   ]
  },
  {
   "cell_type": "code",
   "execution_count": 3,
   "id": "5e544e32",
   "metadata": {},
   "outputs": [],
   "source": [
    "API_ENDPOINT = \"{}-aiplatform.googleapis.com\".format(REGION)\n",
    "client_options = {\"api_endpoint\": API_ENDPOINT}\n",
    "clients = {}"
   ]
  },
  {
   "cell_type": "markdown",
   "id": "40026cc1",
   "metadata": {},
   "source": [
    "## Tensorboard Instance"
   ]
  },
  {
   "cell_type": "code",
   "execution_count": 4,
   "id": "cb562718",
   "metadata": {},
   "outputs": [],
   "source": [
    "clients['tb'] = TensorboardServiceClient(client_options=client_options)"
   ]
  },
  {
   "cell_type": "code",
   "execution_count": 21,
   "id": "b55e3282",
   "metadata": {},
   "outputs": [],
   "source": [
    "BASE_RESOURCE_PATH = clients['tb'].common_location_path(PROJECT_ID, REGION)"
   ]
  },
  {
   "cell_type": "code",
   "execution_count": 22,
   "id": "9ee7399d",
   "metadata": {},
   "outputs": [
    {
     "data": {
      "text/plain": [
       "'projects/statmike-mlops/locations/us-central1'"
      ]
     },
     "execution_count": 22,
     "metadata": {},
     "output_type": "execute_result"
    }
   ],
   "source": [
    "BASE_RESOURCE_PATH"
   ]
  },
  {
   "cell_type": "code",
   "execution_count": 44,
   "id": "8853d1c3",
   "metadata": {},
   "outputs": [],
   "source": [
    "TENSORBOARD_ID = 'digits_tensorboard'"
   ]
  },
  {
   "cell_type": "code",
   "execution_count": 46,
   "id": "a91c39c2",
   "metadata": {},
   "outputs": [],
   "source": [
    "tensorboard_lro = clients['tb'].create_tensorboard(\n",
    "        parent = BASE_RESOURCE_PATH,\n",
    "        tensorboard = types.Tensorboard(\n",
    "            display_name = TENSORBOARD_ID,\n",
    "        ),\n",
    ")"
   ]
  },
  {
   "cell_type": "code",
   "execution_count": 47,
   "id": "b0c32ae9",
   "metadata": {},
   "outputs": [
    {
     "data": {
      "text/plain": [
       "name: \"projects/691911073727/locations/us-central1/tensorboards/5984333926728990720\"\n",
       "display_name: \"digits_tensorboard\""
      ]
     },
     "execution_count": 47,
     "metadata": {},
     "output_type": "execute_result"
    }
   ],
   "source": [
    "tensorboard_lro.result()"
   ]
  },
  {
   "cell_type": "markdown",
   "id": "6ccd35d1",
   "metadata": {},
   "source": [
    "## Tensorboard Experiment"
   ]
  },
  {
   "cell_type": "code",
   "execution_count": 48,
   "id": "59a07078",
   "metadata": {},
   "outputs": [],
   "source": [
    "experiment_lro = clients['tb'].create_tensorboard_experiment(\n",
    "    request = types.CreateTensorboardExperimentRequest(\n",
    "        parent = tensorboard_lro.result().name,\n",
    "        tensorboard_experiment = types.TensorboardExperiment(\n",
    "            display_name = EXPERIMENT_ID\n",
    "        ),\n",
    "        tensorboard_experiment_id = EXPERIMENT_ID,\n",
    "    )\n",
    ")"
   ]
  },
  {
   "cell_type": "code",
   "execution_count": 49,
   "id": "5c03c1ee",
   "metadata": {},
   "outputs": [
    {
     "data": {
      "text/plain": [
       "name: \"projects/691911073727/locations/us-central1/tensorboards/5984333926728990720/experiments/05-aip-digits\"\n",
       "display_name: \"05-aip-digits\"\n",
       "create_time {\n",
       "  seconds: 1628770111\n",
       "  nanos: 464043000\n",
       "}\n",
       "update_time {\n",
       "  seconds: 1628770111\n",
       "  nanos: 464043000\n",
       "}\n",
       "etag: \"AMEw9yNhIOyBUlayySAnIvCVekYu8KN0M4UXFsvpCYluQ3iQTjZxPGewk5LP5m5gC5mA\""
      ]
     },
     "execution_count": 49,
     "metadata": {},
     "output_type": "execute_result"
    }
   ],
   "source": [
    "experiment_lro"
   ]
  },
  {
   "cell_type": "markdown",
   "id": "55f20a00",
   "metadata": {},
   "source": [
    "---\n",
    "## Remove Resources\n",
    "see notebook \"XX - Cleanup\""
   ]
  },
  {
   "cell_type": "code",
   "execution_count": null,
   "id": "084849a3",
   "metadata": {},
   "outputs": [],
   "source": []
  }
 ],
 "metadata": {
  "environment": {
   "name": "tf2-gpu.2-5.m76",
   "type": "gcloud",
   "uri": "gcr.io/deeplearning-platform-release/tf2-gpu.2-5:m76"
  },
  "kernelspec": {
   "display_name": "Python 3",
   "language": "python",
   "name": "python3"
  },
  "language_info": {
   "codemirror_mode": {
    "name": "ipython",
    "version": 3
   },
   "file_extension": ".py",
   "mimetype": "text/x-python",
   "name": "python",
   "nbconvert_exporter": "python",
   "pygments_lexer": "ipython3",
   "version": "3.7.10"
  }
 },
 "nbformat": 4,
 "nbformat_minor": 5
}
