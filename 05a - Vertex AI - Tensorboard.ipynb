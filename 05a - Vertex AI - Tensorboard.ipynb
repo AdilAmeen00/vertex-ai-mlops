{
 "cells": [
  {
   "cell_type": "markdown",
   "id": "54fa0de0",
   "metadata": {},
   "source": [
    "# Vertex AI - Tensorboard\n",
    "\n",
    "This notebook creates a tensorboard instance in Vertex AI experiments.  \n",
    "\n",
    "**Prerequisites**\n",
    "- `00 - Initial Setup`\n",
    "    \n",
    "**Resources**\n",
    "- Adopted From:\n",
    "    - https://cloud.google.com/vertex-ai/docs/experiments/tensorboard-overview\n",
    "    - https://www.tensorflow.org/tensorboard/get_started\n",
    "- Using Google Cloud Client Libraries (Python for Vertex AI):\n",
    "    - https://googleapis.dev/python/aiplatform/latest/index.html\n",
    "\n",
    "**Overview**\n",
    "\n",
    "<img src=\"architectures/statmike-mlops-05a.png\">"
   ]
  },
  {
   "cell_type": "markdown",
   "id": "8c577bb4",
   "metadata": {},
   "source": [
    "---\n",
    "## Setup"
   ]
  },
  {
   "cell_type": "code",
   "execution_count": 13,
   "id": "034e1ff0",
   "metadata": {},
   "outputs": [],
   "source": [
    "from google.cloud.aiplatform_v1beta1 import (TensorboardServiceClient, types)"
   ]
  },
  {
   "cell_type": "code",
   "execution_count": 23,
   "id": "7eda3be7",
   "metadata": {},
   "outputs": [],
   "source": [
    "# Locations\n",
    "REGION = 'us-central1'\n",
    "PROJECT_ID='statmike-mlops'\n",
    "PARENT = \"projects/\" + PROJECT_ID + \"/locations/\" + REGION\n",
    "\n",
    "EXPERIMENT_ID = '05_AIP_DIGITS'"
   ]
  },
  {
   "cell_type": "code",
   "execution_count": 3,
   "id": "1b900005",
   "metadata": {},
   "outputs": [],
   "source": [
    "API_ENDPOINT = \"{}-aiplatform.googleapis.com\".format(REGION)\n",
    "client_options = {\"api_endpoint\": API_ENDPOINT}\n",
    "clients = {}"
   ]
  },
  {
   "cell_type": "markdown",
   "id": "91e00f87",
   "metadata": {},
   "source": [
    "## Tensorboard Instance"
   ]
  },
  {
   "cell_type": "code",
   "execution_count": 4,
   "id": "e2830c6a",
   "metadata": {},
   "outputs": [],
   "source": [
    "clients['tb'] = TensorboardServiceClient(client_options=client_options)"
   ]
  },
  {
   "cell_type": "code",
   "execution_count": 5,
   "id": "ac72b481",
   "metadata": {},
   "outputs": [],
   "source": [
    "BASE_RESOURCE_PATH = clients['tb'].common_location_path(PROJECT_ID, REGION)"
   ]
  },
  {
   "cell_type": "code",
   "execution_count": 7,
   "id": "d3c6756c",
   "metadata": {},
   "outputs": [],
   "source": [
    "TENSORBOARD_ID = 'digits_tensorboard'"
   ]
  },
  {
   "cell_type": "code",
   "execution_count": 17,
   "id": "9a12ffd3",
   "metadata": {},
   "outputs": [],
   "source": [
    "tensorboard_lro = clients['tb'].create_tensorboard(\n",
    "    request=types.CreateTensorboardRequest(\n",
    "        parent = BASE_RESOURCE_PATH,\n",
    "        tensorboard=types.Tensorboard(\n",
    "            name=TENSORBOARD_ID,\n",
    "            display_name=\"Tensorboad for handwritten digits model training\"\n",
    "        ),\n",
    "    )\n",
    ")"
   ]
  },
  {
   "cell_type": "code",
   "execution_count": 22,
   "id": "3534f977",
   "metadata": {},
   "outputs": [
    {
     "data": {
      "text/plain": [
       "name: \"projects/691911073727/locations/us-central1/tensorboards/3200124194595536896\"\n",
       "display_name: \"Tensorboad for handwritten digits model training\""
      ]
     },
     "execution_count": 22,
     "metadata": {},
     "output_type": "execute_result"
    }
   ],
   "source": [
    "tensorboard_lro.result()"
   ]
  },
  {
   "cell_type": "markdown",
   "id": "e3c81bf3",
   "metadata": {},
   "source": [
    "## Tensorboard Experiment"
   ]
  },
  {
   "cell_type": "code",
   "execution_count": 24,
   "id": "3d12f776",
   "metadata": {},
   "outputs": [],
   "source": [
    "experiment_lro = clients['tb'].create_tensorboard_experiment(\n",
    "    request = types.CreateTensorboardExperimentRequest(\n",
    "        parent = tensorboard_lro.result().name,\n",
    "        tensorboard_experiment = types.TensorboardExperiment(\n",
    "            display_name = EXPERIMENT_ID\n",
    "        ),\n",
    "        tensorboard_experiment_id = EXPERIMENT_ID,\n",
    "    )\n",
    ")"
   ]
  },
  {
   "cell_type": "code",
   "execution_count": 26,
   "id": "5d6c448e",
   "metadata": {},
   "outputs": [
    {
     "data": {
      "text/plain": [
       "name: \"projects/691911073727/locations/us-central1/tensorboards/3200124194595536896/experiments/05_AIP_DIGITS\"\n",
       "display_name: \"05_AIP_DIGITS\"\n",
       "create_time {\n",
       "  seconds: 1626267153\n",
       "  nanos: 616192000\n",
       "}\n",
       "update_time {\n",
       "  seconds: 1626267153\n",
       "  nanos: 616192000\n",
       "}\n",
       "etag: \"AMEw9yPCbz8OV4561jhdHDwxpVbvQ6L7iBBmfGeltRtwojxBULPjTFzJF73LH9tYJOLA\""
      ]
     },
     "execution_count": 26,
     "metadata": {},
     "output_type": "execute_result"
    }
   ],
   "source": [
    "experiment_lro"
   ]
  },
  {
   "cell_type": "code",
   "execution_count": null,
   "id": "b948036f",
   "metadata": {},
   "outputs": [],
   "source": []
  }
 ],
 "metadata": {
  "environment": {
   "name": "managed-notebooks.m70",
   "type": "gcloud",
   "uri": "gcr.io/deeplearning-platform-release/managed-notebooks:m70"
  },
  "kernelspec": {
   "display_name": "Python",
   "language": "python",
   "name": "base"
  },
  "language_info": {
   "codemirror_mode": {
    "name": "ipython",
    "version": 3
   },
   "file_extension": ".py",
   "mimetype": "text/x-python",
   "name": "python",
   "nbconvert_exporter": "python",
   "pygments_lexer": "ipython3",
   "version": "3.7.10"
  }
 },
 "nbformat": 4,
 "nbformat_minor": 5
}
