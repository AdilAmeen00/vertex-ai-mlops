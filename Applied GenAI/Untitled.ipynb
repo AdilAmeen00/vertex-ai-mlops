{
 "cells": [
  {
   "cell_type": "code",
   "execution_count": 1,
   "id": "43e73a2e-d7b9-4063-8a5b-117f31ea773a",
   "metadata": {},
   "outputs": [],
   "source": [
    "project = !gcloud config get-value project\n",
    "PROJECT_ID = project[0]\n",
    "PROJECT_ID\n",
    "\n",
    "REGION = 'us-central1'\n",
    "EXPERIMENT = 'mlb-rules' # list the EXPERIMENT from the choosen prerequisite notebook\n",
    "SERIES = 'applied-genai'"
   ]
  },
  {
   "cell_type": "code",
   "execution_count": 2,
   "id": "118c1e0a-8acb-483f-b038-8e11f0dc1864",
   "metadata": {},
   "outputs": [],
   "source": [
    "from google.cloud import aiplatform\n",
    "aiplatform.init(project = PROJECT_ID, location = REGION)"
   ]
  },
  {
   "cell_type": "code",
   "execution_count": 5,
   "id": "108137db-55ba-43ac-af4a-b62b7d498077",
   "metadata": {},
   "outputs": [],
   "source": [
    "list_endpoints = aiplatform.MatchingEngineIndexEndpoint.list(filter = f'display_name={SERIES} AND labels.series={SERIES}')"
   ]
  },
  {
   "cell_type": "code",
   "execution_count": 6,
   "id": "68863ad6-a8a3-4afa-9163-055b4b975142",
   "metadata": {},
   "outputs": [
    {
     "data": {
      "text/plain": [
       "[<google.cloud.aiplatform.matching_engine.matching_engine_index_endpoint.MatchingEngineIndexEndpoint object at 0x7fa80f06a050> \n",
       " resource name: projects/1026793852137/locations/us-central1/indexEndpoints/4956026671967764480]"
      ]
     },
     "execution_count": 6,
     "metadata": {},
     "output_type": "execute_result"
    }
   ],
   "source": [
    "list_endpoints"
   ]
  },
  {
   "cell_type": "code",
   "execution_count": 8,
   "id": "a07db55a-5f8f-4938-a3d2-120daa85c959",
   "metadata": {},
   "outputs": [
    {
     "name": "stdout",
     "output_type": "stream",
     "text": [
      "Undeploying MatchingEngineIndexEndpoint index_endpoint: projects/1026793852137/locations/us-central1/indexEndpoints/4956026671967764480\n",
      "Undeploy MatchingEngineIndexEndpoint index_endpoint backing LRO: projects/1026793852137/locations/us-central1/indexEndpoints/4956026671967764480/operations/7982317184858718208\n",
      "MatchingEngineIndexEndpoint index_endpoint undeployed. Resource name: projects/1026793852137/locations/us-central1/indexEndpoints/4956026671967764480\n",
      "Deleting MatchingEngineIndexEndpoint : projects/1026793852137/locations/us-central1/indexEndpoints/4956026671967764480\n",
      "Delete MatchingEngineIndexEndpoint  backing LRO: projects/1026793852137/locations/us-central1/operations/3662239242303569920\n",
      "MatchingEngineIndexEndpoint deleted. . Resource name: projects/1026793852137/locations/us-central1/indexEndpoints/4956026671967764480\n"
     ]
    }
   ],
   "source": [
    "for e in list_endpoints: e.delete(force = True)"
   ]
  },
  {
   "cell_type": "code",
   "execution_count": null,
   "id": "74f38c22-401b-4199-86b7-fe025cea4f72",
   "metadata": {},
   "outputs": [],
   "source": []
  },
  {
   "cell_type": "code",
   "execution_count": null,
   "id": "c15fcff2-749f-4d5e-8491-d1e8b9664c85",
   "metadata": {},
   "outputs": [],
   "source": []
  },
  {
   "cell_type": "code",
   "execution_count": null,
   "id": "2682f359-98f8-41b5-a700-8dfca79747df",
   "metadata": {},
   "outputs": [],
   "source": []
  },
  {
   "cell_type": "code",
   "execution_count": 3,
   "id": "66a10045-6456-43cf-981d-c3ed45f80015",
   "metadata": {},
   "outputs": [],
   "source": [
    "list_indexes = aiplatform.MatchingEngineIndex.list(filter = f'display_name={EXPERIMENT} AND labels.series={SERIES} AND labels.experiment={EXPERIMENT}')"
   ]
  },
  {
   "cell_type": "code",
   "execution_count": 4,
   "id": "676d657a-4118-4513-9971-c597e54783b3",
   "metadata": {},
   "outputs": [
    {
     "data": {
      "text/plain": [
       "[<google.cloud.aiplatform.matching_engine.matching_engine_index.MatchingEngineIndex object at 0x7fa80f033750> \n",
       " resource name: projects/1026793852137/locations/us-central1/indexes/8683881263523692544]"
      ]
     },
     "execution_count": 4,
     "metadata": {},
     "output_type": "execute_result"
    }
   ],
   "source": [
    "list_indexes"
   ]
  },
  {
   "cell_type": "code",
   "execution_count": null,
   "id": "53704ae8-32a3-4a6f-9779-c4cd64e1a517",
   "metadata": {},
   "outputs": [],
   "source": []
  },
  {
   "cell_type": "code",
   "execution_count": null,
   "id": "47e26a2b-cdea-43c0-bf94-ac0fdfadc8ac",
   "metadata": {},
   "outputs": [],
   "source": []
  },
  {
   "cell_type": "code",
   "execution_count": 7,
   "id": "ce6ae085-14e9-46a3-83de-fc34ec67c57a",
   "metadata": {},
   "outputs": [
    {
     "name": "stdout",
     "output_type": "stream",
     "text": [
      "\u001b[33mWARNING: Ignoring invalid distribution -yyaml (/opt/conda/lib/python3.7/site-packages)\u001b[0m\u001b[33m\n",
      "\u001b[0m\u001b[33mWARNING: Ignoring invalid distribution -ubernetes (/opt/conda/lib/python3.7/site-packages)\u001b[0m\u001b[33m\n",
      "\u001b[0m\u001b[33mWARNING: Ignoring invalid distribution -oogle-auth-oauthlib (/opt/conda/lib/python3.7/site-packages)\u001b[0m\u001b[33m\n",
      "\u001b[0m\u001b[33mWARNING: Ignoring invalid distribution -illow (/opt/conda/lib/python3.7/site-packages)\u001b[0m\u001b[33m\n",
      "\u001b[0m\u001b[33mWARNING: Ignoring invalid distribution -yyaml (/opt/conda/lib/python3.7/site-packages)\u001b[0m\u001b[33m\n",
      "\u001b[0m\u001b[33mWARNING: Ignoring invalid distribution -ubernetes (/opt/conda/lib/python3.7/site-packages)\u001b[0m\u001b[33m\n",
      "\u001b[0m\u001b[33mWARNING: Ignoring invalid distribution -oogle-auth-oauthlib (/opt/conda/lib/python3.7/site-packages)\u001b[0m\u001b[33m\n",
      "\u001b[0m\u001b[33mWARNING: Ignoring invalid distribution -illow (/opt/conda/lib/python3.7/site-packages)\u001b[0m\u001b[33m\n",
      "\u001b[0m\u001b[33mWARNING: Ignoring invalid distribution -yyaml (/opt/conda/lib/python3.7/site-packages)\u001b[0m\u001b[33m\n",
      "\u001b[0m\u001b[33mWARNING: Ignoring invalid distribution -ubernetes (/opt/conda/lib/python3.7/site-packages)\u001b[0m\u001b[33m\n",
      "\u001b[0m\u001b[33mWARNING: Ignoring invalid distribution -oogle-auth-oauthlib (/opt/conda/lib/python3.7/site-packages)\u001b[0m\u001b[33m\n",
      "\u001b[0m\u001b[33mWARNING: Ignoring invalid distribution -illow (/opt/conda/lib/python3.7/site-packages)\u001b[0m\u001b[33m\n",
      "\u001b[0m\u001b[33m  WARNING: The script tb-gcp-uploader is installed in '/home/jupyter/.local/bin' which is not on PATH.\n",
      "  Consider adding this directory to PATH or, if you prefer to suppress this warning, use --no-warn-script-location.\u001b[0m\u001b[33m\n",
      "\u001b[0m\u001b[33mWARNING: Ignoring invalid distribution -yyaml (/opt/conda/lib/python3.7/site-packages)\u001b[0m\u001b[33m\n",
      "\u001b[0m\u001b[33mWARNING: Ignoring invalid distribution -ubernetes (/opt/conda/lib/python3.7/site-packages)\u001b[0m\u001b[33m\n",
      "\u001b[0m\u001b[33mWARNING: Ignoring invalid distribution -oogle-auth-oauthlib (/opt/conda/lib/python3.7/site-packages)\u001b[0m\u001b[33m\n",
      "\u001b[0m\u001b[33mWARNING: Ignoring invalid distribution -illow (/opt/conda/lib/python3.7/site-packages)\u001b[0m\u001b[33m\n",
      "\u001b[0m\u001b[33mWARNING: Ignoring invalid distribution -yyaml (/opt/conda/lib/python3.7/site-packages)\u001b[0m\u001b[33m\n",
      "\u001b[0m\u001b[33mWARNING: Ignoring invalid distribution -ubernetes (/opt/conda/lib/python3.7/site-packages)\u001b[0m\u001b[33m\n",
      "\u001b[0m\u001b[33mWARNING: Ignoring invalid distribution -oogle-auth-oauthlib (/opt/conda/lib/python3.7/site-packages)\u001b[0m\u001b[33m\n",
      "\u001b[0m\u001b[33mWARNING: Ignoring invalid distribution -illow (/opt/conda/lib/python3.7/site-packages)\u001b[0m\u001b[33m\n",
      "\u001b[0m\u001b[33mWARNING: Ignoring invalid distribution -yyaml (/opt/conda/lib/python3.7/site-packages)\u001b[0m\u001b[33m\n",
      "\u001b[0m\u001b[33mWARNING: Ignoring invalid distribution -ubernetes (/opt/conda/lib/python3.7/site-packages)\u001b[0m\u001b[33m\n",
      "\u001b[0m\u001b[33mWARNING: Ignoring invalid distribution -oogle-auth-oauthlib (/opt/conda/lib/python3.7/site-packages)\u001b[0m\u001b[33m\n",
      "\u001b[0m\u001b[33mWARNING: Ignoring invalid distribution -illow (/opt/conda/lib/python3.7/site-packages)\u001b[0m\u001b[33m\n",
      "\u001b[0m"
     ]
    }
   ],
   "source": [
    "!pip install google.cloud.aiplatform -U -q --user"
   ]
  },
  {
   "cell_type": "code",
   "execution_count": 7,
   "id": "fff21f1d-2c78-45e3-8970-b13592d23ac4",
   "metadata": {},
   "outputs": [],
   "source": [
    "REGION = 'us-central1'"
   ]
  },
  {
   "cell_type": "code",
   "execution_count": 8,
   "id": "f338dfe8-6b3f-4a7c-a2ca-ac8778e50777",
   "metadata": {},
   "outputs": [
    {
     "data": {
      "text/plain": [
       "'1.28.1'"
      ]
     },
     "execution_count": 8,
     "metadata": {},
     "output_type": "execute_result"
    }
   ],
   "source": [
    "import google.cloud.aiplatform as aiplatform\n",
    "aiplatform.__version__"
   ]
  },
  {
   "cell_type": "code",
   "execution_count": 9,
   "id": "b6f35fee-107c-427c-ad7e-8dfaeb88e944",
   "metadata": {},
   "outputs": [
    {
     "data": {
      "text/plain": [
       "'statmike-mlops-349915'"
      ]
     },
     "execution_count": 9,
     "metadata": {},
     "output_type": "execute_result"
    }
   ],
   "source": [
    "project = !gcloud config get-value project\n",
    "PROJECT_ID = project[0]\n",
    "PROJECT_ID"
   ]
  },
  {
   "cell_type": "code",
   "execution_count": 10,
   "id": "1a63a6c6-ed1f-40d3-aec7-562a71284894",
   "metadata": {},
   "outputs": [],
   "source": [
    "import vertexai.language_models\n",
    "\n",
    "vertexai.init(project = PROJECT_ID, location = REGION)"
   ]
  },
  {
   "cell_type": "code",
   "execution_count": 11,
   "id": "784c18e4-a8be-41f7-aeb7-0ea8a9598840",
   "metadata": {},
   "outputs": [],
   "source": [
    "textgen_model = vertexai.language_models.TextGenerationModel.from_pretrained('text-bison@001')\n",
    "\n",
    "pred = textgen_model.predict('What are the rules of baseball?')"
   ]
  },
  {
   "cell_type": "code",
   "execution_count": 22,
   "id": "eb13ad9b-3202-44cc-89b9-a7b3b2d5ac7e",
   "metadata": {},
   "outputs": [],
   "source": [
    "pred = textgen_model.predict(f\"\"\"\n",
    "The following text is an OCR extraction of a page we have rights to.  Use no external sources. Do not search the web.  Make no citations. There is text on the page that was part of a table, but you can only tell that now because of whitespace.  Convert this information into a markdown structure.  Include all datapoints in the output.   If a subpoint is missing, use \" i\".  Do Not add any extra entries.  If only one scenario is shown, only list the one scenario.  If something is listed as \"not Applicable\" or \"N/A\", still include it with an “N/A” .   Under no condition include information from docplayer.org\n",
    "\n",
    " \n",
    "\n",
    "For example:\n",
    "\n",
    "5.      Specified Denomination(s):              EUR 1,000\n",
    "\n",
    "6.       (i)       Issue Date:                           20 April 2021\n",
    "\n",
    "7.       (ii).     Special Features:   Not Applicable.\n",
    "\n",
    " \n",
    "\n",
    "should become\n",
    "\n",
    "|Index| subpoint | Field| Value|\n",
    "\n",
    "|---|---|---|---|\n",
    "\n",
    "| 5 | i |  Specified Denominations(s):  | EUR 1,000 |\n",
    "\n",
    "| 6 | i |  Issue Date |  20 April 2021 |\n",
    "\n",
    "|7| ii| Special Features | Not Applicable |\n",
    "\n",
    " \n",
    "\n",
    "The Remainder is the OCR of the Document:  Only Use This Information, and no external sources\n",
    "\n",
    "CONTEXT::::\n",
    "\n",
    " \n",
    "\n",
    " \n",
    "\n",
    "APPLICABLE FINAL TERMS\n",
    "\n",
    "FINAL VERSION APPROVED BY THE ISSUER\n",
    "\n",
    " \n",
    "\n",
    "10.     Interest Basis :                             See section “PROVISIONS RELATING TO Interest (IF ANY) PAYABLE” below.\n",
    "\n",
    "11.     Redemption/Payment Basis:              See section “PROVISIONS RELATING TO REDEMPTION” below.\n",
    "\n",
    "12.     Issuer's/ Noteholders' redemption        See section “PROVISIONS RELATING TO REDEMPTION” below.\n",
    "\n",
    "option:\n",
    "\n",
    "PROVISIONS RELATING TO INTEREST (IF ANY) PAYABLE\n",
    "\n",
    "13.     Fixed Rate Note Provisions:              Not Applicable\n",
    "\n",
    "14.    Floating Rate Notes Provisions:         Not Applicable\n",
    "\n",
    "15.     Structured Interest Note Provisions:     Applicable as per Condition 3.3 of the General Terms and Conditions\n",
    "\n",
    "(i)       Structured interests               Unless previously redeemed, on each Interest Payment Date(i) (i from 1 to 4), the\n",
    "\n",
    "Issuer shall pay to the Noteholders, for each Note, an amount determined by the\n",
    "\n",
    "Calculation Agent as follows:\n",
    "\n",
    "Scenario 1:\n",
    "\n",
    "If on Valuation Date(i), Performance(i) is higher than or equal to -30%, then:\n",
    "\n",
    "-2-\n",
    "\"\"\")"
   ]
  },
  {
   "cell_type": "code",
   "execution_count": 25,
   "id": "6bdce771-4297-4d4d-9ffe-98443bba60a0",
   "metadata": {},
   "outputs": [
    {
     "name": "stdout",
     "output_type": "stream",
     "text": [
      "\n",
      " |Index| subpoint | Field| Value|\n",
      "\n",
      "|---|---|---|---|\n",
      "\n",
      "| 10 | i | Interest Basis :  | See section “PROVISIONS RELATING TO Interest (IF ANY) PAYABLE” below. |\n",
      "\n",
      "| 11 | i | Redemption/Payment Basis:  | See section “PROVISIONS RELATING TO REDEMPTION” below. |\n",
      "\n",
      "| 12 | i | Issuer's/ Noteholders' redemption  | See section “PROVISIONS RELATING TO REDEMPTION” below. |\n",
      "\n",
      "| 13 |\n"
     ]
    }
   ],
   "source": [
    "print(pred.text)"
   ]
  },
  {
   "cell_type": "code",
   "execution_count": 23,
   "id": "678a99f6-f6d7-4530-b827-8dfa37b05b42",
   "metadata": {},
   "outputs": [
    {
     "data": {
      "text/plain": [
       "{'Finance': 0.6}"
      ]
     },
     "execution_count": 23,
     "metadata": {},
     "output_type": "execute_result"
    }
   ],
   "source": [
    "pred.safety_attributes"
   ]
  },
  {
   "cell_type": "code",
   "execution_count": 31,
   "id": "7d54b9e4-e6b0-4af1-8f48-35e8f5e8281a",
   "metadata": {},
   "outputs": [
    {
     "data": {
      "text/plain": [
       "vertexai.language_models._language_models.TextGenerationResponse"
      ]
     },
     "execution_count": 31,
     "metadata": {},
     "output_type": "execute_result"
    }
   ],
   "source": [
    "type(pred)"
   ]
  },
  {
   "cell_type": "code",
   "execution_count": null,
   "id": "60138a04-bcab-48ee-b1b7-13f6aa69b55a",
   "metadata": {},
   "outputs": [],
   "source": []
  }
 ],
 "metadata": {
  "environment": {
   "kernel": "python3",
   "name": "tf2-gpu.2-11.m104",
   "type": "gcloud",
   "uri": "gcr.io/deeplearning-platform-release/tf2-gpu.2-11:m104"
  },
  "kernelspec": {
   "display_name": "Python 3 (ipykernel)",
   "language": "python",
   "name": "python3"
  },
  "language_info": {
   "codemirror_mode": {
    "name": "ipython",
    "version": 3
   },
   "file_extension": ".py",
   "mimetype": "text/x-python",
   "name": "python",
   "nbconvert_exporter": "python",
   "pygments_lexer": "ipython3",
   "version": "3.7.12"
  }
 },
 "nbformat": 4,
 "nbformat_minor": 5
}
