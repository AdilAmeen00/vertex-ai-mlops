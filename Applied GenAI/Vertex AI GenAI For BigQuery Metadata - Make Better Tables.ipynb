{
 "cells": [
  {
   "cell_type": "markdown",
   "id": "b5287e1c-0b49-4521-ac8f-cc82db7d24a1",
   "metadata": {},
   "source": [
    "![ga4](https://www.google-analytics.com/collect?v=2&tid=G-6VDTYWLKX6&cid=1&en=page_view&sid=1&dl=statmike%2Fvertex-ai-mlops%2FApplied+GenAI&dt=Vertex+AI+GenAI+For+BigQuery+Metadata+-+Make+Better+Tables.ipynb)\n",
    "\n",
    "# Vertex AI GenAI For BigQuery Metadata - Make Better Tables\n",
    "\n",
    "BigQuery tables are a great source of information for generative AI applications.  Retrieving information is a multi-step process as covered in [Vertex AI GenAI For BigQuery Q&A - Overview](./Vertex%20AI%20GenAI%20For%20BigQuery%20Q&A%20-%20Overview.ipynb).  The ability of a large language model to understand the contents of tables directly relies on the descriptiveness of the metadata: column names, column descriptions, table names, table descriptions.  \n",
    "\n",
    "This workflow show a potential workflow for creating better, more descriptive metadata for BigQuery tables by using the existing metadata as well as common values from the tables columns.\n",
    "\n",
    "The notebooks uses the BigFrames API for BigQuery to make local work in the form of a Pandas like API while keeping the execution remote, within BigQuery.  The LLM used here is Vertex AI [text-bison](https://cloud.google.com/vertex-ai/docs/generative-ai/model-reference/text) called directly from BigQuery using [ML.GENERATE_TEXT](https://cloud.google.com/bigquery/docs/reference/standard-sql/bigqueryml-syntax-generate-text).\n"
   ]
  },
  {
   "cell_type": "markdown",
   "id": "f523a8d1-b749-4d2f-89f4-e6cab1f42320",
   "metadata": {
    "id": "od_UkDpvRmgD",
    "tags": []
   },
   "source": [
    "---\n",
    "## Colab Setup\n",
    "\n",
    "To run this notebook in Colab click [![Open In Colab](https://colab.research.google.com/assets/colab-badge.svg)](https://colab.research.google.com/github/statmike/vertex-ai-mlops/blob/main/Applied%20GenAI/Vertex%20AI%20GenAI%20For%20BigQuery%20Metadata%20-%20Make%20Better%20Tables.ipynb) and run the cells in this section.  Otherwise, skip this section.\n",
    "\n",
    "This cell will authenticate to GCP (follow prompts in the popup)."
   ]
  },
  {
   "cell_type": "code",
   "execution_count": 1,
   "id": "00a34ae6-d147-49d4-8fc4-22d63345c45d",
   "metadata": {
    "executionInfo": {
     "elapsed": 195,
     "status": "ok",
     "timestamp": 1683726184843,
     "user": {
      "displayName": "Mike Henderson",
      "userId": "07691629187611687318"
     },
     "user_tz": 240
    },
    "id": "8UO9FnqyKBlF"
   },
   "outputs": [],
   "source": [
    "PROJECT_ID = 'statmike-mlops-349915' # replace with project ID"
   ]
  },
  {
   "cell_type": "code",
   "execution_count": 2,
   "id": "6e176e30-fef3-48a7-ba98-3350fd51e578",
   "metadata": {
    "colab": {
     "base_uri": "https://localhost:8080/"
    },
    "executionInfo": {
     "elapsed": 68869,
     "status": "ok",
     "timestamp": 1683726253709,
     "user": {
      "displayName": "Mike Henderson",
      "userId": "07691629187611687318"
     },
     "user_tz": 240
    },
    "id": "N98-KK7LRkjm",
    "outputId": "09ec5008-0def-4e1a-c349-c598ee752f78"
   },
   "outputs": [],
   "source": [
    "try:\n",
    "    import google.colab\n",
    "    from google.colab import auth\n",
    "    auth.authenticate_user()\n",
    "    !gcloud config set project {PROJECT_ID}\n",
    "except Exception:\n",
    "    pass"
   ]
  },
  {
   "cell_type": "markdown",
   "id": "8dfe7b10-e9fb-4a58-8da8-cd82c194be00",
   "metadata": {},
   "source": [
    "---\n",
    "## Installs and API Enablement\n",
    "\n",
    "The clients packages may need installing in this environment.  Also, the API for Artifact Registry needs to be enabled (if not already enabled)."
   ]
  },
  {
   "cell_type": "markdown",
   "id": "6f6803d0-124a-4d53-967f-7e051cb68f96",
   "metadata": {},
   "source": [
    "### Installs (If Needed)\n",
    "The list `packages` contains tuples of package import names and install names.  If the import name is not found then the install name is used to install quitely for the current user."
   ]
  },
  {
   "cell_type": "code",
   "execution_count": 3,
   "id": "3327b53e-942b-4143-bee4-b2703a331bd5",
   "metadata": {},
   "outputs": [],
   "source": [
    "# tuples of (import name, install name)\n",
    "packages = [\n",
    "    ('bigframes', 'bigframes'),\n",
    "    ('google.cloud.aiplatform', 'google-cloud-aiplatform'),\n",
    "    ('google.cloud.bigquery_connection_v1', 'google-cloud-bigquery-connection')\n",
    "]\n",
    "\n",
    "import importlib\n",
    "install = False\n",
    "for package in packages:\n",
    "    if not importlib.util.find_spec(package[0]):\n",
    "        print(f'installing package {package[1]}')\n",
    "        install = True\n",
    "        !pip install {package[1]} -U -q --user"
   ]
  },
  {
   "cell_type": "markdown",
   "id": "6c9d85d8-79f4-405b-9f44-eddf0ddd2dbd",
   "metadata": {},
   "source": [
    "### API Enablement\n",
    "\n",
    "Make sure the [BigQuery Connection API](https://cloud.google.com/bigquery/docs/create-cloud-resource-connection) is enabled:"
   ]
  },
  {
   "cell_type": "code",
   "execution_count": 5,
   "id": "e59d343a-98de-4ddd-8fd1-210b84746139",
   "metadata": {},
   "outputs": [],
   "source": [
    "!gcloud services enable bigqueryconnection.googleapis.com"
   ]
  },
  {
   "cell_type": "markdown",
   "id": "a61a5784-3a5e-46ce-88b9-3443dc30750f",
   "metadata": {},
   "source": [
    "### Restart Kernel (If Installs Occured)\n",
    "\n",
    "After a kernel restart the code submission can start with the next cell after this one."
   ]
  },
  {
   "cell_type": "code",
   "execution_count": 6,
   "id": "293a6dbf-26d0-44ae-8788-80d0e08fa3a1",
   "metadata": {},
   "outputs": [],
   "source": [
    "if install:\n",
    "    import IPython\n",
    "    app = IPython.Application.instance()\n",
    "    app.kernel.do_shutdown(True)"
   ]
  },
  {
   "cell_type": "markdown",
   "id": "7e2587e1-ff14-4b55-8baf-29a9be2667aa",
   "metadata": {},
   "source": [
    "---\n",
    "## Setup"
   ]
  },
  {
   "cell_type": "code",
   "execution_count": 1,
   "id": "331dd33d-d8d4-4f2c-a10c-97da0bf913e6",
   "metadata": {},
   "outputs": [
    {
     "data": {
      "text/plain": [
       "'statmike-mlops-349915'"
      ]
     },
     "execution_count": 1,
     "metadata": {},
     "output_type": "execute_result"
    }
   ],
   "source": [
    "project = !gcloud config get-value project\n",
    "PROJECT_ID = project[0]\n",
    "PROJECT_ID"
   ]
  },
  {
   "cell_type": "code",
   "execution_count": 2,
   "id": "9128787b-0678-4a81-ab54-6679a1d6fceb",
   "metadata": {},
   "outputs": [],
   "source": [
    "REGION = 'us-central1'\n",
    "SERIES = 'applied-genai'\n",
    "EXPERIMENT = 'bq-metadata'"
   ]
  },
  {
   "cell_type": "code",
   "execution_count": 3,
   "id": "9940f9d0-808a-43ec-b85a-385a8cd73e7f",
   "metadata": {},
   "outputs": [],
   "source": [
    "# make this the BQ Project / Dataset / Table prefix to store results\n",
    "BQ_PROJECT = PROJECT_ID\n",
    "BQ_DATASET = SERIES.replace('-', '_')\n",
    "BQ_TABLE = EXPERIMENT\n",
    "BQ_REGION = REGION[0:2] # subset to first two characters for multi-region"
   ]
  },
  {
   "cell_type": "code",
   "execution_count": 61,
   "id": "8c225fba-150f-4e5c-b8ed-7ed006c43c4d",
   "metadata": {},
   "outputs": [],
   "source": [
    "from IPython.display import Markdown\n",
    "import bigframes.pandas as bf\n",
    "import bigframes.ml as bfml\n",
    "from bigframes.ml import llm\n",
    "from bigframes.ml import ensemble\n",
    "from google.cloud import bigquery_connection_v1 as bq_connection"
   ]
  },
  {
   "cell_type": "code",
   "execution_count": 62,
   "id": "c8f2e79e-5d98-4f27-ac78-5a11d237f2ea",
   "metadata": {},
   "outputs": [],
   "source": [
    "bf.reset_session()\n",
    "bf.options.bigquery.project = BQ_PROJECT\n",
    "bf.options.bigquery.location = BQ_REGION\n",
    "bf_session = bf.get_global_session()"
   ]
  },
  {
   "cell_type": "markdown",
   "id": "e10fe19f-2c94-4fbe-a505-bf1afaafed63",
   "metadata": {},
   "source": [
    "---\n",
    "## Review Data Source\n",
    "\n",
    "The data source here is a product catalog with source:\n",
    "- BigQuery Public table `bigquery-public-data.thelook_ecommerce.products`.\n",
    "\n"
   ]
  },
  {
   "cell_type": "markdown",
   "id": "85013ea2-131c-435b-afc0-0a7125b327c3",
   "metadata": {},
   "source": [
    "### Get Table: BigQuery Public Table"
   ]
  },
  {
   "cell_type": "code",
   "execution_count": 6,
   "id": "719b7875-05b8-4608-997c-3cf9e76ecfcc",
   "metadata": {},
   "outputs": [
    {
     "data": {
      "application/vnd.jupyter.widget-view+json": {
       "model_id": "ec790de9a21843bb84b568785d4a0da9",
       "version_major": 2,
       "version_minor": 0
      },
      "text/plain": [
       "HTML(value='Query job db50dc90-7613-4648-8281-4b191b33200c is RUNNING. <a target=\"_blank\" href=\"https://consol…"
      ]
     },
     "metadata": {},
     "output_type": "display_data"
    }
   ],
   "source": [
    "products = bf.read_gbq('bigquery-public-data.thelook_ecommerce.products')"
   ]
  },
  {
   "cell_type": "code",
   "execution_count": 7,
   "id": "2ee112a0-df54-44cd-bea3-78879b15f22d",
   "metadata": {},
   "outputs": [
    {
     "data": {
      "text/plain": [
       "id                                  Int64\n",
       "cost                              Float64\n",
       "category                  string[pyarrow]\n",
       "name                      string[pyarrow]\n",
       "brand                     string[pyarrow]\n",
       "retail_price                      Float64\n",
       "department                string[pyarrow]\n",
       "sku                       string[pyarrow]\n",
       "distribution_center_id              Int64\n",
       "dtype: object"
      ]
     },
     "execution_count": 7,
     "metadata": {},
     "output_type": "execute_result"
    }
   ],
   "source": [
    "products.dtypes"
   ]
  },
  {
   "cell_type": "code",
   "execution_count": 8,
   "id": "4b4baa44-463e-455d-b83c-0d9d3811d7de",
   "metadata": {},
   "outputs": [
    {
     "data": {
      "application/vnd.jupyter.widget-view+json": {
       "model_id": "b059c25a155e4b61a916072f6ac74ff8",
       "version_major": 2,
       "version_minor": 0
      },
      "text/plain": [
       "HTML(value='Query job 8157464f-7042-43d5-9da4-859be7bef524 is DONE. 0 Bytes processed. <a target=\"_blank\" href…"
      ]
     },
     "metadata": {},
     "output_type": "display_data"
    },
    {
     "data": {
      "application/vnd.jupyter.widget-view+json": {
       "model_id": "a3adb38c765647cfafad1691dc0c7432",
       "version_major": 2,
       "version_minor": 0
      },
      "text/plain": [
       "HTML(value='Query job 4d4a7d8f-aa21-4849-9258-53ec00388a5e is DONE. 931.8 kB processed. <a target=\"_blank\" hre…"
      ]
     },
     "metadata": {},
     "output_type": "display_data"
    },
    {
     "data": {
      "application/vnd.jupyter.widget-view+json": {
       "model_id": "d1c5b51b97294f4e8390923bad38959b",
       "version_major": 2,
       "version_minor": 0
      },
      "text/plain": [
       "HTML(value='Query job 6045e1d0-fb09-4375-bb4a-31e5f1e92211 is DONE. 0 Bytes processed. <a target=\"_blank\" href…"
      ]
     },
     "metadata": {},
     "output_type": "display_data"
    },
    {
     "data": {
      "text/html": [
       "<div>\n",
       "<style scoped>\n",
       "    .dataframe tbody tr th:only-of-type {\n",
       "        vertical-align: middle;\n",
       "    }\n",
       "\n",
       "    .dataframe tbody tr th {\n",
       "        vertical-align: top;\n",
       "    }\n",
       "\n",
       "    .dataframe thead th {\n",
       "        text-align: right;\n",
       "    }\n",
       "</style>\n",
       "<table border=\"1\" class=\"dataframe\">\n",
       "  <thead>\n",
       "    <tr style=\"text-align: right;\">\n",
       "      <th></th>\n",
       "      <th>id</th>\n",
       "      <th>cost</th>\n",
       "      <th>retail_price</th>\n",
       "      <th>distribution_center_id</th>\n",
       "    </tr>\n",
       "  </thead>\n",
       "  <tbody>\n",
       "    <tr>\n",
       "      <th>count</th>\n",
       "      <td>29120.0</td>\n",
       "      <td>29120.0</td>\n",
       "      <td>29120.0</td>\n",
       "      <td>29120.0</td>\n",
       "    </tr>\n",
       "    <tr>\n",
       "      <th>mean</th>\n",
       "      <td>14560.5</td>\n",
       "      <td>28.481774</td>\n",
       "      <td>59.220164</td>\n",
       "      <td>4.982898</td>\n",
       "    </tr>\n",
       "    <tr>\n",
       "      <th>std</th>\n",
       "      <td>8406.364256</td>\n",
       "      <td>30.624681</td>\n",
       "      <td>65.888927</td>\n",
       "      <td>2.901153</td>\n",
       "    </tr>\n",
       "    <tr>\n",
       "      <th>min</th>\n",
       "      <td>1.0</td>\n",
       "      <td>0.0083</td>\n",
       "      <td>0.02</td>\n",
       "      <td>1.0</td>\n",
       "    </tr>\n",
       "    <tr>\n",
       "      <th>25%</th>\n",
       "      <td>7197.0</td>\n",
       "      <td>11.2455</td>\n",
       "      <td>24.0</td>\n",
       "      <td>2.0</td>\n",
       "    </tr>\n",
       "    <tr>\n",
       "      <th>50%</th>\n",
       "      <td>14498.0</td>\n",
       "      <td>19.5965</td>\n",
       "      <td>39.990002</td>\n",
       "      <td>5.0</td>\n",
       "    </tr>\n",
       "    <tr>\n",
       "      <th>75%</th>\n",
       "      <td>21789.0</td>\n",
       "      <td>34.648741</td>\n",
       "      <td>69.949997</td>\n",
       "      <td>8.0</td>\n",
       "    </tr>\n",
       "    <tr>\n",
       "      <th>max</th>\n",
       "      <td>29120.0</td>\n",
       "      <td>557.151002</td>\n",
       "      <td>999.0</td>\n",
       "      <td>10.0</td>\n",
       "    </tr>\n",
       "  </tbody>\n",
       "</table>\n",
       "<p>8 rows × 4 columns</p>\n",
       "</div>[8 rows x 4 columns in total]"
      ],
      "text/plain": [
       "                id        cost  retail_price  distribution_center_id\n",
       "count      29120.0     29120.0       29120.0                 29120.0\n",
       "mean       14560.5   28.481774     59.220164                4.982898\n",
       "std    8406.364256   30.624681     65.888927                2.901153\n",
       "min            1.0      0.0083          0.02                     1.0\n",
       "25%         7197.0     11.2455          24.0                     2.0\n",
       "50%        14498.0     19.5965     39.990002                     5.0\n",
       "75%        21789.0   34.648741     69.949997                     8.0\n",
       "max        29120.0  557.151002         999.0                    10.0\n",
       "\n",
       "[8 rows x 4 columns]"
      ]
     },
     "execution_count": 8,
     "metadata": {},
     "output_type": "execute_result"
    }
   ],
   "source": [
    "products.describe()"
   ]
  },
  {
   "cell_type": "code",
   "execution_count": 9,
   "id": "0fba61cd-a404-4bd6-a750-d9a55dd3972f",
   "metadata": {},
   "outputs": [
    {
     "data": {
      "application/vnd.jupyter.widget-view+json": {
       "model_id": "b7a13be6ab284e56abb4bb18d6d36d75",
       "version_major": 2,
       "version_minor": 0
      },
      "text/plain": [
       "HTML(value='Query job a8ff3b72-30f5-4140-b189-8becc95a7bdd is DONE. 233.0 kB processed. <a target=\"_blank\" hre…"
      ]
     },
     "metadata": {},
     "output_type": "display_data"
    },
    {
     "data": {
      "application/vnd.jupyter.widget-view+json": {
       "model_id": "f06f896acfb3415898914c116ed81156",
       "version_major": 2,
       "version_minor": 0
      },
      "text/plain": [
       "HTML(value='Query job d74eaceb-b46c-42c9-8c98-6971d0e80979 is DONE. 4.5 MB processed. <a target=\"_blank\" href=…"
      ]
     },
     "metadata": {},
     "output_type": "display_data"
    },
    {
     "data": {
      "application/vnd.jupyter.widget-view+json": {
       "model_id": "3bf2237173d74d15a82749403aab9337",
       "version_major": 2,
       "version_minor": 0
      },
      "text/plain": [
       "HTML(value='Query job 1d418805-70b2-4337-8323-4dff91bb6cd9 is DONE. 0 Bytes processed. <a target=\"_blank\" href…"
      ]
     },
     "metadata": {},
     "output_type": "display_data"
    },
    {
     "data": {
      "text/html": [
       "<div>\n",
       "<style scoped>\n",
       "    .dataframe tbody tr th:only-of-type {\n",
       "        vertical-align: middle;\n",
       "    }\n",
       "\n",
       "    .dataframe tbody tr th {\n",
       "        vertical-align: top;\n",
       "    }\n",
       "\n",
       "    .dataframe thead th {\n",
       "        text-align: right;\n",
       "    }\n",
       "</style>\n",
       "<table border=\"1\" class=\"dataframe\">\n",
       "  <thead>\n",
       "    <tr style=\"text-align: right;\">\n",
       "      <th></th>\n",
       "      <th>id</th>\n",
       "      <th>cost</th>\n",
       "      <th>category</th>\n",
       "      <th>name</th>\n",
       "      <th>brand</th>\n",
       "      <th>retail_price</th>\n",
       "      <th>department</th>\n",
       "      <th>sku</th>\n",
       "      <th>distribution_center_id</th>\n",
       "    </tr>\n",
       "  </thead>\n",
       "  <tbody>\n",
       "    <tr>\n",
       "      <th>0</th>\n",
       "      <td>27569</td>\n",
       "      <td>92.652563</td>\n",
       "      <td>Swim</td>\n",
       "      <td>2XU Men's Swimmers Compression Long Sleeve Top</td>\n",
       "      <td>2XU</td>\n",
       "      <td>150.410004</td>\n",
       "      <td>Men</td>\n",
       "      <td>B23C5765E165D83AA924FA8F13C05F25</td>\n",
       "      <td>1</td>\n",
       "    </tr>\n",
       "    <tr>\n",
       "      <th>1</th>\n",
       "      <td>27445</td>\n",
       "      <td>24.719661</td>\n",
       "      <td>Swim</td>\n",
       "      <td>TYR Sport Men's Square Leg Short Swim Suit</td>\n",
       "      <td>TYR</td>\n",
       "      <td>38.990002</td>\n",
       "      <td>Men</td>\n",
       "      <td>2AB7D3B23574C3DEA2BD278AFD0939AB</td>\n",
       "      <td>1</td>\n",
       "    </tr>\n",
       "    <tr>\n",
       "      <th>2</th>\n",
       "      <td>27457</td>\n",
       "      <td>15.8976</td>\n",
       "      <td>Swim</td>\n",
       "      <td>TYR Sport Men's Solid Durafast Jammer Swim Suit</td>\n",
       "      <td>TYR</td>\n",
       "      <td>27.6</td>\n",
       "      <td>Men</td>\n",
       "      <td>8F831227B0EB6C6D09A0555531365933</td>\n",
       "      <td>1</td>\n",
       "    </tr>\n",
       "    <tr>\n",
       "      <th>3</th>\n",
       "      <td>27466</td>\n",
       "      <td>17.85</td>\n",
       "      <td>Swim</td>\n",
       "      <td>TYR Sport Men's Swim Short/Resistance Short Sw...</td>\n",
       "      <td>TYR</td>\n",
       "      <td>30.0</td>\n",
       "      <td>Men</td>\n",
       "      <td>67317D6DCC4CB778AEB9219565F5456B</td>\n",
       "      <td>1</td>\n",
       "    </tr>\n",
       "    <tr>\n",
       "      <th>4</th>\n",
       "      <td>27481</td>\n",
       "      <td>29.408001</td>\n",
       "      <td>Swim</td>\n",
       "      <td>TYR Alliance Team Splice Jammer</td>\n",
       "      <td>TYR</td>\n",
       "      <td>45.950001</td>\n",
       "      <td>Men</td>\n",
       "      <td>213C888198806EF1A0E2BBF2F4855C6C</td>\n",
       "      <td>1</td>\n",
       "    </tr>\n",
       "  </tbody>\n",
       "</table>\n",
       "<p>5 rows × 9 columns</p>\n",
       "</div>[5 rows x 9 columns in total]"
      ],
      "text/plain": [
       "      id       cost category  \\\n",
       "0  27569  92.652563     Swim   \n",
       "1  27445  24.719661     Swim   \n",
       "2  27457    15.8976     Swim   \n",
       "3  27466      17.85     Swim   \n",
       "4  27481  29.408001     Swim   \n",
       "\n",
       "                                                name brand  retail_price  \\\n",
       "0     2XU Men's Swimmers Compression Long Sleeve Top   2XU    150.410004   \n",
       "1         TYR Sport Men's Square Leg Short Swim Suit   TYR     38.990002   \n",
       "2    TYR Sport Men's Solid Durafast Jammer Swim Suit   TYR          27.6   \n",
       "3  TYR Sport Men's Swim Short/Resistance Short Sw...   TYR          30.0   \n",
       "4                    TYR Alliance Team Splice Jammer   TYR     45.950001   \n",
       "\n",
       "  department                               sku  distribution_center_id  \n",
       "0        Men  B23C5765E165D83AA924FA8F13C05F25                       1  \n",
       "1        Men  2AB7D3B23574C3DEA2BD278AFD0939AB                       1  \n",
       "2        Men  8F831227B0EB6C6D09A0555531365933                       1  \n",
       "3        Men  67317D6DCC4CB778AEB9219565F5456B                       1  \n",
       "4        Men  213C888198806EF1A0E2BBF2F4855C6C                       1  \n",
       "\n",
       "[5 rows x 9 columns]"
      ]
     },
     "execution_count": 9,
     "metadata": {},
     "output_type": "execute_result"
    }
   ],
   "source": [
    "products.head()"
   ]
  },
  {
   "cell_type": "markdown",
   "id": "5ff2a360-9fc6-4885-adaa-41f93f39dbaa",
   "metadata": {},
   "source": [
    "### Get Table Info From BigQuery Information Schema: Columns\n",
    "\n",
    "Retrieve the metadata for the table from Information Schema views like [INFORMATION_SCHEMA.COLUMN_FIELD_PATHS](https://cloud.google.com/bigquery/docs/information-schema-column-field-paths)\n",
    "\n",
    "**NOTE** When `column_name` is not equal to `field_path` it is because the column is nested withing a RECORD (think array, or list) or STRUCT (think dictionary of key:value pairs).  This example does not have examples of these but could be extended to handle these as well."
   ]
  },
  {
   "cell_type": "code",
   "execution_count": 10,
   "id": "41d4d4c0-65f5-4548-b28a-88eda06a75f6",
   "metadata": {},
   "outputs": [
    {
     "data": {
      "application/vnd.jupyter.widget-view+json": {
       "model_id": "738f77b21eaf4991861bf62f84946393",
       "version_major": 2,
       "version_minor": 0
      },
      "text/plain": [
       "HTML(value='Query job d55e47d9-55a8-4ae7-9e8d-8d31a9fdc26c is DONE. 10.5 MB processed. <a target=\"_blank\" href…"
      ]
     },
     "metadata": {},
     "output_type": "display_data"
    },
    {
     "data": {
      "application/vnd.jupyter.widget-view+json": {
       "model_id": "c617b790bb854aa7b2723859d434bb01",
       "version_major": 2,
       "version_minor": 0
      },
      "text/plain": [
       "HTML(value='Query job f8e12305-5b08-45fb-8bbe-11e7f1d434a0 is RUNNING. <a target=\"_blank\" href=\"https://consol…"
      ]
     },
     "metadata": {},
     "output_type": "display_data"
    }
   ],
   "source": [
    "products_columns = bf.read_gbq(f\"\"\"\n",
    "    SELECT *\n",
    "    FROM `bigquery-public-data.thelook_ecommerce.INFORMATION_SCHEMA.COLUMN_FIELD_PATHS`\n",
    "    WHERE TABLE_NAME = 'products'\n",
    "        AND column_name = field_path\n",
    "\"\"\")"
   ]
  },
  {
   "cell_type": "code",
   "execution_count": 11,
   "id": "6dfb1de2-2581-498a-b227-225d92724a20",
   "metadata": {},
   "outputs": [
    {
     "data": {
      "application/vnd.jupyter.widget-view+json": {
       "model_id": "ea123cd2e2b5499ca1c6fa0f855124db",
       "version_major": 2,
       "version_minor": 0
      },
      "text/plain": [
       "HTML(value='Query job 4e12f67a-e199-4d14-b365-c88ea8cf3fca is DONE. 0 Bytes processed. <a target=\"_blank\" href…"
      ]
     },
     "metadata": {},
     "output_type": "display_data"
    },
    {
     "data": {
      "application/vnd.jupyter.widget-view+json": {
       "model_id": "735e92124b2743d9864b167fbc9e64d3",
       "version_major": 2,
       "version_minor": 0
      },
      "text/plain": [
       "HTML(value='Query job 8d7f8177-69a8-4f0f-b091-f033a8634deb is DONE. 833 Bytes processed. <a target=\"_blank\" hr…"
      ]
     },
     "metadata": {},
     "output_type": "display_data"
    },
    {
     "data": {
      "application/vnd.jupyter.widget-view+json": {
       "model_id": "bbc853e4020748889e757ae67475d8c2",
       "version_major": 2,
       "version_minor": 0
      },
      "text/plain": [
       "HTML(value='Query job 9f5672e8-b0b5-4920-b7df-e68406692aad is DONE. 0 Bytes processed. <a target=\"_blank\" href…"
      ]
     },
     "metadata": {},
     "output_type": "display_data"
    },
    {
     "data": {
      "text/html": [
       "<div>\n",
       "<style scoped>\n",
       "    .dataframe tbody tr th:only-of-type {\n",
       "        vertical-align: middle;\n",
       "    }\n",
       "\n",
       "    .dataframe tbody tr th {\n",
       "        vertical-align: top;\n",
       "    }\n",
       "\n",
       "    .dataframe thead th {\n",
       "        text-align: right;\n",
       "    }\n",
       "</style>\n",
       "<table border=\"1\" class=\"dataframe\">\n",
       "  <thead>\n",
       "    <tr style=\"text-align: right;\">\n",
       "      <th></th>\n",
       "      <th>table_catalog</th>\n",
       "      <th>table_schema</th>\n",
       "      <th>table_name</th>\n",
       "      <th>column_name</th>\n",
       "      <th>field_path</th>\n",
       "      <th>data_type</th>\n",
       "      <th>description</th>\n",
       "      <th>collation_name</th>\n",
       "      <th>rounding_mode</th>\n",
       "    </tr>\n",
       "  </thead>\n",
       "  <tbody>\n",
       "    <tr>\n",
       "      <th>0</th>\n",
       "      <td>bigquery-public-data</td>\n",
       "      <td>thelook_ecommerce</td>\n",
       "      <td>products</td>\n",
       "      <td>id</td>\n",
       "      <td>id</td>\n",
       "      <td>INT64</td>\n",
       "      <td>&lt;NA&gt;</td>\n",
       "      <td>NULL</td>\n",
       "      <td>&lt;NA&gt;</td>\n",
       "    </tr>\n",
       "    <tr>\n",
       "      <th>1</th>\n",
       "      <td>bigquery-public-data</td>\n",
       "      <td>thelook_ecommerce</td>\n",
       "      <td>products</td>\n",
       "      <td>cost</td>\n",
       "      <td>cost</td>\n",
       "      <td>FLOAT64</td>\n",
       "      <td>&lt;NA&gt;</td>\n",
       "      <td>NULL</td>\n",
       "      <td>&lt;NA&gt;</td>\n",
       "    </tr>\n",
       "    <tr>\n",
       "      <th>2</th>\n",
       "      <td>bigquery-public-data</td>\n",
       "      <td>thelook_ecommerce</td>\n",
       "      <td>products</td>\n",
       "      <td>category</td>\n",
       "      <td>category</td>\n",
       "      <td>STRING</td>\n",
       "      <td>&lt;NA&gt;</td>\n",
       "      <td>NULL</td>\n",
       "      <td>&lt;NA&gt;</td>\n",
       "    </tr>\n",
       "    <tr>\n",
       "      <th>3</th>\n",
       "      <td>bigquery-public-data</td>\n",
       "      <td>thelook_ecommerce</td>\n",
       "      <td>products</td>\n",
       "      <td>name</td>\n",
       "      <td>name</td>\n",
       "      <td>STRING</td>\n",
       "      <td>&lt;NA&gt;</td>\n",
       "      <td>NULL</td>\n",
       "      <td>&lt;NA&gt;</td>\n",
       "    </tr>\n",
       "    <tr>\n",
       "      <th>4</th>\n",
       "      <td>bigquery-public-data</td>\n",
       "      <td>thelook_ecommerce</td>\n",
       "      <td>products</td>\n",
       "      <td>brand</td>\n",
       "      <td>brand</td>\n",
       "      <td>STRING</td>\n",
       "      <td>&lt;NA&gt;</td>\n",
       "      <td>NULL</td>\n",
       "      <td>&lt;NA&gt;</td>\n",
       "    </tr>\n",
       "    <tr>\n",
       "      <th>5</th>\n",
       "      <td>bigquery-public-data</td>\n",
       "      <td>thelook_ecommerce</td>\n",
       "      <td>products</td>\n",
       "      <td>retail_price</td>\n",
       "      <td>retail_price</td>\n",
       "      <td>FLOAT64</td>\n",
       "      <td>&lt;NA&gt;</td>\n",
       "      <td>NULL</td>\n",
       "      <td>&lt;NA&gt;</td>\n",
       "    </tr>\n",
       "    <tr>\n",
       "      <th>6</th>\n",
       "      <td>bigquery-public-data</td>\n",
       "      <td>thelook_ecommerce</td>\n",
       "      <td>products</td>\n",
       "      <td>department</td>\n",
       "      <td>department</td>\n",
       "      <td>STRING</td>\n",
       "      <td>&lt;NA&gt;</td>\n",
       "      <td>NULL</td>\n",
       "      <td>&lt;NA&gt;</td>\n",
       "    </tr>\n",
       "    <tr>\n",
       "      <th>7</th>\n",
       "      <td>bigquery-public-data</td>\n",
       "      <td>thelook_ecommerce</td>\n",
       "      <td>products</td>\n",
       "      <td>sku</td>\n",
       "      <td>sku</td>\n",
       "      <td>STRING</td>\n",
       "      <td>&lt;NA&gt;</td>\n",
       "      <td>NULL</td>\n",
       "      <td>&lt;NA&gt;</td>\n",
       "    </tr>\n",
       "    <tr>\n",
       "      <th>8</th>\n",
       "      <td>bigquery-public-data</td>\n",
       "      <td>thelook_ecommerce</td>\n",
       "      <td>products</td>\n",
       "      <td>distribution_center_id</td>\n",
       "      <td>distribution_center_id</td>\n",
       "      <td>INT64</td>\n",
       "      <td>&lt;NA&gt;</td>\n",
       "      <td>NULL</td>\n",
       "      <td>&lt;NA&gt;</td>\n",
       "    </tr>\n",
       "  </tbody>\n",
       "</table>\n",
       "<p>9 rows × 9 columns</p>\n",
       "</div>[9 rows x 9 columns in total]"
      ],
      "text/plain": [
       "          table_catalog       table_schema table_name             column_name  \\\n",
       "0  bigquery-public-data  thelook_ecommerce   products                      id   \n",
       "1  bigquery-public-data  thelook_ecommerce   products                    cost   \n",
       "2  bigquery-public-data  thelook_ecommerce   products                category   \n",
       "3  bigquery-public-data  thelook_ecommerce   products                    name   \n",
       "4  bigquery-public-data  thelook_ecommerce   products                   brand   \n",
       "5  bigquery-public-data  thelook_ecommerce   products            retail_price   \n",
       "6  bigquery-public-data  thelook_ecommerce   products              department   \n",
       "7  bigquery-public-data  thelook_ecommerce   products                     sku   \n",
       "8  bigquery-public-data  thelook_ecommerce   products  distribution_center_id   \n",
       "\n",
       "               field_path data_type description collation_name rounding_mode  \n",
       "0                      id     INT64        <NA>           NULL          <NA>  \n",
       "1                    cost   FLOAT64        <NA>           NULL          <NA>  \n",
       "2                category    STRING        <NA>           NULL          <NA>  \n",
       "3                    name    STRING        <NA>           NULL          <NA>  \n",
       "4                   brand    STRING        <NA>           NULL          <NA>  \n",
       "5            retail_price   FLOAT64        <NA>           NULL          <NA>  \n",
       "6              department    STRING        <NA>           NULL          <NA>  \n",
       "7                     sku    STRING        <NA>           NULL          <NA>  \n",
       "8  distribution_center_id     INT64        <NA>           NULL          <NA>  \n",
       "\n",
       "[9 rows x 9 columns]"
      ]
     },
     "execution_count": 11,
     "metadata": {},
     "output_type": "execute_result"
    }
   ],
   "source": [
    "products_columns"
   ]
  },
  {
   "cell_type": "markdown",
   "id": "cca1200b-af3e-4c68-bab5-97c1f24bb21f",
   "metadata": {},
   "source": [
    "### Get Table Info From BigQuery Information Schema: Table\n",
    "\n",
    "Retrieve the metadata for the table from Information Schema views like [INFORMATION_SCHEMA.TABLE_OPTIONS](https://cloud.google.com/bigquery/docs/information-schema-table-options)\n",
    "\n",
    "This view has one row for each option within each table.  Here, only the `OPTION_NAME = 'description'` is needed."
   ]
  },
  {
   "cell_type": "code",
   "execution_count": 12,
   "id": "c153f7ee-39ac-4e88-8e0b-3b862c7f6689",
   "metadata": {},
   "outputs": [
    {
     "data": {
      "application/vnd.jupyter.widget-view+json": {
       "model_id": "d4ea9ed7384d4f8da40a3b204ef49c3c",
       "version_major": 2,
       "version_minor": 0
      },
      "text/plain": [
       "HTML(value='Query job a32bad4d-7a3b-4923-a5d1-416b1213243b is DONE. 10.5 MB processed. <a target=\"_blank\" href…"
      ]
     },
     "metadata": {},
     "output_type": "display_data"
    },
    {
     "data": {
      "application/vnd.jupyter.widget-view+json": {
       "model_id": "d670ec10931b4ed5889e02d2b350fc84",
       "version_major": 2,
       "version_minor": 0
      },
      "text/plain": [
       "HTML(value='Query job 0f975a6c-b609-4043-b0d4-3e261773fe81 is RUNNING. <a target=\"_blank\" href=\"https://consol…"
      ]
     },
     "metadata": {},
     "output_type": "display_data"
    }
   ],
   "source": [
    "products_table = bf.read_gbq(f\"\"\"\n",
    "    SELECT *\n",
    "    FROM `bigquery-public-data.thelook_ecommerce.INFORMATION_SCHEMA.TABLE_OPTIONS`\n",
    "    WHERE TABLE_NAME = 'products'\n",
    "        AND OPTION_NAME = 'description'\n",
    "\"\"\")"
   ]
  },
  {
   "cell_type": "code",
   "execution_count": 13,
   "id": "e8368ad3-cfd6-416b-9ead-7f659259627a",
   "metadata": {},
   "outputs": [
    {
     "data": {
      "application/vnd.jupyter.widget-view+json": {
       "model_id": "ce87b20c9a95474682bef61607dfa1ad",
       "version_major": 2,
       "version_minor": 0
      },
      "text/plain": [
       "HTML(value='Query job aa3d07f5-c85e-4596-a6a1-380572846c0f is DONE. 0 Bytes processed. <a target=\"_blank\" href…"
      ]
     },
     "metadata": {},
     "output_type": "display_data"
    },
    {
     "data": {
      "application/vnd.jupyter.widget-view+json": {
       "model_id": "6eb0813f7d3146eb9534f468fda1da4b",
       "version_major": 2,
       "version_minor": 0
      },
      "text/plain": [
       "HTML(value='Query job 0dc6b590-a6a9-4364-8c2e-47dcdb301904 is DONE. 139 Bytes processed. <a target=\"_blank\" hr…"
      ]
     },
     "metadata": {},
     "output_type": "display_data"
    },
    {
     "data": {
      "application/vnd.jupyter.widget-view+json": {
       "model_id": "0e6559f7eb794767861711c7faadc48a",
       "version_major": 2,
       "version_minor": 0
      },
      "text/plain": [
       "HTML(value='Query job 2d838429-3741-46ca-9740-328af8e1d177 is DONE. 0 Bytes processed. <a target=\"_blank\" href…"
      ]
     },
     "metadata": {},
     "output_type": "display_data"
    },
    {
     "data": {
      "text/html": [
       "<div>\n",
       "<style scoped>\n",
       "    .dataframe tbody tr th:only-of-type {\n",
       "        vertical-align: middle;\n",
       "    }\n",
       "\n",
       "    .dataframe tbody tr th {\n",
       "        vertical-align: top;\n",
       "    }\n",
       "\n",
       "    .dataframe thead th {\n",
       "        text-align: right;\n",
       "    }\n",
       "</style>\n",
       "<table border=\"1\" class=\"dataframe\">\n",
       "  <thead>\n",
       "    <tr style=\"text-align: right;\">\n",
       "      <th></th>\n",
       "      <th>table_catalog</th>\n",
       "      <th>table_schema</th>\n",
       "      <th>table_name</th>\n",
       "      <th>option_name</th>\n",
       "      <th>option_type</th>\n",
       "      <th>option_value</th>\n",
       "    </tr>\n",
       "  </thead>\n",
       "  <tbody>\n",
       "    <tr>\n",
       "      <th>0</th>\n",
       "      <td>bigquery-public-data</td>\n",
       "      <td>thelook_ecommerce</td>\n",
       "      <td>products</td>\n",
       "      <td>description</td>\n",
       "      <td>STRING</td>\n",
       "      <td>\"The Look fictitious e-commerce dataset - prod...</td>\n",
       "    </tr>\n",
       "  </tbody>\n",
       "</table>\n",
       "<p>1 rows × 6 columns</p>\n",
       "</div>[1 rows x 6 columns in total]"
      ],
      "text/plain": [
       "          table_catalog       table_schema table_name  option_name  \\\n",
       "0  bigquery-public-data  thelook_ecommerce   products  description   \n",
       "\n",
       "  option_type                                       option_value  \n",
       "0      STRING  \"The Look fictitious e-commerce dataset - prod...  \n",
       "\n",
       "[1 rows x 6 columns]"
      ]
     },
     "execution_count": 13,
     "metadata": {},
     "output_type": "execute_result"
    }
   ],
   "source": [
    "products_table"
   ]
  },
  {
   "cell_type": "markdown",
   "id": "38c01756-07c6-491e-aa73-aedb2a41420e",
   "metadata": {},
   "source": [
    "### Get Values From Columns: Most common values as examples\n",
    "\n",
    "Retrieve a sample of common values from each column to use as examples for an LLM to create names and descriptions."
   ]
  },
  {
   "cell_type": "markdown",
   "id": "7a3bce37-7a4e-408b-b502-568c6cf4881b",
   "metadata": {},
   "source": [
    "Create syntax for query that will create a row per column with a sample of values from the column."
   ]
  },
  {
   "cell_type": "code",
   "execution_count": 14,
   "id": "8d5ef277-f3d1-4328-9fac-61c1afa41086",
   "metadata": {},
   "outputs": [
    {
     "data": {
      "application/vnd.jupyter.widget-view+json": {
       "model_id": "a1d8c8b68a874229a0d6b851fec32f6a",
       "version_major": 2,
       "version_minor": 0
      },
      "text/plain": [
       "HTML(value='Query job 19b720b8-2c0b-4127-9fe4-85c7a2a14c37 is DONE. 160 Bytes processed. <a target=\"_blank\" hr…"
      ]
     },
     "metadata": {},
     "output_type": "display_data"
    },
    {
     "name": "stdout",
     "output_type": "stream",
     "text": [
      "SELECT 'id' AS column_name, STRING_AGG(CAST(value AS STRING)) as column_sample FROM UNNEST((SELECT APPROX_TOP_COUNT(id, 10) as osn FROM `bigquery-public-data.thelook_ecommerce.products`))\n",
      "UNION ALL\n",
      "SELECT 'cost' AS column_name, STRING_AGG(CAST(value AS STRING)) as column_sample FROM UNNEST((SELECT APPROX_TOP_COUNT(cost, 10) as osn FROM `bigquery-public-data.thelook_ecommerce.products`))\n",
      "UNION ALL\n",
      "SELECT 'category' AS column_name, STRING_AGG(CAST(value AS STRING)) as column_sample FROM UNNEST((SELECT APPROX_TOP_COUNT(category, 10) as osn FROM `bigquery-public-data.thelook_ecommerce.products`))\n",
      "UNION ALL\n",
      "SELECT 'name' AS column_name, STRING_AGG(CAST(value AS STRING)) as column_sample FROM UNNEST((SELECT APPROX_TOP_COUNT(name, 10) as osn FROM `bigquery-public-data.thelook_ecommerce.products`))\n",
      "UNION ALL\n",
      "SELECT 'brand' AS column_name, STRING_AGG(CAST(value AS STRING)) as column_sample FROM UNNEST((SELECT APPROX_TOP_COUNT(brand, 10) as osn FROM `bigquery-public-data.thelook_ecommerce.products`))\n",
      "UNION ALL\n",
      "SELECT 'retail_price' AS column_name, STRING_AGG(CAST(value AS STRING)) as column_sample FROM UNNEST((SELECT APPROX_TOP_COUNT(retail_price, 10) as osn FROM `bigquery-public-data.thelook_ecommerce.products`))\n",
      "UNION ALL\n",
      "SELECT 'department' AS column_name, STRING_AGG(CAST(value AS STRING)) as column_sample FROM UNNEST((SELECT APPROX_TOP_COUNT(department, 10) as osn FROM `bigquery-public-data.thelook_ecommerce.products`))\n",
      "UNION ALL\n",
      "SELECT 'sku' AS column_name, STRING_AGG(CAST(value AS STRING)) as column_sample FROM UNNEST((SELECT APPROX_TOP_COUNT(sku, 10) as osn FROM `bigquery-public-data.thelook_ecommerce.products`))\n",
      "UNION ALL\n",
      "SELECT 'distribution_center_id' AS column_name, STRING_AGG(CAST(value AS STRING)) as column_sample FROM UNNEST((SELECT APPROX_TOP_COUNT(distribution_center_id, 10) as osn FROM `bigquery-public-data.thelook_ecommerce.products`))\n"
     ]
    }
   ],
   "source": [
    "for c, col in enumerate(products_columns.column_name.unique().tolist()):\n",
    "    if c == 0: \n",
    "        cte = f\"\"\"SELECT '{col}' AS column_name, STRING_AGG(CAST(value AS STRING)) as column_sample FROM UNNEST((SELECT APPROX_TOP_COUNT({col}, 10) as osn FROM `bigquery-public-data.thelook_ecommerce.products`))\"\"\"\n",
    "    else:\n",
    "        cte += f\"\"\"\\nUNION ALL\\nSELECT '{col}' AS column_name, STRING_AGG(CAST(value AS STRING)) as column_sample FROM UNNEST((SELECT APPROX_TOP_COUNT({col}, 10) as osn FROM `bigquery-public-data.thelook_ecommerce.products`))\"\"\"\n",
    "print(cte)"
   ]
  },
  {
   "cell_type": "code",
   "execution_count": 15,
   "id": "02a98c7e-20de-4b8e-b1a9-80e5790f80ab",
   "metadata": {},
   "outputs": [
    {
     "data": {
      "application/vnd.jupyter.widget-view+json": {
       "model_id": "6a2a5e97213344509f32524f70a11958",
       "version_major": 2,
       "version_minor": 0
      },
      "text/plain": [
       "HTML(value='Query job b1f948ae-b79b-4e57-bf1f-75989a501859 is DONE. 0 Bytes processed. <a target=\"_blank\" href…"
      ]
     },
     "metadata": {},
     "output_type": "display_data"
    },
    {
     "data": {
      "application/vnd.jupyter.widget-view+json": {
       "model_id": "b67177e8031f43c1a3b42dc83475a420",
       "version_major": 2,
       "version_minor": 0
      },
      "text/plain": [
       "HTML(value='Query job a7f508d9-df8a-4905-b9cf-307eff521912 is RUNNING. <a target=\"_blank\" href=\"https://consol…"
      ]
     },
     "metadata": {},
     "output_type": "display_data"
    }
   ],
   "source": [
    "products_sample = bf.read_gbq(cte)"
   ]
  },
  {
   "cell_type": "code",
   "execution_count": 16,
   "id": "db86a242-d5e3-451b-bc70-c22816834cba",
   "metadata": {},
   "outputs": [
    {
     "data": {
      "application/vnd.jupyter.widget-view+json": {
       "model_id": "3bb97388dda0443faa497b88ae19f1c5",
       "version_major": 2,
       "version_minor": 0
      },
      "text/plain": [
       "HTML(value='Query job 03e00ef1-7d2f-4a30-8ffa-365426834817 is DONE. 0 Bytes processed. <a target=\"_blank\" href…"
      ]
     },
     "metadata": {},
     "output_type": "display_data"
    },
    {
     "data": {
      "application/vnd.jupyter.widget-view+json": {
       "model_id": "1e836bbb0dad43b59c25b63b31b6cd40",
       "version_major": 2,
       "version_minor": 0
      },
      "text/plain": [
       "HTML(value='Query job 59cdb7b4-4dbc-478a-ad96-a187e61491a9 is DONE. 1.5 kB processed. <a target=\"_blank\" href=…"
      ]
     },
     "metadata": {},
     "output_type": "display_data"
    },
    {
     "data": {
      "application/vnd.jupyter.widget-view+json": {
       "model_id": "eb4a6d056184492fa934046ee88aa9ba",
       "version_major": 2,
       "version_minor": 0
      },
      "text/plain": [
       "HTML(value='Query job e628a703-7d04-4cbf-9f16-22a329997ce8 is DONE. 0 Bytes processed. <a target=\"_blank\" href…"
      ]
     },
     "metadata": {},
     "output_type": "display_data"
    },
    {
     "data": {
      "text/html": [
       "<div>\n",
       "<style scoped>\n",
       "    .dataframe tbody tr th:only-of-type {\n",
       "        vertical-align: middle;\n",
       "    }\n",
       "\n",
       "    .dataframe tbody tr th {\n",
       "        vertical-align: top;\n",
       "    }\n",
       "\n",
       "    .dataframe thead th {\n",
       "        text-align: right;\n",
       "    }\n",
       "</style>\n",
       "<table border=\"1\" class=\"dataframe\">\n",
       "  <thead>\n",
       "    <tr style=\"text-align: right;\">\n",
       "      <th></th>\n",
       "      <th>column_name</th>\n",
       "      <th>column_sample</th>\n",
       "    </tr>\n",
       "  </thead>\n",
       "  <tbody>\n",
       "    <tr>\n",
       "      <th>0</th>\n",
       "      <td>department</td>\n",
       "      <td>Women,Men</td>\n",
       "    </tr>\n",
       "    <tr>\n",
       "      <th>1</th>\n",
       "      <td>cost</td>\n",
       "      <td>13.549999985843897,10.750000039115548,12.05000...</td>\n",
       "    </tr>\n",
       "    <tr>\n",
       "      <th>2</th>\n",
       "      <td>id</td>\n",
       "      <td>29120,29119,29118,29117,29116,29115,29114,2911...</td>\n",
       "    </tr>\n",
       "    <tr>\n",
       "      <th>3</th>\n",
       "      <td>category</td>\n",
       "      <td>Intimates,Jeans,Tops &amp; Tees,Fashion Hoodies &amp; ...</td>\n",
       "    </tr>\n",
       "    <tr>\n",
       "      <th>4</th>\n",
       "      <td>retail_price</td>\n",
       "      <td>25,29.989999771118164,19.989999771118164,39.99...</td>\n",
       "    </tr>\n",
       "    <tr>\n",
       "      <th>5</th>\n",
       "      <td>distribution_center_id</td>\n",
       "      <td>2,1,3,8,4,9,7,6,5,10</td>\n",
       "    </tr>\n",
       "    <tr>\n",
       "      <th>6</th>\n",
       "      <td>brand</td>\n",
       "      <td>Allegra K,Calvin Klein,Carhartt,Hanes,Volcom,N...</td>\n",
       "    </tr>\n",
       "    <tr>\n",
       "      <th>7</th>\n",
       "      <td>name</td>\n",
       "      <td>Wrangler Men's Premium Performance Cowboy Cut ...</td>\n",
       "    </tr>\n",
       "    <tr>\n",
       "      <th>8</th>\n",
       "      <td>sku</td>\n",
       "      <td>FFFCC1A3964B4AD665FA2F07D7BFD086,FFFB8EF15DE06...</td>\n",
       "    </tr>\n",
       "  </tbody>\n",
       "</table>\n",
       "<p>9 rows × 2 columns</p>\n",
       "</div>[9 rows x 2 columns in total]"
      ],
      "text/plain": [
       "              column_name                                      column_sample\n",
       "0              department                                          Women,Men\n",
       "1                    cost  13.549999985843897,10.750000039115548,12.05000...\n",
       "2                      id  29120,29119,29118,29117,29116,29115,29114,2911...\n",
       "3                category  Intimates,Jeans,Tops & Tees,Fashion Hoodies & ...\n",
       "4            retail_price  25,29.989999771118164,19.989999771118164,39.99...\n",
       "5  distribution_center_id                               2,1,3,8,4,9,7,6,5,10\n",
       "6                   brand  Allegra K,Calvin Klein,Carhartt,Hanes,Volcom,N...\n",
       "7                    name  Wrangler Men's Premium Performance Cowboy Cut ...\n",
       "8                     sku  FFFCC1A3964B4AD665FA2F07D7BFD086,FFFB8EF15DE06...\n",
       "\n",
       "[9 rows x 2 columns]"
      ]
     },
     "execution_count": 16,
     "metadata": {},
     "output_type": "execute_result"
    }
   ],
   "source": [
    "products_sample"
   ]
  },
  {
   "cell_type": "markdown",
   "id": "eb2677a7-fc04-4016-862a-9e79d26e5e05",
   "metadata": {},
   "source": [
    "---\n",
    "## BigQuery ML: Connect To Vertex AI LLMs with ML.GENERATE_TEXT\n",
    "\n",
    "BigQuery ML can `Create Model`s that are actually connections to Remote Models. [Reference](https://cloud.google.com/bigquery/docs/reference/standard-sql/bigqueryml-syntax-create-remote-model)\n",
    "\n",
    "Using the `REMOTE_SERVICE_TYPE = \"CLOUD_AI_LARGE_LANGUAGE_MODEL_V1\"` option will link to LLMs in Vertex AI!"
   ]
  },
  {
   "cell_type": "markdown",
   "id": "6bfe6cc1-84fc-48e3-9720-e864547406d0",
   "metadata": {},
   "source": [
    "### Connection Requirement\n",
    "\n",
    "To make a remote connection using BigQuery ML, BigQuery uses a CLOUD_RESOURCE connection. [Reference](https://cloud.google.com/bigquery/docs/reference/standard-sql/bigqueryml-syntax-create-remote-model#connection)\n",
    "\n",
    "Create a new connection with type `CLOUD_RESOURCE`: First, check for existing connection."
   ]
  },
  {
   "cell_type": "code",
   "execution_count": 17,
   "id": "794068db-3f6b-4278-adb0-6f607b412c11",
   "metadata": {
    "scrolled": true,
    "tags": []
   },
   "outputs": [
    {
     "name": "stdout",
     "output_type": "stream",
     "text": [
      "Found existing connection with service account: bqcx-1026793852137-tqpc@gcp-sa-bigquery-condel.iam.gserviceaccount.com\n"
     ]
    }
   ],
   "source": [
    "try:\n",
    "    response = bq_connection.ConnectionServiceClient().get_connection(\n",
    "            request = bq_connection.GetConnectionRequest(\n",
    "                name = f\"projects/{BQ_PROJECT}/locations/{BQ_REGION}/connections/{SERIES}_{EXPERIMENT}\"\n",
    "            )\n",
    "    )\n",
    "    print(f'Found existing connection with service account: {response.cloud_resource.service_account_id}')\n",
    "    service_account = response.cloud_resource.service_account_id\n",
    "except Exception:\n",
    "    request = bq_connection.CreateConnectionRequest(\n",
    "        {\n",
    "            \"parent\": f\"projects/{BQ_PROJECT}/locations/{BQ_REGION}\",\n",
    "            \"connection_id\": f\"{SERIES}_{EXPERIMENT}\",\n",
    "            \"connection\": bq_connection.types.Connection(\n",
    "                {\n",
    "                    \"friendly_name\": f\"{SERIES}_{EXPERIMENT}\",\n",
    "                    \"cloud_resource\": bq_connection.CloudResourceProperties({})\n",
    "                }\n",
    "            )\n",
    "        }\n",
    "    )\n",
    "    response = bq_connection.ConnectionServiceClient().create_connection(request)\n",
    "    print(f'Created new connection with service account: {response.cloud_resource.service_account_id}')\n",
    "    service_account = response.cloud_resource.service_account_id\n",
    "    # assign the service account the Vertex AI User Role:\n",
    "    !gcloud projects add-iam-policy-binding {BQ_PROJECT} --member=serviceAccount:{service_account} --role=roles/aiplatform.user"
   ]
  },
  {
   "cell_type": "markdown",
   "id": "bb2d50c3-d8ec-4616-97b8-88cb61beadae",
   "metadata": {},
   "source": [
    "**NOTE**: The step above created a service account and assigned it the Vertex AI User Role.  This may take a moment to be recognized in the steps below.  If you get an error in one of the cells below try rerunning it."
   ]
  },
  {
   "cell_type": "markdown",
   "id": "eed5a21e-92f2-4388-b33a-b633f4553122",
   "metadata": {},
   "source": [
    "### Create The Remote Model In BigQuery"
   ]
  },
  {
   "cell_type": "markdown",
   "id": "7e99eb8d-8761-477d-a799-a74c4591f3fc",
   "metadata": {},
   "source": [
    "Create a temp model that connects to text generation model on Vertex AI - [Reference](https://cloud.google.com/python/docs/reference/bigframes/latest/bigframes.ml.llm.PaLM2TextGenerator)"
   ]
  },
  {
   "cell_type": "code",
   "execution_count": 18,
   "id": "aee512f6-0ea0-4d81-a0f8-a9c3f81c62ac",
   "metadata": {},
   "outputs": [
    {
     "data": {
      "application/vnd.jupyter.widget-view+json": {
       "model_id": "d8d0bb780c974c9291cf1e0936b1f1e8",
       "version_major": 2,
       "version_minor": 0
      },
      "text/plain": [
       "HTML(value='Query job fd083a7f-f1d1-48ef-b078-bec6bb587f3d is RUNNING. <a target=\"_blank\" href=\"https://consol…"
      ]
     },
     "metadata": {},
     "output_type": "display_data"
    }
   ],
   "source": [
    "textgen_model = bfml.llm.PaLM2TextGenerator(\n",
    "    session = bf_session,\n",
    "    connection_name = f'{BQ_PROJECT}.{BQ_REGION}.{SERIES}_{EXPERIMENT}'\n",
    ")"
   ]
  },
  {
   "cell_type": "markdown",
   "id": "e5062779-5f9e-4b28-a742-5b9a46e67559",
   "metadata": {},
   "source": [
    "---\n",
    "## Generate Table Metadata"
   ]
  },
  {
   "cell_type": "markdown",
   "id": "bbd8cf41-69da-4bba-ae38-ad35e98f6eb8",
   "metadata": {},
   "source": [
    "### Bring Together Column Information"
   ]
  },
  {
   "cell_type": "code",
   "execution_count": 19,
   "id": "754a5882-e506-4590-b8d0-86dec382bdd3",
   "metadata": {},
   "outputs": [
    {
     "data": {
      "text/plain": [
       "Index(['table_catalog', 'table_schema', 'table_name', 'column_name',\n",
       "       'field_path', 'data_type', 'description', 'collation_name',\n",
       "       'rounding_mode'],\n",
       "      dtype='object')"
      ]
     },
     "execution_count": 19,
     "metadata": {},
     "output_type": "execute_result"
    }
   ],
   "source": [
    "products_columns.columns"
   ]
  },
  {
   "cell_type": "code",
   "execution_count": 20,
   "id": "b6157b21-25a3-4a09-bd0a-a90ace4d7256",
   "metadata": {},
   "outputs": [
    {
     "data": {
      "text/plain": [
       "Index(['column_name', 'column_sample'], dtype='object')"
      ]
     },
     "execution_count": 20,
     "metadata": {},
     "output_type": "execute_result"
    }
   ],
   "source": [
    "products_sample.columns"
   ]
  },
  {
   "cell_type": "code",
   "execution_count": 21,
   "id": "45b48a4c-4681-4590-b004-916d0c5d316e",
   "metadata": {},
   "outputs": [],
   "source": [
    "products_columns = products_columns[['column_name', 'data_type', 'description']].merge(products_sample, on = 'column_name')"
   ]
  },
  {
   "cell_type": "code",
   "execution_count": 22,
   "id": "31b98fe9-d44f-4715-a1b0-9d12e6334f17",
   "metadata": {},
   "outputs": [
    {
     "data": {
      "application/vnd.jupyter.widget-view+json": {
       "model_id": "74fa2171102c4772a90cbd603b676efb",
       "version_major": 2,
       "version_minor": 0
      },
      "text/plain": [
       "HTML(value='Query job 96182f91-03d5-4cc6-a1b4-904ebfd2252f is DONE. 176 Bytes processed. <a target=\"_blank\" hr…"
      ]
     },
     "metadata": {},
     "output_type": "display_data"
    },
    {
     "data": {
      "application/vnd.jupyter.widget-view+json": {
       "model_id": "29e13fb65c794628bb6fdc36ba0f17fb",
       "version_major": 2,
       "version_minor": 0
      },
      "text/plain": [
       "HTML(value='Query job f75de1e1-8d06-49fe-85a4-f9c4a3b72dbc is DONE. 1.7 kB processed. <a target=\"_blank\" href=…"
      ]
     },
     "metadata": {},
     "output_type": "display_data"
    },
    {
     "data": {
      "application/vnd.jupyter.widget-view+json": {
       "model_id": "e92a2d458c5f419a9a9fd04cf858dbf0",
       "version_major": 2,
       "version_minor": 0
      },
      "text/plain": [
       "HTML(value='Query job 57b6fe62-eebd-4cba-97a5-564e94b61d37 is DONE. 0 Bytes processed. <a target=\"_blank\" href…"
      ]
     },
     "metadata": {},
     "output_type": "display_data"
    },
    {
     "data": {
      "text/html": [
       "<div>\n",
       "<style scoped>\n",
       "    .dataframe tbody tr th:only-of-type {\n",
       "        vertical-align: middle;\n",
       "    }\n",
       "\n",
       "    .dataframe tbody tr th {\n",
       "        vertical-align: top;\n",
       "    }\n",
       "\n",
       "    .dataframe thead th {\n",
       "        text-align: right;\n",
       "    }\n",
       "</style>\n",
       "<table border=\"1\" class=\"dataframe\">\n",
       "  <thead>\n",
       "    <tr style=\"text-align: right;\">\n",
       "      <th></th>\n",
       "      <th>column_name</th>\n",
       "      <th>data_type</th>\n",
       "      <th>description</th>\n",
       "      <th>column_sample</th>\n",
       "    </tr>\n",
       "  </thead>\n",
       "  <tbody>\n",
       "    <tr>\n",
       "      <th>0</th>\n",
       "      <td>id</td>\n",
       "      <td>INT64</td>\n",
       "      <td>&lt;NA&gt;</td>\n",
       "      <td>29120,29119,29118,29117,29116,29115,29114,2911...</td>\n",
       "    </tr>\n",
       "    <tr>\n",
       "      <th>1</th>\n",
       "      <td>cost</td>\n",
       "      <td>FLOAT64</td>\n",
       "      <td>&lt;NA&gt;</td>\n",
       "      <td>13.549999985843897,10.750000039115548,12.05000...</td>\n",
       "    </tr>\n",
       "    <tr>\n",
       "      <th>2</th>\n",
       "      <td>category</td>\n",
       "      <td>STRING</td>\n",
       "      <td>&lt;NA&gt;</td>\n",
       "      <td>Intimates,Jeans,Tops &amp; Tees,Fashion Hoodies &amp; ...</td>\n",
       "    </tr>\n",
       "    <tr>\n",
       "      <th>3</th>\n",
       "      <td>name</td>\n",
       "      <td>STRING</td>\n",
       "      <td>&lt;NA&gt;</td>\n",
       "      <td>Wrangler Men's Premium Performance Cowboy Cut ...</td>\n",
       "    </tr>\n",
       "    <tr>\n",
       "      <th>4</th>\n",
       "      <td>brand</td>\n",
       "      <td>STRING</td>\n",
       "      <td>&lt;NA&gt;</td>\n",
       "      <td>Allegra K,Calvin Klein,Carhartt,Hanes,Volcom,N...</td>\n",
       "    </tr>\n",
       "    <tr>\n",
       "      <th>5</th>\n",
       "      <td>retail_price</td>\n",
       "      <td>FLOAT64</td>\n",
       "      <td>&lt;NA&gt;</td>\n",
       "      <td>25,29.989999771118164,19.989999771118164,39.99...</td>\n",
       "    </tr>\n",
       "    <tr>\n",
       "      <th>6</th>\n",
       "      <td>department</td>\n",
       "      <td>STRING</td>\n",
       "      <td>&lt;NA&gt;</td>\n",
       "      <td>Women,Men</td>\n",
       "    </tr>\n",
       "    <tr>\n",
       "      <th>7</th>\n",
       "      <td>sku</td>\n",
       "      <td>STRING</td>\n",
       "      <td>&lt;NA&gt;</td>\n",
       "      <td>FFFCC1A3964B4AD665FA2F07D7BFD086,FFFB8EF15DE06...</td>\n",
       "    </tr>\n",
       "    <tr>\n",
       "      <th>8</th>\n",
       "      <td>distribution_center_id</td>\n",
       "      <td>INT64</td>\n",
       "      <td>&lt;NA&gt;</td>\n",
       "      <td>2,1,3,8,4,9,7,6,5,10</td>\n",
       "    </tr>\n",
       "  </tbody>\n",
       "</table>\n",
       "<p>9 rows × 4 columns</p>\n",
       "</div>[9 rows x 4 columns in total]"
      ],
      "text/plain": [
       "              column_name data_type description  \\\n",
       "0                      id     INT64        <NA>   \n",
       "1                    cost   FLOAT64        <NA>   \n",
       "2                category    STRING        <NA>   \n",
       "3                    name    STRING        <NA>   \n",
       "4                   brand    STRING        <NA>   \n",
       "5            retail_price   FLOAT64        <NA>   \n",
       "6              department    STRING        <NA>   \n",
       "7                     sku    STRING        <NA>   \n",
       "8  distribution_center_id     INT64        <NA>   \n",
       "\n",
       "                                       column_sample  \n",
       "0  29120,29119,29118,29117,29116,29115,29114,2911...  \n",
       "1  13.549999985843897,10.750000039115548,12.05000...  \n",
       "2  Intimates,Jeans,Tops & Tees,Fashion Hoodies & ...  \n",
       "3  Wrangler Men's Premium Performance Cowboy Cut ...  \n",
       "4  Allegra K,Calvin Klein,Carhartt,Hanes,Volcom,N...  \n",
       "5  25,29.989999771118164,19.989999771118164,39.99...  \n",
       "6                                          Women,Men  \n",
       "7  FFFCC1A3964B4AD665FA2F07D7BFD086,FFFB8EF15DE06...  \n",
       "8                               2,1,3,8,4,9,7,6,5,10  \n",
       "\n",
       "[9 rows x 4 columns]"
      ]
     },
     "execution_count": 22,
     "metadata": {},
     "output_type": "execute_result"
    }
   ],
   "source": [
    "products_columns"
   ]
  },
  {
   "cell_type": "markdown",
   "id": "d492c28c-7218-45a2-87bc-5cdd264d035f",
   "metadata": {},
   "source": [
    "### Add Table Information"
   ]
  },
  {
   "cell_type": "code",
   "execution_count": 23,
   "id": "bd10de64-b9ee-44a0-ad0f-20f877359177",
   "metadata": {},
   "outputs": [
    {
     "data": {
      "application/vnd.jupyter.widget-view+json": {
       "model_id": "5b6cc89ff4d94a25bc644c55c54dbdb5",
       "version_major": 2,
       "version_minor": 0
      },
      "text/plain": [
       "HTML(value='Query job 638876e8-cebc-4e27-88a5-6acfbaca9dea is DONE. 18 Bytes processed. <a target=\"_blank\" hre…"
      ]
     },
     "metadata": {},
     "output_type": "display_data"
    },
    {
     "data": {
      "application/vnd.jupyter.widget-view+json": {
       "model_id": "19a4e8714d5c441d94f76a077b79596c",
       "version_major": 2,
       "version_minor": 0
      },
      "text/plain": [
       "HTML(value='Query job 7534e365-8102-43d3-a912-15f351a81782 is DONE. 67 Bytes processed. <a target=\"_blank\" hre…"
      ]
     },
     "metadata": {},
     "output_type": "display_data"
    }
   ],
   "source": [
    "products_columns['table_name'] = products_table['table_name'].iloc[0]\n",
    "products_columns['table_description'] = products_table['option_value'].iloc[0]"
   ]
  },
  {
   "cell_type": "code",
   "execution_count": 24,
   "id": "8235a42f-4db8-4afd-8014-2d1bb0ef9fb6",
   "metadata": {},
   "outputs": [
    {
     "data": {
      "application/vnd.jupyter.widget-view+json": {
       "model_id": "a3a1279cee0944e7adb18976c8652634",
       "version_major": 2,
       "version_minor": 0
      },
      "text/plain": [
       "HTML(value='Query job cd2b083a-8a25-43e1-8774-58b72c339cb5 is DONE. 176 Bytes processed. <a target=\"_blank\" hr…"
      ]
     },
     "metadata": {},
     "output_type": "display_data"
    },
    {
     "data": {
      "application/vnd.jupyter.widget-view+json": {
       "model_id": "65e33c3845e841239a55826b72e65a2e",
       "version_major": 2,
       "version_minor": 0
      },
      "text/plain": [
       "HTML(value='Query job 6977fd8e-1ca6-4c60-8009-c4235d98b3e3 is DONE. 1.7 kB processed. <a target=\"_blank\" href=…"
      ]
     },
     "metadata": {},
     "output_type": "display_data"
    },
    {
     "data": {
      "application/vnd.jupyter.widget-view+json": {
       "model_id": "10b8ebfb5a594b028c8f8cfc12998695",
       "version_major": 2,
       "version_minor": 0
      },
      "text/plain": [
       "HTML(value='Query job f5769e82-533e-47f6-baaa-282a0f8cc2af is DONE. 0 Bytes processed. <a target=\"_blank\" href…"
      ]
     },
     "metadata": {},
     "output_type": "display_data"
    },
    {
     "data": {
      "text/html": [
       "<div>\n",
       "<style scoped>\n",
       "    .dataframe tbody tr th:only-of-type {\n",
       "        vertical-align: middle;\n",
       "    }\n",
       "\n",
       "    .dataframe tbody tr th {\n",
       "        vertical-align: top;\n",
       "    }\n",
       "\n",
       "    .dataframe thead th {\n",
       "        text-align: right;\n",
       "    }\n",
       "</style>\n",
       "<table border=\"1\" class=\"dataframe\">\n",
       "  <thead>\n",
       "    <tr style=\"text-align: right;\">\n",
       "      <th></th>\n",
       "      <th>column_name</th>\n",
       "      <th>data_type</th>\n",
       "      <th>description</th>\n",
       "      <th>column_sample</th>\n",
       "      <th>table_name</th>\n",
       "      <th>table_description</th>\n",
       "    </tr>\n",
       "  </thead>\n",
       "  <tbody>\n",
       "    <tr>\n",
       "      <th>0</th>\n",
       "      <td>id</td>\n",
       "      <td>INT64</td>\n",
       "      <td>&lt;NA&gt;</td>\n",
       "      <td>29120,29119,29118,29117,29116,29115,29114,2911...</td>\n",
       "      <td>products</td>\n",
       "      <td>\"The Look fictitious e-commerce dataset - prod...</td>\n",
       "    </tr>\n",
       "    <tr>\n",
       "      <th>1</th>\n",
       "      <td>cost</td>\n",
       "      <td>FLOAT64</td>\n",
       "      <td>&lt;NA&gt;</td>\n",
       "      <td>13.549999985843897,10.750000039115548,12.05000...</td>\n",
       "      <td>products</td>\n",
       "      <td>\"The Look fictitious e-commerce dataset - prod...</td>\n",
       "    </tr>\n",
       "    <tr>\n",
       "      <th>2</th>\n",
       "      <td>category</td>\n",
       "      <td>STRING</td>\n",
       "      <td>&lt;NA&gt;</td>\n",
       "      <td>Intimates,Jeans,Tops &amp; Tees,Fashion Hoodies &amp; ...</td>\n",
       "      <td>products</td>\n",
       "      <td>\"The Look fictitious e-commerce dataset - prod...</td>\n",
       "    </tr>\n",
       "    <tr>\n",
       "      <th>3</th>\n",
       "      <td>name</td>\n",
       "      <td>STRING</td>\n",
       "      <td>&lt;NA&gt;</td>\n",
       "      <td>Wrangler Men's Premium Performance Cowboy Cut ...</td>\n",
       "      <td>products</td>\n",
       "      <td>\"The Look fictitious e-commerce dataset - prod...</td>\n",
       "    </tr>\n",
       "    <tr>\n",
       "      <th>4</th>\n",
       "      <td>brand</td>\n",
       "      <td>STRING</td>\n",
       "      <td>&lt;NA&gt;</td>\n",
       "      <td>Allegra K,Calvin Klein,Carhartt,Hanes,Volcom,N...</td>\n",
       "      <td>products</td>\n",
       "      <td>\"The Look fictitious e-commerce dataset - prod...</td>\n",
       "    </tr>\n",
       "    <tr>\n",
       "      <th>5</th>\n",
       "      <td>retail_price</td>\n",
       "      <td>FLOAT64</td>\n",
       "      <td>&lt;NA&gt;</td>\n",
       "      <td>25,29.989999771118164,19.989999771118164,39.99...</td>\n",
       "      <td>products</td>\n",
       "      <td>\"The Look fictitious e-commerce dataset - prod...</td>\n",
       "    </tr>\n",
       "    <tr>\n",
       "      <th>6</th>\n",
       "      <td>department</td>\n",
       "      <td>STRING</td>\n",
       "      <td>&lt;NA&gt;</td>\n",
       "      <td>Women,Men</td>\n",
       "      <td>products</td>\n",
       "      <td>\"The Look fictitious e-commerce dataset - prod...</td>\n",
       "    </tr>\n",
       "    <tr>\n",
       "      <th>7</th>\n",
       "      <td>sku</td>\n",
       "      <td>STRING</td>\n",
       "      <td>&lt;NA&gt;</td>\n",
       "      <td>FFFCC1A3964B4AD665FA2F07D7BFD086,FFFB8EF15DE06...</td>\n",
       "      <td>products</td>\n",
       "      <td>\"The Look fictitious e-commerce dataset - prod...</td>\n",
       "    </tr>\n",
       "    <tr>\n",
       "      <th>8</th>\n",
       "      <td>distribution_center_id</td>\n",
       "      <td>INT64</td>\n",
       "      <td>&lt;NA&gt;</td>\n",
       "      <td>2,1,3,8,4,9,7,6,5,10</td>\n",
       "      <td>products</td>\n",
       "      <td>\"The Look fictitious e-commerce dataset - prod...</td>\n",
       "    </tr>\n",
       "  </tbody>\n",
       "</table>\n",
       "<p>9 rows × 6 columns</p>\n",
       "</div>[9 rows x 6 columns in total]"
      ],
      "text/plain": [
       "              column_name data_type description  \\\n",
       "0                      id     INT64        <NA>   \n",
       "1                    cost   FLOAT64        <NA>   \n",
       "2                category    STRING        <NA>   \n",
       "3                    name    STRING        <NA>   \n",
       "4                   brand    STRING        <NA>   \n",
       "5            retail_price   FLOAT64        <NA>   \n",
       "6              department    STRING        <NA>   \n",
       "7                     sku    STRING        <NA>   \n",
       "8  distribution_center_id     INT64        <NA>   \n",
       "\n",
       "                                       column_sample table_name  \\\n",
       "0  29120,29119,29118,29117,29116,29115,29114,2911...   products   \n",
       "1  13.549999985843897,10.750000039115548,12.05000...   products   \n",
       "2  Intimates,Jeans,Tops & Tees,Fashion Hoodies & ...   products   \n",
       "3  Wrangler Men's Premium Performance Cowboy Cut ...   products   \n",
       "4  Allegra K,Calvin Klein,Carhartt,Hanes,Volcom,N...   products   \n",
       "5  25,29.989999771118164,19.989999771118164,39.99...   products   \n",
       "6                                          Women,Men   products   \n",
       "7  FFFCC1A3964B4AD665FA2F07D7BFD086,FFFB8EF15DE06...   products   \n",
       "8                               2,1,3,8,4,9,7,6,5,10   products   \n",
       "\n",
       "                                   table_description  \n",
       "0  \"The Look fictitious e-commerce dataset - prod...  \n",
       "1  \"The Look fictitious e-commerce dataset - prod...  \n",
       "2  \"The Look fictitious e-commerce dataset - prod...  \n",
       "3  \"The Look fictitious e-commerce dataset - prod...  \n",
       "4  \"The Look fictitious e-commerce dataset - prod...  \n",
       "5  \"The Look fictitious e-commerce dataset - prod...  \n",
       "6  \"The Look fictitious e-commerce dataset - prod...  \n",
       "7  \"The Look fictitious e-commerce dataset - prod...  \n",
       "8  \"The Look fictitious e-commerce dataset - prod...  \n",
       "\n",
       "[9 rows x 6 columns]"
      ]
     },
     "execution_count": 24,
     "metadata": {},
     "output_type": "execute_result"
    }
   ],
   "source": [
    "products_columns"
   ]
  },
  {
   "cell_type": "markdown",
   "id": "1036bea9-a3d8-4e94-bca3-ac650f6d4dfe",
   "metadata": {},
   "source": [
    "### Create Column Naming Prompt"
   ]
  },
  {
   "cell_type": "code",
   "execution_count": 25,
   "id": "a389bb39-cc29-4740-8c45-cf7b3357bfd7",
   "metadata": {},
   "outputs": [],
   "source": [
    "products_columns['name_prompt'] = (\n",
    "    'Generate a new column name for a BigQuery column with the following information. '\n",
    "    + 'The current column name is ' + products_columns['column_name'] + '. '\n",
    "    + 'The table has the name ' + products_columns['table_name'] + '. '\n",
    "    + 'The column has a datatype of ' + products_columns['data_type'] + ' with common values like: ' + products_columns['column_sample'] + '.'\n",
    ")"
   ]
  },
  {
   "cell_type": "code",
   "execution_count": 26,
   "id": "d63fdbb8-d1cc-4842-9192-321bcb36eab4",
   "metadata": {},
   "outputs": [
    {
     "data": {
      "application/vnd.jupyter.widget-view+json": {
       "model_id": "7bfb7cc793bc44ca8cc030a87e9b3b05",
       "version_major": 2,
       "version_minor": 0
      },
      "text/plain": [
       "HTML(value='Query job 8bb14ffb-d736-42d6-80e0-c2ca8098d9e3 is DONE. 176 Bytes processed. <a target=\"_blank\" hr…"
      ]
     },
     "metadata": {},
     "output_type": "display_data"
    },
    {
     "data": {
      "application/vnd.jupyter.widget-view+json": {
       "model_id": "fd6a8055d5e94ef895cc0451cf540935",
       "version_major": 2,
       "version_minor": 0
      },
      "text/plain": [
       "HTML(value='Query job 0b474606-2f73-409f-b52a-272ca0d10ab3 is DONE. 1.7 kB processed. <a target=\"_blank\" href=…"
      ]
     },
     "metadata": {},
     "output_type": "display_data"
    },
    {
     "data": {
      "application/vnd.jupyter.widget-view+json": {
       "model_id": "1054657868d64d0291ee78de23a172ea",
       "version_major": 2,
       "version_minor": 0
      },
      "text/plain": [
       "HTML(value='Query job 5ec380f3-5c3f-4763-a797-e98cf822ab31 is DONE. 0 Bytes processed. <a target=\"_blank\" href…"
      ]
     },
     "metadata": {},
     "output_type": "display_data"
    },
    {
     "data": {
      "text/html": [
       "<div>\n",
       "<style scoped>\n",
       "    .dataframe tbody tr th:only-of-type {\n",
       "        vertical-align: middle;\n",
       "    }\n",
       "\n",
       "    .dataframe tbody tr th {\n",
       "        vertical-align: top;\n",
       "    }\n",
       "\n",
       "    .dataframe thead th {\n",
       "        text-align: right;\n",
       "    }\n",
       "</style>\n",
       "<table border=\"1\" class=\"dataframe\">\n",
       "  <thead>\n",
       "    <tr style=\"text-align: right;\">\n",
       "      <th></th>\n",
       "      <th>column_name</th>\n",
       "      <th>data_type</th>\n",
       "      <th>description</th>\n",
       "      <th>column_sample</th>\n",
       "      <th>table_name</th>\n",
       "      <th>table_description</th>\n",
       "      <th>name_prompt</th>\n",
       "    </tr>\n",
       "  </thead>\n",
       "  <tbody>\n",
       "    <tr>\n",
       "      <th>0</th>\n",
       "      <td>id</td>\n",
       "      <td>INT64</td>\n",
       "      <td>&lt;NA&gt;</td>\n",
       "      <td>29120,29119,29118,29117,29116,29115,29114,2911...</td>\n",
       "      <td>products</td>\n",
       "      <td>\"The Look fictitious e-commerce dataset - prod...</td>\n",
       "      <td>Generate a new column name for a BigQuery colu...</td>\n",
       "    </tr>\n",
       "    <tr>\n",
       "      <th>1</th>\n",
       "      <td>cost</td>\n",
       "      <td>FLOAT64</td>\n",
       "      <td>&lt;NA&gt;</td>\n",
       "      <td>13.549999985843897,10.750000039115548,12.05000...</td>\n",
       "      <td>products</td>\n",
       "      <td>\"The Look fictitious e-commerce dataset - prod...</td>\n",
       "      <td>Generate a new column name for a BigQuery colu...</td>\n",
       "    </tr>\n",
       "    <tr>\n",
       "      <th>2</th>\n",
       "      <td>category</td>\n",
       "      <td>STRING</td>\n",
       "      <td>&lt;NA&gt;</td>\n",
       "      <td>Intimates,Jeans,Tops &amp; Tees,Fashion Hoodies &amp; ...</td>\n",
       "      <td>products</td>\n",
       "      <td>\"The Look fictitious e-commerce dataset - prod...</td>\n",
       "      <td>Generate a new column name for a BigQuery colu...</td>\n",
       "    </tr>\n",
       "    <tr>\n",
       "      <th>3</th>\n",
       "      <td>name</td>\n",
       "      <td>STRING</td>\n",
       "      <td>&lt;NA&gt;</td>\n",
       "      <td>Wrangler Men's Premium Performance Cowboy Cut ...</td>\n",
       "      <td>products</td>\n",
       "      <td>\"The Look fictitious e-commerce dataset - prod...</td>\n",
       "      <td>Generate a new column name for a BigQuery colu...</td>\n",
       "    </tr>\n",
       "    <tr>\n",
       "      <th>4</th>\n",
       "      <td>brand</td>\n",
       "      <td>STRING</td>\n",
       "      <td>&lt;NA&gt;</td>\n",
       "      <td>Allegra K,Calvin Klein,Carhartt,Hanes,Volcom,N...</td>\n",
       "      <td>products</td>\n",
       "      <td>\"The Look fictitious e-commerce dataset - prod...</td>\n",
       "      <td>Generate a new column name for a BigQuery colu...</td>\n",
       "    </tr>\n",
       "    <tr>\n",
       "      <th>5</th>\n",
       "      <td>retail_price</td>\n",
       "      <td>FLOAT64</td>\n",
       "      <td>&lt;NA&gt;</td>\n",
       "      <td>25,29.989999771118164,19.989999771118164,39.99...</td>\n",
       "      <td>products</td>\n",
       "      <td>\"The Look fictitious e-commerce dataset - prod...</td>\n",
       "      <td>Generate a new column name for a BigQuery colu...</td>\n",
       "    </tr>\n",
       "    <tr>\n",
       "      <th>6</th>\n",
       "      <td>department</td>\n",
       "      <td>STRING</td>\n",
       "      <td>&lt;NA&gt;</td>\n",
       "      <td>Women,Men</td>\n",
       "      <td>products</td>\n",
       "      <td>\"The Look fictitious e-commerce dataset - prod...</td>\n",
       "      <td>Generate a new column name for a BigQuery colu...</td>\n",
       "    </tr>\n",
       "    <tr>\n",
       "      <th>7</th>\n",
       "      <td>sku</td>\n",
       "      <td>STRING</td>\n",
       "      <td>&lt;NA&gt;</td>\n",
       "      <td>FFFCC1A3964B4AD665FA2F07D7BFD086,FFFB8EF15DE06...</td>\n",
       "      <td>products</td>\n",
       "      <td>\"The Look fictitious e-commerce dataset - prod...</td>\n",
       "      <td>Generate a new column name for a BigQuery colu...</td>\n",
       "    </tr>\n",
       "    <tr>\n",
       "      <th>8</th>\n",
       "      <td>distribution_center_id</td>\n",
       "      <td>INT64</td>\n",
       "      <td>&lt;NA&gt;</td>\n",
       "      <td>2,1,3,8,4,9,7,6,5,10</td>\n",
       "      <td>products</td>\n",
       "      <td>\"The Look fictitious e-commerce dataset - prod...</td>\n",
       "      <td>Generate a new column name for a BigQuery colu...</td>\n",
       "    </tr>\n",
       "  </tbody>\n",
       "</table>\n",
       "<p>9 rows × 7 columns</p>\n",
       "</div>[9 rows x 7 columns in total]"
      ],
      "text/plain": [
       "              column_name data_type description  \\\n",
       "0                      id     INT64        <NA>   \n",
       "1                    cost   FLOAT64        <NA>   \n",
       "2                category    STRING        <NA>   \n",
       "3                    name    STRING        <NA>   \n",
       "4                   brand    STRING        <NA>   \n",
       "5            retail_price   FLOAT64        <NA>   \n",
       "6              department    STRING        <NA>   \n",
       "7                     sku    STRING        <NA>   \n",
       "8  distribution_center_id     INT64        <NA>   \n",
       "\n",
       "                                       column_sample table_name  \\\n",
       "0  29120,29119,29118,29117,29116,29115,29114,2911...   products   \n",
       "1  13.549999985843897,10.750000039115548,12.05000...   products   \n",
       "2  Intimates,Jeans,Tops & Tees,Fashion Hoodies & ...   products   \n",
       "3  Wrangler Men's Premium Performance Cowboy Cut ...   products   \n",
       "4  Allegra K,Calvin Klein,Carhartt,Hanes,Volcom,N...   products   \n",
       "5  25,29.989999771118164,19.989999771118164,39.99...   products   \n",
       "6                                          Women,Men   products   \n",
       "7  FFFCC1A3964B4AD665FA2F07D7BFD086,FFFB8EF15DE06...   products   \n",
       "8                               2,1,3,8,4,9,7,6,5,10   products   \n",
       "\n",
       "                                   table_description  \\\n",
       "0  \"The Look fictitious e-commerce dataset - prod...   \n",
       "1  \"The Look fictitious e-commerce dataset - prod...   \n",
       "2  \"The Look fictitious e-commerce dataset - prod...   \n",
       "3  \"The Look fictitious e-commerce dataset - prod...   \n",
       "4  \"The Look fictitious e-commerce dataset - prod...   \n",
       "5  \"The Look fictitious e-commerce dataset - prod...   \n",
       "6  \"The Look fictitious e-commerce dataset - prod...   \n",
       "7  \"The Look fictitious e-commerce dataset - prod...   \n",
       "8  \"The Look fictitious e-commerce dataset - prod...   \n",
       "\n",
       "                                         name_prompt  \n",
       "0  Generate a new column name for a BigQuery colu...  \n",
       "1  Generate a new column name for a BigQuery colu...  \n",
       "2  Generate a new column name for a BigQuery colu...  \n",
       "3  Generate a new column name for a BigQuery colu...  \n",
       "4  Generate a new column name for a BigQuery colu...  \n",
       "5  Generate a new column name for a BigQuery colu...  \n",
       "6  Generate a new column name for a BigQuery colu...  \n",
       "7  Generate a new column name for a BigQuery colu...  \n",
       "8  Generate a new column name for a BigQuery colu...  \n",
       "\n",
       "[9 rows x 7 columns]"
      ]
     },
     "execution_count": 26,
     "metadata": {},
     "output_type": "execute_result"
    }
   ],
   "source": [
    "products_columns"
   ]
  },
  {
   "cell_type": "code",
   "execution_count": 27,
   "id": "4991ffc7-a1eb-4d98-896e-e59d37f80932",
   "metadata": {},
   "outputs": [
    {
     "data": {
      "application/vnd.jupyter.widget-view+json": {
       "model_id": "d7ce74d7ed1942469d6e58842c5e75e9",
       "version_major": 2,
       "version_minor": 0
      },
      "text/plain": [
       "HTML(value='Query job 2d95e062-876f-4249-a15f-3717a57f9bdc is DONE. 1.7 kB processed. <a target=\"_blank\" href=…"
      ]
     },
     "metadata": {},
     "output_type": "display_data"
    },
    {
     "data": {
      "text/plain": [
       "'Generate a new column name for a BigQuery column with the following information. The current column name is category. The table has the name products. The column has a datatype of STRING with common values like: Intimates,Jeans,Tops & Tees,Fashion Hoodies & Sweatshirts,Swim,Sleep & Lounge,Shorts,Sweaters,Accessories,Active.'"
      ]
     },
     "execution_count": 27,
     "metadata": {},
     "output_type": "execute_result"
    }
   ],
   "source": [
    "products_columns['name_prompt'].iloc[2]"
   ]
  },
  {
   "cell_type": "markdown",
   "id": "59d8ff05-13d8-42cd-89a8-377133cf45a7",
   "metadata": {},
   "source": [
    "### Generate New Column Names"
   ]
  },
  {
   "cell_type": "code",
   "execution_count": 28,
   "id": "8f52afe9-5316-41e4-b2e2-35e000673fdf",
   "metadata": {},
   "outputs": [
    {
     "data": {
      "application/vnd.jupyter.widget-view+json": {
       "model_id": "5ad6b0e060bc46a9a5f4597298768b94",
       "version_major": 2,
       "version_minor": 0
      },
      "text/plain": [
       "HTML(value='Query job c61c3c00-d728-43bd-85d7-85e259c56e74 is RUNNING. <a target=\"_blank\" href=\"https://consol…"
      ]
     },
     "metadata": {},
     "output_type": "display_data"
    },
    {
     "data": {
      "application/vnd.jupyter.widget-view+json": {
       "model_id": "85b4b5086fda41ec8f8a6fd6f865162e",
       "version_major": 2,
       "version_minor": 0
      },
      "text/plain": [
       "HTML(value='Query job 635db7d4-4a45-4cf1-aa6c-ba17ea01ef96 is DONE. 72 Bytes processed. <a target=\"_blank\" hre…"
      ]
     },
     "metadata": {},
     "output_type": "display_data"
    }
   ],
   "source": [
    "products_columns = products_columns.join(textgen_model.predict(products_columns['name_prompt']).rename(columns={'ml_generate_text_llm_result':'new_column_name'}))"
   ]
  },
  {
   "cell_type": "code",
   "execution_count": 29,
   "id": "5312d5de-f5f9-4ad5-829a-36b3a4968d96",
   "metadata": {},
   "outputs": [
    {
     "data": {
      "application/vnd.jupyter.widget-view+json": {
       "model_id": "cd479f25c77d403495fd96f6c0353917",
       "version_major": 2,
       "version_minor": 0
      },
      "text/plain": [
       "HTML(value='Query job b9610c15-e5f4-4caa-aa32-45cc39aa4c3b is DONE. 392 Bytes processed. <a target=\"_blank\" hr…"
      ]
     },
     "metadata": {},
     "output_type": "display_data"
    },
    {
     "data": {
      "application/vnd.jupyter.widget-view+json": {
       "model_id": "005739954260498499e5cc665ec9a5c9",
       "version_major": 2,
       "version_minor": 0
      },
      "text/plain": [
       "HTML(value='Query job 3898c870-4615-4eff-8c88-71ebdbd0f223 is DONE. 2.0 kB processed. <a target=\"_blank\" href=…"
      ]
     },
     "metadata": {},
     "output_type": "display_data"
    },
    {
     "data": {
      "application/vnd.jupyter.widget-view+json": {
       "model_id": "42a5ec38fb2f4fdeaab0b3434e372a5c",
       "version_major": 2,
       "version_minor": 0
      },
      "text/plain": [
       "HTML(value='Query job 886f592a-acc4-40af-8e49-5480fe2f0870 is DONE. 0 Bytes processed. <a target=\"_blank\" href…"
      ]
     },
     "metadata": {},
     "output_type": "display_data"
    },
    {
     "data": {
      "text/html": [
       "<div>\n",
       "<style scoped>\n",
       "    .dataframe tbody tr th:only-of-type {\n",
       "        vertical-align: middle;\n",
       "    }\n",
       "\n",
       "    .dataframe tbody tr th {\n",
       "        vertical-align: top;\n",
       "    }\n",
       "\n",
       "    .dataframe thead th {\n",
       "        text-align: right;\n",
       "    }\n",
       "</style>\n",
       "<table border=\"1\" class=\"dataframe\">\n",
       "  <thead>\n",
       "    <tr style=\"text-align: right;\">\n",
       "      <th></th>\n",
       "      <th>column_name</th>\n",
       "      <th>data_type</th>\n",
       "      <th>description</th>\n",
       "      <th>column_sample</th>\n",
       "      <th>table_name</th>\n",
       "      <th>table_description</th>\n",
       "      <th>name_prompt</th>\n",
       "      <th>new_column_name</th>\n",
       "    </tr>\n",
       "  </thead>\n",
       "  <tbody>\n",
       "    <tr>\n",
       "      <th>0</th>\n",
       "      <td>id</td>\n",
       "      <td>INT64</td>\n",
       "      <td>&lt;NA&gt;</td>\n",
       "      <td>29120,29119,29118,29117,29116,29115,29114,2911...</td>\n",
       "      <td>products</td>\n",
       "      <td>\"The Look fictitious e-commerce dataset - prod...</td>\n",
       "      <td>Generate a new column name for a BigQuery colu...</td>\n",
       "      <td>product_id</td>\n",
       "    </tr>\n",
       "    <tr>\n",
       "      <th>1</th>\n",
       "      <td>cost</td>\n",
       "      <td>FLOAT64</td>\n",
       "      <td>&lt;NA&gt;</td>\n",
       "      <td>13.549999985843897,10.750000039115548,12.05000...</td>\n",
       "      <td>products</td>\n",
       "      <td>\"The Look fictitious e-commerce dataset - prod...</td>\n",
       "      <td>Generate a new column name for a BigQuery colu...</td>\n",
       "      <td>product_cost</td>\n",
       "    </tr>\n",
       "    <tr>\n",
       "      <th>2</th>\n",
       "      <td>category</td>\n",
       "      <td>STRING</td>\n",
       "      <td>&lt;NA&gt;</td>\n",
       "      <td>Intimates,Jeans,Tops &amp; Tees,Fashion Hoodies &amp; ...</td>\n",
       "      <td>products</td>\n",
       "      <td>\"The Look fictitious e-commerce dataset - prod...</td>\n",
       "      <td>Generate a new column name for a BigQuery colu...</td>\n",
       "      <td>products_category_v2</td>\n",
       "    </tr>\n",
       "    <tr>\n",
       "      <th>3</th>\n",
       "      <td>name</td>\n",
       "      <td>STRING</td>\n",
       "      <td>&lt;NA&gt;</td>\n",
       "      <td>Wrangler Men's Premium Performance Cowboy Cut ...</td>\n",
       "      <td>products</td>\n",
       "      <td>\"The Look fictitious e-commerce dataset - prod...</td>\n",
       "      <td>Generate a new column name for a BigQuery colu...</td>\n",
       "      <td>product_name</td>\n",
       "    </tr>\n",
       "    <tr>\n",
       "      <th>4</th>\n",
       "      <td>brand</td>\n",
       "      <td>STRING</td>\n",
       "      <td>&lt;NA&gt;</td>\n",
       "      <td>Allegra K,Calvin Klein,Carhartt,Hanes,Volcom,N...</td>\n",
       "      <td>products</td>\n",
       "      <td>\"The Look fictitious e-commerce dataset - prod...</td>\n",
       "      <td>Generate a new column name for a BigQuery colu...</td>\n",
       "      <td>product_brand</td>\n",
       "    </tr>\n",
       "    <tr>\n",
       "      <th>5</th>\n",
       "      <td>retail_price</td>\n",
       "      <td>FLOAT64</td>\n",
       "      <td>&lt;NA&gt;</td>\n",
       "      <td>25,29.989999771118164,19.989999771118164,39.99...</td>\n",
       "      <td>products</td>\n",
       "      <td>\"The Look fictitious e-commerce dataset - prod...</td>\n",
       "      <td>Generate a new column name for a BigQuery colu...</td>\n",
       "      <td>products_retail_price_float64</td>\n",
       "    </tr>\n",
       "    <tr>\n",
       "      <th>6</th>\n",
       "      <td>department</td>\n",
       "      <td>STRING</td>\n",
       "      <td>&lt;NA&gt;</td>\n",
       "      <td>Women,Men</td>\n",
       "      <td>products</td>\n",
       "      <td>\"The Look fictitious e-commerce dataset - prod...</td>\n",
       "      <td>Generate a new column name for a BigQuery colu...</td>\n",
       "      <td>products_department_gender</td>\n",
       "    </tr>\n",
       "    <tr>\n",
       "      <th>7</th>\n",
       "      <td>sku</td>\n",
       "      <td>STRING</td>\n",
       "      <td>&lt;NA&gt;</td>\n",
       "      <td>FFFCC1A3964B4AD665FA2F07D7BFD086,FFFB8EF15DE06...</td>\n",
       "      <td>products</td>\n",
       "      <td>\"The Look fictitious e-commerce dataset - prod...</td>\n",
       "      <td>Generate a new column name for a BigQuery colu...</td>\n",
       "      <td>product_sku</td>\n",
       "    </tr>\n",
       "    <tr>\n",
       "      <th>8</th>\n",
       "      <td>distribution_center_id</td>\n",
       "      <td>INT64</td>\n",
       "      <td>&lt;NA&gt;</td>\n",
       "      <td>2,1,3,8,4,9,7,6,5,10</td>\n",
       "      <td>products</td>\n",
       "      <td>\"The Look fictitious e-commerce dataset - prod...</td>\n",
       "      <td>Generate a new column name for a BigQuery colu...</td>\n",
       "      <td>products_distribution_center_id</td>\n",
       "    </tr>\n",
       "  </tbody>\n",
       "</table>\n",
       "<p>9 rows × 8 columns</p>\n",
       "</div>[9 rows x 8 columns in total]"
      ],
      "text/plain": [
       "              column_name data_type description  \\\n",
       "0                      id     INT64        <NA>   \n",
       "1                    cost   FLOAT64        <NA>   \n",
       "2                category    STRING        <NA>   \n",
       "3                    name    STRING        <NA>   \n",
       "4                   brand    STRING        <NA>   \n",
       "5            retail_price   FLOAT64        <NA>   \n",
       "6              department    STRING        <NA>   \n",
       "7                     sku    STRING        <NA>   \n",
       "8  distribution_center_id     INT64        <NA>   \n",
       "\n",
       "                                       column_sample table_name  \\\n",
       "0  29120,29119,29118,29117,29116,29115,29114,2911...   products   \n",
       "1  13.549999985843897,10.750000039115548,12.05000...   products   \n",
       "2  Intimates,Jeans,Tops & Tees,Fashion Hoodies & ...   products   \n",
       "3  Wrangler Men's Premium Performance Cowboy Cut ...   products   \n",
       "4  Allegra K,Calvin Klein,Carhartt,Hanes,Volcom,N...   products   \n",
       "5  25,29.989999771118164,19.989999771118164,39.99...   products   \n",
       "6                                          Women,Men   products   \n",
       "7  FFFCC1A3964B4AD665FA2F07D7BFD086,FFFB8EF15DE06...   products   \n",
       "8                               2,1,3,8,4,9,7,6,5,10   products   \n",
       "\n",
       "                                   table_description  \\\n",
       "0  \"The Look fictitious e-commerce dataset - prod...   \n",
       "1  \"The Look fictitious e-commerce dataset - prod...   \n",
       "2  \"The Look fictitious e-commerce dataset - prod...   \n",
       "3  \"The Look fictitious e-commerce dataset - prod...   \n",
       "4  \"The Look fictitious e-commerce dataset - prod...   \n",
       "5  \"The Look fictitious e-commerce dataset - prod...   \n",
       "6  \"The Look fictitious e-commerce dataset - prod...   \n",
       "7  \"The Look fictitious e-commerce dataset - prod...   \n",
       "8  \"The Look fictitious e-commerce dataset - prod...   \n",
       "\n",
       "                                         name_prompt  \\\n",
       "0  Generate a new column name for a BigQuery colu...   \n",
       "1  Generate a new column name for a BigQuery colu...   \n",
       "2  Generate a new column name for a BigQuery colu...   \n",
       "3  Generate a new column name for a BigQuery colu...   \n",
       "4  Generate a new column name for a BigQuery colu...   \n",
       "5  Generate a new column name for a BigQuery colu...   \n",
       "6  Generate a new column name for a BigQuery colu...   \n",
       "7  Generate a new column name for a BigQuery colu...   \n",
       "8  Generate a new column name for a BigQuery colu...   \n",
       "\n",
       "                    new_column_name  \n",
       "0                        product_id  \n",
       "1                      product_cost  \n",
       "2              products_category_v2  \n",
       "3                      product_name  \n",
       "4                     product_brand  \n",
       "5     products_retail_price_float64  \n",
       "6        products_department_gender  \n",
       "7                       product_sku  \n",
       "8   products_distribution_center_id  \n",
       "\n",
       "[9 rows x 8 columns]"
      ]
     },
     "execution_count": 29,
     "metadata": {},
     "output_type": "execute_result"
    }
   ],
   "source": [
    "products_columns"
   ]
  },
  {
   "cell_type": "markdown",
   "id": "1a702e5e-b3c7-49c5-b0c5-cc2d6f1a495f",
   "metadata": {},
   "source": [
    "### Generate New Column Description"
   ]
  },
  {
   "cell_type": "code",
   "execution_count": 41,
   "id": "8c18a2e1-c3c7-4dc1-beef-1aa5ba43da47",
   "metadata": {},
   "outputs": [],
   "source": [
    "products_columns = products_columns.drop(columns = 'new_column_description')"
   ]
  },
  {
   "cell_type": "code",
   "execution_count": 42,
   "id": "d73a7c7e-0765-4c7a-a523-c0fb4436a7bf",
   "metadata": {},
   "outputs": [
    {
     "data": {
      "application/vnd.jupyter.widget-view+json": {
       "model_id": "02d3420216904f94b2447adbe7685018",
       "version_major": 2,
       "version_minor": 0
      },
      "text/plain": [
       "HTML(value='Query job 893a752a-097b-4753-aa42-c67358b8006e is RUNNING. <a target=\"_blank\" href=\"https://consol…"
      ]
     },
     "metadata": {},
     "output_type": "display_data"
    },
    {
     "data": {
      "application/vnd.jupyter.widget-view+json": {
       "model_id": "647b8550fa644d2dbdfeb2f32ac7d7ba",
       "version_major": 2,
       "version_minor": 0
      },
      "text/plain": [
       "HTML(value='Query job d30d69b8-aae7-42ec-b4f2-c1d0bf566966 is DONE. 72 Bytes processed. <a target=\"_blank\" hre…"
      ]
     },
     "metadata": {},
     "output_type": "display_data"
    }
   ],
   "source": [
    "products_columns = products_columns.join(textgen_model.predict(\n",
    "    'The context for a BigQuery table column follows. '\n",
    "    + 'The column name is ' + products_columns['new_column_name'] + '. '\n",
    "    + 'The table has the name ' + products_columns['table_name'] + '. '\n",
    "    + 'The column has a datatype of ' + products_columns['data_type'] + ' with common values like: ' + products_columns['column_sample'] + '. '\n",
    "    + 'Generate a description the column.'\n",
    ").rename(columns={'ml_generate_text_llm_result':'new_column_description'}))"
   ]
  },
  {
   "cell_type": "code",
   "execution_count": 43,
   "id": "810336ae-8841-4a06-8e90-96b446ad722f",
   "metadata": {},
   "outputs": [
    {
     "data": {
      "application/vnd.jupyter.widget-view+json": {
       "model_id": "60f09c13f5a34be9b3208523e4cad6c1",
       "version_major": 2,
       "version_minor": 0
      },
      "text/plain": [
       "HTML(value='Query job c33d322c-7fd0-4312-a493-e7fd4844005d is DONE. 680 Bytes processed. <a target=\"_blank\" hr…"
      ]
     },
     "metadata": {},
     "output_type": "display_data"
    },
    {
     "data": {
      "application/vnd.jupyter.widget-view+json": {
       "model_id": "afb716f330cc407c923570587a9fe213",
       "version_major": 2,
       "version_minor": 0
      },
      "text/plain": [
       "HTML(value='Query job 9e781a42-4cbb-4e2e-ad46-837161ff0684 is DONE. 4.7 kB processed. <a target=\"_blank\" href=…"
      ]
     },
     "metadata": {},
     "output_type": "display_data"
    },
    {
     "data": {
      "application/vnd.jupyter.widget-view+json": {
       "model_id": "3a0f42f96ad94fc7aaee9d11c99dfa22",
       "version_major": 2,
       "version_minor": 0
      },
      "text/plain": [
       "HTML(value='Query job 41784ce6-5683-450f-ac88-2bdb4ae88abd is DONE. 0 Bytes processed. <a target=\"_blank\" href…"
      ]
     },
     "metadata": {},
     "output_type": "display_data"
    },
    {
     "data": {
      "text/html": [
       "<div>\n",
       "<style scoped>\n",
       "    .dataframe tbody tr th:only-of-type {\n",
       "        vertical-align: middle;\n",
       "    }\n",
       "\n",
       "    .dataframe tbody tr th {\n",
       "        vertical-align: top;\n",
       "    }\n",
       "\n",
       "    .dataframe thead th {\n",
       "        text-align: right;\n",
       "    }\n",
       "</style>\n",
       "<table border=\"1\" class=\"dataframe\">\n",
       "  <thead>\n",
       "    <tr style=\"text-align: right;\">\n",
       "      <th></th>\n",
       "      <th>column_name</th>\n",
       "      <th>data_type</th>\n",
       "      <th>description</th>\n",
       "      <th>column_sample</th>\n",
       "      <th>table_name</th>\n",
       "      <th>table_description</th>\n",
       "      <th>name_prompt</th>\n",
       "      <th>new_column_name</th>\n",
       "      <th>new_column_description</th>\n",
       "    </tr>\n",
       "  </thead>\n",
       "  <tbody>\n",
       "    <tr>\n",
       "      <th>0</th>\n",
       "      <td>id</td>\n",
       "      <td>INT64</td>\n",
       "      <td>&lt;NA&gt;</td>\n",
       "      <td>29120,29119,29118,29117,29116,29115,29114,2911...</td>\n",
       "      <td>products</td>\n",
       "      <td>\"The Look fictitious e-commerce dataset - prod...</td>\n",
       "      <td>Generate a new column name for a BigQuery colu...</td>\n",
       "      <td>product_id</td>\n",
       "      <td>product_id is a column in the products table....</td>\n",
       "    </tr>\n",
       "    <tr>\n",
       "      <th>1</th>\n",
       "      <td>cost</td>\n",
       "      <td>FLOAT64</td>\n",
       "      <td>&lt;NA&gt;</td>\n",
       "      <td>13.549999985843897,10.750000039115548,12.05000...</td>\n",
       "      <td>products</td>\n",
       "      <td>\"The Look fictitious e-commerce dataset - prod...</td>\n",
       "      <td>Generate a new column name for a BigQuery colu...</td>\n",
       "      <td>product_cost</td>\n",
       "      <td>product_cost is a column in the products tabl...</td>\n",
       "    </tr>\n",
       "    <tr>\n",
       "      <th>2</th>\n",
       "      <td>category</td>\n",
       "      <td>STRING</td>\n",
       "      <td>&lt;NA&gt;</td>\n",
       "      <td>Intimates,Jeans,Tops &amp; Tees,Fashion Hoodies &amp; ...</td>\n",
       "      <td>products</td>\n",
       "      <td>\"The Look fictitious e-commerce dataset - prod...</td>\n",
       "      <td>Generate a new column name for a BigQuery colu...</td>\n",
       "      <td>products_category_v2</td>\n",
       "      <td>products_category_v2 column in the products t...</td>\n",
       "    </tr>\n",
       "    <tr>\n",
       "      <th>3</th>\n",
       "      <td>name</td>\n",
       "      <td>STRING</td>\n",
       "      <td>&lt;NA&gt;</td>\n",
       "      <td>Wrangler Men's Premium Performance Cowboy Cut ...</td>\n",
       "      <td>products</td>\n",
       "      <td>\"The Look fictitious e-commerce dataset - prod...</td>\n",
       "      <td>Generate a new column name for a BigQuery colu...</td>\n",
       "      <td>product_name</td>\n",
       "      <td>product_name: The name of the product. Exampl...</td>\n",
       "    </tr>\n",
       "    <tr>\n",
       "      <th>4</th>\n",
       "      <td>brand</td>\n",
       "      <td>STRING</td>\n",
       "      <td>&lt;NA&gt;</td>\n",
       "      <td>Allegra K,Calvin Klein,Carhartt,Hanes,Volcom,N...</td>\n",
       "      <td>products</td>\n",
       "      <td>\"The Look fictitious e-commerce dataset - prod...</td>\n",
       "      <td>Generate a new column name for a BigQuery colu...</td>\n",
       "      <td>product_brand</td>\n",
       "      <td>product_brand column in the products table co...</td>\n",
       "    </tr>\n",
       "    <tr>\n",
       "      <th>5</th>\n",
       "      <td>retail_price</td>\n",
       "      <td>FLOAT64</td>\n",
       "      <td>&lt;NA&gt;</td>\n",
       "      <td>25,29.989999771118164,19.989999771118164,39.99...</td>\n",
       "      <td>products</td>\n",
       "      <td>\"The Look fictitious e-commerce dataset - prod...</td>\n",
       "      <td>Generate a new column name for a BigQuery colu...</td>\n",
       "      <td>products_retail_price_float64</td>\n",
       "      <td>The products_retail_price_float64 column in t...</td>\n",
       "    </tr>\n",
       "    <tr>\n",
       "      <th>6</th>\n",
       "      <td>department</td>\n",
       "      <td>STRING</td>\n",
       "      <td>&lt;NA&gt;</td>\n",
       "      <td>Women,Men</td>\n",
       "      <td>products</td>\n",
       "      <td>\"The Look fictitious e-commerce dataset - prod...</td>\n",
       "      <td>Generate a new column name for a BigQuery colu...</td>\n",
       "      <td>products_department_gender</td>\n",
       "      <td>The products_department_gender column in the ...</td>\n",
       "    </tr>\n",
       "    <tr>\n",
       "      <th>7</th>\n",
       "      <td>sku</td>\n",
       "      <td>STRING</td>\n",
       "      <td>&lt;NA&gt;</td>\n",
       "      <td>FFFCC1A3964B4AD665FA2F07D7BFD086,FFFB8EF15DE06...</td>\n",
       "      <td>products</td>\n",
       "      <td>\"The Look fictitious e-commerce dataset - prod...</td>\n",
       "      <td>Generate a new column name for a BigQuery colu...</td>\n",
       "      <td>product_sku</td>\n",
       "      <td>product_sku is a column in the products table...</td>\n",
       "    </tr>\n",
       "    <tr>\n",
       "      <th>8</th>\n",
       "      <td>distribution_center_id</td>\n",
       "      <td>INT64</td>\n",
       "      <td>&lt;NA&gt;</td>\n",
       "      <td>2,1,3,8,4,9,7,6,5,10</td>\n",
       "      <td>products</td>\n",
       "      <td>\"The Look fictitious e-commerce dataset - prod...</td>\n",
       "      <td>Generate a new column name for a BigQuery colu...</td>\n",
       "      <td>products_distribution_center_id</td>\n",
       "      <td>The products_distribution_center_id column in...</td>\n",
       "    </tr>\n",
       "  </tbody>\n",
       "</table>\n",
       "<p>9 rows × 9 columns</p>\n",
       "</div>[9 rows x 9 columns in total]"
      ],
      "text/plain": [
       "              column_name data_type description  \\\n",
       "0                      id     INT64        <NA>   \n",
       "1                    cost   FLOAT64        <NA>   \n",
       "2                category    STRING        <NA>   \n",
       "3                    name    STRING        <NA>   \n",
       "4                   brand    STRING        <NA>   \n",
       "5            retail_price   FLOAT64        <NA>   \n",
       "6              department    STRING        <NA>   \n",
       "7                     sku    STRING        <NA>   \n",
       "8  distribution_center_id     INT64        <NA>   \n",
       "\n",
       "                                       column_sample table_name  \\\n",
       "0  29120,29119,29118,29117,29116,29115,29114,2911...   products   \n",
       "1  13.549999985843897,10.750000039115548,12.05000...   products   \n",
       "2  Intimates,Jeans,Tops & Tees,Fashion Hoodies & ...   products   \n",
       "3  Wrangler Men's Premium Performance Cowboy Cut ...   products   \n",
       "4  Allegra K,Calvin Klein,Carhartt,Hanes,Volcom,N...   products   \n",
       "5  25,29.989999771118164,19.989999771118164,39.99...   products   \n",
       "6                                          Women,Men   products   \n",
       "7  FFFCC1A3964B4AD665FA2F07D7BFD086,FFFB8EF15DE06...   products   \n",
       "8                               2,1,3,8,4,9,7,6,5,10   products   \n",
       "\n",
       "                                   table_description  \\\n",
       "0  \"The Look fictitious e-commerce dataset - prod...   \n",
       "1  \"The Look fictitious e-commerce dataset - prod...   \n",
       "2  \"The Look fictitious e-commerce dataset - prod...   \n",
       "3  \"The Look fictitious e-commerce dataset - prod...   \n",
       "4  \"The Look fictitious e-commerce dataset - prod...   \n",
       "5  \"The Look fictitious e-commerce dataset - prod...   \n",
       "6  \"The Look fictitious e-commerce dataset - prod...   \n",
       "7  \"The Look fictitious e-commerce dataset - prod...   \n",
       "8  \"The Look fictitious e-commerce dataset - prod...   \n",
       "\n",
       "                                         name_prompt  \\\n",
       "0  Generate a new column name for a BigQuery colu...   \n",
       "1  Generate a new column name for a BigQuery colu...   \n",
       "2  Generate a new column name for a BigQuery colu...   \n",
       "3  Generate a new column name for a BigQuery colu...   \n",
       "4  Generate a new column name for a BigQuery colu...   \n",
       "5  Generate a new column name for a BigQuery colu...   \n",
       "6  Generate a new column name for a BigQuery colu...   \n",
       "7  Generate a new column name for a BigQuery colu...   \n",
       "8  Generate a new column name for a BigQuery colu...   \n",
       "\n",
       "                    new_column_name  \\\n",
       "0                        product_id   \n",
       "1                      product_cost   \n",
       "2              products_category_v2   \n",
       "3                      product_name   \n",
       "4                     product_brand   \n",
       "5     products_retail_price_float64   \n",
       "6        products_department_gender   \n",
       "7                       product_sku   \n",
       "8   products_distribution_center_id   \n",
       "\n",
       "                              new_column_description  \n",
       "0   product_id is a column in the products table....  \n",
       "1   product_cost is a column in the products tabl...  \n",
       "2   products_category_v2 column in the products t...  \n",
       "3   product_name: The name of the product. Exampl...  \n",
       "4   product_brand column in the products table co...  \n",
       "5   The products_retail_price_float64 column in t...  \n",
       "6   The products_department_gender column in the ...  \n",
       "7   product_sku is a column in the products table...  \n",
       "8   The products_distribution_center_id column in...  \n",
       "\n",
       "[9 rows x 9 columns]"
      ]
     },
     "execution_count": 43,
     "metadata": {},
     "output_type": "execute_result"
    }
   ],
   "source": [
    "products_columns"
   ]
  },
  {
   "cell_type": "markdown",
   "id": "629cac18-fc30-420f-8ebc-095e313b62b1",
   "metadata": {},
   "source": [
    "### Generate New Table Description"
   ]
  },
  {
   "cell_type": "markdown",
   "id": "d6ad2ae7-ed1f-4bbc-a892-deaadd1fd726",
   "metadata": {},
   "source": [
    "Convert selected column for schema into a markdown table for including in the prompt:"
   ]
  },
  {
   "cell_type": "code",
   "execution_count": 58,
   "id": "c3c9d2c1-1eb0-4c40-9dde-3e88ab2753c1",
   "metadata": {},
   "outputs": [
    {
     "data": {
      "application/vnd.jupyter.widget-view+json": {
       "model_id": "d73264f8a6104191be4ae31200130523",
       "version_major": 2,
       "version_minor": 0
      },
      "text/plain": [
       "HTML(value='Query job c508e6dc-962f-43bb-b131-95bc6420103a is DONE. 0 Bytes processed. <a target=\"_blank\" href…"
      ]
     },
     "metadata": {},
     "output_type": "display_data"
    }
   ],
   "source": [
    "markdown = products_columns[['new_column_name', 'new_column_description', 'data_type']].rename(columns = {'new_column_name':'column_name', 'new_column_description':'description'}).to_pandas().to_markdown(index = False)"
   ]
  },
  {
   "cell_type": "markdown",
   "id": "cf9f3e7b-055c-4aca-a89d-4ad806a9dae7",
   "metadata": {},
   "source": [
    "Review the markdown table:"
   ]
  },
  {
   "cell_type": "code",
   "execution_count": 59,
   "id": "18d44c57-db8b-4b03-8b7c-8afb47e68917",
   "metadata": {},
   "outputs": [
    {
     "data": {
      "text/markdown": [
       "| column_name                     | description                                                                                                                                                                                                                                                                                                                                                                                                                                                              | data_type   |\n",
       "|:--------------------------------|:-------------------------------------------------------------------------------------------------------------------------------------------------------------------------------------------------------------------------------------------------------------------------------------------------------------------------------------------------------------------------------------------------------------------------------------------------------------------------|:------------|\n",
       "| product_id                      | product_id is a column in the products table. The column is of type INT64 and has values like 29120,29119,29118,29117,29116,29115,29114,29113,29112,29111. The column likely represents the unique identifier for each product in the table.                                                                                                                                                                                                                             | INT64       |\n",
       "| product_cost                    | product_cost is a column in the products table. The column contains FLOAT64 values representing the cost of each product. Example values include 13.549999985843897, 10.750000039115548, and 12.05000001937151.                                                                                                                                                                                                                                                          | FLOAT64     |\n",
       "| products_category_v2            | products_category_v2 column in the products table contains product category information. The column is of type STRING and contains values such as Intimates, Jeans, Tops & Tees, Fashion Hoodies & Sweatshirts, Swim, Sleep & Lounge, Shorts, Sweaters, Accessories, and Active.                                                                                                                                                                                         | STRING      |\n",
       "| product_name                    | product_name: The name of the product. Examples: Wrangler Men's Premium Performance Cowboy Cut Jean,Wrangler Men's Rugged Wear Classic Fit Jean,True Religion Men's Ricky Straight Jean,Thorlo Unisex Experia Running Sock,Puma Men's Socks,Pearl iZUMi Attack Sock 3-Pack,Fruit of the Loom Women's 6-Pack Crew Socks,7 For All Mankind Men's Standard Classic Straight Leg Jean,Wrangler Men's Wrancher Dress Jean,Wrangler Men's Original Cowboy Cut Relaxed Fit Jean | STRING      |\n",
       "| product_brand                   | product_brand column in the products table contains STRING data and captures the brand name of the product. Example values include: Allegra K, Calvin Klein, Carhartt, Hanes, Volcom, Nautica, Levi's, Quiksilver, Tommy Hilfiger, Columbia.                                                                                                                                                                                                                             | STRING      |\n",
       "| products_retail_price_float64   | The products_retail_price_float64 column in the products table contains the retail price of each product in US dollars. The column has a datatype of FLOAT64 and contains values like 25, 29.99, 19.99, 39.99, 49.99, 24.99, 34.99, 49.5, 50, and 55.                                                                                                                                                                                                                    | FLOAT64     |\n",
       "| products_department_gender      | The products_department_gender column in the products table stores the department and gender that a product belongs to. The column has a datatype of STRING and common values include \"Women\" and \"Men\". This column can be used to filter products by department or gender, or to create reports on product sales by department or gender.                                                                                                                              | STRING      |\n",
       "| product_sku                     | product_sku is a column in the products table. It is a string column with values that are product SKUs.                                                                                                                                                                                                                                                                                                                                                                  | STRING      |\n",
       "| products_distribution_center_id | The products_distribution_center_id column in the products table is an INT64 data type. The column contains the ID of the distribution center where the product is stored. The most common values for this column are 2, 1, 3, 8, 4, 9, 7, 6, 5, and 10.                                                                                                                                                                                                                 | INT64       |"
      ],
      "text/plain": [
       "<IPython.core.display.Markdown object>"
      ]
     },
     "execution_count": 59,
     "metadata": {},
     "output_type": "execute_result"
    }
   ],
   "source": [
    "Markdown(markdown)"
   ]
  },
  {
   "cell_type": "markdown",
   "id": "5bee2e0c-b2a6-48bf-9e69-9ac963080ba6",
   "metadata": {},
   "source": [
    "Generate the table description:"
   ]
  },
  {
   "cell_type": "code",
   "execution_count": 60,
   "id": "64b73260-bb68-4ddd-b938-4a25a8fe9760",
   "metadata": {},
   "outputs": [
    {
     "data": {
      "application/vnd.jupyter.widget-view+json": {
       "model_id": "b1d4e49bb0d844d58f16d295522472fe",
       "version_major": 2,
       "version_minor": 0
      },
      "text/plain": [
       "HTML(value='Load job 8a6a0809-72f3-4be4-b54b-e1ba767ac781 is RUNNING. <a target=\"_blank\" href=\"https://console…"
      ]
     },
     "metadata": {},
     "output_type": "display_data"
    },
    {
     "data": {
      "application/vnd.jupyter.widget-view+json": {
       "model_id": "19c95d4ce6c04bbfbe27f5443ab1e5c0",
       "version_major": 2,
       "version_minor": 0
      },
      "text/plain": [
       "HTML(value='Query job c97c3b7e-eeff-41a7-91c4-d23453c6e78b is RUNNING. <a target=\"_blank\" href=\"https://consol…"
      ]
     },
     "metadata": {},
     "output_type": "display_data"
    },
    {
     "data": {
      "application/vnd.jupyter.widget-view+json": {
       "model_id": "a84e754418c3407caddb11fa88caa121",
       "version_major": 2,
       "version_minor": 0
      },
      "text/plain": [
       "HTML(value='Query job f3218cb3-17cf-4ed2-bfae-861cd2dc3f00 is DONE. 8 Bytes processed. <a target=\"_blank\" href…"
      ]
     },
     "metadata": {},
     "output_type": "display_data"
    },
    {
     "data": {
      "application/vnd.jupyter.widget-view+json": {
       "model_id": "1b77659185a94d05b5e97eeb1fd17b1e",
       "version_major": 2,
       "version_minor": 0
      },
      "text/plain": [
       "HTML(value='Query job 58c9657a-65cc-41dc-abf1-3d3ee927feff is DONE. 285 Bytes processed. <a target=\"_blank\" hr…"
      ]
     },
     "metadata": {},
     "output_type": "display_data"
    },
    {
     "data": {
      "text/markdown": [
       " The products table contains information about products, including product id, cost, category, name, brand, retail price, department and gender, SKU, and distribution center ID. The table can be used to analyze product sales, track inventory, and manage product distribution."
      ],
      "text/plain": [
       "<IPython.core.display.Markdown object>"
      ]
     },
     "execution_count": 60,
     "metadata": {},
     "output_type": "execute_result"
    }
   ],
   "source": [
    "Markdown(textgen_model.predict(bf.DataFrame({ \"prompt\": [\n",
    "f\"\"\"Generate a description for the BigQuery table with schema:\n",
    "{markdown}\n",
    "\"\"\"\n",
    "],})).ml_generate_text_llm_result.iloc[0])"
   ]
  },
  {
   "cell_type": "markdown",
   "id": "e4686305-0ba7-473c-96df-ce6bbe1474a7",
   "metadata": {},
   "source": [
    "## Create A New Table With The Updated Metadata"
   ]
  },
  {
   "cell_type": "code",
   "execution_count": null,
   "id": "f054bab3-6a07-4417-b270-29ce78eec3fa",
   "metadata": {},
   "outputs": [],
   "source": []
  },
  {
   "cell_type": "code",
   "execution_count": null,
   "id": "242bbb0a-bec3-4c11-8e64-33a8ad24f4d6",
   "metadata": {},
   "outputs": [],
   "source": []
  },
  {
   "cell_type": "code",
   "execution_count": null,
   "id": "0d67a673-2bcc-4b22-84a2-749e0d137022",
   "metadata": {},
   "outputs": [],
   "source": []
  },
  {
   "cell_type": "code",
   "execution_count": null,
   "id": "2c197f7b-1cdb-4461-8795-58b416550a23",
   "metadata": {},
   "outputs": [],
   "source": []
  },
  {
   "cell_type": "code",
   "execution_count": null,
   "id": "70024989-0f0e-444f-81da-f534fb67a0d1",
   "metadata": {},
   "outputs": [],
   "source": []
  },
  {
   "cell_type": "code",
   "execution_count": null,
   "id": "5bacf29d-2ede-448c-a66f-45d8841f9e40",
   "metadata": {},
   "outputs": [],
   "source": []
  }
 ],
 "metadata": {
  "environment": {
   "kernel": "python3",
   "name": "tf2-gpu.2-12.m110",
   "type": "gcloud",
   "uri": "gcr.io/deeplearning-platform-release/tf2-gpu.2-12:m110"
  },
  "kernelspec": {
   "display_name": "Python 3",
   "language": "python",
   "name": "python3"
  },
  "language_info": {
   "codemirror_mode": {
    "name": "ipython",
    "version": 3
   },
   "file_extension": ".py",
   "mimetype": "text/x-python",
   "name": "python",
   "nbconvert_exporter": "python",
   "pygments_lexer": "ipython3",
   "version": "3.10.12"
  }
 },
 "nbformat": 4,
 "nbformat_minor": 5
}
