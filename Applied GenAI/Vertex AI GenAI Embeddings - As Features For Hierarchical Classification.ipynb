{
 "cells": [
  {
   "cell_type": "markdown",
   "id": "eec4925c-fec5-46d7-8abe-c8a60b8831dd",
   "metadata": {},
   "source": [
    "# Vertex AI GenAI Embeddings - As Features For Hierarchical Classification\n",
    "\n",
    "**IN DEVELOPMENT**\n",
    "\n",
    "Embeddings are vector representations of text or images or both.  These are vectors of floating point numbers that come from a model that has been trained to embed content in a way that efficiently represents the content.\n",
    "\n",
    "Getting embeddings for text, or multimodel text and images using Vetex AI foundational models is demonstrated in notebook []().\n",
    "\n",
    "This notebook show a use case for embeddings as features. \n",
    "\n",
    "\n",
    "Workflow:\n",
    "- Review product catelog data in BigQuery Public table: `bigquery-public-data.thelook_ecommerce.products`\n",
    "- Create a table with embeddings for:\n",
    "    - `name` = A brief description of the product\n",
    "    - `department` = The first level of the product catelog\n",
    "    - `category` = The second level of the product catelog\n",
    "- Setup BigQuery Resource Connection\n",
    "- Use ML.* to generate embeddings using Vertex AI\n"
   ]
  },
  {
   "cell_type": "markdown",
   "id": "bd6f8c33-3779-426e-bf52-ce2197644caa",
   "metadata": {},
   "source": [
    "---\n",
    "## Setup"
   ]
  },
  {
   "cell_type": "code",
   "execution_count": 1,
   "id": "323b29b5-d304-4e2e-a706-31404680e35e",
   "metadata": {},
   "outputs": [
    {
     "data": {
      "text/plain": [
       "'statmike-mlops-349915'"
      ]
     },
     "execution_count": 1,
     "metadata": {},
     "output_type": "execute_result"
    }
   ],
   "source": [
    "project = !gcloud config get-value project\n",
    "PROJECT_ID = project[0]\n",
    "PROJECT_ID"
   ]
  },
  {
   "cell_type": "code",
   "execution_count": 10,
   "id": "eb43141d-1ea2-4c31-99e8-8662f16f01fa",
   "metadata": {},
   "outputs": [],
   "source": [
    "REGION = 'us-central1'\n",
    "SERIES = 'applied-genai'\n",
    "EXPERIMENT = 'embed-feature-classifier'"
   ]
  },
  {
   "cell_type": "code",
   "execution_count": 11,
   "id": "0a4758ed-99f7-486c-a98e-83652c8e7bef",
   "metadata": {},
   "outputs": [],
   "source": [
    "# make this the BQ Project / Dataset / Table prefix to store results\n",
    "BQ_PROJECT = PROJECT_ID\n",
    "BQ_DATASET = SERIES.replace('-', '_')\n",
    "BQ_TABLE = EXPERIMENT\n",
    "BQ_REGION = REGION[0:2] # subset to first two characters for multi-region"
   ]
  },
  {
   "cell_type": "code",
   "execution_count": 269,
   "id": "c22a504a-8b1c-485f-bc16-2371720d7cb0",
   "metadata": {},
   "outputs": [],
   "source": [
    "import json\n",
    "import numpy as np\n",
    "import vertexai.language_models\n",
    "import bigframes.pandas as bf\n",
    "import bigframes.ml as bfml\n",
    "from bigframes.ml import llm\n",
    "from bigframes.ml import model_selection\n",
    "from bigframes.ml import ensemble\n",
    "from google.cloud import bigquery_connection_v1 as bq_connection\n",
    "from google.cloud import bigquery"
   ]
  },
  {
   "cell_type": "code",
   "execution_count": 69,
   "id": "92324af5-0ca1-4ed6-9f92-f161e1739268",
   "metadata": {},
   "outputs": [],
   "source": [
    "vertexai.init(project = PROJECT_ID, location = REGION)\n",
    "bq = bigquery.Client(project = PROJECT_ID)\n",
    "bf.reset_session()\n",
    "bf.options.bigquery.project = BQ_PROJECT\n",
    "bf.options.bigquery.location = BQ_REGION\n",
    "bf_session = bf.get_global_session()"
   ]
  },
  {
   "cell_type": "markdown",
   "id": "9ab05d84-1de3-4afd-b9bd-116810198838",
   "metadata": {},
   "source": [
    "---\n",
    "## Review Data Source\n",
    "\n",
    "BigQuery Public table `bigquery-public-data.thelook_ecommerce.products`."
   ]
  },
  {
   "cell_type": "code",
   "execution_count": 143,
   "id": "7e78a051-5a00-4e9f-b267-4fa4f9bf52ef",
   "metadata": {},
   "outputs": [
    {
     "data": {
      "application/vnd.jupyter.widget-view+json": {
       "model_id": "c9252ed828fb43f79edb954f073024bd",
       "version_major": 2,
       "version_minor": 0
      },
      "text/plain": [
       "HTML(value='Query job cdad59d2-99e9-4838-b83c-6c4fcde61a37 is RUNNING. <a target=\"_blank\" href=\"https://consol…"
      ]
     },
     "metadata": {},
     "output_type": "display_data"
    }
   ],
   "source": [
    "products = bf.read_gbq('bigquery-public-data.thelook_ecommerce.products')"
   ]
  },
  {
   "cell_type": "code",
   "execution_count": 144,
   "id": "a6ffd238-bcf6-49c7-836c-ac88c2237b13",
   "metadata": {},
   "outputs": [
    {
     "data": {
      "text/plain": [
       "id                                  Int64\n",
       "cost                              Float64\n",
       "category                  string[pyarrow]\n",
       "name                      string[pyarrow]\n",
       "brand                     string[pyarrow]\n",
       "retail_price                      Float64\n",
       "department                string[pyarrow]\n",
       "sku                       string[pyarrow]\n",
       "distribution_center_id              Int64\n",
       "dtype: object"
      ]
     },
     "execution_count": 144,
     "metadata": {},
     "output_type": "execute_result"
    }
   ],
   "source": [
    "products.dtypes"
   ]
  },
  {
   "cell_type": "code",
   "execution_count": 145,
   "id": "513a1d7c-1101-4179-b519-5f01d005ab91",
   "metadata": {},
   "outputs": [
    {
     "data": {
      "application/vnd.jupyter.widget-view+json": {
       "model_id": "9926a10cef214a6db45a238464500bce",
       "version_major": 2,
       "version_minor": 0
      },
      "text/plain": [
       "HTML(value='Query job d8ac6f5b-2ada-4ae1-a689-1dfddd252e81 is DONE. 410.5 kB processed. <a target=\"_blank\" hre…"
      ]
     },
     "metadata": {},
     "output_type": "display_data"
    },
    {
     "data": {
      "text/plain": [
       "['Men', 'Women']"
      ]
     },
     "execution_count": 145,
     "metadata": {},
     "output_type": "execute_result"
    }
   ],
   "source": [
    "products['department'].unique().tolist()"
   ]
  },
  {
   "cell_type": "code",
   "execution_count": 146,
   "id": "59b801c6-880a-4709-8c1a-5a26c75c1c45",
   "metadata": {},
   "outputs": [
    {
     "data": {
      "application/vnd.jupyter.widget-view+json": {
       "model_id": "4545a3d0fa9647d4ad27d4ff13701371",
       "version_major": 2,
       "version_minor": 0
      },
      "text/plain": [
       "HTML(value='Query job 4232e82f-71a9-4270-a0f2-f7a62af48387 is DONE. 594.2 kB processed. <a target=\"_blank\" hre…"
      ]
     },
     "metadata": {},
     "output_type": "display_data"
    },
    {
     "data": {
      "text/plain": [
       "['Swim',\n",
       " 'Jeans',\n",
       " 'Pants',\n",
       " 'Socks',\n",
       " 'Active',\n",
       " 'Shorts',\n",
       " 'Sweaters',\n",
       " 'Underwear',\n",
       " 'Accessories',\n",
       " 'Tops & Tees',\n",
       " 'Sleep & Lounge',\n",
       " 'Outerwear & Coats',\n",
       " 'Suits & Sport Coats',\n",
       " 'Fashion Hoodies & Sweatshirts',\n",
       " 'Plus',\n",
       " 'Suits',\n",
       " 'Skirts',\n",
       " 'Dresses',\n",
       " 'Leggings',\n",
       " 'Intimates',\n",
       " 'Maternity',\n",
       " 'Clothing Sets',\n",
       " 'Pants & Capris',\n",
       " 'Socks & Hosiery',\n",
       " 'Blazers & Jackets',\n",
       " 'Jumpsuits & Rompers']"
      ]
     },
     "execution_count": 146,
     "metadata": {},
     "output_type": "execute_result"
    }
   ],
   "source": [
    "products['category'].unique().tolist()"
   ]
  },
  {
   "cell_type": "code",
   "execution_count": 147,
   "id": "b50c61d6-4015-4a76-92d6-a3017b3e67ca",
   "metadata": {},
   "outputs": [
    {
     "data": {
      "application/vnd.jupyter.widget-view+json": {
       "model_id": "410cfa14cc81497ea6b221c5d8ac0207",
       "version_major": 2,
       "version_minor": 0
      },
      "text/plain": [
       "HTML(value='Query job 2c686d1a-c88c-41ba-b54d-37973a3bfff8 is DONE. 233.0 kB processed. <a target=\"_blank\" hre…"
      ]
     },
     "metadata": {},
     "output_type": "display_data"
    },
    {
     "data": {
      "application/vnd.jupyter.widget-view+json": {
       "model_id": "7546065cfd6e49d6abd02eb22f73de10",
       "version_major": 2,
       "version_minor": 0
      },
      "text/plain": [
       "HTML(value='Query job 353b34a5-78ac-4a57-bf19-8dd6bd8b91f1 is DONE. 1.7 MB processed. <a target=\"_blank\" href=…"
      ]
     },
     "metadata": {},
     "output_type": "display_data"
    },
    {
     "data": {
      "text/plain": [
       "0       2XU Men's Swimmers Compression Long Sleeve Top\n",
       "1           TYR Sport Men's Square Leg Short Swim Suit\n",
       "2      TYR Sport Men's Solid Durafast Jammer Swim Suit\n",
       "3    TYR Sport Men's Swim Short/Resistance Short Sw...\n",
       "4                      TYR Alliance Team Splice Jammer\n",
       "Name: name, dtype: string"
      ]
     },
     "execution_count": 147,
     "metadata": {},
     "output_type": "execute_result"
    }
   ],
   "source": [
    "products['name'].head()"
   ]
  },
  {
   "cell_type": "markdown",
   "id": "27a7d9a1-8ed7-4d73-9ad2-be8f052519a8",
   "metadata": {},
   "source": [
    "---\n",
    "## Create BigQuery Dataset"
   ]
  },
  {
   "cell_type": "code",
   "execution_count": 148,
   "id": "99eed461-619c-4ea7-8954-0714aa645490",
   "metadata": {},
   "outputs": [],
   "source": [
    "# create/link to dataset\n",
    "ds = bigquery.DatasetReference(BQ_PROJECT, BQ_DATASET)\n",
    "ds.location = BQ_REGION\n",
    "ds.labels = {'series': f'{SERIES}'}\n",
    "ds = bq.create_dataset(dataset = ds, exists_ok = True) "
   ]
  },
  {
   "cell_type": "markdown",
   "id": "0800ce2c-fb7e-43e1-bdb5-523017c61b17",
   "metadata": {},
   "source": [
    "---\n",
    "## BigQuery ML: Connect To Vertex AI LLMs with ML.GENERATE_TEXT\n",
    "\n",
    "BigQuery ML can `Create Model`s that are actually connections to Remote Models. [Reference](https://cloud.google.com/bigquery/docs/reference/standard-sql/bigqueryml-syntax-create-remote-model)\n",
    "\n",
    "Using the `REMOTE_SERVICE_TYPE = \"CLOUD_AI_LARGE_LANGUAGE_MODEL_V1\"` option will link to LLMs in Vertex AI!"
   ]
  },
  {
   "cell_type": "markdown",
   "id": "9aa0fcfb-b6ed-420a-90b3-983eb2cb9c09",
   "metadata": {},
   "source": [
    "### Connection Requirement\n",
    "\n",
    "To make a remote connection using BigQuery ML, BigQuery uses a CLOUD_RESOURCE connection. [Reference](https://cloud.google.com/bigquery/docs/reference/standard-sql/bigqueryml-syntax-create-remote-model#connection)"
   ]
  },
  {
   "cell_type": "markdown",
   "id": "af31ea08-83ea-40dc-af75-0dacc0f0b6ff",
   "metadata": {},
   "source": [
    "Make sure the [BigQuery Connection API](https://cloud.google.com/bigquery/docs/create-cloud-resource-connection) is enabled:"
   ]
  },
  {
   "cell_type": "code",
   "execution_count": 149,
   "id": "3af08cef-bf4b-46eb-adfd-fdba02d28e9b",
   "metadata": {},
   "outputs": [],
   "source": [
    "!gcloud services enable bigqueryconnection.googleapis.com"
   ]
  },
  {
   "cell_type": "markdown",
   "id": "3030c2d6-12e8-4f13-9259-9fed91819c6c",
   "metadata": {},
   "source": [
    "Create a new connection with type `CLOUD_RESOURCE`: First, check for existing connection."
   ]
  },
  {
   "cell_type": "code",
   "execution_count": 152,
   "id": "9241c229-de5a-43b0-b00e-9ca5d2fc1bb9",
   "metadata": {
    "scrolled": true,
    "tags": []
   },
   "outputs": [
    {
     "name": "stdout",
     "output_type": "stream",
     "text": [
      "Created new connection with service account: bqcx-1026793852137-pdxa@gcp-sa-bigquery-condel.iam.gserviceaccount.com\n",
      "Updated IAM policy for project [statmike-mlops-349915].\n",
      "bindings:\n",
      "- members:\n",
      "  - serviceAccount:service-1026793852137@gcp-sa-aiplatform-cc.iam.gserviceaccount.com\n",
      "  role: roles/aiplatform.customCodeServiceAgent\n",
      "- members:\n",
      "  - serviceAccount:service-1026793852137@gcp-sa-aiplatform-vm.iam.gserviceaccount.com\n",
      "  role: roles/aiplatform.notebookServiceAgent\n",
      "- members:\n",
      "  - serviceAccount:service-1026793852137@gcp-sa-aiplatform.iam.gserviceaccount.com\n",
      "  role: roles/aiplatform.serviceAgent\n",
      "- members:\n",
      "  - deleted:serviceAccount:bqcx-1026793852137-79ue@gcp-sa-bigquery-condel.iam.gserviceaccount.com?uid=108216671037418333398\n",
      "  - deleted:serviceAccount:bqcx-1026793852137-a2ne@gcp-sa-bigquery-condel.iam.gserviceaccount.com?uid=113722269076525797130\n",
      "  - deleted:serviceAccount:bqcx-1026793852137-iszu@gcp-sa-bigquery-condel.iam.gserviceaccount.com?uid=106642351460101305872\n",
      "  - serviceAccount:bqcx-1026793852137-dyw1@gcp-sa-bigquery-condel.iam.gserviceaccount.com\n",
      "  - serviceAccount:bqcx-1026793852137-pdxa@gcp-sa-bigquery-condel.iam.gserviceaccount.com\n",
      "  - serviceAccount:bqcx-1026793852137-zfly@gcp-sa-bigquery-condel.iam.gserviceaccount.com\n",
      "  role: roles/aiplatform.user\n",
      "- members:\n",
      "  - serviceAccount:service-1026793852137@gcp-sa-artifactregistry.iam.gserviceaccount.com\n",
      "  role: roles/artifactregistry.serviceAgent\n",
      "- members:\n",
      "  - serviceAccount:1026793852137-compute@developer.gserviceaccount.com\n",
      "  role: roles/bigquery.admin\n",
      "- members:\n",
      "  - serviceAccount:1026793852137@cloudservices.gserviceaccount.com\n",
      "  role: roles/bigquery.dataOwner\n",
      "- members:\n",
      "  - serviceAccount:1026793852137@cloudbuild.gserviceaccount.com\n",
      "  role: roles/cloudbuild.builds.builder\n",
      "- members:\n",
      "  - serviceAccount:service-1026793852137@gcp-sa-cloudbuild.iam.gserviceaccount.com\n",
      "  role: roles/cloudbuild.serviceAgent\n",
      "- members:\n",
      "  - serviceAccount:service-1026793852137@gcf-admin-robot.iam.gserviceaccount.com\n",
      "  role: roles/cloudfunctions.serviceAgent\n",
      "- members:\n",
      "  - serviceAccount:service-1026793852137@gcp-sa-cloudscheduler.iam.gserviceaccount.com\n",
      "  role: roles/cloudscheduler.serviceAgent\n",
      "- members:\n",
      "  - serviceAccount:service-1026793852137@compute-system.iam.gserviceaccount.com\n",
      "  role: roles/compute.serviceAgent\n",
      "- members:\n",
      "  - serviceAccount:service-1026793852137@containerregistry.iam.gserviceaccount.com\n",
      "  role: roles/containerregistry.ServiceAgent\n",
      "- members:\n",
      "  - serviceAccount:service-1026793852137@dataflow-service-producer-prod.iam.gserviceaccount.com\n",
      "  role: roles/dataflow.serviceAgent\n",
      "- members:\n",
      "  - serviceAccount:service-1026793852137@gcp-sa-dataform.iam.gserviceaccount.com\n",
      "  role: roles/dataform.serviceAgent\n",
      "- members:\n",
      "  - serviceAccount:service-1026793852137@dlp-api.iam.gserviceaccount.com\n",
      "  role: roles/dlp.serviceAgent\n",
      "- members:\n",
      "  - serviceAccount:service-1026793852137@gcp-sa-prod-dai-core.iam.gserviceaccount.com\n",
      "  role: roles/documentaicore.serviceAgent\n",
      "- members:\n",
      "  - serviceAccount:1026793852137@cloudservices.gserviceaccount.com\n",
      "  role: roles/editor\n",
      "- members:\n",
      "  - serviceAccount:service-1026793852137@gcp-sa-networkmanagement.iam.gserviceaccount.com\n",
      "  role: roles/networkmanagement.serviceAgent\n",
      "- members:\n",
      "  - serviceAccount:service-1026793852137@gcp-sa-notebooks.iam.gserviceaccount.com\n",
      "  role: roles/notebooks.serviceAgent\n",
      "- members:\n",
      "  - serviceAccount:1026793852137-compute@developer.gserviceaccount.com\n",
      "  - serviceAccount:1026793852137@cloudservices.gserviceaccount.com\n",
      "  - user:admin@statmike.altostrat.com\n",
      "  role: roles/owner\n",
      "- members:\n",
      "  - serviceAccount:service-1026793852137@gcp-sa-pubsub.iam.gserviceaccount.com\n",
      "  role: roles/pubsub.serviceAgent\n",
      "- members:\n",
      "  - serviceAccount:1026793852137-compute@developer.gserviceaccount.com\n",
      "  role: roles/run.admin\n",
      "- members:\n",
      "  - serviceAccount:service-1026793852137@serverless-robot-prod.iam.gserviceaccount.com\n",
      "  role: roles/run.serviceAgent\n",
      "- members:\n",
      "  - serviceAccount:service-1026793852137@service-networking.iam.gserviceaccount.com\n",
      "  role: roles/servicenetworking.serviceAgent\n",
      "- members:\n",
      "  - serviceAccount:service-1026793852137@gcp-sa-speech.iam.gserviceaccount.com\n",
      "  role: roles/speech.serviceAgent\n",
      "- members:\n",
      "  - serviceAccount:1026793852137-compute@developer.gserviceaccount.com\n",
      "  role: roles/storage.objectAdmin\n",
      "- members:\n",
      "  - serviceAccount:service-1026793852137@gcp-sa-workstations.iam.gserviceaccount.com\n",
      "  role: roles/workstations.serviceAgent\n",
      "etag: BwYFehPo5og=\n",
      "version: 1\n"
     ]
    }
   ],
   "source": [
    "try:\n",
    "    response = bq_connection.ConnectionServiceClient().get_connection(\n",
    "            request = bq_connection.GetConnectionRequest(\n",
    "                name = f\"projects/{BQ_PROJECT}/locations/{BQ_REGION}/connections/{SERIES}_{EXPERIMENT}\"\n",
    "            )\n",
    "    )\n",
    "    print(f'Found existing connection with service account: {response.cloud_resource.service_account_id}')\n",
    "    service_account = response.cloud_resource.service_account_id\n",
    "except Exception:\n",
    "    request = bq_connection.CreateConnectionRequest(\n",
    "        {\n",
    "            \"parent\": f\"projects/{BQ_PROJECT}/locations/{BQ_REGION}\",\n",
    "            \"connection_id\": f\"{SERIES}_{EXPERIMENT}\",\n",
    "            \"connection\": bq_connection.types.Connection(\n",
    "                {\n",
    "                    \"friendly_name\": f\"{SERIES}_{EXPERIMENT}\",\n",
    "                    \"cloud_resource\": bq_connection.CloudResourceProperties({})\n",
    "                }\n",
    "            )\n",
    "        }\n",
    "    )\n",
    "    response = bq_connection.ConnectionServiceClient().create_connection(request)\n",
    "    print(f'Created new connection with service account: {response.cloud_resource.service_account_id}')\n",
    "    service_account = response.cloud_resource.service_account_id\n",
    "    # assign the service account the Vertex AI User Role:\n",
    "    !gcloud projects add-iam-policy-binding {BQ_PROJECT} --member=serviceAccount:{service_account} --role=roles/aiplatform.user"
   ]
  },
  {
   "cell_type": "markdown",
   "id": "7f260feb-1746-4163-a00e-81edd64d9292",
   "metadata": {},
   "source": [
    "**NOTE**: The step above created a service account and assigned it the Vertex AI User Role.  This may take a moment to be recognized in the steps below.  If you get an error in one of the cells below try rerunning it."
   ]
  },
  {
   "cell_type": "markdown",
   "id": "94a7bcd7-c9f0-4ab9-8cd8-fb2778564beb",
   "metadata": {},
   "source": [
    "### Create The Remote Model In BigQuery"
   ]
  },
  {
   "cell_type": "markdown",
   "id": "75aeec0b-4b45-4d7a-9ad6-49cf4c890d0a",
   "metadata": {},
   "source": [
    "Create a temp model that connects to text embedding model on Vertex AI - [Reference](https://cloud.google.com/python/docs/reference/bigframes/latest/bigframes.ml.llm.PaLM2TextEmbeddingGenerator)"
   ]
  },
  {
   "cell_type": "code",
   "execution_count": 153,
   "id": "17b9d73e-b4a3-4947-a65a-ad5ef036eed7",
   "metadata": {},
   "outputs": [
    {
     "data": {
      "application/vnd.jupyter.widget-view+json": {
       "model_id": "47f82b8c4b794dbb9ff031f540da1aa8",
       "version_major": 2,
       "version_minor": 0
      },
      "text/plain": [
       "HTML(value='Query job 97b629d1-2e28-48de-98b0-374edfb4ec6d is RUNNING. <a target=\"_blank\" href=\"https://consol…"
      ]
     },
     "metadata": {},
     "output_type": "display_data"
    }
   ],
   "source": [
    "embed_model = bfml.llm.PaLM2TextEmbeddingGenerator(\n",
    "    session = bf_session,\n",
    "    connection_name = f'{BQ_PROJECT}.{BQ_REGION}.{SERIES}_{EXPERIMENT}'\n",
    ")"
   ]
  },
  {
   "cell_type": "markdown",
   "id": "99005bdd-7ef7-469b-b68a-570ecd16ec6a",
   "metadata": {},
   "source": [
    "---\n",
    "## Create Embeddings"
   ]
  },
  {
   "cell_type": "markdown",
   "id": "71a1e255-940c-4c3b-b03d-77bff298b2f4",
   "metadata": {},
   "source": [
    "### For Product Descriptions: Name\n",
    "\n",
    "**NOTE**: The following cell will create embedding requests for all 29k+ values in the `name` column and could take around **10 minutes** to run."
   ]
  },
  {
   "cell_type": "code",
   "execution_count": 156,
   "id": "99410c52-099c-4792-a379-013b10e1a700",
   "metadata": {},
   "outputs": [
    {
     "data": {
      "application/vnd.jupyter.widget-view+json": {
       "model_id": "a59fc4cdd18e4f60bac0817afdd485cf",
       "version_major": 2,
       "version_minor": 0
      },
      "text/plain": [
       "HTML(value='Query job 14ef3e8b-fdb9-4992-96dc-b9678974591b is RUNNING. <a target=\"_blank\" href=\"https://consol…"
      ]
     },
     "metadata": {},
     "output_type": "display_data"
    },
    {
     "data": {
      "application/vnd.jupyter.widget-view+json": {
       "model_id": "4d8a2957b21b41ae98a056668f93bdaf",
       "version_major": 2,
       "version_minor": 0
      },
      "text/plain": [
       "HTML(value='Query job 45257cb3-2e87-4b77-97f4-1cd5cc54dade is DONE. 233.0 kB processed. <a target=\"_blank\" hre…"
      ]
     },
     "metadata": {},
     "output_type": "display_data"
    }
   ],
   "source": [
    "products = products.join(embed_model.predict(products['name']).rename(columns={'text_embedding':'name_embedding'}))"
   ]
  },
  {
   "cell_type": "code",
   "execution_count": 157,
   "id": "f1c49eef-9e27-40a2-affe-3bfdd9d9c1aa",
   "metadata": {},
   "outputs": [
    {
     "data": {
      "application/vnd.jupyter.widget-view+json": {
       "model_id": "dcd0e2c8fa8d4a38b406cdfb919730ef",
       "version_major": 2,
       "version_minor": 0
      },
      "text/plain": [
       "HTML(value='Query job 866374a7-3ad8-4c99-9963-d1400899a6c2 is DONE. 465.9 kB processed. <a target=\"_blank\" hre…"
      ]
     },
     "metadata": {},
     "output_type": "display_data"
    },
    {
     "data": {
      "application/vnd.jupyter.widget-view+json": {
       "model_id": "e9665fb8c4c84f8caf993ef3560d85f0",
       "version_major": 2,
       "version_minor": 0
      },
      "text/plain": [
       "HTML(value='Query job 6b6c4e90-15b1-4d80-bf84-1777c1ae19cb is RUNNING. <a target=\"_blank\" href=\"https://consol…"
      ]
     },
     "metadata": {},
     "output_type": "display_data"
    },
    {
     "data": {
      "application/vnd.jupyter.widget-view+json": {
       "model_id": "e886ca733a2b4b2ab5c3f93ec2267e2d",
       "version_major": 2,
       "version_minor": 0
      },
      "text/plain": [
       "HTML(value='Query job 4d9593e3-39f7-4d52-9f39-f12bae5d9f15 is DONE. 0 Bytes processed. <a target=\"_blank\" href…"
      ]
     },
     "metadata": {},
     "output_type": "display_data"
    },
    {
     "data": {
      "text/html": [
       "<div>\n",
       "<style scoped>\n",
       "    .dataframe tbody tr th:only-of-type {\n",
       "        vertical-align: middle;\n",
       "    }\n",
       "\n",
       "    .dataframe tbody tr th {\n",
       "        vertical-align: top;\n",
       "    }\n",
       "\n",
       "    .dataframe thead th {\n",
       "        text-align: right;\n",
       "    }\n",
       "</style>\n",
       "<table border=\"1\" class=\"dataframe\">\n",
       "  <thead>\n",
       "    <tr style=\"text-align: right;\">\n",
       "      <th></th>\n",
       "      <th>id</th>\n",
       "      <th>cost</th>\n",
       "      <th>category</th>\n",
       "      <th>name</th>\n",
       "      <th>brand</th>\n",
       "      <th>retail_price</th>\n",
       "      <th>department</th>\n",
       "      <th>sku</th>\n",
       "      <th>distribution_center_id</th>\n",
       "      <th>name_embedding</th>\n",
       "    </tr>\n",
       "  </thead>\n",
       "  <tbody>\n",
       "    <tr>\n",
       "      <th>0</th>\n",
       "      <td>27569</td>\n",
       "      <td>92.652563</td>\n",
       "      <td>Swim</td>\n",
       "      <td>2XU Men's Swimmers Compression Long Sleeve Top</td>\n",
       "      <td>2XU</td>\n",
       "      <td>150.410004</td>\n",
       "      <td>Men</td>\n",
       "      <td>B23C5765E165D83AA924FA8F13C05F25</td>\n",
       "      <td>1</td>\n",
       "      <td>[0.021811574697494507, -0.0068705384619534016,...</td>\n",
       "    </tr>\n",
       "    <tr>\n",
       "      <th>1</th>\n",
       "      <td>27445</td>\n",
       "      <td>24.719661</td>\n",
       "      <td>Swim</td>\n",
       "      <td>TYR Sport Men's Square Leg Short Swim Suit</td>\n",
       "      <td>TYR</td>\n",
       "      <td>38.990002</td>\n",
       "      <td>Men</td>\n",
       "      <td>2AB7D3B23574C3DEA2BD278AFD0939AB</td>\n",
       "      <td>1</td>\n",
       "      <td>[0.04419781640172005, -0.009351101703941822, 0...</td>\n",
       "    </tr>\n",
       "    <tr>\n",
       "      <th>2</th>\n",
       "      <td>27457</td>\n",
       "      <td>15.8976</td>\n",
       "      <td>Swim</td>\n",
       "      <td>TYR Sport Men's Solid Durafast Jammer Swim Suit</td>\n",
       "      <td>TYR</td>\n",
       "      <td>27.6</td>\n",
       "      <td>Men</td>\n",
       "      <td>8F831227B0EB6C6D09A0555531365933</td>\n",
       "      <td>1</td>\n",
       "      <td>[0.0471641980111599, -0.03273119032382965, 0.0...</td>\n",
       "    </tr>\n",
       "    <tr>\n",
       "      <th>3</th>\n",
       "      <td>27466</td>\n",
       "      <td>17.85</td>\n",
       "      <td>Swim</td>\n",
       "      <td>TYR Sport Men's Swim Short/Resistance Short Sw...</td>\n",
       "      <td>TYR</td>\n",
       "      <td>30.0</td>\n",
       "      <td>Men</td>\n",
       "      <td>67317D6DCC4CB778AEB9219565F5456B</td>\n",
       "      <td>1</td>\n",
       "      <td>[0.049136240035295486, 0.0037870346568524837, ...</td>\n",
       "    </tr>\n",
       "    <tr>\n",
       "      <th>4</th>\n",
       "      <td>27481</td>\n",
       "      <td>29.408001</td>\n",
       "      <td>Swim</td>\n",
       "      <td>TYR Alliance Team Splice Jammer</td>\n",
       "      <td>TYR</td>\n",
       "      <td>45.950001</td>\n",
       "      <td>Men</td>\n",
       "      <td>213C888198806EF1A0E2BBF2F4855C6C</td>\n",
       "      <td>1</td>\n",
       "      <td>[0.0008693744894117117, -0.00447087874636054, ...</td>\n",
       "    </tr>\n",
       "  </tbody>\n",
       "</table>\n",
       "<p>5 rows × 10 columns</p>\n",
       "</div>[5 rows x 10 columns in total]"
      ],
      "text/plain": [
       "      id       cost category  \\\n",
       "0  27569  92.652563     Swim   \n",
       "1  27445  24.719661     Swim   \n",
       "2  27457    15.8976     Swim   \n",
       "3  27466      17.85     Swim   \n",
       "4  27481  29.408001     Swim   \n",
       "\n",
       "                                                name brand  retail_price  \\\n",
       "0     2XU Men's Swimmers Compression Long Sleeve Top   2XU    150.410004   \n",
       "1         TYR Sport Men's Square Leg Short Swim Suit   TYR     38.990002   \n",
       "2    TYR Sport Men's Solid Durafast Jammer Swim Suit   TYR          27.6   \n",
       "3  TYR Sport Men's Swim Short/Resistance Short Sw...   TYR          30.0   \n",
       "4                    TYR Alliance Team Splice Jammer   TYR     45.950001   \n",
       "\n",
       "  department                               sku  distribution_center_id  \\\n",
       "0        Men  B23C5765E165D83AA924FA8F13C05F25                       1   \n",
       "1        Men  2AB7D3B23574C3DEA2BD278AFD0939AB                       1   \n",
       "2        Men  8F831227B0EB6C6D09A0555531365933                       1   \n",
       "3        Men  67317D6DCC4CB778AEB9219565F5456B                       1   \n",
       "4        Men  213C888198806EF1A0E2BBF2F4855C6C                       1   \n",
       "\n",
       "                                      name_embedding  \n",
       "0  [0.021811574697494507, -0.0068705384619534016,...  \n",
       "1  [0.04419781640172005, -0.009351101703941822, 0...  \n",
       "2  [0.0471641980111599, -0.03273119032382965, 0.0...  \n",
       "3  [0.049136240035295486, 0.0037870346568524837, ...  \n",
       "4  [0.0008693744894117117, -0.00447087874636054, ...  \n",
       "\n",
       "[5 rows x 10 columns]"
      ]
     },
     "execution_count": 157,
     "metadata": {},
     "output_type": "execute_result"
    }
   ],
   "source": [
    "products.head()"
   ]
  },
  {
   "cell_type": "markdown",
   "id": "1c2b1177-99c5-4134-acc1-8588ab2d9f35",
   "metadata": {},
   "source": [
    "### For Level 1 of Product Hierarchy: Department\n",
    "\n",
    "This step will run quickly as it only creates embedding request for unique values of `department`."
   ]
  },
  {
   "cell_type": "code",
   "execution_count": 158,
   "id": "e1019e94-2a13-4286-851b-03121a073a1b",
   "metadata": {},
   "outputs": [
    {
     "data": {
      "application/vnd.jupyter.widget-view+json": {
       "model_id": "279b9a7f2ac547bfa74f6be18d0659e1",
       "version_major": 2,
       "version_minor": 0
      },
      "text/plain": [
       "HTML(value='Query job 94eb3612-d324-40e4-98fd-6c0f182b69e3 is RUNNING. <a target=\"_blank\" href=\"https://consol…"
      ]
     },
     "metadata": {},
     "output_type": "display_data"
    },
    {
     "data": {
      "application/vnd.jupyter.widget-view+json": {
       "model_id": "566df9e5bf6140529caf422aa5dd4d3e",
       "version_major": 2,
       "version_minor": 0
      },
      "text/plain": [
       "HTML(value='Query job b706b330-cb25-4916-aa59-fbadaa928e91 is DONE. 16 Bytes processed. <a target=\"_blank\" hre…"
      ]
     },
     "metadata": {},
     "output_type": "display_data"
    }
   ],
   "source": [
    "department = products['department'].unique().to_frame()\n",
    "department = department.join(embed_model.predict(department).rename(columns={'text_embedding':'department_embedding'}))"
   ]
  },
  {
   "cell_type": "code",
   "execution_count": 159,
   "id": "2d798a94-b7a2-4c25-a909-7e1952ea8002",
   "metadata": {},
   "outputs": [
    {
     "data": {
      "application/vnd.jupyter.widget-view+json": {
       "model_id": "acec21b7a7e64596b5131c26c8646ee6",
       "version_major": 2,
       "version_minor": 0
      },
      "text/plain": [
       "HTML(value='Query job 6e0e559c-be11-4df0-8e0e-414e7250a4b9 is DONE. 643.5 kB processed. <a target=\"_blank\" hre…"
      ]
     },
     "metadata": {},
     "output_type": "display_data"
    },
    {
     "data": {
      "application/vnd.jupyter.widget-view+json": {
       "model_id": "70341ac0d1964612905b984b16a7d500",
       "version_major": 2,
       "version_minor": 0
      },
      "text/plain": [
       "HTML(value='Query job 4ff967fd-f22e-46ee-8347-df4bf85bc60d is DONE. 655.8 kB processed. <a target=\"_blank\" hre…"
      ]
     },
     "metadata": {},
     "output_type": "display_data"
    },
    {
     "data": {
      "application/vnd.jupyter.widget-view+json": {
       "model_id": "a1cbba516ec14bce8768b70a0a097590",
       "version_major": 2,
       "version_minor": 0
      },
      "text/plain": [
       "HTML(value='Query job 748aea2c-205d-429f-8a80-9e627cbbc98b is DONE. 0 Bytes processed. <a target=\"_blank\" href…"
      ]
     },
     "metadata": {},
     "output_type": "display_data"
    },
    {
     "data": {
      "text/html": [
       "<div>\n",
       "<style scoped>\n",
       "    .dataframe tbody tr th:only-of-type {\n",
       "        vertical-align: middle;\n",
       "    }\n",
       "\n",
       "    .dataframe tbody tr th {\n",
       "        vertical-align: top;\n",
       "    }\n",
       "\n",
       "    .dataframe thead th {\n",
       "        text-align: right;\n",
       "    }\n",
       "</style>\n",
       "<table border=\"1\" class=\"dataframe\">\n",
       "  <thead>\n",
       "    <tr style=\"text-align: right;\">\n",
       "      <th></th>\n",
       "      <th>department</th>\n",
       "      <th>department_embedding</th>\n",
       "    </tr>\n",
       "  </thead>\n",
       "  <tbody>\n",
       "    <tr>\n",
       "      <th>0</th>\n",
       "      <td>Men</td>\n",
       "      <td>[-0.04335380345582962, 0.00046764410217292607,...</td>\n",
       "    </tr>\n",
       "    <tr>\n",
       "      <th>13131</th>\n",
       "      <td>Women</td>\n",
       "      <td>[-0.03191345930099487, -0.006457726005464792, ...</td>\n",
       "    </tr>\n",
       "  </tbody>\n",
       "</table>\n",
       "<p>2 rows × 2 columns</p>\n",
       "</div>[2 rows x 2 columns in total]"
      ],
      "text/plain": [
       "      department                               department_embedding\n",
       "0            Men  [-0.04335380345582962, 0.00046764410217292607,...\n",
       "13131      Women  [-0.03191345930099487, -0.006457726005464792, ...\n",
       "\n",
       "[2 rows x 2 columns]"
      ]
     },
     "execution_count": 159,
     "metadata": {},
     "output_type": "execute_result"
    }
   ],
   "source": [
    "department.head()"
   ]
  },
  {
   "cell_type": "code",
   "execution_count": 160,
   "id": "1b711d63-8c12-43eb-8d46-14ea3dc34609",
   "metadata": {},
   "outputs": [
    {
     "data": {
      "text/plain": [
       "id                                  Int64\n",
       "cost                              Float64\n",
       "category                  string[pyarrow]\n",
       "name                      string[pyarrow]\n",
       "brand                     string[pyarrow]\n",
       "retail_price                      Float64\n",
       "department                string[pyarrow]\n",
       "sku                       string[pyarrow]\n",
       "distribution_center_id              Int64\n",
       "name_embedding                     object\n",
       "department_embedding               object\n",
       "dtype: object"
      ]
     },
     "execution_count": 160,
     "metadata": {},
     "output_type": "execute_result"
    }
   ],
   "source": [
    "products = products.merge(department, on = 'department')\n",
    "products.dtypes"
   ]
  },
  {
   "cell_type": "markdown",
   "id": "198ef0ee-0056-4256-96db-90de1c8c69ba",
   "metadata": {},
   "source": [
    "### For Level 2 of Product Hierarchy: Category\n",
    "\n",
    "This step will run quickly as it only creates embedding request for unique values of `category`."
   ]
  },
  {
   "cell_type": "code",
   "execution_count": 161,
   "id": "b3607a24-1b7c-43d2-9e31-f80dc6787db4",
   "metadata": {},
   "outputs": [
    {
     "data": {
      "application/vnd.jupyter.widget-view+json": {
       "model_id": "56e9b8128d094f3f96bda61ddd0827e4",
       "version_major": 2,
       "version_minor": 0
      },
      "text/plain": [
       "HTML(value='Query job 23121808-f56a-4560-b295-40431cfa9550 is RUNNING. <a target=\"_blank\" href=\"https://consol…"
      ]
     },
     "metadata": {},
     "output_type": "display_data"
    },
    {
     "data": {
      "application/vnd.jupyter.widget-view+json": {
       "model_id": "591e1d70f7fe4cd5ab78ffcfdf652a97",
       "version_major": 2,
       "version_minor": 0
      },
      "text/plain": [
       "HTML(value='Query job ac7d99da-dfb8-4fdd-8234-94e93674d7ae is DONE. 208 Bytes processed. <a target=\"_blank\" hr…"
      ]
     },
     "metadata": {},
     "output_type": "display_data"
    }
   ],
   "source": [
    "category = products['category'].unique().to_frame()\n",
    "category = category.join(embed_model.predict(category).rename(columns={'text_embedding':'category_embedding'}))"
   ]
  },
  {
   "cell_type": "code",
   "execution_count": 162,
   "id": "bd9658aa-c341-463b-b923-eb330b01c266",
   "metadata": {},
   "outputs": [
    {
     "data": {
      "application/vnd.jupyter.widget-view+json": {
       "model_id": "114f49d24eb84ffba8a54bb8c7d0c314",
       "version_major": 2,
       "version_minor": 0
      },
      "text/plain": [
       "HTML(value='Query job 6a45623a-0499-4aa2-9455-5e4736523ff7 is RUNNING. <a target=\"_blank\" href=\"https://consol…"
      ]
     },
     "metadata": {},
     "output_type": "display_data"
    },
    {
     "data": {
      "application/vnd.jupyter.widget-view+json": {
       "model_id": "36f1e2c62fdf4441a5144c8e5ea5ceeb",
       "version_major": 2,
       "version_minor": 0
      },
      "text/plain": [
       "HTML(value='Query job dc7b41ea-e84d-4dea-9564-65a1383a07b7 is RUNNING. <a target=\"_blank\" href=\"https://consol…"
      ]
     },
     "metadata": {},
     "output_type": "display_data"
    },
    {
     "data": {
      "application/vnd.jupyter.widget-view+json": {
       "model_id": "f490990a4e3a4a6896e7e7ee584a440c",
       "version_major": 2,
       "version_minor": 0
      },
      "text/plain": [
       "HTML(value='Query job 8e1ef2c7-ac05-42cd-b5f7-164358984514 is DONE. 0 Bytes processed. <a target=\"_blank\" href…"
      ]
     },
     "metadata": {},
     "output_type": "display_data"
    },
    {
     "data": {
      "text/html": [
       "<div>\n",
       "<style scoped>\n",
       "    .dataframe tbody tr th:only-of-type {\n",
       "        vertical-align: middle;\n",
       "    }\n",
       "\n",
       "    .dataframe tbody tr th {\n",
       "        vertical-align: top;\n",
       "    }\n",
       "\n",
       "    .dataframe thead th {\n",
       "        text-align: right;\n",
       "    }\n",
       "</style>\n",
       "<table border=\"1\" class=\"dataframe\">\n",
       "  <thead>\n",
       "    <tr style=\"text-align: right;\">\n",
       "      <th></th>\n",
       "      <th>category</th>\n",
       "      <th>category_embedding</th>\n",
       "    </tr>\n",
       "  </thead>\n",
       "  <tbody>\n",
       "    <tr>\n",
       "      <th>0</th>\n",
       "      <td>Swim</td>\n",
       "      <td>[0.01972227729856968, -0.01661798171699047, -0...</td>\n",
       "    </tr>\n",
       "    <tr>\n",
       "      <th>906</th>\n",
       "      <td>Jeans</td>\n",
       "      <td>[-0.016635224223136902, 0.0025853165425360203,...</td>\n",
       "    </tr>\n",
       "    <tr>\n",
       "      <th>2023</th>\n",
       "      <td>Pants</td>\n",
       "      <td>[-7.701403956161812e-05, 0.015807654708623886,...</td>\n",
       "    </tr>\n",
       "    <tr>\n",
       "      <th>3064</th>\n",
       "      <td>Socks</td>\n",
       "      <td>[0.05488337576389313, 0.006218045484274626, 0....</td>\n",
       "    </tr>\n",
       "    <tr>\n",
       "      <th>3969</th>\n",
       "      <td>Active</td>\n",
       "      <td>[0.028275124728679657, -0.00869790930300951, 0...</td>\n",
       "    </tr>\n",
       "  </tbody>\n",
       "</table>\n",
       "<p>5 rows × 2 columns</p>\n",
       "</div>[5 rows x 2 columns in total]"
      ],
      "text/plain": [
       "     category                                 category_embedding\n",
       "0        Swim  [0.01972227729856968, -0.01661798171699047, -0...\n",
       "906     Jeans  [-0.016635224223136902, 0.0025853165425360203,...\n",
       "2023    Pants  [-7.701403956161812e-05, 0.015807654708623886,...\n",
       "3064    Socks  [0.05488337576389313, 0.006218045484274626, 0....\n",
       "3969   Active  [0.028275124728679657, -0.00869790930300951, 0...\n",
       "\n",
       "[5 rows x 2 columns]"
      ]
     },
     "execution_count": 162,
     "metadata": {},
     "output_type": "execute_result"
    }
   ],
   "source": [
    "category.head()"
   ]
  },
  {
   "cell_type": "code",
   "execution_count": 163,
   "id": "5866ead6-a395-4a47-9218-2427d884e1ff",
   "metadata": {},
   "outputs": [
    {
     "data": {
      "text/plain": [
       "id                                  Int64\n",
       "cost                              Float64\n",
       "category                  string[pyarrow]\n",
       "name                      string[pyarrow]\n",
       "brand                     string[pyarrow]\n",
       "retail_price                      Float64\n",
       "department                string[pyarrow]\n",
       "sku                       string[pyarrow]\n",
       "distribution_center_id              Int64\n",
       "name_embedding                     object\n",
       "department_embedding               object\n",
       "category_embedding                 object\n",
       "dtype: object"
      ]
     },
     "execution_count": 163,
     "metadata": {},
     "output_type": "execute_result"
    }
   ],
   "source": [
    "products = products.merge(category, on = 'category')\n",
    "products.dtypes"
   ]
  },
  {
   "cell_type": "markdown",
   "id": "6408d30e-0a6d-4f64-9744-1b93005b255c",
   "metadata": {},
   "source": [
    "### Make BigQuery Tables of Results\n",
    "\n",
    "The `products`, `department`, and `category` dataframes are currently temporary tables in BigQuery.  To recall these for future use it is best to store them as actual BigQuery tables using the [.to_gbq](https://cloud.google.com/python/docs/reference/bigframes/latest/bigframes.dataframe.DataFrame#bigframes_dataframe_DataFrame_to_gbq) method as follows."
   ]
  },
  {
   "cell_type": "code",
   "execution_count": 210,
   "id": "3783ae3c-a95d-47e7-a4e5-a5270d2ab437",
   "metadata": {},
   "outputs": [
    {
     "data": {
      "application/vnd.jupyter.widget-view+json": {
       "model_id": "e58ac9055d00460abd4ce83764eafdb8",
       "version_major": 2,
       "version_minor": 0
      },
      "text/plain": [
       "HTML(value='Query job 7c5975b1-8399-4e0e-b5c9-d8c5b4d4343f is RUNNING. <a target=\"_blank\" href=\"https://consol…"
      ]
     },
     "metadata": {},
     "output_type": "display_data"
    },
    {
     "data": {
      "application/vnd.jupyter.widget-view+json": {
       "model_id": "dc522b9bfc3a47a7a35a9f03c446bc01",
       "version_major": 2,
       "version_minor": 0
      },
      "text/plain": [
       "HTML(value='Query job 48884307-ef71-427a-b750-2fc5cf32ea35 is RUNNING. <a target=\"_blank\" href=\"https://consol…"
      ]
     },
     "metadata": {},
     "output_type": "display_data"
    },
    {
     "data": {
      "application/vnd.jupyter.widget-view+json": {
       "model_id": "5265ca9fcb744d9c8d7808f071010c4d",
       "version_major": 2,
       "version_minor": 0
      },
      "text/plain": [
       "HTML(value='Query job b066c690-ec7c-4f80-9912-0383beda3b91 is RUNNING. <a target=\"_blank\" href=\"https://consol…"
      ]
     },
     "metadata": {},
     "output_type": "display_data"
    }
   ],
   "source": [
    "products.to_gbq(f'{BQ_PROJECT}.{BQ_DATASET}.{BQ_TABLE}_products', if_exists = 'replace', index = False)\n",
    "department.to_gbq(f'{BQ_PROJECT}.{BQ_DATASET}.{BQ_TABLE}_deparment', if_exists = 'replace', index = False)\n",
    "category.to_gbq(f'{BQ_PROJECT}.{BQ_DATASET}.{BQ_TABLE}_category', if_exists = 'replace', index = False)"
   ]
  },
  {
   "cell_type": "markdown",
   "id": "1a8dc6fc-0667-40f4-8a43-80c2fd7da069",
   "metadata": {},
   "source": [
    "---\n",
    "## Prepare Data For ML"
   ]
  },
  {
   "cell_type": "markdown",
   "id": "c5a390b2-a143-4cde-a76f-fb477558a93c",
   "metadata": {},
   "source": [
    "### Create product hierarchy set: department"
   ]
  },
  {
   "cell_type": "code",
   "execution_count": 217,
   "id": "530cc8d5-e258-4875-b775-720aeb806c06",
   "metadata": {},
   "outputs": [
    {
     "data": {
      "text/plain": [
       "department              string[pyarrow]\n",
       "department_embedding             object\n",
       "dtype: object"
      ]
     },
     "execution_count": 217,
     "metadata": {},
     "output_type": "execute_result"
    }
   ],
   "source": [
    "department.dtypes"
   ]
  },
  {
   "cell_type": "code",
   "execution_count": 215,
   "id": "bd7b34f6-ddc8-4299-92be-72b95da0067b",
   "metadata": {},
   "outputs": [
    {
     "data": {
      "text/plain": [
       "hierarchy_node              string[pyarrow]\n",
       "hierarchy_node_embedding             object\n",
       "hierarchy_level             string[pyarrow]\n",
       "dtype: object"
      ]
     },
     "execution_count": 215,
     "metadata": {},
     "output_type": "execute_result"
    }
   ],
   "source": [
    "department_hierarchy = department[['department', 'department_embedding']].rename(columns = {\"department\":\"hierarchy_node\", \"department_embedding\":\"hierarchy_node_embedding\"})\n",
    "department_hierarchy['hierarchy_level'] = 'department'\n",
    "department_hierarchy.dtypes"
   ]
  },
  {
   "cell_type": "code",
   "execution_count": 216,
   "id": "c40e8e3f-6091-483b-8a9f-f18cb43c323b",
   "metadata": {},
   "outputs": [
    {
     "data": {
      "application/vnd.jupyter.widget-view+json": {
       "model_id": "f01c10b020a046a6953be54394c80655",
       "version_major": 2,
       "version_minor": 0
      },
      "text/plain": [
       "HTML(value='Query job 651eebe0-ab8f-4de6-946d-5cf67a0f2f7e is DONE. 643.5 kB processed. <a target=\"_blank\" hre…"
      ]
     },
     "metadata": {},
     "output_type": "display_data"
    },
    {
     "data": {
      "application/vnd.jupyter.widget-view+json": {
       "model_id": "3b88ab98650b4663b637751c3e281143",
       "version_major": 2,
       "version_minor": 0
      },
      "text/plain": [
       "HTML(value='Query job 46dab08e-85ac-44ea-9577-cb8c75282ab9 is DONE. 655.8 kB processed. <a target=\"_blank\" hre…"
      ]
     },
     "metadata": {},
     "output_type": "display_data"
    },
    {
     "data": {
      "application/vnd.jupyter.widget-view+json": {
       "model_id": "18987d02e6e24114a092c172b57ac628",
       "version_major": 2,
       "version_minor": 0
      },
      "text/plain": [
       "HTML(value='Query job 6dd14dd8-4415-490c-8458-56eb2c3a2ce9 is DONE. 0 Bytes processed. <a target=\"_blank\" href…"
      ]
     },
     "metadata": {},
     "output_type": "display_data"
    },
    {
     "data": {
      "text/html": [
       "<div>\n",
       "<style scoped>\n",
       "    .dataframe tbody tr th:only-of-type {\n",
       "        vertical-align: middle;\n",
       "    }\n",
       "\n",
       "    .dataframe tbody tr th {\n",
       "        vertical-align: top;\n",
       "    }\n",
       "\n",
       "    .dataframe thead th {\n",
       "        text-align: right;\n",
       "    }\n",
       "</style>\n",
       "<table border=\"1\" class=\"dataframe\">\n",
       "  <thead>\n",
       "    <tr style=\"text-align: right;\">\n",
       "      <th></th>\n",
       "      <th>hierarchy_node</th>\n",
       "      <th>hierarchy_node_embedding</th>\n",
       "      <th>hierarchy_level</th>\n",
       "    </tr>\n",
       "  </thead>\n",
       "  <tbody>\n",
       "    <tr>\n",
       "      <th>0</th>\n",
       "      <td>Men</td>\n",
       "      <td>[-0.04335380345582962, 0.00046764410217292607,...</td>\n",
       "      <td>department</td>\n",
       "    </tr>\n",
       "    <tr>\n",
       "      <th>13131</th>\n",
       "      <td>Women</td>\n",
       "      <td>[-0.03191345930099487, -0.006457726005464792, ...</td>\n",
       "      <td>department</td>\n",
       "    </tr>\n",
       "  </tbody>\n",
       "</table>\n",
       "<p>2 rows × 3 columns</p>\n",
       "</div>[2 rows x 3 columns in total]"
      ],
      "text/plain": [
       "      hierarchy_node                           hierarchy_node_embedding  \\\n",
       "0                Men  [-0.04335380345582962, 0.00046764410217292607,...   \n",
       "13131          Women  [-0.03191345930099487, -0.006457726005464792, ...   \n",
       "\n",
       "      hierarchy_level  \n",
       "0          department  \n",
       "13131      department  \n",
       "\n",
       "[2 rows x 3 columns]"
      ]
     },
     "execution_count": 216,
     "metadata": {},
     "output_type": "execute_result"
    }
   ],
   "source": [
    "department_hierarchy.head()"
   ]
  },
  {
   "cell_type": "markdown",
   "id": "8e7d9e52-d149-4aa3-8a2b-5a715fd0a115",
   "metadata": {},
   "source": [
    "### Create product hierarchy set: category"
   ]
  },
  {
   "cell_type": "code",
   "execution_count": 218,
   "id": "7d5a2654-164f-421e-b6e6-efe1bacb3fb3",
   "metadata": {},
   "outputs": [
    {
     "data": {
      "text/plain": [
       "category              string[pyarrow]\n",
       "category_embedding             object\n",
       "dtype: object"
      ]
     },
     "execution_count": 218,
     "metadata": {},
     "output_type": "execute_result"
    }
   ],
   "source": [
    "category.dtypes"
   ]
  },
  {
   "cell_type": "code",
   "execution_count": 220,
   "id": "e718775b-4950-4951-a7b9-37a0265e0933",
   "metadata": {},
   "outputs": [
    {
     "data": {
      "text/plain": [
       "hierarchy_node              string[pyarrow]\n",
       "hierarchy_node_embedding             object\n",
       "hierarchy_level             string[pyarrow]\n",
       "dtype: object"
      ]
     },
     "execution_count": 220,
     "metadata": {},
     "output_type": "execute_result"
    }
   ],
   "source": [
    "category_hierarchy = category[['category', 'category_embedding']].rename(columns = {\"category\":\"hierarchy_node\", \"category_embedding\":\"hierarchy_node_embedding\"})\n",
    "category_hierarchy['hierarchy_level'] = 'category'\n",
    "category_hierarchy.dtypes"
   ]
  },
  {
   "cell_type": "code",
   "execution_count": 221,
   "id": "b2789593-cb61-43ef-b15e-b095bf6916d7",
   "metadata": {},
   "outputs": [
    {
     "data": {
      "application/vnd.jupyter.widget-view+json": {
       "model_id": "01cad27fda09470c8daeabcc61420520",
       "version_major": 2,
       "version_minor": 0
      },
      "text/plain": [
       "HTML(value='Query job c1c7efd8-af3f-464c-a20a-0e3590b3bdf8 is RUNNING. <a target=\"_blank\" href=\"https://consol…"
      ]
     },
     "metadata": {},
     "output_type": "display_data"
    },
    {
     "data": {
      "application/vnd.jupyter.widget-view+json": {
       "model_id": "b6c4db7e90ff45b6b14c88589a461c66",
       "version_major": 2,
       "version_minor": 0
      },
      "text/plain": [
       "HTML(value='Query job 0e6d70dc-caea-437c-ada4-585ce75cdde1 is RUNNING. <a target=\"_blank\" href=\"https://consol…"
      ]
     },
     "metadata": {},
     "output_type": "display_data"
    },
    {
     "data": {
      "application/vnd.jupyter.widget-view+json": {
       "model_id": "805b8262efbc4cd5bf10023836fe525a",
       "version_major": 2,
       "version_minor": 0
      },
      "text/plain": [
       "HTML(value='Query job eba48217-0ddf-45c7-a742-a89119f0bd6b is DONE. 0 Bytes processed. <a target=\"_blank\" href…"
      ]
     },
     "metadata": {},
     "output_type": "display_data"
    },
    {
     "data": {
      "text/html": [
       "<div>\n",
       "<style scoped>\n",
       "    .dataframe tbody tr th:only-of-type {\n",
       "        vertical-align: middle;\n",
       "    }\n",
       "\n",
       "    .dataframe tbody tr th {\n",
       "        vertical-align: top;\n",
       "    }\n",
       "\n",
       "    .dataframe thead th {\n",
       "        text-align: right;\n",
       "    }\n",
       "</style>\n",
       "<table border=\"1\" class=\"dataframe\">\n",
       "  <thead>\n",
       "    <tr style=\"text-align: right;\">\n",
       "      <th></th>\n",
       "      <th>hierarchy_node</th>\n",
       "      <th>hierarchy_node_embedding</th>\n",
       "      <th>hierarchy_level</th>\n",
       "    </tr>\n",
       "  </thead>\n",
       "  <tbody>\n",
       "    <tr>\n",
       "      <th>0</th>\n",
       "      <td>Swim</td>\n",
       "      <td>[0.01972227729856968, -0.01661798171699047, -0...</td>\n",
       "      <td>category</td>\n",
       "    </tr>\n",
       "    <tr>\n",
       "      <th>906</th>\n",
       "      <td>Jeans</td>\n",
       "      <td>[-0.016635224223136902, 0.0025853165425360203,...</td>\n",
       "      <td>category</td>\n",
       "    </tr>\n",
       "    <tr>\n",
       "      <th>2023</th>\n",
       "      <td>Pants</td>\n",
       "      <td>[-7.701403956161812e-05, 0.015807654708623886,...</td>\n",
       "      <td>category</td>\n",
       "    </tr>\n",
       "    <tr>\n",
       "      <th>3064</th>\n",
       "      <td>Socks</td>\n",
       "      <td>[0.05488337576389313, 0.006218045484274626, 0....</td>\n",
       "      <td>category</td>\n",
       "    </tr>\n",
       "    <tr>\n",
       "      <th>3969</th>\n",
       "      <td>Active</td>\n",
       "      <td>[0.028275124728679657, -0.00869790930300951, 0...</td>\n",
       "      <td>category</td>\n",
       "    </tr>\n",
       "  </tbody>\n",
       "</table>\n",
       "<p>5 rows × 3 columns</p>\n",
       "</div>[5 rows x 3 columns in total]"
      ],
      "text/plain": [
       "     hierarchy_node                           hierarchy_node_embedding  \\\n",
       "0              Swim  [0.01972227729856968, -0.01661798171699047, -0...   \n",
       "906           Jeans  [-0.016635224223136902, 0.0025853165425360203,...   \n",
       "2023          Pants  [-7.701403956161812e-05, 0.015807654708623886,...   \n",
       "3064          Socks  [0.05488337576389313, 0.006218045484274626, 0....   \n",
       "3969         Active  [0.028275124728679657, -0.00869790930300951, 0...   \n",
       "\n",
       "     hierarchy_level  \n",
       "0           category  \n",
       "906         category  \n",
       "2023        category  \n",
       "3064        category  \n",
       "3969        category  \n",
       "\n",
       "[5 rows x 3 columns]"
      ]
     },
     "execution_count": 221,
     "metadata": {},
     "output_type": "execute_result"
    }
   ],
   "source": [
    "category_hierarchy.head()"
   ]
  },
  {
   "cell_type": "markdown",
   "id": "6b658f26-0845-42db-862e-8cc15ef26f51",
   "metadata": {},
   "source": [
    "### Create product hiearchy: combine department and category"
   ]
  },
  {
   "cell_type": "code",
   "execution_count": 223,
   "id": "ccc8dd50-1c9a-4af2-aef6-17d233229c25",
   "metadata": {},
   "outputs": [],
   "source": [
    "product_hierarchy = bf.concat([department_hierarchy, category_hierarchy])"
   ]
  },
  {
   "cell_type": "code",
   "execution_count": 225,
   "id": "0e940ff8-f581-4c20-9e81-42cd38b1783e",
   "metadata": {},
   "outputs": [
    {
     "data": {
      "application/vnd.jupyter.widget-view+json": {
       "model_id": "6339af72887445c9bf55a9cb6157af78",
       "version_major": 2,
       "version_minor": 0
      },
      "text/plain": [
       "HTML(value='Query job 920306ed-0750-4222-97e4-494564794a82 is RUNNING. <a target=\"_blank\" href=\"https://consol…"
      ]
     },
     "metadata": {},
     "output_type": "display_data"
    },
    {
     "data": {
      "application/vnd.jupyter.widget-view+json": {
       "model_id": "57837af33fb541d4a8f4a8fe6cde0d01",
       "version_major": 2,
       "version_minor": 0
      },
      "text/plain": [
       "HTML(value='Query job 4fa5c95b-c822-466f-94a2-c20a036c5b0b is RUNNING. <a target=\"_blank\" href=\"https://consol…"
      ]
     },
     "metadata": {},
     "output_type": "display_data"
    },
    {
     "data": {
      "application/vnd.jupyter.widget-view+json": {
       "model_id": "d4c796852da94cccaee7f38c777669a6",
       "version_major": 2,
       "version_minor": 0
      },
      "text/plain": [
       "HTML(value='Query job caf91397-d4e1-4118-b674-86dabbe3c065 is DONE. 0 Bytes processed. <a target=\"_blank\" href…"
      ]
     },
     "metadata": {},
     "output_type": "display_data"
    },
    {
     "data": {
      "text/html": [
       "<div>\n",
       "<style scoped>\n",
       "    .dataframe tbody tr th:only-of-type {\n",
       "        vertical-align: middle;\n",
       "    }\n",
       "\n",
       "    .dataframe tbody tr th {\n",
       "        vertical-align: top;\n",
       "    }\n",
       "\n",
       "    .dataframe thead th {\n",
       "        text-align: right;\n",
       "    }\n",
       "</style>\n",
       "<table border=\"1\" class=\"dataframe\">\n",
       "  <thead>\n",
       "    <tr style=\"text-align: right;\">\n",
       "      <th></th>\n",
       "      <th>hierarchy_node</th>\n",
       "      <th>hierarchy_node_embedding</th>\n",
       "      <th>hierarchy_level</th>\n",
       "    </tr>\n",
       "  </thead>\n",
       "  <tbody>\n",
       "    <tr>\n",
       "      <th>0</th>\n",
       "      <td>Men</td>\n",
       "      <td>[-0.04335380345582962, 0.00046764410217292607,...</td>\n",
       "      <td>department</td>\n",
       "    </tr>\n",
       "    <tr>\n",
       "      <th>13131</th>\n",
       "      <td>Women</td>\n",
       "      <td>[-0.03191345930099487, -0.006457726005464792, ...</td>\n",
       "      <td>department</td>\n",
       "    </tr>\n",
       "    <tr>\n",
       "      <th>0</th>\n",
       "      <td>Swim</td>\n",
       "      <td>[0.01972227729856968, -0.01661798171699047, -0...</td>\n",
       "      <td>category</td>\n",
       "    </tr>\n",
       "    <tr>\n",
       "      <th>906</th>\n",
       "      <td>Jeans</td>\n",
       "      <td>[-0.016635224223136902, 0.0025853165425360203,...</td>\n",
       "      <td>category</td>\n",
       "    </tr>\n",
       "    <tr>\n",
       "      <th>2023</th>\n",
       "      <td>Pants</td>\n",
       "      <td>[-7.701403956161812e-05, 0.015807654708623886,...</td>\n",
       "      <td>category</td>\n",
       "    </tr>\n",
       "  </tbody>\n",
       "</table>\n",
       "<p>5 rows × 3 columns</p>\n",
       "</div>[5 rows x 3 columns in total]"
      ],
      "text/plain": [
       "      hierarchy_node                           hierarchy_node_embedding  \\\n",
       "0                Men  [-0.04335380345582962, 0.00046764410217292607,...   \n",
       "13131          Women  [-0.03191345930099487, -0.006457726005464792, ...   \n",
       "0               Swim  [0.01972227729856968, -0.01661798171699047, -0...   \n",
       "906            Jeans  [-0.016635224223136902, 0.0025853165425360203,...   \n",
       "2023           Pants  [-7.701403956161812e-05, 0.015807654708623886,...   \n",
       "\n",
       "      hierarchy_level  \n",
       "0          department  \n",
       "13131      department  \n",
       "0            category  \n",
       "906          category  \n",
       "2023         category  \n",
       "\n",
       "[5 rows x 3 columns]"
      ]
     },
     "execution_count": 225,
     "metadata": {},
     "output_type": "execute_result"
    }
   ],
   "source": [
    "product_hierarchy.head()"
   ]
  },
  {
   "cell_type": "markdown",
   "id": "3661b6db-f137-413e-9d80-351ce3204049",
   "metadata": {},
   "source": [
    "### Create a test and train subsets of products"
   ]
  },
  {
   "cell_type": "markdown",
   "id": "727c3852-5c0e-4393-a0ce-995dbcb9f645",
   "metadata": {},
   "source": [
    "Create index's for rows allocated to training and test splits:"
   ]
  },
  {
   "cell_type": "code",
   "execution_count": 211,
   "id": "36388787-2a57-43b5-b9ce-f959dbbc2b01",
   "metadata": {},
   "outputs": [
    {
     "data": {
      "application/vnd.jupyter.widget-view+json": {
       "model_id": "7ac5f8a553184f2e8170e54da3953bf6",
       "version_major": 2,
       "version_minor": 0
      },
      "text/plain": [
       "HTML(value='Query job 5a40838c-31c9-46ee-870c-90e6505784d1 is DONE. 0 Bytes processed. <a target=\"_blank\" href…"
      ]
     },
     "metadata": {},
     "output_type": "display_data"
    },
    {
     "data": {
      "text/plain": [
       "(29120, 26208, 2912)"
      ]
     },
     "execution_count": 211,
     "metadata": {},
     "output_type": "execute_result"
    }
   ],
   "source": [
    "# retrieve index of all rows\n",
    "full_index = products.index.to_numpy()\n",
    "# randomly sort the full index\n",
    "np.random.shuffle(full_index)\n",
    "# split the randomly sorted index into 10 sequential parts\n",
    "split_index = np.split(full_index, 10)\n",
    "# allocate the first 9 splits (90%) to a training index\n",
    "train_index = np.concatenate(split_index[0:9])\n",
    "# allocate the last split (10%) to a test_index\n",
    "test_index = split_index[9]\n",
    "\n",
    "# print out the sizes of the indexes:\n",
    "full_index.shape[0], train_index.shape[0], test_index.shape[0]"
   ]
  },
  {
   "cell_type": "code",
   "execution_count": 350,
   "id": "2e02221a-2430-490f-a16d-47a75a61c483",
   "metadata": {},
   "outputs": [
    {
     "data": {
      "application/vnd.jupyter.widget-view+json": {
       "model_id": "b79dd221931f44608e8f6477aa4a416d",
       "version_major": 2,
       "version_minor": 0
      },
      "text/plain": [
       "HTML(value='Load job 7610724f-dd03-4224-be92-80d0657e866a is RUNNING. <a target=\"_blank\" href=\"https://console…"
      ]
     },
     "metadata": {},
     "output_type": "display_data"
    },
    {
     "data": {
      "application/vnd.jupyter.widget-view+json": {
       "model_id": "2605389cd68a4786a380303f14cb3520",
       "version_major": 2,
       "version_minor": 0
      },
      "text/plain": [
       "HTML(value='Load job 89404301-2728-4559-9f51-7b914b02746c is RUNNING. <a target=\"_blank\" href=\"https://console…"
      ]
     },
     "metadata": {},
     "output_type": "display_data"
    }
   ],
   "source": [
    "train_products = products[['name', 'name_embedding', 'category', 'department']].iloc[train_index.tolist()]\n",
    "test_products = products[['name', 'name_embedding', 'category', 'department']].iloc[test_index.tolist()]"
   ]
  },
  {
   "cell_type": "markdown",
   "id": "916ad75d-144b-4435-b226-3f006b11a281",
   "metadata": {},
   "source": [
    "### Create Training And Test Data: Explode product data by crossing with product hierarchy"
   ]
  },
  {
   "cell_type": "code",
   "execution_count": 351,
   "id": "a0c15b44-0875-4beb-b692-e84081e0337e",
   "metadata": {},
   "outputs": [
    {
     "ename": "ValueError",
     "evalue": "Must specify `on` or `left_on` + `right_on`.",
     "output_type": "error",
     "traceback": [
      "\u001b[0;31m---------------------------------------------------------------------------\u001b[0m",
      "\u001b[0;31mValueError\u001b[0m                                Traceback (most recent call last)",
      "Cell \u001b[0;32mIn[351], line 1\u001b[0m\n\u001b[0;32m----> 1\u001b[0m train_products \u001b[38;5;241m=\u001b[39m \u001b[43mtrain_products\u001b[49m\u001b[38;5;241;43m.\u001b[39;49m\u001b[43mmerge\u001b[49m\u001b[43m(\u001b[49m\u001b[43mproduct_hierarchy\u001b[49m\u001b[43m,\u001b[49m\u001b[43m \u001b[49m\u001b[43mhow\u001b[49m\u001b[43m \u001b[49m\u001b[38;5;241;43m=\u001b[39;49m\u001b[43m \u001b[49m\u001b[38;5;124;43m'\u001b[39;49m\u001b[38;5;124;43mcross\u001b[39;49m\u001b[38;5;124;43m'\u001b[39;49m\u001b[43m)\u001b[49m\n",
      "File \u001b[0;32m/opt/conda/lib/python3.10/site-packages/bigframes/dataframe.py:1208\u001b[0m, in \u001b[0;36mDataFrame.merge\u001b[0;34m(self, right, how, on, left_on, right_on, sort, suffixes)\u001b[0m\n\u001b[1;32m   1206\u001b[0m \u001b[38;5;28;01mif\u001b[39;00m on \u001b[38;5;129;01mis\u001b[39;00m \u001b[38;5;28;01mNone\u001b[39;00m:\n\u001b[1;32m   1207\u001b[0m     \u001b[38;5;28;01mif\u001b[39;00m left_on \u001b[38;5;129;01mis\u001b[39;00m \u001b[38;5;28;01mNone\u001b[39;00m \u001b[38;5;129;01mor\u001b[39;00m right_on \u001b[38;5;129;01mis\u001b[39;00m \u001b[38;5;28;01mNone\u001b[39;00m:\n\u001b[0;32m-> 1208\u001b[0m         \u001b[38;5;28;01mraise\u001b[39;00m \u001b[38;5;167;01mValueError\u001b[39;00m(\u001b[38;5;124m\"\u001b[39m\u001b[38;5;124mMust specify `on` or `left_on` + `right_on`.\u001b[39m\u001b[38;5;124m\"\u001b[39m)\n\u001b[1;32m   1209\u001b[0m \u001b[38;5;28;01melse\u001b[39;00m:\n\u001b[1;32m   1210\u001b[0m     \u001b[38;5;28;01mif\u001b[39;00m left_on \u001b[38;5;129;01mis\u001b[39;00m \u001b[38;5;129;01mnot\u001b[39;00m \u001b[38;5;28;01mNone\u001b[39;00m \u001b[38;5;129;01mor\u001b[39;00m right_on \u001b[38;5;129;01mis\u001b[39;00m \u001b[38;5;129;01mnot\u001b[39;00m \u001b[38;5;28;01mNone\u001b[39;00m:\n",
      "\u001b[0;31mValueError\u001b[0m: Must specify `on` or `left_on` + `right_on`."
     ]
    }
   ],
   "source": [
    "train_products = train_products.merge(product_hierarchy, how = 'cross')"
   ]
  },
  {
   "cell_type": "markdown",
   "id": "c074f95e-79a0-46d6-8435-f202e7a89c23",
   "metadata": {},
   "source": [
    "**NOTE**: The cross join does not seem to be available yet on the BigFrames API ([Reference](https://cloud.google.com/python/docs/reference/bigframes/latest/bigframes.pandas#bigframes_pandas_merge)).  To work around this adding a dummy column to both tables to do an inner join on."
   ]
  },
  {
   "cell_type": "code",
   "execution_count": 352,
   "id": "bd04f4f7-7fc8-419e-9f61-331068645eac",
   "metadata": {},
   "outputs": [],
   "source": [
    "train_products['dummy'] = 1\n",
    "test_products['dummy'] = 1\n",
    "product_hierarchy['dummy'] = 1"
   ]
  },
  {
   "cell_type": "code",
   "execution_count": 353,
   "id": "eaaca7b4-128d-4e82-8e4f-b1c2a8de3cf7",
   "metadata": {},
   "outputs": [],
   "source": [
    "train_products = train_products.merge(product_hierarchy, how = 'inner', on = 'dummy').drop('dummy', axis = 1)\n",
    "test_products = test_products.merge(product_hierarchy, how = 'inner', on = 'dummy').drop('dummy', axis = 1)\n",
    "product_hiearchy = product_hierarchy.drop('dummy', axis = 1)"
   ]
  },
  {
   "cell_type": "code",
   "execution_count": 354,
   "id": "1dc1933c-9bb2-4a9a-8007-4ea65c9f69b9",
   "metadata": {},
   "outputs": [
    {
     "data": {
      "application/vnd.jupyter.widget-view+json": {
       "model_id": "62b2cbe6f2e24ad2ae98955e76686b53",
       "version_major": 2,
       "version_minor": 0
      },
      "text/plain": [
       "HTML(value='Query job cd9bd824-16fe-4c56-846b-8db96ff2ded3 is RUNNING. <a target=\"_blank\" href=\"https://consol…"
      ]
     },
     "metadata": {},
     "output_type": "display_data"
    },
    {
     "data": {
      "application/vnd.jupyter.widget-view+json": {
       "model_id": "c9c4fe7d6ce14800981567dd14af8987",
       "version_major": 2,
       "version_minor": 0
      },
      "text/plain": [
       "HTML(value='Query job 4e6ee9b8-df60-439d-b1b4-83fdafbf26c8 is RUNNING. <a target=\"_blank\" href=\"https://consol…"
      ]
     },
     "metadata": {},
     "output_type": "display_data"
    },
    {
     "data": {
      "application/vnd.jupyter.widget-view+json": {
       "model_id": "f5f41d56ee2f461db81d152d44a085e6",
       "version_major": 2,
       "version_minor": 0
      },
      "text/plain": [
       "HTML(value='Query job 59c8a51f-9500-4628-afa6-50c818094f09 is DONE. 0 Bytes processed. <a target=\"_blank\" href…"
      ]
     },
     "metadata": {},
     "output_type": "display_data"
    },
    {
     "data": {
      "text/html": [
       "<div>\n",
       "<style scoped>\n",
       "    .dataframe tbody tr th:only-of-type {\n",
       "        vertical-align: middle;\n",
       "    }\n",
       "\n",
       "    .dataframe tbody tr th {\n",
       "        vertical-align: top;\n",
       "    }\n",
       "\n",
       "    .dataframe thead th {\n",
       "        text-align: right;\n",
       "    }\n",
       "</style>\n",
       "<table border=\"1\" class=\"dataframe\">\n",
       "  <thead>\n",
       "    <tr style=\"text-align: right;\">\n",
       "      <th></th>\n",
       "      <th>name</th>\n",
       "      <th>name_embedding</th>\n",
       "      <th>category</th>\n",
       "      <th>department</th>\n",
       "      <th>hierarchy_node</th>\n",
       "      <th>hierarchy_node_embedding</th>\n",
       "      <th>hierarchy_level</th>\n",
       "    </tr>\n",
       "  </thead>\n",
       "  <tbody>\n",
       "    <tr>\n",
       "      <th>0</th>\n",
       "      <td>Fold Over Solid or 2 Color Yoga Shorts</td>\n",
       "      <td>[0.03180916979908943, -0.00898746121674776, 0....</td>\n",
       "      <td>Active</td>\n",
       "      <td>Women</td>\n",
       "      <td>Men</td>\n",
       "      <td>[-0.04335380345582962, 0.00046764410217292607,...</td>\n",
       "      <td>department</td>\n",
       "    </tr>\n",
       "    <tr>\n",
       "      <th>1</th>\n",
       "      <td>Fold Over Solid or 2 Color Yoga Shorts</td>\n",
       "      <td>[0.03180916979908943, -0.00898746121674776, 0....</td>\n",
       "      <td>Active</td>\n",
       "      <td>Women</td>\n",
       "      <td>Women</td>\n",
       "      <td>[-0.03191345930099487, -0.006457726005464792, ...</td>\n",
       "      <td>department</td>\n",
       "    </tr>\n",
       "    <tr>\n",
       "      <th>2</th>\n",
       "      <td>Fold Over Solid or 2 Color Yoga Shorts</td>\n",
       "      <td>[0.03180916979908943, -0.00898746121674776, 0....</td>\n",
       "      <td>Active</td>\n",
       "      <td>Women</td>\n",
       "      <td>Swim</td>\n",
       "      <td>[0.01972227729856968, -0.01661798171699047, -0...</td>\n",
       "      <td>category</td>\n",
       "    </tr>\n",
       "    <tr>\n",
       "      <th>3</th>\n",
       "      <td>Fold Over Solid or 2 Color Yoga Shorts</td>\n",
       "      <td>[0.03180916979908943, -0.00898746121674776, 0....</td>\n",
       "      <td>Active</td>\n",
       "      <td>Women</td>\n",
       "      <td>Jeans</td>\n",
       "      <td>[-0.016635224223136902, 0.0025853165425360203,...</td>\n",
       "      <td>category</td>\n",
       "    </tr>\n",
       "    <tr>\n",
       "      <th>4</th>\n",
       "      <td>Fold Over Solid or 2 Color Yoga Shorts</td>\n",
       "      <td>[0.03180916979908943, -0.00898746121674776, 0....</td>\n",
       "      <td>Active</td>\n",
       "      <td>Women</td>\n",
       "      <td>Pants</td>\n",
       "      <td>[-7.701403956161812e-05, 0.015807654708623886,...</td>\n",
       "      <td>category</td>\n",
       "    </tr>\n",
       "  </tbody>\n",
       "</table>\n",
       "<p>5 rows × 7 columns</p>\n",
       "</div>[5 rows x 7 columns in total]"
      ],
      "text/plain": [
       "                                     name  \\\n",
       "0  Fold Over Solid or 2 Color Yoga Shorts   \n",
       "1  Fold Over Solid or 2 Color Yoga Shorts   \n",
       "2  Fold Over Solid or 2 Color Yoga Shorts   \n",
       "3  Fold Over Solid or 2 Color Yoga Shorts   \n",
       "4  Fold Over Solid or 2 Color Yoga Shorts   \n",
       "\n",
       "                                      name_embedding category department  \\\n",
       "0  [0.03180916979908943, -0.00898746121674776, 0....   Active      Women   \n",
       "1  [0.03180916979908943, -0.00898746121674776, 0....   Active      Women   \n",
       "2  [0.03180916979908943, -0.00898746121674776, 0....   Active      Women   \n",
       "3  [0.03180916979908943, -0.00898746121674776, 0....   Active      Women   \n",
       "4  [0.03180916979908943, -0.00898746121674776, 0....   Active      Women   \n",
       "\n",
       "  hierarchy_node                           hierarchy_node_embedding  \\\n",
       "0            Men  [-0.04335380345582962, 0.00046764410217292607,...   \n",
       "1          Women  [-0.03191345930099487, -0.006457726005464792, ...   \n",
       "2           Swim  [0.01972227729856968, -0.01661798171699047, -0...   \n",
       "3          Jeans  [-0.016635224223136902, 0.0025853165425360203,...   \n",
       "4          Pants  [-7.701403956161812e-05, 0.015807654708623886,...   \n",
       "\n",
       "  hierarchy_level  \n",
       "0      department  \n",
       "1      department  \n",
       "2        category  \n",
       "3        category  \n",
       "4        category  \n",
       "\n",
       "[5 rows x 7 columns]"
      ]
     },
     "execution_count": 354,
     "metadata": {},
     "output_type": "execute_result"
    }
   ],
   "source": [
    "train_products.head()"
   ]
  },
  {
   "cell_type": "markdown",
   "id": "3bec0668-66be-452e-a102-48a2c08f4f94",
   "metadata": {},
   "source": [
    "### Add Label To Training Training And Test Data"
   ]
  },
  {
   "cell_type": "code",
   "execution_count": 355,
   "id": "d214e547-fc95-4b28-8d51-0f7a6a965010",
   "metadata": {},
   "outputs": [],
   "source": [
    "train_products_yes = train_products[((train_products['category'] == train_products['hierarchy_node']) & (train_products['hierarchy_level'] == 'category')) | ((train_products['department'] == train_products['hierarchy_node']) & (train_products['hierarchy_level'] == 'department'))]\n",
    "train_products_yes['label'] = 1\n",
    "train_products_no = train_products[((train_products['category'] != train_products['hierarchy_node']) & (train_products['hierarchy_level'] == 'category')) | ((train_products['department'] != train_products['hierarchy_node']) & (train_products['hierarchy_level'] == 'department'))]\n",
    "train_products_no['label'] = 0\n",
    "\n",
    "train_products = bf.concat([train_products_yes, train_products_no])"
   ]
  },
  {
   "cell_type": "code",
   "execution_count": 356,
   "id": "e1e9cae8-055b-4187-87d8-6f5a1b91be9d",
   "metadata": {},
   "outputs": [],
   "source": [
    "test_products_yes = test_products[((test_products['category'] == test_products['hierarchy_node']) & (test_products['hierarchy_level'] == 'category')) | ((test_products['department'] == test_products['hierarchy_node']) & (test_products['hierarchy_level'] == 'department'))]\n",
    "test_products_yes['label'] = 1\n",
    "test_products_no = test_products[((test_products['category'] != test_products['hierarchy_node']) & (test_products['hierarchy_level'] == 'category')) | ((test_products['department'] != test_products['hierarchy_node']) & (test_products['hierarchy_level'] == 'department'))]\n",
    "test_products_no['label'] = 0\n",
    "\n",
    "test_products = bf.concat([test_products_yes, test_products_no])"
   ]
  },
  {
   "cell_type": "markdown",
   "id": "2d3650b3-4e69-4a1c-83b1-ab8e2b0f47de",
   "metadata": {},
   "source": [
    "Make BigQuery tables from the temporary tables:"
   ]
  },
  {
   "cell_type": "code",
   "execution_count": 357,
   "id": "0cf8a1e2-0e49-4d91-bec2-9fa38d9148f1",
   "metadata": {},
   "outputs": [
    {
     "data": {
      "application/vnd.jupyter.widget-view+json": {
       "model_id": "d911fb6efe6c4c1d83a33ea34e30b0a6",
       "version_major": 2,
       "version_minor": 0
      },
      "text/plain": [
       "HTML(value='Query job 1f3b01be-2f79-4a3a-9d80-e52804acbbee is RUNNING. <a target=\"_blank\" href=\"https://consol…"
      ]
     },
     "metadata": {},
     "output_type": "display_data"
    },
    {
     "data": {
      "application/vnd.jupyter.widget-view+json": {
       "model_id": "9b0049572e70456694058233dc36e12e",
       "version_major": 2,
       "version_minor": 0
      },
      "text/plain": [
       "HTML(value='Query job caaf048b-d73c-45dc-ba95-c6e08cb63b93 is RUNNING. <a target=\"_blank\" href=\"https://consol…"
      ]
     },
     "metadata": {},
     "output_type": "display_data"
    }
   ],
   "source": [
    "train_products.to_gbq(f'{BQ_PROJECT}.{BQ_DATASET}.{BQ_TABLE}_train_products', if_exists = 'replace', index = False)\n",
    "test_products.to_gbq(f'{BQ_PROJECT}.{BQ_DATASET}.{BQ_TABLE}_test_products', if_exists = 'replace', index = False)"
   ]
  },
  {
   "cell_type": "markdown",
   "id": "cdd9f5d5-7035-445c-9f78-f146389c16eb",
   "metadata": {},
   "source": [
    "### Create Feature Embedding: Absolute Difference of Product and Hiearchy"
   ]
  },
  {
   "cell_type": "code",
   "execution_count": 320,
   "id": "ec970008-b378-4e25-b696-1481ab4cc31b",
   "metadata": {},
   "outputs": [],
   "source": [
    "# hold for future"
   ]
  },
  {
   "cell_type": "markdown",
   "id": "4ef9d7d8-84d2-403c-9118-73ff966e11b5",
   "metadata": {},
   "source": [
    "### Create Model With Test Data"
   ]
  },
  {
   "cell_type": "code",
   "execution_count": 366,
   "id": "1dde2108-18ca-4be8-a577-7a795cdb08b1",
   "metadata": {},
   "outputs": [],
   "source": [
    "features = ''\n",
    "for i in range(768):\n",
    "    features += f\"\"\",\n",
    "    name_embedding[{i}] as name_{i}, hierarchy_node_embedding[{i}] as hier_{i}, ABS(name_embedding[{i}] - hierarchy_node_embedding[{i}]) as adiff_{i} \"\"\"\n",
    "\n",
    "test_input_query = f\"\"\"\n",
    "SELECT *, ROW_NUMBER() OVER (PARTITION BY 'dummy') as id {features}\n",
    "FROM `{BQ_PROJECT}.{BQ_DATASET}.{BQ_TABLE}_test_products`\n",
    "WHERE name is not null AND hierarchy_node is not null\n",
    "\"\"\"\n",
    "\n",
    "train_input_query = f\"\"\"\n",
    "SELECT *, ROW_NUMBER() OVER (PARTITION BY 'dummy') as id {features}\n",
    "FROM `{BQ_PROJECT}.{BQ_DATASET}.{BQ_TABLE}_train_products`\n",
    "WHERE name is not null\n",
    "    AND ARRAY_LENGTH(name_embedding) > 0\n",
    "    AND ARRAY_LENGTH(hierarchy_node_embedding) > 0\n",
    "\"\"\""
   ]
  },
  {
   "cell_type": "code",
   "execution_count": 359,
   "id": "9b920406-3d63-4e88-ab84-cac9400b4610",
   "metadata": {},
   "outputs": [],
   "source": [
    "#print(test_input)"
   ]
  },
  {
   "cell_type": "code",
   "execution_count": 360,
   "id": "9b78075d-2bfa-4ed8-9727-21df94c47929",
   "metadata": {},
   "outputs": [
    {
     "data": {
      "application/vnd.jupyter.widget-view+json": {
       "model_id": "8fa5d23088314ced87cbf7914384d1f4",
       "version_major": 2,
       "version_minor": 0
      },
      "text/plain": [
       "HTML(value='Query job 16467e10-3c75-4fef-bb7a-86e0d3000ed7 is RUNNING. <a target=\"_blank\" href=\"https://consol…"
      ]
     },
     "metadata": {},
     "output_type": "display_data"
    },
    {
     "data": {
      "application/vnd.jupyter.widget-view+json": {
       "model_id": "8655bb9410604543805a07b1d889a32b",
       "version_major": 2,
       "version_minor": 0
      },
      "text/plain": [
       "HTML(value='Query job 849cdac7-227f-4e72-a765-7288bac47bd1 is RUNNING. <a target=\"_blank\" href=\"https://consol…"
      ]
     },
     "metadata": {},
     "output_type": "display_data"
    }
   ],
   "source": [
    "test_input = bf.read_gbq(test_input_query)"
   ]
  },
  {
   "cell_type": "code",
   "execution_count": 367,
   "id": "e691a279-1314-4c08-907e-e1f5a7ed9f30",
   "metadata": {},
   "outputs": [
    {
     "data": {
      "application/vnd.jupyter.widget-view+json": {
       "model_id": "cfa6adf9162043dbb7e19ede604cd255",
       "version_major": 2,
       "version_minor": 0
      },
      "text/plain": [
       "HTML(value='Query job cfafe7a4-0d95-4348-bd2f-cecf1df62dbe is RUNNING. <a target=\"_blank\" href=\"https://consol…"
      ]
     },
     "metadata": {},
     "output_type": "display_data"
    },
    {
     "data": {
      "application/vnd.jupyter.widget-view+json": {
       "model_id": "2bd02a4deb0842ddb8cf5dbf629ee7bd",
       "version_major": 2,
       "version_minor": 0
      },
      "text/plain": [
       "HTML(value='Query job 4eb5e7d6-de54-4cd8-be58-9856669be8f1 is RUNNING. <a target=\"_blank\" href=\"https://consol…"
      ]
     },
     "metadata": {},
     "output_type": "display_data"
    }
   ],
   "source": [
    "train_input = bf.read_gbq(train_input_query)"
   ]
  },
  {
   "cell_type": "code",
   "execution_count": 368,
   "id": "baeaf5e8-b220-4105-ba15-fcb7e916163d",
   "metadata": {},
   "outputs": [
    {
     "data": {
      "application/vnd.jupyter.widget-view+json": {
       "model_id": "7c5f91d1dc6f4e03b54e1a8a3a47de81",
       "version_major": 2,
       "version_minor": 0
      },
      "text/plain": [
       "HTML(value='Query job 862fbc57-9820-4cc2-bd74-81ced1f02c60 is DONE. 0 Bytes processed. <a target=\"_blank\" href…"
      ]
     },
     "metadata": {},
     "output_type": "display_data"
    },
    {
     "data": {
      "text/plain": [
       "(733348, 2313)"
      ]
     },
     "execution_count": 368,
     "metadata": {},
     "output_type": "execute_result"
    }
   ],
   "source": [
    "train_input.shape"
   ]
  },
  {
   "cell_type": "code",
   "execution_count": 369,
   "id": "5f33e96d-7708-4fce-a6dd-0563cf0ee70e",
   "metadata": {},
   "outputs": [
    {
     "data": {
      "text/plain": [
       "name              string[pyarrow]\n",
       "name_embedding             object\n",
       "category          string[pyarrow]\n",
       "department        string[pyarrow]\n",
       "hierarchy_node    string[pyarrow]\n",
       "                       ...       \n",
       "hier_766                  Float64\n",
       "adiff_766                 Float64\n",
       "name_767                  Float64\n",
       "hier_767                  Float64\n",
       "adiff_767                 Float64\n",
       "Length: 2313, dtype: object"
      ]
     },
     "execution_count": 369,
     "metadata": {},
     "output_type": "execute_result"
    }
   ],
   "source": [
    "train_input.dtypes"
   ]
  },
  {
   "cell_type": "code",
   "execution_count": null,
   "id": "3f2c1ebf-f99e-491f-8fd2-cf2fed59d900",
   "metadata": {},
   "outputs": [],
   "source": []
  },
  {
   "cell_type": "code",
   "execution_count": null,
   "id": "0472d9d4-64ef-471a-abd4-c6cf244a802f",
   "metadata": {},
   "outputs": [],
   "source": []
  },
  {
   "cell_type": "code",
   "execution_count": null,
   "id": "86cf9e2c-42e9-4058-a878-b562c916f734",
   "metadata": {},
   "outputs": [],
   "source": []
  },
  {
   "cell_type": "code",
   "execution_count": 381,
   "id": "27ca90ef-72b9-4be9-bac4-f542f4ed9a84",
   "metadata": {},
   "outputs": [],
   "source": [
    "classifier_model = bfml.ensemble.XGBClassifier()"
   ]
  },
  {
   "cell_type": "code",
   "execution_count": 382,
   "id": "4f123b13-1485-4223-a2b0-98a5934d8719",
   "metadata": {},
   "outputs": [],
   "source": [
    "features = [col for col in train_input.columns if (col.startswith('name_') or col.startswith('hier_')) and col != 'name_embedding']"
   ]
  },
  {
   "cell_type": "code",
   "execution_count": null,
   "id": "9913971e-71dd-4dea-ab96-14b21b89141a",
   "metadata": {},
   "outputs": [
    {
     "data": {
      "application/vnd.jupyter.widget-view+json": {
       "model_id": "bedf0187619f4205b7969425492f087d",
       "version_major": 2,
       "version_minor": 0
      },
      "text/plain": [
       "HTML(value='Query job d3844c8d-139b-4b32-b0f6-e820424e3fba is RUNNING. <a target=\"_blank\" href=\"https://consol…"
      ]
     },
     "metadata": {},
     "output_type": "display_data"
    }
   ],
   "source": [
    "classifier_model.fit(X = train_input[features], y = train_input['label'])"
   ]
  },
  {
   "cell_type": "code",
   "execution_count": null,
   "id": "4bc2a586-e85f-49e3-a81e-330d94529357",
   "metadata": {},
   "outputs": [],
   "source": [
    "classifier_model.to_gbq(f'{BQ_PROJECT}.{BQ_DATASET}.{BQ_TABLE}_classifier', replace = True)"
   ]
  },
  {
   "cell_type": "code",
   "execution_count": null,
   "id": "749a25c9-51d5-4008-8f1d-82332541a51a",
   "metadata": {},
   "outputs": [],
   "source": []
  },
  {
   "cell_type": "code",
   "execution_count": null,
   "id": "9e778643-9fd3-46df-bee5-50604773899f",
   "metadata": {},
   "outputs": [],
   "source": []
  },
  {
   "cell_type": "code",
   "execution_count": null,
   "id": "97deef70-cb2a-4607-9c02-905d700f1dab",
   "metadata": {},
   "outputs": [],
   "source": []
  },
  {
   "cell_type": "code",
   "execution_count": null,
   "id": "c221dc9a-f8c4-4bec-8e0e-96f2a031f76b",
   "metadata": {},
   "outputs": [],
   "source": [
    "classifier_model_adiff = bfml.ensemble.XGBClassifier()"
   ]
  },
  {
   "cell_type": "code",
   "execution_count": null,
   "id": "3dd4868d-71eb-4489-b0b3-d3b180e71eda",
   "metadata": {},
   "outputs": [],
   "source": [
    "features = [col for col in train_input.columns if col.startswith('adiff_')]"
   ]
  },
  {
   "cell_type": "code",
   "execution_count": null,
   "id": "c92addbb-00fe-4dd7-bb18-c013a86f0e65",
   "metadata": {},
   "outputs": [],
   "source": [
    "classifier_model_adiff.fit(X = train_input[features], y = train_input['label'])"
   ]
  },
  {
   "cell_type": "code",
   "execution_count": null,
   "id": "1e47ae4e-f05d-473d-9ac0-965978185be8",
   "metadata": {},
   "outputs": [],
   "source": [
    "classifier_model_adiff.to_gbq(f'{BQ_PROJECT}.{BQ_DATASET}.{BQ_TABLE}_classifier_adiff', replace = True)"
   ]
  },
  {
   "cell_type": "code",
   "execution_count": null,
   "id": "58fcbf52-c92c-4b9b-8a24-7f0473865019",
   "metadata": {},
   "outputs": [],
   "source": []
  },
  {
   "cell_type": "code",
   "execution_count": null,
   "id": "44ed74f5-07e6-41eb-9a90-6c992e0d43b3",
   "metadata": {},
   "outputs": [],
   "source": []
  },
  {
   "cell_type": "code",
   "execution_count": null,
   "id": "983245f6-6bca-4447-b122-d9158001322b",
   "metadata": {},
   "outputs": [],
   "source": []
  },
  {
   "cell_type": "code",
   "execution_count": 379,
   "id": "c7221983-6b96-498a-bf1b-894aafc3a6fa",
   "metadata": {},
   "outputs": [],
   "source": []
  },
  {
   "cell_type": "code",
   "execution_count": null,
   "id": "cf2086c9-5fdc-4f7a-8758-38c72deb684c",
   "metadata": {},
   "outputs": [],
   "source": []
  },
  {
   "cell_type": "code",
   "execution_count": null,
   "id": "c715bb98-12f7-4c51-a238-c8674cd96d7c",
   "metadata": {},
   "outputs": [],
   "source": []
  },
  {
   "cell_type": "code",
   "execution_count": null,
   "id": "fe3379d0-e361-469c-9690-be265cd3b85a",
   "metadata": {},
   "outputs": [],
   "source": []
  },
  {
   "cell_type": "code",
   "execution_count": null,
   "id": "911d79f4-164e-4069-82c7-5e9fcc2756e8",
   "metadata": {},
   "outputs": [],
   "source": []
  },
  {
   "cell_type": "code",
   "execution_count": null,
   "id": "6bfeb02f-69d8-4c75-92b6-355c976483fa",
   "metadata": {},
   "outputs": [],
   "source": []
  },
  {
   "cell_type": "code",
   "execution_count": null,
   "id": "bc552f98-16e2-4bd6-b0c6-c30e4f281e24",
   "metadata": {},
   "outputs": [],
   "source": []
  },
  {
   "cell_type": "code",
   "execution_count": null,
   "id": "6f67a8f8-6ddf-48a8-97cf-298b8deb9d1a",
   "metadata": {},
   "outputs": [],
   "source": []
  },
  {
   "cell_type": "code",
   "execution_count": null,
   "id": "7468f250-96bf-4dca-b8c2-32e5472b014c",
   "metadata": {},
   "outputs": [],
   "source": []
  },
  {
   "cell_type": "code",
   "execution_count": null,
   "id": "1358bc49-5606-45c5-9e38-61304cb5dd43",
   "metadata": {},
   "outputs": [],
   "source": []
  },
  {
   "cell_type": "code",
   "execution_count": null,
   "id": "d714db74-6c08-4f25-9121-ace32404478e",
   "metadata": {},
   "outputs": [],
   "source": []
  },
  {
   "cell_type": "code",
   "execution_count": null,
   "id": "33b8bcba-bf51-4a88-ab57-58f9bf15e0bb",
   "metadata": {},
   "outputs": [],
   "source": []
  },
  {
   "cell_type": "code",
   "execution_count": null,
   "id": "a5a6a2e9-3ca7-448b-ad0d-b92199da33a3",
   "metadata": {},
   "outputs": [],
   "source": []
  },
  {
   "cell_type": "code",
   "execution_count": 151,
   "id": "6c055186-2409-4140-98b5-4b09bda5825f",
   "metadata": {},
   "outputs": [],
   "source": [
    "bq_connection.ConnectionServiceClient().delete_connection(name = f\"projects/{BQ_PROJECT}/locations/{BQ_REGION}/connections/{SERIES}_{EXPERIMENT}\")"
   ]
  },
  {
   "cell_type": "code",
   "execution_count": null,
   "id": "945a79f2-87a0-4a2f-a4ab-c4bd09d127b9",
   "metadata": {},
   "outputs": [],
   "source": []
  }
 ],
 "metadata": {
  "environment": {
   "kernel": "python3",
   "name": "tf2-gpu.2-12.m110",
   "type": "gcloud",
   "uri": "gcr.io/deeplearning-platform-release/tf2-gpu.2-12:m110"
  },
  "kernelspec": {
   "display_name": "Python 3",
   "language": "python",
   "name": "python3"
  },
  "language_info": {
   "codemirror_mode": {
    "name": "ipython",
    "version": 3
   },
   "file_extension": ".py",
   "mimetype": "text/x-python",
   "name": "python",
   "nbconvert_exporter": "python",
   "pygments_lexer": "ipython3",
   "version": "3.10.12"
  }
 },
 "nbformat": 4,
 "nbformat_minor": 5
}
