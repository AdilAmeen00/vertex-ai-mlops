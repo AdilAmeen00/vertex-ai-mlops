{
 "cells": [
  {
   "cell_type": "markdown",
   "id": "eec4925c-fec5-46d7-8abe-c8a60b8831dd",
   "metadata": {},
   "source": [
    "# Vertex AI GenAI Embeddings - As Features For Hierarchical Classification\n",
    "\n",
    "**IN DEVELOPMENT**\n",
    "\n",
    "Embeddings are vector representations of text or images or both.  These are vectors of floating point numbers that come from a model that has been trained to embed content in a way that efficiently represents the content.\n",
    "\n",
    "Getting embeddings for text, or multimodel text and images using Vetex AI foundational models is demonstrated in notebook []().\n",
    "\n",
    "This notebook show a use case for embeddings as features. \n",
    "\n",
    "\n",
    "Workflow:\n",
    "- Review product catelog data in BigQuery Public table: `bigquery-public-data.thelook_ecommerce.products`\n",
    "- Create a table with embeddings for:\n",
    "    - `name` = A brief description of the product\n",
    "    - `department` = The first level of the product catelog\n",
    "    - `category` = The second level of the product catelog\n",
    "- Setup BigQuery Resource Connection\n",
    "- Use ML.* to generate embeddings using Vertex AI\n"
   ]
  },
  {
   "cell_type": "markdown",
   "id": "bd6f8c33-3779-426e-bf52-ce2197644caa",
   "metadata": {},
   "source": [
    "---\n",
    "## Setup"
   ]
  },
  {
   "cell_type": "code",
   "execution_count": 1,
   "id": "323b29b5-d304-4e2e-a706-31404680e35e",
   "metadata": {},
   "outputs": [
    {
     "data": {
      "text/plain": [
       "'statmike-mlops-349915'"
      ]
     },
     "execution_count": 1,
     "metadata": {},
     "output_type": "execute_result"
    }
   ],
   "source": [
    "project = !gcloud config get-value project\n",
    "PROJECT_ID = project[0]\n",
    "PROJECT_ID"
   ]
  },
  {
   "cell_type": "code",
   "execution_count": 2,
   "id": "eb43141d-1ea2-4c31-99e8-8662f16f01fa",
   "metadata": {},
   "outputs": [],
   "source": [
    "REGION = 'us-central1'\n",
    "SERIES = 'applied-genai'\n",
    "EXPERIMENT = 'embed-feature-classifier'"
   ]
  },
  {
   "cell_type": "code",
   "execution_count": 3,
   "id": "0a4758ed-99f7-486c-a98e-83652c8e7bef",
   "metadata": {},
   "outputs": [],
   "source": [
    "# make this the BQ Project / Dataset / Table prefix to store results\n",
    "BQ_PROJECT = PROJECT_ID\n",
    "BQ_DATASET = SERIES.replace('-', '_')\n",
    "BQ_TABLE = EXPERIMENT\n",
    "BQ_REGION = REGION[0:2] # subset to first two characters for multi-region"
   ]
  },
  {
   "cell_type": "code",
   "execution_count": 4,
   "id": "c22a504a-8b1c-485f-bc16-2371720d7cb0",
   "metadata": {},
   "outputs": [
    {
     "name": "stderr",
     "output_type": "stream",
     "text": [
      "2023-09-17 18:17:41.980064: I tensorflow/core/platform/cpu_feature_guard.cc:182] This TensorFlow binary is optimized to use available CPU instructions in performance-critical operations.\n",
      "To enable the following instructions: AVX2 FMA, in other operations, rebuild TensorFlow with the appropriate compiler flags.\n",
      "/opt/conda/lib/python3.10/site-packages/tensorflow_io/python/ops/__init__.py:98: UserWarning: unable to load libtensorflow_io_plugins.so: unable to open file: libtensorflow_io_plugins.so, from paths: ['/opt/conda/lib/python3.10/site-packages/tensorflow_io/python/ops/libtensorflow_io_plugins.so']\n",
      "caused by: ['/opt/conda/lib/python3.10/site-packages/tensorflow_io/python/ops/libtensorflow_io_plugins.so: undefined symbol: _ZN3tsl6StatusC1EN10tensorflow5error4CodeESt17basic_string_viewIcSt11char_traitsIcEENS_14SourceLocationE']\n",
      "  warnings.warn(f\"unable to load libtensorflow_io_plugins.so: {e}\")\n",
      "/opt/conda/lib/python3.10/site-packages/tensorflow_io/python/ops/__init__.py:104: UserWarning: file system plugins are not loaded: unable to open file: libtensorflow_io.so, from paths: ['/opt/conda/lib/python3.10/site-packages/tensorflow_io/python/ops/libtensorflow_io.so']\n",
      "caused by: ['/opt/conda/lib/python3.10/site-packages/tensorflow_io/python/ops/libtensorflow_io.so: undefined symbol: _ZTVN10tensorflow13GcsFileSystemE']\n",
      "  warnings.warn(f\"file system plugins are not loaded: {e}\")\n"
     ]
    }
   ],
   "source": [
    "import json\n",
    "import numpy as np\n",
    "import vertexai.language_models\n",
    "import bigframes.pandas as bf\n",
    "import bigframes.ml as bfml\n",
    "from bigframes.ml import llm\n",
    "from bigframes.ml import model_selection\n",
    "from bigframes.ml import ensemble\n",
    "from google.cloud import bigquery_connection_v1 as bq_connection\n",
    "from google.cloud import bigquery"
   ]
  },
  {
   "cell_type": "code",
   "execution_count": 5,
   "id": "92324af5-0ca1-4ed6-9f92-f161e1739268",
   "metadata": {},
   "outputs": [],
   "source": [
    "vertexai.init(project = PROJECT_ID, location = REGION)\n",
    "bq = bigquery.Client(project = PROJECT_ID)\n",
    "bf.reset_session()\n",
    "bf.options.bigquery.project = BQ_PROJECT\n",
    "bf.options.bigquery.location = BQ_REGION\n",
    "bf_session = bf.get_global_session()"
   ]
  },
  {
   "cell_type": "markdown",
   "id": "9ab05d84-1de3-4afd-b9bd-116810198838",
   "metadata": {},
   "source": [
    "---\n",
    "## Review Data Source\n",
    "\n",
    "BigQuery Public table `bigquery-public-data.thelook_ecommerce.products`."
   ]
  },
  {
   "cell_type": "code",
   "execution_count": 6,
   "id": "7e78a051-5a00-4e9f-b267-4fa4f9bf52ef",
   "metadata": {},
   "outputs": [
    {
     "data": {
      "application/vnd.jupyter.widget-view+json": {
       "model_id": "c0d498e15ffb404884d079466cb0ddc9",
       "version_major": 2,
       "version_minor": 0
      },
      "text/plain": [
       "HTML(value='Query job 4d5e5292-e80b-4b33-b519-b718ee830247 is RUNNING. <a target=\"_blank\" href=\"https://consol…"
      ]
     },
     "metadata": {},
     "output_type": "display_data"
    }
   ],
   "source": [
    "products = bf.read_gbq('bigquery-public-data.thelook_ecommerce.products')"
   ]
  },
  {
   "cell_type": "code",
   "execution_count": 7,
   "id": "a6ffd238-bcf6-49c7-836c-ac88c2237b13",
   "metadata": {},
   "outputs": [
    {
     "data": {
      "text/plain": [
       "id                                  Int64\n",
       "cost                              Float64\n",
       "category                  string[pyarrow]\n",
       "name                      string[pyarrow]\n",
       "brand                     string[pyarrow]\n",
       "retail_price                      Float64\n",
       "department                string[pyarrow]\n",
       "sku                       string[pyarrow]\n",
       "distribution_center_id              Int64\n",
       "dtype: object"
      ]
     },
     "execution_count": 7,
     "metadata": {},
     "output_type": "execute_result"
    }
   ],
   "source": [
    "products.dtypes"
   ]
  },
  {
   "cell_type": "code",
   "execution_count": 8,
   "id": "513a1d7c-1101-4179-b519-5f01d005ab91",
   "metadata": {},
   "outputs": [
    {
     "data": {
      "application/vnd.jupyter.widget-view+json": {
       "model_id": "2ce7cd8d14684de8b9f29ea40e1264c9",
       "version_major": 2,
       "version_minor": 0
      },
      "text/plain": [
       "HTML(value='Query job e9a871f3-2a07-4a6c-9bd3-9487ac48b36d is DONE. 410.5 kB processed. <a target=\"_blank\" hre…"
      ]
     },
     "metadata": {},
     "output_type": "display_data"
    },
    {
     "data": {
      "text/plain": [
       "['Men', 'Women']"
      ]
     },
     "execution_count": 8,
     "metadata": {},
     "output_type": "execute_result"
    }
   ],
   "source": [
    "products['department'].unique().tolist()"
   ]
  },
  {
   "cell_type": "code",
   "execution_count": 9,
   "id": "59b801c6-880a-4709-8c1a-5a26c75c1c45",
   "metadata": {},
   "outputs": [
    {
     "data": {
      "application/vnd.jupyter.widget-view+json": {
       "model_id": "97a965ebfe65417ea6b3f435d3588b46",
       "version_major": 2,
       "version_minor": 0
      },
      "text/plain": [
       "HTML(value='Query job d9264a1a-55a5-4869-9f32-551ac7912815 is DONE. 594.2 kB processed. <a target=\"_blank\" hre…"
      ]
     },
     "metadata": {},
     "output_type": "display_data"
    },
    {
     "data": {
      "text/plain": [
       "['Swim',\n",
       " 'Jeans',\n",
       " 'Pants',\n",
       " 'Socks',\n",
       " 'Active',\n",
       " 'Shorts',\n",
       " 'Sweaters',\n",
       " 'Underwear',\n",
       " 'Accessories',\n",
       " 'Tops & Tees',\n",
       " 'Sleep & Lounge',\n",
       " 'Outerwear & Coats',\n",
       " 'Suits & Sport Coats',\n",
       " 'Fashion Hoodies & Sweatshirts',\n",
       " 'Plus',\n",
       " 'Suits',\n",
       " 'Skirts',\n",
       " 'Dresses',\n",
       " 'Leggings',\n",
       " 'Intimates',\n",
       " 'Maternity',\n",
       " 'Clothing Sets',\n",
       " 'Pants & Capris',\n",
       " 'Socks & Hosiery',\n",
       " 'Blazers & Jackets',\n",
       " 'Jumpsuits & Rompers']"
      ]
     },
     "execution_count": 9,
     "metadata": {},
     "output_type": "execute_result"
    }
   ],
   "source": [
    "products['category'].unique().tolist()"
   ]
  },
  {
   "cell_type": "code",
   "execution_count": 10,
   "id": "b50c61d6-4015-4a76-92d6-a3017b3e67ca",
   "metadata": {},
   "outputs": [
    {
     "data": {
      "application/vnd.jupyter.widget-view+json": {
       "model_id": "4e674908ed1e483e9a706e9c667c8b23",
       "version_major": 2,
       "version_minor": 0
      },
      "text/plain": [
       "HTML(value='Query job 4717bf53-8505-4416-9f08-90fe96e913ca is DONE. 233.0 kB processed. <a target=\"_blank\" hre…"
      ]
     },
     "metadata": {},
     "output_type": "display_data"
    },
    {
     "data": {
      "application/vnd.jupyter.widget-view+json": {
       "model_id": "8f82f222b5c3422bb6f2b3a681aef37d",
       "version_major": 2,
       "version_minor": 0
      },
      "text/plain": [
       "HTML(value='Query job c7243ca9-abb1-46a3-ab53-03097aa16313 is DONE. 1.7 MB processed. <a target=\"_blank\" href=…"
      ]
     },
     "metadata": {},
     "output_type": "display_data"
    },
    {
     "data": {
      "text/plain": [
       "0       2XU Men's Swimmers Compression Long Sleeve Top\n",
       "1           TYR Sport Men's Square Leg Short Swim Suit\n",
       "2      TYR Sport Men's Solid Durafast Jammer Swim Suit\n",
       "3    TYR Sport Men's Swim Short/Resistance Short Sw...\n",
       "4                      TYR Alliance Team Splice Jammer\n",
       "Name: name, dtype: string"
      ]
     },
     "execution_count": 10,
     "metadata": {},
     "output_type": "execute_result"
    }
   ],
   "source": [
    "products['name'].head()"
   ]
  },
  {
   "cell_type": "markdown",
   "id": "27a7d9a1-8ed7-4d73-9ad2-be8f052519a8",
   "metadata": {},
   "source": [
    "---\n",
    "## Create BigQuery Dataset"
   ]
  },
  {
   "cell_type": "code",
   "execution_count": 11,
   "id": "99eed461-619c-4ea7-8954-0714aa645490",
   "metadata": {},
   "outputs": [],
   "source": [
    "# create/link to dataset\n",
    "ds = bigquery.DatasetReference(BQ_PROJECT, BQ_DATASET)\n",
    "ds.location = BQ_REGION\n",
    "ds.labels = {'series': f'{SERIES}'}\n",
    "ds = bq.create_dataset(dataset = ds, exists_ok = True) "
   ]
  },
  {
   "cell_type": "markdown",
   "id": "0800ce2c-fb7e-43e1-bdb5-523017c61b17",
   "metadata": {},
   "source": [
    "---\n",
    "## BigQuery ML: Connect To Vertex AI LLMs with ML.GENERATE_TEXT\n",
    "\n",
    "BigQuery ML can `Create Model`s that are actually connections to Remote Models. [Reference](https://cloud.google.com/bigquery/docs/reference/standard-sql/bigqueryml-syntax-create-remote-model)\n",
    "\n",
    "Using the `REMOTE_SERVICE_TYPE = \"CLOUD_AI_LARGE_LANGUAGE_MODEL_V1\"` option will link to LLMs in Vertex AI!"
   ]
  },
  {
   "cell_type": "markdown",
   "id": "9aa0fcfb-b6ed-420a-90b3-983eb2cb9c09",
   "metadata": {},
   "source": [
    "### Connection Requirement\n",
    "\n",
    "To make a remote connection using BigQuery ML, BigQuery uses a CLOUD_RESOURCE connection. [Reference](https://cloud.google.com/bigquery/docs/reference/standard-sql/bigqueryml-syntax-create-remote-model#connection)"
   ]
  },
  {
   "cell_type": "markdown",
   "id": "af31ea08-83ea-40dc-af75-0dacc0f0b6ff",
   "metadata": {},
   "source": [
    "Make sure the [BigQuery Connection API](https://cloud.google.com/bigquery/docs/create-cloud-resource-connection) is enabled:"
   ]
  },
  {
   "cell_type": "code",
   "execution_count": 12,
   "id": "3af08cef-bf4b-46eb-adfd-fdba02d28e9b",
   "metadata": {},
   "outputs": [],
   "source": [
    "!gcloud services enable bigqueryconnection.googleapis.com"
   ]
  },
  {
   "cell_type": "markdown",
   "id": "3030c2d6-12e8-4f13-9259-9fed91819c6c",
   "metadata": {},
   "source": [
    "Create a new connection with type `CLOUD_RESOURCE`: First, check for existing connection."
   ]
  },
  {
   "cell_type": "code",
   "execution_count": 13,
   "id": "9241c229-de5a-43b0-b00e-9ca5d2fc1bb9",
   "metadata": {
    "scrolled": true,
    "tags": []
   },
   "outputs": [
    {
     "name": "stdout",
     "output_type": "stream",
     "text": [
      "Found existing connection with service account: bqcx-1026793852137-pdxa@gcp-sa-bigquery-condel.iam.gserviceaccount.com\n"
     ]
    }
   ],
   "source": [
    "try:\n",
    "    response = bq_connection.ConnectionServiceClient().get_connection(\n",
    "            request = bq_connection.GetConnectionRequest(\n",
    "                name = f\"projects/{BQ_PROJECT}/locations/{BQ_REGION}/connections/{SERIES}_{EXPERIMENT}\"\n",
    "            )\n",
    "    )\n",
    "    print(f'Found existing connection with service account: {response.cloud_resource.service_account_id}')\n",
    "    service_account = response.cloud_resource.service_account_id\n",
    "except Exception:\n",
    "    request = bq_connection.CreateConnectionRequest(\n",
    "        {\n",
    "            \"parent\": f\"projects/{BQ_PROJECT}/locations/{BQ_REGION}\",\n",
    "            \"connection_id\": f\"{SERIES}_{EXPERIMENT}\",\n",
    "            \"connection\": bq_connection.types.Connection(\n",
    "                {\n",
    "                    \"friendly_name\": f\"{SERIES}_{EXPERIMENT}\",\n",
    "                    \"cloud_resource\": bq_connection.CloudResourceProperties({})\n",
    "                }\n",
    "            )\n",
    "        }\n",
    "    )\n",
    "    response = bq_connection.ConnectionServiceClient().create_connection(request)\n",
    "    print(f'Created new connection with service account: {response.cloud_resource.service_account_id}')\n",
    "    service_account = response.cloud_resource.service_account_id\n",
    "    # assign the service account the Vertex AI User Role:\n",
    "    !gcloud projects add-iam-policy-binding {BQ_PROJECT} --member=serviceAccount:{service_account} --role=roles/aiplatform.user"
   ]
  },
  {
   "cell_type": "markdown",
   "id": "7f260feb-1746-4163-a00e-81edd64d9292",
   "metadata": {},
   "source": [
    "**NOTE**: The step above created a service account and assigned it the Vertex AI User Role.  This may take a moment to be recognized in the steps below.  If you get an error in one of the cells below try rerunning it."
   ]
  },
  {
   "cell_type": "markdown",
   "id": "94a7bcd7-c9f0-4ab9-8cd8-fb2778564beb",
   "metadata": {},
   "source": [
    "### Create The Remote Model In BigQuery"
   ]
  },
  {
   "cell_type": "markdown",
   "id": "75aeec0b-4b45-4d7a-9ad6-49cf4c890d0a",
   "metadata": {},
   "source": [
    "Create a temp model that connects to text embedding model on Vertex AI - [Reference](https://cloud.google.com/python/docs/reference/bigframes/latest/bigframes.ml.llm.PaLM2TextEmbeddingGenerator)"
   ]
  },
  {
   "cell_type": "code",
   "execution_count": 14,
   "id": "17b9d73e-b4a3-4947-a65a-ad5ef036eed7",
   "metadata": {},
   "outputs": [
    {
     "data": {
      "application/vnd.jupyter.widget-view+json": {
       "model_id": "3f082fcc188045f4978b191bdedc2989",
       "version_major": 2,
       "version_minor": 0
      },
      "text/plain": [
       "HTML(value='Query job 19a4ef52-e941-4193-b40f-c012ec0c5949 is RUNNING. <a target=\"_blank\" href=\"https://consol…"
      ]
     },
     "metadata": {},
     "output_type": "display_data"
    }
   ],
   "source": [
    "embed_model = bfml.llm.PaLM2TextEmbeddingGenerator(\n",
    "    session = bf_session,\n",
    "    connection_name = f'{BQ_PROJECT}.{BQ_REGION}.{SERIES}_{EXPERIMENT}'\n",
    ")"
   ]
  },
  {
   "cell_type": "markdown",
   "id": "99005bdd-7ef7-469b-b68a-570ecd16ec6a",
   "metadata": {},
   "source": [
    "---\n",
    "## Create Embeddings"
   ]
  },
  {
   "cell_type": "markdown",
   "id": "71a1e255-940c-4c3b-b03d-77bff298b2f4",
   "metadata": {},
   "source": [
    "### For Product Descriptions: Name\n",
    "\n",
    "**NOTE**: The following cell will create embedding requests for all 29k+ values in the `name` column and could take around **10 minutes** to run."
   ]
  },
  {
   "cell_type": "code",
   "execution_count": 15,
   "id": "99410c52-099c-4792-a379-013b10e1a700",
   "metadata": {},
   "outputs": [
    {
     "data": {
      "application/vnd.jupyter.widget-view+json": {
       "model_id": "d09631c8702e47798b5eccda8ef64820",
       "version_major": 2,
       "version_minor": 0
      },
      "text/plain": [
       "HTML(value='Query job 3b19696f-a75a-4aae-832e-1907f15d77cc is RUNNING. <a target=\"_blank\" href=\"https://consol…"
      ]
     },
     "metadata": {},
     "output_type": "display_data"
    },
    {
     "data": {
      "application/vnd.jupyter.widget-view+json": {
       "model_id": "b15081640c054980848b80ae254a1431",
       "version_major": 2,
       "version_minor": 0
      },
      "text/plain": [
       "HTML(value='Query job 2a7d29fd-47eb-484d-a993-d66f5b6aa95b is DONE. 233.0 kB processed. <a target=\"_blank\" hre…"
      ]
     },
     "metadata": {},
     "output_type": "display_data"
    }
   ],
   "source": [
    "products = products.join(embed_model.predict(products['name']).rename(columns={'text_embedding':'name_embedding'}))"
   ]
  },
  {
   "cell_type": "code",
   "execution_count": 16,
   "id": "f1c49eef-9e27-40a2-affe-3bfdd9d9c1aa",
   "metadata": {},
   "outputs": [
    {
     "data": {
      "application/vnd.jupyter.widget-view+json": {
       "model_id": "2ad0f93a47eb458aa303345de36cfcd2",
       "version_major": 2,
       "version_minor": 0
      },
      "text/plain": [
       "HTML(value='Query job 0e94bdf3-e109-436f-bc99-2dc63f042162 is DONE. 465.9 kB processed. <a target=\"_blank\" hre…"
      ]
     },
     "metadata": {},
     "output_type": "display_data"
    },
    {
     "data": {
      "application/vnd.jupyter.widget-view+json": {
       "model_id": "e44f7c06dd4545088c15c17fa592d3d0",
       "version_major": 2,
       "version_minor": 0
      },
      "text/plain": [
       "HTML(value='Query job 1950c084-6997-4bec-9961-dd53371b6763 is RUNNING. <a target=\"_blank\" href=\"https://consol…"
      ]
     },
     "metadata": {},
     "output_type": "display_data"
    },
    {
     "data": {
      "application/vnd.jupyter.widget-view+json": {
       "model_id": "68e673fda7184cd0aa842fde35554758",
       "version_major": 2,
       "version_minor": 0
      },
      "text/plain": [
       "HTML(value='Query job 631196f0-76bf-4622-ba3d-055114055b92 is DONE. 0 Bytes processed. <a target=\"_blank\" href…"
      ]
     },
     "metadata": {},
     "output_type": "display_data"
    },
    {
     "data": {
      "text/html": [
       "<div>\n",
       "<style scoped>\n",
       "    .dataframe tbody tr th:only-of-type {\n",
       "        vertical-align: middle;\n",
       "    }\n",
       "\n",
       "    .dataframe tbody tr th {\n",
       "        vertical-align: top;\n",
       "    }\n",
       "\n",
       "    .dataframe thead th {\n",
       "        text-align: right;\n",
       "    }\n",
       "</style>\n",
       "<table border=\"1\" class=\"dataframe\">\n",
       "  <thead>\n",
       "    <tr style=\"text-align: right;\">\n",
       "      <th></th>\n",
       "      <th>id</th>\n",
       "      <th>cost</th>\n",
       "      <th>category</th>\n",
       "      <th>name</th>\n",
       "      <th>brand</th>\n",
       "      <th>retail_price</th>\n",
       "      <th>department</th>\n",
       "      <th>sku</th>\n",
       "      <th>distribution_center_id</th>\n",
       "      <th>name_embedding</th>\n",
       "    </tr>\n",
       "  </thead>\n",
       "  <tbody>\n",
       "    <tr>\n",
       "      <th>0</th>\n",
       "      <td>27569</td>\n",
       "      <td>92.652563</td>\n",
       "      <td>Swim</td>\n",
       "      <td>2XU Men's Swimmers Compression Long Sleeve Top</td>\n",
       "      <td>2XU</td>\n",
       "      <td>150.410004</td>\n",
       "      <td>Men</td>\n",
       "      <td>B23C5765E165D83AA924FA8F13C05F25</td>\n",
       "      <td>1</td>\n",
       "      <td>[0.021811574697494507, -0.0068705384619534016,...</td>\n",
       "    </tr>\n",
       "    <tr>\n",
       "      <th>1</th>\n",
       "      <td>27445</td>\n",
       "      <td>24.719661</td>\n",
       "      <td>Swim</td>\n",
       "      <td>TYR Sport Men's Square Leg Short Swim Suit</td>\n",
       "      <td>TYR</td>\n",
       "      <td>38.990002</td>\n",
       "      <td>Men</td>\n",
       "      <td>2AB7D3B23574C3DEA2BD278AFD0939AB</td>\n",
       "      <td>1</td>\n",
       "      <td>[0.04419781640172005, -0.009351101703941822, 0...</td>\n",
       "    </tr>\n",
       "    <tr>\n",
       "      <th>2</th>\n",
       "      <td>27457</td>\n",
       "      <td>15.8976</td>\n",
       "      <td>Swim</td>\n",
       "      <td>TYR Sport Men's Solid Durafast Jammer Swim Suit</td>\n",
       "      <td>TYR</td>\n",
       "      <td>27.6</td>\n",
       "      <td>Men</td>\n",
       "      <td>8F831227B0EB6C6D09A0555531365933</td>\n",
       "      <td>1</td>\n",
       "      <td>[0.0471641980111599, -0.03273119032382965, 0.0...</td>\n",
       "    </tr>\n",
       "    <tr>\n",
       "      <th>3</th>\n",
       "      <td>27466</td>\n",
       "      <td>17.85</td>\n",
       "      <td>Swim</td>\n",
       "      <td>TYR Sport Men's Swim Short/Resistance Short Sw...</td>\n",
       "      <td>TYR</td>\n",
       "      <td>30.0</td>\n",
       "      <td>Men</td>\n",
       "      <td>67317D6DCC4CB778AEB9219565F5456B</td>\n",
       "      <td>1</td>\n",
       "      <td>[0.049136240035295486, 0.0037870346568524837, ...</td>\n",
       "    </tr>\n",
       "    <tr>\n",
       "      <th>4</th>\n",
       "      <td>27481</td>\n",
       "      <td>29.408001</td>\n",
       "      <td>Swim</td>\n",
       "      <td>TYR Alliance Team Splice Jammer</td>\n",
       "      <td>TYR</td>\n",
       "      <td>45.950001</td>\n",
       "      <td>Men</td>\n",
       "      <td>213C888198806EF1A0E2BBF2F4855C6C</td>\n",
       "      <td>1</td>\n",
       "      <td>[0.0008693744894117117, -0.00447087874636054, ...</td>\n",
       "    </tr>\n",
       "  </tbody>\n",
       "</table>\n",
       "<p>5 rows × 10 columns</p>\n",
       "</div>[5 rows x 10 columns in total]"
      ],
      "text/plain": [
       "      id       cost category  \\\n",
       "0  27569  92.652563     Swim   \n",
       "1  27445  24.719661     Swim   \n",
       "2  27457    15.8976     Swim   \n",
       "3  27466      17.85     Swim   \n",
       "4  27481  29.408001     Swim   \n",
       "\n",
       "                                                name brand  retail_price  \\\n",
       "0     2XU Men's Swimmers Compression Long Sleeve Top   2XU    150.410004   \n",
       "1         TYR Sport Men's Square Leg Short Swim Suit   TYR     38.990002   \n",
       "2    TYR Sport Men's Solid Durafast Jammer Swim Suit   TYR          27.6   \n",
       "3  TYR Sport Men's Swim Short/Resistance Short Sw...   TYR          30.0   \n",
       "4                    TYR Alliance Team Splice Jammer   TYR     45.950001   \n",
       "\n",
       "  department                               sku  distribution_center_id  \\\n",
       "0        Men  B23C5765E165D83AA924FA8F13C05F25                       1   \n",
       "1        Men  2AB7D3B23574C3DEA2BD278AFD0939AB                       1   \n",
       "2        Men  8F831227B0EB6C6D09A0555531365933                       1   \n",
       "3        Men  67317D6DCC4CB778AEB9219565F5456B                       1   \n",
       "4        Men  213C888198806EF1A0E2BBF2F4855C6C                       1   \n",
       "\n",
       "                                      name_embedding  \n",
       "0  [0.021811574697494507, -0.0068705384619534016,...  \n",
       "1  [0.04419781640172005, -0.009351101703941822, 0...  \n",
       "2  [0.0471641980111599, -0.03273119032382965, 0.0...  \n",
       "3  [0.049136240035295486, 0.0037870346568524837, ...  \n",
       "4  [0.0008693744894117117, -0.00447087874636054, ...  \n",
       "\n",
       "[5 rows x 10 columns]"
      ]
     },
     "execution_count": 16,
     "metadata": {},
     "output_type": "execute_result"
    }
   ],
   "source": [
    "products.head()"
   ]
  },
  {
   "cell_type": "markdown",
   "id": "1c2b1177-99c5-4134-acc1-8588ab2d9f35",
   "metadata": {},
   "source": [
    "### For Level 1 of Product Hierarchy: Department\n",
    "\n",
    "This step will run quickly as it only creates embedding request for unique values of `department`."
   ]
  },
  {
   "cell_type": "code",
   "execution_count": 17,
   "id": "e1019e94-2a13-4286-851b-03121a073a1b",
   "metadata": {},
   "outputs": [
    {
     "data": {
      "application/vnd.jupyter.widget-view+json": {
       "model_id": "7570effa9520410cae4dc415210f52a1",
       "version_major": 2,
       "version_minor": 0
      },
      "text/plain": [
       "HTML(value='Query job 5fc9d662-fe40-4d17-974a-eacf03c34ff9 is RUNNING. <a target=\"_blank\" href=\"https://consol…"
      ]
     },
     "metadata": {},
     "output_type": "display_data"
    },
    {
     "data": {
      "application/vnd.jupyter.widget-view+json": {
       "model_id": "ef3f51ddb7624879a36716587344188d",
       "version_major": 2,
       "version_minor": 0
      },
      "text/plain": [
       "HTML(value='Query job adf10934-7ca4-46c1-bc3b-cb3f392f95b9 is DONE. 16 Bytes processed. <a target=\"_blank\" hre…"
      ]
     },
     "metadata": {},
     "output_type": "display_data"
    }
   ],
   "source": [
    "department = products['department'].unique().to_frame()\n",
    "department = department.join(embed_model.predict(department).rename(columns={'text_embedding':'department_embedding'}))"
   ]
  },
  {
   "cell_type": "code",
   "execution_count": 18,
   "id": "2d798a94-b7a2-4c25-a909-7e1952ea8002",
   "metadata": {},
   "outputs": [
    {
     "data": {
      "application/vnd.jupyter.widget-view+json": {
       "model_id": "b88fa06b5c944b998db5bb4b51375de8",
       "version_major": 2,
       "version_minor": 0
      },
      "text/plain": [
       "HTML(value='Query job 2c459998-e273-43de-ba5e-2cc7ba2fe9b0 is RUNNING. <a target=\"_blank\" href=\"https://consol…"
      ]
     },
     "metadata": {},
     "output_type": "display_data"
    },
    {
     "data": {
      "application/vnd.jupyter.widget-view+json": {
       "model_id": "2d97877534704f5e81b0c11e8019f161",
       "version_major": 2,
       "version_minor": 0
      },
      "text/plain": [
       "HTML(value='Query job 41ed5332-31a3-4ee7-9a9d-863fd16704f4 is RUNNING. <a target=\"_blank\" href=\"https://consol…"
      ]
     },
     "metadata": {},
     "output_type": "display_data"
    },
    {
     "data": {
      "application/vnd.jupyter.widget-view+json": {
       "model_id": "36d4b84081dc4418b8011bab6fd18035",
       "version_major": 2,
       "version_minor": 0
      },
      "text/plain": [
       "HTML(value='Query job ecaae901-ea0d-4a73-83e5-7f4241b5b2ee is DONE. 0 Bytes processed. <a target=\"_blank\" href…"
      ]
     },
     "metadata": {},
     "output_type": "display_data"
    },
    {
     "data": {
      "text/html": [
       "<div>\n",
       "<style scoped>\n",
       "    .dataframe tbody tr th:only-of-type {\n",
       "        vertical-align: middle;\n",
       "    }\n",
       "\n",
       "    .dataframe tbody tr th {\n",
       "        vertical-align: top;\n",
       "    }\n",
       "\n",
       "    .dataframe thead th {\n",
       "        text-align: right;\n",
       "    }\n",
       "</style>\n",
       "<table border=\"1\" class=\"dataframe\">\n",
       "  <thead>\n",
       "    <tr style=\"text-align: right;\">\n",
       "      <th></th>\n",
       "      <th>department</th>\n",
       "      <th>department_embedding</th>\n",
       "    </tr>\n",
       "  </thead>\n",
       "  <tbody>\n",
       "    <tr>\n",
       "      <th>0</th>\n",
       "      <td>Men</td>\n",
       "      <td>[-0.04335380345582962, 0.00046764410217292607,...</td>\n",
       "    </tr>\n",
       "    <tr>\n",
       "      <th>13131</th>\n",
       "      <td>Women</td>\n",
       "      <td>[-0.03191345930099487, -0.006457726005464792, ...</td>\n",
       "    </tr>\n",
       "  </tbody>\n",
       "</table>\n",
       "<p>2 rows × 2 columns</p>\n",
       "</div>[2 rows x 2 columns in total]"
      ],
      "text/plain": [
       "      department                               department_embedding\n",
       "0            Men  [-0.04335380345582962, 0.00046764410217292607,...\n",
       "13131      Women  [-0.03191345930099487, -0.006457726005464792, ...\n",
       "\n",
       "[2 rows x 2 columns]"
      ]
     },
     "execution_count": 18,
     "metadata": {},
     "output_type": "execute_result"
    }
   ],
   "source": [
    "department.head()"
   ]
  },
  {
   "cell_type": "code",
   "execution_count": 19,
   "id": "1b711d63-8c12-43eb-8d46-14ea3dc34609",
   "metadata": {},
   "outputs": [
    {
     "data": {
      "text/plain": [
       "id                                  Int64\n",
       "cost                              Float64\n",
       "category                  string[pyarrow]\n",
       "name                      string[pyarrow]\n",
       "brand                     string[pyarrow]\n",
       "retail_price                      Float64\n",
       "department                string[pyarrow]\n",
       "sku                       string[pyarrow]\n",
       "distribution_center_id              Int64\n",
       "name_embedding                     object\n",
       "department_embedding               object\n",
       "dtype: object"
      ]
     },
     "execution_count": 19,
     "metadata": {},
     "output_type": "execute_result"
    }
   ],
   "source": [
    "products = products.merge(department, on = 'department')\n",
    "products.dtypes"
   ]
  },
  {
   "cell_type": "markdown",
   "id": "198ef0ee-0056-4256-96db-90de1c8c69ba",
   "metadata": {},
   "source": [
    "### For Level 2 of Product Hierarchy: Category\n",
    "\n",
    "This step will run quickly as it only creates embedding request for unique values of `category`."
   ]
  },
  {
   "cell_type": "code",
   "execution_count": 20,
   "id": "b3607a24-1b7c-43d2-9e31-f80dc6787db4",
   "metadata": {},
   "outputs": [
    {
     "data": {
      "application/vnd.jupyter.widget-view+json": {
       "model_id": "b41fe6458e144560b57d295492a79ab6",
       "version_major": 2,
       "version_minor": 0
      },
      "text/plain": [
       "HTML(value='Query job ab2d0563-b2bf-4a54-94c0-7deacf2d5829 is RUNNING. <a target=\"_blank\" href=\"https://consol…"
      ]
     },
     "metadata": {},
     "output_type": "display_data"
    },
    {
     "data": {
      "application/vnd.jupyter.widget-view+json": {
       "model_id": "f8791ed87e6c437382bc1b586ae4f3d5",
       "version_major": 2,
       "version_minor": 0
      },
      "text/plain": [
       "HTML(value='Query job eb155c93-e6aa-418e-89ff-12842962b09d is DONE. 208 Bytes processed. <a target=\"_blank\" hr…"
      ]
     },
     "metadata": {},
     "output_type": "display_data"
    }
   ],
   "source": [
    "category = products['category'].unique().to_frame()\n",
    "category = category.join(embed_model.predict(category).rename(columns={'text_embedding':'category_embedding'}))"
   ]
  },
  {
   "cell_type": "code",
   "execution_count": 21,
   "id": "bd9658aa-c341-463b-b923-eb330b01c266",
   "metadata": {},
   "outputs": [
    {
     "data": {
      "application/vnd.jupyter.widget-view+json": {
       "model_id": "b03e041e32724011952d8509b1df0160",
       "version_major": 2,
       "version_minor": 0
      },
      "text/plain": [
       "HTML(value='Query job 78a17198-66b3-43b8-8342-efbb1bab38b1 is RUNNING. <a target=\"_blank\" href=\"https://consol…"
      ]
     },
     "metadata": {},
     "output_type": "display_data"
    },
    {
     "data": {
      "application/vnd.jupyter.widget-view+json": {
       "model_id": "e402d7d25288495da366cca125221251",
       "version_major": 2,
       "version_minor": 0
      },
      "text/plain": [
       "HTML(value='Query job 3474e0c7-d718-4c54-b1ed-08000b65f171 is RUNNING. <a target=\"_blank\" href=\"https://consol…"
      ]
     },
     "metadata": {},
     "output_type": "display_data"
    },
    {
     "data": {
      "application/vnd.jupyter.widget-view+json": {
       "model_id": "13edb574ace543cd961cc3083562e59f",
       "version_major": 2,
       "version_minor": 0
      },
      "text/plain": [
       "HTML(value='Query job b3b9f8ae-e5ff-4d2f-8192-62b7373675b3 is DONE. 0 Bytes processed. <a target=\"_blank\" href…"
      ]
     },
     "metadata": {},
     "output_type": "display_data"
    },
    {
     "data": {
      "text/html": [
       "<div>\n",
       "<style scoped>\n",
       "    .dataframe tbody tr th:only-of-type {\n",
       "        vertical-align: middle;\n",
       "    }\n",
       "\n",
       "    .dataframe tbody tr th {\n",
       "        vertical-align: top;\n",
       "    }\n",
       "\n",
       "    .dataframe thead th {\n",
       "        text-align: right;\n",
       "    }\n",
       "</style>\n",
       "<table border=\"1\" class=\"dataframe\">\n",
       "  <thead>\n",
       "    <tr style=\"text-align: right;\">\n",
       "      <th></th>\n",
       "      <th>category</th>\n",
       "      <th>category_embedding</th>\n",
       "    </tr>\n",
       "  </thead>\n",
       "  <tbody>\n",
       "    <tr>\n",
       "      <th>0</th>\n",
       "      <td>Swim</td>\n",
       "      <td>[0.01972227729856968, -0.01661798171699047, -0...</td>\n",
       "    </tr>\n",
       "    <tr>\n",
       "      <th>906</th>\n",
       "      <td>Jeans</td>\n",
       "      <td>[-0.016635224223136902, 0.0025853165425360203,...</td>\n",
       "    </tr>\n",
       "    <tr>\n",
       "      <th>2023</th>\n",
       "      <td>Pants</td>\n",
       "      <td>[-7.701403956161812e-05, 0.015807654708623886,...</td>\n",
       "    </tr>\n",
       "    <tr>\n",
       "      <th>3064</th>\n",
       "      <td>Socks</td>\n",
       "      <td>[0.05488337576389313, 0.006218045484274626, 0....</td>\n",
       "    </tr>\n",
       "    <tr>\n",
       "      <th>3969</th>\n",
       "      <td>Active</td>\n",
       "      <td>[0.028275124728679657, -0.00869790930300951, 0...</td>\n",
       "    </tr>\n",
       "  </tbody>\n",
       "</table>\n",
       "<p>5 rows × 2 columns</p>\n",
       "</div>[5 rows x 2 columns in total]"
      ],
      "text/plain": [
       "     category                                 category_embedding\n",
       "0        Swim  [0.01972227729856968, -0.01661798171699047, -0...\n",
       "906     Jeans  [-0.016635224223136902, 0.0025853165425360203,...\n",
       "2023    Pants  [-7.701403956161812e-05, 0.015807654708623886,...\n",
       "3064    Socks  [0.05488337576389313, 0.006218045484274626, 0....\n",
       "3969   Active  [0.028275124728679657, -0.00869790930300951, 0...\n",
       "\n",
       "[5 rows x 2 columns]"
      ]
     },
     "execution_count": 21,
     "metadata": {},
     "output_type": "execute_result"
    }
   ],
   "source": [
    "category.head()"
   ]
  },
  {
   "cell_type": "code",
   "execution_count": 22,
   "id": "5866ead6-a395-4a47-9218-2427d884e1ff",
   "metadata": {},
   "outputs": [
    {
     "data": {
      "text/plain": [
       "id                                  Int64\n",
       "cost                              Float64\n",
       "category                  string[pyarrow]\n",
       "name                      string[pyarrow]\n",
       "brand                     string[pyarrow]\n",
       "retail_price                      Float64\n",
       "department                string[pyarrow]\n",
       "sku                       string[pyarrow]\n",
       "distribution_center_id              Int64\n",
       "name_embedding                     object\n",
       "department_embedding               object\n",
       "category_embedding                 object\n",
       "dtype: object"
      ]
     },
     "execution_count": 22,
     "metadata": {},
     "output_type": "execute_result"
    }
   ],
   "source": [
    "products = products.merge(category, on = 'category')\n",
    "products.dtypes"
   ]
  },
  {
   "cell_type": "markdown",
   "id": "6408d30e-0a6d-4f64-9744-1b93005b255c",
   "metadata": {},
   "source": [
    "### Make BigQuery Tables of Results\n",
    "\n",
    "The `products`, `department`, and `category` dataframes are currently temporary tables in BigQuery.  To recall these for future use it is best to store them as actual BigQuery tables using the [.to_gbq](https://cloud.google.com/python/docs/reference/bigframes/latest/bigframes.dataframe.DataFrame#bigframes_dataframe_DataFrame_to_gbq) method as follows."
   ]
  },
  {
   "cell_type": "code",
   "execution_count": 23,
   "id": "3783ae3c-a95d-47e7-a4e5-a5270d2ab437",
   "metadata": {},
   "outputs": [
    {
     "data": {
      "application/vnd.jupyter.widget-view+json": {
       "model_id": "b4fc9525101840d198363415983bfe82",
       "version_major": 2,
       "version_minor": 0
      },
      "text/plain": [
       "HTML(value='Query job b08e1e74-f77f-46b5-86e9-70b0e84cb0a7 is RUNNING. <a target=\"_blank\" href=\"https://consol…"
      ]
     },
     "metadata": {},
     "output_type": "display_data"
    },
    {
     "data": {
      "application/vnd.jupyter.widget-view+json": {
       "model_id": "b1804b600ec64440b5623f15e2525d81",
       "version_major": 2,
       "version_minor": 0
      },
      "text/plain": [
       "HTML(value='Query job fe5b26bd-7882-440b-8510-cfb659e46bfc is RUNNING. <a target=\"_blank\" href=\"https://consol…"
      ]
     },
     "metadata": {},
     "output_type": "display_data"
    },
    {
     "data": {
      "application/vnd.jupyter.widget-view+json": {
       "model_id": "4fac17a9a3cb4e5c8da723d535dddee3",
       "version_major": 2,
       "version_minor": 0
      },
      "text/plain": [
       "HTML(value='Query job e8c15ab1-1b10-43cf-8adc-d2a4e478f5ea is RUNNING. <a target=\"_blank\" href=\"https://consol…"
      ]
     },
     "metadata": {},
     "output_type": "display_data"
    }
   ],
   "source": [
    "products.to_gbq(f'{BQ_PROJECT}.{BQ_DATASET}.{BQ_TABLE}_products', if_exists = 'replace', index = False)\n",
    "department.to_gbq(f'{BQ_PROJECT}.{BQ_DATASET}.{BQ_TABLE}_deparment', if_exists = 'replace', index = False)\n",
    "category.to_gbq(f'{BQ_PROJECT}.{BQ_DATASET}.{BQ_TABLE}_category', if_exists = 'replace', index = False)"
   ]
  },
  {
   "cell_type": "markdown",
   "id": "1a8dc6fc-0667-40f4-8a43-80c2fd7da069",
   "metadata": {},
   "source": [
    "---\n",
    "## Prepare Data For ML"
   ]
  },
  {
   "cell_type": "markdown",
   "id": "c5a390b2-a143-4cde-a76f-fb477558a93c",
   "metadata": {},
   "source": [
    "### Create product hierarchy set: department"
   ]
  },
  {
   "cell_type": "code",
   "execution_count": 24,
   "id": "530cc8d5-e258-4875-b775-720aeb806c06",
   "metadata": {},
   "outputs": [
    {
     "data": {
      "text/plain": [
       "department              string[pyarrow]\n",
       "department_embedding             object\n",
       "dtype: object"
      ]
     },
     "execution_count": 24,
     "metadata": {},
     "output_type": "execute_result"
    }
   ],
   "source": [
    "department.dtypes"
   ]
  },
  {
   "cell_type": "code",
   "execution_count": 25,
   "id": "bd7b34f6-ddc8-4299-92be-72b95da0067b",
   "metadata": {},
   "outputs": [
    {
     "data": {
      "text/plain": [
       "hierarchy_node              string[pyarrow]\n",
       "hierarchy_node_embedding             object\n",
       "hierarchy_level             string[pyarrow]\n",
       "dtype: object"
      ]
     },
     "execution_count": 25,
     "metadata": {},
     "output_type": "execute_result"
    }
   ],
   "source": [
    "department_hierarchy = department[['department', 'department_embedding']].rename(columns = {\"department\":\"hierarchy_node\", \"department_embedding\":\"hierarchy_node_embedding\"})\n",
    "department_hierarchy['hierarchy_level'] = 'department'\n",
    "department_hierarchy.dtypes"
   ]
  },
  {
   "cell_type": "code",
   "execution_count": 26,
   "id": "c40e8e3f-6091-483b-8a9f-f18cb43c323b",
   "metadata": {},
   "outputs": [
    {
     "data": {
      "application/vnd.jupyter.widget-view+json": {
       "model_id": "d30f7f84500c4ae885ebffb401d69ff0",
       "version_major": 2,
       "version_minor": 0
      },
      "text/plain": [
       "HTML(value='Query job 722da3a4-03c0-4e29-a6fc-9c4a8e775ae8 is DONE. 643.5 kB processed. <a target=\"_blank\" hre…"
      ]
     },
     "metadata": {},
     "output_type": "display_data"
    },
    {
     "data": {
      "application/vnd.jupyter.widget-view+json": {
       "model_id": "b9245a1d384f4a81a7c3eae72fc1d49e",
       "version_major": 2,
       "version_minor": 0
      },
      "text/plain": [
       "HTML(value='Query job 41f917b3-32f0-4530-ac49-7073554f9fdd is RUNNING. <a target=\"_blank\" href=\"https://consol…"
      ]
     },
     "metadata": {},
     "output_type": "display_data"
    },
    {
     "data": {
      "application/vnd.jupyter.widget-view+json": {
       "model_id": "c5b08d9d85e24fe69720dbba44ffda1c",
       "version_major": 2,
       "version_minor": 0
      },
      "text/plain": [
       "HTML(value='Query job f31db850-d49e-41db-8577-577ba4cd44dd is DONE. 0 Bytes processed. <a target=\"_blank\" href…"
      ]
     },
     "metadata": {},
     "output_type": "display_data"
    },
    {
     "data": {
      "text/html": [
       "<div>\n",
       "<style scoped>\n",
       "    .dataframe tbody tr th:only-of-type {\n",
       "        vertical-align: middle;\n",
       "    }\n",
       "\n",
       "    .dataframe tbody tr th {\n",
       "        vertical-align: top;\n",
       "    }\n",
       "\n",
       "    .dataframe thead th {\n",
       "        text-align: right;\n",
       "    }\n",
       "</style>\n",
       "<table border=\"1\" class=\"dataframe\">\n",
       "  <thead>\n",
       "    <tr style=\"text-align: right;\">\n",
       "      <th></th>\n",
       "      <th>hierarchy_node</th>\n",
       "      <th>hierarchy_node_embedding</th>\n",
       "      <th>hierarchy_level</th>\n",
       "    </tr>\n",
       "  </thead>\n",
       "  <tbody>\n",
       "    <tr>\n",
       "      <th>0</th>\n",
       "      <td>Men</td>\n",
       "      <td>[-0.04335380345582962, 0.00046764410217292607,...</td>\n",
       "      <td>department</td>\n",
       "    </tr>\n",
       "    <tr>\n",
       "      <th>13131</th>\n",
       "      <td>Women</td>\n",
       "      <td>[-0.03191345930099487, -0.006457726005464792, ...</td>\n",
       "      <td>department</td>\n",
       "    </tr>\n",
       "  </tbody>\n",
       "</table>\n",
       "<p>2 rows × 3 columns</p>\n",
       "</div>[2 rows x 3 columns in total]"
      ],
      "text/plain": [
       "      hierarchy_node                           hierarchy_node_embedding  \\\n",
       "0                Men  [-0.04335380345582962, 0.00046764410217292607,...   \n",
       "13131          Women  [-0.03191345930099487, -0.006457726005464792, ...   \n",
       "\n",
       "      hierarchy_level  \n",
       "0          department  \n",
       "13131      department  \n",
       "\n",
       "[2 rows x 3 columns]"
      ]
     },
     "execution_count": 26,
     "metadata": {},
     "output_type": "execute_result"
    }
   ],
   "source": [
    "department_hierarchy.head()"
   ]
  },
  {
   "cell_type": "markdown",
   "id": "8e7d9e52-d149-4aa3-8a2b-5a715fd0a115",
   "metadata": {},
   "source": [
    "### Create product hierarchy set: category"
   ]
  },
  {
   "cell_type": "code",
   "execution_count": 27,
   "id": "7d5a2654-164f-421e-b6e6-efe1bacb3fb3",
   "metadata": {},
   "outputs": [
    {
     "data": {
      "text/plain": [
       "category              string[pyarrow]\n",
       "category_embedding             object\n",
       "dtype: object"
      ]
     },
     "execution_count": 27,
     "metadata": {},
     "output_type": "execute_result"
    }
   ],
   "source": [
    "category.dtypes"
   ]
  },
  {
   "cell_type": "code",
   "execution_count": 28,
   "id": "e718775b-4950-4951-a7b9-37a0265e0933",
   "metadata": {},
   "outputs": [
    {
     "data": {
      "text/plain": [
       "hierarchy_node              string[pyarrow]\n",
       "hierarchy_node_embedding             object\n",
       "hierarchy_level             string[pyarrow]\n",
       "dtype: object"
      ]
     },
     "execution_count": 28,
     "metadata": {},
     "output_type": "execute_result"
    }
   ],
   "source": [
    "category_hierarchy = category[['category', 'category_embedding']].rename(columns = {\"category\":\"hierarchy_node\", \"category_embedding\":\"hierarchy_node_embedding\"})\n",
    "category_hierarchy['hierarchy_level'] = 'category'\n",
    "category_hierarchy.dtypes"
   ]
  },
  {
   "cell_type": "code",
   "execution_count": 29,
   "id": "b2789593-cb61-43ef-b15e-b095bf6916d7",
   "metadata": {},
   "outputs": [
    {
     "data": {
      "application/vnd.jupyter.widget-view+json": {
       "model_id": "96ac13303f954f46a2cbd9f4c0ba0b21",
       "version_major": 2,
       "version_minor": 0
      },
      "text/plain": [
       "HTML(value='Query job 02423891-26b8-46ea-9051-9f7157ab715a is RUNNING. <a target=\"_blank\" href=\"https://consol…"
      ]
     },
     "metadata": {},
     "output_type": "display_data"
    },
    {
     "data": {
      "application/vnd.jupyter.widget-view+json": {
       "model_id": "9b8632aae1c4497da0e0ce0458a1fc64",
       "version_major": 2,
       "version_minor": 0
      },
      "text/plain": [
       "HTML(value='Query job 40185283-cdf3-462b-8c9a-4e1e233a31e3 is RUNNING. <a target=\"_blank\" href=\"https://consol…"
      ]
     },
     "metadata": {},
     "output_type": "display_data"
    },
    {
     "data": {
      "application/vnd.jupyter.widget-view+json": {
       "model_id": "8461a5d5dd0846bebaeaff22da1ec0a7",
       "version_major": 2,
       "version_minor": 0
      },
      "text/plain": [
       "HTML(value='Query job a133f620-bce4-4065-8c41-cd724266e554 is DONE. 0 Bytes processed. <a target=\"_blank\" href…"
      ]
     },
     "metadata": {},
     "output_type": "display_data"
    },
    {
     "data": {
      "text/html": [
       "<div>\n",
       "<style scoped>\n",
       "    .dataframe tbody tr th:only-of-type {\n",
       "        vertical-align: middle;\n",
       "    }\n",
       "\n",
       "    .dataframe tbody tr th {\n",
       "        vertical-align: top;\n",
       "    }\n",
       "\n",
       "    .dataframe thead th {\n",
       "        text-align: right;\n",
       "    }\n",
       "</style>\n",
       "<table border=\"1\" class=\"dataframe\">\n",
       "  <thead>\n",
       "    <tr style=\"text-align: right;\">\n",
       "      <th></th>\n",
       "      <th>hierarchy_node</th>\n",
       "      <th>hierarchy_node_embedding</th>\n",
       "      <th>hierarchy_level</th>\n",
       "    </tr>\n",
       "  </thead>\n",
       "  <tbody>\n",
       "    <tr>\n",
       "      <th>0</th>\n",
       "      <td>Swim</td>\n",
       "      <td>[0.01972227729856968, -0.01661798171699047, -0...</td>\n",
       "      <td>category</td>\n",
       "    </tr>\n",
       "    <tr>\n",
       "      <th>906</th>\n",
       "      <td>Jeans</td>\n",
       "      <td>[-0.016635224223136902, 0.0025853165425360203,...</td>\n",
       "      <td>category</td>\n",
       "    </tr>\n",
       "    <tr>\n",
       "      <th>2023</th>\n",
       "      <td>Pants</td>\n",
       "      <td>[-7.701403956161812e-05, 0.015807654708623886,...</td>\n",
       "      <td>category</td>\n",
       "    </tr>\n",
       "    <tr>\n",
       "      <th>3064</th>\n",
       "      <td>Socks</td>\n",
       "      <td>[0.05488337576389313, 0.006218045484274626, 0....</td>\n",
       "      <td>category</td>\n",
       "    </tr>\n",
       "    <tr>\n",
       "      <th>3969</th>\n",
       "      <td>Active</td>\n",
       "      <td>[0.028275124728679657, -0.00869790930300951, 0...</td>\n",
       "      <td>category</td>\n",
       "    </tr>\n",
       "  </tbody>\n",
       "</table>\n",
       "<p>5 rows × 3 columns</p>\n",
       "</div>[5 rows x 3 columns in total]"
      ],
      "text/plain": [
       "     hierarchy_node                           hierarchy_node_embedding  \\\n",
       "0              Swim  [0.01972227729856968, -0.01661798171699047, -0...   \n",
       "906           Jeans  [-0.016635224223136902, 0.0025853165425360203,...   \n",
       "2023          Pants  [-7.701403956161812e-05, 0.015807654708623886,...   \n",
       "3064          Socks  [0.05488337576389313, 0.006218045484274626, 0....   \n",
       "3969         Active  [0.028275124728679657, -0.00869790930300951, 0...   \n",
       "\n",
       "     hierarchy_level  \n",
       "0           category  \n",
       "906         category  \n",
       "2023        category  \n",
       "3064        category  \n",
       "3969        category  \n",
       "\n",
       "[5 rows x 3 columns]"
      ]
     },
     "execution_count": 29,
     "metadata": {},
     "output_type": "execute_result"
    }
   ],
   "source": [
    "category_hierarchy.head()"
   ]
  },
  {
   "cell_type": "markdown",
   "id": "6b658f26-0845-42db-862e-8cc15ef26f51",
   "metadata": {},
   "source": [
    "### Create product hiearchy: combine department and category"
   ]
  },
  {
   "cell_type": "code",
   "execution_count": 30,
   "id": "ccc8dd50-1c9a-4af2-aef6-17d233229c25",
   "metadata": {},
   "outputs": [],
   "source": [
    "product_hierarchy = bf.concat([department_hierarchy, category_hierarchy])"
   ]
  },
  {
   "cell_type": "code",
   "execution_count": 31,
   "id": "0e940ff8-f581-4c20-9e81-42cd38b1783e",
   "metadata": {},
   "outputs": [
    {
     "data": {
      "application/vnd.jupyter.widget-view+json": {
       "model_id": "f67f7a92a3d14c148e037349c8c2c97f",
       "version_major": 2,
       "version_minor": 0
      },
      "text/plain": [
       "HTML(value='Query job 3e17f6eb-1fcc-4062-a9b3-5c1fd5b78255 is RUNNING. <a target=\"_blank\" href=\"https://consol…"
      ]
     },
     "metadata": {},
     "output_type": "display_data"
    },
    {
     "data": {
      "application/vnd.jupyter.widget-view+json": {
       "model_id": "0991208cb1b6403791aae598f79f757a",
       "version_major": 2,
       "version_minor": 0
      },
      "text/plain": [
       "HTML(value='Query job 9aebc551-24e0-49e6-ab5c-b5808f33097f is RUNNING. <a target=\"_blank\" href=\"https://consol…"
      ]
     },
     "metadata": {},
     "output_type": "display_data"
    },
    {
     "data": {
      "application/vnd.jupyter.widget-view+json": {
       "model_id": "857d92a1fb1a4a009f466f26643a3880",
       "version_major": 2,
       "version_minor": 0
      },
      "text/plain": [
       "HTML(value='Query job a165951c-796d-4151-92bb-adf57c07bf04 is DONE. 0 Bytes processed. <a target=\"_blank\" href…"
      ]
     },
     "metadata": {},
     "output_type": "display_data"
    },
    {
     "data": {
      "text/html": [
       "<div>\n",
       "<style scoped>\n",
       "    .dataframe tbody tr th:only-of-type {\n",
       "        vertical-align: middle;\n",
       "    }\n",
       "\n",
       "    .dataframe tbody tr th {\n",
       "        vertical-align: top;\n",
       "    }\n",
       "\n",
       "    .dataframe thead th {\n",
       "        text-align: right;\n",
       "    }\n",
       "</style>\n",
       "<table border=\"1\" class=\"dataframe\">\n",
       "  <thead>\n",
       "    <tr style=\"text-align: right;\">\n",
       "      <th></th>\n",
       "      <th>hierarchy_node</th>\n",
       "      <th>hierarchy_node_embedding</th>\n",
       "      <th>hierarchy_level</th>\n",
       "    </tr>\n",
       "  </thead>\n",
       "  <tbody>\n",
       "    <tr>\n",
       "      <th>0</th>\n",
       "      <td>Men</td>\n",
       "      <td>[-0.04335380345582962, 0.00046764410217292607,...</td>\n",
       "      <td>department</td>\n",
       "    </tr>\n",
       "    <tr>\n",
       "      <th>13131</th>\n",
       "      <td>Women</td>\n",
       "      <td>[-0.03191345930099487, -0.006457726005464792, ...</td>\n",
       "      <td>department</td>\n",
       "    </tr>\n",
       "    <tr>\n",
       "      <th>0</th>\n",
       "      <td>Swim</td>\n",
       "      <td>[0.01972227729856968, -0.01661798171699047, -0...</td>\n",
       "      <td>category</td>\n",
       "    </tr>\n",
       "    <tr>\n",
       "      <th>906</th>\n",
       "      <td>Jeans</td>\n",
       "      <td>[-0.016635224223136902, 0.0025853165425360203,...</td>\n",
       "      <td>category</td>\n",
       "    </tr>\n",
       "    <tr>\n",
       "      <th>2023</th>\n",
       "      <td>Pants</td>\n",
       "      <td>[-7.701403956161812e-05, 0.015807654708623886,...</td>\n",
       "      <td>category</td>\n",
       "    </tr>\n",
       "  </tbody>\n",
       "</table>\n",
       "<p>5 rows × 3 columns</p>\n",
       "</div>[5 rows x 3 columns in total]"
      ],
      "text/plain": [
       "      hierarchy_node                           hierarchy_node_embedding  \\\n",
       "0                Men  [-0.04335380345582962, 0.00046764410217292607,...   \n",
       "13131          Women  [-0.03191345930099487, -0.006457726005464792, ...   \n",
       "0               Swim  [0.01972227729856968, -0.01661798171699047, -0...   \n",
       "906            Jeans  [-0.016635224223136902, 0.0025853165425360203,...   \n",
       "2023           Pants  [-7.701403956161812e-05, 0.015807654708623886,...   \n",
       "\n",
       "      hierarchy_level  \n",
       "0          department  \n",
       "13131      department  \n",
       "0            category  \n",
       "906          category  \n",
       "2023         category  \n",
       "\n",
       "[5 rows x 3 columns]"
      ]
     },
     "execution_count": 31,
     "metadata": {},
     "output_type": "execute_result"
    }
   ],
   "source": [
    "product_hierarchy.head()"
   ]
  },
  {
   "cell_type": "markdown",
   "id": "3661b6db-f137-413e-9d80-351ce3204049",
   "metadata": {},
   "source": [
    "### Create a test and train subsets of products"
   ]
  },
  {
   "cell_type": "markdown",
   "id": "ec70299d-525d-4a82-a8c8-395acee69bb7",
   "metadata": {},
   "source": [
    "Assign an id to each row of the `products` table:"
   ]
  },
  {
   "cell_type": "markdown",
   "id": "727c3852-5c0e-4393-a0ce-995dbcb9f645",
   "metadata": {},
   "source": [
    "Create index's for rows allocated to training and test splits:"
   ]
  },
  {
   "cell_type": "code",
   "execution_count": 32,
   "id": "36388787-2a57-43b5-b9ce-f959dbbc2b01",
   "metadata": {},
   "outputs": [
    {
     "data": {
      "application/vnd.jupyter.widget-view+json": {
       "model_id": "906a4a5226c440ab89b5b7123bed177a",
       "version_major": 2,
       "version_minor": 0
      },
      "text/plain": [
       "HTML(value='Query job e780ec01-be70-42bd-a76b-f304f1b73ffc is RUNNING. <a target=\"_blank\" href=\"https://consol…"
      ]
     },
     "metadata": {},
     "output_type": "display_data"
    },
    {
     "data": {
      "text/plain": [
       "(29120, 26208, 2912)"
      ]
     },
     "execution_count": 32,
     "metadata": {},
     "output_type": "execute_result"
    }
   ],
   "source": [
    "# retrieve index of all rows\n",
    "full_index = products.index.to_numpy()\n",
    "# randomly sort the full index\n",
    "np.random.shuffle(full_index)\n",
    "# split the randomly sorted index into 10 sequential parts\n",
    "split_index = np.split(full_index, 10)\n",
    "# allocate the first 9 splits (90%) to a training index\n",
    "train_index = np.concatenate(split_index[0:9])\n",
    "# allocate the last split (10%) to a test_index\n",
    "test_index = split_index[9]\n",
    "\n",
    "# print out the sizes of the indexes:\n",
    "full_index.shape[0], train_index.shape[0], test_index.shape[0]"
   ]
  },
  {
   "cell_type": "code",
   "execution_count": 33,
   "id": "2e02221a-2430-490f-a16d-47a75a61c483",
   "metadata": {},
   "outputs": [
    {
     "data": {
      "application/vnd.jupyter.widget-view+json": {
       "model_id": "4e6ae1e13b044107bf1fa9f46e591724",
       "version_major": 2,
       "version_minor": 0
      },
      "text/plain": [
       "HTML(value='Load job 02f015eb-5473-4379-8ba8-547de3c2a460 is RUNNING. <a target=\"_blank\" href=\"https://console…"
      ]
     },
     "metadata": {},
     "output_type": "display_data"
    },
    {
     "data": {
      "application/vnd.jupyter.widget-view+json": {
       "model_id": "f28605cc14944dc484cac4cb89210443",
       "version_major": 2,
       "version_minor": 0
      },
      "text/plain": [
       "HTML(value='Load job 614cb964-7c9b-4aeb-93cd-e8982598173c is RUNNING. <a target=\"_blank\" href=\"https://console…"
      ]
     },
     "metadata": {},
     "output_type": "display_data"
    }
   ],
   "source": [
    "train_products = products[['id', 'name', 'name_embedding', 'category', 'department']].iloc[train_index.tolist()]\n",
    "test_products = products[['id', 'name', 'name_embedding', 'category', 'department']].iloc[test_index.tolist()]"
   ]
  },
  {
   "cell_type": "markdown",
   "id": "916ad75d-144b-4435-b226-3f006b11a281",
   "metadata": {},
   "source": [
    "### Create Training And Test Data: Explode product data by crossing with product hierarchy"
   ]
  },
  {
   "cell_type": "code",
   "execution_count": 34,
   "id": "a0c15b44-0875-4beb-b692-e84081e0337e",
   "metadata": {},
   "outputs": [
    {
     "ename": "ValueError",
     "evalue": "Must specify `on` or `left_on` + `right_on`.",
     "output_type": "error",
     "traceback": [
      "\u001b[0;31m---------------------------------------------------------------------------\u001b[0m",
      "\u001b[0;31mValueError\u001b[0m                                Traceback (most recent call last)",
      "Cell \u001b[0;32mIn[34], line 1\u001b[0m\n\u001b[0;32m----> 1\u001b[0m train_products \u001b[38;5;241m=\u001b[39m \u001b[43mtrain_products\u001b[49m\u001b[38;5;241;43m.\u001b[39;49m\u001b[43mmerge\u001b[49m\u001b[43m(\u001b[49m\u001b[43mproduct_hierarchy\u001b[49m\u001b[43m,\u001b[49m\u001b[43m \u001b[49m\u001b[43mhow\u001b[49m\u001b[43m \u001b[49m\u001b[38;5;241;43m=\u001b[39;49m\u001b[43m \u001b[49m\u001b[38;5;124;43m'\u001b[39;49m\u001b[38;5;124;43mcross\u001b[39;49m\u001b[38;5;124;43m'\u001b[39;49m\u001b[43m)\u001b[49m\n",
      "File \u001b[0;32m/opt/conda/lib/python3.10/site-packages/bigframes/dataframe.py:1208\u001b[0m, in \u001b[0;36mDataFrame.merge\u001b[0;34m(self, right, how, on, left_on, right_on, sort, suffixes)\u001b[0m\n\u001b[1;32m   1206\u001b[0m \u001b[38;5;28;01mif\u001b[39;00m on \u001b[38;5;129;01mis\u001b[39;00m \u001b[38;5;28;01mNone\u001b[39;00m:\n\u001b[1;32m   1207\u001b[0m     \u001b[38;5;28;01mif\u001b[39;00m left_on \u001b[38;5;129;01mis\u001b[39;00m \u001b[38;5;28;01mNone\u001b[39;00m \u001b[38;5;129;01mor\u001b[39;00m right_on \u001b[38;5;129;01mis\u001b[39;00m \u001b[38;5;28;01mNone\u001b[39;00m:\n\u001b[0;32m-> 1208\u001b[0m         \u001b[38;5;28;01mraise\u001b[39;00m \u001b[38;5;167;01mValueError\u001b[39;00m(\u001b[38;5;124m\"\u001b[39m\u001b[38;5;124mMust specify `on` or `left_on` + `right_on`.\u001b[39m\u001b[38;5;124m\"\u001b[39m)\n\u001b[1;32m   1209\u001b[0m \u001b[38;5;28;01melse\u001b[39;00m:\n\u001b[1;32m   1210\u001b[0m     \u001b[38;5;28;01mif\u001b[39;00m left_on \u001b[38;5;129;01mis\u001b[39;00m \u001b[38;5;129;01mnot\u001b[39;00m \u001b[38;5;28;01mNone\u001b[39;00m \u001b[38;5;129;01mor\u001b[39;00m right_on \u001b[38;5;129;01mis\u001b[39;00m \u001b[38;5;129;01mnot\u001b[39;00m \u001b[38;5;28;01mNone\u001b[39;00m:\n",
      "\u001b[0;31mValueError\u001b[0m: Must specify `on` or `left_on` + `right_on`."
     ]
    }
   ],
   "source": [
    "train_products = train_products.merge(product_hierarchy, how = 'cross')"
   ]
  },
  {
   "cell_type": "markdown",
   "id": "c074f95e-79a0-46d6-8435-f202e7a89c23",
   "metadata": {},
   "source": [
    "**NOTE**: The cross join does not seem to be available yet on the BigFrames API ([Reference](https://cloud.google.com/python/docs/reference/bigframes/latest/bigframes.pandas#bigframes_pandas_merge)).  To work around this adding a dummy column to both tables to do an inner join on."
   ]
  },
  {
   "cell_type": "code",
   "execution_count": 36,
   "id": "bd04f4f7-7fc8-419e-9f61-331068645eac",
   "metadata": {},
   "outputs": [],
   "source": [
    "train_products['dummy'] = 1\n",
    "test_products['dummy'] = 1\n",
    "product_hierarchy['dummy'] = 1"
   ]
  },
  {
   "cell_type": "code",
   "execution_count": 37,
   "id": "eaaca7b4-128d-4e82-8e4f-b1c2a8de3cf7",
   "metadata": {},
   "outputs": [],
   "source": [
    "train_products = train_products.merge(product_hierarchy, how = 'inner', on = 'dummy').drop('dummy', axis = 1)\n",
    "test_products = test_products.merge(product_hierarchy, how = 'inner', on = 'dummy').drop('dummy', axis = 1)\n",
    "product_hiearchy = product_hierarchy.drop('dummy', axis = 1)"
   ]
  },
  {
   "cell_type": "code",
   "execution_count": 38,
   "id": "1dc1933c-9bb2-4a9a-8007-4ea65c9f69b9",
   "metadata": {},
   "outputs": [
    {
     "data": {
      "application/vnd.jupyter.widget-view+json": {
       "model_id": "61bc2b20fc5740a695bdc51063b57915",
       "version_major": 2,
       "version_minor": 0
      },
      "text/plain": [
       "HTML(value='Query job dd1b73b7-583c-4bd1-a95e-fd439be6270d is RUNNING. <a target=\"_blank\" href=\"https://consol…"
      ]
     },
     "metadata": {},
     "output_type": "display_data"
    },
    {
     "data": {
      "application/vnd.jupyter.widget-view+json": {
       "model_id": "5fed2c2b40444df3bf7175b533df6a98",
       "version_major": 2,
       "version_minor": 0
      },
      "text/plain": [
       "HTML(value='Query job 2dd943cd-710b-4331-aaa3-9cd77c43f921 is RUNNING. <a target=\"_blank\" href=\"https://consol…"
      ]
     },
     "metadata": {},
     "output_type": "display_data"
    },
    {
     "data": {
      "application/vnd.jupyter.widget-view+json": {
       "model_id": "40a89b8c35534c2ba78b91c775c5c7f2",
       "version_major": 2,
       "version_minor": 0
      },
      "text/plain": [
       "HTML(value='Query job 72f4efe7-340a-4193-bb99-b0706fd08369 is DONE. 0 Bytes processed. <a target=\"_blank\" href…"
      ]
     },
     "metadata": {},
     "output_type": "display_data"
    },
    {
     "data": {
      "text/html": [
       "<div>\n",
       "<style scoped>\n",
       "    .dataframe tbody tr th:only-of-type {\n",
       "        vertical-align: middle;\n",
       "    }\n",
       "\n",
       "    .dataframe tbody tr th {\n",
       "        vertical-align: top;\n",
       "    }\n",
       "\n",
       "    .dataframe thead th {\n",
       "        text-align: right;\n",
       "    }\n",
       "</style>\n",
       "<table border=\"1\" class=\"dataframe\">\n",
       "  <thead>\n",
       "    <tr style=\"text-align: right;\">\n",
       "      <th></th>\n",
       "      <th>id</th>\n",
       "      <th>name</th>\n",
       "      <th>name_embedding</th>\n",
       "      <th>category</th>\n",
       "      <th>department</th>\n",
       "      <th>hierarchy_node</th>\n",
       "      <th>hierarchy_node_embedding</th>\n",
       "      <th>hierarchy_level</th>\n",
       "    </tr>\n",
       "  </thead>\n",
       "  <tbody>\n",
       "    <tr>\n",
       "      <th>0</th>\n",
       "      <td>4348</td>\n",
       "      <td>Levi's Women's Petite 515 Boot Cut Jean</td>\n",
       "      <td>[-0.014130963012576103, -0.0026561019476503134...</td>\n",
       "      <td>Jeans</td>\n",
       "      <td>Women</td>\n",
       "      <td>Men</td>\n",
       "      <td>[-0.04335380345582962, 0.00046764410217292607,...</td>\n",
       "      <td>department</td>\n",
       "    </tr>\n",
       "    <tr>\n",
       "      <th>1</th>\n",
       "      <td>4348</td>\n",
       "      <td>Levi's Women's Petite 515 Boot Cut Jean</td>\n",
       "      <td>[-0.014130963012576103, -0.0026561019476503134...</td>\n",
       "      <td>Jeans</td>\n",
       "      <td>Women</td>\n",
       "      <td>Women</td>\n",
       "      <td>[-0.03191345930099487, -0.006457726005464792, ...</td>\n",
       "      <td>department</td>\n",
       "    </tr>\n",
       "    <tr>\n",
       "      <th>2</th>\n",
       "      <td>4348</td>\n",
       "      <td>Levi's Women's Petite 515 Boot Cut Jean</td>\n",
       "      <td>[-0.014130963012576103, -0.0026561019476503134...</td>\n",
       "      <td>Jeans</td>\n",
       "      <td>Women</td>\n",
       "      <td>Swim</td>\n",
       "      <td>[0.01972227729856968, -0.01661798171699047, -0...</td>\n",
       "      <td>category</td>\n",
       "    </tr>\n",
       "    <tr>\n",
       "      <th>3</th>\n",
       "      <td>4348</td>\n",
       "      <td>Levi's Women's Petite 515 Boot Cut Jean</td>\n",
       "      <td>[-0.014130963012576103, -0.0026561019476503134...</td>\n",
       "      <td>Jeans</td>\n",
       "      <td>Women</td>\n",
       "      <td>Jeans</td>\n",
       "      <td>[-0.016635224223136902, 0.0025853165425360203,...</td>\n",
       "      <td>category</td>\n",
       "    </tr>\n",
       "    <tr>\n",
       "      <th>4</th>\n",
       "      <td>4348</td>\n",
       "      <td>Levi's Women's Petite 515 Boot Cut Jean</td>\n",
       "      <td>[-0.014130963012576103, -0.0026561019476503134...</td>\n",
       "      <td>Jeans</td>\n",
       "      <td>Women</td>\n",
       "      <td>Pants</td>\n",
       "      <td>[-7.701403956161812e-05, 0.015807654708623886,...</td>\n",
       "      <td>category</td>\n",
       "    </tr>\n",
       "  </tbody>\n",
       "</table>\n",
       "<p>5 rows × 8 columns</p>\n",
       "</div>[5 rows x 8 columns in total]"
      ],
      "text/plain": [
       "     id                                     name  \\\n",
       "0  4348  Levi's Women's Petite 515 Boot Cut Jean   \n",
       "1  4348  Levi's Women's Petite 515 Boot Cut Jean   \n",
       "2  4348  Levi's Women's Petite 515 Boot Cut Jean   \n",
       "3  4348  Levi's Women's Petite 515 Boot Cut Jean   \n",
       "4  4348  Levi's Women's Petite 515 Boot Cut Jean   \n",
       "\n",
       "                                      name_embedding category department  \\\n",
       "0  [-0.014130963012576103, -0.0026561019476503134...    Jeans      Women   \n",
       "1  [-0.014130963012576103, -0.0026561019476503134...    Jeans      Women   \n",
       "2  [-0.014130963012576103, -0.0026561019476503134...    Jeans      Women   \n",
       "3  [-0.014130963012576103, -0.0026561019476503134...    Jeans      Women   \n",
       "4  [-0.014130963012576103, -0.0026561019476503134...    Jeans      Women   \n",
       "\n",
       "  hierarchy_node                           hierarchy_node_embedding  \\\n",
       "0            Men  [-0.04335380345582962, 0.00046764410217292607,...   \n",
       "1          Women  [-0.03191345930099487, -0.006457726005464792, ...   \n",
       "2           Swim  [0.01972227729856968, -0.01661798171699047, -0...   \n",
       "3          Jeans  [-0.016635224223136902, 0.0025853165425360203,...   \n",
       "4          Pants  [-7.701403956161812e-05, 0.015807654708623886,...   \n",
       "\n",
       "  hierarchy_level  \n",
       "0      department  \n",
       "1      department  \n",
       "2        category  \n",
       "3        category  \n",
       "4        category  \n",
       "\n",
       "[5 rows x 8 columns]"
      ]
     },
     "execution_count": 38,
     "metadata": {},
     "output_type": "execute_result"
    }
   ],
   "source": [
    "train_products.head()"
   ]
  },
  {
   "cell_type": "markdown",
   "id": "3bec0668-66be-452e-a102-48a2c08f4f94",
   "metadata": {},
   "source": [
    "### Add Label To Training Training And Test Data"
   ]
  },
  {
   "cell_type": "code",
   "execution_count": 39,
   "id": "d214e547-fc95-4b28-8d51-0f7a6a965010",
   "metadata": {},
   "outputs": [],
   "source": [
    "train_products_yes = train_products[((train_products['category'] == train_products['hierarchy_node']) & (train_products['hierarchy_level'] == 'category')) | ((train_products['department'] == train_products['hierarchy_node']) & (train_products['hierarchy_level'] == 'department'))]\n",
    "train_products_yes['label'] = 1\n",
    "train_products_no = train_products[((train_products['category'] != train_products['hierarchy_node']) & (train_products['hierarchy_level'] == 'category')) | ((train_products['department'] != train_products['hierarchy_node']) & (train_products['hierarchy_level'] == 'department'))]\n",
    "train_products_no['label'] = 0\n",
    "\n",
    "train_products = bf.concat([train_products_yes, train_products_no])"
   ]
  },
  {
   "cell_type": "code",
   "execution_count": 40,
   "id": "e1e9cae8-055b-4187-87d8-6f5a1b91be9d",
   "metadata": {},
   "outputs": [],
   "source": [
    "test_products_yes = test_products[((test_products['category'] == test_products['hierarchy_node']) & (test_products['hierarchy_level'] == 'category')) | ((test_products['department'] == test_products['hierarchy_node']) & (test_products['hierarchy_level'] == 'department'))]\n",
    "test_products_yes['label'] = 1\n",
    "test_products_no = test_products[((test_products['category'] != test_products['hierarchy_node']) & (test_products['hierarchy_level'] == 'category')) | ((test_products['department'] != test_products['hierarchy_node']) & (test_products['hierarchy_level'] == 'department'))]\n",
    "test_products_no['label'] = 0\n",
    "\n",
    "test_products = bf.concat([test_products_yes, test_products_no])"
   ]
  },
  {
   "cell_type": "markdown",
   "id": "2d3650b3-4e69-4a1c-83b1-ab8e2b0f47de",
   "metadata": {},
   "source": [
    "Make BigQuery tables from the temporary tables:"
   ]
  },
  {
   "cell_type": "code",
   "execution_count": 41,
   "id": "0cf8a1e2-0e49-4d91-bec2-9fa38d9148f1",
   "metadata": {},
   "outputs": [
    {
     "data": {
      "application/vnd.jupyter.widget-view+json": {
       "model_id": "c6589850051144dabcd317c8f2db0bac",
       "version_major": 2,
       "version_minor": 0
      },
      "text/plain": [
       "HTML(value='Query job f0d6b5a9-c75e-4ede-88fa-288382457761 is RUNNING. <a target=\"_blank\" href=\"https://consol…"
      ]
     },
     "metadata": {},
     "output_type": "display_data"
    },
    {
     "data": {
      "application/vnd.jupyter.widget-view+json": {
       "model_id": "fc2e8e8ba1924d99a320400ecd875100",
       "version_major": 2,
       "version_minor": 0
      },
      "text/plain": [
       "HTML(value='Query job 04d3c927-81e3-478c-a0e0-a6c05c08063b is RUNNING. <a target=\"_blank\" href=\"https://consol…"
      ]
     },
     "metadata": {},
     "output_type": "display_data"
    }
   ],
   "source": [
    "train_products.to_gbq(f'{BQ_PROJECT}.{BQ_DATASET}.{BQ_TABLE}_train_products', if_exists = 'replace', index = False)\n",
    "test_products.to_gbq(f'{BQ_PROJECT}.{BQ_DATASET}.{BQ_TABLE}_test_products', if_exists = 'replace', index = False)"
   ]
  },
  {
   "cell_type": "markdown",
   "id": "4ef9d7d8-84d2-403c-9118-73ff966e11b5",
   "metadata": {},
   "source": [
    "---\n",
    "## Create Models\n",
    "\n",
    "Build a classifier model from:\n",
    "- the combination of embedding vectors from the product name (`name`) and the node name from the product hierarchy\n",
    "- the absolute difference between the two embedding vectors repesenting the product and the node in the product hierarchy"
   ]
  },
  {
   "cell_type": "markdown",
   "id": "5c732f65-6db2-4dfe-b8ac-33db8a457af7",
   "metadata": {},
   "source": [
    "### Prepare Train and Test For Model Input"
   ]
  },
  {
   "cell_type": "code",
   "execution_count": 43,
   "id": "1dde2108-18ca-4be8-a577-7a795cdb08b1",
   "metadata": {},
   "outputs": [],
   "source": [
    "features = ''\n",
    "for i in range(768):\n",
    "    features += f\"\"\",\n",
    "    name_embedding[{i}] as name_{i}, hierarchy_node_embedding[{i}] as hier_{i}, ABS(name_embedding[{i}] - hierarchy_node_embedding[{i}]) as adiff_{i} \"\"\"\n",
    "\n",
    "test_input_query = f\"\"\"\n",
    "SELECT * {features}\n",
    "FROM `{BQ_PROJECT}.{BQ_DATASET}.{BQ_TABLE}_test_products`\n",
    "WHERE name is not null AND hierarchy_node is not null\n",
    "\"\"\"\n",
    "\n",
    "train_input_query = f\"\"\"\n",
    "SELECT * {features}\n",
    "FROM `{BQ_PROJECT}.{BQ_DATASET}.{BQ_TABLE}_train_products`\n",
    "WHERE name is not null\n",
    "    AND ARRAY_LENGTH(name_embedding) > 0\n",
    "    AND ARRAY_LENGTH(hierarchy_node_embedding) > 0\n",
    "\"\"\""
   ]
  },
  {
   "cell_type": "code",
   "execution_count": 44,
   "id": "9b920406-3d63-4e88-ab84-cac9400b4610",
   "metadata": {},
   "outputs": [],
   "source": [
    "#print(test_input)"
   ]
  },
  {
   "cell_type": "code",
   "execution_count": 45,
   "id": "9b78075d-2bfa-4ed8-9727-21df94c47929",
   "metadata": {},
   "outputs": [
    {
     "data": {
      "application/vnd.jupyter.widget-view+json": {
       "model_id": "a25fc922ce9c4767a6c8fd7a8c0b5a76",
       "version_major": 2,
       "version_minor": 0
      },
      "text/plain": [
       "HTML(value='Query job f3c33d24-e528-42ad-8500-ce0cdcf76c83 is RUNNING. <a target=\"_blank\" href=\"https://consol…"
      ]
     },
     "metadata": {},
     "output_type": "display_data"
    },
    {
     "data": {
      "application/vnd.jupyter.widget-view+json": {
       "model_id": "fc1eed193f6140daafbcf7ebf7a5136a",
       "version_major": 2,
       "version_minor": 0
      },
      "text/plain": [
       "HTML(value='Query job 6192f8c2-1c1d-4d95-9b48-c034df964430 is RUNNING. <a target=\"_blank\" href=\"https://consol…"
      ]
     },
     "metadata": {},
     "output_type": "display_data"
    }
   ],
   "source": [
    "test_input = bf.read_gbq(test_input_query)"
   ]
  },
  {
   "cell_type": "code",
   "execution_count": 46,
   "id": "fd2be864-fa81-47d8-acef-dec0acaf5d9b",
   "metadata": {},
   "outputs": [
    {
     "data": {
      "application/vnd.jupyter.widget-view+json": {
       "model_id": "5960309079824057b38afeb47bfca8ea",
       "version_major": 2,
       "version_minor": 0
      },
      "text/plain": [
       "HTML(value='Query job bb6fd6ee-b97c-4eda-a238-157bfd8a401f is DONE. 0 Bytes processed. <a target=\"_blank\" href…"
      ]
     },
     "metadata": {},
     "output_type": "display_data"
    },
    {
     "data": {
      "text/plain": [
       "(81536, 2313)"
      ]
     },
     "execution_count": 46,
     "metadata": {},
     "output_type": "execute_result"
    }
   ],
   "source": [
    "test_input.shape"
   ]
  },
  {
   "cell_type": "code",
   "execution_count": 47,
   "id": "e691a279-1314-4c08-907e-e1f5a7ed9f30",
   "metadata": {},
   "outputs": [
    {
     "data": {
      "application/vnd.jupyter.widget-view+json": {
       "model_id": "51554ba8164648b1a6b3a80090e7c09e",
       "version_major": 2,
       "version_minor": 0
      },
      "text/plain": [
       "HTML(value='Query job 3c5fb0b9-fe9f-4771-b666-98bb601046af is RUNNING. <a target=\"_blank\" href=\"https://consol…"
      ]
     },
     "metadata": {},
     "output_type": "display_data"
    },
    {
     "data": {
      "application/vnd.jupyter.widget-view+json": {
       "model_id": "25325916e3154e7fabf2f7b0f06f6265",
       "version_major": 2,
       "version_minor": 0
      },
      "text/plain": [
       "HTML(value='Query job eeecded8-b47b-4f2b-88a0-300b9a321ba6 is RUNNING. <a target=\"_blank\" href=\"https://consol…"
      ]
     },
     "metadata": {},
     "output_type": "display_data"
    }
   ],
   "source": [
    "train_input = bf.read_gbq(train_input_query)"
   ]
  },
  {
   "cell_type": "code",
   "execution_count": 48,
   "id": "baeaf5e8-b220-4105-ba15-fcb7e916163d",
   "metadata": {},
   "outputs": [
    {
     "data": {
      "application/vnd.jupyter.widget-view+json": {
       "model_id": "1ee7dcd0a02f4f7dbc2d6a3366940ef7",
       "version_major": 2,
       "version_minor": 0
      },
      "text/plain": [
       "HTML(value='Query job 5dd2b8f3-81af-47a9-a15a-112a065134ff is DONE. 0 Bytes processed. <a target=\"_blank\" href…"
      ]
     },
     "metadata": {},
     "output_type": "display_data"
    },
    {
     "data": {
      "text/plain": [
       "(733768, 2313)"
      ]
     },
     "execution_count": 48,
     "metadata": {},
     "output_type": "execute_result"
    }
   ],
   "source": [
    "train_input.shape"
   ]
  },
  {
   "cell_type": "code",
   "execution_count": 49,
   "id": "5f33e96d-7708-4fce-a6dd-0563cf0ee70e",
   "metadata": {},
   "outputs": [
    {
     "data": {
      "text/plain": [
       "id                          Int64\n",
       "name              string[pyarrow]\n",
       "name_embedding             object\n",
       "category          string[pyarrow]\n",
       "department        string[pyarrow]\n",
       "                       ...       \n",
       "hier_766                  Float64\n",
       "adiff_766                 Float64\n",
       "name_767                  Float64\n",
       "hier_767                  Float64\n",
       "adiff_767                 Float64\n",
       "Length: 2313, dtype: object"
      ]
     },
     "execution_count": 49,
     "metadata": {},
     "output_type": "execute_result"
    }
   ],
   "source": [
    "train_input.dtypes"
   ]
  },
  {
   "cell_type": "markdown",
   "id": "38e24ff5-a91a-470a-ad06-731c22db6a2d",
   "metadata": {},
   "source": [
    "### Train Classifier: Concatenate Embeddings as Features"
   ]
  },
  {
   "cell_type": "code",
   "execution_count": 50,
   "id": "27ca90ef-72b9-4be9-bac4-f542f4ed9a84",
   "metadata": {},
   "outputs": [],
   "source": [
    "classifier_model = bfml.ensemble.XGBClassifier()"
   ]
  },
  {
   "cell_type": "code",
   "execution_count": 51,
   "id": "4f123b13-1485-4223-a2b0-98a5934d8719",
   "metadata": {},
   "outputs": [],
   "source": [
    "features = [col for col in train_input.columns if (col.startswith('name_') or col.startswith('hier_')) and col != 'name_embedding']"
   ]
  },
  {
   "cell_type": "code",
   "execution_count": 52,
   "id": "9913971e-71dd-4dea-ab96-14b21b89141a",
   "metadata": {},
   "outputs": [
    {
     "data": {
      "application/vnd.jupyter.widget-view+json": {
       "model_id": "e4be518445b243a697d068b831ed3080",
       "version_major": 2,
       "version_minor": 0
      },
      "text/plain": [
       "HTML(value='Query job 003bbc80-774e-443a-b936-cab63aed8f8a is RUNNING. <a target=\"_blank\" href=\"https://consol…"
      ]
     },
     "metadata": {},
     "output_type": "display_data"
    },
    {
     "data": {
      "text/plain": [
       "XGBClassifier()"
      ]
     },
     "execution_count": 52,
     "metadata": {},
     "output_type": "execute_result"
    }
   ],
   "source": [
    "classifier_model.fit(X = train_input[features], y = train_input['label'])"
   ]
  },
  {
   "cell_type": "code",
   "execution_count": 53,
   "id": "4bc2a586-e85f-49e3-a81e-330d94529357",
   "metadata": {},
   "outputs": [
    {
     "data": {
      "application/vnd.jupyter.widget-view+json": {
       "model_id": "a58fc5a7c41546e697ba413ce0802679",
       "version_major": 2,
       "version_minor": 0
      },
      "text/plain": [
       "HTML(value='Copy job a2918421-3372-44f4-8b80-fffd1a692e2d is RUNNING. <a target=\"_blank\" href=\"https://console…"
      ]
     },
     "metadata": {},
     "output_type": "display_data"
    },
    {
     "data": {
      "text/plain": [
       "XGBClassifier(booster='GBTREE', tree_method='AUTO')"
      ]
     },
     "execution_count": 53,
     "metadata": {},
     "output_type": "execute_result"
    }
   ],
   "source": [
    "classifier_model.to_gbq(f'{BQ_PROJECT}.{BQ_DATASET}.{BQ_TABLE}_classifier', replace = True)"
   ]
  },
  {
   "cell_type": "code",
   "execution_count": 54,
   "id": "749a25c9-51d5-4008-8f1d-82332541a51a",
   "metadata": {},
   "outputs": [
    {
     "data": {
      "text/plain": [
       "{'booster': 'gbtree',\n",
       " 'colsample_bylevel': 1.0,\n",
       " 'colsample_bynode': 1.0,\n",
       " 'colsample_bytree': 1.0,\n",
       " 'dart_normalized_type': 'TREE',\n",
       " 'early_stop': True,\n",
       " 'enable_global_explain': False,\n",
       " 'gamma': 0.0,\n",
       " 'learning_rate': 0.3,\n",
       " 'max_depth': 6,\n",
       " 'max_iterations': 20,\n",
       " 'min_rel_progress': 0.01,\n",
       " 'min_tree_child_weight': 1,\n",
       " 'num_parallel_tree': 1,\n",
       " 'reg_alpha': 0.0,\n",
       " 'reg_lambda': 1.0,\n",
       " 'subsample': 1.0,\n",
       " 'tree_method': 'auto',\n",
       " 'xgboost_version': '0.9'}"
      ]
     },
     "execution_count": 54,
     "metadata": {},
     "output_type": "execute_result"
    }
   ],
   "source": [
    "classifier_model.get_params()"
   ]
  },
  {
   "cell_type": "code",
   "execution_count": 55,
   "id": "c7221983-6b96-498a-bf1b-894aafc3a6fa",
   "metadata": {},
   "outputs": [
    {
     "data": {
      "application/vnd.jupyter.widget-view+json": {
       "model_id": "c079bb1abc6041388bc046ce514cb442",
       "version_major": 2,
       "version_minor": 0
      },
      "text/plain": [
       "HTML(value='Query job 20bd7554-259b-4a35-bcc8-f289b33f76fe is RUNNING. <a target=\"_blank\" href=\"https://consol…"
      ]
     },
     "metadata": {},
     "output_type": "display_data"
    },
    {
     "data": {
      "application/vnd.jupyter.widget-view+json": {
       "model_id": "e3ccc8f545cc41ff9bfb63fc7e66b192",
       "version_major": 2,
       "version_minor": 0
      },
      "text/plain": [
       "HTML(value='Query job 9cfe5116-c3fb-448f-85d8-a0d1062dacfc is DONE. 40 Bytes processed. <a target=\"_blank\" hre…"
      ]
     },
     "metadata": {},
     "output_type": "display_data"
    },
    {
     "data": {
      "application/vnd.jupyter.widget-view+json": {
       "model_id": "d8c9e0c2b7964ab2a486585370611c00",
       "version_major": 2,
       "version_minor": 0
      },
      "text/plain": [
       "HTML(value='Query job b5475cc0-f4b3-47b2-b282-fd636a588265 is DONE. 0 Bytes processed. <a target=\"_blank\" href…"
      ]
     },
     "metadata": {},
     "output_type": "display_data"
    },
    {
     "data": {
      "application/vnd.jupyter.widget-view+json": {
       "model_id": "e9ecd04d569447b9b1e09797cb102db8",
       "version_major": 2,
       "version_minor": 0
      },
      "text/plain": [
       "HTML(value='Query job 77fb34e6-ade8-432f-8cd2-e52e1b364c70 is DONE. 80 Bytes processed. <a target=\"_blank\" hre…"
      ]
     },
     "metadata": {},
     "output_type": "display_data"
    },
    {
     "data": {
      "application/vnd.jupyter.widget-view+json": {
       "model_id": "e137b07a1cd847789a61c453d19d3a40",
       "version_major": 2,
       "version_minor": 0
      },
      "text/plain": [
       "HTML(value='Query job 2c0525b0-7a26-4ca0-9f75-37d529fa4549 is DONE. 0 Bytes processed. <a target=\"_blank\" href…"
      ]
     },
     "metadata": {},
     "output_type": "display_data"
    },
    {
     "data": {
      "text/html": [
       "<div>\n",
       "<style scoped>\n",
       "    .dataframe tbody tr th:only-of-type {\n",
       "        vertical-align: middle;\n",
       "    }\n",
       "\n",
       "    .dataframe tbody tr th {\n",
       "        vertical-align: top;\n",
       "    }\n",
       "\n",
       "    .dataframe thead th {\n",
       "        text-align: right;\n",
       "    }\n",
       "</style>\n",
       "<table border=\"1\" class=\"dataframe\">\n",
       "  <thead>\n",
       "    <tr style=\"text-align: right;\">\n",
       "      <th></th>\n",
       "      <th>predicted_label</th>\n",
       "    </tr>\n",
       "  </thead>\n",
       "  <tbody>\n",
       "    <tr>\n",
       "      <th>0</th>\n",
       "      <td>0</td>\n",
       "    </tr>\n",
       "    <tr>\n",
       "      <th>1</th>\n",
       "      <td>0</td>\n",
       "    </tr>\n",
       "    <tr>\n",
       "      <th>2</th>\n",
       "      <td>0</td>\n",
       "    </tr>\n",
       "    <tr>\n",
       "      <th>3</th>\n",
       "      <td>0</td>\n",
       "    </tr>\n",
       "    <tr>\n",
       "      <th>4</th>\n",
       "      <td>0</td>\n",
       "    </tr>\n",
       "  </tbody>\n",
       "</table>\n",
       "<p>5 rows × 1 columns</p>\n",
       "</div>[5 rows x 1 columns in total]"
      ],
      "text/plain": [
       "   predicted_label\n",
       "0                0\n",
       "1                0\n",
       "2                0\n",
       "3                0\n",
       "4                0\n",
       "\n",
       "[5 rows x 1 columns]"
      ]
     },
     "execution_count": 55,
     "metadata": {},
     "output_type": "execute_result"
    }
   ],
   "source": [
    "classifier_model.predict(X = test_input.head())"
   ]
  },
  {
   "cell_type": "markdown",
   "id": "d680b082-484a-47e0-8563-71b0d8fc5117",
   "metadata": {},
   "source": [
    "### Train Classifier: Absolute Difference Between Embeddings as Features"
   ]
  },
  {
   "cell_type": "code",
   "execution_count": 56,
   "id": "c221dc9a-f8c4-4bec-8e0e-96f2a031f76b",
   "metadata": {},
   "outputs": [],
   "source": [
    "classifier_model_adiff = bfml.ensemble.XGBClassifier()"
   ]
  },
  {
   "cell_type": "code",
   "execution_count": 57,
   "id": "3dd4868d-71eb-4489-b0b3-d3b180e71eda",
   "metadata": {},
   "outputs": [],
   "source": [
    "features = [col for col in train_input.columns if col.startswith('adiff_')]"
   ]
  },
  {
   "cell_type": "code",
   "execution_count": 58,
   "id": "c92addbb-00fe-4dd7-bb18-c013a86f0e65",
   "metadata": {},
   "outputs": [
    {
     "data": {
      "application/vnd.jupyter.widget-view+json": {
       "model_id": "9553e233689b4b6f87c8a98a837a018a",
       "version_major": 2,
       "version_minor": 0
      },
      "text/plain": [
       "HTML(value='Query job b1306788-7b4c-41b4-acfb-c935c6baba9d is RUNNING. <a target=\"_blank\" href=\"https://consol…"
      ]
     },
     "metadata": {},
     "output_type": "display_data"
    },
    {
     "data": {
      "text/plain": [
       "XGBClassifier()"
      ]
     },
     "execution_count": 58,
     "metadata": {},
     "output_type": "execute_result"
    }
   ],
   "source": [
    "classifier_model_adiff.fit(X = train_input[features], y = train_input['label'])"
   ]
  },
  {
   "cell_type": "code",
   "execution_count": 59,
   "id": "1e47ae4e-f05d-473d-9ac0-965978185be8",
   "metadata": {},
   "outputs": [
    {
     "data": {
      "application/vnd.jupyter.widget-view+json": {
       "model_id": "a2394fae260b46338c54a82d4fa8edea",
       "version_major": 2,
       "version_minor": 0
      },
      "text/plain": [
       "HTML(value='Copy job 89c099a1-c9d5-40be-b1e0-b2747728c743 is RUNNING. <a target=\"_blank\" href=\"https://console…"
      ]
     },
     "metadata": {},
     "output_type": "display_data"
    },
    {
     "data": {
      "text/plain": [
       "XGBClassifier(booster='GBTREE', tree_method='AUTO')"
      ]
     },
     "execution_count": 59,
     "metadata": {},
     "output_type": "execute_result"
    }
   ],
   "source": [
    "classifier_model_adiff.to_gbq(f'{BQ_PROJECT}.{BQ_DATASET}.{BQ_TABLE}_classifier_adiff', replace = True)"
   ]
  },
  {
   "cell_type": "code",
   "execution_count": 60,
   "id": "58fcbf52-c92c-4b9b-8a24-7f0473865019",
   "metadata": {},
   "outputs": [
    {
     "data": {
      "text/plain": [
       "{'booster': 'gbtree',\n",
       " 'colsample_bylevel': 1.0,\n",
       " 'colsample_bynode': 1.0,\n",
       " 'colsample_bytree': 1.0,\n",
       " 'dart_normalized_type': 'TREE',\n",
       " 'early_stop': True,\n",
       " 'enable_global_explain': False,\n",
       " 'gamma': 0.0,\n",
       " 'learning_rate': 0.3,\n",
       " 'max_depth': 6,\n",
       " 'max_iterations': 20,\n",
       " 'min_rel_progress': 0.01,\n",
       " 'min_tree_child_weight': 1,\n",
       " 'num_parallel_tree': 1,\n",
       " 'reg_alpha': 0.0,\n",
       " 'reg_lambda': 1.0,\n",
       " 'subsample': 1.0,\n",
       " 'tree_method': 'auto',\n",
       " 'xgboost_version': '0.9'}"
      ]
     },
     "execution_count": 60,
     "metadata": {},
     "output_type": "execute_result"
    }
   ],
   "source": [
    "classifier_model_adiff.get_params()"
   ]
  },
  {
   "cell_type": "code",
   "execution_count": 61,
   "id": "1cb702f4-c022-4220-af3c-048b79bd6b99",
   "metadata": {},
   "outputs": [
    {
     "data": {
      "application/vnd.jupyter.widget-view+json": {
       "model_id": "c0ab9fc2c3ca4e11bf2a6f00b56f881c",
       "version_major": 2,
       "version_minor": 0
      },
      "text/plain": [
       "HTML(value='Query job 38eec6dd-9998-4a3d-ba2f-0650aa18df50 is RUNNING. <a target=\"_blank\" href=\"https://consol…"
      ]
     },
     "metadata": {},
     "output_type": "display_data"
    },
    {
     "data": {
      "application/vnd.jupyter.widget-view+json": {
       "model_id": "a2e5cfae6fa14b658b52755d714c64b7",
       "version_major": 2,
       "version_minor": 0
      },
      "text/plain": [
       "HTML(value='Query job 3304a79b-d30d-49e0-a47f-7694ff0299ca is DONE. 40 Bytes processed. <a target=\"_blank\" hre…"
      ]
     },
     "metadata": {},
     "output_type": "display_data"
    },
    {
     "data": {
      "application/vnd.jupyter.widget-view+json": {
       "model_id": "47aafa4a581942c69ca35b7d54387c13",
       "version_major": 2,
       "version_minor": 0
      },
      "text/plain": [
       "HTML(value='Query job 1c349f75-f1a6-4979-b027-717327e22371 is DONE. 0 Bytes processed. <a target=\"_blank\" href…"
      ]
     },
     "metadata": {},
     "output_type": "display_data"
    },
    {
     "data": {
      "application/vnd.jupyter.widget-view+json": {
       "model_id": "5a064bfd3c1e4e48b1afc8fbcccd10ea",
       "version_major": 2,
       "version_minor": 0
      },
      "text/plain": [
       "HTML(value='Query job ef09bdcd-5729-4678-9f0d-405e1945a2da is DONE. 80 Bytes processed. <a target=\"_blank\" hre…"
      ]
     },
     "metadata": {},
     "output_type": "display_data"
    },
    {
     "data": {
      "application/vnd.jupyter.widget-view+json": {
       "model_id": "6cb2bb0a886c43a2bccd5d8f51ad01e5",
       "version_major": 2,
       "version_minor": 0
      },
      "text/plain": [
       "HTML(value='Query job 9a278239-05ae-4230-a1e5-f11276226864 is DONE. 0 Bytes processed. <a target=\"_blank\" href…"
      ]
     },
     "metadata": {},
     "output_type": "display_data"
    },
    {
     "data": {
      "text/html": [
       "<div>\n",
       "<style scoped>\n",
       "    .dataframe tbody tr th:only-of-type {\n",
       "        vertical-align: middle;\n",
       "    }\n",
       "\n",
       "    .dataframe tbody tr th {\n",
       "        vertical-align: top;\n",
       "    }\n",
       "\n",
       "    .dataframe thead th {\n",
       "        text-align: right;\n",
       "    }\n",
       "</style>\n",
       "<table border=\"1\" class=\"dataframe\">\n",
       "  <thead>\n",
       "    <tr style=\"text-align: right;\">\n",
       "      <th></th>\n",
       "      <th>predicted_label</th>\n",
       "    </tr>\n",
       "  </thead>\n",
       "  <tbody>\n",
       "    <tr>\n",
       "      <th>0</th>\n",
       "      <td>0</td>\n",
       "    </tr>\n",
       "    <tr>\n",
       "      <th>1</th>\n",
       "      <td>0</td>\n",
       "    </tr>\n",
       "    <tr>\n",
       "      <th>2</th>\n",
       "      <td>0</td>\n",
       "    </tr>\n",
       "    <tr>\n",
       "      <th>3</th>\n",
       "      <td>0</td>\n",
       "    </tr>\n",
       "    <tr>\n",
       "      <th>4</th>\n",
       "      <td>0</td>\n",
       "    </tr>\n",
       "  </tbody>\n",
       "</table>\n",
       "<p>5 rows × 1 columns</p>\n",
       "</div>[5 rows x 1 columns in total]"
      ],
      "text/plain": [
       "   predicted_label\n",
       "0                0\n",
       "1                0\n",
       "2                0\n",
       "3                0\n",
       "4                0\n",
       "\n",
       "[5 rows x 1 columns]"
      ]
     },
     "execution_count": 61,
     "metadata": {},
     "output_type": "execute_result"
    }
   ],
   "source": [
    "classifier_model_adiff.predict(X = test_input.head())"
   ]
  },
  {
   "cell_type": "markdown",
   "id": "8a47091f-85b8-49e5-a9dd-01802df8f0ae",
   "metadata": {},
   "source": [
    "---\n",
    "---\n",
    "---\n",
    "# NOTE: Switching To BigQuery API**\n",
    "    \n",
    "Working with the model in BigQuery ML requires some features that are not yet in the BigFrames API.  The following section switches to the BigQuery API and uses SQL to retrive results to local Pandas dataframes.\n",
    "\n",
    "**EXAMPLE**\n",
    "\n",
    "In the section above the `.predict()` method was used to retrive predictions.  The only column returned is the predicted label.  For this project the probability for each class label is needed to infer the right placement in the product hierarchy."
   ]
  },
  {
   "cell_type": "code",
   "execution_count": 62,
   "id": "ae31cf73-7ab0-4e11-9e40-b5b2cfd428f4",
   "metadata": {},
   "outputs": [
    {
     "data": {
      "application/vnd.jupyter.widget-view+json": {
       "model_id": "243454577a6f4514a1817ce8da7ef26b",
       "version_major": 2,
       "version_minor": 0
      },
      "text/plain": [
       "HTML(value='Query job 2d42374f-912f-4096-b035-bada9573d4b7 is RUNNING. <a target=\"_blank\" href=\"https://consol…"
      ]
     },
     "metadata": {},
     "output_type": "display_data"
    },
    {
     "data": {
      "application/vnd.jupyter.widget-view+json": {
       "model_id": "10e7750141544d028596c3be2a288a36",
       "version_major": 2,
       "version_minor": 0
      },
      "text/plain": [
       "HTML(value='Query job bf4ce298-dc68-470f-8ff7-fe98ec66fc87 is RUNNING. <a target=\"_blank\" href=\"https://consol…"
      ]
     },
     "metadata": {},
     "output_type": "display_data"
    }
   ],
   "source": [
    "# save model input to BigQuery Tables\n",
    "train_input.to_gbq(f'{BQ_PROJECT}.{BQ_DATASET}.{BQ_TABLE}_train_input', if_exists = 'replace', index = False)\n",
    "test_input.to_gbq(f'{BQ_PROJECT}.{BQ_DATASET}.{BQ_TABLE}_test_input', if_exists = 'replace', index = False)"
   ]
  },
  {
   "cell_type": "markdown",
   "id": "1e043d88-00ba-456a-a2dd-111579881aa1",
   "metadata": {},
   "source": [
    "---\n",
    "## Model Inference: Develop Approach With 1 Instance\n",
    "\n",
    "Request predictions.  With this data shape the process is iterative."
   ]
  },
  {
   "cell_type": "code",
   "execution_count": 63,
   "id": "44ed74f5-07e6-41eb-9a90-6c992e0d43b3",
   "metadata": {},
   "outputs": [],
   "source": [
    "query = f\"\"\"\n",
    "SELECT *\n",
    "FROM ML.PREDICT (\n",
    "    MODEL `{BQ_PROJECT}.{BQ_DATASET}.{BQ_TABLE}_classifier`,\n",
    "    (\n",
    "        SELECT *\n",
    "        FROM `{BQ_PROJECT}.{BQ_DATASET}.{BQ_TABLE}_test_input`\n",
    "        LIMIT 1\n",
    "    )\n",
    ")\n",
    "\"\"\""
   ]
  },
  {
   "cell_type": "code",
   "execution_count": 64,
   "id": "983245f6-6bca-4447-b122-d9158001322b",
   "metadata": {},
   "outputs": [],
   "source": [
    "pred = bq.query(query = query).to_dataframe()"
   ]
  },
  {
   "cell_type": "code",
   "execution_count": 65,
   "id": "cf2086c9-5fdc-4f7a-8758-38c72deb684c",
   "metadata": {},
   "outputs": [
    {
     "data": {
      "text/html": [
       "<div>\n",
       "<style scoped>\n",
       "    .dataframe tbody tr th:only-of-type {\n",
       "        vertical-align: middle;\n",
       "    }\n",
       "\n",
       "    .dataframe tbody tr th {\n",
       "        vertical-align: top;\n",
       "    }\n",
       "\n",
       "    .dataframe thead th {\n",
       "        text-align: right;\n",
       "    }\n",
       "</style>\n",
       "<table border=\"1\" class=\"dataframe\">\n",
       "  <thead>\n",
       "    <tr style=\"text-align: right;\">\n",
       "      <th></th>\n",
       "      <th>predicted_label</th>\n",
       "      <th>predicted_label_probs</th>\n",
       "      <th>id</th>\n",
       "      <th>name</th>\n",
       "      <th>name_embedding</th>\n",
       "      <th>category</th>\n",
       "      <th>department</th>\n",
       "      <th>hierarchy_node</th>\n",
       "      <th>hierarchy_node_embedding</th>\n",
       "      <th>hierarchy_level</th>\n",
       "      <th>...</th>\n",
       "      <th>adiff_764</th>\n",
       "      <th>name_765</th>\n",
       "      <th>hier_765</th>\n",
       "      <th>adiff_765</th>\n",
       "      <th>name_766</th>\n",
       "      <th>hier_766</th>\n",
       "      <th>adiff_766</th>\n",
       "      <th>name_767</th>\n",
       "      <th>hier_767</th>\n",
       "      <th>adiff_767</th>\n",
       "    </tr>\n",
       "  </thead>\n",
       "  <tbody>\n",
       "    <tr>\n",
       "      <th>0</th>\n",
       "      <td>0</td>\n",
       "      <td>[{'label': 1, 'prob': 0.0018603693461045623}, ...</td>\n",
       "      <td>12163</td>\n",
       "      <td>ICOLLECTION LINGERIE 8066 Underwired sheer mes...</td>\n",
       "      <td>[0.01873893104493618, 0.00019954226445406675, ...</td>\n",
       "      <td>Intimates</td>\n",
       "      <td>Women</td>\n",
       "      <td>Suits</td>\n",
       "      <td>[-0.02044973149895668, -0.05227809399366379, 0...</td>\n",
       "      <td>category</td>\n",
       "      <td>...</td>\n",
       "      <td>0.01076</td>\n",
       "      <td>0.008253</td>\n",
       "      <td>0.026246</td>\n",
       "      <td>0.017993</td>\n",
       "      <td>-0.014222</td>\n",
       "      <td>0.007747</td>\n",
       "      <td>0.021968</td>\n",
       "      <td>0.013075</td>\n",
       "      <td>-0.037425</td>\n",
       "      <td>0.0505</td>\n",
       "    </tr>\n",
       "  </tbody>\n",
       "</table>\n",
       "<p>1 rows × 2315 columns</p>\n",
       "</div>"
      ],
      "text/plain": [
       "   predicted_label                              predicted_label_probs     id  \\\n",
       "0                0  [{'label': 1, 'prob': 0.0018603693461045623}, ...  12163   \n",
       "\n",
       "                                                name  \\\n",
       "0  ICOLLECTION LINGERIE 8066 Underwired sheer mes...   \n",
       "\n",
       "                                      name_embedding   category department  \\\n",
       "0  [0.01873893104493618, 0.00019954226445406675, ...  Intimates      Women   \n",
       "\n",
       "  hierarchy_node                           hierarchy_node_embedding  \\\n",
       "0          Suits  [-0.02044973149895668, -0.05227809399366379, 0...   \n",
       "\n",
       "  hierarchy_level  ...  adiff_764  name_765  hier_765  adiff_765  name_766  \\\n",
       "0        category  ...    0.01076  0.008253  0.026246   0.017993 -0.014222   \n",
       "\n",
       "   hier_766  adiff_766  name_767  hier_767  adiff_767  \n",
       "0  0.007747   0.021968  0.013075 -0.037425     0.0505  \n",
       "\n",
       "[1 rows x 2315 columns]"
      ]
     },
     "execution_count": 65,
     "metadata": {},
     "output_type": "execute_result"
    }
   ],
   "source": [
    "pred"
   ]
  },
  {
   "cell_type": "markdown",
   "id": "e296ef47-be6f-4fbb-a901-bccb702066c4",
   "metadata": {},
   "source": [
    "**Note**\n",
    "\n",
    "The full set of columns is returned along with the predicted label and predicted probabilities for each class label. This can be shrunken to just columns related to the label, hierarchy, and the predicted probability of membership."
   ]
  },
  {
   "cell_type": "code",
   "execution_count": 76,
   "id": "fe3379d0-e361-469c-9690-be265cd3b85a",
   "metadata": {},
   "outputs": [],
   "source": [
    "query = f\"\"\"\n",
    "SELECT *\n",
    "FROM (\n",
    "    SELECT id, predicted_label_probs, label, name, category, department, hierarchy_level, hierarchy_node\n",
    "    FROM ML.PREDICT (\n",
    "        MODEL `{BQ_PROJECT}.{BQ_DATASET}.{BQ_TABLE}_classifier`,\n",
    "        (\n",
    "            WITH limiter AS (SELECT id FROM `{BQ_PROJECT}.{BQ_DATASET}.{BQ_TABLE}_test_input` LIMIT 1)\n",
    "            SELECT *\n",
    "            FROM limiter\n",
    "            LEFT OUTER JOIN `{BQ_PROJECT}.{BQ_DATASET}.{BQ_TABLE}_test_input`\n",
    "            USING(id)\n",
    "        )\n",
    "    )\n",
    ") p\n",
    "CROSS JOIN UNNEST(p.predicted_label_probs) as probs\n",
    "WHERE probs.label = 1\n",
    "\"\"\""
   ]
  },
  {
   "cell_type": "code",
   "execution_count": 77,
   "id": "911d79f4-164e-4069-82c7-5e9fcc2756e8",
   "metadata": {},
   "outputs": [
    {
     "data": {
      "text/html": [
       "<div>\n",
       "<style scoped>\n",
       "    .dataframe tbody tr th:only-of-type {\n",
       "        vertical-align: middle;\n",
       "    }\n",
       "\n",
       "    .dataframe tbody tr th {\n",
       "        vertical-align: top;\n",
       "    }\n",
       "\n",
       "    .dataframe thead th {\n",
       "        text-align: right;\n",
       "    }\n",
       "</style>\n",
       "<table border=\"1\" class=\"dataframe\">\n",
       "  <thead>\n",
       "    <tr style=\"text-align: right;\">\n",
       "      <th></th>\n",
       "      <th>id</th>\n",
       "      <th>predicted_label_probs</th>\n",
       "      <th>label</th>\n",
       "      <th>name</th>\n",
       "      <th>category</th>\n",
       "      <th>department</th>\n",
       "      <th>hierarchy_level</th>\n",
       "      <th>hierarchy_node</th>\n",
       "      <th>label_1</th>\n",
       "      <th>prob</th>\n",
       "    </tr>\n",
       "  </thead>\n",
       "  <tbody>\n",
       "    <tr>\n",
       "      <th>0</th>\n",
       "      <td>11634</td>\n",
       "      <td>[{'label': 1, 'prob': 0.09856118261814117}, {'...</td>\n",
       "      <td>0</td>\n",
       "      <td>Cinema Etoile Women's Square Neck Cami</td>\n",
       "      <td>Intimates</td>\n",
       "      <td>Women</td>\n",
       "      <td>category</td>\n",
       "      <td>Tops &amp; Tees</td>\n",
       "      <td>1</td>\n",
       "      <td>0.098561</td>\n",
       "    </tr>\n",
       "    <tr>\n",
       "      <th>1</th>\n",
       "      <td>11634</td>\n",
       "      <td>[{'label': 1, 'prob': 0.014292235486209393}, {...</td>\n",
       "      <td>0</td>\n",
       "      <td>Cinema Etoile Women's Square Neck Cami</td>\n",
       "      <td>Intimates</td>\n",
       "      <td>Women</td>\n",
       "      <td>category</td>\n",
       "      <td>Dresses</td>\n",
       "      <td>1</td>\n",
       "      <td>0.014292</td>\n",
       "    </tr>\n",
       "    <tr>\n",
       "      <th>2</th>\n",
       "      <td>11634</td>\n",
       "      <td>[{'label': 1, 'prob': 0.042169298976659775}, {...</td>\n",
       "      <td>0</td>\n",
       "      <td>Cinema Etoile Women's Square Neck Cami</td>\n",
       "      <td>Intimates</td>\n",
       "      <td>Women</td>\n",
       "      <td>category</td>\n",
       "      <td>Swim</td>\n",
       "      <td>1</td>\n",
       "      <td>0.042169</td>\n",
       "    </tr>\n",
       "    <tr>\n",
       "      <th>3</th>\n",
       "      <td>11634</td>\n",
       "      <td>[{'label': 1, 'prob': 0.02777058258652687}, {'...</td>\n",
       "      <td>0</td>\n",
       "      <td>Cinema Etoile Women's Square Neck Cami</td>\n",
       "      <td>Intimates</td>\n",
       "      <td>Women</td>\n",
       "      <td>category</td>\n",
       "      <td>Underwear</td>\n",
       "      <td>1</td>\n",
       "      <td>0.027771</td>\n",
       "    </tr>\n",
       "    <tr>\n",
       "      <th>4</th>\n",
       "      <td>11634</td>\n",
       "      <td>[{'label': 1, 'prob': 0.06264296919107437}, {'...</td>\n",
       "      <td>0</td>\n",
       "      <td>Cinema Etoile Women's Square Neck Cami</td>\n",
       "      <td>Intimates</td>\n",
       "      <td>Women</td>\n",
       "      <td>category</td>\n",
       "      <td>Active</td>\n",
       "      <td>1</td>\n",
       "      <td>0.062643</td>\n",
       "    </tr>\n",
       "    <tr>\n",
       "      <th>5</th>\n",
       "      <td>11634</td>\n",
       "      <td>[{'label': 1, 'prob': 0.10970967262983322}, {'...</td>\n",
       "      <td>0</td>\n",
       "      <td>Cinema Etoile Women's Square Neck Cami</td>\n",
       "      <td>Intimates</td>\n",
       "      <td>Women</td>\n",
       "      <td>category</td>\n",
       "      <td>Sweaters</td>\n",
       "      <td>1</td>\n",
       "      <td>0.109710</td>\n",
       "    </tr>\n",
       "    <tr>\n",
       "      <th>6</th>\n",
       "      <td>11634</td>\n",
       "      <td>[{'label': 1, 'prob': 0.003362766932696104}, {...</td>\n",
       "      <td>0</td>\n",
       "      <td>Cinema Etoile Women's Square Neck Cami</td>\n",
       "      <td>Intimates</td>\n",
       "      <td>Women</td>\n",
       "      <td>category</td>\n",
       "      <td>Leggings</td>\n",
       "      <td>1</td>\n",
       "      <td>0.003363</td>\n",
       "    </tr>\n",
       "    <tr>\n",
       "      <th>7</th>\n",
       "      <td>11634</td>\n",
       "      <td>[{'label': 1, 'prob': 0.020120663568377495}, {...</td>\n",
       "      <td>0</td>\n",
       "      <td>Cinema Etoile Women's Square Neck Cami</td>\n",
       "      <td>Intimates</td>\n",
       "      <td>Women</td>\n",
       "      <td>category</td>\n",
       "      <td>Plus</td>\n",
       "      <td>1</td>\n",
       "      <td>0.020121</td>\n",
       "    </tr>\n",
       "    <tr>\n",
       "      <th>8</th>\n",
       "      <td>11634</td>\n",
       "      <td>[{'label': 1, 'prob': 0.044033437967300415}, {...</td>\n",
       "      <td>0</td>\n",
       "      <td>Cinema Etoile Women's Square Neck Cami</td>\n",
       "      <td>Intimates</td>\n",
       "      <td>Women</td>\n",
       "      <td>category</td>\n",
       "      <td>Shorts</td>\n",
       "      <td>1</td>\n",
       "      <td>0.044033</td>\n",
       "    </tr>\n",
       "    <tr>\n",
       "      <th>9</th>\n",
       "      <td>11634</td>\n",
       "      <td>[{'label': 1, 'prob': 0.039312850683927536}, {...</td>\n",
       "      <td>0</td>\n",
       "      <td>Cinema Etoile Women's Square Neck Cami</td>\n",
       "      <td>Intimates</td>\n",
       "      <td>Women</td>\n",
       "      <td>category</td>\n",
       "      <td>Sleep &amp; Lounge</td>\n",
       "      <td>1</td>\n",
       "      <td>0.039313</td>\n",
       "    </tr>\n",
       "    <tr>\n",
       "      <th>10</th>\n",
       "      <td>11634</td>\n",
       "      <td>[{'label': 1, 'prob': 0.008593752048909664}, {...</td>\n",
       "      <td>0</td>\n",
       "      <td>Cinema Etoile Women's Square Neck Cami</td>\n",
       "      <td>Intimates</td>\n",
       "      <td>Women</td>\n",
       "      <td>category</td>\n",
       "      <td>Blazers &amp; Jackets</td>\n",
       "      <td>1</td>\n",
       "      <td>0.008594</td>\n",
       "    </tr>\n",
       "    <tr>\n",
       "      <th>11</th>\n",
       "      <td>11634</td>\n",
       "      <td>[{'label': 1, 'prob': 0.0017643278697505593}, ...</td>\n",
       "      <td>0</td>\n",
       "      <td>Cinema Etoile Women's Square Neck Cami</td>\n",
       "      <td>Intimates</td>\n",
       "      <td>Women</td>\n",
       "      <td>category</td>\n",
       "      <td>Jumpsuits &amp; Rompers</td>\n",
       "      <td>1</td>\n",
       "      <td>0.001764</td>\n",
       "    </tr>\n",
       "    <tr>\n",
       "      <th>12</th>\n",
       "      <td>11634</td>\n",
       "      <td>[{'label': 1, 'prob': 0.026859544217586517}, {...</td>\n",
       "      <td>1</td>\n",
       "      <td>Cinema Etoile Women's Square Neck Cami</td>\n",
       "      <td>Intimates</td>\n",
       "      <td>Women</td>\n",
       "      <td>category</td>\n",
       "      <td>Intimates</td>\n",
       "      <td>1</td>\n",
       "      <td>0.026860</td>\n",
       "    </tr>\n",
       "    <tr>\n",
       "      <th>13</th>\n",
       "      <td>11634</td>\n",
       "      <td>[{'label': 1, 'prob': 0.016631869599223137}, {...</td>\n",
       "      <td>0</td>\n",
       "      <td>Cinema Etoile Women's Square Neck Cami</td>\n",
       "      <td>Intimates</td>\n",
       "      <td>Women</td>\n",
       "      <td>category</td>\n",
       "      <td>Pants</td>\n",
       "      <td>1</td>\n",
       "      <td>0.016632</td>\n",
       "    </tr>\n",
       "    <tr>\n",
       "      <th>14</th>\n",
       "      <td>11634</td>\n",
       "      <td>[{'label': 1, 'prob': 0.005926839541643858}, {...</td>\n",
       "      <td>0</td>\n",
       "      <td>Cinema Etoile Women's Square Neck Cami</td>\n",
       "      <td>Intimates</td>\n",
       "      <td>Women</td>\n",
       "      <td>category</td>\n",
       "      <td>Socks &amp; Hosiery</td>\n",
       "      <td>1</td>\n",
       "      <td>0.005927</td>\n",
       "    </tr>\n",
       "    <tr>\n",
       "      <th>15</th>\n",
       "      <td>11634</td>\n",
       "      <td>[{'label': 1, 'prob': 0.06807883083820343}, {'...</td>\n",
       "      <td>0</td>\n",
       "      <td>Cinema Etoile Women's Square Neck Cami</td>\n",
       "      <td>Intimates</td>\n",
       "      <td>Women</td>\n",
       "      <td>department</td>\n",
       "      <td>Men</td>\n",
       "      <td>1</td>\n",
       "      <td>0.068079</td>\n",
       "    </tr>\n",
       "    <tr>\n",
       "      <th>16</th>\n",
       "      <td>11634</td>\n",
       "      <td>[{'label': 1, 'prob': 0.01657005213201046}, {'...</td>\n",
       "      <td>0</td>\n",
       "      <td>Cinema Etoile Women's Square Neck Cami</td>\n",
       "      <td>Intimates</td>\n",
       "      <td>Women</td>\n",
       "      <td>category</td>\n",
       "      <td>Suits &amp; Sport Coats</td>\n",
       "      <td>1</td>\n",
       "      <td>0.016570</td>\n",
       "    </tr>\n",
       "    <tr>\n",
       "      <th>17</th>\n",
       "      <td>11634</td>\n",
       "      <td>[{'label': 1, 'prob': 0.03600963577628136}, {'...</td>\n",
       "      <td>0</td>\n",
       "      <td>Cinema Etoile Women's Square Neck Cami</td>\n",
       "      <td>Intimates</td>\n",
       "      <td>Women</td>\n",
       "      <td>category</td>\n",
       "      <td>Jeans</td>\n",
       "      <td>1</td>\n",
       "      <td>0.036010</td>\n",
       "    </tr>\n",
       "    <tr>\n",
       "      <th>18</th>\n",
       "      <td>11634</td>\n",
       "      <td>[{'label': 1, 'prob': 0.02076495625078678}, {'...</td>\n",
       "      <td>0</td>\n",
       "      <td>Cinema Etoile Women's Square Neck Cami</td>\n",
       "      <td>Intimates</td>\n",
       "      <td>Women</td>\n",
       "      <td>category</td>\n",
       "      <td>Maternity</td>\n",
       "      <td>1</td>\n",
       "      <td>0.020765</td>\n",
       "    </tr>\n",
       "    <tr>\n",
       "      <th>19</th>\n",
       "      <td>11634</td>\n",
       "      <td>[{'label': 1, 'prob': 0.007173960562795401}, {...</td>\n",
       "      <td>0</td>\n",
       "      <td>Cinema Etoile Women's Square Neck Cami</td>\n",
       "      <td>Intimates</td>\n",
       "      <td>Women</td>\n",
       "      <td>category</td>\n",
       "      <td>Pants &amp; Capris</td>\n",
       "      <td>1</td>\n",
       "      <td>0.007174</td>\n",
       "    </tr>\n",
       "    <tr>\n",
       "      <th>20</th>\n",
       "      <td>11634</td>\n",
       "      <td>[{'label': 1, 'prob': 0.051704514771699905}, {...</td>\n",
       "      <td>0</td>\n",
       "      <td>Cinema Etoile Women's Square Neck Cami</td>\n",
       "      <td>Intimates</td>\n",
       "      <td>Women</td>\n",
       "      <td>category</td>\n",
       "      <td>Accessories</td>\n",
       "      <td>1</td>\n",
       "      <td>0.051705</td>\n",
       "    </tr>\n",
       "    <tr>\n",
       "      <th>21</th>\n",
       "      <td>11634</td>\n",
       "      <td>[{'label': 1, 'prob': 0.07680191844701767}, {'...</td>\n",
       "      <td>0</td>\n",
       "      <td>Cinema Etoile Women's Square Neck Cami</td>\n",
       "      <td>Intimates</td>\n",
       "      <td>Women</td>\n",
       "      <td>category</td>\n",
       "      <td>Outerwear &amp; Coats</td>\n",
       "      <td>1</td>\n",
       "      <td>0.076802</td>\n",
       "    </tr>\n",
       "    <tr>\n",
       "      <th>22</th>\n",
       "      <td>11634</td>\n",
       "      <td>[{'label': 1, 'prob': 0.004483567550778389}, {...</td>\n",
       "      <td>0</td>\n",
       "      <td>Cinema Etoile Women's Square Neck Cami</td>\n",
       "      <td>Intimates</td>\n",
       "      <td>Women</td>\n",
       "      <td>category</td>\n",
       "      <td>Skirts</td>\n",
       "      <td>1</td>\n",
       "      <td>0.004484</td>\n",
       "    </tr>\n",
       "    <tr>\n",
       "      <th>23</th>\n",
       "      <td>11634</td>\n",
       "      <td>[{'label': 1, 'prob': 0.04800966754555702}, {'...</td>\n",
       "      <td>0</td>\n",
       "      <td>Cinema Etoile Women's Square Neck Cami</td>\n",
       "      <td>Intimates</td>\n",
       "      <td>Women</td>\n",
       "      <td>category</td>\n",
       "      <td>Fashion Hoodies &amp; Sweatshirts</td>\n",
       "      <td>1</td>\n",
       "      <td>0.048010</td>\n",
       "    </tr>\n",
       "    <tr>\n",
       "      <th>24</th>\n",
       "      <td>11634</td>\n",
       "      <td>[{'label': 1, 'prob': 0.9437806010246277}, {'l...</td>\n",
       "      <td>1</td>\n",
       "      <td>Cinema Etoile Women's Square Neck Cami</td>\n",
       "      <td>Intimates</td>\n",
       "      <td>Women</td>\n",
       "      <td>department</td>\n",
       "      <td>Women</td>\n",
       "      <td>1</td>\n",
       "      <td>0.943781</td>\n",
       "    </tr>\n",
       "    <tr>\n",
       "      <th>25</th>\n",
       "      <td>11634</td>\n",
       "      <td>[{'label': 1, 'prob': 0.0017643278697505593}, ...</td>\n",
       "      <td>0</td>\n",
       "      <td>Cinema Etoile Women's Square Neck Cami</td>\n",
       "      <td>Intimates</td>\n",
       "      <td>Women</td>\n",
       "      <td>category</td>\n",
       "      <td>Clothing Sets</td>\n",
       "      <td>1</td>\n",
       "      <td>0.001764</td>\n",
       "    </tr>\n",
       "    <tr>\n",
       "      <th>26</th>\n",
       "      <td>11634</td>\n",
       "      <td>[{'label': 1, 'prob': 0.001699632965028286}, {...</td>\n",
       "      <td>0</td>\n",
       "      <td>Cinema Etoile Women's Square Neck Cami</td>\n",
       "      <td>Intimates</td>\n",
       "      <td>Women</td>\n",
       "      <td>category</td>\n",
       "      <td>Suits</td>\n",
       "      <td>1</td>\n",
       "      <td>0.001700</td>\n",
       "    </tr>\n",
       "    <tr>\n",
       "      <th>27</th>\n",
       "      <td>11634</td>\n",
       "      <td>[{'label': 1, 'prob': 0.005926839541643858}, {...</td>\n",
       "      <td>0</td>\n",
       "      <td>Cinema Etoile Women's Square Neck Cami</td>\n",
       "      <td>Intimates</td>\n",
       "      <td>Women</td>\n",
       "      <td>category</td>\n",
       "      <td>Socks</td>\n",
       "      <td>1</td>\n",
       "      <td>0.005927</td>\n",
       "    </tr>\n",
       "  </tbody>\n",
       "</table>\n",
       "</div>"
      ],
      "text/plain": [
       "       id                              predicted_label_probs  label  \\\n",
       "0   11634  [{'label': 1, 'prob': 0.09856118261814117}, {'...      0   \n",
       "1   11634  [{'label': 1, 'prob': 0.014292235486209393}, {...      0   \n",
       "2   11634  [{'label': 1, 'prob': 0.042169298976659775}, {...      0   \n",
       "3   11634  [{'label': 1, 'prob': 0.02777058258652687}, {'...      0   \n",
       "4   11634  [{'label': 1, 'prob': 0.06264296919107437}, {'...      0   \n",
       "5   11634  [{'label': 1, 'prob': 0.10970967262983322}, {'...      0   \n",
       "6   11634  [{'label': 1, 'prob': 0.003362766932696104}, {...      0   \n",
       "7   11634  [{'label': 1, 'prob': 0.020120663568377495}, {...      0   \n",
       "8   11634  [{'label': 1, 'prob': 0.044033437967300415}, {...      0   \n",
       "9   11634  [{'label': 1, 'prob': 0.039312850683927536}, {...      0   \n",
       "10  11634  [{'label': 1, 'prob': 0.008593752048909664}, {...      0   \n",
       "11  11634  [{'label': 1, 'prob': 0.0017643278697505593}, ...      0   \n",
       "12  11634  [{'label': 1, 'prob': 0.026859544217586517}, {...      1   \n",
       "13  11634  [{'label': 1, 'prob': 0.016631869599223137}, {...      0   \n",
       "14  11634  [{'label': 1, 'prob': 0.005926839541643858}, {...      0   \n",
       "15  11634  [{'label': 1, 'prob': 0.06807883083820343}, {'...      0   \n",
       "16  11634  [{'label': 1, 'prob': 0.01657005213201046}, {'...      0   \n",
       "17  11634  [{'label': 1, 'prob': 0.03600963577628136}, {'...      0   \n",
       "18  11634  [{'label': 1, 'prob': 0.02076495625078678}, {'...      0   \n",
       "19  11634  [{'label': 1, 'prob': 0.007173960562795401}, {...      0   \n",
       "20  11634  [{'label': 1, 'prob': 0.051704514771699905}, {...      0   \n",
       "21  11634  [{'label': 1, 'prob': 0.07680191844701767}, {'...      0   \n",
       "22  11634  [{'label': 1, 'prob': 0.004483567550778389}, {...      0   \n",
       "23  11634  [{'label': 1, 'prob': 0.04800966754555702}, {'...      0   \n",
       "24  11634  [{'label': 1, 'prob': 0.9437806010246277}, {'l...      1   \n",
       "25  11634  [{'label': 1, 'prob': 0.0017643278697505593}, ...      0   \n",
       "26  11634  [{'label': 1, 'prob': 0.001699632965028286}, {...      0   \n",
       "27  11634  [{'label': 1, 'prob': 0.005926839541643858}, {...      0   \n",
       "\n",
       "                                      name   category department  \\\n",
       "0   Cinema Etoile Women's Square Neck Cami  Intimates      Women   \n",
       "1   Cinema Etoile Women's Square Neck Cami  Intimates      Women   \n",
       "2   Cinema Etoile Women's Square Neck Cami  Intimates      Women   \n",
       "3   Cinema Etoile Women's Square Neck Cami  Intimates      Women   \n",
       "4   Cinema Etoile Women's Square Neck Cami  Intimates      Women   \n",
       "5   Cinema Etoile Women's Square Neck Cami  Intimates      Women   \n",
       "6   Cinema Etoile Women's Square Neck Cami  Intimates      Women   \n",
       "7   Cinema Etoile Women's Square Neck Cami  Intimates      Women   \n",
       "8   Cinema Etoile Women's Square Neck Cami  Intimates      Women   \n",
       "9   Cinema Etoile Women's Square Neck Cami  Intimates      Women   \n",
       "10  Cinema Etoile Women's Square Neck Cami  Intimates      Women   \n",
       "11  Cinema Etoile Women's Square Neck Cami  Intimates      Women   \n",
       "12  Cinema Etoile Women's Square Neck Cami  Intimates      Women   \n",
       "13  Cinema Etoile Women's Square Neck Cami  Intimates      Women   \n",
       "14  Cinema Etoile Women's Square Neck Cami  Intimates      Women   \n",
       "15  Cinema Etoile Women's Square Neck Cami  Intimates      Women   \n",
       "16  Cinema Etoile Women's Square Neck Cami  Intimates      Women   \n",
       "17  Cinema Etoile Women's Square Neck Cami  Intimates      Women   \n",
       "18  Cinema Etoile Women's Square Neck Cami  Intimates      Women   \n",
       "19  Cinema Etoile Women's Square Neck Cami  Intimates      Women   \n",
       "20  Cinema Etoile Women's Square Neck Cami  Intimates      Women   \n",
       "21  Cinema Etoile Women's Square Neck Cami  Intimates      Women   \n",
       "22  Cinema Etoile Women's Square Neck Cami  Intimates      Women   \n",
       "23  Cinema Etoile Women's Square Neck Cami  Intimates      Women   \n",
       "24  Cinema Etoile Women's Square Neck Cami  Intimates      Women   \n",
       "25  Cinema Etoile Women's Square Neck Cami  Intimates      Women   \n",
       "26  Cinema Etoile Women's Square Neck Cami  Intimates      Women   \n",
       "27  Cinema Etoile Women's Square Neck Cami  Intimates      Women   \n",
       "\n",
       "   hierarchy_level                 hierarchy_node  label_1      prob  \n",
       "0         category                    Tops & Tees        1  0.098561  \n",
       "1         category                        Dresses        1  0.014292  \n",
       "2         category                           Swim        1  0.042169  \n",
       "3         category                      Underwear        1  0.027771  \n",
       "4         category                         Active        1  0.062643  \n",
       "5         category                       Sweaters        1  0.109710  \n",
       "6         category                       Leggings        1  0.003363  \n",
       "7         category                           Plus        1  0.020121  \n",
       "8         category                         Shorts        1  0.044033  \n",
       "9         category                 Sleep & Lounge        1  0.039313  \n",
       "10        category              Blazers & Jackets        1  0.008594  \n",
       "11        category            Jumpsuits & Rompers        1  0.001764  \n",
       "12        category                      Intimates        1  0.026860  \n",
       "13        category                          Pants        1  0.016632  \n",
       "14        category                Socks & Hosiery        1  0.005927  \n",
       "15      department                            Men        1  0.068079  \n",
       "16        category            Suits & Sport Coats        1  0.016570  \n",
       "17        category                          Jeans        1  0.036010  \n",
       "18        category                      Maternity        1  0.020765  \n",
       "19        category                 Pants & Capris        1  0.007174  \n",
       "20        category                    Accessories        1  0.051705  \n",
       "21        category              Outerwear & Coats        1  0.076802  \n",
       "22        category                         Skirts        1  0.004484  \n",
       "23        category  Fashion Hoodies & Sweatshirts        1  0.048010  \n",
       "24      department                          Women        1  0.943781  \n",
       "25        category                  Clothing Sets        1  0.001764  \n",
       "26        category                          Suits        1  0.001700  \n",
       "27        category                          Socks        1  0.005927  "
      ]
     },
     "execution_count": 77,
     "metadata": {},
     "output_type": "execute_result"
    }
   ],
   "source": [
    "pred = bq.query(query = query).to_dataframe()\n",
    "pred"
   ]
  },
  {
   "cell_type": "markdown",
   "id": "c211ce56-ed79-46de-8260-8ab1841b7ecd",
   "metadata": {},
   "source": [
    "**Note**\n",
    "\n",
    "For the seleted id value, what is the predicted placement in the hierarchy?\n",
    "\n",
    "This requires making inference down the structure of the hierarchy:\n",
    "- what is highest predicted probability for `department`?\n",
    "- what is highest predicted probability for `category` within the selected `department`?\n",
    "- Is the answer right or wrong?"
   ]
  },
  {
   "cell_type": "code",
   "execution_count": 90,
   "id": "6f67a8f8-6ddf-48a8-97cf-298b8deb9d1a",
   "metadata": {},
   "outputs": [
    {
     "data": {
      "text/html": [
       "<div>\n",
       "<style scoped>\n",
       "    .dataframe tbody tr th:only-of-type {\n",
       "        vertical-align: middle;\n",
       "    }\n",
       "\n",
       "    .dataframe tbody tr th {\n",
       "        vertical-align: top;\n",
       "    }\n",
       "\n",
       "    .dataframe thead th {\n",
       "        text-align: right;\n",
       "    }\n",
       "</style>\n",
       "<table border=\"1\" class=\"dataframe\">\n",
       "  <thead>\n",
       "    <tr style=\"text-align: right;\">\n",
       "      <th></th>\n",
       "      <th>id</th>\n",
       "      <th>name</th>\n",
       "      <th>category</th>\n",
       "      <th>department</th>\n",
       "      <th>pred_department</th>\n",
       "      <th>pred_department_prob</th>\n",
       "      <th>pred_category</th>\n",
       "      <th>pred_category_prob</th>\n",
       "    </tr>\n",
       "  </thead>\n",
       "  <tbody>\n",
       "    <tr>\n",
       "      <th>0</th>\n",
       "      <td>2933</td>\n",
       "      <td>Moving Comfort Women's 7.5-Inch Compression Short</td>\n",
       "      <td>Active</td>\n",
       "      <td>Women</td>\n",
       "      <td>Women</td>\n",
       "      <td>0.897995</td>\n",
       "      <td>Plus</td>\n",
       "      <td>0.985298</td>\n",
       "    </tr>\n",
       "    <tr>\n",
       "      <th>1</th>\n",
       "      <td>20360</td>\n",
       "      <td>FMF Stacked Full Zip Jacket - Black</td>\n",
       "      <td>Suits &amp; Sport Coats</td>\n",
       "      <td>Men</td>\n",
       "      <td>Men</td>\n",
       "      <td>0.895260</td>\n",
       "      <td>Swim</td>\n",
       "      <td>0.968642</td>\n",
       "    </tr>\n",
       "    <tr>\n",
       "      <th>2</th>\n",
       "      <td>12489</td>\n",
       "      <td>Laura High Quality Sexy Red Bra Thong SET #SL1...</td>\n",
       "      <td>Intimates</td>\n",
       "      <td>Women</td>\n",
       "      <td>Women</td>\n",
       "      <td>0.985298</td>\n",
       "      <td>Plus</td>\n",
       "      <td>0.985298</td>\n",
       "    </tr>\n",
       "    <tr>\n",
       "      <th>3</th>\n",
       "      <td>3027</td>\n",
       "      <td>Cuddl Duds Women's Long Sleeve V-Neck Flexifit...</td>\n",
       "      <td>Active</td>\n",
       "      <td>Women</td>\n",
       "      <td>Women</td>\n",
       "      <td>0.972547</td>\n",
       "      <td>Plus</td>\n",
       "      <td>0.985298</td>\n",
       "    </tr>\n",
       "    <tr>\n",
       "      <th>4</th>\n",
       "      <td>19900</td>\n",
       "      <td>GUESS Resort Sateen Blazer</td>\n",
       "      <td>Suits &amp; Sport Coats</td>\n",
       "      <td>Men</td>\n",
       "      <td>Men</td>\n",
       "      <td>0.679085</td>\n",
       "      <td>Swim</td>\n",
       "      <td>0.968642</td>\n",
       "    </tr>\n",
       "    <tr>\n",
       "      <th>5</th>\n",
       "      <td>19847</td>\n",
       "      <td>Men's Single Breasted Two Button Navy Blazer</td>\n",
       "      <td>Suits &amp; Sport Coats</td>\n",
       "      <td>Men</td>\n",
       "      <td>Men</td>\n",
       "      <td>0.929219</td>\n",
       "      <td>Swim</td>\n",
       "      <td>0.968642</td>\n",
       "    </tr>\n",
       "    <tr>\n",
       "      <th>6</th>\n",
       "      <td>20632</td>\n",
       "      <td>Wrangler Men's Cowboy Cut Original Fit Jean</td>\n",
       "      <td>Jeans</td>\n",
       "      <td>Men</td>\n",
       "      <td>Men</td>\n",
       "      <td>0.954558</td>\n",
       "      <td>Swim</td>\n",
       "      <td>0.968642</td>\n",
       "    </tr>\n",
       "    <tr>\n",
       "      <th>7</th>\n",
       "      <td>8566</td>\n",
       "      <td>Ed Hardy Womens Skull Roses Puffer Jacket -Gold</td>\n",
       "      <td>Outerwear &amp; Coats</td>\n",
       "      <td>Women</td>\n",
       "      <td>Women</td>\n",
       "      <td>0.945900</td>\n",
       "      <td>Plus</td>\n",
       "      <td>0.985298</td>\n",
       "    </tr>\n",
       "    <tr>\n",
       "      <th>8</th>\n",
       "      <td>12777</td>\n",
       "      <td>Womens MW Tankini Boyshorts Swimsuit Swimwear ...</td>\n",
       "      <td>Swim</td>\n",
       "      <td>Women</td>\n",
       "      <td>Women</td>\n",
       "      <td>0.960058</td>\n",
       "      <td>Plus</td>\n",
       "      <td>0.985298</td>\n",
       "    </tr>\n",
       "    <tr>\n",
       "      <th>9</th>\n",
       "      <td>28659</td>\n",
       "      <td>Men's Leather Driving Gloves with Velcro Strap...</td>\n",
       "      <td>Accessories</td>\n",
       "      <td>Men</td>\n",
       "      <td>Men</td>\n",
       "      <td>0.968642</td>\n",
       "      <td>Swim</td>\n",
       "      <td>0.968642</td>\n",
       "    </tr>\n",
       "  </tbody>\n",
       "</table>\n",
       "</div>"
      ],
      "text/plain": [
       "      id                                               name  \\\n",
       "0   2933  Moving Comfort Women's 7.5-Inch Compression Short   \n",
       "1  20360                FMF Stacked Full Zip Jacket - Black   \n",
       "2  12489  Laura High Quality Sexy Red Bra Thong SET #SL1...   \n",
       "3   3027  Cuddl Duds Women's Long Sleeve V-Neck Flexifit...   \n",
       "4  19900                         GUESS Resort Sateen Blazer   \n",
       "5  19847       Men's Single Breasted Two Button Navy Blazer   \n",
       "6  20632        Wrangler Men's Cowboy Cut Original Fit Jean   \n",
       "7   8566    Ed Hardy Womens Skull Roses Puffer Jacket -Gold   \n",
       "8  12777  Womens MW Tankini Boyshorts Swimsuit Swimwear ...   \n",
       "9  28659  Men's Leather Driving Gloves with Velcro Strap...   \n",
       "\n",
       "              category department pred_department  pred_department_prob  \\\n",
       "0               Active      Women           Women              0.897995   \n",
       "1  Suits & Sport Coats        Men             Men              0.895260   \n",
       "2            Intimates      Women           Women              0.985298   \n",
       "3               Active      Women           Women              0.972547   \n",
       "4  Suits & Sport Coats        Men             Men              0.679085   \n",
       "5  Suits & Sport Coats        Men             Men              0.929219   \n",
       "6                Jeans        Men             Men              0.954558   \n",
       "7    Outerwear & Coats      Women           Women              0.945900   \n",
       "8                 Swim      Women           Women              0.960058   \n",
       "9          Accessories        Men             Men              0.968642   \n",
       "\n",
       "  pred_category  pred_category_prob  \n",
       "0          Plus            0.985298  \n",
       "1          Swim            0.968642  \n",
       "2          Plus            0.985298  \n",
       "3          Plus            0.985298  \n",
       "4          Swim            0.968642  \n",
       "5          Swim            0.968642  \n",
       "6          Swim            0.968642  \n",
       "7          Plus            0.985298  \n",
       "8          Plus            0.985298  \n",
       "9          Swim            0.968642  "
      ]
     },
     "execution_count": 90,
     "metadata": {},
     "output_type": "execute_result"
    }
   ],
   "source": [
    "query = f\"\"\"\n",
    "WITH\n",
    "probs AS (\n",
    "    SELECT *\n",
    "    FROM (\n",
    "        SELECT id, predicted_label_probs, label, name, category, department, hierarchy_level, hierarchy_node\n",
    "        FROM ML.PREDICT (\n",
    "            MODEL `{BQ_PROJECT}.{BQ_DATASET}.{BQ_TABLE}_classifier`,\n",
    "            (\n",
    "                WITH limiter AS (SELECT id FROM `{BQ_PROJECT}.{BQ_DATASET}.{BQ_TABLE}_test_input` LIMIT 10)\n",
    "                SELECT *\n",
    "                FROM limiter\n",
    "                LEFT OUTER JOIN `{BQ_PROJECT}.{BQ_DATASET}.{BQ_TABLE}_test_input`\n",
    "                USING(id)\n",
    "            )\n",
    "        )\n",
    "    ) p\n",
    "    CROSS JOIN UNNEST(p.predicted_label_probs) as probs\n",
    "    WHERE probs.label = 1\n",
    "),\n",
    "department AS (\n",
    "    SELECT id, name, category, department, hierarchy_node as pred_department, prob as pred_department_prob\n",
    "    FROM probs\n",
    "    WHERE hierarchy_level = 'department'\n",
    "    QUALIFY row_number() OVER (PARTITION BY id ORDER by prob DESC) = 1\n",
    "),\n",
    "category AS (\n",
    "    SELECT c.*, probs.prob as pred_category_prob\n",
    "    FROM (\n",
    "        SELECT department.*, cl.pred_category\n",
    "        FROM department\n",
    "        LEFT JOIN (SELECT DISTINCT department, category as pred_category FROM `bigquery-public-data.thelook_ecommerce.products`) cl\n",
    "        ON department.pred_department = cl.department\n",
    "    ) c\n",
    "    LEFT OUTER JOIN probs\n",
    "    ON c.pred_department = probs.hierarchy_node\n",
    "    QUALIFY row_number() OVER (PARTITION BY id ORDER by prob DESC) = 1\n",
    ")\n",
    "\n",
    "SELECT *\n",
    "FROM category\n",
    "\"\"\"\n",
    "pred = bq.query(query = query).to_dataframe()\n",
    "pred"
   ]
  },
  {
   "cell_type": "code",
   "execution_count": null,
   "id": "7468f250-96bf-4dca-b8c2-32e5472b014c",
   "metadata": {},
   "outputs": [],
   "source": []
  },
  {
   "cell_type": "code",
   "execution_count": null,
   "id": "1358bc49-5606-45c5-9e38-61304cb5dd43",
   "metadata": {},
   "outputs": [],
   "source": []
  },
  {
   "cell_type": "code",
   "execution_count": null,
   "id": "d714db74-6c08-4f25-9121-ace32404478e",
   "metadata": {},
   "outputs": [],
   "source": []
  },
  {
   "cell_type": "code",
   "execution_count": null,
   "id": "33b8bcba-bf51-4a88-ab57-58f9bf15e0bb",
   "metadata": {},
   "outputs": [],
   "source": []
  },
  {
   "cell_type": "code",
   "execution_count": null,
   "id": "a5a6a2e9-3ca7-448b-ad0d-b92199da33a3",
   "metadata": {},
   "outputs": [],
   "source": []
  },
  {
   "cell_type": "code",
   "execution_count": 151,
   "id": "6c055186-2409-4140-98b5-4b09bda5825f",
   "metadata": {},
   "outputs": [],
   "source": [
    "bq_connection.ConnectionServiceClient().delete_connection(name = f\"projects/{BQ_PROJECT}/locations/{BQ_REGION}/connections/{SERIES}_{EXPERIMENT}\")"
   ]
  },
  {
   "cell_type": "code",
   "execution_count": null,
   "id": "945a79f2-87a0-4a2f-a4ab-c4bd09d127b9",
   "metadata": {},
   "outputs": [],
   "source": []
  }
 ],
 "metadata": {
  "environment": {
   "kernel": "python3",
   "name": "tf2-gpu.2-12.m110",
   "type": "gcloud",
   "uri": "gcr.io/deeplearning-platform-release/tf2-gpu.2-12:m110"
  },
  "kernelspec": {
   "display_name": "Python 3",
   "language": "python",
   "name": "python3"
  },
  "language_info": {
   "codemirror_mode": {
    "name": "ipython",
    "version": 3
   },
   "file_extension": ".py",
   "mimetype": "text/x-python",
   "name": "python",
   "nbconvert_exporter": "python",
   "pygments_lexer": "ipython3",
   "version": "3.10.12"
  }
 },
 "nbformat": 4,
 "nbformat_minor": 5
}
