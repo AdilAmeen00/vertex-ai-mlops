{
 "cells": [
  {
   "cell_type": "markdown",
   "id": "cbd37225-4559-4c52-8b68-33f4bc7bbaa3",
   "metadata": {},
   "source": [
    "![ga4](https://www.google-analytics.com/collect?v=2&tid=G-6VDTYWLKX6&cid=1&en=page_view&sid=1&dl=statmike%2Fvertex-ai-mlops%2FApplied+GenAI%2FVertex+AI+Search&dt=Vertex+AI+Search+Document+Q%26A+Using+Extractive+Segments+-+MLB+Rules+For+Baseball.ipynb)\n",
    "\n",
    "# UmpireBot - MLB Rules For Baseball\n",
    "\n",
    "Based on [Vertex AI Search](https://cloud.google.com/enterprise-search) (Formerly: Generative AI App Builder Enterprise Search).\n",
    "\n",
    "**What?**\n",
    "\n",
    "Ask questions of the rules for MLB and get answers with specific references to official rules.\n",
    "\n",
    "**Sources:**\n",
    "\n",
    "The official MLB rules are at the links below:\n",
    "- [MLB 2022 Rule Book](https://img.mlbstatic.com/mlb-images/image/upload/mlb/hhvryxqioipb87os1puw.pdf)\n",
    "- [MLB 2023 Rule Book](https://img.mlbstatic.com/mlb-images/image/upload/mlb/wqn5ah4c3qtivwx3jatm.pdf)\n",
    "\n",
    "**Tools:**\n",
    "- Vertex AI Search\n",
    "  - This [link](https://cloud.google.com/generative-ai-app-builder/docs/create-data-store-es#cloud-storage) will provide the steps to create a datastore using unstructured data(pdf is used in this example) which will be stored in Cloud Storage.\n",
    "  - Vertex AI Search Setup for this workflow can be found [here](./vertex_search_setup.md)\n",
    "  - Vertex AI Search Client\n",
    "      - [Python Client for Discovery Engine API](https://cloud.google.com/python/docs/reference/discoveryengine/latest)\n",
    "- Vertex AI GenAI Language Model API\n",
    "  - Vertex AI Client\n",
    "      - [Vertex AI SDK for Python](https://cloud.google.com/python/docs/reference/aiplatform/latest)\n",
    "  - `vertexai.language_models.TextGenerationModel.from_pretrained('text-bison@latest')`\n",
    "\n",
    "---\n",
    "\n",
    "**Google Cloud Vertex AI Generative AI Support**\n",
    "\n",
    "Vertex AI Generative AI gives access to Google's large genearative AI models and also enables you to test, tune, and deploy them for your applications. Get an overview [here](https://cloud.google.com/vertex-ai/docs/generative-ai/learn/overview).\n",
    "\n",
    "---\n",
    "\n",
    "**How:**\n",
    "\n",
    "- Vertex AI Search creates three components: Apps, Engines and Datastores\n",
    "  - More information about App and Datastore can be found [here](https://cloud.google.com/generative-ai-app-builder/docs/create-datastore-ingest)\n",
    "      - Datastores from web sites, BigQuery Tables, GCS Buckets, and much more!\n",
    "- Ask a question\n",
    "  - Query the datastore using the Python Client API\n",
    "  - API will search the datastore for related information in the documents using vector similarity\n",
    "  - Retrieve the content associated from Datastore\n",
    "  - Prepare a prompt to answer the question using the retrieved search results as context\n",
    "- Present the response as an answer with links to the related documents (sections of the document(s)).\n",
    "\n",
    "**What is Unique?**\n",
    "\n",
    "An LLM is likely unexposed to a users private content.  This appoach constructs a summarization prompt for an LLM by first retriving context for the question from the users documents using Vertex AI Search datastores as the source.  This also allows the response to be accompanied by direct reference to the users documentation used in the prompt.\n",
    "\n",
    "**Notes**\n",
    "\n",
    "- An LLM is likely trained on many sources that probably include lots of general knowledge, even information like what is used here.  It is also likely knowledgable of past outdated information which can be a benefit - or detriment - to accuracy.  This approach directly uses the version of the document that currently applies.\n",
    "\n",
    "**Prerequisites**\n",
    "\n",
    "This notebook uses Vertex AI and Vertex AI Search (Generative AI App Builder) for processing data while also using Google Cloud Storage for data storage and retrieval.  If you are running this notebook from Colab or another environment where your user id is authenticated then your account will need roles/permissions that allow working with these services.  If you are running this from a Vertex AI Workbench Notebook instance then it is running as a service account which will need the roles/permission that allow working with these services.\n",
    "\n",
    "This notebook requires an App and Data Store created with the PDF downloaded from MLB website mentioned above.\n",
    "- Vertex AI Search Setup for this workflow can be found [here](./vertex_search_setup.md)\n",
    "\n",
    "\n",
    "**References**\n",
    "\n",
    "- [Vertex AI GenAI Studio](https://cloud.google.com/vertex-ai/docs/generative-ai/learn/overview)\n",
    "    - Vertex AI [Python Client](https://cloud.google.com/python/docs/reference/aiplatform/latest)\n",
    "- Vertex AI Search [Python Client](https://cloud.google.com/generative-ai-app-builder/docs/preview-search-results?_ga=2.154471792.-952990647.1684293017)\n",
    "   "
   ]
  },
  {
   "cell_type": "markdown",
   "id": "bf70bf13-b144-42cb-a9cd-6d387a18c9a9",
   "metadata": {
    "id": "od_UkDpvRmgD"
   },
   "source": [
    "---\n",
    "## Colab Setup\n",
    "\n",
    "To run this notebook in Colab click [![Open In Colab](https://colab.research.google.com/assets/colab-badge.svg)](https://colab.research.google.com/github/statmike/vertex-ai-mlops/blob/main/Applied%20GenAI/Vertex%20AI%20Search/Vertex%20AI%20Search%20Document%20Q%26A%20Using%20Extractive%20Segments%20-%20MLB%20Rules%20For%20Baseball.ipynb) and run the cells in this section.  Otherwise, skip this section.\n",
    "\n",
    "This cell will authenticate to GCP (follow prompts in the popup)."
   ]
  },
  {
   "cell_type": "code",
   "execution_count": 1,
   "id": "0d9c8b98-2da2-4ae6-b4ac-0cb2a0b9008a",
   "metadata": {
    "executionInfo": {
     "elapsed": 195,
     "status": "ok",
     "timestamp": 1683726184843,
     "user": {
      "displayName": "Mike Henderson",
      "userId": "07691629187611687318"
     },
     "user_tz": 240
    },
    "id": "8UO9FnqyKBlF"
   },
   "outputs": [],
   "source": [
    "PROJECT_ID = 'statmike-mlops-349915' # replace with project ID"
   ]
  },
  {
   "cell_type": "code",
   "execution_count": 2,
   "id": "1216e6a0-5d6c-47cb-acda-a95c95a8257d",
   "metadata": {
    "colab": {
     "base_uri": "https://localhost:8080/"
    },
    "executionInfo": {
     "elapsed": 68869,
     "status": "ok",
     "timestamp": 1683726253709,
     "user": {
      "displayName": "Mike Henderson",
      "userId": "07691629187611687318"
     },
     "user_tz": 240
    },
    "id": "N98-KK7LRkjm",
    "outputId": "09ec5008-0def-4e1a-c349-c598ee752f78"
   },
   "outputs": [],
   "source": [
    "try:\n",
    "    import google.colab\n",
    "    from google.colab import auth\n",
    "    auth.authenticate_user()\n",
    "    !gcloud config set project {PROJECT_ID}\n",
    "except Exception:\n",
    "    pass"
   ]
  },
  {
   "cell_type": "markdown",
   "id": "5cbfbef2-283f-409c-9480-4d4496f963ce",
   "metadata": {},
   "source": [
    "---\n",
    "## Installs and API Enablement\n",
    "\n",
    "The clients packages may need installing in this environment. "
   ]
  },
  {
   "cell_type": "markdown",
   "id": "f61f6540-8c3d-41e3-972c-4614d886ba8b",
   "metadata": {},
   "source": [
    "### Installs (If Needed)"
   ]
  },
  {
   "cell_type": "code",
   "execution_count": 3,
   "id": "f2e42936-2798-406c-bf27-0e7ddd02f3e6",
   "metadata": {},
   "outputs": [],
   "source": [
    "# tuples of (import name, install name)\n",
    "packages = [\n",
    "    ('google.cloud.aiplatform', 'google-cloud-aiplatform'),\n",
    "    ('google.cloud.discoveryengine', 'google-cloud-discoveryengine')\n",
    "]\n",
    "\n",
    "import importlib\n",
    "install = False\n",
    "for package in packages:\n",
    "    if not importlib.util.find_spec(package[0]):\n",
    "        print(f'installing package {package[1]}')\n",
    "        install = True\n",
    "        !pip install {package[1]} -U -q --user"
   ]
  },
  {
   "cell_type": "markdown",
   "id": "9c3ef854-e293-4826-ba9e-061e63ad6330",
   "metadata": {},
   "source": [
    "### API Enablement"
   ]
  },
  {
   "cell_type": "code",
   "execution_count": 4,
   "id": "7519a238-1b98-4159-9f0d-2bf07b5442af",
   "metadata": {},
   "outputs": [],
   "source": [
    "!gcloud services enable aiplatform.googleapis.com"
   ]
  },
  {
   "cell_type": "markdown",
   "id": "47daacb0-46b4-437d-a76b-f37e25ae7fba",
   "metadata": {},
   "source": [
    "### Restart Kernel (If Installs Occured)\n",
    "\n",
    "After a kernel restart the code submission can start with the next cell after this one."
   ]
  },
  {
   "cell_type": "code",
   "execution_count": 5,
   "id": "20317559-1742-45fd-855e-c2eec47117b1",
   "metadata": {},
   "outputs": [],
   "source": [
    "if install:\n",
    "    import IPython\n",
    "    app = IPython.Application.instance()\n",
    "    app.kernel.do_shutdown(True)"
   ]
  },
  {
   "cell_type": "markdown",
   "id": "d793de9c-88c7-4204-bb73-0709dbf7413d",
   "metadata": {
    "id": "appt8-yVRtJ1"
   },
   "source": [
    "---\n",
    "## Setup"
   ]
  },
  {
   "cell_type": "markdown",
   "id": "af9e7a25",
   "metadata": {},
   "source": [
    "Inputs"
   ]
  },
  {
   "cell_type": "code",
   "execution_count": 6,
   "id": "11643bde-f245-4927-86d1-497147ecebd3",
   "metadata": {},
   "outputs": [
    {
     "data": {
      "text/plain": [
       "'statmike-mlops-349915'"
      ]
     },
     "execution_count": 6,
     "metadata": {},
     "output_type": "execute_result"
    }
   ],
   "source": [
    "project = !gcloud config get-value project\n",
    "PROJECT_ID = project[0]\n",
    "PROJECT_ID"
   ]
  },
  {
   "cell_type": "code",
   "execution_count": 7,
   "id": "6232c231-ef3f-4166-93e5-7a31480423a6",
   "metadata": {},
   "outputs": [],
   "source": [
    "REGION = 'us-central1'\n",
    "SERIES = 'applied-genai-vertex-ai-search'\n",
    "EXPERIMENT = 'mlb-rules'\n",
    "\n",
    "# VERTEX SEARCH PARAMETERS\n",
    "VS_LOCATION = 'global'\n",
    "VS_DATASTORE_ID = 'sports_1699306284060'"
   ]
  },
  {
   "cell_type": "markdown",
   "id": "5f5cc8b1",
   "metadata": {},
   "source": [
    "Packages"
   ]
  },
  {
   "cell_type": "code",
   "execution_count": 8,
   "id": "ccb48f1c-cb2c-4d94-bc31-fa1a91e15a88",
   "metadata": {},
   "outputs": [
    {
     "name": "stderr",
     "output_type": "stream",
     "text": [
      "2023-11-07 16:57:31.867108: I tensorflow/core/platform/cpu_feature_guard.cc:182] This TensorFlow binary is optimized to use available CPU instructions in performance-critical operations.\n",
      "To enable the following instructions: AVX2 FMA, in other operations, rebuild TensorFlow with the appropriate compiler flags.\n"
     ]
    }
   ],
   "source": [
    "import IPython\n",
    "\n",
    "import vertexai.language_models\n",
    "from google.cloud import aiplatform\n",
    "import google.cloud.discoveryengine_v1 as discoveryengine\n",
    "import google.cloud.discoveryengine_v1alpha as discoveryengine_alpha"
   ]
  },
  {
   "cell_type": "markdown",
   "id": "4cedd274-6702-4f18-ab10-fe133d487768",
   "metadata": {},
   "source": [
    "Clients"
   ]
  },
  {
   "cell_type": "code",
   "execution_count": 9,
   "id": "b5a46ac5-d48e-47c6-b427-7017b2dfe54c",
   "metadata": {},
   "outputs": [],
   "source": [
    "# vertex ai clients\n",
    "vertexai.init(project = PROJECT_ID, location = REGION)\n",
    "aiplatform.init(project = PROJECT_ID, location = REGION)\n",
    "\n",
    "# vertex search clients\n",
    "vertex_search = discoveryengine.SearchServiceClient(\n",
    "    client_options = dict(api_endpoint = (f'{VS_LOCATION}-' if VS_LOCATION != 'global' else '') + 'discoveryengine.googleapis.com')\n",
    ")\n",
    "vertex_search_alpha = discoveryengine_alpha.SearchServiceClient(\n",
    "    client_options = dict(api_endpoint = (f'{VS_LOCATION}-' if VS_LOCATION != 'global' else '') + 'discoveryengine.googleapis.com')\n",
    ")"
   ]
  },
  {
   "cell_type": "markdown",
   "id": "468962a9-4c25-4ed9-ac51-7a3c1c3d78a4",
   "metadata": {},
   "source": [
    "## Using Vertex AI Search \n",
    "\n",
    "The client for Vertex AI Search can be used to extract a number of helpful items for use with an LLM as context.\n",
    "\n",
    "Documentation Links:\n",
    "- [Search Results](https://cloud.google.com/generative-ai-app-builder/docs/preview-search-results)\n",
    "- [Snippets](https://cloud.google.com/generative-ai-app-builder/docs/snippets#snippets)\n",
    "- [Extractive Answers](https://cloud.google.com/generative-ai-app-builder/docs/snippets#extractive-answers)\n",
    "- [Extractive Segments](https://cloud.google.com/generative-ai-app-builder/docs/snippets#extractive-segments)\n",
    "- [Search Summaries](https://cloud.google.com/generative-ai-app-builder/docs/get-search-summaries)\n",
    "\n",
    "API Reference (Python):\n",
    "- [discoveryengine.SearchServiceClient()](https://cloud.google.com/python/docs/reference/discoveryengine/latest/google.cloud.discoveryengine_v1.services.search_service.SearchServiceClient#google_cloud_discoveryengine_v1_services_search_service_SearchServiceClient_search)\n",
    "    - [.search()](https://cloud.google.com/python/docs/reference/discoveryengine/latest/google.cloud.discoveryengine_v1.services.search_service.SearchServiceClient#google_cloud_discoveryengine_v1_services_search_service_SearchServiceClient_search)\n",
    "        - request = [discoveryengine.types.SearchRequest()](https://cloud.google.com/python/docs/reference/discoveryengine/latest/google.cloud.discoveryengine_v1.types.SearchRequest)\n",
    "            - `page_size` = number of documents to return\n",
    "            - `serving_config` = [discoveryengine.search_service.SearchServiceClient.serving_config_path](https://cloud.google.com/python/docs/reference/discoveryengine/latest/google.cloud.discoveryengine_v1.services.search_service.SearchServiceClient#google_cloud_discoveryengine_v1_services_search_service_SearchServiceClient_serving_config_path)\n",
    "            - content_search_spec = [discoveryengine.types.SearchRequest.ContentSearchSpec()](https://cloud.google.com/python/docs/reference/discoveryengine/latest/google.cloud.discoveryengine_v1.types.SearchRequest.ContentSearchSpec)\n",
    "                - `snippet_spec` = [discoveryengine.SearchRequest.ContentSearchSpec.SnippetSpec()](https://cloud.google.com/python/docs/reference/discoveryengine/latest/google.cloud.discoveryengine_v1.types.SearchRequest.ContentSearchSpec.SnippetSpec)\n",
    "                    - if not specified, then snippets are not included in search response\n",
    "                    - `return_snippet` = True\n",
    "                - `summary_spec` = [discoveryengine.SearchRequest.ContentSearchSpec.SummarySpec()](https://cloud.google.com/python/docs/reference/discoveryengine/latest/google.cloud.discoveryengine_v1.types.SearchRequest.ContentSearchSpec.SummarySpec)\n",
    "                    - if not specified, then summaries are not included in search response\n",
    "                    - `summery_result_count` = the number of results to generate the summary from - max is 5\n",
    "                    - `include_citations` = True/False, to include in-line citation numbers\n",
    "                    - `ignore_adversarial_query` = True/False, to ignore/skip adversarial queries\n",
    "                    - `ignore_non_summary_seeking_query` = True/False, to ignore fact seeking queries like \"help desk phone number\"\n",
    "            - query_expansition_spec = [discoveryengine.types.SearchRequest.QueryExpansionSpec.Condition.](https://cloud.google.com/python/docs/reference/discoveryengine/latest/google.cloud.discoveryengine_v1.types.SearchRequest.QueryExpansionSpec)\n",
    "                - configure expansion of query:\n",
    "                    - `.CONDITION_UNSPECIFIED` defaults to `.DISABLED`\n",
    "                    - `.DISABLED` only the exact search is used even if no response if generated\n",
    "                    - `.AUTO` automatic expansion of the query by the Search API\n",
    "            - spell_correction_spec = [discoveryengine.types.SearchRequest.SpellCorrectionSpec.Mode.](https://cloud.google.com/python/docs/reference/discoveryengine/latest/google.cloud.discoveryengine_v1.types.SearchRequest.SpellCorrectionSpec)\n",
    "                - spelling correction mode:\n",
    "                    - `.MODE_UNSPECIFIED` defaults to `.AUTO`\n",
    "                    - `.SUGGESTION_ONLY` - returns a corrected query suggestion but does not use it for search\n",
    "                    - `.AUTO` - uses correct query suggestion for search\n",
    "            - much more!\n",
    "- Responses From `.search()` are of the form [discoveryengine.search_service.pagers.SearchPager()](https://cloud.google.com/python/docs/reference/discoveryengine/latest/google.cloud.discoveryengine_v1.services.search_service.pagers.SearchPager)\n",
    "    - Which contains `.results` object that is an iterable set of [discoveryengine.search_service.SearchResponse.SearchResult()](https://cloud.google.com/python/docs/reference/discoveryengine/latest/google.cloud.discoveryengine_v1.types.SearchResponse.SearchResult)\n",
    "        - has attribute `document` of type [discoveryengine.types.Document](https://cloud.google.com/python/docs/reference/discoveryengine/latest/google.cloud.discoveryengine_v1.types.Document)\n",
    "            - for a data store of document in GCS these attributes are helpful:\n",
    "                - `derived_struct_data`"
   ]
  },
  {
   "cell_type": "code",
   "execution_count": 116,
   "id": "f9f01a61-e9a0-41da-b5b8-6fb00080d92f",
   "metadata": {},
   "outputs": [],
   "source": [
    "question = \"What is the size of a base?\""
   ]
  },
  {
   "cell_type": "markdown",
   "id": "598a7a08-483e-44fa-b838-866d1a0bd894",
   "metadata": {},
   "source": [
    "Setup the `serving_config`:\n",
    "- [discoveryengine.search_service.SearchServiceClient.serving_config_path](https://cloud.google.com/python/docs/reference/discoveryengine/latest/google.cloud.discoveryengine_v1.services.search_service.SearchServiceClient#google_cloud_discoveryengine_v1_services_search_service_SearchServiceClient_serving_config_path)"
   ]
  },
  {
   "cell_type": "code",
   "execution_count": 117,
   "id": "5d803f21-ccfb-4b81-9d77-a8369a2ff6e5",
   "metadata": {},
   "outputs": [],
   "source": [
    "serving_config = vertex_search.serving_config_path(\n",
    "    project = PROJECT_ID,\n",
    "    location = VS_LOCATION,\n",
    "    data_store = VS_DATASTORE_ID,\n",
    "    serving_config = 'default_config'\n",
    ")"
   ]
  },
  {
   "cell_type": "markdown",
   "id": "b738e7d2-c9f1-4123-8203-1fe5b9fca088",
   "metadata": {},
   "source": [
    "### Search Results\n",
    "\n",
    "Documentation [Search Results](https://cloud.google.com/generative-ai-app-builder/docs/preview-search-results)"
   ]
  },
  {
   "cell_type": "code",
   "execution_count": 118,
   "id": "5e92cb27-c788-4748-897a-e1205a927106",
   "metadata": {},
   "outputs": [],
   "source": [
    "response = vertex_search.search(\n",
    "    request = discoveryengine.SearchRequest(\n",
    "        query = question,\n",
    "        page_size = 10,\n",
    "        serving_config = serving_config,\n",
    "        content_search_spec = discoveryengine.SearchRequest.ContentSearchSpec(\n",
    "            snippet_spec = discoveryengine.SearchRequest.ContentSearchSpec.SnippetSpec(\n",
    "                return_snippet = False\n",
    "            ),\n",
    "            summary_spec = discoveryengine.SearchRequest.ContentSearchSpec.SummarySpec(\n",
    "                summary_result_count = 5,\n",
    "                include_citations = True,\n",
    "                ignore_adversarial_query = True,\n",
    "                ignore_non_summary_seeking_query = False\n",
    "            )\n",
    "        ),\n",
    "        query_expansion_spec = discoveryengine.SearchRequest.QueryExpansionSpec(\n",
    "            condition = discoveryengine.SearchRequest.QueryExpansionSpec.Condition.AUTO\n",
    "        ),\n",
    "        spell_correction_spec = discoveryengine.SearchRequest.SpellCorrectionSpec(\n",
    "            mode = discoveryengine.SearchRequest.SpellCorrectionSpec.Mode.AUTO\n",
    "        )\n",
    "    )\n",
    ")"
   ]
  },
  {
   "cell_type": "code",
   "execution_count": 119,
   "id": "8d3f88f8-9572-480f-8f0e-f8aa56a4009c",
   "metadata": {},
   "outputs": [
    {
     "name": "stdout",
     "output_type": "stream",
     "text": [
      "Source Document 1:\n",
      "\tName: mlb_2022_rules\n",
      "\tLink: gs://statmike-mlops-349915/applied-genai/vertex-ai-search/mlb_2022_rules.pdf\n",
      "\n",
      "\n",
      "Source Document 2:\n",
      "\tName: mlb_2023_rules\n",
      "\tLink: gs://statmike-mlops-349915/applied-genai/vertex-ai-search/mlb_2023_rules.pdf\n"
     ]
    }
   ],
   "source": [
    "text = ''\n",
    "for r, result in enumerate(response.results):\n",
    "    if r > 0: text += '\\n\\n\\n'\n",
    "    doc = dict(result.document.derived_struct_data)\n",
    "    text += f\"Source Document {r+1}:\\n\\tName: {doc['title']}\\n\\tLink: {doc['link']}\"\n",
    "print(text)\n",
    "search_results = text"
   ]
  },
  {
   "cell_type": "markdown",
   "id": "949405e7-72f4-4b8b-9070-785e4898d911",
   "metadata": {},
   "source": [
    "### Snippets\n",
    "\n",
    "[Snippets](https://cloud.google.com/generative-ai-app-builder/docs/snippets#snippets)"
   ]
  },
  {
   "cell_type": "code",
   "execution_count": 120,
   "id": "c4f983b3-dd20-4c2e-9cf0-37361f061c06",
   "metadata": {},
   "outputs": [],
   "source": [
    "response = vertex_search.search(\n",
    "    request = discoveryengine.SearchRequest(\n",
    "        query = question,\n",
    "        page_size = 10,\n",
    "        serving_config = serving_config,\n",
    "        content_search_spec = discoveryengine.SearchRequest.ContentSearchSpec(\n",
    "            snippet_spec = discoveryengine.SearchRequest.ContentSearchSpec.SnippetSpec(\n",
    "                return_snippet = True\n",
    "            ),\n",
    "            summary_spec = discoveryengine.SearchRequest.ContentSearchSpec.SummarySpec(\n",
    "                summary_result_count = 5,\n",
    "                include_citations = True,\n",
    "                ignore_adversarial_query = True,\n",
    "                ignore_non_summary_seeking_query = False\n",
    "            )\n",
    "        ),\n",
    "        query_expansion_spec = discoveryengine.SearchRequest.QueryExpansionSpec(\n",
    "            condition = discoveryengine.SearchRequest.QueryExpansionSpec.Condition.AUTO\n",
    "        ),\n",
    "        spell_correction_spec = discoveryengine.SearchRequest.SpellCorrectionSpec(\n",
    "            mode = discoveryengine.SearchRequest.SpellCorrectionSpec.Mode.AUTO\n",
    "        )\n",
    "    )\n",
    ")"
   ]
  },
  {
   "cell_type": "code",
   "execution_count": 121,
   "id": "8adafd25-24c7-4211-bbc8-32df30e2d8d6",
   "metadata": {},
   "outputs": [
    {
     "name": "stdout",
     "output_type": "stream",
     "text": [
      "Source Document 1:\n",
      "\tName: mlb_2022_rules\n",
      "\tLink: gs://statmike-mlops-349915/applied-genai/vertex-ai-search/mlb_2022_rules.pdf\n",
      "\tSnippet 1: ... <b>size</b> and shape of the grassed and bare areas of its playing field. NOTE: (a) ... The second <b>base</b> bag shall be centered on second <b>base</b>. The bags shall be 15&nbsp;...\n",
      "\n",
      "\n",
      "Source Document 2:\n",
      "\tName: mlb_2023_rules\n",
      "\tLink: gs://statmike-mlops-349915/applied-genai/vertex-ai-search/mlb_2023_rules.pdf\n",
      "\tSnippet 1: It is recommended that the distance from home <b>base</b> to the backstop, and from the <b>base</b> lines to the nearest fence, stand or other obstruction on foul territory&nbsp;...\n"
     ]
    }
   ],
   "source": [
    "text = ''\n",
    "for r, result in enumerate(response.results):\n",
    "    if r > 0: text += '\\n\\n\\n'\n",
    "    doc = dict(result.document.derived_struct_data)\n",
    "    text += f\"Source Document {r+1}:\\n\\tName: {doc['title']}\\n\\tLink: {doc['link']}\"\n",
    "    if 'snippets' in doc.keys():\n",
    "        for s, snippet in enumerate(doc['snippets']):\n",
    "            if snippet['snippet_status'] == 'SUCCESS':\n",
    "                text += f\"\\n\\tSnippet {s+1}: {snippet['snippet']}\"\n",
    "print(text)\n",
    "snippets_results = text"
   ]
  },
  {
   "cell_type": "code",
   "execution_count": 122,
   "id": "07228954-6a93-4a08-a7d2-40450fc96bac",
   "metadata": {},
   "outputs": [
    {
     "data": {
      "text/plain": [
       "summary_text: \"In Major League Baseball, home base is a five-sided slab of whitened rubber that is 17 inches square [1, 2]. Two of the corners are removed so that one edge is 17 inches long, two adjacent sides are 8\\302\\275 inches, and the remaining two sides are 12 inches [1, 2].\""
      ]
     },
     "execution_count": 122,
     "metadata": {},
     "output_type": "execute_result"
    }
   ],
   "source": [
    "response.summary"
   ]
  },
  {
   "cell_type": "markdown",
   "id": "ce03b816-65fa-4d13-8ddc-17e1cf93f5e1",
   "metadata": {},
   "source": [
    "### Extractive Answers\n",
    "\n",
    "Sections of text derived verbatim from documents in the search result.  Answers are shorter than segments (next section).\n",
    "\n",
    "[Extractive Answers](https://cloud.google.com/generative-ai-app-builder/docs/snippets#extractive-answers)\n",
    "\n",
    "For now, Nov 2023, this feature using the [discoveryengine_v1alpha](https://cloud.google.com/python/docs/reference/discoveryengine/latest/google.cloud.discoveryengine_v1alpha.services.search_service.SearchServiceClient) client in order to get the `extractive_content_spec` attribute for the [discoveryengine_v1alpha1.types.SearchRequest.ContentSearchSpec()](https://cloud.google.com/python/docs/reference/discoveryengine/latest/google.cloud.discoveryengine_v1alpha.types.SearchRequest.ContentSearchSpec)."
   ]
  },
  {
   "cell_type": "code",
   "execution_count": 123,
   "id": "4bcbce78-ee6b-413e-8730-c299352ace26",
   "metadata": {},
   "outputs": [],
   "source": [
    "response = vertex_search_alpha.search(\n",
    "    request = discoveryengine_alpha.SearchRequest(\n",
    "        query = question,\n",
    "        page_size = 10,\n",
    "        serving_config = serving_config,\n",
    "        content_search_spec = discoveryengine_alpha.SearchRequest.ContentSearchSpec(\n",
    "            snippet_spec = discoveryengine_alpha.SearchRequest.ContentSearchSpec.SnippetSpec(\n",
    "                return_snippet = True\n",
    "            ),\n",
    "            summary_spec = discoveryengine_alpha.SearchRequest.ContentSearchSpec.SummarySpec(\n",
    "                summary_result_count = 5,\n",
    "                include_citations = True,\n",
    "                ignore_adversarial_query = True,\n",
    "                ignore_non_summary_seeking_query = False\n",
    "            ),\n",
    "            extractive_content_spec = discoveryengine_alpha.SearchRequest.ContentSearchSpec.ExtractiveContentSpec(\n",
    "                max_extractive_answer_count = 5\n",
    "            )\n",
    "        ),\n",
    "        query_expansion_spec = discoveryengine_alpha.SearchRequest.QueryExpansionSpec(\n",
    "            condition = discoveryengine_alpha.SearchRequest.QueryExpansionSpec.Condition.AUTO\n",
    "        ),\n",
    "        spell_correction_spec = discoveryengine_alpha.SearchRequest.SpellCorrectionSpec(\n",
    "            mode = discoveryengine_alpha.SearchRequest.SpellCorrectionSpec.Mode.AUTO\n",
    "        )\n",
    "    )\n",
    ")"
   ]
  },
  {
   "cell_type": "code",
   "execution_count": 124,
   "id": "1fd96587-7ec6-4e19-9ccd-6a96eaff3206",
   "metadata": {},
   "outputs": [
    {
     "name": "stdout",
     "output_type": "stream",
     "text": [
      "Source Document 1:\n",
      "\tName: mlb_2022_rules\n",
      "\tLink: gs://statmike-mlops-349915/applied-genai/vertex-ai-search/mlb_2022_rules.pdf\n",
      "\tSnippet 1: ... <b>size</b> and shape of the grassed and bare areas of its playing field. NOTE: (a) ... The second <b>base</b> bag shall be centered on second <b>base</b>. The bags shall be 15&nbsp;...\n",
      "\tAnswer 1 (page = 15): 2.02 Home Base Home base shall be marked by a five-sided slab of whitened rubber. It shall be a 17-inch square with two of the corners removed so that one edge is 17 inches long, two adjacent sides are 8½ inches and the remaining two sides are 12 inches and set at an angle to make a point.\n",
      "\tAnswer 2 (page = 127): If a batter runner is called out after missing home plate, the Official Scorer shall credit him with a three-base hit.\n",
      "\tAnswer 3 (page = 126): (c) When the batter attempts to make a two-base hit or a three-base hit by sliding, he must hold the last base to which he advances.\n",
      "\tAnswer 4 (page = 43): Rule 5.06(b)(4)(I) Comment: The fact a runner is awarded a base or bases without liability to be put out does not relieve him of the responsibility to touch the base he is awarded and all intervening bases.\n",
      "\tAnswer 5 (page = 125): 9.06 Determining Value of Base Hits The Official Scorer shall score a base hit as a one-base hit, two-base hit, three-base hit or home run when no error or putout results, as follows: (a) Subject to the provisions of Rule 9.06(b) and 9.06(c), it is a one-base hit if the batter stops at first base; it is a two-base hit if the batter stops at second base; it a three-base hit if the batter stops at third base; and it is a home run if the batter touches all bases and scores.\n",
      "\n",
      "\n",
      "Source Document 2:\n",
      "\tName: mlb_2023_rules\n",
      "\tLink: gs://statmike-mlops-349915/applied-genai/vertex-ai-search/mlb_2023_rules.pdf\n",
      "\tSnippet 1: It is recommended that the distance from home <b>base</b> to the backstop, and from the <b>base</b> lines to the nearest fence, stand or other obstruction on foul territory&nbsp;...\n",
      "\tAnswer 1 (page = 14): The distance between first base and third base is 127 feet, 33 ⁄8 inches. All measurements from home base shall be taken from the point where the first and third base lines intersect.\n",
      "\tAnswer 2 (page = 15): 2.02 Home Base Home base shall be marked by a five-sided slab of whitened rubber. It shall be a 17-inch square with two of the corners removed so that one edge is 17 inches long, two adjacent sides are 8½ inches and the remaining two sides are 12 inches and set at an angle to make a point.\n",
      "\tAnswer 3 (page = 20): The webbing shall not be constructed of wound or wrapped lacing or deepened to make a net type of trap.\n",
      "\tAnswer 4 (page = 130): If a batter runner is called out after missing home plate, the Official Scorer shall credit him with a three-base hit.\n",
      "\tAnswer 5 (page = 129): (c) When the batter attempts to make a two-base hit or a three-base hit by sliding, he must hold the last base to which he advances.\n"
     ]
    }
   ],
   "source": [
    "text = ''\n",
    "for r, result in enumerate(response.results):\n",
    "    if r > 0: text += '\\n\\n\\n'\n",
    "    doc = dict(result.document.derived_struct_data)\n",
    "    text += f\"Source Document {r+1}:\\n\\tName: {doc['title']}\\n\\tLink: {doc['link']}\"\n",
    "    if 'snippets' in doc.keys():\n",
    "        for s, snippet in enumerate(doc['snippets']):\n",
    "            if snippet['snippet_status'] == 'SUCCESS':\n",
    "                text += f\"\\n\\tSnippet {s+1}: {snippet['snippet']}\"\n",
    "    if 'extractive_answers' in doc.keys():\n",
    "        for a, answer in enumerate(doc['extractive_answers']):\n",
    "            text += f\"\\n\\tAnswer {a+1} (page = {answer['pageNumber']}): {answer['content']}\"\n",
    "print(text)\n",
    "answers_results = text"
   ]
  },
  {
   "cell_type": "code",
   "execution_count": 125,
   "id": "26be9a5c-6092-4338-8f22-02c371c2353d",
   "metadata": {},
   "outputs": [
    {
     "data": {
      "text/plain": [
       "summary_text: \"In Major League Baseball, home base is a five-sided slab of whitened rubber that is 17 inches square [1, 2]. Two of the corners are removed so that one edge is 17 inches long, two adjacent sides are 8\\302\\275 inches, and the remaining two sides are 12 inches [1, 2].\""
      ]
     },
     "execution_count": 125,
     "metadata": {},
     "output_type": "execute_result"
    }
   ],
   "source": [
    "response.summary"
   ]
  },
  {
   "cell_type": "markdown",
   "id": "b5fd5481-1ca5-45e5-a4fc-f5c76bc7a48b",
   "metadata": {},
   "source": [
    "### Extractive Segments\n",
    "\n",
    "Sections of text derived verbatim from documents in the search result.  Segments are longer than answers (previous section).  **These are good inputs for LLMs to use as context!!  Demonstrated later in this document**\n",
    "\n",
    "[Extractive Segments](https://cloud.google.com/generative-ai-app-builder/docs/snippets#extractive-segments)\n",
    "\n",
    "For now, Nov 2023, this feature using the [discoveryengine_v1alpha](https://cloud.google.com/python/docs/reference/discoveryengine/latest/google.cloud.discoveryengine_v1alpha.services.search_service.SearchServiceClient) client in order to get the `extractive_content_spec` attribute for the [discoveryengine_v1alpha1.types.SearchRequest.ContentSearchSpec()](https://cloud.google.com/python/docs/reference/discoveryengine/latest/google.cloud.discoveryengine_v1alpha.types.SearchRequest.ContentSearchSpec)."
   ]
  },
  {
   "cell_type": "code",
   "execution_count": 156,
   "id": "a2d12796-b1ca-4790-b3cd-ae2287776fa0",
   "metadata": {},
   "outputs": [],
   "source": [
    "response = vertex_search_alpha.search(\n",
    "    request = discoveryengine_alpha.SearchRequest(\n",
    "        query = question,\n",
    "        page_size = 10,\n",
    "        serving_config = serving_config,\n",
    "        content_search_spec = discoveryengine_alpha.SearchRequest.ContentSearchSpec(\n",
    "            snippet_spec = discoveryengine_alpha.SearchRequest.ContentSearchSpec.SnippetSpec(\n",
    "                return_snippet = True\n",
    "            ),\n",
    "            summary_spec = discoveryengine_alpha.SearchRequest.ContentSearchSpec.SummarySpec(\n",
    "                summary_result_count = 5,\n",
    "                include_citations = True,\n",
    "                ignore_adversarial_query = True,\n",
    "                ignore_non_summary_seeking_query = False\n",
    "            ),\n",
    "            extractive_content_spec = discoveryengine_alpha.SearchRequest.ContentSearchSpec.ExtractiveContentSpec(\n",
    "                max_extractive_answer_count = 5,\n",
    "                max_extractive_segment_count = 10,\n",
    "                return_extractive_segment_score = True,\n",
    "                num_previous_segments = 1,\n",
    "                num_next_segments = 1\n",
    "            )\n",
    "        ),\n",
    "        query_expansion_spec = discoveryengine_alpha.SearchRequest.QueryExpansionSpec(\n",
    "            condition = discoveryengine_alpha.SearchRequest.QueryExpansionSpec.Condition.AUTO\n",
    "        ),\n",
    "        spell_correction_spec = discoveryengine_alpha.SearchRequest.SpellCorrectionSpec(\n",
    "            mode = discoveryengine_alpha.SearchRequest.SpellCorrectionSpec.Mode.AUTO\n",
    "        )\n",
    "    )\n",
    ")"
   ]
  },
  {
   "cell_type": "code",
   "execution_count": 157,
   "id": "c209072a-4278-40cc-a76b-a82e8de291bd",
   "metadata": {},
   "outputs": [
    {
     "name": "stdout",
     "output_type": "stream",
     "text": [
      "Source Document 1:\n",
      "\tName: mlb_2022_rules\n",
      "\tLink: gs://statmike-mlops-349915/applied-genai/vertex-ai-search/mlb_2022_rules.pdf\n",
      "\tSnippet 1: ... <b>size</b> and shape of the grassed and bare areas of its playing field. NOTE: (a) ... The second <b>base</b> bag shall be centered on second <b>base</b>. The bags shall be 15&nbsp;...\n",
      "\tSegment 1 (page = 15): 3\n",
      "\n",
      "Rule 2.01 to 2.03\n",
      "\n",
      "The foul lines and all other playing lines indicated in the diagrams\n",
      "by solid black lines shall be marked with paint or non-toxic and\n",
      "non-burning chalk or other white material.\n",
      "The grass lines and dimensions shown on the diagrams are those\n",
      "used in many fields, but they are not mandatory and each Club shall\n",
      "determine the size and shape of the grassed and bare areas of its\n",
      "playing field.\n",
      "NOTE: (a) Any Playing Field constructed by a professional\n",
      "Club after June 1, 1958, shall provide a minimum distance of\n",
      "325 feet from home base to the nearest fence, stand or other\n",
      "obstruction on the right and left field foul lines, and a minimum\n",
      "distance of 400 feet to the center field fence.\n",
      "(b) No existing playing field shall be remodeled after\n",
      "June 1, 1958, in such manner as to reduce the distance from\n",
      "home base to the foul poles and to the center field fence below\n",
      "the minimum specified in paragraph (a) above.\n",
      "2.02 Home Base\n",
      "Home base shall be marked by a five-sided slab of whitened rubber.\n",
      "It shall be a 17-inch square with two of the corners removed so that\n",
      "one edge is 17 inches long, two adjacent sides are 8½ inches and\n",
      "the remaining two sides are 12 inches and set at an angle to make a\n",
      "point. It shall be set in the ground with the point at the intersection\n",
      "of the lines extending from home base to first base and to third base;\n",
      "with the 17-inch edge facing the pitcher’s plate, and the two 12-inch\n",
      "edges coinciding with the first and third base lines. The top edges of\n",
      "home base shall be beveled and the base shall be fixed in the ground\n",
      "level with the ground surface. (See drawing D in Appendix 2.)\n",
      "2.03 The Bases\n",
      "First, second and third bases shall be marked by white canvas or\n",
      "rubber-covered bags, securely attached to the ground as indicated in\n",
      "Diagram 2. The first and third base bags shall be entirely within the\n",
      "infield. The second base bag shall be centered on second base. The\n",
      "bags shall be 15 inches square, not less than three nor more than five\n",
      "inches thick, and filled with soft material.\n",
      "\tSegment 2 (page = 127): Rule 9.06(c) Comment: If the batter-runner overruns second or\n",
      "third base and is tagged out trying to return, the Official Scorer\n",
      "shall credit the batter-runner with the last base he touched. If\n",
      "a batter-runner runs past second base after reaching that base\n",
      "on his feet, attempts to return and is tagged out, the Official\n",
      "Scorer shall credit the batter with a two-base hit. If a batter\n",
      "runner runs past third base after reaching that base on his feet,\n",
      "attempts to return and is tagged out, the Official Scorer shall\n",
      "credit the batter with a three-base hit.\n",
      "(d)  When the batter, after making a safe hit, is called out for having\n",
      "failed to touch a base, the last base the batter reached safely\n",
      "shall determine if the Official Scorer shall credit him with a\n",
      "one-base hit, a two-base hit or a three-base hit. If a batter\n",
      "runner is called out after missing home plate, the Official\n",
      "Scorer shall credit him with a three-base hit. If a batter-runner\n",
      "is called out for missing third base, the Official Scorer shall\n",
      "credit him with a two-base hit. If a batter-runner is called out\n",
      "for missing second base, the Official Scorer shall credit him\n",
      "with a one-base hit. If a batter-runner is called out for missing\n",
      "first base, the Official Scorer shall charge him with a time at\n",
      "bat, but no hit.\n",
      "(e)  When a batter-runner is awarded two bases, three bases or a\n",
      "home run under the provisions of Rules 5.06(b)(4) or 6.01(h),\n",
      "the Official Scorer shall credit the batter-runner with a two-base\n",
      "hit, a three-base hit or a home run, as the case may be.\n",
      "(f)  Subject to the provisions of Rule 9.06(g), when a batter ends a\n",
      "game with a safe hit that drives in as many runs as are necessary\n",
      "to put his team in the lead, the Official Scorer shall credit such\n",
      "batter with only as many bases on his hit as are advanced by the\n",
      "runner who scores the winning run, and then only if the batter\n",
      "runs out his hit for as many bases as are advanced by the runner\n",
      "who scores the winning run.\n",
      "Rule 9.06(f) Comment: The Official Scorer shall apply this rule\n",
      "even when the batter is theoretically entitled to more bases\n",
      "\tSegment 3 (page = 43): 31\n",
      "\n",
      "Rule 5.06(b)(4) to 5.06(c)(2)\n",
      "\n",
      "field, and is subsequently kicked or deflected into the dugout,\n",
      "stands or other area where the ball is dead, the awarding of\n",
      "bases shall be two bases from position of runners at the time\n",
      "of the pitch or throw.\n",
      "(I)  One base, if the batter becomes a runner on Ball Four\n",
      "or Strike Three, when the pitch passes the catcher and\n",
      "lodges in the umpire’s mask or paraphernalia.\n",
      "(I)  If the batter becomes a runner on a wild pitch which\n",
      "entitles the runners to advance one base, the batter\n",
      "runner shall be entitled to first base only.\n",
      "Rule 5.06(b)(4)(I) Comment: The fact a runner is awarded a base\n",
      "or bases without liability to be put out does not relieve him of the\n",
      "responsibility to touch the base he is awarded and all intervening\n",
      "bases. For example: Batter hits a ground ball which an infielder\n",
      "throws into the stands but the batter-runner missed first base. He\n",
      "may be called out on appeal for missing first base after the ball is\n",
      "put in play even though he was “awarded” second base.\n",
      "If a runner is forced to return to a base after a catch, he must\n",
      "retouch his original base even though, because of some ground\n",
      "rule or other rule, he is awarded additional bases. He may\n",
      "retouch while the ball is dead and the award is then made from\n",
      "his original base.\n",
      "(c) Dead Balls\n",
      "The ball becomes dead and runners advance one base, or return to\n",
      "their bases, without liability to be put out, when:\n",
      "(1)  A pitched ball touches a batter, or his clothing, while in his\n",
      "legal batting position; runners, if forced, advance;\n",
      "(2)  The plate umpire interferes with the catcher’s throw\n",
      "attempting to prevent a stolen base or retire a runner on a\n",
      "pick-off play; runners may not advance.\n",
      "NOTE: The interference shall be disregarded if the catcher’s\n",
      "throw retires the runner.\n",
      "While the ball is dead no player may be put out, no bases may be\n",
      "run and no runs may be scored, except that runners may advance\n",
      "\tSegment 4 (page = 126): 114\n",
      "\n",
      "Rule 9.06(b) to 9.06(c)\n",
      "an attempt to put out a preceding runner, the scorer shall\n",
      "determine whether the batter made a legitimate two-base hit or\n",
      "three-base hit, or whether the batter-runner advanced beyond\n",
      "first base on the fielder’s choice.\n",
      "\n",
      "Rule 9.06 Comment: The Official Scorer shall not credit the\n",
      "batter with a three-base hit when a preceding runner is put out\n",
      "at home plate, or would have been out but for an error. The\n",
      "Official Scorer shall not credit the batter with a two-base hit\n",
      "when a preceding runner trying to advance from first base is\n",
      "put out at third base, or would have been out but for an error.\n",
      "The Official Scorer shall not, however, with the exception of\n",
      "the above, determine the value of base-hits by the number of\n",
      "bases advanced by a preceding runner. A batter may deserve a\n",
      "two-base hit even though a preceding runner advances one or\n",
      "no bases; a batter may deserve only a one-base hit even though\n",
      "he reaches second base and a preceding runner advances two\n",
      "bases. For example:\n",
      "(1)  Runner on first. Batter hits to right fielder, who throws\n",
      "to third base in an unsuccessful attempt to put out\n",
      "runner. Batter takes second base. The Official Scorer\n",
      "shall credit batter with one-base hit.\n",
      "(2)  Runner on second. Batter hits fair fly ball. Runner holds\n",
      "up to determine if ball is caught and then advances\n",
      "only to third base, while batter takes second base. The\n",
      "Official Scorer shall credit batter with two-base hit.\n",
      "(3)  Runner on third. Batter hits high, fair fly. Runner takes\n",
      "a lead, then runs back to tag up, thinking the ball will\n",
      "be caught. The ball falls safe, but runner cannot score,\n",
      "although batter has reached second. The Official\n",
      "Scorer shall credit batter with a two-base hit.\n",
      "\n",
      "(c)  When the batter attempts to make a two-base hit or a three-base\n",
      "hit by sliding, he must hold the last base to which he advances. If\n",
      "a batter-runner overslides and is tagged out before getting back to\n",
      "the base safely, he shall be credited with only as many bases as\n",
      "he attained safely. If a batter-runner overslides second base and is\n",
      "tagged out, the Official Scorer shall credited him with a one-base\n",
      "\tSegment 5 (page = 127): 115\n",
      "\n",
      "Rule 9.06(c) to 9.06(f)\n",
      "hit; if the batter-runner overslides third base and is tagged out, the\n",
      "Official Scorer shall credit him with a two-base hit.\n",
      "\tSegment 6 (page = 125): 113\n",
      "\n",
      "Rule 9.05(b)(1) to 9.06(b)\n",
      "\n",
      "(1)  runner is forced out by a batted ball, or would have been\n",
      "forced out except for a fielding error;\n",
      "(2)  batter apparently hits safely and a runner who is forced to\n",
      "advance by reason of the batter becoming a runner fails to\n",
      "touch the first base to which such runner is advancing and\n",
      "is called out on appeal. The Official Scorer shall charge\n",
      "the batter with a time at bat but no hit;\n",
      "(3)  pitcher, the catcher or any infielder handles a batted ball\n",
      "and puts out a preceding runner who is attempting to\n",
      "advance one base or to return to his original base, or would\n",
      "have put out such runner with ordinary effort except for a\n",
      "fielding error. The Official Scorer shall charge the batter\n",
      "with a time at bat but no hit;\n",
      "(4)  fielder fails in an attempt to put out a preceding runner\n",
      "and, in the scorer’s judgment, the batter-runner could have\n",
      "been put out at first base; or\n",
      "Rule 9.05(b) Comment: Rule 9.05(b) shall not apply if the\n",
      "fielder merely looks toward or feints toward another base\n",
      "before attempting to make the putout at first base.\n",
      "(5)  is called out for interference with a fielder attempting\n",
      "to field a batted ball, unless in the scorer’s judgment the\n",
      "batter-runner would have been safe had the interference\n",
      "not occurred.\n",
      "\n",
      "9.06 Determining Value of Base Hits\n",
      "The Official Scorer shall score a base hit as a one-base hit, two-base\n",
      "hit, three-base hit or home run when no error or putout results, as\n",
      "follows:\n",
      "(a)  Subject to the provisions of Rule 9.06(b) and 9.06(c), it is a\n",
      "one-base hit if the batter stops at first base; it is a two-base hit\n",
      "if the batter stops at second base; it a three-base hit if the batter\n",
      "stops at third base; and it is a home run if the batter touches all\n",
      "bases and scores.\n",
      "(b)  When, with one or more runners on base, the batter advances\n",
      "more than one base on a safe hit and the defensive team makes\n",
      "\n",
      "\n",
      "Source Document 2:\n",
      "\tName: mlb_2023_rules\n",
      "\tLink: gs://statmike-mlops-349915/applied-genai/vertex-ai-search/mlb_2023_rules.pdf\n",
      "\tSnippet 1: It is recommended that the distance from home <b>base</b> to the backstop, and from the <b>base</b> lines to the nearest fence, stand or other obstruction on foul territory&nbsp;...\n",
      "\tSegment 1 (page = 14): 2\n",
      "\n",
      "Rule 2.01\n",
      "\n",
      "2.00–THE PLAYING FIELD\n",
      "\n",
      "2.01 Layout of the Field\n",
      "The field shall be laid out according to the instructions below,\n",
      "supplemented by the diagrams in Appendices 1, 2, and 3.\n",
      "The infield shall be a 90-foot square. The outfield shall be the area\n",
      "between two foul lines formed by extending two sides of the square,\n",
      "as in diagram in Appendix 1 (page 156). The distance from home\n",
      "base to the nearest fence, stand or other obstruction on fair territory\n",
      "shall be 250 feet or more. A distance of 320 feet or more along\n",
      "the foul lines, and 400 feet or more to center field is preferable.\n",
      "The infield shall be graded so that the base lines and home plate\n",
      "are level. The pitcher’s plate shall be 10 inches above the level of\n",
      "home plate. The degree of slope from a point 6 inches in front of the\n",
      "pitcher’s plate to a point 6 feet toward home plate shall be 1 inch to\n",
      "1 foot, and such degree of slope shall be uniform. The infield and\n",
      "outfield, including the boundary lines, are fair territory and all other\n",
      "area is foul territory.\n",
      "It is desirable that the line from home base through the pitcher’s\n",
      "plate to second base shall run East-Northeast.\n",
      "It is recommended that the distance from home base to the backstop,\n",
      "and from the base lines to the nearest fence, stand or other obstruction\n",
      "on foul territory shall be 60 feet or more. See Appendix 1.\n",
      "When location of home base is determined, with a steel tape\n",
      "measure 127 feet, 33 ⁄8 inches in desired direction to establish\n",
      "second base. From home base, measure 90 feet toward first base;\n",
      "from second base, measure 90 feet toward first base; the intersection\n",
      "of these lines establishes first base. From home base, measure 90\n",
      "feet toward third base; from second base, measure 90 feet toward\n",
      "third base; the intersection of these lines establishes third base. The\n",
      "distance between first base and third base is 127 feet, 33 ⁄8 inches. All\n",
      "measurements from home base shall be taken from the point where\n",
      "the first and third base lines intersect.\n",
      "The catcher’s box, the batters’ boxes, the coaches’ boxes, the three\n",
      "foot first base lines and the next batter’s boxes shall be laid out as\n",
      "shown in the diagrams in Appendices 1 and 2.\n",
      "\tSegment 2 (page = 20): wide across the palm, measured from the base of the thumb crotch to\n",
      "the outer edge of the mitt. The space between the thumb section and\n",
      "the finger section of the mitt shall not exceed four inches at the top of\n",
      "the mitt and three and one-half inches at the base of the thumb crotch.\n",
      "The mitt shall be constructed so that this space is permanently fixed\n",
      "and cannot be enlarged, extended, widened, or deepened by the use\n",
      "of any materials or process whatsoever. The web of the mitt shall\n",
      "measure not more than five inches from its top to the base of the\n",
      "thumb crotch. The web may be either a lacing, lacing through leather\n",
      "tunnels, or a center piece of leather which may be an extension of the\n",
      "palm connected to the mitt with lacing and constructed so that it will\n",
      "not exceed the above mentioned measurements. The webbing shall\n",
      "not be constructed of wound or wrapped lacing or deepened to make\n",
      "a net type of trap. The glove may be of any weight.\n",
      "3.06 Fielding Gloves\n",
      "Each fielder, other than the catcher, may use or wear a leather glove.\n",
      "The measurements covering size of glove shall be made by measuring\n",
      "front side or ball receiving side of glove. The tool or measuring tape\n",
      "shall be placed to contact the surface or feature of item being measured\n",
      "and follow all contours in the process. The glove shall not measure\n",
      "more than 13 inches from the tip of any one of the 4 fingers, through\n",
      "the ball pocket to the bottom edge or heel of glove. The glove shall not\n",
      "measure more than 7¾ inches wide, measured from the inside seam\n",
      "at base of first finger, along base of other fingers, to the outside edge\n",
      "of little finger edge of glove. The space or area between the thumb\n",
      "and first finger, called crotch, may be filled with leather webbing or\n",
      "back stop. The webbing may be constructed of two plies of standard\n",
      "leather to close the crotch area entirely, or it may be constructed of a\n",
      "series of tunnels made of leather, or a series of panels of leather, or of\n",
      "lacing leather thongs. The webbing may not be constructed of wound\n",
      "or wrapped lacing to make a net type of trap. When webbing is made\n",
      "to cover entire crotch area, the webbing can be constructed so as to\n",
      "be flexible. When constructed of a series of sections, they must be\n",
      "joined together. These sections may not be so constructed to allow\n",
      "depression to be developed by curvatures in the section sides. The\n",
      "webbing shall be made to control the size of the crotch opening.\n",
      "\tSegment 3 (page = 20): The\n",
      "crotch opening shall measure not more than 4½ inches at the top, not\n",
      "\tSegment 4 (page = 130): Rule 9.06(c) Comment: If the batter-runner overruns second or\n",
      "third base and is tagged out trying to return, the Official Scorer\n",
      "shall credit the batter-runner with the last base he touched. If\n",
      "a batter-runner runs past second base after reaching that base\n",
      "on his feet, attempts to return and is tagged out, the Official\n",
      "Scorer shall credit the batter with a two-base hit. If a batter\n",
      "runner runs past third base after reaching that base on his feet,\n",
      "attempts to return and is tagged out, the Official Scorer shall\n",
      "credit the batter with a three-base hit.\n",
      "(d)  When the batter, after making a safe hit, is called out for having\n",
      "failed to touch a base, the last base the batter reached safely\n",
      "shall determine if the Official Scorer shall credit him with a\n",
      "one-base hit, a two-base hit or a three-base hit. If a batter\n",
      "runner is called out after missing home plate, the Official\n",
      "Scorer shall credit him with a three-base hit. If a batter-runner\n",
      "is called out for missing third base, the Official Scorer shall\n",
      "credit him with a two-base hit. If a batter-runner is called out\n",
      "for missing second base, the Official Scorer shall credit him\n",
      "with a one-base hit. If a batter-runner is called out for missing\n",
      "first base, the Official Scorer shall charge him with a time at\n",
      "bat, but no hit.\n",
      "(e)  When a batter-runner is awarded two bases, three bases or a\n",
      "home run under the provisions of Rules 5.06(b)(4) or 6.01(h),\n",
      "the Official Scorer shall credit the batter-runner with a two-base\n",
      "hit, a three-base hit or a home run, as the case may be.\n",
      "(f)  Subject to the provisions of Rule 9.06(g), when a batter ends a\n",
      "game with a safe hit that drives in as many runs as are necessary\n",
      "to put his team in the lead, the Official Scorer shall credit such\n",
      "batter with only as many bases on his hit as are advanced by the\n",
      "runner who scores the winning run, and then only if the batter\n",
      "runs out his hit for as many bases as are advanced by the runner\n",
      "who scores the winning run.\n",
      "Rule 9.06(f) Comment: The Official Scorer shall apply this rule\n",
      "even when the batter is theoretically entitled to more bases\n",
      "\tSegment 5 (page = 15): 3\n",
      "\n",
      "Rule 2.01 to 2.02\n",
      "\n",
      "The foul lines and all other playing lines indicated in the diagrams\n",
      "by solid black lines shall be marked with paint or non-toxic and\n",
      "non-burning chalk or other white material.\n",
      "The grass lines and dimensions shown on the diagrams are those\n",
      "used in many fields, but they are not mandatory and each Club\n",
      "shall determine the size and shape of the grassed and bare areas\n",
      "of its playing field; provided, however, that the grass line of the\n",
      "outer boundary of the infield dirt shall be a 95-foot radius from the\n",
      "center of the pitcher’s plate. A Club will be considered to be in\n",
      "compliance with this provision if the average distance of the grass\n",
      "line of the outer boundary of the infield dirt is less than 96 feet but\n",
      "more than 94 feet, and no individual measurement is more than 96\n",
      "feet or less than 94 feet.\n",
      "NOTE: (a) Any Playing Field constructed by a professional\n",
      "Club after June 1, 1958, shall provide a minimum distance of\n",
      "325 feet from home base to the nearest fence, stand or other\n",
      "obstruction on the right and left field foul lines, and a minimum\n",
      "distance of 400 feet to the center field fence.\n",
      "(b) No existing playing field shall be remodeled after\n",
      "June 1, 1958, in such manner as to reduce the distance from\n",
      "home base to the foul poles and to the center field fence below\n",
      "the minimum specified in paragraph (a) above.\n",
      "\n",
      "2.02 Home Base\n",
      "\n",
      "Home base shall be marked by a five-sided slab of whitened rubber.\n",
      "It shall be a 17-inch square with two of the corners removed so that\n",
      "one edge is 17 inches long, two adjacent sides are 8½ inches and\n",
      "the remaining two sides are 12 inches and set at an angle to make a\n",
      "point. It shall be set in the ground with the point at the intersection\n",
      "of the lines extending from home base to first base and to third base;\n",
      "with the 17-inch edge facing the pitcher’s plate, and the two 12-inch\n",
      "edges coinciding with the first and third base lines. The top edges of\n",
      "home base shall be beveled and the base shall be fixed in the ground\n",
      "level with the ground surface. (See drawing D in Appendix 2.)\n",
      "\tSegment 6 (page = 129): 117\n",
      "\n",
      "Rule 9.06(b) to 9.06(c)\n",
      "an attempt to put out a preceding runner, the scorer shall\n",
      "determine whether the batter made a legitimate two-base hit or\n",
      "three-base hit, or whether the batter-runner advanced beyond\n",
      "first base on the fielder’s choice.\n",
      "\n",
      "Rule 9.06 Comment: The Official Scorer shall not credit the\n",
      "batter with a three-base hit when a preceding runner is put out\n",
      "at home plate, or would have been out but for an error. The\n",
      "Official Scorer shall not credit the batter with a two-base hit\n",
      "when a preceding runner trying to advance from first base is\n",
      "put out at third base, or would have been out but for an error.\n",
      "The Official Scorer shall not, however, with the exception of\n",
      "the above, determine the value of base-hits by the number of\n",
      "bases advanced by a preceding runner. A batter may deserve a\n",
      "two-base hit even though a preceding runner advances one or\n",
      "no bases; a batter may deserve only a one-base hit even though\n",
      "he reaches second base and a preceding runner advances two\n",
      "bases. For example:\n",
      "(1)  Runner on first. Batter hits to right fielder, who throws\n",
      "to third base in an unsuccessful attempt to put out\n",
      "runner. Batter takes second base. The Official Scorer\n",
      "shall credit batter with one-base hit.\n",
      "(2)  Runner on second. Batter hits fair fly ball. Runner holds\n",
      "up to determine if ball is caught and then advances\n",
      "only to third base, while batter takes second base. The\n",
      "Official Scorer shall credit batter with two-base hit.\n",
      "(3)  Runner on third. Batter hits high, fair fly. Runner takes\n",
      "a lead, then runs back to tag up, thinking the ball will\n",
      "be caught. The ball falls safe, but runner cannot score,\n",
      "although batter has reached second. The Official\n",
      "Scorer shall credit batter with a two-base hit.\n",
      "\n",
      "(c)  When the batter attempts to make a two-base hit or a three-base\n",
      "hit by sliding, he must hold the last base to which he advances. If\n",
      "a batter-runner overslides and is tagged out before getting back to\n",
      "the base safely, he shall be credited with only as many bases as\n",
      "he attained safely. If a batter-runner overslides second base and is\n",
      "tagged out, the Official Scorer shall credited him with a one-base\n",
      "\tSegment 7 (page = 130): 118\n",
      "\n",
      "Rule 9.06(c) to 9.06(f)\n",
      "hit; if the batter-runner overslides third base and is tagged out, the\n",
      "Official Scorer shall credit him with a two-base hit.\n",
      "\tSegment 8 (page = 20): 8\n",
      "\n",
      "Rule 3.05 to 3.06\n"
     ]
    }
   ],
   "source": [
    "text = ''\n",
    "for r, result in enumerate(response.results):\n",
    "    if r > 0: text += '\\n\\n\\n'\n",
    "    doc = dict(result.document.derived_struct_data)\n",
    "    text += f\"Source Document {r+1}:\\n\\tName: {doc['title']}\\n\\tLink: {doc['link']}\"\n",
    "    if 'snippets' in doc.keys():\n",
    "        for s, snippet in enumerate(doc['snippets']):\n",
    "            if snippet['snippet_status'] == 'SUCCESS':\n",
    "                text += f\"\\n\\tSnippet {s+1}: {snippet['snippet']}\"\n",
    "    #if 'extractive_answers' in doc.keys():\n",
    "    #   for a, answer in enumerate(doc['extractive_answers']):\n",
    "    #        text += f\"\\n\\tAnswer {a+1} (page = {answer['pageNumber']}): {answer['content']}\"\n",
    "    if 'extractive_segments' in doc.keys():\n",
    "        for e, extract in enumerate(doc['extractive_segments']):\n",
    "            text += f\"\\n\\tSegment {e+1} (page = {extract['pageNumber']}): {extract['content']}\"\n",
    "print(text)\n",
    "segments_results = text"
   ]
  },
  {
   "cell_type": "code",
   "execution_count": 158,
   "id": "2db6df69-d6a4-4818-bf6c-676a93072eba",
   "metadata": {},
   "outputs": [
    {
     "data": {
      "text/plain": [
       "summary_text: \"In Major League Baseball, home base is a five-sided slab of whitened rubber that is 17 inches square [1, 2]. Two of the corners are removed so that one edge is 17 inches long, two adjacent sides are 8\\302\\275 inches, and the remaining two sides are 12 inches [1, 2].\""
      ]
     },
     "execution_count": 158,
     "metadata": {},
     "output_type": "execute_result"
    }
   ],
   "source": [
    "response.summary"
   ]
  },
  {
   "cell_type": "markdown",
   "id": "7feb3e47-57e1-4d3e-ae61-e95765e34df2",
   "metadata": {},
   "source": [
    "### Search Summaries\n",
    "\n",
    "A `summary_spec` is provided with a extactive answer specification of only 1 answer - this creates an output in `response.summary` that is a paraphrased summary of the \n",
    "\n",
    "[Search Summaries](https://cloud.google.com/generative-ai-app-builder/docs/get-search-summaries)\n",
    "\n",
    "\n",
    "Summaries are created with extractive answers, see above.  For now, Nov 2023, the extractive answers feature uses the [discoveryengine_v1alpha](https://cloud.google.com/python/docs/reference/discoveryengine/latest/google.cloud.discoveryengine_v1alpha.services.search_service.SearchServiceClient) client in order to get the `extractive_content_spec` attribute for the [discoveryengine_v1alpha1.types.SearchRequest.ContentSearchSpec()](https://cloud.google.com/python/docs/reference/discoveryengine/latest/google.cloud.discoveryengine_v1alpha.types.SearchRequest.ContentSearchSpec)."
   ]
  },
  {
   "cell_type": "code",
   "execution_count": 159,
   "id": "652e035b-579e-44be-b06d-2bc8470831f3",
   "metadata": {},
   "outputs": [],
   "source": [
    "response = vertex_search_alpha.search(\n",
    "    request = discoveryengine_alpha.SearchRequest(\n",
    "        query = question,\n",
    "        page_size = 10,\n",
    "        serving_config = serving_config,\n",
    "        content_search_spec = discoveryengine_alpha.SearchRequest.ContentSearchSpec(\n",
    "            snippet_spec = discoveryengine_alpha.SearchRequest.ContentSearchSpec.SnippetSpec(\n",
    "                return_snippet = True\n",
    "            ),\n",
    "            summary_spec = discoveryengine_alpha.SearchRequest.ContentSearchSpec.SummarySpec(\n",
    "                summary_result_count = 5,\n",
    "                include_citations = True,\n",
    "                ignore_adversarial_query = True,\n",
    "                ignore_non_summary_seeking_query = False\n",
    "            ),\n",
    "            extractive_content_spec = discoveryengine_alpha.SearchRequest.ContentSearchSpec.ExtractiveContentSpec(\n",
    "                max_extractive_answer_count = 1\n",
    "            )\n",
    "        ),\n",
    "        query_expansion_spec = discoveryengine_alpha.SearchRequest.QueryExpansionSpec(\n",
    "            condition = discoveryengine_alpha.SearchRequest.QueryExpansionSpec.Condition.AUTO\n",
    "        ),\n",
    "        spell_correction_spec = discoveryengine_alpha.SearchRequest.SpellCorrectionSpec(\n",
    "            mode = discoveryengine_alpha.SearchRequest.SpellCorrectionSpec.Mode.AUTO\n",
    "        )\n",
    "    )\n",
    ")"
   ]
  },
  {
   "cell_type": "code",
   "execution_count": 160,
   "id": "2ca4d405-87a5-44d3-9eb8-3676ec5866e8",
   "metadata": {},
   "outputs": [
    {
     "data": {
      "text/plain": [
       "summary_text: \"A base in baseball is a five-sided slab of whitened rubber that is 17 inches square [1, 2]. Two of the corners are removed so that one edge is 17 inches long, two adjacent sides are 8\\302\\275 inches, and the remaining two sides are 12 inches [1, 2].\"\n",
       "safety_attributes {\n",
       "  categories: \"Legal\"\n",
       "  scores: 0.10000000149011612\n",
       "}"
      ]
     },
     "execution_count": 160,
     "metadata": {},
     "output_type": "execute_result"
    }
   ],
   "source": [
    "response.summary"
   ]
  },
  {
   "cell_type": "markdown",
   "id": "8948dfb9-505a-4ec2-a032-1481daad62da",
   "metadata": {
    "id": "PF_zXB00TMao"
   },
   "source": [
    "---\n",
    "## Vertex LLM Setup\n",
    "\n",
    "- TextGenerationModel [Guide](https://cloud.google.com/vertex-ai/docs/generative-ai/text/test-text-prompts)\n",
    "    - TextGenerationModel [API](https://cloud.google.com/python/docs/reference/aiplatform/latest/vertexai.language_models.TextGenerationModel)"
   ]
  },
  {
   "cell_type": "code",
   "execution_count": 161,
   "id": "0670c70c-6e68-476a-9d75-1498e6c186c7",
   "metadata": {
    "executionInfo": {
     "elapsed": 17,
     "status": "ok",
     "timestamp": 1683726409314,
     "user": {
      "displayName": "Mike Henderson",
      "userId": "07691629187611687318"
     },
     "user_tz": 240
    },
    "id": "dn2FH-pETUPf"
   },
   "outputs": [],
   "source": [
    "# create links to model: \n",
    "textgen_model = vertexai.language_models.TextGenerationModel.from_pretrained('text-bison@001')"
   ]
  },
  {
   "cell_type": "markdown",
   "id": "0b54f9ff-e469-4b06-bf39-275418f395ec",
   "metadata": {
    "id": "qEITqYF1QNkP"
   },
   "source": [
    "Test text generation (llm) model:"
   ]
  },
  {
   "cell_type": "code",
   "execution_count": 162,
   "id": "1db2866b-d673-4cf3-9621-e94e622507eb",
   "metadata": {},
   "outputs": [
    {
     "data": {
      "text/plain": [
       "'What is the size of a base?'"
      ]
     },
     "execution_count": 162,
     "metadata": {},
     "output_type": "execute_result"
    }
   ],
   "source": [
    "question"
   ]
  },
  {
   "cell_type": "markdown",
   "id": "d9df2b47-b8b8-47b4-8496-cf10ae215114",
   "metadata": {},
   "source": [
    "### Ask The LLM Without Context\n",
    "\n",
    "The LLM likely has information about the question here from its vast pre-training data:"
   ]
  },
  {
   "cell_type": "code",
   "execution_count": 163,
   "id": "e211e4bc-6a67-4215-a72a-38eb2720ddfd",
   "metadata": {
    "colab": {
     "base_uri": "https://localhost:8080/"
    },
    "executionInfo": {
     "elapsed": 1758,
     "status": "ok",
     "timestamp": 1683726411751,
     "user": {
      "displayName": "Mike Henderson",
      "userId": "07691629187611687318"
     },
     "user_tz": 240
    },
    "id": "ippLc2_eYeQH",
    "outputId": "c09300ed-9e44-40a7-f3d0-f4a95515021c"
   },
   "outputs": [
    {
     "data": {
      "text/plain": [
       "The size of a base is the area of the base. The area of a base is the amount of space that the base takes up. The area of a base is calculated by multiplying the length of the base by the width of the base."
      ]
     },
     "execution_count": 163,
     "metadata": {},
     "output_type": "execute_result"
    }
   ],
   "source": [
    "prediction = textgen_model.predict(question)\n",
    "prediction"
   ]
  },
  {
   "cell_type": "code",
   "execution_count": 164,
   "id": "7e2c227b-6dbd-4805-bf2e-96aa1bcace5b",
   "metadata": {},
   "outputs": [
    {
     "data": {
      "text/plain": [
       "'The size of a base is the area of the base. The area of a base is the amount of space that the base takes up. The area of a base is calculated by multiplying the length of the base by the width of the base.'"
      ]
     },
     "execution_count": 164,
     "metadata": {},
     "output_type": "execute_result"
    }
   ],
   "source": [
    "prediction.text"
   ]
  },
  {
   "cell_type": "code",
   "execution_count": 165,
   "id": "46c31615-b351-456b-b324-00d56ae37df2",
   "metadata": {},
   "outputs": [
    {
     "data": {
      "text/plain": [
       "{}"
      ]
     },
     "execution_count": 165,
     "metadata": {},
     "output_type": "execute_result"
    }
   ],
   "source": [
    "prediction.safety_attributes"
   ]
  },
  {
   "cell_type": "markdown",
   "id": "a297e17c-0251-4cb5-9804-b2acc5c72386",
   "metadata": {},
   "source": [
    "Ask for longer (potential) output:"
   ]
  },
  {
   "cell_type": "code",
   "execution_count": 166,
   "id": "7843743b-c19c-4aa8-923e-1d782e7899f3",
   "metadata": {},
   "outputs": [
    {
     "data": {
      "text/plain": [
       "The size of a base is the area of the base. The area of a base is the amount of space that the base takes up. The area of a base is calculated by multiplying the length of the base by the width of the base."
      ]
     },
     "execution_count": 166,
     "metadata": {},
     "output_type": "execute_result"
    }
   ],
   "source": [
    "textgen_model.predict(question, max_output_tokens = 500)"
   ]
  },
  {
   "cell_type": "markdown",
   "id": "30bcae68-0294-4ec0-a7c1-4fb2358fa6ad",
   "metadata": {},
   "source": [
    "### Ask The LLM With Context\n",
    "\n",
    "Construct a prompt in three parts: setup, question, context"
   ]
  },
  {
   "cell_type": "code",
   "execution_count": 176,
   "id": "f308db7e-8f37-4837-923e-80a0eeadf8e6",
   "metadata": {},
   "outputs": [],
   "source": [
    "setup = 'I need help answering a question.  It needs to be answer from the context I provide.  The context is below for source documents.  Each source document is provided with key information: name, link, snippet(s), and segment(s).  The name is the file name.  The link is the URI of the document in Google Cloud storage.  Snippet(s) are small extracts from the document. Segment(s) are long passages from the document.  It there appears to be more than one answer, give both a cite the context part used.' "
   ]
  },
  {
   "cell_type": "code",
   "execution_count": 177,
   "id": "b9d6d3ad-ff45-43d8-acf0-3a7a4f586276",
   "metadata": {},
   "outputs": [],
   "source": [
    "prompt = f\"{setup}\\n\\nContext:\\n{segments_results}\\n\\nQuestion: {question}\""
   ]
  },
  {
   "cell_type": "code",
   "execution_count": 178,
   "id": "ff8f9437-b7bf-45d0-97e9-cff771c58784",
   "metadata": {},
   "outputs": [],
   "source": [
    "prediction = textgen_model.predict(prompt)"
   ]
  },
  {
   "cell_type": "code",
   "execution_count": 179,
   "id": "2746aa56-eb47-4c21-b087-ffb8edeb60eb",
   "metadata": {},
   "outputs": [
    {
     "data": {
      "text/plain": [
       "'The size of a base is 15 inches square, not less than three nor more than five inches thick, and filled with soft material.'"
      ]
     },
     "execution_count": 179,
     "metadata": {},
     "output_type": "execute_result"
    }
   ],
   "source": [
    "prediction.text"
   ]
  },
  {
   "cell_type": "code",
   "execution_count": 184,
   "id": "32a87f64-809d-4435-9a03-78424504be98",
   "metadata": {},
   "outputs": [
    {
     "data": {
      "text/plain": [
       "{'Firearms & Weapons': 0.1, 'Legal': 0.2, 'Toxic': 0.1, 'War & Conflict': 0.1}"
      ]
     },
     "execution_count": 184,
     "metadata": {},
     "output_type": "execute_result"
    }
   ],
   "source": [
    "prediction.safety_attributes"
   ]
  },
  {
   "cell_type": "markdown",
   "id": "30078cf5-823d-4035-815b-7024ae5273c6",
   "metadata": {},
   "source": [
    "---\n",
    "## Create A Function To Answer Questions\n",
    "\n",
    "Use the extractive segments approach above."
   ]
  },
  {
   "cell_type": "code",
   "execution_count": 257,
   "id": "c6768c51-4949-4842-8d75-f2b2bd6716a5",
   "metadata": {},
   "outputs": [],
   "source": [
    "def document_bot(question, show_context = False):\n",
    "    # retrieve search with extactive segments:\n",
    "    response = vertex_search_alpha.search(\n",
    "        request = discoveryengine_alpha.SearchRequest(\n",
    "            query = question,\n",
    "            page_size = 10,\n",
    "            serving_config = serving_config,\n",
    "            content_search_spec = discoveryengine_alpha.SearchRequest.ContentSearchSpec(\n",
    "                extractive_content_spec = discoveryengine_alpha.SearchRequest.ContentSearchSpec.ExtractiveContentSpec(\n",
    "                    max_extractive_answer_count = 5,\n",
    "                    max_extractive_segment_count = 10,\n",
    "                    return_extractive_segment_score = True,\n",
    "                    num_previous_segments = 2,\n",
    "                    num_next_segments = 2\n",
    "                )\n",
    "            ),\n",
    "            query_expansion_spec = discoveryengine_alpha.SearchRequest.QueryExpansionSpec(\n",
    "                condition = discoveryengine_alpha.SearchRequest.QueryExpansionSpec.Condition.AUTO\n",
    "            ),\n",
    "            spell_correction_spec = discoveryengine_alpha.SearchRequest.SpellCorrectionSpec(\n",
    "                mode = discoveryengine_alpha.SearchRequest.SpellCorrectionSpec.Mode.AUTO\n",
    "            )\n",
    "        )\n",
    "    )\n",
    "    \n",
    "    # parse response segments into text string:\n",
    "    context = []\n",
    "    for r, result in enumerate(response.results):\n",
    "        doc = dict(result.document.derived_struct_data)\n",
    "        if 'extractive_segments' in doc.keys():\n",
    "            for e, extract in enumerate(doc['extractive_segments']):\n",
    "                context.append(extract['content'])\n",
    "    context = ''.join(context)\n",
    "    \n",
    "    # construct prompt:\n",
    "    prompt = f\"Give a detailed answer to the question below using only this context: {context}.\\nQuestion: {question}\\nAnswer and Explanation:\"\n",
    "    \n",
    "    # use LLM to answer question using prompt:\n",
    "    prediction = textgen_model.predict(prompt)\n",
    "    \n",
    "    if show_context == True:\n",
    "        answer = f'''## Response\\n\\n### Question\\n{question}\\n### Answer\\n{prediction.text}\\n### Sources\\n'''\n",
    "        \n",
    "        text = ''\n",
    "        for r, result in enumerate(response.results):\n",
    "            if r > 0: text += '\\n'\n",
    "            doc = dict(result.document.derived_struct_data)\n",
    "            text += f\"{r+1}. {doc['title']} ({doc['link']}):\"\n",
    "            if 'extractive_segments' in doc.keys():\n",
    "                for e, extract in enumerate(doc['extractive_segments']):\n",
    "                    part = extract[\"content\"][0:min([250,len(extract[\"content\"])])].replace(\"\\n\", \"\")\n",
    "                    text += f'''\\n\\t- Segment {e+1} (page = {extract[\"pageNumber\"]}): {part}...'''\n",
    "        \n",
    "        IPython.display.display(IPython.display.Markdown(answer+text))\n",
    "    else:\n",
    "        return prediction.text"
   ]
  },
  {
   "cell_type": "code",
   "execution_count": 258,
   "id": "8a657cbb-ccda-4dbb-93e2-8b5a4944a0fe",
   "metadata": {},
   "outputs": [
    {
     "data": {
      "text/plain": [
       "'The size of a base is 15 inches square, not less than three nor more than five inches thick, and filled with soft material.'"
      ]
     },
     "execution_count": 258,
     "metadata": {},
     "output_type": "execute_result"
    }
   ],
   "source": [
    "document_bot(question, show_context = False)"
   ]
  },
  {
   "cell_type": "code",
   "execution_count": 259,
   "id": "9fe06d8a-d1a2-496e-9e19-07b3a5a29fa5",
   "metadata": {},
   "outputs": [
    {
     "data": {
      "text/markdown": [
       "## Response\n",
       "\n",
       "### Question\n",
       "What is the size of a base?\n",
       "### Answer\n",
       "The size of a base is 15 inches square, not less than three nor more than five inches thick, and filled with soft material.\n",
       "### Sources\n",
       "1. mlb_2022_rules (gs://statmike-mlops-349915/applied-genai/vertex-ai-search/mlb_2022_rules.pdf):\n",
       "\t- Segment 1 (page = 15): 3Rule 2.01 to 2.03The foul lines and all other playing lines indicated in the diagramsby solid black lines shall be marked with paint or non-toxic andnon-burning chalk or other white material.The grass lines and dimensions shown on the diagram...\n",
       "\t- Segment 2 (page = 127): Rule 9.06(c) Comment: If the batter-runner overruns second orthird base and is tagged out trying to return, the Official Scorershall credit the batter-runner with the last base he touched. Ifa batter-runner runs past second base after reaching tha...\n",
       "\t- Segment 3 (page = 43): 31Rule 5.06(b)(4) to 5.06(c)(2)field, and is subsequently kicked or deflected into the dugout,stands or other area where the ball is dead, the awarding ofbases shall be two bases from position of runners at the timeof the pitch or throw.(I)  ...\n",
       "\t- Segment 4 (page = 126): 114Rule 9.06(b) to 9.06(c)an attempt to put out a preceding runner, the scorer shalldetermine whether the batter made a legitimate two-base hit orthree-base hit, or whether the batter-runner advanced beyondfirst base on the fielder’s choice.R...\n",
       "\t- Segment 5 (page = 127): 115Rule 9.06(c) to 9.06(f)hit; if the batter-runner overslides third base and is tagged out, theOfficial Scorer shall credit him with a two-base hit....\n",
       "\t- Segment 6 (page = 125): 113Rule 9.05(b)(1) to 9.06(b)(1)  runner is forced out by a batted ball, or would have beenforced out except for a fielding error;(2)  batter apparently hits safely and a runner who is forced toadvance by reason of the batter becoming a runner...\n",
       "2. mlb_2023_rules (gs://statmike-mlops-349915/applied-genai/vertex-ai-search/mlb_2023_rules.pdf):\n",
       "\t- Segment 1 (page = 14): 2Rule 2.012.00–THE PLAYING FIELD2.01 Layout of the FieldThe field shall be laid out according to the instructions below,supplemented by the diagrams in Appendices 1, 2, and 3.The infield shall be a 90-foot square. The outfield shall be the a...\n",
       "\t- Segment 2 (page = 20): wide across the palm, measured from the base of the thumb crotch tothe outer edge of the mitt. The space between the thumb section andthe finger section of the mitt shall not exceed four inches at the top ofthe mitt and three and one-half inches a...\n",
       "\t- Segment 3 (page = 20): Thecrotch opening shall measure not more than 4½ inches at the top, not...\n",
       "\t- Segment 4 (page = 130): Rule 9.06(c) Comment: If the batter-runner overruns second orthird base and is tagged out trying to return, the Official Scorershall credit the batter-runner with the last base he touched. Ifa batter-runner runs past second base after reaching tha...\n",
       "\t- Segment 5 (page = 15): 3Rule 2.01 to 2.02The foul lines and all other playing lines indicated in the diagramsby solid black lines shall be marked with paint or non-toxic andnon-burning chalk or other white material.The grass lines and dimensions shown on the diagram...\n",
       "\t- Segment 6 (page = 129): 117Rule 9.06(b) to 9.06(c)an attempt to put out a preceding runner, the scorer shalldetermine whether the batter made a legitimate two-base hit orthree-base hit, or whether the batter-runner advanced beyondfirst base on the fielder’s choice.R...\n",
       "\t- Segment 7 (page = 130): 118Rule 9.06(c) to 9.06(f)hit; if the batter-runner overslides third base and is tagged out, theOfficial Scorer shall credit him with a two-base hit....\n",
       "\t- Segment 8 (page = 20): 8Rule 3.05 to 3.06..."
      ],
      "text/plain": [
       "<IPython.core.display.Markdown object>"
      ]
     },
     "metadata": {},
     "output_type": "display_data"
    }
   ],
   "source": [
    "document_bot(question, show_context = True)"
   ]
  },
  {
   "cell_type": "code",
   "execution_count": 260,
   "id": "88b6bc10-c407-4df4-b56d-9e08c2193bf1",
   "metadata": {},
   "outputs": [
    {
     "data": {
      "text/markdown": [
       "## Response\n",
       "\n",
       "### Question\n",
       "Is a rule broken if three infielders are positioned on the same side of the field where the batter is more likely to hit the ball?\n",
       "### Answer\n",
       "Yes, a rule is broken if three infielders are positioned on the same side of the field where the batter is more likely to hit the ball.\n",
       "\n",
       "Rule 5.02(c) states that \"at the time the pitcher releases the ball for delivery to\n",
       "the batter, the defensive team must have a minimum\n",
       "of four players (in addition to the pitcher and the\n",
       "catcher) with both feet completely in front of the outer\n",
       "boundary of the infield dirt, at least two of which must\n",
       "be positioned with both feet entirely on each side of\n",
       "second base; and\n",
       "(iii) from the time\n",
       "### Sources\n",
       "1. mlb_2023_rules (gs://statmike-mlops-349915/applied-genai/vertex-ai-search/mlb_2023_rules.pdf):\n",
       "\t- Segment 1 (page = 31): 19Rule 5.02(c)(ii) at the time the pitcher releases the ball for delivery tothe batter, the defensive team must have a minimumof four players (in addition to the pitcher and thecatcher) with both feet completely in front of the outerboundary o...\n",
       "\t- Segment 2 (page = 128): 116Rule 9.05(b)(1) to 9.06(b)(1)  runner is forced out by a batted ball, or would have beenforced out except for a fielding error;(2)  batter apparently hits safely and a runner who is forced toadvance by reason of the batter becoming a runner...\n",
       "\t- Segment 3 (page = 36): 24Rule 5.04(c) to 5.05(a)(6)(c) Completing Time at BatA batter has legally completed his time at bat when he is put outor becomes a runner.5.05 When the Batter Becomes a Runner(a) The batter becomes a runner when:(1)  He hits a fair ball;R...\n",
       "\t- Segment 4 (page = 55): 43Rule 5.09(a)(6) to 5.09(a)(8)(6)  He attempts to hit a third strike and the ball touches him;(7)  His fair ball touches him before touching a fielder. If thebatter is in a legal position in the batter’s box, see Rule5.04(b)(5), and, in the u...\n",
       "\t- Segment 5 (page = 95): 83Rule 6.02(d) to 6.03(a)(4)Rule 6.02(d) Comment: If at any time the ball hits the rosin bag itis in play. In the case of rain or wet field, the umpire may instructthe pitcher to carry the rosin bag in his hip pocket. A pitcher mayuse the rosin...\n",
       "2. mlb_2022_rules (gs://statmike-mlops-349915/applied-genai/vertex-ai-search/mlb_2022_rules.pdf):\n",
       "\t- Segment 1 (page = 42): 30Rule 5.06(b)(4)ball hit the ground, passes a receiving fielder or goes out of playinto the stands.The position of the batter-runner at the time the wild throw leftthe thrower’s hand is the key in deciding the award of bases.If the batter-run...\n",
       "\t- Segment 2 (page = 54): 42Rule 5.09(a)(8) to 5.09(a)(10)runners may advance. If the batter-runner drops his batand the ball rolls against the bat in fair territory and, inthe umpire’s judgment, there was no intention to interferewith the course of the ball, the ball i...\n",
       "\t- Segment 3 (page = 45): 33Rule 5.06(c)(7) to 5.07(a)Rule 5.06(c)(7) Comment: If a foul tip hits the umpire and iscaught by a fielder on the rebound, the ball is “dead” and thebatsman cannot be called out. The same shall apply where suchfoul tip lodges in the umpire’s ...\n",
       "\t- Segment 4 (page = 125): 113Rule 9.05(b)(1) to 9.06(b)(1)  runner is forced out by a batted ball, or would have beenforced out except for a fielding error;(2)  batter apparently hits safely and a runner who is forced toadvance by reason of the batter becoming a runner...\n",
       "\t- Segment 5 (page = 93): 81Rule 6.02(d) to 6.03(a)(4)Rule 6.02(d) Comment: If at any time the ball hits the rosin bag itis in play. In the case of rain or wet field, the umpire may instructthe pitcher to carry the rosin bag in his hip pocket. A pitcher mayuse the rosin..."
      ],
      "text/plain": [
       "<IPython.core.display.Markdown object>"
      ]
     },
     "metadata": {},
     "output_type": "display_data"
    }
   ],
   "source": [
    "document_bot(\"Is a rule broken if three infielders are positioned on the same side of the field where the batter is more likely to hit the ball?\", show_context = True)"
   ]
  },
  {
   "cell_type": "code",
   "execution_count": 261,
   "id": "360e8208-b4c3-4263-bb94-c44e0aace2fb",
   "metadata": {},
   "outputs": [
    {
     "data": {
      "text/markdown": [
       "## Response\n",
       "\n",
       "### Question\n",
       "What is the definition of a balk?\n",
       "### Answer\n",
       "A balk is defined as:\n",
       "\n",
       "(A) Straddling the pitcher’s rubber without the ball is to be\n",
       "interpreted as intent to deceive and ruled a balk.\n",
       "(B) With a runner on first base the pitcher may make a\n",
       "complete turn, without hesitating toward first, and\n",
       "throw to second. This is not to be interpreted as\n",
       "throwing to an unoccupied base.\n",
       "(C) The pitcher, while touching his plate, throws, or feints a\n",
       "throw to an unoccupied base, except for the purpose of\n",
       "making a play;\n",
       "(D) The pitcher makes an illegal pitch;\n",
       "\n",
       "### Sources\n",
       "1. mlb_2022_rules (gs://statmike-mlops-349915/applied-genai/vertex-ai-search/mlb_2022_rules.pdf):\n",
       "\t- Segment 1 (page = 44): 32Rule 5.06(c)(2) to 5.06(c)(7)one or more bases as the result of acts which occurred while theball was alive (such as, but not limited to a balk, an overthrow,interference, or a home run or other fair ball hit out of the playingfield).Rule 5...\n",
       "\t- Segment 2 (page = 90): 78Rule 6.02(a) to 6.02(c)(3)(A) Straddling the pitcher’s rubber without the ball is to beinterpreted as intent to deceive and ruled a balk.(B) With a runner on first base the pitcher may make acomplete turn, without hesitating toward first, an...\n",
       "\t- Segment 3 (page = 139): 127Rule 9.12(e) to 9.13(a)first base when touched by a pitched ball, or when the batterreaches first base as the result of a wild pitch or passed ball.Rule 9.12(e) Comment: See Rule 9.13 for additional scoringrules relating to wild pitches and ...\n",
       "\t- Segment 4 (page = 88): 76Rule 6.02(a)(3) to 6.02(a)(8)Rule 6.02(a)(3) Comment: Requires the pitcher, while touchinghis plate, to step directly toward a base before throwing tothat base. If a pitcher turns or spins off of his free foot withoutactually stepping or if h...\n",
       "\t- Segment 5 (page = 46): 34Rule 5.07(a) to 5.07(a)(2)The pitcher may not take a second step toward home plate witheither foot or otherwise reset his pivot foot in his delivery of thepitch. If there is a runner, or runners, on base it is a balk underRule 6.02(a); if the...\n",
       "2. mlb_2023_rules (gs://statmike-mlops-349915/applied-genai/vertex-ai-search/mlb_2023_rules.pdf):\n",
       "\t- Segment 1 (page = 92): 80Rule 6.02(a) to 6.02(c)(3)(A) Straddling the pitcher’s rubber without the ball is to beinterpreted as intent to deceive and ruled a balk.(B) With a runner on first base the pitcher may make acomplete turn, without hesitating toward first, an...\n",
       "\t- Segment 2 (page = 45): 33Rule 5.06(c)(1) to 5.06(c)(6)(1)  A pitched ball touches a batter, or his clothing, while in hislegal batting position; runners, if forced, advance;(2)  The plate umpire interferes with the catcher’s throwattempting to prevent a stolen base ...\n",
       "\t- Segment 3 (page = 142): 130Rule 9.12(e) to 9.13(a)first base when touched by a pitched ball, or when the batterreaches first base as the result of a wild pitch or passed ball.Rule 9.12(e) Comment: See Rule 9.13 for additional scoringrules relating to wild pitches and ...\n",
       "\t- Segment 4 (page = 90): 78Rule 6.02(a)(3) to 6.02(a)(8)Rule 6.02(a)(3) Comment: Requires the pitcher, while touchinghis plate, to step directly toward a base before throwing tothat base. If a pitcher turns or spins off of his free foot withoutactually stepping or if h...\n",
       "\t- Segment 5 (page = 48): 36Rule 5.07(a)(1) to 5.07(a)(2)(C) disengage the rubber (if he does he must drop his handto his sides).In disengaging the rubber the pitcher must step off with hispivot foot and not his free foot first. He may not go into a set orstretch posi..."
      ],
      "text/plain": [
       "<IPython.core.display.Markdown object>"
      ]
     },
     "metadata": {},
     "output_type": "display_data"
    }
   ],
   "source": [
    "document_bot(\"What is the definition of a balk?\", show_context = True)"
   ]
  },
  {
   "cell_type": "code",
   "execution_count": 262,
   "id": "af425c8a-f886-4c58-8da7-403390573639",
   "metadata": {},
   "outputs": [
    {
     "data": {
      "text/markdown": [
       "## Response\n",
       "\n",
       "### Question\n",
       "A batter hits a ball that goes over the fence, but it is caught by a fan in the stands. Is the ball a home run?\n",
       "### Answer\n",
       "No, the ball is not a home run.\n",
       "\n",
       "The rule states that a fair ball that passes over a fence or into the stands at a distance from home base of 250 feet or more. Such hit entitles the batter to a home run when he shall have touched all bases legally. A fair fly ball that passes out of the playing field at a point less than 250 feet from home base shall entitle the batter to advance to second base only.\n",
       "### Sources\n",
       "1. mlb_2023_rules (gs://statmike-mlops-349915/applied-genai/vertex-ai-search/mlb_2023_rules.pdf):\n",
       "\t- Segment 1 (page = 84): 72Rule 6.01(d) to 6.01(e)umpire should call interference on the part of the coach is upto the judgment of the umpire and if the umpire felt that thecoach did all he could to avoid interfering with the play, nointerference need be called. If, in...\n",
       "\t- Segment 2 (page = 43): 31Rule 5.06(b)(4)first. Batter hits fly to short right. Runner holds up between firstand second and batter comes around first and pulls up behindhim. Ball falls safely. Outfielder, in throwing to first, throwsball into stands.APPROVED RULING: ...\n",
       "\t- Segment 3 (page = 58): 46Rule 5.09(b)(2) to 5.09(b)(5)This rule also covers the following and similar plays: Less thantwo out, score tied last of ninth inning, runner on first, batterhits a ball out of park for winning run, the runner on first passessecond and thinki...\n",
       "\t- Segment 4 (page = 36): 24Rule 5.04(c) to 5.05(a)(6)(c) Completing Time at BatA batter has legally completed his time at bat when he is put outor becomes a runner.5.05 When the Batter Becomes a Runner(a) The batter becomes a runner when:(1)  He hits a fair ball;R...\n",
       "\t- Segment 5 (page = 52): 40Rule 5.08(b)Rule 5.08 Comment:APPROVED RULING: No run shall score during a playin which the third out is made by the batter-runner beforehe touches first base. Example: One out, Jones on second,Smith on first. The batter, Brown, hits safely...\n",
       "2. mlb_2022_rules (gs://statmike-mlops-349915/applied-genai/vertex-ai-search/mlb_2022_rules.pdf):\n",
       "\t- Segment 1 (page = 35): 23Rule 5.05(a)(2) to 5.05(a)(8)(2)  The third strike called by the umpire is not caught,providing (1) first base is unoccupied, or (2) first base isoccupied with two out;Rule 5.05(a)(2) Comment: A batter who does not realize hissituation on a...\n",
       "\t- Segment 2 (page = 53): 41Rule 5.09(a)(1) to 5.09(a)(8)before it touches the ground. Runners may leave their basesthe instant the first fielder touches the ball. A fielder may reachover a fence, railing, rope or other line of demarcation to makea catch. He may jump on...\n",
       "\t- Segment 3 (page = 82): 70Rule 6.01(d) to 6.01(e)umpire should call interference on the part of the coach is upto the judgment of the umpire and if the umpire felt that thecoach did all he could to avoid interfering with the play, nointerference need be called. If, in...\n",
       "\t- Segment 4 (page = 36): 24Rule 5.05(a)(8) to 5.05(b)(2)which case the batter and all runners shall be entitled toadvance two bases;(9)  Any fair fly ball is deflected by the fielder into the stands,or over the fence into foul territory, in which case the battershall...\n",
       "\t- Segment 5 (page = 51): 39Rule 5.08(b)batter-runner before he touched first base, Jones’ run doesnot count.APPROVED RULING: Following runners are not affectedby an act of a preceding runner unless two are out.EXAMPLE: One out, Jones on second, Smith on first, and..."
      ],
      "text/plain": [
       "<IPython.core.display.Markdown object>"
      ]
     },
     "metadata": {},
     "output_type": "display_data"
    }
   ],
   "source": [
    "document_bot(\"A batter hits a ball that goes over the fence, but it is caught by a fan in the stands. Is the ball a home run?\", show_context = True)"
   ]
  },
  {
   "cell_type": "code",
   "execution_count": 263,
   "id": "97d3fff1-60be-4ea9-b7f8-fa7daa378f58",
   "metadata": {},
   "outputs": [
    {
     "data": {
      "text/markdown": [
       "## Response\n",
       "\n",
       "### Question\n",
       "What is the dimension of base?\n",
       "### Answer\n",
       "The dimension of the base is 15 inches square, not less than three nor more than five inches thick, and filled with soft material.\n",
       "### Sources\n",
       "1. mlb_2022_rules (gs://statmike-mlops-349915/applied-genai/vertex-ai-search/mlb_2022_rules.pdf):\n",
       "\t- Segment 1 (page = 15): 3Rule 2.01 to 2.03The foul lines and all other playing lines indicated in the diagramsby solid black lines shall be marked with paint or non-toxic andnon-burning chalk or other white material.The grass lines and dimensions shown on the diagram...\n",
       "\t- Segment 2 (page = 127): Rule 9.06(c) Comment: If the batter-runner overruns second orthird base and is tagged out trying to return, the Official Scorershall credit the batter-runner with the last base he touched. Ifa batter-runner runs past second base after reaching tha...\n",
       "\t- Segment 3 (page = 126): 114Rule 9.06(b) to 9.06(c)an attempt to put out a preceding runner, the scorer shalldetermine whether the batter made a legitimate two-base hit orthree-base hit, or whether the batter-runner advanced beyondfirst base on the fielder’s choice.R...\n",
       "\t- Segment 4 (page = 43): 31Rule 5.06(b)(4) to 5.06(c)(2)field, and is subsequently kicked or deflected into the dugout,stands or other area where the ball is dead, the awarding ofbases shall be two bases from position of runners at the timeof the pitch or throw.(I)  ...\n",
       "\t- Segment 5 (page = 127): 115Rule 9.06(c) to 9.06(f)hit; if the batter-runner overslides third base and is tagged out, theOfficial Scorer shall credit him with a two-base hit....\n",
       "\t- Segment 6 (page = 125): 113Rule 9.05(b)(1) to 9.06(b)(1)  runner is forced out by a batted ball, or would have beenforced out except for a fielding error;(2)  batter apparently hits safely and a runner who is forced toadvance by reason of the batter becoming a runner...\n",
       "2. mlb_2023_rules (gs://statmike-mlops-349915/applied-genai/vertex-ai-search/mlb_2023_rules.pdf):\n",
       "\t- Segment 1 (page = 15): 3Rule 2.01 to 2.02The foul lines and all other playing lines indicated in the diagramsby solid black lines shall be marked with paint or non-toxic andnon-burning chalk or other white material.The grass lines and dimensions shown on the diagram...\n",
       "\t- Segment 2 (page = 130): Rule 9.06(c) Comment: If the batter-runner overruns second orthird base and is tagged out trying to return, the Official Scorershall credit the batter-runner with the last base he touched. Ifa batter-runner runs past second base after reaching tha...\n",
       "\t- Segment 3 (page = 61): 49Rule 5.09(b)(9) to 5.09(b)(12)third base and home plate. Believing the lead runner willbe tagged out, the runner at second base (i.e., the trailingrunner) advances to third base. Before being tagged, the leadrunner runs back to and beyond th...\n",
       "\t- Segment 4 (page = 44): 32Rule 5.06(b)(4) to 5.06(c)APPROVED RULING: When a wild pitch or passed ball goesthrough or by the catcher, or deflects off the catcher, and goesdirectly into the dugout, stands, above the break, or any areawhere the ball is dead, the awarding...\n",
       "\t- Segment 5 (page = 129): 117Rule 9.06(b) to 9.06(c)an attempt to put out a preceding runner, the scorer shalldetermine whether the batter made a legitimate two-base hit orthree-base hit, or whether the batter-runner advanced beyondfirst base on the fielder’s choice.R...\n",
       "\t- Segment 6 (page = 130): 118Rule 9.06(c) to 9.06(f)hit; if the batter-runner overslides third base and is tagged out, theOfficial Scorer shall credit him with a two-base hit...."
      ],
      "text/plain": [
       "<IPython.core.display.Markdown object>"
      ]
     },
     "metadata": {},
     "output_type": "display_data"
    }
   ],
   "source": [
    "document_bot(\"What is the dimension of base?\", show_context = True)"
   ]
  },
  {
   "cell_type": "code",
   "execution_count": null,
   "id": "2b61382c-e72d-423f-ba29-a7896b3c233c",
   "metadata": {},
   "outputs": [],
   "source": []
  }
 ],
 "metadata": {
  "environment": {
   "kernel": "python3",
   "name": "tf2-gpu.2-12.m110",
   "type": "gcloud",
   "uri": "gcr.io/deeplearning-platform-release/tf2-gpu.2-12:m110"
  },
  "kernelspec": {
   "display_name": "Python 3",
   "language": "python",
   "name": "python3"
  },
  "language_info": {
   "codemirror_mode": {
    "name": "ipython",
    "version": 3
   },
   "file_extension": ".py",
   "mimetype": "text/x-python",
   "name": "python",
   "nbconvert_exporter": "python",
   "pygments_lexer": "ipython3",
   "version": "3.10.12"
  }
 },
 "nbformat": 4,
 "nbformat_minor": 5
}
