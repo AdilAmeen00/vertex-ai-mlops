{
 "cells": [
  {
   "cell_type": "markdown",
   "id": "3280a90a-c51c-4de1-9411-5f6fa60c8a4f",
   "metadata": {},
   "source": [
    "![ga4](https://www.google-analytics.com/collect?v=2&tid=G-6VDTYWLKX6&cid=1&en=page_view&sid=1&dl=statmike%2Fvertex-ai-mlops%2FApplied+GenAI&dt=Vertex+AI+GenAI+For+BigQuery+Q%26A+-+Overview.ipynb)\n",
    "\n",
    "# Answering Questions Using BigQuery Tables As Context\n",
    "\n",
    "**WRITEUP IN PROGRESS**"
   ]
  },
  {
   "cell_type": "markdown",
   "id": "547187ca-ed00-4174-9262-ef8deac19bc9",
   "metadata": {
    "id": "R0Q3cgMcshvL"
   },
   "source": [
    "---\n",
    "## Overview\n",
    "\n",
    "<p><center>\n",
    "    <img alt=\"Overview Chart\" src=\"../architectures/notebooks/applied/genai/bq_qa.png\" width=\"55%\">\n",
    "</center><p>\n"
   ]
  },
  {
   "cell_type": "markdown",
   "id": "0ccd823b-b93c-4571-b80e-8ee70de32f0a",
   "metadata": {
    "id": "appt8-yVRtJ1"
   },
   "source": [
    "---\n",
    "## Setup"
   ]
  },
  {
   "cell_type": "markdown",
   "id": "702c4747-d1ed-4901-b65f-6875a4019f89",
   "metadata": {
    "id": "63mx2EozRxFP"
   },
   "source": [
    "Inputs"
   ]
  },
  {
   "cell_type": "code",
   "execution_count": 1,
   "id": "65fb598d-a230-44e1-b4fb-5bc53413a145",
   "metadata": {
    "colab": {
     "base_uri": "https://localhost:8080/",
     "height": 35
    },
    "executionInfo": {
     "elapsed": 2124,
     "status": "ok",
     "timestamp": 1683726390544,
     "user": {
      "displayName": "Mike Henderson",
      "userId": "07691629187611687318"
     },
     "user_tz": 240
    },
    "id": "xzcoXjM5Rky5",
    "outputId": "b3bdcbc1-70d5-472e-aea2-42c74a42efde"
   },
   "outputs": [
    {
     "data": {
      "text/plain": [
       "'statmike-mlops-349915'"
      ]
     },
     "execution_count": 1,
     "metadata": {},
     "output_type": "execute_result"
    }
   ],
   "source": [
    "project = !gcloud config get-value project\n",
    "PROJECT_ID = project[0]\n",
    "PROJECT_ID"
   ]
  },
  {
   "cell_type": "code",
   "execution_count": 2,
   "id": "53e3a060-251a-463a-aa76-77f5ddf2aebe",
   "metadata": {
    "executionInfo": {
     "elapsed": 2,
     "status": "ok",
     "timestamp": 1683726390712,
     "user": {
      "displayName": "Mike Henderson",
      "userId": "07691629187611687318"
     },
     "user_tz": 240
    },
    "id": "IxWrFtqYMfku"
   },
   "outputs": [],
   "source": [
    "REGION = 'us-central1'\n",
    "EXPERIMENT = 'bq-citibikes'\n",
    "SERIES = 'applied-genai'"
   ]
  },
  {
   "cell_type": "markdown",
   "id": "23ff5fa0-3753-41b0-97ec-e23127faebd9",
   "metadata": {
    "id": "LuajVwCiO6Yg"
   },
   "source": [
    "Packages"
   ]
  },
  {
   "cell_type": "code",
   "execution_count": 3,
   "id": "32af0aab-3889-43c1-b34d-29bb13c0ef8f",
   "metadata": {
    "executionInfo": {
     "elapsed": 17761,
     "status": "ok",
     "timestamp": 1683726409304,
     "user": {
      "displayName": "Mike Henderson",
      "userId": "07691629187611687318"
     },
     "user_tz": 240
    },
    "id": "LVC7zzSLRk2C"
   },
   "outputs": [],
   "source": [
    "import vertexai.language_models\n",
    "from google.cloud import aiplatform\n",
    "from google.cloud import bigquery"
   ]
  },
  {
   "cell_type": "markdown",
   "id": "e79f461c-7f9c-4e4b-83aa-aff2e5593c9c",
   "metadata": {
    "id": "EyAVFG9TO9H-"
   },
   "source": [
    "Clients"
   ]
  },
  {
   "cell_type": "code",
   "execution_count": 4,
   "id": "659a377b-ed33-408d-8af7-a4b398758612",
   "metadata": {
    "executionInfo": {
     "elapsed": 19,
     "status": "ok",
     "timestamp": 1683726409306,
     "user": {
      "displayName": "Mike Henderson",
      "userId": "07691629187611687318"
     },
     "user_tz": 240
    },
    "id": "L0RPE13LOZce"
   },
   "outputs": [],
   "source": [
    "# vertex ai clients\n",
    "vertexai.init(project = PROJECT_ID, location = REGION)\n",
    "aiplatform.init(project = PROJECT_ID, location = REGION)\n",
    "\n",
    "# bigquery client\n",
    "bq = bigquery.Client(project = PROJECT_ID)"
   ]
  },
  {
   "cell_type": "markdown",
   "id": "03013d83-8d11-43ad-82e7-6651264c63d5",
   "metadata": {},
   "source": [
    "---\n",
    "## Goal\n",
    "\n",
    "New York City has [Citibike](https://citibikenyc.com/) stations where you can rent a bicycle by the ride, the day, or subscribe monthly/annually.  There is a sample of the usage of citibike stations in BigQuery public datasets.  We would like to answer possible questions in natural langauge using this data as the source.\n",
    "\n",
    "A possible quesiton is: Which Citibike station has the most rental during July 2015?\n",
    "\n",
    "The appoach used here is ask an LLM to answer the question.  The approach has multiple steps:\n",
    "1. Ask a code generation LLM to write a SQL query that retrives the relevant information to the question from the tables - the context\n",
    "2. Run the query generated in 1\n",
    "3. Ask a text generation LLM to answer the question and give it a context to help accurately answer the question - the result of 2"
   ]
  },
  {
   "cell_type": "code",
   "execution_count": 5,
   "id": "b4472aab-2adc-4dcb-8207-31121a24a914",
   "metadata": {},
   "outputs": [],
   "source": [
    "question = \"Which station had most rentals (longest total duration) during July 2015?\""
   ]
  },
  {
   "cell_type": "markdown",
   "id": "149f48d8-5ccf-46e7-89d4-8b6f38bc1513",
   "metadata": {
    "id": "PF_zXB00TMao"
   },
   "source": [
    "---\n",
    "## Vertex LLM Setup\n",
    "\n",
    "- TextEmbeddingModel [Guide](https://cloud.google.com/vertex-ai/docs/generative-ai/embeddings/get-text-embeddings)\n",
    "    - TextEmbeddingModel [API](https://cloud.google.com/python/docs/reference/aiplatform/latest/vertexai.preview.language_models.TextEmbeddingModel)\n",
    "- TextGenerationModel [Guide](https://cloud.google.com/vertex-ai/docs/generative-ai/text/test-text-prompts)\n",
    "    - TextGenerationModel [API](https://cloud.google.com/python/docs/reference/aiplatform/latest/vertexai.preview.language_models.TextGenerationModel)"
   ]
  },
  {
   "cell_type": "code",
   "execution_count": 6,
   "id": "55d596bd-980c-4f44-ba59-225318094d9a",
   "metadata": {
    "executionInfo": {
     "elapsed": 17,
     "status": "ok",
     "timestamp": 1683726409314,
     "user": {
      "displayName": "Mike Henderson",
      "userId": "07691629187611687318"
     },
     "user_tz": 240
    },
    "id": "dn2FH-pETUPf"
   },
   "outputs": [],
   "source": [
    "# create links to model: embedding api and text generation\n",
    "textgen_model = vertexai.language_models.TextGenerationModel.from_pretrained('text-bison')\n",
    "codegen_model = vertexai.language_models.CodeGenerationModel.from_pretrained('code-bison')"
   ]
  },
  {
   "cell_type": "markdown",
   "id": "66f4d2d3-4aab-4fc3-88a9-d602c6f1b5fd",
   "metadata": {
    "id": "qEITqYF1QNkP"
   },
   "source": [
    "Test test generation (llm) model:"
   ]
  },
  {
   "cell_type": "code",
   "execution_count": 7,
   "id": "ed9baa8c-c678-42d9-ab14-d2a8015a369c",
   "metadata": {
    "colab": {
     "base_uri": "https://localhost:8080/"
    },
    "executionInfo": {
     "elapsed": 1758,
     "status": "ok",
     "timestamp": 1683726411751,
     "user": {
      "displayName": "Mike Henderson",
      "userId": "07691629187611687318"
     },
     "user_tz": 240
    },
    "id": "ippLc2_eYeQH",
    "outputId": "c09300ed-9e44-40a7-f3d0-f4a95515021c"
   },
   "outputs": [
    {
     "data": {
      "text/plain": [
       "```\n",
       "SELECT station_name, SUM(duration) AS total_duration\n",
       "FROM trips\n",
       "WHERE start_date BETWEEN '2015-07-01' AND '2015-07-31'\n",
       "GROUP BY station_name\n",
       "ORDER BY total_duration DESC\n",
       "LIMIT 1;\n",
       "```"
      ]
     },
     "execution_count": 7,
     "metadata": {},
     "output_type": "execute_result"
    }
   ],
   "source": [
    "textgen_model.predict(f\"Write a Google SQL query that answers the following question.\\nquestion: {question}\")"
   ]
  },
  {
   "cell_type": "code",
   "execution_count": 8,
   "id": "8478341a-dff0-4525-a1e5-10c9d9368fa2",
   "metadata": {},
   "outputs": [
    {
     "data": {
      "text/plain": [
       "```\n",
       "SELECT station_id, SUM(duration) AS total_duration\n",
       "FROM trip\n",
       "WHERE start_date BETWEEN '2015-07-01' AND '2015-07-31'\n",
       "GROUP BY station_id\n",
       "ORDER BY total_duration DESC\n",
       "LIMIT 1\n",
       "```"
      ]
     },
     "execution_count": 8,
     "metadata": {},
     "output_type": "execute_result"
    }
   ],
   "source": [
    "codegen_model.predict(f\"Write a Google SQL query that answers the following question.\\nquestion: {question}\")"
   ]
  },
  {
   "cell_type": "markdown",
   "id": "5e7acbf5-8538-4404-8c29-a83d7b68b0f1",
   "metadata": {},
   "source": [
    "---\n",
    "## The Problem\n",
    "Both LLMs write valide SQL queries.  However, notice that asking either LLM to write the query this way faces several issues:\n",
    "- The queries do not reference the correct tables\n",
    "- The column names are not the correct one from the correct tables\n",
    "\n",
    "Basically, the generated SQL is a good starting point for a user to write a query that would retrieve the valid context for the users question.\n",
    "\n",
    "**How to get a fully executable SQL query form the LLM?**\n",
    "\n",
    "The following approach was created by iternatively refining text prompts and approaches for specific questions.  "
   ]
  },
  {
   "cell_type": "markdown",
   "id": "e40a597f-3cbe-4c9d-8955-6422f611fff2",
   "metadata": {},
   "source": [
    "---\n",
    "## Retrieve Table Schemas\n",
    "\n",
    "The context that will be provided to the LLM to help write the SQL query will be the related tables schema.  The BigQuery tables used for this experiment are BigQuery public dataset tables:\n",
    "- `bigquery-public-data.new_york.citibike_trips`\n",
    "- `bigquery-public-data.new_york.citibike_stations`\n",
    "\n",
    "To retrive the schemas for the tables the BigQuery [INFORMATIONM_SCHEMA](https://cloud.google.com/bigquery/docs/information-schema-intro) is used - specifically the [INFORMATION_SCHEMA.COLUMN_FIELD_PATHS](https://cloud.google.com/bigquery/docs/information-schema-column-field-paths) view."
   ]
  },
  {
   "cell_type": "code",
   "execution_count": 9,
   "id": "32c4fe65-47a7-4347-a420-52904fa8a94a",
   "metadata": {},
   "outputs": [],
   "source": [
    "BQ_PROJECT = 'bigquery-public-data'\n",
    "BQ_DATASET = 'new_york'\n",
    "BQ_TABLES = ['citibike_trips', 'citibike_stations']"
   ]
  },
  {
   "cell_type": "code",
   "execution_count": 10,
   "id": "909fe317-e61d-4d2c-a35c-23255c678be2",
   "metadata": {},
   "outputs": [
    {
     "name": "stdout",
     "output_type": "stream",
     "text": [
      "\n",
      "    SELECT *\n",
      "    FROM `bigquery-public-data.new_york.INFORMATION_SCHEMA.COLUMN_FIELD_PATHS`\n",
      "    WHERE table_name in (\"citibike_trips\",\"citibike_stations\")\n",
      "\n"
     ]
    }
   ],
   "source": [
    "query = f\"\"\"\n",
    "    SELECT *\n",
    "    FROM `{BQ_PROJECT}.{BQ_DATASET}.INFORMATION_SCHEMA.COLUMN_FIELD_PATHS`\n",
    "    WHERE table_name in ({','.join([f'\"{table}\"' for table in BQ_TABLES])})\n",
    "\"\"\"\n",
    "print(query)\n",
    "schema_columns = bq.query(query = query).to_dataframe()"
   ]
  },
  {
   "cell_type": "code",
   "execution_count": 11,
   "id": "4a5a58cd-4e06-4737-92c5-ad77ae76d05a",
   "metadata": {},
   "outputs": [
    {
     "data": {
      "text/html": [
       "<div>\n",
       "<style scoped>\n",
       "    .dataframe tbody tr th:only-of-type {\n",
       "        vertical-align: middle;\n",
       "    }\n",
       "\n",
       "    .dataframe tbody tr th {\n",
       "        vertical-align: top;\n",
       "    }\n",
       "\n",
       "    .dataframe thead th {\n",
       "        text-align: right;\n",
       "    }\n",
       "</style>\n",
       "<table border=\"1\" class=\"dataframe\">\n",
       "  <thead>\n",
       "    <tr style=\"text-align: right;\">\n",
       "      <th></th>\n",
       "      <th>table_catalog</th>\n",
       "      <th>table_schema</th>\n",
       "      <th>table_name</th>\n",
       "      <th>column_name</th>\n",
       "      <th>field_path</th>\n",
       "      <th>data_type</th>\n",
       "      <th>description</th>\n",
       "      <th>collation_name</th>\n",
       "      <th>rounding_mode</th>\n",
       "    </tr>\n",
       "  </thead>\n",
       "  <tbody>\n",
       "    <tr>\n",
       "      <th>0</th>\n",
       "      <td>bigquery-public-data</td>\n",
       "      <td>new_york</td>\n",
       "      <td>citibike_stations</td>\n",
       "      <td>station_id</td>\n",
       "      <td>station_id</td>\n",
       "      <td>STRING</td>\n",
       "      <td>Unique identifier of a station.</td>\n",
       "      <td>NULL</td>\n",
       "      <td>None</td>\n",
       "    </tr>\n",
       "    <tr>\n",
       "      <th>1</th>\n",
       "      <td>bigquery-public-data</td>\n",
       "      <td>new_york</td>\n",
       "      <td>citibike_stations</td>\n",
       "      <td>name</td>\n",
       "      <td>name</td>\n",
       "      <td>STRING</td>\n",
       "      <td>Public name of the station.</td>\n",
       "      <td>NULL</td>\n",
       "      <td>None</td>\n",
       "    </tr>\n",
       "    <tr>\n",
       "      <th>2</th>\n",
       "      <td>bigquery-public-data</td>\n",
       "      <td>new_york</td>\n",
       "      <td>citibike_stations</td>\n",
       "      <td>short_name</td>\n",
       "      <td>short_name</td>\n",
       "      <td>STRING</td>\n",
       "      <td>Short name or other type of identifier, as use...</td>\n",
       "      <td>NULL</td>\n",
       "      <td>None</td>\n",
       "    </tr>\n",
       "    <tr>\n",
       "      <th>3</th>\n",
       "      <td>bigquery-public-data</td>\n",
       "      <td>new_york</td>\n",
       "      <td>citibike_stations</td>\n",
       "      <td>latitude</td>\n",
       "      <td>latitude</td>\n",
       "      <td>FLOAT64</td>\n",
       "      <td>The latitude of station. The field value must ...</td>\n",
       "      <td>NULL</td>\n",
       "      <td>None</td>\n",
       "    </tr>\n",
       "    <tr>\n",
       "      <th>4</th>\n",
       "      <td>bigquery-public-data</td>\n",
       "      <td>new_york</td>\n",
       "      <td>citibike_stations</td>\n",
       "      <td>longitude</td>\n",
       "      <td>longitude</td>\n",
       "      <td>FLOAT64</td>\n",
       "      <td>The longitude of station. The field value must...</td>\n",
       "      <td>NULL</td>\n",
       "      <td>None</td>\n",
       "    </tr>\n",
       "  </tbody>\n",
       "</table>\n",
       "</div>"
      ],
      "text/plain": [
       "          table_catalog table_schema         table_name column_name  \\\n",
       "0  bigquery-public-data     new_york  citibike_stations  station_id   \n",
       "1  bigquery-public-data     new_york  citibike_stations        name   \n",
       "2  bigquery-public-data     new_york  citibike_stations  short_name   \n",
       "3  bigquery-public-data     new_york  citibike_stations    latitude   \n",
       "4  bigquery-public-data     new_york  citibike_stations   longitude   \n",
       "\n",
       "   field_path data_type                                        description  \\\n",
       "0  station_id    STRING                    Unique identifier of a station.   \n",
       "1        name    STRING                        Public name of the station.   \n",
       "2  short_name    STRING  Short name or other type of identifier, as use...   \n",
       "3    latitude   FLOAT64  The latitude of station. The field value must ...   \n",
       "4   longitude   FLOAT64  The longitude of station. The field value must...   \n",
       "\n",
       "  collation_name rounding_mode  \n",
       "0           NULL          None  \n",
       "1           NULL          None  \n",
       "2           NULL          None  \n",
       "3           NULL          None  \n",
       "4           NULL          None  "
      ]
     },
     "execution_count": 11,
     "metadata": {},
     "output_type": "execute_result"
    }
   ],
   "source": [
    "schema_columns.head()"
   ]
  },
  {
   "cell_type": "code",
   "execution_count": 12,
   "id": "d9bca640-fc80-4e7f-9662-2acc19c55cdf",
   "metadata": {},
   "outputs": [],
   "source": [
    "#schema_columns.to_markdown(index = False)"
   ]
  },
  {
   "cell_type": "markdown",
   "id": "a4ecd1b9-bbc4-4a95-827b-b801d133de4a",
   "metadata": {},
   "source": [
    "---\n",
    "## Code Generation LLM - With Context\n",
    "\n",
    "In this attempt, ask the code generation LLM to write valid SQL and also provide it context.  In this case the context is the schema of the tables that are relevant to Citibike rentals.\n",
    "\n",
    "Turning the table that represent the schema into context is done here by using a conversion to markdown.  This is an area where users can experiment with the format.  JSON, CSV, ....  I like markdown because it includes the column names a single time and is delimited by the header row notation of markdown!"
   ]
  },
  {
   "cell_type": "code",
   "execution_count": 13,
   "id": "1c0c62f0-93dd-40f5-bb03-03f149d78472",
   "metadata": {},
   "outputs": [
    {
     "name": "stdout",
     "output_type": "stream",
     "text": [
      "```sql\n",
      "SELECT start_station_name, SUM(tripduration) AS total_duration_seconds\n",
      "FROM `bigquery-public-data.new_york.citibike_trips`\n",
      "WHERE starttime BETWEEN TIMESTAMP '2015-07-01' AND TIMESTAMP '2015-07-31'\n",
      "GROUP BY start_station_name\n",
      "ORDER BY total_duration_seconds DESC\n",
      "LIMIT 1\n",
      "```\n"
     ]
    }
   ],
   "source": [
    "context_prompt = f\"\"\"\n",
    "Write a Google SQL query that answers the following question while using the provided context to correct refer to BigQuery tables and the needed column names.  Output column names should include the units when applicable. \n",
    "question:\n",
    "{question}\n",
    "\n",
    "context:\n",
    "{schema_columns.to_markdown(index = False)}\n",
    "\"\"\"\n",
    "\n",
    "context_query = codegen_model.predict(context_prompt, max_output_tokens = 256)\n",
    "\n",
    "print(context_query.text)"
   ]
  },
  {
   "cell_type": "code",
   "execution_count": 14,
   "id": "8743db49-3ff4-4398-ac4a-4d6c4df57e2b",
   "metadata": {},
   "outputs": [],
   "source": [
    "context_response = bq.query(query = '\\n'.join(context_query.text.split('\\n')[1:-1])).to_dataframe()"
   ]
  },
  {
   "cell_type": "code",
   "execution_count": 15,
   "id": "a7f2a311-eef2-44e8-ae4c-98a0011e9cd2",
   "metadata": {},
   "outputs": [
    {
     "data": {
      "text/html": [
       "<div>\n",
       "<style scoped>\n",
       "    .dataframe tbody tr th:only-of-type {\n",
       "        vertical-align: middle;\n",
       "    }\n",
       "\n",
       "    .dataframe tbody tr th {\n",
       "        vertical-align: top;\n",
       "    }\n",
       "\n",
       "    .dataframe thead th {\n",
       "        text-align: right;\n",
       "    }\n",
       "</style>\n",
       "<table border=\"1\" class=\"dataframe\">\n",
       "  <thead>\n",
       "    <tr style=\"text-align: right;\">\n",
       "      <th></th>\n",
       "      <th>start_station_name</th>\n",
       "      <th>total_duration_seconds</th>\n",
       "    </tr>\n",
       "  </thead>\n",
       "  <tbody>\n",
       "    <tr>\n",
       "      <th>0</th>\n",
       "      <td>Central Park S &amp; 6 Ave</td>\n",
       "      <td>17259635</td>\n",
       "    </tr>\n",
       "  </tbody>\n",
       "</table>\n",
       "</div>"
      ],
      "text/plain": [
       "       start_station_name  total_duration_seconds\n",
       "0  Central Park S & 6 Ave                17259635"
      ]
     },
     "execution_count": 15,
     "metadata": {},
     "output_type": "execute_result"
    }
   ],
   "source": [
    "context_response"
   ]
  },
  {
   "cell_type": "markdown",
   "id": "8566bfc1-2e5d-4d1b-9535-67a1722e7091",
   "metadata": {},
   "source": [
    "---\n",
    "## Answer The Question\n",
    "\n",
    "Now that a valid context has been retrieved from BigQuery it can be passed to a text generation LLM to answer the user questions."
   ]
  },
  {
   "cell_type": "code",
   "execution_count": 16,
   "id": "b1c54bd8-426c-4f5a-bf16-2e74cf52b40f",
   "metadata": {},
   "outputs": [
    {
     "name": "stdout",
     "output_type": "stream",
     "text": [
      "Central Park S & 6 Ave\n"
     ]
    }
   ],
   "source": [
    "question_prompt = f\"\"\"\n",
    "Answer the following question using the provided context.  Note that the context is a tabular result returned from a BigQuery query.  Do not repeat the question or the context when responding.\n",
    "\n",
    "question:\n",
    "{question}\n",
    "context:\n",
    "{context_response}\n",
    "\"\"\"\n",
    "\n",
    "question_response = textgen_model.predict(question_prompt)\n",
    "\n",
    "print(question_response.text)"
   ]
  },
  {
   "cell_type": "markdown",
   "id": "9de864c1-c95c-4944-b871-3a2010d38ced",
   "metadata": {},
   "source": [
    "---\n",
    "## Put It All Together\n",
    "\n",
    "Ask a new question and try it out:"
   ]
  },
  {
   "cell_type": "code",
   "execution_count": 17,
   "id": "0dd52257-baa4-43d0-84c1-5dfaea18d942",
   "metadata": {},
   "outputs": [],
   "source": [
    "question = 'What were the top five stations with most unique trips in July 2015?'"
   ]
  },
  {
   "cell_type": "code",
   "execution_count": 18,
   "id": "73786cfa-7845-4372-b735-e933a22b1715",
   "metadata": {},
   "outputs": [],
   "source": [
    "context_prompt = f\"\"\"\n",
    "Write a Google SQL query that answers the following question while using the provided context to correct refer to BigQuery tables and the needed column names.  Output column names should include the units when applicable. \n",
    "question:\n",
    "{question}\n",
    "\n",
    "context:\n",
    "\n",
    "{schema_columns.to_markdown(index = False)}\n",
    "\"\"\"\n",
    "\n",
    "context_query = codegen_model.predict(context_prompt, max_output_tokens = 256)\n",
    "\n",
    "context_response = bq.query(query = '\\n'.join(context_query.text.split('\\n')[1:-1])).to_dataframe()"
   ]
  },
  {
   "cell_type": "code",
   "execution_count": 19,
   "id": "5e66d2bb-bb63-4ee6-8347-ea8d3c56f494",
   "metadata": {},
   "outputs": [
    {
     "data": {
      "text/plain": [
       "```sql\n",
       "SELECT\n",
       "  start_station_name,\n",
       "  COUNT(*) AS num_trips\n",
       "FROM\n",
       "  `bigquery-public-data.new_york.citibike_trips`\n",
       "WHERE\n",
       "  starttime BETWEEN TIMESTAMP '2015-07-01' AND TIMESTAMP '2015-07-31'\n",
       "GROUP BY\n",
       "  start_station_name\n",
       "ORDER BY\n",
       "  num_trips DESC\n",
       "LIMIT\n",
       "  5\n",
       "```"
      ]
     },
     "execution_count": 19,
     "metadata": {},
     "output_type": "execute_result"
    }
   ],
   "source": [
    "context_query"
   ]
  },
  {
   "cell_type": "code",
   "execution_count": 20,
   "id": "58fe980c-8edf-4356-99ee-214f5d54a975",
   "metadata": {},
   "outputs": [
    {
     "name": "stdout",
     "output_type": "stream",
     "text": [
      "8 Ave & W 31 St\n",
      "Pershing Square North\n",
      "West St & Chambers St\n",
      "Lafayette St & E 8 St\n",
      "E 17 St & Broadway\n"
     ]
    }
   ],
   "source": [
    "question_prompt = f\"\"\"\n",
    "Answer the following question using the provided context.  Note that the context is a tabular result returned from a BigQuery query.  Do not repeat the question or the context when responding.\n",
    "\n",
    "question:\n",
    "{question}\n",
    "context:\n",
    "{context_response}\n",
    "\"\"\"\n",
    "\n",
    "question_response = textgen_model.predict(question_prompt)\n",
    "\n",
    "print(question_response.text)"
   ]
  },
  {
   "cell_type": "markdown",
   "id": "eeb9935f-80b3-41fe-b372-2b83a9798031",
   "metadata": {},
   "source": [
    "---\n",
    "## All Together and More Complex"
   ]
  },
  {
   "cell_type": "code",
   "execution_count": 21,
   "id": "2326bbd0-41a7-478e-807e-67958e6a67db",
   "metadata": {},
   "outputs": [],
   "source": [
    "question = 'What were the top five stations with most unique trips in July 2015 near central park?'"
   ]
  },
  {
   "cell_type": "code",
   "execution_count": 22,
   "id": "4ac10690-7cdd-4274-a0d0-cee8caa45833",
   "metadata": {},
   "outputs": [],
   "source": [
    "context_prompt = f\"\"\"\n",
    "Write a BigQuery SQL query that answers the following question while using the provided context to correctly refer to BigQuery tables and the needed column names.  Output column names should include the units when applicable. Validate the BigQuery function names and inputs. Validate the referenced columns are in the schema of the referenced tables.\n",
    "question:\n",
    "{question}\n",
    "\n",
    "context:\n",
    "\n",
    "{schema_columns.to_markdown(index = False)}\n",
    "\"\"\"\n",
    "\n",
    "context_query = codegen_model.predict(context_prompt, max_output_tokens = 256)\n",
    "\n",
    "context_response = bq.query(query = '\\n'.join(context_query.text.split('\\n')[1:-1])).to_dataframe()"
   ]
  },
  {
   "cell_type": "code",
   "execution_count": 23,
   "id": "b99afbeb-8f97-4f63-9881-d85d2dd710fe",
   "metadata": {},
   "outputs": [
    {
     "data": {
      "text/plain": [
       "```sql\n",
       "#standardSQL\n",
       "SELECT\n",
       "  start_station_name,\n",
       "  count(*) AS num_trips\n",
       "FROM\n",
       "  `bigquery-public-data.new_york.citibike_trips`\n",
       "WHERE\n",
       "  starttime BETWEEN TIMESTAMP '2015-07-01' AND TIMESTAMP '2015-07-31'\n",
       "  AND start_station_latitude BETWEEN 40.7526 AND 40.7683\n",
       "  AND start_station_longitude BETWEEN -73.9847 AND -73.9711\n",
       "GROUP BY\n",
       "  start_station_name\n",
       "ORDER BY\n",
       "  num_trips DESC\n",
       "LIMIT\n",
       "  5\n",
       "```"
      ]
     },
     "execution_count": 23,
     "metadata": {},
     "output_type": "execute_result"
    }
   ],
   "source": [
    "context_query"
   ]
  },
  {
   "cell_type": "code",
   "execution_count": 24,
   "id": "b1b43b84-47b1-49fa-b024-0639b2557df7",
   "metadata": {},
   "outputs": [
    {
     "name": "stdout",
     "output_type": "stream",
     "text": [
      "The top five stations with most unique trips in July 2015 near central park are:\n",
      "\n",
      "1. Central Park S & 6 Ave (7237 trips)\n",
      "\n",
      "Popular points of interest near this station include:\n",
      "\n",
      "- Central Park\n",
      "- The Metropolitan Museum of Art\n",
      "- The American Museum of Natural History\n",
      "\n",
      "2. Grand Army Plaza & Central Park S (6998 trips)\n",
      "\n",
      "Popular points of interest near this station include:\n",
      "\n",
      "- Central Park\n",
      "- The Plaza Hotel\n",
      "- The New York Public Library\n",
      "\n",
      "3. Broadway & W 58 St (5585 trips)\n",
      "\n",
      "Popular points of interest near this station include:\n",
      "\n",
      "- The Museum of Modern Art\n",
      "- The Whitney Museum of American Art\n",
      "- The Frick Collection\n",
      "\n",
      "4. E 43 St & Vanderbilt Ave (5369 trips)\n",
      "\n",
      "Popular points of interest near this station include:\n",
      "\n",
      "- Carnegie Hall\n",
      "- The New York Public Library\n",
      "- The Museum of Modern Art\n",
      "\n",
      "5. Broadway & W 49 St (4670 trips)\n",
      "\n",
      "Popular points of interest near this station include:\n",
      "\n",
      "- The Empire State Building\n",
      "- The Chrysler Building\n",
      "- The Rockefeller Center\n"
     ]
    }
   ],
   "source": [
    "question_prompt = f\"\"\"\n",
    "Answer the following question using the provided context.  Note that the context is a tabular result returned from a BigQuery query.  Do not repeat the question or the context when responding.\n",
    "\n",
    "Include popular points of interest near each listed station.\n",
    "\n",
    "question:\n",
    "{question}\n",
    "context:\n",
    "{context_response}\n",
    "\"\"\"\n",
    "\n",
    "question_response = textgen_model.predict(question_prompt, max_output_tokens = 500)\n",
    "\n",
    "print(question_response.text)"
   ]
  },
  {
   "cell_type": "code",
   "execution_count": null,
   "id": "51130d48-61b1-4740-80f3-740ccea54f35",
   "metadata": {},
   "outputs": [],
   "source": []
  }
 ],
 "metadata": {
  "environment": {
   "kernel": "python3",
   "name": "tf2-gpu.2-11.m104",
   "type": "gcloud",
   "uri": "gcr.io/deeplearning-platform-release/tf2-gpu.2-11:m104"
  },
  "kernelspec": {
   "display_name": "Python 3 (ipykernel)",
   "language": "python",
   "name": "python3"
  },
  "language_info": {
   "codemirror_mode": {
    "name": "ipython",
    "version": 3
   },
   "file_extension": ".py",
   "mimetype": "text/x-python",
   "name": "python",
   "nbconvert_exporter": "python",
   "pygments_lexer": "ipython3",
   "version": "3.7.12"
  }
 },
 "nbformat": 4,
 "nbformat_minor": 5
}
