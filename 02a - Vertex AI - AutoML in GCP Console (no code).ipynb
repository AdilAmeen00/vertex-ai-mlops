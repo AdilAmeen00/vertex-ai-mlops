{
 "cells": [
  {
   "cell_type": "markdown",
   "id": "57568ace",
   "metadata": {},
   "source": [
    "# 02a - Vertex AI - AutoML in GCP Console (no code)\n",
    "Use Vertex AI from the GCP Console for a no-code approach building a custom model with AutoML and deploy it for predictions.\n",
    "\n",
    "**Prerequisites:**\n",
    "-  01 - BigQuery - Table Data Source\n",
    "\n",
    "**Overview:**\n",
    "-  Use the GCP Console > Vertex AI to\n",
    "   -  Create a Dataset\n",
    "      -  Pick data type and objective: Tabular, Regression/Classification\n",
    "      -  Link to BigQuery Table for source data\n",
    "   -  Create a Training Job\n",
    "      -  Select the Dataset\n",
    "      -  Objective = Classification with AutoML\n",
    "   -  Evaluate Model\n",
    "   -  Deploy Model to Endpoint\n",
    "   -  Create a Batch Prediction Job \n",
    "      -  Use the Model and write predictions to BigQuery\n",
    "\n",
    "**Resources:**\n",
    "-  [AutoML Tabular Training Job With GCP Console](https://cloud.google.com/vertex-ai/docs/training/automl-console#tabular)\n",
    "\n",
    "**Related Training:**\n",
    "-  [Tutorial for AutoML Tabular](https://cloud.google.com/vertex-ai/docs/tutorials/tabular-automl)\n",
    "-  todo\n"
   ]
  },
  {
   "cell_type": "markdown",
   "id": "7b403fef",
   "metadata": {},
   "source": [
    "---\n",
    "## Vertex AI - Conceptual Flow\n",
    "\n",
    "<img src=\"architectures/slides/slide_07.png\">\n",
    "\n",
    "---\n",
    "## Vertex AI - Workflow\n",
    "\n",
    "<img src=\"architectures/slides/slide_08.png\">"
   ]
  },
  {
   "cell_type": "markdown",
   "id": "66e431d5",
   "metadata": {},
   "source": [
    "---\n",
    "## Create Dataset (link to BigQuery table)\n",
    "\n",
    "From the Console:\n",
    "- Go to Vertex AI\n",
    "- Selected `Datasets`\n",
    "- Select `CREATE DATASET`\n",
    "\n",
    "<img src=\"architectures/notebooks/02A_Screenshots/ds_1.png\">\n",
    "\n",
    "- Name the dataset `02a`\n",
    "- Select `Tabular` and `Regression/classification`\n",
    "- Click `Create`\n",
    "\n",
    "<img src=\"architectures/notebooks/02A_Screenshots/ds_2.png\">\n",
    "\n",
    "- Under Select a data source pick `Select a table or view from BigQuery`\n",
    "- Enter the BigQuery path (or browse) to the prepped table created in notebook 01\n",
    "- Click `CONTINUE`\n",
    "\n",
    "<img src=\"architectures/notebooks/02A_Screenshots/ds_3.png\">\n",
    "\n",
    "- The `ANALYZE` tab for the dataset will be displayed for review:\n",
    "\n",
    "<img src=\"architectures/notebooks/02A_Screenshots/ds_4.png\">\n",
    "\n",
    "- Going back to the `Datasets` dashboard will display the registered dataset\n",
    "\n",
    "<img src=\"architectures/notebooks/02A_Screenshots/ds_5.png\">"
   ]
  },
  {
   "cell_type": "markdown",
   "id": "87433be1",
   "metadata": {},
   "source": [
    "---\n",
    "## Train Model with AutoML\n",
    "\n",
    "On The Vertex AI console, select `Training`:\n",
    "\n",
    "<img src=\"architectures/notebooks/02A_Screenshots/train_1.png\">\n",
    "\n",
    "Next to `Training` (near the top), select `CREATE`\n",
    "- For Dataset enter `02a`\n",
    "- For Objective make sure `Classification` is selected\n",
    "- Use `AutoML` for the method\n",
    "- Click `CONTINUE`\n",
    "\n",
    "<img src=\"architectures/notebooks/02A_Screenshots/train_2.png\">\n",
    "\n",
    "For `Model Details`:\n",
    "- Keep the default `Model name` which appends a datetime to the end of the dataset name\n",
    "- For `Target column` select the column to train predictions for\n",
    "- Expand `ADVANCED OPTIONS`:\n",
    "    - Select `Manual` for the Data split method\n",
    "    - Select the `splits` variables that was created in Notebook 01\n",
    "- Click `CONTINUE`\n",
    "\n",
    "<img src=\"architectures/notebooks/02A_Screenshots/train_3.png\">\n",
    "\n",
    "For `Training options`:\n",
    "- Click the `-` symbol next to any rows for variables that should be excluded from training, like the `transaction_id`\n",
    "- Click `CONTINUE`\n",
    "\n",
    "<img src=\"architectures/notebooks/02A_Screenshots/train_4.png\">\n",
    "\n",
    "For `Compute and pricing`:\n",
    "- Enter a `Budget` of 1 node hour\n",
    "    - A guide for choosing the right amount of time can be found [here](https://cloud.google.com/vertex-ai/docs/training/automl-console#tabular): \n",
    "- Make sure `Enable early stopping` is toggled on\n",
    "- Click `START TRAINING`\n",
    "\n",
    "<img src=\"architectures/notebooks/02A_Screenshots/train_5.png\">\n",
    "\n",
    "Return to the Vertex AI console `Training` Menu:\n",
    "- Once the model completes training the name will be accompanied by a green check mark\n",
    "\n",
    "<img src=\"architectures/notebooks/02A_Screenshots/train_6.png\">"
   ]
  },
  {
   "cell_type": "markdown",
   "id": "1a962bf5",
   "metadata": {},
   "source": [
    "---\n",
    "## Model: Evaluate, Select, Deploy\n",
    "\n",
    "On the Vertex AI console, select `Models`\n",
    "\n",
    "<img src=\"architectures/notebooks/02A_Screenshots/model_1.png\">\n",
    "\n",
    "Select the model that was just trained - starts with `02a`:\n",
    "- This brings up the `EVALUATE` tab for the model\n",
    "\n",
    "<img src=\"architectures/notebooks/02A_Screenshots/model_2.png\">\n",
    "\n",
    "Select the tab labeled `DEPLOY & TEST`:\n",
    "\n",
    "<img src=\"architectures/notebooks/02A_Screenshots/model_3.png\">"
   ]
  },
  {
   "cell_type": "markdown",
   "id": "af28bd96",
   "metadata": {},
   "source": [
    "---\n",
    "## Endpoint\n",
    "\n",
    "While still on the Vetex AI `Models` section with the `DEPLOY & TEST` tab selected:\n",
    "- select `DEPLOY TO ENDPOINT`\n",
    "\n",
    "<img src=\"architectures/notebooks/02A_Screenshots/model_3.png\">\n",
    "\n",
    "In the `Deploy to endpoint` menus, complete `Define your endpoint`:\n",
    "- For Endpoint name use `02a`\n",
    "- keep defaults for location and Access\n",
    "- Select `CONTINUE`\n",
    "\n",
    "<img src=\"architectures/notebooks/02A_Screenshots/endpoint_1.png\">\n",
    "\n",
    "In the `Model settings` section:\n",
    "- Traffic split should be 100\n",
    "- minimum number of computes nodes is 1\n",
    "- keep the remaining default values for max nodes, scaling, logging and explainability\n",
    "- Select `CONTINUE`\n",
    "\n",
    "<img src=\"architectures/notebooks/02A_Screenshots/endpoint_2.png\">\n",
    "\n",
    "In the `Model monitoring` section:\n",
    "- Toggle `Enable model monitoring for this endpoint` on\n",
    "    - for monitoring job use the name `02a`\n",
    "    - use defaults for the other menue items\n",
    "- Select `CONTINUE`\n",
    "\n",
    "<img src=\"architectures/notebooks/02A_Screenshots/endpoint_3.png\">\n",
    "\n",
    "In the `Monitoring objectives` section:\n",
    "- Select `Prediction Drift Detection` under Monitoring objective\n",
    "- Select `DEPLOY`\n",
    "\n",
    "<img src=\"architectures/notebooks/02A_Screenshots/endpoint_4.png\">\n",
    "\n",
    "Once the model is done being deployed to the endpoint, click the `Endpoints` section of Vertex AI:\n",
    "- Select the endpoint that starts with `02a`\n",
    "- Review the endpoint dashboard for the deployed model\n",
    "\n",
    "<img src=\"architectures/notebooks/02A_Screenshots/endpoint_5.png\">\n"
   ]
  },
  {
   "cell_type": "markdown",
   "id": "4066f242",
   "metadata": {},
   "source": [
    "---\n",
    "## Batch\n",
    "\n",
    "In the Verex AI console select the `Batch predictions` section:\n",
    "\n",
    "<img src=\"architectures/notebooks/02A_Screenshots/batch_1.png\">\n",
    "\n",
    "Select `Create`:\n",
    "- name the prediction `02a`\n",
    "- for model name select the model that starts with `02a`\n",
    "- for Select source, pick BigQuery table\n",
    "- provide the location of the BigQuery source table\n",
    "- for storage location pick output format of BigQuery\n",
    "- provide the project for output in BigQuery\n",
    "- select `Generate feature importance`\n",
    "- select `Enable feature attributions for this model`\n",
    "- select `CREATE`\n",
    "\n",
    "<img src=\"architectures/notebooks/02A_Screenshots/batch_2.png\">\n",
    "\n",
    "Once the batch prediction job completes it will be listed with a green checkmark under `Batch Predictions`\n",
    "\n",
    "<img src=\"architectures/notebooks/02A_Screenshots/batch_3.png\">\n",
    "\n",
    "Selecting the batch prediction job that starts with `02a` bring up the details of the prediction job\n",
    "\n",
    "<img src=\"architectures/notebooks/02A_Screenshots/batch_4.png\">\n",
    "\n",
    "Select the linked BigQuery output table next to `Export location`:\n",
    "\n",
    "<img src=\"architectures/notebooks/02A_Screenshots/batch_5.png\">"
   ]
  },
  {
   "cell_type": "markdown",
   "id": "33a23c17",
   "metadata": {},
   "source": [
    "---\n",
    "## Prediction"
   ]
  },
  {
   "cell_type": "markdown",
   "id": "a42e6c09",
   "metadata": {},
   "source": [
    "inputs:"
   ]
  },
  {
   "cell_type": "code",
   "execution_count": 8,
   "id": "190ee41c",
   "metadata": {},
   "outputs": [],
   "source": [
    "REGION = 'us-central1'\n",
    "PROJECT_ID='statmike-mlops'\n",
    "DATANAME = 'fraud'\n",
    "NOTEBOOK = '02a'\n",
    "\n",
    "# Model Training\n",
    "VAR_TARGET = 'Class'\n",
    "VAR_OMIT = 'transaction_id' # add more variables to the string with space delimiters"
   ]
  },
  {
   "cell_type": "markdown",
   "id": "352e4abd",
   "metadata": {},
   "source": [
    "packages:"
   ]
  },
  {
   "cell_type": "code",
   "execution_count": 9,
   "id": "b08e72b7",
   "metadata": {},
   "outputs": [],
   "source": [
    "from google.cloud import aiplatform\n",
    "\n",
    "from google.cloud import bigquery\n",
    "from google.protobuf import json_format\n",
    "from google.protobuf.struct_pb2 import Value\n",
    "import json\n",
    "import numpy as np"
   ]
  },
  {
   "cell_type": "markdown",
   "id": "1b34f1cc",
   "metadata": {},
   "source": [
    "clients:"
   ]
  },
  {
   "cell_type": "code",
   "execution_count": 10,
   "id": "11e140b6",
   "metadata": {},
   "outputs": [],
   "source": [
    "aiplatform.init(project=PROJECT_ID, location=REGION)\n",
    "bigquery = bigquery.Client()"
   ]
  },
  {
   "cell_type": "markdown",
   "id": "50990d52",
   "metadata": {},
   "source": [
    "parameters:"
   ]
  },
  {
   "cell_type": "code",
   "execution_count": 11,
   "id": "fb5ea95d",
   "metadata": {},
   "outputs": [],
   "source": [
    "DIR = f\"temp/{NOTEBOOK}\""
   ]
  },
  {
   "cell_type": "markdown",
   "id": "51d88337",
   "metadata": {},
   "source": [
    "environment:"
   ]
  },
  {
   "cell_type": "code",
   "execution_count": 12,
   "id": "71d83e04",
   "metadata": {},
   "outputs": [],
   "source": [
    "!rm -rf {DIR}\n",
    "!mkdir -p {DIR}"
   ]
  },
  {
   "cell_type": "markdown",
   "id": "e48165db",
   "metadata": {},
   "source": [
    "### Prepare a record for prediction: instance and parameters lists"
   ]
  },
  {
   "cell_type": "code",
   "execution_count": 13,
   "id": "4f3de847",
   "metadata": {},
   "outputs": [],
   "source": [
    "pred = bigquery.query(query = f\"SELECT * FROM {DATANAME}.{DATANAME}_prepped WHERE splits='TEST' LIMIT 10\").to_dataframe()"
   ]
  },
  {
   "cell_type": "code",
   "execution_count": 14,
   "id": "21148cfb",
   "metadata": {},
   "outputs": [
    {
     "data": {
      "text/html": [
       "<div>\n",
       "<style scoped>\n",
       "    .dataframe tbody tr th:only-of-type {\n",
       "        vertical-align: middle;\n",
       "    }\n",
       "\n",
       "    .dataframe tbody tr th {\n",
       "        vertical-align: top;\n",
       "    }\n",
       "\n",
       "    .dataframe thead th {\n",
       "        text-align: right;\n",
       "    }\n",
       "</style>\n",
       "<table border=\"1\" class=\"dataframe\">\n",
       "  <thead>\n",
       "    <tr style=\"text-align: right;\">\n",
       "      <th></th>\n",
       "      <th>Time</th>\n",
       "      <th>V1</th>\n",
       "      <th>V2</th>\n",
       "      <th>V3</th>\n",
       "      <th>V4</th>\n",
       "      <th>V5</th>\n",
       "      <th>V6</th>\n",
       "      <th>V7</th>\n",
       "      <th>V8</th>\n",
       "      <th>V9</th>\n",
       "      <th>...</th>\n",
       "      <th>V23</th>\n",
       "      <th>V24</th>\n",
       "      <th>V25</th>\n",
       "      <th>V26</th>\n",
       "      <th>V27</th>\n",
       "      <th>V28</th>\n",
       "      <th>Amount</th>\n",
       "      <th>Class</th>\n",
       "      <th>transaction_id</th>\n",
       "      <th>splits</th>\n",
       "    </tr>\n",
       "  </thead>\n",
       "  <tbody>\n",
       "    <tr>\n",
       "      <th>0</th>\n",
       "      <td>75176</td>\n",
       "      <td>1.235603</td>\n",
       "      <td>0.041383</td>\n",
       "      <td>0.675286</td>\n",
       "      <td>0.836279</td>\n",
       "      <td>-0.675016</td>\n",
       "      <td>-0.657342</td>\n",
       "      <td>-0.154209</td>\n",
       "      <td>-0.067491</td>\n",
       "      <td>0.602617</td>\n",
       "      <td>...</td>\n",
       "      <td>0.088164</td>\n",
       "      <td>0.396205</td>\n",
       "      <td>0.324557</td>\n",
       "      <td>0.182930</td>\n",
       "      <td>-0.017115</td>\n",
       "      <td>0.014979</td>\n",
       "      <td>0.0</td>\n",
       "      <td>0</td>\n",
       "      <td>6f40e111-2131-4031-aef1-268b2daf02a3</td>\n",
       "      <td>TEST</td>\n",
       "    </tr>\n",
       "    <tr>\n",
       "      <th>1</th>\n",
       "      <td>112225</td>\n",
       "      <td>-0.285756</td>\n",
       "      <td>0.965688</td>\n",
       "      <td>2.147689</td>\n",
       "      <td>2.838137</td>\n",
       "      <td>1.104026</td>\n",
       "      <td>1.462921</td>\n",
       "      <td>-0.835272</td>\n",
       "      <td>-0.409875</td>\n",
       "      <td>-0.810586</td>\n",
       "      <td>...</td>\n",
       "      <td>-1.222639</td>\n",
       "      <td>0.044689</td>\n",
       "      <td>1.324343</td>\n",
       "      <td>-0.077670</td>\n",
       "      <td>0.128146</td>\n",
       "      <td>0.179651</td>\n",
       "      <td>0.0</td>\n",
       "      <td>0</td>\n",
       "      <td>c9bdeaf0-79d4-4faf-8aaa-14127a0e3513</td>\n",
       "      <td>TEST</td>\n",
       "    </tr>\n",
       "    <tr>\n",
       "      <th>2</th>\n",
       "      <td>113420</td>\n",
       "      <td>1.890283</td>\n",
       "      <td>0.241366</td>\n",
       "      <td>-0.165823</td>\n",
       "      <td>4.068924</td>\n",
       "      <td>-0.146807</td>\n",
       "      <td>0.140339</td>\n",
       "      <td>-0.258090</td>\n",
       "      <td>0.084852</td>\n",
       "      <td>-0.056567</td>\n",
       "      <td>...</td>\n",
       "      <td>0.097449</td>\n",
       "      <td>0.019180</td>\n",
       "      <td>0.060621</td>\n",
       "      <td>0.136349</td>\n",
       "      <td>-0.010745</td>\n",
       "      <td>-0.049814</td>\n",
       "      <td>0.0</td>\n",
       "      <td>0</td>\n",
       "      <td>611f4879-490d-4ab5-9e4f-c7944d6165eb</td>\n",
       "      <td>TEST</td>\n",
       "    </tr>\n",
       "    <tr>\n",
       "      <th>3</th>\n",
       "      <td>121910</td>\n",
       "      <td>-1.227268</td>\n",
       "      <td>1.555572</td>\n",
       "      <td>1.245848</td>\n",
       "      <td>4.071686</td>\n",
       "      <td>1.154573</td>\n",
       "      <td>2.058276</td>\n",
       "      <td>-1.179951</td>\n",
       "      <td>-2.211140</td>\n",
       "      <td>-2.248168</td>\n",
       "      <td>...</td>\n",
       "      <td>-0.380109</td>\n",
       "      <td>-1.485002</td>\n",
       "      <td>0.237729</td>\n",
       "      <td>0.524141</td>\n",
       "      <td>-0.037543</td>\n",
       "      <td>0.121962</td>\n",
       "      <td>0.0</td>\n",
       "      <td>0</td>\n",
       "      <td>3212444f-1412-49ae-adfa-a1a0ca54d8c5</td>\n",
       "      <td>TEST</td>\n",
       "    </tr>\n",
       "  </tbody>\n",
       "</table>\n",
       "<p>4 rows × 33 columns</p>\n",
       "</div>"
      ],
      "text/plain": [
       "     Time        V1        V2        V3        V4        V5        V6  \\\n",
       "0   75176  1.235603  0.041383  0.675286  0.836279 -0.675016 -0.657342   \n",
       "1  112225 -0.285756  0.965688  2.147689  2.838137  1.104026  1.462921   \n",
       "2  113420  1.890283  0.241366 -0.165823  4.068924 -0.146807  0.140339   \n",
       "3  121910 -1.227268  1.555572  1.245848  4.071686  1.154573  2.058276   \n",
       "\n",
       "         V7        V8        V9  ...       V23       V24       V25       V26  \\\n",
       "0 -0.154209 -0.067491  0.602617  ...  0.088164  0.396205  0.324557  0.182930   \n",
       "1 -0.835272 -0.409875 -0.810586  ... -1.222639  0.044689  1.324343 -0.077670   \n",
       "2 -0.258090  0.084852 -0.056567  ...  0.097449  0.019180  0.060621  0.136349   \n",
       "3 -1.179951 -2.211140 -2.248168  ... -0.380109 -1.485002  0.237729  0.524141   \n",
       "\n",
       "        V27       V28  Amount  Class                        transaction_id  \\\n",
       "0 -0.017115  0.014979     0.0      0  6f40e111-2131-4031-aef1-268b2daf02a3   \n",
       "1  0.128146  0.179651     0.0      0  c9bdeaf0-79d4-4faf-8aaa-14127a0e3513   \n",
       "2 -0.010745 -0.049814     0.0      0  611f4879-490d-4ab5-9e4f-c7944d6165eb   \n",
       "3 -0.037543  0.121962     0.0      0  3212444f-1412-49ae-adfa-a1a0ca54d8c5   \n",
       "\n",
       "   splits  \n",
       "0    TEST  \n",
       "1    TEST  \n",
       "2    TEST  \n",
       "3    TEST  \n",
       "\n",
       "[4 rows x 33 columns]"
      ]
     },
     "execution_count": 14,
     "metadata": {},
     "output_type": "execute_result"
    }
   ],
   "source": [
    "pred.head(4)"
   ]
  },
  {
   "cell_type": "code",
   "execution_count": 20,
   "id": "15bb1d02",
   "metadata": {},
   "outputs": [],
   "source": [
    "#newob = pred[pred.columns[~pred.columns.isin(VAR_OMIT.split()+[VAR_TARGET, 'splits'])]].to_dict(orient='records')[0]\n",
    "newob = pred[pred.columns[~pred.columns.isin(VAR_OMIT.split()+[VAR_TARGET])]].to_dict(orient='records')[0]\n",
    "#newob"
   ]
  },
  {
   "cell_type": "markdown",
   "id": "5b438694",
   "metadata": {},
   "source": [
    "Need to understand the format of variables that the predictions expect.  AutoML may convert the type of some variables. The following cells retrieve the model from the endpoint and its schemata:"
   ]
  },
  {
   "cell_type": "code",
   "execution_count": 21,
   "id": "fc8f7bb2",
   "metadata": {},
   "outputs": [],
   "source": [
    "newob['Time'] = str(newob['Time'])"
   ]
  },
  {
   "cell_type": "code",
   "execution_count": 22,
   "id": "e89923ef",
   "metadata": {},
   "outputs": [],
   "source": [
    "instances = [json_format.ParseDict(newob, Value())]\n",
    "parameters = json_format.ParseDict({}, Value())"
   ]
  },
  {
   "cell_type": "markdown",
   "id": "e671a9a5",
   "metadata": {},
   "source": [
    "### Get Predictions: Python Client"
   ]
  },
  {
   "cell_type": "code",
   "execution_count": 23,
   "id": "072f0a6f",
   "metadata": {},
   "outputs": [
    {
     "data": {
      "text/plain": [
       "'02a'"
      ]
     },
     "execution_count": 23,
     "metadata": {},
     "output_type": "execute_result"
    }
   ],
   "source": [
    "endpoint = aiplatform.Endpoint.list(filter=f'display_name={NOTEBOOK}')[0]\n",
    "endpoint.display_name"
   ]
  },
  {
   "cell_type": "code",
   "execution_count": 24,
   "id": "b775c99f",
   "metadata": {},
   "outputs": [
    {
     "data": {
      "text/plain": [
       "Prediction(predictions=[{'scores': [0.9995878338813782, 0.0004122101818211377], 'classes': ['0', '1']}], deployed_model_id='3774377127550386176', explanations=None)"
      ]
     },
     "execution_count": 24,
     "metadata": {},
     "output_type": "execute_result"
    }
   ],
   "source": [
    "prediction = endpoint.predict(instances=instances, parameters=parameters)\n",
    "prediction"
   ]
  },
  {
   "cell_type": "code",
   "execution_count": 25,
   "id": "1e716973",
   "metadata": {},
   "outputs": [
    {
     "data": {
      "text/plain": [
       "'0'"
      ]
     },
     "execution_count": 25,
     "metadata": {},
     "output_type": "execute_result"
    }
   ],
   "source": [
    "prediction.predictions[0]['classes'][np.argmax(prediction.predictions[0]['scores'])]"
   ]
  },
  {
   "cell_type": "markdown",
   "id": "a0c157f2",
   "metadata": {},
   "source": [
    "### Get Predictions: REST"
   ]
  },
  {
   "cell_type": "code",
   "execution_count": 26,
   "id": "28b310ce",
   "metadata": {},
   "outputs": [],
   "source": [
    "with open(f'{DIR}/request.json','w') as file:\n",
    "    file.write(json.dumps({\"instances\": [newob]}))"
   ]
  },
  {
   "cell_type": "code",
   "execution_count": 27,
   "id": "2041f335",
   "metadata": {},
   "outputs": [
    {
     "name": "stdout",
     "output_type": "stream",
     "text": [
      "{\n",
      "  \"predictions\": [\n",
      "    {\n",
      "      \"scores\": [\n",
      "        0.99958783388137817,\n",
      "        0.00041221018182113772\n",
      "      ],\n",
      "      \"classes\": [\n",
      "        \"0\",\n",
      "        \"1\"\n",
      "      ]\n",
      "    }\n",
      "  ],\n",
      "  \"deployedModelId\": \"3774377127550386176\"\n",
      "}\n"
     ]
    }
   ],
   "source": [
    "!curl -X POST \\\n",
    "-H \"Authorization: Bearer \"$(gcloud auth application-default print-access-token) \\\n",
    "-H \"Content-Type: application/json; charset=utf-8\" \\\n",
    "-d @{DIR}/request.json \\\n",
    "https://{REGION}-aiplatform.googleapis.com/v1/{endpoint.resource_name}:predict"
   ]
  },
  {
   "cell_type": "markdown",
   "id": "71bd36ef",
   "metadata": {},
   "source": [
    "### Get Predictions: gcloud (CLI)"
   ]
  },
  {
   "cell_type": "code",
   "execution_count": 28,
   "id": "ad4befbd",
   "metadata": {},
   "outputs": [
    {
     "name": "stdout",
     "output_type": "stream",
     "text": [
      "Using endpoint [https://us-central1-prediction-aiplatform.googleapis.com/]\n",
      "[{'classes': ['0', '1'], 'scores': [0.9995878338813782, 0.0004122101818211377]}]\n"
     ]
    }
   ],
   "source": [
    "!gcloud beta ai endpoints predict {endpoint.name.rsplit('/',1)[-1]} --region={REGION} --json-request={DIR}/request.json"
   ]
  },
  {
   "cell_type": "markdown",
   "id": "030bbd84",
   "metadata": {},
   "source": [
    "---\n",
    "## Explanations\n",
    "Interpretation Guide\n",
    "- https://cloud.google.com/vertex-ai/docs/predictions/interpreting-results-automl#tabular"
   ]
  },
  {
   "cell_type": "code",
   "execution_count": 29,
   "id": "81348d83",
   "metadata": {},
   "outputs": [],
   "source": [
    "explanation = endpoint.explain(instances=instances, parameters=parameters)"
   ]
  },
  {
   "cell_type": "code",
   "execution_count": 30,
   "id": "a2e142ff",
   "metadata": {},
   "outputs": [
    {
     "data": {
      "text/plain": [
       "[{'scores': [0.9995878338813782, 0.0004122101818211377],\n",
       "  'classes': ['0', '1']}]"
      ]
     },
     "execution_count": 30,
     "metadata": {},
     "output_type": "execute_result"
    }
   ],
   "source": [
    "explanation.predictions"
   ]
  },
  {
   "cell_type": "code",
   "execution_count": 31,
   "id": "33621b6f",
   "metadata": {},
   "outputs": [
    {
     "name": "stdout",
     "output_type": "stream",
     "text": [
      "attribution:\n",
      "baseline output 0.9996922612190247\n",
      "instance output 0.9995878338813782\n",
      "output_index [0]\n",
      "output display value 0\n",
      "approximation error 0.0049826675518549295\n"
     ]
    }
   ],
   "source": [
    "print(\"attribution:\")\n",
    "print(\"baseline output\",explanation.explanations[0].attributions[0].baseline_output_value)\n",
    "print(\"instance output\",explanation.explanations[0].attributions[0].instance_output_value)\n",
    "print(\"output_index\",explanation.explanations[0].attributions[0].output_index)\n",
    "print(\"output display value\",explanation.explanations[0].attributions[0].output_display_name)\n",
    "print(\"approximation error\",explanation.explanations[0].attributions[0].approximation_error)"
   ]
  },
  {
   "cell_type": "code",
   "execution_count": 32,
   "id": "21c108f0",
   "metadata": {},
   "outputs": [
    {
     "data": {
      "text/plain": [
       "baseline_output_value: 0.9996922612190247\n",
       "instance_output_value: 0.9995878338813782\n",
       "feature_attributions {\n",
       "  struct_value {\n",
       "    fields {\n",
       "      key: \"Amount\"\n",
       "      value {\n",
       "        number_value: -1.25832027859158e-07\n",
       "      }\n",
       "    }\n",
       "    fields {\n",
       "      key: \"Time\"\n",
       "      value {\n",
       "        number_value: -6.443924374050564e-06\n",
       "      }\n",
       "    }\n",
       "    fields {\n",
       "      key: \"V1\"\n",
       "      value {\n",
       "        number_value: 6.466441684299045e-05\n",
       "      }\n",
       "    }\n",
       "    fields {\n",
       "      key: \"V10\"\n",
       "      value {\n",
       "        number_value: -6.000200907389323e-06\n",
       "      }\n",
       "    }\n",
       "    fields {\n",
       "      key: \"V11\"\n",
       "      value {\n",
       "        number_value: 3.337860107421875e-05\n",
       "      }\n",
       "    }\n",
       "    fields {\n",
       "      key: \"V12\"\n",
       "      value {\n",
       "        number_value: 6.145901150173611e-06\n",
       "      }\n",
       "    }\n",
       "    fields {\n",
       "      key: \"V13\"\n",
       "      value {\n",
       "        number_value: -9.304947323269314e-06\n",
       "      }\n",
       "    }\n",
       "    fields {\n",
       "      key: \"V14\"\n",
       "      value {\n",
       "        number_value: -2.620617548624675e-05\n",
       "      }\n",
       "    }\n",
       "    fields {\n",
       "      key: \"V15\"\n",
       "      value {\n",
       "        number_value: -6.887647840711805e-07\n",
       "      }\n",
       "    }\n",
       "    fields {\n",
       "      key: \"V16\"\n",
       "      value {\n",
       "        number_value: -5.11275397406684e-06\n",
       "      }\n",
       "    }\n",
       "    fields {\n",
       "      key: \"V17\"\n",
       "      value {\n",
       "        number_value: -3.443823920355903e-06\n",
       "      }\n",
       "    }\n",
       "    fields {\n",
       "      key: \"V18\"\n",
       "      value {\n",
       "        number_value: 5.781650543212891e-06\n",
       "      }\n",
       "    }\n",
       "    fields {\n",
       "      key: \"V19\"\n",
       "      value {\n",
       "        number_value: -2.034505208333333e-05\n",
       "      }\n",
       "    }\n",
       "    fields {\n",
       "      key: \"V2\"\n",
       "      value {\n",
       "        number_value: 1.503361596001519e-06\n",
       "      }\n",
       "    }\n",
       "    fields {\n",
       "      key: \"V20\"\n",
       "      value {\n",
       "        number_value: -1.457002427842882e-07\n",
       "      }\n",
       "    }\n",
       "    fields {\n",
       "      key: \"V21\"\n",
       "      value {\n",
       "        number_value: 9.126133388943143e-06\n",
       "      }\n",
       "    }\n",
       "    fields {\n",
       "      key: \"V22\"\n",
       "      value {\n",
       "        number_value: -6.953875223795573e-06\n",
       "      }\n",
       "    }\n",
       "    fields {\n",
       "      key: \"V23\"\n",
       "      value {\n",
       "        number_value: 2.808041042751736e-06\n",
       "      }\n",
       "    }\n",
       "    fields {\n",
       "      key: \"V24\"\n",
       "      value {\n",
       "        number_value: -3.357728322347005e-06\n",
       "      }\n",
       "    }\n",
       "    fields {\n",
       "      key: \"V25\"\n",
       "      value {\n",
       "        number_value: -1.368257734510634e-05\n",
       "      }\n",
       "    }\n",
       "    fields {\n",
       "      key: \"V26\"\n",
       "      value {\n",
       "        number_value: 1.152356465657552e-06\n",
       "      }\n",
       "    }\n",
       "    fields {\n",
       "      key: \"V27\"\n",
       "      value {\n",
       "        number_value: 1.211298836602105e-05\n",
       "      }\n",
       "    }\n",
       "    fields {\n",
       "      key: \"V28\"\n",
       "      value {\n",
       "        number_value: -1.125865512424045e-07\n",
       "      }\n",
       "    }\n",
       "    fields {\n",
       "      key: \"V3\"\n",
       "      value {\n",
       "        number_value: 1.835160785251194e-05\n",
       "      }\n",
       "    }\n",
       "    fields {\n",
       "      key: \"V4\"\n",
       "      value {\n",
       "        number_value: -0.0001709394984775119\n",
       "      }\n",
       "    }\n",
       "    fields {\n",
       "      key: \"V5\"\n",
       "      value {\n",
       "        number_value: 3.708733452690972e-07\n",
       "      }\n",
       "    }\n",
       "    fields {\n",
       "      key: \"V6\"\n",
       "      value {\n",
       "        number_value: 3.907415601942274e-07\n",
       "      }\n",
       "    }\n",
       "    fields {\n",
       "      key: \"V7\"\n",
       "      value {\n",
       "        number_value: -3.131892946031359e-05\n",
       "      }\n",
       "    }\n",
       "    fields {\n",
       "      key: \"V8\"\n",
       "      value {\n",
       "        number_value: 6.225374009874132e-07\n",
       "      }\n",
       "    }\n",
       "    fields {\n",
       "      key: \"V9\"\n",
       "      value {\n",
       "        number_value: 3.227260377671984e-05\n",
       "      }\n",
       "    }\n",
       "    fields {\n",
       "      key: \"splits\"\n",
       "      value {\n",
       "        number_value: 1.10732184516059e-05\n",
       "      }\n",
       "    }\n",
       "  }\n",
       "}\n",
       "output_index: 0\n",
       "output_display_name: \"0\"\n",
       "approximation_error: 0.0049826675518549295\n",
       "output_name: \"scores\""
      ]
     },
     "execution_count": 32,
     "metadata": {},
     "output_type": "execute_result"
    }
   ],
   "source": [
    "explanation.explanations[0].attributions[0]"
   ]
  },
  {
   "cell_type": "markdown",
   "id": "3bb07f70",
   "metadata": {},
   "source": [
    "---\n",
    "## Remove Resources\n",
    "see notebook \"XX - Cleanup\""
   ]
  }
 ],
 "metadata": {
  "environment": {
   "name": "tf2-gpu.2-3.m79",
   "type": "gcloud",
   "uri": "gcr.io/deeplearning-platform-release/tf2-gpu.2-3:m79"
  },
  "kernelspec": {
   "display_name": "Python 3",
   "language": "python",
   "name": "python3"
  },
  "language_info": {
   "codemirror_mode": {
    "name": "ipython",
    "version": 3
   },
   "file_extension": ".py",
   "mimetype": "text/x-python",
   "name": "python",
   "nbconvert_exporter": "python",
   "pygments_lexer": "ipython3",
   "version": "3.7.10"
  }
 },
 "nbformat": 4,
 "nbformat_minor": 5
}
