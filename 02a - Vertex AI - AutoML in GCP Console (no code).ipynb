{
 "cells": [
  {
   "cell_type": "markdown",
   "id": "57568ace",
   "metadata": {},
   "source": [
    "# 02a - Vertex AI - AutoML in GCP Console (no code)\n",
    "Use Vertex AI from the GCP Console for a no-code approach building a custom model with AutoML and deploy it for predictions.\n",
    "\n",
    "**Prerequisites:**\n",
    "-  01 - BigQuery - Table Data Source\n",
    "\n",
    "**Overview:**\n",
    "-  Use the GCP Console > Vertex AI to\n",
    "   -  Create a Dataset\n",
    "      -  Pick data type and objective: Tabular, Regression/Classification\n",
    "      -  Link to BigQuery Table for source data\n",
    "   -  Create a Training Job\n",
    "      -  Select the Dataset\n",
    "      -  Objective = Classification with AutoML\n",
    "   -  Evaluate Model\n",
    "   -  Deploy Model to Endpoint\n",
    "   -  Create a Batch Prediction Job \n",
    "      -  Use the Model and write predictions to BigQuery\n",
    "\n",
    "**Resources:**\n",
    "-  [AutoML Tabular Training Job With GCP Console](https://cloud.google.com/vertex-ai/docs/training/automl-console#tabular)\n",
    "\n",
    "**Related Training:**\n",
    "-  [Tutorial for AutoML Tabular](https://cloud.google.com/vertex-ai/docs/tutorials/tabular-automl)\n",
    "-  todo\n"
   ]
  },
  {
   "cell_type": "markdown",
   "id": "7b403fef",
   "metadata": {},
   "source": [
    "---\n",
    "## Vertex AI - Conceptual Flow\n",
    "\n",
    "<img src=\"architectures/slides/02a_arch.png\">\n",
    "\n",
    "---\n",
    "## Vertex AI - Workflow\n",
    "\n",
    "<img src=\"architectures/slides/02a_console.png\">"
   ]
  },
  {
   "cell_type": "markdown",
   "id": "66e431d5",
   "metadata": {},
   "source": [
    "---\n",
    "## Create Dataset (link to BigQuery table)\n",
    "\n",
    "From the Console:\n",
    "- Go to Vertex AI\n",
    "- Selected `Datasets`\n",
    "- Select `CREATE DATASET`\n",
    "\n",
    "<img src=\"architectures/notebooks/02A_Screenshots/ds_1.png\">\n",
    "\n",
    "- Name the dataset `02a`\n",
    "- Select `Tabular` and `Regression/classification`\n",
    "    - [More on Model Types](https://cloud.google.com/vertex-ai/docs/start/automl-model-types)\n",
    "- Click `Create`\n",
    "\n",
    "<img src=\"architectures/notebooks/02A_Screenshots/ds_2.png\">\n",
    "\n",
    "- Under Select a data source pick `Select a table or view from BigQuery`\n",
    "- Enter the BigQuery path (or browse) to the prepped table created in notebook 01\n",
    "- Click `CONTINUE`\n",
    "\n",
    "<img src=\"architectures/notebooks/02A_Screenshots/ds_3.png\">\n",
    "\n",
    "- The `ANALYZE` tab for the dataset will be displayed for review:\n",
    "\n",
    "<img src=\"architectures/notebooks/02A_Screenshots/ds_4.png\">\n",
    "\n",
    "- Going back to the `Datasets` dashboard will display the registered dataset\n",
    "\n",
    "<img src=\"architectures/notebooks/02A_Screenshots/ds_5.png\">"
   ]
  },
  {
   "cell_type": "markdown",
   "id": "87433be1",
   "metadata": {},
   "source": [
    "---\n",
    "## Train Model with AutoML\n",
    "\n",
    "On The Vertex AI console, select `Training`:\n",
    "\n",
    "<img src=\"architectures/notebooks/02A_Screenshots/train_1.png\">\n",
    "\n",
    "Next to `Training` (near the top), select `CREATE`\n",
    "- For Dataset enter `02a`\n",
    "- For Objective make sure `Classification` is selected\n",
    "- Use `AutoML` for the method\n",
    "- Click `CONTINUE`\n",
    "\n",
    "<img src=\"architectures/notebooks/02A_Screenshots/train_2.png\">\n",
    "\n",
    "For `Model Details`:\n",
    "- Keep the default `Model name` which appends a datetime to the end of the dataset name\n",
    "- For `Target column` select the column to train predictions for\n",
    "- Expand `ADVANCED OPTIONS`:\n",
    "    - Select `Manual` for the Data split method\n",
    "    - Select the `splits` variables that was created in Notebook 01\n",
    "- Click `CONTINUE`\n",
    "\n",
    "<img src=\"architectures/notebooks/02A_Screenshots/train_3.png\">\n",
    "\n",
    "For `Training options`:\n",
    "- Click the `-` symbol next to any rows for variables that should be excluded from training, like the `transaction_id`\n",
    "- More on Adavanced Options:\n",
    "    - [Model Weights](https://cloud.google.com/vertex-ai/docs/datasets/prepare-tabular#weight)\n",
    "    - [Optimization Objectives](https://cloud.google.com/vertex-ai/docs/training/tabular-opt-obj)\n",
    "        - Pick AUC PR (Due to imbalance in Class)\n",
    "- Click `CONTINUE`\n",
    "\n",
    "<img src=\"architectures/notebooks/02A_Screenshots/train_4.png\">\n",
    "\n",
    "For `Compute and pricing`:\n",
    "- Enter a `Budget` of 1 node hour\n",
    "    - A guide for choosing the right amount of time can be found [here](https://cloud.google.com/vertex-ai/docs/training/automl-console#tabular): \n",
    "- Make sure `Enable early stopping` is toggled on\n",
    "- Click `START TRAINING`\n",
    "\n",
    "<img src=\"architectures/notebooks/02A_Screenshots/train_5.png\">\n",
    "\n",
    "Return to the Vertex AI console `Training` Menu:\n",
    "- Once the model completes training the name will be accompanied by a green check mark\n",
    "\n",
    "<img src=\"architectures/notebooks/02A_Screenshots/train_6.png\">"
   ]
  },
  {
   "cell_type": "markdown",
   "id": "1a962bf5",
   "metadata": {},
   "source": [
    "---\n",
    "## Model: Evaluate, Select, Deploy\n",
    "\n",
    "On the Vertex AI console, select `Models`\n",
    "\n",
    "<img src=\"architectures/notebooks/02A_Screenshots/model_1.png\">\n",
    "\n",
    "Select the model that was just trained - starts with `02a`:\n",
    "- This brings up the `EVALUATE` tab for the model\n",
    "\n",
    "<img src=\"architectures/notebooks/02A_Screenshots/model_2.png\">\n",
    "\n",
    "Select the tab labeled `DEPLOY & TEST`:\n",
    "\n",
    "<img src=\"architectures/notebooks/02A_Screenshots/model_3.png\">"
   ]
  },
  {
   "cell_type": "markdown",
   "id": "af28bd96",
   "metadata": {},
   "source": [
    "---\n",
    "## Endpoint\n",
    "\n",
    "While still on the Vetex AI `Models` section with the `DEPLOY & TEST` tab selected:\n",
    "- select `DEPLOY TO ENDPOINT`\n",
    "\n",
    "<img src=\"architectures/notebooks/02A_Screenshots/model_3.png\">\n",
    "\n",
    "In the `Deploy to endpoint` menus, complete `Define your endpoint`:\n",
    "- For Endpoint name use `02a`\n",
    "- keep defaults for location and Access\n",
    "- Select `CONTINUE`\n",
    "\n",
    "<img src=\"architectures/notebooks/02A_Screenshots/endpoint_1.png\">\n",
    "\n",
    "In the `Model settings` section:\n",
    "- Traffic split should be 100\n",
    "- minimum number of computes nodes is 1\n",
    "- keep the remaining default values for max nodes, scaling, logging and explainability\n",
    "- Select `CONTINUE`\n",
    "\n",
    "<img src=\"architectures/notebooks/02A_Screenshots/endpoint_2.png\">\n",
    "\n",
    "In the `Model monitoring` section:\n",
    "- Toggle `Enable model monitoring for this endpoint` on\n",
    "    - for monitoring job use the name `02a`\n",
    "    - use defaults for the other menue items\n",
    "- Select `CONTINUE`\n",
    "\n",
    "<img src=\"architectures/notebooks/02A_Screenshots/endpoint_3.png\">\n",
    "\n",
    "In the `Monitoring objectives` section:\n",
    "- Select `Prediction Drift Detection` under Monitoring objective\n",
    "- Select `DEPLOY`\n",
    "\n",
    "<img src=\"architectures/notebooks/02A_Screenshots/endpoint_4.png\">\n",
    "\n",
    "Once the model is done being deployed to the endpoint, click the `Endpoints` section of Vertex AI:\n",
    "- Select the endpoint that starts with `02a`\n",
    "- Review the endpoint dashboard for the deployed model\n",
    "\n",
    "<img src=\"architectures/notebooks/02A_Screenshots/endpoint_5.png\">\n"
   ]
  },
  {
   "cell_type": "markdown",
   "id": "4066f242",
   "metadata": {},
   "source": [
    "---\n",
    "## Batch\n",
    "\n",
    "In the Verex AI console select the `Batch predictions` section:\n",
    "\n",
    "<img src=\"architectures/notebooks/02A_Screenshots/batch_1.png\">\n",
    "\n",
    "Select `Create`:\n",
    "- name the prediction `02a`\n",
    "- for model name select the model that starts with `02a`\n",
    "- for Select source, pick BigQuery table\n",
    "- provide the location of the BigQuery source table\n",
    "- for storage location pick output format of BigQuery\n",
    "- provide the project for output in BigQuery\n",
    "- select `Generate feature importance`\n",
    "- select `Enable feature attributions for this model`\n",
    "- select `CREATE`\n",
    "\n",
    "<img src=\"architectures/notebooks/02A_Screenshots/batch_2.png\">\n",
    "\n",
    "Once the batch prediction job completes it will be listed with a green checkmark under `Batch Predictions`\n",
    "\n",
    "<img src=\"architectures/notebooks/02A_Screenshots/batch_3.png\">\n",
    "\n",
    "Selecting the batch prediction job that starts with `02a` bring up the details of the prediction job\n",
    "\n",
    "<img src=\"architectures/notebooks/02A_Screenshots/batch_4.png\">\n",
    "\n",
    "Select the linked BigQuery output table next to `Export location`:\n",
    "\n",
    "<img src=\"architectures/notebooks/02A_Screenshots/batch_5.png\">"
   ]
  },
  {
   "cell_type": "markdown",
   "id": "33a23c17",
   "metadata": {},
   "source": [
    "---\n",
    "## Prediction"
   ]
  },
  {
   "cell_type": "markdown",
   "id": "a42e6c09",
   "metadata": {},
   "source": [
    "inputs:"
   ]
  },
  {
   "cell_type": "code",
   "execution_count": 1,
   "id": "190ee41c",
   "metadata": {},
   "outputs": [],
   "source": [
    "REGION = 'us-central1'\n",
    "PROJECT_ID='statmike-mlops'\n",
    "DATANAME = 'fraud'\n",
    "NOTEBOOK = '02a'\n",
    "\n",
    "# Model Training\n",
    "VAR_TARGET = 'Class'\n",
    "VAR_OMIT = 'transaction_id' # add more variables to the string with space delimiters"
   ]
  },
  {
   "cell_type": "markdown",
   "id": "352e4abd",
   "metadata": {},
   "source": [
    "packages:"
   ]
  },
  {
   "cell_type": "code",
   "execution_count": 2,
   "id": "b08e72b7",
   "metadata": {},
   "outputs": [],
   "source": [
    "from google.cloud import aiplatform\n",
    "\n",
    "from google.cloud import bigquery\n",
    "from google.protobuf import json_format\n",
    "from google.protobuf.struct_pb2 import Value\n",
    "import json\n",
    "import numpy as np"
   ]
  },
  {
   "cell_type": "markdown",
   "id": "1b34f1cc",
   "metadata": {},
   "source": [
    "clients:"
   ]
  },
  {
   "cell_type": "code",
   "execution_count": 3,
   "id": "11e140b6",
   "metadata": {},
   "outputs": [],
   "source": [
    "aiplatform.init(project=PROJECT_ID, location=REGION)\n",
    "bigquery = bigquery.Client()"
   ]
  },
  {
   "cell_type": "markdown",
   "id": "50990d52",
   "metadata": {},
   "source": [
    "parameters:"
   ]
  },
  {
   "cell_type": "code",
   "execution_count": 4,
   "id": "fb5ea95d",
   "metadata": {},
   "outputs": [],
   "source": [
    "DIR = f\"temp/{NOTEBOOK}\""
   ]
  },
  {
   "cell_type": "markdown",
   "id": "51d88337",
   "metadata": {},
   "source": [
    "environment:"
   ]
  },
  {
   "cell_type": "code",
   "execution_count": 5,
   "id": "71d83e04",
   "metadata": {},
   "outputs": [],
   "source": [
    "!rm -rf {DIR}\n",
    "!mkdir -p {DIR}"
   ]
  },
  {
   "cell_type": "markdown",
   "id": "e48165db",
   "metadata": {},
   "source": [
    "### Prepare a record for prediction: instance and parameters lists"
   ]
  },
  {
   "cell_type": "code",
   "execution_count": 6,
   "id": "4f3de847",
   "metadata": {},
   "outputs": [],
   "source": [
    "pred = bigquery.query(query = f\"SELECT * FROM {DATANAME}.{DATANAME}_prepped WHERE splits='TEST' LIMIT 10\").to_dataframe()"
   ]
  },
  {
   "cell_type": "code",
   "execution_count": 7,
   "id": "21148cfb",
   "metadata": {},
   "outputs": [
    {
     "data": {
      "text/html": [
       "<div>\n",
       "<style scoped>\n",
       "    .dataframe tbody tr th:only-of-type {\n",
       "        vertical-align: middle;\n",
       "    }\n",
       "\n",
       "    .dataframe tbody tr th {\n",
       "        vertical-align: top;\n",
       "    }\n",
       "\n",
       "    .dataframe thead th {\n",
       "        text-align: right;\n",
       "    }\n",
       "</style>\n",
       "<table border=\"1\" class=\"dataframe\">\n",
       "  <thead>\n",
       "    <tr style=\"text-align: right;\">\n",
       "      <th></th>\n",
       "      <th>Time</th>\n",
       "      <th>V1</th>\n",
       "      <th>V2</th>\n",
       "      <th>V3</th>\n",
       "      <th>V4</th>\n",
       "      <th>V5</th>\n",
       "      <th>V6</th>\n",
       "      <th>V7</th>\n",
       "      <th>V8</th>\n",
       "      <th>V9</th>\n",
       "      <th>...</th>\n",
       "      <th>V23</th>\n",
       "      <th>V24</th>\n",
       "      <th>V25</th>\n",
       "      <th>V26</th>\n",
       "      <th>V27</th>\n",
       "      <th>V28</th>\n",
       "      <th>Amount</th>\n",
       "      <th>Class</th>\n",
       "      <th>transaction_id</th>\n",
       "      <th>splits</th>\n",
       "    </tr>\n",
       "  </thead>\n",
       "  <tbody>\n",
       "    <tr>\n",
       "      <th>0</th>\n",
       "      <td>46100</td>\n",
       "      <td>0.971963</td>\n",
       "      <td>-0.064002</td>\n",
       "      <td>1.864457</td>\n",
       "      <td>2.521220</td>\n",
       "      <td>-0.700822</td>\n",
       "      <td>1.660426</td>\n",
       "      <td>-1.206327</td>\n",
       "      <td>0.717368</td>\n",
       "      <td>0.170900</td>\n",
       "      <td>...</td>\n",
       "      <td>-0.005019</td>\n",
       "      <td>-0.259129</td>\n",
       "      <td>0.152646</td>\n",
       "      <td>0.207666</td>\n",
       "      <td>0.093585</td>\n",
       "      <td>0.022994</td>\n",
       "      <td>0.0</td>\n",
       "      <td>0</td>\n",
       "      <td>3eddd943-117e-4ba9-a09b-c0e2fe8c5647</td>\n",
       "      <td>TEST</td>\n",
       "    </tr>\n",
       "    <tr>\n",
       "      <th>1</th>\n",
       "      <td>80430</td>\n",
       "      <td>-0.929700</td>\n",
       "      <td>0.194664</td>\n",
       "      <td>1.549227</td>\n",
       "      <td>1.693430</td>\n",
       "      <td>1.038639</td>\n",
       "      <td>-0.214545</td>\n",
       "      <td>-0.032843</td>\n",
       "      <td>0.248009</td>\n",
       "      <td>-0.598265</td>\n",
       "      <td>...</td>\n",
       "      <td>0.263542</td>\n",
       "      <td>-0.060427</td>\n",
       "      <td>-1.227930</td>\n",
       "      <td>-0.634669</td>\n",
       "      <td>0.062523</td>\n",
       "      <td>0.343741</td>\n",
       "      <td>0.0</td>\n",
       "      <td>0</td>\n",
       "      <td>8f25f7a0-63a0-4a7b-a0de-cdebe813ccee</td>\n",
       "      <td>TEST</td>\n",
       "    </tr>\n",
       "    <tr>\n",
       "      <th>2</th>\n",
       "      <td>123919</td>\n",
       "      <td>1.890586</td>\n",
       "      <td>0.271313</td>\n",
       "      <td>-0.157228</td>\n",
       "      <td>4.064907</td>\n",
       "      <td>-0.109914</td>\n",
       "      <td>0.150175</td>\n",
       "      <td>-0.230044</td>\n",
       "      <td>0.061367</td>\n",
       "      <td>-0.119159</td>\n",
       "      <td>...</td>\n",
       "      <td>0.092487</td>\n",
       "      <td>0.030498</td>\n",
       "      <td>0.074608</td>\n",
       "      <td>0.134964</td>\n",
       "      <td>-0.008043</td>\n",
       "      <td>-0.048927</td>\n",
       "      <td>0.0</td>\n",
       "      <td>0</td>\n",
       "      <td>a0da598e-391b-4b9b-a0ba-f8977d0b43b0</td>\n",
       "      <td>TEST</td>\n",
       "    </tr>\n",
       "    <tr>\n",
       "      <th>3</th>\n",
       "      <td>141191</td>\n",
       "      <td>-2.857621</td>\n",
       "      <td>-0.307727</td>\n",
       "      <td>1.521266</td>\n",
       "      <td>4.500119</td>\n",
       "      <td>1.812809</td>\n",
       "      <td>2.276221</td>\n",
       "      <td>-0.425395</td>\n",
       "      <td>0.895603</td>\n",
       "      <td>-1.564402</td>\n",
       "      <td>...</td>\n",
       "      <td>1.374592</td>\n",
       "      <td>-1.723268</td>\n",
       "      <td>0.127809</td>\n",
       "      <td>0.207510</td>\n",
       "      <td>-0.082130</td>\n",
       "      <td>-0.009999</td>\n",
       "      <td>0.0</td>\n",
       "      <td>0</td>\n",
       "      <td>7159db57-0ebd-4b99-a1b4-de6996ae0bd7</td>\n",
       "      <td>TEST</td>\n",
       "    </tr>\n",
       "  </tbody>\n",
       "</table>\n",
       "<p>4 rows × 33 columns</p>\n",
       "</div>"
      ],
      "text/plain": [
       "     Time        V1        V2        V3        V4        V5        V6  \\\n",
       "0   46100  0.971963 -0.064002  1.864457  2.521220 -0.700822  1.660426   \n",
       "1   80430 -0.929700  0.194664  1.549227  1.693430  1.038639 -0.214545   \n",
       "2  123919  1.890586  0.271313 -0.157228  4.064907 -0.109914  0.150175   \n",
       "3  141191 -2.857621 -0.307727  1.521266  4.500119  1.812809  2.276221   \n",
       "\n",
       "         V7        V8        V9  ...       V23       V24       V25       V26  \\\n",
       "0 -1.206327  0.717368  0.170900  ... -0.005019 -0.259129  0.152646  0.207666   \n",
       "1 -0.032843  0.248009 -0.598265  ...  0.263542 -0.060427 -1.227930 -0.634669   \n",
       "2 -0.230044  0.061367 -0.119159  ...  0.092487  0.030498  0.074608  0.134964   \n",
       "3 -0.425395  0.895603 -1.564402  ...  1.374592 -1.723268  0.127809  0.207510   \n",
       "\n",
       "        V27       V28  Amount  Class                        transaction_id  \\\n",
       "0  0.093585  0.022994     0.0      0  3eddd943-117e-4ba9-a09b-c0e2fe8c5647   \n",
       "1  0.062523  0.343741     0.0      0  8f25f7a0-63a0-4a7b-a0de-cdebe813ccee   \n",
       "2 -0.008043 -0.048927     0.0      0  a0da598e-391b-4b9b-a0ba-f8977d0b43b0   \n",
       "3 -0.082130 -0.009999     0.0      0  7159db57-0ebd-4b99-a1b4-de6996ae0bd7   \n",
       "\n",
       "   splits  \n",
       "0    TEST  \n",
       "1    TEST  \n",
       "2    TEST  \n",
       "3    TEST  \n",
       "\n",
       "[4 rows x 33 columns]"
      ]
     },
     "execution_count": 7,
     "metadata": {},
     "output_type": "execute_result"
    }
   ],
   "source": [
    "pred.head(4)"
   ]
  },
  {
   "cell_type": "code",
   "execution_count": 8,
   "id": "15bb1d02",
   "metadata": {},
   "outputs": [],
   "source": [
    "#newob = pred[pred.columns[~pred.columns.isin(VAR_OMIT.split()+[VAR_TARGET, 'splits'])]].to_dict(orient='records')[0]\n",
    "newob = pred[pred.columns[~pred.columns.isin(VAR_OMIT.split()+[VAR_TARGET])]].to_dict(orient='records')[0]\n",
    "#newob"
   ]
  },
  {
   "cell_type": "markdown",
   "id": "5b438694",
   "metadata": {},
   "source": [
    "Need to understand the format of variables that the predictions expect.  AutoML may convert the type of some variables. The following cells retrieve the model from the endpoint and its schemata:"
   ]
  },
  {
   "cell_type": "code",
   "execution_count": 9,
   "id": "fc8f7bb2",
   "metadata": {},
   "outputs": [],
   "source": [
    "newob['Time'] = str(newob['Time'])"
   ]
  },
  {
   "cell_type": "code",
   "execution_count": 10,
   "id": "e89923ef",
   "metadata": {},
   "outputs": [],
   "source": [
    "instances = [json_format.ParseDict(newob, Value())]\n",
    "parameters = json_format.ParseDict({}, Value())"
   ]
  },
  {
   "cell_type": "markdown",
   "id": "e671a9a5",
   "metadata": {},
   "source": [
    "### Get Predictions: Python Client"
   ]
  },
  {
   "cell_type": "code",
   "execution_count": 11,
   "id": "072f0a6f",
   "metadata": {},
   "outputs": [
    {
     "data": {
      "text/plain": [
       "'02a'"
      ]
     },
     "execution_count": 11,
     "metadata": {},
     "output_type": "execute_result"
    }
   ],
   "source": [
    "endpoint = aiplatform.Endpoint.list(filter=f'display_name={NOTEBOOK}')[0]\n",
    "endpoint.display_name"
   ]
  },
  {
   "cell_type": "code",
   "execution_count": 12,
   "id": "b775c99f",
   "metadata": {},
   "outputs": [
    {
     "data": {
      "text/plain": [
       "Prediction(predictions=[{'classes': ['0', '1'], 'scores': [0.9989382028579712, 0.001061751274392009]}], deployed_model_id='6280067370228645888', explanations=None)"
      ]
     },
     "execution_count": 12,
     "metadata": {},
     "output_type": "execute_result"
    }
   ],
   "source": [
    "prediction = endpoint.predict(instances=instances, parameters=parameters)\n",
    "prediction"
   ]
  },
  {
   "cell_type": "code",
   "execution_count": 13,
   "id": "1e716973",
   "metadata": {},
   "outputs": [
    {
     "data": {
      "text/plain": [
       "'0'"
      ]
     },
     "execution_count": 13,
     "metadata": {},
     "output_type": "execute_result"
    }
   ],
   "source": [
    "prediction.predictions[0]['classes'][np.argmax(prediction.predictions[0]['scores'])]"
   ]
  },
  {
   "cell_type": "markdown",
   "id": "a0c157f2",
   "metadata": {},
   "source": [
    "### Get Predictions: REST"
   ]
  },
  {
   "cell_type": "code",
   "execution_count": 14,
   "id": "28b310ce",
   "metadata": {},
   "outputs": [],
   "source": [
    "with open(f'{DIR}/request.json','w') as file:\n",
    "    file.write(json.dumps({\"instances\": [newob]}))"
   ]
  },
  {
   "cell_type": "code",
   "execution_count": 15,
   "id": "2041f335",
   "metadata": {},
   "outputs": [
    {
     "name": "stdout",
     "output_type": "stream",
     "text": [
      "{\n",
      "  \"predictions\": [\n",
      "    {\n",
      "      \"classes\": [\n",
      "        \"0\",\n",
      "        \"1\"\n",
      "      ],\n",
      "      \"scores\": [\n",
      "        0.99893820285797119,\n",
      "        0.001061751274392009\n",
      "      ]\n",
      "    }\n",
      "  ],\n",
      "  \"deployedModelId\": \"6280067370228645888\"\n",
      "}\n"
     ]
    }
   ],
   "source": [
    "!curl -X POST \\\n",
    "-H \"Authorization: Bearer \"$(gcloud auth application-default print-access-token) \\\n",
    "-H \"Content-Type: application/json; charset=utf-8\" \\\n",
    "-d @{DIR}/request.json \\\n",
    "https://{REGION}-aiplatform.googleapis.com/v1/{endpoint.resource_name}:predict"
   ]
  },
  {
   "cell_type": "markdown",
   "id": "71bd36ef",
   "metadata": {},
   "source": [
    "### Get Predictions: gcloud (CLI)"
   ]
  },
  {
   "cell_type": "code",
   "execution_count": 16,
   "id": "ad4befbd",
   "metadata": {},
   "outputs": [
    {
     "name": "stdout",
     "output_type": "stream",
     "text": [
      "Using endpoint [https://us-central1-prediction-aiplatform.googleapis.com/]\n",
      "[{'classes': ['0', '1'], 'scores': [0.9989382028579712, 0.001061751274392009]}]\n"
     ]
    }
   ],
   "source": [
    "!gcloud beta ai endpoints predict {endpoint.name.rsplit('/',1)[-1]} --region={REGION} --json-request={DIR}/request.json"
   ]
  },
  {
   "cell_type": "markdown",
   "id": "030bbd84",
   "metadata": {},
   "source": [
    "---\n",
    "## Explanations\n",
    "Interpretation Guide\n",
    "- https://cloud.google.com/vertex-ai/docs/predictions/interpreting-results-automl#tabular"
   ]
  },
  {
   "cell_type": "code",
   "execution_count": 17,
   "id": "81348d83",
   "metadata": {},
   "outputs": [],
   "source": [
    "explanation = endpoint.explain(instances=instances, parameters=parameters)"
   ]
  },
  {
   "cell_type": "code",
   "execution_count": 18,
   "id": "a2e142ff",
   "metadata": {},
   "outputs": [
    {
     "data": {
      "text/plain": [
       "[{'scores': [0.9989382028579712, 0.001061751274392009], 'classes': ['0', '1']}]"
      ]
     },
     "execution_count": 18,
     "metadata": {},
     "output_type": "execute_result"
    }
   ],
   "source": [
    "explanation.predictions"
   ]
  },
  {
   "cell_type": "code",
   "execution_count": 19,
   "id": "33621b6f",
   "metadata": {},
   "outputs": [
    {
     "name": "stdout",
     "output_type": "stream",
     "text": [
      "attribution:\n",
      "baseline output 0.9885345101356506\n",
      "instance output 0.9989382028579712\n",
      "output_index [0]\n",
      "output display value 0\n",
      "approximation error 0.014094694411026211\n"
     ]
    }
   ],
   "source": [
    "print(\"attribution:\")\n",
    "print(\"baseline output\",explanation.explanations[0].attributions[0].baseline_output_value)\n",
    "print(\"instance output\",explanation.explanations[0].attributions[0].instance_output_value)\n",
    "print(\"output_index\",explanation.explanations[0].attributions[0].output_index)\n",
    "print(\"output display value\",explanation.explanations[0].attributions[0].output_display_name)\n",
    "print(\"approximation error\",explanation.explanations[0].attributions[0].approximation_error)"
   ]
  },
  {
   "cell_type": "code",
   "execution_count": 20,
   "id": "21c108f0",
   "metadata": {},
   "outputs": [
    {
     "data": {
      "text/plain": [
       "baseline_output_value: 0.9885345101356506\n",
       "instance_output_value: 0.9989382028579712\n",
       "feature_attributions {\n",
       "  struct_value {\n",
       "    fields {\n",
       "      key: \"Amount\"\n",
       "      value {\n",
       "        number_value: -0.0002703732914394803\n",
       "      }\n",
       "    }\n",
       "    fields {\n",
       "      key: \"Time\"\n",
       "      value {\n",
       "        number_value: -9.998348024156358e-05\n",
       "      }\n",
       "    }\n",
       "    fields {\n",
       "      key: \"V1\"\n",
       "      value {\n",
       "        number_value: 0.001893440882364909\n",
       "      }\n",
       "    }\n",
       "    fields {\n",
       "      key: \"V10\"\n",
       "      value {\n",
       "        number_value: 0.0004069407780965169\n",
       "      }\n",
       "    }\n",
       "    fields {\n",
       "      key: \"V11\"\n",
       "      value {\n",
       "        number_value: -0.001008821858300103\n",
       "      }\n",
       "    }\n",
       "    fields {\n",
       "      key: \"V12\"\n",
       "      value {\n",
       "        number_value: 0.003252426783243815\n",
       "      }\n",
       "    }\n",
       "    fields {\n",
       "      key: \"V13\"\n",
       "      value {\n",
       "        number_value: -7.198916541205512e-06\n",
       "      }\n",
       "    }\n",
       "    fields {\n",
       "      key: \"V14\"\n",
       "      value {\n",
       "        number_value: -0.0009798407554626465\n",
       "      }\n",
       "    }\n",
       "    fields {\n",
       "      key: \"V15\"\n",
       "      value {\n",
       "        number_value: 0.0006989969147576226\n",
       "      }\n",
       "    }\n",
       "    fields {\n",
       "      key: \"V16\"\n",
       "      value {\n",
       "        number_value: 0.001121474636925591\n",
       "      }\n",
       "    }\n",
       "    fields {\n",
       "      key: \"V17\"\n",
       "      value {\n",
       "        number_value: -4.151132371690538e-05\n",
       "      }\n",
       "    }\n",
       "    fields {\n",
       "      key: \"V18\"\n",
       "      value {\n",
       "        number_value: 2.774927351209852e-05\n",
       "      }\n",
       "    }\n",
       "    fields {\n",
       "      key: \"V19\"\n",
       "      value {\n",
       "        number_value: -0.0002884732352362738\n",
       "      }\n",
       "    }\n",
       "    fields {\n",
       "      key: \"V2\"\n",
       "      value {\n",
       "        number_value: 0.0007063878907097711\n",
       "      }\n",
       "    }\n",
       "    fields {\n",
       "      key: \"V20\"\n",
       "      value {\n",
       "        number_value: -6.639295154147678e-05\n",
       "      }\n",
       "    }\n",
       "    fields {\n",
       "      key: \"V21\"\n",
       "      value {\n",
       "        number_value: -0.0003679394721984863\n",
       "      }\n",
       "    }\n",
       "    fields {\n",
       "      key: \"V22\"\n",
       "      value {\n",
       "        number_value: -0.0008476972579956055\n",
       "      }\n",
       "    }\n",
       "    fields {\n",
       "      key: \"V23\"\n",
       "      value {\n",
       "        number_value: 1.343091328938802e-05\n",
       "      }\n",
       "    }\n",
       "    fields {\n",
       "      key: \"V24\"\n",
       "      value {\n",
       "        number_value: 0.0001439717080858019\n",
       "      }\n",
       "    }\n",
       "    fields {\n",
       "      key: \"V25\"\n",
       "      value {\n",
       "        number_value: 6.896919674343533e-05\n",
       "      }\n",
       "    }\n",
       "    fields {\n",
       "      key: \"V26\"\n",
       "      value {\n",
       "        number_value: 5.376338958740234e-05\n",
       "      }\n",
       "    }\n",
       "    fields {\n",
       "      key: \"V27\"\n",
       "      value {\n",
       "        number_value: 0.0001098513603210449\n",
       "      }\n",
       "    }\n",
       "    fields {\n",
       "      key: \"V28\"\n",
       "      value {\n",
       "        number_value: 1.829862594604492e-05\n",
       "      }\n",
       "    }\n",
       "    fields {\n",
       "      key: \"V3\"\n",
       "      value {\n",
       "        number_value: 0.006676263279385037\n",
       "      }\n",
       "    }\n",
       "    fields {\n",
       "      key: \"V4\"\n",
       "      value {\n",
       "        number_value: -0.005914502673678928\n",
       "      }\n",
       "    }\n",
       "    fields {\n",
       "      key: \"V5\"\n",
       "      value {\n",
       "        number_value: 0.0003817478815714518\n",
       "      }\n",
       "    }\n",
       "    fields {\n",
       "      key: \"V6\"\n",
       "      value {\n",
       "        number_value: 0.0001805623372395833\n",
       "      }\n",
       "    }\n",
       "    fields {\n",
       "      key: \"V7\"\n",
       "      value {\n",
       "        number_value: -0.0004730290836758084\n",
       "      }\n",
       "    }\n",
       "    fields {\n",
       "      key: \"V8\"\n",
       "      value {\n",
       "        number_value: 0.004967212677001953\n",
       "      }\n",
       "    }\n",
       "    fields {\n",
       "      key: \"V9\"\n",
       "      value {\n",
       "        number_value: 4.79684935675727e-05\n",
       "      }\n",
       "    }\n",
       "  }\n",
       "}\n",
       "output_index: 0\n",
       "output_display_name: \"0\"\n",
       "approximation_error: 0.014094694411026211\n",
       "output_name: \"scores\""
      ]
     },
     "execution_count": 20,
     "metadata": {},
     "output_type": "execute_result"
    }
   ],
   "source": [
    "explanation.explanations[0].attributions[0]"
   ]
  },
  {
   "cell_type": "markdown",
   "id": "3bb07f70",
   "metadata": {},
   "source": [
    "---\n",
    "## Remove Resources\n",
    "see notebook \"99 - Cleanup\""
   ]
  }
 ],
 "metadata": {
  "environment": {
   "kernel": "python3",
   "name": "tf2-gpu.2-3.m86",
   "type": "gcloud",
   "uri": "gcr.io/deeplearning-platform-release/tf2-gpu.2-3:m86"
  },
  "kernelspec": {
   "display_name": "Python 3",
   "language": "python",
   "name": "python3"
  },
  "language_info": {
   "codemirror_mode": {
    "name": "ipython",
    "version": 3
   },
   "file_extension": ".py",
   "mimetype": "text/x-python",
   "name": "python",
   "nbconvert_exporter": "python",
   "pygments_lexer": "ipython3",
   "version": "3.7.12"
  }
 },
 "nbformat": 4,
 "nbformat_minor": 5
}
