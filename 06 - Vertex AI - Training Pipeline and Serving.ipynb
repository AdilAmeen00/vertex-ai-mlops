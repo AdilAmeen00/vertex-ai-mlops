{
 "cells": [
  {
   "cell_type": "markdown",
   "id": "1459d7bd",
   "metadata": {},
   "source": [
    "# Vertex AI - Pipeline for Training and Serving\n",
    "\n",
    "This notebook creates a python package for a TensorFlow training project that uses the `<PROJECT_ID>.digits.digits_prepped` BigQuery table. Vertex AI clients are used to setup a Vertex AI custom training pipeline that runs the training job and uploads the resulting model.  Then Vertex AI clients are used to deploy the model to an endpoint for online predictions.\n",
    "\n",
    "**Prerequisites**\n",
    "- `00 - Initial Setup`\n",
    "- `01 - BigQuery - Data`\n",
    "- `05 - Vertex AI - Training Job and Serving` \n",
    "    - this notebook uses the python package created in 05\n",
    "    \n",
    "**Resources**\n",
    "- Based on:\n",
    "    - https://cloud.google.com/ai-platform-unified/docs/training/create-training-pipeline#custom-job-model-upload\n",
    "- Using PipelineService:\n",
    "    - https://googleapis.dev/python/aiplatform/latest/aiplatform_v1beta1/pipeline_service.html\n",
    "\n",
    "**Overview**\n",
    "\n",
    "<img src=\"architectures/statmike-mlops-06.png\">"
   ]
  },
  {
   "cell_type": "markdown",
   "id": "ff426642",
   "metadata": {},
   "source": [
    "---\n",
    "## Setup"
   ]
  },
  {
   "cell_type": "markdown",
   "id": "22a088de",
   "metadata": {},
   "source": [
    "Setup the environment:"
   ]
  },
  {
   "cell_type": "code",
   "execution_count": 1,
   "id": "df976b26",
   "metadata": {},
   "outputs": [],
   "source": [
    "from google.cloud import aiplatform\n",
    "from google.protobuf import json_format\n",
    "from google.protobuf.struct_pb2 import Value\n",
    "from datetime import datetime"
   ]
  },
  {
   "cell_type": "markdown",
   "id": "becd2914",
   "metadata": {},
   "source": [
    "Define Parameters:"
   ]
  },
  {
   "cell_type": "code",
   "execution_count": 2,
   "id": "b932a4d3",
   "metadata": {},
   "outputs": [],
   "source": [
    "# Locations\n",
    "REGION = 'us-central1'\n",
    "PROJECT_ID='statmike-mlops'\n",
    "BUCKET_NAME='gs://{}/digits/model/05_aip_train_job'.format(PROJECT_ID)\n",
    "TIMESTAMP = datetime.now().strftime(\"%Y%m%d%H%M%S\")\n",
    "JOB_NAME='06_AIP_DIGITS_'+TIMESTAMP\n",
    "MODEL_DIR = '{}/{}'.format(BUCKET_NAME, JOB_NAME)\n",
    "PARENT = \"projects/\" + PROJECT_ID + \"/locations/\" + REGION\n",
    "\n",
    "# Resources\n",
    "TRAIN_IMAGE='us-docker.pkg.dev/cloud-aiplatform/training/tf-cpu.2-4:latest'\n",
    "DEPLOY_IMAGE ='us-docker.pkg.dev/cloud-aiplatform/prediction/tf2-cpu.2-3:latest'\n",
    "TRAIN_COMPUTE='n1-standard-4'\n",
    "DEPLOY_COMPUTE='n1-standard-4'\n",
    "\n",
    "# TF Parameters to pass\n",
    "EPOCHS = 25\n",
    "BATCH_SIZE = 30"
   ]
  },
  {
   "cell_type": "markdown",
   "id": "13c8f8c3",
   "metadata": {},
   "source": [
    "Setup AI Platform Python Clients\n",
    "- https://googleapis.dev/python/aiplatform/latest/index.html"
   ]
  },
  {
   "cell_type": "code",
   "execution_count": 3,
   "id": "38cc37df",
   "metadata": {},
   "outputs": [],
   "source": [
    "API_ENDPOINT = \"{}-aiplatform.googleapis.com\".format(REGION)\n",
    "client_options = {\"api_endpoint\": API_ENDPOINT}\n",
    "clients = {}"
   ]
  },
  {
   "cell_type": "markdown",
   "id": "85fa6a1a",
   "metadata": {},
   "source": [
    "---\n",
    "## Custom Pipeline Job"
   ]
  },
  {
   "cell_type": "markdown",
   "id": "1c15c17b",
   "metadata": {},
   "source": [
    "Create a client for the AIP Pipeline Service:"
   ]
  },
  {
   "cell_type": "code",
   "execution_count": 4,
   "id": "7823d07d",
   "metadata": {},
   "outputs": [],
   "source": [
    "clients['pipeline'] = aiplatform.gapic.PipelineServiceClient(client_options=client_options)"
   ]
  },
  {
   "cell_type": "markdown",
   "id": "7210f238",
   "metadata": {},
   "source": [
    "Define Training Job Parameters - to match the yaml spec in\n",
    "- `gs://google-cloud-aiplatform/schema/trainingjob/definition/custom_task_1.0.0.yaml`"
   ]
  },
  {
   "cell_type": "code",
   "execution_count": 5,
   "id": "230c6c75",
   "metadata": {},
   "outputs": [],
   "source": [
    "MACHINE_SPEC = {\n",
    "    \"machineType\": TRAIN_COMPUTE,\n",
    "    \"acceleratorCount\": 0\n",
    "}\n",
    "\n",
    "\n",
    "CMDARGS = [\n",
    "    \"--epochs=\" + str(EPOCHS),\n",
    "    \"--batch_size=\" + str(BATCH_SIZE)\n",
    "]\n",
    "\n",
    "WORKER_POOL_SPEC = [\n",
    "    {\n",
    "        \"replicaCount\": 1,\n",
    "        \"machineSpec\": MACHINE_SPEC,\n",
    "        \"pythonPackageSpec\": {\n",
    "            \"executorImageUri\": TRAIN_IMAGE,\n",
    "            \"packageUris\": [BUCKET_NAME + \"/trainer_cifar.tar.gz\"],\n",
    "            \"pythonModule\": \"trainer.task\",\n",
    "            \"args\": CMDARGS\n",
    "        }\n",
    "    }\n",
    "]\n",
    "\n",
    "JOB_SPEC = {\n",
    "    \"workerPoolSpecs\": WORKER_POOL_SPEC,\n",
    "    \"baseOutputDirectory\": {\"outputUriPrefix\": MODEL_DIR}\n",
    "    \n",
    "}\n",
    "\n",
    "CUSTOM_JOB = {\n",
    "    \"display_name\": JOB_NAME,\n",
    "    \"job_spec\": JOB_SPEC\n",
    "}"
   ]
  },
  {
   "cell_type": "markdown",
   "id": "56451ecb",
   "metadata": {},
   "source": [
    "Define Training Pipeline Parameters:"
   ]
  },
  {
   "cell_type": "code",
   "execution_count": 6,
   "id": "e8c274bd",
   "metadata": {},
   "outputs": [],
   "source": [
    "training_task_definition = \"gs://google-cloud-aiplatform/schema/trainingjob/definition/custom_task_1.0.0.yaml\"\n",
    "training_task_inputs = json_format.ParseDict(JOB_SPEC, Value())\n",
    "\n",
    "training_pipeline = {\n",
    "    \"display_name\": JOB_NAME,\n",
    "    \"training_task_definition\": training_task_definition,\n",
    "    \"training_task_inputs\": training_task_inputs,\n",
    "    \"model_to_upload\": {\n",
    "        \"display_name\": JOB_NAME,\n",
    "        \"container_spec\": {\"image_uri\": DEPLOY_IMAGE},\n",
    "    },\n",
    "}"
   ]
  },
  {
   "cell_type": "markdown",
   "id": "6f16874b",
   "metadata": {},
   "source": [
    "Submit pipeline job:\n",
    "- this create a pipeline job\n",
    "    - which create a custom training job\n",
    "    - and when complete, uploads a model"
   ]
  },
  {
   "cell_type": "code",
   "execution_count": 7,
   "id": "82082d8b",
   "metadata": {},
   "outputs": [],
   "source": [
    "pipeline = clients['pipeline'].create_training_pipeline(parent=PARENT, training_pipeline=training_pipeline)"
   ]
  },
  {
   "cell_type": "code",
   "execution_count": 10,
   "id": "8472a7aa",
   "metadata": {},
   "outputs": [
    {
     "data": {
      "text/plain": [
       "<PipelineState.PIPELINE_STATE_SUCCEEDED: 4>"
      ]
     },
     "execution_count": 10,
     "metadata": {},
     "output_type": "execute_result"
    }
   ],
   "source": [
    "clients['pipeline'].get_training_pipeline(name=pipeline.name).state"
   ]
  },
  {
   "cell_type": "code",
   "execution_count": 11,
   "id": "03dfbb8a",
   "metadata": {},
   "outputs": [
    {
     "data": {
      "text/plain": [
       "'projects/691911073727/locations/us-central1/models/6801429395840958464'"
      ]
     },
     "execution_count": 11,
     "metadata": {},
     "output_type": "execute_result"
    }
   ],
   "source": [
    "clients['pipeline'].get_training_pipeline(name=pipeline.name).model_to_upload.name"
   ]
  },
  {
   "cell_type": "markdown",
   "id": "85f34a8e",
   "metadata": {},
   "source": [
    "---\n",
    "## Endpoint Creation"
   ]
  },
  {
   "cell_type": "markdown",
   "id": "28e1498a",
   "metadata": {},
   "source": [
    "Create a client to the endpoint service:"
   ]
  },
  {
   "cell_type": "code",
   "execution_count": 12,
   "id": "dd78ac02",
   "metadata": {},
   "outputs": [],
   "source": [
    "clients['endpoint'] = aiplatform.gapic.EndpointServiceClient(client_options=client_options)"
   ]
  },
  {
   "cell_type": "markdown",
   "id": "1c423098",
   "metadata": {},
   "source": [
    "Create the endpoint:"
   ]
  },
  {
   "cell_type": "code",
   "execution_count": 13,
   "id": "1cd7f2f5",
   "metadata": {},
   "outputs": [],
   "source": [
    "ENDPOINT_NAME = 'ENDPOINT_'+JOB_NAME\n",
    "endpoint = clients['endpoint'].create_endpoint(parent=PARENT, endpoint={\"display_name\": ENDPOINT_NAME})"
   ]
  },
  {
   "cell_type": "code",
   "execution_count": 14,
   "id": "cb651e75",
   "metadata": {},
   "outputs": [
    {
     "data": {
      "text/plain": [
       "'projects/691911073727/locations/us-central1/endpoints/2200764881970397184'"
      ]
     },
     "execution_count": 14,
     "metadata": {},
     "output_type": "execute_result"
    }
   ],
   "source": [
    "endpoint_info = clients['endpoint'].get_endpoint(name=endpoint.result(timeout=180).name)\n",
    "endpoint_info.name"
   ]
  },
  {
   "cell_type": "markdown",
   "id": "71ce5066",
   "metadata": {},
   "source": [
    "---\n",
    "## Deploy Model to Endpoint"
   ]
  },
  {
   "cell_type": "markdown",
   "id": "61d35f4e",
   "metadata": {},
   "source": [
    "Setup Deployment Parameters:"
   ]
  },
  {
   "cell_type": "code",
   "execution_count": 15,
   "id": "be099959",
   "metadata": {},
   "outputs": [],
   "source": [
    "MACHINE_SPEC = {\n",
    "    \"machine_type\": DEPLOY_COMPUTE,\n",
    "    \"accelerator_count\": 0,\n",
    "}\n",
    "DMODEL = {\n",
    "        \"model\": clients['pipeline'].get_training_pipeline(name=pipeline.name).model_to_upload.name,\n",
    "        \"display_name\": 'DEPLOYED_'+JOB_NAME,\n",
    "        \"dedicated_resources\": {\n",
    "            \"min_replica_count\": 1,\n",
    "            \"max_replica_count\": 2,\n",
    "            \"machine_spec\": MACHINE_SPEC\n",
    "        }   \n",
    "}\n",
    "TRAFFIC = {\n",
    "    '0' : 100\n",
    "}"
   ]
  },
  {
   "cell_type": "markdown",
   "id": "c9a5ac54",
   "metadata": {},
   "source": [
    "Deploy the Model to the Endpoint:"
   ]
  },
  {
   "cell_type": "code",
   "execution_count": 16,
   "id": "03adf8ae",
   "metadata": {},
   "outputs": [],
   "source": [
    "dmodel = clients['endpoint'].deploy_model(endpoint=endpoint_info.name, deployed_model=DMODEL, traffic_split=TRAFFIC)"
   ]
  },
  {
   "cell_type": "code",
   "execution_count": 17,
   "id": "3d880e32",
   "metadata": {},
   "outputs": [
    {
     "data": {
      "text/plain": [
       "'2683564835773349888'"
      ]
     },
     "execution_count": 17,
     "metadata": {},
     "output_type": "execute_result"
    }
   ],
   "source": [
    "dmodel_info = dmodel.result().deployed_model\n",
    "dmodel_info.id"
   ]
  },
  {
   "cell_type": "code",
   "execution_count": 18,
   "id": "0889bc1d",
   "metadata": {},
   "outputs": [
    {
     "data": {
      "text/plain": [
       "name: \"projects/691911073727/locations/us-central1/endpoints/2200764881970397184\"\n",
       "display_name: \"ENDPOINT_06_AIP_DIGITS_20210714132709\"\n",
       "deployed_models {\n",
       "  id: \"2683564835773349888\"\n",
       "  model: \"projects/691911073727/locations/us-central1/models/6801429395840958464\"\n",
       "  display_name: \"DEPLOYED_06_AIP_DIGITS_20210714132709\"\n",
       "  create_time {\n",
       "    seconds: 1626270734\n",
       "    nanos: 535303000\n",
       "  }\n",
       "  dedicated_resources {\n",
       "    machine_spec {\n",
       "      machine_type: \"n1-standard-4\"\n",
       "    }\n",
       "    min_replica_count: 1\n",
       "    max_replica_count: 2\n",
       "  }\n",
       "}\n",
       "traffic_split {\n",
       "  key: \"2683564835773349888\"\n",
       "  value: 100\n",
       "}\n",
       "etag: \"AMEw9yNyz-a2CsrpjehCfY0Hp3fuIu00B1vQZG1N37_80Qj8LBQZS8mUPMiLCh0mUJjr\"\n",
       "create_time {\n",
       "  seconds: 1626270730\n",
       "  nanos: 130632000\n",
       "}\n",
       "update_time {\n",
       "  seconds: 1626270980\n",
       "  nanos: 328027000\n",
       "}"
      ]
     },
     "execution_count": 18,
     "metadata": {},
     "output_type": "execute_result"
    }
   ],
   "source": [
    "clients['endpoint'].get_endpoint(name=endpoint_info.name)"
   ]
  },
  {
   "cell_type": "markdown",
   "id": "2f7a2278",
   "metadata": {},
   "source": [
    "---\n",
    "## Prediction"
   ]
  },
  {
   "cell_type": "markdown",
   "id": "3f5d37f0",
   "metadata": {},
   "source": [
    "Create a client to the prediction service:"
   ]
  },
  {
   "cell_type": "code",
   "execution_count": 19,
   "id": "d80d38d3",
   "metadata": {},
   "outputs": [],
   "source": [
    "clients['prediction'] = aiplatform.gapic.PredictionServiceClient(client_options=client_options)"
   ]
  },
  {
   "cell_type": "markdown",
   "id": "31be9ded",
   "metadata": {},
   "source": [
    "Setup an observation for prediction:"
   ]
  },
  {
   "cell_type": "code",
   "execution_count": 20,
   "id": "9420879e",
   "metadata": {},
   "outputs": [
    {
     "name": "stderr",
     "output_type": "stream",
     "text": [
      "Query complete after 0.01s: 100%|██████████| 1/1 [00:00<00:00, 594.77query/s] \n",
      "Downloading: 100%|██████████| 373/373 [00:01<00:00, 342.97rows/s]\n"
     ]
    }
   ],
   "source": [
    "%%bigquery pred\n",
    "SELECT *\n",
    "FROM `digits.digits_prepped`\n",
    "WHERE splits='TEST'"
   ]
  },
  {
   "cell_type": "code",
   "execution_count": 21,
   "id": "09075c7d",
   "metadata": {},
   "outputs": [
    {
     "data": {
      "text/html": [
       "<div>\n",
       "<style scoped>\n",
       "    .dataframe tbody tr th:only-of-type {\n",
       "        vertical-align: middle;\n",
       "    }\n",
       "\n",
       "    .dataframe tbody tr th {\n",
       "        vertical-align: top;\n",
       "    }\n",
       "\n",
       "    .dataframe thead th {\n",
       "        text-align: right;\n",
       "    }\n",
       "</style>\n",
       "<table border=\"1\" class=\"dataframe\">\n",
       "  <thead>\n",
       "    <tr style=\"text-align: right;\">\n",
       "      <th></th>\n",
       "      <th>p0</th>\n",
       "      <th>p1</th>\n",
       "      <th>p2</th>\n",
       "      <th>p3</th>\n",
       "      <th>p4</th>\n",
       "      <th>p5</th>\n",
       "      <th>p6</th>\n",
       "      <th>p7</th>\n",
       "      <th>p8</th>\n",
       "      <th>p9</th>\n",
       "      <th>...</th>\n",
       "      <th>p57</th>\n",
       "      <th>p58</th>\n",
       "      <th>p59</th>\n",
       "      <th>p60</th>\n",
       "      <th>p61</th>\n",
       "      <th>p62</th>\n",
       "      <th>p63</th>\n",
       "      <th>target</th>\n",
       "      <th>target_OE</th>\n",
       "      <th>SPLITS</th>\n",
       "    </tr>\n",
       "  </thead>\n",
       "  <tbody>\n",
       "    <tr>\n",
       "      <th>0</th>\n",
       "      <td>0.0</td>\n",
       "      <td>0.0</td>\n",
       "      <td>0.0</td>\n",
       "      <td>12.0</td>\n",
       "      <td>6.0</td>\n",
       "      <td>0.0</td>\n",
       "      <td>0.0</td>\n",
       "      <td>0.0</td>\n",
       "      <td>0.0</td>\n",
       "      <td>0.0</td>\n",
       "      <td>...</td>\n",
       "      <td>0.0</td>\n",
       "      <td>0.0</td>\n",
       "      <td>10.0</td>\n",
       "      <td>16.0</td>\n",
       "      <td>11.0</td>\n",
       "      <td>0.0</td>\n",
       "      <td>0.0</td>\n",
       "      <td>0</td>\n",
       "      <td>Even</td>\n",
       "      <td>TEST</td>\n",
       "    </tr>\n",
       "  </tbody>\n",
       "</table>\n",
       "<p>1 rows × 67 columns</p>\n",
       "</div>"
      ],
      "text/plain": [
       "    p0   p1   p2    p3   p4   p5   p6   p7   p8   p9  ...  p57  p58   p59  \\\n",
       "0  0.0  0.0  0.0  12.0  6.0  0.0  0.0  0.0  0.0  0.0  ...  0.0  0.0  10.0   \n",
       "\n",
       "    p60   p61  p62  p63  target  target_OE  SPLITS  \n",
       "0  16.0  11.0  0.0  0.0       0       Even    TEST  \n",
       "\n",
       "[1 rows x 67 columns]"
      ]
     },
     "execution_count": 21,
     "metadata": {},
     "output_type": "execute_result"
    }
   ],
   "source": [
    "pred.head(1)"
   ]
  },
  {
   "cell_type": "code",
   "execution_count": 22,
   "id": "50cbb63c",
   "metadata": {},
   "outputs": [],
   "source": [
    "newob = pred.loc[:0,'p0':'p63'].to_dict(orient='records')[0]\n",
    "#newob"
   ]
  },
  {
   "cell_type": "code",
   "execution_count": 23,
   "id": "aa8985b4",
   "metadata": {},
   "outputs": [],
   "source": [
    "from google.protobuf import json_format\n",
    "from google.protobuf.struct_pb2 import Value\n",
    "\n",
    "response = clients['prediction'].predict(endpoint=endpoint_info.name, instances=[json_format.ParseDict(newob, Value())], parameters=json_format.ParseDict({}, Value()))"
   ]
  },
  {
   "cell_type": "code",
   "execution_count": 24,
   "id": "e990f272",
   "metadata": {},
   "outputs": [
    {
     "data": {
      "text/plain": [
       "[[0.999546707, 1.32121215e-06, 3.21994804e-08, 3.34853048e-11, 3.60508267e-07, 7.07400574e-08, 0.000447585859, 7.27099825e-10, 3.68008546e-06, 1.82077656e-07]]"
      ]
     },
     "execution_count": 24,
     "metadata": {},
     "output_type": "execute_result"
    }
   ],
   "source": [
    "response.predictions"
   ]
  },
  {
   "cell_type": "code",
   "execution_count": 25,
   "id": "6636b5f4",
   "metadata": {},
   "outputs": [
    {
     "data": {
      "text/plain": [
       "0"
      ]
     },
     "execution_count": 25,
     "metadata": {},
     "output_type": "execute_result"
    }
   ],
   "source": [
    "import numpy as np\n",
    "np.argmax(response.predictions[0])"
   ]
  },
  {
   "cell_type": "markdown",
   "id": "3a86e51d",
   "metadata": {},
   "source": [
    "---"
   ]
  },
  {
   "cell_type": "markdown",
   "id": "94d81ddc",
   "metadata": {},
   "source": [
    "## Remove Resources\n",
    "- undeploy model\n",
    "- delete endpoint\n",
    "- remove model\n",
    "- delete training > custom job\n",
    "- delete training > training pipeline\n",
    "- delete python training application\n",
    "    - these could be used by later notebooks in this project"
   ]
  },
  {
   "cell_type": "markdown",
   "id": "6569ecea",
   "metadata": {},
   "source": [
    "Get Pipeline Info:"
   ]
  },
  {
   "cell_type": "code",
   "execution_count": 34,
   "id": "3679988e",
   "metadata": {},
   "outputs": [],
   "source": [
    "pipe_info = clients['pipeline'].get_training_pipeline(name=pipeline.name)"
   ]
  },
  {
   "cell_type": "markdown",
   "id": "08587f5a",
   "metadata": {},
   "source": [
    "Undeploy Model:"
   ]
  },
  {
   "cell_type": "code",
   "execution_count": 26,
   "id": "6e7bbd8b",
   "metadata": {},
   "outputs": [
    {
     "data": {
      "text/plain": [
       "<google.api_core.operation.Operation at 0x7f294c6d86d0>"
      ]
     },
     "execution_count": 26,
     "metadata": {},
     "output_type": "execute_result"
    }
   ],
   "source": [
    "dmodel = clients['endpoint'].get_endpoint(name=endpoint_info.name).deployed_models[0].id\n",
    "clients['endpoint'].undeploy_model(endpoint=endpoint_info.name, deployed_model_id=dmodel)"
   ]
  },
  {
   "cell_type": "markdown",
   "id": "fcce91d0",
   "metadata": {},
   "source": [
    "Delete Endpoint:"
   ]
  },
  {
   "cell_type": "code",
   "execution_count": 27,
   "id": "7b90bc74",
   "metadata": {},
   "outputs": [
    {
     "data": {
      "text/plain": [
       "<google.api_core.operation.Operation at 0x7f294c69fad0>"
      ]
     },
     "execution_count": 27,
     "metadata": {},
     "output_type": "execute_result"
    }
   ],
   "source": [
    "clients['endpoint'].delete_endpoint(name=endpoint_info.name)"
   ]
  },
  {
   "cell_type": "markdown",
   "id": "32ffcadc",
   "metadata": {},
   "source": [
    "Remove Model:"
   ]
  },
  {
   "cell_type": "code",
   "execution_count": 36,
   "id": "fb2f987b",
   "metadata": {},
   "outputs": [
    {
     "data": {
      "text/plain": [
       "<google.api_core.operation.Operation at 0x7f294c188650>"
      ]
     },
     "execution_count": 36,
     "metadata": {},
     "output_type": "execute_result"
    }
   ],
   "source": [
    "clients['model'] = aiplatform.gapic.ModelServiceClient(client_options=client_options)\n",
    "clients['model'].delete_model(name=pipe_info.model_to_upload.name)"
   ]
  },
  {
   "cell_type": "markdown",
   "id": "22c1ba20",
   "metadata": {},
   "source": [
    "Delete Training > Custom Job:"
   ]
  },
  {
   "cell_type": "code",
   "execution_count": 46,
   "id": "1d317922",
   "metadata": {},
   "outputs": [
    {
     "data": {
      "text/plain": [
       "<google.api_core.operation.Operation at 0x7f294c6ff710>"
      ]
     },
     "execution_count": 46,
     "metadata": {},
     "output_type": "execute_result"
    }
   ],
   "source": [
    "clients['job'] = aiplatform.gapic.JobServiceClient(client_options=client_options)\n",
    "clients['job'].delete_custom_job(name=pipe_info.training_task_metadata._pb['backingCustomJob'].string_value)"
   ]
  },
  {
   "cell_type": "markdown",
   "id": "cd42dbcb",
   "metadata": {},
   "source": [
    "Delete Training > Training Pipeline:"
   ]
  },
  {
   "cell_type": "code",
   "execution_count": 49,
   "id": "8da87d41",
   "metadata": {},
   "outputs": [
    {
     "data": {
      "text/plain": [
       "<google.api_core.operation.Operation at 0x7f294c18e8d0>"
      ]
     },
     "execution_count": 49,
     "metadata": {},
     "output_type": "execute_result"
    }
   ],
   "source": [
    "clients['pipeline'].delete_training_pipeline(name=pipeline.name)"
   ]
  },
  {
   "cell_type": "markdown",
   "id": "831f7826",
   "metadata": {},
   "source": [
    "Delete Model Files:\n",
    "- This includes the training package and the saved model\n",
    "- These could be useful for other notebooks"
   ]
  },
  {
   "cell_type": "code",
   "execution_count": 50,
   "id": "dc5280a6",
   "metadata": {},
   "outputs": [
    {
     "name": "stdout",
     "output_type": "stream",
     "text": [
      "<Blob: statmike-mlops, digits/aip_train_job/AIP_DIGITS_20210413150956/, 1618327171620676>\n",
      "<Blob: statmike-mlops, digits/aip_train_job/AIP_DIGITS_20210413150956/model/, 1618327171918285>\n",
      "<Blob: statmike-mlops, digits/aip_train_job/AIP_DIGITS_20210413150956/model/assets/, 1618327175253828>\n",
      "<Blob: statmike-mlops, digits/aip_train_job/AIP_DIGITS_20210413150956/model/saved_model.pb, 1618327175719390>\n",
      "<Blob: statmike-mlops, digits/aip_train_job/AIP_DIGITS_20210413150956/model/variables/, 1618327172067587>\n",
      "<Blob: statmike-mlops, digits/aip_train_job/AIP_DIGITS_20210413150956/model/variables/variables.data-00000-of-00001, 1618327174237522>\n",
      "<Blob: statmike-mlops, digits/aip_train_job/AIP_DIGITS_20210413150956/model/variables/variables.index, 1618327174494912>\n",
      "<Blob: statmike-mlops, digits/aip_train_job/trainer_cifar.tar.gz, 1618322304382464>\n"
     ]
    }
   ],
   "source": [
    "from google.cloud import storage\n",
    "gcs = storage.Client()\n",
    "\n",
    "path = gcs.bucket(PROJECT_ID)\n",
    "blobs = path.list_blobs(prefix='digits/aip_train_job')\n",
    "for blob in blobs:\n",
    "    print(blob)\n",
    "    blob.delete()"
   ]
  },
  {
   "cell_type": "code",
   "execution_count": null,
   "id": "aca953a2",
   "metadata": {},
   "outputs": [],
   "source": []
  }
 ],
 "metadata": {
  "environment": {
   "name": "managed-notebooks.m70",
   "type": "gcloud",
   "uri": "gcr.io/deeplearning-platform-release/managed-notebooks:m70"
  },
  "kernelspec": {
   "display_name": "Python",
   "language": "python",
   "name": "base"
  },
  "language_info": {
   "codemirror_mode": {
    "name": "ipython",
    "version": 3
   },
   "file_extension": ".py",
   "mimetype": "text/x-python",
   "name": "python",
   "nbconvert_exporter": "python",
   "pygments_lexer": "ipython3",
   "version": "3.7.10"
  }
 },
 "nbformat": 4,
 "nbformat_minor": 5
}
