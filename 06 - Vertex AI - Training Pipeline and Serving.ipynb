{
 "cells": [
  {
   "cell_type": "markdown",
   "id": "217efe2f",
   "metadata": {},
   "source": [
    "# Vertex AI - Pipeline for Training and Serving\n",
    "\n",
    "This notebook creates a python package for a TensorFlow training project that uses the `<PROJECT_ID>.digits.digits_prepped` BigQuery table. Vertex AI clients are used to setup a Vertex AI custom training pipeline that runs the training job and uploads the resulting model.  Then Vertex AI clients are used to deploy the model to an endpoint for online predictions.\n",
    "\n",
    "**Prerequisites**\n",
    "- `00 - Initial Setup`\n",
    "- `01 - BigQuery - Data`\n",
    "- `05 - Vertex AI - Training Job and Serving` \n",
    "    - this notebook uses the python package created in 05\n",
    "    \n",
    "**Resources**\n",
    "- Based on:\n",
    "    - https://cloud.google.com/ai-platform-unified/docs/training/create-training-pipeline#custom-job-model-upload\n",
    "- Using PipelineService:\n",
    "    - https://googleapis.dev/python/aiplatform/latest/aiplatform_v1beta1/pipeline_service.html\n",
    "\n",
    "**Overview**\n",
    "\n",
    "<img src=\"architectures/statmike-mlops-06.png\">"
   ]
  },
  {
   "cell_type": "markdown",
   "id": "4d649f78",
   "metadata": {},
   "source": [
    "---\n",
    "## Setup"
   ]
  },
  {
   "cell_type": "markdown",
   "id": "be5464d1",
   "metadata": {},
   "source": [
    "Setup the environment:"
   ]
  },
  {
   "cell_type": "code",
   "execution_count": 1,
   "id": "a649bcd6",
   "metadata": {},
   "outputs": [],
   "source": [
    "from google.cloud import aiplatform\n",
    "from google.protobuf import json_format\n",
    "from google.protobuf.struct_pb2 import Value\n",
    "from datetime import datetime"
   ]
  },
  {
   "cell_type": "markdown",
   "id": "5ae2747b",
   "metadata": {},
   "source": [
    "Define Parameters:"
   ]
  },
  {
   "cell_type": "code",
   "execution_count": 2,
   "id": "acc7bddd",
   "metadata": {},
   "outputs": [],
   "source": [
    "# Locations\n",
    "REGION = 'us-central1'\n",
    "PROJECT_ID='statmike-mlops'\n",
    "BUCKET_NAME='gs://{}/digits/model/05_aip_train_job'.format(PROJECT_ID)\n",
    "TIMESTAMP = datetime.now().strftime(\"%Y%m%d%H%M%S\")\n",
    "JOB_NAME='06_AIP_DIGITS_'+TIMESTAMP\n",
    "MODEL_DIR = '{}/{}'.format(BUCKET_NAME, JOB_NAME)\n",
    "PARENT = \"projects/\" + PROJECT_ID + \"/locations/\" + REGION\n",
    "\n",
    "# Resources\n",
    "TRAIN_IMAGE='us-docker.pkg.dev/cloud-aiplatform/training/tf-cpu.2-4:latest'\n",
    "DEPLOY_IMAGE ='us-docker.pkg.dev/cloud-aiplatform/prediction/tf2-cpu.2-3:latest'\n",
    "TRAIN_COMPUTE='n1-standard-4'\n",
    "DEPLOY_COMPUTE='n1-standard-4'\n",
    "\n",
    "# TF Parameters to pass\n",
    "EPOCHS = 25\n",
    "BATCH_SIZE = 30"
   ]
  },
  {
   "cell_type": "markdown",
   "id": "4557a0be",
   "metadata": {},
   "source": [
    "Setup AI Platform Python Clients\n",
    "- https://googleapis.dev/python/aiplatform/latest/index.html"
   ]
  },
  {
   "cell_type": "code",
   "execution_count": 3,
   "id": "38ee333d",
   "metadata": {},
   "outputs": [],
   "source": [
    "API_ENDPOINT = \"{}-aiplatform.googleapis.com\".format(REGION)\n",
    "client_options = {\"api_endpoint\": API_ENDPOINT}\n",
    "clients = {}"
   ]
  },
  {
   "cell_type": "markdown",
   "id": "ee17fbcf",
   "metadata": {},
   "source": [
    "---\n",
    "## Custom Pipeline Job"
   ]
  },
  {
   "cell_type": "markdown",
   "id": "9a39c6ef",
   "metadata": {},
   "source": [
    "Create a client for the AIP Pipeline Service:"
   ]
  },
  {
   "cell_type": "code",
   "execution_count": 4,
   "id": "cd1d7021",
   "metadata": {},
   "outputs": [],
   "source": [
    "clients['pipeline'] = aiplatform.gapic.PipelineServiceClient(client_options=client_options)"
   ]
  },
  {
   "cell_type": "markdown",
   "id": "abf0b7a1",
   "metadata": {},
   "source": [
    "Define Training Job Parameters - to match the yaml spec in\n",
    "- `gs://google-cloud-aiplatform/schema/trainingjob/definition/custom_task_1.0.0.yaml`"
   ]
  },
  {
   "cell_type": "code",
   "execution_count": 5,
   "id": "ab73d702",
   "metadata": {},
   "outputs": [],
   "source": [
    "MACHINE_SPEC = {\n",
    "    \"machineType\": TRAIN_COMPUTE,\n",
    "    \"acceleratorCount\": 0\n",
    "}\n",
    "\n",
    "\n",
    "CMDARGS = [\n",
    "    \"--epochs=\" + str(EPOCHS),\n",
    "    \"--batch_size=\" + str(BATCH_SIZE)\n",
    "]\n",
    "\n",
    "WORKER_POOL_SPEC = [\n",
    "    {\n",
    "        \"replicaCount\": 1,\n",
    "        \"machineSpec\": MACHINE_SPEC,\n",
    "        \"pythonPackageSpec\": {\n",
    "            \"executorImageUri\": TRAIN_IMAGE,\n",
    "            \"packageUris\": [BUCKET_NAME + \"/trainer_cifar.tar.gz\"],\n",
    "            \"pythonModule\": \"trainer.task\",\n",
    "            \"args\": CMDARGS\n",
    "        }\n",
    "    }\n",
    "]\n",
    "\n",
    "JOB_SPEC = {\n",
    "    \"workerPoolSpecs\": WORKER_POOL_SPEC,\n",
    "    \"baseOutputDirectory\": {\"outputUriPrefix\": MODEL_DIR}\n",
    "    \n",
    "}\n",
    "\n",
    "CUSTOM_JOB = {\n",
    "    \"display_name\": JOB_NAME,\n",
    "    \"job_spec\": JOB_SPEC\n",
    "}"
   ]
  },
  {
   "cell_type": "markdown",
   "id": "c8778405",
   "metadata": {},
   "source": [
    "Define Training Pipeline Parameters:"
   ]
  },
  {
   "cell_type": "code",
   "execution_count": 6,
   "id": "59f01a07",
   "metadata": {},
   "outputs": [],
   "source": [
    "training_task_definition = \"gs://google-cloud-aiplatform/schema/trainingjob/definition/custom_task_1.0.0.yaml\"\n",
    "training_task_inputs = json_format.ParseDict(JOB_SPEC, Value())\n",
    "\n",
    "training_pipeline = {\n",
    "    \"display_name\": JOB_NAME,\n",
    "    \"training_task_definition\": training_task_definition,\n",
    "    \"training_task_inputs\": training_task_inputs,\n",
    "    \"model_to_upload\": {\n",
    "        \"display_name\": JOB_NAME,\n",
    "        \"container_spec\": {\"image_uri\": DEPLOY_IMAGE},\n",
    "    },\n",
    "}"
   ]
  },
  {
   "cell_type": "markdown",
   "id": "de8daf8e",
   "metadata": {},
   "source": [
    "Submit pipeline job:\n",
    "- this create a pipeline job\n",
    "    - which create a custom training job\n",
    "    - and when complete, uploads a model"
   ]
  },
  {
   "cell_type": "code",
   "execution_count": 7,
   "id": "af0f1cab",
   "metadata": {},
   "outputs": [],
   "source": [
    "pipeline = clients['pipeline'].create_training_pipeline(parent=PARENT, training_pipeline=training_pipeline)"
   ]
  },
  {
   "cell_type": "code",
   "execution_count": 11,
   "id": "ff855109",
   "metadata": {},
   "outputs": [
    {
     "data": {
      "text/plain": [
       "<PipelineState.PIPELINE_STATE_SUCCEEDED: 4>"
      ]
     },
     "execution_count": 11,
     "metadata": {},
     "output_type": "execute_result"
    }
   ],
   "source": [
    "clients['pipeline'].get_training_pipeline(name=pipeline.name).state"
   ]
  },
  {
   "cell_type": "code",
   "execution_count": 12,
   "id": "12e9b794",
   "metadata": {},
   "outputs": [
    {
     "data": {
      "text/plain": [
       "'projects/691911073727/locations/us-central1/models/7544963139008200704'"
      ]
     },
     "execution_count": 12,
     "metadata": {},
     "output_type": "execute_result"
    }
   ],
   "source": [
    "clients['pipeline'].get_training_pipeline(name=pipeline.name).model_to_upload.name"
   ]
  },
  {
   "cell_type": "markdown",
   "id": "8474d2a8",
   "metadata": {},
   "source": [
    "---\n",
    "## Endpoint Creation"
   ]
  },
  {
   "cell_type": "markdown",
   "id": "f3d5ea18",
   "metadata": {},
   "source": [
    "Create a client to the endpoint service:"
   ]
  },
  {
   "cell_type": "code",
   "execution_count": 13,
   "id": "c7482734",
   "metadata": {},
   "outputs": [],
   "source": [
    "clients['endpoint'] = aiplatform.gapic.EndpointServiceClient(client_options=client_options)"
   ]
  },
  {
   "cell_type": "markdown",
   "id": "72800809",
   "metadata": {},
   "source": [
    "Create the endpoint:"
   ]
  },
  {
   "cell_type": "code",
   "execution_count": 14,
   "id": "6b9270c8",
   "metadata": {},
   "outputs": [],
   "source": [
    "ENDPOINT_NAME = 'ENDPOINT_'+JOB_NAME\n",
    "endpoint = clients['endpoint'].create_endpoint(parent=PARENT, endpoint={\"display_name\": ENDPOINT_NAME})"
   ]
  },
  {
   "cell_type": "code",
   "execution_count": 15,
   "id": "7dede539",
   "metadata": {},
   "outputs": [
    {
     "data": {
      "text/plain": [
       "'projects/691911073727/locations/us-central1/endpoints/87943338036035584'"
      ]
     },
     "execution_count": 15,
     "metadata": {},
     "output_type": "execute_result"
    }
   ],
   "source": [
    "endpoint_info = clients['endpoint'].get_endpoint(name=endpoint.result(timeout=180).name)\n",
    "endpoint_info.name"
   ]
  },
  {
   "cell_type": "markdown",
   "id": "d6907cf4",
   "metadata": {},
   "source": [
    "---\n",
    "## Deploy Model to Endpoint"
   ]
  },
  {
   "cell_type": "markdown",
   "id": "9509d220",
   "metadata": {},
   "source": [
    "Setup Deployment Parameters:"
   ]
  },
  {
   "cell_type": "code",
   "execution_count": 16,
   "id": "d5d84543",
   "metadata": {},
   "outputs": [],
   "source": [
    "MACHINE_SPEC = {\n",
    "    \"machine_type\": DEPLOY_COMPUTE,\n",
    "    \"accelerator_count\": 0,\n",
    "}\n",
    "DMODEL = {\n",
    "        \"model\": clients['pipeline'].get_training_pipeline(name=pipeline.name).model_to_upload.name,\n",
    "        \"display_name\": 'DEPLOYED_'+JOB_NAME,\n",
    "        \"dedicated_resources\": {\n",
    "            \"min_replica_count\": 1,\n",
    "            \"max_replica_count\": 2,\n",
    "            \"machine_spec\": MACHINE_SPEC\n",
    "        }   \n",
    "}\n",
    "TRAFFIC = {\n",
    "    '0' : 100\n",
    "}"
   ]
  },
  {
   "cell_type": "markdown",
   "id": "98bc5496",
   "metadata": {},
   "source": [
    "Deploy the Model to the Endpoint:"
   ]
  },
  {
   "cell_type": "code",
   "execution_count": 17,
   "id": "1a1fc16e",
   "metadata": {},
   "outputs": [],
   "source": [
    "dmodel = clients['endpoint'].deploy_model(endpoint=endpoint_info.name, deployed_model=DMODEL, traffic_split=TRAFFIC)"
   ]
  },
  {
   "cell_type": "code",
   "execution_count": 18,
   "id": "8feb5b84",
   "metadata": {},
   "outputs": [
    {
     "data": {
      "text/plain": [
       "'4826460221750640640'"
      ]
     },
     "execution_count": 18,
     "metadata": {},
     "output_type": "execute_result"
    }
   ],
   "source": [
    "dmodel_info = dmodel.result().deployed_model\n",
    "dmodel_info.id"
   ]
  },
  {
   "cell_type": "code",
   "execution_count": 19,
   "id": "ff3aa379",
   "metadata": {},
   "outputs": [
    {
     "data": {
      "text/plain": [
       "name: \"projects/691911073727/locations/us-central1/endpoints/87943338036035584\"\n",
       "display_name: \"ENDPOINT_06_AIP_DIGITS_20210812121445\"\n",
       "deployed_models {\n",
       "  id: \"4826460221750640640\"\n",
       "  model: \"projects/691911073727/locations/us-central1/models/7544963139008200704\"\n",
       "  display_name: \"DEPLOYED_06_AIP_DIGITS_20210812121445\"\n",
       "  create_time {\n",
       "    seconds: 1628774930\n",
       "    nanos: 24046000\n",
       "  }\n",
       "  dedicated_resources {\n",
       "    machine_spec {\n",
       "      machine_type: \"n1-standard-4\"\n",
       "    }\n",
       "    min_replica_count: 1\n",
       "    max_replica_count: 2\n",
       "  }\n",
       "}\n",
       "traffic_split {\n",
       "  key: \"4826460221750640640\"\n",
       "  value: 100\n",
       "}\n",
       "etag: \"AMEw9yMYvxmDeVWRjkzTD41rI32VACOyBSdY-RVg9m40qek8OIyvNVHG2Whze3A0gqKz\"\n",
       "create_time {\n",
       "  seconds: 1628774868\n",
       "  nanos: 982105000\n",
       "}\n",
       "update_time {\n",
       "  seconds: 1628775226\n",
       "  nanos: 324167000\n",
       "}"
      ]
     },
     "execution_count": 19,
     "metadata": {},
     "output_type": "execute_result"
    }
   ],
   "source": [
    "clients['endpoint'].get_endpoint(name=endpoint_info.name)"
   ]
  },
  {
   "cell_type": "markdown",
   "id": "e40f3acf",
   "metadata": {},
   "source": [
    "---\n",
    "## Prediction"
   ]
  },
  {
   "cell_type": "markdown",
   "id": "36d31042",
   "metadata": {},
   "source": [
    "Create a client to the prediction service:"
   ]
  },
  {
   "cell_type": "code",
   "execution_count": 20,
   "id": "bc5bfd48",
   "metadata": {},
   "outputs": [],
   "source": [
    "clients['prediction'] = aiplatform.gapic.PredictionServiceClient(client_options=client_options)"
   ]
  },
  {
   "cell_type": "markdown",
   "id": "06372437",
   "metadata": {},
   "source": [
    "Setup an observation for prediction:"
   ]
  },
  {
   "cell_type": "code",
   "execution_count": 21,
   "id": "5272c304",
   "metadata": {},
   "outputs": [
    {
     "name": "stderr",
     "output_type": "stream",
     "text": [
      "Query complete after 0.00s: 100%|██████████| 1/1 [00:00<00:00, 780.34query/s] \n",
      "Downloading: 100%|██████████| 388/388 [00:02<00:00, 188.15rows/s]\n"
     ]
    }
   ],
   "source": [
    "%%bigquery pred\n",
    "SELECT *\n",
    "FROM `digits.digits_prepped`\n",
    "WHERE splits='TEST'"
   ]
  },
  {
   "cell_type": "code",
   "execution_count": 22,
   "id": "c237bc81",
   "metadata": {},
   "outputs": [
    {
     "data": {
      "text/html": [
       "<div>\n",
       "<style scoped>\n",
       "    .dataframe tbody tr th:only-of-type {\n",
       "        vertical-align: middle;\n",
       "    }\n",
       "\n",
       "    .dataframe tbody tr th {\n",
       "        vertical-align: top;\n",
       "    }\n",
       "\n",
       "    .dataframe thead th {\n",
       "        text-align: right;\n",
       "    }\n",
       "</style>\n",
       "<table border=\"1\" class=\"dataframe\">\n",
       "  <thead>\n",
       "    <tr style=\"text-align: right;\">\n",
       "      <th></th>\n",
       "      <th>p0</th>\n",
       "      <th>p1</th>\n",
       "      <th>p2</th>\n",
       "      <th>p3</th>\n",
       "      <th>p4</th>\n",
       "      <th>p5</th>\n",
       "      <th>p6</th>\n",
       "      <th>p7</th>\n",
       "      <th>p8</th>\n",
       "      <th>p9</th>\n",
       "      <th>...</th>\n",
       "      <th>p57</th>\n",
       "      <th>p58</th>\n",
       "      <th>p59</th>\n",
       "      <th>p60</th>\n",
       "      <th>p61</th>\n",
       "      <th>p62</th>\n",
       "      <th>p63</th>\n",
       "      <th>target</th>\n",
       "      <th>target_OE</th>\n",
       "      <th>SPLITS</th>\n",
       "    </tr>\n",
       "  </thead>\n",
       "  <tbody>\n",
       "    <tr>\n",
       "      <th>0</th>\n",
       "      <td>0.0</td>\n",
       "      <td>0.0</td>\n",
       "      <td>0.0</td>\n",
       "      <td>0.0</td>\n",
       "      <td>7.0</td>\n",
       "      <td>16.0</td>\n",
       "      <td>6.0</td>\n",
       "      <td>0.0</td>\n",
       "      <td>0.0</td>\n",
       "      <td>0.0</td>\n",
       "      <td>...</td>\n",
       "      <td>0.0</td>\n",
       "      <td>0.0</td>\n",
       "      <td>0.0</td>\n",
       "      <td>9.0</td>\n",
       "      <td>16.0</td>\n",
       "      <td>6.0</td>\n",
       "      <td>0.0</td>\n",
       "      <td>1</td>\n",
       "      <td>Odd</td>\n",
       "      <td>TEST</td>\n",
       "    </tr>\n",
       "  </tbody>\n",
       "</table>\n",
       "<p>1 rows × 67 columns</p>\n",
       "</div>"
      ],
      "text/plain": [
       "    p0   p1   p2   p3   p4    p5   p6   p7   p8   p9  ...  p57  p58  p59  p60  \\\n",
       "0  0.0  0.0  0.0  0.0  7.0  16.0  6.0  0.0  0.0  0.0  ...  0.0  0.0  0.0  9.0   \n",
       "\n",
       "    p61  p62  p63  target  target_OE  SPLITS  \n",
       "0  16.0  6.0  0.0       1        Odd    TEST  \n",
       "\n",
       "[1 rows x 67 columns]"
      ]
     },
     "execution_count": 22,
     "metadata": {},
     "output_type": "execute_result"
    }
   ],
   "source": [
    "pred.head(1)"
   ]
  },
  {
   "cell_type": "code",
   "execution_count": 23,
   "id": "ee2867d0",
   "metadata": {},
   "outputs": [],
   "source": [
    "newob = pred.loc[:0,'p0':'p63'].to_dict(orient='records')[0]\n",
    "#newob"
   ]
  },
  {
   "cell_type": "code",
   "execution_count": 24,
   "id": "41c7e799",
   "metadata": {},
   "outputs": [],
   "source": [
    "from google.protobuf import json_format\n",
    "from google.protobuf.struct_pb2 import Value\n",
    "\n",
    "response = clients['prediction'].predict(endpoint=endpoint_info.name, instances=[json_format.ParseDict(newob, Value())], parameters=json_format.ParseDict({}, Value()))"
   ]
  },
  {
   "cell_type": "code",
   "execution_count": 25,
   "id": "0c75e3e3",
   "metadata": {},
   "outputs": [
    {
     "data": {
      "text/plain": [
       "[[1.89540026e-06, 0.969088256, 3.56145979e-09, 1.10171754e-06, 1.53606143e-05, 1.0783635e-07, 6.60791838e-11, 9.01938847e-07, 9.88870579e-06, 0.0308826156]]"
      ]
     },
     "execution_count": 25,
     "metadata": {},
     "output_type": "execute_result"
    }
   ],
   "source": [
    "response.predictions"
   ]
  },
  {
   "cell_type": "code",
   "execution_count": 26,
   "id": "37e5697a",
   "metadata": {},
   "outputs": [
    {
     "data": {
      "text/plain": [
       "1"
      ]
     },
     "execution_count": 26,
     "metadata": {},
     "output_type": "execute_result"
    }
   ],
   "source": [
    "import numpy as np\n",
    "np.argmax(response.predictions[0])"
   ]
  },
  {
   "cell_type": "markdown",
   "id": "9cb83d6e",
   "metadata": {},
   "source": [
    "---\n",
    "## Remove Resources\n",
    "see notebook \"XX - Cleanup\""
   ]
  },
  {
   "cell_type": "code",
   "execution_count": null,
   "id": "ba76e62f",
   "metadata": {},
   "outputs": [],
   "source": []
  }
 ],
 "metadata": {
  "environment": {
   "name": "tf2-gpu.2-5.m76",
   "type": "gcloud",
   "uri": "gcr.io/deeplearning-platform-release/tf2-gpu.2-5:m76"
  },
  "kernelspec": {
   "display_name": "Python 3",
   "language": "python",
   "name": "python3"
  },
  "language_info": {
   "codemirror_mode": {
    "name": "ipython",
    "version": 3
   },
   "file_extension": ".py",
   "mimetype": "text/x-python",
   "name": "python",
   "nbconvert_exporter": "python",
   "pygments_lexer": "ipython3",
   "version": "3.7.10"
  }
 },
 "nbformat": 4,
 "nbformat_minor": 5
}
