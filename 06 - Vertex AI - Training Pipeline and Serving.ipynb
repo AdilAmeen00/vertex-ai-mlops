{
 "cells": [
  {
   "cell_type": "markdown",
   "id": "13ada62c",
   "metadata": {},
   "source": [
    "# Vertex AI - Pipeline for Training and Serving\n",
    "\n",
    "This notebook creates a python package for a TensorFlow training project that uses the `<PROJECT_ID>.digits.digits_prepped` BigQuery table. Vertex AI clients are used to setup a Vertex AI custom training pipeline that runs the training job and uploads the resulting model.  Then Vertex AI clients are used to deploy the model to an endpoint for online predictions.\n",
    "\n",
    "**Prerequisites**\n",
    "- `00 - Initial Setup`\n",
    "- `01 - BigQuery - Data`\n",
    "- `05 - Vertex AI - Training Job and Serving` \n",
    "    - this notebook uses the python package created in 05\n",
    "    \n",
    "**Resources**\n",
    "- Based on:\n",
    "    - https://cloud.google.com/ai-platform-unified/docs/training/create-training-pipeline#custom-job-model-upload\n",
    "- Using PipelineService:\n",
    "    - https://googleapis.dev/python/aiplatform/latest/aiplatform_v1beta1/pipeline_service.html\n",
    "\n",
    "**Overview**\n",
    "\n",
    "<img src=\"architectures/statmike-mlops-06.png\">"
   ]
  },
  {
   "cell_type": "markdown",
   "id": "40b422b1",
   "metadata": {},
   "source": [
    "---\n",
    "## Setup"
   ]
  },
  {
   "cell_type": "markdown",
   "id": "53f4aca5",
   "metadata": {},
   "source": [
    "Setup the environment:"
   ]
  },
  {
   "cell_type": "code",
   "execution_count": 1,
   "id": "6922b107",
   "metadata": {},
   "outputs": [],
   "source": [
    "from google.cloud import aiplatform\n",
    "from google.protobuf import json_format\n",
    "from google.protobuf.struct_pb2 import Value\n",
    "from datetime import datetime"
   ]
  },
  {
   "cell_type": "markdown",
   "id": "d571dd3f",
   "metadata": {},
   "source": [
    "Define Parameters:"
   ]
  },
  {
   "cell_type": "code",
   "execution_count": 2,
   "id": "08459728",
   "metadata": {},
   "outputs": [],
   "source": [
    "# Locations\n",
    "REGION = 'us-central1'\n",
    "PROJECT_ID='statmike-mlops'\n",
    "BUCKET_NAME='gs://{}/digits/model/05_aip_train_job'.format(PROJECT_ID)\n",
    "TIMESTAMP = datetime.now().strftime(\"%Y%m%d%H%M%S\")\n",
    "JOB_NAME='06_AIP_DIGITS_'+TIMESTAMP\n",
    "MODEL_DIR = '{}/{}'.format(BUCKET_NAME, JOB_NAME)\n",
    "PARENT = \"projects/\" + PROJECT_ID + \"/locations/\" + REGION\n",
    "\n",
    "# Resources\n",
    "TRAIN_IMAGE='us-docker.pkg.dev/cloud-aiplatform/training/tf-cpu.2-4:latest'\n",
    "DEPLOY_IMAGE ='us-docker.pkg.dev/cloud-aiplatform/prediction/tf2-cpu.2-3:latest'\n",
    "TRAIN_COMPUTE='n1-standard-4'\n",
    "DEPLOY_COMPUTE='n1-standard-4'\n",
    "\n",
    "# TF Parameters to pass\n",
    "EPOCHS = 25\n",
    "BATCH_SIZE = 30"
   ]
  },
  {
   "cell_type": "markdown",
   "id": "022ac02f",
   "metadata": {},
   "source": [
    "Setup AI Platform Python Clients\n",
    "- https://googleapis.dev/python/aiplatform/latest/index.html"
   ]
  },
  {
   "cell_type": "code",
   "execution_count": 3,
   "id": "a3d84294",
   "metadata": {},
   "outputs": [],
   "source": [
    "API_ENDPOINT = \"{}-aiplatform.googleapis.com\".format(REGION)\n",
    "client_options = {\"api_endpoint\": API_ENDPOINT}\n",
    "clients = {}"
   ]
  },
  {
   "cell_type": "markdown",
   "id": "fb5a80d2",
   "metadata": {},
   "source": [
    "---\n",
    "## Custom Pipeline Job"
   ]
  },
  {
   "cell_type": "markdown",
   "id": "0139cf54",
   "metadata": {},
   "source": [
    "Create a client for the AIP Pipeline Service:"
   ]
  },
  {
   "cell_type": "code",
   "execution_count": 4,
   "id": "b0eed3af",
   "metadata": {},
   "outputs": [],
   "source": [
    "clients['pipeline'] = aiplatform.gapic.PipelineServiceClient(client_options=client_options)"
   ]
  },
  {
   "cell_type": "markdown",
   "id": "ad7550f4",
   "metadata": {},
   "source": [
    "Define Training Job Parameters - to match the yaml spec in\n",
    "- `gs://google-cloud-aiplatform/schema/trainingjob/definition/custom_task_1.0.0.yaml`"
   ]
  },
  {
   "cell_type": "code",
   "execution_count": 5,
   "id": "d8a2dc69",
   "metadata": {},
   "outputs": [],
   "source": [
    "MACHINE_SPEC = {\n",
    "    \"machineType\": TRAIN_COMPUTE,\n",
    "    \"acceleratorCount\": 0\n",
    "}\n",
    "\n",
    "\n",
    "CMDARGS = [\n",
    "    \"--epochs=\" + str(EPOCHS),\n",
    "    \"--batch_size=\" + str(BATCH_SIZE)\n",
    "]\n",
    "\n",
    "WORKER_POOL_SPEC = [\n",
    "    {\n",
    "        \"replicaCount\": 1,\n",
    "        \"machineSpec\": MACHINE_SPEC,\n",
    "        \"pythonPackageSpec\": {\n",
    "            \"executorImageUri\": TRAIN_IMAGE,\n",
    "            \"packageUris\": [BUCKET_NAME + \"/trainer_cifar.tar.gz\"],\n",
    "            \"pythonModule\": \"trainer.task\",\n",
    "            \"args\": CMDARGS\n",
    "        }\n",
    "    }\n",
    "]\n",
    "\n",
    "JOB_SPEC = {\n",
    "    \"workerPoolSpecs\": WORKER_POOL_SPEC,\n",
    "    \"baseOutputDirectory\": {\"outputUriPrefix\": MODEL_DIR}\n",
    "    \n",
    "}\n",
    "\n",
    "CUSTOM_JOB = {\n",
    "    \"display_name\": JOB_NAME,\n",
    "    \"job_spec\": JOB_SPEC\n",
    "}"
   ]
  },
  {
   "cell_type": "markdown",
   "id": "d0a5674d",
   "metadata": {},
   "source": [
    "Define Training Pipeline Parameters:"
   ]
  },
  {
   "cell_type": "code",
   "execution_count": 6,
   "id": "f370484b",
   "metadata": {},
   "outputs": [],
   "source": [
    "training_task_definition = \"gs://google-cloud-aiplatform/schema/trainingjob/definition/custom_task_1.0.0.yaml\"\n",
    "training_task_inputs = json_format.ParseDict(JOB_SPEC, Value())\n",
    "\n",
    "training_pipeline = {\n",
    "    \"display_name\": JOB_NAME,\n",
    "    \"training_task_definition\": training_task_definition,\n",
    "    \"training_task_inputs\": training_task_inputs,\n",
    "    \"model_to_upload\": {\n",
    "        \"display_name\": JOB_NAME,\n",
    "        \"container_spec\": {\"image_uri\": DEPLOY_IMAGE},\n",
    "    },\n",
    "}"
   ]
  },
  {
   "cell_type": "markdown",
   "id": "163b512c",
   "metadata": {},
   "source": [
    "Submit pipeline job:\n",
    "- this create a pipeline job\n",
    "    - which create a custom training job\n",
    "    - and when complete, uploads a model"
   ]
  },
  {
   "cell_type": "code",
   "execution_count": 7,
   "id": "3fb02a77",
   "metadata": {},
   "outputs": [],
   "source": [
    "pipeline = clients['pipeline'].create_training_pipeline(parent=PARENT, training_pipeline=training_pipeline)"
   ]
  },
  {
   "cell_type": "code",
   "execution_count": 10,
   "id": "d0ae43ad",
   "metadata": {},
   "outputs": [
    {
     "data": {
      "text/plain": [
       "<PipelineState.PIPELINE_STATE_SUCCEEDED: 4>"
      ]
     },
     "execution_count": 10,
     "metadata": {},
     "output_type": "execute_result"
    }
   ],
   "source": [
    "clients['pipeline'].get_training_pipeline(name=pipeline.name).state"
   ]
  },
  {
   "cell_type": "code",
   "execution_count": 11,
   "id": "ad319cc0",
   "metadata": {},
   "outputs": [
    {
     "data": {
      "text/plain": [
       "'projects/691911073727/locations/us-central1/models/3553419270832521216'"
      ]
     },
     "execution_count": 11,
     "metadata": {},
     "output_type": "execute_result"
    }
   ],
   "source": [
    "clients['pipeline'].get_training_pipeline(name=pipeline.name).model_to_upload.name"
   ]
  },
  {
   "cell_type": "markdown",
   "id": "1c77ff94",
   "metadata": {},
   "source": [
    "---\n",
    "## Endpoint Creation"
   ]
  },
  {
   "cell_type": "markdown",
   "id": "17feaacb",
   "metadata": {},
   "source": [
    "Create a client to the endpoint service:"
   ]
  },
  {
   "cell_type": "code",
   "execution_count": 12,
   "id": "ff03993f",
   "metadata": {},
   "outputs": [],
   "source": [
    "clients['endpoint'] = aiplatform.gapic.EndpointServiceClient(client_options=client_options)"
   ]
  },
  {
   "cell_type": "markdown",
   "id": "3d0da669",
   "metadata": {},
   "source": [
    "Create the endpoint:"
   ]
  },
  {
   "cell_type": "code",
   "execution_count": 13,
   "id": "f60a14bb",
   "metadata": {},
   "outputs": [],
   "source": [
    "ENDPOINT_NAME = 'ENDPOINT_'+JOB_NAME\n",
    "endpoint = clients['endpoint'].create_endpoint(parent=PARENT, endpoint={\"display_name\": ENDPOINT_NAME})"
   ]
  },
  {
   "cell_type": "code",
   "execution_count": 14,
   "id": "9dc3b0f4",
   "metadata": {},
   "outputs": [
    {
     "data": {
      "text/plain": [
       "'projects/691911073727/locations/us-central1/endpoints/218055146020536320'"
      ]
     },
     "execution_count": 14,
     "metadata": {},
     "output_type": "execute_result"
    }
   ],
   "source": [
    "endpoint_info = clients['endpoint'].get_endpoint(name=endpoint.result(timeout=180).name)\n",
    "endpoint_info.name"
   ]
  },
  {
   "cell_type": "markdown",
   "id": "8a624d14",
   "metadata": {},
   "source": [
    "---\n",
    "## Deploy Model to Endpoint"
   ]
  },
  {
   "cell_type": "markdown",
   "id": "fef8f2db",
   "metadata": {},
   "source": [
    "Setup Deployment Parameters:"
   ]
  },
  {
   "cell_type": "code",
   "execution_count": 15,
   "id": "bc5ff3d6",
   "metadata": {},
   "outputs": [],
   "source": [
    "MACHINE_SPEC = {\n",
    "    \"machine_type\": DEPLOY_COMPUTE,\n",
    "    \"accelerator_count\": 0,\n",
    "}\n",
    "DMODEL = {\n",
    "        \"model\": clients['pipeline'].get_training_pipeline(name=pipeline.name).model_to_upload.name,\n",
    "        \"display_name\": 'DEPLOYED_'+JOB_NAME,\n",
    "        \"dedicated_resources\": {\n",
    "            \"min_replica_count\": 1,\n",
    "            \"max_replica_count\": 2,\n",
    "            \"machine_spec\": MACHINE_SPEC\n",
    "        }   \n",
    "}\n",
    "TRAFFIC = {\n",
    "    '0' : 100\n",
    "}"
   ]
  },
  {
   "cell_type": "markdown",
   "id": "81c481e4",
   "metadata": {},
   "source": [
    "Deploy the Model to the Endpoint:"
   ]
  },
  {
   "cell_type": "code",
   "execution_count": 16,
   "id": "d94dca15",
   "metadata": {},
   "outputs": [],
   "source": [
    "dmodel = clients['endpoint'].deploy_model(endpoint=endpoint_info.name, deployed_model=DMODEL, traffic_split=TRAFFIC)"
   ]
  },
  {
   "cell_type": "code",
   "execution_count": 17,
   "id": "bfd28823",
   "metadata": {},
   "outputs": [
    {
     "data": {
      "text/plain": [
       "'3575866900225196032'"
      ]
     },
     "execution_count": 17,
     "metadata": {},
     "output_type": "execute_result"
    }
   ],
   "source": [
    "dmodel_info = dmodel.result().deployed_model\n",
    "dmodel_info.id"
   ]
  },
  {
   "cell_type": "code",
   "execution_count": 18,
   "id": "71342418",
   "metadata": {},
   "outputs": [
    {
     "data": {
      "text/plain": [
       "name: \"projects/691911073727/locations/us-central1/endpoints/218055146020536320\"\n",
       "display_name: \"ENDPOINT_06_AIP_DIGITS_20210722103209\"\n",
       "deployed_models {\n",
       "  id: \"3575866900225196032\"\n",
       "  model: \"projects/691911073727/locations/us-central1/models/3553419270832521216\"\n",
       "  display_name: \"DEPLOYED_06_AIP_DIGITS_20210722103209\"\n",
       "  create_time {\n",
       "    seconds: 1626951138\n",
       "    nanos: 74487000\n",
       "  }\n",
       "  dedicated_resources {\n",
       "    machine_spec {\n",
       "      machine_type: \"n1-standard-4\"\n",
       "    }\n",
       "    min_replica_count: 1\n",
       "    max_replica_count: 2\n",
       "  }\n",
       "}\n",
       "traffic_split {\n",
       "  key: \"3575866900225196032\"\n",
       "  value: 100\n",
       "}\n",
       "etag: \"AMEw9yPjTYwUiHJO9h540Av7uCByZG3xwS8m3mSAd1-cCydwod-0AEPeAmo23FQ8e0jg\"\n",
       "create_time {\n",
       "  seconds: 1626951134\n",
       "  nanos: 646167000\n",
       "}\n",
       "update_time {\n",
       "  seconds: 1626951414\n",
       "  nanos: 269329000\n",
       "}"
      ]
     },
     "execution_count": 18,
     "metadata": {},
     "output_type": "execute_result"
    }
   ],
   "source": [
    "clients['endpoint'].get_endpoint(name=endpoint_info.name)"
   ]
  },
  {
   "cell_type": "markdown",
   "id": "98a94aa5",
   "metadata": {},
   "source": [
    "---\n",
    "## Prediction"
   ]
  },
  {
   "cell_type": "markdown",
   "id": "af55a4ad",
   "metadata": {},
   "source": [
    "Create a client to the prediction service:"
   ]
  },
  {
   "cell_type": "code",
   "execution_count": 19,
   "id": "c17b55f1",
   "metadata": {},
   "outputs": [],
   "source": [
    "clients['prediction'] = aiplatform.gapic.PredictionServiceClient(client_options=client_options)"
   ]
  },
  {
   "cell_type": "markdown",
   "id": "fbe4f6ff",
   "metadata": {},
   "source": [
    "Setup an observation for prediction:"
   ]
  },
  {
   "cell_type": "code",
   "execution_count": 20,
   "id": "1c49d21b",
   "metadata": {},
   "outputs": [
    {
     "name": "stderr",
     "output_type": "stream",
     "text": [
      "Query complete after 0.01s: 100%|██████████| 1/1 [00:00<00:00, 581.01query/s] \n",
      "Downloading: 100%|██████████| 375/375 [00:01<00:00, 365.77rows/s]\n"
     ]
    }
   ],
   "source": [
    "%%bigquery pred\n",
    "SELECT *\n",
    "FROM `digits.digits_prepped`\n",
    "WHERE splits='TEST'"
   ]
  },
  {
   "cell_type": "code",
   "execution_count": 21,
   "id": "7fcbade8",
   "metadata": {},
   "outputs": [
    {
     "data": {
      "text/html": [
       "<div>\n",
       "<style scoped>\n",
       "    .dataframe tbody tr th:only-of-type {\n",
       "        vertical-align: middle;\n",
       "    }\n",
       "\n",
       "    .dataframe tbody tr th {\n",
       "        vertical-align: top;\n",
       "    }\n",
       "\n",
       "    .dataframe thead th {\n",
       "        text-align: right;\n",
       "    }\n",
       "</style>\n",
       "<table border=\"1\" class=\"dataframe\">\n",
       "  <thead>\n",
       "    <tr style=\"text-align: right;\">\n",
       "      <th></th>\n",
       "      <th>p0</th>\n",
       "      <th>p1</th>\n",
       "      <th>p2</th>\n",
       "      <th>p3</th>\n",
       "      <th>p4</th>\n",
       "      <th>p5</th>\n",
       "      <th>p6</th>\n",
       "      <th>p7</th>\n",
       "      <th>p8</th>\n",
       "      <th>p9</th>\n",
       "      <th>...</th>\n",
       "      <th>p57</th>\n",
       "      <th>p58</th>\n",
       "      <th>p59</th>\n",
       "      <th>p60</th>\n",
       "      <th>p61</th>\n",
       "      <th>p62</th>\n",
       "      <th>p63</th>\n",
       "      <th>target</th>\n",
       "      <th>target_OE</th>\n",
       "      <th>SPLITS</th>\n",
       "    </tr>\n",
       "  </thead>\n",
       "  <tbody>\n",
       "    <tr>\n",
       "      <th>0</th>\n",
       "      <td>0.0</td>\n",
       "      <td>0.0</td>\n",
       "      <td>0.0</td>\n",
       "      <td>0.0</td>\n",
       "      <td>13.0</td>\n",
       "      <td>12.0</td>\n",
       "      <td>0.0</td>\n",
       "      <td>0.0</td>\n",
       "      <td>0.0</td>\n",
       "      <td>0.0</td>\n",
       "      <td>...</td>\n",
       "      <td>0.0</td>\n",
       "      <td>0.0</td>\n",
       "      <td>0.0</td>\n",
       "      <td>15.0</td>\n",
       "      <td>11.0</td>\n",
       "      <td>0.0</td>\n",
       "      <td>0.0</td>\n",
       "      <td>1</td>\n",
       "      <td>Odd</td>\n",
       "      <td>TEST</td>\n",
       "    </tr>\n",
       "  </tbody>\n",
       "</table>\n",
       "<p>1 rows × 67 columns</p>\n",
       "</div>"
      ],
      "text/plain": [
       "    p0   p1   p2   p3    p4    p5   p6   p7   p8   p9  ...  p57  p58  p59  \\\n",
       "0  0.0  0.0  0.0  0.0  13.0  12.0  0.0  0.0  0.0  0.0  ...  0.0  0.0  0.0   \n",
       "\n",
       "    p60   p61  p62  p63  target  target_OE  SPLITS  \n",
       "0  15.0  11.0  0.0  0.0       1        Odd    TEST  \n",
       "\n",
       "[1 rows x 67 columns]"
      ]
     },
     "execution_count": 21,
     "metadata": {},
     "output_type": "execute_result"
    }
   ],
   "source": [
    "pred.head(1)"
   ]
  },
  {
   "cell_type": "code",
   "execution_count": 22,
   "id": "957ec97f",
   "metadata": {},
   "outputs": [],
   "source": [
    "newob = pred.loc[:0,'p0':'p63'].to_dict(orient='records')[0]\n",
    "#newob"
   ]
  },
  {
   "cell_type": "code",
   "execution_count": 23,
   "id": "6eb87654",
   "metadata": {},
   "outputs": [],
   "source": [
    "from google.protobuf import json_format\n",
    "from google.protobuf.struct_pb2 import Value\n",
    "\n",
    "response = clients['prediction'].predict(endpoint=endpoint_info.name, instances=[json_format.ParseDict(newob, Value())], parameters=json_format.ParseDict({}, Value()))"
   ]
  },
  {
   "cell_type": "code",
   "execution_count": 24,
   "id": "ab0fb83d",
   "metadata": {},
   "outputs": [
    {
     "data": {
      "text/plain": [
       "[[3.41011345e-13, 0.999993205, 2.63962636e-11, 3.84834969e-10, 5.56750092e-06, 5.42407742e-12, 2.2240032e-09, 1.54387447e-10, 8.60724469e-07, 3.80535653e-07]]"
      ]
     },
     "execution_count": 24,
     "metadata": {},
     "output_type": "execute_result"
    }
   ],
   "source": [
    "response.predictions"
   ]
  },
  {
   "cell_type": "code",
   "execution_count": 25,
   "id": "709d822a",
   "metadata": {},
   "outputs": [
    {
     "data": {
      "text/plain": [
       "1"
      ]
     },
     "execution_count": 25,
     "metadata": {},
     "output_type": "execute_result"
    }
   ],
   "source": [
    "import numpy as np\n",
    "np.argmax(response.predictions[0])"
   ]
  },
  {
   "cell_type": "markdown",
   "id": "3c612883",
   "metadata": {},
   "source": [
    "---"
   ]
  },
  {
   "cell_type": "markdown",
   "id": "bd21235a",
   "metadata": {},
   "source": [
    "## Remove Resources\n",
    "- undeploy model\n",
    "- delete endpoint\n",
    "- remove model\n",
    "- delete training > custom job\n",
    "- delete training > training pipeline\n",
    "- delete python training application\n",
    "    - these could be used by later notebooks in this project"
   ]
  },
  {
   "cell_type": "markdown",
   "id": "9d9219c7",
   "metadata": {},
   "source": [
    "Get Pipeline Info:"
   ]
  },
  {
   "cell_type": "code",
   "execution_count": 34,
   "id": "d645327b",
   "metadata": {},
   "outputs": [],
   "source": [
    "pipe_info = clients['pipeline'].get_training_pipeline(name=pipeline.name)"
   ]
  },
  {
   "cell_type": "markdown",
   "id": "c4ae0bf3",
   "metadata": {},
   "source": [
    "Undeploy Model:"
   ]
  },
  {
   "cell_type": "code",
   "execution_count": 26,
   "id": "297a8d2d",
   "metadata": {},
   "outputs": [
    {
     "data": {
      "text/plain": [
       "<google.api_core.operation.Operation at 0x7f294c6d86d0>"
      ]
     },
     "execution_count": 26,
     "metadata": {},
     "output_type": "execute_result"
    }
   ],
   "source": [
    "dmodel = clients['endpoint'].get_endpoint(name=endpoint_info.name).deployed_models[0].id\n",
    "clients['endpoint'].undeploy_model(endpoint=endpoint_info.name, deployed_model_id=dmodel)"
   ]
  },
  {
   "cell_type": "markdown",
   "id": "9ee3ab86",
   "metadata": {},
   "source": [
    "Delete Endpoint:"
   ]
  },
  {
   "cell_type": "code",
   "execution_count": 27,
   "id": "17b7b278",
   "metadata": {},
   "outputs": [
    {
     "data": {
      "text/plain": [
       "<google.api_core.operation.Operation at 0x7f294c69fad0>"
      ]
     },
     "execution_count": 27,
     "metadata": {},
     "output_type": "execute_result"
    }
   ],
   "source": [
    "clients['endpoint'].delete_endpoint(name=endpoint_info.name)"
   ]
  },
  {
   "cell_type": "markdown",
   "id": "e5164db2",
   "metadata": {},
   "source": [
    "Remove Model:"
   ]
  },
  {
   "cell_type": "code",
   "execution_count": 36,
   "id": "443c508a",
   "metadata": {},
   "outputs": [
    {
     "data": {
      "text/plain": [
       "<google.api_core.operation.Operation at 0x7f294c188650>"
      ]
     },
     "execution_count": 36,
     "metadata": {},
     "output_type": "execute_result"
    }
   ],
   "source": [
    "clients['model'] = aiplatform.gapic.ModelServiceClient(client_options=client_options)\n",
    "clients['model'].delete_model(name=pipe_info.model_to_upload.name)"
   ]
  },
  {
   "cell_type": "markdown",
   "id": "1bb4b11f",
   "metadata": {},
   "source": [
    "Delete Training > Custom Job:"
   ]
  },
  {
   "cell_type": "code",
   "execution_count": 46,
   "id": "6e3467d6",
   "metadata": {},
   "outputs": [
    {
     "data": {
      "text/plain": [
       "<google.api_core.operation.Operation at 0x7f294c6ff710>"
      ]
     },
     "execution_count": 46,
     "metadata": {},
     "output_type": "execute_result"
    }
   ],
   "source": [
    "clients['job'] = aiplatform.gapic.JobServiceClient(client_options=client_options)\n",
    "clients['job'].delete_custom_job(name=pipe_info.training_task_metadata._pb['backingCustomJob'].string_value)"
   ]
  },
  {
   "cell_type": "markdown",
   "id": "304eff71",
   "metadata": {},
   "source": [
    "Delete Training > Training Pipeline:"
   ]
  },
  {
   "cell_type": "code",
   "execution_count": 49,
   "id": "4de83f20",
   "metadata": {},
   "outputs": [
    {
     "data": {
      "text/plain": [
       "<google.api_core.operation.Operation at 0x7f294c18e8d0>"
      ]
     },
     "execution_count": 49,
     "metadata": {},
     "output_type": "execute_result"
    }
   ],
   "source": [
    "clients['pipeline'].delete_training_pipeline(name=pipeline.name)"
   ]
  },
  {
   "cell_type": "markdown",
   "id": "0caa6546",
   "metadata": {},
   "source": [
    "Delete Model Files:\n",
    "- This includes the training package and the saved model\n",
    "- These could be useful for other notebooks"
   ]
  },
  {
   "cell_type": "code",
   "execution_count": 50,
   "id": "155b922f",
   "metadata": {},
   "outputs": [
    {
     "name": "stdout",
     "output_type": "stream",
     "text": [
      "<Blob: statmike-mlops, digits/aip_train_job/AIP_DIGITS_20210413150956/, 1618327171620676>\n",
      "<Blob: statmike-mlops, digits/aip_train_job/AIP_DIGITS_20210413150956/model/, 1618327171918285>\n",
      "<Blob: statmike-mlops, digits/aip_train_job/AIP_DIGITS_20210413150956/model/assets/, 1618327175253828>\n",
      "<Blob: statmike-mlops, digits/aip_train_job/AIP_DIGITS_20210413150956/model/saved_model.pb, 1618327175719390>\n",
      "<Blob: statmike-mlops, digits/aip_train_job/AIP_DIGITS_20210413150956/model/variables/, 1618327172067587>\n",
      "<Blob: statmike-mlops, digits/aip_train_job/AIP_DIGITS_20210413150956/model/variables/variables.data-00000-of-00001, 1618327174237522>\n",
      "<Blob: statmike-mlops, digits/aip_train_job/AIP_DIGITS_20210413150956/model/variables/variables.index, 1618327174494912>\n",
      "<Blob: statmike-mlops, digits/aip_train_job/trainer_cifar.tar.gz, 1618322304382464>\n"
     ]
    }
   ],
   "source": [
    "from google.cloud import storage\n",
    "gcs = storage.Client()\n",
    "\n",
    "path = gcs.bucket(PROJECT_ID)\n",
    "blobs = path.list_blobs(prefix='digits/aip_train_job')\n",
    "for blob in blobs:\n",
    "    print(blob)\n",
    "    blob.delete()"
   ]
  },
  {
   "cell_type": "code",
   "execution_count": null,
   "id": "4d93055e",
   "metadata": {},
   "outputs": [],
   "source": []
  }
 ],
 "metadata": {
  "environment": {
   "name": "managed-notebooks.m70",
   "type": "gcloud",
   "uri": "gcr.io/deeplearning-platform-release/managed-notebooks:m70"
  },
  "kernelspec": {
   "display_name": "Python",
   "language": "python",
   "name": "base"
  },
  "language_info": {
   "codemirror_mode": {
    "name": "ipython",
    "version": 3
   },
   "file_extension": ".py",
   "mimetype": "text/x-python",
   "name": "python",
   "nbconvert_exporter": "python",
   "pygments_lexer": "ipython3",
   "version": "3.7.10"
  }
 },
 "nbformat": 4,
 "nbformat_minor": 5
}
