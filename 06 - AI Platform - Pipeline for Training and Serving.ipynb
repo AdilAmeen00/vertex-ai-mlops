{
 "cells": [
  {
   "cell_type": "markdown",
   "id": "shaped-cooperation",
   "metadata": {},
   "source": [
    "# AI Platform - Pipeline for Training and Serving\n",
    "\n",
    "This notebook uses create a python package for a TensorFlow training project that uses the `<PROJECT_ID>.digits.digits_prepped` BigQuery table. AI Platform clients are used to setup an AI Platform custom training pipeline that runs the training job and uploads the resulting model.  Then AI Platform clients are used to deploy the model to an endpoint for online predictions.\n",
    "\n",
    "**Prerequisites**\n",
    "- `00 - Initial Setup`\n",
    "- `01 - BigQuery - Data`\n",
    "- `05 - AI Platform - Training Job and Serving` \n",
    "    - this notebook uses the python package created in 05\n",
    "    \n",
    "**Resources**\n",
    "- Based on:\n",
    "    - https://cloud.google.com/ai-platform-unified/docs/training/create-training-pipeline#custom-job-model-upload\n",
    "- Using PipelineService:\n",
    "    - https://googleapis.dev/python/aiplatform/latest/aiplatform_v1beta1/pipeline_service.html\n",
    "    \n",
    "---"
   ]
  },
  {
   "cell_type": "markdown",
   "id": "integrated-yield",
   "metadata": {},
   "source": [
    "## Custom Pipeline Job"
   ]
  },
  {
   "cell_type": "markdown",
   "id": "excellent-model",
   "metadata": {},
   "source": [
    "Setup the environment:"
   ]
  },
  {
   "cell_type": "code",
   "execution_count": 18,
   "id": "informed-divorce",
   "metadata": {},
   "outputs": [],
   "source": [
    "from google.cloud import aiplatform\n",
    "from google.protobuf import json_format\n",
    "from google.protobuf.struct_pb2 import Value\n",
    "from datetime import datetime"
   ]
  },
  {
   "cell_type": "markdown",
   "id": "norman-bacon",
   "metadata": {},
   "source": [
    "Define Parameters:"
   ]
  },
  {
   "cell_type": "code",
   "execution_count": 19,
   "id": "thrown-publisher",
   "metadata": {},
   "outputs": [],
   "source": [
    "# Locations\n",
    "REGION = 'us-central1'\n",
    "PROJECT_ID='statmike-mlops'\n",
    "BUCKET_NAME='gs://statmike-models/digits/aip_train_job' #BUCKET_NAME\n",
    "TIMESTAMP = datetime.now().strftime(\"%Y%m%d%H%M%S\")\n",
    "JOB_NAME='AIP_DIGITS_'+TIMESTAMP\n",
    "MODEL_DIR = '{}/{}'.format(BUCKET_NAME, JOB_NAME)\n",
    "PARENT = \"projects/\" + PROJECT_ID + \"/locations/\" + REGION\n",
    "\n",
    "# Resources\n",
    "TRAIN_IMAGE='us-docker.pkg.dev/cloud-aiplatform/training/tf-cpu.2-4:latest'\n",
    "DEPLOY_IMAGE ='us-docker.pkg.dev/cloud-aiplatform/prediction/tf2-cpu.2-3:latest'\n",
    "TRAIN_COMPUTE='n1-standard-4'\n",
    "DEPLOY_COMPUTE='n1-standard-4'\n",
    "\n",
    "# TF Parameters to pass\n",
    "EPOCHS = 25\n",
    "BATCH_SIZE = 30"
   ]
  },
  {
   "cell_type": "markdown",
   "id": "minimal-awareness",
   "metadata": {},
   "source": [
    "Create a client for the AIP Pipeline Service:"
   ]
  },
  {
   "cell_type": "code",
   "execution_count": 20,
   "id": "respiratory-watershed",
   "metadata": {},
   "outputs": [],
   "source": [
    "API_ENDPOINT = \"{}-aiplatform.googleapis.com\".format(REGION)\n",
    "client_options = {\"api_endpoint\": API_ENDPOINT}\n",
    "clients = {}\n",
    "clients['pipeline'] = aiplatform.gapic.PipelineServiceClient(client_options=client_options)"
   ]
  },
  {
   "cell_type": "markdown",
   "id": "british-wallace",
   "metadata": {},
   "source": [
    "Define Training Job Parameters - to match the yaml spec in `gs://google-cloud-aiplatform/schema/trainingjob/definition/custom_task_1.0.0.yaml`)"
   ]
  },
  {
   "cell_type": "code",
   "execution_count": 21,
   "id": "simplified-miracle",
   "metadata": {},
   "outputs": [],
   "source": [
    "MACHINE_SPEC = {\n",
    "    \"machineType\": TRAIN_COMPUTE,\n",
    "    \"acceleratorCount\": 0\n",
    "}\n",
    "\n",
    "\n",
    "CMDARGS = [\n",
    "    \"--epochs=\" + str(EPOCHS),\n",
    "    \"--batch_size=\" + str(BATCH_SIZE)\n",
    "]\n",
    "\n",
    "WORKER_POOL_SPEC = [\n",
    "    {\n",
    "        \"replicaCount\": 1,\n",
    "        \"machineSpec\": MACHINE_SPEC,\n",
    "        \"pythonPackageSpec\": {\n",
    "            \"executorImageUri\": TRAIN_IMAGE,\n",
    "            \"packageUris\": [BUCKET_NAME + \"/trainer_cifar.tar.gz\"],\n",
    "            \"pythonModule\": \"trainer.task\",\n",
    "            \"args\": CMDARGS\n",
    "        }\n",
    "    }\n",
    "]\n",
    "\n",
    "JOB_SPEC = {\n",
    "    \"workerPoolSpecs\": WORKER_POOL_SPEC,\n",
    "    \"baseOutputDirectory\": {\"outputUriPrefix\": MODEL_DIR}\n",
    "    \n",
    "}\n",
    "\n",
    "CUSTOM_JOB = {\n",
    "    \"display_name\": JOB_NAME,\n",
    "    \"job_spec\": JOB_SPEC\n",
    "}"
   ]
  },
  {
   "cell_type": "markdown",
   "id": "elementary-singles",
   "metadata": {},
   "source": [
    "Define Training Pipeline Parameters:"
   ]
  },
  {
   "cell_type": "code",
   "execution_count": 23,
   "id": "saving-enterprise",
   "metadata": {},
   "outputs": [],
   "source": [
    "training_task_definition = \"gs://google-cloud-aiplatform/schema/trainingjob/definition/custom_task_1.0.0.yaml\"\n",
    "training_task_inputs = json_format.ParseDict(JOB_SPEC, Value())\n",
    "\n",
    "training_pipeline = {\n",
    "    \"display_name\": JOB_NAME,\n",
    "    \"training_task_definition\": training_task_definition,\n",
    "    \"training_task_inputs\": training_task_inputs,\n",
    "    \"model_to_upload\": {\n",
    "        \"display_name\": JOB_NAME,\n",
    "        \"container_spec\": {\"image_uri\": DEPLOY_IMAGE},\n",
    "    },\n",
    "}"
   ]
  },
  {
   "cell_type": "markdown",
   "id": "filled-hundred",
   "metadata": {},
   "source": [
    "Submit pipeline job:\n",
    "- this create a pipeline job\n",
    "    - which create a custom training job\n",
    "    - and when complete, uploads a model"
   ]
  },
  {
   "cell_type": "code",
   "execution_count": 24,
   "id": "trained-advocate",
   "metadata": {},
   "outputs": [],
   "source": [
    "pipeline = clients['pipeline'].create_training_pipeline(parent=PARENT, training_pipeline=training_pipeline)"
   ]
  },
  {
   "cell_type": "code",
   "execution_count": 42,
   "id": "saving-november",
   "metadata": {},
   "outputs": [
    {
     "data": {
      "text/plain": [
       "<PipelineState.PIPELINE_STATE_SUCCEEDED: 4>"
      ]
     },
     "execution_count": 42,
     "metadata": {},
     "output_type": "execute_result"
    }
   ],
   "source": [
    "clients['pipeline'].get_training_pipeline(name=pipeline.name).state"
   ]
  },
  {
   "cell_type": "code",
   "execution_count": 44,
   "id": "comparable-lindsay",
   "metadata": {},
   "outputs": [
    {
     "data": {
      "text/plain": [
       "'projects/691911073727/locations/us-central1/models/2238799188198424576'"
      ]
     },
     "execution_count": 44,
     "metadata": {},
     "output_type": "execute_result"
    }
   ],
   "source": [
    "clients['pipeline'].get_training_pipeline(name=pipeline.name).model_to_upload.name"
   ]
  },
  {
   "cell_type": "markdown",
   "id": "warming-tribune",
   "metadata": {},
   "source": [
    "## Endpoint Creation"
   ]
  },
  {
   "cell_type": "markdown",
   "id": "neither-grammar",
   "metadata": {},
   "source": [
    "Create a client to the endpoint service:"
   ]
  },
  {
   "cell_type": "code",
   "execution_count": 37,
   "id": "concerned-resident",
   "metadata": {},
   "outputs": [],
   "source": [
    "clients['endpoint'] = aiplatform.gapic.EndpointServiceClient(client_options=client_options)"
   ]
  },
  {
   "cell_type": "markdown",
   "id": "threaded-zambia",
   "metadata": {},
   "source": [
    "Create the endpoint:"
   ]
  },
  {
   "cell_type": "code",
   "execution_count": 38,
   "id": "formal-hacker",
   "metadata": {},
   "outputs": [],
   "source": [
    "ENDPOINT_NAME = 'ENDPOINT_'+JOB_NAME\n",
    "endpoint = clients['endpoint'].create_endpoint(parent=PARENT, endpoint={\"display_name\": ENDPOINT_NAME})"
   ]
  },
  {
   "cell_type": "code",
   "execution_count": 39,
   "id": "upper-distribution",
   "metadata": {},
   "outputs": [
    {
     "data": {
      "text/plain": [
       "'projects/691911073727/locations/us-central1/endpoints/1850715564058607616'"
      ]
     },
     "execution_count": 39,
     "metadata": {},
     "output_type": "execute_result"
    }
   ],
   "source": [
    "endpoint_info = clients['endpoint'].get_endpoint(name=endpoint.result(timeout=180).name)\n",
    "endpoint_info.name"
   ]
  },
  {
   "cell_type": "markdown",
   "id": "veterinary-objective",
   "metadata": {},
   "source": [
    "## Deploy Model to Endpoint"
   ]
  },
  {
   "cell_type": "markdown",
   "id": "noticed-rapid",
   "metadata": {},
   "source": [
    "Setup Deployment Parameters:"
   ]
  },
  {
   "cell_type": "code",
   "execution_count": 45,
   "id": "efficient-inspector",
   "metadata": {},
   "outputs": [],
   "source": [
    "MACHINE_SPEC = {\n",
    "    \"machine_type\": DEPLOY_COMPUTE,\n",
    "    \"accelerator_count\": 0,\n",
    "}\n",
    "DMODEL = {\n",
    "        \"model\": clients['pipeline'].get_training_pipeline(name=pipeline.name).model_to_upload.name,\n",
    "        \"display_name\": 'DEPLOYED_'+JOB_NAME,\n",
    "        \"dedicated_resources\": {\n",
    "            \"min_replica_count\": 1,\n",
    "            \"max_replica_count\": 2,\n",
    "            \"machine_spec\": MACHINE_SPEC\n",
    "        }   \n",
    "}\n",
    "TRAFFIC = {\n",
    "    '0' : 100\n",
    "}"
   ]
  },
  {
   "cell_type": "markdown",
   "id": "professional-regard",
   "metadata": {},
   "source": [
    "Deploy the Model to the Endpoint:"
   ]
  },
  {
   "cell_type": "code",
   "execution_count": 46,
   "id": "first-glance",
   "metadata": {},
   "outputs": [],
   "source": [
    "dmodel = clients['endpoint'].deploy_model(endpoint=endpoint_info.name, deployed_model=DMODEL, traffic_split=TRAFFIC)"
   ]
  },
  {
   "cell_type": "code",
   "execution_count": 47,
   "id": "decimal-acceptance",
   "metadata": {},
   "outputs": [
    {
     "data": {
      "text/plain": [
       "'5497646099810222080'"
      ]
     },
     "execution_count": 47,
     "metadata": {},
     "output_type": "execute_result"
    }
   ],
   "source": [
    "dmodel_info = dmodel.result().deployed_model\n",
    "dmodel_info.id"
   ]
  },
  {
   "cell_type": "code",
   "execution_count": 48,
   "id": "fitting-consent",
   "metadata": {},
   "outputs": [
    {
     "data": {
      "text/plain": [
       "name: \"projects/691911073727/locations/us-central1/endpoints/1850715564058607616\"\n",
       "display_name: \"ENDPOINT_AIP_DIGITS_20210409142218\"\n",
       "deployed_models {\n",
       "  id: \"5497646099810222080\"\n",
       "  model: \"projects/691911073727/locations/us-central1/models/2238799188198424576\"\n",
       "  display_name: \"DEPLOYED_AIP_DIGITS_20210409142218\"\n",
       "  create_time {\n",
       "    seconds: 1617979855\n",
       "    nanos: 461607000\n",
       "  }\n",
       "  dedicated_resources {\n",
       "    machine_spec {\n",
       "      machine_type: \"n1-standard-4\"\n",
       "    }\n",
       "    min_replica_count: 1\n",
       "    max_replica_count: 2\n",
       "  }\n",
       "}\n",
       "traffic_split {\n",
       "  key: \"5497646099810222080\"\n",
       "  value: 100\n",
       "}\n",
       "etag: \"AMEw9yMF8HoITBhm7DMXeam-BWvm8_AFjkyHLt02knf6_ZIddmFfWDqg4Hya5RtoK4Lw\"\n",
       "create_time {\n",
       "  seconds: 1617979570\n",
       "  nanos: 616844000\n",
       "}\n",
       "update_time {\n",
       "  seconds: 1617980054\n",
       "  nanos: 672091000\n",
       "}"
      ]
     },
     "execution_count": 48,
     "metadata": {},
     "output_type": "execute_result"
    }
   ],
   "source": [
    "clients['endpoint'].get_endpoint(name=endpoint_info.name)"
   ]
  },
  {
   "cell_type": "markdown",
   "id": "verified-today",
   "metadata": {},
   "source": [
    "## Prediction"
   ]
  },
  {
   "cell_type": "markdown",
   "id": "creative-brush",
   "metadata": {},
   "source": [
    "Create a client to the prediction service:"
   ]
  },
  {
   "cell_type": "code",
   "execution_count": 49,
   "id": "determined-fabric",
   "metadata": {},
   "outputs": [],
   "source": [
    "clients['prediction'] = aiplatform.gapic.PredictionServiceClient(client_options=client_options)"
   ]
  },
  {
   "cell_type": "code",
   "execution_count": 55,
   "id": "micro-council",
   "metadata": {},
   "outputs": [
    {
     "data": {
      "text/plain": [
       "'ENDPOINT_AIP_DIGITS_20210409142218'"
      ]
     },
     "execution_count": 55,
     "metadata": {},
     "output_type": "execute_result"
    }
   ],
   "source": [
    "endpoint_info.display_name"
   ]
  },
  {
   "cell_type": "markdown",
   "id": "furnished-disposal",
   "metadata": {},
   "source": [
    "Setup an observation for prediction:"
   ]
  },
  {
   "cell_type": "code",
   "execution_count": 57,
   "id": "amateur-asian",
   "metadata": {},
   "outputs": [],
   "source": [
    "%%bigquery pred\n",
    "SELECT *\n",
    "FROM ML.PREDICT(MODEL `statmike-mlops.digits.digits_lr`,(\n",
    "    SELECT *\n",
    "    FROM `statmike-mlops.digits.digits_prepped`)\n",
    "  )"
   ]
  },
  {
   "cell_type": "code",
   "execution_count": 65,
   "id": "automotive-lodging",
   "metadata": {},
   "outputs": [],
   "source": [
    "newob = pred.loc[:0,'p0':'p63'].to_dict(orient='records')[0]\n",
    "#newob"
   ]
  },
  {
   "cell_type": "code",
   "execution_count": 63,
   "id": "protective-cloud",
   "metadata": {},
   "outputs": [
    {
     "data": {
      "text/plain": [
       "[[0.999997139, 9.27718926e-12, 2.80958579e-06, 4.09633083e-09, 7.97816078e-13, 2.13014806e-09, 8.16476131e-08, 2.0208718e-10, 5.25585853e-10, 2.79572152e-08]]"
      ]
     },
     "execution_count": 63,
     "metadata": {},
     "output_type": "execute_result"
    }
   ],
   "source": [
    "from google.protobuf import json_format\n",
    "from google.protobuf.struct_pb2 import Value\n",
    "\n",
    "response = clients['prediction'].predict(endpoint=endpoint_info.name, instances=[json_format.ParseDict(newob, Value())], parameters=json_format.ParseDict({}, Value()))\n",
    "prediction = response.predictions\n",
    "prediction"
   ]
  },
  {
   "cell_type": "code",
   "execution_count": 64,
   "id": "afraid-hebrew",
   "metadata": {},
   "outputs": [
    {
     "data": {
      "text/plain": [
       "0"
      ]
     },
     "execution_count": 64,
     "metadata": {},
     "output_type": "execute_result"
    }
   ],
   "source": [
    "import numpy as np\n",
    "np.argmax(prediction[0])"
   ]
  },
  {
   "cell_type": "code",
   "execution_count": null,
   "id": "juvenile-linux",
   "metadata": {},
   "outputs": [],
   "source": []
  }
 ],
 "metadata": {
  "environment": {
   "name": "tf2-gpu.2-4.m65",
   "type": "gcloud",
   "uri": "gcr.io/deeplearning-platform-release/tf2-gpu.2-4:m65"
  },
  "kernelspec": {
   "display_name": "Python 3",
   "language": "python",
   "name": "python3"
  },
  "language_info": {
   "codemirror_mode": {
    "name": "ipython",
    "version": 3
   },
   "file_extension": ".py",
   "mimetype": "text/x-python",
   "name": "python",
   "nbconvert_exporter": "python",
   "pygments_lexer": "ipython3",
   "version": "3.7.10"
  }
 },
 "nbformat": 4,
 "nbformat_minor": 5
}
