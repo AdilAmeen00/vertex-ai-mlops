{
 "cells": [
  {
   "cell_type": "markdown",
   "id": "76027c8e",
   "metadata": {},
   "source": [
    "# Vertex AI - Training Job and Serving\n",
    "\n",
    "This notebook creates a python package for a TensorFlow training project that uses the `<PROJECT_ID>.digits.digits_prepped` BigQuery table. Vertex AI clients are used to setup a Vertex AI custom training job to run the training package.  Then Vertex AI clients are used to upload the model and deploy it to an endpoint for online predictions.\n",
    "\n",
    "**Prerequisites**\n",
    "- `00 - Initial Setup`\n",
    "- `01 - BigQuery - Data`\n",
    "- `04 - Vertex AI - Notebook` (helpful to understand)\n",
    "    - the model created here is stored in a python package in this notebook\n",
    "    \n",
    "**Resources**\n",
    "- Adopted From:\n",
    "    - https://github.com/GoogleCloudPlatform/ai-platform-samples/blob/master/ai-platform-unified/notebooks/custom_job_image_classification_model_for_online_prediction.ipynb\n",
    "- Using Google Cloud Client Libraries (Python for Vertex AI):\n",
    "    - https://googleapis.dev/python/aiplatform/latest/index.html\n",
    "\n",
    "**Overview**\n",
    "\n",
    "<img src=\"architectures/statmike-mlops-05b.png\">"
   ]
  },
  {
   "cell_type": "markdown",
   "id": "b88c9ebd",
   "metadata": {},
   "source": [
    "---\n",
    "## Setup"
   ]
  },
  {
   "cell_type": "markdown",
   "id": "87762393",
   "metadata": {},
   "source": [
    "Setup the environment:"
   ]
  },
  {
   "cell_type": "code",
   "execution_count": 15,
   "id": "3f377f13",
   "metadata": {},
   "outputs": [],
   "source": [
    "from google.cloud import aiplatform\n",
    "from google.cloud import aiplatform_v1beta1\n",
    "from google.protobuf import json_format\n",
    "from google.protobuf.struct_pb2 import Value\n",
    "from datetime import datetime"
   ]
  },
  {
   "cell_type": "markdown",
   "id": "1cfd4e17",
   "metadata": {},
   "source": [
    "Define Parameters:"
   ]
  },
  {
   "cell_type": "code",
   "execution_count": 16,
   "id": "81d4b32e",
   "metadata": {},
   "outputs": [],
   "source": [
    "# Locations\n",
    "REGION = 'us-central1'\n",
    "PROJECT_ID='statmike-mlops'\n",
    "BUCKET_NAME='gs://{}/digits/model/05_aip_train_job'.format(PROJECT_ID)\n",
    "TIMESTAMP = datetime.now().strftime(\"%Y%m%d%H%M%S\")\n",
    "EXPERIMENT_NAME = '05_AIP_DIGITS_'\n",
    "JOB_NAME = EXPERIMENT_NAME+TIMESTAMP\n",
    "MODEL_DIR = '{}/{}'.format(BUCKET_NAME, JOB_NAME)\n",
    "PARENT = \"projects/\" + PROJECT_ID + \"/locations/\" + REGION\n",
    "\n",
    "# Resources\n",
    "TRAIN_IMAGE='us-docker.pkg.dev/cloud-aiplatform/training/tf-cpu.2-4:latest'\n",
    "DEPLOY_IMAGE ='us-docker.pkg.dev/cloud-aiplatform/prediction/tf2-cpu.2-3:latest'\n",
    "TRAIN_COMPUTE='n1-standard-4'\n",
    "DEPLOY_COMPUTE='n1-standard-4'\n",
    "\n",
    "# TF Parameters to pass\n",
    "EPOCHS = 25\n",
    "BATCH_SIZE = 30"
   ]
  },
  {
   "cell_type": "markdown",
   "id": "640710e5",
   "metadata": {},
   "source": [
    "Get Service Account email:"
   ]
  },
  {
   "cell_type": "code",
   "execution_count": 36,
   "id": "5f3664a4",
   "metadata": {},
   "outputs": [
    {
     "name": "stdout",
     "output_type": "stream",
     "text": [
      "WARNING:googleapiclient.discovery_cache:file_cache is unavailable when using oauth2client >= 4.0.0 or google-auth\n",
      "Traceback (most recent call last):\n",
      "  File \"/home/jupyter/.local/lib/python3.7/site-packages/googleapiclient/discovery_cache/file_cache.py\", line 33, in <module>\n",
      "    from oauth2client.contrib.locked_file import LockedFile\n",
      "ModuleNotFoundError: No module named 'oauth2client.contrib.locked_file'\n",
      "\n",
      "During handling of the above exception, another exception occurred:\n",
      "\n",
      "Traceback (most recent call last):\n",
      "  File \"/home/jupyter/.local/lib/python3.7/site-packages/googleapiclient/discovery_cache/file_cache.py\", line 37, in <module>\n",
      "    from oauth2client.locked_file import LockedFile\n",
      "ModuleNotFoundError: No module named 'oauth2client.locked_file'\n",
      "\n",
      "During handling of the above exception, another exception occurred:\n",
      "\n",
      "Traceback (most recent call last):\n",
      "  File \"/home/jupyter/.local/lib/python3.7/site-packages/googleapiclient/discovery_cache/__init__.py\", line 44, in autodetect\n",
      "    from . import file_cache\n",
      "  File \"/home/jupyter/.local/lib/python3.7/site-packages/googleapiclient/discovery_cache/file_cache.py\", line 41, in <module>\n",
      "    \"file_cache is unavailable when using oauth2client >= 4.0.0 or google-auth\"\n",
      "ImportError: file_cache is unavailable when using oauth2client >= 4.0.0 or google-auth\n"
     ]
    }
   ],
   "source": [
    "from googleapiclient import discovery\n",
    "from oauth2client.client import GoogleCredentials\n",
    "\n",
    "credentials = GoogleCredentials.get_application_default()\n",
    "\n",
    "service = discovery.build('iam', 'v1', credentials=credentials)"
   ]
  },
  {
   "cell_type": "code",
   "execution_count": 37,
   "id": "be0df6a2",
   "metadata": {},
   "outputs": [],
   "source": [
    "request = service.projects().serviceAccounts().list(name=\"projects/\"+PROJECT_ID)\n",
    "response = request.execute()"
   ]
  },
  {
   "cell_type": "code",
   "execution_count": 54,
   "id": "8430e842",
   "metadata": {},
   "outputs": [
    {
     "data": {
      "text/plain": [
       "'691911073727-compute@developer.gserviceaccount.com'"
      ]
     },
     "execution_count": 54,
     "metadata": {},
     "output_type": "execute_result"
    }
   ],
   "source": [
    "SERVICE_ACCOUNT = response['accounts'][0]['email']\n",
    "SERVICE_ACCOUNT"
   ]
  },
  {
   "cell_type": "markdown",
   "id": "278d1204",
   "metadata": {},
   "source": [
    "Setup AI Platform Python Clients\n",
    "- https://googleapis.dev/python/aiplatform/latest/index.html"
   ]
  },
  {
   "cell_type": "code",
   "execution_count": 55,
   "id": "640329be",
   "metadata": {},
   "outputs": [],
   "source": [
    "API_ENDPOINT = \"{}-aiplatform.googleapis.com\".format(REGION)\n",
    "client_options = {\"api_endpoint\": API_ENDPOINT}\n",
    "clients = {}"
   ]
  },
  {
   "cell_type": "markdown",
   "id": "cc7b113e",
   "metadata": {},
   "source": [
    "---\n",
    "## Get Tensorboard Instance Name\n",
    "The training job will show up as an experiment for the Tensorboard instance and have the same name as the training job ID."
   ]
  },
  {
   "cell_type": "code",
   "execution_count": 56,
   "id": "7c7f1c55",
   "metadata": {},
   "outputs": [],
   "source": [
    "clients['tb'] = aiplatform_v1beta1.TensorboardServiceClient(client_options=client_options)\n",
    "BASE_RESOURCE_PATH = clients['tb'].common_location_path(PROJECT_ID, REGION)"
   ]
  },
  {
   "cell_type": "code",
   "execution_count": 57,
   "id": "3c00421e",
   "metadata": {},
   "outputs": [
    {
     "data": {
      "text/plain": [
       "name: \"projects/691911073727/locations/us-central1/tensorboards/3200124194595536896\"\n",
       "display_name: \"Tensorboad for handwritten digits model training\"\n",
       "create_time {\n",
       "  seconds: 1626258358\n",
       "  nanos: 718869000\n",
       "}\n",
       "update_time {\n",
       "  seconds: 1626258390\n",
       "  nanos: 357761000\n",
       "}\n",
       "etag: \"AMEw9yOmSjLuxd9EdRyz-ArmyrlA60OHilHfg5_ZYfcIbJNTEyTXbJkRkzf373PvkWwJ\"\n",
       "blob_storage_path_prefix: \"cloud-ai-platform-f89edcdf-ac24-4545-a8c4-14e268905904\""
      ]
     },
     "execution_count": 57,
     "metadata": {},
     "output_type": "execute_result"
    }
   ],
   "source": [
    "tensorboard = list(clients['tb'].list_tensorboards(parent=PARENT))[0]\n",
    "tensorboard"
   ]
  },
  {
   "cell_type": "code",
   "execution_count": 59,
   "id": "5ea1f512",
   "metadata": {},
   "outputs": [],
   "source": [
    "TENSORBOARD_NAME = tensorboard.name"
   ]
  },
  {
   "cell_type": "markdown",
   "id": "76b3e019",
   "metadata": {},
   "source": [
    "---\n",
    "## Training Job"
   ]
  },
  {
   "cell_type": "markdown",
   "id": "a496e8b5",
   "metadata": {},
   "source": [
    "Create a client for the AIP Job Service:"
   ]
  },
  {
   "cell_type": "code",
   "execution_count": 60,
   "id": "cc1b45b0",
   "metadata": {},
   "outputs": [],
   "source": [
    "#clients['job'] = aiplatform.gapic.JobServiceClient(client_options=client_options)\n",
    "clients['job'] = aiplatform_v1beta1.JobServiceClient(client_options=client_options)"
   ]
  },
  {
   "cell_type": "markdown",
   "id": "119a2655",
   "metadata": {},
   "source": [
    "Define job parameters to pass to the client:"
   ]
  },
  {
   "cell_type": "code",
   "execution_count": 66,
   "id": "cb5d0e08",
   "metadata": {},
   "outputs": [],
   "source": [
    "MACHINE_SPEC = {\n",
    "    \"machine_type\": TRAIN_COMPUTE,\n",
    "    \"accelerator_count\": 0\n",
    "}\n",
    "\n",
    "\n",
    "CMDARGS = [\n",
    "    \"--epochs=\" + str(EPOCHS),\n",
    "    \"--batch_size=\" + str(BATCH_SIZE)\n",
    "]\n",
    "\n",
    "WORKER_POOL_SPEC = [\n",
    "    {\n",
    "        \"replica_count\": 1,\n",
    "        \"machine_spec\": MACHINE_SPEC,\n",
    "        \"python_package_spec\": {\n",
    "            \"executor_image_uri\": TRAIN_IMAGE,\n",
    "            \"package_uris\": [BUCKET_NAME + \"/trainer_cifar.tar.gz\"],\n",
    "            \"python_module\": \"trainer.task\",\n",
    "            \"args\": CMDARGS\n",
    "        }\n",
    "    }\n",
    "]\n",
    "\n",
    "JOB_SPEC = {\n",
    "    \"worker_pool_specs\": WORKER_POOL_SPEC,\n",
    "    \"base_output_directory\": {\"output_uri_prefix\": MODEL_DIR},\n",
    "    \"tensorboard\": TENSORBOARD_NAME,\n",
    "    \"service_account\": SERVICE_ACCOUNT\n",
    "}\n",
    "\n",
    "CUSTOM_JOB = {\n",
    "    \"display_name\": JOB_NAME,\n",
    "    \"job_spec\": JOB_SPEC\n",
    "}"
   ]
  },
  {
   "cell_type": "markdown",
   "id": "968aa6b6",
   "metadata": {},
   "source": [
    "Assemble the Python training package:"
   ]
  },
  {
   "cell_type": "code",
   "execution_count": 67,
   "id": "a5d246c1",
   "metadata": {},
   "outputs": [
    {
     "name": "stdout",
     "output_type": "stream",
     "text": [
      "E0714 17:10:02.837703536    1201 backup_poller.cc:133]       Run client channel backup poller: {\"created\":\"@1626282602.837552623\",\"description\":\"pollset_work\",\"file\":\"src/core/lib/iomgr/ev_epollex_linux.cc\",\"file_line\":321,\"referenced_errors\":[{\"created\":\"@1626282602.837524068\",\"description\":\"Bad file descriptor\",\"errno\":9,\"file\":\"src/core/lib/iomgr/ev_epollex_linux.cc\",\"file_line\":952,\"os_error\":\"Bad file descriptor\",\"syscall\":\"epoll_wait\"}]}\n"
     ]
    }
   ],
   "source": [
    "!rm -rf custom\n",
    "!mkdir custom\n",
    "\n",
    "\n",
    "setup_py = \"from setuptools import setup\\n\\\n",
    "if __name__ == '__main__':\\n\\\n",
    "    setup()\"\n",
    "\n",
    "setup_py = \"import setuptools\\n\\\n",
    "REQUIRED_PACKAGES = ['tensorflow_io']\\n\\\n",
    "setuptools.setup(\\n\\\n",
    "    name='trainer',\\n\\\n",
    "    version='0.1',\\n\\\n",
    "    #install_requires=REQUIRED_PACKAGES,\\n\\\n",
    "    packages=setuptools.find_packages(),\\n\\\n",
    "    #include_package_data=True,\\n\\\n",
    "    description='Digit Training Package')\"\n",
    "\n",
    "!echo \"$setup_py\" > custom/setup.py\n",
    "\n",
    "!mkdir custom/trainer\n",
    "!touch custom/trainer/__init__.py"
   ]
  },
  {
   "cell_type": "code",
   "execution_count": 68,
   "id": "0fbff218",
   "metadata": {},
   "outputs": [
    {
     "name": "stdout",
     "output_type": "stream",
     "text": [
      "Writing custom/trainer/task.py\n"
     ]
    }
   ],
   "source": [
    "%%writefile custom/trainer/task.py\n",
    "from tensorflow_io.bigquery import BigQueryClient\n",
    "from tensorflow_io.bigquery import BigQueryReadSession\n",
    "import tensorflow as tf\n",
    "from google.cloud import bigquery\n",
    "import argparse\n",
    "import os\n",
    "import sys\n",
    "\n",
    "parser = argparse.ArgumentParser()\n",
    "# the passed param, dest: a name for the param, default: if absent fetch this param from the OS, type: type to convert to, help: description of argument\n",
    "parser.add_argument('--model-dir', dest='model_dir', default=os.getenv(\"AIP_MODEL_DIR\"), type=str, help='Model dir.')\n",
    "parser.add_argument('--epochs',dest='epochs', default=10, type=int, help='Number of Epochs')\n",
    "parser.add_argument('--batch_size',dest='batch_size', default=32, type=int, help='Batch Size')\n",
    "#parser.add_argument('',dest='', default=, type=, help='')\n",
    "args = parser.parse_args()\n",
    "\n",
    "# built in parameters for data source:\n",
    "PROJECT_ID='statmike-mlops'\n",
    "BQDATASET_ID='digits'\n",
    "BQTABLE_ID='digits_prepped'\n",
    "\n",
    "selected_fields = ['p0', 'p1', 'p2', 'p3', 'p4', 'p5', 'p6', 'p7', 'p8', 'p9', 'p10', 'p11', 'p12', 'p13', 'p14', 'p15', 'p16', 'p17', 'p18', 'p19', 'p20', 'p21', 'p22', 'p23', 'p24', 'p25', 'p26', 'p27', 'p28', 'p29', 'p30', 'p31', 'p32', 'p33', 'p34', 'p35', 'p36', 'p37', 'p38', 'p39', 'p40', 'p41', 'p42', 'p43', 'p44', 'p45', 'p46', 'p47', 'p48', 'p49', 'p50', 'p51', 'p52', 'p53', 'p54', 'p55', 'p56', 'p57', 'p58', 'p59', 'p60', 'p61', 'p62', 'p63', 'target']\n",
    "output_types = ['FLOAT64', 'FLOAT64', 'FLOAT64', 'FLOAT64', 'FLOAT64', 'FLOAT64', 'FLOAT64', 'FLOAT64', 'FLOAT64', 'FLOAT64', 'FLOAT64', 'FLOAT64', 'FLOAT64', 'FLOAT64', 'FLOAT64', 'FLOAT64', 'FLOAT64', 'FLOAT64', 'FLOAT64', 'FLOAT64', 'FLOAT64', 'FLOAT64', 'FLOAT64', 'FLOAT64', 'FLOAT64', 'FLOAT64', 'FLOAT64', 'FLOAT64', 'FLOAT64', 'FLOAT64', 'FLOAT64', 'FLOAT64', 'FLOAT64', 'FLOAT64', 'FLOAT64', 'FLOAT64', 'FLOAT64', 'FLOAT64', 'FLOAT64', 'FLOAT64', 'FLOAT64', 'FLOAT64', 'FLOAT64', 'FLOAT64', 'FLOAT64', 'FLOAT64', 'FLOAT64', 'FLOAT64', 'FLOAT64', 'FLOAT64', 'FLOAT64', 'FLOAT64', 'FLOAT64', 'FLOAT64', 'FLOAT64', 'FLOAT64', 'FLOAT64', 'FLOAT64', 'FLOAT64', 'FLOAT64', 'FLOAT64', 'FLOAT64', 'FLOAT64', 'FLOAT64', 'INT64']\n",
    "\n",
    "feature_columns = []\n",
    "feature_layer_inputs = {}\n",
    "for header in selected_fields:\n",
    "    if header != 'target':\n",
    "        feature_columns.append(tf.feature_column.numeric_column(header))\n",
    "        feature_layer_inputs[header] = tf.keras.Input(shape=(1,),name=header)\n",
    "\n",
    "from tensorflow.python.framework import dtypes\n",
    "output_types = [dtypes.float64 if x=='FLOAT64' else dtypes.int64 for x in output_types]\n",
    "\n",
    "def transTable(row_dict):\n",
    "    target=row_dict.pop('target')\n",
    "    target = tf.one_hot(tf.cast(target,tf.int64),10)\n",
    "    target = tf.cast(target,tf.float32)\n",
    "    return(row_dict,target)\n",
    "\n",
    "client = BigQueryClient()\n",
    "session = client.read_session(\"projects/\"+PROJECT_ID,PROJECT_ID,BQTABLE_ID,BQDATASET_ID,selected_fields,output_types,row_restriction=\"SPLITS='TRAIN'\",requested_streams=3)\n",
    "table = session.parallel_read_rows()\n",
    "table = table.map(transTable)\n",
    "train = table.shuffle(100000).batch(args.batch_size)\n",
    "\n",
    "client = BigQueryClient()\n",
    "session = client.read_session(\"projects/\"+PROJECT_ID,PROJECT_ID,BQTABLE_ID,BQDATASET_ID,selected_fields,output_types,row_restriction=\"SPLITS='TEST'\",requested_streams=3)\n",
    "table = session.parallel_read_rows()\n",
    "table = table.map(transTable)\n",
    "test = table.batch(args.batch_size)\n",
    "\n",
    "feature_layer = tf.keras.layers.DenseFeatures(feature_columns)\n",
    "feature_layer_outputs = feature_layer(feature_layer_inputs)\n",
    "model = tf.keras.Model(inputs=[v for v in feature_layer_inputs.values()],outputs=tf.keras.layers.Dense(10,activation=tf.nn.softmax)(feature_layer_outputs))\n",
    "model.compile(optimizer='sgd', loss='categorical_crossentropy', metrics=['accuracy'])\n",
    "tf.keras.utils.plot_model(model,show_shapes=True, show_dtype=True)\n",
    "\n",
    "# setup tensorboard logs\n",
    "tensorboard_callback = tf.keras.callbacks.TensorBoard(log_dir=os.environ['AIP_TENSORBOARD_LOG_DIR'], histogram_freq=1) #(log_dir=model_dir+'/logs', histogram_freq=1)\n",
    "\n",
    "history = model.fit(train,epochs=args.epochs, callbacks=[tensorboard_callback])\n",
    "\n",
    "model.save(args.model_dir)"
   ]
  },
  {
   "cell_type": "markdown",
   "id": "28dbc49a",
   "metadata": {},
   "source": [
    "Store the training package in a Cloud Storage Bucket:"
   ]
  },
  {
   "cell_type": "code",
   "execution_count": 69,
   "id": "badaf580",
   "metadata": {},
   "outputs": [
    {
     "name": "stdout",
     "output_type": "stream",
     "text": [
      "custom/\n",
      "custom/setup.py\n",
      "custom/trainer/\n",
      "custom/trainer/task.py\n",
      "custom/trainer/__init__.py\n",
      "E0714 17:10:07.837672161    1238 backup_poller.cc:133]       Run client channel backup poller: {\"created\":\"@1626282607.837542376\",\"description\":\"pollset_work\",\"file\":\"src/core/lib/iomgr/ev_epollex_linux.cc\",\"file_line\":321,\"referenced_errors\":[{\"created\":\"@1626282607.837523882\",\"description\":\"Bad file descriptor\",\"errno\":9,\"file\":\"src/core/lib/iomgr/ev_epollex_linux.cc\",\"file_line\":952,\"os_error\":\"Bad file descriptor\",\"syscall\":\"epoll_wait\"}]}\n",
      "Copying file://custom.tar.gz [Content-Type=application/x-tar]...\n",
      "/ [1 files][  1.7 KiB/  1.7 KiB]                                                \n",
      "Operation completed over 1 objects/1.7 KiB.                                      \n"
     ]
    }
   ],
   "source": [
    "!rm -f custom.tar custom.tar.gz\n",
    "!tar cvf custom.tar custom\n",
    "!gzip custom.tar\n",
    "!gsutil cp custom.tar.gz $BUCKET_NAME/trainer_cifar.tar.gz"
   ]
  },
  {
   "cell_type": "markdown",
   "id": "b3a8c4e7",
   "metadata": {},
   "source": [
    "Submit the training job:"
   ]
  },
  {
   "cell_type": "code",
   "execution_count": 70,
   "id": "8921061e",
   "metadata": {},
   "outputs": [],
   "source": [
    "jobID = clients['job'].create_custom_job(parent=PARENT, custom_job=CUSTOM_JOB)"
   ]
  },
  {
   "cell_type": "markdown",
   "id": "a950c6e3",
   "metadata": {},
   "source": [
    "Get information as the job runs:"
   ]
  },
  {
   "cell_type": "code",
   "execution_count": 72,
   "id": "89f322a8",
   "metadata": {},
   "outputs": [],
   "source": [
    "jobIDresponse = clients['job'].get_custom_job(name=jobID.name)"
   ]
  },
  {
   "cell_type": "code",
   "execution_count": null,
   "id": "a82a366f",
   "metadata": {},
   "outputs": [],
   "source": [
    "#response = clients['job'].list_custom_jobs(parent=PARENT)\n",
    "#response = clients['job'].cancel_custom_job(name=name)"
   ]
  },
  {
   "cell_type": "markdown",
   "id": "e5cbe584",
   "metadata": {},
   "source": [
    "---\n",
    "## Serving"
   ]
  },
  {
   "cell_type": "markdown",
   "id": "35020122",
   "metadata": {},
   "source": [
    "---\n",
    "### Upload the Model"
   ]
  },
  {
   "cell_type": "markdown",
   "id": "867592eb",
   "metadata": {},
   "source": [
    "Check that model training was successful (and update the path to the model store):"
   ]
  },
  {
   "cell_type": "code",
   "execution_count": 73,
   "id": "354f87ce",
   "metadata": {},
   "outputs": [
    {
     "name": "stdout",
     "output_type": "stream",
     "text": [
      "gs://statmike-mlops/digits/model/05_aip_train_job/05_AIP_DIGITS_20210714165425/model\n"
     ]
    }
   ],
   "source": [
    "if jobIDresponse.state == aiplatform.gapic.JobState.JOB_STATE_SUCCEEDED:\n",
    "    MODEL_DIR = MODEL_DIR + \"/model\"\n",
    "    \n",
    "print(MODEL_DIR)"
   ]
  },
  {
   "cell_type": "markdown",
   "id": "f20f8061",
   "metadata": {},
   "source": [
    "Create a client to the Model Service:"
   ]
  },
  {
   "cell_type": "code",
   "execution_count": 74,
   "id": "9611ca5f",
   "metadata": {},
   "outputs": [],
   "source": [
    "clients['model'] = aiplatform.gapic.ModelServiceClient(client_options=client_options)"
   ]
  },
  {
   "cell_type": "markdown",
   "id": "22566d17",
   "metadata": {},
   "source": [
    "Upload the model using the client:"
   ]
  },
  {
   "cell_type": "code",
   "execution_count": 75,
   "id": "ba918881",
   "metadata": {},
   "outputs": [],
   "source": [
    "MODEL = {\n",
    "    \"display_name\": jobIDresponse.display_name,\n",
    "    \"metadata_schema_uri\": \"\",\n",
    "    \"artifact_uri\": MODEL_DIR,\n",
    "    \"container_spec\": {\n",
    "        \"image_uri\": DEPLOY_IMAGE,\n",
    "        \"command\": [],\n",
    "        \"args\": [],\n",
    "        \"env\": [{\"name\": \"env_name\", \"value\": \"env_value\"}],\n",
    "        \"ports\": [{\"container_port\": 8080}],\n",
    "        \"predict_route\": \"\",\n",
    "        \"health_route\": \"\"\n",
    "    }\n",
    "}\n",
    "\n",
    "uploaded_model = clients['model'].upload_model(parent=PARENT, model=MODEL)"
   ]
  },
  {
   "cell_type": "markdown",
   "id": "0e60761f",
   "metadata": {},
   "source": [
    "Review the uploaded models information:"
   ]
  },
  {
   "cell_type": "code",
   "execution_count": 76,
   "id": "34192433",
   "metadata": {},
   "outputs": [
    {
     "data": {
      "text/plain": [
       "'projects/691911073727/locations/us-central1/models/7751688917216133120'"
      ]
     },
     "execution_count": 76,
     "metadata": {},
     "output_type": "execute_result"
    }
   ],
   "source": [
    "model_info = clients['model'].get_model(name=uploaded_model.result(timeout=180).model)\n",
    "model_info.name"
   ]
  },
  {
   "cell_type": "markdown",
   "id": "881dd5da",
   "metadata": {},
   "source": [
    "---\n",
    "### Endpoint Creation"
   ]
  },
  {
   "cell_type": "markdown",
   "id": "21cf7078",
   "metadata": {},
   "source": [
    "Create a client to the endpoint service:"
   ]
  },
  {
   "cell_type": "code",
   "execution_count": 77,
   "id": "2aa7e383",
   "metadata": {},
   "outputs": [],
   "source": [
    "clients['endpoint'] = aiplatform.gapic.EndpointServiceClient(client_options=client_options)"
   ]
  },
  {
   "cell_type": "markdown",
   "id": "6fc4132d",
   "metadata": {},
   "source": [
    "Create the endpoint:"
   ]
  },
  {
   "cell_type": "code",
   "execution_count": 78,
   "id": "e1fcdb12",
   "metadata": {},
   "outputs": [],
   "source": [
    "ENDPOINT_NAME = 'ENDPOINT_'+JOB_NAME\n",
    "endpoint = clients['endpoint'].create_endpoint(parent=PARENT, endpoint={\"display_name\": ENDPOINT_NAME})"
   ]
  },
  {
   "cell_type": "code",
   "execution_count": 79,
   "id": "ea406da7",
   "metadata": {},
   "outputs": [
    {
     "data": {
      "text/plain": [
       "'projects/691911073727/locations/us-central1/endpoints/5623500598771974144'"
      ]
     },
     "execution_count": 79,
     "metadata": {},
     "output_type": "execute_result"
    }
   ],
   "source": [
    "endpoint_info = clients['endpoint'].get_endpoint(name=endpoint.result(timeout=180).name)\n",
    "endpoint_info.name"
   ]
  },
  {
   "cell_type": "markdown",
   "id": "103a0e48",
   "metadata": {},
   "source": [
    "---\n",
    "### Deploy Model to Endpoint"
   ]
  },
  {
   "cell_type": "markdown",
   "id": "1cfedb48",
   "metadata": {},
   "source": [
    "Setup Deployment Parameters:"
   ]
  },
  {
   "cell_type": "code",
   "execution_count": 80,
   "id": "236963f7",
   "metadata": {},
   "outputs": [],
   "source": [
    "MACHINE_SPEC = {\n",
    "    \"machine_type\": DEPLOY_COMPUTE,\n",
    "    \"accelerator_count\": 0,\n",
    "}\n",
    "DMODEL = {\n",
    "        \"model\": model_info.name,\n",
    "        \"display_name\": 'DEPLOYED_'+JOB_NAME,\n",
    "        \"dedicated_resources\": {\n",
    "            \"min_replica_count\": 1,\n",
    "            \"max_replica_count\": 2,\n",
    "            \"machine_spec\": MACHINE_SPEC\n",
    "        }   \n",
    "}\n",
    "TRAFFIC = {\n",
    "    '0' : 100\n",
    "}"
   ]
  },
  {
   "cell_type": "markdown",
   "id": "655b875c",
   "metadata": {},
   "source": [
    "Deploy the Model to the Endpoint:"
   ]
  },
  {
   "cell_type": "code",
   "execution_count": 81,
   "id": "decc928d",
   "metadata": {},
   "outputs": [],
   "source": [
    "dmodel = clients['endpoint'].deploy_model(endpoint=endpoint_info.name, deployed_model=DMODEL, traffic_split=TRAFFIC)"
   ]
  },
  {
   "cell_type": "code",
   "execution_count": 83,
   "id": "9721523b",
   "metadata": {},
   "outputs": [
    {
     "data": {
      "text/plain": [
       "'361396277910437888'"
      ]
     },
     "execution_count": 83,
     "metadata": {},
     "output_type": "execute_result"
    }
   ],
   "source": [
    "dmodel_info = dmodel.result().deployed_model\n",
    "dmodel_info.id"
   ]
  },
  {
   "cell_type": "code",
   "execution_count": 84,
   "id": "4894a0c1",
   "metadata": {},
   "outputs": [
    {
     "data": {
      "text/plain": [
       "name: \"projects/691911073727/locations/us-central1/endpoints/5623500598771974144\"\n",
       "display_name: \"ENDPOINT_05_AIP_DIGITS_20210714165425\"\n",
       "deployed_models {\n",
       "  id: \"361396277910437888\"\n",
       "  model: \"projects/691911073727/locations/us-central1/models/7751688917216133120\"\n",
       "  display_name: \"DEPLOYED_05_AIP_DIGITS_20210714165425\"\n",
       "  create_time {\n",
       "    seconds: 1626286423\n",
       "    nanos: 890928000\n",
       "  }\n",
       "  dedicated_resources {\n",
       "    machine_spec {\n",
       "      machine_type: \"n1-standard-4\"\n",
       "    }\n",
       "    min_replica_count: 1\n",
       "    max_replica_count: 2\n",
       "  }\n",
       "}\n",
       "traffic_split {\n",
       "  key: \"361396277910437888\"\n",
       "  value: 100\n",
       "}\n",
       "etag: \"AMEw9yOOLDZ8_xK41oRaU8igfK8CG5X_ZerivcX9BGZUPVsB0r9QSG0keij9yFtSOCoU\"\n",
       "create_time {\n",
       "  seconds: 1626286418\n",
       "  nanos: 295380000\n",
       "}\n",
       "update_time {\n",
       "  seconds: 1626286730\n",
       "  nanos: 555078000\n",
       "}"
      ]
     },
     "execution_count": 84,
     "metadata": {},
     "output_type": "execute_result"
    }
   ],
   "source": [
    "clients['endpoint'].get_endpoint(name=endpoint_info.name)"
   ]
  },
  {
   "cell_type": "markdown",
   "id": "99c62b68",
   "metadata": {},
   "source": [
    "---\n",
    "## Prediction"
   ]
  },
  {
   "cell_type": "markdown",
   "id": "f7b5a94e",
   "metadata": {},
   "source": [
    "Create a client to the prediction service:"
   ]
  },
  {
   "cell_type": "code",
   "execution_count": 85,
   "id": "17b5b160",
   "metadata": {},
   "outputs": [],
   "source": [
    "clients['prediction'] = aiplatform.gapic.PredictionServiceClient(client_options=client_options)"
   ]
  },
  {
   "cell_type": "markdown",
   "id": "f17d87a4",
   "metadata": {},
   "source": [
    "Setup an observation for prediction:"
   ]
  },
  {
   "cell_type": "code",
   "execution_count": 86,
   "id": "84874c59",
   "metadata": {},
   "outputs": [
    {
     "name": "stderr",
     "output_type": "stream",
     "text": [
      "Query complete after 0.00s: 100%|██████████| 1/1 [00:00<00:00, 667.25query/s] \n",
      "Downloading: 100%|██████████| 373/373 [00:01<00:00, 324.53rows/s]\n"
     ]
    }
   ],
   "source": [
    "%%bigquery pred\n",
    "SELECT *\n",
    "FROM `digits.digits_prepped`\n",
    "WHERE splits='TEST'"
   ]
  },
  {
   "cell_type": "code",
   "execution_count": 87,
   "id": "d26badd9",
   "metadata": {},
   "outputs": [
    {
     "data": {
      "text/html": [
       "<div>\n",
       "<style scoped>\n",
       "    .dataframe tbody tr th:only-of-type {\n",
       "        vertical-align: middle;\n",
       "    }\n",
       "\n",
       "    .dataframe tbody tr th {\n",
       "        vertical-align: top;\n",
       "    }\n",
       "\n",
       "    .dataframe thead th {\n",
       "        text-align: right;\n",
       "    }\n",
       "</style>\n",
       "<table border=\"1\" class=\"dataframe\">\n",
       "  <thead>\n",
       "    <tr style=\"text-align: right;\">\n",
       "      <th></th>\n",
       "      <th>p0</th>\n",
       "      <th>p1</th>\n",
       "      <th>p2</th>\n",
       "      <th>p3</th>\n",
       "      <th>p4</th>\n",
       "      <th>p5</th>\n",
       "      <th>p6</th>\n",
       "      <th>p7</th>\n",
       "      <th>p8</th>\n",
       "      <th>p9</th>\n",
       "      <th>...</th>\n",
       "      <th>p57</th>\n",
       "      <th>p58</th>\n",
       "      <th>p59</th>\n",
       "      <th>p60</th>\n",
       "      <th>p61</th>\n",
       "      <th>p62</th>\n",
       "      <th>p63</th>\n",
       "      <th>target</th>\n",
       "      <th>target_OE</th>\n",
       "      <th>SPLITS</th>\n",
       "    </tr>\n",
       "  </thead>\n",
       "  <tbody>\n",
       "    <tr>\n",
       "      <th>0</th>\n",
       "      <td>0.0</td>\n",
       "      <td>0.0</td>\n",
       "      <td>0.0</td>\n",
       "      <td>12.0</td>\n",
       "      <td>6.0</td>\n",
       "      <td>0.0</td>\n",
       "      <td>0.0</td>\n",
       "      <td>0.0</td>\n",
       "      <td>0.0</td>\n",
       "      <td>0.0</td>\n",
       "      <td>...</td>\n",
       "      <td>0.0</td>\n",
       "      <td>0.0</td>\n",
       "      <td>10.0</td>\n",
       "      <td>16.0</td>\n",
       "      <td>11.0</td>\n",
       "      <td>0.0</td>\n",
       "      <td>0.0</td>\n",
       "      <td>0</td>\n",
       "      <td>Even</td>\n",
       "      <td>TEST</td>\n",
       "    </tr>\n",
       "  </tbody>\n",
       "</table>\n",
       "<p>1 rows × 67 columns</p>\n",
       "</div>"
      ],
      "text/plain": [
       "    p0   p1   p2    p3   p4   p5   p6   p7   p8   p9  ...  p57  p58   p59  \\\n",
       "0  0.0  0.0  0.0  12.0  6.0  0.0  0.0  0.0  0.0  0.0  ...  0.0  0.0  10.0   \n",
       "\n",
       "    p60   p61  p62  p63  target  target_OE  SPLITS  \n",
       "0  16.0  11.0  0.0  0.0       0       Even    TEST  \n",
       "\n",
       "[1 rows x 67 columns]"
      ]
     },
     "execution_count": 87,
     "metadata": {},
     "output_type": "execute_result"
    }
   ],
   "source": [
    "pred.head(1)"
   ]
  },
  {
   "cell_type": "code",
   "execution_count": 88,
   "id": "8aa3a155",
   "metadata": {},
   "outputs": [],
   "source": [
    "newob = pred.loc[:0,'p0':'p63'].to_dict(orient='records')[0]\n",
    "#newob"
   ]
  },
  {
   "cell_type": "markdown",
   "id": "5fe6b1e5",
   "metadata": {},
   "source": [
    "Request prediction from prediction service:"
   ]
  },
  {
   "cell_type": "code",
   "execution_count": 89,
   "id": "6f18bcdf",
   "metadata": {},
   "outputs": [],
   "source": [
    "from google.protobuf import json_format\n",
    "from google.protobuf.struct_pb2 import Value\n",
    "\n",
    "response = clients['prediction'].predict(endpoint=endpoint_info.name, instances=[json_format.ParseDict(newob, Value())], parameters=json_format.ParseDict({}, Value()))"
   ]
  },
  {
   "cell_type": "code",
   "execution_count": 90,
   "id": "9a68ce9c",
   "metadata": {},
   "outputs": [
    {
     "data": {
      "text/plain": [
       "[[0.978379905, 1.45449587e-06, 1.92477455e-06, 2.8487952e-09, 1.43555098e-05, 1.3682502e-06, 0.0216009039, 5.85146653e-11, 1.4910124e-07, 9.21134902e-09]]"
      ]
     },
     "execution_count": 90,
     "metadata": {},
     "output_type": "execute_result"
    }
   ],
   "source": [
    "response.predictions"
   ]
  },
  {
   "cell_type": "code",
   "execution_count": 91,
   "id": "f034c398",
   "metadata": {},
   "outputs": [
    {
     "data": {
      "text/plain": [
       "0"
      ]
     },
     "execution_count": 91,
     "metadata": {},
     "output_type": "execute_result"
    }
   ],
   "source": [
    "import numpy as np\n",
    "np.argmax(response.predictions[0])"
   ]
  },
  {
   "cell_type": "markdown",
   "id": "6c7dda21",
   "metadata": {},
   "source": [
    "---"
   ]
  },
  {
   "cell_type": "markdown",
   "id": "2d4f751e",
   "metadata": {},
   "source": [
    "## Remove Resources\n",
    "- undeploy model\n",
    "- delete endpoint\n",
    "- remove model\n",
    "- delete training > custom job\n",
    "- delete python training application:\n",
    "    - these could be used by later notebooks in this project:\n",
    "    - delete custom and custom.tar.gz"
   ]
  },
  {
   "cell_type": "markdown",
   "id": "e75cba43",
   "metadata": {},
   "source": [
    "Undeploy Model:"
   ]
  },
  {
   "cell_type": "code",
   "execution_count": 34,
   "id": "36b3408f",
   "metadata": {},
   "outputs": [
    {
     "data": {
      "text/plain": [
       "<google.api_core.operation.Operation at 0x7fd29f70be90>"
      ]
     },
     "execution_count": 34,
     "metadata": {},
     "output_type": "execute_result"
    }
   ],
   "source": [
    "dmodel = clients['endpoint'].get_endpoint(name=endpoint_info.name).deployed_models[0].id\n",
    "clients['endpoint'].undeploy_model(endpoint=endpoint_info.name, deployed_model_id=dmodel)"
   ]
  },
  {
   "cell_type": "markdown",
   "id": "7fc33a66",
   "metadata": {},
   "source": [
    "Delete Endpoint:"
   ]
  },
  {
   "cell_type": "code",
   "execution_count": 35,
   "id": "46cb95a0",
   "metadata": {},
   "outputs": [
    {
     "data": {
      "text/plain": [
       "<google.api_core.operation.Operation at 0x7fd29f7e84d0>"
      ]
     },
     "execution_count": 35,
     "metadata": {},
     "output_type": "execute_result"
    }
   ],
   "source": [
    "clients['endpoint'].delete_endpoint(name=endpoint_info.name)"
   ]
  },
  {
   "cell_type": "markdown",
   "id": "1f404036",
   "metadata": {},
   "source": [
    "Remove Model:"
   ]
  },
  {
   "cell_type": "code",
   "execution_count": 36,
   "id": "d292e8b4",
   "metadata": {},
   "outputs": [
    {
     "data": {
      "text/plain": [
       "<google.api_core.operation.Operation at 0x7fd29effb150>"
      ]
     },
     "execution_count": 36,
     "metadata": {},
     "output_type": "execute_result"
    }
   ],
   "source": [
    "clients['model'].delete_model(name=model_info.name)"
   ]
  },
  {
   "cell_type": "markdown",
   "id": "77969bca",
   "metadata": {},
   "source": [
    "Delete Training > Custom Job:"
   ]
  },
  {
   "cell_type": "code",
   "execution_count": 38,
   "id": "2f30f5b1",
   "metadata": {},
   "outputs": [
    {
     "data": {
      "text/plain": [
       "<google.api_core.operation.Operation at 0x7fd29f70e550>"
      ]
     },
     "execution_count": 38,
     "metadata": {},
     "output_type": "execute_result"
    }
   ],
   "source": [
    "clients['job'].delete_custom_job(name=jobIDresponse.name)"
   ]
  },
  {
   "cell_type": "markdown",
   "id": "e4fe4a13",
   "metadata": {},
   "source": [
    "Delete Model Files: \n",
    "- This includes the training package and the saved model\n",
    "- These could be useful for other notebooks"
   ]
  },
  {
   "cell_type": "code",
   "execution_count": 49,
   "id": "1e9ad511",
   "metadata": {},
   "outputs": [
    {
     "name": "stdout",
     "output_type": "stream",
     "text": [
      "<Blob: statmike-mlops, digits/aip_train_job/AIP_DIGITS_20210413130018/, 1618319425187771>\n",
      "<Blob: statmike-mlops, digits/aip_train_job/AIP_DIGITS_20210413130018/model/, 1618319425350552>\n",
      "<Blob: statmike-mlops, digits/aip_train_job/AIP_DIGITS_20210413130018/model/assets/, 1618319427738045>\n",
      "<Blob: statmike-mlops, digits/aip_train_job/AIP_DIGITS_20210413130018/model/saved_model.pb, 1618319428158820>\n",
      "<Blob: statmike-mlops, digits/aip_train_job/AIP_DIGITS_20210413130018/model/variables/, 1618319425484405>\n",
      "<Blob: statmike-mlops, digits/aip_train_job/AIP_DIGITS_20210413130018/model/variables/variables.data-00000-of-00001, 1618319426990754>\n",
      "<Blob: statmike-mlops, digits/aip_train_job/AIP_DIGITS_20210413130018/model/variables/variables.index, 1618319427197772>\n",
      "<Blob: statmike-mlops, digits/aip_train_job/trainer_cifar.tar.gz, 1618318849607448>\n"
     ]
    }
   ],
   "source": [
    "from google.cloud import storage\n",
    "gcs = storage.Client()\n",
    "\n",
    "path = gcs.bucket(PROJECT_ID)\n",
    "blobs = path.list_blobs(prefix='digits/aip_train_job')\n",
    "for blob in blobs:\n",
    "    print(blob)\n",
    "    blob.delete()"
   ]
  }
 ],
 "metadata": {
  "environment": {
   "name": "managed-notebooks.m70",
   "type": "gcloud",
   "uri": "gcr.io/deeplearning-platform-release/managed-notebooks:m70"
  },
  "kernelspec": {
   "display_name": "Python",
   "language": "python",
   "name": "base"
  },
  "language_info": {
   "codemirror_mode": {
    "name": "ipython",
    "version": 3
   },
   "file_extension": ".py",
   "mimetype": "text/x-python",
   "name": "python",
   "nbconvert_exporter": "python",
   "pygments_lexer": "ipython3",
   "version": "3.7.10"
  }
 },
 "nbformat": 4,
 "nbformat_minor": 5
}
