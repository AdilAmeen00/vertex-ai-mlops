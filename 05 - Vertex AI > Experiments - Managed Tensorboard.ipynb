{
 "cells": [
  {
   "cell_type": "markdown",
   "id": "b5c7eba7",
   "metadata": {},
   "source": [
    "# 05 - Vertex AI > Experiments - Managed Tensorboard\n",
    "\n",
    "[Vertex AI Experiments](https://cloud.google.com/vertex-ai/docs/experiments/tensorboard-overview) has managed [Tensorboard](https://www.tensorflow.org/tensorboard) instances that you can track Tensorboard Experiments (a training run or hyperparameter tuning sweep).  \n",
    "\n",
    "**Prerequisites:**\n",
    "\n",
    "-  None\n",
    "\n",
    "**Overview:**\n",
    "\n",
    "-  Use Python Client google.cloud.aiplatform for Vertex AI\n",
    "   -  Create and Tensorboard instance for use in other notebooks\n",
    "-  To use this tensorboard in other notebooks:\n",
    "   -  Locate the Tensorboard\n",
    "      -  tb = aiplatform.Tensorboard.list(filter='display_name={}'.format(TENSORBOARD_ID))\n",
    "      -  TENSORBOARD_NAME = tb[0].resource_name\n",
    "   -  Provide the TENSORBOARD_NAME and direct callbacks to it\n",
    "\n",
    "**Resources:**\n",
    "\n",
    "-  [Python Client for Vertex AI](https://googleapis.dev/python/aiplatform/latest/aiplatform.html)\n",
    "\n",
    "**Related Training:**\n",
    "\n",
    "-  [Getting Started](https://www.tensorflow.org/tensorboard/get_started)\n",
    "-  todo"
   ]
  },
  {
   "cell_type": "markdown",
   "id": "966f2154",
   "metadata": {},
   "source": [
    "---\n",
    "## Conceptual Architecture\n",
    "\n",
    "<img src=\"architectures/statmike-mlops-05a.png\">"
   ]
  },
  {
   "cell_type": "markdown",
   "id": "a77af715",
   "metadata": {},
   "source": [
    "---\n",
    "## Setup"
   ]
  },
  {
   "cell_type": "markdown",
   "id": "2967c092",
   "metadata": {},
   "source": [
    "inputs:"
   ]
  },
  {
   "cell_type": "code",
   "execution_count": 1,
   "id": "ee8616cb",
   "metadata": {},
   "outputs": [],
   "source": [
    "REGION = 'us-central1'\n",
    "PROJECT_ID='statmike-mlops'\n",
    "DATANAME = 'digits'\n",
    "NOTEBOOK = '05'"
   ]
  },
  {
   "cell_type": "markdown",
   "id": "0c93273f",
   "metadata": {},
   "source": [
    "packages:"
   ]
  },
  {
   "cell_type": "code",
   "execution_count": 3,
   "id": "c66aa4b3",
   "metadata": {},
   "outputs": [],
   "source": [
    "from google.cloud import aiplatform"
   ]
  },
  {
   "cell_type": "markdown",
   "id": "b89ca6b9",
   "metadata": {},
   "source": [
    "clients:"
   ]
  },
  {
   "cell_type": "code",
   "execution_count": 4,
   "id": "41d455c4",
   "metadata": {},
   "outputs": [],
   "source": [
    "aiplatform.init(project=PROJECT_ID, location=REGION)"
   ]
  },
  {
   "cell_type": "markdown",
   "id": "bd5a0f22",
   "metadata": {},
   "source": [
    "---\n",
    "## Tensorboard Instance"
   ]
  },
  {
   "cell_type": "code",
   "execution_count": 5,
   "id": "d25c29cc",
   "metadata": {},
   "outputs": [
    {
     "name": "stdout",
     "output_type": "stream",
     "text": [
      "INFO:google.cloud.aiplatform.tensorboard.tensorboard:Creating Tensorboard\n",
      "INFO:google.cloud.aiplatform.tensorboard.tensorboard:Create Tensorboard backing LRO: projects/691911073727/locations/us-central1/tensorboards/2913723405792444416/operations/5545675791368454144\n",
      "INFO:google.cloud.aiplatform.tensorboard.tensorboard:Tensorboard created. Resource name: projects/691911073727/locations/us-central1/tensorboards/2913723405792444416\n",
      "INFO:google.cloud.aiplatform.tensorboard.tensorboard:To use this Tensorboard in another session:\n",
      "INFO:google.cloud.aiplatform.tensorboard.tensorboard:tb = aiplatform.Tensorboard('projects/691911073727/locations/us-central1/tensorboards/2913723405792444416')\n"
     ]
    }
   ],
   "source": [
    "tb = aiplatform.Tensorboard.create(display_name = DATANAME)"
   ]
  },
  {
   "cell_type": "markdown",
   "id": "39d8b8da",
   "metadata": {},
   "source": [
    "---\n",
    "## Remove Resources\n",
    "see notebook \"XX - Cleanup\""
   ]
  },
  {
   "cell_type": "code",
   "execution_count": null,
   "id": "187d0617",
   "metadata": {},
   "outputs": [],
   "source": []
  }
 ],
 "metadata": {
  "environment": {
   "name": "tf2-gpu.2-6.m79",
   "type": "gcloud",
   "uri": "gcr.io/deeplearning-platform-release/tf2-gpu.2-6:m79"
  },
  "kernelspec": {
   "display_name": "Python 3",
   "language": "python",
   "name": "python3"
  },
  "language_info": {
   "codemirror_mode": {
    "name": "ipython",
    "version": 3
   },
   "file_extension": ".py",
   "mimetype": "text/x-python",
   "name": "python",
   "nbconvert_exporter": "python",
   "pygments_lexer": "ipython3",
   "version": "3.7.10"
  }
 },
 "nbformat": 4,
 "nbformat_minor": 5
}
