{
 "cells": [
  {
   "cell_type": "markdown",
   "id": "65422756",
   "metadata": {},
   "source": [
    "# Initial Setup For this Project\n",
    "\n",
    "This is the notebook that sets up the GCP project for the other notebooks in the `project=statmike-mlops`.  Based on the [`Readme.md`](https://github.com/statmike/vertex-ai-mlops/blob/main/readme.md), you already have this repository of notebooks pulled as a local resource in your Vertex AI notebook instance."
   ]
  },
  {
   "cell_type": "markdown",
   "id": "2e285ff6",
   "metadata": {},
   "source": [
    "---\n",
    "## Setup"
   ]
  },
  {
   "cell_type": "markdown",
   "id": "7b4404d9",
   "metadata": {},
   "source": [
    "inputs:"
   ]
  },
  {
   "cell_type": "code",
   "execution_count": 24,
   "id": "47c80943",
   "metadata": {},
   "outputs": [],
   "source": [
    "REGION = 'us-central1'\n",
    "PROJECT_ID = 'statmike-mlops'\n",
    "DATANAME = 'digits'"
   ]
  },
  {
   "cell_type": "markdown",
   "id": "148a403e",
   "metadata": {},
   "source": [
    "derived inputs:"
   ]
  },
  {
   "cell_type": "code",
   "execution_count": 25,
   "id": "c28ed5fa",
   "metadata": {},
   "outputs": [],
   "source": [
    "BUCKET = PROJECT_ID"
   ]
  },
  {
   "cell_type": "markdown",
   "id": "39e153df",
   "metadata": {},
   "source": [
    "packages:"
   ]
  },
  {
   "cell_type": "code",
   "execution_count": 26,
   "id": "6126b37b",
   "metadata": {},
   "outputs": [],
   "source": [
    "from google.cloud import storage\n",
    "\n",
    "import pandas as pd\n",
    "from sklearn import datasets"
   ]
  },
  {
   "cell_type": "markdown",
   "id": "d113edf3",
   "metadata": {},
   "source": [
    "---\n",
    "## Create Storage Bucket"
   ]
  },
  {
   "cell_type": "code",
   "execution_count": 27,
   "id": "c75bd4a9",
   "metadata": {},
   "outputs": [],
   "source": [
    "gcs = storage.Client(project=PROJECT_ID)"
   ]
  },
  {
   "cell_type": "code",
   "execution_count": 28,
   "id": "46e00259",
   "metadata": {},
   "outputs": [
    {
     "data": {
      "text/plain": [
       "<Bucket: statmike-mlops>"
      ]
     },
     "execution_count": 28,
     "metadata": {},
     "output_type": "execute_result"
    }
   ],
   "source": [
    "bucketDef = gcs.bucket(BUCKET)\n",
    "bucket = gcs.create_bucket(bucketDef, project=PROJECT_ID, location=REGION)\n",
    "bucket"
   ]
  },
  {
   "cell_type": "markdown",
   "id": "ae033d19",
   "metadata": {},
   "source": [
    "---\n",
    "## Store Project Data in the Storage Bucket"
   ]
  },
  {
   "cell_type": "code",
   "execution_count": 29,
   "id": "e5cf3905",
   "metadata": {},
   "outputs": [],
   "source": [
    "source = datasets.load_digits()\n",
    "\n",
    "source_df = pd.DataFrame(data=source.data)\n",
    "source_df['target'] = source.target\n",
    "source_df['target_OE'] = source_df['target'].apply(lambda x : 'Odd' if x%2==1 else ('Even' if x%2==0 else ''))\n",
    "source_df.columns = ['p'+str(i) if i <= 63 else x for i, x in enumerate(digits_df.columns,0)]\n",
    "\n",
    "source_df.to_csv(f\"gs://{BUCKET}/{DATANAME}/data/{DATANAME}.csv\", index=False)"
   ]
  },
  {
   "cell_type": "markdown",
   "id": "03845f9f",
   "metadata": {},
   "source": [
    "---\n",
    "## Update AIPlatform Package:\n",
    "\n",
    "The `google-cloud-aiplatform` package update frequently.  Update it for latest functionality."
   ]
  },
  {
   "cell_type": "code",
   "execution_count": 1,
   "id": "f04710c9",
   "metadata": {},
   "outputs": [],
   "source": [
    "!pip install google-cloud-aiplatform -U -q"
   ]
  },
  {
   "cell_type": "markdown",
   "id": "7c5df03f",
   "metadata": {},
   "source": [
    "---\n",
    "## Install KFP\n",
    "If you get an error after a step, rerun it.  The dependecies sometimes resolve."
   ]
  },
  {
   "cell_type": "code",
   "execution_count": 3,
   "id": "8af59243",
   "metadata": {},
   "outputs": [],
   "source": [
    "!pip install kfp -q"
   ]
  },
  {
   "cell_type": "code",
   "execution_count": 4,
   "id": "c3579449",
   "metadata": {},
   "outputs": [],
   "source": [
    "!pip install google-cloud-pipeline-components -U -q"
   ]
  },
  {
   "cell_type": "markdown",
   "id": "9b1576ea",
   "metadata": {},
   "source": [
    "---\n",
    "## Other For Specific Notebooks"
   ]
  },
  {
   "cell_type": "markdown",
   "id": "2a5c435d",
   "metadata": {},
   "source": [
    "06 - Plotly used for visualizations"
   ]
  },
  {
   "cell_type": "code",
   "execution_count": 1,
   "id": "8abfbc6a",
   "metadata": {},
   "outputs": [],
   "source": [
    "!pip install plotly -q"
   ]
  },
  {
   "cell_type": "markdown",
   "id": "46de0a09",
   "metadata": {},
   "source": [
    "07 - Test version of aiplatform client loaded for featurestore while in preview phase"
   ]
  },
  {
   "cell_type": "code",
   "execution_count": 3,
   "id": "e57ce6ab",
   "metadata": {},
   "outputs": [],
   "source": [
    "!pip install --upgrade git+https://github.com/googleapis/python-aiplatform.git@main-test -q"
   ]
  },
  {
   "cell_type": "markdown",
   "id": "b1f036a2",
   "metadata": {},
   "source": [
    "---\n",
    "## OTHER - Obsolete?"
   ]
  },
  {
   "cell_type": "code",
   "execution_count": 2,
   "id": "cbe5f279",
   "metadata": {},
   "outputs": [],
   "source": [
    "!pip install tensorflow-io -q"
   ]
  },
  {
   "cell_type": "code",
   "execution_count": 33,
   "id": "5aa169ec",
   "metadata": {},
   "outputs": [],
   "source": [
    "!pip install tfx-bsl -U -q"
   ]
  },
  {
   "cell_type": "code",
   "execution_count": 34,
   "id": "9227f981",
   "metadata": {},
   "outputs": [],
   "source": [
    "!pip install tensorflow -U -q"
   ]
  },
  {
   "cell_type": "code",
   "execution_count": 36,
   "id": "6d97e220",
   "metadata": {},
   "outputs": [
    {
     "name": "stdout",
     "output_type": "stream",
     "text": [
      "\u001b[31mERROR: pip's dependency resolver does not currently take into account all the packages that are installed. This behaviour is the source of the following dependency conflicts.\n",
      "tensorflow-io 0.21.0 requires tensorflow<2.7.0,>=2.6.0, but you have tensorflow 2.5.1 which is incompatible.\n",
      "jupyterlab-git 0.11.0 requires nbdime<2.0.0,>=1.1.0, but you have nbdime 3.1.0 which is incompatible.\u001b[0m\n"
     ]
    }
   ],
   "source": [
    "!pip install tfx -U -q"
   ]
  },
  {
   "cell_type": "code",
   "execution_count": 37,
   "id": "534d96df",
   "metadata": {},
   "outputs": [
    {
     "name": "stdout",
     "output_type": "stream",
     "text": [
      "\u001b[31mERROR: pip's dependency resolver does not currently take into account all the packages that are installed. This behaviour is the source of the following dependency conflicts.\n",
      "tfx 1.2.0 requires google-cloud-aiplatform<0.8,>=0.5.0, but you have google-cloud-aiplatform 1.4.2 which is incompatible.\u001b[0m\n"
     ]
    }
   ],
   "source": [
    "!pip install google-cloud-aiplatform -U -q"
   ]
  }
 ],
 "metadata": {
  "environment": {
   "name": "tf2-gpu.2-3.m79",
   "type": "gcloud",
   "uri": "gcr.io/deeplearning-platform-release/tf2-gpu.2-3:m79"
  },
  "kernelspec": {
   "display_name": "Python 3",
   "language": "python",
   "name": "python3"
  },
  "language_info": {
   "codemirror_mode": {
    "name": "ipython",
    "version": 3
   },
   "file_extension": ".py",
   "mimetype": "text/x-python",
   "name": "python",
   "nbconvert_exporter": "python",
   "pygments_lexer": "ipython3",
   "version": "3.7.10"
  }
 },
 "nbformat": 4,
 "nbformat_minor": 5
}
