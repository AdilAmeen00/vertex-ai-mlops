{
 "cells": [
  {
   "cell_type": "markdown",
   "id": "be4c477a",
   "metadata": {},
   "source": [
    "# Initial Setup For this Project\n",
    "\n",
    "This is the notebook that sets up the GCP project for the other notebooks in the `project=statmike-mlops`.  Based on the [`Readme.md`](https://github.com/statmike/vertex-ai-mlops/blob/main/readme.md), you already have this repository of notebooks pulled as a local resource in your Vertex AI notebook instance."
   ]
  },
  {
   "cell_type": "markdown",
   "id": "17cbc6c6",
   "metadata": {},
   "source": [
    "---\n",
    "## Setup"
   ]
  },
  {
   "cell_type": "markdown",
   "id": "22d819b6",
   "metadata": {},
   "source": [
    "inputs:"
   ]
  },
  {
   "cell_type": "code",
   "execution_count": 24,
   "id": "7b2a076f",
   "metadata": {},
   "outputs": [],
   "source": [
    "REGION = 'us-central1'\n",
    "PROJECT_ID = 'statmike-mlops'\n",
    "DATANAME = 'digits'"
   ]
  },
  {
   "cell_type": "markdown",
   "id": "3a810123",
   "metadata": {},
   "source": [
    "derived inputs:"
   ]
  },
  {
   "cell_type": "code",
   "execution_count": 25,
   "id": "0a043a35",
   "metadata": {},
   "outputs": [],
   "source": [
    "BUCKET = PROJECT_ID"
   ]
  },
  {
   "cell_type": "markdown",
   "id": "899157e8",
   "metadata": {},
   "source": [
    "packages:"
   ]
  },
  {
   "cell_type": "code",
   "execution_count": 26,
   "id": "4d134093",
   "metadata": {},
   "outputs": [],
   "source": [
    "from google.cloud import storage\n",
    "\n",
    "import pandas as pd\n",
    "from sklearn import datasets"
   ]
  },
  {
   "cell_type": "markdown",
   "id": "78aa8706",
   "metadata": {},
   "source": [
    "---\n",
    "## Create Storage Bucket"
   ]
  },
  {
   "cell_type": "code",
   "execution_count": 27,
   "id": "dfa16c23",
   "metadata": {},
   "outputs": [],
   "source": [
    "gcs = storage.Client(project=PROJECT_ID)"
   ]
  },
  {
   "cell_type": "code",
   "execution_count": 28,
   "id": "5c120b1c",
   "metadata": {},
   "outputs": [
    {
     "data": {
      "text/plain": [
       "<Bucket: statmike-mlops>"
      ]
     },
     "execution_count": 28,
     "metadata": {},
     "output_type": "execute_result"
    }
   ],
   "source": [
    "bucketDef = gcs.bucket(BUCKET)\n",
    "bucket = gcs.create_bucket(bucketDef, project=PROJECT_ID, location=REGION)\n",
    "bucket"
   ]
  },
  {
   "cell_type": "markdown",
   "id": "c54de9ed",
   "metadata": {},
   "source": [
    "---\n",
    "## Store Project Data in the Storage Bucket"
   ]
  },
  {
   "cell_type": "code",
   "execution_count": 29,
   "id": "afe7934d",
   "metadata": {},
   "outputs": [],
   "source": [
    "source = datasets.load_digits()\n",
    "\n",
    "source_df = pd.DataFrame(data=source.data)\n",
    "source_df['target'] = source.target\n",
    "source_df['target_OE'] = source_df['target'].apply(lambda x : 'Odd' if x%2==1 else ('Even' if x%2==0 else ''))\n",
    "source_df.columns = ['p'+str(i) if i <= 63 else x for i, x in enumerate(digits_df.columns,0)]\n",
    "\n",
    "source_df.to_csv(f\"gs://{BUCKET}/{DATANAME}/data/{DATANAME}.csv\", index=False)"
   ]
  },
  {
   "cell_type": "markdown",
   "id": "8b708339",
   "metadata": {},
   "source": [
    "---\n",
    "## Update AIPlatform Package:\n",
    "\n",
    "The `google-cloud-aiplatform` package update frequently.  Update it for latest functionality."
   ]
  },
  {
   "cell_type": "code",
   "execution_count": 1,
   "id": "dc98e23e",
   "metadata": {},
   "outputs": [],
   "source": [
    "!pip install google-cloud-aiplatform -U -q"
   ]
  },
  {
   "cell_type": "markdown",
   "id": "5659b250",
   "metadata": {},
   "source": [
    "---\n",
    "## Install KFP\n",
    "If you get an error after a step, rerun it.  The dependecies sometimes resolve."
   ]
  },
  {
   "cell_type": "code",
   "execution_count": 3,
   "id": "a14ee502",
   "metadata": {},
   "outputs": [],
   "source": [
    "!pip install kfp -q"
   ]
  },
  {
   "cell_type": "code",
   "execution_count": 4,
   "id": "ce5f65cc",
   "metadata": {},
   "outputs": [],
   "source": [
    "!pip install google-cloud-pipeline-components -U -q"
   ]
  },
  {
   "cell_type": "markdown",
   "id": "1120d9e6",
   "metadata": {},
   "source": [
    "---\n",
    "## Install TFX - Obsolete?"
   ]
  },
  {
   "cell_type": "code",
   "execution_count": 33,
   "id": "a7112f96",
   "metadata": {},
   "outputs": [],
   "source": [
    "!pip install tfx-bsl -U -q"
   ]
  },
  {
   "cell_type": "code",
   "execution_count": 34,
   "id": "a9cabac9",
   "metadata": {},
   "outputs": [],
   "source": [
    "!pip install tensorflow -U -q"
   ]
  },
  {
   "cell_type": "code",
   "execution_count": 45,
   "id": "289a3f91",
   "metadata": {},
   "outputs": [],
   "source": [
    "!pip install tensorflow-io -U -q"
   ]
  },
  {
   "cell_type": "code",
   "execution_count": 36,
   "id": "600db0bf",
   "metadata": {},
   "outputs": [
    {
     "name": "stdout",
     "output_type": "stream",
     "text": [
      "\u001b[31mERROR: pip's dependency resolver does not currently take into account all the packages that are installed. This behaviour is the source of the following dependency conflicts.\n",
      "tensorflow-io 0.21.0 requires tensorflow<2.7.0,>=2.6.0, but you have tensorflow 2.5.1 which is incompatible.\n",
      "jupyterlab-git 0.11.0 requires nbdime<2.0.0,>=1.1.0, but you have nbdime 3.1.0 which is incompatible.\u001b[0m\n"
     ]
    }
   ],
   "source": [
    "!pip install tfx -U -q"
   ]
  },
  {
   "cell_type": "code",
   "execution_count": 37,
   "id": "097076f8",
   "metadata": {},
   "outputs": [
    {
     "name": "stdout",
     "output_type": "stream",
     "text": [
      "\u001b[31mERROR: pip's dependency resolver does not currently take into account all the packages that are installed. This behaviour is the source of the following dependency conflicts.\n",
      "tfx 1.2.0 requires google-cloud-aiplatform<0.8,>=0.5.0, but you have google-cloud-aiplatform 1.4.2 which is incompatible.\u001b[0m\n"
     ]
    }
   ],
   "source": [
    "!pip install google-cloud-aiplatform -U -q"
   ]
  },
  {
   "cell_type": "markdown",
   "id": "c2d0b942",
   "metadata": {},
   "source": [
    "---\n",
    "## OTHER"
   ]
  },
  {
   "cell_type": "code",
   "execution_count": null,
   "id": "d9e6b815",
   "metadata": {},
   "outputs": [],
   "source": []
  },
  {
   "cell_type": "markdown",
   "id": "d479999b",
   "metadata": {},
   "source": [
    "---\n",
    "## List Python Packages"
   ]
  },
  {
   "cell_type": "code",
   "execution_count": 40,
   "id": "ccd985c3",
   "metadata": {},
   "outputs": [
    {
     "name": "stdout",
     "output_type": "stream",
     "text": [
      "Package                           Version\n",
      "--------------------------------- -------------------\n",
      "absl-py                           0.11.0\n",
      "aiohttp                           3.7.4.post0\n",
      "ansiwrap                          0.8.4\n",
      "anyio                             3.3.0\n",
      "apache-beam                       2.32.0\n",
      "appdirs                           1.4.4\n",
      "argcomplete                       1.12.3\n",
      "argon2-cffi                       20.1.0\n",
      "arrow                             1.1.1\n",
      "asn1crypto                        1.4.0\n",
      "astunparse                        1.6.3\n",
      "async-generator                   1.10\n",
      "async-timeout                     3.0.1\n",
      "attrs                             20.3.0\n",
      "avro-python3                      1.9.2.1\n",
      "backcall                          0.2.0\n",
      "backports.entry-points-selectable 1.1.0\n",
      "backports.functools-lru-cache     1.6.4\n",
      "beatrix-jupyterlab                0.9.1\n",
      "binaryornot                       0.4.4\n",
      "black                             21.8b0\n",
      "bleach                            4.1.0\n",
      "blinker                           1.4\n",
      "Bottleneck                        1.3.2\n",
      "brotlipy                          0.7.0\n",
      "cached-property                   1.5.2\n",
      "cachetools                        4.2.2\n",
      "caip-notebooks-serverextension    1.0.0\n",
      "certifi                           2021.5.30\n",
      "cffi                              1.14.6\n",
      "chardet                           4.0.0\n",
      "clang                             5.0\n",
      "click                             7.1.2\n",
      "cloud-tpu-client                  0.10\n",
      "cloud-tpu-profiler                2.4.0\n",
      "cloudpickle                       1.6.0\n",
      "colorama                          0.4.4\n",
      "conda                             4.10.3\n",
      "conda-package-handling            1.7.3\n",
      "confuse                           1.5.0\n",
      "cookiecutter                      1.7.3\n",
      "crcmod                            1.7\n",
      "cryptography                      3.4.7\n",
      "cycler                            0.10.0\n",
      "dataclasses                       0.8\n",
      "debugpy                           1.4.1\n",
      "decorator                         5.0.9\n",
      "defusedxml                        0.7.1\n",
      "Deprecated                        1.2.13\n",
      "dill                              0.3.1.1\n",
      "distlib                           0.3.2\n",
      "dm-tree                           0.1.6\n",
      "docker                            4.4.4\n",
      "docker-pycreds                    0.4.0\n",
      "docopt                            0.6.2\n",
      "docstring-parser                  0.10\n",
      "entrypoints                       0.3\n",
      "explainable-ai-sdk                1.3.0\n",
      "explainers                        0.1\n",
      "fastavro                          1.4.4\n",
      "fasteners                         0.16.3\n",
      "filelock                          3.0.12\n",
      "fire                              0.4.0\n",
      "flatbuffers                       1.12\n",
      "fsspec                            2021.8.1\n",
      "future                            0.18.2\n",
      "gast                              0.4.0\n",
      "gcsfs                             2021.8.1\n",
      "gitdb                             4.0.7\n",
      "GitPython                         3.1.18\n",
      "google-api-core                   1.31.2\n",
      "google-api-python-client          1.12.8\n",
      "google-apitools                   0.5.31\n",
      "google-auth                       1.35.0\n",
      "google-auth-httplib2              0.1.0\n",
      "google-auth-oauthlib              0.4.6\n",
      "google-cloud-aiplatform           1.4.2\n",
      "google-cloud-appengine-logging    0.1.4\n",
      "google-cloud-audit-log            0.1.1\n",
      "google-cloud-bigquery             2.20.0\n",
      "google-cloud-bigquery-storage     2.7.0\n",
      "google-cloud-bigtable             1.7.0\n",
      "google-cloud-core                 1.7.2\n",
      "google-cloud-dataproc             2.5.0\n",
      "google-cloud-datastore            1.15.3\n",
      "google-cloud-dlp                  1.0.0\n",
      "google-cloud-firestore            2.3.1\n",
      "google-cloud-kms                  2.6.0\n",
      "google-cloud-language             1.3.0\n",
      "google-cloud-logging              2.6.0\n",
      "google-cloud-monitoring           2.5.0\n",
      "google-cloud-pipeline-components  0.1.6\n",
      "google-cloud-pubsub               1.7.0\n",
      "google-cloud-recommendations-ai   0.2.0\n",
      "google-cloud-scheduler            2.3.2\n",
      "google-cloud-spanner              1.19.1\n",
      "google-cloud-speech               2.8.0\n",
      "google-cloud-storage              1.42.0\n",
      "google-cloud-tasks                2.5.1\n",
      "google-cloud-translate            3.4.0\n",
      "google-cloud-videointelligence    1.16.1\n",
      "google-cloud-vision               1.0.0\n",
      "google-crc32c                     1.1.2\n",
      "google-pasta                      0.2.0\n",
      "google-resumable-media            1.3.3\n",
      "googleapis-common-protos          1.53.0\n",
      "greenlet                          1.1.1\n",
      "grpc-google-iam-v1                0.12.3\n",
      "grpcio                            1.34.1\n",
      "grpcio-gcp                        0.2.2\n",
      "gviz-api                          1.9.0\n",
      "h5py                              3.1.0\n",
      "hdfs                              2.6.0\n",
      "horovod                           0.22.1\n",
      "htmlmin                           0.1.12\n",
      "httplib2                          0.19.1\n",
      "idna                              2.10\n",
      "ImageHash                         4.2.1\n",
      "imageio                           2.9.0\n",
      "importlib-metadata                4.8.1\n",
      "importlib-resources               5.2.2\n",
      "ipykernel                         6.3.1\n",
      "ipython                           7.27.0\n",
      "ipython-genutils                  0.2.0\n",
      "ipython-sql                       0.3.9\n",
      "ipywidgets                        7.6.4\n",
      "jedi                              0.18.0\n",
      "Jinja2                            2.11.3\n",
      "jinja2-time                       0.2.0\n",
      "joblib                            0.14.1\n",
      "json5                             0.9.5\n",
      "jsonschema                        3.2.0\n",
      "jupyter                           1.0.0\n",
      "jupyter-client                    7.0.2\n",
      "jupyter-console                   6.4.0\n",
      "jupyter-core                      4.7.1\n",
      "jupyter-http-over-ws              0.0.8\n",
      "jupyter-server                    1.10.2\n",
      "jupyter-server-mathjax            0.2.3\n",
      "jupyterlab                        1.2.21\n",
      "jupyterlab-git                    0.11.0\n",
      "jupyterlab-pygments               0.1.2\n",
      "jupyterlab-server                 1.2.0\n",
      "jupyterlab-widgets                1.0.1\n",
      "keras                             2.6.0\n",
      "keras-nightly                     2.5.0.dev2021032900\n",
      "Keras-Preprocessing               1.1.2\n",
      "keras-tuner                       1.0.1\n",
      "kfp                               1.8.1\n",
      "kfp-pipeline-spec                 0.1.11\n",
      "kfp-server-api                    1.7.0\n",
      "kiwisolver                        1.3.2\n",
      "kt-legacy                         1.0.4\n",
      "kubernetes                        12.0.1\n",
      "libcst                            0.3.20\n",
      "llvmlite                          0.37.0\n",
      "Markdown                          3.3.4\n",
      "MarkupSafe                        1.1.1\n",
      "matplotlib                        3.4.3\n",
      "matplotlib-inline                 0.1.2\n",
      "missingno                         0.4.2\n",
      "mistune                           0.8.4\n",
      "ml-metadata                       1.2.0\n",
      "ml-pipelines-sdk                  1.2.0\n",
      "multidict                         5.1.0\n",
      "multimethod                       1.4\n",
      "mypy-extensions                   0.4.3\n",
      "nb-conda                          2.2.1\n",
      "nb-conda-kernels                  2.3.1\n",
      "nbclient                          0.5.4\n",
      "nbconvert                         6.1.0\n",
      "nbdime                            3.1.0\n",
      "nbformat                          5.1.3\n",
      "nest-asyncio                      1.5.1\n",
      "networkx                          2.5\n",
      "notebook                          6.4.3\n",
      "notebook-executor                 0.2\n",
      "numba                             0.54.0\n",
      "numpy                             1.19.5\n",
      "oauth2client                      4.1.3\n",
      "oauthlib                          3.1.1\n",
      "olefile                           0.46\n",
      "opt-einsum                        3.3.0\n",
      "orjson                            3.6.3\n",
      "packaging                         20.9\n",
      "pandas                            1.3.2\n",
      "pandas-profiling                  3.0.0\n",
      "pandocfilters                     1.4.2\n",
      "papermill                         2.3.3\n",
      "parso                             0.8.2\n",
      "pathspec                          0.9.0\n",
      "patsy                             0.5.1\n",
      "pexpect                           4.8.0\n",
      "phik                              0.11.2\n",
      "pickleshare                       0.7.5\n",
      "Pillow                            8.3.2\n",
      "pip                               21.2.4\n",
      "platformdirs                      2.3.0\n",
      "portpicker                        1.4.0\n",
      "poyo                              0.5.0\n",
      "prettytable                       2.2.0\n",
      "prometheus-client                 0.11.0\n",
      "promise                           2.3\n",
      "prompt-toolkit                    3.0.20\n",
      "proto-plus                        1.19.0\n",
      "protobuf                          3.16.0\n",
      "psutil                            5.8.0\n",
      "ptyprocess                        0.7.0\n",
      "pyarrow                           2.0.0\n",
      "pyasn1                            0.4.8\n",
      "pyasn1-modules                    0.2.7\n",
      "pycosat                           0.6.3\n",
      "pycparser                         2.20\n",
      "pydantic                          1.8.2\n",
      "pydot                             1.4.2\n",
      "Pygments                          2.10.0\n",
      "PyJWT                             2.1.0\n",
      "pymongo                           3.12.0\n",
      "pyOpenSSL                         20.0.1\n",
      "pyparsing                         2.4.7\n",
      "pyrsistent                        0.17.3\n",
      "PySocks                           1.7.1\n",
      "python-dateutil                   2.8.2\n",
      "python-slugify                    5.0.2\n",
      "pytz                              2021.1\n",
      "pyu2f                             0.1.5\n",
      "PyWavelets                        1.1.1\n",
      "PyYAML                            5.4.1\n",
      "pyzmq                             22.2.1\n",
      "qtconsole                         5.1.1\n",
      "QtPy                              1.11.0\n",
      "regex                             2021.8.28\n",
      "requests                          2.25.1\n",
      "requests-oauthlib                 1.3.0\n",
      "requests-toolbelt                 0.9.1\n",
      "requests-unixsocket               0.2.0\n",
      "retrying                          1.3.3\n",
      "rsa                               4.7.2\n",
      "ruamel-yaml-conda                 0.15.100\n",
      "scikit-image                      0.18.3\n",
      "scikit-learn                      0.24.2\n",
      "scipy                             1.7.1\n",
      "seaborn                           0.11.2\n",
      "Send2Trash                        1.8.0\n",
      "setuptools                        57.4.0\n",
      "simplejson                        3.17.5\n",
      "six                               1.15.0\n",
      "smmap                             3.0.5\n",
      "sniffio                           1.2.0\n",
      "SQLAlchemy                        1.4.23\n",
      "sqlparse                          0.4.1\n",
      "statsmodels                       0.12.2\n",
      "strip-hints                       0.1.10\n",
      "tabulate                          0.8.9\n",
      "tangled-up-in-unicode             0.1.0\n",
      "tenacity                          8.0.1\n",
      "tensorboard                       2.6.0\n",
      "tensorboard-data-server           0.6.1\n",
      "tensorboard-plugin-profile        2.4.0\n",
      "tensorboard-plugin-wit            1.8.0\n",
      "tensorflow                        2.5.1\n",
      "tensorflow-cloud                  0.1.14\n",
      "tensorflow-data-validation        1.2.0\n",
      "tensorflow-datasets               4.3.0\n",
      "tensorflow-estimator              2.5.0\n",
      "tensorflow-hub                    0.12.0\n",
      "tensorflow-io                     0.21.0\n",
      "tensorflow-io-gcs-filesystem      0.21.0\n",
      "tensorflow-metadata               1.2.0\n",
      "tensorflow-model-analysis         0.33.0\n",
      "tensorflow-probability            0.13.0rc0\n",
      "tensorflow-serving-api            2.5.2\n",
      "tensorflow-transform              1.2.0\n",
      "termcolor                         1.1.0\n",
      "terminado                         0.11.1\n",
      "terminaltables                    3.1.0\n",
      "testpath                          0.5.0\n",
      "text-unidecode                    1.3\n",
      "textwrap3                         0.9.2\n",
      "tfx                               1.2.0\n",
      "tfx-bsl                           1.2.0\n",
      "threadpoolctl                     2.2.0\n",
      "tifffile                          2021.8.30\n",
      "tomli                             1.2.1\n",
      "tornado                           6.1\n",
      "tqdm                              4.62.2\n",
      "traitlets                         5.1.0\n",
      "typed-ast                         1.4.3\n",
      "typing-extensions                 3.7.4.3\n",
      "typing-inspect                    0.7.1\n",
      "ujson                             4.0.2\n",
      "Unidecode                         1.2.0\n",
      "uritemplate                       3.0.1\n",
      "urllib3                           1.26.6\n",
      "virtualenv                        20.7.2\n",
      "visions                           0.7.1\n",
      "wcwidth                           0.2.5\n",
      "webencodings                      0.5.1\n",
      "websocket-client                  0.57.0\n",
      "Werkzeug                          2.0.1\n",
      "wheel                             0.37.0\n",
      "whichcraft                        0.6.1\n",
      "widgetsnbextension                3.5.1\n",
      "witwidget                         1.8.0\n",
      "wrapt                             1.12.1\n",
      "xai-tabular-widget                0.1.0\n",
      "yarl                              1.6.3\n",
      "zipp                              3.5.0\n"
     ]
    }
   ],
   "source": [
    "!pip list"
   ]
  },
  {
   "cell_type": "code",
   "execution_count": null,
   "id": "ee905550",
   "metadata": {},
   "outputs": [],
   "source": []
  }
 ],
 "metadata": {
  "environment": {
   "name": "tf2-gpu.2-3.m79",
   "type": "gcloud",
   "uri": "gcr.io/deeplearning-platform-release/tf2-gpu.2-3:m79"
  },
  "kernelspec": {
   "display_name": "Python 3",
   "language": "python",
   "name": "python3"
  },
  "language_info": {
   "codemirror_mode": {
    "name": "ipython",
    "version": 3
   },
   "file_extension": ".py",
   "mimetype": "text/x-python",
   "name": "python",
   "nbconvert_exporter": "python",
   "pygments_lexer": "ipython3",
   "version": "3.7.10"
  }
 },
 "nbformat": 4,
 "nbformat_minor": 5
}
