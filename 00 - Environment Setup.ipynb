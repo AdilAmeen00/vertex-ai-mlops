{
 "cells": [
  {
   "cell_type": "markdown",
   "id": "84dbe63a",
   "metadata": {},
   "source": [
    "# Initial Setup For this Project\n",
    "\n",
    "This is the notebook that sets up the GCP project for the other notebooks in the `project=statmike-mlops`.  Based on the [`Readme.md`](https://github.com/statmike/vertex-ai-mlops/blob/main/readme.md), you already have this repository of notebooks pulled as a local resource in your Vertex AI notebook instance."
   ]
  },
  {
   "cell_type": "markdown",
   "id": "d3888e6e",
   "metadata": {},
   "source": [
    "---\n",
    "## Setup"
   ]
  },
  {
   "cell_type": "markdown",
   "id": "f99ae430",
   "metadata": {},
   "source": [
    "inputs:"
   ]
  },
  {
   "cell_type": "code",
   "execution_count": 24,
   "id": "9437de60",
   "metadata": {},
   "outputs": [],
   "source": [
    "REGION = 'us-central1'\n",
    "PROJECT_ID = 'statmike-mlops'\n",
    "DATANAME = 'digits'"
   ]
  },
  {
   "cell_type": "markdown",
   "id": "734aaab7",
   "metadata": {},
   "source": [
    "derived inputs:"
   ]
  },
  {
   "cell_type": "code",
   "execution_count": 25,
   "id": "758c7296",
   "metadata": {},
   "outputs": [],
   "source": [
    "BUCKET = PROJECT_ID"
   ]
  },
  {
   "cell_type": "markdown",
   "id": "dfd22d9d",
   "metadata": {},
   "source": [
    "packages:"
   ]
  },
  {
   "cell_type": "code",
   "execution_count": 26,
   "id": "d79b9aed",
   "metadata": {},
   "outputs": [],
   "source": [
    "from google.cloud import storage\n",
    "\n",
    "import pandas as pd\n",
    "from sklearn import datasets"
   ]
  },
  {
   "cell_type": "markdown",
   "id": "e3bfd86a",
   "metadata": {},
   "source": [
    "---\n",
    "## Create Storage Bucket"
   ]
  },
  {
   "cell_type": "code",
   "execution_count": 27,
   "id": "cbd4f366",
   "metadata": {},
   "outputs": [],
   "source": [
    "gcs = storage.Client(project=PROJECT_ID)"
   ]
  },
  {
   "cell_type": "code",
   "execution_count": 28,
   "id": "e4ce42f6",
   "metadata": {},
   "outputs": [
    {
     "data": {
      "text/plain": [
       "<Bucket: statmike-mlops>"
      ]
     },
     "execution_count": 28,
     "metadata": {},
     "output_type": "execute_result"
    }
   ],
   "source": [
    "bucketDef = gcs.bucket(BUCKET)\n",
    "bucket = gcs.create_bucket(bucketDef, project=PROJECT_ID, location=REGION)\n",
    "bucket"
   ]
  },
  {
   "cell_type": "markdown",
   "id": "b4469727",
   "metadata": {},
   "source": [
    "---\n",
    "## Store Project Data in the Storage Bucket"
   ]
  },
  {
   "cell_type": "code",
   "execution_count": 29,
   "id": "5d2cde42",
   "metadata": {},
   "outputs": [],
   "source": [
    "source = datasets.load_digits()\n",
    "\n",
    "source_df = pd.DataFrame(data=source.data)\n",
    "source_df['target'] = source.target\n",
    "source_df['target_OE'] = source_df['target'].apply(lambda x : 'Odd' if x%2==1 else ('Even' if x%2==0 else ''))\n",
    "source_df.columns = ['p'+str(i) if i <= 63 else x for i, x in enumerate(digits_df.columns,0)]\n",
    "\n",
    "source_df.to_csv(f\"gs://{BUCKET}/{DATANAME}/data/{DATANAME}.csv\", index=False)"
   ]
  },
  {
   "cell_type": "markdown",
   "id": "8fd4dc5c",
   "metadata": {},
   "source": [
    "---\n",
    "## Update AIPlatform Package:\n",
    "\n",
    "The `google-cloud-aiplatform` package update frequently.  Update it for latest functionality."
   ]
  },
  {
   "cell_type": "code",
   "execution_count": 1,
   "id": "cf68d21e",
   "metadata": {},
   "outputs": [],
   "source": [
    "!pip install google-cloud-aiplatform -U -q"
   ]
  },
  {
   "cell_type": "markdown",
   "id": "564de71f",
   "metadata": {},
   "source": [
    "---\n",
    "## Install KFP\n",
    "If you get an error after a step, rerun it.  The dependecies sometimes resolve."
   ]
  },
  {
   "cell_type": "code",
   "execution_count": 3,
   "id": "c26ad0ae",
   "metadata": {},
   "outputs": [],
   "source": [
    "!pip install kfp -q"
   ]
  },
  {
   "cell_type": "code",
   "execution_count": 4,
   "id": "00775b07",
   "metadata": {},
   "outputs": [],
   "source": [
    "!pip install google-cloud-pipeline-components -U -q"
   ]
  },
  {
   "cell_type": "markdown",
   "id": "14527c2c",
   "metadata": {},
   "source": [
    "---\n",
    "## Other For Specific Notebooks"
   ]
  },
  {
   "cell_type": "markdown",
   "id": "29155c07",
   "metadata": {},
   "source": [
    "06 - Plotly used for visualizations"
   ]
  },
  {
   "cell_type": "code",
   "execution_count": 1,
   "id": "4a14b071",
   "metadata": {},
   "outputs": [],
   "source": [
    "!pip install plotly -q"
   ]
  },
  {
   "cell_type": "markdown",
   "id": "0b38b978",
   "metadata": {},
   "source": [
    "07 - Test version of aiplatform client loaded for featurestore while in preview phase"
   ]
  },
  {
   "cell_type": "code",
   "execution_count": 3,
   "id": "f261c62c",
   "metadata": {},
   "outputs": [],
   "source": [
    "!pip install --upgrade git+https://github.com/googleapis/python-aiplatform.git@main-test -q"
   ]
  },
  {
   "cell_type": "markdown",
   "id": "832e76de",
   "metadata": {},
   "source": [
    "---\n",
    "## OTHER - Obsolete?"
   ]
  },
  {
   "cell_type": "code",
   "execution_count": 2,
   "id": "e797f6aa",
   "metadata": {},
   "outputs": [],
   "source": [
    "!pip install tensorflow-io -q"
   ]
  },
  {
   "cell_type": "code",
   "execution_count": 33,
   "id": "d8212ae7",
   "metadata": {},
   "outputs": [],
   "source": [
    "!pip install tfx-bsl -U -q"
   ]
  },
  {
   "cell_type": "code",
   "execution_count": 34,
   "id": "0a2c6991",
   "metadata": {},
   "outputs": [],
   "source": [
    "!pip install tensorflow -U -q"
   ]
  },
  {
   "cell_type": "code",
   "execution_count": 36,
   "id": "ee398891",
   "metadata": {},
   "outputs": [
    {
     "name": "stdout",
     "output_type": "stream",
     "text": [
      "\u001b[31mERROR: pip's dependency resolver does not currently take into account all the packages that are installed. This behaviour is the source of the following dependency conflicts.\n",
      "tensorflow-io 0.21.0 requires tensorflow<2.7.0,>=2.6.0, but you have tensorflow 2.5.1 which is incompatible.\n",
      "jupyterlab-git 0.11.0 requires nbdime<2.0.0,>=1.1.0, but you have nbdime 3.1.0 which is incompatible.\u001b[0m\n"
     ]
    }
   ],
   "source": [
    "!pip install tfx -U -q"
   ]
  },
  {
   "cell_type": "code",
   "execution_count": 37,
   "id": "283691ec",
   "metadata": {},
   "outputs": [
    {
     "name": "stdout",
     "output_type": "stream",
     "text": [
      "\u001b[31mERROR: pip's dependency resolver does not currently take into account all the packages that are installed. This behaviour is the source of the following dependency conflicts.\n",
      "tfx 1.2.0 requires google-cloud-aiplatform<0.8,>=0.5.0, but you have google-cloud-aiplatform 1.4.2 which is incompatible.\u001b[0m\n"
     ]
    }
   ],
   "source": [
    "!pip install google-cloud-aiplatform -U -q"
   ]
  }
 ],
 "metadata": {
  "environment": {
   "name": "tf2-gpu.2-3.m79",
   "type": "gcloud",
   "uri": "gcr.io/deeplearning-platform-release/tf2-gpu.2-3:m79"
  },
  "kernelspec": {
   "display_name": "Python 3",
   "language": "python",
   "name": "python3"
  },
  "language_info": {
   "codemirror_mode": {
    "name": "ipython",
    "version": 3
   },
   "file_extension": ".py",
   "mimetype": "text/x-python",
   "name": "python",
   "nbconvert_exporter": "python",
   "pygments_lexer": "ipython3",
   "version": "3.7.10"
  }
 },
 "nbformat": 4,
 "nbformat_minor": 5
}
