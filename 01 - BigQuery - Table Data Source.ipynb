{
 "cells": [
  {
   "cell_type": "markdown",
   "id": "c28f7fa2",
   "metadata": {},
   "source": [
    "# 01 - BigQuery - Table Data Source\n",
    "Use BigQuery to load and prepare data for machine learning:\n",
    "\n",
    "**Prerequisites:**\n",
    "-  00 - Environment Setup\n",
    "\n",
    "**Overview:**\n",
    "-  Setup BigQuery\n",
    "   -  Create a Dataset\n",
    "      -  Use BigQuery Python Client\n",
    "   -  Create Tables\n",
    "      -  Copy from another Project:Dataset\n",
    "         -  SQL with BigQuery Jupyter Magic (%%bigquery)\n",
    "      -  Load data from GCS Bucket\n",
    "         -  BigQuery Python Client (load_table_from_uri)\n",
    "   -  Prepare Data For Analysis\n",
    "      -  Run SQL Queries to prepare Unique ID's and Train/Test Splits\n",
    "\n",
    "**Resources:**\n",
    "-  [Python Client For Google BigQuery](https://googleapis.dev/python/bigquery/latest/index.html)\n",
    "-  [Download BigQuery Data to Pandas](https://cloud.google.com/bigquery/docs/bigquery-storage-python-pandas)\n",
    "-  [BigQuery Template Notebooks](https://github.com/GoogleCloudPlatform/bigquery-notebooks/tree/main/notebooks/official/template_notebooks)\n",
    "\n",
    "**Related Training:**\n",
    "-  todo\n"
   ]
  },
  {
   "cell_type": "markdown",
   "id": "fde6df6b",
   "metadata": {},
   "source": [
    "---\n",
    "## Vertex AI - Conceptual Flow\n",
    "\n",
    "<img src=\"architectures/slides/01_arch.png\">\n",
    "\n",
    "---\n",
    "## Vertex AI - Workflow\n",
    "\n",
    "<img src=\"architectures/slides/01_console.png\">"
   ]
  },
  {
   "cell_type": "markdown",
   "id": "5d0c695d-002d-48ca-9d52-839f95fdfee0",
   "metadata": {},
   "source": [
    "---\n",
    "## Source Data\n",
    "\n",
    "**Overview**\n",
    "\n",
    "This notebook imports source data for this project into Google BigQuery.  All the remaining notebooks utilize BigQuery as the source and leverage API's native to the machine learning approaches they feature.\n",
    "\n",
    "In the enviornment setup notebook (00), a BigQuery source table was exported to CSV format in a Cloud Storage Bucket. This notebook, `01 - BigQuery - Table Data Source`, start the machine learning lifecycle by importing a source and preparing it for machine learning.  To customize this series of notebooks change the source referenced here or in notebook `00 - Environment Setup`.\n",
    "\n",
    "All of these workflows utilize tabular data to fit a supervised learning model: predict a target variable by learning patterns in feature columns.  The type of supervised learning used in these projects is classification: models with a target variable that has multiple discrete classes.  \n",
    "\n",
    "**The Data**\n",
    "\n",
    "The source data is exported to Google Cloud Storage in CSV format by the `00 - Environment Setup` notebook.  The BigQuery source table is `bigquery-public-data.ml_datasets.ulb_fraud_detection`.  This is a table of credit card transactions that are classified as fradulant, `Class = 1`, or normal `Class = 0`.  \n",
    "\n",
    "The data can be researched further at this [Kaggle link](https://www.kaggle.com/mlg-ulb/creditcardfraud).\n",
    "\n",
    "**Description of the Data**\n",
    "\n",
    "This is a table of 284,207 credit card transactions classified as fradulant or normal in the column `Class`.  In order protect confidentiality, the original features have been transformed using [principle component analysis (PCA)](https://en.wikipedia.org/wiki/Principal_component_analysis) into 28 features named `V1, V2, ... V28` (float).  Two descriptive features are provided without transformation by PCA:\n",
    "- `Time` (integer) is the seconds elapsed between the transaction and the earliest transaction in the table\n",
    "- `Amount` (float) is the value of the transaction\n",
    ">**Quick Note on PCA**\n",
    "\n",
    ">PCA is an unsupervised learning technique: there is not a target variable.  PCA is commonlly used as a variable/feature reduction technique.  If you have 100 features then you could reduce it to a number p (say 10) projected features.  The choice of this number is a balance of how well it can explain the variance of the full feature space and reducing the number of features.  Each projected feature is orthogonal to each other feature, meaning there is no correlation between these new projected features.\n",
    "\n",
    "**Preparation of the Data**\n",
    "\n",
    "This notebook adds two columns to the source data and stores it in a new table with suffix `_prepped`.  \n",
    "- `transaction_id` (string) a unique id for the row/transaction\n",
    "- `splits` (string) this divided the tranactions into sets for `TRAIN` (80%), `VALIDATA` (10%), and `TEST` (10%)"
   ]
  },
  {
   "cell_type": "markdown",
   "id": "a5046940",
   "metadata": {},
   "source": [
    "---\n",
    "## Setup"
   ]
  },
  {
   "cell_type": "markdown",
   "id": "a0ae60b2",
   "metadata": {},
   "source": [
    "inputs:"
   ]
  },
  {
   "cell_type": "code",
   "execution_count": 17,
   "id": "56a5bc43",
   "metadata": {},
   "outputs": [],
   "source": [
    "PROJECT_ID = \"statmike-mlops\"\n",
    "REGION = 'us-central1'\n",
    "DATANAME = 'fraud'\n",
    "NOTEBOOK = '01'"
   ]
  },
  {
   "cell_type": "markdown",
   "id": "e4a963be",
   "metadata": {},
   "source": [
    "packages:"
   ]
  },
  {
   "cell_type": "code",
   "execution_count": 2,
   "id": "8a37b83a",
   "metadata": {},
   "outputs": [],
   "source": [
    "from google.cloud import bigquery"
   ]
  },
  {
   "cell_type": "markdown",
   "id": "e24cebb6",
   "metadata": {},
   "source": [
    "clients:"
   ]
  },
  {
   "cell_type": "code",
   "execution_count": 3,
   "id": "9e515410",
   "metadata": {},
   "outputs": [],
   "source": [
    "bq = bigquery.Client(project = PROJECT_ID)"
   ]
  },
  {
   "cell_type": "markdown",
   "id": "a6601398",
   "metadata": {},
   "source": [
    "parameters:"
   ]
  },
  {
   "cell_type": "code",
   "execution_count": 4,
   "id": "1f1e2af3",
   "metadata": {},
   "outputs": [],
   "source": [
    "BUCKET = PROJECT_ID"
   ]
  },
  {
   "cell_type": "markdown",
   "id": "7685eddc",
   "metadata": {},
   "source": [
    "---\n",
    "## Create Dataset"
   ]
  },
  {
   "cell_type": "markdown",
   "id": "c77cab37",
   "metadata": {},
   "source": [
    "List BigQuery datasets in the project:"
   ]
  },
  {
   "cell_type": "code",
   "execution_count": 5,
   "id": "2b49b948-5fa8-4d4e-a7d3-b2adb19362c4",
   "metadata": {},
   "outputs": [
    {
     "data": {
      "text/html": [
       "<div>\n",
       "<style scoped>\n",
       "    .dataframe tbody tr th:only-of-type {\n",
       "        vertical-align: middle;\n",
       "    }\n",
       "\n",
       "    .dataframe tbody tr th {\n",
       "        vertical-align: top;\n",
       "    }\n",
       "\n",
       "    .dataframe thead th {\n",
       "        text-align: right;\n",
       "    }\n",
       "</style>\n",
       "<table border=\"1\" class=\"dataframe\">\n",
       "  <thead>\n",
       "    <tr style=\"text-align: right;\">\n",
       "      <th></th>\n",
       "      <th>schema_name</th>\n",
       "    </tr>\n",
       "  </thead>\n",
       "  <tbody>\n",
       "  </tbody>\n",
       "</table>\n",
       "</div>"
      ],
      "text/plain": [
       "Empty DataFrame\n",
       "Columns: [schema_name]\n",
       "Index: []"
      ]
     },
     "execution_count": 5,
     "metadata": {},
     "output_type": "execute_result"
    }
   ],
   "source": [
    "query = f\"\"\"\n",
    "SELECT schema_name\n",
    "FROM `{PROJECT_ID}.INFORMATION_SCHEMA.SCHEMATA`\n",
    "\"\"\"\n",
    "bq.query(query = query).to_dataframe()"
   ]
  },
  {
   "cell_type": "markdown",
   "id": "3b0b3aca",
   "metadata": {},
   "source": [
    "Create the dataset if missing:"
   ]
  },
  {
   "cell_type": "code",
   "execution_count": 6,
   "id": "ab1e1c54-d15e-41c6-9bce-920baf197a8d",
   "metadata": {},
   "outputs": [
    {
     "data": {
      "text/plain": [
       "<google.cloud.bigquery.table._EmptyRowIterator at 0x7fd07db37e90>"
      ]
     },
     "execution_count": 6,
     "metadata": {},
     "output_type": "execute_result"
    }
   ],
   "source": [
    "query = f\"\"\"\n",
    "CREATE SCHEMA IF NOT EXISTS `{PROJECT_ID}.{DATANAME}`\n",
    "OPTIONS(\n",
    "    location = '{REGION}',\n",
    "    labels = [('notebook','{NOTEBOOK}')]\n",
    ")\n",
    "\"\"\"\n",
    "job = bq.query(query = query)\n",
    "job.result()"
   ]
  },
  {
   "cell_type": "code",
   "execution_count": 7,
   "id": "c03d42f2-872b-450e-82ac-158ccfe6ad53",
   "metadata": {},
   "outputs": [
    {
     "data": {
      "text/plain": [
       "0.753"
      ]
     },
     "execution_count": 7,
     "metadata": {},
     "output_type": "execute_result"
    }
   ],
   "source": [
    "(job.ended-job.started).total_seconds()"
   ]
  },
  {
   "cell_type": "markdown",
   "id": "34eeac68",
   "metadata": {},
   "source": [
    "---\n",
    "## Create Table\n",
    "- import data from Cloud Storage Bucket\n",
    "- https://cloud.google.com/bigquery/docs/loading-data-cloud-storage-csv"
   ]
  },
  {
   "cell_type": "code",
   "execution_count": 8,
   "id": "86063a1e",
   "metadata": {},
   "outputs": [
    {
     "data": {
      "text/plain": [
       "<google.cloud.bigquery.job.load.LoadJob at 0x7fd07c1ec650>"
      ]
     },
     "execution_count": 8,
     "metadata": {},
     "output_type": "execute_result"
    }
   ],
   "source": [
    "destination = bigquery.TableReference.from_string(f\"{PROJECT_ID}.{DATANAME}.{DATANAME}\")\n",
    "job_config = bigquery.LoadJobConfig(\n",
    "    write_disposition = 'WRITE_TRUNCATE',\n",
    "    source_format = bigquery.SourceFormat.CSV,\n",
    "    autodetect = True,\n",
    "    labels = {'notebook':f'{NOTEBOOK}'}\n",
    ")\n",
    "job = bq.load_table_from_uri(f\"gs://{BUCKET}/{DATANAME}/data/{DATANAME}.csv\", destination, job_config = job_config)\n",
    "job.result()"
   ]
  },
  {
   "cell_type": "code",
   "execution_count": 9,
   "id": "15201c64",
   "metadata": {},
   "outputs": [
    {
     "data": {
      "text/plain": [
       "13.826"
      ]
     },
     "execution_count": 9,
     "metadata": {},
     "output_type": "execute_result"
    }
   ],
   "source": [
    "(job.ended-job.started).total_seconds()"
   ]
  },
  {
   "cell_type": "code",
   "execution_count": 10,
   "id": "11924cf8-a040-4ee5-85ae-788cba106b56",
   "metadata": {},
   "outputs": [
    {
     "data": {
      "text/html": [
       "<div>\n",
       "<style scoped>\n",
       "    .dataframe tbody tr th:only-of-type {\n",
       "        vertical-align: middle;\n",
       "    }\n",
       "\n",
       "    .dataframe tbody tr th {\n",
       "        vertical-align: top;\n",
       "    }\n",
       "\n",
       "    .dataframe thead th {\n",
       "        text-align: right;\n",
       "    }\n",
       "</style>\n",
       "<table border=\"1\" class=\"dataframe\">\n",
       "  <thead>\n",
       "    <tr style=\"text-align: right;\">\n",
       "      <th></th>\n",
       "      <th>Time</th>\n",
       "      <th>V1</th>\n",
       "      <th>V2</th>\n",
       "      <th>V3</th>\n",
       "      <th>V4</th>\n",
       "      <th>V5</th>\n",
       "      <th>V6</th>\n",
       "      <th>V7</th>\n",
       "      <th>V8</th>\n",
       "      <th>V9</th>\n",
       "      <th>...</th>\n",
       "      <th>V21</th>\n",
       "      <th>V22</th>\n",
       "      <th>V23</th>\n",
       "      <th>V24</th>\n",
       "      <th>V25</th>\n",
       "      <th>V26</th>\n",
       "      <th>V27</th>\n",
       "      <th>V28</th>\n",
       "      <th>Amount</th>\n",
       "      <th>Class</th>\n",
       "    </tr>\n",
       "  </thead>\n",
       "  <tbody>\n",
       "    <tr>\n",
       "      <th>0</th>\n",
       "      <td>282</td>\n",
       "      <td>-0.356466</td>\n",
       "      <td>0.725418</td>\n",
       "      <td>1.971749</td>\n",
       "      <td>0.831343</td>\n",
       "      <td>0.369681</td>\n",
       "      <td>-0.107776</td>\n",
       "      <td>0.751610</td>\n",
       "      <td>-0.120166</td>\n",
       "      <td>-0.420675</td>\n",
       "      <td>...</td>\n",
       "      <td>0.020804</td>\n",
       "      <td>0.424312</td>\n",
       "      <td>-0.015989</td>\n",
       "      <td>0.466754</td>\n",
       "      <td>-0.809962</td>\n",
       "      <td>0.657334</td>\n",
       "      <td>-0.043150</td>\n",
       "      <td>-0.046401</td>\n",
       "      <td>0.0</td>\n",
       "      <td>0</td>\n",
       "    </tr>\n",
       "    <tr>\n",
       "      <th>1</th>\n",
       "      <td>380</td>\n",
       "      <td>-1.299837</td>\n",
       "      <td>0.881817</td>\n",
       "      <td>1.452842</td>\n",
       "      <td>-1.293698</td>\n",
       "      <td>-0.025105</td>\n",
       "      <td>-1.170103</td>\n",
       "      <td>0.861610</td>\n",
       "      <td>-0.193934</td>\n",
       "      <td>0.592001</td>\n",
       "      <td>...</td>\n",
       "      <td>-0.272563</td>\n",
       "      <td>-0.360853</td>\n",
       "      <td>0.223911</td>\n",
       "      <td>0.598930</td>\n",
       "      <td>-0.397705</td>\n",
       "      <td>0.637141</td>\n",
       "      <td>0.234872</td>\n",
       "      <td>0.021379</td>\n",
       "      <td>0.0</td>\n",
       "      <td>0</td>\n",
       "    </tr>\n",
       "    <tr>\n",
       "      <th>2</th>\n",
       "      <td>403</td>\n",
       "      <td>1.237413</td>\n",
       "      <td>0.512365</td>\n",
       "      <td>0.687746</td>\n",
       "      <td>1.693872</td>\n",
       "      <td>-0.236323</td>\n",
       "      <td>-0.650232</td>\n",
       "      <td>0.118066</td>\n",
       "      <td>-0.230545</td>\n",
       "      <td>-0.808523</td>\n",
       "      <td>...</td>\n",
       "      <td>-0.077543</td>\n",
       "      <td>-0.178220</td>\n",
       "      <td>0.038722</td>\n",
       "      <td>0.471218</td>\n",
       "      <td>0.289249</td>\n",
       "      <td>0.871803</td>\n",
       "      <td>-0.066884</td>\n",
       "      <td>0.012986</td>\n",
       "      <td>0.0</td>\n",
       "      <td>0</td>\n",
       "    </tr>\n",
       "    <tr>\n",
       "      <th>3</th>\n",
       "      <td>430</td>\n",
       "      <td>-1.860258</td>\n",
       "      <td>-0.629859</td>\n",
       "      <td>0.966570</td>\n",
       "      <td>0.844632</td>\n",
       "      <td>0.759983</td>\n",
       "      <td>-1.481173</td>\n",
       "      <td>-0.509681</td>\n",
       "      <td>0.540722</td>\n",
       "      <td>-0.733623</td>\n",
       "      <td>...</td>\n",
       "      <td>0.268028</td>\n",
       "      <td>0.125515</td>\n",
       "      <td>-0.225029</td>\n",
       "      <td>0.586664</td>\n",
       "      <td>-0.031598</td>\n",
       "      <td>0.570168</td>\n",
       "      <td>-0.043007</td>\n",
       "      <td>-0.223739</td>\n",
       "      <td>0.0</td>\n",
       "      <td>0</td>\n",
       "    </tr>\n",
       "    <tr>\n",
       "      <th>4</th>\n",
       "      <td>711</td>\n",
       "      <td>-0.431349</td>\n",
       "      <td>1.027694</td>\n",
       "      <td>2.670816</td>\n",
       "      <td>2.084787</td>\n",
       "      <td>-0.274567</td>\n",
       "      <td>0.286856</td>\n",
       "      <td>0.152110</td>\n",
       "      <td>0.200872</td>\n",
       "      <td>-0.596505</td>\n",
       "      <td>...</td>\n",
       "      <td>0.001241</td>\n",
       "      <td>0.154170</td>\n",
       "      <td>-0.141533</td>\n",
       "      <td>0.384610</td>\n",
       "      <td>-0.147132</td>\n",
       "      <td>-0.087100</td>\n",
       "      <td>0.101117</td>\n",
       "      <td>0.077944</td>\n",
       "      <td>0.0</td>\n",
       "      <td>0</td>\n",
       "    </tr>\n",
       "  </tbody>\n",
       "</table>\n",
       "<p>5 rows × 31 columns</p>\n",
       "</div>"
      ],
      "text/plain": [
       "   Time        V1        V2        V3        V4        V5        V6        V7  \\\n",
       "0   282 -0.356466  0.725418  1.971749  0.831343  0.369681 -0.107776  0.751610   \n",
       "1   380 -1.299837  0.881817  1.452842 -1.293698 -0.025105 -1.170103  0.861610   \n",
       "2   403  1.237413  0.512365  0.687746  1.693872 -0.236323 -0.650232  0.118066   \n",
       "3   430 -1.860258 -0.629859  0.966570  0.844632  0.759983 -1.481173 -0.509681   \n",
       "4   711 -0.431349  1.027694  2.670816  2.084787 -0.274567  0.286856  0.152110   \n",
       "\n",
       "         V8        V9  ...       V21       V22       V23       V24       V25  \\\n",
       "0 -0.120166 -0.420675  ...  0.020804  0.424312 -0.015989  0.466754 -0.809962   \n",
       "1 -0.193934  0.592001  ... -0.272563 -0.360853  0.223911  0.598930 -0.397705   \n",
       "2 -0.230545 -0.808523  ... -0.077543 -0.178220  0.038722  0.471218  0.289249   \n",
       "3  0.540722 -0.733623  ...  0.268028  0.125515 -0.225029  0.586664 -0.031598   \n",
       "4  0.200872 -0.596505  ...  0.001241  0.154170 -0.141533  0.384610 -0.147132   \n",
       "\n",
       "        V26       V27       V28  Amount  Class  \n",
       "0  0.657334 -0.043150 -0.046401     0.0      0  \n",
       "1  0.637141  0.234872  0.021379     0.0      0  \n",
       "2  0.871803 -0.066884  0.012986     0.0      0  \n",
       "3  0.570168 -0.043007 -0.223739     0.0      0  \n",
       "4 -0.087100  0.101117  0.077944     0.0      0  \n",
       "\n",
       "[5 rows x 31 columns]"
      ]
     },
     "execution_count": 10,
     "metadata": {},
     "output_type": "execute_result"
    }
   ],
   "source": [
    "query = f\"\"\"\n",
    "SELECT *\n",
    "FROM `{DATANAME}.{DATANAME}`\n",
    "LIMIT 5\n",
    "\"\"\"\n",
    "bq.query(query = query).to_dataframe()"
   ]
  },
  {
   "cell_type": "markdown",
   "id": "e85ccdce-e6a9-4735-9997-e5ae77a6f86c",
   "metadata": {},
   "source": [
    "### Check out this table in BigQuery Console:\n",
    "- Click: https://console.cloud.google.com/bigquery\n",
    "- Make sure project selected is the one from this notebook\n",
    "- Under Explore, expand this project and review the dataset and table"
   ]
  },
  {
   "cell_type": "markdown",
   "id": "35b34894",
   "metadata": {},
   "source": [
    "---\n",
    "## Prepare Data for Analysis"
   ]
  },
  {
   "cell_type": "markdown",
   "id": "4c982157",
   "metadata": {},
   "source": [
    "Create a prepped version of the data with test/train splits using SQL DDL:"
   ]
  },
  {
   "cell_type": "code",
   "execution_count": 11,
   "id": "a50becbb-60ab-45f9-acd5-9beb5b6755f0",
   "metadata": {},
   "outputs": [
    {
     "data": {
      "text/plain": [
       "<google.cloud.bigquery.table._EmptyRowIterator at 0x7fd07d314f50>"
      ]
     },
     "execution_count": 11,
     "metadata": {},
     "output_type": "execute_result"
    }
   ],
   "source": [
    "query = f\"\"\"\n",
    "CREATE OR REPLACE TABLE `{DATANAME}.{DATANAME}_prepped` AS\n",
    "SELECT *, GENERATE_UUID() transaction_id,\n",
    "    CASE \n",
    "        WHEN MOD(ABS(FARM_FINGERPRINT(GENERATE_UUID())),10) < 8 THEN \"TRAIN\" \n",
    "        WHEN MOD(ABS(FARM_FINGERPRINT(GENERATE_UUID())),10) < 5 THEN \"VALIDATE\"\n",
    "        ELSE \"TEST\"\n",
    "    END AS splits\n",
    "FROM `{DATANAME}.{DATANAME}`\n",
    "\"\"\"\n",
    "job = bq.query(query = query)\n",
    "job.result()"
   ]
  },
  {
   "cell_type": "code",
   "execution_count": 12,
   "id": "77d6e2a9-ec35-477c-9d50-429326acc41d",
   "metadata": {},
   "outputs": [
    {
     "data": {
      "text/plain": [
       "19.366"
      ]
     },
     "execution_count": 12,
     "metadata": {},
     "output_type": "execute_result"
    }
   ],
   "source": [
    "(job.ended-job.started).total_seconds()"
   ]
  },
  {
   "cell_type": "code",
   "execution_count": 13,
   "id": "a991ff73-a545-4eed-a709-b8292efd89ca",
   "metadata": {},
   "outputs": [
    {
     "data": {
      "text/plain": [
       "70.632136"
      ]
     },
     "execution_count": 13,
     "metadata": {},
     "output_type": "execute_result"
    }
   ],
   "source": [
    "job.estimated_bytes_processed/1000000 #MB"
   ]
  },
  {
   "cell_type": "markdown",
   "id": "372b2c41",
   "metadata": {},
   "source": [
    "Review the test/train split:"
   ]
  },
  {
   "cell_type": "code",
   "execution_count": 14,
   "id": "4a94adb9-81d7-4710-ac50-e0d93dd5523a",
   "metadata": {},
   "outputs": [
    {
     "data": {
      "text/html": [
       "<div>\n",
       "<style scoped>\n",
       "    .dataframe tbody tr th:only-of-type {\n",
       "        vertical-align: middle;\n",
       "    }\n",
       "\n",
       "    .dataframe tbody tr th {\n",
       "        vertical-align: top;\n",
       "    }\n",
       "\n",
       "    .dataframe thead th {\n",
       "        text-align: right;\n",
       "    }\n",
       "</style>\n",
       "<table border=\"1\" class=\"dataframe\">\n",
       "  <thead>\n",
       "    <tr style=\"text-align: right;\">\n",
       "      <th></th>\n",
       "      <th>splits</th>\n",
       "      <th>Count</th>\n",
       "      <th>Percentage</th>\n",
       "    </tr>\n",
       "  </thead>\n",
       "  <tbody>\n",
       "    <tr>\n",
       "      <th>0</th>\n",
       "      <td>TEST</td>\n",
       "      <td>28452</td>\n",
       "      <td>9.989923</td>\n",
       "    </tr>\n",
       "    <tr>\n",
       "      <th>1</th>\n",
       "      <td>TRAIN</td>\n",
       "      <td>227839</td>\n",
       "      <td>79.997683</td>\n",
       "    </tr>\n",
       "    <tr>\n",
       "      <th>2</th>\n",
       "      <td>VALIDATE</td>\n",
       "      <td>28516</td>\n",
       "      <td>10.012394</td>\n",
       "    </tr>\n",
       "  </tbody>\n",
       "</table>\n",
       "</div>"
      ],
      "text/plain": [
       "     splits   Count  Percentage\n",
       "0      TEST   28452    9.989923\n",
       "1     TRAIN  227839   79.997683\n",
       "2  VALIDATE   28516   10.012394"
      ]
     },
     "execution_count": 14,
     "metadata": {},
     "output_type": "execute_result"
    }
   ],
   "source": [
    "query = f\"\"\"\n",
    "SELECT splits, count(*) as Count, 100*count(*) / (sum(count(*)) OVER()) as Percentage\n",
    "FROM `{DATANAME}.{DATANAME}_prepped`\n",
    "GROUP BY splits\n",
    "\"\"\"\n",
    "bq.query(query = query).to_dataframe()"
   ]
  },
  {
   "cell_type": "markdown",
   "id": "3006ed11",
   "metadata": {},
   "source": [
    "Retrieve a subset of the data to a Pandas dataframe:"
   ]
  },
  {
   "cell_type": "code",
   "execution_count": 15,
   "id": "2ea70141-07db-46b0-a31e-0968befcd37b",
   "metadata": {},
   "outputs": [],
   "source": [
    "query = f\"\"\"\n",
    "SELECT * \n",
    "FROM `{DATANAME}.{DATANAME}_prepped`\n",
    "LIMIT 5\n",
    "\"\"\"\n",
    "data = bq.query(query = query).to_dataframe()"
   ]
  },
  {
   "cell_type": "code",
   "execution_count": 16,
   "id": "326d2b3d",
   "metadata": {},
   "outputs": [
    {
     "data": {
      "text/html": [
       "<div>\n",
       "<style scoped>\n",
       "    .dataframe tbody tr th:only-of-type {\n",
       "        vertical-align: middle;\n",
       "    }\n",
       "\n",
       "    .dataframe tbody tr th {\n",
       "        vertical-align: top;\n",
       "    }\n",
       "\n",
       "    .dataframe thead th {\n",
       "        text-align: right;\n",
       "    }\n",
       "</style>\n",
       "<table border=\"1\" class=\"dataframe\">\n",
       "  <thead>\n",
       "    <tr style=\"text-align: right;\">\n",
       "      <th></th>\n",
       "      <th>Time</th>\n",
       "      <th>V1</th>\n",
       "      <th>V2</th>\n",
       "      <th>V3</th>\n",
       "      <th>V4</th>\n",
       "      <th>V5</th>\n",
       "      <th>V6</th>\n",
       "      <th>V7</th>\n",
       "      <th>V8</th>\n",
       "      <th>V9</th>\n",
       "      <th>...</th>\n",
       "      <th>V23</th>\n",
       "      <th>V24</th>\n",
       "      <th>V25</th>\n",
       "      <th>V26</th>\n",
       "      <th>V27</th>\n",
       "      <th>V28</th>\n",
       "      <th>Amount</th>\n",
       "      <th>Class</th>\n",
       "      <th>transaction_id</th>\n",
       "      <th>splits</th>\n",
       "    </tr>\n",
       "  </thead>\n",
       "  <tbody>\n",
       "    <tr>\n",
       "      <th>0</th>\n",
       "      <td>42525</td>\n",
       "      <td>-0.646143</td>\n",
       "      <td>0.736469</td>\n",
       "      <td>0.942179</td>\n",
       "      <td>1.475040</td>\n",
       "      <td>2.130779</td>\n",
       "      <td>4.972248</td>\n",
       "      <td>-0.940231</td>\n",
       "      <td>0.500023</td>\n",
       "      <td>-0.272361</td>\n",
       "      <td>...</td>\n",
       "      <td>-0.224510</td>\n",
       "      <td>1.039882</td>\n",
       "      <td>0.027130</td>\n",
       "      <td>0.262897</td>\n",
       "      <td>0.232499</td>\n",
       "      <td>0.146983</td>\n",
       "      <td>0.0</td>\n",
       "      <td>0</td>\n",
       "      <td>3e132b2b-63c1-4aa6-9e40-f8f6788a12c7</td>\n",
       "      <td>TEST</td>\n",
       "    </tr>\n",
       "    <tr>\n",
       "      <th>1</th>\n",
       "      <td>56319</td>\n",
       "      <td>0.792079</td>\n",
       "      <td>0.436581</td>\n",
       "      <td>1.358800</td>\n",
       "      <td>2.798437</td>\n",
       "      <td>-0.769028</td>\n",
       "      <td>0.087739</td>\n",
       "      <td>-0.470308</td>\n",
       "      <td>0.298705</td>\n",
       "      <td>0.300321</td>\n",
       "      <td>...</td>\n",
       "      <td>0.340340</td>\n",
       "      <td>0.312103</td>\n",
       "      <td>-1.132621</td>\n",
       "      <td>-0.162690</td>\n",
       "      <td>0.008280</td>\n",
       "      <td>-0.111146</td>\n",
       "      <td>0.0</td>\n",
       "      <td>0</td>\n",
       "      <td>bb5bdb3c-a1c0-45b7-a6db-5580f95f1e29</td>\n",
       "      <td>TEST</td>\n",
       "    </tr>\n",
       "    <tr>\n",
       "      <th>2</th>\n",
       "      <td>142598</td>\n",
       "      <td>2.210514</td>\n",
       "      <td>0.141203</td>\n",
       "      <td>-2.841177</td>\n",
       "      <td>0.254088</td>\n",
       "      <td>1.197321</td>\n",
       "      <td>-1.018585</td>\n",
       "      <td>0.871035</td>\n",
       "      <td>-0.467864</td>\n",
       "      <td>0.079799</td>\n",
       "      <td>...</td>\n",
       "      <td>-0.220533</td>\n",
       "      <td>0.097614</td>\n",
       "      <td>0.758281</td>\n",
       "      <td>0.737860</td>\n",
       "      <td>-0.137577</td>\n",
       "      <td>-0.096846</td>\n",
       "      <td>0.0</td>\n",
       "      <td>0</td>\n",
       "      <td>eb4a161a-8e36-4aa0-9555-391249d2374b</td>\n",
       "      <td>TEST</td>\n",
       "    </tr>\n",
       "    <tr>\n",
       "      <th>3</th>\n",
       "      <td>39386</td>\n",
       "      <td>-1.092735</td>\n",
       "      <td>0.210722</td>\n",
       "      <td>2.937391</td>\n",
       "      <td>2.481408</td>\n",
       "      <td>0.379506</td>\n",
       "      <td>1.302458</td>\n",
       "      <td>-0.675156</td>\n",
       "      <td>0.711658</td>\n",
       "      <td>-0.471588</td>\n",
       "      <td>...</td>\n",
       "      <td>-0.341725</td>\n",
       "      <td>-0.264885</td>\n",
       "      <td>0.341552</td>\n",
       "      <td>0.402259</td>\n",
       "      <td>0.100453</td>\n",
       "      <td>0.077091</td>\n",
       "      <td>0.0</td>\n",
       "      <td>0</td>\n",
       "      <td>758afcfb-757d-430c-a4a0-d26f05f7cd24</td>\n",
       "      <td>TEST</td>\n",
       "    </tr>\n",
       "    <tr>\n",
       "      <th>4</th>\n",
       "      <td>50327</td>\n",
       "      <td>1.249514</td>\n",
       "      <td>-0.112862</td>\n",
       "      <td>0.331559</td>\n",
       "      <td>0.540427</td>\n",
       "      <td>-0.322265</td>\n",
       "      <td>0.102974</td>\n",
       "      <td>-0.350224</td>\n",
       "      <td>0.194567</td>\n",
       "      <td>0.570340</td>\n",
       "      <td>...</td>\n",
       "      <td>-0.012927</td>\n",
       "      <td>-0.524376</td>\n",
       "      <td>0.365522</td>\n",
       "      <td>0.220818</td>\n",
       "      <td>-0.029295</td>\n",
       "      <td>-0.006083</td>\n",
       "      <td>0.0</td>\n",
       "      <td>0</td>\n",
       "      <td>3f5df2d5-71fb-44e2-8f0b-9b0cc5164dcd</td>\n",
       "      <td>TEST</td>\n",
       "    </tr>\n",
       "  </tbody>\n",
       "</table>\n",
       "<p>5 rows × 33 columns</p>\n",
       "</div>"
      ],
      "text/plain": [
       "     Time        V1        V2        V3        V4        V5        V6  \\\n",
       "0   42525 -0.646143  0.736469  0.942179  1.475040  2.130779  4.972248   \n",
       "1   56319  0.792079  0.436581  1.358800  2.798437 -0.769028  0.087739   \n",
       "2  142598  2.210514  0.141203 -2.841177  0.254088  1.197321 -1.018585   \n",
       "3   39386 -1.092735  0.210722  2.937391  2.481408  0.379506  1.302458   \n",
       "4   50327  1.249514 -0.112862  0.331559  0.540427 -0.322265  0.102974   \n",
       "\n",
       "         V7        V8        V9  ...       V23       V24       V25       V26  \\\n",
       "0 -0.940231  0.500023 -0.272361  ... -0.224510  1.039882  0.027130  0.262897   \n",
       "1 -0.470308  0.298705  0.300321  ...  0.340340  0.312103 -1.132621 -0.162690   \n",
       "2  0.871035 -0.467864  0.079799  ... -0.220533  0.097614  0.758281  0.737860   \n",
       "3 -0.675156  0.711658 -0.471588  ... -0.341725 -0.264885  0.341552  0.402259   \n",
       "4 -0.350224  0.194567  0.570340  ... -0.012927 -0.524376  0.365522  0.220818   \n",
       "\n",
       "        V27       V28  Amount  Class                        transaction_id  \\\n",
       "0  0.232499  0.146983     0.0      0  3e132b2b-63c1-4aa6-9e40-f8f6788a12c7   \n",
       "1  0.008280 -0.111146     0.0      0  bb5bdb3c-a1c0-45b7-a6db-5580f95f1e29   \n",
       "2 -0.137577 -0.096846     0.0      0  eb4a161a-8e36-4aa0-9555-391249d2374b   \n",
       "3  0.100453  0.077091     0.0      0  758afcfb-757d-430c-a4a0-d26f05f7cd24   \n",
       "4 -0.029295 -0.006083     0.0      0  3f5df2d5-71fb-44e2-8f0b-9b0cc5164dcd   \n",
       "\n",
       "   splits  \n",
       "0    TEST  \n",
       "1    TEST  \n",
       "2    TEST  \n",
       "3    TEST  \n",
       "4    TEST  \n",
       "\n",
       "[5 rows x 33 columns]"
      ]
     },
     "execution_count": 16,
     "metadata": {},
     "output_type": "execute_result"
    }
   ],
   "source": [
    "data.head()"
   ]
  },
  {
   "cell_type": "markdown",
   "id": "82d575d1",
   "metadata": {},
   "source": [
    "---\n",
    "## Remove Resources\n",
    "see notebook \"99 - Cleanup\""
   ]
  }
 ],
 "metadata": {
  "environment": {
   "name": "tf2-gpu.2-3.m81",
   "type": "gcloud",
   "uri": "gcr.io/deeplearning-platform-release/tf2-gpu.2-3:m81"
  },
  "kernelspec": {
   "display_name": "Python 3",
   "language": "python",
   "name": "python3"
  },
  "language_info": {
   "codemirror_mode": {
    "name": "ipython",
    "version": 3
   },
   "file_extension": ".py",
   "mimetype": "text/x-python",
   "name": "python",
   "nbconvert_exporter": "python",
   "pygments_lexer": "ipython3",
   "version": "3.7.10"
  }
 },
 "nbformat": 4,
 "nbformat_minor": 5
}
