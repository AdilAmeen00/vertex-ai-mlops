{
 "cells": [
  {
   "cell_type": "markdown",
   "metadata": {},
   "source": [
    "# 04f - Vertex AI > Training > Custom Jobs - Forecasting with Prophet using Custom Container\n",
    "\n",
    "\n",
    "### Prerequisites:\n",
    "-  04 - Time Series Forecasting - Data Review in BigQuery\n",
    "\n",
    "### Overview:\n",
    "-  \n",
    "\n",
    "### Resources:\n",
    "-  "
   ]
  },
  {
   "cell_type": "markdown",
   "metadata": {},
   "source": [
    "---\n",
    "## Vertex AI - Conceptual Flow\n",
    "\n",
    "<img src=\"architectures/slides/04f_arch.png\">\n",
    "\n",
    "---\n",
    "## Vertex AI - Workflow\n",
    "\n",
    "<img src=\"architectures/slides/04f_console.png\">"
   ]
  },
  {
   "cell_type": "markdown",
   "id": "c8bcf1b2",
   "metadata": {},
   "source": [
    "---\n",
    "## Setup"
   ]
  },
  {
   "cell_type": "markdown",
   "id": "10e366e2",
   "metadata": {},
   "source": [
    "inputs:"
   ]
  },
  {
   "cell_type": "code",
   "execution_count": null,
   "id": "614de332",
   "metadata": {},
   "outputs": [],
   "source": [
    "PROJECT_ID='statmike-mlops'\n",
    "REGION = 'us-central1'\n",
    "DATANAME = 'citibikes'\n",
    "NOTEBOOK = '04f'"
   ]
  },
  {
   "cell_type": "markdown",
   "id": "a92f2936",
   "metadata": {},
   "source": [
    "packages:"
   ]
  },
  {
   "cell_type": "code",
   "execution_count": null,
   "id": "986e7804",
   "metadata": {},
   "outputs": [],
   "source": []
  },
  {
   "cell_type": "markdown",
   "id": "139d3707",
   "metadata": {},
   "source": [
    "clients:"
   ]
  },
  {
   "cell_type": "code",
   "execution_count": null,
   "id": "fdbc3411",
   "metadata": {},
   "outputs": [],
   "source": []
  },
  {
   "cell_type": "markdown",
   "id": "6f4052df",
   "metadata": {},
   "source": [
    "parameters:"
   ]
  },
  {
   "cell_type": "code",
   "execution_count": null,
   "id": "ddd94e3a",
   "metadata": {},
   "outputs": [],
   "source": []
  },
  {
   "cell_type": "markdown",
   "id": "de43acbc",
   "metadata": {},
   "source": [
    "environment:"
   ]
  },
  {
   "cell_type": "code",
   "execution_count": null,
   "id": "a92f3b28",
   "metadata": {},
   "outputs": [],
   "source": []
  }
 ],
 "metadata": {
  "language_info": {
   "name": "python"
  },
  "orig_nbformat": 4
 },
 "nbformat": 4,
 "nbformat_minor": 2
}
