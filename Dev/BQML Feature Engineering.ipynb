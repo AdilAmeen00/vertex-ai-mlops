{
 "cells": [
  {
   "cell_type": "markdown",
   "id": "320be11c-027a-4d79-b9a1-07c52414738f",
   "metadata": {},
   "source": [
    "![ga4](https://www.google-analytics.com/collect?v=2&tid=G-6VDTYWLKX6&cid=1&en=page_view&sid=1&dl=statmike%2Fvertex-ai-mlops%2FDev&dt=BQML+Feature+Engineering.ipynb)\n",
    "\n",
    "# BigQuery ML (BQML) - Advanced Feature Engineering\n",
    "\n",
    "This notebook will explore preparing data (preprocessing) for machine learning with BigQuery using functions that are part of BigQuery ML (BQML).  \n",
    "\n",
    "**BigQuery ML (BQML)**\n",
    "\n",
    "BigQuery Machine Learning allows you to use `SQL` to constuct an ML workflow.  This is a great leap in productivity and flexibility when the data source is BigQuery and users are already familiar with `SQL`. Using just `SQL` multiple techniques can be used for model training and even include hyperparameter tuning.  Predictions can be served directly in BigQuery which also include explainability. Models can be registered to Vertex AI model registry for online predictions on Vertex AI Endpoints.\n",
    "\n",
    "**If you know:**\n",
    "```SQL\n",
    "CREATE TABLE {table name}\n",
    "    AS\n",
    "        SELECT ...\n",
    "        FROM ...\n",
    "        WHERE ...\n",
    "```\n",
    "\n",
    "**Then you are ready to try:**\n",
    "```SQL\n",
    "CREATE MODEL {model name} \n",
    "    OPTIONS (\n",
    "        MODEL_TYPE = ...\n",
    "        {more options}\n",
    "    )\n",
    "    AS\n",
    "        SELECT ...\n",
    "        FROM ...\n",
    "        WHERE ...\n",
    "```\n",
    "\n",
    "**You can even use:**\n",
    "- ```SQL\n",
    "CREATE OR REPLACE MODEL {model name}...\n",
    "```\n",
    "- ```SQL\n",
    "CREATE MODEL IF NOT EXISTS {model name}...\n",
    "```\n",
    "\n",
    "**Functions for your ML Workflow**\n",
    "- Model Evaluation with `ML.EVALUTE`:\n",
    "    - ```SQL\n",
    "    SELECT *\n",
    "    FROM ML.EVALUTE(\n",
    "        MODEL {model name},\n",
    "        (\n",
    "            SELECT ...\n",
    "            FROM ...\n",
    "            WHERE ...),\n",
    "        STRUCT({optional parameters})\n",
    "    )\n",
    "    ```\n",
    "- Prediction Using Models with `ML.PREDICT`:\n",
    "    - ```SQL\n",
    "    SELECT *\n",
    "    FROM ML.PREDICT(\n",
    "        MODEL {model name},\n",
    "        (\n",
    "            SELECT ...\n",
    "            FROM ...\n",
    "            WHERE ...),\n",
    "        STRUCT({optional parameters})\n",
    "    )\n",
    "    ```\n",
    "    \n",
    "**Feature Engineering**\n",
    "\n",
    "Feature engineering, or preprocessing, is part of making data ready for machine learning.  BigQuery ML [manual feature preprocessing](https://cloud.google.com/bigquery-ml/docs/reference/standard-sql/bigqueryml-preprocessing-functions) functions are available to make this process simple within BigQuery.  \n",
    "\n",
    "Each `CREATE MODEL ...` statement will do [automatic feature preprocessing](https://cloud.google.com/bigquery-ml/docs/reference/standard-sql/bigqueryml-auto-preprocessing) by default.  It is also possible include manual feature preprocessing in the `CREATE MODEL ...` statement as a `TRANSFORM` clause where it will also become part of the model serving:\n",
    "\n",
    "```SQL\n",
    "CREATE MODEL {model name} AS\n",
    "    TRANSFORM (\n",
    "        ML.{function name}() OVER() as {name},\n",
    "        ...\n",
    "    )\n",
    "    OPTIONS (\n",
    "        MODEL_TYPE = ...\n",
    "        {more options}\n",
    "    )\n",
    "    AS\n",
    "        SELECT ...\n",
    "        FROM ...\n",
    "        WHERE ...\n",
    "```\n",
    "  \n",
    "---\n",
    "\n",
    "**Getting Started**\n",
    "<p align=\"center\" width=\"100%\">\n",
    "A great place to start exploring what model types are available and the functions to help create an ML workflow with each model type is this site:\n",
    "    <center>\n",
    "        <a href=\"https://cloud.google.com/bigquery-ml/docs/reference/standard-sql/bigqueryml-syntax-e2e-journey\">\n",
    "            <h1>End-to-end user journey for each model</h1>\n",
    "        </a>\n",
    "    </center>\n",
    "Another great resourse for getting started is the \"What is BigQuery ML?\" starting page which include a model selection guide.\n",
    "    <center>\n",
    "        <a href=\"https://cloud.google.com/bigquery-ml/docs/introduction\">\n",
    "        <h2>What is BigQuery ML?</h2>\n",
    "        </a>\n",
    "    </center>\n",
    "</p>\n",
    "\n",
    "---\n",
    "\n",
    "**Prerequisites:**\n",
    "\n",
    "None\n",
    "\n",
    "**Resources:**\n",
    "- [BigQuery ML (BQML) Overview](https://cloud.google.com/bigquery-ml/docs/introduction)\n",
    "- [Overview of BQML methods and workflows](https://cloud.google.com/bigquery-ml/docs/reference/standard-sql/bigqueryml-syntax-e2e-journey)\n",
    "- [BigQuery](https://cloud.google.com/bigquery)\n",
    "    - [Documentation:](https://cloud.google.com/bigquery/docs/query-overview)\n",
    "    - [API:](https://cloud.google.com/bigquery/docs/reference/libraries-overview)\n",
    "        - [Clients](https://cloud.google.com/bigquery/docs/reference/libraries)\n",
    "            - [Python SDK:](https://github.com/googleapis/python-bigquery)\n",
    "            - [Python Library Reference:](https://cloud.google.com/python/docs/reference/bigquery/latest)"
   ]
  },
  {
   "cell_type": "markdown",
   "id": "e17afa66-4bea-484e-aeba-835c6be7a393",
   "metadata": {},
   "source": [
    "---\n",
    "## Colab Setup\n",
    "\n",
    "To run this notebook in Colab click [![Open In Colab](https://colab.research.google.com/assets/colab-badge.svg)](https://colab.research.google.com/github/statmike/vertex-ai-mlops/blob/main/Dev/BQML%20Feature%20Engineering.ipynb) and run the cells in this section.  Otherwise, skip this section."
   ]
  },
  {
   "cell_type": "code",
   "execution_count": 1,
   "id": "5e1c27de-aba9-48ea-a99a-65f2818a7fc3",
   "metadata": {},
   "outputs": [],
   "source": [
    "try:\n",
    "    import google.colab\n",
    "    !pip install --upgrade witwidget -q\n",
    "    !pip install --upgrade google-cloud-aiplatform -q\n",
    "    !pip install --upgrade google-cloud-bigquery -q\n",
    "    !pip install --upgrade google-cloud-bigquery-storage -q\n",
    "    from google.colab import auth\n",
    "    auth.authenticate_user()\n",
    "except Exception:\n",
    "    pass"
   ]
  },
  {
   "cell_type": "code",
   "execution_count": 2,
   "id": "87192944-6c60-4973-9437-f7cad05917ae",
   "metadata": {},
   "outputs": [
    {
     "name": "stdout",
     "output_type": "stream",
     "text": [
      "Updated property [core/project].\n",
      "\n",
      "\n",
      "To take a quick anonymous survey, run:\n",
      "  $ gcloud survey\n",
      "\n"
     ]
    }
   ],
   "source": [
    "PROJECT_ID = 'statmike-mlops-349915' # replace with project ID\n",
    "!gcloud config set project {PROJECT_ID}"
   ]
  },
  {
   "cell_type": "markdown",
   "id": "b9472481-40b9-42b5-b312-70bbe7f4424c",
   "metadata": {},
   "source": [
    "---\n",
    "## Environment Setup"
   ]
  },
  {
   "cell_type": "markdown",
   "id": "9898fe14-2759-4725-8788-44d7172c623c",
   "metadata": {},
   "source": [
    "inputs:"
   ]
  },
  {
   "cell_type": "code",
   "execution_count": 1,
   "id": "10c2e0b7-31c4-43bb-a0f3-357f1147bb46",
   "metadata": {},
   "outputs": [
    {
     "data": {
      "text/plain": [
       "'statmike-mlops-349915'"
      ]
     },
     "execution_count": 1,
     "metadata": {},
     "output_type": "execute_result"
    }
   ],
   "source": [
    "project = !gcloud config get-value project\n",
    "PROJECT_ID = project[0]\n",
    "PROJECT_ID"
   ]
  },
  {
   "cell_type": "code",
   "execution_count": 2,
   "id": "93c9f9bb-77db-4874-b5b2-50ae62d305f3",
   "metadata": {},
   "outputs": [],
   "source": [
    "REGION = 'europe-west4'\n",
    "EXPERIMENT = 'feature_engineering'\n",
    "SERIES = '03'\n",
    "\n",
    "# source data\n",
    "BQ_PROJECT = PROJECT_ID\n",
    "BQ_DATASET = 'feature_engineering'\n",
    "BQ_TABLE = 'bread'\n",
    "\n",
    "# Resources for serving BigQuery Model Exports\n",
    "DEPLOY_COMPUTE = 'n1-standard-4'"
   ]
  },
  {
   "cell_type": "markdown",
   "id": "8a61432f-3879-4047-b60c-d6866e87a83b",
   "metadata": {},
   "source": [
    "packages:"
   ]
  },
  {
   "cell_type": "code",
   "execution_count": 3,
   "id": "46dd5f64-6633-45e8-a886-5dd3c2fb8437",
   "metadata": {},
   "outputs": [],
   "source": [
    "from google.cloud import aiplatform\n",
    "from google.cloud import bigquery\n",
    "\n",
    "from datetime import datetime\n",
    "import matplotlib.pyplot as plt\n",
    "from sklearn import metrics\n",
    "import numpy as np\n",
    "import json\n",
    "\n",
    "from google.protobuf import json_format\n",
    "from google.protobuf.struct_pb2 import Value"
   ]
  },
  {
   "cell_type": "markdown",
   "id": "c96caca5-9d6a-42b9-952e-3ba9c6076d56",
   "metadata": {},
   "source": [
    "clients:"
   ]
  },
  {
   "cell_type": "code",
   "execution_count": 4,
   "id": "8e845d29-f0bb-496b-bd9a-adb85e1a5b9f",
   "metadata": {},
   "outputs": [],
   "source": [
    "aiplatform.init(project=PROJECT_ID, location=REGION)\n",
    "bq = bigquery.Client(project=PROJECT_ID, location = 'EU')"
   ]
  },
  {
   "cell_type": "markdown",
   "id": "edd608d4-eded-4a26-b1cd-9bf82e570632",
   "metadata": {},
   "source": [
    "environment:"
   ]
  },
  {
   "cell_type": "code",
   "execution_count": 5,
   "id": "033c6f41-43c9-43c9-9b56-a60bbf15d9f1",
   "metadata": {},
   "outputs": [],
   "source": [
    "DIR = f\"temp/{EXPERIMENT}\"\n",
    "!rm -rf {DIR}\n",
    "!mkdir -p {DIR}"
   ]
  },
  {
   "cell_type": "markdown",
   "id": "f8942499-f17d-47bf-82d5-884a2cecc5b1",
   "metadata": {},
   "source": [
    "---\n",
    "## BigQuery Manual Feature Engineering\n",
    "\n",
    "BigQuery ML [manual feature preprocessing](https://cloud.google.com/bigquery-ml/docs/reference/standard-sql/bigqueryml-preprocessing-functions) functions are usefull for converting BigQuery columns to ML features.  BigQuery ML has included a set of these for manual preprocessing and they are individually reviewed here.\n",
    "\n",
    "These functions can be used directly in BigQuery SQL or withing the `TRANSFORM` clause of the `CREATE MODEL` statement.  Using these inside of the `TRANSFORM` clause means they will also be automatically applied during model serving.  \n",
    "\n",
    "**NOTE:** Some of the functions require using calculation across the column and make use of an empty `OVER()` clause.  See `ML.QUANTILE_BUCKETIZE`, `ML.MIN_MAX_SCALER`, `ML.STANDARD_SCALER` for examples. \n"
   ]
  },
  {
   "cell_type": "markdown",
   "id": "26d843c3-4914-4cce-8845-d3661b22042a",
   "metadata": {},
   "source": [
    "### ML.BUCKETIZE\n",
    "\n",
    "Given a column of numerical values this function creates a new column with bucketed values based on a list of boundaries given as input.\n",
    "- [Reference](https://cloud.google.com/bigquery-ml/docs/reference/standard-sql/bigqueryml-preprocessing-functions#bucketize)"
   ]
  },
  {
   "cell_type": "code",
   "execution_count": 6,
   "id": "7f774cfe-f3e0-4280-bbad-7d5543d33eb3",
   "metadata": {},
   "outputs": [
    {
     "name": "stdout",
     "output_type": "stream",
     "text": [
      "\n",
      "    SELECT\n",
      "        original_column,\n",
      "        ML.BUCKETIZE(original_column, [2, 5, 7]) AS bucketed_column\n",
      "    FROM\n",
      "        UNNEST([1, 2, 3, 4, 5, 6, 7, 8, 9, 10]) as original_column\n",
      "\n"
     ]
    }
   ],
   "source": [
    "query = f\"\"\"\n",
    "    SELECT\n",
    "        original_column,\n",
    "        ML.BUCKETIZE(original_column, [2, 5, 7]) AS bucketed_column\n",
    "    FROM\n",
    "        UNNEST([1, 2, 3, 4, 5, 6, 7, 8, 9, 10]) as original_column\n",
    "\"\"\"\n",
    "print(query)"
   ]
  },
  {
   "cell_type": "code",
   "execution_count": 7,
   "id": "a0dd85f9-04f9-4159-a41a-ca17b98d4930",
   "metadata": {},
   "outputs": [
    {
     "data": {
      "text/html": [
       "<div>\n",
       "<style scoped>\n",
       "    .dataframe tbody tr th:only-of-type {\n",
       "        vertical-align: middle;\n",
       "    }\n",
       "\n",
       "    .dataframe tbody tr th {\n",
       "        vertical-align: top;\n",
       "    }\n",
       "\n",
       "    .dataframe thead th {\n",
       "        text-align: right;\n",
       "    }\n",
       "</style>\n",
       "<table border=\"1\" class=\"dataframe\">\n",
       "  <thead>\n",
       "    <tr style=\"text-align: right;\">\n",
       "      <th></th>\n",
       "      <th>original_column</th>\n",
       "      <th>bucketed_column</th>\n",
       "    </tr>\n",
       "  </thead>\n",
       "  <tbody>\n",
       "    <tr>\n",
       "      <th>0</th>\n",
       "      <td>1</td>\n",
       "      <td>bin_1</td>\n",
       "    </tr>\n",
       "    <tr>\n",
       "      <th>1</th>\n",
       "      <td>2</td>\n",
       "      <td>bin_2</td>\n",
       "    </tr>\n",
       "    <tr>\n",
       "      <th>2</th>\n",
       "      <td>3</td>\n",
       "      <td>bin_2</td>\n",
       "    </tr>\n",
       "    <tr>\n",
       "      <th>3</th>\n",
       "      <td>4</td>\n",
       "      <td>bin_2</td>\n",
       "    </tr>\n",
       "    <tr>\n",
       "      <th>4</th>\n",
       "      <td>5</td>\n",
       "      <td>bin_3</td>\n",
       "    </tr>\n",
       "    <tr>\n",
       "      <th>5</th>\n",
       "      <td>6</td>\n",
       "      <td>bin_3</td>\n",
       "    </tr>\n",
       "    <tr>\n",
       "      <th>6</th>\n",
       "      <td>7</td>\n",
       "      <td>bin_4</td>\n",
       "    </tr>\n",
       "    <tr>\n",
       "      <th>7</th>\n",
       "      <td>8</td>\n",
       "      <td>bin_4</td>\n",
       "    </tr>\n",
       "    <tr>\n",
       "      <th>8</th>\n",
       "      <td>9</td>\n",
       "      <td>bin_4</td>\n",
       "    </tr>\n",
       "    <tr>\n",
       "      <th>9</th>\n",
       "      <td>10</td>\n",
       "      <td>bin_4</td>\n",
       "    </tr>\n",
       "  </tbody>\n",
       "</table>\n",
       "</div>"
      ],
      "text/plain": [
       "   original_column bucketed_column\n",
       "0                1           bin_1\n",
       "1                2           bin_2\n",
       "2                3           bin_2\n",
       "3                4           bin_2\n",
       "4                5           bin_3\n",
       "5                6           bin_3\n",
       "6                7           bin_4\n",
       "7                8           bin_4\n",
       "8                9           bin_4\n",
       "9               10           bin_4"
      ]
     },
     "execution_count": 7,
     "metadata": {},
     "output_type": "execute_result"
    }
   ],
   "source": [
    "df = bq.query(query = query).to_dataframe()\n",
    "df"
   ]
  },
  {
   "cell_type": "markdown",
   "id": "d0b7f2af-6eb1-48e6-8460-c5a2a7f9475e",
   "metadata": {},
   "source": [
    "### ML.POLYNOMIAL_EXPAND\n",
    "\n",
    "Given a STRUCT of numerical features this returns a STRUCT of polynomial combinations up to the degree passed-in (default = 2).\n",
    "- [Reference](https://cloud.google.com/bigquery-ml/docs/reference/standard-sql/bigqueryml-preprocessing-functions#mlpolynomial_expand)"
   ]
  },
  {
   "cell_type": "code",
   "execution_count": 8,
   "id": "74ba79b6-e4e6-42b6-bea2-0becff02929c",
   "metadata": {},
   "outputs": [
    {
     "name": "stdout",
     "output_type": "stream",
     "text": [
      "\n",
      "    SELECT\n",
      "        col_1, col_2,\n",
      "        ML.POLYNOMIAL_EXPAND(STRUCT(col_1, col_2)) AS combo_column\n",
      "    FROM\n",
      "        UNNEST([1, 2, 3, 4, 5, 6, 7, 8, 9, 10]) AS col_1 WITH OFFSET pos1,\n",
      "        UNNEST([1, 2, 3, 4, 5, 6, 7, 8, 9, 10]) AS col_2 WITH OFFSET pos2\n",
      "    WHERE\n",
      "        pos1 = pos2\n",
      "\n"
     ]
    }
   ],
   "source": [
    "query = f\"\"\"\n",
    "    SELECT\n",
    "        col_1, col_2,\n",
    "        ML.POLYNOMIAL_EXPAND(STRUCT(col_1, col_2)) AS combo_column\n",
    "    FROM\n",
    "        UNNEST([1, 2, 3, 4, 5, 6, 7, 8, 9, 10]) AS col_1 WITH OFFSET pos1,\n",
    "        UNNEST([1, 2, 3, 4, 5, 6, 7, 8, 9, 10]) AS col_2 WITH OFFSET pos2\n",
    "    WHERE\n",
    "        pos1 = pos2\n",
    "\"\"\"\n",
    "print(query)"
   ]
  },
  {
   "cell_type": "code",
   "execution_count": 9,
   "id": "f07a1944-a5c4-409e-82b1-e44eac59a40e",
   "metadata": {},
   "outputs": [
    {
     "data": {
      "text/html": [
       "<div>\n",
       "<style scoped>\n",
       "    .dataframe tbody tr th:only-of-type {\n",
       "        vertical-align: middle;\n",
       "    }\n",
       "\n",
       "    .dataframe tbody tr th {\n",
       "        vertical-align: top;\n",
       "    }\n",
       "\n",
       "    .dataframe thead th {\n",
       "        text-align: right;\n",
       "    }\n",
       "</style>\n",
       "<table border=\"1\" class=\"dataframe\">\n",
       "  <thead>\n",
       "    <tr style=\"text-align: right;\">\n",
       "      <th></th>\n",
       "      <th>col_1</th>\n",
       "      <th>col_2</th>\n",
       "      <th>combo_column</th>\n",
       "    </tr>\n",
       "  </thead>\n",
       "  <tbody>\n",
       "    <tr>\n",
       "      <th>0</th>\n",
       "      <td>1</td>\n",
       "      <td>1</td>\n",
       "      <td>{'col_1': 1.0, 'col_1_col_1': 1.0, 'col_1_col_...</td>\n",
       "    </tr>\n",
       "    <tr>\n",
       "      <th>1</th>\n",
       "      <td>2</td>\n",
       "      <td>2</td>\n",
       "      <td>{'col_1': 2.0, 'col_1_col_1': 4.0, 'col_1_col_...</td>\n",
       "    </tr>\n",
       "    <tr>\n",
       "      <th>2</th>\n",
       "      <td>3</td>\n",
       "      <td>3</td>\n",
       "      <td>{'col_1': 3.0, 'col_1_col_1': 9.0, 'col_1_col_...</td>\n",
       "    </tr>\n",
       "    <tr>\n",
       "      <th>3</th>\n",
       "      <td>4</td>\n",
       "      <td>4</td>\n",
       "      <td>{'col_1': 4.0, 'col_1_col_1': 16.0, 'col_1_col...</td>\n",
       "    </tr>\n",
       "    <tr>\n",
       "      <th>4</th>\n",
       "      <td>5</td>\n",
       "      <td>5</td>\n",
       "      <td>{'col_1': 5.0, 'col_1_col_1': 25.0, 'col_1_col...</td>\n",
       "    </tr>\n",
       "    <tr>\n",
       "      <th>5</th>\n",
       "      <td>6</td>\n",
       "      <td>6</td>\n",
       "      <td>{'col_1': 6.0, 'col_1_col_1': 36.0, 'col_1_col...</td>\n",
       "    </tr>\n",
       "    <tr>\n",
       "      <th>6</th>\n",
       "      <td>7</td>\n",
       "      <td>7</td>\n",
       "      <td>{'col_1': 7.0, 'col_1_col_1': 49.0, 'col_1_col...</td>\n",
       "    </tr>\n",
       "    <tr>\n",
       "      <th>7</th>\n",
       "      <td>8</td>\n",
       "      <td>8</td>\n",
       "      <td>{'col_1': 8.0, 'col_1_col_1': 64.0, 'col_1_col...</td>\n",
       "    </tr>\n",
       "    <tr>\n",
       "      <th>8</th>\n",
       "      <td>9</td>\n",
       "      <td>9</td>\n",
       "      <td>{'col_1': 9.0, 'col_1_col_1': 81.0, 'col_1_col...</td>\n",
       "    </tr>\n",
       "    <tr>\n",
       "      <th>9</th>\n",
       "      <td>10</td>\n",
       "      <td>10</td>\n",
       "      <td>{'col_1': 10.0, 'col_1_col_1': 100.0, 'col_1_c...</td>\n",
       "    </tr>\n",
       "  </tbody>\n",
       "</table>\n",
       "</div>"
      ],
      "text/plain": [
       "   col_1  col_2                                       combo_column\n",
       "0      1      1  {'col_1': 1.0, 'col_1_col_1': 1.0, 'col_1_col_...\n",
       "1      2      2  {'col_1': 2.0, 'col_1_col_1': 4.0, 'col_1_col_...\n",
       "2      3      3  {'col_1': 3.0, 'col_1_col_1': 9.0, 'col_1_col_...\n",
       "3      4      4  {'col_1': 4.0, 'col_1_col_1': 16.0, 'col_1_col...\n",
       "4      5      5  {'col_1': 5.0, 'col_1_col_1': 25.0, 'col_1_col...\n",
       "5      6      6  {'col_1': 6.0, 'col_1_col_1': 36.0, 'col_1_col...\n",
       "6      7      7  {'col_1': 7.0, 'col_1_col_1': 49.0, 'col_1_col...\n",
       "7      8      8  {'col_1': 8.0, 'col_1_col_1': 64.0, 'col_1_col...\n",
       "8      9      9  {'col_1': 9.0, 'col_1_col_1': 81.0, 'col_1_col...\n",
       "9     10     10  {'col_1': 10.0, 'col_1_col_1': 100.0, 'col_1_c..."
      ]
     },
     "execution_count": 9,
     "metadata": {},
     "output_type": "execute_result"
    }
   ],
   "source": [
    "df = bq.query(query = query).to_dataframe()\n",
    "df"
   ]
  },
  {
   "cell_type": "code",
   "execution_count": 10,
   "id": "f2811a56-a2c6-4943-a593-d50624e2f54c",
   "metadata": {},
   "outputs": [
    {
     "data": {
      "text/plain": [
       "{'col_1': 10.0,\n",
       " 'col_1_col_1': 100.0,\n",
       " 'col_1_col_2': 100.0,\n",
       " 'col_2': 10.0,\n",
       " 'col_2_col_2': 100.0}"
      ]
     },
     "execution_count": 10,
     "metadata": {},
     "output_type": "execute_result"
    }
   ],
   "source": [
    "df['combo_column'].iloc[-1]"
   ]
  },
  {
   "cell_type": "markdown",
   "id": "719210f5-96e3-474c-8fc3-e6e44d75d678",
   "metadata": {},
   "source": [
    "### ML.FEATURE_CROSS\n",
    "\n",
    "Given a STRUCT of categorial features this returns a STRUCT of all combinations up to the degree passed-in (default = 2).\n",
    "- [Reference](https://cloud.google.com/bigquery-ml/docs/reference/standard-sql/bigqueryml-preprocessing-functions#mlfeature_cross)"
   ]
  },
  {
   "cell_type": "code",
   "execution_count": 11,
   "id": "3a0e4408-5557-4410-8079-da8dec625ef4",
   "metadata": {},
   "outputs": [
    {
     "name": "stdout",
     "output_type": "stream",
     "text": [
      "\n",
      "    SELECT\n",
      "        col_1, col_2, col_3,\n",
      "        ML.FEATURE_CROSS(STRUCT(col_1, col_2, col_3)) AS combo_column\n",
      "    FROM\n",
      "        UNNEST(['a', 'b', 'c']) as col_1 WITH OFFSET pos1,\n",
      "        UNNEST(['A', 'B', 'C']) AS col_2 WITH OFFSET pos2,\n",
      "        UNNEST(['1', '2', '3']) AS col_3 WITH OFFSET pos3\n",
      "    WHERE\n",
      "        pos1 = pos2 AND pos2 = pos3\n",
      "\n"
     ]
    }
   ],
   "source": [
    "query = f\"\"\"\n",
    "    SELECT\n",
    "        col_1, col_2, col_3,\n",
    "        ML.FEATURE_CROSS(STRUCT(col_1, col_2, col_3)) AS combo_column\n",
    "    FROM\n",
    "        UNNEST(['a', 'b', 'c']) as col_1 WITH OFFSET pos1,\n",
    "        UNNEST(['A', 'B', 'C']) AS col_2 WITH OFFSET pos2,\n",
    "        UNNEST(['1', '2', '3']) AS col_3 WITH OFFSET pos3\n",
    "    WHERE\n",
    "        pos1 = pos2 AND pos2 = pos3\n",
    "\"\"\"\n",
    "print(query)"
   ]
  },
  {
   "cell_type": "code",
   "execution_count": 12,
   "id": "723b5274-37e6-4a51-a7f1-a6c80b3832cf",
   "metadata": {},
   "outputs": [
    {
     "data": {
      "text/html": [
       "<div>\n",
       "<style scoped>\n",
       "    .dataframe tbody tr th:only-of-type {\n",
       "        vertical-align: middle;\n",
       "    }\n",
       "\n",
       "    .dataframe tbody tr th {\n",
       "        vertical-align: top;\n",
       "    }\n",
       "\n",
       "    .dataframe thead th {\n",
       "        text-align: right;\n",
       "    }\n",
       "</style>\n",
       "<table border=\"1\" class=\"dataframe\">\n",
       "  <thead>\n",
       "    <tr style=\"text-align: right;\">\n",
       "      <th></th>\n",
       "      <th>col_1</th>\n",
       "      <th>col_2</th>\n",
       "      <th>col_3</th>\n",
       "      <th>combo_column</th>\n",
       "    </tr>\n",
       "  </thead>\n",
       "  <tbody>\n",
       "    <tr>\n",
       "      <th>0</th>\n",
       "      <td>a</td>\n",
       "      <td>A</td>\n",
       "      <td>1</td>\n",
       "      <td>{'col_1_col_2': 'a_A', 'col_1_col_3': 'a_1', '...</td>\n",
       "    </tr>\n",
       "    <tr>\n",
       "      <th>1</th>\n",
       "      <td>b</td>\n",
       "      <td>B</td>\n",
       "      <td>2</td>\n",
       "      <td>{'col_1_col_2': 'b_B', 'col_1_col_3': 'b_2', '...</td>\n",
       "    </tr>\n",
       "    <tr>\n",
       "      <th>2</th>\n",
       "      <td>c</td>\n",
       "      <td>C</td>\n",
       "      <td>3</td>\n",
       "      <td>{'col_1_col_2': 'c_C', 'col_1_col_3': 'c_3', '...</td>\n",
       "    </tr>\n",
       "  </tbody>\n",
       "</table>\n",
       "</div>"
      ],
      "text/plain": [
       "  col_1 col_2 col_3                                       combo_column\n",
       "0     a     A     1  {'col_1_col_2': 'a_A', 'col_1_col_3': 'a_1', '...\n",
       "1     b     B     2  {'col_1_col_2': 'b_B', 'col_1_col_3': 'b_2', '...\n",
       "2     c     C     3  {'col_1_col_2': 'c_C', 'col_1_col_3': 'c_3', '..."
      ]
     },
     "execution_count": 12,
     "metadata": {},
     "output_type": "execute_result"
    }
   ],
   "source": [
    "df = bq.query(query = query).to_dataframe()\n",
    "df"
   ]
  },
  {
   "cell_type": "code",
   "execution_count": 13,
   "id": "67f28780-393e-4fc9-af48-f1fea9b8f535",
   "metadata": {},
   "outputs": [
    {
     "data": {
      "text/plain": [
       "{'col_1_col_2': 'c_C', 'col_1_col_3': 'c_3', 'col_2_col_3': 'C_3'}"
      ]
     },
     "execution_count": 13,
     "metadata": {},
     "output_type": "execute_result"
    }
   ],
   "source": [
    "df['combo_column'].iloc[-1]"
   ]
  },
  {
   "cell_type": "markdown",
   "id": "d6a3da03-be5d-4729-b48a-07b4ed2debf2",
   "metadata": {},
   "source": [
    "### ML.NGRAMS\n",
    "\n",
    "Given an array of strings returns an array of merged inputs strings for the ranges provided.\n",
    "- [Reference](https://cloud.google.com/bigquery-ml/docs/reference/standard-sql/bigqueryml-preprocessing-functions#mlngrams)"
   ]
  },
  {
   "cell_type": "code",
   "execution_count": 14,
   "id": "9558897f-c9ae-4f15-a06c-6d16bc3f78db",
   "metadata": {},
   "outputs": [
    {
     "name": "stdout",
     "output_type": "stream",
     "text": [
      "\n",
      "    SELECT\n",
      "        original_column,\n",
      "        ML.NGRAMS(original_column, [2, 4]) AS ngram_column\n",
      "    FROM\n",
      "        (SELECT ['a', 'b', 'c', 'd'] as original_column)\n",
      "\n"
     ]
    }
   ],
   "source": [
    "query = f\"\"\"\n",
    "    SELECT\n",
    "        original_column,\n",
    "        ML.NGRAMS(original_column, [2, 4]) AS ngram_column\n",
    "    FROM\n",
    "        (SELECT ['a', 'b', 'c', 'd'] as original_column)\n",
    "\"\"\"\n",
    "print(query)"
   ]
  },
  {
   "cell_type": "code",
   "execution_count": 15,
   "id": "dfee0cad-f37d-4959-b7dd-55208c3dced1",
   "metadata": {},
   "outputs": [
    {
     "data": {
      "text/html": [
       "<div>\n",
       "<style scoped>\n",
       "    .dataframe tbody tr th:only-of-type {\n",
       "        vertical-align: middle;\n",
       "    }\n",
       "\n",
       "    .dataframe tbody tr th {\n",
       "        vertical-align: top;\n",
       "    }\n",
       "\n",
       "    .dataframe thead th {\n",
       "        text-align: right;\n",
       "    }\n",
       "</style>\n",
       "<table border=\"1\" class=\"dataframe\">\n",
       "  <thead>\n",
       "    <tr style=\"text-align: right;\">\n",
       "      <th></th>\n",
       "      <th>original_column</th>\n",
       "      <th>ngram_column</th>\n",
       "    </tr>\n",
       "  </thead>\n",
       "  <tbody>\n",
       "    <tr>\n",
       "      <th>0</th>\n",
       "      <td>[a, b, c, d]</td>\n",
       "      <td>[a b, a b c, a b c d, b c, b c d, c d]</td>\n",
       "    </tr>\n",
       "  </tbody>\n",
       "</table>\n",
       "</div>"
      ],
      "text/plain": [
       "  original_column                            ngram_column\n",
       "0    [a, b, c, d]  [a b, a b c, a b c d, b c, b c d, c d]"
      ]
     },
     "execution_count": 15,
     "metadata": {},
     "output_type": "execute_result"
    }
   ],
   "source": [
    "df = bq.query(query = query).to_dataframe()\n",
    "df"
   ]
  },
  {
   "cell_type": "code",
   "execution_count": 16,
   "id": "a8e898aa-dba4-4126-ac9a-792dced4a41f",
   "metadata": {},
   "outputs": [
    {
     "data": {
      "text/plain": [
       "original_column                              [a, b, c, d]\n",
       "ngram_column       [a b, a b c, a b c d, b c, b c d, c d]\n",
       "Name: 0, dtype: object"
      ]
     },
     "execution_count": 16,
     "metadata": {},
     "output_type": "execute_result"
    }
   ],
   "source": [
    "df.iloc[-1]"
   ]
  },
  {
   "cell_type": "markdown",
   "id": "dfc2d3c3-519f-4536-b475-a1250d6db091",
   "metadata": {},
   "source": [
    "### ML.QUANTILE_BUCKATIZE\n",
    "\n",
    "Given a column of numerical values this function creates a new column with bucketed values named with the value of the quantile based on the input number of buckets.\n",
    "- [Reference](https://cloud.google.com/bigquery-ml/docs/reference/standard-sql/bigqueryml-preprocessing-functions#quantile_bucketize)"
   ]
  },
  {
   "cell_type": "code",
   "execution_count": 17,
   "id": "7bd93b7c-2e3c-4cdf-8927-e7675a909ebc",
   "metadata": {},
   "outputs": [
    {
     "name": "stdout",
     "output_type": "stream",
     "text": [
      "\n",
      "    SELECT\n",
      "        original_column,\n",
      "        ML.QUANTILE_BUCKETIZE(original_column, 3) OVER() AS bucketed_column\n",
      "    FROM\n",
      "        UNNEST([1, 1, 1, 2, 2, 3, 3, 3]) as original_column\n",
      "    ORDER BY original_column\n",
      "\n"
     ]
    }
   ],
   "source": [
    "query = f\"\"\"\n",
    "    SELECT\n",
    "        original_column,\n",
    "        ML.QUANTILE_BUCKETIZE(original_column, 3) OVER() AS bucketed_column\n",
    "    FROM\n",
    "        UNNEST([1, 1, 1, 2, 2, 3, 3, 3]) as original_column\n",
    "    ORDER BY original_column\n",
    "\"\"\"\n",
    "print(query)"
   ]
  },
  {
   "cell_type": "code",
   "execution_count": 18,
   "id": "dc5d6ef7-cf69-4a5f-b3e9-52dacb54c0c7",
   "metadata": {},
   "outputs": [
    {
     "data": {
      "text/html": [
       "<div>\n",
       "<style scoped>\n",
       "    .dataframe tbody tr th:only-of-type {\n",
       "        vertical-align: middle;\n",
       "    }\n",
       "\n",
       "    .dataframe tbody tr th {\n",
       "        vertical-align: top;\n",
       "    }\n",
       "\n",
       "    .dataframe thead th {\n",
       "        text-align: right;\n",
       "    }\n",
       "</style>\n",
       "<table border=\"1\" class=\"dataframe\">\n",
       "  <thead>\n",
       "    <tr style=\"text-align: right;\">\n",
       "      <th></th>\n",
       "      <th>original_column</th>\n",
       "      <th>bucketed_column</th>\n",
       "    </tr>\n",
       "  </thead>\n",
       "  <tbody>\n",
       "    <tr>\n",
       "      <th>0</th>\n",
       "      <td>1</td>\n",
       "      <td>bin_1</td>\n",
       "    </tr>\n",
       "    <tr>\n",
       "      <th>1</th>\n",
       "      <td>1</td>\n",
       "      <td>bin_1</td>\n",
       "    </tr>\n",
       "    <tr>\n",
       "      <th>2</th>\n",
       "      <td>1</td>\n",
       "      <td>bin_1</td>\n",
       "    </tr>\n",
       "    <tr>\n",
       "      <th>3</th>\n",
       "      <td>2</td>\n",
       "      <td>bin_1</td>\n",
       "    </tr>\n",
       "    <tr>\n",
       "      <th>4</th>\n",
       "      <td>2</td>\n",
       "      <td>bin_1</td>\n",
       "    </tr>\n",
       "    <tr>\n",
       "      <th>5</th>\n",
       "      <td>3</td>\n",
       "      <td>bin_2</td>\n",
       "    </tr>\n",
       "    <tr>\n",
       "      <th>6</th>\n",
       "      <td>3</td>\n",
       "      <td>bin_2</td>\n",
       "    </tr>\n",
       "    <tr>\n",
       "      <th>7</th>\n",
       "      <td>3</td>\n",
       "      <td>bin_2</td>\n",
       "    </tr>\n",
       "  </tbody>\n",
       "</table>\n",
       "</div>"
      ],
      "text/plain": [
       "   original_column bucketed_column\n",
       "0                1           bin_1\n",
       "1                1           bin_1\n",
       "2                1           bin_1\n",
       "3                2           bin_1\n",
       "4                2           bin_1\n",
       "5                3           bin_2\n",
       "6                3           bin_2\n",
       "7                3           bin_2"
      ]
     },
     "execution_count": 18,
     "metadata": {},
     "output_type": "execute_result"
    }
   ],
   "source": [
    "df = bq.query(query = query).to_dataframe()\n",
    "df"
   ]
  },
  {
   "cell_type": "markdown",
   "id": "5ec75312-e315-47e5-bbad-ebca4b8cee39",
   "metadata": {},
   "source": [
    "### ML.HASH_BUCKATIZE\n",
    "\n",
    "Given a column of string values this function will hash the values as a new column.  If a bucket size > 0 provided it will take the mod of the hash: remainder of the hash divided by bucket size as the bucket number.\n",
    "- [Reference](https://cloud.google.com/bigquery-ml/docs/reference/standard-sql/bigqueryml-preprocessing-functions#hash_bucketize)"
   ]
  },
  {
   "cell_type": "code",
   "execution_count": 19,
   "id": "016c70d7-be6e-4235-8700-56a76365bdde",
   "metadata": {},
   "outputs": [
    {
     "name": "stdout",
     "output_type": "stream",
     "text": [
      "\n",
      "    SELECT\n",
      "        original_column,\n",
      "        ML.HASH_BUCKETIZE(original_column, 0) AS hash_column,\n",
      "        ML.HASH_BUCKETIZE(original_column, 3) AS bucketed_column\n",
      "    FROM\n",
      "        UNNEST(['a', 'b', 'c', 'd', 'e', 'f', 'g', 'h', 'i']) as original_column\n",
      "\n"
     ]
    }
   ],
   "source": [
    "query = f\"\"\"\n",
    "    SELECT\n",
    "        original_column,\n",
    "        ML.HASH_BUCKETIZE(original_column, 0) AS hash_column,\n",
    "        ML.HASH_BUCKETIZE(original_column, 3) AS bucketed_column\n",
    "    FROM\n",
    "        UNNEST(['a', 'b', 'c', 'd', 'e', 'f', 'g', 'h', 'i']) as original_column\n",
    "\"\"\"\n",
    "print(query)"
   ]
  },
  {
   "cell_type": "code",
   "execution_count": 20,
   "id": "524d1450-1cb6-4ce3-b4fd-010b0674755f",
   "metadata": {},
   "outputs": [
    {
     "data": {
      "text/html": [
       "<div>\n",
       "<style scoped>\n",
       "    .dataframe tbody tr th:only-of-type {\n",
       "        vertical-align: middle;\n",
       "    }\n",
       "\n",
       "    .dataframe tbody tr th {\n",
       "        vertical-align: top;\n",
       "    }\n",
       "\n",
       "    .dataframe thead th {\n",
       "        text-align: right;\n",
       "    }\n",
       "</style>\n",
       "<table border=\"1\" class=\"dataframe\">\n",
       "  <thead>\n",
       "    <tr style=\"text-align: right;\">\n",
       "      <th></th>\n",
       "      <th>original_column</th>\n",
       "      <th>hash_column</th>\n",
       "      <th>bucketed_column</th>\n",
       "    </tr>\n",
       "  </thead>\n",
       "  <tbody>\n",
       "    <tr>\n",
       "      <th>0</th>\n",
       "      <td>a</td>\n",
       "      <td>-5528939962900187677</td>\n",
       "      <td>0</td>\n",
       "    </tr>\n",
       "    <tr>\n",
       "      <th>1</th>\n",
       "      <td>b</td>\n",
       "      <td>-6651148003232386794</td>\n",
       "      <td>1</td>\n",
       "    </tr>\n",
       "    <tr>\n",
       "      <th>2</th>\n",
       "      <td>c</td>\n",
       "      <td>-7016299626566550744</td>\n",
       "      <td>1</td>\n",
       "    </tr>\n",
       "    <tr>\n",
       "      <th>3</th>\n",
       "      <td>d</td>\n",
       "      <td>4470636696479570465</td>\n",
       "      <td>2</td>\n",
       "    </tr>\n",
       "    <tr>\n",
       "      <th>4</th>\n",
       "      <td>e</td>\n",
       "      <td>-3078673838733201075</td>\n",
       "      <td>1</td>\n",
       "    </tr>\n",
       "    <tr>\n",
       "      <th>5</th>\n",
       "      <td>f</td>\n",
       "      <td>-1522288349254903624</td>\n",
       "      <td>0</td>\n",
       "    </tr>\n",
       "    <tr>\n",
       "      <th>6</th>\n",
       "      <td>g</td>\n",
       "      <td>4940667224093463419</td>\n",
       "      <td>2</td>\n",
       "    </tr>\n",
       "    <tr>\n",
       "      <th>7</th>\n",
       "      <td>h</td>\n",
       "      <td>-2585402310428948559</td>\n",
       "      <td>1</td>\n",
       "    </tr>\n",
       "    <tr>\n",
       "      <th>8</th>\n",
       "      <td>i</td>\n",
       "      <td>-9189916281559197516</td>\n",
       "      <td>1</td>\n",
       "    </tr>\n",
       "  </tbody>\n",
       "</table>\n",
       "</div>"
      ],
      "text/plain": [
       "  original_column          hash_column  bucketed_column\n",
       "0               a -5528939962900187677                0\n",
       "1               b -6651148003232386794                1\n",
       "2               c -7016299626566550744                1\n",
       "3               d  4470636696479570465                2\n",
       "4               e -3078673838733201075                1\n",
       "5               f -1522288349254903624                0\n",
       "6               g  4940667224093463419                2\n",
       "7               h -2585402310428948559                1\n",
       "8               i -9189916281559197516                1"
      ]
     },
     "execution_count": 20,
     "metadata": {},
     "output_type": "execute_result"
    }
   ],
   "source": [
    "df = bq.query(query = query).to_dataframe()\n",
    "df"
   ]
  },
  {
   "cell_type": "markdown",
   "id": "39dea489-84cc-455c-9380-98467dd859e3",
   "metadata": {},
   "source": [
    "### ML.MIN_MAX_SCALER\n",
    "\n",
    "Given a column of numerical value this function will scale the value to the range [0, 1] and cap data at either 0 or 1.  When used with the `TRANSFORM` statement of a `CREATE MODEL` this will also apply to `ML.PREDICT` and cap inputs to 0 or 1.\n",
    "- [Reference](https://cloud.google.com/bigquery-ml/docs/reference/standard-sql/bigqueryml-preprocessing-functions#mlmin_max_scaler)"
   ]
  },
  {
   "cell_type": "code",
   "execution_count": 21,
   "id": "841b75b5-abb2-4371-aa55-efabfdf14769",
   "metadata": {},
   "outputs": [
    {
     "name": "stdout",
     "output_type": "stream",
     "text": [
      "\n",
      "    SELECT\n",
      "        original_column,\n",
      "        ML.MIN_MAX_SCALER(original_column) OVER() AS scale_column\n",
      "    FROM\n",
      "        UNNEST([0, 1, 2, 3, 4, 5, 6, 7, 8, 9, 10]) as original_column\n",
      "    ORDER BY original_column\n",
      "\n"
     ]
    }
   ],
   "source": [
    "query = f\"\"\"\n",
    "    SELECT\n",
    "        original_column,\n",
    "        ML.MIN_MAX_SCALER(original_column) OVER() AS scale_column\n",
    "    FROM\n",
    "        UNNEST([0, 1, 2, 3, 4, 5, 6, 7, 8, 9, 10]) as original_column\n",
    "    ORDER BY original_column\n",
    "\"\"\"\n",
    "print(query)"
   ]
  },
  {
   "cell_type": "code",
   "execution_count": 22,
   "id": "f4bedad2-e0b9-4ff2-9d1f-f0b9e569a967",
   "metadata": {},
   "outputs": [
    {
     "data": {
      "text/html": [
       "<div>\n",
       "<style scoped>\n",
       "    .dataframe tbody tr th:only-of-type {\n",
       "        vertical-align: middle;\n",
       "    }\n",
       "\n",
       "    .dataframe tbody tr th {\n",
       "        vertical-align: top;\n",
       "    }\n",
       "\n",
       "    .dataframe thead th {\n",
       "        text-align: right;\n",
       "    }\n",
       "</style>\n",
       "<table border=\"1\" class=\"dataframe\">\n",
       "  <thead>\n",
       "    <tr style=\"text-align: right;\">\n",
       "      <th></th>\n",
       "      <th>original_column</th>\n",
       "      <th>scale_column</th>\n",
       "    </tr>\n",
       "  </thead>\n",
       "  <tbody>\n",
       "    <tr>\n",
       "      <th>0</th>\n",
       "      <td>0</td>\n",
       "      <td>0.0</td>\n",
       "    </tr>\n",
       "    <tr>\n",
       "      <th>1</th>\n",
       "      <td>1</td>\n",
       "      <td>0.1</td>\n",
       "    </tr>\n",
       "    <tr>\n",
       "      <th>2</th>\n",
       "      <td>2</td>\n",
       "      <td>0.2</td>\n",
       "    </tr>\n",
       "    <tr>\n",
       "      <th>3</th>\n",
       "      <td>3</td>\n",
       "      <td>0.3</td>\n",
       "    </tr>\n",
       "    <tr>\n",
       "      <th>4</th>\n",
       "      <td>4</td>\n",
       "      <td>0.4</td>\n",
       "    </tr>\n",
       "    <tr>\n",
       "      <th>5</th>\n",
       "      <td>5</td>\n",
       "      <td>0.5</td>\n",
       "    </tr>\n",
       "    <tr>\n",
       "      <th>6</th>\n",
       "      <td>6</td>\n",
       "      <td>0.6</td>\n",
       "    </tr>\n",
       "    <tr>\n",
       "      <th>7</th>\n",
       "      <td>7</td>\n",
       "      <td>0.7</td>\n",
       "    </tr>\n",
       "    <tr>\n",
       "      <th>8</th>\n",
       "      <td>8</td>\n",
       "      <td>0.8</td>\n",
       "    </tr>\n",
       "    <tr>\n",
       "      <th>9</th>\n",
       "      <td>9</td>\n",
       "      <td>0.9</td>\n",
       "    </tr>\n",
       "    <tr>\n",
       "      <th>10</th>\n",
       "      <td>10</td>\n",
       "      <td>1.0</td>\n",
       "    </tr>\n",
       "  </tbody>\n",
       "</table>\n",
       "</div>"
      ],
      "text/plain": [
       "    original_column  scale_column\n",
       "0                 0           0.0\n",
       "1                 1           0.1\n",
       "2                 2           0.2\n",
       "3                 3           0.3\n",
       "4                 4           0.4\n",
       "5                 5           0.5\n",
       "6                 6           0.6\n",
       "7                 7           0.7\n",
       "8                 8           0.8\n",
       "9                 9           0.9\n",
       "10               10           1.0"
      ]
     },
     "execution_count": 22,
     "metadata": {},
     "output_type": "execute_result"
    }
   ],
   "source": [
    "df = bq.query(query = query).to_dataframe()\n",
    "df"
   ]
  },
  {
   "cell_type": "markdown",
   "id": "63141a22-785d-45c0-9595-d5d31896f998",
   "metadata": {},
   "source": [
    "### ML.STANDARD_SCALER\n",
    "\n",
    "Given a column of numerical value this function will standardize the values by subtracting the `MEAN` and dividing by the `STDDEV`.  When used with the `TRANSFORM` statement of a `CREATE MODEL` this will also apply to `ML.PREDICT` and use the same values for `MEAN` and `STDDEV`.\n",
    "- [Reference](https://cloud.google.com/bigquery-ml/docs/reference/standard-sql/bigqueryml-preprocessing-functions#mlstandard_scaler)"
   ]
  },
  {
   "cell_type": "code",
   "execution_count": 23,
   "id": "d0d77c0f-92c7-4936-940a-80fdbbdc08b2",
   "metadata": {},
   "outputs": [
    {
     "name": "stdout",
     "output_type": "stream",
     "text": [
      "\n",
      "    SELECT\n",
      "        original_column,\n",
      "        ML.STANDARD_SCALER(original_column) OVER() AS scale_column\n",
      "    FROM\n",
      "        UNNEST([0, 1, 2, 3, 4, 5, 6, 7, 8, 9, 10]) as original_column\n",
      "    ORDER BY original_column\n",
      "\n"
     ]
    }
   ],
   "source": [
    "query = f\"\"\"\n",
    "    SELECT\n",
    "        original_column,\n",
    "        ML.STANDARD_SCALER(original_column) OVER() AS scale_column\n",
    "    FROM\n",
    "        UNNEST([0, 1, 2, 3, 4, 5, 6, 7, 8, 9, 10]) as original_column\n",
    "    ORDER BY original_column\n",
    "\"\"\"\n",
    "print(query)"
   ]
  },
  {
   "cell_type": "code",
   "execution_count": 24,
   "id": "c5d40f4c-2b28-48a9-abd6-fd11be7e623a",
   "metadata": {},
   "outputs": [
    {
     "data": {
      "text/html": [
       "<div>\n",
       "<style scoped>\n",
       "    .dataframe tbody tr th:only-of-type {\n",
       "        vertical-align: middle;\n",
       "    }\n",
       "\n",
       "    .dataframe tbody tr th {\n",
       "        vertical-align: top;\n",
       "    }\n",
       "\n",
       "    .dataframe thead th {\n",
       "        text-align: right;\n",
       "    }\n",
       "</style>\n",
       "<table border=\"1\" class=\"dataframe\">\n",
       "  <thead>\n",
       "    <tr style=\"text-align: right;\">\n",
       "      <th></th>\n",
       "      <th>original_column</th>\n",
       "      <th>scale_column</th>\n",
       "    </tr>\n",
       "  </thead>\n",
       "  <tbody>\n",
       "    <tr>\n",
       "      <th>0</th>\n",
       "      <td>0</td>\n",
       "      <td>-1.507557</td>\n",
       "    </tr>\n",
       "    <tr>\n",
       "      <th>1</th>\n",
       "      <td>1</td>\n",
       "      <td>-1.206045</td>\n",
       "    </tr>\n",
       "    <tr>\n",
       "      <th>2</th>\n",
       "      <td>2</td>\n",
       "      <td>-0.904534</td>\n",
       "    </tr>\n",
       "    <tr>\n",
       "      <th>3</th>\n",
       "      <td>3</td>\n",
       "      <td>-0.603023</td>\n",
       "    </tr>\n",
       "    <tr>\n",
       "      <th>4</th>\n",
       "      <td>4</td>\n",
       "      <td>-0.301511</td>\n",
       "    </tr>\n",
       "    <tr>\n",
       "      <th>5</th>\n",
       "      <td>5</td>\n",
       "      <td>0.000000</td>\n",
       "    </tr>\n",
       "    <tr>\n",
       "      <th>6</th>\n",
       "      <td>6</td>\n",
       "      <td>0.301511</td>\n",
       "    </tr>\n",
       "    <tr>\n",
       "      <th>7</th>\n",
       "      <td>7</td>\n",
       "      <td>0.603023</td>\n",
       "    </tr>\n",
       "    <tr>\n",
       "      <th>8</th>\n",
       "      <td>8</td>\n",
       "      <td>0.904534</td>\n",
       "    </tr>\n",
       "    <tr>\n",
       "      <th>9</th>\n",
       "      <td>9</td>\n",
       "      <td>1.206045</td>\n",
       "    </tr>\n",
       "    <tr>\n",
       "      <th>10</th>\n",
       "      <td>10</td>\n",
       "      <td>1.507557</td>\n",
       "    </tr>\n",
       "  </tbody>\n",
       "</table>\n",
       "</div>"
      ],
      "text/plain": [
       "    original_column  scale_column\n",
       "0                 0     -1.507557\n",
       "1                 1     -1.206045\n",
       "2                 2     -0.904534\n",
       "3                 3     -0.603023\n",
       "4                 4     -0.301511\n",
       "5                 5      0.000000\n",
       "6                 6      0.301511\n",
       "7                 7      0.603023\n",
       "8                 8      0.904534\n",
       "9                 9      1.206045\n",
       "10               10      1.507557"
      ]
     },
     "execution_count": 24,
     "metadata": {},
     "output_type": "execute_result"
    }
   ],
   "source": [
    "df = bq.query(query = query).to_dataframe()\n",
    "df"
   ]
  },
  {
   "cell_type": "markdown",
   "id": "22229960-d9c3-4628-8546-ae1029a55acc",
   "metadata": {},
   "source": [
    "---\n",
    "## BigQuery Advanced Feature Engineering\n",
    "\n",
    "Additional BigQuery ML (BQML) manual preprocessing functions for preprocessing data for ML.\n"
   ]
  },
  {
   "cell_type": "markdown",
   "id": "58691506-7b69-43ce-b33b-013a4f40c411",
   "metadata": {},
   "source": [
    "### ML.MAX_ABS_SCALER\n",
    "\n",
    "Given a column of numerical value this function will scale the value to the range [-1, 1] by dividing by the maximum absolute value.\n",
    "- Reference (coming soon)"
   ]
  },
  {
   "cell_type": "code",
   "execution_count": 25,
   "id": "f961e951-7957-4dc3-9ccc-944490fd049d",
   "metadata": {},
   "outputs": [
    {
     "name": "stdout",
     "output_type": "stream",
     "text": [
      "\n",
      "    SELECT\n",
      "        original_column,\n",
      "        ML.MAX_ABS_SCALER(original_column) OVER() AS scale_column\n",
      "    FROM\n",
      "        UNNEST([0, -1, 2, -3, 4, -5, 6, -7, 8, -9, 10]) as original_column\n",
      "    ORDER BY original_column\n",
      "\n"
     ]
    }
   ],
   "source": [
    "query = f\"\"\"\n",
    "    SELECT\n",
    "        original_column,\n",
    "        ML.MAX_ABS_SCALER(original_column) OVER() AS scale_column\n",
    "    FROM\n",
    "        UNNEST([0, -1, 2, -3, 4, -5, 6, -7, 8, -9, 10]) as original_column\n",
    "    ORDER BY original_column\n",
    "\"\"\"\n",
    "print(query)"
   ]
  },
  {
   "cell_type": "code",
   "execution_count": 26,
   "id": "98c276a6-a8ac-4516-bc3b-a8b8ace3fd37",
   "metadata": {},
   "outputs": [
    {
     "data": {
      "text/html": [
       "<div>\n",
       "<style scoped>\n",
       "    .dataframe tbody tr th:only-of-type {\n",
       "        vertical-align: middle;\n",
       "    }\n",
       "\n",
       "    .dataframe tbody tr th {\n",
       "        vertical-align: top;\n",
       "    }\n",
       "\n",
       "    .dataframe thead th {\n",
       "        text-align: right;\n",
       "    }\n",
       "</style>\n",
       "<table border=\"1\" class=\"dataframe\">\n",
       "  <thead>\n",
       "    <tr style=\"text-align: right;\">\n",
       "      <th></th>\n",
       "      <th>original_column</th>\n",
       "      <th>scale_column</th>\n",
       "    </tr>\n",
       "  </thead>\n",
       "  <tbody>\n",
       "    <tr>\n",
       "      <th>0</th>\n",
       "      <td>-9</td>\n",
       "      <td>-0.9</td>\n",
       "    </tr>\n",
       "    <tr>\n",
       "      <th>1</th>\n",
       "      <td>-7</td>\n",
       "      <td>-0.7</td>\n",
       "    </tr>\n",
       "    <tr>\n",
       "      <th>2</th>\n",
       "      <td>-5</td>\n",
       "      <td>-0.5</td>\n",
       "    </tr>\n",
       "    <tr>\n",
       "      <th>3</th>\n",
       "      <td>-3</td>\n",
       "      <td>-0.3</td>\n",
       "    </tr>\n",
       "    <tr>\n",
       "      <th>4</th>\n",
       "      <td>-1</td>\n",
       "      <td>-0.1</td>\n",
       "    </tr>\n",
       "    <tr>\n",
       "      <th>5</th>\n",
       "      <td>0</td>\n",
       "      <td>0.0</td>\n",
       "    </tr>\n",
       "    <tr>\n",
       "      <th>6</th>\n",
       "      <td>2</td>\n",
       "      <td>0.2</td>\n",
       "    </tr>\n",
       "    <tr>\n",
       "      <th>7</th>\n",
       "      <td>4</td>\n",
       "      <td>0.4</td>\n",
       "    </tr>\n",
       "    <tr>\n",
       "      <th>8</th>\n",
       "      <td>6</td>\n",
       "      <td>0.6</td>\n",
       "    </tr>\n",
       "    <tr>\n",
       "      <th>9</th>\n",
       "      <td>8</td>\n",
       "      <td>0.8</td>\n",
       "    </tr>\n",
       "    <tr>\n",
       "      <th>10</th>\n",
       "      <td>10</td>\n",
       "      <td>1.0</td>\n",
       "    </tr>\n",
       "  </tbody>\n",
       "</table>\n",
       "</div>"
      ],
      "text/plain": [
       "    original_column  scale_column\n",
       "0                -9          -0.9\n",
       "1                -7          -0.7\n",
       "2                -5          -0.5\n",
       "3                -3          -0.3\n",
       "4                -1          -0.1\n",
       "5                 0           0.0\n",
       "6                 2           0.2\n",
       "7                 4           0.4\n",
       "8                 6           0.6\n",
       "9                 8           0.8\n",
       "10               10           1.0"
      ]
     },
     "execution_count": 26,
     "metadata": {},
     "output_type": "execute_result"
    }
   ],
   "source": [
    "df = bq.query(query = query).to_dataframe()\n",
    "df"
   ]
  },
  {
   "cell_type": "markdown",
   "id": "c342876d-821f-4fe2-9218-f0e147b43507",
   "metadata": {},
   "source": [
    "### ML.ROBUST_SCALER\n",
    "\n",
    "Given a column of numerical value this function will scale the values to the quantile range: \n",
    "- Specify the quantile range with parameter `quantile_range` which has a default value of `[25, 75]`.\n",
    "- Centering the data by removing (subtracing) the median with the parameter `with_median` which has default value of `TRUE` the removes median before scaling.\n",
    "- Scale to the quantile range with parameter `with_quantile_range` which as a default value of `TRUE`.\n",
    "   \n",
    "   \n",
    "Reference (coming soon)"
   ]
  },
  {
   "cell_type": "code",
   "execution_count": 27,
   "id": "89687505-d910-4f5a-8be5-5161fddecc16",
   "metadata": {},
   "outputs": [
    {
     "name": "stdout",
     "output_type": "stream",
     "text": [
      "\n",
      "    SELECT\n",
      "        original_column,\n",
      "        ML.ROBUST_SCALER(original_column) OVER() AS scale_column,\n",
      "        ML.ROBUST_SCALER(original_column, [25, 75], FALSE, TRUE) OVER() AS scale_column2,\n",
      "        ML.ROBUST_SCALER(original_column, [25, 75], TRUE, FALSE) OVER() AS scale_column3\n",
      "    FROM\n",
      "        UNNEST([0, 25, 50, 75, 100]) as original_column\n",
      "    ORDER BY original_column\n",
      "\n"
     ]
    }
   ],
   "source": [
    "query = f\"\"\"\n",
    "    SELECT\n",
    "        original_column,\n",
    "        ML.ROBUST_SCALER(original_column) OVER() AS scale_column,\n",
    "        ML.ROBUST_SCALER(original_column, [25, 75], FALSE, TRUE) OVER() AS scale_column2,\n",
    "        ML.ROBUST_SCALER(original_column, [25, 75], TRUE, FALSE) OVER() AS scale_column3\n",
    "    FROM\n",
    "        UNNEST([0, 25, 50, 75, 100]) as original_column\n",
    "    ORDER BY original_column\n",
    "\"\"\"\n",
    "print(query)"
   ]
  },
  {
   "cell_type": "code",
   "execution_count": 28,
   "id": "4093f73e-f1e8-4f56-afa8-4fa685a3f470",
   "metadata": {},
   "outputs": [
    {
     "data": {
      "text/html": [
       "<div>\n",
       "<style scoped>\n",
       "    .dataframe tbody tr th:only-of-type {\n",
       "        vertical-align: middle;\n",
       "    }\n",
       "\n",
       "    .dataframe tbody tr th {\n",
       "        vertical-align: top;\n",
       "    }\n",
       "\n",
       "    .dataframe thead th {\n",
       "        text-align: right;\n",
       "    }\n",
       "</style>\n",
       "<table border=\"1\" class=\"dataframe\">\n",
       "  <thead>\n",
       "    <tr style=\"text-align: right;\">\n",
       "      <th></th>\n",
       "      <th>original_column</th>\n",
       "      <th>scale_column</th>\n",
       "      <th>scale_column2</th>\n",
       "      <th>scale_column3</th>\n",
       "    </tr>\n",
       "  </thead>\n",
       "  <tbody>\n",
       "    <tr>\n",
       "      <th>0</th>\n",
       "      <td>0</td>\n",
       "      <td>-1.0</td>\n",
       "      <td>0.0</td>\n",
       "      <td>-50.0</td>\n",
       "    </tr>\n",
       "    <tr>\n",
       "      <th>1</th>\n",
       "      <td>25</td>\n",
       "      <td>-0.5</td>\n",
       "      <td>0.5</td>\n",
       "      <td>-25.0</td>\n",
       "    </tr>\n",
       "    <tr>\n",
       "      <th>2</th>\n",
       "      <td>50</td>\n",
       "      <td>0.0</td>\n",
       "      <td>1.0</td>\n",
       "      <td>0.0</td>\n",
       "    </tr>\n",
       "    <tr>\n",
       "      <th>3</th>\n",
       "      <td>75</td>\n",
       "      <td>0.5</td>\n",
       "      <td>1.5</td>\n",
       "      <td>25.0</td>\n",
       "    </tr>\n",
       "    <tr>\n",
       "      <th>4</th>\n",
       "      <td>100</td>\n",
       "      <td>1.0</td>\n",
       "      <td>2.0</td>\n",
       "      <td>50.0</td>\n",
       "    </tr>\n",
       "  </tbody>\n",
       "</table>\n",
       "</div>"
      ],
      "text/plain": [
       "   original_column  scale_column  scale_column2  scale_column3\n",
       "0                0          -1.0            0.0          -50.0\n",
       "1               25          -0.5            0.5          -25.0\n",
       "2               50           0.0            1.0            0.0\n",
       "3               75           0.5            1.5           25.0\n",
       "4              100           1.0            2.0           50.0"
      ]
     },
     "execution_count": 28,
     "metadata": {},
     "output_type": "execute_result"
    }
   ],
   "source": [
    "df = bq.query(query = query).to_dataframe()\n",
    "df"
   ]
  },
  {
   "cell_type": "markdown",
   "id": "e0af0b67-c61a-479f-ac12-9812026a9580",
   "metadata": {},
   "source": [
    "### ML.NORMALIZER\n",
    "\n",
    "Given a column of numerical arrays this function will normalize the arrays to have unit norm with given p-norm (parameter `p` has default = 2 and takes values 0, +inf, >= 1.\n",
    "- Reference (coming soon)"
   ]
  },
  {
   "cell_type": "code",
   "execution_count": 29,
   "id": "4f46e5aa-bf72-4e84-8cc0-3dd62abb0d32",
   "metadata": {},
   "outputs": [
    {
     "name": "stdout",
     "output_type": "stream",
     "text": [
      "\n",
      "    SELECT\n",
      "        original_column,\n",
      "        ML.NORMALIZER(original_column) AS norm_2,\n",
      "        ML.NORMALIZER(original_column, 1) AS norm_1,\n",
      "        ML.NORMALIZER(original_column, 0) AS norm_0\n",
      "    FROM\n",
      "        (SELECT [1, 2, 3, 4, 5] as original_column)\n",
      "\n"
     ]
    }
   ],
   "source": [
    "query = f\"\"\"\n",
    "    SELECT\n",
    "        original_column,\n",
    "        ML.NORMALIZER(original_column) AS norm_2,\n",
    "        ML.NORMALIZER(original_column, 1) AS norm_1,\n",
    "        ML.NORMALIZER(original_column, 0) AS norm_0\n",
    "    FROM\n",
    "        (SELECT [1, 2, 3, 4, 5] as original_column)\n",
    "\"\"\"\n",
    "print(query)"
   ]
  },
  {
   "cell_type": "code",
   "execution_count": 30,
   "id": "d69c20f6-7612-4c70-9eb3-29e72faa0d01",
   "metadata": {},
   "outputs": [
    {
     "data": {
      "text/html": [
       "<div>\n",
       "<style scoped>\n",
       "    .dataframe tbody tr th:only-of-type {\n",
       "        vertical-align: middle;\n",
       "    }\n",
       "\n",
       "    .dataframe tbody tr th {\n",
       "        vertical-align: top;\n",
       "    }\n",
       "\n",
       "    .dataframe thead th {\n",
       "        text-align: right;\n",
       "    }\n",
       "</style>\n",
       "<table border=\"1\" class=\"dataframe\">\n",
       "  <thead>\n",
       "    <tr style=\"text-align: right;\">\n",
       "      <th></th>\n",
       "      <th>original_column</th>\n",
       "      <th>norm_2</th>\n",
       "      <th>norm_1</th>\n",
       "      <th>norm_0</th>\n",
       "    </tr>\n",
       "  </thead>\n",
       "  <tbody>\n",
       "    <tr>\n",
       "      <th>0</th>\n",
       "      <td>[1, 2, 3, 4, 5]</td>\n",
       "      <td>[0.13483997249264842, 0.26967994498529685, 0.4...</td>\n",
       "      <td>[0.06666666666666667, 0.13333333333333333, 0.2...</td>\n",
       "      <td>[0.2, 0.4, 0.6, 0.8, 1.0]</td>\n",
       "    </tr>\n",
       "  </tbody>\n",
       "</table>\n",
       "</div>"
      ],
      "text/plain": [
       "   original_column                                             norm_2  \\\n",
       "0  [1, 2, 3, 4, 5]  [0.13483997249264842, 0.26967994498529685, 0.4...   \n",
       "\n",
       "                                              norm_1  \\\n",
       "0  [0.06666666666666667, 0.13333333333333333, 0.2...   \n",
       "\n",
       "                      norm_0  \n",
       "0  [0.2, 0.4, 0.6, 0.8, 1.0]  "
      ]
     },
     "execution_count": 30,
     "metadata": {},
     "output_type": "execute_result"
    }
   ],
   "source": [
    "df = bq.query(query = query).to_dataframe()\n",
    "df"
   ]
  },
  {
   "cell_type": "code",
   "execution_count": 31,
   "id": "55ae1f17-c332-4825-ae84-9c2c8c1c1a5b",
   "metadata": {},
   "outputs": [
    {
     "data": {
      "text/plain": [
       "array([0.13483997, 0.26967994, 0.40451992, 0.53935989, 0.67419986])"
      ]
     },
     "execution_count": 31,
     "metadata": {},
     "output_type": "execute_result"
    }
   ],
   "source": [
    "df['norm_2'].iloc[-1]"
   ]
  },
  {
   "cell_type": "markdown",
   "id": "a0fd9f08-7bb1-4478-beff-0b01260fbfe5",
   "metadata": {},
   "source": [
    "### ML.IMPUTER\n",
    "\n",
    "Given a column, numerical or categorical (string), the function replaces `NULL` values with the value specified by the paramter `strategy`:\n",
    "- 'mean' uses the mean (only for numerical columns)\n",
    "- 'median' uses the median (only for numerical columns)\n",
    "- 'most_frequent' uses the mode\n",
    "\n",
    "Reference (coming soon)"
   ]
  },
  {
   "cell_type": "code",
   "execution_count": 32,
   "id": "d36ba039-db49-4c1c-b488-2faf01f89c35",
   "metadata": {},
   "outputs": [
    {
     "name": "stdout",
     "output_type": "stream",
     "text": [
      "\n",
      "    SELECT\n",
      "        num_column,\n",
      "        ML.IMPUTER(num_column, 'mean') OVER() AS num_imputed_mean,\n",
      "        ML.IMPUTER(num_column, 'median') OVER() AS num_imputed_median,\n",
      "        ML.IMPUTER(num_column, 'most_frequent') OVER() AS num_imputed_mode,\n",
      "        string_column,\n",
      "        ML.IMPUTER(string_column, 'most_frequent') OVER() AS string_imputed_mode,\n",
      "    FROM\n",
      "        UNNEST([1, 1, 2, 3, 4, 5, NULL]) AS num_column WITH OFFSET pos1,\n",
      "        UNNEST(['a', 'a', 'b', 'c', 'd', 'e', NULL]) AS string_column WITH OFFSET pos2\n",
      "    WHERE pos1 = pos2\n",
      "    ORDER BY num_column\n",
      "\n"
     ]
    }
   ],
   "source": [
    "query = f\"\"\"\n",
    "    SELECT\n",
    "        num_column,\n",
    "        ML.IMPUTER(num_column, 'mean') OVER() AS num_imputed_mean,\n",
    "        ML.IMPUTER(num_column, 'median') OVER() AS num_imputed_median,\n",
    "        ML.IMPUTER(num_column, 'most_frequent') OVER() AS num_imputed_mode,\n",
    "        string_column,\n",
    "        ML.IMPUTER(string_column, 'most_frequent') OVER() AS string_imputed_mode,\n",
    "    FROM\n",
    "        UNNEST([1, 1, 2, 3, 4, 5, NULL]) AS num_column WITH OFFSET pos1,\n",
    "        UNNEST(['a', 'a', 'b', 'c', 'd', 'e', NULL]) AS string_column WITH OFFSET pos2\n",
    "    WHERE pos1 = pos2\n",
    "    ORDER BY num_column\n",
    "\"\"\"\n",
    "print(query)"
   ]
  },
  {
   "cell_type": "code",
   "execution_count": 33,
   "id": "950b37f7-6db9-4c31-9989-16fb007bdcae",
   "metadata": {},
   "outputs": [
    {
     "data": {
      "text/html": [
       "<div>\n",
       "<style scoped>\n",
       "    .dataframe tbody tr th:only-of-type {\n",
       "        vertical-align: middle;\n",
       "    }\n",
       "\n",
       "    .dataframe tbody tr th {\n",
       "        vertical-align: top;\n",
       "    }\n",
       "\n",
       "    .dataframe thead th {\n",
       "        text-align: right;\n",
       "    }\n",
       "</style>\n",
       "<table border=\"1\" class=\"dataframe\">\n",
       "  <thead>\n",
       "    <tr style=\"text-align: right;\">\n",
       "      <th></th>\n",
       "      <th>num_column</th>\n",
       "      <th>num_imputed_mean</th>\n",
       "      <th>num_imputed_median</th>\n",
       "      <th>num_imputed_mode</th>\n",
       "      <th>string_column</th>\n",
       "      <th>string_imputed_mode</th>\n",
       "    </tr>\n",
       "  </thead>\n",
       "  <tbody>\n",
       "    <tr>\n",
       "      <th>0</th>\n",
       "      <td>NaN</td>\n",
       "      <td>2.666667</td>\n",
       "      <td>2.0</td>\n",
       "      <td>1.0</td>\n",
       "      <td>None</td>\n",
       "      <td>a</td>\n",
       "    </tr>\n",
       "    <tr>\n",
       "      <th>1</th>\n",
       "      <td>1.0</td>\n",
       "      <td>1.000000</td>\n",
       "      <td>1.0</td>\n",
       "      <td>1.0</td>\n",
       "      <td>a</td>\n",
       "      <td>a</td>\n",
       "    </tr>\n",
       "    <tr>\n",
       "      <th>2</th>\n",
       "      <td>1.0</td>\n",
       "      <td>1.000000</td>\n",
       "      <td>1.0</td>\n",
       "      <td>1.0</td>\n",
       "      <td>a</td>\n",
       "      <td>a</td>\n",
       "    </tr>\n",
       "    <tr>\n",
       "      <th>3</th>\n",
       "      <td>2.0</td>\n",
       "      <td>2.000000</td>\n",
       "      <td>2.0</td>\n",
       "      <td>2.0</td>\n",
       "      <td>b</td>\n",
       "      <td>b</td>\n",
       "    </tr>\n",
       "    <tr>\n",
       "      <th>4</th>\n",
       "      <td>3.0</td>\n",
       "      <td>3.000000</td>\n",
       "      <td>3.0</td>\n",
       "      <td>3.0</td>\n",
       "      <td>c</td>\n",
       "      <td>c</td>\n",
       "    </tr>\n",
       "    <tr>\n",
       "      <th>5</th>\n",
       "      <td>4.0</td>\n",
       "      <td>4.000000</td>\n",
       "      <td>4.0</td>\n",
       "      <td>4.0</td>\n",
       "      <td>d</td>\n",
       "      <td>d</td>\n",
       "    </tr>\n",
       "    <tr>\n",
       "      <th>6</th>\n",
       "      <td>5.0</td>\n",
       "      <td>5.000000</td>\n",
       "      <td>5.0</td>\n",
       "      <td>5.0</td>\n",
       "      <td>e</td>\n",
       "      <td>e</td>\n",
       "    </tr>\n",
       "  </tbody>\n",
       "</table>\n",
       "</div>"
      ],
      "text/plain": [
       "   num_column  num_imputed_mean  num_imputed_median  num_imputed_mode  \\\n",
       "0         NaN          2.666667                 2.0               1.0   \n",
       "1         1.0          1.000000                 1.0               1.0   \n",
       "2         1.0          1.000000                 1.0               1.0   \n",
       "3         2.0          2.000000                 2.0               2.0   \n",
       "4         3.0          3.000000                 3.0               3.0   \n",
       "5         4.0          4.000000                 4.0               4.0   \n",
       "6         5.0          5.000000                 5.0               5.0   \n",
       "\n",
       "  string_column string_imputed_mode  \n",
       "0          None                   a  \n",
       "1             a                   a  \n",
       "2             a                   a  \n",
       "3             b                   b  \n",
       "4             c                   c  \n",
       "5             d                   d  \n",
       "6             e                   e  "
      ]
     },
     "execution_count": 33,
     "metadata": {},
     "output_type": "execute_result"
    }
   ],
   "source": [
    "df = bq.query(query = query).to_dataframe()\n",
    "df"
   ]
  },
  {
   "cell_type": "markdown",
   "id": "6488f90b-82a6-4dea-ae92-768138eee81a",
   "metadata": {},
   "source": [
    "### ML.ONE_HOT_ENCODER\n",
    "\n",
    "Given a string column this function will one-hot encode the values in the column after sorting alphabetically.  Any `NULL` or dropped values will be encoded with `0`.\n",
    "- `drop` takes values 'most_frequent' for dummy encoding or 'none' (default)\n",
    "- `top_k` takes an integer value that specifies the limit on the number of categories to encode based on frequency (default is 1 million, also the max).\n",
    "- `frequency_threshold` takes an integer value that specifies that minimum frequency to be encoded (default = 0)\n",
    "\n",
    "Reference (coming soon)"
   ]
  },
  {
   "cell_type": "code",
   "execution_count": 34,
   "id": "95712145-ab1b-44e3-9e3f-d2b7cc5ddc4d",
   "metadata": {},
   "outputs": [
    {
     "name": "stdout",
     "output_type": "stream",
     "text": [
      "\n",
      "    SELECT\n",
      "        original_column,\n",
      "        ML.ONE_HOT_ENCODER(original_column) OVER() AS OHE_1,\n",
      "        ML.ONE_HOT_ENCODER(original_column, 'most_frequent') OVER() AS OHE_2,\n",
      "        ML.ONE_HOT_ENCODER(original_column, 'most_frequent', 3) OVER() AS OHE_3,\n",
      "        ML.ONE_HOT_ENCODER(original_column, 'most_frequent', 3, 3) OVER() AS OHE_4\n",
      "    FROM\n",
      "        UNNEST([NULL, 'a', 'b', 'b', 'c', 'c', 'c', 'd', 'd', 'd', 'd']) AS original_column\n",
      "    ORDER BY original_column\n",
      "\n"
     ]
    }
   ],
   "source": [
    "query = f\"\"\"\n",
    "    SELECT\n",
    "        original_column,\n",
    "        ML.ONE_HOT_ENCODER(original_column) OVER() AS OHE_1,\n",
    "        ML.ONE_HOT_ENCODER(original_column, 'most_frequent') OVER() AS OHE_2,\n",
    "        ML.ONE_HOT_ENCODER(original_column, 'most_frequent', 3) OVER() AS OHE_3,\n",
    "        ML.ONE_HOT_ENCODER(original_column, 'most_frequent', 3, 3) OVER() AS OHE_4\n",
    "    FROM\n",
    "        UNNEST([NULL, 'a', 'b', 'b', 'c', 'c', 'c', 'd', 'd', 'd', 'd']) AS original_column\n",
    "    ORDER BY original_column\n",
    "\"\"\"\n",
    "print(query)"
   ]
  },
  {
   "cell_type": "code",
   "execution_count": 35,
   "id": "505e8594-0f92-4d2e-b89c-ccfa81c246d2",
   "metadata": {},
   "outputs": [
    {
     "data": {
      "text/html": [
       "<div>\n",
       "<style scoped>\n",
       "    .dataframe tbody tr th:only-of-type {\n",
       "        vertical-align: middle;\n",
       "    }\n",
       "\n",
       "    .dataframe tbody tr th {\n",
       "        vertical-align: top;\n",
       "    }\n",
       "\n",
       "    .dataframe thead th {\n",
       "        text-align: right;\n",
       "    }\n",
       "</style>\n",
       "<table border=\"1\" class=\"dataframe\">\n",
       "  <thead>\n",
       "    <tr style=\"text-align: right;\">\n",
       "      <th></th>\n",
       "      <th>original_column</th>\n",
       "      <th>OHE_1</th>\n",
       "      <th>OHE_2</th>\n",
       "      <th>OHE_3</th>\n",
       "      <th>OHE_4</th>\n",
       "    </tr>\n",
       "  </thead>\n",
       "  <tbody>\n",
       "    <tr>\n",
       "      <th>0</th>\n",
       "      <td>None</td>\n",
       "      <td>[{'index': 0, 'value': 1.0}]</td>\n",
       "      <td>[{'index': 0, 'value': 1.0}]</td>\n",
       "      <td>[{'index': 0, 'value': 1.0}]</td>\n",
       "      <td>[{'index': 0, 'value': 1.0}]</td>\n",
       "    </tr>\n",
       "    <tr>\n",
       "      <th>1</th>\n",
       "      <td>a</td>\n",
       "      <td>[{'index': 1, 'value': 1.0}]</td>\n",
       "      <td>[{'index': 1, 'value': 1.0}]</td>\n",
       "      <td>[{'index': 0, 'value': 1.0}]</td>\n",
       "      <td>[{'index': 0, 'value': 1.0}]</td>\n",
       "    </tr>\n",
       "    <tr>\n",
       "      <th>2</th>\n",
       "      <td>b</td>\n",
       "      <td>[{'index': 2, 'value': 1.0}]</td>\n",
       "      <td>[{'index': 2, 'value': 1.0}]</td>\n",
       "      <td>[{'index': 1, 'value': 1.0}]</td>\n",
       "      <td>[{'index': 0, 'value': 1.0}]</td>\n",
       "    </tr>\n",
       "    <tr>\n",
       "      <th>3</th>\n",
       "      <td>b</td>\n",
       "      <td>[{'index': 2, 'value': 1.0}]</td>\n",
       "      <td>[{'index': 2, 'value': 1.0}]</td>\n",
       "      <td>[{'index': 1, 'value': 1.0}]</td>\n",
       "      <td>[{'index': 0, 'value': 1.0}]</td>\n",
       "    </tr>\n",
       "    <tr>\n",
       "      <th>4</th>\n",
       "      <td>c</td>\n",
       "      <td>[{'index': 3, 'value': 1.0}]</td>\n",
       "      <td>[{'index': 3, 'value': 1.0}]</td>\n",
       "      <td>[{'index': 2, 'value': 1.0}]</td>\n",
       "      <td>[{'index': 1, 'value': 1.0}]</td>\n",
       "    </tr>\n",
       "    <tr>\n",
       "      <th>5</th>\n",
       "      <td>c</td>\n",
       "      <td>[{'index': 3, 'value': 1.0}]</td>\n",
       "      <td>[{'index': 3, 'value': 1.0}]</td>\n",
       "      <td>[{'index': 2, 'value': 1.0}]</td>\n",
       "      <td>[{'index': 1, 'value': 1.0}]</td>\n",
       "    </tr>\n",
       "    <tr>\n",
       "      <th>6</th>\n",
       "      <td>c</td>\n",
       "      <td>[{'index': 3, 'value': 1.0}]</td>\n",
       "      <td>[{'index': 3, 'value': 1.0}]</td>\n",
       "      <td>[{'index': 2, 'value': 1.0}]</td>\n",
       "      <td>[{'index': 1, 'value': 1.0}]</td>\n",
       "    </tr>\n",
       "    <tr>\n",
       "      <th>7</th>\n",
       "      <td>d</td>\n",
       "      <td>[{'index': 4, 'value': 1.0}]</td>\n",
       "      <td>[{'index': 4, 'value': 0.0}]</td>\n",
       "      <td>[{'index': 3, 'value': 0.0}]</td>\n",
       "      <td>[{'index': 2, 'value': 0.0}]</td>\n",
       "    </tr>\n",
       "    <tr>\n",
       "      <th>8</th>\n",
       "      <td>d</td>\n",
       "      <td>[{'index': 4, 'value': 1.0}]</td>\n",
       "      <td>[{'index': 4, 'value': 0.0}]</td>\n",
       "      <td>[{'index': 3, 'value': 0.0}]</td>\n",
       "      <td>[{'index': 2, 'value': 0.0}]</td>\n",
       "    </tr>\n",
       "    <tr>\n",
       "      <th>9</th>\n",
       "      <td>d</td>\n",
       "      <td>[{'index': 4, 'value': 1.0}]</td>\n",
       "      <td>[{'index': 4, 'value': 0.0}]</td>\n",
       "      <td>[{'index': 3, 'value': 0.0}]</td>\n",
       "      <td>[{'index': 2, 'value': 0.0}]</td>\n",
       "    </tr>\n",
       "    <tr>\n",
       "      <th>10</th>\n",
       "      <td>d</td>\n",
       "      <td>[{'index': 4, 'value': 1.0}]</td>\n",
       "      <td>[{'index': 4, 'value': 0.0}]</td>\n",
       "      <td>[{'index': 3, 'value': 0.0}]</td>\n",
       "      <td>[{'index': 2, 'value': 0.0}]</td>\n",
       "    </tr>\n",
       "  </tbody>\n",
       "</table>\n",
       "</div>"
      ],
      "text/plain": [
       "   original_column                         OHE_1  \\\n",
       "0             None  [{'index': 0, 'value': 1.0}]   \n",
       "1                a  [{'index': 1, 'value': 1.0}]   \n",
       "2                b  [{'index': 2, 'value': 1.0}]   \n",
       "3                b  [{'index': 2, 'value': 1.0}]   \n",
       "4                c  [{'index': 3, 'value': 1.0}]   \n",
       "5                c  [{'index': 3, 'value': 1.0}]   \n",
       "6                c  [{'index': 3, 'value': 1.0}]   \n",
       "7                d  [{'index': 4, 'value': 1.0}]   \n",
       "8                d  [{'index': 4, 'value': 1.0}]   \n",
       "9                d  [{'index': 4, 'value': 1.0}]   \n",
       "10               d  [{'index': 4, 'value': 1.0}]   \n",
       "\n",
       "                           OHE_2                         OHE_3  \\\n",
       "0   [{'index': 0, 'value': 1.0}]  [{'index': 0, 'value': 1.0}]   \n",
       "1   [{'index': 1, 'value': 1.0}]  [{'index': 0, 'value': 1.0}]   \n",
       "2   [{'index': 2, 'value': 1.0}]  [{'index': 1, 'value': 1.0}]   \n",
       "3   [{'index': 2, 'value': 1.0}]  [{'index': 1, 'value': 1.0}]   \n",
       "4   [{'index': 3, 'value': 1.0}]  [{'index': 2, 'value': 1.0}]   \n",
       "5   [{'index': 3, 'value': 1.0}]  [{'index': 2, 'value': 1.0}]   \n",
       "6   [{'index': 3, 'value': 1.0}]  [{'index': 2, 'value': 1.0}]   \n",
       "7   [{'index': 4, 'value': 0.0}]  [{'index': 3, 'value': 0.0}]   \n",
       "8   [{'index': 4, 'value': 0.0}]  [{'index': 3, 'value': 0.0}]   \n",
       "9   [{'index': 4, 'value': 0.0}]  [{'index': 3, 'value': 0.0}]   \n",
       "10  [{'index': 4, 'value': 0.0}]  [{'index': 3, 'value': 0.0}]   \n",
       "\n",
       "                           OHE_4  \n",
       "0   [{'index': 0, 'value': 1.0}]  \n",
       "1   [{'index': 0, 'value': 1.0}]  \n",
       "2   [{'index': 0, 'value': 1.0}]  \n",
       "3   [{'index': 0, 'value': 1.0}]  \n",
       "4   [{'index': 1, 'value': 1.0}]  \n",
       "5   [{'index': 1, 'value': 1.0}]  \n",
       "6   [{'index': 1, 'value': 1.0}]  \n",
       "7   [{'index': 2, 'value': 0.0}]  \n",
       "8   [{'index': 2, 'value': 0.0}]  \n",
       "9   [{'index': 2, 'value': 0.0}]  \n",
       "10  [{'index': 2, 'value': 0.0}]  "
      ]
     },
     "execution_count": 35,
     "metadata": {},
     "output_type": "execute_result"
    }
   ],
   "source": [
    "df = bq.query(query = query).to_dataframe()\n",
    "df"
   ]
  },
  {
   "cell_type": "markdown",
   "id": "6f0a4032-6396-465f-9a2d-69d8e4317263",
   "metadata": {},
   "source": [
    "### ML.LABEL_ENCODER\n",
    "\n",
    "Given a string column the function will encode the value as integers [0, n] representing categories.  Any `NULL` or removed values will be encoded with `0`.\n",
    "- `top_k` takes an integer value that specifies the limit on the number of categories to encode based on frequency (default is 1 milion, also the max)\n",
    "- `frequency_threshold` takes an integer value that specifies that minimum frequency to be encoded (default = 0)\n",
    "\n",
    "Reference (coming soon)"
   ]
  },
  {
   "cell_type": "code",
   "execution_count": 36,
   "id": "2cc0b9c3-4016-4f5c-bd7c-ac5f07611f6f",
   "metadata": {},
   "outputs": [
    {
     "name": "stdout",
     "output_type": "stream",
     "text": [
      "\n",
      "    SELECT\n",
      "        original_column,\n",
      "        ML.LABEL_ENCODER(original_column) OVER() AS OHE_1,\n",
      "        ML.LABEL_ENCODER(original_column, 3) OVER() AS OHE_3,\n",
      "        ML.LABEL_ENCODER(original_column, 3, 3) OVER() AS OHE_4\n",
      "    FROM\n",
      "        UNNEST([NULL, 'a', 'b', 'b', 'c', 'c', 'c', 'd', 'd', 'd', 'd']) AS original_column\n",
      "    ORDER BY original_column\n",
      "\n"
     ]
    }
   ],
   "source": [
    "query = f\"\"\"\n",
    "    SELECT\n",
    "        original_column,\n",
    "        ML.LABEL_ENCODER(original_column) OVER() AS OHE_1,\n",
    "        ML.LABEL_ENCODER(original_column, 3) OVER() AS OHE_3,\n",
    "        ML.LABEL_ENCODER(original_column, 3, 3) OVER() AS OHE_4\n",
    "    FROM\n",
    "        UNNEST([NULL, 'a', 'b', 'b', 'c', 'c', 'c', 'd', 'd', 'd', 'd']) AS original_column\n",
    "    ORDER BY original_column\n",
    "\"\"\"\n",
    "print(query)"
   ]
  },
  {
   "cell_type": "code",
   "execution_count": 37,
   "id": "5dc9b855-91da-4642-8669-dfd626aae391",
   "metadata": {},
   "outputs": [
    {
     "data": {
      "text/html": [
       "<div>\n",
       "<style scoped>\n",
       "    .dataframe tbody tr th:only-of-type {\n",
       "        vertical-align: middle;\n",
       "    }\n",
       "\n",
       "    .dataframe tbody tr th {\n",
       "        vertical-align: top;\n",
       "    }\n",
       "\n",
       "    .dataframe thead th {\n",
       "        text-align: right;\n",
       "    }\n",
       "</style>\n",
       "<table border=\"1\" class=\"dataframe\">\n",
       "  <thead>\n",
       "    <tr style=\"text-align: right;\">\n",
       "      <th></th>\n",
       "      <th>original_column</th>\n",
       "      <th>OHE_1</th>\n",
       "      <th>OHE_3</th>\n",
       "      <th>OHE_4</th>\n",
       "    </tr>\n",
       "  </thead>\n",
       "  <tbody>\n",
       "    <tr>\n",
       "      <th>0</th>\n",
       "      <td>None</td>\n",
       "      <td>0</td>\n",
       "      <td>0</td>\n",
       "      <td>0</td>\n",
       "    </tr>\n",
       "    <tr>\n",
       "      <th>1</th>\n",
       "      <td>a</td>\n",
       "      <td>1</td>\n",
       "      <td>0</td>\n",
       "      <td>0</td>\n",
       "    </tr>\n",
       "    <tr>\n",
       "      <th>2</th>\n",
       "      <td>b</td>\n",
       "      <td>2</td>\n",
       "      <td>1</td>\n",
       "      <td>0</td>\n",
       "    </tr>\n",
       "    <tr>\n",
       "      <th>3</th>\n",
       "      <td>b</td>\n",
       "      <td>2</td>\n",
       "      <td>1</td>\n",
       "      <td>0</td>\n",
       "    </tr>\n",
       "    <tr>\n",
       "      <th>4</th>\n",
       "      <td>c</td>\n",
       "      <td>3</td>\n",
       "      <td>2</td>\n",
       "      <td>1</td>\n",
       "    </tr>\n",
       "    <tr>\n",
       "      <th>5</th>\n",
       "      <td>c</td>\n",
       "      <td>3</td>\n",
       "      <td>2</td>\n",
       "      <td>1</td>\n",
       "    </tr>\n",
       "    <tr>\n",
       "      <th>6</th>\n",
       "      <td>c</td>\n",
       "      <td>3</td>\n",
       "      <td>2</td>\n",
       "      <td>1</td>\n",
       "    </tr>\n",
       "    <tr>\n",
       "      <th>7</th>\n",
       "      <td>d</td>\n",
       "      <td>4</td>\n",
       "      <td>3</td>\n",
       "      <td>2</td>\n",
       "    </tr>\n",
       "    <tr>\n",
       "      <th>8</th>\n",
       "      <td>d</td>\n",
       "      <td>4</td>\n",
       "      <td>3</td>\n",
       "      <td>2</td>\n",
       "    </tr>\n",
       "    <tr>\n",
       "      <th>9</th>\n",
       "      <td>d</td>\n",
       "      <td>4</td>\n",
       "      <td>3</td>\n",
       "      <td>2</td>\n",
       "    </tr>\n",
       "    <tr>\n",
       "      <th>10</th>\n",
       "      <td>d</td>\n",
       "      <td>4</td>\n",
       "      <td>3</td>\n",
       "      <td>2</td>\n",
       "    </tr>\n",
       "  </tbody>\n",
       "</table>\n",
       "</div>"
      ],
      "text/plain": [
       "   original_column  OHE_1  OHE_3  OHE_4\n",
       "0             None      0      0      0\n",
       "1                a      1      0      0\n",
       "2                b      2      1      0\n",
       "3                b      2      1      0\n",
       "4                c      3      2      1\n",
       "5                c      3      2      1\n",
       "6                c      3      2      1\n",
       "7                d      4      3      2\n",
       "8                d      4      3      2\n",
       "9                d      4      3      2\n",
       "10               d      4      3      2"
      ]
     },
     "execution_count": 37,
     "metadata": {},
     "output_type": "execute_result"
    }
   ],
   "source": [
    "df = bq.query(query = query).to_dataframe()\n",
    "df"
   ]
  },
  {
   "cell_type": "markdown",
   "id": "797d7c6b-d406-4b2f-b513-b7b245b24313",
   "metadata": {},
   "source": [
    "## Advanced Usage of Manual Feature Engineering\n",
    "\n",
    "There may be situations where multiple feature preprocessing functions are needed.  Here is an example of using `ML.IMPUTER` with `ML.POLYNOMIAL_EXPAND` for example.\n",
    "\n",
    "**NOTE:** A analytic function (has `OVER ()`)cannot be an argument of another analytic function, however, scaler function can be arguments.\n",
    "\n",
    "This Example Compounds:\n",
    "- `CAST` the string values to `FLOAT64`\n",
    "- imputes missing values for the column with `ML.IMPUTER`\n",
    "- uses `ML.POLYNOMIAL_EXPAND` to create higher order terms from the imputed column"
   ]
  },
  {
   "cell_type": "code",
   "execution_count": 41,
   "id": "f6d333b0-dd81-4d6c-a858-4fff553931d2",
   "metadata": {},
   "outputs": [
    {
     "name": "stdout",
     "output_type": "stream",
     "text": [
      "\n",
      "SELECT\n",
      "    original_column,\n",
      "    ML.POLYNOMIAL_EXPAND(\n",
      "        STRUCT(\n",
      "            ML.IMPUTER(\n",
      "                CAST(original_column AS FLOAT64),\n",
      "                'mean'\n",
      "            ) OVER() AS num_imputed_mean\n",
      "        ),\n",
      "        2\n",
      "    ) AS imputed_expanded\n",
      "FROM\n",
      "    UNNEST(['1', '1', '2', '3', '4', '5', NULL]) AS original_column\n",
      "\n"
     ]
    }
   ],
   "source": [
    "query = f\"\"\"\n",
    "SELECT\n",
    "    original_column,\n",
    "    ML.POLYNOMIAL_EXPAND(\n",
    "        STRUCT(\n",
    "            ML.IMPUTER(\n",
    "                CAST(original_column AS FLOAT64),\n",
    "                'mean'\n",
    "            ) OVER() AS num_imputed_mean\n",
    "        ),\n",
    "        2\n",
    "    ) AS imputed_expanded\n",
    "FROM\n",
    "    UNNEST(['1', '1', '2', '3', '4', '5', NULL]) AS original_column\n",
    "\"\"\"\n",
    "print(query)"
   ]
  },
  {
   "cell_type": "code",
   "execution_count": 42,
   "id": "b32f5293-fc54-4e69-976a-f11b56e60a99",
   "metadata": {},
   "outputs": [
    {
     "data": {
      "text/html": [
       "<div>\n",
       "<style scoped>\n",
       "    .dataframe tbody tr th:only-of-type {\n",
       "        vertical-align: middle;\n",
       "    }\n",
       "\n",
       "    .dataframe tbody tr th {\n",
       "        vertical-align: top;\n",
       "    }\n",
       "\n",
       "    .dataframe thead th {\n",
       "        text-align: right;\n",
       "    }\n",
       "</style>\n",
       "<table border=\"1\" class=\"dataframe\">\n",
       "  <thead>\n",
       "    <tr style=\"text-align: right;\">\n",
       "      <th></th>\n",
       "      <th>original_column</th>\n",
       "      <th>imputed_expanded</th>\n",
       "    </tr>\n",
       "  </thead>\n",
       "  <tbody>\n",
       "    <tr>\n",
       "      <th>0</th>\n",
       "      <td>2</td>\n",
       "      <td>{'num_imputed_mean': 2.0, 'num_imputed_mean_nu...</td>\n",
       "    </tr>\n",
       "    <tr>\n",
       "      <th>1</th>\n",
       "      <td>None</td>\n",
       "      <td>{'num_imputed_mean': 2.6666666666666665, 'num_...</td>\n",
       "    </tr>\n",
       "    <tr>\n",
       "      <th>2</th>\n",
       "      <td>1</td>\n",
       "      <td>{'num_imputed_mean': 1.0, 'num_imputed_mean_nu...</td>\n",
       "    </tr>\n",
       "    <tr>\n",
       "      <th>3</th>\n",
       "      <td>1</td>\n",
       "      <td>{'num_imputed_mean': 1.0, 'num_imputed_mean_nu...</td>\n",
       "    </tr>\n",
       "    <tr>\n",
       "      <th>4</th>\n",
       "      <td>5</td>\n",
       "      <td>{'num_imputed_mean': 5.0, 'num_imputed_mean_nu...</td>\n",
       "    </tr>\n",
       "    <tr>\n",
       "      <th>5</th>\n",
       "      <td>4</td>\n",
       "      <td>{'num_imputed_mean': 4.0, 'num_imputed_mean_nu...</td>\n",
       "    </tr>\n",
       "    <tr>\n",
       "      <th>6</th>\n",
       "      <td>3</td>\n",
       "      <td>{'num_imputed_mean': 3.0, 'num_imputed_mean_nu...</td>\n",
       "    </tr>\n",
       "  </tbody>\n",
       "</table>\n",
       "</div>"
      ],
      "text/plain": [
       "  original_column                                   imputed_expanded\n",
       "0               2  {'num_imputed_mean': 2.0, 'num_imputed_mean_nu...\n",
       "1            None  {'num_imputed_mean': 2.6666666666666665, 'num_...\n",
       "2               1  {'num_imputed_mean': 1.0, 'num_imputed_mean_nu...\n",
       "3               1  {'num_imputed_mean': 1.0, 'num_imputed_mean_nu...\n",
       "4               5  {'num_imputed_mean': 5.0, 'num_imputed_mean_nu...\n",
       "5               4  {'num_imputed_mean': 4.0, 'num_imputed_mean_nu...\n",
       "6               3  {'num_imputed_mean': 3.0, 'num_imputed_mean_nu..."
      ]
     },
     "execution_count": 42,
     "metadata": {},
     "output_type": "execute_result"
    }
   ],
   "source": [
    "df = bq.query(query = query).to_dataframe()\n",
    "df"
   ]
  },
  {
   "cell_type": "code",
   "execution_count": 43,
   "id": "a2ae1a53-0305-4dd8-98c7-77b6e23de04d",
   "metadata": {},
   "outputs": [
    {
     "data": {
      "text/plain": [
       "{'num_imputed_mean': 2.6666666666666665,\n",
       " 'num_imputed_mean_num_imputed_mean': 7.111111111111111}"
      ]
     },
     "execution_count": 43,
     "metadata": {},
     "output_type": "execute_result"
    }
   ],
   "source": [
    "df['imputed_expanded'].iloc[1]"
   ]
  },
  {
   "cell_type": "markdown",
   "id": "90b1ef9f-2d9a-4c39-b3a5-d2c433e67f49",
   "metadata": {
    "tags": []
   },
   "source": [
    "---\n",
    "## Create BigQuery Dataset\n",
    "\n",
    "Datasets are like folders, they hold items like tables, models, views."
   ]
  },
  {
   "cell_type": "markdown",
   "id": "fe47315f-bc92-4900-8399-7a51cc810301",
   "metadata": {},
   "source": [
    "Create the dataset if missing:"
   ]
  },
  {
   "cell_type": "code",
   "execution_count": 44,
   "id": "1ea2c1e6-836c-40de-a53f-10fb195d27bb",
   "metadata": {},
   "outputs": [],
   "source": [
    "ds = bigquery.Dataset(f\"{BQ_PROJECT}.{BQ_DATASET}\")\n",
    "ds.location = 'eu' #'us' #REGION\n",
    "ds.labels = {'experiment': f'{EXPERIMENT}'}\n",
    "ds = bq.create_dataset(dataset = ds, exists_ok = True)"
   ]
  },
  {
   "cell_type": "markdown",
   "id": "77659610-1f1b-4b96-add1-a08eb0ef8ee5",
   "metadata": {},
   "source": [
    "List BigQuery datasets in the project:"
   ]
  },
  {
   "cell_type": "code",
   "execution_count": 45,
   "id": "ccf621f1-d5b8-4e12-85b1-318ecaab57db",
   "metadata": {},
   "outputs": [
    {
     "name": "stdout",
     "output_type": "stream",
     "text": [
      "applied_forecasting\n",
      "explained_columns\n",
      "feature_engineering\n",
      "forecasting_8_tournament\n",
      "fraud\n",
      "github_api\n",
      "model_deployment_monitoring_1961322035766362112\n"
     ]
    }
   ],
   "source": [
    "datasets = list(bq.list_datasets())\n",
    "for d in datasets:\n",
    "    print(d.dataset_id)"
   ]
  },
  {
   "cell_type": "markdown",
   "id": "77ba4fa7-1dd5-4dba-b519-77dbdf7109c2",
   "metadata": {},
   "source": [
    "Review dataset attributes:"
   ]
  },
  {
   "cell_type": "code",
   "execution_count": 46,
   "id": "1b0f396d-c857-440f-a9ae-f21a0acee0f2",
   "metadata": {},
   "outputs": [
    {
     "data": {
      "text/plain": [
       "'feature_engineering'"
      ]
     },
     "execution_count": 46,
     "metadata": {},
     "output_type": "execute_result"
    }
   ],
   "source": [
    "ds.dataset_id"
   ]
  },
  {
   "cell_type": "code",
   "execution_count": 47,
   "id": "d8fbeff7-06c9-4355-bfd1-743ba3c12b57",
   "metadata": {},
   "outputs": [
    {
     "data": {
      "text/plain": [
       "'statmike-mlops-349915'"
      ]
     },
     "execution_count": 47,
     "metadata": {},
     "output_type": "execute_result"
    }
   ],
   "source": [
    "ds.project"
   ]
  },
  {
   "cell_type": "code",
   "execution_count": 48,
   "id": "cea1bb57-1254-4088-90a3-4397e499bc28",
   "metadata": {},
   "outputs": [
    {
     "data": {
      "text/plain": [
       "'statmike-mlops-349915:feature_engineering'"
      ]
     },
     "execution_count": 48,
     "metadata": {},
     "output_type": "execute_result"
    }
   ],
   "source": [
    "ds.full_dataset_id"
   ]
  },
  {
   "cell_type": "code",
   "execution_count": 49,
   "id": "6e79c339-dade-415a-9d73-6e2da208a52b",
   "metadata": {},
   "outputs": [
    {
     "data": {
      "text/plain": [
       "'/projects/statmike-mlops-349915/datasets/feature_engineering'"
      ]
     },
     "execution_count": 49,
     "metadata": {},
     "output_type": "execute_result"
    }
   ],
   "source": [
    "ds.path"
   ]
  },
  {
   "cell_type": "code",
   "execution_count": 50,
   "id": "98711e82-fdbf-4d10-9175-8b9aabd839d9",
   "metadata": {},
   "outputs": [
    {
     "data": {
      "text/plain": [
       "'EU'"
      ]
     },
     "execution_count": 50,
     "metadata": {},
     "output_type": "execute_result"
    }
   ],
   "source": [
    "ds.location"
   ]
  },
  {
   "cell_type": "markdown",
   "id": "87c08b26-6696-4773-bf83-ebec0b22dbaf",
   "metadata": {},
   "source": [
    "---\n",
    "## Create BigQuery Table\n",
    "\n",
    "Familiar with the [Great British Bake Off](https://en.wikipedia.org/wiki/The_Great_British_Bake_Off)? Or maybe just familiar with intricate nature of [baking bread](https://en.wikipedia.org/wiki/Bread)?  The code below generates 2000 different bread recipes along with multiple judges ratings of the resulting bread.  These are designed to be a lot like [Ciabatta](https://en.wikipedia.org/wiki/Ciabatta).\n",
    "\n",
    "This SQL makes heavy use of [GENERATE_ARRAY()](https://cloud.google.com/bigquery/docs/reference/standard-sql/arrays#generating_arrays_of_integers) to create sequences of numbers.  The [RAND() function](https://cloud.google.com/bigquery/docs/reference/standard-sql/mathematical_functions#rand) is the primary mechanism for generating random data but it is uniform `[0, 1)` only. To generate random normal data with MEAN=0 and SD=1 the [Box-Muller Transformation](https://en.wikipedia.org/wiki/Box%E2%80%93Muller_transform) is implemented in SQL using two `RAND()` values as inputs.  \n",
    "\n",
    "> Given two random uniform variable, $u_1$ and $u_2$, the following Box-Muller transformation generates two random normal(0, 1) variables:\n",
    ">\n",
    "> $\\sqrt{-2\\ln(u_1)}\\sin(2\\pi u_2)$ OR $\\sqrt{-2\\ln(u_1)}\\cos(2\\pi u_2)$\n",
    "\n",
    "Expressing these as SQL:\n",
    "```SQL\n",
    "# ACOS(-1) = PI\n",
    "SQRT(-2*LN(RAND()))*SIN(2*ACOS(-1)*RAND())\n",
    "\n",
    "SQRT(-2*LN(RAND()))*COS(2*ACOS(-1)*RAND())\n",
    "```\n",
    "\n",
    "**Note** When simulating data with BigQuery and using [CTEs (WITH statement)](https://cloud.google.com/bigquery/docs/reference/standard-sql/query-syntax#with_clause) it is important to note that each CTE will be called once per reference.  That means that using the `RAND()` function could generate different data on each reference.\n"
   ]
  },
  {
   "cell_type": "code",
   "execution_count": 51,
   "id": "82814d3e-513b-4d37-8736-a838a311fc06",
   "metadata": {},
   "outputs": [
    {
     "name": "stdout",
     "output_type": "stream",
     "text": [
      "\n",
      "CREATE OR REPLACE TABLE `statmike-mlops-349915.feature_engineering.bread` AS \n",
      "WITH\n",
      "    STEP_1 AS (\n",
      "        SELECT\n",
      "            pos as Recipe,\n",
      "            * EXCEPT(pos)\n",
      "        FROM (SELECT *, ROW_NUMBER() OVER() pos FROM UNNEST(ARRAY((SELECT 500+10*SQRT(-2*LN(RAND()))*COS(2*ACOS(-1)*RAND()) FROM UNNEST(GENERATE_ARRAY(1, 2000))))) AS flourAmt)\n",
      "        JOIN (SELECT *, ROW_NUMBER() OVER() pos FROM UNNEST(ARRAY((SELECT CAST(8+4*RAND() AS INT64) FROM UNNEST(GENERATE_ARRAY(1, 2000))))) AS saltAmt) USING(pos)\n",
      "        JOIN (SELECT *, ROW_NUMBER() OVER() pos FROM UNNEST(ARRAY((SELECT CAST(8+4*RAND() AS INT64) FROM UNNEST(GENERATE_ARRAY(1, 2000))))) AS yeastAmt) USING(pos)\n",
      "        JOIN (SELECT *, ROW_NUMBER() OVER() pos FROM UNNEST(ARRAY((SELECT CAST(5+1*SQRT(-2*LN(RAND()))*COS(2*ACOS(-1)*RAND()) AS INT64) FROM UNNEST(GENERATE_ARRAY(1, 2000))))) AS mix1Time) USING(pos)\n",
      "        JOIN (SELECT *, ROW_NUMBER() OVER() pos FROM UNNEST(ARRAY((SELECT CAST(2+3*RAND() AS INT64) FROM UNNEST(GENERATE_ARRAY(1, 2000))))) AS mix1Speed) USING(pos)\n",
      "        JOIN (SELECT *, ROW_NUMBER() OVER() pos FROM UNNEST(ARRAY((SELECT CAST(4+4*RAND() AS INT64) FROM UNNEST(GENERATE_ARRAY(1, 2000))))) AS mix2Time) USING(pos)\n",
      "        JOIN (SELECT *, ROW_NUMBER() OVER() pos FROM UNNEST(ARRAY((SELECT CAST(4+2*RAND() AS INT64) FROM UNNEST(GENERATE_ARRAY(1, 2000))))) AS mix2Speed) USING(pos)\n",
      "        JOIN (SELECT *, ROW_NUMBER() OVER() pos FROM UNNEST(ARRAY((SELECT 330+20*SQRT(-2*LN(RAND()))*COS(2*ACOS(-1)*RAND()) FROM UNNEST(GENERATE_ARRAY(1, 2000))))) AS water1Amt) USING(pos)\n",
      "        JOIN (SELECT *, ROW_NUMBER() OVER() pos FROM UNNEST(ARRAY((SELECT 110+20*SQRT(-2*LN(RAND()))*COS(2*ACOS(-1)*RAND()) FROM UNNEST(GENERATE_ARRAY(1, 2000))))) AS water2Amt) USING(pos)\n",
      "        JOIN (SELECT *, ROW_NUMBER() OVER() pos FROM UNNEST(ARRAY((SELECT CAST(40+10*RAND() AS INT64) FROM UNNEST(GENERATE_ARRAY(1, 2000))))) AS waterTemp) USING(pos)\n",
      "        JOIN (SELECT *, ROW_NUMBER() OVER() pos FROM UNNEST(ARRAY((SELECT 100+5*SQRT(-2*LN(RAND()))*COS(2*ACOS(-1)*RAND()) FROM UNNEST(GENERATE_ARRAY(1, 2000))))) AS proveTime) USING(pos)\n",
      "        JOIN (SELECT *, ROW_NUMBER() OVER() pos FROM UNNEST(ARRAY((SELECT CAST(35+10*RAND() AS INT64) FROM UNNEST(GENERATE_ARRAY(1, 2000))))) AS restTime) USING(pos)\n",
      "        JOIN (SELECT *, ROW_NUMBER() OVER() pos FROM UNNEST(ARRAY((SELECT CAST(20+10*RAND() AS INT64) FROM UNNEST(GENERATE_ARRAY(1, 2000))))) AS bakeTime) USING(pos)\n",
      "        JOIN (SELECT *, ROW_NUMBER() OVER() pos FROM UNNEST(ARRAY((SELECT 425+15*SQRT(-2*LN(RAND()))*COS(2*ACOS(-1)*RAND()) FROM UNNEST(GENERATE_ARRAY(1, 2000))))) AS bakeTemp) USING(pos)\n",
      "        JOIN (SELECT *, ROW_NUMBER() OVER() pos FROM UNNEST(ARRAY((SELECT 60+10*SQRT(-2*LN(RAND()))*COS(2*ACOS(-1)*RAND()) FROM UNNEST(GENERATE_ARRAY(1, 2000))))) AS ambTemp) USING(pos)\n",
      "        JOIN (SELECT *, ROW_NUMBER() OVER() pos FROM UNNEST(ARRAY((SELECT 50+10*SQRT(-2*LN(RAND()))*COS(2*ACOS(-1)*RAND()) FROM UNNEST(GENERATE_ARRAY(1, 2000))))) AS ambHumidity) USING(pos)\n",
      "    ),\n",
      "    STEP_2 AS (\n",
      "        SELECT *,\n",
      "            CASE \n",
      "                WHEN flourAmt-500 > 0 THEN 0.3*(flourAmt-500)\n",
      "                ELSE -0.3*(flourAmt-500)\n",
      "            END AS A,\n",
      "            CASE \n",
      "                WHEN saltAmt-10 > 0 THEN 2*(saltAmt-10)/2\n",
      "                ELSE -0.5*(saltAmt-10)/2\n",
      "            END AS B,\n",
      "            CASE \n",
      "                WHEN yeastAmt-10 > 0 THEN 5*(yeastAmt-10)/2\n",
      "                ELSE -5*(yeastAmt-10)/2\n",
      "            END AS C,\n",
      "            CASE \n",
      "                WHEN mix1Time-5 > 0 THEN 2*(mix1Time-5)\n",
      "                ELSE -2*(mix1Time-5)\n",
      "            END AS D,\n",
      "            CASE \n",
      "                WHEN mix1Speed-3.5 > 0 THEN 0.1*(mix1Speed-3.5)/1.5\n",
      "                ELSE -0.1*(mix1Speed-3.5)/1.5\n",
      "            END AS E,\n",
      "            CASE \n",
      "                WHEN mix2Time-6 > 0 THEN (mix2Time-6)/2\n",
      "                ELSE -2*(mix2Time-6)\n",
      "            END AS F,\n",
      "            CASE \n",
      "                WHEN mix2Speed-5 > 0 THEN 2*(mix2Speed-5)\n",
      "                ELSE -2*(mix2Speed-5)/2\n",
      "            END AS G,\n",
      "            CASE \n",
      "                WHEN water1Amt-330 > 0 THEN (water1Amt-330)/20\n",
      "                ELSE -1*(water1Amt-330)/20\n",
      "            END AS H,\n",
      "            CASE \n",
      "                WHEN water2Amt-110 > 0 THEN 6*(water2Amt-110)/20\n",
      "                ELSE -6*(water2Amt-110)/20\n",
      "            END AS I,\n",
      "            CASE \n",
      "                WHEN restTime-40 > 0 THEN 3*(restTime-40)/5\n",
      "                ELSE -3*(restTime-40)/5\n",
      "            END AS J,\n",
      "            CASE \n",
      "                WHEN bakeTime-25 > 0 THEN 6*(bakeTime-25)/5\n",
      "                ELSE -6*(bakeTime-25)/5\n",
      "            END AS K,\n",
      "            CASE \n",
      "                WHEN bakeTemp-425 > 0 THEN 15*(bakeTemp-425)/15\n",
      "                ELSE -10*(bakeTemp-425)/15\n",
      "            END AS L,\n",
      "            -1*((425-bakeTemp)*(bakeTime-25))/25 AS M\n",
      "        FROM STEP_1\n",
      "    ),\n",
      "    STEP_3 AS (\n",
      "        SELECT * EXCEPT(A, B, C, D, E, F, G, H, I ,J, K, L, M),\n",
      "            CASE\n",
      "                WHEN 100-(0+A+B+C+D+E+F+G+H+I+J+K+L+M)+4 < 0 THEN 0\n",
      "                WHEN 100-(0+A+B+C+D+E+F+G+H+I+J+K+L+M)+4 > 100 THEN 100\n",
      "                ELSE ROUND(100-(0+A+B+C+D+E+F+G+H+I+J+K+L+M)+4)\n",
      "            END AS JUDGE_A,\n",
      "            CASE\n",
      "                WHEN 5-26*(90/69)+(90/69)*(100-(0+A+B+C+D+E+F+G+H+I+J+K+L+M)+4)-5 < 0 THEN 0\n",
      "                WHEN 5-26*(90/69)+(90/69)*(100-(0+A+B+C+D+E+F+G+H+I+J+K+L+M)+4)-5 > 100 THEN 100\n",
      "                ELSE ROUND(5-26*(90/69)+(90/69)*(100-(0+A+B+C+D+E+F+G+H+I+J+K+L+M)+4)-5)\n",
      "            END AS JUDGE_B\n",
      "        FROM STEP_2\n",
      "    )\n",
      "SELECT *\n",
      "FROM STEP_3\n",
      "\n"
     ]
    }
   ],
   "source": [
    "n = 2000\n",
    "\n",
    "query = f\"\"\"\n",
    "CREATE OR REPLACE TABLE `{BQ_PROJECT}.{BQ_DATASET}.{BQ_TABLE}` AS \n",
    "WITH\n",
    "    STEP_1 AS (\n",
    "        SELECT\n",
    "            pos as Recipe,\n",
    "            * EXCEPT(pos)\n",
    "        FROM (SELECT *, ROW_NUMBER() OVER() pos FROM UNNEST(ARRAY((SELECT 500+10*SQRT(-2*LN(RAND()))*COS(2*ACOS(-1)*RAND()) FROM UNNEST(GENERATE_ARRAY(1, {n}))))) AS flourAmt)\n",
    "        JOIN (SELECT *, ROW_NUMBER() OVER() pos FROM UNNEST(ARRAY((SELECT CAST(8+4*RAND() AS INT64) FROM UNNEST(GENERATE_ARRAY(1, {n}))))) AS saltAmt) USING(pos)\n",
    "        JOIN (SELECT *, ROW_NUMBER() OVER() pos FROM UNNEST(ARRAY((SELECT CAST(8+4*RAND() AS INT64) FROM UNNEST(GENERATE_ARRAY(1, {n}))))) AS yeastAmt) USING(pos)\n",
    "        JOIN (SELECT *, ROW_NUMBER() OVER() pos FROM UNNEST(ARRAY((SELECT CAST(5+1*SQRT(-2*LN(RAND()))*COS(2*ACOS(-1)*RAND()) AS INT64) FROM UNNEST(GENERATE_ARRAY(1, {n}))))) AS mix1Time) USING(pos)\n",
    "        JOIN (SELECT *, ROW_NUMBER() OVER() pos FROM UNNEST(ARRAY((SELECT CAST(2+3*RAND() AS INT64) FROM UNNEST(GENERATE_ARRAY(1, {n}))))) AS mix1Speed) USING(pos)\n",
    "        JOIN (SELECT *, ROW_NUMBER() OVER() pos FROM UNNEST(ARRAY((SELECT CAST(4+4*RAND() AS INT64) FROM UNNEST(GENERATE_ARRAY(1, {n}))))) AS mix2Time) USING(pos)\n",
    "        JOIN (SELECT *, ROW_NUMBER() OVER() pos FROM UNNEST(ARRAY((SELECT CAST(4+2*RAND() AS INT64) FROM UNNEST(GENERATE_ARRAY(1, {n}))))) AS mix2Speed) USING(pos)\n",
    "        JOIN (SELECT *, ROW_NUMBER() OVER() pos FROM UNNEST(ARRAY((SELECT 330+20*SQRT(-2*LN(RAND()))*COS(2*ACOS(-1)*RAND()) FROM UNNEST(GENERATE_ARRAY(1, {n}))))) AS water1Amt) USING(pos)\n",
    "        JOIN (SELECT *, ROW_NUMBER() OVER() pos FROM UNNEST(ARRAY((SELECT 110+20*SQRT(-2*LN(RAND()))*COS(2*ACOS(-1)*RAND()) FROM UNNEST(GENERATE_ARRAY(1, {n}))))) AS water2Amt) USING(pos)\n",
    "        JOIN (SELECT *, ROW_NUMBER() OVER() pos FROM UNNEST(ARRAY((SELECT CAST(40+10*RAND() AS INT64) FROM UNNEST(GENERATE_ARRAY(1, {n}))))) AS waterTemp) USING(pos)\n",
    "        JOIN (SELECT *, ROW_NUMBER() OVER() pos FROM UNNEST(ARRAY((SELECT 100+5*SQRT(-2*LN(RAND()))*COS(2*ACOS(-1)*RAND()) FROM UNNEST(GENERATE_ARRAY(1, {n}))))) AS proveTime) USING(pos)\n",
    "        JOIN (SELECT *, ROW_NUMBER() OVER() pos FROM UNNEST(ARRAY((SELECT CAST(35+10*RAND() AS INT64) FROM UNNEST(GENERATE_ARRAY(1, {n}))))) AS restTime) USING(pos)\n",
    "        JOIN (SELECT *, ROW_NUMBER() OVER() pos FROM UNNEST(ARRAY((SELECT CAST(20+10*RAND() AS INT64) FROM UNNEST(GENERATE_ARRAY(1, {n}))))) AS bakeTime) USING(pos)\n",
    "        JOIN (SELECT *, ROW_NUMBER() OVER() pos FROM UNNEST(ARRAY((SELECT 425+15*SQRT(-2*LN(RAND()))*COS(2*ACOS(-1)*RAND()) FROM UNNEST(GENERATE_ARRAY(1, {n}))))) AS bakeTemp) USING(pos)\n",
    "        JOIN (SELECT *, ROW_NUMBER() OVER() pos FROM UNNEST(ARRAY((SELECT 60+10*SQRT(-2*LN(RAND()))*COS(2*ACOS(-1)*RAND()) FROM UNNEST(GENERATE_ARRAY(1, {n}))))) AS ambTemp) USING(pos)\n",
    "        JOIN (SELECT *, ROW_NUMBER() OVER() pos FROM UNNEST(ARRAY((SELECT 50+10*SQRT(-2*LN(RAND()))*COS(2*ACOS(-1)*RAND()) FROM UNNEST(GENERATE_ARRAY(1, {n}))))) AS ambHumidity) USING(pos)\n",
    "    ),\n",
    "    STEP_2 AS (\n",
    "        SELECT *,\n",
    "            CASE \n",
    "                WHEN flourAmt-500 > 0 THEN 0.3*(flourAmt-500)\n",
    "                ELSE -0.3*(flourAmt-500)\n",
    "            END AS A,\n",
    "            CASE \n",
    "                WHEN saltAmt-10 > 0 THEN 2*(saltAmt-10)/2\n",
    "                ELSE -0.5*(saltAmt-10)/2\n",
    "            END AS B,\n",
    "            CASE \n",
    "                WHEN yeastAmt-10 > 0 THEN 5*(yeastAmt-10)/2\n",
    "                ELSE -5*(yeastAmt-10)/2\n",
    "            END AS C,\n",
    "            CASE \n",
    "                WHEN mix1Time-5 > 0 THEN 2*(mix1Time-5)\n",
    "                ELSE -2*(mix1Time-5)\n",
    "            END AS D,\n",
    "            CASE \n",
    "                WHEN mix1Speed-3.5 > 0 THEN 0.1*(mix1Speed-3.5)/1.5\n",
    "                ELSE -0.1*(mix1Speed-3.5)/1.5\n",
    "            END AS E,\n",
    "            CASE \n",
    "                WHEN mix2Time-6 > 0 THEN (mix2Time-6)/2\n",
    "                ELSE -2*(mix2Time-6)\n",
    "            END AS F,\n",
    "            CASE \n",
    "                WHEN mix2Speed-5 > 0 THEN 2*(mix2Speed-5)\n",
    "                ELSE -2*(mix2Speed-5)/2\n",
    "            END AS G,\n",
    "            CASE \n",
    "                WHEN water1Amt-330 > 0 THEN (water1Amt-330)/20\n",
    "                ELSE -1*(water1Amt-330)/20\n",
    "            END AS H,\n",
    "            CASE \n",
    "                WHEN water2Amt-110 > 0 THEN 6*(water2Amt-110)/20\n",
    "                ELSE -6*(water2Amt-110)/20\n",
    "            END AS I,\n",
    "            CASE \n",
    "                WHEN restTime-40 > 0 THEN 3*(restTime-40)/5\n",
    "                ELSE -3*(restTime-40)/5\n",
    "            END AS J,\n",
    "            CASE \n",
    "                WHEN bakeTime-25 > 0 THEN 6*(bakeTime-25)/5\n",
    "                ELSE -6*(bakeTime-25)/5\n",
    "            END AS K,\n",
    "            CASE \n",
    "                WHEN bakeTemp-425 > 0 THEN 15*(bakeTemp-425)/15\n",
    "                ELSE -10*(bakeTemp-425)/15\n",
    "            END AS L,\n",
    "            -1*((425-bakeTemp)*(bakeTime-25))/25 AS M\n",
    "        FROM STEP_1\n",
    "    ),\n",
    "    STEP_3 AS (\n",
    "        SELECT * EXCEPT(A, B, C, D, E, F, G, H, I ,J, K, L, M),\n",
    "            CASE\n",
    "                WHEN 100-(0+A+B+C+D+E+F+G+H+I+J+K+L+M)+4 < 0 THEN 0\n",
    "                WHEN 100-(0+A+B+C+D+E+F+G+H+I+J+K+L+M)+4 > 100 THEN 100\n",
    "                ELSE ROUND(100-(0+A+B+C+D+E+F+G+H+I+J+K+L+M)+4)\n",
    "            END AS JUDGE_A,\n",
    "            CASE\n",
    "                WHEN 5-26*(90/69)+(90/69)*(100-(0+A+B+C+D+E+F+G+H+I+J+K+L+M)+4)-5 < 0 THEN 0\n",
    "                WHEN 5-26*(90/69)+(90/69)*(100-(0+A+B+C+D+E+F+G+H+I+J+K+L+M)+4)-5 > 100 THEN 100\n",
    "                ELSE ROUND(5-26*(90/69)+(90/69)*(100-(0+A+B+C+D+E+F+G+H+I+J+K+L+M)+4)-5)\n",
    "            END AS JUDGE_B\n",
    "        FROM STEP_2\n",
    "    )\n",
    "SELECT *\n",
    "FROM STEP_3\n",
    "\"\"\"\n",
    "print(query)"
   ]
  },
  {
   "cell_type": "code",
   "execution_count": 53,
   "id": "c82edbf1-9522-4658-9d41-f3a9288e7730",
   "metadata": {},
   "outputs": [
    {
     "data": {
      "text/plain": [
       "2.746"
      ]
     },
     "execution_count": 53,
     "metadata": {},
     "output_type": "execute_result"
    }
   ],
   "source": [
    "job = bq.query(query = query)\n",
    "job.result()\n",
    "(job.ended-job.started).total_seconds()"
   ]
  },
  {
   "cell_type": "code",
   "execution_count": 54,
   "id": "e9eeb116-702d-410b-a729-ae010834a84b",
   "metadata": {},
   "outputs": [
    {
     "data": {
      "text/plain": [
       "0"
      ]
     },
     "execution_count": 54,
     "metadata": {},
     "output_type": "execute_result"
    }
   ],
   "source": [
    "job.total_bytes_processed"
   ]
  },
  {
   "cell_type": "markdown",
   "id": "25d017cd-b5dc-4a5d-bf45-508ce60d128f",
   "metadata": {},
   "source": [
    "### Check out this table in BigQuery Console:\n",
    "- Click: https://console.cloud.google.com/bigquery\n",
    "- Make sure project selected is the one from this notebook\n",
    "- Under Explore, expand this project and review the dataset and table"
   ]
  },
  {
   "cell_type": "code",
   "execution_count": 55,
   "id": "209246e6-e917-44f4-98e4-8d5e50299cf2",
   "metadata": {},
   "outputs": [
    {
     "name": "stdout",
     "output_type": "stream",
     "text": [
      "Direct Link To This Project In BigQuery:\n",
      "https://console.cloud.google.com/bigquery?project=statmike-mlops-349915&ws=!1m5!1m4!4m3!1sstatmike-mlops-349915!2sfeature_engineering!3sbread\n"
     ]
    }
   ],
   "source": [
    "print(f\"Direct Link To This Project In BigQuery:\\nhttps://console.cloud.google.com/bigquery?project={BQ_PROJECT}&ws=!1m5!1m4!4m3!1s{BQ_PROJECT}!2s{BQ_DATASET}!3s{BQ_TABLE}\")"
   ]
  },
  {
   "cell_type": "markdown",
   "id": "876654f3-7c48-4b23-8e27-52bd6ddf4564",
   "metadata": {},
   "source": [
    "---\n",
    "## Review Data From BigQuery\n",
    "Additional SQL queries could be used to review the data.  This section shows moving the table to a Pandas dataframe for local review in Python:\n",
    "\n",
    "> **Note:** <p>This query only selects one column.  This means BigQuery scans less data as it does not process the other columns.  </p>"
   ]
  },
  {
   "cell_type": "code",
   "execution_count": 152,
   "id": "c66fd4c0-36aa-4f57-8e1e-916f443d5216",
   "metadata": {},
   "outputs": [],
   "source": [
    "query = f\"\"\"\n",
    "    SELECT JUDGE_A, JUDGE_B\n",
    "    FROM `{BQ_PROJECT}.{BQ_DATASET}.{BQ_TABLE}`\n",
    "\"\"\"\n",
    "df = bq.query(query = query).to_dataframe()"
   ]
  },
  {
   "cell_type": "code",
   "execution_count": 153,
   "id": "befab8f1-f708-4039-b043-75ae62efe665",
   "metadata": {},
   "outputs": [
    {
     "name": "stdout",
     "output_type": "stream",
     "text": [
      "\n",
      "    SELECT JUDGE_A, JUDGE_B\n",
      "    FROM `statmike-mlops-349915.feature_engineering.bread`\n",
      "\n"
     ]
    }
   ],
   "source": [
    "print(query)"
   ]
  },
  {
   "cell_type": "code",
   "execution_count": 154,
   "id": "d103c7b4-68a5-4e43-8398-0e7ab64afab7",
   "metadata": {},
   "outputs": [
    {
     "data": {
      "text/html": [
       "<div>\n",
       "<style scoped>\n",
       "    .dataframe tbody tr th:only-of-type {\n",
       "        vertical-align: middle;\n",
       "    }\n",
       "\n",
       "    .dataframe tbody tr th {\n",
       "        vertical-align: top;\n",
       "    }\n",
       "\n",
       "    .dataframe thead th {\n",
       "        text-align: right;\n",
       "    }\n",
       "</style>\n",
       "<table border=\"1\" class=\"dataframe\">\n",
       "  <thead>\n",
       "    <tr style=\"text-align: right;\">\n",
       "      <th></th>\n",
       "      <th>JUDGE_A</th>\n",
       "      <th>JUDGE_B</th>\n",
       "    </tr>\n",
       "  </thead>\n",
       "  <tbody>\n",
       "    <tr>\n",
       "      <th>count</th>\n",
       "      <td>2000.000000</td>\n",
       "      <td>2000.000000</td>\n",
       "    </tr>\n",
       "    <tr>\n",
       "      <th>mean</th>\n",
       "      <td>75.080500</td>\n",
       "      <td>64.025500</td>\n",
       "    </tr>\n",
       "    <tr>\n",
       "      <th>std</th>\n",
       "      <td>9.932842</td>\n",
       "      <td>12.920268</td>\n",
       "    </tr>\n",
       "    <tr>\n",
       "      <th>min</th>\n",
       "      <td>14.000000</td>\n",
       "      <td>0.000000</td>\n",
       "    </tr>\n",
       "    <tr>\n",
       "      <th>25%</th>\n",
       "      <td>69.000000</td>\n",
       "      <td>56.000000</td>\n",
       "    </tr>\n",
       "    <tr>\n",
       "      <th>50%</th>\n",
       "      <td>77.000000</td>\n",
       "      <td>66.000000</td>\n",
       "    </tr>\n",
       "    <tr>\n",
       "      <th>75%</th>\n",
       "      <td>82.000000</td>\n",
       "      <td>73.000000</td>\n",
       "    </tr>\n",
       "    <tr>\n",
       "      <th>max</th>\n",
       "      <td>98.000000</td>\n",
       "      <td>93.000000</td>\n",
       "    </tr>\n",
       "  </tbody>\n",
       "</table>\n",
       "</div>"
      ],
      "text/plain": [
       "           JUDGE_A      JUDGE_B\n",
       "count  2000.000000  2000.000000\n",
       "mean     75.080500    64.025500\n",
       "std       9.932842    12.920268\n",
       "min      14.000000     0.000000\n",
       "25%      69.000000    56.000000\n",
       "50%      77.000000    66.000000\n",
       "75%      82.000000    73.000000\n",
       "max      98.000000    93.000000"
      ]
     },
     "execution_count": 154,
     "metadata": {},
     "output_type": "execute_result"
    }
   ],
   "source": [
    "df.describe()"
   ]
  },
  {
   "cell_type": "markdown",
   "id": "f52bad64-1b0b-48d1-84f2-59d559f47e27",
   "metadata": {},
   "source": [
    "It looks like Judge A is not as harsh as Judge B!"
   ]
  },
  {
   "cell_type": "markdown",
   "id": "e71194a7-b4c2-44d8-a737-9f7e97c60f95",
   "metadata": {},
   "source": [
    "---\n",
    "## GOAL: Predicting Judges Ratings\n",
    "\n",
    "Each row of the BigQuery table has all the parameters of a bread recipe and the rating for the resulting bake by two judges.  The goal of the this ML project is to predict the judges rating from the recipe and understand which parameters of the recipe where most important overall ([global explainability](https://cloud.google.com/bigquery-ml/docs/reference/standard-sql/bigqueryml-syntax-global-explain)) and for each recipe ([local explainability](https://cloud.google.com/bigquery-ml/docs/reference/standard-sql/bigqueryml-syntax-explain-predict)). BigQuery models include AI Explanation functions to assist with this [explainable AI](https://cloud.google.com/bigquery-ml/docs/reference/standard-sql/bigqueryml-syntax-xai-overview)!"
   ]
  },
  {
   "cell_type": "markdown",
   "id": "3c6b56cc-85f3-40d2-a03a-4b1bd8a1944e",
   "metadata": {},
   "source": [
    "---\n",
    "## Train Model - Automatic Feature Engineering\n",
    "\n",
    "Use BigQuery ML to train a linear regression model:\n",
    "- [Linear Regression](https://cloud.google.com/bigquery-ml/docs/reference/standard-sql/bigqueryml-syntax-create-glm) with BigQuery ML (BQML)\n",
    "\n",
    "Without specify a [TRANFORM](https://cloud.google.com/bigquery-ml/docs/reference/standard-sql/bigqueryml-syntax-create#transform) clause in the `CREATE MODEL` statement, BigQuery will apply [automatic preprocessing](https://cloud.google.com/bigquery-ml/docs/reference/standard-sql/bigqueryml-auto-preprocessing) for feature engineering. This includes [imputation](https://cloud.google.com/bigquery-ml/docs/reference/standard-sql/bigqueryml-auto-preprocessing#imputation) and [feature transformation](https://cloud.google.com/bigquery-ml/docs/reference/standard-sql/bigqueryml-auto-preprocessing#feature-transform) based on the input columns data type."
   ]
  },
  {
   "cell_type": "code",
   "execution_count": 158,
   "id": "ca9a996a-18fa-4c30-97cc-9c79a325e42c",
   "metadata": {},
   "outputs": [],
   "source": [
    "TIMESTAMP = datetime.now().strftime(\"%Y%m%d%H%M%S\")\n",
    "RUN_NAME = f'run-{TIMESTAMP}'\n",
    "BQ_MODEL_AutoFeatureEng = f'{SERIES}_{EXPERIMENT}_auto'"
   ]
  },
  {
   "cell_type": "code",
   "execution_count": 159,
   "id": "8ec35834",
   "metadata": {},
   "outputs": [
    {
     "name": "stdout",
     "output_type": "stream",
     "text": [
      "\n",
      "CREATE OR REPLACE MODEL `statmike-mlops-349915.feature_engineering.03_feature_engineering_auto`\n",
      "OPTIONS (\n",
      "        model_type = 'LINEAR_REG',\n",
      "        input_label_cols = ['JUDGE_A'],\n",
      "        enable_global_explain = TRUE,\n",
      "        data_split_method = 'AUTO_SPLIT',\n",
      "        MODEL_REGISTRY = 'VERTEX_AI',\n",
      "        VERTEX_AI_MODEL_ID = 'bqml_03_feature_engineering_auto',\n",
      "        VERTEX_AI_MODEL_VERSION_ALIASES = ['run-20221201120934', 'auto_feature_engineering']\n",
      "    ) AS\n",
      "SELECT * EXCEPT(Recipe, JUDGE_B)\n",
      "FROM `statmike-mlops-349915.feature_engineering.bread`\n",
      "\n"
     ]
    }
   ],
   "source": [
    "query = f\"\"\"\n",
    "CREATE OR REPLACE MODEL `{BQ_PROJECT}.{BQ_DATASET}.{BQ_MODEL_AutoFeatureEng}`\n",
    "OPTIONS (\n",
    "        model_type = 'LINEAR_REG',\n",
    "        input_label_cols = ['JUDGE_A'],\n",
    "        enable_global_explain = TRUE,\n",
    "        data_split_method = 'AUTO_SPLIT',\n",
    "        MODEL_REGISTRY = 'VERTEX_AI',\n",
    "        VERTEX_AI_MODEL_ID = 'bqml_{BQ_MODEL_AutoFeatureEng}',\n",
    "        VERTEX_AI_MODEL_VERSION_ALIASES = ['{RUN_NAME}', 'auto_feature_engineering']\n",
    "    ) AS\n",
    "SELECT * EXCEPT(Recipe, JUDGE_B)\n",
    "FROM `{BQ_PROJECT}.{BQ_DATASET}.{BQ_TABLE}`\n",
    "\"\"\"\n",
    "print(query)"
   ]
  },
  {
   "cell_type": "code",
   "execution_count": 160,
   "id": "b1a3640e-843d-44c7-ab15-e05845cc070e",
   "metadata": {},
   "outputs": [
    {
     "data": {
      "text/plain": [
       "17.084"
      ]
     },
     "execution_count": 160,
     "metadata": {},
     "output_type": "execute_result"
    }
   ],
   "source": [
    "job = bq.query(query = query)\n",
    "job.result()\n",
    "(job.ended-job.started).total_seconds()"
   ]
  },
  {
   "cell_type": "code",
   "execution_count": 161,
   "id": "6867ee90-60d0-4413-8e39-38cecc7e8d81",
   "metadata": {},
   "outputs": [
    {
     "data": {
      "text/plain": [
       "272000"
      ]
     },
     "execution_count": 161,
     "metadata": {},
     "output_type": "execute_result"
    }
   ],
   "source": [
    "job.total_bytes_processed"
   ]
  },
  {
   "cell_type": "markdown",
   "id": "bf6209c9-5e45-4da2-a4fc-ec7c759c8bbb",
   "metadata": {},
   "source": [
    "Add labels to the model in BigQuery:"
   ]
  },
  {
   "cell_type": "code",
   "execution_count": 162,
   "id": "13d696f2-a277-422c-9cb0-f2ea8b5b242f",
   "metadata": {},
   "outputs": [],
   "source": [
    "model_AutoFeatureEng = bq.get_model(f'{BQ_PROJECT}.{BQ_DATASET}.{BQ_MODEL_AutoFeatureEng}')\n",
    "model_AutoFeatureEng.labels = {'series' : f'{SERIES}', 'experiment' : f'{EXPERIMENT}'}\n",
    "model_AutoFeatureEng = bq.update_model(model_AutoFeatureEng, ['labels'])"
   ]
  },
  {
   "cell_type": "markdown",
   "id": "2b2757a2-26f1-4efe-8982-c18b5934a1f5",
   "metadata": {},
   "source": [
    "### Feature and Training Review"
   ]
  },
  {
   "cell_type": "markdown",
   "id": "76bec6dc-7312-4676-8018-fd1b9b842dc0",
   "metadata": {},
   "source": [
    "Review the Model Inputs, the feature information before preprocessing, with [ML.FEATURE_INFO](https://cloud.google.com/bigquery-ml/docs/reference/standard-sql/bigqueryml-syntax-feature):"
   ]
  },
  {
   "cell_type": "code",
   "execution_count": 163,
   "id": "1100435a-f279-4ebe-9fd0-85d6eb88b225",
   "metadata": {},
   "outputs": [
    {
     "name": "stdout",
     "output_type": "stream",
     "text": [
      "\n",
      "    SELECT *\n",
      "    FROM ML.FEATURE_INFO(MODEL `statmike-mlops-349915.feature_engineering.03_feature_engineering_auto`)\n",
      "\n"
     ]
    }
   ],
   "source": [
    "query = f\"\"\"\n",
    "    SELECT *\n",
    "    FROM ML.FEATURE_INFO(MODEL `{BQ_PROJECT}.{BQ_DATASET}.{BQ_MODEL_AutoFeatureEng}`)\n",
    "\"\"\"\n",
    "print(query)"
   ]
  },
  {
   "cell_type": "code",
   "execution_count": 164,
   "id": "b829e860-d977-41c4-a2f6-9b841d6892fa",
   "metadata": {},
   "outputs": [
    {
     "data": {
      "text/html": [
       "<div>\n",
       "<style scoped>\n",
       "    .dataframe tbody tr th:only-of-type {\n",
       "        vertical-align: middle;\n",
       "    }\n",
       "\n",
       "    .dataframe tbody tr th {\n",
       "        vertical-align: top;\n",
       "    }\n",
       "\n",
       "    .dataframe thead th {\n",
       "        text-align: right;\n",
       "    }\n",
       "</style>\n",
       "<table border=\"1\" class=\"dataframe\">\n",
       "  <thead>\n",
       "    <tr style=\"text-align: right;\">\n",
       "      <th></th>\n",
       "      <th>input</th>\n",
       "      <th>min</th>\n",
       "      <th>max</th>\n",
       "      <th>mean</th>\n",
       "      <th>median</th>\n",
       "      <th>stddev</th>\n",
       "      <th>category_count</th>\n",
       "      <th>null_count</th>\n",
       "      <th>dimension</th>\n",
       "    </tr>\n",
       "  </thead>\n",
       "  <tbody>\n",
       "    <tr>\n",
       "      <th>0</th>\n",
       "      <td>flourAmt</td>\n",
       "      <td>464.112821</td>\n",
       "      <td>530.978400</td>\n",
       "      <td>499.647304</td>\n",
       "      <td>499.749350</td>\n",
       "      <td>9.979487</td>\n",
       "      <td>NaN</td>\n",
       "      <td>0</td>\n",
       "      <td>NaN</td>\n",
       "    </tr>\n",
       "    <tr>\n",
       "      <th>1</th>\n",
       "      <td>saltAmt</td>\n",
       "      <td>8.000000</td>\n",
       "      <td>12.000000</td>\n",
       "      <td>10.001291</td>\n",
       "      <td>10.000000</td>\n",
       "      <td>1.250839</td>\n",
       "      <td>NaN</td>\n",
       "      <td>0</td>\n",
       "      <td>NaN</td>\n",
       "    </tr>\n",
       "    <tr>\n",
       "      <th>2</th>\n",
       "      <td>yeastAmt</td>\n",
       "      <td>8.000000</td>\n",
       "      <td>12.000000</td>\n",
       "      <td>9.989025</td>\n",
       "      <td>10.000000</td>\n",
       "      <td>1.254144</td>\n",
       "      <td>NaN</td>\n",
       "      <td>0</td>\n",
       "      <td>NaN</td>\n",
       "    </tr>\n",
       "    <tr>\n",
       "      <th>3</th>\n",
       "      <td>mix1Time</td>\n",
       "      <td>2.000000</td>\n",
       "      <td>8.000000</td>\n",
       "      <td>5.015494</td>\n",
       "      <td>5.000000</td>\n",
       "      <td>1.040407</td>\n",
       "      <td>NaN</td>\n",
       "      <td>0</td>\n",
       "      <td>NaN</td>\n",
       "    </tr>\n",
       "    <tr>\n",
       "      <th>4</th>\n",
       "      <td>mix1Speed</td>\n",
       "      <td>2.000000</td>\n",
       "      <td>5.000000</td>\n",
       "      <td>3.504842</td>\n",
       "      <td>4.000000</td>\n",
       "      <td>0.966230</td>\n",
       "      <td>NaN</td>\n",
       "      <td>0</td>\n",
       "      <td>NaN</td>\n",
       "    </tr>\n",
       "    <tr>\n",
       "      <th>5</th>\n",
       "      <td>mix2Time</td>\n",
       "      <td>4.000000</td>\n",
       "      <td>8.000000</td>\n",
       "      <td>6.013557</td>\n",
       "      <td>6.000000</td>\n",
       "      <td>1.224934</td>\n",
       "      <td>NaN</td>\n",
       "      <td>0</td>\n",
       "      <td>NaN</td>\n",
       "    </tr>\n",
       "    <tr>\n",
       "      <th>6</th>\n",
       "      <td>mix2Speed</td>\n",
       "      <td>4.000000</td>\n",
       "      <td>6.000000</td>\n",
       "      <td>4.994190</td>\n",
       "      <td>5.000000</td>\n",
       "      <td>0.701119</td>\n",
       "      <td>NaN</td>\n",
       "      <td>0</td>\n",
       "      <td>NaN</td>\n",
       "    </tr>\n",
       "    <tr>\n",
       "      <th>7</th>\n",
       "      <td>water1Amt</td>\n",
       "      <td>268.331736</td>\n",
       "      <td>395.790293</td>\n",
       "      <td>330.706401</td>\n",
       "      <td>331.480975</td>\n",
       "      <td>19.516766</td>\n",
       "      <td>NaN</td>\n",
       "      <td>0</td>\n",
       "      <td>NaN</td>\n",
       "    </tr>\n",
       "    <tr>\n",
       "      <th>8</th>\n",
       "      <td>water2Amt</td>\n",
       "      <td>38.448332</td>\n",
       "      <td>203.987401</td>\n",
       "      <td>109.355151</td>\n",
       "      <td>109.574114</td>\n",
       "      <td>20.374032</td>\n",
       "      <td>NaN</td>\n",
       "      <td>0</td>\n",
       "      <td>NaN</td>\n",
       "    </tr>\n",
       "    <tr>\n",
       "      <th>9</th>\n",
       "      <td>waterTemp</td>\n",
       "      <td>40.000000</td>\n",
       "      <td>50.000000</td>\n",
       "      <td>45.092963</td>\n",
       "      <td>45.000000</td>\n",
       "      <td>2.964106</td>\n",
       "      <td>NaN</td>\n",
       "      <td>0</td>\n",
       "      <td>NaN</td>\n",
       "    </tr>\n",
       "    <tr>\n",
       "      <th>10</th>\n",
       "      <td>proveTime</td>\n",
       "      <td>82.915663</td>\n",
       "      <td>117.874698</td>\n",
       "      <td>99.977836</td>\n",
       "      <td>99.828096</td>\n",
       "      <td>5.010850</td>\n",
       "      <td>NaN</td>\n",
       "      <td>0</td>\n",
       "      <td>NaN</td>\n",
       "    </tr>\n",
       "    <tr>\n",
       "      <th>11</th>\n",
       "      <td>restTime</td>\n",
       "      <td>35.000000</td>\n",
       "      <td>45.000000</td>\n",
       "      <td>40.096837</td>\n",
       "      <td>40.000000</td>\n",
       "      <td>2.904095</td>\n",
       "      <td>NaN</td>\n",
       "      <td>0</td>\n",
       "      <td>NaN</td>\n",
       "    </tr>\n",
       "    <tr>\n",
       "      <th>12</th>\n",
       "      <td>bakeTime</td>\n",
       "      <td>20.000000</td>\n",
       "      <td>30.000000</td>\n",
       "      <td>24.970303</td>\n",
       "      <td>25.000000</td>\n",
       "      <td>2.876510</td>\n",
       "      <td>NaN</td>\n",
       "      <td>0</td>\n",
       "      <td>NaN</td>\n",
       "    </tr>\n",
       "    <tr>\n",
       "      <th>13</th>\n",
       "      <td>bakeTemp</td>\n",
       "      <td>378.625193</td>\n",
       "      <td>480.507141</td>\n",
       "      <td>425.285941</td>\n",
       "      <td>425.195338</td>\n",
       "      <td>14.821581</td>\n",
       "      <td>NaN</td>\n",
       "      <td>0</td>\n",
       "      <td>NaN</td>\n",
       "    </tr>\n",
       "    <tr>\n",
       "      <th>14</th>\n",
       "      <td>ambTemp</td>\n",
       "      <td>26.865483</td>\n",
       "      <td>88.808018</td>\n",
       "      <td>60.070079</td>\n",
       "      <td>60.257526</td>\n",
       "      <td>9.756458</td>\n",
       "      <td>NaN</td>\n",
       "      <td>0</td>\n",
       "      <td>NaN</td>\n",
       "    </tr>\n",
       "    <tr>\n",
       "      <th>15</th>\n",
       "      <td>ambHumidity</td>\n",
       "      <td>16.691853</td>\n",
       "      <td>84.217967</td>\n",
       "      <td>50.131318</td>\n",
       "      <td>50.448809</td>\n",
       "      <td>9.920345</td>\n",
       "      <td>NaN</td>\n",
       "      <td>0</td>\n",
       "      <td>NaN</td>\n",
       "    </tr>\n",
       "  </tbody>\n",
       "</table>\n",
       "</div>"
      ],
      "text/plain": [
       "          input         min         max        mean      median     stddev  \\\n",
       "0      flourAmt  464.112821  530.978400  499.647304  499.749350   9.979487   \n",
       "1       saltAmt    8.000000   12.000000   10.001291   10.000000   1.250839   \n",
       "2      yeastAmt    8.000000   12.000000    9.989025   10.000000   1.254144   \n",
       "3      mix1Time    2.000000    8.000000    5.015494    5.000000   1.040407   \n",
       "4     mix1Speed    2.000000    5.000000    3.504842    4.000000   0.966230   \n",
       "5      mix2Time    4.000000    8.000000    6.013557    6.000000   1.224934   \n",
       "6     mix2Speed    4.000000    6.000000    4.994190    5.000000   0.701119   \n",
       "7     water1Amt  268.331736  395.790293  330.706401  331.480975  19.516766   \n",
       "8     water2Amt   38.448332  203.987401  109.355151  109.574114  20.374032   \n",
       "9     waterTemp   40.000000   50.000000   45.092963   45.000000   2.964106   \n",
       "10    proveTime   82.915663  117.874698   99.977836   99.828096   5.010850   \n",
       "11     restTime   35.000000   45.000000   40.096837   40.000000   2.904095   \n",
       "12     bakeTime   20.000000   30.000000   24.970303   25.000000   2.876510   \n",
       "13     bakeTemp  378.625193  480.507141  425.285941  425.195338  14.821581   \n",
       "14      ambTemp   26.865483   88.808018   60.070079   60.257526   9.756458   \n",
       "15  ambHumidity   16.691853   84.217967   50.131318   50.448809   9.920345   \n",
       "\n",
       "    category_count  null_count  dimension  \n",
       "0              NaN           0        NaN  \n",
       "1              NaN           0        NaN  \n",
       "2              NaN           0        NaN  \n",
       "3              NaN           0        NaN  \n",
       "4              NaN           0        NaN  \n",
       "5              NaN           0        NaN  \n",
       "6              NaN           0        NaN  \n",
       "7              NaN           0        NaN  \n",
       "8              NaN           0        NaN  \n",
       "9              NaN           0        NaN  \n",
       "10             NaN           0        NaN  \n",
       "11             NaN           0        NaN  \n",
       "12             NaN           0        NaN  \n",
       "13             NaN           0        NaN  \n",
       "14             NaN           0        NaN  \n",
       "15             NaN           0        NaN  "
      ]
     },
     "execution_count": 164,
     "metadata": {},
     "output_type": "execute_result"
    }
   ],
   "source": [
    "bq.query(query = query).to_dataframe()"
   ]
  },
  {
   "cell_type": "markdown",
   "id": "321078f6-393a-4abd-9d5e-b2068a795068",
   "metadata": {},
   "source": [
    "Review the iterations from training with [ML.TRAINING_INFO](https://cloud.google.com/bigquery-ml/docs/reference/standard-sql/bigqueryml-syntax-train):"
   ]
  },
  {
   "cell_type": "code",
   "execution_count": 165,
   "id": "30eb40bd-3488-42de-b218-809d8f97bf83",
   "metadata": {},
   "outputs": [
    {
     "name": "stdout",
     "output_type": "stream",
     "text": [
      "\n",
      "    SELECT *\n",
      "    FROM ML.TRAINING_INFO(MODEL `statmike-mlops-349915.feature_engineering.03_feature_engineering_auto`)\n",
      "    ORDER BY iteration\n",
      "\n"
     ]
    }
   ],
   "source": [
    "query = f\"\"\"\n",
    "    SELECT *\n",
    "    FROM ML.TRAINING_INFO(MODEL `{BQ_PROJECT}.{BQ_DATASET}.{BQ_MODEL_AutoFeatureEng}`)\n",
    "    ORDER BY iteration\n",
    "\"\"\"\n",
    "print(query)"
   ]
  },
  {
   "cell_type": "code",
   "execution_count": 166,
   "id": "14d2757d",
   "metadata": {},
   "outputs": [
    {
     "data": {
      "text/html": [
       "<div>\n",
       "<style scoped>\n",
       "    .dataframe tbody tr th:only-of-type {\n",
       "        vertical-align: middle;\n",
       "    }\n",
       "\n",
       "    .dataframe tbody tr th {\n",
       "        vertical-align: top;\n",
       "    }\n",
       "\n",
       "    .dataframe thead th {\n",
       "        text-align: right;\n",
       "    }\n",
       "</style>\n",
       "<table border=\"1\" class=\"dataframe\">\n",
       "  <thead>\n",
       "    <tr style=\"text-align: right;\">\n",
       "      <th></th>\n",
       "      <th>training_run</th>\n",
       "      <th>iteration</th>\n",
       "      <th>loss</th>\n",
       "      <th>eval_loss</th>\n",
       "      <th>learning_rate</th>\n",
       "      <th>duration_ms</th>\n",
       "    </tr>\n",
       "  </thead>\n",
       "  <tbody>\n",
       "    <tr>\n",
       "      <th>0</th>\n",
       "      <td>0</td>\n",
       "      <td>0</td>\n",
       "      <td>92.968134</td>\n",
       "      <td>83.31308</td>\n",
       "      <td>NaN</td>\n",
       "      <td>2558</td>\n",
       "    </tr>\n",
       "  </tbody>\n",
       "</table>\n",
       "</div>"
      ],
      "text/plain": [
       "   training_run  iteration       loss  eval_loss  learning_rate  duration_ms\n",
       "0             0          0  92.968134   83.31308            NaN         2558"
      ]
     },
     "execution_count": 166,
     "metadata": {},
     "output_type": "execute_result"
    }
   ],
   "source": [
    "bq.query(query = query).to_dataframe()"
   ]
  },
  {
   "cell_type": "markdown",
   "id": "596380c5-83ac-41d5-9519-f4df0c35886c",
   "metadata": {},
   "source": [
    "### Model Metrics Review\n",
    "\n",
    "Review the model evaluation statistics with [ML.EVALUATE](https://cloud.google.com/bigquery-ml/docs/reference/standard-sql/bigqueryml-syntax-evaluate):"
   ]
  },
  {
   "cell_type": "code",
   "execution_count": 167,
   "id": "eb26a15e-0c6b-477b-b04d-c669aa77cd27",
   "metadata": {},
   "outputs": [
    {
     "name": "stdout",
     "output_type": "stream",
     "text": [
      "\n",
      "    SELECT * FROM ML.EVALUATE(MODEL `statmike-mlops-349915.feature_engineering.03_feature_engineering_auto`)\n",
      "\n"
     ]
    }
   ],
   "source": [
    "query = f\"\"\"\n",
    "    SELECT * FROM ML.EVALUATE(MODEL `{BQ_PROJECT}.{BQ_DATASET}.{BQ_MODEL_AutoFeatureEng}`)\n",
    "\"\"\"\n",
    "print(query)"
   ]
  },
  {
   "cell_type": "code",
   "execution_count": 168,
   "id": "d1cffa5b-42e4-4960-a55f-1ccade693b89",
   "metadata": {},
   "outputs": [
    {
     "data": {
      "text/html": [
       "<div>\n",
       "<style scoped>\n",
       "    .dataframe tbody tr th:only-of-type {\n",
       "        vertical-align: middle;\n",
       "    }\n",
       "\n",
       "    .dataframe tbody tr th {\n",
       "        vertical-align: top;\n",
       "    }\n",
       "\n",
       "    .dataframe thead th {\n",
       "        text-align: right;\n",
       "    }\n",
       "</style>\n",
       "<table border=\"1\" class=\"dataframe\">\n",
       "  <thead>\n",
       "    <tr style=\"text-align: right;\">\n",
       "      <th></th>\n",
       "      <th>mean_absolute_error</th>\n",
       "      <th>mean_squared_error</th>\n",
       "      <th>mean_squared_log_error</th>\n",
       "      <th>median_absolute_error</th>\n",
       "      <th>r2_score</th>\n",
       "      <th>explained_variance</th>\n",
       "    </tr>\n",
       "  </thead>\n",
       "  <tbody>\n",
       "    <tr>\n",
       "      <th>0</th>\n",
       "      <td>7.29055</td>\n",
       "      <td>83.31308</td>\n",
       "      <td>0.01629</td>\n",
       "      <td>6.148888</td>\n",
       "      <td>0.075272</td>\n",
       "      <td>0.07911</td>\n",
       "    </tr>\n",
       "  </tbody>\n",
       "</table>\n",
       "</div>"
      ],
      "text/plain": [
       "   mean_absolute_error  mean_squared_error  mean_squared_log_error  \\\n",
       "0              7.29055            83.31308                 0.01629   \n",
       "\n",
       "   median_absolute_error  r2_score  explained_variance  \n",
       "0               6.148888  0.075272             0.07911  "
      ]
     },
     "execution_count": 168,
     "metadata": {},
     "output_type": "execute_result"
    }
   ],
   "source": [
    "bq.query(query = query).to_dataframe()"
   ]
  },
  {
   "cell_type": "markdown",
   "id": "3d5bafb8-a1b2-41cf-9620-0bff64a96379",
   "metadata": {},
   "source": [
    "### Global Explainability - What is important to Judges?\n",
    "\n",
    "Retrieve the influence of each feature on the model with [ML.GLOBAL_EXPLAIN](https://cloud.google.com/bigquery-ml/docs/reference/standard-sql/bigqueryml-syntax-global-explain).  "
   ]
  },
  {
   "cell_type": "code",
   "execution_count": 169,
   "id": "dcb5576e-d0b7-464d-a2f0-8b566d41b18c",
   "metadata": {},
   "outputs": [
    {
     "name": "stdout",
     "output_type": "stream",
     "text": [
      "\n",
      "    SELECT *\n",
      "    FROM ML.GLOBAL_EXPLAIN (MODEL `statmike-mlops-349915.feature_engineering.03_feature_engineering_auto`)\n",
      "\n"
     ]
    }
   ],
   "source": [
    "query = f\"\"\"\n",
    "    SELECT *\n",
    "    FROM ML.GLOBAL_EXPLAIN (MODEL `{BQ_PROJECT}.{BQ_DATASET}.{BQ_MODEL_AutoFeatureEng}`)\n",
    "\"\"\"\n",
    "print(query)"
   ]
  },
  {
   "cell_type": "code",
   "execution_count": 170,
   "id": "e14d4341-75b8-4cb9-a80b-bb2d9b15daae",
   "metadata": {},
   "outputs": [
    {
     "data": {
      "text/html": [
       "<div>\n",
       "<style scoped>\n",
       "    .dataframe tbody tr th:only-of-type {\n",
       "        vertical-align: middle;\n",
       "    }\n",
       "\n",
       "    .dataframe tbody tr th {\n",
       "        vertical-align: top;\n",
       "    }\n",
       "\n",
       "    .dataframe thead th {\n",
       "        text-align: right;\n",
       "    }\n",
       "</style>\n",
       "<table border=\"1\" class=\"dataframe\">\n",
       "  <thead>\n",
       "    <tr style=\"text-align: right;\">\n",
       "      <th></th>\n",
       "      <th>feature</th>\n",
       "      <th>attribution</th>\n",
       "    </tr>\n",
       "  </thead>\n",
       "  <tbody>\n",
       "    <tr>\n",
       "      <th>0</th>\n",
       "      <td>bakeTemp</td>\n",
       "      <td>1.938811</td>\n",
       "    </tr>\n",
       "    <tr>\n",
       "      <th>1</th>\n",
       "      <td>mix2Time</td>\n",
       "      <td>0.797724</td>\n",
       "    </tr>\n",
       "    <tr>\n",
       "      <th>2</th>\n",
       "      <td>flourAmt</td>\n",
       "      <td>0.347832</td>\n",
       "    </tr>\n",
       "    <tr>\n",
       "      <th>3</th>\n",
       "      <td>ambTemp</td>\n",
       "      <td>0.311023</td>\n",
       "    </tr>\n",
       "    <tr>\n",
       "      <th>4</th>\n",
       "      <td>proveTime</td>\n",
       "      <td>0.281200</td>\n",
       "    </tr>\n",
       "    <tr>\n",
       "      <th>5</th>\n",
       "      <td>mix1Time</td>\n",
       "      <td>0.248369</td>\n",
       "    </tr>\n",
       "    <tr>\n",
       "      <th>6</th>\n",
       "      <td>mix1Speed</td>\n",
       "      <td>0.240589</td>\n",
       "    </tr>\n",
       "    <tr>\n",
       "      <th>7</th>\n",
       "      <td>restTime</td>\n",
       "      <td>0.230420</td>\n",
       "    </tr>\n",
       "    <tr>\n",
       "      <th>8</th>\n",
       "      <td>waterTemp</td>\n",
       "      <td>0.208866</td>\n",
       "    </tr>\n",
       "    <tr>\n",
       "      <th>9</th>\n",
       "      <td>saltAmt</td>\n",
       "      <td>0.155063</td>\n",
       "    </tr>\n",
       "    <tr>\n",
       "      <th>10</th>\n",
       "      <td>water1Amt</td>\n",
       "      <td>0.128250</td>\n",
       "    </tr>\n",
       "    <tr>\n",
       "      <th>11</th>\n",
       "      <td>mix2Speed</td>\n",
       "      <td>0.041427</td>\n",
       "    </tr>\n",
       "    <tr>\n",
       "      <th>12</th>\n",
       "      <td>ambHumidity</td>\n",
       "      <td>0.029741</td>\n",
       "    </tr>\n",
       "    <tr>\n",
       "      <th>13</th>\n",
       "      <td>yeastAmt</td>\n",
       "      <td>0.029680</td>\n",
       "    </tr>\n",
       "    <tr>\n",
       "      <th>14</th>\n",
       "      <td>bakeTime</td>\n",
       "      <td>0.027568</td>\n",
       "    </tr>\n",
       "    <tr>\n",
       "      <th>15</th>\n",
       "      <td>water2Amt</td>\n",
       "      <td>0.024911</td>\n",
       "    </tr>\n",
       "  </tbody>\n",
       "</table>\n",
       "</div>"
      ],
      "text/plain": [
       "        feature  attribution\n",
       "0      bakeTemp     1.938811\n",
       "1      mix2Time     0.797724\n",
       "2      flourAmt     0.347832\n",
       "3       ambTemp     0.311023\n",
       "4     proveTime     0.281200\n",
       "5      mix1Time     0.248369\n",
       "6     mix1Speed     0.240589\n",
       "7      restTime     0.230420\n",
       "8     waterTemp     0.208866\n",
       "9       saltAmt     0.155063\n",
       "10    water1Amt     0.128250\n",
       "11    mix2Speed     0.041427\n",
       "12  ambHumidity     0.029741\n",
       "13     yeastAmt     0.029680\n",
       "14     bakeTime     0.027568\n",
       "15    water2Amt     0.024911"
      ]
     },
     "execution_count": 170,
     "metadata": {},
     "output_type": "execute_result"
    }
   ],
   "source": [
    "gexplain = bq.query(query = query).to_dataframe()\n",
    "gexplain"
   ]
  },
  {
   "cell_type": "markdown",
   "id": "3f2564d7-d386-4176-9d55-d6fa477eda19",
   "metadata": {},
   "source": [
    "Plot the attribution:"
   ]
  },
  {
   "cell_type": "code",
   "execution_count": 171,
   "id": "6cbc28ff-f088-4b80-a78e-75f4322c4655",
   "metadata": {},
   "outputs": [
    {
     "data": {
      "image/png": "[encoded data removed]",
      "text/plain": [
       "<Figure size 1080x576 with 1 Axes>"
      ]
     },
     "metadata": {
      "needs_background": "light"
     },
     "output_type": "display_data"
    }
   ],
   "source": [
    "plt.figure(figsize=(15,8))\n",
    "plt.barh(gexplain['feature'], gexplain['attribution'])\n",
    "plt.title('Global Influence')\n",
    "plt.xlabel('Attribution')\n",
    "#plt.ylabel('Feature')\n",
    "plt.show()"
   ]
  },
  {
   "cell_type": "markdown",
   "id": "1eaffa75-66b8-4f5a-a302-7a5dd8a92750",
   "metadata": {},
   "source": [
    "### Predictions With BigQuery ML (BQML)\n",
    "\n",
    "Create a pandas dataframe with retrieved predictions for the test data in the table using [ML.PREDICT](https://cloud.google.com/bigquery-ml/docs/reference/standard-sql/bigqueryml-syntax-predict):"
   ]
  },
  {
   "cell_type": "code",
   "execution_count": 172,
   "id": "c1026525-9173-4a89-b055-c49ad6216a48",
   "metadata": {},
   "outputs": [
    {
     "name": "stdout",
     "output_type": "stream",
     "text": [
      "\n",
      "    SELECT Recipe, JUDGE_A, predicted_JUDGE_A, JUDGE_A-predicted_JUDGE_A as Error\n",
      "    FROM ML.PREDICT (MODEL `statmike-mlops-349915.feature_engineering.03_feature_engineering_auto`,(\n",
      "        SELECT *\n",
      "        FROM `statmike-mlops-349915.feature_engineering.bread`\n",
      "        WHERE Recipe <= 10)\n",
      "    )\n",
      "    ORDER BY Recipe\n",
      "\n"
     ]
    }
   ],
   "source": [
    "query = f\"\"\"\n",
    "    SELECT Recipe, JUDGE_A, predicted_JUDGE_A, JUDGE_A-predicted_JUDGE_A as Error\n",
    "    FROM ML.PREDICT (MODEL `{BQ_PROJECT}.{BQ_DATASET}.{BQ_MODEL_AutoFeatureEng}`,(\n",
    "        SELECT *\n",
    "        FROM `{BQ_PROJECT}.{BQ_DATASET}.{BQ_TABLE}`\n",
    "        WHERE Recipe <= 10)\n",
    "    )\n",
    "    ORDER BY Recipe\n",
    "\"\"\"\n",
    "print(query)"
   ]
  },
  {
   "cell_type": "code",
   "execution_count": 173,
   "id": "1810030f-a492-429c-8730-1833b1d7a6f9",
   "metadata": {},
   "outputs": [
    {
     "data": {
      "text/html": [
       "<div>\n",
       "<style scoped>\n",
       "    .dataframe tbody tr th:only-of-type {\n",
       "        vertical-align: middle;\n",
       "    }\n",
       "\n",
       "    .dataframe tbody tr th {\n",
       "        vertical-align: top;\n",
       "    }\n",
       "\n",
       "    .dataframe thead th {\n",
       "        text-align: right;\n",
       "    }\n",
       "</style>\n",
       "<table border=\"1\" class=\"dataframe\">\n",
       "  <thead>\n",
       "    <tr style=\"text-align: right;\">\n",
       "      <th></th>\n",
       "      <th>Recipe</th>\n",
       "      <th>JUDGE_A</th>\n",
       "      <th>predicted_JUDGE_A</th>\n",
       "      <th>Error</th>\n",
       "    </tr>\n",
       "  </thead>\n",
       "  <tbody>\n",
       "    <tr>\n",
       "      <th>0</th>\n",
       "      <td>1</td>\n",
       "      <td>71.0</td>\n",
       "      <td>77.750943</td>\n",
       "      <td>-6.750943</td>\n",
       "    </tr>\n",
       "    <tr>\n",
       "      <th>1</th>\n",
       "      <td>2</td>\n",
       "      <td>79.0</td>\n",
       "      <td>74.605404</td>\n",
       "      <td>4.394596</td>\n",
       "    </tr>\n",
       "    <tr>\n",
       "      <th>2</th>\n",
       "      <td>3</td>\n",
       "      <td>53.0</td>\n",
       "      <td>69.851645</td>\n",
       "      <td>-16.851645</td>\n",
       "    </tr>\n",
       "    <tr>\n",
       "      <th>3</th>\n",
       "      <td>4</td>\n",
       "      <td>82.0</td>\n",
       "      <td>74.417524</td>\n",
       "      <td>7.582476</td>\n",
       "    </tr>\n",
       "    <tr>\n",
       "      <th>4</th>\n",
       "      <td>5</td>\n",
       "      <td>81.0</td>\n",
       "      <td>72.329586</td>\n",
       "      <td>8.670414</td>\n",
       "    </tr>\n",
       "    <tr>\n",
       "      <th>5</th>\n",
       "      <td>6</td>\n",
       "      <td>88.0</td>\n",
       "      <td>74.539471</td>\n",
       "      <td>13.460529</td>\n",
       "    </tr>\n",
       "    <tr>\n",
       "      <th>6</th>\n",
       "      <td>7</td>\n",
       "      <td>89.0</td>\n",
       "      <td>74.266799</td>\n",
       "      <td>14.733201</td>\n",
       "    </tr>\n",
       "    <tr>\n",
       "      <th>7</th>\n",
       "      <td>8</td>\n",
       "      <td>77.0</td>\n",
       "      <td>70.969831</td>\n",
       "      <td>6.030169</td>\n",
       "    </tr>\n",
       "    <tr>\n",
       "      <th>8</th>\n",
       "      <td>9</td>\n",
       "      <td>68.0</td>\n",
       "      <td>72.955988</td>\n",
       "      <td>-4.955988</td>\n",
       "    </tr>\n",
       "    <tr>\n",
       "      <th>9</th>\n",
       "      <td>10</td>\n",
       "      <td>77.0</td>\n",
       "      <td>76.121334</td>\n",
       "      <td>0.878666</td>\n",
       "    </tr>\n",
       "  </tbody>\n",
       "</table>\n",
       "</div>"
      ],
      "text/plain": [
       "   Recipe  JUDGE_A  predicted_JUDGE_A      Error\n",
       "0       1     71.0          77.750943  -6.750943\n",
       "1       2     79.0          74.605404   4.394596\n",
       "2       3     53.0          69.851645 -16.851645\n",
       "3       4     82.0          74.417524   7.582476\n",
       "4       5     81.0          72.329586   8.670414\n",
       "5       6     88.0          74.539471  13.460529\n",
       "6       7     89.0          74.266799  14.733201\n",
       "7       8     77.0          70.969831   6.030169\n",
       "8       9     68.0          72.955988  -4.955988\n",
       "9      10     77.0          76.121334   0.878666"
      ]
     },
     "execution_count": 173,
     "metadata": {},
     "output_type": "execute_result"
    }
   ],
   "source": [
    "bq.query(query = query).to_dataframe()"
   ]
  },
  {
   "cell_type": "markdown",
   "id": "a7e2e696-8c53-4fde-9e81-a105779b9a1d",
   "metadata": {},
   "source": [
    "### Local Explainability - What impacted the judges rating?\n",
    "\n",
    "Retrieve feature attribution values to interpret each features contribution to a prediction relative to the baseline prediction using [ML.EXPLAIN_PREDICT](https://cloud.google.com/bigquery-ml/docs/reference/standard-sql/bigqueryml-syntax-explain-predict)."
   ]
  },
  {
   "cell_type": "code",
   "execution_count": 174,
   "id": "65f4d5d9-7ff7-4017-82a9-c256482e6bee",
   "metadata": {},
   "outputs": [
    {
     "name": "stdout",
     "output_type": "stream",
     "text": [
      "\n",
      "    SELECT *\n",
      "    FROM ML.EXPLAIN_PREDICT (MODEL `statmike-mlops-349915.feature_engineering.03_feature_engineering_auto`,(\n",
      "        SELECT *\n",
      "        FROM `statmike-mlops-349915.feature_engineering.bread`\n",
      "        WHERE Recipe <= 10)\n",
      "    )\n",
      "    ORDER BY Recipe\n",
      "\n"
     ]
    }
   ],
   "source": [
    "query = f\"\"\"\n",
    "    SELECT *\n",
    "    FROM ML.EXPLAIN_PREDICT (MODEL `{BQ_PROJECT}.{BQ_DATASET}.{BQ_MODEL_AutoFeatureEng}`,(\n",
    "        SELECT *\n",
    "        FROM `{BQ_PROJECT}.{BQ_DATASET}.{BQ_TABLE}`\n",
    "        WHERE Recipe <= 10)\n",
    "    )\n",
    "    ORDER BY Recipe\n",
    "\"\"\"\n",
    "print(query)"
   ]
  },
  {
   "cell_type": "code",
   "execution_count": 175,
   "id": "953ff88f-244a-44f4-8a1f-a9be77b79ee3",
   "metadata": {},
   "outputs": [
    {
     "data": {
      "text/html": [
       "<div>\n",
       "<style scoped>\n",
       "    .dataframe tbody tr th:only-of-type {\n",
       "        vertical-align: middle;\n",
       "    }\n",
       "\n",
       "    .dataframe tbody tr th {\n",
       "        vertical-align: top;\n",
       "    }\n",
       "\n",
       "    .dataframe thead th {\n",
       "        text-align: right;\n",
       "    }\n",
       "</style>\n",
       "<table border=\"1\" class=\"dataframe\">\n",
       "  <thead>\n",
       "    <tr style=\"text-align: right;\">\n",
       "      <th></th>\n",
       "      <th>predicted_JUDGE_A</th>\n",
       "      <th>top_feature_attributions</th>\n",
       "      <th>baseline_prediction_value</th>\n",
       "      <th>prediction_value</th>\n",
       "      <th>approximation_error</th>\n",
       "      <th>Recipe</th>\n",
       "      <th>flourAmt</th>\n",
       "      <th>saltAmt</th>\n",
       "      <th>yeastAmt</th>\n",
       "      <th>mix1Time</th>\n",
       "      <th>...</th>\n",
       "      <th>water2Amt</th>\n",
       "      <th>waterTemp</th>\n",
       "      <th>proveTime</th>\n",
       "      <th>restTime</th>\n",
       "      <th>bakeTime</th>\n",
       "      <th>bakeTemp</th>\n",
       "      <th>ambTemp</th>\n",
       "      <th>ambHumidity</th>\n",
       "      <th>JUDGE_A</th>\n",
       "      <th>JUDGE_B</th>\n",
       "    </tr>\n",
       "  </thead>\n",
       "  <tbody>\n",
       "    <tr>\n",
       "      <th>0</th>\n",
       "      <td>77.750943</td>\n",
       "      <td>[{'feature': 'bakeTemp', 'attribution': 2.6367...</td>\n",
       "      <td>74.961265</td>\n",
       "      <td>77.750943</td>\n",
       "      <td>0.0</td>\n",
       "      <td>1</td>\n",
       "      <td>515.710025</td>\n",
       "      <td>10</td>\n",
       "      <td>12</td>\n",
       "      <td>6</td>\n",
       "      <td>...</td>\n",
       "      <td>101.479618</td>\n",
       "      <td>50</td>\n",
       "      <td>98.584704</td>\n",
       "      <td>44</td>\n",
       "      <td>24</td>\n",
       "      <td>409.507253</td>\n",
       "      <td>63.164014</td>\n",
       "      <td>75.458039</td>\n",
       "      <td>71.0</td>\n",
       "      <td>59.0</td>\n",
       "    </tr>\n",
       "    <tr>\n",
       "      <th>1</th>\n",
       "      <td>74.605404</td>\n",
       "      <td>[{'feature': 'mix2Time', 'attribution': -1.565...</td>\n",
       "      <td>74.961265</td>\n",
       "      <td>74.605404</td>\n",
       "      <td>0.0</td>\n",
       "      <td>2</td>\n",
       "      <td>510.229955</td>\n",
       "      <td>8</td>\n",
       "      <td>9</td>\n",
       "      <td>5</td>\n",
       "      <td>...</td>\n",
       "      <td>68.762720</td>\n",
       "      <td>48</td>\n",
       "      <td>98.365636</td>\n",
       "      <td>41</td>\n",
       "      <td>24</td>\n",
       "      <td>424.228722</td>\n",
       "      <td>77.737096</td>\n",
       "      <td>58.761221</td>\n",
       "      <td>79.0</td>\n",
       "      <td>69.0</td>\n",
       "    </tr>\n",
       "    <tr>\n",
       "      <th>2</th>\n",
       "      <td>69.851645</td>\n",
       "      <td>[{'feature': 'bakeTemp', 'attribution': -5.663...</td>\n",
       "      <td>74.961265</td>\n",
       "      <td>69.851645</td>\n",
       "      <td>0.0</td>\n",
       "      <td>3</td>\n",
       "      <td>500.813411</td>\n",
       "      <td>12</td>\n",
       "      <td>8</td>\n",
       "      <td>3</td>\n",
       "      <td>...</td>\n",
       "      <td>104.893521</td>\n",
       "      <td>41</td>\n",
       "      <td>105.269647</td>\n",
       "      <td>38</td>\n",
       "      <td>23</td>\n",
       "      <td>459.174852</td>\n",
       "      <td>57.744401</td>\n",
       "      <td>54.538288</td>\n",
       "      <td>53.0</td>\n",
       "      <td>35.0</td>\n",
       "    </tr>\n",
       "    <tr>\n",
       "      <th>3</th>\n",
       "      <td>74.417524</td>\n",
       "      <td>[{'feature': 'bakeTemp', 'attribution': 0.9635...</td>\n",
       "      <td>74.961265</td>\n",
       "      <td>74.417524</td>\n",
       "      <td>0.0</td>\n",
       "      <td>4</td>\n",
       "      <td>500.277923</td>\n",
       "      <td>11</td>\n",
       "      <td>9</td>\n",
       "      <td>5</td>\n",
       "      <td>...</td>\n",
       "      <td>132.600885</td>\n",
       "      <td>43</td>\n",
       "      <td>99.702199</td>\n",
       "      <td>35</td>\n",
       "      <td>24</td>\n",
       "      <td>419.520278</td>\n",
       "      <td>59.933839</td>\n",
       "      <td>40.976870</td>\n",
       "      <td>82.0</td>\n",
       "      <td>73.0</td>\n",
       "    </tr>\n",
       "    <tr>\n",
       "      <th>4</th>\n",
       "      <td>72.329586</td>\n",
       "      <td>[{'feature': 'mix2Time', 'attribution': -1.565...</td>\n",
       "      <td>74.961265</td>\n",
       "      <td>72.329586</td>\n",
       "      <td>0.0</td>\n",
       "      <td>5</td>\n",
       "      <td>491.856284</td>\n",
       "      <td>10</td>\n",
       "      <td>11</td>\n",
       "      <td>4</td>\n",
       "      <td>...</td>\n",
       "      <td>116.457938</td>\n",
       "      <td>40</td>\n",
       "      <td>99.173690</td>\n",
       "      <td>38</td>\n",
       "      <td>28</td>\n",
       "      <td>427.263140</td>\n",
       "      <td>40.737932</td>\n",
       "      <td>64.427165</td>\n",
       "      <td>81.0</td>\n",
       "      <td>71.0</td>\n",
       "    </tr>\n",
       "    <tr>\n",
       "      <th>5</th>\n",
       "      <td>74.539471</td>\n",
       "      <td>[{'feature': 'mix2Time', 'attribution': 0.7669...</td>\n",
       "      <td>74.961265</td>\n",
       "      <td>74.539471</td>\n",
       "      <td>0.0</td>\n",
       "      <td>6</td>\n",
       "      <td>493.063988</td>\n",
       "      <td>12</td>\n",
       "      <td>8</td>\n",
       "      <td>5</td>\n",
       "      <td>...</td>\n",
       "      <td>120.715632</td>\n",
       "      <td>47</td>\n",
       "      <td>102.114559</td>\n",
       "      <td>40</td>\n",
       "      <td>24</td>\n",
       "      <td>426.026718</td>\n",
       "      <td>60.912058</td>\n",
       "      <td>55.199282</td>\n",
       "      <td>88.0</td>\n",
       "      <td>80.0</td>\n",
       "    </tr>\n",
       "    <tr>\n",
       "      <th>6</th>\n",
       "      <td>74.266799</td>\n",
       "      <td>[{'feature': 'bakeTemp', 'attribution': -0.972...</td>\n",
       "      <td>74.961265</td>\n",
       "      <td>74.266799</td>\n",
       "      <td>0.0</td>\n",
       "      <td>7</td>\n",
       "      <td>503.982604</td>\n",
       "      <td>10</td>\n",
       "      <td>11</td>\n",
       "      <td>4</td>\n",
       "      <td>...</td>\n",
       "      <td>107.750399</td>\n",
       "      <td>47</td>\n",
       "      <td>101.399840</td>\n",
       "      <td>40</td>\n",
       "      <td>25</td>\n",
       "      <td>431.105618</td>\n",
       "      <td>54.720015</td>\n",
       "      <td>59.111548</td>\n",
       "      <td>89.0</td>\n",
       "      <td>83.0</td>\n",
       "    </tr>\n",
       "    <tr>\n",
       "      <th>7</th>\n",
       "      <td>70.969831</td>\n",
       "      <td>[{'feature': 'bakeTemp', 'attribution': -2.785...</td>\n",
       "      <td>74.961265</td>\n",
       "      <td>70.969831</td>\n",
       "      <td>0.0</td>\n",
       "      <td>8</td>\n",
       "      <td>499.619726</td>\n",
       "      <td>9</td>\n",
       "      <td>10</td>\n",
       "      <td>5</td>\n",
       "      <td>...</td>\n",
       "      <td>110.992850</td>\n",
       "      <td>45</td>\n",
       "      <td>98.659767</td>\n",
       "      <td>35</td>\n",
       "      <td>26</td>\n",
       "      <td>441.954393</td>\n",
       "      <td>72.423100</td>\n",
       "      <td>33.424169</td>\n",
       "      <td>77.0</td>\n",
       "      <td>67.0</td>\n",
       "    </tr>\n",
       "    <tr>\n",
       "      <th>8</th>\n",
       "      <td>72.955988</td>\n",
       "      <td>[{'feature': 'bakeTemp', 'attribution': -2.618...</td>\n",
       "      <td>74.961265</td>\n",
       "      <td>72.955988</td>\n",
       "      <td>0.0</td>\n",
       "      <td>9</td>\n",
       "      <td>506.406780</td>\n",
       "      <td>11</td>\n",
       "      <td>12</td>\n",
       "      <td>5</td>\n",
       "      <td>...</td>\n",
       "      <td>115.882326</td>\n",
       "      <td>44</td>\n",
       "      <td>100.435276</td>\n",
       "      <td>44</td>\n",
       "      <td>28</td>\n",
       "      <td>440.953997</td>\n",
       "      <td>65.394566</td>\n",
       "      <td>45.638277</td>\n",
       "      <td>68.0</td>\n",
       "      <td>55.0</td>\n",
       "    </tr>\n",
       "    <tr>\n",
       "      <th>9</th>\n",
       "      <td>76.121334</td>\n",
       "      <td>[{'feature': 'bakeTemp', 'attribution': 1.1854...</td>\n",
       "      <td>74.961265</td>\n",
       "      <td>76.121334</td>\n",
       "      <td>0.0</td>\n",
       "      <td>10</td>\n",
       "      <td>506.773735</td>\n",
       "      <td>11</td>\n",
       "      <td>10</td>\n",
       "      <td>5</td>\n",
       "      <td>...</td>\n",
       "      <td>74.209764</td>\n",
       "      <td>43</td>\n",
       "      <td>105.723266</td>\n",
       "      <td>40</td>\n",
       "      <td>22</td>\n",
       "      <td>418.192330</td>\n",
       "      <td>58.959353</td>\n",
       "      <td>55.853933</td>\n",
       "      <td>77.0</td>\n",
       "      <td>66.0</td>\n",
       "    </tr>\n",
       "  </tbody>\n",
       "</table>\n",
       "<p>10 rows × 24 columns</p>\n",
       "</div>"
      ],
      "text/plain": [
       "   predicted_JUDGE_A                           top_feature_attributions  \\\n",
       "0          77.750943  [{'feature': 'bakeTemp', 'attribution': 2.6367...   \n",
       "1          74.605404  [{'feature': 'mix2Time', 'attribution': -1.565...   \n",
       "2          69.851645  [{'feature': 'bakeTemp', 'attribution': -5.663...   \n",
       "3          74.417524  [{'feature': 'bakeTemp', 'attribution': 0.9635...   \n",
       "4          72.329586  [{'feature': 'mix2Time', 'attribution': -1.565...   \n",
       "5          74.539471  [{'feature': 'mix2Time', 'attribution': 0.7669...   \n",
       "6          74.266799  [{'feature': 'bakeTemp', 'attribution': -0.972...   \n",
       "7          70.969831  [{'feature': 'bakeTemp', 'attribution': -2.785...   \n",
       "8          72.955988  [{'feature': 'bakeTemp', 'attribution': -2.618...   \n",
       "9          76.121334  [{'feature': 'bakeTemp', 'attribution': 1.1854...   \n",
       "\n",
       "   baseline_prediction_value  prediction_value  approximation_error  Recipe  \\\n",
       "0                  74.961265         77.750943                  0.0       1   \n",
       "1                  74.961265         74.605404                  0.0       2   \n",
       "2                  74.961265         69.851645                  0.0       3   \n",
       "3                  74.961265         74.417524                  0.0       4   \n",
       "4                  74.961265         72.329586                  0.0       5   \n",
       "5                  74.961265         74.539471                  0.0       6   \n",
       "6                  74.961265         74.266799                  0.0       7   \n",
       "7                  74.961265         70.969831                  0.0       8   \n",
       "8                  74.961265         72.955988                  0.0       9   \n",
       "9                  74.961265         76.121334                  0.0      10   \n",
       "\n",
       "     flourAmt  saltAmt  yeastAmt  mix1Time  ...   water2Amt  waterTemp  \\\n",
       "0  515.710025       10        12         6  ...  101.479618         50   \n",
       "1  510.229955        8         9         5  ...   68.762720         48   \n",
       "2  500.813411       12         8         3  ...  104.893521         41   \n",
       "3  500.277923       11         9         5  ...  132.600885         43   \n",
       "4  491.856284       10        11         4  ...  116.457938         40   \n",
       "5  493.063988       12         8         5  ...  120.715632         47   \n",
       "6  503.982604       10        11         4  ...  107.750399         47   \n",
       "7  499.619726        9        10         5  ...  110.992850         45   \n",
       "8  506.406780       11        12         5  ...  115.882326         44   \n",
       "9  506.773735       11        10         5  ...   74.209764         43   \n",
       "\n",
       "    proveTime  restTime  bakeTime    bakeTemp    ambTemp  ambHumidity  \\\n",
       "0   98.584704        44        24  409.507253  63.164014    75.458039   \n",
       "1   98.365636        41        24  424.228722  77.737096    58.761221   \n",
       "2  105.269647        38        23  459.174852  57.744401    54.538288   \n",
       "3   99.702199        35        24  419.520278  59.933839    40.976870   \n",
       "4   99.173690        38        28  427.263140  40.737932    64.427165   \n",
       "5  102.114559        40        24  426.026718  60.912058    55.199282   \n",
       "6  101.399840        40        25  431.105618  54.720015    59.111548   \n",
       "7   98.659767        35        26  441.954393  72.423100    33.424169   \n",
       "8  100.435276        44        28  440.953997  65.394566    45.638277   \n",
       "9  105.723266        40        22  418.192330  58.959353    55.853933   \n",
       "\n",
       "   JUDGE_A  JUDGE_B  \n",
       "0     71.0     59.0  \n",
       "1     79.0     69.0  \n",
       "2     53.0     35.0  \n",
       "3     82.0     73.0  \n",
       "4     81.0     71.0  \n",
       "5     88.0     80.0  \n",
       "6     89.0     83.0  \n",
       "7     77.0     67.0  \n",
       "8     68.0     55.0  \n",
       "9     77.0     66.0  \n",
       "\n",
       "[10 rows x 24 columns]"
      ]
     },
     "execution_count": 175,
     "metadata": {},
     "output_type": "execute_result"
    }
   ],
   "source": [
    "explain = bq.query(query = query).to_dataframe()\n",
    "explain"
   ]
  },
  {
   "cell_type": "markdown",
   "id": "5ce8efde-7ef7-447b-bf69-5fb5b918f674",
   "metadata": {},
   "source": [
    "Create a plot of feature attributions for a single prediction:"
   ]
  },
  {
   "cell_type": "code",
   "execution_count": 176,
   "id": "d9d6f625-5d5b-4017-b7b0-ccb59148ee62",
   "metadata": {},
   "outputs": [],
   "source": [
    "recipe = 1\n",
    "explanation = explain.iloc[recipe-1]['top_feature_attributions']"
   ]
  },
  {
   "cell_type": "code",
   "execution_count": 177,
   "id": "3645d9e5-b411-40f2-953a-c45a2c160664",
   "metadata": {},
   "outputs": [
    {
     "data": {
      "image/png": "[encoded data removed]",
      "text/plain": [
       "<Figure size 1080x360 with 1 Axes>"
      ]
     },
     "metadata": {
      "needs_background": "light"
     },
     "output_type": "display_data"
    }
   ],
   "source": [
    "features = []\n",
    "scores = []\n",
    "for k in explanation:\n",
    "    features.append(k['feature'])\n",
    "    scores.append(k['attribution'])\n",
    "features = [x for _, x in sorted(zip(scores, features))]\n",
    "scores = sorted(scores)\n",
    "\n",
    "plt.figure(figsize=(15,5))\n",
    "plt.barh(features, scores)\n",
    "plt.title(f'Feature Attribution for Prediction - Recipe {recipe}')\n",
    "plt.show()"
   ]
  },
  {
   "cell_type": "markdown",
   "id": "01705331-bb4a-48b0-93eb-e352623afd21",
   "metadata": {},
   "source": [
    "### Check out this model in the BigQuery Console:\n",
    "- Make sure project selected is the one from this notebook\n",
    "- Under Explore, expand this project and dataset\n",
    "- Expand Models and select the model create here"
   ]
  },
  {
   "cell_type": "code",
   "execution_count": 178,
   "id": "a70136c5-da05-4083-b45e-1c19d4a32c3c",
   "metadata": {},
   "outputs": [
    {
     "name": "stdout",
     "output_type": "stream",
     "text": [
      "Direct link to the model in BigQuery:\n",
      "https://console.cloud.google.com/bigquery?project=statmike-mlops-349915&ws=!1m5!1m4!5m3!1sstatmike-mlops-349915!2sfeature_engineering!3s03_feature_engineering_auto\n"
     ]
    }
   ],
   "source": [
    "print(f'Direct link to the model in BigQuery:\\nhttps://console.cloud.google.com/bigquery?project={PROJECT_ID}&ws=!1m5!1m4!5m3!1s{PROJECT_ID}!2s{BQ_DATASET}!3s{BQ_MODEL_AutoFeatureEng}')"
   ]
  },
  {
   "cell_type": "markdown",
   "id": "553756fc-8889-4311-8b03-b20a6f9bec87",
   "metadata": {},
   "source": [
    "### Check out this model in the Vertex AI Console:\n",
    "- Make sure project selected is the one from this notebook\n",
    "- Make sure the region is `europe-west4` (default when BQ is `EU` multiregion)"
   ]
  },
  {
   "cell_type": "code",
   "execution_count": 179,
   "id": "54f34a5a-f5e4-43af-b68b-76c95cba0860",
   "metadata": {},
   "outputs": [
    {
     "name": "stdout",
     "output_type": "stream",
     "text": [
      "View the model in the Vertex AI Console:\n",
      "https://console.cloud.google.com/vertex-ai/locations/europe-west4/models/bqml_03_feature_engineering_auto?project=statmike-mlops-349915\n"
     ]
    }
   ],
   "source": [
    "print(f\"View the model in the Vertex AI Console:\\nhttps://console.cloud.google.com/vertex-ai/locations/{REGION}/models/bqml_{BQ_MODEL_AutoFeatureEng}?project={PROJECT_ID}\")"
   ]
  },
  {
   "cell_type": "markdown",
   "id": "780ff15a-9af1-4842-95ff-0afc33c2e86b",
   "metadata": {},
   "source": [
    "---\n",
    "## Train Model - Manual Feature Engineering\n",
    "\n",
    "Use BigQuery ML to train a linear regression model:\n",
    "- [Linear Regression](https://cloud.google.com/bigquery-ml/docs/reference/standard-sql/bigqueryml-syntax-create-glm) with BigQuery ML (BQML)\n",
    "\n",
    "Feature preprocessing with the `TRANSFORM` statement:\n",
    "- [TRANSFORM](https://cloud.google.com/bigquery-ml/docs/reference/standard-sql/bigqueryml-syntax-create#transform)"
   ]
  },
  {
   "cell_type": "code",
   "execution_count": 180,
   "id": "b66e4328-543d-4296-a7da-d1297bee07bf",
   "metadata": {},
   "outputs": [],
   "source": [
    "TIMESTAMP = datetime.now().strftime(\"%Y%m%d%H%M%S\")\n",
    "RUN_NAME = f'run-{TIMESTAMP}'\n",
    "BQ_MODEL_ManualFeatureEng = f'{SERIES}_{EXPERIMENT}_manual'"
   ]
  },
  {
   "cell_type": "code",
   "execution_count": 205,
   "id": "ea86eef8-c9a9-4c37-86d7-183d634fa203",
   "metadata": {},
   "outputs": [
    {
     "name": "stdout",
     "output_type": "stream",
     "text": [
      "\n",
      "CREATE OR REPLACE MODEL `statmike-mlops-349915.feature_engineering.03_feature_engineering_manual`\n",
      "TRANSFORM (\n",
      "    JUDGE_A,\n",
      "    # ML.POLYNOMIAL_EXPAND(STRUCT(flourAmt, saltAmt, yeastAmt, water1Amt, water2Amt), 2) as amounts,\n",
      "    ML.POLYNOMIAL_EXPAND(\n",
      "        STRUCT(\n",
      "            ML.MIN_MAX_SCALER(flourAmt) OVER() as scale_flourAmt, \n",
      "            ML.ROBUST_SCALER(saltAmt) OVER() as scale_saltAmt,\n",
      "            ML.MAX_ABS_SCALER(yeastAmt) OVER() as scale_yeastAmt,\n",
      "            ML.STANDARD_SCALER(water1Amt) OVER() as scale_water1Amt,\n",
      "            ML.STANDARD_SCALER(water2Amt) OVER() as scale_water2Amt\n",
      "        ), 2) as amounts,\n",
      "    # ML.POLYNOMIAL_EXPAND(STRUCT(waterTemp, bakeTemp, ambTemp, ambHumidity), 2) as temps,\n",
      "    ML.POLYNOMIAL_EXPAND(\n",
      "        STRUCT(\n",
      "            ML.STANDARD_SCALER(waterTemp) OVER() as scale_waterTemp,\n",
      "            ML.ROBUST_SCALER(bakeTemp) OVER() as scale_bakeTemp,\n",
      "            ML.MIN_MAX_SCALER(ambTemp) OVER() as scale_ambTemp,\n",
      "            ML.MAX_ABS_SCALER(ambHumidity) OVER() as scale_ambHumidity\n",
      "        ), 2) as temps,\n",
      "    # ML.POLYNOMIAL_EXPAND(STRUCT(mix1Time, mix2Time, mix1Speed, mix2Speed, proveTime, restTime, bakeTime), 2) as times\n",
      "    ML.POLYNOMIAL_EXPAND(\n",
      "        STRUCT(\n",
      "            ML.ROBUST_SCALER(mix1Time) OVER() as scale_mix1Time,\n",
      "            ML.ROBUST_SCALER(mix2Time) OVER() as scale_mix2Time,\n",
      "            ML.ROBUST_SCALER(mix1Speed) OVER() as scale_mix1Speed,\n",
      "            ML.ROBUST_SCALER(mix2Speed) OVER() as scale_mix2Speed,\n",
      "            ML.STANDARD_SCALER(proveTime) OVER() as scale_proveTime,\n",
      "            ML.MAX_ABS_SCALER(restTime) OVER() as scale_restTime,\n",
      "            ML.MAX_ABS_SCALER(bakeTime) OVER() as scale_bakeTime\n",
      "        ), 2) as times\n",
      ")\n",
      "OPTIONS (\n",
      "        model_type = 'LINEAR_REG',        \n",
      "        input_label_cols = ['JUDGE_A'],\n",
      "        enable_global_explain = TRUE,\n",
      "        data_split_method = 'AUTO_SPLIT',\n",
      "        l1_reg = 10,\n",
      "        l2_reg = 10,\n",
      "        MODEL_REGISTRY = 'VERTEX_AI',\n",
      "        VERTEX_AI_MODEL_ID = 'bqml_03_feature_engineering_manual',\n",
      "        VERTEX_AI_MODEL_VERSION_ALIASES = ['run-20221201121354', 'manual_feature_engineering']\n",
      "    ) AS\n",
      "SELECT * EXCEPT(Recipe, JUDGE_B)\n",
      "FROM `statmike-mlops-349915.feature_engineering.bread`\n",
      "\n"
     ]
    }
   ],
   "source": [
    "query = f\"\"\"\n",
    "CREATE OR REPLACE MODEL `{BQ_PROJECT}.{BQ_DATASET}.{BQ_MODEL_ManualFeatureEng}`\n",
    "TRANSFORM (\n",
    "    JUDGE_A,\n",
    "    # ML.POLYNOMIAL_EXPAND(STRUCT(flourAmt, saltAmt, yeastAmt, water1Amt, water2Amt), 2) as amounts,\n",
    "    ML.POLYNOMIAL_EXPAND(\n",
    "        STRUCT(\n",
    "            ML.MIN_MAX_SCALER(flourAmt) OVER() as scale_flourAmt, \n",
    "            ML.ROBUST_SCALER(saltAmt) OVER() as scale_saltAmt,\n",
    "            ML.MAX_ABS_SCALER(yeastAmt) OVER() as scale_yeastAmt,\n",
    "            ML.STANDARD_SCALER(water1Amt) OVER() as scale_water1Amt,\n",
    "            ML.STANDARD_SCALER(water2Amt) OVER() as scale_water2Amt\n",
    "        ), 2) as amounts,\n",
    "    # ML.POLYNOMIAL_EXPAND(STRUCT(waterTemp, bakeTemp, ambTemp, ambHumidity), 2) as temps,\n",
    "    ML.POLYNOMIAL_EXPAND(\n",
    "        STRUCT(\n",
    "            ML.STANDARD_SCALER(waterTemp) OVER() as scale_waterTemp,\n",
    "            ML.ROBUST_SCALER(bakeTemp) OVER() as scale_bakeTemp,\n",
    "            ML.MIN_MAX_SCALER(ambTemp) OVER() as scale_ambTemp,\n",
    "            ML.MAX_ABS_SCALER(ambHumidity) OVER() as scale_ambHumidity\n",
    "        ), 2) as temps,\n",
    "    # ML.POLYNOMIAL_EXPAND(STRUCT(mix1Time, mix2Time, mix1Speed, mix2Speed, proveTime, restTime, bakeTime), 2) as times\n",
    "    ML.POLYNOMIAL_EXPAND(\n",
    "        STRUCT(\n",
    "            ML.ROBUST_SCALER(mix1Time) OVER() as scale_mix1Time,\n",
    "            ML.ROBUST_SCALER(mix2Time) OVER() as scale_mix2Time,\n",
    "            ML.ROBUST_SCALER(mix1Speed) OVER() as scale_mix1Speed,\n",
    "            ML.ROBUST_SCALER(mix2Speed) OVER() as scale_mix2Speed,\n",
    "            ML.STANDARD_SCALER(proveTime) OVER() as scale_proveTime,\n",
    "            ML.MAX_ABS_SCALER(restTime) OVER() as scale_restTime,\n",
    "            ML.MAX_ABS_SCALER(bakeTime) OVER() as scale_bakeTime\n",
    "        ), 2) as times\n",
    ")\n",
    "OPTIONS (\n",
    "        model_type = 'LINEAR_REG',        \n",
    "        input_label_cols = ['JUDGE_A'],\n",
    "        enable_global_explain = TRUE,\n",
    "        data_split_method = 'AUTO_SPLIT',\n",
    "        l1_reg = 10,\n",
    "        l2_reg = 10,\n",
    "        MODEL_REGISTRY = 'VERTEX_AI',\n",
    "        VERTEX_AI_MODEL_ID = 'bqml_{BQ_MODEL_ManualFeatureEng}',\n",
    "        VERTEX_AI_MODEL_VERSION_ALIASES = ['{RUN_NAME}', 'manual_feature_engineering']\n",
    "    ) AS\n",
    "SELECT * EXCEPT(Recipe, JUDGE_B)\n",
    "FROM `{BQ_PROJECT}.{BQ_DATASET}.{BQ_TABLE}`\n",
    "\"\"\"\n",
    "print(query)"
   ]
  },
  {
   "cell_type": "code",
   "execution_count": 206,
   "id": "810adc92-f1a7-4676-ab23-da88375dc1e7",
   "metadata": {},
   "outputs": [
    {
     "data": {
      "text/plain": [
       "50.643"
      ]
     },
     "execution_count": 206,
     "metadata": {},
     "output_type": "execute_result"
    }
   ],
   "source": [
    "job = bq.query(query = query)\n",
    "job.result()\n",
    "(job.ended-job.started).total_seconds()"
   ]
  },
  {
   "cell_type": "code",
   "execution_count": 207,
   "id": "eab37574-0613-4781-9aba-57a6ff95cd25",
   "metadata": {},
   "outputs": [
    {
     "data": {
      "text/plain": [
       "272000"
      ]
     },
     "execution_count": 207,
     "metadata": {},
     "output_type": "execute_result"
    }
   ],
   "source": [
    "job.total_bytes_processed"
   ]
  },
  {
   "cell_type": "markdown",
   "id": "9d5225ba-7030-4ebd-9841-d9c11d19edb2",
   "metadata": {},
   "source": [
    "Add labels to the model in BigQuery:"
   ]
  },
  {
   "cell_type": "code",
   "execution_count": 208,
   "id": "f39f906c-de1b-4a16-be8d-e8aa2f21ff10",
   "metadata": {},
   "outputs": [],
   "source": [
    "model_ManualFeatureEng = bq.get_model(f'{BQ_PROJECT}.{BQ_DATASET}.{BQ_MODEL_ManualFeatureEng}')\n",
    "model_ManualFeatureEng.labels = {'series' : f'{SERIES}', 'experiment' : f'{EXPERIMENT}'}\n",
    "model_ManualFeatureEng = bq.update_model(model_ManualFeatureEng, ['labels'])"
   ]
  },
  {
   "cell_type": "markdown",
   "id": "4e05eb2f-1a1e-4649-968b-7fd92014c6dd",
   "metadata": {},
   "source": [
    "### Feature and Training Review"
   ]
  },
  {
   "cell_type": "markdown",
   "id": "669b207f-8a01-47fb-8281-9bf2904dbc92",
   "metadata": {},
   "source": [
    "Review the Model Inputs, the feature information before preprocessing, with [ML.FEATURE_INFO](https://cloud.google.com/bigquery-ml/docs/reference/standard-sql/bigqueryml-syntax-feature):"
   ]
  },
  {
   "cell_type": "code",
   "execution_count": 209,
   "id": "39e25006-13e6-42dd-8f97-ccd19da7bd85",
   "metadata": {},
   "outputs": [
    {
     "name": "stdout",
     "output_type": "stream",
     "text": [
      "\n",
      "    SELECT *\n",
      "    FROM ML.FEATURE_INFO(MODEL `statmike-mlops-349915.feature_engineering.03_feature_engineering_manual`)\n",
      "\n"
     ]
    }
   ],
   "source": [
    "query = f\"\"\"\n",
    "    SELECT *\n",
    "    FROM ML.FEATURE_INFO(MODEL `{BQ_PROJECT}.{BQ_DATASET}.{BQ_MODEL_ManualFeatureEng}`)\n",
    "\"\"\"\n",
    "print(query)"
   ]
  },
  {
   "cell_type": "code",
   "execution_count": 210,
   "id": "3d9c7d4b-7198-49e1-93c9-7e00a57b0d04",
   "metadata": {},
   "outputs": [
    {
     "data": {
      "text/html": [
       "<div>\n",
       "<style scoped>\n",
       "    .dataframe tbody tr th:only-of-type {\n",
       "        vertical-align: middle;\n",
       "    }\n",
       "\n",
       "    .dataframe tbody tr th {\n",
       "        vertical-align: top;\n",
       "    }\n",
       "\n",
       "    .dataframe thead th {\n",
       "        text-align: right;\n",
       "    }\n",
       "</style>\n",
       "<table border=\"1\" class=\"dataframe\">\n",
       "  <thead>\n",
       "    <tr style=\"text-align: right;\">\n",
       "      <th></th>\n",
       "      <th>input</th>\n",
       "      <th>min</th>\n",
       "      <th>max</th>\n",
       "      <th>mean</th>\n",
       "      <th>median</th>\n",
       "      <th>stddev</th>\n",
       "      <th>category_count</th>\n",
       "      <th>null_count</th>\n",
       "      <th>dimension</th>\n",
       "    </tr>\n",
       "  </thead>\n",
       "  <tbody>\n",
       "    <tr>\n",
       "      <th>0</th>\n",
       "      <td>saltAmt</td>\n",
       "      <td>8.000000</td>\n",
       "      <td>12.000000</td>\n",
       "      <td>10.001291</td>\n",
       "      <td>10.000000</td>\n",
       "      <td>1.250839</td>\n",
       "      <td>NaN</td>\n",
       "      <td>0</td>\n",
       "      <td>NaN</td>\n",
       "    </tr>\n",
       "    <tr>\n",
       "      <th>1</th>\n",
       "      <td>restTime</td>\n",
       "      <td>35.000000</td>\n",
       "      <td>45.000000</td>\n",
       "      <td>40.096837</td>\n",
       "      <td>40.000000</td>\n",
       "      <td>2.904095</td>\n",
       "      <td>NaN</td>\n",
       "      <td>0</td>\n",
       "      <td>NaN</td>\n",
       "    </tr>\n",
       "    <tr>\n",
       "      <th>2</th>\n",
       "      <td>water2Amt</td>\n",
       "      <td>38.448332</td>\n",
       "      <td>203.987401</td>\n",
       "      <td>109.355151</td>\n",
       "      <td>108.928004</td>\n",
       "      <td>20.374032</td>\n",
       "      <td>NaN</td>\n",
       "      <td>0</td>\n",
       "      <td>NaN</td>\n",
       "    </tr>\n",
       "    <tr>\n",
       "      <th>3</th>\n",
       "      <td>yeastAmt</td>\n",
       "      <td>8.000000</td>\n",
       "      <td>12.000000</td>\n",
       "      <td>9.989025</td>\n",
       "      <td>10.000000</td>\n",
       "      <td>1.254144</td>\n",
       "      <td>NaN</td>\n",
       "      <td>0</td>\n",
       "      <td>NaN</td>\n",
       "    </tr>\n",
       "    <tr>\n",
       "      <th>4</th>\n",
       "      <td>ambHumidity</td>\n",
       "      <td>16.691853</td>\n",
       "      <td>84.217967</td>\n",
       "      <td>50.131318</td>\n",
       "      <td>50.291164</td>\n",
       "      <td>9.920345</td>\n",
       "      <td>NaN</td>\n",
       "      <td>0</td>\n",
       "      <td>NaN</td>\n",
       "    </tr>\n",
       "    <tr>\n",
       "      <th>5</th>\n",
       "      <td>mix1Speed</td>\n",
       "      <td>2.000000</td>\n",
       "      <td>5.000000</td>\n",
       "      <td>3.504842</td>\n",
       "      <td>4.000000</td>\n",
       "      <td>0.966230</td>\n",
       "      <td>NaN</td>\n",
       "      <td>0</td>\n",
       "      <td>NaN</td>\n",
       "    </tr>\n",
       "    <tr>\n",
       "      <th>6</th>\n",
       "      <td>mix2Time</td>\n",
       "      <td>4.000000</td>\n",
       "      <td>8.000000</td>\n",
       "      <td>6.013557</td>\n",
       "      <td>6.000000</td>\n",
       "      <td>1.224934</td>\n",
       "      <td>NaN</td>\n",
       "      <td>0</td>\n",
       "      <td>NaN</td>\n",
       "    </tr>\n",
       "    <tr>\n",
       "      <th>7</th>\n",
       "      <td>proveTime</td>\n",
       "      <td>82.915663</td>\n",
       "      <td>117.874698</td>\n",
       "      <td>99.977836</td>\n",
       "      <td>99.850781</td>\n",
       "      <td>5.010850</td>\n",
       "      <td>NaN</td>\n",
       "      <td>0</td>\n",
       "      <td>NaN</td>\n",
       "    </tr>\n",
       "    <tr>\n",
       "      <th>8</th>\n",
       "      <td>mix2Speed</td>\n",
       "      <td>4.000000</td>\n",
       "      <td>6.000000</td>\n",
       "      <td>4.994190</td>\n",
       "      <td>5.000000</td>\n",
       "      <td>0.701119</td>\n",
       "      <td>NaN</td>\n",
       "      <td>0</td>\n",
       "      <td>NaN</td>\n",
       "    </tr>\n",
       "    <tr>\n",
       "      <th>9</th>\n",
       "      <td>ambTemp</td>\n",
       "      <td>26.865483</td>\n",
       "      <td>88.808018</td>\n",
       "      <td>60.070079</td>\n",
       "      <td>60.376189</td>\n",
       "      <td>9.756458</td>\n",
       "      <td>NaN</td>\n",
       "      <td>0</td>\n",
       "      <td>NaN</td>\n",
       "    </tr>\n",
       "    <tr>\n",
       "      <th>10</th>\n",
       "      <td>flourAmt</td>\n",
       "      <td>464.112821</td>\n",
       "      <td>530.978400</td>\n",
       "      <td>499.647304</td>\n",
       "      <td>499.559247</td>\n",
       "      <td>9.979487</td>\n",
       "      <td>NaN</td>\n",
       "      <td>0</td>\n",
       "      <td>NaN</td>\n",
       "    </tr>\n",
       "    <tr>\n",
       "      <th>11</th>\n",
       "      <td>waterTemp</td>\n",
       "      <td>40.000000</td>\n",
       "      <td>50.000000</td>\n",
       "      <td>45.092963</td>\n",
       "      <td>45.000000</td>\n",
       "      <td>2.964106</td>\n",
       "      <td>NaN</td>\n",
       "      <td>0</td>\n",
       "      <td>NaN</td>\n",
       "    </tr>\n",
       "    <tr>\n",
       "      <th>12</th>\n",
       "      <td>bakeTime</td>\n",
       "      <td>20.000000</td>\n",
       "      <td>30.000000</td>\n",
       "      <td>24.970303</td>\n",
       "      <td>25.000000</td>\n",
       "      <td>2.876510</td>\n",
       "      <td>NaN</td>\n",
       "      <td>0</td>\n",
       "      <td>NaN</td>\n",
       "    </tr>\n",
       "    <tr>\n",
       "      <th>13</th>\n",
       "      <td>bakeTemp</td>\n",
       "      <td>378.625193</td>\n",
       "      <td>480.507141</td>\n",
       "      <td>425.285941</td>\n",
       "      <td>425.433937</td>\n",
       "      <td>14.821581</td>\n",
       "      <td>NaN</td>\n",
       "      <td>0</td>\n",
       "      <td>NaN</td>\n",
       "    </tr>\n",
       "    <tr>\n",
       "      <th>14</th>\n",
       "      <td>mix1Time</td>\n",
       "      <td>2.000000</td>\n",
       "      <td>8.000000</td>\n",
       "      <td>5.015494</td>\n",
       "      <td>5.000000</td>\n",
       "      <td>1.040407</td>\n",
       "      <td>NaN</td>\n",
       "      <td>0</td>\n",
       "      <td>NaN</td>\n",
       "    </tr>\n",
       "    <tr>\n",
       "      <th>15</th>\n",
       "      <td>water1Amt</td>\n",
       "      <td>268.331736</td>\n",
       "      <td>395.790293</td>\n",
       "      <td>330.706401</td>\n",
       "      <td>331.285427</td>\n",
       "      <td>19.516766</td>\n",
       "      <td>NaN</td>\n",
       "      <td>0</td>\n",
       "      <td>NaN</td>\n",
       "    </tr>\n",
       "  </tbody>\n",
       "</table>\n",
       "</div>"
      ],
      "text/plain": [
       "          input         min         max        mean      median     stddev  \\\n",
       "0       saltAmt    8.000000   12.000000   10.001291   10.000000   1.250839   \n",
       "1      restTime   35.000000   45.000000   40.096837   40.000000   2.904095   \n",
       "2     water2Amt   38.448332  203.987401  109.355151  108.928004  20.374032   \n",
       "3      yeastAmt    8.000000   12.000000    9.989025   10.000000   1.254144   \n",
       "4   ambHumidity   16.691853   84.217967   50.131318   50.291164   9.920345   \n",
       "5     mix1Speed    2.000000    5.000000    3.504842    4.000000   0.966230   \n",
       "6      mix2Time    4.000000    8.000000    6.013557    6.000000   1.224934   \n",
       "7     proveTime   82.915663  117.874698   99.977836   99.850781   5.010850   \n",
       "8     mix2Speed    4.000000    6.000000    4.994190    5.000000   0.701119   \n",
       "9       ambTemp   26.865483   88.808018   60.070079   60.376189   9.756458   \n",
       "10     flourAmt  464.112821  530.978400  499.647304  499.559247   9.979487   \n",
       "11    waterTemp   40.000000   50.000000   45.092963   45.000000   2.964106   \n",
       "12     bakeTime   20.000000   30.000000   24.970303   25.000000   2.876510   \n",
       "13     bakeTemp  378.625193  480.507141  425.285941  425.433937  14.821581   \n",
       "14     mix1Time    2.000000    8.000000    5.015494    5.000000   1.040407   \n",
       "15    water1Amt  268.331736  395.790293  330.706401  331.285427  19.516766   \n",
       "\n",
       "    category_count  null_count  dimension  \n",
       "0              NaN           0        NaN  \n",
       "1              NaN           0        NaN  \n",
       "2              NaN           0        NaN  \n",
       "3              NaN           0        NaN  \n",
       "4              NaN           0        NaN  \n",
       "5              NaN           0        NaN  \n",
       "6              NaN           0        NaN  \n",
       "7              NaN           0        NaN  \n",
       "8              NaN           0        NaN  \n",
       "9              NaN           0        NaN  \n",
       "10             NaN           0        NaN  \n",
       "11             NaN           0        NaN  \n",
       "12             NaN           0        NaN  \n",
       "13             NaN           0        NaN  \n",
       "14             NaN           0        NaN  \n",
       "15             NaN           0        NaN  "
      ]
     },
     "execution_count": 210,
     "metadata": {},
     "output_type": "execute_result"
    }
   ],
   "source": [
    "bq.query(query = query).to_dataframe()"
   ]
  },
  {
   "cell_type": "markdown",
   "id": "f2b4815e-58da-4416-8ddc-f3922c5eabae",
   "metadata": {},
   "source": [
    "Review the iterations from training with [ML.TRAINING_INFO](https://cloud.google.com/bigquery-ml/docs/reference/standard-sql/bigqueryml-syntax-train):"
   ]
  },
  {
   "cell_type": "code",
   "execution_count": 211,
   "id": "00ef993b-0e37-4955-b8dc-be011fd55334",
   "metadata": {},
   "outputs": [
    {
     "name": "stdout",
     "output_type": "stream",
     "text": [
      "\n",
      "    SELECT *\n",
      "    FROM ML.TRAINING_INFO(MODEL `statmike-mlops-349915.feature_engineering.03_feature_engineering_manual`)\n",
      "    ORDER BY iteration\n",
      "\n"
     ]
    }
   ],
   "source": [
    "query = f\"\"\"\n",
    "    SELECT *\n",
    "    FROM ML.TRAINING_INFO(MODEL `{BQ_PROJECT}.{BQ_DATASET}.{BQ_MODEL_ManualFeatureEng}`)\n",
    "    ORDER BY iteration\n",
    "\"\"\"\n",
    "print(query)"
   ]
  },
  {
   "cell_type": "code",
   "execution_count": 212,
   "id": "b6c3520b-c8d3-4da9-a01e-667196703db5",
   "metadata": {},
   "outputs": [
    {
     "data": {
      "text/html": [
       "<div>\n",
       "<style scoped>\n",
       "    .dataframe tbody tr th:only-of-type {\n",
       "        vertical-align: middle;\n",
       "    }\n",
       "\n",
       "    .dataframe tbody tr th {\n",
       "        vertical-align: top;\n",
       "    }\n",
       "\n",
       "    .dataframe thead th {\n",
       "        text-align: right;\n",
       "    }\n",
       "</style>\n",
       "<table border=\"1\" class=\"dataframe\">\n",
       "  <thead>\n",
       "    <tr style=\"text-align: right;\">\n",
       "      <th></th>\n",
       "      <th>training_run</th>\n",
       "      <th>iteration</th>\n",
       "      <th>loss</th>\n",
       "      <th>eval_loss</th>\n",
       "      <th>learning_rate</th>\n",
       "      <th>duration_ms</th>\n",
       "    </tr>\n",
       "  </thead>\n",
       "  <tbody>\n",
       "    <tr>\n",
       "      <th>0</th>\n",
       "      <td>0</td>\n",
       "      <td>0</td>\n",
       "      <td>3661.514344</td>\n",
       "      <td>3729.590834</td>\n",
       "      <td>0.2</td>\n",
       "      <td>2428</td>\n",
       "    </tr>\n",
       "    <tr>\n",
       "      <th>1</th>\n",
       "      <td>0</td>\n",
       "      <td>1</td>\n",
       "      <td>1330.500950</td>\n",
       "      <td>1364.704149</td>\n",
       "      <td>0.4</td>\n",
       "      <td>2565</td>\n",
       "    </tr>\n",
       "    <tr>\n",
       "      <th>2</th>\n",
       "      <td>0</td>\n",
       "      <td>2</td>\n",
       "      <td>76.035621</td>\n",
       "      <td>77.754886</td>\n",
       "      <td>0.8</td>\n",
       "      <td>2833</td>\n",
       "    </tr>\n",
       "    <tr>\n",
       "      <th>3</th>\n",
       "      <td>0</td>\n",
       "      <td>3</td>\n",
       "      <td>26.744507</td>\n",
       "      <td>27.290352</td>\n",
       "      <td>0.8</td>\n",
       "      <td>2482</td>\n",
       "    </tr>\n",
       "    <tr>\n",
       "      <th>4</th>\n",
       "      <td>0</td>\n",
       "      <td>4</td>\n",
       "      <td>24.327131</td>\n",
       "      <td>24.102370</td>\n",
       "      <td>0.4</td>\n",
       "      <td>2258</td>\n",
       "    </tr>\n",
       "    <tr>\n",
       "      <th>5</th>\n",
       "      <td>0</td>\n",
       "      <td>5</td>\n",
       "      <td>23.486179</td>\n",
       "      <td>23.390019</td>\n",
       "      <td>0.4</td>\n",
       "      <td>2343</td>\n",
       "    </tr>\n",
       "    <tr>\n",
       "      <th>6</th>\n",
       "      <td>0</td>\n",
       "      <td>6</td>\n",
       "      <td>23.179718</td>\n",
       "      <td>22.883873</td>\n",
       "      <td>0.4</td>\n",
       "      <td>2309</td>\n",
       "    </tr>\n",
       "    <tr>\n",
       "      <th>7</th>\n",
       "      <td>0</td>\n",
       "      <td>7</td>\n",
       "      <td>22.982272</td>\n",
       "      <td>22.650326</td>\n",
       "      <td>0.8</td>\n",
       "      <td>2190</td>\n",
       "    </tr>\n",
       "    <tr>\n",
       "      <th>8</th>\n",
       "      <td>0</td>\n",
       "      <td>8</td>\n",
       "      <td>22.845386</td>\n",
       "      <td>22.439788</td>\n",
       "      <td>0.4</td>\n",
       "      <td>2143</td>\n",
       "    </tr>\n",
       "  </tbody>\n",
       "</table>\n",
       "</div>"
      ],
      "text/plain": [
       "   training_run  iteration         loss    eval_loss  learning_rate  \\\n",
       "0             0          0  3661.514344  3729.590834            0.2   \n",
       "1             0          1  1330.500950  1364.704149            0.4   \n",
       "2             0          2    76.035621    77.754886            0.8   \n",
       "3             0          3    26.744507    27.290352            0.8   \n",
       "4             0          4    24.327131    24.102370            0.4   \n",
       "5             0          5    23.486179    23.390019            0.4   \n",
       "6             0          6    23.179718    22.883873            0.4   \n",
       "7             0          7    22.982272    22.650326            0.8   \n",
       "8             0          8    22.845386    22.439788            0.4   \n",
       "\n",
       "   duration_ms  \n",
       "0         2428  \n",
       "1         2565  \n",
       "2         2833  \n",
       "3         2482  \n",
       "4         2258  \n",
       "5         2343  \n",
       "6         2309  \n",
       "7         2190  \n",
       "8         2143  "
      ]
     },
     "execution_count": 212,
     "metadata": {},
     "output_type": "execute_result"
    }
   ],
   "source": [
    "history = bq.query(query = query).to_dataframe()\n",
    "history"
   ]
  },
  {
   "cell_type": "markdown",
   "id": "e317366d-af3a-459a-972b-81d37f1d3e32",
   "metadata": {},
   "source": [
    "Plot the loss history:"
   ]
  },
  {
   "cell_type": "code",
   "execution_count": 213,
   "id": "3199388c-0e5a-4bb3-8a4c-db2377f4a117",
   "metadata": {},
   "outputs": [
    {
     "data": {
      "text/plain": [
       "<AxesSubplot:xlabel='iteration'>"
      ]
     },
     "execution_count": 213,
     "metadata": {},
     "output_type": "execute_result"
    },
    {
     "data": {
      "image/png": "[encoded data removed]",
      "text/plain": [
       "<Figure size 720x360 with 1 Axes>"
      ]
     },
     "metadata": {
      "needs_background": "light"
     },
     "output_type": "display_data"
    }
   ],
   "source": [
    "history.plot(x = 'iteration', y = ['loss','eval_loss'], figsize = (10, 5), grid = True)"
   ]
  },
  {
   "cell_type": "markdown",
   "id": "f4643080-23ad-41ea-a18f-0b6b19a47dc1",
   "metadata": {},
   "source": [
    "### Model Metrics Review\n",
    "\n",
    "Review the model evaluation statistics with [ML.EVALUATE](https://cloud.google.com/bigquery-ml/docs/reference/standard-sql/bigqueryml-syntax-evaluate):"
   ]
  },
  {
   "cell_type": "code",
   "execution_count": 214,
   "id": "4e0a904f-76a0-4e23-bdfe-bab341c3348e",
   "metadata": {},
   "outputs": [
    {
     "name": "stdout",
     "output_type": "stream",
     "text": [
      "\n",
      "    SELECT * FROM ML.EVALUATE(MODEL `statmike-mlops-349915.feature_engineering.03_feature_engineering_manual`)\n",
      "\n"
     ]
    }
   ],
   "source": [
    "query = f\"\"\"\n",
    "    SELECT * FROM ML.EVALUATE(MODEL `{BQ_PROJECT}.{BQ_DATASET}.{BQ_MODEL_ManualFeatureEng}`)\n",
    "\"\"\"\n",
    "print(query)"
   ]
  },
  {
   "cell_type": "code",
   "execution_count": 215,
   "id": "6227af2f-5849-4a49-973a-d5a233a6c94b",
   "metadata": {},
   "outputs": [
    {
     "data": {
      "text/html": [
       "<div>\n",
       "<style scoped>\n",
       "    .dataframe tbody tr th:only-of-type {\n",
       "        vertical-align: middle;\n",
       "    }\n",
       "\n",
       "    .dataframe tbody tr th {\n",
       "        vertical-align: top;\n",
       "    }\n",
       "\n",
       "    .dataframe thead th {\n",
       "        text-align: right;\n",
       "    }\n",
       "</style>\n",
       "<table border=\"1\" class=\"dataframe\">\n",
       "  <thead>\n",
       "    <tr style=\"text-align: right;\">\n",
       "      <th></th>\n",
       "      <th>mean_absolute_error</th>\n",
       "      <th>mean_squared_error</th>\n",
       "      <th>mean_squared_log_error</th>\n",
       "      <th>median_absolute_error</th>\n",
       "      <th>r2_score</th>\n",
       "      <th>explained_variance</th>\n",
       "    </tr>\n",
       "  </thead>\n",
       "  <tbody>\n",
       "    <tr>\n",
       "      <th>0</th>\n",
       "      <td>3.711373</td>\n",
       "      <td>22.487014</td>\n",
       "      <td>0.005083</td>\n",
       "      <td>2.980341</td>\n",
       "      <td>0.750407</td>\n",
       "      <td>0.750531</td>\n",
       "    </tr>\n",
       "  </tbody>\n",
       "</table>\n",
       "</div>"
      ],
      "text/plain": [
       "   mean_absolute_error  mean_squared_error  mean_squared_log_error  \\\n",
       "0             3.711373           22.487014                0.005083   \n",
       "\n",
       "   median_absolute_error  r2_score  explained_variance  \n",
       "0               2.980341  0.750407            0.750531  "
      ]
     },
     "execution_count": 215,
     "metadata": {},
     "output_type": "execute_result"
    }
   ],
   "source": [
    "bq.query(query = query).to_dataframe()"
   ]
  },
  {
   "cell_type": "markdown",
   "id": "cab0580d-3c93-4aa1-ba2c-7d1325d5cdcb",
   "metadata": {},
   "source": [
    "### Comparing Metrics Between Automatic and Manual Feature Engineering\n",
    "\n",
    "The query here loads the metrics with `ML.EVALUATE` for both models."
   ]
  },
  {
   "cell_type": "code",
   "execution_count": 216,
   "id": "1dada407-a567-4ad6-a56a-d847ce62fea2",
   "metadata": {},
   "outputs": [
    {
     "name": "stdout",
     "output_type": "stream",
     "text": [
      "\n",
      "    SELECT 'Automatic Feature Engineering' as Approach, * FROM ML.EVALUATE(MODEL `statmike-mlops-349915.feature_engineering.03_feature_engineering_auto`)\n",
      "    UNION ALL\n",
      "    SELECT 'Manual Feature Engineering' as Approach, * FROM ML.EVALUATE(MODEL `statmike-mlops-349915.feature_engineering.03_feature_engineering_manual`)\n",
      "\n"
     ]
    }
   ],
   "source": [
    "query = f\"\"\"\n",
    "    SELECT 'Automatic Feature Engineering' as Approach, * FROM ML.EVALUATE(MODEL `{BQ_PROJECT}.{BQ_DATASET}.{BQ_MODEL_AutoFeatureEng}`)\n",
    "    UNION ALL\n",
    "    SELECT 'Manual Feature Engineering' as Approach, * FROM ML.EVALUATE(MODEL `{BQ_PROJECT}.{BQ_DATASET}.{BQ_MODEL_ManualFeatureEng}`)\n",
    "\"\"\"\n",
    "print(query)"
   ]
  },
  {
   "cell_type": "code",
   "execution_count": 217,
   "id": "4b707bf2-8a1d-471c-87ff-8f50eae739d8",
   "metadata": {},
   "outputs": [
    {
     "data": {
      "text/html": [
       "<div>\n",
       "<style scoped>\n",
       "    .dataframe tbody tr th:only-of-type {\n",
       "        vertical-align: middle;\n",
       "    }\n",
       "\n",
       "    .dataframe tbody tr th {\n",
       "        vertical-align: top;\n",
       "    }\n",
       "\n",
       "    .dataframe thead th {\n",
       "        text-align: right;\n",
       "    }\n",
       "</style>\n",
       "<table border=\"1\" class=\"dataframe\">\n",
       "  <thead>\n",
       "    <tr style=\"text-align: right;\">\n",
       "      <th></th>\n",
       "      <th>Approach</th>\n",
       "      <th>mean_absolute_error</th>\n",
       "      <th>mean_squared_error</th>\n",
       "      <th>mean_squared_log_error</th>\n",
       "      <th>median_absolute_error</th>\n",
       "      <th>r2_score</th>\n",
       "      <th>explained_variance</th>\n",
       "    </tr>\n",
       "  </thead>\n",
       "  <tbody>\n",
       "    <tr>\n",
       "      <th>0</th>\n",
       "      <td>Automatic Feature Engineering</td>\n",
       "      <td>7.290550</td>\n",
       "      <td>83.313080</td>\n",
       "      <td>0.016290</td>\n",
       "      <td>6.148888</td>\n",
       "      <td>0.075272</td>\n",
       "      <td>0.079110</td>\n",
       "    </tr>\n",
       "    <tr>\n",
       "      <th>1</th>\n",
       "      <td>Manual Feature Engineering</td>\n",
       "      <td>3.711373</td>\n",
       "      <td>22.487014</td>\n",
       "      <td>0.005083</td>\n",
       "      <td>2.980341</td>\n",
       "      <td>0.750407</td>\n",
       "      <td>0.750531</td>\n",
       "    </tr>\n",
       "  </tbody>\n",
       "</table>\n",
       "</div>"
      ],
      "text/plain": [
       "                        Approach  mean_absolute_error  mean_squared_error  \\\n",
       "0  Automatic Feature Engineering             7.290550           83.313080   \n",
       "1     Manual Feature Engineering             3.711373           22.487014   \n",
       "\n",
       "   mean_squared_log_error  median_absolute_error  r2_score  explained_variance  \n",
       "0                0.016290               6.148888  0.075272            0.079110  \n",
       "1                0.005083               2.980341  0.750407            0.750531  "
      ]
     },
     "execution_count": 217,
     "metadata": {},
     "output_type": "execute_result"
    }
   ],
   "source": [
    "bq.query(query = query).to_dataframe()"
   ]
  },
  {
   "cell_type": "markdown",
   "id": "11c85bfd-2e0a-47de-8d8b-c02083244a61",
   "metadata": {},
   "source": [
    "The results show a vast improvement in all metrics.  This is mostly because the relationship between the features and the target was created to have covariance that is best explained by higher order terms.  Fitting the model with a non-linear approach, like a boosted tree (`model_type = BOOSTED_TREE_REGRESSOR`), would also better understand the relationships in these data."
   ]
  },
  {
   "cell_type": "markdown",
   "id": "12187eb7-2edc-4bdf-87c8-fa3354e2aca4",
   "metadata": {},
   "source": [
    "### Global Explainability - What is important to Judges?\n",
    "\n",
    "Retrieve the influence of each feature on the model with [ML.GLOBAL_EXPLAIN](https://cloud.google.com/bigquery-ml/docs/reference/standard-sql/bigqueryml-syntax-global-explain).  "
   ]
  },
  {
   "cell_type": "code",
   "execution_count": 218,
   "id": "6068d2c1-5323-4870-a925-c7413627485c",
   "metadata": {},
   "outputs": [
    {
     "name": "stdout",
     "output_type": "stream",
     "text": [
      "\n",
      "    SELECT *\n",
      "    FROM ML.GLOBAL_EXPLAIN (MODEL `statmike-mlops-349915.feature_engineering.03_feature_engineering_manual`)\n",
      "\n"
     ]
    }
   ],
   "source": [
    "query = f\"\"\"\n",
    "    SELECT *\n",
    "    FROM ML.GLOBAL_EXPLAIN (MODEL `{BQ_PROJECT}.{BQ_DATASET}.{BQ_MODEL_ManualFeatureEng}`)\n",
    "\"\"\"\n",
    "print(query)"
   ]
  },
  {
   "cell_type": "code",
   "execution_count": 219,
   "id": "7ab6413a-7069-457e-b043-9d897d5f35d6",
   "metadata": {},
   "outputs": [
    {
     "data": {
      "text/html": [
       "<div>\n",
       "<style scoped>\n",
       "    .dataframe tbody tr th:only-of-type {\n",
       "        vertical-align: middle;\n",
       "    }\n",
       "\n",
       "    .dataframe tbody tr th {\n",
       "        vertical-align: top;\n",
       "    }\n",
       "\n",
       "    .dataframe thead th {\n",
       "        text-align: right;\n",
       "    }\n",
       "</style>\n",
       "<table border=\"1\" class=\"dataframe\">\n",
       "  <thead>\n",
       "    <tr style=\"text-align: right;\">\n",
       "      <th></th>\n",
       "      <th>feature</th>\n",
       "      <th>attribution</th>\n",
       "    </tr>\n",
       "  </thead>\n",
       "  <tbody>\n",
       "    <tr>\n",
       "      <th>0</th>\n",
       "      <td>temps_scale_bakeTemp_scale_bakeTemp</td>\n",
       "      <td>4.955550</td>\n",
       "    </tr>\n",
       "    <tr>\n",
       "      <th>1</th>\n",
       "      <td>amounts_scale_water2Amt_scale_water2Amt</td>\n",
       "      <td>1.941637</td>\n",
       "    </tr>\n",
       "    <tr>\n",
       "      <th>2</th>\n",
       "      <td>times_scale_mix1Time_scale_mix1Time</td>\n",
       "      <td>1.539038</td>\n",
       "    </tr>\n",
       "    <tr>\n",
       "      <th>3</th>\n",
       "      <td>amounts_scale_flourAmt_scale_flourAmt</td>\n",
       "      <td>1.006015</td>\n",
       "    </tr>\n",
       "    <tr>\n",
       "      <th>4</th>\n",
       "      <td>temps_scale_bakeTemp</td>\n",
       "      <td>0.919135</td>\n",
       "    </tr>\n",
       "    <tr>\n",
       "      <th>5</th>\n",
       "      <td>times_scale_mix2Time_scale_mix2Time</td>\n",
       "      <td>0.788652</td>\n",
       "    </tr>\n",
       "    <tr>\n",
       "      <th>6</th>\n",
       "      <td>temps_scale_bakeTemp_scale_ambTemp</td>\n",
       "      <td>0.692857</td>\n",
       "    </tr>\n",
       "    <tr>\n",
       "      <th>7</th>\n",
       "      <td>amounts_scale_flourAmt</td>\n",
       "      <td>0.626460</td>\n",
       "    </tr>\n",
       "    <tr>\n",
       "      <th>8</th>\n",
       "      <td>temps_scale_bakeTemp_scale_ambHumidity</td>\n",
       "      <td>0.622644</td>\n",
       "    </tr>\n",
       "    <tr>\n",
       "      <th>9</th>\n",
       "      <td>amounts_scale_flourAmt_scale_yeastAmt</td>\n",
       "      <td>0.608492</td>\n",
       "    </tr>\n",
       "    <tr>\n",
       "      <th>10</th>\n",
       "      <td>amounts_scale_yeastAmt_scale_yeastAmt</td>\n",
       "      <td>0.506003</td>\n",
       "    </tr>\n",
       "    <tr>\n",
       "      <th>11</th>\n",
       "      <td>amounts_scale_water1Amt_scale_water1Amt</td>\n",
       "      <td>0.395842</td>\n",
       "    </tr>\n",
       "    <tr>\n",
       "      <th>12</th>\n",
       "      <td>amounts_scale_saltAmt_scale_water2Amt</td>\n",
       "      <td>0.365628</td>\n",
       "    </tr>\n",
       "    <tr>\n",
       "      <th>13</th>\n",
       "      <td>amounts_scale_saltAmt_scale_saltAmt</td>\n",
       "      <td>0.353257</td>\n",
       "    </tr>\n",
       "    <tr>\n",
       "      <th>14</th>\n",
       "      <td>times_scale_bakeTime_scale_bakeTime</td>\n",
       "      <td>0.323527</td>\n",
       "    </tr>\n",
       "    <tr>\n",
       "      <th>15</th>\n",
       "      <td>times_scale_mix2Time_scale_mix1Speed</td>\n",
       "      <td>0.289189</td>\n",
       "    </tr>\n",
       "    <tr>\n",
       "      <th>16</th>\n",
       "      <td>temps_scale_waterTemp_scale_ambHumidity</td>\n",
       "      <td>0.273437</td>\n",
       "    </tr>\n",
       "    <tr>\n",
       "      <th>17</th>\n",
       "      <td>amounts_scale_flourAmt_scale_water1Amt</td>\n",
       "      <td>0.264692</td>\n",
       "    </tr>\n",
       "    <tr>\n",
       "      <th>18</th>\n",
       "      <td>temps_scale_waterTemp_scale_bakeTemp</td>\n",
       "      <td>0.256753</td>\n",
       "    </tr>\n",
       "    <tr>\n",
       "      <th>19</th>\n",
       "      <td>temps_scale_waterTemp_scale_ambTemp</td>\n",
       "      <td>0.236202</td>\n",
       "    </tr>\n",
       "    <tr>\n",
       "      <th>20</th>\n",
       "      <td>amounts_scale_water1Amt_scale_water2Amt</td>\n",
       "      <td>0.227820</td>\n",
       "    </tr>\n",
       "    <tr>\n",
       "      <th>21</th>\n",
       "      <td>times_scale_proveTime_scale_proveTime</td>\n",
       "      <td>0.218888</td>\n",
       "    </tr>\n",
       "    <tr>\n",
       "      <th>22</th>\n",
       "      <td>amounts_scale_flourAmt_scale_saltAmt</td>\n",
       "      <td>0.216407</td>\n",
       "    </tr>\n",
       "    <tr>\n",
       "      <th>23</th>\n",
       "      <td>times_scale_mix2Time_scale_restTime</td>\n",
       "      <td>0.211815</td>\n",
       "    </tr>\n",
       "    <tr>\n",
       "      <th>24</th>\n",
       "      <td>times_scale_mix1Speed_scale_bakeTime</td>\n",
       "      <td>0.211715</td>\n",
       "    </tr>\n",
       "    <tr>\n",
       "      <th>25</th>\n",
       "      <td>times_scale_mix1Time_scale_mix2Time</td>\n",
       "      <td>0.204731</td>\n",
       "    </tr>\n",
       "    <tr>\n",
       "      <th>26</th>\n",
       "      <td>times_scale_mix2Time</td>\n",
       "      <td>0.201424</td>\n",
       "    </tr>\n",
       "    <tr>\n",
       "      <th>27</th>\n",
       "      <td>times_scale_mix1Time_scale_proveTime</td>\n",
       "      <td>0.200219</td>\n",
       "    </tr>\n",
       "    <tr>\n",
       "      <th>28</th>\n",
       "      <td>times_scale_restTime_scale_bakeTime</td>\n",
       "      <td>0.197945</td>\n",
       "    </tr>\n",
       "    <tr>\n",
       "      <th>29</th>\n",
       "      <td>times_scale_mix2Time_scale_bakeTime</td>\n",
       "      <td>0.194570</td>\n",
       "    </tr>\n",
       "    <tr>\n",
       "      <th>30</th>\n",
       "      <td>times_scale_mix2Time_scale_proveTime</td>\n",
       "      <td>0.194550</td>\n",
       "    </tr>\n",
       "    <tr>\n",
       "      <th>31</th>\n",
       "      <td>times_scale_bakeTime</td>\n",
       "      <td>0.188746</td>\n",
       "    </tr>\n",
       "    <tr>\n",
       "      <th>32</th>\n",
       "      <td>amounts_scale_saltAmt</td>\n",
       "      <td>0.185321</td>\n",
       "    </tr>\n",
       "    <tr>\n",
       "      <th>33</th>\n",
       "      <td>amounts_scale_flourAmt_scale_water2Amt</td>\n",
       "      <td>0.165489</td>\n",
       "    </tr>\n",
       "    <tr>\n",
       "      <th>34</th>\n",
       "      <td>temps_scale_ambTemp_scale_ambHumidity</td>\n",
       "      <td>0.158505</td>\n",
       "    </tr>\n",
       "    <tr>\n",
       "      <th>35</th>\n",
       "      <td>times_scale_mix1Time_scale_mix1Speed</td>\n",
       "      <td>0.156222</td>\n",
       "    </tr>\n",
       "    <tr>\n",
       "      <th>36</th>\n",
       "      <td>temps_scale_waterTemp_scale_waterTemp</td>\n",
       "      <td>0.155484</td>\n",
       "    </tr>\n",
       "    <tr>\n",
       "      <th>37</th>\n",
       "      <td>times_scale_proveTime</td>\n",
       "      <td>0.136561</td>\n",
       "    </tr>\n",
       "    <tr>\n",
       "      <th>38</th>\n",
       "      <td>amounts_scale_saltAmt_scale_yeastAmt</td>\n",
       "      <td>0.135497</td>\n",
       "    </tr>\n",
       "    <tr>\n",
       "      <th>39</th>\n",
       "      <td>times_scale_proveTime_scale_bakeTime</td>\n",
       "      <td>0.121908</td>\n",
       "    </tr>\n",
       "    <tr>\n",
       "      <th>40</th>\n",
       "      <td>times_scale_mix1Time_scale_bakeTime</td>\n",
       "      <td>0.114956</td>\n",
       "    </tr>\n",
       "    <tr>\n",
       "      <th>41</th>\n",
       "      <td>times_scale_mix1Time_scale_restTime</td>\n",
       "      <td>0.108787</td>\n",
       "    </tr>\n",
       "    <tr>\n",
       "      <th>42</th>\n",
       "      <td>times_scale_mix1Speed_scale_mix1Speed</td>\n",
       "      <td>0.105550</td>\n",
       "    </tr>\n",
       "    <tr>\n",
       "      <th>43</th>\n",
       "      <td>temps_scale_ambTemp_scale_ambTemp</td>\n",
       "      <td>0.102185</td>\n",
       "    </tr>\n",
       "    <tr>\n",
       "      <th>44</th>\n",
       "      <td>times_scale_restTime</td>\n",
       "      <td>0.089140</td>\n",
       "    </tr>\n",
       "    <tr>\n",
       "      <th>45</th>\n",
       "      <td>amounts_scale_yeastAmt</td>\n",
       "      <td>0.071811</td>\n",
       "    </tr>\n",
       "    <tr>\n",
       "      <th>46</th>\n",
       "      <td>times_scale_restTime_scale_restTime</td>\n",
       "      <td>0.070853</td>\n",
       "    </tr>\n",
       "    <tr>\n",
       "      <th>47</th>\n",
       "      <td>temps_scale_waterTemp</td>\n",
       "      <td>0.056719</td>\n",
       "    </tr>\n",
       "  </tbody>\n",
       "</table>\n",
       "</div>"
      ],
      "text/plain": [
       "                                    feature  attribution\n",
       "0       temps_scale_bakeTemp_scale_bakeTemp     4.955550\n",
       "1   amounts_scale_water2Amt_scale_water2Amt     1.941637\n",
       "2       times_scale_mix1Time_scale_mix1Time     1.539038\n",
       "3     amounts_scale_flourAmt_scale_flourAmt     1.006015\n",
       "4                      temps_scale_bakeTemp     0.919135\n",
       "5       times_scale_mix2Time_scale_mix2Time     0.788652\n",
       "6        temps_scale_bakeTemp_scale_ambTemp     0.692857\n",
       "7                    amounts_scale_flourAmt     0.626460\n",
       "8    temps_scale_bakeTemp_scale_ambHumidity     0.622644\n",
       "9     amounts_scale_flourAmt_scale_yeastAmt     0.608492\n",
       "10    amounts_scale_yeastAmt_scale_yeastAmt     0.506003\n",
       "11  amounts_scale_water1Amt_scale_water1Amt     0.395842\n",
       "12    amounts_scale_saltAmt_scale_water2Amt     0.365628\n",
       "13      amounts_scale_saltAmt_scale_saltAmt     0.353257\n",
       "14      times_scale_bakeTime_scale_bakeTime     0.323527\n",
       "15     times_scale_mix2Time_scale_mix1Speed     0.289189\n",
       "16  temps_scale_waterTemp_scale_ambHumidity     0.273437\n",
       "17   amounts_scale_flourAmt_scale_water1Amt     0.264692\n",
       "18     temps_scale_waterTemp_scale_bakeTemp     0.256753\n",
       "19      temps_scale_waterTemp_scale_ambTemp     0.236202\n",
       "20  amounts_scale_water1Amt_scale_water2Amt     0.227820\n",
       "21    times_scale_proveTime_scale_proveTime     0.218888\n",
       "22     amounts_scale_flourAmt_scale_saltAmt     0.216407\n",
       "23      times_scale_mix2Time_scale_restTime     0.211815\n",
       "24     times_scale_mix1Speed_scale_bakeTime     0.211715\n",
       "25      times_scale_mix1Time_scale_mix2Time     0.204731\n",
       "26                     times_scale_mix2Time     0.201424\n",
       "27     times_scale_mix1Time_scale_proveTime     0.200219\n",
       "28      times_scale_restTime_scale_bakeTime     0.197945\n",
       "29      times_scale_mix2Time_scale_bakeTime     0.194570\n",
       "30     times_scale_mix2Time_scale_proveTime     0.194550\n",
       "31                     times_scale_bakeTime     0.188746\n",
       "32                    amounts_scale_saltAmt     0.185321\n",
       "33   amounts_scale_flourAmt_scale_water2Amt     0.165489\n",
       "34    temps_scale_ambTemp_scale_ambHumidity     0.158505\n",
       "35     times_scale_mix1Time_scale_mix1Speed     0.156222\n",
       "36    temps_scale_waterTemp_scale_waterTemp     0.155484\n",
       "37                    times_scale_proveTime     0.136561\n",
       "38     amounts_scale_saltAmt_scale_yeastAmt     0.135497\n",
       "39     times_scale_proveTime_scale_bakeTime     0.121908\n",
       "40      times_scale_mix1Time_scale_bakeTime     0.114956\n",
       "41      times_scale_mix1Time_scale_restTime     0.108787\n",
       "42    times_scale_mix1Speed_scale_mix1Speed     0.105550\n",
       "43        temps_scale_ambTemp_scale_ambTemp     0.102185\n",
       "44                     times_scale_restTime     0.089140\n",
       "45                   amounts_scale_yeastAmt     0.071811\n",
       "46      times_scale_restTime_scale_restTime     0.070853\n",
       "47                    temps_scale_waterTemp     0.056719"
      ]
     },
     "execution_count": 219,
     "metadata": {},
     "output_type": "execute_result"
    }
   ],
   "source": [
    "gexplain = bq.query(query = query).to_dataframe()\n",
    "gexplain"
   ]
  },
  {
   "cell_type": "markdown",
   "id": "1d428863-5f93-4331-bf79-9fd2756c8d9c",
   "metadata": {},
   "source": [
    "Plot the attribution:"
   ]
  },
  {
   "cell_type": "code",
   "execution_count": 220,
   "id": "29389f1a-4926-4be6-9d36-d3794afb3b4e",
   "metadata": {},
   "outputs": [
    {
     "data": {
      "image/png": "[encoded data removed]",
      "text/plain": [
       "<Figure size 1080x576 with 1 Axes>"
      ]
     },
     "metadata": {
      "needs_background": "light"
     },
     "output_type": "display_data"
    }
   ],
   "source": [
    "plt.figure(figsize=(15,8))\n",
    "plt.barh(gexplain['feature'], gexplain['attribution'])\n",
    "plt.title('Global Influence')\n",
    "plt.xlabel('Attribution')\n",
    "#plt.ylabel('Feature')\n",
    "plt.show()"
   ]
  },
  {
   "cell_type": "markdown",
   "id": "f32300de-89f1-4415-bf15-8830629ddb3e",
   "metadata": {},
   "source": [
    "### Predictions With BigQuery ML (BQML)\n",
    "\n",
    "Create a pandas dataframe with retrieved predictions for the test data in the table using [ML.PREDICT](https://cloud.google.com/bigquery-ml/docs/reference/standard-sql/bigqueryml-syntax-predict):"
   ]
  },
  {
   "cell_type": "code",
   "execution_count": 221,
   "id": "025797c5-7a21-49f9-b536-2e08fa7f434a",
   "metadata": {},
   "outputs": [
    {
     "name": "stdout",
     "output_type": "stream",
     "text": [
      "\n",
      "    SELECT Recipe, JUDGE_A, predicted_JUDGE_A, JUDGE_A-predicted_JUDGE_A as Error\n",
      "    FROM ML.PREDICT (MODEL `statmike-mlops-349915.feature_engineering.03_feature_engineering_manual`,(\n",
      "        SELECT *\n",
      "        FROM `statmike-mlops-349915.feature_engineering.bread`\n",
      "        WHERE Recipe <= 10)\n",
      "    )\n",
      "    ORDER BY Recipe\n",
      "\n"
     ]
    }
   ],
   "source": [
    "query = f\"\"\"\n",
    "    SELECT Recipe, JUDGE_A, predicted_JUDGE_A, JUDGE_A-predicted_JUDGE_A as Error\n",
    "    FROM ML.PREDICT (MODEL `{BQ_PROJECT}.{BQ_DATASET}.{BQ_MODEL_ManualFeatureEng}`,(\n",
    "        SELECT *\n",
    "        FROM `{BQ_PROJECT}.{BQ_DATASET}.{BQ_TABLE}`\n",
    "        WHERE Recipe <= 10)\n",
    "    )\n",
    "    ORDER BY Recipe\n",
    "\"\"\"\n",
    "print(query)"
   ]
  },
  {
   "cell_type": "code",
   "execution_count": 222,
   "id": "d290ac39-0cee-4fd2-b2c3-14c2cf8cde22",
   "metadata": {},
   "outputs": [
    {
     "data": {
      "text/html": [
       "<div>\n",
       "<style scoped>\n",
       "    .dataframe tbody tr th:only-of-type {\n",
       "        vertical-align: middle;\n",
       "    }\n",
       "\n",
       "    .dataframe tbody tr th {\n",
       "        vertical-align: top;\n",
       "    }\n",
       "\n",
       "    .dataframe thead th {\n",
       "        text-align: right;\n",
       "    }\n",
       "</style>\n",
       "<table border=\"1\" class=\"dataframe\">\n",
       "  <thead>\n",
       "    <tr style=\"text-align: right;\">\n",
       "      <th></th>\n",
       "      <th>Recipe</th>\n",
       "      <th>JUDGE_A</th>\n",
       "      <th>predicted_JUDGE_A</th>\n",
       "      <th>Error</th>\n",
       "    </tr>\n",
       "  </thead>\n",
       "  <tbody>\n",
       "    <tr>\n",
       "      <th>0</th>\n",
       "      <td>1</td>\n",
       "      <td>71.0</td>\n",
       "      <td>78.745161</td>\n",
       "      <td>-7.745161</td>\n",
       "    </tr>\n",
       "    <tr>\n",
       "      <th>1</th>\n",
       "      <td>2</td>\n",
       "      <td>79.0</td>\n",
       "      <td>73.923606</td>\n",
       "      <td>5.076394</td>\n",
       "    </tr>\n",
       "    <tr>\n",
       "      <th>2</th>\n",
       "      <td>3</td>\n",
       "      <td>53.0</td>\n",
       "      <td>46.153340</td>\n",
       "      <td>6.846660</td>\n",
       "    </tr>\n",
       "    <tr>\n",
       "      <th>3</th>\n",
       "      <td>4</td>\n",
       "      <td>82.0</td>\n",
       "      <td>81.132189</td>\n",
       "      <td>0.867811</td>\n",
       "    </tr>\n",
       "    <tr>\n",
       "      <th>4</th>\n",
       "      <td>5</td>\n",
       "      <td>81.0</td>\n",
       "      <td>79.004950</td>\n",
       "      <td>1.995050</td>\n",
       "    </tr>\n",
       "    <tr>\n",
       "      <th>5</th>\n",
       "      <td>6</td>\n",
       "      <td>88.0</td>\n",
       "      <td>82.514514</td>\n",
       "      <td>5.485486</td>\n",
       "    </tr>\n",
       "    <tr>\n",
       "      <th>6</th>\n",
       "      <td>7</td>\n",
       "      <td>89.0</td>\n",
       "      <td>82.471867</td>\n",
       "      <td>6.528133</td>\n",
       "    </tr>\n",
       "    <tr>\n",
       "      <th>7</th>\n",
       "      <td>8</td>\n",
       "      <td>77.0</td>\n",
       "      <td>74.703246</td>\n",
       "      <td>2.296754</td>\n",
       "    </tr>\n",
       "    <tr>\n",
       "      <th>8</th>\n",
       "      <td>9</td>\n",
       "      <td>68.0</td>\n",
       "      <td>75.278193</td>\n",
       "      <td>-7.278193</td>\n",
       "    </tr>\n",
       "    <tr>\n",
       "      <th>9</th>\n",
       "      <td>10</td>\n",
       "      <td>77.0</td>\n",
       "      <td>76.440918</td>\n",
       "      <td>0.559082</td>\n",
       "    </tr>\n",
       "  </tbody>\n",
       "</table>\n",
       "</div>"
      ],
      "text/plain": [
       "   Recipe  JUDGE_A  predicted_JUDGE_A     Error\n",
       "0       1     71.0          78.745161 -7.745161\n",
       "1       2     79.0          73.923606  5.076394\n",
       "2       3     53.0          46.153340  6.846660\n",
       "3       4     82.0          81.132189  0.867811\n",
       "4       5     81.0          79.004950  1.995050\n",
       "5       6     88.0          82.514514  5.485486\n",
       "6       7     89.0          82.471867  6.528133\n",
       "7       8     77.0          74.703246  2.296754\n",
       "8       9     68.0          75.278193 -7.278193\n",
       "9      10     77.0          76.440918  0.559082"
      ]
     },
     "execution_count": 222,
     "metadata": {},
     "output_type": "execute_result"
    }
   ],
   "source": [
    "bq.query(query = query).to_dataframe()"
   ]
  },
  {
   "cell_type": "markdown",
   "id": "7a70a685-6cb7-4b59-8ef6-1267d9c07daf",
   "metadata": {},
   "source": [
    "### Local Explainability - What impacted the judges rating?\n",
    "\n",
    "Retrieve feature attribution values to interpret each features contribution to a prediction relative to the baseline prediction using [ML.EXPLAIN_PREDICT](https://cloud.google.com/bigquery-ml/docs/reference/standard-sql/bigqueryml-syntax-explain-predict)."
   ]
  },
  {
   "cell_type": "code",
   "execution_count": 223,
   "id": "91fe8acb-d8b3-4e37-bad8-c0eba2173ad9",
   "metadata": {},
   "outputs": [
    {
     "name": "stdout",
     "output_type": "stream",
     "text": [
      "\n",
      "    SELECT *\n",
      "    FROM ML.EXPLAIN_PREDICT (MODEL `statmike-mlops-349915.feature_engineering.03_feature_engineering_manual`,(\n",
      "        SELECT *\n",
      "        FROM `statmike-mlops-349915.feature_engineering.bread`\n",
      "        WHERE Recipe <= 10)\n",
      "    )\n",
      "    ORDER BY Recipe\n",
      "\n"
     ]
    }
   ],
   "source": [
    "query = f\"\"\"\n",
    "    SELECT *\n",
    "    FROM ML.EXPLAIN_PREDICT (MODEL `{BQ_PROJECT}.{BQ_DATASET}.{BQ_MODEL_ManualFeatureEng}`,(\n",
    "        SELECT *\n",
    "        FROM `{BQ_PROJECT}.{BQ_DATASET}.{BQ_TABLE}`\n",
    "        WHERE Recipe <= 10)\n",
    "    )\n",
    "    ORDER BY Recipe\n",
    "\"\"\"\n",
    "print(query)"
   ]
  },
  {
   "cell_type": "code",
   "execution_count": 224,
   "id": "e423d524-f912-443f-b0ad-26c96fb8ec46",
   "metadata": {},
   "outputs": [
    {
     "data": {
      "text/html": [
       "<div>\n",
       "<style scoped>\n",
       "    .dataframe tbody tr th:only-of-type {\n",
       "        vertical-align: middle;\n",
       "    }\n",
       "\n",
       "    .dataframe tbody tr th {\n",
       "        vertical-align: top;\n",
       "    }\n",
       "\n",
       "    .dataframe thead th {\n",
       "        text-align: right;\n",
       "    }\n",
       "</style>\n",
       "<table border=\"1\" class=\"dataframe\">\n",
       "  <thead>\n",
       "    <tr style=\"text-align: right;\">\n",
       "      <th></th>\n",
       "      <th>predicted_JUDGE_A</th>\n",
       "      <th>top_feature_attributions</th>\n",
       "      <th>baseline_prediction_value</th>\n",
       "      <th>prediction_value</th>\n",
       "      <th>approximation_error</th>\n",
       "      <th>Recipe</th>\n",
       "      <th>flourAmt</th>\n",
       "      <th>saltAmt</th>\n",
       "      <th>yeastAmt</th>\n",
       "      <th>mix1Time</th>\n",
       "      <th>...</th>\n",
       "      <th>water2Amt</th>\n",
       "      <th>waterTemp</th>\n",
       "      <th>proveTime</th>\n",
       "      <th>restTime</th>\n",
       "      <th>bakeTime</th>\n",
       "      <th>bakeTemp</th>\n",
       "      <th>ambTemp</th>\n",
       "      <th>ambHumidity</th>\n",
       "      <th>JUDGE_A</th>\n",
       "      <th>JUDGE_B</th>\n",
       "    </tr>\n",
       "  </thead>\n",
       "  <tbody>\n",
       "    <tr>\n",
       "      <th>0</th>\n",
       "      <td>78.745161</td>\n",
       "      <td>[{'feature': 'amounts_scale_flourAmt_scale_flo...</td>\n",
       "      <td>74.92396</td>\n",
       "      <td>78.745161</td>\n",
       "      <td>0.0</td>\n",
       "      <td>1</td>\n",
       "      <td>515.710025</td>\n",
       "      <td>10</td>\n",
       "      <td>12</td>\n",
       "      <td>6</td>\n",
       "      <td>...</td>\n",
       "      <td>101.479618</td>\n",
       "      <td>50</td>\n",
       "      <td>98.584704</td>\n",
       "      <td>44</td>\n",
       "      <td>24</td>\n",
       "      <td>409.507253</td>\n",
       "      <td>63.164014</td>\n",
       "      <td>75.458039</td>\n",
       "      <td>71.0</td>\n",
       "      <td>59.0</td>\n",
       "    </tr>\n",
       "    <tr>\n",
       "      <th>1</th>\n",
       "      <td>73.923606</td>\n",
       "      <td>[{'feature': 'amounts_scale_water2Amt_scale_wa...</td>\n",
       "      <td>74.92396</td>\n",
       "      <td>73.923606</td>\n",
       "      <td>0.0</td>\n",
       "      <td>2</td>\n",
       "      <td>510.229955</td>\n",
       "      <td>8</td>\n",
       "      <td>9</td>\n",
       "      <td>5</td>\n",
       "      <td>...</td>\n",
       "      <td>68.762720</td>\n",
       "      <td>48</td>\n",
       "      <td>98.365636</td>\n",
       "      <td>41</td>\n",
       "      <td>24</td>\n",
       "      <td>424.228722</td>\n",
       "      <td>77.737096</td>\n",
       "      <td>58.761221</td>\n",
       "      <td>79.0</td>\n",
       "      <td>69.0</td>\n",
       "    </tr>\n",
       "    <tr>\n",
       "      <th>2</th>\n",
       "      <td>46.153340</td>\n",
       "      <td>[{'feature': 'temps_scale_bakeTemp_scale_bakeT...</td>\n",
       "      <td>74.92396</td>\n",
       "      <td>46.153340</td>\n",
       "      <td>0.0</td>\n",
       "      <td>3</td>\n",
       "      <td>500.813411</td>\n",
       "      <td>12</td>\n",
       "      <td>8</td>\n",
       "      <td>3</td>\n",
       "      <td>...</td>\n",
       "      <td>104.893521</td>\n",
       "      <td>41</td>\n",
       "      <td>105.269647</td>\n",
       "      <td>38</td>\n",
       "      <td>23</td>\n",
       "      <td>459.174852</td>\n",
       "      <td>57.744401</td>\n",
       "      <td>54.538288</td>\n",
       "      <td>53.0</td>\n",
       "      <td>35.0</td>\n",
       "    </tr>\n",
       "    <tr>\n",
       "      <th>3</th>\n",
       "      <td>81.132189</td>\n",
       "      <td>[{'feature': 'temps_scale_bakeTemp_scale_bakeT...</td>\n",
       "      <td>74.92396</td>\n",
       "      <td>81.132189</td>\n",
       "      <td>0.0</td>\n",
       "      <td>4</td>\n",
       "      <td>500.277923</td>\n",
       "      <td>11</td>\n",
       "      <td>9</td>\n",
       "      <td>5</td>\n",
       "      <td>...</td>\n",
       "      <td>132.600885</td>\n",
       "      <td>43</td>\n",
       "      <td>99.702199</td>\n",
       "      <td>35</td>\n",
       "      <td>24</td>\n",
       "      <td>419.520278</td>\n",
       "      <td>59.933839</td>\n",
       "      <td>40.976870</td>\n",
       "      <td>82.0</td>\n",
       "      <td>73.0</td>\n",
       "    </tr>\n",
       "    <tr>\n",
       "      <th>4</th>\n",
       "      <td>79.004950</td>\n",
       "      <td>[{'feature': 'temps_scale_bakeTemp_scale_bakeT...</td>\n",
       "      <td>74.92396</td>\n",
       "      <td>79.004950</td>\n",
       "      <td>0.0</td>\n",
       "      <td>5</td>\n",
       "      <td>491.856284</td>\n",
       "      <td>10</td>\n",
       "      <td>11</td>\n",
       "      <td>4</td>\n",
       "      <td>...</td>\n",
       "      <td>116.457938</td>\n",
       "      <td>40</td>\n",
       "      <td>99.173690</td>\n",
       "      <td>38</td>\n",
       "      <td>28</td>\n",
       "      <td>427.263140</td>\n",
       "      <td>40.737932</td>\n",
       "      <td>64.427165</td>\n",
       "      <td>81.0</td>\n",
       "      <td>71.0</td>\n",
       "    </tr>\n",
       "    <tr>\n",
       "      <th>5</th>\n",
       "      <td>82.514514</td>\n",
       "      <td>[{'feature': 'temps_scale_bakeTemp_scale_bakeT...</td>\n",
       "      <td>74.92396</td>\n",
       "      <td>82.514514</td>\n",
       "      <td>0.0</td>\n",
       "      <td>6</td>\n",
       "      <td>493.063988</td>\n",
       "      <td>12</td>\n",
       "      <td>8</td>\n",
       "      <td>5</td>\n",
       "      <td>...</td>\n",
       "      <td>120.715632</td>\n",
       "      <td>47</td>\n",
       "      <td>102.114559</td>\n",
       "      <td>40</td>\n",
       "      <td>24</td>\n",
       "      <td>426.026718</td>\n",
       "      <td>60.912058</td>\n",
       "      <td>55.199282</td>\n",
       "      <td>88.0</td>\n",
       "      <td>80.0</td>\n",
       "    </tr>\n",
       "    <tr>\n",
       "      <th>6</th>\n",
       "      <td>82.471867</td>\n",
       "      <td>[{'feature': 'temps_scale_bakeTemp_scale_bakeT...</td>\n",
       "      <td>74.92396</td>\n",
       "      <td>82.471867</td>\n",
       "      <td>0.0</td>\n",
       "      <td>7</td>\n",
       "      <td>503.982604</td>\n",
       "      <td>10</td>\n",
       "      <td>11</td>\n",
       "      <td>4</td>\n",
       "      <td>...</td>\n",
       "      <td>107.750399</td>\n",
       "      <td>47</td>\n",
       "      <td>101.399840</td>\n",
       "      <td>40</td>\n",
       "      <td>25</td>\n",
       "      <td>431.105618</td>\n",
       "      <td>54.720015</td>\n",
       "      <td>59.111548</td>\n",
       "      <td>89.0</td>\n",
       "      <td>83.0</td>\n",
       "    </tr>\n",
       "    <tr>\n",
       "      <th>7</th>\n",
       "      <td>74.703246</td>\n",
       "      <td>[{'feature': 'amounts_scale_water2Amt_scale_wa...</td>\n",
       "      <td>74.92396</td>\n",
       "      <td>74.703246</td>\n",
       "      <td>0.0</td>\n",
       "      <td>8</td>\n",
       "      <td>499.619726</td>\n",
       "      <td>9</td>\n",
       "      <td>10</td>\n",
       "      <td>5</td>\n",
       "      <td>...</td>\n",
       "      <td>110.992850</td>\n",
       "      <td>45</td>\n",
       "      <td>98.659767</td>\n",
       "      <td>35</td>\n",
       "      <td>26</td>\n",
       "      <td>441.954393</td>\n",
       "      <td>72.423100</td>\n",
       "      <td>33.424169</td>\n",
       "      <td>77.0</td>\n",
       "      <td>67.0</td>\n",
       "    </tr>\n",
       "    <tr>\n",
       "      <th>8</th>\n",
       "      <td>75.278193</td>\n",
       "      <td>[{'feature': 'amounts_scale_water2Amt_scale_wa...</td>\n",
       "      <td>74.92396</td>\n",
       "      <td>75.278193</td>\n",
       "      <td>0.0</td>\n",
       "      <td>9</td>\n",
       "      <td>506.406780</td>\n",
       "      <td>11</td>\n",
       "      <td>12</td>\n",
       "      <td>5</td>\n",
       "      <td>...</td>\n",
       "      <td>115.882326</td>\n",
       "      <td>44</td>\n",
       "      <td>100.435276</td>\n",
       "      <td>44</td>\n",
       "      <td>28</td>\n",
       "      <td>440.953997</td>\n",
       "      <td>65.394566</td>\n",
       "      <td>45.638277</td>\n",
       "      <td>68.0</td>\n",
       "      <td>55.0</td>\n",
       "    </tr>\n",
       "    <tr>\n",
       "      <th>9</th>\n",
       "      <td>76.440918</td>\n",
       "      <td>[{'feature': 'amounts_scale_water2Amt_scale_wa...</td>\n",
       "      <td>74.92396</td>\n",
       "      <td>76.440918</td>\n",
       "      <td>0.0</td>\n",
       "      <td>10</td>\n",
       "      <td>506.773735</td>\n",
       "      <td>11</td>\n",
       "      <td>10</td>\n",
       "      <td>5</td>\n",
       "      <td>...</td>\n",
       "      <td>74.209764</td>\n",
       "      <td>43</td>\n",
       "      <td>105.723266</td>\n",
       "      <td>40</td>\n",
       "      <td>22</td>\n",
       "      <td>418.192330</td>\n",
       "      <td>58.959353</td>\n",
       "      <td>55.853933</td>\n",
       "      <td>77.0</td>\n",
       "      <td>66.0</td>\n",
       "    </tr>\n",
       "  </tbody>\n",
       "</table>\n",
       "<p>10 rows × 24 columns</p>\n",
       "</div>"
      ],
      "text/plain": [
       "   predicted_JUDGE_A                           top_feature_attributions  \\\n",
       "0          78.745161  [{'feature': 'amounts_scale_flourAmt_scale_flo...   \n",
       "1          73.923606  [{'feature': 'amounts_scale_water2Amt_scale_wa...   \n",
       "2          46.153340  [{'feature': 'temps_scale_bakeTemp_scale_bakeT...   \n",
       "3          81.132189  [{'feature': 'temps_scale_bakeTemp_scale_bakeT...   \n",
       "4          79.004950  [{'feature': 'temps_scale_bakeTemp_scale_bakeT...   \n",
       "5          82.514514  [{'feature': 'temps_scale_bakeTemp_scale_bakeT...   \n",
       "6          82.471867  [{'feature': 'temps_scale_bakeTemp_scale_bakeT...   \n",
       "7          74.703246  [{'feature': 'amounts_scale_water2Amt_scale_wa...   \n",
       "8          75.278193  [{'feature': 'amounts_scale_water2Amt_scale_wa...   \n",
       "9          76.440918  [{'feature': 'amounts_scale_water2Amt_scale_wa...   \n",
       "\n",
       "   baseline_prediction_value  prediction_value  approximation_error  Recipe  \\\n",
       "0                   74.92396         78.745161                  0.0       1   \n",
       "1                   74.92396         73.923606                  0.0       2   \n",
       "2                   74.92396         46.153340                  0.0       3   \n",
       "3                   74.92396         81.132189                  0.0       4   \n",
       "4                   74.92396         79.004950                  0.0       5   \n",
       "5                   74.92396         82.514514                  0.0       6   \n",
       "6                   74.92396         82.471867                  0.0       7   \n",
       "7                   74.92396         74.703246                  0.0       8   \n",
       "8                   74.92396         75.278193                  0.0       9   \n",
       "9                   74.92396         76.440918                  0.0      10   \n",
       "\n",
       "     flourAmt  saltAmt  yeastAmt  mix1Time  ...   water2Amt  waterTemp  \\\n",
       "0  515.710025       10        12         6  ...  101.479618         50   \n",
       "1  510.229955        8         9         5  ...   68.762720         48   \n",
       "2  500.813411       12         8         3  ...  104.893521         41   \n",
       "3  500.277923       11         9         5  ...  132.600885         43   \n",
       "4  491.856284       10        11         4  ...  116.457938         40   \n",
       "5  493.063988       12         8         5  ...  120.715632         47   \n",
       "6  503.982604       10        11         4  ...  107.750399         47   \n",
       "7  499.619726        9        10         5  ...  110.992850         45   \n",
       "8  506.406780       11        12         5  ...  115.882326         44   \n",
       "9  506.773735       11        10         5  ...   74.209764         43   \n",
       "\n",
       "    proveTime  restTime  bakeTime    bakeTemp    ambTemp  ambHumidity  \\\n",
       "0   98.584704        44        24  409.507253  63.164014    75.458039   \n",
       "1   98.365636        41        24  424.228722  77.737096    58.761221   \n",
       "2  105.269647        38        23  459.174852  57.744401    54.538288   \n",
       "3   99.702199        35        24  419.520278  59.933839    40.976870   \n",
       "4   99.173690        38        28  427.263140  40.737932    64.427165   \n",
       "5  102.114559        40        24  426.026718  60.912058    55.199282   \n",
       "6  101.399840        40        25  431.105618  54.720015    59.111548   \n",
       "7   98.659767        35        26  441.954393  72.423100    33.424169   \n",
       "8  100.435276        44        28  440.953997  65.394566    45.638277   \n",
       "9  105.723266        40        22  418.192330  58.959353    55.853933   \n",
       "\n",
       "   JUDGE_A  JUDGE_B  \n",
       "0     71.0     59.0  \n",
       "1     79.0     69.0  \n",
       "2     53.0     35.0  \n",
       "3     82.0     73.0  \n",
       "4     81.0     71.0  \n",
       "5     88.0     80.0  \n",
       "6     89.0     83.0  \n",
       "7     77.0     67.0  \n",
       "8     68.0     55.0  \n",
       "9     77.0     66.0  \n",
       "\n",
       "[10 rows x 24 columns]"
      ]
     },
     "execution_count": 224,
     "metadata": {},
     "output_type": "execute_result"
    }
   ],
   "source": [
    "explain = bq.query(query = query).to_dataframe()\n",
    "explain"
   ]
  },
  {
   "cell_type": "markdown",
   "id": "9bebf83d-077b-4c2c-9593-d15f4dce42c8",
   "metadata": {},
   "source": [
    "Create a plot of feature attributions for a single prediction:"
   ]
  },
  {
   "cell_type": "code",
   "execution_count": 225,
   "id": "bba5463c-8a94-4baa-9d88-c2fe5419c383",
   "metadata": {},
   "outputs": [],
   "source": [
    "recipe = 1\n",
    "explanation = explain.iloc[recipe-1]['top_feature_attributions']"
   ]
  },
  {
   "cell_type": "code",
   "execution_count": 226,
   "id": "46a76ebc-cdad-4db0-9e14-ea25b2de56d9",
   "metadata": {},
   "outputs": [
    {
     "data": {
      "image/png": "[encoded data removed]",
      "text/plain": [
       "<Figure size 1080x360 with 1 Axes>"
      ]
     },
     "metadata": {
      "needs_background": "light"
     },
     "output_type": "display_data"
    }
   ],
   "source": [
    "features = []\n",
    "scores = []\n",
    "for k in explanation:\n",
    "    features.append(k['feature'])\n",
    "    scores.append(k['attribution'])\n",
    "features = [x for _, x in sorted(zip(scores, features))]\n",
    "scores = sorted(scores)\n",
    "\n",
    "plt.figure(figsize=(15,5))\n",
    "plt.barh(features, scores)\n",
    "plt.title(f'Feature Attribution for Prediction - Recipe {recipe}')\n",
    "plt.show()"
   ]
  },
  {
   "cell_type": "markdown",
   "id": "e0992a1a-f8d7-471b-b56a-fed4efa214b8",
   "metadata": {},
   "source": [
    "### Check out this model in the BigQuery Console:\n",
    "- Make sure project selected is the one from this notebook\n",
    "- Under Explore, expand this project and dataset\n",
    "- Expand Models and select the model create here"
   ]
  },
  {
   "cell_type": "code",
   "execution_count": 227,
   "id": "e98e84d0-bb07-4be0-9e40-889cf16c8d07",
   "metadata": {},
   "outputs": [
    {
     "name": "stdout",
     "output_type": "stream",
     "text": [
      "Direct link to the model in BigQuery:\n",
      "https://console.cloud.google.com/bigquery?project=statmike-mlops-349915&ws=!1m5!1m4!5m3!1sstatmike-mlops-349915!2sfeature_engineering!3s03_feature_engineering_manual\n"
     ]
    }
   ],
   "source": [
    "print(f'Direct link to the model in BigQuery:\\nhttps://console.cloud.google.com/bigquery?project={PROJECT_ID}&ws=!1m5!1m4!5m3!1s{PROJECT_ID}!2s{BQ_DATASET}!3s{BQ_MODEL_ManualFeatureEng}')"
   ]
  },
  {
   "cell_type": "markdown",
   "id": "35df9456-499b-4a42-ae52-b29977f89088",
   "metadata": {},
   "source": [
    "### Check out this model in the Vertex AI Console:\n",
    "- Make sure project selected is the one from this notebook\n",
    "- Make sure the region is `europe-west4` (default when BQ is `EU` multiregion)"
   ]
  },
  {
   "cell_type": "code",
   "execution_count": 228,
   "id": "a3801c09-f8e4-4dda-871a-2289cbf428d6",
   "metadata": {},
   "outputs": [
    {
     "name": "stdout",
     "output_type": "stream",
     "text": [
      "View the model in the Vertex AI Console:\n",
      "https://console.cloud.google.com/vertex-ai/locations/europe-west4/models/bqml_03_feature_engineering_manual?project=statmike-mlops-349915\n"
     ]
    }
   ],
   "source": [
    "print(f\"View the model in the Vertex AI Console:\\nhttps://console.cloud.google.com/vertex-ai/locations/{REGION}/models/bqml_{BQ_MODEL_ManualFeatureEng}?project={PROJECT_ID}\")"
   ]
  },
  {
   "cell_type": "markdown",
   "id": "6d64b59c-65d8-46e3-9d74-e01f7dfcb467",
   "metadata": {},
   "source": [
    "---\n",
    "---\n",
    "---\n",
    "---\n",
    "---\n",
    "---\n",
    "# IN PROGRESS STILL\n",
    "\n",
    "The proces below works for the automatic feature engineering model.  It does not currently work for the manual preprocessing model\n",
    "\n",
    "Thoughts: Deployment Pool where all models share a VM\n",
    "- Auto - combined model\n",
    "- Manual - preprocess\n",
    "- Manual - model\n",
    "\n"
   ]
  },
  {
   "cell_type": "markdown",
   "id": "81063bc4-cb3a-4e4b-80dd-12671e94384a",
   "metadata": {},
   "source": [
    "## Serving"
   ]
  },
  {
   "cell_type": "markdown",
   "id": "5f93b212-a130-4fcf-a969-1bc17148f740",
   "metadata": {},
   "source": [
    "### Vertex AI Model Registry - Get Model\n",
    "\n",
    "References:\n",
    "- [aiplatform.Model()](https://cloud.google.com/python/docs/reference/aiplatform/latest/google.cloud.aiplatform.Model)"
   ]
  },
  {
   "cell_type": "code",
   "execution_count": 238,
   "id": "a20718ab-73f8-41fc-9028-59b0db561ea9",
   "metadata": {},
   "outputs": [],
   "source": [
    "model = aiplatform.Model(model_name = f'bqml_{BQ_MODEL_AutoFeatureEng}')"
   ]
  },
  {
   "cell_type": "code",
   "execution_count": 239,
   "id": "c8b1abc4-623e-498e-8ea7-9ae498cde726",
   "metadata": {},
   "outputs": [
    {
     "data": {
      "text/plain": [
       "'projects/1026793852137/locations/europe-west4/models/bqml_03_feature_engineering_auto@1'"
      ]
     },
     "execution_count": 239,
     "metadata": {},
     "output_type": "execute_result"
    }
   ],
   "source": [
    "model.versioned_resource_name"
   ]
  },
  {
   "cell_type": "markdown",
   "id": "c6dbb3ac-ae06-42a0-89ba-4fa7d3ff39df",
   "metadata": {},
   "source": [
    "### Vertex AI Endpoint - Create or Retrieve\n",
    "\n",
    "References:\n",
    "- [aiplatform.Endpoint()](https://cloud.google.com/python/docs/reference/aiplatform/latest/google.cloud.aiplatform.Endpoint)"
   ]
  },
  {
   "cell_type": "code",
   "execution_count": 240,
   "id": "bd66fc34-0275-45f2-a9c0-9609dc6934bb",
   "metadata": {},
   "outputs": [
    {
     "name": "stdout",
     "output_type": "stream",
     "text": [
      "Endpoint Exists: projects/1026793852137/locations/europe-west4/endpoints/619887063554064384\n",
      "Review the Endpoint in the Console:\n",
      "https://console.cloud.google.com/vertex-ai/locations/europe-west4/endpoints/619887063554064384?project=statmike-mlops-349915\n"
     ]
    }
   ],
   "source": [
    "endpoints = aiplatform.Endpoint.list(filter = f\"labels.series={SERIES}\")\n",
    "if endpoints:\n",
    "    endpoint = endpoints[0]\n",
    "    print(f\"Endpoint Exists: {endpoints[0].resource_name}\")\n",
    "else:\n",
    "    endpoint = aiplatform.Endpoint.create(\n",
    "        display_name = f\"{SERIES}\",\n",
    "        labels = {'series' : f\"{SERIES}\"}    \n",
    "    )\n",
    "    print(f\"Endpoint Created: {endpoint.resource_name}\")\n",
    "\n",
    "print(f'Review the Endpoint in the Console:\\nhttps://console.cloud.google.com/vertex-ai/locations/{REGION}/endpoints/{endpoint.name}?project={PROJECT_ID}')"
   ]
  },
  {
   "cell_type": "code",
   "execution_count": 241,
   "id": "59271b28-ee7f-44b4-ba08-f7f1b878cd2e",
   "metadata": {},
   "outputs": [
    {
     "data": {
      "text/plain": [
       "'03'"
      ]
     },
     "execution_count": 241,
     "metadata": {},
     "output_type": "execute_result"
    }
   ],
   "source": [
    "endpoint.display_name"
   ]
  },
  {
   "cell_type": "code",
   "execution_count": 242,
   "id": "eb6a538b-64a3-4909-b0bb-0e0774d0a33d",
   "metadata": {},
   "outputs": [
    {
     "data": {
      "text/plain": [
       "{}"
      ]
     },
     "execution_count": 242,
     "metadata": {},
     "output_type": "execute_result"
    }
   ],
   "source": [
    "endpoint.traffic_split"
   ]
  },
  {
   "cell_type": "code",
   "execution_count": 243,
   "id": "a3b29fbf-666b-426f-bc5c-78ad40e5b194",
   "metadata": {},
   "outputs": [],
   "source": [
    "deployed_models = endpoint.list_models()\n",
    "#deployed_models"
   ]
  },
  {
   "cell_type": "markdown",
   "id": "57e353af-ccfd-4aac-ae29-495526c53aa4",
   "metadata": {},
   "source": [
    "### Deploy Model To Vertex AI Endpoint"
   ]
  },
  {
   "cell_type": "code",
   "execution_count": 244,
   "id": "2446adc7-a2f0-4dae-99ff-5803b4fd1960",
   "metadata": {},
   "outputs": [
    {
     "name": "stdout",
     "output_type": "stream",
     "text": [
      "Deploying model with 100% of traffic...\n",
      "Deploying Model projects/1026793852137/locations/europe-west4/models/bqml_03_feature_engineering_auto to Endpoint : projects/1026793852137/locations/europe-west4/endpoints/619887063554064384\n"
     ]
    },
    {
     "name": "stderr",
     "output_type": "stream",
     "text": [
      "INFO:google.cloud.aiplatform.models:Deploying Model projects/1026793852137/locations/europe-west4/models/bqml_03_feature_engineering_auto to Endpoint : projects/1026793852137/locations/europe-west4/endpoints/619887063554064384\n"
     ]
    },
    {
     "name": "stdout",
     "output_type": "stream",
     "text": [
      "Deploy Endpoint model backing LRO: projects/1026793852137/locations/europe-west4/endpoints/619887063554064384/operations/6342117759186370560\n"
     ]
    },
    {
     "name": "stderr",
     "output_type": "stream",
     "text": [
      "INFO:google.cloud.aiplatform.models:Deploy Endpoint model backing LRO: projects/1026793852137/locations/europe-west4/endpoints/619887063554064384/operations/6342117759186370560\n"
     ]
    },
    {
     "name": "stdout",
     "output_type": "stream",
     "text": [
      "Endpoint model deployed. Resource name: projects/1026793852137/locations/europe-west4/endpoints/619887063554064384\n"
     ]
    },
    {
     "name": "stderr",
     "output_type": "stream",
     "text": [
      "INFO:google.cloud.aiplatform.models:Endpoint model deployed. Resource name: projects/1026793852137/locations/europe-west4/endpoints/619887063554064384\n"
     ]
    }
   ],
   "source": [
    "if (model.display_name, model.version_id) not in [(deployed_model.display_name, deployed_model.model_version_id) for deployed_model in endpoint.list_models()]:\n",
    "    print(f'Deploying model with 100% of traffic...')\n",
    "    endpoint.deploy(\n",
    "        model = model,\n",
    "        deployed_model_display_name = model.display_name,\n",
    "        traffic_percentage = 100,\n",
    "        machine_type = DEPLOY_COMPUTE,\n",
    "        min_replica_count = 1,\n",
    "        max_replica_count = 1\n",
    "    )\n",
    "else: \n",
    "    print(f'The current model/version is already deployed.')"
   ]
  },
  {
   "cell_type": "markdown",
   "id": "bd917c61-291d-4cf3-abba-6a60a78c874e",
   "metadata": {},
   "source": [
    "### Remove Deployed Models without Traffic"
   ]
  },
  {
   "cell_type": "code",
   "execution_count": 245,
   "id": "75d4653a-add8-4abd-bebb-c481706367f4",
   "metadata": {},
   "outputs": [
    {
     "name": "stdout",
     "output_type": "stream",
     "text": [
      "Model bqml_03_feature_engineering_auto with version 1 has traffic = 100\n"
     ]
    }
   ],
   "source": [
    "for deployed_model in endpoint.list_models():\n",
    "    if deployed_model.id in endpoint.traffic_split:\n",
    "        print(f\"Model {deployed_model.display_name} with version {deployed_model.model_version_id} has traffic = {endpoint.traffic_split[deployed_model.id]}\")\n",
    "    else:\n",
    "        endpoint.undeploy(deployed_model_id = deployed_model.id)\n",
    "        print(f\"Undeploying {deployed_model.display_name} with version {deployed_model.model_version_id} because it has no traffic.\")"
   ]
  },
  {
   "cell_type": "code",
   "execution_count": 246,
   "id": "981f26f5-5814-4259-8886-df6b8dc47f38",
   "metadata": {},
   "outputs": [
    {
     "data": {
      "text/plain": [
       "{'2529782741466087424': 100}"
      ]
     },
     "execution_count": 246,
     "metadata": {},
     "output_type": "execute_result"
    }
   ],
   "source": [
    "endpoint.traffic_split"
   ]
  },
  {
   "cell_type": "code",
   "execution_count": 247,
   "id": "56e95a11-ec83-4bc0-ab9d-bf28d68e4403",
   "metadata": {},
   "outputs": [],
   "source": [
    "#endpoint.list_models()"
   ]
  },
  {
   "cell_type": "markdown",
   "id": "ecf9e01b-984a-4bfd-bdb4-e090e40023dd",
   "metadata": {},
   "source": [
    "---\n",
    "## Prediction"
   ]
  },
  {
   "cell_type": "markdown",
   "id": "587f87c8-9a36-476b-99f8-5923fc35027a",
   "metadata": {},
   "source": [
    "### Retrieve Records For Prediction"
   ]
  },
  {
   "cell_type": "code",
   "execution_count": 260,
   "id": "f06920aa-b15f-4b3a-9bad-70e48258f202",
   "metadata": {},
   "outputs": [],
   "source": [
    "n = 10\n",
    "pred = bq.query(\n",
    "    query = f\"\"\"\n",
    "        SELECT * EXCEPT(JUDGE_B)\n",
    "        FROM {BQ_PROJECT}.{BQ_DATASET}.{BQ_TABLE}\n",
    "        WHERE Recipe <= 10\n",
    "        ORDER BY Recipe\n",
    "    \"\"\"\n",
    ").to_dataframe()"
   ]
  },
  {
   "cell_type": "code",
   "execution_count": 261,
   "id": "fbe27666-ad78-4e29-9a3f-5e485bdb5306",
   "metadata": {},
   "outputs": [
    {
     "data": {
      "text/html": [
       "<div>\n",
       "<style scoped>\n",
       "    .dataframe tbody tr th:only-of-type {\n",
       "        vertical-align: middle;\n",
       "    }\n",
       "\n",
       "    .dataframe tbody tr th {\n",
       "        vertical-align: top;\n",
       "    }\n",
       "\n",
       "    .dataframe thead th {\n",
       "        text-align: right;\n",
       "    }\n",
       "</style>\n",
       "<table border=\"1\" class=\"dataframe\">\n",
       "  <thead>\n",
       "    <tr style=\"text-align: right;\">\n",
       "      <th></th>\n",
       "      <th>Recipe</th>\n",
       "      <th>flourAmt</th>\n",
       "      <th>saltAmt</th>\n",
       "      <th>yeastAmt</th>\n",
       "      <th>mix1Time</th>\n",
       "      <th>mix1Speed</th>\n",
       "      <th>mix2Time</th>\n",
       "      <th>mix2Speed</th>\n",
       "      <th>water1Amt</th>\n",
       "      <th>water2Amt</th>\n",
       "      <th>waterTemp</th>\n",
       "      <th>proveTime</th>\n",
       "      <th>restTime</th>\n",
       "      <th>bakeTime</th>\n",
       "      <th>bakeTemp</th>\n",
       "      <th>ambTemp</th>\n",
       "      <th>ambHumidity</th>\n",
       "      <th>JUDGE_A</th>\n",
       "    </tr>\n",
       "  </thead>\n",
       "  <tbody>\n",
       "    <tr>\n",
       "      <th>0</th>\n",
       "      <td>1</td>\n",
       "      <td>515.710025</td>\n",
       "      <td>10</td>\n",
       "      <td>12</td>\n",
       "      <td>6</td>\n",
       "      <td>2</td>\n",
       "      <td>5</td>\n",
       "      <td>4</td>\n",
       "      <td>316.429732</td>\n",
       "      <td>101.479618</td>\n",
       "      <td>50</td>\n",
       "      <td>98.584704</td>\n",
       "      <td>44</td>\n",
       "      <td>24</td>\n",
       "      <td>409.507253</td>\n",
       "      <td>63.164014</td>\n",
       "      <td>75.458039</td>\n",
       "      <td>71.0</td>\n",
       "    </tr>\n",
       "    <tr>\n",
       "      <th>1</th>\n",
       "      <td>2</td>\n",
       "      <td>510.229955</td>\n",
       "      <td>8</td>\n",
       "      <td>9</td>\n",
       "      <td>5</td>\n",
       "      <td>4</td>\n",
       "      <td>4</td>\n",
       "      <td>5</td>\n",
       "      <td>332.750016</td>\n",
       "      <td>68.762720</td>\n",
       "      <td>48</td>\n",
       "      <td>98.365636</td>\n",
       "      <td>41</td>\n",
       "      <td>24</td>\n",
       "      <td>424.228722</td>\n",
       "      <td>77.737096</td>\n",
       "      <td>58.761221</td>\n",
       "      <td>79.0</td>\n",
       "    </tr>\n",
       "    <tr>\n",
       "      <th>2</th>\n",
       "      <td>3</td>\n",
       "      <td>500.813411</td>\n",
       "      <td>12</td>\n",
       "      <td>8</td>\n",
       "      <td>3</td>\n",
       "      <td>2</td>\n",
       "      <td>5</td>\n",
       "      <td>4</td>\n",
       "      <td>330.146325</td>\n",
       "      <td>104.893521</td>\n",
       "      <td>41</td>\n",
       "      <td>105.269647</td>\n",
       "      <td>38</td>\n",
       "      <td>23</td>\n",
       "      <td>459.174852</td>\n",
       "      <td>57.744401</td>\n",
       "      <td>54.538288</td>\n",
       "      <td>53.0</td>\n",
       "    </tr>\n",
       "    <tr>\n",
       "      <th>3</th>\n",
       "      <td>4</td>\n",
       "      <td>500.277923</td>\n",
       "      <td>11</td>\n",
       "      <td>9</td>\n",
       "      <td>5</td>\n",
       "      <td>5</td>\n",
       "      <td>5</td>\n",
       "      <td>4</td>\n",
       "      <td>322.136782</td>\n",
       "      <td>132.600885</td>\n",
       "      <td>43</td>\n",
       "      <td>99.702199</td>\n",
       "      <td>35</td>\n",
       "      <td>24</td>\n",
       "      <td>419.520278</td>\n",
       "      <td>59.933839</td>\n",
       "      <td>40.976870</td>\n",
       "      <td>82.0</td>\n",
       "    </tr>\n",
       "    <tr>\n",
       "      <th>4</th>\n",
       "      <td>5</td>\n",
       "      <td>491.856284</td>\n",
       "      <td>10</td>\n",
       "      <td>11</td>\n",
       "      <td>4</td>\n",
       "      <td>3</td>\n",
       "      <td>4</td>\n",
       "      <td>6</td>\n",
       "      <td>350.445825</td>\n",
       "      <td>116.457938</td>\n",
       "      <td>40</td>\n",
       "      <td>99.173690</td>\n",
       "      <td>38</td>\n",
       "      <td>28</td>\n",
       "      <td>427.263140</td>\n",
       "      <td>40.737932</td>\n",
       "      <td>64.427165</td>\n",
       "      <td>81.0</td>\n",
       "    </tr>\n",
       "    <tr>\n",
       "      <th>5</th>\n",
       "      <td>6</td>\n",
       "      <td>493.063988</td>\n",
       "      <td>12</td>\n",
       "      <td>8</td>\n",
       "      <td>5</td>\n",
       "      <td>5</td>\n",
       "      <td>7</td>\n",
       "      <td>4</td>\n",
       "      <td>335.106303</td>\n",
       "      <td>120.715632</td>\n",
       "      <td>47</td>\n",
       "      <td>102.114559</td>\n",
       "      <td>40</td>\n",
       "      <td>24</td>\n",
       "      <td>426.026718</td>\n",
       "      <td>60.912058</td>\n",
       "      <td>55.199282</td>\n",
       "      <td>88.0</td>\n",
       "    </tr>\n",
       "    <tr>\n",
       "      <th>6</th>\n",
       "      <td>7</td>\n",
       "      <td>503.982604</td>\n",
       "      <td>10</td>\n",
       "      <td>11</td>\n",
       "      <td>4</td>\n",
       "      <td>3</td>\n",
       "      <td>6</td>\n",
       "      <td>6</td>\n",
       "      <td>331.415395</td>\n",
       "      <td>107.750399</td>\n",
       "      <td>47</td>\n",
       "      <td>101.399840</td>\n",
       "      <td>40</td>\n",
       "      <td>25</td>\n",
       "      <td>431.105618</td>\n",
       "      <td>54.720015</td>\n",
       "      <td>59.111548</td>\n",
       "      <td>89.0</td>\n",
       "    </tr>\n",
       "    <tr>\n",
       "      <th>7</th>\n",
       "      <td>8</td>\n",
       "      <td>499.619726</td>\n",
       "      <td>9</td>\n",
       "      <td>10</td>\n",
       "      <td>5</td>\n",
       "      <td>5</td>\n",
       "      <td>5</td>\n",
       "      <td>6</td>\n",
       "      <td>337.337851</td>\n",
       "      <td>110.992850</td>\n",
       "      <td>45</td>\n",
       "      <td>98.659767</td>\n",
       "      <td>35</td>\n",
       "      <td>26</td>\n",
       "      <td>441.954393</td>\n",
       "      <td>72.423100</td>\n",
       "      <td>33.424169</td>\n",
       "      <td>77.0</td>\n",
       "    </tr>\n",
       "    <tr>\n",
       "      <th>8</th>\n",
       "      <td>9</td>\n",
       "      <td>506.406780</td>\n",
       "      <td>11</td>\n",
       "      <td>12</td>\n",
       "      <td>5</td>\n",
       "      <td>4</td>\n",
       "      <td>6</td>\n",
       "      <td>4</td>\n",
       "      <td>352.644072</td>\n",
       "      <td>115.882326</td>\n",
       "      <td>44</td>\n",
       "      <td>100.435276</td>\n",
       "      <td>44</td>\n",
       "      <td>28</td>\n",
       "      <td>440.953997</td>\n",
       "      <td>65.394566</td>\n",
       "      <td>45.638277</td>\n",
       "      <td>68.0</td>\n",
       "    </tr>\n",
       "    <tr>\n",
       "      <th>9</th>\n",
       "      <td>10</td>\n",
       "      <td>506.773735</td>\n",
       "      <td>11</td>\n",
       "      <td>10</td>\n",
       "      <td>5</td>\n",
       "      <td>3</td>\n",
       "      <td>5</td>\n",
       "      <td>6</td>\n",
       "      <td>339.044305</td>\n",
       "      <td>74.209764</td>\n",
       "      <td>43</td>\n",
       "      <td>105.723266</td>\n",
       "      <td>40</td>\n",
       "      <td>22</td>\n",
       "      <td>418.192330</td>\n",
       "      <td>58.959353</td>\n",
       "      <td>55.853933</td>\n",
       "      <td>77.0</td>\n",
       "    </tr>\n",
       "  </tbody>\n",
       "</table>\n",
       "</div>"
      ],
      "text/plain": [
       "   Recipe    flourAmt  saltAmt  yeastAmt  mix1Time  mix1Speed  mix2Time  \\\n",
       "0       1  515.710025       10        12         6          2         5   \n",
       "1       2  510.229955        8         9         5          4         4   \n",
       "2       3  500.813411       12         8         3          2         5   \n",
       "3       4  500.277923       11         9         5          5         5   \n",
       "4       5  491.856284       10        11         4          3         4   \n",
       "5       6  493.063988       12         8         5          5         7   \n",
       "6       7  503.982604       10        11         4          3         6   \n",
       "7       8  499.619726        9        10         5          5         5   \n",
       "8       9  506.406780       11        12         5          4         6   \n",
       "9      10  506.773735       11        10         5          3         5   \n",
       "\n",
       "   mix2Speed   water1Amt   water2Amt  waterTemp   proveTime  restTime  \\\n",
       "0          4  316.429732  101.479618         50   98.584704        44   \n",
       "1          5  332.750016   68.762720         48   98.365636        41   \n",
       "2          4  330.146325  104.893521         41  105.269647        38   \n",
       "3          4  322.136782  132.600885         43   99.702199        35   \n",
       "4          6  350.445825  116.457938         40   99.173690        38   \n",
       "5          4  335.106303  120.715632         47  102.114559        40   \n",
       "6          6  331.415395  107.750399         47  101.399840        40   \n",
       "7          6  337.337851  110.992850         45   98.659767        35   \n",
       "8          4  352.644072  115.882326         44  100.435276        44   \n",
       "9          6  339.044305   74.209764         43  105.723266        40   \n",
       "\n",
       "   bakeTime    bakeTemp    ambTemp  ambHumidity  JUDGE_A  \n",
       "0        24  409.507253  63.164014    75.458039     71.0  \n",
       "1        24  424.228722  77.737096    58.761221     79.0  \n",
       "2        23  459.174852  57.744401    54.538288     53.0  \n",
       "3        24  419.520278  59.933839    40.976870     82.0  \n",
       "4        28  427.263140  40.737932    64.427165     81.0  \n",
       "5        24  426.026718  60.912058    55.199282     88.0  \n",
       "6        25  431.105618  54.720015    59.111548     89.0  \n",
       "7        26  441.954393  72.423100    33.424169     77.0  \n",
       "8        28  440.953997  65.394566    45.638277     68.0  \n",
       "9        22  418.192330  58.959353    55.853933     77.0  "
      ]
     },
     "execution_count": 261,
     "metadata": {},
     "output_type": "execute_result"
    }
   ],
   "source": [
    "pred"
   ]
  },
  {
   "cell_type": "markdown",
   "id": "0a2ac232-d692-4166-9e04-d23332c85ec2",
   "metadata": {},
   "source": [
    "Shape as instances: dictionaries of key:value pairs for only features used in model"
   ]
  },
  {
   "cell_type": "code",
   "execution_count": 263,
   "id": "91c4445c-ab8d-429d-9a18-2c62323d0475",
   "metadata": {},
   "outputs": [],
   "source": [
    "newobs = pred[pred.columns[~pred.columns.isin(['JUDGE_A', 'Recipe'])]].to_dict(orient='records')"
   ]
  },
  {
   "cell_type": "code",
   "execution_count": 267,
   "id": "e8da0a6d-f55c-4710-8663-7893a77f0e80",
   "metadata": {},
   "outputs": [
    {
     "data": {
      "text/plain": [
       "{'flourAmt': 515.7100253832775,\n",
       " 'saltAmt': 10,\n",
       " 'yeastAmt': 12,\n",
       " 'mix1Time': 6,\n",
       " 'mix1Speed': 2,\n",
       " 'mix2Time': 5,\n",
       " 'mix2Speed': 4,\n",
       " 'water1Amt': 316.42973239683727,\n",
       " 'water2Amt': 101.47961753647844,\n",
       " 'waterTemp': 50,\n",
       " 'proveTime': 98.5847044280984,\n",
       " 'restTime': 44,\n",
       " 'bakeTime': 24,\n",
       " 'bakeTemp': 409.5072525323686,\n",
       " 'ambTemp': 63.16401393543598,\n",
       " 'ambHumidity': 75.45803872936764}"
      ]
     },
     "execution_count": 267,
     "metadata": {},
     "output_type": "execute_result"
    }
   ],
   "source": [
    "newobs[0]"
   ]
  },
  {
   "cell_type": "code",
   "execution_count": 264,
   "id": "9b8514e9-d4ab-4d39-8d58-c29d8744a625",
   "metadata": {},
   "outputs": [],
   "source": [
    "instances = [json_format.ParseDict(newob, Value()) for newob in newobs]"
   ]
  },
  {
   "cell_type": "code",
   "execution_count": 265,
   "id": "2f5e521d-4b14-4118-a662-c4fd61447bef",
   "metadata": {},
   "outputs": [
    {
     "data": {
      "text/plain": [
       "10"
      ]
     },
     "execution_count": 265,
     "metadata": {},
     "output_type": "execute_result"
    }
   ],
   "source": [
    "len(instances)"
   ]
  },
  {
   "cell_type": "markdown",
   "id": "0f0a8911-b954-422a-a6ed-f33e72ac1fc3",
   "metadata": {},
   "source": [
    "### Get Predictions: Python Client"
   ]
  },
  {
   "cell_type": "code",
   "execution_count": 268,
   "id": "5fc3b01a",
   "metadata": {},
   "outputs": [
    {
     "data": {
      "text/plain": [
       "Prediction(predictions=[[77.75094129960061], [74.60540273879249], [69.85164296699094], [74.41752619912045], [72.32958387347281], [74.53947420232231], [74.26679833623228], [70.96982828383258], [72.9559854098552], [76.12133621493105]], deployed_model_id='2529782741466087424', model_version_id='1', model_resource_name='projects/1026793852137/locations/europe-west4/models/bqml_03_feature_engineering_auto', explanations=None)"
      ]
     },
     "execution_count": 268,
     "metadata": {},
     "output_type": "execute_result"
    }
   ],
   "source": [
    "prediction = endpoint.predict(instances = instances)\n",
    "prediction"
   ]
  },
  {
   "cell_type": "code",
   "execution_count": 269,
   "id": "e3f07649",
   "metadata": {},
   "outputs": [
    {
     "data": {
      "text/plain": [
       "[77.75094129960061]"
      ]
     },
     "execution_count": 269,
     "metadata": {},
     "output_type": "execute_result"
    }
   ],
   "source": [
    "prediction.predictions[0]"
   ]
  },
  {
   "cell_type": "markdown",
   "id": "a85b5e68-d7f7-4eff-9968-09e26b5068dc",
   "metadata": {},
   "source": [
    "### Get Predictions: REST"
   ]
  },
  {
   "cell_type": "code",
   "execution_count": 271,
   "id": "5581722e",
   "metadata": {},
   "outputs": [],
   "source": [
    "with open(f'{DIR}/request.json','w') as file:\n",
    "    file.write(json.dumps({\"instances\": [newobs[0]]}))"
   ]
  },
  {
   "cell_type": "code",
   "execution_count": 272,
   "id": "a0d079e9",
   "metadata": {},
   "outputs": [
    {
     "name": "stdout",
     "output_type": "stream",
     "text": [
      "{\n",
      "  \"predictions\": [\n",
      "    [\n",
      "      77.750941299600584\n",
      "    ]\n",
      "  ],\n",
      "  \"deployedModelId\": \"2529782741466087424\",\n",
      "  \"model\": \"projects/1026793852137/locations/europe-west4/models/bqml_03_feature_engineering_auto\",\n",
      "  \"modelDisplayName\": \"bqml_03_feature_engineering_auto\",\n",
      "  \"modelVersionId\": \"1\"\n",
      "}\n"
     ]
    }
   ],
   "source": [
    "!curl -X POST \\\n",
    "-H \"Authorization: Bearer \"$(gcloud auth application-default print-access-token) \\\n",
    "-H \"Content-Type: application/json; charset=utf-8\" \\\n",
    "-d @{DIR}/request.json \\\n",
    "https://{REGION}-aiplatform.googleapis.com/v1/{endpoint.resource_name}:predict"
   ]
  },
  {
   "cell_type": "markdown",
   "id": "7756f68c-fb26-4cd3-a980-867429d65e99",
   "metadata": {},
   "source": [
    "### Get Predictions: gcloud (CLI)"
   ]
  },
  {
   "cell_type": "code",
   "execution_count": 273,
   "id": "adfee93d",
   "metadata": {},
   "outputs": [
    {
     "name": "stdout",
     "output_type": "stream",
     "text": [
      "Using endpoint [https://europe-west4-prediction-aiplatform.googleapis.com/]\n",
      "[[77.75094129960058]]\n"
     ]
    }
   ],
   "source": [
    "!gcloud beta ai endpoints predict {endpoint.name.rsplit('/',1)[-1]} --region={REGION} --json-request={DIR}/request.json"
   ]
  },
  {
   "cell_type": "markdown",
   "id": "ce80147e-638c-4b1f-8258-4dc206fea6e4",
   "metadata": {},
   "source": [
    "---\n",
    "## Remove Resources\n",
    "- endpoints (need to undeploy any models in use)\n",
    "- bq_model (delete these first, before the dataset.  This also removes them from Vertex AI)\n",
    "- bq_dataset"
   ]
  },
  {
   "cell_type": "code",
   "execution_count": 275,
   "id": "20fb4823-fd55-404e-b4ae-0aa4d0a86b01",
   "metadata": {},
   "outputs": [
    {
     "name": "stdout",
     "output_type": "stream",
     "text": [
      "Undeploying Endpoint model: projects/1026793852137/locations/europe-west4/endpoints/619887063554064384\n"
     ]
    },
    {
     "name": "stderr",
     "output_type": "stream",
     "text": [
      "INFO:google.cloud.aiplatform.models:Undeploying Endpoint model: projects/1026793852137/locations/europe-west4/endpoints/619887063554064384\n"
     ]
    },
    {
     "name": "stdout",
     "output_type": "stream",
     "text": [
      "Undeploy Endpoint model backing LRO: projects/1026793852137/locations/europe-west4/endpoints/619887063554064384/operations/185697068570902528\n"
     ]
    },
    {
     "name": "stderr",
     "output_type": "stream",
     "text": [
      "INFO:google.cloud.aiplatform.models:Undeploy Endpoint model backing LRO: projects/1026793852137/locations/europe-west4/endpoints/619887063554064384/operations/185697068570902528\n"
     ]
    },
    {
     "name": "stdout",
     "output_type": "stream",
     "text": [
      "Endpoint model undeployed. Resource name: projects/1026793852137/locations/europe-west4/endpoints/619887063554064384\n"
     ]
    },
    {
     "name": "stderr",
     "output_type": "stream",
     "text": [
      "INFO:google.cloud.aiplatform.models:Endpoint model undeployed. Resource name: projects/1026793852137/locations/europe-west4/endpoints/619887063554064384\n"
     ]
    },
    {
     "name": "stdout",
     "output_type": "stream",
     "text": [
      "Deleting Endpoint : projects/1026793852137/locations/europe-west4/endpoints/619887063554064384\n"
     ]
    },
    {
     "name": "stderr",
     "output_type": "stream",
     "text": [
      "INFO:google.cloud.aiplatform.base:Deleting Endpoint : projects/1026793852137/locations/europe-west4/endpoints/619887063554064384\n"
     ]
    },
    {
     "name": "stdout",
     "output_type": "stream",
     "text": [
      "Delete Endpoint  backing LRO: projects/1026793852137/locations/europe-west4/operations/6265556565521072128\n"
     ]
    },
    {
     "name": "stderr",
     "output_type": "stream",
     "text": [
      "INFO:google.cloud.aiplatform.base:Delete Endpoint  backing LRO: projects/1026793852137/locations/europe-west4/operations/6265556565521072128\n"
     ]
    },
    {
     "name": "stdout",
     "output_type": "stream",
     "text": [
      "Endpoint deleted. . Resource name: projects/1026793852137/locations/europe-west4/endpoints/619887063554064384\n"
     ]
    },
    {
     "name": "stderr",
     "output_type": "stream",
     "text": [
      "INFO:google.cloud.aiplatform.base:Endpoint deleted. . Resource name: projects/1026793852137/locations/europe-west4/endpoints/619887063554064384\n"
     ]
    }
   ],
   "source": [
    "# delete endpoint, use `force` incase models are deployed or undeploy them first\n",
    "endpoint.delete(force = True)"
   ]
  },
  {
   "cell_type": "code",
   "execution_count": 278,
   "id": "4faa91fe-a63b-4616-abf5-af837a4579df",
   "metadata": {},
   "outputs": [],
   "source": [
    "# delete models created in BQ with BQML - this also removes them from Vertex AI Model Registry\n",
    "bq.delete_model(model_ManualFeatureEng)\n",
    "bq.delete_model(model_AutoFeatureEng)"
   ]
  },
  {
   "cell_type": "code",
   "execution_count": 282,
   "id": "1cb4ba7d-ff75-484f-8a78-d308fca6c297",
   "metadata": {},
   "outputs": [],
   "source": [
    "# remove the BQ dataset created for this notebook\n",
    "bq.delete_dataset(ds, delete_contents = True)"
   ]
  },
  {
   "cell_type": "code",
   "execution_count": null,
   "id": "6a3f9e78-f00e-49b7-832c-7deea033ba52",
   "metadata": {},
   "outputs": [],
   "source": []
  }
 ],
 "metadata": {
  "environment": {
   "kernel": "python3",
   "name": "tf2-gpu.2-3.m94",
   "type": "gcloud",
   "uri": "gcr.io/deeplearning-platform-release/tf2-gpu.2-3:m94"
  },
  "kernelspec": {
   "display_name": "Python 3",
   "language": "python",
   "name": "python3"
  },
  "language_info": {
   "codemirror_mode": {
    "name": "ipython",
    "version": 3
   },
   "file_extension": ".py",
   "mimetype": "text/x-python",
   "name": "python",
   "nbconvert_exporter": "python",
   "pygments_lexer": "ipython3",
   "version": "3.7.12"
  }
 },
 "nbformat": 4,
 "nbformat_minor": 5
}
