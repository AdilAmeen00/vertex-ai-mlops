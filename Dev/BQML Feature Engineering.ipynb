{
 "cells": [
  {
   "cell_type": "markdown",
   "id": "320be11c-027a-4d79-b9a1-07c52414738f",
   "metadata": {},
   "source": [
    "![ga4](https://www.google-analytics.com/collect?v=2&tid=G-6VDTYWLKX6&cid=1&en=page_view&sid=1&dl=statmike%2Fvertex-ai-mlops%2FDev&dt=BQML+Feature+Engineering.ipynb)\n",
    "\n",
    "# BigQuery ML (BQML) - Advanced Feature Engineering\n",
    "\n",
    "This notebook will explore preparing data (preprocessing) for machine learning with BigQuery using functions that are part of BigQuery ML (BQML).  \n",
    "\n",
    "**BigQuery ML (BQML)**\n",
    "\n",
    "BigQuery Machine Learning allows you to use `SQL` to constuct an ML workflow.  This is a great leap in productivity and flexibility when the data source is BigQuery and users are already familiar with `SQL`. Using `SQL` multiple techniques can be used for model training and even include hyperparameter tuning.  Predictions can be served directly in BigQuery and include explainability. Models can be exported to Vertex AI for online predictions on Vertex AI Endpoints.\n",
    "\n",
    "**If you know:**\n",
    "```SQL\n",
    "CREATE TABLE {table name}\n",
    "    AS\n",
    "        SELECT ...\n",
    "        FROM ...\n",
    "        WHERE ...\n",
    "```\n",
    "\n",
    "**Then you are ready to try:**\n",
    "```SQL\n",
    "CREATE MODEL {model name} \n",
    "    OPTIONS (\n",
    "        MODEL_TYPE = ...\n",
    "        {more options}\n",
    "    )\n",
    "    AS\n",
    "        SELECT ...\n",
    "        FROM ...\n",
    "        WHERE ...\n",
    "```\n",
    "\n",
    "**You can even use:**\n",
    "- ```SQL\n",
    "CREATE OR REPLACE MODEL {model name}...\n",
    "```\n",
    "- ```SQL\n",
    "CREATE MODEL IF NOT EXISTS {model name}...\n",
    "```\n",
    "\n",
    "**Functions for your ML Workflow**\n",
    "- Model Evaluation with `ML.EVALUTE`:\n",
    "    - ```SQL\n",
    "    SELECT *\n",
    "    FROM ML.EVALUTE(\n",
    "        MODEL {model name},\n",
    "        (\n",
    "            SELECT ...\n",
    "            FROM ...\n",
    "            WHERE ...),\n",
    "        STRUCT({optional parameters})\n",
    "    )\n",
    "    ```\n",
    "- Prediction Using Models with `ML.PREDICT`:\n",
    "    - ```SQL\n",
    "    SELECT *\n",
    "    FROM ML.PREDICT(\n",
    "        MODEL {model name},\n",
    "        (\n",
    "            SELECT ...\n",
    "            FROM ...\n",
    "            WHERE ...),\n",
    "        STRUCT({optional parameters})\n",
    "    )\n",
    "    ```\n",
    "    \n",
    "**Feature Engineering**\n",
    "\n",
    "Feature engineering, or preprocessing, is part of making data ready for machine learning.  BigQuery ML [manual feature preprocessing](https://cloud.google.com/bigquery-ml/docs/reference/standard-sql/bigqueryml-preprocessing-functions) functions are available to make this process simple within BigQuery.  \n",
    "\n",
    "Each `CREATE MODEL ...` statement will do [automatic feature preprocessing](https://cloud.google.com/bigquery-ml/docs/reference/standard-sql/bigqueryml-auto-preprocessing) by default.  It is also possible include manual feature preprocessing in the `CREATE MODEL ...` statement as a `TRANSFORM` clause where it will also become part of the model serving:\n",
    "\n",
    "```SQL\n",
    "CREATE MODEL {model name} AS\n",
    "    TRANSFORM (\n",
    "        ML.{function name}() OVER() as {name},\n",
    "        ...\n",
    "    )\n",
    "    OPTIONS (\n",
    "        MODEL_TYPE = ...\n",
    "        {more options}\n",
    "    )\n",
    "    AS\n",
    "        SELECT ...\n",
    "        FROM ...\n",
    "        WHERE ...\n",
    "```\n",
    "  \n",
    "---\n",
    "\n",
    "**Getting Started**\n",
    "<p align=\"center\" width=\"100%\">\n",
    "A great place to start exploring what model types are available and the functions to help create an ML workflow with each model type is this site:\n",
    "    <center>\n",
    "        <a href=\"https://cloud.google.com/bigquery-ml/docs/reference/standard-sql/bigqueryml-syntax-e2e-journey\">\n",
    "            <h1>End-to-end user journey for each model</h1>\n",
    "        </a>\n",
    "    </center>\n",
    "Another great resourse for getting started is the \"What is BigQuery ML?\" starting page which include a model selection guide.\n",
    "    <center>\n",
    "        <a href=\"https://cloud.google.com/bigquery-ml/docs/introduction\">\n",
    "        <h2>What is BigQuery ML?</h2>\n",
    "        </a>\n",
    "    </center>\n",
    "</p>\n",
    "\n",
    "---\n",
    "\n",
    "**Prerequisites:**\n",
    "\n",
    "None\n",
    "\n",
    "**Resources:**\n",
    "- [BigQuery ML (BQML) Overview](https://cloud.google.com/bigquery-ml/docs/introduction)\n",
    "- [Overview of BQML methods and workflows](https://cloud.google.com/bigquery-ml/docs/reference/standard-sql/bigqueryml-syntax-e2e-journey)\n",
    "- [BigQuery](https://cloud.google.com/bigquery)\n",
    "    - [Documentation:](https://cloud.google.com/bigquery/docs/query-overview)\n",
    "    - [API:](https://cloud.google.com/bigquery/docs/reference/libraries-overview)\n",
    "        - [Clients](https://cloud.google.com/bigquery/docs/reference/libraries)\n",
    "            - [Python SDK:](https://github.com/googleapis/python-bigquery)\n",
    "            - [Python Library Reference:](https://cloud.google.com/python/docs/reference/bigquery/latest)"
   ]
  },
  {
   "cell_type": "markdown",
   "id": "e17afa66-4bea-484e-aeba-835c6be7a393",
   "metadata": {},
   "source": [
    "---\n",
    "## Colab Setup\n",
    "\n",
    "To run this notebook in Colab click [![Open In Colab](https://colab.research.google.com/assets/colab-badge.svg)](https://colab.research.google.com/github/statmike/vertex-ai-mlops/blob/main/Dev/BQML%20Feature%20Engineering.ipynb) and run the cells in this section.  Otherwise, skip this section."
   ]
  },
  {
   "cell_type": "code",
   "execution_count": 1,
   "id": "5e1c27de-aba9-48ea-a99a-65f2818a7fc3",
   "metadata": {},
   "outputs": [],
   "source": [
    "try:\n",
    "    import google.colab\n",
    "    !pip install --upgrade witwidget -q\n",
    "    !pip install --upgrade google-cloud-aiplatform -q\n",
    "    !pip install --upgrade google-cloud-bigquery -q\n",
    "    !pip install --upgrade google-cloud-bigquery-storage -q\n",
    "    from google.colab import auth\n",
    "    auth.authenticate_user()\n",
    "except Exception:\n",
    "    pass"
   ]
  },
  {
   "cell_type": "code",
   "execution_count": 2,
   "id": "87192944-6c60-4973-9437-f7cad05917ae",
   "metadata": {},
   "outputs": [
    {
     "name": "stdout",
     "output_type": "stream",
     "text": [
      "Updated property [core/project].\n",
      "\n",
      "\n",
      "To take a quick anonymous survey, run:\n",
      "  $ gcloud survey\n",
      "\n"
     ]
    }
   ],
   "source": [
    "PROJECT_ID = 'statmike-mlops-349915' # replace with project ID\n",
    "!gcloud config set project {PROJECT_ID}"
   ]
  },
  {
   "cell_type": "markdown",
   "id": "b9472481-40b9-42b5-b312-70bbe7f4424c",
   "metadata": {},
   "source": [
    "---\n",
    "## Environment Setup"
   ]
  },
  {
   "cell_type": "markdown",
   "id": "9898fe14-2759-4725-8788-44d7172c623c",
   "metadata": {},
   "source": [
    "inputs:"
   ]
  },
  {
   "cell_type": "code",
   "execution_count": 91,
   "id": "10c2e0b7-31c4-43bb-a0f3-357f1147bb46",
   "metadata": {},
   "outputs": [
    {
     "data": {
      "text/plain": [
       "'statmike-mlops-349915'"
      ]
     },
     "execution_count": 91,
     "metadata": {},
     "output_type": "execute_result"
    }
   ],
   "source": [
    "project = !gcloud config get-value project\n",
    "PROJECT_ID = project[0]\n",
    "PROJECT_ID"
   ]
  },
  {
   "cell_type": "code",
   "execution_count": 482,
   "id": "93c9f9bb-77db-4874-b5b2-50ae62d305f3",
   "metadata": {},
   "outputs": [],
   "source": [
    "REGION = 'us-central1'\n",
    "EXPERIMENT = 'feature_engineering'\n",
    "SERIES = '03'\n",
    "\n",
    "# source data\n",
    "BQ_PROJECT = PROJECT_ID\n",
    "BQ_DATASET = 'feature_engineering'\n",
    "BQ_TABLE = 'bread'\n",
    "\n",
    "# Resources for serving BigQuery Model Exports\n",
    "DEPLOY_COMPUTE = 'n1-standard-4'"
   ]
  },
  {
   "cell_type": "markdown",
   "id": "8a61432f-3879-4047-b60c-d6866e87a83b",
   "metadata": {},
   "source": [
    "packages:"
   ]
  },
  {
   "cell_type": "code",
   "execution_count": 93,
   "id": "46dd5f64-6633-45e8-a886-5dd3c2fb8437",
   "metadata": {},
   "outputs": [],
   "source": [
    "from google.cloud import aiplatform\n",
    "from google.cloud import bigquery\n",
    "\n",
    "from datetime import datetime\n",
    "import matplotlib.pyplot as plt\n",
    "from sklearn import metrics\n",
    "import numpy as np\n",
    "import json\n",
    "\n",
    "from google.protobuf import json_format\n",
    "from google.protobuf.struct_pb2 import Value"
   ]
  },
  {
   "cell_type": "markdown",
   "id": "c96caca5-9d6a-42b9-952e-3ba9c6076d56",
   "metadata": {},
   "source": [
    "clients:"
   ]
  },
  {
   "cell_type": "code",
   "execution_count": 277,
   "id": "8e845d29-f0bb-496b-bd9a-adb85e1a5b9f",
   "metadata": {},
   "outputs": [],
   "source": [
    "aiplatform.init(project=PROJECT_ID, location=REGION)\n",
    "bq = bigquery.Client(project=PROJECT_ID, location = 'EU')"
   ]
  },
  {
   "cell_type": "markdown",
   "id": "edd608d4-eded-4a26-b1cd-9bf82e570632",
   "metadata": {},
   "source": [
    "environment:"
   ]
  },
  {
   "cell_type": "code",
   "execution_count": 279,
   "id": "033c6f41-43c9-43c9-9b56-a60bbf15d9f1",
   "metadata": {},
   "outputs": [],
   "source": [
    "DIR = f\"temp/{EXPERIMENT}\"\n",
    "!rm -rf {DIR}\n",
    "!mkdir -p {DIR}"
   ]
  },
  {
   "cell_type": "markdown",
   "id": "f8942499-f17d-47bf-82d5-884a2cecc5b1",
   "metadata": {},
   "source": [
    "---\n",
    "## BigQuery Manual Feature Engineering\n",
    "\n",
    "BigQuery ML [manual feature preprocessing](https://cloud.google.com/bigquery-ml/docs/reference/standard-sql/bigqueryml-preprocessing-functions) functions are usefull for converting BigQuery columns to ML features.  BigQuery ML has included a set of these for manual preprocessing and they are individually reviewed here.\n",
    "\n",
    "These functions can be used directly in BigQuery SQL or withing the `TRANSFORM` clause of the `CREATE MODEL` statement.  Using these inside of the `TRANSFORM` clause means they will also be automatically applied during model serving.  \n",
    "\n",
    "**NOTE:** Some of the functions require using calculation across the column and make use of an empty `OVER()` clause.  See `ML.QUANTILE_BUCKETIZE`, `ML.MIN_MAX_SCALER`, `ML.STANDARD_SCALER` for examples. \n"
   ]
  },
  {
   "cell_type": "markdown",
   "id": "26d843c3-4914-4cce-8845-d3661b22042a",
   "metadata": {},
   "source": [
    "### ML.BUCKETIZE\n",
    "\n",
    "Given a column of numerical values this function creates a new column with bucketed values based on a list of boundaries given as input.\n",
    "- [Reference](https://cloud.google.com/bigquery-ml/docs/reference/standard-sql/bigqueryml-preprocessing-functions#bucketize)"
   ]
  },
  {
   "cell_type": "code",
   "execution_count": 280,
   "id": "7f774cfe-f3e0-4280-bbad-7d5543d33eb3",
   "metadata": {},
   "outputs": [
    {
     "name": "stdout",
     "output_type": "stream",
     "text": [
      "\n",
      "    SELECT\n",
      "        original_column,\n",
      "        ML.BUCKETIZE(original_column, [2, 5, 7]) AS bucketed_column\n",
      "    FROM\n",
      "        UNNEST([1, 2, 3, 4, 5, 6, 7, 8, 9, 10]) as original_column\n",
      "\n"
     ]
    }
   ],
   "source": [
    "query = f\"\"\"\n",
    "    SELECT\n",
    "        original_column,\n",
    "        ML.BUCKETIZE(original_column, [2, 5, 7]) AS bucketed_column\n",
    "    FROM\n",
    "        UNNEST([1, 2, 3, 4, 5, 6, 7, 8, 9, 10]) as original_column\n",
    "\"\"\"\n",
    "print(query)"
   ]
  },
  {
   "cell_type": "code",
   "execution_count": 281,
   "id": "a0dd85f9-04f9-4159-a41a-ca17b98d4930",
   "metadata": {},
   "outputs": [
    {
     "data": {
      "text/html": [
       "<div>\n",
       "<style scoped>\n",
       "    .dataframe tbody tr th:only-of-type {\n",
       "        vertical-align: middle;\n",
       "    }\n",
       "\n",
       "    .dataframe tbody tr th {\n",
       "        vertical-align: top;\n",
       "    }\n",
       "\n",
       "    .dataframe thead th {\n",
       "        text-align: right;\n",
       "    }\n",
       "</style>\n",
       "<table border=\"1\" class=\"dataframe\">\n",
       "  <thead>\n",
       "    <tr style=\"text-align: right;\">\n",
       "      <th></th>\n",
       "      <th>original_column</th>\n",
       "      <th>bucketed_column</th>\n",
       "    </tr>\n",
       "  </thead>\n",
       "  <tbody>\n",
       "    <tr>\n",
       "      <th>0</th>\n",
       "      <td>1</td>\n",
       "      <td>bin_1</td>\n",
       "    </tr>\n",
       "    <tr>\n",
       "      <th>1</th>\n",
       "      <td>2</td>\n",
       "      <td>bin_2</td>\n",
       "    </tr>\n",
       "    <tr>\n",
       "      <th>2</th>\n",
       "      <td>3</td>\n",
       "      <td>bin_2</td>\n",
       "    </tr>\n",
       "    <tr>\n",
       "      <th>3</th>\n",
       "      <td>4</td>\n",
       "      <td>bin_2</td>\n",
       "    </tr>\n",
       "    <tr>\n",
       "      <th>4</th>\n",
       "      <td>5</td>\n",
       "      <td>bin_3</td>\n",
       "    </tr>\n",
       "    <tr>\n",
       "      <th>5</th>\n",
       "      <td>6</td>\n",
       "      <td>bin_3</td>\n",
       "    </tr>\n",
       "    <tr>\n",
       "      <th>6</th>\n",
       "      <td>7</td>\n",
       "      <td>bin_4</td>\n",
       "    </tr>\n",
       "    <tr>\n",
       "      <th>7</th>\n",
       "      <td>8</td>\n",
       "      <td>bin_4</td>\n",
       "    </tr>\n",
       "    <tr>\n",
       "      <th>8</th>\n",
       "      <td>9</td>\n",
       "      <td>bin_4</td>\n",
       "    </tr>\n",
       "    <tr>\n",
       "      <th>9</th>\n",
       "      <td>10</td>\n",
       "      <td>bin_4</td>\n",
       "    </tr>\n",
       "  </tbody>\n",
       "</table>\n",
       "</div>"
      ],
      "text/plain": [
       "   original_column bucketed_column\n",
       "0                1           bin_1\n",
       "1                2           bin_2\n",
       "2                3           bin_2\n",
       "3                4           bin_2\n",
       "4                5           bin_3\n",
       "5                6           bin_3\n",
       "6                7           bin_4\n",
       "7                8           bin_4\n",
       "8                9           bin_4\n",
       "9               10           bin_4"
      ]
     },
     "execution_count": 281,
     "metadata": {},
     "output_type": "execute_result"
    }
   ],
   "source": [
    "df = bq.query(query = query).to_dataframe()\n",
    "df"
   ]
  },
  {
   "cell_type": "markdown",
   "id": "d0b7f2af-6eb1-48e6-8460-c5a2a7f9475e",
   "metadata": {},
   "source": [
    "### ML.POLYNOMIAL_EXPAND\n",
    "\n",
    "Given a STRUCT of numerical features this returns a STRUCT of polynomial combinations up to the degree passed-in (default = 2).\n",
    "- [Reference](https://cloud.google.com/bigquery-ml/docs/reference/standard-sql/bigqueryml-preprocessing-functions#mlpolynomial_expand)"
   ]
  },
  {
   "cell_type": "code",
   "execution_count": 282,
   "id": "74ba79b6-e4e6-42b6-bea2-0becff02929c",
   "metadata": {},
   "outputs": [
    {
     "name": "stdout",
     "output_type": "stream",
     "text": [
      "\n",
      "    SELECT\n",
      "        col_1, col_2,\n",
      "        ML.POLYNOMIAL_EXPAND(STRUCT(col_1, col_2)) AS combo_column\n",
      "    FROM\n",
      "        UNNEST([1, 2, 3, 4, 5, 6, 7, 8, 9, 10]) AS col_1 WITH OFFSET pos1,\n",
      "        UNNEST([1, 2, 3, 4, 5, 6, 7, 8, 9, 10]) AS col_2 WITH OFFSET pos2\n",
      "    WHERE\n",
      "        pos1 = pos2\n",
      "\n"
     ]
    }
   ],
   "source": [
    "query = f\"\"\"\n",
    "    SELECT\n",
    "        col_1, col_2,\n",
    "        ML.POLYNOMIAL_EXPAND(STRUCT(col_1, col_2)) AS combo_column\n",
    "    FROM\n",
    "        UNNEST([1, 2, 3, 4, 5, 6, 7, 8, 9, 10]) AS col_1 WITH OFFSET pos1,\n",
    "        UNNEST([1, 2, 3, 4, 5, 6, 7, 8, 9, 10]) AS col_2 WITH OFFSET pos2\n",
    "    WHERE\n",
    "        pos1 = pos2\n",
    "\"\"\"\n",
    "print(query)"
   ]
  },
  {
   "cell_type": "code",
   "execution_count": 283,
   "id": "f07a1944-a5c4-409e-82b1-e44eac59a40e",
   "metadata": {},
   "outputs": [
    {
     "data": {
      "text/html": [
       "<div>\n",
       "<style scoped>\n",
       "    .dataframe tbody tr th:only-of-type {\n",
       "        vertical-align: middle;\n",
       "    }\n",
       "\n",
       "    .dataframe tbody tr th {\n",
       "        vertical-align: top;\n",
       "    }\n",
       "\n",
       "    .dataframe thead th {\n",
       "        text-align: right;\n",
       "    }\n",
       "</style>\n",
       "<table border=\"1\" class=\"dataframe\">\n",
       "  <thead>\n",
       "    <tr style=\"text-align: right;\">\n",
       "      <th></th>\n",
       "      <th>col_1</th>\n",
       "      <th>col_2</th>\n",
       "      <th>combo_column</th>\n",
       "    </tr>\n",
       "  </thead>\n",
       "  <tbody>\n",
       "    <tr>\n",
       "      <th>0</th>\n",
       "      <td>1</td>\n",
       "      <td>1</td>\n",
       "      <td>{'col_1': 1.0, 'col_1_col_1': 1.0, 'col_1_col_...</td>\n",
       "    </tr>\n",
       "    <tr>\n",
       "      <th>1</th>\n",
       "      <td>2</td>\n",
       "      <td>2</td>\n",
       "      <td>{'col_1': 2.0, 'col_1_col_1': 4.0, 'col_1_col_...</td>\n",
       "    </tr>\n",
       "    <tr>\n",
       "      <th>2</th>\n",
       "      <td>3</td>\n",
       "      <td>3</td>\n",
       "      <td>{'col_1': 3.0, 'col_1_col_1': 9.0, 'col_1_col_...</td>\n",
       "    </tr>\n",
       "    <tr>\n",
       "      <th>3</th>\n",
       "      <td>4</td>\n",
       "      <td>4</td>\n",
       "      <td>{'col_1': 4.0, 'col_1_col_1': 16.0, 'col_1_col...</td>\n",
       "    </tr>\n",
       "    <tr>\n",
       "      <th>4</th>\n",
       "      <td>5</td>\n",
       "      <td>5</td>\n",
       "      <td>{'col_1': 5.0, 'col_1_col_1': 25.0, 'col_1_col...</td>\n",
       "    </tr>\n",
       "    <tr>\n",
       "      <th>5</th>\n",
       "      <td>6</td>\n",
       "      <td>6</td>\n",
       "      <td>{'col_1': 6.0, 'col_1_col_1': 36.0, 'col_1_col...</td>\n",
       "    </tr>\n",
       "    <tr>\n",
       "      <th>6</th>\n",
       "      <td>7</td>\n",
       "      <td>7</td>\n",
       "      <td>{'col_1': 7.0, 'col_1_col_1': 49.0, 'col_1_col...</td>\n",
       "    </tr>\n",
       "    <tr>\n",
       "      <th>7</th>\n",
       "      <td>8</td>\n",
       "      <td>8</td>\n",
       "      <td>{'col_1': 8.0, 'col_1_col_1': 64.0, 'col_1_col...</td>\n",
       "    </tr>\n",
       "    <tr>\n",
       "      <th>8</th>\n",
       "      <td>9</td>\n",
       "      <td>9</td>\n",
       "      <td>{'col_1': 9.0, 'col_1_col_1': 81.0, 'col_1_col...</td>\n",
       "    </tr>\n",
       "    <tr>\n",
       "      <th>9</th>\n",
       "      <td>10</td>\n",
       "      <td>10</td>\n",
       "      <td>{'col_1': 10.0, 'col_1_col_1': 100.0, 'col_1_c...</td>\n",
       "    </tr>\n",
       "  </tbody>\n",
       "</table>\n",
       "</div>"
      ],
      "text/plain": [
       "   col_1  col_2                                       combo_column\n",
       "0      1      1  {'col_1': 1.0, 'col_1_col_1': 1.0, 'col_1_col_...\n",
       "1      2      2  {'col_1': 2.0, 'col_1_col_1': 4.0, 'col_1_col_...\n",
       "2      3      3  {'col_1': 3.0, 'col_1_col_1': 9.0, 'col_1_col_...\n",
       "3      4      4  {'col_1': 4.0, 'col_1_col_1': 16.0, 'col_1_col...\n",
       "4      5      5  {'col_1': 5.0, 'col_1_col_1': 25.0, 'col_1_col...\n",
       "5      6      6  {'col_1': 6.0, 'col_1_col_1': 36.0, 'col_1_col...\n",
       "6      7      7  {'col_1': 7.0, 'col_1_col_1': 49.0, 'col_1_col...\n",
       "7      8      8  {'col_1': 8.0, 'col_1_col_1': 64.0, 'col_1_col...\n",
       "8      9      9  {'col_1': 9.0, 'col_1_col_1': 81.0, 'col_1_col...\n",
       "9     10     10  {'col_1': 10.0, 'col_1_col_1': 100.0, 'col_1_c..."
      ]
     },
     "execution_count": 283,
     "metadata": {},
     "output_type": "execute_result"
    }
   ],
   "source": [
    "df = bq.query(query = query).to_dataframe()\n",
    "df"
   ]
  },
  {
   "cell_type": "code",
   "execution_count": 284,
   "id": "f2811a56-a2c6-4943-a593-d50624e2f54c",
   "metadata": {},
   "outputs": [
    {
     "data": {
      "text/plain": [
       "{'col_1': 10.0,\n",
       " 'col_1_col_1': 100.0,\n",
       " 'col_1_col_2': 100.0,\n",
       " 'col_2': 10.0,\n",
       " 'col_2_col_2': 100.0}"
      ]
     },
     "execution_count": 284,
     "metadata": {},
     "output_type": "execute_result"
    }
   ],
   "source": [
    "df['combo_column'].iloc[-1]"
   ]
  },
  {
   "cell_type": "markdown",
   "id": "719210f5-96e3-474c-8fc3-e6e44d75d678",
   "metadata": {},
   "source": [
    "### ML.FEATURE_CROSS\n",
    "\n",
    "Given a STRUCT of categorial features this returns a STRUCT of all combinations up to the degree passed-in (default = 2).\n",
    "- [Reference](https://cloud.google.com/bigquery-ml/docs/reference/standard-sql/bigqueryml-preprocessing-functions#mlfeature_cross)"
   ]
  },
  {
   "cell_type": "code",
   "execution_count": 285,
   "id": "3a0e4408-5557-4410-8079-da8dec625ef4",
   "metadata": {},
   "outputs": [
    {
     "name": "stdout",
     "output_type": "stream",
     "text": [
      "\n",
      "    SELECT\n",
      "        col_1, col_2, col_3,\n",
      "        ML.FEATURE_CROSS(STRUCT(col_1, col_2, col_3)) AS combo_column\n",
      "    FROM\n",
      "        UNNEST(['a', 'b', 'c']) as col_1 WITH OFFSET pos1,\n",
      "        UNNEST(['A', 'B', 'C']) AS col_2 WITH OFFSET pos2,\n",
      "        UNNEST(['1', '2', '3']) AS col_3 WITH OFFSET pos3\n",
      "    WHERE\n",
      "        pos1 = pos2 AND pos2 = pos3\n",
      "\n"
     ]
    }
   ],
   "source": [
    "query = f\"\"\"\n",
    "    SELECT\n",
    "        col_1, col_2, col_3,\n",
    "        ML.FEATURE_CROSS(STRUCT(col_1, col_2, col_3)) AS combo_column\n",
    "    FROM\n",
    "        UNNEST(['a', 'b', 'c']) as col_1 WITH OFFSET pos1,\n",
    "        UNNEST(['A', 'B', 'C']) AS col_2 WITH OFFSET pos2,\n",
    "        UNNEST(['1', '2', '3']) AS col_3 WITH OFFSET pos3\n",
    "    WHERE\n",
    "        pos1 = pos2 AND pos2 = pos3\n",
    "\"\"\"\n",
    "print(query)"
   ]
  },
  {
   "cell_type": "code",
   "execution_count": 286,
   "id": "723b5274-37e6-4a51-a7f1-a6c80b3832cf",
   "metadata": {},
   "outputs": [
    {
     "data": {
      "text/html": [
       "<div>\n",
       "<style scoped>\n",
       "    .dataframe tbody tr th:only-of-type {\n",
       "        vertical-align: middle;\n",
       "    }\n",
       "\n",
       "    .dataframe tbody tr th {\n",
       "        vertical-align: top;\n",
       "    }\n",
       "\n",
       "    .dataframe thead th {\n",
       "        text-align: right;\n",
       "    }\n",
       "</style>\n",
       "<table border=\"1\" class=\"dataframe\">\n",
       "  <thead>\n",
       "    <tr style=\"text-align: right;\">\n",
       "      <th></th>\n",
       "      <th>col_1</th>\n",
       "      <th>col_2</th>\n",
       "      <th>col_3</th>\n",
       "      <th>combo_column</th>\n",
       "    </tr>\n",
       "  </thead>\n",
       "  <tbody>\n",
       "    <tr>\n",
       "      <th>0</th>\n",
       "      <td>a</td>\n",
       "      <td>A</td>\n",
       "      <td>1</td>\n",
       "      <td>{'col_1_col_2': 'a_A', 'col_1_col_3': 'a_1', '...</td>\n",
       "    </tr>\n",
       "    <tr>\n",
       "      <th>1</th>\n",
       "      <td>b</td>\n",
       "      <td>B</td>\n",
       "      <td>2</td>\n",
       "      <td>{'col_1_col_2': 'b_B', 'col_1_col_3': 'b_2', '...</td>\n",
       "    </tr>\n",
       "    <tr>\n",
       "      <th>2</th>\n",
       "      <td>c</td>\n",
       "      <td>C</td>\n",
       "      <td>3</td>\n",
       "      <td>{'col_1_col_2': 'c_C', 'col_1_col_3': 'c_3', '...</td>\n",
       "    </tr>\n",
       "  </tbody>\n",
       "</table>\n",
       "</div>"
      ],
      "text/plain": [
       "  col_1 col_2 col_3                                       combo_column\n",
       "0     a     A     1  {'col_1_col_2': 'a_A', 'col_1_col_3': 'a_1', '...\n",
       "1     b     B     2  {'col_1_col_2': 'b_B', 'col_1_col_3': 'b_2', '...\n",
       "2     c     C     3  {'col_1_col_2': 'c_C', 'col_1_col_3': 'c_3', '..."
      ]
     },
     "execution_count": 286,
     "metadata": {},
     "output_type": "execute_result"
    }
   ],
   "source": [
    "df = bq.query(query = query).to_dataframe()\n",
    "df"
   ]
  },
  {
   "cell_type": "code",
   "execution_count": 287,
   "id": "67f28780-393e-4fc9-af48-f1fea9b8f535",
   "metadata": {},
   "outputs": [
    {
     "data": {
      "text/plain": [
       "{'col_1_col_2': 'c_C', 'col_1_col_3': 'c_3', 'col_2_col_3': 'C_3'}"
      ]
     },
     "execution_count": 287,
     "metadata": {},
     "output_type": "execute_result"
    }
   ],
   "source": [
    "df['combo_column'].iloc[-1]"
   ]
  },
  {
   "cell_type": "markdown",
   "id": "d6a3da03-be5d-4729-b48a-07b4ed2debf2",
   "metadata": {},
   "source": [
    "### ML.NGRAMS\n",
    "\n",
    "Given an array of strings returns an array of merged inputs strings for the ranges provided.\n",
    "- [Reference](https://cloud.google.com/bigquery-ml/docs/reference/standard-sql/bigqueryml-preprocessing-functions#mlngrams)"
   ]
  },
  {
   "cell_type": "code",
   "execution_count": 288,
   "id": "9558897f-c9ae-4f15-a06c-6d16bc3f78db",
   "metadata": {},
   "outputs": [
    {
     "name": "stdout",
     "output_type": "stream",
     "text": [
      "\n",
      "    SELECT\n",
      "        original_column,\n",
      "        ML.NGRAMS(original_column, [2, 4]) AS ngram_column\n",
      "    FROM\n",
      "        (SELECT ['a', 'b', 'c', 'd'] as original_column)\n",
      "\n"
     ]
    }
   ],
   "source": [
    "query = f\"\"\"\n",
    "    SELECT\n",
    "        original_column,\n",
    "        ML.NGRAMS(original_column, [2, 4]) AS ngram_column\n",
    "    FROM\n",
    "        (SELECT ['a', 'b', 'c', 'd'] as original_column)\n",
    "\"\"\"\n",
    "print(query)"
   ]
  },
  {
   "cell_type": "code",
   "execution_count": 289,
   "id": "dfee0cad-f37d-4959-b7dd-55208c3dced1",
   "metadata": {},
   "outputs": [
    {
     "data": {
      "text/html": [
       "<div>\n",
       "<style scoped>\n",
       "    .dataframe tbody tr th:only-of-type {\n",
       "        vertical-align: middle;\n",
       "    }\n",
       "\n",
       "    .dataframe tbody tr th {\n",
       "        vertical-align: top;\n",
       "    }\n",
       "\n",
       "    .dataframe thead th {\n",
       "        text-align: right;\n",
       "    }\n",
       "</style>\n",
       "<table border=\"1\" class=\"dataframe\">\n",
       "  <thead>\n",
       "    <tr style=\"text-align: right;\">\n",
       "      <th></th>\n",
       "      <th>original_column</th>\n",
       "      <th>ngram_column</th>\n",
       "    </tr>\n",
       "  </thead>\n",
       "  <tbody>\n",
       "    <tr>\n",
       "      <th>0</th>\n",
       "      <td>[a, b, c, d]</td>\n",
       "      <td>[a b, a b c, a b c d, b c, b c d, c d]</td>\n",
       "    </tr>\n",
       "  </tbody>\n",
       "</table>\n",
       "</div>"
      ],
      "text/plain": [
       "  original_column                            ngram_column\n",
       "0    [a, b, c, d]  [a b, a b c, a b c d, b c, b c d, c d]"
      ]
     },
     "execution_count": 289,
     "metadata": {},
     "output_type": "execute_result"
    }
   ],
   "source": [
    "df = bq.query(query = query).to_dataframe()\n",
    "df"
   ]
  },
  {
   "cell_type": "code",
   "execution_count": 290,
   "id": "a8e898aa-dba4-4126-ac9a-792dced4a41f",
   "metadata": {},
   "outputs": [
    {
     "data": {
      "text/plain": [
       "original_column                              [a, b, c, d]\n",
       "ngram_column       [a b, a b c, a b c d, b c, b c d, c d]\n",
       "Name: 0, dtype: object"
      ]
     },
     "execution_count": 290,
     "metadata": {},
     "output_type": "execute_result"
    }
   ],
   "source": [
    "df.iloc[-1]"
   ]
  },
  {
   "cell_type": "markdown",
   "id": "dfc2d3c3-519f-4536-b475-a1250d6db091",
   "metadata": {},
   "source": [
    "### ML.QUANTILE_BUCKATIZE\n",
    "\n",
    "Given a column of numerical values this function creates a new column with bucketed values named with the value of the quantile based on the input number of buckets.\n",
    "- [Reference](https://cloud.google.com/bigquery-ml/docs/reference/standard-sql/bigqueryml-preprocessing-functions#quantile_bucketize)"
   ]
  },
  {
   "cell_type": "code",
   "execution_count": 291,
   "id": "7bd93b7c-2e3c-4cdf-8927-e7675a909ebc",
   "metadata": {},
   "outputs": [
    {
     "name": "stdout",
     "output_type": "stream",
     "text": [
      "\n",
      "    SELECT\n",
      "        original_column,\n",
      "        ML.QUANTILE_BUCKETIZE(original_column, 3) OVER() AS bucketed_column\n",
      "    FROM\n",
      "        UNNEST([1, 1, 1, 2, 2, 3, 3, 3]) as original_column\n",
      "    ORDER BY original_column\n",
      "\n"
     ]
    }
   ],
   "source": [
    "query = f\"\"\"\n",
    "    SELECT\n",
    "        original_column,\n",
    "        ML.QUANTILE_BUCKETIZE(original_column, 3) OVER() AS bucketed_column\n",
    "    FROM\n",
    "        UNNEST([1, 1, 1, 2, 2, 3, 3, 3]) as original_column\n",
    "    ORDER BY original_column\n",
    "\"\"\"\n",
    "print(query)"
   ]
  },
  {
   "cell_type": "code",
   "execution_count": 292,
   "id": "dc5d6ef7-cf69-4a5f-b3e9-52dacb54c0c7",
   "metadata": {},
   "outputs": [
    {
     "data": {
      "text/html": [
       "<div>\n",
       "<style scoped>\n",
       "    .dataframe tbody tr th:only-of-type {\n",
       "        vertical-align: middle;\n",
       "    }\n",
       "\n",
       "    .dataframe tbody tr th {\n",
       "        vertical-align: top;\n",
       "    }\n",
       "\n",
       "    .dataframe thead th {\n",
       "        text-align: right;\n",
       "    }\n",
       "</style>\n",
       "<table border=\"1\" class=\"dataframe\">\n",
       "  <thead>\n",
       "    <tr style=\"text-align: right;\">\n",
       "      <th></th>\n",
       "      <th>original_column</th>\n",
       "      <th>bucketed_column</th>\n",
       "    </tr>\n",
       "  </thead>\n",
       "  <tbody>\n",
       "    <tr>\n",
       "      <th>0</th>\n",
       "      <td>1</td>\n",
       "      <td>bin_1</td>\n",
       "    </tr>\n",
       "    <tr>\n",
       "      <th>1</th>\n",
       "      <td>1</td>\n",
       "      <td>bin_1</td>\n",
       "    </tr>\n",
       "    <tr>\n",
       "      <th>2</th>\n",
       "      <td>1</td>\n",
       "      <td>bin_1</td>\n",
       "    </tr>\n",
       "    <tr>\n",
       "      <th>3</th>\n",
       "      <td>2</td>\n",
       "      <td>bin_1</td>\n",
       "    </tr>\n",
       "    <tr>\n",
       "      <th>4</th>\n",
       "      <td>2</td>\n",
       "      <td>bin_1</td>\n",
       "    </tr>\n",
       "    <tr>\n",
       "      <th>5</th>\n",
       "      <td>3</td>\n",
       "      <td>bin_2</td>\n",
       "    </tr>\n",
       "    <tr>\n",
       "      <th>6</th>\n",
       "      <td>3</td>\n",
       "      <td>bin_2</td>\n",
       "    </tr>\n",
       "    <tr>\n",
       "      <th>7</th>\n",
       "      <td>3</td>\n",
       "      <td>bin_2</td>\n",
       "    </tr>\n",
       "  </tbody>\n",
       "</table>\n",
       "</div>"
      ],
      "text/plain": [
       "   original_column bucketed_column\n",
       "0                1           bin_1\n",
       "1                1           bin_1\n",
       "2                1           bin_1\n",
       "3                2           bin_1\n",
       "4                2           bin_1\n",
       "5                3           bin_2\n",
       "6                3           bin_2\n",
       "7                3           bin_2"
      ]
     },
     "execution_count": 292,
     "metadata": {},
     "output_type": "execute_result"
    }
   ],
   "source": [
    "df = bq.query(query = query).to_dataframe()\n",
    "df"
   ]
  },
  {
   "cell_type": "markdown",
   "id": "5ec75312-e315-47e5-bbad-ebca4b8cee39",
   "metadata": {},
   "source": [
    "### ML.HASH_BUCKATIZE\n",
    "\n",
    "Given a column of string values this function will hash the values as a new column.  If a bucket size > 0 provided it will take the mod of the hash: remainder of the hash divided by bucket size as the bucket number.\n",
    "- [Reference](https://cloud.google.com/bigquery-ml/docs/reference/standard-sql/bigqueryml-preprocessing-functions#hash_bucketize)"
   ]
  },
  {
   "cell_type": "code",
   "execution_count": 293,
   "id": "016c70d7-be6e-4235-8700-56a76365bdde",
   "metadata": {},
   "outputs": [
    {
     "name": "stdout",
     "output_type": "stream",
     "text": [
      "\n",
      "    SELECT\n",
      "        original_column,\n",
      "        ML.HASH_BUCKETIZE(original_column, 0) AS hash_column,\n",
      "        ML.HASH_BUCKETIZE(original_column, 3) AS bucketed_column\n",
      "    FROM\n",
      "        UNNEST(['a', 'b', 'c', 'd', 'e', 'f', 'g', 'h', 'i']) as original_column\n",
      "\n"
     ]
    }
   ],
   "source": [
    "query = f\"\"\"\n",
    "    SELECT\n",
    "        original_column,\n",
    "        ML.HASH_BUCKETIZE(original_column, 0) AS hash_column,\n",
    "        ML.HASH_BUCKETIZE(original_column, 3) AS bucketed_column\n",
    "    FROM\n",
    "        UNNEST(['a', 'b', 'c', 'd', 'e', 'f', 'g', 'h', 'i']) as original_column\n",
    "\"\"\"\n",
    "print(query)"
   ]
  },
  {
   "cell_type": "code",
   "execution_count": 294,
   "id": "524d1450-1cb6-4ce3-b4fd-010b0674755f",
   "metadata": {},
   "outputs": [
    {
     "data": {
      "text/html": [
       "<div>\n",
       "<style scoped>\n",
       "    .dataframe tbody tr th:only-of-type {\n",
       "        vertical-align: middle;\n",
       "    }\n",
       "\n",
       "    .dataframe tbody tr th {\n",
       "        vertical-align: top;\n",
       "    }\n",
       "\n",
       "    .dataframe thead th {\n",
       "        text-align: right;\n",
       "    }\n",
       "</style>\n",
       "<table border=\"1\" class=\"dataframe\">\n",
       "  <thead>\n",
       "    <tr style=\"text-align: right;\">\n",
       "      <th></th>\n",
       "      <th>original_column</th>\n",
       "      <th>hash_column</th>\n",
       "      <th>bucketed_column</th>\n",
       "    </tr>\n",
       "  </thead>\n",
       "  <tbody>\n",
       "    <tr>\n",
       "      <th>0</th>\n",
       "      <td>a</td>\n",
       "      <td>-5528939962900187677</td>\n",
       "      <td>0</td>\n",
       "    </tr>\n",
       "    <tr>\n",
       "      <th>1</th>\n",
       "      <td>b</td>\n",
       "      <td>-6651148003232386794</td>\n",
       "      <td>1</td>\n",
       "    </tr>\n",
       "    <tr>\n",
       "      <th>2</th>\n",
       "      <td>c</td>\n",
       "      <td>-7016299626566550744</td>\n",
       "      <td>1</td>\n",
       "    </tr>\n",
       "    <tr>\n",
       "      <th>3</th>\n",
       "      <td>d</td>\n",
       "      <td>4470636696479570465</td>\n",
       "      <td>2</td>\n",
       "    </tr>\n",
       "    <tr>\n",
       "      <th>4</th>\n",
       "      <td>e</td>\n",
       "      <td>-3078673838733201075</td>\n",
       "      <td>1</td>\n",
       "    </tr>\n",
       "    <tr>\n",
       "      <th>5</th>\n",
       "      <td>f</td>\n",
       "      <td>-1522288349254903624</td>\n",
       "      <td>0</td>\n",
       "    </tr>\n",
       "    <tr>\n",
       "      <th>6</th>\n",
       "      <td>g</td>\n",
       "      <td>4940667224093463419</td>\n",
       "      <td>2</td>\n",
       "    </tr>\n",
       "    <tr>\n",
       "      <th>7</th>\n",
       "      <td>h</td>\n",
       "      <td>-2585402310428948559</td>\n",
       "      <td>1</td>\n",
       "    </tr>\n",
       "    <tr>\n",
       "      <th>8</th>\n",
       "      <td>i</td>\n",
       "      <td>-9189916281559197516</td>\n",
       "      <td>1</td>\n",
       "    </tr>\n",
       "  </tbody>\n",
       "</table>\n",
       "</div>"
      ],
      "text/plain": [
       "  original_column           hash_column  bucketed_column\n",
       "0               a  -5528939962900187677                0\n",
       "1               b  -6651148003232386794                1\n",
       "2               c  -7016299626566550744                1\n",
       "3               d   4470636696479570465                2\n",
       "4               e  -3078673838733201075                1\n",
       "5               f  -1522288349254903624                0\n",
       "6               g   4940667224093463419                2\n",
       "7               h  -2585402310428948559                1\n",
       "8               i  -9189916281559197516                1"
      ]
     },
     "execution_count": 294,
     "metadata": {},
     "output_type": "execute_result"
    }
   ],
   "source": [
    "df = bq.query(query = query).to_dataframe()\n",
    "df"
   ]
  },
  {
   "cell_type": "markdown",
   "id": "39dea489-84cc-455c-9380-98467dd859e3",
   "metadata": {},
   "source": [
    "### ML.MIN_MAX_SCALER\n",
    "\n",
    "Given a column of numerical value this function will scale the value to the range [0, 1] and cap data at either 0 or 1.  When used with the `TRANSFORM` statement of a `CREATE MODEL` this will also apply to `ML.PREDICT` and cap inputs to 0 or 1.\n",
    "- [Reference](https://cloud.google.com/bigquery-ml/docs/reference/standard-sql/bigqueryml-preprocessing-functions#mlmin_max_scaler)"
   ]
  },
  {
   "cell_type": "code",
   "execution_count": 295,
   "id": "841b75b5-abb2-4371-aa55-efabfdf14769",
   "metadata": {},
   "outputs": [
    {
     "name": "stdout",
     "output_type": "stream",
     "text": [
      "\n",
      "    SELECT\n",
      "        original_column,\n",
      "        ML.MIN_MAX_SCALER(original_column) OVER() AS scale_column\n",
      "    FROM\n",
      "        UNNEST([0, 1, 2, 3, 4, 5, 6, 7, 8, 9, 10]) as original_column\n",
      "    ORDER BY original_column\n",
      "\n"
     ]
    }
   ],
   "source": [
    "query = f\"\"\"\n",
    "    SELECT\n",
    "        original_column,\n",
    "        ML.MIN_MAX_SCALER(original_column) OVER() AS scale_column\n",
    "    FROM\n",
    "        UNNEST([0, 1, 2, 3, 4, 5, 6, 7, 8, 9, 10]) as original_column\n",
    "    ORDER BY original_column\n",
    "\"\"\"\n",
    "print(query)"
   ]
  },
  {
   "cell_type": "code",
   "execution_count": 296,
   "id": "f4bedad2-e0b9-4ff2-9d1f-f0b9e569a967",
   "metadata": {},
   "outputs": [
    {
     "data": {
      "text/html": [
       "<div>\n",
       "<style scoped>\n",
       "    .dataframe tbody tr th:only-of-type {\n",
       "        vertical-align: middle;\n",
       "    }\n",
       "\n",
       "    .dataframe tbody tr th {\n",
       "        vertical-align: top;\n",
       "    }\n",
       "\n",
       "    .dataframe thead th {\n",
       "        text-align: right;\n",
       "    }\n",
       "</style>\n",
       "<table border=\"1\" class=\"dataframe\">\n",
       "  <thead>\n",
       "    <tr style=\"text-align: right;\">\n",
       "      <th></th>\n",
       "      <th>original_column</th>\n",
       "      <th>scale_column</th>\n",
       "    </tr>\n",
       "  </thead>\n",
       "  <tbody>\n",
       "    <tr>\n",
       "      <th>0</th>\n",
       "      <td>0</td>\n",
       "      <td>0.0</td>\n",
       "    </tr>\n",
       "    <tr>\n",
       "      <th>1</th>\n",
       "      <td>1</td>\n",
       "      <td>0.1</td>\n",
       "    </tr>\n",
       "    <tr>\n",
       "      <th>2</th>\n",
       "      <td>2</td>\n",
       "      <td>0.2</td>\n",
       "    </tr>\n",
       "    <tr>\n",
       "      <th>3</th>\n",
       "      <td>3</td>\n",
       "      <td>0.3</td>\n",
       "    </tr>\n",
       "    <tr>\n",
       "      <th>4</th>\n",
       "      <td>4</td>\n",
       "      <td>0.4</td>\n",
       "    </tr>\n",
       "    <tr>\n",
       "      <th>5</th>\n",
       "      <td>5</td>\n",
       "      <td>0.5</td>\n",
       "    </tr>\n",
       "    <tr>\n",
       "      <th>6</th>\n",
       "      <td>6</td>\n",
       "      <td>0.6</td>\n",
       "    </tr>\n",
       "    <tr>\n",
       "      <th>7</th>\n",
       "      <td>7</td>\n",
       "      <td>0.7</td>\n",
       "    </tr>\n",
       "    <tr>\n",
       "      <th>8</th>\n",
       "      <td>8</td>\n",
       "      <td>0.8</td>\n",
       "    </tr>\n",
       "    <tr>\n",
       "      <th>9</th>\n",
       "      <td>9</td>\n",
       "      <td>0.9</td>\n",
       "    </tr>\n",
       "    <tr>\n",
       "      <th>10</th>\n",
       "      <td>10</td>\n",
       "      <td>1.0</td>\n",
       "    </tr>\n",
       "  </tbody>\n",
       "</table>\n",
       "</div>"
      ],
      "text/plain": [
       "    original_column  scale_column\n",
       "0                 0           0.0\n",
       "1                 1           0.1\n",
       "2                 2           0.2\n",
       "3                 3           0.3\n",
       "4                 4           0.4\n",
       "5                 5           0.5\n",
       "6                 6           0.6\n",
       "7                 7           0.7\n",
       "8                 8           0.8\n",
       "9                 9           0.9\n",
       "10               10           1.0"
      ]
     },
     "execution_count": 296,
     "metadata": {},
     "output_type": "execute_result"
    }
   ],
   "source": [
    "df = bq.query(query = query).to_dataframe()\n",
    "df"
   ]
  },
  {
   "cell_type": "markdown",
   "id": "63141a22-785d-45c0-9595-d5d31896f998",
   "metadata": {},
   "source": [
    "### ML.STANDARD_SCALER\n",
    "\n",
    "Given a column of numerical value this function will standardize the values by subtracting the `MEAN` and dividing by the `STDDEV`.  When used with the `TRANSFORM` statement of a `CREATE MODEL` this will also apply to `ML.PREDICT` and use the same values for `MEAN` and `STDDEV`.\n",
    "- [Reference](https://cloud.google.com/bigquery-ml/docs/reference/standard-sql/bigqueryml-preprocessing-functions#mlstandard_scaler)"
   ]
  },
  {
   "cell_type": "code",
   "execution_count": 297,
   "id": "d0d77c0f-92c7-4936-940a-80fdbbdc08b2",
   "metadata": {},
   "outputs": [
    {
     "name": "stdout",
     "output_type": "stream",
     "text": [
      "\n",
      "    SELECT\n",
      "        original_column,\n",
      "        ML.STANDARD_SCALER(original_column) OVER() AS scale_column\n",
      "    FROM\n",
      "        UNNEST([0, 1, 2, 3, 4, 5, 6, 7, 8, 9, 10]) as original_column\n",
      "    ORDER BY original_column\n",
      "\n"
     ]
    }
   ],
   "source": [
    "query = f\"\"\"\n",
    "    SELECT\n",
    "        original_column,\n",
    "        ML.STANDARD_SCALER(original_column) OVER() AS scale_column\n",
    "    FROM\n",
    "        UNNEST([0, 1, 2, 3, 4, 5, 6, 7, 8, 9, 10]) as original_column\n",
    "    ORDER BY original_column\n",
    "\"\"\"\n",
    "print(query)"
   ]
  },
  {
   "cell_type": "code",
   "execution_count": 298,
   "id": "c5d40f4c-2b28-48a9-abd6-fd11be7e623a",
   "metadata": {},
   "outputs": [
    {
     "data": {
      "text/html": [
       "<div>\n",
       "<style scoped>\n",
       "    .dataframe tbody tr th:only-of-type {\n",
       "        vertical-align: middle;\n",
       "    }\n",
       "\n",
       "    .dataframe tbody tr th {\n",
       "        vertical-align: top;\n",
       "    }\n",
       "\n",
       "    .dataframe thead th {\n",
       "        text-align: right;\n",
       "    }\n",
       "</style>\n",
       "<table border=\"1\" class=\"dataframe\">\n",
       "  <thead>\n",
       "    <tr style=\"text-align: right;\">\n",
       "      <th></th>\n",
       "      <th>original_column</th>\n",
       "      <th>scale_column</th>\n",
       "    </tr>\n",
       "  </thead>\n",
       "  <tbody>\n",
       "    <tr>\n",
       "      <th>0</th>\n",
       "      <td>0</td>\n",
       "      <td>-1.507557</td>\n",
       "    </tr>\n",
       "    <tr>\n",
       "      <th>1</th>\n",
       "      <td>1</td>\n",
       "      <td>-1.206045</td>\n",
       "    </tr>\n",
       "    <tr>\n",
       "      <th>2</th>\n",
       "      <td>2</td>\n",
       "      <td>-0.904534</td>\n",
       "    </tr>\n",
       "    <tr>\n",
       "      <th>3</th>\n",
       "      <td>3</td>\n",
       "      <td>-0.603023</td>\n",
       "    </tr>\n",
       "    <tr>\n",
       "      <th>4</th>\n",
       "      <td>4</td>\n",
       "      <td>-0.301511</td>\n",
       "    </tr>\n",
       "    <tr>\n",
       "      <th>5</th>\n",
       "      <td>5</td>\n",
       "      <td>0.000000</td>\n",
       "    </tr>\n",
       "    <tr>\n",
       "      <th>6</th>\n",
       "      <td>6</td>\n",
       "      <td>0.301511</td>\n",
       "    </tr>\n",
       "    <tr>\n",
       "      <th>7</th>\n",
       "      <td>7</td>\n",
       "      <td>0.603023</td>\n",
       "    </tr>\n",
       "    <tr>\n",
       "      <th>8</th>\n",
       "      <td>8</td>\n",
       "      <td>0.904534</td>\n",
       "    </tr>\n",
       "    <tr>\n",
       "      <th>9</th>\n",
       "      <td>9</td>\n",
       "      <td>1.206045</td>\n",
       "    </tr>\n",
       "    <tr>\n",
       "      <th>10</th>\n",
       "      <td>10</td>\n",
       "      <td>1.507557</td>\n",
       "    </tr>\n",
       "  </tbody>\n",
       "</table>\n",
       "</div>"
      ],
      "text/plain": [
       "    original_column  scale_column\n",
       "0                 0     -1.507557\n",
       "1                 1     -1.206045\n",
       "2                 2     -0.904534\n",
       "3                 3     -0.603023\n",
       "4                 4     -0.301511\n",
       "5                 5      0.000000\n",
       "6                 6      0.301511\n",
       "7                 7      0.603023\n",
       "8                 8      0.904534\n",
       "9                 9      1.206045\n",
       "10               10      1.507557"
      ]
     },
     "execution_count": 298,
     "metadata": {},
     "output_type": "execute_result"
    }
   ],
   "source": [
    "df = bq.query(query = query).to_dataframe()\n",
    "df"
   ]
  },
  {
   "cell_type": "markdown",
   "id": "22229960-d9c3-4628-8546-ae1029a55acc",
   "metadata": {},
   "source": [
    "---\n",
    "## BigQuery Advanced Feature Engineering\n",
    "\n",
    "Additional BigQuery ML (BQML) manual preprocessing functions for preprocessing data for ML.\n"
   ]
  },
  {
   "cell_type": "markdown",
   "id": "58691506-7b69-43ce-b33b-013a4f40c411",
   "metadata": {},
   "source": [
    "### ML.MAX_ABS_SCALER\n",
    "\n",
    "Given a column of numerical value this function will scale the value to the range [-1, 1] by dividing by the maximum absolute value.\n",
    "- Reference (coming soon)"
   ]
  },
  {
   "cell_type": "code",
   "execution_count": 301,
   "id": "f961e951-7957-4dc3-9ccc-944490fd049d",
   "metadata": {},
   "outputs": [
    {
     "name": "stdout",
     "output_type": "stream",
     "text": [
      "\n",
      "    SELECT\n",
      "        original_column,\n",
      "        ML.MAX_ABS_SCALER(original_column) OVER() AS scale_column\n",
      "    FROM\n",
      "        UNNEST([0, -1, 2, -3, 4, -5, 6, -7, 8, -9, 10]) as original_column\n",
      "    ORDER BY original_column\n",
      "\n"
     ]
    }
   ],
   "source": [
    "query = f\"\"\"\n",
    "    SELECT\n",
    "        original_column,\n",
    "        ML.MAX_ABS_SCALER(original_column) OVER() AS scale_column\n",
    "    FROM\n",
    "        UNNEST([0, -1, 2, -3, 4, -5, 6, -7, 8, -9, 10]) as original_column\n",
    "    ORDER BY original_column\n",
    "\"\"\"\n",
    "print(query)"
   ]
  },
  {
   "cell_type": "code",
   "execution_count": 302,
   "id": "98c276a6-a8ac-4516-bc3b-a8b8ace3fd37",
   "metadata": {},
   "outputs": [
    {
     "data": {
      "text/html": [
       "<div>\n",
       "<style scoped>\n",
       "    .dataframe tbody tr th:only-of-type {\n",
       "        vertical-align: middle;\n",
       "    }\n",
       "\n",
       "    .dataframe tbody tr th {\n",
       "        vertical-align: top;\n",
       "    }\n",
       "\n",
       "    .dataframe thead th {\n",
       "        text-align: right;\n",
       "    }\n",
       "</style>\n",
       "<table border=\"1\" class=\"dataframe\">\n",
       "  <thead>\n",
       "    <tr style=\"text-align: right;\">\n",
       "      <th></th>\n",
       "      <th>original_column</th>\n",
       "      <th>scale_column</th>\n",
       "    </tr>\n",
       "  </thead>\n",
       "  <tbody>\n",
       "    <tr>\n",
       "      <th>0</th>\n",
       "      <td>-9</td>\n",
       "      <td>-0.9</td>\n",
       "    </tr>\n",
       "    <tr>\n",
       "      <th>1</th>\n",
       "      <td>-7</td>\n",
       "      <td>-0.7</td>\n",
       "    </tr>\n",
       "    <tr>\n",
       "      <th>2</th>\n",
       "      <td>-5</td>\n",
       "      <td>-0.5</td>\n",
       "    </tr>\n",
       "    <tr>\n",
       "      <th>3</th>\n",
       "      <td>-3</td>\n",
       "      <td>-0.3</td>\n",
       "    </tr>\n",
       "    <tr>\n",
       "      <th>4</th>\n",
       "      <td>-1</td>\n",
       "      <td>-0.1</td>\n",
       "    </tr>\n",
       "    <tr>\n",
       "      <th>5</th>\n",
       "      <td>0</td>\n",
       "      <td>0.0</td>\n",
       "    </tr>\n",
       "    <tr>\n",
       "      <th>6</th>\n",
       "      <td>2</td>\n",
       "      <td>0.2</td>\n",
       "    </tr>\n",
       "    <tr>\n",
       "      <th>7</th>\n",
       "      <td>4</td>\n",
       "      <td>0.4</td>\n",
       "    </tr>\n",
       "    <tr>\n",
       "      <th>8</th>\n",
       "      <td>6</td>\n",
       "      <td>0.6</td>\n",
       "    </tr>\n",
       "    <tr>\n",
       "      <th>9</th>\n",
       "      <td>8</td>\n",
       "      <td>0.8</td>\n",
       "    </tr>\n",
       "    <tr>\n",
       "      <th>10</th>\n",
       "      <td>10</td>\n",
       "      <td>1.0</td>\n",
       "    </tr>\n",
       "  </tbody>\n",
       "</table>\n",
       "</div>"
      ],
      "text/plain": [
       "    original_column  scale_column\n",
       "0                -9          -0.9\n",
       "1                -7          -0.7\n",
       "2                -5          -0.5\n",
       "3                -3          -0.3\n",
       "4                -1          -0.1\n",
       "5                 0           0.0\n",
       "6                 2           0.2\n",
       "7                 4           0.4\n",
       "8                 6           0.6\n",
       "9                 8           0.8\n",
       "10               10           1.0"
      ]
     },
     "execution_count": 302,
     "metadata": {},
     "output_type": "execute_result"
    }
   ],
   "source": [
    "df = bq.query(query = query).to_dataframe()\n",
    "df"
   ]
  },
  {
   "cell_type": "markdown",
   "id": "c342876d-821f-4fe2-9218-f0e147b43507",
   "metadata": {},
   "source": [
    "### ML.ROBUST_SCALER\n",
    "\n",
    "Given a column of numerical value this function will scale the values to the quantile range: \n",
    "- Specify the quantile range with parameter `quantile_range` which has a default value of `[25, 75]`.\n",
    "- Centering the data by removing (subtracing) the median with the parameter `with_median` which has default value of `TRUE` the removes median before scaling.\n",
    "- Scale to the quantile range with parameter `with_quantile_range` which as a default value of `TRUE`.\n",
    "   \n",
    "   \n",
    "Reference (coming soon)"
   ]
  },
  {
   "cell_type": "code",
   "execution_count": 350,
   "id": "89687505-d910-4f5a-8be5-5161fddecc16",
   "metadata": {},
   "outputs": [
    {
     "name": "stdout",
     "output_type": "stream",
     "text": [
      "\n",
      "    SELECT\n",
      "        original_column,\n",
      "        ML.ROBUST_SCALER(original_column) OVER() AS scale_column,\n",
      "        ML.ROBUST_SCALER(original_column, [25, 75], FALSE, TRUE) OVER() AS scale_column2,\n",
      "        ML.ROBUST_SCALER(original_column, [25, 75], TRUE, FALSE) OVER() AS scale_column3\n",
      "    FROM\n",
      "        UNNEST([0, 25, 50, 75, 100]) as original_column\n",
      "    ORDER BY original_column\n",
      "\n"
     ]
    }
   ],
   "source": [
    "query = f\"\"\"\n",
    "    SELECT\n",
    "        original_column,\n",
    "        ML.ROBUST_SCALER(original_column) OVER() AS scale_column,\n",
    "        ML.ROBUST_SCALER(original_column, [25, 75], FALSE, TRUE) OVER() AS scale_column2,\n",
    "        ML.ROBUST_SCALER(original_column, [25, 75], TRUE, FALSE) OVER() AS scale_column3\n",
    "    FROM\n",
    "        UNNEST([0, 25, 50, 75, 100]) as original_column\n",
    "    ORDER BY original_column\n",
    "\"\"\"\n",
    "print(query)"
   ]
  },
  {
   "cell_type": "code",
   "execution_count": 351,
   "id": "4093f73e-f1e8-4f56-afa8-4fa685a3f470",
   "metadata": {},
   "outputs": [
    {
     "data": {
      "text/html": [
       "<div>\n",
       "<style scoped>\n",
       "    .dataframe tbody tr th:only-of-type {\n",
       "        vertical-align: middle;\n",
       "    }\n",
       "\n",
       "    .dataframe tbody tr th {\n",
       "        vertical-align: top;\n",
       "    }\n",
       "\n",
       "    .dataframe thead th {\n",
       "        text-align: right;\n",
       "    }\n",
       "</style>\n",
       "<table border=\"1\" class=\"dataframe\">\n",
       "  <thead>\n",
       "    <tr style=\"text-align: right;\">\n",
       "      <th></th>\n",
       "      <th>original_column</th>\n",
       "      <th>scale_column</th>\n",
       "      <th>scale_column2</th>\n",
       "      <th>scale_column3</th>\n",
       "    </tr>\n",
       "  </thead>\n",
       "  <tbody>\n",
       "    <tr>\n",
       "      <th>0</th>\n",
       "      <td>0</td>\n",
       "      <td>-1.0</td>\n",
       "      <td>0.0</td>\n",
       "      <td>-50.0</td>\n",
       "    </tr>\n",
       "    <tr>\n",
       "      <th>1</th>\n",
       "      <td>25</td>\n",
       "      <td>-0.5</td>\n",
       "      <td>0.5</td>\n",
       "      <td>-25.0</td>\n",
       "    </tr>\n",
       "    <tr>\n",
       "      <th>2</th>\n",
       "      <td>50</td>\n",
       "      <td>0.0</td>\n",
       "      <td>1.0</td>\n",
       "      <td>0.0</td>\n",
       "    </tr>\n",
       "    <tr>\n",
       "      <th>3</th>\n",
       "      <td>75</td>\n",
       "      <td>0.5</td>\n",
       "      <td>1.5</td>\n",
       "      <td>25.0</td>\n",
       "    </tr>\n",
       "    <tr>\n",
       "      <th>4</th>\n",
       "      <td>100</td>\n",
       "      <td>1.0</td>\n",
       "      <td>2.0</td>\n",
       "      <td>50.0</td>\n",
       "    </tr>\n",
       "  </tbody>\n",
       "</table>\n",
       "</div>"
      ],
      "text/plain": [
       "   original_column  scale_column  scale_column2  scale_column3\n",
       "0                0          -1.0            0.0          -50.0\n",
       "1               25          -0.5            0.5          -25.0\n",
       "2               50           0.0            1.0            0.0\n",
       "3               75           0.5            1.5           25.0\n",
       "4              100           1.0            2.0           50.0"
      ]
     },
     "execution_count": 351,
     "metadata": {},
     "output_type": "execute_result"
    }
   ],
   "source": [
    "df = bq.query(query = query).to_dataframe()\n",
    "df"
   ]
  },
  {
   "cell_type": "markdown",
   "id": "e0af0b67-c61a-479f-ac12-9812026a9580",
   "metadata": {},
   "source": [
    "### ML.NORMALIZER\n",
    "\n",
    "Given a column of numerical arrays this function will normalize the arrays to have unit norm with given p-norm (parameter `p` has default = 2 and takes values 0, +inf, >= 1.\n",
    "- Reference (coming soon)"
   ]
  },
  {
   "cell_type": "code",
   "execution_count": 345,
   "id": "4f46e5aa-bf72-4e84-8cc0-3dd62abb0d32",
   "metadata": {},
   "outputs": [
    {
     "name": "stdout",
     "output_type": "stream",
     "text": [
      "\n",
      "    SELECT\n",
      "        original_column,\n",
      "        ML.NORMALIZER(original_column) AS norm_2,\n",
      "        ML.NORMALIZER(original_column, 1) AS norm_1,\n",
      "        ML.NORMALIZER(original_column, 0) AS norm_0\n",
      "    FROM\n",
      "        (SELECT [1, 2, 3, 4, 5] as original_column)\n",
      "\n"
     ]
    }
   ],
   "source": [
    "query = f\"\"\"\n",
    "    SELECT\n",
    "        original_column,\n",
    "        ML.NORMALIZER(original_column) AS norm_2,\n",
    "        ML.NORMALIZER(original_column, 1) AS norm_1,\n",
    "        ML.NORMALIZER(original_column, 0) AS norm_0\n",
    "    FROM\n",
    "        (SELECT [1, 2, 3, 4, 5] as original_column)\n",
    "\"\"\"\n",
    "print(query)"
   ]
  },
  {
   "cell_type": "code",
   "execution_count": 346,
   "id": "d69c20f6-7612-4c70-9eb3-29e72faa0d01",
   "metadata": {},
   "outputs": [
    {
     "data": {
      "text/html": [
       "<div>\n",
       "<style scoped>\n",
       "    .dataframe tbody tr th:only-of-type {\n",
       "        vertical-align: middle;\n",
       "    }\n",
       "\n",
       "    .dataframe tbody tr th {\n",
       "        vertical-align: top;\n",
       "    }\n",
       "\n",
       "    .dataframe thead th {\n",
       "        text-align: right;\n",
       "    }\n",
       "</style>\n",
       "<table border=\"1\" class=\"dataframe\">\n",
       "  <thead>\n",
       "    <tr style=\"text-align: right;\">\n",
       "      <th></th>\n",
       "      <th>original_column</th>\n",
       "      <th>norm_2</th>\n",
       "      <th>norm_1</th>\n",
       "      <th>norm_0</th>\n",
       "    </tr>\n",
       "  </thead>\n",
       "  <tbody>\n",
       "    <tr>\n",
       "      <th>0</th>\n",
       "      <td>[1, 2, 3, 4, 5]</td>\n",
       "      <td>[0.13483997249264842, 0.26967994498529685, 0.4...</td>\n",
       "      <td>[0.06666666666666667, 0.13333333333333333, 0.2...</td>\n",
       "      <td>[0.2, 0.4, 0.6, 0.8, 1.0]</td>\n",
       "    </tr>\n",
       "  </tbody>\n",
       "</table>\n",
       "</div>"
      ],
      "text/plain": [
       "   original_column                                             norm_2  \\\n",
       "0  [1, 2, 3, 4, 5]  [0.13483997249264842, 0.26967994498529685, 0.4...   \n",
       "\n",
       "                                              norm_1  \\\n",
       "0  [0.06666666666666667, 0.13333333333333333, 0.2...   \n",
       "\n",
       "                      norm_0  \n",
       "0  [0.2, 0.4, 0.6, 0.8, 1.0]  "
      ]
     },
     "execution_count": 346,
     "metadata": {},
     "output_type": "execute_result"
    }
   ],
   "source": [
    "df = bq.query(query = query).to_dataframe()\n",
    "df"
   ]
  },
  {
   "cell_type": "code",
   "execution_count": 347,
   "id": "55ae1f17-c332-4825-ae84-9c2c8c1c1a5b",
   "metadata": {},
   "outputs": [
    {
     "data": {
      "text/plain": [
       "array([0.13483997, 0.26967994, 0.40451992, 0.53935989, 0.67419986])"
      ]
     },
     "execution_count": 347,
     "metadata": {},
     "output_type": "execute_result"
    }
   ],
   "source": [
    "df['norm_2'].iloc[-1]"
   ]
  },
  {
   "cell_type": "markdown",
   "id": "a0fd9f08-7bb1-4478-beff-0b01260fbfe5",
   "metadata": {},
   "source": [
    "### ML.IMPUTER\n",
    "\n",
    "Given a column, numerical or categorical (string), the function replaces `NULL` values with the value specified by the paramter `strategy`:\n",
    "- 'mean' uses the mean (only for numerical columns)\n",
    "- 'median' uses the median (only for numerical columns)\n",
    "- 'most_frequent' uses the mode\n",
    "\n",
    "Reference (coming soon)"
   ]
  },
  {
   "cell_type": "code",
   "execution_count": 343,
   "id": "d36ba039-db49-4c1c-b488-2faf01f89c35",
   "metadata": {},
   "outputs": [
    {
     "name": "stdout",
     "output_type": "stream",
     "text": [
      "\n",
      "    SELECT\n",
      "        num_column,\n",
      "        ML.IMPUTER(num_column, 'mean') OVER() AS num_imputed_mean,\n",
      "        ML.IMPUTER(num_column, 'median') OVER() AS num_imputed_median,\n",
      "        ML.IMPUTER(num_column, 'most_frequent') OVER() AS num_imputed_mode,\n",
      "        string_column,\n",
      "        ML.IMPUTER(string_column, 'most_frequent') OVER() AS string_imputed_mode,\n",
      "    FROM\n",
      "        UNNEST([1, 1, 2, 3, 4, 5, NULL]) AS num_column WITH OFFSET pos1,\n",
      "        UNNEST(['a', 'a', 'b', 'c', 'd', 'e', NULL]) AS string_column WITH OFFSET pos2\n",
      "    WHERE pos1 = pos2\n",
      "    ORDER BY num_column\n",
      "\n"
     ]
    }
   ],
   "source": [
    "query = f\"\"\"\n",
    "    SELECT\n",
    "        num_column,\n",
    "        ML.IMPUTER(num_column, 'mean') OVER() AS num_imputed_mean,\n",
    "        ML.IMPUTER(num_column, 'median') OVER() AS num_imputed_median,\n",
    "        ML.IMPUTER(num_column, 'most_frequent') OVER() AS num_imputed_mode,\n",
    "        string_column,\n",
    "        ML.IMPUTER(string_column, 'most_frequent') OVER() AS string_imputed_mode,\n",
    "    FROM\n",
    "        UNNEST([1, 1, 2, 3, 4, 5, NULL]) AS num_column WITH OFFSET pos1,\n",
    "        UNNEST(['a', 'a', 'b', 'c', 'd', 'e', NULL]) AS string_column WITH OFFSET pos2\n",
    "    WHERE pos1 = pos2\n",
    "    ORDER BY num_column\n",
    "\"\"\"\n",
    "print(query)"
   ]
  },
  {
   "cell_type": "code",
   "execution_count": 344,
   "id": "950b37f7-6db9-4c31-9989-16fb007bdcae",
   "metadata": {},
   "outputs": [
    {
     "data": {
      "text/html": [
       "<div>\n",
       "<style scoped>\n",
       "    .dataframe tbody tr th:only-of-type {\n",
       "        vertical-align: middle;\n",
       "    }\n",
       "\n",
       "    .dataframe tbody tr th {\n",
       "        vertical-align: top;\n",
       "    }\n",
       "\n",
       "    .dataframe thead th {\n",
       "        text-align: right;\n",
       "    }\n",
       "</style>\n",
       "<table border=\"1\" class=\"dataframe\">\n",
       "  <thead>\n",
       "    <tr style=\"text-align: right;\">\n",
       "      <th></th>\n",
       "      <th>num_column</th>\n",
       "      <th>num_imputed_mean</th>\n",
       "      <th>num_imputed_median</th>\n",
       "      <th>num_imputed_mode</th>\n",
       "      <th>string_column</th>\n",
       "      <th>string_imputed_mode</th>\n",
       "    </tr>\n",
       "  </thead>\n",
       "  <tbody>\n",
       "    <tr>\n",
       "      <th>0</th>\n",
       "      <td>&lt;NA&gt;</td>\n",
       "      <td>2.666667</td>\n",
       "      <td>2.0</td>\n",
       "      <td>1.0</td>\n",
       "      <td>None</td>\n",
       "      <td>a</td>\n",
       "    </tr>\n",
       "    <tr>\n",
       "      <th>1</th>\n",
       "      <td>1</td>\n",
       "      <td>1.000000</td>\n",
       "      <td>1.0</td>\n",
       "      <td>1.0</td>\n",
       "      <td>a</td>\n",
       "      <td>a</td>\n",
       "    </tr>\n",
       "    <tr>\n",
       "      <th>2</th>\n",
       "      <td>1</td>\n",
       "      <td>1.000000</td>\n",
       "      <td>1.0</td>\n",
       "      <td>1.0</td>\n",
       "      <td>a</td>\n",
       "      <td>a</td>\n",
       "    </tr>\n",
       "    <tr>\n",
       "      <th>3</th>\n",
       "      <td>2</td>\n",
       "      <td>2.000000</td>\n",
       "      <td>2.0</td>\n",
       "      <td>2.0</td>\n",
       "      <td>b</td>\n",
       "      <td>b</td>\n",
       "    </tr>\n",
       "    <tr>\n",
       "      <th>4</th>\n",
       "      <td>3</td>\n",
       "      <td>3.000000</td>\n",
       "      <td>3.0</td>\n",
       "      <td>3.0</td>\n",
       "      <td>c</td>\n",
       "      <td>c</td>\n",
       "    </tr>\n",
       "    <tr>\n",
       "      <th>5</th>\n",
       "      <td>4</td>\n",
       "      <td>4.000000</td>\n",
       "      <td>4.0</td>\n",
       "      <td>4.0</td>\n",
       "      <td>d</td>\n",
       "      <td>d</td>\n",
       "    </tr>\n",
       "    <tr>\n",
       "      <th>6</th>\n",
       "      <td>5</td>\n",
       "      <td>5.000000</td>\n",
       "      <td>5.0</td>\n",
       "      <td>5.0</td>\n",
       "      <td>e</td>\n",
       "      <td>e</td>\n",
       "    </tr>\n",
       "  </tbody>\n",
       "</table>\n",
       "</div>"
      ],
      "text/plain": [
       "   num_column  num_imputed_mean  num_imputed_median  num_imputed_mode  \\\n",
       "0        <NA>          2.666667                 2.0               1.0   \n",
       "1           1          1.000000                 1.0               1.0   \n",
       "2           1          1.000000                 1.0               1.0   \n",
       "3           2          2.000000                 2.0               2.0   \n",
       "4           3          3.000000                 3.0               3.0   \n",
       "5           4          4.000000                 4.0               4.0   \n",
       "6           5          5.000000                 5.0               5.0   \n",
       "\n",
       "  string_column string_imputed_mode  \n",
       "0          None                   a  \n",
       "1             a                   a  \n",
       "2             a                   a  \n",
       "3             b                   b  \n",
       "4             c                   c  \n",
       "5             d                   d  \n",
       "6             e                   e  "
      ]
     },
     "execution_count": 344,
     "metadata": {},
     "output_type": "execute_result"
    }
   ],
   "source": [
    "df = bq.query(query = query).to_dataframe()\n",
    "df"
   ]
  },
  {
   "cell_type": "markdown",
   "id": "6488f90b-82a6-4dea-ae92-768138eee81a",
   "metadata": {},
   "source": [
    "### ML.ONE_HOT_ENCODER\n",
    "\n",
    "Given a string column this function will one-hot encode the values in the column after sorting alphabetically.  Any `NULL` or dropped values will be encoded with `0`.\n",
    "- `drop` takes values 'most_frequent' for dummy encoding or 'none' (default)\n",
    "- `top_k` takes an integer value that specifies the limit on the number of categories to encode based on frequency (default is 1 million, also the max).\n",
    "- `frequency_threshold` takes an integer value that specifies that minimum frequency to be encoded (default = 0)\n",
    "\n",
    "Reference (coming soon)"
   ]
  },
  {
   "cell_type": "code",
   "execution_count": 360,
   "id": "95712145-ab1b-44e3-9e3f-d2b7cc5ddc4d",
   "metadata": {},
   "outputs": [
    {
     "name": "stdout",
     "output_type": "stream",
     "text": [
      "\n",
      "    SELECT\n",
      "        original_column,\n",
      "        ML.ONE_HOT_ENCODER(original_column) OVER() AS OHE_1,\n",
      "        ML.ONE_HOT_ENCODER(original_column, 'most_frequent') OVER() AS OHE_2,\n",
      "        ML.ONE_HOT_ENCODER(original_column, 'most_frequent', 3) OVER() AS OHE_3,\n",
      "        ML.ONE_HOT_ENCODER(original_column, 'most_frequent', 3, 3) OVER() AS OHE_4\n",
      "    FROM\n",
      "        UNNEST([NULL, 'a', 'b', 'b', 'c', 'c', 'c', 'd', 'd', 'd', 'd']) AS original_column\n",
      "    ORDER BY original_column\n",
      "\n"
     ]
    }
   ],
   "source": [
    "query = f\"\"\"\n",
    "    SELECT\n",
    "        original_column,\n",
    "        ML.ONE_HOT_ENCODER(original_column) OVER() AS OHE_1,\n",
    "        ML.ONE_HOT_ENCODER(original_column, 'most_frequent') OVER() AS OHE_2,\n",
    "        ML.ONE_HOT_ENCODER(original_column, 'most_frequent', 3) OVER() AS OHE_3,\n",
    "        ML.ONE_HOT_ENCODER(original_column, 'most_frequent', 3, 3) OVER() AS OHE_4\n",
    "    FROM\n",
    "        UNNEST([NULL, 'a', 'b', 'b', 'c', 'c', 'c', 'd', 'd', 'd', 'd']) AS original_column\n",
    "    ORDER BY original_column\n",
    "\"\"\"\n",
    "print(query)"
   ]
  },
  {
   "cell_type": "code",
   "execution_count": 361,
   "id": "505e8594-0f92-4d2e-b89c-ccfa81c246d2",
   "metadata": {},
   "outputs": [
    {
     "data": {
      "text/html": [
       "<div>\n",
       "<style scoped>\n",
       "    .dataframe tbody tr th:only-of-type {\n",
       "        vertical-align: middle;\n",
       "    }\n",
       "\n",
       "    .dataframe tbody tr th {\n",
       "        vertical-align: top;\n",
       "    }\n",
       "\n",
       "    .dataframe thead th {\n",
       "        text-align: right;\n",
       "    }\n",
       "</style>\n",
       "<table border=\"1\" class=\"dataframe\">\n",
       "  <thead>\n",
       "    <tr style=\"text-align: right;\">\n",
       "      <th></th>\n",
       "      <th>original_column</th>\n",
       "      <th>OHE_1</th>\n",
       "      <th>OHE_2</th>\n",
       "      <th>OHE_3</th>\n",
       "      <th>OHE_4</th>\n",
       "    </tr>\n",
       "  </thead>\n",
       "  <tbody>\n",
       "    <tr>\n",
       "      <th>0</th>\n",
       "      <td>None</td>\n",
       "      <td>[{'index': 0, 'value': 1.0}]</td>\n",
       "      <td>[{'index': 0, 'value': 1.0}]</td>\n",
       "      <td>[{'index': 0, 'value': 1.0}]</td>\n",
       "      <td>[{'index': 0, 'value': 1.0}]</td>\n",
       "    </tr>\n",
       "    <tr>\n",
       "      <th>1</th>\n",
       "      <td>a</td>\n",
       "      <td>[{'index': 1, 'value': 1.0}]</td>\n",
       "      <td>[{'index': 1, 'value': 1.0}]</td>\n",
       "      <td>[{'index': 0, 'value': 1.0}]</td>\n",
       "      <td>[{'index': 0, 'value': 1.0}]</td>\n",
       "    </tr>\n",
       "    <tr>\n",
       "      <th>2</th>\n",
       "      <td>b</td>\n",
       "      <td>[{'index': 2, 'value': 1.0}]</td>\n",
       "      <td>[{'index': 2, 'value': 1.0}]</td>\n",
       "      <td>[{'index': 1, 'value': 1.0}]</td>\n",
       "      <td>[{'index': 0, 'value': 1.0}]</td>\n",
       "    </tr>\n",
       "    <tr>\n",
       "      <th>3</th>\n",
       "      <td>b</td>\n",
       "      <td>[{'index': 2, 'value': 1.0}]</td>\n",
       "      <td>[{'index': 2, 'value': 1.0}]</td>\n",
       "      <td>[{'index': 1, 'value': 1.0}]</td>\n",
       "      <td>[{'index': 0, 'value': 1.0}]</td>\n",
       "    </tr>\n",
       "    <tr>\n",
       "      <th>4</th>\n",
       "      <td>c</td>\n",
       "      <td>[{'index': 3, 'value': 1.0}]</td>\n",
       "      <td>[{'index': 3, 'value': 1.0}]</td>\n",
       "      <td>[{'index': 2, 'value': 1.0}]</td>\n",
       "      <td>[{'index': 1, 'value': 1.0}]</td>\n",
       "    </tr>\n",
       "    <tr>\n",
       "      <th>5</th>\n",
       "      <td>c</td>\n",
       "      <td>[{'index': 3, 'value': 1.0}]</td>\n",
       "      <td>[{'index': 3, 'value': 1.0}]</td>\n",
       "      <td>[{'index': 2, 'value': 1.0}]</td>\n",
       "      <td>[{'index': 1, 'value': 1.0}]</td>\n",
       "    </tr>\n",
       "    <tr>\n",
       "      <th>6</th>\n",
       "      <td>c</td>\n",
       "      <td>[{'index': 3, 'value': 1.0}]</td>\n",
       "      <td>[{'index': 3, 'value': 1.0}]</td>\n",
       "      <td>[{'index': 2, 'value': 1.0}]</td>\n",
       "      <td>[{'index': 1, 'value': 1.0}]</td>\n",
       "    </tr>\n",
       "    <tr>\n",
       "      <th>7</th>\n",
       "      <td>d</td>\n",
       "      <td>[{'index': 4, 'value': 1.0}]</td>\n",
       "      <td>[{'index': 4, 'value': 0.0}]</td>\n",
       "      <td>[{'index': 3, 'value': 0.0}]</td>\n",
       "      <td>[{'index': 2, 'value': 0.0}]</td>\n",
       "    </tr>\n",
       "    <tr>\n",
       "      <th>8</th>\n",
       "      <td>d</td>\n",
       "      <td>[{'index': 4, 'value': 1.0}]</td>\n",
       "      <td>[{'index': 4, 'value': 0.0}]</td>\n",
       "      <td>[{'index': 3, 'value': 0.0}]</td>\n",
       "      <td>[{'index': 2, 'value': 0.0}]</td>\n",
       "    </tr>\n",
       "    <tr>\n",
       "      <th>9</th>\n",
       "      <td>d</td>\n",
       "      <td>[{'index': 4, 'value': 1.0}]</td>\n",
       "      <td>[{'index': 4, 'value': 0.0}]</td>\n",
       "      <td>[{'index': 3, 'value': 0.0}]</td>\n",
       "      <td>[{'index': 2, 'value': 0.0}]</td>\n",
       "    </tr>\n",
       "    <tr>\n",
       "      <th>10</th>\n",
       "      <td>d</td>\n",
       "      <td>[{'index': 4, 'value': 1.0}]</td>\n",
       "      <td>[{'index': 4, 'value': 0.0}]</td>\n",
       "      <td>[{'index': 3, 'value': 0.0}]</td>\n",
       "      <td>[{'index': 2, 'value': 0.0}]</td>\n",
       "    </tr>\n",
       "  </tbody>\n",
       "</table>\n",
       "</div>"
      ],
      "text/plain": [
       "   original_column                         OHE_1  \\\n",
       "0             None  [{'index': 0, 'value': 1.0}]   \n",
       "1                a  [{'index': 1, 'value': 1.0}]   \n",
       "2                b  [{'index': 2, 'value': 1.0}]   \n",
       "3                b  [{'index': 2, 'value': 1.0}]   \n",
       "4                c  [{'index': 3, 'value': 1.0}]   \n",
       "5                c  [{'index': 3, 'value': 1.0}]   \n",
       "6                c  [{'index': 3, 'value': 1.0}]   \n",
       "7                d  [{'index': 4, 'value': 1.0}]   \n",
       "8                d  [{'index': 4, 'value': 1.0}]   \n",
       "9                d  [{'index': 4, 'value': 1.0}]   \n",
       "10               d  [{'index': 4, 'value': 1.0}]   \n",
       "\n",
       "                           OHE_2                         OHE_3  \\\n",
       "0   [{'index': 0, 'value': 1.0}]  [{'index': 0, 'value': 1.0}]   \n",
       "1   [{'index': 1, 'value': 1.0}]  [{'index': 0, 'value': 1.0}]   \n",
       "2   [{'index': 2, 'value': 1.0}]  [{'index': 1, 'value': 1.0}]   \n",
       "3   [{'index': 2, 'value': 1.0}]  [{'index': 1, 'value': 1.0}]   \n",
       "4   [{'index': 3, 'value': 1.0}]  [{'index': 2, 'value': 1.0}]   \n",
       "5   [{'index': 3, 'value': 1.0}]  [{'index': 2, 'value': 1.0}]   \n",
       "6   [{'index': 3, 'value': 1.0}]  [{'index': 2, 'value': 1.0}]   \n",
       "7   [{'index': 4, 'value': 0.0}]  [{'index': 3, 'value': 0.0}]   \n",
       "8   [{'index': 4, 'value': 0.0}]  [{'index': 3, 'value': 0.0}]   \n",
       "9   [{'index': 4, 'value': 0.0}]  [{'index': 3, 'value': 0.0}]   \n",
       "10  [{'index': 4, 'value': 0.0}]  [{'index': 3, 'value': 0.0}]   \n",
       "\n",
       "                           OHE_4  \n",
       "0   [{'index': 0, 'value': 1.0}]  \n",
       "1   [{'index': 0, 'value': 1.0}]  \n",
       "2   [{'index': 0, 'value': 1.0}]  \n",
       "3   [{'index': 0, 'value': 1.0}]  \n",
       "4   [{'index': 1, 'value': 1.0}]  \n",
       "5   [{'index': 1, 'value': 1.0}]  \n",
       "6   [{'index': 1, 'value': 1.0}]  \n",
       "7   [{'index': 2, 'value': 0.0}]  \n",
       "8   [{'index': 2, 'value': 0.0}]  \n",
       "9   [{'index': 2, 'value': 0.0}]  \n",
       "10  [{'index': 2, 'value': 0.0}]  "
      ]
     },
     "execution_count": 361,
     "metadata": {},
     "output_type": "execute_result"
    }
   ],
   "source": [
    "df = bq.query(query = query).to_dataframe()\n",
    "df"
   ]
  },
  {
   "cell_type": "markdown",
   "id": "6f0a4032-6396-465f-9a2d-69d8e4317263",
   "metadata": {},
   "source": [
    "### ML.LABEL_ENCODER\n",
    "\n",
    "Given a string column the function will encode the value as integers [0, n] representing categories.  Any `NULL` or removed values will be encoded with `0`.\n",
    "- `top_k` takes an integer value that specifies the limit on the number of categories to encode based on frequency (default is 1 milion, also the max)\n",
    "- `frequency_threshold` takes an integer value that specifies that minimum frequency to be encoded (default = 0)\n",
    "\n",
    "Reference (coming soon)"
   ]
  },
  {
   "cell_type": "code",
   "execution_count": 365,
   "id": "2cc0b9c3-4016-4f5c-bd7c-ac5f07611f6f",
   "metadata": {},
   "outputs": [
    {
     "name": "stdout",
     "output_type": "stream",
     "text": [
      "\n",
      "    SELECT\n",
      "        original_column,\n",
      "        ML.LABEL_ENCODER(original_column) OVER() AS OHE_1,\n",
      "        ML.LABEL_ENCODER(original_column, 3) OVER() AS OHE_3,\n",
      "        ML.LABEL_ENCODER(original_column, 3, 3) OVER() AS OHE_4\n",
      "    FROM\n",
      "        UNNEST([NULL, 'a', 'b', 'b', 'c', 'c', 'c', 'd', 'd', 'd', 'd']) AS original_column\n",
      "    ORDER BY original_column\n",
      "\n"
     ]
    }
   ],
   "source": [
    "query = f\"\"\"\n",
    "    SELECT\n",
    "        original_column,\n",
    "        ML.LABEL_ENCODER(original_column) OVER() AS OHE_1,\n",
    "        ML.LABEL_ENCODER(original_column, 3) OVER() AS OHE_3,\n",
    "        ML.LABEL_ENCODER(original_column, 3, 3) OVER() AS OHE_4\n",
    "    FROM\n",
    "        UNNEST([NULL, 'a', 'b', 'b', 'c', 'c', 'c', 'd', 'd', 'd', 'd']) AS original_column\n",
    "    ORDER BY original_column\n",
    "\"\"\"\n",
    "print(query)"
   ]
  },
  {
   "cell_type": "code",
   "execution_count": 366,
   "id": "5dc9b855-91da-4642-8669-dfd626aae391",
   "metadata": {},
   "outputs": [
    {
     "data": {
      "text/html": [
       "<div>\n",
       "<style scoped>\n",
       "    .dataframe tbody tr th:only-of-type {\n",
       "        vertical-align: middle;\n",
       "    }\n",
       "\n",
       "    .dataframe tbody tr th {\n",
       "        vertical-align: top;\n",
       "    }\n",
       "\n",
       "    .dataframe thead th {\n",
       "        text-align: right;\n",
       "    }\n",
       "</style>\n",
       "<table border=\"1\" class=\"dataframe\">\n",
       "  <thead>\n",
       "    <tr style=\"text-align: right;\">\n",
       "      <th></th>\n",
       "      <th>original_column</th>\n",
       "      <th>OHE_1</th>\n",
       "      <th>OHE_3</th>\n",
       "      <th>OHE_4</th>\n",
       "    </tr>\n",
       "  </thead>\n",
       "  <tbody>\n",
       "    <tr>\n",
       "      <th>0</th>\n",
       "      <td>None</td>\n",
       "      <td>0</td>\n",
       "      <td>0</td>\n",
       "      <td>0</td>\n",
       "    </tr>\n",
       "    <tr>\n",
       "      <th>1</th>\n",
       "      <td>a</td>\n",
       "      <td>1</td>\n",
       "      <td>0</td>\n",
       "      <td>0</td>\n",
       "    </tr>\n",
       "    <tr>\n",
       "      <th>2</th>\n",
       "      <td>b</td>\n",
       "      <td>2</td>\n",
       "      <td>1</td>\n",
       "      <td>0</td>\n",
       "    </tr>\n",
       "    <tr>\n",
       "      <th>3</th>\n",
       "      <td>b</td>\n",
       "      <td>2</td>\n",
       "      <td>1</td>\n",
       "      <td>0</td>\n",
       "    </tr>\n",
       "    <tr>\n",
       "      <th>4</th>\n",
       "      <td>c</td>\n",
       "      <td>3</td>\n",
       "      <td>2</td>\n",
       "      <td>1</td>\n",
       "    </tr>\n",
       "    <tr>\n",
       "      <th>5</th>\n",
       "      <td>c</td>\n",
       "      <td>3</td>\n",
       "      <td>2</td>\n",
       "      <td>1</td>\n",
       "    </tr>\n",
       "    <tr>\n",
       "      <th>6</th>\n",
       "      <td>c</td>\n",
       "      <td>3</td>\n",
       "      <td>2</td>\n",
       "      <td>1</td>\n",
       "    </tr>\n",
       "    <tr>\n",
       "      <th>7</th>\n",
       "      <td>d</td>\n",
       "      <td>4</td>\n",
       "      <td>3</td>\n",
       "      <td>2</td>\n",
       "    </tr>\n",
       "    <tr>\n",
       "      <th>8</th>\n",
       "      <td>d</td>\n",
       "      <td>4</td>\n",
       "      <td>3</td>\n",
       "      <td>2</td>\n",
       "    </tr>\n",
       "    <tr>\n",
       "      <th>9</th>\n",
       "      <td>d</td>\n",
       "      <td>4</td>\n",
       "      <td>3</td>\n",
       "      <td>2</td>\n",
       "    </tr>\n",
       "    <tr>\n",
       "      <th>10</th>\n",
       "      <td>d</td>\n",
       "      <td>4</td>\n",
       "      <td>3</td>\n",
       "      <td>2</td>\n",
       "    </tr>\n",
       "  </tbody>\n",
       "</table>\n",
       "</div>"
      ],
      "text/plain": [
       "   original_column  OHE_1  OHE_3  OHE_4\n",
       "0             None      0      0      0\n",
       "1                a      1      0      0\n",
       "2                b      2      1      0\n",
       "3                b      2      1      0\n",
       "4                c      3      2      1\n",
       "5                c      3      2      1\n",
       "6                c      3      2      1\n",
       "7                d      4      3      2\n",
       "8                d      4      3      2\n",
       "9                d      4      3      2\n",
       "10               d      4      3      2"
      ]
     },
     "execution_count": 366,
     "metadata": {},
     "output_type": "execute_result"
    }
   ],
   "source": [
    "df = bq.query(query = query).to_dataframe()\n",
    "df"
   ]
  },
  {
   "cell_type": "markdown",
   "id": "797d7c6b-d406-4b2f-b513-b7b245b24313",
   "metadata": {},
   "source": [
    "## Advanced Usage of Manual Feature Engineering\n",
    "\n",
    "There may be situation where multiple feature preprocessing function are needed.  Here is an example of using `ML.IMPUTER` with `ML.MAX_ABS_SCALER` for example.\n",
    "\n",
    "**NOTE:** A function cannot be an argument of another function."
   ]
  },
  {
   "cell_type": "code",
   "execution_count": 378,
   "id": "9af9c8f8-62c6-41b9-af00-3c7aff429ece",
   "metadata": {},
   "outputs": [
    {
     "name": "stdout",
     "output_type": "stream",
     "text": [
      "\n",
      "WITH\n",
      "    IMPUTED AS (\n",
      "        SELECT\n",
      "            original_column,\n",
      "            ML.IMPUTER(original_column, 'mean') OVER() AS imputed_mean,\n",
      "            ML.IMPUTER(original_column, 'median') OVER() AS imputed_median,\n",
      "        FROM\n",
      "            UNNEST([1, 1, 2, 3, 4, 5, NULL]) AS original_column\n",
      "    )\n",
      "SELECT\n",
      "    original_column,\n",
      "    imputed_mean,\n",
      "    ML.MAX_ABS_SCALER(imputed_mean) OVER() AS scaled_imputed_mean,\n",
      "    imputed_median,\n",
      "    ML.MAX_ABS_SCALER(imputed_median) OVER() AS scaled_imputed_median\n",
      "FROM\n",
      "    IMPUTED\n",
      "ORDER BY original_column\n",
      "\n"
     ]
    }
   ],
   "source": [
    "query = f\"\"\"\n",
    "WITH\n",
    "    IMPUTED AS (\n",
    "        SELECT\n",
    "            original_column,\n",
    "            ML.IMPUTER(original_column, 'mean') OVER() AS imputed_mean,\n",
    "            ML.IMPUTER(original_column, 'median') OVER() AS imputed_median,\n",
    "        FROM\n",
    "            UNNEST([1, 1, 2, 3, 4, 5, NULL]) AS original_column\n",
    "    )\n",
    "SELECT\n",
    "    original_column,\n",
    "    imputed_mean,\n",
    "    ML.MAX_ABS_SCALER(imputed_mean) OVER() AS scaled_imputed_mean,\n",
    "    imputed_median,\n",
    "    ML.MAX_ABS_SCALER(imputed_median) OVER() AS scaled_imputed_median\n",
    "FROM\n",
    "    IMPUTED\n",
    "ORDER BY original_column\n",
    "\"\"\"\n",
    "print(query)"
   ]
  },
  {
   "cell_type": "code",
   "execution_count": 379,
   "id": "b32f5293-fc54-4e69-976a-f11b56e60a99",
   "metadata": {},
   "outputs": [
    {
     "data": {
      "text/html": [
       "<div>\n",
       "<style scoped>\n",
       "    .dataframe tbody tr th:only-of-type {\n",
       "        vertical-align: middle;\n",
       "    }\n",
       "\n",
       "    .dataframe tbody tr th {\n",
       "        vertical-align: top;\n",
       "    }\n",
       "\n",
       "    .dataframe thead th {\n",
       "        text-align: right;\n",
       "    }\n",
       "</style>\n",
       "<table border=\"1\" class=\"dataframe\">\n",
       "  <thead>\n",
       "    <tr style=\"text-align: right;\">\n",
       "      <th></th>\n",
       "      <th>original_column</th>\n",
       "      <th>imputed_mean</th>\n",
       "      <th>scaled_imputed_mean</th>\n",
       "      <th>imputed_median</th>\n",
       "      <th>scaled_imputed_median</th>\n",
       "    </tr>\n",
       "  </thead>\n",
       "  <tbody>\n",
       "    <tr>\n",
       "      <th>0</th>\n",
       "      <td>&lt;NA&gt;</td>\n",
       "      <td>2.666667</td>\n",
       "      <td>0.533333</td>\n",
       "      <td>2.0</td>\n",
       "      <td>0.4</td>\n",
       "    </tr>\n",
       "    <tr>\n",
       "      <th>1</th>\n",
       "      <td>1</td>\n",
       "      <td>1.000000</td>\n",
       "      <td>0.200000</td>\n",
       "      <td>1.0</td>\n",
       "      <td>0.2</td>\n",
       "    </tr>\n",
       "    <tr>\n",
       "      <th>2</th>\n",
       "      <td>1</td>\n",
       "      <td>1.000000</td>\n",
       "      <td>0.200000</td>\n",
       "      <td>1.0</td>\n",
       "      <td>0.2</td>\n",
       "    </tr>\n",
       "    <tr>\n",
       "      <th>3</th>\n",
       "      <td>2</td>\n",
       "      <td>2.000000</td>\n",
       "      <td>0.400000</td>\n",
       "      <td>2.0</td>\n",
       "      <td>0.4</td>\n",
       "    </tr>\n",
       "    <tr>\n",
       "      <th>4</th>\n",
       "      <td>3</td>\n",
       "      <td>3.000000</td>\n",
       "      <td>0.600000</td>\n",
       "      <td>3.0</td>\n",
       "      <td>0.6</td>\n",
       "    </tr>\n",
       "    <tr>\n",
       "      <th>5</th>\n",
       "      <td>4</td>\n",
       "      <td>4.000000</td>\n",
       "      <td>0.800000</td>\n",
       "      <td>4.0</td>\n",
       "      <td>0.8</td>\n",
       "    </tr>\n",
       "    <tr>\n",
       "      <th>6</th>\n",
       "      <td>5</td>\n",
       "      <td>5.000000</td>\n",
       "      <td>1.000000</td>\n",
       "      <td>5.0</td>\n",
       "      <td>1.0</td>\n",
       "    </tr>\n",
       "  </tbody>\n",
       "</table>\n",
       "</div>"
      ],
      "text/plain": [
       "   original_column  imputed_mean  scaled_imputed_mean  imputed_median  \\\n",
       "0             <NA>      2.666667             0.533333             2.0   \n",
       "1                1      1.000000             0.200000             1.0   \n",
       "2                1      1.000000             0.200000             1.0   \n",
       "3                2      2.000000             0.400000             2.0   \n",
       "4                3      3.000000             0.600000             3.0   \n",
       "5                4      4.000000             0.800000             4.0   \n",
       "6                5      5.000000             1.000000             5.0   \n",
       "\n",
       "   scaled_imputed_median  \n",
       "0                    0.4  \n",
       "1                    0.2  \n",
       "2                    0.2  \n",
       "3                    0.4  \n",
       "4                    0.6  \n",
       "5                    0.8  \n",
       "6                    1.0  "
      ]
     },
     "execution_count": 379,
     "metadata": {},
     "output_type": "execute_result"
    }
   ],
   "source": [
    "df = bq.query(query = query).to_dataframe()\n",
    "df"
   ]
  },
  {
   "cell_type": "markdown",
   "id": "90b1ef9f-2d9a-4c39-b3a5-d2c433e67f49",
   "metadata": {
    "tags": []
   },
   "source": [
    "---\n",
    "## Create BigQuery Dataset"
   ]
  },
  {
   "cell_type": "markdown",
   "id": "d86b1625-ea31-456e-bf89-77155d70d1a1",
   "metadata": {},
   "source": [
    "List BigQuery datasets in the project:"
   ]
  },
  {
   "cell_type": "code",
   "execution_count": 467,
   "id": "84572c8e-c4c5-450d-8b68-6bd04b81c643",
   "metadata": {},
   "outputs": [
    {
     "name": "stdout",
     "output_type": "stream",
     "text": [
      "applied_forecasting\n",
      "explained_columns\n",
      "feature_engineering\n",
      "forecasting_8_tournament\n",
      "fraud\n",
      "github_api\n",
      "model_deployment_monitoring_1961322035766362112\n"
     ]
    }
   ],
   "source": [
    "datasets = list(bq.list_datasets())\n",
    "for d in datasets:\n",
    "    print(d.dataset_id)"
   ]
  },
  {
   "cell_type": "markdown",
   "id": "fe47315f-bc92-4900-8399-7a51cc810301",
   "metadata": {},
   "source": [
    "Create the dataset if missing:"
   ]
  },
  {
   "cell_type": "code",
   "execution_count": 468,
   "id": "1ea2c1e6-836c-40de-a53f-10fb195d27bb",
   "metadata": {},
   "outputs": [],
   "source": [
    "ds = bigquery.Dataset(f\"{BQ_PROJECT}.{BQ_DATASET}\")\n",
    "ds.location = 'eu' #'us' #REGION\n",
    "ds.labels = {'experiment': f'{EXPERIMENT}'}\n",
    "ds = bq.create_dataset(dataset = ds, exists_ok = True)"
   ]
  },
  {
   "cell_type": "markdown",
   "id": "77659610-1f1b-4b96-add1-a08eb0ef8ee5",
   "metadata": {},
   "source": [
    "List BigQuery datasets in the project:"
   ]
  },
  {
   "cell_type": "code",
   "execution_count": 469,
   "id": "ccf621f1-d5b8-4e12-85b1-318ecaab57db",
   "metadata": {},
   "outputs": [
    {
     "name": "stdout",
     "output_type": "stream",
     "text": [
      "applied_forecasting\n",
      "explained_columns\n",
      "feature_engineering\n",
      "forecasting_8_tournament\n",
      "fraud\n",
      "github_api\n",
      "model_deployment_monitoring_1961322035766362112\n"
     ]
    }
   ],
   "source": [
    "datasets = list(bq.list_datasets())\n",
    "for d in datasets:\n",
    "    print(d.dataset_id)"
   ]
  },
  {
   "cell_type": "markdown",
   "id": "77ba4fa7-1dd5-4dba-b519-77dbdf7109c2",
   "metadata": {},
   "source": [
    "Review dataset attributes:"
   ]
  },
  {
   "cell_type": "code",
   "execution_count": 470,
   "id": "1b0f396d-c857-440f-a9ae-f21a0acee0f2",
   "metadata": {},
   "outputs": [
    {
     "data": {
      "text/plain": [
       "'feature_engineering'"
      ]
     },
     "execution_count": 470,
     "metadata": {},
     "output_type": "execute_result"
    }
   ],
   "source": [
    "ds.dataset_id"
   ]
  },
  {
   "cell_type": "code",
   "execution_count": 471,
   "id": "d8fbeff7-06c9-4355-bfd1-743ba3c12b57",
   "metadata": {},
   "outputs": [
    {
     "data": {
      "text/plain": [
       "'statmike-mlops-349915'"
      ]
     },
     "execution_count": 471,
     "metadata": {},
     "output_type": "execute_result"
    }
   ],
   "source": [
    "ds.project"
   ]
  },
  {
   "cell_type": "code",
   "execution_count": 472,
   "id": "cea1bb57-1254-4088-90a3-4397e499bc28",
   "metadata": {},
   "outputs": [
    {
     "data": {
      "text/plain": [
       "'statmike-mlops-349915:feature_engineering'"
      ]
     },
     "execution_count": 472,
     "metadata": {},
     "output_type": "execute_result"
    }
   ],
   "source": [
    "ds.full_dataset_id"
   ]
  },
  {
   "cell_type": "code",
   "execution_count": 473,
   "id": "6e79c339-dade-415a-9d73-6e2da208a52b",
   "metadata": {},
   "outputs": [
    {
     "data": {
      "text/plain": [
       "'/projects/statmike-mlops-349915/datasets/feature_engineering'"
      ]
     },
     "execution_count": 473,
     "metadata": {},
     "output_type": "execute_result"
    }
   ],
   "source": [
    "ds.path"
   ]
  },
  {
   "cell_type": "code",
   "execution_count": 474,
   "id": "98711e82-fdbf-4d10-9175-8b9aabd839d9",
   "metadata": {},
   "outputs": [
    {
     "data": {
      "text/plain": [
       "'EU'"
      ]
     },
     "execution_count": 474,
     "metadata": {},
     "output_type": "execute_result"
    }
   ],
   "source": [
    "ds.location"
   ]
  },
  {
   "cell_type": "markdown",
   "id": "87c08b26-6696-4773-bf83-ebec0b22dbaf",
   "metadata": {},
   "source": [
    "---\n",
    "## Create BigQuery Table\n",
    "\n",
    "Familiar with the [Great British Bake Off](https://en.wikipedia.org/wiki/The_Great_British_Bake_Off)? Or maybe just familiar with intricate nature of [baking bread](https://en.wikipedia.org/wiki/Bread)?  The code below generate 2000 different bread recipes along with multiple judges ratings of the resulting bread.  \n",
    "\n",
    "This SQL makes heavy use of [GENERATE_ARRAY()](https://cloud.google.com/bigquery/docs/reference/standard-sql/arrays#generating_arrays_of_integers) to create sequences of numbers.  The [RAND() function](https://cloud.google.com/bigquery/docs/reference/standard-sql/mathematical_functions#rand) is the primary mechanism for generating random data but it is uniform `[0, 1)` only. To generate random normal data with MEAN=0 and SD=1 the [Box-Muller Transformation(https://en.wikipedia.org/wiki/Box%E2%80%93Muller_transform)] is implement in SQL using two `RAND()` values as inputs.  \n",
    "\n",
    "$\\sqrt{-2\\ln(u_1)}\\sin(2\\pi u_2)$ OR $\\sqrt{-2\\ln(u_1)}\\cos(2\\pi u_2)$\n",
    "\n",
    "as SQL:\n",
    "```SQL\n",
    "SQRT(-2*LN(RAND()))*COS(2*ACOS(-1)*RAND())\n",
    "```\n"
   ]
  },
  {
   "cell_type": "code",
   "execution_count": 484,
   "id": "82814d3e-513b-4d37-8736-a838a311fc06",
   "metadata": {},
   "outputs": [],
   "source": [
    "n = 2000\n",
    "\n",
    "query = f\"\"\"\n",
    "CREATE OR REPLACE TABLE `{BQ_PROJECT}.{BQ_DATASET}.{BQ_TABLE}` AS \n",
    "WITH\n",
    "    STEP_1 AS (\n",
    "        SELECT\n",
    "            pos as Recipe,\n",
    "            * EXCEPT(pos)\n",
    "        FROM (SELECT *, ROW_NUMBER() OVER() pos FROM UNNEST(ARRAY((SELECT 500+10*SQRT(-2*LN(RAND()))*COS(2*ACOS(-1)*RAND()) FROM UNNEST(GENERATE_ARRAY(1, {n}))))) AS flourAmt)\n",
    "        JOIN (SELECT *, ROW_NUMBER() OVER() pos FROM UNNEST(ARRAY((SELECT CAST(8+4*SQRT(-2*LN(RAND()))*COS(2*ACOS(-1)*RAND()) AS INT64) FROM UNNEST(GENERATE_ARRAY(1, {n}))))) AS saltAmt) USING(pos)\n",
    "        JOIN (SELECT *, ROW_NUMBER() OVER() pos FROM UNNEST(ARRAY((SELECT CAST(8+4*SQRT(-2*LN(RAND()))*COS(2*ACOS(-1)*RAND()) AS INT64) FROM UNNEST(GENERATE_ARRAY(1, {n}))))) AS yeastAmt) USING(pos)\n",
    "        JOIN (SELECT *, ROW_NUMBER() OVER() pos FROM UNNEST(ARRAY((SELECT CAST(5+1*SQRT(-2*LN(RAND()))*COS(2*ACOS(-1)*RAND()) AS INT64) FROM UNNEST(GENERATE_ARRAY(1, {n}))))) AS mix1Time) USING(pos)\n",
    "        JOIN (SELECT *, ROW_NUMBER() OVER() pos FROM UNNEST(ARRAY((SELECT CAST(2+3*SQRT(-2*LN(RAND()))*COS(2*ACOS(-1)*RAND()) AS INT64) FROM UNNEST(GENERATE_ARRAY(1, {n}))))) AS mix1Speed) USING(pos)\n",
    "        JOIN (SELECT *, ROW_NUMBER() OVER() pos FROM UNNEST(ARRAY((SELECT CAST(4+4*SQRT(-2*LN(RAND()))*COS(2*ACOS(-1)*RAND()) AS INT64) FROM UNNEST(GENERATE_ARRAY(1, {n}))))) AS mix2Time) USING(pos)\n",
    "        JOIN (SELECT *, ROW_NUMBER() OVER() pos FROM UNNEST(ARRAY((SELECT CAST(4+2*SQRT(-2*LN(RAND()))*COS(2*ACOS(-1)*RAND()) AS INT64) FROM UNNEST(GENERATE_ARRAY(1, {n}))))) AS mix2Speed) USING(pos)\n",
    "        JOIN (SELECT *, ROW_NUMBER() OVER() pos FROM UNNEST(ARRAY((SELECT 330+20*SQRT(-2*LN(RAND()))*COS(2*ACOS(-1)*RAND()) FROM UNNEST(GENERATE_ARRAY(1, {n}))))) AS water1Amt) USING(pos)\n",
    "        JOIN (SELECT *, ROW_NUMBER() OVER() pos FROM UNNEST(ARRAY((SELECT 110+20*SQRT(-2*LN(RAND()))*COS(2*ACOS(-1)*RAND()) FROM UNNEST(GENERATE_ARRAY(1, {n}))))) AS water2Amt) USING(pos)\n",
    "        JOIN (SELECT *, ROW_NUMBER() OVER() pos FROM UNNEST(ARRAY((SELECT CAST(40+10*SQRT(-2*LN(RAND()))*COS(2*ACOS(-1)*RAND()) AS INT64) FROM UNNEST(GENERATE_ARRAY(1, {n}))))) AS waterTemp) USING(pos)\n",
    "        JOIN (SELECT *, ROW_NUMBER() OVER() pos FROM UNNEST(ARRAY((SELECT 100+5*SQRT(-2*LN(RAND()))*COS(2*ACOS(-1)*RAND()) FROM UNNEST(GENERATE_ARRAY(1, {n}))))) AS proveTime) USING(pos)\n",
    "        JOIN (SELECT *, ROW_NUMBER() OVER() pos FROM UNNEST(ARRAY((SELECT CAST(35+10*SQRT(-2*LN(RAND()))*COS(2*ACOS(-1)*RAND()) AS INT64) FROM UNNEST(GENERATE_ARRAY(1, {n}))))) AS restTime) USING(pos)\n",
    "        JOIN (SELECT *, ROW_NUMBER() OVER() pos FROM UNNEST(ARRAY((SELECT CAST(20+10*SQRT(-2*LN(RAND()))*COS(2*ACOS(-1)*RAND()) AS INT64) FROM UNNEST(GENERATE_ARRAY(1, {n}))))) AS bakeTime) USING(pos)\n",
    "        JOIN (SELECT *, ROW_NUMBER() OVER() pos FROM UNNEST(ARRAY((SELECT 425+15*SQRT(-2*LN(RAND()))*COS(2*ACOS(-1)*RAND()) FROM UNNEST(GENERATE_ARRAY(1, {n}))))) AS bakeTemp) USING(pos)\n",
    "        JOIN (SELECT *, ROW_NUMBER() OVER() pos FROM UNNEST(ARRAY((SELECT 60+10*SQRT(-2*LN(RAND()))*COS(2*ACOS(-1)*RAND()) FROM UNNEST(GENERATE_ARRAY(1, {n}))))) AS ambTemp) USING(pos)\n",
    "        JOIN (SELECT *, ROW_NUMBER() OVER() pos FROM UNNEST(ARRAY((SELECT 50+10*SQRT(-2*LN(RAND()))*COS(2*ACOS(-1)*RAND()) FROM UNNEST(GENERATE_ARRAY(1, {n}))))) AS ambHumidity) USING(pos)\n",
    "    ),\n",
    "    STEP_2 AS (\n",
    "        SELECT\n",
    "            Recipe,\n",
    "            CASE \n",
    "                WHEN flourAmt-500 > 0 THEN 0.3*(flourAmt-500)\n",
    "                ELSE -0.3*(flourAmt-500)\n",
    "            END AS A,\n",
    "            CASE \n",
    "                WHEN saltAmt-10 > 0 THEN 2*(saltAmt-10)/2\n",
    "                ELSE -0.5*(saltAmt-10)/2\n",
    "            END AS B,\n",
    "            CASE \n",
    "                WHEN yeastAmt-10 > 0 THEN 5*(yeastAmt-10)/2\n",
    "                ELSE -5*(yeastAmt-10)/2\n",
    "            END AS C,\n",
    "            CASE \n",
    "                WHEN mix1Time-5 > 0 THEN 2*(mix1Time-5)\n",
    "                ELSE -2*(mix1Time-5)\n",
    "            END AS D,\n",
    "            CASE \n",
    "                WHEN mix1Speed-3.5 > 0 THEN 0.1*(mix1Speed-3.5)/1.5\n",
    "                ELSE -0.1*(mix1Speed-3.5)/1.5\n",
    "            END AS E,\n",
    "            CASE \n",
    "                WHEN mix2Time-6 > 0 THEN (mix2Time-6)/2\n",
    "                ELSE -2*(mix2Time-6)\n",
    "            END AS F,\n",
    "            CASE \n",
    "                WHEN mix2Speed-5 > 0 THEN 2*(mix2Speed-5)\n",
    "                ELSE -2*(mix2Speed-5)/2\n",
    "            END AS G,\n",
    "            CASE \n",
    "                WHEN water1Amt-330 > 0 THEN (water1Amt-330)/20\n",
    "                ELSE -1*(water1Amt-330)/20\n",
    "            END AS H,\n",
    "            CASE \n",
    "                WHEN water2Amt-110 > 0 THEN 6*(water2Amt-110)/20\n",
    "                ELSE -6*(water2Amt-110)/20\n",
    "            END AS I,\n",
    "            CASE \n",
    "                WHEN restTime-40 > 0 THEN 3*(restTime-40)/5\n",
    "                ELSE -3*(restTime-40)/5\n",
    "            END AS J,\n",
    "            CASE \n",
    "                WHEN bakeTime-25 > 0 THEN 6*(bakeTime-25)/5\n",
    "                ELSE -6*(bakeTime-25)/5\n",
    "            END AS K,\n",
    "            CASE \n",
    "                WHEN bakeTemp-425 > 0 THEN 15*(bakeTemp-425)/15\n",
    "                ELSE -10*(bakeTemp-425)/15\n",
    "            END AS L,\n",
    "            -1*((425-bakeTemp)*(bakeTime-25))/25 AS M\n",
    "        FROM STEP_1\n",
    "    ),\n",
    "    STEP_3 AS (\n",
    "        SELECT *,\n",
    "            CASE\n",
    "                WHEN 100-xbeta+4 < 0 THEN 0\n",
    "                WHEN 100-xbeta+4 > 100 THEN 100\n",
    "                ELSE ROUND(100-xbeta+4)\n",
    "            END AS JUDGE_A,\n",
    "            CASE\n",
    "                WHEN 5-26*(90/69)+(90/69)*(100-xbeta+4)-5 < 0 THEN 0\n",
    "                WHEN 5-26*(90/69)+(90/69)*(100-xbeta+4)-5 > 100 THEN 100\n",
    "                ELSE ROUND(5-26*(90/69)+(90/69)*(100-xbeta+4)-5)\n",
    "            END AS JUDGE_B\n",
    "        FROM STEP_1\n",
    "        JOIN (SELECT Recipe, 0+A+B+C+D+E+F+G+H+I+J+K+L+M AS xbeta FROM STEP_2) USING(Recipe)\n",
    "    )\n",
    "SELECT * EXCEPT(xbeta)\n",
    "FROM STEP_3\n",
    "\"\"\""
   ]
  },
  {
   "cell_type": "code",
   "execution_count": 485,
   "id": "23b015bf-2976-4dd7-a3a3-cea75b74016a",
   "metadata": {},
   "outputs": [
    {
     "name": "stdout",
     "output_type": "stream",
     "text": [
      "\n",
      "CREATE OR REPLACE TABLE `statmike-mlops-349915.feature_engineering.bread` AS \n",
      "WITH\n",
      "    STEP_1 AS (\n",
      "        SELECT\n",
      "            pos as Recipe,\n",
      "            * EXCEPT(pos)\n",
      "        FROM (SELECT *, ROW_NUMBER() OVER() pos FROM UNNEST(ARRAY((SELECT 500+10*SQRT(-2*LN(RAND()))*COS(2*ACOS(-1)*RAND()) FROM UNNEST(GENERATE_ARRAY(1, 2000))))) AS flourAmt)\n",
      "        JOIN (SELECT *, ROW_NUMBER() OVER() pos FROM UNNEST(ARRAY((SELECT CAST(8+4*SQRT(-2*LN(RAND()))*COS(2*ACOS(-1)*RAND()) AS INT64) FROM UNNEST(GENERATE_ARRAY(1, 2000))))) AS saltAmt) USING(pos)\n",
      "        JOIN (SELECT *, ROW_NUMBER() OVER() pos FROM UNNEST(ARRAY((SELECT CAST(8+4*SQRT(-2*LN(RAND()))*COS(2*ACOS(-1)*RAND()) AS INT64) FROM UNNEST(GENERATE_ARRAY(1, 2000))))) AS yeastAmt) USING(pos)\n",
      "        JOIN (SELECT *, ROW_NUMBER() OVER() pos FROM UNNEST(ARRAY((SELECT CAST(5+1*SQRT(-2*LN(RAND()))*COS(2*ACOS(-1)*RAND()) AS INT64) FROM UNNEST(GENERATE_ARRAY(1, 2000))))) AS mix1Time) USING(pos)\n",
      "        JOIN (SELECT *, ROW_NUMBER() OVER() pos FROM UNNEST(ARRAY((SELECT CAST(2+3*SQRT(-2*LN(RAND()))*COS(2*ACOS(-1)*RAND()) AS INT64) FROM UNNEST(GENERATE_ARRAY(1, 2000))))) AS mix1Speed) USING(pos)\n",
      "        JOIN (SELECT *, ROW_NUMBER() OVER() pos FROM UNNEST(ARRAY((SELECT CAST(4+4*SQRT(-2*LN(RAND()))*COS(2*ACOS(-1)*RAND()) AS INT64) FROM UNNEST(GENERATE_ARRAY(1, 2000))))) AS mix2Time) USING(pos)\n",
      "        JOIN (SELECT *, ROW_NUMBER() OVER() pos FROM UNNEST(ARRAY((SELECT CAST(4+2*SQRT(-2*LN(RAND()))*COS(2*ACOS(-1)*RAND()) AS INT64) FROM UNNEST(GENERATE_ARRAY(1, 2000))))) AS mix2Speed) USING(pos)\n",
      "        JOIN (SELECT *, ROW_NUMBER() OVER() pos FROM UNNEST(ARRAY((SELECT 330+20*SQRT(-2*LN(RAND()))*COS(2*ACOS(-1)*RAND()) FROM UNNEST(GENERATE_ARRAY(1, 2000))))) AS water1Amt) USING(pos)\n",
      "        JOIN (SELECT *, ROW_NUMBER() OVER() pos FROM UNNEST(ARRAY((SELECT 110+20*SQRT(-2*LN(RAND()))*COS(2*ACOS(-1)*RAND()) FROM UNNEST(GENERATE_ARRAY(1, 2000))))) AS water2Amt) USING(pos)\n",
      "        JOIN (SELECT *, ROW_NUMBER() OVER() pos FROM UNNEST(ARRAY((SELECT CAST(40+10*SQRT(-2*LN(RAND()))*COS(2*ACOS(-1)*RAND()) AS INT64) FROM UNNEST(GENERATE_ARRAY(1, 2000))))) AS waterTemp) USING(pos)\n",
      "        JOIN (SELECT *, ROW_NUMBER() OVER() pos FROM UNNEST(ARRAY((SELECT 100+5*SQRT(-2*LN(RAND()))*COS(2*ACOS(-1)*RAND()) FROM UNNEST(GENERATE_ARRAY(1, 2000))))) AS proveTime) USING(pos)\n",
      "        JOIN (SELECT *, ROW_NUMBER() OVER() pos FROM UNNEST(ARRAY((SELECT CAST(35+10*SQRT(-2*LN(RAND()))*COS(2*ACOS(-1)*RAND()) AS INT64) FROM UNNEST(GENERATE_ARRAY(1, 2000))))) AS restTime) USING(pos)\n",
      "        JOIN (SELECT *, ROW_NUMBER() OVER() pos FROM UNNEST(ARRAY((SELECT CAST(20+10*SQRT(-2*LN(RAND()))*COS(2*ACOS(-1)*RAND()) AS INT64) FROM UNNEST(GENERATE_ARRAY(1, 2000))))) AS bakeTime) USING(pos)\n",
      "        JOIN (SELECT *, ROW_NUMBER() OVER() pos FROM UNNEST(ARRAY((SELECT 425+15*SQRT(-2*LN(RAND()))*COS(2*ACOS(-1)*RAND()) FROM UNNEST(GENERATE_ARRAY(1, 2000))))) AS bakeTemp) USING(pos)\n",
      "        JOIN (SELECT *, ROW_NUMBER() OVER() pos FROM UNNEST(ARRAY((SELECT 60+10*SQRT(-2*LN(RAND()))*COS(2*ACOS(-1)*RAND()) FROM UNNEST(GENERATE_ARRAY(1, 2000))))) AS ambTemp) USING(pos)\n",
      "        JOIN (SELECT *, ROW_NUMBER() OVER() pos FROM UNNEST(ARRAY((SELECT 50+10*SQRT(-2*LN(RAND()))*COS(2*ACOS(-1)*RAND()) FROM UNNEST(GENERATE_ARRAY(1, 2000))))) AS ambHumidity) USING(pos)\n",
      "    ),\n",
      "    STEP_2 AS (\n",
      "        SELECT\n",
      "            Recipe,\n",
      "            CASE \n",
      "                WHEN flourAmt-500 > 0 THEN 0.3*(flourAmt-500)\n",
      "                ELSE -0.3*(flourAmt-500)\n",
      "            END AS A,\n",
      "            CASE \n",
      "                WHEN saltAmt-10 > 0 THEN 2*(saltAmt-10)/2\n",
      "                ELSE -0.5*(saltAmt-10)/2\n",
      "            END AS B,\n",
      "            CASE \n",
      "                WHEN yeastAmt-10 > 0 THEN 5*(yeastAmt-10)/2\n",
      "                ELSE -5*(yeastAmt-10)/2\n",
      "            END AS C,\n",
      "            CASE \n",
      "                WHEN mix1Time-5 > 0 THEN 2*(mix1Time-5)\n",
      "                ELSE -2*(mix1Time-5)\n",
      "            END AS D,\n",
      "            CASE \n",
      "                WHEN mix1Speed-3.5 > 0 THEN 0.1*(mix1Speed-3.5)/1.5\n",
      "                ELSE -0.1*(mix1Speed-3.5)/1.5\n",
      "            END AS E,\n",
      "            CASE \n",
      "                WHEN mix2Time-6 > 0 THEN (mix2Time-6)/2\n",
      "                ELSE -2*(mix2Time-6)\n",
      "            END AS F,\n",
      "            CASE \n",
      "                WHEN mix2Speed-5 > 0 THEN 2*(mix2Speed-5)\n",
      "                ELSE -2*(mix2Speed-5)/2\n",
      "            END AS G,\n",
      "            CASE \n",
      "                WHEN water1Amt-330 > 0 THEN (water1Amt-330)/20\n",
      "                ELSE -1*(water1Amt-330)/20\n",
      "            END AS H,\n",
      "            CASE \n",
      "                WHEN water2Amt-110 > 0 THEN 6*(water2Amt-110)/20\n",
      "                ELSE -6*(water2Amt-110)/20\n",
      "            END AS I,\n",
      "            CASE \n",
      "                WHEN restTime-40 > 0 THEN 3*(restTime-40)/5\n",
      "                ELSE -3*(restTime-40)/5\n",
      "            END AS J,\n",
      "            CASE \n",
      "                WHEN bakeTime-25 > 0 THEN 6*(bakeTime-25)/5\n",
      "                ELSE -6*(bakeTime-25)/5\n",
      "            END AS K,\n",
      "            CASE \n",
      "                WHEN bakeTemp-425 > 0 THEN 15*(bakeTemp-425)/15\n",
      "                ELSE -10*(bakeTemp-425)/15\n",
      "            END AS L,\n",
      "            -1*((425-bakeTemp)*(bakeTime-25))/25 AS M\n",
      "        FROM STEP_1\n",
      "    ),\n",
      "    STEP_3 AS (\n",
      "        SELECT *,\n",
      "            CASE\n",
      "                WHEN 100-xbeta+4 < 0 THEN 0\n",
      "                WHEN 100-xbeta+4 > 100 THEN 100\n",
      "                ELSE ROUND(100-xbeta+4)\n",
      "            END AS JUDGE_A,\n",
      "            CASE\n",
      "                WHEN 5-26*(90/69)+(90/69)*(100-xbeta+4)-5 < 0 THEN 0\n",
      "                WHEN 5-26*(90/69)+(90/69)*(100-xbeta+4)-5 > 100 THEN 100\n",
      "                ELSE ROUND(5-26*(90/69)+(90/69)*(100-xbeta+4)-5)\n",
      "            END AS JUDGE_B\n",
      "        FROM STEP_1\n",
      "        JOIN (SELECT Recipe, 0+A+B+C+D+E+F+G+H+I+J+K+L+M AS xbeta FROM STEP_2) USING(Recipe)\n",
      "    )\n",
      "SELECT * EXCEPT(xbeta)\n",
      "FROM STEP_3\n",
      "\n"
     ]
    }
   ],
   "source": [
    "print(query)"
   ]
  },
  {
   "cell_type": "code",
   "execution_count": 463,
   "id": "c82edbf1-9522-4658-9d41-f3a9288e7730",
   "metadata": {},
   "outputs": [],
   "source": [
    "job = bq.query(query = query)"
   ]
  },
  {
   "cell_type": "code",
   "execution_count": 475,
   "id": "88852ac7-13ff-44d8-b6a9-8488764e06da",
   "metadata": {},
   "outputs": [
    {
     "data": {
      "text/plain": [
       "<google.cloud.bigquery.table._EmptyRowIterator at 0x7f658067a990>"
      ]
     },
     "execution_count": 475,
     "metadata": {},
     "output_type": "execute_result"
    }
   ],
   "source": [
    "job.result()"
   ]
  },
  {
   "cell_type": "code",
   "execution_count": 476,
   "id": "796af9a6-9965-4e4d-b7c6-45148980f111",
   "metadata": {},
   "outputs": [
    {
     "data": {
      "text/plain": [
       "3.155"
      ]
     },
     "execution_count": 476,
     "metadata": {},
     "output_type": "execute_result"
    }
   ],
   "source": [
    "(job.ended-job.started).total_seconds()"
   ]
  },
  {
   "cell_type": "code",
   "execution_count": 477,
   "id": "e9eeb116-702d-410b-a729-ae010834a84b",
   "metadata": {},
   "outputs": [
    {
     "data": {
      "text/plain": [
       "0"
      ]
     },
     "execution_count": 477,
     "metadata": {},
     "output_type": "execute_result"
    }
   ],
   "source": [
    "job.total_bytes_processed"
   ]
  },
  {
   "cell_type": "markdown",
   "id": "25d017cd-b5dc-4a5d-bf45-508ce60d128f",
   "metadata": {},
   "source": [
    "### Check out this table in BigQuery Console:\n",
    "- Click: https://console.cloud.google.com/bigquery\n",
    "- Make sure project selected is the one from this notebook\n",
    "- Under Explore, expand this project and review the dataset and table"
   ]
  },
  {
   "cell_type": "code",
   "execution_count": 481,
   "id": "209246e6-e917-44f4-98e4-8d5e50299cf2",
   "metadata": {},
   "outputs": [
    {
     "name": "stdout",
     "output_type": "stream",
     "text": [
      "Direct Link To This Project In BigQuery:\n",
      "https://console.cloud.google.com/bigquery?project=statmike-mlops-349915&ws=!1m5!1m4!4m3!1sstatmike-mlops-349915!2sfeature_engineering!3sbread\n"
     ]
    }
   ],
   "source": [
    "print(f\"Direct Link To This Project In BigQuery:\\nhttps://console.cloud.google.com/bigquery?project={BQ_PROJECT}&ws=!1m5!1m4!4m3!1s{BQ_PROJECT}!2s{BQ_DATASET}!3s{BQ_TABLE}\")"
   ]
  },
  {
   "cell_type": "markdown",
   "id": "876654f3-7c48-4b23-8e27-52bd6ddf4564",
   "metadata": {},
   "source": [
    "---\n",
    "## Review Data From BigQuery\n",
    "Additional SQL queries could be used to review the data.  This section shows moving the table to a Pandas dataframe for local review in Python:\n",
    "\n",
    "> **Note:** <p>This query only selects one column.  This means BigQuery scans less data as it does not process the other columns.  </p>"
   ]
  },
  {
   "cell_type": "code",
   "execution_count": 478,
   "id": "c66fd4c0-36aa-4f57-8e1e-916f443d5216",
   "metadata": {},
   "outputs": [],
   "source": [
    "query = f\"\"\"\n",
    "    SELECT JUDGE_A, JUDGE_B\n",
    "    FROM `{BQ_PROJECT}.{BQ_DATASET}.{BQ_TABLE}`\n",
    "\"\"\"\n",
    "df = bq.query(query = query).to_dataframe()"
   ]
  },
  {
   "cell_type": "code",
   "execution_count": 479,
   "id": "befab8f1-f708-4039-b043-75ae62efe665",
   "metadata": {},
   "outputs": [
    {
     "name": "stdout",
     "output_type": "stream",
     "text": [
      "\n",
      "    SELECT JUDGE_A, JUDGE_B\n",
      "    FROM `statmike-mlops-349915.feature_engineering.bread`\n",
      "\n"
     ]
    }
   ],
   "source": [
    "print(query)"
   ]
  },
  {
   "cell_type": "code",
   "execution_count": 480,
   "id": "d103c7b4-68a5-4e43-8398-0e7ab64afab7",
   "metadata": {},
   "outputs": [
    {
     "data": {
      "text/html": [
       "<div>\n",
       "<style scoped>\n",
       "    .dataframe tbody tr th:only-of-type {\n",
       "        vertical-align: middle;\n",
       "    }\n",
       "\n",
       "    .dataframe tbody tr th {\n",
       "        vertical-align: top;\n",
       "    }\n",
       "\n",
       "    .dataframe thead th {\n",
       "        text-align: right;\n",
       "    }\n",
       "</style>\n",
       "<table border=\"1\" class=\"dataframe\">\n",
       "  <thead>\n",
       "    <tr style=\"text-align: right;\">\n",
       "      <th></th>\n",
       "      <th>JUDGE_A</th>\n",
       "      <th>JUDGE_B</th>\n",
       "    </tr>\n",
       "  </thead>\n",
       "  <tbody>\n",
       "    <tr>\n",
       "      <th>count</th>\n",
       "      <td>2000.000000</td>\n",
       "      <td>2000.000000</td>\n",
       "    </tr>\n",
       "    <tr>\n",
       "      <th>mean</th>\n",
       "      <td>49.365500</td>\n",
       "      <td>31.700000</td>\n",
       "    </tr>\n",
       "    <tr>\n",
       "      <th>std</th>\n",
       "      <td>16.443817</td>\n",
       "      <td>18.862208</td>\n",
       "    </tr>\n",
       "    <tr>\n",
       "      <th>min</th>\n",
       "      <td>0.000000</td>\n",
       "      <td>0.000000</td>\n",
       "    </tr>\n",
       "    <tr>\n",
       "      <th>25%</th>\n",
       "      <td>40.000000</td>\n",
       "      <td>18.000000</td>\n",
       "    </tr>\n",
       "    <tr>\n",
       "      <th>50%</th>\n",
       "      <td>51.000000</td>\n",
       "      <td>33.000000</td>\n",
       "    </tr>\n",
       "    <tr>\n",
       "      <th>75%</th>\n",
       "      <td>61.000000</td>\n",
       "      <td>46.000000</td>\n",
       "    </tr>\n",
       "    <tr>\n",
       "      <th>max</th>\n",
       "      <td>87.000000</td>\n",
       "      <td>79.000000</td>\n",
       "    </tr>\n",
       "  </tbody>\n",
       "</table>\n",
       "</div>"
      ],
      "text/plain": [
       "           JUDGE_A      JUDGE_B\n",
       "count  2000.000000  2000.000000\n",
       "mean     49.365500    31.700000\n",
       "std      16.443817    18.862208\n",
       "min       0.000000     0.000000\n",
       "25%      40.000000    18.000000\n",
       "50%      51.000000    33.000000\n",
       "75%      61.000000    46.000000\n",
       "max      87.000000    79.000000"
      ]
     },
     "execution_count": 480,
     "metadata": {},
     "output_type": "execute_result"
    }
   ],
   "source": [
    "df.describe()"
   ]
  },
  {
   "cell_type": "markdown",
   "id": "3c6b56cc-85f3-40d2-a03a-4b1bd8a1944e",
   "metadata": {},
   "source": [
    "---\n",
    "## Train Model - Automatic Feature Engineering\n",
    "\n",
    "Use BigQuery ML to train multiclass logistic regression model:\n",
    "- [Logistic Regression](https://cloud.google.com/bigquery-ml/docs/reference/standard-sql/bigqueryml-syntax-create-glm) with BigQuery ML (BQML)"
   ]
  },
  {
   "cell_type": "code",
   "execution_count": 494,
   "id": "8ec35834",
   "metadata": {},
   "outputs": [],
   "source": [
    "TIMESTAMP = datetime.now().strftime(\"%Y%m%d%H%M%S\")\n",
    "RUN_NAME = f'run-{TIMESTAMP}'\n",
    "BQ_MODEL = f'{SERIES}_{EXPERIMENT}_{TIMESTAMP}'\n",
    "\n",
    "query = f\"\"\"\n",
    "CREATE MODEL `{BQ_PROJECT}.{BQ_DATASET}.{BQ_MODEL}`\n",
    "OPTIONS (\n",
    "        model_type = 'LINEAR_REG',\n",
    "        input_label_cols = ['JUDGE_A'],\n",
    "        enable_global_explain = TRUE,\n",
    "        data_split_method = 'AUTO_SPLIT',\n",
    "        MODEL_REGISTRY = 'VERTEX_AI',\n",
    "        VERTEX_AI_MODEL_ID = 'model_{SERIES}_{EXPERIMENT}',\n",
    "        VERTEX_AI_MODEL_VERSION_ALIASES = ['{RUN_NAME}', 'auto_feature_engineering']\n",
    "    ) AS\n",
    "SELECT * EXCEPT(Recipe)\n",
    "FROM `{BQ_PROJECT}.{BQ_DATASET}.{BQ_TABLE}`\n",
    "\"\"\""
   ]
  },
  {
   "cell_type": "code",
   "execution_count": 495,
   "id": "cf068ec5-db03-4314-a184-230f9de65bab",
   "metadata": {},
   "outputs": [
    {
     "name": "stdout",
     "output_type": "stream",
     "text": [
      "\n",
      "CREATE MODEL `statmike-mlops-349915.feature_engineering.03_feature_engineering_20221129062835`\n",
      "OPTIONS (\n",
      "        model_type = 'LINEAR_REG',\n",
      "        input_label_cols = ['JUDGE_A'],\n",
      "        enable_global_explain = TRUE,\n",
      "        data_split_method = 'AUTO_SPLIT',\n",
      "        MODEL_REGISTRY = 'VERTEX_AI',\n",
      "        VERTEX_AI_MODEL_ID = 'model_03_feature_engineering',\n",
      "        VERTEX_AI_MODEL_VERSION_ALIASES = ['run-20221129062835', 'auto_feature_engineering']\n",
      "    ) AS\n",
      "SELECT * EXCEPT(Recipe)\n",
      "FROM `statmike-mlops-349915.feature_engineering.bread`\n",
      "\n"
     ]
    }
   ],
   "source": [
    "print(query)"
   ]
  },
  {
   "cell_type": "code",
   "execution_count": 496,
   "id": "b1a3640e-843d-44c7-ab15-e05845cc070e",
   "metadata": {},
   "outputs": [
    {
     "data": {
      "text/plain": [
       "<google.cloud.bigquery.table._EmptyRowIterator at 0x7f6581d24050>"
      ]
     },
     "execution_count": 496,
     "metadata": {},
     "output_type": "execute_result"
    }
   ],
   "source": [
    "job = bq.query(query = query)\n",
    "job.result()"
   ]
  },
  {
   "cell_type": "code",
   "execution_count": 497,
   "id": "e3a6b5f1",
   "metadata": {},
   "outputs": [
    {
     "data": {
      "text/plain": [
       "15.95"
      ]
     },
     "execution_count": 497,
     "metadata": {},
     "output_type": "execute_result"
    }
   ],
   "source": [
    "(job.ended-job.started).total_seconds()"
   ]
  },
  {
   "cell_type": "code",
   "execution_count": 498,
   "id": "6867ee90-60d0-4413-8e39-38cecc7e8d81",
   "metadata": {},
   "outputs": [
    {
     "data": {
      "text/plain": [
       "288000"
      ]
     },
     "execution_count": 498,
     "metadata": {},
     "output_type": "execute_result"
    }
   ],
   "source": [
    "job.total_bytes_processed"
   ]
  },
  {
   "cell_type": "markdown",
   "id": "bf6209c9-5e45-4da2-a4fc-ec7c759c8bbb",
   "metadata": {},
   "source": [
    "Add labels to the model in BigQuery:"
   ]
  },
  {
   "cell_type": "code",
   "execution_count": 499,
   "id": "13d696f2-a277-422c-9cb0-f2ea8b5b242f",
   "metadata": {},
   "outputs": [],
   "source": [
    "model = bq.get_model(f'{BQ_PROJECT}.{BQ_DATASET}.{BQ_MODEL}')\n",
    "model.labels = {'series' : f'{SERIES}', 'experiment' : f'{EXPERIMENT}'}\n",
    "model = bq.update_model(model, ['labels'])"
   ]
  },
  {
   "cell_type": "markdown",
   "id": "76bec6dc-7312-4676-8018-fd1b9b842dc0",
   "metadata": {},
   "source": [
    "Review the Model Inputs, the feature information, with [ML.FEATURE_INFO](https://cloud.google.com/bigquery-ml/docs/reference/standard-sql/bigqueryml-syntax-feature):"
   ]
  },
  {
   "cell_type": "code",
   "execution_count": 500,
   "id": "1100435a-f279-4ebe-9fd0-85d6eb88b225",
   "metadata": {},
   "outputs": [
    {
     "data": {
      "text/html": [
       "<div>\n",
       "<style scoped>\n",
       "    .dataframe tbody tr th:only-of-type {\n",
       "        vertical-align: middle;\n",
       "    }\n",
       "\n",
       "    .dataframe tbody tr th {\n",
       "        vertical-align: top;\n",
       "    }\n",
       "\n",
       "    .dataframe thead th {\n",
       "        text-align: right;\n",
       "    }\n",
       "</style>\n",
       "<table border=\"1\" class=\"dataframe\">\n",
       "  <thead>\n",
       "    <tr style=\"text-align: right;\">\n",
       "      <th></th>\n",
       "      <th>input</th>\n",
       "      <th>min</th>\n",
       "      <th>max</th>\n",
       "      <th>mean</th>\n",
       "      <th>median</th>\n",
       "      <th>stddev</th>\n",
       "      <th>category_count</th>\n",
       "      <th>null_count</th>\n",
       "      <th>dimension</th>\n",
       "    </tr>\n",
       "  </thead>\n",
       "  <tbody>\n",
       "    <tr>\n",
       "      <th>0</th>\n",
       "      <td>flourAmt</td>\n",
       "      <td>469.531448</td>\n",
       "      <td>531.059242</td>\n",
       "      <td>500.283425</td>\n",
       "      <td>500.095446</td>\n",
       "      <td>10.314818</td>\n",
       "      <td>&lt;NA&gt;</td>\n",
       "      <td>0</td>\n",
       "      <td>&lt;NA&gt;</td>\n",
       "    </tr>\n",
       "    <tr>\n",
       "      <th>1</th>\n",
       "      <td>saltAmt</td>\n",
       "      <td>-4.000000</td>\n",
       "      <td>20.000000</td>\n",
       "      <td>7.990548</td>\n",
       "      <td>8.000000</td>\n",
       "      <td>3.983957</td>\n",
       "      <td>&lt;NA&gt;</td>\n",
       "      <td>0</td>\n",
       "      <td>&lt;NA&gt;</td>\n",
       "    </tr>\n",
       "    <tr>\n",
       "      <th>2</th>\n",
       "      <td>yeastAmt</td>\n",
       "      <td>-7.000000</td>\n",
       "      <td>19.000000</td>\n",
       "      <td>8.066163</td>\n",
       "      <td>8.000000</td>\n",
       "      <td>4.022325</td>\n",
       "      <td>&lt;NA&gt;</td>\n",
       "      <td>0</td>\n",
       "      <td>&lt;NA&gt;</td>\n",
       "    </tr>\n",
       "    <tr>\n",
       "      <th>3</th>\n",
       "      <td>mix1Time</td>\n",
       "      <td>2.000000</td>\n",
       "      <td>8.000000</td>\n",
       "      <td>4.982357</td>\n",
       "      <td>5.000000</td>\n",
       "      <td>1.027217</td>\n",
       "      <td>&lt;NA&gt;</td>\n",
       "      <td>0</td>\n",
       "      <td>&lt;NA&gt;</td>\n",
       "    </tr>\n",
       "    <tr>\n",
       "      <th>4</th>\n",
       "      <td>mix1Speed</td>\n",
       "      <td>-10.000000</td>\n",
       "      <td>11.000000</td>\n",
       "      <td>2.000630</td>\n",
       "      <td>2.000000</td>\n",
       "      <td>2.923035</td>\n",
       "      <td>&lt;NA&gt;</td>\n",
       "      <td>0</td>\n",
       "      <td>&lt;NA&gt;</td>\n",
       "    </tr>\n",
       "    <tr>\n",
       "      <th>5</th>\n",
       "      <td>mix2Time</td>\n",
       "      <td>-9.000000</td>\n",
       "      <td>15.000000</td>\n",
       "      <td>3.919975</td>\n",
       "      <td>4.000000</td>\n",
       "      <td>3.860496</td>\n",
       "      <td>&lt;NA&gt;</td>\n",
       "      <td>0</td>\n",
       "      <td>&lt;NA&gt;</td>\n",
       "    </tr>\n",
       "    <tr>\n",
       "      <th>6</th>\n",
       "      <td>mix2Speed</td>\n",
       "      <td>-3.000000</td>\n",
       "      <td>10.000000</td>\n",
       "      <td>4.015753</td>\n",
       "      <td>4.000000</td>\n",
       "      <td>2.020482</td>\n",
       "      <td>&lt;NA&gt;</td>\n",
       "      <td>0</td>\n",
       "      <td>&lt;NA&gt;</td>\n",
       "    </tr>\n",
       "    <tr>\n",
       "      <th>7</th>\n",
       "      <td>water1Amt</td>\n",
       "      <td>265.842151</td>\n",
       "      <td>408.723871</td>\n",
       "      <td>329.389445</td>\n",
       "      <td>328.817076</td>\n",
       "      <td>20.403832</td>\n",
       "      <td>&lt;NA&gt;</td>\n",
       "      <td>0</td>\n",
       "      <td>&lt;NA&gt;</td>\n",
       "    </tr>\n",
       "    <tr>\n",
       "      <th>8</th>\n",
       "      <td>water2Amt</td>\n",
       "      <td>44.465186</td>\n",
       "      <td>187.059052</td>\n",
       "      <td>110.072903</td>\n",
       "      <td>109.711329</td>\n",
       "      <td>20.399199</td>\n",
       "      <td>&lt;NA&gt;</td>\n",
       "      <td>0</td>\n",
       "      <td>&lt;NA&gt;</td>\n",
       "    </tr>\n",
       "    <tr>\n",
       "      <th>9</th>\n",
       "      <td>waterTemp</td>\n",
       "      <td>9.000000</td>\n",
       "      <td>73.000000</td>\n",
       "      <td>39.880907</td>\n",
       "      <td>40.000000</td>\n",
       "      <td>9.588721</td>\n",
       "      <td>&lt;NA&gt;</td>\n",
       "      <td>0</td>\n",
       "      <td>&lt;NA&gt;</td>\n",
       "    </tr>\n",
       "    <tr>\n",
       "      <th>10</th>\n",
       "      <td>proveTime</td>\n",
       "      <td>77.638347</td>\n",
       "      <td>118.275090</td>\n",
       "      <td>100.025705</td>\n",
       "      <td>100.111189</td>\n",
       "      <td>4.997307</td>\n",
       "      <td>&lt;NA&gt;</td>\n",
       "      <td>0</td>\n",
       "      <td>&lt;NA&gt;</td>\n",
       "    </tr>\n",
       "    <tr>\n",
       "      <th>11</th>\n",
       "      <td>restTime</td>\n",
       "      <td>7.000000</td>\n",
       "      <td>77.000000</td>\n",
       "      <td>35.553245</td>\n",
       "      <td>35.000000</td>\n",
       "      <td>10.142125</td>\n",
       "      <td>&lt;NA&gt;</td>\n",
       "      <td>0</td>\n",
       "      <td>&lt;NA&gt;</td>\n",
       "    </tr>\n",
       "    <tr>\n",
       "      <th>12</th>\n",
       "      <td>bakeTime</td>\n",
       "      <td>-12.000000</td>\n",
       "      <td>57.000000</td>\n",
       "      <td>20.265911</td>\n",
       "      <td>20.000000</td>\n",
       "      <td>10.114845</td>\n",
       "      <td>&lt;NA&gt;</td>\n",
       "      <td>0</td>\n",
       "      <td>&lt;NA&gt;</td>\n",
       "    </tr>\n",
       "    <tr>\n",
       "      <th>13</th>\n",
       "      <td>bakeTemp</td>\n",
       "      <td>378.865415</td>\n",
       "      <td>487.193768</td>\n",
       "      <td>424.806629</td>\n",
       "      <td>424.806513</td>\n",
       "      <td>15.020320</td>\n",
       "      <td>&lt;NA&gt;</td>\n",
       "      <td>0</td>\n",
       "      <td>&lt;NA&gt;</td>\n",
       "    </tr>\n",
       "    <tr>\n",
       "      <th>14</th>\n",
       "      <td>ambTemp</td>\n",
       "      <td>29.364235</td>\n",
       "      <td>92.466439</td>\n",
       "      <td>59.961874</td>\n",
       "      <td>59.561054</td>\n",
       "      <td>10.145759</td>\n",
       "      <td>&lt;NA&gt;</td>\n",
       "      <td>0</td>\n",
       "      <td>&lt;NA&gt;</td>\n",
       "    </tr>\n",
       "    <tr>\n",
       "      <th>15</th>\n",
       "      <td>ambHumidity</td>\n",
       "      <td>19.265005</td>\n",
       "      <td>81.327001</td>\n",
       "      <td>49.643361</td>\n",
       "      <td>49.970494</td>\n",
       "      <td>10.012928</td>\n",
       "      <td>&lt;NA&gt;</td>\n",
       "      <td>0</td>\n",
       "      <td>&lt;NA&gt;</td>\n",
       "    </tr>\n",
       "    <tr>\n",
       "      <th>16</th>\n",
       "      <td>JUDGE_B</td>\n",
       "      <td>0.000000</td>\n",
       "      <td>79.000000</td>\n",
       "      <td>31.494644</td>\n",
       "      <td>33.000000</td>\n",
       "      <td>19.201998</td>\n",
       "      <td>&lt;NA&gt;</td>\n",
       "      <td>0</td>\n",
       "      <td>&lt;NA&gt;</td>\n",
       "    </tr>\n",
       "  </tbody>\n",
       "</table>\n",
       "</div>"
      ],
      "text/plain": [
       "          input         min         max        mean      median     stddev  \\\n",
       "0      flourAmt  469.531448  531.059242  500.283425  500.095446  10.314818   \n",
       "1       saltAmt   -4.000000   20.000000    7.990548    8.000000   3.983957   \n",
       "2      yeastAmt   -7.000000   19.000000    8.066163    8.000000   4.022325   \n",
       "3      mix1Time    2.000000    8.000000    4.982357    5.000000   1.027217   \n",
       "4     mix1Speed  -10.000000   11.000000    2.000630    2.000000   2.923035   \n",
       "5      mix2Time   -9.000000   15.000000    3.919975    4.000000   3.860496   \n",
       "6     mix2Speed   -3.000000   10.000000    4.015753    4.000000   2.020482   \n",
       "7     water1Amt  265.842151  408.723871  329.389445  328.817076  20.403832   \n",
       "8     water2Amt   44.465186  187.059052  110.072903  109.711329  20.399199   \n",
       "9     waterTemp    9.000000   73.000000   39.880907   40.000000   9.588721   \n",
       "10    proveTime   77.638347  118.275090  100.025705  100.111189   4.997307   \n",
       "11     restTime    7.000000   77.000000   35.553245   35.000000  10.142125   \n",
       "12     bakeTime  -12.000000   57.000000   20.265911   20.000000  10.114845   \n",
       "13     bakeTemp  378.865415  487.193768  424.806629  424.806513  15.020320   \n",
       "14      ambTemp   29.364235   92.466439   59.961874   59.561054  10.145759   \n",
       "15  ambHumidity   19.265005   81.327001   49.643361   49.970494  10.012928   \n",
       "16      JUDGE_B    0.000000   79.000000   31.494644   33.000000  19.201998   \n",
       "\n",
       "    category_count  null_count  dimension  \n",
       "0             <NA>           0       <NA>  \n",
       "1             <NA>           0       <NA>  \n",
       "2             <NA>           0       <NA>  \n",
       "3             <NA>           0       <NA>  \n",
       "4             <NA>           0       <NA>  \n",
       "5             <NA>           0       <NA>  \n",
       "6             <NA>           0       <NA>  \n",
       "7             <NA>           0       <NA>  \n",
       "8             <NA>           0       <NA>  \n",
       "9             <NA>           0       <NA>  \n",
       "10            <NA>           0       <NA>  \n",
       "11            <NA>           0       <NA>  \n",
       "12            <NA>           0       <NA>  \n",
       "13            <NA>           0       <NA>  \n",
       "14            <NA>           0       <NA>  \n",
       "15            <NA>           0       <NA>  \n",
       "16            <NA>           0       <NA>  "
      ]
     },
     "execution_count": 500,
     "metadata": {},
     "output_type": "execute_result"
    }
   ],
   "source": [
    "feature_info = bq.query(\n",
    "    query = f\"\"\"\n",
    "        SELECT *\n",
    "        FROM ML.FEATURE_INFO(MODEL `{BQ_PROJECT}.{BQ_DATASET}.{BQ_MODEL}`)\n",
    "        \"\"\"\n",
    ").to_dataframe()\n",
    "feature_info"
   ]
  },
  {
   "cell_type": "markdown",
   "id": "321078f6-393a-4abd-9d5e-b2068a795068",
   "metadata": {},
   "source": [
    "Review the iterations from training with [ML.TRAINING_INFO](https://cloud.google.com/bigquery-ml/docs/reference/standard-sql/bigqueryml-syntax-train):"
   ]
  },
  {
   "cell_type": "code",
   "execution_count": 501,
   "id": "14d2757d",
   "metadata": {},
   "outputs": [
    {
     "data": {
      "text/html": [
       "<div>\n",
       "<style scoped>\n",
       "    .dataframe tbody tr th:only-of-type {\n",
       "        vertical-align: middle;\n",
       "    }\n",
       "\n",
       "    .dataframe tbody tr th {\n",
       "        vertical-align: top;\n",
       "    }\n",
       "\n",
       "    .dataframe thead th {\n",
       "        text-align: right;\n",
       "    }\n",
       "</style>\n",
       "<table border=\"1\" class=\"dataframe\">\n",
       "  <thead>\n",
       "    <tr style=\"text-align: right;\">\n",
       "      <th></th>\n",
       "      <th>training_run</th>\n",
       "      <th>iteration</th>\n",
       "      <th>loss</th>\n",
       "      <th>eval_loss</th>\n",
       "      <th>learning_rate</th>\n",
       "      <th>duration_ms</th>\n",
       "    </tr>\n",
       "  </thead>\n",
       "  <tbody>\n",
       "    <tr>\n",
       "      <th>0</th>\n",
       "      <td>0</td>\n",
       "      <td>0</td>\n",
       "      <td>12.736161</td>\n",
       "      <td>12.635307</td>\n",
       "      <td>NaN</td>\n",
       "      <td>2404</td>\n",
       "    </tr>\n",
       "  </tbody>\n",
       "</table>\n",
       "</div>"
      ],
      "text/plain": [
       "   training_run  iteration       loss  eval_loss  learning_rate  duration_ms\n",
       "0             0          0  12.736161  12.635307            NaN         2404"
      ]
     },
     "execution_count": 501,
     "metadata": {},
     "output_type": "execute_result"
    }
   ],
   "source": [
    "history = bq.query(\n",
    "    query = f\"\"\"\n",
    "        SELECT *\n",
    "        FROM ML.TRAINING_INFO(MODEL `{BQ_PROJECT}.{BQ_DATASET}.{BQ_MODEL}`)\n",
    "        ORDER BY iteration\"\"\"\n",
    ").to_dataframe()\n",
    "history"
   ]
  },
  {
   "cell_type": "markdown",
   "id": "01705331-bb4a-48b0-93eb-e352623afd21",
   "metadata": {},
   "source": [
    "### Check out this model in the BigQuery Console:\n",
    "- Make sure project selected is the one from this notebook\n",
    "- Under Explore, expand this project and dataset\n",
    "- Expand Models and select the model create here"
   ]
  },
  {
   "cell_type": "code",
   "execution_count": 503,
   "id": "2e612ea8-ff94-4100-8293-5e2d691cfc69",
   "metadata": {},
   "outputs": [
    {
     "name": "stdout",
     "output_type": "stream",
     "text": [
      "BigQuery Console for Project:\n",
      "https://console.cloud.google.com/bigquery?project=statmike-mlops-349915\n"
     ]
    }
   ],
   "source": [
    "print(f'BigQuery Console for Project:\\nhttps://console.cloud.google.com/bigquery?project={PROJECT_ID}')"
   ]
  },
  {
   "cell_type": "code",
   "execution_count": 504,
   "id": "a70136c5-da05-4083-b45e-1c19d4a32c3c",
   "metadata": {},
   "outputs": [
    {
     "name": "stdout",
     "output_type": "stream",
     "text": [
      "Direct link to the model in BigQuery:\n",
      "https://console.cloud.google.com/bigquery?project=statmike-mlops-349915&ws=!1m5!1m4!5m3!1sstatmike-mlops-349915!2sfeature_engineering!3s03_feature_engineering_20221129062835\n"
     ]
    }
   ],
   "source": [
    "print(f'Direct link to the model in BigQuery:\\nhttps://console.cloud.google.com/bigquery?project={PROJECT_ID}&ws=!1m5!1m4!5m3!1s{PROJECT_ID}!2s{BQ_DATASET}!3s{BQ_MODEL}')"
   ]
  },
  {
   "cell_type": "markdown",
   "id": "553756fc-8889-4311-8b03-b20a6f9bec87",
   "metadata": {},
   "source": [
    "### Check out this model in the Vertex AI Console:\n",
    "- Make sure project selected is the one from this notebook\n",
    "- Make sure the region is `europe-west4` (default when BQ is `EU` multiregion)"
   ]
  },
  {
   "cell_type": "code",
   "execution_count": null,
   "id": "54f34a5a-f5e4-43af-b68b-76c95cba0860",
   "metadata": {},
   "outputs": [],
   "source": []
  },
  {
   "cell_type": "code",
   "execution_count": null,
   "id": "ac41b068-da69-498e-ab67-8490d4f1cc49",
   "metadata": {},
   "outputs": [],
   "source": []
  },
  {
   "cell_type": "markdown",
   "id": "780ff15a-9af1-4842-95ff-0afc33c2e86b",
   "metadata": {},
   "source": [
    "---\n",
    "## Train Model - Advanced Feature Engineering\n",
    "\n",
    "Use BigQuery ML to train multiclass logistic regression model:\n",
    "- [Logistic Regression](https://cloud.google.com/bigquery-ml/docs/reference/standard-sql/bigqueryml-syntax-create-glm) with BigQuery ML (BQML)\n",
    "\n",
    "Feature Pre-Processing with the `TRANSFORM` statement:\n",
    "- [TRANSFORM](https://cloud.google.com/bigquery-ml/docs/reference/standard-sql/bigqueryml-syntax-create#transform)"
   ]
  },
  {
   "cell_type": "code",
   "execution_count": 83,
   "id": "abc3ce86-97e5-42d0-b99e-bf70e6029d0a",
   "metadata": {},
   "outputs": [
    {
     "ename": "BadRequest",
     "evalue": "400 Already Exists: Model statmike-mlops-349915.feature_engineering.03_feature_engineering_20221111114522\n\nLocation: EU\nJob ID: 3730d9d7-4160-4466-abd9-0a5f055a23da\n",
     "output_type": "error",
     "traceback": [
      "\u001b[0;31m---------------------------------------------------------------------------\u001b[0m",
      "\u001b[0;31mBadRequest\u001b[0m                                Traceback (most recent call last)",
      "\u001b[0;32m/tmp/ipykernel_11855/1179939694.py\u001b[0m in \u001b[0;36m<module>\u001b[0;34m\u001b[0m\n\u001b[1;32m     20\u001b[0m \"\"\"\n\u001b[1;32m     21\u001b[0m \u001b[0mjob\u001b[0m \u001b[0;34m=\u001b[0m \u001b[0mbq\u001b[0m\u001b[0;34m.\u001b[0m\u001b[0mquery\u001b[0m\u001b[0;34m(\u001b[0m\u001b[0mquery\u001b[0m \u001b[0;34m=\u001b[0m \u001b[0mquery\u001b[0m\u001b[0;34m)\u001b[0m\u001b[0;34m\u001b[0m\u001b[0;34m\u001b[0m\u001b[0m\n\u001b[0;32m---> 22\u001b[0;31m \u001b[0mjob\u001b[0m\u001b[0;34m.\u001b[0m\u001b[0mresult\u001b[0m\u001b[0;34m(\u001b[0m\u001b[0;34m)\u001b[0m\u001b[0;34m\u001b[0m\u001b[0;34m\u001b[0m\u001b[0m\n\u001b[0m",
      "\u001b[0;32m/opt/conda/lib/python3.7/site-packages/google/cloud/bigquery/job/query.py\u001b[0m in \u001b[0;36mresult\u001b[0;34m(self, page_size, max_results, retry, timeout, start_index, job_retry)\u001b[0m\n\u001b[1;32m   1497\u001b[0m                 \u001b[0mdo_get_result\u001b[0m \u001b[0;34m=\u001b[0m \u001b[0mjob_retry\u001b[0m\u001b[0;34m(\u001b[0m\u001b[0mdo_get_result\u001b[0m\u001b[0;34m)\u001b[0m\u001b[0;34m\u001b[0m\u001b[0;34m\u001b[0m\u001b[0m\n\u001b[1;32m   1498\u001b[0m \u001b[0;34m\u001b[0m\u001b[0m\n\u001b[0;32m-> 1499\u001b[0;31m             \u001b[0mdo_get_result\u001b[0m\u001b[0;34m(\u001b[0m\u001b[0;34m)\u001b[0m\u001b[0;34m\u001b[0m\u001b[0;34m\u001b[0m\u001b[0m\n\u001b[0m\u001b[1;32m   1500\u001b[0m \u001b[0;34m\u001b[0m\u001b[0m\n\u001b[1;32m   1501\u001b[0m         \u001b[0;32mexcept\u001b[0m \u001b[0mexceptions\u001b[0m\u001b[0;34m.\u001b[0m\u001b[0mGoogleAPICallError\u001b[0m \u001b[0;32mas\u001b[0m \u001b[0mexc\u001b[0m\u001b[0;34m:\u001b[0m\u001b[0;34m\u001b[0m\u001b[0;34m\u001b[0m\u001b[0m\n",
      "\u001b[0;32m/opt/conda/lib/python3.7/site-packages/google/api_core/retry.py\u001b[0m in \u001b[0;36mretry_wrapped_func\u001b[0;34m(*args, **kwargs)\u001b[0m\n\u001b[1;32m    286\u001b[0m                 \u001b[0msleep_generator\u001b[0m\u001b[0;34m,\u001b[0m\u001b[0;34m\u001b[0m\u001b[0;34m\u001b[0m\u001b[0m\n\u001b[1;32m    287\u001b[0m                 \u001b[0mself\u001b[0m\u001b[0;34m.\u001b[0m\u001b[0m_deadline\u001b[0m\u001b[0;34m,\u001b[0m\u001b[0;34m\u001b[0m\u001b[0;34m\u001b[0m\u001b[0m\n\u001b[0;32m--> 288\u001b[0;31m                 \u001b[0mon_error\u001b[0m\u001b[0;34m=\u001b[0m\u001b[0mon_error\u001b[0m\u001b[0;34m,\u001b[0m\u001b[0;34m\u001b[0m\u001b[0;34m\u001b[0m\u001b[0m\n\u001b[0m\u001b[1;32m    289\u001b[0m             )\n\u001b[1;32m    290\u001b[0m \u001b[0;34m\u001b[0m\u001b[0m\n",
      "\u001b[0;32m/opt/conda/lib/python3.7/site-packages/google/api_core/retry.py\u001b[0m in \u001b[0;36mretry_target\u001b[0;34m(target, predicate, sleep_generator, deadline, on_error)\u001b[0m\n\u001b[1;32m    188\u001b[0m     \u001b[0;32mfor\u001b[0m \u001b[0msleep\u001b[0m \u001b[0;32min\u001b[0m \u001b[0msleep_generator\u001b[0m\u001b[0;34m:\u001b[0m\u001b[0;34m\u001b[0m\u001b[0;34m\u001b[0m\u001b[0m\n\u001b[1;32m    189\u001b[0m         \u001b[0;32mtry\u001b[0m\u001b[0;34m:\u001b[0m\u001b[0;34m\u001b[0m\u001b[0;34m\u001b[0m\u001b[0m\n\u001b[0;32m--> 190\u001b[0;31m             \u001b[0;32mreturn\u001b[0m \u001b[0mtarget\u001b[0m\u001b[0;34m(\u001b[0m\u001b[0;34m)\u001b[0m\u001b[0;34m\u001b[0m\u001b[0;34m\u001b[0m\u001b[0m\n\u001b[0m\u001b[1;32m    191\u001b[0m \u001b[0;34m\u001b[0m\u001b[0m\n\u001b[1;32m    192\u001b[0m         \u001b[0;31m# pylint: disable=broad-except\u001b[0m\u001b[0;34m\u001b[0m\u001b[0;34m\u001b[0m\u001b[0;34m\u001b[0m\u001b[0m\n",
      "\u001b[0;32m/opt/conda/lib/python3.7/site-packages/google/cloud/bigquery/job/query.py\u001b[0m in \u001b[0;36mdo_get_result\u001b[0;34m()\u001b[0m\n\u001b[1;32m   1487\u001b[0m                     \u001b[0mself\u001b[0m\u001b[0;34m.\u001b[0m\u001b[0m_job_retry\u001b[0m \u001b[0;34m=\u001b[0m \u001b[0mjob_retry\u001b[0m\u001b[0;34m\u001b[0m\u001b[0;34m\u001b[0m\u001b[0m\n\u001b[1;32m   1488\u001b[0m \u001b[0;34m\u001b[0m\u001b[0m\n\u001b[0;32m-> 1489\u001b[0;31m                 \u001b[0msuper\u001b[0m\u001b[0;34m(\u001b[0m\u001b[0mQueryJob\u001b[0m\u001b[0;34m,\u001b[0m \u001b[0mself\u001b[0m\u001b[0;34m)\u001b[0m\u001b[0;34m.\u001b[0m\u001b[0mresult\u001b[0m\u001b[0;34m(\u001b[0m\u001b[0mretry\u001b[0m\u001b[0;34m=\u001b[0m\u001b[0mretry\u001b[0m\u001b[0;34m,\u001b[0m \u001b[0mtimeout\u001b[0m\u001b[0;34m=\u001b[0m\u001b[0mtimeout\u001b[0m\u001b[0;34m)\u001b[0m\u001b[0;34m\u001b[0m\u001b[0;34m\u001b[0m\u001b[0m\n\u001b[0m\u001b[1;32m   1490\u001b[0m \u001b[0;34m\u001b[0m\u001b[0m\n\u001b[1;32m   1491\u001b[0m                 \u001b[0;31m# Since the job could already be \"done\" (e.g. got a finished job\u001b[0m\u001b[0;34m\u001b[0m\u001b[0;34m\u001b[0m\u001b[0;34m\u001b[0m\u001b[0m\n",
      "\u001b[0;32m/opt/conda/lib/python3.7/site-packages/google/cloud/bigquery/job/base.py\u001b[0m in \u001b[0;36mresult\u001b[0;34m(self, retry, timeout)\u001b[0m\n\u001b[1;32m    726\u001b[0m \u001b[0;34m\u001b[0m\u001b[0m\n\u001b[1;32m    727\u001b[0m         \u001b[0mkwargs\u001b[0m \u001b[0;34m=\u001b[0m \u001b[0;34m{\u001b[0m\u001b[0;34m}\u001b[0m \u001b[0;32mif\u001b[0m \u001b[0mretry\u001b[0m \u001b[0;32mis\u001b[0m \u001b[0mDEFAULT_RETRY\u001b[0m \u001b[0;32melse\u001b[0m \u001b[0;34m{\u001b[0m\u001b[0;34m\"retry\"\u001b[0m\u001b[0;34m:\u001b[0m \u001b[0mretry\u001b[0m\u001b[0;34m}\u001b[0m\u001b[0;34m\u001b[0m\u001b[0;34m\u001b[0m\u001b[0m\n\u001b[0;32m--> 728\u001b[0;31m         \u001b[0;32mreturn\u001b[0m \u001b[0msuper\u001b[0m\u001b[0;34m(\u001b[0m\u001b[0m_AsyncJob\u001b[0m\u001b[0;34m,\u001b[0m \u001b[0mself\u001b[0m\u001b[0;34m)\u001b[0m\u001b[0;34m.\u001b[0m\u001b[0mresult\u001b[0m\u001b[0;34m(\u001b[0m\u001b[0mtimeout\u001b[0m\u001b[0;34m=\u001b[0m\u001b[0mtimeout\u001b[0m\u001b[0;34m,\u001b[0m \u001b[0;34m**\u001b[0m\u001b[0mkwargs\u001b[0m\u001b[0;34m)\u001b[0m\u001b[0;34m\u001b[0m\u001b[0;34m\u001b[0m\u001b[0m\n\u001b[0m\u001b[1;32m    729\u001b[0m \u001b[0;34m\u001b[0m\u001b[0m\n\u001b[1;32m    730\u001b[0m     \u001b[0;32mdef\u001b[0m \u001b[0mcancelled\u001b[0m\u001b[0;34m(\u001b[0m\u001b[0mself\u001b[0m\u001b[0;34m)\u001b[0m\u001b[0;34m:\u001b[0m\u001b[0;34m\u001b[0m\u001b[0;34m\u001b[0m\u001b[0m\n",
      "\u001b[0;32m/opt/conda/lib/python3.7/site-packages/google/api_core/future/polling.py\u001b[0m in \u001b[0;36mresult\u001b[0;34m(self, timeout, retry)\u001b[0m\n\u001b[1;32m    135\u001b[0m             \u001b[0;31m# pylint: disable=raising-bad-type\u001b[0m\u001b[0;34m\u001b[0m\u001b[0;34m\u001b[0m\u001b[0;34m\u001b[0m\u001b[0m\n\u001b[1;32m    136\u001b[0m             \u001b[0;31m# Pylint doesn't recognize that this is valid in this case.\u001b[0m\u001b[0;34m\u001b[0m\u001b[0;34m\u001b[0m\u001b[0;34m\u001b[0m\u001b[0m\n\u001b[0;32m--> 137\u001b[0;31m             \u001b[0;32mraise\u001b[0m \u001b[0mself\u001b[0m\u001b[0;34m.\u001b[0m\u001b[0m_exception\u001b[0m\u001b[0;34m\u001b[0m\u001b[0;34m\u001b[0m\u001b[0m\n\u001b[0m\u001b[1;32m    138\u001b[0m \u001b[0;34m\u001b[0m\u001b[0m\n\u001b[1;32m    139\u001b[0m         \u001b[0;32mreturn\u001b[0m \u001b[0mself\u001b[0m\u001b[0;34m.\u001b[0m\u001b[0m_result\u001b[0m\u001b[0;34m\u001b[0m\u001b[0;34m\u001b[0m\u001b[0m\n",
      "\u001b[0;31mBadRequest\u001b[0m: 400 Already Exists: Model statmike-mlops-349915.feature_engineering.03_feature_engineering_20221111114522\n\nLocation: EU\nJob ID: 3730d9d7-4160-4466-abd9-0a5f055a23da\n"
     ]
    }
   ],
   "source": [
    "TIMESTAMP = datetime.now().strftime(\"%Y%m%d%H%M%S\")\n",
    "RUN_NAME = f'run-{TIMESTAMP}'\n",
    "BQ_MODEL = f'{SERIES}_{EXPERIMENT}_{TIMESTAMP}'\n",
    "\n",
    "query = f\"\"\"\n",
    "CREATE MODEL `{BQ_PROJECT}.{BQ_DATASET}.{BQ_MODEL}`\n",
    "TRANSFORM (\n",
    "    * EXCEPT(V1, V2),\n",
    "    ML.MAX_ABS_SCALER(V1) OVER() as V1,\n",
    "    ML.ROBUST_SCALER(V2) OVER() as V2,\n",
    "    #ML.NORMALIZER(V3) OVER() as V3\n",
    ")\n",
    "OPTIONS (\n",
    "        model_type = 'LOGISTIC_REG',\n",
    "        auto_class_weights = TRUE,\n",
    "        input_label_cols = ['{VAR_TARGET}'],\n",
    "        enable_global_explain = TRUE,\n",
    "        data_split_method = 'AUTO_SPLIT',\n",
    "        MODEL_REGISTRY = 'VERTEX_AI',\n",
    "        VERTEX_AI_MODEL_ID = 'model_{SERIES}_{EXPERIMENT}',\n",
    "        VERTEX_AI_MODEL_VERSION_ALIASES = ['{RUN_NAME}', 'advanced_feature_engineering']\n",
    "    ) AS\n",
    "SELECT *\n",
    "FROM `{BQ_PROJECT}.{BQ_DATASET}.{BQ_TABLE}`\n",
    "\"\"\"\n",
    "job = bq.query(query = query)\n",
    "job.result()"
   ]
  },
  {
   "cell_type": "code",
   "execution_count": 30,
   "id": "22302e0d-9bb3-4548-8b05-33bc4a2970cf",
   "metadata": {},
   "outputs": [
    {
     "data": {
      "text/plain": [
       "170.744"
      ]
     },
     "execution_count": 30,
     "metadata": {},
     "output_type": "execute_result"
    }
   ],
   "source": [
    "(job.ended-job.started).total_seconds()"
   ]
  },
  {
   "cell_type": "code",
   "execution_count": 39,
   "id": "fe58f96b-aa33-494e-aa74-73dbfd83e632",
   "metadata": {},
   "outputs": [
    {
     "data": {
      "text/plain": [
       "70632136"
      ]
     },
     "execution_count": 39,
     "metadata": {},
     "output_type": "execute_result"
    }
   ],
   "source": [
    "job.total_bytes_processed"
   ]
  },
  {
   "cell_type": "markdown",
   "id": "adad4b1a-18cf-400b-8c60-c5ce336b5244",
   "metadata": {},
   "source": [
    "Add labels to the model in BigQuery:"
   ]
  },
  {
   "cell_type": "code",
   "execution_count": 31,
   "id": "1bd8bcf6-c33c-4d5a-8332-a92461951dee",
   "metadata": {},
   "outputs": [],
   "source": [
    "model = bq.get_model(f'{BQ_PROJECT}.{BQ_DATASET}.{BQ_MODEL}_AFE')\n",
    "model.labels = {'series' : f'{SERIES}', 'experiment' : f'{EXPERIMENT}'}\n",
    "model = bq.update_model(model, ['labels'])"
   ]
  },
  {
   "cell_type": "markdown",
   "id": "db3a3d30-6804-4f75-9148-49a8833cf604",
   "metadata": {},
   "source": [
    "Review the Model Inputs, the feature information, with [ML.FEATURE_INFO](https://cloud.google.com/bigquery-ml/docs/reference/standard-sql/bigqueryml-syntax-feature):"
   ]
  },
  {
   "cell_type": "code",
   "execution_count": 32,
   "id": "5ff8311c-12c5-4fcd-83f6-70eefbe118ac",
   "metadata": {},
   "outputs": [
    {
     "data": {
      "text/html": [
       "<div>\n",
       "<style scoped>\n",
       "    .dataframe tbody tr th:only-of-type {\n",
       "        vertical-align: middle;\n",
       "    }\n",
       "\n",
       "    .dataframe tbody tr th {\n",
       "        vertical-align: top;\n",
       "    }\n",
       "\n",
       "    .dataframe thead th {\n",
       "        text-align: right;\n",
       "    }\n",
       "</style>\n",
       "<table border=\"1\" class=\"dataframe\">\n",
       "  <thead>\n",
       "    <tr style=\"text-align: right;\">\n",
       "      <th></th>\n",
       "      <th>input</th>\n",
       "      <th>min</th>\n",
       "      <th>max</th>\n",
       "      <th>mean</th>\n",
       "      <th>median</th>\n",
       "      <th>stddev</th>\n",
       "      <th>category_count</th>\n",
       "      <th>null_count</th>\n",
       "      <th>dimension</th>\n",
       "    </tr>\n",
       "  </thead>\n",
       "  <tbody>\n",
       "    <tr>\n",
       "      <th>0</th>\n",
       "      <td>Time</td>\n",
       "      <td>0.000000</td>\n",
       "      <td>172792.000000</td>\n",
       "      <td>94819.368821</td>\n",
       "      <td>86044.000000</td>\n",
       "      <td>47471.724979</td>\n",
       "      <td>&lt;NA&gt;</td>\n",
       "      <td>0</td>\n",
       "      <td>&lt;NA&gt;</td>\n",
       "    </tr>\n",
       "    <tr>\n",
       "      <th>1</th>\n",
       "      <td>V1</td>\n",
       "      <td>-46.855047</td>\n",
       "      <td>2.454930</td>\n",
       "      <td>0.000906</td>\n",
       "      <td>-0.041542</td>\n",
       "      <td>1.953269</td>\n",
       "      <td>&lt;NA&gt;</td>\n",
       "      <td>0</td>\n",
       "      <td>&lt;NA&gt;</td>\n",
       "    </tr>\n",
       "    <tr>\n",
       "      <th>2</th>\n",
       "      <td>V2</td>\n",
       "      <td>-63.344698</td>\n",
       "      <td>22.057729</td>\n",
       "      <td>0.000080</td>\n",
       "      <td>0.048752</td>\n",
       "      <td>1.643143</td>\n",
       "      <td>&lt;NA&gt;</td>\n",
       "      <td>0</td>\n",
       "      <td>&lt;NA&gt;</td>\n",
       "    </tr>\n",
       "    <tr>\n",
       "      <th>3</th>\n",
       "      <td>V3</td>\n",
       "      <td>-48.325589</td>\n",
       "      <td>9.382558</td>\n",
       "      <td>-0.000548</td>\n",
       "      <td>0.193006</td>\n",
       "      <td>1.514012</td>\n",
       "      <td>&lt;NA&gt;</td>\n",
       "      <td>0</td>\n",
       "      <td>&lt;NA&gt;</td>\n",
       "    </tr>\n",
       "    <tr>\n",
       "      <th>4</th>\n",
       "      <td>V4</td>\n",
       "      <td>-5.683171</td>\n",
       "      <td>16.875344</td>\n",
       "      <td>-0.000894</td>\n",
       "      <td>0.002292</td>\n",
       "      <td>1.414922</td>\n",
       "      <td>&lt;NA&gt;</td>\n",
       "      <td>0</td>\n",
       "      <td>&lt;NA&gt;</td>\n",
       "    </tr>\n",
       "    <tr>\n",
       "      <th>5</th>\n",
       "      <td>V5</td>\n",
       "      <td>-113.743307</td>\n",
       "      <td>34.099309</td>\n",
       "      <td>0.000092</td>\n",
       "      <td>-0.050779</td>\n",
       "      <td>1.378868</td>\n",
       "      <td>&lt;NA&gt;</td>\n",
       "      <td>0</td>\n",
       "      <td>&lt;NA&gt;</td>\n",
       "    </tr>\n",
       "    <tr>\n",
       "      <th>6</th>\n",
       "      <td>V6</td>\n",
       "      <td>-23.496714</td>\n",
       "      <td>73.301626</td>\n",
       "      <td>0.000223</td>\n",
       "      <td>-0.306716</td>\n",
       "      <td>1.331745</td>\n",
       "      <td>&lt;NA&gt;</td>\n",
       "      <td>0</td>\n",
       "      <td>&lt;NA&gt;</td>\n",
       "    </tr>\n",
       "    <tr>\n",
       "      <th>7</th>\n",
       "      <td>V7</td>\n",
       "      <td>-43.557242</td>\n",
       "      <td>120.589494</td>\n",
       "      <td>0.000765</td>\n",
       "      <td>0.033950</td>\n",
       "      <td>1.236094</td>\n",
       "      <td>&lt;NA&gt;</td>\n",
       "      <td>0</td>\n",
       "      <td>&lt;NA&gt;</td>\n",
       "    </tr>\n",
       "    <tr>\n",
       "      <th>8</th>\n",
       "      <td>V8</td>\n",
       "      <td>-73.216718</td>\n",
       "      <td>20.007208</td>\n",
       "      <td>-0.000559</td>\n",
       "      <td>0.020415</td>\n",
       "      <td>1.195511</td>\n",
       "      <td>&lt;NA&gt;</td>\n",
       "      <td>0</td>\n",
       "      <td>&lt;NA&gt;</td>\n",
       "    </tr>\n",
       "    <tr>\n",
       "      <th>9</th>\n",
       "      <td>V9</td>\n",
       "      <td>-13.320155</td>\n",
       "      <td>15.594995</td>\n",
       "      <td>-0.000346</td>\n",
       "      <td>-0.049993</td>\n",
       "      <td>1.098277</td>\n",
       "      <td>&lt;NA&gt;</td>\n",
       "      <td>0</td>\n",
       "      <td>&lt;NA&gt;</td>\n",
       "    </tr>\n",
       "    <tr>\n",
       "      <th>10</th>\n",
       "      <td>V10</td>\n",
       "      <td>-24.588262</td>\n",
       "      <td>23.745136</td>\n",
       "      <td>-0.000434</td>\n",
       "      <td>-0.105840</td>\n",
       "      <td>1.086693</td>\n",
       "      <td>&lt;NA&gt;</td>\n",
       "      <td>0</td>\n",
       "      <td>&lt;NA&gt;</td>\n",
       "    </tr>\n",
       "    <tr>\n",
       "      <th>11</th>\n",
       "      <td>V11</td>\n",
       "      <td>-4.797473</td>\n",
       "      <td>12.018913</td>\n",
       "      <td>0.000434</td>\n",
       "      <td>-0.018523</td>\n",
       "      <td>1.019805</td>\n",
       "      <td>&lt;NA&gt;</td>\n",
       "      <td>0</td>\n",
       "      <td>&lt;NA&gt;</td>\n",
       "    </tr>\n",
       "    <tr>\n",
       "      <th>12</th>\n",
       "      <td>V12</td>\n",
       "      <td>-18.683715</td>\n",
       "      <td>7.848392</td>\n",
       "      <td>0.000230</td>\n",
       "      <td>0.151160</td>\n",
       "      <td>0.998216</td>\n",
       "      <td>&lt;NA&gt;</td>\n",
       "      <td>0</td>\n",
       "      <td>&lt;NA&gt;</td>\n",
       "    </tr>\n",
       "    <tr>\n",
       "      <th>13</th>\n",
       "      <td>V13</td>\n",
       "      <td>-5.791881</td>\n",
       "      <td>7.126883</td>\n",
       "      <td>0.000489</td>\n",
       "      <td>-0.007708</td>\n",
       "      <td>0.995167</td>\n",
       "      <td>&lt;NA&gt;</td>\n",
       "      <td>0</td>\n",
       "      <td>&lt;NA&gt;</td>\n",
       "    </tr>\n",
       "    <tr>\n",
       "      <th>14</th>\n",
       "      <td>V14</td>\n",
       "      <td>-19.214325</td>\n",
       "      <td>10.526766</td>\n",
       "      <td>0.000601</td>\n",
       "      <td>0.067935</td>\n",
       "      <td>0.957745</td>\n",
       "      <td>&lt;NA&gt;</td>\n",
       "      <td>0</td>\n",
       "      <td>&lt;NA&gt;</td>\n",
       "    </tr>\n",
       "    <tr>\n",
       "      <th>15</th>\n",
       "      <td>V15</td>\n",
       "      <td>-4.498945</td>\n",
       "      <td>8.877742</td>\n",
       "      <td>0.000365</td>\n",
       "      <td>0.047068</td>\n",
       "      <td>0.914939</td>\n",
       "      <td>&lt;NA&gt;</td>\n",
       "      <td>0</td>\n",
       "      <td>&lt;NA&gt;</td>\n",
       "    </tr>\n",
       "    <tr>\n",
       "      <th>16</th>\n",
       "      <td>V16</td>\n",
       "      <td>-14.129855</td>\n",
       "      <td>17.315112</td>\n",
       "      <td>-0.000328</td>\n",
       "      <td>0.072093</td>\n",
       "      <td>0.875577</td>\n",
       "      <td>&lt;NA&gt;</td>\n",
       "      <td>0</td>\n",
       "      <td>&lt;NA&gt;</td>\n",
       "    </tr>\n",
       "    <tr>\n",
       "      <th>17</th>\n",
       "      <td>V17</td>\n",
       "      <td>-25.162799</td>\n",
       "      <td>9.253526</td>\n",
       "      <td>0.000068</td>\n",
       "      <td>-0.075949</td>\n",
       "      <td>0.847579</td>\n",
       "      <td>&lt;NA&gt;</td>\n",
       "      <td>0</td>\n",
       "      <td>&lt;NA&gt;</td>\n",
       "    </tr>\n",
       "    <tr>\n",
       "      <th>18</th>\n",
       "      <td>V18</td>\n",
       "      <td>-9.498746</td>\n",
       "      <td>5.041069</td>\n",
       "      <td>0.000101</td>\n",
       "      <td>-0.017655</td>\n",
       "      <td>0.837851</td>\n",
       "      <td>&lt;NA&gt;</td>\n",
       "      <td>0</td>\n",
       "      <td>&lt;NA&gt;</td>\n",
       "    </tr>\n",
       "    <tr>\n",
       "      <th>19</th>\n",
       "      <td>V19</td>\n",
       "      <td>-7.213527</td>\n",
       "      <td>5.591971</td>\n",
       "      <td>0.000004</td>\n",
       "      <td>0.012246</td>\n",
       "      <td>0.814124</td>\n",
       "      <td>&lt;NA&gt;</td>\n",
       "      <td>0</td>\n",
       "      <td>&lt;NA&gt;</td>\n",
       "    </tr>\n",
       "    <tr>\n",
       "      <th>20</th>\n",
       "      <td>V20</td>\n",
       "      <td>-54.497720</td>\n",
       "      <td>39.420904</td>\n",
       "      <td>-0.000100</td>\n",
       "      <td>-0.059950</td>\n",
       "      <td>0.769048</td>\n",
       "      <td>&lt;NA&gt;</td>\n",
       "      <td>0</td>\n",
       "      <td>&lt;NA&gt;</td>\n",
       "    </tr>\n",
       "    <tr>\n",
       "      <th>21</th>\n",
       "      <td>V21</td>\n",
       "      <td>-34.830382</td>\n",
       "      <td>27.202839</td>\n",
       "      <td>0.000246</td>\n",
       "      <td>-0.035366</td>\n",
       "      <td>0.737267</td>\n",
       "      <td>&lt;NA&gt;</td>\n",
       "      <td>0</td>\n",
       "      <td>&lt;NA&gt;</td>\n",
       "    </tr>\n",
       "    <tr>\n",
       "      <th>22</th>\n",
       "      <td>V22</td>\n",
       "      <td>-10.933144</td>\n",
       "      <td>10.503090</td>\n",
       "      <td>-0.000136</td>\n",
       "      <td>0.000002</td>\n",
       "      <td>0.725722</td>\n",
       "      <td>&lt;NA&gt;</td>\n",
       "      <td>0</td>\n",
       "      <td>&lt;NA&gt;</td>\n",
       "    </tr>\n",
       "    <tr>\n",
       "      <th>23</th>\n",
       "      <td>V23</td>\n",
       "      <td>-44.807735</td>\n",
       "      <td>22.528412</td>\n",
       "      <td>0.000147</td>\n",
       "      <td>-0.009334</td>\n",
       "      <td>0.624187</td>\n",
       "      <td>&lt;NA&gt;</td>\n",
       "      <td>0</td>\n",
       "      <td>&lt;NA&gt;</td>\n",
       "    </tr>\n",
       "    <tr>\n",
       "      <th>24</th>\n",
       "      <td>V24</td>\n",
       "      <td>-2.836627</td>\n",
       "      <td>4.584549</td>\n",
       "      <td>-0.000150</td>\n",
       "      <td>0.033711</td>\n",
       "      <td>0.605674</td>\n",
       "      <td>&lt;NA&gt;</td>\n",
       "      <td>0</td>\n",
       "      <td>&lt;NA&gt;</td>\n",
       "    </tr>\n",
       "    <tr>\n",
       "      <th>25</th>\n",
       "      <td>V25</td>\n",
       "      <td>-10.295397</td>\n",
       "      <td>7.519589</td>\n",
       "      <td>0.000201</td>\n",
       "      <td>0.007738</td>\n",
       "      <td>0.521183</td>\n",
       "      <td>&lt;NA&gt;</td>\n",
       "      <td>0</td>\n",
       "      <td>&lt;NA&gt;</td>\n",
       "    </tr>\n",
       "    <tr>\n",
       "      <th>26</th>\n",
       "      <td>V26</td>\n",
       "      <td>-2.604551</td>\n",
       "      <td>3.517346</td>\n",
       "      <td>0.000087</td>\n",
       "      <td>-0.050536</td>\n",
       "      <td>0.482340</td>\n",
       "      <td>&lt;NA&gt;</td>\n",
       "      <td>0</td>\n",
       "      <td>&lt;NA&gt;</td>\n",
       "    </tr>\n",
       "    <tr>\n",
       "      <th>27</th>\n",
       "      <td>V27</td>\n",
       "      <td>-22.565679</td>\n",
       "      <td>31.612198</td>\n",
       "      <td>-0.000095</td>\n",
       "      <td>0.003180</td>\n",
       "      <td>0.404236</td>\n",
       "      <td>&lt;NA&gt;</td>\n",
       "      <td>0</td>\n",
       "      <td>&lt;NA&gt;</td>\n",
       "    </tr>\n",
       "    <tr>\n",
       "      <th>28</th>\n",
       "      <td>V28</td>\n",
       "      <td>-15.430084</td>\n",
       "      <td>22.620072</td>\n",
       "      <td>-0.000066</td>\n",
       "      <td>0.011255</td>\n",
       "      <td>0.324088</td>\n",
       "      <td>&lt;NA&gt;</td>\n",
       "      <td>0</td>\n",
       "      <td>&lt;NA&gt;</td>\n",
       "    </tr>\n",
       "    <tr>\n",
       "      <th>29</th>\n",
       "      <td>Amount</td>\n",
       "      <td>0.000000</td>\n",
       "      <td>25691.160000</td>\n",
       "      <td>88.394934</td>\n",
       "      <td>22.560000</td>\n",
       "      <td>250.037640</td>\n",
       "      <td>&lt;NA&gt;</td>\n",
       "      <td>0</td>\n",
       "      <td>&lt;NA&gt;</td>\n",
       "    </tr>\n",
       "  </tbody>\n",
       "</table>\n",
       "</div>"
      ],
      "text/plain": [
       "     input         min            max          mean        median  \\\n",
       "0     Time    0.000000  172792.000000  94819.368821  86044.000000   \n",
       "1       V1  -46.855047       2.454930      0.000906     -0.041542   \n",
       "2       V2  -63.344698      22.057729      0.000080      0.048752   \n",
       "3       V3  -48.325589       9.382558     -0.000548      0.193006   \n",
       "4       V4   -5.683171      16.875344     -0.000894      0.002292   \n",
       "5       V5 -113.743307      34.099309      0.000092     -0.050779   \n",
       "6       V6  -23.496714      73.301626      0.000223     -0.306716   \n",
       "7       V7  -43.557242     120.589494      0.000765      0.033950   \n",
       "8       V8  -73.216718      20.007208     -0.000559      0.020415   \n",
       "9       V9  -13.320155      15.594995     -0.000346     -0.049993   \n",
       "10     V10  -24.588262      23.745136     -0.000434     -0.105840   \n",
       "11     V11   -4.797473      12.018913      0.000434     -0.018523   \n",
       "12     V12  -18.683715       7.848392      0.000230      0.151160   \n",
       "13     V13   -5.791881       7.126883      0.000489     -0.007708   \n",
       "14     V14  -19.214325      10.526766      0.000601      0.067935   \n",
       "15     V15   -4.498945       8.877742      0.000365      0.047068   \n",
       "16     V16  -14.129855      17.315112     -0.000328      0.072093   \n",
       "17     V17  -25.162799       9.253526      0.000068     -0.075949   \n",
       "18     V18   -9.498746       5.041069      0.000101     -0.017655   \n",
       "19     V19   -7.213527       5.591971      0.000004      0.012246   \n",
       "20     V20  -54.497720      39.420904     -0.000100     -0.059950   \n",
       "21     V21  -34.830382      27.202839      0.000246     -0.035366   \n",
       "22     V22  -10.933144      10.503090     -0.000136      0.000002   \n",
       "23     V23  -44.807735      22.528412      0.000147     -0.009334   \n",
       "24     V24   -2.836627       4.584549     -0.000150      0.033711   \n",
       "25     V25  -10.295397       7.519589      0.000201      0.007738   \n",
       "26     V26   -2.604551       3.517346      0.000087     -0.050536   \n",
       "27     V27  -22.565679      31.612198     -0.000095      0.003180   \n",
       "28     V28  -15.430084      22.620072     -0.000066      0.011255   \n",
       "29  Amount    0.000000   25691.160000     88.394934     22.560000   \n",
       "\n",
       "          stddev  category_count  null_count  dimension  \n",
       "0   47471.724979            <NA>           0       <NA>  \n",
       "1       1.953269            <NA>           0       <NA>  \n",
       "2       1.643143            <NA>           0       <NA>  \n",
       "3       1.514012            <NA>           0       <NA>  \n",
       "4       1.414922            <NA>           0       <NA>  \n",
       "5       1.378868            <NA>           0       <NA>  \n",
       "6       1.331745            <NA>           0       <NA>  \n",
       "7       1.236094            <NA>           0       <NA>  \n",
       "8       1.195511            <NA>           0       <NA>  \n",
       "9       1.098277            <NA>           0       <NA>  \n",
       "10      1.086693            <NA>           0       <NA>  \n",
       "11      1.019805            <NA>           0       <NA>  \n",
       "12      0.998216            <NA>           0       <NA>  \n",
       "13      0.995167            <NA>           0       <NA>  \n",
       "14      0.957745            <NA>           0       <NA>  \n",
       "15      0.914939            <NA>           0       <NA>  \n",
       "16      0.875577            <NA>           0       <NA>  \n",
       "17      0.847579            <NA>           0       <NA>  \n",
       "18      0.837851            <NA>           0       <NA>  \n",
       "19      0.814124            <NA>           0       <NA>  \n",
       "20      0.769048            <NA>           0       <NA>  \n",
       "21      0.737267            <NA>           0       <NA>  \n",
       "22      0.725722            <NA>           0       <NA>  \n",
       "23      0.624187            <NA>           0       <NA>  \n",
       "24      0.605674            <NA>           0       <NA>  \n",
       "25      0.521183            <NA>           0       <NA>  \n",
       "26      0.482340            <NA>           0       <NA>  \n",
       "27      0.404236            <NA>           0       <NA>  \n",
       "28      0.324088            <NA>           0       <NA>  \n",
       "29    250.037640            <NA>           0       <NA>  "
      ]
     },
     "execution_count": 32,
     "metadata": {},
     "output_type": "execute_result"
    }
   ],
   "source": [
    "feature_info = bq.query(\n",
    "    query = f\"\"\"\n",
    "        SELECT *\n",
    "        FROM ML.FEATURE_INFO(MODEL `{BQ_PROJECT}.{BQ_DATASET}.{BQ_MODEL}_AFE`)\n",
    "        \"\"\"\n",
    ").to_dataframe()\n",
    "feature_info"
   ]
  },
  {
   "cell_type": "markdown",
   "id": "a911183c-9b7b-4216-ad6e-2839bff0f9fc",
   "metadata": {},
   "source": [
    "Review the iterations from training with [ML.TRAINING_INFO](https://cloud.google.com/bigquery-ml/docs/reference/standard-sql/bigqueryml-syntax-train):"
   ]
  },
  {
   "cell_type": "code",
   "execution_count": 33,
   "id": "faccec62-d66a-4720-9a1c-db7159fa7e39",
   "metadata": {},
   "outputs": [
    {
     "data": {
      "text/html": [
       "<div>\n",
       "<style scoped>\n",
       "    .dataframe tbody tr th:only-of-type {\n",
       "        vertical-align: middle;\n",
       "    }\n",
       "\n",
       "    .dataframe tbody tr th {\n",
       "        vertical-align: top;\n",
       "    }\n",
       "\n",
       "    .dataframe thead th {\n",
       "        text-align: right;\n",
       "    }\n",
       "</style>\n",
       "<table border=\"1\" class=\"dataframe\">\n",
       "  <thead>\n",
       "    <tr style=\"text-align: right;\">\n",
       "      <th></th>\n",
       "      <th>training_run</th>\n",
       "      <th>iteration</th>\n",
       "      <th>loss</th>\n",
       "      <th>eval_loss</th>\n",
       "      <th>learning_rate</th>\n",
       "      <th>duration_ms</th>\n",
       "    </tr>\n",
       "  </thead>\n",
       "  <tbody>\n",
       "    <tr>\n",
       "      <th>0</th>\n",
       "      <td>0</td>\n",
       "      <td>0</td>\n",
       "      <td>0.683058</td>\n",
       "      <td>0.686816</td>\n",
       "      <td>0.2</td>\n",
       "      <td>10975</td>\n",
       "    </tr>\n",
       "    <tr>\n",
       "      <th>1</th>\n",
       "      <td>0</td>\n",
       "      <td>1</td>\n",
       "      <td>0.644951</td>\n",
       "      <td>0.649081</td>\n",
       "      <td>0.4</td>\n",
       "      <td>9718</td>\n",
       "    </tr>\n",
       "    <tr>\n",
       "      <th>2</th>\n",
       "      <td>0</td>\n",
       "      <td>2</td>\n",
       "      <td>0.577088</td>\n",
       "      <td>0.581807</td>\n",
       "      <td>0.8</td>\n",
       "      <td>9832</td>\n",
       "    </tr>\n",
       "    <tr>\n",
       "      <th>3</th>\n",
       "      <td>0</td>\n",
       "      <td>3</td>\n",
       "      <td>0.469349</td>\n",
       "      <td>0.474834</td>\n",
       "      <td>1.6</td>\n",
       "      <td>11112</td>\n",
       "    </tr>\n",
       "    <tr>\n",
       "      <th>4</th>\n",
       "      <td>0</td>\n",
       "      <td>4</td>\n",
       "      <td>0.332700</td>\n",
       "      <td>0.338950</td>\n",
       "      <td>3.2</td>\n",
       "      <td>10998</td>\n",
       "    </tr>\n",
       "    <tr>\n",
       "      <th>5</th>\n",
       "      <td>0</td>\n",
       "      <td>5</td>\n",
       "      <td>0.214496</td>\n",
       "      <td>0.221454</td>\n",
       "      <td>6.4</td>\n",
       "      <td>10561</td>\n",
       "    </tr>\n",
       "    <tr>\n",
       "      <th>6</th>\n",
       "      <td>0</td>\n",
       "      <td>6</td>\n",
       "      <td>0.155707</td>\n",
       "      <td>0.163524</td>\n",
       "      <td>12.8</td>\n",
       "      <td>12274</td>\n",
       "    </tr>\n",
       "    <tr>\n",
       "      <th>7</th>\n",
       "      <td>0</td>\n",
       "      <td>7</td>\n",
       "      <td>0.115863</td>\n",
       "      <td>0.123349</td>\n",
       "      <td>25.6</td>\n",
       "      <td>12597</td>\n",
       "    </tr>\n",
       "  </tbody>\n",
       "</table>\n",
       "</div>"
      ],
      "text/plain": [
       "   training_run  iteration      loss  eval_loss  learning_rate  duration_ms\n",
       "0             0          0  0.683058   0.686816            0.2        10975\n",
       "1             0          1  0.644951   0.649081            0.4         9718\n",
       "2             0          2  0.577088   0.581807            0.8         9832\n",
       "3             0          3  0.469349   0.474834            1.6        11112\n",
       "4             0          4  0.332700   0.338950            3.2        10998\n",
       "5             0          5  0.214496   0.221454            6.4        10561\n",
       "6             0          6  0.155707   0.163524           12.8        12274\n",
       "7             0          7  0.115863   0.123349           25.6        12597"
      ]
     },
     "execution_count": 33,
     "metadata": {},
     "output_type": "execute_result"
    }
   ],
   "source": [
    "history = bq.query(\n",
    "    query = f\"\"\"\n",
    "        SELECT *\n",
    "        FROM ML.TRAINING_INFO(MODEL `{BQ_PROJECT}.{BQ_DATASET}.{BQ_MODEL}_AFE`)\n",
    "        ORDER BY iteration\"\"\"\n",
    ").to_dataframe()\n",
    "history"
   ]
  },
  {
   "cell_type": "markdown",
   "id": "cb0c73e5-4198-4e59-beb6-e18a1b9a15aa",
   "metadata": {},
   "source": [
    "Plot the loss history:"
   ]
  },
  {
   "cell_type": "code",
   "execution_count": 34,
   "id": "6df62055-4ebd-4726-8ac3-294c85aee31a",
   "metadata": {},
   "outputs": [
    {
     "data": {
      "text/plain": [
       "<AxesSubplot:xlabel='iteration'>"
      ]
     },
     "execution_count": 34,
     "metadata": {},
     "output_type": "execute_result"
    },
    {
     "data": {
      "image/png": "[encoded data removed]",
      "text/plain": [
       "<Figure size 720x360 with 1 Axes>"
      ]
     },
     "metadata": {
      "needs_background": "light"
     },
     "output_type": "display_data"
    }
   ],
   "source": [
    "history.plot(x = 'iteration', y = ['loss','eval_loss'], figsize = (10, 5), grid = True)"
   ]
  },
  {
   "cell_type": "markdown",
   "id": "64292d85-2109-445c-8066-a077b2a9fede",
   "metadata": {},
   "source": [
    "### Check out this model in BigQuery Console:\n",
    "- Make sure project selected is the one from this notebook\n",
    "- Under Explore, expand this project and dataset\n",
    "- Expand Models and select the model create here"
   ]
  },
  {
   "cell_type": "code",
   "execution_count": 35,
   "id": "69ddded0-355a-4977-af91-37dab88ebfc8",
   "metadata": {},
   "outputs": [
    {
     "name": "stdout",
     "output_type": "stream",
     "text": [
      "BigQuery Console for Project:\n",
      "https://console.cloud.google.com/bigquery?project=statmike-mlops-349915\n"
     ]
    }
   ],
   "source": [
    "print(f'BigQuery Console for Project:\\nhttps://console.cloud.google.com/bigquery?project={PROJECT_ID}')"
   ]
  },
  {
   "cell_type": "code",
   "execution_count": 36,
   "id": "2fc7421d-d6ea-42ba-ba3f-bb23d42230f1",
   "metadata": {},
   "outputs": [
    {
     "name": "stdout",
     "output_type": "stream",
     "text": [
      "Direct link to the model in BigQuery:\n",
      "https://console.cloud.google.com/bigquery?project=statmike-mlops-349915&ws=!1m5!1m4!5m3!1sstatmike-mlops-349915!2sfeature_engineering!3s03_fe_20221109002538\n"
     ]
    }
   ],
   "source": [
    "print(f'Direct link to the model in BigQuery:\\nhttps://console.cloud.google.com/bigquery?project={PROJECT_ID}&ws=!1m5!1m4!5m3!1s{PROJECT_ID}!2s{BQ_DATASET}!3s{BQ_MODEL}_AFE')"
   ]
  },
  {
   "cell_type": "markdown",
   "id": "6d64b59c-65d8-46e3-9d74-e01f7dfcb467",
   "metadata": {},
   "source": [
    "---\n",
    "## Serving"
   ]
  },
  {
   "cell_type": "markdown",
   "id": "5f93b212-a130-4fcf-a969-1bc17148f740",
   "metadata": {},
   "source": [
    "### Vertex AI Model Registry - Get Model\n",
    "\n",
    "References:\n",
    "- [aiplatform.Model()](https://cloud.google.com/python/docs/reference/aiplatform/latest/google.cloud.aiplatform.Model)"
   ]
  },
  {
   "cell_type": "code",
   "execution_count": 44,
   "id": "a20718ab-73f8-41fc-9028-59b0db561ea9",
   "metadata": {},
   "outputs": [],
   "source": [
    "model = aiplatform.Model(model_name = f'model_{SERIES}_{EXPERIMENT}')"
   ]
  },
  {
   "cell_type": "code",
   "execution_count": 45,
   "id": "c8b1abc4-623e-498e-8ea7-9ae498cde726",
   "metadata": {},
   "outputs": [
    {
     "data": {
      "text/plain": [
       "'projects/1026793852137/locations/us-central1/models/model_03_fe@1'"
      ]
     },
     "execution_count": 45,
     "metadata": {},
     "output_type": "execute_result"
    }
   ],
   "source": [
    "model.versioned_resource_name"
   ]
  },
  {
   "cell_type": "markdown",
   "id": "c6dbb3ac-ae06-42a0-89ba-4fa7d3ff39df",
   "metadata": {},
   "source": [
    "### Vertex AI Endpoint - Create or Retrieve\n",
    "\n",
    "References:\n",
    "- [aiplatform.Endpoint()](https://cloud.google.com/python/docs/reference/aiplatform/latest/google.cloud.aiplatform.Endpoint)"
   ]
  },
  {
   "cell_type": "code",
   "execution_count": 46,
   "id": "bd66fc34-0275-45f2-a9c0-9609dc6934bb",
   "metadata": {},
   "outputs": [
    {
     "name": "stdout",
     "output_type": "stream",
     "text": [
      "Creating Endpoint\n",
      "Create Endpoint backing LRO: projects/1026793852137/locations/us-central1/endpoints/6193790891820318720/operations/3825061658653360128\n",
      "Endpoint created. Resource name: projects/1026793852137/locations/us-central1/endpoints/6193790891820318720\n",
      "To use this Endpoint in another session:\n",
      "endpoint = aiplatform.Endpoint('projects/1026793852137/locations/us-central1/endpoints/6193790891820318720')\n",
      "Endpoint Created: projects/1026793852137/locations/us-central1/endpoints/6193790891820318720\n",
      "Review the Endpoint in the Console:\n",
      "https://console.cloud.google.com/vertex-ai/locations/us-central1/endpoints/6193790891820318720?project=statmike-mlops-349915\n"
     ]
    }
   ],
   "source": [
    "endpoints = aiplatform.Endpoint.list(filter = f\"labels.series={SERIES}\")\n",
    "if endpoints:\n",
    "    endpoint = endpoints[0]\n",
    "    print(f\"Endpoint Exists: {endpoints[0].resource_name}\")\n",
    "else:\n",
    "    endpoint = aiplatform.Endpoint.create(\n",
    "        display_name = f\"{SERIES}\",\n",
    "        labels = {'series' : f\"{SERIES}\"}    \n",
    "    )\n",
    "    print(f\"Endpoint Created: {endpoint.resource_name}\")\n",
    "\n",
    "print(f'Review the Endpoint in the Console:\\nhttps://console.cloud.google.com/vertex-ai/locations/{REGION}/endpoints/{endpoint.name}?project={PROJECT_ID}')"
   ]
  },
  {
   "cell_type": "code",
   "execution_count": 47,
   "id": "59271b28-ee7f-44b4-ba08-f7f1b878cd2e",
   "metadata": {},
   "outputs": [
    {
     "data": {
      "text/plain": [
       "'03'"
      ]
     },
     "execution_count": 47,
     "metadata": {},
     "output_type": "execute_result"
    }
   ],
   "source": [
    "endpoint.display_name"
   ]
  },
  {
   "cell_type": "code",
   "execution_count": 48,
   "id": "eb6a538b-64a3-4909-b0bb-0e0774d0a33d",
   "metadata": {},
   "outputs": [
    {
     "data": {
      "text/plain": [
       "{}"
      ]
     },
     "execution_count": 48,
     "metadata": {},
     "output_type": "execute_result"
    }
   ],
   "source": [
    "endpoint.traffic_split"
   ]
  },
  {
   "cell_type": "code",
   "execution_count": 49,
   "id": "a3b29fbf-666b-426f-bc5c-78ad40e5b194",
   "metadata": {},
   "outputs": [],
   "source": [
    "deployed_models = endpoint.list_models()\n",
    "#deployed_models"
   ]
  },
  {
   "cell_type": "markdown",
   "id": "57e353af-ccfd-4aac-ae29-495526c53aa4",
   "metadata": {},
   "source": [
    "### Deploy Model To Vertex AI Endpoint"
   ]
  },
  {
   "cell_type": "code",
   "execution_count": 52,
   "id": "2446adc7-a2f0-4dae-99ff-5803b4fd1960",
   "metadata": {},
   "outputs": [
    {
     "name": "stdout",
     "output_type": "stream",
     "text": [
      "Deploying model with 100% of traffic...\n",
      "Deploying Model projects/1026793852137/locations/us-central1/models/model_03_fe to Endpoint : projects/1026793852137/locations/us-central1/endpoints/6193790891820318720\n",
      "Deploy Endpoint model backing LRO: projects/1026793852137/locations/us-central1/endpoints/6193790891820318720/operations/6761408615698923520\n",
      "Endpoint model deployed. Resource name: projects/1026793852137/locations/us-central1/endpoints/6193790891820318720\n"
     ]
    }
   ],
   "source": [
    "if (model.display_name, model.version_id) not in [(deployed_model.display_name, deployed_model.model_version_id) for deployed_model in endpoint.list_models()]:\n",
    "    print(f'Deploying model with 100% of traffic...')\n",
    "    endpoint.deploy(\n",
    "        model = model,\n",
    "        deployed_model_display_name = model.display_name,\n",
    "        traffic_percentage = 100,\n",
    "        machine_type = DEPLOY_COMPUTE,\n",
    "        min_replica_count = 1,\n",
    "        max_replica_count = 1\n",
    "    )\n",
    "else: \n",
    "    print(f'The current model/version is already deployed.')"
   ]
  },
  {
   "cell_type": "markdown",
   "id": "bd917c61-291d-4cf3-abba-6a60a78c874e",
   "metadata": {},
   "source": [
    "### Remove Deployed Models without Traffic"
   ]
  },
  {
   "cell_type": "code",
   "execution_count": 53,
   "id": "75d4653a-add8-4abd-bebb-c481706367f4",
   "metadata": {},
   "outputs": [
    {
     "name": "stdout",
     "output_type": "stream",
     "text": [
      "Model model_03_fe with version 1 has traffic = 100\n"
     ]
    }
   ],
   "source": [
    "for deployed_model in endpoint.list_models():\n",
    "    if deployed_model.id in endpoint.traffic_split:\n",
    "        print(f\"Model {deployed_model.display_name} with version {deployed_model.model_version_id} has traffic = {endpoint.traffic_split[deployed_model.id]}\")\n",
    "    else:\n",
    "        endpoint.undeploy(deployed_model_id = deployed_model.id)\n",
    "        print(f\"Undeploying {deployed_model.display_name} with version {deployed_model.model_version_id} because it has no traffic.\")"
   ]
  },
  {
   "cell_type": "code",
   "execution_count": 54,
   "id": "981f26f5-5814-4259-8886-df6b8dc47f38",
   "metadata": {},
   "outputs": [
    {
     "data": {
      "text/plain": [
       "{'6895982997783183360': 100}"
      ]
     },
     "execution_count": 54,
     "metadata": {},
     "output_type": "execute_result"
    }
   ],
   "source": [
    "endpoint.traffic_split"
   ]
  },
  {
   "cell_type": "code",
   "execution_count": 55,
   "id": "56e95a11-ec83-4bc0-ab9d-bf28d68e4403",
   "metadata": {},
   "outputs": [],
   "source": [
    "#endpoint.list_models()"
   ]
  },
  {
   "cell_type": "markdown",
   "id": "ecf9e01b-984a-4bfd-bdb4-e090e40023dd",
   "metadata": {},
   "source": [
    "---\n",
    "## Prediction"
   ]
  },
  {
   "cell_type": "markdown",
   "id": "587f87c8-9a36-476b-99f8-5923fc35027a",
   "metadata": {},
   "source": [
    "### Retrieve Records For Prediction"
   ]
  },
  {
   "cell_type": "code",
   "execution_count": 58,
   "id": "f06920aa-b15f-4b3a-9bad-70e48258f202",
   "metadata": {},
   "outputs": [],
   "source": [
    "n = 10\n",
    "pred = bq.query(\n",
    "    query = f\"\"\"\n",
    "        SELECT * EXCEPT({VAR_TARGET})\n",
    "        FROM {BQ_PROJECT}.{BQ_DATASET}.{BQ_TABLE}\n",
    "        LIMIT {n}\n",
    "    \"\"\"\n",
    ").to_dataframe()"
   ]
  },
  {
   "cell_type": "code",
   "execution_count": 59,
   "id": "fbe27666-ad78-4e29-9a3f-5e485bdb5306",
   "metadata": {},
   "outputs": [
    {
     "data": {
      "text/html": [
       "<div>\n",
       "<style scoped>\n",
       "    .dataframe tbody tr th:only-of-type {\n",
       "        vertical-align: middle;\n",
       "    }\n",
       "\n",
       "    .dataframe tbody tr th {\n",
       "        vertical-align: top;\n",
       "    }\n",
       "\n",
       "    .dataframe thead th {\n",
       "        text-align: right;\n",
       "    }\n",
       "</style>\n",
       "<table border=\"1\" class=\"dataframe\">\n",
       "  <thead>\n",
       "    <tr style=\"text-align: right;\">\n",
       "      <th></th>\n",
       "      <th>Time</th>\n",
       "      <th>V1</th>\n",
       "      <th>V2</th>\n",
       "      <th>V3</th>\n",
       "      <th>V4</th>\n",
       "      <th>V5</th>\n",
       "      <th>V6</th>\n",
       "      <th>V7</th>\n",
       "      <th>V8</th>\n",
       "      <th>V9</th>\n",
       "      <th>...</th>\n",
       "      <th>V21</th>\n",
       "      <th>V22</th>\n",
       "      <th>V23</th>\n",
       "      <th>V24</th>\n",
       "      <th>V25</th>\n",
       "      <th>V26</th>\n",
       "      <th>V27</th>\n",
       "      <th>V28</th>\n",
       "      <th>Amount</th>\n",
       "      <th>Class</th>\n",
       "    </tr>\n",
       "  </thead>\n",
       "  <tbody>\n",
       "    <tr>\n",
       "      <th>0</th>\n",
       "      <td>37294.0</td>\n",
       "      <td>1.168909</td>\n",
       "      <td>-0.139981</td>\n",
       "      <td>-0.095518</td>\n",
       "      <td>1.735426</td>\n",
       "      <td>1.699903</td>\n",
       "      <td>4.646212</td>\n",
       "      <td>-1.191502</td>\n",
       "      <td>1.205700</td>\n",
       "      <td>0.333882</td>\n",
       "      <td>...</td>\n",
       "      <td>-0.033003</td>\n",
       "      <td>0.114218</td>\n",
       "      <td>-0.163863</td>\n",
       "      <td>1.045593</td>\n",
       "      <td>0.775343</td>\n",
       "      <td>0.228745</td>\n",
       "      <td>0.050846</td>\n",
       "      <td>0.020019</td>\n",
       "      <td>0.0</td>\n",
       "      <td>0</td>\n",
       "    </tr>\n",
       "    <tr>\n",
       "      <th>1</th>\n",
       "      <td>48695.0</td>\n",
       "      <td>-0.945317</td>\n",
       "      <td>2.018842</td>\n",
       "      <td>1.779540</td>\n",
       "      <td>2.340482</td>\n",
       "      <td>0.624353</td>\n",
       "      <td>0.059572</td>\n",
       "      <td>1.167144</td>\n",
       "      <td>-0.374930</td>\n",
       "      <td>-0.810309</td>\n",
       "      <td>...</td>\n",
       "      <td>-0.703688</td>\n",
       "      <td>-1.473276</td>\n",
       "      <td>-0.107746</td>\n",
       "      <td>-0.234128</td>\n",
       "      <td>0.061720</td>\n",
       "      <td>-0.197649</td>\n",
       "      <td>0.299470</td>\n",
       "      <td>-0.117605</td>\n",
       "      <td>0.0</td>\n",
       "      <td>0</td>\n",
       "    </tr>\n",
       "    <tr>\n",
       "      <th>2</th>\n",
       "      <td>66175.0</td>\n",
       "      <td>1.068135</td>\n",
       "      <td>0.153241</td>\n",
       "      <td>1.620380</td>\n",
       "      <td>2.652865</td>\n",
       "      <td>-0.918265</td>\n",
       "      <td>0.331406</td>\n",
       "      <td>-0.712275</td>\n",
       "      <td>0.345064</td>\n",
       "      <td>-0.035753</td>\n",
       "      <td>...</td>\n",
       "      <td>-0.031012</td>\n",
       "      <td>-0.012003</td>\n",
       "      <td>0.068278</td>\n",
       "      <td>0.501400</td>\n",
       "      <td>0.211693</td>\n",
       "      <td>-0.070294</td>\n",
       "      <td>0.033991</td>\n",
       "      <td>0.025698</td>\n",
       "      <td>0.0</td>\n",
       "      <td>0</td>\n",
       "    </tr>\n",
       "    <tr>\n",
       "      <th>3</th>\n",
       "      <td>87939.0</td>\n",
       "      <td>2.152846</td>\n",
       "      <td>0.138200</td>\n",
       "      <td>-2.556943</td>\n",
       "      <td>0.410630</td>\n",
       "      <td>0.876571</td>\n",
       "      <td>-1.333338</td>\n",
       "      <td>0.859437</td>\n",
       "      <td>-0.476419</td>\n",
       "      <td>0.057148</td>\n",
       "      <td>...</td>\n",
       "      <td>0.244421</td>\n",
       "      <td>0.806456</td>\n",
       "      <td>-0.126303</td>\n",
       "      <td>0.734384</td>\n",
       "      <td>0.645127</td>\n",
       "      <td>0.700713</td>\n",
       "      <td>-0.134631</td>\n",
       "      <td>-0.090770</td>\n",
       "      <td>0.0</td>\n",
       "      <td>0</td>\n",
       "    </tr>\n",
       "    <tr>\n",
       "      <th>4</th>\n",
       "      <td>131288.0</td>\n",
       "      <td>1.967256</td>\n",
       "      <td>0.727108</td>\n",
       "      <td>-1.087221</td>\n",
       "      <td>3.851212</td>\n",
       "      <td>0.675885</td>\n",
       "      <td>-0.576084</td>\n",
       "      <td>0.636685</td>\n",
       "      <td>-0.299253</td>\n",
       "      <td>-1.143070</td>\n",
       "      <td>...</td>\n",
       "      <td>-0.023855</td>\n",
       "      <td>0.043501</td>\n",
       "      <td>0.102387</td>\n",
       "      <td>0.026050</td>\n",
       "      <td>0.222577</td>\n",
       "      <td>0.018297</td>\n",
       "      <td>-0.060855</td>\n",
       "      <td>-0.061035</td>\n",
       "      <td>0.0</td>\n",
       "      <td>0</td>\n",
       "    </tr>\n",
       "  </tbody>\n",
       "</table>\n",
       "<p>5 rows × 31 columns</p>\n",
       "</div>"
      ],
      "text/plain": [
       "       Time        V1        V2        V3        V4        V5        V6  \\\n",
       "0   37294.0  1.168909 -0.139981 -0.095518  1.735426  1.699903  4.646212   \n",
       "1   48695.0 -0.945317  2.018842  1.779540  2.340482  0.624353  0.059572   \n",
       "2   66175.0  1.068135  0.153241  1.620380  2.652865 -0.918265  0.331406   \n",
       "3   87939.0  2.152846  0.138200 -2.556943  0.410630  0.876571 -1.333338   \n",
       "4  131288.0  1.967256  0.727108 -1.087221  3.851212  0.675885 -0.576084   \n",
       "\n",
       "         V7        V8        V9  ...       V21       V22       V23       V24  \\\n",
       "0 -1.191502  1.205700  0.333882  ... -0.033003  0.114218 -0.163863  1.045593   \n",
       "1  1.167144 -0.374930 -0.810309  ... -0.703688 -1.473276 -0.107746 -0.234128   \n",
       "2 -0.712275  0.345064 -0.035753  ... -0.031012 -0.012003  0.068278  0.501400   \n",
       "3  0.859437 -0.476419  0.057148  ...  0.244421  0.806456 -0.126303  0.734384   \n",
       "4  0.636685 -0.299253 -1.143070  ... -0.023855  0.043501  0.102387  0.026050   \n",
       "\n",
       "        V25       V26       V27       V28  Amount  Class  \n",
       "0  0.775343  0.228745  0.050846  0.020019     0.0      0  \n",
       "1  0.061720 -0.197649  0.299470 -0.117605     0.0      0  \n",
       "2  0.211693 -0.070294  0.033991  0.025698     0.0      0  \n",
       "3  0.645127  0.700713 -0.134631 -0.090770     0.0      0  \n",
       "4  0.222577  0.018297 -0.060855 -0.061035     0.0      0  \n",
       "\n",
       "[5 rows x 31 columns]"
      ]
     },
     "execution_count": 59,
     "metadata": {},
     "output_type": "execute_result"
    }
   ],
   "source": [
    "pred.head()"
   ]
  },
  {
   "cell_type": "markdown",
   "id": "0a2ac232-d692-4166-9e04-d23332c85ec2",
   "metadata": {},
   "source": [
    "Shape as instances: dictionaries of key:value pairs for only features used in model"
   ]
  },
  {
   "cell_type": "code",
   "execution_count": 61,
   "id": "10a2a545-5590-4ef9-9782-b4d94d972e34",
   "metadata": {},
   "outputs": [],
   "source": [
    "newobs = pred[pred.columns[~pred.columns.isin([VAR_TARGET])]].to_dict(orient='records')\n",
    "#newobs[0]"
   ]
  },
  {
   "cell_type": "code",
   "execution_count": 62,
   "id": "2f5e521d-4b14-4118-a662-c4fd61447bef",
   "metadata": {},
   "outputs": [
    {
     "data": {
      "text/plain": [
       "10"
      ]
     },
     "execution_count": 62,
     "metadata": {},
     "output_type": "execute_result"
    }
   ],
   "source": [
    "len(newobs)"
   ]
  },
  {
   "cell_type": "code",
   "execution_count": 63,
   "id": "e8da0a6d-f55c-4710-8663-7893a77f0e80",
   "metadata": {},
   "outputs": [
    {
     "data": {
      "text/plain": [
       "{'Time': 37294.0,\n",
       " 'V1': 1.1689085895338,\n",
       " 'V2': -0.139981145657757,\n",
       " 'V3': -0.095518471489871,\n",
       " 'V4': 1.7354261527226698,\n",
       " 'V5': 1.6999032220861598,\n",
       " 'V6': 4.64621174854514,\n",
       " 'V7': -1.1915020802253,\n",
       " 'V8': 1.2056999126741101,\n",
       " 'V9': 0.333882136042143,\n",
       " 'V10': 0.445892376640398,\n",
       " 'V11': -1.13915797098511,\n",
       " 'V12': 0.131478997864883,\n",
       " 'V13': -0.21300435713576701,\n",
       " 'V14': -0.574543656752157,\n",
       " 'V15': -1.29448382329134,\n",
       " 'V16': 0.35821793406784797,\n",
       " 'V17': -0.493553806335129,\n",
       " 'V18': 0.14011509156796803,\n",
       " 'V19': -0.19333259123795105,\n",
       " 'V20': -0.0671614045807908,\n",
       " 'V21': -0.0330034889037295,\n",
       " 'V22': 0.11421779751978099,\n",
       " 'V23': -0.163862790897918,\n",
       " 'V24': 1.04559307565716,\n",
       " 'V25': 0.7753427063516221,\n",
       " 'V26': 0.22874539817184697,\n",
       " 'V27': 0.0508464765501748,\n",
       " 'V28': 0.0200185496706404,\n",
       " 'Amount': 0.0}"
      ]
     },
     "execution_count": 63,
     "metadata": {},
     "output_type": "execute_result"
    }
   ],
   "source": [
    "newobs[0]"
   ]
  },
  {
   "cell_type": "code",
   "execution_count": 64,
   "id": "6726541f-fb86-4c1b-ae19-974f5ad8f096",
   "metadata": {},
   "outputs": [],
   "source": [
    "instances = [json_format.ParseDict(newobs[0], Value())]"
   ]
  },
  {
   "cell_type": "markdown",
   "id": "0f0a8911-b954-422a-a6ed-f33e72ac1fc3",
   "metadata": {},
   "source": [
    "### Get Predictions: Python Client"
   ]
  },
  {
   "cell_type": "code",
   "execution_count": 74,
   "id": "5fc3b01a",
   "metadata": {},
   "outputs": [
    {
     "data": {
      "text/plain": [
       "Prediction(predictions=[{'Class_values': ['1', '0'], 'predicted_Class': ['0'], 'Class_probs': [0.09128659808702194, 0.9087134019129781]}], deployed_model_id='6895982997783183360', model_version_id='1', model_resource_name='projects/1026793852137/locations/us-central1/models/model_03_fe', explanations=None)"
      ]
     },
     "execution_count": 74,
     "metadata": {},
     "output_type": "execute_result"
    }
   ],
   "source": [
    "prediction = endpoint.predict(instances = instances)\n",
    "prediction"
   ]
  },
  {
   "cell_type": "code",
   "execution_count": 78,
   "id": "e3f07649",
   "metadata": {},
   "outputs": [
    {
     "data": {
      "text/plain": [
       "{'Class_values': ['1', '0'],\n",
       " 'predicted_Class': ['0'],\n",
       " 'Class_probs': [0.09128659808702194, 0.9087134019129781]}"
      ]
     },
     "execution_count": 78,
     "metadata": {},
     "output_type": "execute_result"
    }
   ],
   "source": [
    "prediction.predictions[0]"
   ]
  },
  {
   "cell_type": "code",
   "execution_count": 79,
   "id": "f17445dd-0ff6-4239-a855-478e171d24c3",
   "metadata": {},
   "outputs": [
    {
     "data": {
      "text/plain": [
       "[0.09128659808702194, 0.9087134019129781]"
      ]
     },
     "execution_count": 79,
     "metadata": {},
     "output_type": "execute_result"
    }
   ],
   "source": [
    "prediction.predictions[0]['Class_probs']"
   ]
  },
  {
   "cell_type": "code",
   "execution_count": 81,
   "id": "5f5912e3",
   "metadata": {},
   "outputs": [
    {
     "data": {
      "text/plain": [
       "'0'"
      ]
     },
     "execution_count": 81,
     "metadata": {},
     "output_type": "execute_result"
    }
   ],
   "source": [
    "prediction.predictions[0]['Class_values'][np.argmax(prediction.predictions[0]['Class_probs'])]"
   ]
  },
  {
   "cell_type": "markdown",
   "id": "a85b5e68-d7f7-4eff-9968-09e26b5068dc",
   "metadata": {},
   "source": [
    "### Get Predictions: REST"
   ]
  },
  {
   "cell_type": "code",
   "execution_count": 87,
   "id": "5581722e",
   "metadata": {},
   "outputs": [],
   "source": [
    "with open(f'{DIR}/request.json','w') as file:\n",
    "    file.write(json.dumps({\"instances\": [newobs[0]]}))"
   ]
  },
  {
   "cell_type": "code",
   "execution_count": 88,
   "id": "a0d079e9",
   "metadata": {},
   "outputs": [
    {
     "name": "stdout",
     "output_type": "stream",
     "text": [
      "{\n",
      "  \"predictions\": [\n",
      "    {\n",
      "      \"Class_probs\": [\n",
      "        0.091286598087021942,\n",
      "        0.90871340191297811\n",
      "      ],\n",
      "      \"Class_values\": [\n",
      "        \"1\",\n",
      "        \"0\"\n",
      "      ],\n",
      "      \"predicted_Class\": [\n",
      "        \"0\"\n",
      "      ]\n",
      "    }\n",
      "  ],\n",
      "  \"deployedModelId\": \"6895982997783183360\",\n",
      "  \"model\": \"projects/1026793852137/locations/us-central1/models/model_03_fe\",\n",
      "  \"modelDisplayName\": \"model_03_fe\",\n",
      "  \"modelVersionId\": \"1\"\n",
      "}\n"
     ]
    }
   ],
   "source": [
    "!curl -X POST \\\n",
    "-H \"Authorization: Bearer \"$(gcloud auth application-default print-access-token) \\\n",
    "-H \"Content-Type: application/json; charset=utf-8\" \\\n",
    "-d @{DIR}/request.json \\\n",
    "https://{REGION}-aiplatform.googleapis.com/v1/{endpoint.resource_name}:predict"
   ]
  },
  {
   "cell_type": "markdown",
   "id": "7756f68c-fb26-4cd3-a980-867429d65e99",
   "metadata": {},
   "source": [
    "### Get Predictions: gcloud (CLI)"
   ]
  },
  {
   "cell_type": "code",
   "execution_count": 89,
   "id": "adfee93d",
   "metadata": {},
   "outputs": [
    {
     "name": "stdout",
     "output_type": "stream",
     "text": [
      "Using endpoint [https://us-central1-prediction-aiplatform.googleapis.com/]\n",
      "[{'Class_probs': [0.09128659808702194, 0.9087134019129781], 'Class_values': ['1', '0'], 'predicted_Class': ['0']}]\n"
     ]
    }
   ],
   "source": [
    "!gcloud beta ai endpoints predict {endpoint.name.rsplit('/',1)[-1]} --region={REGION} --json-request={DIR}/request.json"
   ]
  },
  {
   "cell_type": "markdown",
   "id": "ce80147e-638c-4b1f-8258-4dc206fea6e4",
   "metadata": {},
   "source": [
    "---\n",
    "## Remove Resources\n",
    "- eu bucket\n",
    "- endpoints\n",
    "- bq_dataset\n"
   ]
  },
  {
   "cell_type": "code",
   "execution_count": 86,
   "id": "670de49a-a06f-4743-8003-aa51450002aa",
   "metadata": {},
   "outputs": [],
   "source": [
    "bucketDef.delete(force = True)"
   ]
  },
  {
   "cell_type": "code",
   "execution_count": 90,
   "id": "beaa5d28-f091-4162-b0d0-61e2bc5c03e1",
   "metadata": {},
   "outputs": [],
   "source": [
    "# delete endpoints here"
   ]
  },
  {
   "cell_type": "code",
   "execution_count": 89,
   "id": "45f0f919-a805-4f21-82c3-3a17ffb0a567",
   "metadata": {},
   "outputs": [],
   "source": [
    "bq.delete_dataset(ds.dataset_id, delete_contents = True, not_found_ok = True)"
   ]
  },
  {
   "cell_type": "code",
   "execution_count": null,
   "id": "8b2b2131-de3e-4ca1-ba3d-7981ce22e36a",
   "metadata": {},
   "outputs": [],
   "source": []
  }
 ],
 "metadata": {
  "environment": {
   "kernel": "python3",
   "name": "tf2-gpu.2-3.m94",
   "type": "gcloud",
   "uri": "gcr.io/deeplearning-platform-release/tf2-gpu.2-3:m94"
  },
  "kernelspec": {
   "display_name": "Python 3",
   "language": "python",
   "name": "python3"
  },
  "language_info": {
   "codemirror_mode": {
    "name": "ipython",
    "version": 3
   },
   "file_extension": ".py",
   "mimetype": "text/x-python",
   "name": "python",
   "nbconvert_exporter": "python",
   "pygments_lexer": "ipython3",
   "version": "3.7.12"
  }
 },
 "nbformat": 4,
 "nbformat_minor": 5
}
