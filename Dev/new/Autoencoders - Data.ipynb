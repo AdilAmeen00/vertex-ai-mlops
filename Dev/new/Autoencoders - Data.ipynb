{
 "cells": [
  {
   "cell_type": "markdown",
   "id": "233cde43-fcfa-4607-8195-27fe03ca7e9f",
   "metadata": {
    "tags": []
   },
   "source": [
    "![ga4](https://www.google-analytics.com/collect?v=2&tid=G-6VDTYWLKX6&cid=1&en=page_view&sid=1&dl=statmike%2Fvertex-ai-mlops%2FDev%2Fnew&dt=Autoencoders+-+Data.ipynb)\n",
    "\n",
    "# Autoencoders - Data\n",
    "\n",
    "How to retrieve data for training, and using, an autoencoder.\n",
    "\n",
    "\n",
    "\n"
   ]
  },
  {
   "cell_type": "markdown",
   "id": "2d9ef3a1-7c54-4736-bf8f-b7b832524c9c",
   "metadata": {},
   "source": [
    "---\n",
    "## Colab Setup\n",
    "\n",
    "To run this notebook in Colab click [![Open In Colab](https://colab.research.google.com/assets/colab-badge.svg)](https://colab.research.google.com/github/statmike/vertex-ai-mlops/blob/main/Applied%20Autoencoders/Autoencoders%20-%20Data.ipynb) and run the cells in this section.  Otherwise, skip this section.\n",
    "\n",
    "This cell will authenticate to GCP (follow prompts in the popup)."
   ]
  },
  {
   "cell_type": "code",
   "execution_count": 43,
   "id": "799bb844-0ea3-4907-a1ae-d5dcc39e641d",
   "metadata": {
    "tags": []
   },
   "outputs": [],
   "source": [
    "PROJECT_ID = 'statmike-mlops-349915' # replace with project ID"
   ]
  },
  {
   "cell_type": "code",
   "execution_count": 44,
   "id": "ce63b674-5529-4bd5-be35-6c26f9527cbc",
   "metadata": {
    "tags": []
   },
   "outputs": [],
   "source": [
    "try:\n",
    "    import google.colab\n",
    "    from google.colab import auth\n",
    "    auth.authenticate_user()\n",
    "    !gcloud config set project {PROJECT_ID}\n",
    "except Exception:\n",
    "    pass"
   ]
  },
  {
   "cell_type": "markdown",
   "id": "7b6dcb9c-0f10-4a47-b106-301961c90249",
   "metadata": {},
   "source": [
    "---\n",
    "## Installs\n",
    "\n",
    "The list `packages` contains tuples of package import names and install names.  If the import name is not found then the install name is used to install quitely for the current user."
   ]
  },
  {
   "cell_type": "code",
   "execution_count": 45,
   "id": "8dd6bf96-953a-4cbe-a745-100bba26304f",
   "metadata": {
    "tags": []
   },
   "outputs": [],
   "source": [
    "# tuples of (import name, install name)\n",
    "packages = [\n",
    "    ('google.cloud.bigquery', 'google-cloud-bigquery'),\n",
    "    ('google.cloud.bigquery_storage', 'google-cloud-bigquery-storage'),\n",
    "    ('bigframes', 'bigframes'),\n",
    "    ('pandas_gbq', 'pandas-gbq'),\n",
    "    ('tensorflow', 'tensorflow', '2.10'),\n",
    "    ('tensorflow_io', '--no-deps tensorflow-io'),\n",
    "    ('graphviz', 'graphviz'),\n",
    "    ('pydot', 'pydot')\n",
    "]\n",
    "\n",
    "import importlib\n",
    "install = False\n",
    "for package in packages:\n",
    "    if not importlib.util.find_spec(package[0]):\n",
    "        print(f'installing package {package[1]}')\n",
    "        install = True\n",
    "        !pip install {package[1]} -U -q --user\n",
    "    elif len(package) == 3:\n",
    "        if importlib.metadata.version(package[0]) < package[2]:\n",
    "            print(f'updating package {package[1]}')\n",
    "            install = True\n",
    "            !pip install {package[1]} -U -q --user"
   ]
  },
  {
   "cell_type": "code",
   "execution_count": 46,
   "id": "dab88582-d5f4-4677-a307-650478d72d53",
   "metadata": {
    "tags": []
   },
   "outputs": [],
   "source": [
    "#!sudo apt-get -qq install graphviz"
   ]
  },
  {
   "cell_type": "markdown",
   "id": "58bb2fc8-34c7-4868-ba63-345e6950085d",
   "metadata": {},
   "source": [
    "### Restart Kernel (If Installs Occured)\n",
    "\n",
    "After a kernel restart the code submission can start with the next cell after this one."
   ]
  },
  {
   "cell_type": "code",
   "execution_count": 47,
   "id": "ac5564b3-ae19-49b2-b08b-91e8ede3bfcd",
   "metadata": {
    "tags": []
   },
   "outputs": [],
   "source": [
    "if install:\n",
    "    import IPython\n",
    "    app = IPython.Application.instance()\n",
    "    app.kernel.do_shutdown(True)"
   ]
  },
  {
   "cell_type": "markdown",
   "id": "915d8e0d-0de2-4c4b-8d52-4ae27db57da1",
   "metadata": {},
   "source": [
    "---\n",
    "## Setup"
   ]
  },
  {
   "cell_type": "markdown",
   "id": "bbb7c734-78a2-4ffb-bd72-db40ccaf37c3",
   "metadata": {},
   "source": [
    "inputs:"
   ]
  },
  {
   "cell_type": "code",
   "execution_count": 48,
   "id": "b1e21014-458d-4e04-995a-c1feafab1ad8",
   "metadata": {
    "tags": []
   },
   "outputs": [
    {
     "data": {
      "text/plain": [
       "'statmike-mlops-349915'"
      ]
     },
     "execution_count": 48,
     "metadata": {},
     "output_type": "execute_result"
    }
   ],
   "source": [
    "project = !gcloud config get-value project\n",
    "PROJECT_ID = project[0]\n",
    "PROJECT_ID"
   ]
  },
  {
   "cell_type": "code",
   "execution_count": 49,
   "id": "47b38e06-3f24-413d-9bf7-29549178061f",
   "metadata": {
    "tags": []
   },
   "outputs": [],
   "source": [
    "REGION = 'us-central1'\n",
    "EXPERIMENT = 'data'\n",
    "SERIES = 'applied-autoencoders'\n",
    "\n",
    "# source data\n",
    "BQ_PROJECT = PROJECT_ID\n",
    "BQ_DATASET = 'fraud'\n",
    "BQ_TABLE = 'fraud_prepped'\n",
    "\n",
    "# specify a GCS Bucket\n",
    "GCS_BUCKET = PROJECT_ID\n",
    "\n",
    "# Model Training\n",
    "VAR_TARGET = 'Class'\n",
    "VAR_OMIT = 'transaction_id,splits' # add more variables to the string with comma delimiters"
   ]
  },
  {
   "cell_type": "markdown",
   "id": "91df847f-29fd-4143-9a7d-3a4cef923bff",
   "metadata": {},
   "source": [
    "packages:"
   ]
  },
  {
   "cell_type": "code",
   "execution_count": 72,
   "id": "9adf564d-5e6b-4991-932e-3c2170899e38",
   "metadata": {
    "tags": []
   },
   "outputs": [],
   "source": [
    "import os\n",
    "os.environ['TF_CPP_MIN_LOG_LEVEL'] = '3'\n",
    "\n",
    "from google.cloud import bigquery\n",
    "from google.cloud import bigquery_storage\n",
    "import bigframes.pandas as bpd\n",
    "import pandas as pd\n",
    "import concurrent.futures\n",
    "\n",
    "from tensorflow.python.framework import dtypes\n",
    "from tensorflow_io.bigquery import BigQueryClient\n",
    "import tensorflow as tf\n",
    "\n",
    "#from datetime import datetime\n",
    "\n",
    "#from google.protobuf import json_format\n",
    "#from google.protobuf.struct_pb2 import Value\n",
    "#import json\n",
    "#import numpy as np\n"
   ]
  },
  {
   "cell_type": "markdown",
   "id": "94e4334e-a4ba-4d42-9b95-735a66d0eb06",
   "metadata": {},
   "source": [
    "clients:"
   ]
  },
  {
   "cell_type": "code",
   "execution_count": 51,
   "id": "1687bea4-c090-4884-a7b1-6a7b4ed561fc",
   "metadata": {
    "tags": []
   },
   "outputs": [],
   "source": [
    "bq = bigquery.Client(project = PROJECT_ID)\n",
    "bqstorage = bigquery_storage.BigQueryReadClient()\n",
    "bpd.options.bigquery.project = PROJECT_ID"
   ]
  },
  {
   "cell_type": "markdown",
   "id": "71d726f2-2c1f-4bb2-b288-db37bda88f7f",
   "metadata": {},
   "source": [
    "---\n",
    "## Review Data\n",
    "\n",
    "The data source here was prepared in [01 - BigQuery - Table Data Source](../01%20-%20Data%20Sources/01%20-%20BigQuery%20-%20Table%20Data%20Source.ipynb).  In this notebook we will use prepared BigQuery table as input for TensorFlow.\n",
    "\n",
    "This is a table of 284,807 credit card transactions classified as fradulant or normal in the column `Class`.  In order protect confidentiality, the original features have been transformed using [principle component analysis (PCA)](https://en.wikipedia.org/wiki/Principal_component_analysis) into 28 features named `V1, V2, ... V28` (float).  Two descriptive features are provided without transformation by PCA:\n",
    "- `Time` (integer) is the seconds elapsed between the transaction and the earliest transaction in the table\n",
    "- `Amount` (float) is the value of the transaction\n",
    "\n",
    "The data preparation included added splits for machine learning with a column named `splits` with 80% for training (`TRAIN`), 10% for validation (`VALIDATE`) and 10% for testing (`TEST`).  Additionally, a unique identifier was added to each transaction, `transaction_id`.  "
   ]
  },
  {
   "cell_type": "markdown",
   "id": "f2cbecf9-1bce-4636-9968-eaf3a2dbcca1",
   "metadata": {},
   "source": [
    "Review the number of records for each level of Class (VAR_TARGET) for each of the data splits:"
   ]
  },
  {
   "cell_type": "code",
   "execution_count": 234,
   "id": "918d1728-f262-4238-9ee0-d6f0c6418023",
   "metadata": {
    "tags": []
   },
   "outputs": [
    {
     "name": "stdout",
     "output_type": "stream",
     "text": [
      "\n",
      "    SELECT splits, Class, count(*) as n\n",
      "    FROM `statmike-mlops-349915.fraud.fraud_prepped`\n",
      "    GROUP BY splits, Class\n",
      "\n"
     ]
    }
   ],
   "source": [
    "query = f\"\"\"\n",
    "    SELECT splits, {VAR_TARGET}, count(*) as n\n",
    "    FROM `{BQ_PROJECT}.{BQ_DATASET}.{BQ_TABLE}`\n",
    "    GROUP BY splits, {VAR_TARGET}\n",
    "\"\"\"\n",
    "print(query)"
   ]
  },
  {
   "cell_type": "code",
   "execution_count": 235,
   "id": "60533e86-7e88-4f9a-b8ea-9421ea6b20b6",
   "metadata": {
    "tags": []
   },
   "outputs": [
    {
     "data": {
      "text/html": [
       "<div>\n",
       "<style scoped>\n",
       "    .dataframe tbody tr th:only-of-type {\n",
       "        vertical-align: middle;\n",
       "    }\n",
       "\n",
       "    .dataframe tbody tr th {\n",
       "        vertical-align: top;\n",
       "    }\n",
       "\n",
       "    .dataframe thead th {\n",
       "        text-align: right;\n",
       "    }\n",
       "</style>\n",
       "<table border=\"1\" class=\"dataframe\">\n",
       "  <thead>\n",
       "    <tr style=\"text-align: right;\">\n",
       "      <th></th>\n",
       "      <th>splits</th>\n",
       "      <th>Class</th>\n",
       "      <th>n</th>\n",
       "    </tr>\n",
       "  </thead>\n",
       "  <tbody>\n",
       "    <tr>\n",
       "      <th>0</th>\n",
       "      <td>TEST</td>\n",
       "      <td>0</td>\n",
       "      <td>28455</td>\n",
       "    </tr>\n",
       "    <tr>\n",
       "      <th>1</th>\n",
       "      <td>TEST</td>\n",
       "      <td>1</td>\n",
       "      <td>47</td>\n",
       "    </tr>\n",
       "    <tr>\n",
       "      <th>2</th>\n",
       "      <td>TRAIN</td>\n",
       "      <td>0</td>\n",
       "      <td>227664</td>\n",
       "    </tr>\n",
       "    <tr>\n",
       "      <th>3</th>\n",
       "      <td>TRAIN</td>\n",
       "      <td>1</td>\n",
       "      <td>397</td>\n",
       "    </tr>\n",
       "    <tr>\n",
       "      <th>4</th>\n",
       "      <td>VALIDATE</td>\n",
       "      <td>0</td>\n",
       "      <td>28196</td>\n",
       "    </tr>\n",
       "    <tr>\n",
       "      <th>5</th>\n",
       "      <td>VALIDATE</td>\n",
       "      <td>1</td>\n",
       "      <td>48</td>\n",
       "    </tr>\n",
       "  </tbody>\n",
       "</table>\n",
       "</div>"
      ],
      "text/plain": [
       "     splits  Class       n\n",
       "0      TEST      0   28455\n",
       "1      TEST      1      47\n",
       "2     TRAIN      0  227664\n",
       "3     TRAIN      1     397\n",
       "4  VALIDATE      0   28196\n",
       "5  VALIDATE      1      48"
      ]
     },
     "execution_count": 235,
     "metadata": {},
     "output_type": "execute_result"
    }
   ],
   "source": [
    "bq.query(query = query).to_dataframe()"
   ]
  },
  {
   "cell_type": "markdown",
   "id": "7145f952-77d4-494d-862d-8e7c9e95585e",
   "metadata": {},
   "source": [
    "Further review the balance of the target variable (VAR_TARGET) for each split as a percentage of the split:"
   ]
  },
  {
   "cell_type": "code",
   "execution_count": 236,
   "id": "5b617f0d-f57a-4af2-b498-7d4b8623c4cd",
   "metadata": {
    "tags": []
   },
   "outputs": [
    {
     "name": "stdout",
     "output_type": "stream",
     "text": [
      "\n",
      "    WITH\n",
      "        COUNTS as (SELECT splits, Class, count(*) as n FROM `statmike-mlops-349915.fraud.fraud_prepped` GROUP BY splits, Class)\n",
      "\n",
      "    SELECT *,\n",
      "        SUM(n) OVER() as total,\n",
      "        SAFE_DIVIDE(n, SUM(n) OVER(PARTITION BY Class)) as n_pct_class,\n",
      "        SAFE_DIVIDE(n, SUM(n) OVER(PARTITION BY splits)) as n_pct_split,\n",
      "        SAFE_DIVIDE(SUM(n) OVER(PARTITION BY Class), SUM(n) OVER()) as class_pct_total\n",
      "    FROM COUNTS\n",
      "\n"
     ]
    }
   ],
   "source": [
    "query = f\"\"\"\n",
    "    WITH\n",
    "        COUNTS as (SELECT splits, {VAR_TARGET}, count(*) as n FROM `{BQ_PROJECT}.{BQ_DATASET}.{BQ_TABLE}` GROUP BY splits, {VAR_TARGET})\n",
    "\n",
    "    SELECT *,\n",
    "        SUM(n) OVER() as total,\n",
    "        SAFE_DIVIDE(n, SUM(n) OVER(PARTITION BY {VAR_TARGET})) as n_pct_class,\n",
    "        SAFE_DIVIDE(n, SUM(n) OVER(PARTITION BY splits)) as n_pct_split,\n",
    "        SAFE_DIVIDE(SUM(n) OVER(PARTITION BY {VAR_TARGET}), SUM(n) OVER()) as class_pct_total\n",
    "    FROM COUNTS\n",
    "\"\"\"\n",
    "print(query)"
   ]
  },
  {
   "cell_type": "code",
   "execution_count": 237,
   "id": "0a2bf11a-e78f-48c7-9c08-cd8de1998bd5",
   "metadata": {
    "tags": []
   },
   "outputs": [
    {
     "data": {
      "text/html": [
       "<div>\n",
       "<style scoped>\n",
       "    .dataframe tbody tr th:only-of-type {\n",
       "        vertical-align: middle;\n",
       "    }\n",
       "\n",
       "    .dataframe tbody tr th {\n",
       "        vertical-align: top;\n",
       "    }\n",
       "\n",
       "    .dataframe thead th {\n",
       "        text-align: right;\n",
       "    }\n",
       "</style>\n",
       "<table border=\"1\" class=\"dataframe\">\n",
       "  <thead>\n",
       "    <tr style=\"text-align: right;\">\n",
       "      <th></th>\n",
       "      <th>splits</th>\n",
       "      <th>Class</th>\n",
       "      <th>n</th>\n",
       "      <th>total</th>\n",
       "      <th>n_pct_class</th>\n",
       "      <th>n_pct_split</th>\n",
       "      <th>class_pct_total</th>\n",
       "    </tr>\n",
       "  </thead>\n",
       "  <tbody>\n",
       "    <tr>\n",
       "      <th>0</th>\n",
       "      <td>TEST</td>\n",
       "      <td>1</td>\n",
       "      <td>47</td>\n",
       "      <td>284807</td>\n",
       "      <td>0.095528</td>\n",
       "      <td>0.001649</td>\n",
       "      <td>0.001727</td>\n",
       "    </tr>\n",
       "    <tr>\n",
       "      <th>1</th>\n",
       "      <td>TEST</td>\n",
       "      <td>0</td>\n",
       "      <td>28455</td>\n",
       "      <td>284807</td>\n",
       "      <td>0.100083</td>\n",
       "      <td>0.998351</td>\n",
       "      <td>0.998273</td>\n",
       "    </tr>\n",
       "    <tr>\n",
       "      <th>2</th>\n",
       "      <td>TRAIN</td>\n",
       "      <td>1</td>\n",
       "      <td>397</td>\n",
       "      <td>284807</td>\n",
       "      <td>0.806911</td>\n",
       "      <td>0.001741</td>\n",
       "      <td>0.001727</td>\n",
       "    </tr>\n",
       "    <tr>\n",
       "      <th>3</th>\n",
       "      <td>TRAIN</td>\n",
       "      <td>0</td>\n",
       "      <td>227664</td>\n",
       "      <td>284807</td>\n",
       "      <td>0.800746</td>\n",
       "      <td>0.998259</td>\n",
       "      <td>0.998273</td>\n",
       "    </tr>\n",
       "    <tr>\n",
       "      <th>4</th>\n",
       "      <td>VALIDATE</td>\n",
       "      <td>1</td>\n",
       "      <td>48</td>\n",
       "      <td>284807</td>\n",
       "      <td>0.097561</td>\n",
       "      <td>0.001699</td>\n",
       "      <td>0.001727</td>\n",
       "    </tr>\n",
       "    <tr>\n",
       "      <th>5</th>\n",
       "      <td>VALIDATE</td>\n",
       "      <td>0</td>\n",
       "      <td>28196</td>\n",
       "      <td>284807</td>\n",
       "      <td>0.099172</td>\n",
       "      <td>0.998301</td>\n",
       "      <td>0.998273</td>\n",
       "    </tr>\n",
       "  </tbody>\n",
       "</table>\n",
       "</div>"
      ],
      "text/plain": [
       "     splits  Class       n   total  n_pct_class  n_pct_split  class_pct_total\n",
       "0      TEST      1      47  284807     0.095528     0.001649         0.001727\n",
       "1      TEST      0   28455  284807     0.100083     0.998351         0.998273\n",
       "2     TRAIN      1     397  284807     0.806911     0.001741         0.001727\n",
       "3     TRAIN      0  227664  284807     0.800746     0.998259         0.998273\n",
       "4  VALIDATE      1      48  284807     0.097561     0.001699         0.001727\n",
       "5  VALIDATE      0   28196  284807     0.099172     0.998301         0.998273"
      ]
     },
     "execution_count": 237,
     "metadata": {},
     "output_type": "execute_result"
    }
   ],
   "source": [
    "review = bq.query(query = query).to_dataframe()\n",
    "review"
   ]
  },
  {
   "cell_type": "markdown",
   "id": "5404b3fd-5ae6-4cc4-ae43-1f0197f3943b",
   "metadata": {},
   "source": [
    "---\n",
    "## From BigQuery To Pandas DataFrame"
   ]
  },
  {
   "cell_type": "markdown",
   "id": "852d1f2f-233e-4e99-ad58-42ab48a00746",
   "metadata": {},
   "source": [
    "### Common Query"
   ]
  },
  {
   "cell_type": "code",
   "execution_count": 108,
   "id": "815ff7dd-54bd-4a99-9861-53db9f76b042",
   "metadata": {
    "tags": []
   },
   "outputs": [
    {
     "name": "stdout",
     "output_type": "stream",
     "text": [
      "\n",
      "SELECT * EXCEPT(transaction_id,splits)\n",
      "FROM `statmike-mlops-349915.fraud.fraud_prepped`\n",
      "WHERE splits = 'TRAIN'\n",
      "\n"
     ]
    }
   ],
   "source": [
    "query = f'''\n",
    "SELECT * EXCEPT({','.join(VAR_OMIT.replace(' ', '').split(','))})\n",
    "FROM `{BQ_PROJECT}.{BQ_DATASET}.{BQ_TABLE}`\n",
    "WHERE splits = 'TRAIN'\n",
    "'''\n",
    "print(query)"
   ]
  },
  {
   "cell_type": "markdown",
   "id": "4d26ef25-adc7-484d-ab9e-5eec11d526f0",
   "metadata": {},
   "source": [
    "### BigQuery Cell Magic\n",
    "\n",
    "https://cloud.google.com/python/docs/reference/bigquery/latest/magics"
   ]
  },
  {
   "cell_type": "code",
   "execution_count": 109,
   "id": "f1260a43-15d4-4e85-953c-6d74fb5dfeb8",
   "metadata": {
    "tags": []
   },
   "outputs": [
    {
     "data": {
      "application/vnd.jupyter.widget-view+json": {
       "model_id": "14a318aaff044477842007825204af83",
       "version_major": 2,
       "version_minor": 0
      },
      "text/plain": [
       "Query is running:   0%|          |"
      ]
     },
     "metadata": {},
     "output_type": "display_data"
    },
    {
     "data": {
      "application/vnd.jupyter.widget-view+json": {
       "model_id": "59e4bd48b5514295a9340f6aef054c0b",
       "version_major": 2,
       "version_minor": 0
      },
      "text/plain": [
       "Downloading:   0%|          |"
      ]
     },
     "metadata": {},
     "output_type": "display_data"
    }
   ],
   "source": [
    "%%bigquery bq_data_magic\n",
    "SELECT * EXCEPT(transaction_id,splits)\n",
    "FROM `statmike-mlops-349915.fraud.fraud_prepped`\n",
    "WHERE splits = 'TRAIN'"
   ]
  },
  {
   "cell_type": "code",
   "execution_count": 110,
   "id": "86cf423d-5013-428e-a9f3-83cbe82d0999",
   "metadata": {
    "tags": []
   },
   "outputs": [
    {
     "data": {
      "text/html": [
       "<div>\n",
       "<style scoped>\n",
       "    .dataframe tbody tr th:only-of-type {\n",
       "        vertical-align: middle;\n",
       "    }\n",
       "\n",
       "    .dataframe tbody tr th {\n",
       "        vertical-align: top;\n",
       "    }\n",
       "\n",
       "    .dataframe thead th {\n",
       "        text-align: right;\n",
       "    }\n",
       "</style>\n",
       "<table border=\"1\" class=\"dataframe\">\n",
       "  <thead>\n",
       "    <tr style=\"text-align: right;\">\n",
       "      <th></th>\n",
       "      <th>Time</th>\n",
       "      <th>V1</th>\n",
       "      <th>V2</th>\n",
       "      <th>V3</th>\n",
       "      <th>V4</th>\n",
       "      <th>V5</th>\n",
       "      <th>V6</th>\n",
       "      <th>V7</th>\n",
       "      <th>V8</th>\n",
       "      <th>V9</th>\n",
       "      <th>...</th>\n",
       "      <th>V21</th>\n",
       "      <th>V22</th>\n",
       "      <th>V23</th>\n",
       "      <th>V24</th>\n",
       "      <th>V25</th>\n",
       "      <th>V26</th>\n",
       "      <th>V27</th>\n",
       "      <th>V28</th>\n",
       "      <th>Amount</th>\n",
       "      <th>Class</th>\n",
       "    </tr>\n",
       "  </thead>\n",
       "  <tbody>\n",
       "    <tr>\n",
       "      <th>0</th>\n",
       "      <td>2812</td>\n",
       "      <td>-0.633403</td>\n",
       "      <td>0.963616</td>\n",
       "      <td>2.494946</td>\n",
       "      <td>2.099051</td>\n",
       "      <td>-0.404331</td>\n",
       "      <td>0.235862</td>\n",
       "      <td>-0.007932</td>\n",
       "      <td>0.211442</td>\n",
       "      <td>-0.209817</td>\n",
       "      <td>...</td>\n",
       "      <td>0.014676</td>\n",
       "      <td>0.016278</td>\n",
       "      <td>-0.061462</td>\n",
       "      <td>0.355196</td>\n",
       "      <td>-0.179086</td>\n",
       "      <td>-0.106947</td>\n",
       "      <td>-0.215039</td>\n",
       "      <td>0.050698</td>\n",
       "      <td>0.0</td>\n",
       "      <td>0</td>\n",
       "    </tr>\n",
       "    <tr>\n",
       "      <th>1</th>\n",
       "      <td>3150</td>\n",
       "      <td>1.313281</td>\n",
       "      <td>-0.257923</td>\n",
       "      <td>0.118463</td>\n",
       "      <td>-0.735557</td>\n",
       "      <td>-0.569308</td>\n",
       "      <td>-0.733577</td>\n",
       "      <td>-0.138659</td>\n",
       "      <td>-0.141641</td>\n",
       "      <td>1.708019</td>\n",
       "      <td>...</td>\n",
       "      <td>-0.082467</td>\n",
       "      <td>0.126066</td>\n",
       "      <td>-0.223157</td>\n",
       "      <td>-0.074977</td>\n",
       "      <td>0.921940</td>\n",
       "      <td>-0.528283</td>\n",
       "      <td>0.064476</td>\n",
       "      <td>0.013132</td>\n",
       "      <td>0.0</td>\n",
       "      <td>0</td>\n",
       "    </tr>\n",
       "    <tr>\n",
       "      <th>2</th>\n",
       "      <td>16676</td>\n",
       "      <td>1.158480</td>\n",
       "      <td>0.168947</td>\n",
       "      <td>0.536345</td>\n",
       "      <td>1.187908</td>\n",
       "      <td>-0.265547</td>\n",
       "      <td>-0.076325</td>\n",
       "      <td>-0.355844</td>\n",
       "      <td>0.144615</td>\n",
       "      <td>1.462346</td>\n",
       "      <td>...</td>\n",
       "      <td>0.016492</td>\n",
       "      <td>0.263518</td>\n",
       "      <td>-0.076711</td>\n",
       "      <td>-0.079402</td>\n",
       "      <td>0.502827</td>\n",
       "      <td>-0.270819</td>\n",
       "      <td>-0.004966</td>\n",
       "      <td>-0.003372</td>\n",
       "      <td>0.0</td>\n",
       "      <td>0</td>\n",
       "    </tr>\n",
       "    <tr>\n",
       "      <th>3</th>\n",
       "      <td>17701</td>\n",
       "      <td>-1.279231</td>\n",
       "      <td>-0.153303</td>\n",
       "      <td>3.296310</td>\n",
       "      <td>3.320441</td>\n",
       "      <td>1.139018</td>\n",
       "      <td>0.542343</td>\n",
       "      <td>-0.729928</td>\n",
       "      <td>-0.051774</td>\n",
       "      <td>0.922712</td>\n",
       "      <td>...</td>\n",
       "      <td>-0.409746</td>\n",
       "      <td>-0.342575</td>\n",
       "      <td>-0.493297</td>\n",
       "      <td>-0.017046</td>\n",
       "      <td>-0.107404</td>\n",
       "      <td>0.101164</td>\n",
       "      <td>-0.197940</td>\n",
       "      <td>-0.435654</td>\n",
       "      <td>0.0</td>\n",
       "      <td>0</td>\n",
       "    </tr>\n",
       "    <tr>\n",
       "      <th>4</th>\n",
       "      <td>28131</td>\n",
       "      <td>1.069507</td>\n",
       "      <td>-0.000362</td>\n",
       "      <td>1.448936</td>\n",
       "      <td>2.874498</td>\n",
       "      <td>-0.736266</td>\n",
       "      <td>0.831932</td>\n",
       "      <td>-0.762267</td>\n",
       "      <td>0.406772</td>\n",
       "      <td>0.626473</td>\n",
       "      <td>...</td>\n",
       "      <td>0.035393</td>\n",
       "      <td>0.444433</td>\n",
       "      <td>-0.085413</td>\n",
       "      <td>0.099090</td>\n",
       "      <td>0.506438</td>\n",
       "      <td>0.246418</td>\n",
       "      <td>0.057864</td>\n",
       "      <td>0.021133</td>\n",
       "      <td>0.0</td>\n",
       "      <td>0</td>\n",
       "    </tr>\n",
       "  </tbody>\n",
       "</table>\n",
       "<p>5 rows × 31 columns</p>\n",
       "</div>"
      ],
      "text/plain": [
       "    Time        V1        V2        V3        V4        V5        V6  \\\n",
       "0   2812 -0.633403  0.963616  2.494946  2.099051 -0.404331  0.235862   \n",
       "1   3150  1.313281 -0.257923  0.118463 -0.735557 -0.569308 -0.733577   \n",
       "2  16676  1.158480  0.168947  0.536345  1.187908 -0.265547 -0.076325   \n",
       "3  17701 -1.279231 -0.153303  3.296310  3.320441  1.139018  0.542343   \n",
       "4  28131  1.069507 -0.000362  1.448936  2.874498 -0.736266  0.831932   \n",
       "\n",
       "         V7        V8        V9  ...       V21       V22       V23       V24  \\\n",
       "0 -0.007932  0.211442 -0.209817  ...  0.014676  0.016278 -0.061462  0.355196   \n",
       "1 -0.138659 -0.141641  1.708019  ... -0.082467  0.126066 -0.223157 -0.074977   \n",
       "2 -0.355844  0.144615  1.462346  ...  0.016492  0.263518 -0.076711 -0.079402   \n",
       "3 -0.729928 -0.051774  0.922712  ... -0.409746 -0.342575 -0.493297 -0.017046   \n",
       "4 -0.762267  0.406772  0.626473  ...  0.035393  0.444433 -0.085413  0.099090   \n",
       "\n",
       "        V25       V26       V27       V28  Amount  Class  \n",
       "0 -0.179086 -0.106947 -0.215039  0.050698     0.0      0  \n",
       "1  0.921940 -0.528283  0.064476  0.013132     0.0      0  \n",
       "2  0.502827 -0.270819 -0.004966 -0.003372     0.0      0  \n",
       "3 -0.107404  0.101164 -0.197940 -0.435654     0.0      0  \n",
       "4  0.506438  0.246418  0.057864  0.021133     0.0      0  \n",
       "\n",
       "[5 rows x 31 columns]"
      ]
     },
     "execution_count": 110,
     "metadata": {},
     "output_type": "execute_result"
    }
   ],
   "source": [
    "bq_data_magic.head()"
   ]
  },
  {
   "cell_type": "code",
   "execution_count": 111,
   "id": "38e9d435-aad5-4728-ba49-922274056625",
   "metadata": {
    "tags": []
   },
   "outputs": [
    {
     "data": {
      "text/plain": [
       "pandas.core.frame.DataFrame"
      ]
     },
     "execution_count": 111,
     "metadata": {},
     "output_type": "execute_result"
    }
   ],
   "source": [
    "type(bq_data_magic)"
   ]
  },
  {
   "cell_type": "code",
   "execution_count": 112,
   "id": "1d4f5189-ceb5-412a-957a-136734408b70",
   "metadata": {
    "tags": []
   },
   "outputs": [
    {
     "data": {
      "text/plain": [
       "(228061, 31)"
      ]
     },
     "execution_count": 112,
     "metadata": {},
     "output_type": "execute_result"
    }
   ],
   "source": [
    "bq_data_magic.shape"
   ]
  },
  {
   "cell_type": "markdown",
   "id": "eb8c7cc8-7b1b-4349-87a9-5310ba256ea4",
   "metadata": {},
   "source": [
    "### BigQuery Python Client\n",
    "\n",
    "https://cloud.google.com/python/docs/reference/bigquery/latest"
   ]
  },
  {
   "cell_type": "code",
   "execution_count": 113,
   "id": "7a91942d-8966-4d6d-875f-b13deb0cee13",
   "metadata": {
    "tags": []
   },
   "outputs": [
    {
     "data": {
      "text/html": [
       "<div>\n",
       "<style scoped>\n",
       "    .dataframe tbody tr th:only-of-type {\n",
       "        vertical-align: middle;\n",
       "    }\n",
       "\n",
       "    .dataframe tbody tr th {\n",
       "        vertical-align: top;\n",
       "    }\n",
       "\n",
       "    .dataframe thead th {\n",
       "        text-align: right;\n",
       "    }\n",
       "</style>\n",
       "<table border=\"1\" class=\"dataframe\">\n",
       "  <thead>\n",
       "    <tr style=\"text-align: right;\">\n",
       "      <th></th>\n",
       "      <th>Time</th>\n",
       "      <th>V1</th>\n",
       "      <th>V2</th>\n",
       "      <th>V3</th>\n",
       "      <th>V4</th>\n",
       "      <th>V5</th>\n",
       "      <th>V6</th>\n",
       "      <th>V7</th>\n",
       "      <th>V8</th>\n",
       "      <th>V9</th>\n",
       "      <th>...</th>\n",
       "      <th>V21</th>\n",
       "      <th>V22</th>\n",
       "      <th>V23</th>\n",
       "      <th>V24</th>\n",
       "      <th>V25</th>\n",
       "      <th>V26</th>\n",
       "      <th>V27</th>\n",
       "      <th>V28</th>\n",
       "      <th>Amount</th>\n",
       "      <th>Class</th>\n",
       "    </tr>\n",
       "  </thead>\n",
       "  <tbody>\n",
       "    <tr>\n",
       "      <th>0</th>\n",
       "      <td>2812</td>\n",
       "      <td>-0.633403</td>\n",
       "      <td>0.963616</td>\n",
       "      <td>2.494946</td>\n",
       "      <td>2.099051</td>\n",
       "      <td>-0.404331</td>\n",
       "      <td>0.235862</td>\n",
       "      <td>-0.007932</td>\n",
       "      <td>0.211442</td>\n",
       "      <td>-0.209817</td>\n",
       "      <td>...</td>\n",
       "      <td>0.014676</td>\n",
       "      <td>0.016278</td>\n",
       "      <td>-0.061462</td>\n",
       "      <td>0.355196</td>\n",
       "      <td>-0.179086</td>\n",
       "      <td>-0.106947</td>\n",
       "      <td>-0.215039</td>\n",
       "      <td>0.050698</td>\n",
       "      <td>0.0</td>\n",
       "      <td>0</td>\n",
       "    </tr>\n",
       "    <tr>\n",
       "      <th>1</th>\n",
       "      <td>3150</td>\n",
       "      <td>1.313281</td>\n",
       "      <td>-0.257923</td>\n",
       "      <td>0.118463</td>\n",
       "      <td>-0.735557</td>\n",
       "      <td>-0.569308</td>\n",
       "      <td>-0.733577</td>\n",
       "      <td>-0.138659</td>\n",
       "      <td>-0.141641</td>\n",
       "      <td>1.708019</td>\n",
       "      <td>...</td>\n",
       "      <td>-0.082467</td>\n",
       "      <td>0.126066</td>\n",
       "      <td>-0.223157</td>\n",
       "      <td>-0.074977</td>\n",
       "      <td>0.921940</td>\n",
       "      <td>-0.528283</td>\n",
       "      <td>0.064476</td>\n",
       "      <td>0.013132</td>\n",
       "      <td>0.0</td>\n",
       "      <td>0</td>\n",
       "    </tr>\n",
       "    <tr>\n",
       "      <th>2</th>\n",
       "      <td>16676</td>\n",
       "      <td>1.158480</td>\n",
       "      <td>0.168947</td>\n",
       "      <td>0.536345</td>\n",
       "      <td>1.187908</td>\n",
       "      <td>-0.265547</td>\n",
       "      <td>-0.076325</td>\n",
       "      <td>-0.355844</td>\n",
       "      <td>0.144615</td>\n",
       "      <td>1.462346</td>\n",
       "      <td>...</td>\n",
       "      <td>0.016492</td>\n",
       "      <td>0.263518</td>\n",
       "      <td>-0.076711</td>\n",
       "      <td>-0.079402</td>\n",
       "      <td>0.502827</td>\n",
       "      <td>-0.270819</td>\n",
       "      <td>-0.004966</td>\n",
       "      <td>-0.003372</td>\n",
       "      <td>0.0</td>\n",
       "      <td>0</td>\n",
       "    </tr>\n",
       "    <tr>\n",
       "      <th>3</th>\n",
       "      <td>17701</td>\n",
       "      <td>-1.279231</td>\n",
       "      <td>-0.153303</td>\n",
       "      <td>3.296310</td>\n",
       "      <td>3.320441</td>\n",
       "      <td>1.139018</td>\n",
       "      <td>0.542343</td>\n",
       "      <td>-0.729928</td>\n",
       "      <td>-0.051774</td>\n",
       "      <td>0.922712</td>\n",
       "      <td>...</td>\n",
       "      <td>-0.409746</td>\n",
       "      <td>-0.342575</td>\n",
       "      <td>-0.493297</td>\n",
       "      <td>-0.017046</td>\n",
       "      <td>-0.107404</td>\n",
       "      <td>0.101164</td>\n",
       "      <td>-0.197940</td>\n",
       "      <td>-0.435654</td>\n",
       "      <td>0.0</td>\n",
       "      <td>0</td>\n",
       "    </tr>\n",
       "    <tr>\n",
       "      <th>4</th>\n",
       "      <td>28131</td>\n",
       "      <td>1.069507</td>\n",
       "      <td>-0.000362</td>\n",
       "      <td>1.448936</td>\n",
       "      <td>2.874498</td>\n",
       "      <td>-0.736266</td>\n",
       "      <td>0.831932</td>\n",
       "      <td>-0.762267</td>\n",
       "      <td>0.406772</td>\n",
       "      <td>0.626473</td>\n",
       "      <td>...</td>\n",
       "      <td>0.035393</td>\n",
       "      <td>0.444433</td>\n",
       "      <td>-0.085413</td>\n",
       "      <td>0.099090</td>\n",
       "      <td>0.506438</td>\n",
       "      <td>0.246418</td>\n",
       "      <td>0.057864</td>\n",
       "      <td>0.021133</td>\n",
       "      <td>0.0</td>\n",
       "      <td>0</td>\n",
       "    </tr>\n",
       "  </tbody>\n",
       "</table>\n",
       "<p>5 rows × 31 columns</p>\n",
       "</div>"
      ],
      "text/plain": [
       "    Time        V1        V2        V3        V4        V5        V6  \\\n",
       "0   2812 -0.633403  0.963616  2.494946  2.099051 -0.404331  0.235862   \n",
       "1   3150  1.313281 -0.257923  0.118463 -0.735557 -0.569308 -0.733577   \n",
       "2  16676  1.158480  0.168947  0.536345  1.187908 -0.265547 -0.076325   \n",
       "3  17701 -1.279231 -0.153303  3.296310  3.320441  1.139018  0.542343   \n",
       "4  28131  1.069507 -0.000362  1.448936  2.874498 -0.736266  0.831932   \n",
       "\n",
       "         V7        V8        V9  ...       V21       V22       V23       V24  \\\n",
       "0 -0.007932  0.211442 -0.209817  ...  0.014676  0.016278 -0.061462  0.355196   \n",
       "1 -0.138659 -0.141641  1.708019  ... -0.082467  0.126066 -0.223157 -0.074977   \n",
       "2 -0.355844  0.144615  1.462346  ...  0.016492  0.263518 -0.076711 -0.079402   \n",
       "3 -0.729928 -0.051774  0.922712  ... -0.409746 -0.342575 -0.493297 -0.017046   \n",
       "4 -0.762267  0.406772  0.626473  ...  0.035393  0.444433 -0.085413  0.099090   \n",
       "\n",
       "        V25       V26       V27       V28  Amount  Class  \n",
       "0 -0.179086 -0.106947 -0.215039  0.050698     0.0      0  \n",
       "1  0.921940 -0.528283  0.064476  0.013132     0.0      0  \n",
       "2  0.502827 -0.270819 -0.004966 -0.003372     0.0      0  \n",
       "3 -0.107404  0.101164 -0.197940 -0.435654     0.0      0  \n",
       "4  0.506438  0.246418  0.057864  0.021133     0.0      0  \n",
       "\n",
       "[5 rows x 31 columns]"
      ]
     },
     "execution_count": 113,
     "metadata": {},
     "output_type": "execute_result"
    }
   ],
   "source": [
    "bq_data_client = bq.query(query = query).to_dataframe()\n",
    "bq_data_client.head()"
   ]
  },
  {
   "cell_type": "code",
   "execution_count": 114,
   "id": "6ca58f5d-4ae7-4d49-aca2-3ba839614511",
   "metadata": {
    "tags": []
   },
   "outputs": [
    {
     "data": {
      "text/plain": [
       "pandas.core.frame.DataFrame"
      ]
     },
     "execution_count": 114,
     "metadata": {},
     "output_type": "execute_result"
    }
   ],
   "source": [
    "type(bq_data_client)"
   ]
  },
  {
   "cell_type": "code",
   "execution_count": 115,
   "id": "2e1e79ff-8a1b-475d-959e-05ccc8f7c4b7",
   "metadata": {
    "tags": []
   },
   "outputs": [
    {
     "data": {
      "text/plain": [
       "(228061, 31)"
      ]
     },
     "execution_count": 115,
     "metadata": {},
     "output_type": "execute_result"
    }
   ],
   "source": [
    "bq_data_client.shape"
   ]
  },
  {
   "cell_type": "markdown",
   "id": "e4978113-1687-4534-97a9-b43abe00fe85",
   "metadata": {},
   "source": [
    "### BigQuery BigFrames Client\n",
    "\n",
    "https://cloud.google.com/python/docs/reference/bigframes/latest"
   ]
  },
  {
   "cell_type": "code",
   "execution_count": 116,
   "id": "7facdcda-35ec-4d12-b34c-165d518993ab",
   "metadata": {
    "tags": []
   },
   "outputs": [
    {
     "data": {
      "text/html": [
       "Query job e221d3fa-b388-4c97-8ab4-a4cca0ea0eea is DONE. 72.7 MB processed. <a target=\"_blank\" href=\"https://console.cloud.google.com/bigquery?project=statmike-mlops-349915&j=bq:us-central1:e221d3fa-b388-4c97-8ab4-a4cca0ea0eea&page=queryresults\">Open Job</a>"
      ],
      "text/plain": [
       "<IPython.core.display.HTML object>"
      ]
     },
     "metadata": {},
     "output_type": "display_data"
    },
    {
     "data": {
      "text/html": [
       "Query job af4b3446-eb3a-4a3f-b5df-6824033b6c01 is DONE. 56.6 MB processed. <a target=\"_blank\" href=\"https://console.cloud.google.com/bigquery?project=statmike-mlops-349915&j=bq:us-central1:af4b3446-eb3a-4a3f-b5df-6824033b6c01&page=queryresults\">Open Job</a>"
      ],
      "text/plain": [
       "<IPython.core.display.HTML object>"
      ]
     },
     "metadata": {},
     "output_type": "display_data"
    },
    {
     "data": {
      "text/html": [
       "Query job 54317fa4-5e32-4f2b-9a69-583e0eb8c901 is DONE. 56.6 MB processed. <a target=\"_blank\" href=\"https://console.cloud.google.com/bigquery?project=statmike-mlops-349915&j=bq:us-central1:54317fa4-5e32-4f2b-9a69-583e0eb8c901&page=queryresults\">Open Job</a>"
      ],
      "text/plain": [
       "<IPython.core.display.HTML object>"
      ]
     },
     "metadata": {},
     "output_type": "display_data"
    },
    {
     "data": {
      "text/html": [
       "<div>\n",
       "<style scoped>\n",
       "    .dataframe tbody tr th:only-of-type {\n",
       "        vertical-align: middle;\n",
       "    }\n",
       "\n",
       "    .dataframe tbody tr th {\n",
       "        vertical-align: top;\n",
       "    }\n",
       "\n",
       "    .dataframe thead th {\n",
       "        text-align: right;\n",
       "    }\n",
       "</style>\n",
       "<table border=\"1\" class=\"dataframe\">\n",
       "  <thead>\n",
       "    <tr style=\"text-align: right;\">\n",
       "      <th></th>\n",
       "      <th>Time</th>\n",
       "      <th>V1</th>\n",
       "      <th>V2</th>\n",
       "      <th>V3</th>\n",
       "      <th>V4</th>\n",
       "      <th>V5</th>\n",
       "      <th>V6</th>\n",
       "      <th>V7</th>\n",
       "      <th>V8</th>\n",
       "      <th>V9</th>\n",
       "      <th>...</th>\n",
       "      <th>V21</th>\n",
       "      <th>V22</th>\n",
       "      <th>V23</th>\n",
       "      <th>V24</th>\n",
       "      <th>V25</th>\n",
       "      <th>V26</th>\n",
       "      <th>V27</th>\n",
       "      <th>V28</th>\n",
       "      <th>Amount</th>\n",
       "      <th>Class</th>\n",
       "    </tr>\n",
       "  </thead>\n",
       "  <tbody>\n",
       "    <tr>\n",
       "      <th>0</th>\n",
       "      <td>72890</td>\n",
       "      <td>-1.22258</td>\n",
       "      <td>-0.017622</td>\n",
       "      <td>2.317581</td>\n",
       "      <td>-1.547722</td>\n",
       "      <td>-0.958068</td>\n",
       "      <td>-0.370571</td>\n",
       "      <td>-0.583838</td>\n",
       "      <td>0.384328</td>\n",
       "      <td>-0.72238</td>\n",
       "      <td>...</td>\n",
       "      <td>0.430025</td>\n",
       "      <td>1.217131</td>\n",
       "      <td>-0.463494</td>\n",
       "      <td>0.456253</td>\n",
       "      <td>0.385304</td>\n",
       "      <td>-0.104713</td>\n",
       "      <td>-0.303068</td>\n",
       "      <td>-0.300302</td>\n",
       "      <td>5.9</td>\n",
       "      <td>0</td>\n",
       "    </tr>\n",
       "    <tr>\n",
       "      <th>1</th>\n",
       "      <td>131206</td>\n",
       "      <td>1.967597</td>\n",
       "      <td>-1.009301</td>\n",
       "      <td>-1.970656</td>\n",
       "      <td>-0.406056</td>\n",
       "      <td>1.614598</td>\n",
       "      <td>3.92548</td>\n",
       "      <td>-1.209586</td>\n",
       "      <td>0.952736</td>\n",
       "      <td>-0.429297</td>\n",
       "      <td>...</td>\n",
       "      <td>-0.288566</td>\n",
       "      <td>-0.420307</td>\n",
       "      <td>0.258054</td>\n",
       "      <td>0.632264</td>\n",
       "      <td>-0.148758</td>\n",
       "      <td>-0.656398</td>\n",
       "      <td>0.077885</td>\n",
       "      <td>-0.027551</td>\n",
       "      <td>59.0</td>\n",
       "      <td>0</td>\n",
       "    </tr>\n",
       "    <tr>\n",
       "      <th>2</th>\n",
       "      <td>122831</td>\n",
       "      <td>2.290614</td>\n",
       "      <td>-1.288035</td>\n",
       "      <td>-1.091499</td>\n",
       "      <td>-1.591945</td>\n",
       "      <td>-0.983697</td>\n",
       "      <td>-0.58711</td>\n",
       "      <td>-0.952236</td>\n",
       "      <td>-0.272064</td>\n",
       "      <td>-1.392405</td>\n",
       "      <td>...</td>\n",
       "      <td>-0.161871</td>\n",
       "      <td>0.04143</td>\n",
       "      <td>0.225622</td>\n",
       "      <td>0.672485</td>\n",
       "      <td>-0.105101</td>\n",
       "      <td>-0.194599</td>\n",
       "      <td>0.007488</td>\n",
       "      <td>-0.040725</td>\n",
       "      <td>30.0</td>\n",
       "      <td>0</td>\n",
       "    </tr>\n",
       "    <tr>\n",
       "      <th>3</th>\n",
       "      <td>68397</td>\n",
       "      <td>1.258859</td>\n",
       "      <td>0.440981</td>\n",
       "      <td>0.331167</td>\n",
       "      <td>0.681581</td>\n",
       "      <td>-0.267935</td>\n",
       "      <td>-1.046229</td>\n",
       "      <td>0.163925</td>\n",
       "      <td>-0.269223</td>\n",
       "      <td>-0.142249</td>\n",
       "      <td>...</td>\n",
       "      <td>-0.27486</td>\n",
       "      <td>-0.734847</td>\n",
       "      <td>0.116306</td>\n",
       "      <td>0.376938</td>\n",
       "      <td>0.25547</td>\n",
       "      <td>0.090629</td>\n",
       "      <td>-0.015355</td>\n",
       "      <td>0.033149</td>\n",
       "      <td>0.89</td>\n",
       "      <td>0</td>\n",
       "    </tr>\n",
       "    <tr>\n",
       "      <th>4</th>\n",
       "      <td>152137</td>\n",
       "      <td>2.023988</td>\n",
       "      <td>-0.351874</td>\n",
       "      <td>-0.494781</td>\n",
       "      <td>0.36047</td>\n",
       "      <td>-0.400929</td>\n",
       "      <td>-0.202362</td>\n",
       "      <td>-0.544039</td>\n",
       "      <td>-0.078031</td>\n",
       "      <td>1.364484</td>\n",
       "      <td>...</td>\n",
       "      <td>0.160192</td>\n",
       "      <td>0.774027</td>\n",
       "      <td>0.021697</td>\n",
       "      <td>-0.601828</td>\n",
       "      <td>0.029147</td>\n",
       "      <td>-0.175735</td>\n",
       "      <td>0.04743</td>\n",
       "      <td>-0.041086</td>\n",
       "      <td>9.99</td>\n",
       "      <td>0</td>\n",
       "    </tr>\n",
       "  </tbody>\n",
       "</table>\n",
       "<p>5 rows × 31 columns</p>\n",
       "</div>[5 rows x 31 columns in total]"
      ],
      "text/plain": [
       "     Time        V1        V2        V3        V4        V5        V6  \\\n",
       "0   72890  -1.22258 -0.017622  2.317581 -1.547722 -0.958068 -0.370571   \n",
       "1  131206  1.967597 -1.009301 -1.970656 -0.406056  1.614598   3.92548   \n",
       "2  122831  2.290614 -1.288035 -1.091499 -1.591945 -0.983697  -0.58711   \n",
       "3   68397  1.258859  0.440981  0.331167  0.681581 -0.267935 -1.046229   \n",
       "4  152137  2.023988 -0.351874 -0.494781   0.36047 -0.400929 -0.202362   \n",
       "\n",
       "         V7        V8        V9  ...       V21       V22       V23       V24  \\\n",
       "0 -0.583838  0.384328  -0.72238  ...  0.430025  1.217131 -0.463494  0.456253   \n",
       "1 -1.209586  0.952736 -0.429297  ... -0.288566 -0.420307  0.258054  0.632264   \n",
       "2 -0.952236 -0.272064 -1.392405  ... -0.161871   0.04143  0.225622  0.672485   \n",
       "3  0.163925 -0.269223 -0.142249  ...  -0.27486 -0.734847  0.116306  0.376938   \n",
       "4 -0.544039 -0.078031  1.364484  ...  0.160192  0.774027  0.021697 -0.601828   \n",
       "\n",
       "        V25       V26       V27       V28  Amount  Class  \n",
       "0  0.385304 -0.104713 -0.303068 -0.300302     5.9      0  \n",
       "1 -0.148758 -0.656398  0.077885 -0.027551    59.0      0  \n",
       "2 -0.105101 -0.194599  0.007488 -0.040725    30.0      0  \n",
       "3   0.25547  0.090629 -0.015355  0.033149    0.89      0  \n",
       "4  0.029147 -0.175735   0.04743 -0.041086    9.99      0  \n",
       "\n",
       "[5 rows x 31 columns]"
      ]
     },
     "execution_count": 116,
     "metadata": {},
     "output_type": "execute_result"
    }
   ],
   "source": [
    "bq_data_bigframes = bpd.read_gbq(query)\n",
    "bq_data_bigframes.head()"
   ]
  },
  {
   "cell_type": "code",
   "execution_count": 117,
   "id": "49f34ee8-21b8-4983-9f8d-f7cd6bbcceaa",
   "metadata": {
    "tags": []
   },
   "outputs": [
    {
     "data": {
      "text/plain": [
       "bigframes.dataframe.DataFrame"
      ]
     },
     "execution_count": 117,
     "metadata": {},
     "output_type": "execute_result"
    }
   ],
   "source": [
    "type(bq_data_bigframes)"
   ]
  },
  {
   "cell_type": "code",
   "execution_count": 118,
   "id": "8ca4e952-ae52-4c09-a662-a1157cf05765",
   "metadata": {
    "tags": []
   },
   "outputs": [
    {
     "data": {
      "text/html": [
       "Query job b4b3b364-fa31-4b16-8387-e8183cd62c66 is DONE. 0 Bytes processed. <a target=\"_blank\" href=\"https://console.cloud.google.com/bigquery?project=statmike-mlops-349915&j=bq:us-central1:b4b3b364-fa31-4b16-8387-e8183cd62c66&page=queryresults\">Open Job</a>"
      ],
      "text/plain": [
       "<IPython.core.display.HTML object>"
      ]
     },
     "metadata": {},
     "output_type": "display_data"
    },
    {
     "data": {
      "text/plain": [
       "(228061, 31)"
      ]
     },
     "execution_count": 118,
     "metadata": {},
     "output_type": "execute_result"
    }
   ],
   "source": [
    "bq_data_bigframes.shape"
   ]
  },
  {
   "cell_type": "code",
   "execution_count": 119,
   "id": "3f9ab244-b607-42f2-a641-1955f57c60a2",
   "metadata": {
    "tags": []
   },
   "outputs": [
    {
     "data": {
      "text/html": [
       "Query job edabdb43-6c88-46c9-b447-2a8de6bfda59 is DONE. 56.6 MB processed. <a target=\"_blank\" href=\"https://console.cloud.google.com/bigquery?project=statmike-mlops-349915&j=bq:us-central1:edabdb43-6c88-46c9-b447-2a8de6bfda59&page=queryresults\">Open Job</a>"
      ],
      "text/plain": [
       "<IPython.core.display.HTML object>"
      ]
     },
     "metadata": {},
     "output_type": "display_data"
    },
    {
     "data": {
      "text/plain": [
       "pandas.core.frame.DataFrame"
      ]
     },
     "execution_count": 119,
     "metadata": {},
     "output_type": "execute_result"
    }
   ],
   "source": [
    "bq_data_bigframes = bq_data_bigframes.to_pandas()\n",
    "type(bq_data_bigframes)"
   ]
  },
  {
   "cell_type": "code",
   "execution_count": 120,
   "id": "f05a55f4-1297-469e-af85-0d6fbd1c5d38",
   "metadata": {
    "tags": []
   },
   "outputs": [
    {
     "data": {
      "text/plain": [
       "(228061, 31)"
      ]
     },
     "execution_count": 120,
     "metadata": {},
     "output_type": "execute_result"
    }
   ],
   "source": [
    "bq_data_bigframes.shape"
   ]
  },
  {
   "cell_type": "markdown",
   "id": "2a4209e2-3030-4b6c-8687-faa6f04cb2d0",
   "metadata": {},
   "source": [
    "### BigQuery Storage Client\n",
    "\n",
    "https://cloud.google.com/python/docs/reference/bigquerystorage/latest"
   ]
  },
  {
   "cell_type": "code",
   "execution_count": 204,
   "id": "28b2d98a-cdec-4ec3-9cab-fc66b63ce829",
   "metadata": {
    "tags": []
   },
   "outputs": [],
   "source": [
    "read_session = bqstorage.create_read_session(\n",
    "    request = dict(\n",
    "        parent = f'projects/{PROJECT_ID}',\n",
    "        read_session = dict(\n",
    "            table = f\"projects/{BQ_PROJECT}/datasets/{BQ_DATASET}/tables/{BQ_TABLE}\",\n",
    "            data_format = bigquery_storage.types.DataFormat.ARROW,\n",
    "            read_options = dict(\n",
    "                row_restriction = \"splits = 'TRAIN'\",\n",
    "                selected_fields = bq_data_bigframes.columns.tolist()\n",
    "            )\n",
    "        ),\n",
    "        max_stream_count = 0\n",
    "    )\n",
    ")"
   ]
  },
  {
   "cell_type": "code",
   "execution_count": 205,
   "id": "c90bd26b-cec2-4c5b-80c8-60496b7f9a5b",
   "metadata": {
    "tags": []
   },
   "outputs": [
    {
     "data": {
      "text/plain": [
       "1"
      ]
     },
     "execution_count": 205,
     "metadata": {},
     "output_type": "execute_result"
    }
   ],
   "source": [
    "len(read_session.streams)"
   ]
  },
  {
   "cell_type": "code",
   "execution_count": 206,
   "id": "ebd1033e-e7e1-4798-a895-00e664367388",
   "metadata": {
    "tags": []
   },
   "outputs": [],
   "source": [
    "def read_stream(stream):\n",
    "    # setup a reader\n",
    "    reader = bqstorage.read_rows(name = stream.name)\n",
    "    # read rows from reader into a dataframe.  Note this is actually multiple operations - read and convert\n",
    "    return reader.to_dataframe()\n",
    "\n",
    "\n",
    "bq_data_storage = []\n",
    "with concurrent.futures.ThreadPoolExecutor(max_workers = len(read_session.streams)) as executor:\n",
    "    futures = {\n",
    "        executor.submit(read_stream, stream): stream for stream in read_session.streams\n",
    "    }\n",
    "    for future in concurrent.futures.as_completed(futures):\n",
    "        stream = futures[future]\n",
    "        bq_data_storage.append(future.result())"
   ]
  },
  {
   "cell_type": "code",
   "execution_count": 207,
   "id": "0f0b572d-cc6f-4b50-bb20-8d924611fe0d",
   "metadata": {
    "tags": []
   },
   "outputs": [
    {
     "data": {
      "text/plain": [
       "1"
      ]
     },
     "execution_count": 207,
     "metadata": {},
     "output_type": "execute_result"
    }
   ],
   "source": [
    "len(bq_data_storage)"
   ]
  },
  {
   "cell_type": "code",
   "execution_count": 208,
   "id": "6c466822-cd9b-4f3a-980b-4f1ab0f4ee3f",
   "metadata": {
    "tags": []
   },
   "outputs": [
    {
     "data": {
      "text/plain": [
       "(228061, 31)"
      ]
     },
     "execution_count": 208,
     "metadata": {},
     "output_type": "execute_result"
    }
   ],
   "source": [
    "bq_data_storage[0].shape"
   ]
  },
  {
   "cell_type": "code",
   "execution_count": 209,
   "id": "f43461bc-bb2e-4e38-97aa-618eb58adf35",
   "metadata": {
    "tags": []
   },
   "outputs": [
    {
     "data": {
      "text/plain": [
       "(228061, 31)"
      ]
     },
     "execution_count": 209,
     "metadata": {},
     "output_type": "execute_result"
    }
   ],
   "source": [
    "bq_data_storage = pd.concat(bq_data_storage)\n",
    "bq_data_storage.shape"
   ]
  },
  {
   "cell_type": "code",
   "execution_count": 210,
   "id": "1659f506-2c83-4fad-9bd3-af7b30010619",
   "metadata": {
    "tags": []
   },
   "outputs": [
    {
     "data": {
      "text/plain": [
       "pandas.core.frame.DataFrame"
      ]
     },
     "execution_count": 210,
     "metadata": {},
     "output_type": "execute_result"
    }
   ],
   "source": [
    "type(bq_data_storage)"
   ]
  },
  {
   "cell_type": "code",
   "execution_count": 211,
   "id": "64e11d42-3f9d-4ea8-910d-30eedc1ea9ec",
   "metadata": {
    "tags": []
   },
   "outputs": [
    {
     "data": {
      "text/html": [
       "<div>\n",
       "<style scoped>\n",
       "    .dataframe tbody tr th:only-of-type {\n",
       "        vertical-align: middle;\n",
       "    }\n",
       "\n",
       "    .dataframe tbody tr th {\n",
       "        vertical-align: top;\n",
       "    }\n",
       "\n",
       "    .dataframe thead th {\n",
       "        text-align: right;\n",
       "    }\n",
       "</style>\n",
       "<table border=\"1\" class=\"dataframe\">\n",
       "  <thead>\n",
       "    <tr style=\"text-align: right;\">\n",
       "      <th></th>\n",
       "      <th>Time</th>\n",
       "      <th>V1</th>\n",
       "      <th>V2</th>\n",
       "      <th>V3</th>\n",
       "      <th>V4</th>\n",
       "      <th>V5</th>\n",
       "      <th>V6</th>\n",
       "      <th>V7</th>\n",
       "      <th>V8</th>\n",
       "      <th>V9</th>\n",
       "      <th>...</th>\n",
       "      <th>V21</th>\n",
       "      <th>V22</th>\n",
       "      <th>V23</th>\n",
       "      <th>V24</th>\n",
       "      <th>V25</th>\n",
       "      <th>V26</th>\n",
       "      <th>V27</th>\n",
       "      <th>V28</th>\n",
       "      <th>Amount</th>\n",
       "      <th>Class</th>\n",
       "    </tr>\n",
       "  </thead>\n",
       "  <tbody>\n",
       "    <tr>\n",
       "      <th>0</th>\n",
       "      <td>2812</td>\n",
       "      <td>-0.633403</td>\n",
       "      <td>0.963616</td>\n",
       "      <td>2.494946</td>\n",
       "      <td>2.099051</td>\n",
       "      <td>-0.404331</td>\n",
       "      <td>0.235862</td>\n",
       "      <td>-0.007932</td>\n",
       "      <td>0.211442</td>\n",
       "      <td>-0.209817</td>\n",
       "      <td>...</td>\n",
       "      <td>0.014676</td>\n",
       "      <td>0.016278</td>\n",
       "      <td>-0.061462</td>\n",
       "      <td>0.355196</td>\n",
       "      <td>-0.179086</td>\n",
       "      <td>-0.106947</td>\n",
       "      <td>-0.215039</td>\n",
       "      <td>0.050698</td>\n",
       "      <td>0.0</td>\n",
       "      <td>0</td>\n",
       "    </tr>\n",
       "    <tr>\n",
       "      <th>1</th>\n",
       "      <td>3150</td>\n",
       "      <td>1.313281</td>\n",
       "      <td>-0.257923</td>\n",
       "      <td>0.118463</td>\n",
       "      <td>-0.735557</td>\n",
       "      <td>-0.569308</td>\n",
       "      <td>-0.733577</td>\n",
       "      <td>-0.138659</td>\n",
       "      <td>-0.141641</td>\n",
       "      <td>1.708019</td>\n",
       "      <td>...</td>\n",
       "      <td>-0.082467</td>\n",
       "      <td>0.126066</td>\n",
       "      <td>-0.223157</td>\n",
       "      <td>-0.074977</td>\n",
       "      <td>0.921940</td>\n",
       "      <td>-0.528283</td>\n",
       "      <td>0.064476</td>\n",
       "      <td>0.013132</td>\n",
       "      <td>0.0</td>\n",
       "      <td>0</td>\n",
       "    </tr>\n",
       "    <tr>\n",
       "      <th>2</th>\n",
       "      <td>16676</td>\n",
       "      <td>1.158480</td>\n",
       "      <td>0.168947</td>\n",
       "      <td>0.536345</td>\n",
       "      <td>1.187908</td>\n",
       "      <td>-0.265547</td>\n",
       "      <td>-0.076325</td>\n",
       "      <td>-0.355844</td>\n",
       "      <td>0.144615</td>\n",
       "      <td>1.462346</td>\n",
       "      <td>...</td>\n",
       "      <td>0.016492</td>\n",
       "      <td>0.263518</td>\n",
       "      <td>-0.076711</td>\n",
       "      <td>-0.079402</td>\n",
       "      <td>0.502827</td>\n",
       "      <td>-0.270819</td>\n",
       "      <td>-0.004966</td>\n",
       "      <td>-0.003372</td>\n",
       "      <td>0.0</td>\n",
       "      <td>0</td>\n",
       "    </tr>\n",
       "    <tr>\n",
       "      <th>3</th>\n",
       "      <td>17701</td>\n",
       "      <td>-1.279231</td>\n",
       "      <td>-0.153303</td>\n",
       "      <td>3.296310</td>\n",
       "      <td>3.320441</td>\n",
       "      <td>1.139018</td>\n",
       "      <td>0.542343</td>\n",
       "      <td>-0.729928</td>\n",
       "      <td>-0.051774</td>\n",
       "      <td>0.922712</td>\n",
       "      <td>...</td>\n",
       "      <td>-0.409746</td>\n",
       "      <td>-0.342575</td>\n",
       "      <td>-0.493297</td>\n",
       "      <td>-0.017046</td>\n",
       "      <td>-0.107404</td>\n",
       "      <td>0.101164</td>\n",
       "      <td>-0.197940</td>\n",
       "      <td>-0.435654</td>\n",
       "      <td>0.0</td>\n",
       "      <td>0</td>\n",
       "    </tr>\n",
       "    <tr>\n",
       "      <th>4</th>\n",
       "      <td>28131</td>\n",
       "      <td>1.069507</td>\n",
       "      <td>-0.000362</td>\n",
       "      <td>1.448936</td>\n",
       "      <td>2.874498</td>\n",
       "      <td>-0.736266</td>\n",
       "      <td>0.831932</td>\n",
       "      <td>-0.762267</td>\n",
       "      <td>0.406772</td>\n",
       "      <td>0.626473</td>\n",
       "      <td>...</td>\n",
       "      <td>0.035393</td>\n",
       "      <td>0.444433</td>\n",
       "      <td>-0.085413</td>\n",
       "      <td>0.099090</td>\n",
       "      <td>0.506438</td>\n",
       "      <td>0.246418</td>\n",
       "      <td>0.057864</td>\n",
       "      <td>0.021133</td>\n",
       "      <td>0.0</td>\n",
       "      <td>0</td>\n",
       "    </tr>\n",
       "  </tbody>\n",
       "</table>\n",
       "<p>5 rows × 31 columns</p>\n",
       "</div>"
      ],
      "text/plain": [
       "    Time        V1        V2        V3        V4        V5        V6  \\\n",
       "0   2812 -0.633403  0.963616  2.494946  2.099051 -0.404331  0.235862   \n",
       "1   3150  1.313281 -0.257923  0.118463 -0.735557 -0.569308 -0.733577   \n",
       "2  16676  1.158480  0.168947  0.536345  1.187908 -0.265547 -0.076325   \n",
       "3  17701 -1.279231 -0.153303  3.296310  3.320441  1.139018  0.542343   \n",
       "4  28131  1.069507 -0.000362  1.448936  2.874498 -0.736266  0.831932   \n",
       "\n",
       "         V7        V8        V9  ...       V21       V22       V23       V24  \\\n",
       "0 -0.007932  0.211442 -0.209817  ...  0.014676  0.016278 -0.061462  0.355196   \n",
       "1 -0.138659 -0.141641  1.708019  ... -0.082467  0.126066 -0.223157 -0.074977   \n",
       "2 -0.355844  0.144615  1.462346  ...  0.016492  0.263518 -0.076711 -0.079402   \n",
       "3 -0.729928 -0.051774  0.922712  ... -0.409746 -0.342575 -0.493297 -0.017046   \n",
       "4 -0.762267  0.406772  0.626473  ...  0.035393  0.444433 -0.085413  0.099090   \n",
       "\n",
       "        V25       V26       V27       V28  Amount  Class  \n",
       "0 -0.179086 -0.106947 -0.215039  0.050698     0.0      0  \n",
       "1  0.921940 -0.528283  0.064476  0.013132     0.0      0  \n",
       "2  0.502827 -0.270819 -0.004966 -0.003372     0.0      0  \n",
       "3 -0.107404  0.101164 -0.197940 -0.435654     0.0      0  \n",
       "4  0.506438  0.246418  0.057864  0.021133     0.0      0  \n",
       "\n",
       "[5 rows x 31 columns]"
      ]
     },
     "execution_count": 211,
     "metadata": {},
     "output_type": "execute_result"
    }
   ],
   "source": [
    "bq_data_storage.head()"
   ]
  },
  {
   "cell_type": "markdown",
   "id": "59109c58-de01-4578-b21c-8ae1fed8f4af",
   "metadata": {},
   "source": [
    "### Indirect BigQuery with `pandas-gbq`\n",
    "\n",
    "When working with [Pandas](https://pandas.pydata.org/docs/user_guide/index.html#user-guide) the methods above show the client returning data to pandas dataframes.  This section will show a pandas mudule, [pandas-gbq](https://pandas-gbq.readthedocs.io/en/latest/) that wraps the BigQuery client so that pandas can retrieve BigQuery data to dataframes.\n",
    "\n",
    "References:\n",
    "- [Comparison of BigQuery Client with pandas-gbq](https://cloud.google.com/bigquery/docs/pandas-gbq-migration)"
   ]
  },
  {
   "cell_type": "code",
   "execution_count": 133,
   "id": "8c4a2fdb-91e3-4a91-8700-fbc67290caa9",
   "metadata": {
    "tags": []
   },
   "outputs": [
    {
     "data": {
      "text/html": [
       "<div>\n",
       "<style scoped>\n",
       "    .dataframe tbody tr th:only-of-type {\n",
       "        vertical-align: middle;\n",
       "    }\n",
       "\n",
       "    .dataframe tbody tr th {\n",
       "        vertical-align: top;\n",
       "    }\n",
       "\n",
       "    .dataframe thead th {\n",
       "        text-align: right;\n",
       "    }\n",
       "</style>\n",
       "<table border=\"1\" class=\"dataframe\">\n",
       "  <thead>\n",
       "    <tr style=\"text-align: right;\">\n",
       "      <th></th>\n",
       "      <th>Time</th>\n",
       "      <th>V1</th>\n",
       "      <th>V2</th>\n",
       "      <th>V3</th>\n",
       "      <th>V4</th>\n",
       "      <th>V5</th>\n",
       "      <th>V6</th>\n",
       "      <th>V7</th>\n",
       "      <th>V8</th>\n",
       "      <th>V9</th>\n",
       "      <th>...</th>\n",
       "      <th>V21</th>\n",
       "      <th>V22</th>\n",
       "      <th>V23</th>\n",
       "      <th>V24</th>\n",
       "      <th>V25</th>\n",
       "      <th>V26</th>\n",
       "      <th>V27</th>\n",
       "      <th>V28</th>\n",
       "      <th>Amount</th>\n",
       "      <th>Class</th>\n",
       "    </tr>\n",
       "  </thead>\n",
       "  <tbody>\n",
       "    <tr>\n",
       "      <th>0</th>\n",
       "      <td>2812</td>\n",
       "      <td>-0.633403</td>\n",
       "      <td>0.963616</td>\n",
       "      <td>2.494946</td>\n",
       "      <td>2.099051</td>\n",
       "      <td>-0.404331</td>\n",
       "      <td>0.235862</td>\n",
       "      <td>-0.007932</td>\n",
       "      <td>0.211442</td>\n",
       "      <td>-0.209817</td>\n",
       "      <td>...</td>\n",
       "      <td>0.014676</td>\n",
       "      <td>0.016278</td>\n",
       "      <td>-0.061462</td>\n",
       "      <td>0.355196</td>\n",
       "      <td>-0.179086</td>\n",
       "      <td>-0.106947</td>\n",
       "      <td>-0.215039</td>\n",
       "      <td>0.050698</td>\n",
       "      <td>0.0</td>\n",
       "      <td>0</td>\n",
       "    </tr>\n",
       "    <tr>\n",
       "      <th>1</th>\n",
       "      <td>3150</td>\n",
       "      <td>1.313281</td>\n",
       "      <td>-0.257923</td>\n",
       "      <td>0.118463</td>\n",
       "      <td>-0.735557</td>\n",
       "      <td>-0.569308</td>\n",
       "      <td>-0.733577</td>\n",
       "      <td>-0.138659</td>\n",
       "      <td>-0.141641</td>\n",
       "      <td>1.708019</td>\n",
       "      <td>...</td>\n",
       "      <td>-0.082467</td>\n",
       "      <td>0.126066</td>\n",
       "      <td>-0.223157</td>\n",
       "      <td>-0.074977</td>\n",
       "      <td>0.921940</td>\n",
       "      <td>-0.528283</td>\n",
       "      <td>0.064476</td>\n",
       "      <td>0.013132</td>\n",
       "      <td>0.0</td>\n",
       "      <td>0</td>\n",
       "    </tr>\n",
       "    <tr>\n",
       "      <th>2</th>\n",
       "      <td>16676</td>\n",
       "      <td>1.158480</td>\n",
       "      <td>0.168947</td>\n",
       "      <td>0.536345</td>\n",
       "      <td>1.187908</td>\n",
       "      <td>-0.265547</td>\n",
       "      <td>-0.076325</td>\n",
       "      <td>-0.355844</td>\n",
       "      <td>0.144615</td>\n",
       "      <td>1.462346</td>\n",
       "      <td>...</td>\n",
       "      <td>0.016492</td>\n",
       "      <td>0.263518</td>\n",
       "      <td>-0.076711</td>\n",
       "      <td>-0.079402</td>\n",
       "      <td>0.502827</td>\n",
       "      <td>-0.270819</td>\n",
       "      <td>-0.004966</td>\n",
       "      <td>-0.003372</td>\n",
       "      <td>0.0</td>\n",
       "      <td>0</td>\n",
       "    </tr>\n",
       "    <tr>\n",
       "      <th>3</th>\n",
       "      <td>17701</td>\n",
       "      <td>-1.279231</td>\n",
       "      <td>-0.153303</td>\n",
       "      <td>3.296310</td>\n",
       "      <td>3.320441</td>\n",
       "      <td>1.139018</td>\n",
       "      <td>0.542343</td>\n",
       "      <td>-0.729928</td>\n",
       "      <td>-0.051774</td>\n",
       "      <td>0.922712</td>\n",
       "      <td>...</td>\n",
       "      <td>-0.409746</td>\n",
       "      <td>-0.342575</td>\n",
       "      <td>-0.493297</td>\n",
       "      <td>-0.017046</td>\n",
       "      <td>-0.107404</td>\n",
       "      <td>0.101164</td>\n",
       "      <td>-0.197940</td>\n",
       "      <td>-0.435654</td>\n",
       "      <td>0.0</td>\n",
       "      <td>0</td>\n",
       "    </tr>\n",
       "    <tr>\n",
       "      <th>4</th>\n",
       "      <td>28131</td>\n",
       "      <td>1.069507</td>\n",
       "      <td>-0.000362</td>\n",
       "      <td>1.448936</td>\n",
       "      <td>2.874498</td>\n",
       "      <td>-0.736266</td>\n",
       "      <td>0.831932</td>\n",
       "      <td>-0.762267</td>\n",
       "      <td>0.406772</td>\n",
       "      <td>0.626473</td>\n",
       "      <td>...</td>\n",
       "      <td>0.035393</td>\n",
       "      <td>0.444433</td>\n",
       "      <td>-0.085413</td>\n",
       "      <td>0.099090</td>\n",
       "      <td>0.506438</td>\n",
       "      <td>0.246418</td>\n",
       "      <td>0.057864</td>\n",
       "      <td>0.021133</td>\n",
       "      <td>0.0</td>\n",
       "      <td>0</td>\n",
       "    </tr>\n",
       "  </tbody>\n",
       "</table>\n",
       "<p>5 rows × 31 columns</p>\n",
       "</div>"
      ],
      "text/plain": [
       "    Time        V1        V2        V3        V4        V5        V6  \\\n",
       "0   2812 -0.633403  0.963616  2.494946  2.099051 -0.404331  0.235862   \n",
       "1   3150  1.313281 -0.257923  0.118463 -0.735557 -0.569308 -0.733577   \n",
       "2  16676  1.158480  0.168947  0.536345  1.187908 -0.265547 -0.076325   \n",
       "3  17701 -1.279231 -0.153303  3.296310  3.320441  1.139018  0.542343   \n",
       "4  28131  1.069507 -0.000362  1.448936  2.874498 -0.736266  0.831932   \n",
       "\n",
       "         V7        V8        V9  ...       V21       V22       V23       V24  \\\n",
       "0 -0.007932  0.211442 -0.209817  ...  0.014676  0.016278 -0.061462  0.355196   \n",
       "1 -0.138659 -0.141641  1.708019  ... -0.082467  0.126066 -0.223157 -0.074977   \n",
       "2 -0.355844  0.144615  1.462346  ...  0.016492  0.263518 -0.076711 -0.079402   \n",
       "3 -0.729928 -0.051774  0.922712  ... -0.409746 -0.342575 -0.493297 -0.017046   \n",
       "4 -0.762267  0.406772  0.626473  ...  0.035393  0.444433 -0.085413  0.099090   \n",
       "\n",
       "        V25       V26       V27       V28  Amount  Class  \n",
       "0 -0.179086 -0.106947 -0.215039  0.050698     0.0      0  \n",
       "1  0.921940 -0.528283  0.064476  0.013132     0.0      0  \n",
       "2  0.502827 -0.270819 -0.004966 -0.003372     0.0      0  \n",
       "3 -0.107404  0.101164 -0.197940 -0.435654     0.0      0  \n",
       "4  0.506438  0.246418  0.057864  0.021133     0.0      0  \n",
       "\n",
       "[5 rows x 31 columns]"
      ]
     },
     "execution_count": 133,
     "metadata": {},
     "output_type": "execute_result"
    }
   ],
   "source": [
    "bq_data_pandasgbq = pd.read_gbq(query, project_id = PROJECT_ID)\n",
    "bq_data_pandasgbq.head()"
   ]
  },
  {
   "cell_type": "code",
   "execution_count": 134,
   "id": "4863857f-3cf9-40da-83af-f7046edf3fac",
   "metadata": {
    "tags": []
   },
   "outputs": [
    {
     "data": {
      "text/plain": [
       "pandas.core.frame.DataFrame"
      ]
     },
     "execution_count": 134,
     "metadata": {},
     "output_type": "execute_result"
    }
   ],
   "source": [
    "type(bq_data_pandasgbq)"
   ]
  },
  {
   "cell_type": "code",
   "execution_count": 135,
   "id": "f74ce91f-2681-4461-a412-55a60f9fd386",
   "metadata": {
    "tags": []
   },
   "outputs": [
    {
     "data": {
      "text/plain": [
       "(228061, 31)"
      ]
     },
     "execution_count": 135,
     "metadata": {},
     "output_type": "execute_result"
    }
   ],
   "source": [
    "bq_data_pandasgbq.shape"
   ]
  },
  {
   "cell_type": "markdown",
   "id": "9fa569d4-1000-4225-9feb-421025877e45",
   "metadata": {},
   "source": [
    "## From Pandas Dataframe To TensorFlow\n",
    "\n",
    "The methods above read data to a Pandas dataframe that is local to this session.  This section shows how to make the dataframe ready for TensorFlow as a `tf.data` object.  More methods are [covered here](https://www.tensorflow.org/tutorials/load_data/pandas_dataframe) in the TensorFlow tutorials."
   ]
  },
  {
   "cell_type": "code",
   "execution_count": 281,
   "id": "3768dd0a-a649-4b09-b476-c41900a867b1",
   "metadata": {
    "tags": []
   },
   "outputs": [],
   "source": [
    "training_data = bq_data_storage.copy()"
   ]
  },
  {
   "cell_type": "code",
   "execution_count": 287,
   "id": "4ebfed0a-0be7-496c-addd-1aa1e015157e",
   "metadata": {
    "tags": []
   },
   "outputs": [],
   "source": [
    "nclasses = training_data[VAR_TARGET].unique().shape[0]"
   ]
  },
  {
   "cell_type": "code",
   "execution_count": 288,
   "id": "e35d4e6d-577b-4dbf-b0c6-2e01d7d92a5d",
   "metadata": {
    "tags": []
   },
   "outputs": [],
   "source": [
    "def prep(features):\n",
    "    target = features.pop(VAR_TARGET)\n",
    "    target = tf.one_hot(tf.cast(target, tf.int64), nclasses)\n",
    "    target = tf.cast(target, tf.float64)\n",
    "    return(features, target)"
   ]
  },
  {
   "cell_type": "code",
   "execution_count": 297,
   "id": "bedb5078-e1ef-42ea-b643-b03bda42c7ca",
   "metadata": {
    "tags": []
   },
   "outputs": [],
   "source": [
    "training_reader = tf.data.Dataset.from_tensor_slices(dict(training_data))"
   ]
  },
  {
   "cell_type": "code",
   "execution_count": 343,
   "id": "c6fbb757-d59a-45ba-84ca-824628eee240",
   "metadata": {
    "tags": []
   },
   "outputs": [
    {
     "name": "stdout",
     "output_type": "stream",
     "text": [
      "features:\n",
      " ['Time', 'V1', 'V2', 'V3', 'V4', 'V5', 'V6', 'V7', 'V8', 'V9', 'V10', 'V11', 'V12', 'V13', 'V14', 'V15', 'V16', 'V17', 'V18', 'V19', 'V20', 'V21', 'V22', 'V23', 'V24', 'V25', 'V26', 'V27', 'V28', 'Amount']\n",
      "('Time', <tf.Tensor: shape=(5,), dtype=int64, numpy=array([ 2812,  3150, 16676, 17701, 28131])>)\n",
      "('V1', <tf.Tensor: shape=(5,), dtype=float64, numpy=array([-0.63340299,  1.31328087,  1.15847976, -1.27923083,  1.06950736])>)\n",
      "('V2', <tf.Tensor: shape=(5,), dtype=float64, numpy=\n",
      "array([ 9.63616039e-01, -2.57922822e-01,  1.68946502e-01, -1.53303332e-01,\n",
      "       -3.61567697e-04])>)\n",
      "('V3', <tf.Tensor: shape=(5,), dtype=float64, numpy=array([2.49494562, 0.11846283, 0.53634505, 3.29631037, 1.44893558])>)\n",
      "('V4', <tf.Tensor: shape=(5,), dtype=float64, numpy=array([ 2.09905099, -0.73555665,  1.18790841,  3.32044136,  2.87449797])>)\n",
      "('V5', <tf.Tensor: shape=(5,), dtype=float64, numpy=array([-0.40433067, -0.56930772, -0.26554689,  1.13901754, -0.73626591])>)\n",
      "('V6', <tf.Tensor: shape=(5,), dtype=float64, numpy=array([ 0.23586158, -0.73357721, -0.07632466,  0.54234305,  0.8319322 ])>)\n",
      "('V7', <tf.Tensor: shape=(5,), dtype=float64, numpy=array([-0.00793191, -0.13865918, -0.35584369, -0.72992832, -0.76226682])>)\n",
      "('V8', <tf.Tensor: shape=(5,), dtype=float64, numpy=array([ 0.21144152, -0.14164134,  0.14461505, -0.05177411,  0.40677214])>)\n",
      "('V9', <tf.Tensor: shape=(5,), dtype=float64, numpy=array([-0.20981682,  1.70801916,  1.46234622,  0.92271182,  0.62647258])>)\n",
      "('V10', <tf.Tensor: shape=(5,), dtype=float64, numpy=array([ 0.3082976 , -1.10329377, -0.17276001,  0.84594969,  0.37324618])>)\n",
      "('V11', <tf.Tensor: shape=(5,), dtype=float64, numpy=array([-1.20499231, -1.08782009,  2.05305928,  1.38923569, -1.32944263])>)\n",
      "('V12', <tf.Tensor: shape=(5,), dtype=float64, numpy=array([-0.47470781,  0.64467588, -2.73649895, -2.44018135, -0.1867695 ])>)\n",
      "('V13', <tf.Tensor: shape=(5,), dtype=float64, numpy=array([-0.65406356, -0.21536864, -0.65945968,  1.09921626, -1.2715409 ])>)\n",
      "('V14', <tf.Tensor: shape=(5,), dtype=float64, numpy=array([-0.47459911, -0.07471497,  2.39520841,  0.76496092, -0.47134632])>)\n",
      "('V15', <tf.Tensor: shape=(5,), dtype=float64, numpy=array([-0.42841779,  0.28787333,  0.03210484, -1.32315853, -1.11108035])>)\n",
      "('V16', <tf.Tensor: shape=(5,), dtype=float64, numpy=array([ 0.53665148, -1.00176397,  0.09806718, -0.28971316, -0.2096666 ])>)\n",
      "('V17', <tf.Tensor: shape=(5,), dtype=float64, numpy=array([-0.38065462,  0.09376776,  0.42428227,  0.65615985,  0.34660557])>)\n",
      "('V18', <tf.Tensor: shape=(5,), dtype=float64, numpy=array([ 0.02865054, -0.07254906,  0.59856386,  0.77523608, -0.62063772])>)\n",
      "('V19', <tf.Tensor: shape=(5,), dtype=float64, numpy=array([-0.68796943,  1.1083853 , -0.70353147,  1.52883351, -0.91684769])>)\n",
      "('V20', <tf.Tensor: shape=(5,), dtype=float64, numpy=array([-0.17498476, -0.14514383, -0.35528903,  0.0286392 , -0.29230464])>)\n",
      "('V21', <tf.Tensor: shape=(5,), dtype=float64, numpy=array([ 0.01467553, -0.08246737,  0.01649243, -0.40974641,  0.03539309])>)\n",
      "('V22', <tf.Tensor: shape=(5,), dtype=float64, numpy=array([ 0.01627818,  0.12606591,  0.26351819, -0.34257494,  0.44443334])>)\n",
      "('V23', <tf.Tensor: shape=(5,), dtype=float64, numpy=array([-0.06146247, -0.22315725, -0.07671142, -0.49329682, -0.08541321])>)\n",
      "('V24', <tf.Tensor: shape=(5,), dtype=float64, numpy=array([ 0.35519634, -0.07497714, -0.07940242, -0.01704646,  0.09909026])>)\n",
      "('V25', <tf.Tensor: shape=(5,), dtype=float64, numpy=array([-0.1790855 ,  0.92193958,  0.50282708, -0.10740384,  0.50643843])>)\n",
      "('V26', <tf.Tensor: shape=(5,), dtype=float64, numpy=array([-0.10694743, -0.52828348, -0.2708189 ,  0.10116408,  0.24641823])>)\n",
      "('V27', <tf.Tensor: shape=(5,), dtype=float64, numpy=array([-0.21503926,  0.06447566, -0.0049661 , -0.19794013,  0.05786398])>)\n",
      "('V28', <tf.Tensor: shape=(5,), dtype=float64, numpy=array([ 0.0506978 ,  0.01313189, -0.00337181, -0.43565366,  0.02113273])>)\n",
      "('Amount', <tf.Tensor: shape=(5,), dtype=float64, numpy=array([0., 0., 0., 0., 0.])>)\n",
      "\n",
      "target:\n",
      " tf.Tensor(\n",
      "[[1. 0.]\n",
      " [1. 0.]\n",
      " [1. 0.]\n",
      " [1. 0.]\n",
      " [1. 0.]], shape=(5, 2), dtype=float64)\n"
     ]
    }
   ],
   "source": [
    "for features, target in training_reader.map(prep).batch(5).take(1):\n",
    "    print('features:\\n',list(features.keys()))\n",
    "    for feature in features.items():\n",
    "        print(feature)\n",
    "    print('\\ntarget:\\n',target)"
   ]
  },
  {
   "cell_type": "markdown",
   "id": "f0dea5af-49a5-4f74-897f-9f6208cf52c5",
   "metadata": {},
   "source": [
    "### Training In TensorFlow"
   ]
  },
  {
   "cell_type": "code",
   "execution_count": 366,
   "id": "8c906587-88cc-43b2-bd1b-08c88fe9fbe6",
   "metadata": {
    "tags": []
   },
   "outputs": [],
   "source": [
    "feature_inputs = [tf.keras.Input(shape = (1,), dtype = dtypes.float64, name = feature) for feature in training_data.columns if feature != VAR_TARGET]"
   ]
  },
  {
   "cell_type": "code",
   "execution_count": 367,
   "id": "af424248-8f9b-4539-b18d-e6bacb90c69c",
   "metadata": {
    "tags": []
   },
   "outputs": [],
   "source": [
    "feature_layer = tf.keras.layers.Concatenate(name = 'feature_layer')(feature_inputs)\n",
    "norm_layer = tf.keras.layers.BatchNormalization(axis = -1, name = 'batch_normalization')(feature_layer)\n",
    "logistic = tf.keras.layers.Dense(nclasses, activation = tf.nn.softmax, name = 'logistic')(norm_layer)"
   ]
  },
  {
   "cell_type": "code",
   "execution_count": 368,
   "id": "7e8f459c-24e2-438e-97b9-9657cb649ec7",
   "metadata": {
    "tags": []
   },
   "outputs": [],
   "source": [
    "model = tf.keras.Model(\n",
    "    inputs = feature_inputs,\n",
    "    outputs = logistic,\n",
    "    name = 'example_from_dataframe'\n",
    ")"
   ]
  },
  {
   "cell_type": "code",
   "execution_count": 369,
   "id": "c228f853-9648-4674-8413-db38b60adb0e",
   "metadata": {
    "tags": []
   },
   "outputs": [],
   "source": [
    "model.compile(\n",
    "    optimizer = tf.keras.optimizers.SGD(), #SGD or Adam\n",
    "    loss = tf.keras.losses.CategoricalCrossentropy(),\n",
    "    metrics = ['accuracy', tf.keras.metrics.AUC(curve = 'PR', name = 'auprc')]\n",
    ")"
   ]
  },
  {
   "cell_type": "code",
   "execution_count": 370,
   "id": "62502a3f-643c-46fb-8493-0b6fd60867e4",
   "metadata": {
    "tags": []
   },
   "outputs": [
    {
     "name": "stdout",
     "output_type": "stream",
     "text": [
      "Epoch 1/2\n",
      "2281/2281 [==============================] - 15s 6ms/step - loss: 0.0794 - accuracy: 0.9802 - auprc: 0.9949\n",
      "Epoch 2/2\n",
      "2281/2281 [==============================] - 14s 6ms/step - loss: 0.0122 - accuracy: 0.9983 - auprc: 0.9992\n"
     ]
    },
    {
     "data": {
      "text/plain": [
       "<keras.src.callbacks.History at 0x7f25010e2da0>"
      ]
     },
     "execution_count": 370,
     "metadata": {},
     "output_type": "execute_result"
    }
   ],
   "source": [
    "model.fit(training_reader.prefetch(2).map(prep).shuffle(1000).batch(100), epochs = 2)"
   ]
  },
  {
   "cell_type": "markdown",
   "id": "424701cd-ba5a-4033-98ec-8d4a7bab7116",
   "metadata": {},
   "source": [
    "## From BigQuery To TensorFlow With TensorFlow I/O\n",
    "\n",
    "A highly effective way to read batches directly to `tf.data` objects from BigQuery storage!\n",
    "\n",
    "https://www.tensorflow.org/io"
   ]
  },
  {
   "cell_type": "code",
   "execution_count": 345,
   "id": "64bde432-3886-498c-ab98-7c5768a18603",
   "metadata": {
    "tags": []
   },
   "outputs": [
    {
     "data": {
      "text/plain": [
       "2"
      ]
     },
     "execution_count": 345,
     "metadata": {},
     "output_type": "execute_result"
    }
   ],
   "source": [
    "nclasses = bq.query(query = f'SELECT DISTINCT {VAR_TARGET} FROM {BQ_PROJECT}.{BQ_DATASET}.{BQ_TABLE} WHERE {VAR_TARGET} is not null').to_dataframe()\n",
    "nclasses = nclasses.shape[0]\n",
    "nclasses"
   ]
  },
  {
   "cell_type": "code",
   "execution_count": 346,
   "id": "063bce92-7a53-481e-abe9-9b341a9fb17e",
   "metadata": {
    "tags": []
   },
   "outputs": [],
   "source": [
    "query = f'''\n",
    "SELECT *\n",
    "FROM {BQ_PROJECT}.{BQ_DATASET}.INFORMATION_SCHEMA.COLUMNS\n",
    "WHERE TABLE_NAME = '{BQ_TABLE}'\n",
    "    AND COLUMN_NAME NOT IN ('transaction_id', 'splits')\n",
    "'''\n",
    "schema = bq.query(query).to_dataframe()"
   ]
  },
  {
   "cell_type": "code",
   "execution_count": 347,
   "id": "d1dc0336-ff59-4f13-9f55-97e96c4b63b3",
   "metadata": {
    "tags": []
   },
   "outputs": [
    {
     "data": {
      "text/plain": [
       "['INT64', 'FLOAT64']"
      ]
     },
     "execution_count": 347,
     "metadata": {},
     "output_type": "execute_result"
    }
   ],
   "source": [
    "schema.data_type.unique().tolist()"
   ]
  },
  {
   "cell_type": "code",
   "execution_count": 348,
   "id": "fd77d0a7-2193-4be0-81b4-57bb8b8b84ff",
   "metadata": {
    "tags": []
   },
   "outputs": [],
   "source": [
    "types = {\n",
    "    'FLOAT64' : dtypes.float64,\n",
    "    'INT64' : dtypes.int64\n",
    "}"
   ]
  },
  {
   "cell_type": "code",
   "execution_count": 349,
   "id": "d18a0b37-efdf-4a35-b68c-c075d4f56968",
   "metadata": {
    "tags": []
   },
   "outputs": [],
   "source": [
    "def prep(features):\n",
    "    target = features.pop(VAR_TARGET)\n",
    "    target = tf.one_hot(tf.cast(target, tf.int64), nclasses)\n",
    "    target = tf.cast(target, tf.float64)\n",
    "    return(features, target)"
   ]
  },
  {
   "cell_type": "code",
   "execution_count": 353,
   "id": "14376535-2593-4e78-bf56-ba83bd587320",
   "metadata": {
    "tags": []
   },
   "outputs": [
    {
     "data": {
      "text/plain": [
       "tensorflow.python.data.ops.interleave_op._ParallelInterleaveDataset"
      ]
     },
     "execution_count": 353,
     "metadata": {},
     "output_type": "execute_result"
    }
   ],
   "source": [
    "training_reader_tfio = BigQueryClient().read_session(\n",
    "    parent = f\"projects/{PROJECT_ID}\",\n",
    "    project_id = BQ_PROJECT,\n",
    "    table_id = BQ_TABLE,\n",
    "    dataset_id = BQ_DATASET,\n",
    "    selected_fields = [x for x in schema.column_name.tolist()],\n",
    "    output_types = [types[x] for x in schema.data_type.tolist()],\n",
    "    row_restriction = f\"splits='TRAIN'\",\n",
    "    requested_streams = 3\n",
    ").parallel_read_rows(sloppy = True, num_parallel_calls = tf.data.experimental.AUTOTUNE)\n",
    "type(training_reader_tfio)"
   ]
  },
  {
   "cell_type": "code",
   "execution_count": 354,
   "id": "0cf11928-d591-4ce8-84ca-6f076f148d2c",
   "metadata": {
    "tags": []
   },
   "outputs": [
    {
     "name": "stdout",
     "output_type": "stream",
     "text": [
      "features:\n",
      " ['Amount', 'Time', 'V1', 'V10', 'V11', 'V12', 'V13', 'V14', 'V15', 'V16', 'V17', 'V18', 'V19', 'V2', 'V20', 'V21', 'V22', 'V23', 'V24', 'V25', 'V26', 'V27', 'V28', 'V3', 'V4', 'V5', 'V6', 'V7', 'V8', 'V9']\n",
      "('Amount', <tf.Tensor: shape=(5,), dtype=float64, numpy=array([0., 0., 0., 0., 0.])>)\n",
      "('Time', <tf.Tensor: shape=(5,), dtype=int64, numpy=array([ 2812,  3150, 16676, 17701, 28131])>)\n",
      "('V1', <tf.Tensor: shape=(5,), dtype=float64, numpy=array([-0.63340299,  1.31328087,  1.15847976, -1.27923083,  1.06950736])>)\n",
      "('V10', <tf.Tensor: shape=(5,), dtype=float64, numpy=array([ 0.3082976 , -1.10329377, -0.17276001,  0.84594969,  0.37324618])>)\n",
      "('V11', <tf.Tensor: shape=(5,), dtype=float64, numpy=array([-1.20499231, -1.08782009,  2.05305928,  1.38923569, -1.32944263])>)\n",
      "('V12', <tf.Tensor: shape=(5,), dtype=float64, numpy=array([-0.47470781,  0.64467588, -2.73649895, -2.44018135, -0.1867695 ])>)\n",
      "('V13', <tf.Tensor: shape=(5,), dtype=float64, numpy=array([-0.65406356, -0.21536864, -0.65945968,  1.09921626, -1.2715409 ])>)\n",
      "('V14', <tf.Tensor: shape=(5,), dtype=float64, numpy=array([-0.47459911, -0.07471497,  2.39520841,  0.76496092, -0.47134632])>)\n",
      "('V15', <tf.Tensor: shape=(5,), dtype=float64, numpy=array([-0.42841779,  0.28787333,  0.03210484, -1.32315853, -1.11108035])>)\n",
      "('V16', <tf.Tensor: shape=(5,), dtype=float64, numpy=array([ 0.53665148, -1.00176397,  0.09806718, -0.28971316, -0.2096666 ])>)\n",
      "('V17', <tf.Tensor: shape=(5,), dtype=float64, numpy=array([-0.38065462,  0.09376776,  0.42428227,  0.65615985,  0.34660557])>)\n",
      "('V18', <tf.Tensor: shape=(5,), dtype=float64, numpy=array([ 0.02865054, -0.07254906,  0.59856386,  0.77523608, -0.62063772])>)\n",
      "('V19', <tf.Tensor: shape=(5,), dtype=float64, numpy=array([-0.68796943,  1.1083853 , -0.70353147,  1.52883351, -0.91684769])>)\n",
      "('V2', <tf.Tensor: shape=(5,), dtype=float64, numpy=\n",
      "array([ 9.63616039e-01, -2.57922822e-01,  1.68946502e-01, -1.53303332e-01,\n",
      "       -3.61567697e-04])>)\n",
      "('V20', <tf.Tensor: shape=(5,), dtype=float64, numpy=array([-0.17498476, -0.14514383, -0.35528903,  0.0286392 , -0.29230464])>)\n",
      "('V21', <tf.Tensor: shape=(5,), dtype=float64, numpy=array([ 0.01467553, -0.08246737,  0.01649243, -0.40974641,  0.03539309])>)\n",
      "('V22', <tf.Tensor: shape=(5,), dtype=float64, numpy=array([ 0.01627818,  0.12606591,  0.26351819, -0.34257494,  0.44443334])>)\n",
      "('V23', <tf.Tensor: shape=(5,), dtype=float64, numpy=array([-0.06146247, -0.22315725, -0.07671142, -0.49329682, -0.08541321])>)\n",
      "('V24', <tf.Tensor: shape=(5,), dtype=float64, numpy=array([ 0.35519634, -0.07497714, -0.07940242, -0.01704646,  0.09909026])>)\n",
      "('V25', <tf.Tensor: shape=(5,), dtype=float64, numpy=array([-0.1790855 ,  0.92193958,  0.50282708, -0.10740384,  0.50643843])>)\n",
      "('V26', <tf.Tensor: shape=(5,), dtype=float64, numpy=array([-0.10694743, -0.52828348, -0.2708189 ,  0.10116408,  0.24641823])>)\n",
      "('V27', <tf.Tensor: shape=(5,), dtype=float64, numpy=array([-0.21503926,  0.06447566, -0.0049661 , -0.19794013,  0.05786398])>)\n",
      "('V28', <tf.Tensor: shape=(5,), dtype=float64, numpy=array([ 0.0506978 ,  0.01313189, -0.00337181, -0.43565366,  0.02113273])>)\n",
      "('V3', <tf.Tensor: shape=(5,), dtype=float64, numpy=array([2.49494562, 0.11846283, 0.53634505, 3.29631037, 1.44893558])>)\n",
      "('V4', <tf.Tensor: shape=(5,), dtype=float64, numpy=array([ 2.09905099, -0.73555665,  1.18790841,  3.32044136,  2.87449797])>)\n",
      "('V5', <tf.Tensor: shape=(5,), dtype=float64, numpy=array([-0.40433067, -0.56930772, -0.26554689,  1.13901754, -0.73626591])>)\n",
      "('V6', <tf.Tensor: shape=(5,), dtype=float64, numpy=array([ 0.23586158, -0.73357721, -0.07632466,  0.54234305,  0.8319322 ])>)\n",
      "('V7', <tf.Tensor: shape=(5,), dtype=float64, numpy=array([-0.00793191, -0.13865918, -0.35584369, -0.72992832, -0.76226682])>)\n",
      "('V8', <tf.Tensor: shape=(5,), dtype=float64, numpy=array([ 0.21144152, -0.14164134,  0.14461505, -0.05177411,  0.40677214])>)\n",
      "('V9', <tf.Tensor: shape=(5,), dtype=float64, numpy=array([-0.20981682,  1.70801916,  1.46234622,  0.92271182,  0.62647258])>)\n",
      "\n",
      "target:\n",
      " tf.Tensor(\n",
      "[[1. 0.]\n",
      " [1. 0.]\n",
      " [1. 0.]\n",
      " [1. 0.]\n",
      " [1. 0.]], shape=(5, 2), dtype=float64)\n"
     ]
    }
   ],
   "source": [
    "for features, target in training_reader_tfio.map(prep).batch(5).take(1):\n",
    "    print('features:\\n',list(features.keys()))\n",
    "    for feature in features.items():\n",
    "        print(feature)\n",
    "    print('\\ntarget:\\n',target)"
   ]
  },
  {
   "cell_type": "markdown",
   "id": "33ea38e8-a23c-440a-967b-537e75de8f62",
   "metadata": {},
   "source": [
    "### Training In TensorFlow"
   ]
  },
  {
   "cell_type": "code",
   "execution_count": 361,
   "id": "8f322564-922b-46c2-a020-60b7f8e32584",
   "metadata": {
    "tags": []
   },
   "outputs": [],
   "source": [
    "feature_inputs = [tf.keras.Input(shape = (1,), dtype = dtypes.float64, name = feature) for feature in schema.column_name if feature != VAR_TARGET]"
   ]
  },
  {
   "cell_type": "code",
   "execution_count": 362,
   "id": "9390f6d4-6d95-4dbe-b7fb-ab9c325f86b6",
   "metadata": {
    "tags": []
   },
   "outputs": [],
   "source": [
    "feature_layer = tf.keras.layers.Concatenate(name = 'feature_layer')(feature_inputs)\n",
    "norm_layer = tf.keras.layers.BatchNormalization(axis = -1, name = 'batch_normalization')(feature_layer)\n",
    "logistic = tf.keras.layers.Dense(nclasses, activation = tf.nn.softmax, name = 'logistic')(norm_layer)"
   ]
  },
  {
   "cell_type": "code",
   "execution_count": 363,
   "id": "c91c595e-8505-4097-a783-8b94b1d3ae7e",
   "metadata": {
    "tags": []
   },
   "outputs": [],
   "source": [
    "model = tf.keras.Model(\n",
    "    inputs = feature_inputs,\n",
    "    outputs = logistic,\n",
    "    name = 'example_from_dataframe'\n",
    ")"
   ]
  },
  {
   "cell_type": "code",
   "execution_count": 364,
   "id": "6a5c6467-105f-4862-94e9-d93d526f6c07",
   "metadata": {
    "tags": []
   },
   "outputs": [],
   "source": [
    "model.compile(\n",
    "    optimizer = tf.keras.optimizers.SGD(), #SGD or Adam\n",
    "    loss = tf.keras.losses.CategoricalCrossentropy(),\n",
    "    metrics = ['accuracy', tf.keras.metrics.AUC(curve = 'PR', name = 'auprc')]\n",
    ")"
   ]
  },
  {
   "cell_type": "code",
   "execution_count": 365,
   "id": "189db388-2e6a-4798-8618-04f6eb78e106",
   "metadata": {
    "tags": []
   },
   "outputs": [
    {
     "name": "stdout",
     "output_type": "stream",
     "text": [
      "Epoch 1/2\n",
      "2281/2281 [==============================] - 18s 7ms/step - loss: 0.0738 - accuracy: 0.9824 - auprc: 0.9973\n",
      "Epoch 2/2\n",
      "2281/2281 [==============================] - 17s 7ms/step - loss: 0.0089 - accuracy: 0.9991 - auprc: 0.9996\n"
     ]
    },
    {
     "data": {
      "text/plain": [
       "<keras.src.callbacks.History at 0x7f24fb151e70>"
      ]
     },
     "execution_count": 365,
     "metadata": {},
     "output_type": "execute_result"
    }
   ],
   "source": [
    "model.fit(training_reader_tfio.prefetch(2).map(prep).shuffle(1000).batch(100), epochs = 2)"
   ]
  },
  {
   "cell_type": "code",
   "execution_count": null,
   "id": "be08fc9f-4aaf-4c13-8dea-d86b661a1b24",
   "metadata": {},
   "outputs": [],
   "source": []
  }
 ],
 "metadata": {
  "environment": {
   "kernel": "conda-root-py",
   "name": "workbench-notebooks.m113",
   "type": "gcloud",
   "uri": "gcr.io/deeplearning-platform-release/workbench-notebooks:m113"
  },
  "kernelspec": {
   "display_name": "Python 3 (ipykernel) (Local)",
   "language": "python",
   "name": "conda-root-py"
  },
  "language_info": {
   "codemirror_mode": {
    "name": "ipython",
    "version": 3
   },
   "file_extension": ".py",
   "mimetype": "text/x-python",
   "name": "python",
   "nbconvert_exporter": "python",
   "pygments_lexer": "ipython3",
   "version": "3.10.13"
  }
 },
 "nbformat": 4,
 "nbformat_minor": 5
}
