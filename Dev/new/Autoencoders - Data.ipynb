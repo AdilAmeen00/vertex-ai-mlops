{
 "cells": [
  {
   "cell_type": "markdown",
   "id": "233cde43-fcfa-4607-8195-27fe03ca7e9f",
   "metadata": {
    "tags": []
   },
   "source": [
    "![ga4](https://www.google-analytics.com/collect?v=2&tid=G-6VDTYWLKX6&cid=1&en=page_view&sid=1&dl=statmike%2Fvertex-ai-mlops%2FDev%2Fnew&dt=Autoencoders+-+Data.ipynb)\n",
    "\n",
    "# Autoencoders - Data\n",
    "\n",
    "How to retrieve data for training, and using, an autoencoder.\n",
    "\n"
   ]
  },
  {
   "cell_type": "markdown",
   "id": "2d9ef3a1-7c54-4736-bf8f-b7b832524c9c",
   "metadata": {},
   "source": [
    "---\n",
    "## Colab Setup\n",
    "\n",
    "To run this notebook in Colab click [![Open In Colab](https://colab.research.google.com/assets/colab-badge.svg)](https://colab.research.google.com/github/statmike/vertex-ai-mlops/blob/main/Applied%20Autoencoders/Autoencoders%20-%20Data.ipynb) and run the cells in this section.  Otherwise, skip this section.\n",
    "\n",
    "This cell will authenticate to GCP (follow prompts in the popup)."
   ]
  },
  {
   "cell_type": "code",
   "execution_count": 43,
   "id": "799bb844-0ea3-4907-a1ae-d5dcc39e641d",
   "metadata": {
    "tags": []
   },
   "outputs": [],
   "source": [
    "PROJECT_ID = 'statmike-mlops-349915' # replace with project ID"
   ]
  },
  {
   "cell_type": "code",
   "execution_count": 44,
   "id": "ce63b674-5529-4bd5-be35-6c26f9527cbc",
   "metadata": {
    "tags": []
   },
   "outputs": [],
   "source": [
    "try:\n",
    "    import google.colab\n",
    "    from google.colab import auth\n",
    "    auth.authenticate_user()\n",
    "    !gcloud config set project {PROJECT_ID}\n",
    "except Exception:\n",
    "    pass"
   ]
  },
  {
   "cell_type": "markdown",
   "id": "7b6dcb9c-0f10-4a47-b106-301961c90249",
   "metadata": {},
   "source": [
    "---\n",
    "## Installs\n",
    "\n",
    "The list `packages` contains tuples of package import names and install names.  If the import name is not found then the install name is used to install quitely for the current user."
   ]
  },
  {
   "cell_type": "code",
   "execution_count": 45,
   "id": "8dd6bf96-953a-4cbe-a745-100bba26304f",
   "metadata": {
    "tags": []
   },
   "outputs": [],
   "source": [
    "# tuples of (import name, install name)\n",
    "packages = [\n",
    "    ('google.cloud.bigquery', 'google-cloud-bigquery'),\n",
    "    ('google.cloud.bigquery_storage', 'google-cloud-bigquery-storage'),\n",
    "    ('bigframes', 'bigframes'),\n",
    "    ('pandas_gbq', 'pandas-gbq'),\n",
    "    ('tensorflow', 'tensorflow', '2.10'),\n",
    "    ('tensorflow_io', '--no-deps tensorflow-io'),\n",
    "    ('graphviz', 'graphviz'),\n",
    "    ('pydot', 'pydot')\n",
    "]\n",
    "\n",
    "import importlib\n",
    "install = False\n",
    "for package in packages:\n",
    "    if not importlib.util.find_spec(package[0]):\n",
    "        print(f'installing package {package[1]}')\n",
    "        install = True\n",
    "        !pip install {package[1]} -U -q --user\n",
    "    elif len(package) == 3:\n",
    "        if importlib.metadata.version(package[0]) < package[2]:\n",
    "            print(f'updating package {package[1]}')\n",
    "            install = True\n",
    "            !pip install {package[1]} -U -q --user"
   ]
  },
  {
   "cell_type": "code",
   "execution_count": 46,
   "id": "dab88582-d5f4-4677-a307-650478d72d53",
   "metadata": {
    "tags": []
   },
   "outputs": [],
   "source": [
    "#!sudo apt-get -qq install graphviz"
   ]
  },
  {
   "cell_type": "markdown",
   "id": "58bb2fc8-34c7-4868-ba63-345e6950085d",
   "metadata": {},
   "source": [
    "### Restart Kernel (If Installs Occured)\n",
    "\n",
    "After a kernel restart the code submission can start with the next cell after this one."
   ]
  },
  {
   "cell_type": "code",
   "execution_count": 47,
   "id": "ac5564b3-ae19-49b2-b08b-91e8ede3bfcd",
   "metadata": {
    "tags": []
   },
   "outputs": [],
   "source": [
    "if install:\n",
    "    import IPython\n",
    "    app = IPython.Application.instance()\n",
    "    app.kernel.do_shutdown(True)"
   ]
  },
  {
   "cell_type": "markdown",
   "id": "915d8e0d-0de2-4c4b-8d52-4ae27db57da1",
   "metadata": {},
   "source": [
    "---\n",
    "## Setup"
   ]
  },
  {
   "cell_type": "markdown",
   "id": "bbb7c734-78a2-4ffb-bd72-db40ccaf37c3",
   "metadata": {},
   "source": [
    "inputs:"
   ]
  },
  {
   "cell_type": "code",
   "execution_count": 48,
   "id": "b1e21014-458d-4e04-995a-c1feafab1ad8",
   "metadata": {
    "tags": []
   },
   "outputs": [
    {
     "data": {
      "text/plain": [
       "'statmike-mlops-349915'"
      ]
     },
     "execution_count": 48,
     "metadata": {},
     "output_type": "execute_result"
    }
   ],
   "source": [
    "project = !gcloud config get-value project\n",
    "PROJECT_ID = project[0]\n",
    "PROJECT_ID"
   ]
  },
  {
   "cell_type": "code",
   "execution_count": 49,
   "id": "47b38e06-3f24-413d-9bf7-29549178061f",
   "metadata": {
    "tags": []
   },
   "outputs": [],
   "source": [
    "REGION = 'us-central1'\n",
    "EXPERIMENT = 'data'\n",
    "SERIES = 'applied-autoencoders'\n",
    "\n",
    "# source data\n",
    "BQ_PROJECT = PROJECT_ID\n",
    "BQ_DATASET = 'fraud'\n",
    "BQ_TABLE = 'fraud_prepped'\n",
    "\n",
    "# specify a GCS Bucket\n",
    "GCS_BUCKET = PROJECT_ID\n",
    "\n",
    "# Model Training\n",
    "VAR_TARGET = 'Class'\n",
    "VAR_OMIT = 'transaction_id,splits' # add more variables to the string with comma delimiters"
   ]
  },
  {
   "cell_type": "markdown",
   "id": "91df847f-29fd-4143-9a7d-3a4cef923bff",
   "metadata": {},
   "source": [
    "packages:"
   ]
  },
  {
   "cell_type": "code",
   "execution_count": 72,
   "id": "9adf564d-5e6b-4991-932e-3c2170899e38",
   "metadata": {
    "tags": []
   },
   "outputs": [],
   "source": [
    "import os\n",
    "os.environ['TF_CPP_MIN_LOG_LEVEL'] = '3'\n",
    "\n",
    "from google.cloud import bigquery\n",
    "from google.cloud import bigquery_storage\n",
    "import bigframes.pandas as bpd\n",
    "import pandas as pd\n",
    "import concurrent.futures\n",
    "\n",
    "from tensorflow.python.framework import dtypes\n",
    "from tensorflow_io.bigquery import BigQueryClient\n",
    "import tensorflow as tf\n",
    "\n",
    "#from datetime import datetime\n",
    "\n",
    "#from google.protobuf import json_format\n",
    "#from google.protobuf.struct_pb2 import Value\n",
    "#import json\n",
    "#import numpy as np\n"
   ]
  },
  {
   "cell_type": "markdown",
   "id": "94e4334e-a4ba-4d42-9b95-735a66d0eb06",
   "metadata": {},
   "source": [
    "clients:"
   ]
  },
  {
   "cell_type": "code",
   "execution_count": 51,
   "id": "1687bea4-c090-4884-a7b1-6a7b4ed561fc",
   "metadata": {
    "tags": []
   },
   "outputs": [],
   "source": [
    "bq = bigquery.Client(project = PROJECT_ID)\n",
    "bqstorage = bigquery_storage.BigQueryReadClient()\n",
    "bpd.options.bigquery.project = PROJECT_ID"
   ]
  },
  {
   "cell_type": "markdown",
   "id": "5404b3fd-5ae6-4cc4-ae43-1f0197f3943b",
   "metadata": {},
   "source": [
    "---\n",
    "## Methods to Retrieve Training Data From BigQuery"
   ]
  },
  {
   "cell_type": "markdown",
   "id": "852d1f2f-233e-4e99-ad58-42ab48a00746",
   "metadata": {},
   "source": [
    "### Common Query"
   ]
  },
  {
   "cell_type": "code",
   "execution_count": 108,
   "id": "815ff7dd-54bd-4a99-9861-53db9f76b042",
   "metadata": {
    "tags": []
   },
   "outputs": [
    {
     "name": "stdout",
     "output_type": "stream",
     "text": [
      "\n",
      "SELECT * EXCEPT(transaction_id,splits)\n",
      "FROM `statmike-mlops-349915.fraud.fraud_prepped`\n",
      "WHERE splits = 'TRAIN'\n",
      "\n"
     ]
    }
   ],
   "source": [
    "query = f'''\n",
    "SELECT * EXCEPT({','.join(VAR_OMIT.replace(' ', '').split(','))})\n",
    "FROM `{BQ_PROJECT}.{BQ_DATASET}.{BQ_TABLE}`\n",
    "WHERE splits = 'TRAIN'\n",
    "'''\n",
    "print(query)"
   ]
  },
  {
   "cell_type": "markdown",
   "id": "4d26ef25-adc7-484d-ab9e-5eec11d526f0",
   "metadata": {},
   "source": [
    "### BigQuery Cell Magic\n",
    "\n",
    "https://cloud.google.com/python/docs/reference/bigquery/latest/magics"
   ]
  },
  {
   "cell_type": "code",
   "execution_count": 109,
   "id": "f1260a43-15d4-4e85-953c-6d74fb5dfeb8",
   "metadata": {
    "tags": []
   },
   "outputs": [
    {
     "data": {
      "application/vnd.jupyter.widget-view+json": {
       "model_id": "14a318aaff044477842007825204af83",
       "version_major": 2,
       "version_minor": 0
      },
      "text/plain": [
       "Query is running:   0%|          |"
      ]
     },
     "metadata": {},
     "output_type": "display_data"
    },
    {
     "data": {
      "application/vnd.jupyter.widget-view+json": {
       "model_id": "59e4bd48b5514295a9340f6aef054c0b",
       "version_major": 2,
       "version_minor": 0
      },
      "text/plain": [
       "Downloading:   0%|          |"
      ]
     },
     "metadata": {},
     "output_type": "display_data"
    }
   ],
   "source": [
    "%%bigquery bq_data_magic\n",
    "SELECT * EXCEPT(transaction_id,splits)\n",
    "FROM `statmike-mlops-349915.fraud.fraud_prepped`\n",
    "WHERE splits = 'TRAIN'"
   ]
  },
  {
   "cell_type": "code",
   "execution_count": 110,
   "id": "86cf423d-5013-428e-a9f3-83cbe82d0999",
   "metadata": {
    "tags": []
   },
   "outputs": [
    {
     "data": {
      "text/html": [
       "<div>\n",
       "<style scoped>\n",
       "    .dataframe tbody tr th:only-of-type {\n",
       "        vertical-align: middle;\n",
       "    }\n",
       "\n",
       "    .dataframe tbody tr th {\n",
       "        vertical-align: top;\n",
       "    }\n",
       "\n",
       "    .dataframe thead th {\n",
       "        text-align: right;\n",
       "    }\n",
       "</style>\n",
       "<table border=\"1\" class=\"dataframe\">\n",
       "  <thead>\n",
       "    <tr style=\"text-align: right;\">\n",
       "      <th></th>\n",
       "      <th>Time</th>\n",
       "      <th>V1</th>\n",
       "      <th>V2</th>\n",
       "      <th>V3</th>\n",
       "      <th>V4</th>\n",
       "      <th>V5</th>\n",
       "      <th>V6</th>\n",
       "      <th>V7</th>\n",
       "      <th>V8</th>\n",
       "      <th>V9</th>\n",
       "      <th>...</th>\n",
       "      <th>V21</th>\n",
       "      <th>V22</th>\n",
       "      <th>V23</th>\n",
       "      <th>V24</th>\n",
       "      <th>V25</th>\n",
       "      <th>V26</th>\n",
       "      <th>V27</th>\n",
       "      <th>V28</th>\n",
       "      <th>Amount</th>\n",
       "      <th>Class</th>\n",
       "    </tr>\n",
       "  </thead>\n",
       "  <tbody>\n",
       "    <tr>\n",
       "      <th>0</th>\n",
       "      <td>2812</td>\n",
       "      <td>-0.633403</td>\n",
       "      <td>0.963616</td>\n",
       "      <td>2.494946</td>\n",
       "      <td>2.099051</td>\n",
       "      <td>-0.404331</td>\n",
       "      <td>0.235862</td>\n",
       "      <td>-0.007932</td>\n",
       "      <td>0.211442</td>\n",
       "      <td>-0.209817</td>\n",
       "      <td>...</td>\n",
       "      <td>0.014676</td>\n",
       "      <td>0.016278</td>\n",
       "      <td>-0.061462</td>\n",
       "      <td>0.355196</td>\n",
       "      <td>-0.179086</td>\n",
       "      <td>-0.106947</td>\n",
       "      <td>-0.215039</td>\n",
       "      <td>0.050698</td>\n",
       "      <td>0.0</td>\n",
       "      <td>0</td>\n",
       "    </tr>\n",
       "    <tr>\n",
       "      <th>1</th>\n",
       "      <td>3150</td>\n",
       "      <td>1.313281</td>\n",
       "      <td>-0.257923</td>\n",
       "      <td>0.118463</td>\n",
       "      <td>-0.735557</td>\n",
       "      <td>-0.569308</td>\n",
       "      <td>-0.733577</td>\n",
       "      <td>-0.138659</td>\n",
       "      <td>-0.141641</td>\n",
       "      <td>1.708019</td>\n",
       "      <td>...</td>\n",
       "      <td>-0.082467</td>\n",
       "      <td>0.126066</td>\n",
       "      <td>-0.223157</td>\n",
       "      <td>-0.074977</td>\n",
       "      <td>0.921940</td>\n",
       "      <td>-0.528283</td>\n",
       "      <td>0.064476</td>\n",
       "      <td>0.013132</td>\n",
       "      <td>0.0</td>\n",
       "      <td>0</td>\n",
       "    </tr>\n",
       "    <tr>\n",
       "      <th>2</th>\n",
       "      <td>16676</td>\n",
       "      <td>1.158480</td>\n",
       "      <td>0.168947</td>\n",
       "      <td>0.536345</td>\n",
       "      <td>1.187908</td>\n",
       "      <td>-0.265547</td>\n",
       "      <td>-0.076325</td>\n",
       "      <td>-0.355844</td>\n",
       "      <td>0.144615</td>\n",
       "      <td>1.462346</td>\n",
       "      <td>...</td>\n",
       "      <td>0.016492</td>\n",
       "      <td>0.263518</td>\n",
       "      <td>-0.076711</td>\n",
       "      <td>-0.079402</td>\n",
       "      <td>0.502827</td>\n",
       "      <td>-0.270819</td>\n",
       "      <td>-0.004966</td>\n",
       "      <td>-0.003372</td>\n",
       "      <td>0.0</td>\n",
       "      <td>0</td>\n",
       "    </tr>\n",
       "    <tr>\n",
       "      <th>3</th>\n",
       "      <td>17701</td>\n",
       "      <td>-1.279231</td>\n",
       "      <td>-0.153303</td>\n",
       "      <td>3.296310</td>\n",
       "      <td>3.320441</td>\n",
       "      <td>1.139018</td>\n",
       "      <td>0.542343</td>\n",
       "      <td>-0.729928</td>\n",
       "      <td>-0.051774</td>\n",
       "      <td>0.922712</td>\n",
       "      <td>...</td>\n",
       "      <td>-0.409746</td>\n",
       "      <td>-0.342575</td>\n",
       "      <td>-0.493297</td>\n",
       "      <td>-0.017046</td>\n",
       "      <td>-0.107404</td>\n",
       "      <td>0.101164</td>\n",
       "      <td>-0.197940</td>\n",
       "      <td>-0.435654</td>\n",
       "      <td>0.0</td>\n",
       "      <td>0</td>\n",
       "    </tr>\n",
       "    <tr>\n",
       "      <th>4</th>\n",
       "      <td>28131</td>\n",
       "      <td>1.069507</td>\n",
       "      <td>-0.000362</td>\n",
       "      <td>1.448936</td>\n",
       "      <td>2.874498</td>\n",
       "      <td>-0.736266</td>\n",
       "      <td>0.831932</td>\n",
       "      <td>-0.762267</td>\n",
       "      <td>0.406772</td>\n",
       "      <td>0.626473</td>\n",
       "      <td>...</td>\n",
       "      <td>0.035393</td>\n",
       "      <td>0.444433</td>\n",
       "      <td>-0.085413</td>\n",
       "      <td>0.099090</td>\n",
       "      <td>0.506438</td>\n",
       "      <td>0.246418</td>\n",
       "      <td>0.057864</td>\n",
       "      <td>0.021133</td>\n",
       "      <td>0.0</td>\n",
       "      <td>0</td>\n",
       "    </tr>\n",
       "  </tbody>\n",
       "</table>\n",
       "<p>5 rows × 31 columns</p>\n",
       "</div>"
      ],
      "text/plain": [
       "    Time        V1        V2        V3        V4        V5        V6  \\\n",
       "0   2812 -0.633403  0.963616  2.494946  2.099051 -0.404331  0.235862   \n",
       "1   3150  1.313281 -0.257923  0.118463 -0.735557 -0.569308 -0.733577   \n",
       "2  16676  1.158480  0.168947  0.536345  1.187908 -0.265547 -0.076325   \n",
       "3  17701 -1.279231 -0.153303  3.296310  3.320441  1.139018  0.542343   \n",
       "4  28131  1.069507 -0.000362  1.448936  2.874498 -0.736266  0.831932   \n",
       "\n",
       "         V7        V8        V9  ...       V21       V22       V23       V24  \\\n",
       "0 -0.007932  0.211442 -0.209817  ...  0.014676  0.016278 -0.061462  0.355196   \n",
       "1 -0.138659 -0.141641  1.708019  ... -0.082467  0.126066 -0.223157 -0.074977   \n",
       "2 -0.355844  0.144615  1.462346  ...  0.016492  0.263518 -0.076711 -0.079402   \n",
       "3 -0.729928 -0.051774  0.922712  ... -0.409746 -0.342575 -0.493297 -0.017046   \n",
       "4 -0.762267  0.406772  0.626473  ...  0.035393  0.444433 -0.085413  0.099090   \n",
       "\n",
       "        V25       V26       V27       V28  Amount  Class  \n",
       "0 -0.179086 -0.106947 -0.215039  0.050698     0.0      0  \n",
       "1  0.921940 -0.528283  0.064476  0.013132     0.0      0  \n",
       "2  0.502827 -0.270819 -0.004966 -0.003372     0.0      0  \n",
       "3 -0.107404  0.101164 -0.197940 -0.435654     0.0      0  \n",
       "4  0.506438  0.246418  0.057864  0.021133     0.0      0  \n",
       "\n",
       "[5 rows x 31 columns]"
      ]
     },
     "execution_count": 110,
     "metadata": {},
     "output_type": "execute_result"
    }
   ],
   "source": [
    "bq_data_magic.head()"
   ]
  },
  {
   "cell_type": "code",
   "execution_count": 111,
   "id": "38e9d435-aad5-4728-ba49-922274056625",
   "metadata": {
    "tags": []
   },
   "outputs": [
    {
     "data": {
      "text/plain": [
       "pandas.core.frame.DataFrame"
      ]
     },
     "execution_count": 111,
     "metadata": {},
     "output_type": "execute_result"
    }
   ],
   "source": [
    "type(bq_data_magic)"
   ]
  },
  {
   "cell_type": "code",
   "execution_count": 112,
   "id": "1d4f5189-ceb5-412a-957a-136734408b70",
   "metadata": {
    "tags": []
   },
   "outputs": [
    {
     "data": {
      "text/plain": [
       "(228061, 31)"
      ]
     },
     "execution_count": 112,
     "metadata": {},
     "output_type": "execute_result"
    }
   ],
   "source": [
    "bq_data_magic.shape"
   ]
  },
  {
   "cell_type": "markdown",
   "id": "eb8c7cc8-7b1b-4349-87a9-5310ba256ea4",
   "metadata": {},
   "source": [
    "### BigQuery Python Client\n",
    "\n",
    "https://cloud.google.com/python/docs/reference/bigquery/latest"
   ]
  },
  {
   "cell_type": "code",
   "execution_count": 113,
   "id": "7a91942d-8966-4d6d-875f-b13deb0cee13",
   "metadata": {
    "tags": []
   },
   "outputs": [
    {
     "data": {
      "text/html": [
       "<div>\n",
       "<style scoped>\n",
       "    .dataframe tbody tr th:only-of-type {\n",
       "        vertical-align: middle;\n",
       "    }\n",
       "\n",
       "    .dataframe tbody tr th {\n",
       "        vertical-align: top;\n",
       "    }\n",
       "\n",
       "    .dataframe thead th {\n",
       "        text-align: right;\n",
       "    }\n",
       "</style>\n",
       "<table border=\"1\" class=\"dataframe\">\n",
       "  <thead>\n",
       "    <tr style=\"text-align: right;\">\n",
       "      <th></th>\n",
       "      <th>Time</th>\n",
       "      <th>V1</th>\n",
       "      <th>V2</th>\n",
       "      <th>V3</th>\n",
       "      <th>V4</th>\n",
       "      <th>V5</th>\n",
       "      <th>V6</th>\n",
       "      <th>V7</th>\n",
       "      <th>V8</th>\n",
       "      <th>V9</th>\n",
       "      <th>...</th>\n",
       "      <th>V21</th>\n",
       "      <th>V22</th>\n",
       "      <th>V23</th>\n",
       "      <th>V24</th>\n",
       "      <th>V25</th>\n",
       "      <th>V26</th>\n",
       "      <th>V27</th>\n",
       "      <th>V28</th>\n",
       "      <th>Amount</th>\n",
       "      <th>Class</th>\n",
       "    </tr>\n",
       "  </thead>\n",
       "  <tbody>\n",
       "    <tr>\n",
       "      <th>0</th>\n",
       "      <td>2812</td>\n",
       "      <td>-0.633403</td>\n",
       "      <td>0.963616</td>\n",
       "      <td>2.494946</td>\n",
       "      <td>2.099051</td>\n",
       "      <td>-0.404331</td>\n",
       "      <td>0.235862</td>\n",
       "      <td>-0.007932</td>\n",
       "      <td>0.211442</td>\n",
       "      <td>-0.209817</td>\n",
       "      <td>...</td>\n",
       "      <td>0.014676</td>\n",
       "      <td>0.016278</td>\n",
       "      <td>-0.061462</td>\n",
       "      <td>0.355196</td>\n",
       "      <td>-0.179086</td>\n",
       "      <td>-0.106947</td>\n",
       "      <td>-0.215039</td>\n",
       "      <td>0.050698</td>\n",
       "      <td>0.0</td>\n",
       "      <td>0</td>\n",
       "    </tr>\n",
       "    <tr>\n",
       "      <th>1</th>\n",
       "      <td>3150</td>\n",
       "      <td>1.313281</td>\n",
       "      <td>-0.257923</td>\n",
       "      <td>0.118463</td>\n",
       "      <td>-0.735557</td>\n",
       "      <td>-0.569308</td>\n",
       "      <td>-0.733577</td>\n",
       "      <td>-0.138659</td>\n",
       "      <td>-0.141641</td>\n",
       "      <td>1.708019</td>\n",
       "      <td>...</td>\n",
       "      <td>-0.082467</td>\n",
       "      <td>0.126066</td>\n",
       "      <td>-0.223157</td>\n",
       "      <td>-0.074977</td>\n",
       "      <td>0.921940</td>\n",
       "      <td>-0.528283</td>\n",
       "      <td>0.064476</td>\n",
       "      <td>0.013132</td>\n",
       "      <td>0.0</td>\n",
       "      <td>0</td>\n",
       "    </tr>\n",
       "    <tr>\n",
       "      <th>2</th>\n",
       "      <td>16676</td>\n",
       "      <td>1.158480</td>\n",
       "      <td>0.168947</td>\n",
       "      <td>0.536345</td>\n",
       "      <td>1.187908</td>\n",
       "      <td>-0.265547</td>\n",
       "      <td>-0.076325</td>\n",
       "      <td>-0.355844</td>\n",
       "      <td>0.144615</td>\n",
       "      <td>1.462346</td>\n",
       "      <td>...</td>\n",
       "      <td>0.016492</td>\n",
       "      <td>0.263518</td>\n",
       "      <td>-0.076711</td>\n",
       "      <td>-0.079402</td>\n",
       "      <td>0.502827</td>\n",
       "      <td>-0.270819</td>\n",
       "      <td>-0.004966</td>\n",
       "      <td>-0.003372</td>\n",
       "      <td>0.0</td>\n",
       "      <td>0</td>\n",
       "    </tr>\n",
       "    <tr>\n",
       "      <th>3</th>\n",
       "      <td>17701</td>\n",
       "      <td>-1.279231</td>\n",
       "      <td>-0.153303</td>\n",
       "      <td>3.296310</td>\n",
       "      <td>3.320441</td>\n",
       "      <td>1.139018</td>\n",
       "      <td>0.542343</td>\n",
       "      <td>-0.729928</td>\n",
       "      <td>-0.051774</td>\n",
       "      <td>0.922712</td>\n",
       "      <td>...</td>\n",
       "      <td>-0.409746</td>\n",
       "      <td>-0.342575</td>\n",
       "      <td>-0.493297</td>\n",
       "      <td>-0.017046</td>\n",
       "      <td>-0.107404</td>\n",
       "      <td>0.101164</td>\n",
       "      <td>-0.197940</td>\n",
       "      <td>-0.435654</td>\n",
       "      <td>0.0</td>\n",
       "      <td>0</td>\n",
       "    </tr>\n",
       "    <tr>\n",
       "      <th>4</th>\n",
       "      <td>28131</td>\n",
       "      <td>1.069507</td>\n",
       "      <td>-0.000362</td>\n",
       "      <td>1.448936</td>\n",
       "      <td>2.874498</td>\n",
       "      <td>-0.736266</td>\n",
       "      <td>0.831932</td>\n",
       "      <td>-0.762267</td>\n",
       "      <td>0.406772</td>\n",
       "      <td>0.626473</td>\n",
       "      <td>...</td>\n",
       "      <td>0.035393</td>\n",
       "      <td>0.444433</td>\n",
       "      <td>-0.085413</td>\n",
       "      <td>0.099090</td>\n",
       "      <td>0.506438</td>\n",
       "      <td>0.246418</td>\n",
       "      <td>0.057864</td>\n",
       "      <td>0.021133</td>\n",
       "      <td>0.0</td>\n",
       "      <td>0</td>\n",
       "    </tr>\n",
       "  </tbody>\n",
       "</table>\n",
       "<p>5 rows × 31 columns</p>\n",
       "</div>"
      ],
      "text/plain": [
       "    Time        V1        V2        V3        V4        V5        V6  \\\n",
       "0   2812 -0.633403  0.963616  2.494946  2.099051 -0.404331  0.235862   \n",
       "1   3150  1.313281 -0.257923  0.118463 -0.735557 -0.569308 -0.733577   \n",
       "2  16676  1.158480  0.168947  0.536345  1.187908 -0.265547 -0.076325   \n",
       "3  17701 -1.279231 -0.153303  3.296310  3.320441  1.139018  0.542343   \n",
       "4  28131  1.069507 -0.000362  1.448936  2.874498 -0.736266  0.831932   \n",
       "\n",
       "         V7        V8        V9  ...       V21       V22       V23       V24  \\\n",
       "0 -0.007932  0.211442 -0.209817  ...  0.014676  0.016278 -0.061462  0.355196   \n",
       "1 -0.138659 -0.141641  1.708019  ... -0.082467  0.126066 -0.223157 -0.074977   \n",
       "2 -0.355844  0.144615  1.462346  ...  0.016492  0.263518 -0.076711 -0.079402   \n",
       "3 -0.729928 -0.051774  0.922712  ... -0.409746 -0.342575 -0.493297 -0.017046   \n",
       "4 -0.762267  0.406772  0.626473  ...  0.035393  0.444433 -0.085413  0.099090   \n",
       "\n",
       "        V25       V26       V27       V28  Amount  Class  \n",
       "0 -0.179086 -0.106947 -0.215039  0.050698     0.0      0  \n",
       "1  0.921940 -0.528283  0.064476  0.013132     0.0      0  \n",
       "2  0.502827 -0.270819 -0.004966 -0.003372     0.0      0  \n",
       "3 -0.107404  0.101164 -0.197940 -0.435654     0.0      0  \n",
       "4  0.506438  0.246418  0.057864  0.021133     0.0      0  \n",
       "\n",
       "[5 rows x 31 columns]"
      ]
     },
     "execution_count": 113,
     "metadata": {},
     "output_type": "execute_result"
    }
   ],
   "source": [
    "bq_data_client = bq.query(query = query).to_dataframe()\n",
    "bq_data_client.head()"
   ]
  },
  {
   "cell_type": "code",
   "execution_count": 114,
   "id": "6ca58f5d-4ae7-4d49-aca2-3ba839614511",
   "metadata": {
    "tags": []
   },
   "outputs": [
    {
     "data": {
      "text/plain": [
       "pandas.core.frame.DataFrame"
      ]
     },
     "execution_count": 114,
     "metadata": {},
     "output_type": "execute_result"
    }
   ],
   "source": [
    "type(bq_data_client)"
   ]
  },
  {
   "cell_type": "code",
   "execution_count": 115,
   "id": "2e1e79ff-8a1b-475d-959e-05ccc8f7c4b7",
   "metadata": {
    "tags": []
   },
   "outputs": [
    {
     "data": {
      "text/plain": [
       "(228061, 31)"
      ]
     },
     "execution_count": 115,
     "metadata": {},
     "output_type": "execute_result"
    }
   ],
   "source": [
    "bq_data_client.shape"
   ]
  },
  {
   "cell_type": "markdown",
   "id": "e4978113-1687-4534-97a9-b43abe00fe85",
   "metadata": {},
   "source": [
    "### BigQuery BigFrames Client\n",
    "\n",
    "https://cloud.google.com/python/docs/reference/bigframes/latest"
   ]
  },
  {
   "cell_type": "code",
   "execution_count": 116,
   "id": "7facdcda-35ec-4d12-b34c-165d518993ab",
   "metadata": {
    "tags": []
   },
   "outputs": [
    {
     "data": {
      "text/html": [
       "Query job e221d3fa-b388-4c97-8ab4-a4cca0ea0eea is DONE. 72.7 MB processed. <a target=\"_blank\" href=\"https://console.cloud.google.com/bigquery?project=statmike-mlops-349915&j=bq:us-central1:e221d3fa-b388-4c97-8ab4-a4cca0ea0eea&page=queryresults\">Open Job</a>"
      ],
      "text/plain": [
       "<IPython.core.display.HTML object>"
      ]
     },
     "metadata": {},
     "output_type": "display_data"
    },
    {
     "data": {
      "text/html": [
       "Query job af4b3446-eb3a-4a3f-b5df-6824033b6c01 is DONE. 56.6 MB processed. <a target=\"_blank\" href=\"https://console.cloud.google.com/bigquery?project=statmike-mlops-349915&j=bq:us-central1:af4b3446-eb3a-4a3f-b5df-6824033b6c01&page=queryresults\">Open Job</a>"
      ],
      "text/plain": [
       "<IPython.core.display.HTML object>"
      ]
     },
     "metadata": {},
     "output_type": "display_data"
    },
    {
     "data": {
      "text/html": [
       "Query job 54317fa4-5e32-4f2b-9a69-583e0eb8c901 is DONE. 56.6 MB processed. <a target=\"_blank\" href=\"https://console.cloud.google.com/bigquery?project=statmike-mlops-349915&j=bq:us-central1:54317fa4-5e32-4f2b-9a69-583e0eb8c901&page=queryresults\">Open Job</a>"
      ],
      "text/plain": [
       "<IPython.core.display.HTML object>"
      ]
     },
     "metadata": {},
     "output_type": "display_data"
    },
    {
     "data": {
      "text/html": [
       "<div>\n",
       "<style scoped>\n",
       "    .dataframe tbody tr th:only-of-type {\n",
       "        vertical-align: middle;\n",
       "    }\n",
       "\n",
       "    .dataframe tbody tr th {\n",
       "        vertical-align: top;\n",
       "    }\n",
       "\n",
       "    .dataframe thead th {\n",
       "        text-align: right;\n",
       "    }\n",
       "</style>\n",
       "<table border=\"1\" class=\"dataframe\">\n",
       "  <thead>\n",
       "    <tr style=\"text-align: right;\">\n",
       "      <th></th>\n",
       "      <th>Time</th>\n",
       "      <th>V1</th>\n",
       "      <th>V2</th>\n",
       "      <th>V3</th>\n",
       "      <th>V4</th>\n",
       "      <th>V5</th>\n",
       "      <th>V6</th>\n",
       "      <th>V7</th>\n",
       "      <th>V8</th>\n",
       "      <th>V9</th>\n",
       "      <th>...</th>\n",
       "      <th>V21</th>\n",
       "      <th>V22</th>\n",
       "      <th>V23</th>\n",
       "      <th>V24</th>\n",
       "      <th>V25</th>\n",
       "      <th>V26</th>\n",
       "      <th>V27</th>\n",
       "      <th>V28</th>\n",
       "      <th>Amount</th>\n",
       "      <th>Class</th>\n",
       "    </tr>\n",
       "  </thead>\n",
       "  <tbody>\n",
       "    <tr>\n",
       "      <th>0</th>\n",
       "      <td>72890</td>\n",
       "      <td>-1.22258</td>\n",
       "      <td>-0.017622</td>\n",
       "      <td>2.317581</td>\n",
       "      <td>-1.547722</td>\n",
       "      <td>-0.958068</td>\n",
       "      <td>-0.370571</td>\n",
       "      <td>-0.583838</td>\n",
       "      <td>0.384328</td>\n",
       "      <td>-0.72238</td>\n",
       "      <td>...</td>\n",
       "      <td>0.430025</td>\n",
       "      <td>1.217131</td>\n",
       "      <td>-0.463494</td>\n",
       "      <td>0.456253</td>\n",
       "      <td>0.385304</td>\n",
       "      <td>-0.104713</td>\n",
       "      <td>-0.303068</td>\n",
       "      <td>-0.300302</td>\n",
       "      <td>5.9</td>\n",
       "      <td>0</td>\n",
       "    </tr>\n",
       "    <tr>\n",
       "      <th>1</th>\n",
       "      <td>131206</td>\n",
       "      <td>1.967597</td>\n",
       "      <td>-1.009301</td>\n",
       "      <td>-1.970656</td>\n",
       "      <td>-0.406056</td>\n",
       "      <td>1.614598</td>\n",
       "      <td>3.92548</td>\n",
       "      <td>-1.209586</td>\n",
       "      <td>0.952736</td>\n",
       "      <td>-0.429297</td>\n",
       "      <td>...</td>\n",
       "      <td>-0.288566</td>\n",
       "      <td>-0.420307</td>\n",
       "      <td>0.258054</td>\n",
       "      <td>0.632264</td>\n",
       "      <td>-0.148758</td>\n",
       "      <td>-0.656398</td>\n",
       "      <td>0.077885</td>\n",
       "      <td>-0.027551</td>\n",
       "      <td>59.0</td>\n",
       "      <td>0</td>\n",
       "    </tr>\n",
       "    <tr>\n",
       "      <th>2</th>\n",
       "      <td>122831</td>\n",
       "      <td>2.290614</td>\n",
       "      <td>-1.288035</td>\n",
       "      <td>-1.091499</td>\n",
       "      <td>-1.591945</td>\n",
       "      <td>-0.983697</td>\n",
       "      <td>-0.58711</td>\n",
       "      <td>-0.952236</td>\n",
       "      <td>-0.272064</td>\n",
       "      <td>-1.392405</td>\n",
       "      <td>...</td>\n",
       "      <td>-0.161871</td>\n",
       "      <td>0.04143</td>\n",
       "      <td>0.225622</td>\n",
       "      <td>0.672485</td>\n",
       "      <td>-0.105101</td>\n",
       "      <td>-0.194599</td>\n",
       "      <td>0.007488</td>\n",
       "      <td>-0.040725</td>\n",
       "      <td>30.0</td>\n",
       "      <td>0</td>\n",
       "    </tr>\n",
       "    <tr>\n",
       "      <th>3</th>\n",
       "      <td>68397</td>\n",
       "      <td>1.258859</td>\n",
       "      <td>0.440981</td>\n",
       "      <td>0.331167</td>\n",
       "      <td>0.681581</td>\n",
       "      <td>-0.267935</td>\n",
       "      <td>-1.046229</td>\n",
       "      <td>0.163925</td>\n",
       "      <td>-0.269223</td>\n",
       "      <td>-0.142249</td>\n",
       "      <td>...</td>\n",
       "      <td>-0.27486</td>\n",
       "      <td>-0.734847</td>\n",
       "      <td>0.116306</td>\n",
       "      <td>0.376938</td>\n",
       "      <td>0.25547</td>\n",
       "      <td>0.090629</td>\n",
       "      <td>-0.015355</td>\n",
       "      <td>0.033149</td>\n",
       "      <td>0.89</td>\n",
       "      <td>0</td>\n",
       "    </tr>\n",
       "    <tr>\n",
       "      <th>4</th>\n",
       "      <td>152137</td>\n",
       "      <td>2.023988</td>\n",
       "      <td>-0.351874</td>\n",
       "      <td>-0.494781</td>\n",
       "      <td>0.36047</td>\n",
       "      <td>-0.400929</td>\n",
       "      <td>-0.202362</td>\n",
       "      <td>-0.544039</td>\n",
       "      <td>-0.078031</td>\n",
       "      <td>1.364484</td>\n",
       "      <td>...</td>\n",
       "      <td>0.160192</td>\n",
       "      <td>0.774027</td>\n",
       "      <td>0.021697</td>\n",
       "      <td>-0.601828</td>\n",
       "      <td>0.029147</td>\n",
       "      <td>-0.175735</td>\n",
       "      <td>0.04743</td>\n",
       "      <td>-0.041086</td>\n",
       "      <td>9.99</td>\n",
       "      <td>0</td>\n",
       "    </tr>\n",
       "  </tbody>\n",
       "</table>\n",
       "<p>5 rows × 31 columns</p>\n",
       "</div>[5 rows x 31 columns in total]"
      ],
      "text/plain": [
       "     Time        V1        V2        V3        V4        V5        V6  \\\n",
       "0   72890  -1.22258 -0.017622  2.317581 -1.547722 -0.958068 -0.370571   \n",
       "1  131206  1.967597 -1.009301 -1.970656 -0.406056  1.614598   3.92548   \n",
       "2  122831  2.290614 -1.288035 -1.091499 -1.591945 -0.983697  -0.58711   \n",
       "3   68397  1.258859  0.440981  0.331167  0.681581 -0.267935 -1.046229   \n",
       "4  152137  2.023988 -0.351874 -0.494781   0.36047 -0.400929 -0.202362   \n",
       "\n",
       "         V7        V8        V9  ...       V21       V22       V23       V24  \\\n",
       "0 -0.583838  0.384328  -0.72238  ...  0.430025  1.217131 -0.463494  0.456253   \n",
       "1 -1.209586  0.952736 -0.429297  ... -0.288566 -0.420307  0.258054  0.632264   \n",
       "2 -0.952236 -0.272064 -1.392405  ... -0.161871   0.04143  0.225622  0.672485   \n",
       "3  0.163925 -0.269223 -0.142249  ...  -0.27486 -0.734847  0.116306  0.376938   \n",
       "4 -0.544039 -0.078031  1.364484  ...  0.160192  0.774027  0.021697 -0.601828   \n",
       "\n",
       "        V25       V26       V27       V28  Amount  Class  \n",
       "0  0.385304 -0.104713 -0.303068 -0.300302     5.9      0  \n",
       "1 -0.148758 -0.656398  0.077885 -0.027551    59.0      0  \n",
       "2 -0.105101 -0.194599  0.007488 -0.040725    30.0      0  \n",
       "3   0.25547  0.090629 -0.015355  0.033149    0.89      0  \n",
       "4  0.029147 -0.175735   0.04743 -0.041086    9.99      0  \n",
       "\n",
       "[5 rows x 31 columns]"
      ]
     },
     "execution_count": 116,
     "metadata": {},
     "output_type": "execute_result"
    }
   ],
   "source": [
    "bq_data_bigframes = bpd.read_gbq(query)\n",
    "bq_data_bigframes.head()"
   ]
  },
  {
   "cell_type": "code",
   "execution_count": 117,
   "id": "49f34ee8-21b8-4983-9f8d-f7cd6bbcceaa",
   "metadata": {
    "tags": []
   },
   "outputs": [
    {
     "data": {
      "text/plain": [
       "bigframes.dataframe.DataFrame"
      ]
     },
     "execution_count": 117,
     "metadata": {},
     "output_type": "execute_result"
    }
   ],
   "source": [
    "type(bq_data_bigframes)"
   ]
  },
  {
   "cell_type": "code",
   "execution_count": 118,
   "id": "8ca4e952-ae52-4c09-a662-a1157cf05765",
   "metadata": {
    "tags": []
   },
   "outputs": [
    {
     "data": {
      "text/html": [
       "Query job b4b3b364-fa31-4b16-8387-e8183cd62c66 is DONE. 0 Bytes processed. <a target=\"_blank\" href=\"https://console.cloud.google.com/bigquery?project=statmike-mlops-349915&j=bq:us-central1:b4b3b364-fa31-4b16-8387-e8183cd62c66&page=queryresults\">Open Job</a>"
      ],
      "text/plain": [
       "<IPython.core.display.HTML object>"
      ]
     },
     "metadata": {},
     "output_type": "display_data"
    },
    {
     "data": {
      "text/plain": [
       "(228061, 31)"
      ]
     },
     "execution_count": 118,
     "metadata": {},
     "output_type": "execute_result"
    }
   ],
   "source": [
    "bq_data_bigframes.shape"
   ]
  },
  {
   "cell_type": "code",
   "execution_count": 119,
   "id": "3f9ab244-b607-42f2-a641-1955f57c60a2",
   "metadata": {
    "tags": []
   },
   "outputs": [
    {
     "data": {
      "text/html": [
       "Query job edabdb43-6c88-46c9-b447-2a8de6bfda59 is DONE. 56.6 MB processed. <a target=\"_blank\" href=\"https://console.cloud.google.com/bigquery?project=statmike-mlops-349915&j=bq:us-central1:edabdb43-6c88-46c9-b447-2a8de6bfda59&page=queryresults\">Open Job</a>"
      ],
      "text/plain": [
       "<IPython.core.display.HTML object>"
      ]
     },
     "metadata": {},
     "output_type": "display_data"
    },
    {
     "data": {
      "text/plain": [
       "pandas.core.frame.DataFrame"
      ]
     },
     "execution_count": 119,
     "metadata": {},
     "output_type": "execute_result"
    }
   ],
   "source": [
    "bq_data_bigframes = bq_data_bigframes.to_pandas()\n",
    "type(bq_data_bigframes)"
   ]
  },
  {
   "cell_type": "code",
   "execution_count": 120,
   "id": "f05a55f4-1297-469e-af85-0d6fbd1c5d38",
   "metadata": {
    "tags": []
   },
   "outputs": [
    {
     "data": {
      "text/plain": [
       "(228061, 31)"
      ]
     },
     "execution_count": 120,
     "metadata": {},
     "output_type": "execute_result"
    }
   ],
   "source": [
    "bq_data_bigframes.shape"
   ]
  },
  {
   "cell_type": "markdown",
   "id": "2a4209e2-3030-4b6c-8687-faa6f04cb2d0",
   "metadata": {},
   "source": [
    "### BigQuery Storage Client\n",
    "\n",
    "https://cloud.google.com/python/docs/reference/bigquerystorage/latest"
   ]
  },
  {
   "cell_type": "code",
   "execution_count": 204,
   "id": "28b2d98a-cdec-4ec3-9cab-fc66b63ce829",
   "metadata": {
    "tags": []
   },
   "outputs": [],
   "source": [
    "read_session = bqstorage.create_read_session(\n",
    "    request = dict(\n",
    "        parent = f'projects/{PROJECT_ID}',\n",
    "        read_session = dict(\n",
    "            table = f\"projects/{BQ_PROJECT}/datasets/{BQ_DATASET}/tables/{BQ_TABLE}\",\n",
    "            data_format = bigquery_storage.types.DataFormat.ARROW,\n",
    "            read_options = dict(\n",
    "                row_restriction = \"splits = 'TRAIN'\",\n",
    "                selected_fields = bq_data_bigframes.columns.tolist()\n",
    "            )\n",
    "        ),\n",
    "        max_stream_count = 0\n",
    "    )\n",
    ")"
   ]
  },
  {
   "cell_type": "code",
   "execution_count": 205,
   "id": "c90bd26b-cec2-4c5b-80c8-60496b7f9a5b",
   "metadata": {
    "tags": []
   },
   "outputs": [
    {
     "data": {
      "text/plain": [
       "1"
      ]
     },
     "execution_count": 205,
     "metadata": {},
     "output_type": "execute_result"
    }
   ],
   "source": [
    "len(read_session.streams)"
   ]
  },
  {
   "cell_type": "code",
   "execution_count": 206,
   "id": "ebd1033e-e7e1-4798-a895-00e664367388",
   "metadata": {
    "tags": []
   },
   "outputs": [],
   "source": [
    "def read_stream(stream):\n",
    "    # setup a reader\n",
    "    reader = bqstorage.read_rows(name = stream.name)\n",
    "    # read rows from reader into a dataframe.  Note this is actually multiple operations - read and convert\n",
    "    return reader.to_dataframe()\n",
    "\n",
    "\n",
    "bq_data_storage = []\n",
    "with concurrent.futures.ThreadPoolExecutor(max_workers = len(read_session.streams)) as executor:\n",
    "    futures = {\n",
    "        executor.submit(read_stream, stream): stream for stream in read_session.streams\n",
    "    }\n",
    "    for future in concurrent.futures.as_completed(futures):\n",
    "        stream = futures[future]\n",
    "        bq_data_storage.append(future.result())"
   ]
  },
  {
   "cell_type": "code",
   "execution_count": 207,
   "id": "0f0b572d-cc6f-4b50-bb20-8d924611fe0d",
   "metadata": {
    "tags": []
   },
   "outputs": [
    {
     "data": {
      "text/plain": [
       "1"
      ]
     },
     "execution_count": 207,
     "metadata": {},
     "output_type": "execute_result"
    }
   ],
   "source": [
    "len(bq_data_storage)"
   ]
  },
  {
   "cell_type": "code",
   "execution_count": 208,
   "id": "6c466822-cd9b-4f3a-980b-4f1ab0f4ee3f",
   "metadata": {
    "tags": []
   },
   "outputs": [
    {
     "data": {
      "text/plain": [
       "(228061, 31)"
      ]
     },
     "execution_count": 208,
     "metadata": {},
     "output_type": "execute_result"
    }
   ],
   "source": [
    "bq_data_storage[0].shape"
   ]
  },
  {
   "cell_type": "code",
   "execution_count": 209,
   "id": "f43461bc-bb2e-4e38-97aa-618eb58adf35",
   "metadata": {
    "tags": []
   },
   "outputs": [
    {
     "data": {
      "text/plain": [
       "(228061, 31)"
      ]
     },
     "execution_count": 209,
     "metadata": {},
     "output_type": "execute_result"
    }
   ],
   "source": [
    "bq_data_storage = pd.concat(bq_data_storage)\n",
    "bq_data_storage.shape"
   ]
  },
  {
   "cell_type": "code",
   "execution_count": 210,
   "id": "1659f506-2c83-4fad-9bd3-af7b30010619",
   "metadata": {
    "tags": []
   },
   "outputs": [
    {
     "data": {
      "text/plain": [
       "pandas.core.frame.DataFrame"
      ]
     },
     "execution_count": 210,
     "metadata": {},
     "output_type": "execute_result"
    }
   ],
   "source": [
    "type(bq_data_storage)"
   ]
  },
  {
   "cell_type": "code",
   "execution_count": 211,
   "id": "64e11d42-3f9d-4ea8-910d-30eedc1ea9ec",
   "metadata": {
    "tags": []
   },
   "outputs": [
    {
     "data": {
      "text/html": [
       "<div>\n",
       "<style scoped>\n",
       "    .dataframe tbody tr th:only-of-type {\n",
       "        vertical-align: middle;\n",
       "    }\n",
       "\n",
       "    .dataframe tbody tr th {\n",
       "        vertical-align: top;\n",
       "    }\n",
       "\n",
       "    .dataframe thead th {\n",
       "        text-align: right;\n",
       "    }\n",
       "</style>\n",
       "<table border=\"1\" class=\"dataframe\">\n",
       "  <thead>\n",
       "    <tr style=\"text-align: right;\">\n",
       "      <th></th>\n",
       "      <th>Time</th>\n",
       "      <th>V1</th>\n",
       "      <th>V2</th>\n",
       "      <th>V3</th>\n",
       "      <th>V4</th>\n",
       "      <th>V5</th>\n",
       "      <th>V6</th>\n",
       "      <th>V7</th>\n",
       "      <th>V8</th>\n",
       "      <th>V9</th>\n",
       "      <th>...</th>\n",
       "      <th>V21</th>\n",
       "      <th>V22</th>\n",
       "      <th>V23</th>\n",
       "      <th>V24</th>\n",
       "      <th>V25</th>\n",
       "      <th>V26</th>\n",
       "      <th>V27</th>\n",
       "      <th>V28</th>\n",
       "      <th>Amount</th>\n",
       "      <th>Class</th>\n",
       "    </tr>\n",
       "  </thead>\n",
       "  <tbody>\n",
       "    <tr>\n",
       "      <th>0</th>\n",
       "      <td>2812</td>\n",
       "      <td>-0.633403</td>\n",
       "      <td>0.963616</td>\n",
       "      <td>2.494946</td>\n",
       "      <td>2.099051</td>\n",
       "      <td>-0.404331</td>\n",
       "      <td>0.235862</td>\n",
       "      <td>-0.007932</td>\n",
       "      <td>0.211442</td>\n",
       "      <td>-0.209817</td>\n",
       "      <td>...</td>\n",
       "      <td>0.014676</td>\n",
       "      <td>0.016278</td>\n",
       "      <td>-0.061462</td>\n",
       "      <td>0.355196</td>\n",
       "      <td>-0.179086</td>\n",
       "      <td>-0.106947</td>\n",
       "      <td>-0.215039</td>\n",
       "      <td>0.050698</td>\n",
       "      <td>0.0</td>\n",
       "      <td>0</td>\n",
       "    </tr>\n",
       "    <tr>\n",
       "      <th>1</th>\n",
       "      <td>3150</td>\n",
       "      <td>1.313281</td>\n",
       "      <td>-0.257923</td>\n",
       "      <td>0.118463</td>\n",
       "      <td>-0.735557</td>\n",
       "      <td>-0.569308</td>\n",
       "      <td>-0.733577</td>\n",
       "      <td>-0.138659</td>\n",
       "      <td>-0.141641</td>\n",
       "      <td>1.708019</td>\n",
       "      <td>...</td>\n",
       "      <td>-0.082467</td>\n",
       "      <td>0.126066</td>\n",
       "      <td>-0.223157</td>\n",
       "      <td>-0.074977</td>\n",
       "      <td>0.921940</td>\n",
       "      <td>-0.528283</td>\n",
       "      <td>0.064476</td>\n",
       "      <td>0.013132</td>\n",
       "      <td>0.0</td>\n",
       "      <td>0</td>\n",
       "    </tr>\n",
       "    <tr>\n",
       "      <th>2</th>\n",
       "      <td>16676</td>\n",
       "      <td>1.158480</td>\n",
       "      <td>0.168947</td>\n",
       "      <td>0.536345</td>\n",
       "      <td>1.187908</td>\n",
       "      <td>-0.265547</td>\n",
       "      <td>-0.076325</td>\n",
       "      <td>-0.355844</td>\n",
       "      <td>0.144615</td>\n",
       "      <td>1.462346</td>\n",
       "      <td>...</td>\n",
       "      <td>0.016492</td>\n",
       "      <td>0.263518</td>\n",
       "      <td>-0.076711</td>\n",
       "      <td>-0.079402</td>\n",
       "      <td>0.502827</td>\n",
       "      <td>-0.270819</td>\n",
       "      <td>-0.004966</td>\n",
       "      <td>-0.003372</td>\n",
       "      <td>0.0</td>\n",
       "      <td>0</td>\n",
       "    </tr>\n",
       "    <tr>\n",
       "      <th>3</th>\n",
       "      <td>17701</td>\n",
       "      <td>-1.279231</td>\n",
       "      <td>-0.153303</td>\n",
       "      <td>3.296310</td>\n",
       "      <td>3.320441</td>\n",
       "      <td>1.139018</td>\n",
       "      <td>0.542343</td>\n",
       "      <td>-0.729928</td>\n",
       "      <td>-0.051774</td>\n",
       "      <td>0.922712</td>\n",
       "      <td>...</td>\n",
       "      <td>-0.409746</td>\n",
       "      <td>-0.342575</td>\n",
       "      <td>-0.493297</td>\n",
       "      <td>-0.017046</td>\n",
       "      <td>-0.107404</td>\n",
       "      <td>0.101164</td>\n",
       "      <td>-0.197940</td>\n",
       "      <td>-0.435654</td>\n",
       "      <td>0.0</td>\n",
       "      <td>0</td>\n",
       "    </tr>\n",
       "    <tr>\n",
       "      <th>4</th>\n",
       "      <td>28131</td>\n",
       "      <td>1.069507</td>\n",
       "      <td>-0.000362</td>\n",
       "      <td>1.448936</td>\n",
       "      <td>2.874498</td>\n",
       "      <td>-0.736266</td>\n",
       "      <td>0.831932</td>\n",
       "      <td>-0.762267</td>\n",
       "      <td>0.406772</td>\n",
       "      <td>0.626473</td>\n",
       "      <td>...</td>\n",
       "      <td>0.035393</td>\n",
       "      <td>0.444433</td>\n",
       "      <td>-0.085413</td>\n",
       "      <td>0.099090</td>\n",
       "      <td>0.506438</td>\n",
       "      <td>0.246418</td>\n",
       "      <td>0.057864</td>\n",
       "      <td>0.021133</td>\n",
       "      <td>0.0</td>\n",
       "      <td>0</td>\n",
       "    </tr>\n",
       "  </tbody>\n",
       "</table>\n",
       "<p>5 rows × 31 columns</p>\n",
       "</div>"
      ],
      "text/plain": [
       "    Time        V1        V2        V3        V4        V5        V6  \\\n",
       "0   2812 -0.633403  0.963616  2.494946  2.099051 -0.404331  0.235862   \n",
       "1   3150  1.313281 -0.257923  0.118463 -0.735557 -0.569308 -0.733577   \n",
       "2  16676  1.158480  0.168947  0.536345  1.187908 -0.265547 -0.076325   \n",
       "3  17701 -1.279231 -0.153303  3.296310  3.320441  1.139018  0.542343   \n",
       "4  28131  1.069507 -0.000362  1.448936  2.874498 -0.736266  0.831932   \n",
       "\n",
       "         V7        V8        V9  ...       V21       V22       V23       V24  \\\n",
       "0 -0.007932  0.211442 -0.209817  ...  0.014676  0.016278 -0.061462  0.355196   \n",
       "1 -0.138659 -0.141641  1.708019  ... -0.082467  0.126066 -0.223157 -0.074977   \n",
       "2 -0.355844  0.144615  1.462346  ...  0.016492  0.263518 -0.076711 -0.079402   \n",
       "3 -0.729928 -0.051774  0.922712  ... -0.409746 -0.342575 -0.493297 -0.017046   \n",
       "4 -0.762267  0.406772  0.626473  ...  0.035393  0.444433 -0.085413  0.099090   \n",
       "\n",
       "        V25       V26       V27       V28  Amount  Class  \n",
       "0 -0.179086 -0.106947 -0.215039  0.050698     0.0      0  \n",
       "1  0.921940 -0.528283  0.064476  0.013132     0.0      0  \n",
       "2  0.502827 -0.270819 -0.004966 -0.003372     0.0      0  \n",
       "3 -0.107404  0.101164 -0.197940 -0.435654     0.0      0  \n",
       "4  0.506438  0.246418  0.057864  0.021133     0.0      0  \n",
       "\n",
       "[5 rows x 31 columns]"
      ]
     },
     "execution_count": 211,
     "metadata": {},
     "output_type": "execute_result"
    }
   ],
   "source": [
    "bq_data_storage.head()"
   ]
  },
  {
   "cell_type": "markdown",
   "id": "59109c58-de01-4578-b21c-8ae1fed8f4af",
   "metadata": {},
   "source": [
    "### Indirect BigQuery with `pandas-gbq`\n",
    "\n",
    "When working with [Pandas](https://pandas.pydata.org/docs/user_guide/index.html#user-guide) the methods above show the client returning data to pandas dataframes.  This section will show a pandas mudule, [pandas-gbq](https://pandas-gbq.readthedocs.io/en/latest/) that wraps the BigQuery client so that pandas can retrieve BigQuery data to dataframes.\n",
    "\n",
    "References:\n",
    "- [Comparison of BigQuery Client with pandas-gbq](https://cloud.google.com/bigquery/docs/pandas-gbq-migration)"
   ]
  },
  {
   "cell_type": "code",
   "execution_count": 133,
   "id": "8c4a2fdb-91e3-4a91-8700-fbc67290caa9",
   "metadata": {
    "tags": []
   },
   "outputs": [
    {
     "data": {
      "text/html": [
       "<div>\n",
       "<style scoped>\n",
       "    .dataframe tbody tr th:only-of-type {\n",
       "        vertical-align: middle;\n",
       "    }\n",
       "\n",
       "    .dataframe tbody tr th {\n",
       "        vertical-align: top;\n",
       "    }\n",
       "\n",
       "    .dataframe thead th {\n",
       "        text-align: right;\n",
       "    }\n",
       "</style>\n",
       "<table border=\"1\" class=\"dataframe\">\n",
       "  <thead>\n",
       "    <tr style=\"text-align: right;\">\n",
       "      <th></th>\n",
       "      <th>Time</th>\n",
       "      <th>V1</th>\n",
       "      <th>V2</th>\n",
       "      <th>V3</th>\n",
       "      <th>V4</th>\n",
       "      <th>V5</th>\n",
       "      <th>V6</th>\n",
       "      <th>V7</th>\n",
       "      <th>V8</th>\n",
       "      <th>V9</th>\n",
       "      <th>...</th>\n",
       "      <th>V21</th>\n",
       "      <th>V22</th>\n",
       "      <th>V23</th>\n",
       "      <th>V24</th>\n",
       "      <th>V25</th>\n",
       "      <th>V26</th>\n",
       "      <th>V27</th>\n",
       "      <th>V28</th>\n",
       "      <th>Amount</th>\n",
       "      <th>Class</th>\n",
       "    </tr>\n",
       "  </thead>\n",
       "  <tbody>\n",
       "    <tr>\n",
       "      <th>0</th>\n",
       "      <td>2812</td>\n",
       "      <td>-0.633403</td>\n",
       "      <td>0.963616</td>\n",
       "      <td>2.494946</td>\n",
       "      <td>2.099051</td>\n",
       "      <td>-0.404331</td>\n",
       "      <td>0.235862</td>\n",
       "      <td>-0.007932</td>\n",
       "      <td>0.211442</td>\n",
       "      <td>-0.209817</td>\n",
       "      <td>...</td>\n",
       "      <td>0.014676</td>\n",
       "      <td>0.016278</td>\n",
       "      <td>-0.061462</td>\n",
       "      <td>0.355196</td>\n",
       "      <td>-0.179086</td>\n",
       "      <td>-0.106947</td>\n",
       "      <td>-0.215039</td>\n",
       "      <td>0.050698</td>\n",
       "      <td>0.0</td>\n",
       "      <td>0</td>\n",
       "    </tr>\n",
       "    <tr>\n",
       "      <th>1</th>\n",
       "      <td>3150</td>\n",
       "      <td>1.313281</td>\n",
       "      <td>-0.257923</td>\n",
       "      <td>0.118463</td>\n",
       "      <td>-0.735557</td>\n",
       "      <td>-0.569308</td>\n",
       "      <td>-0.733577</td>\n",
       "      <td>-0.138659</td>\n",
       "      <td>-0.141641</td>\n",
       "      <td>1.708019</td>\n",
       "      <td>...</td>\n",
       "      <td>-0.082467</td>\n",
       "      <td>0.126066</td>\n",
       "      <td>-0.223157</td>\n",
       "      <td>-0.074977</td>\n",
       "      <td>0.921940</td>\n",
       "      <td>-0.528283</td>\n",
       "      <td>0.064476</td>\n",
       "      <td>0.013132</td>\n",
       "      <td>0.0</td>\n",
       "      <td>0</td>\n",
       "    </tr>\n",
       "    <tr>\n",
       "      <th>2</th>\n",
       "      <td>16676</td>\n",
       "      <td>1.158480</td>\n",
       "      <td>0.168947</td>\n",
       "      <td>0.536345</td>\n",
       "      <td>1.187908</td>\n",
       "      <td>-0.265547</td>\n",
       "      <td>-0.076325</td>\n",
       "      <td>-0.355844</td>\n",
       "      <td>0.144615</td>\n",
       "      <td>1.462346</td>\n",
       "      <td>...</td>\n",
       "      <td>0.016492</td>\n",
       "      <td>0.263518</td>\n",
       "      <td>-0.076711</td>\n",
       "      <td>-0.079402</td>\n",
       "      <td>0.502827</td>\n",
       "      <td>-0.270819</td>\n",
       "      <td>-0.004966</td>\n",
       "      <td>-0.003372</td>\n",
       "      <td>0.0</td>\n",
       "      <td>0</td>\n",
       "    </tr>\n",
       "    <tr>\n",
       "      <th>3</th>\n",
       "      <td>17701</td>\n",
       "      <td>-1.279231</td>\n",
       "      <td>-0.153303</td>\n",
       "      <td>3.296310</td>\n",
       "      <td>3.320441</td>\n",
       "      <td>1.139018</td>\n",
       "      <td>0.542343</td>\n",
       "      <td>-0.729928</td>\n",
       "      <td>-0.051774</td>\n",
       "      <td>0.922712</td>\n",
       "      <td>...</td>\n",
       "      <td>-0.409746</td>\n",
       "      <td>-0.342575</td>\n",
       "      <td>-0.493297</td>\n",
       "      <td>-0.017046</td>\n",
       "      <td>-0.107404</td>\n",
       "      <td>0.101164</td>\n",
       "      <td>-0.197940</td>\n",
       "      <td>-0.435654</td>\n",
       "      <td>0.0</td>\n",
       "      <td>0</td>\n",
       "    </tr>\n",
       "    <tr>\n",
       "      <th>4</th>\n",
       "      <td>28131</td>\n",
       "      <td>1.069507</td>\n",
       "      <td>-0.000362</td>\n",
       "      <td>1.448936</td>\n",
       "      <td>2.874498</td>\n",
       "      <td>-0.736266</td>\n",
       "      <td>0.831932</td>\n",
       "      <td>-0.762267</td>\n",
       "      <td>0.406772</td>\n",
       "      <td>0.626473</td>\n",
       "      <td>...</td>\n",
       "      <td>0.035393</td>\n",
       "      <td>0.444433</td>\n",
       "      <td>-0.085413</td>\n",
       "      <td>0.099090</td>\n",
       "      <td>0.506438</td>\n",
       "      <td>0.246418</td>\n",
       "      <td>0.057864</td>\n",
       "      <td>0.021133</td>\n",
       "      <td>0.0</td>\n",
       "      <td>0</td>\n",
       "    </tr>\n",
       "  </tbody>\n",
       "</table>\n",
       "<p>5 rows × 31 columns</p>\n",
       "</div>"
      ],
      "text/plain": [
       "    Time        V1        V2        V3        V4        V5        V6  \\\n",
       "0   2812 -0.633403  0.963616  2.494946  2.099051 -0.404331  0.235862   \n",
       "1   3150  1.313281 -0.257923  0.118463 -0.735557 -0.569308 -0.733577   \n",
       "2  16676  1.158480  0.168947  0.536345  1.187908 -0.265547 -0.076325   \n",
       "3  17701 -1.279231 -0.153303  3.296310  3.320441  1.139018  0.542343   \n",
       "4  28131  1.069507 -0.000362  1.448936  2.874498 -0.736266  0.831932   \n",
       "\n",
       "         V7        V8        V9  ...       V21       V22       V23       V24  \\\n",
       "0 -0.007932  0.211442 -0.209817  ...  0.014676  0.016278 -0.061462  0.355196   \n",
       "1 -0.138659 -0.141641  1.708019  ... -0.082467  0.126066 -0.223157 -0.074977   \n",
       "2 -0.355844  0.144615  1.462346  ...  0.016492  0.263518 -0.076711 -0.079402   \n",
       "3 -0.729928 -0.051774  0.922712  ... -0.409746 -0.342575 -0.493297 -0.017046   \n",
       "4 -0.762267  0.406772  0.626473  ...  0.035393  0.444433 -0.085413  0.099090   \n",
       "\n",
       "        V25       V26       V27       V28  Amount  Class  \n",
       "0 -0.179086 -0.106947 -0.215039  0.050698     0.0      0  \n",
       "1  0.921940 -0.528283  0.064476  0.013132     0.0      0  \n",
       "2  0.502827 -0.270819 -0.004966 -0.003372     0.0      0  \n",
       "3 -0.107404  0.101164 -0.197940 -0.435654     0.0      0  \n",
       "4  0.506438  0.246418  0.057864  0.021133     0.0      0  \n",
       "\n",
       "[5 rows x 31 columns]"
      ]
     },
     "execution_count": 133,
     "metadata": {},
     "output_type": "execute_result"
    }
   ],
   "source": [
    "bq_data_pandasgbq = pd.read_gbq(query, project_id = PROJECT_ID)\n",
    "bq_data_pandasgbq.head()"
   ]
  },
  {
   "cell_type": "code",
   "execution_count": 134,
   "id": "4863857f-3cf9-40da-83af-f7046edf3fac",
   "metadata": {
    "tags": []
   },
   "outputs": [
    {
     "data": {
      "text/plain": [
       "pandas.core.frame.DataFrame"
      ]
     },
     "execution_count": 134,
     "metadata": {},
     "output_type": "execute_result"
    }
   ],
   "source": [
    "type(bq_data_pandasgbq)"
   ]
  },
  {
   "cell_type": "code",
   "execution_count": 135,
   "id": "f74ce91f-2681-4461-a412-55a60f9fd386",
   "metadata": {
    "tags": []
   },
   "outputs": [
    {
     "data": {
      "text/plain": [
       "(228061, 31)"
      ]
     },
     "execution_count": 135,
     "metadata": {},
     "output_type": "execute_result"
    }
   ],
   "source": [
    "bq_data_pandasgbq.shape"
   ]
  },
  {
   "cell_type": "markdown",
   "id": "424701cd-ba5a-4033-98ec-8d4a7bab7116",
   "metadata": {},
   "source": [
    "### TensorFlow I/O\n",
    "\n",
    "https://www.tensorflow.org/io"
   ]
  },
  {
   "cell_type": "code",
   "execution_count": 177,
   "id": "063bce92-7a53-481e-abe9-9b341a9fb17e",
   "metadata": {
    "tags": []
   },
   "outputs": [],
   "source": [
    "query = f'''\n",
    "SELECT *\n",
    "FROM {BQ_PROJECT}.{BQ_DATASET}.INFORMATION_SCHEMA.COLUMNS\n",
    "WHERE TABLE_NAME = '{BQ_TABLE}'\n",
    "    AND COLUMN_NAME NOT IN ('transaction_id', 'splits')\n",
    "'''\n",
    "schema = bq.query(query).to_dataframe()"
   ]
  },
  {
   "cell_type": "code",
   "execution_count": 178,
   "id": "d1dc0336-ff59-4f13-9f55-97e96c4b63b3",
   "metadata": {
    "tags": []
   },
   "outputs": [
    {
     "data": {
      "text/plain": [
       "['INT64', 'FLOAT64']"
      ]
     },
     "execution_count": 178,
     "metadata": {},
     "output_type": "execute_result"
    }
   ],
   "source": [
    "schema.data_type.unique().tolist()"
   ]
  },
  {
   "cell_type": "code",
   "execution_count": 179,
   "id": "fd77d0a7-2193-4be0-81b4-57bb8b8b84ff",
   "metadata": {
    "tags": []
   },
   "outputs": [],
   "source": [
    "types = {\n",
    "    'FLOAT64' : dtypes.float64,\n",
    "    'INT64' : dtypes.int64\n",
    "}"
   ]
  },
  {
   "cell_type": "code",
   "execution_count": 180,
   "id": "dfbd6311-557f-414e-9f7e-c1dc1f00c815",
   "metadata": {
    "tags": []
   },
   "outputs": [
    {
     "data": {
      "text/plain": [
       "tensorflow_io.python.ops.bigquery_dataset_ops.BigQueryClient"
      ]
     },
     "execution_count": 180,
     "metadata": {},
     "output_type": "execute_result"
    }
   ],
   "source": [
    "bq_data_tfio = BigQueryClient()\n",
    "type(bq_data_tfio)"
   ]
  },
  {
   "cell_type": "code",
   "execution_count": 181,
   "id": "14376535-2593-4e78-bf56-ba83bd587320",
   "metadata": {
    "tags": []
   },
   "outputs": [
    {
     "data": {
      "text/plain": [
       "tensorflow_io.python.ops.bigquery_dataset_ops.BigQueryReadSession"
      ]
     },
     "execution_count": 181,
     "metadata": {},
     "output_type": "execute_result"
    }
   ],
   "source": [
    "bq_data_tfio = bq_data_tfio.read_session(\n",
    "    parent = f\"projects/{PROJECT_ID}\",\n",
    "    project_id = BQ_PROJECT,\n",
    "    table_id = BQ_TABLE,\n",
    "    dataset_id = BQ_DATASET,\n",
    "    selected_fields = [x for x in schema.column_name.tolist()],\n",
    "    output_types = [types[x] for x in schema.data_type.tolist()],\n",
    "    row_restriction = f\"splits='TRAIN'\",\n",
    "    requested_streams = 3\n",
    ")\n",
    "type(bq_data_tfio)"
   ]
  },
  {
   "cell_type": "code",
   "execution_count": 182,
   "id": "1a778d90-e214-49a1-9faa-992153492f33",
   "metadata": {
    "tags": []
   },
   "outputs": [
    {
     "data": {
      "text/plain": [
       "tensorflow.python.data.ops.interleave_op._ParallelInterleaveDataset"
      ]
     },
     "execution_count": 182,
     "metadata": {},
     "output_type": "execute_result"
    }
   ],
   "source": [
    "bq_data_tfio = bq_data_tfio.parallel_read_rows(sloppy = True, num_parallel_calls = tf.data.experimental.AUTOTUNE)\n",
    "type(bq_data_tfio)"
   ]
  },
  {
   "cell_type": "code",
   "execution_count": 188,
   "id": "9a9489d7-02a0-4902-a3a4-6af846302f71",
   "metadata": {
    "tags": []
   },
   "outputs": [
    {
     "name": "stdout",
     "output_type": "stream",
     "text": [
      "<class 'collections.OrderedDict'>\n",
      "['Amount', 'Class', 'Time', 'V1', 'V10', 'V11', 'V12', 'V13', 'V14', 'V15', 'V16', 'V17', 'V18', 'V19', 'V2', 'V20', 'V21', 'V22', 'V23', 'V24', 'V25', 'V26', 'V27', 'V28', 'V3', 'V4', 'V5', 'V6', 'V7', 'V8', 'V9']\n",
      "('Amount', <tf.Tensor: shape=(5,), dtype=float64, numpy=array([0., 0., 0., 0., 0.])>)\n",
      "('Class', <tf.Tensor: shape=(5,), dtype=int64, numpy=array([0, 0, 0, 0, 0])>)\n",
      "('Time', <tf.Tensor: shape=(5,), dtype=int64, numpy=array([ 2812,  3150, 16676, 17701, 28131])>)\n",
      "('V1', <tf.Tensor: shape=(5,), dtype=float64, numpy=array([-0.63340299,  1.31328087,  1.15847976, -1.27923083,  1.06950736])>)\n",
      "('V10', <tf.Tensor: shape=(5,), dtype=float64, numpy=array([ 0.3082976 , -1.10329377, -0.17276001,  0.84594969,  0.37324618])>)\n",
      "('V11', <tf.Tensor: shape=(5,), dtype=float64, numpy=array([-1.20499231, -1.08782009,  2.05305928,  1.38923569, -1.32944263])>)\n",
      "('V12', <tf.Tensor: shape=(5,), dtype=float64, numpy=array([-0.47470781,  0.64467588, -2.73649895, -2.44018135, -0.1867695 ])>)\n",
      "('V13', <tf.Tensor: shape=(5,), dtype=float64, numpy=array([-0.65406356, -0.21536864, -0.65945968,  1.09921626, -1.2715409 ])>)\n",
      "('V14', <tf.Tensor: shape=(5,), dtype=float64, numpy=array([-0.47459911, -0.07471497,  2.39520841,  0.76496092, -0.47134632])>)\n",
      "('V15', <tf.Tensor: shape=(5,), dtype=float64, numpy=array([-0.42841779,  0.28787333,  0.03210484, -1.32315853, -1.11108035])>)\n",
      "('V16', <tf.Tensor: shape=(5,), dtype=float64, numpy=array([ 0.53665148, -1.00176397,  0.09806718, -0.28971316, -0.2096666 ])>)\n",
      "('V17', <tf.Tensor: shape=(5,), dtype=float64, numpy=array([-0.38065462,  0.09376776,  0.42428227,  0.65615985,  0.34660557])>)\n",
      "('V18', <tf.Tensor: shape=(5,), dtype=float64, numpy=array([ 0.02865054, -0.07254906,  0.59856386,  0.77523608, -0.62063772])>)\n",
      "('V19', <tf.Tensor: shape=(5,), dtype=float64, numpy=array([-0.68796943,  1.1083853 , -0.70353147,  1.52883351, -0.91684769])>)\n",
      "('V2', <tf.Tensor: shape=(5,), dtype=float64, numpy=\n",
      "array([ 9.63616039e-01, -2.57922822e-01,  1.68946502e-01, -1.53303332e-01,\n",
      "       -3.61567697e-04])>)\n",
      "('V20', <tf.Tensor: shape=(5,), dtype=float64, numpy=array([-0.17498476, -0.14514383, -0.35528903,  0.0286392 , -0.29230464])>)\n",
      "('V21', <tf.Tensor: shape=(5,), dtype=float64, numpy=array([ 0.01467553, -0.08246737,  0.01649243, -0.40974641,  0.03539309])>)\n",
      "('V22', <tf.Tensor: shape=(5,), dtype=float64, numpy=array([ 0.01627818,  0.12606591,  0.26351819, -0.34257494,  0.44443334])>)\n",
      "('V23', <tf.Tensor: shape=(5,), dtype=float64, numpy=array([-0.06146247, -0.22315725, -0.07671142, -0.49329682, -0.08541321])>)\n",
      "('V24', <tf.Tensor: shape=(5,), dtype=float64, numpy=array([ 0.35519634, -0.07497714, -0.07940242, -0.01704646,  0.09909026])>)\n",
      "('V25', <tf.Tensor: shape=(5,), dtype=float64, numpy=array([-0.1790855 ,  0.92193958,  0.50282708, -0.10740384,  0.50643843])>)\n",
      "('V26', <tf.Tensor: shape=(5,), dtype=float64, numpy=array([-0.10694743, -0.52828348, -0.2708189 ,  0.10116408,  0.24641823])>)\n",
      "('V27', <tf.Tensor: shape=(5,), dtype=float64, numpy=array([-0.21503926,  0.06447566, -0.0049661 , -0.19794013,  0.05786398])>)\n",
      "('V28', <tf.Tensor: shape=(5,), dtype=float64, numpy=array([ 0.0506978 ,  0.01313189, -0.00337181, -0.43565366,  0.02113273])>)\n",
      "('V3', <tf.Tensor: shape=(5,), dtype=float64, numpy=array([2.49494562, 0.11846283, 0.53634505, 3.29631037, 1.44893558])>)\n",
      "('V4', <tf.Tensor: shape=(5,), dtype=float64, numpy=array([ 2.09905099, -0.73555665,  1.18790841,  3.32044136,  2.87449797])>)\n",
      "('V5', <tf.Tensor: shape=(5,), dtype=float64, numpy=array([-0.40433067, -0.56930772, -0.26554689,  1.13901754, -0.73626591])>)\n",
      "('V6', <tf.Tensor: shape=(5,), dtype=float64, numpy=array([ 0.23586158, -0.73357721, -0.07632466,  0.54234305,  0.8319322 ])>)\n",
      "('V7', <tf.Tensor: shape=(5,), dtype=float64, numpy=array([-0.00793191, -0.13865918, -0.35584369, -0.72992832, -0.76226682])>)\n",
      "('V8', <tf.Tensor: shape=(5,), dtype=float64, numpy=array([ 0.21144152, -0.14164134,  0.14461505, -0.05177411,  0.40677214])>)\n",
      "('V9', <tf.Tensor: shape=(5,), dtype=float64, numpy=array([-0.20981682,  1.70801916,  1.46234622,  0.92271182,  0.62647258])>)\n"
     ]
    }
   ],
   "source": [
    "for rows in bq_data_tfio.batch(5).take(1):\n",
    "    print(type(rows))\n",
    "    print(list(rows.keys()))\n",
    "    for item in rows.items():\n",
    "        print(item)"
   ]
  },
  {
   "cell_type": "code",
   "execution_count": 187,
   "id": "458bcf68-e01e-45ef-bbb1-666242445b66",
   "metadata": {
    "tags": []
   },
   "outputs": [
    {
     "data": {
      "text/plain": [
       "tensorflow.python.data.ops.take_op._TakeDataset"
      ]
     },
     "execution_count": 187,
     "metadata": {},
     "output_type": "execute_result"
    }
   ],
   "source": [
    "type(bq_data_tfio.batch(5).take(1))"
   ]
  },
  {
   "cell_type": "markdown",
   "id": "ffac276b-adb2-43f9-b53e-69e37e55d07d",
   "metadata": {},
   "source": [
    "## Data To Training\n",
    "\n",
    "The methods above result in either a Pandas dataframe or a `tf.data` object in the case of TensorFlow I/O.  This section shows how to use both each input type to train a model with TensorFlow."
   ]
  },
  {
   "cell_type": "markdown",
   "id": "be15628a-e421-4103-b07c-7b2a2e2defd2",
   "metadata": {},
   "source": [
    "### From Pandas To TensorFlow"
   ]
  },
  {
   "cell_type": "code",
   "execution_count": 212,
   "id": "e35d4e6d-577b-4dbf-b0c6-2e01d7d92a5d",
   "metadata": {
    "tags": []
   },
   "outputs": [],
   "source": [
    "features = bq_data_storage.copy()\n",
    "target = features.pop(VAR_TARGET)"
   ]
  },
  {
   "cell_type": "code",
   "execution_count": null,
   "id": "bedb5078-e1ef-42ea-b643-b03bda42c7ca",
   "metadata": {},
   "outputs": [],
   "source": []
  },
  {
   "cell_type": "code",
   "execution_count": null,
   "id": "c6fbb757-d59a-45ba-84ca-824628eee240",
   "metadata": {},
   "outputs": [],
   "source": []
  },
  {
   "cell_type": "code",
   "execution_count": null,
   "id": "af424248-8f9b-4539-b18d-e6bacb90c69c",
   "metadata": {},
   "outputs": [],
   "source": []
  },
  {
   "cell_type": "markdown",
   "id": "d182f99d-f01f-408f-abe9-82a0105ac9fe",
   "metadata": {},
   "source": [
    "### From TensorFlow I/O to TensorFlow"
   ]
  },
  {
   "cell_type": "code",
   "execution_count": null,
   "id": "db6c3fba-5900-45be-8e12-38eb4bd6a45b",
   "metadata": {},
   "outputs": [],
   "source": []
  },
  {
   "cell_type": "code",
   "execution_count": null,
   "id": "be08fc9f-4aaf-4c13-8dea-d86b661a1b24",
   "metadata": {},
   "outputs": [],
   "source": []
  }
 ],
 "metadata": {
  "environment": {
   "kernel": "conda-root-py",
   "name": "workbench-notebooks.m113",
   "type": "gcloud",
   "uri": "gcr.io/deeplearning-platform-release/workbench-notebooks:m113"
  },
  "kernelspec": {
   "display_name": "Python 3 (ipykernel) (Local)",
   "language": "python",
   "name": "conda-root-py"
  },
  "language_info": {
   "codemirror_mode": {
    "name": "ipython",
    "version": 3
   },
   "file_extension": ".py",
   "mimetype": "text/x-python",
   "name": "python",
   "nbconvert_exporter": "python",
   "pygments_lexer": "ipython3",
   "version": "3.10.13"
  }
 },
 "nbformat": 4,
 "nbformat_minor": 5
}
