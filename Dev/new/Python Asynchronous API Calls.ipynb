{
 "cells": [
  {
   "cell_type": "markdown",
   "id": "a07f1c8a-342f-4828-8269-ddd920b20ec2",
   "metadata": {},
   "source": [
    "![ga4](https://www.google-analytics.com/collect?v=2&tid=G-6VDTYWLKX6&cid=1&en=page_view&sid=1&dl=statmike%2Fvertex-ai-mlops%2FDev%2Fnew&dt=Python+Asynchronous+API+Calls.ipynb)\n",
    "\n",
    "# Python Asynchronous API Calls\n",
    "\n",
    "Method for making asynchronous API calls.  Additionally, managing concurrent request and handling errors."
   ]
  },
  {
   "cell_type": "code",
   "execution_count": null,
   "id": "4e271c62-63aa-464e-87e7-488749ba0552",
   "metadata": {},
   "outputs": [],
   "source": []
  }
 ],
 "metadata": {
  "environment": {
   "kernel": "conda-root-py",
   "name": "workbench-notebooks.m113",
   "type": "gcloud",
   "uri": "gcr.io/deeplearning-platform-release/workbench-notebooks:m113"
  },
  "kernelspec": {
   "display_name": "Python 3 (ipykernel) (Local)",
   "language": "python",
   "name": "conda-root-py"
  },
  "language_info": {
   "codemirror_mode": {
    "name": "ipython",
    "version": 3
   },
   "file_extension": ".py",
   "mimetype": "text/x-python",
   "name": "python",
   "nbconvert_exporter": "python",
   "pygments_lexer": "ipython3",
   "version": "3.10.13"
  }
 },
 "nbformat": 4,
 "nbformat_minor": 5
}
