{
 "cells": [
  {
   "cell_type": "markdown",
   "id": "a07f1c8a-342f-4828-8269-ddd920b20ec2",
   "metadata": {},
   "source": [
    "![ga4](https://www.google-analytics.com/collect?v=2&tid=G-6VDTYWLKX6&cid=1&en=page_view&sid=1&dl=statmike%2Fvertex-ai-mlops%2FDev%2Fnew&dt=Python+Asynchronous+API+Calls.ipynb)\n",
    "\n",
    "# Python Asynchronous API Calls\n",
    "\n",
    "Method for making asynchronous API calls.  Additionally, managing concurrent request and handling errors."
   ]
  },
  {
   "cell_type": "markdown",
   "id": "0220187f-f83b-4a65-a32d-cbf486d19409",
   "metadata": {
    "id": "od_UkDpvRmgD",
    "tags": []
   },
   "source": [
    "---\n",
    "## Colab Setup\n",
    "\n",
    "To run this notebook in Colab click [![Open In Colab](https://colab.research.google.com/assets/colab-badge.svg)](https://colab.research.google.com/github/statmike/vertex-ai-mlops/blob/main/Applied%20GenAI/Getting%20Started%20-%20Vertex%20AI%20GenAI%20Python%20Client.ipynb) and run the cells in this section.  Otherwise, skip this section.\n",
    "\n",
    "This cell will authenticate to GCP (follow prompts in the popup)."
   ]
  },
  {
   "cell_type": "code",
   "execution_count": 1,
   "id": "cdf9e789-f8d9-455f-9d93-da2f385e8179",
   "metadata": {
    "executionInfo": {
     "elapsed": 195,
     "status": "ok",
     "timestamp": 1683726184843,
     "user": {
      "displayName": "Mike Henderson",
      "userId": "07691629187611687318"
     },
     "user_tz": 240
    },
    "id": "8UO9FnqyKBlF"
   },
   "outputs": [],
   "source": [
    "PROJECT_ID = 'statmike-mlops-349915' # replace with project ID"
   ]
  },
  {
   "cell_type": "code",
   "execution_count": 2,
   "id": "d6b61850-8266-4f16-a882-86f47fa6a7d6",
   "metadata": {
    "colab": {
     "base_uri": "https://localhost:8080/"
    },
    "executionInfo": {
     "elapsed": 68869,
     "status": "ok",
     "timestamp": 1683726253709,
     "user": {
      "displayName": "Mike Henderson",
      "userId": "07691629187611687318"
     },
     "user_tz": 240
    },
    "id": "N98-KK7LRkjm",
    "outputId": "09ec5008-0def-4e1a-c349-c598ee752f78"
   },
   "outputs": [],
   "source": [
    "try:\n",
    "    import google.colab\n",
    "    from google.colab import auth\n",
    "    auth.authenticate_user()\n",
    "    !gcloud config set project {PROJECT_ID}\n",
    "except Exception:\n",
    "    pass"
   ]
  },
  {
   "cell_type": "markdown",
   "id": "b0a83d89-4188-4b70-a892-16d384dd1b43",
   "metadata": {},
   "source": [
    "---\n",
    "## Installs\n",
    "\n",
    "The list `packages` contains tuples of package import names and install names.  If the import name is not found then the install name is used to install quitely for the current user."
   ]
  },
  {
   "cell_type": "code",
   "execution_count": 3,
   "id": "cf908f99-58a6-4c4b-931e-fe413ecdaa45",
   "metadata": {},
   "outputs": [],
   "source": [
    "# tuples of (import name, install name)\n",
    "packages = [\n",
    "    ('google.cloud.aiplatform', 'google-cloud-aiplatform')\n",
    "]\n",
    "\n",
    "import importlib\n",
    "install = False\n",
    "for package in packages:\n",
    "    if not importlib.util.find_spec(package[0]):\n",
    "        print(f'installing package {package[1]}')\n",
    "        install = True\n",
    "        !pip install {package[1]} -U -q --user\n",
    "    elif len(package) == 3:\n",
    "        if importlib.metadata.version(package[0]) < package[2]:\n",
    "            print(f'updating package {package[1]}')\n",
    "            install = True\n",
    "            !pip install {package[1]} -U -q --user"
   ]
  },
  {
   "cell_type": "markdown",
   "id": "83729efc-2809-4d62-9ed4-d0a83eb0451c",
   "metadata": {},
   "source": [
    "### Restart Kernel (If Installs Occured)\n",
    "\n",
    "After a kernel restart the code submission can start with the next cell after this one."
   ]
  },
  {
   "cell_type": "code",
   "execution_count": 4,
   "id": "cc874b0c-c47e-40fa-8042-214a4bee8939",
   "metadata": {},
   "outputs": [],
   "source": [
    "if install:\n",
    "    import IPython\n",
    "    app = IPython.Application.instance()\n",
    "    app.kernel.do_shutdown(True)"
   ]
  },
  {
   "cell_type": "markdown",
   "id": "c0855d86-5380-403d-ae48-941ce776c98b",
   "metadata": {},
   "source": [
    "---\n",
    "## Setup"
   ]
  },
  {
   "cell_type": "markdown",
   "id": "c9f4acaa-da79-44a1-961d-c8874930c223",
   "metadata": {},
   "source": [
    "inputs:"
   ]
  },
  {
   "cell_type": "code",
   "execution_count": 5,
   "id": "fed30be3-9541-49f7-b6a9-7e854cffc9e8",
   "metadata": {},
   "outputs": [
    {
     "data": {
      "text/plain": [
       "'statmike-mlops-349915'"
      ]
     },
     "execution_count": 5,
     "metadata": {},
     "output_type": "execute_result"
    }
   ],
   "source": [
    "project = !gcloud config get-value project\n",
    "PROJECT_ID = project[0]\n",
    "PROJECT_ID"
   ]
  },
  {
   "cell_type": "code",
   "execution_count": 6,
   "id": "6192e238-4e5a-47d1-87f0-c436dfdb4661",
   "metadata": {},
   "outputs": [],
   "source": [
    "REGION = 'us-central1'\n",
    "SERIES = 'tips'\n",
    "EXPERIMENT = 'async-api'"
   ]
  },
  {
   "cell_type": "markdown",
   "id": "7086341c-3baa-49e3-bac5-1143794f8bf2",
   "metadata": {},
   "source": [
    "packages:"
   ]
  },
  {
   "cell_type": "code",
   "execution_count": 46,
   "id": "b67a11b2-2728-4d51-b3df-2428504a7576",
   "metadata": {},
   "outputs": [],
   "source": [
    "import os\n",
    "os.environ['TF_CPP_MIN_LOG_LEVEL'] = '3'\n",
    "\n",
    "import vertexai.language_models\n",
    "import vertexai.preview.generative_models"
   ]
  },
  {
   "cell_type": "markdown",
   "id": "e509e363-d1ec-4c57-9b42-71364e6b4e01",
   "metadata": {},
   "source": [
    "clients:"
   ]
  },
  {
   "cell_type": "code",
   "execution_count": 8,
   "id": "17802a1f-8df3-46df-9d1f-40ada1a473d7",
   "metadata": {},
   "outputs": [],
   "source": [
    "vertexai.init(project = PROJECT_ID, location = REGION)"
   ]
  },
  {
   "cell_type": "code",
   "execution_count": null,
   "id": "4e271c62-63aa-464e-87e7-488749ba0552",
   "metadata": {},
   "outputs": [],
   "source": []
  },
  {
   "cell_type": "code",
   "execution_count": null,
   "id": "589d9fa8-464d-4f0c-b1e9-5ec6e69323ad",
   "metadata": {},
   "outputs": [],
   "source": []
  },
  {
   "cell_type": "code",
   "execution_count": null,
   "id": "790cbdc3-b629-4716-9c26-30bf093bb7bb",
   "metadata": {},
   "outputs": [],
   "source": []
  },
  {
   "cell_type": "code",
   "execution_count": null,
   "id": "21bb631d-701f-44c7-b00c-2a1b883f1669",
   "metadata": {},
   "outputs": [],
   "source": []
  },
  {
   "cell_type": "code",
   "execution_count": 39,
   "id": "4c7aad09-fdf0-4283-bf6c-47a0deaef032",
   "metadata": {
    "tags": []
   },
   "outputs": [],
   "source": [
    "palm_model = vertexai.language_models.TextGenerationModel.from_pretrained(\"text-bison-32k@002\")"
   ]
  },
  {
   "cell_type": "code",
   "execution_count": 40,
   "id": "4ea58846-4a92-41b9-9357-527fb3505b51",
   "metadata": {
    "tags": []
   },
   "outputs": [],
   "source": [
    "vocab_words = palm_model.predict(\n",
    "    prompt = \"I need 600+ unique vocabulary words to study for the GMAT.  Respond with only a comma separate list of word like: word, word, ...\",\n",
    "    max_output_tokens = 8000\n",
    ")"
   ]
  },
  {
   "cell_type": "code",
   "execution_count": 41,
   "id": "b1a4be7d-b79f-4aec-8596-c903ffeb545a",
   "metadata": {
    "tags": []
   },
   "outputs": [],
   "source": [
    "vocab_words = [word.strip() for word in vocab_words.text.split(',')]"
   ]
  },
  {
   "cell_type": "code",
   "execution_count": 42,
   "id": "a093f16a-ee8c-4055-876c-dbdd2cf7b8ba",
   "metadata": {
    "tags": []
   },
   "outputs": [
    {
     "data": {
      "text/plain": [
       "['abdicate',\n",
       " 'aberrant',\n",
       " 'abet',\n",
       " 'abeyance',\n",
       " 'abhor',\n",
       " 'abject',\n",
       " 'abjure',\n",
       " 'abrogate',\n",
       " 'abscond',\n",
       " 'abstemious',\n",
       " '... (657 more words)',\n",
       " 'wince',\n",
       " 'whimsical',\n",
       " 'wily',\n",
       " 'wince',\n",
       " 'wrangle',\n",
       " 'wrath',\n",
       " 'zealous',\n",
       " 'zenith',\n",
       " 'zephyr',\n",
       " 'zestful']"
      ]
     },
     "execution_count": 42,
     "metadata": {},
     "output_type": "execute_result"
    }
   ],
   "source": [
    "vocab_words[0:10] + [f'... ({len(vocab_words) - 20} more words)'] + vocab_words[-10:]"
   ]
  },
  {
   "cell_type": "code",
   "execution_count": 45,
   "id": "66ece5c4-0085-46f2-ab4a-486aada085d8",
   "metadata": {
    "tags": []
   },
   "outputs": [],
   "source": []
  },
  {
   "cell_type": "code",
   "execution_count": 47,
   "id": "0e3e393b-9fb8-4333-895f-cbd07a5a93f8",
   "metadata": {
    "tags": []
   },
   "outputs": [],
   "source": [
    "gemini_model = vertexai.preview.generative_models.GenerativeModel(\"gemini-pro\")"
   ]
  },
  {
   "cell_type": "code",
   "execution_count": 52,
   "id": "976096df-6773-4282-add2-d7d1cd5625e2",
   "metadata": {
    "tags": []
   },
   "outputs": [
    {
     "data": {
      "text/plain": [
       "\"Abdicate means to formally renounce one's throne, high office, or position of authority. It involves voluntarily giving up power or responsibility that one holds. Abdication often occurs when a monarch or other leader decides to step down from their position, usually due to old age, health reasons, or personal choice. The act of abdication is often accompanied by a formal ceremony or announcement, where the individual publicly declares their decision to relinquish their title or office.\""
      ]
     },
     "execution_count": 52,
     "metadata": {},
     "output_type": "execute_result"
    }
   ],
   "source": [
    "gemini_model.generate_content(['Define the word', vocab_words[0]]).text"
   ]
  },
  {
   "cell_type": "code",
   "execution_count": 56,
   "id": "ce8c8050-4495-4d88-ab17-c0f7fb3d57a4",
   "metadata": {
    "tags": []
   },
   "outputs": [
    {
     "data": {
      "text/plain": [
       "' Abdicate means to give up or resign from a position of power or responsibility, especially a throne or high office. It is often used in the context of a monarch or other head of state voluntarily relinquishing their position, but can also be used more broadly to refer to any situation where someone gives up a position of authority or responsibility.\\n\\nFor example, a king or queen might abdicate the throne in favor of their heir, or a CEO might abdicate their position in favor of a successor. In a more general sense, someone might abdicate their responsibilities as a parent or guardian, or a student might abdicate their responsibilities as a class president.\\n\\nThe word abdicate comes from the Latin word abdicare, which means \"to renounce\" or \"to give up.\" It has been used in English since the 14th century.'"
      ]
     },
     "execution_count": 56,
     "metadata": {},
     "output_type": "execute_result"
    }
   ],
   "source": [
    "palm_model.predict(prompt = f'Define the word {vocab_words[0]}', max_output_tokens = 500).text"
   ]
  },
  {
   "cell_type": "code",
   "execution_count": 58,
   "id": "819dfec7-ba5d-49d4-8b93-f2b5ec82852c",
   "metadata": {
    "tags": []
   },
   "outputs": [
    {
     "data": {
      "text/plain": [
       " Abdicate means to give up or resign from a position of power or responsibility, especially a throne or high office. It is often used in the context of a monarch or other head of state voluntarily relinquishing their position, but can also be used more broadly to refer to any situation where someone gives up a position of authority or responsibility.\n",
       "\n",
       "For example, a king or queen might abdicate the throne in favor of their heir, or a CEO might abdicate their position in favor of a successor. In a more general sense, someone might abdicate their responsibilities as a parent or guardian, or a student might abdicate their responsibilities as a class president.\n",
       "\n",
       "The word abdicate comes from the Latin word abdicare, which means \"to renounce\" or \"to give up.\" It has been used in English since the 14th century."
      ]
     },
     "execution_count": 58,
     "metadata": {},
     "output_type": "execute_result"
    }
   ],
   "source": [
    "await palm_model.predict_async(prompt = f'Define the word {vocab_words[0]}', max_output_tokens = 500)"
   ]
  },
  {
   "cell_type": "code",
   "execution_count": null,
   "id": "18b2fa71-7fc5-411e-b0b9-60b0494db5a0",
   "metadata": {},
   "outputs": [],
   "source": []
  }
 ],
 "metadata": {
  "environment": {
   "kernel": "conda-root-py",
   "name": "workbench-notebooks.m113",
   "type": "gcloud",
   "uri": "gcr.io/deeplearning-platform-release/workbench-notebooks:m113"
  },
  "kernelspec": {
   "display_name": "Python 3 (ipykernel) (Local)",
   "language": "python",
   "name": "conda-root-py"
  },
  "language_info": {
   "codemirror_mode": {
    "name": "ipython",
    "version": 3
   },
   "file_extension": ".py",
   "mimetype": "text/x-python",
   "name": "python",
   "nbconvert_exporter": "python",
   "pygments_lexer": "ipython3",
   "version": "3.10.13"
  }
 },
 "nbformat": 4,
 "nbformat_minor": 5
}
