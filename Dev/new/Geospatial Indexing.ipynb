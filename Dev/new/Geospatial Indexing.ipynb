{
 "cells": [
  {
   "cell_type": "markdown",
   "id": "2abe8520-d02c-495a-8a7b-db6d14ba1b84",
   "metadata": {},
   "source": [
    "# Geospatial Indexing"
   ]
  },
  {
   "cell_type": "code",
   "execution_count": null,
   "id": "f9202482-9958-499a-adac-38946bbdab73",
   "metadata": {},
   "outputs": [],
   "source": []
  }
 ],
 "metadata": {
  "environment": {
   "kernel": "conda-root-py",
   "name": "workbench-notebooks.m113",
   "type": "gcloud",
   "uri": "gcr.io/deeplearning-platform-release/workbench-notebooks:m113"
  },
  "kernelspec": {
   "display_name": "Python 3 (ipykernel) (Local)",
   "language": "python",
   "name": "conda-root-py"
  },
  "language_info": {
   "codemirror_mode": {
    "name": "ipython",
    "version": 3
   },
   "file_extension": ".py",
   "mimetype": "text/x-python",
   "name": "python",
   "nbconvert_exporter": "python",
   "pygments_lexer": "ipython3",
   "version": "3.10.13"
  }
 },
 "nbformat": 4,
 "nbformat_minor": 5
}
