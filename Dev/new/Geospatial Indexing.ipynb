{
 "cells": [
  {
   "cell_type": "markdown",
   "id": "2abe8520-d02c-495a-8a7b-db6d14ba1b84",
   "metadata": {},
   "source": [
    "# Geospatial Indexing"
   ]
  },
  {
   "cell_type": "markdown",
   "id": "c9061b5f-97c9-42f0-bf1d-8968be670a9b",
   "metadata": {},
   "source": [
    "---\n",
    "## Setup"
   ]
  },
  {
   "cell_type": "code",
   "execution_count": 1,
   "id": "e8ed6d79-83c7-448e-806e-d9595737a2c7",
   "metadata": {
    "tags": []
   },
   "outputs": [
    {
     "data": {
      "text/plain": [
       "'statmike-mlops-349915'"
      ]
     },
     "execution_count": 1,
     "metadata": {},
     "output_type": "execute_result"
    }
   ],
   "source": [
    "project = !gcloud config get-value project\n",
    "PROJECT_ID = project[0]\n",
    "PROJECT_ID"
   ]
  },
  {
   "cell_type": "code",
   "execution_count": 2,
   "id": "92b4c901-9a55-4c85-bf41-dbec97f9aa17",
   "metadata": {
    "tags": []
   },
   "outputs": [],
   "source": [
    "REGION = 'us-central1'\n",
    "EXPERIMENT = 'indexing'\n",
    "SERIES = 'applied-geospatial'"
   ]
  },
  {
   "cell_type": "code",
   "execution_count": 22,
   "id": "f9202482-9958-499a-adac-38946bbdab73",
   "metadata": {
    "tags": []
   },
   "outputs": [],
   "source": [
    "BQ_SOURCE = 'bigquery-public-data.geo_openstreetmap.planet_features'\n",
    "\n",
    "BQ_REGION = REGION[0:2]\n",
    "BQ_PROJECT = PROJECT_ID\n",
    "BQ_DATASET = SERIES.replace('-', '_')\n",
    "BQ_TABLE_PREFIX = EXPERIMENT"
   ]
  },
  {
   "cell_type": "code",
   "execution_count": null,
   "id": "9b435075-5643-4dbb-9d0b-aae809691051",
   "metadata": {
    "tags": []
   },
   "outputs": [],
   "source": [
    "import matplotlib.pyplot as plt\n",
    "\n",
    "from google.cloud import bigquery\n",
    "import bigframes.pandas as bpd"
   ]
  },
  {
   "cell_type": "code",
   "execution_count": 58,
   "id": "0d3b6394-c9c7-4bb1-8d5c-d6a9878d7a7b",
   "metadata": {
    "tags": []
   },
   "outputs": [],
   "source": [
    "bq = bigquery.Client(project = PROJECT_ID)\n",
    "bpd.options.bigquery.project = PROJECT_ID"
   ]
  },
  {
   "cell_type": "code",
   "execution_count": 59,
   "id": "ea47d3bd-2531-4c36-9de7-c93d9ef1a235",
   "metadata": {
    "tags": []
   },
   "outputs": [],
   "source": [
    "# create/link to dataset\n",
    "ds = bigquery.DatasetReference(BQ_PROJECT, BQ_DATASET)\n",
    "ds.location = BQ_REGION\n",
    "ds.labels = {'series': f'{SERIES}'}\n",
    "ds = bq.create_dataset(dataset = ds, exists_ok = True) "
   ]
  },
  {
   "cell_type": "markdown",
   "id": "8aec9940-e6cf-44e7-a073-af17b8f4e5a9",
   "metadata": {},
   "source": [
    "---\n",
    "## Review Source"
   ]
  },
  {
   "cell_type": "code",
   "execution_count": 27,
   "id": "b1d0425a-4e5f-431b-b4e6-b91b88258af7",
   "metadata": {
    "tags": []
   },
   "outputs": [
    {
     "data": {
      "text/html": [
       "<div>\n",
       "<style scoped>\n",
       "    .dataframe tbody tr th:only-of-type {\n",
       "        vertical-align: middle;\n",
       "    }\n",
       "\n",
       "    .dataframe tbody tr th {\n",
       "        vertical-align: top;\n",
       "    }\n",
       "\n",
       "    .dataframe thead th {\n",
       "        text-align: right;\n",
       "    }\n",
       "</style>\n",
       "<table border=\"1\" class=\"dataframe\">\n",
       "  <thead>\n",
       "    <tr style=\"text-align: right;\">\n",
       "      <th></th>\n",
       "      <th>table_catalog</th>\n",
       "      <th>table_schema</th>\n",
       "      <th>table_name</th>\n",
       "      <th>column_name</th>\n",
       "      <th>field_path</th>\n",
       "      <th>data_type</th>\n",
       "      <th>description</th>\n",
       "      <th>collation_name</th>\n",
       "      <th>rounding_mode</th>\n",
       "    </tr>\n",
       "  </thead>\n",
       "  <tbody>\n",
       "    <tr>\n",
       "      <th>0</th>\n",
       "      <td>bigquery-public-data</td>\n",
       "      <td>geo_openstreetmap</td>\n",
       "      <td>planet_features</td>\n",
       "      <td>feature_type</td>\n",
       "      <td>feature_type</td>\n",
       "      <td>STRING</td>\n",
       "      <td>None</td>\n",
       "      <td>NULL</td>\n",
       "      <td>None</td>\n",
       "    </tr>\n",
       "    <tr>\n",
       "      <th>1</th>\n",
       "      <td>bigquery-public-data</td>\n",
       "      <td>geo_openstreetmap</td>\n",
       "      <td>planet_features</td>\n",
       "      <td>osm_id</td>\n",
       "      <td>osm_id</td>\n",
       "      <td>INT64</td>\n",
       "      <td>None</td>\n",
       "      <td>NULL</td>\n",
       "      <td>None</td>\n",
       "    </tr>\n",
       "    <tr>\n",
       "      <th>2</th>\n",
       "      <td>bigquery-public-data</td>\n",
       "      <td>geo_openstreetmap</td>\n",
       "      <td>planet_features</td>\n",
       "      <td>osm_way_id</td>\n",
       "      <td>osm_way_id</td>\n",
       "      <td>INT64</td>\n",
       "      <td>None</td>\n",
       "      <td>NULL</td>\n",
       "      <td>None</td>\n",
       "    </tr>\n",
       "    <tr>\n",
       "      <th>3</th>\n",
       "      <td>bigquery-public-data</td>\n",
       "      <td>geo_openstreetmap</td>\n",
       "      <td>planet_features</td>\n",
       "      <td>osm_version</td>\n",
       "      <td>osm_version</td>\n",
       "      <td>INT64</td>\n",
       "      <td>None</td>\n",
       "      <td>NULL</td>\n",
       "      <td>None</td>\n",
       "    </tr>\n",
       "    <tr>\n",
       "      <th>4</th>\n",
       "      <td>bigquery-public-data</td>\n",
       "      <td>geo_openstreetmap</td>\n",
       "      <td>planet_features</td>\n",
       "      <td>osm_timestamp</td>\n",
       "      <td>osm_timestamp</td>\n",
       "      <td>TIMESTAMP</td>\n",
       "      <td>None</td>\n",
       "      <td>NULL</td>\n",
       "      <td>None</td>\n",
       "    </tr>\n",
       "    <tr>\n",
       "      <th>5</th>\n",
       "      <td>bigquery-public-data</td>\n",
       "      <td>geo_openstreetmap</td>\n",
       "      <td>planet_features</td>\n",
       "      <td>all_tags</td>\n",
       "      <td>all_tags</td>\n",
       "      <td>ARRAY&lt;STRUCT&lt;key STRING, value STRING&gt;&gt;</td>\n",
       "      <td>None</td>\n",
       "      <td>NULL</td>\n",
       "      <td>None</td>\n",
       "    </tr>\n",
       "    <tr>\n",
       "      <th>6</th>\n",
       "      <td>bigquery-public-data</td>\n",
       "      <td>geo_openstreetmap</td>\n",
       "      <td>planet_features</td>\n",
       "      <td>all_tags</td>\n",
       "      <td>all_tags.key</td>\n",
       "      <td>STRING</td>\n",
       "      <td>None</td>\n",
       "      <td>NULL</td>\n",
       "      <td>None</td>\n",
       "    </tr>\n",
       "    <tr>\n",
       "      <th>7</th>\n",
       "      <td>bigquery-public-data</td>\n",
       "      <td>geo_openstreetmap</td>\n",
       "      <td>planet_features</td>\n",
       "      <td>all_tags</td>\n",
       "      <td>all_tags.value</td>\n",
       "      <td>STRING</td>\n",
       "      <td>None</td>\n",
       "      <td>NULL</td>\n",
       "      <td>None</td>\n",
       "    </tr>\n",
       "    <tr>\n",
       "      <th>8</th>\n",
       "      <td>bigquery-public-data</td>\n",
       "      <td>geo_openstreetmap</td>\n",
       "      <td>planet_features</td>\n",
       "      <td>geometry</td>\n",
       "      <td>geometry</td>\n",
       "      <td>GEOGRAPHY</td>\n",
       "      <td>None</td>\n",
       "      <td>NULL</td>\n",
       "      <td>None</td>\n",
       "    </tr>\n",
       "  </tbody>\n",
       "</table>\n",
       "</div>"
      ],
      "text/plain": [
       "          table_catalog       table_schema       table_name    column_name  \\\n",
       "0  bigquery-public-data  geo_openstreetmap  planet_features   feature_type   \n",
       "1  bigquery-public-data  geo_openstreetmap  planet_features         osm_id   \n",
       "2  bigquery-public-data  geo_openstreetmap  planet_features     osm_way_id   \n",
       "3  bigquery-public-data  geo_openstreetmap  planet_features    osm_version   \n",
       "4  bigquery-public-data  geo_openstreetmap  planet_features  osm_timestamp   \n",
       "5  bigquery-public-data  geo_openstreetmap  planet_features       all_tags   \n",
       "6  bigquery-public-data  geo_openstreetmap  planet_features       all_tags   \n",
       "7  bigquery-public-data  geo_openstreetmap  planet_features       all_tags   \n",
       "8  bigquery-public-data  geo_openstreetmap  planet_features       geometry   \n",
       "\n",
       "       field_path                                data_type description  \\\n",
       "0    feature_type                                   STRING        None   \n",
       "1          osm_id                                    INT64        None   \n",
       "2      osm_way_id                                    INT64        None   \n",
       "3     osm_version                                    INT64        None   \n",
       "4   osm_timestamp                                TIMESTAMP        None   \n",
       "5        all_tags  ARRAY<STRUCT<key STRING, value STRING>>        None   \n",
       "6    all_tags.key                                   STRING        None   \n",
       "7  all_tags.value                                   STRING        None   \n",
       "8        geometry                                GEOGRAPHY        None   \n",
       "\n",
       "  collation_name rounding_mode  \n",
       "0           NULL          None  \n",
       "1           NULL          None  \n",
       "2           NULL          None  \n",
       "3           NULL          None  \n",
       "4           NULL          None  \n",
       "5           NULL          None  \n",
       "6           NULL          None  \n",
       "7           NULL          None  \n",
       "8           NULL          None  "
      ]
     },
     "execution_count": 27,
     "metadata": {},
     "output_type": "execute_result"
    }
   ],
   "source": [
    "bq.query(query = f'''\n",
    "SELECT *\n",
    "FROM {BQ_SOURCE.split('.')[0]}.{BQ_SOURCE.split('.')[1]}.INFORMATION_SCHEMA.COLUMN_FIELD_PATHS\n",
    "WHERE TABLE_NAME = '{BQ_SOURCE.split('.')[2]}'\n",
    "''').to_dataframe()"
   ]
  },
  {
   "cell_type": "code",
   "execution_count": 28,
   "id": "d9ff64d5-38e5-4fa7-962f-5d1bac2e2c9f",
   "metadata": {
    "tags": []
   },
   "outputs": [
    {
     "data": {
      "text/html": [
       "<div>\n",
       "<style scoped>\n",
       "    .dataframe tbody tr th:only-of-type {\n",
       "        vertical-align: middle;\n",
       "    }\n",
       "\n",
       "    .dataframe tbody tr th {\n",
       "        vertical-align: top;\n",
       "    }\n",
       "\n",
       "    .dataframe thead th {\n",
       "        text-align: right;\n",
       "    }\n",
       "</style>\n",
       "<table border=\"1\" class=\"dataframe\">\n",
       "  <thead>\n",
       "    <tr style=\"text-align: right;\">\n",
       "      <th></th>\n",
       "      <th>feature_type</th>\n",
       "      <th>osm_id</th>\n",
       "      <th>osm_way_id</th>\n",
       "      <th>osm_version</th>\n",
       "      <th>osm_timestamp</th>\n",
       "      <th>all_tags</th>\n",
       "      <th>geometry</th>\n",
       "    </tr>\n",
       "  </thead>\n",
       "  <tbody>\n",
       "    <tr>\n",
       "      <th>0</th>\n",
       "      <td>other_relations</td>\n",
       "      <td>8767442</td>\n",
       "      <td>&lt;NA&gt;</td>\n",
       "      <td>1</td>\n",
       "      <td>2018-10-02 23:36:38+00:00</td>\n",
       "      <td>[]</td>\n",
       "      <td>POLYGON((-123.2052362 39.1257422, -123.2052314...</td>\n",
       "    </tr>\n",
       "    <tr>\n",
       "      <th>1</th>\n",
       "      <td>multipolygons</td>\n",
       "      <td>&lt;NA&gt;</td>\n",
       "      <td>710599311</td>\n",
       "      <td>1</td>\n",
       "      <td>2019-08-04 06:56:34+00:00</td>\n",
       "      <td>[{'key': 'level', 'value': '0'}]</td>\n",
       "      <td>POLYGON((-123.2127626 39.1334776, -123.2127651...</td>\n",
       "    </tr>\n",
       "    <tr>\n",
       "      <th>2</th>\n",
       "      <td>points</td>\n",
       "      <td>358763181</td>\n",
       "      <td>&lt;NA&gt;</td>\n",
       "      <td>1</td>\n",
       "      <td>2009-03-11 05:27:04+00:00</td>\n",
       "      <td>[{'key': 'ele', 'value': '0'}, {'key': 'gnis:c...</td>\n",
       "      <td>POINT(-123.7272381 39.1304589)</td>\n",
       "    </tr>\n",
       "    <tr>\n",
       "      <th>3</th>\n",
       "      <td>points</td>\n",
       "      <td>358765882</td>\n",
       "      <td>&lt;NA&gt;</td>\n",
       "      <td>1</td>\n",
       "      <td>2009-03-11 05:30:36+00:00</td>\n",
       "      <td>[{'key': 'ele', 'value': '0'}, {'key': 'gnis:c...</td>\n",
       "      <td>POINT(-123.5936233 38.7999108)</td>\n",
       "    </tr>\n",
       "    <tr>\n",
       "      <th>4</th>\n",
       "      <td>multipolygons</td>\n",
       "      <td>6826538</td>\n",
       "      <td>&lt;NA&gt;</td>\n",
       "      <td>1</td>\n",
       "      <td>2016-12-27 21:27:25+00:00</td>\n",
       "      <td>[{'key': 'ele', 'value': '0'}, {'key': 'gnis:c...</td>\n",
       "      <td>POLYGON((-123.0778671 38.3740722, -123.0777454...</td>\n",
       "    </tr>\n",
       "  </tbody>\n",
       "</table>\n",
       "</div>"
      ],
      "text/plain": [
       "      feature_type     osm_id  osm_way_id  osm_version  \\\n",
       "0  other_relations    8767442        <NA>            1   \n",
       "1    multipolygons       <NA>   710599311            1   \n",
       "2           points  358763181        <NA>            1   \n",
       "3           points  358765882        <NA>            1   \n",
       "4    multipolygons    6826538        <NA>            1   \n",
       "\n",
       "              osm_timestamp  \\\n",
       "0 2018-10-02 23:36:38+00:00   \n",
       "1 2019-08-04 06:56:34+00:00   \n",
       "2 2009-03-11 05:27:04+00:00   \n",
       "3 2009-03-11 05:30:36+00:00   \n",
       "4 2016-12-27 21:27:25+00:00   \n",
       "\n",
       "                                            all_tags  \\\n",
       "0                                                 []   \n",
       "1                   [{'key': 'level', 'value': '0'}]   \n",
       "2  [{'key': 'ele', 'value': '0'}, {'key': 'gnis:c...   \n",
       "3  [{'key': 'ele', 'value': '0'}, {'key': 'gnis:c...   \n",
       "4  [{'key': 'ele', 'value': '0'}, {'key': 'gnis:c...   \n",
       "\n",
       "                                            geometry  \n",
       "0  POLYGON((-123.2052362 39.1257422, -123.2052314...  \n",
       "1  POLYGON((-123.2127626 39.1334776, -123.2127651...  \n",
       "2                     POINT(-123.7272381 39.1304589)  \n",
       "3                     POINT(-123.5936233 38.7999108)  \n",
       "4  POLYGON((-123.0778671 38.3740722, -123.0777454...  "
      ]
     },
     "execution_count": 28,
     "metadata": {},
     "output_type": "execute_result"
    }
   ],
   "source": [
    "bq.query(query = f'SELECT * FROM `{BQ_SOURCE}` LIMIT 5').to_dataframe()"
   ]
  },
  {
   "cell_type": "markdown",
   "id": "1707483b-b891-41df-9fa7-be0f6986d20c",
   "metadata": {},
   "source": [
    "---\n",
    "## Setup For Test"
   ]
  },
  {
   "cell_type": "markdown",
   "id": "bc22f33e-08bf-41b8-8bc9-bdfa0504feaa",
   "metadata": {},
   "source": [
    "### Source Table"
   ]
  },
  {
   "cell_type": "code",
   "execution_count": 49,
   "id": "b9f8d94c-8cac-4f90-95cc-8a87bd7263ce",
   "metadata": {
    "tags": []
   },
   "outputs": [
    {
     "data": {
      "text/plain": [
       "<google.cloud.bigquery.table._EmptyRowIterator at 0x7fa6fa8a6b30>"
      ]
     },
     "execution_count": 49,
     "metadata": {},
     "output_type": "execute_result"
    }
   ],
   "source": [
    "query = f'''\n",
    "CREATE OR REPLACE TABLE `{BQ_PROJECT}.{BQ_DATASET}.{BQ_TABLE_PREFIX}_source` AS\n",
    "    SELECT feature_type, osm_id, ST_CENTROID(geometry) as loc\n",
    "    FROM `{BQ_SOURCE}`\n",
    "    WHERE osm_id IS NOT NULL\n",
    "'''\n",
    "bq_job = bq.query(query = query)\n",
    "bq_job.result()"
   ]
  },
  {
   "cell_type": "code",
   "execution_count": 50,
   "id": "ab0255ab-7049-47c8-928b-cdd8e609b3a6",
   "metadata": {
    "tags": []
   },
   "outputs": [
    {
     "data": {
      "text/plain": [
       "23.002"
      ]
     },
     "execution_count": 50,
     "metadata": {},
     "output_type": "execute_result"
    }
   ],
   "source": [
    "(bq_job.ended - bq_job.started).total_seconds()"
   ]
  },
  {
   "cell_type": "code",
   "execution_count": 51,
   "id": "46818768-6ba5-4845-a834-97f6b47fde9f",
   "metadata": {
    "tags": []
   },
   "outputs": [
    {
     "data": {
      "text/plain": [
       "16978.327"
      ]
     },
     "execution_count": 51,
     "metadata": {},
     "output_type": "execute_result"
    }
   ],
   "source": [
    "bq_job.slot_millis/1000"
   ]
  },
  {
   "cell_type": "markdown",
   "id": "be9102c3-0727-4915-9a99-f4f0e6178491",
   "metadata": {},
   "source": [
    "### Query Table"
   ]
  },
  {
   "cell_type": "code",
   "execution_count": 52,
   "id": "243b8ef5-afc5-49f1-a004-2ea6fe3ebb5d",
   "metadata": {
    "tags": []
   },
   "outputs": [
    {
     "data": {
      "text/plain": [
       "<google.cloud.bigquery.table._EmptyRowIterator at 0x7fa6f2f90670>"
      ]
     },
     "execution_count": 52,
     "metadata": {},
     "output_type": "execute_result"
    }
   ],
   "source": [
    "query = f'''\n",
    "CREATE OR REPLACE TABLE `{BQ_PROJECT}.{BQ_DATASET}.{BQ_TABLE_PREFIX}_query` AS\n",
    "    SELECT i1 * 1000 + i2 AS id, ST_GEOGPOINT(RAND() * 360, RAND() * 180 - 90) as loc\n",
    "    FROM\n",
    "        UNNEST(GENERATE_ARRAY(1, 1000)) i1,\n",
    "        UNNEST(GENERATE_ARRAY(1, 1000)) i2\n",
    "'''\n",
    "bq_job = bq.query(query = query)\n",
    "bq_job.result()"
   ]
  },
  {
   "cell_type": "code",
   "execution_count": 61,
   "id": "26510fa4-810d-4623-992f-5fc3d4048086",
   "metadata": {
    "tags": []
   },
   "outputs": [
    {
     "data": {
      "text/html": [
       "Query job e3c93cb6-ca27-4b51-b908-ca0ac5d02cc3 is DONE. 0 Bytes processed. <a target=\"_blank\" href=\"https://console.cloud.google.com/bigquery?project=statmike-mlops-349915&j=bq:US:e3c93cb6-ca27-4b51-b908-ca0ac5d02cc3&page=queryresults\">Open Job</a>"
      ],
      "text/plain": [
       "<IPython.core.display.HTML object>"
      ]
     },
     "metadata": {},
     "output_type": "display_data"
    },
    {
     "data": {
      "text/plain": [
       "(1000000, 2)"
      ]
     },
     "execution_count": 61,
     "metadata": {},
     "output_type": "execute_result"
    }
   ],
   "source": [
    "bpd.read_gbq(f'{BQ_PROJECT}.{BQ_DATASET}.{BQ_TABLE_PREFIX}_query').shape"
   ]
  },
  {
   "cell_type": "code",
   "execution_count": 63,
   "id": "a4cb2faa-9bc7-4c2c-91d4-8550d2e5e9f4",
   "metadata": {
    "tags": []
   },
   "outputs": [
    {
     "data": {
      "text/html": [
       "Query job 7c5a9881-9be4-4d38-9eba-5b9e105dcb64 is DONE. 48.0 MB processed. <a target=\"_blank\" href=\"https://console.cloud.google.com/bigquery?project=statmike-mlops-349915&j=bq:US:7c5a9881-9be4-4d38-9eba-5b9e105dcb64&page=queryresults\">Open Job</a>"
      ],
      "text/plain": [
       "<IPython.core.display.HTML object>"
      ]
     },
     "metadata": {},
     "output_type": "display_data"
    },
    {
     "data": {
      "text/html": [
       "Query job 09176353-e82b-4100-817f-ca1dc3afa5e2 is DONE. 48.0 MB processed. <a target=\"_blank\" href=\"https://console.cloud.google.com/bigquery?project=statmike-mlops-349915&j=bq:US:09176353-e82b-4100-817f-ca1dc3afa5e2&page=queryresults\">Open Job</a>"
      ],
      "text/plain": [
       "<IPython.core.display.HTML object>"
      ]
     },
     "metadata": {},
     "output_type": "display_data"
    },
    {
     "data": {
      "text/html": [
       "<div>\n",
       "<style scoped>\n",
       "    .dataframe tbody tr th:only-of-type {\n",
       "        vertical-align: middle;\n",
       "    }\n",
       "\n",
       "    .dataframe tbody tr th {\n",
       "        vertical-align: top;\n",
       "    }\n",
       "\n",
       "    .dataframe thead th {\n",
       "        text-align: right;\n",
       "    }\n",
       "</style>\n",
       "<table border=\"1\" class=\"dataframe\">\n",
       "  <thead>\n",
       "    <tr style=\"text-align: right;\">\n",
       "      <th></th>\n",
       "      <th>id</th>\n",
       "      <th>loc</th>\n",
       "    </tr>\n",
       "  </thead>\n",
       "  <tbody>\n",
       "    <tr>\n",
       "      <th>0</th>\n",
       "      <td>784890</td>\n",
       "      <td>POINT (-21.24986 -49.21261)</td>\n",
       "    </tr>\n",
       "    <tr>\n",
       "      <th>1</th>\n",
       "      <td>980544</td>\n",
       "      <td>POINT (15.45033 47.76762)</td>\n",
       "    </tr>\n",
       "    <tr>\n",
       "      <th>2</th>\n",
       "      <td>685986</td>\n",
       "      <td>POINT (148.19335 25.52334)</td>\n",
       "    </tr>\n",
       "    <tr>\n",
       "      <th>3</th>\n",
       "      <td>132932</td>\n",
       "      <td>POINT (51.31743 34.01405)</td>\n",
       "    </tr>\n",
       "    <tr>\n",
       "      <th>4</th>\n",
       "      <td>336944</td>\n",
       "      <td>POINT (134.97116 0.30590)</td>\n",
       "    </tr>\n",
       "  </tbody>\n",
       "</table>\n",
       "<p>5 rows × 2 columns</p>\n",
       "</div>[5 rows x 2 columns in total]"
      ],
      "text/plain": [
       "       id                          loc\n",
       "0  784890  POINT (-21.24986 -49.21261)\n",
       "1  980544    POINT (15.45033 47.76762)\n",
       "2  685986   POINT (148.19335 25.52334)\n",
       "3  132932    POINT (51.31743 34.01405)\n",
       "4  336944    POINT (134.97116 0.30590)\n",
       "\n",
       "[5 rows x 2 columns]"
      ]
     },
     "execution_count": 63,
     "metadata": {},
     "output_type": "execute_result"
    }
   ],
   "source": [
    "bpd.read_gbq(f'{BQ_PROJECT}.{BQ_DATASET}.{BQ_TABLE_PREFIX}_query').head()"
   ]
  },
  {
   "cell_type": "markdown",
   "id": "cd624135-99d2-4641-9de5-49b15542b80e",
   "metadata": {},
   "source": [
    "---\n",
    "## Test: ST_DISTANCE()"
   ]
  },
  {
   "cell_type": "code",
   "execution_count": 64,
   "id": "1af850c0-5bfb-4ee9-ac02-f91e8328207b",
   "metadata": {
    "tags": []
   },
   "outputs": [],
   "source": [
    "distances = [.1, 1, 10, 20, 40, 60, 80, 100, 120, 140]"
   ]
  },
  {
   "cell_type": "code",
   "execution_count": null,
   "id": "77163f67-ca17-4b68-802a-ead80a806c3b",
   "metadata": {
    "tags": []
   },
   "outputs": [
    {
     "data": {
      "text/html": [
       "Query job 58bf8dad-65c2-4511-807e-eeab978e0202 is DONE. 0 Bytes processed. <a target=\"_blank\" href=\"https://console.cloud.google.com/bigquery?project=statmike-mlops-349915&j=bq:US:58bf8dad-65c2-4511-807e-eeab978e0202&page=queryresults\">Open Job</a>"
      ],
      "text/plain": [
       "<IPython.core.display.HTML object>"
      ]
     },
     "metadata": {},
     "output_type": "display_data"
    },
    {
     "data": {
      "text/html": [
       "Query job f2bbde6c-06c1-4133-a28c-1031bc42c135 is DONE. 3.1 MB processed. <a target=\"_blank\" href=\"https://console.cloud.google.com/bigquery?project=statmike-mlops-349915&j=bq:US:f2bbde6c-06c1-4133-a28c-1031bc42c135&page=queryresults\">Open Job</a>"
      ],
      "text/plain": [
       "<IPython.core.display.HTML object>"
      ]
     },
     "metadata": {},
     "output_type": "display_data"
    },
    {
     "data": {
      "text/html": [
       "Query job 4f3bed5f-b1ad-4e25-a5b5-3bbcaf25324e is DONE. 13.5 MB processed. <a target=\"_blank\" href=\"https://console.cloud.google.com/bigquery?project=statmike-mlops-349915&j=bq:US:4f3bed5f-b1ad-4e25-a5b5-3bbcaf25324e&page=queryresults\">Open Job</a>"
      ],
      "text/plain": [
       "<IPython.core.display.HTML object>"
      ]
     },
     "metadata": {},
     "output_type": "display_data"
    },
    {
     "data": {
      "text/html": [
       "Query job 10e80378-b481-4cac-83d0-a6b61fac76a2 is DONE. 18.2 MB processed. <a target=\"_blank\" href=\"https://console.cloud.google.com/bigquery?project=statmike-mlops-349915&j=bq:US:10e80378-b481-4cac-83d0-a6b61fac76a2&page=queryresults\">Open Job</a>"
      ],
      "text/plain": [
       "<IPython.core.display.HTML object>"
      ]
     },
     "metadata": {},
     "output_type": "display_data"
    },
    {
     "data": {
      "text/html": [
       "Query job 2006a816-5dd4-4ca3-8c45-387fbc2f4277 is DONE. 23.1 MB processed. <a target=\"_blank\" href=\"https://console.cloud.google.com/bigquery?project=statmike-mlops-349915&j=bq:US:2006a816-5dd4-4ca3-8c45-387fbc2f4277&page=queryresults\">Open Job</a>"
      ],
      "text/plain": [
       "<IPython.core.display.HTML object>"
      ]
     },
     "metadata": {},
     "output_type": "display_data"
    },
    {
     "data": {
      "text/html": [
       "Query job d771ffbd-ae1d-4cc5-adf0-385ce873d33e is DONE. 26.0 MB processed. <a target=\"_blank\" href=\"https://console.cloud.google.com/bigquery?project=statmike-mlops-349915&j=bq:US:d771ffbd-ae1d-4cc5-adf0-385ce873d33e&page=queryresults\">Open Job</a>"
      ],
      "text/plain": [
       "<IPython.core.display.HTML object>"
      ]
     },
     "metadata": {},
     "output_type": "display_data"
    },
    {
     "data": {
      "text/html": [
       "Query job aab98cc6-ab0e-4ebb-8113-1dd88d31acb3 is DONE. 28.4 MB processed. <a target=\"_blank\" href=\"https://console.cloud.google.com/bigquery?project=statmike-mlops-349915&j=bq:US:aab98cc6-ab0e-4ebb-8113-1dd88d31acb3&page=queryresults\">Open Job</a>"
      ],
      "text/plain": [
       "<IPython.core.display.HTML object>"
      ]
     },
     "metadata": {},
     "output_type": "display_data"
    },
    {
     "data": {
      "text/html": [
       "Query job b5d33c98-cfe1-4b7e-b44d-2557dee76827 is DONE. 30.5 MB processed. <a target=\"_blank\" href=\"https://console.cloud.google.com/bigquery?project=statmike-mlops-349915&j=bq:US:b5d33c98-cfe1-4b7e-b44d-2557dee76827&page=queryresults\">Open Job</a>"
      ],
      "text/plain": [
       "<IPython.core.display.HTML object>"
      ]
     },
     "metadata": {},
     "output_type": "display_data"
    },
    {
     "data": {
      "text/html": [
       "Query job 769ff314-8c1f-4fd4-84f7-1adfa143f5bb is DONE. 32.5 MB processed. <a target=\"_blank\" href=\"https://console.cloud.google.com/bigquery?project=statmike-mlops-349915&j=bq:US:769ff314-8c1f-4fd4-84f7-1adfa143f5bb&page=queryresults\">Open Job</a>"
      ],
      "text/plain": [
       "<IPython.core.display.HTML object>"
      ]
     },
     "metadata": {},
     "output_type": "display_data"
    }
   ],
   "source": [
    "run_seconds = []\n",
    "slot_seconds = []\n",
    "total_neighbors = []\n",
    "\n",
    "for distance in distances:\n",
    "    query = f'''\n",
    "        SELECT id, ARRAY_AGG(osm_id ORDER BY ST_DISTANCE(q.loc, s.loc) LIMIT 10) AS neighbors\n",
    "        FROM `{BQ_PROJECT}.{BQ_DATASET}.{BQ_TABLE_PREFIX}_query` q\n",
    "        JOIN `{BQ_PROJECT}.{BQ_DATASET}.{BQ_TABLE_PREFIX}_source` s\n",
    "        ON ST_DWITHIN(q.loc, s.loc, 1000 * {distance})\n",
    "        GROUP BY id\n",
    "    '''\n",
    "    bq_job = bq.query(query = query, job_config = bigquery.QueryJobConfig(use_query_cache = False))\n",
    "    bq_job.result()\n",
    "    run_seconds.append((bq_job.ended - bq_job.started).total_seconds())\n",
    "    slot_seconds.append(bq_job.slot_millis/1000)\n",
    "    temp_table = '.'.join(bq_job.destination.path.split('/')[2::2])\n",
    "    temp = bpd.read_gbq(temp_table)\n",
    "    temp['n_neighbors'] = temp.neighbors.str.len()\n",
    "    total_neighbors.append(temp['n_neighbors'].sum())"
   ]
  },
  {
   "cell_type": "code",
   "execution_count": 108,
   "id": "7e3a1b8b-05d2-4bcc-b795-7b68a5cd0f07",
   "metadata": {
    "tags": []
   },
   "outputs": [
    {
     "data": {
      "text/plain": [
       "[9.209,\n",
       " 11.92,\n",
       " 22.33,\n",
       " 39.728,\n",
       " 181.53,\n",
       " 626.919,\n",
       " 691.885,\n",
       " 2420.253,\n",
       " 2757.184,\n",
       " 5692.59]"
      ]
     },
     "execution_count": 108,
     "metadata": {},
     "output_type": "execute_result"
    }
   ],
   "source": [
    "run_seconds"
   ]
  },
  {
   "cell_type": "code",
   "execution_count": 109,
   "id": "65948549-a616-4494-8755-f973efa7dc4c",
   "metadata": {
    "tags": []
   },
   "outputs": [
    {
     "data": {
      "text/plain": [
       "[7862.412,\n",
       " 8221.25,\n",
       " 17288.616,\n",
       " 43164.958,\n",
       " 179803.204,\n",
       " 672906.964,\n",
       " 660971.784,\n",
       " 2529836.997,\n",
       " 2742079.948,\n",
       " 2714392.396]"
      ]
     },
     "execution_count": 109,
     "metadata": {},
     "output_type": "execute_result"
    }
   ],
   "source": [
    "slot_seconds"
   ]
  },
  {
   "cell_type": "code",
   "execution_count": 110,
   "id": "59ac59e1-3074-493c-a422-745536174610",
   "metadata": {
    "tags": []
   },
   "outputs": [
    {
     "data": {
      "text/plain": [
       "[16971,\n",
       " 389401,\n",
       " 1691734,\n",
       " 2269899,\n",
       " 2884107,\n",
       " 3253185,\n",
       " 3546474,\n",
       " 3813336,\n",
       " 4066409,\n",
       " 4306270]"
      ]
     },
     "execution_count": 110,
     "metadata": {},
     "output_type": "execute_result"
    }
   ],
   "source": [
    "total_neighbors"
   ]
  },
  {
   "cell_type": "code",
   "execution_count": 158,
   "id": "fb7258e1-b43a-48d3-acef-dfbccc97f78c",
   "metadata": {
    "tags": []
   },
   "outputs": [
    {
     "data": {
      "image/png": "[encoded data removed]",
      "text/plain": [
       "<Figure size 640x480 with 3 Axes>"
      ]
     },
     "metadata": {},
     "output_type": "display_data"
    }
   ],
   "source": [
    "fig, ax1 = plt.subplots()\n",
    "\n",
    "ax1.set_xlabel('Distance (km)')\n",
    "ax1.set_ylabel('Run Time (minutes)', color = 'red')\n",
    "ax1.tick_params(axis = 'y', labelcolor = 'red')\n",
    "ax1.plot(distances, [r/60 for r in run_seconds], label = 'Run Time (minutes)', color = 'red')\n",
    "ax1.set_ylim(0, 6000/60)\n",
    "\n",
    "ax2 = ax1.twinx()\n",
    "ax2.set_ylabel('Slot Time (hours)', color = 'blue')\n",
    "ax2.tick_params(axis = 'y', labelcolor = 'blue')\n",
    "ax2.plot(distances, [(s/60)/60 for s in slot_seconds], label = 'Slot Time (hours)', color = 'blue')\n",
    "ax2.set_ylim(0, (3000000/60)/60)\n",
    "\n",
    "ax3 = ax1.twinx()\n",
    "ax3.set_ylabel('Total Neighbors Found (10M target)', color = 'green')\n",
    "ax3.tick_params(axis = 'y', labelcolor = 'green')\n",
    "ax3.plot(distances, total_neighbors, label = 'Total Neighbors Found', color = 'green')\n",
    "ax3.spines['right'].set_position(('outward', 60))\n",
    "ax3.set_ylim(0, 5000000)\n",
    "\n",
    "fig.tight_layout()\n",
    "#fig.legend(loc = 'upper left')\n",
    "ax1.set_title('Scale Test Using ST_DWITHIN and ST_DISTANCE\\n1M Query Points\\nLooking for 10 nearest neighbors\\nAgainst 441,045,665 Points')\n",
    "#ax2.legend(loc = 'best')\n",
    "#ax3.legend(loc = 'best')\n",
    "plt.show()"
   ]
  },
  {
   "cell_type": "markdown",
   "id": "06c18905-c858-4e6f-8135-f3588724dfda",
   "metadata": {},
   "source": [
    "---\n",
    "## Re-Projection\n",
    "\n",
    "In the next section an alternative approach to finding neighboring points is used.  It uses indexing of arrays.  The numerical distances represented by the array need to be projected to a cartesian coordinate system.  The [Earth-fixed coordinate system (ECEF)](https://en.wikipedia.org/wiki/Earth-centered,_Earth-fixed_coordinate_system) is used here.  This is a three coordinate system representing the measurement from the center of the Earth.\n",
    "\n",
    "In BigQuery, [working with geospatial data](https://cloud.google.com/bigquery/docs/geospatial-data) uses the geography data type which describes a point set on the Earth's surface on the [WGS84](https://earth-info.nga.mil/GandG/update/index.php?action=home#tab_wgs84-data) reference sphereoid.  The longitude can be extracted from a point with the [ST_X()](https://cloud.google.com/bigquery/docs/reference/standard-sql/geography_functions#st_x) function, and latitude with the [ST_Y()](https://cloud.google.com/bigquery/docs/reference/standard-sql/geography_functions#st_y) function.\n",
    "\n",
    "\n",
    "The Math for converting WGS84 (Longitude, Latitude) to ECEF (X,Y,Z):\n",
    "- $\\phi$ = latitude converted to radians = degrees * $\\pi/180$\n",
    "- $\\theta$ = longitude converetd to radians = degrees * $\\pi/180$\n",
    "- (X, Y, Z) = ($\\cos(\\theta) * \\cos(\\phi)$, $\\sin(\\theta) * \\cos(\\phi)$, $\\sin(\\phi)$)\n",
    "\n",
    "The math will be deployed with a [user-defined function](https://cloud.google.com/bigquery/docs/user-defined-functions) written in javascript:\n",
    "\n",
    "```\n",
    "CREATE TEMP FUNCTION ECEF(long FLOAT64, lat FLOAT64)\n",
    "RETURNS ARRAY<FLOAT64>\n",
    "LANGUAGE js\n",
    "AS r\"\"\"\n",
    "    var pi = Math.PI;\n",
    "    phi = lat * (pi / 180)\n",
    "    theta = long * (pi / 180)\n",
    "    x = Math.cos(theta) * Math.cos(phi)\n",
    "    y = Math.sin(theta) * Math.cos(phi)\n",
    "    z = Math.sin(phi)\n",
    "    return [x, y, z]\n",
    "\"\"\"\n",
    "```"
   ]
  },
  {
   "cell_type": "code",
   "execution_count": 149,
   "id": "53cab7c2-accd-4ee2-8173-f3320a1ee94d",
   "metadata": {
    "tags": []
   },
   "outputs": [],
   "source": [
    "query = f'''\n",
    "CREATE TEMP FUNCTION ECEF(long FLOAT64, lat FLOAT64)\n",
    "RETURNS ARRAY<FLOAT64>\n",
    "LANGUAGE js\n",
    "AS r\"\"\"\n",
    "    var pi = Math.PI;\n",
    "    phi = lat * (pi / 180)\n",
    "    theta = long * (pi / 180)\n",
    "    x = Math.cos(theta) * Math.cos(phi)\n",
    "    y = Math.sin(theta) * Math.cos(phi)\n",
    "    z = Math.sin(phi)\n",
    "    return [x, y, z]\n",
    "\"\"\"\n",
    ";\n",
    "\n",
    "ALTER TABLE `{BQ_PROJECT}.{BQ_DATASET}.{BQ_TABLE_PREFIX}_source`\n",
    "ADD COLUMN IF NOT EXISTS loc_ecef ARRAY<FLOAT64>;\n",
    "\n",
    "UPDATE `{BQ_PROJECT}.{BQ_DATASET}.{BQ_TABLE_PREFIX}_source`\n",
    "SET loc_ecef = ECEF(ST_X(loc), ST_Y(loc))\n",
    "WHERE TRUE;\n",
    "\n",
    "ALTER TABLE `{BQ_PROJECT}.{BQ_DATASET}.{BQ_TABLE_PREFIX}_query`\n",
    "ADD COLUMN IF NOT EXISTS loc_ecef ARRAY<FLOAT64>;\n",
    "\n",
    "UPDATE `{BQ_PROJECT}.{BQ_DATASET}.{BQ_TABLE_PREFIX}_query`\n",
    "SET loc_ecef = ECEF(ST_X(loc), ST_Y(loc))\n",
    "WHERE TRUE;\n",
    "'''"
   ]
  },
  {
   "cell_type": "code",
   "execution_count": 150,
   "id": "593013b2-ab6e-4787-ba77-52907a61968b",
   "metadata": {
    "tags": []
   },
   "outputs": [
    {
     "data": {
      "text/plain": [
       "<google.cloud.bigquery.table._EmptyRowIterator at 0x7fa6719cb220>"
      ]
     },
     "execution_count": 150,
     "metadata": {},
     "output_type": "execute_result"
    }
   ],
   "source": [
    "bq_job = bq.query(query = query)\n",
    "bq_job.result()"
   ]
  },
  {
   "cell_type": "code",
   "execution_count": 151,
   "id": "71808921-ea05-4c24-abef-72482a425f13",
   "metadata": {
    "tags": []
   },
   "outputs": [
    {
     "data": {
      "text/plain": [
       "123.986"
      ]
     },
     "execution_count": 151,
     "metadata": {},
     "output_type": "execute_result"
    }
   ],
   "source": [
    "(bq_job.ended - bq_job.started).total_seconds()"
   ]
  },
  {
   "cell_type": "code",
   "execution_count": 152,
   "id": "a38f3379-b6b7-4a7d-8dc4-f009b7a2df87",
   "metadata": {
    "tags": []
   },
   "outputs": [
    {
     "data": {
      "text/plain": [
       "42385.439"
      ]
     },
     "execution_count": 152,
     "metadata": {},
     "output_type": "execute_result"
    }
   ],
   "source": [
    "bq_job.slot_millis/1000"
   ]
  },
  {
   "cell_type": "code",
   "execution_count": 153,
   "id": "5008c3d0-a72f-46ea-b149-f0b9f32d4c60",
   "metadata": {
    "tags": []
   },
   "outputs": [
    {
     "data": {
      "text/html": [
       "Query job 777311c1-ddfa-4b6b-8aa4-740ad27c4284 is DONE. 35.1 GB processed. <a target=\"_blank\" href=\"https://console.cloud.google.com/bigquery?project=statmike-mlops-349915&j=bq:US:777311c1-ddfa-4b6b-8aa4-740ad27c4284&page=queryresults\">Open Job</a>"
      ],
      "text/plain": [
       "<IPython.core.display.HTML object>"
      ]
     },
     "metadata": {},
     "output_type": "display_data"
    },
    {
     "data": {
      "text/html": [
       "Query job 810c82e1-d074-42af-8399-bb4e7cbe498c is DONE. 35.1 GB processed. <a target=\"_blank\" href=\"https://console.cloud.google.com/bigquery?project=statmike-mlops-349915&j=bq:US:810c82e1-d074-42af-8399-bb4e7cbe498c&page=queryresults\">Open Job</a>"
      ],
      "text/plain": [
       "<IPython.core.display.HTML object>"
      ]
     },
     "metadata": {},
     "output_type": "display_data"
    },
    {
     "data": {
      "text/html": [
       "<div>\n",
       "<style scoped>\n",
       "    .dataframe tbody tr th:only-of-type {\n",
       "        vertical-align: middle;\n",
       "    }\n",
       "\n",
       "    .dataframe tbody tr th {\n",
       "        vertical-align: top;\n",
       "    }\n",
       "\n",
       "    .dataframe thead th {\n",
       "        text-align: right;\n",
       "    }\n",
       "</style>\n",
       "<table border=\"1\" class=\"dataframe\">\n",
       "  <thead>\n",
       "    <tr style=\"text-align: right;\">\n",
       "      <th></th>\n",
       "      <th>feature_type</th>\n",
       "      <th>osm_id</th>\n",
       "      <th>loc</th>\n",
       "      <th>loc_ecef</th>\n",
       "    </tr>\n",
       "  </thead>\n",
       "  <tbody>\n",
       "    <tr>\n",
       "      <th>0</th>\n",
       "      <td>lines</td>\n",
       "      <td>761343319</td>\n",
       "      <td>POINT (-105.28773 27.99151)</td>\n",
       "      <td>[-0.23282206691294283, -0.8517705930310953, 0....</td>\n",
       "    </tr>\n",
       "    <tr>\n",
       "      <th>1</th>\n",
       "      <td>points</td>\n",
       "      <td>5126643955</td>\n",
       "      <td>POINT (-46.63205 -23.54093)</td>\n",
       "      <td>[0.629532000783784, -0.6664576987571126, -0.39...</td>\n",
       "    </tr>\n",
       "    <tr>\n",
       "      <th>2</th>\n",
       "      <td>points</td>\n",
       "      <td>2876305585</td>\n",
       "      <td>POINT (4.75358 52.63029)</td>\n",
       "      <td>[0.6048681025761045, 0.05029873122662784, 0.79...</td>\n",
       "    </tr>\n",
       "    <tr>\n",
       "      <th>3</th>\n",
       "      <td>lines</td>\n",
       "      <td>618883227</td>\n",
       "      <td>POINT (33.34389 65.97625)</td>\n",
       "      <td>[0.34009861605827346, 0.22377617618280732, 0.9...</td>\n",
       "    </tr>\n",
       "    <tr>\n",
       "      <th>4</th>\n",
       "      <td>points</td>\n",
       "      <td>5091929547</td>\n",
       "      <td>POINT (15.30989 68.01918)</td>\n",
       "      <td>[0.3610131303092436, 0.09882898820731839, 0.92...</td>\n",
       "    </tr>\n",
       "  </tbody>\n",
       "</table>\n",
       "<p>5 rows × 4 columns</p>\n",
       "</div>[5 rows x 4 columns in total]"
      ],
      "text/plain": [
       "  feature_type      osm_id                          loc  \\\n",
       "0        lines   761343319  POINT (-105.28773 27.99151)   \n",
       "1       points  5126643955  POINT (-46.63205 -23.54093)   \n",
       "2       points  2876305585     POINT (4.75358 52.63029)   \n",
       "3        lines   618883227    POINT (33.34389 65.97625)   \n",
       "4       points  5091929547    POINT (15.30989 68.01918)   \n",
       "\n",
       "                                            loc_ecef  \n",
       "0  [-0.23282206691294283, -0.8517705930310953, 0....  \n",
       "1  [0.629532000783784, -0.6664576987571126, -0.39...  \n",
       "2  [0.6048681025761045, 0.05029873122662784, 0.79...  \n",
       "3  [0.34009861605827346, 0.22377617618280732, 0.9...  \n",
       "4  [0.3610131303092436, 0.09882898820731839, 0.92...  \n",
       "\n",
       "[5 rows x 4 columns]"
      ]
     },
     "execution_count": 153,
     "metadata": {},
     "output_type": "execute_result"
    }
   ],
   "source": [
    "bpd.read_gbq(f'{BQ_PROJECT}.{BQ_DATASET}.{BQ_TABLE_PREFIX}_source').head()"
   ]
  },
  {
   "cell_type": "markdown",
   "id": "dff1d6d3-5f71-4093-a489-a3a2f76c47ce",
   "metadata": {},
   "source": [
    "## BigQuery Vector Search - Indexing\n",
    "\n",
    "Currently in preview, project needs to be allowlisted with: \n",
    "https://docs.google.com/forms/d/18yndSb4dTf2H0orqA9N7NAchQEDQekwWiD5jYfEkGWk/viewform?edit_requested=true"
   ]
  },
  {
   "cell_type": "code",
   "execution_count": null,
   "id": "ae0e4e2b-fd64-4417-bf80-225096ca82cc",
   "metadata": {},
   "outputs": [],
   "source": []
  }
 ],
 "metadata": {
  "environment": {
   "kernel": "conda-root-py",
   "name": "workbench-notebooks.m113",
   "type": "gcloud",
   "uri": "gcr.io/deeplearning-platform-release/workbench-notebooks:m113"
  },
  "kernelspec": {
   "display_name": "Python 3 (ipykernel) (Local)",
   "language": "python",
   "name": "conda-root-py"
  },
  "language_info": {
   "codemirror_mode": {
    "name": "ipython",
    "version": 3
   },
   "file_extension": ".py",
   "mimetype": "text/x-python",
   "name": "python",
   "nbconvert_exporter": "python",
   "pygments_lexer": "ipython3",
   "version": "3.10.13"
  }
 },
 "nbformat": 4,
 "nbformat_minor": 5
}
