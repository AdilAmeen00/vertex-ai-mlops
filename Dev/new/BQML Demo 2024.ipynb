{
 "cells": [
  {
   "cell_type": "markdown",
   "id": "26f4cac2-fc8b-4d89-8aca-5d01a6e48968",
   "metadata": {},
   "source": [
    "![ga4](https://www.google-analytics.com/collect?v=2&tid=G-6VDTYWLKX6&cid=1&en=page_view&sid=1&dl=statmike%2Fvertex-ai-mlops%2FDev%2Fnew&dt=BQML+Demo+2024.ipynb)\n",
    "\n",
    "# BQML DEMO 2024"
   ]
  },
  {
   "cell_type": "markdown",
   "id": "dae71fbc-0879-4d39-a4d9-987ff1b46eb0",
   "metadata": {},
   "source": [
    "---\n",
    "## Colab Setup\n",
    "\n",
    "To run this notebook in Colab click [![Open In Colab](https://colab.research.google.com/assets/colab-badge.svg)](https://colab.research.google.com/github/statmike/vertex-ai-mlops/blob/main/05%20-%20TensorFlow/TensorFlow/TensorFlow%20Basics%20-%20Data%20To%20Training.ipynb) and run the cells in this section.  Otherwise, skip this section.\n",
    "\n",
    "This cell will authenticate to GCP (follow prompts in the popup)."
   ]
  },
  {
   "cell_type": "code",
   "execution_count": 1,
   "id": "ddd3549b-4fe3-4e3f-8638-f5c65f899193",
   "metadata": {
    "tags": []
   },
   "outputs": [],
   "source": [
    "PROJECT_ID = 'statmike-mlops-349915' # replace with project ID"
   ]
  },
  {
   "cell_type": "code",
   "execution_count": 2,
   "id": "a9e24c70-b2db-4fa3-a0ad-68670b019fbf",
   "metadata": {
    "tags": []
   },
   "outputs": [],
   "source": [
    "try:\n",
    "    import google.colab\n",
    "    from google.colab import auth\n",
    "    auth.authenticate_user()\n",
    "    !gcloud config set project {PROJECT_ID}\n",
    "except Exception:\n",
    "    pass"
   ]
  },
  {
   "cell_type": "markdown",
   "id": "ea10129a-c194-4e2a-bd4d-a72070068d61",
   "metadata": {},
   "source": [
    "---\n",
    "## Installs\n",
    "\n",
    "The list `packages` contains tuples of package import names and install names.  If the import name is not found then the install name is used to install quitely for the current user."
   ]
  },
  {
   "cell_type": "code",
   "execution_count": 258,
   "id": "450ca021-bf98-43ec-82df-fd1f7459177b",
   "metadata": {
    "tags": []
   },
   "outputs": [],
   "source": [
    "# tuples of (import name, install name)\n",
    "packages = [\n",
    "    ('google.cloud.bigquery', 'google-cloud-bigquery'),\n",
    "    ('bigframes', 'bigframes'),\n",
    "    ('google.cloud.bigquery_connection_v1', 'google-cloud-bigquery-connection'),\n",
    "    ('plotly', 'plotly'),\n",
    "    ('kaleido', 'kaleido')\n",
    "]\n",
    "\n",
    "import importlib\n",
    "install = False\n",
    "for package in packages:\n",
    "    if not importlib.util.find_spec(package[0]):\n",
    "        print(f'installing package {package[1]}')\n",
    "        install = True\n",
    "        !pip install {package[1]} -U -q --user\n",
    "    elif len(package) == 3:\n",
    "        if importlib.metadata.version(package[0]) < package[2]:\n",
    "            print(f'updating package {package[1]}')\n",
    "            install = True\n",
    "            !pip install {package[1]} -U -q --user"
   ]
  },
  {
   "cell_type": "code",
   "execution_count": 4,
   "id": "e638549e-30fd-4a5a-a603-d6c77dc67da7",
   "metadata": {
    "tags": []
   },
   "outputs": [],
   "source": [
    "#!sudo apt-get -qq install graphviz"
   ]
  },
  {
   "cell_type": "markdown",
   "id": "c4ff5b79-1942-4b99-a81d-5f4cd3ac890d",
   "metadata": {},
   "source": [
    "### Restart Kernel (If Installs Occured)\n",
    "\n",
    "After a kernel restart the code submission can start with the next cell after this one."
   ]
  },
  {
   "cell_type": "code",
   "execution_count": 5,
   "id": "0844c5dd-1bfc-484a-b678-ae918f9c131a",
   "metadata": {
    "tags": []
   },
   "outputs": [],
   "source": [
    "if install:\n",
    "    import IPython\n",
    "    app = IPython.Application.instance()\n",
    "    app.kernel.do_shutdown(True)"
   ]
  },
  {
   "cell_type": "markdown",
   "id": "2b176378-8a35-4e84-99a8-6613c46b7b63",
   "metadata": {},
   "source": [
    "---\n",
    "## Setup"
   ]
  },
  {
   "cell_type": "markdown",
   "id": "ed2aaf7a-a326-4f15-9486-74ac6a734978",
   "metadata": {},
   "source": [
    "inputs:"
   ]
  },
  {
   "cell_type": "code",
   "execution_count": 6,
   "id": "6e6876bf-f26d-4d1f-8286-7e9a9f55e0a1",
   "metadata": {
    "tags": []
   },
   "outputs": [
    {
     "data": {
      "text/plain": [
       "'statmike-mlops-349915'"
      ]
     },
     "execution_count": 6,
     "metadata": {},
     "output_type": "execute_result"
    }
   ],
   "source": [
    "project = !gcloud config get-value project\n",
    "PROJECT_ID = project[0]\n",
    "PROJECT_ID"
   ]
  },
  {
   "cell_type": "code",
   "execution_count": 7,
   "id": "28748251-c295-473e-bcfa-87dc791cb457",
   "metadata": {
    "tags": []
   },
   "outputs": [],
   "source": [
    "# BigQuery Parameters\n",
    "BQ_PROJECT = PROJECT_ID\n",
    "BQ_DATASET = 'bqml_2024'\n",
    "BQ_TABLE_PREFIX = 'thelook'\n",
    "BQ_REGION = 'us'\n",
    "BQ_SOURCE_DATASET = 'bigquery-public-data.thelook_ecommerce'"
   ]
  },
  {
   "cell_type": "markdown",
   "id": "51c71fd6-e185-4baf-896d-e86e717abb54",
   "metadata": {},
   "source": [
    "packages:"
   ]
  },
  {
   "cell_type": "code",
   "execution_count": 261,
   "id": "7e84a70a-ee10-48b8-a5c8-d0aed3f28a05",
   "metadata": {
    "tags": []
   },
   "outputs": [],
   "source": [
    "from google.cloud import bigquery\n",
    "from google.cloud import bigquery_connection_v1 as bq_connection\n",
    "import bigframes.pandas as bpd\n",
    "import pandas as pd\n",
    "import numpy as np\n",
    "\n",
    "from datetime import datetime, timedelta\n",
    "import plotly.express as px\n",
    "import plotly.graph_objects as go\n",
    "import plotly.io as pio\n",
    "pio.renderers.default = 'iframe'"
   ]
  },
  {
   "cell_type": "markdown",
   "id": "8194fc51-2648-4d32-9190-9a2c03b3a67d",
   "metadata": {},
   "source": [
    "clients:"
   ]
  },
  {
   "cell_type": "code",
   "execution_count": 9,
   "id": "bc79785a-4745-4f94-8ca4-cd7ecf51a32c",
   "metadata": {
    "tags": []
   },
   "outputs": [],
   "source": [
    "bq = bigquery.Client(project = PROJECT_ID)\n",
    "bpd.options.bigquery.project = PROJECT_ID"
   ]
  },
  {
   "cell_type": "markdown",
   "id": "31216e92-df62-4f0f-be24-239e88283aa6",
   "metadata": {},
   "source": [
    "---\n",
    "## Environment Setup"
   ]
  },
  {
   "cell_type": "markdown",
   "id": "98877b78-676f-4099-9dba-2efbe6fe1251",
   "metadata": {},
   "source": [
    "### BigQuery Dataset"
   ]
  },
  {
   "cell_type": "code",
   "execution_count": 70,
   "id": "386097bd-b6dd-4714-bb62-c678316be4d0",
   "metadata": {
    "tags": []
   },
   "outputs": [
    {
     "name": "stdout",
     "output_type": "stream",
     "text": [
      "Found the BigQuery Dataset:  statmike-mlops-349915:bqml_2024\n"
     ]
    }
   ],
   "source": [
    "try:\n",
    "    ds = bq.get_dataset(f'{BQ_PROJECT}.{BQ_DATASET}')\n",
    "    print('Found the BigQuery Dataset: ', ds.full_dataset_id)\n",
    "except:\n",
    "    ds = bigquery.DatasetReference(BQ_PROJECT, BQ_DATASET)\n",
    "    ds.location = BQ_REGION\n",
    "    ds = bq.create_dataset(dataset = ds, exists_ok = True)\n",
    "    print('Created the BigQuery Dataset: ', ds.full_dataset_id)"
   ]
  },
  {
   "cell_type": "markdown",
   "id": "d6f29ae8-76c4-4316-9c2d-b2e92adb2cde",
   "metadata": {},
   "source": [
    "### Connection Requirement\n",
    "\n",
    "To make a remote connection using BigQuery ML, BigQuery uses a CLOUD_RESOURCE connection. [Reference](https://cloud.google.com/bigquery/docs/reference/standard-sql/bigqueryml-syntax-create-remote-model#connection)"
   ]
  },
  {
   "cell_type": "markdown",
   "id": "851b0942-e806-4ad5-bee8-520d6ab48ff8",
   "metadata": {},
   "source": [
    "Create a new connection with type `CLOUD_RESOURCE`: First, check for existing connection."
   ]
  },
  {
   "cell_type": "code",
   "execution_count": 72,
   "id": "6d59cdcb-f25f-4390-a267-e0738cd15532",
   "metadata": {
    "tags": []
   },
   "outputs": [
    {
     "name": "stdout",
     "output_type": "stream",
     "text": [
      "Created new connection with service account: bqcx-1026793852137-d2h9@gcp-sa-bigquery-condel.iam.gserviceaccount.com\n"
     ]
    }
   ],
   "source": [
    "try:\n",
    "    response = bq_connection.ConnectionServiceClient().get_connection(\n",
    "            request = bq_connection.GetConnectionRequest(\n",
    "                name = f\"projects/{BQ_PROJECT}/locations/{BQ_REGION}/connections/{BQ_DATASET}\"\n",
    "            )\n",
    "    )\n",
    "    print(f'Found existing connection with service account: {response.cloud_resource.service_account_id}')\n",
    "    service_account = response.cloud_resource.service_account_id\n",
    "except Exception:\n",
    "    request = bq_connection.CreateConnectionRequest(\n",
    "        {\n",
    "            \"parent\": f\"projects/{BQ_PROJECT}/locations/{BQ_REGION}\",\n",
    "            \"connection_id\": f\"{BQ_DATASET}\",\n",
    "            \"connection\": bq_connection.types.Connection(\n",
    "                {\n",
    "                    \"friendly_name\": f\"{BQ_DATASET}\",\n",
    "                    \"cloud_resource\": bq_connection.CloudResourceProperties({})\n",
    "                }\n",
    "            )\n",
    "        }\n",
    "    )\n",
    "    response = bq_connection.ConnectionServiceClient().create_connection(request)\n",
    "    print(f'Created new connection with service account: {response.cloud_resource.service_account_id}')\n",
    "    service_account = response.cloud_resource.service_account_id"
   ]
  },
  {
   "cell_type": "markdown",
   "id": "38f89890-0b8c-47d2-b8fe-7d769fcc89ea",
   "metadata": {},
   "source": [
    "Assign the service account the Vertex AI User role:"
   ]
  },
  {
   "cell_type": "code",
   "execution_count": 73,
   "id": "b9ed9268-96f1-4b14-991c-4f04541c3cc1",
   "metadata": {
    "scrolled": true,
    "tags": []
   },
   "outputs": [
    {
     "name": "stdout",
     "output_type": "stream",
     "text": [
      "Updated IAM policy for project [statmike-mlops-349915].\n",
      "bindings:\n",
      "- members:\n",
      "  - serviceAccount:service-1026793852137@gcp-sa-aiplatform-cc.iam.gserviceaccount.com\n",
      "  role: roles/aiplatform.customCodeServiceAgent\n",
      "- members:\n",
      "  - serviceAccount:service-1026793852137@gcp-sa-aiplatform-vm.iam.gserviceaccount.com\n",
      "  role: roles/aiplatform.notebookServiceAgent\n",
      "- members:\n",
      "  - serviceAccount:service-1026793852137@gcp-sa-aiplatform.iam.gserviceaccount.com\n",
      "  role: roles/aiplatform.serviceAgent\n",
      "- members:\n",
      "  - serviceAccount:bqcx-1026793852137-bmph@gcp-sa-bigquery-condel.iam.gserviceaccount.com\n",
      "  - serviceAccount:bqcx-1026793852137-d2h9@gcp-sa-bigquery-condel.iam.gserviceaccount.com\n",
      "  - serviceAccount:bqcx-1026793852137-dyw1@gcp-sa-bigquery-condel.iam.gserviceaccount.com\n",
      "  - serviceAccount:bqcx-1026793852137-pdxa@gcp-sa-bigquery-condel.iam.gserviceaccount.com\n",
      "  - serviceAccount:bqcx-1026793852137-te86@gcp-sa-bigquery-condel.iam.gserviceaccount.com\n",
      "  - serviceAccount:bqcx-1026793852137-tqpc@gcp-sa-bigquery-condel.iam.gserviceaccount.com\n",
      "  - serviceAccount:bqcx-1026793852137-zfly@gcp-sa-bigquery-condel.iam.gserviceaccount.com\n",
      "  role: roles/aiplatform.user\n",
      "- members:\n",
      "  - serviceAccount:service-1026793852137@gcp-sa-artifactregistry.iam.gserviceaccount.com\n",
      "  role: roles/artifactregistry.serviceAgent\n",
      "- members:\n",
      "  - serviceAccount:1026793852137-compute@developer.gserviceaccount.com\n",
      "  role: roles/bigquery.admin\n",
      "- members:\n",
      "  - serviceAccount:1026793852137@cloudservices.gserviceaccount.com\n",
      "  role: roles/bigquery.dataOwner\n",
      "- members:\n",
      "  - serviceAccount:1026793852137@cloudbuild.gserviceaccount.com\n",
      "  role: roles/cloudbuild.builds.builder\n",
      "- members:\n",
      "  - serviceAccount:service-1026793852137@gcp-sa-cloudbuild.iam.gserviceaccount.com\n",
      "  role: roles/cloudbuild.serviceAgent\n",
      "- members:\n",
      "  - serviceAccount:service-1026793852137@gcf-admin-robot.iam.gserviceaccount.com\n",
      "  role: roles/cloudfunctions.serviceAgent\n",
      "- members:\n",
      "  - serviceAccount:service-1026793852137@gcp-sa-cloudscheduler.iam.gserviceaccount.com\n",
      "  role: roles/cloudscheduler.serviceAgent\n",
      "- members:\n",
      "  - serviceAccount:service-1026793852137@compute-system.iam.gserviceaccount.com\n",
      "  role: roles/compute.serviceAgent\n",
      "- members:\n",
      "  - serviceAccount:service-1026793852137@containerregistry.iam.gserviceaccount.com\n",
      "  role: roles/containerregistry.ServiceAgent\n",
      "- members:\n",
      "  - serviceAccount:service-1026793852137@dataflow-service-producer-prod.iam.gserviceaccount.com\n",
      "  role: roles/dataflow.serviceAgent\n",
      "- members:\n",
      "  - serviceAccount:service-1026793852137@gcp-sa-dataform.iam.gserviceaccount.com\n",
      "  role: roles/dataform.serviceAgent\n",
      "- members:\n",
      "  - serviceAccount:service-1026793852137@dataproc-accounts.iam.gserviceaccount.com\n",
      "  role: roles/dataproc.serviceAgent\n",
      "- members:\n",
      "  - serviceAccount:service-1026793852137@gcp-sa-discoveryengine.iam.gserviceaccount.com\n",
      "  role: roles/discoveryengine.serviceAgent\n",
      "- members:\n",
      "  - serviceAccount:service-1026793852137@dlp-api.iam.gserviceaccount.com\n",
      "  role: roles/dlp.serviceAgent\n",
      "- members:\n",
      "  - serviceAccount:bqcx-1026793852137-te86@gcp-sa-bigquery-condel.iam.gserviceaccount.com\n",
      "  role: roles/documentai.apiUser\n",
      "- members:\n",
      "  - serviceAccount:bqcx-1026793852137-te86@gcp-sa-bigquery-condel.iam.gserviceaccount.com\n",
      "  role: roles/documentai.viewer\n",
      "- members:\n",
      "  - serviceAccount:service-1026793852137@gcp-sa-prod-dai-core.iam.gserviceaccount.com\n",
      "  role: roles/documentaicore.serviceAgent\n",
      "- members:\n",
      "  - serviceAccount:1026793852137@cloudservices.gserviceaccount.com\n",
      "  role: roles/editor\n",
      "- members:\n",
      "  - serviceAccount:service-1026793852137@gcp-sa-networkmanagement.iam.gserviceaccount.com\n",
      "  role: roles/networkmanagement.serviceAgent\n",
      "- members:\n",
      "  - serviceAccount:service-1026793852137@gcp-sa-notebooks.iam.gserviceaccount.com\n",
      "  role: roles/notebooks.serviceAgent\n",
      "- members:\n",
      "  - serviceAccount:1026793852137-compute@developer.gserviceaccount.com\n",
      "  - serviceAccount:1026793852137@cloudservices.gserviceaccount.com\n",
      "  - user:admin@statmike.altostrat.com\n",
      "  role: roles/owner\n",
      "- members:\n",
      "  - serviceAccount:service-1026793852137@gcp-sa-pubsub.iam.gserviceaccount.com\n",
      "  role: roles/pubsub.serviceAgent\n",
      "- members:\n",
      "  - serviceAccount:1026793852137-compute@developer.gserviceaccount.com\n",
      "  role: roles/run.admin\n",
      "- members:\n",
      "  - serviceAccount:service-1026793852137@serverless-robot-prod.iam.gserviceaccount.com\n",
      "  role: roles/run.serviceAgent\n",
      "- members:\n",
      "  - serviceAccount:1026793852137-compute@developer.gserviceaccount.com\n",
      "  role: roles/secretmanager.secretAccessor\n",
      "- members:\n",
      "  - serviceAccount:service-1026793852137@service-networking.iam.gserviceaccount.com\n",
      "  role: roles/servicenetworking.serviceAgent\n",
      "- members:\n",
      "  - serviceAccount:service-1026793852137@gcp-sa-speech.iam.gserviceaccount.com\n",
      "  role: roles/speech.serviceAgent\n",
      "- members:\n",
      "  - serviceAccount:1026793852137-compute@developer.gserviceaccount.com\n",
      "  role: roles/storage.objectAdmin\n",
      "- members:\n",
      "  - serviceAccount:bqcx-1026793852137-te86@gcp-sa-bigquery-condel.iam.gserviceaccount.com\n",
      "  role: roles/storage.objectViewer\n",
      "- members:\n",
      "  - user:showvik@statmike.altostrat.com\n",
      "  role: roles/viewer\n",
      "- members:\n",
      "  - serviceAccount:service-1026793852137@gcp-sa-workstations.iam.gserviceaccount.com\n",
      "  role: roles/workstations.serviceAgent\n",
      "etag: BwYQKvSkV2g=\n",
      "version: 1\n"
     ]
    }
   ],
   "source": [
    "# for llm usage on vertex\n",
    "!gcloud projects add-iam-policy-binding {BQ_PROJECT} --member=serviceAccount:{service_account} --role=roles/aiplatform.user"
   ]
  },
  {
   "cell_type": "code",
   "execution_count": 176,
   "id": "ff469c2d-18ca-4084-8c10-751ff5d046ed",
   "metadata": {
    "scrolled": true,
    "tags": []
   },
   "outputs": [
    {
     "name": "stdout",
     "output_type": "stream",
     "text": [
      "Updated IAM policy for project [statmike-mlops-349915].\n",
      "bindings:\n",
      "- members:\n",
      "  - serviceAccount:service-1026793852137@gcp-sa-aiplatform-cc.iam.gserviceaccount.com\n",
      "  role: roles/aiplatform.customCodeServiceAgent\n",
      "- members:\n",
      "  - serviceAccount:service-1026793852137@gcp-sa-aiplatform-vm.iam.gserviceaccount.com\n",
      "  role: roles/aiplatform.notebookServiceAgent\n",
      "- members:\n",
      "  - serviceAccount:service-1026793852137@gcp-sa-aiplatform.iam.gserviceaccount.com\n",
      "  role: roles/aiplatform.serviceAgent\n",
      "- members:\n",
      "  - serviceAccount:bqcx-1026793852137-bmph@gcp-sa-bigquery-condel.iam.gserviceaccount.com\n",
      "  - serviceAccount:bqcx-1026793852137-d2h9@gcp-sa-bigquery-condel.iam.gserviceaccount.com\n",
      "  - serviceAccount:bqcx-1026793852137-dyw1@gcp-sa-bigquery-condel.iam.gserviceaccount.com\n",
      "  - serviceAccount:bqcx-1026793852137-pdxa@gcp-sa-bigquery-condel.iam.gserviceaccount.com\n",
      "  - serviceAccount:bqcx-1026793852137-te86@gcp-sa-bigquery-condel.iam.gserviceaccount.com\n",
      "  - serviceAccount:bqcx-1026793852137-tqpc@gcp-sa-bigquery-condel.iam.gserviceaccount.com\n",
      "  - serviceAccount:bqcx-1026793852137-zfly@gcp-sa-bigquery-condel.iam.gserviceaccount.com\n",
      "  role: roles/aiplatform.user\n",
      "- members:\n",
      "  - serviceAccount:service-1026793852137@gcp-sa-artifactregistry.iam.gserviceaccount.com\n",
      "  role: roles/artifactregistry.serviceAgent\n",
      "- members:\n",
      "  - serviceAccount:1026793852137-compute@developer.gserviceaccount.com\n",
      "  role: roles/bigquery.admin\n",
      "- members:\n",
      "  - serviceAccount:1026793852137@cloudservices.gserviceaccount.com\n",
      "  role: roles/bigquery.dataOwner\n",
      "- members:\n",
      "  - serviceAccount:1026793852137@cloudbuild.gserviceaccount.com\n",
      "  role: roles/cloudbuild.builds.builder\n",
      "- members:\n",
      "  - serviceAccount:service-1026793852137@gcp-sa-cloudbuild.iam.gserviceaccount.com\n",
      "  role: roles/cloudbuild.serviceAgent\n",
      "- members:\n",
      "  - serviceAccount:service-1026793852137@gcf-admin-robot.iam.gserviceaccount.com\n",
      "  role: roles/cloudfunctions.serviceAgent\n",
      "- members:\n",
      "  - serviceAccount:service-1026793852137@gcp-sa-cloudscheduler.iam.gserviceaccount.com\n",
      "  role: roles/cloudscheduler.serviceAgent\n",
      "- members:\n",
      "  - serviceAccount:service-1026793852137@compute-system.iam.gserviceaccount.com\n",
      "  role: roles/compute.serviceAgent\n",
      "- members:\n",
      "  - serviceAccount:service-1026793852137@containerregistry.iam.gserviceaccount.com\n",
      "  role: roles/containerregistry.ServiceAgent\n",
      "- members:\n",
      "  - serviceAccount:service-1026793852137@dataflow-service-producer-prod.iam.gserviceaccount.com\n",
      "  role: roles/dataflow.serviceAgent\n",
      "- members:\n",
      "  - serviceAccount:service-1026793852137@gcp-sa-dataform.iam.gserviceaccount.com\n",
      "  role: roles/dataform.serviceAgent\n",
      "- members:\n",
      "  - serviceAccount:service-1026793852137@dataproc-accounts.iam.gserviceaccount.com\n",
      "  role: roles/dataproc.serviceAgent\n",
      "- members:\n",
      "  - serviceAccount:service-1026793852137@gcp-sa-discoveryengine.iam.gserviceaccount.com\n",
      "  role: roles/discoveryengine.serviceAgent\n",
      "- members:\n",
      "  - serviceAccount:service-1026793852137@dlp-api.iam.gserviceaccount.com\n",
      "  role: roles/dlp.serviceAgent\n",
      "- members:\n",
      "  - serviceAccount:bqcx-1026793852137-te86@gcp-sa-bigquery-condel.iam.gserviceaccount.com\n",
      "  role: roles/documentai.apiUser\n",
      "- members:\n",
      "  - serviceAccount:bqcx-1026793852137-te86@gcp-sa-bigquery-condel.iam.gserviceaccount.com\n",
      "  role: roles/documentai.viewer\n",
      "- members:\n",
      "  - serviceAccount:service-1026793852137@gcp-sa-prod-dai-core.iam.gserviceaccount.com\n",
      "  role: roles/documentaicore.serviceAgent\n",
      "- members:\n",
      "  - serviceAccount:1026793852137@cloudservices.gserviceaccount.com\n",
      "  role: roles/editor\n",
      "- members:\n",
      "  - serviceAccount:service-1026793852137@gcp-sa-networkmanagement.iam.gserviceaccount.com\n",
      "  role: roles/networkmanagement.serviceAgent\n",
      "- members:\n",
      "  - serviceAccount:service-1026793852137@gcp-sa-notebooks.iam.gserviceaccount.com\n",
      "  role: roles/notebooks.serviceAgent\n",
      "- members:\n",
      "  - serviceAccount:1026793852137-compute@developer.gserviceaccount.com\n",
      "  - serviceAccount:1026793852137@cloudservices.gserviceaccount.com\n",
      "  - user:admin@statmike.altostrat.com\n",
      "  role: roles/owner\n",
      "- members:\n",
      "  - serviceAccount:service-1026793852137@gcp-sa-pubsub.iam.gserviceaccount.com\n",
      "  role: roles/pubsub.serviceAgent\n",
      "- members:\n",
      "  - serviceAccount:1026793852137-compute@developer.gserviceaccount.com\n",
      "  role: roles/run.admin\n",
      "- members:\n",
      "  - serviceAccount:service-1026793852137@serverless-robot-prod.iam.gserviceaccount.com\n",
      "  role: roles/run.serviceAgent\n",
      "- members:\n",
      "  - serviceAccount:1026793852137-compute@developer.gserviceaccount.com\n",
      "  role: roles/secretmanager.secretAccessor\n",
      "- members:\n",
      "  - serviceAccount:service-1026793852137@service-networking.iam.gserviceaccount.com\n",
      "  role: roles/servicenetworking.serviceAgent\n",
      "- members:\n",
      "  - serviceAccount:bqcx-1026793852137-d2h9@gcp-sa-bigquery-condel.iam.gserviceaccount.com\n",
      "  role: roles/serviceusage.serviceUsageConsumer\n",
      "- members:\n",
      "  - serviceAccount:service-1026793852137@gcp-sa-speech.iam.gserviceaccount.com\n",
      "  role: roles/speech.serviceAgent\n",
      "- members:\n",
      "  - serviceAccount:1026793852137-compute@developer.gserviceaccount.com\n",
      "  role: roles/storage.objectAdmin\n",
      "- members:\n",
      "  - serviceAccount:bqcx-1026793852137-te86@gcp-sa-bigquery-condel.iam.gserviceaccount.com\n",
      "  role: roles/storage.objectViewer\n",
      "- members:\n",
      "  - user:showvik@statmike.altostrat.com\n",
      "  role: roles/viewer\n",
      "- members:\n",
      "  - serviceAccount:service-1026793852137@gcp-sa-workstations.iam.gserviceaccount.com\n",
      "  role: roles/workstations.serviceAgent\n",
      "etag: BwYQL6kvH3I=\n",
      "version: 1\n"
     ]
    }
   ],
   "source": [
    "# for cloud nlp usage:\n",
    "!gcloud projects add-iam-policy-binding {BQ_PROJECT} --member=serviceAccount:{service_account} --role=roles/serviceusage.serviceUsageConsumer"
   ]
  },
  {
   "cell_type": "code",
   "execution_count": 187,
   "id": "da7f3bf5-ff9f-426f-b86d-cb45ab6b0a12",
   "metadata": {
    "scrolled": true,
    "tags": []
   },
   "outputs": [
    {
     "name": "stdout",
     "output_type": "stream",
     "text": [
      "Updated IAM policy for project [statmike-mlops-349915].\n",
      "bindings:\n",
      "- members:\n",
      "  - serviceAccount:service-1026793852137@gcp-sa-aiplatform-cc.iam.gserviceaccount.com\n",
      "  role: roles/aiplatform.customCodeServiceAgent\n",
      "- members:\n",
      "  - serviceAccount:service-1026793852137@gcp-sa-aiplatform-vm.iam.gserviceaccount.com\n",
      "  role: roles/aiplatform.notebookServiceAgent\n",
      "- members:\n",
      "  - serviceAccount:service-1026793852137@gcp-sa-aiplatform.iam.gserviceaccount.com\n",
      "  role: roles/aiplatform.serviceAgent\n",
      "- members:\n",
      "  - serviceAccount:bqcx-1026793852137-bmph@gcp-sa-bigquery-condel.iam.gserviceaccount.com\n",
      "  - serviceAccount:bqcx-1026793852137-d2h9@gcp-sa-bigquery-condel.iam.gserviceaccount.com\n",
      "  - serviceAccount:bqcx-1026793852137-dyw1@gcp-sa-bigquery-condel.iam.gserviceaccount.com\n",
      "  - serviceAccount:bqcx-1026793852137-pdxa@gcp-sa-bigquery-condel.iam.gserviceaccount.com\n",
      "  - serviceAccount:bqcx-1026793852137-te86@gcp-sa-bigquery-condel.iam.gserviceaccount.com\n",
      "  - serviceAccount:bqcx-1026793852137-tqpc@gcp-sa-bigquery-condel.iam.gserviceaccount.com\n",
      "  - serviceAccount:bqcx-1026793852137-zfly@gcp-sa-bigquery-condel.iam.gserviceaccount.com\n",
      "  role: roles/aiplatform.user\n",
      "- members:\n",
      "  - serviceAccount:service-1026793852137@gcp-sa-artifactregistry.iam.gserviceaccount.com\n",
      "  role: roles/artifactregistry.serviceAgent\n",
      "- members:\n",
      "  - serviceAccount:1026793852137-compute@developer.gserviceaccount.com\n",
      "  role: roles/bigquery.admin\n",
      "- members:\n",
      "  - serviceAccount:1026793852137@cloudservices.gserviceaccount.com\n",
      "  role: roles/bigquery.dataOwner\n",
      "- members:\n",
      "  - serviceAccount:1026793852137@cloudbuild.gserviceaccount.com\n",
      "  role: roles/cloudbuild.builds.builder\n",
      "- members:\n",
      "  - serviceAccount:service-1026793852137@gcp-sa-cloudbuild.iam.gserviceaccount.com\n",
      "  role: roles/cloudbuild.serviceAgent\n",
      "- members:\n",
      "  - serviceAccount:service-1026793852137@gcf-admin-robot.iam.gserviceaccount.com\n",
      "  role: roles/cloudfunctions.serviceAgent\n",
      "- members:\n",
      "  - serviceAccount:service-1026793852137@gcp-sa-cloudscheduler.iam.gserviceaccount.com\n",
      "  role: roles/cloudscheduler.serviceAgent\n",
      "- members:\n",
      "  - serviceAccount:bqcx-1026793852137-d2h9@gcp-sa-bigquery-condel.iam.gserviceaccount.com\n",
      "  role: roles/cloudtranslate.user\n",
      "- members:\n",
      "  - serviceAccount:service-1026793852137@compute-system.iam.gserviceaccount.com\n",
      "  role: roles/compute.serviceAgent\n",
      "- members:\n",
      "  - serviceAccount:service-1026793852137@containerregistry.iam.gserviceaccount.com\n",
      "  role: roles/containerregistry.ServiceAgent\n",
      "- members:\n",
      "  - serviceAccount:service-1026793852137@dataflow-service-producer-prod.iam.gserviceaccount.com\n",
      "  role: roles/dataflow.serviceAgent\n",
      "- members:\n",
      "  - serviceAccount:service-1026793852137@gcp-sa-dataform.iam.gserviceaccount.com\n",
      "  role: roles/dataform.serviceAgent\n",
      "- members:\n",
      "  - serviceAccount:service-1026793852137@dataproc-accounts.iam.gserviceaccount.com\n",
      "  role: roles/dataproc.serviceAgent\n",
      "- members:\n",
      "  - serviceAccount:service-1026793852137@gcp-sa-discoveryengine.iam.gserviceaccount.com\n",
      "  role: roles/discoveryengine.serviceAgent\n",
      "- members:\n",
      "  - serviceAccount:service-1026793852137@dlp-api.iam.gserviceaccount.com\n",
      "  role: roles/dlp.serviceAgent\n",
      "- members:\n",
      "  - serviceAccount:bqcx-1026793852137-te86@gcp-sa-bigquery-condel.iam.gserviceaccount.com\n",
      "  role: roles/documentai.apiUser\n",
      "- members:\n",
      "  - serviceAccount:bqcx-1026793852137-te86@gcp-sa-bigquery-condel.iam.gserviceaccount.com\n",
      "  role: roles/documentai.viewer\n",
      "- members:\n",
      "  - serviceAccount:service-1026793852137@gcp-sa-prod-dai-core.iam.gserviceaccount.com\n",
      "  role: roles/documentaicore.serviceAgent\n",
      "- members:\n",
      "  - serviceAccount:1026793852137@cloudservices.gserviceaccount.com\n",
      "  role: roles/editor\n",
      "- members:\n",
      "  - serviceAccount:service-1026793852137@gcp-sa-networkmanagement.iam.gserviceaccount.com\n",
      "  role: roles/networkmanagement.serviceAgent\n",
      "- members:\n",
      "  - serviceAccount:service-1026793852137@gcp-sa-notebooks.iam.gserviceaccount.com\n",
      "  role: roles/notebooks.serviceAgent\n",
      "- members:\n",
      "  - serviceAccount:1026793852137-compute@developer.gserviceaccount.com\n",
      "  - serviceAccount:1026793852137@cloudservices.gserviceaccount.com\n",
      "  - user:admin@statmike.altostrat.com\n",
      "  role: roles/owner\n",
      "- members:\n",
      "  - serviceAccount:service-1026793852137@gcp-sa-pubsub.iam.gserviceaccount.com\n",
      "  role: roles/pubsub.serviceAgent\n",
      "- members:\n",
      "  - serviceAccount:1026793852137-compute@developer.gserviceaccount.com\n",
      "  role: roles/run.admin\n",
      "- members:\n",
      "  - serviceAccount:service-1026793852137@serverless-robot-prod.iam.gserviceaccount.com\n",
      "  role: roles/run.serviceAgent\n",
      "- members:\n",
      "  - serviceAccount:1026793852137-compute@developer.gserviceaccount.com\n",
      "  role: roles/secretmanager.secretAccessor\n",
      "- members:\n",
      "  - serviceAccount:service-1026793852137@service-networking.iam.gserviceaccount.com\n",
      "  role: roles/servicenetworking.serviceAgent\n",
      "- members:\n",
      "  - serviceAccount:bqcx-1026793852137-d2h9@gcp-sa-bigquery-condel.iam.gserviceaccount.com\n",
      "  role: roles/serviceusage.serviceUsageConsumer\n",
      "- members:\n",
      "  - serviceAccount:service-1026793852137@gcp-sa-speech.iam.gserviceaccount.com\n",
      "  role: roles/speech.serviceAgent\n",
      "- members:\n",
      "  - serviceAccount:1026793852137-compute@developer.gserviceaccount.com\n",
      "  role: roles/storage.objectAdmin\n",
      "- members:\n",
      "  - serviceAccount:bqcx-1026793852137-te86@gcp-sa-bigquery-condel.iam.gserviceaccount.com\n",
      "  role: roles/storage.objectViewer\n",
      "- members:\n",
      "  - user:showvik@statmike.altostrat.com\n",
      "  role: roles/viewer\n",
      "- members:\n",
      "  - serviceAccount:service-1026793852137@gcp-sa-workstations.iam.gserviceaccount.com\n",
      "  role: roles/workstations.serviceAgent\n",
      "etag: BwYQL-3BDco=\n",
      "version: 1\n"
     ]
    }
   ],
   "source": [
    "# for cloud translate usage:\n",
    "!gcloud projects add-iam-policy-binding {BQ_PROJECT} --member=serviceAccount:{service_account} --role=roles/cloudtranslate.user"
   ]
  },
  {
   "cell_type": "markdown",
   "id": "e335023a-a681-4da8-8430-e89c8730e22d",
   "metadata": {},
   "source": [
    "### Create The Remote Models In BigQuery"
   ]
  },
  {
   "cell_type": "code",
   "execution_count": 78,
   "id": "e5af45db-c34a-45bb-9cb5-fc6b30708602",
   "metadata": {
    "tags": []
   },
   "outputs": [
    {
     "data": {
      "text/plain": [
       "'DONE'"
      ]
     },
     "execution_count": 78,
     "metadata": {},
     "output_type": "execute_result"
    }
   ],
   "source": [
    "# Create Remote Model In BigQuery\n",
    "query = f\"\"\"\n",
    "CREATE OR REPLACE MODEL `{BQ_PROJECT}.{BQ_DATASET}.VERTEX_LLM`\n",
    "    REMOTE WITH CONNECTION `{BQ_PROJECT}.{BQ_REGION}.{BQ_DATASET}`\n",
    "    OPTIONS(ENDPOINT = 'text-bison@002')\n",
    "\"\"\"\n",
    "job = bq.query(query = query)\n",
    "job.result()\n",
    "job.state"
   ]
  },
  {
   "cell_type": "code",
   "execution_count": 79,
   "id": "caf16cad-a981-452d-831a-04aab72eefad",
   "metadata": {
    "tags": []
   },
   "outputs": [
    {
     "name": "stdout",
     "output_type": "stream",
     "text": [
      "\n",
      "CREATE OR REPLACE MODEL `statmike-mlops-349915.bqml_2024.VERTEX_LLM`\n",
      "    REMOTE WITH CONNECTION `statmike-mlops-349915.us.bqml_2024`\n",
      "    OPTIONS(ENDPOINT = 'text-bison@002')\n",
      "\n"
     ]
    }
   ],
   "source": [
    "print(query)"
   ]
  },
  {
   "cell_type": "code",
   "execution_count": 80,
   "id": "ae986375-e033-4ac2-9468-08328b61984b",
   "metadata": {
    "tags": []
   },
   "outputs": [
    {
     "data": {
      "text/plain": [
       "'DONE'"
      ]
     },
     "execution_count": 80,
     "metadata": {},
     "output_type": "execute_result"
    }
   ],
   "source": [
    "# Create Remote Model In BigQuery\n",
    "query = f\"\"\"\n",
    "CREATE OR REPLACE MODEL `{BQ_PROJECT}.{BQ_DATASET}.CLOUD_TRANSLATE`\n",
    "    REMOTE WITH CONNECTION `{BQ_PROJECT}.{BQ_REGION}.{BQ_DATASET}`\n",
    "    OPTIONS(REMOTE_SERVICE_TYPE = 'CLOUD_AI_TRANSLATE_V3')\n",
    "\"\"\"\n",
    "job = bq.query(query = query)\n",
    "job.result()\n",
    "job.state"
   ]
  },
  {
   "cell_type": "code",
   "execution_count": 81,
   "id": "39250113-c89d-4af4-b7be-9d8e93c90896",
   "metadata": {
    "tags": []
   },
   "outputs": [
    {
     "name": "stdout",
     "output_type": "stream",
     "text": [
      "\n",
      "CREATE OR REPLACE MODEL `statmike-mlops-349915.bqml_2024.CLOUD_TRANSLATE`\n",
      "    REMOTE WITH CONNECTION `statmike-mlops-349915.us.bqml_2024`\n",
      "    OPTIONS(REMOTE_SERVICE_TYPE = 'CLOUD_AI_TRANSLATE_V3')\n",
      "\n"
     ]
    }
   ],
   "source": [
    "print(query)"
   ]
  },
  {
   "cell_type": "code",
   "execution_count": 82,
   "id": "1c9b7e40-7ac5-40f6-a3ad-75da5956f818",
   "metadata": {
    "tags": []
   },
   "outputs": [
    {
     "data": {
      "text/plain": [
       "'DONE'"
      ]
     },
     "execution_count": 82,
     "metadata": {},
     "output_type": "execute_result"
    }
   ],
   "source": [
    "# Create Remote Model In BigQuery\n",
    "query = f\"\"\"\n",
    "CREATE OR REPLACE MODEL `{BQ_PROJECT}.{BQ_DATASET}.CLOUD_NLP`\n",
    "    REMOTE WITH CONNECTION `{BQ_PROJECT}.{BQ_REGION}.{BQ_DATASET}`\n",
    "    OPTIONS(REMOTE_SERVICE_TYPE = 'CLOUD_AI_NATURAL_LANGUAGE_V1')\n",
    "\"\"\"\n",
    "job = bq.query(query = query)\n",
    "job.result()\n",
    "job.state"
   ]
  },
  {
   "cell_type": "code",
   "execution_count": 83,
   "id": "f5744418-e55b-4311-9079-899a240595af",
   "metadata": {
    "tags": []
   },
   "outputs": [
    {
     "name": "stdout",
     "output_type": "stream",
     "text": [
      "\n",
      "CREATE OR REPLACE MODEL `statmike-mlops-349915.bqml_2024.CLOUD_NLP`\n",
      "    REMOTE WITH CONNECTION `statmike-mlops-349915.us.bqml_2024`\n",
      "    OPTIONS(REMOTE_SERVICE_TYPE = 'CLOUD_AI_NATURAL_LANGUAGE_V1')\n",
      "\n"
     ]
    }
   ],
   "source": [
    "print(query)"
   ]
  },
  {
   "cell_type": "markdown",
   "id": "d60a1bab-e5d5-47cd-b418-8b916cc449cf",
   "metadata": {},
   "source": [
    "---\n",
    "## Intro & Explore"
   ]
  },
  {
   "cell_type": "code",
   "execution_count": 177,
   "id": "189986bb-d9c8-44bb-8447-3c05d4c5d734",
   "metadata": {},
   "outputs": [
    {
     "name": "stdout",
     "output_type": "stream",
     "text": [
      "\n",
      "CREATE OR REPLACE TABLE `statmike-mlops-349915.bqml_2024.thelook_topMensProducts` AS\n",
      "WITH\n",
      "    TOP5 AS (\n",
      "        SELECT product_id, count(*) as total\n",
      "        FROM `bigquery-public-data.thelook_ecommerce.order_items`\n",
      "        GROUP BY product_id\n",
      "    )\n",
      "SELECT\n",
      "    t.product_id,\n",
      "    t.total,\n",
      "    p.category,\n",
      "    p.department,\n",
      "    p.name\n",
      "FROM TOP5 as t\n",
      "JOIN `bigquery-public-data.thelook_ecommerce.products` as p on p.id = t.product_id\n",
      "WHERE p.department = 'Men'\n",
      "ORDER by t.total DESC\n",
      "LIMIT 5\n",
      "\n"
     ]
    }
   ],
   "source": [
    "query = f'''\n",
    "CREATE OR REPLACE TABLE `{BQ_PROJECT}.{BQ_DATASET}.{BQ_TABLE_PREFIX}_topMensProducts` AS\n",
    "WITH\n",
    "    TOP5 AS (\n",
    "        SELECT product_id, count(*) as total\n",
    "        FROM `{BQ_SOURCE_DATASET}.order_items`\n",
    "        GROUP BY product_id\n",
    "    )\n",
    "SELECT\n",
    "    t.product_id,\n",
    "    t.total,\n",
    "    p.category,\n",
    "    p.department,\n",
    "    p.name\n",
    "FROM TOP5 as t\n",
    "JOIN `{BQ_SOURCE_DATASET}.products` as p on p.id = t.product_id\n",
    "WHERE p.department = 'Men'\n",
    "ORDER by t.total DESC\n",
    "LIMIT 5\n",
    "'''\n",
    "print(query)"
   ]
  },
  {
   "cell_type": "code",
   "execution_count": 178,
   "id": "fb2e5569-a807-4cf2-b6e0-0afa2ebdeff4",
   "metadata": {},
   "outputs": [
    {
     "data": {
      "text/plain": [
       "<google.cloud.bigquery.table._EmptyRowIterator at 0x7fb9a1f6a920>"
      ]
     },
     "execution_count": 178,
     "metadata": {},
     "output_type": "execute_result"
    }
   ],
   "source": [
    "job = bq.query(query = query)\n",
    "job.result()"
   ]
  },
  {
   "cell_type": "code",
   "execution_count": 180,
   "id": "f48c8402-ba41-47f0-b324-1c2ad874e2ae",
   "metadata": {},
   "outputs": [
    {
     "name": "stdout",
     "output_type": "stream",
     "text": [
      "\n",
      "CREATE OR REPLACE TABLE `statmike-mlops-349915.bqml_2024.thelook_topMensProducts` AS\n",
      "SELECT\n",
      "    * EXCEPT(ml_generate_text_llm_result, ml_generate_text_status),\n",
      "    ml_generate_text_llm_result as description\n",
      "FROM ML.GENERATE_TEXT(\n",
      "    MODEL `statmike-mlops-349915.bqml_2024.VERTEX_LLM`,\n",
      "    (SELECT *,\n",
      "        CONCAT(\n",
      "            'Create a descriptive paragraph of no more than 25 words for a product with in a department named ', department,\n",
      "            ', category named \"', category, '\"',\n",
      "            'and the following description: ', name\n",
      "        ) as prompt\n",
      "        FROM `statmike-mlops-349915.bqml_2024.thelook_topMensProducts`),\n",
      "    STRUCT(200 AS max_output_tokens, TRUE AS flatten_json_output)\n",
      ")\n",
      "\n"
     ]
    }
   ],
   "source": [
    "query = f'''\n",
    "CREATE OR REPLACE TABLE `{BQ_PROJECT}.{BQ_DATASET}.{BQ_TABLE_PREFIX}_topMensProducts` AS\n",
    "SELECT\n",
    "    * EXCEPT(ml_generate_text_llm_result, ml_generate_text_status),\n",
    "    ml_generate_text_llm_result as description\n",
    "FROM ML.GENERATE_TEXT(\n",
    "    MODEL `{BQ_PROJECT}.{BQ_DATASET}.VERTEX_LLM`,\n",
    "    (SELECT *,\n",
    "        CONCAT(\n",
    "            'Create a descriptive paragraph of no more than 25 words for a product with in a department named ', department,\n",
    "            ', category named \"', category, '\"',\n",
    "            'and the following description: ', name\n",
    "        ) as prompt\n",
    "        FROM `{BQ_PROJECT}.{BQ_DATASET}.{BQ_TABLE_PREFIX}_topMensProducts`),\n",
    "    STRUCT(200 AS max_output_tokens, TRUE AS flatten_json_output)\n",
    ")\n",
    "'''\n",
    "print(query)"
   ]
  },
  {
   "cell_type": "code",
   "execution_count": 181,
   "id": "c24e2e2f-c057-4863-840f-95d9935fd7d0",
   "metadata": {},
   "outputs": [
    {
     "data": {
      "text/plain": [
       "<google.cloud.bigquery.table._EmptyRowIterator at 0x7fb9a1f6a380>"
      ]
     },
     "execution_count": 181,
     "metadata": {},
     "output_type": "execute_result"
    }
   ],
   "source": [
    "job = bq.query(query = query)\n",
    "job.result()"
   ]
  },
  {
   "cell_type": "code",
   "execution_count": 183,
   "id": "fc4f2b4b-15fb-4494-bf0b-bf86acc93818",
   "metadata": {},
   "outputs": [
    {
     "name": "stdout",
     "output_type": "stream",
     "text": [
      "\n",
      "CREATE OR REPLACE TABLE `statmike-mlops-349915.bqml_2024.thelook_topMensProducts` AS\n",
      "SELECT\n",
      "    * EXCEPT(text_content, ml_understand_text_result, ml_understand_text_status),\n",
      "    ml_understand_text_result.document_sentiment.score as sentiment_score\n",
      "FROM ML.UNDERSTAND_TEXT(\n",
      "    MODEL `statmike-mlops-349915.bqml_2024.CLOUD_NLP`,\n",
      "    (SELECT *, description as text_content\n",
      "        FROM `statmike-mlops-349915.bqml_2024.thelook_topMensProducts`),\n",
      "    STRUCT('ANALYZE_SENTIMENT' AS nlu_option)\n",
      ")\n",
      "\n"
     ]
    }
   ],
   "source": [
    "query = f'''\n",
    "CREATE OR REPLACE TABLE `{BQ_PROJECT}.{BQ_DATASET}.{BQ_TABLE_PREFIX}_topMensProducts` AS\n",
    "SELECT\n",
    "    * EXCEPT(text_content, ml_understand_text_result, ml_understand_text_status),\n",
    "    ml_understand_text_result.document_sentiment.score as sentiment_score\n",
    "FROM ML.UNDERSTAND_TEXT(\n",
    "    MODEL `{BQ_PROJECT}.{BQ_DATASET}.CLOUD_NLP`,\n",
    "    (SELECT *, description as text_content\n",
    "        FROM `{BQ_PROJECT}.{BQ_DATASET}.{BQ_TABLE_PREFIX}_topMensProducts`),\n",
    "    STRUCT('ANALYZE_SENTIMENT' AS nlu_option)\n",
    ")\n",
    "'''\n",
    "print(query)"
   ]
  },
  {
   "cell_type": "code",
   "execution_count": 184,
   "id": "7b064189-ec20-4fa7-a07f-81857f80c990",
   "metadata": {},
   "outputs": [
    {
     "data": {
      "text/plain": [
       "<google.cloud.bigquery.table._EmptyRowIterator at 0x7fb9a1f68340>"
      ]
     },
     "execution_count": 184,
     "metadata": {},
     "output_type": "execute_result"
    }
   ],
   "source": [
    "job = bq.query(query = query)\n",
    "job.result()"
   ]
  },
  {
   "cell_type": "code",
   "execution_count": 188,
   "id": "89f919e2-1538-40de-80e5-581080c6b38e",
   "metadata": {},
   "outputs": [
    {
     "name": "stdout",
     "output_type": "stream",
     "text": [
      "\n",
      "CREATE OR REPLACE TABLE `statmike-mlops-349915.bqml_2024.thelook_topMensProducts` AS\n",
      "SELECT\n",
      "    * EXCEPT(text_content, ml_translate_result, ml_translate_status),\n",
      "    ml_translate_result.translations[0].translated_text\n",
      "FROM ML.TRANSLATE(\n",
      "    MODEL `statmike-mlops-349915.bqml_2024.CLOUD_TRANSLATE`,\n",
      "    (SELECT *, description as text_content\n",
      "        FROM `statmike-mlops-349915.bqml_2024.thelook_topMensProducts`),\n",
      "    STRUCT('TRANSLATE_TEXT' AS translate_mode, 'es' AS target_language_code)\n",
      ")\n",
      "\n"
     ]
    }
   ],
   "source": [
    "query = f'''\n",
    "CREATE OR REPLACE TABLE `{BQ_PROJECT}.{BQ_DATASET}.{BQ_TABLE_PREFIX}_topMensProducts` AS\n",
    "SELECT\n",
    "    * EXCEPT(text_content, ml_translate_result, ml_translate_status),\n",
    "    ml_translate_result.translations[0].translated_text\n",
    "FROM ML.TRANSLATE(\n",
    "    MODEL `{BQ_PROJECT}.{BQ_DATASET}.CLOUD_TRANSLATE`,\n",
    "    (SELECT *, description as text_content\n",
    "        FROM `{BQ_PROJECT}.{BQ_DATASET}.{BQ_TABLE_PREFIX}_topMensProducts`),\n",
    "    STRUCT('TRANSLATE_TEXT' AS translate_mode, 'es' AS target_language_code)\n",
    ")\n",
    "'''\n",
    "print(query)"
   ]
  },
  {
   "cell_type": "code",
   "execution_count": 189,
   "id": "24d85d58-6805-414d-9605-b3409fd007ea",
   "metadata": {},
   "outputs": [
    {
     "data": {
      "text/plain": [
       "<google.cloud.bigquery.table._EmptyRowIterator at 0x7fb9a1f6a1a0>"
      ]
     },
     "execution_count": 189,
     "metadata": {},
     "output_type": "execute_result"
    }
   ],
   "source": [
    "job = bq.query(query = query)\n",
    "job.result()"
   ]
  },
  {
   "cell_type": "markdown",
   "id": "e7a8489e-7e40-4941-9c42-79328d3d1787",
   "metadata": {},
   "source": [
    "---\n",
    "## Prepare Data"
   ]
  },
  {
   "cell_type": "code",
   "execution_count": 227,
   "id": "908c4014-66ce-4d8a-b076-fb2d13ecde39",
   "metadata": {},
   "outputs": [],
   "source": [
    "query = f'''\n",
    "CREATE OR REPLACE TABLE `{BQ_PROJECT}.{BQ_DATASET}.{BQ_TABLE_PREFIX}_raw` AS (\n",
    "    SELECT\n",
    "        DATE(o.created_at) as order_date,\n",
    "        o.order_id as order_id,\n",
    "        o.user_id AS customer_id,\n",
    "        oi.sale_price as unit_price,\n",
    "        oi.product_id as product_id,\n",
    "        oi.sale_price as revenue,\n",
    "        u.age as age,\n",
    "        u.country as country,\n",
    "        u.gender as gender\n",
    "    FROM `{BQ_SOURCE_DATASET}.orders` as o\n",
    "    JOIN `{BQ_SOURCE_DATASET}.order_items` as oi ON o.user_id = oi.user_id\n",
    "    JOIN `{BQ_SOURCE_DATASET}.users` as u ON o.user_id = u.id\n",
    "    #WHERE DATE(o.created_at) < DATE_SUB(CURRENT_DATE(), INTERVAL 12 MONTH)\n",
    ");\n",
    "'''"
   ]
  },
  {
   "cell_type": "code",
   "execution_count": 228,
   "id": "0ab62e4a-6f90-4ef9-8e84-b651e5f505a6",
   "metadata": {
    "tags": []
   },
   "outputs": [
    {
     "name": "stdout",
     "output_type": "stream",
     "text": [
      "\n",
      "CREATE OR REPLACE TABLE `statmike-mlops-349915.bqml_2024.thelook_raw` AS (\n",
      "    SELECT\n",
      "        DATE(o.created_at) as order_date,\n",
      "        o.order_id as order_id,\n",
      "        o.user_id AS customer_id,\n",
      "        oi.sale_price as unit_price,\n",
      "        oi.product_id as product_id,\n",
      "        oi.sale_price as revenue,\n",
      "        u.age as age,\n",
      "        u.country as country,\n",
      "        u.gender as gender\n",
      "    FROM `bigquery-public-data.thelook_ecommerce.orders` as o\n",
      "    JOIN `bigquery-public-data.thelook_ecommerce.order_items` as oi ON o.user_id = oi.user_id\n",
      "    JOIN `bigquery-public-data.thelook_ecommerce.users` as u ON o.user_id = u.id\n",
      "    #WHERE DATE(o.created_at) < DATE_SUB(CURRENT_DATE(), INTERVAL 12 MONTH)\n",
      ");\n",
      "\n"
     ]
    }
   ],
   "source": [
    "print(query)"
   ]
  },
  {
   "cell_type": "code",
   "execution_count": 229,
   "id": "91bc6c61-0803-467a-89ee-44dabd91c7ab",
   "metadata": {
    "tags": []
   },
   "outputs": [
    {
     "data": {
      "text/plain": [
       "<google.cloud.bigquery.table._EmptyRowIterator at 0x7fb9a1ca0910>"
      ]
     },
     "execution_count": 229,
     "metadata": {},
     "output_type": "execute_result"
    }
   ],
   "source": [
    "job = bq.query(query = query)\n",
    "job.result()"
   ]
  },
  {
   "cell_type": "code",
   "execution_count": 230,
   "id": "a20736f5-ed9c-4bbd-aa04-a4feb188e831",
   "metadata": {
    "tags": []
   },
   "outputs": [],
   "source": [
    "query = f\"\"\"\n",
    "CREATE OR REPLACE TABLE `{BQ_PROJECT}.{BQ_DATASET}.{BQ_TABLE_PREFIX}_features` AS\n",
    "WITH\n",
    "    get_rfm AS (\n",
    "        SELECT\n",
    "            customer_id, age, gender, country,\n",
    "            DATE_DIFF(DATE_SUB(CURRENT_DATE(), INTERVAL 12 MONTH), MAX(order_date), DAY) AS recency,\n",
    "            COUNT(order_id) AS frequency,\n",
    "            SUM(revenue) AS monetary,\n",
    "        FROM `{BQ_PROJECT}.{BQ_DATASET}.{BQ_TABLE_PREFIX}_raw`\n",
    "        WHERE order_date < DATE_SUB(CURRENT_DATE(), INTERVAL 12 MONTH)\n",
    "        GROUP BY customer_id, age, gender, country\n",
    "    ),\n",
    "    get_quartiles AS (\n",
    "        SELECT\n",
    "            customer_id,\n",
    "            NTILE(4) OVER (ORDER BY recency ASC) AS recency_quartile,\n",
    "            NTILE(4) OVER (ORDER BY frequency DESC) AS frequency_quartile,\n",
    "            NTILE(4) OVER (ORDER BY monetary DESC) AS monetary_quartile,\n",
    "        FROM get_rfm\n",
    "    ),\n",
    "    get_rfm_score AS (\n",
    "        SELECT\n",
    "            customer_id,\n",
    "            recency_quartile + frequency_quartile + monetary_quartile AS rfm_score\n",
    "        FROM get_quartiles\n",
    "    )\n",
    "SELECT\n",
    "    CAST(rfm.customer_id AS STRING) AS customer_id,\n",
    "    rfm.age,\n",
    "    rfm.gender,\n",
    "    rfm.country,\n",
    "    rfm.recency,\n",
    "    rfm.frequency,\n",
    "    rfm.monetary,\n",
    "    q.recency_quartile,\n",
    "    q.frequency_quartile,\n",
    "    q.monetary_quartile,\n",
    "    rfms.rfm_score\n",
    "FROM get_rfm as rfm\n",
    "LEFT JOIN get_quartiles as q ON rfm.customer_id = q.customer_id\n",
    "LEFT JOIN get_rfm_score as rfms ON rfm.customer_id = rfms.customer_id\n",
    "\"\"\""
   ]
  },
  {
   "cell_type": "code",
   "execution_count": 231,
   "id": "08033d7f-a2d7-4ef7-bf7d-bff0bf2a26ee",
   "metadata": {
    "tags": []
   },
   "outputs": [
    {
     "name": "stdout",
     "output_type": "stream",
     "text": [
      "\n",
      "CREATE OR REPLACE TABLE `statmike-mlops-349915.bqml_2024.thelook_features` AS\n",
      "WITH\n",
      "    get_rfm AS (\n",
      "        SELECT\n",
      "            customer_id, age, gender, country,\n",
      "            DATE_DIFF(DATE_SUB(CURRENT_DATE(), INTERVAL 12 MONTH), MAX(order_date), DAY) AS recency,\n",
      "            COUNT(order_id) AS frequency,\n",
      "            SUM(revenue) AS monetary,\n",
      "        FROM `statmike-mlops-349915.bqml_2024.thelook_raw`\n",
      "        WHERE order_date < DATE_SUB(CURRENT_DATE(), INTERVAL 12 MONTH)\n",
      "        GROUP BY customer_id, age, gender, country\n",
      "    ),\n",
      "    get_quartiles AS (\n",
      "        SELECT\n",
      "            customer_id,\n",
      "            NTILE(4) OVER (ORDER BY recency ASC) AS recency_quartile,\n",
      "            NTILE(4) OVER (ORDER BY frequency DESC) AS frequency_quartile,\n",
      "            NTILE(4) OVER (ORDER BY monetary DESC) AS monetary_quartile,\n",
      "        FROM get_rfm\n",
      "    ),\n",
      "    get_rfm_score AS (\n",
      "        SELECT\n",
      "            customer_id,\n",
      "            recency_quartile + frequency_quartile + monetary_quartile AS rfm_score\n",
      "        FROM get_quartiles\n",
      "    )\n",
      "SELECT\n",
      "    CAST(rfm.customer_id AS STRING) AS customer_id,\n",
      "    rfm.age,\n",
      "    rfm.gender,\n",
      "    rfm.country,\n",
      "    rfm.recency,\n",
      "    rfm.frequency,\n",
      "    rfm.monetary,\n",
      "    q.recency_quartile,\n",
      "    q.frequency_quartile,\n",
      "    q.monetary_quartile,\n",
      "    rfms.rfm_score\n",
      "FROM get_rfm as rfm\n",
      "LEFT JOIN get_quartiles as q ON rfm.customer_id = q.customer_id\n",
      "LEFT JOIN get_rfm_score as rfms ON rfm.customer_id = rfms.customer_id\n",
      "\n"
     ]
    }
   ],
   "source": [
    "print(query)"
   ]
  },
  {
   "cell_type": "code",
   "execution_count": 232,
   "id": "8d6a64a4-abd3-4a7d-b07a-0ced65dbc65c",
   "metadata": {
    "tags": []
   },
   "outputs": [
    {
     "data": {
      "text/plain": [
       "<google.cloud.bigquery.table._EmptyRowIterator at 0x7fb9a1ca3070>"
      ]
     },
     "execution_count": 232,
     "metadata": {},
     "output_type": "execute_result"
    }
   ],
   "source": [
    "job = bq.query(query = query)\n",
    "job.result()"
   ]
  },
  {
   "cell_type": "markdown",
   "id": "e0fa9321-161a-46c3-9687-b90bae24503e",
   "metadata": {},
   "source": [
    "---\n",
    "## Customer Segmentation"
   ]
  },
  {
   "cell_type": "code",
   "execution_count": 23,
   "id": "7964c4de-8f47-4c95-ae47-1371f6dc5a9c",
   "metadata": {
    "tags": []
   },
   "outputs": [],
   "source": [
    "query = f'''\n",
    "CREATE MODEL IF NOT EXISTS `{BQ_PROJECT}.{BQ_DATASET}.{BQ_TABLE_PREFIX}_features_kmeans`\n",
    "OPTIONS (\n",
    "    # model specs\n",
    "        model_type = 'KMEANS',\n",
    "        num_clusters = HPARAM_RANGE(2, 20),\n",
    "        kmeans_init_method = 'KMEANS++',\n",
    "        distance_type = 'EUCLIDEAN', \n",
    "        standardize_features = TRUE,\n",
    "        \n",
    "    # training specs\n",
    "        max_iterations = 25,\n",
    "        early_stop = TRUE,\n",
    "        min_rel_progress = 0.005,\n",
    "        \n",
    "    # hyperparameter specs\n",
    "        hparam_tuning_algorithm = 'VIZIER_DEFAULT',\n",
    "        hparam_tuning_objectives = ['davies_bouldin_index'],\n",
    "        num_trials = 12,\n",
    "        max_parallel_trials = 3\n",
    "    ) AS\n",
    "SELECT * EXCEPT(customer_id)\n",
    "FROM `{BQ_PROJECT}.{BQ_DATASET}.{BQ_TABLE_PREFIX}_features`\n",
    "'''"
   ]
  },
  {
   "cell_type": "code",
   "execution_count": 24,
   "id": "e8b6f810-df9d-429d-85ea-2aa1677e16b5",
   "metadata": {
    "tags": []
   },
   "outputs": [
    {
     "name": "stdout",
     "output_type": "stream",
     "text": [
      "\n",
      "CREATE MODEL IF NOT EXISTS `statmike-mlops-349915.bqml_2024.thelook_features_kmeans`\n",
      "OPTIONS (\n",
      "        # model specs\n",
      "        model_type = 'KMEANS',\n",
      "        num_clusters = HPARAM_RANGE(2, 20),\n",
      "        kmeans_init_method = 'KMEANS++',\n",
      "        distance_type = 'EUCLIDEAN', \n",
      "        standardize_features = TRUE,\n",
      "        \n",
      "        # training specs\n",
      "        max_iterations = 25,\n",
      "        early_stop = TRUE,\n",
      "        min_rel_progress = 0.005,\n",
      "        \n",
      "        # hyperparameter specs\n",
      "        hparam_tuning_algorithm = 'VIZIER_DEFAULT',\n",
      "        hparam_tuning_objectives = ['davies_bouldin_index'],\n",
      "        num_trials = 12,\n",
      "        max_parallel_trials = 3\n",
      "    ) AS\n",
      "SELECT * EXCEPT(customer_id)\n",
      "FROM `statmike-mlops-349915.bqml_2024.thelook_features`\n",
      "\n"
     ]
    }
   ],
   "source": [
    "print(query)"
   ]
  },
  {
   "cell_type": "code",
   "execution_count": 25,
   "id": "3c24cea9-e210-4853-a0cd-4e7d78e5c8e4",
   "metadata": {
    "tags": []
   },
   "outputs": [
    {
     "data": {
      "text/plain": [
       "<google.cloud.bigquery.table._EmptyRowIterator at 0x7fb97d8ec430>"
      ]
     },
     "execution_count": 25,
     "metadata": {},
     "output_type": "execute_result"
    }
   ],
   "source": [
    "job = bq.query(query = query)\n",
    "job.result()"
   ]
  },
  {
   "cell_type": "code",
   "execution_count": 29,
   "id": "f70e709b-61a1-4f80-b056-6af57d26ee6f",
   "metadata": {
    "tags": []
   },
   "outputs": [],
   "source": [
    "query = f'''\n",
    "SELECT *\n",
    "FROM ML.PREDICT (\n",
    "    MODEL `{BQ_PROJECT}.{BQ_DATASET}.{BQ_TABLE_PREFIX}_features_kmeans`,\n",
    "    (SELECT * FROM `{BQ_PROJECT}.{BQ_DATASET}.{BQ_TABLE_PREFIX}_features` LIMIT 5)\n",
    ")\n",
    "'''"
   ]
  },
  {
   "cell_type": "code",
   "execution_count": 30,
   "id": "caec0dd8-9b34-4cc9-81c3-cec51f125681",
   "metadata": {
    "tags": []
   },
   "outputs": [
    {
     "name": "stdout",
     "output_type": "stream",
     "text": [
      "\n",
      "SELECT *\n",
      "FROM ML.PREDICT (\n",
      "    MODEL `statmike-mlops-349915.bqml_2024.thelook_features_kmeans`,\n",
      "    (SELECT * FROM `statmike-mlops-349915.bqml_2024.thelook_features` LIMIT 5)\n",
      ")\n",
      "\n"
     ]
    }
   ],
   "source": [
    "print(query)"
   ]
  },
  {
   "cell_type": "code",
   "execution_count": 31,
   "id": "e289cb17-1572-4312-b7b4-eafb715a14ec",
   "metadata": {
    "tags": []
   },
   "outputs": [
    {
     "data": {
      "text/html": [
       "<div>\n",
       "<style scoped>\n",
       "    .dataframe tbody tr th:only-of-type {\n",
       "        vertical-align: middle;\n",
       "    }\n",
       "\n",
       "    .dataframe tbody tr th {\n",
       "        vertical-align: top;\n",
       "    }\n",
       "\n",
       "    .dataframe thead th {\n",
       "        text-align: right;\n",
       "    }\n",
       "</style>\n",
       "<table border=\"1\" class=\"dataframe\">\n",
       "  <thead>\n",
       "    <tr style=\"text-align: right;\">\n",
       "      <th></th>\n",
       "      <th>trial_id</th>\n",
       "      <th>CENTROID_ID</th>\n",
       "      <th>NEAREST_CENTROIDS_DISTANCE</th>\n",
       "      <th>customer_id</th>\n",
       "      <th>age</th>\n",
       "      <th>gender</th>\n",
       "      <th>country</th>\n",
       "      <th>recency</th>\n",
       "      <th>frequency</th>\n",
       "      <th>monetary</th>\n",
       "      <th>recency_quartile</th>\n",
       "      <th>frequency_quartile</th>\n",
       "      <th>monetary_quartile</th>\n",
       "      <th>rfm_score</th>\n",
       "    </tr>\n",
       "  </thead>\n",
       "  <tbody>\n",
       "    <tr>\n",
       "      <th>0</th>\n",
       "      <td>9</td>\n",
       "      <td>4</td>\n",
       "      <td>[{'CENTROID_ID': 4, 'DISTANCE': 1.622465202475...</td>\n",
       "      <td>96858</td>\n",
       "      <td>25</td>\n",
       "      <td>M</td>\n",
       "      <td>United States</td>\n",
       "      <td>256</td>\n",
       "      <td>15</td>\n",
       "      <td>839.730002</td>\n",
       "      <td>2</td>\n",
       "      <td>1</td>\n",
       "      <td>1</td>\n",
       "      <td>4</td>\n",
       "    </tr>\n",
       "    <tr>\n",
       "      <th>1</th>\n",
       "      <td>9</td>\n",
       "      <td>5</td>\n",
       "      <td>[{'CENTROID_ID': 5, 'DISTANCE': 1.276421759796...</td>\n",
       "      <td>12924</td>\n",
       "      <td>43</td>\n",
       "      <td>M</td>\n",
       "      <td>China</td>\n",
       "      <td>256</td>\n",
       "      <td>6</td>\n",
       "      <td>418.979996</td>\n",
       "      <td>2</td>\n",
       "      <td>1</td>\n",
       "      <td>1</td>\n",
       "      <td>4</td>\n",
       "    </tr>\n",
       "    <tr>\n",
       "      <th>2</th>\n",
       "      <td>9</td>\n",
       "      <td>5</td>\n",
       "      <td>[{'CENTROID_ID': 5, 'DISTANCE': 2.007600684805...</td>\n",
       "      <td>34914</td>\n",
       "      <td>66</td>\n",
       "      <td>M</td>\n",
       "      <td>United Kingdom</td>\n",
       "      <td>256</td>\n",
       "      <td>8</td>\n",
       "      <td>567.260008</td>\n",
       "      <td>2</td>\n",
       "      <td>1</td>\n",
       "      <td>1</td>\n",
       "      <td>4</td>\n",
       "    </tr>\n",
       "    <tr>\n",
       "      <th>3</th>\n",
       "      <td>9</td>\n",
       "      <td>5</td>\n",
       "      <td>[{'CENTROID_ID': 5, 'DISTANCE': 1.926941909655...</td>\n",
       "      <td>61152</td>\n",
       "      <td>29</td>\n",
       "      <td>F</td>\n",
       "      <td>Brasil</td>\n",
       "      <td>256</td>\n",
       "      <td>6</td>\n",
       "      <td>747.160000</td>\n",
       "      <td>2</td>\n",
       "      <td>1</td>\n",
       "      <td>1</td>\n",
       "      <td>4</td>\n",
       "    </tr>\n",
       "    <tr>\n",
       "      <th>4</th>\n",
       "      <td>9</td>\n",
       "      <td>4</td>\n",
       "      <td>[{'CENTROID_ID': 4, 'DISTANCE': 1.350996319935...</td>\n",
       "      <td>5150</td>\n",
       "      <td>45</td>\n",
       "      <td>F</td>\n",
       "      <td>Australia</td>\n",
       "      <td>256</td>\n",
       "      <td>18</td>\n",
       "      <td>980.790018</td>\n",
       "      <td>2</td>\n",
       "      <td>1</td>\n",
       "      <td>1</td>\n",
       "      <td>4</td>\n",
       "    </tr>\n",
       "  </tbody>\n",
       "</table>\n",
       "</div>"
      ],
      "text/plain": [
       "   trial_id  CENTROID_ID                         NEAREST_CENTROIDS_DISTANCE  \\\n",
       "0         9            4  [{'CENTROID_ID': 4, 'DISTANCE': 1.622465202475...   \n",
       "1         9            5  [{'CENTROID_ID': 5, 'DISTANCE': 1.276421759796...   \n",
       "2         9            5  [{'CENTROID_ID': 5, 'DISTANCE': 2.007600684805...   \n",
       "3         9            5  [{'CENTROID_ID': 5, 'DISTANCE': 1.926941909655...   \n",
       "4         9            4  [{'CENTROID_ID': 4, 'DISTANCE': 1.350996319935...   \n",
       "\n",
       "  customer_id  age gender         country  recency  frequency    monetary  \\\n",
       "0       96858   25      M   United States      256         15  839.730002   \n",
       "1       12924   43      M           China      256          6  418.979996   \n",
       "2       34914   66      M  United Kingdom      256          8  567.260008   \n",
       "3       61152   29      F          Brasil      256          6  747.160000   \n",
       "4        5150   45      F       Australia      256         18  980.790018   \n",
       "\n",
       "   recency_quartile  frequency_quartile  monetary_quartile  rfm_score  \n",
       "0                 2                   1                  1          4  \n",
       "1                 2                   1                  1          4  \n",
       "2                 2                   1                  1          4  \n",
       "3                 2                   1                  1          4  \n",
       "4                 2                   1                  1          4  "
      ]
     },
     "execution_count": 31,
     "metadata": {},
     "output_type": "execute_result"
    }
   ],
   "source": [
    "job = bq.query(query = query)\n",
    "job.result()\n",
    "job.to_dataframe()"
   ]
  },
  {
   "cell_type": "code",
   "execution_count": 225,
   "id": "45cbb65a-806c-4d33-8330-65e1c91c7d80",
   "metadata": {
    "tags": []
   },
   "outputs": [
    {
     "name": "stdout",
     "output_type": "stream",
     "text": [
      "\n",
      "SELECT *\n",
      "FROM (\n",
      "    SELECT *\n",
      "    FROM ML.DETECT_ANOMALIES (\n",
      "        MODEL `statmike-mlops-349915.bqml_2024.thelook_features_kmeans`,\n",
      "        STRUCT(0.01 AS contamination),\n",
      "        (SELECT * FROM `statmike-mlops-349915.bqml_2024.thelook_features`)\n",
      "    )\n",
      ")\n",
      "WHERE is_anomaly = TRUE\n",
      "ORDER BY normalized_distance DESC\n",
      "\n"
     ]
    }
   ],
   "source": [
    "query = f'''\n",
    "SELECT *\n",
    "FROM (\n",
    "    SELECT *\n",
    "    FROM ML.DETECT_ANOMALIES (\n",
    "        MODEL `{BQ_PROJECT}.{BQ_DATASET}.{BQ_TABLE_PREFIX}_features_kmeans`,\n",
    "        STRUCT(0.01 AS contamination),\n",
    "        (SELECT * FROM `{BQ_PROJECT}.{BQ_DATASET}.{BQ_TABLE_PREFIX}_features`)\n",
    "    )\n",
    ")\n",
    "WHERE is_anomaly = TRUE\n",
    "ORDER BY normalized_distance DESC\n",
    "'''\n",
    "print(query)"
   ]
  },
  {
   "cell_type": "code",
   "execution_count": 226,
   "id": "46f76d4a-22f1-48b8-963b-ee4f6ad42865",
   "metadata": {
    "tags": []
   },
   "outputs": [
    {
     "data": {
      "text/html": [
       "<div>\n",
       "<style scoped>\n",
       "    .dataframe tbody tr th:only-of-type {\n",
       "        vertical-align: middle;\n",
       "    }\n",
       "\n",
       "    .dataframe tbody tr th {\n",
       "        vertical-align: top;\n",
       "    }\n",
       "\n",
       "    .dataframe thead th {\n",
       "        text-align: right;\n",
       "    }\n",
       "</style>\n",
       "<table border=\"1\" class=\"dataframe\">\n",
       "  <thead>\n",
       "    <tr style=\"text-align: right;\">\n",
       "      <th></th>\n",
       "      <th>trial_id</th>\n",
       "      <th>is_anomaly</th>\n",
       "      <th>normalized_distance</th>\n",
       "      <th>CENTROID_ID</th>\n",
       "      <th>customer_id</th>\n",
       "      <th>age</th>\n",
       "      <th>gender</th>\n",
       "      <th>country</th>\n",
       "      <th>recency</th>\n",
       "      <th>frequency</th>\n",
       "      <th>monetary</th>\n",
       "      <th>recency_quartile</th>\n",
       "      <th>frequency_quartile</th>\n",
       "      <th>monetary_quartile</th>\n",
       "      <th>rfm_score</th>\n",
       "    </tr>\n",
       "  </thead>\n",
       "  <tbody>\n",
       "    <tr>\n",
       "      <th>0</th>\n",
       "      <td>9</td>\n",
       "      <td>True</td>\n",
       "      <td>3.475489</td>\n",
       "      <td>3</td>\n",
       "      <td>69909</td>\n",
       "      <td>66</td>\n",
       "      <td>M</td>\n",
       "      <td>Germany</td>\n",
       "      <td>168</td>\n",
       "      <td>40</td>\n",
       "      <td>6026.319988</td>\n",
       "      <td>2</td>\n",
       "      <td>1</td>\n",
       "      <td>1</td>\n",
       "      <td>4</td>\n",
       "    </tr>\n",
       "    <tr>\n",
       "      <th>1</th>\n",
       "      <td>9</td>\n",
       "      <td>True</td>\n",
       "      <td>3.322007</td>\n",
       "      <td>3</td>\n",
       "      <td>65171</td>\n",
       "      <td>23</td>\n",
       "      <td>F</td>\n",
       "      <td>France</td>\n",
       "      <td>153</td>\n",
       "      <td>36</td>\n",
       "      <td>5924.119995</td>\n",
       "      <td>2</td>\n",
       "      <td>1</td>\n",
       "      <td>1</td>\n",
       "      <td>4</td>\n",
       "    </tr>\n",
       "    <tr>\n",
       "      <th>2</th>\n",
       "      <td>9</td>\n",
       "      <td>True</td>\n",
       "      <td>2.932821</td>\n",
       "      <td>3</td>\n",
       "      <td>71161</td>\n",
       "      <td>35</td>\n",
       "      <td>M</td>\n",
       "      <td>Belgium</td>\n",
       "      <td>220</td>\n",
       "      <td>36</td>\n",
       "      <td>5500.040016</td>\n",
       "      <td>2</td>\n",
       "      <td>1</td>\n",
       "      <td>1</td>\n",
       "      <td>4</td>\n",
       "    </tr>\n",
       "    <tr>\n",
       "      <th>3</th>\n",
       "      <td>9</td>\n",
       "      <td>True</td>\n",
       "      <td>2.849891</td>\n",
       "      <td>3</td>\n",
       "      <td>88447</td>\n",
       "      <td>38</td>\n",
       "      <td>M</td>\n",
       "      <td>United States</td>\n",
       "      <td>123</td>\n",
       "      <td>40</td>\n",
       "      <td>5326.719986</td>\n",
       "      <td>2</td>\n",
       "      <td>1</td>\n",
       "      <td>1</td>\n",
       "      <td>4</td>\n",
       "    </tr>\n",
       "    <tr>\n",
       "      <th>4</th>\n",
       "      <td>9</td>\n",
       "      <td>True</td>\n",
       "      <td>2.802084</td>\n",
       "      <td>3</td>\n",
       "      <td>60215</td>\n",
       "      <td>39</td>\n",
       "      <td>F</td>\n",
       "      <td>China</td>\n",
       "      <td>83</td>\n",
       "      <td>44</td>\n",
       "      <td>5129.719994</td>\n",
       "      <td>1</td>\n",
       "      <td>1</td>\n",
       "      <td>1</td>\n",
       "      <td>3</td>\n",
       "    </tr>\n",
       "    <tr>\n",
       "      <th>...</th>\n",
       "      <td>...</td>\n",
       "      <td>...</td>\n",
       "      <td>...</td>\n",
       "      <td>...</td>\n",
       "      <td>...</td>\n",
       "      <td>...</td>\n",
       "      <td>...</td>\n",
       "      <td>...</td>\n",
       "      <td>...</td>\n",
       "      <td>...</td>\n",
       "      <td>...</td>\n",
       "      <td>...</td>\n",
       "      <td>...</td>\n",
       "      <td>...</td>\n",
       "      <td>...</td>\n",
       "    </tr>\n",
       "    <tr>\n",
       "      <th>429</th>\n",
       "      <td>9</td>\n",
       "      <td>True</td>\n",
       "      <td>1.411050</td>\n",
       "      <td>1</td>\n",
       "      <td>3084</td>\n",
       "      <td>40</td>\n",
       "      <td>F</td>\n",
       "      <td>Germany</td>\n",
       "      <td>1108</td>\n",
       "      <td>10</td>\n",
       "      <td>966.799971</td>\n",
       "      <td>4</td>\n",
       "      <td>1</td>\n",
       "      <td>1</td>\n",
       "      <td>6</td>\n",
       "    </tr>\n",
       "    <tr>\n",
       "      <th>430</th>\n",
       "      <td>9</td>\n",
       "      <td>True</td>\n",
       "      <td>1.410962</td>\n",
       "      <td>4</td>\n",
       "      <td>48406</td>\n",
       "      <td>27</td>\n",
       "      <td>M</td>\n",
       "      <td>Brasil</td>\n",
       "      <td>646</td>\n",
       "      <td>9</td>\n",
       "      <td>1210.080002</td>\n",
       "      <td>4</td>\n",
       "      <td>1</td>\n",
       "      <td>1</td>\n",
       "      <td>6</td>\n",
       "    </tr>\n",
       "    <tr>\n",
       "      <th>431</th>\n",
       "      <td>9</td>\n",
       "      <td>True</td>\n",
       "      <td>1.410729</td>\n",
       "      <td>8</td>\n",
       "      <td>47029</td>\n",
       "      <td>22</td>\n",
       "      <td>M</td>\n",
       "      <td>United Kingdom</td>\n",
       "      <td>1229</td>\n",
       "      <td>2</td>\n",
       "      <td>125.950001</td>\n",
       "      <td>4</td>\n",
       "      <td>2</td>\n",
       "      <td>2</td>\n",
       "      <td>9</td>\n",
       "    </tr>\n",
       "    <tr>\n",
       "      <th>432</th>\n",
       "      <td>9</td>\n",
       "      <td>True</td>\n",
       "      <td>1.410650</td>\n",
       "      <td>1</td>\n",
       "      <td>27572</td>\n",
       "      <td>29</td>\n",
       "      <td>M</td>\n",
       "      <td>China</td>\n",
       "      <td>1363</td>\n",
       "      <td>4</td>\n",
       "      <td>175.410000</td>\n",
       "      <td>4</td>\n",
       "      <td>2</td>\n",
       "      <td>2</td>\n",
       "      <td>8</td>\n",
       "    </tr>\n",
       "    <tr>\n",
       "      <th>433</th>\n",
       "      <td>9</td>\n",
       "      <td>True</td>\n",
       "      <td>1.410256</td>\n",
       "      <td>1</td>\n",
       "      <td>71276</td>\n",
       "      <td>47</td>\n",
       "      <td>F</td>\n",
       "      <td>Brasil</td>\n",
       "      <td>1360</td>\n",
       "      <td>4</td>\n",
       "      <td>139.869999</td>\n",
       "      <td>4</td>\n",
       "      <td>2</td>\n",
       "      <td>2</td>\n",
       "      <td>8</td>\n",
       "    </tr>\n",
       "  </tbody>\n",
       "</table>\n",
       "<p>434 rows × 15 columns</p>\n",
       "</div>"
      ],
      "text/plain": [
       "     trial_id  is_anomaly  normalized_distance  CENTROID_ID customer_id  age  \\\n",
       "0           9        True             3.475489            3       69909   66   \n",
       "1           9        True             3.322007            3       65171   23   \n",
       "2           9        True             2.932821            3       71161   35   \n",
       "3           9        True             2.849891            3       88447   38   \n",
       "4           9        True             2.802084            3       60215   39   \n",
       "..        ...         ...                  ...          ...         ...  ...   \n",
       "429         9        True             1.411050            1        3084   40   \n",
       "430         9        True             1.410962            4       48406   27   \n",
       "431         9        True             1.410729            8       47029   22   \n",
       "432         9        True             1.410650            1       27572   29   \n",
       "433         9        True             1.410256            1       71276   47   \n",
       "\n",
       "    gender         country  recency  frequency     monetary  recency_quartile  \\\n",
       "0        M         Germany      168         40  6026.319988                 2   \n",
       "1        F          France      153         36  5924.119995                 2   \n",
       "2        M         Belgium      220         36  5500.040016                 2   \n",
       "3        M   United States      123         40  5326.719986                 2   \n",
       "4        F           China       83         44  5129.719994                 1   \n",
       "..     ...             ...      ...        ...          ...               ...   \n",
       "429      F         Germany     1108         10   966.799971                 4   \n",
       "430      M          Brasil      646          9  1210.080002                 4   \n",
       "431      M  United Kingdom     1229          2   125.950001                 4   \n",
       "432      M           China     1363          4   175.410000                 4   \n",
       "433      F          Brasil     1360          4   139.869999                 4   \n",
       "\n",
       "     frequency_quartile  monetary_quartile  rfm_score  \n",
       "0                     1                  1          4  \n",
       "1                     1                  1          4  \n",
       "2                     1                  1          4  \n",
       "3                     1                  1          4  \n",
       "4                     1                  1          3  \n",
       "..                  ...                ...        ...  \n",
       "429                   1                  1          6  \n",
       "430                   1                  1          6  \n",
       "431                   2                  2          9  \n",
       "432                   2                  2          8  \n",
       "433                   2                  2          8  \n",
       "\n",
       "[434 rows x 15 columns]"
      ]
     },
     "execution_count": 226,
     "metadata": {},
     "output_type": "execute_result"
    }
   ],
   "source": [
    "job = bq.query(query = query)\n",
    "job.result()\n",
    "job.to_dataframe()"
   ]
  },
  {
   "cell_type": "code",
   "execution_count": 213,
   "id": "4ab3193d-e1ff-488b-aafa-8a7a72635f4d",
   "metadata": {
    "tags": []
   },
   "outputs": [],
   "source": [
    "query = f'''\n",
    "CREATE OR REPLACE TABLE `{BQ_PROJECT}.{BQ_DATASET}.{BQ_TABLE_PREFIX}_segmentSummary` AS\n",
    "WITH\n",
    "    SEGMENTS AS (\n",
    "        SELECT * EXCEPT(TRIAL_ID, NEAREST_CENTROIDS_DISTANCE)\n",
    "        FROM ML.PREDICT (\n",
    "            MODEL `{BQ_PROJECT}.{BQ_DATASET}.{BQ_TABLE_PREFIX}_features_kmeans`,\n",
    "            (SELECT * FROM `{BQ_PROJECT}.{BQ_DATASET}.{BQ_TABLE_PREFIX}_features`)\n",
    "        )\n",
    "    )\n",
    "SELECT\n",
    "    CENTROID_ID,\n",
    "    100 * (count(*) / sum(count(*)) OVER()) AS pct,\n",
    "    AVG(age) AS avg_age,\n",
    "    APPROX_TOP_COUNT(gender, 1)[OFFSET(0)].value AS mode_gender,\n",
    "    APPROX_TOP_COUNT(country, 1)[OFFSET(0)].value AS first_country,\n",
    "    APPROX_TOP_COUNT(country, 2)[OFFSET(1)].value AS second_country,\n",
    "    APPROX_TOP_COUNT(country, 3)[OFFSET(2)].value AS third_country,\n",
    "    APPROX_TOP_COUNT(country, 4)[OFFSET(3)].value AS fourth_country,\n",
    "    AVG(recency) AS avg_recency,\n",
    "    AVG(frequency) AS avg_frequency,\n",
    "    AVG(monetary) AS avg_monetary,\n",
    "    APPROX_TOP_COUNT(recency_quartile, 1)[OFFSET(0)].value AS mode_recency_quartile,\n",
    "    APPROX_TOP_COUNT(frequency_quartile, 1)[OFFSET(0)].value AS mode_frequency_quartile,\n",
    "    APPROX_TOP_COUNT(monetary_quartile, 1)[OFFSET(0)].value AS mode_monetary_quartile,\n",
    "    AVG(rfm_score) as avg_rfm_score\n",
    "FROM SEGMENTS\n",
    "GROUP BY CENTROID_ID\n",
    "ORDER BY CENTROID_ID\n",
    "'''"
   ]
  },
  {
   "cell_type": "code",
   "execution_count": 214,
   "id": "5a7bdcc1-b264-448b-b562-74ac8443db17",
   "metadata": {
    "tags": []
   },
   "outputs": [
    {
     "name": "stdout",
     "output_type": "stream",
     "text": [
      "\n",
      "CREATE OR REPLACE TABLE `statmike-mlops-349915.bqml_2024.thelook_segmentSummary` AS\n",
      "WITH\n",
      "    SEGMENTS AS (\n",
      "        SELECT * EXCEPT(TRIAL_ID, NEAREST_CENTROIDS_DISTANCE)\n",
      "        FROM ML.PREDICT (\n",
      "            MODEL `statmike-mlops-349915.bqml_2024.thelook_features_kmeans`,\n",
      "            (SELECT * FROM `statmike-mlops-349915.bqml_2024.thelook_features`)\n",
      "        )\n",
      "    )\n",
      "SELECT\n",
      "    CENTROID_ID,\n",
      "    100 * (count(*) / sum(count(*)) OVER()) AS pct,\n",
      "    AVG(age) AS avg_age,\n",
      "    APPROX_TOP_COUNT(gender, 1)[OFFSET(0)].value AS mode_gender,\n",
      "    APPROX_TOP_COUNT(country, 1)[OFFSET(0)].value AS first_country,\n",
      "    APPROX_TOP_COUNT(country, 2)[OFFSET(1)].value AS second_country,\n",
      "    APPROX_TOP_COUNT(country, 3)[OFFSET(2)].value AS third_country,\n",
      "    APPROX_TOP_COUNT(country, 4)[OFFSET(3)].value AS fourth_country,\n",
      "    AVG(recency) AS avg_recency,\n",
      "    AVG(frequency) AS avg_frequency,\n",
      "    AVG(monetary) AS avg_monetary,\n",
      "    APPROX_TOP_COUNT(recency_quartile, 1)[OFFSET(0)].value AS mode_recency_quartile,\n",
      "    APPROX_TOP_COUNT(frequency_quartile, 1)[OFFSET(0)].value AS mode_frequency_quartile,\n",
      "    APPROX_TOP_COUNT(monetary_quartile, 1)[OFFSET(0)].value AS mode_monetary_quartile,\n",
      "    AVG(rfm_score) as avg_rfm_score\n",
      "FROM SEGMENTS\n",
      "GROUP BY CENTROID_ID\n",
      "ORDER BY CENTROID_ID\n",
      "\n"
     ]
    }
   ],
   "source": [
    "print(query)"
   ]
  },
  {
   "cell_type": "code",
   "execution_count": 215,
   "id": "35b93f9d-746d-490f-b868-135314152659",
   "metadata": {
    "tags": []
   },
   "outputs": [
    {
     "data": {
      "text/plain": [
       "<google.cloud.bigquery.table._EmptyRowIterator at 0x7fb9a1f69a50>"
      ]
     },
     "execution_count": 215,
     "metadata": {},
     "output_type": "execute_result"
    }
   ],
   "source": [
    "job = bq.query(query = query)\n",
    "job.result()"
   ]
  },
  {
   "cell_type": "code",
   "execution_count": 216,
   "id": "df98d0d4-03e3-48dc-8a90-a80fad21c818",
   "metadata": {},
   "outputs": [],
   "source": [
    "query = f'''\n",
    "WITH\n",
    "    SHOTS AS (\n",
    "        SELECT\n",
    "            CONCAT(\n",
    "                'Cluster ', CAST(CENTROID_ID AS STRING), ', ',\n",
    "                CAST(ROUND(pct, 2) AS STRING), ' percent of customers, ',\n",
    "                CAST(ROUND(avg_age, 2) AS STRING), ' average age of customers, ',\n",
    "                CAST(ROUND(avg_recency, 2) AS STRING), ' average days since order, ',\n",
    "                CAST(ROUND(avg_frequency, 2) AS STRING), ' average total orders, ', \n",
    "                CAST(ROUND(avg_monetary, 2) AS STRING), ' average total spend, ',\n",
    "                CAST(mode_recency_quartile AS STRING), ' most common quartile for days since order, ',\n",
    "                CAST(mode_frequency_quartile AS STRING), ' most common quartile for total orders, ',\n",
    "                CAST(mode_monetary_quartile AS STRING), ' most common quartile for total spend, ',\n",
    "                'most common countries: ', first_country, ', ', second_country, ', ', third_country, ', ', fourth_country,\n",
    "                '.'\n",
    "            ) as shot\n",
    "        FROM `{BQ_PROJECT}.{BQ_DATASET}.{BQ_TABLE_PREFIX}_segmentSummary`\n",
    "    ),\n",
    "    PROMPT AS (\n",
    "        SELECT\n",
    "            CONCAT(\n",
    "                'The customers for your retail store have be grouped in clusters. ',\n",
    "                'Create a description for each of these clusters:',\n",
    "                '\\\\n\\\\n',\n",
    "                STRING_AGG(shot, '\\\\n')\n",
    "            ) as prompt\n",
    "        FROM SHOTS\n",
    "    )\n",
    "SELECT *\n",
    "FROM PROMPT\n",
    "'''"
   ]
  },
  {
   "cell_type": "code",
   "execution_count": 217,
   "id": "70560230-a58e-46a8-8589-19d2eb94817b",
   "metadata": {
    "tags": []
   },
   "outputs": [
    {
     "name": "stdout",
     "output_type": "stream",
     "text": [
      "\n",
      "WITH\n",
      "    SHOTS AS (\n",
      "        SELECT\n",
      "            CONCAT(\n",
      "                'Cluster ', CAST(CENTROID_ID AS STRING), ', ',\n",
      "                CAST(ROUND(pct, 2) AS STRING), ' percent of customers, ',\n",
      "                CAST(ROUND(avg_age, 2) AS STRING), ' average age of customers, ',\n",
      "                CAST(ROUND(avg_recency, 2) AS STRING), ' average days since order, ',\n",
      "                CAST(ROUND(avg_frequency, 2) AS STRING), ' average total orders, ', \n",
      "                CAST(ROUND(avg_monetary, 2) AS STRING), ' average total spend, ',\n",
      "                CAST(mode_recency_quartile AS STRING), ' most common quartile for days since order, ',\n",
      "                CAST(mode_frequency_quartile AS STRING), ' most common quartile for total orders, ',\n",
      "                CAST(mode_monetary_quartile AS STRING), ' most common quartile for total spend, ',\n",
      "                'most common countries: ', first_country, ', ', second_country, ', ', third_country, ', ', fourth_country,\n",
      "                '.'\n",
      "            ) as shot\n",
      "        FROM `statmike-mlops-349915.bqml_2024.thelook_segmentSummary`\n",
      "    ),\n",
      "    PROMPT AS (\n",
      "        SELECT\n",
      "            CONCAT(\n",
      "                'The customers for your retail store have be grouped in clusters. ',\n",
      "                'Create a description for each of these clusters:',\n",
      "                '\\n\\n',\n",
      "                STRING_AGG(shot, '\\n')\n",
      "            ) as prompt\n",
      "        FROM SHOTS\n",
      "    )\n",
      "SELECT *\n",
      "FROM PROMPT\n",
      "\n"
     ]
    }
   ],
   "source": [
    "print(query)"
   ]
  },
  {
   "cell_type": "code",
   "execution_count": 218,
   "id": "2520b506-66e1-4a4d-86f4-3818dd9ce478",
   "metadata": {
    "tags": []
   },
   "outputs": [
    {
     "data": {
      "text/html": [
       "<div>\n",
       "<style scoped>\n",
       "    .dataframe tbody tr th:only-of-type {\n",
       "        vertical-align: middle;\n",
       "    }\n",
       "\n",
       "    .dataframe tbody tr th {\n",
       "        vertical-align: top;\n",
       "    }\n",
       "\n",
       "    .dataframe thead th {\n",
       "        text-align: right;\n",
       "    }\n",
       "</style>\n",
       "<table border=\"1\" class=\"dataframe\">\n",
       "  <thead>\n",
       "    <tr style=\"text-align: right;\">\n",
       "      <th></th>\n",
       "      <th>prompt</th>\n",
       "    </tr>\n",
       "  </thead>\n",
       "  <tbody>\n",
       "    <tr>\n",
       "      <th>0</th>\n",
       "      <td>The customers for your retail store have be gr...</td>\n",
       "    </tr>\n",
       "  </tbody>\n",
       "</table>\n",
       "</div>"
      ],
      "text/plain": [
       "                                              prompt\n",
       "0  The customers for your retail store have be gr..."
      ]
     },
     "execution_count": 218,
     "metadata": {},
     "output_type": "execute_result"
    }
   ],
   "source": [
    "job = bq.query(query = query)\n",
    "job.result()\n",
    "result = job.to_dataframe()\n",
    "result"
   ]
  },
  {
   "cell_type": "code",
   "execution_count": 219,
   "id": "4d4ee1e5-e73f-438a-9979-6e4f08965685",
   "metadata": {
    "tags": []
   },
   "outputs": [
    {
     "name": "stdout",
     "output_type": "stream",
     "text": [
      "The customers for your retail store have be grouped in clusters. Create a description for each of these clusters:\n",
      "\n",
      "Cluster 1, 13.65 percent of customers, 42.58 average age of customers, 617.76 average days since order, 5.39 average total orders, 337.03 average total spend, 4 most common quartile for days since order, 1 most common quartile for total orders, 1 most common quartile for total spend, most common countries: China, United States, Brasil, South Korea.\n",
      "Cluster 2, 13.77 percent of customers, 27.06 average age of customers, 187.85 average days since order, 2.93 average total orders, 164.61 average total spend, 1 most common quartile for days since order, 2 most common quartile for total orders, 2 most common quartile for total spend, most common countries: China, United States, Brasil, South Korea.\n",
      "Cluster 3, 1.11 percent of customers, 42.07 average age of customers, 200.99 average days since order, 25.24 average total orders, 2253.14 average total spend, 1 most common quartile for days since order, 1 most common quartile for total orders, 1 most common quartile for total spend, most common countries: China, United States, Brasil, South Korea.\n",
      "Cluster 4, 5.94 percent of customers, 40.45 average age of customers, 235.69 average days since order, 16.76 average total orders, 1014.62 average total spend, 2 most common quartile for days since order, 1 most common quartile for total orders, 1 most common quartile for total spend, most common countries: China, United States, Brasil, South Korea.\n",
      "Cluster 5, 13.3 percent of customers, 44.68 average age of customers, 112.09 average days since order, 6.83 average total orders, 406.48 average total spend, 1 most common quartile for days since order, 1 most common quartile for total orders, 1 most common quartile for total spend, most common countries: China, United States, Brasil, South Korea.\n",
      "Cluster 6, 17.14 percent of customers, 30.91 average age of customers, 273.1 average days since order, 1.14 average total orders, 45.43 average total spend, 3 most common quartile for days since order, 4 most common quartile for total orders, 4 most common quartile for total spend, most common countries: China, United States, Brasil, South Korea.\n",
      "Cluster 7, 16.5 percent of customers, 58.52 average age of customers, 207.34 average days since order, 1.7 average total orders, 86.11 average total spend, 2 most common quartile for days since order, 3 most common quartile for total orders, 3 most common quartile for total spend, most common countries: China, United States, Brasil, United Kingdom.\n",
      "Cluster 8, 18.59 percent of customers, 41.85 average age of customers, 835.48 average days since order, 1.4 average total orders, 69.3 average total spend, 4 most common quartile for days since order, 4 most common quartile for total orders, 4 most common quartile for total spend, most common countries: China, United States, Brasil, South Korea.\n"
     ]
    }
   ],
   "source": [
    "print(result['prompt'].iloc[0])"
   ]
  },
  {
   "cell_type": "code",
   "execution_count": 220,
   "id": "22a2d2ec-b781-498a-8feb-9621553e1f18",
   "metadata": {
    "tags": []
   },
   "outputs": [
    {
     "name": "stdout",
     "output_type": "stream",
     "text": [
      "\n",
      "WITH\n",
      "    SHOTS AS (\n",
      "        SELECT\n",
      "            CONCAT(\n",
      "                'Cluster ', CAST(CENTROID_ID AS STRING), ', ',\n",
      "                CAST(ROUND(pct, 2) AS STRING), ' percent of customers, ',\n",
      "                CAST(ROUND(avg_age, 2) AS STRING), ' average age of customers, ',\n",
      "                CAST(ROUND(avg_recency, 2) AS STRING), ' average days since order, ',\n",
      "                CAST(ROUND(avg_frequency, 2) AS STRING), ' average total orders, ', \n",
      "                CAST(ROUND(avg_monetary, 2) AS STRING), ' average total spend, ',\n",
      "                CAST(mode_recency_quartile AS STRING), ' most common quartile for days since order, ',\n",
      "                CAST(mode_frequency_quartile AS STRING), ' most common quartile for total orders, ',\n",
      "                CAST(mode_monetary_quartile AS STRING), ' most common quartile for total spend, ',\n",
      "                'most common countries: ', first_country, ', ', second_country, ', ', third_country, ', ', fourth_country,\n",
      "                '.'\n",
      "            ) as shot\n",
      "        FROM `statmike-mlops-349915.bqml_2024.thelook_segmentSummary`\n",
      "    ),\n",
      "    PROMPT AS (\n",
      "        SELECT\n",
      "            CONCAT(\n",
      "                'The customers for your retail store have be grouped in clusters. ',\n",
      "                'Create a brief description for each of these clusters:',\n",
      "                '\\n\\n',\n",
      "                STRING_AGG(shot, '\\n')\n",
      "            ) as prompt\n",
      "        FROM SHOTS\n",
      "    )\n",
      "SELECT\n",
      "    ml_generate_text_llm_result as response\n",
      "FROM ML.GENERATE_TEXT(\n",
      "    MODEL `statmike-mlops-349915.bqml_2024.VERTEX_LLM`,\n",
      "    (SELECT * FROM PROMPT),\n",
      "    STRUCT(1000 AS max_output_tokens, TRUE AS flatten_json_output)\n",
      ")\n",
      "\n"
     ]
    }
   ],
   "source": [
    "query = f'''\n",
    "WITH\n",
    "    SHOTS AS (\n",
    "        SELECT\n",
    "            CONCAT(\n",
    "                'Cluster ', CAST(CENTROID_ID AS STRING), ', ',\n",
    "                CAST(ROUND(pct, 2) AS STRING), ' percent of customers, ',\n",
    "                CAST(ROUND(avg_age, 2) AS STRING), ' average age of customers, ',\n",
    "                CAST(ROUND(avg_recency, 2) AS STRING), ' average days since order, ',\n",
    "                CAST(ROUND(avg_frequency, 2) AS STRING), ' average total orders, ', \n",
    "                CAST(ROUND(avg_monetary, 2) AS STRING), ' average total spend, ',\n",
    "                CAST(mode_recency_quartile AS STRING), ' most common quartile for days since order, ',\n",
    "                CAST(mode_frequency_quartile AS STRING), ' most common quartile for total orders, ',\n",
    "                CAST(mode_monetary_quartile AS STRING), ' most common quartile for total spend, ',\n",
    "                'most common countries: ', first_country, ', ', second_country, ', ', third_country, ', ', fourth_country,\n",
    "                '.'\n",
    "            ) as shot\n",
    "        FROM `{BQ_PROJECT}.{BQ_DATASET}.{BQ_TABLE_PREFIX}_segmentSummary`\n",
    "    ),\n",
    "    PROMPT AS (\n",
    "        SELECT\n",
    "            CONCAT(\n",
    "                'The customers for your retail store have be grouped in clusters. ',\n",
    "                'Create a brief description for each of these clusters:',\n",
    "                '\\\\n\\\\n',\n",
    "                STRING_AGG(shot, '\\\\n')\n",
    "            ) as prompt\n",
    "        FROM SHOTS\n",
    "    )\n",
    "SELECT\n",
    "    ml_generate_text_llm_result as response\n",
    "FROM ML.GENERATE_TEXT(\n",
    "    MODEL `{BQ_PROJECT}.{BQ_DATASET}.VERTEX_LLM`,\n",
    "    (SELECT * FROM PROMPT),\n",
    "    STRUCT(1000 AS max_output_tokens, TRUE AS flatten_json_output)\n",
    ")\n",
    "'''\n",
    "print(query)"
   ]
  },
  {
   "cell_type": "code",
   "execution_count": 221,
   "id": "f6657851-be8e-4bd5-b7ab-115fb96a31f0",
   "metadata": {
    "tags": []
   },
   "outputs": [
    {
     "data": {
      "text/html": [
       "<div>\n",
       "<style scoped>\n",
       "    .dataframe tbody tr th:only-of-type {\n",
       "        vertical-align: middle;\n",
       "    }\n",
       "\n",
       "    .dataframe tbody tr th {\n",
       "        vertical-align: top;\n",
       "    }\n",
       "\n",
       "    .dataframe thead th {\n",
       "        text-align: right;\n",
       "    }\n",
       "</style>\n",
       "<table border=\"1\" class=\"dataframe\">\n",
       "  <thead>\n",
       "    <tr style=\"text-align: right;\">\n",
       "      <th></th>\n",
       "      <th>response</th>\n",
       "    </tr>\n",
       "  </thead>\n",
       "  <tbody>\n",
       "    <tr>\n",
       "      <th>0</th>\n",
       "      <td>**Cluster 1: Loyal Customers**\\n- Middle-aged...</td>\n",
       "    </tr>\n",
       "  </tbody>\n",
       "</table>\n",
       "</div>"
      ],
      "text/plain": [
       "                                            response\n",
       "0   **Cluster 1: Loyal Customers**\\n- Middle-aged..."
      ]
     },
     "execution_count": 221,
     "metadata": {},
     "output_type": "execute_result"
    }
   ],
   "source": [
    "job = bq.query(query = query)\n",
    "job.result()\n",
    "result = job.to_dataframe()\n",
    "result"
   ]
  },
  {
   "cell_type": "code",
   "execution_count": 222,
   "id": "4138703a-9d4c-4f95-8db8-1da396efe72a",
   "metadata": {
    "tags": []
   },
   "outputs": [
    {
     "name": "stdout",
     "output_type": "stream",
     "text": [
      " **Cluster 1: Loyal Customers**\n",
      "- Middle-aged customers (average age: 42.58)\n",
      "- Long-term customers (average days since order: 617.76)\n",
      "- High-value customers (average total spend: 337.03)\n",
      "- Most common countries: China, United States, Brazil, South Korea\n",
      "\n",
      "**Cluster 2: Frequent Buyers**\n",
      "- Younger customers (average age: 27.06)\n",
      "- Frequent buyers (average total orders: 2.93)\n",
      "- Moderate spenders (average total spend: 164.61)\n",
      "- Most common countries: China, United States, Brazil, South Korea\n",
      "\n",
      "**Cluster 3: Big Spenders**\n",
      "- Middle-aged customers (average age: 42.07)\n",
      "- High-frequency buyers (average total orders: 25.24)\n",
      "- Highest spenders (average total spend: 2253.14)\n",
      "- Most common countries: China, United States, Brazil, South Korea\n",
      "\n",
      "**Cluster 4: Occasional Buyers**\n",
      "- Middle-aged customers (average age: 40.45)\n",
      "- Occasional buyers (average total orders: 16.76)\n",
      "- High spenders (average total spend: 1014.62)\n",
      "- Most common countries: China, United States, Brazil, South Korea\n",
      "\n",
      "**Cluster 5: Steady Customers**\n",
      "- Older customers (average age: 44.68)\n",
      "- Steady customers (average days since order: 112.09)\n",
      "- Moderate spenders (average total spend: 406.48)\n",
      "- Most common countries: China, United States, Brazil, South Korea\n",
      "\n",
      "**Cluster 6: Low-Engagement Customers**\n",
      "- Younger customers (average age: 30.91)\n",
      "- Low-engagement customers (average total orders: 1.14)\n",
      "- Low spenders (average total spend: 45.43)\n",
      "- Most common countries: China, United States, Brazil, South Korea\n",
      "\n",
      "**Cluster 7: Senior Customers**\n",
      "- Senior customers (average age: 58.52)\n",
      "- Occasional buyers (average total orders: 1.7)\n",
      "- Low spenders (average total spend: 86.11)\n",
      "- Most common countries: China, United States, Brazil, United Kingdom\n",
      "\n",
      "**Cluster 8: Dormant Customers**\n",
      "- Middle-aged customers (average age: 41.85)\n",
      "- Dormant customers (average days since order: 835.48)\n",
      "- Low-engagement customers (average total orders: 1.4)\n",
      "- Low spenders (average total spend: 69.3)\n",
      "- Most common countries: China, United States, Brazil, South Korea\n"
     ]
    }
   ],
   "source": [
    "print(result['response'].iloc[0])"
   ]
  },
  {
   "cell_type": "markdown",
   "id": "d62f9cfd-7bfa-4bd3-8e0f-333d8ff32fb0",
   "metadata": {},
   "source": [
    "---\n",
    "## Forecasting With Core Customers"
   ]
  },
  {
   "cell_type": "code",
   "execution_count": 284,
   "id": "b62e7fd7-d894-446e-8dab-aa1f4dfdd642",
   "metadata": {},
   "outputs": [],
   "source": [
    "query = f'''\n",
    "CREATE OR REPLACE TABLE `{BQ_PROJECT}.{BQ_DATASET}.{BQ_TABLE_PREFIX}_forecast` AS\n",
    "    WITH\n",
    "        SEGMENTS AS (\n",
    "            SELECT customer_id, centroid_id as cluster\n",
    "            FROM ML.PREDICT (\n",
    "                MODEL `{BQ_PROJECT}.{BQ_DATASET}.{BQ_TABLE_PREFIX}_features_kmeans`,\n",
    "                (SELECT * FROM `{BQ_PROJECT}.{BQ_DATASET}.{BQ_TABLE_PREFIX}_features`)\n",
    "            )\n",
    "        )\n",
    "    SELECT r.order_date, s.cluster, SUM(r.revenue) as total_revenue\n",
    "    FROM SEGMENTS as s\n",
    "    JOIN `{BQ_PROJECT}.{BQ_DATASET}.{BQ_TABLE_PREFIX}_raw` as r ON CAST(r.customer_id AS STRING) = s.customer_id\n",
    "    GROUP BY s.cluster, r.order_date\n",
    "    ORDER BY s.cluster, r.order_date\n",
    ";\n",
    "'''"
   ]
  },
  {
   "cell_type": "code",
   "execution_count": 285,
   "id": "8261cc6c-3d58-4f2d-8ac2-de872a111666",
   "metadata": {
    "tags": []
   },
   "outputs": [
    {
     "name": "stdout",
     "output_type": "stream",
     "text": [
      "\n",
      "CREATE OR REPLACE TABLE `statmike-mlops-349915.bqml_2024.thelook_forecast` AS\n",
      "    WITH\n",
      "        SEGMENTS AS (\n",
      "            SELECT customer_id, centroid_id as cluster\n",
      "            FROM ML.PREDICT (\n",
      "                MODEL `statmike-mlops-349915.bqml_2024.thelook_features_kmeans`,\n",
      "                (SELECT * FROM `statmike-mlops-349915.bqml_2024.thelook_features`)\n",
      "            )\n",
      "        )\n",
      "    SELECT r.order_date, s.cluster, SUM(r.revenue) as total_revenue\n",
      "    FROM SEGMENTS as s\n",
      "    JOIN `statmike-mlops-349915.bqml_2024.thelook_raw` as r ON CAST(r.customer_id AS STRING) = s.customer_id\n",
      "    GROUP BY s.cluster, r.order_date\n",
      "    ORDER BY s.cluster, r.order_date\n",
      ";\n",
      "\n"
     ]
    }
   ],
   "source": [
    "print(query)"
   ]
  },
  {
   "cell_type": "code",
   "execution_count": 286,
   "id": "013d0899-4858-477b-b5df-d39e2c1a7844",
   "metadata": {
    "tags": []
   },
   "outputs": [
    {
     "data": {
      "text/plain": [
       "<google.cloud.bigquery.table._EmptyRowIterator at 0x7fb90693d4b0>"
      ]
     },
     "execution_count": 286,
     "metadata": {},
     "output_type": "execute_result"
    }
   ],
   "source": [
    "job = bq.query(query = query)\n",
    "job.result()"
   ]
  },
  {
   "cell_type": "code",
   "execution_count": 287,
   "id": "50b8d988-0e88-4c9a-9736-9bcb44421d5d",
   "metadata": {
    "tags": []
   },
   "outputs": [
    {
     "data": {
      "text/plain": [
       "1.044"
      ]
     },
     "execution_count": 287,
     "metadata": {},
     "output_type": "execute_result"
    }
   ],
   "source": [
    "query = f\"\"\"\n",
    "CREATE MODEL IF NOT EXISTS `{BQ_PROJECT}.{BQ_DATASET}.{BQ_TABLE_PREFIX}_arimaplus`\n",
    "OPTIONS\n",
    "    (model_type = 'ARIMA_PLUS',\n",
    "    time_series_timestamp_col = 'order_date',\n",
    "    time_series_data_col = 'total_revenue',\n",
    "    time_series_id_col = 'cluster',\n",
    "    data_frequency = 'DAILY',\n",
    "    auto_arima_max_order = 5,\n",
    "    holiday_region = ['CN', 'BR', 'KR', 'US'],\n",
    "    horizon = 365\n",
    "    #forecast_limit_lower_bound = 0\n",
    "    ) AS\n",
    "SELECT *\n",
    "FROM `{BQ_PROJECT}.{BQ_DATASET}.{BQ_TABLE_PREFIX}_forecast`\n",
    "WHERE order_date < DATE_SUB(CURRENT_DATE(), INTERVAL 12 MONTH)\n",
    "\"\"\"\n",
    "job = bq.query(query)\n",
    "job.result()\n",
    "(job.ended-job.started).total_seconds()"
   ]
  },
  {
   "cell_type": "code",
   "execution_count": 288,
   "id": "7117828a-8740-4742-b0de-362a91848c90",
   "metadata": {
    "tags": []
   },
   "outputs": [
    {
     "name": "stdout",
     "output_type": "stream",
     "text": [
      "\n",
      "CREATE MODEL IF NOT EXISTS `statmike-mlops-349915.bqml_2024.thelook_arimaplus`\n",
      "OPTIONS\n",
      "    (model_type = 'ARIMA_PLUS',\n",
      "    time_series_timestamp_col = 'order_date',\n",
      "    time_series_data_col = 'total_revenue',\n",
      "    time_series_id_col = 'cluster',\n",
      "    data_frequency = 'DAILY',\n",
      "    auto_arima_max_order = 5,\n",
      "    holiday_region = ['CN', 'BR', 'KR', 'US'],\n",
      "    horizon = 365\n",
      "    #forecast_limit_lower_bound = 0\n",
      "    ) AS\n",
      "SELECT *\n",
      "FROM `statmike-mlops-349915.bqml_2024.thelook_forecast`\n",
      "WHERE order_date < DATE_SUB(CURRENT_DATE(), INTERVAL 12 MONTH)\n",
      "\n"
     ]
    }
   ],
   "source": [
    "print(query)"
   ]
  },
  {
   "cell_type": "code",
   "execution_count": 289,
   "id": "b28cfe4d-1abe-4bb7-9685-4873ad08b952",
   "metadata": {
    "tags": []
   },
   "outputs": [
    {
     "name": "stdout",
     "output_type": "stream",
     "text": [
      "\n",
      "CREATE OR REPLACE TABLE `statmike-mlops-349915.bqml_2024.thelook_forecastResult` AS\n",
      "SELECT *, \n",
      "    EXTRACT(DATE FROM time_series_timestamp) AS order_date\n",
      "FROM ML.EXPLAIN_FORECAST(\n",
      "    MODEL `statmike-mlops-349915.bqml_2024.thelook_arimaplus`,\n",
      "    STRUCT(365 AS horizon, 0.95 AS confidence_level))\n",
      "ORDER BY cluster, order_date\n",
      "\n"
     ]
    }
   ],
   "source": [
    "query = f'''\n",
    "CREATE OR REPLACE TABLE `{BQ_PROJECT}.{BQ_DATASET}.{BQ_TABLE_PREFIX}_forecastResult` AS\n",
    "SELECT *, \n",
    "    EXTRACT(DATE FROM time_series_timestamp) AS order_date\n",
    "FROM ML.EXPLAIN_FORECAST(\n",
    "    MODEL `{BQ_PROJECT}.{BQ_DATASET}.{BQ_TABLE_PREFIX}_arimaplus`,\n",
    "    STRUCT(365 AS horizon, 0.95 AS confidence_level))\n",
    "ORDER BY cluster, order_date\n",
    "'''\n",
    "print(query)"
   ]
  },
  {
   "cell_type": "code",
   "execution_count": 290,
   "id": "b4dbd5e0-85ec-4a3f-bb43-0a326a561afb",
   "metadata": {
    "tags": []
   },
   "outputs": [
    {
     "data": {
      "text/plain": [
       "3.209"
      ]
     },
     "execution_count": 290,
     "metadata": {},
     "output_type": "execute_result"
    }
   ],
   "source": [
    "job = bq.query(query)\n",
    "job.result()\n",
    "(job.ended-job.started).total_seconds()"
   ]
  },
  {
   "cell_type": "markdown",
   "id": "cb022de8-d866-4b56-9076-f0edb2681932",
   "metadata": {},
   "source": [
    "### SWITCH TO DATAFRAMES WORK"
   ]
  },
  {
   "cell_type": "code",
   "execution_count": null,
   "id": "2cdccd2f-d013-4521-8131-2afcbad630ef",
   "metadata": {},
   "outputs": [],
   "source": []
  },
  {
   "cell_type": "code",
   "execution_count": null,
   "id": "4e0bbfca-3790-44ca-ada9-110b96cf0962",
   "metadata": {},
   "outputs": [],
   "source": []
  },
  {
   "cell_type": "code",
   "execution_count": null,
   "id": "b48b14f4-f80f-4536-8200-ecafa983e71c",
   "metadata": {},
   "outputs": [],
   "source": []
  },
  {
   "cell_type": "code",
   "execution_count": 300,
   "id": "f720da45-fc34-4dcb-9f93-78ba28476a65",
   "metadata": {
    "tags": []
   },
   "outputs": [],
   "source": [
    "forecast = bpd.read_gbq(f'{BQ_PROJECT}.{BQ_DATASET}.{BQ_TABLE_PREFIX}_forecast')\n",
    "forecastResult = bpd.read_gbq(f'{BQ_PROJECT}.{BQ_DATASET}.{BQ_TABLE_PREFIX}_forecastResult')"
   ]
  },
  {
   "cell_type": "code",
   "execution_count": 301,
   "id": "21f45732-7969-4169-8d0e-9f20ab152724",
   "metadata": {
    "tags": []
   },
   "outputs": [
    {
     "data": {
      "text/plain": [
       "bigframes.dataframe.DataFrame"
      ]
     },
     "execution_count": 301,
     "metadata": {},
     "output_type": "execute_result"
    }
   ],
   "source": [
    "type(forecast)"
   ]
  },
  {
   "cell_type": "code",
   "execution_count": 302,
   "id": "f2e7c594-f8de-4b25-bf02-40357c5b0d25",
   "metadata": {
    "tags": []
   },
   "outputs": [
    {
     "data": {
      "text/html": [
       "Query job badce9ba-7e58-43c4-ab8a-fb867b5262e7 is DONE. 244.6 kB processed. <a target=\"_blank\" href=\"https://console.cloud.google.com/bigquery?project=statmike-mlops-349915&j=bq:US:badce9ba-7e58-43c4-ab8a-fb867b5262e7&page=queryresults\">Open Job</a>"
      ],
      "text/plain": [
       "<IPython.core.display.HTML object>"
      ]
     },
     "metadata": {},
     "output_type": "display_data"
    },
    {
     "data": {
      "text/html": [
       "Query job 2eaa45be-7fcf-4eeb-b572-becec253b97b is DONE. 244.6 kB processed. <a target=\"_blank\" href=\"https://console.cloud.google.com/bigquery?project=statmike-mlops-349915&j=bq:US:2eaa45be-7fcf-4eeb-b572-becec253b97b&page=queryresults\">Open Job</a>"
      ],
      "text/plain": [
       "<IPython.core.display.HTML object>"
      ]
     },
     "metadata": {},
     "output_type": "display_data"
    },
    {
     "data": {
      "text/html": [
       "<div>\n",
       "<style scoped>\n",
       "    .dataframe tbody tr th:only-of-type {\n",
       "        vertical-align: middle;\n",
       "    }\n",
       "\n",
       "    .dataframe tbody tr th {\n",
       "        vertical-align: top;\n",
       "    }\n",
       "\n",
       "    .dataframe thead th {\n",
       "        text-align: right;\n",
       "    }\n",
       "</style>\n",
       "<table border=\"1\" class=\"dataframe\">\n",
       "  <thead>\n",
       "    <tr style=\"text-align: right;\">\n",
       "      <th></th>\n",
       "      <th>order_date</th>\n",
       "      <th>cluster</th>\n",
       "      <th>total_revenue</th>\n",
       "    </tr>\n",
       "  </thead>\n",
       "  <tbody>\n",
       "    <tr>\n",
       "      <th>0</th>\n",
       "      <td>2023-11-12</td>\n",
       "      <td>2</td>\n",
       "      <td>1157.88</td>\n",
       "    </tr>\n",
       "    <tr>\n",
       "      <th>1</th>\n",
       "      <td>2020-04-26</td>\n",
       "      <td>3</td>\n",
       "      <td>489.439997</td>\n",
       "    </tr>\n",
       "    <tr>\n",
       "      <th>2</th>\n",
       "      <td>2023-02-23</td>\n",
       "      <td>5</td>\n",
       "      <td>5440.819984</td>\n",
       "    </tr>\n",
       "    <tr>\n",
       "      <th>3</th>\n",
       "      <td>2019-07-21</td>\n",
       "      <td>8</td>\n",
       "      <td>149.59</td>\n",
       "    </tr>\n",
       "    <tr>\n",
       "      <th>4</th>\n",
       "      <td>2023-12-29</td>\n",
       "      <td>7</td>\n",
       "      <td>236.940001</td>\n",
       "    </tr>\n",
       "  </tbody>\n",
       "</table>\n",
       "<p>5 rows × 3 columns</p>\n",
       "</div>[5 rows x 3 columns in total]"
      ],
      "text/plain": [
       "  order_date  cluster  total_revenue\n",
       "0 2023-11-12        2        1157.88\n",
       "1 2020-04-26        3     489.439997\n",
       "2 2023-02-23        5    5440.819984\n",
       "3 2019-07-21        8         149.59\n",
       "4 2023-12-29        7     236.940001\n",
       "\n",
       "[5 rows x 3 columns]"
      ]
     },
     "execution_count": 302,
     "metadata": {},
     "output_type": "execute_result"
    }
   ],
   "source": [
    "forecast.head()"
   ]
  },
  {
   "cell_type": "code",
   "execution_count": 303,
   "id": "367d484f-f744-466b-bf49-e03c9ef1702d",
   "metadata": {
    "tags": []
   },
   "outputs": [
    {
     "data": {
      "text/html": [
       "Query job afe94d82-5856-469c-91ea-c76892e502cb is DONE. 7.1 MB processed. <a target=\"_blank\" href=\"https://console.cloud.google.com/bigquery?project=statmike-mlops-349915&j=bq:US:afe94d82-5856-469c-91ea-c76892e502cb&page=queryresults\">Open Job</a>"
      ],
      "text/plain": [
       "<IPython.core.display.HTML object>"
      ]
     },
     "metadata": {},
     "output_type": "display_data"
    },
    {
     "data": {
      "text/html": [
       "Query job 0f58c9e9-5c48-4ee8-8887-70ffcecefbf7 is DONE. 7.1 MB processed. <a target=\"_blank\" href=\"https://console.cloud.google.com/bigquery?project=statmike-mlops-349915&j=bq:US:0f58c9e9-5c48-4ee8-8887-70ffcecefbf7&page=queryresults\">Open Job</a>"
      ],
      "text/plain": [
       "<IPython.core.display.HTML object>"
      ]
     },
     "metadata": {},
     "output_type": "display_data"
    },
    {
     "data": {
      "text/html": [
       "<div>\n",
       "<style scoped>\n",
       "    .dataframe tbody tr th:only-of-type {\n",
       "        vertical-align: middle;\n",
       "    }\n",
       "\n",
       "    .dataframe tbody tr th {\n",
       "        vertical-align: top;\n",
       "    }\n",
       "\n",
       "    .dataframe thead th {\n",
       "        text-align: right;\n",
       "    }\n",
       "</style>\n",
       "<table border=\"1\" class=\"dataframe\">\n",
       "  <thead>\n",
       "    <tr style=\"text-align: right;\">\n",
       "      <th></th>\n",
       "      <th>cluster</th>\n",
       "      <th>time_series_timestamp</th>\n",
       "      <th>time_series_type</th>\n",
       "      <th>time_series_data</th>\n",
       "      <th>time_series_adjusted_data</th>\n",
       "      <th>standard_error</th>\n",
       "      <th>confidence_level</th>\n",
       "      <th>prediction_interval_lower_bound</th>\n",
       "      <th>prediction_interval_upper_bound</th>\n",
       "      <th>trend</th>\n",
       "      <th>...</th>\n",
       "      <th>holiday_effect_US_ElectionDay</th>\n",
       "      <th>holiday_effect_US_IndependenceDay</th>\n",
       "      <th>holiday_effect_US_Juneteenth</th>\n",
       "      <th>holiday_effect_US_LaborDay</th>\n",
       "      <th>holiday_effect_US_MemorialDay</th>\n",
       "      <th>holiday_effect_US_MLKDay</th>\n",
       "      <th>holiday_effect_US_PresidentDay</th>\n",
       "      <th>holiday_effect_US_Superbowl</th>\n",
       "      <th>holiday_effect_VeteranDay</th>\n",
       "      <th>order_date</th>\n",
       "    </tr>\n",
       "  </thead>\n",
       "  <tbody>\n",
       "    <tr>\n",
       "      <th>0</th>\n",
       "      <td>1</td>\n",
       "      <td>2020-08-24 00:00:00+00:00</td>\n",
       "      <td>history</td>\n",
       "      <td>1370.959996</td>\n",
       "      <td>2030.731062</td>\n",
       "      <td>371.151013</td>\n",
       "      <td>&lt;NA&gt;</td>\n",
       "      <td>&lt;NA&gt;</td>\n",
       "      <td>&lt;NA&gt;</td>\n",
       "      <td>2060.04984</td>\n",
       "      <td>...</td>\n",
       "      <td>0.0</td>\n",
       "      <td>0.0</td>\n",
       "      <td>0.0</td>\n",
       "      <td>0.0</td>\n",
       "      <td>0.0</td>\n",
       "      <td>0.0</td>\n",
       "      <td>0.0</td>\n",
       "      <td>0.0</td>\n",
       "      <td>0.0</td>\n",
       "      <td>2020-08-24</td>\n",
       "    </tr>\n",
       "    <tr>\n",
       "      <th>1</th>\n",
       "      <td>2</td>\n",
       "      <td>2024-01-05 00:00:00+00:00</td>\n",
       "      <td>forecast</td>\n",
       "      <td>1594.387932</td>\n",
       "      <td>1594.387932</td>\n",
       "      <td>940.184289</td>\n",
       "      <td>0.95</td>\n",
       "      <td>-245.043228</td>\n",
       "      <td>3433.819092</td>\n",
       "      <td>1613.051422</td>\n",
       "      <td>...</td>\n",
       "      <td>0.0</td>\n",
       "      <td>0.0</td>\n",
       "      <td>0.0</td>\n",
       "      <td>0.0</td>\n",
       "      <td>0.0</td>\n",
       "      <td>0.0</td>\n",
       "      <td>0.0</td>\n",
       "      <td>0.0</td>\n",
       "      <td>0.0</td>\n",
       "      <td>2024-01-05</td>\n",
       "    </tr>\n",
       "    <tr>\n",
       "      <th>2</th>\n",
       "      <td>8</td>\n",
       "      <td>2023-11-08 00:00:00+00:00</td>\n",
       "      <td>forecast</td>\n",
       "      <td>513.050189</td>\n",
       "      <td>513.050189</td>\n",
       "      <td>187.208142</td>\n",
       "      <td>0.95</td>\n",
       "      <td>146.785304</td>\n",
       "      <td>879.315073</td>\n",
       "      <td>512.827745</td>\n",
       "      <td>...</td>\n",
       "      <td>0.0</td>\n",
       "      <td>0.0</td>\n",
       "      <td>0.0</td>\n",
       "      <td>0.0</td>\n",
       "      <td>0.0</td>\n",
       "      <td>0.0</td>\n",
       "      <td>0.0</td>\n",
       "      <td>0.0</td>\n",
       "      <td>0.0</td>\n",
       "      <td>2023-11-08</td>\n",
       "    </tr>\n",
       "    <tr>\n",
       "      <th>3</th>\n",
       "      <td>5</td>\n",
       "      <td>2023-03-28 00:00:00+00:00</td>\n",
       "      <td>forecast</td>\n",
       "      <td>7997.754361</td>\n",
       "      <td>7997.754361</td>\n",
       "      <td>419.812727</td>\n",
       "      <td>0.95</td>\n",
       "      <td>7176.408354</td>\n",
       "      <td>8819.100367</td>\n",
       "      <td>7297.571925</td>\n",
       "      <td>...</td>\n",
       "      <td>0.0</td>\n",
       "      <td>0.0</td>\n",
       "      <td>0.0</td>\n",
       "      <td>0.0</td>\n",
       "      <td>0.0</td>\n",
       "      <td>0.0</td>\n",
       "      <td>0.0</td>\n",
       "      <td>0.0</td>\n",
       "      <td>0.0</td>\n",
       "      <td>2023-03-28</td>\n",
       "    </tr>\n",
       "    <tr>\n",
       "      <th>4</th>\n",
       "      <td>2</td>\n",
       "      <td>2023-04-29 00:00:00+00:00</td>\n",
       "      <td>forecast</td>\n",
       "      <td>1556.979198</td>\n",
       "      <td>1556.979198</td>\n",
       "      <td>491.300876</td>\n",
       "      <td>0.95</td>\n",
       "      <td>595.769623</td>\n",
       "      <td>2518.188773</td>\n",
       "      <td>1613.212365</td>\n",
       "      <td>...</td>\n",
       "      <td>0.0</td>\n",
       "      <td>0.0</td>\n",
       "      <td>0.0</td>\n",
       "      <td>0.0</td>\n",
       "      <td>0.0</td>\n",
       "      <td>0.0</td>\n",
       "      <td>0.0</td>\n",
       "      <td>0.0</td>\n",
       "      <td>0.0</td>\n",
       "      <td>2023-04-29</td>\n",
       "    </tr>\n",
       "  </tbody>\n",
       "</table>\n",
       "<p>5 rows × 69 columns</p>\n",
       "</div>[5 rows x 69 columns in total]"
      ],
      "text/plain": [
       "   cluster      time_series_timestamp time_series_type  time_series_data  \\\n",
       "0        1  2020-08-24 00:00:00+00:00          history       1370.959996   \n",
       "1        2  2024-01-05 00:00:00+00:00         forecast       1594.387932   \n",
       "2        8  2023-11-08 00:00:00+00:00         forecast        513.050189   \n",
       "3        5  2023-03-28 00:00:00+00:00         forecast       7997.754361   \n",
       "4        2  2023-04-29 00:00:00+00:00         forecast       1556.979198   \n",
       "\n",
       "   time_series_adjusted_data  standard_error  confidence_level  \\\n",
       "0                2030.731062      371.151013              <NA>   \n",
       "1                1594.387932      940.184289              0.95   \n",
       "2                 513.050189      187.208142              0.95   \n",
       "3                7997.754361      419.812727              0.95   \n",
       "4                1556.979198      491.300876              0.95   \n",
       "\n",
       "   prediction_interval_lower_bound  prediction_interval_upper_bound  \\\n",
       "0                             <NA>                             <NA>   \n",
       "1                      -245.043228                      3433.819092   \n",
       "2                       146.785304                       879.315073   \n",
       "3                      7176.408354                      8819.100367   \n",
       "4                       595.769623                      2518.188773   \n",
       "\n",
       "         trend  ...  holiday_effect_US_ElectionDay  \\\n",
       "0   2060.04984  ...                            0.0   \n",
       "1  1613.051422  ...                            0.0   \n",
       "2   512.827745  ...                            0.0   \n",
       "3  7297.571925  ...                            0.0   \n",
       "4  1613.212365  ...                            0.0   \n",
       "\n",
       "   holiday_effect_US_IndependenceDay  holiday_effect_US_Juneteenth  \\\n",
       "0                                0.0                           0.0   \n",
       "1                                0.0                           0.0   \n",
       "2                                0.0                           0.0   \n",
       "3                                0.0                           0.0   \n",
       "4                                0.0                           0.0   \n",
       "\n",
       "   holiday_effect_US_LaborDay  holiday_effect_US_MemorialDay  \\\n",
       "0                         0.0                            0.0   \n",
       "1                         0.0                            0.0   \n",
       "2                         0.0                            0.0   \n",
       "3                         0.0                            0.0   \n",
       "4                         0.0                            0.0   \n",
       "\n",
       "   holiday_effect_US_MLKDay  holiday_effect_US_PresidentDay  \\\n",
       "0                       0.0                             0.0   \n",
       "1                       0.0                             0.0   \n",
       "2                       0.0                             0.0   \n",
       "3                       0.0                             0.0   \n",
       "4                       0.0                             0.0   \n",
       "\n",
       "   holiday_effect_US_Superbowl  holiday_effect_VeteranDay  order_date  \n",
       "0                          0.0                        0.0  2020-08-24  \n",
       "1                          0.0                        0.0  2024-01-05  \n",
       "2                          0.0                        0.0  2023-11-08  \n",
       "3                          0.0                        0.0  2023-03-28  \n",
       "4                          0.0                        0.0  2023-04-29  \n",
       "\n",
       "[5 rows x 69 columns]"
      ]
     },
     "execution_count": 303,
     "metadata": {},
     "output_type": "execute_result"
    }
   ],
   "source": [
    "forecastResult.head()"
   ]
  },
  {
   "cell_type": "code",
   "execution_count": 314,
   "id": "c2509012-abd3-49d5-8ea4-0ec8dccfca6b",
   "metadata": {
    "tags": []
   },
   "outputs": [
    {
     "data": {
      "text/html": [
       "Query job 0d2e7b70-345a-404b-9f3a-cc1476361c12 is DONE. 244.6 kB processed. <a target=\"_blank\" href=\"https://console.cloud.google.com/bigquery?project=statmike-mlops-349915&j=bq:US:0d2e7b70-345a-404b-9f3a-cc1476361c12&page=queryresults\">Open Job</a>"
      ],
      "text/plain": [
       "<IPython.core.display.HTML object>"
      ]
     },
     "metadata": {},
     "output_type": "display_data"
    },
    {
     "data": {
      "text/html": [
       "Query job 72ff9c81-6450-46d7-b738-0810b8f2dfb9 is DONE. 7.1 MB processed. <a target=\"_blank\" href=\"https://console.cloud.google.com/bigquery?project=statmike-mlops-349915&j=bq:US:72ff9c81-6450-46d7-b738-0810b8f2dfb9&page=queryresults\">Open Job</a>"
      ],
      "text/plain": [
       "<IPython.core.display.HTML object>"
      ]
     },
     "metadata": {},
     "output_type": "display_data"
    }
   ],
   "source": [
    "rawSeries = forecast.to_pandas(ordered = True).sort_values(['cluster', 'order_date'])\n",
    "explain = forecastResult.to_pandas(ordered = True).sort_values(['cluster', 'order_date'])"
   ]
  },
  {
   "cell_type": "code",
   "execution_count": 310,
   "id": "43ca0d6e-d295-4893-9395-bff6b1d31326",
   "metadata": {
    "tags": []
   },
   "outputs": [],
   "source": [
    "rawSeries['order_date'] = pd.to_datetime(rawSeries['order_date'])\n",
    "explain['order_date'] = pd.to_datetime(explain['order_date'])"
   ]
  },
  {
   "cell_type": "code",
   "execution_count": 315,
   "id": "d5fdf519-374c-4212-9544-b88fc949750b",
   "metadata": {
    "tags": []
   },
   "outputs": [
    {
     "data": {
      "text/plain": [
       "datetime.date(2019, 1, 8)"
      ]
     },
     "execution_count": 315,
     "metadata": {},
     "output_type": "execute_result"
    }
   ],
   "source": [
    "rawSeries['order_date'].iloc[0]"
   ]
  },
  {
   "cell_type": "code",
   "execution_count": 311,
   "id": "0d7e1e25-61f6-4d9c-99c7-522f6c07be76",
   "metadata": {
    "tags": []
   },
   "outputs": [],
   "source": [
    "TIME_COLUMN = 'order_date'\n",
    "SERIES_COLUMN = 'cluster'\n",
    "TARGET_COLUMN = 'total_revenue'\n",
    "viz_limit = 10"
   ]
  },
  {
   "cell_type": "code",
   "execution_count": 312,
   "id": "67a36f46-352f-4793-b147-315a7ac7cbe2",
   "metadata": {
    "tags": []
   },
   "outputs": [
    {
     "data": {
      "text/html": [
       "<iframe\n",
       "    scrolling=\"no\"\n",
       "    width=\"100%\"\n",
       "    height=\"620\"\n",
       "    src=\"iframe_figures/figure_312.html\"\n",
       "    frameborder=\"0\"\n",
       "    allowfullscreen\n",
       "></iframe>\n"
      ]
     },
     "metadata": {},
     "output_type": "display_data"
    }
   ],
   "source": [
    "# NA values in Pandas will not convert to JSON which Plotly uses:\n",
    "rawSeries = rawSeries.fillna(np.nan).replace([np.nan], [None])\n",
    "\n",
    "# create a figure:\n",
    "fig = go.Figure()\n",
    "\n",
    "# get a list of colors to use:\n",
    "colors = px.colors.qualitative.Plotly\n",
    "\n",
    "# list of columns to plot over time : target and covariates\n",
    "variables = [TARGET_COLUMN] # + COVARIATE_COLUMNS # no covariate for univarate forecasting\n",
    "\n",
    "# create dropdown/button to toggle series\n",
    "buttons = []\n",
    "b = 0 # default button index\n",
    "\n",
    "# iterate through series:\n",
    "series = rawSeries[SERIES_COLUMN].unique().tolist()[0:viz_limit]\n",
    "for s in series:    \n",
    "    # iterate trhough columns\n",
    "    for y, v in enumerate(variables):\n",
    "        fig.add_trace(\n",
    "            go.Scatter(\n",
    "                x = rawSeries[rawSeries[SERIES_COLUMN]==s][TIME_COLUMN],\n",
    "                y = rawSeries[rawSeries[SERIES_COLUMN]==s][v],\n",
    "                name = f'{v}',\n",
    "                text = rawSeries[rawSeries[SERIES_COLUMN]==s][v],\n",
    "                yaxis = f\"y{y+1}\",\n",
    "                hoverinfo='name+x+text',\n",
    "                line = {'width': 0.5},\n",
    "                marker = {'size': 8},\n",
    "                mode = 'lines+markers',\n",
    "                showlegend = False,\n",
    "                visible = (b==0) # make a series visible as default: this uses the first series\n",
    "            )\n",
    "        )\n",
    "        if y == 0: # add the forecast\n",
    "            # add the forecast prediction funnel to test and horizon: lower\n",
    "            fig.add_trace(\n",
    "                go.Scatter(\n",
    "                    x = explain[explain[SERIES_COLUMN]==s][TIME_COLUMN],\n",
    "                    y = explain[explain[SERIES_COLUMN]==s]['prediction_interval_lower_bound'],\n",
    "                    name = f'Lower Prediction: {v}',\n",
    "                    text = explain[explain[SERIES_COLUMN]==s]['prediction_interval_lower_bound'],\n",
    "                    yaxis = f\"y{y+1}\",\n",
    "                    hoverinfo='name+x+text',\n",
    "                    line = {'width': 2, 'color': 'rgb(0,128,0)'},\n",
    "                    mode = 'lines',\n",
    "                    showlegend = False,\n",
    "                    visible = (b==0) # make a series visible as default: this uses the first series\n",
    "                )\n",
    "            )\n",
    "            # add the forecast prediction funnel to test and horizon: upper\n",
    "            fig.add_trace(\n",
    "                go.Scatter(\n",
    "                    x = explain[explain[SERIES_COLUMN]==s][TIME_COLUMN],\n",
    "                    y = explain[explain[SERIES_COLUMN]==s]['prediction_interval_upper_bound'],\n",
    "                    name = f'Upper Prediction: {v}',\n",
    "                    text = explain[explain[SERIES_COLUMN]==s]['prediction_interval_upper_bound'],\n",
    "                    yaxis = f\"y{y+1}\",\n",
    "                    hoverinfo='name+x+text',\n",
    "                    line = {'width': 2, 'color': 'rgb(0,128,0)'},\n",
    "                    mode = 'lines',\n",
    "                    fillcolor = 'rgba(0,128,0,0.5)',\n",
    "                    fill = 'tonexty',\n",
    "                    showlegend = False,\n",
    "                    visible = (b==0) # make a series visible as default: this uses the first series\n",
    "                )\n",
    "            )\n",
    "            # add the forecast fit\n",
    "            fig.add_trace(\n",
    "                go.Scatter(\n",
    "                    x = explain[explain[SERIES_COLUMN]==s][TIME_COLUMN],\n",
    "                    y = explain[explain[SERIES_COLUMN]==s]['time_series_adjusted_data'],\n",
    "                    name = f'Forecast: {v}',\n",
    "                    text = explain[explain[SERIES_COLUMN]==s]['time_series_adjusted_data'],\n",
    "                    yaxis = f\"y{y+1}\",\n",
    "                    hoverinfo='name+x+text',\n",
    "                    line = {'width': 2, 'color': 'rgb(255,234,0)'},\n",
    "                    mode = 'lines',\n",
    "                    showlegend = False,\n",
    "                    visible = (b==0) # make a series visible as default: this uses the first series\n",
    "                )\n",
    "            )\n",
    "    \n",
    "    # which button to show:\n",
    "    ff = 3 # count of forecast related traces add to each series\n",
    "    which_buttons = [False] * len(series) * (len(variables) + ff)\n",
    "    which_buttons[b * (len(variables) +ff):(b+1)*(len(variables) + ff)] = [True] * (len(variables) + ff)\n",
    "\n",
    "    # create button for series:\n",
    "    button = dict(\n",
    "        label = s,\n",
    "        method = 'update',\n",
    "        args = [{'visible': which_buttons}]\n",
    "    )\n",
    "    buttons.append(button)\n",
    "    b += 1\n",
    "\n",
    "# configure axes layout:\n",
    "layout = dict(\n",
    "    xaxis =  dict(\n",
    "        #range = [keyDates['end_date'][0] - 2*(keyDates['end_date'][0] - keyDates['val_start'][0]), keyDates['end_date'][0]+timedelta(days = FORECAST_HORIZON_LENGTH)],\n",
    "        range = [datetime(2022, 1, 1), datetime(2024, 1, 30)],\n",
    "        rangeslider = dict(\n",
    "            autorange = True,\n",
    "            #range = [keyDates['start_date'][0], keyDates['end_date'][0]+timedelta(days = FORECAST_HORIZON_LENGTH)]\n",
    "            range = [datetime(2019, 1, 1), datetime(2024, 1, 30)]\n",
    "        ),\n",
    "        type = 'date'\n",
    "    )\n",
    ")\n",
    "for v, variable in enumerate(variables):\n",
    "    layout[f'yaxis{v+1}'] = dict(\n",
    "        anchor = 'x',\n",
    "        domain = [v*(1/len(variables)), (v+1)*(1/len(variables))],\n",
    "        autorange = True,\n",
    "        mirror = True,\n",
    "        autoshift = True,\n",
    "        title = dict(text = variable, standoff = 10 + 20 * (v % 2), font = dict(color = colors[v])),\n",
    "        tickfont = dict(color = colors[v]),\n",
    "        tickmode = 'auto',\n",
    "        linecolor = colors[v],\n",
    "        linewidth = 4,\n",
    "        showline = True,\n",
    "        side = 'right',\n",
    "        type = 'linear',\n",
    "        zeroline = False\n",
    "    )\n",
    "\n",
    "# final update of display before rendering\n",
    "fig.update_layout(\n",
    "    layout,\n",
    "    title = 'Time Series Plots:',\n",
    "    dragmode=\"zoom\",\n",
    "    hovermode=\"x\",\n",
    "    legend=dict(traceorder=\"reversed\"),\n",
    "    height=600,\n",
    "    template=\"plotly_white\",\n",
    "    margin=dict(\n",
    "        t=100,\n",
    "        b=100\n",
    "    ),\n",
    "    updatemenus = [\n",
    "        dict(\n",
    "            buttons = buttons,\n",
    "            type = 'dropdown',\n",
    "            direction = 'down',\n",
    "            x = 1,\n",
    "            y = 1.2,\n",
    "            showactive = True\n",
    "        )\n",
    "    ]\n",
    ")\n",
    "\n",
    "# render the interactive plot:\n",
    "fig.show()"
   ]
  },
  {
   "cell_type": "markdown",
   "id": "b4898339-227e-4b29-bb65-c7eb87319082",
   "metadata": {},
   "source": [
    "---\n",
    "## Early Categorization of New Customers"
   ]
  },
  {
   "cell_type": "code",
   "execution_count": null,
   "id": "b0fcb4a6-67b5-485e-a031-6fd0647bf0a7",
   "metadata": {},
   "outputs": [],
   "source": []
  }
 ],
 "metadata": {
  "environment": {
   "kernel": "conda-root-py",
   "name": "workbench-notebooks.m113",
   "type": "gcloud",
   "uri": "gcr.io/deeplearning-platform-release/workbench-notebooks:m113"
  },
  "kernelspec": {
   "display_name": "Python 3 (ipykernel) (Local)",
   "language": "python",
   "name": "conda-root-py"
  },
  "language_info": {
   "codemirror_mode": {
    "name": "ipython",
    "version": 3
   },
   "file_extension": ".py",
   "mimetype": "text/x-python",
   "name": "python",
   "nbconvert_exporter": "python",
   "pygments_lexer": "ipython3",
   "version": "3.10.13"
  }
 },
 "nbformat": 4,
 "nbformat_minor": 5
}
