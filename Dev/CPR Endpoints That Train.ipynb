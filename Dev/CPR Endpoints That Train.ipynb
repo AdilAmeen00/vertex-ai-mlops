{
 "cells": [
  {
   "cell_type": "markdown",
   "id": "787fb7b2-8986-4c87-ae09-76229907e7bd",
   "metadata": {},
   "source": [
    "# Custom Prediction Routines for Endpoints That Train\n",
    "\n",
    "- https://cloud.google.com/vertex-ai/docs/predictions/custom-prediction-routines\n",
    "- https://cloud.google.com/python/docs/reference/aiplatform/latest/google.cloud.aiplatform.prediction.LocalModel\n",
    "- https://github.com/googleapis/python-aiplatform/blob/custom-prediction-routine/google/cloud/aiplatform/prediction/predictor.py\n",
    "- https://github.com/googleapis/python-aiplatform/blob/custom-prediction-routine/google/cloud/aiplatform/prediction/sklearn/predictor.py\n",
    "- https://codelabs.developers.google.com/vertex-cpr-sklearn#0"
   ]
  },
  {
   "cell_type": "code",
   "execution_count": 1,
   "id": "18571ae8-2301-4b07-bcfa-8abbb1bbc5b0",
   "metadata": {},
   "outputs": [
    {
     "data": {
      "text/plain": [
       "'statmike-mlops-349915'"
      ]
     },
     "execution_count": 1,
     "metadata": {},
     "output_type": "execute_result"
    }
   ],
   "source": [
    "project = !gcloud config get-value project\n",
    "PROJECT_ID = project[0]\n",
    "PROJECT_ID"
   ]
  },
  {
   "cell_type": "code",
   "execution_count": 2,
   "id": "704e2dcd-1d00-483a-be57-f7f6bdc4e738",
   "metadata": {},
   "outputs": [],
   "source": [
    "REGION = 'us-central1'\n",
    "EXPERIMENT = 'cpr_training'\n",
    "SERIES = '04'\n",
    "\n",
    "# source data\n",
    "BQ_PROJECT = PROJECT_ID\n",
    "BQ_DATASET = 'fraud'\n",
    "BQ_TABLE = 'fraud_prepped'\n",
    "\n",
    "# Resources\n",
    "DEPLOY_COMPUTE = 'n1-standard-2'\n",
    "\n",
    "# Model Training\n",
    "VAR_TARGET = 'Class'\n",
    "VAR_OMIT = 'transaction_id' # add more variables to the string with space delimiters"
   ]
  },
  {
   "cell_type": "code",
   "execution_count": 3,
   "id": "7a41430e-b913-4fff-be81-6b353a5ddce3",
   "metadata": {},
   "outputs": [],
   "source": [
    "from google.cloud import aiplatform\n",
    "from google.cloud import bigquery\n",
    "from google.cloud import service_usage_v1\n",
    "\n",
    "from datetime import datetime\n",
    "import json\n",
    "import os\n",
    "import numpy as np\n",
    "import pandas as pd\n",
    "import matplotlib.pyplot as plt\n",
    "from matplotlib import gridspec\n",
    "from sklearn import metrics\n",
    "\n",
    "from google.protobuf import json_format\n",
    "from google.protobuf.struct_pb2 import Value"
   ]
  },
  {
   "cell_type": "code",
   "execution_count": 4,
   "id": "402c9d3b-7911-4902-a5ab-a3e8227a80ac",
   "metadata": {},
   "outputs": [],
   "source": [
    "aiplatform.init(project=PROJECT_ID, location=REGION)\n",
    "bq = bigquery.Client(project = PROJECT_ID)"
   ]
  },
  {
   "cell_type": "code",
   "execution_count": 5,
   "id": "648a825b-39fb-48d4-acad-ff6451d0e6f0",
   "metadata": {},
   "outputs": [],
   "source": [
    "BUCKET = PROJECT_ID\n",
    "URI = f\"gs://{BUCKET}/{SERIES}/{EXPERIMENT}\"\n",
    "REPOSITORY = f\"{REGION}-docker.pkg.dev/{PROJECT_ID}/{PROJECT_ID}\"\n",
    "DIR = f\"temp/{EXPERIMENT}\""
   ]
  },
  {
   "cell_type": "code",
   "execution_count": 6,
   "id": "74d69b78-84dd-4d78-93f8-1768594cd641",
   "metadata": {},
   "outputs": [
    {
     "data": {
      "text/plain": [
       "'1026793852137-compute@developer.gserviceaccount.com'"
      ]
     },
     "execution_count": 6,
     "metadata": {},
     "output_type": "execute_result"
    }
   ],
   "source": [
    "SERVICE_ACCOUNT = !gcloud config list --format='value(core.account)' \n",
    "SERVICE_ACCOUNT = SERVICE_ACCOUNT[0]\n",
    "SERVICE_ACCOUNT"
   ]
  },
  {
   "cell_type": "code",
   "execution_count": 7,
   "id": "b2e4d24e-60d0-4b2e-8776-daf1441ab95d",
   "metadata": {},
   "outputs": [],
   "source": [
    "!rm -rf {DIR}\n",
    "!mkdir -p {DIR}"
   ]
  },
  {
   "cell_type": "markdown",
   "id": "fa3145cb-d91e-434b-b73f-6226740fd6ac",
   "metadata": {},
   "source": [
    "## Idea: Decision Tree on Samples\n",
    "\n",
    "- Input parameter is a sample size `n`\n",
    "- Retrieve a sample of size `n` from a BigQuery table to a Pandas dataframe\n",
    "- Use sklearn.tree.DecisionTreeClassifier to build a classifier\n",
    "- Retrieve the rules of the tree"
   ]
  },
  {
   "cell_type": "code",
   "execution_count": 431,
   "id": "5eb4a259-f204-4a12-aa5a-0aa94ea15f10",
   "metadata": {},
   "outputs": [],
   "source": [
    "n = 4000"
   ]
  },
  {
   "cell_type": "code",
   "execution_count": 432,
   "id": "ad465675-8a6a-4594-a30c-971eeaf7fc41",
   "metadata": {},
   "outputs": [],
   "source": [
    "train = bq.query(query = f\"\"\"\n",
    "        SELECT * EXCEPT(splits, transaction_id)\n",
    "            FROM `{BQ_PROJECT}.{BQ_DATASET}.{BQ_TABLE}`\n",
    "            WHERE splits = 'TRAIN' and RAND() < 0.1\n",
    "            LIMIT {n}\n",
    "        \"\"\").to_dataframe()\n",
    "y = train[VAR_TARGET]\n",
    "X = train.drop(VAR_TARGET, axis = 1)"
   ]
  },
  {
   "cell_type": "code",
   "execution_count": 433,
   "id": "376bf7a5-d1cc-4f81-ac52-5fb5dabedbac",
   "metadata": {},
   "outputs": [
    {
     "data": {
      "text/plain": [
       "DecisionTreeClassifier(max_leaf_nodes=3, random_state=0)"
      ]
     },
     "execution_count": 433,
     "metadata": {},
     "output_type": "execute_result"
    }
   ],
   "source": [
    "from sklearn.tree import DecisionTreeClassifier\n",
    "\n",
    "clf = DecisionTreeClassifier(max_leaf_nodes = 3, random_state = 0)\n",
    "clf.fit(X, y)"
   ]
  },
  {
   "cell_type": "code",
   "execution_count": 434,
   "id": "192f6492-b278-453f-b9aa-b57bb2d5e164",
   "metadata": {},
   "outputs": [
    {
     "data": {
      "text/plain": [
       "{2: 'V14 > -4.16540265083313',\n",
       " 3: 'V14 <= -4.16540265083313 and V6 <= -0.5753848850727081',\n",
       " 4: 'V14 <= -4.16540265083313 and V6 > -0.5753848850727081'}"
      ]
     },
     "execution_count": 434,
     "metadata": {},
     "output_type": "execute_result"
    }
   ],
   "source": [
    "n_nodes = clf.tree_.node_count\n",
    "children_left = clf.tree_.children_left\n",
    "children_right = clf.tree_.children_right\n",
    "feature = clf.tree_.feature\n",
    "threshold = clf.tree_.threshold\n",
    "\n",
    "def path_builder(node_num, path, x):\n",
    "        path.append(node_num)\n",
    "        if node_num == x:\n",
    "            return True\n",
    "        left = False\n",
    "        right = False\n",
    "        if (children_left[node_num] !=-1):\n",
    "            left = path_builder(children_left[node_num], path, x)\n",
    "        if (children_right[node_num] !=-1):\n",
    "            right = path_builder(children_right[node_num], path, x)\n",
    "        if left or right :\n",
    "            return True\n",
    "        path.remove(node_num)\n",
    "        return False\n",
    "\n",
    "\n",
    "def rule_builder(path, column_names):\n",
    "    rule = ''\n",
    "    for index, node in enumerate(path):\n",
    "        if index != len(path)-1:\n",
    "            if len(rule) > 0: rule += ' and '\n",
    "            if (children_left[node] == path[index+1]):\n",
    "                rule += f\"{column_names[feature[node]]} <= {threshold[node]}\"\n",
    "            else:\n",
    "                rule += f\"{column_names[feature[node]]} > {threshold[node]}\"\n",
    "    return rule\n",
    "\n",
    "paths ={}\n",
    "for leaf in np.unique(clf.apply(X)):\n",
    "    path_leaf = []\n",
    "    path_builder(0, path_leaf, leaf)\n",
    "    paths[leaf] = np.unique(np.sort(path_leaf))\n",
    "\n",
    "rules = {}\n",
    "for key in paths:\n",
    "    rules[key] = rule_builder(paths[key], X.columns)\n",
    "\n",
    "rules"
   ]
  },
  {
   "cell_type": "markdown",
   "id": "7b72dc4e-caa9-40b8-add5-6cf1a5bb50be",
   "metadata": {},
   "source": [
    "---\n",
    "## Build Custom Prediction Routine\n",
    "\n",
    "A custom container built by the Vertex AI SDK that assist with pre/post processing code without the need to setup an HTTP server."
   ]
  },
  {
   "cell_type": "code",
   "execution_count": 32,
   "id": "1e6b719b-a96e-42c0-b802-703c0864d998",
   "metadata": {},
   "outputs": [],
   "source": [
    "!pip install google-cloud-aiplatform[prediction] -U -q"
   ]
  },
  {
   "cell_type": "code",
   "execution_count": 436,
   "id": "a125959a-8ec3-407c-b818-eb431f957441",
   "metadata": {},
   "outputs": [],
   "source": [
    "!mkdir -p {DIR}/SRC"
   ]
  },
  {
   "cell_type": "code",
   "execution_count": 437,
   "id": "c0b4cdb3-0849-4380-b39e-682fbb72e878",
   "metadata": {},
   "outputs": [
    {
     "name": "stdout",
     "output_type": "stream",
     "text": [
      "Writing temp/cpr_training/SRC/requirements.txt\n"
     ]
    }
   ],
   "source": [
    "%%writefile {DIR}/SRC/requirements.txt\n",
    "fastapi\n",
    "uvicorn==0.17.6\n",
    "#joblib~=1.0\n",
    "numpy~=1.20\n",
    "scikit-learn~=0.24\n",
    "pandas\n",
    "#google-cloud-storage>=1.26.0,<2.0.0dev\n",
    "google-cloud-aiplatform[prediction]>=1.16.0\n",
    "google-cloud-bigquery\n",
    "pyarrow"
   ]
  },
  {
   "cell_type": "code",
   "execution_count": 441,
   "id": "1a773c30-98d6-48c4-8a2a-a571c7c3e500",
   "metadata": {},
   "outputs": [
    {
     "name": "stdout",
     "output_type": "stream",
     "text": [
      "Overwriting temp/cpr_training/SRC/predictor.py\n"
     ]
    }
   ],
   "source": [
    "%%writefile {DIR}/SRC/predictor.py\n",
    "\n",
    "# packages\n",
    "import numpy as np\n",
    "import json\n",
    "from sklearn.tree import DecisionTreeClassifier\n",
    "from google.cloud.aiplatform.prediction.predictor import Predictor\n",
    "from google.cloud import bigquery\n",
    "\n",
    "##################################################################################################\n",
    "\n",
    "# clients\n",
    "bq = bigquery.Client(project = 'statmike-mlops-349915')\n",
    "\n",
    "# source data\n",
    "BQ_PROJECT = 'statmike-mlops-349915'\n",
    "BQ_DATASET = 'fraud'\n",
    "BQ_TABLE = 'fraud_prepped'\n",
    "\n",
    "# Model Training\n",
    "VAR_TARGET = 'Class'\n",
    "\n",
    "def ruler(n):\n",
    "    # helper function: \n",
    "    def path_builder(node_num, path, x):\n",
    "            path.append(node_num)\n",
    "            if node_num == x:\n",
    "                return True\n",
    "            left = False\n",
    "            right = False\n",
    "            if (children_left[node_num] !=-1):\n",
    "                left = path_builder(children_left[node_num], path, x)\n",
    "            if (children_right[node_num] !=-1):\n",
    "                right = path_builder(children_right[node_num], path, x)\n",
    "            if left or right :\n",
    "                return True\n",
    "            path.remove(node_num)\n",
    "            return False\n",
    "    # helper function:\n",
    "    def rule_builder(path, column_names):\n",
    "        rule = ''\n",
    "        for index, node in enumerate(path):\n",
    "            if index != len(path)-1:\n",
    "                if len(rule) > 0: rule += ' and '\n",
    "                if (children_left[node] == path[index+1]):\n",
    "                    rule += f\"{column_names[feature[node]]} <= {threshold[node]}\"\n",
    "                else:\n",
    "                    rule += f\"{column_names[feature[node]]} > {threshold[node]}\"\n",
    "        return rule\n",
    "    \n",
    "    # data\n",
    "    train = bq.query(query = f\"\"\"\n",
    "        SELECT * EXCEPT(splits, transaction_id)\n",
    "            FROM `{BQ_PROJECT}.{BQ_DATASET}.{BQ_TABLE}`\n",
    "            WHERE splits = 'TRAIN' and RAND() < 0.1\n",
    "            LIMIT {n}\n",
    "        \"\"\").to_dataframe()\n",
    "    y = train[VAR_TARGET]\n",
    "    X = train.drop(VAR_TARGET, axis = 1)\n",
    "    \n",
    "    # model\n",
    "    clf = DecisionTreeClassifier(max_leaf_nodes = 3, random_state = 0)\n",
    "    clf.fit(X, y)\n",
    "    \n",
    "    # outputs\n",
    "    n_nodes = clf.tree_.node_count\n",
    "    children_left = clf.tree_.children_left\n",
    "    children_right = clf.tree_.children_right\n",
    "    feature = clf.tree_.feature\n",
    "    threshold = clf.tree_.threshold\n",
    "    \n",
    "    # decision\n",
    "    paths ={}\n",
    "    for leaf in np.unique(clf.apply(X)):\n",
    "        path_leaf = []\n",
    "        path_builder(0, path_leaf, leaf)\n",
    "        paths[leaf] = np.unique(np.sort(path_leaf))\n",
    "    rules = {}\n",
    "    for key in paths:\n",
    "        rules[key] = rule_builder(paths[key], X.columns)\n",
    "\n",
    "    return rules\n",
    "\n",
    "##################################################################################################\n",
    "\n",
    "class CprPredictor(Predictor):\n",
    "    def __init__(self):\n",
    "        return\n",
    "\n",
    "    def load(self, artifacts_uri: str) -> None:\n",
    "        # no model to load here, this example trains a model and returns parameters\n",
    "        pass\n",
    "\n",
    "    def predict(self, instances):\n",
    "\n",
    "        instances = instances[\"instances\"]\n",
    "        results = [f\"{ruler(instance)}\" for instance in instances]\n",
    "        \n",
    "        return {\"predictions\": results}"
   ]
  },
  {
   "cell_type": "code",
   "execution_count": 442,
   "id": "808cfc13-fc4e-41fa-bebb-1ceb4e354b65",
   "metadata": {},
   "outputs": [],
   "source": [
    "from google.cloud.aiplatform.prediction import LocalModel\n",
    "# load the local predictor class:\n",
    "from temp.cpr_training.SRC.predictor import CprPredictor\n",
    "\n",
    "local_model = LocalModel.build_cpr_model(\n",
    "    src_dir = f\"{DIR}/SRC\",\n",
    "    output_image_uri = f\"{REPOSITORY}/{SERIES}_{EXPERIMENT}\",\n",
    "    predictor = CprPredictor,\n",
    "    requirements_path = os.path.join(f\"{DIR}/SRC\", \"requirements.txt\"),\n",
    ")"
   ]
  },
  {
   "cell_type": "code",
   "execution_count": 443,
   "id": "090489e3-b0d7-471b-935c-a89e816cad53",
   "metadata": {},
   "outputs": [],
   "source": [
    "with local_model.deploy_to_local_endpoint() as local_endpoint:\n",
    "    predict_response = local_endpoint.predict(\n",
    "        request = '{\"instances\": [100, 1000, 2000, 3000]}',\n",
    "        headers={\"Content-Type\": \"application/json\"}\n",
    "    )\n",
    "\n",
    "    health_check_response = local_endpoint.run_health_check()"
   ]
  },
  {
   "cell_type": "code",
   "execution_count": 444,
   "id": "38dfa846-49b9-467d-9e80-1f52233de3e3",
   "metadata": {},
   "outputs": [
    {
     "name": "stdout",
     "output_type": "stream",
     "text": [
      "{1: 'V17 <= -2.0364582538604736', 2: 'V17 > -2.0364582538604736'}\n",
      "\n",
      "{2: 'V11 > 3.273556113243103', 3: 'V11 <= 3.273556113243103 and V11 <= 2.1354647874832153', 4: 'V11 <= 3.273556113243103 and V11 > 2.1354647874832153'}\n",
      "\n",
      "{1: 'V11 <= 3.220276713371277', 2: 'V11 > 3.220276713371277'}\n",
      "\n",
      "{1: 'V11 <= 3.5032249689102173', 2: 'V11 > 3.5032249689102173'}\n",
      "\n"
     ]
    },
    {
     "data": {
      "text/plain": [
       "[None, None, None, None]"
      ]
     },
     "execution_count": 444,
     "metadata": {},
     "output_type": "execute_result"
    }
   ],
   "source": [
    "[print(r+'\\n') for r in json.loads(predict_response.content)['predictions']]"
   ]
  },
  {
   "cell_type": "code",
   "execution_count": 445,
   "id": "20e01b5a-fdd7-405a-a173-53e153aef27c",
   "metadata": {},
   "outputs": [
    {
     "name": "stdout",
     "output_type": "stream",
     "text": [
      "\u001b[1;33mWARNING:\u001b[0m Your config file at [/home/jupyter/.docker/config.json] contains these credential helper entries:\n",
      "\n",
      "{\n",
      "  \"credHelpers\": {\n",
      "    \"gcr.io\": \"gcloud\",\n",
      "    \"us.gcr.io\": \"gcloud\",\n",
      "    \"eu.gcr.io\": \"gcloud\",\n",
      "    \"asia.gcr.io\": \"gcloud\",\n",
      "    \"staging-k8s.gcr.io\": \"gcloud\",\n",
      "    \"marketplace.gcr.io\": \"gcloud\",\n",
      "    \"us-central1-docker.pkg.dev\": \"gcloud\"\n",
      "  }\n",
      "}\n",
      "Adding credentials for: us-central1-docker.pkg.dev\n",
      "gcloud credential helpers already registered correctly.\n"
     ]
    }
   ],
   "source": [
    "!gcloud auth configure-docker {REGION}-docker.pkg.dev --quiet"
   ]
  },
  {
   "cell_type": "code",
   "execution_count": 446,
   "id": "1480545d-7fb5-4561-88df-ed77febd7080",
   "metadata": {},
   "outputs": [],
   "source": [
    "local_model.push_image()"
   ]
  },
  {
   "cell_type": "code",
   "execution_count": 447,
   "id": "29998a75-0f49-4758-9d0c-7e70441458f4",
   "metadata": {},
   "outputs": [
    {
     "name": "stdout",
     "output_type": "stream",
     "text": [
      "Creating Model\n",
      "Create Model backing LRO: projects/1026793852137/locations/us-central1/models/6342900061709533184/operations/8112824954468171776\n",
      "Model created. Resource name: projects/1026793852137/locations/us-central1/models/6342900061709533184@1\n",
      "To use this Model in another session:\n",
      "model = aiplatform.Model('projects/1026793852137/locations/us-central1/models/6342900061709533184@1')\n"
     ]
    }
   ],
   "source": [
    "model = aiplatform.Model.upload(\n",
    "    local_model = local_model,\n",
    "    display_name = f\"{SERIES}_{EXPERIMENT}\"\n",
    ")"
   ]
  },
  {
   "cell_type": "code",
   "execution_count": 70,
   "id": "a9daf4a3-7415-462d-8d40-911b2c43a6d1",
   "metadata": {},
   "outputs": [],
   "source": [
    "model = aiplatform.Model('projects/1026793852137/locations/us-central1/models/6342900061709533184@1')"
   ]
  },
  {
   "cell_type": "code",
   "execution_count": 448,
   "id": "caf8af2d-85ba-4135-8e1f-2885c2815522",
   "metadata": {},
   "outputs": [
    {
     "name": "stdout",
     "output_type": "stream",
     "text": [
      "Creating Endpoint\n",
      "Create Endpoint backing LRO: projects/1026793852137/locations/us-central1/endpoints/4685331307255824384/operations/5894802137988202496\n",
      "Endpoint created. Resource name: projects/1026793852137/locations/us-central1/endpoints/4685331307255824384\n",
      "To use this Endpoint in another session:\n",
      "endpoint = aiplatform.Endpoint('projects/1026793852137/locations/us-central1/endpoints/4685331307255824384')\n",
      "Deploying model to Endpoint : projects/1026793852137/locations/us-central1/endpoints/4685331307255824384\n",
      "Deploy Endpoint model backing LRO: projects/1026793852137/locations/us-central1/endpoints/4685331307255824384/operations/845141055799033856\n",
      "Endpoint model deployed. Resource name: projects/1026793852137/locations/us-central1/endpoints/4685331307255824384\n"
     ]
    }
   ],
   "source": [
    "endpoint = model.deploy(\n",
    "    machine_type = DEPLOY_COMPUTE,\n",
    "    min_replica_count = 1,\n",
    "    max_replica_count = 5,\n",
    "    service_account = SERVICE_ACCOUNT\n",
    ")"
   ]
  },
  {
   "cell_type": "code",
   "execution_count": 8,
   "id": "39a4c384-daff-4db3-95d5-7411058e9c04",
   "metadata": {},
   "outputs": [],
   "source": [
    "endpoint = aiplatform.Endpoint('projects/1026793852137/locations/us-central1/endpoints/4685331307255824384')"
   ]
  },
  {
   "cell_type": "code",
   "execution_count": 9,
   "id": "95edaa52-ca2c-40d5-927d-a523ff451288",
   "metadata": {},
   "outputs": [
    {
     "data": {
      "text/plain": [
       "Prediction(predictions=[\"{1: 'V7 <= -6.2548463344573975', 2: 'V7 > -6.2548463344573975'}\", \"{1: 'V10 <= -3.2568970918655396', 3: 'V10 > -3.2568970918655396 and V19 <= -1.4964446425437927', 4: 'V10 > -3.2568970918655396 and V19 > -1.4964446425437927'}\", \"{1: 'V3 <= -5.613183259963989', 2: 'V3 > -5.613183259963989'}\"], deployed_model_id='7424619392324861952', model_version_id='1', model_resource_name='projects/1026793852137/locations/us-central1/models/6342900061709533184', explanations=None)"
      ]
     },
     "execution_count": 9,
     "metadata": {},
     "output_type": "execute_result"
    }
   ],
   "source": [
    "predictions = endpoint.predict(instances = [100, 1000, 2000])\n",
    "predictions"
   ]
  },
  {
   "cell_type": "code",
   "execution_count": 10,
   "id": "2537d65a-9650-4690-aeab-536482208bdc",
   "metadata": {},
   "outputs": [
    {
     "data": {
      "text/plain": [
       "3"
      ]
     },
     "execution_count": 10,
     "metadata": {},
     "output_type": "execute_result"
    }
   ],
   "source": [
    "len(predictions.predictions)"
   ]
  },
  {
   "cell_type": "code",
   "execution_count": 11,
   "id": "de0ed72a-bd0f-47e7-8886-f1f9553f1e48",
   "metadata": {},
   "outputs": [
    {
     "data": {
      "text/plain": [
       "'projects/1026793852137/locations/us-central1/endpoints/4685331307255824384'"
      ]
     },
     "execution_count": 11,
     "metadata": {},
     "output_type": "execute_result"
    }
   ],
   "source": [
    "endpoint.resource_name"
   ]
  },
  {
   "cell_type": "code",
   "execution_count": 12,
   "id": "09f5fbd0-4272-4f9b-a0fb-b3ee7acf0f7a",
   "metadata": {},
   "outputs": [],
   "source": [
    "# get the Async Client for the endpoint:\n",
    "from google.cloud import aiplatform_v1\n",
    "\n",
    "client_options = {\"api_endpoint\": f\"{REGION}-aiplatform.googleapis.com\"}\n",
    "parent = f\"projects/{PROJECT_ID}/locations/{REGION}\"\n",
    "\n",
    "client = aiplatform_v1.PredictionServiceAsyncClient(client_options = client_options)"
   ]
  },
  {
   "cell_type": "code",
   "execution_count": 13,
   "id": "8ec932c0-0c0a-4f69-b61e-05fa2c9610f5",
   "metadata": {},
   "outputs": [],
   "source": [
    "instance = [1000]"
   ]
  },
  {
   "cell_type": "code",
   "execution_count": 14,
   "id": "45d65e65-5e24-49fa-9994-f3b4dc04b18e",
   "metadata": {},
   "outputs": [],
   "source": [
    "import asyncio\n",
    "import time"
   ]
  },
  {
   "cell_type": "code",
   "execution_count": 15,
   "id": "9f928742-ef99-4618-be25-46af569f1b72",
   "metadata": {},
   "outputs": [
    {
     "data": {
      "text/plain": [
       "predictions {\n",
       "  string_value: \"{1: \\'V3 <= -5.189486265182495\\', 2: \\'V3 > -5.189486265182495\\'}\"\n",
       "}\n",
       "deployed_model_id: \"7424619392324861952\"\n",
       "model: \"projects/1026793852137/locations/us-central1/models/6342900061709533184\"\n",
       "model_display_name: \"04_cpr_training\"\n",
       "model_version_id: \"1\""
      ]
     },
     "execution_count": 15,
     "metadata": {},
     "output_type": "execute_result"
    }
   ],
   "source": [
    "predictions = await client.predict(endpoint = endpoint.resource_name, instances = instance)\n",
    "predictions"
   ]
  },
  {
   "cell_type": "code",
   "execution_count": 16,
   "id": "96f6f425-e352-4a25-8e5a-6245d3b0ff30",
   "metadata": {},
   "outputs": [
    {
     "data": {
      "text/plain": [
       "[\"{1: 'V3 <= -5.189486265182495', 2: 'V3 > -5.189486265182495'}\"]"
      ]
     },
     "execution_count": 16,
     "metadata": {},
     "output_type": "execute_result"
    }
   ],
   "source": [
    "predictions.predictions"
   ]
  },
  {
   "cell_type": "code",
   "execution_count": 17,
   "id": "3d065d85-2b15-4fea-b7e1-92f38ddbe9e0",
   "metadata": {},
   "outputs": [
    {
     "data": {
      "text/plain": [
       "1"
      ]
     },
     "execution_count": 17,
     "metadata": {},
     "output_type": "execute_result"
    }
   ],
   "source": [
    "len(predictions.predictions)"
   ]
  },
  {
   "cell_type": "code",
   "execution_count": 18,
   "id": "1b5e3ce3-7a72-4109-9166-653b7e4e54d8",
   "metadata": {},
   "outputs": [],
   "source": [
    "from google.api_core.retry import Retry\n",
    "from google.api_core import exceptions\n",
    "\n",
    "_RETRIABLE_TYPES = [\n",
    "    exceptions.InternalServerError,\n",
    "    exceptions.BadGateway,\n",
    "    exceptions.TooManyRequests,\n",
    "    exceptions.ServiceUnavailable,\n",
    "]\n",
    "\n",
    "def is_retryable(exc):\n",
    "    return isinstance(exc, _RETRIABLE_TYPES)\n",
    "\n",
    "my_retry_policy = Retry(predicate = is_retryable)"
   ]
  },
  {
   "cell_type": "code",
   "execution_count": 531,
   "id": "534b1985-1807-47ec-92d4-8e32db21ad79",
   "metadata": {},
   "outputs": [],
   "source": [
    "async def asyncPredictions(batch_size = 1, concur_requests = 10, total_instances = 100):\n",
    "    limit = asyncio.Semaphore(concur_requests)\n",
    "    instance = [1000]\n",
    "    predictions = [None] * total_instances\n",
    "\n",
    "    async def predictor(p, batch_size):\n",
    "        async with limit:\n",
    "            if limit.locked():\n",
    "                await asyncio.sleep(.01)\n",
    "            prediction = await client.predict(\n",
    "                endpoint = endpoint.resource_name, \n",
    "                instances = instance * batch_size,\n",
    "                retry = my_retry_policy,\n",
    "                timeout = 100000\n",
    "            )\n",
    "\n",
    "        predictions[p:p+batch_size] = prediction.predictions\n",
    "\n",
    "    async def runner(batch_size, total_instances):\n",
    "        tasks = []\n",
    "        for p in range(0, total_instances, batch_size):\n",
    "            task = asyncio.create_task(predictor(p, batch_size))\n",
    "            tasks.append(task)\n",
    "        results = await asyncio.gather(*tasks)\n",
    "\n",
    "    start = time.perf_counter()\n",
    "    await runner(batch_size, total_instances)\n",
    "    elapsed = time.perf_counter() - start\n",
    "    print(f'{elapsed:0.5f} seconds')\n",
    "    \n",
    "    return predictions"
   ]
  },
  {
   "cell_type": "code",
   "execution_count": 522,
   "id": "b6296348-e8e3-4f15-ac38-fb6456376a4f",
   "metadata": {},
   "outputs": [
    {
     "name": "stdout",
     "output_type": "stream",
     "text": [
      "5.73065 seconds\n"
     ]
    }
   ],
   "source": [
    "predictions = await asyncPredictions(1, 2, 10)"
   ]
  },
  {
   "cell_type": "code",
   "execution_count": 483,
   "id": "5a8a2fb7-0131-4ea8-9a97-15bed92008ca",
   "metadata": {},
   "outputs": [
    {
     "data": {
      "text/plain": [
       "10"
      ]
     },
     "execution_count": 483,
     "metadata": {},
     "output_type": "execute_result"
    }
   ],
   "source": [
    "len(predictions)"
   ]
  },
  {
   "cell_type": "code",
   "execution_count": 484,
   "id": "34b451f6-9ba0-431f-9549-0d30cfe6edb7",
   "metadata": {},
   "outputs": [
    {
     "data": {
      "text/plain": [
       "[\"{1: 'V11 <= 2.903998017311096', 2: 'V11 > 2.903998017311096'}\",\n",
       " \"{1: 'V10 <= -2.856087803840637', 3: 'V10 > -2.856087803840637 and V14 <= -1.8680251240730286', 4: 'V10 > -2.856087803840637 and V14 > -1.8680251240730286'}\",\n",
       " \"{1: 'V17 <= -3.4257320165634155', 2: 'V17 > -3.4257320165634155'}\",\n",
       " \"{1: 'V11 <= 3.1742337942123413', 2: 'V11 > 3.1742337942123413'}\",\n",
       " \"{1: 'V14 <= -5.684613943099976', 2: 'V14 > -5.684613943099976'}\",\n",
       " \"{1: 'V14 <= -4.659088969230652', 2: 'V14 > -4.659088969230652'}\",\n",
       " \"{1: 'V17 <= -4.50637024641037', 2: 'V17 > -4.50637024641037'}\",\n",
       " \"{1: 'V4 <= 5.306996822357178', 2: 'V4 > 5.306996822357178'}\",\n",
       " \"{1: 'V3 <= -5.582198619842529', 2: 'V3 > -5.582198619842529'}\",\n",
       " \"{1: 'V10 <= -2.866185188293457', 2: 'V10 > -2.866185188293457'}\"]"
      ]
     },
     "execution_count": 484,
     "metadata": {},
     "output_type": "execute_result"
    }
   ],
   "source": [
    "predictions"
   ]
  },
  {
   "cell_type": "code",
   "execution_count": 485,
   "id": "0bef6743-7ef2-4f6e-b6d5-80b22c2aa181",
   "metadata": {},
   "outputs": [
    {
     "name": "stdout",
     "output_type": "stream",
     "text": [
      "10.38664 seconds\n"
     ]
    }
   ],
   "source": [
    "predictions = await asyncPredictions(1, 4, 20)"
   ]
  },
  {
   "cell_type": "code",
   "execution_count": 486,
   "id": "666e68eb-5016-4b12-a9bf-a09dd1f00ee9",
   "metadata": {},
   "outputs": [
    {
     "data": {
      "text/plain": [
       "20"
      ]
     },
     "execution_count": 486,
     "metadata": {},
     "output_type": "execute_result"
    }
   ],
   "source": [
    "len(predictions)"
   ]
  },
  {
   "cell_type": "code",
   "execution_count": 489,
   "id": "ee7a4fe1-aa34-4591-b46a-297a919d71a6",
   "metadata": {},
   "outputs": [
    {
     "name": "stdout",
     "output_type": "stream",
     "text": [
      "29.90747 seconds\n"
     ]
    }
   ],
   "source": [
    "predictions = await asyncPredictions(10, 4, 40)"
   ]
  },
  {
   "cell_type": "code",
   "execution_count": 490,
   "id": "3e0db730-0c5a-40f7-b1e5-415b6d1f5eba",
   "metadata": {},
   "outputs": [
    {
     "data": {
      "text/plain": [
       "40"
      ]
     },
     "execution_count": 490,
     "metadata": {},
     "output_type": "execute_result"
    }
   ],
   "source": [
    "len(predictions)"
   ]
  },
  {
   "cell_type": "code",
   "execution_count": 525,
   "id": "30e00af4-2be8-4bc6-9da4-38cc5bc2d310",
   "metadata": {},
   "outputs": [
    {
     "name": "stdout",
     "output_type": "stream",
     "text": [
      "65.90143 seconds\n"
     ]
    }
   ],
   "source": [
    "predictions = await asyncPredictions(10, 4, 100)"
   ]
  },
  {
   "cell_type": "code",
   "execution_count": 526,
   "id": "e22aab37-c6e2-482e-9a3b-a2e490b0249f",
   "metadata": {},
   "outputs": [
    {
     "data": {
      "text/plain": [
       "100"
      ]
     },
     "execution_count": 526,
     "metadata": {},
     "output_type": "execute_result"
    }
   ],
   "source": [
    "len(predictions)"
   ]
  },
  {
   "cell_type": "code",
   "execution_count": 527,
   "id": "6419cfe2-a96d-4b38-a0bd-377984aabeb6",
   "metadata": {},
   "outputs": [
    {
     "name": "stdout",
     "output_type": "stream",
     "text": [
      "62.64738 seconds\n"
     ]
    }
   ],
   "source": [
    "predictions = await asyncPredictions(10, 5, 100)"
   ]
  },
  {
   "cell_type": "code",
   "execution_count": 528,
   "id": "78bb8532-fd3a-4898-8334-94d462f5cadb",
   "metadata": {},
   "outputs": [
    {
     "data": {
      "text/plain": [
       "100"
      ]
     },
     "execution_count": 528,
     "metadata": {},
     "output_type": "execute_result"
    }
   ],
   "source": [
    "len(predictions)"
   ]
  },
  {
   "cell_type": "code",
   "execution_count": 495,
   "id": "ae932c83-3c6c-4316-911f-18e3a27cc90b",
   "metadata": {},
   "outputs": [
    {
     "name": "stdout",
     "output_type": "stream",
     "text": [
      "50.71739 seconds\n"
     ]
    }
   ],
   "source": [
    "predictions = await asyncPredictions(10, 6, 100)"
   ]
  },
  {
   "cell_type": "code",
   "execution_count": 496,
   "id": "22745d01-01e3-403b-b925-f287d281173a",
   "metadata": {},
   "outputs": [
    {
     "data": {
      "text/plain": [
       "100"
      ]
     },
     "execution_count": 496,
     "metadata": {},
     "output_type": "execute_result"
    }
   ],
   "source": [
    "len(predictions)"
   ]
  },
  {
   "cell_type": "code",
   "execution_count": 497,
   "id": "d9fff51d-8594-43de-adf0-7458d48565e2",
   "metadata": {},
   "outputs": [
    {
     "name": "stdout",
     "output_type": "stream",
     "text": [
      "60.53520 seconds\n"
     ]
    }
   ],
   "source": [
    "predictions = await asyncPredictions(10, 7, 100)"
   ]
  },
  {
   "cell_type": "code",
   "execution_count": 498,
   "id": "91a8a4ba-55a1-432f-a298-23be656c2edf",
   "metadata": {},
   "outputs": [
    {
     "data": {
      "text/plain": [
       "100"
      ]
     },
     "execution_count": 498,
     "metadata": {},
     "output_type": "execute_result"
    }
   ],
   "source": [
    "len(predictions)"
   ]
  },
  {
   "cell_type": "code",
   "execution_count": 506,
   "id": "14a8567d-d57d-483a-9f3c-2db0c5aca39a",
   "metadata": {},
   "outputs": [
    {
     "name": "stdout",
     "output_type": "stream",
     "text": [
      "60.52704 seconds\n"
     ]
    }
   ],
   "source": [
    "predictions = await asyncPredictions(10, 8, 100)"
   ]
  },
  {
   "cell_type": "code",
   "execution_count": 507,
   "id": "79abc6b2-db43-4233-94bb-9c8e729a1381",
   "metadata": {},
   "outputs": [
    {
     "data": {
      "text/plain": [
       "100"
      ]
     },
     "execution_count": 507,
     "metadata": {},
     "output_type": "execute_result"
    }
   ],
   "source": [
    "len(predictions)"
   ]
  },
  {
   "cell_type": "code",
   "execution_count": 49,
   "id": "369abe0b-849e-48c8-8e64-3381443df7ae",
   "metadata": {},
   "outputs": [],
   "source": [
    "async def predictor(batch_size):\n",
    "    prediction = await client.predict(\n",
    "        endpoint = endpoint.resource_name, \n",
    "        instances = [1000] * batch_size,\n",
    "        retry = my_retry_policy,\n",
    "        timeout = 100000)\n",
    "    return prediction.predictions[0]\n",
    "\n",
    "async def runner(p):\n",
    "    tasks = [predictor(1) for _ in range(p)]\n",
    "    return await asyncio.gather(*tasks)"
   ]
  },
  {
   "cell_type": "code",
   "execution_count": 50,
   "id": "e374c6e1-27e4-49bd-bb97-617fb7aca642",
   "metadata": {},
   "outputs": [],
   "source": [
    "results = await runner(50)"
   ]
  },
  {
   "cell_type": "code",
   "execution_count": 51,
   "id": "fe0f131e-542e-4c5a-a6e7-9fafe61189e6",
   "metadata": {},
   "outputs": [
    {
     "data": {
      "text/plain": [
       "50"
      ]
     },
     "execution_count": 51,
     "metadata": {},
     "output_type": "execute_result"
    }
   ],
   "source": [
    "len(results)"
   ]
  },
  {
   "cell_type": "code",
   "execution_count": 52,
   "id": "03c9abd6-3a26-4022-b53f-6c1ca428ff9a",
   "metadata": {},
   "outputs": [
    {
     "data": {
      "text/plain": [
       "[\"{1: 'V11 <= 3.928184151649475', 2: 'V11 > 3.928184151649475'}\",\n",
       " \"{1: 'V7 <= -10.85008955001831', 2: 'V7 > -10.85008955001831'}\",\n",
       " \"{1: 'V17 <= -6.344502687454224', 3: 'V17 > -6.344502687454224 and V7 <= 1.281801998615265', 4: 'V17 > -6.344502687454224 and V7 > 1.281801998615265'}\",\n",
       " \"{1: 'V11 <= 2.1383026838302612', 3: 'V11 > 2.1383026838302612 and V13 <= -1.161233365535736', 4: 'V11 > 2.1383026838302612 and V13 > -1.161233365535736'}\",\n",
       " \"{1: 'V14 <= -4.2042152881622314', 3: 'V14 > -4.2042152881622314 and V13 <= -2.43116557598114', 4: 'V14 > -4.2042152881622314 and V13 > -2.43116557598114'}\",\n",
       " \"{2: 'V17 > 5.3876073360443115', 3: 'V17 <= 5.3876073360443115 and V11 <= 2.1229100227355957', 4: 'V17 <= 5.3876073360443115 and V11 > 2.1229100227355957'}\",\n",
       " \"{1: 'V17 <= -7.099818468093872', 2: 'V17 > -7.099818468093872'}\",\n",
       " \"{1: 'V10 <= -2.821014881134033', 3: 'V10 > -2.821014881134033 and V11 <= 1.909305453300476', 4: 'V10 > -2.821014881134033 and V11 > 1.909305453300476'}\",\n",
       " \"{1: 'V11 <= 3.0156173706054688', 2: 'V11 > 3.0156173706054688'}\",\n",
       " \"{1: 'V10 <= -2.4676674604415894', 2: 'V10 > -2.4676674604415894'}\",\n",
       " \"{1: 'V3 <= -5.409078598022461', 2: 'V3 > -5.409078598022461'}\",\n",
       " \"{1: 'V4 <= 5.609161853790283', 3: 'V4 > 5.609161853790283 and V3 <= 0.31872133165597916', 4: 'V4 > 5.609161853790283 and V3 > 0.31872133165597916'}\",\n",
       " \"{1: 'V3 <= -4.702142953872681', 3: 'V3 > -4.702142953872681 and V13 <= -2.4166367053985596', 4: 'V3 > -4.702142953872681 and V13 > -2.4166367053985596'}\",\n",
       " \"{1: 'V17 <= -7.665579795837402', 2: 'V17 > -7.665579795837402'}\",\n",
       " \"{1: 'V17 <= -7.206885814666748', 3: 'V17 > -7.206885814666748 and V11 <= 2.1373207569122314', 4: 'V17 > -7.206885814666748 and V11 > 2.1373207569122314'}\",\n",
       " \"{2: 'V11 > 3.273556113243103', 3: 'V11 <= 3.273556113243103 and V5 <= 8.031404733657837', 4: 'V11 <= 3.273556113243103 and V5 > 8.031404733657837'}\",\n",
       " \"{2: 'V13 > -2.4244229793548584', 3: 'V13 <= -2.4244229793548584 and V13 <= -2.4468764066696167', 4: 'V13 <= -2.4244229793548584 and V13 > -2.4468764066696167'}\",\n",
       " \"{1: 'V7 <= -25.776169300079346', 3: 'V7 > -25.776169300079346 and V19 <= -3.230984330177307', 4: 'V7 > -25.776169300079346 and V19 > -3.230984330177307'}\",\n",
       " \"{1: 'V3 <= -4.616915941238403', 2: 'V3 > -4.616915941238403'}\",\n",
       " \"{0: ''}\",\n",
       " \"{1: 'V11 <= 3.220276713371277', 2: 'V11 > 3.220276713371277'}\",\n",
       " \"{1: 'V11 <= 2.972394585609436', 2: 'V11 > 2.972394585609436'}\",\n",
       " \"{1: 'V3 <= -5.657166242599487', 3: 'V3 > -5.657166242599487 and V7 <= 1.2933335304260254', 4: 'V3 > -5.657166242599487 and V7 > 1.2933335304260254'}\",\n",
       " \"{1: 'V3 <= -5.735713481903076', 2: 'V3 > -5.735713481903076'}\",\n",
       " \"{1: 'V11 <= 3.912846565246582', 2: 'V11 > 3.912846565246582'}\",\n",
       " \"{1: 'V11 <= 3.621681809425354', 2: 'V11 > 3.621681809425354'}\",\n",
       " \"{2: 'V11 > 3.3237446546554565', 3: 'V11 <= 3.3237446546554565 and V5 <= 9.799838542938232', 4: 'V11 <= 3.3237446546554565 and V5 > 9.799838542938232'}\",\n",
       " \"{1: 'V11 <= 3.250109314918518', 2: 'V11 > 3.250109314918518'}\",\n",
       " \"{1: 'V17 <= -2.3033270835876465', 3: 'V17 > -2.3033270835876465 and V13 <= -2.43116557598114', 4: 'V17 > -2.3033270835876465 and V13 > -2.43116557598114'}\",\n",
       " \"{1: 'V14 <= -4.446139335632324', 2: 'V14 > -4.446139335632324'}\",\n",
       " \"{1: 'V10 <= -3.2808409929275513', 2: 'V10 > -3.2808409929275513'}\",\n",
       " \"{1: 'V3 <= -4.333433389663696', 3: 'V3 > -4.333433389663696 and V13 <= -2.409986734390259', 4: 'V3 > -4.333433389663696 and V13 > -2.409986734390259'}\",\n",
       " \"{2: 'V11 > 2.7894883155822754', 3: 'V11 <= 2.7894883155822754 and V5 <= 7.567243337631226', 4: 'V11 <= 2.7894883155822754 and V5 > 7.567243337631226'}\",\n",
       " \"{1: 'V17 <= -2.3033270835876465', 3: 'V17 > -2.3033270835876465 and V5 <= 9.093640804290771', 4: 'V17 > -2.3033270835876465 and V5 > 9.093640804290771'}\",\n",
       " \"{1: 'V11 <= 3.1776927709579468', 2: 'V11 > 3.1776927709579468'}\",\n",
       " \"{1: 'V11 <= 3.832778811454773', 2: 'V11 > 3.832778811454773'}\",\n",
       " \"{1: 'V10 <= -2.9511245489120483', 2: 'V10 > -2.9511245489120483'}\",\n",
       " \"{1: 'V10 <= -2.75785493850708', 2: 'V10 > -2.75785493850708'}\",\n",
       " \"{1: 'V17 <= -6.323469400405884', 2: 'V17 > -6.323469400405884'}\",\n",
       " \"{1: 'V17 <= -4.523618698120117', 2: 'V17 > -4.523618698120117'}\",\n",
       " \"{1: 'V10 <= -2.663732886314392', 2: 'V10 > -2.663732886314392'}\",\n",
       " \"{1: 'V17 <= -3.880559027194977', 3: 'V17 > -3.880559027194977 and V7 <= 1.2472608089447021', 4: 'V17 > -3.880559027194977 and V7 > 1.2472608089447021'}\",\n",
       " \"{1: 'V4 <= 6.460382699966431', 3: 'V4 > 6.460382699966431 and V27 <= 3.5998059026896954', 4: 'V4 > 6.460382699966431 and V27 > 3.5998059026896954'}\",\n",
       " \"{1: 'V11 <= 3.9131205081939697', 2: 'V11 > 3.9131205081939697'}\",\n",
       " \"{1: 'V17 <= -6.73304283618927', 2: 'V17 > -6.73304283618927'}\",\n",
       " \"{1: 'V17 <= -2.320596992969513', 3: 'V17 > -2.320596992969513 and V14 <= -1.8690599203109741', 4: 'V17 > -2.320596992969513 and V14 > -1.8690599203109741'}\",\n",
       " \"{0: ''}\",\n",
       " \"{2: 'V11 > 3.2108945846557617', 3: 'V11 <= 3.2108945846557617 and V11 <= 2.1219289302825928', 4: 'V11 <= 3.2108945846557617 and V11 > 2.1219289302825928'}\",\n",
       " \"{1: 'V10 <= -2.717603325843811', 3: 'V10 > -2.717603325843811 and V14 <= -1.837870717048645', 4: 'V10 > -2.717603325843811 and V14 > -1.837870717048645'}\",\n",
       " \"{1: 'V10 <= -2.574135899543762', 3: 'V10 > -2.574135899543762 and V5 <= 9.799838542938232', 4: 'V10 > -2.574135899543762 and V5 > 9.799838542938232'}\"]"
      ]
     },
     "execution_count": 52,
     "metadata": {},
     "output_type": "execute_result"
    }
   ],
   "source": [
    "results"
   ]
  },
  {
   "cell_type": "code",
   "execution_count": 53,
   "id": "094cbf82-f6b1-4c12-9627-e2cc3fcca7cd",
   "metadata": {},
   "outputs": [],
   "source": [
    "results = []\n",
    "for l in range(5):\n",
    "    results += await runner(10)"
   ]
  },
  {
   "cell_type": "code",
   "execution_count": 54,
   "id": "a10bf990-0fe4-4ac5-a3d9-114a3f9167ac",
   "metadata": {},
   "outputs": [
    {
     "data": {
      "text/plain": [
       "50"
      ]
     },
     "execution_count": 54,
     "metadata": {},
     "output_type": "execute_result"
    }
   ],
   "source": [
    "len(results)"
   ]
  },
  {
   "cell_type": "code",
   "execution_count": 55,
   "id": "c57e6e2f-1356-4bdd-a704-f986e2747592",
   "metadata": {},
   "outputs": [
    {
     "data": {
      "text/plain": [
       "[\"{1: 'V17 <= -4.027241945266724', 2: 'V17 > -4.027241945266724'}\",\n",
       " \"{0: ''}\",\n",
       " \"{1: 'V14 <= -4.285696983337402', 3: 'V14 > -4.285696983337402 and V7 <= 1.2747080326080322', 4: 'V14 > -4.285696983337402 and V7 > 1.2747080326080322'}\",\n",
       " \"{1: 'V17 <= -6.415940046310425', 3: 'V17 > -6.415940046310425 and V7 <= 1.2888912558555603', 4: 'V17 > -6.415940046310425 and V7 > 1.2888912558555603'}\",\n",
       " \"{1: 'V3 <= -4.849050283432007', 2: 'V3 > -4.849050283432007'}\",\n",
       " \"{1: 'V17 <= -3.5062111020088196', 2: 'V17 > -3.5062111020088196'}\",\n",
       " \"{1: 'V11 <= 3.0515365600585938', 2: 'V11 > 3.0515365600585938'}\",\n",
       " \"{1: 'V3 <= -5.447434186935425', 2: 'V3 > -5.447434186935425'}\",\n",
       " \"{1: 'V10 <= -2.6969146728515625', 3: 'V10 > -2.6969146728515625 and V14 <= -1.6223512887954712', 4: 'V10 > -2.6969146728515625 and V14 > -1.6223512887954712'}\",\n",
       " \"{1: 'V17 <= -2.704252779483795', 3: 'V17 > -2.704252779483795 and V11 <= 1.9256085753440857', 4: 'V17 > -2.704252779483795 and V11 > 1.9256085753440857'}\",\n",
       " \"{1: 'V17 <= -4.99827241897583', 3: 'V17 > -4.99827241897583 and V13 <= -2.412695527076721', 4: 'V17 > -4.99827241897583 and V13 > -2.412695527076721'}\",\n",
       " \"{0: ''}\",\n",
       " \"{1: 'V17 <= -2.4156100749969482', 2: 'V17 > -2.4156100749969482'}\",\n",
       " \"{2: 'V11 > 2.9525123834609985', 3: 'V11 <= 2.9525123834609985 and V4 <= 5.936361789703369', 4: 'V11 <= 2.9525123834609985 and V4 > 5.936361789703369'}\",\n",
       " \"{1: 'V17 <= -3.4944509267807007', 3: 'V17 > -3.4944509267807007 and V5 <= 9.093640804290771', 4: 'V17 > -3.4944509267807007 and V5 > 9.093640804290771'}\",\n",
       " \"{0: ''}\",\n",
       " \"{1: 'V3 <= -5.5826075077056885', 2: 'V3 > -5.5826075077056885'}\",\n",
       " \"{1: 'V11 <= 3.9131205081939697', 2: 'V11 > 3.9131205081939697'}\",\n",
       " \"{1: 'V10 <= -2.857400417327881', 2: 'V10 > -2.857400417327881'}\",\n",
       " \"{1: 'V14 <= -4.428524971008301', 2: 'V14 > -4.428524971008301'}\",\n",
       " \"{1: 'V11 <= 3.767276167869568', 2: 'V11 > 3.767276167869568'}\",\n",
       " \"{1: 'V3 <= -5.491417169570923', 2: 'V3 > -5.491417169570923'}\",\n",
       " \"{2: 'V11 > 3.2418997287750244', 3: 'V11 <= 3.2418997287750244 and V5 <= 8.103154420852661', 4: 'V11 <= 3.2418997287750244 and V5 > 8.103154420852661'}\",\n",
       " \"{1: 'V11 <= 3.100598454475403', 2: 'V11 > 3.100598454475403'}\",\n",
       " \"{1: 'V11 <= 3.0858383178710938', 2: 'V11 > 3.0858383178710938'}\",\n",
       " \"{0: ''}\",\n",
       " \"{1: 'V11 <= 3.2444852590560913', 2: 'V11 > 3.2444852590560913'}\",\n",
       " \"{2: 'V10 > -2.857400417327881', 3: 'V10 <= -2.857400417327881 and V27 <= 0.23047161847352982', 4: 'V10 <= -2.857400417327881 and V27 > 0.23047161847352982'}\",\n",
       " \"{1: 'V17 <= -2.623773694038391', 2: 'V17 > -2.623773694038391'}\",\n",
       " \"{1: 'V14 <= -6.013307809829712', 2: 'V14 > -6.013307809829712'}\",\n",
       " \"{1: 'V10 <= -2.6969146728515625', 3: 'V10 > -2.6969146728515625 and V5 <= 9.093640804290771', 4: 'V10 > -2.6969146728515625 and V5 > 9.093640804290771'}\",\n",
       " \"{1: 'V14 <= -5.684613943099976', 2: 'V14 > -5.684613943099976'}\",\n",
       " \"{2: 'V17 > 5.378516912460327', 3: 'V17 <= 5.378516912460327 and V11 <= 2.09848415851593', 4: 'V17 <= 5.378516912460327 and V11 > 2.09848415851593'}\",\n",
       " \"{1: 'V10 <= -3.143180727958679', 2: 'V10 > -3.143180727958679'}\",\n",
       " \"{1: 'V10 <= -2.9626165628433228', 2: 'V10 > -2.9626165628433228'}\",\n",
       " \"{1: 'V14 <= -4.878321409225464', 3: 'V14 > -4.878321409225464 and V5 <= 7.789342880249023', 4: 'V14 > -4.878321409225464 and V5 > 7.789342880249023'}\",\n",
       " \"{1: 'V3 <= -5.394014835357666', 3: 'V3 > -5.394014835357666 and V17 <= 1.584323763847351', 4: 'V3 > -5.394014835357666 and V17 > 1.584323763847351'}\",\n",
       " \"{0: ''}\",\n",
       " \"{1: 'V3 <= -5.491417169570923', 2: 'V3 > -5.491417169570923'}\",\n",
       " \"{1: 'V11 <= 3.2411041259765625', 2: 'V11 > 3.2411041259765625'}\",\n",
       " \"{1: 'V3 <= -5.145541667938232', 2: 'V3 > -5.145541667938232'}\",\n",
       " \"{1: 'V10 <= -3.0972036123275757', 2: 'V10 > -3.0972036123275757'}\",\n",
       " \"{1: 'V17 <= -7.255496263504028', 2: 'V17 > -7.255496263504028'}\",\n",
       " \"{1: 'V3 <= -5.592666864395142', 3: 'V3 > -5.592666864395142 and V7 <= 1.2885457873344421', 4: 'V3 > -5.592666864395142 and V7 > 1.2885457873344421'}\",\n",
       " \"{1: 'V10 <= -2.717603325843811', 2: 'V10 > -2.717603325843811'}\",\n",
       " \"{2: 'V10 > -2.5250877141952515', 3: 'V10 <= -2.5250877141952515 and V27 <= 0.13254800345748663', 4: 'V10 <= -2.5250877141952515 and V27 > 0.13254800345748663'}\",\n",
       " \"{1: 'V14 <= -4.443572759628296', 2: 'V14 > -4.443572759628296'}\",\n",
       " \"{1: 'V10 <= -2.7084453105926514', 3: 'V10 > -2.7084453105926514 and V5 <= 7.744626760482788', 4: 'V10 > -2.7084453105926514 and V5 > 7.744626760482788'}\",\n",
       " \"{1: 'V17 <= -4.172102332115173', 2: 'V17 > -4.172102332115173'}\",\n",
       " \"{1: 'V17 <= -7.099818468093872', 3: 'V17 > -7.099818468093872 and V5 <= 8.787569284439087', 4: 'V17 > -7.099818468093872 and V5 > 8.787569284439087'}\"]"
      ]
     },
     "execution_count": 55,
     "metadata": {},
     "output_type": "execute_result"
    }
   ],
   "source": [
    "results"
   ]
  },
  {
   "cell_type": "code",
   "execution_count": 56,
   "id": "f43fbf0a-7190-43d9-a24a-20795ed107d2",
   "metadata": {},
   "outputs": [],
   "source": [
    "results = []\n",
    "for l in range(5):\n",
    "    results += await runner(20)"
   ]
  },
  {
   "cell_type": "code",
   "execution_count": 57,
   "id": "285abee5-c27d-4774-814d-1f76c29a00ce",
   "metadata": {},
   "outputs": [
    {
     "data": {
      "text/plain": [
       "100"
      ]
     },
     "execution_count": 57,
     "metadata": {},
     "output_type": "execute_result"
    }
   ],
   "source": [
    "len(results)"
   ]
  },
  {
   "cell_type": "code",
   "execution_count": 58,
   "id": "2aa18933-7aff-4959-a3c0-e6549c2896d5",
   "metadata": {},
   "outputs": [],
   "source": [
    "results = []\n",
    "for l in range(2):\n",
    "    results += await runner(50)"
   ]
  },
  {
   "cell_type": "code",
   "execution_count": 59,
   "id": "2a689e97-b46a-41cf-9943-056655c360a0",
   "metadata": {},
   "outputs": [
    {
     "data": {
      "text/plain": [
       "100"
      ]
     },
     "execution_count": 59,
     "metadata": {},
     "output_type": "execute_result"
    }
   ],
   "source": [
    "len(results)"
   ]
  },
  {
   "cell_type": "code",
   "execution_count": 62,
   "id": "93642a62-b12b-434b-b99d-18de0d6c09ea",
   "metadata": {},
   "outputs": [],
   "source": [
    "async def predictor(batch_size, n):\n",
    "    prediction = await client.predict(\n",
    "        endpoint = endpoint.resource_name, \n",
    "        instances = [1000] * batch_size,\n",
    "        retry = my_retry_policy,\n",
    "        timeout = 100000)\n",
    "    return prediction.predictions[0]\n",
    "\n",
    "async def runner(p, batch_size, n):\n",
    "    tasks = [predictor(batch_size, n) for _ in range(p)]\n",
    "    return await asyncio.gather(*tasks)"
   ]
  },
  {
   "cell_type": "code",
   "execution_count": 63,
   "id": "2d9367f6-6bea-4f53-8205-9a42b06a3fb0",
   "metadata": {},
   "outputs": [],
   "source": [
    "results = []\n",
    "for l in range(2):\n",
    "    results += await runner(50, 1, 10000)"
   ]
  },
  {
   "cell_type": "code",
   "execution_count": 64,
   "id": "f992dcca-23c9-473b-8be6-df1407382753",
   "metadata": {},
   "outputs": [
    {
     "data": {
      "text/plain": [
       "100"
      ]
     },
     "execution_count": 64,
     "metadata": {},
     "output_type": "execute_result"
    }
   ],
   "source": [
    "len(results)"
   ]
  },
  {
   "cell_type": "code",
   "execution_count": 66,
   "id": "266ae19f-a038-46ce-9390-67590243bb33",
   "metadata": {},
   "outputs": [
    {
     "ename": "ServiceUnavailable",
     "evalue": "503 502:Bad Gateway",
     "output_type": "error",
     "traceback": [
      "\u001b[0;31m---------------------------------------------------------------------------\u001b[0m",
      "\u001b[0;31mAioRpcError\u001b[0m                               Traceback (most recent call last)",
      "\u001b[0;32m/opt/conda/lib/python3.7/site-packages/google/api_core/grpc_helpers_async.py\u001b[0m in \u001b[0;36m__await__\u001b[0;34m(self)\u001b[0m\n\u001b[1;32m     83\u001b[0m         \u001b[0;32mtry\u001b[0m\u001b[0;34m:\u001b[0m\u001b[0;34m\u001b[0m\u001b[0;34m\u001b[0m\u001b[0m\n\u001b[0;32m---> 84\u001b[0;31m             \u001b[0mresponse\u001b[0m \u001b[0;34m=\u001b[0m \u001b[0;32myield\u001b[0m \u001b[0;32mfrom\u001b[0m \u001b[0mself\u001b[0m\u001b[0;34m.\u001b[0m\u001b[0m_call\u001b[0m\u001b[0;34m.\u001b[0m\u001b[0m__await__\u001b[0m\u001b[0;34m(\u001b[0m\u001b[0;34m)\u001b[0m\u001b[0;34m\u001b[0m\u001b[0;34m\u001b[0m\u001b[0m\n\u001b[0m\u001b[1;32m     85\u001b[0m             \u001b[0;32mreturn\u001b[0m \u001b[0mresponse\u001b[0m\u001b[0;34m\u001b[0m\u001b[0;34m\u001b[0m\u001b[0m\n",
      "\u001b[0;32m/opt/conda/lib/python3.7/site-packages/grpc/aio/_call.py\u001b[0m in \u001b[0;36m__await__\u001b[0;34m(self)\u001b[0m\n\u001b[1;32m    290\u001b[0m                 raise _create_rpc_error(self._cython_call._initial_metadata,\n\u001b[0;32m--> 291\u001b[0;31m                                         self._cython_call._status)\n\u001b[0m\u001b[1;32m    292\u001b[0m         \u001b[0;32melse\u001b[0m\u001b[0;34m:\u001b[0m\u001b[0;34m\u001b[0m\u001b[0;34m\u001b[0m\u001b[0m\n",
      "\u001b[0;31mAioRpcError\u001b[0m: <AioRpcError of RPC that terminated with:\n\tstatus = StatusCode.UNAVAILABLE\n\tdetails = \"502:Bad Gateway\"\n\tdebug_error_string = \"{\"created\":\"@1670547356.095806727\",\"description\":\"Error received from peer ipv4:172.253.114.95:443\",\"file\":\"/home/conda/feedstock_root/build_artifacts/grpc-split_1656146941531/work/src/core/lib/surface/call.cc\",\"file_line\":966,\"grpc_message\":\"502:Bad Gateway\",\"grpc_status\":14}\"\n>",
      "\nThe above exception was the direct cause of the following exception:\n",
      "\u001b[0;31mServiceUnavailable\u001b[0m                        Traceback (most recent call last)",
      "\u001b[0;32m/tmp/ipykernel_31775/3684652700.py\u001b[0m in \u001b[0;36masync-def-wrapper\u001b[0;34m()\u001b[0m\n",
      "\u001b[0;32m/tmp/ipykernel_31775/3905634044.py\u001b[0m in \u001b[0;36mrunner\u001b[0;34m(p, batch_size, n)\u001b[0m\n\u001b[1;32m      9\u001b[0m \u001b[0;32masync\u001b[0m \u001b[0;32mdef\u001b[0m \u001b[0mrunner\u001b[0m\u001b[0;34m(\u001b[0m\u001b[0mp\u001b[0m\u001b[0;34m,\u001b[0m \u001b[0mbatch_size\u001b[0m\u001b[0;34m,\u001b[0m \u001b[0mn\u001b[0m\u001b[0;34m)\u001b[0m\u001b[0;34m:\u001b[0m\u001b[0;34m\u001b[0m\u001b[0;34m\u001b[0m\u001b[0m\n\u001b[1;32m     10\u001b[0m     \u001b[0mtasks\u001b[0m \u001b[0;34m=\u001b[0m \u001b[0;34m[\u001b[0m\u001b[0mpredictor\u001b[0m\u001b[0;34m(\u001b[0m\u001b[0mbatch_size\u001b[0m\u001b[0;34m,\u001b[0m \u001b[0mn\u001b[0m\u001b[0;34m)\u001b[0m \u001b[0;32mfor\u001b[0m \u001b[0m_\u001b[0m \u001b[0;32min\u001b[0m \u001b[0mrange\u001b[0m\u001b[0;34m(\u001b[0m\u001b[0mp\u001b[0m\u001b[0;34m)\u001b[0m\u001b[0;34m]\u001b[0m\u001b[0;34m\u001b[0m\u001b[0;34m\u001b[0m\u001b[0m\n\u001b[0;32m---> 11\u001b[0;31m     \u001b[0;32mreturn\u001b[0m \u001b[0;32mawait\u001b[0m \u001b[0masyncio\u001b[0m\u001b[0;34m.\u001b[0m\u001b[0mgather\u001b[0m\u001b[0;34m(\u001b[0m\u001b[0;34m*\u001b[0m\u001b[0mtasks\u001b[0m\u001b[0;34m)\u001b[0m\u001b[0;34m\u001b[0m\u001b[0;34m\u001b[0m\u001b[0m\n\u001b[0m",
      "\u001b[0;32m/tmp/ipykernel_31775/3905634044.py\u001b[0m in \u001b[0;36mpredictor\u001b[0;34m(batch_size, n)\u001b[0m\n\u001b[1;32m      4\u001b[0m         \u001b[0minstances\u001b[0m \u001b[0;34m=\u001b[0m \u001b[0;34m[\u001b[0m\u001b[0;36m1000\u001b[0m\u001b[0;34m]\u001b[0m \u001b[0;34m*\u001b[0m \u001b[0mbatch_size\u001b[0m\u001b[0;34m,\u001b[0m\u001b[0;34m\u001b[0m\u001b[0;34m\u001b[0m\u001b[0m\n\u001b[1;32m      5\u001b[0m         \u001b[0mretry\u001b[0m \u001b[0;34m=\u001b[0m \u001b[0mmy_retry_policy\u001b[0m\u001b[0;34m,\u001b[0m\u001b[0;34m\u001b[0m\u001b[0;34m\u001b[0m\u001b[0m\n\u001b[0;32m----> 6\u001b[0;31m         timeout = 100000)\n\u001b[0m\u001b[1;32m      7\u001b[0m     \u001b[0;32mreturn\u001b[0m \u001b[0mprediction\u001b[0m\u001b[0;34m.\u001b[0m\u001b[0mpredictions\u001b[0m\u001b[0;34m[\u001b[0m\u001b[0;36m0\u001b[0m\u001b[0;34m]\u001b[0m\u001b[0;34m\u001b[0m\u001b[0;34m\u001b[0m\u001b[0m\n\u001b[1;32m      8\u001b[0m \u001b[0;34m\u001b[0m\u001b[0m\n",
      "\u001b[0;32m/opt/conda/lib/python3.7/site-packages/google/cloud/aiplatform_v1/services/prediction_service/async_client.py\u001b[0m in \u001b[0;36mpredict\u001b[0;34m(self, request, endpoint, instances, parameters, retry, timeout, metadata)\u001b[0m\n\u001b[1;32m    346\u001b[0m             \u001b[0mretry\u001b[0m\u001b[0;34m=\u001b[0m\u001b[0mretry\u001b[0m\u001b[0;34m,\u001b[0m\u001b[0;34m\u001b[0m\u001b[0;34m\u001b[0m\u001b[0m\n\u001b[1;32m    347\u001b[0m             \u001b[0mtimeout\u001b[0m\u001b[0;34m=\u001b[0m\u001b[0mtimeout\u001b[0m\u001b[0;34m,\u001b[0m\u001b[0;34m\u001b[0m\u001b[0;34m\u001b[0m\u001b[0m\n\u001b[0;32m--> 348\u001b[0;31m             \u001b[0mmetadata\u001b[0m\u001b[0;34m=\u001b[0m\u001b[0mmetadata\u001b[0m\u001b[0;34m,\u001b[0m\u001b[0;34m\u001b[0m\u001b[0;34m\u001b[0m\u001b[0m\n\u001b[0m\u001b[1;32m    349\u001b[0m         )\n\u001b[1;32m    350\u001b[0m \u001b[0;34m\u001b[0m\u001b[0m\n",
      "\u001b[0;32m/opt/conda/lib/python3.7/site-packages/google/api_core/grpc_helpers_async.py\u001b[0m in \u001b[0;36m__await__\u001b[0;34m(self)\u001b[0m\n\u001b[1;32m     85\u001b[0m             \u001b[0;32mreturn\u001b[0m \u001b[0mresponse\u001b[0m\u001b[0;34m\u001b[0m\u001b[0;34m\u001b[0m\u001b[0m\n\u001b[1;32m     86\u001b[0m         \u001b[0;32mexcept\u001b[0m \u001b[0mgrpc\u001b[0m\u001b[0;34m.\u001b[0m\u001b[0mRpcError\u001b[0m \u001b[0;32mas\u001b[0m \u001b[0mrpc_error\u001b[0m\u001b[0;34m:\u001b[0m\u001b[0;34m\u001b[0m\u001b[0;34m\u001b[0m\u001b[0m\n\u001b[0;32m---> 87\u001b[0;31m             \u001b[0;32mraise\u001b[0m \u001b[0mexceptions\u001b[0m\u001b[0;34m.\u001b[0m\u001b[0mfrom_grpc_error\u001b[0m\u001b[0;34m(\u001b[0m\u001b[0mrpc_error\u001b[0m\u001b[0;34m)\u001b[0m \u001b[0;32mfrom\u001b[0m \u001b[0mrpc_error\u001b[0m\u001b[0;34m\u001b[0m\u001b[0;34m\u001b[0m\u001b[0m\n\u001b[0m\u001b[1;32m     88\u001b[0m \u001b[0;34m\u001b[0m\u001b[0m\n\u001b[1;32m     89\u001b[0m \u001b[0;34m\u001b[0m\u001b[0m\n",
      "\u001b[0;31mServiceUnavailable\u001b[0m: 503 502:Bad Gateway"
     ]
    }
   ],
   "source": [
    "results = []\n",
    "for l in range(2):\n",
    "    results += await runner(75, 1, 20000)"
   ]
  },
  {
   "cell_type": "code",
   "execution_count": null,
   "id": "451a0f5c-38dc-40b7-8d5a-248af0bc8383",
   "metadata": {},
   "outputs": [],
   "source": [
    "len(results)"
   ]
  },
  {
   "cell_type": "code",
   "execution_count": null,
   "id": "50d478dc-a4cb-4155-a5fe-ed8c637f1142",
   "metadata": {},
   "outputs": [],
   "source": []
  },
  {
   "cell_type": "code",
   "execution_count": null,
   "id": "5cf8df38-201f-46ba-8dec-361bfea69837",
   "metadata": {},
   "outputs": [],
   "source": []
  },
  {
   "cell_type": "code",
   "execution_count": null,
   "id": "94f7c75a-88f9-4d75-95e4-bef1bc8e53c1",
   "metadata": {},
   "outputs": [],
   "source": []
  },
  {
   "cell_type": "code",
   "execution_count": null,
   "id": "ccc9a2fe-0cff-4e77-a4c5-4806ba70135f",
   "metadata": {},
   "outputs": [],
   "source": []
  },
  {
   "cell_type": "code",
   "execution_count": null,
   "id": "53f650e6-b631-4b71-a471-dca2425a9945",
   "metadata": {},
   "outputs": [],
   "source": []
  },
  {
   "cell_type": "code",
   "execution_count": null,
   "id": "efb1d4ff-0283-4de7-a584-302a3dc17989",
   "metadata": {},
   "outputs": [],
   "source": []
  },
  {
   "cell_type": "code",
   "execution_count": null,
   "id": "82099f5e-f75a-445f-8b26-3d74a1de666a",
   "metadata": {},
   "outputs": [],
   "source": []
  },
  {
   "cell_type": "code",
   "execution_count": null,
   "id": "22a9bb64-055c-4a6b-a022-6c41cd157867",
   "metadata": {},
   "outputs": [],
   "source": []
  },
  {
   "cell_type": "code",
   "execution_count": null,
   "id": "28c00742-bc4c-45c6-b670-f13c0c06755b",
   "metadata": {},
   "outputs": [],
   "source": []
  },
  {
   "cell_type": "code",
   "execution_count": null,
   "id": "e5abf1cc-f381-413e-a266-08eb755e2c0a",
   "metadata": {},
   "outputs": [],
   "source": []
  },
  {
   "cell_type": "code",
   "execution_count": 67,
   "id": "607f48cd-a6f9-4f75-8269-7679fac93c5c",
   "metadata": {},
   "outputs": [
    {
     "name": "stdout",
     "output_type": "stream",
     "text": [
      "Undeploying Endpoint model: projects/1026793852137/locations/us-central1/endpoints/4685331307255824384\n",
      "Undeploy Endpoint model backing LRO: projects/1026793852137/locations/us-central1/endpoints/4685331307255824384/operations/5021103810278326272\n",
      "Endpoint model undeployed. Resource name: projects/1026793852137/locations/us-central1/endpoints/4685331307255824384\n",
      "Deleting Endpoint : projects/1026793852137/locations/us-central1/endpoints/4685331307255824384\n",
      "Delete Endpoint  backing LRO: projects/1026793852137/locations/us-central1/operations/22108223897075712\n",
      "Endpoint deleted. . Resource name: projects/1026793852137/locations/us-central1/endpoints/4685331307255824384\n"
     ]
    }
   ],
   "source": [
    "endpoint.delete(force = True)"
   ]
  },
  {
   "cell_type": "code",
   "execution_count": 71,
   "id": "eb0c8d49-ef5a-4c2b-bb48-06452866cc30",
   "metadata": {},
   "outputs": [
    {
     "name": "stdout",
     "output_type": "stream",
     "text": [
      "Deleting Model : projects/1026793852137/locations/us-central1/models/6342900061709533184\n",
      "Delete Model  backing LRO: projects/1026793852137/locations/us-central1/operations/5901276062452547584\n",
      "Model deleted. . Resource name: projects/1026793852137/locations/us-central1/models/6342900061709533184\n"
     ]
    }
   ],
   "source": [
    "model.delete()"
   ]
  },
  {
   "cell_type": "code",
   "execution_count": null,
   "id": "a7ae1552-96ef-4e66-aefe-de5845a07ad4",
   "metadata": {},
   "outputs": [],
   "source": []
  }
 ],
 "metadata": {
  "environment": {
   "kernel": "python3",
   "name": "tf2-gpu.2-3.m94",
   "type": "gcloud",
   "uri": "gcr.io/deeplearning-platform-release/tf2-gpu.2-3:m94"
  },
  "kernelspec": {
   "display_name": "Python 3",
   "language": "python",
   "name": "python3"
  },
  "language_info": {
   "codemirror_mode": {
    "name": "ipython",
    "version": 3
   },
   "file_extension": ".py",
   "mimetype": "text/x-python",
   "name": "python",
   "nbconvert_exporter": "python",
   "pygments_lexer": "ipython3",
   "version": "3.7.12"
  }
 },
 "nbformat": 4,
 "nbformat_minor": 5
}
