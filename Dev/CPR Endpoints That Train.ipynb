{
 "cells": [
  {
   "cell_type": "markdown",
   "id": "787fb7b2-8986-4c87-ae09-76229907e7bd",
   "metadata": {},
   "source": [
    "# Custom Prediction Routines for Endpoints That Train\n",
    "\n",
    "- https://cloud.google.com/vertex-ai/docs/predictions/custom-prediction-routines\n",
    "- https://cloud.google.com/python/docs/reference/aiplatform/latest/google.cloud.aiplatform.prediction.LocalModel"
   ]
  },
  {
   "cell_type": "code",
   "execution_count": 1,
   "id": "18571ae8-2301-4b07-bcfa-8abbb1bbc5b0",
   "metadata": {},
   "outputs": [
    {
     "data": {
      "text/plain": [
       "'statmike-mlops-349915'"
      ]
     },
     "execution_count": 1,
     "metadata": {},
     "output_type": "execute_result"
    }
   ],
   "source": [
    "project = !gcloud config get-value project\n",
    "PROJECT_ID = project[0]\n",
    "PROJECT_ID"
   ]
  },
  {
   "cell_type": "code",
   "execution_count": 2,
   "id": "704e2dcd-1d00-483a-be57-f7f6bdc4e738",
   "metadata": {},
   "outputs": [],
   "source": [
    "REGION = 'us-central1'\n",
    "EXPERIMENT = 'cpr_training'\n",
    "SERIES = '04'\n",
    "\n",
    "# source data\n",
    "BQ_PROJECT = PROJECT_ID\n",
    "BQ_DATASET = 'fraud'\n",
    "BQ_TABLE = 'fraud_prepped'\n",
    "\n",
    "# Resources\n",
    "DEPLOY_COMPUTE = 'n1-standard-2'\n",
    "\n",
    "# Model Training\n",
    "VAR_TARGET = 'Class'\n",
    "VAR_OMIT = 'transaction_id' # add more variables to the string with space delimiters"
   ]
  },
  {
   "cell_type": "code",
   "execution_count": 59,
   "id": "7a41430e-b913-4fff-be81-6b353a5ddce3",
   "metadata": {},
   "outputs": [],
   "source": [
    "from google.cloud import aiplatform\n",
    "from google.cloud import bigquery\n",
    "from google.cloud import service_usage_v1\n",
    "\n",
    "from datetime import datetime\n",
    "import json\n",
    "import os\n",
    "import numpy as np\n",
    "import pandas as pd\n",
    "import matplotlib.pyplot as plt\n",
    "from matplotlib import gridspec\n",
    "from sklearn import metrics\n",
    "\n",
    "from google.protobuf import json_format\n",
    "from google.protobuf.struct_pb2 import Value"
   ]
  },
  {
   "cell_type": "code",
   "execution_count": 58,
   "id": "402c9d3b-7911-4902-a5ab-a3e8227a80ac",
   "metadata": {},
   "outputs": [],
   "source": [
    "aiplatform.init(project=PROJECT_ID, location=REGION)\n",
    "bq = bigquery.Client(project = PROJECT_ID)"
   ]
  },
  {
   "cell_type": "code",
   "execution_count": 275,
   "id": "648a825b-39fb-48d4-acad-ff6451d0e6f0",
   "metadata": {},
   "outputs": [],
   "source": [
    "BUCKET = PROJECT_ID\n",
    "URI = f\"gs://{BUCKET}/{SERIES}/{EXPERIMENT}\"\n",
    "REPOSITORY = f\"{REGION}-docker.pkg.dev/{PROJECT_ID}/{PROJECT_ID}\"\n",
    "DIR = f\"temp/{EXPERIMENT}\""
   ]
  },
  {
   "cell_type": "code",
   "execution_count": 11,
   "id": "74d69b78-84dd-4d78-93f8-1768594cd641",
   "metadata": {},
   "outputs": [
    {
     "data": {
      "text/plain": [
       "'1026793852137-compute@developer.gserviceaccount.com'"
      ]
     },
     "execution_count": 11,
     "metadata": {},
     "output_type": "execute_result"
    }
   ],
   "source": [
    "SERVICE_ACCOUNT = !gcloud config list --format='value(core.account)' \n",
    "SERVICE_ACCOUNT = SERVICE_ACCOUNT[0]\n",
    "SERVICE_ACCOUNT"
   ]
  },
  {
   "cell_type": "code",
   "execution_count": 12,
   "id": "b2e4d24e-60d0-4b2e-8776-daf1441ab95d",
   "metadata": {},
   "outputs": [],
   "source": [
    "!rm -rf {DIR}\n",
    "!mkdir -p {DIR}"
   ]
  },
  {
   "cell_type": "markdown",
   "id": "fa3145cb-d91e-434b-b73f-6226740fd6ac",
   "metadata": {},
   "source": [
    "## Idea: Decision Tree on Samples\n",
    "\n",
    "- Input parameter is a sample size `n`\n",
    "- Retrieve a sample of size `n` from a BigQuery table to a Pandas dataframe\n",
    "- Use sklearn.tree.DecisionTreeClassifier to build a classifier\n",
    "- Retrieve the rules of the tree"
   ]
  },
  {
   "cell_type": "code",
   "execution_count": 23,
   "id": "5eb4a259-f204-4a12-aa5a-0aa94ea15f10",
   "metadata": {},
   "outputs": [],
   "source": [
    "n = 400"
   ]
  },
  {
   "cell_type": "code",
   "execution_count": 24,
   "id": "ad465675-8a6a-4594-a30c-971eeaf7fc41",
   "metadata": {},
   "outputs": [],
   "source": [
    "train = bq.query(query = f\"\"\"\n",
    "        SELECT * EXCEPT(splits, transaction_id)\n",
    "            FROM `{BQ_PROJECT}.{BQ_DATASET}.{BQ_TABLE}`\n",
    "            WHERE splits = 'TRAIN' and RAND() < 0.1\n",
    "            LIMIT {n}\n",
    "        \"\"\").to_dataframe()y = train[VAR_TARGET]\n",
    "X = train.drop(VAR_TARGET, axis = 1)"
   ]
  },
  {
   "cell_type": "code",
   "execution_count": 25,
   "id": "376bf7a5-d1cc-4f81-ac52-5fb5dabedbac",
   "metadata": {},
   "outputs": [
    {
     "data": {
      "text/plain": [
       "DecisionTreeClassifier(max_leaf_nodes=3, random_state=0)"
      ]
     },
     "execution_count": 25,
     "metadata": {},
     "output_type": "execute_result"
    }
   ],
   "source": [
    "from sklearn.tree import DecisionTreeClassifier\n",
    "\n",
    "clf = DecisionTreeClassifier(max_leaf_nodes = 3, random_state = 0)\n",
    "clf.fit(X, y)"
   ]
  },
  {
   "cell_type": "code",
   "execution_count": 26,
   "id": "192f6492-b278-453f-b9aa-b57bb2d5e164",
   "metadata": {},
   "outputs": [
    {
     "data": {
      "text/plain": [
       "{1: 'V10 <= -2.574588894844055',\n",
       " 3: 'V10 > -2.574588894844055 and V7 <= 1.294544279575348',\n",
       " 4: 'V10 > -2.574588894844055 and V7 > 1.294544279575348'}"
      ]
     },
     "execution_count": 26,
     "metadata": {},
     "output_type": "execute_result"
    }
   ],
   "source": [
    "n_nodes = clf.tree_.node_count\n",
    "children_left = clf.tree_.children_left\n",
    "children_right = clf.tree_.children_right\n",
    "feature = clf.tree_.feature\n",
    "threshold = clf.tree_.threshold\n",
    "\n",
    "def path_builder(node_num, path, x):\n",
    "        path.append(node_num)\n",
    "        if node_num == x:\n",
    "            return True\n",
    "        left = False\n",
    "        right = False\n",
    "        if (children_left[node_num] !=-1):\n",
    "            left = path_builder(children_left[node_num], path, x)\n",
    "        if (children_right[node_num] !=-1):\n",
    "            right = path_builder(children_right[node_num], path, x)\n",
    "        if left or right :\n",
    "            return True\n",
    "        path.remove(node_num)\n",
    "        return False\n",
    "\n",
    "\n",
    "def rule_builder(path, column_names):\n",
    "    rule = ''\n",
    "    for index, node in enumerate(path):\n",
    "        if index != len(path)-1:\n",
    "            if len(rule) > 0: rule += ' and '\n",
    "            if (children_left[node] == path[index+1]):\n",
    "                rule += f\"{column_names[feature[node]]} <= {threshold[node]}\"\n",
    "            else:\n",
    "                rule += f\"{column_names[feature[node]]} > {threshold[node]}\"\n",
    "    return rule\n",
    "\n",
    "paths ={}\n",
    "for leaf in np.unique(clf.apply(X)):\n",
    "    path_leaf = []\n",
    "    path_builder(0, path_leaf, leaf)\n",
    "    paths[leaf] = np.unique(np.sort(path_leaf))\n",
    "\n",
    "rules = {}\n",
    "for key in paths:\n",
    "    rules[key] = rule_builder(paths[key], X.columns)\n",
    "\n",
    "rules"
   ]
  },
  {
   "cell_type": "markdown",
   "id": "7b72dc4e-caa9-40b8-add5-6cf1a5bb50be",
   "metadata": {},
   "source": [
    "---\n",
    "## Build CPR"
   ]
  },
  {
   "cell_type": "code",
   "execution_count": 32,
   "id": "1e6b719b-a96e-42c0-b802-703c0864d998",
   "metadata": {},
   "outputs": [],
   "source": [
    "!pip install google-cloud-aiplatform[prediction] -U -q"
   ]
  },
  {
   "cell_type": "code",
   "execution_count": 276,
   "id": "c0b4cdb3-0849-4380-b39e-682fbb72e878",
   "metadata": {},
   "outputs": [
    {
     "name": "stdout",
     "output_type": "stream",
     "text": [
      "Overwriting temp/cpr_training/SRC/requirements.txt\n"
     ]
    }
   ],
   "source": [
    "%%writefile {DIR}/SRC/requirements.txt\n",
    "fastapi\n",
    "uvicorn==0.17.6\n",
    "#joblib~=1.0\n",
    "numpy~=1.20\n",
    "scikit-learn~=0.24\n",
    "pandas\n",
    "#google-cloud-storage>=1.26.0,<2.0.0dev\n",
    "google-cloud-aiplatform[prediction]>=1.16.0\n",
    "google-cloud-bigquery\n",
    "pyarrow"
   ]
  },
  {
   "cell_type": "code",
   "execution_count": 277,
   "id": "1a773c30-98d6-48c4-8a2a-a571c7c3e500",
   "metadata": {},
   "outputs": [
    {
     "name": "stdout",
     "output_type": "stream",
     "text": [
      "Overwriting temp/cpr_training/SRC/predictor.py\n"
     ]
    }
   ],
   "source": [
    "%%writefile {DIR}/SRC/predictor.py\n",
    "\n",
    "# packages\n",
    "import numpy as np\n",
    "import json\n",
    "from sklearn.tree import DecisionTreeClassifier\n",
    "from google.cloud.aiplatform.prediction.predictor import Predictor\n",
    "from google.cloud import bigquery\n",
    "\n",
    "##################################################################################################\n",
    "\n",
    "# clients\n",
    "bq = bigquery.Client()\n",
    "\n",
    "# source data\n",
    "BQ_PROJECT = 'statmike-mlops-349915'\n",
    "BQ_DATASET = 'fraud'\n",
    "BQ_TABLE = 'fraud_prepped'\n",
    "\n",
    "# Model Training\n",
    "VAR_TARGET = 'Class'\n",
    "\n",
    "def ruler(n):\n",
    "    # helper function: \n",
    "    def path_builder(node_num, path, x):\n",
    "            path.append(node_num)\n",
    "            if node_num == x:\n",
    "                return True\n",
    "            left = False\n",
    "            right = False\n",
    "            if (children_left[node_num] !=-1):\n",
    "                left = path_builder(children_left[node_num], path, x)\n",
    "            if (children_right[node_num] !=-1):\n",
    "                right = path_builder(children_right[node_num], path, x)\n",
    "            if left or right :\n",
    "                return True\n",
    "            path.remove(node_num)\n",
    "            return False\n",
    "    # helper function:\n",
    "    def rule_builder(path, column_names):\n",
    "        rule = ''\n",
    "        for index, node in enumerate(path):\n",
    "            if index != len(path)-1:\n",
    "                if len(rule) > 0: rule += ' and '\n",
    "                if (children_left[node] == path[index+1]):\n",
    "                    rule += f\"{column_names[feature[node]]} <= {threshold[node]}\"\n",
    "                else:\n",
    "                    rule += f\"{column_names[feature[node]]} > {threshold[node]}\"\n",
    "        return rule\n",
    "    \n",
    "    # data\n",
    "    train = bq.query(query = f\"\"\"\n",
    "        SELECT * EXCEPT(splits, transaction_id)\n",
    "            FROM `{BQ_PROJECT}.{BQ_DATASET}.{BQ_TABLE}`\n",
    "            WHERE splits = 'TRAIN' and RAND() < 0.1\n",
    "            LIMIT {n}\n",
    "        \"\"\").to_dataframe()\n",
    "    y = train[VAR_TARGET]\n",
    "    X = train.drop(VAR_TARGET, axis = 1)\n",
    "    \n",
    "    # model\n",
    "    clf = DecisionTreeClassifier(max_leaf_nodes = 3, random_state = 0)\n",
    "    clf.fit(X, y)\n",
    "    \n",
    "    # outputs\n",
    "    n_nodes = clf.tree_.node_count\n",
    "    children_left = clf.tree_.children_left\n",
    "    children_right = clf.tree_.children_right\n",
    "    feature = clf.tree_.feature\n",
    "    threshold = clf.tree_.threshold\n",
    "    \n",
    "    # decision\n",
    "    paths ={}\n",
    "    for leaf in np.unique(clf.apply(X)):\n",
    "        path_leaf = []\n",
    "        path_builder(0, path_leaf, leaf)\n",
    "        paths[leaf] = np.unique(np.sort(path_leaf))\n",
    "    rules = {}\n",
    "    for key in paths:\n",
    "        rules[key] = rule_builder(paths[key], X.columns)\n",
    "\n",
    "    return rules\n",
    "\n",
    "##################################################################################################\n",
    "\n",
    "class CprPredictor(Predictor):\n",
    "    def __init__(self):\n",
    "        return\n",
    "\n",
    "    def load(self, artifacts_uri: str) -> None:\n",
    "        # no model to load here, this example trains a model and returns parameters\n",
    "        pass\n",
    "\n",
    "    def predict(self, instances):\n",
    "\n",
    "        instances = instances[\"instances\"]\n",
    "        results = [f\"{ruler(instance)}\" for instance in instances]\n",
    "        \n",
    "        return {\"predictions\": results}"
   ]
  },
  {
   "cell_type": "code",
   "execution_count": 278,
   "id": "808cfc13-fc4e-41fa-bebb-1ceb4e354b65",
   "metadata": {},
   "outputs": [],
   "source": [
    "from google.cloud.aiplatform.prediction import LocalModel\n",
    "# load the local predictor class:\n",
    "from temp.cpr_training.SRC.predictor import CprPredictor\n",
    "\n",
    "local_model = LocalModel.build_cpr_model(\n",
    "    src_dir = f\"{DIR}/SRC\",\n",
    "    output_image_uri = f\"{REPOSITORY}/{SERIES}_{EXPERIMENT}\",\n",
    "    predictor = CprPredictor,\n",
    "    requirements_path = os.path.join(f\"{DIR}/SRC\", \"requirements.txt\"),\n",
    ")"
   ]
  },
  {
   "cell_type": "code",
   "execution_count": 279,
   "id": "090489e3-b0d7-471b-935c-a89e816cad53",
   "metadata": {},
   "outputs": [],
   "source": [
    "with local_model.deploy_to_local_endpoint() as local_endpoint:\n",
    "    predict_response = local_endpoint.predict(\n",
    "        request = '{\"instances\": [100, 1000, 2000, 3000]}',\n",
    "        headers={\"Content-Type\": \"application/json\"}\n",
    "    )\n",
    "\n",
    "    health_check_response = local_endpoint.run_health_check()"
   ]
  },
  {
   "cell_type": "code",
   "execution_count": 280,
   "id": "38dfa846-49b9-467d-9e80-1f52233de3e3",
   "metadata": {},
   "outputs": [
    {
     "name": "stdout",
     "output_type": "stream",
     "text": [
      "{0: ''}\n",
      "\n",
      "{1: 'V7 <= -11.742929458618164', 2: 'V7 > -11.742929458618164'}\n",
      "\n",
      "{1: 'V10 <= -3.1931523084640503', 3: 'V10 > -3.1931523084640503 and V7 <= 1.2830491065979004', 4: 'V10 > -3.1931523084640503 and V7 > 1.2830491065979004'}\n",
      "\n",
      "{1: 'V10 <= -3.0351459980010986', 3: 'V10 > -3.0351459980010986 and V13 <= -2.43116557598114', 4: 'V10 > -3.0351459980010986 and V13 > -2.43116557598114'}\n",
      "\n"
     ]
    },
    {
     "data": {
      "text/plain": [
       "[None, None, None, None]"
      ]
     },
     "execution_count": 280,
     "metadata": {},
     "output_type": "execute_result"
    }
   ],
   "source": [
    "[print(r+'\\n') for r in json.loads(predict_response.content)['predictions']]"
   ]
  },
  {
   "cell_type": "code",
   "execution_count": 281,
   "id": "20e01b5a-fdd7-405a-a173-53e153aef27c",
   "metadata": {},
   "outputs": [
    {
     "name": "stdout",
     "output_type": "stream",
     "text": [
      "\u001b[1;33mWARNING:\u001b[0m Your config file at [/home/jupyter/.docker/config.json] contains these credential helper entries:\n",
      "\n",
      "{\n",
      "  \"credHelpers\": {\n",
      "    \"gcr.io\": \"gcloud\",\n",
      "    \"us.gcr.io\": \"gcloud\",\n",
      "    \"eu.gcr.io\": \"gcloud\",\n",
      "    \"asia.gcr.io\": \"gcloud\",\n",
      "    \"staging-k8s.gcr.io\": \"gcloud\",\n",
      "    \"marketplace.gcr.io\": \"gcloud\",\n",
      "    \"us-central1-docker.pkg.dev\": \"gcloud\"\n",
      "  }\n",
      "}\n",
      "Adding credentials for: us-central1-docker.pkg.dev\n",
      "gcloud credential helpers already registered correctly.\n"
     ]
    }
   ],
   "source": [
    "!gcloud auth configure-docker {REGION}-docker.pkg.dev --quiet"
   ]
  },
  {
   "cell_type": "code",
   "execution_count": 282,
   "id": "1480545d-7fb5-4561-88df-ed77febd7080",
   "metadata": {},
   "outputs": [],
   "source": [
    "local_model.push_image()"
   ]
  },
  {
   "cell_type": "code",
   "execution_count": 283,
   "id": "29998a75-0f49-4758-9d0c-7e70441458f4",
   "metadata": {},
   "outputs": [
    {
     "name": "stdout",
     "output_type": "stream",
     "text": [
      "Creating Model\n",
      "Create Model backing LRO: projects/1026793852137/locations/us-central1/models/3594015439153266688/operations/1390498823175929856\n",
      "Model created. Resource name: projects/1026793852137/locations/us-central1/models/3594015439153266688@1\n",
      "To use this Model in another session:\n",
      "model = aiplatform.Model('projects/1026793852137/locations/us-central1/models/3594015439153266688@1')\n"
     ]
    }
   ],
   "source": [
    "model = aiplatform.Model.upload(\n",
    "    local_model = local_model,\n",
    "    display_name = f\"{SERIES}_{EXPERIMENT}\"\n",
    ")"
   ]
  },
  {
   "cell_type": "code",
   "execution_count": 284,
   "id": "caf8af2d-85ba-4135-8e1f-2885c2815522",
   "metadata": {},
   "outputs": [
    {
     "name": "stdout",
     "output_type": "stream",
     "text": [
      "Creating Endpoint\n",
      "Create Endpoint backing LRO: projects/1026793852137/locations/us-central1/endpoints/2800574863201271808/operations/5587290725931810816\n",
      "Endpoint created. Resource name: projects/1026793852137/locations/us-central1/endpoints/2800574863201271808\n",
      "To use this Endpoint in another session:\n",
      "endpoint = aiplatform.Endpoint('projects/1026793852137/locations/us-central1/endpoints/2800574863201271808')\n",
      "Deploying model to Endpoint : projects/1026793852137/locations/us-central1/endpoints/2800574863201271808\n",
      "Deploy Endpoint model backing LRO: projects/1026793852137/locations/us-central1/endpoints/2800574863201271808/operations/3166605926220169216\n",
      "Endpoint model deployed. Resource name: projects/1026793852137/locations/us-central1/endpoints/2800574863201271808\n"
     ]
    }
   ],
   "source": [
    "endpoint = model.deploy(\n",
    "    machine_type = DEPLOY_COMPUTE,\n",
    "    min_replica_count = 1,\n",
    "    max_replica_count = 5\n",
    ")"
   ]
  },
  {
   "cell_type": "code",
   "execution_count": null,
   "id": "95edaa52-ca2c-40d5-927d-a523ff451288",
   "metadata": {},
   "outputs": [],
   "source": [
    "endpoint.predict(instances = [100, 1000, 2000])"
   ]
  },
  {
   "cell_type": "code",
   "execution_count": null,
   "id": "09f5fbd0-4272-4f9b-a0fb-b3ee7acf0f7a",
   "metadata": {},
   "outputs": [],
   "source": []
  },
  {
   "cell_type": "code",
   "execution_count": null,
   "id": "b59e612e-2cc3-4274-b0f5-1789911e803c",
   "metadata": {},
   "outputs": [],
   "source": []
  },
  {
   "cell_type": "code",
   "execution_count": null,
   "id": "8ec932c0-0c0a-4f69-b61e-05fa2c9610f5",
   "metadata": {},
   "outputs": [],
   "source": []
  },
  {
   "cell_type": "code",
   "execution_count": null,
   "id": "9f928742-ef99-4618-be25-46af569f1b72",
   "metadata": {},
   "outputs": [],
   "source": []
  },
  {
   "cell_type": "code",
   "execution_count": null,
   "id": "30e00af4-2be8-4bc6-9da4-38cc5bc2d310",
   "metadata": {},
   "outputs": [],
   "source": []
  },
  {
   "cell_type": "code",
   "execution_count": null,
   "id": "e22aab37-c6e2-482e-9a3b-a2e490b0249f",
   "metadata": {},
   "outputs": [],
   "source": []
  },
  {
   "cell_type": "code",
   "execution_count": null,
   "id": "6419cfe2-a96d-4b38-a0bd-377984aabeb6",
   "metadata": {},
   "outputs": [],
   "source": []
  },
  {
   "cell_type": "code",
   "execution_count": null,
   "id": "ae932c83-3c6c-4316-911f-18e3a27cc90b",
   "metadata": {},
   "outputs": [],
   "source": []
  },
  {
   "cell_type": "code",
   "execution_count": null,
   "id": "22745d01-01e3-403b-b925-f287d281173a",
   "metadata": {},
   "outputs": [],
   "source": []
  },
  {
   "cell_type": "code",
   "execution_count": 286,
   "id": "607f48cd-a6f9-4f75-8269-7679fac93c5c",
   "metadata": {},
   "outputs": [
    {
     "name": "stdout",
     "output_type": "stream",
     "text": [
      "Undeploying Endpoint model: projects/1026793852137/locations/us-central1/endpoints/2800574863201271808\n",
      "Undeploy Endpoint model backing LRO: projects/1026793852137/locations/us-central1/endpoints/2800574863201271808/operations/1596538506128130048\n",
      "Endpoint model undeployed. Resource name: projects/1026793852137/locations/us-central1/endpoints/2800574863201271808\n",
      "Deleting Endpoint : projects/1026793852137/locations/us-central1/endpoints/2800574863201271808\n",
      "Delete Endpoint  backing LRO: projects/1026793852137/locations/us-central1/operations/518489345326317568\n",
      "Endpoint deleted. . Resource name: projects/1026793852137/locations/us-central1/endpoints/2800574863201271808\n"
     ]
    }
   ],
   "source": [
    "endpoint.delete(force = True)"
   ]
  },
  {
   "cell_type": "code",
   "execution_count": 287,
   "id": "eb0c8d49-ef5a-4c2b-bb48-06452866cc30",
   "metadata": {},
   "outputs": [
    {
     "name": "stdout",
     "output_type": "stream",
     "text": [
      "Deleting Model : projects/1026793852137/locations/us-central1/models/3594015439153266688\n",
      "Delete Model  backing LRO: projects/1026793852137/locations/us-central1/operations/7309917583401025536\n",
      "Model deleted. . Resource name: projects/1026793852137/locations/us-central1/models/3594015439153266688\n"
     ]
    }
   ],
   "source": [
    "model.delete()"
   ]
  },
  {
   "cell_type": "code",
   "execution_count": null,
   "id": "a7ae1552-96ef-4e66-aefe-de5845a07ad4",
   "metadata": {},
   "outputs": [],
   "source": []
  }
 ],
 "metadata": {
  "environment": {
   "kernel": "python3",
   "name": "tf2-gpu.2-3.m94",
   "type": "gcloud",
   "uri": "gcr.io/deeplearning-platform-release/tf2-gpu.2-3:m94"
  },
  "kernelspec": {
   "display_name": "Python 3",
   "language": "python",
   "name": "python3"
  },
  "language_info": {
   "codemirror_mode": {
    "name": "ipython",
    "version": 3
   },
   "file_extension": ".py",
   "mimetype": "text/x-python",
   "name": "python",
   "nbconvert_exporter": "python",
   "pygments_lexer": "ipython3",
   "version": "3.7.12"
  }
 },
 "nbformat": 4,
 "nbformat_minor": 5
}
