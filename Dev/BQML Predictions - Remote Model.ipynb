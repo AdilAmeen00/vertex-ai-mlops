{
 "cells": [
  {
   "cell_type": "markdown",
   "id": "c3e30f40-05b9-4872-9de1-1deb5639617f",
   "metadata": {},
   "source": [
    "![ga4](https://www.google-analytics.com/collect?v=2&tid=G-6VDTYWLKX6&cid=1&en=page_view&sid=1&dl=statmike%2Fvertex-ai-mlops%2FDev&dt=BQML+Predictions+-+Remote+Model.ipynb)\n",
    "\n",
    "# BQML Predictions With Remote Model (Vertex AI)"
   ]
  },
  {
   "cell_type": "markdown",
   "id": "50a6ac94-4d75-4eb5-9374-7b1afb869efc",
   "metadata": {},
   "source": [
    "---\n",
    "## Setup"
   ]
  },
  {
   "cell_type": "markdown",
   "id": "cf15112a-cc0b-42c5-99b9-75d3e8e099fc",
   "metadata": {},
   "source": [
    "### Package Installs (if needed)\n",
    "\n",
    "This notebook uses the Python Clients for\n",
    "- Google Service Usage\n",
    "    - to enable APIs (BigQuery Connection)\n",
    "\n",
    "The cells below check to see if the required Python libraries are installed.  If any are not it will print a message to do the install with the associated pip command to use.  These installs must be completed before continuing this notebook."
   ]
  },
  {
   "cell_type": "code",
   "execution_count": 1,
   "id": "07c49f74-f0a4-47cb-ac5d-5eb84bb5834c",
   "metadata": {},
   "outputs": [],
   "source": [
    "try:\n",
    "    import google.cloud.service_usage_v1\n",
    "except ImportError:\n",
    "    print('You need to pip install google-cloud-service-usage')\n",
    "    !pip install google-cloud-service-usage -q"
   ]
  },
  {
   "cell_type": "markdown",
   "id": "33bc5bd9-1c63-44b3-a88c-db11773ee700",
   "metadata": {},
   "source": [
    "### Environment"
   ]
  },
  {
   "cell_type": "markdown",
   "id": "dd097e47-b59a-4da0-a31a-f3488330142b",
   "metadata": {},
   "source": [
    "inputs:"
   ]
  },
  {
   "cell_type": "code",
   "execution_count": 2,
   "id": "86c85e51-c676-49e6-a521-a272c2c0cd78",
   "metadata": {},
   "outputs": [
    {
     "data": {
      "text/plain": [
       "'statmike-mlops-349915'"
      ]
     },
     "execution_count": 2,
     "metadata": {},
     "output_type": "execute_result"
    }
   ],
   "source": [
    "project = !gcloud config get-value project\n",
    "PROJECT_ID = project[0]\n",
    "PROJECT_ID"
   ]
  },
  {
   "cell_type": "code",
   "execution_count": 3,
   "id": "19274cad-4750-4104-be05-6a6fc55b3c24",
   "metadata": {},
   "outputs": [],
   "source": [
    "REGION = 'us-central1'\n",
    "EXPERIMENT = '03a'\n",
    "SERIES = '03'\n",
    "\n",
    "# source data\n",
    "BQ_PROJECT = PROJECT_ID\n",
    "BQ_DATASET = 'fraud'\n",
    "BQ_TABLE = 'fraud_prepped'\n",
    "\n",
    "# Model Training\n",
    "VAR_TARGET = 'Class'\n",
    "VAR_OMIT = 'transaction_id' # add more variables to the string with space delimiters"
   ]
  },
  {
   "cell_type": "markdown",
   "id": "65cd1071-806d-4f14-9857-2e4c26e6e3ba",
   "metadata": {},
   "source": [
    "packages:"
   ]
  },
  {
   "cell_type": "code",
   "execution_count": 4,
   "id": "25624717-c07e-40a2-bb76-41335eaa1509",
   "metadata": {},
   "outputs": [],
   "source": [
    "from google.cloud import bigquery\n",
    "from google.cloud import aiplatform\n",
    "from google.cloud import service_usage_v1\n",
    "\n",
    "from datetime import datetime\n",
    "import matplotlib.pyplot as plt\n",
    "from sklearn import metrics\n",
    "\n",
    "from google.api import httpbody_pb2\n",
    "import json"
   ]
  },
  {
   "cell_type": "markdown",
   "id": "ee82a869-35ab-4730-8552-62b854d03860",
   "metadata": {},
   "source": [
    "clients:"
   ]
  },
  {
   "cell_type": "code",
   "execution_count": 5,
   "id": "ce28e465-a064-425b-9ccc-147f6b069186",
   "metadata": {},
   "outputs": [],
   "source": [
    "bq = bigquery.Client(project=PROJECT_ID)\n",
    "aiplatform.init(project=PROJECT_ID, location=REGION)\n",
    "su_client = service_usage_v1.ServiceUsageClient()"
   ]
  },
  {
   "cell_type": "markdown",
   "id": "774217f5-786c-4345-9805-43868ca3ff4c",
   "metadata": {
    "tags": []
   },
   "source": [
    "### Enable APIs\n",
    "\n",
    "BigQuery Remote models use the BigQuery Connection API. \n",
    "\n",
    "Options for enabeling:  In this notebook option 2 is used.\n",
    " 1. Use the APIs & Services page in the console: https://console.cloud.google.com/apis\n",
    "     - `+ Enable APIs and Services`\n",
    "     - Search for BigQuery Connection\n",
    " 2. Use [Google Service Usage](https://cloud.google.com/service-usage/docs) API from Python\n",
    "     - [Python Client For Service Usage](https://github.com/googleapis/python-service-usage)\n",
    "     - [Python Client Library Documentation](https://cloud.google.com/python/docs/reference/serviceusage/latest)\n",
    "     \n",
    "The following code cells use the Service Usage Client to:\n",
    "- get the state of the service\n",
    "- if 'DISABLED':\n",
    "    - Try enabling the service and return the state after trying\n",
    "- if 'ENABLED' print the state for confirmation"
   ]
  },
  {
   "cell_type": "markdown",
   "id": "9053aa29-e48b-4d8d-8839-f71360eae6de",
   "metadata": {},
   "source": [
    "#### BigQuery Connection"
   ]
  },
  {
   "cell_type": "code",
   "execution_count": 6,
   "id": "8bbc3262-c47e-4df1-9d05-d7ad594dfdef",
   "metadata": {},
   "outputs": [
    {
     "name": "stdout",
     "output_type": "stream",
     "text": [
      "API already enabled for project: statmike-mlops-349915\n"
     ]
    }
   ],
   "source": [
    "bigqueryconnection = su_client.get_service(\n",
    "    request = service_usage_v1.GetServiceRequest(\n",
    "        name = f'projects/{PROJECT_ID}/services/bigqueryconnection.googleapis.com'\n",
    "    )\n",
    ").state.name\n",
    "\n",
    "\n",
    "if bigqueryconnection == 'DISABLED':\n",
    "    print(f'API is currently {bigqueryconnection} for project: {PROJECT_ID}')\n",
    "    print(f'Trying to Enable...')\n",
    "    operation = su_client.enable_service(\n",
    "        request = service_usage_v1.EnableServiceRequest(\n",
    "            name = f'projects/{PROJECT_ID}/services/bigqueryconnection.googleapis.com'\n",
    "        )\n",
    "    )\n",
    "    response = operation.result()\n",
    "    if response.service.state.name == 'ENABLED':\n",
    "        print(f'API is now enabled for project: {PROJECT_ID}')\n",
    "    else:\n",
    "        print(response)\n",
    "else:\n",
    "    print(f'API already enabled for project: {PROJECT_ID}')"
   ]
  },
  {
   "cell_type": "markdown",
   "id": "1f9c7051-70a6-4dbc-a555-fb877f837328",
   "metadata": {},
   "source": [
    "---\n",
    "## Get Vertex AI Endpoint"
   ]
  },
  {
   "cell_type": "code",
   "execution_count": 7,
   "id": "a8c05d05-3ade-4f91-aa7e-55220d144e6c",
   "metadata": {},
   "outputs": [
    {
     "name": "stdout",
     "output_type": "stream",
     "text": [
      "Endpoint Exists: projects/1026793852137/locations/us-central1/endpoints/4867252103141130240\n"
     ]
    }
   ],
   "source": [
    "endpoints = aiplatform.Endpoint.list(filter = f\"labels.series={SERIES}\")\n",
    "if endpoints:\n",
    "    endpoint = endpoints[0]\n",
    "    print(f\"Endpoint Exists: {endpoints[0].resource_name}\")\n",
    "else:\n",
    "    print(f\"There does not appear to be an endpoint for SERIES = {SERIES}\")"
   ]
  },
  {
   "cell_type": "code",
   "execution_count": 8,
   "id": "d6a636e0-553a-40af-815d-a77f0ff10522",
   "metadata": {},
   "outputs": [
    {
     "data": {
      "text/plain": [
       "'03'"
      ]
     },
     "execution_count": 8,
     "metadata": {},
     "output_type": "execute_result"
    }
   ],
   "source": [
    "endpoint.display_name"
   ]
  },
  {
   "cell_type": "code",
   "execution_count": 9,
   "id": "9c1d2f3d-7f4d-4153-96ba-b5b69b8d94ad",
   "metadata": {},
   "outputs": [
    {
     "name": "stdout",
     "output_type": "stream",
     "text": [
      "Review the Endpoint in the Console:\n",
      "https://console.cloud.google.com/vertex-ai/locations/us-central1/endpoints/4867252103141130240?project=statmike-mlops-349915\n"
     ]
    }
   ],
   "source": [
    "print(f'Review the Endpoint in the Console:\\nhttps://console.cloud.google.com/vertex-ai/locations/{REGION}/endpoints/{endpoint.name}?project={PROJECT_ID}')"
   ]
  },
  {
   "cell_type": "markdown",
   "id": "89540889-b40a-490e-9473-61ae73861720",
   "metadata": {},
   "source": [
    "---\n",
    "## Get The Deployed Model"
   ]
  },
  {
   "cell_type": "code",
   "execution_count": 10,
   "id": "d21ed833-0ba3-40e3-9072-16f47604d652",
   "metadata": {},
   "outputs": [],
   "source": [
    "deployed_model = aiplatform.Model(\n",
    "    model_name = endpoint.list_models()[0].model+f'@{endpoint.list_models()[0].model_version_id}'\n",
    ")"
   ]
  },
  {
   "cell_type": "code",
   "execution_count": 11,
   "id": "d74d43b5-0145-45bd-b3e7-254e19367ac9",
   "metadata": {},
   "outputs": [
    {
     "data": {
      "text/plain": [
       "'03_03a'"
      ]
     },
     "execution_count": 11,
     "metadata": {},
     "output_type": "execute_result"
    }
   ],
   "source": [
    "deployed_model.display_name"
   ]
  },
  {
   "cell_type": "code",
   "execution_count": 12,
   "id": "cd016e3e-8a50-40b6-b008-3ba5592e8db6",
   "metadata": {},
   "outputs": [
    {
     "data": {
      "text/plain": [
       "'projects/1026793852137/locations/us-central1/models/model_03_03a@3'"
      ]
     },
     "execution_count": 12,
     "metadata": {},
     "output_type": "execute_result"
    }
   ],
   "source": [
    "deployed_model.versioned_resource_name"
   ]
  },
  {
   "cell_type": "code",
   "execution_count": 13,
   "id": "5727cc9f-fe12-421d-8ea0-1cb197aeb364",
   "metadata": {},
   "outputs": [
    {
     "data": {
      "text/plain": [
       "'gs://statmike-mlops-349915/03/03a/models/20230222115533/model'"
      ]
     },
     "execution_count": 13,
     "metadata": {},
     "output_type": "execute_result"
    }
   ],
   "source": [
    "deployed_model.uri"
   ]
  },
  {
   "cell_type": "code",
   "execution_count": 64,
   "id": "73f87277-bf1d-4bae-9def-438aece9171a",
   "metadata": {},
   "outputs": [
    {
     "name": "stdout",
     "output_type": "stream",
     "text": [
      "gs://statmike-mlops-349915/03/03a/models/20230222115533/model/\n",
      "gs://statmike-mlops-349915/03/03a/models/20230222115533/model/explanation_metadata.json\n",
      "gs://statmike-mlops-349915/03/03a/models/20230222115533/model/saved_model.pb\n",
      "gs://statmike-mlops-349915/03/03a/models/20230222115533/model/variables/\n"
     ]
    }
   ],
   "source": [
    "!gsutil ls {deployed_model.uri}"
   ]
  },
  {
   "cell_type": "code",
   "execution_count": 14,
   "id": "b259dc18-237e-4a15-aa70-a1e0ac5c33e9",
   "metadata": {},
   "outputs": [
    {
     "data": {
      "text/plain": [
       "'3'"
      ]
     },
     "execution_count": 14,
     "metadata": {},
     "output_type": "execute_result"
    }
   ],
   "source": [
    "deployed_model.version_id"
   ]
  },
  {
   "cell_type": "code",
   "execution_count": 15,
   "id": "04b091ec-11e7-4be0-a194-aad139891cd4",
   "metadata": {},
   "outputs": [
    {
     "name": "stdout",
     "output_type": "stream",
     "text": [
      "Review the model in the Vertex AI Model Registry:\n",
      "https://console.cloud.google.com/vertex-ai/locations/us-central1/models/model_03_03a/versions/3/properties?project=statmike-mlops-349915\n"
     ]
    }
   ],
   "source": [
    "print(f'Review the model in the Vertex AI Model Registry:\\nhttps://console.cloud.google.com/vertex-ai/locations/{REGION}/models/{deployed_model.name}/versions/{deployed_model.version_id}/properties?project={PROJECT_ID}')"
   ]
  },
  {
   "cell_type": "markdown",
   "id": "ec1a4dda-2491-4ed5-bfd8-368867ff3884",
   "metadata": {},
   "source": [
    "---\n",
    "## Retrieve Records For Prediction & Explanation"
   ]
  },
  {
   "cell_type": "code",
   "execution_count": 16,
   "id": "611a7b37-e2cc-4a99-9075-1f472e88f94c",
   "metadata": {},
   "outputs": [],
   "source": [
    "n = 10\n",
    "pred = bq.query(\n",
    "    query = f\"\"\"\n",
    "        SELECT * EXCEPT({VAR_TARGET}, {VAR_OMIT}, splits)\n",
    "        FROM {BQ_PROJECT}.{BQ_DATASET}.{BQ_TABLE}\n",
    "        WHERE splits='TEST'\n",
    "        LIMIT {n}\n",
    "        \"\"\"\n",
    ").to_dataframe()"
   ]
  },
  {
   "cell_type": "code",
   "execution_count": 17,
   "id": "a3d04af1-2b42-4afc-83e6-3dd624a4acfb",
   "metadata": {},
   "outputs": [
    {
     "data": {
      "text/html": [
       "<div>\n",
       "<style scoped>\n",
       "    .dataframe tbody tr th:only-of-type {\n",
       "        vertical-align: middle;\n",
       "    }\n",
       "\n",
       "    .dataframe tbody tr th {\n",
       "        vertical-align: top;\n",
       "    }\n",
       "\n",
       "    .dataframe thead th {\n",
       "        text-align: right;\n",
       "    }\n",
       "</style>\n",
       "<table border=\"1\" class=\"dataframe\">\n",
       "  <thead>\n",
       "    <tr style=\"text-align: right;\">\n",
       "      <th></th>\n",
       "      <th>Time</th>\n",
       "      <th>V1</th>\n",
       "      <th>V2</th>\n",
       "      <th>V3</th>\n",
       "      <th>V4</th>\n",
       "      <th>V5</th>\n",
       "      <th>V6</th>\n",
       "      <th>V7</th>\n",
       "      <th>V8</th>\n",
       "      <th>V9</th>\n",
       "      <th>...</th>\n",
       "      <th>V20</th>\n",
       "      <th>V21</th>\n",
       "      <th>V22</th>\n",
       "      <th>V23</th>\n",
       "      <th>V24</th>\n",
       "      <th>V25</th>\n",
       "      <th>V26</th>\n",
       "      <th>V27</th>\n",
       "      <th>V28</th>\n",
       "      <th>Amount</th>\n",
       "    </tr>\n",
       "  </thead>\n",
       "  <tbody>\n",
       "    <tr>\n",
       "      <th>0</th>\n",
       "      <td>35337</td>\n",
       "      <td>1.092844</td>\n",
       "      <td>-0.013230</td>\n",
       "      <td>1.359829</td>\n",
       "      <td>2.731537</td>\n",
       "      <td>-0.707357</td>\n",
       "      <td>0.873837</td>\n",
       "      <td>-0.796130</td>\n",
       "      <td>0.437707</td>\n",
       "      <td>0.396770</td>\n",
       "      <td>...</td>\n",
       "      <td>-0.240428</td>\n",
       "      <td>0.037603</td>\n",
       "      <td>0.380026</td>\n",
       "      <td>-0.167647</td>\n",
       "      <td>0.027557</td>\n",
       "      <td>0.592115</td>\n",
       "      <td>0.219695</td>\n",
       "      <td>0.036970</td>\n",
       "      <td>0.010984</td>\n",
       "      <td>0.0</td>\n",
       "    </tr>\n",
       "    <tr>\n",
       "      <th>1</th>\n",
       "      <td>60481</td>\n",
       "      <td>1.238973</td>\n",
       "      <td>0.035226</td>\n",
       "      <td>0.063003</td>\n",
       "      <td>0.641406</td>\n",
       "      <td>-0.260893</td>\n",
       "      <td>-0.580097</td>\n",
       "      <td>0.049938</td>\n",
       "      <td>-0.034733</td>\n",
       "      <td>0.405932</td>\n",
       "      <td>...</td>\n",
       "      <td>-0.265080</td>\n",
       "      <td>-0.060003</td>\n",
       "      <td>-0.053585</td>\n",
       "      <td>-0.057718</td>\n",
       "      <td>0.104983</td>\n",
       "      <td>0.537987</td>\n",
       "      <td>0.589563</td>\n",
       "      <td>-0.046207</td>\n",
       "      <td>-0.006212</td>\n",
       "      <td>0.0</td>\n",
       "    </tr>\n",
       "    <tr>\n",
       "      <th>2</th>\n",
       "      <td>139587</td>\n",
       "      <td>1.870539</td>\n",
       "      <td>0.211079</td>\n",
       "      <td>0.224457</td>\n",
       "      <td>3.889486</td>\n",
       "      <td>-0.380177</td>\n",
       "      <td>0.249799</td>\n",
       "      <td>-0.577133</td>\n",
       "      <td>0.179189</td>\n",
       "      <td>-0.120462</td>\n",
       "      <td>...</td>\n",
       "      <td>-0.374356</td>\n",
       "      <td>0.196006</td>\n",
       "      <td>0.656552</td>\n",
       "      <td>0.180776</td>\n",
       "      <td>-0.060226</td>\n",
       "      <td>-0.228979</td>\n",
       "      <td>0.080827</td>\n",
       "      <td>0.009868</td>\n",
       "      <td>-0.036997</td>\n",
       "      <td>0.0</td>\n",
       "    </tr>\n",
       "    <tr>\n",
       "      <th>3</th>\n",
       "      <td>162908</td>\n",
       "      <td>-3.368339</td>\n",
       "      <td>-1.980442</td>\n",
       "      <td>0.153645</td>\n",
       "      <td>-0.159795</td>\n",
       "      <td>3.847169</td>\n",
       "      <td>-3.516873</td>\n",
       "      <td>-1.209398</td>\n",
       "      <td>-0.292122</td>\n",
       "      <td>0.760543</td>\n",
       "      <td>...</td>\n",
       "      <td>-0.923275</td>\n",
       "      <td>-0.545992</td>\n",
       "      <td>-0.252324</td>\n",
       "      <td>-1.171627</td>\n",
       "      <td>0.214333</td>\n",
       "      <td>-0.159652</td>\n",
       "      <td>-0.060883</td>\n",
       "      <td>1.294977</td>\n",
       "      <td>0.120503</td>\n",
       "      <td>0.0</td>\n",
       "    </tr>\n",
       "    <tr>\n",
       "      <th>4</th>\n",
       "      <td>165236</td>\n",
       "      <td>2.180149</td>\n",
       "      <td>0.218732</td>\n",
       "      <td>-2.637726</td>\n",
       "      <td>0.348776</td>\n",
       "      <td>1.063546</td>\n",
       "      <td>-1.249197</td>\n",
       "      <td>0.942021</td>\n",
       "      <td>-0.547652</td>\n",
       "      <td>-0.087823</td>\n",
       "      <td>...</td>\n",
       "      <td>-0.250653</td>\n",
       "      <td>0.234502</td>\n",
       "      <td>0.825237</td>\n",
       "      <td>-0.176957</td>\n",
       "      <td>0.563779</td>\n",
       "      <td>0.730183</td>\n",
       "      <td>0.707494</td>\n",
       "      <td>-0.131066</td>\n",
       "      <td>-0.090428</td>\n",
       "      <td>0.0</td>\n",
       "    </tr>\n",
       "    <tr>\n",
       "      <th>5</th>\n",
       "      <td>62606</td>\n",
       "      <td>1.199408</td>\n",
       "      <td>0.352007</td>\n",
       "      <td>0.379645</td>\n",
       "      <td>1.372017</td>\n",
       "      <td>0.291347</td>\n",
       "      <td>0.524919</td>\n",
       "      <td>-0.117555</td>\n",
       "      <td>0.132907</td>\n",
       "      <td>-0.935169</td>\n",
       "      <td>...</td>\n",
       "      <td>-0.042979</td>\n",
       "      <td>-0.050291</td>\n",
       "      <td>-0.126609</td>\n",
       "      <td>-0.022218</td>\n",
       "      <td>-0.599026</td>\n",
       "      <td>0.258188</td>\n",
       "      <td>0.928721</td>\n",
       "      <td>-0.058988</td>\n",
       "      <td>-0.008856</td>\n",
       "      <td>0.0</td>\n",
       "    </tr>\n",
       "    <tr>\n",
       "      <th>6</th>\n",
       "      <td>90719</td>\n",
       "      <td>1.937447</td>\n",
       "      <td>0.337882</td>\n",
       "      <td>-0.000630</td>\n",
       "      <td>3.816486</td>\n",
       "      <td>0.276515</td>\n",
       "      <td>1.079842</td>\n",
       "      <td>-0.730626</td>\n",
       "      <td>0.197353</td>\n",
       "      <td>1.137566</td>\n",
       "      <td>...</td>\n",
       "      <td>-0.315667</td>\n",
       "      <td>-0.038376</td>\n",
       "      <td>0.208914</td>\n",
       "      <td>0.160189</td>\n",
       "      <td>-0.015145</td>\n",
       "      <td>-0.162678</td>\n",
       "      <td>-0.000843</td>\n",
       "      <td>-0.018178</td>\n",
       "      <td>-0.039339</td>\n",
       "      <td>0.0</td>\n",
       "    </tr>\n",
       "    <tr>\n",
       "      <th>7</th>\n",
       "      <td>113350</td>\n",
       "      <td>1.891900</td>\n",
       "      <td>0.401086</td>\n",
       "      <td>-0.119983</td>\n",
       "      <td>4.047500</td>\n",
       "      <td>0.049952</td>\n",
       "      <td>0.192793</td>\n",
       "      <td>-0.108512</td>\n",
       "      <td>-0.040400</td>\n",
       "      <td>-0.390391</td>\n",
       "      <td>...</td>\n",
       "      <td>-0.267639</td>\n",
       "      <td>0.094177</td>\n",
       "      <td>0.613712</td>\n",
       "      <td>0.070986</td>\n",
       "      <td>0.079543</td>\n",
       "      <td>0.135219</td>\n",
       "      <td>0.128961</td>\n",
       "      <td>0.003667</td>\n",
       "      <td>-0.045079</td>\n",
       "      <td>0.0</td>\n",
       "    </tr>\n",
       "    <tr>\n",
       "      <th>8</th>\n",
       "      <td>156499</td>\n",
       "      <td>0.060003</td>\n",
       "      <td>1.461355</td>\n",
       "      <td>0.378915</td>\n",
       "      <td>2.835455</td>\n",
       "      <td>1.626526</td>\n",
       "      <td>-0.164732</td>\n",
       "      <td>1.551858</td>\n",
       "      <td>-0.412927</td>\n",
       "      <td>-1.735264</td>\n",
       "      <td>...</td>\n",
       "      <td>-0.175275</td>\n",
       "      <td>0.042293</td>\n",
       "      <td>0.277536</td>\n",
       "      <td>-0.123379</td>\n",
       "      <td>1.081552</td>\n",
       "      <td>-0.053079</td>\n",
       "      <td>-0.149809</td>\n",
       "      <td>-0.314438</td>\n",
       "      <td>-0.216539</td>\n",
       "      <td>0.0</td>\n",
       "    </tr>\n",
       "    <tr>\n",
       "      <th>9</th>\n",
       "      <td>73902</td>\n",
       "      <td>-1.859260</td>\n",
       "      <td>2.158799</td>\n",
       "      <td>1.085671</td>\n",
       "      <td>2.615483</td>\n",
       "      <td>0.246660</td>\n",
       "      <td>2.133925</td>\n",
       "      <td>-1.569015</td>\n",
       "      <td>-2.612353</td>\n",
       "      <td>-1.312509</td>\n",
       "      <td>...</td>\n",
       "      <td>0.590142</td>\n",
       "      <td>-0.867178</td>\n",
       "      <td>-0.700479</td>\n",
       "      <td>0.231972</td>\n",
       "      <td>-1.374527</td>\n",
       "      <td>0.140285</td>\n",
       "      <td>0.128806</td>\n",
       "      <td>0.153606</td>\n",
       "      <td>0.092042</td>\n",
       "      <td>0.0</td>\n",
       "    </tr>\n",
       "  </tbody>\n",
       "</table>\n",
       "<p>10 rows × 30 columns</p>\n",
       "</div>"
      ],
      "text/plain": [
       "     Time        V1        V2        V3        V4        V5        V6  \\\n",
       "0   35337  1.092844 -0.013230  1.359829  2.731537 -0.707357  0.873837   \n",
       "1   60481  1.238973  0.035226  0.063003  0.641406 -0.260893 -0.580097   \n",
       "2  139587  1.870539  0.211079  0.224457  3.889486 -0.380177  0.249799   \n",
       "3  162908 -3.368339 -1.980442  0.153645 -0.159795  3.847169 -3.516873   \n",
       "4  165236  2.180149  0.218732 -2.637726  0.348776  1.063546 -1.249197   \n",
       "5   62606  1.199408  0.352007  0.379645  1.372017  0.291347  0.524919   \n",
       "6   90719  1.937447  0.337882 -0.000630  3.816486  0.276515  1.079842   \n",
       "7  113350  1.891900  0.401086 -0.119983  4.047500  0.049952  0.192793   \n",
       "8  156499  0.060003  1.461355  0.378915  2.835455  1.626526 -0.164732   \n",
       "9   73902 -1.859260  2.158799  1.085671  2.615483  0.246660  2.133925   \n",
       "\n",
       "         V7        V8        V9  ...       V20       V21       V22       V23  \\\n",
       "0 -0.796130  0.437707  0.396770  ... -0.240428  0.037603  0.380026 -0.167647   \n",
       "1  0.049938 -0.034733  0.405932  ... -0.265080 -0.060003 -0.053585 -0.057718   \n",
       "2 -0.577133  0.179189 -0.120462  ... -0.374356  0.196006  0.656552  0.180776   \n",
       "3 -1.209398 -0.292122  0.760543  ... -0.923275 -0.545992 -0.252324 -1.171627   \n",
       "4  0.942021 -0.547652 -0.087823  ... -0.250653  0.234502  0.825237 -0.176957   \n",
       "5 -0.117555  0.132907 -0.935169  ... -0.042979 -0.050291 -0.126609 -0.022218   \n",
       "6 -0.730626  0.197353  1.137566  ... -0.315667 -0.038376  0.208914  0.160189   \n",
       "7 -0.108512 -0.040400 -0.390391  ... -0.267639  0.094177  0.613712  0.070986   \n",
       "8  1.551858 -0.412927 -1.735264  ... -0.175275  0.042293  0.277536 -0.123379   \n",
       "9 -1.569015 -2.612353 -1.312509  ...  0.590142 -0.867178 -0.700479  0.231972   \n",
       "\n",
       "        V24       V25       V26       V27       V28  Amount  \n",
       "0  0.027557  0.592115  0.219695  0.036970  0.010984     0.0  \n",
       "1  0.104983  0.537987  0.589563 -0.046207 -0.006212     0.0  \n",
       "2 -0.060226 -0.228979  0.080827  0.009868 -0.036997     0.0  \n",
       "3  0.214333 -0.159652 -0.060883  1.294977  0.120503     0.0  \n",
       "4  0.563779  0.730183  0.707494 -0.131066 -0.090428     0.0  \n",
       "5 -0.599026  0.258188  0.928721 -0.058988 -0.008856     0.0  \n",
       "6 -0.015145 -0.162678 -0.000843 -0.018178 -0.039339     0.0  \n",
       "7  0.079543  0.135219  0.128961  0.003667 -0.045079     0.0  \n",
       "8  1.081552 -0.053079 -0.149809 -0.314438 -0.216539     0.0  \n",
       "9 -1.374527  0.140285  0.128806  0.153606  0.092042     0.0  \n",
       "\n",
       "[10 rows x 30 columns]"
      ]
     },
     "execution_count": 17,
     "metadata": {},
     "output_type": "execute_result"
    }
   ],
   "source": [
    "pred"
   ]
  },
  {
   "cell_type": "markdown",
   "id": "621ad550-1aa0-4215-934a-467e2c50de61",
   "metadata": {},
   "source": [
    "Remove columns not included as features in the model:"
   ]
  },
  {
   "cell_type": "code",
   "execution_count": 18,
   "id": "71f54d9b-a78a-41a6-a0d1-f0bb2aa47bec",
   "metadata": {},
   "outputs": [
    {
     "data": {
      "text/plain": [
       "{'Time': 35337,\n",
       " 'V1': 1.0928441854981998,\n",
       " 'V2': -0.0132303486713432,\n",
       " 'V3': 1.35982868199426,\n",
       " 'V4': 2.7315370965921004,\n",
       " 'V5': -0.707357349219652,\n",
       " 'V6': 0.8738370029866129,\n",
       " 'V7': -0.7961301510622031,\n",
       " 'V8': 0.437706509544851,\n",
       " 'V9': 0.39676985012996396,\n",
       " 'V10': 0.587438102569443,\n",
       " 'V11': -0.14979756231827498,\n",
       " 'V12': 0.29514781622888103,\n",
       " 'V13': -1.30382621882143,\n",
       " 'V14': -0.31782283120234495,\n",
       " 'V15': -2.03673231037199,\n",
       " 'V16': 0.376090905274179,\n",
       " 'V17': -0.30040350116459497,\n",
       " 'V18': 0.433799615590844,\n",
       " 'V19': -0.145082264348681,\n",
       " 'V20': -0.240427548108996,\n",
       " 'V21': 0.0376030733329398,\n",
       " 'V22': 0.38002620963091405,\n",
       " 'V23': -0.16764742731151097,\n",
       " 'V24': 0.0275573495476881,\n",
       " 'V25': 0.59211469704354,\n",
       " 'V26': 0.219695164116351,\n",
       " 'V27': 0.0369695108704894,\n",
       " 'V28': 0.010984441006191,\n",
       " 'Amount': 0.0}"
      ]
     },
     "execution_count": 18,
     "metadata": {},
     "output_type": "execute_result"
    }
   ],
   "source": [
    "newobs = pred.to_dict(orient='records')\n",
    "newobs[0]"
   ]
  },
  {
   "cell_type": "code",
   "execution_count": 19,
   "id": "6adea8e6-9eac-4757-b149-e35208489cc3",
   "metadata": {},
   "outputs": [
    {
     "data": {
      "text/plain": [
       "10"
      ]
     },
     "execution_count": 19,
     "metadata": {},
     "output_type": "execute_result"
    }
   ],
   "source": [
    "len(newobs)"
   ]
  },
  {
   "cell_type": "code",
   "execution_count": 20,
   "id": "91d02cc0-2516-4cd7-b768-200b9bca0e81",
   "metadata": {},
   "outputs": [
    {
     "data": {
      "text/plain": [
       "Prediction(predictions=[{'Class_values': ['1', '0'], 'predicted_Class': ['0'], 'Class_probs': [0.2352047638246847, 0.7647952361753153]}], deployed_model_id='5304461906809978880', model_version_id='3', model_resource_name='projects/1026793852137/locations/us-central1/models/model_03_03a', explanations=None)"
      ]
     },
     "execution_count": 20,
     "metadata": {},
     "output_type": "execute_result"
    }
   ],
   "source": [
    "prediction = endpoint.predict(instances = newobs[0:1])\n",
    "prediction"
   ]
  },
  {
   "cell_type": "code",
   "execution_count": 21,
   "id": "3190a637-3785-4dce-b9fe-de40b82aa8a9",
   "metadata": {},
   "outputs": [
    {
     "data": {
      "text/plain": [
       "{'Class_values': ['1', '0'],\n",
       " 'predicted_Class': ['0'],\n",
       " 'Class_probs': [0.2352047638246847, 0.7647952361753153]}"
      ]
     },
     "execution_count": 21,
     "metadata": {},
     "output_type": "execute_result"
    }
   ],
   "source": [
    "prediction.predictions[0]"
   ]
  },
  {
   "cell_type": "markdown",
   "id": "b9ffe125-05ef-4844-80f8-7f914ab5ff0f",
   "metadata": {
    "tags": []
   },
   "source": [
    "---\n",
    "## BQML Remote Model"
   ]
  },
  {
   "cell_type": "markdown",
   "id": "e064b3d2-defb-468a-b71d-bddb946724b5",
   "metadata": {},
   "source": [
    "### BigQuery Cloud Resource Connection\n",
    "https://cloud.google.com/bigquery/docs/create-cloud-resource-connection"
   ]
  },
  {
   "cell_type": "code",
   "execution_count": 22,
   "id": "84ea89e0-3b70-4e80-b444-71d5cc551307",
   "metadata": {},
   "outputs": [
    {
     "name": "stdout",
     "output_type": "stream",
     "text": [
      "This is BigQuery CLI 2.0.75\n"
     ]
    }
   ],
   "source": [
    "!bq version"
   ]
  },
  {
   "cell_type": "code",
   "execution_count": 68,
   "id": "4430f4ed-871d-4a6a-8000-485705f97c70",
   "metadata": {},
   "outputs": [
    {
     "name": "stdout",
     "output_type": "stream",
     "text": [
      "                    name                     friendlyName   description    Last modified         type        hasCredential                                             properties                                            \n",
      " ------------------------------------------ -------------- ------------- ----------------- ---------------- --------------- ------------------------------------------------------------------------------------------------ \n",
      "  1026793852137.us-central1.vertex_connect                                22 Feb 14:29:36   CLOUD_RESOURCE   False           {\"serviceAccountId\": \"bqcx-1026793852137-d9vv@gcp-sa-bigquery-condel.iam.gserviceaccount.com\"}  \n"
     ]
    }
   ],
   "source": [
    "!bq ls --connection --location={REGION} --project_id={PROJECT_ID}"
   ]
  },
  {
   "cell_type": "code",
   "execution_count": null,
   "id": "a104bc78-3a66-466a-9815-6777c554ac24",
   "metadata": {},
   "outputs": [],
   "source": [
    "!bq mk --connection --location={REGION} --project_id={PROJECT_ID} --connection_type=CLOUD_RESOURCE vertex_connect"
   ]
  },
  {
   "cell_type": "code",
   "execution_count": 24,
   "id": "d42e6c5e-6eca-403f-afd6-6f70564ddaf1",
   "metadata": {},
   "outputs": [
    {
     "name": "stdout",
     "output_type": "stream",
     "text": [
      "Connection statmike-mlops-349915.us-central1.vertex_connect\n",
      "\n",
      "                    name                     friendlyName   description    Last modified         type        hasCredential                                             properties                                            \n",
      " ------------------------------------------ -------------- ------------- ----------------- ---------------- --------------- ------------------------------------------------------------------------------------------------ \n",
      "  1026793852137.us-central1.vertex_connect                                22 Feb 14:29:36   CLOUD_RESOURCE   False           {\"serviceAccountId\": \"bqcx-1026793852137-d9vv@gcp-sa-bigquery-condel.iam.gserviceaccount.com\"}  \n",
      "\n"
     ]
    }
   ],
   "source": [
    "!bq show --connection {PROJECT_ID}.{REGION}.vertex_connect"
   ]
  },
  {
   "attachments": {
    "28cce339-cc53-4406-acea-bfad6926c5bf.png": {
     "image/png": "[encoded data removed]"
    }
   },
   "cell_type": "markdown",
   "id": "ca6d7ddc-c3ed-4ed5-8442-822f0c2ab0b5",
   "metadata": {},
   "source": [
    "Grant This Service Account the role: [Vertex AI User](https://cloud.google.com/vertex-ai/docs/general/access-control#aiplatform.user)\n",
    "                                                      \n",
    "Do This in the Console:\n",
    "- Console > IAM > + Grand Access:\n",
    "    - New Principal = <enter value of serviceAccountId above>\n",
    "    - Role = Vertex AI User\n",
    "    - Click Save\n",
    "\n",
    "![Screenshot 2023-02-22 at 9.47.15 AM.png](attachment:28cce339-cc53-4406-acea-bfad6926c5bf.png)"
   ]
  },
  {
   "cell_type": "markdown",
   "id": "248c4d1f-5c2f-4c7e-b954-2a2d8316894c",
   "metadata": {},
   "source": [
    "### Model Inputs and Outputs\n",
    "\n",
    "```\n",
    "MetaGraphDef with tag-set: 'serve' contains the following SignatureDefs:\n",
    "signature_def['serving_default']:\n",
    "  The given SavedModel SignatureDef contains the following input(s):\n",
    "    inputs['image_bytes'] tensor_info:\n",
    "        dtype: DT_STRING\n",
    "        shape: (-1)\n",
    "        name: encoded_image_string_tensor:0\n",
    "    inputs['key'] tensor_info:\n",
    "        dtype: DT_STRING\n",
    "        shape: (-1)\n",
    "        name: key:0\n",
    "```"
   ]
  },
  {
   "cell_type": "code",
   "execution_count": 25,
   "id": "37474733-74bd-4ff2-b86b-b302cb2c92b8",
   "metadata": {},
   "outputs": [
    {
     "name": "stderr",
     "output_type": "stream",
     "text": [
      "2023-02-23 23:47:01.515050: I tensorflow/core/platform/profile_utils/cpu_utils.cc:104] CPU Frequency: 2299995000 Hz\n",
      "2023-02-23 23:47:01.516783: I tensorflow/compiler/xla/service/service.cc:168] XLA service 0x563cd5c35740 initialized for platform Host (this does not guarantee that XLA will be used). Devices:\n",
      "2023-02-23 23:47:01.516830: I tensorflow/compiler/xla/service/service.cc:176]   StreamExecutor device (0): Host, Default Version\n",
      "2023-02-23 23:47:01.521370: I tensorflow/core/common_runtime/process_util.cc:146] Creating new thread pool with default inter op setting: 2. Tune using inter_op_parallelism_threads for best performance.\n"
     ]
    },
    {
     "name": "stdout",
     "output_type": "stream",
     "text": [
      "serving_default\n"
     ]
    }
   ],
   "source": [
    "import tensorflow as tf\n",
    "reloaded_model = tf.saved_model.load(deployed_model.uri)\n",
    "print(list(reloaded_model.signatures.keys())[0])"
   ]
  },
  {
   "cell_type": "code",
   "execution_count": 26,
   "id": "7274cc12-43c8-4d05-8713-be0f1c831a4a",
   "metadata": {},
   "outputs": [
    {
     "data": {
      "text/plain": [
       "_SignatureMap({'serving_default': <ConcreteFunction pruned(V17, V4, V15, V22, V12, V18, V2, V11, V13, V8, V23, Time, V19, V5, V27, V6, V24, V9, V21, V16, V1, V26, V20, V3, V7, V14, V10, V28, V25, Amount) at 0x7F1AEC4EEE10>})"
      ]
     },
     "execution_count": 26,
     "metadata": {},
     "output_type": "execute_result"
    }
   ],
   "source": [
    "reloaded_model.signatures"
   ]
  },
  {
   "cell_type": "code",
   "execution_count": 27,
   "id": "de8fab1e-d593-4e15-98f3-3529ecc6a321",
   "metadata": {},
   "outputs": [
    {
     "data": {
      "text/plain": [
       "<ConcreteFunction pruned(V17, V4, V15, V22, V12, V18, V2, V11, V13, V8, V23, Time, V19, V5, V27, V6, V24, V9, V21, V16, V1, V26, V20, V3, V7, V14, V10, V28, V25, Amount) at 0x7F1AEC4EEE10>"
      ]
     },
     "execution_count": 27,
     "metadata": {},
     "output_type": "execute_result"
    }
   ],
   "source": [
    "reloaded_model.signatures['serving_default']"
   ]
  },
  {
   "cell_type": "code",
   "execution_count": 28,
   "id": "621ac33d-c709-418a-84b8-ac77a842b8e6",
   "metadata": {},
   "outputs": [
    {
     "name": "stdout",
     "output_type": "stream",
     "text": [
      "\n",
      "MetaGraphDef with tag-set: 'serve' contains the following SignatureDefs:\n",
      "\n",
      "signature_def['serving_default']:\n",
      "  The given SavedModel SignatureDef contains the following input(s):\n",
      "    inputs['Amount'] tensor_info:\n",
      "        dtype: DT_DOUBLE\n",
      "        shape: (-1)\n",
      "        name: Amount:0\n",
      "    inputs['Time'] tensor_info:\n",
      "        dtype: DT_DOUBLE\n",
      "        shape: (-1)\n",
      "        name: Time:0\n",
      "    inputs['V1'] tensor_info:\n",
      "        dtype: DT_DOUBLE\n",
      "        shape: (-1)\n",
      "        name: V1:0\n",
      "    inputs['V10'] tensor_info:\n",
      "        dtype: DT_DOUBLE\n",
      "        shape: (-1)\n",
      "        name: V10:0\n",
      "    inputs['V11'] tensor_info:\n",
      "        dtype: DT_DOUBLE\n",
      "        shape: (-1)\n",
      "        name: V11:0\n",
      "    inputs['V12'] tensor_info:\n",
      "        dtype: DT_DOUBLE\n",
      "        shape: (-1)\n",
      "        name: V12:0\n",
      "    inputs['V13'] tensor_info:\n",
      "        dtype: DT_DOUBLE\n",
      "        shape: (-1)\n",
      "        name: V13:0\n",
      "    inputs['V14'] tensor_info:\n",
      "        dtype: DT_DOUBLE\n",
      "        shape: (-1)\n",
      "        name: V14:0\n",
      "    inputs['V15'] tensor_info:\n",
      "        dtype: DT_DOUBLE\n",
      "        shape: (-1)\n",
      "        name: V15:0\n",
      "    inputs['V16'] tensor_info:\n",
      "        dtype: DT_DOUBLE\n",
      "        shape: (-1)\n",
      "        name: V16:0\n",
      "    inputs['V17'] tensor_info:\n",
      "        dtype: DT_DOUBLE\n",
      "        shape: (-1)\n",
      "        name: V17:0\n",
      "    inputs['V18'] tensor_info:\n",
      "        dtype: DT_DOUBLE\n",
      "        shape: (-1)\n",
      "        name: V18:0\n",
      "    inputs['V19'] tensor_info:\n",
      "        dtype: DT_DOUBLE\n",
      "        shape: (-1)\n",
      "        name: V19:0\n",
      "    inputs['V2'] tensor_info:\n",
      "        dtype: DT_DOUBLE\n",
      "        shape: (-1)\n",
      "        name: V2:0\n",
      "    inputs['V20'] tensor_info:\n",
      "        dtype: DT_DOUBLE\n",
      "        shape: (-1)\n",
      "        name: V20:0\n",
      "    inputs['V21'] tensor_info:\n",
      "        dtype: DT_DOUBLE\n",
      "        shape: (-1)\n",
      "        name: V21:0\n",
      "    inputs['V22'] tensor_info:\n",
      "        dtype: DT_DOUBLE\n",
      "        shape: (-1)\n",
      "        name: V22:0\n",
      "    inputs['V23'] tensor_info:\n",
      "        dtype: DT_DOUBLE\n",
      "        shape: (-1)\n",
      "        name: V23:0\n",
      "    inputs['V24'] tensor_info:\n",
      "        dtype: DT_DOUBLE\n",
      "        shape: (-1)\n",
      "        name: V24:0\n",
      "    inputs['V25'] tensor_info:\n",
      "        dtype: DT_DOUBLE\n",
      "        shape: (-1)\n",
      "        name: V25:0\n",
      "    inputs['V26'] tensor_info:\n",
      "        dtype: DT_DOUBLE\n",
      "        shape: (-1)\n",
      "        name: V26:0\n",
      "    inputs['V27'] tensor_info:\n",
      "        dtype: DT_DOUBLE\n",
      "        shape: (-1)\n",
      "        name: V27:0\n",
      "    inputs['V28'] tensor_info:\n",
      "        dtype: DT_DOUBLE\n",
      "        shape: (-1)\n",
      "        name: V28:0\n",
      "    inputs['V3'] tensor_info:\n",
      "        dtype: DT_DOUBLE\n",
      "        shape: (-1)\n",
      "        name: V3:0\n",
      "    inputs['V4'] tensor_info:\n",
      "        dtype: DT_DOUBLE\n",
      "        shape: (-1)\n",
      "        name: V4:0\n",
      "    inputs['V5'] tensor_info:\n",
      "        dtype: DT_DOUBLE\n",
      "        shape: (-1)\n",
      "        name: V5:0\n",
      "    inputs['V6'] tensor_info:\n",
      "        dtype: DT_DOUBLE\n",
      "        shape: (-1)\n",
      "        name: V6:0\n",
      "    inputs['V7'] tensor_info:\n",
      "        dtype: DT_DOUBLE\n",
      "        shape: (-1)\n",
      "        name: V7:0\n",
      "    inputs['V8'] tensor_info:\n",
      "        dtype: DT_DOUBLE\n",
      "        shape: (-1)\n",
      "        name: V8:0\n",
      "    inputs['V9'] tensor_info:\n",
      "        dtype: DT_DOUBLE\n",
      "        shape: (-1)\n",
      "        name: V9:0\n",
      "  The given SavedModel SignatureDef contains the following output(s):\n",
      "    outputs['Class_probs'] tensor_info:\n",
      "        dtype: DT_DOUBLE\n",
      "        shape: (-1, 2)\n",
      "        name: output_probs:0\n",
      "    outputs['Class_values'] tensor_info:\n",
      "        dtype: DT_STRING\n",
      "        shape: (-1, 2)\n",
      "        name: output_labels:0\n",
      "    outputs['predicted_Class'] tensor_info:\n",
      "        dtype: DT_STRING\n",
      "        shape: (-1, 1)\n",
      "        name: output_class:0\n",
      "  Method name is: tensorflow/serving/predict\n"
     ]
    }
   ],
   "source": [
    "!saved_model_cli show --dir {deployed_model.uri} --all"
   ]
  },
  {
   "cell_type": "code",
   "execution_count": null,
   "id": "6577d4d0-5022-4f6b-b55a-a8f0623fc577",
   "metadata": {},
   "outputs": [],
   "source": []
  },
  {
   "cell_type": "code",
   "execution_count": null,
   "id": "5f4cd333-3b45-4deb-aea1-91479a0d7e58",
   "metadata": {},
   "outputs": [],
   "source": []
  },
  {
   "cell_type": "code",
   "execution_count": null,
   "id": "6208bb4d-1b5c-4cc3-86bd-6aaffda36064",
   "metadata": {},
   "outputs": [],
   "source": []
  },
  {
   "cell_type": "code",
   "execution_count": null,
   "id": "7ad5d438-4ed5-4ec4-b645-6eb402ac782a",
   "metadata": {},
   "outputs": [],
   "source": []
  },
  {
   "cell_type": "markdown",
   "id": "30f8314c-b2a3-452e-b12e-296e2c741d4c",
   "metadata": {},
   "source": [
    "### Create Remote Model"
   ]
  },
  {
   "cell_type": "code",
   "execution_count": 69,
   "id": "e9b87fd5-3d5c-4cd2-8a0f-3b3d59316406",
   "metadata": {},
   "outputs": [
    {
     "data": {
      "text/plain": [
       "'gs://statmike-mlops-349915/03/03a/models/20230222115533/model'"
      ]
     },
     "execution_count": 69,
     "metadata": {},
     "output_type": "execute_result"
    }
   ],
   "source": [
    "deployed_model.uri"
   ]
  },
  {
   "cell_type": "code",
   "execution_count": 70,
   "id": "ff5891d8-6b8d-40ea-8c32-1b82aa28bb2b",
   "metadata": {},
   "outputs": [
    {
     "data": {
      "text/plain": [
       "'model_03_03a'"
      ]
     },
     "execution_count": 70,
     "metadata": {},
     "output_type": "execute_result"
    }
   ],
   "source": [
    "deployed_model.name"
   ]
  },
  {
   "cell_type": "code",
   "execution_count": 71,
   "id": "4482b840-097a-472f-a0f1-67a6c10e863d",
   "metadata": {},
   "outputs": [
    {
     "data": {
      "text/plain": [
       "'4867252103141130240'"
      ]
     },
     "execution_count": 71,
     "metadata": {},
     "output_type": "execute_result"
    }
   ],
   "source": [
    "endpoint.name"
   ]
  },
  {
   "cell_type": "code",
   "execution_count": 72,
   "id": "a2a304e8-6cc6-4fe9-b3a1-8fc2afb5b552",
   "metadata": {},
   "outputs": [
    {
     "data": {
      "text/plain": [
       "'projects/1026793852137/locations/us-central1/endpoints/4867252103141130240'"
      ]
     },
     "execution_count": 72,
     "metadata": {},
     "output_type": "execute_result"
    }
   ],
   "source": [
    "endpoint.resource_name"
   ]
  },
  {
   "cell_type": "code",
   "execution_count": 127,
   "id": "f4a7b1eb-1f0b-41f8-b0cf-6a36651be753",
   "metadata": {},
   "outputs": [
    {
     "data": {
      "text/plain": [
       "<google.cloud.bigquery.table._EmptyRowIterator at 0x7f1aec2d7a50>"
      ]
     },
     "execution_count": 127,
     "metadata": {},
     "output_type": "execute_result"
    }
   ],
   "source": [
    "query = f\"\"\"\n",
    "CREATE OR REPLACE MODEL `{BQ_PROJECT}.{BQ_DATASET}.vertexai_{deployed_model.name}`\n",
    "INPUT (\n",
    "    Amount FLOAT64,\n",
    "    Time INT64,\n",
    "    V1 FLOAT64,\n",
    "    V2 FLOAT64,\n",
    "    V3 FLOAT64,\n",
    "    V4 FLOAT64,\n",
    "    V5 FLOAT64,\n",
    "    V6 FLOAT64,\n",
    "    V7 FLOAT64,\n",
    "    V8 FLOAT64,\n",
    "    V9 FLOAT64,\n",
    "    V10 FLOAT64,\n",
    "    V11 FLOAT64,\n",
    "    V12 FLOAT64,\n",
    "    V13 FLOAT64,\n",
    "    V14 FLOAT64,\n",
    "    V15 FLOAT64,\n",
    "    V16 FLOAT64,\n",
    "    V17 FLOAT64,\n",
    "    V18 FLOAT64,\n",
    "    V19 FLOAT64,\n",
    "    V20 FLOAT64,\n",
    "    V21 FLOAT64,\n",
    "    V22 FLOAT64,\n",
    "    V23 FLOAT64,\n",
    "    V24 FLOAT64,\n",
    "    V25 FLOAT64,\n",
    "    V26 FLOAT64,\n",
    "    V27 FLOAT64,\n",
    "    V28 FLOAT64\n",
    ")\n",
    "OUTPUT (\n",
    "    Class_probs ARRAY<FLOAT64>,\n",
    "    Class_values ARRAY<STRING>,\n",
    "    predicted_Class ARRAY<STRING>\n",
    ")\n",
    "REMOTE WITH CONNECTION `{PROJECT_ID}.{REGION}.vertex_connect`\n",
    "OPTIONS(\n",
    "    endpoint = 'https://{REGION}-aiplatform.googleapis.com/v1/{endpoint.resource_name}'\n",
    ")\n",
    "\"\"\"\n",
    "job = bq.query(query = query)\n",
    "job.result()"
   ]
  },
  {
   "cell_type": "markdown",
   "id": "2548c6d9-0569-4d02-a667-31d0718fb780",
   "metadata": {},
   "source": [
    "### Predict with ML.PREDICT"
   ]
  },
  {
   "cell_type": "code",
   "execution_count": 133,
   "id": "fc499298-12f5-4794-aaab-fb2702f287e0",
   "metadata": {},
   "outputs": [],
   "source": [
    "query = f\"\"\"\n",
    "SELECT *\n",
    "FROM ML.PREDICT (MODEL `{BQ_PROJECT}.{BQ_DATASET}.vertexai_{deployed_model.name}`,(\n",
    "    SELECT * EXCEPT(splits, {VAR_TARGET}, {VAR_OMIT})\n",
    "    FROM `{BQ_PROJECT}.{BQ_DATASET}.{BQ_TABLE}`\n",
    "    WHERE splits = 'TEST'\n",
    "    #LIMIT 10\n",
    "    #WHERE transaction_id = 'a1b10547-d270-48c0-b902-7a0f735dadc7'\n",
    "    )\n",
    "  )\n",
    "\"\"\"\n",
    "pred = bq.query(query = query).to_dataframe()"
   ]
  },
  {
   "cell_type": "code",
   "execution_count": 134,
   "id": "bc644aaf-5932-4d8b-9fc6-7a3f646b8b7d",
   "metadata": {},
   "outputs": [
    {
     "data": {
      "text/html": [
       "<div>\n",
       "<style scoped>\n",
       "    .dataframe tbody tr th:only-of-type {\n",
       "        vertical-align: middle;\n",
       "    }\n",
       "\n",
       "    .dataframe tbody tr th {\n",
       "        vertical-align: top;\n",
       "    }\n",
       "\n",
       "    .dataframe thead th {\n",
       "        text-align: right;\n",
       "    }\n",
       "</style>\n",
       "<table border=\"1\" class=\"dataframe\">\n",
       "  <thead>\n",
       "    <tr style=\"text-align: right;\">\n",
       "      <th></th>\n",
       "      <th>Class_probs</th>\n",
       "      <th>Class_values</th>\n",
       "      <th>predicted_Class</th>\n",
       "      <th>Time</th>\n",
       "      <th>V1</th>\n",
       "      <th>V2</th>\n",
       "      <th>V3</th>\n",
       "      <th>V4</th>\n",
       "      <th>V5</th>\n",
       "      <th>V6</th>\n",
       "      <th>...</th>\n",
       "      <th>V20</th>\n",
       "      <th>V21</th>\n",
       "      <th>V22</th>\n",
       "      <th>V23</th>\n",
       "      <th>V24</th>\n",
       "      <th>V25</th>\n",
       "      <th>V26</th>\n",
       "      <th>V27</th>\n",
       "      <th>V28</th>\n",
       "      <th>Amount</th>\n",
       "    </tr>\n",
       "  </thead>\n",
       "  <tbody>\n",
       "    <tr>\n",
       "      <th>0</th>\n",
       "      <td>[0.2352047638246846, 0.7647952361753154]</td>\n",
       "      <td>[1, 0]</td>\n",
       "      <td>[0]</td>\n",
       "      <td>35337</td>\n",
       "      <td>1.092844</td>\n",
       "      <td>-0.013230</td>\n",
       "      <td>1.359829</td>\n",
       "      <td>2.731537</td>\n",
       "      <td>-0.707357</td>\n",
       "      <td>0.873837</td>\n",
       "      <td>...</td>\n",
       "      <td>-0.240428</td>\n",
       "      <td>0.037603</td>\n",
       "      <td>0.380026</td>\n",
       "      <td>-0.167647</td>\n",
       "      <td>0.027557</td>\n",
       "      <td>0.592115</td>\n",
       "      <td>0.219695</td>\n",
       "      <td>0.036970</td>\n",
       "      <td>0.010984</td>\n",
       "      <td>0.00</td>\n",
       "    </tr>\n",
       "    <tr>\n",
       "      <th>1</th>\n",
       "      <td>[0.08617354284057765, 0.9138264571594223]</td>\n",
       "      <td>[1, 0]</td>\n",
       "      <td>[0]</td>\n",
       "      <td>60481</td>\n",
       "      <td>1.238973</td>\n",
       "      <td>0.035226</td>\n",
       "      <td>0.063003</td>\n",
       "      <td>0.641406</td>\n",
       "      <td>-0.260893</td>\n",
       "      <td>-0.580097</td>\n",
       "      <td>...</td>\n",
       "      <td>-0.265080</td>\n",
       "      <td>-0.060003</td>\n",
       "      <td>-0.053585</td>\n",
       "      <td>-0.057718</td>\n",
       "      <td>0.104983</td>\n",
       "      <td>0.537987</td>\n",
       "      <td>0.589563</td>\n",
       "      <td>-0.046207</td>\n",
       "      <td>-0.006212</td>\n",
       "      <td>0.00</td>\n",
       "    </tr>\n",
       "    <tr>\n",
       "      <th>2</th>\n",
       "      <td>[0.3179054951019253, 0.6820945048980747]</td>\n",
       "      <td>[1, 0]</td>\n",
       "      <td>[0]</td>\n",
       "      <td>139587</td>\n",
       "      <td>1.870539</td>\n",
       "      <td>0.211079</td>\n",
       "      <td>0.224457</td>\n",
       "      <td>3.889486</td>\n",
       "      <td>-0.380177</td>\n",
       "      <td>0.249799</td>\n",
       "      <td>...</td>\n",
       "      <td>-0.374356</td>\n",
       "      <td>0.196006</td>\n",
       "      <td>0.656552</td>\n",
       "      <td>0.180776</td>\n",
       "      <td>-0.060226</td>\n",
       "      <td>-0.228979</td>\n",
       "      <td>0.080827</td>\n",
       "      <td>0.009868</td>\n",
       "      <td>-0.036997</td>\n",
       "      <td>0.00</td>\n",
       "    </tr>\n",
       "    <tr>\n",
       "      <th>3</th>\n",
       "      <td>[0.03687700128134301, 0.963122998718657]</td>\n",
       "      <td>[1, 0]</td>\n",
       "      <td>[0]</td>\n",
       "      <td>162908</td>\n",
       "      <td>-3.368339</td>\n",
       "      <td>-1.980442</td>\n",
       "      <td>0.153645</td>\n",
       "      <td>-0.159795</td>\n",
       "      <td>3.847169</td>\n",
       "      <td>-3.516873</td>\n",
       "      <td>...</td>\n",
       "      <td>-0.923275</td>\n",
       "      <td>-0.545992</td>\n",
       "      <td>-0.252324</td>\n",
       "      <td>-1.171627</td>\n",
       "      <td>0.214333</td>\n",
       "      <td>-0.159652</td>\n",
       "      <td>-0.060883</td>\n",
       "      <td>1.294977</td>\n",
       "      <td>0.120503</td>\n",
       "      <td>0.00</td>\n",
       "    </tr>\n",
       "    <tr>\n",
       "      <th>4</th>\n",
       "      <td>[0.05563223412843869, 0.9443677658715613]</td>\n",
       "      <td>[1, 0]</td>\n",
       "      <td>[0]</td>\n",
       "      <td>165236</td>\n",
       "      <td>2.180149</td>\n",
       "      <td>0.218732</td>\n",
       "      <td>-2.637726</td>\n",
       "      <td>0.348776</td>\n",
       "      <td>1.063546</td>\n",
       "      <td>-1.249197</td>\n",
       "      <td>...</td>\n",
       "      <td>-0.250653</td>\n",
       "      <td>0.234502</td>\n",
       "      <td>0.825237</td>\n",
       "      <td>-0.176957</td>\n",
       "      <td>0.563779</td>\n",
       "      <td>0.730183</td>\n",
       "      <td>0.707494</td>\n",
       "      <td>-0.131066</td>\n",
       "      <td>-0.090428</td>\n",
       "      <td>0.00</td>\n",
       "    </tr>\n",
       "    <tr>\n",
       "      <th>...</th>\n",
       "      <td>...</td>\n",
       "      <td>...</td>\n",
       "      <td>...</td>\n",
       "      <td>...</td>\n",
       "      <td>...</td>\n",
       "      <td>...</td>\n",
       "      <td>...</td>\n",
       "      <td>...</td>\n",
       "      <td>...</td>\n",
       "      <td>...</td>\n",
       "      <td>...</td>\n",
       "      <td>...</td>\n",
       "      <td>...</td>\n",
       "      <td>...</td>\n",
       "      <td>...</td>\n",
       "      <td>...</td>\n",
       "      <td>...</td>\n",
       "      <td>...</td>\n",
       "      <td>...</td>\n",
       "      <td>...</td>\n",
       "      <td>...</td>\n",
       "    </tr>\n",
       "    <tr>\n",
       "      <th>28497</th>\n",
       "      <td>[0.06557008875984105, 0.934429911240159]</td>\n",
       "      <td>[1, 0]</td>\n",
       "      <td>[0]</td>\n",
       "      <td>39892</td>\n",
       "      <td>-0.886023</td>\n",
       "      <td>-3.746952</td>\n",
       "      <td>-0.013576</td>\n",
       "      <td>1.026757</td>\n",
       "      <td>-1.797836</td>\n",
       "      <td>1.264180</td>\n",
       "      <td>...</td>\n",
       "      <td>1.896435</td>\n",
       "      <td>0.483613</td>\n",
       "      <td>-0.649644</td>\n",
       "      <td>-0.759476</td>\n",
       "      <td>-0.179642</td>\n",
       "      <td>-0.429041</td>\n",
       "      <td>0.846207</td>\n",
       "      <td>-0.197371</td>\n",
       "      <td>0.173713</td>\n",
       "      <td>1023.22</td>\n",
       "    </tr>\n",
       "    <tr>\n",
       "      <th>28498</th>\n",
       "      <td>[0.99806510457691, 0.00193489542309]</td>\n",
       "      <td>[1, 0]</td>\n",
       "      <td>[1]</td>\n",
       "      <td>4462</td>\n",
       "      <td>-2.303350</td>\n",
       "      <td>1.759247</td>\n",
       "      <td>-0.359745</td>\n",
       "      <td>2.330243</td>\n",
       "      <td>-0.821628</td>\n",
       "      <td>-0.075788</td>\n",
       "      <td>...</td>\n",
       "      <td>-0.430022</td>\n",
       "      <td>-0.294166</td>\n",
       "      <td>-0.932391</td>\n",
       "      <td>0.172726</td>\n",
       "      <td>-0.087330</td>\n",
       "      <td>-0.156114</td>\n",
       "      <td>-0.542628</td>\n",
       "      <td>0.039566</td>\n",
       "      <td>-0.153029</td>\n",
       "      <td>239.93</td>\n",
       "    </tr>\n",
       "    <tr>\n",
       "      <th>28499</th>\n",
       "      <td>[0.1022946465181041, 0.897705353481896]</td>\n",
       "      <td>[1, 0]</td>\n",
       "      <td>[0]</td>\n",
       "      <td>42801</td>\n",
       "      <td>0.340725</td>\n",
       "      <td>-1.225499</td>\n",
       "      <td>-0.745517</td>\n",
       "      <td>1.026148</td>\n",
       "      <td>0.654991</td>\n",
       "      <td>2.089517</td>\n",
       "      <td>...</td>\n",
       "      <td>0.451794</td>\n",
       "      <td>0.299103</td>\n",
       "      <td>0.238042</td>\n",
       "      <td>-0.466934</td>\n",
       "      <td>-1.871375</td>\n",
       "      <td>0.447112</td>\n",
       "      <td>-0.148891</td>\n",
       "      <td>-0.000906</td>\n",
       "      <td>0.044125</td>\n",
       "      <td>383.86</td>\n",
       "    </tr>\n",
       "    <tr>\n",
       "      <th>28500</th>\n",
       "      <td>[0.01428514520219138, 0.9857148547978086]</td>\n",
       "      <td>[1, 0]</td>\n",
       "      <td>[0]</td>\n",
       "      <td>146852</td>\n",
       "      <td>-4.233290</td>\n",
       "      <td>0.378911</td>\n",
       "      <td>-5.491528</td>\n",
       "      <td>0.019751</td>\n",
       "      <td>-3.016256</td>\n",
       "      <td>-0.876330</td>\n",
       "      <td>...</td>\n",
       "      <td>-1.061182</td>\n",
       "      <td>0.128130</td>\n",
       "      <td>1.469656</td>\n",
       "      <td>0.245055</td>\n",
       "      <td>0.269178</td>\n",
       "      <td>-0.825780</td>\n",
       "      <td>0.729517</td>\n",
       "      <td>1.180039</td>\n",
       "      <td>-0.675639</td>\n",
       "      <td>543.72</td>\n",
       "    </tr>\n",
       "    <tr>\n",
       "      <th>28501</th>\n",
       "      <td>[0.07218633233864072, 0.9278136676613593]</td>\n",
       "      <td>[1, 0]</td>\n",
       "      <td>[0]</td>\n",
       "      <td>85332</td>\n",
       "      <td>0.228282</td>\n",
       "      <td>-2.133707</td>\n",
       "      <td>-0.781813</td>\n",
       "      <td>-1.410793</td>\n",
       "      <td>-1.336649</td>\n",
       "      <td>-1.376983</td>\n",
       "      <td>...</td>\n",
       "      <td>0.847376</td>\n",
       "      <td>0.365342</td>\n",
       "      <td>0.110645</td>\n",
       "      <td>-0.586253</td>\n",
       "      <td>0.656108</td>\n",
       "      <td>0.630646</td>\n",
       "      <td>-0.715394</td>\n",
       "      <td>-0.045950</td>\n",
       "      <td>0.103181</td>\n",
       "      <td>543.97</td>\n",
       "    </tr>\n",
       "  </tbody>\n",
       "</table>\n",
       "<p>28502 rows × 33 columns</p>\n",
       "</div>"
      ],
      "text/plain": [
       "                                     Class_probs Class_values predicted_Class  \\\n",
       "0       [0.2352047638246846, 0.7647952361753154]       [1, 0]             [0]   \n",
       "1      [0.08617354284057765, 0.9138264571594223]       [1, 0]             [0]   \n",
       "2       [0.3179054951019253, 0.6820945048980747]       [1, 0]             [0]   \n",
       "3       [0.03687700128134301, 0.963122998718657]       [1, 0]             [0]   \n",
       "4      [0.05563223412843869, 0.9443677658715613]       [1, 0]             [0]   \n",
       "...                                          ...          ...             ...   \n",
       "28497   [0.06557008875984105, 0.934429911240159]       [1, 0]             [0]   \n",
       "28498       [0.99806510457691, 0.00193489542309]       [1, 0]             [1]   \n",
       "28499    [0.1022946465181041, 0.897705353481896]       [1, 0]             [0]   \n",
       "28500  [0.01428514520219138, 0.9857148547978086]       [1, 0]             [0]   \n",
       "28501  [0.07218633233864072, 0.9278136676613593]       [1, 0]             [0]   \n",
       "\n",
       "         Time        V1        V2        V3        V4        V5        V6  \\\n",
       "0       35337  1.092844 -0.013230  1.359829  2.731537 -0.707357  0.873837   \n",
       "1       60481  1.238973  0.035226  0.063003  0.641406 -0.260893 -0.580097   \n",
       "2      139587  1.870539  0.211079  0.224457  3.889486 -0.380177  0.249799   \n",
       "3      162908 -3.368339 -1.980442  0.153645 -0.159795  3.847169 -3.516873   \n",
       "4      165236  2.180149  0.218732 -2.637726  0.348776  1.063546 -1.249197   \n",
       "...       ...       ...       ...       ...       ...       ...       ...   \n",
       "28497   39892 -0.886023 -3.746952 -0.013576  1.026757 -1.797836  1.264180   \n",
       "28498    4462 -2.303350  1.759247 -0.359745  2.330243 -0.821628 -0.075788   \n",
       "28499   42801  0.340725 -1.225499 -0.745517  1.026148  0.654991  2.089517   \n",
       "28500  146852 -4.233290  0.378911 -5.491528  0.019751 -3.016256 -0.876330   \n",
       "28501   85332  0.228282 -2.133707 -0.781813 -1.410793 -1.336649 -1.376983   \n",
       "\n",
       "       ...       V20       V21       V22       V23       V24       V25  \\\n",
       "0      ... -0.240428  0.037603  0.380026 -0.167647  0.027557  0.592115   \n",
       "1      ... -0.265080 -0.060003 -0.053585 -0.057718  0.104983  0.537987   \n",
       "2      ... -0.374356  0.196006  0.656552  0.180776 -0.060226 -0.228979   \n",
       "3      ... -0.923275 -0.545992 -0.252324 -1.171627  0.214333 -0.159652   \n",
       "4      ... -0.250653  0.234502  0.825237 -0.176957  0.563779  0.730183   \n",
       "...    ...       ...       ...       ...       ...       ...       ...   \n",
       "28497  ...  1.896435  0.483613 -0.649644 -0.759476 -0.179642 -0.429041   \n",
       "28498  ... -0.430022 -0.294166 -0.932391  0.172726 -0.087330 -0.156114   \n",
       "28499  ...  0.451794  0.299103  0.238042 -0.466934 -1.871375  0.447112   \n",
       "28500  ... -1.061182  0.128130  1.469656  0.245055  0.269178 -0.825780   \n",
       "28501  ...  0.847376  0.365342  0.110645 -0.586253  0.656108  0.630646   \n",
       "\n",
       "            V26       V27       V28   Amount  \n",
       "0      0.219695  0.036970  0.010984     0.00  \n",
       "1      0.589563 -0.046207 -0.006212     0.00  \n",
       "2      0.080827  0.009868 -0.036997     0.00  \n",
       "3     -0.060883  1.294977  0.120503     0.00  \n",
       "4      0.707494 -0.131066 -0.090428     0.00  \n",
       "...         ...       ...       ...      ...  \n",
       "28497  0.846207 -0.197371  0.173713  1023.22  \n",
       "28498 -0.542628  0.039566 -0.153029   239.93  \n",
       "28499 -0.148891 -0.000906  0.044125   383.86  \n",
       "28500  0.729517  1.180039 -0.675639   543.72  \n",
       "28501 -0.715394 -0.045950  0.103181   543.97  \n",
       "\n",
       "[28502 rows x 33 columns]"
      ]
     },
     "execution_count": 134,
     "metadata": {},
     "output_type": "execute_result"
    }
   ],
   "source": [
    "pred"
   ]
  },
  {
   "cell_type": "markdown",
   "id": "8903a182-cc43-4a79-ab4e-d5d09820ba00",
   "metadata": {},
   "source": [
    "Troubleshooting:"
   ]
  },
  {
   "cell_type": "code",
   "execution_count": 77,
   "id": "b017ae44-b7f2-4f4e-b4cf-9695d960f2eb",
   "metadata": {},
   "outputs": [
    {
     "data": {
      "text/plain": [
       "Prediction(predictions=[{'Class_values': ['1', '0'], 'predicted_Class': ['0'], 'Class_probs': [0.2352047638246847, 0.7647952361753153]}], deployed_model_id='5304461906809978880', model_version_id='3', model_resource_name='projects/1026793852137/locations/us-central1/models/model_03_03a', explanations=None)"
      ]
     },
     "execution_count": 77,
     "metadata": {},
     "output_type": "execute_result"
    }
   ],
   "source": [
    "endpoint.predict(instances = newobs[0:1])"
   ]
  },
  {
   "cell_type": "code",
   "execution_count": 79,
   "id": "1627930c-989f-43e6-ac55-b716895ef6e8",
   "metadata": {},
   "outputs": [
    {
     "data": {
      "text/plain": [
       "{'instances': [{'Time': 35337,\n",
       "   'V1': 1.0928441854981998,\n",
       "   'V2': -0.0132303486713432,\n",
       "   'V3': 1.35982868199426,\n",
       "   'V4': 2.7315370965921004,\n",
       "   'V5': -0.707357349219652,\n",
       "   'V6': 0.8738370029866129,\n",
       "   'V7': -0.7961301510622031,\n",
       "   'V8': 0.437706509544851,\n",
       "   'V9': 0.39676985012996396,\n",
       "   'V10': 0.587438102569443,\n",
       "   'V11': -0.14979756231827498,\n",
       "   'V12': 0.29514781622888103,\n",
       "   'V13': -1.30382621882143,\n",
       "   'V14': -0.31782283120234495,\n",
       "   'V15': -2.03673231037199,\n",
       "   'V16': 0.376090905274179,\n",
       "   'V17': -0.30040350116459497,\n",
       "   'V18': 0.433799615590844,\n",
       "   'V19': -0.145082264348681,\n",
       "   'V20': -0.240427548108996,\n",
       "   'V21': 0.0376030733329398,\n",
       "   'V22': 0.38002620963091405,\n",
       "   'V23': -0.16764742731151097,\n",
       "   'V24': 0.0275573495476881,\n",
       "   'V25': 0.59211469704354,\n",
       "   'V26': 0.219695164116351,\n",
       "   'V27': 0.0369695108704894,\n",
       "   'V28': 0.010984441006191,\n",
       "   'Amount': 0.0}]}"
      ]
     },
     "execution_count": 79,
     "metadata": {},
     "output_type": "execute_result"
    }
   ],
   "source": [
    "{'instances': newobs[0:1]}"
   ]
  },
  {
   "cell_type": "code",
   "execution_count": 101,
   "id": "d00fd413-fe48-4464-96eb-b0ed75cd758d",
   "metadata": {},
   "outputs": [
    {
     "data": {
      "text/plain": [
       "'{\"instances\": [{\"Time\": 35337, \"V1\": 1.0928441854981998, \"V2\": -0.0132303486713432, \"V3\": 1.35982868199426, \"V4\": 2.7315370965921004, \"V5\": -0.707357349219652, \"V6\": 0.8738370029866129, \"V7\": -0.7961301510622031, \"V8\": 0.437706509544851, \"V9\": 0.39676985012996396, \"V10\": 0.587438102569443, \"V11\": -0.14979756231827498, \"V12\": 0.29514781622888103, \"V13\": -1.30382621882143, \"V14\": -0.31782283120234495, \"V15\": -2.03673231037199, \"V16\": 0.376090905274179, \"V17\": -0.30040350116459497, \"V18\": 0.433799615590844, \"V19\": -0.145082264348681, \"V20\": -0.240427548108996, \"V21\": 0.0376030733329398, \"V22\": 0.38002620963091405, \"V23\": -0.16764742731151097, \"V24\": 0.0275573495476881, \"V25\": 0.59211469704354, \"V26\": 0.219695164116351, \"V27\": 0.0369695108704894, \"V28\": 0.010984441006191, \"Amount\": 0.0}]}'"
      ]
     },
     "execution_count": 101,
     "metadata": {},
     "output_type": "execute_result"
    }
   ],
   "source": [
    "payload = json.dumps({'instances': newobs[0:1]})\n",
    "payload"
   ]
  },
  {
   "cell_type": "code",
   "execution_count": null,
   "id": "f26ccd76-b617-4149-a2a7-45a34012c9ee",
   "metadata": {},
   "outputs": [],
   "source": []
  },
  {
   "cell_type": "code",
   "execution_count": 121,
   "id": "5455f44c-2385-4f0b-8ab1-c79fac6c36c8",
   "metadata": {},
   "outputs": [],
   "source": [
    "with open(f'request.json','w') as file:\n",
    "    file.write(json.dumps({'instances': newobs[0:1]}))"
   ]
  },
  {
   "cell_type": "code",
   "execution_count": 123,
   "id": "69eab4a3-be78-4522-acaf-140bdceddda3",
   "metadata": {},
   "outputs": [
    {
     "name": "stdout",
     "output_type": "stream",
     "text": [
      "{\n",
      "  \"predictions\": [\n",
      "    {\n",
      "      \"predicted_Class\": [\n",
      "        \"0\"\n",
      "      ],\n",
      "      \"Class_values\": [\n",
      "        \"1\",\n",
      "        \"0\"\n",
      "      ],\n",
      "      \"Class_probs\": [\n",
      "        0.23520476382468469,\n",
      "        0.76479523617531531\n",
      "      ]\n",
      "    }\n",
      "  ],\n",
      "  \"deployedModelId\": \"5304461906809978880\",\n",
      "  \"model\": \"projects/1026793852137/locations/us-central1/models/model_03_03a\",\n",
      "  \"modelDisplayName\": \"03_03a\",\n",
      "  \"modelVersionId\": \"3\"\n",
      "}\n"
     ]
    }
   ],
   "source": [
    "!curl -X POST \\\n",
    "-H \"Authorization: Bearer \"$(gcloud auth application-default print-access-token) \\\n",
    "-H \"Content-Type: application/json; charset=utf-8\" \\\n",
    "-d @request.json \\\n",
    "https://{REGION}-aiplatform.googleapis.com/v1/{endpoint.resource_name}:predict"
   ]
  },
  {
   "cell_type": "code",
   "execution_count": null,
   "id": "c61e717f-77fa-4655-8831-41bfc6245d75",
   "metadata": {},
   "outputs": [],
   "source": [
    "-d '{\"instances\": [{\"Time\": 35337, \"V1\": 1.0928441854981998, \"V2\": -0.0132303486713432, \"V3\": 1.35982868199426, \"V4\": 2.7315370965921004, \"V5\": -0.707357349219652, \"V6\": 0.8738370029866129, \"V7\": -0.7961301510622031, \"V8\": 0.437706509544851, \"V9\": 0.39676985012996396, \"V10\": 0.587438102569443, \"V11\": -0.14979756231827498, \"V12\": 0.29514781622888103, \"V13\": -1.30382621882143, \"V14\": -0.31782283120234495, \"V15\": -2.03673231037199, \"V16\": 0.376090905274179, \"V17\": -0.30040350116459497, \"V18\": 0.433799615590844, \"V19\": -0.145082264348681, \"V20\": -0.240427548108996, \"V21\": 0.0376030733329398, \"V22\": 0.38002620963091405, \"V23\": -0.16764742731151097, \"V24\": 0.0275573495476881, \"V25\": 0.59211469704354, \"V26\": 0.219695164116351, \"V27\": 0.0369695108704894, \"V28\": 0.010984441006191, \"Amount\": 0.0}]}'"
   ]
  },
  {
   "cell_type": "code",
   "execution_count": null,
   "id": "1b541c42-541e-438d-b853-95c47a0893e9",
   "metadata": {},
   "outputs": [],
   "source": []
  },
  {
   "cell_type": "code",
   "execution_count": null,
   "id": "58ad7b51-41a7-46c4-bc9a-17e5bf3eb28f",
   "metadata": {},
   "outputs": [],
   "source": [
    "-d \"{'instances': [{ 'f1': 1.0, 'f2': 5.0 }, {'f1':10.0, 'f2': 2.0}]}\""
   ]
  },
  {
   "cell_type": "code",
   "execution_count": null,
   "id": "27d0edf3-5373-4d70-b9ef-5c88fc050f41",
   "metadata": {},
   "outputs": [],
   "source": [
    "prediction = !curl -s POST \\\n",
    "-H \"Authorization: Bearer \"$(gcloud auth application-default print-access-token) \\\n",
    "-H \"Content-Type: application/json; charset=utf-8\" \\\n",
    "-d @{DIR}/request.json \\\n",
    "https://{REGION}-aiplatform.googleapis.com/v1/{endpoint.resource_name}:predict\n",
    "\n",
    "prediction"
   ]
  },
  {
   "cell_type": "code",
   "execution_count": null,
   "id": "32704a7e-2132-4959-a0e3-f91655b54147",
   "metadata": {},
   "outputs": [],
   "source": [
    "{\"instances\": [{\"Time\": 35337, \"V1\": 1.0928441854981998, \"V2\": -0.0132303486713432, \"V3\": 1.35982868199426, \"V4\": 2.7315370965921004, \"V5\": -0.707357349219652, \"V6\": 0.8738370029866129, \"V7\": -0.7961301510622031, \"V8\": 0.437706509544851, \"V9\": 0.39676985012996396, \"V10\": 0.587438102569443, \"V11\": -0.14979756231827498, \"V12\": 0.29514781622888103, \"V13\": -1.30382621882143, \"V14\": -0.31782283120234495, \"V15\": -2.03673231037199, \"V16\": 0.376090905274179, \"V17\": -0.30040350116459497, \"V18\": 0.433799615590844, \"V19\": -0.145082264348681, \"V20\": -0.240427548108996, \"V21\": 0.0376030733329398, \"V22\": 0.38002620963091405, \"V23\": -0.16764742731151097, \"V24\": 0.0275573495476881, \"V25\": 0.59211469704354, \"V26\": 0.219695164116351, \"V27\": 0.0369695108704894, \"V28\": 0.010984441006191, \"Amount\": 0.0}], \"signature_name\": \"serving_default\"}"
   ]
  },
  {
   "cell_type": "code",
   "execution_count": 63,
   "id": "aad6d5e1-8309-40bb-bf68-d9c405434f22",
   "metadata": {},
   "outputs": [
    {
     "data": {
      "text/plain": [
       "'projects/1026793852137/locations/us-central1/endpoints/4867252103141130240'"
      ]
     },
     "execution_count": 63,
     "metadata": {},
     "output_type": "execute_result"
    }
   ],
   "source": [
    "endpoint.resource_name"
   ]
  },
  {
   "cell_type": "code",
   "execution_count": null,
   "id": "c8de67c5-1e69-444b-a511-3e5b7bec675a",
   "metadata": {},
   "outputs": [],
   "source": [
    "'projects/1026793852137/locations/us-central1/endpoints/4867252103141130240'"
   ]
  }
 ],
 "metadata": {
  "environment": {
   "kernel": "python3",
   "name": "tf2-gpu.2-3.m94",
   "type": "gcloud",
   "uri": "gcr.io/deeplearning-platform-release/tf2-gpu.2-3:m94"
  },
  "kernelspec": {
   "display_name": "Python 3",
   "language": "python",
   "name": "python3"
  },
  "language_info": {
   "codemirror_mode": {
    "name": "ipython",
    "version": 3
   },
   "file_extension": ".py",
   "mimetype": "text/x-python",
   "name": "python",
   "nbconvert_exporter": "python",
   "pygments_lexer": "ipython3",
   "version": "3.7.12"
  }
 },
 "nbformat": 4,
 "nbformat_minor": 5
}
