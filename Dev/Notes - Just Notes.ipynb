{
 "cells": [
  {
   "cell_type": "markdown",
   "id": "8982b550",
   "metadata": {},
   "source": [
    "# Notes:"
   ]
  },
  {
   "cell_type": "markdown",
   "id": "077f4867",
   "metadata": {},
   "source": [
    "---\n",
    "## Create json file for predictions:"
   ]
  },
  {
   "cell_type": "code",
   "execution_count": null,
   "id": "f80f67f7",
   "metadata": {},
   "outputs": [],
   "source": [
    "%%bigquery pred\n",
    "SELECT *\n",
    "FROM ML.PREDICT(MODEL `statmike-mlops.digits.digits_lr`,(\n",
    "    SELECT *\n",
    "    FROM `statmike-mlops.digits.digits_prepped`)\n",
    "  )"
   ]
  },
  {
   "cell_type": "code",
   "execution_count": null,
   "id": "142983c2",
   "metadata": {},
   "outputs": [],
   "source": [
    "newob = pred.loc[:0,'p0':'p63'].to_dict(orient='records')\n",
    "newob = {'instances':newob}\n",
    "newob"
   ]
  },
  {
   "cell_type": "code",
   "execution_count": null,
   "id": "93a5ec2e",
   "metadata": {},
   "outputs": [],
   "source": [
    "import json\n",
    "with open('newob.json','w') as f:\n",
    "    json.dump(newob,f)"
   ]
  },
  {
   "cell_type": "markdown",
   "id": "66143b1c",
   "metadata": {},
   "source": [
    "---\n",
    "### KFP Example\n",
    "\n",
    "https://cloud.google.com/vertex-ai/docs/pipelines/build-pipeline#google-cloud-components\n",
    "\n",
    "https://github.com/kubeflow/pipelines/tree/master/components/google-cloud\n",
    "\n",
    "https://codelabs.developers.google.com/vertex-pipelines-intro#4"
   ]
  },
  {
   "cell_type": "code",
   "execution_count": 1,
   "id": "59b30a8b",
   "metadata": {},
   "outputs": [],
   "source": [
    "from google.cloud import aiplatform\n",
    "from datetime import datetime\n",
    "import kfp\n",
    "import kfp.v2.dsl as dsl\n",
    "from google_cloud_pipeline_components import aiplatform as gcc_aip"
   ]
  },
  {
   "cell_type": "code",
   "execution_count": 43,
   "id": "b472bcb3",
   "metadata": {},
   "outputs": [],
   "source": [
    "# Locations\n",
    "REGION = 'us-central1'\n",
    "PROJECT_ID='statmike-mlops'\n",
    "BUCKET_NAME='gs://{}/digits/model/02c_automl'.format(PROJECT_ID)\n",
    "TIMESTAMP = datetime.now().strftime(\"%Y%m%d%H%M%S\")\n",
    "EXPERIMENT_NAME = '02C_AUTOML'\n",
    "JOB_NAME = EXPERIMENT_NAME+'_'+TIMESTAMP\n",
    "MODEL_DIR = '{}/{}'.format(BUCKET_NAME, JOB_NAME)\n",
    "PIPELINE_ROOT = f\"{MODEL_DIR}/pipeline_root/\"\n",
    "PARENT = \"projects/\" + PROJECT_ID + \"/locations/\" + REGION\n",
    "\n",
    "# files\n",
    "PACKAGE = EXPERIMENT_NAME"
   ]
  },
  {
   "cell_type": "markdown",
   "id": "22a7cf6e",
   "metadata": {},
   "source": [
    "Give service account roles/storage.objectAdmin permissions: Console > IAM > Select account projectnumber-compute@developer.gserviceaccount.com > edit - give it the role"
   ]
  },
  {
   "cell_type": "code",
   "execution_count": 38,
   "id": "1e1b9073",
   "metadata": {},
   "outputs": [
    {
     "data": {
      "text/plain": [
       "'691911073727-compute@developer.gserviceaccount.com'"
      ]
     },
     "execution_count": 38,
     "metadata": {},
     "output_type": "execute_result"
    }
   ],
   "source": [
    "SERVICE_ACCOUNT = !gcloud config list --format='value(core.account)' \n",
    "SERVICE_ACCOUNT = SERVICE_ACCOUNT[0]\n",
    "SERVICE_ACCOUNT"
   ]
  },
  {
   "cell_type": "markdown",
   "id": "b4890037",
   "metadata": {},
   "source": [
    "---"
   ]
  },
  {
   "cell_type": "code",
   "execution_count": 9,
   "id": "5623cd6e",
   "metadata": {},
   "outputs": [],
   "source": [
    "aiplatform.init(project=PROJECT_ID, location=REGION)"
   ]
  },
  {
   "cell_type": "code",
   "execution_count": 10,
   "id": "ac7e2df0",
   "metadata": {},
   "outputs": [],
   "source": [
    "!rm -rf {PACKAGE}\n",
    "!mkdir {PACKAGE}"
   ]
  },
  {
   "cell_type": "code",
   "execution_count": 11,
   "id": "6a21a52f",
   "metadata": {},
   "outputs": [],
   "source": [
    "@dsl.component(base_image=\"python:3.9\")\n",
    "def product_name(text: str) -> str:\n",
    "    return text"
   ]
  },
  {
   "cell_type": "code",
   "execution_count": 12,
   "id": "ad6ae10d",
   "metadata": {},
   "outputs": [],
   "source": [
    "from typing import NamedTuple\n",
    "\n",
    "@dsl.component(packages_to_install=[\"emoji\"])\n",
    "def emoji(text: str) -> NamedTuple(\"Outputs\",\n",
    "    [\n",
    "        (\"emoji_text\", str),  # Return parameters\n",
    "        (\"emoji\", str),\n",
    "    ]\n",
    "):\n",
    "    import emoji\n",
    "    emoji_text = text\n",
    "    emoji_str = emoji.emojize(':' + emoji_text + ':', use_aliases=True)\n",
    "    print(\"output one: {}; output_two: {}\".format(emoji_text, emoji_str))\n",
    "    return (emoji_text, emoji_str)"
   ]
  },
  {
   "cell_type": "code",
   "execution_count": 13,
   "id": "cb72c536",
   "metadata": {},
   "outputs": [],
   "source": [
    "@dsl.component\n",
    "def build_sentence(product: str, emoji: str, emojitext: str) -> str:\n",
    "    print(\"We completed the pipeline, hooray!\")\n",
    "    end_str = product + \" is \"\n",
    "    if len(emoji) > 0:\n",
    "        end_str += emoji\n",
    "    else:\n",
    "        end_str += emojitext\n",
    "    return(end_str)"
   ]
  },
  {
   "cell_type": "code",
   "execution_count": 14,
   "id": "bfda3bc4",
   "metadata": {},
   "outputs": [],
   "source": [
    "@kfp.dsl.pipeline(name=\"hello-world\", description=\"An intro pipeline\", pipeline_root=PIPELINE_ROOT)\n",
    "def intro_pipeline(text: str = \"Vertex Pipelines\", emoji_str: str = \"sparkles\"):\n",
    "    product_task = product_name(text)\n",
    "    emoji_task = emoji(emoji_str)\n",
    "    consumer_task = build_sentence(\n",
    "        product_task.output,\n",
    "        emoji_task.outputs[\"emoji\"],\n",
    "        emoji_task.outputs[\"emoji_text\"]\n",
    "    )"
   ]
  },
  {
   "cell_type": "code",
   "execution_count": 15,
   "id": "2b47c1c4",
   "metadata": {},
   "outputs": [],
   "source": [
    "kfp.v2.compiler.Compiler().compile(\n",
    "    pipeline_func=intro_pipeline, package_path=f\"{PACKAGE}/intro_pipeline_job.json\"\n",
    ")"
   ]
  },
  {
   "cell_type": "code",
   "execution_count": 16,
   "id": "bd71de49",
   "metadata": {},
   "outputs": [
    {
     "name": "stdout",
     "output_type": "stream",
     "text": [
      "Copying file://automl_02c/intro_pipeline_job.json [Content-Type=application/json]...\n",
      "/ [1 files][  8.0 KiB/  8.0 KiB]                                                \n",
      "Operation completed over 1 objects/8.0 KiB.                                      \n"
     ]
    }
   ],
   "source": [
    "!gsutil cp {PACKAGE}/*.json $PIPELINE_ROOT"
   ]
  },
  {
   "cell_type": "code",
   "execution_count": 17,
   "id": "50c1d6c3",
   "metadata": {},
   "outputs": [],
   "source": [
    "plJob = aiplatform.PipelineJob(\n",
    "    display_name=JOB_NAME,\n",
    "    template_path=f\"{PIPELINE_ROOT}intro_pipeline_job.json\", #can be gs:, move file there first\n",
    "    pipeline_root=PIPELINE_ROOT\n",
    ")"
   ]
  },
  {
   "cell_type": "code",
   "execution_count": 18,
   "id": "817f3bb4",
   "metadata": {},
   "outputs": [
    {
     "name": "stdout",
     "output_type": "stream",
     "text": [
      "INFO:google.cloud.aiplatform.pipeline_jobs:Creating PipelineJob\n",
      "INFO:google.cloud.aiplatform.pipeline_jobs:PipelineJob created. Resource name: projects/691911073727/locations/us-central1/pipelineJobs/hello-world-20210907225736\n",
      "INFO:google.cloud.aiplatform.pipeline_jobs:To use this PipelineJob in another session:\n",
      "INFO:google.cloud.aiplatform.pipeline_jobs:pipeline_job = aiplatform.PipelineJob.get('projects/691911073727/locations/us-central1/pipelineJobs/hello-world-20210907225736')\n",
      "INFO:google.cloud.aiplatform.pipeline_jobs:View Pipeline Job:\n",
      "https://console.cloud.google.com/vertex-ai/locations/us-central1/pipelines/runs/hello-world-20210907225736?project=691911073727\n",
      "INFO:google.cloud.aiplatform.pipeline_jobs:PipelineJob projects/691911073727/locations/us-central1/pipelineJobs/hello-world-20210907225736 current state:\n",
      "PipelineState.PIPELINE_STATE_RUNNING\n",
      "INFO:google.cloud.aiplatform.pipeline_jobs:PipelineJob projects/691911073727/locations/us-central1/pipelineJobs/hello-world-20210907225736 current state:\n",
      "PipelineState.PIPELINE_STATE_RUNNING\n",
      "INFO:google.cloud.aiplatform.pipeline_jobs:PipelineJob projects/691911073727/locations/us-central1/pipelineJobs/hello-world-20210907225736 current state:\n",
      "PipelineState.PIPELINE_STATE_RUNNING\n",
      "INFO:google.cloud.aiplatform.pipeline_jobs:PipelineJob projects/691911073727/locations/us-central1/pipelineJobs/hello-world-20210907225736 current state:\n",
      "PipelineState.PIPELINE_STATE_RUNNING\n",
      "INFO:google.cloud.aiplatform.pipeline_jobs:PipelineJob projects/691911073727/locations/us-central1/pipelineJobs/hello-world-20210907225736 current state:\n",
      "PipelineState.PIPELINE_STATE_RUNNING\n",
      "INFO:google.cloud.aiplatform.pipeline_jobs:PipelineJob projects/691911073727/locations/us-central1/pipelineJobs/hello-world-20210907225736 current state:\n",
      "PipelineState.PIPELINE_STATE_RUNNING\n",
      "INFO:google.cloud.aiplatform.pipeline_jobs:PipelineJob run completed. Resource name: projects/691911073727/locations/us-central1/pipelineJobs/hello-world-20210907225736\n"
     ]
    }
   ],
   "source": [
    "response = plJob.run(service_account = SERVICE_ACCOUNT)"
   ]
  },
  {
   "cell_type": "markdown",
   "id": "e1740c01",
   "metadata": {},
   "source": [
    "---"
   ]
  },
  {
   "cell_type": "markdown",
   "id": "2f6937a7",
   "metadata": {},
   "source": [
    "# 01 non-SQL versions"
   ]
  },
  {
   "cell_type": "markdown",
   "id": "4f186fa2",
   "metadata": {},
   "source": [
    "---\n",
    "## Create Dataset"
   ]
  },
  {
   "cell_type": "markdown",
   "id": "4bb74413",
   "metadata": {},
   "source": [
    "List BigQuery datasets in the project:"
   ]
  },
  {
   "cell_type": "code",
   "execution_count": 8,
   "id": "90e8f388",
   "metadata": {},
   "outputs": [
    {
     "name": "stdout",
     "output_type": "stream",
     "text": [
      "[]\n"
     ]
    }
   ],
   "source": [
    "datum=[]\n",
    "for ds in list(bq.list_datasets()): datum.append(ds.dataset_id)\n",
    "print(datum)"
   ]
  },
  {
   "cell_type": "markdown",
   "id": "03c78bc0",
   "metadata": {},
   "source": [
    "Create the dataset if missing:"
   ]
  },
  {
   "cell_type": "code",
   "execution_count": 9,
   "id": "e0d461d4",
   "metadata": {},
   "outputs": [],
   "source": [
    "if DATASET_ID not in datum:\n",
    "    dataset = bigquery.Dataset(bigquery.dataset.DatasetReference(PROJECT_ID, DATASET_ID))\n",
    "    dataset.location = REGION\n",
    "    dataset = bq.create_dataset(DATASET_ID)"
   ]
  },
  {
   "cell_type": "code",
   "execution_count": 10,
   "id": "f805086e",
   "metadata": {},
   "outputs": [
    {
     "name": "stdout",
     "output_type": "stream",
     "text": [
      "Dataset(DatasetReference('statmike-mlops', 'digits'))\n"
     ]
    }
   ],
   "source": [
    "print(dataset)"
   ]
  },
  {
   "cell_type": "markdown",
   "id": "3627c7c5",
   "metadata": {},
   "source": [
    "---\n",
    "## Create Table"
   ]
  },
  {
   "cell_type": "markdown",
   "id": "289d2df9",
   "metadata": {},
   "source": [
    "Load data to a table in the dataset:\n",
    "- define job inputs\n",
    "- run load job\n",
    "- review resulting table"
   ]
  },
  {
   "cell_type": "code",
   "execution_count": 12,
   "id": "a5b82fd4",
   "metadata": {},
   "outputs": [
    {
     "name": "stdout",
     "output_type": "stream",
     "text": [
      "Starting job e2a69d0a-bb03-4a88-b8f3-42d2c58a367c\n",
      "Loaded 1797 rows and 66 columns to Table(TableReference(DatasetReference('statmike-mlops', 'digits'), 'digits')).\n"
     ]
    }
   ],
   "source": [
    "dataset_ref = bq.dataset(DATASET_ID)\n",
    "table_ref = dataset_ref.table(TABLE_ID)\n",
    "\n",
    "job_config = bigquery.LoadJobConfig(write_disposition=\"WRITE_TRUNCATE\")\n",
    "job_config.source_format = bigquery.SourceFormat.CSV\n",
    "job_config.autodetect = True\n",
    "\n",
    "job = bq.load_table_from_uri(URI+f'/{DATANAME}.csv', table_ref, job_config=job_config)\n",
    "print(\"Starting job {}\".format(job.job_id))\n",
    "job.result()\n",
    "      \n",
    "bq_table = bq.get_table(table_ref) \n",
    "print(\"Loaded {} rows and {} columns to {}.\".format(bq_table.num_rows,len(bq_table.schema),bq_table))"
   ]
  },
  {
   "cell_type": "markdown",
   "id": "4a47d5ef",
   "metadata": {},
   "source": [
    "Use the BigQuery Jupyter Magic to review a few records:"
   ]
  },
  {
   "cell_type": "code",
   "execution_count": 14,
   "id": "6a32b5e4",
   "metadata": {},
   "outputs": [
    {
     "name": "stderr",
     "output_type": "stream",
     "text": [
      "Query complete after 0.00s: 100%|██████████| 1/1 [00:00<00:00, 511.06query/s]                          \n",
      "Downloading: 100%|██████████| 5/5 [00:00<00:00,  6.23rows/s]\n"
     ]
    },
    {
     "data": {
      "text/html": [
       "<div>\n",
       "<style scoped>\n",
       "    .dataframe tbody tr th:only-of-type {\n",
       "        vertical-align: middle;\n",
       "    }\n",
       "\n",
       "    .dataframe tbody tr th {\n",
       "        vertical-align: top;\n",
       "    }\n",
       "\n",
       "    .dataframe thead th {\n",
       "        text-align: right;\n",
       "    }\n",
       "</style>\n",
       "<table border=\"1\" class=\"dataframe\">\n",
       "  <thead>\n",
       "    <tr style=\"text-align: right;\">\n",
       "      <th></th>\n",
       "      <th>p0</th>\n",
       "      <th>p1</th>\n",
       "      <th>p2</th>\n",
       "      <th>p3</th>\n",
       "      <th>p4</th>\n",
       "      <th>p5</th>\n",
       "      <th>p6</th>\n",
       "      <th>p7</th>\n",
       "      <th>p8</th>\n",
       "      <th>p9</th>\n",
       "      <th>...</th>\n",
       "      <th>p56</th>\n",
       "      <th>p57</th>\n",
       "      <th>p58</th>\n",
       "      <th>p59</th>\n",
       "      <th>p60</th>\n",
       "      <th>p61</th>\n",
       "      <th>p62</th>\n",
       "      <th>p63</th>\n",
       "      <th>target</th>\n",
       "      <th>target_OE</th>\n",
       "    </tr>\n",
       "  </thead>\n",
       "  <tbody>\n",
       "    <tr>\n",
       "      <th>0</th>\n",
       "      <td>0.0</td>\n",
       "      <td>5.0</td>\n",
       "      <td>16.0</td>\n",
       "      <td>15.0</td>\n",
       "      <td>5.0</td>\n",
       "      <td>0.0</td>\n",
       "      <td>0.0</td>\n",
       "      <td>0.0</td>\n",
       "      <td>0.0</td>\n",
       "      <td>2.0</td>\n",
       "      <td>...</td>\n",
       "      <td>0.0</td>\n",
       "      <td>6.0</td>\n",
       "      <td>16.0</td>\n",
       "      <td>16.0</td>\n",
       "      <td>16.0</td>\n",
       "      <td>16.0</td>\n",
       "      <td>7.0</td>\n",
       "      <td>0.0</td>\n",
       "      <td>2</td>\n",
       "      <td>Even</td>\n",
       "    </tr>\n",
       "    <tr>\n",
       "      <th>1</th>\n",
       "      <td>0.0</td>\n",
       "      <td>5.0</td>\n",
       "      <td>16.0</td>\n",
       "      <td>12.0</td>\n",
       "      <td>1.0</td>\n",
       "      <td>0.0</td>\n",
       "      <td>0.0</td>\n",
       "      <td>0.0</td>\n",
       "      <td>0.0</td>\n",
       "      <td>5.0</td>\n",
       "      <td>...</td>\n",
       "      <td>0.0</td>\n",
       "      <td>8.0</td>\n",
       "      <td>16.0</td>\n",
       "      <td>16.0</td>\n",
       "      <td>16.0</td>\n",
       "      <td>16.0</td>\n",
       "      <td>4.0</td>\n",
       "      <td>0.0</td>\n",
       "      <td>2</td>\n",
       "      <td>Even</td>\n",
       "    </tr>\n",
       "    <tr>\n",
       "      <th>2</th>\n",
       "      <td>0.0</td>\n",
       "      <td>5.0</td>\n",
       "      <td>15.0</td>\n",
       "      <td>16.0</td>\n",
       "      <td>6.0</td>\n",
       "      <td>0.0</td>\n",
       "      <td>0.0</td>\n",
       "      <td>0.0</td>\n",
       "      <td>0.0</td>\n",
       "      <td>11.0</td>\n",
       "      <td>...</td>\n",
       "      <td>0.0</td>\n",
       "      <td>6.0</td>\n",
       "      <td>16.0</td>\n",
       "      <td>16.0</td>\n",
       "      <td>16.0</td>\n",
       "      <td>13.0</td>\n",
       "      <td>3.0</td>\n",
       "      <td>0.0</td>\n",
       "      <td>2</td>\n",
       "      <td>Even</td>\n",
       "    </tr>\n",
       "    <tr>\n",
       "      <th>3</th>\n",
       "      <td>0.0</td>\n",
       "      <td>4.0</td>\n",
       "      <td>15.0</td>\n",
       "      <td>15.0</td>\n",
       "      <td>8.0</td>\n",
       "      <td>0.0</td>\n",
       "      <td>0.0</td>\n",
       "      <td>0.0</td>\n",
       "      <td>0.0</td>\n",
       "      <td>8.0</td>\n",
       "      <td>...</td>\n",
       "      <td>0.0</td>\n",
       "      <td>7.0</td>\n",
       "      <td>14.0</td>\n",
       "      <td>11.0</td>\n",
       "      <td>0.0</td>\n",
       "      <td>0.0</td>\n",
       "      <td>0.0</td>\n",
       "      <td>0.0</td>\n",
       "      <td>2</td>\n",
       "      <td>Even</td>\n",
       "    </tr>\n",
       "    <tr>\n",
       "      <th>4</th>\n",
       "      <td>0.0</td>\n",
       "      <td>6.0</td>\n",
       "      <td>16.0</td>\n",
       "      <td>16.0</td>\n",
       "      <td>16.0</td>\n",
       "      <td>15.0</td>\n",
       "      <td>10.0</td>\n",
       "      <td>0.0</td>\n",
       "      <td>0.0</td>\n",
       "      <td>9.0</td>\n",
       "      <td>...</td>\n",
       "      <td>0.0</td>\n",
       "      <td>9.0</td>\n",
       "      <td>16.0</td>\n",
       "      <td>11.0</td>\n",
       "      <td>0.0</td>\n",
       "      <td>0.0</td>\n",
       "      <td>0.0</td>\n",
       "      <td>0.0</td>\n",
       "      <td>5</td>\n",
       "      <td>Odd</td>\n",
       "    </tr>\n",
       "  </tbody>\n",
       "</table>\n",
       "<p>5 rows × 66 columns</p>\n",
       "</div>"
      ],
      "text/plain": [
       "    p0   p1    p2    p3    p4    p5    p6   p7   p8    p9  ...  p56  p57  \\\n",
       "0  0.0  5.0  16.0  15.0   5.0   0.0   0.0  0.0  0.0   2.0  ...  0.0  6.0   \n",
       "1  0.0  5.0  16.0  12.0   1.0   0.0   0.0  0.0  0.0   5.0  ...  0.0  8.0   \n",
       "2  0.0  5.0  15.0  16.0   6.0   0.0   0.0  0.0  0.0  11.0  ...  0.0  6.0   \n",
       "3  0.0  4.0  15.0  15.0   8.0   0.0   0.0  0.0  0.0   8.0  ...  0.0  7.0   \n",
       "4  0.0  6.0  16.0  16.0  16.0  15.0  10.0  0.0  0.0   9.0  ...  0.0  9.0   \n",
       "\n",
       "    p58   p59   p60   p61  p62  p63  target  target_OE  \n",
       "0  16.0  16.0  16.0  16.0  7.0  0.0       2       Even  \n",
       "1  16.0  16.0  16.0  16.0  4.0  0.0       2       Even  \n",
       "2  16.0  16.0  16.0  13.0  3.0  0.0       2       Even  \n",
       "3  14.0  11.0   0.0   0.0  0.0  0.0       2       Even  \n",
       "4  16.0  11.0   0.0   0.0  0.0  0.0       5        Odd  \n",
       "\n",
       "[5 rows x 66 columns]"
      ]
     },
     "execution_count": 14,
     "metadata": {},
     "output_type": "execute_result"
    }
   ],
   "source": [
    "%%bigquery\n",
    "SELECT * FROM `digits.digits` LIMIT 5"
   ]
  },
  {
   "cell_type": "code",
   "execution_count": null,
   "id": "13c73822",
   "metadata": {},
   "outputs": [],
   "source": []
  }
 ],
 "metadata": {
  "environment": {
   "name": "tf2-gpu.2-3.m79",
   "type": "gcloud",
   "uri": "gcr.io/deeplearning-platform-release/tf2-gpu.2-3:m79"
  },
  "kernelspec": {
   "display_name": "Python 3",
   "language": "python",
   "name": "python3"
  },
  "language_info": {
   "codemirror_mode": {
    "name": "ipython",
    "version": 3
   },
   "file_extension": ".py",
   "mimetype": "text/x-python",
   "name": "python",
   "nbconvert_exporter": "python",
   "pygments_lexer": "ipython3",
   "version": "3.7.10"
  }
 },
 "nbformat": 4,
 "nbformat_minor": 5
}
