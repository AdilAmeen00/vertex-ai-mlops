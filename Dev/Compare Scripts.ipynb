{
 "cells": [
  {
   "cell_type": "markdown",
   "id": "c1d71b23-a34a-4a44-b07d-e7cb3ba12faf",
   "metadata": {},
   "source": [
    "# Compare scripts across 05 series"
   ]
  },
  {
   "cell_type": "code",
   "execution_count": 1,
   "id": "96c84643-91e0-4f15-8e50-19ec603ce35b",
   "metadata": {},
   "outputs": [],
   "source": [
    "# compare a, b, c, d, e, f, g, h"
   ]
  },
  {
   "cell_type": "code",
   "execution_count": 5,
   "id": "6aecdff0-2281-457f-9c08-1ab9989d9ac1",
   "metadata": {},
   "outputs": [],
   "source": [
    "import difflib\n",
    "#import sys\n",
    "\n",
    "def compfiles(f1, f2):\n",
    "    f1 = '../'+f1\n",
    "    f2 = '../'+f2\n",
    "    with open(f1, 'r') as file1:\n",
    "        with open(f2, 'r') as file2:\n",
    "            diff = difflib.unified_diff(\n",
    "                file1.readlines(),\n",
    "                file2.readlines(),\n",
    "                fromfile=f1.split('/')[1],\n",
    "                tofile=f2.split('/')[1],\n",
    "            )\n",
    "            for line in diff:\n",
    "                #sys.stdout.write(line)\n",
    "                print(line)"
   ]
  },
  {
   "cell_type": "code",
   "execution_count": 6,
   "id": "36f52e98-56ea-4299-af80-a6c044f733a2",
   "metadata": {},
   "outputs": [],
   "source": [
    "a = \"temp/05a/train.py\"\n",
    "b = \"temp/05b/source/trainer/train.py\"\n",
    "c = \"temp/05c/source/trainer/train.py\"\n",
    "d = \"temp/05d/train.py\"\n",
    "e = \"temp/05e/source/trainer/train.py\"\n",
    "f = \"temp/05f/source/trainer/train.py\"\n",
    "g = \"temp/05g/train.py\"\n"
   ]
  },
  {
   "cell_type": "code",
   "execution_count": 8,
   "id": "2d28dba8-eac9-4004-968d-b3bb16c58efa",
   "metadata": {},
   "outputs": [],
   "source": [
    "compfiles(a,f)"
   ]
  },
  {
   "cell_type": "code",
   "execution_count": null,
   "id": "2fb1a3cf-4985-4e3d-8496-dee56cf354b9",
   "metadata": {},
   "outputs": [],
   "source": []
  },
  {
   "cell_type": "code",
   "execution_count": null,
   "id": "670c3dee-891c-4380-b6c6-3e5d439574af",
   "metadata": {},
   "outputs": [],
   "source": []
  }
 ],
 "metadata": {
  "environment": {
   "kernel": "python3",
   "name": "tf2-gpu.2-3.m94",
   "type": "gcloud",
   "uri": "gcr.io/deeplearning-platform-release/tf2-gpu.2-3:m94"
  },
  "kernelspec": {
   "display_name": "Python 3",
   "language": "python",
   "name": "python3"
  },
  "language_info": {
   "codemirror_mode": {
    "name": "ipython",
    "version": 3
   },
   "file_extension": ".py",
   "mimetype": "text/x-python",
   "name": "python",
   "nbconvert_exporter": "python",
   "pygments_lexer": "ipython3",
   "version": "3.7.12"
  }
 },
 "nbformat": 4,
 "nbformat_minor": 5
}
