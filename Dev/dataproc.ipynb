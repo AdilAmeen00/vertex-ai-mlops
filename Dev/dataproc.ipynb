{
 "cells": [
  {
   "cell_type": "markdown",
   "id": "de213ad6-b078-441a-9a54-8325a3b9fead",
   "metadata": {},
   "source": [
    "# Dataproc Spark Job\n",
    "- Dataproc Cluster\n",
    "- Job with BQ data\n",
    "- Delete Dataproc Cluster\n",
    "\n",
    "API Reference: https://googleapis.dev/python/dataproc/0.7.0/gapic/v1/api.html"
   ]
  },
  {
   "cell_type": "markdown",
   "id": "5ae060b7-d4e5-444d-9f37-c5a14590756b",
   "metadata": {},
   "source": [
    "## Setup"
   ]
  },
  {
   "cell_type": "markdown",
   "id": "72a9677d-9213-422f-ac7d-f47ebacd690b",
   "metadata": {},
   "source": [
    "inputs:"
   ]
  },
  {
   "cell_type": "code",
   "execution_count": 29,
   "id": "6c09987d-4e28-4e8c-958d-f94e17945c97",
   "metadata": {},
   "outputs": [],
   "source": [
    "REGION = 'us-central1'\n",
    "PROJECT_ID='statmike-mlops'\n",
    "DATANAME = 'fraud'\n",
    "NOTEBOOK = 'dataproc'\n",
    "\n",
    "DATAPROC_COMPUTE = \"n1-standard-4\"\n",
    "DATAPROC_MAIN_INSTANCES = 1\n",
    "DATAPROC_WORK_INSTANCES = 4"
   ]
  },
  {
   "cell_type": "markdown",
   "id": "619febb2-e2b4-40d9-846e-6d71b4aaf273",
   "metadata": {},
   "source": [
    "packages:"
   ]
  },
  {
   "cell_type": "code",
   "execution_count": 30,
   "id": "9c8b0c79-2668-49aa-8ca1-c2f943ff4140",
   "metadata": {},
   "outputs": [],
   "source": [
    "from google.cloud import dataproc_v1\n",
    "from datetime import datetime"
   ]
  },
  {
   "cell_type": "markdown",
   "id": "0341a755-9b3d-496f-a0ba-9bb296fe34bc",
   "metadata": {},
   "source": [
    "clients:"
   ]
  },
  {
   "cell_type": "code",
   "execution_count": 31,
   "id": "b817d332-40c5-4336-8895-85760b4da0ec",
   "metadata": {},
   "outputs": [],
   "source": [
    "client_options = {\"api_endpoint\": f\"{REGION}-dataproc.googleapis.com:443\"}\n",
    "clients = {}"
   ]
  },
  {
   "cell_type": "code",
   "execution_count": 41,
   "id": "3b0d7a50-5e65-429e-8b8d-78228aba232b",
   "metadata": {},
   "outputs": [],
   "source": [
    "clients['cluster'] = dataproc_v1.ClusterControllerClient(client_options = client_options)\n",
    "clients['job'] = dataproc_v1.JobControllerClient(client_options = client_options)"
   ]
  },
  {
   "cell_type": "markdown",
   "id": "bd0855e5-9e91-44da-9452-6de8e888ab85",
   "metadata": {},
   "source": [
    "parameters:"
   ]
  },
  {
   "cell_type": "code",
   "execution_count": 33,
   "id": "020d0e09-1d61-470d-b952-344ee553d256",
   "metadata": {},
   "outputs": [],
   "source": [
    "TIMESTAMP = datetime.now().strftime(\"%Y%m%d%H%M%S\")\n",
    "BUCKET = PROJECT_ID\n",
    "URI = f\"gs://{BUCKET}/{DATANAME}/models/{NOTEBOOK}\"\n",
    "DIR = f\"temp/{NOTEBOOK}\""
   ]
  },
  {
   "cell_type": "markdown",
   "id": "8e83ab29-df43-4713-a258-22ce54dfbd2a",
   "metadata": {},
   "source": [
    "environment:"
   ]
  },
  {
   "cell_type": "code",
   "execution_count": 34,
   "id": "362f7151-8174-4c2e-81f7-9b9fa9eeee91",
   "metadata": {},
   "outputs": [
    {
     "name": "stdout",
     "output_type": "stream",
     "text": [
      "E1004 08:58:28.045879212     133 backup_poller.cc:133]       Run client channel backup poller: {\"created\":\"@1633337908.045714837\",\"description\":\"pollset_work\",\"file\":\"src/core/lib/iomgr/ev_epollex_linux.cc\",\"file_line\":321,\"referenced_errors\":[{\"created\":\"@1633337908.045707029\",\"description\":\"Bad file descriptor\",\"errno\":9,\"file\":\"src/core/lib/iomgr/ev_epollex_linux.cc\",\"file_line\":957,\"os_error\":\"Bad file descriptor\",\"syscall\":\"epoll_wait\"}]}\n"
     ]
    }
   ],
   "source": [
    "!rm -rf {DIR}\n",
    "!mkdir -p {DIR}"
   ]
  },
  {
   "cell_type": "markdown",
   "id": "c27bdad4-87ab-4676-948c-50bcbee8e5e5",
   "metadata": {},
   "source": [
    "## Create Cluster\n",
    "https://cloud.google.com/dataproc/docs/guides/create-cluster"
   ]
  },
  {
   "cell_type": "code",
   "execution_count": 36,
   "id": "cda13ab0-6a55-409f-860d-42e3694ca0d9",
   "metadata": {},
   "outputs": [],
   "source": [
    "cluster_specs = {\n",
    "\t\"project_id\": PROJECT_ID,\n",
    "    \"cluster_name\": DATANAME,\n",
    "    \"config\": {\n",
    "    \t\"master_config\": {\"num_instances\": DATAPROC_MAIN_INSTANCES, \"machine_type_uri\": DATAPROC_COMPUTE},\n",
    "    \t\"worker_config\": {\"num_instances\": DATAPROC_WORK_INSTANCES, \"machine_type_uri\": DATAPROC_COMPUTE}\n",
    "    }\n",
    "}"
   ]
  },
  {
   "cell_type": "code",
   "execution_count": 37,
   "id": "50fcb6e3-4a1d-451f-860d-a2a2a1700e82",
   "metadata": {},
   "outputs": [],
   "source": [
    "cluster = clients['cluster'].create_cluster(\n",
    "    request = {\n",
    "        \"project_id\": PROJECT_ID,\n",
    "        \"region\": REGION,\n",
    "        \"cluster\": cluster_specs\n",
    "\t}\n",
    ")"
   ]
  },
  {
   "cell_type": "code",
   "execution_count": 38,
   "id": "a2c137d0-c51c-47fb-890b-bae5cb5cac1c",
   "metadata": {},
   "outputs": [
    {
     "data": {
      "text/plain": [
       "'fraud'"
      ]
     },
     "execution_count": 38,
     "metadata": {},
     "output_type": "execute_result"
    }
   ],
   "source": [
    "cluster.result().cluster_name"
   ]
  },
  {
   "cell_type": "markdown",
   "id": "5e64423b-36a3-4f16-875c-229b9c88f087",
   "metadata": {},
   "source": [
    "## Define Job"
   ]
  },
  {
   "cell_type": "code",
   "execution_count": null,
   "id": "beb6da42-a197-48c9-a69f-2645f7489c8d",
   "metadata": {},
   "outputs": [],
   "source": [
    "%%writefile {DIR}/train.py\n"
   ]
  },
  {
   "cell_type": "code",
   "execution_count": null,
   "id": "01d92221-13a9-4d1d-92be-e09a00c7061c",
   "metadata": {},
   "outputs": [],
   "source": [
    "!gsutil cp {DIR}/train.py {URI}/{TIMESTAMP}/train.py"
   ]
  },
  {
   "cell_type": "code",
   "execution_count": null,
   "id": "fbd7bc38-b8e2-45be-8a52-c54c52a9f940",
   "metadata": {},
   "outputs": [],
   "source": []
  },
  {
   "cell_type": "markdown",
   "id": "dfe55298-408c-4d9d-803a-14b249d8bae7",
   "metadata": {},
   "source": [
    "## Submit Job"
   ]
  },
  {
   "cell_type": "code",
   "execution_count": null,
   "id": "926962cd-ddd6-4446-843a-a34381ccefd1",
   "metadata": {},
   "outputs": [],
   "source": [
    "job_specs = {\n",
    "\t\"placement\": {\"cluster_name\": DATANAME},\n",
    "    \"spark_job\": {\n",
    "    \t\"main_class\": \"\",\n",
    "        \"jar_file_uris\": [],\n",
    "        \"args\": []\n",
    "    }\n",
    "}"
   ]
  },
  {
   "cell_type": "code",
   "execution_count": null,
   "id": "19befe09-675f-4687-9ce3-63fcd6f54dcf",
   "metadata": {},
   "outputs": [],
   "source": [
    "job = clients['job'].submit_job()"
   ]
  },
  {
   "cell_type": "code",
   "execution_count": null,
   "id": "41c42366-1798-4921-a20e-934fce4349c0",
   "metadata": {},
   "outputs": [],
   "source": [
    "job.reference.job_id"
   ]
  },
  {
   "cell_type": "markdown",
   "id": "4b3a2188-e555-42a2-82b7-14bbfbca4b68",
   "metadata": {},
   "source": []
  },
  {
   "cell_type": "markdown",
   "id": "748db2c2-199e-4be6-b9fa-3b96b45c3908",
   "metadata": {},
   "source": [
    "## Wait On Job"
   ]
  },
  {
   "cell_type": "code",
   "execution_count": null,
   "id": "507dedc9-bd5a-4e58-b084-6229b16c4e7f",
   "metadata": {},
   "outputs": [],
   "source": [
    "white True:\n",
    "    if job.status.State.Name(job.status.state) == \"ERROR\":\n",
    "        raise Exception(job.status.details)\n",
    "    elif job.status.State.Name(job.status.state) == \"DONE\":\n",
    "        print (\"Finished\")\n",
    "        return job"
   ]
  },
  {
   "cell_type": "markdown",
   "id": "c4ee539b-f3b1-469a-927e-5ba87c1bf754",
   "metadata": {},
   "source": [
    "## Delete Cluster\n",
    "https://cloud.google.com/dataproc/docs/guides/manage-cluster#delete_a_cluster"
   ]
  },
  {
   "cell_type": "code",
   "execution_count": 12,
   "id": "9ba85676-ae7e-47be-98ae-20503b366e69",
   "metadata": {},
   "outputs": [],
   "source": [
    "delCluster = clients['cluster'].delete_cluster(\n",
    "    request = {\n",
    "        \"project_id\": PROJECT_ID,\n",
    "        \"region\": REGION,\n",
    "        \"cluster_name\": cluster.result().cluster_name\n",
    "\t}\n",
    ")"
   ]
  },
  {
   "cell_type": "code",
   "execution_count": null,
   "id": "897723f7-2c00-45ff-a082-72b341d79768",
   "metadata": {},
   "outputs": [],
   "source": []
  }
 ],
 "metadata": {
  "environment": {
   "name": "managed-notebooks.m80",
   "type": "gcloud",
   "uri": "gcr.io/deeplearning-platform-release/managed-notebooks:m80"
  },
  "kernelspec": {
   "display_name": "Python (Local)",
   "language": "python",
   "name": "local-base"
  },
  "language_info": {
   "codemirror_mode": {
    "name": "ipython",
    "version": 3
   },
   "file_extension": ".py",
   "mimetype": "text/x-python",
   "name": "python",
   "nbconvert_exporter": "python",
   "pygments_lexer": "ipython3",
   "version": "3.7.10"
  }
 },
 "nbformat": 4,
 "nbformat_minor": 5
}
