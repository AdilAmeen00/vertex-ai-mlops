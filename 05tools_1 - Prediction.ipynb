{
 "cells": [
  {
   "cell_type": "markdown",
   "id": "5530ea8e-0359-4e32-a8f6-8beba4e4ee85",
   "metadata": {},
   "source": [
    "# 05tools_1: Prediction\n",
    "\n",
    "## WORK IN PROGRESS (7/28/2022)\n",
    "Predictions from models created in the 05 series of notebooks.\n",
    "\n",
    "Overview:\n",
    "- Online Predictions With Vertex AI Endpoints\n",
    "    - Python Client\n",
    "    - REST\n",
    "    - Command Line (gcloud)\n",
    "- Online Prediction Loads\n",
    "    - Sychronous\n",
    "    - Asynchronous\n",
    "    - [TODO] Demonstrate Endpoint Scaling with Locust\n",
    "- [TODO] Batch Predictions Jobs With Vertex AI\n",
    "- Batch Predictions in BigQuery\n",
    "- [TODO] Managing Models On Endpoints\n",
    "    - Multiple Models with Traffic Split\n",
    "    - Multiple Models with Deployment Pools\n",
    "    - Custom Endpoints\n",
    "- Local Predictions with TensorFlow ModelServer\n",
    "- [TODO] Custom Serving\n",
    "    - Cloud Run - with cold starting\n"
   ]
  },
  {
   "cell_type": "markdown",
   "id": "7cbc1869-a004-40d7-99fe-8ae68becb8ef",
   "metadata": {},
   "source": [
    "---\n",
    "## Setup"
   ]
  },
  {
   "cell_type": "markdown",
   "id": "c4b93b74-91fd-433b-ac67-b9e6ac5cb140",
   "metadata": {},
   "source": [
    "inputs:"
   ]
  },
  {
   "cell_type": "code",
   "execution_count": null,
   "id": "3d88f310-d3b5-4785-a5e6-ac8cdbcc630d",
   "metadata": {},
   "outputs": [],
   "source": [
    "project = !gcloud config get-value project\n",
    "PROJECT_ID = project[0]\n",
    "PROJECT_ID"
   ]
  },
  {
   "cell_type": "code",
   "execution_count": 770,
   "id": "8457d0e4-ab01-4933-b179-e7505abf0405",
   "metadata": {},
   "outputs": [],
   "source": [
    "REGION = 'us-central1'\n",
    "DATANAME = 'fraud'\n",
    "NOTEBOOK = '05tools_1'\n",
    "SERIES = '05'\n",
    "\n",
    "# Resources\n",
    "DEPLOY_COMPUTE = 'n1-standard-4'\n",
    "DEPLOY_IMAGE='us-docker.pkg.dev/vertex-ai/prediction/tf2-cpu.2-7:latest'\n",
    "\n",
    "# Model Training\n",
    "VAR_TARGET = 'Class'\n",
    "VAR_OMIT = 'transaction_id' # add more variables to the string with space delimiters"
   ]
  },
  {
   "cell_type": "markdown",
   "id": "a0bee74b-cc63-421b-b200-1323c7660c58",
   "metadata": {},
   "source": [
    "packages:"
   ]
  },
  {
   "cell_type": "code",
   "execution_count": 781,
   "id": "7fc761a0-cd7e-4cf8-aebb-281aae0e8ce3",
   "metadata": {},
   "outputs": [],
   "source": [
    "from google.cloud import aiplatform\n",
    "from google.cloud import bigquery\n",
    "\n",
    "import tensorflow as tf\n",
    "\n",
    "from datetime import datetime\n",
    "from google.protobuf import json_format\n",
    "from google.protobuf.struct_pb2 import Value\n",
    "import json\n",
    "import numpy as np\n",
    "\n",
    "import asyncio\n",
    "import time\n",
    "import multiprocessing"
   ]
  },
  {
   "cell_type": "markdown",
   "id": "5e46fb44-b7aa-4b93-89b5-d43749f82440",
   "metadata": {},
   "source": [
    "clients:"
   ]
  },
  {
   "cell_type": "code",
   "execution_count": 338,
   "id": "0ac462e2-2294-4097-8639-c8c4f2920ec7",
   "metadata": {},
   "outputs": [],
   "source": [
    "aiplatform.init(project=PROJECT_ID, location=REGION)\n",
    "bq = bigquery.Client()"
   ]
  },
  {
   "cell_type": "markdown",
   "id": "7849d23b-2b68-40fa-b9cf-3b542cb70b82",
   "metadata": {},
   "source": [
    "parameters:"
   ]
  },
  {
   "cell_type": "code",
   "execution_count": 339,
   "id": "c244567c-b232-4fba-8fca-adb13e66db50",
   "metadata": {},
   "outputs": [],
   "source": [
    "BUCKET = PROJECT_ID\n",
    "DIR = f\"temp/{NOTEBOOK}\""
   ]
  },
  {
   "cell_type": "markdown",
   "id": "051d29e7-4048-4fa8-958b-24335c93a1c6",
   "metadata": {},
   "source": [
    "environment:"
   ]
  },
  {
   "cell_type": "code",
   "execution_count": 340,
   "id": "3dc2d64a-e63f-4b0d-b963-022a67b92f08",
   "metadata": {},
   "outputs": [],
   "source": [
    "!rm -rf {DIR}\n",
    "!mkdir -p {DIR}"
   ]
  },
  {
   "cell_type": "markdown",
   "id": "67a7d5f4-cdd2-4475-bf29-a47cd736de7a",
   "metadata": {},
   "source": [
    "---\n",
    "## Get Endpoint\n",
    "\n",
    "[Endpoint Properties and Methods](https://cloud.google.com/python/docs/reference/aiplatform/latest/google.cloud.aiplatform.Endpoint):\n",
    "\n",
    "```python\n",
    "endpoint\n",
    "endpoint.display_name\n",
    "endpoint.resource_name\n",
    "endpoint.traffic_split\n",
    "endpoint.list_models()\n",
    "```"
   ]
  },
  {
   "cell_type": "code",
   "execution_count": 341,
   "id": "67be4ca9-e393-4b62-b178-ce1b5df1a01f",
   "metadata": {},
   "outputs": [],
   "source": [
    "endpoints = aiplatform.Endpoint.list(filter = f\"display_name={SERIES}_{DATANAME}\")\n",
    "endpoint = endpoints[0]"
   ]
  },
  {
   "cell_type": "markdown",
   "id": "eed300b1-7d58-4b0b-9a69-f32ba918d5ef",
   "metadata": {},
   "source": [
    "---\n",
    "## Retrieve Records For Prediction"
   ]
  },
  {
   "cell_type": "code",
   "execution_count": 342,
   "id": "387789b5-8916-4109-a604-e6f91eb1a57f",
   "metadata": {},
   "outputs": [],
   "source": [
    "n = 1000\n",
    "pred = bq.query(query = f\"SELECT * FROM {DATANAME}.{DATANAME}_prepped WHERE splits='TEST' LIMIT {n}\").to_dataframe()"
   ]
  },
  {
   "cell_type": "code",
   "execution_count": 343,
   "id": "deee9703-813c-45bd-a3e7-ffa2e9a3614e",
   "metadata": {},
   "outputs": [
    {
     "data": {
      "text/html": [
       "<div>\n",
       "<style scoped>\n",
       "    .dataframe tbody tr th:only-of-type {\n",
       "        vertical-align: middle;\n",
       "    }\n",
       "\n",
       "    .dataframe tbody tr th {\n",
       "        vertical-align: top;\n",
       "    }\n",
       "\n",
       "    .dataframe thead th {\n",
       "        text-align: right;\n",
       "    }\n",
       "</style>\n",
       "<table border=\"1\" class=\"dataframe\">\n",
       "  <thead>\n",
       "    <tr style=\"text-align: right;\">\n",
       "      <th></th>\n",
       "      <th>Time</th>\n",
       "      <th>V1</th>\n",
       "      <th>V2</th>\n",
       "      <th>V3</th>\n",
       "      <th>V4</th>\n",
       "      <th>V5</th>\n",
       "      <th>V6</th>\n",
       "      <th>V7</th>\n",
       "      <th>V8</th>\n",
       "      <th>V9</th>\n",
       "      <th>...</th>\n",
       "      <th>V23</th>\n",
       "      <th>V24</th>\n",
       "      <th>V25</th>\n",
       "      <th>V26</th>\n",
       "      <th>V27</th>\n",
       "      <th>V28</th>\n",
       "      <th>Amount</th>\n",
       "      <th>Class</th>\n",
       "      <th>transaction_id</th>\n",
       "      <th>splits</th>\n",
       "    </tr>\n",
       "  </thead>\n",
       "  <tbody>\n",
       "    <tr>\n",
       "      <th>0</th>\n",
       "      <td>32799</td>\n",
       "      <td>1.153477</td>\n",
       "      <td>-0.047859</td>\n",
       "      <td>1.358363</td>\n",
       "      <td>1.480620</td>\n",
       "      <td>-1.222598</td>\n",
       "      <td>-0.481690</td>\n",
       "      <td>-0.654461</td>\n",
       "      <td>0.128115</td>\n",
       "      <td>0.907095</td>\n",
       "      <td>...</td>\n",
       "      <td>-0.025964</td>\n",
       "      <td>0.701843</td>\n",
       "      <td>0.417245</td>\n",
       "      <td>-0.257691</td>\n",
       "      <td>0.060115</td>\n",
       "      <td>0.035332</td>\n",
       "      <td>0.0</td>\n",
       "      <td>0</td>\n",
       "      <td>e9d16028-4b41-4753-87ee-041d33642ae9</td>\n",
       "      <td>TEST</td>\n",
       "    </tr>\n",
       "    <tr>\n",
       "      <th>1</th>\n",
       "      <td>35483</td>\n",
       "      <td>1.286640</td>\n",
       "      <td>0.072917</td>\n",
       "      <td>0.212182</td>\n",
       "      <td>-0.269732</td>\n",
       "      <td>-0.283961</td>\n",
       "      <td>-0.663306</td>\n",
       "      <td>-0.016385</td>\n",
       "      <td>-0.120297</td>\n",
       "      <td>-0.135962</td>\n",
       "      <td>...</td>\n",
       "      <td>0.052674</td>\n",
       "      <td>0.076792</td>\n",
       "      <td>0.209208</td>\n",
       "      <td>0.847617</td>\n",
       "      <td>-0.086559</td>\n",
       "      <td>-0.008262</td>\n",
       "      <td>0.0</td>\n",
       "      <td>0</td>\n",
       "      <td>8b319d3a-2b2d-445b-a9a2-0da3d664ec2a</td>\n",
       "      <td>TEST</td>\n",
       "    </tr>\n",
       "    <tr>\n",
       "      <th>2</th>\n",
       "      <td>163935</td>\n",
       "      <td>1.961967</td>\n",
       "      <td>-0.247295</td>\n",
       "      <td>-1.751841</td>\n",
       "      <td>-0.268689</td>\n",
       "      <td>0.956431</td>\n",
       "      <td>0.707211</td>\n",
       "      <td>0.020675</td>\n",
       "      <td>0.189433</td>\n",
       "      <td>0.455055</td>\n",
       "      <td>...</td>\n",
       "      <td>0.186420</td>\n",
       "      <td>-1.621368</td>\n",
       "      <td>-0.131098</td>\n",
       "      <td>0.034276</td>\n",
       "      <td>-0.004909</td>\n",
       "      <td>-0.090859</td>\n",
       "      <td>0.0</td>\n",
       "      <td>0</td>\n",
       "      <td>788afb87-60aa-4482-8b48-c924bec634aa</td>\n",
       "      <td>TEST</td>\n",
       "    </tr>\n",
       "    <tr>\n",
       "      <th>3</th>\n",
       "      <td>30707</td>\n",
       "      <td>-0.964364</td>\n",
       "      <td>0.176372</td>\n",
       "      <td>2.464128</td>\n",
       "      <td>2.672539</td>\n",
       "      <td>0.145676</td>\n",
       "      <td>-0.152913</td>\n",
       "      <td>-0.591983</td>\n",
       "      <td>0.305066</td>\n",
       "      <td>-0.148034</td>\n",
       "      <td>...</td>\n",
       "      <td>-0.024200</td>\n",
       "      <td>0.365226</td>\n",
       "      <td>-0.745369</td>\n",
       "      <td>-0.060544</td>\n",
       "      <td>0.095692</td>\n",
       "      <td>0.217639</td>\n",
       "      <td>0.0</td>\n",
       "      <td>0</td>\n",
       "      <td>473d0936-1974-4ae8-ab70-230e7599bd3f</td>\n",
       "      <td>TEST</td>\n",
       "    </tr>\n",
       "  </tbody>\n",
       "</table>\n",
       "<p>4 rows × 33 columns</p>\n",
       "</div>"
      ],
      "text/plain": [
       "     Time        V1        V2        V3        V4        V5        V6  \\\n",
       "0   32799  1.153477 -0.047859  1.358363  1.480620 -1.222598 -0.481690   \n",
       "1   35483  1.286640  0.072917  0.212182 -0.269732 -0.283961 -0.663306   \n",
       "2  163935  1.961967 -0.247295 -1.751841 -0.268689  0.956431  0.707211   \n",
       "3   30707 -0.964364  0.176372  2.464128  2.672539  0.145676 -0.152913   \n",
       "\n",
       "         V7        V8        V9  ...       V23       V24       V25       V26  \\\n",
       "0 -0.654461  0.128115  0.907095  ... -0.025964  0.701843  0.417245 -0.257691   \n",
       "1 -0.016385 -0.120297 -0.135962  ...  0.052674  0.076792  0.209208  0.847617   \n",
       "2  0.020675  0.189433  0.455055  ...  0.186420 -1.621368 -0.131098  0.034276   \n",
       "3 -0.591983  0.305066 -0.148034  ... -0.024200  0.365226 -0.745369 -0.060544   \n",
       "\n",
       "        V27       V28  Amount  Class                        transaction_id  \\\n",
       "0  0.060115  0.035332     0.0      0  e9d16028-4b41-4753-87ee-041d33642ae9   \n",
       "1 -0.086559 -0.008262     0.0      0  8b319d3a-2b2d-445b-a9a2-0da3d664ec2a   \n",
       "2 -0.004909 -0.090859     0.0      0  788afb87-60aa-4482-8b48-c924bec634aa   \n",
       "3  0.095692  0.217639     0.0      0  473d0936-1974-4ae8-ab70-230e7599bd3f   \n",
       "\n",
       "   splits  \n",
       "0    TEST  \n",
       "1    TEST  \n",
       "2    TEST  \n",
       "3    TEST  \n",
       "\n",
       "[4 rows x 33 columns]"
      ]
     },
     "execution_count": 343,
     "metadata": {},
     "output_type": "execute_result"
    }
   ],
   "source": [
    "pred.head(4)"
   ]
  },
  {
   "cell_type": "markdown",
   "id": "58d520d7-ef35-4683-a7df-c209ba384bcd",
   "metadata": {},
   "source": [
    "Remove columns not included as features in the model:"
   ]
  },
  {
   "cell_type": "code",
   "execution_count": 344,
   "id": "9932f548-2c04-4150-99e0-0da87e8f216c",
   "metadata": {},
   "outputs": [],
   "source": [
    "newobs = pred[pred.columns[~pred.columns.isin(VAR_OMIT.split()+[VAR_TARGET, 'splits'])]].to_dict(orient='records')\n",
    "#newobs[0]"
   ]
  },
  {
   "cell_type": "code",
   "execution_count": 345,
   "id": "74109e3f-fa98-4234-9496-4eb45dbabd90",
   "metadata": {},
   "outputs": [
    {
     "data": {
      "text/plain": [
       "1000"
      ]
     },
     "execution_count": 345,
     "metadata": {},
     "output_type": "execute_result"
    }
   ],
   "source": [
    "len(newobs)"
   ]
  },
  {
   "cell_type": "markdown",
   "id": "2a8fcefc-af1c-481c-b24f-9964c1d325c6",
   "metadata": {},
   "source": [
    "---\n",
    "## Online Predictions: Methods"
   ]
  },
  {
   "cell_type": "markdown",
   "id": "ccd2c951-ee33-406d-9456-fe2b50c8448d",
   "metadata": {},
   "source": [
    "### Get Prediction: Python Client"
   ]
  },
  {
   "cell_type": "code",
   "execution_count": 879,
   "id": "67f442be-c9e2-4582-90fe-e090fc02730e",
   "metadata": {},
   "outputs": [
    {
     "data": {
      "text/plain": [
       "Prediction(predictions=[[0.999275744, 0.000724321057]], deployed_model_id='7077164921854623744', model_version_id='', model_resource_name='projects/1026793852137/locations/us-central1/models/model_05i_fraud', explanations=None)"
      ]
     },
     "execution_count": 879,
     "metadata": {},
     "output_type": "execute_result"
    }
   ],
   "source": [
    "instances = [json_format.ParseDict(newobs[0], Value())]\n",
    "\n",
    "prediction = endpoint.predict(instances=instances)\n",
    "prediction"
   ]
  },
  {
   "cell_type": "code",
   "execution_count": 880,
   "id": "a5839c46-2cf5-4b09-8e0b-8919e5767112",
   "metadata": {},
   "outputs": [
    {
     "data": {
      "text/plain": [
       "[0.999275744, 0.000724321057]"
      ]
     },
     "execution_count": 880,
     "metadata": {},
     "output_type": "execute_result"
    }
   ],
   "source": [
    "prediction.predictions[0]"
   ]
  },
  {
   "cell_type": "code",
   "execution_count": 881,
   "id": "e5629b86-bd25-4a2c-8dbd-2ab306b58592",
   "metadata": {},
   "outputs": [
    {
     "data": {
      "text/plain": [
       "0"
      ]
     },
     "execution_count": 881,
     "metadata": {},
     "output_type": "execute_result"
    }
   ],
   "source": [
    "np.argmax(prediction.predictions[0])"
   ]
  },
  {
   "cell_type": "markdown",
   "id": "950e4592-d06a-4aa7-a27a-fd80966d132c",
   "metadata": {},
   "source": [
    "### Get Prediction: REST"
   ]
  },
  {
   "cell_type": "markdown",
   "id": "0f3659b4-84fe-484f-bb6d-1450f9e62a86",
   "metadata": {},
   "source": [
    "#### Method 1: Command Line CURL"
   ]
  },
  {
   "cell_type": "code",
   "execution_count": 349,
   "id": "8c504fcf-b6c1-4dfc-aa7c-d5a6ce9d118d",
   "metadata": {},
   "outputs": [],
   "source": [
    "with open(f'{DIR}/request.json','w') as file:\n",
    "    file.write(json.dumps({\"instances\": [newobs[0]]}))"
   ]
  },
  {
   "cell_type": "code",
   "execution_count": 350,
   "id": "67922a11-a326-4b86-9562-75796b4c4e2b",
   "metadata": {},
   "outputs": [
    {
     "data": {
      "text/plain": [
       "{'predictions': [[0.999275744, 0.000724321057]],\n",
       " 'deployedModelId': '7077164921854623744',\n",
       " 'model': 'projects/1026793852137/locations/us-central1/models/model_05i_fraud',\n",
       " 'modelDisplayName': '05i_fraud'}"
      ]
     },
     "execution_count": 350,
     "metadata": {},
     "output_type": "execute_result"
    }
   ],
   "source": [
    "prediction = !curl -s POST \\\n",
    "-H \"Authorization: Bearer \"$(gcloud auth application-default print-access-token) \\\n",
    "-H \"Content-Type: application/json; charset=utf-8\" \\\n",
    "-d @{DIR}/request.json \\\n",
    "https://{REGION}-aiplatform.googleapis.com/v1/{endpoint.resource_name}:predict\n",
    "\n",
    "prediction = json.loads(''.join([p.strip() for p in prediction]))\n",
    "prediction"
   ]
  },
  {
   "cell_type": "code",
   "execution_count": 351,
   "id": "726455d9-1672-45ee-9aa7-49906eb01d5c",
   "metadata": {},
   "outputs": [
    {
     "data": {
      "text/plain": [
       "[0.999275744, 0.000724321057]"
      ]
     },
     "execution_count": 351,
     "metadata": {},
     "output_type": "execute_result"
    }
   ],
   "source": [
    "prediction['predictions'][0]"
   ]
  },
  {
   "cell_type": "code",
   "execution_count": 352,
   "id": "a65b2950-ff0b-4b0e-bca1-8cd12de3ecb0",
   "metadata": {},
   "outputs": [
    {
     "data": {
      "text/plain": [
       "0"
      ]
     },
     "execution_count": 352,
     "metadata": {},
     "output_type": "execute_result"
    }
   ],
   "source": [
    "np.argmax(prediction['predictions'][0])"
   ]
  },
  {
   "cell_type": "markdown",
   "id": "2ec54706-7359-4d01-95e7-2d16ef6441c4",
   "metadata": {},
   "source": [
    "#### Method 2: Python with requests"
   ]
  },
  {
   "cell_type": "code",
   "execution_count": 429,
   "id": "cd78b16b-440c-4c0d-88d8-a7fa2b34a194",
   "metadata": {},
   "outputs": [],
   "source": [
    "import requests"
   ]
  },
  {
   "cell_type": "code",
   "execution_count": 435,
   "id": "cbed175e-289f-4eff-9b9e-33a5358a0488",
   "metadata": {},
   "outputs": [],
   "source": [
    "token = !gcloud auth application-default print-access-token\n",
    "headers = {\"content-type\": \"application/json; charset=utf-8\", \"Authorization\": f'Bearer {token[0]}'}\n",
    "json_response = requests.post(f'https://{REGION}-aiplatform.googleapis.com/v1/{endpoint.resource_name}:predict', data=json.dumps({\"instances\": [newobs[0]]}), headers=headers)"
   ]
  },
  {
   "cell_type": "code",
   "execution_count": 436,
   "id": "b2cab35d-780a-4f48-935c-1af4d6acffa6",
   "metadata": {},
   "outputs": [
    {
     "name": "stdout",
     "output_type": "stream",
     "text": [
      "{\n",
      "  \"predictions\": [\n",
      "    [\n",
      "      0.999275744,\n",
      "      0.000724321057\n",
      "    ]\n",
      "  ],\n",
      "  \"deployedModelId\": \"7077164921854623744\",\n",
      "  \"model\": \"projects/1026793852137/locations/us-central1/models/model_05i_fraud\",\n",
      "  \"modelDisplayName\": \"05i_fraud\"\n",
      "}\n",
      "\n"
     ]
    }
   ],
   "source": [
    "print(json_response.text)"
   ]
  },
  {
   "cell_type": "code",
   "execution_count": 437,
   "id": "e2397a15-be1d-42f3-aab2-9175353f0fae",
   "metadata": {},
   "outputs": [
    {
     "data": {
      "text/plain": [
       "[[0.999275744, 0.000724321057]]"
      ]
     },
     "execution_count": 437,
     "metadata": {},
     "output_type": "execute_result"
    }
   ],
   "source": [
    "predictions = json.loads(json_response.text)['predictions']\n",
    "predictions"
   ]
  },
  {
   "cell_type": "code",
   "execution_count": 438,
   "id": "91bbbf95-f866-4214-8fa3-4dfe6b464b37",
   "metadata": {},
   "outputs": [
    {
     "data": {
      "text/plain": [
       "0"
      ]
     },
     "execution_count": 438,
     "metadata": {},
     "output_type": "execute_result"
    }
   ],
   "source": [
    "np.argmax(predictions[0])"
   ]
  },
  {
   "cell_type": "markdown",
   "id": "1dbe3e05-ea69-41b5-8cb9-955b15b882f9",
   "metadata": {},
   "source": [
    "### Get Prediction: gcloud (CLI)"
   ]
  },
  {
   "cell_type": "code",
   "execution_count": 353,
   "id": "7d2d2be2-4bd6-4566-95f1-acdcbd9926ee",
   "metadata": {},
   "outputs": [],
   "source": [
    "with open(f'{DIR}/request.json','w') as file:\n",
    "    file.write(json.dumps({\"instances\": [newobs[0]]}))"
   ]
  },
  {
   "cell_type": "code",
   "execution_count": 354,
   "id": "37657040-0521-4235-884a-f191d576655c",
   "metadata": {},
   "outputs": [
    {
     "data": {
      "text/plain": [
       "['Using endpoint [https://us-central1-prediction-aiplatform.googleapis.com/]',\n",
       " '[[0.999275744, 0.000724321057]]']"
      ]
     },
     "execution_count": 354,
     "metadata": {},
     "output_type": "execute_result"
    }
   ],
   "source": [
    "prediction = !gcloud beta ai endpoints predict {endpoint.name.rsplit('/',1)[-1]} --region={REGION} --json-request={DIR}/request.json\n",
    "prediction"
   ]
  },
  {
   "cell_type": "code",
   "execution_count": 355,
   "id": "71025142-a958-4f32-92df-602d8b8de09b",
   "metadata": {},
   "outputs": [
    {
     "data": {
      "text/plain": [
       "[0.999275744, 0.000724321057]"
      ]
     },
     "execution_count": 355,
     "metadata": {},
     "output_type": "execute_result"
    }
   ],
   "source": [
    "import ast\n",
    "prediction = ast.literal_eval(prediction[1])\n",
    "prediction[0]"
   ]
  },
  {
   "cell_type": "code",
   "execution_count": 356,
   "id": "6ed6f508-ed1a-4426-93e7-76cab1da5a71",
   "metadata": {},
   "outputs": [
    {
     "data": {
      "text/plain": [
       "0"
      ]
     },
     "execution_count": 356,
     "metadata": {},
     "output_type": "execute_result"
    }
   ],
   "source": [
    "np.argmax(prediction[0])"
   ]
  },
  {
   "cell_type": "markdown",
   "id": "5472125c-7255-415b-8ad4-16695fd68f4c",
   "metadata": {},
   "source": [
    "---\n",
    "## Online Predictions: Synchronous Examples"
   ]
  },
  {
   "cell_type": "code",
   "execution_count": 358,
   "id": "edc35b2f-b358-4862-9b8b-b5f3b4c6b0f8",
   "metadata": {},
   "outputs": [
    {
     "name": "stdout",
     "output_type": "stream",
     "text": [
      "12.83824 seconds\n"
     ]
    }
   ],
   "source": [
    "predictions = []\n",
    "start = time.perf_counter()\n",
    "for p in range(len(newobs)):\n",
    "    instances = [json_format.ParseDict(newobs[p], Value())]\n",
    "    prediction = endpoint.predict(instances=instances)\n",
    "    predictions.append(np.argmax(prediction.predictions[0]))\n",
    "elapsed = time.perf_counter() - start\n",
    "print(f'{elapsed:0.5f} seconds')"
   ]
  },
  {
   "cell_type": "code",
   "execution_count": 359,
   "id": "0b80748a-cf26-4b76-a200-8247a691275a",
   "metadata": {},
   "outputs": [
    {
     "data": {
      "text/plain": [
       "Counter({0: 997, 1: 3})"
      ]
     },
     "execution_count": 359,
     "metadata": {},
     "output_type": "execute_result"
    }
   ],
   "source": [
    "from collections import Counter\n",
    "c = Counter(predictions)\n",
    "c"
   ]
  },
  {
   "cell_type": "code",
   "execution_count": 360,
   "id": "ef8bc8bf-67cf-47d1-82ba-de6eb0e027aa",
   "metadata": {},
   "outputs": [
    {
     "data": {
      "text/plain": [
       "[85, 251, 473]"
      ]
     },
     "execution_count": 360,
     "metadata": {},
     "output_type": "execute_result"
    }
   ],
   "source": [
    "[i for i, j in enumerate(predictions) if j == 1]"
   ]
  },
  {
   "cell_type": "code",
   "execution_count": 361,
   "id": "84207f7d-22cf-49ec-bf8c-36da3a3416e7",
   "metadata": {},
   "outputs": [
    {
     "data": {
      "text/html": [
       "<div>\n",
       "<style scoped>\n",
       "    .dataframe tbody tr th:only-of-type {\n",
       "        vertical-align: middle;\n",
       "    }\n",
       "\n",
       "    .dataframe tbody tr th {\n",
       "        vertical-align: top;\n",
       "    }\n",
       "\n",
       "    .dataframe thead th {\n",
       "        text-align: right;\n",
       "    }\n",
       "</style>\n",
       "<table border=\"1\" class=\"dataframe\">\n",
       "  <thead>\n",
       "    <tr style=\"text-align: right;\">\n",
       "      <th></th>\n",
       "      <th>Time</th>\n",
       "      <th>V1</th>\n",
       "      <th>V2</th>\n",
       "      <th>V3</th>\n",
       "      <th>V4</th>\n",
       "      <th>V5</th>\n",
       "      <th>V6</th>\n",
       "      <th>V7</th>\n",
       "      <th>V8</th>\n",
       "      <th>V9</th>\n",
       "      <th>...</th>\n",
       "      <th>V23</th>\n",
       "      <th>V24</th>\n",
       "      <th>V25</th>\n",
       "      <th>V26</th>\n",
       "      <th>V27</th>\n",
       "      <th>V28</th>\n",
       "      <th>Amount</th>\n",
       "      <th>Class</th>\n",
       "      <th>transaction_id</th>\n",
       "      <th>splits</th>\n",
       "    </tr>\n",
       "  </thead>\n",
       "  <tbody>\n",
       "    <tr>\n",
       "      <th>85</th>\n",
       "      <td>148074</td>\n",
       "      <td>-2.219219</td>\n",
       "      <td>0.727831</td>\n",
       "      <td>-5.458230</td>\n",
       "      <td>5.924850</td>\n",
       "      <td>3.932464</td>\n",
       "      <td>-3.085984</td>\n",
       "      <td>-1.677870</td>\n",
       "      <td>0.865075</td>\n",
       "      <td>-3.177260</td>\n",
       "      <td>...</td>\n",
       "      <td>-0.028752</td>\n",
       "      <td>0.025723</td>\n",
       "      <td>-0.825835</td>\n",
       "      <td>-0.013089</td>\n",
       "      <td>0.413291</td>\n",
       "      <td>-0.131387</td>\n",
       "      <td>0.0</td>\n",
       "      <td>1</td>\n",
       "      <td>a13daf1c-d562-4f9e-b3a4-ba0bfe58d6fa</td>\n",
       "      <td>TEST</td>\n",
       "    </tr>\n",
       "    <tr>\n",
       "      <th>251</th>\n",
       "      <td>129668</td>\n",
       "      <td>0.753356</td>\n",
       "      <td>2.284988</td>\n",
       "      <td>-5.164492</td>\n",
       "      <td>3.831112</td>\n",
       "      <td>-0.073622</td>\n",
       "      <td>-1.316596</td>\n",
       "      <td>-1.855495</td>\n",
       "      <td>0.831079</td>\n",
       "      <td>-1.567514</td>\n",
       "      <td>...</td>\n",
       "      <td>0.187697</td>\n",
       "      <td>0.358433</td>\n",
       "      <td>-0.488934</td>\n",
       "      <td>-0.258802</td>\n",
       "      <td>0.296145</td>\n",
       "      <td>-0.047174</td>\n",
       "      <td>2.0</td>\n",
       "      <td>1</td>\n",
       "      <td>ccbcb7b2-79be-4ad0-9b75-771f695ef69b</td>\n",
       "      <td>TEST</td>\n",
       "    </tr>\n",
       "    <tr>\n",
       "      <th>473</th>\n",
       "      <td>56887</td>\n",
       "      <td>-0.075483</td>\n",
       "      <td>1.812355</td>\n",
       "      <td>-2.566981</td>\n",
       "      <td>4.127549</td>\n",
       "      <td>-1.628532</td>\n",
       "      <td>-0.805895</td>\n",
       "      <td>-3.390135</td>\n",
       "      <td>1.019353</td>\n",
       "      <td>-2.451251</td>\n",
       "      <td>...</td>\n",
       "      <td>-0.143624</td>\n",
       "      <td>0.013566</td>\n",
       "      <td>0.634203</td>\n",
       "      <td>0.213693</td>\n",
       "      <td>0.773625</td>\n",
       "      <td>0.387434</td>\n",
       "      <td>5.0</td>\n",
       "      <td>1</td>\n",
       "      <td>ba8d853c-0e20-4422-a9f0-03daa3b492e7</td>\n",
       "      <td>TEST</td>\n",
       "    </tr>\n",
       "  </tbody>\n",
       "</table>\n",
       "<p>3 rows × 33 columns</p>\n",
       "</div>"
      ],
      "text/plain": [
       "       Time        V1        V2        V3        V4        V5        V6  \\\n",
       "85   148074 -2.219219  0.727831 -5.458230  5.924850  3.932464 -3.085984   \n",
       "251  129668  0.753356  2.284988 -5.164492  3.831112 -0.073622 -1.316596   \n",
       "473   56887 -0.075483  1.812355 -2.566981  4.127549 -1.628532 -0.805895   \n",
       "\n",
       "           V7        V8        V9  ...       V23       V24       V25  \\\n",
       "85  -1.677870  0.865075 -3.177260  ... -0.028752  0.025723 -0.825835   \n",
       "251 -1.855495  0.831079 -1.567514  ...  0.187697  0.358433 -0.488934   \n",
       "473 -3.390135  1.019353 -2.451251  ... -0.143624  0.013566  0.634203   \n",
       "\n",
       "          V26       V27       V28  Amount  Class  \\\n",
       "85  -0.013089  0.413291 -0.131387     0.0      1   \n",
       "251 -0.258802  0.296145 -0.047174     2.0      1   \n",
       "473  0.213693  0.773625  0.387434     5.0      1   \n",
       "\n",
       "                           transaction_id  splits  \n",
       "85   a13daf1c-d562-4f9e-b3a4-ba0bfe58d6fa    TEST  \n",
       "251  ccbcb7b2-79be-4ad0-9b75-771f695ef69b    TEST  \n",
       "473  ba8d853c-0e20-4422-a9f0-03daa3b492e7    TEST  \n",
       "\n",
       "[3 rows x 33 columns]"
      ]
     },
     "execution_count": 361,
     "metadata": {},
     "output_type": "execute_result"
    }
   ],
   "source": [
    "pred.iloc[[i for i, j in enumerate(predictions) if j == 1]]"
   ]
  },
  {
   "cell_type": "markdown",
   "id": "fc999db6-ee50-4990-81fb-351c2659715e",
   "metadata": {},
   "source": [
    "---\n",
    "## Online Predictions: Asynchronous Examples\n",
    "Using Multiprocessing"
   ]
  },
  {
   "cell_type": "code",
   "execution_count": 362,
   "id": "aa33157b-88af-4136-90e2-73f0ab38f54a",
   "metadata": {},
   "outputs": [],
   "source": [
    "from google.cloud import aiplatform_v1\n",
    "\n",
    "client_options = {\"api_endpoint\": f\"{REGION}-aiplatform.googleapis.com\"}\n",
    "parent = f\"projects/{PROJECT_ID}/locations/{REGION}\"\n",
    "\n",
    "client = aiplatform_v1.PredictionServiceAsyncClient(client_options = client_options)"
   ]
  },
  {
   "cell_type": "code",
   "execution_count": 363,
   "id": "9743851a-851a-4bec-aee9-8462705e20af",
   "metadata": {},
   "outputs": [
    {
     "data": {
      "text/plain": [
       "'projects/1026793852137/locations/us-central1/endpoints/7252545822577917952'"
      ]
     },
     "execution_count": 363,
     "metadata": {},
     "output_type": "execute_result"
    }
   ],
   "source": [
    "endpoint.resource_name"
   ]
  },
  {
   "cell_type": "code",
   "execution_count": 364,
   "id": "9b79ec03-6373-49cd-b159-7765e993f836",
   "metadata": {},
   "outputs": [
    {
     "data": {
      "text/plain": [
       "predictions {\n",
       "  list_value {\n",
       "    values {\n",
       "      number_value: 0.999950767\n",
       "    }\n",
       "    values {\n",
       "      number_value: 4.92256549e-05\n",
       "    }\n",
       "  }\n",
       "}\n",
       "deployed_model_id: \"7077164921854623744\"\n",
       "model: \"projects/1026793852137/locations/us-central1/models/model_05i_fraud\"\n",
       "model_display_name: \"05i_fraud\""
      ]
     },
     "execution_count": 364,
     "metadata": {},
     "output_type": "execute_result"
    }
   ],
   "source": [
    "await client.predict(endpoint = endpoint.resource_name, instances = instances)"
   ]
  },
  {
   "cell_type": "code",
   "execution_count": 391,
   "id": "b89c452b-d84e-4503-9f72-4b56d6850ea1",
   "metadata": {},
   "outputs": [
    {
     "name": "stdout",
     "output_type": "stream",
     "text": [
      "1.26097 seconds\n"
     ]
    }
   ],
   "source": [
    "limit = asyncio.Semaphore(100)\n",
    "\n",
    "predictions = [None] * len(newobs)\n",
    "\n",
    "async def predictor(p, newob):\n",
    "    instances = [json_format.ParseDict(newob, Value())]\n",
    "    async with limit:\n",
    "        prediction = await client.predict(endpoint = endpoint.resource_name, instances=instances)\n",
    "        if limit.locked():\n",
    "            await asyncio.sleep(.01)\n",
    "            \n",
    "    predictions[p] = np.argmax(prediction.predictions[0])\n",
    "    \n",
    "async def runner(newobs):\n",
    "    tasks = []\n",
    "    for p in range(len(newobs)):\n",
    "        task = asyncio.create_task(predictor(p, newobs[p]))\n",
    "        tasks.append(task)\n",
    "        \n",
    "    results = await asyncio.gather(*tasks)\n",
    "\n",
    "start = time.perf_counter()\n",
    "await runner(newobs)\n",
    "elapsed = time.perf_counter() - start\n",
    "print(f'{elapsed:0.5f} seconds')"
   ]
  },
  {
   "cell_type": "code",
   "execution_count": 392,
   "id": "a2fa24db-9697-44c5-b815-328923154327",
   "metadata": {},
   "outputs": [
    {
     "data": {
      "text/plain": [
       "1000"
      ]
     },
     "execution_count": 392,
     "metadata": {},
     "output_type": "execute_result"
    }
   ],
   "source": [
    "len(predictions)"
   ]
  },
  {
   "cell_type": "code",
   "execution_count": 393,
   "id": "9d2a9a26-ec62-4186-881c-dfc6cf06f968",
   "metadata": {},
   "outputs": [
    {
     "data": {
      "text/plain": [
       "Counter({0: 997, 1: 3})"
      ]
     },
     "execution_count": 393,
     "metadata": {},
     "output_type": "execute_result"
    }
   ],
   "source": [
    "from collections import Counter\n",
    "c = Counter(predictions)\n",
    "c"
   ]
  },
  {
   "cell_type": "code",
   "execution_count": 394,
   "id": "ad4f5b68-df87-4102-babe-4134022a33db",
   "metadata": {},
   "outputs": [
    {
     "data": {
      "text/plain": [
       "[85, 251, 473]"
      ]
     },
     "execution_count": 394,
     "metadata": {},
     "output_type": "execute_result"
    }
   ],
   "source": [
    "[i for i, j in enumerate(predictions) if j == 1]"
   ]
  },
  {
   "cell_type": "code",
   "execution_count": 395,
   "id": "7228a8a1-97c2-4739-861b-00cf252ce038",
   "metadata": {},
   "outputs": [
    {
     "data": {
      "text/html": [
       "<div>\n",
       "<style scoped>\n",
       "    .dataframe tbody tr th:only-of-type {\n",
       "        vertical-align: middle;\n",
       "    }\n",
       "\n",
       "    .dataframe tbody tr th {\n",
       "        vertical-align: top;\n",
       "    }\n",
       "\n",
       "    .dataframe thead th {\n",
       "        text-align: right;\n",
       "    }\n",
       "</style>\n",
       "<table border=\"1\" class=\"dataframe\">\n",
       "  <thead>\n",
       "    <tr style=\"text-align: right;\">\n",
       "      <th></th>\n",
       "      <th>Time</th>\n",
       "      <th>V1</th>\n",
       "      <th>V2</th>\n",
       "      <th>V3</th>\n",
       "      <th>V4</th>\n",
       "      <th>V5</th>\n",
       "      <th>V6</th>\n",
       "      <th>V7</th>\n",
       "      <th>V8</th>\n",
       "      <th>V9</th>\n",
       "      <th>...</th>\n",
       "      <th>V23</th>\n",
       "      <th>V24</th>\n",
       "      <th>V25</th>\n",
       "      <th>V26</th>\n",
       "      <th>V27</th>\n",
       "      <th>V28</th>\n",
       "      <th>Amount</th>\n",
       "      <th>Class</th>\n",
       "      <th>transaction_id</th>\n",
       "      <th>splits</th>\n",
       "    </tr>\n",
       "  </thead>\n",
       "  <tbody>\n",
       "    <tr>\n",
       "      <th>85</th>\n",
       "      <td>148074</td>\n",
       "      <td>-2.219219</td>\n",
       "      <td>0.727831</td>\n",
       "      <td>-5.458230</td>\n",
       "      <td>5.924850</td>\n",
       "      <td>3.932464</td>\n",
       "      <td>-3.085984</td>\n",
       "      <td>-1.677870</td>\n",
       "      <td>0.865075</td>\n",
       "      <td>-3.177260</td>\n",
       "      <td>...</td>\n",
       "      <td>-0.028752</td>\n",
       "      <td>0.025723</td>\n",
       "      <td>-0.825835</td>\n",
       "      <td>-0.013089</td>\n",
       "      <td>0.413291</td>\n",
       "      <td>-0.131387</td>\n",
       "      <td>0.0</td>\n",
       "      <td>1</td>\n",
       "      <td>a13daf1c-d562-4f9e-b3a4-ba0bfe58d6fa</td>\n",
       "      <td>TEST</td>\n",
       "    </tr>\n",
       "    <tr>\n",
       "      <th>251</th>\n",
       "      <td>129668</td>\n",
       "      <td>0.753356</td>\n",
       "      <td>2.284988</td>\n",
       "      <td>-5.164492</td>\n",
       "      <td>3.831112</td>\n",
       "      <td>-0.073622</td>\n",
       "      <td>-1.316596</td>\n",
       "      <td>-1.855495</td>\n",
       "      <td>0.831079</td>\n",
       "      <td>-1.567514</td>\n",
       "      <td>...</td>\n",
       "      <td>0.187697</td>\n",
       "      <td>0.358433</td>\n",
       "      <td>-0.488934</td>\n",
       "      <td>-0.258802</td>\n",
       "      <td>0.296145</td>\n",
       "      <td>-0.047174</td>\n",
       "      <td>2.0</td>\n",
       "      <td>1</td>\n",
       "      <td>ccbcb7b2-79be-4ad0-9b75-771f695ef69b</td>\n",
       "      <td>TEST</td>\n",
       "    </tr>\n",
       "    <tr>\n",
       "      <th>473</th>\n",
       "      <td>56887</td>\n",
       "      <td>-0.075483</td>\n",
       "      <td>1.812355</td>\n",
       "      <td>-2.566981</td>\n",
       "      <td>4.127549</td>\n",
       "      <td>-1.628532</td>\n",
       "      <td>-0.805895</td>\n",
       "      <td>-3.390135</td>\n",
       "      <td>1.019353</td>\n",
       "      <td>-2.451251</td>\n",
       "      <td>...</td>\n",
       "      <td>-0.143624</td>\n",
       "      <td>0.013566</td>\n",
       "      <td>0.634203</td>\n",
       "      <td>0.213693</td>\n",
       "      <td>0.773625</td>\n",
       "      <td>0.387434</td>\n",
       "      <td>5.0</td>\n",
       "      <td>1</td>\n",
       "      <td>ba8d853c-0e20-4422-a9f0-03daa3b492e7</td>\n",
       "      <td>TEST</td>\n",
       "    </tr>\n",
       "  </tbody>\n",
       "</table>\n",
       "<p>3 rows × 33 columns</p>\n",
       "</div>"
      ],
      "text/plain": [
       "       Time        V1        V2        V3        V4        V5        V6  \\\n",
       "85   148074 -2.219219  0.727831 -5.458230  5.924850  3.932464 -3.085984   \n",
       "251  129668  0.753356  2.284988 -5.164492  3.831112 -0.073622 -1.316596   \n",
       "473   56887 -0.075483  1.812355 -2.566981  4.127549 -1.628532 -0.805895   \n",
       "\n",
       "           V7        V8        V9  ...       V23       V24       V25  \\\n",
       "85  -1.677870  0.865075 -3.177260  ... -0.028752  0.025723 -0.825835   \n",
       "251 -1.855495  0.831079 -1.567514  ...  0.187697  0.358433 -0.488934   \n",
       "473 -3.390135  1.019353 -2.451251  ... -0.143624  0.013566  0.634203   \n",
       "\n",
       "          V26       V27       V28  Amount  Class  \\\n",
       "85  -0.013089  0.413291 -0.131387     0.0      1   \n",
       "251 -0.258802  0.296145 -0.047174     2.0      1   \n",
       "473  0.213693  0.773625  0.387434     5.0      1   \n",
       "\n",
       "                           transaction_id  splits  \n",
       "85   a13daf1c-d562-4f9e-b3a4-ba0bfe58d6fa    TEST  \n",
       "251  ccbcb7b2-79be-4ad0-9b75-771f695ef69b    TEST  \n",
       "473  ba8d853c-0e20-4422-a9f0-03daa3b492e7    TEST  \n",
       "\n",
       "[3 rows x 33 columns]"
      ]
     },
     "execution_count": 395,
     "metadata": {},
     "output_type": "execute_result"
    }
   ],
   "source": [
    "pred.iloc[[i for i, j in enumerate(predictions) if j == 1]]"
   ]
  },
  {
   "cell_type": "markdown",
   "id": "f5266346-b9d1-4da8-ada4-9741c1f31147",
   "metadata": {},
   "source": [
    "---\n",
    "## Vertex AI Batch Prediction Jobs\n",
    "\n",
    "Create a Vertex AI Batch Predictions Job in one of these ways:\n",
    "- Directly with [aiplatform.BatchPredictionJob.create()](https://cloud.google.com/python/docs/reference/aiplatform/latest/google.cloud.aiplatform.BatchPredictionJob)\n",
    "- From a Model with [aiplatform.Model.batch_predict()](https://cloud.google.com/python/docs/reference/aiplatform/latest/google.cloud.aiplatform.Model#google_cloud_aiplatform_Model_batch_predict)"
   ]
  },
  {
   "cell_type": "markdown",
   "id": "e203317e-4a8c-454f-a0d0-bc4a795662c8",
   "metadata": {},
   "source": [
    "### Model Information\n",
    "Using the model on the endpoint selected at the top of this notebook:"
   ]
  },
  {
   "cell_type": "code",
   "execution_count": 759,
   "id": "ef970951-084f-424a-ac96-125c2cce8ae4",
   "metadata": {},
   "outputs": [
    {
     "data": {
      "text/plain": [
       "id: \"7077164921854623744\"\n",
       "model: \"projects/1026793852137/locations/us-central1/models/model_05i_fraud\"\n",
       "display_name: \"05i_fraud\"\n",
       "create_time {\n",
       "  seconds: 1659091859\n",
       "  nanos: 91291000\n",
       "}\n",
       "dedicated_resources {\n",
       "  machine_spec {\n",
       "    machine_type: \"n1-standard-4\"\n",
       "  }\n",
       "  min_replica_count: 1\n",
       "  max_replica_count: 1\n",
       "}\n",
       "model_version_id: \"1\""
      ]
     },
     "execution_count": 759,
     "metadata": {},
     "output_type": "execute_result"
    }
   ],
   "source": [
    "endpoint.list_models()[0]"
   ]
  },
  {
   "cell_type": "code",
   "execution_count": 766,
   "id": "45583e2d-25ec-45c9-82c5-7c29b5b88306",
   "metadata": {},
   "outputs": [],
   "source": [
    "model = aiplatform.Model(\n",
    "    model_name = endpoint.list_models()[0].model+f'@{endpoint.list_models()[0].model_version_id}'\n",
    ")"
   ]
  },
  {
   "cell_type": "code",
   "execution_count": 761,
   "id": "259b9fbe-cfdf-4699-a541-b2879b5974a7",
   "metadata": {},
   "outputs": [
    {
     "data": {
      "text/plain": [
       "'05i_fraud'"
      ]
     },
     "execution_count": 761,
     "metadata": {},
     "output_type": "execute_result"
    }
   ],
   "source": [
    "model.display_name"
   ]
  },
  {
   "cell_type": "code",
   "execution_count": 762,
   "id": "1fd106b1-e996-40c8-a72b-7613422e7b8a",
   "metadata": {},
   "outputs": [
    {
     "data": {
      "text/plain": [
       "'projects/1026793852137/locations/us-central1/models/model_05i_fraud'"
      ]
     },
     "execution_count": 762,
     "metadata": {},
     "output_type": "execute_result"
    }
   ],
   "source": [
    "model.resource_name"
   ]
  },
  {
   "cell_type": "code",
   "execution_count": 763,
   "id": "7e590cf7-71df-41dc-b160-222a36b3242c",
   "metadata": {},
   "outputs": [
    {
     "data": {
      "text/plain": [
       "'1'"
      ]
     },
     "execution_count": 763,
     "metadata": {},
     "output_type": "execute_result"
    }
   ],
   "source": [
    "model.version_id"
   ]
  },
  {
   "cell_type": "code",
   "execution_count": 764,
   "id": "30001de0-f318-4421-99fe-01caa1fe3ad2",
   "metadata": {},
   "outputs": [
    {
     "data": {
      "text/plain": [
       "'time-20220728003419'"
      ]
     },
     "execution_count": 764,
     "metadata": {},
     "output_type": "execute_result"
    }
   ],
   "source": [
    "model.version_description"
   ]
  },
  {
   "cell_type": "code",
   "execution_count": 765,
   "id": "8c64794a-858f-44b2-8b43-2320922caa9c",
   "metadata": {},
   "outputs": [
    {
     "data": {
      "text/plain": [
       "'projects/1026793852137/locations/us-central1/models/model_05i_fraud@1'"
      ]
     },
     "execution_count": 765,
     "metadata": {},
     "output_type": "execute_result"
    }
   ],
   "source": [
    "model.versioned_resource_name"
   ]
  },
  {
   "cell_type": "markdown",
   "id": "5c05ed4b-62ef-432b-8ba6-7133aa98e680",
   "metadata": {},
   "source": [
    "### Method 1: With aiplatform.BatchPredictionJob.create()"
   ]
  },
  {
   "cell_type": "code",
   "execution_count": 773,
   "id": "6471dac8-ca7e-45b9-8585-51ed2da394e2",
   "metadata": {},
   "outputs": [
    {
     "name": "stdout",
     "output_type": "stream",
     "text": [
      "Creating BatchPredictionJob\n"
     ]
    },
    {
     "name": "stderr",
     "output_type": "stream",
     "text": [
      "INFO:google.cloud.aiplatform.jobs:Creating BatchPredictionJob\n"
     ]
    },
    {
     "name": "stdout",
     "output_type": "stream",
     "text": [
      "BatchPredictionJob created. Resource name: projects/1026793852137/locations/us-central1/batchPredictionJobs/2697443146417045504\n"
     ]
    },
    {
     "name": "stderr",
     "output_type": "stream",
     "text": [
      "INFO:google.cloud.aiplatform.jobs:BatchPredictionJob created. Resource name: projects/1026793852137/locations/us-central1/batchPredictionJobs/2697443146417045504\n"
     ]
    },
    {
     "name": "stdout",
     "output_type": "stream",
     "text": [
      "To use this BatchPredictionJob in another session:\n"
     ]
    },
    {
     "name": "stderr",
     "output_type": "stream",
     "text": [
      "INFO:google.cloud.aiplatform.jobs:To use this BatchPredictionJob in another session:\n"
     ]
    },
    {
     "name": "stdout",
     "output_type": "stream",
     "text": [
      "bpj = aiplatform.BatchPredictionJob('projects/1026793852137/locations/us-central1/batchPredictionJobs/2697443146417045504')\n"
     ]
    },
    {
     "name": "stderr",
     "output_type": "stream",
     "text": [
      "INFO:google.cloud.aiplatform.jobs:bpj = aiplatform.BatchPredictionJob('projects/1026793852137/locations/us-central1/batchPredictionJobs/2697443146417045504')\n"
     ]
    },
    {
     "name": "stdout",
     "output_type": "stream",
     "text": [
      "View Batch Prediction Job:\n",
      "https://console.cloud.google.com/ai/platform/locations/us-central1/batch-predictions/2697443146417045504?project=1026793852137\n"
     ]
    },
    {
     "name": "stderr",
     "output_type": "stream",
     "text": [
      "INFO:google.cloud.aiplatform.jobs:View Batch Prediction Job:\n",
      "https://console.cloud.google.com/ai/platform/locations/us-central1/batch-predictions/2697443146417045504?project=1026793852137\n"
     ]
    },
    {
     "name": "stdout",
     "output_type": "stream",
     "text": [
      "BatchPredictionJob projects/1026793852137/locations/us-central1/batchPredictionJobs/2697443146417045504 current state:\n",
      "JobState.JOB_STATE_RUNNING\n"
     ]
    },
    {
     "name": "stderr",
     "output_type": "stream",
     "text": [
      "INFO:google.cloud.aiplatform.jobs:BatchPredictionJob projects/1026793852137/locations/us-central1/batchPredictionJobs/2697443146417045504 current state:\n",
      "JobState.JOB_STATE_RUNNING\n"
     ]
    },
    {
     "name": "stdout",
     "output_type": "stream",
     "text": [
      "BatchPredictionJob projects/1026793852137/locations/us-central1/batchPredictionJobs/2697443146417045504 current state:\n",
      "JobState.JOB_STATE_RUNNING\n"
     ]
    },
    {
     "name": "stderr",
     "output_type": "stream",
     "text": [
      "INFO:google.cloud.aiplatform.jobs:BatchPredictionJob projects/1026793852137/locations/us-central1/batchPredictionJobs/2697443146417045504 current state:\n",
      "JobState.JOB_STATE_RUNNING\n"
     ]
    },
    {
     "name": "stdout",
     "output_type": "stream",
     "text": [
      "BatchPredictionJob projects/1026793852137/locations/us-central1/batchPredictionJobs/2697443146417045504 current state:\n",
      "JobState.JOB_STATE_RUNNING\n"
     ]
    },
    {
     "name": "stderr",
     "output_type": "stream",
     "text": [
      "INFO:google.cloud.aiplatform.jobs:BatchPredictionJob projects/1026793852137/locations/us-central1/batchPredictionJobs/2697443146417045504 current state:\n",
      "JobState.JOB_STATE_RUNNING\n"
     ]
    }
   ],
   "source": [
    "TIMESTAMP = datetime.now().strftime(\"%Y%m%d%H%M%S\")\n",
    "batchJob = aiplatform.BatchPredictionJob.create(\n",
    "    job_display_name = f'{SERIES}_{DATANAME}_{TIMESTAMP}',\n",
    "    model_name = model.versioned_resource_name,\n",
    "    bigquery_source= f'bq://{PROJECT_ID}.{DATANAME}.{DATANAME}_prepped',\n",
    "    bigquery_destination_prefix= f'bq://{PROJECT_ID}.{DATANAME}',\n",
    "    machine_type = DEPLOY_COMPUTE,\n",
    "    accelerator_count = 0,\n",
    "    starting_replica_count = 1,\n",
    "    max_replica_count = 2,\n",
    "    batch_size = 100,\n",
    "    sync = False #if True the call will wait for the job to complete\n",
    ")"
   ]
  },
  {
   "cell_type": "code",
   "execution_count": 775,
   "id": "7afcaaaa-62f9-4eb0-bbcd-1b4ce5b02284",
   "metadata": {},
   "outputs": [
    {
     "name": "stdout",
     "output_type": "stream",
     "text": [
      "BatchPredictionJob projects/1026793852137/locations/us-central1/batchPredictionJobs/2697443146417045504 current state:\n",
      "JobState.JOB_STATE_RUNNING\n"
     ]
    },
    {
     "name": "stderr",
     "output_type": "stream",
     "text": [
      "INFO:google.cloud.aiplatform.jobs:BatchPredictionJob projects/1026793852137/locations/us-central1/batchPredictionJobs/2697443146417045504 current state:\n",
      "JobState.JOB_STATE_RUNNING\n"
     ]
    },
    {
     "name": "stdout",
     "output_type": "stream",
     "text": [
      "BatchPredictionJob projects/1026793852137/locations/us-central1/batchPredictionJobs/2697443146417045504 current state:\n",
      "JobState.JOB_STATE_RUNNING\n"
     ]
    },
    {
     "name": "stderr",
     "output_type": "stream",
     "text": [
      "INFO:google.cloud.aiplatform.jobs:BatchPredictionJob projects/1026793852137/locations/us-central1/batchPredictionJobs/2697443146417045504 current state:\n",
      "JobState.JOB_STATE_RUNNING\n"
     ]
    },
    {
     "name": "stdout",
     "output_type": "stream",
     "text": [
      "BatchPredictionJob projects/1026793852137/locations/us-central1/batchPredictionJobs/2697443146417045504 current state:\n",
      "JobState.JOB_STATE_RUNNING\n"
     ]
    },
    {
     "name": "stderr",
     "output_type": "stream",
     "text": [
      "INFO:google.cloud.aiplatform.jobs:BatchPredictionJob projects/1026793852137/locations/us-central1/batchPredictionJobs/2697443146417045504 current state:\n",
      "JobState.JOB_STATE_RUNNING\n"
     ]
    },
    {
     "name": "stdout",
     "output_type": "stream",
     "text": [
      "BatchPredictionJob projects/1026793852137/locations/us-central1/batchPredictionJobs/2697443146417045504 current state:\n",
      "JobState.JOB_STATE_RUNNING\n"
     ]
    },
    {
     "name": "stderr",
     "output_type": "stream",
     "text": [
      "INFO:google.cloud.aiplatform.jobs:BatchPredictionJob projects/1026793852137/locations/us-central1/batchPredictionJobs/2697443146417045504 current state:\n",
      "JobState.JOB_STATE_RUNNING\n"
     ]
    },
    {
     "name": "stdout",
     "output_type": "stream",
     "text": [
      "BatchPredictionJob projects/1026793852137/locations/us-central1/batchPredictionJobs/2697443146417045504 current state:\n",
      "JobState.JOB_STATE_RUNNING\n"
     ]
    },
    {
     "name": "stderr",
     "output_type": "stream",
     "text": [
      "INFO:google.cloud.aiplatform.jobs:BatchPredictionJob projects/1026793852137/locations/us-central1/batchPredictionJobs/2697443146417045504 current state:\n",
      "JobState.JOB_STATE_RUNNING\n"
     ]
    },
    {
     "name": "stdout",
     "output_type": "stream",
     "text": [
      "BatchPredictionJob projects/1026793852137/locations/us-central1/batchPredictionJobs/2697443146417045504 current state:\n",
      "JobState.JOB_STATE_RUNNING\n"
     ]
    },
    {
     "name": "stderr",
     "output_type": "stream",
     "text": [
      "INFO:google.cloud.aiplatform.jobs:BatchPredictionJob projects/1026793852137/locations/us-central1/batchPredictionJobs/2697443146417045504 current state:\n",
      "JobState.JOB_STATE_RUNNING\n"
     ]
    },
    {
     "name": "stdout",
     "output_type": "stream",
     "text": [
      "BatchPredictionJob projects/1026793852137/locations/us-central1/batchPredictionJobs/2697443146417045504 current state:\n",
      "JobState.JOB_STATE_RUNNING\n"
     ]
    },
    {
     "name": "stderr",
     "output_type": "stream",
     "text": [
      "INFO:google.cloud.aiplatform.jobs:BatchPredictionJob projects/1026793852137/locations/us-central1/batchPredictionJobs/2697443146417045504 current state:\n",
      "JobState.JOB_STATE_RUNNING\n"
     ]
    },
    {
     "name": "stdout",
     "output_type": "stream",
     "text": [
      "BatchPredictionJob projects/1026793852137/locations/us-central1/batchPredictionJobs/2697443146417045504 current state:\n",
      "JobState.JOB_STATE_RUNNING\n"
     ]
    },
    {
     "name": "stderr",
     "output_type": "stream",
     "text": [
      "INFO:google.cloud.aiplatform.jobs:BatchPredictionJob projects/1026793852137/locations/us-central1/batchPredictionJobs/2697443146417045504 current state:\n",
      "JobState.JOB_STATE_RUNNING\n"
     ]
    },
    {
     "name": "stdout",
     "output_type": "stream",
     "text": [
      "BatchPredictionJob projects/1026793852137/locations/us-central1/batchPredictionJobs/2697443146417045504 current state:\n",
      "JobState.JOB_STATE_RUNNING\n"
     ]
    },
    {
     "name": "stderr",
     "output_type": "stream",
     "text": [
      "INFO:google.cloud.aiplatform.jobs:BatchPredictionJob projects/1026793852137/locations/us-central1/batchPredictionJobs/2697443146417045504 current state:\n",
      "JobState.JOB_STATE_RUNNING\n"
     ]
    },
    {
     "name": "stdout",
     "output_type": "stream",
     "text": [
      "BatchPredictionJob projects/1026793852137/locations/us-central1/batchPredictionJobs/2697443146417045504 current state:\n",
      "JobState.JOB_STATE_RUNNING\n"
     ]
    },
    {
     "name": "stderr",
     "output_type": "stream",
     "text": [
      "INFO:google.cloud.aiplatform.jobs:BatchPredictionJob projects/1026793852137/locations/us-central1/batchPredictionJobs/2697443146417045504 current state:\n",
      "JobState.JOB_STATE_RUNNING\n"
     ]
    },
    {
     "name": "stdout",
     "output_type": "stream",
     "text": [
      "BatchPredictionJob projects/1026793852137/locations/us-central1/batchPredictionJobs/2697443146417045504 current state:\n",
      "JobState.JOB_STATE_RUNNING\n"
     ]
    },
    {
     "name": "stderr",
     "output_type": "stream",
     "text": [
      "INFO:google.cloud.aiplatform.jobs:BatchPredictionJob projects/1026793852137/locations/us-central1/batchPredictionJobs/2697443146417045504 current state:\n",
      "JobState.JOB_STATE_RUNNING\n"
     ]
    },
    {
     "name": "stdout",
     "output_type": "stream",
     "text": [
      "BatchPredictionJob projects/1026793852137/locations/us-central1/batchPredictionJobs/2697443146417045504 current state:\n",
      "JobState.JOB_STATE_RUNNING\n"
     ]
    },
    {
     "name": "stderr",
     "output_type": "stream",
     "text": [
      "INFO:google.cloud.aiplatform.jobs:BatchPredictionJob projects/1026793852137/locations/us-central1/batchPredictionJobs/2697443146417045504 current state:\n",
      "JobState.JOB_STATE_RUNNING\n"
     ]
    },
    {
     "name": "stdout",
     "output_type": "stream",
     "text": [
      "BatchPredictionJob projects/1026793852137/locations/us-central1/batchPredictionJobs/2697443146417045504 current state:\n",
      "JobState.JOB_STATE_RUNNING\n"
     ]
    },
    {
     "name": "stderr",
     "output_type": "stream",
     "text": [
      "INFO:google.cloud.aiplatform.jobs:BatchPredictionJob projects/1026793852137/locations/us-central1/batchPredictionJobs/2697443146417045504 current state:\n",
      "JobState.JOB_STATE_RUNNING\n"
     ]
    },
    {
     "name": "stdout",
     "output_type": "stream",
     "text": [
      "BatchPredictionJob projects/1026793852137/locations/us-central1/batchPredictionJobs/2697443146417045504 current state:\n",
      "JobState.JOB_STATE_RUNNING\n"
     ]
    },
    {
     "name": "stderr",
     "output_type": "stream",
     "text": [
      "INFO:google.cloud.aiplatform.jobs:BatchPredictionJob projects/1026793852137/locations/us-central1/batchPredictionJobs/2697443146417045504 current state:\n",
      "JobState.JOB_STATE_RUNNING\n"
     ]
    },
    {
     "name": "stdout",
     "output_type": "stream",
     "text": [
      "BatchPredictionJob projects/1026793852137/locations/us-central1/batchPredictionJobs/2697443146417045504 current state:\n",
      "JobState.JOB_STATE_RUNNING\n"
     ]
    },
    {
     "name": "stderr",
     "output_type": "stream",
     "text": [
      "INFO:google.cloud.aiplatform.jobs:BatchPredictionJob projects/1026793852137/locations/us-central1/batchPredictionJobs/2697443146417045504 current state:\n",
      "JobState.JOB_STATE_RUNNING\n"
     ]
    },
    {
     "name": "stdout",
     "output_type": "stream",
     "text": [
      "BatchPredictionJob projects/1026793852137/locations/us-central1/batchPredictionJobs/2697443146417045504 current state:\n",
      "JobState.JOB_STATE_RUNNING\n"
     ]
    },
    {
     "name": "stderr",
     "output_type": "stream",
     "text": [
      "INFO:google.cloud.aiplatform.jobs:BatchPredictionJob projects/1026793852137/locations/us-central1/batchPredictionJobs/2697443146417045504 current state:\n",
      "JobState.JOB_STATE_RUNNING\n"
     ]
    },
    {
     "name": "stdout",
     "output_type": "stream",
     "text": [
      "BatchPredictionJob projects/1026793852137/locations/us-central1/batchPredictionJobs/2697443146417045504 current state:\n",
      "JobState.JOB_STATE_RUNNING\n"
     ]
    },
    {
     "name": "stderr",
     "output_type": "stream",
     "text": [
      "INFO:google.cloud.aiplatform.jobs:BatchPredictionJob projects/1026793852137/locations/us-central1/batchPredictionJobs/2697443146417045504 current state:\n",
      "JobState.JOB_STATE_RUNNING\n"
     ]
    },
    {
     "name": "stdout",
     "output_type": "stream",
     "text": [
      "BatchPredictionJob projects/1026793852137/locations/us-central1/batchPredictionJobs/2697443146417045504 current state:\n",
      "JobState.JOB_STATE_RUNNING\n"
     ]
    },
    {
     "name": "stderr",
     "output_type": "stream",
     "text": [
      "INFO:google.cloud.aiplatform.jobs:BatchPredictionJob projects/1026793852137/locations/us-central1/batchPredictionJobs/2697443146417045504 current state:\n",
      "JobState.JOB_STATE_RUNNING\n"
     ]
    },
    {
     "name": "stdout",
     "output_type": "stream",
     "text": [
      "BatchPredictionJob projects/1026793852137/locations/us-central1/batchPredictionJobs/2697443146417045504 current state:\n",
      "JobState.JOB_STATE_RUNNING\n"
     ]
    },
    {
     "name": "stderr",
     "output_type": "stream",
     "text": [
      "INFO:google.cloud.aiplatform.jobs:BatchPredictionJob projects/1026793852137/locations/us-central1/batchPredictionJobs/2697443146417045504 current state:\n",
      "JobState.JOB_STATE_RUNNING\n"
     ]
    },
    {
     "name": "stdout",
     "output_type": "stream",
     "text": [
      "BatchPredictionJob projects/1026793852137/locations/us-central1/batchPredictionJobs/2697443146417045504 current state:\n",
      "JobState.JOB_STATE_RUNNING\n"
     ]
    },
    {
     "name": "stderr",
     "output_type": "stream",
     "text": [
      "INFO:google.cloud.aiplatform.jobs:BatchPredictionJob projects/1026793852137/locations/us-central1/batchPredictionJobs/2697443146417045504 current state:\n",
      "JobState.JOB_STATE_RUNNING\n"
     ]
    },
    {
     "name": "stdout",
     "output_type": "stream",
     "text": [
      "BatchPredictionJob projects/1026793852137/locations/us-central1/batchPredictionJobs/2697443146417045504 current state:\n",
      "JobState.JOB_STATE_RUNNING\n"
     ]
    },
    {
     "name": "stderr",
     "output_type": "stream",
     "text": [
      "INFO:google.cloud.aiplatform.jobs:BatchPredictionJob projects/1026793852137/locations/us-central1/batchPredictionJobs/2697443146417045504 current state:\n",
      "JobState.JOB_STATE_RUNNING\n"
     ]
    },
    {
     "name": "stdout",
     "output_type": "stream",
     "text": [
      "BatchPredictionJob projects/1026793852137/locations/us-central1/batchPredictionJobs/2697443146417045504 current state:\n",
      "JobState.JOB_STATE_RUNNING\n"
     ]
    },
    {
     "name": "stderr",
     "output_type": "stream",
     "text": [
      "INFO:google.cloud.aiplatform.jobs:BatchPredictionJob projects/1026793852137/locations/us-central1/batchPredictionJobs/2697443146417045504 current state:\n",
      "JobState.JOB_STATE_RUNNING\n"
     ]
    },
    {
     "name": "stdout",
     "output_type": "stream",
     "text": [
      "BatchPredictionJob projects/1026793852137/locations/us-central1/batchPredictionJobs/2697443146417045504 current state:\n",
      "JobState.JOB_STATE_RUNNING\n"
     ]
    },
    {
     "name": "stderr",
     "output_type": "stream",
     "text": [
      "INFO:google.cloud.aiplatform.jobs:BatchPredictionJob projects/1026793852137/locations/us-central1/batchPredictionJobs/2697443146417045504 current state:\n",
      "JobState.JOB_STATE_RUNNING\n"
     ]
    },
    {
     "name": "stdout",
     "output_type": "stream",
     "text": [
      "BatchPredictionJob projects/1026793852137/locations/us-central1/batchPredictionJobs/2697443146417045504 current state:\n",
      "JobState.JOB_STATE_RUNNING\n"
     ]
    },
    {
     "name": "stderr",
     "output_type": "stream",
     "text": [
      "INFO:google.cloud.aiplatform.jobs:BatchPredictionJob projects/1026793852137/locations/us-central1/batchPredictionJobs/2697443146417045504 current state:\n",
      "JobState.JOB_STATE_RUNNING\n"
     ]
    },
    {
     "name": "stdout",
     "output_type": "stream",
     "text": [
      "BatchPredictionJob projects/1026793852137/locations/us-central1/batchPredictionJobs/2697443146417045504 current state:\n",
      "JobState.JOB_STATE_RUNNING\n"
     ]
    },
    {
     "name": "stderr",
     "output_type": "stream",
     "text": [
      "INFO:google.cloud.aiplatform.jobs:BatchPredictionJob projects/1026793852137/locations/us-central1/batchPredictionJobs/2697443146417045504 current state:\n",
      "JobState.JOB_STATE_RUNNING\n"
     ]
    },
    {
     "name": "stdout",
     "output_type": "stream",
     "text": [
      "BatchPredictionJob projects/1026793852137/locations/us-central1/batchPredictionJobs/2697443146417045504 current state:\n",
      "JobState.JOB_STATE_RUNNING\n"
     ]
    },
    {
     "name": "stderr",
     "output_type": "stream",
     "text": [
      "INFO:google.cloud.aiplatform.jobs:BatchPredictionJob projects/1026793852137/locations/us-central1/batchPredictionJobs/2697443146417045504 current state:\n",
      "JobState.JOB_STATE_RUNNING\n"
     ]
    },
    {
     "name": "stdout",
     "output_type": "stream",
     "text": [
      "BatchPredictionJob projects/1026793852137/locations/us-central1/batchPredictionJobs/2697443146417045504 current state:\n",
      "JobState.JOB_STATE_RUNNING\n"
     ]
    },
    {
     "name": "stderr",
     "output_type": "stream",
     "text": [
      "INFO:google.cloud.aiplatform.jobs:BatchPredictionJob projects/1026793852137/locations/us-central1/batchPredictionJobs/2697443146417045504 current state:\n",
      "JobState.JOB_STATE_RUNNING\n"
     ]
    },
    {
     "name": "stdout",
     "output_type": "stream",
     "text": [
      "BatchPredictionJob projects/1026793852137/locations/us-central1/batchPredictionJobs/2697443146417045504 current state:\n",
      "JobState.JOB_STATE_RUNNING\n"
     ]
    },
    {
     "name": "stderr",
     "output_type": "stream",
     "text": [
      "INFO:google.cloud.aiplatform.jobs:BatchPredictionJob projects/1026793852137/locations/us-central1/batchPredictionJobs/2697443146417045504 current state:\n",
      "JobState.JOB_STATE_RUNNING\n"
     ]
    },
    {
     "name": "stdout",
     "output_type": "stream",
     "text": [
      "BatchPredictionJob projects/1026793852137/locations/us-central1/batchPredictionJobs/2697443146417045504 current state:\n",
      "JobState.JOB_STATE_RUNNING\n"
     ]
    },
    {
     "name": "stderr",
     "output_type": "stream",
     "text": [
      "INFO:google.cloud.aiplatform.jobs:BatchPredictionJob projects/1026793852137/locations/us-central1/batchPredictionJobs/2697443146417045504 current state:\n",
      "JobState.JOB_STATE_RUNNING\n"
     ]
    },
    {
     "name": "stdout",
     "output_type": "stream",
     "text": [
      "BatchPredictionJob projects/1026793852137/locations/us-central1/batchPredictionJobs/2697443146417045504 current state:\n",
      "JobState.JOB_STATE_RUNNING\n"
     ]
    },
    {
     "name": "stderr",
     "output_type": "stream",
     "text": [
      "INFO:google.cloud.aiplatform.jobs:BatchPredictionJob projects/1026793852137/locations/us-central1/batchPredictionJobs/2697443146417045504 current state:\n",
      "JobState.JOB_STATE_RUNNING\n"
     ]
    },
    {
     "name": "stdout",
     "output_type": "stream",
     "text": [
      "BatchPredictionJob projects/1026793852137/locations/us-central1/batchPredictionJobs/2697443146417045504 current state:\n",
      "JobState.JOB_STATE_RUNNING\n"
     ]
    },
    {
     "name": "stderr",
     "output_type": "stream",
     "text": [
      "INFO:google.cloud.aiplatform.jobs:BatchPredictionJob projects/1026793852137/locations/us-central1/batchPredictionJobs/2697443146417045504 current state:\n",
      "JobState.JOB_STATE_RUNNING\n"
     ]
    },
    {
     "name": "stdout",
     "output_type": "stream",
     "text": [
      "BatchPredictionJob projects/1026793852137/locations/us-central1/batchPredictionJobs/2697443146417045504 current state:\n",
      "JobState.JOB_STATE_RUNNING\n"
     ]
    },
    {
     "name": "stderr",
     "output_type": "stream",
     "text": [
      "INFO:google.cloud.aiplatform.jobs:BatchPredictionJob projects/1026793852137/locations/us-central1/batchPredictionJobs/2697443146417045504 current state:\n",
      "JobState.JOB_STATE_RUNNING\n"
     ]
    },
    {
     "name": "stdout",
     "output_type": "stream",
     "text": [
      "BatchPredictionJob projects/1026793852137/locations/us-central1/batchPredictionJobs/2697443146417045504 current state:\n",
      "JobState.JOB_STATE_RUNNING\n"
     ]
    },
    {
     "name": "stderr",
     "output_type": "stream",
     "text": [
      "INFO:google.cloud.aiplatform.jobs:BatchPredictionJob projects/1026793852137/locations/us-central1/batchPredictionJobs/2697443146417045504 current state:\n",
      "JobState.JOB_STATE_RUNNING\n"
     ]
    },
    {
     "name": "stdout",
     "output_type": "stream",
     "text": [
      "BatchPredictionJob projects/1026793852137/locations/us-central1/batchPredictionJobs/2697443146417045504 current state:\n",
      "JobState.JOB_STATE_RUNNING\n"
     ]
    },
    {
     "name": "stderr",
     "output_type": "stream",
     "text": [
      "INFO:google.cloud.aiplatform.jobs:BatchPredictionJob projects/1026793852137/locations/us-central1/batchPredictionJobs/2697443146417045504 current state:\n",
      "JobState.JOB_STATE_RUNNING\n"
     ]
    },
    {
     "name": "stdout",
     "output_type": "stream",
     "text": [
      "BatchPredictionJob projects/1026793852137/locations/us-central1/batchPredictionJobs/2697443146417045504 current state:\n",
      "JobState.JOB_STATE_RUNNING\n"
     ]
    },
    {
     "name": "stderr",
     "output_type": "stream",
     "text": [
      "INFO:google.cloud.aiplatform.jobs:BatchPredictionJob projects/1026793852137/locations/us-central1/batchPredictionJobs/2697443146417045504 current state:\n",
      "JobState.JOB_STATE_RUNNING\n"
     ]
    },
    {
     "name": "stdout",
     "output_type": "stream",
     "text": [
      "BatchPredictionJob projects/1026793852137/locations/us-central1/batchPredictionJobs/2697443146417045504 current state:\n",
      "JobState.JOB_STATE_RUNNING\n"
     ]
    },
    {
     "name": "stderr",
     "output_type": "stream",
     "text": [
      "INFO:google.cloud.aiplatform.jobs:BatchPredictionJob projects/1026793852137/locations/us-central1/batchPredictionJobs/2697443146417045504 current state:\n",
      "JobState.JOB_STATE_RUNNING\n"
     ]
    },
    {
     "name": "stdout",
     "output_type": "stream",
     "text": [
      "BatchPredictionJob projects/1026793852137/locations/us-central1/batchPredictionJobs/2697443146417045504 current state:\n",
      "JobState.JOB_STATE_RUNNING\n"
     ]
    },
    {
     "name": "stderr",
     "output_type": "stream",
     "text": [
      "INFO:google.cloud.aiplatform.jobs:BatchPredictionJob projects/1026793852137/locations/us-central1/batchPredictionJobs/2697443146417045504 current state:\n",
      "JobState.JOB_STATE_RUNNING\n"
     ]
    },
    {
     "name": "stdout",
     "output_type": "stream",
     "text": [
      "BatchPredictionJob projects/1026793852137/locations/us-central1/batchPredictionJobs/2697443146417045504 current state:\n",
      "JobState.JOB_STATE_RUNNING\n"
     ]
    },
    {
     "name": "stderr",
     "output_type": "stream",
     "text": [
      "INFO:google.cloud.aiplatform.jobs:BatchPredictionJob projects/1026793852137/locations/us-central1/batchPredictionJobs/2697443146417045504 current state:\n",
      "JobState.JOB_STATE_RUNNING\n"
     ]
    },
    {
     "name": "stdout",
     "output_type": "stream",
     "text": [
      "BatchPredictionJob projects/1026793852137/locations/us-central1/batchPredictionJobs/2697443146417045504 current state:\n",
      "JobState.JOB_STATE_RUNNING\n"
     ]
    },
    {
     "name": "stderr",
     "output_type": "stream",
     "text": [
      "INFO:google.cloud.aiplatform.jobs:BatchPredictionJob projects/1026793852137/locations/us-central1/batchPredictionJobs/2697443146417045504 current state:\n",
      "JobState.JOB_STATE_RUNNING\n"
     ]
    },
    {
     "name": "stdout",
     "output_type": "stream",
     "text": [
      "BatchPredictionJob projects/1026793852137/locations/us-central1/batchPredictionJobs/2697443146417045504 current state:\n",
      "JobState.JOB_STATE_SUCCEEDED\n"
     ]
    },
    {
     "name": "stderr",
     "output_type": "stream",
     "text": [
      "INFO:google.cloud.aiplatform.jobs:BatchPredictionJob projects/1026793852137/locations/us-central1/batchPredictionJobs/2697443146417045504 current state:\n",
      "JobState.JOB_STATE_SUCCEEDED\n"
     ]
    },
    {
     "name": "stdout",
     "output_type": "stream",
     "text": [
      "BatchPredictionJob run completed. Resource name: projects/1026793852137/locations/us-central1/batchPredictionJobs/2697443146417045504\n"
     ]
    },
    {
     "name": "stderr",
     "output_type": "stream",
     "text": [
      "INFO:google.cloud.aiplatform.jobs:BatchPredictionJob run completed. Resource name: projects/1026793852137/locations/us-central1/batchPredictionJobs/2697443146417045504\n"
     ]
    }
   ],
   "source": [
    "batchJob.wait()"
   ]
  },
  {
   "cell_type": "code",
   "execution_count": null,
   "id": "8df4460a-781d-4709-af4b-49d98ada2198",
   "metadata": {},
   "outputs": [],
   "source": []
  },
  {
   "cell_type": "code",
   "execution_count": null,
   "id": "ac938480-793d-4184-aadc-deef998bd112",
   "metadata": {},
   "outputs": [],
   "source": []
  },
  {
   "cell_type": "markdown",
   "id": "26bbe0bc-49c4-4e2f-8ac7-83cc4d031f4f",
   "metadata": {},
   "source": [
    "### Method 2: With aiplatform.Model.batch_predict()"
   ]
  },
  {
   "cell_type": "code",
   "execution_count": 776,
   "id": "9d07c6eb-e7ea-4951-9003-c542537a3c83",
   "metadata": {},
   "outputs": [
    {
     "name": "stdout",
     "output_type": "stream",
     "text": [
      "Creating BatchPredictionJob\n"
     ]
    },
    {
     "name": "stderr",
     "output_type": "stream",
     "text": [
      "INFO:google.cloud.aiplatform.jobs:Creating BatchPredictionJob\n"
     ]
    },
    {
     "name": "stdout",
     "output_type": "stream",
     "text": [
      "BatchPredictionJob created. Resource name: projects/1026793852137/locations/us-central1/batchPredictionJobs/8778850755739123712\n"
     ]
    },
    {
     "name": "stderr",
     "output_type": "stream",
     "text": [
      "INFO:google.cloud.aiplatform.jobs:BatchPredictionJob created. Resource name: projects/1026793852137/locations/us-central1/batchPredictionJobs/8778850755739123712\n"
     ]
    },
    {
     "name": "stdout",
     "output_type": "stream",
     "text": [
      "To use this BatchPredictionJob in another session:\n"
     ]
    },
    {
     "name": "stderr",
     "output_type": "stream",
     "text": [
      "INFO:google.cloud.aiplatform.jobs:To use this BatchPredictionJob in another session:\n"
     ]
    },
    {
     "name": "stdout",
     "output_type": "stream",
     "text": [
      "bpj = aiplatform.BatchPredictionJob('projects/1026793852137/locations/us-central1/batchPredictionJobs/8778850755739123712')\n"
     ]
    },
    {
     "name": "stderr",
     "output_type": "stream",
     "text": [
      "INFO:google.cloud.aiplatform.jobs:bpj = aiplatform.BatchPredictionJob('projects/1026793852137/locations/us-central1/batchPredictionJobs/8778850755739123712')\n"
     ]
    },
    {
     "name": "stdout",
     "output_type": "stream",
     "text": [
      "View Batch Prediction Job:\n",
      "https://console.cloud.google.com/ai/platform/locations/us-central1/batch-predictions/8778850755739123712?project=1026793852137\n"
     ]
    },
    {
     "name": "stderr",
     "output_type": "stream",
     "text": [
      "INFO:google.cloud.aiplatform.jobs:View Batch Prediction Job:\n",
      "https://console.cloud.google.com/ai/platform/locations/us-central1/batch-predictions/8778850755739123712?project=1026793852137\n"
     ]
    },
    {
     "name": "stdout",
     "output_type": "stream",
     "text": [
      "BatchPredictionJob projects/1026793852137/locations/us-central1/batchPredictionJobs/8778850755739123712 current state:\n",
      "JobState.JOB_STATE_RUNNING\n"
     ]
    },
    {
     "name": "stderr",
     "output_type": "stream",
     "text": [
      "INFO:google.cloud.aiplatform.jobs:BatchPredictionJob projects/1026793852137/locations/us-central1/batchPredictionJobs/8778850755739123712 current state:\n",
      "JobState.JOB_STATE_RUNNING\n"
     ]
    },
    {
     "name": "stdout",
     "output_type": "stream",
     "text": [
      "BatchPredictionJob projects/1026793852137/locations/us-central1/batchPredictionJobs/8778850755739123712 current state:\n",
      "JobState.JOB_STATE_RUNNING\n"
     ]
    },
    {
     "name": "stderr",
     "output_type": "stream",
     "text": [
      "INFO:google.cloud.aiplatform.jobs:BatchPredictionJob projects/1026793852137/locations/us-central1/batchPredictionJobs/8778850755739123712 current state:\n",
      "JobState.JOB_STATE_RUNNING\n"
     ]
    }
   ],
   "source": [
    "TIMESTAMP = datetime.now().strftime(\"%Y%m%d%H%M%S\")\n",
    "batchJob = model.batch_predict(\n",
    "    job_display_name = f'{SERIES}_{DATANAME}_{TIMESTAMP}',\n",
    "    bigquery_source= f'bq://{PROJECT_ID}.{DATANAME}.{DATANAME}_prepped',\n",
    "    instances_format = \"bigquery\",\n",
    "    bigquery_destination_prefix= f'bq://{PROJECT_ID}.{DATANAME}',\n",
    "    predictions_format = \"bigquery\",\n",
    "    machine_type = DEPLOY_COMPUTE,\n",
    "    accelerator_count = 0,\n",
    "    starting_replica_count = 1,\n",
    "    max_replica_count = 10,\n",
    "    batch_size = 100,\n",
    "    sync = False #if True the call will wait for the job to complete\n",
    ")"
   ]
  },
  {
   "cell_type": "code",
   "execution_count": 777,
   "id": "4f0f5fc7-edd9-443b-8ff8-374e26ac4f5e",
   "metadata": {},
   "outputs": [
    {
     "name": "stdout",
     "output_type": "stream",
     "text": [
      "BatchPredictionJob projects/1026793852137/locations/us-central1/batchPredictionJobs/8778850755739123712 current state:\n",
      "JobState.JOB_STATE_RUNNING\n"
     ]
    },
    {
     "name": "stderr",
     "output_type": "stream",
     "text": [
      "INFO:google.cloud.aiplatform.jobs:BatchPredictionJob projects/1026793852137/locations/us-central1/batchPredictionJobs/8778850755739123712 current state:\n",
      "JobState.JOB_STATE_RUNNING\n"
     ]
    },
    {
     "name": "stdout",
     "output_type": "stream",
     "text": [
      "BatchPredictionJob projects/1026793852137/locations/us-central1/batchPredictionJobs/8778850755739123712 current state:\n",
      "JobState.JOB_STATE_RUNNING\n"
     ]
    },
    {
     "name": "stderr",
     "output_type": "stream",
     "text": [
      "INFO:google.cloud.aiplatform.jobs:BatchPredictionJob projects/1026793852137/locations/us-central1/batchPredictionJobs/8778850755739123712 current state:\n",
      "JobState.JOB_STATE_RUNNING\n"
     ]
    },
    {
     "name": "stdout",
     "output_type": "stream",
     "text": [
      "BatchPredictionJob projects/1026793852137/locations/us-central1/batchPredictionJobs/8778850755739123712 current state:\n",
      "JobState.JOB_STATE_RUNNING\n"
     ]
    },
    {
     "name": "stderr",
     "output_type": "stream",
     "text": [
      "INFO:google.cloud.aiplatform.jobs:BatchPredictionJob projects/1026793852137/locations/us-central1/batchPredictionJobs/8778850755739123712 current state:\n",
      "JobState.JOB_STATE_RUNNING\n"
     ]
    },
    {
     "name": "stdout",
     "output_type": "stream",
     "text": [
      "BatchPredictionJob projects/1026793852137/locations/us-central1/batchPredictionJobs/8778850755739123712 current state:\n",
      "JobState.JOB_STATE_RUNNING\n"
     ]
    },
    {
     "name": "stderr",
     "output_type": "stream",
     "text": [
      "INFO:google.cloud.aiplatform.jobs:BatchPredictionJob projects/1026793852137/locations/us-central1/batchPredictionJobs/8778850755739123712 current state:\n",
      "JobState.JOB_STATE_RUNNING\n"
     ]
    },
    {
     "name": "stdout",
     "output_type": "stream",
     "text": [
      "BatchPredictionJob projects/1026793852137/locations/us-central1/batchPredictionJobs/8778850755739123712 current state:\n",
      "JobState.JOB_STATE_RUNNING\n"
     ]
    },
    {
     "name": "stderr",
     "output_type": "stream",
     "text": [
      "INFO:google.cloud.aiplatform.jobs:BatchPredictionJob projects/1026793852137/locations/us-central1/batchPredictionJobs/8778850755739123712 current state:\n",
      "JobState.JOB_STATE_RUNNING\n"
     ]
    },
    {
     "name": "stdout",
     "output_type": "stream",
     "text": [
      "BatchPredictionJob projects/1026793852137/locations/us-central1/batchPredictionJobs/8778850755739123712 current state:\n",
      "JobState.JOB_STATE_RUNNING\n"
     ]
    },
    {
     "name": "stderr",
     "output_type": "stream",
     "text": [
      "INFO:google.cloud.aiplatform.jobs:BatchPredictionJob projects/1026793852137/locations/us-central1/batchPredictionJobs/8778850755739123712 current state:\n",
      "JobState.JOB_STATE_RUNNING\n"
     ]
    },
    {
     "name": "stdout",
     "output_type": "stream",
     "text": [
      "BatchPredictionJob projects/1026793852137/locations/us-central1/batchPredictionJobs/8778850755739123712 current state:\n",
      "JobState.JOB_STATE_RUNNING\n"
     ]
    },
    {
     "name": "stderr",
     "output_type": "stream",
     "text": [
      "INFO:google.cloud.aiplatform.jobs:BatchPredictionJob projects/1026793852137/locations/us-central1/batchPredictionJobs/8778850755739123712 current state:\n",
      "JobState.JOB_STATE_RUNNING\n"
     ]
    },
    {
     "name": "stdout",
     "output_type": "stream",
     "text": [
      "BatchPredictionJob projects/1026793852137/locations/us-central1/batchPredictionJobs/8778850755739123712 current state:\n",
      "JobState.JOB_STATE_RUNNING\n"
     ]
    },
    {
     "name": "stderr",
     "output_type": "stream",
     "text": [
      "INFO:google.cloud.aiplatform.jobs:BatchPredictionJob projects/1026793852137/locations/us-central1/batchPredictionJobs/8778850755739123712 current state:\n",
      "JobState.JOB_STATE_RUNNING\n"
     ]
    },
    {
     "name": "stdout",
     "output_type": "stream",
     "text": [
      "BatchPredictionJob projects/1026793852137/locations/us-central1/batchPredictionJobs/8778850755739123712 current state:\n",
      "JobState.JOB_STATE_RUNNING\n"
     ]
    },
    {
     "name": "stderr",
     "output_type": "stream",
     "text": [
      "INFO:google.cloud.aiplatform.jobs:BatchPredictionJob projects/1026793852137/locations/us-central1/batchPredictionJobs/8778850755739123712 current state:\n",
      "JobState.JOB_STATE_RUNNING\n"
     ]
    },
    {
     "name": "stdout",
     "output_type": "stream",
     "text": [
      "BatchPredictionJob projects/1026793852137/locations/us-central1/batchPredictionJobs/8778850755739123712 current state:\n",
      "JobState.JOB_STATE_RUNNING\n"
     ]
    },
    {
     "name": "stderr",
     "output_type": "stream",
     "text": [
      "INFO:google.cloud.aiplatform.jobs:BatchPredictionJob projects/1026793852137/locations/us-central1/batchPredictionJobs/8778850755739123712 current state:\n",
      "JobState.JOB_STATE_RUNNING\n"
     ]
    },
    {
     "name": "stdout",
     "output_type": "stream",
     "text": [
      "BatchPredictionJob projects/1026793852137/locations/us-central1/batchPredictionJobs/8778850755739123712 current state:\n",
      "JobState.JOB_STATE_RUNNING\n"
     ]
    },
    {
     "name": "stderr",
     "output_type": "stream",
     "text": [
      "INFO:google.cloud.aiplatform.jobs:BatchPredictionJob projects/1026793852137/locations/us-central1/batchPredictionJobs/8778850755739123712 current state:\n",
      "JobState.JOB_STATE_RUNNING\n"
     ]
    },
    {
     "name": "stdout",
     "output_type": "stream",
     "text": [
      "BatchPredictionJob projects/1026793852137/locations/us-central1/batchPredictionJobs/8778850755739123712 current state:\n",
      "JobState.JOB_STATE_RUNNING\n"
     ]
    },
    {
     "name": "stderr",
     "output_type": "stream",
     "text": [
      "INFO:google.cloud.aiplatform.jobs:BatchPredictionJob projects/1026793852137/locations/us-central1/batchPredictionJobs/8778850755739123712 current state:\n",
      "JobState.JOB_STATE_RUNNING\n"
     ]
    },
    {
     "name": "stdout",
     "output_type": "stream",
     "text": [
      "BatchPredictionJob projects/1026793852137/locations/us-central1/batchPredictionJobs/8778850755739123712 current state:\n",
      "JobState.JOB_STATE_RUNNING\n"
     ]
    },
    {
     "name": "stderr",
     "output_type": "stream",
     "text": [
      "INFO:google.cloud.aiplatform.jobs:BatchPredictionJob projects/1026793852137/locations/us-central1/batchPredictionJobs/8778850755739123712 current state:\n",
      "JobState.JOB_STATE_RUNNING\n"
     ]
    },
    {
     "name": "stdout",
     "output_type": "stream",
     "text": [
      "BatchPredictionJob projects/1026793852137/locations/us-central1/batchPredictionJobs/8778850755739123712 current state:\n",
      "JobState.JOB_STATE_RUNNING\n"
     ]
    },
    {
     "name": "stderr",
     "output_type": "stream",
     "text": [
      "INFO:google.cloud.aiplatform.jobs:BatchPredictionJob projects/1026793852137/locations/us-central1/batchPredictionJobs/8778850755739123712 current state:\n",
      "JobState.JOB_STATE_RUNNING\n"
     ]
    },
    {
     "name": "stdout",
     "output_type": "stream",
     "text": [
      "BatchPredictionJob projects/1026793852137/locations/us-central1/batchPredictionJobs/8778850755739123712 current state:\n",
      "JobState.JOB_STATE_RUNNING\n"
     ]
    },
    {
     "name": "stderr",
     "output_type": "stream",
     "text": [
      "INFO:google.cloud.aiplatform.jobs:BatchPredictionJob projects/1026793852137/locations/us-central1/batchPredictionJobs/8778850755739123712 current state:\n",
      "JobState.JOB_STATE_RUNNING\n"
     ]
    },
    {
     "name": "stdout",
     "output_type": "stream",
     "text": [
      "BatchPredictionJob projects/1026793852137/locations/us-central1/batchPredictionJobs/8778850755739123712 current state:\n",
      "JobState.JOB_STATE_RUNNING\n"
     ]
    },
    {
     "name": "stderr",
     "output_type": "stream",
     "text": [
      "INFO:google.cloud.aiplatform.jobs:BatchPredictionJob projects/1026793852137/locations/us-central1/batchPredictionJobs/8778850755739123712 current state:\n",
      "JobState.JOB_STATE_RUNNING\n"
     ]
    },
    {
     "name": "stdout",
     "output_type": "stream",
     "text": [
      "BatchPredictionJob projects/1026793852137/locations/us-central1/batchPredictionJobs/8778850755739123712 current state:\n",
      "JobState.JOB_STATE_RUNNING\n"
     ]
    },
    {
     "name": "stderr",
     "output_type": "stream",
     "text": [
      "INFO:google.cloud.aiplatform.jobs:BatchPredictionJob projects/1026793852137/locations/us-central1/batchPredictionJobs/8778850755739123712 current state:\n",
      "JobState.JOB_STATE_RUNNING\n"
     ]
    },
    {
     "name": "stdout",
     "output_type": "stream",
     "text": [
      "BatchPredictionJob projects/1026793852137/locations/us-central1/batchPredictionJobs/8778850755739123712 current state:\n",
      "JobState.JOB_STATE_RUNNING\n"
     ]
    },
    {
     "name": "stderr",
     "output_type": "stream",
     "text": [
      "INFO:google.cloud.aiplatform.jobs:BatchPredictionJob projects/1026793852137/locations/us-central1/batchPredictionJobs/8778850755739123712 current state:\n",
      "JobState.JOB_STATE_RUNNING\n"
     ]
    },
    {
     "name": "stdout",
     "output_type": "stream",
     "text": [
      "BatchPredictionJob projects/1026793852137/locations/us-central1/batchPredictionJobs/8778850755739123712 current state:\n",
      "JobState.JOB_STATE_RUNNING\n"
     ]
    },
    {
     "name": "stderr",
     "output_type": "stream",
     "text": [
      "INFO:google.cloud.aiplatform.jobs:BatchPredictionJob projects/1026793852137/locations/us-central1/batchPredictionJobs/8778850755739123712 current state:\n",
      "JobState.JOB_STATE_RUNNING\n"
     ]
    },
    {
     "name": "stdout",
     "output_type": "stream",
     "text": [
      "BatchPredictionJob projects/1026793852137/locations/us-central1/batchPredictionJobs/8778850755739123712 current state:\n",
      "JobState.JOB_STATE_RUNNING\n"
     ]
    },
    {
     "name": "stderr",
     "output_type": "stream",
     "text": [
      "INFO:google.cloud.aiplatform.jobs:BatchPredictionJob projects/1026793852137/locations/us-central1/batchPredictionJobs/8778850755739123712 current state:\n",
      "JobState.JOB_STATE_RUNNING\n"
     ]
    },
    {
     "name": "stdout",
     "output_type": "stream",
     "text": [
      "BatchPredictionJob projects/1026793852137/locations/us-central1/batchPredictionJobs/8778850755739123712 current state:\n",
      "JobState.JOB_STATE_RUNNING\n"
     ]
    },
    {
     "name": "stderr",
     "output_type": "stream",
     "text": [
      "INFO:google.cloud.aiplatform.jobs:BatchPredictionJob projects/1026793852137/locations/us-central1/batchPredictionJobs/8778850755739123712 current state:\n",
      "JobState.JOB_STATE_RUNNING\n"
     ]
    },
    {
     "name": "stdout",
     "output_type": "stream",
     "text": [
      "BatchPredictionJob projects/1026793852137/locations/us-central1/batchPredictionJobs/8778850755739123712 current state:\n",
      "JobState.JOB_STATE_RUNNING\n"
     ]
    },
    {
     "name": "stderr",
     "output_type": "stream",
     "text": [
      "INFO:google.cloud.aiplatform.jobs:BatchPredictionJob projects/1026793852137/locations/us-central1/batchPredictionJobs/8778850755739123712 current state:\n",
      "JobState.JOB_STATE_RUNNING\n"
     ]
    },
    {
     "name": "stdout",
     "output_type": "stream",
     "text": [
      "BatchPredictionJob projects/1026793852137/locations/us-central1/batchPredictionJobs/8778850755739123712 current state:\n",
      "JobState.JOB_STATE_RUNNING\n"
     ]
    },
    {
     "name": "stderr",
     "output_type": "stream",
     "text": [
      "INFO:google.cloud.aiplatform.jobs:BatchPredictionJob projects/1026793852137/locations/us-central1/batchPredictionJobs/8778850755739123712 current state:\n",
      "JobState.JOB_STATE_RUNNING\n"
     ]
    },
    {
     "name": "stdout",
     "output_type": "stream",
     "text": [
      "BatchPredictionJob projects/1026793852137/locations/us-central1/batchPredictionJobs/8778850755739123712 current state:\n",
      "JobState.JOB_STATE_RUNNING\n"
     ]
    },
    {
     "name": "stderr",
     "output_type": "stream",
     "text": [
      "INFO:google.cloud.aiplatform.jobs:BatchPredictionJob projects/1026793852137/locations/us-central1/batchPredictionJobs/8778850755739123712 current state:\n",
      "JobState.JOB_STATE_RUNNING\n"
     ]
    },
    {
     "name": "stdout",
     "output_type": "stream",
     "text": [
      "BatchPredictionJob projects/1026793852137/locations/us-central1/batchPredictionJobs/8778850755739123712 current state:\n",
      "JobState.JOB_STATE_RUNNING\n"
     ]
    },
    {
     "name": "stderr",
     "output_type": "stream",
     "text": [
      "INFO:google.cloud.aiplatform.jobs:BatchPredictionJob projects/1026793852137/locations/us-central1/batchPredictionJobs/8778850755739123712 current state:\n",
      "JobState.JOB_STATE_RUNNING\n"
     ]
    },
    {
     "name": "stdout",
     "output_type": "stream",
     "text": [
      "BatchPredictionJob projects/1026793852137/locations/us-central1/batchPredictionJobs/8778850755739123712 current state:\n",
      "JobState.JOB_STATE_RUNNING\n"
     ]
    },
    {
     "name": "stderr",
     "output_type": "stream",
     "text": [
      "INFO:google.cloud.aiplatform.jobs:BatchPredictionJob projects/1026793852137/locations/us-central1/batchPredictionJobs/8778850755739123712 current state:\n",
      "JobState.JOB_STATE_RUNNING\n"
     ]
    },
    {
     "name": "stdout",
     "output_type": "stream",
     "text": [
      "BatchPredictionJob projects/1026793852137/locations/us-central1/batchPredictionJobs/8778850755739123712 current state:\n",
      "JobState.JOB_STATE_RUNNING\n"
     ]
    },
    {
     "name": "stderr",
     "output_type": "stream",
     "text": [
      "INFO:google.cloud.aiplatform.jobs:BatchPredictionJob projects/1026793852137/locations/us-central1/batchPredictionJobs/8778850755739123712 current state:\n",
      "JobState.JOB_STATE_RUNNING\n"
     ]
    },
    {
     "name": "stdout",
     "output_type": "stream",
     "text": [
      "BatchPredictionJob projects/1026793852137/locations/us-central1/batchPredictionJobs/8778850755739123712 current state:\n",
      "JobState.JOB_STATE_RUNNING\n"
     ]
    },
    {
     "name": "stderr",
     "output_type": "stream",
     "text": [
      "INFO:google.cloud.aiplatform.jobs:BatchPredictionJob projects/1026793852137/locations/us-central1/batchPredictionJobs/8778850755739123712 current state:\n",
      "JobState.JOB_STATE_RUNNING\n"
     ]
    },
    {
     "name": "stdout",
     "output_type": "stream",
     "text": [
      "BatchPredictionJob projects/1026793852137/locations/us-central1/batchPredictionJobs/8778850755739123712 current state:\n",
      "JobState.JOB_STATE_RUNNING\n"
     ]
    },
    {
     "name": "stderr",
     "output_type": "stream",
     "text": [
      "INFO:google.cloud.aiplatform.jobs:BatchPredictionJob projects/1026793852137/locations/us-central1/batchPredictionJobs/8778850755739123712 current state:\n",
      "JobState.JOB_STATE_RUNNING\n"
     ]
    },
    {
     "name": "stdout",
     "output_type": "stream",
     "text": [
      "BatchPredictionJob projects/1026793852137/locations/us-central1/batchPredictionJobs/8778850755739123712 current state:\n",
      "JobState.JOB_STATE_RUNNING\n"
     ]
    },
    {
     "name": "stderr",
     "output_type": "stream",
     "text": [
      "INFO:google.cloud.aiplatform.jobs:BatchPredictionJob projects/1026793852137/locations/us-central1/batchPredictionJobs/8778850755739123712 current state:\n",
      "JobState.JOB_STATE_RUNNING\n"
     ]
    },
    {
     "name": "stdout",
     "output_type": "stream",
     "text": [
      "BatchPredictionJob projects/1026793852137/locations/us-central1/batchPredictionJobs/8778850755739123712 current state:\n",
      "JobState.JOB_STATE_RUNNING\n"
     ]
    },
    {
     "name": "stderr",
     "output_type": "stream",
     "text": [
      "INFO:google.cloud.aiplatform.jobs:BatchPredictionJob projects/1026793852137/locations/us-central1/batchPredictionJobs/8778850755739123712 current state:\n",
      "JobState.JOB_STATE_RUNNING\n"
     ]
    },
    {
     "name": "stdout",
     "output_type": "stream",
     "text": [
      "BatchPredictionJob projects/1026793852137/locations/us-central1/batchPredictionJobs/8778850755739123712 current state:\n",
      "JobState.JOB_STATE_RUNNING\n"
     ]
    },
    {
     "name": "stderr",
     "output_type": "stream",
     "text": [
      "INFO:google.cloud.aiplatform.jobs:BatchPredictionJob projects/1026793852137/locations/us-central1/batchPredictionJobs/8778850755739123712 current state:\n",
      "JobState.JOB_STATE_RUNNING\n"
     ]
    },
    {
     "name": "stdout",
     "output_type": "stream",
     "text": [
      "BatchPredictionJob projects/1026793852137/locations/us-central1/batchPredictionJobs/8778850755739123712 current state:\n",
      "JobState.JOB_STATE_RUNNING\n"
     ]
    },
    {
     "name": "stderr",
     "output_type": "stream",
     "text": [
      "INFO:google.cloud.aiplatform.jobs:BatchPredictionJob projects/1026793852137/locations/us-central1/batchPredictionJobs/8778850755739123712 current state:\n",
      "JobState.JOB_STATE_RUNNING\n"
     ]
    },
    {
     "name": "stdout",
     "output_type": "stream",
     "text": [
      "BatchPredictionJob projects/1026793852137/locations/us-central1/batchPredictionJobs/8778850755739123712 current state:\n",
      "JobState.JOB_STATE_RUNNING\n"
     ]
    },
    {
     "name": "stderr",
     "output_type": "stream",
     "text": [
      "INFO:google.cloud.aiplatform.jobs:BatchPredictionJob projects/1026793852137/locations/us-central1/batchPredictionJobs/8778850755739123712 current state:\n",
      "JobState.JOB_STATE_RUNNING\n"
     ]
    },
    {
     "name": "stdout",
     "output_type": "stream",
     "text": [
      "BatchPredictionJob projects/1026793852137/locations/us-central1/batchPredictionJobs/8778850755739123712 current state:\n",
      "JobState.JOB_STATE_RUNNING\n"
     ]
    },
    {
     "name": "stderr",
     "output_type": "stream",
     "text": [
      "INFO:google.cloud.aiplatform.jobs:BatchPredictionJob projects/1026793852137/locations/us-central1/batchPredictionJobs/8778850755739123712 current state:\n",
      "JobState.JOB_STATE_RUNNING\n"
     ]
    },
    {
     "name": "stdout",
     "output_type": "stream",
     "text": [
      "BatchPredictionJob projects/1026793852137/locations/us-central1/batchPredictionJobs/8778850755739123712 current state:\n",
      "JobState.JOB_STATE_RUNNING\n"
     ]
    },
    {
     "name": "stderr",
     "output_type": "stream",
     "text": [
      "INFO:google.cloud.aiplatform.jobs:BatchPredictionJob projects/1026793852137/locations/us-central1/batchPredictionJobs/8778850755739123712 current state:\n",
      "JobState.JOB_STATE_RUNNING\n"
     ]
    },
    {
     "name": "stdout",
     "output_type": "stream",
     "text": [
      "BatchPredictionJob projects/1026793852137/locations/us-central1/batchPredictionJobs/8778850755739123712 current state:\n",
      "JobState.JOB_STATE_RUNNING\n"
     ]
    },
    {
     "name": "stderr",
     "output_type": "stream",
     "text": [
      "INFO:google.cloud.aiplatform.jobs:BatchPredictionJob projects/1026793852137/locations/us-central1/batchPredictionJobs/8778850755739123712 current state:\n",
      "JobState.JOB_STATE_RUNNING\n"
     ]
    },
    {
     "name": "stdout",
     "output_type": "stream",
     "text": [
      "BatchPredictionJob projects/1026793852137/locations/us-central1/batchPredictionJobs/8778850755739123712 current state:\n",
      "JobState.JOB_STATE_RUNNING\n"
     ]
    },
    {
     "name": "stderr",
     "output_type": "stream",
     "text": [
      "INFO:google.cloud.aiplatform.jobs:BatchPredictionJob projects/1026793852137/locations/us-central1/batchPredictionJobs/8778850755739123712 current state:\n",
      "JobState.JOB_STATE_RUNNING\n"
     ]
    },
    {
     "name": "stdout",
     "output_type": "stream",
     "text": [
      "BatchPredictionJob projects/1026793852137/locations/us-central1/batchPredictionJobs/8778850755739123712 current state:\n",
      "JobState.JOB_STATE_RUNNING\n"
     ]
    },
    {
     "name": "stderr",
     "output_type": "stream",
     "text": [
      "INFO:google.cloud.aiplatform.jobs:BatchPredictionJob projects/1026793852137/locations/us-central1/batchPredictionJobs/8778850755739123712 current state:\n",
      "JobState.JOB_STATE_RUNNING\n"
     ]
    },
    {
     "name": "stdout",
     "output_type": "stream",
     "text": [
      "BatchPredictionJob projects/1026793852137/locations/us-central1/batchPredictionJobs/8778850755739123712 current state:\n",
      "JobState.JOB_STATE_RUNNING\n"
     ]
    },
    {
     "name": "stderr",
     "output_type": "stream",
     "text": [
      "INFO:google.cloud.aiplatform.jobs:BatchPredictionJob projects/1026793852137/locations/us-central1/batchPredictionJobs/8778850755739123712 current state:\n",
      "JobState.JOB_STATE_RUNNING\n"
     ]
    },
    {
     "name": "stdout",
     "output_type": "stream",
     "text": [
      "BatchPredictionJob projects/1026793852137/locations/us-central1/batchPredictionJobs/8778850755739123712 current state:\n",
      "JobState.JOB_STATE_RUNNING\n"
     ]
    },
    {
     "name": "stderr",
     "output_type": "stream",
     "text": [
      "INFO:google.cloud.aiplatform.jobs:BatchPredictionJob projects/1026793852137/locations/us-central1/batchPredictionJobs/8778850755739123712 current state:\n",
      "JobState.JOB_STATE_RUNNING\n"
     ]
    },
    {
     "name": "stdout",
     "output_type": "stream",
     "text": [
      "BatchPredictionJob projects/1026793852137/locations/us-central1/batchPredictionJobs/8778850755739123712 current state:\n",
      "JobState.JOB_STATE_SUCCEEDED\n"
     ]
    },
    {
     "name": "stderr",
     "output_type": "stream",
     "text": [
      "INFO:google.cloud.aiplatform.jobs:BatchPredictionJob projects/1026793852137/locations/us-central1/batchPredictionJobs/8778850755739123712 current state:\n",
      "JobState.JOB_STATE_SUCCEEDED\n"
     ]
    },
    {
     "name": "stdout",
     "output_type": "stream",
     "text": [
      "BatchPredictionJob run completed. Resource name: projects/1026793852137/locations/us-central1/batchPredictionJobs/8778850755739123712\n"
     ]
    },
    {
     "name": "stderr",
     "output_type": "stream",
     "text": [
      "INFO:google.cloud.aiplatform.jobs:BatchPredictionJob run completed. Resource name: projects/1026793852137/locations/us-central1/batchPredictionJobs/8778850755739123712\n"
     ]
    }
   ],
   "source": [
    "batchJob.wait()"
   ]
  },
  {
   "cell_type": "markdown",
   "id": "3f8d80dc-2a33-47ba-b816-dab67a1fd100",
   "metadata": {},
   "source": [
    "---\n",
    "## Batch Predictions: BigQuery ML\n",
    "\n",
    "Load a model to BigQuery and use BQML to create predictions.  Need the URI of TensorFlow model."
   ]
  },
  {
   "cell_type": "markdown",
   "id": "06e29f29-8efd-490d-b3da-158d506117e3",
   "metadata": {},
   "source": [
    "### Model Information\n",
    "Using the model on the endpoint selected at the top of this notebook:"
   ]
  },
  {
   "cell_type": "code",
   "execution_count": 759,
   "id": "0a26b6f7-a132-433b-8496-83a099f29fe3",
   "metadata": {},
   "outputs": [
    {
     "data": {
      "text/plain": [
       "id: \"7077164921854623744\"\n",
       "model: \"projects/1026793852137/locations/us-central1/models/model_05i_fraud\"\n",
       "display_name: \"05i_fraud\"\n",
       "create_time {\n",
       "  seconds: 1659091859\n",
       "  nanos: 91291000\n",
       "}\n",
       "dedicated_resources {\n",
       "  machine_spec {\n",
       "    machine_type: \"n1-standard-4\"\n",
       "  }\n",
       "  min_replica_count: 1\n",
       "  max_replica_count: 1\n",
       "}\n",
       "model_version_id: \"1\""
      ]
     },
     "execution_count": 759,
     "metadata": {},
     "output_type": "execute_result"
    }
   ],
   "source": [
    "endpoint.list_models()[0]"
   ]
  },
  {
   "cell_type": "code",
   "execution_count": 766,
   "id": "179ae734-bcaa-43ed-902b-a5cb54b5df0c",
   "metadata": {},
   "outputs": [],
   "source": [
    "model = aiplatform.Model(\n",
    "    model_name = endpoint.list_models()[0].model+f'@{endpoint.list_models()[0].model_version_id}'\n",
    ")"
   ]
  },
  {
   "cell_type": "code",
   "execution_count": 761,
   "id": "1ef19d0e-0855-4941-893f-bd9511c504f1",
   "metadata": {},
   "outputs": [
    {
     "data": {
      "text/plain": [
       "'05i_fraud'"
      ]
     },
     "execution_count": 761,
     "metadata": {},
     "output_type": "execute_result"
    }
   ],
   "source": [
    "model.display_name"
   ]
  },
  {
   "cell_type": "code",
   "execution_count": 762,
   "id": "662f6179-5d5f-454e-a133-e0e052095acc",
   "metadata": {},
   "outputs": [
    {
     "data": {
      "text/plain": [
       "'projects/1026793852137/locations/us-central1/models/model_05i_fraud'"
      ]
     },
     "execution_count": 762,
     "metadata": {},
     "output_type": "execute_result"
    }
   ],
   "source": [
    "model.resource_name"
   ]
  },
  {
   "cell_type": "code",
   "execution_count": 763,
   "id": "2edfac29-ca52-4ec1-9625-9a0b36aa27bf",
   "metadata": {},
   "outputs": [
    {
     "data": {
      "text/plain": [
       "'1'"
      ]
     },
     "execution_count": 763,
     "metadata": {},
     "output_type": "execute_result"
    }
   ],
   "source": [
    "model.version_id"
   ]
  },
  {
   "cell_type": "code",
   "execution_count": 764,
   "id": "f9612ac5-e86f-4727-a0ec-56910e4375c5",
   "metadata": {},
   "outputs": [
    {
     "data": {
      "text/plain": [
       "'time-20220728003419'"
      ]
     },
     "execution_count": 764,
     "metadata": {},
     "output_type": "execute_result"
    }
   ],
   "source": [
    "model.version_description"
   ]
  },
  {
   "cell_type": "code",
   "execution_count": 767,
   "id": "6e9bd20c-362b-4a55-b9a6-d81635ac0ef8",
   "metadata": {},
   "outputs": [
    {
     "data": {
      "text/plain": [
       "'projects/1026793852137/locations/us-central1/models/model_05i_fraud@1'"
      ]
     },
     "execution_count": 767,
     "metadata": {},
     "output_type": "execute_result"
    }
   ],
   "source": [
    "model.versioned_resource_name"
   ]
  },
  {
   "cell_type": "code",
   "execution_count": 768,
   "id": "bae13e77-6944-4668-8367-8f992fabc811",
   "metadata": {},
   "outputs": [
    {
     "data": {
      "text/plain": [
       "'gs://statmike-mlops-349915/fraud/models/05i/20220728003419/18/model'"
      ]
     },
     "execution_count": 768,
     "metadata": {},
     "output_type": "execute_result"
    }
   ],
   "source": [
    "model.uri"
   ]
  },
  {
   "cell_type": "code",
   "execution_count": 769,
   "id": "4b8c3ad3-5307-4e66-940a-0c00d975ffb7",
   "metadata": {},
   "outputs": [
    {
     "data": {
      "text/plain": [
       "'model_05i_fraud'"
      ]
     },
     "execution_count": 769,
     "metadata": {},
     "output_type": "execute_result"
    }
   ],
   "source": [
    "model.name"
   ]
  },
  {
   "cell_type": "markdown",
   "id": "7e1e0252-2965-4dac-93b4-ba1b023d0c6d",
   "metadata": {},
   "source": [
    "### Import Model Into BigQuery"
   ]
  },
  {
   "cell_type": "code",
   "execution_count": 122,
   "id": "70448119-e4c3-484e-a595-73e38e689117",
   "metadata": {},
   "outputs": [],
   "source": [
    "query = f'''\n",
    "CREATE OR REPLACE MODEL `{PROJECT_ID}.{DATANAME}.{model.name}`\n",
    "    OPTIONS(\n",
    "        MODEL_TYPE = 'TENSORFLOW',\n",
    "        MODEL_PATH = '{model.uri}/*')\n",
    "'''"
   ]
  },
  {
   "cell_type": "code",
   "execution_count": 123,
   "id": "657c073c-0c1b-4ef9-b5be-b1be7e765f4e",
   "metadata": {},
   "outputs": [
    {
     "name": "stdout",
     "output_type": "stream",
     "text": [
      "\n",
      "CREATE OR REPLACE MODEL `statmike-mlops-349915.fraud.model_05i_fraud`\n",
      "    OPTIONS(\n",
      "        MODEL_TYPE = 'TENSORFLOW',\n",
      "        MODEL_PATH = 'gs://statmike-mlops-349915/fraud/models/05i/20220728003419/18/model/*')\n",
      "\n"
     ]
    }
   ],
   "source": [
    "print(query)"
   ]
  },
  {
   "cell_type": "code",
   "execution_count": 124,
   "id": "a2515237-3702-461a-ba0b-2a1eaa17fc59",
   "metadata": {},
   "outputs": [
    {
     "data": {
      "text/plain": [
       "3.605"
      ]
     },
     "execution_count": 124,
     "metadata": {},
     "output_type": "execute_result"
    }
   ],
   "source": [
    "job = bq.query(query = query)\n",
    "job.result()\n",
    "(job.ended-job.started).total_seconds()"
   ]
  },
  {
   "cell_type": "markdown",
   "id": "caa1d1d0-c8dd-4ab3-968d-f5cdcb7180d6",
   "metadata": {},
   "source": [
    "### Generate Predictions With BigQuery (ML.Predict)"
   ]
  },
  {
   "cell_type": "code",
   "execution_count": 125,
   "id": "cfb1efc5-670f-417e-b763-9706b06159a3",
   "metadata": {},
   "outputs": [
    {
     "data": {
      "text/html": [
       "<div>\n",
       "<style scoped>\n",
       "    .dataframe tbody tr th:only-of-type {\n",
       "        vertical-align: middle;\n",
       "    }\n",
       "\n",
       "    .dataframe tbody tr th {\n",
       "        vertical-align: top;\n",
       "    }\n",
       "\n",
       "    .dataframe thead th {\n",
       "        text-align: right;\n",
       "    }\n",
       "</style>\n",
       "<table border=\"1\" class=\"dataframe\">\n",
       "  <thead>\n",
       "    <tr style=\"text-align: right;\">\n",
       "      <th></th>\n",
       "      <th>dense</th>\n",
       "      <th>Time</th>\n",
       "      <th>V1</th>\n",
       "      <th>V2</th>\n",
       "      <th>V3</th>\n",
       "      <th>V4</th>\n",
       "      <th>V5</th>\n",
       "      <th>V6</th>\n",
       "      <th>V7</th>\n",
       "      <th>V8</th>\n",
       "      <th>...</th>\n",
       "      <th>V23</th>\n",
       "      <th>V24</th>\n",
       "      <th>V25</th>\n",
       "      <th>V26</th>\n",
       "      <th>V27</th>\n",
       "      <th>V28</th>\n",
       "      <th>Amount</th>\n",
       "      <th>Class</th>\n",
       "      <th>transaction_id</th>\n",
       "      <th>splits</th>\n",
       "    </tr>\n",
       "  </thead>\n",
       "  <tbody>\n",
       "    <tr>\n",
       "      <th>0</th>\n",
       "      <td>[0.0016647283919155598, 0.9983352422714233]</td>\n",
       "      <td>148074</td>\n",
       "      <td>-2.219219</td>\n",
       "      <td>0.727831</td>\n",
       "      <td>-5.458230</td>\n",
       "      <td>5.924850</td>\n",
       "      <td>3.932464</td>\n",
       "      <td>-3.085984</td>\n",
       "      <td>-1.677870</td>\n",
       "      <td>0.865075</td>\n",
       "      <td>...</td>\n",
       "      <td>-0.028752</td>\n",
       "      <td>0.025723</td>\n",
       "      <td>-0.825835</td>\n",
       "      <td>-0.013089</td>\n",
       "      <td>0.413291</td>\n",
       "      <td>-0.131387</td>\n",
       "      <td>0.0</td>\n",
       "      <td>1</td>\n",
       "      <td>a13daf1c-d562-4f9e-b3a4-ba0bfe58d6fa</td>\n",
       "      <td>TEST</td>\n",
       "    </tr>\n",
       "    <tr>\n",
       "      <th>1</th>\n",
       "      <td>[0.016800928860902786, 0.9831990003585815]</td>\n",
       "      <td>129668</td>\n",
       "      <td>0.753356</td>\n",
       "      <td>2.284988</td>\n",
       "      <td>-5.164492</td>\n",
       "      <td>3.831112</td>\n",
       "      <td>-0.073622</td>\n",
       "      <td>-1.316596</td>\n",
       "      <td>-1.855495</td>\n",
       "      <td>0.831079</td>\n",
       "      <td>...</td>\n",
       "      <td>0.187697</td>\n",
       "      <td>0.358433</td>\n",
       "      <td>-0.488934</td>\n",
       "      <td>-0.258802</td>\n",
       "      <td>0.296145</td>\n",
       "      <td>-0.047174</td>\n",
       "      <td>2.0</td>\n",
       "      <td>1</td>\n",
       "      <td>ccbcb7b2-79be-4ad0-9b75-771f695ef69b</td>\n",
       "      <td>TEST</td>\n",
       "    </tr>\n",
       "    <tr>\n",
       "      <th>2</th>\n",
       "      <td>[0.0005459527601487935, 0.9994540810585022]</td>\n",
       "      <td>56887</td>\n",
       "      <td>-0.075483</td>\n",
       "      <td>1.812355</td>\n",
       "      <td>-2.566981</td>\n",
       "      <td>4.127549</td>\n",
       "      <td>-1.628532</td>\n",
       "      <td>-0.805895</td>\n",
       "      <td>-3.390135</td>\n",
       "      <td>1.019353</td>\n",
       "      <td>...</td>\n",
       "      <td>-0.143624</td>\n",
       "      <td>0.013566</td>\n",
       "      <td>0.634203</td>\n",
       "      <td>0.213693</td>\n",
       "      <td>0.773625</td>\n",
       "      <td>0.387434</td>\n",
       "      <td>5.0</td>\n",
       "      <td>1</td>\n",
       "      <td>ba8d853c-0e20-4422-a9f0-03daa3b492e7</td>\n",
       "      <td>TEST</td>\n",
       "    </tr>\n",
       "    <tr>\n",
       "      <th>3</th>\n",
       "      <td>[0.8952898979187012, 0.10471007227897644]</td>\n",
       "      <td>146998</td>\n",
       "      <td>-2.064240</td>\n",
       "      <td>2.629739</td>\n",
       "      <td>-0.748406</td>\n",
       "      <td>0.694992</td>\n",
       "      <td>0.418178</td>\n",
       "      <td>1.392520</td>\n",
       "      <td>-1.697801</td>\n",
       "      <td>-6.333065</td>\n",
       "      <td>...</td>\n",
       "      <td>0.459861</td>\n",
       "      <td>-1.051685</td>\n",
       "      <td>0.209178</td>\n",
       "      <td>-0.319859</td>\n",
       "      <td>0.015434</td>\n",
       "      <td>-0.050117</td>\n",
       "      <td>8.0</td>\n",
       "      <td>1</td>\n",
       "      <td>f390e04f-14f4-4c77-b18d-6adb8da79b54</td>\n",
       "      <td>TEST</td>\n",
       "    </tr>\n",
       "    <tr>\n",
       "      <th>4</th>\n",
       "      <td>[0.11997880041599274, 0.8800212740898132]</td>\n",
       "      <td>78725</td>\n",
       "      <td>-4.312479</td>\n",
       "      <td>1.886476</td>\n",
       "      <td>-2.338634</td>\n",
       "      <td>-0.475243</td>\n",
       "      <td>-1.185444</td>\n",
       "      <td>-2.112079</td>\n",
       "      <td>-2.122793</td>\n",
       "      <td>0.272565</td>\n",
       "      <td>...</td>\n",
       "      <td>-1.114692</td>\n",
       "      <td>0.269069</td>\n",
       "      <td>-0.020572</td>\n",
       "      <td>-0.963489</td>\n",
       "      <td>-0.918888</td>\n",
       "      <td>0.001454</td>\n",
       "      <td>60.0</td>\n",
       "      <td>1</td>\n",
       "      <td>37db7004-4459-48a3-8464-24c5ff19cc3b</td>\n",
       "      <td>TEST</td>\n",
       "    </tr>\n",
       "    <tr>\n",
       "      <th>5</th>\n",
       "      <td>[4.79785031131931e-16, 0.9999999403953552]</td>\n",
       "      <td>14152</td>\n",
       "      <td>-4.710529</td>\n",
       "      <td>8.636214</td>\n",
       "      <td>-15.496222</td>\n",
       "      <td>10.313349</td>\n",
       "      <td>-4.351341</td>\n",
       "      <td>-3.322689</td>\n",
       "      <td>-10.788373</td>\n",
       "      <td>5.060381</td>\n",
       "      <td>...</td>\n",
       "      <td>0.554408</td>\n",
       "      <td>-1.204042</td>\n",
       "      <td>-0.450685</td>\n",
       "      <td>0.641836</td>\n",
       "      <td>1.605958</td>\n",
       "      <td>0.721644</td>\n",
       "      <td>1.0</td>\n",
       "      <td>1</td>\n",
       "      <td>5bb6c913-1486-4421-a791-f13511b24f1f</td>\n",
       "      <td>TEST</td>\n",
       "    </tr>\n",
       "    <tr>\n",
       "      <th>6</th>\n",
       "      <td>[6.733386092618032e-14, 0.9999999403953552]</td>\n",
       "      <td>21419</td>\n",
       "      <td>-17.467710</td>\n",
       "      <td>10.114816</td>\n",
       "      <td>-24.202142</td>\n",
       "      <td>11.805469</td>\n",
       "      <td>-10.198046</td>\n",
       "      <td>-2.579938</td>\n",
       "      <td>-17.656788</td>\n",
       "      <td>2.256902</td>\n",
       "      <td>...</td>\n",
       "      <td>1.296817</td>\n",
       "      <td>-1.055104</td>\n",
       "      <td>0.111792</td>\n",
       "      <td>0.679695</td>\n",
       "      <td>2.093541</td>\n",
       "      <td>-1.425491</td>\n",
       "      <td>1.0</td>\n",
       "      <td>1</td>\n",
       "      <td>8922139c-c818-4d35-a996-7dc72d19216a</td>\n",
       "      <td>TEST</td>\n",
       "    </tr>\n",
       "    <tr>\n",
       "      <th>7</th>\n",
       "      <td>[1.3924342056270689e-05, 0.9999859929084778]</td>\n",
       "      <td>143456</td>\n",
       "      <td>-2.006582</td>\n",
       "      <td>3.676577</td>\n",
       "      <td>-5.463811</td>\n",
       "      <td>7.232058</td>\n",
       "      <td>-1.627859</td>\n",
       "      <td>-0.996755</td>\n",
       "      <td>-4.299833</td>\n",
       "      <td>2.268867</td>\n",
       "      <td>...</td>\n",
       "      <td>0.167947</td>\n",
       "      <td>-0.449864</td>\n",
       "      <td>0.023702</td>\n",
       "      <td>0.536905</td>\n",
       "      <td>0.485864</td>\n",
       "      <td>-0.042393</td>\n",
       "      <td>1.0</td>\n",
       "      <td>1</td>\n",
       "      <td>ebd4dc94-3c92-41c8-b158-88ea102a5c23</td>\n",
       "      <td>TEST</td>\n",
       "    </tr>\n",
       "    <tr>\n",
       "      <th>8</th>\n",
       "      <td>[1.3694696463062428e-05, 0.9999862909317017]</td>\n",
       "      <td>40662</td>\n",
       "      <td>-4.446847</td>\n",
       "      <td>-0.014793</td>\n",
       "      <td>-5.126307</td>\n",
       "      <td>6.945130</td>\n",
       "      <td>5.269255</td>\n",
       "      <td>-4.297177</td>\n",
       "      <td>-2.591242</td>\n",
       "      <td>0.342671</td>\n",
       "      <td>...</td>\n",
       "      <td>-0.226017</td>\n",
       "      <td>-0.401236</td>\n",
       "      <td>0.856124</td>\n",
       "      <td>0.661272</td>\n",
       "      <td>0.492560</td>\n",
       "      <td>0.971834</td>\n",
       "      <td>1.0</td>\n",
       "      <td>1</td>\n",
       "      <td>632895ce-64c7-4296-a638-ca415be392df</td>\n",
       "      <td>TEST</td>\n",
       "    </tr>\n",
       "    <tr>\n",
       "      <th>9</th>\n",
       "      <td>[0.9690614938735962, 0.030938537791371346]</td>\n",
       "      <td>77171</td>\n",
       "      <td>1.118560</td>\n",
       "      <td>1.291858</td>\n",
       "      <td>-1.298805</td>\n",
       "      <td>2.135772</td>\n",
       "      <td>0.772204</td>\n",
       "      <td>-1.147291</td>\n",
       "      <td>0.390578</td>\n",
       "      <td>-0.107072</td>\n",
       "      <td>...</td>\n",
       "      <td>-0.102326</td>\n",
       "      <td>0.017911</td>\n",
       "      <td>0.650302</td>\n",
       "      <td>-0.332366</td>\n",
       "      <td>0.105949</td>\n",
       "      <td>0.128124</td>\n",
       "      <td>1.0</td>\n",
       "      <td>1</td>\n",
       "      <td>b17e46f7-9352-4bd0-91d4-4260be816363</td>\n",
       "      <td>TEST</td>\n",
       "    </tr>\n",
       "  </tbody>\n",
       "</table>\n",
       "<p>10 rows × 34 columns</p>\n",
       "</div>"
      ],
      "text/plain": [
       "                                          dense    Time         V1         V2  \\\n",
       "0   [0.0016647283919155598, 0.9983352422714233]  148074  -2.219219   0.727831   \n",
       "1    [0.016800928860902786, 0.9831990003585815]  129668   0.753356   2.284988   \n",
       "2   [0.0005459527601487935, 0.9994540810585022]   56887  -0.075483   1.812355   \n",
       "3     [0.8952898979187012, 0.10471007227897644]  146998  -2.064240   2.629739   \n",
       "4     [0.11997880041599274, 0.8800212740898132]   78725  -4.312479   1.886476   \n",
       "5    [4.79785031131931e-16, 0.9999999403953552]   14152  -4.710529   8.636214   \n",
       "6   [6.733386092618032e-14, 0.9999999403953552]   21419 -17.467710  10.114816   \n",
       "7  [1.3924342056270689e-05, 0.9999859929084778]  143456  -2.006582   3.676577   \n",
       "8  [1.3694696463062428e-05, 0.9999862909317017]   40662  -4.446847  -0.014793   \n",
       "9    [0.9690614938735962, 0.030938537791371346]   77171   1.118560   1.291858   \n",
       "\n",
       "          V3         V4         V5        V6         V7        V8  ...  \\\n",
       "0  -5.458230   5.924850   3.932464 -3.085984  -1.677870  0.865075  ...   \n",
       "1  -5.164492   3.831112  -0.073622 -1.316596  -1.855495  0.831079  ...   \n",
       "2  -2.566981   4.127549  -1.628532 -0.805895  -3.390135  1.019353  ...   \n",
       "3  -0.748406   0.694992   0.418178  1.392520  -1.697801 -6.333065  ...   \n",
       "4  -2.338634  -0.475243  -1.185444 -2.112079  -2.122793  0.272565  ...   \n",
       "5 -15.496222  10.313349  -4.351341 -3.322689 -10.788373  5.060381  ...   \n",
       "6 -24.202142  11.805469 -10.198046 -2.579938 -17.656788  2.256902  ...   \n",
       "7  -5.463811   7.232058  -1.627859 -0.996755  -4.299833  2.268867  ...   \n",
       "8  -5.126307   6.945130   5.269255 -4.297177  -2.591242  0.342671  ...   \n",
       "9  -1.298805   2.135772   0.772204 -1.147291   0.390578 -0.107072  ...   \n",
       "\n",
       "        V23       V24       V25       V26       V27       V28  Amount  Class  \\\n",
       "0 -0.028752  0.025723 -0.825835 -0.013089  0.413291 -0.131387     0.0      1   \n",
       "1  0.187697  0.358433 -0.488934 -0.258802  0.296145 -0.047174     2.0      1   \n",
       "2 -0.143624  0.013566  0.634203  0.213693  0.773625  0.387434     5.0      1   \n",
       "3  0.459861 -1.051685  0.209178 -0.319859  0.015434 -0.050117     8.0      1   \n",
       "4 -1.114692  0.269069 -0.020572 -0.963489 -0.918888  0.001454    60.0      1   \n",
       "5  0.554408 -1.204042 -0.450685  0.641836  1.605958  0.721644     1.0      1   \n",
       "6  1.296817 -1.055104  0.111792  0.679695  2.093541 -1.425491     1.0      1   \n",
       "7  0.167947 -0.449864  0.023702  0.536905  0.485864 -0.042393     1.0      1   \n",
       "8 -0.226017 -0.401236  0.856124  0.661272  0.492560  0.971834     1.0      1   \n",
       "9 -0.102326  0.017911  0.650302 -0.332366  0.105949  0.128124     1.0      1   \n",
       "\n",
       "                         transaction_id  splits  \n",
       "0  a13daf1c-d562-4f9e-b3a4-ba0bfe58d6fa    TEST  \n",
       "1  ccbcb7b2-79be-4ad0-9b75-771f695ef69b    TEST  \n",
       "2  ba8d853c-0e20-4422-a9f0-03daa3b492e7    TEST  \n",
       "3  f390e04f-14f4-4c77-b18d-6adb8da79b54    TEST  \n",
       "4  37db7004-4459-48a3-8464-24c5ff19cc3b    TEST  \n",
       "5  5bb6c913-1486-4421-a791-f13511b24f1f    TEST  \n",
       "6  8922139c-c818-4d35-a996-7dc72d19216a    TEST  \n",
       "7  ebd4dc94-3c92-41c8-b158-88ea102a5c23    TEST  \n",
       "8  632895ce-64c7-4296-a638-ca415be392df    TEST  \n",
       "9  b17e46f7-9352-4bd0-91d4-4260be816363    TEST  \n",
       "\n",
       "[10 rows x 34 columns]"
      ]
     },
     "execution_count": 125,
     "metadata": {},
     "output_type": "execute_result"
    }
   ],
   "source": [
    "query = f'''\n",
    "SELECT *\n",
    "FROM ML.PREDICT(\n",
    "    MODEL `{PROJECT_ID}.{DATANAME}.{model.name}`, (\n",
    "        SELECT * \n",
    "        FROM {DATANAME}.{DATANAME}_prepped\n",
    "        WHERE splits='TEST' AND Class = 1\n",
    "        LIMIT 10\n",
    "    )\n",
    ")\n",
    "'''\n",
    "results = bq.query(query = query).to_dataframe()\n",
    "results"
   ]
  },
  {
   "cell_type": "markdown",
   "id": "ca8082e5-563b-449a-9c6b-1358bbbd7c63",
   "metadata": {},
   "source": [
    "---\n",
    "## Local Predictions: With TensorFlow ModelServer\n",
    "Locally run [TensorFlow Serving with Docker](https://www.tensorflow.org/tfx/serving/docker#serving_example)"
   ]
  },
  {
   "cell_type": "markdown",
   "id": "4f88a2ad-c75b-4b5b-841d-44d1efd393df",
   "metadata": {},
   "source": [
    "Locate the model files:"
   ]
  },
  {
   "cell_type": "code",
   "execution_count": 778,
   "id": "ba9c9c0e-9dec-4754-895d-dd91283f9fa2",
   "metadata": {},
   "outputs": [
    {
     "data": {
      "text/plain": [
       "'gs://statmike-mlops-349915/fraud/models/05i/20220728003419/18/model'"
      ]
     },
     "execution_count": 778,
     "metadata": {},
     "output_type": "execute_result"
    }
   ],
   "source": [
    "model.uri"
   ]
  },
  {
   "cell_type": "markdown",
   "id": "83b99660-4a96-4463-b724-b7eeaca741ad",
   "metadata": {},
   "source": [
    "Review the local directory for this notebook (created above):"
   ]
  },
  {
   "cell_type": "code",
   "execution_count": 779,
   "id": "bc35ebac-837d-4656-bcd9-f7998b126c60",
   "metadata": {},
   "outputs": [
    {
     "data": {
      "text/plain": [
       "'temp/05tools_1'"
      ]
     },
     "execution_count": 779,
     "metadata": {},
     "output_type": "execute_result"
    }
   ],
   "source": [
    "DIR"
   ]
  },
  {
   "cell_type": "code",
   "execution_count": 780,
   "id": "8d497daf-53cf-4003-9355-c17b2841098f",
   "metadata": {},
   "outputs": [
    {
     "name": "stdout",
     "output_type": "stream",
     "text": [
      "model  request.json\n"
     ]
    }
   ],
   "source": [
    "!ls {DIR}"
   ]
  },
  {
   "cell_type": "markdown",
   "id": "103cb7be-7830-404e-beea-24db19c1a603",
   "metadata": {},
   "source": [
    "Copy the model files to the local directory for this notebook:"
   ]
  },
  {
   "cell_type": "code",
   "execution_count": 711,
   "id": "9252373f-fa95-4ec5-8e0f-7e64004e7aad",
   "metadata": {},
   "outputs": [
    {
     "name": "stdout",
     "output_type": "stream",
     "text": [
      "Copying gs://statmike-mlops-349915/fraud/models/05i/20220728003419/18/model/saved_model.pb...\n",
      "/ [1 files][515.8 KiB/515.8 KiB]                                                \n",
      "==> NOTE: You are performing a sequence of gsutil operations that may\n",
      "run significantly faster if you instead use gsutil -m cp ... Please\n",
      "see the -m section under \"gsutil help options\" for further information\n",
      "about when gsutil -m can be advantageous.\n",
      "\n",
      "Copying gs://statmike-mlops-349915/fraud/models/05i/20220728003419/18/model/variables/variables.data-00000-of-00001...\n",
      "Copying gs://statmike-mlops-349915/fraud/models/05i/20220728003419/18/model/variables/variables.index...\n",
      "/ [3 files][526.5 KiB/526.5 KiB]                                                \n",
      "Operation completed over 3 objects/526.5 KiB.                                    \n"
     ]
    }
   ],
   "source": [
    "!gsutil cp -R {model.uri} {DIR}"
   ]
  },
  {
   "cell_type": "code",
   "execution_count": 712,
   "id": "28b5678b-86a0-4281-9112-ebbdfc8ed80e",
   "metadata": {},
   "outputs": [
    {
     "name": "stdout",
     "output_type": "stream",
     "text": [
      "model  request.json\n"
     ]
    }
   ],
   "source": [
    "!ls {DIR}"
   ]
  },
  {
   "cell_type": "code",
   "execution_count": 713,
   "id": "f1a19878-3b14-4a53-9bcc-3f60cfad67eb",
   "metadata": {},
   "outputs": [
    {
     "name": "stdout",
     "output_type": "stream",
     "text": [
      "saved_model.pb\tvariables\n"
     ]
    }
   ],
   "source": [
    "!ls {DIR}/model"
   ]
  },
  {
   "cell_type": "markdown",
   "id": "ea6c80c4-0a71-4177-9093-725c07e6ad21",
   "metadata": {},
   "source": [
    "### Load the Model and Review"
   ]
  },
  {
   "cell_type": "code",
   "execution_count": 782,
   "id": "53d72dcb-d9c1-4718-9e1f-f54cc078ad53",
   "metadata": {},
   "outputs": [],
   "source": [
    "reloaded_model = tf.saved_model.load(f'{DIR}/model')"
   ]
  },
  {
   "cell_type": "code",
   "execution_count": 783,
   "id": "ff39393d-1df2-4013-827c-e06472901c6e",
   "metadata": {},
   "outputs": [
    {
     "data": {
      "text/plain": [
       "_SignatureMap({'serving_default': <ConcreteFunction signature_wrapper(Amount, Time, V1, V10, V11, V12, V13, V14, V15, V16, V17, V18, V19, V2, V20, V21, V22, V23, V24, V25, V26, V27, V28, V3, V4, V5, V6, V7, V8, V9) at 0x7F6EA922DF10>})"
      ]
     },
     "execution_count": 783,
     "metadata": {},
     "output_type": "execute_result"
    }
   ],
   "source": [
    "reloaded_model.signatures"
   ]
  },
  {
   "cell_type": "code",
   "execution_count": 784,
   "id": "7d1f11a7-c54d-48f0-86b0-5e09b645fe74",
   "metadata": {},
   "outputs": [
    {
     "data": {
      "text/plain": [
       "<ConcreteFunction signature_wrapper(Amount, Time, V1, V10, V11, V12, V13, V14, V15, V16, V17, V18, V19, V2, V20, V21, V22, V23, V24, V25, V26, V27, V28, V3, V4, V5, V6, V7, V8, V9) at 0x7F6EA922DF10>"
      ]
     },
     "execution_count": 784,
     "metadata": {},
     "output_type": "execute_result"
    }
   ],
   "source": [
    "reloaded_model.signatures['serving_default']"
   ]
  },
  {
   "cell_type": "code",
   "execution_count": 785,
   "id": "77b85955-6d4a-469c-9972-1d27af69d2e2",
   "metadata": {},
   "outputs": [
    {
     "data": {
      "text/plain": [
       "((),\n",
       " {'V15': TensorSpec(shape=(None, 1), dtype=tf.float32, name='V15'),\n",
       "  'Time': TensorSpec(shape=(None, 1), dtype=tf.float32, name='Time'),\n",
       "  'Amount': TensorSpec(shape=(None, 1), dtype=tf.float32, name='Amount'),\n",
       "  'V24': TensorSpec(shape=(None, 1), dtype=tf.float32, name='V24'),\n",
       "  'V19': TensorSpec(shape=(None, 1), dtype=tf.float32, name='V19'),\n",
       "  'V23': TensorSpec(shape=(None, 1), dtype=tf.float32, name='V23'),\n",
       "  'V27': TensorSpec(shape=(None, 1), dtype=tf.float32, name='V27'),\n",
       "  'V20': TensorSpec(shape=(None, 1), dtype=tf.float32, name='V20'),\n",
       "  'V5': TensorSpec(shape=(None, 1), dtype=tf.float32, name='V5'),\n",
       "  'V6': TensorSpec(shape=(None, 1), dtype=tf.float32, name='V6'),\n",
       "  'V9': TensorSpec(shape=(None, 1), dtype=tf.float32, name='V9'),\n",
       "  'V28': TensorSpec(shape=(None, 1), dtype=tf.float32, name='V28'),\n",
       "  'V13': TensorSpec(shape=(None, 1), dtype=tf.float32, name='V13'),\n",
       "  'V18': TensorSpec(shape=(None, 1), dtype=tf.float32, name='V18'),\n",
       "  'V11': TensorSpec(shape=(None, 1), dtype=tf.float32, name='V11'),\n",
       "  'V3': TensorSpec(shape=(None, 1), dtype=tf.float32, name='V3'),\n",
       "  'V1': TensorSpec(shape=(None, 1), dtype=tf.float32, name='V1'),\n",
       "  'V25': TensorSpec(shape=(None, 1), dtype=tf.float32, name='V25'),\n",
       "  'V8': TensorSpec(shape=(None, 1), dtype=tf.float32, name='V8'),\n",
       "  'V4': TensorSpec(shape=(None, 1), dtype=tf.float32, name='V4'),\n",
       "  'V10': TensorSpec(shape=(None, 1), dtype=tf.float32, name='V10'),\n",
       "  'V26': TensorSpec(shape=(None, 1), dtype=tf.float32, name='V26'),\n",
       "  'V22': TensorSpec(shape=(None, 1), dtype=tf.float32, name='V22'),\n",
       "  'V16': TensorSpec(shape=(None, 1), dtype=tf.float32, name='V16'),\n",
       "  'V17': TensorSpec(shape=(None, 1), dtype=tf.float32, name='V17'),\n",
       "  'V2': TensorSpec(shape=(None, 1), dtype=tf.float32, name='V2'),\n",
       "  'V7': TensorSpec(shape=(None, 1), dtype=tf.float32, name='V7'),\n",
       "  'V14': TensorSpec(shape=(None, 1), dtype=tf.float32, name='V14'),\n",
       "  'V21': TensorSpec(shape=(None, 1), dtype=tf.float32, name='V21'),\n",
       "  'V12': TensorSpec(shape=(None, 1), dtype=tf.float32, name='V12')})"
      ]
     },
     "execution_count": 785,
     "metadata": {},
     "output_type": "execute_result"
    }
   ],
   "source": [
    "reloaded_model.signatures['serving_default'].structured_input_signature"
   ]
  },
  {
   "cell_type": "code",
   "execution_count": 786,
   "id": "34bba91d-f977-44db-801c-46e34251b6bb",
   "metadata": {},
   "outputs": [],
   "source": [
    "#!saved_model_cli show --dir {DIR}/model --all"
   ]
  },
  {
   "cell_type": "markdown",
   "id": "f06c1ec9-12b1-4513-be25-ce2cc80dc817",
   "metadata": {},
   "source": [
    "### Download Docker Image and Start Serving Container"
   ]
  },
  {
   "cell_type": "code",
   "execution_count": 787,
   "id": "39c563e0-ed67-42c1-b52d-478bb67608fd",
   "metadata": {},
   "outputs": [
    {
     "name": "stdout",
     "output_type": "stream",
     "text": [
      "Using default tag: latest\n",
      "latest: Pulling from tensorflow/serving\n",
      "Digest: sha256:6651f4839e1124dbde75ee531825112af0a6b8ef082c88ab14ca53eb69a2e4bb\n",
      "Status: Image is up to date for tensorflow/serving:latest\n",
      "docker.io/tensorflow/serving:latest\n"
     ]
    }
   ],
   "source": [
    "!docker pull tensorflow/serving"
   ]
  },
  {
   "cell_type": "code",
   "execution_count": 789,
   "id": "c7f1b327-7c09-4498-bc99-c473da69115b",
   "metadata": {},
   "outputs": [
    {
     "name": "stdout",
     "output_type": "stream",
     "text": [
      "docker run -t -p 8501:8501 -v \"/$(pwd)/temp/05tools_1/model:/models/fraud/1\" -e MODEL_NAME=fraud tensorflow/serving &\n",
      "\n"
     ]
    }
   ],
   "source": [
    "command = f'''docker run -t -p 8501:8501 \\\n",
    "-v \"/$(pwd)/{DIR}/model:/models/fraud/1\" \\\n",
    "-e MODEL_NAME=fraud \\\n",
    "tensorflow/serving &\n",
    "'''\n",
    "print(command)"
   ]
  },
  {
   "cell_type": "markdown",
   "id": "89c54f6c-405e-4ba4-bbdf-22c08f767b99",
   "metadata": {},
   "source": [
    "**Run the command above in a terminal at the local folder of this notebook:**"
   ]
  },
  {
   "cell_type": "code",
   "execution_count": 802,
   "id": "c4f09114-abe6-4d05-a71e-f33ddaa9dd38",
   "metadata": {},
   "outputs": [
    {
     "name": "stdout",
     "output_type": "stream",
     "text": [
      "/home/jupyter/vertex-ai-mlops\n"
     ]
    }
   ],
   "source": [
    "!pwd"
   ]
  },
  {
   "cell_type": "code",
   "execution_count": 845,
   "id": "ebc3947f-b0dd-4ef2-a86d-790c783ef21f",
   "metadata": {},
   "outputs": [
    {
     "name": "stdout",
     "output_type": "stream",
     "text": [
      "2022-08-01 10:57:08.531536: I tensorflow_serving/model_servers/server.cc:89] Building single TensorFlow model file config:  model_name: fraud model_base_path: /models/fraud\n",
      "2022-08-01 10:57:08.531887: I tensorflow_serving/model_servers/server_core.cc:465] Adding/updating models.\n",
      "2022-08-01 10:57:08.531927: I tensorflow_serving/model_servers/server_core.cc:591]  (Re-)adding model: fraud\n",
      "2022-08-01 10:57:08.632434: I tensorflow_serving/core/basic_manager.cc:740] Successfully reserved resources to load servable {name: fraud version: 1}\n",
      "2022-08-01 10:57:08.632484: I tensorflow_serving/core/loader_harness.cc:66] Approving load for servable version {name: fraud version: 1}\n",
      "2022-08-01 10:57:08.632501: I tensorflow_serving/core/loader_harness.cc:74] Loading servable version {name: fraud version: 1}\n",
      "2022-08-01 10:57:08.632565: I external/org_tensorflow/tensorflow/cc/saved_model/reader.cc:38] Reading SavedModel from: /models/fraud/1\n",
      "2022-08-01 10:57:08.647006: I external/org_tensorflow/tensorflow/cc/saved_model/reader.cc:90] Reading meta graph with tags { serve }\n",
      "2022-08-01 10:57:08.647090: I external/org_tensorflow/tensorflow/cc/saved_model/reader.cc:132] Reading SavedModel debug info (if present) from: /models/fraud/1\n",
      "2022-08-01 10:57:08.647245: I external/org_tensorflow/tensorflow/core/platform/cpu_feature_guard.cc:142] This TensorFlow binary is optimized with oneAPI Deep Neural Network Library (oneDNN) to use the following CPU instructions in performance-critical operations:  AVX2 FMA\n",
      "To enable them in other operations, rebuild TensorFlow with the appropriate compiler flags.\n",
      "2022-08-01 10:57:08.720501: I external/org_tensorflow/tensorflow/cc/saved_model/loader.cc:206] Restoring SavedModel bundle.\n",
      "2022-08-01 10:57:08.725978: I external/org_tensorflow/tensorflow/core/platform/profile_utils/cpu_utils.cc:114] CPU Frequency: 2299995000 Hz\n",
      "2022-08-01 10:57:08.777052: I external/org_tensorflow/tensorflow/cc/saved_model/loader.cc:190] Running initialization op on SavedModel bundle at path: /models/fraud/1\n",
      "2022-08-01 10:57:08.809098: I external/org_tensorflow/tensorflow/cc/saved_model/loader.cc:277] SavedModel load for tags { serve }; Status: success: OK. Took 176534 microseconds.\n",
      "2022-08-01 10:57:08.812666: I tensorflow_serving/servables/tensorflow/saved_model_warmup_util.cc:59] No warmup data file found at /models/fraud/1/assets.extra/tf_serving_warmup_requests\n",
      "2022-08-01 10:57:08.816488: I tensorflow_serving/core/loader_harness.cc:87] Successfully loaded servable version {name: fraud version: 1}\n",
      "2022-08-01 10:57:08.817863: I tensorflow_serving/model_servers/server_core.cc:486] Finished adding/updating models\n",
      "2022-08-01 10:57:08.817964: I tensorflow_serving/model_servers/server.cc:367] Profiler service is enabled\n",
      "2022-08-01 10:57:08.819768: I tensorflow_serving/model_servers/server.cc:393] Running gRPC ModelServer at 0.0.0.0:8500 ...\n",
      "[warn] getaddrinfo: address family for nodename not supported\n",
      "[evhttp_server.cc : 245] NET_LOG: Entering the event loop ...\n",
      "2022-08-01 10:57:08.821338: I tensorflow_serving/model_servers/server.cc:414] Exporting HTTP/REST API at:localhost:8501 ...\n"
     ]
    }
   ],
   "source": [
    "import multiprocessing\n",
    "\n",
    "def docker_runner():\n",
    "    !docker run -t -p 8501:8501 -v \"/$(pwd)/temp/05tools_1/model:/models/fraud/1\" -e MODEL_NAME=fraud tensorflow/serving\n",
    "\n",
    "def main():\n",
    "    p = multiprocessing.Process(target=docker_runner)\n",
    "    p.start()\n",
    "    return p\n",
    "    \n",
    "p = main()"
   ]
  },
  {
   "cell_type": "markdown",
   "id": "eb611eec-d0b9-4234-8778-4503f6548709",
   "metadata": {},
   "source": [
    "### Get Predictions on Exposed Port"
   ]
  },
  {
   "cell_type": "code",
   "execution_count": 846,
   "id": "9a2676ae-d3f0-47eb-9ab7-f98529a50abd",
   "metadata": {},
   "outputs": [],
   "source": [
    "import requests"
   ]
  },
  {
   "cell_type": "code",
   "execution_count": 847,
   "id": "fa3dbdd1-fff3-440d-9170-4f6f08ed6899",
   "metadata": {},
   "outputs": [],
   "source": [
    "headers = {\"content-type\": \"application/json\"}\n",
    "json_response = requests.post('http://localhost:8501/v1/models/fraud:predict', data=json.dumps({\"instances\": [newobs[0]]}), headers=headers)"
   ]
  },
  {
   "cell_type": "code",
   "execution_count": 848,
   "id": "93ea7e98-82e2-49c1-a508-6130e28d8c8c",
   "metadata": {},
   "outputs": [
    {
     "name": "stdout",
     "output_type": "stream",
     "text": [
      "{\n",
      "    \"predictions\": [[0.999275744, 0.000724321057]\n",
      "    ]\n",
      "}\n"
     ]
    }
   ],
   "source": [
    "print(json_response.text)"
   ]
  },
  {
   "cell_type": "code",
   "execution_count": 849,
   "id": "2e818c79-79ad-4b31-8342-5a752e9603eb",
   "metadata": {},
   "outputs": [
    {
     "data": {
      "text/plain": [
       "[[0.999275744, 0.000724321057]]"
      ]
     },
     "execution_count": 849,
     "metadata": {},
     "output_type": "execute_result"
    }
   ],
   "source": [
    "predictions = json.loads(json_response.text)['predictions']\n",
    "predictions"
   ]
  },
  {
   "cell_type": "code",
   "execution_count": 850,
   "id": "438c7238-c473-40ca-8175-536aba9a7c09",
   "metadata": {},
   "outputs": [
    {
     "data": {
      "text/plain": [
       "0"
      ]
     },
     "execution_count": 850,
     "metadata": {},
     "output_type": "execute_result"
    }
   ],
   "source": [
    "np.argmax(predictions[0])"
   ]
  },
  {
   "cell_type": "markdown",
   "id": "cf396d8e-ee68-43b1-81e1-3a15040d6802",
   "metadata": {},
   "source": [
    "### Shutdown TensorFlow Serving Container\n",
    "There are two entities running: a subprocess called `p` and a docker container that was run by the subprocess.  It is not enough to just stop `p` but it might be enough to stop the container and then the subprocess will terminate due to completion.  The command below stop the subprocess `p` and then stop and remove the container."
   ]
  },
  {
   "cell_type": "code",
   "execution_count": 851,
   "id": "e407fc32-3dba-4dcc-b088-a731ca31ad3f",
   "metadata": {},
   "outputs": [],
   "source": [
    "p.terminate()"
   ]
  },
  {
   "cell_type": "code",
   "execution_count": 852,
   "id": "6b4daa91-94c3-472a-8bd8-a19e3964f0ff",
   "metadata": {},
   "outputs": [
    {
     "data": {
      "text/plain": [
       "False"
      ]
     },
     "execution_count": 852,
     "metadata": {},
     "output_type": "execute_result"
    }
   ],
   "source": [
    "p.is_alive()"
   ]
  },
  {
   "cell_type": "code",
   "execution_count": 886,
   "id": "2b0798c1-9453-41df-80b4-073ed6ebe47e",
   "metadata": {},
   "outputs": [
    {
     "data": {
      "text/plain": [
       "['CONTAINER ID   IMAGE                                                                                     COMMAND                  CREATED         STATUS                     PORTS     NAMES',\n",
       " 'a687c0307781   us-central1-docker.pkg.dev/statmike-mlops-349915/statmike-mlops-349915/05tools_1:latest   \"/bin/sh -c \\'tensorf…\"   2 minutes ago   Exited (1) 2 minutes ago             angry_poincare',\n",
       " 'c5597c5a330a   gcr.io/inverting-proxy/agent                                                              \"/bin/sh -c \\'/opt/bi…\"   6 days ago      Up 6 days                            proxy-agent']"
      ]
     },
     "execution_count": 886,
     "metadata": {},
     "output_type": "execute_result"
    }
   ],
   "source": [
    "docker = !docker ps -a\n",
    "docker"
   ]
  },
  {
   "cell_type": "code",
   "execution_count": 887,
   "id": "443380f0-ba6a-47f4-b6ce-30dfa2ae894b",
   "metadata": {},
   "outputs": [],
   "source": [
    "for d in docker:\n",
    "    if 'tensorflow/serving' in d:\n",
    "        print(d.split()[-1])\n",
    "        !docker stop {d.split()[-1]}\n",
    "        !docker rm {d.split()[0]}"
   ]
  },
  {
   "cell_type": "code",
   "execution_count": 888,
   "id": "862f00f2-46a5-4da0-8b12-691d2537440f",
   "metadata": {},
   "outputs": [
    {
     "name": "stdout",
     "output_type": "stream",
     "text": [
      "CONTAINER ID   IMAGE                                                                                     COMMAND                  CREATED         STATUS                     PORTS     NAMES\n",
      "a687c0307781   us-central1-docker.pkg.dev/statmike-mlops-349915/statmike-mlops-349915/05tools_1:latest   \"/bin/sh -c 'tensorf…\"   2 minutes ago   Exited (1) 2 minutes ago             angry_poincare\n",
      "c5597c5a330a   gcr.io/inverting-proxy/agent                                                              \"/bin/sh -c '/opt/bi…\"   6 days ago      Up 6 days                            proxy-agent\n"
     ]
    }
   ],
   "source": [
    "!docker ps -a"
   ]
  },
  {
   "cell_type": "markdown",
   "id": "aba6c1a7-7453-4bb1-be32-3245925e66d0",
   "metadata": {},
   "source": [
    "---\n",
    "## Custom Serving With Cloud Run"
   ]
  },
  {
   "cell_type": "markdown",
   "id": "08c2d7bb-2d88-4f61-864e-604d3767b456",
   "metadata": {},
   "source": [
    "Locate the model files:"
   ]
  },
  {
   "cell_type": "code",
   "execution_count": 857,
   "id": "387b8bff-3dab-4c60-9f38-519723f7ca32",
   "metadata": {},
   "outputs": [
    {
     "data": {
      "text/plain": [
       "'gs://statmike-mlops-349915/fraud/models/05i/20220728003419/18/model'"
      ]
     },
     "execution_count": 857,
     "metadata": {},
     "output_type": "execute_result"
    }
   ],
   "source": [
    "model.uri"
   ]
  },
  {
   "cell_type": "markdown",
   "id": "779a8e73-232b-42b0-b1d4-30abb8d63dfd",
   "metadata": {},
   "source": [
    "Review the local directory for this notebook (created above):"
   ]
  },
  {
   "cell_type": "code",
   "execution_count": 858,
   "id": "dd14925f-75f7-47aa-8512-162f53e18f6d",
   "metadata": {},
   "outputs": [
    {
     "data": {
      "text/plain": [
       "'temp/05tools_1'"
      ]
     },
     "execution_count": 858,
     "metadata": {},
     "output_type": "execute_result"
    }
   ],
   "source": [
    "DIR"
   ]
  },
  {
   "cell_type": "code",
   "execution_count": 859,
   "id": "a3b5b739-ec9a-4a1a-bb81-8920cf764aec",
   "metadata": {},
   "outputs": [
    {
     "name": "stdout",
     "output_type": "stream",
     "text": [
      "model  request.json\n"
     ]
    }
   ],
   "source": [
    "!ls {DIR}"
   ]
  },
  {
   "cell_type": "markdown",
   "id": "dce9891b-7df5-4143-9db8-06f2387cb22c",
   "metadata": {},
   "source": [
    "Copy the model files to the local directory for this notebook:"
   ]
  },
  {
   "cell_type": "code",
   "execution_count": 860,
   "id": "448d5bdb-05f4-4164-bd0e-86bfe01bf1b2",
   "metadata": {},
   "outputs": [
    {
     "name": "stdout",
     "output_type": "stream",
     "text": [
      "Copying gs://statmike-mlops-349915/fraud/models/05i/20220728003419/18/model/saved_model.pb...\n",
      "/ [1 files][515.8 KiB/515.8 KiB]                                                \n",
      "==> NOTE: You are performing a sequence of gsutil operations that may\n",
      "run significantly faster if you instead use gsutil -m cp ... Please\n",
      "see the -m section under \"gsutil help options\" for further information\n",
      "about when gsutil -m can be advantageous.\n",
      "\n",
      "Copying gs://statmike-mlops-349915/fraud/models/05i/20220728003419/18/model/variables/variables.data-00000-of-00001...\n",
      "Copying gs://statmike-mlops-349915/fraud/models/05i/20220728003419/18/model/variables/variables.index...\n",
      "/ [3 files][526.5 KiB/526.5 KiB]                                                \n",
      "Operation completed over 3 objects/526.5 KiB.                                    \n"
     ]
    }
   ],
   "source": [
    "!gsutil cp -R {model.uri} {DIR}"
   ]
  },
  {
   "cell_type": "code",
   "execution_count": 861,
   "id": "583b72fb-8b74-41e0-b879-40f26109504d",
   "metadata": {},
   "outputs": [
    {
     "name": "stdout",
     "output_type": "stream",
     "text": [
      "model  request.json\n"
     ]
    }
   ],
   "source": [
    "!ls {DIR}"
   ]
  },
  {
   "cell_type": "code",
   "execution_count": 862,
   "id": "f25d29cf-08a6-4c67-a3d4-45267c27a1d9",
   "metadata": {},
   "outputs": [
    {
     "name": "stdout",
     "output_type": "stream",
     "text": [
      "saved_model.pb\tvariables\n"
     ]
    }
   ],
   "source": [
    "!ls {DIR}/model"
   ]
  },
  {
   "cell_type": "code",
   "execution_count": 877,
   "id": "d620cbe7-a61a-4330-ad4e-df8f1ee731c0",
   "metadata": {},
   "outputs": [],
   "source": [
    "dockerfile = f\"\"\"\n",
    "FROM ubuntu:xenial\n",
    "RUN apt update && \\\n",
    "apt-get install -y curl && \\\n",
    "echo \"deb http://storage.googleapis.com/tensorflow-serving-apt stable tensorflow-model-server tensorflow-model-server-universal\" | tee /etc/apt/sources.list.d/tensorflow-serving.list && \\\n",
    "curl https://storage.googleapis.com/tensorflow-serving-apt/tensorflow-serving.release.pub.gpg | apt-key add - && \\\n",
    "apt update && \\\n",
    "apt-get install tensorflow-model-server\n",
    "COPY ./* /models/tf_models/fraud/\n",
    "CMD tensorflow_model_server --port=8500 --rest_api_port=8501 --model_base_path=/models/tf_models --model_name=fraud\n",
    "\"\"\"\n",
    "with open(f'{DIR}/model/Dockerfile', 'w') as f:\n",
    "    f.write(dockerfile)"
   ]
  },
  {
   "cell_type": "code",
   "execution_count": 871,
   "id": "399b13a8-85a9-4c94-90e3-ecd691af324e",
   "metadata": {},
   "outputs": [
    {
     "name": "stdout",
     "output_type": "stream",
     "text": [
      "Dockerfile  saved_model.pb  variables\n"
     ]
    }
   ],
   "source": [
    "!ls {DIR}/model"
   ]
  },
  {
   "cell_type": "markdown",
   "id": "28dc9ab2-40ca-4fc2-afd3-7cdf390f1992",
   "metadata": {},
   "source": [
    "##### Enable Artifact Registry API:\n",
    "Check to see if the api is enabled, if not then enable it:"
   ]
  },
  {
   "cell_type": "code",
   "execution_count": 872,
   "id": "9eef0e97-4f38-4382-bd0c-2cc5fc3514f2",
   "metadata": {},
   "outputs": [
    {
     "name": "stdout",
     "output_type": "stream",
     "text": [
      "Artifact Registry is Enabled for This Project: statmike-mlops-349915\n"
     ]
    }
   ],
   "source": [
    "services = !gcloud services list --format=\"json\" --available --filter=name:artifactregistry.googleapis.com\n",
    "services = json.loads(\"\".join(services))\n",
    "\n",
    "if (services[0]['config']['name'] == 'artifactregistry.googleapis.com') & (services[0]['state'] == 'ENABLED'):\n",
    "    print(f\"Artifact Registry is Enabled for This Project: {PROJECT_ID}\")\n",
    "else:\n",
    "    print(f\"Enabeling Artifact Registry for this Project: {PROJECT_ID}\")\n",
    "    !gcloud services enable artifactregistry.googleapis.com"
   ]
  },
  {
   "cell_type": "markdown",
   "id": "45e2bb98-6238-48a3-a581-4d218453c776",
   "metadata": {},
   "source": [
    "##### Create A Repository\n",
    "Check to see if the registry is already created, if not then create it"
   ]
  },
  {
   "cell_type": "code",
   "execution_count": 873,
   "id": "fc008191-e76a-4b1e-a0d6-4a697dc5b458",
   "metadata": {},
   "outputs": [
    {
     "name": "stdout",
     "output_type": "stream",
     "text": [
      "There is already a repository named statmike-mlops-349915\n"
     ]
    }
   ],
   "source": [
    "check_for_repo = !gcloud artifacts repositories describe {PROJECT_ID} --location={REGION}\n",
    "\n",
    "if check_for_repo[0].startswith('ERROR'):\n",
    "    print(f'Creating a repository named {PROJECT_ID}')\n",
    "    !gcloud  artifacts repositories create {PROJECT_ID} --repository-format=docker --location={REGION} --description=\"Vertex AI Training Custom Containers\"\n",
    "else:\n",
    "    print(f'There is already a repository named {PROJECT_ID}')"
   ]
  },
  {
   "cell_type": "markdown",
   "id": "2e1c3f84-6840-4ee4-bc73-f25f8560e9ed",
   "metadata": {},
   "source": [
    "##### Configure Local Docker to Use GCLOUD CLI"
   ]
  },
  {
   "cell_type": "code",
   "execution_count": 874,
   "id": "05b33782-6716-4838-869b-9a11c5edf6ec",
   "metadata": {},
   "outputs": [
    {
     "name": "stdout",
     "output_type": "stream",
     "text": [
      "\u001b[1;33mWARNING:\u001b[0m Your config file at [/home/jupyter/.docker/config.json] contains these credential helper entries:\n",
      "\n",
      "{\n",
      "  \"credHelpers\": {\n",
      "    \"gcr.io\": \"gcloud\",\n",
      "    \"us.gcr.io\": \"gcloud\",\n",
      "    \"eu.gcr.io\": \"gcloud\",\n",
      "    \"asia.gcr.io\": \"gcloud\",\n",
      "    \"staging-k8s.gcr.io\": \"gcloud\",\n",
      "    \"marketplace.gcr.io\": \"gcloud\",\n",
      "    \"us-central1-docker.pkg.dev\": \"gcloud\"\n",
      "  }\n",
      "}\n",
      "Adding credentials for: us-central1-docker.pkg.dev\n",
      "gcloud credential helpers already registered correctly.\n"
     ]
    }
   ],
   "source": [
    "!gcloud auth configure-docker {REGION}-docker.pkg.dev --quiet"
   ]
  },
  {
   "cell_type": "markdown",
   "id": "fc8ab273-b1bc-4067-99f5-0bf966d4b28d",
   "metadata": {},
   "source": [
    "##### Build The Custom Container (local to notebook)"
   ]
  },
  {
   "cell_type": "code",
   "execution_count": 875,
   "id": "0de59851-e713-41a5-97b8-9c4a26fadf1a",
   "metadata": {},
   "outputs": [
    {
     "data": {
      "text/plain": [
       "'us-central1-docker.pkg.dev/statmike-mlops-349915/statmike-mlops-349915/05tools_1:latest'"
      ]
     },
     "execution_count": 875,
     "metadata": {},
     "output_type": "execute_result"
    }
   ],
   "source": [
    "IMAGE_URI=f\"{REGION}-docker.pkg.dev/{PROJECT_ID}/{PROJECT_ID}/{NOTEBOOK}:latest\"\n",
    "IMAGE_URI"
   ]
  },
  {
   "cell_type": "code",
   "execution_count": 878,
   "id": "e06ca456-b22a-46c7-b3d1-3bf60f1c3019",
   "metadata": {},
   "outputs": [
    {
     "name": "stdout",
     "output_type": "stream",
     "text": [
      "Sending build context to Docker daemon  544.3kB\n",
      "Step 1/4 : FROM ubuntu:xenial\n",
      " ---> b6f507652425\n",
      "Step 2/4 : RUN apt update && apt-get install -y curl && echo \"deb http://storage.googleapis.com/tensorflow-serving-apt stable tensorflow-model-server tensorflow-model-server-universal\" | tee /etc/apt/sources.list.d/tensorflow-serving.list && curl https://storage.googleapis.com/tensorflow-serving-apt/tensorflow-serving.release.pub.gpg | apt-key add - && apt update && apt-get install tensorflow-model-server\n",
      " ---> Using cache\n",
      " ---> 6e5dcd22c53d\n",
      "Step 3/4 : COPY ./* /models/tf_models/fraud/\n",
      " ---> 21b38101f25d\n",
      "Step 4/4 : CMD tensorflow_model_server --port=8500 --rest_api_port=8501 --model_base_path=/models/tf_models --model_name=fraud\n",
      " ---> Running in 0876e587c3b1\n",
      "Removing intermediate container 0876e587c3b1\n",
      " ---> 86b139a3dd59\n",
      "Successfully built 86b139a3dd59\n",
      "Successfully tagged us-central1-docker.pkg.dev/statmike-mlops-349915/statmike-mlops-349915/05tools_1:latest\n"
     ]
    }
   ],
   "source": [
    "!docker build {DIR}/model/. -t $IMAGE_URI"
   ]
  },
  {
   "cell_type": "code",
   "execution_count": 882,
   "id": "7f1091f5-0438-4ca5-bf5d-061c601b19a2",
   "metadata": {},
   "outputs": [
    {
     "name": "stdout",
     "output_type": "stream",
     "text": [
      "tensorflow_model_server: /lib/x86_64-linux-gnu/libc.so.6: version `GLIBC_2.28' not found (required by tensorflow_model_server)\n",
      "tensorflow_model_server: /usr/lib/x86_64-linux-gnu/libstdc++.so.6: version `GLIBCXX_3.4.26' not found (required by tensorflow_model_server)\n",
      "tensorflow_model_server: /usr/lib/x86_64-linux-gnu/libstdc++.so.6: version `GLIBCXX_3.4.22' not found (required by tensorflow_model_server)\n",
      "tensorflow_model_server: /usr/lib/x86_64-linux-gnu/libstdc++.so.6: version `CXXABI_1.3.11' not found (required by tensorflow_model_server)\n",
      "tensorflow_model_server: /lib/x86_64-linux-gnu/libm.so.6: version `GLIBC_2.27' not found (required by tensorflow_model_server)\n",
      "tensorflow_model_server: /lib/x86_64-linux-gnu/libm.so.6: version `GLIBC_2.29' not found (required by tensorflow_model_server)\n"
     ]
    }
   ],
   "source": [
    "!docker run {IMAGE_URI}"
   ]
  },
  {
   "cell_type": "code",
   "execution_count": 889,
   "id": "0f79a006-bc02-4fee-8e0f-d45188f7fd11",
   "metadata": {},
   "outputs": [
    {
     "name": "stdout",
     "output_type": "stream",
     "text": [
      "CONTAINER ID   IMAGE                                                                                     COMMAND                  CREATED         STATUS                     PORTS     NAMES\n",
      "a687c0307781   us-central1-docker.pkg.dev/statmike-mlops-349915/statmike-mlops-349915/05tools_1:latest   \"/bin/sh -c 'tensorf…\"   3 minutes ago   Exited (1) 3 minutes ago             angry_poincare\n",
      "c5597c5a330a   gcr.io/inverting-proxy/agent                                                              \"/bin/sh -c '/opt/bi…\"   6 days ago      Up 6 days                            proxy-agent\n"
     ]
    }
   ],
   "source": [
    "!docker ps -a"
   ]
  },
  {
   "cell_type": "code",
   "execution_count": 884,
   "id": "5a43cae6-6615-40a6-9cca-4147855c401a",
   "metadata": {},
   "outputs": [],
   "source": [
    "import requests"
   ]
  },
  {
   "cell_type": "code",
   "execution_count": null,
   "id": "fc1dc731-2f53-41b0-8c9e-e7f4b121b129",
   "metadata": {},
   "outputs": [],
   "source": [
    "headers = {\"content-type\": \"application/json\"}\n",
    "json_response = requests.post('http://localhost:8501/v1/models/fraud:predict', data=json.dumps({\"instances\": [newobs[0]]}), headers=headers)"
   ]
  },
  {
   "cell_type": "code",
   "execution_count": 848,
   "id": "e8afa61d-460e-4cf6-b340-8c5e4f08b31e",
   "metadata": {},
   "outputs": [
    {
     "name": "stdout",
     "output_type": "stream",
     "text": [
      "{\n",
      "    \"predictions\": [[0.999275744, 0.000724321057]\n",
      "    ]\n",
      "}\n"
     ]
    }
   ],
   "source": [
    "print(json_response.text)"
   ]
  },
  {
   "cell_type": "code",
   "execution_count": 849,
   "id": "86a76020-8082-41e3-8e5f-18f742b3a5a8",
   "metadata": {},
   "outputs": [
    {
     "data": {
      "text/plain": [
       "[[0.999275744, 0.000724321057]]"
      ]
     },
     "execution_count": 849,
     "metadata": {},
     "output_type": "execute_result"
    }
   ],
   "source": [
    "predictions = json.loads(json_response.text)['predictions']\n",
    "predictions"
   ]
  },
  {
   "cell_type": "code",
   "execution_count": 850,
   "id": "f0a6780d-e0c1-435d-8c34-5bc0ff09dbeb",
   "metadata": {},
   "outputs": [
    {
     "data": {
      "text/plain": [
       "0"
      ]
     },
     "execution_count": 850,
     "metadata": {},
     "output_type": "execute_result"
    }
   ],
   "source": [
    "np.argmax(predictions[0])"
   ]
  },
  {
   "cell_type": "code",
   "execution_count": 890,
   "id": "8bc70c64-8f14-4c03-a06b-cdf2d0d4ce49",
   "metadata": {},
   "outputs": [
    {
     "name": "stdout",
     "output_type": "stream",
     "text": [
      "CONTAINER ID   IMAGE                                                                                     COMMAND                  CREATED         STATUS                     PORTS     NAMES\n",
      "a687c0307781   us-central1-docker.pkg.dev/statmike-mlops-349915/statmike-mlops-349915/05tools_1:latest   \"/bin/sh -c 'tensorf…\"   3 minutes ago   Exited (1) 3 minutes ago             angry_poincare\n",
      "c5597c5a330a   gcr.io/inverting-proxy/agent                                                              \"/bin/sh -c '/opt/bi…\"   6 days ago      Up 6 days                            proxy-agent\n"
     ]
    }
   ],
   "source": [
    "!docker ps -a"
   ]
  },
  {
   "cell_type": "code",
   "execution_count": 891,
   "id": "51a11c60-c7ba-42bd-9324-d3d8dc865552",
   "metadata": {},
   "outputs": [
    {
     "name": "stdout",
     "output_type": "stream",
     "text": [
      "angry_poincare\n"
     ]
    }
   ],
   "source": [
    "!docker stop angry_poincare"
   ]
  },
  {
   "cell_type": "code",
   "execution_count": 892,
   "id": "66ba75cf-6cb7-4174-afd9-749de4f13a01",
   "metadata": {},
   "outputs": [
    {
     "name": "stdout",
     "output_type": "stream",
     "text": [
      "a687c0307781\n"
     ]
    }
   ],
   "source": [
    "!docker rm a687c0307781"
   ]
  },
  {
   "cell_type": "code",
   "execution_count": 893,
   "id": "fd079670-361a-4584-8b4f-d97a85439945",
   "metadata": {},
   "outputs": [
    {
     "name": "stdout",
     "output_type": "stream",
     "text": [
      "CONTAINER ID   IMAGE                          COMMAND                  CREATED      STATUS      PORTS     NAMES\n",
      "c5597c5a330a   gcr.io/inverting-proxy/agent   \"/bin/sh -c '/opt/bi…\"   6 days ago   Up 6 days             proxy-agent\n"
     ]
    }
   ],
   "source": [
    "!docker ps -a"
   ]
  },
  {
   "cell_type": "markdown",
   "id": "060df163-4970-461d-a486-69553955d670",
   "metadata": {},
   "source": [
    "##### Push The Container to The Repository"
   ]
  },
  {
   "cell_type": "code",
   "execution_count": 894,
   "id": "26254ae1-38db-4fe0-b400-a2acfe6b096d",
   "metadata": {},
   "outputs": [
    {
     "name": "stdout",
     "output_type": "stream",
     "text": [
      "The push refers to repository [us-central1-docker.pkg.dev/statmike-mlops-349915/statmike-mlops-349915/05tools_1]\n",
      "\n",
      "\u001b[1Be4f5d818: Preparing \n",
      "\u001b[1Beddc4901: Preparing \n",
      "\u001b[1B204ef8fc: Preparing \n",
      "\u001b[1B83afae74: Preparing \n",
      "\u001b[1Bc846128d: Preparing \n",
      "\u001b[5Beddc4901: Pushed   429.1MB/428.3MB\u001b[6A\u001b[2K\u001b[2A\u001b[2K\u001b[5A\u001b[2K\u001b[5A\u001b[2K\u001b[4A\u001b[2K\u001b[6A\u001b[2K\u001b[2A\u001b[2K\u001b[1A\u001b[2K\u001b[5A\u001b[2K\u001b[1A\u001b[2K\u001b[5A\u001b[2K\u001b[5A\u001b[2K\u001b[1A\u001b[2K\u001b[5A\u001b[2K\u001b[1A\u001b[2K\u001b[5A\u001b[2K\u001b[1A\u001b[2K\u001b[5A\u001b[2K\u001b[1A\u001b[2K\u001b[5A\u001b[2K\u001b[1A\u001b[2K\u001b[5A\u001b[2K\u001b[5A\u001b[2K\u001b[1A\u001b[2K\u001b[5A\u001b[2K\u001b[5A\u001b[2K\u001b[1A\u001b[2K\u001b[5A\u001b[2K\u001b[1A\u001b[2K\u001b[5A\u001b[2K\u001b[5A\u001b[2K\u001b[1A\u001b[2K\u001b[5A\u001b[2K\u001b[1A\u001b[2K\u001b[5A\u001b[2K\u001b[1A\u001b[2K\u001b[5A\u001b[2K\u001b[1A\u001b[2K\u001b[5A\u001b[2K\u001b[1A\u001b[2K\u001b[5A\u001b[2K\u001b[1A\u001b[2K\u001b[5A\u001b[2K\u001b[1A\u001b[2K\u001b[5A\u001b[2K\u001b[1A\u001b[2K\u001b[5A\u001b[2K\u001b[1A\u001b[2K\u001b[5A\u001b[2K\u001b[1A\u001b[2K\u001b[5A\u001b[2K\u001b[1A\u001b[2K\u001b[5A\u001b[2K\u001b[1A\u001b[2K\u001b[1A\u001b[2K\u001b[5A\u001b[2K\u001b[1A\u001b[2K\u001b[1A\u001b[2K\u001b[1A\u001b[2K\u001b[1A\u001b[2K\u001b[5A\u001b[2K\u001b[5A\u001b[2K\u001b[1A\u001b[2K\u001b[1A\u001b[2K\u001b[5A\u001b[2K\u001b[5A\u001b[2K\u001b[1A\u001b[2K\u001b[5A\u001b[2K\u001b[1A\u001b[2K\u001b[5A\u001b[2K\u001b[1A\u001b[2K\u001b[5A\u001b[2K\u001b[1A\u001b[2K\u001b[5A\u001b[2K\u001b[1A\u001b[2K\u001b[5A\u001b[2K\u001b[1A\u001b[2K\u001b[1A\u001b[2K\u001b[5A\u001b[2K\u001b[1A\u001b[2K\u001b[5A\u001b[2K\u001b[1A\u001b[2K\u001b[5A\u001b[2K\u001b[1A\u001b[2K\u001b[5A\u001b[2K\u001b[1A\u001b[2K\u001b[5A\u001b[2K\u001b[1A\u001b[2K\u001b[1A\u001b[2K\u001b[5A\u001b[2K\u001b[1A\u001b[2K\u001b[5A\u001b[2K\u001b[1A\u001b[2K\u001b[1A\u001b[2K\u001b[5A\u001b[2K\u001b[1A\u001b[2K\u001b[5A\u001b[2K\u001b[1A\u001b[2K\u001b[1A\u001b[2K\u001b[5A\u001b[2K\u001b[1A\u001b[2K\u001b[5A\u001b[2K\u001b[1A\u001b[2K\u001b[5A\u001b[2K\u001b[1A\u001b[2K\u001b[1A\u001b[2K\u001b[1A\u001b[2K\u001b[5A\u001b[2K\u001b[1A\u001b[2K\u001b[5A\u001b[2K\u001b[5A\u001b[2K\u001b[1A\u001b[2K\u001b[5A\u001b[2K\u001b[1A\u001b[2K\u001b[5A\u001b[2K\u001b[1A\u001b[2K\u001b[5A\u001b[2K\u001b[1A\u001b[2K\u001b[5A\u001b[2K\u001b[1A\u001b[2K\u001b[1A\u001b[2K\u001b[5A\u001b[2K\u001b[5A\u001b[2K\u001b[1A\u001b[2K\u001b[5A\u001b[2K\u001b[5A\u001b[2K\u001b[5A\u001b[2K\u001b[5A\u001b[2K\u001b[5A\u001b[2K\u001b[5A\u001b[2K\u001b[5A\u001b[2K\u001b[5A\u001b[2K\u001b[5A\u001b[2K\u001b[5A\u001b[2K\u001b[5A\u001b[2K\u001b[5A\u001b[2K\u001b[5A\u001b[2K\u001b[5A\u001b[2K\u001b[5A\u001b[2K\u001b[5A\u001b[2K\u001b[5A\u001b[2K\u001b[5A\u001b[2K\u001b[5A\u001b[2K\u001b[5A\u001b[2K\u001b[5A\u001b[2K\u001b[5A\u001b[2K\u001b[5A\u001b[2K\u001b[5A\u001b[2K\u001b[5A\u001b[2K\u001b[5A\u001b[2K\u001b[5A\u001b[2K\u001b[5A\u001b[2K\u001b[5A\u001b[2K\u001b[5A\u001b[2K\u001b[5A\u001b[2K\u001b[5A\u001b[2K\u001b[5A\u001b[2K\u001b[5A\u001b[2K\u001b[5A\u001b[2K\u001b[5A\u001b[2K\u001b[5A\u001b[2K\u001b[5A\u001b[2K\u001b[5A\u001b[2K\u001b[5A\u001b[2K\u001b[5A\u001b[2K\u001b[5A\u001b[2K\u001b[5A\u001b[2K\u001b[5A\u001b[2K\u001b[5A\u001b[2K\u001b[5A\u001b[2K\u001b[5A\u001b[2K\u001b[5A\u001b[2K\u001b[5A\u001b[2K\u001b[5A\u001b[2K\u001b[5A\u001b[2K\u001b[5A\u001b[2K\u001b[5A\u001b[2K\u001b[5A\u001b[2K\u001b[5A\u001b[2K\u001b[5A\u001b[2K\u001b[5A\u001b[2K\u001b[5A\u001b[2K\u001b[5A\u001b[2K\u001b[5A\u001b[2K\u001b[5A\u001b[2K\u001b[5A\u001b[2K\u001b[5A\u001b[2K\u001b[5A\u001b[2K\u001b[5A\u001b[2K\u001b[5A\u001b[2K\u001b[5A\u001b[2K\u001b[5A\u001b[2K\u001b[5A\u001b[2K\u001b[5A\u001b[2K\u001b[5A\u001b[2K\u001b[5A\u001b[2K\u001b[5A\u001b[2K\u001b[5A\u001b[2K\u001b[5A\u001b[2K\u001b[5A\u001b[2K\u001b[5A\u001b[2K\u001b[5A\u001b[2K\u001b[5A\u001b[2K\u001b[5A\u001b[2K\u001b[5A\u001b[2K\u001b[5A\u001b[2K\u001b[5A\u001b[2K\u001b[5A\u001b[2K\u001b[5A\u001b[2K\u001b[5A\u001b[2K\u001b[5A\u001b[2K\u001b[5A\u001b[2K\u001b[5A\u001b[2K\u001b[5A\u001b[2K\u001b[5A\u001b[2K\u001b[5A\u001b[2K\u001b[5A\u001b[2K\u001b[5A\u001b[2K\u001b[5A\u001b[2K\u001b[5A\u001b[2K\u001b[5A\u001b[2K\u001b[5A\u001b[2K\u001b[5A\u001b[2K\u001b[5A\u001b[2K\u001b[5A\u001b[2K\u001b[5A\u001b[2K\u001b[5A\u001b[2K\u001b[5A\u001b[2K\u001b[5A\u001b[2K\u001b[5A\u001b[2K\u001b[5A\u001b[2K\u001b[5A\u001b[2K\u001b[5A\u001b[2K\u001b[5A\u001b[2K\u001b[5A\u001b[2K\u001b[5A\u001b[2K\u001b[5A\u001b[2K\u001b[5A\u001b[2K\u001b[5A\u001b[2K\u001b[5A\u001b[2Klatest: digest: sha256:b0710a3dc451eca39307e4ab65909dc52348eeb9ae5d6d0f5ccc816071883d8b size: 1572\n"
     ]
    }
   ],
   "source": [
    "!docker push $IMAGE_URI"
   ]
  },
  {
   "cell_type": "code",
   "execution_count": 897,
   "id": "47676075-1f1c-4220-9a70-0291c63ff981",
   "metadata": {},
   "outputs": [
    {
     "name": "stdout",
     "output_type": "stream",
     "text": [
      "Enabeling Cloud Run for this Project: statmike-mlops-349915\n",
      "Operation \"operations/acf.p2-1026793852137-56adba46-76c7-46b9-957a-58e9b2fc7513\" finished successfully.\n"
     ]
    },
    {
     "name": "stderr",
     "output_type": "stream",
     "text": [
      "Process ForkPoolWorker-255:\n",
      "Process ForkPoolWorker-254:\n",
      "Traceback (most recent call last):\n",
      "Traceback (most recent call last):\n",
      "  File \"/opt/conda/lib/python3.7/multiprocessing/process.py\", line 297, in _bootstrap\n",
      "    self.run()\n",
      "  File \"/opt/conda/lib/python3.7/multiprocessing/process.py\", line 297, in _bootstrap\n",
      "    self.run()\n",
      "  File \"/opt/conda/lib/python3.7/multiprocessing/process.py\", line 99, in run\n",
      "    self._target(*self._args, **self._kwargs)\n",
      "  File \"/opt/conda/lib/python3.7/multiprocessing/process.py\", line 99, in run\n",
      "    self._target(*self._args, **self._kwargs)\n",
      "  File \"/opt/conda/lib/python3.7/multiprocessing/pool.py\", line 110, in worker\n",
      "    task = get()\n",
      "  File \"/opt/conda/lib/python3.7/multiprocessing/queues.py\", line 351, in get\n",
      "    with self._rlock:\n",
      "  File \"/opt/conda/lib/python3.7/multiprocessing/pool.py\", line 110, in worker\n",
      "    task = get()\n",
      "  File \"/opt/conda/lib/python3.7/multiprocessing/synchronize.py\", line 95, in __enter__\n",
      "    return self._semlock.__enter__()\n",
      "KeyboardInterrupt\n",
      "  File \"/opt/conda/lib/python3.7/multiprocessing/queues.py\", line 351, in get\n",
      "    with self._rlock:\n",
      "  File \"/opt/conda/lib/python3.7/multiprocessing/synchronize.py\", line 95, in __enter__\n",
      "    return self._semlock.__enter__()\n",
      "KeyboardInterrupt\n"
     ]
    }
   ],
   "source": [
    "services = !gcloud services list --format=\"json\" --available --filter=name:run.googleapis.com\n",
    "services = json.loads(\"\".join(services))\n",
    "\n",
    "if (services[0]['config']['name'] == 'run.googleapis.com') & (services[0]['state'] == 'ENABLED'):\n",
    "    print(f\"Cloud Run is Enabled for This Project: {PROJECT_ID}\")\n",
    "else:\n",
    "    print(f\"Enabeling Cloud Run for this Project: {PROJECT_ID}\")\n",
    "    !gcloud services enable run.googleapis.com"
   ]
  },
  {
   "cell_type": "code",
   "execution_count": 902,
   "id": "7c7d4c59-6703-4762-b645-5f7251f5cb9f",
   "metadata": {},
   "outputs": [
    {
     "name": "stdout",
     "output_type": "stream",
     "text": [
      "Deploying container to Cloud Run service [\u001b[1mendpoint-05-fraud\u001b[m] in project [\u001b[1mstatmike-mlops-349915\u001b[m] region [\u001b[1mus-central1\u001b[m]\n",
      "Deploying new service...                                                       \n",
      "  . Creating Revision...                                                       \n",
      "  . Routing traffic...                                                         \n",
      "  Deploying new service...                                                     \n",
      "\n",
      "\n",
      "⠛ Deploying new service...                                                     \n",
      "\n",
      "\n",
      "⠹ Deploying new service...                                                     \n",
      "\n",
      "\n",
      "⠼ Deploying new service...                                                     \n",
      "\n",
      "\n",
      "⠶ Deploying new service...                                                     \n",
      "\n",
      "\n",
      "⠧ Deploying new service...                                                     \n",
      "  ⠧ Creating Revision...                                                       \n",
      "\n",
      "⠏ Deploying new service...                                                     \n",
      "  ⠏ Creating Revision...                                                       \n",
      "\n",
      "⠛ Deploying new service...                                                     \n",
      "  ⠛ Creating Revision...                                                       \n",
      "\n",
      "⠹ Deploying new service...                                                     \n",
      "  ⠹ Creating Revision...                                                       \n",
      "\n",
      "⠼ Deploying new service...                                                     \n",
      "  ⠼ Creating Revision...                                                       \n",
      "\n",
      "⠶ Deploying new service...                                                     \n",
      "  ⠶ Creating Revision...                                                       \n",
      "\n",
      "⠧ Deploying new service...                                                     \n",
      "  ⠧ Creating Revision...                                                       \n",
      "\n",
      "⠏ Deploying new service...                                                     \n",
      "  ⠏ Creating Revision...                                                       \n",
      "\n",
      "⠛ Deploying new service...                                                     \n",
      "  ⠛ Creating Revision...                                                       \n",
      "\n",
      "⠹ Deploying new service...                                                     \n",
      "  ⠹ Creating Revision...                                                       \n",
      "\n",
      "⠼ Deploying new service...                                                     \n",
      "  ⠼ Creating Revision...                                                       \n",
      "\n",
      "⠶ Deploying new service...                                                     \n",
      "  ⠶ Creating Revision...                                                       \n",
      "\n",
      "⠧ Deploying new service...                                                     \n",
      "  ⠧ Creating Revision...                                                       \n",
      "\n",
      "⠏ Deploying new service...                                                     \n",
      "  ⠏ Creating Revision...                                                       \n",
      "\n",
      "⠛ Deploying new service... Initializing project for the current region.        \n",
      "  ⠛ Creating Revision...                                                       \n",
      "\n",
      "⠹ Deploying new service... Initializing project for the current region.        \n",
      "  ⠹ Creating Revision...                                                       \n",
      "\n",
      "⠼ Deploying new service... Initializing project for the current region.        \n",
      "  ⠼ Creating Revision...                                                       \n",
      "\n",
      "⠶ Deploying new service... Initializing project for the current region.        \n",
      "  ⠶ Creating Revision...                                                       \n",
      "\n",
      "⠧ Deploying new service... Initializing project for the current region.        \n",
      "  ⠧ Creating Revision...                                                       \n",
      "\n",
      "⠏ Deploying new service... Initializing project for the current region.        \n",
      "  ⠏ Creating Revision...                                                       \n",
      "\n",
      "⠛ Deploying new service... Initializing project for the current region.        \n",
      "  ⠛ Creating Revision...                                                       \n",
      "\n",
      "⠹ Deploying new service... Initializing project for the current region.        \n",
      "  ⠹ Creating Revision...                                                       \n",
      "\n",
      "⠼ Deploying new service... Initializing project for the current region.        \n",
      "  ⠼ Creating Revision...                                                       \n",
      "\n",
      "⠶ Deploying new service... Initializing project for the current region.        \n",
      "  ⠶ Creating Revision...                                                       \n",
      "\n",
      "⠧ Deploying new service... Initializing project for the current region.        \n",
      "  ⠧ Creating Revision...                                                       \n",
      "\n",
      "⠏ Deploying new service... Initializing project for the current region.        \n",
      "  ⠏ Creating Revision...                                                       \n",
      "\n",
      "⠛ Deploying new service... Initializing project for the current region.        \n",
      "  ⠛ Creating Revision...                                                       \n",
      "\n",
      "⠹ Deploying new service... Initializing project for the current region.        \n",
      "  ⠹ Creating Revision...                                                       \n",
      "\n",
      "⠼ Deploying new service... Initializing project for the current region.        \n",
      "  ⠼ Creating Revision...                                                       \n",
      "\n",
      "⠶ Deploying new service... Initializing project for the current region.        \n",
      "  ⠶ Creating Revision...                                                       \n",
      "\n",
      "⠧ Deploying new service... Initializing project for the current region.        \n",
      "  ⠧ Creating Revision...                                                       \n",
      "\n",
      "⠏ Deploying new service... Initializing project for the current region.        \n",
      "  ⠏ Creating Revision...                                                       \n",
      "\n",
      "⠛ Deploying new service... Initializing project for the current region.        \n",
      "  ⠛ Creating Revision...                                                       \n",
      "\n",
      "⠹ Deploying new service... Initializing project for the current region.        \n",
      "  ⠹ Creating Revision...                                                       \n",
      "\n",
      "⠼ Deploying new service... Initializing project for the current region.        \n",
      "  ⠼ Creating Revision...                                                       \n",
      "\n",
      "⠶ Deploying new service... Initializing project for the current region.        \n",
      "  ⠶ Creating Revision...                                                       \n",
      "\n",
      "⠧ Deploying new service... Initializing project for the current region.        \n",
      "  ⠧ Creating Revision...                                                       \n",
      "\n",
      "⠏ Deploying new service... Initializing project for the current region.        \n",
      "  ⠏ Creating Revision...                                                       \n",
      "\n",
      "⠛ Deploying new service... Initializing project for the current region.        \n",
      "  ⠛ Creating Revision...                                                       \n",
      "\n",
      "⠹ Deploying new service... Initializing project for the current region.        \n",
      "  ⠹ Creating Revision...                                                       \n",
      "\n",
      "⠼ Deploying new service... Initializing project for the current region.        \n",
      "  ⠼ Creating Revision...                                                       \n",
      "\n",
      "⠶ Deploying new service... Initializing project for the current region.        \n",
      "  ⠶ Creating Revision...                                                       \n",
      "\n",
      "⠧ Deploying new service... Initializing project for the current region.        \n",
      "  ⠧ Creating Revision...                                                       \n",
      "\n",
      "⠏ Deploying new service... Initializing project for the current region.        \n",
      "  ⠏ Creating Revision...                                                       \n",
      "\n",
      "⠛ Deploying new service... Initializing project for the current region.        \n",
      "  ⠛ Creating Revision...                                                       \n",
      "\n",
      "⠹ Deploying new service... Initializing project for the current region.        \n",
      "  ⠹ Creating Revision...                                                       \n",
      "\n",
      "⠼ Deploying new service... Initializing project for the current region.        \n",
      "  ⠼ Creating Revision...                                                       \n",
      "\n",
      "⠶ Deploying new service... Initializing project for the current region.        \n",
      "  ⠶ Creating Revision...                                                       \n",
      "\n",
      "⠧ Deploying new service... Initializing project for the current region.        \n",
      "  ⠧ Creating Revision...                                                       \n",
      "\n",
      "⠏ Deploying new service... Initializing project for the current region.        \n",
      "  ⠏ Creating Revision...                                                       \n",
      "\n",
      "⠛ Deploying new service... Initializing project for the current region.        \n",
      "  ⠛ Creating Revision...                                                       \n",
      "\n",
      "⠹ Deploying new service... Initializing project for the current region.        \n",
      "  ⠹ Creating Revision...                                                       \n",
      "\n",
      "⠼ Deploying new service... Initializing project for the current region.        \n",
      "  ⠼ Creating Revision...                                                       \n",
      "\n",
      "⠶ Deploying new service... Initializing project for the current region.        \n",
      "  ⠶ Creating Revision...                                                       \n",
      "\n",
      "⠧ Deploying new service... Initializing project for the current region.        \n",
      "  ⠧ Creating Revision...                                                       \n",
      "\n",
      "⠏ Deploying new service... Initializing project for the current region.        \n",
      "  ⠏ Creating Revision...                                                       \n",
      "\n",
      "⠛ Deploying new service... Initializing project for the current region.        \n",
      "  ⠛ Creating Revision...                                                       \n",
      "\n",
      "⠹ Deploying new service... Initializing project for the current region.        \n",
      "  ⠹ Creating Revision...                                                       \n",
      "\n",
      "⠼ Deploying new service... Initializing project for the current region.        \n",
      "  ⠼ Creating Revision...                                                       \n",
      "\n",
      "⠶ Deploying new service... Initializing project for the current region.        \n",
      "  ⠶ Creating Revision...                                                       \n",
      "\n",
      "⠧ Deploying new service... Initializing project for the current region.        \n",
      "  ⠧ Creating Revision...                                                       \n",
      "\n",
      "⠏ Deploying new service... Initializing project for the current region.        \n",
      "  ⠏ Creating Revision...                                                       \n",
      "\n",
      "⠛ Deploying new service... Initializing project for the current region.        \n",
      "  ⠛ Creating Revision...                                                       \n",
      "\n",
      "⠹ Deploying new service... Initializing project for the current region.        \n",
      "  ⠹ Creating Revision...                                                       \n",
      "\n",
      "⠼ Deploying new service... Initializing project for the current region.        \n",
      "  ⠼ Creating Revision...                                                       \n",
      "\n",
      "⠶ Deploying new service... Initializing project for the current region.        \n",
      "  ⠶ Creating Revision...                                                       \n",
      "\n",
      "⠧ Deploying new service... Initializing project for the current region.        \n",
      "  ⠧ Creating Revision...                                                       \n",
      "\n",
      "⠏ Deploying new service... Initializing project for the current region.        \n",
      "  ⠏ Creating Revision...                                                       \n",
      "\n",
      "⠛ Deploying new service... Initializing project for the current region.        \n",
      "  ⠛ Creating Revision...                                                       \n",
      "\n",
      "⠹ Deploying new service... Initializing project for the current region.        \n",
      "  ⠹ Creating Revision...                                                       \n",
      "\n",
      "⠼ Deploying new service... Initializing project for the current region.        \n",
      "  ⠼ Creating Revision...                                                       \n",
      "\n",
      "⠶ Deploying new service... Initializing project for the current region.        \n",
      "  ⠶ Creating Revision...                                                       \n",
      "\n",
      "⠧ Deploying new service... Initializing project for the current region.        \n",
      "  ⠧ Creating Revision...                                                       \n",
      "\n",
      "⠏ Deploying new service... Initializing project for the current region.        \n",
      "  ⠏ Creating Revision...                                                       \n",
      "\n",
      "⠛ Deploying new service... Initializing project for the current region.        \n",
      "  ⠛ Creating Revision...                                                       \n",
      "\n",
      "⠹ Deploying new service... Initializing project for the current region.        \n",
      "  ⠹ Creating Revision...                                                       \n",
      "\n",
      "⠼ Deploying new service... Initializing project for the current region.        \n",
      "  ⠼ Creating Revision...                                                       \n",
      "\n",
      "⠶ Deploying new service... Initializing project for the current region.        \n",
      "  ⠶ Creating Revision...                                                       \n",
      "\n",
      "⠧ Deploying new service... Initializing project for the current region.        \n",
      "  ⠧ Creating Revision...                                                       \n",
      "\n",
      "⠏ Deploying new service... Initializing project for the current region.        \n",
      "  ⠏ Creating Revision...                                                       \n",
      "\n",
      "⠛ Deploying new service... Initializing project for the current region.        \n",
      "  ⠛ Creating Revision...                                                       \n",
      "\n",
      "⠹ Deploying new service... Initializing project for the current region.        \n",
      "  ⠹ Creating Revision...                                                       \n",
      "\n",
      "⠼ Deploying new service... Initializing project for the current region.        \n",
      "  ⠼ Creating Revision...                                                       \n",
      "\n",
      "⠶ Deploying new service... Initializing project for the current region.        \n",
      "  ⠶ Creating Revision...                                                       \n",
      "\n",
      "⠧ Deploying new service... Initializing project for the current region.        \n",
      "  ⠧ Creating Revision...                                                       \n",
      "\n",
      "⠏ Deploying new service... Initializing project for the current region.        \n",
      "  ⠏ Creating Revision...                                                       \n",
      "\n",
      "⠛ Deploying new service... Initializing project for the current region.        \n",
      "  ⠛ Creating Revision...                                                       \n",
      "\n",
      "⠹ Deploying new service... Initializing project for the current region.        \n",
      "  ⠹ Creating Revision...                                                       \n",
      "\n",
      "⠼ Deploying new service... Initializing project for the current region.        \n",
      "  ⠼ Creating Revision...                                                       \n",
      "\n",
      "⠶ Deploying new service... Initializing project for the current region.        \n",
      "  ⠶ Creating Revision...                                                       \n",
      "\n",
      "⠧ Deploying new service... Initializing project for the current region.        \n",
      "  ⠧ Creating Revision...                                                       \n",
      "\n",
      "⠏ Deploying new service... Initializing project for the current region.        \n",
      "  ⠏ Creating Revision...                                                       \n",
      "\n",
      "⠛ Deploying new service... Initializing project for the current region.        \n",
      "  ⠛ Creating Revision...                                                       \n",
      "\n",
      "⠹ Deploying new service... Initializing project for the current region.        \n",
      "  ⠹ Creating Revision...                                                       \n",
      "\n",
      "⠼ Deploying new service... Initializing project for the current region.        \n",
      "  ⠼ Creating Revision...                                                       \n",
      "\n",
      "⠶ Deploying new service... Initializing project for the current region.        \n",
      "  ⠶ Creating Revision...                                                       \n",
      "\n",
      "⠧ Deploying new service... Initializing project for the current region.        \n",
      "  ⠧ Creating Revision...                                                       \n",
      "\n",
      "⠏ Deploying new service... Initializing project for the current region.        \n",
      "  ⠏ Creating Revision...                                                       \n",
      "\n",
      "⠛ Deploying new service... Initializing project for the current region.        \n",
      "  ⠛ Creating Revision...                                                       \n",
      "\n",
      "⠹ Deploying new service... Initializing project for the current region.        \n",
      "  ⠹ Creating Revision...                                                       \n",
      "\n",
      "⠼ Deploying new service... Initializing project for the current region.        \n",
      "  ⠼ Creating Revision...                                                       \n",
      "\n",
      "⠶ Deploying new service... Initializing project for the current region.        \n",
      "  ⠶ Creating Revision...                                                       \n",
      "\n",
      "⠧ Deploying new service... Initializing project for the current region.        \n",
      "  ⠧ Creating Revision...                                                       \n",
      "\n",
      "⠏ Deploying new service... Initializing project for the current region.        \n",
      "  ⠏ Creating Revision...                                                       \n",
      "\n",
      "⠛ Deploying new service... Initializing project for the current region.        \n",
      "  ⠛ Creating Revision...                                                       \n",
      "\n",
      "⠹ Deploying new service... Initializing project for the current region.        \n",
      "  ⠹ Creating Revision...                                                       \n",
      "\n",
      "⠼ Deploying new service... Initializing project for the current region.        \n",
      "  ⠼ Creating Revision...                                                       \n",
      "\n",
      "⠶ Deploying new service... Initializing project for the current region.        \n",
      "  ⠶ Creating Revision...                                                       \n",
      "\n",
      "⠧ Deploying new service... Initializing project for the current region.        \n",
      "  ⠧ Creating Revision...                                                       \n",
      "\n",
      "⠏ Deploying new service... Initializing project for the current region.        \n",
      "  ⠏ Creating Revision...                                                       \n",
      "\n",
      "⠛ Deploying new service... Initializing project for the current region.        \n",
      "  ⠛ Creating Revision...                                                       \n",
      "\n",
      "⠹ Deploying new service... Initializing project for the current region.        \n",
      "  ⠹ Creating Revision...                                                       \n",
      "\n",
      "⠼ Deploying new service... Initializing project for the current region.        \n",
      "  ⠼ Creating Revision...                                                       \n",
      "\n",
      "⠶ Deploying new service... Initializing project for the current region.        \n",
      "  ⠶ Creating Revision...                                                       \n",
      "\n",
      "⠧ Deploying new service... Initializing project for the current region.        \n",
      "  ⠧ Creating Revision...                                                       \n",
      "\n",
      "⠏ Deploying new service... Initializing project for the current region.        \n",
      "  ⠏ Creating Revision...                                                       \n",
      "\n",
      "⠛ Deploying new service... Initializing project for the current region.        \n",
      "  ⠛ Creating Revision...                                                       \n",
      "\n",
      "⠹ Deploying new service... Initializing project for the current region.        \n",
      "  ⠹ Creating Revision...                                                       \n",
      "\n",
      "⠼ Deploying new service... Initializing project for the current region.        \n",
      "  ⠼ Creating Revision...                                                       \n",
      "\n",
      "⠶ Deploying new service... Initializing project for the current region.        \n",
      "  ⠶ Creating Revision...                                                       \n",
      "\n",
      "⠧ Deploying new service... Initializing project for the current region.        \n",
      "  ⠧ Creating Revision...                                                       \n",
      "\n",
      "⠏ Deploying new service... Initializing project for the current region.        \n",
      "  ⠏ Creating Revision...                                                       \n",
      "\n",
      "⠛ Deploying new service... Initializing project for the current region.        \n",
      "  ⠛ Creating Revision...                                                       \n",
      "\n",
      "⠹ Deploying new service... Initializing project for the current region.        \n",
      "  ⠹ Creating Revision...                                                       \n",
      "\n",
      "⠼ Deploying new service... Initializing project for the current region.        \n",
      "  ⠼ Creating Revision...                                                       \n",
      "\n",
      "⠶ Deploying new service... Initializing project for the current region.        \n",
      "  ⠶ Creating Revision...                                                       \n",
      "\n",
      "⠧ Deploying new service... Initializing project for the current region.        \n",
      "  ⠧ Creating Revision...                                                       \n",
      "\n",
      "⠏ Deploying new service... Initializing project for the current region.        \n",
      "  ⠏ Creating Revision...                                                       \n",
      "\n",
      "⠛ Deploying new service... Initializing project for the current region.        \n",
      "  ⠛ Creating Revision...                                                       \n",
      "\n",
      "⠹ Deploying new service... Initializing project for the current region.        \n",
      "  ⠹ Creating Revision...                                                       \n",
      "\n",
      "⠼ Deploying new service... Initializing project for the current region.        \n",
      "  ⠼ Creating Revision...                                                       \n",
      "\n",
      "⠶ Deploying new service... Initializing project for the current region.        \n",
      "  ⠶ Creating Revision...                                                       \n",
      "\n",
      "⠧ Deploying new service... Initializing project for the current region.        \n",
      "  ⠧ Creating Revision...                                                       \n",
      "\n",
      "⠏ Deploying new service... Initializing project for the current region.        \n",
      "  ⠏ Creating Revision...                                                       \n",
      "\n",
      "⠛ Deploying new service... Initializing project for the current region.        \n",
      "  ⠛ Creating Revision...                                                       \n",
      "\n",
      "⠹ Deploying new service... Initializing project for the current region.        \n",
      "  ⠹ Creating Revision...                                                       \n",
      "\n",
      "⠼ Deploying new service... Initializing project for the current region.        \n",
      "  ⠼ Creating Revision...                                                       \n",
      "\n",
      "⠶ Deploying new service... Initializing project for the current region.        \n",
      "  ⠶ Creating Revision...                                                       \n",
      "\n",
      "⠧ Deploying new service... Initializing project for the current region.        \n",
      "  ⠧ Creating Revision...                                                       \n",
      "\n",
      "⠏ Deploying new service... Initializing project for the current region.        \n",
      "  ⠏ Creating Revision...                                                       \n",
      "\n",
      "⠛ Deploying new service... Initializing project for the current region.        \n",
      "  ⠛ Creating Revision...                                                       \n",
      "\n",
      "⠹ Deploying new service... Initializing project for the current region.        \n",
      "  ⠹ Creating Revision...                                                       \n",
      "\n",
      "⠼ Deploying new service... Initializing project for the current region.        \n",
      "  ⠼ Creating Revision...                                                       \n",
      "\n",
      "⠶ Deploying new service... Initializing project for the current region.        \n",
      "  ⠶ Creating Revision...                                                       \n",
      "\n",
      "⠧ Deploying new service... Initializing project for the current region.        \n",
      "  ⠧ Creating Revision...                                                       \n",
      "\n",
      "⠏ Deploying new service... Initializing project for the current region.        \n",
      "  ⠏ Creating Revision...                                                       \n",
      "\n",
      "⠛ Deploying new service... Initializing project for the current region.        \n",
      "  ⠛ Creating Revision...                                                       \n",
      "\n",
      "⠹ Deploying new service... Initializing project for the current region.        \n",
      "  ⠹ Creating Revision...                                                       \n",
      "\n",
      "⠼ Deploying new service... Initializing project for the current region.        \n",
      "  ⠼ Creating Revision...                                                       \n",
      "\n",
      "⠶ Deploying new service... Initializing project for the current region.        \n",
      "  ⠶ Creating Revision...                                                       \n",
      "\n",
      "⠧ Deploying new service... Initializing project for the current region.        \n",
      "  ⠧ Creating Revision...                                                       \n",
      "\n",
      "⠏ Deploying new service... Initializing project for the current region.        \n",
      "  ⠏ Creating Revision...                                                       \n",
      "\n",
      "⠛ Deploying new service... Initializing project for the current region.        \n",
      "  ⠛ Creating Revision...                                                       \n",
      "\n",
      "⠹ Deploying new service... Initializing project for the current region.        \n",
      "  ⠹ Creating Revision...                                                       \n",
      "\n",
      "⠼ Deploying new service... Initializing project for the current region.        \n",
      "  ⠼ Creating Revision...                                                       \n",
      "\n",
      "⠶ Deploying new service... Initializing project for the current region.        \n",
      "  ⠶ Creating Revision...                                                       \n",
      "\n",
      "⠧ Deploying new service... Initializing project for the current region.        \n",
      "  ⠧ Creating Revision...                                                       \n",
      "\n",
      "⠏ Deploying new service... Initializing project for the current region.        \n",
      "  ⠏ Creating Revision...                                                       \n",
      "\n",
      "⠛ Deploying new service... Initializing project for the current region.        \n",
      "  ⠛ Creating Revision...                                                       \n",
      "\n",
      "⠹ Deploying new service... Initializing project for the current region.        \n",
      "  ⠹ Creating Revision...                                                       \n",
      "\n",
      "⠼ Deploying new service... Initializing project for the current region.        \n",
      "  ⠼ Creating Revision...                                                       \n",
      "\n",
      "⠶ Deploying new service... Initializing project for the current region.        \n",
      "  ⠶ Creating Revision...                                                       \n",
      "\n",
      "⠧ Deploying new service... Initializing project for the current region.        \n",
      "  ⠧ Creating Revision...                                                       \n",
      "\n",
      "⠏ Deploying new service... Initializing project for the current region.        \n",
      "  ⠏ Creating Revision...                                                       \n",
      "\n",
      "⠛ Deploying new service... Initializing project for the current region.        \n",
      "  ⠛ Creating Revision...                                                       \n",
      "\n",
      "⠹ Deploying new service... Initializing project for the current region.        \n",
      "  ⠹ Creating Revision...                                                       \n",
      "\n",
      "⠼ Deploying new service... Initializing project for the current region.        \n",
      "  ⠼ Creating Revision...                                                       \n",
      "\n",
      "⠶ Deploying new service... Initializing project for the current region.        \n",
      "  ⠶ Creating Revision...                                                       \n",
      "\n",
      "⠧ Deploying new service... Initializing project for the current region.        \n",
      "  ⠧ Creating Revision...                                                       \n",
      "\n",
      "⠏ Deploying new service... Initializing project for the current region.        \n",
      "  ⠏ Creating Revision...                                                       \n",
      "\n",
      "⠛ Deploying new service... Initializing project for the current region.        \n",
      "  ⠛ Creating Revision...                                                       \n",
      "\n",
      "⠹ Deploying new service... Initializing project for the current region.        \n",
      "  ⠹ Creating Revision...                                                       \n",
      "\n",
      "⠼ Deploying new service... Initializing project for the current region.        \n",
      "  ⠼ Creating Revision...                                                       \n",
      "\n",
      "⠶ Deploying new service... Initializing project for the current region.        \n",
      "  ⠶ Creating Revision...                                                       \n",
      "\n",
      "⠧ Deploying new service... Initializing project for the current region.        \n",
      "  ⠧ Creating Revision...                                                       \n",
      "\n",
      "⠏ Deploying new service... Initializing project for the current region.        \n",
      "  ⠏ Creating Revision...                                                       \n",
      "\n",
      "⠛ Deploying new service... Initializing project for the current region.        \n",
      "  ⠛ Creating Revision...                                                       \n",
      "\n",
      "⠹ Deploying new service... Initializing project for the current region.        \n",
      "  ⠹ Creating Revision...                                                       \n",
      "\n",
      "⠼ Deploying new service... Initializing project for the current region.        \n",
      "  ⠼ Creating Revision...                                                       \n",
      "\n",
      "⠶ Deploying new service... Initializing project for the current region.        \n",
      "  ⠶ Creating Revision...                                                       \n",
      "\n",
      "⠧ Deploying new service... Initializing project for the current region.        \n",
      "  ⠧ Creating Revision...                                                       \n",
      "\n",
      "⠏ Deploying new service... Initializing project for the current region.        \n",
      "  ⠏ Creating Revision...                                                       \n",
      "\n",
      "⠛ Deploying new service... Initializing project for the current region.        \n",
      "  ⠛ Creating Revision...                                                       \n",
      "\n",
      "⠹ Deploying new service... Initializing project for the current region.        \n",
      "  ⠹ Creating Revision...                                                       \n",
      "\n",
      "⠼ Deploying new service... Initializing project for the current region.        \n",
      "  ⠼ Creating Revision...                                                       \n",
      "\n",
      "⠶ Deploying new service... Initializing project for the current region.        \n",
      "  ⠶ Creating Revision...                                                       \n",
      "\n",
      "⠧ Deploying new service... Initializing project for the current region.        \n",
      "  ⠧ Creating Revision...                                                       \n",
      "\n",
      "⠏ Deploying new service... Initializing project for the current region.        \n",
      "  ⠏ Creating Revision...                                                       \n",
      "\n",
      "⠛ Deploying new service... Initializing project for the current region.        \n",
      "  ⠛ Creating Revision...                                                       \n",
      "\n",
      "⠹ Deploying new service... Initializing project for the current region.        \n",
      "  ⠹ Creating Revision...                                                       \n",
      "\n",
      "⠼ Deploying new service... Initializing project for the current region.        \n",
      "  ⠼ Creating Revision...                                                       \n",
      "\n",
      "⠶ Deploying new service... Initializing project for the current region.        \n",
      "  ⠶ Creating Revision...                                                       \n",
      "\n",
      "⠧ Deploying new service... Initializing project for the current region.        \n",
      "  ⠧ Creating Revision...                                                       \n",
      "\n",
      "⠏ Deploying new service... Initializing project for the current region.        \n",
      "  ⠏ Creating Revision...                                                       \n",
      "\n",
      "⠛ Deploying new service... Initializing project for the current region.        \n",
      "  ⠛ Creating Revision...                                                       \n",
      "\n",
      "⠹ Deploying new service... Initializing project for the current region.        \n",
      "  ⠹ Creating Revision...                                                       \n",
      "\n",
      "⠼ Deploying new service... Initializing project for the current region.        \n",
      "  ⠼ Creating Revision...                                                       \n",
      "\n",
      "⠶ Deploying new service... Initializing project for the current region.        \n",
      "  ⠶ Creating Revision...                                                       \n",
      "\n",
      "⠧ Deploying new service... Initializing project for the current region.        \n",
      "  ⠧ Creating Revision...                                                       \n",
      "\n",
      "⠏ Deploying new service... Initializing project for the current region.        \n",
      "  ⠏ Creating Revision...                                                       \n",
      "\n",
      "⠛ Deploying new service... Initializing project for the current region.        \n",
      "  ⠛ Creating Revision...                                                       \n",
      "\n",
      "⠹ Deploying new service... Initializing project for the current region.        \n",
      "  ⠹ Creating Revision...                                                       \n",
      "\n",
      "⠼ Deploying new service... Initializing project for the current region.        \n",
      "  ⠼ Creating Revision...                                                       \n",
      "\n",
      "⠶ Deploying new service... Initializing project for the current region.        \n",
      "  ⠶ Creating Revision...                                                       \n",
      "\n",
      "⠧ Deploying new service... Initializing project for the current region.        \n",
      "  ⠧ Creating Revision...                                                       \n",
      "\n",
      "⠏ Deploying new service... Initializing project for the current region.        \n",
      "  ⠏ Creating Revision...                                                       \n",
      "\n",
      "⠛ Deploying new service... Initializing project for the current region.        \n",
      "  ⠛ Creating Revision...                                                       \n",
      "\n",
      "⠹ Deploying new service... Initializing project for the current region.        \n",
      "  ⠹ Creating Revision...                                                       \n",
      "\n",
      "⠼ Deploying new service... Initializing project for the current region.        \n",
      "  ⠼ Creating Revision...                                                       \n",
      "\n",
      "⠶ Deploying new service... Initializing project for the current region.        \n",
      "  ⠶ Creating Revision...                                                       \n",
      "\n",
      "⠧ Deploying new service... Initializing project for the current region.        \n",
      "  ⠧ Creating Revision...                                                       \n",
      "\n",
      "⠏ Deploying new service... Initializing project for the current region.        \n",
      "  ⠏ Creating Revision...                                                       \n",
      "\n",
      "⠛ Deploying new service... Initializing project for the current region.        \n",
      "  ⠛ Creating Revision...                                                       \n",
      "\n",
      "⠹ Deploying new service... Initializing project for the current region.        \n",
      "  ⠹ Creating Revision...                                                       \n",
      "\n",
      "⠼ Deploying new service... Initializing project for the current region.        \n",
      "  ⠼ Creating Revision...                                                       \n",
      "\n",
      "⠶ Deploying new service... Initializing project for the current region.        \n",
      "  ⠶ Creating Revision...                                                       \n",
      "\n",
      "⠧ Deploying new service... Initializing project for the current region.        \n",
      "  ⠧ Creating Revision...                                                       \n",
      "\n",
      "⠏ Deploying new service... Initializing project for the current region.        \n",
      "  ⠏ Creating Revision...                                                       \n",
      "\n",
      "⠛ Deploying new service... Initializing project for the current region.        \n",
      "  ⠛ Creating Revision...                                                       \n",
      "\n",
      "⠹ Deploying new service... Initializing project for the current region.        \n",
      "  ⠹ Creating Revision...                                                       \n",
      "\n",
      "⠼ Deploying new service... Initializing project for the current region.        \n",
      "  ⠼ Creating Revision...                                                       \n",
      "\n",
      "⠶ Deploying new service... Initializing project for the current region.        \n",
      "  ⠶ Creating Revision...                                                       \n",
      "\n",
      "⠧ Deploying new service... Initializing project for the current region.        \n",
      "  ⠧ Creating Revision...                                                       \n",
      "\n",
      "⠏ Deploying new service... Initializing project for the current region.        \n",
      "  ⠏ Creating Revision...                                                       \n",
      "\n",
      "⠛ Deploying new service... Initializing project for the current region.        \n",
      "  ⠛ Creating Revision...                                                       \n",
      "\n",
      "⠹ Deploying new service... Initializing project for the current region.        \n",
      "  ⠹ Creating Revision...                                                       \n",
      "\n",
      "⠼ Deploying new service... Initializing project for the current region.        \n",
      "  ⠼ Creating Revision...                                                       \n",
      "\n",
      "⠶ Deploying new service... Initializing project for the current region.        \n",
      "  ⠶ Creating Revision...                                                       \n",
      "\n",
      "⠧ Deploying new service... Initializing project for the current region.        \n",
      "  ⠧ Creating Revision...                                                       \n",
      "\n",
      "⠏ Deploying new service... Initializing project for the current region.        \n",
      "  ⠏ Creating Revision...                                                       \n",
      "\n",
      "⠛ Deploying new service... Initializing project for the current region.        \n",
      "  ⠛ Creating Revision...                                                       \n",
      "\n",
      "⠹ Deploying new service... Initializing project for the current region.        \n",
      "  ⠹ Creating Revision...                                                       \n",
      "\n",
      "⠼ Deploying new service... Initializing project for the current region.        \n",
      "  ⠼ Creating Revision...                                                       \n",
      "\n",
      "⠶ Deploying new service... Initializing project for the current region.        \n",
      "  ⠶ Creating Revision...                                                       \n",
      "\n",
      "⠧ Deploying new service... Initializing project for the current region.        \n",
      "  ⠧ Creating Revision...                                                       \n",
      "\n",
      "⠏ Deploying new service... Initializing project for the current region.        \n",
      "  ⠏ Creating Revision...                                                       \n",
      "\n",
      "⠛ Deploying new service... Initializing project for the current region.        \n",
      "  ⠛ Creating Revision...                                                       \n",
      "\n",
      "⠹ Deploying new service... Initializing project for the current region.        \n",
      "  ⠹ Creating Revision...                                                       \n",
      "\n",
      "⠼ Deploying new service... Initializing project for the current region.        \n",
      "  ⠼ Creating Revision...                                                       \n",
      "\n",
      "⠶ Deploying new service... Initializing project for the current region.        \n",
      "  ⠶ Creating Revision...                                                       \n",
      "\n",
      "⠧ Deploying new service... Initializing project for the current region.        \n",
      "  ⠧ Creating Revision...                                                       \n",
      "\n",
      "⠏ Deploying new service... Initializing project for the current region.        \n",
      "  ⠏ Creating Revision...                                                       \n",
      "\n",
      "⠛ Deploying new service... Initializing project for the current region.        \n",
      "  ⠛ Creating Revision...                                                       \n",
      "\n",
      "⠹ Deploying new service... Initializing project for the current region.        \n",
      "  ⠹ Creating Revision...                                                       \n",
      "\n",
      "⠼ Deploying new service... Initializing project for the current region.        \n",
      "  ⠼ Creating Revision...                                                       \n",
      "\n",
      "⠶ Deploying new service... Initializing project for the current region.        \n",
      "  ⠶ Creating Revision...                                                       \n",
      "\n",
      "⠧ Deploying new service... Initializing project for the current region.        \n",
      "  ⠧ Creating Revision...                                                       \n",
      "\n",
      "⠏ Deploying new service... Initializing project for the current region.        \n",
      "  ⠏ Creating Revision...                                                       \n",
      "\n",
      "⠛ Deploying new service... Initializing project for the current region.        \n",
      "  ⠛ Creating Revision...                                                       \n",
      "\n",
      "⠹ Deploying new service... Initializing project for the current region.        \n",
      "  ⠹ Creating Revision...                                                       \n",
      "\n",
      "⠼ Deploying new service... Initializing project for the current region.        \n",
      "  ⠼ Creating Revision...                                                       \n",
      "\n",
      "⠶ Deploying new service... Initializing project for the current region.        \n",
      "  ⠶ Creating Revision...                                                       \n",
      "\n",
      "⠧ Deploying new service... Initializing project for the current region.        \n",
      "  ⠧ Creating Revision...                                                       \n",
      "\n",
      "⠏ Deploying new service... Initializing project for the current region.        \n",
      "  ⠏ Creating Revision...                                                       \n",
      "\n",
      "⠛ Deploying new service... Initializing project for the current region.        \n",
      "  ⠛ Creating Revision...                                                       \n",
      "\n",
      "⠹ Deploying new service... Initializing project for the current region.        \n",
      "  ⠹ Creating Revision...                                                       \n",
      "\n",
      "⠼ Deploying new service... Initializing project for the current region.        \n",
      "  ⠼ Creating Revision...                                                       \n",
      "\n",
      "⠶ Deploying new service... Initializing project for the current region.        \n",
      "  ⠶ Creating Revision...                                                       \n",
      "\n",
      "⠧ Deploying new service... Initializing project for the current region.        \n",
      "  ⠧ Creating Revision...                                                       \n",
      "\n",
      "⠏ Deploying new service... Initializing project for the current region.        \n",
      "  ⠏ Creating Revision...                                                       \n",
      "\n",
      "⠛ Deploying new service... Initializing project for the current region.        \n",
      "  ⠛ Creating Revision...                                                       \n",
      "\n",
      "⠹ Deploying new service... Initializing project for the current region.        \n",
      "  ⠹ Creating Revision...                                                       \n",
      "\n",
      "⠼ Deploying new service... Initializing project for the current region.        \n",
      "  ⠼ Creating Revision...                                                       \n",
      "\n",
      "⠶ Deploying new service... Initializing project for the current region.        \n",
      "  ⠶ Creating Revision...                                                       \n",
      "\n",
      "⠧ Deploying new service... Initializing project for the current region.        \n",
      "  ⠧ Creating Revision...                                                       \n",
      "\n",
      "⠏ Deploying new service... Initializing project for the current region.        \n",
      "  ⠏ Creating Revision...                                                       \n",
      "\n",
      "⠛ Deploying new service... Initializing project for the current region.        \n",
      "  ⠛ Creating Revision...                                                       \n",
      "\n",
      "⠹ Deploying new service... Initializing project for the current region.        \n",
      "  ⠹ Creating Revision...                                                       \n",
      "\n",
      "⠼ Deploying new service... Initializing project for the current region.        \n",
      "  ⠼ Creating Revision...                                                       \n",
      "\n",
      "⠶ Deploying new service... Initializing project for the current region.        \n",
      "  ⠶ Creating Revision...                                                       \n",
      "\n",
      "⠧ Deploying new service... Initializing project for the current region.        \n",
      "  ⠧ Creating Revision...                                                       \n",
      "\n",
      "⠏ Deploying new service... Initializing project for the current region.        \n",
      "  ⠏ Creating Revision...                                                       \n",
      "\n",
      "⠛ Deploying new service... Initializing project for the current region.        \n",
      "  ⠛ Creating Revision...                                                       \n",
      "\n",
      "⠹ Deploying new service... Initializing project for the current region.        \n",
      "  ⠹ Creating Revision...                                                       \n",
      "\n",
      "⠼ Deploying new service... Initializing project for the current region.        \n",
      "  ⠼ Creating Revision...                                                       \n",
      "\n",
      "⠶ Deploying new service... Initializing project for the current region.        \n",
      "  ⠶ Creating Revision...                                                       \n",
      "\n",
      "⠧ Deploying new service... Initializing project for the current region.        \n",
      "  ⠧ Creating Revision...                                                       \n",
      "\n",
      "⠏ Deploying new service... Initializing project for the current region.        \n",
      "  ⠏ Creating Revision...                                                       \n",
      "\n",
      "⠛ Deploying new service... Initializing project for the current region.        \n",
      "  ⠛ Creating Revision...                                                       \n",
      "\n",
      "⠹ Deploying new service... Initializing project for the current region.        \n",
      "  ⠹ Creating Revision...                                                       \n",
      "\n",
      "⠼ Deploying new service... Initializing project for the current region.        \n",
      "  ⠼ Creating Revision...                                                       \n",
      "\n",
      "⠶ Deploying new service... Initializing project for the current region.        \n",
      "  ⠶ Creating Revision...                                                       \n",
      "\n",
      "⠧ Deploying new service... Initializing project for the current region.        \n",
      "  ⠧ Creating Revision...                                                       \n",
      "\n",
      "⠏ Deploying new service... Initializing project for the current region.        \n",
      "  ⠏ Creating Revision...                                                       \n",
      "\n",
      "⠛ Deploying new service... Initializing project for the current region.        \n",
      "  ⠛ Creating Revision...                                                       \n",
      "\n",
      "⠹ Deploying new service... Initializing project for the current region.        \n",
      "  ⠹ Creating Revision...                                                       \n",
      "\n",
      "⠼ Deploying new service... Initializing project for the current region.        \n",
      "  ⠼ Creating Revision...                                                       \n",
      "\n",
      "⠶ Deploying new service... Initializing project for the current region.        \n",
      "  ⠶ Creating Revision...                                                       \n",
      "\n",
      "⠧ Deploying new service... Initializing project for the current region.        \n",
      "  ⠧ Creating Revision...                                                       \n",
      "\n",
      "⠏ Deploying new service... Initializing project for the current region.        \n",
      "  ⠏ Creating Revision...                                                       \n",
      "\n",
      "⠛ Deploying new service... Initializing project for the current region.        \n",
      "  ⠛ Creating Revision...                                                       \n",
      "\n",
      "⠹ Deploying new service... Initializing project for the current region.        \n",
      "  ⠹ Creating Revision...                                                       \n",
      "\n",
      "⠼ Deploying new service... Initializing project for the current region.        \n",
      "  ⠼ Creating Revision...                                                       \n",
      "\n",
      "⠶ Deploying new service... Initializing project for the current region.        \n",
      "  ⠶ Creating Revision...                                                       \n",
      "\n",
      "⠧ Deploying new service... Initializing project for the current region.        \n",
      "  ⠧ Creating Revision...                                                       \n",
      "\n",
      "⠏ Deploying new service... Initializing project for the current region.        \n",
      "  ⠏ Creating Revision...                                                       \n",
      "\n",
      "⠛ Deploying new service... Initializing project for the current region.        \n",
      "  ⠛ Creating Revision...                                                       \n",
      "\n",
      "⠹ Deploying new service... Initializing project for the current region.        \n",
      "  ⠹ Creating Revision...                                                       \n",
      "\n",
      "⠼ Deploying new service... Initializing project for the current region.        \n",
      "  ⠼ Creating Revision...                                                       \n",
      "\n",
      "⠶ Deploying new service... Initializing project for the current region.        \n",
      "  ⠶ Creating Revision...                                                       \n",
      "\n",
      "⠧ Deploying new service... Initializing project for the current region.        \n",
      "  ⠧ Creating Revision...                                                       \n",
      "\n",
      "⠏ Deploying new service... Initializing project for the current region.        \n",
      "  ⠏ Creating Revision...                                                       \n",
      "\n",
      "⠛ Deploying new service... Initializing project for the current region.        \n",
      "  ⠛ Creating Revision...                                                       \n",
      "\n",
      "⠹ Deploying new service... Initializing project for the current region.        \n",
      "  ⠹ Creating Revision...                                                       \n",
      "\n",
      "⠼ Deploying new service... Initializing project for the current region.        \n",
      "  ⠼ Creating Revision...                                                       \n",
      "\n",
      "⠶ Deploying new service... Initializing project for the current region.        \n",
      "  ⠶ Creating Revision...                                                       \n",
      "\n",
      "⠧ Deploying new service... Initializing project for the current region.        \n",
      "  ⠧ Creating Revision...                                                       \n",
      "\n",
      "⠏ Deploying new service... Initializing project for the current region.        \n",
      "  ⠏ Creating Revision...                                                       \n",
      "\n",
      "⠛ Deploying new service... Initializing project for the current region.        \n",
      "  ⠛ Creating Revision...                                                       \n",
      "\n",
      "⠹ Deploying new service... Initializing project for the current region.        \n",
      "  ⠹ Creating Revision...                                                       \n",
      "\n",
      "⠼ Deploying new service... Initializing project for the current region.        \n",
      "  ⠼ Creating Revision...                                                       \n",
      "\n",
      "⠶ Deploying new service... Initializing project for the current region.        \n",
      "  ⠶ Creating Revision...                                                       \n",
      "\n",
      "⠧ Deploying new service... Initializing project for the current region.        \n",
      "  ⠧ Creating Revision...                                                       \n",
      "\n",
      "⠏ Deploying new service... Initializing project for the current region.        \n",
      "  ⠏ Creating Revision...                                                       \n",
      "\n",
      "⠛ Deploying new service... Initializing project for the current region.        \n",
      "  ⠛ Creating Revision...                                                       \n",
      "\n",
      "⠹ Deploying new service... Initializing project for the current region.        \n",
      "  ⠹ Creating Revision...                                                       \n",
      "\n",
      "⠼ Deploying new service... Initializing project for the current region.        \n",
      "  ⠼ Creating Revision...                                                       \n",
      "\n",
      "⠶ Deploying new service... Initializing project for the current region.        \n",
      "  ⠶ Creating Revision...                                                       \n",
      "\n",
      "⠧ Deploying new service... Initializing project for the current region.        \n",
      "  ⠧ Creating Revision...                                                       \n",
      "\n",
      "⠏ Deploying new service... Initializing project for the current region.        \n",
      "  ⠏ Creating Revision...                                                       \n",
      "\n",
      "⠛ Deploying new service... Initializing project for the current region.        \n",
      "  ⠛ Creating Revision...                                                       \n",
      "\n",
      "⠹ Deploying new service... Initializing project for the current region.        \n",
      "  ⠹ Creating Revision...                                                       \n",
      "\n",
      "⠼ Deploying new service... Initializing project for the current region.        \n",
      "  ⠼ Creating Revision...                                                       \n",
      "\n",
      "⠶ Deploying new service... Initializing project for the current region.        \n",
      "  ⠶ Creating Revision...                                                       \n",
      "\n",
      "⠧ Deploying new service... Initializing project for the current region.        \n",
      "  ⠧ Creating Revision...                                                       \n",
      "\n",
      "⠏ Deploying new service... Initializing project for the current region.        \n",
      "  ⠏ Creating Revision...                                                       \n",
      "\n",
      "⠛ Deploying new service... Initializing project for the current region.        \n",
      "  ⠛ Creating Revision...                                                       \n",
      "\n",
      "⠹ Deploying new service... Initializing project for the current region.        \n",
      "  ⠹ Creating Revision...                                                       \n",
      "\n",
      "⠼ Deploying new service... Initializing project for the current region.        \n",
      "  ⠼ Creating Revision...                                                       \n",
      "\n",
      "⠶ Deploying new service... Initializing project for the current region.        \n",
      "  ⠶ Creating Revision...                                                       \n",
      "\n",
      "⠧ Deploying new service... Initializing project for the current region.        \n",
      "  ⠧ Creating Revision...                                                       \n",
      "\n",
      "⠏ Deploying new service... Initializing project for the current region.        \n",
      "  ⠏ Creating Revision...                                                       \n",
      "\n",
      "⠛ Deploying new service... Initializing project for the current region.        \n",
      "  ⠛ Creating Revision...                                                       \n",
      "\n",
      "⠹ Deploying new service... Initializing project for the current region.        \n",
      "  ⠹ Creating Revision...                                                       \n",
      "\n",
      "⠼ Deploying new service... Initializing project for the current region.        \n",
      "  ⠼ Creating Revision...                                                       \n",
      "\n",
      "⠶ Deploying new service... Initializing project for the current region.        \n",
      "  ⠶ Creating Revision...                                                       \n",
      "\n",
      "⠧ Deploying new service... Initializing project for the current region.        \n",
      "  ⠧ Creating Revision...                                                       \n",
      "\n",
      "⠏ Deploying new service... Initializing project for the current region.        \n",
      "  ⠏ Creating Revision...                                                       \n",
      "\n",
      "⠛ Deploying new service... Initializing project for the current region.        \n",
      "  ⠛ Creating Revision...                                                       \n",
      "\n",
      "⠹ Deploying new service... Initializing project for the current region.        \n",
      "  ⠹ Creating Revision...                                                       \n",
      "\n",
      "⠼ Deploying new service... Initializing project for the current region.        \n",
      "  ⠼ Creating Revision...                                                       \n",
      "\n",
      "⠶ Deploying new service... Initializing project for the current region.        \n",
      "  ⠶ Creating Revision...                                                       \n",
      "\n",
      "⠧ Deploying new service... Initializing project for the current region.        \n",
      "  ⠧ Creating Revision...                                                       \n",
      "\n",
      "⠏ Deploying new service... Initializing project for the current region.        \n",
      "  ⠏ Creating Revision...                                                       \n",
      "\n",
      "⠛ Deploying new service... Initializing project for the current region.        \n",
      "  ⠛ Creating Revision...                                                       \n",
      "\n",
      "⠹ Deploying new service... Initializing project for the current region.        \n",
      "  ⠹ Creating Revision...                                                       \n",
      "\n",
      "⠼ Deploying new service... Initializing project for the current region.        \n",
      "  ⠼ Creating Revision...                                                       \n",
      "\n",
      "⠶ Deploying new service... Initializing project for the current region.        \n",
      "  ⠶ Creating Revision...                                                       \n",
      "\n",
      "⠧ Deploying new service... Initializing project for the current region.        \n",
      "  ⠧ Creating Revision...                                                       \n",
      "\n",
      "⠏ Deploying new service... Initializing project for the current region.        \n",
      "  ⠏ Creating Revision...                                                       \n",
      "\n",
      "⠛ Deploying new service... Initializing project for the current region.        \n",
      "  ⠛ Creating Revision...                                                       \n",
      "\n",
      "⠹ Deploying new service... Initializing project for the current region.        \n",
      "  ⠹ Creating Revision...                                                       \n",
      "\n",
      "⠼ Deploying new service... Initializing project for the current region.        \n",
      "  ⠼ Creating Revision...                                                       \n",
      "\n",
      "⠶ Deploying new service... Initializing project for the current region.        \n",
      "  ⠶ Creating Revision...                                                       \n",
      "\n",
      "⠧ Deploying new service... Initializing project for the current region.        \n",
      "  ⠧ Creating Revision...                                                       \n",
      "\n",
      "⠏ Deploying new service... Initializing project for the current region.        \n",
      "  ⠏ Creating Revision...                                                       \n",
      "\n",
      "⠛ Deploying new service... Initializing project for the current region.        \n",
      "  ⠛ Creating Revision...                                                       \n",
      "\n",
      "⠹ Deploying new service... Initializing project for the current region.        \n",
      "  ⠹ Creating Revision...                                                       \n",
      "\n",
      "⠼ Deploying new service... Initializing project for the current region.        \n",
      "  ⠼ Creating Revision...                                                       \n",
      "\n",
      "⠶ Deploying new service... Initializing project for the current region.        \n",
      "  ⠶ Creating Revision...                                                       \n",
      "\n",
      "⠧ Deploying new service... Initializing project for the current region.        \n",
      "  ⠧ Creating Revision...                                                       \n",
      "\n",
      "⠏ Deploying new service... Initializing project for the current region.        \n",
      "  ⠏ Creating Revision...                                                       \n",
      "\n",
      "⠛ Deploying new service... Initializing project for the current region.        \n",
      "  ⠛ Creating Revision...                                                       \n",
      "\n",
      "⠹ Deploying new service... Initializing project for the current region.        \n",
      "  ⠹ Creating Revision...                                                       \n",
      "\n",
      "⠼ Deploying new service... Initializing project for the current region.        \n",
      "  ⠼ Creating Revision...                                                       \n",
      "\n",
      "⠶ Deploying new service... Initializing project for the current region.        \n",
      "  ⠶ Creating Revision...                                                       \n",
      "\n",
      "⠧ Deploying new service... Initializing project for the current region.        \n",
      "  ⠧ Creating Revision...                                                       \n",
      "\n",
      "⠏ Deploying new service... Initializing project for the current region.        \n",
      "  ⠏ Creating Revision...                                                       \n",
      "\n",
      "⠛ Deploying new service... Initializing project for the current region.        \n",
      "  ⠛ Creating Revision...                                                       \n",
      "\n",
      "⠹ Deploying new service... Initializing project for the current region.        \n",
      "  ⠹ Creating Revision...                                                       \n",
      "\n",
      "⠼ Deploying new service... Initializing project for the current region.        \n",
      "  ⠼ Creating Revision...                                                       \n",
      "\n",
      "⠶ Deploying new service... Initializing project for the current region.        \n",
      "  ⠶ Creating Revision...                                                       \n",
      "\n",
      "⠧ Deploying new service... Initializing project for the current region.        \n",
      "  ⠧ Creating Revision...                                                       \n",
      "\n",
      "⠏ Deploying new service... Initializing project for the current region.        \n",
      "  ⠏ Creating Revision...                                                       \n",
      "\n",
      "⠛ Deploying new service... Initializing project for the current region.        \n",
      "  ⠛ Creating Revision...                                                       \n",
      "\n",
      "⠹ Deploying new service... Initializing project for the current region.        \n",
      "  ⠹ Creating Revision...                                                       \n",
      "\n",
      "⠼ Deploying new service... Initializing project for the current region.        \n",
      "  ⠼ Creating Revision...                                                       \n",
      "\n",
      "⠶ Deploying new service... Initializing project for the current region.        \n",
      "  ⠶ Creating Revision...                                                       \n",
      "\n",
      "⠧ Deploying new service... Initializing project for the current region.        \n",
      "  ⠧ Creating Revision...                                                       \n",
      "\n",
      "⠏ Deploying new service... Initializing project for the current region.        \n",
      "  ⠏ Creating Revision...                                                       \n",
      "\n",
      "⠛ Deploying new service... Initializing project for the current region.        \n",
      "  ⠛ Creating Revision...                                                       \n",
      "\n",
      "⠹ Deploying new service... Initializing project for the current region.        \n",
      "  ⠹ Creating Revision...                                                       \n",
      "\n",
      "⠼ Deploying new service... Initializing project for the current region.        \n",
      "  ⠼ Creating Revision...                                                       \n",
      "\n",
      "⠶ Deploying new service... Initializing project for the current region.        \n",
      "  ⠶ Creating Revision...                                                       \n",
      "\n",
      "⠧ Deploying new service... Initializing project for the current region.        \n",
      "  ⠧ Creating Revision...                                                       \n",
      "\n",
      "⠏ Deploying new service... Initializing project for the current region.        \n",
      "  ⠏ Creating Revision...                                                       \n",
      "\n",
      "⠛ Deploying new service... Initializing project for the current region.        \n",
      "  ⠛ Creating Revision...                                                       \n",
      "\n",
      "⠹ Deploying new service... Initializing project for the current region.        \n",
      "  ⠹ Creating Revision...                                                       \n",
      "\n",
      "⠼ Deploying new service... Initializing project for the current region.        \n",
      "  ⠼ Creating Revision...                                                       \n",
      "\n",
      "⠶ Deploying new service... Initializing project for the current region.        \n",
      "  ⠶ Creating Revision...                                                       \n",
      "\n",
      "⠧ Deploying new service... Initializing project for the current region.        \n",
      "  ⠧ Creating Revision...                                                       \n",
      "\n",
      "⠏ Deploying new service... Initializing project for the current region.        \n",
      "  ⠏ Creating Revision...                                                       \n",
      "\n",
      "⠛ Deploying new service... Initializing project for the current region.        \n",
      "  ⠛ Creating Revision...                                                       \n",
      "\n",
      "⠹ Deploying new service... Initializing project for the current region.        \n",
      "  ⠹ Creating Revision...                                                       \n",
      "\n",
      "⠼ Deploying new service... Initializing project for the current region.        \n",
      "  ⠼ Creating Revision...                                                       \n",
      "\n",
      "⠶ Deploying new service... Initializing project for the current region.        \n",
      "  ⠶ Creating Revision...                                                       \n",
      "\n",
      "⠧ Deploying new service... Initializing project for the current region.        \n",
      "  ⠧ Creating Revision...                                                       \n",
      "\n",
      "⠏ Deploying new service... Initializing project for the current region.        \n",
      "  ⠏ Creating Revision...                                                       \n",
      "\n",
      "⠛ Deploying new service... Initializing project for the current region.        \n",
      "  ⠛ Creating Revision...                                                       \n",
      "\n",
      "⠹ Deploying new service... Initializing project for the current region.        \n",
      "  ⠹ Creating Revision...                                                       \n",
      "\n",
      "⠼ Deploying new service... Initializing project for the current region.        \n",
      "  ⠼ Creating Revision...                                                       \n",
      "\n",
      "⠶ Deploying new service... Initializing project for the current region.        \n",
      "  ⠶ Creating Revision...                                                       \n",
      "\n",
      "⠧ Deploying new service... Initializing project for the current region.        \n",
      "  ⠧ Creating Revision...                                                       \n",
      "\n",
      "⠏ Deploying new service... Initializing project for the current region.        \n",
      "  ⠏ Creating Revision...                                                       \n",
      "\n",
      "⠛ Deploying new service... Initializing project for the current region.        \n",
      "  ⠛ Creating Revision...                                                       \n",
      "\n",
      "⠹ Deploying new service... Initializing project for the current region.        \n",
      "  ⠹ Creating Revision...                                                       \n",
      "\n",
      "⠼ Deploying new service... Initializing project for the current region.        \n",
      "  ⠼ Creating Revision...                                                       \n",
      "\n",
      "⠶ Deploying new service... Initializing project for the current region.        \n",
      "  ⠶ Creating Revision...                                                       \n",
      "\n",
      "⠧ Deploying new service... Initializing project for the current region.        \n",
      "  ⠧ Creating Revision...                                                       \n",
      "\n",
      "⠏ Deploying new service... Initializing project for the current region.        \n",
      "  ⠏ Creating Revision...                                                       \n",
      "\n",
      "⠛ Deploying new service... Initializing project for the current region.        \n",
      "  ⠛ Creating Revision...                                                       \n",
      "\n",
      "⠹ Deploying new service... Initializing project for the current region.        \n",
      "  ⠹ Creating Revision...                                                       \n",
      "\n",
      "⠼ Deploying new service... Initializing project for the current region.        \n",
      "  ⠼ Creating Revision...                                                       \n",
      "\n",
      "⠶ Deploying new service... Initializing project for the current region.        \n",
      "  ⠶ Creating Revision...                                                       \n",
      "\n",
      "⠧ Deploying new service... Initializing project for the current region.        \n",
      "  ⠧ Creating Revision...                                                       \n",
      "\n",
      "⠏ Deploying new service... Initializing project for the current region.        \n",
      "  ⠏ Creating Revision...                                                       \n",
      "\n",
      "⠛ Deploying new service... Initializing project for the current region.        \n",
      "  ⠛ Creating Revision...                                                       \n",
      "\n",
      "⠹ Deploying new service... Initializing project for the current region.        \n",
      "  ⠹ Creating Revision...                                                       \n",
      "\n",
      "⠼ Deploying new service... Initializing project for the current region.        \n",
      "  ⠼ Creating Revision...                                                       \n",
      "\n",
      "⠶ Deploying new service... Initializing project for the current region.        \n",
      "  ⠶ Creating Revision...                                                       \n",
      "\n",
      "⠧ Deploying new service... Initializing project for the current region.        \n",
      "  ⠧ Creating Revision...                                                       \n",
      "\n",
      "⠏ Deploying new service... Initializing project for the current region.        \n",
      "  ⠏ Creating Revision...                                                       \n",
      "\n",
      "⠛ Deploying new service... Initializing project for the current region.        \n",
      "  ⠛ Creating Revision...                                                       \n",
      "\n",
      "⠹ Deploying new service... Initializing project for the current region.        \n",
      "  ⠹ Creating Revision...                                                       \n",
      "\n",
      "⠼ Deploying new service... Initializing project for the current region.        \n",
      "  ⠼ Creating Revision...                                                       \n",
      "\n",
      "⠶ Deploying new service... Initializing project for the current region.        \n",
      "  ⠶ Creating Revision...                                                       \n",
      "\n",
      "⠧ Deploying new service... Initializing project for the current region.        \n",
      "  ⠧ Creating Revision...                                                       \n",
      "\n",
      "⠏ Deploying new service... Initializing project for the current region.        \n",
      "  ⠏ Creating Revision...                                                       \n",
      "\n",
      "⠛ Deploying new service... Initializing project for the current region.        \n",
      "  ⠛ Creating Revision...                                                       \n",
      "\n",
      "⠹ Deploying new service... Initializing project for the current region.        \n",
      "  ⠹ Creating Revision...                                                       \n",
      "\n",
      "⠼ Deploying new service... Initializing project for the current region.        \n",
      "  ⠼ Creating Revision...                                                       \n",
      "\n",
      "⠶ Deploying new service... Initializing project for the current region.        \n",
      "  ⠶ Creating Revision...                                                       \n",
      "\n",
      "⠧ Deploying new service... Initializing project for the current region.        \n",
      "  ⠧ Creating Revision...                                                       \n",
      "\n",
      "⠏ Deploying new service... Initializing project for the current region.        \n",
      "  ⠏ Creating Revision...                                                       \n",
      "\n",
      "⠛ Deploying new service... Initializing project for the current region.        \n",
      "  ⠛ Creating Revision...                                                       \n",
      "\n",
      "⠹ Deploying new service... Initializing project for the current region.        \n",
      "  ⠹ Creating Revision...                                                       \n",
      "\n",
      "⠼ Deploying new service... Initializing project for the current region.        \n",
      "  ⠼ Creating Revision...                                                       \n",
      "\n",
      "⠶ Deploying new service... Initializing project for the current region.        \n",
      "  ⠶ Creating Revision...                                                       \n",
      "\n",
      "⠧ Deploying new service... Initializing project for the current region.        \n",
      "  ⠧ Creating Revision...                                                       \n",
      "\n",
      "⠏ Deploying new service... Initializing project for the current region.        \n",
      "  ⠏ Creating Revision...                                                       \n",
      "\n",
      "⠛ Deploying new service... Initializing project for the current region.        \n",
      "  ⠛ Creating Revision...                                                       \n",
      "\n",
      "⠹ Deploying new service... Initializing project for the current region.        \n",
      "  ⠹ Creating Revision...                                                       \n",
      "\n",
      "⠼ Deploying new service... Initializing project for the current region.        \n",
      "  ⠼ Creating Revision...                                                       \n",
      "\n",
      "⠶ Deploying new service... Initializing project for the current region.        \n",
      "  ⠶ Creating Revision...                                                       \n",
      "\n",
      "⠧ Deploying new service... Initializing project for the current region.        \n",
      "  ⠧ Creating Revision...                                                       \n",
      "\n",
      "⠏ Deploying new service... Initializing project for the current region.        \n",
      "  ⠏ Creating Revision...                                                       \n",
      "\n",
      "⠛ Deploying new service... Initializing project for the current region.        \n",
      "  ⠛ Creating Revision...                                                       \n",
      "\n",
      "⠹ Deploying new service... Initializing project for the current region.        \n",
      "  ⠹ Creating Revision...                                                       \n",
      "\n",
      "⠼ Deploying new service... Initializing project for the current region.        \n",
      "  ⠼ Creating Revision...                                                       \n",
      "\n",
      "⠶ Deploying new service... Initializing project for the current region.        \n",
      "  ⠶ Creating Revision...                                                       \n",
      "\n",
      "⠧ Deploying new service... Initializing project for the current region.        \n",
      "  ⠧ Creating Revision...                                                       \n",
      "\n",
      "⠏ Deploying new service... Initializing project for the current region.        \n",
      "  ⠏ Creating Revision...                                                       \n",
      "\n",
      "⠛ Deploying new service... Initializing project for the current region.        \n",
      "  ⠛ Creating Revision...                                                       \n",
      "\n",
      "⠹ Deploying new service... Initializing project for the current region.        \n",
      "  ⠹ Creating Revision...                                                       \n",
      "\n",
      "⠼ Deploying new service... Initializing project for the current region.        \n",
      "  ⠼ Creating Revision...                                                       \n",
      "\n",
      "⠶ Deploying new service... Initializing project for the current region.        \n",
      "  ⠶ Creating Revision...                                                       \n",
      "\n",
      "⠧ Deploying new service... Initializing project for the current region.        \n",
      "  ⠧ Creating Revision...                                                       \n",
      "\n",
      "⠏ Deploying new service... Initializing project for the current region.        \n",
      "  ⠏ Creating Revision...                                                       \n",
      "\n",
      "⠛ Deploying new service... Initializing project for the current region.        \n",
      "  ⠛ Creating Revision...                                                       \n",
      "\n",
      "⠹ Deploying new service... Initializing project for the current region.        \n",
      "  ⠹ Creating Revision...                                                       \n",
      "\n",
      "⠼ Deploying new service... Initializing project for the current region.        \n",
      "  ⠼ Creating Revision...                                                       \n",
      "\n",
      "⠶ Deploying new service... Deploying Revision.                                 \n",
      "  ⠶ Creating Revision... Initializing project for the current region.          \n",
      "\n",
      "⠧ Deploying new service... Deploying Revision.                                 \n",
      "  ⠧ Creating Revision... Initializing project for the current region.          \n",
      "\n",
      "⠏ Deploying new service... Deploying Revision.                                 \n",
      "  ⠏ Creating Revision... Initializing project for the current region.          \n",
      "\n",
      "⠛ Deploying new service... Deploying Revision.                                 \n",
      "  ⠛ Creating Revision... Initializing project for the current region.          \n",
      "\n",
      "⠹ Deploying new service... Deploying Revision.                                 \n",
      "  ⠹ Creating Revision... Initializing project for the current region.          \n",
      "\n",
      "⠼ Deploying new service... Deploying Revision.                                 \n",
      "  ⠼ Creating Revision... Initializing project for the current region.          \n",
      "\n",
      "⠶ Deploying new service... Deploying Revision.                                 \n",
      "  ⠶ Creating Revision... Initializing project for the current region.          \n",
      "\n",
      "⠧ Deploying new service... Deploying Revision.                                 \n",
      "  ⠧ Creating Revision... Initializing project for the current region.          \n",
      "\n",
      "⠏ Deploying new service... Deploying Revision.                                 \n",
      "  ⠏ Creating Revision... Initializing project for the current region.          \n",
      "\n",
      "⠛ Deploying new service... Deploying Revision.                                 \n",
      "  ⠛ Creating Revision... Initializing project for the current region.          \n",
      "\n",
      "⠹ Deploying new service... Deploying Revision.                                 \n",
      "  ⠹ Creating Revision... Initializing project for the current region.          \n",
      "\n",
      "⠼ Deploying new service... Deploying Revision.                                 \n",
      "  ⠼ Creating Revision... Initializing project for the current region.          \n",
      "\n",
      "⠶ Deploying new service... Deploying Revision.                                 \n",
      "  ⠶ Creating Revision... Initializing project for the current region.          \n",
      "\n",
      "⠧ Deploying new service... Deploying Revision.                                 \n",
      "  ⠧ Creating Revision... Initializing project for the current region.          \n",
      "\n",
      "⠏ Deploying new service... Deploying Revision.                                 \n",
      "  ⠏ Creating Revision... Initializing project for the current region.          \n",
      "\n",
      "⠛ Deploying new service... Deploying Revision.                                 \n",
      "  ⠛ Creating Revision... Initializing project for the current region.          \n",
      "\n",
      "⠹ Deploying new service... Deploying Revision.                                 \n",
      "  ⠹ Creating Revision... Initializing project for the current region.          \n",
      "\n",
      "⠼ Deploying new service... Deploying Revision.                                 \n",
      "  ⠼ Creating Revision... Initializing project for the current region.          \n",
      "\n",
      "⠶ Deploying new service... Deploying Revision.                                 \n",
      "  ⠶ Creating Revision... Initializing project for the current region.          \n",
      "\n",
      "⠧ Deploying new service... Deploying Revision.                                 \n",
      "  ⠧ Creating Revision... Initializing project for the current region.          \n",
      "\n",
      "⠏ Deploying new service... Deploying Revision.                                 \n",
      "  ⠏ Creating Revision... Initializing project for the current region.          \n",
      "\n",
      "⠛ Deploying new service... Deploying Revision.                                 \n",
      "  ⠛ Creating Revision... Initializing project for the current region.          \n",
      "\n",
      "⠹ Deploying new service... Deploying Revision.                                 \n",
      "  ⠹ Creating Revision... Initializing project for the current region.          \n",
      "\n",
      "⠼ Deploying new service... Deploying Revision.                                 \n",
      "  ⠼ Creating Revision... Initializing project for the current region.          \n",
      "\n",
      "⠶ Deploying new service... Deploying Revision.                                 \n",
      "  ⠶ Creating Revision... Initializing project for the current region.          \n",
      "\n",
      "⠧ Deploying new service... Deploying Revision.                                 \n",
      "  ⠧ Creating Revision... Initializing project for the current region.          \n",
      "\n",
      "⠏ Deploying new service... Deploying Revision.                                 \n",
      "  ⠏ Creating Revision... Initializing project for the current region.          \n",
      "\n",
      "⠛ Deploying new service... Deploying Revision.                                 \n",
      "  ⠛ Creating Revision... Initializing project for the current region.          \n",
      "\n",
      "⠹ Deploying new service... Deploying Revision.                                 \n",
      "  ⠹ Creating Revision... Initializing project for the current region.          \n",
      "\n",
      "⠼ Deploying new service... Deploying Revision.                                 \n",
      "  ⠼ Creating Revision... Initializing project for the current region.          \n",
      "\n",
      "⠶ Deploying new service... Deploying Revision.                                 \n",
      "  ⠶ Creating Revision... Initializing project for the current region.          \n",
      "\n",
      "⠧ Deploying new service... Deploying Revision.                                 \n",
      "  ⠧ Creating Revision... Initializing project for the current region.          \n",
      "\n",
      "⠏ Deploying new service... Deploying Revision.                                 \n",
      "  ⠏ Creating Revision... Initializing project for the current region.          \n",
      "\n",
      "⠛ Deploying new service... Deploying Revision.                                 \n",
      "  ⠛ Creating Revision... Initializing project for the current region.          \n",
      "\n",
      "⠹ Deploying new service... Deploying Revision.                                 \n",
      "  ⠹ Creating Revision... Initializing project for the current region.          \n",
      "\n",
      "⠼ Deploying new service... Deploying Revision.                                 \n",
      "  ⠼ Creating Revision... Initializing project for the current region.          \n",
      "\n",
      "⠶ Deploying new service... Deploying Revision.                                 \n",
      "  ⠶ Creating Revision... Initializing project for the current region.          \n",
      "\n",
      "⠧ Deploying new service... Deploying Revision.                                 \n",
      "  ⠧ Creating Revision... Initializing project for the current region.          \n",
      "\n",
      "⠏ Deploying new service... Deploying Revision.                                 \n",
      "  ⠏ Creating Revision... Initializing project for the current region.          \n",
      "\n",
      "⠛ Deploying new service... Deploying Revision.                                 \n",
      "  ⠛ Creating Revision... Initializing project for the current region.          \n",
      "\n",
      "⠹ Deploying new service... Deploying Revision.                                 \n",
      "  ⠹ Creating Revision... Initializing project for the current region.          \n",
      "\n",
      "⠼ Deploying new service... Deploying Revision.                                 \n",
      "  ⠼ Creating Revision... Initializing project for the current region.          \n",
      "\n",
      "⠶ Deploying new service... Deploying Revision.                                 \n",
      "  ⠶ Creating Revision... Initializing project for the current region.          \n",
      "\n",
      "⠧ Deploying new service... Deploying Revision.                                 \n",
      "  ⠧ Creating Revision... Initializing project for the current region.          \n",
      "\n",
      "⠏ Deploying new service... Deploying Revision.                                 \n",
      "  ⠏ Creating Revision... Initializing project for the current region.          \n",
      "\n",
      "⠛ Deploying new service... Deploying Revision.                                 \n",
      "  ⠛ Creating Revision... Initializing project for the current region.          \n",
      "\n",
      "⠹ Deploying new service... Deploying Revision.                                 \n",
      "  ⠹ Creating Revision... Initializing project for the current region.          \n",
      "\n",
      "⠼ Deploying new service... Deploying Revision.                                 \n",
      "  ⠼ Creating Revision... Initializing project for the current region.          \n",
      "\n",
      "⠶ Deploying new service... Deploying Revision.                                 \n",
      "  ⠶ Creating Revision... Initializing project for the current region.          \n",
      "\n",
      "⠧ Deploying new service... Deploying Revision.                                 \n",
      "  ⠧ Creating Revision... Initializing project for the current region.          \n",
      "\n",
      "⠏ Deploying new service... Deploying Revision.                                 \n",
      "  ⠏ Creating Revision... Initializing project for the current region.          \n",
      "\n",
      "⠛ Deploying new service... Deploying Revision.                                 \n",
      "  ⠛ Creating Revision... Initializing project for the current region.          \n",
      "\n",
      "⠹ Deploying new service... Deploying Revision.                                 \n",
      "  ⠹ Creating Revision... Initializing project for the current region.          \n",
      "\n",
      "⠼ Deploying new service... Deploying Revision.                                 \n",
      "  ⠼ Creating Revision... Initializing project for the current region.          \n",
      "\n",
      "⠶ Deploying new service... Deploying Revision.                                 \n",
      "  ⠶ Creating Revision... Initializing project for the current region.          \n",
      "\n",
      "⠧ Deploying new service... Deploying Revision.                                 \n",
      "  ⠧ Creating Revision... Initializing project for the current region.          \n",
      "\n",
      "⠏ Deploying new service... Deploying Revision.                                 \n",
      "  ⠏ Creating Revision... Initializing project for the current region.          \n",
      "\n",
      "⠛ Deploying new service... Deploying Revision.                                 \n",
      "  ⠛ Creating Revision... Initializing project for the current region.          \n",
      "\n",
      "⠹ Deploying new service... Deploying Revision.                                 \n",
      "  ⠹ Creating Revision... Initializing project for the current region.          \n",
      "\n",
      "⠼ Deploying new service... Deploying Revision.                                 \n",
      "  ⠼ Creating Revision... Initializing project for the current region.          \n",
      "\n",
      "⠶ Deploying new service... Deploying Revision.                                 \n",
      "  ⠶ Creating Revision... Initializing project for the current region.          \n",
      "\n",
      "⠧ Deploying new service... Deploying Revision.                                 \n",
      "  ⠧ Creating Revision... Initializing project for the current region.          \n",
      "\n",
      "⠏ Deploying new service... Deploying Revision.                                 \n",
      "  ⠏ Creating Revision... Initializing project for the current region.          \n",
      "\n",
      "⠛ Deploying new service... Deploying Revision.                                 \n",
      "  ⠛ Creating Revision... Initializing project for the current region.          \n",
      "\n",
      "⠹ Deploying new service... Deploying Revision.                                 \n",
      "  ⠹ Creating Revision... Initializing project for the current region.          \n",
      "\n",
      "⠼ Deploying new service... Deploying Revision.                                 \n",
      "  ⠼ Creating Revision... Initializing project for the current region.          \n",
      "\n",
      "⠶ Deploying new service... Deploying Revision.                                 \n",
      "  ⠶ Creating Revision... Initializing project for the current region.          \n",
      "\n",
      "⠧ Deploying new service... Deploying Revision.                                 \n",
      "  ⠧ Creating Revision... Initializing project for the current region.          \n",
      "\n",
      "⠏ Deploying new service... Deploying Revision.                                 \n",
      "  ⠏ Creating Revision... Initializing project for the current region.          \n",
      "\n",
      "⠛ Deploying new service... Deploying Revision.                                 \n",
      "  ⠛ Creating Revision... Initializing project for the current region.          \n",
      "\n",
      "⠹ Deploying new service... Deploying Revision.                                 \n",
      "  ⠹ Creating Revision... Initializing project for the current region.          \n",
      "\n",
      "⠼ Deploying new service... Deploying Revision.                                 \n",
      "  ⠼ Creating Revision... Initializing project for the current region.          \n",
      "\n",
      "⠶ Deploying new service... Deploying Revision.                                 \n",
      "  ⠶ Creating Revision... Initializing project for the current region.          \n",
      "\n",
      "⠧ Deploying new service... Deploying Revision.                                 \n",
      "  ⠧ Creating Revision... Initializing project for the current region.          \n",
      "\n",
      "⠏ Deploying new service... Deploying Revision.                                 \n",
      "  ⠏ Creating Revision... Initializing project for the current region.          \n",
      "\n",
      "⠛ Deploying new service... Deploying Revision.                                 \n",
      "  ⠛ Creating Revision... Initializing project for the current region.          \n",
      "\n",
      "⠹ Deploying new service... Deploying Revision.                                 \n",
      "  ⠹ Creating Revision... Initializing project for the current region.          \n",
      "\n",
      "⠼ Deploying new service... Deploying Revision.                                 \n",
      "  ⠼ Creating Revision... Initializing project for the current region.          \n",
      "\n",
      "⠶ Deploying new service... Deploying Revision.                                 \n",
      "  ⠶ Creating Revision... Initializing project for the current region.          \n",
      "\n",
      "⠧ Deploying new service... Deploying Revision.                                 \n",
      "  ⠧ Creating Revision... Initializing project for the current region.          \n",
      "\n",
      "⠏ Deploying new service... Deploying Revision.                                 \n",
      "  ⠏ Creating Revision... Initializing project for the current region.          \n",
      "\n",
      "⠛ Deploying new service... Deploying Revision.                                 \n",
      "  ⠛ Creating Revision... Initializing project for the current region.          \n",
      "\n",
      "⠹ Deploying new service... Deploying Revision.                                 \n",
      "  ⠹ Creating Revision... Initializing project for the current region.          \n",
      "\n",
      "⠼ Deploying new service... Deploying Revision.                                 \n",
      "  ⠼ Creating Revision... Initializing project for the current region.          \n",
      "\n",
      "⠶ Deploying new service... Deploying Revision.                                 \n",
      "  ⠶ Creating Revision... Initializing project for the current region.          \n",
      "\n",
      "⠧ Deploying new service... Deploying Revision.                                 \n",
      "  ⠧ Creating Revision... Initializing project for the current region.          \n",
      "\n",
      "⠏ Deploying new service... Deploying Revision.                                 \n",
      "  ⠏ Creating Revision... Initializing project for the current region.          \n",
      "\n",
      "⠛ Deploying new service... Deploying Revision.                                 \n",
      "  ⠛ Creating Revision... Initializing project for the current region.          \n",
      "\n",
      "⠹ Deploying new service... Deploying Revision.                                 \n",
      "  ⠹ Creating Revision... Initializing project for the current region.          \n",
      "\n",
      "⠼ Deploying new service... Deploying Revision.                                 \n",
      "  ⠼ Creating Revision... Initializing project for the current region.          \n",
      "\n",
      "⠶ Deploying new service... Deploying Revision.                                 \n",
      "  ⠶ Creating Revision... Initializing project for the current region.          \n",
      "\n",
      "⠧ Deploying new service... Deploying Revision.                                 \n",
      "  ⠧ Creating Revision... Initializing project for the current region.          \n",
      "\n",
      "⠏ Deploying new service... Deploying Revision.                                 \n",
      "  ⠏ Creating Revision... Initializing project for the current region.          \n",
      "\n",
      "⠛ Deploying new service... Deploying Revision.                                 \n",
      "  ⠛ Creating Revision... Initializing project for the current region.          \n",
      "\n",
      "⠹ Deploying new service... Deploying Revision.                                 \n",
      "  ⠹ Creating Revision... Initializing project for the current region.          \n",
      "\n",
      "⠼ Deploying new service... Deploying Revision.                                 \n",
      "  ⠼ Creating Revision... Initializing project for the current region.          \n",
      "\n",
      "⠶ Deploying new service... Deploying Revision.                                 \n",
      "  ⠶ Creating Revision... Initializing project for the current region.          \n",
      "\n",
      "⠧ Deploying new service... Deploying Revision.                                 \n",
      "  ⠧ Creating Revision... Initializing project for the current region.          \n",
      "\n",
      "⠏ Deploying new service... Deploying Revision.                                 \n",
      "  ⠏ Creating Revision... Initializing project for the current region.          \n",
      "\n",
      "⠛ Deploying new service... Deploying Revision.                                 \n",
      "  ⠛ Creating Revision... Initializing project for the current region.          \n",
      "\n",
      "⠹ Deploying new service... Deploying Revision.                                 \n",
      "  ⠹ Creating Revision... Initializing project for the current region.          \n",
      "\n",
      "⠼ Deploying new service... Deploying Revision.                                 \n",
      "  ⠼ Creating Revision... Initializing project for the current region.          \n",
      "\n",
      "⠶ Deploying new service... Deploying Revision.                                 \n",
      "  ⠶ Creating Revision... Initializing project for the current region.          \n",
      "\n",
      "⠧ Deploying new service... Deploying Revision.                                 \n",
      "  ⠧ Creating Revision... Initializing project for the current region.          \n",
      "\n",
      "⠏ Deploying new service... Deploying Revision.                                 \n",
      "  ⠏ Creating Revision... Initializing project for the current region.          \n",
      "\n",
      "⠛ Deploying new service... Deploying Revision.                                 \n",
      "  ⠛ Creating Revision... Initializing project for the current region.          \n",
      "\n",
      "⠹ Deploying new service... Deploying Revision.                                 \n",
      "  ⠹ Creating Revision... Initializing project for the current region.          \n",
      "\n",
      "⠼ Deploying new service... Deploying Revision.                                 \n",
      "  ⠼ Creating Revision... Initializing project for the current region.          \n",
      "\n",
      "⠶ Deploying new service... Deploying Revision.                                 \n",
      "  ⠶ Creating Revision... Initializing project for the current region.          \n",
      "\n",
      "⠧ Deploying new service... Deploying Revision.                                 \n",
      "  ⠧ Creating Revision... Initializing project for the current region.          \n",
      "\n",
      "⠏ Deploying new service... Deploying Revision.                                 \n",
      "  ⠏ Creating Revision... Initializing project for the current region.          \n",
      "\n",
      "⠛ Deploying new service... Deploying Revision.                                 \n",
      "  ⠛ Creating Revision... Initializing project for the current region.          \n",
      "\n",
      "⠹ Deploying new service... Deploying Revision.                                 \n",
      "  ⠹ Creating Revision... Initializing project for the current region.          \n",
      "\n",
      "⠼ Deploying new service... Deploying Revision.                                 \n",
      "  ⠼ Creating Revision... Initializing project for the current region.          \n",
      "\n",
      "⠶ Deploying new service... Deploying Revision.                                 \n",
      "  ⠶ Creating Revision... Initializing project for the current region.          \n",
      "\n",
      "⠧ Deploying new service... Deploying Revision.                                 \n",
      "  ⠧ Creating Revision... Initializing project for the current region.          \n",
      "\n",
      "⠏ Deploying new service... Deploying Revision.                                 \n",
      "  ⠏ Creating Revision... Initializing project for the current region.          \n",
      "\n",
      "⠛ Deploying new service... Deploying Revision.                                 \n",
      "  ⠛ Creating Revision... Initializing project for the current region.          \n",
      "\n",
      "⠹ Deploying new service... Deploying Revision.                                 \n",
      "  ⠹ Creating Revision... Initializing project for the current region.          \n",
      "\n",
      "⠼ Deploying new service... Deploying Revision.                                 \n",
      "  ⠼ Creating Revision... Initializing project for the current region.          \n",
      "\n",
      "⠶ Deploying new service... Deploying Revision.                                 \n",
      "  ⠶ Creating Revision... Initializing project for the current region.          \n",
      "\n",
      "⠧ Deploying new service... Deploying Revision.                                 \n",
      "  ⠧ Creating Revision... Initializing project for the current region.          \n",
      "\n",
      "⠏ Deploying new service... Deploying Revision.                                 \n",
      "  ⠏ Creating Revision... Initializing project for the current region.          \n",
      "\n",
      "⠛ Deploying new service... Deploying Revision.                                 \n",
      "  ⠛ Creating Revision... Initializing project for the current region.          \n",
      "\n",
      "⠹ Deploying new service... Deploying Revision.                                 \n",
      "  ⠹ Creating Revision... Initializing project for the current region.          \n",
      "\n",
      "⠼ Deploying new service... Deploying Revision.                                 \n",
      "  ⠼ Creating Revision... Initializing project for the current region.          \n",
      "\n",
      "⠶ Deploying new service... Deploying Revision.                                 \n",
      "  ⠶ Creating Revision... Initializing project for the current region.          \n",
      "\n",
      "⠧ Deploying new service... Deploying Revision.                                 \n",
      "  ⠧ Creating Revision... Initializing project for the current region.          \n",
      "\n",
      "⠏ Deploying new service... Deploying Revision.                                 \n",
      "  ⠏ Creating Revision... Initializing project for the current region.          \n",
      "\n",
      "⠛ Deploying new service... Deploying Revision.                                 \n",
      "  ⠛ Creating Revision... Initializing project for the current region.          \n",
      "\n",
      "⠹ Deploying new service... Deploying Revision.                                 \n",
      "  ⠹ Creating Revision... Initializing project for the current region.          \n",
      "\n",
      "⠼ Deploying new service... Deploying Revision.                                 \n",
      "  ⠼ Creating Revision... Initializing project for the current region.          \n",
      "\n",
      "⠶ Deploying new service... Deploying Revision.                                 \n",
      "  ⠶ Creating Revision... Initializing project for the current region.          \n",
      "\n",
      "⠧ Deploying new service... Deploying Revision.                                 \n",
      "  ⠧ Creating Revision... Initializing project for the current region.          \n",
      "\n",
      "⠏ Deploying new service... Deploying Revision.                                 \n",
      "  ⠏ Creating Revision... Initializing project for the current region.          \n",
      "\n",
      "⠛ Deploying new service... Deploying Revision.                                 \n",
      "  ⠛ Creating Revision... Initializing project for the current region.          \n",
      "\n",
      "⠹ Deploying new service... Deploying Revision.                                 \n",
      "  ⠹ Creating Revision... Initializing project for the current region.          \n",
      "\n",
      "⠼ Deploying new service... Deploying Revision.                                 \n",
      "  ⠼ Creating Revision... Initializing project for the current region.          \n",
      "\n",
      "⠶ Deploying new service... Deploying Revision.                                 \n",
      "  ⠶ Creating Revision... Initializing project for the current region.          \n",
      "\n",
      "⠧ Deploying new service... Deploying Revision.                                 \n",
      "  ⠧ Creating Revision... Initializing project for the current region.          \n",
      "\n",
      "⠏ Deploying new service... Deploying Revision.                                 \n",
      "  ⠏ Creating Revision... Initializing project for the current region.          \n",
      "\n",
      "⠛ Deploying new service... Deploying Revision.                                 \n",
      "  ⠛ Creating Revision... Initializing project for the current region.          \n",
      "\n",
      "⠹ Deploying new service... Deploying Revision.                                 \n",
      "  ⠹ Creating Revision... Initializing project for the current region.          \n",
      "\n",
      "⠼ Deploying new service... Deploying Revision.                                 \n",
      "  ⠼ Creating Revision... Initializing project for the current region.          \n",
      "\n",
      "⠶ Deploying new service... Deploying Revision.                                 \n",
      "  ⠶ Creating Revision... Initializing project for the current region.          \n",
      "\n",
      "⠧ Deploying new service... Deploying Revision.                                 \n",
      "  ⠧ Creating Revision... Initializing project for the current region.          \n",
      "\n",
      "⠏ Deploying new service... Deploying Revision.                                 \n",
      "  ⠏ Creating Revision... Initializing project for the current region.          \n",
      "\n",
      "⠛ Deploying new service... Deploying Revision.                                 \n",
      "  ⠛ Creating Revision... Initializing project for the current region.          \n",
      "\n",
      "⠹ Deploying new service... Deploying Revision.                                 \n",
      "  ⠹ Creating Revision... Initializing project for the current region.          \n",
      "\n",
      "⠼ Deploying new service... Cloud Run error: The user-provided container failed \n",
      "to start and listen on the port defined provided by the PORT=8080 environment v\n",
      "ariable. Logs for this revision might contain more information.                \n",
      "\n",
      "Logs URL: http\n",
      "s://console.cloud.google.com/logs/viewer?project=statmike-mlops-349915&resource\n",
      "=cloud_run_revision/service_name/endpoint-05-fraud/revision_name/endpoint-05-fr\n",
      "aud-00001-har&advancedFilter=resource.type%3D%22cloud_run_revision%22%0Aresourc\n",
      "e.labels.service_name%3D%22endpoint-05-fraud%22%0Aresource.labels.revision_name\n",
      "%3D%22endpoint-05-fraud-00001-har%22                                           \n",
      "For more troubleshooting guidance, see htt\n",
      "ps://cloud.google.com/run/docs/troubleshooting#container-failed-to-start       \n",
      "  X Creating Revision... Cloud Run error: The user-provided container failed to\n",
      "   start and listen on the port defined provided by the PORT=8080 environment v\n",
      "  ariable. Logs for this revision might contain more information.              \n",
      "\n",
      "Logs URL: ht\n",
      "  tps://console.cloud.google.com/logs/viewer?project=statmike-mlops-349915&reso\n",
      "  urce=cloud_run_revision/service_name/endpoint-05-fraud/revision_name/endpoint\n",
      "  -05-fraud-00001-har&advancedFilter=resource.type%3D%22cloud_run_revision%22%0\n",
      "  Aresource.labels.service_name%3D%22endpoint-05-fraud%22%0Aresource.labels.rev\n",
      "  ision_name%3D%22endpoint-05-fraud-00001-har%22                               \n",
      "For more troubleshooting guida\n",
      "  nce, see https://cloud.google.com/run/docs/troubleshooting#container-failed-t\n",
      "  o-start                                                                      \n",
      "  . Routing traffic...                                                         \n",
      "X Deploying new service... Cloud Run error: The user-provided container failed \n",
      "to start and listen on the port defined provided by the PORT=8080 environment v\n",
      "ariable. Logs for this revision might contain more information.                \n",
      "\n",
      "Logs URL: http\n",
      "s://console.cloud.google.com/logs/viewer?project=statmike-mlops-349915&resource\n",
      "=cloud_run_revision/service_name/endpoint-05-fraud/revision_name/endpoint-05-fr\n",
      "aud-00001-har&advancedFilter=resource.type%3D%22cloud_run_revision%22%0Aresourc\n",
      "e.labels.service_name%3D%22endpoint-05-fraud%22%0Aresource.labels.revision_name\n",
      "%3D%22endpoint-05-fraud-00001-har%22                                           \n",
      "For more troubleshooting guidance, see htt\n",
      "ps://cloud.google.com/run/docs/troubleshooting#container-failed-to-start       \n",
      "\n",
      "\n",
      "\n",
      "\n",
      "\n",
      "\n",
      "\n",
      "\n",
      "\n",
      "\n",
      "\n",
      "Deployment failed                                                              \n",
      "\u001b[1;31mERROR:\u001b[0m (gcloud.run.deploy) Cloud Run error: The user-provided container failed to start and listen on the port defined provided by the PORT=8080 environment variable. Logs for this revision might contain more information.\n",
      "\n",
      "Logs URL: https://console.cloud.google.com/logs/viewer?project=statmike-mlops-349915&resource=cloud_run_revision/service_name/endpoint-05-fraud/revision_name/endpoint-05-fraud-00001-har&advancedFilter=resource.type%3D%22cloud_run_revision%22%0Aresource.labels.service_name%3D%22endpoint-05-fraud%22%0Aresource.labels.revision_name%3D%22endpoint-05-fraud-00001-har%22\n",
      "For more troubleshooting guidance, see https://cloud.google.com/run/docs/troubleshooting#container-failed-to-start\n"
     ]
    }
   ],
   "source": [
    "!gcloud run deploy endpoint-$SERIES-$DATANAME --image $IMAGE_URI --region $REGION --no-allow-unauthenticated"
   ]
  },
  {
   "cell_type": "code",
   "execution_count": null,
   "id": "d1934227-debc-4e7b-8054-95272aa72da3",
   "metadata": {},
   "outputs": [],
   "source": []
  },
  {
   "cell_type": "code",
   "execution_count": null,
   "id": "2eb7d894-57ca-461e-a171-185b3417e77d",
   "metadata": {},
   "outputs": [],
   "source": []
  },
  {
   "cell_type": "code",
   "execution_count": null,
   "id": "bfa6a227-fd1e-452f-84b4-3d31560e3681",
   "metadata": {},
   "outputs": [],
   "source": []
  },
  {
   "cell_type": "code",
   "execution_count": null,
   "id": "8b297c64-29ad-4d72-a3a3-1ebb7e459ab0",
   "metadata": {},
   "outputs": [],
   "source": []
  },
  {
   "cell_type": "code",
   "execution_count": null,
   "id": "19b0c5fe-d25b-45ad-91d7-139417433681",
   "metadata": {},
   "outputs": [],
   "source": []
  }
 ],
 "metadata": {
  "environment": {
   "kernel": "python3",
   "name": "tf2-gpu.2-3.m94",
   "type": "gcloud",
   "uri": "gcr.io/deeplearning-platform-release/tf2-gpu.2-3:m94"
  },
  "kernelspec": {
   "display_name": "Python 3",
   "language": "python",
   "name": "python3"
  },
  "language_info": {
   "codemirror_mode": {
    "name": "ipython",
    "version": 3
   },
   "file_extension": ".py",
   "mimetype": "text/x-python",
   "name": "python",
   "nbconvert_exporter": "python",
   "pygments_lexer": "ipython3",
   "version": "3.7.12"
  }
 },
 "nbformat": 4,
 "nbformat_minor": 5
}
