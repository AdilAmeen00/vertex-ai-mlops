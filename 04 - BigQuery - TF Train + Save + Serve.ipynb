{
 "cells": [
  {
   "cell_type": "markdown",
   "id": "curious-victorian",
   "metadata": {},
   "source": [
    "# BigQuery Data for TensorFlow Train and Save then AI Platform for Serving"
   ]
  },
  {
   "cell_type": "markdown",
   "id": "written-bangladesh",
   "metadata": {
    "jupyter": {
     "source_hidden": true
    }
   },
   "source": []
  },
  {
   "cell_type": "code",
   "execution_count": 1,
   "id": "growing-yemen",
   "metadata": {},
   "outputs": [],
   "source": [
    "from tensorflow_io.bigquery import BigQueryClient\n",
    "from tensorflow_io.bigquery import BigQueryReadSession\n",
    "import tensorflow as tf"
   ]
  },
  {
   "cell_type": "code",
   "execution_count": 201,
   "id": "hollow-backup",
   "metadata": {},
   "outputs": [],
   "source": [
    "PROJECT_ID='statmike-mlops'\n",
    "BQDATASET_ID='digits'\n",
    "BQTABLE_ID='digits_prepped'\n",
    "MODEL_DIR='gs://statmike-models/digits/keras'\n",
    "BATCH_SIZE = 30"
   ]
  },
  {
   "cell_type": "markdown",
   "id": "polar-mouth",
   "metadata": {
    "jupyter": {
     "source_hidden": true
    }
   },
   "source": []
  },
  {
   "cell_type": "markdown",
   "id": "centered-pennsylvania",
   "metadata": {},
   "source": [
    "https://cloud.google.com/bigquery/docs/bigquery-storage-python-pandas"
   ]
  },
  {
   "cell_type": "code",
   "execution_count": 207,
   "id": "vulnerable-brunswick",
   "metadata": {},
   "outputs": [
    {
     "data": {
      "text/html": [
       "<div>\n",
       "<style scoped>\n",
       "    .dataframe tbody tr th:only-of-type {\n",
       "        vertical-align: middle;\n",
       "    }\n",
       "\n",
       "    .dataframe tbody tr th {\n",
       "        vertical-align: top;\n",
       "    }\n",
       "\n",
       "    .dataframe thead th {\n",
       "        text-align: right;\n",
       "    }\n",
       "</style>\n",
       "<table border=\"1\" class=\"dataframe\">\n",
       "  <thead>\n",
       "    <tr style=\"text-align: right;\">\n",
       "      <th></th>\n",
       "      <th>table_catalog</th>\n",
       "      <th>table_schema</th>\n",
       "      <th>table_name</th>\n",
       "      <th>column_name</th>\n",
       "      <th>field_path</th>\n",
       "      <th>data_type</th>\n",
       "      <th>description</th>\n",
       "    </tr>\n",
       "  </thead>\n",
       "  <tbody>\n",
       "    <tr>\n",
       "      <th>0</th>\n",
       "      <td>statmike-mlops</td>\n",
       "      <td>digits</td>\n",
       "      <td>digits_prepped</td>\n",
       "      <td>p0</td>\n",
       "      <td>p0</td>\n",
       "      <td>FLOAT64</td>\n",
       "      <td>None</td>\n",
       "    </tr>\n",
       "    <tr>\n",
       "      <th>1</th>\n",
       "      <td>statmike-mlops</td>\n",
       "      <td>digits</td>\n",
       "      <td>digits_prepped</td>\n",
       "      <td>p1</td>\n",
       "      <td>p1</td>\n",
       "      <td>FLOAT64</td>\n",
       "      <td>None</td>\n",
       "    </tr>\n",
       "    <tr>\n",
       "      <th>2</th>\n",
       "      <td>statmike-mlops</td>\n",
       "      <td>digits</td>\n",
       "      <td>digits_prepped</td>\n",
       "      <td>p2</td>\n",
       "      <td>p2</td>\n",
       "      <td>FLOAT64</td>\n",
       "      <td>None</td>\n",
       "    </tr>\n",
       "    <tr>\n",
       "      <th>3</th>\n",
       "      <td>statmike-mlops</td>\n",
       "      <td>digits</td>\n",
       "      <td>digits_prepped</td>\n",
       "      <td>p3</td>\n",
       "      <td>p3</td>\n",
       "      <td>FLOAT64</td>\n",
       "      <td>None</td>\n",
       "    </tr>\n",
       "    <tr>\n",
       "      <th>4</th>\n",
       "      <td>statmike-mlops</td>\n",
       "      <td>digits</td>\n",
       "      <td>digits_prepped</td>\n",
       "      <td>p4</td>\n",
       "      <td>p4</td>\n",
       "      <td>FLOAT64</td>\n",
       "      <td>None</td>\n",
       "    </tr>\n",
       "    <tr>\n",
       "      <th>...</th>\n",
       "      <td>...</td>\n",
       "      <td>...</td>\n",
       "      <td>...</td>\n",
       "      <td>...</td>\n",
       "      <td>...</td>\n",
       "      <td>...</td>\n",
       "      <td>...</td>\n",
       "    </tr>\n",
       "    <tr>\n",
       "      <th>62</th>\n",
       "      <td>statmike-mlops</td>\n",
       "      <td>digits</td>\n",
       "      <td>digits_prepped</td>\n",
       "      <td>p62</td>\n",
       "      <td>p62</td>\n",
       "      <td>FLOAT64</td>\n",
       "      <td>None</td>\n",
       "    </tr>\n",
       "    <tr>\n",
       "      <th>63</th>\n",
       "      <td>statmike-mlops</td>\n",
       "      <td>digits</td>\n",
       "      <td>digits_prepped</td>\n",
       "      <td>p63</td>\n",
       "      <td>p63</td>\n",
       "      <td>FLOAT64</td>\n",
       "      <td>None</td>\n",
       "    </tr>\n",
       "    <tr>\n",
       "      <th>64</th>\n",
       "      <td>statmike-mlops</td>\n",
       "      <td>digits</td>\n",
       "      <td>digits_prepped</td>\n",
       "      <td>target</td>\n",
       "      <td>target</td>\n",
       "      <td>INT64</td>\n",
       "      <td>None</td>\n",
       "    </tr>\n",
       "    <tr>\n",
       "      <th>65</th>\n",
       "      <td>statmike-mlops</td>\n",
       "      <td>digits</td>\n",
       "      <td>digits_prepped</td>\n",
       "      <td>target_OE</td>\n",
       "      <td>target_OE</td>\n",
       "      <td>STRING</td>\n",
       "      <td>None</td>\n",
       "    </tr>\n",
       "    <tr>\n",
       "      <th>66</th>\n",
       "      <td>statmike-mlops</td>\n",
       "      <td>digits</td>\n",
       "      <td>digits_prepped</td>\n",
       "      <td>SPLITS</td>\n",
       "      <td>SPLITS</td>\n",
       "      <td>STRING</td>\n",
       "      <td>None</td>\n",
       "    </tr>\n",
       "  </tbody>\n",
       "</table>\n",
       "<p>67 rows × 7 columns</p>\n",
       "</div>"
      ],
      "text/plain": [
       "     table_catalog table_schema      table_name column_name field_path  \\\n",
       "0   statmike-mlops       digits  digits_prepped          p0         p0   \n",
       "1   statmike-mlops       digits  digits_prepped          p1         p1   \n",
       "2   statmike-mlops       digits  digits_prepped          p2         p2   \n",
       "3   statmike-mlops       digits  digits_prepped          p3         p3   \n",
       "4   statmike-mlops       digits  digits_prepped          p4         p4   \n",
       "..             ...          ...             ...         ...        ...   \n",
       "62  statmike-mlops       digits  digits_prepped         p62        p62   \n",
       "63  statmike-mlops       digits  digits_prepped         p63        p63   \n",
       "64  statmike-mlops       digits  digits_prepped      target     target   \n",
       "65  statmike-mlops       digits  digits_prepped   target_OE  target_OE   \n",
       "66  statmike-mlops       digits  digits_prepped      SPLITS     SPLITS   \n",
       "\n",
       "   data_type description  \n",
       "0    FLOAT64        None  \n",
       "1    FLOAT64        None  \n",
       "2    FLOAT64        None  \n",
       "3    FLOAT64        None  \n",
       "4    FLOAT64        None  \n",
       "..       ...         ...  \n",
       "62   FLOAT64        None  \n",
       "63   FLOAT64        None  \n",
       "64     INT64        None  \n",
       "65    STRING        None  \n",
       "66    STRING        None  \n",
       "\n",
       "[67 rows x 7 columns]"
      ]
     },
     "execution_count": 207,
     "metadata": {},
     "output_type": "execute_result"
    }
   ],
   "source": [
    "from google.cloud import bigquery\n",
    "bqclient = bigquery.Client()\n",
    "bqjob = bqclient.query(\n",
    "\"\"\"\n",
    "SELECT * FROM `\"\"\"+BQDATASET_ID+\"\"\".INFORMATION_SCHEMA.COLUMN_FIELD_PATHS`\n",
    "WHERE TABLE_NAME = '\"\"\"+BQTABLE_ID+\"\"\"' \"\"\"\n",
    ")\n",
    "schema = bqjob.result().to_dataframe()\n",
    "schema"
   ]
  },
  {
   "cell_type": "markdown",
   "id": "objective-australia",
   "metadata": {},
   "source": []
  },
  {
   "cell_type": "code",
   "execution_count": 208,
   "id": "protecting-spotlight",
   "metadata": {},
   "outputs": [],
   "source": [
    "OMIT = ['target_OE','SPLITS']\n",
    "\n",
    "selected_fields=schema[~schema.column_name.isin(OMIT)].column_name.tolist()\n",
    "\n",
    "feature_columns = []\n",
    "feature_layer_inputs = {}\n",
    "for header in selected_fields:\n",
    "    if header != 'target':\n",
    "        feature_columns.append(tf.feature_column.numeric_column(header))\n",
    "        feature_layer_inputs[header] = tf.keras.Input(shape=(1,),name=header)\n",
    "\n",
    "from tensorflow.python.framework import dtypes\n",
    "output_types=schema[~schema.column_name.isin(OMIT)].data_type.tolist()\n",
    "output_types = [dtypes.float64 if x=='FLOAT64' else dtypes.int64 for x in output_types]"
   ]
  },
  {
   "cell_type": "markdown",
   "id": "burning-customer",
   "metadata": {},
   "source": []
  },
  {
   "cell_type": "markdown",
   "id": "renewable-special",
   "metadata": {},
   "source": [
    "https://www.tensorflow.org/io/api_docs/python/tfio/bigquery/BigQueryClient"
   ]
  },
  {
   "cell_type": "code",
   "execution_count": 209,
   "id": "fifth-bicycle",
   "metadata": {},
   "outputs": [],
   "source": [
    "def transTable(row_dict):\n",
    "    target=row_dict.pop('target')\n",
    "    target = tf.one_hot(tf.cast(target,tf.int64),10)\n",
    "    target = tf.cast(target,tf.float32)\n",
    "    return(row_dict,target)"
   ]
  },
  {
   "cell_type": "markdown",
   "id": "outdoor-curtis",
   "metadata": {},
   "source": []
  },
  {
   "cell_type": "code",
   "execution_count": 210,
   "id": "increased-waste",
   "metadata": {},
   "outputs": [],
   "source": [
    "client = BigQueryClient()\n",
    "session = client.read_session(\"projects/\"+PROJECT_ID,PROJECT_ID,BQTABLE_ID,BQDATASET_ID,selected_fields,output_types,row_restriction=\"SPLITS='TRAIN'\",requested_streams=3)\n",
    "table = session.parallel_read_rows()\n",
    "table = table.map(transTable)"
   ]
  },
  {
   "cell_type": "markdown",
   "id": "incomplete-ideal",
   "metadata": {},
   "source": []
  },
  {
   "cell_type": "code",
   "execution_count": 211,
   "id": "under-excuse",
   "metadata": {},
   "outputs": [],
   "source": [
    "train = table.shuffle(100000).batch(BATCH_SIZE)"
   ]
  },
  {
   "cell_type": "code",
   "execution_count": 212,
   "id": "wireless-origin",
   "metadata": {},
   "outputs": [],
   "source": [
    "client = BigQueryClient()\n",
    "session = client.read_session(\"projects/\"+PROJECT_ID,PROJECT_ID,BQTABLE_ID,BQDATASET_ID,selected_fields,output_types,row_restriction=\"SPLITS='TEST'\",requested_streams=3)\n",
    "table = session.parallel_read_rows()\n",
    "table = table.map(transTable)\n",
    "test = table.batch(BATCH_SIZE)"
   ]
  },
  {
   "cell_type": "markdown",
   "id": "ruled-packing",
   "metadata": {},
   "source": []
  },
  {
   "cell_type": "code",
   "execution_count": 213,
   "id": "rotary-dependence",
   "metadata": {},
   "outputs": [
    {
     "name": "stdout",
     "output_type": "stream",
     "text": [
      "['p0', 'p1', 'p10', 'p11', 'p12', 'p13', 'p14', 'p15', 'p16', 'p17', 'p18', 'p19', 'p2', 'p20', 'p21', 'p22', 'p23', 'p24', 'p25', 'p26', 'p27', 'p28', 'p29', 'p3', 'p30', 'p31', 'p32', 'p33', 'p34', 'p35', 'p36', 'p37', 'p38', 'p39', 'p4', 'p40', 'p41', 'p42', 'p43', 'p44', 'p45', 'p46', 'p47', 'p48', 'p49', 'p5', 'p50', 'p51', 'p52', 'p53', 'p54', 'p55', 'p56', 'p57', 'p58', 'p59', 'p6', 'p60', 'p61', 'p62', 'p63', 'p7', 'p8', 'p9']\n",
      "tf.Tensor(\n",
      "[[1. 0. 0. 0. 0. 0. 0. 0. 0. 0.]\n",
      " [0. 0. 0. 0. 0. 0. 0. 0. 0. 1.]\n",
      " [0. 0. 0. 0. 1. 0. 0. 0. 0. 0.]\n",
      " [0. 0. 0. 0. 0. 0. 0. 0. 0. 1.]\n",
      " [0. 0. 0. 0. 0. 1. 0. 0. 0. 0.]\n",
      " [0. 0. 0. 0. 0. 0. 1. 0. 0. 0.]\n",
      " [0. 0. 0. 0. 0. 0. 1. 0. 0. 0.]\n",
      " [0. 0. 0. 0. 1. 0. 0. 0. 0. 0.]\n",
      " [0. 0. 0. 0. 0. 0. 0. 1. 0. 0.]\n",
      " [0. 0. 0. 0. 0. 0. 1. 0. 0. 0.]\n",
      " [0. 1. 0. 0. 0. 0. 0. 0. 0. 0.]\n",
      " [0. 0. 0. 0. 0. 1. 0. 0. 0. 0.]\n",
      " [0. 0. 0. 0. 1. 0. 0. 0. 0. 0.]\n",
      " [0. 0. 0. 0. 0. 0. 1. 0. 0. 0.]\n",
      " [0. 0. 0. 0. 0. 0. 0. 0. 1. 0.]\n",
      " [1. 0. 0. 0. 0. 0. 0. 0. 0. 0.]\n",
      " [0. 0. 0. 0. 0. 0. 0. 0. 1. 0.]\n",
      " [0. 0. 0. 1. 0. 0. 0. 0. 0. 0.]\n",
      " [1. 0. 0. 0. 0. 0. 0. 0. 0. 0.]\n",
      " [0. 0. 0. 0. 0. 0. 0. 0. 1. 0.]\n",
      " [0. 0. 0. 0. 0. 1. 0. 0. 0. 0.]\n",
      " [0. 0. 0. 0. 0. 0. 0. 0. 0. 1.]\n",
      " [0. 0. 0. 0. 0. 1. 0. 0. 0. 0.]\n",
      " [0. 0. 0. 0. 0. 0. 0. 0. 0. 1.]\n",
      " [0. 0. 0. 1. 0. 0. 0. 0. 0. 0.]\n",
      " [0. 0. 0. 0. 0. 0. 0. 0. 0. 1.]\n",
      " [0. 0. 0. 0. 0. 0. 0. 0. 0. 1.]\n",
      " [0. 0. 0. 0. 0. 0. 0. 0. 0. 1.]\n",
      " [0. 0. 0. 0. 0. 0. 0. 0. 0. 1.]\n",
      " [0. 0. 0. 0. 0. 1. 0. 0. 0. 0.]], shape=(30, 10), dtype=float32)\n"
     ]
    }
   ],
   "source": [
    "for a, b in train.take(1):\n",
    "    columns=list(a.keys())\n",
    "    print(columns)\n",
    "    #print(a)\n",
    "    print(b)"
   ]
  },
  {
   "cell_type": "code",
   "execution_count": 199,
   "id": "naughty-native",
   "metadata": {},
   "outputs": [],
   "source": [
    "model = tf.keras.Sequential()\n",
    "model.add(tf.keras.layers.DenseFeatures(feature_columns))\n",
    "model.add(tf.keras.layers.Dense(10, activation=tf.nn.softmax))\n",
    "model.compile(optimizer='sgd', loss='categorical_crossentropy', metrics=['accuracy'])"
   ]
  },
  {
   "cell_type": "code",
   "execution_count": 217,
   "id": "amended-mambo",
   "metadata": {},
   "outputs": [],
   "source": [
    "feature_layer = tf.keras.layers.DenseFeatures(feature_columns)\n",
    "feature_layer_outputs = feature_layer(feature_layer_inputs)\n",
    "model = tf.keras.Model(inputs=[v for v in feature_layer_inputs.values()],outputs=tf.keras.layers.Dense(10,activation=tf.nn.softmax)(feature_layer_outputs))\n",
    "model.compile(optimizer='sgd', loss='categorical_crossentropy', metrics=['accuracy'])"
   ]
  },
  {
   "cell_type": "code",
   "execution_count": null,
   "id": "assumed-validation",
   "metadata": {},
   "outputs": [],
   "source": []
  },
  {
   "cell_type": "markdown",
   "id": "sixth-noise",
   "metadata": {},
   "source": []
  },
  {
   "cell_type": "code",
   "execution_count": 218,
   "id": "blond-brand",
   "metadata": {},
   "outputs": [
    {
     "name": "stdout",
     "output_type": "stream",
     "text": [
      "Epoch 1/50\n",
      "48/48 [==============================] - 2s 9ms/step - loss: 5.5531 - accuracy: 0.3159\n",
      "Epoch 2/50\n",
      "48/48 [==============================] - 1s 10ms/step - loss: 0.6995 - accuracy: 0.8314\n",
      "Epoch 3/50\n",
      "48/48 [==============================] - 1s 9ms/step - loss: 0.4056 - accuracy: 0.8725\n",
      "Epoch 4/50\n",
      "48/48 [==============================] - 1s 12ms/step - loss: 0.3496 - accuracy: 0.8834\n",
      "Epoch 5/50\n",
      "48/48 [==============================] - 1s 11ms/step - loss: 0.2510 - accuracy: 0.9273\n",
      "Epoch 6/50\n",
      "48/48 [==============================] - 1s 11ms/step - loss: 0.2168 - accuracy: 0.9334\n",
      "Epoch 7/50\n",
      "48/48 [==============================] - 1s 9ms/step - loss: 0.1888 - accuracy: 0.9429\n",
      "Epoch 8/50\n",
      "48/48 [==============================] - 1s 10ms/step - loss: 0.1787 - accuracy: 0.9456\n",
      "Epoch 9/50\n",
      "48/48 [==============================] - 1s 10ms/step - loss: 0.1485 - accuracy: 0.9559\n",
      "Epoch 10/50\n",
      "48/48 [==============================] - 1s 8ms/step - loss: 0.1620 - accuracy: 0.9586\n",
      "Epoch 11/50\n",
      "48/48 [==============================] - 1s 10ms/step - loss: 0.1134 - accuracy: 0.9637\n",
      "Epoch 12/50\n",
      "48/48 [==============================] - 1s 8ms/step - loss: 0.1159 - accuracy: 0.9626\n",
      "Epoch 13/50\n",
      "48/48 [==============================] - 1s 10ms/step - loss: 0.1078 - accuracy: 0.9704\n",
      "Epoch 14/50\n",
      "48/48 [==============================] - 1s 9ms/step - loss: 0.0862 - accuracy: 0.9742\n",
      "Epoch 15/50\n",
      "48/48 [==============================] - 1s 11ms/step - loss: 0.0902 - accuracy: 0.9749\n",
      "Epoch 16/50\n",
      "48/48 [==============================] - 1s 7ms/step - loss: 0.0843 - accuracy: 0.9783\n",
      "Epoch 17/50\n",
      "48/48 [==============================] - 1s 7ms/step - loss: 0.0710 - accuracy: 0.9808\n",
      "Epoch 18/50\n",
      "48/48 [==============================] - 1s 8ms/step - loss: 0.0779 - accuracy: 0.9735\n",
      "Epoch 19/50\n",
      "48/48 [==============================] - 1s 9ms/step - loss: 0.0795 - accuracy: 0.9768\n",
      "Epoch 20/50\n",
      "48/48 [==============================] - 1s 10ms/step - loss: 0.0888 - accuracy: 0.9704\n",
      "Epoch 21/50\n",
      "48/48 [==============================] - 1s 10ms/step - loss: 0.0829 - accuracy: 0.9732\n",
      "Epoch 22/50\n",
      "48/48 [==============================] - 1s 9ms/step - loss: 0.0590 - accuracy: 0.9830\n",
      "Epoch 23/50\n",
      "48/48 [==============================] - 1s 12ms/step - loss: 0.0680 - accuracy: 0.9764\n",
      "Epoch 24/50\n",
      "48/48 [==============================] - 1s 9ms/step - loss: 0.0713 - accuracy: 0.9766\n",
      "Epoch 25/50\n",
      "48/48 [==============================] - 1s 10ms/step - loss: 0.0762 - accuracy: 0.9773\n",
      "Epoch 26/50\n",
      "48/48 [==============================] - 1s 10ms/step - loss: 0.0469 - accuracy: 0.9840\n",
      "Epoch 27/50\n",
      "48/48 [==============================] - 1s 10ms/step - loss: 0.0652 - accuracy: 0.9749\n",
      "Epoch 28/50\n",
      "48/48 [==============================] - 1s 11ms/step - loss: 0.0580 - accuracy: 0.9849\n",
      "Epoch 29/50\n",
      "48/48 [==============================] - 1s 10ms/step - loss: 0.0484 - accuracy: 0.9833\n",
      "Epoch 30/50\n",
      "48/48 [==============================] - 1s 7ms/step - loss: 0.0436 - accuracy: 0.9837\n",
      "Epoch 31/50\n",
      "48/48 [==============================] - 1s 12ms/step - loss: 0.0473 - accuracy: 0.9857\n",
      "Epoch 32/50\n",
      "48/48 [==============================] - 1s 6ms/step - loss: 0.0350 - accuracy: 0.9935\n",
      "Epoch 33/50\n",
      "48/48 [==============================] - 1s 9ms/step - loss: 0.0343 - accuracy: 0.9945\n",
      "Epoch 34/50\n",
      "48/48 [==============================] - 1s 10ms/step - loss: 0.0451 - accuracy: 0.9916\n",
      "Epoch 35/50\n",
      "48/48 [==============================] - 1s 10ms/step - loss: 0.0465 - accuracy: 0.9925\n",
      "Epoch 36/50\n",
      "48/48 [==============================] - 1s 11ms/step - loss: 0.0424 - accuracy: 0.9881\n",
      "Epoch 37/50\n",
      "48/48 [==============================] - 1s 6ms/step - loss: 0.0378 - accuracy: 0.9918\n",
      "Epoch 38/50\n",
      "48/48 [==============================] - 1s 10ms/step - loss: 0.0359 - accuracy: 0.9923\n",
      "Epoch 39/50\n",
      "48/48 [==============================] - 1s 9ms/step - loss: 0.0419 - accuracy: 0.9923\n",
      "Epoch 40/50\n",
      "48/48 [==============================] - 1s 9ms/step - loss: 0.0365 - accuracy: 0.9934\n",
      "Epoch 41/50\n",
      "48/48 [==============================] - 1s 7ms/step - loss: 0.0296 - accuracy: 0.9957\n",
      "Epoch 42/50\n",
      "48/48 [==============================] - 1s 10ms/step - loss: 0.0368 - accuracy: 0.9902\n",
      "Epoch 43/50\n",
      "48/48 [==============================] - 1s 8ms/step - loss: 0.0352 - accuracy: 0.9925\n",
      "Epoch 44/50\n",
      "48/48 [==============================] - 1s 11ms/step - loss: 0.0356 - accuracy: 0.9936\n",
      "Epoch 45/50\n",
      "48/48 [==============================] - 1s 7ms/step - loss: 0.0362 - accuracy: 0.9943\n",
      "Epoch 46/50\n",
      "48/48 [==============================] - 1s 10ms/step - loss: 0.0318 - accuracy: 0.9954\n",
      "Epoch 47/50\n",
      "48/48 [==============================] - 1s 9ms/step - loss: 0.0321 - accuracy: 0.9936\n",
      "Epoch 48/50\n",
      "48/48 [==============================] - 1s 11ms/step - loss: 0.0390 - accuracy: 0.9907\n",
      "Epoch 49/50\n",
      "48/48 [==============================] - 1s 12ms/step - loss: 0.0297 - accuracy: 0.9951\n",
      "Epoch 50/50\n",
      "48/48 [==============================] - 1s 10ms/step - loss: 0.0292 - accuracy: 0.9974\n"
     ]
    }
   ],
   "source": [
    "history = model.fit(train,epochs=50)"
   ]
  },
  {
   "cell_type": "markdown",
   "id": "enabling-latino",
   "metadata": {
    "jupyter": {
     "source_hidden": true
    }
   },
   "source": []
  },
  {
   "cell_type": "code",
   "execution_count": 165,
   "id": "contrary-permit",
   "metadata": {},
   "outputs": [
    {
     "name": "stdout",
     "output_type": "stream",
     "text": [
      "WARNING:tensorflow:Layers in a Sequential model should only have a single input tensor, but we receive a <class 'collections.OrderedDict'> input: OrderedDict([('p0', <tf.Tensor 'ExpandDims:0' shape=(None, 1) dtype=float64>), ('p1', <tf.Tensor 'ExpandDims_1:0' shape=(None, 1) dtype=float64>), ('p10', <tf.Tensor 'ExpandDims_2:0' shape=(None, 1) dtype=float64>), ('p11', <tf.Tensor 'ExpandDims_3:0' shape=(None, 1) dtype=float64>), ('p12', <tf.Tensor 'ExpandDims_4:0' shape=(None, 1) dtype=float64>), ('p13', <tf.Tensor 'ExpandDims_5:0' shape=(None, 1) dtype=float64>), ('p14', <tf.Tensor 'ExpandDims_6:0' shape=(None, 1) dtype=float64>), ('p15', <tf.Tensor 'ExpandDims_7:0' shape=(None, 1) dtype=float64>), ('p16', <tf.Tensor 'ExpandDims_8:0' shape=(None, 1) dtype=float64>), ('p17', <tf.Tensor 'ExpandDims_9:0' shape=(None, 1) dtype=float64>), ('p18', <tf.Tensor 'ExpandDims_10:0' shape=(None, 1) dtype=float64>), ('p19', <tf.Tensor 'ExpandDims_11:0' shape=(None, 1) dtype=float64>), ('p2', <tf.Tensor 'ExpandDims_12:0' shape=(None, 1) dtype=float64>), ('p20', <tf.Tensor 'ExpandDims_13:0' shape=(None, 1) dtype=float64>), ('p21', <tf.Tensor 'ExpandDims_14:0' shape=(None, 1) dtype=float64>), ('p22', <tf.Tensor 'ExpandDims_15:0' shape=(None, 1) dtype=float64>), ('p23', <tf.Tensor 'ExpandDims_16:0' shape=(None, 1) dtype=float64>), ('p24', <tf.Tensor 'ExpandDims_17:0' shape=(None, 1) dtype=float64>), ('p25', <tf.Tensor 'ExpandDims_18:0' shape=(None, 1) dtype=float64>), ('p26', <tf.Tensor 'ExpandDims_19:0' shape=(None, 1) dtype=float64>), ('p27', <tf.Tensor 'ExpandDims_20:0' shape=(None, 1) dtype=float64>), ('p28', <tf.Tensor 'ExpandDims_21:0' shape=(None, 1) dtype=float64>), ('p29', <tf.Tensor 'ExpandDims_22:0' shape=(None, 1) dtype=float64>), ('p3', <tf.Tensor 'ExpandDims_23:0' shape=(None, 1) dtype=float64>), ('p30', <tf.Tensor 'ExpandDims_24:0' shape=(None, 1) dtype=float64>), ('p31', <tf.Tensor 'ExpandDims_25:0' shape=(None, 1) dtype=float64>), ('p32', <tf.Tensor 'ExpandDims_26:0' shape=(None, 1) dtype=float64>), ('p33', <tf.Tensor 'ExpandDims_27:0' shape=(None, 1) dtype=float64>), ('p34', <tf.Tensor 'ExpandDims_28:0' shape=(None, 1) dtype=float64>), ('p35', <tf.Tensor 'ExpandDims_29:0' shape=(None, 1) dtype=float64>), ('p36', <tf.Tensor 'ExpandDims_30:0' shape=(None, 1) dtype=float64>), ('p37', <tf.Tensor 'ExpandDims_31:0' shape=(None, 1) dtype=float64>), ('p38', <tf.Tensor 'ExpandDims_32:0' shape=(None, 1) dtype=float64>), ('p39', <tf.Tensor 'ExpandDims_33:0' shape=(None, 1) dtype=float64>), ('p4', <tf.Tensor 'ExpandDims_34:0' shape=(None, 1) dtype=float64>), ('p40', <tf.Tensor 'ExpandDims_35:0' shape=(None, 1) dtype=float64>), ('p41', <tf.Tensor 'ExpandDims_36:0' shape=(None, 1) dtype=float64>), ('p42', <tf.Tensor 'ExpandDims_37:0' shape=(None, 1) dtype=float64>), ('p43', <tf.Tensor 'ExpandDims_38:0' shape=(None, 1) dtype=float64>), ('p44', <tf.Tensor 'ExpandDims_39:0' shape=(None, 1) dtype=float64>), ('p45', <tf.Tensor 'ExpandDims_40:0' shape=(None, 1) dtype=float64>), ('p46', <tf.Tensor 'ExpandDims_41:0' shape=(None, 1) dtype=float64>), ('p47', <tf.Tensor 'ExpandDims_42:0' shape=(None, 1) dtype=float64>), ('p48', <tf.Tensor 'ExpandDims_43:0' shape=(None, 1) dtype=float64>), ('p49', <tf.Tensor 'ExpandDims_44:0' shape=(None, 1) dtype=float64>), ('p5', <tf.Tensor 'ExpandDims_45:0' shape=(None, 1) dtype=float64>), ('p50', <tf.Tensor 'ExpandDims_46:0' shape=(None, 1) dtype=float64>), ('p51', <tf.Tensor 'ExpandDims_47:0' shape=(None, 1) dtype=float64>), ('p52', <tf.Tensor 'ExpandDims_48:0' shape=(None, 1) dtype=float64>), ('p53', <tf.Tensor 'ExpandDims_49:0' shape=(None, 1) dtype=float64>), ('p54', <tf.Tensor 'ExpandDims_50:0' shape=(None, 1) dtype=float64>), ('p55', <tf.Tensor 'ExpandDims_51:0' shape=(None, 1) dtype=float64>), ('p56', <tf.Tensor 'ExpandDims_52:0' shape=(None, 1) dtype=float64>), ('p57', <tf.Tensor 'ExpandDims_53:0' shape=(None, 1) dtype=float64>), ('p58', <tf.Tensor 'ExpandDims_54:0' shape=(None, 1) dtype=float64>), ('p59', <tf.Tensor 'ExpandDims_55:0' shape=(None, 1) dtype=float64>), ('p6', <tf.Tensor 'ExpandDims_56:0' shape=(None, 1) dtype=float64>), ('p60', <tf.Tensor 'ExpandDims_57:0' shape=(None, 1) dtype=float64>), ('p61', <tf.Tensor 'ExpandDims_58:0' shape=(None, 1) dtype=float64>), ('p62', <tf.Tensor 'ExpandDims_59:0' shape=(None, 1) dtype=float64>), ('p63', <tf.Tensor 'ExpandDims_60:0' shape=(None, 1) dtype=float64>), ('p7', <tf.Tensor 'ExpandDims_61:0' shape=(None, 1) dtype=float64>), ('p8', <tf.Tensor 'ExpandDims_62:0' shape=(None, 1) dtype=float64>), ('p9', <tf.Tensor 'ExpandDims_63:0' shape=(None, 1) dtype=float64>)])\n",
      "Consider rewriting this model with the Functional API.\n",
      "13/13 [==============================] - 2s 12ms/step - loss: 0.0991 - accuracy: 0.9643\n"
     ]
    }
   ],
   "source": [
    "loss, accuracy = model.evaluate(test)"
   ]
  },
  {
   "cell_type": "code",
   "execution_count": 167,
   "id": "attended-program",
   "metadata": {},
   "outputs": [
    {
     "name": "stdout",
     "output_type": "stream",
     "text": [
      "WARNING:tensorflow:Layers in a Sequential model should only have a single input tensor, but we receive a <class 'collections.OrderedDict'> input: OrderedDict([('p0', <tf.Tensor 'ExpandDims:0' shape=(None, 1) dtype=float64>), ('p1', <tf.Tensor 'ExpandDims_1:0' shape=(None, 1) dtype=float64>), ('p10', <tf.Tensor 'ExpandDims_2:0' shape=(None, 1) dtype=float64>), ('p11', <tf.Tensor 'ExpandDims_3:0' shape=(None, 1) dtype=float64>), ('p12', <tf.Tensor 'ExpandDims_4:0' shape=(None, 1) dtype=float64>), ('p13', <tf.Tensor 'ExpandDims_5:0' shape=(None, 1) dtype=float64>), ('p14', <tf.Tensor 'ExpandDims_6:0' shape=(None, 1) dtype=float64>), ('p15', <tf.Tensor 'ExpandDims_7:0' shape=(None, 1) dtype=float64>), ('p16', <tf.Tensor 'ExpandDims_8:0' shape=(None, 1) dtype=float64>), ('p17', <tf.Tensor 'ExpandDims_9:0' shape=(None, 1) dtype=float64>), ('p18', <tf.Tensor 'ExpandDims_10:0' shape=(None, 1) dtype=float64>), ('p19', <tf.Tensor 'ExpandDims_11:0' shape=(None, 1) dtype=float64>), ('p2', <tf.Tensor 'ExpandDims_12:0' shape=(None, 1) dtype=float64>), ('p20', <tf.Tensor 'ExpandDims_13:0' shape=(None, 1) dtype=float64>), ('p21', <tf.Tensor 'ExpandDims_14:0' shape=(None, 1) dtype=float64>), ('p22', <tf.Tensor 'ExpandDims_15:0' shape=(None, 1) dtype=float64>), ('p23', <tf.Tensor 'ExpandDims_16:0' shape=(None, 1) dtype=float64>), ('p24', <tf.Tensor 'ExpandDims_17:0' shape=(None, 1) dtype=float64>), ('p25', <tf.Tensor 'ExpandDims_18:0' shape=(None, 1) dtype=float64>), ('p26', <tf.Tensor 'ExpandDims_19:0' shape=(None, 1) dtype=float64>), ('p27', <tf.Tensor 'ExpandDims_20:0' shape=(None, 1) dtype=float64>), ('p28', <tf.Tensor 'ExpandDims_21:0' shape=(None, 1) dtype=float64>), ('p29', <tf.Tensor 'ExpandDims_22:0' shape=(None, 1) dtype=float64>), ('p3', <tf.Tensor 'ExpandDims_23:0' shape=(None, 1) dtype=float64>), ('p30', <tf.Tensor 'ExpandDims_24:0' shape=(None, 1) dtype=float64>), ('p31', <tf.Tensor 'ExpandDims_25:0' shape=(None, 1) dtype=float64>), ('p32', <tf.Tensor 'ExpandDims_26:0' shape=(None, 1) dtype=float64>), ('p33', <tf.Tensor 'ExpandDims_27:0' shape=(None, 1) dtype=float64>), ('p34', <tf.Tensor 'ExpandDims_28:0' shape=(None, 1) dtype=float64>), ('p35', <tf.Tensor 'ExpandDims_29:0' shape=(None, 1) dtype=float64>), ('p36', <tf.Tensor 'ExpandDims_30:0' shape=(None, 1) dtype=float64>), ('p37', <tf.Tensor 'ExpandDims_31:0' shape=(None, 1) dtype=float64>), ('p38', <tf.Tensor 'ExpandDims_32:0' shape=(None, 1) dtype=float64>), ('p39', <tf.Tensor 'ExpandDims_33:0' shape=(None, 1) dtype=float64>), ('p4', <tf.Tensor 'ExpandDims_34:0' shape=(None, 1) dtype=float64>), ('p40', <tf.Tensor 'ExpandDims_35:0' shape=(None, 1) dtype=float64>), ('p41', <tf.Tensor 'ExpandDims_36:0' shape=(None, 1) dtype=float64>), ('p42', <tf.Tensor 'ExpandDims_37:0' shape=(None, 1) dtype=float64>), ('p43', <tf.Tensor 'ExpandDims_38:0' shape=(None, 1) dtype=float64>), ('p44', <tf.Tensor 'ExpandDims_39:0' shape=(None, 1) dtype=float64>), ('p45', <tf.Tensor 'ExpandDims_40:0' shape=(None, 1) dtype=float64>), ('p46', <tf.Tensor 'ExpandDims_41:0' shape=(None, 1) dtype=float64>), ('p47', <tf.Tensor 'ExpandDims_42:0' shape=(None, 1) dtype=float64>), ('p48', <tf.Tensor 'ExpandDims_43:0' shape=(None, 1) dtype=float64>), ('p49', <tf.Tensor 'ExpandDims_44:0' shape=(None, 1) dtype=float64>), ('p5', <tf.Tensor 'ExpandDims_45:0' shape=(None, 1) dtype=float64>), ('p50', <tf.Tensor 'ExpandDims_46:0' shape=(None, 1) dtype=float64>), ('p51', <tf.Tensor 'ExpandDims_47:0' shape=(None, 1) dtype=float64>), ('p52', <tf.Tensor 'ExpandDims_48:0' shape=(None, 1) dtype=float64>), ('p53', <tf.Tensor 'ExpandDims_49:0' shape=(None, 1) dtype=float64>), ('p54', <tf.Tensor 'ExpandDims_50:0' shape=(None, 1) dtype=float64>), ('p55', <tf.Tensor 'ExpandDims_51:0' shape=(None, 1) dtype=float64>), ('p56', <tf.Tensor 'ExpandDims_52:0' shape=(None, 1) dtype=float64>), ('p57', <tf.Tensor 'ExpandDims_53:0' shape=(None, 1) dtype=float64>), ('p58', <tf.Tensor 'ExpandDims_54:0' shape=(None, 1) dtype=float64>), ('p59', <tf.Tensor 'ExpandDims_55:0' shape=(None, 1) dtype=float64>), ('p6', <tf.Tensor 'ExpandDims_56:0' shape=(None, 1) dtype=float64>), ('p60', <tf.Tensor 'ExpandDims_57:0' shape=(None, 1) dtype=float64>), ('p61', <tf.Tensor 'ExpandDims_58:0' shape=(None, 1) dtype=float64>), ('p62', <tf.Tensor 'ExpandDims_59:0' shape=(None, 1) dtype=float64>), ('p63', <tf.Tensor 'ExpandDims_60:0' shape=(None, 1) dtype=float64>), ('p7', <tf.Tensor 'ExpandDims_61:0' shape=(None, 1) dtype=float64>), ('p8', <tf.Tensor 'ExpandDims_62:0' shape=(None, 1) dtype=float64>), ('p9', <tf.Tensor 'ExpandDims_63:0' shape=(None, 1) dtype=float64>)])\n",
      "Consider rewriting this model with the Functional API.\n",
      "WARNING:tensorflow:Layers in a Sequential model should only have a single input tensor, but we receive a <class 'collections.OrderedDict'> input: OrderedDict([('p0', <tf.Tensor 'ExpandDims:0' shape=(None, 1) dtype=float64>), ('p1', <tf.Tensor 'ExpandDims_1:0' shape=(None, 1) dtype=float64>), ('p10', <tf.Tensor 'ExpandDims_2:0' shape=(None, 1) dtype=float64>), ('p11', <tf.Tensor 'ExpandDims_3:0' shape=(None, 1) dtype=float64>), ('p12', <tf.Tensor 'ExpandDims_4:0' shape=(None, 1) dtype=float64>), ('p13', <tf.Tensor 'ExpandDims_5:0' shape=(None, 1) dtype=float64>), ('p14', <tf.Tensor 'ExpandDims_6:0' shape=(None, 1) dtype=float64>), ('p15', <tf.Tensor 'ExpandDims_7:0' shape=(None, 1) dtype=float64>), ('p16', <tf.Tensor 'ExpandDims_8:0' shape=(None, 1) dtype=float64>), ('p17', <tf.Tensor 'ExpandDims_9:0' shape=(None, 1) dtype=float64>), ('p18', <tf.Tensor 'ExpandDims_10:0' shape=(None, 1) dtype=float64>), ('p19', <tf.Tensor 'ExpandDims_11:0' shape=(None, 1) dtype=float64>), ('p2', <tf.Tensor 'ExpandDims_12:0' shape=(None, 1) dtype=float64>), ('p20', <tf.Tensor 'ExpandDims_13:0' shape=(None, 1) dtype=float64>), ('p21', <tf.Tensor 'ExpandDims_14:0' shape=(None, 1) dtype=float64>), ('p22', <tf.Tensor 'ExpandDims_15:0' shape=(None, 1) dtype=float64>), ('p23', <tf.Tensor 'ExpandDims_16:0' shape=(None, 1) dtype=float64>), ('p24', <tf.Tensor 'ExpandDims_17:0' shape=(None, 1) dtype=float64>), ('p25', <tf.Tensor 'ExpandDims_18:0' shape=(None, 1) dtype=float64>), ('p26', <tf.Tensor 'ExpandDims_19:0' shape=(None, 1) dtype=float64>), ('p27', <tf.Tensor 'ExpandDims_20:0' shape=(None, 1) dtype=float64>), ('p28', <tf.Tensor 'ExpandDims_21:0' shape=(None, 1) dtype=float64>), ('p29', <tf.Tensor 'ExpandDims_22:0' shape=(None, 1) dtype=float64>), ('p3', <tf.Tensor 'ExpandDims_23:0' shape=(None, 1) dtype=float64>), ('p30', <tf.Tensor 'ExpandDims_24:0' shape=(None, 1) dtype=float64>), ('p31', <tf.Tensor 'ExpandDims_25:0' shape=(None, 1) dtype=float64>), ('p32', <tf.Tensor 'ExpandDims_26:0' shape=(None, 1) dtype=float64>), ('p33', <tf.Tensor 'ExpandDims_27:0' shape=(None, 1) dtype=float64>), ('p34', <tf.Tensor 'ExpandDims_28:0' shape=(None, 1) dtype=float64>), ('p35', <tf.Tensor 'ExpandDims_29:0' shape=(None, 1) dtype=float64>), ('p36', <tf.Tensor 'ExpandDims_30:0' shape=(None, 1) dtype=float64>), ('p37', <tf.Tensor 'ExpandDims_31:0' shape=(None, 1) dtype=float64>), ('p38', <tf.Tensor 'ExpandDims_32:0' shape=(None, 1) dtype=float64>), ('p39', <tf.Tensor 'ExpandDims_33:0' shape=(None, 1) dtype=float64>), ('p4', <tf.Tensor 'ExpandDims_34:0' shape=(None, 1) dtype=float64>), ('p40', <tf.Tensor 'ExpandDims_35:0' shape=(None, 1) dtype=float64>), ('p41', <tf.Tensor 'ExpandDims_36:0' shape=(None, 1) dtype=float64>), ('p42', <tf.Tensor 'ExpandDims_37:0' shape=(None, 1) dtype=float64>), ('p43', <tf.Tensor 'ExpandDims_38:0' shape=(None, 1) dtype=float64>), ('p44', <tf.Tensor 'ExpandDims_39:0' shape=(None, 1) dtype=float64>), ('p45', <tf.Tensor 'ExpandDims_40:0' shape=(None, 1) dtype=float64>), ('p46', <tf.Tensor 'ExpandDims_41:0' shape=(None, 1) dtype=float64>), ('p47', <tf.Tensor 'ExpandDims_42:0' shape=(None, 1) dtype=float64>), ('p48', <tf.Tensor 'ExpandDims_43:0' shape=(None, 1) dtype=float64>), ('p49', <tf.Tensor 'ExpandDims_44:0' shape=(None, 1) dtype=float64>), ('p5', <tf.Tensor 'ExpandDims_45:0' shape=(None, 1) dtype=float64>), ('p50', <tf.Tensor 'ExpandDims_46:0' shape=(None, 1) dtype=float64>), ('p51', <tf.Tensor 'ExpandDims_47:0' shape=(None, 1) dtype=float64>), ('p52', <tf.Tensor 'ExpandDims_48:0' shape=(None, 1) dtype=float64>), ('p53', <tf.Tensor 'ExpandDims_49:0' shape=(None, 1) dtype=float64>), ('p54', <tf.Tensor 'ExpandDims_50:0' shape=(None, 1) dtype=float64>), ('p55', <tf.Tensor 'ExpandDims_51:0' shape=(None, 1) dtype=float64>), ('p56', <tf.Tensor 'ExpandDims_52:0' shape=(None, 1) dtype=float64>), ('p57', <tf.Tensor 'ExpandDims_53:0' shape=(None, 1) dtype=float64>), ('p58', <tf.Tensor 'ExpandDims_54:0' shape=(None, 1) dtype=float64>), ('p59', <tf.Tensor 'ExpandDims_55:0' shape=(None, 1) dtype=float64>), ('p6', <tf.Tensor 'ExpandDims_56:0' shape=(None, 1) dtype=float64>), ('p60', <tf.Tensor 'ExpandDims_57:0' shape=(None, 1) dtype=float64>), ('p61', <tf.Tensor 'ExpandDims_58:0' shape=(None, 1) dtype=float64>), ('p62', <tf.Tensor 'ExpandDims_59:0' shape=(None, 1) dtype=float64>), ('p63', <tf.Tensor 'ExpandDims_60:0' shape=(None, 1) dtype=float64>), ('p7', <tf.Tensor 'ExpandDims_61:0' shape=(None, 1) dtype=float64>), ('p8', <tf.Tensor 'ExpandDims_62:0' shape=(None, 1) dtype=float64>), ('p9', <tf.Tensor 'ExpandDims_63:0' shape=(None, 1) dtype=float64>)])\n",
      "Consider rewriting this model with the Functional API.\n"
     ]
    },
    {
     "data": {
      "text/plain": [
       "array([[2.69354677e-15, 1.18419011e-10, 4.67168361e-12, 1.32369338e-09,\n",
       "        1.74876334e-06, 3.30453486e-06, 7.98585780e-14, 9.99994874e-01,\n",
       "        3.38779525e-11, 1.10348422e-20],\n",
       "       [1.63387411e-13, 5.64952751e-09, 1.50661081e-10, 1.18749388e-09,\n",
       "        2.14398415e-06, 4.19806156e-06, 2.57184833e-12, 9.99993682e-01,\n",
       "        7.58372753e-10, 3.11227181e-18],\n",
       "       [5.13627701e-14, 7.38864699e-12, 2.01428783e-12, 2.21441443e-09,\n",
       "        4.22987512e-07, 1.07488095e-05, 7.22084849e-12, 9.99988794e-01,\n",
       "        2.38800812e-10, 4.17148051e-18],\n",
       "       [8.12774985e-08, 3.84291080e-12, 1.20785828e-07, 2.03604986e-06,\n",
       "        1.56185823e-03, 1.81388453e-01, 8.79865474e-05, 6.84810162e-01,\n",
       "        1.32149309e-01, 1.07284709e-10],\n",
       "       [2.35668963e-07, 7.30548468e-15, 1.06654761e-06, 5.84374701e-11,\n",
       "        1.00592915e-02, 9.41620165e-05, 1.05688869e-07, 2.13835984e-02,\n",
       "        9.68461573e-01, 3.50983962e-15],\n",
       "       [1.00496869e-07, 2.12737461e-07, 7.62030482e-03, 1.12163209e-10,\n",
       "        5.32456100e-01, 2.11943896e-03, 2.95496907e-08, 2.90309654e-05,\n",
       "        4.57774758e-01, 1.88750681e-13],\n",
       "       [9.41591765e-08, 6.98112945e-09, 2.14259978e-02, 6.29756594e-11,\n",
       "        3.01706493e-01, 1.80540048e-03, 9.57748654e-08, 5.16647233e-05,\n",
       "        6.75010204e-01, 5.83341860e-13],\n",
       "       [5.04638592e-07, 8.67724295e-12, 1.04513287e-08, 7.89293395e-08,\n",
       "        1.92909524e-01, 7.03443348e-01, 7.01184152e-03, 8.09581429e-02,\n",
       "        1.56765170e-02, 8.66549974e-12],\n",
       "       [5.77635140e-09, 4.17535631e-07, 2.07901187e-02, 9.03553510e-10,\n",
       "        7.95894682e-01, 4.88078631e-02, 1.10234521e-06, 9.03548524e-02,\n",
       "        4.41510342e-02, 4.30901191e-12],\n",
       "       [1.31165834e-08, 5.12773735e-09, 1.37969209e-07, 9.48361212e-09,\n",
       "        9.75041330e-01, 2.88269599e-04, 1.20842767e-08, 1.78469350e-07,\n",
       "        2.46700123e-02, 1.88840241e-12],\n",
       "       [3.01464092e-06, 2.01098751e-12, 1.28560202e-07, 1.63350933e-08,\n",
       "        2.36758798e-01, 2.49388348e-03, 9.25157849e-07, 3.05074384e-04,\n",
       "        7.60438204e-01, 5.05307439e-13],\n",
       "       [1.93724882e-05, 1.87626026e-11, 2.93016278e-08, 2.91508218e-09,\n",
       "        9.70778286e-01, 4.80124354e-03, 3.07392793e-06, 9.39537771e-03,\n",
       "        1.50025347e-02, 7.36736887e-12],\n",
       "       [5.84673728e-07, 1.66532456e-12, 1.27892847e-07, 9.67156997e-12,\n",
       "        9.99232650e-01, 1.13930204e-04, 5.78498373e-07, 5.80892774e-05,\n",
       "        5.94043871e-04, 3.86233797e-13],\n",
       "       [1.13496874e-08, 5.13043926e-13, 4.80909961e-08, 1.04032982e-09,\n",
       "        8.40842258e-03, 2.48809233e-02, 6.33546504e-09, 6.42545004e-08,\n",
       "        9.66710567e-01, 1.06116510e-15],\n",
       "       [3.52384859e-08, 1.35090966e-10, 1.18265545e-03, 1.59974489e-09,\n",
       "        4.63174731e-02, 7.33654771e-04, 3.40177849e-06, 5.00161992e-03,\n",
       "        9.46761191e-01, 4.19825633e-12],\n",
       "       [3.28840065e-06, 3.80477984e-12, 2.41239104e-06, 2.05587867e-08,\n",
       "        1.53849289e-01, 3.65486480e-02, 6.00108993e-04, 1.38312830e-02,\n",
       "        7.95165002e-01, 1.09060233e-10],\n",
       "       [9.93394034e-10, 1.18144477e-14, 4.11642809e-09, 1.36516611e-08,\n",
       "        9.97254312e-01, 1.46826624e-03, 2.93444941e-06, 2.26932025e-05,\n",
       "        1.25171477e-03, 2.49249757e-15],\n",
       "       [7.98231810e-08, 5.33175265e-15, 3.96328090e-07, 5.90039306e-08,\n",
       "        1.76163372e-02, 1.56964888e-04, 4.07424841e-06, 1.81103796e-02,\n",
       "        9.64111745e-01, 2.46164894e-12],\n",
       "       [1.38422285e-09, 9.94538482e-07, 1.44131962e-04, 1.54181166e-08,\n",
       "        3.12865227e-01, 2.73403227e-01, 8.98064027e-05, 3.89337656e-05,\n",
       "        4.13457721e-01, 3.16034498e-13],\n",
       "       [1.45999390e-08, 1.35358050e-06, 1.06361147e-03, 1.00771846e-09,\n",
       "        6.48434639e-01, 1.82541966e-01, 4.79735206e-07, 3.96645570e-04,\n",
       "        1.67561382e-01, 5.89779012e-14],\n",
       "       [1.71416235e-04, 8.44021475e-09, 1.14832255e-04, 2.38451199e-03,\n",
       "        7.35287488e-01, 6.45066539e-05, 8.76662654e-08, 2.94266443e-04,\n",
       "        2.61682987e-01, 3.58074237e-10],\n",
       "       [5.76090599e-07, 1.00752587e-07, 1.48920132e-09, 8.11610607e-06,\n",
       "        9.99753654e-01, 3.40721999e-05, 8.88439156e-10, 1.07136839e-06,\n",
       "        2.02332449e-04, 8.45202069e-14],\n",
       "       [9.00406971e-10, 8.40046042e-08, 7.05712591e-06, 7.74295984e-07,\n",
       "        6.83543608e-02, 2.94480385e-04, 2.31780857e-02, 9.08143222e-01,\n",
       "        2.19235990e-05, 1.21545133e-17],\n",
       "       [1.43824849e-07, 3.24933751e-07, 4.48231003e-06, 1.00129421e-06,\n",
       "        1.80864990e-01, 6.56271538e-07, 2.61901034e-04, 8.18322957e-01,\n",
       "        5.43623639e-04, 2.56921769e-16],\n",
       "       [6.33771663e-07, 2.87937207e-09, 1.21116027e-05, 1.13055466e-05,\n",
       "        9.96038318e-01, 5.41714544e-04, 5.10874429e-07, 3.39514110e-03,\n",
       "        3.29636862e-07, 1.98933989e-15],\n",
       "       [4.49573890e-05, 1.19706669e-06, 4.52619483e-04, 4.08589904e-06,\n",
       "        2.08369233e-02, 4.88436664e-04, 1.30837470e-01, 4.68666762e-01,\n",
       "        3.78667682e-01, 2.22985796e-11],\n",
       "       [4.97157725e-06, 5.56675914e-05, 1.51065833e-04, 1.83270220e-06,\n",
       "        4.01015021e-02, 6.21113504e-05, 1.70683593e-01, 7.54588842e-01,\n",
       "        3.43504958e-02, 1.43582622e-14],\n",
       "       [5.40271515e-07, 5.37473738e-07, 9.15998726e-08, 2.17148894e-07,\n",
       "        9.99089956e-01, 9.04946413e-04, 3.74958411e-08, 3.59738033e-06,\n",
       "        8.38936653e-09, 3.89269079e-17],\n",
       "       [1.51085089e-07, 1.81929792e-07, 1.77060855e-09, 3.64133612e-09,\n",
       "        9.98984516e-01, 1.01003994e-03, 7.70201680e-10, 5.07834920e-06,\n",
       "        4.70687622e-09, 3.16575321e-17],\n",
       "       [4.56402813e-05, 2.85025150e-01, 8.95299365e-07, 3.26954961e-07,\n",
       "        6.09077990e-01, 9.00432244e-02, 4.99705629e-06, 1.56981051e-02,\n",
       "        1.03665174e-04, 3.95721867e-13]], dtype=float32)"
      ]
     },
     "execution_count": 167,
     "metadata": {},
     "output_type": "execute_result"
    }
   ],
   "source": [
    "model.predict(test.take(1))"
   ]
  },
  {
   "cell_type": "code",
   "execution_count": 202,
   "id": "vertical-success",
   "metadata": {},
   "outputs": [
    {
     "name": "stdout",
     "output_type": "stream",
     "text": [
      "WARNING:tensorflow:Layers in a Sequential model should only have a single input tensor, but we receive a <class 'collections.OrderedDict'> input: OrderedDict([('p0', <tf.Tensor 'p0:0' shape=(None, 1) dtype=float64>), ('p1', <tf.Tensor 'p1:0' shape=(None, 1) dtype=float64>), ('p10', <tf.Tensor 'p10:0' shape=(None, 1) dtype=float64>), ('p11', <tf.Tensor 'p11:0' shape=(None, 1) dtype=float64>), ('p12', <tf.Tensor 'p12:0' shape=(None, 1) dtype=float64>), ('p13', <tf.Tensor 'p13:0' shape=(None, 1) dtype=float64>), ('p14', <tf.Tensor 'p14:0' shape=(None, 1) dtype=float64>), ('p15', <tf.Tensor 'p15:0' shape=(None, 1) dtype=float64>), ('p16', <tf.Tensor 'p16:0' shape=(None, 1) dtype=float64>), ('p17', <tf.Tensor 'p17:0' shape=(None, 1) dtype=float64>), ('p18', <tf.Tensor 'p18:0' shape=(None, 1) dtype=float64>), ('p19', <tf.Tensor 'p19:0' shape=(None, 1) dtype=float64>), ('p2', <tf.Tensor 'p2:0' shape=(None, 1) dtype=float64>), ('p20', <tf.Tensor 'p20:0' shape=(None, 1) dtype=float64>), ('p21', <tf.Tensor 'p21:0' shape=(None, 1) dtype=float64>), ('p22', <tf.Tensor 'p22:0' shape=(None, 1) dtype=float64>), ('p23', <tf.Tensor 'p23:0' shape=(None, 1) dtype=float64>), ('p24', <tf.Tensor 'p24:0' shape=(None, 1) dtype=float64>), ('p25', <tf.Tensor 'p25:0' shape=(None, 1) dtype=float64>), ('p26', <tf.Tensor 'p26:0' shape=(None, 1) dtype=float64>), ('p27', <tf.Tensor 'p27:0' shape=(None, 1) dtype=float64>), ('p28', <tf.Tensor 'p28:0' shape=(None, 1) dtype=float64>), ('p29', <tf.Tensor 'p29:0' shape=(None, 1) dtype=float64>), ('p3', <tf.Tensor 'p3:0' shape=(None, 1) dtype=float64>), ('p30', <tf.Tensor 'p30:0' shape=(None, 1) dtype=float64>), ('p31', <tf.Tensor 'p31:0' shape=(None, 1) dtype=float64>), ('p32', <tf.Tensor 'p32:0' shape=(None, 1) dtype=float64>), ('p33', <tf.Tensor 'p33:0' shape=(None, 1) dtype=float64>), ('p34', <tf.Tensor 'p34:0' shape=(None, 1) dtype=float64>), ('p35', <tf.Tensor 'p35:0' shape=(None, 1) dtype=float64>), ('p36', <tf.Tensor 'p36:0' shape=(None, 1) dtype=float64>), ('p37', <tf.Tensor 'p37:0' shape=(None, 1) dtype=float64>), ('p38', <tf.Tensor 'p38:0' shape=(None, 1) dtype=float64>), ('p39', <tf.Tensor 'p39:0' shape=(None, 1) dtype=float64>), ('p4', <tf.Tensor 'p4:0' shape=(None, 1) dtype=float64>), ('p40', <tf.Tensor 'p40:0' shape=(None, 1) dtype=float64>), ('p41', <tf.Tensor 'p41:0' shape=(None, 1) dtype=float64>), ('p42', <tf.Tensor 'p42:0' shape=(None, 1) dtype=float64>), ('p43', <tf.Tensor 'p43:0' shape=(None, 1) dtype=float64>), ('p44', <tf.Tensor 'p44:0' shape=(None, 1) dtype=float64>), ('p45', <tf.Tensor 'p45:0' shape=(None, 1) dtype=float64>), ('p46', <tf.Tensor 'p46:0' shape=(None, 1) dtype=float64>), ('p47', <tf.Tensor 'p47:0' shape=(None, 1) dtype=float64>), ('p48', <tf.Tensor 'p48:0' shape=(None, 1) dtype=float64>), ('p49', <tf.Tensor 'p49:0' shape=(None, 1) dtype=float64>), ('p5', <tf.Tensor 'p5:0' shape=(None, 1) dtype=float64>), ('p50', <tf.Tensor 'p50:0' shape=(None, 1) dtype=float64>), ('p51', <tf.Tensor 'p51:0' shape=(None, 1) dtype=float64>), ('p52', <tf.Tensor 'p52:0' shape=(None, 1) dtype=float64>), ('p53', <tf.Tensor 'p53:0' shape=(None, 1) dtype=float64>), ('p54', <tf.Tensor 'p54:0' shape=(None, 1) dtype=float64>), ('p55', <tf.Tensor 'p55:0' shape=(None, 1) dtype=float64>), ('p56', <tf.Tensor 'p56:0' shape=(None, 1) dtype=float64>), ('p57', <tf.Tensor 'p57:0' shape=(None, 1) dtype=float64>), ('p58', <tf.Tensor 'p58:0' shape=(None, 1) dtype=float64>), ('p59', <tf.Tensor 'p59:0' shape=(None, 1) dtype=float64>), ('p6', <tf.Tensor 'p6:0' shape=(None, 1) dtype=float64>), ('p60', <tf.Tensor 'p60:0' shape=(None, 1) dtype=float64>), ('p61', <tf.Tensor 'p61:0' shape=(None, 1) dtype=float64>), ('p62', <tf.Tensor 'p62:0' shape=(None, 1) dtype=float64>), ('p63', <tf.Tensor 'p63:0' shape=(None, 1) dtype=float64>), ('p7', <tf.Tensor 'p7:0' shape=(None, 1) dtype=float64>), ('p8', <tf.Tensor 'p8:0' shape=(None, 1) dtype=float64>), ('p9', <tf.Tensor 'p9:0' shape=(None, 1) dtype=float64>)])\n",
      "Consider rewriting this model with the Functional API.\n",
      "WARNING:tensorflow:Layers in a Sequential model should only have a single input tensor, but we receive a <class 'collections.OrderedDict'> input: OrderedDict([('p0', <tf.Tensor 'p0:0' shape=(None, 1) dtype=float64>), ('p1', <tf.Tensor 'p1:0' shape=(None, 1) dtype=float64>), ('p10', <tf.Tensor 'p10:0' shape=(None, 1) dtype=float64>), ('p11', <tf.Tensor 'p11:0' shape=(None, 1) dtype=float64>), ('p12', <tf.Tensor 'p12:0' shape=(None, 1) dtype=float64>), ('p13', <tf.Tensor 'p13:0' shape=(None, 1) dtype=float64>), ('p14', <tf.Tensor 'p14:0' shape=(None, 1) dtype=float64>), ('p15', <tf.Tensor 'p15:0' shape=(None, 1) dtype=float64>), ('p16', <tf.Tensor 'p16:0' shape=(None, 1) dtype=float64>), ('p17', <tf.Tensor 'p17:0' shape=(None, 1) dtype=float64>), ('p18', <tf.Tensor 'p18:0' shape=(None, 1) dtype=float64>), ('p19', <tf.Tensor 'p19:0' shape=(None, 1) dtype=float64>), ('p2', <tf.Tensor 'p2:0' shape=(None, 1) dtype=float64>), ('p20', <tf.Tensor 'p20:0' shape=(None, 1) dtype=float64>), ('p21', <tf.Tensor 'p21:0' shape=(None, 1) dtype=float64>), ('p22', <tf.Tensor 'p22:0' shape=(None, 1) dtype=float64>), ('p23', <tf.Tensor 'p23:0' shape=(None, 1) dtype=float64>), ('p24', <tf.Tensor 'p24:0' shape=(None, 1) dtype=float64>), ('p25', <tf.Tensor 'p25:0' shape=(None, 1) dtype=float64>), ('p26', <tf.Tensor 'p26:0' shape=(None, 1) dtype=float64>), ('p27', <tf.Tensor 'p27:0' shape=(None, 1) dtype=float64>), ('p28', <tf.Tensor 'p28:0' shape=(None, 1) dtype=float64>), ('p29', <tf.Tensor 'p29:0' shape=(None, 1) dtype=float64>), ('p3', <tf.Tensor 'p3:0' shape=(None, 1) dtype=float64>), ('p30', <tf.Tensor 'p30:0' shape=(None, 1) dtype=float64>), ('p31', <tf.Tensor 'p31:0' shape=(None, 1) dtype=float64>), ('p32', <tf.Tensor 'p32:0' shape=(None, 1) dtype=float64>), ('p33', <tf.Tensor 'p33:0' shape=(None, 1) dtype=float64>), ('p34', <tf.Tensor 'p34:0' shape=(None, 1) dtype=float64>), ('p35', <tf.Tensor 'p35:0' shape=(None, 1) dtype=float64>), ('p36', <tf.Tensor 'p36:0' shape=(None, 1) dtype=float64>), ('p37', <tf.Tensor 'p37:0' shape=(None, 1) dtype=float64>), ('p38', <tf.Tensor 'p38:0' shape=(None, 1) dtype=float64>), ('p39', <tf.Tensor 'p39:0' shape=(None, 1) dtype=float64>), ('p4', <tf.Tensor 'p4:0' shape=(None, 1) dtype=float64>), ('p40', <tf.Tensor 'p40:0' shape=(None, 1) dtype=float64>), ('p41', <tf.Tensor 'p41:0' shape=(None, 1) dtype=float64>), ('p42', <tf.Tensor 'p42:0' shape=(None, 1) dtype=float64>), ('p43', <tf.Tensor 'p43:0' shape=(None, 1) dtype=float64>), ('p44', <tf.Tensor 'p44:0' shape=(None, 1) dtype=float64>), ('p45', <tf.Tensor 'p45:0' shape=(None, 1) dtype=float64>), ('p46', <tf.Tensor 'p46:0' shape=(None, 1) dtype=float64>), ('p47', <tf.Tensor 'p47:0' shape=(None, 1) dtype=float64>), ('p48', <tf.Tensor 'p48:0' shape=(None, 1) dtype=float64>), ('p49', <tf.Tensor 'p49:0' shape=(None, 1) dtype=float64>), ('p5', <tf.Tensor 'p5:0' shape=(None, 1) dtype=float64>), ('p50', <tf.Tensor 'p50:0' shape=(None, 1) dtype=float64>), ('p51', <tf.Tensor 'p51:0' shape=(None, 1) dtype=float64>), ('p52', <tf.Tensor 'p52:0' shape=(None, 1) dtype=float64>), ('p53', <tf.Tensor 'p53:0' shape=(None, 1) dtype=float64>), ('p54', <tf.Tensor 'p54:0' shape=(None, 1) dtype=float64>), ('p55', <tf.Tensor 'p55:0' shape=(None, 1) dtype=float64>), ('p56', <tf.Tensor 'p56:0' shape=(None, 1) dtype=float64>), ('p57', <tf.Tensor 'p57:0' shape=(None, 1) dtype=float64>), ('p58', <tf.Tensor 'p58:0' shape=(None, 1) dtype=float64>), ('p59', <tf.Tensor 'p59:0' shape=(None, 1) dtype=float64>), ('p6', <tf.Tensor 'p6:0' shape=(None, 1) dtype=float64>), ('p60', <tf.Tensor 'p60:0' shape=(None, 1) dtype=float64>), ('p61', <tf.Tensor 'p61:0' shape=(None, 1) dtype=float64>), ('p62', <tf.Tensor 'p62:0' shape=(None, 1) dtype=float64>), ('p63', <tf.Tensor 'p63:0' shape=(None, 1) dtype=float64>), ('p7', <tf.Tensor 'p7:0' shape=(None, 1) dtype=float64>), ('p8', <tf.Tensor 'p8:0' shape=(None, 1) dtype=float64>), ('p9', <tf.Tensor 'p9:0' shape=(None, 1) dtype=float64>)])\n",
      "Consider rewriting this model with the Functional API.\n",
      "WARNING:tensorflow:Layers in a Sequential model should only have a single input tensor, but we receive a <class 'collections.OrderedDict'> input: OrderedDict([('p0', <tf.Tensor 'p0:0' shape=(None, 1) dtype=float64>), ('p1', <tf.Tensor 'p1:0' shape=(None, 1) dtype=float64>), ('p10', <tf.Tensor 'p10:0' shape=(None, 1) dtype=float64>), ('p11', <tf.Tensor 'p11:0' shape=(None, 1) dtype=float64>), ('p12', <tf.Tensor 'p12:0' shape=(None, 1) dtype=float64>), ('p13', <tf.Tensor 'p13:0' shape=(None, 1) dtype=float64>), ('p14', <tf.Tensor 'p14:0' shape=(None, 1) dtype=float64>), ('p15', <tf.Tensor 'p15:0' shape=(None, 1) dtype=float64>), ('p16', <tf.Tensor 'p16:0' shape=(None, 1) dtype=float64>), ('p17', <tf.Tensor 'p17:0' shape=(None, 1) dtype=float64>), ('p18', <tf.Tensor 'p18:0' shape=(None, 1) dtype=float64>), ('p19', <tf.Tensor 'p19:0' shape=(None, 1) dtype=float64>), ('p2', <tf.Tensor 'p2:0' shape=(None, 1) dtype=float64>), ('p20', <tf.Tensor 'p20:0' shape=(None, 1) dtype=float64>), ('p21', <tf.Tensor 'p21:0' shape=(None, 1) dtype=float64>), ('p22', <tf.Tensor 'p22:0' shape=(None, 1) dtype=float64>), ('p23', <tf.Tensor 'p23:0' shape=(None, 1) dtype=float64>), ('p24', <tf.Tensor 'p24:0' shape=(None, 1) dtype=float64>), ('p25', <tf.Tensor 'p25:0' shape=(None, 1) dtype=float64>), ('p26', <tf.Tensor 'p26:0' shape=(None, 1) dtype=float64>), ('p27', <tf.Tensor 'p27:0' shape=(None, 1) dtype=float64>), ('p28', <tf.Tensor 'p28:0' shape=(None, 1) dtype=float64>), ('p29', <tf.Tensor 'p29:0' shape=(None, 1) dtype=float64>), ('p3', <tf.Tensor 'p3:0' shape=(None, 1) dtype=float64>), ('p30', <tf.Tensor 'p30:0' shape=(None, 1) dtype=float64>), ('p31', <tf.Tensor 'p31:0' shape=(None, 1) dtype=float64>), ('p32', <tf.Tensor 'p32:0' shape=(None, 1) dtype=float64>), ('p33', <tf.Tensor 'p33:0' shape=(None, 1) dtype=float64>), ('p34', <tf.Tensor 'p34:0' shape=(None, 1) dtype=float64>), ('p35', <tf.Tensor 'p35:0' shape=(None, 1) dtype=float64>), ('p36', <tf.Tensor 'p36:0' shape=(None, 1) dtype=float64>), ('p37', <tf.Tensor 'p37:0' shape=(None, 1) dtype=float64>), ('p38', <tf.Tensor 'p38:0' shape=(None, 1) dtype=float64>), ('p39', <tf.Tensor 'p39:0' shape=(None, 1) dtype=float64>), ('p4', <tf.Tensor 'p4:0' shape=(None, 1) dtype=float64>), ('p40', <tf.Tensor 'p40:0' shape=(None, 1) dtype=float64>), ('p41', <tf.Tensor 'p41:0' shape=(None, 1) dtype=float64>), ('p42', <tf.Tensor 'p42:0' shape=(None, 1) dtype=float64>), ('p43', <tf.Tensor 'p43:0' shape=(None, 1) dtype=float64>), ('p44', <tf.Tensor 'p44:0' shape=(None, 1) dtype=float64>), ('p45', <tf.Tensor 'p45:0' shape=(None, 1) dtype=float64>), ('p46', <tf.Tensor 'p46:0' shape=(None, 1) dtype=float64>), ('p47', <tf.Tensor 'p47:0' shape=(None, 1) dtype=float64>), ('p48', <tf.Tensor 'p48:0' shape=(None, 1) dtype=float64>), ('p49', <tf.Tensor 'p49:0' shape=(None, 1) dtype=float64>), ('p5', <tf.Tensor 'p5:0' shape=(None, 1) dtype=float64>), ('p50', <tf.Tensor 'p50:0' shape=(None, 1) dtype=float64>), ('p51', <tf.Tensor 'p51:0' shape=(None, 1) dtype=float64>), ('p52', <tf.Tensor 'p52:0' shape=(None, 1) dtype=float64>), ('p53', <tf.Tensor 'p53:0' shape=(None, 1) dtype=float64>), ('p54', <tf.Tensor 'p54:0' shape=(None, 1) dtype=float64>), ('p55', <tf.Tensor 'p55:0' shape=(None, 1) dtype=float64>), ('p56', <tf.Tensor 'p56:0' shape=(None, 1) dtype=float64>), ('p57', <tf.Tensor 'p57:0' shape=(None, 1) dtype=float64>), ('p58', <tf.Tensor 'p58:0' shape=(None, 1) dtype=float64>), ('p59', <tf.Tensor 'p59:0' shape=(None, 1) dtype=float64>), ('p6', <tf.Tensor 'p6:0' shape=(None, 1) dtype=float64>), ('p60', <tf.Tensor 'p60:0' shape=(None, 1) dtype=float64>), ('p61', <tf.Tensor 'p61:0' shape=(None, 1) dtype=float64>), ('p62', <tf.Tensor 'p62:0' shape=(None, 1) dtype=float64>), ('p63', <tf.Tensor 'p63:0' shape=(None, 1) dtype=float64>), ('p7', <tf.Tensor 'p7:0' shape=(None, 1) dtype=float64>), ('p8', <tf.Tensor 'p8:0' shape=(None, 1) dtype=float64>), ('p9', <tf.Tensor 'p9:0' shape=(None, 1) dtype=float64>)])\n",
      "Consider rewriting this model with the Functional API.\n",
      "WARNING:tensorflow:Layers in a Sequential model should only have a single input tensor, but we receive a <class 'collections.OrderedDict'> input: OrderedDict([('p0', <tf.Tensor 'inputs:0' shape=(None, 1) dtype=float64>), ('p1', <tf.Tensor 'inputs_1:0' shape=(None, 1) dtype=float64>), ('p10', <tf.Tensor 'inputs_2:0' shape=(None, 1) dtype=float64>), ('p11', <tf.Tensor 'inputs_3:0' shape=(None, 1) dtype=float64>), ('p12', <tf.Tensor 'inputs_4:0' shape=(None, 1) dtype=float64>), ('p13', <tf.Tensor 'inputs_5:0' shape=(None, 1) dtype=float64>), ('p14', <tf.Tensor 'inputs_6:0' shape=(None, 1) dtype=float64>), ('p15', <tf.Tensor 'inputs_7:0' shape=(None, 1) dtype=float64>), ('p16', <tf.Tensor 'inputs_8:0' shape=(None, 1) dtype=float64>), ('p17', <tf.Tensor 'inputs_9:0' shape=(None, 1) dtype=float64>), ('p18', <tf.Tensor 'inputs_10:0' shape=(None, 1) dtype=float64>), ('p19', <tf.Tensor 'inputs_11:0' shape=(None, 1) dtype=float64>), ('p2', <tf.Tensor 'inputs_12:0' shape=(None, 1) dtype=float64>), ('p20', <tf.Tensor 'inputs_13:0' shape=(None, 1) dtype=float64>), ('p21', <tf.Tensor 'inputs_14:0' shape=(None, 1) dtype=float64>), ('p22', <tf.Tensor 'inputs_15:0' shape=(None, 1) dtype=float64>), ('p23', <tf.Tensor 'inputs_16:0' shape=(None, 1) dtype=float64>), ('p24', <tf.Tensor 'inputs_17:0' shape=(None, 1) dtype=float64>), ('p25', <tf.Tensor 'inputs_18:0' shape=(None, 1) dtype=float64>), ('p26', <tf.Tensor 'inputs_19:0' shape=(None, 1) dtype=float64>), ('p27', <tf.Tensor 'inputs_20:0' shape=(None, 1) dtype=float64>), ('p28', <tf.Tensor 'inputs_21:0' shape=(None, 1) dtype=float64>), ('p29', <tf.Tensor 'inputs_22:0' shape=(None, 1) dtype=float64>), ('p3', <tf.Tensor 'inputs_23:0' shape=(None, 1) dtype=float64>), ('p30', <tf.Tensor 'inputs_24:0' shape=(None, 1) dtype=float64>), ('p31', <tf.Tensor 'inputs_25:0' shape=(None, 1) dtype=float64>), ('p32', <tf.Tensor 'inputs_26:0' shape=(None, 1) dtype=float64>), ('p33', <tf.Tensor 'inputs_27:0' shape=(None, 1) dtype=float64>), ('p34', <tf.Tensor 'inputs_28:0' shape=(None, 1) dtype=float64>), ('p35', <tf.Tensor 'inputs_29:0' shape=(None, 1) dtype=float64>), ('p36', <tf.Tensor 'inputs_30:0' shape=(None, 1) dtype=float64>), ('p37', <tf.Tensor 'inputs_31:0' shape=(None, 1) dtype=float64>), ('p38', <tf.Tensor 'inputs_32:0' shape=(None, 1) dtype=float64>), ('p39', <tf.Tensor 'inputs_33:0' shape=(None, 1) dtype=float64>), ('p4', <tf.Tensor 'inputs_34:0' shape=(None, 1) dtype=float64>), ('p40', <tf.Tensor 'inputs_35:0' shape=(None, 1) dtype=float64>), ('p41', <tf.Tensor 'inputs_36:0' shape=(None, 1) dtype=float64>), ('p42', <tf.Tensor 'inputs_37:0' shape=(None, 1) dtype=float64>), ('p43', <tf.Tensor 'inputs_38:0' shape=(None, 1) dtype=float64>), ('p44', <tf.Tensor 'inputs_39:0' shape=(None, 1) dtype=float64>), ('p45', <tf.Tensor 'inputs_40:0' shape=(None, 1) dtype=float64>), ('p46', <tf.Tensor 'inputs_41:0' shape=(None, 1) dtype=float64>), ('p47', <tf.Tensor 'inputs_42:0' shape=(None, 1) dtype=float64>), ('p48', <tf.Tensor 'inputs_43:0' shape=(None, 1) dtype=float64>), ('p49', <tf.Tensor 'inputs_44:0' shape=(None, 1) dtype=float64>), ('p5', <tf.Tensor 'inputs_45:0' shape=(None, 1) dtype=float64>), ('p50', <tf.Tensor 'inputs_46:0' shape=(None, 1) dtype=float64>), ('p51', <tf.Tensor 'inputs_47:0' shape=(None, 1) dtype=float64>), ('p52', <tf.Tensor 'inputs_48:0' shape=(None, 1) dtype=float64>), ('p53', <tf.Tensor 'inputs_49:0' shape=(None, 1) dtype=float64>), ('p54', <tf.Tensor 'inputs_50:0' shape=(None, 1) dtype=float64>), ('p55', <tf.Tensor 'inputs_51:0' shape=(None, 1) dtype=float64>), ('p56', <tf.Tensor 'inputs_52:0' shape=(None, 1) dtype=float64>), ('p57', <tf.Tensor 'inputs_53:0' shape=(None, 1) dtype=float64>), ('p58', <tf.Tensor 'inputs_54:0' shape=(None, 1) dtype=float64>), ('p59', <tf.Tensor 'inputs_55:0' shape=(None, 1) dtype=float64>), ('p6', <tf.Tensor 'inputs_56:0' shape=(None, 1) dtype=float64>), ('p60', <tf.Tensor 'inputs_57:0' shape=(None, 1) dtype=float64>), ('p61', <tf.Tensor 'inputs_58:0' shape=(None, 1) dtype=float64>), ('p62', <tf.Tensor 'inputs_59:0' shape=(None, 1) dtype=float64>), ('p63', <tf.Tensor 'inputs_60:0' shape=(None, 1) dtype=float64>), ('p7', <tf.Tensor 'inputs_61:0' shape=(None, 1) dtype=float64>), ('p8', <tf.Tensor 'inputs_62:0' shape=(None, 1) dtype=float64>), ('p9', <tf.Tensor 'inputs_63:0' shape=(None, 1) dtype=float64>)])\n",
      "Consider rewriting this model with the Functional API.\n",
      "WARNING:tensorflow:Layers in a Sequential model should only have a single input tensor, but we receive a <class 'collections.OrderedDict'> input: OrderedDict([('p0', <tf.Tensor 'inputs:0' shape=(None, 1) dtype=float64>), ('p1', <tf.Tensor 'inputs_1:0' shape=(None, 1) dtype=float64>), ('p10', <tf.Tensor 'inputs_2:0' shape=(None, 1) dtype=float64>), ('p11', <tf.Tensor 'inputs_3:0' shape=(None, 1) dtype=float64>), ('p12', <tf.Tensor 'inputs_4:0' shape=(None, 1) dtype=float64>), ('p13', <tf.Tensor 'inputs_5:0' shape=(None, 1) dtype=float64>), ('p14', <tf.Tensor 'inputs_6:0' shape=(None, 1) dtype=float64>), ('p15', <tf.Tensor 'inputs_7:0' shape=(None, 1) dtype=float64>), ('p16', <tf.Tensor 'inputs_8:0' shape=(None, 1) dtype=float64>), ('p17', <tf.Tensor 'inputs_9:0' shape=(None, 1) dtype=float64>), ('p18', <tf.Tensor 'inputs_10:0' shape=(None, 1) dtype=float64>), ('p19', <tf.Tensor 'inputs_11:0' shape=(None, 1) dtype=float64>), ('p2', <tf.Tensor 'inputs_12:0' shape=(None, 1) dtype=float64>), ('p20', <tf.Tensor 'inputs_13:0' shape=(None, 1) dtype=float64>), ('p21', <tf.Tensor 'inputs_14:0' shape=(None, 1) dtype=float64>), ('p22', <tf.Tensor 'inputs_15:0' shape=(None, 1) dtype=float64>), ('p23', <tf.Tensor 'inputs_16:0' shape=(None, 1) dtype=float64>), ('p24', <tf.Tensor 'inputs_17:0' shape=(None, 1) dtype=float64>), ('p25', <tf.Tensor 'inputs_18:0' shape=(None, 1) dtype=float64>), ('p26', <tf.Tensor 'inputs_19:0' shape=(None, 1) dtype=float64>), ('p27', <tf.Tensor 'inputs_20:0' shape=(None, 1) dtype=float64>), ('p28', <tf.Tensor 'inputs_21:0' shape=(None, 1) dtype=float64>), ('p29', <tf.Tensor 'inputs_22:0' shape=(None, 1) dtype=float64>), ('p3', <tf.Tensor 'inputs_23:0' shape=(None, 1) dtype=float64>), ('p30', <tf.Tensor 'inputs_24:0' shape=(None, 1) dtype=float64>), ('p31', <tf.Tensor 'inputs_25:0' shape=(None, 1) dtype=float64>), ('p32', <tf.Tensor 'inputs_26:0' shape=(None, 1) dtype=float64>), ('p33', <tf.Tensor 'inputs_27:0' shape=(None, 1) dtype=float64>), ('p34', <tf.Tensor 'inputs_28:0' shape=(None, 1) dtype=float64>), ('p35', <tf.Tensor 'inputs_29:0' shape=(None, 1) dtype=float64>), ('p36', <tf.Tensor 'inputs_30:0' shape=(None, 1) dtype=float64>), ('p37', <tf.Tensor 'inputs_31:0' shape=(None, 1) dtype=float64>), ('p38', <tf.Tensor 'inputs_32:0' shape=(None, 1) dtype=float64>), ('p39', <tf.Tensor 'inputs_33:0' shape=(None, 1) dtype=float64>), ('p4', <tf.Tensor 'inputs_34:0' shape=(None, 1) dtype=float64>), ('p40', <tf.Tensor 'inputs_35:0' shape=(None, 1) dtype=float64>), ('p41', <tf.Tensor 'inputs_36:0' shape=(None, 1) dtype=float64>), ('p42', <tf.Tensor 'inputs_37:0' shape=(None, 1) dtype=float64>), ('p43', <tf.Tensor 'inputs_38:0' shape=(None, 1) dtype=float64>), ('p44', <tf.Tensor 'inputs_39:0' shape=(None, 1) dtype=float64>), ('p45', <tf.Tensor 'inputs_40:0' shape=(None, 1) dtype=float64>), ('p46', <tf.Tensor 'inputs_41:0' shape=(None, 1) dtype=float64>), ('p47', <tf.Tensor 'inputs_42:0' shape=(None, 1) dtype=float64>), ('p48', <tf.Tensor 'inputs_43:0' shape=(None, 1) dtype=float64>), ('p49', <tf.Tensor 'inputs_44:0' shape=(None, 1) dtype=float64>), ('p5', <tf.Tensor 'inputs_45:0' shape=(None, 1) dtype=float64>), ('p50', <tf.Tensor 'inputs_46:0' shape=(None, 1) dtype=float64>), ('p51', <tf.Tensor 'inputs_47:0' shape=(None, 1) dtype=float64>), ('p52', <tf.Tensor 'inputs_48:0' shape=(None, 1) dtype=float64>), ('p53', <tf.Tensor 'inputs_49:0' shape=(None, 1) dtype=float64>), ('p54', <tf.Tensor 'inputs_50:0' shape=(None, 1) dtype=float64>), ('p55', <tf.Tensor 'inputs_51:0' shape=(None, 1) dtype=float64>), ('p56', <tf.Tensor 'inputs_52:0' shape=(None, 1) dtype=float64>), ('p57', <tf.Tensor 'inputs_53:0' shape=(None, 1) dtype=float64>), ('p58', <tf.Tensor 'inputs_54:0' shape=(None, 1) dtype=float64>), ('p59', <tf.Tensor 'inputs_55:0' shape=(None, 1) dtype=float64>), ('p6', <tf.Tensor 'inputs_56:0' shape=(None, 1) dtype=float64>), ('p60', <tf.Tensor 'inputs_57:0' shape=(None, 1) dtype=float64>), ('p61', <tf.Tensor 'inputs_58:0' shape=(None, 1) dtype=float64>), ('p62', <tf.Tensor 'inputs_59:0' shape=(None, 1) dtype=float64>), ('p63', <tf.Tensor 'inputs_60:0' shape=(None, 1) dtype=float64>), ('p7', <tf.Tensor 'inputs_61:0' shape=(None, 1) dtype=float64>), ('p8', <tf.Tensor 'inputs_62:0' shape=(None, 1) dtype=float64>), ('p9', <tf.Tensor 'inputs_63:0' shape=(None, 1) dtype=float64>)])\n",
      "Consider rewriting this model with the Functional API.\n",
      "WARNING:tensorflow:Layers in a Sequential model should only have a single input tensor, but we receive a <class 'collections.OrderedDict'> input: OrderedDict([('p0', <tf.Tensor 'inputs/p0:0' shape=(None, 1) dtype=float64>), ('p1', <tf.Tensor 'inputs/p1:0' shape=(None, 1) dtype=float64>), ('p10', <tf.Tensor 'inputs/p10:0' shape=(None, 1) dtype=float64>), ('p11', <tf.Tensor 'inputs/p11:0' shape=(None, 1) dtype=float64>), ('p12', <tf.Tensor 'inputs/p12:0' shape=(None, 1) dtype=float64>), ('p13', <tf.Tensor 'inputs/p13:0' shape=(None, 1) dtype=float64>), ('p14', <tf.Tensor 'inputs/p14:0' shape=(None, 1) dtype=float64>), ('p15', <tf.Tensor 'inputs/p15:0' shape=(None, 1) dtype=float64>), ('p16', <tf.Tensor 'inputs/p16:0' shape=(None, 1) dtype=float64>), ('p17', <tf.Tensor 'inputs/p17:0' shape=(None, 1) dtype=float64>), ('p18', <tf.Tensor 'inputs/p18:0' shape=(None, 1) dtype=float64>), ('p19', <tf.Tensor 'inputs/p19:0' shape=(None, 1) dtype=float64>), ('p2', <tf.Tensor 'inputs/p2:0' shape=(None, 1) dtype=float64>), ('p20', <tf.Tensor 'inputs/p20:0' shape=(None, 1) dtype=float64>), ('p21', <tf.Tensor 'inputs/p21:0' shape=(None, 1) dtype=float64>), ('p22', <tf.Tensor 'inputs/p22:0' shape=(None, 1) dtype=float64>), ('p23', <tf.Tensor 'inputs/p23:0' shape=(None, 1) dtype=float64>), ('p24', <tf.Tensor 'inputs/p24:0' shape=(None, 1) dtype=float64>), ('p25', <tf.Tensor 'inputs/p25:0' shape=(None, 1) dtype=float64>), ('p26', <tf.Tensor 'inputs/p26:0' shape=(None, 1) dtype=float64>), ('p27', <tf.Tensor 'inputs/p27:0' shape=(None, 1) dtype=float64>), ('p28', <tf.Tensor 'inputs/p28:0' shape=(None, 1) dtype=float64>), ('p29', <tf.Tensor 'inputs/p29:0' shape=(None, 1) dtype=float64>), ('p3', <tf.Tensor 'inputs/p3:0' shape=(None, 1) dtype=float64>), ('p30', <tf.Tensor 'inputs/p30:0' shape=(None, 1) dtype=float64>), ('p31', <tf.Tensor 'inputs/p31:0' shape=(None, 1) dtype=float64>), ('p32', <tf.Tensor 'inputs/p32:0' shape=(None, 1) dtype=float64>), ('p33', <tf.Tensor 'inputs/p33:0' shape=(None, 1) dtype=float64>), ('p34', <tf.Tensor 'inputs/p34:0' shape=(None, 1) dtype=float64>), ('p35', <tf.Tensor 'inputs/p35:0' shape=(None, 1) dtype=float64>), ('p36', <tf.Tensor 'inputs/p36:0' shape=(None, 1) dtype=float64>), ('p37', <tf.Tensor 'inputs/p37:0' shape=(None, 1) dtype=float64>), ('p38', <tf.Tensor 'inputs/p38:0' shape=(None, 1) dtype=float64>), ('p39', <tf.Tensor 'inputs/p39:0' shape=(None, 1) dtype=float64>), ('p4', <tf.Tensor 'inputs/p4:0' shape=(None, 1) dtype=float64>), ('p40', <tf.Tensor 'inputs/p40:0' shape=(None, 1) dtype=float64>), ('p41', <tf.Tensor 'inputs/p41:0' shape=(None, 1) dtype=float64>), ('p42', <tf.Tensor 'inputs/p42:0' shape=(None, 1) dtype=float64>), ('p43', <tf.Tensor 'inputs/p43:0' shape=(None, 1) dtype=float64>), ('p44', <tf.Tensor 'inputs/p44:0' shape=(None, 1) dtype=float64>), ('p45', <tf.Tensor 'inputs/p45:0' shape=(None, 1) dtype=float64>), ('p46', <tf.Tensor 'inputs/p46:0' shape=(None, 1) dtype=float64>), ('p47', <tf.Tensor 'inputs/p47:0' shape=(None, 1) dtype=float64>), ('p48', <tf.Tensor 'inputs/p48:0' shape=(None, 1) dtype=float64>), ('p49', <tf.Tensor 'inputs/p49:0' shape=(None, 1) dtype=float64>), ('p5', <tf.Tensor 'inputs/p5:0' shape=(None, 1) dtype=float64>), ('p50', <tf.Tensor 'inputs/p50:0' shape=(None, 1) dtype=float64>), ('p51', <tf.Tensor 'inputs/p51:0' shape=(None, 1) dtype=float64>), ('p52', <tf.Tensor 'inputs/p52:0' shape=(None, 1) dtype=float64>), ('p53', <tf.Tensor 'inputs/p53:0' shape=(None, 1) dtype=float64>), ('p54', <tf.Tensor 'inputs/p54:0' shape=(None, 1) dtype=float64>), ('p55', <tf.Tensor 'inputs/p55:0' shape=(None, 1) dtype=float64>), ('p56', <tf.Tensor 'inputs/p56:0' shape=(None, 1) dtype=float64>), ('p57', <tf.Tensor 'inputs/p57:0' shape=(None, 1) dtype=float64>), ('p58', <tf.Tensor 'inputs/p58:0' shape=(None, 1) dtype=float64>), ('p59', <tf.Tensor 'inputs/p59:0' shape=(None, 1) dtype=float64>), ('p6', <tf.Tensor 'inputs/p6:0' shape=(None, 1) dtype=float64>), ('p60', <tf.Tensor 'inputs/p60:0' shape=(None, 1) dtype=float64>), ('p61', <tf.Tensor 'inputs/p61:0' shape=(None, 1) dtype=float64>), ('p62', <tf.Tensor 'inputs/p62:0' shape=(None, 1) dtype=float64>), ('p63', <tf.Tensor 'inputs/p63:0' shape=(None, 1) dtype=float64>), ('p7', <tf.Tensor 'inputs/p7:0' shape=(None, 1) dtype=float64>), ('p8', <tf.Tensor 'inputs/p8:0' shape=(None, 1) dtype=float64>), ('p9', <tf.Tensor 'inputs/p9:0' shape=(None, 1) dtype=float64>)])\n",
      "Consider rewriting this model with the Functional API.\n",
      "WARNING:tensorflow:Layers in a Sequential model should only have a single input tensor, but we receive a <class 'collections.OrderedDict'> input: OrderedDict([('p0', <tf.Tensor 'inputs/p0:0' shape=(None, 1) dtype=float64>), ('p1', <tf.Tensor 'inputs/p1:0' shape=(None, 1) dtype=float64>), ('p10', <tf.Tensor 'inputs/p10:0' shape=(None, 1) dtype=float64>), ('p11', <tf.Tensor 'inputs/p11:0' shape=(None, 1) dtype=float64>), ('p12', <tf.Tensor 'inputs/p12:0' shape=(None, 1) dtype=float64>), ('p13', <tf.Tensor 'inputs/p13:0' shape=(None, 1) dtype=float64>), ('p14', <tf.Tensor 'inputs/p14:0' shape=(None, 1) dtype=float64>), ('p15', <tf.Tensor 'inputs/p15:0' shape=(None, 1) dtype=float64>), ('p16', <tf.Tensor 'inputs/p16:0' shape=(None, 1) dtype=float64>), ('p17', <tf.Tensor 'inputs/p17:0' shape=(None, 1) dtype=float64>), ('p18', <tf.Tensor 'inputs/p18:0' shape=(None, 1) dtype=float64>), ('p19', <tf.Tensor 'inputs/p19:0' shape=(None, 1) dtype=float64>), ('p2', <tf.Tensor 'inputs/p2:0' shape=(None, 1) dtype=float64>), ('p20', <tf.Tensor 'inputs/p20:0' shape=(None, 1) dtype=float64>), ('p21', <tf.Tensor 'inputs/p21:0' shape=(None, 1) dtype=float64>), ('p22', <tf.Tensor 'inputs/p22:0' shape=(None, 1) dtype=float64>), ('p23', <tf.Tensor 'inputs/p23:0' shape=(None, 1) dtype=float64>), ('p24', <tf.Tensor 'inputs/p24:0' shape=(None, 1) dtype=float64>), ('p25', <tf.Tensor 'inputs/p25:0' shape=(None, 1) dtype=float64>), ('p26', <tf.Tensor 'inputs/p26:0' shape=(None, 1) dtype=float64>), ('p27', <tf.Tensor 'inputs/p27:0' shape=(None, 1) dtype=float64>), ('p28', <tf.Tensor 'inputs/p28:0' shape=(None, 1) dtype=float64>), ('p29', <tf.Tensor 'inputs/p29:0' shape=(None, 1) dtype=float64>), ('p3', <tf.Tensor 'inputs/p3:0' shape=(None, 1) dtype=float64>), ('p30', <tf.Tensor 'inputs/p30:0' shape=(None, 1) dtype=float64>), ('p31', <tf.Tensor 'inputs/p31:0' shape=(None, 1) dtype=float64>), ('p32', <tf.Tensor 'inputs/p32:0' shape=(None, 1) dtype=float64>), ('p33', <tf.Tensor 'inputs/p33:0' shape=(None, 1) dtype=float64>), ('p34', <tf.Tensor 'inputs/p34:0' shape=(None, 1) dtype=float64>), ('p35', <tf.Tensor 'inputs/p35:0' shape=(None, 1) dtype=float64>), ('p36', <tf.Tensor 'inputs/p36:0' shape=(None, 1) dtype=float64>), ('p37', <tf.Tensor 'inputs/p37:0' shape=(None, 1) dtype=float64>), ('p38', <tf.Tensor 'inputs/p38:0' shape=(None, 1) dtype=float64>), ('p39', <tf.Tensor 'inputs/p39:0' shape=(None, 1) dtype=float64>), ('p4', <tf.Tensor 'inputs/p4:0' shape=(None, 1) dtype=float64>), ('p40', <tf.Tensor 'inputs/p40:0' shape=(None, 1) dtype=float64>), ('p41', <tf.Tensor 'inputs/p41:0' shape=(None, 1) dtype=float64>), ('p42', <tf.Tensor 'inputs/p42:0' shape=(None, 1) dtype=float64>), ('p43', <tf.Tensor 'inputs/p43:0' shape=(None, 1) dtype=float64>), ('p44', <tf.Tensor 'inputs/p44:0' shape=(None, 1) dtype=float64>), ('p45', <tf.Tensor 'inputs/p45:0' shape=(None, 1) dtype=float64>), ('p46', <tf.Tensor 'inputs/p46:0' shape=(None, 1) dtype=float64>), ('p47', <tf.Tensor 'inputs/p47:0' shape=(None, 1) dtype=float64>), ('p48', <tf.Tensor 'inputs/p48:0' shape=(None, 1) dtype=float64>), ('p49', <tf.Tensor 'inputs/p49:0' shape=(None, 1) dtype=float64>), ('p5', <tf.Tensor 'inputs/p5:0' shape=(None, 1) dtype=float64>), ('p50', <tf.Tensor 'inputs/p50:0' shape=(None, 1) dtype=float64>), ('p51', <tf.Tensor 'inputs/p51:0' shape=(None, 1) dtype=float64>), ('p52', <tf.Tensor 'inputs/p52:0' shape=(None, 1) dtype=float64>), ('p53', <tf.Tensor 'inputs/p53:0' shape=(None, 1) dtype=float64>), ('p54', <tf.Tensor 'inputs/p54:0' shape=(None, 1) dtype=float64>), ('p55', <tf.Tensor 'inputs/p55:0' shape=(None, 1) dtype=float64>), ('p56', <tf.Tensor 'inputs/p56:0' shape=(None, 1) dtype=float64>), ('p57', <tf.Tensor 'inputs/p57:0' shape=(None, 1) dtype=float64>), ('p58', <tf.Tensor 'inputs/p58:0' shape=(None, 1) dtype=float64>), ('p59', <tf.Tensor 'inputs/p59:0' shape=(None, 1) dtype=float64>), ('p6', <tf.Tensor 'inputs/p6:0' shape=(None, 1) dtype=float64>), ('p60', <tf.Tensor 'inputs/p60:0' shape=(None, 1) dtype=float64>), ('p61', <tf.Tensor 'inputs/p61:0' shape=(None, 1) dtype=float64>), ('p62', <tf.Tensor 'inputs/p62:0' shape=(None, 1) dtype=float64>), ('p63', <tf.Tensor 'inputs/p63:0' shape=(None, 1) dtype=float64>), ('p7', <tf.Tensor 'inputs/p7:0' shape=(None, 1) dtype=float64>), ('p8', <tf.Tensor 'inputs/p8:0' shape=(None, 1) dtype=float64>), ('p9', <tf.Tensor 'inputs/p9:0' shape=(None, 1) dtype=float64>)])\n",
      "Consider rewriting this model with the Functional API.\n",
      "INFO:tensorflow:Assets written to: gs://statmike-models/digits/keras/assets\n"
     ]
    }
   ],
   "source": [
    "model.save(MODEL_DIR)"
   ]
  },
  {
   "cell_type": "markdown",
   "id": "actual-unknown",
   "metadata": {
    "jupyter": {
     "source_hidden": true
    }
   },
   "source": []
  },
  {
   "cell_type": "markdown",
   "id": "statistical-bristol",
   "metadata": {},
   "source": [
    "# Remove Resources\n",
    "- undeploy-model\n",
    "- remove endpoint\n",
    "- remove model"
   ]
  },
  {
   "cell_type": "code",
   "execution_count": 203,
   "id": "sealed-irish",
   "metadata": {},
   "outputs": [
    {
     "name": "stdout",
     "output_type": "stream",
     "text": [
      "Removing gs://statmike-models/digits/keras/#1617663061696426...\n",
      "Removing gs://statmike-models/digits/keras/assets/#1617663064722256...          \n",
      "Removing gs://statmike-models/digits/keras/saved_model.pb#1617663065086705...   \n",
      "Removing gs://statmike-models/digits/keras/variables/#1617663061897932...       \n",
      "/ [4 objects]                                                                   \n",
      "==> NOTE: You are performing a sequence of gsutil operations that may\n",
      "run significantly faster if you instead use gsutil -m rm ... Please\n",
      "see the -m section under \"gsutil help options\" for further information\n",
      "about when gsutil -m can be advantageous.\n",
      "\n",
      "Removing gs://statmike-models/digits/keras/variables/variables.data-00000-of-00001#1617663063733934...\n",
      "Removing gs://statmike-models/digits/keras/variables/variables.index#1617663064026656...\n",
      "/ [6 objects]                                                                   \n",
      "Operation completed over 6 objects.                                              \n"
     ]
    }
   ],
   "source": [
    "!gsutil rm -r $MODEL_DIR"
   ]
  },
  {
   "cell_type": "code",
   "execution_count": null,
   "id": "invalid-optics",
   "metadata": {},
   "outputs": [],
   "source": []
  }
 ],
 "metadata": {
  "environment": {
   "name": "tf2-gpu.2-4.m65",
   "type": "gcloud",
   "uri": "gcr.io/deeplearning-platform-release/tf2-gpu.2-4:m65"
  },
  "kernelspec": {
   "display_name": "Python 3",
   "language": "python",
   "name": "python3"
  },
  "language_info": {
   "codemirror_mode": {
    "name": "ipython",
    "version": 3
   },
   "file_extension": ".py",
   "mimetype": "text/x-python",
   "name": "python",
   "nbconvert_exporter": "python",
   "pygments_lexer": "ipython3",
   "version": "3.7.10"
  }
 },
 "nbformat": 4,
 "nbformat_minor": 5
}
