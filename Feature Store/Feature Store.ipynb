{
 "cells": [
  {
   "cell_type": "markdown",
   "id": "92924544-e44a-4ac7-a745-9fe5a6ee8357",
   "metadata": {},
   "source": [
    "![ga4](https://www.google-analytics.com/collect?v=2&tid=G-6VDTYWLKX6&cid=1&en=page_view&sid=1&dl=statmike%2Fvertex-ai-mlops%2FFeature+Store&dt=Feature+Store.ipynb)\n",
    "\n",
    "# Feature Store\n",
    "\n",
    "**IN PROGRESS FALL 2023**\n",
    "\n",
    "[Documentation](https://cloud.google.com/vertex-ai/docs/featurestore/latest/overview)\n",
    "\n",
    "---\n",
    "**tl;dr**\n",
    "\n",
    "<p align=\"center\" width=\"100%\"><center>\n",
    "    <img src=\"../architectures/architectures/images/feature store/readme/overview.png\">\n",
    "</center></p>\n",
    "\n",
    "The main layout for Feature Store is serving environment for **features** observed on **entities**:\n",
    "- **entity** = a unique record, think row\n",
    "- **feature** = observations, input for ML, think column\n",
    "\n",
    "The **offline store** is made up of any BigQuery Table(s)/View(s), the **data source**, that you manage:\n",
    "- (1) If a table/view has a single row per unique **entity** with columns that are non-changing values for **features** then the table can be directly used in an **online store's** **feature view** (see below).\n",
    "- (2) For time bound **features** the table/view needs to have two additional columns: entity_id, feature_timestamp\n",
    "\n",
    "The **feature registry**:\n",
    "- Tables/Views of type (2) above are registered as **Feature Groups** - a feature group is sourced by a single table/view\n",
    "- Columns from the **feature group** are then registered as **features**\n",
    "\n",
    "The **online store** is has two types to choose from:\n",
    "- Cloud Bigtable online serving - highly scalable\n",
    "- Optimized online serving - ultra-low latencies and responsive to burst of requests\n",
    "\n",
    "**Feature Views** are created in the **online store** from:\n",
    "- One or more **feature groups**\n",
    "- a table/view of type (1)\n",
    " \n",
    "BigQuery as a **data soruce**:\n",
    "- This means that managing time bound **features** is done in BigQuery but before the **feature store**.  You can create multiple rows per **entity** in tables and use the entity_id and feature_timestamp columns to indicate the time based values. To make this shape of source data useful for training data batches there are two new functions in BigQuery to help extract point-in-time value for **entity/feature** data:\n",
    "    - [ML.FEATURES_AT_TIME](https://cloud.google.com/bigquery/docs/reference/standard-sql/bigqueryml-syntax-feature-time) - will take a table and timestamp as input and return the value for each feature on each entity as of the timestamp.  There are additional optional configurations also.  \n",
    "    - [ML.ENTITY_FEATURES_AT_TIME](https://cloud.google.com/bigquery/docs/reference/standard-sql/bigqueryml-syntax-entity-feature-time) - will take a table and an additional table of entity+timestamp pairs and return the feature values for each entity+timestamp pair.  This allows both multiple points in time for single entities as well as different times for different entities.\n",
    "- Time bound data, or column values that change for a row/entity, might not be the native way data scientist are working with data.  There are great features in BigQuery to help with handling data that changes with time.\n",
    "    - Creating these tables/views with timestamp entity records may be benefited by [time-travel](https://cloud.google.com/bigquery/docs/time-travel#time_travel) (up to 7 days - configurable) and [snapshots](https://cloud.google.com/bigquery/docs/table-snapshots-intro) (user controlled points in time). You can also [query time-travel](https://cloud.google.com/bigquery/docs/access-historical-data) as well as [create snapshots from time-travel](https://cloud.google.com/bigquery/docs/table-snapshots-create#create_a_table_snapshot_using_time_travel).\n",
    "\n"
   ]
  },
  {
   "cell_type": "code",
   "execution_count": null,
   "id": "9b8aad35-2ded-48e1-8306-01712fb77465",
   "metadata": {},
   "outputs": [],
   "source": []
  },
  {
   "cell_type": "code",
   "execution_count": null,
   "id": "0bf51902-3ad1-4043-95f7-05d6eb7b1333",
   "metadata": {},
   "outputs": [],
   "source": []
  },
  {
   "cell_type": "code",
   "execution_count": null,
   "id": "be7099e5-0b38-40ea-af4e-47f05485dc90",
   "metadata": {},
   "outputs": [],
   "source": []
  },
  {
   "cell_type": "code",
   "execution_count": null,
   "id": "9912ab9d-7d15-4744-94ae-5c3030bfc53f",
   "metadata": {},
   "outputs": [],
   "source": []
  },
  {
   "cell_type": "code",
   "execution_count": null,
   "id": "3358a776-2ce3-40f0-a973-61ea70001917",
   "metadata": {},
   "outputs": [],
   "source": []
  },
  {
   "cell_type": "code",
   "execution_count": null,
   "id": "190a1058-3557-4d0f-a708-a2fe74bb0831",
   "metadata": {},
   "outputs": [],
   "source": []
  },
  {
   "cell_type": "code",
   "execution_count": null,
   "id": "bc725df1-6a16-47b2-a2c1-1f2dddb794ac",
   "metadata": {},
   "outputs": [],
   "source": []
  },
  {
   "cell_type": "code",
   "execution_count": null,
   "id": "3069e59c-726e-4255-b790-309548acd127",
   "metadata": {},
   "outputs": [],
   "source": []
  },
  {
   "cell_type": "code",
   "execution_count": null,
   "id": "4bdc0339-8802-4a1c-8b6c-302b0e0b0da2",
   "metadata": {},
   "outputs": [],
   "source": []
  },
  {
   "cell_type": "code",
   "execution_count": null,
   "id": "7817af44-a394-46d3-827e-8c334d00efbf",
   "metadata": {},
   "outputs": [],
   "source": []
  },
  {
   "cell_type": "code",
   "execution_count": null,
   "id": "c05b15d6-0c22-4178-9de5-6ec188d844de",
   "metadata": {},
   "outputs": [],
   "source": []
  },
  {
   "cell_type": "code",
   "execution_count": null,
   "id": "79728f1c-7f59-40f4-86f9-14f316a80cd1",
   "metadata": {},
   "outputs": [],
   "source": []
  },
  {
   "cell_type": "code",
   "execution_count": null,
   "id": "34ad3514-d7ed-4638-9577-12da6b92028b",
   "metadata": {},
   "outputs": [],
   "source": []
  },
  {
   "cell_type": "code",
   "execution_count": null,
   "id": "dbea71c6-c30f-434f-9161-58fde08d57d5",
   "metadata": {},
   "outputs": [],
   "source": []
  },
  {
   "cell_type": "code",
   "execution_count": null,
   "id": "7b749f69-e576-41fb-b5e2-d12f44f5aed5",
   "metadata": {},
   "outputs": [],
   "source": []
  },
  {
   "cell_type": "code",
   "execution_count": null,
   "id": "27bad954-c131-41fa-b01d-4187357aeaba",
   "metadata": {},
   "outputs": [],
   "source": []
  },
  {
   "cell_type": "code",
   "execution_count": null,
   "id": "bd73813e-98c3-4f47-b747-79a93e0deca9",
   "metadata": {},
   "outputs": [],
   "source": []
  },
  {
   "cell_type": "code",
   "execution_count": null,
   "id": "6bb22e30-2b61-4d11-89ef-aeea90147674",
   "metadata": {},
   "outputs": [],
   "source": []
  }
 ],
 "metadata": {
  "environment": {
   "kernel": "python3",
   "name": "tf2-gpu.2-12.m110",
   "type": "gcloud",
   "uri": "gcr.io/deeplearning-platform-release/tf2-gpu.2-12:m110"
  },
  "kernelspec": {
   "display_name": "Python 3",
   "language": "python",
   "name": "python3"
  },
  "language_info": {
   "codemirror_mode": {
    "name": "ipython",
    "version": 3
   },
   "file_extension": ".py",
   "mimetype": "text/x-python",
   "name": "python",
   "nbconvert_exporter": "python",
   "pygments_lexer": "ipython3",
   "version": "3.10.12"
  }
 },
 "nbformat": 4,
 "nbformat_minor": 5
}
