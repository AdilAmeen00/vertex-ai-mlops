{
 "cells": [
  {
   "cell_type": "markdown",
   "id": "comic-opinion",
   "metadata": {},
   "source": [
    "# BigQuery - BQML Online Predictions\n",
    "\n",
    "This notebook export the BigQuery ML model create in `02 - BigQuery - BQML` and then uses AI Platform to upload the model and deploy it to and endpoint for online predictions.\n",
    "\n",
    "**Prerequisites**\n",
    "- `00 - Initial Setup`\n",
    "- `01 - BigQuery - Data`\n",
    "- `02 - BigQuery - BQML`\n",
    "\n",
    "**Overview**\n",
    "\n",
    "<img src=\"architectures/statmike-mlops-03.png\">"
   ]
  },
  {
   "cell_type": "markdown",
   "id": "orange-mission",
   "metadata": {},
   "source": [
    "---\n",
    "## Setup"
   ]
  },
  {
   "cell_type": "markdown",
   "id": "honest-latest",
   "metadata": {},
   "source": [
    "Setup Parameters For Model Deployment"
   ]
  },
  {
   "cell_type": "code",
   "execution_count": 215,
   "id": "pressing-composition",
   "metadata": {},
   "outputs": [],
   "source": [
    "PROJECT_ID='statmike-mlops'\n",
    "REGION='us-central1'\n",
    "\n",
    "MODEL_NAME='MODEL_BQML-DIGITS'\n",
    "ENDPOINT_NAME='ENDPOINT_BQML-DIGITS'\n",
    "MODEL_DIR='gs://{}/digits/bqml'.format(PROJECT_ID)\n",
    "PARENT = \"projects/\" + PROJECT_ID + \"/locations/\" + REGION\n",
    "\n",
    "params = {\"MODEL_DIR\":MODEL_DIR}\n",
    "DEPLOY_IMAGE='us-docker.pkg.dev/cloud-aiplatform/prediction/tf2-cpu.2-2:latest'\n",
    "DEPLOY_COMPUTE='n1-standard-4'"
   ]
  },
  {
   "cell_type": "markdown",
   "id": "powered-illinois",
   "metadata": {},
   "source": [
    "Setup AI Platform Python Clients\n",
    "- https://googleapis.dev/python/aiplatform/latest/index.html"
   ]
  },
  {
   "cell_type": "code",
   "execution_count": 216,
   "id": "strategic-country",
   "metadata": {},
   "outputs": [],
   "source": [
    "from google.cloud import aiplatform\n",
    "\n",
    "API_ENDPOINT = \"{}-aiplatform.googleapis.com\".format(REGION)\n",
    "client_options = {\"api_endpoint\": API_ENDPOINT}\n",
    "clients = {}"
   ]
  },
  {
   "cell_type": "markdown",
   "id": "unsigned-coalition",
   "metadata": {},
   "source": [
    "---\n",
    "## Export the BigQuery Model\n",
    "\n",
    "Export the BigQuery Model:\n",
    "- https://cloud.google.com/bigquery-ml/docs/exporting-models"
   ]
  },
  {
   "cell_type": "code",
   "execution_count": 217,
   "id": "solid-discipline",
   "metadata": {},
   "outputs": [
    {
     "data": {
      "text/html": [
       "<div>\n",
       "<style scoped>\n",
       "    .dataframe tbody tr th:only-of-type {\n",
       "        vertical-align: middle;\n",
       "    }\n",
       "\n",
       "    .dataframe tbody tr th {\n",
       "        vertical-align: top;\n",
       "    }\n",
       "\n",
       "    .dataframe thead th {\n",
       "        text-align: right;\n",
       "    }\n",
       "</style>\n",
       "<table border=\"1\" class=\"dataframe\">\n",
       "  <thead>\n",
       "    <tr style=\"text-align: right;\">\n",
       "      <th></th>\n",
       "    </tr>\n",
       "  </thead>\n",
       "  <tbody>\n",
       "  </tbody>\n",
       "</table>\n",
       "</div>"
      ],
      "text/plain": [
       "Empty DataFrame\n",
       "Columns: []\n",
       "Index: []"
      ]
     },
     "execution_count": 217,
     "metadata": {},
     "output_type": "execute_result"
    }
   ],
   "source": [
    "%%bigquery --params $params\n",
    "EXPORT MODEL `statmike-mlops.digits.digits_lr`\n",
    "OPTIONS(URI = @MODEL_DIR)"
   ]
  },
  {
   "cell_type": "markdown",
   "id": "compatible-suggestion",
   "metadata": {},
   "source": [
    "---\n",
    "## Upload the Model to AI Platform\n",
    "\n",
    "Import the Model:\n",
    "- https://cloud.google.com/ai-platform-unified/docs/predictions/importing-custom-trained-model"
   ]
  },
  {
   "cell_type": "markdown",
   "id": "polyphonic-klein",
   "metadata": {},
   "source": [
    "Create a client to the Model Service, define the Model, and upload the model:"
   ]
  },
  {
   "cell_type": "code",
   "execution_count": 218,
   "id": "coordinate-fever",
   "metadata": {},
   "outputs": [],
   "source": [
    "clients['model'] = aiplatform.gapic.ModelServiceClient(client_options=client_options)\n",
    "\n",
    "MODEL = {\n",
    "    \"display_name\": MODEL_NAME,\n",
    "    \"metadata_schema_uri\": \"\",\n",
    "    \"artifact_uri\": MODEL_DIR,\n",
    "    \"container_spec\": {\n",
    "        \"image_uri\": DEPLOY_IMAGE,\n",
    "        \"command\": [],\n",
    "        \"args\": [],\n",
    "        \"env\": [],\n",
    "        \"ports\": [{\"container_port\": 8080}],\n",
    "        \"predict_route\": \"\",\n",
    "        \"health_route\": \"\"\n",
    "    }\n",
    "}\n",
    "\n",
    "uploaded_model = clients['model'].upload_model(parent=PARENT, model=MODEL)"
   ]
  },
  {
   "cell_type": "markdown",
   "id": "substantial-tractor",
   "metadata": {},
   "source": [
    "Retrieve the model information and view the name and display name:"
   ]
  },
  {
   "cell_type": "code",
   "execution_count": 219,
   "id": "caring-painting",
   "metadata": {},
   "outputs": [
    {
     "data": {
      "text/plain": [
       "('MODEL_BQML-DIGITS',\n",
       " 'projects/691911073727/locations/us-central1/models/314636247404380160')"
      ]
     },
     "execution_count": 219,
     "metadata": {},
     "output_type": "execute_result"
    }
   ],
   "source": [
    "model_info = clients['model'].get_model(name=uploaded_model.result(timeout=180).model)\n",
    "model_info.display_name, model_info.name"
   ]
  },
  {
   "cell_type": "markdown",
   "id": "resistant-jamaica",
   "metadata": {},
   "source": [
    "---\n",
    "## Create the AI Platform Endpoint\n",
    "\n",
    "Deploy the Model:\n",
    "- https://cloud.google.com/ai-platform-unified/docs/predictions/deploy-model-api"
   ]
  },
  {
   "cell_type": "markdown",
   "id": "sensitive-wichita",
   "metadata": {},
   "source": [
    "Create a client to the Endpoint Service and use it to create the endpoint:"
   ]
  },
  {
   "cell_type": "code",
   "execution_count": 220,
   "id": "related-youth",
   "metadata": {},
   "outputs": [],
   "source": [
    "clients['endpoint'] = aiplatform.gapic.EndpointServiceClient(client_options=client_options)\n",
    "\n",
    "endpoint = clients['endpoint'].create_endpoint(parent=PARENT, endpoint={\"display_name\": ENDPOINT_NAME})"
   ]
  },
  {
   "cell_type": "markdown",
   "id": "inclusive-automation",
   "metadata": {},
   "source": [
    "Retrieve the endpoint information and view the name and display name:"
   ]
  },
  {
   "cell_type": "code",
   "execution_count": 221,
   "id": "electrical-ethiopia",
   "metadata": {},
   "outputs": [
    {
     "data": {
      "text/plain": [
       "('ENDPOINT_BQML-DIGITS',\n",
       " 'projects/691911073727/locations/us-central1/endpoints/4801558482404769792')"
      ]
     },
     "execution_count": 221,
     "metadata": {},
     "output_type": "execute_result"
    }
   ],
   "source": [
    "endpoint_info = clients['endpoint'].get_endpoint(name=endpoint.result(timeout=180).name)\n",
    "endpoint_info.display_name, endpoint_info.name"
   ]
  },
  {
   "cell_type": "markdown",
   "id": "freelance-syndrome",
   "metadata": {},
   "source": [
    "---\n",
    "## Deploy the Model to the AI Platform Endpoint"
   ]
  },
  {
   "cell_type": "code",
   "execution_count": 222,
   "id": "executed-steel",
   "metadata": {},
   "outputs": [],
   "source": [
    "DMODEL = {\n",
    "        \"model\": model_info.name,\n",
    "        \"display_name\": 'DEPLOYED_'+MODEL_NAME,\n",
    "        \"dedicated_resources\": {\n",
    "            \"min_replica_count\": 1,\n",
    "            \"max_replica_count\": 1,\n",
    "            \"machine_spec\": {\n",
    "                    \"machine_type\": DEPLOY_COMPUTE,\n",
    "                    \"accelerator_count\": 0,\n",
    "                }\n",
    "        }   \n",
    "}\n",
    "\n",
    "TRAFFIC = {\n",
    "    '0' : 100\n",
    "}\n",
    "\n",
    "dmodel = clients['endpoint'].deploy_model(endpoint=endpoint_info.name, deployed_model=DMODEL, traffic_split=TRAFFIC)"
   ]
  },
  {
   "cell_type": "markdown",
   "id": "wrong-hazard",
   "metadata": {},
   "source": [
    "Retrieve the deployed model information from the endpoint:"
   ]
  },
  {
   "cell_type": "code",
   "execution_count": 224,
   "id": "residential-fourth",
   "metadata": {},
   "outputs": [
    {
     "data": {
      "text/plain": [
       "[id: \"7223861763232497664\"\n",
       "model: \"projects/691911073727/locations/us-central1/models/314636247404380160\"\n",
       "display_name: \"DEPLOYED_MODEL_BQML-DIGITS\"\n",
       "create_time {\n",
       "  seconds: 1618276264\n",
       "  nanos: 863285000\n",
       "}\n",
       "dedicated_resources {\n",
       "  machine_spec {\n",
       "    machine_type: \"n1-standard-4\"\n",
       "  }\n",
       "  min_replica_count: 1\n",
       "  max_replica_count: 1\n",
       "}\n",
       "]"
      ]
     },
     "execution_count": 224,
     "metadata": {},
     "output_type": "execute_result"
    }
   ],
   "source": [
    "clients['endpoint'].get_endpoint(name=endpoint_info.name).deployed_models"
   ]
  },
  {
   "cell_type": "markdown",
   "id": "intermediate-vacation",
   "metadata": {},
   "source": [
    "---\n",
    "## Predictions\n",
    "\n",
    "Get an online prediction:\n",
    "- https://cloud.google.com/ai-platform-unified/docs/predictions/online-predictions-custom-models#online_predict_custom_trained-python"
   ]
  },
  {
   "cell_type": "markdown",
   "id": "graduate-logic",
   "metadata": {},
   "source": [
    "Create a client to the prediction service:"
   ]
  },
  {
   "cell_type": "code",
   "execution_count": 225,
   "id": "pressed-request",
   "metadata": {},
   "outputs": [],
   "source": [
    "clients['prediction'] = aiplatform.gapic.PredictionServiceClient(client_options=client_options)"
   ]
  },
  {
   "cell_type": "markdown",
   "id": "greater-reducing",
   "metadata": {},
   "source": [
    "Setup an observation for prediction:"
   ]
  },
  {
   "cell_type": "code",
   "execution_count": 226,
   "id": "ahead-lobby",
   "metadata": {},
   "outputs": [],
   "source": [
    "%%bigquery pred\n",
    "SELECT *\n",
    "FROM `statmike-mlops.digits.digits_prepped`\n",
    "WHERE splits='TEST'"
   ]
  },
  {
   "cell_type": "code",
   "execution_count": 227,
   "id": "upset-complement",
   "metadata": {},
   "outputs": [
    {
     "data": {
      "text/html": [
       "<div>\n",
       "<style scoped>\n",
       "    .dataframe tbody tr th:only-of-type {\n",
       "        vertical-align: middle;\n",
       "    }\n",
       "\n",
       "    .dataframe tbody tr th {\n",
       "        vertical-align: top;\n",
       "    }\n",
       "\n",
       "    .dataframe thead th {\n",
       "        text-align: right;\n",
       "    }\n",
       "</style>\n",
       "<table border=\"1\" class=\"dataframe\">\n",
       "  <thead>\n",
       "    <tr style=\"text-align: right;\">\n",
       "      <th></th>\n",
       "      <th>p0</th>\n",
       "      <th>p1</th>\n",
       "      <th>p2</th>\n",
       "      <th>p3</th>\n",
       "      <th>p4</th>\n",
       "      <th>p5</th>\n",
       "      <th>p6</th>\n",
       "      <th>p7</th>\n",
       "      <th>p8</th>\n",
       "      <th>p9</th>\n",
       "      <th>...</th>\n",
       "      <th>p57</th>\n",
       "      <th>p58</th>\n",
       "      <th>p59</th>\n",
       "      <th>p60</th>\n",
       "      <th>p61</th>\n",
       "      <th>p62</th>\n",
       "      <th>p63</th>\n",
       "      <th>target</th>\n",
       "      <th>target_OE</th>\n",
       "      <th>SPLITS</th>\n",
       "    </tr>\n",
       "  </thead>\n",
       "  <tbody>\n",
       "    <tr>\n",
       "      <th>0</th>\n",
       "      <td>0.0</td>\n",
       "      <td>0.0</td>\n",
       "      <td>0.0</td>\n",
       "      <td>0.0</td>\n",
       "      <td>13.0</td>\n",
       "      <td>16.0</td>\n",
       "      <td>6.0</td>\n",
       "      <td>0.0</td>\n",
       "      <td>0.0</td>\n",
       "      <td>0.0</td>\n",
       "      <td>...</td>\n",
       "      <td>0.0</td>\n",
       "      <td>0.0</td>\n",
       "      <td>1.0</td>\n",
       "      <td>12.0</td>\n",
       "      <td>14.0</td>\n",
       "      <td>5.0</td>\n",
       "      <td>0.0</td>\n",
       "      <td>1</td>\n",
       "      <td>Odd</td>\n",
       "      <td>TEST</td>\n",
       "    </tr>\n",
       "  </tbody>\n",
       "</table>\n",
       "<p>1 rows × 67 columns</p>\n",
       "</div>"
      ],
      "text/plain": [
       "    p0   p1   p2   p3    p4    p5   p6   p7   p8   p9  ...  p57  p58  p59  \\\n",
       "0  0.0  0.0  0.0  0.0  13.0  16.0  6.0  0.0  0.0  0.0  ...  0.0  0.0  1.0   \n",
       "\n",
       "    p60   p61  p62  p63  target  target_OE  SPLITS  \n",
       "0  12.0  14.0  5.0  0.0       1        Odd    TEST  \n",
       "\n",
       "[1 rows x 67 columns]"
      ]
     },
     "execution_count": 227,
     "metadata": {},
     "output_type": "execute_result"
    }
   ],
   "source": [
    "pred.head(1)"
   ]
  },
  {
   "cell_type": "code",
   "execution_count": 228,
   "id": "round-testing",
   "metadata": {},
   "outputs": [],
   "source": [
    "newob = pred.loc[:0,'p0':'p63'].to_dict(orient='records')[0]\n",
    "#newob"
   ]
  },
  {
   "cell_type": "markdown",
   "id": "prerequisite-discretion",
   "metadata": {},
   "source": [
    "Request preciction from the prediction service:"
   ]
  },
  {
   "cell_type": "code",
   "execution_count": 229,
   "id": "accompanied-superior",
   "metadata": {},
   "outputs": [],
   "source": [
    "from google.protobuf import json_format\n",
    "from google.protobuf.struct_pb2 import Value\n",
    "\n",
    "response = clients['prediction'].predict(endpoint=endpoint_info.name, instances=[json_format.ParseDict(newob, Value())], parameters=json_format.ParseDict({}, Value()))"
   ]
  },
  {
   "cell_type": "markdown",
   "id": "preliminary-bosnia",
   "metadata": {},
   "source": [
    "Review the prediction response (note the response is in protobuf format):"
   ]
  },
  {
   "cell_type": "code",
   "execution_count": 194,
   "id": "instructional-republic",
   "metadata": {},
   "outputs": [],
   "source": [
    "#response.predictions._pb"
   ]
  },
  {
   "cell_type": "code",
   "execution_count": 232,
   "id": "greenhouse-texas",
   "metadata": {},
   "outputs": [
    {
     "data": {
      "text/plain": [
       "'1'"
      ]
     },
     "execution_count": 232,
     "metadata": {},
     "output_type": "execute_result"
    }
   ],
   "source": [
    "response.predictions._pb[0].struct_value.fields['predicted_target'].list_value.values[0].string_value"
   ]
  },
  {
   "cell_type": "markdown",
   "id": "sufficient-breath",
   "metadata": {},
   "source": [
    "---\n",
    "## Remove Resources\n",
    "- undeploy-model\n",
    "- remove endpoint\n",
    "- remove model\n",
    "- delete model files"
   ]
  },
  {
   "cell_type": "markdown",
   "id": "irish-girlfriend",
   "metadata": {},
   "source": [
    "Undeploy Model:"
   ]
  },
  {
   "cell_type": "code",
   "execution_count": 233,
   "id": "compact-encounter",
   "metadata": {},
   "outputs": [
    {
     "data": {
      "text/plain": [
       "<google.api_core.operation.Operation at 0x7f2bb004a750>"
      ]
     },
     "execution_count": 233,
     "metadata": {},
     "output_type": "execute_result"
    }
   ],
   "source": [
    "dmodel = clients['endpoint'].get_endpoint(name=endpoint_info.name).deployed_models[0].id\n",
    "clients['endpoint'].undeploy_model(endpoint=endpoint_info.name, deployed_model_id=dmodel)"
   ]
  },
  {
   "cell_type": "markdown",
   "id": "suspected-continuity",
   "metadata": {},
   "source": [
    "Delete Endpoint:"
   ]
  },
  {
   "cell_type": "code",
   "execution_count": 234,
   "id": "victorian-basketball",
   "metadata": {},
   "outputs": [
    {
     "data": {
      "text/plain": [
       "<google.api_core.operation.Operation at 0x7f2bb0062510>"
      ]
     },
     "execution_count": 234,
     "metadata": {},
     "output_type": "execute_result"
    }
   ],
   "source": [
    "clients['endpoint'].delete_endpoint(name=endpoint_info.name)"
   ]
  },
  {
   "cell_type": "markdown",
   "id": "sunrise-victor",
   "metadata": {},
   "source": [
    "Remove Model:"
   ]
  },
  {
   "cell_type": "code",
   "execution_count": 235,
   "id": "bibliographic-terrorist",
   "metadata": {},
   "outputs": [
    {
     "data": {
      "text/plain": [
       "<google.api_core.operation.Operation at 0x7f2bb0047350>"
      ]
     },
     "execution_count": 235,
     "metadata": {},
     "output_type": "execute_result"
    }
   ],
   "source": [
    "clients['model'].delete_model(name=model_info.name)"
   ]
  },
  {
   "cell_type": "markdown",
   "id": "spiritual-shield",
   "metadata": {},
   "source": [
    "Delete Model Files:"
   ]
  },
  {
   "cell_type": "code",
   "execution_count": 236,
   "id": "attractive-forth",
   "metadata": {},
   "outputs": [],
   "source": [
    "from google.cloud import storage\n",
    "gcs = storage.Client()\n",
    "\n",
    "path = gcs.bucket(PROJECT_ID)\n",
    "blobs = path.list_blobs(prefix='digits/bqml')\n",
    "for blob in blobs:\n",
    "    blob.delete()"
   ]
  }
 ],
 "metadata": {
  "environment": {
   "name": "tf2-gpu.2-4.m65",
   "type": "gcloud",
   "uri": "gcr.io/deeplearning-platform-release/tf2-gpu.2-4:m65"
  },
  "kernelspec": {
   "display_name": "Python 3",
   "language": "python",
   "name": "python3"
  },
  "language_info": {
   "codemirror_mode": {
    "name": "ipython",
    "version": 3
   },
   "file_extension": ".py",
   "mimetype": "text/x-python",
   "name": "python",
   "nbconvert_exporter": "python",
   "pygments_lexer": "ipython3",
   "version": "3.7.10"
  }
 },
 "nbformat": 4,
 "nbformat_minor": 5
}
