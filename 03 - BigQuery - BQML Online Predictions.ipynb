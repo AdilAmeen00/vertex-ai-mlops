{
 "cells": [
  {
   "cell_type": "markdown",
   "id": "7301a138",
   "metadata": {},
   "source": [
    "# BigQuery - BQML Online Predictions\n",
    "\n",
    "This notebook exports the BigQuery ML model created in `02 - BigQuery - BQML` and then uses AI Platform to upload the model and deploy it to an endpoint for online predictions.\n",
    "\n",
    "**Prerequisites**\n",
    "- `00 - Initial Setup`\n",
    "- `01 - BigQuery - Data`\n",
    "- `02 - BigQuery - BQML`\n",
    "\n",
    "**Overview**\n",
    "\n",
    "<img src=\"architectures/statmike-mlops-03.png\">"
   ]
  },
  {
   "cell_type": "markdown",
   "id": "058ea0c9",
   "metadata": {},
   "source": [
    "---\n",
    "## Setup"
   ]
  },
  {
   "cell_type": "markdown",
   "id": "a6a42494",
   "metadata": {},
   "source": [
    "Setup Parameters For Model Deployment"
   ]
  },
  {
   "cell_type": "code",
   "execution_count": 1,
   "id": "6b91bcd7",
   "metadata": {},
   "outputs": [],
   "source": [
    "PROJECT_ID='statmike-mlops'\n",
    "REGION='us-central1'\n",
    "\n",
    "MODEL_NAME='MODEL_BQML-DIGITS'\n",
    "ENDPOINT_NAME='ENDPOINT_BQML-DIGITS'\n",
    "MODEL_DIR='gs://{}/digits/bqml'.format(PROJECT_ID)\n",
    "PARENT = \"projects/\" + PROJECT_ID + \"/locations/\" + REGION\n",
    "\n",
    "params = {\"MODEL_DIR\":MODEL_DIR}\n",
    "DEPLOY_IMAGE='us-docker.pkg.dev/cloud-aiplatform/prediction/tf2-cpu.2-2:latest'\n",
    "DEPLOY_COMPUTE='n1-standard-4'"
   ]
  },
  {
   "cell_type": "markdown",
   "id": "46096147",
   "metadata": {},
   "source": [
    "Setup AI Platform Python Clients\n",
    "- https://googleapis.dev/python/aiplatform/latest/index.html"
   ]
  },
  {
   "cell_type": "code",
   "execution_count": 2,
   "id": "1223a0b1",
   "metadata": {},
   "outputs": [],
   "source": [
    "from google.cloud import aiplatform\n",
    "\n",
    "API_ENDPOINT = \"{}-aiplatform.googleapis.com\".format(REGION)\n",
    "client_options = {\"api_endpoint\": API_ENDPOINT}\n",
    "clients = {}"
   ]
  },
  {
   "cell_type": "markdown",
   "id": "b3da9a5d",
   "metadata": {},
   "source": [
    "---\n",
    "## Export the BigQuery Model\n",
    "\n",
    "Export the BigQuery Model:\n",
    "- https://cloud.google.com/bigquery-ml/docs/exporting-models"
   ]
  },
  {
   "cell_type": "code",
   "execution_count": 3,
   "id": "55ff084c",
   "metadata": {},
   "outputs": [
    {
     "name": "stderr",
     "output_type": "stream",
     "text": [
      "Query complete after 0.01s: 100%|██████████| 2/2 [00:00<00:00, 1066.57query/s]                        \n"
     ]
    },
    {
     "data": {
      "text/html": [
       "<div>\n",
       "<style scoped>\n",
       "    .dataframe tbody tr th:only-of-type {\n",
       "        vertical-align: middle;\n",
       "    }\n",
       "\n",
       "    .dataframe tbody tr th {\n",
       "        vertical-align: top;\n",
       "    }\n",
       "\n",
       "    .dataframe thead th {\n",
       "        text-align: right;\n",
       "    }\n",
       "</style>\n",
       "<table border=\"1\" class=\"dataframe\">\n",
       "  <thead>\n",
       "    <tr style=\"text-align: right;\">\n",
       "      <th></th>\n",
       "    </tr>\n",
       "  </thead>\n",
       "  <tbody>\n",
       "  </tbody>\n",
       "</table>\n",
       "</div>"
      ],
      "text/plain": [
       "Empty DataFrame\n",
       "Columns: []\n",
       "Index: []"
      ]
     },
     "execution_count": 3,
     "metadata": {},
     "output_type": "execute_result"
    }
   ],
   "source": [
    "%%bigquery --params $params\n",
    "EXPORT MODEL `digits.digits_lr`\n",
    "OPTIONS(URI = @MODEL_DIR)"
   ]
  },
  {
   "cell_type": "markdown",
   "id": "3eb019f8",
   "metadata": {},
   "source": [
    "---\n",
    "## Upload the Model to AI Platform\n",
    "\n",
    "Import the Model:\n",
    "- https://cloud.google.com/ai-platform-unified/docs/predictions/importing-custom-trained-model"
   ]
  },
  {
   "cell_type": "markdown",
   "id": "e04f3238",
   "metadata": {},
   "source": [
    "Create a client to the Model Service, define the Model, and upload the model:"
   ]
  },
  {
   "cell_type": "code",
   "execution_count": 4,
   "id": "74fc6c55",
   "metadata": {},
   "outputs": [],
   "source": [
    "clients['model'] = aiplatform.gapic.ModelServiceClient(client_options=client_options)\n",
    "\n",
    "MODEL = {\n",
    "    \"display_name\": MODEL_NAME,\n",
    "    \"metadata_schema_uri\": \"\",\n",
    "    \"artifact_uri\": MODEL_DIR,\n",
    "    \"container_spec\": {\n",
    "        \"image_uri\": DEPLOY_IMAGE,\n",
    "        \"command\": [],\n",
    "        \"args\": [],\n",
    "        \"env\": [],\n",
    "        \"ports\": [{\"container_port\": 8080}],\n",
    "        \"predict_route\": \"\",\n",
    "        \"health_route\": \"\"\n",
    "    }\n",
    "}\n",
    "\n",
    "uploaded_model = clients['model'].upload_model(parent=PARENT, model=MODEL)"
   ]
  },
  {
   "cell_type": "markdown",
   "id": "68c37f8b",
   "metadata": {},
   "source": [
    "Retrieve the model information and view the name and display name:"
   ]
  },
  {
   "cell_type": "code",
   "execution_count": 5,
   "id": "7a2a2feb",
   "metadata": {},
   "outputs": [
    {
     "data": {
      "text/plain": [
       "('MODEL_BQML-DIGITS',\n",
       " 'projects/691911073727/locations/us-central1/models/3066397192378908672')"
      ]
     },
     "execution_count": 5,
     "metadata": {},
     "output_type": "execute_result"
    }
   ],
   "source": [
    "model_info = clients['model'].get_model(name=uploaded_model.result(timeout=180).model)\n",
    "model_info.display_name, model_info.name"
   ]
  },
  {
   "cell_type": "markdown",
   "id": "4edec0f1",
   "metadata": {},
   "source": [
    "---\n",
    "## Create the AI Platform Endpoint\n",
    "\n",
    "Deploy the Model:\n",
    "- https://cloud.google.com/ai-platform-unified/docs/predictions/deploy-model-api"
   ]
  },
  {
   "cell_type": "markdown",
   "id": "8daba3dc",
   "metadata": {},
   "source": [
    "Create a client to the Endpoint Service and use it to create the endpoint:"
   ]
  },
  {
   "cell_type": "code",
   "execution_count": 6,
   "id": "6ed0da0e",
   "metadata": {},
   "outputs": [],
   "source": [
    "clients['endpoint'] = aiplatform.gapic.EndpointServiceClient(client_options=client_options)\n",
    "\n",
    "endpoint = clients['endpoint'].create_endpoint(parent=PARENT, endpoint={\"display_name\": ENDPOINT_NAME})"
   ]
  },
  {
   "cell_type": "markdown",
   "id": "c9e7201a",
   "metadata": {},
   "source": [
    "Retrieve the endpoint information and view the name and display name:"
   ]
  },
  {
   "cell_type": "code",
   "execution_count": 7,
   "id": "e323f7b8",
   "metadata": {},
   "outputs": [
    {
     "data": {
      "text/plain": [
       "('ENDPOINT_BQML-DIGITS',\n",
       " 'projects/691911073727/locations/us-central1/endpoints/8494123148755599360')"
      ]
     },
     "execution_count": 7,
     "metadata": {},
     "output_type": "execute_result"
    }
   ],
   "source": [
    "endpoint_info = clients['endpoint'].get_endpoint(name=endpoint.result(timeout=180).name)\n",
    "endpoint_info.display_name, endpoint_info.name"
   ]
  },
  {
   "cell_type": "markdown",
   "id": "b431bf8e",
   "metadata": {},
   "source": [
    "---\n",
    "## Deploy the Model to the AI Platform Endpoint"
   ]
  },
  {
   "cell_type": "code",
   "execution_count": 8,
   "id": "5c3eaaf9",
   "metadata": {},
   "outputs": [],
   "source": [
    "DMODEL = {\n",
    "        \"model\": model_info.name,\n",
    "        \"display_name\": 'DEPLOYED_'+MODEL_NAME,\n",
    "        \"dedicated_resources\": {\n",
    "            \"min_replica_count\": 1,\n",
    "            \"max_replica_count\": 1,\n",
    "            \"machine_spec\": {\n",
    "                    \"machine_type\": DEPLOY_COMPUTE,\n",
    "                    \"accelerator_count\": 0,\n",
    "                }\n",
    "        }   \n",
    "}\n",
    "\n",
    "TRAFFIC = {\n",
    "    '0' : 100\n",
    "}\n",
    "\n",
    "dmodel = clients['endpoint'].deploy_model(endpoint=endpoint_info.name, deployed_model=DMODEL, traffic_split=TRAFFIC)"
   ]
  },
  {
   "cell_type": "markdown",
   "id": "b9759ee5",
   "metadata": {},
   "source": [
    "Retrieve the deployed model information from the endpoint:"
   ]
  },
  {
   "cell_type": "code",
   "execution_count": 43,
   "id": "d0096263",
   "metadata": {},
   "outputs": [
    {
     "data": {
      "text/plain": [
       "[id: \"2099082046633672704\"\n",
       "model: \"projects/691911073727/locations/us-central1/models/3066397192378908672\"\n",
       "display_name: \"DEPLOYED_MODEL_BQML-DIGITS\"\n",
       "create_time {\n",
       "  seconds: 1623359378\n",
       "  nanos: 107883000\n",
       "}\n",
       "dedicated_resources {\n",
       "  machine_spec {\n",
       "    machine_type: \"n1-standard-4\"\n",
       "  }\n",
       "  min_replica_count: 1\n",
       "  max_replica_count: 1\n",
       "}\n",
       "]"
      ]
     },
     "execution_count": 43,
     "metadata": {},
     "output_type": "execute_result"
    }
   ],
   "source": [
    "clients['endpoint'].get_endpoint(name=endpoint_info.name).deployed_models"
   ]
  },
  {
   "cell_type": "markdown",
   "id": "7799fd4e",
   "metadata": {},
   "source": [
    "---\n",
    "## Predictions\n",
    "\n",
    "Get an online prediction:\n",
    "- https://cloud.google.com/ai-platform-unified/docs/predictions/online-predictions-custom-models#online_predict_custom_trained-python"
   ]
  },
  {
   "cell_type": "markdown",
   "id": "873a6d3a",
   "metadata": {},
   "source": [
    "Create a client to the prediction service:"
   ]
  },
  {
   "cell_type": "code",
   "execution_count": 44,
   "id": "3b029290",
   "metadata": {},
   "outputs": [],
   "source": [
    "clients['prediction'] = aiplatform.gapic.PredictionServiceClient(client_options=client_options)"
   ]
  },
  {
   "cell_type": "markdown",
   "id": "f6dfa9fa",
   "metadata": {},
   "source": [
    "Setup an observation for prediction:"
   ]
  },
  {
   "cell_type": "code",
   "execution_count": 45,
   "id": "1a5d757d",
   "metadata": {},
   "outputs": [
    {
     "name": "stderr",
     "output_type": "stream",
     "text": [
      "Query complete after 0.00s: 100%|██████████| 1/1 [00:00<00:00, 394.91query/s]                          \n",
      "Downloading: 100%|██████████| 339/339 [00:01<00:00, 280.16rows/s]\n"
     ]
    }
   ],
   "source": [
    "%%bigquery pred\n",
    "SELECT *\n",
    "FROM `digits.digits_prepped`\n",
    "WHERE splits='TEST'"
   ]
  },
  {
   "cell_type": "code",
   "execution_count": 46,
   "id": "2df0e491",
   "metadata": {},
   "outputs": [
    {
     "data": {
      "text/html": [
       "<div>\n",
       "<style scoped>\n",
       "    .dataframe tbody tr th:only-of-type {\n",
       "        vertical-align: middle;\n",
       "    }\n",
       "\n",
       "    .dataframe tbody tr th {\n",
       "        vertical-align: top;\n",
       "    }\n",
       "\n",
       "    .dataframe thead th {\n",
       "        text-align: right;\n",
       "    }\n",
       "</style>\n",
       "<table border=\"1\" class=\"dataframe\">\n",
       "  <thead>\n",
       "    <tr style=\"text-align: right;\">\n",
       "      <th></th>\n",
       "      <th>p0</th>\n",
       "      <th>p1</th>\n",
       "      <th>p2</th>\n",
       "      <th>p3</th>\n",
       "      <th>p4</th>\n",
       "      <th>p5</th>\n",
       "      <th>p6</th>\n",
       "      <th>p7</th>\n",
       "      <th>p8</th>\n",
       "      <th>p9</th>\n",
       "      <th>...</th>\n",
       "      <th>p57</th>\n",
       "      <th>p58</th>\n",
       "      <th>p59</th>\n",
       "      <th>p60</th>\n",
       "      <th>p61</th>\n",
       "      <th>p62</th>\n",
       "      <th>p63</th>\n",
       "      <th>target</th>\n",
       "      <th>target_OE</th>\n",
       "      <th>SPLITS</th>\n",
       "    </tr>\n",
       "  </thead>\n",
       "  <tbody>\n",
       "    <tr>\n",
       "      <th>0</th>\n",
       "      <td>0.0</td>\n",
       "      <td>0.0</td>\n",
       "      <td>0.0</td>\n",
       "      <td>9.0</td>\n",
       "      <td>8.0</td>\n",
       "      <td>1.0</td>\n",
       "      <td>0.0</td>\n",
       "      <td>0.0</td>\n",
       "      <td>0.0</td>\n",
       "      <td>0.0</td>\n",
       "      <td>...</td>\n",
       "      <td>0.0</td>\n",
       "      <td>0.0</td>\n",
       "      <td>7.0</td>\n",
       "      <td>14.0</td>\n",
       "      <td>9.0</td>\n",
       "      <td>0.0</td>\n",
       "      <td>0.0</td>\n",
       "      <td>0</td>\n",
       "      <td>Even</td>\n",
       "      <td>TEST</td>\n",
       "    </tr>\n",
       "  </tbody>\n",
       "</table>\n",
       "<p>1 rows × 67 columns</p>\n",
       "</div>"
      ],
      "text/plain": [
       "    p0   p1   p2   p3   p4   p5   p6   p7   p8   p9  ...  p57  p58  p59   p60  \\\n",
       "0  0.0  0.0  0.0  9.0  8.0  1.0  0.0  0.0  0.0  0.0  ...  0.0  0.0  7.0  14.0   \n",
       "\n",
       "   p61  p62  p63  target  target_OE  SPLITS  \n",
       "0  9.0  0.0  0.0       0       Even    TEST  \n",
       "\n",
       "[1 rows x 67 columns]"
      ]
     },
     "execution_count": 46,
     "metadata": {},
     "output_type": "execute_result"
    }
   ],
   "source": [
    "pred.head(1)"
   ]
  },
  {
   "cell_type": "code",
   "execution_count": 47,
   "id": "ea6eebc4",
   "metadata": {},
   "outputs": [],
   "source": [
    "newob = pred.loc[:0,'p0':'p63'].to_dict(orient='records')[0]\n",
    "#newob"
   ]
  },
  {
   "cell_type": "markdown",
   "id": "e02725f8",
   "metadata": {},
   "source": [
    "Request prediction from the prediction service:"
   ]
  },
  {
   "cell_type": "code",
   "execution_count": 48,
   "id": "e7051b60",
   "metadata": {},
   "outputs": [],
   "source": [
    "from google.protobuf import json_format\n",
    "from google.protobuf.struct_pb2 import Value\n",
    "\n",
    "response = clients['prediction'].predict(endpoint=endpoint_info.name, instances=[json_format.ParseDict(newob, Value())], parameters=json_format.ParseDict({}, Value()))"
   ]
  },
  {
   "cell_type": "markdown",
   "id": "8fb989c3",
   "metadata": {},
   "source": [
    "Review the prediction response (note the response is in protobuf format):"
   ]
  },
  {
   "cell_type": "code",
   "execution_count": 49,
   "id": "d513576a",
   "metadata": {},
   "outputs": [],
   "source": [
    "#response.predictions._pb"
   ]
  },
  {
   "cell_type": "code",
   "execution_count": 50,
   "id": "7b8f3c7d",
   "metadata": {},
   "outputs": [
    {
     "data": {
      "text/plain": [
       "'0'"
      ]
     },
     "execution_count": 50,
     "metadata": {},
     "output_type": "execute_result"
    }
   ],
   "source": [
    "response.predictions._pb[0].struct_value.fields['predicted_target'].list_value.values[0].string_value"
   ]
  },
  {
   "cell_type": "code",
   "execution_count": 57,
   "id": "55374ee1",
   "metadata": {},
   "outputs": [
    {
     "data": {
      "text/plain": [
       "predictions {\n",
       "  struct_value {\n",
       "    fields {\n",
       "      key: \"predicted_target\"\n",
       "      value {\n",
       "        list_value {\n",
       "          values {\n",
       "            string_value: \"0\"\n",
       "          }\n",
       "        }\n",
       "      }\n",
       "    }\n",
       "    fields {\n",
       "      key: \"target_probs\"\n",
       "      value {\n",
       "        list_value {\n",
       "          values {\n",
       "            number_value: 0.01792630550534632\n",
       "          }\n",
       "          values {\n",
       "            number_value: 0.1126027781053195\n",
       "          }\n",
       "          values {\n",
       "            number_value: 0.002982120152300284\n",
       "          }\n",
       "          values {\n",
       "            number_value: 0.8275957118081458\n",
       "          }\n",
       "          values {\n",
       "            number_value: 0.0002172134575369708\n",
       "          }\n",
       "          values {\n",
       "            number_value: 0.002753474811837575\n",
       "          }\n",
       "          values {\n",
       "            number_value: 0.0002303482058334596\n",
       "          }\n",
       "          values {\n",
       "            number_value: 6.603000426116453e-06\n",
       "          }\n",
       "          values {\n",
       "            number_value: 0.03462981721695007\n",
       "          }\n",
       "          values {\n",
       "            number_value: 0.00105562773630381\n",
       "          }\n",
       "        }\n",
       "      }\n",
       "    }\n",
       "    fields {\n",
       "      key: \"target_values\"\n",
       "      value {\n",
       "        list_value {\n",
       "          values {\n",
       "            string_value: \"1\"\n",
       "          }\n",
       "          values {\n",
       "            string_value: \"6\"\n",
       "          }\n",
       "          values {\n",
       "            string_value: \"8\"\n",
       "          }\n",
       "          values {\n",
       "            string_value: \"0\"\n",
       "          }\n",
       "          values {\n",
       "            string_value: \"2\"\n",
       "          }\n",
       "          values {\n",
       "            string_value: \"9\"\n",
       "          }\n",
       "          values {\n",
       "            string_value: \"7\"\n",
       "          }\n",
       "          values {\n",
       "            string_value: \"3\"\n",
       "          }\n",
       "          values {\n",
       "            string_value: \"4\"\n",
       "          }\n",
       "          values {\n",
       "            string_value: \"5\"\n",
       "          }\n",
       "        }\n",
       "      }\n",
       "    }\n",
       "  }\n",
       "}\n",
       "deployed_model_id: \"2099082046633672704\""
      ]
     },
     "execution_count": 57,
     "metadata": {},
     "output_type": "execute_result"
    }
   ],
   "source": [
    "response"
   ]
  },
  {
   "cell_type": "markdown",
   "id": "03f57844",
   "metadata": {},
   "source": [
    "---\n",
    "## Remove Resources\n",
    "- undeploy-model\n",
    "- remove endpoint\n",
    "- remove model\n",
    "- delete model files"
   ]
  },
  {
   "cell_type": "markdown",
   "id": "1e270d58",
   "metadata": {},
   "source": [
    "Undeploy Model:"
   ]
  },
  {
   "cell_type": "code",
   "execution_count": 233,
   "id": "e4d07d0c",
   "metadata": {},
   "outputs": [
    {
     "data": {
      "text/plain": [
       "<google.api_core.operation.Operation at 0x7f2bb004a750>"
      ]
     },
     "execution_count": 233,
     "metadata": {},
     "output_type": "execute_result"
    }
   ],
   "source": [
    "dmodel = clients['endpoint'].get_endpoint(name=endpoint_info.name).deployed_models[0].id\n",
    "clients['endpoint'].undeploy_model(endpoint=endpoint_info.name, deployed_model_id=dmodel)"
   ]
  },
  {
   "cell_type": "markdown",
   "id": "7c1c41c9",
   "metadata": {},
   "source": [
    "Delete Endpoint:"
   ]
  },
  {
   "cell_type": "code",
   "execution_count": 234,
   "id": "c86a09de",
   "metadata": {},
   "outputs": [
    {
     "data": {
      "text/plain": [
       "<google.api_core.operation.Operation at 0x7f2bb0062510>"
      ]
     },
     "execution_count": 234,
     "metadata": {},
     "output_type": "execute_result"
    }
   ],
   "source": [
    "clients['endpoint'].delete_endpoint(name=endpoint_info.name)"
   ]
  },
  {
   "cell_type": "markdown",
   "id": "730a59e0",
   "metadata": {},
   "source": [
    "Remove Model:"
   ]
  },
  {
   "cell_type": "code",
   "execution_count": 235,
   "id": "a255f5a7",
   "metadata": {},
   "outputs": [
    {
     "data": {
      "text/plain": [
       "<google.api_core.operation.Operation at 0x7f2bb0047350>"
      ]
     },
     "execution_count": 235,
     "metadata": {},
     "output_type": "execute_result"
    }
   ],
   "source": [
    "clients['model'].delete_model(name=model_info.name)"
   ]
  },
  {
   "cell_type": "markdown",
   "id": "8beb82e2",
   "metadata": {},
   "source": [
    "Delete Model Files:"
   ]
  },
  {
   "cell_type": "code",
   "execution_count": 236,
   "id": "cf14d1db",
   "metadata": {},
   "outputs": [],
   "source": [
    "from google.cloud import storage\n",
    "gcs = storage.Client()\n",
    "\n",
    "path = gcs.bucket(PROJECT_ID)\n",
    "blobs = path.list_blobs(prefix='digits/bqml')\n",
    "for blob in blobs:\n",
    "    blob.delete()"
   ]
  }
 ],
 "metadata": {
  "environment": {
   "name": "managed-notebooks.m70",
   "type": "gcloud",
   "uri": "gcr.io/deeplearning-platform-release/managed-notebooks:m70"
  },
  "kernelspec": {
   "display_name": "Python",
   "language": "python",
   "name": "base"
  },
  "language_info": {
   "codemirror_mode": {
    "name": "ipython",
    "version": 3
   },
   "file_extension": ".py",
   "mimetype": "text/x-python",
   "name": "python",
   "nbconvert_exporter": "python",
   "pygments_lexer": "ipython3",
   "version": "3.7.10"
  }
 },
 "nbformat": 4,
 "nbformat_minor": 5
}
