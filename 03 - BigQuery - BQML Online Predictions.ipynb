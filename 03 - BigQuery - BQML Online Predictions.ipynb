{
 "cells": [
  {
   "cell_type": "markdown",
   "id": "northern-simpson",
   "metadata": {},
   "source": [
    "# BigQuery - BQML Online Predictions\n",
    "\n",
    "This notebook export the BigQuery ML model create in `02 - BigQuery - BQML` and then uses AI Platform to upload the model and deploy it to and endpoint for online predictions.\n",
    "\n",
    "**Prerequisites**\n",
    "- `00 - Initial Setup`\n",
    "- `01 - BigQuery - Data`\n",
    "- `02 - BigQuery - BQML`"
   ]
  },
  {
   "cell_type": "markdown",
   "id": "laden-utility",
   "metadata": {},
   "source": [
    "---\n",
    "## Setup"
   ]
  },
  {
   "cell_type": "markdown",
   "id": "veterinary-algebra",
   "metadata": {},
   "source": [
    "Setup Parameters For Model Deployment"
   ]
  },
  {
   "cell_type": "code",
   "execution_count": 40,
   "id": "taken-recording",
   "metadata": {},
   "outputs": [],
   "source": [
    "PROJECT_ID='statmike-mlops'\n",
    "REGION='us-central1'\n",
    "\n",
    "MODEL_NAME='MODEL_BQML-DIGITS'\n",
    "ENDPOINT_NAME='ENDPOINT_BQML-DIGITS'\n",
    "MODEL_DIR='gs://{}/digits/bqml'.format(PROJECT_ID)\n",
    "PARENT = \"projects/\" + PROJECT_ID + \"/locations/\" + REGION\n",
    "\n",
    "params = {\"MODEL_DIR\":MODEL_DIR}\n",
    "DEPLOY_IMAGE='us-docker.pkg.dev/cloud-aiplatform/prediction/tf2-cpu.2-2:latest'\n",
    "DEPLOY_COMPUTE='n1-standard-4'"
   ]
  },
  {
   "cell_type": "markdown",
   "id": "broadband-algorithm",
   "metadata": {},
   "source": [
    "Setup AI Platform Python Clients\n",
    "- https://googleapis.dev/python/aiplatform/latest/index.html"
   ]
  },
  {
   "cell_type": "code",
   "execution_count": 36,
   "id": "interim-beast",
   "metadata": {},
   "outputs": [],
   "source": [
    "from google.cloud import aiplatform\n",
    "\n",
    "API_ENDPOINT = \"{}-aiplatform.googleapis.com\".format(REGION)\n",
    "client_options = {\"api_endpoint\": API_ENDPOINT}\n",
    "clients = {}"
   ]
  },
  {
   "cell_type": "markdown",
   "id": "gorgeous-marker",
   "metadata": {},
   "source": [
    "---\n",
    "## Export the BigQuery Model\n",
    "\n",
    "Export the BigQuery Model:\n",
    "- https://cloud.google.com/bigquery-ml/docs/exporting-models"
   ]
  },
  {
   "cell_type": "code",
   "execution_count": 32,
   "id": "posted-niagara",
   "metadata": {},
   "outputs": [
    {
     "data": {
      "text/html": [
       "<div>\n",
       "<style scoped>\n",
       "    .dataframe tbody tr th:only-of-type {\n",
       "        vertical-align: middle;\n",
       "    }\n",
       "\n",
       "    .dataframe tbody tr th {\n",
       "        vertical-align: top;\n",
       "    }\n",
       "\n",
       "    .dataframe thead th {\n",
       "        text-align: right;\n",
       "    }\n",
       "</style>\n",
       "<table border=\"1\" class=\"dataframe\">\n",
       "  <thead>\n",
       "    <tr style=\"text-align: right;\">\n",
       "      <th></th>\n",
       "    </tr>\n",
       "  </thead>\n",
       "  <tbody>\n",
       "  </tbody>\n",
       "</table>\n",
       "</div>"
      ],
      "text/plain": [
       "Empty DataFrame\n",
       "Columns: []\n",
       "Index: []"
      ]
     },
     "execution_count": 32,
     "metadata": {},
     "output_type": "execute_result"
    }
   ],
   "source": [
    "%%bigquery --params $params\n",
    "EXPORT MODEL `statmike-mlops.digits.digits_lr`\n",
    "OPTIONS(URI = @MODEL_DIR)"
   ]
  },
  {
   "cell_type": "markdown",
   "id": "fresh-cameroon",
   "metadata": {},
   "source": [
    "---\n",
    "## Upload the Model to AI Platform\n",
    "\n",
    "Import the Model:\n",
    "- https://cloud.google.com/ai-platform-unified/docs/predictions/importing-custom-trained-model"
   ]
  },
  {
   "cell_type": "markdown",
   "id": "functioning-angle",
   "metadata": {},
   "source": [
    "Create a client to the Model Service, define the Model, and upload the model:"
   ]
  },
  {
   "cell_type": "code",
   "execution_count": 38,
   "id": "minus-underwear",
   "metadata": {},
   "outputs": [],
   "source": [
    "clients['model'] = aiplatform.gapic.ModelServiceClient(client_options=client_options)\n",
    "\n",
    "MODEL = {\n",
    "    \"display_name\": MODEL_NAME,\n",
    "    \"metadata_schema_uri\": \"\",\n",
    "    \"artifact_uri\": MODEL_DIR,\n",
    "    \"container_spec\": {\n",
    "        \"image_uri\": DEPLOY_IMAGE,\n",
    "        \"command\": [],\n",
    "        \"args\": [],\n",
    "        \"env\": [],\n",
    "        \"ports\": [{\"container_port\": 8080}],\n",
    "        \"predict_route\": \"\",\n",
    "        \"health_route\": \"\"\n",
    "    }\n",
    "}\n",
    "\n",
    "uploaded_model = clients['model'].upload_model(parent=PARENT, model=MODEL)"
   ]
  },
  {
   "cell_type": "markdown",
   "id": "hourly-liberal",
   "metadata": {},
   "source": [
    "Retrieve the model information and view the name and display name:"
   ]
  },
  {
   "cell_type": "code",
   "execution_count": 44,
   "id": "piano-australian",
   "metadata": {},
   "outputs": [
    {
     "data": {
      "text/plain": [
       "('MODEL_BQML-DIGITS',\n",
       " 'projects/691911073727/locations/us-central1/models/854505252735418368')"
      ]
     },
     "execution_count": 44,
     "metadata": {},
     "output_type": "execute_result"
    }
   ],
   "source": [
    "model_info = clients['model'].get_model(name=uploaded_model.result(timeout=180).model)\n",
    "model_info.display_name, model_info.name"
   ]
  },
  {
   "cell_type": "markdown",
   "id": "raising-jumping",
   "metadata": {},
   "source": [
    "---\n",
    "## Create the AI Platform Endpoint\n",
    "\n",
    "Deploy the Model:\n",
    "- https://cloud.google.com/ai-platform-unified/docs/predictions/deploy-model-api"
   ]
  },
  {
   "cell_type": "markdown",
   "id": "british-climate",
   "metadata": {},
   "source": [
    "Create a client to the Endpoint Service and use it to create the endpoint:"
   ]
  },
  {
   "cell_type": "code",
   "execution_count": 45,
   "id": "verified-wright",
   "metadata": {},
   "outputs": [],
   "source": [
    "clients['endpoint'] = aiplatform.gapic.EndpointServiceClient(client_options=client_options)\n",
    "\n",
    "endpoint = clients['endpoint'].create_endpoint(parent=PARENT, endpoint={\"display_name\": ENDPOINT_NAME})"
   ]
  },
  {
   "cell_type": "markdown",
   "id": "aggregate-stream",
   "metadata": {},
   "source": [
    "Retrieve the endpoint information and view the name and display name:"
   ]
  },
  {
   "cell_type": "code",
   "execution_count": 47,
   "id": "critical-intervention",
   "metadata": {},
   "outputs": [
    {
     "data": {
      "text/plain": [
       "('ENDPOINT_BQML-DIGITS',\n",
       " 'projects/691911073727/locations/us-central1/endpoints/3804574114895626240')"
      ]
     },
     "execution_count": 47,
     "metadata": {},
     "output_type": "execute_result"
    }
   ],
   "source": [
    "endpoint_info = clients['endpoint'].get_endpoint(name=endpoint.result(timeout=180).name)\n",
    "endpoint_info.display_name, endpoint_info.name"
   ]
  },
  {
   "cell_type": "markdown",
   "id": "general-eclipse",
   "metadata": {},
   "source": [
    "Deploy the model to the endpoint:"
   ]
  },
  {
   "cell_type": "code",
   "execution_count": 48,
   "id": "alleged-plain",
   "metadata": {},
   "outputs": [],
   "source": [
    "DMODEL = {\n",
    "        \"model\": model_info.name,\n",
    "        \"display_name\": 'DEPLOYED_'+MODEL_NAME,\n",
    "        \"dedicated_resources\": {\n",
    "            \"min_replica_count\": 1,\n",
    "            \"max_replica_count\": 1,\n",
    "            \"machine_spec\": {\n",
    "                    \"machine_type\": DEPLOY_COMPUTE,\n",
    "                    \"accelerator_count\": 0,\n",
    "                }\n",
    "        }   \n",
    "}\n",
    "\n",
    "TRAFFIC = {\n",
    "    '0' : 100\n",
    "}\n",
    "\n",
    "dmodel = clients['endpoint'].deploy_model(endpoint=endpoint_info.name, deployed_model=DMODEL, traffic_split=TRAFFIC)"
   ]
  },
  {
   "cell_type": "markdown",
   "id": "worth-circle",
   "metadata": {},
   "source": [
    "Retrieve the deployed model information from the endpoint:"
   ]
  },
  {
   "cell_type": "code",
   "execution_count": 53,
   "id": "amber-thesaurus",
   "metadata": {},
   "outputs": [
    {
     "data": {
      "text/plain": [
       "[id: \"93537653198159872\"\n",
       "model: \"projects/691911073727/locations/us-central1/models/854505252735418368\"\n",
       "display_name: \"DEPLOYED_MODEL_BQML-DIGITS\"\n",
       "create_time {\n",
       "  seconds: 1618237671\n",
       "  nanos: 217616000\n",
       "}\n",
       "dedicated_resources {\n",
       "  machine_spec {\n",
       "    machine_type: \"n1-standard-4\"\n",
       "  }\n",
       "  min_replica_count: 1\n",
       "  max_replica_count: 1\n",
       "}\n",
       "]"
      ]
     },
     "execution_count": 53,
     "metadata": {},
     "output_type": "execute_result"
    }
   ],
   "source": [
    "clients['endpoint'].get_endpoint(name=endpoint_info.name).deployed_models"
   ]
  },
  {
   "cell_type": "markdown",
   "id": "industrial-grade",
   "metadata": {},
   "source": [
    "---\n",
    "## Predictions\n",
    "\n",
    "Get an online prediction:\n",
    "- https://cloud.google.com/ai-platform-unified/docs/predictions/online-predictions-custom-models#online_predict_custom_trained-python"
   ]
  },
  {
   "cell_type": "markdown",
   "id": "christian-petersburg",
   "metadata": {},
   "source": [
    "Create a client to the prediction service:"
   ]
  },
  {
   "cell_type": "code",
   "execution_count": 54,
   "id": "focused-membership",
   "metadata": {},
   "outputs": [],
   "source": [
    "clients['prediction'] = aiplatform.gapic.PredictionServiceClient(client_options=client_options)"
   ]
  },
  {
   "cell_type": "markdown",
   "id": "broken-publisher",
   "metadata": {},
   "source": [
    "Setup an observation for prediction:"
   ]
  },
  {
   "cell_type": "code",
   "execution_count": 167,
   "id": "substantial-engineer",
   "metadata": {},
   "outputs": [],
   "source": [
    "%%bigquery pred\n",
    "SELECT *\n",
    "FROM ML.PREDICT(MODEL `statmike-mlops.digits.digits_lr`,(\n",
    "    SELECT *\n",
    "    FROM `statmike-mlops.digits.digits_prepped`\n",
    "    WHERE splits='TEST')\n",
    "  )"
   ]
  },
  {
   "cell_type": "code",
   "execution_count": 193,
   "id": "worthy-dialogue",
   "metadata": {},
   "outputs": [
    {
     "data": {
      "text/html": [
       "<div>\n",
       "<style scoped>\n",
       "    .dataframe tbody tr th:only-of-type {\n",
       "        vertical-align: middle;\n",
       "    }\n",
       "\n",
       "    .dataframe tbody tr th {\n",
       "        vertical-align: top;\n",
       "    }\n",
       "\n",
       "    .dataframe thead th {\n",
       "        text-align: right;\n",
       "    }\n",
       "</style>\n",
       "<table border=\"1\" class=\"dataframe\">\n",
       "  <thead>\n",
       "    <tr style=\"text-align: right;\">\n",
       "      <th></th>\n",
       "      <th>predicted_target</th>\n",
       "      <th>predicted_target_probs</th>\n",
       "      <th>int64_field_0</th>\n",
       "      <th>p0</th>\n",
       "      <th>p1</th>\n",
       "      <th>p2</th>\n",
       "      <th>p3</th>\n",
       "      <th>p4</th>\n",
       "      <th>p5</th>\n",
       "      <th>p6</th>\n",
       "      <th>...</th>\n",
       "      <th>p57</th>\n",
       "      <th>p58</th>\n",
       "      <th>p59</th>\n",
       "      <th>p60</th>\n",
       "      <th>p61</th>\n",
       "      <th>p62</th>\n",
       "      <th>p63</th>\n",
       "      <th>target</th>\n",
       "      <th>target_OE</th>\n",
       "      <th>SPLITS</th>\n",
       "    </tr>\n",
       "  </thead>\n",
       "  <tbody>\n",
       "    <tr>\n",
       "      <th>0</th>\n",
       "      <td>9</td>\n",
       "      <td>[{'label': 9, 'prob': 0.9495711090506438}, {'l...</td>\n",
       "      <td>1446</td>\n",
       "      <td>0.0</td>\n",
       "      <td>1.0</td>\n",
       "      <td>11.0</td>\n",
       "      <td>15.0</td>\n",
       "      <td>13.0</td>\n",
       "      <td>2.0</td>\n",
       "      <td>0.0</td>\n",
       "      <td>...</td>\n",
       "      <td>1.0</td>\n",
       "      <td>15.0</td>\n",
       "      <td>16.0</td>\n",
       "      <td>15.0</td>\n",
       "      <td>8.0</td>\n",
       "      <td>1.0</td>\n",
       "      <td>0.0</td>\n",
       "      <td>9</td>\n",
       "      <td>Odd</td>\n",
       "      <td>TEST</td>\n",
       "    </tr>\n",
       "  </tbody>\n",
       "</table>\n",
       "<p>1 rows × 70 columns</p>\n",
       "</div>"
      ],
      "text/plain": [
       "   predicted_target                             predicted_target_probs  \\\n",
       "0                 9  [{'label': 9, 'prob': 0.9495711090506438}, {'l...   \n",
       "\n",
       "   int64_field_0   p0   p1    p2    p3    p4   p5   p6  ...  p57   p58   p59  \\\n",
       "0           1446  0.0  1.0  11.0  15.0  13.0  2.0  0.0  ...  1.0  15.0  16.0   \n",
       "\n",
       "    p60  p61  p62  p63  target  target_OE  SPLITS  \n",
       "0  15.0  8.0  1.0  0.0       9        Odd    TEST  \n",
       "\n",
       "[1 rows x 70 columns]"
      ]
     },
     "execution_count": 193,
     "metadata": {},
     "output_type": "execute_result"
    }
   ],
   "source": [
    "pred.head(1)"
   ]
  },
  {
   "cell_type": "code",
   "execution_count": 171,
   "id": "magnetic-nutrition",
   "metadata": {},
   "outputs": [],
   "source": [
    "newob = pred.loc[:0,'int64_field_0':'p63'].to_dict(orient='records')[0]\n",
    "#newob"
   ]
  },
  {
   "cell_type": "markdown",
   "id": "coral-building",
   "metadata": {},
   "source": [
    "Request preciction from the prediction service:"
   ]
  },
  {
   "cell_type": "code",
   "execution_count": 190,
   "id": "continued-place",
   "metadata": {},
   "outputs": [],
   "source": [
    "from google.protobuf import json_format\n",
    "from google.protobuf.struct_pb2 import Value\n",
    "\n",
    "response = clients['prediction'].predict(endpoint=endpoint_info.name, instances=[json_format.ParseDict(newob, Value())], parameters=json_format.ParseDict({}, Value()))"
   ]
  },
  {
   "cell_type": "markdown",
   "id": "polish-rolling",
   "metadata": {},
   "source": [
    "Review the prediction response (note the response is in protobuf format):"
   ]
  },
  {
   "cell_type": "code",
   "execution_count": 194,
   "id": "small-majority",
   "metadata": {},
   "outputs": [],
   "source": [
    "#response.predictions._pb"
   ]
  },
  {
   "cell_type": "code",
   "execution_count": 195,
   "id": "chemical-healthcare",
   "metadata": {},
   "outputs": [
    {
     "data": {
      "text/plain": [
       "'9'"
      ]
     },
     "execution_count": 195,
     "metadata": {},
     "output_type": "execute_result"
    }
   ],
   "source": [
    "response.predictions._pb[0].struct_value.fields['predicted_target'].list_value.values[0].string_value"
   ]
  },
  {
   "cell_type": "markdown",
   "id": "comparable-disco",
   "metadata": {},
   "source": [
    "---\n",
    "## Remove Resources\n",
    "- undeploy-model\n",
    "- remove endpoint\n",
    "- remove model\n",
    "- delete model files"
   ]
  },
  {
   "cell_type": "code",
   "execution_count": 160,
   "id": "endless-kitchen",
   "metadata": {},
   "outputs": [
    {
     "name": "stdout",
     "output_type": "stream",
     "text": [
      "Using endpoint [https://us-central1-aiplatform.googleapis.com/]\n",
      "createTime: '2021-04-02T12:10:45.394681Z'\n",
      "displayName: DIGITS\n",
      "etag: AMEw9yMcTPcNAhfyf1iF_g8oFT7vF4BBNt-yYKU0vgRSEXSbP4af79ZijhV-JctILMs=\n",
      "name: projects/691911073727/locations/us-central1/endpoints/9120088312588009472\n",
      "updateTime: '2021-04-02T13:08:43.180916Z'\n"
     ]
    }
   ],
   "source": [
    "!gcloud beta ai endpoints describe $ENDPOINT_ID --region=$REGION"
   ]
  },
  {
   "cell_type": "code",
   "execution_count": 153,
   "id": "severe-street",
   "metadata": {},
   "outputs": [
    {
     "name": "stdout",
     "output_type": "stream",
     "text": [
      "Using endpoint [https://us-central1-aiplatform.googleapis.com/]\n"
     ]
    }
   ],
   "source": [
    "!gcloud beta ai endpoints undeploy-model $ENDPOINT_ID --region=$REGION --deployed-model-id=$DMODEL_ID"
   ]
  },
  {
   "cell_type": "code",
   "execution_count": 165,
   "id": "introductory-depression",
   "metadata": {},
   "outputs": [
    {
     "name": "stdout",
     "output_type": "stream",
     "text": [
      "Using endpoint [https://us-central1-aiplatform.googleapis.com/]\n",
      "This will delete endpoint [9120088312588009472]...\n",
      "\n",
      "Do you want to continue (Y/n)?  \n"
     ]
    }
   ],
   "source": [
    "!echo \"Y\" | gcloud beta ai endpoints delete $ENDPOINT_ID --region=$REGION"
   ]
  },
  {
   "cell_type": "code",
   "execution_count": 166,
   "id": "least-parts",
   "metadata": {},
   "outputs": [
    {
     "name": "stdout",
     "output_type": "stream",
     "text": [
      "Using endpoint [https://us-central1-aiplatform.googleapis.com/]\n"
     ]
    }
   ],
   "source": [
    "!gcloud beta ai models delete $MODEL_ID --region=$REGION"
   ]
  },
  {
   "cell_type": "code",
   "execution_count": 167,
   "id": "interior-humanity",
   "metadata": {},
   "outputs": [
    {
     "name": "stdout",
     "output_type": "stream",
     "text": [
      "Removing gs://statmike-models/digits/bqml/#1617362257495261...\n",
      "Removing gs://statmike-models/digits/bqml/saved_model.pb#1617362258134061...    \n",
      "Removing gs://statmike-models/digits/bqml/variables/#1617362258019580...        \n",
      "Removing gs://statmike-models/digits/bqml/variables/variables.data-00000-of-00001#1617362258266353...\n",
      "/ [4 objects]                                                                   \n",
      "==> NOTE: You are performing a sequence of gsutil operations that may\n",
      "run significantly faster if you instead use gsutil -m rm ... Please\n",
      "see the -m section under \"gsutil help options\" for further information\n",
      "about when gsutil -m can be advantageous.\n",
      "\n",
      "Removing gs://statmike-models/digits/bqml/variables/variables.index#1617362258370588...\n",
      "/ [5 objects]                                                                   \n",
      "Operation completed over 5 objects.                                              \n"
     ]
    }
   ],
   "source": [
    "!gsutil rm -r $MODEL_DIR"
   ]
  }
 ],
 "metadata": {
  "environment": {
   "name": "tf2-gpu.2-4.m65",
   "type": "gcloud",
   "uri": "gcr.io/deeplearning-platform-release/tf2-gpu.2-4:m65"
  },
  "kernelspec": {
   "display_name": "Python 3",
   "language": "python",
   "name": "python3"
  },
  "language_info": {
   "codemirror_mode": {
    "name": "ipython",
    "version": 3
   },
   "file_extension": ".py",
   "mimetype": "text/x-python",
   "name": "python",
   "nbconvert_exporter": "python",
   "pygments_lexer": "ipython3",
   "version": "3.7.10"
  }
 },
 "nbformat": 4,
 "nbformat_minor": 5
}
