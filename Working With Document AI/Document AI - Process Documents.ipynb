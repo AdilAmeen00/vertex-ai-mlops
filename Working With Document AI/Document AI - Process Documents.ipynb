{
 "cells": [
  {
   "cell_type": "markdown",
   "id": "26932d9e-d190-47a8-86e1-3e2063a2a0e1",
   "metadata": {},
   "source": [
    "![ga4](https://www.google-analytics.com/collect?v=2&tid=G-6VDTYWLKX6&cid=1&en=page_view&sid=1&dl=statmike%2Fvertex-ai-mlops%2FWorking+With+Document+AI&dt=Document+AI+-+Process+Documents.ipynb)\n",
    "\n",
    "# Document AI - Process Documents\n",
    "> From the [Working With Document AI](https://github.com/statmike/vertex-ai-mlops/blob/main/Working%20With%20Document%20AI/readme.md) series in the [vertex-ai-mlops](https://github.com/statmike/vertex-ai-mlops/blob/main/readme.md) repository.\n",
    "\n",
    "Document AI is an API where you interact with processors to extract information from documents.  You enable the API, create an instance of a processor in your project, send in document(s), receive back JSON with the extracted information:\n",
    "\n",
    "<p align=\"center\" width=\"100%\"><center>\n",
    "    <img src=\"../architectures/architectures/images/working with/documentai/readme/high_level.png\">\n",
    "</center></p>\n",
    "\n",
    "This workflow covers all the ways to process a document, or many documents, using Python as the client. For details on how to extract elements from the responses see the next workflow: [Document AI - Process Responses](./Document%20AI%20-%20Process%20Responses.ipynb)\n",
    "\n",
    "---\n",
    "**Documents**\n",
    "\n",
    "Document AI sources are documents.  There are many supported document types (file formats):\n",
    "- Supported [Document Types](https://cloud.google.com/document-ai/docs/file-types) like pdf, gif, tiff, jpeg, pn, gmp, webp\n",
    "- Additional support for [DocX files is in preview](https://cloud.google.com/document-ai/docs/enterprise-document-ocr#supported_file_formats).\n",
    "\n",
    "---\n",
    "**Processing**\n",
    "\n",
    "Processing can be orchestrated with one of the [client libraries](https://cloud.google.com/document-ai/docs/libraries), [REST](https://cloud.google.com/document-ai/docs/reference/rest), or [RPC](https://cloud.google.com/document-ai/docs/reference/rpc).  This workflow will use the [Python Client for Document AI](https://cloud.google.com/python/docs/reference/documentai/latest).\n",
    "\n",
    "```\n",
    "from google.cloud import documentai\n",
    "\n",
    "docai = documentai.DocumentProcessorServiceClient()\n",
    "```\n",
    "\n",
    "> There is also an async client that can be used.  The methods have the same names and can be awaited with `await`:\n",
    "> - `docai_async = documentai.DocumentProcessorServiceAsyncClient()`\n",
    "\n",
    "Processing can be be done online (one document) or in batch (multiple documents):\n",
    "- online (one document):\n",
    "    - `docai.process_document(request = documentai.types.ProcessRequest(client_options = ))`\n",
    "- batch (multiple documents):\n",
    "    - `docai.batch_process_documents(request = documentai.types.BatchProcessRequest(client_options = ))`\n",
    "\n",
    "---\n",
    "**Inputs & Outputs**\n",
    "\n",
    "The following table breaks down the input and output locations by the type of processing:\n",
    "\n",
    "\n",
    "<table style='text-align:center;vertical-align:middle;border:1px solid black' width=\"90%\" cellpadding=\"1\" cellspacing=\"0\">\n",
    "    <caption>Inputs & Outputs</caption>\n",
    "    <col>\n",
    "    <col>\n",
    "    <col>\n",
    "<!--..........................................................................................-->\n",
    "    <thead>\n",
    "        <tr>\n",
    "            <th scope=\"col\" style=\"width:20%\">\n",
    "                Processing Mode\n",
    "            </th>\n",
    "            <th scope=\"col\" style=\"width:40%\">\n",
    "                Inputs\n",
    "            </th>\n",
    "            <th scope=\"col\" style=\"width:40%\">\n",
    "                Outputs\n",
    "            </th>\n",
    "        </tr>\n",
    "    </thead>\n",
    "    <tbody>\n",
    "<!--..........................................................................................-->\n",
    "        <tr>\n",
    "            <td>\n",
    "                Online<br>(Single Document Per Request)\n",
    "            </td>\n",
    "            <td>\n",
    "                <table>\n",
    "                    <tr style='text-align:center'>\n",
    "                        <td>One of:</td>\n",
    "                    </tr>\n",
    "                    <tr style='text-align:left'>\n",
    "                        <td>Document in GCS:</td>\n",
    "                    </tr>\n",
    "                    <tr style='text-align:left'>\n",
    "                        <td>\n",
    "                        <pre>\n",
    "response = doc_ai.process_document(\n",
    "    request = documentai.types.ProcessRequest(\n",
    "        <b>inline_document</b> = documentai.types.Document(\n",
    "            uri = 'gs://bucket/path/to/object.ext'\n",
    "        )\n",
    "    )\n",
    ")\n",
    "                        </pre>\n",
    "                        </td>\n",
    "                    </tr>\n",
    "                    <tr style='text-align:left'>\n",
    "                        <td>Document as bytes</td>\n",
    "                    </tr>\n",
    "                    <tr style='text-align:left'>\n",
    "                        <td>\n",
    "                        <pre>\n",
    "response = doc_ai.process_document(\n",
    "    request = documentai.types.ProcessRequest(\n",
    "        # provide a bytes object\n",
    "        <b>raw_document</b> = documentai.types.RawDocument(\n",
    "            content = \n",
    "        )\n",
    "    )\n",
    ")\n",
    "                        </pre>\n",
    "                        </td>\n",
    "                    </tr>\n",
    "                    <tr style='text-align:left'>\n",
    "                        <td>Document in GCS</td>\n",
    "                    </tr>\n",
    "                    <tr style='text-align:left'>\n",
    "                        <td>\n",
    "                        <pre>\n",
    "response = doc_ai.process_document(\n",
    "    request = documentai.types.ProcessRequest(\n",
    "        # provide GCS URI as string\n",
    "        <b>gcs_document</b> = documentai.types.GcsDocument(\n",
    "            gcs_uri = 'gs://bucket/path/to/object'\n",
    "        )\n",
    "    )\n",
    ")\n",
    "                        </pre>\n",
    "                        </td>\n",
    "                    </tr>\n",
    "                </table>\n",
    "            </td>\n",
    "            <td  style='text-align:left'>\n",
    "                The response is an object containing the document response.\n",
    "                <br><pre>type(response) is documentai.types.ProcessResponse()</pre>\n",
    "                <br><br>This has a parameter with the document:\n",
    "                <br><pre>type(response.document) is documentai.types.Document()</pre>\n",
    "                <br><br>The document object contains parameters with document components, like:\n",
    "                <ul>\n",
    "                    <li>response.document.text is a string with full text of the document</li>\n",
    "                    <li>response.document.pages is a list of documentai.types.Document.Pagee objects</li>\n",
    "                    <li>response.document.entities is a list of documentai.types.Document.Entity objects</li>\n",
    "                </ul>\n",
    "                <br>The document object contains method for converting to Python objects:\n",
    "                <ul>\n",
    "                    <li>response.document.to_dict() for dictionary</li>\n",
    "                    <li>response.document.to_json() for JSON</li>\n",
    "                </ul>\n",
    "            </td>\n",
    "        </tr>\n",
    "<!--..........................................................................................-->\n",
    "        <tr>\n",
    "            <td>\n",
    "                Batch<br>(Multiple Documents Per Request)\n",
    "            </td>\n",
    "            <td>\n",
    "                <table>\n",
    "                    <tr style='text-align:center'>\n",
    "                        <td>One of:</td>\n",
    "                    </tr>\n",
    "                    <tr style='text-align:left'>\n",
    "                        <td>List of documents in GCS:</td>\n",
    "                    </tr>\n",
    "                    <tr style='text-align:left'>\n",
    "                        <td>\n",
    "                <pre>\n",
    "doc_ai.batch_process_documents(\n",
    "    request = documentai.types.BatchProcessRequest(\n",
    "        <b>input_documents</b> = documentai.types.BatchDOcumentsInputConfig(\n",
    "            # provide a list of document objects that each have parameter gcs_uri = GCS URI as string\n",
    "            <b>gcs_documents</b> = documentai.types.GcsDocuments(\n",
    "                gcs_uri = [documentai.types.GcsDocument(gcs_uri = ), ...]\n",
    "            )\n",
    "        )\n",
    "    )\n",
    ")\n",
    "                </pre>\n",
    "                        </td>\n",
    "                    </tr>\n",
    "                    <tr style='text-align:left'>\n",
    "                        <td>All documents with GCS prefix:</td>\n",
    "                    </tr>\n",
    "                    <tr style='text-align:left'>\n",
    "                        <td>\n",
    "                            <pre>\n",
    "doc_ai.batch_process_documents(\n",
    "    request = documentai.types.BatchProcessRequest(\n",
    "        <b>input_documents</b> = documentai.types.BatchDocumentsInputConfig(\n",
    "            # provide a GCS URI (prefix) as string\n",
    "            <b>gcs_prefix</b> = documentai.types.GcsPrefix(\n",
    "                gcs_uri_prefix = \n",
    "            )\n",
    "        )\n",
    "    )\n",
    ")\n",
    "                            </pre>\n",
    "                        </td>\n",
    "                    </tr>\n",
    "                </table>\n",
    "            </td>\n",
    "            <td style='text-align:left'>\n",
    "                The batch processing job includes a parameter for configuring the output location of JSON files in GCS.<br><br>\n",
    "                <pre>\n",
    "doc_ai.batch_process_documents(\n",
    "    request = documentai.BatchProcessRequest(\n",
    "       <b>document_output_config</b> = documentai.types.DocumentOutputConfig(\n",
    "            <b>gcs_output_config</b> = documentai.types.GcsOutputConfig(\n",
    "                gcs_uri = 'gs://bucket/path/to/output', # the output JSON will writen to this directory\n",
    "                field_mask = , # optional: fields to include in output\n",
    "                sharding_config = # optional: sharding config for output\n",
    "            )\n",
    "        )\n",
    "    )\n",
    ")\n",
    "                </pre>\n",
    "            </td>\n",
    "        </tr>     \n",
    "<!--..........................................................................................-->\n",
    "    </tbody>\n",
    "</table>\n",
    "\n",
    "\n",
    "---\n",
    "**Processing Specifics**\n",
    "\n",
    "There are limits to processing requests:\n",
    "- the number of request that can be made over a period of time: [Quotas](https://cloud.google.com/document-ai/quotas#quotas)\n",
    "- the amount and size of content (documents, pages): [Content Limits](https://cloud.google.com/document-ai/quotas#content_limits)\n",
    "- the processing request for each processor (parser) also has limits: [Processor Specific Limits](https://cloud.google.com/document-ai/quotas#processor_limits)\n",
    "\n",
    "What does this actually mean?  Let's pick a single processor and walk through it, the OCR Parser. [This page](https://cloud.google.com/document-ai/docs/processors-list) has all the specifics for each parser.\n",
    "- Parser Limits: The OCR parser\n",
    "    - limit of 15 pages for an online requests and 500 for a batch requests\n",
    "- Content Limits:\n",
    "    - file size: 20MB online, and 1GB batch\n",
    "    - files: 1 for online, 5000 for batch\n",
    "        - but the OCR parser has a 500 page limit for batch\n",
    "    - If the file type is an image (not PDF) then each page can be a max of 40 megapixels\n",
    "- Requests (Qoutas):\n",
    "    - overall\n",
    "        - 10,000 active pages per project\n",
    "    - users:\n",
    "        - 1800 requests per minute\n",
    "    - online (per minute):\n",
    "        - 600 per project\n",
    "        - 120 per project/processor/multi-region (US, EU)\n",
    "        - 6 per project/processor/single-region\n",
    "    - batch (concurrent jobs):\n",
    "        - 10 per project\n",
    "        - 5 per project/multi-region\n",
    "        - 5 per project/single-region\n"
   ]
  },
  {
   "cell_type": "markdown",
   "id": "be6a6334-acdd-4d3b-ae3a-f70534973c89",
   "metadata": {
    "id": "od_UkDpvRmgD"
   },
   "source": [
    "---\n",
    "## Colab Setup\n",
    "\n",
    "To run this notebook in Colab click [![Open In Colab](https://colab.research.google.com/assets/colab-badge.svg)](https://colab.research.google.com/github/statmike/vertex-ai-mlops/blob/main/Working%20With%20Document%20AI/Document%20AI%20-%20Process%20Documents.ipynb) and run the cells in this section.  Otherwise, skip this section.\n",
    "\n",
    "This cell will authenticate to GCP (follow prompts in the popup)."
   ]
  },
  {
   "cell_type": "code",
   "execution_count": 3,
   "id": "b6e795c7-1190-4f8b-a1a6-b07dd45864ae",
   "metadata": {
    "executionInfo": {
     "elapsed": 195,
     "status": "ok",
     "timestamp": 1683726184843,
     "user": {
      "displayName": "Mike Henderson",
      "userId": "07691629187611687318"
     },
     "user_tz": 240
    },
    "id": "8UO9FnqyKBlF"
   },
   "outputs": [],
   "source": [
    "PROJECT_ID = 'statmike-mlops-349915' # replace with project ID"
   ]
  },
  {
   "cell_type": "code",
   "execution_count": 4,
   "id": "ace3c8bd-e9f6-4ab1-9f39-5ce4c1ca40b8",
   "metadata": {
    "colab": {
     "base_uri": "https://localhost:8080/"
    },
    "executionInfo": {
     "elapsed": 68869,
     "status": "ok",
     "timestamp": 1683726253709,
     "user": {
      "displayName": "Mike Henderson",
      "userId": "07691629187611687318"
     },
     "user_tz": 240
    },
    "id": "N98-KK7LRkjm",
    "outputId": "09ec5008-0def-4e1a-c349-c598ee752f78"
   },
   "outputs": [],
   "source": [
    "try:\n",
    "    import google.colab\n",
    "    from google.colab import auth\n",
    "    auth.authenticate_user()\n",
    "    !gcloud config set project {PROJECT_ID}\n",
    "except Exception:\n",
    "    pass"
   ]
  },
  {
   "cell_type": "markdown",
   "id": "dfb438cf-7535-40ea-8642-c15d62b2588f",
   "metadata": {},
   "source": [
    "---\n",
    "## Installs and API Enablement\n",
    "\n",
    "The clients packages may need installing in this environment. "
   ]
  },
  {
   "cell_type": "markdown",
   "id": "56c696d7-d04b-45b5-b1da-01bba96f031e",
   "metadata": {},
   "source": [
    "### Installs (If Needed)"
   ]
  },
  {
   "cell_type": "code",
   "execution_count": 5,
   "id": "ed80185a-2e33-4cff-bbce-53712ef38e25",
   "metadata": {},
   "outputs": [],
   "source": [
    "# tuples of (import name, install name)\n",
    "packages = [\n",
    "    ('google.cloud.documentai', 'google-cloud-documentai'),\n",
    "    ('google.cloud.documentai', 'google-cloud-storage'),\n",
    "    ('google.cloud.documentai', 'google-cloud-bigquery'),\n",
    "    ('PIL', 'Pillow'),\n",
    "    #('PyPDF2', 'PyPDF2'), \n",
    "]\n",
    "\n",
    "import importlib\n",
    "install = False\n",
    "for package in packages:\n",
    "    if not importlib.util.find_spec(package[0]):\n",
    "        print(f'installing package {package[1]}')\n",
    "        install = True\n",
    "        !pip install {package[1]} -U -q --user"
   ]
  },
  {
   "cell_type": "markdown",
   "id": "62380d65-d60d-4611-82e8-493fda40b433",
   "metadata": {},
   "source": [
    "### API Enablement"
   ]
  },
  {
   "cell_type": "code",
   "execution_count": 6,
   "id": "3c2ed9b3-05f3-44aa-bd01-7da9b1b43462",
   "metadata": {},
   "outputs": [],
   "source": [
    "!gcloud services enable documentai.googleapis.com"
   ]
  },
  {
   "cell_type": "markdown",
   "id": "ece0930a-c857-4a01-a46e-2ccba0e06b50",
   "metadata": {},
   "source": [
    "### Restart Kernel (If Installs Occured)\n",
    "\n",
    "After a kernel restart the code submission can start with the next cell after this one."
   ]
  },
  {
   "cell_type": "code",
   "execution_count": 7,
   "id": "8d38de82-e046-4ef0-a046-cae0ae2a44ac",
   "metadata": {},
   "outputs": [],
   "source": [
    "if install:\n",
    "    import IPython\n",
    "    app = IPython.Application.instance()\n",
    "    app.kernel.do_shutdown(True)"
   ]
  },
  {
   "cell_type": "markdown",
   "id": "20b965df-d97e-42df-8bde-511e05eec6a0",
   "metadata": {
    "id": "appt8-yVRtJ1"
   },
   "source": [
    "---\n",
    "## Setup"
   ]
  },
  {
   "cell_type": "markdown",
   "id": "d436ad0d-ebb3-4f54-80fe-ba78450e8c16",
   "metadata": {
    "id": "63mx2EozRxFP"
   },
   "source": [
    "Inputs"
   ]
  },
  {
   "cell_type": "code",
   "execution_count": 8,
   "id": "e46ed995-fa8f-442d-87f6-8bec6b4e366e",
   "metadata": {
    "colab": {
     "base_uri": "https://localhost:8080/",
     "height": 35
    },
    "executionInfo": {
     "elapsed": 2124,
     "status": "ok",
     "timestamp": 1683726390544,
     "user": {
      "displayName": "Mike Henderson",
      "userId": "07691629187611687318"
     },
     "user_tz": 240
    },
    "id": "xzcoXjM5Rky5",
    "outputId": "b3bdcbc1-70d5-472e-aea2-42c74a42efde"
   },
   "outputs": [
    {
     "data": {
      "text/plain": [
       "'statmike-mlops-349915'"
      ]
     },
     "execution_count": 8,
     "metadata": {},
     "output_type": "execute_result"
    }
   ],
   "source": [
    "project = !gcloud config get-value project\n",
    "PROJECT_ID = project[0]\n",
    "PROJECT_ID"
   ]
  },
  {
   "cell_type": "code",
   "execution_count": 10,
   "id": "8d1b4370-fe3e-4a3c-969a-3a4f054271fd",
   "metadata": {
    "executionInfo": {
     "elapsed": 2,
     "status": "ok",
     "timestamp": 1683726390712,
     "user": {
      "displayName": "Mike Henderson",
      "userId": "07691629187611687318"
     },
     "user_tz": 240
    },
    "id": "IxWrFtqYMfku"
   },
   "outputs": [],
   "source": [
    "REGION = 'us-central1'\n",
    "SERIES = 'working-with-docai'\n",
    "EXPERIMENT = 'process-documents'\n",
    "\n",
    "# make this the gcs bucket for storing files\n",
    "GCS_BUCKET = PROJECT_ID"
   ]
  },
  {
   "cell_type": "markdown",
   "id": "815116ff-ef1a-4a27-bc2a-5d30b7001f85",
   "metadata": {
    "id": "LuajVwCiO6Yg"
   },
   "source": [
    "Packages"
   ]
  },
  {
   "cell_type": "code",
   "execution_count": 118,
   "id": "9d56c9fe-1533-46f4-a6a5-3a565f76d3c0",
   "metadata": {
    "executionInfo": {
     "elapsed": 17761,
     "status": "ok",
     "timestamp": 1683726409304,
     "user": {
      "displayName": "Mike Henderson",
      "userId": "07691629187611687318"
     },
     "user_tz": 240
    },
    "id": "LVC7zzSLRk2C"
   },
   "outputs": [],
   "source": [
    "import os, shutil, glob\n",
    "\n",
    "import IPython\n",
    "import PIL\n",
    "import PIL.ImageFont, PIL.Image, PIL.ImageDraw\n",
    "\n",
    "from google.cloud import documentai\n",
    "from google.cloud.documentai_v1 import Document\n",
    "from google.cloud import storage"
   ]
  },
  {
   "cell_type": "markdown",
   "id": "5f3c0982-13dc-401f-b316-3a5c0d1b1a4a",
   "metadata": {
    "id": "EyAVFG9TO9H-"
   },
   "source": [
    "Clients"
   ]
  },
  {
   "cell_type": "code",
   "execution_count": 53,
   "id": "9a0aaead-df67-4741-8d59-706319c1d757",
   "metadata": {
    "executionInfo": {
     "elapsed": 19,
     "status": "ok",
     "timestamp": 1683726409306,
     "user": {
      "displayName": "Mike Henderson",
      "userId": "07691629187611687318"
     },
     "user_tz": 240
    },
    "id": "L0RPE13LOZce"
   },
   "outputs": [],
   "source": [
    "# document AI client\n",
    "LOCATION = REGION.split('-')[0]\n",
    "docai = documentai.DocumentProcessorServiceClient(\n",
    "    client_options = dict(api_endpoint = f\"{LOCATION}-documentai.googleapis.com\")\n",
    ")\n",
    "\n",
    "# gcs client: assumes bucket already exists\n",
    "gcs = storage.Client(project = PROJECT_ID)\n",
    "bucket = gcs.bucket(GCS_BUCKET)"
   ]
  },
  {
   "cell_type": "markdown",
   "id": "574382da-f227-42b5-8274-a1d988485798",
   "metadata": {
    "tags": []
   },
   "source": [
    "---\n",
    "## Documents\n",
    "\n",
    "This section prepares documents for processing.  In this case there are documents in a local folder in the repository that are prepared for online and batch serving by either loading with directly or copying to a GCS location within the bucket defined above with parameter `GCS_BUCKET`.\n",
    "\n",
    "The file sin the local folder `/docs` are printed pages (to .pdf) from the following [Wikipedia](https://www.wikipedia.org/) pages:\n",
    "\n",
    "|Document Name|Link|\n",
    "|---|---|\n",
    "|`docs/Bayes' theorem - Wikipedia.pdf`|[https://en.wikipedia.org/wiki/Bayes%27_theorem](https://en.wikipedia.org/wiki/Bayes%27_theorem)|\n",
    "|`docs/sports/Baseball - Wikipedia.pdf`|[https://en.wikipedia.org/wiki/Baseball](https://en.wikipedia.org/wiki/Baseball)|\n",
    "|`docs/sports/Football - Wikipedia.pdf`|[https://en.wikipedia.org/wiki/Football](https://en.wikipedia.org/wiki/Football)|\n",
    "|`docs/sports/Association football - Wikipedia.pdf`|[https://en.wikipedia.org/wiki/Association_football](https://en.wikipedia.org/wiki/Association_football)|\n",
    "|`docs/sports/American football - Wikipedia.pdf`|[https://en.wikipedia.org/wiki/American_football](https://en.wikipedia.org/wiki/American_football)|\n",
    "|`docs/sports/Hockey - Wikipedia.pdf`|[https://en.wikipedia.org/wiki/Hockey](https://en.wikipedia.org/wiki/Hockey)|\n",
    "|`docs/sports/Basketball - Wikipedia.pdf`|[https://en.wikipedia.org/wiki/Basketball](https://en.wikipedia.org/wiki/Basketball)|\n",
    "|`docs/sports/Cricket - Wikipedia.pdf`|[https://en.wikipedia.org/wiki/Cricket](https://en.wikipedia.org/wiki/Cricket)|\n",
    "|`docs/sports/Rugby football - Wikipedia.pdf`|[https://en.wikipedia.org/wiki/Rugby_football](https://en.wikipedia.org/wiki/Rugby_football)|\n",
    "|`docs/sports/Golf - Wikipedia.pdf`|[https://en.wikipedia.org/wiki/Golf](https://en.wikipedia.org/wiki/Golf)|\n",
    "|`docs/jam_bands/Jam band - Wikipedia.pdf`|[https://en.wikipedia.org/wiki/Jam_band](https://en.wikipedia.org/wiki/Jam_band)|\n",
    "|`docs/jam_bands/Widespread Panic - Wikipedia.pdf`|[https://en.wikipedia.org/wiki/Widespread_Panic](https://en.wikipedia.org/wiki/Widespread_Panic)|\n",
    "|`docs/jam_bands/Cream (band) - Wikipedia.pdf`|[https://en.wikipedia.org/wiki/Cream_(band)](https://en.wikipedia.org/wiki/Cream_(band))|\n",
    "|`docs/jam_bands/Phish - Wikipedia.pdf`|[https://en.wikipedia.org/wiki/Phish](https://en.wikipedia.org/wiki/Phish)|\n",
    "|`docs/jam_bands/The Allman Brothers Band - Wikipedia.pdf`|[https://en.wikipedia.org/wiki/The_Allman_Brothers_Band](https://en.wikipedia.org/wiki/The_Allman_Brothers_Band)|\n",
    "|`docs/jam_bands/Grateful Dead - Wikipedia.pdf`|[https://en.wikipedia.org/wiki/Grateful_Dead](https://en.wikipedia.org/wiki/Grateful_Dead)|\n",
    "\n"
   ]
  },
  {
   "cell_type": "markdown",
   "id": "dfe6dbe7-0775-4ae7-8bf3-e4fd7d93aa9b",
   "metadata": {},
   "source": [
    "### Get The Documents\n",
    "\n",
    "If you are working from a clone of this notebooks repository then the documents are already present. The following cell checks for the documents folder, `/docs`, and if it is missing gets it (`git clone`):"
   ]
  },
  {
   "cell_type": "code",
   "execution_count": 54,
   "id": "761ffc28-f7fd-4bf7-bdb4-b3be6d70bb4a",
   "metadata": {},
   "outputs": [
    {
     "name": "stdout",
     "output_type": "stream",
     "text": [
      "Documents Found in folder `/docs`\n"
     ]
    }
   ],
   "source": [
    "if not os.path.exists('docs'):\n",
    "    print('Retrieving documents...')\n",
    "    if not os.path.exists('temp'):\n",
    "        os.makedirs('temp')\n",
    "    !git clone https://www.github.com/statmike/vertex-ai-mlops temp/vertex-ai-mlops\n",
    "    shutil.copytree('temp/vertex-ai-mlops/Working With Document AI/docs', 'docs')\n",
    "    shutil.rmtree('temp/vertex-ai-mlops')\n",
    "    print('Document are now in folder `/docs`')\n",
    "else:\n",
    "    print('Documents Found in folder `/docs`')"
   ]
  },
  {
   "cell_type": "markdown",
   "id": "48c94b84-4e38-4c7c-8f7d-0447fa136a6d",
   "metadata": {},
   "source": [
    "### Copy Documents To GCS\n",
    "\n",
    "Make a copy of the `/docs` folder in the GCS Bucket defined above with parameter `GCS_BUCKET`.  This will add a prefix (folder structure) of `/{SERIES}/{EXPERIMENT}`."
   ]
  },
  {
   "cell_type": "code",
   "execution_count": 39,
   "id": "413d98ea-c16d-404b-b4fa-748e4672fe04",
   "metadata": {},
   "outputs": [
    {
     "data": {
      "text/plain": [
       "['docs/jam_bands/Widespread Panic - Wikipedia.pdf',\n",
       " 'docs/jam_bands/Cream (band) - Wikipedia.pdf',\n",
       " 'docs/jam_bands/The Allman Brothers Band - Wikipedia.pdf',\n",
       " 'docs/jam_bands/Jam band - Wikipedia.pdf',\n",
       " 'docs/jam_bands/Grateful Dead - Wikipedia.pdf',\n",
       " 'docs/jam_bands/Phish - Wikipedia.pdf',\n",
       " 'docs/sports/Golf - Wikipedia.pdf',\n",
       " 'docs/sports/Cricket - Wikipedia.pdf',\n",
       " 'docs/sports/Hockey - Wikipedia.pdf',\n",
       " 'docs/sports/Association football - Wikipedia.pdf',\n",
       " 'docs/sports/American football - Wikipedia.pdf',\n",
       " 'docs/sports/Football - Wikipedia.pdf',\n",
       " 'docs/sports/Rugby football - Wikipedia.pdf',\n",
       " 'docs/sports/Baseball - Wikipedia.pdf',\n",
       " 'docs/sports/Basketball - Wikipedia.pdf']"
      ]
     },
     "execution_count": 39,
     "metadata": {},
     "output_type": "execute_result"
    }
   ],
   "source": [
    "glob.glob(f'docs/**/**')"
   ]
  },
  {
   "cell_type": "code",
   "execution_count": 42,
   "id": "4ba03900-95cf-413a-b1d1-18ae447a175e",
   "metadata": {},
   "outputs": [],
   "source": [
    "for file in glob.glob(f'docs/**/**'):\n",
    "    blob = bucket.blob(f'{SERIES}/{EXPERIMENT}/{file}')\n",
    "    blob.upload_from_filename(file)"
   ]
  },
  {
   "cell_type": "code",
   "execution_count": 43,
   "id": "f475c130-02fd-4b88-af2e-6f64a00f4477",
   "metadata": {},
   "outputs": [
    {
     "name": "stdout",
     "output_type": "stream",
     "text": [
      "View the bucket directly here:\n",
      "https://console.cloud.google.com/storage/browser/statmike-mlops-349915/working-with-docai/process-documents;tab=objects&project=statmike-mlops-349915\n"
     ]
    }
   ],
   "source": [
    "print(f\"View the bucket directly here:\\nhttps://console.cloud.google.com/storage/browser/{GCS_BUCKET}/{SERIES}/{EXPERIMENT};tab=objects&project={PROJECT_ID}\")"
   ]
  },
  {
   "cell_type": "markdown",
   "id": "f46be47d-a242-4ea7-b16a-844f30e7e444",
   "metadata": {},
   "source": [
    "List files in bucket:"
   ]
  },
  {
   "cell_type": "code",
   "execution_count": 51,
   "id": "ad24d1e9-3392-4d1c-b390-b59d4e1d1557",
   "metadata": {},
   "outputs": [
    {
     "name": "stdout",
     "output_type": "stream",
     "text": [
      "working-with-docai/process-documents/docs/jam_bands/Cream (band) - Wikipedia.pdf\n",
      "working-with-docai/process-documents/docs/jam_bands/Grateful Dead - Wikipedia.pdf\n",
      "working-with-docai/process-documents/docs/jam_bands/Jam band - Wikipedia.pdf\n",
      "working-with-docai/process-documents/docs/jam_bands/Phish - Wikipedia.pdf\n",
      "working-with-docai/process-documents/docs/jam_bands/The Allman Brothers Band - Wikipedia.pdf\n",
      "working-with-docai/process-documents/docs/jam_bands/Widespread Panic - Wikipedia.pdf\n",
      "working-with-docai/process-documents/docs/sports/American football - Wikipedia.pdf\n",
      "working-with-docai/process-documents/docs/sports/Association football - Wikipedia.pdf\n",
      "working-with-docai/process-documents/docs/sports/Baseball - Wikipedia.pdf\n",
      "working-with-docai/process-documents/docs/sports/Basketball - Wikipedia.pdf\n",
      "working-with-docai/process-documents/docs/sports/Cricket - Wikipedia.pdf\n",
      "working-with-docai/process-documents/docs/sports/Football - Wikipedia.pdf\n",
      "working-with-docai/process-documents/docs/sports/Golf - Wikipedia.pdf\n",
      "working-with-docai/process-documents/docs/sports/Hockey - Wikipedia.pdf\n",
      "working-with-docai/process-documents/docs/sports/Rugby football - Wikipedia.pdf\n"
     ]
    }
   ],
   "source": [
    "for blob in list(bucket.list_blobs(prefix = f'{SERIES}/{EXPERIMENT}/docs')):\n",
    "    print(blob.name)"
   ]
  },
  {
   "cell_type": "markdown",
   "id": "cd7f8fc3-64ff-41c1-be17-042f5ea6c1e0",
   "metadata": {},
   "source": [
    "---\n",
    "## Processors\n",
    "\n",
    "When submitting documents for processing in Document AI, the client routes the document to a processor.  There are many processors:\n",
    "- [Full processor and detail list](https://cloud.google.com/document-ai/docs/processors-list)\n",
    "- Check out the helpful table for processors in this workflows [readme file](./readme.md) \n",
    "\n",
    "When setting up a processor you can also pick versions or it will default to a version.\n",
    "\n",
    "This section shows how to:\n",
    "- list available processors in the project: console and Python Client\n",
    "    - describe processor(s)\n",
    "- get/create a processor with desired type and version\n"
   ]
  },
  {
   "cell_type": "markdown",
   "id": "b3e6db66-fa11-467b-b872-eb87ecc48a6d",
   "metadata": {},
   "source": [
    "### List Processors In This Project\n",
    "\n",
    "If any have already been created, list them:"
   ]
  },
  {
   "cell_type": "markdown",
   "id": "64bad986-70bd-4d55-a69a-c561c7696227",
   "metadata": {},
   "source": [
    "What are the processors already created in this project environment?"
   ]
  },
  {
   "cell_type": "code",
   "execution_count": 61,
   "id": "b00a22ac-8b61-4d8e-bb96-66f517e57826",
   "metadata": {},
   "outputs": [
    {
     "data": {
      "text/plain": [
       "3"
      ]
     },
     "execution_count": 61,
     "metadata": {},
     "output_type": "execute_result"
    }
   ],
   "source": [
    "processors = list(docai.list_processors(parent = f'projects/{PROJECT_ID}/locations/{LOCATION}'))\n",
    "len(processors)"
   ]
  },
  {
   "cell_type": "code",
   "execution_count": 67,
   "id": "f9194ac9-4bf1-48da-af0e-b3da3942d740",
   "metadata": {},
   "outputs": [
    {
     "name": "stdout",
     "output_type": "stream",
     "text": [
      "View the processors in the console with this link:\n",
      "https://console.cloud.google.com/ai/document-ai/processors?project=statmike-mlops-349915\n",
      "\n",
      "\n",
      "Processors 0:  example-dot is of type =  CUSTOM_EXTRACTION_PROCESSOR , and version =  pretrained-foundation-model-v1.0-2023-08-22\n",
      "Processors 1:  my-invoice is of type =  INVOICE_PROCESSOR , and version =  pretrained-invoice-v1.3-2022-07-15\n",
      "Processors 2:  my_general_processor is of type =  FORM_PARSER_PROCESSOR , and version =  pretrained-form-parser-v1.0-2020-09-23\n"
     ]
    }
   ],
   "source": [
    "if processors:\n",
    "    print(f'View the processors in the console with this link:\\nhttps://console.cloud.google.com/ai/document-ai/processors?project={PROJECT_ID}\\n\\n')\n",
    "    for p, processor in enumerate(processors):\n",
    "        print(\n",
    "            f'Processors {p}: ', processor.display_name, \n",
    "            'is of type = ', processor.type_, \n",
    "            ', and version = ',processor.default_processor_version.split('/')[-1])"
   ]
  },
  {
   "cell_type": "markdown",
   "id": "933d6bf9-472f-4eea-b64a-4ad21117a537",
   "metadata": {},
   "source": [
    "### Create/Get A Processor\n",
    "\n",
    "For this workflow we will use the [OCR parser](https://cloud.google.com/document-ai/docs/processors-list#processor_doc-ocr). We can check for an existing processor in the project that the OCR Parser with desired version and if it is not present then create one.  The processor will be connected with Python variable `PARSER` and referred to as a parser as it is used.\n",
    "\n",
    "Get the type and version from the list of available processors: https://cloud.google.com/document-ai/docs/processors-list"
   ]
  },
  {
   "cell_type": "code",
   "execution_count": 77,
   "id": "7a59ff03-3c3b-447c-9771-5e913713dd31",
   "metadata": {},
   "outputs": [],
   "source": [
    "TYPE = 'OCR_PROCESSOR'\n",
    "VERSION = 'pretrained-ocr-v2.0-2023-06-02'"
   ]
  },
  {
   "cell_type": "markdown",
   "id": "663c89cc-6182-425c-b764-569823e8f831",
   "metadata": {},
   "source": [
    "Get an existing processor:"
   ]
  },
  {
   "cell_type": "code",
   "execution_count": 78,
   "id": "00c401c5-ebb4-4171-877c-d1fd5298e573",
   "metadata": {},
   "outputs": [
    {
     "name": "stdout",
     "output_type": "stream",
     "text": [
      "Need to create a processor for the desired type and version: OCR_PROCESSOR, pretrained-ocr-v2.0-2023-06-02\n"
     ]
    }
   ],
   "source": [
    "PARSER = ''\n",
    "for processor in processors:\n",
    "    if processor.type_ == TYPE and processor.default_processor_version.split('/')[-1] == VERSION:\n",
    "        PARSER = processor\n",
    "        break\n",
    "        \n",
    "if PARSER:\n",
    "    print(f'There is an existing processor with the desire type and version in PARSER = {PARSER.display_name}')\n",
    "else:\n",
    "    print(f'Need to create a processor for the desired type and version: {TYPE}, {VERSION}')"
   ]
  },
  {
   "cell_type": "markdown",
   "id": "79b4ced1-50ae-4cdb-9710-7f37c55bd1ae",
   "metadata": {},
   "source": [
    "Create the processor if an existing one was not found to match:"
   ]
  },
  {
   "cell_type": "code",
   "execution_count": 79,
   "id": "5020d2be-76ec-4099-b77a-af0938aa77e1",
   "metadata": {},
   "outputs": [
    {
     "name": "stdout",
     "output_type": "stream",
     "text": [
      "Processor created and in PARSER variable with display name = working-with-docai\n"
     ]
    }
   ],
   "source": [
    "if not PARSER:\n",
    "    PARSER = docai.create_processor(\n",
    "        parent = f'projects/{PROJECT_ID}/locations/{LOCATION}',\n",
    "        processor = documentai.Processor(\n",
    "            display_name = SERIES,\n",
    "            type_ = TYPE,\n",
    "            default_processor_version = VERSION\n",
    "        )\n",
    "    )\n",
    "    print(f'Processor created and in PARSER variable with display name = {PARSER.display_name}')"
   ]
  },
  {
   "cell_type": "markdown",
   "id": "92fb7995-99b9-4643-be00-48feb822a8f9",
   "metadata": {},
   "source": [
    "---\n",
    "## Online Processing (single document)\n",
    "\n",
    "There are three ways to provide a single document to the client and each is covered in this section.\n",
    "\n",
    "> NOTE: The [OCR Processor](https://cloud.google.com/document-ai/docs/processors-list#processor_doc-ocr) has pages limits of 15 for online, and 500 for batch processing.\n",
    "\n",
    "The following is the Python client reference to use for this online processing section:\n",
    "- [google.cloud.documentai.DocumentProcessorServiceClient.process_document()](https://cloud.google.com/python/docs/reference/documentai/latest/google.cloud.documentai_v1.services.document_processor_service.DocumentProcessorServiceClient#google_cloud_documentai_v1_services_document_processor_service_DocumentProcessorServiceClient_process_document)"
   ]
  },
  {
   "cell_type": "markdown",
   "id": "bc8053a1-3a8c-49ee-9d19-557cb2a40c5e",
   "metadata": {},
   "source": [
    "Using the processor stored in `PARSER` from above:"
   ]
  },
  {
   "cell_type": "code",
   "execution_count": 81,
   "id": "c3f9e85e-439e-497b-b338-104e37fcc504",
   "metadata": {},
   "outputs": [
    {
     "data": {
      "text/plain": [
       "'projects/1026793852137/locations/us/processors/77d89f0b14d4643c'"
      ]
     },
     "execution_count": 81,
     "metadata": {},
     "output_type": "execute_result"
    }
   ],
   "source": [
    "PARSER.name"
   ]
  },
  {
   "cell_type": "markdown",
   "id": "a6d3326e-e7f0-4df2-aab5-5ee84313d332",
   "metadata": {},
   "source": [
    "Specify the loation, local folder and GCS, of one of the document samples:"
   ]
  },
  {
   "cell_type": "code",
   "execution_count": 146,
   "id": "fec28c1e-31ec-432a-be52-31e371f8976e",
   "metadata": {},
   "outputs": [],
   "source": [
    "local_doc_location = 'docs/sports/Baseball - Wikipedia.pdf'\n",
    "gcs_doc_location = f'gs://{GCS_BUCKET}/{SERIES}/{EXPERIMENT}/{local_doc_location}'"
   ]
  },
  {
   "cell_type": "markdown",
   "id": "e777dd90-8fb7-4f32-85dc-643a589b4215",
   "metadata": {},
   "source": [
    "Read the document to a bytes object:"
   ]
  },
  {
   "cell_type": "code",
   "execution_count": 119,
   "id": "420f7f9d-ae6a-4efd-8f15-8771b00f0d0d",
   "metadata": {},
   "outputs": [],
   "source": [
    "with open(local_doc_location, 'rb') as f:\n",
    "    local_doc = f.read()"
   ]
  },
  {
   "cell_type": "code",
   "execution_count": 120,
   "id": "f0e06180-fb31-4785-9cf7-856d4b659338",
   "metadata": {},
   "outputs": [
    {
     "data": {
      "text/plain": [
       "bytes"
      ]
     },
     "execution_count": 120,
     "metadata": {},
     "output_type": "execute_result"
    }
   ],
   "source": [
    "type(local_doc)"
   ]
  },
  {
   "cell_type": "markdown",
   "id": "05e7ba85-78d7-41af-a484-7c5a94a054a4",
   "metadata": {},
   "source": [
    "---\n",
    "### Document in GCS: `inline_document`\n",
    "\n",
    "Reference:\n",
    "- [documentai.ProcessRequest()](https://cloud.google.com/python/docs/reference/documentai/latest/google.cloud.documentai_v1.types.ProcessRequest)\n",
    "    - (This One) `inline_document` = [documentai.Document()](https://cloud.google.com/python/docs/reference/documentai/latest/google.cloud.documentai_v1.types.Document)\n",
    "    - `raw_document` = [documentai.RawDocument()](https://cloud.google.com/python/docs/reference/documentai/latest/google.cloud.documentai_v1.types.RawDocument)\n",
    "    - `gcs_document` = [documentai.GcsDocument()](https://cloud.google.com/python/docs/reference/documentai/latest/google.cloud.documentai_v1.types.GcsDocument)"
   ]
  },
  {
   "cell_type": "code",
   "execution_count": 135,
   "id": "cf72ee8a-05b8-4af5-ae78-b2f9171bc11c",
   "metadata": {},
   "outputs": [],
   "source": [
    "response = docai.process_document(\n",
    "    request = documentai.ProcessRequest(\n",
    "        name = PARSER.name,\n",
    "        inline_document = documentai.Document(\n",
    "            content = local_doc,\n",
    "            mime_type = 'application/pdf'\n",
    "        ),\n",
    "        process_options = documentai.ProcessOptions(\n",
    "            from_start = 5\n",
    "        )\n",
    "    )\n",
    ")"
   ]
  },
  {
   "cell_type": "code",
   "execution_count": 137,
   "id": "0e4bf904-c250-40f0-a84c-e0eebcfd0a0e",
   "metadata": {},
   "outputs": [
    {
     "data": {
      "text/plain": [
       "5"
      ]
     },
     "execution_count": 137,
     "metadata": {},
     "output_type": "execute_result"
    }
   ],
   "source": [
    "len(response.document.pages)"
   ]
  },
  {
   "cell_type": "code",
   "execution_count": 139,
   "id": "92dc36b3-eeed-40de-9433-7e55b13ffb27",
   "metadata": {},
   "outputs": [
    {
     "name": "stdout",
     "output_type": "stream",
     "text": [
      "10/27/23, 9:22 AM\n",
      "WIKIPEDIA\n",
      "The Free Encyclopedia\n",
      "Toggle the table of contents\n",
      "Baseball\n",
      "Baseball - Wikipedia\n",
      "Baseball is a bat-and-ball sport played between two\n",
      "teams of nine players each, taking turns batting and\n",
      "fielding. The game occurs over the c\n"
     ]
    }
   ],
   "source": [
    "print(response.document.text[0:250])"
   ]
  },
  {
   "cell_type": "markdown",
   "id": "5b2f6145-36bb-4608-870b-4e6481667e0e",
   "metadata": {},
   "source": [
    "---\n",
    "### Document as bytes: `raw_document`\n",
    "\n",
    "Reference:\n",
    "- [documentai.ProcessRequest()](https://cloud.google.com/python/docs/reference/documentai/latest/google.cloud.documentai_v1.types.ProcessRequest)\n",
    "    - `inline_document` = [documentai.Document()](https://cloud.google.com/python/docs/reference/documentai/latest/google.cloud.documentai_v1.types.Document)\n",
    "    - (This One) `raw_document` = [documentai.RawDocument()](https://cloud.google.com/python/docs/reference/documentai/latest/google.cloud.documentai_v1.types.RawDocument)\n",
    "    - `gcs_document` = [documentai.GcsDocument()](https://cloud.google.com/python/docs/reference/documentai/latest/google.cloud.documentai_v1.types.GcsDocument)"
   ]
  },
  {
   "cell_type": "code",
   "execution_count": 141,
   "id": "a13d21a4-35d5-49ea-ba77-d0931f400e41",
   "metadata": {},
   "outputs": [],
   "source": [
    "response = docai.process_document(\n",
    "    request = documentai.ProcessRequest(\n",
    "        name = PARSER.name,\n",
    "        raw_document = documentai.RawDocument(\n",
    "            content = local_doc,\n",
    "            mime_type = 'application/pdf'\n",
    "        ),\n",
    "        process_options = documentai.ProcessOptions(\n",
    "            from_start = 5\n",
    "        )\n",
    "    )\n",
    ")"
   ]
  },
  {
   "cell_type": "code",
   "execution_count": 142,
   "id": "498f5c0f-aef1-4b9f-87df-eaae89ac3ed5",
   "metadata": {},
   "outputs": [
    {
     "data": {
      "text/plain": [
       "5"
      ]
     },
     "execution_count": 142,
     "metadata": {},
     "output_type": "execute_result"
    }
   ],
   "source": [
    "len(response.document.pages)"
   ]
  },
  {
   "cell_type": "code",
   "execution_count": 143,
   "id": "faba9f74-df4c-49f7-8870-2d5a71d3ffcb",
   "metadata": {},
   "outputs": [
    {
     "name": "stdout",
     "output_type": "stream",
     "text": [
      "10/27/23, 9:22 AM\n",
      "WIKIPEDIA\n",
      "The Free Encyclopedia\n",
      "Toggle the table of contents\n",
      "Baseball\n",
      "Baseball - Wikipedia\n",
      "Baseball is a bat-and-ball sport played between two\n",
      "teams of nine players each, taking turns batting and\n",
      "fielding. The game occurs over the c\n"
     ]
    }
   ],
   "source": [
    "print(response.document.text[0:250])"
   ]
  },
  {
   "cell_type": "markdown",
   "id": "826784a8-884c-4cc9-b008-a458ed0be02f",
   "metadata": {},
   "source": [
    "---\n",
    "### Document in GCS: `gcs_document`\n",
    "\n",
    "Reference:\n",
    "- [documentai.ProcessRequest()](https://cloud.google.com/python/docs/reference/documentai/latest/google.cloud.documentai_v1.types.ProcessRequest)\n",
    "    - `inline_document` = [documentai.Document()](https://cloud.google.com/python/docs/reference/documentai/latest/google.cloud.documentai_v1.types.Document)\n",
    "    - `raw_document` = [documentai.RawDocument()](https://cloud.google.com/python/docs/reference/documentai/latest/google.cloud.documentai_v1.types.RawDocument)\n",
    "    - (This One) `gcs_document` = [documentai.GcsDocument()](https://cloud.google.com/python/docs/reference/documentai/latest/google.cloud.documentai_v1.types.GcsDocument)"
   ]
  },
  {
   "cell_type": "code",
   "execution_count": 148,
   "id": "1bc17df6-f697-4d3b-8092-4556f357d55d",
   "metadata": {},
   "outputs": [],
   "source": [
    "response = docai.process_document(\n",
    "    request = documentai.ProcessRequest(\n",
    "        name = PARSER.name,\n",
    "        gcs_document = documentai.GcsDocument(\n",
    "            gcs_uri = gcs_doc_location,\n",
    "            mime_type = 'application/pdf'\n",
    "        ),\n",
    "        process_options = documentai.ProcessOptions(\n",
    "            from_start = 5\n",
    "        )\n",
    "    )\n",
    ")"
   ]
  },
  {
   "cell_type": "code",
   "execution_count": 149,
   "id": "e8193679-4ac3-42ff-9ff8-2d0506cef28c",
   "metadata": {},
   "outputs": [
    {
     "data": {
      "text/plain": [
       "5"
      ]
     },
     "execution_count": 149,
     "metadata": {},
     "output_type": "execute_result"
    }
   ],
   "source": [
    "len(response.document.pages)"
   ]
  },
  {
   "cell_type": "code",
   "execution_count": 150,
   "id": "a5f1024c-380b-40d2-8768-06b6f33956e9",
   "metadata": {},
   "outputs": [
    {
     "name": "stdout",
     "output_type": "stream",
     "text": [
      "10/27/23, 9:22 AM\n",
      "WIKIPEDIA\n",
      "The Free Encyclopedia\n",
      "Toggle the table of contents\n",
      "Baseball\n",
      "Baseball - Wikipedia\n",
      "Baseball is a bat-and-ball sport played between two\n",
      "teams of nine players each, taking turns batting and\n",
      "fielding. The game occurs over the c\n"
     ]
    }
   ],
   "source": [
    "print(response.document.text[0:250])"
   ]
  },
  {
   "cell_type": "markdown",
   "id": "a2622ff7-bbf1-4745-812c-e78929e1d9b3",
   "metadata": {},
   "source": [
    "---\n",
    "## Batch Processing (multiple documents)\n",
    "\n",
    "There are two ways to provide documents to the client and each is covered in this section.\n",
    "\n",
    "> NOTE: The [OCR Processor](https://cloud.google.com/document-ai/docs/processors-list#processor_doc-ocr) has pages limits of 15 for online, and 500 for batch processing.\n",
    "\n",
    "The following is the Python client reference to use for this batch processing section:\n",
    "- [google.cloud.documentai.DocumentProcessorServiceClient.batch_process_documents()](https://cloud.google.com/python/docs/reference/documentai/latest/google.cloud.documentai_v1.services.document_processor_service.DocumentProcessorServiceClient#google_cloud_documentai_v1_services_document_processor_service_DocumentProcessorServiceClient_batch_process_documents)"
   ]
  },
  {
   "cell_type": "markdown",
   "id": "5d1457d4-dcc0-49e6-9654-67854729f5b3",
   "metadata": {},
   "source": [
    "---\n",
    "### Documents in GCS listed: `gcs_documents`\n",
    "\n",
    "Reference:\n",
    "- [documentai.BatchProcessRequest()](https://cloud.google.com/python/docs/reference/documentai/latest/google.cloud.documentai_v1.types.BatchProcessRequest)\n",
    "    - `input_documents` = [documentai.BatchDocumentsInputConfig()](https://cloud.google.com/python/docs/reference/documentai/latest/google.cloud.documentai_v1.types.BatchDocumentsInputConfig)\n",
    "        - `gcs_prefix` = [documentai.GcsPrefix()](https://cloud.google.com/python/docs/reference/documentai/latest/google.cloud.documentai_v1.types.GcsPrefix)\n",
    "        - `gcs_documents` = [documentai.GcsDocuments](https://cloud.google.com/python/docs/reference/documentai/latest/google.cloud.documentai_v1.types.GcsDocuments)\n",
    "    - `document_output_config` = [documentai.DocumentOutputConfig()](https://cloud.google.com/python/docs/reference/documentai/latest/google.cloud.documentai_v1.types.DocumentOutputConfig)"
   ]
  },
  {
   "cell_type": "code",
   "execution_count": 151,
   "id": "26918e84-72d7-4500-8e3e-5a720b1079b0",
   "metadata": {},
   "outputs": [],
   "source": [
    "batch_job = docai.batch_process_documents(\n",
    "    request = documentai.BatchProcessRequest(\n",
    "        name = PARSER.name,\n",
    "        input_documents = documentai.BatchDocumentsInputConfig(\n",
    "            gcs_documents = documentai.GcsDocuments(\n",
    "                documents = [\n",
    "                    documentai.GcsDocument(\n",
    "                        gcs_uri = gcs_doc_location, \n",
    "                        mime_type = 'application/pdf'\n",
    "                    )\n",
    "                ]\n",
    "            )\n",
    "        ),\n",
    "        document_output_config = documentai.DocumentOutputConfig(\n",
    "            gcs_output_config = documentai.DocumentOutputConfig.GcsOutputConfig(\n",
    "                gcs_uri = f'gs://{GCS_BUCKET}/{SERIES}/{EXPERIMENT}/parsing'\n",
    "            )\n",
    "        ),\n",
    "    )\n",
    ")"
   ]
  },
  {
   "cell_type": "code",
   "execution_count": 153,
   "id": "b5b3d77c-a0dc-488a-8ea5-bdb24c254b64",
   "metadata": {},
   "outputs": [
    {
     "name": "stdout",
     "output_type": "stream",
     "text": [
      "Waiting on batch job to complete: projects/1026793852137/locations/us/operations/17499314109986257616\n"
     ]
    },
    {
     "data": {
      "text/plain": []
     },
     "execution_count": 153,
     "metadata": {},
     "output_type": "execute_result"
    }
   ],
   "source": [
    "print(f'Waiting on batch job to complete: {batch_job.operation.name}')\n",
    "batch_job.result()"
   ]
  },
  {
   "cell_type": "markdown",
   "id": "8e505c74-e37a-4f35-a548-f2a22a8231c3",
   "metadata": {},
   "source": [
    "List the input and output locaitons for each document processed:"
   ]
  },
  {
   "cell_type": "code",
   "execution_count": 159,
   "id": "26a4b85c-0dd7-4612-b405-c143b7772047",
   "metadata": {},
   "outputs": [
    {
     "name": "stdout",
     "output_type": "stream",
     "text": [
      "Document 0:\n",
      "\tgs://statmike-mlops-349915/working-with-docai/process-documents/docs/sports/Baseball - Wikipedia.pdf\n",
      "\tgs://statmike-mlops-349915/working-with-docai/process-documents/parsing/17499314109986257616/0\n",
      "\n"
     ]
    }
   ],
   "source": [
    "for d, doc in enumerate(batch_job.metadata.individual_process_statuses):\n",
    "    print(f'Document {d}:\\n\\t{doc.input_gcs_source}\\n\\t{doc.output_gcs_destination}\\n')"
   ]
  },
  {
   "cell_type": "markdown",
   "id": "2e79d1c6-cb0c-4453-a858-edd2ee1145bb",
   "metadata": {},
   "source": [
    "Read the results for the first document:"
   ]
  },
  {
   "cell_type": "code",
   "execution_count": 180,
   "id": "e7086a61-046d-4910-adeb-e11fbb90eda6",
   "metadata": {},
   "outputs": [
    {
     "name": "stdout",
     "output_type": "stream",
     "text": [
      "working-with-docai/process-documents/parsing/17499314109986257616/0/Baseball - Wikipedia-0.json\n",
      "working-with-docai/process-documents/parsing/17499314109986257616/0/Baseball - Wikipedia-1.json\n",
      "working-with-docai/process-documents/parsing/17499314109986257616/0/Baseball - Wikipedia-2.json\n",
      "working-with-docai/process-documents/parsing/17499314109986257616/0/Baseball - Wikipedia-3.json\n"
     ]
    }
   ],
   "source": [
    "batch_responses = []\n",
    "for json_output in gcs.list_blobs(bucket, prefix = batch_job.metadata.individual_process_statuses[0].output_gcs_destination.split(f'gs://{GCS_BUCKET}/')[1]):\n",
    "    if json_output.content_type == 'application/json':\n",
    "        print(json_output.name)\n",
    "        batch_responses.append(documentai.Document.from_json(json_output.download_as_bytes(), ignore_unknown_fields = True))"
   ]
  },
  {
   "cell_type": "code",
   "execution_count": 181,
   "id": "035ece98-4146-451b-9205-a9867d1676f2",
   "metadata": {},
   "outputs": [
    {
     "name": "stdout",
     "output_type": "stream",
     "text": [
      "10 10/27/23, 9:22 AM\n",
      "WIKIPEDIA\n",
      "The Free Encyclopedia\n",
      "Toggle the table of contents\n",
      "Baseball\n",
      "Baseball - W\n",
      "10 10/27/23, 9:22 AM\n",
      "Baseball - Wikipedia\n",
      "a number of competitions between clubs from different countri\n",
      "10 Baseball - Wikipedia\n",
      "10/27/23, 9:22 AM\n",
      "4. Thurston (2000), p. 15; \"Official Rules/Foreword\" (http://\n",
      "5 10/27/23, 9:22 AM\n",
      "Baseball - Wikipedia\n",
      "170. \"Opening Day Rosters Feature 230 Players Born Outside th\n"
     ]
    }
   ],
   "source": [
    "for document in batch_responses:\n",
    "    print(len(document.pages), document.text[0:100])"
   ]
  },
  {
   "cell_type": "markdown",
   "id": "700d0fea-732b-49f1-9bc4-8aa5372b4e6e",
   "metadata": {},
   "source": [
    "The output is sharded and need to be wrapped together.  This is not a simple concatenation as each shared has the structre for a subset of the input document(s)."
   ]
  },
  {
   "cell_type": "code",
   "execution_count": 167,
   "id": "ff1aa0eb-254f-4099-b97a-be1e67e5c6f0",
   "metadata": {},
   "outputs": [],
   "source": [
    "json_bytes = b'\\n'.join(json_bytes)"
   ]
  },
  {
   "cell_type": "code",
   "execution_count": 168,
   "id": "36f7688f-5fa8-4d53-8b2f-ab87ffa74115",
   "metadata": {},
   "outputs": [],
   "source": [
    "batch_response = documentai.Document.from_json(json_bytes, ignore_unknown_fields = True)"
   ]
  },
  {
   "cell_type": "code",
   "execution_count": 170,
   "id": "64289ac1-9172-4f54-8aac-48b42042908e",
   "metadata": {},
   "outputs": [
    {
     "data": {
      "text/plain": [
       "5"
      ]
     },
     "execution_count": 170,
     "metadata": {},
     "output_type": "execute_result"
    }
   ],
   "source": [
    "len(batch_response.pages)"
   ]
  },
  {
   "cell_type": "markdown",
   "id": "1db10c61-54b0-4a97-ae5a-3a3704481018",
   "metadata": {},
   "source": [
    "---\n",
    "### Documents in GCS with prefix: `gcs_prefix`\n",
    "\n",
    "Reference:\n",
    "- [documentai.BatchProcessRequest()](https://cloud.google.com/python/docs/reference/documentai/latest/google.cloud.documentai_v1.types.BatchProcessRequest)\n",
    "    - `input_documents` = [documentai.BatchDocumentsInputConfig()](https://cloud.google.com/python/docs/reference/documentai/latest/google.cloud.documentai_v1.types.BatchDocumentsInputConfig)\n",
    "        - `gcs_prefix` = [documentai.GcsPrefix()](https://cloud.google.com/python/docs/reference/documentai/latest/google.cloud.documentai_v1.types.GcsPrefix)\n",
    "        - `gcs_documents` = [documentai.GcsDocuments](https://cloud.google.com/python/docs/reference/documentai/latest/google.cloud.documentai_v1.types.GcsDocuments)\n",
    "    - `document_output_config` = [documentai.DocumentOutputConfig()](https://cloud.google.com/python/docs/reference/documentai/latest/google.cloud.documentai_v1.types.DocumentOutputConfig)"
   ]
  },
  {
   "cell_type": "code",
   "execution_count": null,
   "id": "1098c509-4248-42bf-8a6c-464af0a190c8",
   "metadata": {},
   "outputs": [],
   "source": [
    "batch_response"
   ]
  },
  {
   "cell_type": "code",
   "execution_count": null,
   "id": "bb59fb01-4ed8-4ae7-94ed-5c7d8c729623",
   "metadata": {},
   "outputs": [],
   "source": []
  },
  {
   "cell_type": "markdown",
   "id": "8765dcf3-ef13-4c52-8efa-05f28691651b",
   "metadata": {},
   "source": [
    "---\n",
    "## Async Processing\n",
    "\n",
    "The following is the Python client reference to use for this async processing section:\n",
    "- [google.cloud.documentai.DocumentProcessorServiceAsyncClient()](https://cloud.google.com/python/docs/reference/documentai/latest/google.cloud.documentai_v1.services.document_processor_service.DocumentProcessorServiceAsyncClient)"
   ]
  },
  {
   "cell_type": "markdown",
   "id": "9221cea5-5d32-4092-8c6c-88e18a9b0cbb",
   "metadata": {},
   "source": [
    "### Multiple Online Processing Async Request"
   ]
  },
  {
   "cell_type": "code",
   "execution_count": null,
   "id": "f82e24af-50ab-4991-9b1d-f49b8c789e46",
   "metadata": {},
   "outputs": [],
   "source": []
  },
  {
   "cell_type": "markdown",
   "id": "5fa384d5-3c08-439b-9219-0f2e78a1b1a9",
   "metadata": {},
   "source": [
    "### Multiple Batch Processing Async Request"
   ]
  },
  {
   "cell_type": "code",
   "execution_count": null,
   "id": "d3b30ac8-90cf-4db5-898d-ab90f570b9a9",
   "metadata": {},
   "outputs": [],
   "source": []
  },
  {
   "cell_type": "markdown",
   "id": "03d3ab96-e2d2-402e-a3c4-5dc7bdc25853",
   "metadata": {},
   "source": [
    "---\n",
    "## Store Responses\n",
    "\n",
    "For bath processing the responses are already stored as JSON in GCS.  This section covers how to also store online responses as JSON in GCS.  It also covers loading the JSON responses from GCS to BigQuery as well as retrieving them from BigQuery."
   ]
  },
  {
   "cell_type": "markdown",
   "id": "66cad785-dd94-4fdb-a7db-48986f04f1b8",
   "metadata": {},
   "source": [
    "### GCS"
   ]
  },
  {
   "cell_type": "code",
   "execution_count": null,
   "id": "1f1f7b12-f90f-442f-95f5-84fb795c7d9b",
   "metadata": {},
   "outputs": [],
   "source": []
  },
  {
   "cell_type": "markdown",
   "id": "d9cbe152-9724-4d3d-8d96-e71c265f3200",
   "metadata": {},
   "source": [
    "### BigQuery"
   ]
  },
  {
   "cell_type": "code",
   "execution_count": null,
   "id": "da4871e8-6133-413d-a61e-aa52f36386d4",
   "metadata": {},
   "outputs": [],
   "source": []
  },
  {
   "cell_type": "code",
   "execution_count": null,
   "id": "668a0984-2489-4c8b-8c1c-ef664374abef",
   "metadata": {},
   "outputs": [],
   "source": []
  },
  {
   "cell_type": "code",
   "execution_count": null,
   "id": "dcae2f11-7706-40ad-9238-a11004e0c5bd",
   "metadata": {},
   "outputs": [],
   "source": []
  },
  {
   "cell_type": "code",
   "execution_count": null,
   "id": "babac35c-480b-425b-82bb-676f6c5f0466",
   "metadata": {},
   "outputs": [],
   "source": []
  },
  {
   "cell_type": "code",
   "execution_count": null,
   "id": "91110eea-09db-4d1b-a698-5d95d0010b32",
   "metadata": {},
   "outputs": [],
   "source": []
  },
  {
   "cell_type": "code",
   "execution_count": null,
   "id": "2b8a504e-4091-424f-92e9-21ca0326f139",
   "metadata": {},
   "outputs": [],
   "source": []
  },
  {
   "cell_type": "code",
   "execution_count": null,
   "id": "00f319ff-95e4-4338-b5a6-0c467e8393a1",
   "metadata": {},
   "outputs": [],
   "source": []
  },
  {
   "cell_type": "code",
   "execution_count": null,
   "id": "a5f6f928-bd0c-43fe-b4d1-36bd274aeccc",
   "metadata": {},
   "outputs": [],
   "source": []
  },
  {
   "cell_type": "code",
   "execution_count": null,
   "id": "05a2759c-b693-497f-8535-e4a60fec0acb",
   "metadata": {},
   "outputs": [],
   "source": []
  }
 ],
 "metadata": {
  "environment": {
   "kernel": "python3",
   "name": "tf2-gpu.2-12.m110",
   "type": "gcloud",
   "uri": "gcr.io/deeplearning-platform-release/tf2-gpu.2-12:m110"
  },
  "kernelspec": {
   "display_name": "Python 3",
   "language": "python",
   "name": "python3"
  },
  "language_info": {
   "codemirror_mode": {
    "name": "ipython",
    "version": 3
   },
   "file_extension": ".py",
   "mimetype": "text/x-python",
   "name": "python",
   "nbconvert_exporter": "python",
   "pygments_lexer": "ipython3",
   "version": "3.10.12"
  }
 },
 "nbformat": 4,
 "nbformat_minor": 5
}
