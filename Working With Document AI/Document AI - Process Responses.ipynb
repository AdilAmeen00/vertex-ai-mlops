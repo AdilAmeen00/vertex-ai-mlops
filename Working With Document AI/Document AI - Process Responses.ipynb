{
 "cells": [
  {
   "cell_type": "markdown",
   "id": "14a6bca4-0162-4841-9b77-00c611ff98a6",
   "metadata": {},
   "source": [
    "![ga4](https://www.google-analytics.com/collect?v=2&tid=G-6VDTYWLKX6&cid=1&en=page_view&sid=1&dl=statmike%2Fvertex-ai-mlops%2FWorking+With+Document+AI&dt=Document+AI+-+Process+Responses.ipynb)\n",
    "\n",
    "# Document AI - Process Responses\n",
    "> From the [Working With Document AI](https://github.com/statmike/vertex-ai-mlops/blob/main/Working%20With%20Document%20AI/readme.md) series in the [vertex-ai-mlops](https://github.com/statmike/vertex-ai-mlops/blob/main/readme.md) repository.\n",
    "\n",
    "Document AI is an API where you interact with processors to extract information from documents.  You enable the API, create an instance of a processor in your project, send in document(s), receive back JSON with the extracted information:\n",
    "\n",
    "<p align=\"center\" width=\"100%\"><center>\n",
    "    <img src=\"../architectures/architectures/images/working with/documentai/readme/high_level.png\">\n",
    "</center></p>\n",
    "\n",
    "---\n",
    "\n",
    "**Processing**\n",
    "\n",
    "This workflow covers techniques to extract elements from the responses.  A prior workflow covered all the ways to process a document, or many documents, using Python as the client: [Document AI - Process Documents](./Document%20AI%20-%20Process%20Documents.ipynb). It also shows how to store and retrieve responses from GCS and BigQuery.\n",
    "\n",
    "---\n",
    "\n",
    "more here\n",
    "\n"
   ]
  },
  {
   "cell_type": "markdown",
   "id": "1ff83a40-ea39-4b3e-b460-59128b38e067",
   "metadata": {
    "id": "od_UkDpvRmgD"
   },
   "source": [
    "---\n",
    "## Colab Setup\n",
    "\n",
    "To run this notebook in Colab click [![Open In Colab](https://colab.research.google.com/assets/colab-badge.svg)](https://colab.research.google.com/github/statmike/vertex-ai-mlops/blob/main/Working%20With%20Document%20AI/Document%20AI%20-%20Process%20Responses.ipynb) and run the cells in this section.  Otherwise, skip this section.\n",
    "\n",
    "This cell will authenticate to GCP (follow prompts in the popup)."
   ]
  },
  {
   "cell_type": "code",
   "execution_count": 1,
   "id": "4795a0f1-20ce-4611-bf29-a57af709def1",
   "metadata": {
    "executionInfo": {
     "elapsed": 195,
     "status": "ok",
     "timestamp": 1683726184843,
     "user": {
      "displayName": "Mike Henderson",
      "userId": "07691629187611687318"
     },
     "user_tz": 240
    },
    "id": "8UO9FnqyKBlF"
   },
   "outputs": [],
   "source": [
    "PROJECT_ID = 'statmike-mlops-349915' # replace with project ID"
   ]
  },
  {
   "cell_type": "code",
   "execution_count": 2,
   "id": "7465d4e4-1995-470f-a661-0cac80526598",
   "metadata": {
    "colab": {
     "base_uri": "https://localhost:8080/"
    },
    "executionInfo": {
     "elapsed": 68869,
     "status": "ok",
     "timestamp": 1683726253709,
     "user": {
      "displayName": "Mike Henderson",
      "userId": "07691629187611687318"
     },
     "user_tz": 240
    },
    "id": "N98-KK7LRkjm",
    "outputId": "09ec5008-0def-4e1a-c349-c598ee752f78"
   },
   "outputs": [],
   "source": [
    "try:\n",
    "    import google.colab\n",
    "    from google.colab import auth\n",
    "    auth.authenticate_user()\n",
    "    !gcloud config set project {PROJECT_ID}\n",
    "except Exception:\n",
    "    pass"
   ]
  },
  {
   "cell_type": "markdown",
   "id": "05bf85c5-1ada-4c69-997d-887c793ca3e1",
   "metadata": {},
   "source": [
    "---\n",
    "## Installs and API Enablement\n",
    "\n",
    "The clients packages may need installing in this environment. "
   ]
  },
  {
   "cell_type": "markdown",
   "id": "67e86b85-6810-4627-9084-ccee091179e2",
   "metadata": {},
   "source": [
    "### Installs (If Needed)"
   ]
  },
  {
   "cell_type": "code",
   "execution_count": 9,
   "id": "d2fe898e-20a1-4fed-a2ae-292bdacfe1af",
   "metadata": {},
   "outputs": [],
   "source": [
    "# tuples of (import name, install name)\n",
    "packages = [\n",
    "    ('google.cloud.documentai', 'google-cloud-documentai'),\n",
    "    ('google.cloud.documentai_toolbox', 'google-cloud-documentai-toolbox'),\n",
    "    ('google.cloud.documentai', 'google-cloud-storage'),\n",
    "    ('google.cloud.documentai', 'google-cloud-bigquery'),\n",
    "    ('PyPDF2', 'PyPDF2')\n",
    "]\n",
    "\n",
    "import importlib\n",
    "install = False\n",
    "for package in packages:\n",
    "    if not importlib.util.find_spec(package[0]):\n",
    "        print(f'installing package {package[1]}')\n",
    "        install = True\n",
    "        !pip install {package[1]} -U -q --user"
   ]
  },
  {
   "cell_type": "markdown",
   "id": "9fbc968b-5760-41fe-9561-0c89625485e1",
   "metadata": {},
   "source": [
    "### API Enablement"
   ]
  },
  {
   "cell_type": "code",
   "execution_count": 4,
   "id": "c0943ffe-ebb0-4257-b683-595fdde91e4a",
   "metadata": {},
   "outputs": [],
   "source": [
    "!gcloud services enable documentai.googleapis.com"
   ]
  },
  {
   "cell_type": "markdown",
   "id": "b77e23e3-98c4-47f9-9d4c-75b911f53478",
   "metadata": {},
   "source": [
    "### Restart Kernel (If Installs Occured)\n",
    "\n",
    "After a kernel restart the code submission can start with the next cell after this one."
   ]
  },
  {
   "cell_type": "code",
   "execution_count": 5,
   "id": "1f3e509e-da5e-4e94-9e89-4a23a51f14b1",
   "metadata": {},
   "outputs": [],
   "source": [
    "if install:\n",
    "    import IPython\n",
    "    app = IPython.Application.instance()\n",
    "    app.kernel.do_shutdown(True)"
   ]
  },
  {
   "cell_type": "markdown",
   "id": "e6e8a845-dce4-49c0-b9c2-9bbedcb4b5a7",
   "metadata": {
    "id": "appt8-yVRtJ1"
   },
   "source": [
    "---\n",
    "## Setup"
   ]
  },
  {
   "cell_type": "markdown",
   "id": "2e2238cf-48e7-476d-bfd1-5085b21a2333",
   "metadata": {
    "id": "63mx2EozRxFP"
   },
   "source": [
    "Inputs"
   ]
  },
  {
   "cell_type": "code",
   "execution_count": 6,
   "id": "b3cd9f1b-b38b-4c4b-aab0-df6414cbc5cc",
   "metadata": {
    "colab": {
     "base_uri": "https://localhost:8080/",
     "height": 35
    },
    "executionInfo": {
     "elapsed": 2124,
     "status": "ok",
     "timestamp": 1683726390544,
     "user": {
      "displayName": "Mike Henderson",
      "userId": "07691629187611687318"
     },
     "user_tz": 240
    },
    "id": "xzcoXjM5Rky5",
    "outputId": "b3bdcbc1-70d5-472e-aea2-42c74a42efde"
   },
   "outputs": [
    {
     "data": {
      "text/plain": [
       "'statmike-mlops-349915'"
      ]
     },
     "execution_count": 6,
     "metadata": {},
     "output_type": "execute_result"
    }
   ],
   "source": [
    "project = !gcloud config get-value project\n",
    "PROJECT_ID = project[0]\n",
    "PROJECT_ID"
   ]
  },
  {
   "cell_type": "code",
   "execution_count": 10,
   "id": "298afaa9-2744-4ab9-b7d3-bd915adb411e",
   "metadata": {
    "executionInfo": {
     "elapsed": 2,
     "status": "ok",
     "timestamp": 1683726390712,
     "user": {
      "displayName": "Mike Henderson",
      "userId": "07691629187611687318"
     },
     "user_tz": 240
    },
    "id": "IxWrFtqYMfku"
   },
   "outputs": [],
   "source": [
    "REGION = 'us-central1'\n",
    "SERIES = 'working-with-docai'\n",
    "EXPERIMENT = 'process-responses'\n",
    "\n",
    "# make this the gcs bucket for storing files\n",
    "GCS_BUCKET = PROJECT_ID\n",
    "\n",
    "# BigQuery Objects\n",
    "BQ_PROJECT = PROJECT_ID\n",
    "BQ_DATASET = SERIES.replace('-', '_')\n",
    "BQ_TABLE_PREFIX = EXPERIMENT"
   ]
  },
  {
   "cell_type": "markdown",
   "id": "e09edf5c-16eb-4a7f-aa23-dd27a59035f7",
   "metadata": {
    "id": "LuajVwCiO6Yg"
   },
   "source": [
    "Packages"
   ]
  },
  {
   "cell_type": "code",
   "execution_count": 11,
   "id": "0b9c168d-ba67-4b04-b37d-183c631854bd",
   "metadata": {
    "executionInfo": {
     "elapsed": 17761,
     "status": "ok",
     "timestamp": 1683726409304,
     "user": {
      "displayName": "Mike Henderson",
      "userId": "07691629187611687318"
     },
     "user_tz": 240
    },
    "id": "LVC7zzSLRk2C"
   },
   "outputs": [],
   "source": [
    "import os, shutil, glob, json, asyncio, datetime\n",
    "\n",
    "import PyPDF2\n",
    "\n",
    "from google.cloud import documentai\n",
    "from google.cloud import documentai_toolbox\n",
    "from google.cloud import storage\n",
    "from google.cloud import bigquery"
   ]
  },
  {
   "cell_type": "markdown",
   "id": "07253108-e8a3-4d79-b101-411c54acf745",
   "metadata": {
    "id": "EyAVFG9TO9H-"
   },
   "source": [
    "Clients"
   ]
  },
  {
   "cell_type": "code",
   "execution_count": 12,
   "id": "44caf6c9-1549-4da3-be9a-a87b36ff6f25",
   "metadata": {
    "executionInfo": {
     "elapsed": 19,
     "status": "ok",
     "timestamp": 1683726409306,
     "user": {
      "displayName": "Mike Henderson",
      "userId": "07691629187611687318"
     },
     "user_tz": 240
    },
    "id": "L0RPE13LOZce"
   },
   "outputs": [],
   "source": [
    "# document AI client\n",
    "LOCATION = REGION.split('-')[0]\n",
    "docai = documentai.DocumentProcessorServiceClient(\n",
    "    client_options = dict(api_endpoint = f\"{LOCATION}-documentai.googleapis.com\")\n",
    ")\n",
    "\n",
    "# gcs client: assumes bucket already exists\n",
    "gcs = storage.Client(project = PROJECT_ID)\n",
    "bucket = gcs.bucket(GCS_BUCKET)\n",
    "\n",
    "# bq client\n",
    "bq = bigquery.Client(project = PROJECT_ID)"
   ]
  },
  {
   "cell_type": "markdown",
   "id": "e882861f-6669-41ed-8d99-3cc1bf28756c",
   "metadata": {},
   "source": [
    "---\n",
    "## Get The Document\n",
    "\n",
    "This section prepares a document for processing with online processing.\n",
    "\n",
    "|Document Name|Link|\n",
    "|---|---|\n",
    "|`docs/sports/Baseball - Wikipedia.pdf`|[https://en.wikipedia.org/wiki/Baseball](https://en.wikipedia.org/wiki/Baseball)|\n",
    "\n",
    "If you are working from a clone of this notebooks repository then the document is already present. The following cell checks for the documents folder, `/docs`, and if it is missing gets the document used in this workflow (`wget`):"
   ]
  },
  {
   "cell_type": "code",
   "execution_count": 13,
   "id": "4d736e81-afda-4c6f-9646-6e2ad2b77065",
   "metadata": {},
   "outputs": [
    {
     "name": "stdout",
     "output_type": "stream",
     "text": [
      "Document Found at `docs/sports/Baseball - Wikipedia.pdf`\n"
     ]
    }
   ],
   "source": [
    "file = 'docs/sports/Baseball - Wikipedia.pdf'\n",
    "if not os.path.exists(file):\n",
    "    print('Retrieving document...')\n",
    "    if not os.path.exists(os.path.dirname(file)):\n",
    "      os.makedirs(os.path.dirname(file))\n",
    "    import requests, urllib.parse\n",
    "    r = requests.get(f'https://raw.githubusercontent.com/statmike/vertex-ai-mlops/main/Working%20With%20Document%20AI/{urllib.parse.quote(file)}')\n",
    "    open(file, 'wb').write(r.content)\n",
    "    print(f'Document now at `{file}`')\n",
    "else:\n",
    "    print(f'Document Found at `{file}`')"
   ]
  },
  {
   "cell_type": "markdown",
   "id": "8fcf87bb-a5af-4788-80f5-e96dbf3d43c5",
   "metadata": {
    "tags": []
   },
   "source": [
    "---\n",
    "## Create/Get A Processor\n",
    "\n",
    "For this workflow we will use the [OCR parser](https://cloud.google.com/document-ai/docs/processors-list#processor_doc-ocr). We can check for an existing processor in the project that the OCR Parser with desired version and if it is not present then create one.  The processor will be connected with Python variable `PARSER` and referred to as a parser as it is used.\n",
    "\n",
    "Get the type and version from the list of available processors: https://cloud.google.com/document-ai/docs/processors-list"
   ]
  },
  {
   "cell_type": "markdown",
   "id": "64931792-72a8-4451-9a97-24d89cf4e9ef",
   "metadata": {},
   "source": [
    "What are the processors already created in this project environment?"
   ]
  },
  {
   "cell_type": "code",
   "execution_count": 56,
   "id": "f3a4526e-9d57-48bd-bbe2-a0522a427570",
   "metadata": {},
   "outputs": [
    {
     "data": {
      "text/plain": [
       "4"
      ]
     },
     "execution_count": 56,
     "metadata": {},
     "output_type": "execute_result"
    }
   ],
   "source": [
    "processors = list(docai.list_processors(parent = f'projects/{PROJECT_ID}/locations/{LOCATION}'))\n",
    "len(processors)"
   ]
  },
  {
   "cell_type": "code",
   "execution_count": 57,
   "id": "7a59ff03-3c3b-447c-9771-5e913713dd31",
   "metadata": {},
   "outputs": [],
   "source": [
    "TYPE = 'OCR_PROCESSOR'\n",
    "VERSION = 'pretrained-ocr-v2.0-2023-06-02'"
   ]
  },
  {
   "cell_type": "markdown",
   "id": "d2206b1a-c7ad-4ff2-8ab3-cc116af2276c",
   "metadata": {},
   "source": [
    "Get an existing processor:"
   ]
  },
  {
   "cell_type": "code",
   "execution_count": 58,
   "id": "00c401c5-ebb4-4171-877c-d1fd5298e573",
   "metadata": {},
   "outputs": [
    {
     "name": "stdout",
     "output_type": "stream",
     "text": [
      "There is an existing processor with the desire type and version in PARSER = working-with-docai\n"
     ]
    }
   ],
   "source": [
    "PARSER = ''\n",
    "for processor in processors:\n",
    "    if processor.type_ == TYPE and processor.default_processor_version.split('/')[-1] == VERSION:\n",
    "        PARSER = processor\n",
    "        break\n",
    "        \n",
    "if PARSER:\n",
    "    print(f'There is an existing processor with the desire type and version in PARSER = {PARSER.display_name}')\n",
    "else:\n",
    "    print(f'Need to create a processor for the desired type and version: {TYPE}, {VERSION}')"
   ]
  },
  {
   "cell_type": "markdown",
   "id": "a195f3d5-ee3d-4cf9-81ea-0ad1b3ebfcf8",
   "metadata": {},
   "source": [
    "Create the processor if an existing one was not found to match:"
   ]
  },
  {
   "cell_type": "code",
   "execution_count": 59,
   "id": "5020d2be-76ec-4099-b77a-af0938aa77e1",
   "metadata": {},
   "outputs": [],
   "source": [
    "if not PARSER:\n",
    "    PARSER = docai.create_processor(\n",
    "        parent = f'projects/{PROJECT_ID}/locations/{LOCATION}',\n",
    "        processor = documentai.Processor(\n",
    "            display_name = SERIES,\n",
    "            type_ = TYPE\n",
    "        )\n",
    "    )\n",
    "    set_default = docai.set_default_processor_version(\n",
    "        request = documentai.SetDefaultProcessorVersionRequest(\n",
    "            processor = PARSER.name,\n",
    "            default_processor_version = f'{PARSER.name}/processorVersions/{VERSION}'\n",
    "        )\n",
    "    )\n",
    "    set_default.result()\n",
    "    PARSER = docai.get_processor(\n",
    "        name = PARSER.name\n",
    "    )\n",
    "    print(f'Processor created and in PARSER variable with display name = {PARSER.display_name}')"
   ]
  },
  {
   "cell_type": "markdown",
   "id": "229e60f9-3ba3-4c17-a3a3-356d37d9e4c0",
   "metadata": {},
   "source": [
    "---\n",
    "## Online Processing (single document)\n",
    "\n",
    "There are three ways to provide a single document to the client and each is covered in this section.\n",
    "\n",
    "> NOTE: The [OCR Processor](https://cloud.google.com/document-ai/docs/processors-list#processor_doc-ocr) has pages limits of 15 for online, and 500 for batch processing.\n",
    "\n",
    "The following is the Python client reference to use for this online processing section:\n",
    "- [google.cloud.documentai.DocumentProcessorServiceClient.process_document()](https://cloud.google.com/python/docs/reference/documentai/latest/google.cloud.documentai_v1.services.document_processor_service.DocumentProcessorServiceClient#google_cloud_documentai_v1_services_document_processor_service_DocumentProcessorServiceClient_process_document)"
   ]
  },
  {
   "cell_type": "markdown",
   "id": "5febf807-4114-4fc1-96da-510b7a4d0543",
   "metadata": {},
   "source": [
    "Using the processor stored in `PARSER` from above:"
   ]
  },
  {
   "cell_type": "code",
   "execution_count": 60,
   "id": "a074178a-a923-4c74-95fa-89d3a8cfdb99",
   "metadata": {},
   "outputs": [
    {
     "data": {
      "text/plain": [
       "'projects/1026793852137/locations/us/processors/d59e19cc08278630'"
      ]
     },
     "execution_count": 60,
     "metadata": {},
     "output_type": "execute_result"
    }
   ],
   "source": [
    "PARSER.name"
   ]
  },
  {
   "cell_type": "markdown",
   "id": "22e8e175-089c-4fe2-9e36-e3dfdf83fd55",
   "metadata": {},
   "source": [
    "Read the document to a bytes object:"
   ]
  },
  {
   "cell_type": "code",
   "execution_count": 61,
   "id": "5b7c4ca0-f9e7-4784-a875-a4fdb6889de2",
   "metadata": {},
   "outputs": [],
   "source": [
    "with open(file, 'rb') as f:\n",
    "    local_doc = f.read()"
   ]
  },
  {
   "cell_type": "code",
   "execution_count": 62,
   "id": "3b8d7328-bd29-4fbe-93bc-d0ba069322e0",
   "metadata": {},
   "outputs": [
    {
     "data": {
      "text/plain": [
       "bytes"
      ]
     },
     "execution_count": 62,
     "metadata": {},
     "output_type": "execute_result"
    }
   ],
   "source": [
    "type(local_doc)"
   ]
  },
  {
   "cell_type": "markdown",
   "id": "b8a3610e-390a-41f3-b88d-b45964721327",
   "metadata": {},
   "source": [
    "---\n",
    "### Document as bytes: `inline_document`\n",
    "\n",
    "Reference:\n",
    "- [documentai.ProcessRequest()](https://cloud.google.com/python/docs/reference/documentai/latest/google.cloud.documentai_v1.types.ProcessRequest)\n",
    "    - (This One) `inline_document` = [documentai.Document()](https://cloud.google.com/python/docs/reference/documentai/latest/google.cloud.documentai_v1.types.Document)\n",
    "    - `raw_document` = [documentai.RawDocument()](https://cloud.google.com/python/docs/reference/documentai/latest/google.cloud.documentai_v1.types.RawDocument)\n",
    "    - `gcs_document` = [documentai.GcsDocument()](https://cloud.google.com/python/docs/reference/documentai/latest/google.cloud.documentai_v1.types.GcsDocument)"
   ]
  },
  {
   "cell_type": "code",
   "execution_count": 63,
   "id": "a9a90ffc-744b-4225-987f-9d20f712f4dc",
   "metadata": {},
   "outputs": [],
   "source": [
    "response = docai.process_document(\n",
    "    request = documentai.ProcessRequest(\n",
    "        name = PARSER.name,\n",
    "        inline_document = documentai.Document(\n",
    "            content = local_doc,\n",
    "            mime_type = 'application/pdf'\n",
    "        ),\n",
    "        process_options = documentai.ProcessOptions(\n",
    "            from_start = 5\n",
    "        )\n",
    "    )\n",
    ")"
   ]
  },
  {
   "cell_type": "code",
   "execution_count": 64,
   "id": "f9395135-0cc2-45db-a9d4-a7404506b953",
   "metadata": {},
   "outputs": [
    {
     "data": {
      "text/plain": [
       "5"
      ]
     },
     "execution_count": 64,
     "metadata": {},
     "output_type": "execute_result"
    }
   ],
   "source": [
    "len(response.document.pages)"
   ]
  },
  {
   "cell_type": "code",
   "execution_count": 65,
   "id": "afc47233-bdfb-4cf1-96ed-aadedadc270e",
   "metadata": {},
   "outputs": [
    {
     "name": "stdout",
     "output_type": "stream",
     "text": [
      "10/27/23, 9:22 AM\n",
      "Baseball - Wikipedia\n",
      "WIKIPEDIA\n",
      "The Free Encyclopedia\n",
      "Toggle the table of contents\n",
      "Baseball\n",
      "✰ B\n",
      "ETTS\n",
      "Baseball is a bat-and-ball sport played between two\n",
      "Baseball\n",
      "teams of nine players each, taking turns batting and\n",
      "fielding. The game\n"
     ]
    }
   ],
   "source": [
    "print(response.document.text[0:250])"
   ]
  },
  {
   "cell_type": "markdown",
   "id": "66b34280-355b-4b22-819f-7fc0b64d6ef2",
   "metadata": {},
   "source": [
    "---\n",
    "## Extraction: Python\n",
    "\n",
    "The response from online processing is a [`documentai.ProcessResponse()`](https://cloud.google.com/python/docs/reference/documentai/latest/google.cloud.documentai_v1.types.ProcessResponse) which has a `document` attributed which is a [`documentai.Document()`](https://cloud.google.com/python/docs/reference/documentai/latest/google.cloud.documentai_v1.types.Document) protobuf.  This object can be directly used to extract elements of the document.  It can also be converted to other data types that can be iterated in Python:\n",
    "- JSON with `response.document.to_json()`\n",
    "- Dictionary with `response.document.to_dict()`\n",
    "- > Note: These follow the `google.protobuf.json_format` - [reference](https://googleapis.dev/python/protobuf/latest/google/protobuf/json_format.html).  That means the parameters of `.to_dict()` are the same as `google.protobuf.json_format.MessageToDict()` which includes `use_integer_for_enums` which should be set `= False` to get the text representation of enum values.\n",
    "\n",
    "The workflow has a helpful guide to the structure of the `documentai.Document` object in the [readme.md](./readme.md)."
   ]
  },
  {
   "cell_type": "code",
   "execution_count": 83,
   "id": "fdeffc14-064b-48a1-be0f-3cf009728091",
   "metadata": {},
   "outputs": [
    {
     "data": {
      "text/plain": [
       "'application/pdf'"
      ]
     },
     "execution_count": 83,
     "metadata": {},
     "output_type": "execute_result"
    }
   ],
   "source": [
    "response.document.mime_type"
   ]
  },
  {
   "cell_type": "markdown",
   "id": "364c3958-bc42-4284-895a-6b414543fade",
   "metadata": {},
   "source": [
    "### OCR Text: document.text"
   ]
  },
  {
   "cell_type": "code",
   "execution_count": 67,
   "id": "9f8c79df-e546-4c17-86bc-cbbc4ddfb004",
   "metadata": {},
   "outputs": [
    {
     "name": "stdout",
     "output_type": "stream",
     "text": [
      "10/27/23, 9:22 AM\n",
      "Baseball - Wikipedia\n",
      "WIKIPEDIA\n",
      "The Free Encyclopedia\n",
      "Toggle the table of contents\n",
      "Baseball\n",
      "✰ B\n",
      "ETTS\n",
      "Baseball is a bat-and-ball sport played between two\n",
      "Baseball\n",
      "teams of nine players each, taking turns batting and\n",
      "fielding. The game occurs over the course of several\n",
      "plays, with each play generally beginning when a player\n",
      "on the fielding team, called the pitcher, throws a ball\n",
      "that a player on the batting team, called the batter, tries\n",
      "to hit with a bat. The objective of the off\n"
     ]
    }
   ],
   "source": [
    "print(response.document.text[0:500])"
   ]
  },
  {
   "cell_type": "markdown",
   "id": "7073b7b5-6d75-4d64-aa53-a345bdc61e35",
   "metadata": {},
   "source": [
    "### Pages\n",
    "\n",
    "`response.document.pages` = list of [documentai.Document.Page](https://cloud.google.com/python/docs/reference/documentai/latest/google.cloud.documentai_v1.types.Document.Page)"
   ]
  },
  {
   "cell_type": "markdown",
   "id": "08d8eb39-208e-45d8-953b-5d28b1ea284f",
   "metadata": {},
   "source": [
    "How many pages?"
   ]
  },
  {
   "cell_type": "code",
   "execution_count": 87,
   "id": "5e6cf6cd-69a6-449c-bda3-44be43aba663",
   "metadata": {},
   "outputs": [
    {
     "data": {
      "text/plain": [
       "5"
      ]
     },
     "execution_count": 87,
     "metadata": {},
     "output_type": "execute_result"
    }
   ],
   "source": [
    "len(response.document.pages)"
   ]
  },
  {
   "cell_type": "markdown",
   "id": "f02701ae-c74d-415c-b716-2df3696acdc1",
   "metadata": {},
   "source": [
    "Pick a single page, the first one:"
   ]
  },
  {
   "cell_type": "code",
   "execution_count": 88,
   "id": "78afe941-34f8-40ee-958e-819f896ac4c7",
   "metadata": {},
   "outputs": [],
   "source": [
    "page = response.document.pages[0]"
   ]
  },
  {
   "cell_type": "code",
   "execution_count": 90,
   "id": "e4e48d20-cf84-4325-b39d-1dde00c24a97",
   "metadata": {},
   "outputs": [
    {
     "data": {
      "text/plain": [
       "1"
      ]
     },
     "execution_count": 90,
     "metadata": {},
     "output_type": "execute_result"
    }
   ],
   "source": [
    "page.page_number"
   ]
  },
  {
   "cell_type": "code",
   "execution_count": 92,
   "id": "e355785a-f2c0-4038-a7d0-3b78e0565b6f",
   "metadata": {},
   "outputs": [
    {
     "data": {
      "text/plain": [
       "width: 1758.0\n",
       "height: 2275.0\n",
       "unit: \"pixels\""
      ]
     },
     "execution_count": 92,
     "metadata": {},
     "output_type": "execute_result"
    }
   ],
   "source": [
    "page.dimension"
   ]
  },
  {
   "cell_type": "code",
   "execution_count": 93,
   "id": "443c7b1e-50c7-4dfd-8a8f-d0e501485830",
   "metadata": {},
   "outputs": [
    {
     "data": {
      "text/plain": [
       "text_anchor {\n",
       "  text_segments {\n",
       "    end_index: 2703\n",
       "  }\n",
       "}\n",
       "bounding_poly {\n",
       "  vertices {\n",
       "  }\n",
       "  vertices {\n",
       "    x: 1758\n",
       "  }\n",
       "  vertices {\n",
       "    x: 1758\n",
       "    y: 2275\n",
       "  }\n",
       "  vertices {\n",
       "    y: 2275\n",
       "  }\n",
       "  normalized_vertices {\n",
       "  }\n",
       "  normalized_vertices {\n",
       "    x: 1.0\n",
       "  }\n",
       "  normalized_vertices {\n",
       "    x: 1.0\n",
       "    y: 1.0\n",
       "  }\n",
       "  normalized_vertices {\n",
       "    y: 1.0\n",
       "  }\n",
       "}\n",
       "orientation: PAGE_UP"
      ]
     },
     "execution_count": 93,
     "metadata": {},
     "output_type": "execute_result"
    }
   ],
   "source": [
    "page.layout"
   ]
  },
  {
   "cell_type": "code",
   "execution_count": null,
   "id": "f088f9c8-b1a9-4d38-a94c-8d82f9296b1c",
   "metadata": {},
   "outputs": [],
   "source": []
  },
  {
   "cell_type": "code",
   "execution_count": null,
   "id": "fdbfff25-990d-40af-88d9-9e0fdf3c4ae2",
   "metadata": {},
   "outputs": [],
   "source": []
  },
  {
   "cell_type": "code",
   "execution_count": null,
   "id": "cf4318df-32b3-48f8-9d74-437ea774d7ae",
   "metadata": {},
   "outputs": [],
   "source": []
  },
  {
   "cell_type": "code",
   "execution_count": null,
   "id": "d948010c-e850-416c-b5e3-45067d0d431d",
   "metadata": {},
   "outputs": [],
   "source": []
  },
  {
   "cell_type": "code",
   "execution_count": null,
   "id": "f83331d3-09d5-4374-8215-490dcf5ef9ec",
   "metadata": {},
   "outputs": [],
   "source": []
  },
  {
   "cell_type": "code",
   "execution_count": null,
   "id": "d28a4ead-babc-4b2a-9d2a-bece1010349b",
   "metadata": {},
   "outputs": [],
   "source": []
  },
  {
   "cell_type": "code",
   "execution_count": null,
   "id": "ca412a36-3c12-436b-a512-6794c61d0fac",
   "metadata": {},
   "outputs": [],
   "source": [
    "### Pages:Blocks"
   ]
  },
  {
   "cell_type": "code",
   "execution_count": null,
   "id": "208ec89a-dca8-4ed2-8b27-b4f78cb29686",
   "metadata": {},
   "outputs": [],
   "source": []
  },
  {
   "cell_type": "code",
   "execution_count": null,
   "id": "a896b4fc-e543-4ed1-8c17-016d19aaac5f",
   "metadata": {},
   "outputs": [],
   "source": [
    "### Pages:Paragraphs"
   ]
  },
  {
   "cell_type": "code",
   "execution_count": null,
   "id": "e6c12f95-c22f-4287-84ad-5ff031b36e12",
   "metadata": {},
   "outputs": [],
   "source": []
  },
  {
   "cell_type": "code",
   "execution_count": null,
   "id": "3552444c-aa53-4503-97c8-e013a836943c",
   "metadata": {},
   "outputs": [],
   "source": [
    "### Pages:Lines"
   ]
  },
  {
   "cell_type": "code",
   "execution_count": null,
   "id": "238e917c-5bf1-48db-93be-ae4277c3d370",
   "metadata": {},
   "outputs": [],
   "source": []
  },
  {
   "cell_type": "code",
   "execution_count": null,
   "id": "c18d70a4-b4ce-471d-8ba2-44cbce5a441d",
   "metadata": {},
   "outputs": [],
   "source": [
    "### Pages:Tokens"
   ]
  },
  {
   "cell_type": "code",
   "execution_count": null,
   "id": "7b98538b-99a7-42d6-bcf2-09bd1e441deb",
   "metadata": {},
   "outputs": [],
   "source": []
  },
  {
   "cell_type": "code",
   "execution_count": null,
   "id": "a616bd39-1354-43f0-bd62-9e5c63a78f37",
   "metadata": {},
   "outputs": [],
   "source": [
    "### Pages:Symbols"
   ]
  },
  {
   "cell_type": "code",
   "execution_count": null,
   "id": "ff37811f-0fcc-4b38-a4b5-111b924993a1",
   "metadata": {},
   "outputs": [],
   "source": []
  },
  {
   "cell_type": "code",
   "execution_count": null,
   "id": "7cdfa9b4-f9ed-4bd1-8035-dc04c0d8a544",
   "metadata": {},
   "outputs": [],
   "source": [
    "###"
   ]
  },
  {
   "cell_type": "code",
   "execution_count": null,
   "id": "075c2010-db64-4421-a1a5-ba2c9ad82f6d",
   "metadata": {},
   "outputs": [],
   "source": []
  },
  {
   "cell_type": "code",
   "execution_count": null,
   "id": "7f8cdaa3-a327-4a4c-b29d-be835d2ef27e",
   "metadata": {},
   "outputs": [],
   "source": []
  },
  {
   "cell_type": "markdown",
   "id": "1abb4aad-cffe-4c31-81d4-7d50b5d2c9d2",
   "metadata": {},
   "source": [
    "---\n",
    "## Extraction: BigQuery"
   ]
  },
  {
   "cell_type": "code",
   "execution_count": null,
   "id": "935818b5-c791-4e0e-9f74-b9a7731e5296",
   "metadata": {},
   "outputs": [],
   "source": []
  },
  {
   "cell_type": "code",
   "execution_count": null,
   "id": "fae9d3b5-2007-4659-9468-90f1d42616d0",
   "metadata": {},
   "outputs": [],
   "source": []
  },
  {
   "cell_type": "markdown",
   "id": "e0849c3b-56d7-4864-8b4e-d7a5fca3cdc3",
   "metadata": {},
   "source": [
    "---\n",
    "## Extraction: Document AI Toolbox"
   ]
  },
  {
   "cell_type": "code",
   "execution_count": null,
   "id": "d7300349-8b2b-45df-bc2e-319ed8568919",
   "metadata": {},
   "outputs": [],
   "source": []
  },
  {
   "cell_type": "code",
   "execution_count": 84,
   "id": "96b4dac8-81c2-4723-8c0c-50db45b8065a",
   "metadata": {},
   "outputs": [
    {
     "data": {
      "text/plain": [
       "''"
      ]
     },
     "execution_count": 84,
     "metadata": {},
     "output_type": "execute_result"
    }
   ],
   "source": [
    "response.document.uri\n"
   ]
  },
  {
   "cell_type": "code",
   "execution_count": null,
   "id": "de292d39-c1b9-4b48-892a-b297145bb91e",
   "metadata": {},
   "outputs": [],
   "source": []
  }
 ],
 "metadata": {
  "environment": {
   "kernel": "python3",
   "name": "tf2-gpu.2-12.m110",
   "type": "gcloud",
   "uri": "gcr.io/deeplearning-platform-release/tf2-gpu.2-12:m110"
  },
  "kernelspec": {
   "display_name": "Python 3",
   "language": "python",
   "name": "python3"
  },
  "language_info": {
   "codemirror_mode": {
    "name": "ipython",
    "version": 3
   },
   "file_extension": ".py",
   "mimetype": "text/x-python",
   "name": "python",
   "nbconvert_exporter": "python",
   "pygments_lexer": "ipython3",
   "version": "3.10.12"
  }
 },
 "nbformat": 4,
 "nbformat_minor": 5
}
