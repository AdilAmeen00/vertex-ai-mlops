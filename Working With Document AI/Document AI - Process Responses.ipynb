{
 "cells": [
  {
   "cell_type": "markdown",
   "id": "14a6bca4-0162-4841-9b77-00c611ff98a6",
   "metadata": {},
   "source": [
    "![ga4](https://www.google-analytics.com/collect?v=2&tid=G-6VDTYWLKX6&cid=1&en=page_view&sid=1&dl=statmike%2Fvertex-ai-mlops%2FWorking+With+Document+AI&dt=Document+AI+-+Process+Responses.ipynb)\n",
    "\n",
    "# Document AI - Process Responses\n",
    "> From the [Working With Document AI](https://github.com/statmike/vertex-ai-mlops/blob/main/Working%20With%20Document%20AI/readme.md) series in the [vertex-ai-mlops](https://github.com/statmike/vertex-ai-mlops/blob/main/readme.md) repository.\n",
    "\n",
    "Document AI is an API where you interact with processors to extract information from documents.  You enable the API, create an instance of a processor in your project, send in document(s), receive back JSON with the extracted information:\n",
    "\n",
    "<p align=\"center\" width=\"100%\"><center>\n",
    "    <img src=\"../architectures/architectures/images/working with/documentai/readme/high_level.png\">\n",
    "</center></p>\n",
    "\n",
    "This workflow covers techniques to extract elements from the responses.  A prior workflow covered all the ways to process a document, or many documents, using Python as the client and is the **prerequisite** for this workflow: [Document AI - Process Documents](./Document%20AI%20-%20Process%20Documents.ipynb). \n",
    "\n"
   ]
  },
  {
   "cell_type": "code",
   "execution_count": null,
   "id": "64c8506d-0614-4d80-8327-f38dcddafdc9",
   "metadata": {},
   "outputs": [],
   "source": [
    "# colab, install, setup here"
   ]
  },
  {
   "cell_type": "markdown",
   "id": "7dbcf03d-1049-49d3-97f5-68bfb6cb5de0",
   "metadata": {},
   "source": [
    "---\n",
    "## Online Responses"
   ]
  },
  {
   "cell_type": "markdown",
   "id": "02c0bf35-def1-4489-8468-697f77136ec0",
   "metadata": {},
   "source": [
    "---\n",
    "## Batch Responses"
   ]
  },
  {
   "cell_type": "markdown",
   "id": "66b34280-355b-4b22-819f-7fc0b64d6ef2",
   "metadata": {},
   "source": [
    "---\n",
    "## Extraction: Python"
   ]
  },
  {
   "cell_type": "markdown",
   "id": "1abb4aad-cffe-4c31-81d4-7d50b5d2c9d2",
   "metadata": {},
   "source": [
    "---\n",
    "## Extraction: BigQuery"
   ]
  },
  {
   "cell_type": "markdown",
   "id": "e0849c3b-56d7-4864-8b4e-d7a5fca3cdc3",
   "metadata": {},
   "source": [
    "---\n",
    "## Extraction: Document AI Toolbox"
   ]
  },
  {
   "cell_type": "code",
   "execution_count": null,
   "id": "d7300349-8b2b-45df-bc2e-319ed8568919",
   "metadata": {},
   "outputs": [],
   "source": []
  },
  {
   "cell_type": "code",
   "execution_count": null,
   "id": "96b4dac8-81c2-4723-8c0c-50db45b8065a",
   "metadata": {},
   "outputs": [],
   "source": []
  }
 ],
 "metadata": {
  "environment": {
   "kernel": "python3",
   "name": "tf2-gpu.2-12.m110",
   "type": "gcloud",
   "uri": "gcr.io/deeplearning-platform-release/tf2-gpu.2-12:m110"
  },
  "kernelspec": {
   "display_name": "Python 3",
   "language": "python",
   "name": "python3"
  },
  "language_info": {
   "codemirror_mode": {
    "name": "ipython",
    "version": 3
   },
   "file_extension": ".py",
   "mimetype": "text/x-python",
   "name": "python",
   "nbconvert_exporter": "python",
   "pygments_lexer": "ipython3",
   "version": "3.10.12"
  }
 },
 "nbformat": 4,
 "nbformat_minor": 5
}
