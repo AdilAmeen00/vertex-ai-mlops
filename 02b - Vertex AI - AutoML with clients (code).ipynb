{
 "cells": [
  {
   "cell_type": "markdown",
   "id": "1ad2b88b",
   "metadata": {},
   "source": [
    "# 02b - Vertex AI - AutoML with clients (code)\n",
    "Use the Vertex AI Python Client to recreate the no-code approach of (02a) with code (Python).  This builds a custom model with AutoML and deploys it to an Endpoint for predictions and explanations.  \n",
    "\n",
    "**Prerequisites:**\n",
    "-  01 - BigQuery - Table Data Source\n",
    "\n",
    "**Overview:**\n",
    "-  Use Python client google.cloud.aiplatform for Vertex AI\n",
    "   -  Create a dataset\n",
    "      -  aiplatform.TabularDataset\n",
    "      -  Link BigQuery table\n",
    "   -  Train Model with AutoML\n",
    "      -  aiplatform.AutoMLTabularTrainingJob\n",
    "   -  Evaluate\n",
    "      -  Review the model in GCP Console > Vertex AI > Models\n",
    "   -  Deploy to Endpoint\n",
    "      -  Endpoint = aiplatform.Endpoint\n",
    "      -  Endpoint.deploy\n",
    "   -  Online Predictions\n",
    "      -  Endpoint.predict\n",
    "   -  Explanations\n",
    "      -  Endpoint.explain\n",
    "   -  Batch Prediction Job\n",
    "      -  aiplatform.BatchPredictionJob\n",
    "\n",
    "**Resources:**\n",
    "-  [Python Client for Vertex AI](https://googleapis.dev/python/aiplatform/latest/aiplatform.html)\n",
    "-  [AutoML Tabular Training Job With Python Client](https://cloud.google.com/vertex-ai/docs/training/automl-api#aiplatform_create_training_pipeline_tabular_classification_sample-python)\n",
    "-  [Interpreting Explanations](https://cloud.google.com/vertex-ai/docs/predictions/interpreting-results-automl#tabular)\n",
    "\n",
    "**Related Training:**\n",
    "-  todo\n"
   ]
  },
  {
   "cell_type": "markdown",
   "id": "4f9fda25",
   "metadata": {},
   "source": [
    "---\n",
    "## Vertex AI - Conceptual Flow\n",
    "\n",
    "<img src=\"architectures/slides/slide_09.png\">\n",
    "\n",
    "---\n",
    "## Vertex AI - Workflow\n",
    "\n",
    "<img src=\"architectures/slides/slide_10.png\">"
   ]
  },
  {
   "cell_type": "markdown",
   "id": "274e9220",
   "metadata": {},
   "source": [
    "---\n",
    "## Setup"
   ]
  },
  {
   "cell_type": "markdown",
   "id": "f5ecbc2a",
   "metadata": {},
   "source": [
    "inputs:"
   ]
  },
  {
   "cell_type": "code",
   "execution_count": 11,
   "id": "2c876ea3",
   "metadata": {},
   "outputs": [],
   "source": [
    "REGION = 'us-central1'\n",
    "PROJECT_ID='statmike-mlops'\n",
    "DATANAME = 'fraud'\n",
    "NOTEBOOK = '02b'\n",
    "\n",
    "# Resources\n",
    "DEPLOY_COMPUTE = 'n1-standard-4'\n",
    "\n",
    "# Model Training\n",
    "VAR_TARGET = 'Class'\n",
    "VAR_OMIT = 'transaction_id' # add more variables to the string with space delimiters"
   ]
  },
  {
   "cell_type": "markdown",
   "id": "766af32d",
   "metadata": {},
   "source": [
    "packages:"
   ]
  },
  {
   "cell_type": "code",
   "execution_count": 12,
   "id": "37cc8f31",
   "metadata": {},
   "outputs": [],
   "source": [
    "from google.cloud import aiplatform\n",
    "from datetime import datetime\n",
    "\n",
    "from google.cloud import bigquery\n",
    "from google.protobuf import json_format\n",
    "from google.protobuf.struct_pb2 import Value\n",
    "import json\n",
    "import numpy as np"
   ]
  },
  {
   "cell_type": "markdown",
   "id": "8eb5d30a",
   "metadata": {},
   "source": [
    "clients:"
   ]
  },
  {
   "cell_type": "code",
   "execution_count": 13,
   "id": "e6ea1163",
   "metadata": {},
   "outputs": [],
   "source": [
    "aiplatform.init(project=PROJECT_ID, location=REGION)\n",
    "bigquery = bigquery.Client()"
   ]
  },
  {
   "cell_type": "markdown",
   "id": "3bc72990",
   "metadata": {},
   "source": [
    "parameters:"
   ]
  },
  {
   "cell_type": "code",
   "execution_count": 14,
   "id": "0aa6724c",
   "metadata": {},
   "outputs": [],
   "source": [
    "TIMESTAMP = datetime.now().strftime(\"%Y%m%d%H%M%S\")\n",
    "DIR = f\"temp/{NOTEBOOK}\""
   ]
  },
  {
   "cell_type": "markdown",
   "id": "6e7aa5a4",
   "metadata": {},
   "source": [
    "environment:"
   ]
  },
  {
   "cell_type": "code",
   "execution_count": 15,
   "id": "839f366e",
   "metadata": {},
   "outputs": [],
   "source": [
    "!rm -rf {DIR}\n",
    "!mkdir -p {DIR}"
   ]
  },
  {
   "cell_type": "markdown",
   "id": "d5815579",
   "metadata": {},
   "source": [
    "---\n",
    "## Create Dataset (link to BigQuery table)"
   ]
  },
  {
   "cell_type": "code",
   "execution_count": 16,
   "id": "8ef3b1e3",
   "metadata": {},
   "outputs": [
    {
     "name": "stdout",
     "output_type": "stream",
     "text": [
      "INFO:google.cloud.aiplatform.datasets.dataset:Creating TabularDataset\n",
      "INFO:google.cloud.aiplatform.datasets.dataset:Create TabularDataset backing LRO: projects/691911073727/locations/us-central1/datasets/5986858405426364416/operations/4298991233679753216\n",
      "INFO:google.cloud.aiplatform.datasets.dataset:TabularDataset created. Resource name: projects/691911073727/locations/us-central1/datasets/5986858405426364416\n",
      "INFO:google.cloud.aiplatform.datasets.dataset:To use this TabularDataset in another session:\n",
      "INFO:google.cloud.aiplatform.datasets.dataset:ds = aiplatform.TabularDataset('projects/691911073727/locations/us-central1/datasets/5986858405426364416')\n"
     ]
    }
   ],
   "source": [
    "dataset = aiplatform.TabularDataset.create(\n",
    "    display_name = f'{NOTEBOOK}_{DATANAME}_{TIMESTAMP}', \n",
    "    bq_source = f'bq://{PROJECT_ID}.{DATANAME}.{DATANAME}_prepped',\n",
    "    labels = {'notebook':f'{NOTEBOOK}'}\n",
    ")"
   ]
  },
  {
   "cell_type": "markdown",
   "id": "46b48275",
   "metadata": {},
   "source": [
    "---\n",
    "## Train Model with AutoML"
   ]
  },
  {
   "cell_type": "code",
   "execution_count": 17,
   "id": "51634455",
   "metadata": {},
   "outputs": [],
   "source": [
    "column_specs = list(set(dataset.column_names) - set(VAR_OMIT.split()) - set([VAR_TARGET, 'splits']))"
   ]
  },
  {
   "cell_type": "code",
   "execution_count": 18,
   "id": "3115cad7",
   "metadata": {},
   "outputs": [],
   "source": [
    "column_specs = dict.fromkeys(column_specs, 'auto')"
   ]
  },
  {
   "cell_type": "code",
   "execution_count": 19,
   "id": "2ada2e66",
   "metadata": {},
   "outputs": [],
   "source": [
    "tabular_classification_job = aiplatform.AutoMLTabularTrainingJob(\n",
    "    display_name = f'{NOTEBOOK}_{DATANAME}_{TIMESTAMP}',\n",
    "    optimization_prediction_type = 'classification',\n",
    "    column_specs = column_specs,\n",
    "    labels = {'notebook':f'{NOTEBOOK}'}\n",
    ")"
   ]
  },
  {
   "cell_type": "code",
   "execution_count": null,
   "id": "d3c1a2f4",
   "metadata": {},
   "outputs": [
    {
     "name": "stdout",
     "output_type": "stream",
     "text": [
      "INFO:google.cloud.aiplatform.training_jobs:View Training:\n",
      "https://console.cloud.google.com/ai/platform/locations/us-central1/training/6762060282496811008?project=691911073727\n",
      "INFO:google.cloud.aiplatform.training_jobs:AutoMLTabularTrainingJob projects/691911073727/locations/us-central1/trainingPipelines/6762060282496811008 current state:\n",
      "PipelineState.PIPELINE_STATE_RUNNING\n",
      "INFO:google.cloud.aiplatform.training_jobs:AutoMLTabularTrainingJob projects/691911073727/locations/us-central1/trainingPipelines/6762060282496811008 current state:\n",
      "PipelineState.PIPELINE_STATE_RUNNING\n",
      "INFO:google.cloud.aiplatform.training_jobs:AutoMLTabularTrainingJob projects/691911073727/locations/us-central1/trainingPipelines/6762060282496811008 current state:\n",
      "PipelineState.PIPELINE_STATE_RUNNING\n",
      "INFO:google.cloud.aiplatform.training_jobs:AutoMLTabularTrainingJob projects/691911073727/locations/us-central1/trainingPipelines/6762060282496811008 current state:\n",
      "PipelineState.PIPELINE_STATE_RUNNING\n",
      "INFO:google.cloud.aiplatform.training_jobs:AutoMLTabularTrainingJob projects/691911073727/locations/us-central1/trainingPipelines/6762060282496811008 current state:\n",
      "PipelineState.PIPELINE_STATE_RUNNING\n",
      "INFO:google.cloud.aiplatform.training_jobs:AutoMLTabularTrainingJob projects/691911073727/locations/us-central1/trainingPipelines/6762060282496811008 current state:\n",
      "PipelineState.PIPELINE_STATE_RUNNING\n",
      "INFO:google.cloud.aiplatform.training_jobs:AutoMLTabularTrainingJob projects/691911073727/locations/us-central1/trainingPipelines/6762060282496811008 current state:\n",
      "PipelineState.PIPELINE_STATE_RUNNING\n",
      "INFO:google.cloud.aiplatform.training_jobs:AutoMLTabularTrainingJob projects/691911073727/locations/us-central1/trainingPipelines/6762060282496811008 current state:\n",
      "PipelineState.PIPELINE_STATE_RUNNING\n",
      "INFO:google.cloud.aiplatform.training_jobs:AutoMLTabularTrainingJob projects/691911073727/locations/us-central1/trainingPipelines/6762060282496811008 current state:\n",
      "PipelineState.PIPELINE_STATE_RUNNING\n",
      "INFO:google.cloud.aiplatform.training_jobs:AutoMLTabularTrainingJob projects/691911073727/locations/us-central1/trainingPipelines/6762060282496811008 current state:\n",
      "PipelineState.PIPELINE_STATE_RUNNING\n",
      "INFO:google.cloud.aiplatform.training_jobs:AutoMLTabularTrainingJob projects/691911073727/locations/us-central1/trainingPipelines/6762060282496811008 current state:\n",
      "PipelineState.PIPELINE_STATE_RUNNING\n",
      "INFO:google.cloud.aiplatform.training_jobs:AutoMLTabularTrainingJob projects/691911073727/locations/us-central1/trainingPipelines/6762060282496811008 current state:\n",
      "PipelineState.PIPELINE_STATE_RUNNING\n"
     ]
    }
   ],
   "source": [
    "model = tabular_classification_job.run(\n",
    "    dataset = dataset,\n",
    "    target_column = VAR_TARGET,\n",
    "    predefined_split_column_name = 'splits',\n",
    "    #    training_fraction_split = 0.8,\n",
    "    #    validation_fraction_split = 0.1,\n",
    "    #    test_fraction_split = 0.1,\n",
    "    budget_milli_node_hours = 1000,\n",
    "    model_display_name = f'{NOTEBOOK}_{DATANAME}_{TIMESTAMP}',\n",
    "    disable_early_stopping = False,\n",
    "    model_labels = {'notebook':f'{NOTEBOOK}'}\n",
    ")"
   ]
  },
  {
   "cell_type": "markdown",
   "id": "3ef3a49d",
   "metadata": {},
   "source": [
    "---\n",
    "## Endpoint and Deployment"
   ]
  },
  {
   "cell_type": "code",
   "execution_count": 21,
   "id": "f2e1d5e5",
   "metadata": {},
   "outputs": [
    {
     "name": "stdout",
     "output_type": "stream",
     "text": [
      "INFO:google.cloud.aiplatform.models:Creating Endpoint\n",
      "INFO:google.cloud.aiplatform.models:Create Endpoint backing LRO: projects/691911073727/locations/us-central1/endpoints/6528513017640910848/operations/6803696313939525632\n",
      "INFO:google.cloud.aiplatform.models:Endpoint created. Resource name: projects/691911073727/locations/us-central1/endpoints/6528513017640910848\n",
      "INFO:google.cloud.aiplatform.models:To use this Endpoint in another session:\n",
      "INFO:google.cloud.aiplatform.models:endpoint = aiplatform.Endpoint('projects/691911073727/locations/us-central1/endpoints/6528513017640910848')\n"
     ]
    }
   ],
   "source": [
    "endpoint = aiplatform.Endpoint.create(\n",
    "    display_name = f'{NOTEBOOK}_{DATANAME}_{TIMESTAMP}',\n",
    "    labels = {'notebook':f'{NOTEBOOK}'}\n",
    ")"
   ]
  },
  {
   "cell_type": "code",
   "execution_count": 22,
   "id": "7300dff3",
   "metadata": {},
   "outputs": [
    {
     "name": "stdout",
     "output_type": "stream",
     "text": [
      "INFO:google.cloud.aiplatform.models:Deploying Model projects/691911073727/locations/us-central1/models/5620624276353712128 to Endpoint : projects/691911073727/locations/us-central1/endpoints/6528513017640910848\n",
      "INFO:google.cloud.aiplatform.models:Deploy Endpoint model backing LRO: projects/691911073727/locations/us-central1/endpoints/6528513017640910848/operations/4705018887584874496\n",
      "INFO:google.cloud.aiplatform.models:Endpoint model deployed. Resource name: projects/691911073727/locations/us-central1/endpoints/6528513017640910848\n"
     ]
    }
   ],
   "source": [
    "endpoint.deploy(\n",
    "    model = model,\n",
    "    deployed_model_display_name = f'{NOTEBOOK}_{DATANAME}_{TIMESTAMP}',\n",
    "    traffic_percentage = 100,\n",
    "    machine_type = DEPLOY_COMPUTE,\n",
    "    min_replica_count = 1,\n",
    "    max_replica_count = 1\n",
    ")"
   ]
  },
  {
   "cell_type": "markdown",
   "id": "a15d96ee",
   "metadata": {},
   "source": [
    "---\n",
    "## Prediction"
   ]
  },
  {
   "cell_type": "markdown",
   "id": "13e324b8",
   "metadata": {},
   "source": [
    "### Prepare a record for prediction: instance and parameters lists"
   ]
  },
  {
   "cell_type": "code",
   "execution_count": 23,
   "id": "7148bd5b",
   "metadata": {},
   "outputs": [],
   "source": [
    "pred = bigquery.query(query = f\"SELECT * FROM {DATANAME}.{DATANAME}_prepped WHERE splits='TEST' LIMIT 10\").to_dataframe()"
   ]
  },
  {
   "cell_type": "code",
   "execution_count": 24,
   "id": "9055ac97",
   "metadata": {},
   "outputs": [
    {
     "data": {
      "text/html": [
       "<div>\n",
       "<style scoped>\n",
       "    .dataframe tbody tr th:only-of-type {\n",
       "        vertical-align: middle;\n",
       "    }\n",
       "\n",
       "    .dataframe tbody tr th {\n",
       "        vertical-align: top;\n",
       "    }\n",
       "\n",
       "    .dataframe thead th {\n",
       "        text-align: right;\n",
       "    }\n",
       "</style>\n",
       "<table border=\"1\" class=\"dataframe\">\n",
       "  <thead>\n",
       "    <tr style=\"text-align: right;\">\n",
       "      <th></th>\n",
       "      <th>Time</th>\n",
       "      <th>V1</th>\n",
       "      <th>V2</th>\n",
       "      <th>V3</th>\n",
       "      <th>V4</th>\n",
       "      <th>V5</th>\n",
       "      <th>V6</th>\n",
       "      <th>V7</th>\n",
       "      <th>V8</th>\n",
       "      <th>V9</th>\n",
       "      <th>...</th>\n",
       "      <th>V23</th>\n",
       "      <th>V24</th>\n",
       "      <th>V25</th>\n",
       "      <th>V26</th>\n",
       "      <th>V27</th>\n",
       "      <th>V28</th>\n",
       "      <th>Amount</th>\n",
       "      <th>Class</th>\n",
       "      <th>transaction_id</th>\n",
       "      <th>splits</th>\n",
       "    </tr>\n",
       "  </thead>\n",
       "  <tbody>\n",
       "    <tr>\n",
       "      <th>0</th>\n",
       "      <td>46100</td>\n",
       "      <td>0.971963</td>\n",
       "      <td>-0.064002</td>\n",
       "      <td>1.864457</td>\n",
       "      <td>2.521220</td>\n",
       "      <td>-0.700822</td>\n",
       "      <td>1.660426</td>\n",
       "      <td>-1.206327</td>\n",
       "      <td>0.717368</td>\n",
       "      <td>0.170900</td>\n",
       "      <td>...</td>\n",
       "      <td>-0.005019</td>\n",
       "      <td>-0.259129</td>\n",
       "      <td>0.152646</td>\n",
       "      <td>0.207666</td>\n",
       "      <td>0.093585</td>\n",
       "      <td>0.022994</td>\n",
       "      <td>0.0</td>\n",
       "      <td>0</td>\n",
       "      <td>3eddd943-117e-4ba9-a09b-c0e2fe8c5647</td>\n",
       "      <td>TEST</td>\n",
       "    </tr>\n",
       "    <tr>\n",
       "      <th>1</th>\n",
       "      <td>80430</td>\n",
       "      <td>-0.929700</td>\n",
       "      <td>0.194664</td>\n",
       "      <td>1.549227</td>\n",
       "      <td>1.693430</td>\n",
       "      <td>1.038639</td>\n",
       "      <td>-0.214545</td>\n",
       "      <td>-0.032843</td>\n",
       "      <td>0.248009</td>\n",
       "      <td>-0.598265</td>\n",
       "      <td>...</td>\n",
       "      <td>0.263542</td>\n",
       "      <td>-0.060427</td>\n",
       "      <td>-1.227930</td>\n",
       "      <td>-0.634669</td>\n",
       "      <td>0.062523</td>\n",
       "      <td>0.343741</td>\n",
       "      <td>0.0</td>\n",
       "      <td>0</td>\n",
       "      <td>8f25f7a0-63a0-4a7b-a0de-cdebe813ccee</td>\n",
       "      <td>TEST</td>\n",
       "    </tr>\n",
       "    <tr>\n",
       "      <th>2</th>\n",
       "      <td>123919</td>\n",
       "      <td>1.890586</td>\n",
       "      <td>0.271313</td>\n",
       "      <td>-0.157228</td>\n",
       "      <td>4.064907</td>\n",
       "      <td>-0.109914</td>\n",
       "      <td>0.150175</td>\n",
       "      <td>-0.230044</td>\n",
       "      <td>0.061367</td>\n",
       "      <td>-0.119159</td>\n",
       "      <td>...</td>\n",
       "      <td>0.092487</td>\n",
       "      <td>0.030498</td>\n",
       "      <td>0.074608</td>\n",
       "      <td>0.134964</td>\n",
       "      <td>-0.008043</td>\n",
       "      <td>-0.048927</td>\n",
       "      <td>0.0</td>\n",
       "      <td>0</td>\n",
       "      <td>a0da598e-391b-4b9b-a0ba-f8977d0b43b0</td>\n",
       "      <td>TEST</td>\n",
       "    </tr>\n",
       "    <tr>\n",
       "      <th>3</th>\n",
       "      <td>141191</td>\n",
       "      <td>-2.857621</td>\n",
       "      <td>-0.307727</td>\n",
       "      <td>1.521266</td>\n",
       "      <td>4.500119</td>\n",
       "      <td>1.812809</td>\n",
       "      <td>2.276221</td>\n",
       "      <td>-0.425395</td>\n",
       "      <td>0.895603</td>\n",
       "      <td>-1.564402</td>\n",
       "      <td>...</td>\n",
       "      <td>1.374592</td>\n",
       "      <td>-1.723268</td>\n",
       "      <td>0.127809</td>\n",
       "      <td>0.207510</td>\n",
       "      <td>-0.082130</td>\n",
       "      <td>-0.009999</td>\n",
       "      <td>0.0</td>\n",
       "      <td>0</td>\n",
       "      <td>7159db57-0ebd-4b99-a1b4-de6996ae0bd7</td>\n",
       "      <td>TEST</td>\n",
       "    </tr>\n",
       "  </tbody>\n",
       "</table>\n",
       "<p>4 rows × 33 columns</p>\n",
       "</div>"
      ],
      "text/plain": [
       "     Time        V1        V2        V3        V4        V5        V6  \\\n",
       "0   46100  0.971963 -0.064002  1.864457  2.521220 -0.700822  1.660426   \n",
       "1   80430 -0.929700  0.194664  1.549227  1.693430  1.038639 -0.214545   \n",
       "2  123919  1.890586  0.271313 -0.157228  4.064907 -0.109914  0.150175   \n",
       "3  141191 -2.857621 -0.307727  1.521266  4.500119  1.812809  2.276221   \n",
       "\n",
       "         V7        V8        V9  ...       V23       V24       V25       V26  \\\n",
       "0 -1.206327  0.717368  0.170900  ... -0.005019 -0.259129  0.152646  0.207666   \n",
       "1 -0.032843  0.248009 -0.598265  ...  0.263542 -0.060427 -1.227930 -0.634669   \n",
       "2 -0.230044  0.061367 -0.119159  ...  0.092487  0.030498  0.074608  0.134964   \n",
       "3 -0.425395  0.895603 -1.564402  ...  1.374592 -1.723268  0.127809  0.207510   \n",
       "\n",
       "        V27       V28  Amount  Class                        transaction_id  \\\n",
       "0  0.093585  0.022994     0.0      0  3eddd943-117e-4ba9-a09b-c0e2fe8c5647   \n",
       "1  0.062523  0.343741     0.0      0  8f25f7a0-63a0-4a7b-a0de-cdebe813ccee   \n",
       "2 -0.008043 -0.048927     0.0      0  a0da598e-391b-4b9b-a0ba-f8977d0b43b0   \n",
       "3 -0.082130 -0.009999     0.0      0  7159db57-0ebd-4b99-a1b4-de6996ae0bd7   \n",
       "\n",
       "   splits  \n",
       "0    TEST  \n",
       "1    TEST  \n",
       "2    TEST  \n",
       "3    TEST  \n",
       "\n",
       "[4 rows x 33 columns]"
      ]
     },
     "execution_count": 24,
     "metadata": {},
     "output_type": "execute_result"
    }
   ],
   "source": [
    "pred.head(4)"
   ]
  },
  {
   "cell_type": "code",
   "execution_count": 25,
   "id": "f2f80ac2",
   "metadata": {},
   "outputs": [],
   "source": [
    "newob = pred[pred.columns[~pred.columns.isin(VAR_OMIT.split()+[VAR_TARGET, 'splits'])]].to_dict(orient='records')[0]\n",
    "#newob"
   ]
  },
  {
   "cell_type": "markdown",
   "id": "64909cc0",
   "metadata": {},
   "source": [
    "Need to understand the format of variables that the predictions expect.  AutoML may convert the type of some variables. The following cells retrieve the model from the endpoint and its schemata:"
   ]
  },
  {
   "cell_type": "code",
   "execution_count": 26,
   "id": "0b155fd4",
   "metadata": {},
   "outputs": [],
   "source": [
    "newob['Time'] = str(newob['Time'])"
   ]
  },
  {
   "cell_type": "code",
   "execution_count": 27,
   "id": "44a386d9",
   "metadata": {},
   "outputs": [],
   "source": [
    "instances = [json_format.ParseDict(newob, Value())]\n",
    "parameters = json_format.ParseDict({}, Value())"
   ]
  },
  {
   "cell_type": "markdown",
   "id": "6fa715ce",
   "metadata": {},
   "source": [
    "### Get Predictions: Python Client"
   ]
  },
  {
   "cell_type": "code",
   "execution_count": 28,
   "id": "b6f11350",
   "metadata": {},
   "outputs": [],
   "source": [
    "prediction = endpoint.predict(instances=instances, parameters=parameters)"
   ]
  },
  {
   "cell_type": "code",
   "execution_count": 29,
   "id": "063eba38",
   "metadata": {},
   "outputs": [
    {
     "data": {
      "text/plain": [
       "Prediction(predictions=[{'classes': ['0', '1'], 'scores': [0.9869029521942139, 0.01309695094823837]}], deployed_model_id='2569101277275357184', explanations=None)"
      ]
     },
     "execution_count": 29,
     "metadata": {},
     "output_type": "execute_result"
    }
   ],
   "source": [
    "prediction"
   ]
  },
  {
   "cell_type": "code",
   "execution_count": 30,
   "id": "30a5f2c7",
   "metadata": {},
   "outputs": [
    {
     "data": {
      "text/plain": [
       "'0'"
      ]
     },
     "execution_count": 30,
     "metadata": {},
     "output_type": "execute_result"
    }
   ],
   "source": [
    "prediction.predictions[0]['classes'][np.argmax(prediction.predictions[0]['scores'])]"
   ]
  },
  {
   "cell_type": "markdown",
   "id": "37ff1640",
   "metadata": {},
   "source": [
    "### Get Predictions: REST"
   ]
  },
  {
   "cell_type": "code",
   "execution_count": 31,
   "id": "7c268d6d",
   "metadata": {},
   "outputs": [],
   "source": [
    "with open(f'{DIR}/request.json','w') as file:\n",
    "    file.write(json.dumps({\"instances\": [newob]}))"
   ]
  },
  {
   "cell_type": "code",
   "execution_count": 32,
   "id": "2edca20a",
   "metadata": {},
   "outputs": [
    {
     "name": "stdout",
     "output_type": "stream",
     "text": [
      "{\n",
      "  \"predictions\": [\n",
      "    {\n",
      "      \"classes\": [\n",
      "        \"0\",\n",
      "        \"1\"\n",
      "      ],\n",
      "      \"scores\": [\n",
      "        0.98690295219421387,\n",
      "        0.013096950948238369\n",
      "      ]\n",
      "    }\n",
      "  ],\n",
      "  \"deployedModelId\": \"2569101277275357184\",\n",
      "  \"model\": \"projects/691911073727/locations/us-central1/models/5620624276353712128\",\n",
      "  \"modelDisplayName\": \"02b_fraud_20210929193301\"\n",
      "}\n"
     ]
    }
   ],
   "source": [
    "!curl -X POST \\\n",
    "-H \"Authorization: Bearer \"$(gcloud auth application-default print-access-token) \\\n",
    "-H \"Content-Type: application/json; charset=utf-8\" \\\n",
    "-d @{DIR}/request.json \\\n",
    "https://{REGION}-aiplatform.googleapis.com/v1/{endpoint.resource_name}:predict"
   ]
  },
  {
   "cell_type": "markdown",
   "id": "17d3a22b",
   "metadata": {},
   "source": [
    "### Get Predictions: gcloud (CLI)"
   ]
  },
  {
   "cell_type": "code",
   "execution_count": 33,
   "id": "2621a2e3",
   "metadata": {},
   "outputs": [
    {
     "name": "stdout",
     "output_type": "stream",
     "text": [
      "Using endpoint [https://us-central1-prediction-aiplatform.googleapis.com/]\n",
      "[{'classes': ['0', '1'], 'scores': [0.9869029521942139, 0.01309695094823837]}]\n"
     ]
    }
   ],
   "source": [
    "!gcloud beta ai endpoints predict {endpoint.name.rsplit('/',1)[-1]} --region={REGION} --json-request={DIR}/request.json"
   ]
  },
  {
   "cell_type": "markdown",
   "id": "1c214f08",
   "metadata": {},
   "source": [
    "### Batch Predictions: BigQuery Source to BigQuery Destination, with Explanations"
   ]
  },
  {
   "cell_type": "code",
   "execution_count": 59,
   "id": "71448467",
   "metadata": {},
   "outputs": [
    {
     "name": "stdout",
     "output_type": "stream",
     "text": [
      "INFO:google.cloud.aiplatform.jobs:Creating BatchPredictionJob\n",
      "INFO:google.cloud.aiplatform.jobs:BatchPredictionJob created. Resource name: projects/691911073727/locations/us-central1/batchPredictionJobs/7908657396220690432\n",
      "INFO:google.cloud.aiplatform.jobs:To use this BatchPredictionJob in another session:\n",
      "INFO:google.cloud.aiplatform.jobs:bpj = aiplatform.BatchPredictionJob('projects/691911073727/locations/us-central1/batchPredictionJobs/7908657396220690432')\n",
      "INFO:google.cloud.aiplatform.jobs:View Batch Prediction Job:\n",
      "https://console.cloud.google.com/ai/platform/locations/us-central1/batch-predictions/7908657396220690432?project=691911073727\n",
      "INFO:google.cloud.aiplatform.jobs:BatchPredictionJob projects/691911073727/locations/us-central1/batchPredictionJobs/7908657396220690432 current state:\n",
      "JobState.JOB_STATE_RUNNING\n",
      "INFO:google.cloud.aiplatform.jobs:BatchPredictionJob projects/691911073727/locations/us-central1/batchPredictionJobs/7908657396220690432 current state:\n",
      "JobState.JOB_STATE_RUNNING\n",
      "INFO:google.cloud.aiplatform.jobs:BatchPredictionJob projects/691911073727/locations/us-central1/batchPredictionJobs/7908657396220690432 current state:\n",
      "JobState.JOB_STATE_RUNNING\n",
      "INFO:google.cloud.aiplatform.jobs:BatchPredictionJob projects/691911073727/locations/us-central1/batchPredictionJobs/7908657396220690432 current state:\n",
      "JobState.JOB_STATE_RUNNING\n",
      "INFO:google.cloud.aiplatform.jobs:BatchPredictionJob projects/691911073727/locations/us-central1/batchPredictionJobs/7908657396220690432 current state:\n",
      "JobState.JOB_STATE_RUNNING\n",
      "INFO:google.cloud.aiplatform.jobs:BatchPredictionJob projects/691911073727/locations/us-central1/batchPredictionJobs/7908657396220690432 current state:\n",
      "JobState.JOB_STATE_RUNNING\n",
      "INFO:google.cloud.aiplatform.jobs:BatchPredictionJob projects/691911073727/locations/us-central1/batchPredictionJobs/7908657396220690432 current state:\n",
      "JobState.JOB_STATE_RUNNING\n",
      "INFO:google.cloud.aiplatform.jobs:BatchPredictionJob projects/691911073727/locations/us-central1/batchPredictionJobs/7908657396220690432 current state:\n",
      "JobState.JOB_STATE_RUNNING\n",
      "INFO:google.cloud.aiplatform.jobs:BatchPredictionJob projects/691911073727/locations/us-central1/batchPredictionJobs/7908657396220690432 current state:\n",
      "JobState.JOB_STATE_RUNNING\n",
      "INFO:google.cloud.aiplatform.jobs:BatchPredictionJob projects/691911073727/locations/us-central1/batchPredictionJobs/7908657396220690432 current state:\n",
      "JobState.JOB_STATE_RUNNING\n",
      "INFO:google.cloud.aiplatform.jobs:BatchPredictionJob projects/691911073727/locations/us-central1/batchPredictionJobs/7908657396220690432 current state:\n",
      "JobState.JOB_STATE_SUCCEEDED\n",
      "INFO:google.cloud.aiplatform.jobs:BatchPredictionJob run completed. Resource name: projects/691911073727/locations/us-central1/batchPredictionJobs/7908657396220690432\n"
     ]
    }
   ],
   "source": [
    "batch = aiplatform.BatchPredictionJob.create(\n",
    "    job_display_name = f'{NOTEBOOK}_{DATANAME}_{TIMESTAMP}',\n",
    "    model_name = model.name,\n",
    "    instances_format = \"bigquery\",\n",
    "    predictions_format = \"bigquery\",\n",
    "    bigquery_source = f'bq://{PROJECT_ID}.{DATANAME}.{DATANAME}_prepped',\n",
    "    bigquery_destination_prefix = f\"{PROJECT_ID}\",\n",
    "    generate_explanation = True,\n",
    "    labels = {'notebook':f'{NOTEBOOK}'}\n",
    ")"
   ]
  },
  {
   "cell_type": "markdown",
   "id": "aa2dbae2",
   "metadata": {},
   "source": [
    "---\n",
    "## Explanations\n",
    "Interpretation Guide\n",
    "- https://cloud.google.com/vertex-ai/docs/predictions/interpreting-results-automl#tabular"
   ]
  },
  {
   "cell_type": "code",
   "execution_count": 34,
   "id": "b44aedf4",
   "metadata": {},
   "outputs": [],
   "source": [
    "explanation = endpoint.explain(instances=instances, parameters=parameters)"
   ]
  },
  {
   "cell_type": "code",
   "execution_count": 35,
   "id": "d64bcf23",
   "metadata": {},
   "outputs": [
    {
     "data": {
      "text/plain": [
       "[{'classes': ['0', '1'], 'scores': [0.9869029521942139, 0.01309695094823837]}]"
      ]
     },
     "execution_count": 35,
     "metadata": {},
     "output_type": "execute_result"
    }
   ],
   "source": [
    "explanation.predictions"
   ]
  },
  {
   "cell_type": "code",
   "execution_count": 36,
   "id": "5665a357",
   "metadata": {},
   "outputs": [
    {
     "name": "stdout",
     "output_type": "stream",
     "text": [
      "attribution:\n",
      "baseline output 0.9908671379089355\n",
      "instance output 0.9869030714035034\n",
      "output_index [0]\n",
      "output display value 0\n",
      "approximation error 0.005506911401272204\n"
     ]
    }
   ],
   "source": [
    "print(\"attribution:\")\n",
    "print(\"baseline output\",explanation.explanations[0].attributions[0].baseline_output_value)\n",
    "print(\"instance output\",explanation.explanations[0].attributions[0].instance_output_value)\n",
    "print(\"output_index\",explanation.explanations[0].attributions[0].output_index)\n",
    "print(\"output display value\",explanation.explanations[0].attributions[0].output_display_name)\n",
    "print(\"approximation error\",explanation.explanations[0].attributions[0].approximation_error)"
   ]
  },
  {
   "cell_type": "code",
   "execution_count": 37,
   "id": "f4658234",
   "metadata": {},
   "outputs": [
    {
     "data": {
      "text/plain": [
       "baseline_output_value: 0.9908671379089355\n",
       "instance_output_value: 0.9869030714035034\n",
       "feature_attributions {\n",
       "  struct_value {\n",
       "    fields {\n",
       "      key: \"Amount\"\n",
       "      value {\n",
       "        number_value: -3.004736370510525e-05\n",
       "      }\n",
       "    }\n",
       "    fields {\n",
       "      key: \"Time\"\n",
       "      value {\n",
       "        number_value: -3.077586491902669e-05\n",
       "      }\n",
       "    }\n",
       "    fields {\n",
       "      key: \"V1\"\n",
       "      value {\n",
       "        number_value: 0.001845134629143609\n",
       "      }\n",
       "    }\n",
       "    fields {\n",
       "      key: \"V10\"\n",
       "      value {\n",
       "        number_value: 0.004102441999647353\n",
       "      }\n",
       "    }\n",
       "    fields {\n",
       "      key: \"V11\"\n",
       "      value {\n",
       "        number_value: -0.004686315854390462\n",
       "      }\n",
       "    }\n",
       "    fields {\n",
       "      key: \"V12\"\n",
       "      value {\n",
       "        number_value: 0.003018061319986979\n",
       "      }\n",
       "    }\n",
       "    fields {\n",
       "      key: \"V13\"\n",
       "      value {\n",
       "        number_value: -8.794334199693467e-05\n",
       "      }\n",
       "    }\n",
       "    fields {\n",
       "      key: \"V14\"\n",
       "      value {\n",
       "        number_value: -0.001820292737748888\n",
       "      }\n",
       "    }\n",
       "    fields {\n",
       "      key: \"V15\"\n",
       "      value {\n",
       "        number_value: -9.584426879882812e-05\n",
       "      }\n",
       "    }\n",
       "    fields {\n",
       "      key: \"V16\"\n",
       "      value {\n",
       "        number_value: 0.001308593485090468\n",
       "      }\n",
       "    }\n",
       "    fields {\n",
       "      key: \"V17\"\n",
       "      value {\n",
       "        number_value: -0.0001469386948479546\n",
       "      }\n",
       "    }\n",
       "    fields {\n",
       "      key: \"V18\"\n",
       "      value {\n",
       "        number_value: -2.011987898084852e-05\n",
       "      }\n",
       "    }\n",
       "    fields {\n",
       "      key: \"V19\"\n",
       "      value {\n",
       "        number_value: -0.0007106860478719076\n",
       "      }\n",
       "    }\n",
       "    fields {\n",
       "      key: \"V2\"\n",
       "      value {\n",
       "        number_value: 7.463826073540582e-06\n",
       "      }\n",
       "    }\n",
       "    fields {\n",
       "      key: \"V20\"\n",
       "      value {\n",
       "        number_value: -6.700886620415581e-05\n",
       "      }\n",
       "    }\n",
       "    fields {\n",
       "      key: \"V21\"\n",
       "      value {\n",
       "        number_value: -0.0008599758148193359\n",
       "      }\n",
       "    }\n",
       "    fields {\n",
       "      key: \"V22\"\n",
       "      value {\n",
       "        number_value: -0.0003467467096116808\n",
       "      }\n",
       "    }\n",
       "    fields {\n",
       "      key: \"V23\"\n",
       "      value {\n",
       "        number_value: 4.467036989000109e-05\n",
       "      }\n",
       "    }\n",
       "    fields {\n",
       "      key: \"V24\"\n",
       "      value {\n",
       "        number_value: -0.0009943644205729167\n",
       "      }\n",
       "    }\n",
       "    fields {\n",
       "      key: \"V25\"\n",
       "      value {\n",
       "        number_value: 8.055236604478624e-05\n",
       "      }\n",
       "    }\n",
       "    fields {\n",
       "      key: \"V26\"\n",
       "      value {\n",
       "        number_value: -6.497568554348416e-05\n",
       "      }\n",
       "    }\n",
       "    fields {\n",
       "      key: \"V27\"\n",
       "      value {\n",
       "        number_value: -0.000344501601325141\n",
       "      }\n",
       "    }\n",
       "    fields {\n",
       "      key: \"V28\"\n",
       "      value {\n",
       "        number_value: -2.652406692504883e-05\n",
       "      }\n",
       "    }\n",
       "    fields {\n",
       "      key: \"V3\"\n",
       "      value {\n",
       "        number_value: 0.004529231124454075\n",
       "      }\n",
       "    }\n",
       "    fields {\n",
       "      key: \"V4\"\n",
       "      value {\n",
       "        number_value: -0.01096773809856839\n",
       "      }\n",
       "    }\n",
       "    fields {\n",
       "      key: \"V5\"\n",
       "      value {\n",
       "        number_value: -0.000120944446987576\n",
       "      }\n",
       "    }\n",
       "    fields {\n",
       "      key: \"V6\"\n",
       "      value {\n",
       "        number_value: 0.001797470781538222\n",
       "      }\n",
       "    }\n",
       "    fields {\n",
       "      key: \"V7\"\n",
       "      value {\n",
       "        number_value: -0.002379265096452501\n",
       "      }\n",
       "    }\n",
       "    fields {\n",
       "      key: \"V8\"\n",
       "      value {\n",
       "        number_value: 0.002512322531806098\n",
       "      }\n",
       "    }\n",
       "    fields {\n",
       "      key: \"V9\"\n",
       "      value {\n",
       "        number_value: 0.0005909469392564562\n",
       "      }\n",
       "    }\n",
       "  }\n",
       "}\n",
       "output_index: 0\n",
       "output_display_name: \"0\"\n",
       "approximation_error: 0.005506911401272204\n",
       "output_name: \"scores\""
      ]
     },
     "execution_count": 37,
     "metadata": {},
     "output_type": "execute_result"
    }
   ],
   "source": [
    "explanation.explanations[0].attributions[0]"
   ]
  },
  {
   "cell_type": "markdown",
   "id": "c89d3b3d",
   "metadata": {},
   "source": [
    "---\n",
    "## Remove Resources\n",
    "see notebook \"XX - Cleanup\""
   ]
  }
 ],
 "metadata": {
  "environment": {
   "name": "tf2-gpu.2-3.m80",
   "type": "gcloud",
   "uri": "gcr.io/deeplearning-platform-release/tf2-gpu.2-3:m80"
  },
  "kernelspec": {
   "display_name": "Python 3",
   "language": "python",
   "name": "python3"
  },
  "language_info": {
   "codemirror_mode": {
    "name": "ipython",
    "version": 3
   },
   "file_extension": ".py",
   "mimetype": "text/x-python",
   "name": "python",
   "nbconvert_exporter": "python",
   "pygments_lexer": "ipython3",
   "version": "3.7.10"
  }
 },
 "nbformat": 4,
 "nbformat_minor": 5
}
