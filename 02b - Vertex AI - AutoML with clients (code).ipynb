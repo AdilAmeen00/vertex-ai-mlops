{
 "cells": [
  {
   "cell_type": "markdown",
   "id": "1ad2b88b",
   "metadata": {},
   "source": [
    "# 02b - Vertex AI - AutoML with clients (code)\n",
    "Use the Vertex AI Python Client to recreate the no-code approach of (02a) with code (Python).  This builds a custom model with AutoML and deploys it to an Endpoint for predictions and explanations.  \n",
    "\n",
    "**Prerequisites:**\n",
    "-  01 - BigQuery - Table Data Source\n",
    "\n",
    "**Overview:**\n",
    "-  Use Python client google.cloud.aiplatform for Vertex AI\n",
    "   -  Create a dataset\n",
    "      -  aiplatform.TabularDataset\n",
    "      -  Link BigQuery table\n",
    "   -  Train Model with AutoML\n",
    "      -  aiplatform.AutoMLTabularTrainingJob\n",
    "   -  Evaluate\n",
    "      -  Review the model in GCP Console > Vertex AI > Models\n",
    "   -  Deploy to Endpoint\n",
    "      -  Endpoint = aiplatform.Endpoint\n",
    "      -  Endpoint.deploy\n",
    "   -  Online Predictions\n",
    "      -  Endpoint.predict\n",
    "   -  Explanations\n",
    "      -  Endpoint.explain\n",
    "   -  Batch Prediction Job\n",
    "      -  aiplatform.BatchPredictionJob\n",
    "\n",
    "**Resources:**\n",
    "-  [Python Client for Vertex AI](https://googleapis.dev/python/aiplatform/latest/aiplatform.html)\n",
    "-  [AutoML Tabular Training Job With Python Client](https://cloud.google.com/vertex-ai/docs/training/automl-api#aiplatform_create_training_pipeline_tabular_classification_sample-python)\n",
    "-  [Interpreting Explanations](https://cloud.google.com/vertex-ai/docs/predictions/interpreting-results-automl#tabular)\n",
    "\n",
    "**Related Training:**\n",
    "-  todo\n"
   ]
  },
  {
   "cell_type": "markdown",
   "id": "4f9fda25",
   "metadata": {},
   "source": [
    "---\n",
    "## Vertex AI - Conceptual Flow\n",
    "\n",
    "<img src=\"architectures/slides/slide_09.png\">\n",
    "\n",
    "---\n",
    "## Vertex AI - Workflow\n",
    "\n",
    "<img src=\"architectures/slides/slide_10.png\">"
   ]
  },
  {
   "cell_type": "markdown",
   "id": "274e9220",
   "metadata": {},
   "source": [
    "---\n",
    "## Setup"
   ]
  },
  {
   "cell_type": "markdown",
   "id": "f5ecbc2a",
   "metadata": {},
   "source": [
    "inputs:"
   ]
  },
  {
   "cell_type": "code",
   "execution_count": 1,
   "id": "2c876ea3",
   "metadata": {},
   "outputs": [],
   "source": [
    "REGION = 'us-central1'\n",
    "PROJECT_ID='statmike-mlops'\n",
    "DATANAME = 'fraud'\n",
    "NOTEBOOK = '02b'\n",
    "\n",
    "# Resources\n",
    "DEPLOY_COMPUTE = 'n1-standard-4'\n",
    "\n",
    "# Model Training\n",
    "VAR_TARGET = 'Class'\n",
    "VAR_OMIT = 'transaction_id' # add more variables to the string with space delimiters"
   ]
  },
  {
   "cell_type": "markdown",
   "id": "766af32d",
   "metadata": {},
   "source": [
    "packages:"
   ]
  },
  {
   "cell_type": "code",
   "execution_count": 2,
   "id": "37cc8f31",
   "metadata": {},
   "outputs": [],
   "source": [
    "from google.cloud import aiplatform\n",
    "from datetime import datetime\n",
    "\n",
    "from google.cloud import bigquery\n",
    "from google.protobuf import json_format\n",
    "from google.protobuf.struct_pb2 import Value\n",
    "import json\n",
    "import numpy as np"
   ]
  },
  {
   "cell_type": "markdown",
   "id": "8eb5d30a",
   "metadata": {},
   "source": [
    "clients:"
   ]
  },
  {
   "cell_type": "code",
   "execution_count": 3,
   "id": "e6ea1163",
   "metadata": {},
   "outputs": [],
   "source": [
    "aiplatform.init(project=PROJECT_ID, location=REGION)\n",
    "bigquery = bigquery.Client()"
   ]
  },
  {
   "cell_type": "markdown",
   "id": "3bc72990",
   "metadata": {},
   "source": [
    "parameters:"
   ]
  },
  {
   "cell_type": "code",
   "execution_count": 4,
   "id": "0aa6724c",
   "metadata": {},
   "outputs": [],
   "source": [
    "TIMESTAMP = datetime.now().strftime(\"%Y%m%d%H%M%S\")\n",
    "DIR = f\"temp/{NOTEBOOK}\""
   ]
  },
  {
   "cell_type": "markdown",
   "id": "6e7aa5a4",
   "metadata": {},
   "source": [
    "environment:"
   ]
  },
  {
   "cell_type": "code",
   "execution_count": 5,
   "id": "839f366e",
   "metadata": {},
   "outputs": [],
   "source": [
    "!rm -rf {DIR}\n",
    "!mkdir -p {DIR}"
   ]
  },
  {
   "cell_type": "markdown",
   "id": "d5815579",
   "metadata": {},
   "source": [
    "---\n",
    "## Create Dataset (link to BigQuery table)"
   ]
  },
  {
   "cell_type": "code",
   "execution_count": 6,
   "id": "8ef3b1e3",
   "metadata": {},
   "outputs": [
    {
     "name": "stdout",
     "output_type": "stream",
     "text": [
      "INFO:google.cloud.aiplatform.datasets.dataset:Creating TabularDataset\n",
      "INFO:google.cloud.aiplatform.datasets.dataset:Create TabularDataset backing LRO: projects/691911073727/locations/us-central1/datasets/5901008537529614336/operations/8153941672825192448\n",
      "INFO:google.cloud.aiplatform.datasets.dataset:TabularDataset created. Resource name: projects/691911073727/locations/us-central1/datasets/5901008537529614336\n",
      "INFO:google.cloud.aiplatform.datasets.dataset:To use this TabularDataset in another session:\n",
      "INFO:google.cloud.aiplatform.datasets.dataset:ds = aiplatform.TabularDataset('projects/691911073727/locations/us-central1/datasets/5901008537529614336')\n"
     ]
    }
   ],
   "source": [
    "dataset = aiplatform.TabularDataset.create(\n",
    "    display_name = f'{NOTEBOOK}_{DATANAME}_{TIMESTAMP}', \n",
    "    bq_source = f'bq://{PROJECT_ID}.{DATANAME}.{DATANAME}_prepped',\n",
    "    labels = {'notebook':f'{NOTEBOOK}'}\n",
    ")"
   ]
  },
  {
   "cell_type": "markdown",
   "id": "46b48275",
   "metadata": {},
   "source": [
    "---\n",
    "## Train Model with AutoML"
   ]
  },
  {
   "cell_type": "code",
   "execution_count": 7,
   "id": "51634455",
   "metadata": {},
   "outputs": [],
   "source": [
    "column_specs = list(set(dataset.column_names) - set(VAR_OMIT.split()) - set([VAR_TARGET, 'splits']))"
   ]
  },
  {
   "cell_type": "code",
   "execution_count": 8,
   "id": "3115cad7",
   "metadata": {},
   "outputs": [],
   "source": [
    "column_specs = dict.fromkeys(column_specs, 'auto')"
   ]
  },
  {
   "cell_type": "code",
   "execution_count": 9,
   "id": "2ada2e66",
   "metadata": {},
   "outputs": [],
   "source": [
    "tabular_classification_job = aiplatform.AutoMLTabularTrainingJob(\n",
    "    display_name = f'{NOTEBOOK}_{DATANAME}_{TIMESTAMP}',\n",
    "    optimization_prediction_type = 'classification',\n",
    "    column_specs = column_specs,\n",
    "    labels = {'notebook':f'{NOTEBOOK}'}\n",
    ")"
   ]
  },
  {
   "cell_type": "code",
   "execution_count": 10,
   "id": "2ebe8791",
   "metadata": {},
   "outputs": [],
   "source": [
    "# temporary fix for issue on 9/19/21 that can be removed within 1 week\n",
    "tabular_classification_job._add_additional_experiments(['training_pipeline_version=legacy'])"
   ]
  },
  {
   "cell_type": "code",
   "execution_count": 11,
   "id": "d3c1a2f4",
   "metadata": {},
   "outputs": [
    {
     "name": "stdout",
     "output_type": "stream",
     "text": [
      "INFO:google.cloud.aiplatform.training_jobs:View Training:\n",
      "https://console.cloud.google.com/ai/platform/locations/us-central1/training/3727161899230429184?project=691911073727\n",
      "INFO:google.cloud.aiplatform.training_jobs:AutoMLTabularTrainingJob projects/691911073727/locations/us-central1/trainingPipelines/3727161899230429184 current state:\n",
      "PipelineState.PIPELINE_STATE_RUNNING\n",
      "INFO:google.cloud.aiplatform.training_jobs:AutoMLTabularTrainingJob projects/691911073727/locations/us-central1/trainingPipelines/3727161899230429184 current state:\n",
      "PipelineState.PIPELINE_STATE_RUNNING\n",
      "INFO:google.cloud.aiplatform.training_jobs:AutoMLTabularTrainingJob projects/691911073727/locations/us-central1/trainingPipelines/3727161899230429184 current state:\n",
      "PipelineState.PIPELINE_STATE_RUNNING\n",
      "INFO:google.cloud.aiplatform.training_jobs:AutoMLTabularTrainingJob projects/691911073727/locations/us-central1/trainingPipelines/3727161899230429184 current state:\n",
      "PipelineState.PIPELINE_STATE_RUNNING\n",
      "INFO:google.cloud.aiplatform.training_jobs:AutoMLTabularTrainingJob projects/691911073727/locations/us-central1/trainingPipelines/3727161899230429184 current state:\n",
      "PipelineState.PIPELINE_STATE_RUNNING\n",
      "INFO:google.cloud.aiplatform.training_jobs:AutoMLTabularTrainingJob projects/691911073727/locations/us-central1/trainingPipelines/3727161899230429184 current state:\n",
      "PipelineState.PIPELINE_STATE_RUNNING\n",
      "INFO:google.cloud.aiplatform.training_jobs:AutoMLTabularTrainingJob projects/691911073727/locations/us-central1/trainingPipelines/3727161899230429184 current state:\n",
      "PipelineState.PIPELINE_STATE_RUNNING\n",
      "INFO:google.cloud.aiplatform.training_jobs:AutoMLTabularTrainingJob projects/691911073727/locations/us-central1/trainingPipelines/3727161899230429184 current state:\n",
      "PipelineState.PIPELINE_STATE_RUNNING\n",
      "INFO:google.cloud.aiplatform.training_jobs:AutoMLTabularTrainingJob projects/691911073727/locations/us-central1/trainingPipelines/3727161899230429184 current state:\n",
      "PipelineState.PIPELINE_STATE_RUNNING\n",
      "INFO:google.cloud.aiplatform.training_jobs:AutoMLTabularTrainingJob projects/691911073727/locations/us-central1/trainingPipelines/3727161899230429184 current state:\n",
      "PipelineState.PIPELINE_STATE_RUNNING\n",
      "INFO:google.cloud.aiplatform.training_jobs:AutoMLTabularTrainingJob projects/691911073727/locations/us-central1/trainingPipelines/3727161899230429184 current state:\n",
      "PipelineState.PIPELINE_STATE_RUNNING\n",
      "INFO:google.cloud.aiplatform.training_jobs:AutoMLTabularTrainingJob projects/691911073727/locations/us-central1/trainingPipelines/3727161899230429184 current state:\n",
      "PipelineState.PIPELINE_STATE_RUNNING\n",
      "INFO:google.cloud.aiplatform.training_jobs:AutoMLTabularTrainingJob projects/691911073727/locations/us-central1/trainingPipelines/3727161899230429184 current state:\n",
      "PipelineState.PIPELINE_STATE_RUNNING\n",
      "INFO:google.cloud.aiplatform.training_jobs:AutoMLTabularTrainingJob projects/691911073727/locations/us-central1/trainingPipelines/3727161899230429184 current state:\n",
      "PipelineState.PIPELINE_STATE_RUNNING\n",
      "INFO:google.cloud.aiplatform.training_jobs:AutoMLTabularTrainingJob projects/691911073727/locations/us-central1/trainingPipelines/3727161899230429184 current state:\n",
      "PipelineState.PIPELINE_STATE_RUNNING\n",
      "INFO:google.cloud.aiplatform.training_jobs:AutoMLTabularTrainingJob projects/691911073727/locations/us-central1/trainingPipelines/3727161899230429184 current state:\n",
      "PipelineState.PIPELINE_STATE_RUNNING\n",
      "INFO:google.cloud.aiplatform.training_jobs:AutoMLTabularTrainingJob projects/691911073727/locations/us-central1/trainingPipelines/3727161899230429184 current state:\n",
      "PipelineState.PIPELINE_STATE_RUNNING\n",
      "INFO:google.cloud.aiplatform.training_jobs:AutoMLTabularTrainingJob projects/691911073727/locations/us-central1/trainingPipelines/3727161899230429184 current state:\n",
      "PipelineState.PIPELINE_STATE_RUNNING\n",
      "INFO:google.cloud.aiplatform.training_jobs:AutoMLTabularTrainingJob projects/691911073727/locations/us-central1/trainingPipelines/3727161899230429184 current state:\n",
      "PipelineState.PIPELINE_STATE_RUNNING\n",
      "INFO:google.cloud.aiplatform.training_jobs:AutoMLTabularTrainingJob projects/691911073727/locations/us-central1/trainingPipelines/3727161899230429184 current state:\n",
      "PipelineState.PIPELINE_STATE_RUNNING\n",
      "INFO:google.cloud.aiplatform.training_jobs:AutoMLTabularTrainingJob projects/691911073727/locations/us-central1/trainingPipelines/3727161899230429184 current state:\n",
      "PipelineState.PIPELINE_STATE_RUNNING\n",
      "INFO:google.cloud.aiplatform.training_jobs:AutoMLTabularTrainingJob projects/691911073727/locations/us-central1/trainingPipelines/3727161899230429184 current state:\n",
      "PipelineState.PIPELINE_STATE_RUNNING\n",
      "INFO:google.cloud.aiplatform.training_jobs:AutoMLTabularTrainingJob projects/691911073727/locations/us-central1/trainingPipelines/3727161899230429184 current state:\n",
      "PipelineState.PIPELINE_STATE_RUNNING\n",
      "INFO:google.cloud.aiplatform.training_jobs:AutoMLTabularTrainingJob projects/691911073727/locations/us-central1/trainingPipelines/3727161899230429184 current state:\n",
      "PipelineState.PIPELINE_STATE_RUNNING\n",
      "INFO:google.cloud.aiplatform.training_jobs:AutoMLTabularTrainingJob projects/691911073727/locations/us-central1/trainingPipelines/3727161899230429184 current state:\n",
      "PipelineState.PIPELINE_STATE_RUNNING\n",
      "INFO:google.cloud.aiplatform.training_jobs:AutoMLTabularTrainingJob projects/691911073727/locations/us-central1/trainingPipelines/3727161899230429184 current state:\n",
      "PipelineState.PIPELINE_STATE_RUNNING\n",
      "INFO:google.cloud.aiplatform.training_jobs:AutoMLTabularTrainingJob projects/691911073727/locations/us-central1/trainingPipelines/3727161899230429184 current state:\n",
      "PipelineState.PIPELINE_STATE_RUNNING\n",
      "INFO:google.cloud.aiplatform.training_jobs:AutoMLTabularTrainingJob projects/691911073727/locations/us-central1/trainingPipelines/3727161899230429184 current state:\n",
      "PipelineState.PIPELINE_STATE_RUNNING\n",
      "INFO:google.cloud.aiplatform.training_jobs:AutoMLTabularTrainingJob projects/691911073727/locations/us-central1/trainingPipelines/3727161899230429184 current state:\n",
      "PipelineState.PIPELINE_STATE_RUNNING\n",
      "INFO:google.cloud.aiplatform.training_jobs:AutoMLTabularTrainingJob projects/691911073727/locations/us-central1/trainingPipelines/3727161899230429184 current state:\n",
      "PipelineState.PIPELINE_STATE_RUNNING\n",
      "INFO:google.cloud.aiplatform.training_jobs:AutoMLTabularTrainingJob projects/691911073727/locations/us-central1/trainingPipelines/3727161899230429184 current state:\n",
      "PipelineState.PIPELINE_STATE_RUNNING\n",
      "INFO:google.cloud.aiplatform.training_jobs:AutoMLTabularTrainingJob projects/691911073727/locations/us-central1/trainingPipelines/3727161899230429184 current state:\n",
      "PipelineState.PIPELINE_STATE_RUNNING\n",
      "INFO:google.cloud.aiplatform.training_jobs:AutoMLTabularTrainingJob run completed. Resource name: projects/691911073727/locations/us-central1/trainingPipelines/3727161899230429184\n",
      "INFO:google.cloud.aiplatform.training_jobs:Model available at projects/691911073727/locations/us-central1/models/7914434230313025536\n"
     ]
    }
   ],
   "source": [
    "model = tabular_classification_job.run(\n",
    "    dataset = dataset,\n",
    "    target_column = VAR_TARGET,\n",
    "    #predefined_split_column_name = 'splits',\n",
    "        training_fraction_split = 0.8,\n",
    "        validation_fraction_split = 0.1,\n",
    "        test_fraction_split = 0.1,\n",
    "    budget_milli_node_hours = 3000,\n",
    "    model_display_name = f'{NOTEBOOK}_{DATANAME}_{TIMESTAMP}',\n",
    "    disable_early_stopping = False,\n",
    "    model_labels = {'notebook':f'{NOTEBOOK}'}\n",
    ")"
   ]
  },
  {
   "cell_type": "markdown",
   "id": "3ef3a49d",
   "metadata": {},
   "source": [
    "---\n",
    "## Endpoint and Deployment"
   ]
  },
  {
   "cell_type": "code",
   "execution_count": 12,
   "id": "f2e1d5e5",
   "metadata": {},
   "outputs": [
    {
     "name": "stdout",
     "output_type": "stream",
     "text": [
      "INFO:google.cloud.aiplatform.models:Creating Endpoint\n",
      "INFO:google.cloud.aiplatform.models:Create Endpoint backing LRO: projects/691911073727/locations/us-central1/endpoints/2843161147568291840/operations/2471454474246291456\n",
      "INFO:google.cloud.aiplatform.models:Endpoint created. Resource name: projects/691911073727/locations/us-central1/endpoints/2843161147568291840\n",
      "INFO:google.cloud.aiplatform.models:To use this Endpoint in another session:\n",
      "INFO:google.cloud.aiplatform.models:endpoint = aiplatform.Endpoint('projects/691911073727/locations/us-central1/endpoints/2843161147568291840')\n"
     ]
    }
   ],
   "source": [
    "endpoint = aiplatform.Endpoint.create(\n",
    "    display_name = f'{NOTEBOOK}_{DATANAME}_{TIMESTAMP}',\n",
    "    labels = {'notebook':f'{NOTEBOOK}'}\n",
    ")"
   ]
  },
  {
   "cell_type": "code",
   "execution_count": 13,
   "id": "7300dff3",
   "metadata": {},
   "outputs": [
    {
     "name": "stdout",
     "output_type": "stream",
     "text": [
      "INFO:google.cloud.aiplatform.models:Deploying Model projects/691911073727/locations/us-central1/models/7914434230313025536 to Endpoint : projects/691911073727/locations/us-central1/endpoints/2843161147568291840\n",
      "INFO:google.cloud.aiplatform.models:Deploy Endpoint model backing LRO: projects/691911073727/locations/us-central1/endpoints/2843161147568291840/operations/5380779833527631872\n",
      "INFO:google.cloud.aiplatform.models:Endpoint model deployed. Resource name: projects/691911073727/locations/us-central1/endpoints/2843161147568291840\n"
     ]
    }
   ],
   "source": [
    "endpoint.deploy(\n",
    "    model = model,\n",
    "    deployed_model_display_name = f'{NOTEBOOK}_{DATANAME}_{TIMESTAMP}',\n",
    "    traffic_percentage = 100,\n",
    "    machine_type = DEPLOY_COMPUTE,\n",
    "    min_replica_count = 1,\n",
    "    max_replica_count = 1\n",
    ")"
   ]
  },
  {
   "cell_type": "markdown",
   "id": "a15d96ee",
   "metadata": {},
   "source": [
    "---\n",
    "## Prediction"
   ]
  },
  {
   "cell_type": "markdown",
   "id": "13e324b8",
   "metadata": {},
   "source": [
    "### Prepare a record for prediction: instance and parameters lists"
   ]
  },
  {
   "cell_type": "code",
   "execution_count": 14,
   "id": "7148bd5b",
   "metadata": {},
   "outputs": [],
   "source": [
    "pred = bigquery.query(query = f\"SELECT * FROM {DATANAME}.{DATANAME}_prepped WHERE splits='TEST' LIMIT 10\").to_dataframe()"
   ]
  },
  {
   "cell_type": "code",
   "execution_count": 15,
   "id": "9055ac97",
   "metadata": {},
   "outputs": [
    {
     "data": {
      "text/html": [
       "<div>\n",
       "<style scoped>\n",
       "    .dataframe tbody tr th:only-of-type {\n",
       "        vertical-align: middle;\n",
       "    }\n",
       "\n",
       "    .dataframe tbody tr th {\n",
       "        vertical-align: top;\n",
       "    }\n",
       "\n",
       "    .dataframe thead th {\n",
       "        text-align: right;\n",
       "    }\n",
       "</style>\n",
       "<table border=\"1\" class=\"dataframe\">\n",
       "  <thead>\n",
       "    <tr style=\"text-align: right;\">\n",
       "      <th></th>\n",
       "      <th>Time</th>\n",
       "      <th>V1</th>\n",
       "      <th>V2</th>\n",
       "      <th>V3</th>\n",
       "      <th>V4</th>\n",
       "      <th>V5</th>\n",
       "      <th>V6</th>\n",
       "      <th>V7</th>\n",
       "      <th>V8</th>\n",
       "      <th>V9</th>\n",
       "      <th>...</th>\n",
       "      <th>V23</th>\n",
       "      <th>V24</th>\n",
       "      <th>V25</th>\n",
       "      <th>V26</th>\n",
       "      <th>V27</th>\n",
       "      <th>V28</th>\n",
       "      <th>Amount</th>\n",
       "      <th>Class</th>\n",
       "      <th>transaction_id</th>\n",
       "      <th>splits</th>\n",
       "    </tr>\n",
       "  </thead>\n",
       "  <tbody>\n",
       "    <tr>\n",
       "      <th>0</th>\n",
       "      <td>75176</td>\n",
       "      <td>1.235603</td>\n",
       "      <td>0.041383</td>\n",
       "      <td>0.675286</td>\n",
       "      <td>0.836279</td>\n",
       "      <td>-0.675016</td>\n",
       "      <td>-0.657342</td>\n",
       "      <td>-0.154209</td>\n",
       "      <td>-0.067491</td>\n",
       "      <td>0.602617</td>\n",
       "      <td>...</td>\n",
       "      <td>0.088164</td>\n",
       "      <td>0.396205</td>\n",
       "      <td>0.324557</td>\n",
       "      <td>0.182930</td>\n",
       "      <td>-0.017115</td>\n",
       "      <td>0.014979</td>\n",
       "      <td>0.0</td>\n",
       "      <td>0</td>\n",
       "      <td>6f40e111-2131-4031-aef1-268b2daf02a3</td>\n",
       "      <td>TEST</td>\n",
       "    </tr>\n",
       "    <tr>\n",
       "      <th>1</th>\n",
       "      <td>112225</td>\n",
       "      <td>-0.285756</td>\n",
       "      <td>0.965688</td>\n",
       "      <td>2.147689</td>\n",
       "      <td>2.838137</td>\n",
       "      <td>1.104026</td>\n",
       "      <td>1.462921</td>\n",
       "      <td>-0.835272</td>\n",
       "      <td>-0.409875</td>\n",
       "      <td>-0.810586</td>\n",
       "      <td>...</td>\n",
       "      <td>-1.222639</td>\n",
       "      <td>0.044689</td>\n",
       "      <td>1.324343</td>\n",
       "      <td>-0.077670</td>\n",
       "      <td>0.128146</td>\n",
       "      <td>0.179651</td>\n",
       "      <td>0.0</td>\n",
       "      <td>0</td>\n",
       "      <td>c9bdeaf0-79d4-4faf-8aaa-14127a0e3513</td>\n",
       "      <td>TEST</td>\n",
       "    </tr>\n",
       "    <tr>\n",
       "      <th>2</th>\n",
       "      <td>113420</td>\n",
       "      <td>1.890283</td>\n",
       "      <td>0.241366</td>\n",
       "      <td>-0.165823</td>\n",
       "      <td>4.068924</td>\n",
       "      <td>-0.146807</td>\n",
       "      <td>0.140339</td>\n",
       "      <td>-0.258090</td>\n",
       "      <td>0.084852</td>\n",
       "      <td>-0.056567</td>\n",
       "      <td>...</td>\n",
       "      <td>0.097449</td>\n",
       "      <td>0.019180</td>\n",
       "      <td>0.060621</td>\n",
       "      <td>0.136349</td>\n",
       "      <td>-0.010745</td>\n",
       "      <td>-0.049814</td>\n",
       "      <td>0.0</td>\n",
       "      <td>0</td>\n",
       "      <td>611f4879-490d-4ab5-9e4f-c7944d6165eb</td>\n",
       "      <td>TEST</td>\n",
       "    </tr>\n",
       "    <tr>\n",
       "      <th>3</th>\n",
       "      <td>121910</td>\n",
       "      <td>-1.227268</td>\n",
       "      <td>1.555572</td>\n",
       "      <td>1.245848</td>\n",
       "      <td>4.071686</td>\n",
       "      <td>1.154573</td>\n",
       "      <td>2.058276</td>\n",
       "      <td>-1.179951</td>\n",
       "      <td>-2.211140</td>\n",
       "      <td>-2.248168</td>\n",
       "      <td>...</td>\n",
       "      <td>-0.380109</td>\n",
       "      <td>-1.485002</td>\n",
       "      <td>0.237729</td>\n",
       "      <td>0.524141</td>\n",
       "      <td>-0.037543</td>\n",
       "      <td>0.121962</td>\n",
       "      <td>0.0</td>\n",
       "      <td>0</td>\n",
       "      <td>3212444f-1412-49ae-adfa-a1a0ca54d8c5</td>\n",
       "      <td>TEST</td>\n",
       "    </tr>\n",
       "  </tbody>\n",
       "</table>\n",
       "<p>4 rows × 33 columns</p>\n",
       "</div>"
      ],
      "text/plain": [
       "     Time        V1        V2        V3        V4        V5        V6  \\\n",
       "0   75176  1.235603  0.041383  0.675286  0.836279 -0.675016 -0.657342   \n",
       "1  112225 -0.285756  0.965688  2.147689  2.838137  1.104026  1.462921   \n",
       "2  113420  1.890283  0.241366 -0.165823  4.068924 -0.146807  0.140339   \n",
       "3  121910 -1.227268  1.555572  1.245848  4.071686  1.154573  2.058276   \n",
       "\n",
       "         V7        V8        V9  ...       V23       V24       V25       V26  \\\n",
       "0 -0.154209 -0.067491  0.602617  ...  0.088164  0.396205  0.324557  0.182930   \n",
       "1 -0.835272 -0.409875 -0.810586  ... -1.222639  0.044689  1.324343 -0.077670   \n",
       "2 -0.258090  0.084852 -0.056567  ...  0.097449  0.019180  0.060621  0.136349   \n",
       "3 -1.179951 -2.211140 -2.248168  ... -0.380109 -1.485002  0.237729  0.524141   \n",
       "\n",
       "        V27       V28  Amount  Class                        transaction_id  \\\n",
       "0 -0.017115  0.014979     0.0      0  6f40e111-2131-4031-aef1-268b2daf02a3   \n",
       "1  0.128146  0.179651     0.0      0  c9bdeaf0-79d4-4faf-8aaa-14127a0e3513   \n",
       "2 -0.010745 -0.049814     0.0      0  611f4879-490d-4ab5-9e4f-c7944d6165eb   \n",
       "3 -0.037543  0.121962     0.0      0  3212444f-1412-49ae-adfa-a1a0ca54d8c5   \n",
       "\n",
       "   splits  \n",
       "0    TEST  \n",
       "1    TEST  \n",
       "2    TEST  \n",
       "3    TEST  \n",
       "\n",
       "[4 rows x 33 columns]"
      ]
     },
     "execution_count": 15,
     "metadata": {},
     "output_type": "execute_result"
    }
   ],
   "source": [
    "pred.head(4)"
   ]
  },
  {
   "cell_type": "code",
   "execution_count": 19,
   "id": "f2f80ac2",
   "metadata": {},
   "outputs": [],
   "source": [
    "newob = pred[pred.columns[~pred.columns.isin(VAR_OMIT.split()+[VAR_TARGET, 'splits'])]].to_dict(orient='records')[0]\n",
    "#newob"
   ]
  },
  {
   "cell_type": "markdown",
   "id": "64909cc0",
   "metadata": {},
   "source": [
    "Need to understand the format of variables that the predictions expect.  AutoML may convert the type of some variables. The following cells retrieve the model from the endpoint and its schemata:"
   ]
  },
  {
   "cell_type": "code",
   "execution_count": 20,
   "id": "0b155fd4",
   "metadata": {},
   "outputs": [],
   "source": [
    "newob['Time'] = str(newob['Time'])"
   ]
  },
  {
   "cell_type": "code",
   "execution_count": 21,
   "id": "44a386d9",
   "metadata": {},
   "outputs": [],
   "source": [
    "instances = [json_format.ParseDict(newob, Value())]\n",
    "parameters = json_format.ParseDict({}, Value())"
   ]
  },
  {
   "cell_type": "markdown",
   "id": "6fa715ce",
   "metadata": {},
   "source": [
    "### Get Predictions: Python Client"
   ]
  },
  {
   "cell_type": "code",
   "execution_count": 22,
   "id": "b6f11350",
   "metadata": {},
   "outputs": [],
   "source": [
    "prediction = endpoint.predict(instances=instances, parameters=parameters)"
   ]
  },
  {
   "cell_type": "code",
   "execution_count": 23,
   "id": "063eba38",
   "metadata": {},
   "outputs": [
    {
     "data": {
      "text/plain": [
       "Prediction(predictions=[{'classes': ['0', '1'], 'scores': [0.9997270703315735, 0.0002728732360992581]}], deployed_model_id='2414290040084496384', explanations=None)"
      ]
     },
     "execution_count": 23,
     "metadata": {},
     "output_type": "execute_result"
    }
   ],
   "source": [
    "prediction"
   ]
  },
  {
   "cell_type": "code",
   "execution_count": 24,
   "id": "30a5f2c7",
   "metadata": {},
   "outputs": [
    {
     "data": {
      "text/plain": [
       "'0'"
      ]
     },
     "execution_count": 24,
     "metadata": {},
     "output_type": "execute_result"
    }
   ],
   "source": [
    "prediction.predictions[0]['classes'][np.argmax(prediction.predictions[0]['scores'])]"
   ]
  },
  {
   "cell_type": "markdown",
   "id": "37ff1640",
   "metadata": {},
   "source": [
    "### Get Predictions: REST"
   ]
  },
  {
   "cell_type": "code",
   "execution_count": 25,
   "id": "7c268d6d",
   "metadata": {},
   "outputs": [],
   "source": [
    "with open(f'{DIR}/request.json','w') as file:\n",
    "    file.write(json.dumps({\"instances\": [newob]}))"
   ]
  },
  {
   "cell_type": "code",
   "execution_count": 26,
   "id": "2edca20a",
   "metadata": {},
   "outputs": [
    {
     "name": "stdout",
     "output_type": "stream",
     "text": [
      "{\n",
      "  \"predictions\": [\n",
      "    {\n",
      "      \"classes\": [\n",
      "        \"0\",\n",
      "        \"1\"\n",
      "      ],\n",
      "      \"scores\": [\n",
      "        0.99972707033157349,\n",
      "        0.00027287323609925812\n",
      "      ]\n",
      "    }\n",
      "  ],\n",
      "  \"deployedModelId\": \"2414290040084496384\"\n",
      "}\n"
     ]
    }
   ],
   "source": [
    "!curl -X POST \\\n",
    "-H \"Authorization: Bearer \"$(gcloud auth application-default print-access-token) \\\n",
    "-H \"Content-Type: application/json; charset=utf-8\" \\\n",
    "-d @{DIR}/request.json \\\n",
    "https://{REGION}-aiplatform.googleapis.com/v1/{endpoint.resource_name}:predict"
   ]
  },
  {
   "cell_type": "markdown",
   "id": "17d3a22b",
   "metadata": {},
   "source": [
    "### Get Predictions: gcloud (CLI)"
   ]
  },
  {
   "cell_type": "code",
   "execution_count": 27,
   "id": "2621a2e3",
   "metadata": {},
   "outputs": [
    {
     "name": "stdout",
     "output_type": "stream",
     "text": [
      "Using endpoint [https://us-central1-prediction-aiplatform.googleapis.com/]\n",
      "[{'classes': ['0', '1'], 'scores': [0.9997270703315735, 0.0002728732360992581]}]\n"
     ]
    }
   ],
   "source": [
    "!gcloud beta ai endpoints predict {endpoint.name.rsplit('/',1)[-1]} --region={REGION} --json-request={DIR}/request.json"
   ]
  },
  {
   "cell_type": "markdown",
   "id": "1c214f08",
   "metadata": {},
   "source": [
    "### Batch Predictions: BigQuery Source to BigQuery Destination, with Explanations"
   ]
  },
  {
   "cell_type": "code",
   "execution_count": 59,
   "id": "71448467",
   "metadata": {},
   "outputs": [
    {
     "name": "stdout",
     "output_type": "stream",
     "text": [
      "INFO:google.cloud.aiplatform.jobs:Creating BatchPredictionJob\n",
      "INFO:google.cloud.aiplatform.jobs:BatchPredictionJob created. Resource name: projects/691911073727/locations/us-central1/batchPredictionJobs/7908657396220690432\n",
      "INFO:google.cloud.aiplatform.jobs:To use this BatchPredictionJob in another session:\n",
      "INFO:google.cloud.aiplatform.jobs:bpj = aiplatform.BatchPredictionJob('projects/691911073727/locations/us-central1/batchPredictionJobs/7908657396220690432')\n",
      "INFO:google.cloud.aiplatform.jobs:View Batch Prediction Job:\n",
      "https://console.cloud.google.com/ai/platform/locations/us-central1/batch-predictions/7908657396220690432?project=691911073727\n",
      "INFO:google.cloud.aiplatform.jobs:BatchPredictionJob projects/691911073727/locations/us-central1/batchPredictionJobs/7908657396220690432 current state:\n",
      "JobState.JOB_STATE_RUNNING\n",
      "INFO:google.cloud.aiplatform.jobs:BatchPredictionJob projects/691911073727/locations/us-central1/batchPredictionJobs/7908657396220690432 current state:\n",
      "JobState.JOB_STATE_RUNNING\n",
      "INFO:google.cloud.aiplatform.jobs:BatchPredictionJob projects/691911073727/locations/us-central1/batchPredictionJobs/7908657396220690432 current state:\n",
      "JobState.JOB_STATE_RUNNING\n",
      "INFO:google.cloud.aiplatform.jobs:BatchPredictionJob projects/691911073727/locations/us-central1/batchPredictionJobs/7908657396220690432 current state:\n",
      "JobState.JOB_STATE_RUNNING\n",
      "INFO:google.cloud.aiplatform.jobs:BatchPredictionJob projects/691911073727/locations/us-central1/batchPredictionJobs/7908657396220690432 current state:\n",
      "JobState.JOB_STATE_RUNNING\n",
      "INFO:google.cloud.aiplatform.jobs:BatchPredictionJob projects/691911073727/locations/us-central1/batchPredictionJobs/7908657396220690432 current state:\n",
      "JobState.JOB_STATE_RUNNING\n",
      "INFO:google.cloud.aiplatform.jobs:BatchPredictionJob projects/691911073727/locations/us-central1/batchPredictionJobs/7908657396220690432 current state:\n",
      "JobState.JOB_STATE_RUNNING\n",
      "INFO:google.cloud.aiplatform.jobs:BatchPredictionJob projects/691911073727/locations/us-central1/batchPredictionJobs/7908657396220690432 current state:\n",
      "JobState.JOB_STATE_RUNNING\n",
      "INFO:google.cloud.aiplatform.jobs:BatchPredictionJob projects/691911073727/locations/us-central1/batchPredictionJobs/7908657396220690432 current state:\n",
      "JobState.JOB_STATE_RUNNING\n",
      "INFO:google.cloud.aiplatform.jobs:BatchPredictionJob projects/691911073727/locations/us-central1/batchPredictionJobs/7908657396220690432 current state:\n",
      "JobState.JOB_STATE_RUNNING\n",
      "INFO:google.cloud.aiplatform.jobs:BatchPredictionJob projects/691911073727/locations/us-central1/batchPredictionJobs/7908657396220690432 current state:\n",
      "JobState.JOB_STATE_SUCCEEDED\n",
      "INFO:google.cloud.aiplatform.jobs:BatchPredictionJob run completed. Resource name: projects/691911073727/locations/us-central1/batchPredictionJobs/7908657396220690432\n"
     ]
    }
   ],
   "source": [
    "batch = aiplatform.BatchPredictionJob.create(\n",
    "    job_display_name = f'{NOTEBOOK}_{DATANAME}_{TIMESTAMP}',\n",
    "    model_name = model.name,\n",
    "    instances_format = \"bigquery\",\n",
    "    predictions_format = \"bigquery\",\n",
    "    bigquery_source = f'bq://{PROJECT_ID}.{DATANAME}.{DATANAME}_prepped',\n",
    "    bigquery_destination_prefix = f\"{PROJECT_ID}\",\n",
    "    generate_explanation = True,\n",
    "    labels = {'notebook':f'{NOTEBOOK}'}\n",
    ")"
   ]
  },
  {
   "cell_type": "markdown",
   "id": "aa2dbae2",
   "metadata": {},
   "source": [
    "---\n",
    "## Explanations\n",
    "Interpretation Guide\n",
    "- https://cloud.google.com/vertex-ai/docs/predictions/interpreting-results-automl#tabular"
   ]
  },
  {
   "cell_type": "code",
   "execution_count": 28,
   "id": "b44aedf4",
   "metadata": {},
   "outputs": [],
   "source": [
    "explanation = endpoint.explain(instances=instances, parameters=parameters)"
   ]
  },
  {
   "cell_type": "code",
   "execution_count": 29,
   "id": "d64bcf23",
   "metadata": {},
   "outputs": [
    {
     "data": {
      "text/plain": [
       "[{'scores': [0.9997270703315735, 0.0002728732360992581],\n",
       "  'classes': ['0', '1']}]"
      ]
     },
     "execution_count": 29,
     "metadata": {},
     "output_type": "execute_result"
    }
   ],
   "source": [
    "explanation.predictions"
   ]
  },
  {
   "cell_type": "code",
   "execution_count": 30,
   "id": "5665a357",
   "metadata": {},
   "outputs": [
    {
     "name": "stdout",
     "output_type": "stream",
     "text": [
      "attribution:\n",
      "baseline output 0.9999616146087646\n",
      "instance output 0.9997270703315735\n",
      "output_index [0]\n",
      "output display value 0\n",
      "approximation error 0.006383512585511742\n"
     ]
    }
   ],
   "source": [
    "print(\"attribution:\")\n",
    "print(\"baseline output\",explanation.explanations[0].attributions[0].baseline_output_value)\n",
    "print(\"instance output\",explanation.explanations[0].attributions[0].instance_output_value)\n",
    "print(\"output_index\",explanation.explanations[0].attributions[0].output_index)\n",
    "print(\"output display value\",explanation.explanations[0].attributions[0].output_display_name)\n",
    "print(\"approximation error\",explanation.explanations[0].attributions[0].approximation_error)"
   ]
  },
  {
   "cell_type": "code",
   "execution_count": 31,
   "id": "f4658234",
   "metadata": {},
   "outputs": [
    {
     "data": {
      "text/plain": [
       "baseline_output_value: 0.9999616146087646\n",
       "instance_output_value: 0.9997270703315735\n",
       "feature_attributions {\n",
       "  struct_value {\n",
       "    fields {\n",
       "      key: \"Amount\"\n",
       "      value {\n",
       "        number_value: -2.691480848524305e-05\n",
       "      }\n",
       "    }\n",
       "    fields {\n",
       "      key: \"Time\"\n",
       "      value {\n",
       "        number_value: 0.0\n",
       "      }\n",
       "    }\n",
       "    fields {\n",
       "      key: \"V1\"\n",
       "      value {\n",
       "        number_value: 0.0\n",
       "      }\n",
       "    }\n",
       "    fields {\n",
       "      key: \"V10\"\n",
       "      value {\n",
       "        number_value: 0.0\n",
       "      }\n",
       "    }\n",
       "    fields {\n",
       "      key: \"V11\"\n",
       "      value {\n",
       "        number_value: 0.0\n",
       "      }\n",
       "    }\n",
       "    fields {\n",
       "      key: \"V12\"\n",
       "      value {\n",
       "        number_value: 0.0\n",
       "      }\n",
       "    }\n",
       "    fields {\n",
       "      key: \"V13\"\n",
       "      value {\n",
       "        number_value: -5.365080303615994e-05\n",
       "      }\n",
       "    }\n",
       "    fields {\n",
       "      key: \"V14\"\n",
       "      value {\n",
       "        number_value: 0.0\n",
       "      }\n",
       "    }\n",
       "    fields {\n",
       "      key: \"V15\"\n",
       "      value {\n",
       "        number_value: 0.0\n",
       "      }\n",
       "    }\n",
       "    fields {\n",
       "      key: \"V16\"\n",
       "      value {\n",
       "        number_value: 0.0\n",
       "      }\n",
       "    }\n",
       "    fields {\n",
       "      key: \"V17\"\n",
       "      value {\n",
       "        number_value: 0.0\n",
       "      }\n",
       "    }\n",
       "    fields {\n",
       "      key: \"V18\"\n",
       "      value {\n",
       "        number_value: 5.379650327894423e-05\n",
       "      }\n",
       "    }\n",
       "    fields {\n",
       "      key: \"V19\"\n",
       "      value {\n",
       "        number_value: 0.0\n",
       "      }\n",
       "    }\n",
       "    fields {\n",
       "      key: \"V2\"\n",
       "      value {\n",
       "        number_value: 0.0\n",
       "      }\n",
       "    }\n",
       "    fields {\n",
       "      key: \"V20\"\n",
       "      value {\n",
       "        number_value: 0.0\n",
       "      }\n",
       "    }\n",
       "    fields {\n",
       "      key: \"V21\"\n",
       "      value {\n",
       "        number_value: -1.198053359985352e-05\n",
       "      }\n",
       "    }\n",
       "    fields {\n",
       "      key: \"V22\"\n",
       "      value {\n",
       "        number_value: 0.0\n",
       "      }\n",
       "    }\n",
       "    fields {\n",
       "      key: \"V23\"\n",
       "      value {\n",
       "        number_value: -1.105335023668077e-05\n",
       "      }\n",
       "    }\n",
       "    fields {\n",
       "      key: \"V24\"\n",
       "      value {\n",
       "        number_value: 0.0\n",
       "      }\n",
       "    }\n",
       "    fields {\n",
       "      key: \"V25\"\n",
       "      value {\n",
       "        number_value: 0.0\n",
       "      }\n",
       "    }\n",
       "    fields {\n",
       "      key: \"V26\"\n",
       "      value {\n",
       "        number_value: 0.0\n",
       "      }\n",
       "    }\n",
       "    fields {\n",
       "      key: \"V27\"\n",
       "      value {\n",
       "        number_value: 0.0\n",
       "      }\n",
       "    }\n",
       "    fields {\n",
       "      key: \"V28\"\n",
       "      value {\n",
       "        number_value: 0.0\n",
       "      }\n",
       "    }\n",
       "    fields {\n",
       "      key: \"V3\"\n",
       "      value {\n",
       "        number_value: 0.0\n",
       "      }\n",
       "    }\n",
       "    fields {\n",
       "      key: \"V4\"\n",
       "      value {\n",
       "        number_value: -0.0001445081498887804\n",
       "      }\n",
       "    }\n",
       "    fields {\n",
       "      key: \"V5\"\n",
       "      value {\n",
       "        number_value: 0.0\n",
       "      }\n",
       "    }\n",
       "    fields {\n",
       "      key: \"V6\"\n",
       "      value {\n",
       "        number_value: -5.640586217244466e-05\n",
       "      }\n",
       "    }\n",
       "    fields {\n",
       "      key: \"V7\"\n",
       "      value {\n",
       "        number_value: 0.0\n",
       "      }\n",
       "    }\n",
       "    fields {\n",
       "      key: \"V8\"\n",
       "      value {\n",
       "        number_value: 0.0\n",
       "      }\n",
       "    }\n",
       "    fields {\n",
       "      key: \"V9\"\n",
       "      value {\n",
       "        number_value: 1.617272694905599e-05\n",
       "      }\n",
       "    }\n",
       "  }\n",
       "}\n",
       "output_index: 0\n",
       "output_display_name: \"0\"\n",
       "approximation_error: 0.006383512585511742\n",
       "output_name: \"scores\""
      ]
     },
     "execution_count": 31,
     "metadata": {},
     "output_type": "execute_result"
    }
   ],
   "source": [
    "explanation.explanations[0].attributions[0]"
   ]
  },
  {
   "cell_type": "markdown",
   "id": "c89d3b3d",
   "metadata": {},
   "source": [
    "---\n",
    "## Remove Resources\n",
    "see notebook \"XX - Cleanup\""
   ]
  }
 ],
 "metadata": {
  "environment": {
   "name": "tf2-gpu.2-3.m79",
   "type": "gcloud",
   "uri": "gcr.io/deeplearning-platform-release/tf2-gpu.2-3:m79"
  },
  "kernelspec": {
   "display_name": "Python 3",
   "language": "python",
   "name": "python3"
  },
  "language_info": {
   "codemirror_mode": {
    "name": "ipython",
    "version": 3
   },
   "file_extension": ".py",
   "mimetype": "text/x-python",
   "name": "python",
   "nbconvert_exporter": "python",
   "pygments_lexer": "ipython3",
   "version": "3.7.10"
  }
 },
 "nbformat": 4,
 "nbformat_minor": 5
}
