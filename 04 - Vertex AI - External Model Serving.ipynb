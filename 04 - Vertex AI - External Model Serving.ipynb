{
 "cells": [
  {
   "cell_type": "markdown",
   "id": "df903ab0",
   "metadata": {},
   "source": [
    "# Vertex AI - External Model Serving\n",
    "\n",
    "This notebook uses a Vertex AI Notebook to train a TensorFlow model (locally) with the data in BigQuery table `<PROJECT_ID>.digits.digits_prepped`.  This model is then saved and Vertex AI clients are used to upload the model and deploy it to an endpoint for online predictions.\n",
    "\n",
    "**Prerequisites**\n",
    "- `00 - Initial Setup`\n",
    "- `01 - BigQuery - Data`\n",
    "\n",
    "**Overview**\n",
    "\n",
    "<img src=\"architectures/statmike-mlops-04.png\">"
   ]
  },
  {
   "cell_type": "markdown",
   "id": "63cbe615",
   "metadata": {},
   "source": [
    "---\n",
    "## Setup"
   ]
  },
  {
   "cell_type": "markdown",
   "id": "895076bb",
   "metadata": {},
   "source": [
    "Prepare TensorFlow:"
   ]
  },
  {
   "cell_type": "code",
   "execution_count": 1,
   "id": "6646f0cf",
   "metadata": {},
   "outputs": [],
   "source": [
    "from tensorflow_io.bigquery import BigQueryClient\n",
    "from tensorflow_io.bigquery import BigQueryReadSession\n",
    "import tensorflow as tf"
   ]
  },
  {
   "cell_type": "markdown",
   "id": "067936d6",
   "metadata": {},
   "source": [
    "Setup Parameters"
   ]
  },
  {
   "cell_type": "code",
   "execution_count": 2,
   "id": "12599e24",
   "metadata": {},
   "outputs": [],
   "source": [
    "PROJECT_ID='statmike-mlops'\n",
    "REGION='us-central1'\n",
    "\n",
    "BQDATASET_ID='digits'\n",
    "BQTABLE_ID='digits_prepped'\n",
    "\n",
    "MODEL_DIR='gs://{}/digits/model/04_keras'.format(PROJECT_ID)\n",
    "PARENT = \"projects/\" + PROJECT_ID + \"/locations/\" + REGION\n",
    "\n",
    "BATCH_SIZE = 30\n",
    "\n",
    "MODEL_NAME='MODEL_04_KERAS-DIGITS'\n",
    "ENDPOINT_NAME='ENDPOINT_04_KERAS-DIGITS'\n",
    "params = {\"MODEL_DIR\":MODEL_DIR}\n",
    "DEPLOY_IMAGE='us-docker.pkg.dev/cloud-aiplatform/prediction/tf2-cpu.2-2:latest'\n",
    "DEPLOY_COMPUTE='n1-standard-4'"
   ]
  },
  {
   "cell_type": "markdown",
   "id": "8da8ca88",
   "metadata": {},
   "source": [
    "Setup Vertex AI Python Clients\n",
    "- https://googleapis.dev/python/aiplatform/latest/index.html"
   ]
  },
  {
   "cell_type": "code",
   "execution_count": 3,
   "id": "2586ea7b",
   "metadata": {},
   "outputs": [],
   "source": [
    "from google.cloud import aiplatform\n",
    "\n",
    "API_ENDPOINT = \"{}-aiplatform.googleapis.com\".format(REGION)\n",
    "client_options = {\"api_endpoint\": API_ENDPOINT}\n",
    "clients = {}"
   ]
  },
  {
   "cell_type": "markdown",
   "id": "87177ce3",
   "metadata": {},
   "source": [
    "---\n",
    "## Prepare Data Connection\n",
    "\n",
    "Retrieve the Schema info from BigQuery Information Schema via the Storage API:\n",
    "- https://cloud.google.com/bigquery/docs/bigquery-storage-python-pandas"
   ]
  },
  {
   "cell_type": "code",
   "execution_count": 4,
   "id": "09fb8d30",
   "metadata": {},
   "outputs": [
    {
     "data": {
      "text/html": [
       "<div>\n",
       "<style scoped>\n",
       "    .dataframe tbody tr th:only-of-type {\n",
       "        vertical-align: middle;\n",
       "    }\n",
       "\n",
       "    .dataframe tbody tr th {\n",
       "        vertical-align: top;\n",
       "    }\n",
       "\n",
       "    .dataframe thead th {\n",
       "        text-align: right;\n",
       "    }\n",
       "</style>\n",
       "<table border=\"1\" class=\"dataframe\">\n",
       "  <thead>\n",
       "    <tr style=\"text-align: right;\">\n",
       "      <th></th>\n",
       "      <th>table_catalog</th>\n",
       "      <th>table_schema</th>\n",
       "      <th>table_name</th>\n",
       "      <th>column_name</th>\n",
       "      <th>field_path</th>\n",
       "      <th>data_type</th>\n",
       "      <th>description</th>\n",
       "    </tr>\n",
       "  </thead>\n",
       "  <tbody>\n",
       "    <tr>\n",
       "      <th>0</th>\n",
       "      <td>statmike-mlops</td>\n",
       "      <td>digits</td>\n",
       "      <td>digits_prepped</td>\n",
       "      <td>p0</td>\n",
       "      <td>p0</td>\n",
       "      <td>FLOAT64</td>\n",
       "      <td>None</td>\n",
       "    </tr>\n",
       "    <tr>\n",
       "      <th>1</th>\n",
       "      <td>statmike-mlops</td>\n",
       "      <td>digits</td>\n",
       "      <td>digits_prepped</td>\n",
       "      <td>p1</td>\n",
       "      <td>p1</td>\n",
       "      <td>FLOAT64</td>\n",
       "      <td>None</td>\n",
       "    </tr>\n",
       "    <tr>\n",
       "      <th>2</th>\n",
       "      <td>statmike-mlops</td>\n",
       "      <td>digits</td>\n",
       "      <td>digits_prepped</td>\n",
       "      <td>p2</td>\n",
       "      <td>p2</td>\n",
       "      <td>FLOAT64</td>\n",
       "      <td>None</td>\n",
       "    </tr>\n",
       "    <tr>\n",
       "      <th>3</th>\n",
       "      <td>statmike-mlops</td>\n",
       "      <td>digits</td>\n",
       "      <td>digits_prepped</td>\n",
       "      <td>p3</td>\n",
       "      <td>p3</td>\n",
       "      <td>FLOAT64</td>\n",
       "      <td>None</td>\n",
       "    </tr>\n",
       "    <tr>\n",
       "      <th>4</th>\n",
       "      <td>statmike-mlops</td>\n",
       "      <td>digits</td>\n",
       "      <td>digits_prepped</td>\n",
       "      <td>p4</td>\n",
       "      <td>p4</td>\n",
       "      <td>FLOAT64</td>\n",
       "      <td>None</td>\n",
       "    </tr>\n",
       "    <tr>\n",
       "      <th>...</th>\n",
       "      <td>...</td>\n",
       "      <td>...</td>\n",
       "      <td>...</td>\n",
       "      <td>...</td>\n",
       "      <td>...</td>\n",
       "      <td>...</td>\n",
       "      <td>...</td>\n",
       "    </tr>\n",
       "    <tr>\n",
       "      <th>62</th>\n",
       "      <td>statmike-mlops</td>\n",
       "      <td>digits</td>\n",
       "      <td>digits_prepped</td>\n",
       "      <td>p62</td>\n",
       "      <td>p62</td>\n",
       "      <td>FLOAT64</td>\n",
       "      <td>None</td>\n",
       "    </tr>\n",
       "    <tr>\n",
       "      <th>63</th>\n",
       "      <td>statmike-mlops</td>\n",
       "      <td>digits</td>\n",
       "      <td>digits_prepped</td>\n",
       "      <td>p63</td>\n",
       "      <td>p63</td>\n",
       "      <td>FLOAT64</td>\n",
       "      <td>None</td>\n",
       "    </tr>\n",
       "    <tr>\n",
       "      <th>64</th>\n",
       "      <td>statmike-mlops</td>\n",
       "      <td>digits</td>\n",
       "      <td>digits_prepped</td>\n",
       "      <td>target</td>\n",
       "      <td>target</td>\n",
       "      <td>INT64</td>\n",
       "      <td>None</td>\n",
       "    </tr>\n",
       "    <tr>\n",
       "      <th>65</th>\n",
       "      <td>statmike-mlops</td>\n",
       "      <td>digits</td>\n",
       "      <td>digits_prepped</td>\n",
       "      <td>target_OE</td>\n",
       "      <td>target_OE</td>\n",
       "      <td>STRING</td>\n",
       "      <td>None</td>\n",
       "    </tr>\n",
       "    <tr>\n",
       "      <th>66</th>\n",
       "      <td>statmike-mlops</td>\n",
       "      <td>digits</td>\n",
       "      <td>digits_prepped</td>\n",
       "      <td>SPLITS</td>\n",
       "      <td>SPLITS</td>\n",
       "      <td>STRING</td>\n",
       "      <td>None</td>\n",
       "    </tr>\n",
       "  </tbody>\n",
       "</table>\n",
       "<p>67 rows × 7 columns</p>\n",
       "</div>"
      ],
      "text/plain": [
       "     table_catalog table_schema      table_name column_name field_path  \\\n",
       "0   statmike-mlops       digits  digits_prepped          p0         p0   \n",
       "1   statmike-mlops       digits  digits_prepped          p1         p1   \n",
       "2   statmike-mlops       digits  digits_prepped          p2         p2   \n",
       "3   statmike-mlops       digits  digits_prepped          p3         p3   \n",
       "4   statmike-mlops       digits  digits_prepped          p4         p4   \n",
       "..             ...          ...             ...         ...        ...   \n",
       "62  statmike-mlops       digits  digits_prepped         p62        p62   \n",
       "63  statmike-mlops       digits  digits_prepped         p63        p63   \n",
       "64  statmike-mlops       digits  digits_prepped      target     target   \n",
       "65  statmike-mlops       digits  digits_prepped   target_OE  target_OE   \n",
       "66  statmike-mlops       digits  digits_prepped      SPLITS     SPLITS   \n",
       "\n",
       "   data_type description  \n",
       "0    FLOAT64        None  \n",
       "1    FLOAT64        None  \n",
       "2    FLOAT64        None  \n",
       "3    FLOAT64        None  \n",
       "4    FLOAT64        None  \n",
       "..       ...         ...  \n",
       "62   FLOAT64        None  \n",
       "63   FLOAT64        None  \n",
       "64     INT64        None  \n",
       "65    STRING        None  \n",
       "66    STRING        None  \n",
       "\n",
       "[67 rows x 7 columns]"
      ]
     },
     "execution_count": 4,
     "metadata": {},
     "output_type": "execute_result"
    }
   ],
   "source": [
    "from google.cloud import bigquery\n",
    "bqclient = bigquery.Client()\n",
    "bqjob = bqclient.query(\n",
    "\"\"\"\n",
    "SELECT * FROM `\"\"\"+BQDATASET_ID+\"\"\".INFORMATION_SCHEMA.COLUMN_FIELD_PATHS`\n",
    "WHERE TABLE_NAME = '\"\"\"+BQTABLE_ID+\"\"\"' \"\"\"\n",
    ")\n",
    "schema = bqjob.result().to_dataframe()\n",
    "schema"
   ]
  },
  {
   "cell_type": "markdown",
   "id": "ddb41b2b",
   "metadata": {},
   "source": [
    "Use the the table schema to prepare the TensorFlow Model:\n",
    "- Omit unused columns\n",
    "- Create `feature_columns` for the model\n",
    "- Define the `dtypes` for TensorFlow"
   ]
  },
  {
   "cell_type": "code",
   "execution_count": 5,
   "id": "4919db88",
   "metadata": {},
   "outputs": [],
   "source": [
    "OMIT = ['target_OE','SPLITS']\n",
    "\n",
    "selected_fields = schema[~schema.column_name.isin(OMIT)].column_name.tolist()\n",
    "\n",
    "feature_columns = []\n",
    "feature_layer_inputs = {}\n",
    "for header in selected_fields:\n",
    "    if header != 'target':\n",
    "        feature_columns.append(tf.feature_column.numeric_column(header))\n",
    "        feature_layer_inputs[header] = tf.keras.Input(shape=(1,),name=header)\n",
    "\n",
    "from tensorflow.python.framework import dtypes\n",
    "output_types = schema[~schema.column_name.isin(OMIT)].data_type.tolist()\n",
    "output_types = [dtypes.float64 if x=='FLOAT64' else dtypes.int64 for x in output_types]"
   ]
  },
  {
   "cell_type": "markdown",
   "id": "4c6245c6",
   "metadata": {},
   "source": [
    "Define a function that remaps the input data for TensorFlow into features, target and one_hot encodes the `target`:"
   ]
  },
  {
   "cell_type": "code",
   "execution_count": 6,
   "id": "8c6616ef",
   "metadata": {},
   "outputs": [],
   "source": [
    "def transTable(row_dict):\n",
    "    target=row_dict.pop('target')\n",
    "    target = tf.one_hot(tf.cast(target,tf.int64),10)\n",
    "    target = tf.cast(target,tf.float32)\n",
    "    return(row_dict,target)"
   ]
  },
  {
   "cell_type": "markdown",
   "id": "f97eacaa",
   "metadata": {},
   "source": [
    "Setup TensorFlow_IO client > session > table + table.map\n",
    "- https://www.tensorflow.org/io/api_docs/python/tfio/bigquery/BigQueryClient"
   ]
  },
  {
   "cell_type": "code",
   "execution_count": 7,
   "id": "e6abb12a",
   "metadata": {},
   "outputs": [],
   "source": [
    "client = BigQueryClient()\n",
    "session = client.read_session(\"projects/\"+PROJECT_ID,PROJECT_ID,BQTABLE_ID,BQDATASET_ID,selected_fields,output_types,row_restriction=\"SPLITS='TRAIN'\",requested_streams=3)\n",
    "table = session.parallel_read_rows()\n",
    "table = table.map(transTable)\n",
    "train = table.shuffle(100000).batch(BATCH_SIZE)"
   ]
  },
  {
   "cell_type": "code",
   "execution_count": 8,
   "id": "7f151a7c",
   "metadata": {},
   "outputs": [],
   "source": [
    "client = BigQueryClient()\n",
    "session = client.read_session(\"projects/\"+PROJECT_ID,PROJECT_ID,BQTABLE_ID,BQDATASET_ID,selected_fields,output_types,row_restriction=\"SPLITS='TEST'\",requested_streams=3)\n",
    "table = session.parallel_read_rows()\n",
    "table = table.map(transTable)\n",
    "test = table.batch(BATCH_SIZE)"
   ]
  },
  {
   "cell_type": "markdown",
   "id": "eec0072f",
   "metadata": {},
   "source": [
    "Review a single batch of the train data:"
   ]
  },
  {
   "cell_type": "code",
   "execution_count": 9,
   "id": "ac510bfa",
   "metadata": {},
   "outputs": [
    {
     "name": "stdout",
     "output_type": "stream",
     "text": [
      "columns:  ['p0', 'p1', 'p10', 'p11', 'p12', 'p13', 'p14', 'p15', 'p16', 'p17', 'p18', 'p19', 'p2', 'p20', 'p21', 'p22', 'p23', 'p24', 'p25', 'p26', 'p27', 'p28', 'p29', 'p3', 'p30', 'p31', 'p32', 'p33', 'p34', 'p35', 'p36', 'p37', 'p38', 'p39', 'p4', 'p40', 'p41', 'p42', 'p43', 'p44', 'p45', 'p46', 'p47', 'p48', 'p49', 'p5', 'p50', 'p51', 'p52', 'p53', 'p54', 'p55', 'p56', 'p57', 'p58', 'p59', 'p6', 'p60', 'p61', 'p62', 'p63', 'p7', 'p8', 'p9']\n",
      "target:  tf.Tensor(\n",
      "[[0. 1. 0. 0. 0. 0. 0. 0. 0. 0.]\n",
      " [0. 0. 0. 0. 0. 0. 0. 0. 0. 1.]\n",
      " [0. 0. 0. 0. 0. 0. 0. 0. 0. 1.]\n",
      " [0. 0. 0. 0. 0. 0. 0. 0. 1. 0.]\n",
      " [0. 0. 0. 0. 0. 0. 1. 0. 0. 0.]\n",
      " [0. 0. 0. 0. 0. 0. 0. 0. 0. 1.]\n",
      " [1. 0. 0. 0. 0. 0. 0. 0. 0. 0.]\n",
      " [0. 0. 0. 0. 1. 0. 0. 0. 0. 0.]\n",
      " [1. 0. 0. 0. 0. 0. 0. 0. 0. 0.]\n",
      " [0. 0. 0. 0. 0. 0. 0. 1. 0. 0.]\n",
      " [0. 0. 0. 0. 1. 0. 0. 0. 0. 0.]\n",
      " [0. 1. 0. 0. 0. 0. 0. 0. 0. 0.]\n",
      " [0. 0. 0. 0. 0. 0. 0. 0. 0. 1.]\n",
      " [0. 0. 1. 0. 0. 0. 0. 0. 0. 0.]\n",
      " [0. 0. 0. 0. 0. 0. 0. 1. 0. 0.]\n",
      " [0. 0. 0. 0. 0. 0. 0. 0. 0. 1.]\n",
      " [0. 0. 0. 0. 0. 0. 0. 0. 0. 1.]\n",
      " [0. 0. 0. 1. 0. 0. 0. 0. 0. 0.]\n",
      " [0. 0. 0. 0. 0. 1. 0. 0. 0. 0.]\n",
      " [0. 0. 0. 0. 1. 0. 0. 0. 0. 0.]\n",
      " [0. 0. 0. 0. 0. 1. 0. 0. 0. 0.]\n",
      " [1. 0. 0. 0. 0. 0. 0. 0. 0. 0.]\n",
      " [0. 0. 0. 0. 0. 0. 0. 1. 0. 0.]\n",
      " [0. 0. 0. 0. 1. 0. 0. 0. 0. 0.]\n",
      " [0. 0. 0. 0. 1. 0. 0. 0. 0. 0.]\n",
      " [0. 0. 0. 0. 0. 0. 0. 0. 1. 0.]\n",
      " [0. 1. 0. 0. 0. 0. 0. 0. 0. 0.]\n",
      " [0. 0. 0. 0. 0. 0. 0. 0. 0. 1.]\n",
      " [0. 0. 0. 0. 0. 1. 0. 0. 0. 0.]\n",
      " [0. 0. 0. 1. 0. 0. 0. 0. 0. 0.]], shape=(30, 10), dtype=float32)\n"
     ]
    }
   ],
   "source": [
    "for a, b in train.take(1):\n",
    "    columns=list(a.keys())\n",
    "    print('columns: ',columns)\n",
    "    print('target: ',b)"
   ]
  },
  {
   "cell_type": "markdown",
   "id": "fac37a99",
   "metadata": {},
   "source": [
    "---\n",
    "## Train the Model\n",
    "\n",
    "Define the Model:"
   ]
  },
  {
   "cell_type": "code",
   "execution_count": 10,
   "id": "efeb20bb",
   "metadata": {},
   "outputs": [],
   "source": [
    "feature_layer = tf.keras.layers.DenseFeatures(feature_columns)\n",
    "feature_layer_outputs = feature_layer(feature_layer_inputs)\n",
    "model = tf.keras.Model(inputs=[v for v in feature_layer_inputs.values()],outputs=tf.keras.layers.Dense(10,activation=tf.nn.softmax)(feature_layer_outputs))\n",
    "model.compile(optimizer='sgd', loss='categorical_crossentropy', metrics=['accuracy'])\n",
    "#tf.keras.utils.plot_model(model,show_shapes=True, show_dtype=True)"
   ]
  },
  {
   "cell_type": "code",
   "execution_count": 11,
   "id": "9f9b6da3",
   "metadata": {},
   "outputs": [],
   "source": [
    "#model.summary()"
   ]
  },
  {
   "cell_type": "markdown",
   "id": "dc6b6d3c",
   "metadata": {},
   "source": [
    "Fit the Model:"
   ]
  },
  {
   "cell_type": "code",
   "execution_count": 12,
   "id": "3ef6c60f",
   "metadata": {},
   "outputs": [
    {
     "name": "stdout",
     "output_type": "stream",
     "text": [
      "Epoch 1/25\n",
      "48/48 [==============================] - 2s 4ms/step - loss: 3.0064 - accuracy: 0.5429\n",
      "Epoch 2/25\n",
      "48/48 [==============================] - 0s 3ms/step - loss: 0.6868 - accuracy: 0.8256\n",
      "Epoch 3/25\n",
      "48/48 [==============================] - 0s 3ms/step - loss: 0.4098 - accuracy: 0.8854\n",
      "Epoch 4/25\n",
      "48/48 [==============================] - 0s 3ms/step - loss: 0.2985 - accuracy: 0.9128\n",
      "Epoch 5/25\n",
      "48/48 [==============================] - 0s 3ms/step - loss: 0.2475 - accuracy: 0.9290\n",
      "Epoch 6/25\n",
      "48/48 [==============================] - 0s 3ms/step - loss: 0.2128 - accuracy: 0.9346\n",
      "Epoch 7/25\n",
      "48/48 [==============================] - 0s 3ms/step - loss: 0.1901 - accuracy: 0.9459\n",
      "Epoch 8/25\n",
      "48/48 [==============================] - 0s 3ms/step - loss: 0.1710 - accuracy: 0.9501\n",
      "Epoch 9/25\n",
      "48/48 [==============================] - 0s 3ms/step - loss: 0.1506 - accuracy: 0.9592\n",
      "Epoch 10/25\n",
      "48/48 [==============================] - 0s 4ms/step - loss: 0.1440 - accuracy: 0.9550\n",
      "Epoch 11/25\n",
      "48/48 [==============================] - 0s 3ms/step - loss: 0.1300 - accuracy: 0.9613\n",
      "Epoch 12/25\n",
      "48/48 [==============================] - 0s 4ms/step - loss: 0.1240 - accuracy: 0.9669\n",
      "Epoch 13/25\n",
      "48/48 [==============================] - 0s 3ms/step - loss: 0.1174 - accuracy: 0.9684\n",
      "Epoch 14/25\n",
      "48/48 [==============================] - 0s 4ms/step - loss: 0.1037 - accuracy: 0.9655\n",
      "Epoch 15/25\n",
      "48/48 [==============================] - 0s 3ms/step - loss: 0.1011 - accuracy: 0.9691\n",
      "Epoch 16/25\n",
      "48/48 [==============================] - 0s 3ms/step - loss: 0.0957 - accuracy: 0.9726\n",
      "Epoch 17/25\n",
      "48/48 [==============================] - 0s 3ms/step - loss: 0.0874 - accuracy: 0.9705\n",
      "Epoch 18/25\n",
      "48/48 [==============================] - 0s 3ms/step - loss: 0.0867 - accuracy: 0.9719\n",
      "Epoch 19/25\n",
      "48/48 [==============================] - 0s 4ms/step - loss: 0.0793 - accuracy: 0.9768\n",
      "Epoch 20/25\n",
      "48/48 [==============================] - 0s 3ms/step - loss: 0.0773 - accuracy: 0.9761\n",
      "Epoch 21/25\n",
      "48/48 [==============================] - 0s 4ms/step - loss: 0.0755 - accuracy: 0.9789\n",
      "Epoch 22/25\n",
      "48/48 [==============================] - 0s 4ms/step - loss: 0.0707 - accuracy: 0.9789\n",
      "Epoch 23/25\n",
      "48/48 [==============================] - 0s 3ms/step - loss: 0.0719 - accuracy: 0.9817\n",
      "Epoch 24/25\n",
      "48/48 [==============================] - 0s 3ms/step - loss: 0.0694 - accuracy: 0.9796\n",
      "Epoch 25/25\n",
      "48/48 [==============================] - 0s 3ms/step - loss: 0.0667 - accuracy: 0.9810\n"
     ]
    }
   ],
   "source": [
    "history = model.fit(train,epochs=25)"
   ]
  },
  {
   "cell_type": "markdown",
   "id": "0c051751",
   "metadata": {},
   "source": [
    "Evaluate the model with the test data:"
   ]
  },
  {
   "cell_type": "code",
   "execution_count": 13,
   "id": "c1586f21",
   "metadata": {},
   "outputs": [
    {
     "name": "stdout",
     "output_type": "stream",
     "text": [
      "13/13 [==============================] - 1s 4ms/step - loss: 0.1257 - accuracy: 0.9547\n"
     ]
    }
   ],
   "source": [
    "loss, accuracy = model.evaluate(test)"
   ]
  },
  {
   "cell_type": "markdown",
   "id": "e1578373",
   "metadata": {},
   "source": [
    "Create Prediction from a batch of the test data:"
   ]
  },
  {
   "cell_type": "code",
   "execution_count": 14,
   "id": "d101432a",
   "metadata": {},
   "outputs": [
    {
     "data": {
      "text/plain": [
       "array([[1.27079718e-15, 9.99978542e-01, 8.93498817e-12, 1.29185665e-07,\n",
       "        2.04164025e-05, 1.61648483e-09, 2.54492039e-10, 8.88644047e-10,\n",
       "        9.25377549e-07, 3.18868949e-08],\n",
       "       [9.79142508e-14, 9.99978065e-01, 7.28756790e-13, 6.91154696e-07,\n",
       "        1.95546672e-05, 2.63533050e-11, 6.00212380e-11, 3.90892865e-07,\n",
       "        6.60736418e-07, 6.47975185e-07],\n",
       "       [2.23379995e-11, 3.02242428e-01, 6.05099136e-04, 1.54551074e-01,\n",
       "        5.85251510e-05, 1.53991375e-09, 1.94654742e-04, 7.58539932e-03,\n",
       "        5.34762800e-01, 2.65763980e-08],\n",
       "       [1.67277737e-12, 7.83429384e-01, 9.76172129e-11, 2.03484893e-01,\n",
       "        2.92032585e-03, 1.26364810e-07, 5.46031576e-09, 3.23867745e-04,\n",
       "        2.80126394e-03, 7.04008341e-03],\n",
       "       [9.51592347e-11, 3.32730338e-02, 2.15086022e-11, 1.06231790e-09,\n",
       "        9.65432942e-01, 6.98162639e-11, 5.45118291e-06, 1.08381140e-03,\n",
       "        2.04823111e-04, 1.62123837e-09],\n",
       "       [1.91776066e-13, 6.41585886e-02, 9.35531513e-11, 1.28828901e-07,\n",
       "        9.35696900e-01, 1.44638690e-10, 1.82202930e-05, 2.90767948e-05,\n",
       "        9.71035261e-05, 1.11642612e-10],\n",
       "       [7.74758542e-03, 3.58174667e-02, 3.25827318e-06, 1.39283736e-06,\n",
       "        4.93073672e-01, 4.19012213e-06, 4.60824102e-01, 2.46980647e-03,\n",
       "        5.85045964e-05, 1.04812499e-10],\n",
       "       [5.66090577e-13, 9.97342288e-01, 3.48840753e-04, 1.49982181e-04,\n",
       "        8.33160011e-04, 4.47728105e-10, 1.07122073e-03, 1.49023197e-06,\n",
       "        2.52800499e-04, 2.46885151e-07],\n",
       "       [1.80763382e-16, 9.99478638e-01, 2.36566461e-10, 2.49480712e-04,\n",
       "        2.41775459e-04, 6.41796589e-08, 1.39758836e-08, 8.02401061e-08,\n",
       "        2.96706585e-05, 2.26808496e-07],\n",
       "       [3.59746141e-13, 8.18838030e-02, 3.22496478e-13, 7.20546396e-08,\n",
       "        9.18018997e-01, 1.51087463e-08, 2.79354244e-05, 4.28962267e-05,\n",
       "        2.62629819e-05, 7.97101066e-11],\n",
       "       [2.80573219e-03, 5.09549107e-04, 5.71474210e-08, 6.66419453e-08,\n",
       "        8.97942662e-01, 1.07404276e-06, 9.86701772e-02, 5.26740696e-05,\n",
       "        1.80642328e-05, 1.60730942e-11],\n",
       "       [7.80843212e-09, 3.13974624e-07, 4.02398878e-11, 3.88122457e-14,\n",
       "        9.99476135e-01, 1.62779946e-11, 4.77808848e-04, 4.56031667e-05,\n",
       "        2.11187569e-07, 1.83249005e-14],\n",
       "       [3.94819550e-12, 4.33145760e-05, 1.27233326e-12, 2.68306843e-09,\n",
       "        9.99950886e-01, 4.00083569e-12, 2.29282955e-06, 2.19135813e-06,\n",
       "        1.30737203e-06, 2.49101045e-10],\n",
       "       [1.98919703e-09, 6.66451433e-06, 7.44900235e-12, 9.65846569e-11,\n",
       "        9.95149076e-01, 3.06442344e-10, 1.80203444e-03, 2.93163443e-03,\n",
       "        1.10730551e-04, 3.45566284e-11],\n",
       "       [1.69283467e-12, 3.54916701e-05, 3.55988513e-13, 9.91126328e-08,\n",
       "        9.96969521e-01, 1.79995394e-10, 2.99201533e-03, 2.14138140e-06,\n",
       "        8.14998828e-07, 8.66992068e-12],\n",
       "       [6.61640485e-08, 4.30507571e-01, 3.59310815e-03, 5.64393759e-01,\n",
       "        1.24422883e-07, 4.69993097e-07, 1.05578090e-11, 1.11142552e-04,\n",
       "        1.25700608e-03, 1.36803792e-04],\n",
       "       [3.25675936e-16, 1.25839666e-01, 2.77223746e-13, 1.73615525e-10,\n",
       "        8.74154508e-01, 2.26504415e-09, 7.13414972e-09, 5.81428139e-06,\n",
       "        9.68270708e-09, 1.04212097e-08],\n",
       "       [3.67173403e-10, 2.20129004e-06, 5.13821028e-13, 6.78467832e-16,\n",
       "        9.99990821e-01, 8.82839496e-11, 6.04543402e-06, 8.84132078e-07,\n",
       "        2.95974090e-09, 9.50086364e-16],\n",
       "       [1.82775586e-10, 2.50161905e-03, 9.32518169e-13, 2.48145057e-07,\n",
       "        9.95051205e-01, 9.20502896e-10, 1.46730854e-05, 1.78527774e-03,\n",
       "        6.46145549e-04, 7.59449051e-07],\n",
       "       [1.48047165e-11, 8.36060476e-03, 9.03658370e-10, 7.42122950e-08,\n",
       "        9.90708828e-01, 1.62134386e-11, 1.54207970e-04, 1.21793319e-05,\n",
       "        7.64083699e-04, 3.36173515e-12],\n",
       "       [5.15461319e-11, 2.27404249e-04, 3.82596434e-13, 2.88781496e-08,\n",
       "        2.49845965e-04, 2.41139249e-04, 1.18555530e-11, 5.51886114e-05,\n",
       "        4.41381737e-04, 9.98785079e-01],\n",
       "       [2.94466122e-12, 9.97772753e-01, 9.75802209e-07, 9.92011877e-08,\n",
       "        1.44000314e-05, 4.58985757e-12, 5.35480103e-06, 7.78950607e-07,\n",
       "        2.20568245e-03, 1.02588264e-10],\n",
       "       [1.89040287e-03, 3.57506275e-01, 7.18230731e-04, 7.53219589e-04,\n",
       "        5.46655245e-02, 5.57016194e-01, 5.77826984e-04, 4.46369592e-03,\n",
       "        1.12166312e-02, 1.11920284e-02],\n",
       "       [7.00105634e-03, 3.33307162e-02, 1.22822926e-03, 9.11120480e-07,\n",
       "        3.79067169e-05, 5.85314774e-06, 1.25927536e-03, 2.19253081e-04,\n",
       "        8.97997260e-01, 5.89195788e-02],\n",
       "       [5.62646121e-13, 9.98115182e-01, 5.09723763e-10, 5.11350072e-06,\n",
       "        1.84083486e-03, 6.96833746e-09, 2.15478320e-08, 2.63894799e-06,\n",
       "        3.29405302e-05, 3.36839730e-06],\n",
       "       [4.95598571e-14, 9.99994397e-01, 3.51880775e-10, 6.10840445e-08,\n",
       "        4.32734168e-06, 2.20146457e-09, 3.59016816e-10, 2.66711253e-09,\n",
       "        6.31844955e-07, 5.01674833e-07],\n",
       "       [1.44362514e-06, 1.06566800e-08, 1.61930365e-11, 4.73941192e-16,\n",
       "        9.99738395e-01, 2.08911949e-13, 7.23526554e-08, 2.59996072e-04,\n",
       "        7.74695064e-09, 3.38687581e-14],\n",
       "       [2.90420558e-05, 2.62016044e-07, 2.96571517e-10, 6.58073502e-16,\n",
       "        9.99553144e-01, 6.07647743e-12, 4.12473571e-04, 4.93388052e-06,\n",
       "        2.99703373e-08, 7.76794540e-16],\n",
       "       [7.05453900e-08, 3.45236053e-08, 2.80476337e-12, 3.27826209e-16,\n",
       "        9.99813974e-01, 5.59895936e-15, 1.09464486e-06, 1.84844277e-04,\n",
       "        3.80289507e-08, 2.86482817e-11],\n",
       "       [1.65123719e-08, 9.26288351e-07, 1.83177349e-08, 4.95397614e-07,\n",
       "        2.56656705e-07, 1.81417199e-05, 9.99951482e-01, 9.61546931e-08,\n",
       "        2.85487713e-05, 2.09346274e-09]], dtype=float32)"
      ]
     },
     "execution_count": 14,
     "metadata": {},
     "output_type": "execute_result"
    }
   ],
   "source": [
    "model.predict(test.take(1))"
   ]
  },
  {
   "cell_type": "markdown",
   "id": "f0bcc5f7",
   "metadata": {},
   "source": [
    "---\n",
    "## Save the model:"
   ]
  },
  {
   "cell_type": "code",
   "execution_count": 15,
   "id": "e0d637d4",
   "metadata": {},
   "outputs": [
    {
     "name": "stdout",
     "output_type": "stream",
     "text": [
      "INFO:tensorflow:Assets written to: gs://statmike-mlops/digits/model/04_keras/assets\n",
      "INFO:tensorflow:Assets written to: gs://statmike-mlops/digits/model/04_keras/assets\n"
     ]
    }
   ],
   "source": [
    "model.save(MODEL_DIR)"
   ]
  },
  {
   "cell_type": "markdown",
   "id": "7234729b",
   "metadata": {},
   "source": [
    "---\n",
    "## Upload the Model to Vertex AI\n",
    "\n",
    "Create a client to the Model Service, define the Model, and upload the model:"
   ]
  },
  {
   "cell_type": "code",
   "execution_count": 16,
   "id": "e9141283",
   "metadata": {},
   "outputs": [],
   "source": [
    "clients['model'] = aiplatform.gapic.ModelServiceClient(client_options=client_options)\n",
    "\n",
    "MODEL = {\n",
    "    \"display_name\": MODEL_NAME,\n",
    "    \"metadata_schema_uri\": \"\",\n",
    "    \"artifact_uri\": MODEL_DIR,\n",
    "    \"container_spec\": {\n",
    "        \"image_uri\": DEPLOY_IMAGE,\n",
    "        \"command\": [],\n",
    "        \"args\": [],\n",
    "        \"env\": [],\n",
    "        \"ports\": [{\"container_port\": 8080}],\n",
    "        \"predict_route\": \"\",\n",
    "        \"health_route\": \"\"\n",
    "    }\n",
    "}\n",
    "\n",
    "uploaded_model = clients['model'].upload_model(parent=PARENT, model=MODEL)"
   ]
  },
  {
   "cell_type": "markdown",
   "id": "44feac4f",
   "metadata": {},
   "source": [
    "Retrieve the model information and view the name and display name:"
   ]
  },
  {
   "cell_type": "code",
   "execution_count": 17,
   "id": "e2bc9e7d",
   "metadata": {},
   "outputs": [
    {
     "data": {
      "text/plain": [
       "('MODEL_04_KERAS-DIGITS',\n",
       " 'projects/691911073727/locations/us-central1/models/7863364114226085888')"
      ]
     },
     "execution_count": 17,
     "metadata": {},
     "output_type": "execute_result"
    }
   ],
   "source": [
    "model_info = clients['model'].get_model(name=uploaded_model.result(timeout=180).model)\n",
    "model_info.display_name, model_info.name"
   ]
  },
  {
   "cell_type": "markdown",
   "id": "3368b712",
   "metadata": {},
   "source": [
    "---\n",
    "## Create the Vertex AI Endpoint\n",
    "\n",
    "Create a client to the Endpoint Service and use it to create the endpoint:"
   ]
  },
  {
   "cell_type": "code",
   "execution_count": 18,
   "id": "632fedbb",
   "metadata": {},
   "outputs": [],
   "source": [
    "clients['endpoint'] = aiplatform.gapic.EndpointServiceClient(client_options=client_options)\n",
    "\n",
    "endpoint = clients['endpoint'].create_endpoint(parent=PARENT, endpoint={\"display_name\": ENDPOINT_NAME})"
   ]
  },
  {
   "cell_type": "markdown",
   "id": "56430001",
   "metadata": {},
   "source": [
    "Retrieve the endpoint information and view the name and display name:"
   ]
  },
  {
   "cell_type": "code",
   "execution_count": 19,
   "id": "eb1c1904",
   "metadata": {},
   "outputs": [
    {
     "data": {
      "text/plain": [
       "('ENDPOINT_04_KERAS-DIGITS',\n",
       " 'projects/691911073727/locations/us-central1/endpoints/7835893915717730304')"
      ]
     },
     "execution_count": 19,
     "metadata": {},
     "output_type": "execute_result"
    }
   ],
   "source": [
    "endpoint_info = clients['endpoint'].get_endpoint(name=endpoint.result(timeout=180).name)\n",
    "endpoint_info.display_name, endpoint_info.name"
   ]
  },
  {
   "cell_type": "markdown",
   "id": "edfa3a11",
   "metadata": {},
   "source": [
    "---\n",
    "## Deploy the Model to the Vertex AI Endpoint"
   ]
  },
  {
   "cell_type": "code",
   "execution_count": 20,
   "id": "066ec9de",
   "metadata": {},
   "outputs": [],
   "source": [
    "DMODEL = {\n",
    "        \"model\": model_info.name,\n",
    "        \"display_name\": 'DEPLOYED_'+MODEL_NAME,\n",
    "        \"dedicated_resources\": {\n",
    "            \"min_replica_count\": 1,\n",
    "            \"max_replica_count\": 1,\n",
    "            \"machine_spec\": {\n",
    "                    \"machine_type\": DEPLOY_COMPUTE,\n",
    "                    \"accelerator_count\": 0,\n",
    "                }\n",
    "        }   \n",
    "}\n",
    "\n",
    "TRAFFIC = {\n",
    "    '0' : 100\n",
    "}\n",
    "\n",
    "dmodel = clients['endpoint'].deploy_model(endpoint=endpoint_info.name, deployed_model=DMODEL, traffic_split=TRAFFIC)"
   ]
  },
  {
   "cell_type": "markdown",
   "id": "ad0dcb82",
   "metadata": {},
   "source": [
    "Retrieve the deployed model information from the endpoint:"
   ]
  },
  {
   "cell_type": "code",
   "execution_count": 22,
   "id": "c73ea33e",
   "metadata": {},
   "outputs": [
    {
     "data": {
      "text/plain": [
       "[id: \"4165838451410731008\"\n",
       "model: \"projects/691911073727/locations/us-central1/models/7863364114226085888\"\n",
       "display_name: \"DEPLOYED_MODEL_04_KERAS-DIGITS\"\n",
       "create_time {\n",
       "  seconds: 1626949125\n",
       "  nanos: 517193000\n",
       "}\n",
       "dedicated_resources {\n",
       "  machine_spec {\n",
       "    machine_type: \"n1-standard-4\"\n",
       "  }\n",
       "  min_replica_count: 1\n",
       "  max_replica_count: 1\n",
       "}\n",
       "]"
      ]
     },
     "execution_count": 22,
     "metadata": {},
     "output_type": "execute_result"
    }
   ],
   "source": [
    "clients['endpoint'].get_endpoint(name=endpoint_info.name).deployed_models"
   ]
  },
  {
   "cell_type": "markdown",
   "id": "6a3a92ea",
   "metadata": {},
   "source": [
    "---\n",
    "## Predictions"
   ]
  },
  {
   "cell_type": "markdown",
   "id": "da8b74b8",
   "metadata": {},
   "source": [
    "Create a client to the prediction service:"
   ]
  },
  {
   "cell_type": "code",
   "execution_count": 23,
   "id": "f7f92247",
   "metadata": {},
   "outputs": [],
   "source": [
    "clients['prediction'] = aiplatform.gapic.PredictionServiceClient(client_options=client_options)"
   ]
  },
  {
   "cell_type": "markdown",
   "id": "aefb824b",
   "metadata": {},
   "source": [
    "Setup an observation for prediction:"
   ]
  },
  {
   "cell_type": "code",
   "execution_count": 24,
   "id": "5857dd1b",
   "metadata": {},
   "outputs": [
    {
     "name": "stderr",
     "output_type": "stream",
     "text": [
      "Query complete after 0.00s: 100%|██████████| 1/1 [00:00<00:00, 708.86query/s] \n",
      "Downloading: 100%|██████████| 375/375 [00:00<00:00, 408.78rows/s]\n"
     ]
    }
   ],
   "source": [
    "%%bigquery pred\n",
    "SELECT *\n",
    "FROM `digits.digits_prepped`\n",
    "WHERE splits='TEST'"
   ]
  },
  {
   "cell_type": "code",
   "execution_count": 25,
   "id": "60031cb8",
   "metadata": {},
   "outputs": [
    {
     "data": {
      "text/html": [
       "<div>\n",
       "<style scoped>\n",
       "    .dataframe tbody tr th:only-of-type {\n",
       "        vertical-align: middle;\n",
       "    }\n",
       "\n",
       "    .dataframe tbody tr th {\n",
       "        vertical-align: top;\n",
       "    }\n",
       "\n",
       "    .dataframe thead th {\n",
       "        text-align: right;\n",
       "    }\n",
       "</style>\n",
       "<table border=\"1\" class=\"dataframe\">\n",
       "  <thead>\n",
       "    <tr style=\"text-align: right;\">\n",
       "      <th></th>\n",
       "      <th>p0</th>\n",
       "      <th>p1</th>\n",
       "      <th>p2</th>\n",
       "      <th>p3</th>\n",
       "      <th>p4</th>\n",
       "      <th>p5</th>\n",
       "      <th>p6</th>\n",
       "      <th>p7</th>\n",
       "      <th>p8</th>\n",
       "      <th>p9</th>\n",
       "      <th>...</th>\n",
       "      <th>p57</th>\n",
       "      <th>p58</th>\n",
       "      <th>p59</th>\n",
       "      <th>p60</th>\n",
       "      <th>p61</th>\n",
       "      <th>p62</th>\n",
       "      <th>p63</th>\n",
       "      <th>target</th>\n",
       "      <th>target_OE</th>\n",
       "      <th>SPLITS</th>\n",
       "    </tr>\n",
       "  </thead>\n",
       "  <tbody>\n",
       "    <tr>\n",
       "      <th>0</th>\n",
       "      <td>0.0</td>\n",
       "      <td>0.0</td>\n",
       "      <td>0.0</td>\n",
       "      <td>0.0</td>\n",
       "      <td>13.0</td>\n",
       "      <td>12.0</td>\n",
       "      <td>0.0</td>\n",
       "      <td>0.0</td>\n",
       "      <td>0.0</td>\n",
       "      <td>0.0</td>\n",
       "      <td>...</td>\n",
       "      <td>0.0</td>\n",
       "      <td>0.0</td>\n",
       "      <td>0.0</td>\n",
       "      <td>15.0</td>\n",
       "      <td>11.0</td>\n",
       "      <td>0.0</td>\n",
       "      <td>0.0</td>\n",
       "      <td>1</td>\n",
       "      <td>Odd</td>\n",
       "      <td>TEST</td>\n",
       "    </tr>\n",
       "  </tbody>\n",
       "</table>\n",
       "<p>1 rows × 67 columns</p>\n",
       "</div>"
      ],
      "text/plain": [
       "    p0   p1   p2   p3    p4    p5   p6   p7   p8   p9  ...  p57  p58  p59  \\\n",
       "0  0.0  0.0  0.0  0.0  13.0  12.0  0.0  0.0  0.0  0.0  ...  0.0  0.0  0.0   \n",
       "\n",
       "    p60   p61  p62  p63  target  target_OE  SPLITS  \n",
       "0  15.0  11.0  0.0  0.0       1        Odd    TEST  \n",
       "\n",
       "[1 rows x 67 columns]"
      ]
     },
     "execution_count": 25,
     "metadata": {},
     "output_type": "execute_result"
    }
   ],
   "source": [
    "pred.head(1)"
   ]
  },
  {
   "cell_type": "code",
   "execution_count": 26,
   "id": "52c9ef80",
   "metadata": {},
   "outputs": [],
   "source": [
    "newob = pred.loc[:0,'p0':'p63'].to_dict(orient='records')[0]\n",
    "#newob"
   ]
  },
  {
   "cell_type": "markdown",
   "id": "f92fed2d",
   "metadata": {},
   "source": [
    "### With Python Client"
   ]
  },
  {
   "cell_type": "markdown",
   "id": "6979385e",
   "metadata": {},
   "source": [
    "Request prediction from the prediction service:"
   ]
  },
  {
   "cell_type": "code",
   "execution_count": 27,
   "id": "d3b50648",
   "metadata": {},
   "outputs": [],
   "source": [
    "from google.protobuf import json_format\n",
    "from google.protobuf.struct_pb2 import Value\n",
    "\n",
    "response = clients['prediction'].predict(endpoint=endpoint_info.name, instances=[json_format.ParseDict(newob, Value())], parameters=json_format.ParseDict({}, Value()))"
   ]
  },
  {
   "cell_type": "code",
   "execution_count": 28,
   "id": "5ef28f96",
   "metadata": {},
   "outputs": [
    {
     "data": {
      "text/plain": [
       "[[1.27079728e-15, 0.999978542, 8.93498903e-12, 1.29185665e-07, 2.04164025e-05, 1.61648472e-09, 2.54492039e-10, 8.88644047e-10, 9.25377549e-07, 3.18868949e-08]]"
      ]
     },
     "execution_count": 28,
     "metadata": {},
     "output_type": "execute_result"
    }
   ],
   "source": [
    "response.predictions"
   ]
  },
  {
   "cell_type": "code",
   "execution_count": 29,
   "id": "250378f0",
   "metadata": {},
   "outputs": [
    {
     "data": {
      "text/plain": [
       "1"
      ]
     },
     "execution_count": 29,
     "metadata": {},
     "output_type": "execute_result"
    }
   ],
   "source": [
    "import numpy as np\n",
    "np.argmax(response.predictions[0])"
   ]
  },
  {
   "cell_type": "markdown",
   "id": "f15e6fdc",
   "metadata": {},
   "source": [
    "### With REST"
   ]
  },
  {
   "cell_type": "code",
   "execution_count": 30,
   "id": "7ea57cae",
   "metadata": {},
   "outputs": [],
   "source": [
    "import json\n",
    "with open('request.json','w') as file:\n",
    "    file.write(json.dumps({\"instances\": [newob]}))"
   ]
  },
  {
   "cell_type": "code",
   "execution_count": 31,
   "id": "8bdb513b",
   "metadata": {},
   "outputs": [
    {
     "name": "stdout",
     "output_type": "stream",
     "text": [
      "{\n",
      "  \"predictions\": [\n",
      "    [\n",
      "      1.27079728e-15,\n",
      "      0.999978542,\n",
      "      8.93498903e-12,\n",
      "      1.29185665e-07,\n",
      "      2.04164025e-05,\n",
      "      1.61648472e-09,\n",
      "      2.54492039e-10,\n",
      "      8.88644047e-10,\n",
      "      9.25377549e-07,\n",
      "      3.18868949e-08\n",
      "    ]\n",
      "  ],\n",
      "  \"deployedModelId\": \"4165838451410731008\"\n",
      "}\n"
     ]
    }
   ],
   "source": [
    "!curl -X POST \\\n",
    "-H \"Authorization: Bearer \"$(gcloud auth application-default print-access-token) \\\n",
    "-H \"Content-Type: application/json; charset=utf-8\" \\\n",
    "-d @request.json \\\n",
    "https://{API_ENDPOINT}/v1/{endpoint_info.name}:predict"
   ]
  },
  {
   "cell_type": "markdown",
   "id": "0943788b",
   "metadata": {},
   "source": [
    "### With gcloud"
   ]
  },
  {
   "cell_type": "code",
   "execution_count": 32,
   "id": "1088c132",
   "metadata": {},
   "outputs": [
    {
     "name": "stdout",
     "output_type": "stream",
     "text": [
      "Using endpoint [https://us-central1-prediction-aiplatform.googleapis.com/]\n",
      "[[1.27079728e-15, 0.999978542, 8.93498903e-12, 1.29185665e-07, 2.04164025e-05, 1.61648472e-09, 2.54492039e-10, 8.88644047e-10, 9.25377549e-07, 3.18868949e-08]]\n"
     ]
    }
   ],
   "source": [
    "!gcloud beta ai endpoints predict {endpoint_info.name.rsplit('/',1)[-1]} --region={REGION} --json-request=request.json"
   ]
  },
  {
   "cell_type": "markdown",
   "id": "b49e67b0",
   "metadata": {},
   "source": [
    "---\n",
    "# Remove Resources\n",
    "- undeploy-model\n",
    "- remove endpoint\n",
    "- remove model\n",
    "- delete model files"
   ]
  },
  {
   "cell_type": "markdown",
   "id": "902d6975",
   "metadata": {},
   "source": [
    "Undeploy Model:"
   ]
  },
  {
   "cell_type": "code",
   "execution_count": 79,
   "id": "3b95d7f3",
   "metadata": {},
   "outputs": [
    {
     "data": {
      "text/plain": [
       "<google.api_core.operation.Operation at 0x7fa2d43df390>"
      ]
     },
     "execution_count": 79,
     "metadata": {},
     "output_type": "execute_result"
    }
   ],
   "source": [
    "dmodel = clients['endpoint'].get_endpoint(name=endpoint_info.name).deployed_models[0].id\n",
    "clients['endpoint'].undeploy_model(endpoint=endpoint_info.name, deployed_model_id=dmodel)"
   ]
  },
  {
   "cell_type": "markdown",
   "id": "2d9e5491",
   "metadata": {},
   "source": [
    "Delete Endpoint:"
   ]
  },
  {
   "cell_type": "code",
   "execution_count": 80,
   "id": "7b17983e",
   "metadata": {},
   "outputs": [
    {
     "data": {
      "text/plain": [
       "<google.api_core.operation.Operation at 0x7fa2d43df490>"
      ]
     },
     "execution_count": 80,
     "metadata": {},
     "output_type": "execute_result"
    }
   ],
   "source": [
    "clients['endpoint'].delete_endpoint(name=endpoint_info.name)"
   ]
  },
  {
   "cell_type": "markdown",
   "id": "6a472932",
   "metadata": {},
   "source": [
    "Remove Model:"
   ]
  },
  {
   "cell_type": "code",
   "execution_count": 81,
   "id": "fa835ca1",
   "metadata": {},
   "outputs": [
    {
     "data": {
      "text/plain": [
       "<google.api_core.operation.Operation at 0x7fa2d43a8510>"
      ]
     },
     "execution_count": 81,
     "metadata": {},
     "output_type": "execute_result"
    }
   ],
   "source": [
    "clients['model'].delete_model(name=model_info.name)"
   ]
  },
  {
   "cell_type": "markdown",
   "id": "3aec1a6d",
   "metadata": {},
   "source": [
    "Delete Model Files:"
   ]
  },
  {
   "cell_type": "code",
   "execution_count": 82,
   "id": "6ce7578a",
   "metadata": {},
   "outputs": [],
   "source": [
    "from google.cloud import storage\n",
    "gcs = storage.Client()\n",
    "\n",
    "path = gcs.bucket(PROJECT_ID)\n",
    "blobs = path.list_blobs(prefix='digits/keras')\n",
    "for blob in blobs:\n",
    "    blob.delete()"
   ]
  },
  {
   "cell_type": "code",
   "execution_count": null,
   "id": "cf0cde6f",
   "metadata": {},
   "outputs": [],
   "source": []
  }
 ],
 "metadata": {
  "environment": {
   "name": "managed-notebooks.m70",
   "type": "gcloud",
   "uri": "gcr.io/deeplearning-platform-release/managed-notebooks:m70"
  },
  "kernelspec": {
   "display_name": "Python",
   "language": "python",
   "name": "base"
  },
  "language_info": {
   "codemirror_mode": {
    "name": "ipython",
    "version": 3
   },
   "file_extension": ".py",
   "mimetype": "text/x-python",
   "name": "python",
   "nbconvert_exporter": "python",
   "pygments_lexer": "ipython3",
   "version": "3.7.10"
  }
 },
 "nbformat": 4,
 "nbformat_minor": 5
}
