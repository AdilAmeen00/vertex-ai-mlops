{
 "cells": [
  {
   "cell_type": "markdown",
   "id": "be7e7ab0",
   "metadata": {},
   "source": [
    "# Vertex AI - External Model Serving\n",
    "\n",
    "This notebook uses a Vertex AI Notebook to train a TensorFlow model (locally) with the data in BigQuery table `<PROJECT_ID>.digits.digits_prepped`.  This model is then saved and Vertex AI clients are used to upload the model and deploy it to an endpoint for online predictions.\n",
    "\n",
    "**Prerequisites**\n",
    "- `00 - Initial Setup`\n",
    "- `01 - BigQuery - Data`\n",
    "\n",
    "**Overview**\n",
    "\n",
    "<img src=\"architectures/statmike-mlops-04.png\">"
   ]
  },
  {
   "cell_type": "markdown",
   "id": "2cb69f60",
   "metadata": {},
   "source": [
    "---\n",
    "## Setup"
   ]
  },
  {
   "cell_type": "markdown",
   "id": "2d02c61f",
   "metadata": {},
   "source": [
    "Prepare TensorFlow:"
   ]
  },
  {
   "cell_type": "code",
   "execution_count": 1,
   "id": "d87b2ef4",
   "metadata": {},
   "outputs": [],
   "source": [
    "from tensorflow_io.bigquery import BigQueryClient\n",
    "from tensorflow_io.bigquery import BigQueryReadSession\n",
    "import tensorflow as tf"
   ]
  },
  {
   "cell_type": "markdown",
   "id": "8592ef86",
   "metadata": {},
   "source": [
    "Setup Parameters"
   ]
  },
  {
   "cell_type": "code",
   "execution_count": 2,
   "id": "2b3b3b8c",
   "metadata": {},
   "outputs": [],
   "source": [
    "PROJECT_ID='statmike-mlops'\n",
    "REGION='us-central1'\n",
    "\n",
    "BQDATASET_ID='digits'\n",
    "BQTABLE_ID='digits_prepped'\n",
    "\n",
    "MODEL_DIR='gs://{}/digits/model/04_keras'.format(PROJECT_ID)\n",
    "PARENT = \"projects/\" + PROJECT_ID + \"/locations/\" + REGION\n",
    "\n",
    "BATCH_SIZE = 30\n",
    "\n",
    "MODEL_NAME='MODEL_04_KERAS-DIGITS'\n",
    "ENDPOINT_NAME='ENDPOINT_04_KERAS-DIGITS'\n",
    "params = {\"MODEL_DIR\":MODEL_DIR}\n",
    "DEPLOY_IMAGE='us-docker.pkg.dev/cloud-aiplatform/prediction/tf2-cpu.2-2:latest'\n",
    "DEPLOY_COMPUTE='n1-standard-4'"
   ]
  },
  {
   "cell_type": "markdown",
   "id": "f457a6af",
   "metadata": {},
   "source": [
    "Setup Vertex AI Python Clients\n",
    "- https://googleapis.dev/python/aiplatform/latest/index.html"
   ]
  },
  {
   "cell_type": "code",
   "execution_count": 3,
   "id": "84e24124",
   "metadata": {},
   "outputs": [],
   "source": [
    "from google.cloud import aiplatform\n",
    "\n",
    "API_ENDPOINT = \"{}-aiplatform.googleapis.com\".format(REGION)\n",
    "client_options = {\"api_endpoint\": API_ENDPOINT}\n",
    "clients = {}"
   ]
  },
  {
   "cell_type": "markdown",
   "id": "8d8577ce",
   "metadata": {},
   "source": [
    "---\n",
    "## Prepare Data Connection\n",
    "\n",
    "Retrieve the Schema info from BigQuery Information Schema via the Storage API:\n",
    "- https://cloud.google.com/bigquery/docs/bigquery-storage-python-pandas"
   ]
  },
  {
   "cell_type": "code",
   "execution_count": 4,
   "id": "7415ac4a",
   "metadata": {},
   "outputs": [
    {
     "data": {
      "text/html": [
       "<div>\n",
       "<style scoped>\n",
       "    .dataframe tbody tr th:only-of-type {\n",
       "        vertical-align: middle;\n",
       "    }\n",
       "\n",
       "    .dataframe tbody tr th {\n",
       "        vertical-align: top;\n",
       "    }\n",
       "\n",
       "    .dataframe thead th {\n",
       "        text-align: right;\n",
       "    }\n",
       "</style>\n",
       "<table border=\"1\" class=\"dataframe\">\n",
       "  <thead>\n",
       "    <tr style=\"text-align: right;\">\n",
       "      <th></th>\n",
       "      <th>table_catalog</th>\n",
       "      <th>table_schema</th>\n",
       "      <th>table_name</th>\n",
       "      <th>column_name</th>\n",
       "      <th>field_path</th>\n",
       "      <th>data_type</th>\n",
       "      <th>description</th>\n",
       "    </tr>\n",
       "  </thead>\n",
       "  <tbody>\n",
       "    <tr>\n",
       "      <th>0</th>\n",
       "      <td>statmike-mlops</td>\n",
       "      <td>digits</td>\n",
       "      <td>digits_prepped</td>\n",
       "      <td>p0</td>\n",
       "      <td>p0</td>\n",
       "      <td>FLOAT64</td>\n",
       "      <td>None</td>\n",
       "    </tr>\n",
       "    <tr>\n",
       "      <th>1</th>\n",
       "      <td>statmike-mlops</td>\n",
       "      <td>digits</td>\n",
       "      <td>digits_prepped</td>\n",
       "      <td>p1</td>\n",
       "      <td>p1</td>\n",
       "      <td>FLOAT64</td>\n",
       "      <td>None</td>\n",
       "    </tr>\n",
       "    <tr>\n",
       "      <th>2</th>\n",
       "      <td>statmike-mlops</td>\n",
       "      <td>digits</td>\n",
       "      <td>digits_prepped</td>\n",
       "      <td>p2</td>\n",
       "      <td>p2</td>\n",
       "      <td>FLOAT64</td>\n",
       "      <td>None</td>\n",
       "    </tr>\n",
       "    <tr>\n",
       "      <th>3</th>\n",
       "      <td>statmike-mlops</td>\n",
       "      <td>digits</td>\n",
       "      <td>digits_prepped</td>\n",
       "      <td>p3</td>\n",
       "      <td>p3</td>\n",
       "      <td>FLOAT64</td>\n",
       "      <td>None</td>\n",
       "    </tr>\n",
       "    <tr>\n",
       "      <th>4</th>\n",
       "      <td>statmike-mlops</td>\n",
       "      <td>digits</td>\n",
       "      <td>digits_prepped</td>\n",
       "      <td>p4</td>\n",
       "      <td>p4</td>\n",
       "      <td>FLOAT64</td>\n",
       "      <td>None</td>\n",
       "    </tr>\n",
       "    <tr>\n",
       "      <th>...</th>\n",
       "      <td>...</td>\n",
       "      <td>...</td>\n",
       "      <td>...</td>\n",
       "      <td>...</td>\n",
       "      <td>...</td>\n",
       "      <td>...</td>\n",
       "      <td>...</td>\n",
       "    </tr>\n",
       "    <tr>\n",
       "      <th>62</th>\n",
       "      <td>statmike-mlops</td>\n",
       "      <td>digits</td>\n",
       "      <td>digits_prepped</td>\n",
       "      <td>p62</td>\n",
       "      <td>p62</td>\n",
       "      <td>FLOAT64</td>\n",
       "      <td>None</td>\n",
       "    </tr>\n",
       "    <tr>\n",
       "      <th>63</th>\n",
       "      <td>statmike-mlops</td>\n",
       "      <td>digits</td>\n",
       "      <td>digits_prepped</td>\n",
       "      <td>p63</td>\n",
       "      <td>p63</td>\n",
       "      <td>FLOAT64</td>\n",
       "      <td>None</td>\n",
       "    </tr>\n",
       "    <tr>\n",
       "      <th>64</th>\n",
       "      <td>statmike-mlops</td>\n",
       "      <td>digits</td>\n",
       "      <td>digits_prepped</td>\n",
       "      <td>target</td>\n",
       "      <td>target</td>\n",
       "      <td>INT64</td>\n",
       "      <td>None</td>\n",
       "    </tr>\n",
       "    <tr>\n",
       "      <th>65</th>\n",
       "      <td>statmike-mlops</td>\n",
       "      <td>digits</td>\n",
       "      <td>digits_prepped</td>\n",
       "      <td>target_OE</td>\n",
       "      <td>target_OE</td>\n",
       "      <td>STRING</td>\n",
       "      <td>None</td>\n",
       "    </tr>\n",
       "    <tr>\n",
       "      <th>66</th>\n",
       "      <td>statmike-mlops</td>\n",
       "      <td>digits</td>\n",
       "      <td>digits_prepped</td>\n",
       "      <td>SPLITS</td>\n",
       "      <td>SPLITS</td>\n",
       "      <td>STRING</td>\n",
       "      <td>None</td>\n",
       "    </tr>\n",
       "  </tbody>\n",
       "</table>\n",
       "<p>67 rows × 7 columns</p>\n",
       "</div>"
      ],
      "text/plain": [
       "     table_catalog table_schema      table_name column_name field_path  \\\n",
       "0   statmike-mlops       digits  digits_prepped          p0         p0   \n",
       "1   statmike-mlops       digits  digits_prepped          p1         p1   \n",
       "2   statmike-mlops       digits  digits_prepped          p2         p2   \n",
       "3   statmike-mlops       digits  digits_prepped          p3         p3   \n",
       "4   statmike-mlops       digits  digits_prepped          p4         p4   \n",
       "..             ...          ...             ...         ...        ...   \n",
       "62  statmike-mlops       digits  digits_prepped         p62        p62   \n",
       "63  statmike-mlops       digits  digits_prepped         p63        p63   \n",
       "64  statmike-mlops       digits  digits_prepped      target     target   \n",
       "65  statmike-mlops       digits  digits_prepped   target_OE  target_OE   \n",
       "66  statmike-mlops       digits  digits_prepped      SPLITS     SPLITS   \n",
       "\n",
       "   data_type description  \n",
       "0    FLOAT64        None  \n",
       "1    FLOAT64        None  \n",
       "2    FLOAT64        None  \n",
       "3    FLOAT64        None  \n",
       "4    FLOAT64        None  \n",
       "..       ...         ...  \n",
       "62   FLOAT64        None  \n",
       "63   FLOAT64        None  \n",
       "64     INT64        None  \n",
       "65    STRING        None  \n",
       "66    STRING        None  \n",
       "\n",
       "[67 rows x 7 columns]"
      ]
     },
     "execution_count": 4,
     "metadata": {},
     "output_type": "execute_result"
    }
   ],
   "source": [
    "from google.cloud import bigquery\n",
    "bqclient = bigquery.Client()\n",
    "bqjob = bqclient.query(\n",
    "\"\"\"\n",
    "SELECT * FROM `\"\"\"+BQDATASET_ID+\"\"\".INFORMATION_SCHEMA.COLUMN_FIELD_PATHS`\n",
    "WHERE TABLE_NAME = '\"\"\"+BQTABLE_ID+\"\"\"' \"\"\"\n",
    ")\n",
    "schema = bqjob.result().to_dataframe()\n",
    "schema"
   ]
  },
  {
   "cell_type": "markdown",
   "id": "4676d6ff",
   "metadata": {},
   "source": [
    "Use the the table schema to prepare the TensorFlow Model:\n",
    "- Omit unused columns\n",
    "- Create `feature_columns` for the model\n",
    "- Define the `dtypes` for TensorFlow"
   ]
  },
  {
   "cell_type": "code",
   "execution_count": 5,
   "id": "68df64fc",
   "metadata": {},
   "outputs": [],
   "source": [
    "OMIT = ['target_OE','SPLITS']\n",
    "\n",
    "selected_fields = schema[~schema.column_name.isin(OMIT)].column_name.tolist()\n",
    "\n",
    "feature_columns = []\n",
    "feature_layer_inputs = {}\n",
    "for header in selected_fields:\n",
    "    if header != 'target':\n",
    "        feature_columns.append(tf.feature_column.numeric_column(header))\n",
    "        feature_layer_inputs[header] = tf.keras.Input(shape=(1,),name=header)\n",
    "\n",
    "from tensorflow.python.framework import dtypes\n",
    "output_types = schema[~schema.column_name.isin(OMIT)].data_type.tolist()\n",
    "output_types = [dtypes.float64 if x=='FLOAT64' else dtypes.int64 for x in output_types]"
   ]
  },
  {
   "cell_type": "markdown",
   "id": "39362f08",
   "metadata": {},
   "source": [
    "Define a function that remaps the input data for TensorFlow into features, target and one_hot encodes the `target`:"
   ]
  },
  {
   "cell_type": "code",
   "execution_count": 6,
   "id": "d62abaab",
   "metadata": {},
   "outputs": [],
   "source": [
    "def transTable(row_dict):\n",
    "    target=row_dict.pop('target')\n",
    "    target = tf.one_hot(tf.cast(target,tf.int64),10)\n",
    "    target = tf.cast(target,tf.float32)\n",
    "    return(row_dict,target)"
   ]
  },
  {
   "cell_type": "markdown",
   "id": "cd46bd72",
   "metadata": {},
   "source": [
    "Setup TensorFlow_IO client > session > table + table.map\n",
    "- https://www.tensorflow.org/io/api_docs/python/tfio/bigquery/BigQueryClient"
   ]
  },
  {
   "cell_type": "code",
   "execution_count": 7,
   "id": "1cb14f23",
   "metadata": {},
   "outputs": [],
   "source": [
    "client = BigQueryClient()\n",
    "session = client.read_session(\"projects/\"+PROJECT_ID,PROJECT_ID,BQTABLE_ID,BQDATASET_ID,selected_fields,output_types,row_restriction=\"SPLITS='TRAIN'\",requested_streams=3)\n",
    "table = session.parallel_read_rows()\n",
    "table = table.map(transTable)\n",
    "train = table.shuffle(100000).batch(BATCH_SIZE)"
   ]
  },
  {
   "cell_type": "code",
   "execution_count": 8,
   "id": "91e7d74d",
   "metadata": {},
   "outputs": [],
   "source": [
    "client = BigQueryClient()\n",
    "session = client.read_session(\"projects/\"+PROJECT_ID,PROJECT_ID,BQTABLE_ID,BQDATASET_ID,selected_fields,output_types,row_restriction=\"SPLITS='TEST'\",requested_streams=3)\n",
    "table = session.parallel_read_rows()\n",
    "table = table.map(transTable)\n",
    "test = table.batch(BATCH_SIZE)"
   ]
  },
  {
   "cell_type": "markdown",
   "id": "54fc8733",
   "metadata": {},
   "source": [
    "Review a single batch of the train data:"
   ]
  },
  {
   "cell_type": "code",
   "execution_count": 9,
   "id": "98c4803b",
   "metadata": {},
   "outputs": [
    {
     "name": "stdout",
     "output_type": "stream",
     "text": [
      "columns:  ['p0', 'p1', 'p10', 'p11', 'p12', 'p13', 'p14', 'p15', 'p16', 'p17', 'p18', 'p19', 'p2', 'p20', 'p21', 'p22', 'p23', 'p24', 'p25', 'p26', 'p27', 'p28', 'p29', 'p3', 'p30', 'p31', 'p32', 'p33', 'p34', 'p35', 'p36', 'p37', 'p38', 'p39', 'p4', 'p40', 'p41', 'p42', 'p43', 'p44', 'p45', 'p46', 'p47', 'p48', 'p49', 'p5', 'p50', 'p51', 'p52', 'p53', 'p54', 'p55', 'p56', 'p57', 'p58', 'p59', 'p6', 'p60', 'p61', 'p62', 'p63', 'p7', 'p8', 'p9']\n",
      "target:  tf.Tensor(\n",
      "[[0. 0. 0. 0. 0. 0. 1. 0. 0. 0.]\n",
      " [0. 0. 0. 0. 0. 0. 0. 0. 1. 0.]\n",
      " [0. 0. 0. 0. 0. 0. 1. 0. 0. 0.]\n",
      " [0. 1. 0. 0. 0. 0. 0. 0. 0. 0.]\n",
      " [0. 0. 0. 0. 0. 1. 0. 0. 0. 0.]\n",
      " [0. 0. 0. 0. 0. 0. 0. 0. 1. 0.]\n",
      " [0. 0. 0. 0. 0. 0. 0. 0. 0. 1.]\n",
      " [0. 0. 0. 0. 0. 0. 0. 0. 1. 0.]\n",
      " [0. 0. 0. 0. 0. 0. 0. 1. 0. 0.]\n",
      " [1. 0. 0. 0. 0. 0. 0. 0. 0. 0.]\n",
      " [1. 0. 0. 0. 0. 0. 0. 0. 0. 0.]\n",
      " [0. 0. 0. 0. 0. 0. 0. 0. 0. 1.]\n",
      " [0. 1. 0. 0. 0. 0. 0. 0. 0. 0.]\n",
      " [0. 0. 1. 0. 0. 0. 0. 0. 0. 0.]\n",
      " [0. 0. 0. 0. 0. 1. 0. 0. 0. 0.]\n",
      " [0. 0. 0. 0. 0. 0. 0. 0. 0. 1.]\n",
      " [0. 0. 0. 0. 0. 1. 0. 0. 0. 0.]\n",
      " [0. 0. 0. 0. 0. 0. 0. 1. 0. 0.]\n",
      " [0. 0. 1. 0. 0. 0. 0. 0. 0. 0.]\n",
      " [0. 0. 1. 0. 0. 0. 0. 0. 0. 0.]\n",
      " [0. 0. 0. 0. 0. 0. 0. 0. 1. 0.]\n",
      " [0. 0. 0. 0. 0. 1. 0. 0. 0. 0.]\n",
      " [0. 0. 0. 0. 0. 0. 0. 1. 0. 0.]\n",
      " [0. 0. 0. 0. 0. 0. 0. 0. 0. 1.]\n",
      " [0. 1. 0. 0. 0. 0. 0. 0. 0. 0.]\n",
      " [0. 0. 0. 0. 0. 0. 0. 0. 1. 0.]\n",
      " [0. 0. 0. 0. 1. 0. 0. 0. 0. 0.]\n",
      " [1. 0. 0. 0. 0. 0. 0. 0. 0. 0.]\n",
      " [0. 0. 0. 1. 0. 0. 0. 0. 0. 0.]\n",
      " [0. 0. 1. 0. 0. 0. 0. 0. 0. 0.]], shape=(30, 10), dtype=float32)\n"
     ]
    }
   ],
   "source": [
    "for a, b in train.take(1):\n",
    "    columns=list(a.keys())\n",
    "    print('columns: ',columns)\n",
    "    print('target: ',b)"
   ]
  },
  {
   "cell_type": "markdown",
   "id": "660c4060",
   "metadata": {},
   "source": [
    "---\n",
    "## Train the Model\n",
    "\n",
    "Define the Model:"
   ]
  },
  {
   "cell_type": "code",
   "execution_count": 10,
   "id": "654a4aa6",
   "metadata": {},
   "outputs": [],
   "source": [
    "feature_layer = tf.keras.layers.DenseFeatures(feature_columns)\n",
    "feature_layer_outputs = feature_layer(feature_layer_inputs)\n",
    "model = tf.keras.Model(inputs=[v for v in feature_layer_inputs.values()],outputs=tf.keras.layers.Dense(10,activation=tf.nn.softmax)(feature_layer_outputs))\n",
    "model.compile(optimizer='sgd', loss='categorical_crossentropy', metrics=['accuracy'])\n",
    "#tf.keras.utils.plot_model(model,show_shapes=True, show_dtype=True)"
   ]
  },
  {
   "cell_type": "code",
   "execution_count": 11,
   "id": "bc7bde77",
   "metadata": {},
   "outputs": [],
   "source": [
    "#model.summary()"
   ]
  },
  {
   "cell_type": "markdown",
   "id": "6dffe3cc",
   "metadata": {},
   "source": [
    "Fit the Model:"
   ]
  },
  {
   "cell_type": "code",
   "execution_count": 12,
   "id": "2a354b80",
   "metadata": {},
   "outputs": [
    {
     "name": "stdout",
     "output_type": "stream",
     "text": [
      "Epoch 1/25\n",
      "47/47 [==============================] - 2s 5ms/step - loss: 3.7176 - accuracy: 0.4720\n",
      "Epoch 2/25\n",
      "47/47 [==============================] - 0s 4ms/step - loss: 0.7248 - accuracy: 0.8077\n",
      "Epoch 3/25\n",
      "47/47 [==============================] - 0s 4ms/step - loss: 0.4121 - accuracy: 0.8708\n",
      "Epoch 4/25\n",
      "47/47 [==============================] - 0s 4ms/step - loss: 0.3156 - accuracy: 0.9077\n",
      "Epoch 5/25\n",
      "47/47 [==============================] - 0s 4ms/step - loss: 0.2465 - accuracy: 0.9297\n",
      "Epoch 6/25\n",
      "47/47 [==============================] - 0s 3ms/step - loss: 0.2132 - accuracy: 0.9368\n",
      "Epoch 7/25\n",
      "47/47 [==============================] - 0s 4ms/step - loss: 0.1788 - accuracy: 0.9475\n",
      "Epoch 8/25\n",
      "47/47 [==============================] - 0s 4ms/step - loss: 0.1742 - accuracy: 0.9461\n",
      "Epoch 9/25\n",
      "47/47 [==============================] - 0s 4ms/step - loss: 0.1415 - accuracy: 0.9560\n",
      "Epoch 10/25\n",
      "47/47 [==============================] - 0s 4ms/step - loss: 0.1267 - accuracy: 0.9617\n",
      "Epoch 11/25\n",
      "47/47 [==============================] - 0s 3ms/step - loss: 0.1209 - accuracy: 0.9645\n",
      "Epoch 12/25\n",
      "47/47 [==============================] - 0s 4ms/step - loss: 0.1140 - accuracy: 0.9659\n",
      "Epoch 13/25\n",
      "47/47 [==============================] - 0s 4ms/step - loss: 0.1068 - accuracy: 0.9688\n",
      "Epoch 14/25\n",
      "47/47 [==============================] - 0s 4ms/step - loss: 0.0963 - accuracy: 0.9695\n",
      "Epoch 15/25\n",
      "47/47 [==============================] - 0s 4ms/step - loss: 0.0898 - accuracy: 0.9730\n",
      "Epoch 16/25\n",
      "47/47 [==============================] - 0s 4ms/step - loss: 0.0857 - accuracy: 0.9766\n",
      "Epoch 17/25\n",
      "47/47 [==============================] - 0s 4ms/step - loss: 0.0862 - accuracy: 0.9716\n",
      "Epoch 18/25\n",
      "47/47 [==============================] - 0s 4ms/step - loss: 0.0737 - accuracy: 0.9815\n",
      "Epoch 19/25\n",
      "47/47 [==============================] - 0s 4ms/step - loss: 0.0710 - accuracy: 0.9780\n",
      "Epoch 20/25\n",
      "47/47 [==============================] - 0s 4ms/step - loss: 0.0700 - accuracy: 0.9794\n",
      "Epoch 21/25\n",
      "47/47 [==============================] - 0s 3ms/step - loss: 0.0669 - accuracy: 0.9794\n",
      "Epoch 22/25\n",
      "47/47 [==============================] - 0s 4ms/step - loss: 0.0591 - accuracy: 0.9837\n",
      "Epoch 23/25\n",
      "47/47 [==============================] - 0s 4ms/step - loss: 0.0572 - accuracy: 0.9844\n",
      "Epoch 24/25\n",
      "47/47 [==============================] - 0s 4ms/step - loss: 0.0572 - accuracy: 0.9837\n",
      "Epoch 25/25\n",
      "47/47 [==============================] - 0s 4ms/step - loss: 0.0549 - accuracy: 0.9823\n"
     ]
    }
   ],
   "source": [
    "history = model.fit(train,epochs=25)"
   ]
  },
  {
   "cell_type": "markdown",
   "id": "b391c44f",
   "metadata": {},
   "source": [
    "Evaluate the model with the test data:"
   ]
  },
  {
   "cell_type": "code",
   "execution_count": 13,
   "id": "c14a3db7",
   "metadata": {},
   "outputs": [
    {
     "name": "stdout",
     "output_type": "stream",
     "text": [
      "13/13 [==============================] - 1s 5ms/step - loss: 0.2723 - accuracy: 0.9201\n"
     ]
    }
   ],
   "source": [
    "loss, accuracy = model.evaluate(test)"
   ]
  },
  {
   "cell_type": "markdown",
   "id": "0fffd4d1",
   "metadata": {},
   "source": [
    "Create Prediction from a batch of the test data:"
   ]
  },
  {
   "cell_type": "code",
   "execution_count": 14,
   "id": "fd73f224",
   "metadata": {},
   "outputs": [
    {
     "data": {
      "text/plain": [
       "array([[3.90482114e-07, 7.16976821e-01, 8.91303871e-12, 6.33650288e-08,\n",
       "        2.37087036e-07, 1.21065058e-09, 3.15081405e-09, 2.45950985e-11,\n",
       "        8.11138889e-05, 2.82941371e-01],\n",
       "       [7.30918472e-13, 8.98274064e-01, 2.07599804e-09, 2.86356749e-06,\n",
       "        1.09785587e-05, 4.70925966e-15, 4.98486006e-05, 5.28450066e-08,\n",
       "        1.01661623e-01, 5.29738543e-07],\n",
       "       [4.73527422e-07, 9.82992470e-01, 7.56323684e-11, 4.10787315e-08,\n",
       "        3.85962807e-07, 1.33955708e-10, 4.35669445e-10, 2.88856050e-10,\n",
       "        4.87712023e-05, 1.69579294e-02],\n",
       "       [3.48886441e-11, 2.59025306e-01, 6.00855765e-06, 1.67152160e-04,\n",
       "        7.57343832e-06, 1.98942459e-14, 4.30315384e-04, 2.30328351e-06,\n",
       "        7.40355194e-01, 6.17956266e-06],\n",
       "       [2.39083042e-09, 9.78541672e-01, 1.09199295e-02, 7.20863085e-08,\n",
       "        3.84722898e-06, 1.00638009e-18, 9.01380076e-07, 6.01969799e-03,\n",
       "        4.51388024e-03, 5.41500000e-08],\n",
       "       [1.33139324e-11, 2.47675180e-05, 3.11547781e-15, 7.82471532e-10,\n",
       "        9.99972820e-01, 1.57610053e-11, 2.33727133e-06, 1.74809784e-08,\n",
       "        2.08753814e-09, 5.59815180e-11],\n",
       "       [2.08150539e-07, 1.20239434e-07, 5.76436414e-16, 6.13722354e-12,\n",
       "        9.99994040e-01, 4.57880435e-12, 5.39639177e-06, 6.10901978e-08,\n",
       "        9.11747833e-08, 1.60163004e-14],\n",
       "       [1.25436470e-01, 4.41563083e-03, 1.22261590e-09, 8.77196626e-08,\n",
       "        8.29653144e-01, 6.47150155e-05, 4.03058231e-02, 6.50178263e-05,\n",
       "        5.91494027e-05, 5.16476723e-11],\n",
       "       [1.98814121e-07, 1.95737400e-07, 3.57257702e-15, 1.12283445e-08,\n",
       "        9.96396244e-01, 3.61107254e-07, 3.60293407e-03, 3.54112295e-09,\n",
       "        5.13886071e-08, 1.22193089e-11],\n",
       "       [3.36150974e-09, 2.58911692e-04, 9.60729274e-10, 3.21593143e-05,\n",
       "        9.50044394e-01, 5.14727327e-09, 2.14819591e-02, 5.00896476e-07,\n",
       "        2.81820036e-02, 8.63016429e-12],\n",
       "       [5.20371017e-08, 1.98466005e-04, 2.66716911e-16, 1.19568903e-11,\n",
       "        9.99794066e-01, 2.76428640e-08, 7.45771831e-06, 9.06236683e-11,\n",
       "        5.91620886e-09, 1.70943094e-13],\n",
       "       [1.31832765e-11, 4.18975949e-02, 4.23804892e-07, 5.27223801e-06,\n",
       "        1.02054454e-08, 1.69859908e-13, 3.82679282e-04, 1.49765270e-07,\n",
       "        9.57713425e-01, 4.41281600e-07],\n",
       "       [4.76599962e-06, 3.42950784e-03, 9.90847051e-01, 4.22301497e-07,\n",
       "        3.49686189e-07, 8.73835876e-16, 2.45173724e-05, 1.05417438e-03,\n",
       "        4.63924743e-03, 1.07698228e-09],\n",
       "       [1.37612666e-03, 8.76008510e-09, 4.79136696e-13, 4.50527067e-14,\n",
       "        9.98616576e-01, 2.71067631e-08, 7.09767710e-06, 9.62269127e-08,\n",
       "        1.89958254e-08, 7.53847465e-15],\n",
       "       [1.12274929e-11, 2.43893743e-01, 1.85459812e-05, 9.44584375e-04,\n",
       "        2.06848085e-08, 4.45649810e-13, 9.89865884e-03, 3.58304351e-05,\n",
       "        7.45201051e-01, 7.64780998e-06],\n",
       "       [5.77787492e-13, 9.99987602e-01, 1.81994957e-12, 2.66118235e-07,\n",
       "        5.19082619e-07, 2.67567067e-12, 2.39221436e-07, 9.01914515e-11,\n",
       "        1.12951830e-05, 1.30352376e-07],\n",
       "       [5.58541615e-07, 1.34226200e-10, 5.12887747e-17, 8.91304378e-14,\n",
       "        9.99969602e-01, 6.05122246e-12, 2.96383896e-05, 1.55829599e-10,\n",
       "        1.11740391e-07, 4.50921798e-13],\n",
       "       [7.93228624e-04, 3.27954731e-05, 2.76034806e-10, 9.92741667e-10,\n",
       "        9.98919129e-01, 3.41871259e-06, 2.49256380e-04, 8.51350137e-07,\n",
       "        1.41781129e-06, 1.18667305e-12],\n",
       "       [4.48281498e-05, 6.16849141e-11, 1.67411081e-14, 1.31143062e-14,\n",
       "        9.99954224e-01, 1.30708083e-10, 6.20441654e-07, 3.95106269e-07,\n",
       "        1.41420065e-09, 2.71906867e-16],\n",
       "       [1.28675376e-10, 5.60695298e-06, 1.97734273e-08, 3.40690898e-09,\n",
       "        3.93939717e-06, 3.86170124e-11, 9.99976158e-01, 4.27202940e-10,\n",
       "        1.43071138e-05, 1.36010952e-14],\n",
       "       [7.63566321e-14, 2.80429846e-10, 9.29653219e-14, 1.36283987e-07,\n",
       "        2.28221153e-09, 1.08096621e-09, 1.59143497e-07, 9.99984741e-01,\n",
       "        1.48530444e-05, 1.41972919e-07],\n",
       "       [2.46027659e-04, 5.73914200e-02, 8.12951157e-07, 7.69304691e-08,\n",
       "        1.45457161e-04, 1.47933887e-08, 1.77212733e-05, 1.31445951e-04,\n",
       "        9.40470457e-01, 1.59663521e-03],\n",
       "       [5.67461439e-06, 4.23107855e-02, 8.35520542e-09, 3.33174020e-02,\n",
       "        1.24155718e-04, 1.06294977e-03, 4.83571028e-04, 1.50960727e-06,\n",
       "        8.45114887e-01, 7.75789842e-02],\n",
       "       [3.49414664e-11, 9.99862552e-01, 1.93294317e-12, 1.78186428e-06,\n",
       "        1.84087348e-05, 7.47845189e-11, 6.89923674e-09, 1.80212059e-08,\n",
       "        1.01925529e-04, 1.52108987e-05],\n",
       "       [2.52460796e-14, 9.99398232e-01, 6.85822998e-09, 1.23839454e-05,\n",
       "        5.02787543e-06, 1.36922349e-08, 2.41463454e-07, 2.17240137e-09,\n",
       "        5.81727829e-04, 2.40627537e-06],\n",
       "       [2.05994527e-10, 1.52608156e-02, 1.80722404e-09, 3.63228196e-06,\n",
       "        1.23209972e-03, 2.53151793e-08, 9.71533537e-01, 7.53860775e-07,\n",
       "        1.19692385e-02, 5.46777568e-10],\n",
       "       [1.45196175e-08, 2.35658035e-06, 5.43388268e-08, 1.03826228e-08,\n",
       "        1.13605643e-06, 9.13306337e-08, 9.99992967e-01, 4.14652890e-09,\n",
       "        3.28365354e-06, 7.19170556e-10],\n",
       "       [7.61450792e-07, 6.15257392e-08, 3.38239365e-14, 2.32038758e-07,\n",
       "        4.59252578e-06, 5.06015215e-03, 5.02323627e-10, 2.75375942e-06,\n",
       "        3.82019847e-04, 9.94549453e-01],\n",
       "       [6.55636266e-12, 9.99287307e-01, 1.72138493e-06, 1.27900212e-05,\n",
       "        3.52944257e-10, 1.53112647e-04, 2.24611049e-05, 6.73466838e-12,\n",
       "        5.22718648e-04, 3.28243495e-08],\n",
       "       [1.63476511e-06, 6.95525296e-06, 1.10099640e-15, 4.77798660e-12,\n",
       "        9.99719083e-01, 3.12647489e-06, 2.69058772e-04, 5.99120642e-10,\n",
       "        2.29046222e-08, 5.60734422e-14]], dtype=float32)"
      ]
     },
     "execution_count": 14,
     "metadata": {},
     "output_type": "execute_result"
    }
   ],
   "source": [
    "model.predict(test.take(1))"
   ]
  },
  {
   "cell_type": "markdown",
   "id": "6f9658df",
   "metadata": {},
   "source": [
    "---\n",
    "## Save the model:"
   ]
  },
  {
   "cell_type": "code",
   "execution_count": 15,
   "id": "f864aadc",
   "metadata": {},
   "outputs": [
    {
     "name": "stdout",
     "output_type": "stream",
     "text": [
      "INFO:tensorflow:Assets written to: gs://statmike-mlops/digits/model/04_keras/assets\n",
      "INFO:tensorflow:Assets written to: gs://statmike-mlops/digits/model/04_keras/assets\n"
     ]
    }
   ],
   "source": [
    "model.save(MODEL_DIR)"
   ]
  },
  {
   "cell_type": "markdown",
   "id": "511479fb",
   "metadata": {},
   "source": [
    "---\n",
    "## Upload the Model to Vertex AI\n",
    "\n",
    "Create a client to the Model Service, define the Model, and upload the model:"
   ]
  },
  {
   "cell_type": "code",
   "execution_count": 16,
   "id": "328e763a",
   "metadata": {},
   "outputs": [],
   "source": [
    "clients['model'] = aiplatform.gapic.ModelServiceClient(client_options=client_options)\n",
    "\n",
    "MODEL = {\n",
    "    \"display_name\": MODEL_NAME,\n",
    "    \"metadata_schema_uri\": \"\",\n",
    "    \"artifact_uri\": MODEL_DIR,\n",
    "    \"container_spec\": {\n",
    "        \"image_uri\": DEPLOY_IMAGE,\n",
    "        \"command\": [],\n",
    "        \"args\": [],\n",
    "        \"env\": [],\n",
    "        \"ports\": [{\"container_port\": 8080}],\n",
    "        \"predict_route\": \"\",\n",
    "        \"health_route\": \"\"\n",
    "    }\n",
    "}\n",
    "\n",
    "uploaded_model = clients['model'].upload_model(parent=PARENT, model=MODEL)"
   ]
  },
  {
   "cell_type": "markdown",
   "id": "0de580e4",
   "metadata": {},
   "source": [
    "Retrieve the model information and view the name and display name:"
   ]
  },
  {
   "cell_type": "code",
   "execution_count": 17,
   "id": "470a9c73",
   "metadata": {},
   "outputs": [
    {
     "data": {
      "text/plain": [
       "('MODEL_04_KERAS-DIGITS',\n",
       " 'projects/691911073727/locations/us-central1/models/2450829010498748416')"
      ]
     },
     "execution_count": 17,
     "metadata": {},
     "output_type": "execute_result"
    }
   ],
   "source": [
    "model_info = clients['model'].get_model(name=uploaded_model.result(timeout=180).model)\n",
    "model_info.display_name, model_info.name"
   ]
  },
  {
   "cell_type": "markdown",
   "id": "199898da",
   "metadata": {},
   "source": [
    "---\n",
    "## Create the Vertex AI Endpoint\n",
    "\n",
    "Create a client to the Endpoint Service and use it to create the endpoint:"
   ]
  },
  {
   "cell_type": "code",
   "execution_count": 18,
   "id": "dde020cf",
   "metadata": {},
   "outputs": [],
   "source": [
    "clients['endpoint'] = aiplatform.gapic.EndpointServiceClient(client_options=client_options)\n",
    "\n",
    "endpoint = clients['endpoint'].create_endpoint(parent=PARENT, endpoint={\"display_name\": ENDPOINT_NAME})"
   ]
  },
  {
   "cell_type": "markdown",
   "id": "31caf8bb",
   "metadata": {},
   "source": [
    "Retrieve the endpoint information and view the name and display name:"
   ]
  },
  {
   "cell_type": "code",
   "execution_count": 19,
   "id": "a2a64dad",
   "metadata": {},
   "outputs": [
    {
     "data": {
      "text/plain": [
       "('ENDPOINT_04_KERAS-DIGITS',\n",
       " 'projects/691911073727/locations/us-central1/endpoints/2069527174079053824')"
      ]
     },
     "execution_count": 19,
     "metadata": {},
     "output_type": "execute_result"
    }
   ],
   "source": [
    "endpoint_info = clients['endpoint'].get_endpoint(name=endpoint.result(timeout=180).name)\n",
    "endpoint_info.display_name, endpoint_info.name"
   ]
  },
  {
   "cell_type": "markdown",
   "id": "7f5697fd",
   "metadata": {},
   "source": [
    "---\n",
    "## Deploy the Model to the Vertex AI Endpoint"
   ]
  },
  {
   "cell_type": "code",
   "execution_count": 20,
   "id": "507d6ecb",
   "metadata": {},
   "outputs": [],
   "source": [
    "DMODEL = {\n",
    "        \"model\": model_info.name,\n",
    "        \"display_name\": 'DEPLOYED_'+MODEL_NAME,\n",
    "        \"dedicated_resources\": {\n",
    "            \"min_replica_count\": 1,\n",
    "            \"max_replica_count\": 1,\n",
    "            \"machine_spec\": {\n",
    "                    \"machine_type\": DEPLOY_COMPUTE,\n",
    "                    \"accelerator_count\": 0,\n",
    "                }\n",
    "        }   \n",
    "}\n",
    "\n",
    "TRAFFIC = {\n",
    "    '0' : 100\n",
    "}\n",
    "\n",
    "dmodel = clients['endpoint'].deploy_model(endpoint=endpoint_info.name, deployed_model=DMODEL, traffic_split=TRAFFIC)"
   ]
  },
  {
   "cell_type": "code",
   "execution_count": 33,
   "id": "8bac2e6d",
   "metadata": {},
   "outputs": [
    {
     "data": {
      "text/plain": [
       "'9005800675950460928'"
      ]
     },
     "execution_count": 33,
     "metadata": {},
     "output_type": "execute_result"
    }
   ],
   "source": [
    "dmodel_info = dmodel.result().deployed_model\n",
    "dmodel_info.id"
   ]
  },
  {
   "cell_type": "markdown",
   "id": "93ed924c",
   "metadata": {},
   "source": [
    "Retrieve the deployed model information from the endpoint:"
   ]
  },
  {
   "cell_type": "code",
   "execution_count": 22,
   "id": "aea755c5",
   "metadata": {},
   "outputs": [
    {
     "data": {
      "text/plain": [
       "[id: \"9005800675950460928\"\n",
       "model: \"projects/691911073727/locations/us-central1/models/2450829010498748416\"\n",
       "display_name: \"DEPLOYED_MODEL_04_KERAS-DIGITS\"\n",
       "create_time {\n",
       "  seconds: 1628767645\n",
       "  nanos: 734395000\n",
       "}\n",
       "dedicated_resources {\n",
       "  machine_spec {\n",
       "    machine_type: \"n1-standard-4\"\n",
       "  }\n",
       "  min_replica_count: 1\n",
       "  max_replica_count: 1\n",
       "}\n",
       "]"
      ]
     },
     "execution_count": 22,
     "metadata": {},
     "output_type": "execute_result"
    }
   ],
   "source": [
    "clients['endpoint'].get_endpoint(name=endpoint_info.name).deployed_models"
   ]
  },
  {
   "cell_type": "markdown",
   "id": "bb33dce9",
   "metadata": {},
   "source": [
    "---\n",
    "## Predictions"
   ]
  },
  {
   "cell_type": "markdown",
   "id": "ff4dd74b",
   "metadata": {},
   "source": [
    "Create a client to the prediction service:"
   ]
  },
  {
   "cell_type": "code",
   "execution_count": 23,
   "id": "d66943f9",
   "metadata": {},
   "outputs": [],
   "source": [
    "clients['prediction'] = aiplatform.gapic.PredictionServiceClient(client_options=client_options)"
   ]
  },
  {
   "cell_type": "markdown",
   "id": "3c321ea2",
   "metadata": {},
   "source": [
    "Setup an observation for prediction:"
   ]
  },
  {
   "cell_type": "code",
   "execution_count": 24,
   "id": "2a863dec",
   "metadata": {},
   "outputs": [
    {
     "name": "stderr",
     "output_type": "stream",
     "text": [
      "Query complete after 0.00s: 100%|██████████| 1/1 [00:00<00:00, 654.44query/s] \n",
      "Downloading: 100%|██████████| 388/388 [00:00<00:00, 389.98rows/s]\n"
     ]
    }
   ],
   "source": [
    "%%bigquery pred\n",
    "SELECT *\n",
    "FROM `digits.digits_prepped`\n",
    "WHERE splits='TEST'"
   ]
  },
  {
   "cell_type": "code",
   "execution_count": 25,
   "id": "79e3d23d",
   "metadata": {},
   "outputs": [
    {
     "data": {
      "text/html": [
       "<div>\n",
       "<style scoped>\n",
       "    .dataframe tbody tr th:only-of-type {\n",
       "        vertical-align: middle;\n",
       "    }\n",
       "\n",
       "    .dataframe tbody tr th {\n",
       "        vertical-align: top;\n",
       "    }\n",
       "\n",
       "    .dataframe thead th {\n",
       "        text-align: right;\n",
       "    }\n",
       "</style>\n",
       "<table border=\"1\" class=\"dataframe\">\n",
       "  <thead>\n",
       "    <tr style=\"text-align: right;\">\n",
       "      <th></th>\n",
       "      <th>p0</th>\n",
       "      <th>p1</th>\n",
       "      <th>p2</th>\n",
       "      <th>p3</th>\n",
       "      <th>p4</th>\n",
       "      <th>p5</th>\n",
       "      <th>p6</th>\n",
       "      <th>p7</th>\n",
       "      <th>p8</th>\n",
       "      <th>p9</th>\n",
       "      <th>...</th>\n",
       "      <th>p57</th>\n",
       "      <th>p58</th>\n",
       "      <th>p59</th>\n",
       "      <th>p60</th>\n",
       "      <th>p61</th>\n",
       "      <th>p62</th>\n",
       "      <th>p63</th>\n",
       "      <th>target</th>\n",
       "      <th>target_OE</th>\n",
       "      <th>SPLITS</th>\n",
       "    </tr>\n",
       "  </thead>\n",
       "  <tbody>\n",
       "    <tr>\n",
       "      <th>0</th>\n",
       "      <td>0.0</td>\n",
       "      <td>0.0</td>\n",
       "      <td>0.0</td>\n",
       "      <td>0.0</td>\n",
       "      <td>7.0</td>\n",
       "      <td>16.0</td>\n",
       "      <td>6.0</td>\n",
       "      <td>0.0</td>\n",
       "      <td>0.0</td>\n",
       "      <td>0.0</td>\n",
       "      <td>...</td>\n",
       "      <td>0.0</td>\n",
       "      <td>0.0</td>\n",
       "      <td>0.0</td>\n",
       "      <td>9.0</td>\n",
       "      <td>16.0</td>\n",
       "      <td>6.0</td>\n",
       "      <td>0.0</td>\n",
       "      <td>1</td>\n",
       "      <td>Odd</td>\n",
       "      <td>TEST</td>\n",
       "    </tr>\n",
       "  </tbody>\n",
       "</table>\n",
       "<p>1 rows × 67 columns</p>\n",
       "</div>"
      ],
      "text/plain": [
       "    p0   p1   p2   p3   p4    p5   p6   p7   p8   p9  ...  p57  p58  p59  p60  \\\n",
       "0  0.0  0.0  0.0  0.0  7.0  16.0  6.0  0.0  0.0  0.0  ...  0.0  0.0  0.0  9.0   \n",
       "\n",
       "    p61  p62  p63  target  target_OE  SPLITS  \n",
       "0  16.0  6.0  0.0       1        Odd    TEST  \n",
       "\n",
       "[1 rows x 67 columns]"
      ]
     },
     "execution_count": 25,
     "metadata": {},
     "output_type": "execute_result"
    }
   ],
   "source": [
    "pred.head(1)"
   ]
  },
  {
   "cell_type": "code",
   "execution_count": 26,
   "id": "fe08d5d2",
   "metadata": {},
   "outputs": [],
   "source": [
    "newob = pred.loc[:0,'p0':'p63'].to_dict(orient='records')[0]\n",
    "#newob"
   ]
  },
  {
   "cell_type": "markdown",
   "id": "76a82620",
   "metadata": {},
   "source": [
    "### With Python Client"
   ]
  },
  {
   "cell_type": "markdown",
   "id": "3bcda336",
   "metadata": {},
   "source": [
    "Request prediction from the prediction service:"
   ]
  },
  {
   "cell_type": "code",
   "execution_count": 27,
   "id": "79e3b9ab",
   "metadata": {},
   "outputs": [],
   "source": [
    "from google.protobuf import json_format\n",
    "from google.protobuf.struct_pb2 import Value\n",
    "\n",
    "response = clients['prediction'].predict(endpoint=endpoint_info.name, instances=[json_format.ParseDict(newob, Value())], parameters=json_format.ParseDict({}, Value()))"
   ]
  },
  {
   "cell_type": "code",
   "execution_count": 28,
   "id": "fd687470",
   "metadata": {},
   "outputs": [
    {
     "data": {
      "text/plain": [
       "[[3.90481176e-07, 0.716977239, 8.91301095e-12, 6.33650643e-08, 2.37086724e-07, 1.21064903e-09, 3.15080984e-09, 2.45950638e-11, 8.11139398e-05, 0.282940984]]"
      ]
     },
     "execution_count": 28,
     "metadata": {},
     "output_type": "execute_result"
    }
   ],
   "source": [
    "response.predictions"
   ]
  },
  {
   "cell_type": "code",
   "execution_count": 29,
   "id": "eca57fc3",
   "metadata": {},
   "outputs": [
    {
     "data": {
      "text/plain": [
       "1"
      ]
     },
     "execution_count": 29,
     "metadata": {},
     "output_type": "execute_result"
    }
   ],
   "source": [
    "import numpy as np\n",
    "np.argmax(response.predictions[0])"
   ]
  },
  {
   "cell_type": "markdown",
   "id": "a2169133",
   "metadata": {},
   "source": [
    "### With REST"
   ]
  },
  {
   "cell_type": "code",
   "execution_count": 30,
   "id": "71c128d4",
   "metadata": {},
   "outputs": [],
   "source": [
    "import json\n",
    "with open('request.json','w') as file:\n",
    "    file.write(json.dumps({\"instances\": [newob]}))"
   ]
  },
  {
   "cell_type": "code",
   "execution_count": 31,
   "id": "39d8dd38",
   "metadata": {},
   "outputs": [
    {
     "name": "stdout",
     "output_type": "stream",
     "text": [
      "{\n",
      "  \"predictions\": [\n",
      "    [\n",
      "      3.90481176e-07,\n",
      "      0.716977239,\n",
      "      8.91301095e-12,\n",
      "      6.33650643e-08,\n",
      "      2.37086724e-07,\n",
      "      1.21064903e-09,\n",
      "      3.15080984e-09,\n",
      "      2.45950638e-11,\n",
      "      8.11139398e-05,\n",
      "      0.282940984\n",
      "    ]\n",
      "  ],\n",
      "  \"deployedModelId\": \"9005800675950460928\"\n",
      "}\n"
     ]
    }
   ],
   "source": [
    "!curl -X POST \\\n",
    "-H \"Authorization: Bearer \"$(gcloud auth application-default print-access-token) \\\n",
    "-H \"Content-Type: application/json; charset=utf-8\" \\\n",
    "-d @request.json \\\n",
    "https://{API_ENDPOINT}/v1/{endpoint_info.name}:predict"
   ]
  },
  {
   "cell_type": "markdown",
   "id": "0e323701",
   "metadata": {},
   "source": [
    "### With gcloud"
   ]
  },
  {
   "cell_type": "code",
   "execution_count": 32,
   "id": "e321f27f",
   "metadata": {},
   "outputs": [
    {
     "name": "stdout",
     "output_type": "stream",
     "text": [
      "Using endpoint [https://us-central1-prediction-aiplatform.googleapis.com/]\n",
      "[[3.90481176e-07, 0.716977239, 8.91301095e-12, 6.33650643e-08, 2.37086724e-07, 1.21064903e-09, 3.15080984e-09, 2.45950638e-11, 8.11139398e-05, 0.282940984]]\n"
     ]
    }
   ],
   "source": [
    "!gcloud beta ai endpoints predict {endpoint_info.name.rsplit('/',1)[-1]} --region={REGION} --json-request=request.json"
   ]
  },
  {
   "cell_type": "markdown",
   "id": "c9e1f645",
   "metadata": {},
   "source": [
    "---\n",
    "## Remove Resources\n",
    "see notebook \"XX - Cleanup\""
   ]
  },
  {
   "cell_type": "code",
   "execution_count": null,
   "id": "975127c8",
   "metadata": {},
   "outputs": [],
   "source": []
  }
 ],
 "metadata": {
  "environment": {
   "name": "tf2-gpu.2-5.m76",
   "type": "gcloud",
   "uri": "gcr.io/deeplearning-platform-release/tf2-gpu.2-5:m76"
  },
  "kernelspec": {
   "display_name": "Python 3",
   "language": "python",
   "name": "python3"
  },
  "language_info": {
   "codemirror_mode": {
    "name": "ipython",
    "version": 3
   },
   "file_extension": ".py",
   "mimetype": "text/x-python",
   "name": "python",
   "nbconvert_exporter": "python",
   "pygments_lexer": "ipython3",
   "version": "3.7.10"
  }
 },
 "nbformat": 4,
 "nbformat_minor": 5
}
