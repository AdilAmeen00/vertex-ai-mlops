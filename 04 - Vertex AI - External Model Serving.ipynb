{
 "cells": [
  {
   "cell_type": "markdown",
   "id": "2f94f116",
   "metadata": {},
   "source": [
    "# Vertex AI - External Model Serving\n",
    "\n",
    "This notebook uses a Vertex AI Notebook to train a TensorFlow model (locally) with the data in BigQuery table `<PROJECT_ID>.digits.digits_prepped`.  This model is then saved and Vertex AI clients are used to upload the model and deploy it to an endpoint for online predictions.\n",
    "\n",
    "**Prerequisites**\n",
    "- `00 - Initial Setup`\n",
    "- `01 - BigQuery - Data`\n",
    "\n",
    "**Overview**\n",
    "\n",
    "<img src=\"architectures/statmike-mlops-04.png\">"
   ]
  },
  {
   "cell_type": "markdown",
   "id": "5622e798",
   "metadata": {},
   "source": [
    "---\n",
    "## Setup"
   ]
  },
  {
   "cell_type": "markdown",
   "id": "d9cbff45",
   "metadata": {},
   "source": [
    "Prepare TensorFlow:"
   ]
  },
  {
   "cell_type": "code",
   "execution_count": 1,
   "id": "e4b4c620",
   "metadata": {},
   "outputs": [],
   "source": [
    "from tensorflow_io.bigquery import BigQueryClient\n",
    "from tensorflow_io.bigquery import BigQueryReadSession\n",
    "import tensorflow as tf"
   ]
  },
  {
   "cell_type": "markdown",
   "id": "27fc5bba",
   "metadata": {},
   "source": [
    "Setup Parameters"
   ]
  },
  {
   "cell_type": "code",
   "execution_count": 2,
   "id": "539f39db",
   "metadata": {},
   "outputs": [],
   "source": [
    "PROJECT_ID='statmike-mlops'\n",
    "REGION='us-central1'\n",
    "\n",
    "BQDATASET_ID='digits'\n",
    "BQTABLE_ID='digits_prepped'\n",
    "\n",
    "MODEL_DIR='gs://{}/digits/model/04_keras'.format(PROJECT_ID)\n",
    "PARENT = \"projects/\" + PROJECT_ID + \"/locations/\" + REGION\n",
    "\n",
    "BATCH_SIZE = 30\n",
    "\n",
    "MODEL_NAME='MODEL_04_KERAS-DIGITS'\n",
    "ENDPOINT_NAME='ENDPOINT_04_KERAS-DIGITS'\n",
    "params = {\"MODEL_DIR\":MODEL_DIR}\n",
    "DEPLOY_IMAGE='us-docker.pkg.dev/cloud-aiplatform/prediction/tf2-cpu.2-2:latest'\n",
    "DEPLOY_COMPUTE='n1-standard-4'"
   ]
  },
  {
   "cell_type": "markdown",
   "id": "60fadf7f",
   "metadata": {},
   "source": [
    "Setup Vertex AI Python Clients\n",
    "- https://googleapis.dev/python/aiplatform/latest/index.html"
   ]
  },
  {
   "cell_type": "code",
   "execution_count": 3,
   "id": "5d49abc0",
   "metadata": {},
   "outputs": [],
   "source": [
    "from google.cloud import aiplatform\n",
    "\n",
    "API_ENDPOINT = \"{}-aiplatform.googleapis.com\".format(REGION)\n",
    "client_options = {\"api_endpoint\": API_ENDPOINT}\n",
    "clients = {}"
   ]
  },
  {
   "cell_type": "markdown",
   "id": "08dd5dc0",
   "metadata": {},
   "source": [
    "---\n",
    "## Prepare Data Connection\n",
    "\n",
    "Retrieve the Schema info from BigQuery Information Schema via the Storage API:\n",
    "- https://cloud.google.com/bigquery/docs/bigquery-storage-python-pandas"
   ]
  },
  {
   "cell_type": "code",
   "execution_count": 4,
   "id": "a5da7990",
   "metadata": {},
   "outputs": [
    {
     "data": {
      "text/html": [
       "<div>\n",
       "<style scoped>\n",
       "    .dataframe tbody tr th:only-of-type {\n",
       "        vertical-align: middle;\n",
       "    }\n",
       "\n",
       "    .dataframe tbody tr th {\n",
       "        vertical-align: top;\n",
       "    }\n",
       "\n",
       "    .dataframe thead th {\n",
       "        text-align: right;\n",
       "    }\n",
       "</style>\n",
       "<table border=\"1\" class=\"dataframe\">\n",
       "  <thead>\n",
       "    <tr style=\"text-align: right;\">\n",
       "      <th></th>\n",
       "      <th>table_catalog</th>\n",
       "      <th>table_schema</th>\n",
       "      <th>table_name</th>\n",
       "      <th>column_name</th>\n",
       "      <th>field_path</th>\n",
       "      <th>data_type</th>\n",
       "      <th>description</th>\n",
       "    </tr>\n",
       "  </thead>\n",
       "  <tbody>\n",
       "    <tr>\n",
       "      <th>0</th>\n",
       "      <td>statmike-mlops</td>\n",
       "      <td>digits</td>\n",
       "      <td>digits_prepped</td>\n",
       "      <td>p0</td>\n",
       "      <td>p0</td>\n",
       "      <td>FLOAT64</td>\n",
       "      <td>None</td>\n",
       "    </tr>\n",
       "    <tr>\n",
       "      <th>1</th>\n",
       "      <td>statmike-mlops</td>\n",
       "      <td>digits</td>\n",
       "      <td>digits_prepped</td>\n",
       "      <td>p1</td>\n",
       "      <td>p1</td>\n",
       "      <td>FLOAT64</td>\n",
       "      <td>None</td>\n",
       "    </tr>\n",
       "    <tr>\n",
       "      <th>2</th>\n",
       "      <td>statmike-mlops</td>\n",
       "      <td>digits</td>\n",
       "      <td>digits_prepped</td>\n",
       "      <td>p2</td>\n",
       "      <td>p2</td>\n",
       "      <td>FLOAT64</td>\n",
       "      <td>None</td>\n",
       "    </tr>\n",
       "    <tr>\n",
       "      <th>3</th>\n",
       "      <td>statmike-mlops</td>\n",
       "      <td>digits</td>\n",
       "      <td>digits_prepped</td>\n",
       "      <td>p3</td>\n",
       "      <td>p3</td>\n",
       "      <td>FLOAT64</td>\n",
       "      <td>None</td>\n",
       "    </tr>\n",
       "    <tr>\n",
       "      <th>4</th>\n",
       "      <td>statmike-mlops</td>\n",
       "      <td>digits</td>\n",
       "      <td>digits_prepped</td>\n",
       "      <td>p4</td>\n",
       "      <td>p4</td>\n",
       "      <td>FLOAT64</td>\n",
       "      <td>None</td>\n",
       "    </tr>\n",
       "    <tr>\n",
       "      <th>...</th>\n",
       "      <td>...</td>\n",
       "      <td>...</td>\n",
       "      <td>...</td>\n",
       "      <td>...</td>\n",
       "      <td>...</td>\n",
       "      <td>...</td>\n",
       "      <td>...</td>\n",
       "    </tr>\n",
       "    <tr>\n",
       "      <th>62</th>\n",
       "      <td>statmike-mlops</td>\n",
       "      <td>digits</td>\n",
       "      <td>digits_prepped</td>\n",
       "      <td>p62</td>\n",
       "      <td>p62</td>\n",
       "      <td>FLOAT64</td>\n",
       "      <td>None</td>\n",
       "    </tr>\n",
       "    <tr>\n",
       "      <th>63</th>\n",
       "      <td>statmike-mlops</td>\n",
       "      <td>digits</td>\n",
       "      <td>digits_prepped</td>\n",
       "      <td>p63</td>\n",
       "      <td>p63</td>\n",
       "      <td>FLOAT64</td>\n",
       "      <td>None</td>\n",
       "    </tr>\n",
       "    <tr>\n",
       "      <th>64</th>\n",
       "      <td>statmike-mlops</td>\n",
       "      <td>digits</td>\n",
       "      <td>digits_prepped</td>\n",
       "      <td>target</td>\n",
       "      <td>target</td>\n",
       "      <td>INT64</td>\n",
       "      <td>None</td>\n",
       "    </tr>\n",
       "    <tr>\n",
       "      <th>65</th>\n",
       "      <td>statmike-mlops</td>\n",
       "      <td>digits</td>\n",
       "      <td>digits_prepped</td>\n",
       "      <td>target_OE</td>\n",
       "      <td>target_OE</td>\n",
       "      <td>STRING</td>\n",
       "      <td>None</td>\n",
       "    </tr>\n",
       "    <tr>\n",
       "      <th>66</th>\n",
       "      <td>statmike-mlops</td>\n",
       "      <td>digits</td>\n",
       "      <td>digits_prepped</td>\n",
       "      <td>SPLITS</td>\n",
       "      <td>SPLITS</td>\n",
       "      <td>STRING</td>\n",
       "      <td>None</td>\n",
       "    </tr>\n",
       "  </tbody>\n",
       "</table>\n",
       "<p>67 rows × 7 columns</p>\n",
       "</div>"
      ],
      "text/plain": [
       "     table_catalog table_schema      table_name column_name field_path  \\\n",
       "0   statmike-mlops       digits  digits_prepped          p0         p0   \n",
       "1   statmike-mlops       digits  digits_prepped          p1         p1   \n",
       "2   statmike-mlops       digits  digits_prepped          p2         p2   \n",
       "3   statmike-mlops       digits  digits_prepped          p3         p3   \n",
       "4   statmike-mlops       digits  digits_prepped          p4         p4   \n",
       "..             ...          ...             ...         ...        ...   \n",
       "62  statmike-mlops       digits  digits_prepped         p62        p62   \n",
       "63  statmike-mlops       digits  digits_prepped         p63        p63   \n",
       "64  statmike-mlops       digits  digits_prepped      target     target   \n",
       "65  statmike-mlops       digits  digits_prepped   target_OE  target_OE   \n",
       "66  statmike-mlops       digits  digits_prepped      SPLITS     SPLITS   \n",
       "\n",
       "   data_type description  \n",
       "0    FLOAT64        None  \n",
       "1    FLOAT64        None  \n",
       "2    FLOAT64        None  \n",
       "3    FLOAT64        None  \n",
       "4    FLOAT64        None  \n",
       "..       ...         ...  \n",
       "62   FLOAT64        None  \n",
       "63   FLOAT64        None  \n",
       "64     INT64        None  \n",
       "65    STRING        None  \n",
       "66    STRING        None  \n",
       "\n",
       "[67 rows x 7 columns]"
      ]
     },
     "execution_count": 4,
     "metadata": {},
     "output_type": "execute_result"
    }
   ],
   "source": [
    "from google.cloud import bigquery\n",
    "bqclient = bigquery.Client()\n",
    "bqjob = bqclient.query(\n",
    "\"\"\"\n",
    "SELECT * FROM `\"\"\"+BQDATASET_ID+\"\"\".INFORMATION_SCHEMA.COLUMN_FIELD_PATHS`\n",
    "WHERE TABLE_NAME = '\"\"\"+BQTABLE_ID+\"\"\"' \"\"\"\n",
    ")\n",
    "schema = bqjob.result().to_dataframe()\n",
    "schema"
   ]
  },
  {
   "cell_type": "markdown",
   "id": "c87057cb",
   "metadata": {},
   "source": [
    "Use the the table schema to prepare the TensorFlow Model:\n",
    "- Omit unused columns\n",
    "- Create `feature_columns` for the model\n",
    "- Define the `dtypes` for TensorFlow"
   ]
  },
  {
   "cell_type": "code",
   "execution_count": 5,
   "id": "8e7ad161",
   "metadata": {},
   "outputs": [],
   "source": [
    "OMIT = ['target_OE','SPLITS']\n",
    "\n",
    "selected_fields = schema[~schema.column_name.isin(OMIT)].column_name.tolist()\n",
    "\n",
    "feature_columns = []\n",
    "feature_layer_inputs = {}\n",
    "for header in selected_fields:\n",
    "    if header != 'target':\n",
    "        feature_columns.append(tf.feature_column.numeric_column(header))\n",
    "        feature_layer_inputs[header] = tf.keras.Input(shape=(1,),name=header)\n",
    "\n",
    "from tensorflow.python.framework import dtypes\n",
    "output_types = schema[~schema.column_name.isin(OMIT)].data_type.tolist()\n",
    "output_types = [dtypes.float64 if x=='FLOAT64' else dtypes.int64 for x in output_types]"
   ]
  },
  {
   "cell_type": "markdown",
   "id": "7894dd41",
   "metadata": {},
   "source": [
    "Define a function that remaps the input data for TensorFlow into features, target and one_hot encodes the `target`:"
   ]
  },
  {
   "cell_type": "code",
   "execution_count": 6,
   "id": "fd02340b",
   "metadata": {},
   "outputs": [],
   "source": [
    "def transTable(row_dict):\n",
    "    target=row_dict.pop('target')\n",
    "    target = tf.one_hot(tf.cast(target,tf.int64),10)\n",
    "    target = tf.cast(target,tf.float32)\n",
    "    return(row_dict,target)"
   ]
  },
  {
   "cell_type": "markdown",
   "id": "48c78dbd",
   "metadata": {},
   "source": [
    "Setup TensorFlow_IO client > session > table + table.map\n",
    "- https://www.tensorflow.org/io/api_docs/python/tfio/bigquery/BigQueryClient"
   ]
  },
  {
   "cell_type": "code",
   "execution_count": 7,
   "id": "dc185d1d",
   "metadata": {},
   "outputs": [],
   "source": [
    "client = BigQueryClient()\n",
    "session = client.read_session(\"projects/\"+PROJECT_ID,PROJECT_ID,BQTABLE_ID,BQDATASET_ID,selected_fields,output_types,row_restriction=\"SPLITS='TRAIN'\",requested_streams=3)\n",
    "table = session.parallel_read_rows()\n",
    "table = table.map(transTable)\n",
    "train = table.shuffle(100000).batch(BATCH_SIZE)"
   ]
  },
  {
   "cell_type": "code",
   "execution_count": 8,
   "id": "fa1c59f8",
   "metadata": {},
   "outputs": [],
   "source": [
    "client = BigQueryClient()\n",
    "session = client.read_session(\"projects/\"+PROJECT_ID,PROJECT_ID,BQTABLE_ID,BQDATASET_ID,selected_fields,output_types,row_restriction=\"SPLITS='TEST'\",requested_streams=3)\n",
    "table = session.parallel_read_rows()\n",
    "table = table.map(transTable)\n",
    "test = table.batch(BATCH_SIZE)"
   ]
  },
  {
   "cell_type": "markdown",
   "id": "7a772e83",
   "metadata": {},
   "source": [
    "Review a single batch of the train data:"
   ]
  },
  {
   "cell_type": "code",
   "execution_count": 9,
   "id": "12910bb6",
   "metadata": {},
   "outputs": [
    {
     "name": "stdout",
     "output_type": "stream",
     "text": [
      "columns:  ['p0', 'p1', 'p10', 'p11', 'p12', 'p13', 'p14', 'p15', 'p16', 'p17', 'p18', 'p19', 'p2', 'p20', 'p21', 'p22', 'p23', 'p24', 'p25', 'p26', 'p27', 'p28', 'p29', 'p3', 'p30', 'p31', 'p32', 'p33', 'p34', 'p35', 'p36', 'p37', 'p38', 'p39', 'p4', 'p40', 'p41', 'p42', 'p43', 'p44', 'p45', 'p46', 'p47', 'p48', 'p49', 'p5', 'p50', 'p51', 'p52', 'p53', 'p54', 'p55', 'p56', 'p57', 'p58', 'p59', 'p6', 'p60', 'p61', 'p62', 'p63', 'p7', 'p8', 'p9']\n",
      "target:  tf.Tensor(\n",
      "[[0. 0. 0. 0. 0. 0. 0. 1. 0. 0.]\n",
      " [0. 0. 0. 0. 0. 1. 0. 0. 0. 0.]\n",
      " [0. 0. 0. 0. 0. 1. 0. 0. 0. 0.]\n",
      " [0. 0. 0. 0. 0. 0. 0. 0. 1. 0.]\n",
      " [1. 0. 0. 0. 0. 0. 0. 0. 0. 0.]\n",
      " [0. 0. 1. 0. 0. 0. 0. 0. 0. 0.]\n",
      " [1. 0. 0. 0. 0. 0. 0. 0. 0. 0.]\n",
      " [0. 0. 0. 1. 0. 0. 0. 0. 0. 0.]\n",
      " [0. 0. 0. 0. 0. 0. 0. 1. 0. 0.]\n",
      " [0. 0. 1. 0. 0. 0. 0. 0. 0. 0.]\n",
      " [0. 0. 0. 0. 0. 0. 0. 1. 0. 0.]\n",
      " [0. 0. 0. 0. 1. 0. 0. 0. 0. 0.]\n",
      " [0. 0. 0. 1. 0. 0. 0. 0. 0. 0.]\n",
      " [0. 0. 0. 0. 0. 0. 1. 0. 0. 0.]\n",
      " [0. 0. 0. 0. 0. 0. 0. 0. 0. 1.]\n",
      " [0. 0. 0. 0. 0. 0. 0. 1. 0. 0.]\n",
      " [0. 0. 0. 0. 0. 0. 1. 0. 0. 0.]\n",
      " [0. 0. 0. 1. 0. 0. 0. 0. 0. 0.]\n",
      " [0. 0. 0. 0. 0. 1. 0. 0. 0. 0.]\n",
      " [0. 0. 0. 0. 0. 0. 0. 1. 0. 0.]\n",
      " [0. 0. 0. 0. 0. 0. 0. 0. 0. 1.]\n",
      " [0. 0. 0. 0. 0. 0. 0. 0. 1. 0.]\n",
      " [0. 0. 0. 0. 0. 0. 1. 0. 0. 0.]\n",
      " [0. 0. 0. 0. 1. 0. 0. 0. 0. 0.]\n",
      " [0. 0. 0. 0. 0. 0. 0. 0. 1. 0.]\n",
      " [0. 1. 0. 0. 0. 0. 0. 0. 0. 0.]\n",
      " [0. 0. 0. 0. 0. 0. 0. 1. 0. 0.]\n",
      " [0. 0. 0. 0. 0. 0. 0. 1. 0. 0.]\n",
      " [0. 0. 0. 0. 1. 0. 0. 0. 0. 0.]\n",
      " [0. 0. 1. 0. 0. 0. 0. 0. 0. 0.]], shape=(30, 10), dtype=float32)\n"
     ]
    }
   ],
   "source": [
    "for a, b in train.take(1):\n",
    "    columns=list(a.keys())\n",
    "    print('columns: ',columns)\n",
    "    print('target: ',b)"
   ]
  },
  {
   "cell_type": "markdown",
   "id": "fb68eccd",
   "metadata": {},
   "source": [
    "---\n",
    "## Train the Model\n",
    "\n",
    "Define the Model:"
   ]
  },
  {
   "cell_type": "code",
   "execution_count": 10,
   "id": "3406dc60",
   "metadata": {},
   "outputs": [],
   "source": [
    "feature_layer = tf.keras.layers.DenseFeatures(feature_columns)\n",
    "feature_layer_outputs = feature_layer(feature_layer_inputs)\n",
    "model = tf.keras.Model(inputs=[v for v in feature_layer_inputs.values()],outputs=tf.keras.layers.Dense(10,activation=tf.nn.softmax)(feature_layer_outputs))\n",
    "model.compile(optimizer='sgd', loss='categorical_crossentropy', metrics=['accuracy'])\n",
    "#tf.keras.utils.plot_model(model,show_shapes=True, show_dtype=True)"
   ]
  },
  {
   "cell_type": "code",
   "execution_count": 11,
   "id": "9b3d0930",
   "metadata": {},
   "outputs": [],
   "source": [
    "#model.summary()"
   ]
  },
  {
   "cell_type": "markdown",
   "id": "63115152",
   "metadata": {},
   "source": [
    "Fit the Model:"
   ]
  },
  {
   "cell_type": "code",
   "execution_count": 12,
   "id": "9dbd49ee",
   "metadata": {},
   "outputs": [
    {
     "name": "stdout",
     "output_type": "stream",
     "text": [
      "Epoch 1/25\n",
      "48/48 [==============================] - 2s 4ms/step - loss: 2.8892 - accuracy: 0.5667\n",
      "Epoch 2/25\n",
      "48/48 [==============================] - 1s 3ms/step - loss: 0.5437 - accuracy: 0.8504\n",
      "Epoch 3/25\n",
      "48/48 [==============================] - 1s 4ms/step - loss: 0.3506 - accuracy: 0.8947\n",
      "Epoch 4/25\n",
      "48/48 [==============================] - 1s 4ms/step - loss: 0.2660 - accuracy: 0.9136\n",
      "Epoch 5/25\n",
      "48/48 [==============================] - 1s 3ms/step - loss: 0.2081 - accuracy: 0.9333\n",
      "Epoch 6/25\n",
      "48/48 [==============================] - 1s 3ms/step - loss: 0.1731 - accuracy: 0.9410\n",
      "Epoch 7/25\n",
      "48/48 [==============================] - 1s 3ms/step - loss: 0.1497 - accuracy: 0.9565\n",
      "Epoch 8/25\n",
      "48/48 [==============================] - 1s 4ms/step - loss: 0.1425 - accuracy: 0.9537\n",
      "Epoch 9/25\n",
      "48/48 [==============================] - 1s 4ms/step - loss: 0.1278 - accuracy: 0.9565\n",
      "Epoch 10/25\n",
      "48/48 [==============================] - 1s 3ms/step - loss: 0.1141 - accuracy: 0.9684\n",
      "Epoch 11/25\n",
      "48/48 [==============================] - 1s 3ms/step - loss: 0.1053 - accuracy: 0.9656\n",
      "Epoch 12/25\n",
      "48/48 [==============================] - 1s 3ms/step - loss: 0.1059 - accuracy: 0.9663\n",
      "Epoch 13/25\n",
      "48/48 [==============================] - 1s 3ms/step - loss: 0.0974 - accuracy: 0.9677\n",
      "Epoch 14/25\n",
      "48/48 [==============================] - 1s 4ms/step - loss: 0.0864 - accuracy: 0.9775\n",
      "Epoch 15/25\n",
      "48/48 [==============================] - 1s 4ms/step - loss: 0.0852 - accuracy: 0.9747\n",
      "Epoch 16/25\n",
      "48/48 [==============================] - 1s 3ms/step - loss: 0.0768 - accuracy: 0.9803\n",
      "Epoch 17/25\n",
      "48/48 [==============================] - 0s 3ms/step - loss: 0.0745 - accuracy: 0.9789\n",
      "Epoch 18/25\n",
      "48/48 [==============================] - 0s 3ms/step - loss: 0.0742 - accuracy: 0.9810\n",
      "Epoch 19/25\n",
      "48/48 [==============================] - 0s 3ms/step - loss: 0.0667 - accuracy: 0.9824\n",
      "Epoch 20/25\n",
      "48/48 [==============================] - 1s 4ms/step - loss: 0.0712 - accuracy: 0.9810\n",
      "Epoch 21/25\n",
      "48/48 [==============================] - 1s 4ms/step - loss: 0.0635 - accuracy: 0.9846\n",
      "Epoch 22/25\n",
      "48/48 [==============================] - 0s 3ms/step - loss: 0.0617 - accuracy: 0.9853\n",
      "Epoch 23/25\n",
      "48/48 [==============================] - 1s 3ms/step - loss: 0.0566 - accuracy: 0.9860\n",
      "Epoch 24/25\n",
      "48/48 [==============================] - 1s 4ms/step - loss: 0.0574 - accuracy: 0.9867\n",
      "Epoch 25/25\n",
      "48/48 [==============================] - 0s 3ms/step - loss: 0.0559 - accuracy: 0.9881\n"
     ]
    }
   ],
   "source": [
    "history = model.fit(train,epochs=25)"
   ]
  },
  {
   "cell_type": "markdown",
   "id": "af84d25a",
   "metadata": {},
   "source": [
    "Evaluate the model with the test data:"
   ]
  },
  {
   "cell_type": "code",
   "execution_count": 13,
   "id": "9b62c730",
   "metadata": {},
   "outputs": [
    {
     "name": "stdout",
     "output_type": "stream",
     "text": [
      "13/13 [==============================] - 1s 5ms/step - loss: 0.1818 - accuracy: 0.9517\n"
     ]
    }
   ],
   "source": [
    "loss, accuracy = model.evaluate(test)"
   ]
  },
  {
   "cell_type": "markdown",
   "id": "d5e31485",
   "metadata": {},
   "source": [
    "Create Prediction from a batch of the test data:"
   ]
  },
  {
   "cell_type": "code",
   "execution_count": 14,
   "id": "837bf571",
   "metadata": {},
   "outputs": [
    {
     "data": {
      "text/plain": [
       "array([[9.99994278e-01, 2.93821536e-08, 1.28389843e-07, 3.18992679e-11,\n",
       "        2.07363215e-07, 6.45222755e-08, 5.20832282e-06, 1.07975816e-10,\n",
       "        3.58760417e-08, 1.00881214e-08],\n",
       "       [9.99999881e-01, 3.50467919e-11, 9.12147868e-08, 3.67246381e-12,\n",
       "        1.16132153e-08, 9.73112563e-11, 2.30869057e-09, 3.43215630e-11,\n",
       "        1.16641352e-09, 8.05311547e-12],\n",
       "       [9.99992728e-01, 1.93495275e-10, 3.77312244e-06, 1.70484715e-09,\n",
       "        3.47305587e-07, 1.41728025e-08, 3.82316259e-08, 7.49794893e-08,\n",
       "        2.99934413e-06, 2.39955167e-09],\n",
       "       [3.57382819e-02, 1.41816298e-02, 3.93970495e-10, 4.68306427e-12,\n",
       "        9.41378951e-01, 8.73927347e-05, 5.64075587e-03, 4.06672152e-05,\n",
       "        2.93195317e-03, 4.13968735e-07],\n",
       "       [1.27149724e-05, 3.89268190e-01, 7.77426665e-11, 5.69933851e-04,\n",
       "        5.22399042e-03, 4.07994634e-07, 1.95843404e-06, 5.22161194e-04,\n",
       "        8.89328402e-03, 5.95507324e-01],\n",
       "       [7.42266110e-11, 9.93717790e-01, 1.23314008e-08, 2.39477595e-06,\n",
       "        1.24670856e-03, 4.86331997e-09, 1.73947669e-07, 2.72584293e-04,\n",
       "        4.66605090e-03, 9.42331681e-05],\n",
       "       [3.66065268e-11, 9.98530030e-01, 7.69542693e-11, 2.95462428e-06,\n",
       "        1.47591936e-05, 4.69783032e-07, 2.03843186e-07, 4.25823259e-07,\n",
       "        6.44455664e-04, 8.06657015e-04],\n",
       "       [4.01107793e-12, 9.98141527e-01, 7.83091673e-05, 6.36760979e-06,\n",
       "        2.16832021e-04, 3.47547143e-07, 1.39225574e-06, 2.03913296e-04,\n",
       "        1.34867756e-03, 2.61095761e-06],\n",
       "       [5.42892620e-09, 9.10494924e-01, 1.10739418e-10, 4.82233154e-04,\n",
       "        8.61549343e-05, 6.48652986e-07, 1.53801395e-07, 2.24461764e-05,\n",
       "        7.91838160e-04, 8.81216601e-02],\n",
       "       [2.07859632e-10, 9.99306798e-01, 1.01769093e-09, 2.99290950e-05,\n",
       "        8.23170581e-07, 5.98731447e-08, 2.30298411e-07, 6.40903437e-08,\n",
       "        3.84679261e-05, 6.23512722e-04],\n",
       "       [3.18711613e-09, 9.86015320e-01, 3.00928805e-05, 8.61997887e-06,\n",
       "        8.23114719e-03, 9.58628516e-06, 8.60944112e-07, 4.26583603e-04,\n",
       "        3.55176115e-03, 1.72583084e-03],\n",
       "       [6.33947647e-13, 9.99821842e-01, 9.58274450e-06, 1.49890539e-07,\n",
       "        9.74744107e-05, 3.17749915e-08, 1.63953769e-06, 8.08781181e-07,\n",
       "        6.85597042e-05, 2.03123083e-08],\n",
       "       [4.81139684e-10, 9.93866742e-01, 1.66692544e-07, 5.88499825e-04,\n",
       "        8.27198801e-06, 1.89340077e-09, 1.47704938e-07, 4.42159482e-08,\n",
       "        5.34964167e-03, 1.86459685e-04],\n",
       "       [1.72584499e-11, 9.99084353e-01, 9.97995644e-11, 1.82885731e-06,\n",
       "        1.47346451e-04, 3.26136345e-08, 1.35594732e-07, 5.89052505e-08,\n",
       "        3.07261595e-04, 4.59043047e-04],\n",
       "       [1.08126272e-08, 8.66961956e-01, 2.37972788e-08, 2.12593415e-10,\n",
       "        1.61152519e-02, 3.31010632e-08, 1.97978752e-05, 1.33149344e-02,\n",
       "        1.03538357e-01, 4.95429776e-05],\n",
       "       [2.12336203e-12, 6.95208371e-01, 1.35082662e-01, 1.68238506e-01,\n",
       "        1.66402824e-05, 7.98080180e-07, 5.39887878e-06, 2.83415120e-05,\n",
       "        1.41874980e-03, 5.05392904e-07],\n",
       "       [4.80870396e-14, 9.98309851e-01, 5.35395775e-05, 5.08369412e-05,\n",
       "        1.19482713e-04, 3.48937306e-07, 1.37757866e-07, 9.16086137e-04,\n",
       "        5.37239888e-04, 1.24522003e-05],\n",
       "       [1.82504185e-12, 9.97767806e-01, 7.22848017e-06, 1.70634934e-07,\n",
       "        6.60801539e-04, 1.00676814e-07, 2.10247254e-06, 1.30625456e-04,\n",
       "        1.42795162e-03, 3.20398362e-06],\n",
       "       [3.88578627e-08, 5.31338155e-05, 8.57234240e-01, 1.28696471e-01,\n",
       "        1.15214581e-10, 1.07986038e-04, 3.59647352e-08, 4.76175337e-05,\n",
       "        1.26087973e-02, 1.25176914e-03],\n",
       "       [4.57846348e-08, 3.21318908e-03, 9.96764183e-01, 5.44437341e-07,\n",
       "        3.32047989e-07, 5.71164155e-13, 7.15199440e-06, 1.19884510e-06,\n",
       "        1.34671891e-05, 1.86405943e-11],\n",
       "       [3.73990705e-09, 5.79445214e-06, 4.66948962e-12, 2.60346720e-16,\n",
       "        9.99821007e-01, 5.44681704e-13, 1.73094944e-04, 8.40712300e-09,\n",
       "        1.24477964e-07, 2.04682286e-17],\n",
       "       [8.35122989e-07, 3.23964628e-06, 2.19968683e-12, 3.39381828e-10,\n",
       "        9.91694510e-01, 6.71470445e-07, 8.29911605e-03, 4.47341733e-07,\n",
       "        1.19269293e-06, 7.77969201e-14],\n",
       "       [1.83093856e-13, 1.22812176e-02, 2.30720509e-14, 3.30298137e-12,\n",
       "        9.87591863e-01, 7.36494643e-09, 2.55852956e-06, 1.17764946e-04,\n",
       "        4.22938774e-06, 2.37417339e-06],\n",
       "       [1.74747072e-09, 1.58317501e-08, 1.94024105e-13, 8.89738972e-16,\n",
       "        9.99952197e-01, 5.73347203e-10, 4.75682318e-05, 1.81253213e-07,\n",
       "        4.12544168e-08, 3.85445697e-14],\n",
       "       [4.52649687e-08, 2.99176246e-01, 1.14839423e-11, 2.73377898e-09,\n",
       "        6.99331820e-01, 3.99547817e-09, 6.31973489e-06, 1.36820634e-03,\n",
       "        1.17415300e-04, 9.38799594e-10],\n",
       "       [1.39684193e-08, 4.10910195e-09, 2.65201662e-14, 3.28746035e-20,\n",
       "        9.99997139e-01, 6.65969938e-13, 2.68983763e-06, 7.41817914e-08,\n",
       "        1.64573299e-10, 2.65321532e-18],\n",
       "       [1.17697145e-11, 1.81478541e-07, 3.31826322e-15, 5.02747704e-17,\n",
       "        9.99997735e-01, 1.06797175e-11, 4.26420684e-07, 1.56902922e-06,\n",
       "        7.04821801e-09, 5.21194143e-16],\n",
       "       [1.32865878e-07, 1.58320709e-05, 5.67974140e-11, 2.67973387e-11,\n",
       "        9.77664053e-01, 4.57613059e-09, 2.23192088e-02, 3.05493741e-09,\n",
       "        6.65977382e-07, 5.87271765e-17],\n",
       "       [1.34115019e-11, 5.55614177e-09, 1.04431091e-12, 2.67634115e-16,\n",
       "        9.99996066e-01, 9.75944691e-16, 1.20945288e-06, 8.87887609e-07,\n",
       "        1.94821882e-06, 4.11857429e-17],\n",
       "       [1.42805572e-08, 3.30715757e-08, 1.12014652e-14, 3.06768731e-16,\n",
       "        9.99662876e-01, 8.72070471e-10, 3.36731406e-04, 2.32790228e-07,\n",
       "        1.06505567e-07, 1.99804971e-15]], dtype=float32)"
      ]
     },
     "execution_count": 14,
     "metadata": {},
     "output_type": "execute_result"
    }
   ],
   "source": [
    "model.predict(test.take(1))"
   ]
  },
  {
   "cell_type": "markdown",
   "id": "c9bd49a6",
   "metadata": {},
   "source": [
    "---\n",
    "## Save the model:"
   ]
  },
  {
   "cell_type": "code",
   "execution_count": 15,
   "id": "53cfad4d",
   "metadata": {},
   "outputs": [
    {
     "name": "stdout",
     "output_type": "stream",
     "text": [
      "INFO:tensorflow:Assets written to: gs://statmike-mlops/digits/model/04_keras/assets\n",
      "INFO:tensorflow:Assets written to: gs://statmike-mlops/digits/model/04_keras/assets\n"
     ]
    }
   ],
   "source": [
    "model.save(MODEL_DIR)"
   ]
  },
  {
   "cell_type": "markdown",
   "id": "51561cc0",
   "metadata": {},
   "source": [
    "---\n",
    "## Upload the Model to Vertex AI\n",
    "\n",
    "Create a client to the Model Service, define the Model, and upload the model:"
   ]
  },
  {
   "cell_type": "code",
   "execution_count": 16,
   "id": "03b4e26e",
   "metadata": {},
   "outputs": [],
   "source": [
    "clients['model'] = aiplatform.gapic.ModelServiceClient(client_options=client_options)\n",
    "\n",
    "MODEL = {\n",
    "    \"display_name\": MODEL_NAME,\n",
    "    \"metadata_schema_uri\": \"\",\n",
    "    \"artifact_uri\": MODEL_DIR,\n",
    "    \"container_spec\": {\n",
    "        \"image_uri\": DEPLOY_IMAGE,\n",
    "        \"command\": [],\n",
    "        \"args\": [],\n",
    "        \"env\": [],\n",
    "        \"ports\": [{\"container_port\": 8080}],\n",
    "        \"predict_route\": \"\",\n",
    "        \"health_route\": \"\"\n",
    "    }\n",
    "}\n",
    "\n",
    "uploaded_model = clients['model'].upload_model(parent=PARENT, model=MODEL)"
   ]
  },
  {
   "cell_type": "markdown",
   "id": "7ae78921",
   "metadata": {},
   "source": [
    "Retrieve the model information and view the name and display name:"
   ]
  },
  {
   "cell_type": "code",
   "execution_count": 17,
   "id": "06078d34",
   "metadata": {},
   "outputs": [
    {
     "data": {
      "text/plain": [
       "('MODEL_04_KERAS-DIGITS',\n",
       " 'projects/691911073727/locations/us-central1/models/1656629771523588096')"
      ]
     },
     "execution_count": 17,
     "metadata": {},
     "output_type": "execute_result"
    }
   ],
   "source": [
    "model_info = clients['model'].get_model(name=uploaded_model.result(timeout=180).model)\n",
    "model_info.display_name, model_info.name"
   ]
  },
  {
   "cell_type": "markdown",
   "id": "73ea3082",
   "metadata": {},
   "source": [
    "---\n",
    "## Create the Vertex AI Endpoint\n",
    "\n",
    "Create a client to the Endpoint Service and use it to create the endpoint:"
   ]
  },
  {
   "cell_type": "code",
   "execution_count": 18,
   "id": "f7b0e631",
   "metadata": {},
   "outputs": [],
   "source": [
    "clients['endpoint'] = aiplatform.gapic.EndpointServiceClient(client_options=client_options)\n",
    "\n",
    "endpoint = clients['endpoint'].create_endpoint(parent=PARENT, endpoint={\"display_name\": ENDPOINT_NAME})"
   ]
  },
  {
   "cell_type": "markdown",
   "id": "dc8d47b4",
   "metadata": {},
   "source": [
    "Retrieve the endpoint information and view the name and display name:"
   ]
  },
  {
   "cell_type": "code",
   "execution_count": 19,
   "id": "7d8f93a9",
   "metadata": {},
   "outputs": [
    {
     "data": {
      "text/plain": [
       "('ENDPOINT_04_KERAS-DIGITS',\n",
       " 'projects/691911073727/locations/us-central1/endpoints/6904774692758880256')"
      ]
     },
     "execution_count": 19,
     "metadata": {},
     "output_type": "execute_result"
    }
   ],
   "source": [
    "endpoint_info = clients['endpoint'].get_endpoint(name=endpoint.result(timeout=180).name)\n",
    "endpoint_info.display_name, endpoint_info.name"
   ]
  },
  {
   "cell_type": "markdown",
   "id": "f9a7b4b6",
   "metadata": {},
   "source": [
    "---\n",
    "## Deploy the Model to the Vertex AI Endpoint"
   ]
  },
  {
   "cell_type": "code",
   "execution_count": 20,
   "id": "5d25d21b",
   "metadata": {},
   "outputs": [],
   "source": [
    "DMODEL = {\n",
    "        \"model\": model_info.name,\n",
    "        \"display_name\": 'DEPLOYED_'+MODEL_NAME,\n",
    "        \"dedicated_resources\": {\n",
    "            \"min_replica_count\": 1,\n",
    "            \"max_replica_count\": 1,\n",
    "            \"machine_spec\": {\n",
    "                    \"machine_type\": DEPLOY_COMPUTE,\n",
    "                    \"accelerator_count\": 0,\n",
    "                }\n",
    "        }   \n",
    "}\n",
    "\n",
    "TRAFFIC = {\n",
    "    '0' : 100\n",
    "}\n",
    "\n",
    "dmodel = clients['endpoint'].deploy_model(endpoint=endpoint_info.name, deployed_model=DMODEL, traffic_split=TRAFFIC)"
   ]
  },
  {
   "cell_type": "markdown",
   "id": "29b83f5d",
   "metadata": {},
   "source": [
    "Retrieve the deployed model information from the endpoint:"
   ]
  },
  {
   "cell_type": "code",
   "execution_count": 22,
   "id": "9b357c3f",
   "metadata": {},
   "outputs": [
    {
     "data": {
      "text/plain": [
       "[id: \"8112091236615061504\"\n",
       "model: \"projects/691911073727/locations/us-central1/models/1656629771523588096\"\n",
       "display_name: \"DEPLOYED_MODEL_04_KERAS-DIGITS\"\n",
       "create_time {\n",
       "  seconds: 1626256702\n",
       "  nanos: 849168000\n",
       "}\n",
       "dedicated_resources {\n",
       "  machine_spec {\n",
       "    machine_type: \"n1-standard-4\"\n",
       "  }\n",
       "  min_replica_count: 1\n",
       "  max_replica_count: 1\n",
       "}\n",
       "]"
      ]
     },
     "execution_count": 22,
     "metadata": {},
     "output_type": "execute_result"
    }
   ],
   "source": [
    "clients['endpoint'].get_endpoint(name=endpoint_info.name).deployed_models"
   ]
  },
  {
   "cell_type": "markdown",
   "id": "25790df0",
   "metadata": {},
   "source": [
    "---\n",
    "## Predictions"
   ]
  },
  {
   "cell_type": "markdown",
   "id": "433300fd",
   "metadata": {},
   "source": [
    "Create a client to the prediction service:"
   ]
  },
  {
   "cell_type": "code",
   "execution_count": 34,
   "id": "bfb592d0",
   "metadata": {},
   "outputs": [],
   "source": [
    "clients['prediction'] = aiplatform.gapic.PredictionServiceClient(client_options=client_options)"
   ]
  },
  {
   "cell_type": "markdown",
   "id": "0d99c86b",
   "metadata": {},
   "source": [
    "Setup an observation for prediction:"
   ]
  },
  {
   "cell_type": "code",
   "execution_count": 35,
   "id": "659fb7fe",
   "metadata": {},
   "outputs": [
    {
     "name": "stderr",
     "output_type": "stream",
     "text": [
      "Query complete after 0.00s: 100%|██████████| 1/1 [00:00<00:00, 591.91query/s] \n",
      "Downloading: 100%|██████████| 373/373 [00:01<00:00, 321.60rows/s]\n"
     ]
    }
   ],
   "source": [
    "%%bigquery pred\n",
    "SELECT *\n",
    "FROM `digits.digits_prepped`\n",
    "WHERE splits='TEST'"
   ]
  },
  {
   "cell_type": "code",
   "execution_count": 36,
   "id": "4f757f2c",
   "metadata": {},
   "outputs": [
    {
     "data": {
      "text/html": [
       "<div>\n",
       "<style scoped>\n",
       "    .dataframe tbody tr th:only-of-type {\n",
       "        vertical-align: middle;\n",
       "    }\n",
       "\n",
       "    .dataframe tbody tr th {\n",
       "        vertical-align: top;\n",
       "    }\n",
       "\n",
       "    .dataframe thead th {\n",
       "        text-align: right;\n",
       "    }\n",
       "</style>\n",
       "<table border=\"1\" class=\"dataframe\">\n",
       "  <thead>\n",
       "    <tr style=\"text-align: right;\">\n",
       "      <th></th>\n",
       "      <th>p0</th>\n",
       "      <th>p1</th>\n",
       "      <th>p2</th>\n",
       "      <th>p3</th>\n",
       "      <th>p4</th>\n",
       "      <th>p5</th>\n",
       "      <th>p6</th>\n",
       "      <th>p7</th>\n",
       "      <th>p8</th>\n",
       "      <th>p9</th>\n",
       "      <th>...</th>\n",
       "      <th>p57</th>\n",
       "      <th>p58</th>\n",
       "      <th>p59</th>\n",
       "      <th>p60</th>\n",
       "      <th>p61</th>\n",
       "      <th>p62</th>\n",
       "      <th>p63</th>\n",
       "      <th>target</th>\n",
       "      <th>target_OE</th>\n",
       "      <th>SPLITS</th>\n",
       "    </tr>\n",
       "  </thead>\n",
       "  <tbody>\n",
       "    <tr>\n",
       "      <th>0</th>\n",
       "      <td>0.0</td>\n",
       "      <td>0.0</td>\n",
       "      <td>0.0</td>\n",
       "      <td>12.0</td>\n",
       "      <td>6.0</td>\n",
       "      <td>0.0</td>\n",
       "      <td>0.0</td>\n",
       "      <td>0.0</td>\n",
       "      <td>0.0</td>\n",
       "      <td>0.0</td>\n",
       "      <td>...</td>\n",
       "      <td>0.0</td>\n",
       "      <td>0.0</td>\n",
       "      <td>10.0</td>\n",
       "      <td>16.0</td>\n",
       "      <td>11.0</td>\n",
       "      <td>0.0</td>\n",
       "      <td>0.0</td>\n",
       "      <td>0</td>\n",
       "      <td>Even</td>\n",
       "      <td>TEST</td>\n",
       "    </tr>\n",
       "  </tbody>\n",
       "</table>\n",
       "<p>1 rows × 67 columns</p>\n",
       "</div>"
      ],
      "text/plain": [
       "    p0   p1   p2    p3   p4   p5   p6   p7   p8   p9  ...  p57  p58   p59  \\\n",
       "0  0.0  0.0  0.0  12.0  6.0  0.0  0.0  0.0  0.0  0.0  ...  0.0  0.0  10.0   \n",
       "\n",
       "    p60   p61  p62  p63  target  target_OE  SPLITS  \n",
       "0  16.0  11.0  0.0  0.0       0       Even    TEST  \n",
       "\n",
       "[1 rows x 67 columns]"
      ]
     },
     "execution_count": 36,
     "metadata": {},
     "output_type": "execute_result"
    }
   ],
   "source": [
    "pred.head(1)"
   ]
  },
  {
   "cell_type": "code",
   "execution_count": 37,
   "id": "affca015",
   "metadata": {},
   "outputs": [],
   "source": [
    "newob = pred.loc[:0,'p0':'p63'].to_dict(orient='records')[0]\n",
    "#newob"
   ]
  },
  {
   "cell_type": "markdown",
   "id": "e1a50f0f",
   "metadata": {},
   "source": [
    "### With Python Client"
   ]
  },
  {
   "cell_type": "markdown",
   "id": "5e824bcc",
   "metadata": {},
   "source": [
    "Request prediction from the prediction service:"
   ]
  },
  {
   "cell_type": "code",
   "execution_count": 38,
   "id": "41defa01",
   "metadata": {},
   "outputs": [],
   "source": [
    "from google.protobuf import json_format\n",
    "from google.protobuf.struct_pb2 import Value\n",
    "\n",
    "response = clients['prediction'].predict(endpoint=endpoint_info.name, instances=[json_format.ParseDict(newob, Value())], parameters=json_format.ParseDict({}, Value()))"
   ]
  },
  {
   "cell_type": "code",
   "execution_count": 39,
   "id": "6b30e07c",
   "metadata": {},
   "outputs": [
    {
     "data": {
      "text/plain": [
       "[[0.999994278, 2.93821536e-08, 1.28389829e-07, 3.18992714e-11, 2.07363215e-07, 6.45222755e-08, 5.20832236e-06, 1.07975608e-10, 3.58760417e-08, 1.00881019e-08]]"
      ]
     },
     "execution_count": 39,
     "metadata": {},
     "output_type": "execute_result"
    }
   ],
   "source": [
    "response.predictions"
   ]
  },
  {
   "cell_type": "code",
   "execution_count": 29,
   "id": "daf0a3f5",
   "metadata": {},
   "outputs": [
    {
     "data": {
      "text/plain": [
       "0"
      ]
     },
     "execution_count": 29,
     "metadata": {},
     "output_type": "execute_result"
    }
   ],
   "source": [
    "import numpy as np\n",
    "np.argmax(response.predictions[0])"
   ]
  },
  {
   "cell_type": "markdown",
   "id": "ce8b90e8",
   "metadata": {},
   "source": [
    "### With REST"
   ]
  },
  {
   "cell_type": "code",
   "execution_count": 40,
   "id": "7ae29755",
   "metadata": {},
   "outputs": [],
   "source": [
    "import json\n",
    "with open('request.json','w') as file:\n",
    "    file.write(json.dumps({\"instances\": [newob]}))"
   ]
  },
  {
   "cell_type": "code",
   "execution_count": 41,
   "id": "8907a181",
   "metadata": {},
   "outputs": [
    {
     "name": "stdout",
     "output_type": "stream",
     "text": [
      "{\n",
      "  \"predictions\": [\n",
      "    [\n",
      "      0.999994278,\n",
      "      2.93821536e-08,\n",
      "      1.28389829e-07,\n",
      "      3.18992714e-11,\n",
      "      2.07363215e-07,\n",
      "      6.45222755e-08,\n",
      "      5.20832236e-06,\n",
      "      1.07975608e-10,\n",
      "      3.58760417e-08,\n",
      "      1.00881019e-08\n",
      "    ]\n",
      "  ],\n",
      "  \"deployedModelId\": \"8112091236615061504\"\n",
      "}\n"
     ]
    }
   ],
   "source": [
    "!curl -X POST \\\n",
    "-H \"Authorization: Bearer \"$(gcloud auth application-default print-access-token) \\\n",
    "-H \"Content-Type: application/json; charset=utf-8\" \\\n",
    "-d @request.json \\\n",
    "https://{API_ENDPOINT}/v1/{endpoint_info.name}:predict"
   ]
  },
  {
   "cell_type": "markdown",
   "id": "d7f5afd9",
   "metadata": {},
   "source": [
    "### With gcloud"
   ]
  },
  {
   "cell_type": "code",
   "execution_count": 42,
   "id": "06ed9555",
   "metadata": {},
   "outputs": [
    {
     "name": "stdout",
     "output_type": "stream",
     "text": [
      "Using endpoint [https://us-central1-prediction-aiplatform.googleapis.com/]\n",
      "[[0.999994278, 2.93821536e-08, 1.28389829e-07, 3.18992714e-11, 2.07363215e-07, 6.45222755e-08, 5.20832236e-06, 1.07975608e-10, 3.58760417e-08, 1.00881019e-08]]\n"
     ]
    }
   ],
   "source": [
    "!gcloud beta ai endpoints predict {endpoint_info.name.rsplit('/',1)[-1]} --region={REGION} --json-request=request.json"
   ]
  },
  {
   "cell_type": "markdown",
   "id": "7e0b5218",
   "metadata": {},
   "source": [
    "---\n",
    "# Remove Resources\n",
    "- undeploy-model\n",
    "- remove endpoint\n",
    "- remove model\n",
    "- delete model files"
   ]
  },
  {
   "cell_type": "markdown",
   "id": "f3d89474",
   "metadata": {},
   "source": [
    "Undeploy Model:"
   ]
  },
  {
   "cell_type": "code",
   "execution_count": 79,
   "id": "742c8987",
   "metadata": {},
   "outputs": [
    {
     "data": {
      "text/plain": [
       "<google.api_core.operation.Operation at 0x7fa2d43df390>"
      ]
     },
     "execution_count": 79,
     "metadata": {},
     "output_type": "execute_result"
    }
   ],
   "source": [
    "dmodel = clients['endpoint'].get_endpoint(name=endpoint_info.name).deployed_models[0].id\n",
    "clients['endpoint'].undeploy_model(endpoint=endpoint_info.name, deployed_model_id=dmodel)"
   ]
  },
  {
   "cell_type": "markdown",
   "id": "3caba1ab",
   "metadata": {},
   "source": [
    "Delete Endpoint:"
   ]
  },
  {
   "cell_type": "code",
   "execution_count": 80,
   "id": "83aa20d9",
   "metadata": {},
   "outputs": [
    {
     "data": {
      "text/plain": [
       "<google.api_core.operation.Operation at 0x7fa2d43df490>"
      ]
     },
     "execution_count": 80,
     "metadata": {},
     "output_type": "execute_result"
    }
   ],
   "source": [
    "clients['endpoint'].delete_endpoint(name=endpoint_info.name)"
   ]
  },
  {
   "cell_type": "markdown",
   "id": "c6d7181a",
   "metadata": {},
   "source": [
    "Remove Model:"
   ]
  },
  {
   "cell_type": "code",
   "execution_count": 81,
   "id": "c855ef29",
   "metadata": {},
   "outputs": [
    {
     "data": {
      "text/plain": [
       "<google.api_core.operation.Operation at 0x7fa2d43a8510>"
      ]
     },
     "execution_count": 81,
     "metadata": {},
     "output_type": "execute_result"
    }
   ],
   "source": [
    "clients['model'].delete_model(name=model_info.name)"
   ]
  },
  {
   "cell_type": "markdown",
   "id": "7e1b7c44",
   "metadata": {},
   "source": [
    "Delete Model Files:"
   ]
  },
  {
   "cell_type": "code",
   "execution_count": 82,
   "id": "213803ed",
   "metadata": {},
   "outputs": [],
   "source": [
    "from google.cloud import storage\n",
    "gcs = storage.Client()\n",
    "\n",
    "path = gcs.bucket(PROJECT_ID)\n",
    "blobs = path.list_blobs(prefix='digits/keras')\n",
    "for blob in blobs:\n",
    "    blob.delete()"
   ]
  },
  {
   "cell_type": "code",
   "execution_count": null,
   "id": "81795efa",
   "metadata": {},
   "outputs": [],
   "source": []
  }
 ],
 "metadata": {
  "environment": {
   "name": "managed-notebooks.m70",
   "type": "gcloud",
   "uri": "gcr.io/deeplearning-platform-release/managed-notebooks:m70"
  },
  "kernelspec": {
   "display_name": "Python",
   "language": "python",
   "name": "base"
  },
  "language_info": {
   "codemirror_mode": {
    "name": "ipython",
    "version": 3
   },
   "file_extension": ".py",
   "mimetype": "text/x-python",
   "name": "python",
   "nbconvert_exporter": "python",
   "pygments_lexer": "ipython3",
   "version": "3.7.10"
  }
 },
 "nbformat": 4,
 "nbformat_minor": 5
}
