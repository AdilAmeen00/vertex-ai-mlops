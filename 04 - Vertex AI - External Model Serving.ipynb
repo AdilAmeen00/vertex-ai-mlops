{
 "cells": [
  {
   "cell_type": "markdown",
   "id": "225b0b4e",
   "metadata": {},
   "source": [
    "# Vertex AI - External Model Serving\n",
    "\n",
    "This notebook uses a Vertex AI Notebook to train a TensorFlow model (locally) with the data in BigQuery table `<PROJECT_ID>.digits.digits_prepped`.  This model is then saved and Vertex AI clients are used to upload the model and deploy it to an endpoint for online predictions.\n",
    "\n",
    "**Prerequisites**\n",
    "- `00 - Initial Setup`\n",
    "- `01 - BigQuery - Data`\n",
    "\n",
    "**Overview**\n",
    "\n",
    "<img src=\"architectures/statmike-mlops-04.png\">"
   ]
  },
  {
   "cell_type": "markdown",
   "id": "12a1f741",
   "metadata": {},
   "source": [
    "---\n",
    "## Setup"
   ]
  },
  {
   "cell_type": "markdown",
   "id": "ce62dff0",
   "metadata": {},
   "source": [
    "Prepare TensorFlow:"
   ]
  },
  {
   "cell_type": "code",
   "execution_count": 1,
   "id": "d217ac19",
   "metadata": {},
   "outputs": [],
   "source": [
    "from tensorflow_io.bigquery import BigQueryClient\n",
    "from tensorflow_io.bigquery import BigQueryReadSession\n",
    "import tensorflow as tf"
   ]
  },
  {
   "cell_type": "markdown",
   "id": "3591567d",
   "metadata": {},
   "source": [
    "Setup Parameters"
   ]
  },
  {
   "cell_type": "code",
   "execution_count": 2,
   "id": "8daade3b",
   "metadata": {},
   "outputs": [],
   "source": [
    "PROJECT_ID='statmike-mlops'\n",
    "REGION='us-central1'\n",
    "\n",
    "BQDATASET_ID='digits'\n",
    "BQTABLE_ID='digits_prepped'\n",
    "\n",
    "MODEL_DIR='gs://{}/digits/model/04_keras'.format(PROJECT_ID)\n",
    "PARENT = \"projects/\" + PROJECT_ID + \"/locations/\" + REGION\n",
    "\n",
    "BATCH_SIZE = 30\n",
    "\n",
    "MODEL_NAME='MODEL_04_KERAS-DIGITS'\n",
    "ENDPOINT_NAME='ENDPOINT_04_KERAS-DIGITS'\n",
    "params = {\"MODEL_DIR\":MODEL_DIR}\n",
    "DEPLOY_IMAGE='us-docker.pkg.dev/cloud-aiplatform/prediction/tf2-cpu.2-2:latest'\n",
    "DEPLOY_COMPUTE='n1-standard-4'"
   ]
  },
  {
   "cell_type": "markdown",
   "id": "78931738",
   "metadata": {},
   "source": [
    "Setup Vertex AI Python Clients\n",
    "- https://googleapis.dev/python/aiplatform/latest/index.html"
   ]
  },
  {
   "cell_type": "code",
   "execution_count": 3,
   "id": "f5c59f46",
   "metadata": {},
   "outputs": [],
   "source": [
    "from google.cloud import aiplatform\n",
    "\n",
    "API_ENDPOINT = \"{}-aiplatform.googleapis.com\".format(REGION)\n",
    "client_options = {\"api_endpoint\": API_ENDPOINT}\n",
    "clients = {}"
   ]
  },
  {
   "cell_type": "markdown",
   "id": "aeddcc66",
   "metadata": {},
   "source": [
    "---\n",
    "## Prepare Data Connection\n",
    "\n",
    "Retrieve the Schema info from BigQuery Information Schema via the Storage API:\n",
    "- https://cloud.google.com/bigquery/docs/bigquery-storage-python-pandas"
   ]
  },
  {
   "cell_type": "code",
   "execution_count": 4,
   "id": "f02c8204",
   "metadata": {},
   "outputs": [
    {
     "data": {
      "text/html": [
       "<div>\n",
       "<style scoped>\n",
       "    .dataframe tbody tr th:only-of-type {\n",
       "        vertical-align: middle;\n",
       "    }\n",
       "\n",
       "    .dataframe tbody tr th {\n",
       "        vertical-align: top;\n",
       "    }\n",
       "\n",
       "    .dataframe thead th {\n",
       "        text-align: right;\n",
       "    }\n",
       "</style>\n",
       "<table border=\"1\" class=\"dataframe\">\n",
       "  <thead>\n",
       "    <tr style=\"text-align: right;\">\n",
       "      <th></th>\n",
       "      <th>table_catalog</th>\n",
       "      <th>table_schema</th>\n",
       "      <th>table_name</th>\n",
       "      <th>column_name</th>\n",
       "      <th>field_path</th>\n",
       "      <th>data_type</th>\n",
       "      <th>description</th>\n",
       "    </tr>\n",
       "  </thead>\n",
       "  <tbody>\n",
       "    <tr>\n",
       "      <th>0</th>\n",
       "      <td>statmike-mlops</td>\n",
       "      <td>digits</td>\n",
       "      <td>digits_prepped</td>\n",
       "      <td>p0</td>\n",
       "      <td>p0</td>\n",
       "      <td>FLOAT64</td>\n",
       "      <td>None</td>\n",
       "    </tr>\n",
       "    <tr>\n",
       "      <th>1</th>\n",
       "      <td>statmike-mlops</td>\n",
       "      <td>digits</td>\n",
       "      <td>digits_prepped</td>\n",
       "      <td>p1</td>\n",
       "      <td>p1</td>\n",
       "      <td>FLOAT64</td>\n",
       "      <td>None</td>\n",
       "    </tr>\n",
       "    <tr>\n",
       "      <th>2</th>\n",
       "      <td>statmike-mlops</td>\n",
       "      <td>digits</td>\n",
       "      <td>digits_prepped</td>\n",
       "      <td>p2</td>\n",
       "      <td>p2</td>\n",
       "      <td>FLOAT64</td>\n",
       "      <td>None</td>\n",
       "    </tr>\n",
       "    <tr>\n",
       "      <th>3</th>\n",
       "      <td>statmike-mlops</td>\n",
       "      <td>digits</td>\n",
       "      <td>digits_prepped</td>\n",
       "      <td>p3</td>\n",
       "      <td>p3</td>\n",
       "      <td>FLOAT64</td>\n",
       "      <td>None</td>\n",
       "    </tr>\n",
       "    <tr>\n",
       "      <th>4</th>\n",
       "      <td>statmike-mlops</td>\n",
       "      <td>digits</td>\n",
       "      <td>digits_prepped</td>\n",
       "      <td>p4</td>\n",
       "      <td>p4</td>\n",
       "      <td>FLOAT64</td>\n",
       "      <td>None</td>\n",
       "    </tr>\n",
       "    <tr>\n",
       "      <th>...</th>\n",
       "      <td>...</td>\n",
       "      <td>...</td>\n",
       "      <td>...</td>\n",
       "      <td>...</td>\n",
       "      <td>...</td>\n",
       "      <td>...</td>\n",
       "      <td>...</td>\n",
       "    </tr>\n",
       "    <tr>\n",
       "      <th>62</th>\n",
       "      <td>statmike-mlops</td>\n",
       "      <td>digits</td>\n",
       "      <td>digits_prepped</td>\n",
       "      <td>p62</td>\n",
       "      <td>p62</td>\n",
       "      <td>FLOAT64</td>\n",
       "      <td>None</td>\n",
       "    </tr>\n",
       "    <tr>\n",
       "      <th>63</th>\n",
       "      <td>statmike-mlops</td>\n",
       "      <td>digits</td>\n",
       "      <td>digits_prepped</td>\n",
       "      <td>p63</td>\n",
       "      <td>p63</td>\n",
       "      <td>FLOAT64</td>\n",
       "      <td>None</td>\n",
       "    </tr>\n",
       "    <tr>\n",
       "      <th>64</th>\n",
       "      <td>statmike-mlops</td>\n",
       "      <td>digits</td>\n",
       "      <td>digits_prepped</td>\n",
       "      <td>target</td>\n",
       "      <td>target</td>\n",
       "      <td>INT64</td>\n",
       "      <td>None</td>\n",
       "    </tr>\n",
       "    <tr>\n",
       "      <th>65</th>\n",
       "      <td>statmike-mlops</td>\n",
       "      <td>digits</td>\n",
       "      <td>digits_prepped</td>\n",
       "      <td>target_OE</td>\n",
       "      <td>target_OE</td>\n",
       "      <td>STRING</td>\n",
       "      <td>None</td>\n",
       "    </tr>\n",
       "    <tr>\n",
       "      <th>66</th>\n",
       "      <td>statmike-mlops</td>\n",
       "      <td>digits</td>\n",
       "      <td>digits_prepped</td>\n",
       "      <td>SPLITS</td>\n",
       "      <td>SPLITS</td>\n",
       "      <td>STRING</td>\n",
       "      <td>None</td>\n",
       "    </tr>\n",
       "  </tbody>\n",
       "</table>\n",
       "<p>67 rows × 7 columns</p>\n",
       "</div>"
      ],
      "text/plain": [
       "     table_catalog table_schema      table_name column_name field_path  \\\n",
       "0   statmike-mlops       digits  digits_prepped          p0         p0   \n",
       "1   statmike-mlops       digits  digits_prepped          p1         p1   \n",
       "2   statmike-mlops       digits  digits_prepped          p2         p2   \n",
       "3   statmike-mlops       digits  digits_prepped          p3         p3   \n",
       "4   statmike-mlops       digits  digits_prepped          p4         p4   \n",
       "..             ...          ...             ...         ...        ...   \n",
       "62  statmike-mlops       digits  digits_prepped         p62        p62   \n",
       "63  statmike-mlops       digits  digits_prepped         p63        p63   \n",
       "64  statmike-mlops       digits  digits_prepped      target     target   \n",
       "65  statmike-mlops       digits  digits_prepped   target_OE  target_OE   \n",
       "66  statmike-mlops       digits  digits_prepped      SPLITS     SPLITS   \n",
       "\n",
       "   data_type description  \n",
       "0    FLOAT64        None  \n",
       "1    FLOAT64        None  \n",
       "2    FLOAT64        None  \n",
       "3    FLOAT64        None  \n",
       "4    FLOAT64        None  \n",
       "..       ...         ...  \n",
       "62   FLOAT64        None  \n",
       "63   FLOAT64        None  \n",
       "64     INT64        None  \n",
       "65    STRING        None  \n",
       "66    STRING        None  \n",
       "\n",
       "[67 rows x 7 columns]"
      ]
     },
     "execution_count": 4,
     "metadata": {},
     "output_type": "execute_result"
    }
   ],
   "source": [
    "from google.cloud import bigquery\n",
    "bqclient = bigquery.Client()\n",
    "bqjob = bqclient.query(\n",
    "\"\"\"\n",
    "SELECT * FROM `\"\"\"+BQDATASET_ID+\"\"\".INFORMATION_SCHEMA.COLUMN_FIELD_PATHS`\n",
    "WHERE TABLE_NAME = '\"\"\"+BQTABLE_ID+\"\"\"' \"\"\"\n",
    ")\n",
    "schema = bqjob.result().to_dataframe()\n",
    "schema"
   ]
  },
  {
   "cell_type": "markdown",
   "id": "411bd526",
   "metadata": {},
   "source": [
    "Use the the table schema to prepare the TensorFlow Model:\n",
    "- Omit unused columns\n",
    "- Create `feature_columns` for the model\n",
    "- Define the `dtypes` for TensorFlow"
   ]
  },
  {
   "cell_type": "code",
   "execution_count": 5,
   "id": "bcff3925",
   "metadata": {},
   "outputs": [],
   "source": [
    "OMIT = ['target_OE','SPLITS']\n",
    "\n",
    "selected_fields = schema[~schema.column_name.isin(OMIT)].column_name.tolist()\n",
    "\n",
    "feature_columns = []\n",
    "feature_layer_inputs = {}\n",
    "for header in selected_fields:\n",
    "    if header != 'target':\n",
    "        feature_columns.append(tf.feature_column.numeric_column(header))\n",
    "        feature_layer_inputs[header] = tf.keras.Input(shape=(1,),name=header)\n",
    "\n",
    "from tensorflow.python.framework import dtypes\n",
    "output_types = schema[~schema.column_name.isin(OMIT)].data_type.tolist()\n",
    "output_types = [dtypes.float64 if x=='FLOAT64' else dtypes.int64 for x in output_types]"
   ]
  },
  {
   "cell_type": "markdown",
   "id": "472aec20",
   "metadata": {},
   "source": [
    "Define a function that remaps the input data for TensorFlow into features, target and one_hot encodes the `target`:"
   ]
  },
  {
   "cell_type": "code",
   "execution_count": 6,
   "id": "2df3bfe6",
   "metadata": {},
   "outputs": [],
   "source": [
    "def transTable(row_dict):\n",
    "    target=row_dict.pop('target')\n",
    "    target = tf.one_hot(tf.cast(target,tf.int64),10)\n",
    "    target = tf.cast(target,tf.float32)\n",
    "    return(row_dict,target)"
   ]
  },
  {
   "cell_type": "markdown",
   "id": "534d59b4",
   "metadata": {},
   "source": [
    "Setup TensorFlow_IO client > session > table + table.map\n",
    "- https://www.tensorflow.org/io/api_docs/python/tfio/bigquery/BigQueryClient"
   ]
  },
  {
   "cell_type": "code",
   "execution_count": 7,
   "id": "67565966",
   "metadata": {},
   "outputs": [],
   "source": [
    "client = BigQueryClient()\n",
    "session = client.read_session(\"projects/\"+PROJECT_ID,PROJECT_ID,BQTABLE_ID,BQDATASET_ID,selected_fields,output_types,row_restriction=\"SPLITS='TRAIN'\",requested_streams=3)\n",
    "table = session.parallel_read_rows()\n",
    "table = table.map(transTable)\n",
    "train = table.shuffle(100000).batch(BATCH_SIZE)"
   ]
  },
  {
   "cell_type": "code",
   "execution_count": 8,
   "id": "a367a3d9",
   "metadata": {},
   "outputs": [],
   "source": [
    "client = BigQueryClient()\n",
    "session = client.read_session(\"projects/\"+PROJECT_ID,PROJECT_ID,BQTABLE_ID,BQDATASET_ID,selected_fields,output_types,row_restriction=\"SPLITS='TEST'\",requested_streams=3)\n",
    "table = session.parallel_read_rows()\n",
    "table = table.map(transTable)\n",
    "test = table.batch(BATCH_SIZE)"
   ]
  },
  {
   "cell_type": "markdown",
   "id": "8cd22f73",
   "metadata": {},
   "source": [
    "Review a single batch of the train data:"
   ]
  },
  {
   "cell_type": "code",
   "execution_count": 9,
   "id": "abfc40a2",
   "metadata": {},
   "outputs": [
    {
     "name": "stdout",
     "output_type": "stream",
     "text": [
      "columns:  ['p0', 'p1', 'p10', 'p11', 'p12', 'p13', 'p14', 'p15', 'p16', 'p17', 'p18', 'p19', 'p2', 'p20', 'p21', 'p22', 'p23', 'p24', 'p25', 'p26', 'p27', 'p28', 'p29', 'p3', 'p30', 'p31', 'p32', 'p33', 'p34', 'p35', 'p36', 'p37', 'p38', 'p39', 'p4', 'p40', 'p41', 'p42', 'p43', 'p44', 'p45', 'p46', 'p47', 'p48', 'p49', 'p5', 'p50', 'p51', 'p52', 'p53', 'p54', 'p55', 'p56', 'p57', 'p58', 'p59', 'p6', 'p60', 'p61', 'p62', 'p63', 'p7', 'p8', 'p9']\n",
      "target:  tf.Tensor(\n",
      "[[1. 0. 0. 0. 0. 0. 0. 0. 0. 0.]\n",
      " [0. 0. 0. 0. 0. 0. 0. 1. 0. 0.]\n",
      " [0. 1. 0. 0. 0. 0. 0. 0. 0. 0.]\n",
      " [0. 1. 0. 0. 0. 0. 0. 0. 0. 0.]\n",
      " [0. 0. 0. 0. 0. 0. 0. 0. 0. 1.]\n",
      " [0. 0. 0. 0. 0. 0. 0. 0. 1. 0.]\n",
      " [0. 0. 0. 0. 1. 0. 0. 0. 0. 0.]\n",
      " [0. 0. 0. 1. 0. 0. 0. 0. 0. 0.]\n",
      " [0. 0. 0. 0. 0. 1. 0. 0. 0. 0.]\n",
      " [0. 0. 0. 0. 1. 0. 0. 0. 0. 0.]\n",
      " [0. 0. 0. 0. 0. 0. 0. 0. 0. 1.]\n",
      " [0. 0. 0. 0. 0. 0. 0. 0. 1. 0.]\n",
      " [0. 0. 0. 0. 1. 0. 0. 0. 0. 0.]\n",
      " [0. 0. 1. 0. 0. 0. 0. 0. 0. 0.]\n",
      " [0. 0. 0. 0. 0. 0. 0. 0. 1. 0.]\n",
      " [0. 0. 0. 0. 0. 0. 0. 0. 0. 1.]\n",
      " [0. 0. 0. 0. 0. 0. 0. 0. 1. 0.]\n",
      " [0. 1. 0. 0. 0. 0. 0. 0. 0. 0.]\n",
      " [0. 0. 0. 0. 0. 0. 1. 0. 0. 0.]\n",
      " [0. 0. 0. 1. 0. 0. 0. 0. 0. 0.]\n",
      " [0. 0. 0. 0. 0. 0. 0. 0. 0. 1.]\n",
      " [0. 0. 0. 0. 0. 0. 0. 0. 1. 0.]\n",
      " [0. 0. 1. 0. 0. 0. 0. 0. 0. 0.]\n",
      " [1. 0. 0. 0. 0. 0. 0. 0. 0. 0.]\n",
      " [0. 0. 0. 0. 0. 1. 0. 0. 0. 0.]\n",
      " [0. 0. 0. 0. 0. 0. 0. 0. 0. 1.]\n",
      " [0. 0. 1. 0. 0. 0. 0. 0. 0. 0.]\n",
      " [1. 0. 0. 0. 0. 0. 0. 0. 0. 0.]\n",
      " [0. 0. 0. 1. 0. 0. 0. 0. 0. 0.]\n",
      " [0. 0. 0. 0. 1. 0. 0. 0. 0. 0.]], shape=(30, 10), dtype=float32)\n"
     ]
    }
   ],
   "source": [
    "for a, b in train.take(1):\n",
    "    columns=list(a.keys())\n",
    "    print('columns: ',columns)\n",
    "    print('target: ',b)"
   ]
  },
  {
   "cell_type": "markdown",
   "id": "e65ca5cd",
   "metadata": {},
   "source": [
    "---\n",
    "## Train the Model\n",
    "\n",
    "Define the Model:"
   ]
  },
  {
   "cell_type": "code",
   "execution_count": 10,
   "id": "339c602b",
   "metadata": {},
   "outputs": [],
   "source": [
    "feature_layer = tf.keras.layers.DenseFeatures(feature_columns)\n",
    "feature_layer_outputs = feature_layer(feature_layer_inputs)\n",
    "model = tf.keras.Model(inputs=[v for v in feature_layer_inputs.values()],outputs=tf.keras.layers.Dense(10,activation=tf.nn.softmax)(feature_layer_outputs))\n",
    "model.compile(optimizer='sgd', loss='categorical_crossentropy', metrics=['accuracy'])\n",
    "#tf.keras.utils.plot_model(model,show_shapes=True, show_dtype=True)"
   ]
  },
  {
   "cell_type": "code",
   "execution_count": 11,
   "id": "171f5040",
   "metadata": {},
   "outputs": [],
   "source": [
    "#model.summary()"
   ]
  },
  {
   "cell_type": "markdown",
   "id": "3d3b07f9",
   "metadata": {},
   "source": [
    "Fit the Model:"
   ]
  },
  {
   "cell_type": "code",
   "execution_count": 12,
   "id": "36fc51cf",
   "metadata": {},
   "outputs": [
    {
     "name": "stdout",
     "output_type": "stream",
     "text": [
      "Epoch 1/25\n",
      "48/48 [==============================] - 2s 4ms/step - loss: 3.6315 - accuracy: 0.4927\n",
      "Epoch 2/25\n",
      "48/48 [==============================] - 0s 3ms/step - loss: 0.7070 - accuracy: 0.8050\n",
      "Epoch 3/25\n",
      "48/48 [==============================] - 0s 4ms/step - loss: 0.3959 - accuracy: 0.8826\n",
      "Epoch 4/25\n",
      "48/48 [==============================] - 0s 4ms/step - loss: 0.3006 - accuracy: 0.9078\n",
      "Epoch 5/25\n",
      "48/48 [==============================] - 0s 4ms/step - loss: 0.2456 - accuracy: 0.9245\n",
      "Epoch 6/25\n",
      "48/48 [==============================] - 0s 4ms/step - loss: 0.2101 - accuracy: 0.9350\n",
      "Epoch 7/25\n",
      "48/48 [==============================] - 0s 4ms/step - loss: 0.1942 - accuracy: 0.9392\n",
      "Epoch 8/25\n",
      "48/48 [==============================] - 1s 4ms/step - loss: 0.1546 - accuracy: 0.9518\n",
      "Epoch 9/25\n",
      "48/48 [==============================] - 0s 3ms/step - loss: 0.1467 - accuracy: 0.9497\n",
      "Epoch 10/25\n",
      "48/48 [==============================] - 0s 3ms/step - loss: 0.1295 - accuracy: 0.9560\n",
      "Epoch 11/25\n",
      "48/48 [==============================] - 0s 3ms/step - loss: 0.1211 - accuracy: 0.9595\n",
      "Epoch 12/25\n",
      "48/48 [==============================] - 0s 3ms/step - loss: 0.1186 - accuracy: 0.9609\n",
      "Epoch 13/25\n",
      "48/48 [==============================] - 0s 3ms/step - loss: 0.1096 - accuracy: 0.9637\n",
      "Epoch 14/25\n",
      "48/48 [==============================] - 1s 4ms/step - loss: 0.0988 - accuracy: 0.9665\n",
      "Epoch 15/25\n",
      "48/48 [==============================] - 0s 4ms/step - loss: 0.1019 - accuracy: 0.9651\n",
      "Epoch 16/25\n",
      "48/48 [==============================] - 1s 4ms/step - loss: 0.0942 - accuracy: 0.9672\n",
      "Epoch 17/25\n",
      "48/48 [==============================] - 0s 4ms/step - loss: 0.0895 - accuracy: 0.9693\n",
      "Epoch 18/25\n",
      "48/48 [==============================] - 1s 4ms/step - loss: 0.0864 - accuracy: 0.9686\n",
      "Epoch 19/25\n",
      "48/48 [==============================] - 1s 4ms/step - loss: 0.0816 - accuracy: 0.9748\n",
      "Epoch 20/25\n",
      "48/48 [==============================] - 0s 4ms/step - loss: 0.0790 - accuracy: 0.9748\n",
      "Epoch 21/25\n",
      "48/48 [==============================] - 0s 4ms/step - loss: 0.0733 - accuracy: 0.9776\n",
      "Epoch 22/25\n",
      "48/48 [==============================] - 0s 4ms/step - loss: 0.0717 - accuracy: 0.9797\n",
      "Epoch 23/25\n",
      "48/48 [==============================] - 0s 4ms/step - loss: 0.0701 - accuracy: 0.9769\n",
      "Epoch 24/25\n",
      "48/48 [==============================] - 0s 4ms/step - loss: 0.0656 - accuracy: 0.9818\n",
      "Epoch 25/25\n",
      "48/48 [==============================] - 0s 4ms/step - loss: 0.0657 - accuracy: 0.9790\n"
     ]
    }
   ],
   "source": [
    "history = model.fit(train,epochs=25)"
   ]
  },
  {
   "cell_type": "markdown",
   "id": "061b6847",
   "metadata": {},
   "source": [
    "Evaluate the model with the test data:"
   ]
  },
  {
   "cell_type": "code",
   "execution_count": 13,
   "id": "7e57a05a",
   "metadata": {},
   "outputs": [
    {
     "name": "stdout",
     "output_type": "stream",
     "text": [
      "13/13 [==============================] - 1s 5ms/step - loss: 0.1354 - accuracy: 0.9563\n"
     ]
    }
   ],
   "source": [
    "loss, accuracy = model.evaluate(test)"
   ]
  },
  {
   "cell_type": "markdown",
   "id": "8d33728f",
   "metadata": {},
   "source": [
    "Create Prediction from a batch of the test data:"
   ]
  },
  {
   "cell_type": "code",
   "execution_count": 14,
   "id": "3dc19139",
   "metadata": {},
   "outputs": [
    {
     "data": {
      "text/plain": [
       "array([[9.98126924e-01, 7.77293026e-05, 3.10619939e-08, 2.52564081e-11,\n",
       "        6.47546840e-04, 2.93015682e-06, 9.16230143e-04, 8.30095885e-08,\n",
       "        2.18975270e-04, 9.45235024e-06],\n",
       "       [9.99773443e-01, 1.94345073e-08, 9.40447720e-09, 5.47635617e-11,\n",
       "        6.30679040e-07, 1.78677801e-08, 7.65936704e-07, 7.42058748e-10,\n",
       "        1.78904847e-05, 2.07195975e-04],\n",
       "       [9.99573767e-01, 5.32874855e-10, 4.61138995e-07, 4.77575444e-11,\n",
       "        5.19682146e-08, 7.83407870e-07, 3.25622794e-04, 1.32466116e-09,\n",
       "        8.18743592e-06, 9.10424278e-05],\n",
       "       [8.18498492e-01, 5.04008145e-04, 6.64339723e-06, 8.22219862e-11,\n",
       "        1.81530166e-04, 1.13334590e-05, 1.76574677e-01, 5.27156317e-06,\n",
       "        4.13569948e-03, 8.23972878e-05],\n",
       "       [9.37826931e-01, 5.85520524e-04, 6.72940905e-06, 1.10499665e-11,\n",
       "        6.11661263e-02, 4.65437289e-08, 1.25485531e-04, 2.62845017e-04,\n",
       "        2.61703062e-05, 7.14297386e-08],\n",
       "       [9.99708354e-01, 2.34189869e-07, 2.24868613e-09, 1.10485392e-10,\n",
       "        1.66813976e-08, 4.47116975e-08, 6.65580924e-09, 4.21730171e-08,\n",
       "        1.11409099e-06, 2.90206925e-04],\n",
       "       [1.16777338e-10, 9.92169082e-01, 7.60683270e-12, 7.11619723e-05,\n",
       "        2.05340199e-04, 2.26033663e-08, 1.18413070e-07, 4.50339285e-04,\n",
       "        6.63765415e-04, 6.44020317e-03],\n",
       "       [6.80659305e-13, 9.99864817e-01, 2.97778051e-13, 8.70123222e-06,\n",
       "        1.06164880e-04, 3.74415166e-10, 2.26733454e-09, 1.13454018e-06,\n",
       "        6.40841381e-06, 1.26920595e-05],\n",
       "       [6.45194529e-03, 3.09260696e-01, 2.27602391e-06, 1.33201202e-05,\n",
       "        1.73254171e-04, 4.34445792e-06, 3.87202505e-07, 6.97279698e-04,\n",
       "        3.48730176e-03, 6.79909170e-01],\n",
       "       [6.64922490e-13, 9.96252000e-01, 3.19146736e-08, 4.10954861e-08,\n",
       "        3.71665554e-03, 8.61556515e-08, 4.25301536e-08, 4.54250682e-07,\n",
       "        2.71658937e-05, 3.63819618e-06],\n",
       "       [3.14089493e-13, 9.99068081e-01, 6.79537246e-04, 1.65018457e-04,\n",
       "        4.48460378e-05, 6.97830700e-08, 4.66745149e-08, 2.00409395e-05,\n",
       "        2.21399714e-05, 1.08149351e-07],\n",
       "       [3.53174033e-13, 9.84357834e-01, 7.35326961e-04, 2.83436093e-05,\n",
       "        1.15839384e-05, 3.67614983e-13, 1.51442589e-06, 2.24324071e-06,\n",
       "        1.48631465e-02, 1.65562009e-11],\n",
       "       [1.14122187e-08, 9.89757538e-01, 1.29898581e-06, 5.94086153e-03,\n",
       "        1.06040861e-04, 1.31613410e-06, 1.95158691e-07, 1.52808093e-06,\n",
       "        3.87632102e-03, 3.14889417e-04],\n",
       "       [1.59442307e-10, 9.97693360e-01, 2.88430200e-11, 1.17828502e-04,\n",
       "        1.82296929e-03, 7.46493978e-09, 4.32031605e-10, 2.53912935e-06,\n",
       "        2.30539314e-04, 1.32720699e-04],\n",
       "       [1.03935340e-08, 8.98815095e-01, 2.41200553e-08, 1.25198976e-10,\n",
       "        1.00364676e-02, 6.78074628e-08, 1.82456679e-05, 2.93264806e-04,\n",
       "        9.08226520e-02, 1.40576185e-05],\n",
       "       [4.67265820e-13, 9.87669408e-01, 5.33769310e-07, 6.45794032e-08,\n",
       "        1.10690119e-02, 2.77217083e-07, 6.29461397e-07, 4.37864306e-04,\n",
       "        6.70741370e-04, 1.51562039e-04],\n",
       "       [3.54699325e-11, 9.50207531e-01, 8.17216001e-04, 1.69643022e-06,\n",
       "        1.90580613e-04, 2.59650488e-08, 1.10934765e-04, 9.85814142e-04,\n",
       "        4.76782694e-02, 7.93671006e-06],\n",
       "       [3.35848259e-11, 9.97790217e-01, 4.26296498e-11, 2.04273533e-06,\n",
       "        2.82311812e-04, 1.46421397e-09, 3.83165555e-10, 5.10623686e-08,\n",
       "        5.94174373e-04, 1.33125996e-03],\n",
       "       [1.05924209e-05, 6.55750990e-01, 5.09599261e-07, 1.51792528e-05,\n",
       "        5.97917358e-04, 1.95890280e-07, 1.66354521e-08, 5.69390577e-05,\n",
       "        2.95944675e-03, 3.40608180e-01],\n",
       "       [1.01582046e-12, 9.99551356e-01, 9.50783072e-13, 1.18070382e-07,\n",
       "        2.86163151e-04, 1.37590994e-09, 2.18815827e-10, 4.34180869e-09,\n",
       "        8.39446730e-05, 7.83820142e-05],\n",
       "       [1.37029223e-13, 9.98059809e-01, 1.82165031e-03, 6.12713338e-05,\n",
       "        3.20155632e-05, 6.60707471e-08, 5.05744957e-08, 1.18757916e-05,\n",
       "        1.31413917e-05, 2.38311735e-08],\n",
       "       [1.50640093e-13, 9.96541321e-01, 1.87633395e-10, 1.23851876e-07,\n",
       "        3.38188373e-03, 5.67757619e-10, 5.07389153e-08, 6.63172295e-06,\n",
       "        6.98516014e-05, 1.22558248e-07],\n",
       "       [1.22714761e-09, 2.51077057e-04, 9.99737203e-01, 1.17733052e-07,\n",
       "        4.51772109e-07, 2.51785859e-15, 5.59356250e-09, 1.02365348e-05,\n",
       "        7.84715269e-07, 1.72192217e-13],\n",
       "       [2.19017451e-07, 4.86419194e-05, 9.98160779e-01, 2.33563256e-07,\n",
       "        8.84271145e-08, 3.58537267e-12, 6.34441994e-06, 2.00139300e-04,\n",
       "        1.58341485e-03, 7.14994925e-08],\n",
       "       [1.33323375e-09, 1.01955004e-04, 9.99846458e-01, 9.12882925e-09,\n",
       "        8.87958777e-07, 2.11088640e-14, 4.52005361e-06, 1.46526427e-05,\n",
       "        3.15666621e-05, 6.20640084e-12],\n",
       "       [3.83749310e-10, 2.01129183e-01, 7.87853718e-01, 1.31095849e-05,\n",
       "        4.14580759e-03, 9.55415976e-13, 1.44082264e-07, 4.35114885e-03,\n",
       "        2.50684959e-03, 2.11085882e-09],\n",
       "       [1.46149102e-06, 8.30720546e-06, 9.95822906e-01, 3.14877907e-05,\n",
       "        2.61942944e-07, 2.01063521e-08, 3.53452597e-05, 1.12268890e-05,\n",
       "        4.08865977e-03, 1.99287641e-07],\n",
       "       [4.94306640e-09, 8.85531828e-02, 9.10462081e-01, 5.99089890e-06,\n",
       "        5.66079098e-06, 4.41405072e-12, 3.32885647e-05, 5.63186950e-06,\n",
       "        9.34129988e-04, 4.32657209e-11],\n",
       "       [7.86317855e-09, 3.36602628e-01, 6.20760620e-01, 1.44627047e-05,\n",
       "        1.91350002e-04, 1.55857036e-10, 5.08667948e-03, 4.67307427e-06,\n",
       "        3.73394564e-02, 1.18044746e-07],\n",
       "       [1.78986025e-12, 3.88584880e-08, 6.91716581e-14, 3.95804351e-18,\n",
       "        9.99999881e-01, 6.80895518e-09, 1.16180008e-08, 6.11033713e-08,\n",
       "        5.45366419e-10, 2.44687950e-11]], dtype=float32)"
      ]
     },
     "execution_count": 14,
     "metadata": {},
     "output_type": "execute_result"
    }
   ],
   "source": [
    "model.predict(test.take(1))"
   ]
  },
  {
   "cell_type": "markdown",
   "id": "20a5466d",
   "metadata": {},
   "source": [
    "---\n",
    "## Save the model:"
   ]
  },
  {
   "cell_type": "code",
   "execution_count": 15,
   "id": "a1e3eee6",
   "metadata": {},
   "outputs": [
    {
     "name": "stdout",
     "output_type": "stream",
     "text": [
      "INFO:tensorflow:Assets written to: gs://statmike-mlops/digits/model/04_keras/assets\n",
      "INFO:tensorflow:Assets written to: gs://statmike-mlops/digits/model/04_keras/assets\n"
     ]
    }
   ],
   "source": [
    "model.save(MODEL_DIR)"
   ]
  },
  {
   "cell_type": "markdown",
   "id": "a0c466a3",
   "metadata": {},
   "source": [
    "---\n",
    "## Upload the Model to Vertex AI\n",
    "\n",
    "Create a client to the Model Service, define the Model, and upload the model:"
   ]
  },
  {
   "cell_type": "code",
   "execution_count": 16,
   "id": "3b017a99",
   "metadata": {},
   "outputs": [],
   "source": [
    "clients['model'] = aiplatform.gapic.ModelServiceClient(client_options=client_options)\n",
    "\n",
    "MODEL = {\n",
    "    \"display_name\": MODEL_NAME,\n",
    "    \"metadata_schema_uri\": \"\",\n",
    "    \"artifact_uri\": MODEL_DIR,\n",
    "    \"container_spec\": {\n",
    "        \"image_uri\": DEPLOY_IMAGE,\n",
    "        \"command\": [],\n",
    "        \"args\": [],\n",
    "        \"env\": [],\n",
    "        \"ports\": [{\"container_port\": 8080}],\n",
    "        \"predict_route\": \"\",\n",
    "        \"health_route\": \"\"\n",
    "    }\n",
    "}\n",
    "\n",
    "uploaded_model = clients['model'].upload_model(parent=PARENT, model=MODEL)"
   ]
  },
  {
   "cell_type": "markdown",
   "id": "72ee6180",
   "metadata": {},
   "source": [
    "Retrieve the model information and view the name and display name:"
   ]
  },
  {
   "cell_type": "code",
   "execution_count": 17,
   "id": "2d742a9b",
   "metadata": {},
   "outputs": [
    {
     "data": {
      "text/plain": [
       "('MODEL_04_KERAS-DIGITS',\n",
       " 'projects/691911073727/locations/us-central1/models/6816629044583333888')"
      ]
     },
     "execution_count": 17,
     "metadata": {},
     "output_type": "execute_result"
    }
   ],
   "source": [
    "model_info = clients['model'].get_model(name=uploaded_model.result(timeout=180).model)\n",
    "model_info.display_name, model_info.name"
   ]
  },
  {
   "cell_type": "markdown",
   "id": "ab2516b5",
   "metadata": {},
   "source": [
    "---\n",
    "## Create the Vertex AI Endpoint\n",
    "\n",
    "Create a client to the Endpoint Service and use it to create the endpoint:"
   ]
  },
  {
   "cell_type": "code",
   "execution_count": 18,
   "id": "3d435150",
   "metadata": {},
   "outputs": [],
   "source": [
    "clients['endpoint'] = aiplatform.gapic.EndpointServiceClient(client_options=client_options)\n",
    "\n",
    "endpoint = clients['endpoint'].create_endpoint(parent=PARENT, endpoint={\"display_name\": ENDPOINT_NAME})"
   ]
  },
  {
   "cell_type": "markdown",
   "id": "621d3566",
   "metadata": {},
   "source": [
    "Retrieve the endpoint information and view the name and display name:"
   ]
  },
  {
   "cell_type": "code",
   "execution_count": 19,
   "id": "92a01383",
   "metadata": {},
   "outputs": [
    {
     "data": {
      "text/plain": [
       "('ENDPOINT_04_KERAS-DIGITS',\n",
       " 'projects/691911073727/locations/us-central1/endpoints/8251913931296079872')"
      ]
     },
     "execution_count": 19,
     "metadata": {},
     "output_type": "execute_result"
    }
   ],
   "source": [
    "endpoint_info = clients['endpoint'].get_endpoint(name=endpoint.result(timeout=180).name)\n",
    "endpoint_info.display_name, endpoint_info.name"
   ]
  },
  {
   "cell_type": "markdown",
   "id": "d16a73b8",
   "metadata": {},
   "source": [
    "---\n",
    "## Deploy the Model to the Vertex AI Endpoint"
   ]
  },
  {
   "cell_type": "code",
   "execution_count": 20,
   "id": "98d0bdc0",
   "metadata": {},
   "outputs": [],
   "source": [
    "DMODEL = {\n",
    "        \"model\": model_info.name,\n",
    "        \"display_name\": 'DEPLOYED_'+MODEL_NAME,\n",
    "        \"dedicated_resources\": {\n",
    "            \"min_replica_count\": 1,\n",
    "            \"max_replica_count\": 1,\n",
    "            \"machine_spec\": {\n",
    "                    \"machine_type\": DEPLOY_COMPUTE,\n",
    "                    \"accelerator_count\": 0,\n",
    "                }\n",
    "        }   \n",
    "}\n",
    "\n",
    "TRAFFIC = {\n",
    "    '0' : 100\n",
    "}\n",
    "\n",
    "dmodel = clients['endpoint'].deploy_model(endpoint=endpoint_info.name, deployed_model=DMODEL, traffic_split=TRAFFIC)"
   ]
  },
  {
   "cell_type": "markdown",
   "id": "bb8aff34",
   "metadata": {},
   "source": [
    "Retrieve the deployed model information from the endpoint:"
   ]
  },
  {
   "cell_type": "code",
   "execution_count": 22,
   "id": "9b2fc2d9",
   "metadata": {},
   "outputs": [
    {
     "data": {
      "text/plain": [
       "[id: \"2957158513136107520\"\n",
       "model: \"projects/691911073727/locations/us-central1/models/6816629044583333888\"\n",
       "display_name: \"DEPLOYED_MODEL_04_KERAS-DIGITS\"\n",
       "create_time {\n",
       "  seconds: 1625580314\n",
       "  nanos: 43208000\n",
       "}\n",
       "dedicated_resources {\n",
       "  machine_spec {\n",
       "    machine_type: \"n1-standard-4\"\n",
       "  }\n",
       "  min_replica_count: 1\n",
       "  max_replica_count: 1\n",
       "}\n",
       "]"
      ]
     },
     "execution_count": 22,
     "metadata": {},
     "output_type": "execute_result"
    }
   ],
   "source": [
    "clients['endpoint'].get_endpoint(name=endpoint_info.name).deployed_models"
   ]
  },
  {
   "cell_type": "markdown",
   "id": "7cc52301",
   "metadata": {},
   "source": [
    "---\n",
    "## Predictions"
   ]
  },
  {
   "cell_type": "markdown",
   "id": "1a7af27a",
   "metadata": {},
   "source": [
    "Create a client to the prediction service:"
   ]
  },
  {
   "cell_type": "code",
   "execution_count": 4,
   "id": "4d2de679",
   "metadata": {},
   "outputs": [],
   "source": [
    "clients['prediction'] = aiplatform.gapic.PredictionServiceClient(client_options=client_options)"
   ]
  },
  {
   "cell_type": "markdown",
   "id": "19480daf",
   "metadata": {},
   "source": [
    "Setup an observation for prediction:"
   ]
  },
  {
   "cell_type": "code",
   "execution_count": 5,
   "id": "033537b2",
   "metadata": {},
   "outputs": [
    {
     "name": "stderr",
     "output_type": "stream",
     "text": [
      "Query complete after 0.01s: 100%|██████████| 1/1 [00:00<00:00, 345.64query/s]                          \n",
      "Downloading: 100%|██████████| 366/366 [00:01<00:00, 335.41rows/s]\n"
     ]
    }
   ],
   "source": [
    "%%bigquery pred\n",
    "SELECT *\n",
    "FROM `digits.digits_prepped`\n",
    "WHERE splits='TEST'"
   ]
  },
  {
   "cell_type": "code",
   "execution_count": 6,
   "id": "a0ec2aba",
   "metadata": {},
   "outputs": [
    {
     "data": {
      "text/html": [
       "<div>\n",
       "<style scoped>\n",
       "    .dataframe tbody tr th:only-of-type {\n",
       "        vertical-align: middle;\n",
       "    }\n",
       "\n",
       "    .dataframe tbody tr th {\n",
       "        vertical-align: top;\n",
       "    }\n",
       "\n",
       "    .dataframe thead th {\n",
       "        text-align: right;\n",
       "    }\n",
       "</style>\n",
       "<table border=\"1\" class=\"dataframe\">\n",
       "  <thead>\n",
       "    <tr style=\"text-align: right;\">\n",
       "      <th></th>\n",
       "      <th>p0</th>\n",
       "      <th>p1</th>\n",
       "      <th>p2</th>\n",
       "      <th>p3</th>\n",
       "      <th>p4</th>\n",
       "      <th>p5</th>\n",
       "      <th>p6</th>\n",
       "      <th>p7</th>\n",
       "      <th>p8</th>\n",
       "      <th>p9</th>\n",
       "      <th>...</th>\n",
       "      <th>p57</th>\n",
       "      <th>p58</th>\n",
       "      <th>p59</th>\n",
       "      <th>p60</th>\n",
       "      <th>p61</th>\n",
       "      <th>p62</th>\n",
       "      <th>p63</th>\n",
       "      <th>target</th>\n",
       "      <th>target_OE</th>\n",
       "      <th>SPLITS</th>\n",
       "    </tr>\n",
       "  </thead>\n",
       "  <tbody>\n",
       "    <tr>\n",
       "      <th>0</th>\n",
       "      <td>0.0</td>\n",
       "      <td>0.0</td>\n",
       "      <td>0.0</td>\n",
       "      <td>9.0</td>\n",
       "      <td>8.0</td>\n",
       "      <td>1.0</td>\n",
       "      <td>0.0</td>\n",
       "      <td>0.0</td>\n",
       "      <td>0.0</td>\n",
       "      <td>0.0</td>\n",
       "      <td>...</td>\n",
       "      <td>0.0</td>\n",
       "      <td>0.0</td>\n",
       "      <td>7.0</td>\n",
       "      <td>14.0</td>\n",
       "      <td>9.0</td>\n",
       "      <td>0.0</td>\n",
       "      <td>0.0</td>\n",
       "      <td>0</td>\n",
       "      <td>Even</td>\n",
       "      <td>TEST</td>\n",
       "    </tr>\n",
       "  </tbody>\n",
       "</table>\n",
       "<p>1 rows × 67 columns</p>\n",
       "</div>"
      ],
      "text/plain": [
       "    p0   p1   p2   p3   p4   p5   p6   p7   p8   p9  ...  p57  p58  p59   p60  \\\n",
       "0  0.0  0.0  0.0  9.0  8.0  1.0  0.0  0.0  0.0  0.0  ...  0.0  0.0  7.0  14.0   \n",
       "\n",
       "   p61  p62  p63  target  target_OE  SPLITS  \n",
       "0  9.0  0.0  0.0       0       Even    TEST  \n",
       "\n",
       "[1 rows x 67 columns]"
      ]
     },
     "execution_count": 6,
     "metadata": {},
     "output_type": "execute_result"
    }
   ],
   "source": [
    "pred.head(1)"
   ]
  },
  {
   "cell_type": "code",
   "execution_count": 8,
   "id": "686feace",
   "metadata": {},
   "outputs": [],
   "source": [
    "newob = pred.loc[:0,'p0':'p63'].to_dict(orient='records')[0]\n",
    "#newob"
   ]
  },
  {
   "cell_type": "markdown",
   "id": "067797f5",
   "metadata": {},
   "source": [
    "### With Python Client"
   ]
  },
  {
   "cell_type": "markdown",
   "id": "946b4e60",
   "metadata": {},
   "source": [
    "Request prediction from the prediction service:"
   ]
  },
  {
   "cell_type": "code",
   "execution_count": 27,
   "id": "5f68c066",
   "metadata": {},
   "outputs": [],
   "source": [
    "from google.protobuf import json_format\n",
    "from google.protobuf.struct_pb2 import Value\n",
    "\n",
    "response = clients['prediction'].predict(endpoint=endpoint_info.name, instances=[json_format.ParseDict(newob, Value())], parameters=json_format.ParseDict({}, Value()))"
   ]
  },
  {
   "cell_type": "code",
   "execution_count": 28,
   "id": "13cc71dc",
   "metadata": {},
   "outputs": [
    {
     "data": {
      "text/plain": [
       "[[0.998126924, 7.77293e-05, 3.10619903e-08, 2.52563109e-11, 0.000647545618, 2.93015682e-06, 0.000916230143, 8.30095885e-08, 0.00021897527, 9.45234115e-06]]"
      ]
     },
     "execution_count": 28,
     "metadata": {},
     "output_type": "execute_result"
    }
   ],
   "source": [
    "response.predictions"
   ]
  },
  {
   "cell_type": "code",
   "execution_count": 29,
   "id": "daa7c876",
   "metadata": {},
   "outputs": [
    {
     "data": {
      "text/plain": [
       "0"
      ]
     },
     "execution_count": 29,
     "metadata": {},
     "output_type": "execute_result"
    }
   ],
   "source": [
    "import numpy as np\n",
    "np.argmax(response.predictions[0])"
   ]
  },
  {
   "cell_type": "markdown",
   "id": "c22d2149",
   "metadata": {},
   "source": [
    "### With REST"
   ]
  },
  {
   "cell_type": "code",
   "execution_count": 30,
   "id": "803a91e8",
   "metadata": {},
   "outputs": [],
   "source": [
    "import json\n",
    "with open('request.json','w') as file:\n",
    "    file.write(json.dumps({\"instances\": [newob]}))"
   ]
  },
  {
   "cell_type": "code",
   "execution_count": 32,
   "id": "3ec6bee2",
   "metadata": {},
   "outputs": [
    {
     "name": "stdout",
     "output_type": "stream",
     "text": [
      "{\n",
      "  \"predictions\": [\n",
      "    [\n",
      "      0.998126924,\n",
      "      7.77293e-05,\n",
      "      3.10619903e-08,\n",
      "      2.52563109e-11,\n",
      "      0.000647545618,\n",
      "      2.93015682e-06,\n",
      "      0.000916230143,\n",
      "      8.30095885e-08,\n",
      "      0.00021897527,\n",
      "      9.45234115e-06\n",
      "    ]\n",
      "  ],\n",
      "  \"deployedModelId\": \"2957158513136107520\"\n",
      "}\n"
     ]
    }
   ],
   "source": [
    "!curl -X POST \\\n",
    "-H \"Authorization: Bearer \"$(gcloud auth application-default print-access-token) \\\n",
    "-H \"Content-Type: application/json; charset=utf-8\" \\\n",
    "-d @request.json \\\n",
    "https://{API_ENDPOINT}/v1/{endpoint_info.name}:predict"
   ]
  },
  {
   "cell_type": "markdown",
   "id": "c068dfde",
   "metadata": {},
   "source": [
    "### With gcloud"
   ]
  },
  {
   "cell_type": "code",
   "execution_count": 34,
   "id": "a8c9d328",
   "metadata": {},
   "outputs": [
    {
     "name": "stdout",
     "output_type": "stream",
     "text": [
      "Using endpoint [https://us-central1-prediction-aiplatform.googleapis.com/]\n",
      "[[0.998126924, 7.77293e-05, 3.10619903e-08, 2.52563109e-11, 0.000647545618, 2.93015682e-06, 0.000916230143, 8.30095885e-08, 0.00021897527, 9.45234115e-06]]\n"
     ]
    }
   ],
   "source": [
    "!gcloud beta ai endpoints predict {endpoint_info.name.rsplit('/',1)[-1]} --region={REGION} --json-request=request.json"
   ]
  },
  {
   "cell_type": "markdown",
   "id": "e7881a51",
   "metadata": {},
   "source": [
    "# Remove Resources\n",
    "- undeploy-model\n",
    "- remove endpoint\n",
    "- remove model\n",
    "- delete model files"
   ]
  },
  {
   "cell_type": "markdown",
   "id": "16d96d6d",
   "metadata": {},
   "source": [
    "Undeploy Model:"
   ]
  },
  {
   "cell_type": "code",
   "execution_count": 79,
   "id": "741c0d3d",
   "metadata": {},
   "outputs": [
    {
     "data": {
      "text/plain": [
       "<google.api_core.operation.Operation at 0x7fa2d43df390>"
      ]
     },
     "execution_count": 79,
     "metadata": {},
     "output_type": "execute_result"
    }
   ],
   "source": [
    "dmodel = clients['endpoint'].get_endpoint(name=endpoint_info.name).deployed_models[0].id\n",
    "clients['endpoint'].undeploy_model(endpoint=endpoint_info.name, deployed_model_id=dmodel)"
   ]
  },
  {
   "cell_type": "markdown",
   "id": "5f6fc335",
   "metadata": {},
   "source": [
    "Delete Endpoint:"
   ]
  },
  {
   "cell_type": "code",
   "execution_count": 80,
   "id": "506e3457",
   "metadata": {},
   "outputs": [
    {
     "data": {
      "text/plain": [
       "<google.api_core.operation.Operation at 0x7fa2d43df490>"
      ]
     },
     "execution_count": 80,
     "metadata": {},
     "output_type": "execute_result"
    }
   ],
   "source": [
    "clients['endpoint'].delete_endpoint(name=endpoint_info.name)"
   ]
  },
  {
   "cell_type": "markdown",
   "id": "5308a5c3",
   "metadata": {},
   "source": [
    "Remove Model:"
   ]
  },
  {
   "cell_type": "code",
   "execution_count": 81,
   "id": "abc4dd09",
   "metadata": {},
   "outputs": [
    {
     "data": {
      "text/plain": [
       "<google.api_core.operation.Operation at 0x7fa2d43a8510>"
      ]
     },
     "execution_count": 81,
     "metadata": {},
     "output_type": "execute_result"
    }
   ],
   "source": [
    "clients['model'].delete_model(name=model_info.name)"
   ]
  },
  {
   "cell_type": "markdown",
   "id": "7707372e",
   "metadata": {},
   "source": [
    "Delete Model Files:"
   ]
  },
  {
   "cell_type": "code",
   "execution_count": 82,
   "id": "c7ee29ae",
   "metadata": {},
   "outputs": [],
   "source": [
    "from google.cloud import storage\n",
    "gcs = storage.Client()\n",
    "\n",
    "path = gcs.bucket(PROJECT_ID)\n",
    "blobs = path.list_blobs(prefix='digits/keras')\n",
    "for blob in blobs:\n",
    "    blob.delete()"
   ]
  },
  {
   "cell_type": "code",
   "execution_count": null,
   "id": "acea1642",
   "metadata": {},
   "outputs": [],
   "source": []
  }
 ],
 "metadata": {
  "environment": {
   "name": "managed-notebooks.m70",
   "type": "gcloud",
   "uri": "gcr.io/deeplearning-platform-release/managed-notebooks:m70"
  },
  "kernelspec": {
   "display_name": "Python",
   "language": "python",
   "name": "base"
  },
  "language_info": {
   "codemirror_mode": {
    "name": "ipython",
    "version": 3
   },
   "file_extension": ".py",
   "mimetype": "text/x-python",
   "name": "python",
   "nbconvert_exporter": "python",
   "pygments_lexer": "ipython3",
   "version": "3.7.10"
  }
 },
 "nbformat": 4,
 "nbformat_minor": 5
}
