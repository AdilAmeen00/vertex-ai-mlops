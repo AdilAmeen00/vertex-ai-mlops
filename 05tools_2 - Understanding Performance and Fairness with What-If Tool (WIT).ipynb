{
 "cells": [
  {
   "cell_type": "markdown",
   "id": "5b1652fc-aec5-4caa-945e-13bfb19b616f",
   "metadata": {},
   "source": [
    "# 05tools_2: Understanding Model Performance and Fairness with What-If Tool (WIT)\n",
    "\n",
    "The [What-If Tool (WIT)](https://pair-code.github.io/what-if-tool/) helps understand model performance across a wide range of inputs.  In this notebook the 05 series models will be evaluated with the WIT tool.\n",
    "\n",
    "This notebook will show how to connect the tool to the model multiple ways and how to use the tools to evaluate the model.\n"
   ]
  },
  {
   "cell_type": "markdown",
   "id": "badffc53-30bf-41bd-8a0f-7039922e8e9d",
   "metadata": {},
   "source": [
    "---\n",
    "## Setup"
   ]
  },
  {
   "cell_type": "code",
   "execution_count": null,
   "id": "2bc07faf-2393-4321-a883-fc5d853cafef",
   "metadata": {},
   "outputs": [],
   "source": []
  },
  {
   "cell_type": "code",
   "execution_count": null,
   "id": "d9223036-9ef5-4280-a688-ee677ad2e44b",
   "metadata": {},
   "outputs": [],
   "source": []
  },
  {
   "cell_type": "code",
   "execution_count": null,
   "id": "c85fc280-a7a4-476f-9c00-c5257d827fd9",
   "metadata": {},
   "outputs": [],
   "source": []
  },
  {
   "cell_type": "code",
   "execution_count": null,
   "id": "f292ae71-821e-4735-b59e-2ed62b7e8c9c",
   "metadata": {},
   "outputs": [],
   "source": []
  },
  {
   "cell_type": "markdown",
   "id": "b36df5ad-5cdf-462e-b8ee-083cc92c1e01",
   "metadata": {},
   "source": [
    "---\n",
    "## Retrieve Model"
   ]
  },
  {
   "cell_type": "code",
   "execution_count": null,
   "id": "08b08f63-2992-4ebd-8998-ea330dc9d259",
   "metadata": {},
   "outputs": [],
   "source": []
  },
  {
   "cell_type": "code",
   "execution_count": null,
   "id": "60e34e51-c43e-4675-97d8-b9774b6bcc16",
   "metadata": {},
   "outputs": [],
   "source": []
  },
  {
   "cell_type": "markdown",
   "id": "173b0990-6ab0-494f-aecd-65dd900c65c8",
   "metadata": {},
   "source": [
    "---\n",
    "## Configure WIT"
   ]
  },
  {
   "cell_type": "code",
   "execution_count": null,
   "id": "a301c949-9813-470b-98ce-fa355a9d1d54",
   "metadata": {},
   "outputs": [],
   "source": []
  },
  {
   "cell_type": "code",
   "execution_count": null,
   "id": "11a07346-0bc3-4282-a1df-093adbac9d64",
   "metadata": {},
   "outputs": [],
   "source": []
  },
  {
   "cell_type": "code",
   "execution_count": null,
   "id": "d5d089a0-4cc3-4232-a2a1-ae3532b2e8b5",
   "metadata": {},
   "outputs": [],
   "source": []
  },
  {
   "cell_type": "markdown",
   "id": "f651b81a-2296-4be7-a631-a134610415a5",
   "metadata": {},
   "source": [
    "---\n",
    "## Explore The Model"
   ]
  },
  {
   "cell_type": "code",
   "execution_count": null,
   "id": "485d6b56-c92a-49b2-954a-9c20a5379063",
   "metadata": {},
   "outputs": [],
   "source": []
  },
  {
   "cell_type": "markdown",
   "id": "3e11aa27-b09a-423c-8fae-d0cd735cb6f4",
   "metadata": {},
   "source": [
    "---\n",
    "## Screenshot Walkthrough\n",
    "The interactive tool widget above can be use to reproduce these guided explorations:"
   ]
  },
  {
   "cell_type": "code",
   "execution_count": null,
   "id": "64448a08-5298-4ffb-b65d-27668a516834",
   "metadata": {},
   "outputs": [],
   "source": []
  },
  {
   "cell_type": "code",
   "execution_count": null,
   "id": "5918bdd2-9089-4c80-93cf-7e062e431d55",
   "metadata": {},
   "outputs": [],
   "source": []
  },
  {
   "cell_type": "code",
   "execution_count": null,
   "id": "14ecc891-d909-4cb0-912d-00909ee5a140",
   "metadata": {},
   "outputs": [],
   "source": []
  },
  {
   "cell_type": "code",
   "execution_count": null,
   "id": "44c7e87f-3967-4aca-880a-a81a5cbb5cb8",
   "metadata": {},
   "outputs": [],
   "source": []
  },
  {
   "cell_type": "code",
   "execution_count": null,
   "id": "aedd06a6-aff8-4dee-9d36-83a5f46b2c4f",
   "metadata": {},
   "outputs": [],
   "source": []
  },
  {
   "cell_type": "code",
   "execution_count": null,
   "id": "3c3e1b50-d8de-49b7-931e-33d3fdddc0b9",
   "metadata": {},
   "outputs": [],
   "source": []
  },
  {
   "cell_type": "code",
   "execution_count": null,
   "id": "14cddf8e-fd4c-4a1a-9b41-2309da166074",
   "metadata": {},
   "outputs": [],
   "source": []
  },
  {
   "cell_type": "code",
   "execution_count": null,
   "id": "825391f4-8e8a-4082-92d2-ab762985af4c",
   "metadata": {},
   "outputs": [],
   "source": []
  },
  {
   "cell_type": "code",
   "execution_count": null,
   "id": "cb1259b8-90bb-4324-9d65-31c72f45e835",
   "metadata": {},
   "outputs": [],
   "source": []
  },
  {
   "cell_type": "code",
   "execution_count": null,
   "id": "b00b7a2b-e120-47a8-9ea9-5fe23ea7b51a",
   "metadata": {},
   "outputs": [],
   "source": []
  },
  {
   "cell_type": "code",
   "execution_count": null,
   "id": "0de88c28-e4c6-4085-a6dc-51cd6cf89e72",
   "metadata": {},
   "outputs": [],
   "source": []
  }
 ],
 "metadata": {
  "environment": {
   "kernel": "python3",
   "name": "tf2-gpu.2-3.m94",
   "type": "gcloud",
   "uri": "gcr.io/deeplearning-platform-release/tf2-gpu.2-3:m94"
  },
  "kernelspec": {
   "display_name": "Python 3",
   "language": "python",
   "name": "python3"
  },
  "language_info": {
   "codemirror_mode": {
    "name": "ipython",
    "version": 3
   },
   "file_extension": ".py",
   "mimetype": "text/x-python",
   "name": "python",
   "nbconvert_exporter": "python",
   "pygments_lexer": "ipython3",
   "version": "3.7.12"
  }
 },
 "nbformat": 4,
 "nbformat_minor": 5
}
