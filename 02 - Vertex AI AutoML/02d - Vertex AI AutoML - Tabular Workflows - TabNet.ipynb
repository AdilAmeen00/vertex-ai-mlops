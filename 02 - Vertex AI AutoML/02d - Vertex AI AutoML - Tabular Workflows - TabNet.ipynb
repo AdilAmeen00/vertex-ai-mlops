{
 "cells": [
  {
   "cell_type": "markdown",
   "id": "e8ab9c57-1740-4cb7-9469-66241931b46b",
   "metadata": {},
   "source": [
    "# 02d - Vertex AI AutoML - Tabular Workflows - TabNet\n",
    "\n",
    "**IN DEVELOPMENT - INCOMPLETE**\n",
    "\n",
    "- https://google-cloud-pipeline-components.readthedocs.io/en/google-cloud-pipeline-components-1.0.23/google_cloud_pipeline_components.experimental.automl.tabular.html#google_cloud_pipeline_components.experimental.automl.tabular.utils.get_tabnet_study_spec_parameters_override\n",
    "- https://google-cloud-pipeline-components.readthedocs.io/en/google-cloud-pipeline-components-1.0.23/google_cloud_pipeline_components.experimental.automl.tabular.html#google_cloud_pipeline_components.experimental.automl.tabular.utils.get_tabnet_trainer_pipeline_and_parameters\n",
    "- https://google-cloud-pipeline-components.readthedocs.io/en/google-cloud-pipeline-components-1.0.23/google_cloud_pipeline_components.experimental.automl.tabular.html#google_cloud_pipeline_components.experimental.automl.tabular.utils.get_tabnet_hyperparameter_tuning_job_pipeline_and_parameters\n",
    "- https://google-cloud-pipeline-components.readthedocs.io/en/google-cloud-pipeline-components-1.0.23/google_cloud_pipeline_components.experimental.automl.tabular.html#google_cloud_pipeline_components.experimental.automl.tabular.TabNetHyperparameterTuningJobOp\n",
    "- https://google-cloud-pipeline-components.readthedocs.io/en/google-cloud-pipeline-components-1.0.23/google_cloud_pipeline_components.experimental.automl.tabular.html#google_cloud_pipeline_components.experimental.automl.tabular.TabNetTrainerOp\n"
   ]
  },
  {
   "cell_type": "code",
   "execution_count": null,
   "id": "892edbdd-df59-47d2-96db-ea8538e7fca1",
   "metadata": {},
   "outputs": [],
   "source": []
  },
  {
   "cell_type": "markdown",
   "id": "48939cc2-4fa8-4513-bf25-2ccd59d1bd6f",
   "metadata": {},
   "source": [
    "---\n",
    "## Setup"
   ]
  },
  {
   "cell_type": "markdown",
   "id": "f25c48aa-6697-4799-8759-a6b325e17c7b",
   "metadata": {},
   "source": [
    "### Package Installs (if needed)\n",
    "\n",
    "This notebook uses the Python Clients for\n",
    "- Google Service Usage\n",
    "    - to enable APIs (Artifact Registry and Cloud Build)\n",
    "\n",
    "The cells below check to see if the required Python libraries are installed.  If any are not it will print a message to do the install with the associated pip command to use.  These installs must be completed before continuing this notebook."
   ]
  },
  {
   "cell_type": "code",
   "execution_count": 19,
   "id": "6fed7654-526a-433c-960b-6e04124994e0",
   "metadata": {},
   "outputs": [],
   "source": [
    "try:\n",
    "    import google.cloud.service_usage_v1\n",
    "except ImportError:\n",
    "    print('You need to pip install google-cloud-service-usage')\n",
    "    !pip install google-cloud-service-usage -q"
   ]
  },
  {
   "cell_type": "markdown",
   "id": "fdf538b5-7084-480c-a73f-500f905f9565",
   "metadata": {},
   "source": [
    "### Environment"
   ]
  },
  {
   "cell_type": "markdown",
   "id": "5747cc3f-3c60-4ad7-bee1-c4b7592dbc5d",
   "metadata": {},
   "source": [
    "inputs:"
   ]
  },
  {
   "cell_type": "code",
   "execution_count": 1,
   "id": "be493ea9-c7f6-4916-91c9-de8d38482015",
   "metadata": {},
   "outputs": [
    {
     "data": {
      "text/plain": [
       "'statmike-mlops-349915'"
      ]
     },
     "execution_count": 1,
     "metadata": {},
     "output_type": "execute_result"
    }
   ],
   "source": [
    "project = !gcloud config get-value project\n",
    "PROJECT_ID = project[0]\n",
    "PROJECT_ID"
   ]
  },
  {
   "cell_type": "code",
   "execution_count": 2,
   "id": "46bf91da-d96a-4bfe-915d-aa2f85592f26",
   "metadata": {},
   "outputs": [],
   "source": [
    "REGION = 'us-central1'\n",
    "EXPERIMENT = '02d'\n",
    "SERIES = '02'\n",
    "\n",
    "# source data\n",
    "BQ_PROJECT = PROJECT_ID\n",
    "BQ_DATASET = 'fraud'\n",
    "BQ_TABLE = 'fraud_prepped'\n",
    "\n",
    "# Model Training\n",
    "VAR_TARGET = 'Class'\n",
    "VAR_OMIT = 'transaction_id' # add more variables to the string with space delimiters"
   ]
  },
  {
   "cell_type": "markdown",
   "id": "32e8c1ea-287e-42d9-aad9-e4d902792955",
   "metadata": {},
   "source": [
    "packages:"
   ]
  },
  {
   "cell_type": "code",
   "execution_count": 20,
   "id": "56dac3d3-98b7-4cc9-8df5-924f83a94d32",
   "metadata": {},
   "outputs": [],
   "source": [
    "from google.cloud import aiplatform\n",
    "from google.cloud import storage\n",
    "from google.cloud import bigquery\n",
    "from google.cloud import service_usage_v1\n",
    "\n",
    "from datetime import datetime\n",
    "import json\n",
    "import numpy as np\n",
    "import pandas as pd\n",
    "\n",
    "from google.protobuf import json_format\n",
    "from google.protobuf.struct_pb2 import Value\n",
    "\n",
    "from google_cloud_pipeline_components.experimental.automl.tabular import utils as automl_tabular_utils"
   ]
  },
  {
   "cell_type": "markdown",
   "id": "5cc74c46-8325-439b-8584-58e5532c5ccc",
   "metadata": {},
   "source": [
    "clients:"
   ]
  },
  {
   "cell_type": "code",
   "execution_count": 21,
   "id": "d1112cbe-b487-47c3-afab-32f502ce46a0",
   "metadata": {},
   "outputs": [],
   "source": [
    "aiplatform.init(project=PROJECT_ID, location=REGION)\n",
    "bq = bigquery.Client()\n",
    "gcs = storage.Client()\n",
    "su_client = service_usage_v1.ServiceUsageClient()"
   ]
  },
  {
   "cell_type": "markdown",
   "id": "b798b3bf-a88e-46c1-ac02-3c7890b63874",
   "metadata": {},
   "source": [
    "parameters:"
   ]
  },
  {
   "cell_type": "code",
   "execution_count": 22,
   "id": "61791342-4917-4a12-8c1d-9b32b90a1b5d",
   "metadata": {},
   "outputs": [],
   "source": [
    "TIMESTAMP = datetime.now().strftime(\"%Y%m%d%H%M%S\")\n",
    "BUCKET = PROJECT_ID\n",
    "URI = f\"gs://{BUCKET}/{SERIES}/{EXPERIMENT}\"\n",
    "DIR = f\"temp/{EXPERIMENT}\""
   ]
  },
  {
   "cell_type": "code",
   "execution_count": 23,
   "id": "ed6bf717-6672-4fd3-a6ae-8e80cfe73db1",
   "metadata": {},
   "outputs": [
    {
     "data": {
      "text/plain": [
       "'1026793852137-compute@developer.gserviceaccount.com'"
      ]
     },
     "execution_count": 23,
     "metadata": {},
     "output_type": "execute_result"
    }
   ],
   "source": [
    "SERVICE_ACCOUNT = !gcloud config list --format='value(core.account)' \n",
    "SERVICE_ACCOUNT = SERVICE_ACCOUNT[0]\n",
    "SERVICE_ACCOUNT"
   ]
  },
  {
   "cell_type": "markdown",
   "id": "7467b19e-b31a-4ec8-b98f-e98dbce1ad1e",
   "metadata": {},
   "source": [
    "List the service accounts current roles:"
   ]
  },
  {
   "cell_type": "code",
   "execution_count": 24,
   "id": "c5446a23-07c3-48e6-ad6a-cdb3f868468f",
   "metadata": {},
   "outputs": [
    {
     "name": "stdout",
     "output_type": "stream",
     "text": [
      "ROLE\n",
      "roles/bigquery.admin\n",
      "roles/owner\n",
      "roles/run.admin\n",
      "roles/storage.objectAdmin\n"
     ]
    }
   ],
   "source": [
    "!gcloud projects get-iam-policy $PROJECT_ID --filter=\"bindings.members:$SERVICE_ACCOUNT\" --format='table(bindings.role)' --flatten=\"bindings[].members\""
   ]
  },
  {
   "cell_type": "markdown",
   "id": "c0f73067-1335-4001-b93e-56f68a635791",
   "metadata": {},
   "source": [
    ">Note: If the resulting list is missing [roles/storage.objectAdmin](https://cloud.google.com/storage/docs/access-control/iam-roles) then [revisit the setup notebook](../00%20-%20Setup/00%20-%20Environment%20Setup.ipynb#permissions) and add this permission to the service account with the provided instructions."
   ]
  },
  {
   "cell_type": "markdown",
   "id": "a1cd0d4b-8bf5-4972-89de-6cf5967a4b8e",
   "metadata": {},
   "source": [
    "environment:"
   ]
  },
  {
   "cell_type": "code",
   "execution_count": 25,
   "id": "485e8ed1-a775-4981-b3e0-26358aa6129a",
   "metadata": {},
   "outputs": [],
   "source": [
    "!rm -rf {DIR}\n",
    "!mkdir -p {DIR}"
   ]
  },
  {
   "cell_type": "markdown",
   "id": "0c3ab3bd-c127-43ed-8cc1-ad574d92a0ad",
   "metadata": {},
   "source": [
    "Experiment Tracking:"
   ]
  },
  {
   "cell_type": "code",
   "execution_count": 82,
   "id": "446f5c33-8ae5-492d-a1e2-cb12e4d1c5e6",
   "metadata": {},
   "outputs": [],
   "source": [
    "FRAMEWORK = 'tabnet'\n",
    "TASK = 'classification'\n",
    "MODEL_TYPE = 'dnn'\n",
    "EXPERIMENT_NAME = f'experiment-{SERIES}-{EXPERIMENT}-{FRAMEWORK}-{TASK}-{MODEL_TYPE}'\n",
    "RUN_NAME = f'run-{TIMESTAMP}'"
   ]
  },
  {
   "cell_type": "markdown",
   "id": "08b57568-b094-4690-a9b8-16556792435a",
   "metadata": {
    "tags": []
   },
   "source": [
    "### Enable APIs\n",
    "\n",
    "Using Dataflow requires enabling these APIs for the Google Cloud Project.\n",
    "\n",
    "Options for enabeling these.  In this notebook option 2 is used.\n",
    " 1. Use the APIs & Services page in the console: https://console.cloud.google.com/apis\n",
    "     - `+ Enable APIs and Services`\n",
    "     - Search for Dataflow\n",
    " 2. Use [Google Service Usage](https://cloud.google.com/service-usage/docs) API from Python\n",
    "     - [Python Client For Service Usage](https://github.com/googleapis/python-service-usage)\n",
    "     - [Python Client Library Documentation](https://cloud.google.com/python/docs/reference/serviceusage/latest)\n",
    "     \n",
    "The following code cells use the Service Usage Client to:\n",
    "- get the state of the service\n",
    "- if 'DISABLED':\n",
    "    - Try enabling the service and return the state after trying\n",
    "- if 'ENABLED' print the state for confirmation"
   ]
  },
  {
   "cell_type": "markdown",
   "id": "05fee3de-e597-4794-8542-ec194cb9164a",
   "metadata": {},
   "source": [
    "#### Dataflow"
   ]
  },
  {
   "cell_type": "code",
   "execution_count": 26,
   "id": "0fc7520b-5082-4536-8812-a13a19f825df",
   "metadata": {},
   "outputs": [
    {
     "name": "stdout",
     "output_type": "stream",
     "text": [
      "Dataflow is currently DISABLED for project: statmike-mlops-349915\n",
      "Trying to Enable...\n",
      "Dataflow is now enabled for project: statmike-mlops-349915\n"
     ]
    }
   ],
   "source": [
    "dataflow = su_client.get_service(\n",
    "    request = service_usage_v1.GetServiceRequest(\n",
    "        name = f'projects/{PROJECT_ID}/services/dataflow.googleapis.com'\n",
    "    )\n",
    ").state.name\n",
    "\n",
    "\n",
    "if dataflow == 'DISABLED':\n",
    "    print(f'Dataflow is currently {dataflow} for project: {PROJECT_ID}')\n",
    "    print(f'Trying to Enable...')\n",
    "    operation = su_client.enable_service(\n",
    "        request = service_usage_v1.EnableServiceRequest(\n",
    "            name = f'projects/{PROJECT_ID}/services/dataflow.googleapis.com'\n",
    "        )\n",
    "    )\n",
    "    response = operation.result()\n",
    "    if response.service.state.name == 'ENABLED':\n",
    "        print(f'Dataflow is now enabled for project: {PROJECT_ID}')\n",
    "    else:\n",
    "        print(response)\n",
    "else:\n",
    "    print(f'Dataflow already enabled for project: {PROJECT_ID}')"
   ]
  },
  {
   "cell_type": "markdown",
   "id": "95f2daa0-0383-4b17-bc40-0bce16a7c170",
   "metadata": {},
   "source": [
    "---\n",
    "## TabNet Trainer - With Hyperparmeter Tuning"
   ]
  },
  {
   "cell_type": "markdown",
   "id": "f662e6e4-c583-431a-a38a-4652a3e9b613",
   "metadata": {},
   "source": [
    "Get the column information (schema) for the training data:"
   ]
  },
  {
   "cell_type": "code",
   "execution_count": 27,
   "id": "c82a732c-5abc-453f-b73b-8802acba7493",
   "metadata": {},
   "outputs": [],
   "source": [
    "query = f\"\"\"\n",
    "SELECT *\n",
    "FROM {BQ_PROJECT}.{BQ_DATASET}.INFORMATION_SCHEMA.COLUMNS\n",
    "WHERE TABLE_NAME = '{BQ_TABLE}'\n",
    "\"\"\"\n",
    "schema = bq.query(query = query).to_dataframe()"
   ]
  },
  {
   "cell_type": "markdown",
   "id": "31a7b7dc-0e7a-481d-b539-0f1c73ef2a0f",
   "metadata": {},
   "source": [
    "Make a list of features from the table schema - omit the target variable (`VAR_TARGET`) and other variables that are not part of the model training:"
   ]
  },
  {
   "cell_type": "code",
   "execution_count": 28,
   "id": "7e25a6eb-5ee4-48fa-bcf1-1490ef294b69",
   "metadata": {},
   "outputs": [],
   "source": [
    "features = schema[~schema.column_name.isin([VAR_OMIT] + [VAR_TARGET] + ['splits'])].column_name.tolist()"
   ]
  },
  {
   "cell_type": "markdown",
   "id": "ca919381-8e4c-4a13-a2ec-b98a58fa3a01",
   "metadata": {},
   "source": [
    "Create a feature transformation configuration.  This example uses `auto_transforms` for all features but many custom options are avialable."
   ]
  },
  {
   "cell_type": "code",
   "execution_count": 29,
   "id": "594318a0-c882-4e42-828d-fe8acf005bb9",
   "metadata": {},
   "outputs": [],
   "source": [
    "transform_config = {\"auto_transforms\": features}"
   ]
  },
  {
   "cell_type": "markdown",
   "id": "e132d4b7-77da-4ea0-b253-f87fe6539261",
   "metadata": {},
   "source": [
    "Save the transform_config the the bucket path for this pipeline:"
   ]
  },
  {
   "cell_type": "code",
   "execution_count": 30,
   "id": "8c9f77d2-fc6f-4de8-80af-fdcf4fab7b0f",
   "metadata": {},
   "outputs": [],
   "source": [
    "pipeline_job_root_dir = f'{URI}/pipelines/{TIMESTAMP}'\n",
    "bucket = gcs.lookup_bucket(PROJECT_ID)\n",
    "blob = bucket.blob(pipeline_job_root_dir.split(f'gs://{PROJECT_ID}/')[1] + f'/transform_config.json')\n",
    "blob.upload_from_string(json.dumps(transform_config))"
   ]
  },
  {
   "cell_type": "markdown",
   "id": "d162ea76-6e03-448e-a344-7843599387bd",
   "metadata": {},
   "source": [
    "Use the pre-built component [`get_tabnet_hyperparamter_tuning_job_pipeline_and_parameters`](https://google-cloud-pipeline-components.readthedocs.io/en/google-cloud-pipeline-components-1.0.23/google_cloud_pipeline_components.experimental.automl.tabular.html#google_cloud_pipeline_components.experimental.automl.tabular.utils.get_tabnet_hyperparameter_tuning_job_pipeline_and_parameters) to create a pipeline template and set parameter values for hyperparamter tuning."
   ]
  },
  {
   "cell_type": "code",
   "execution_count": null,
   "id": "563cba38-4765-4959-b379-f075689b0faf",
   "metadata": {},
   "outputs": [],
   "source": [
    "(template_path, parameter_values) = automl_tabular_utils.get_tabnet_hyperparameter_tuning_job_pipeline_and_parameters(\n",
    "    project = PROJECT_ID,\n",
    "    location = REGION,\n",
    "    target_column = VAR_TARGET,\n",
    "    prediction_type = 'classification',\n",
    "    root_dir = pipeline_job_root_dir,\n",
    "    transform_config = pipeline_job_root_dir + f'/transform_config.json',\n",
    "    data_source_bigquery_table_path = f'bq://{BQ_PROJECT}.{BQ_DATASET}.{BQ_TABLE}',\n",
    "    predefined_split_key = 'splits',\n",
    "    study_spec_metric_id = 'loss',\n",
    "    study_spec_metric_goal = 'MINIMIZE',\n",
    "    study_spec_parameters_override = automl_tabular_utils.get_tabnet_study_spec_parameters_override(\n",
    "        dataset_size_bucket = \"small\",\n",
    "        prediction_type = 'classification',\n",
    "        training_budget_bucket = \"small\",\n",
    "    ),\n",
    "    max_trial_count = 200,\n",
    "    parallel_trial_count = 10,\n",
    "    max_failed_trial_count = 10,\n",
    "    worker_pool_specs_override = [{'machine_spec': {'machine_type': 'n1-standard-8'}, }],\n",
    "    run_evaluation = True,\n",
    ")"
   ]
  },
  {
   "cell_type": "markdown",
   "id": "1c777664-fff8-4c2a-92ab-d9cddcb67c5e",
   "metadata": {},
   "source": [
    "Create a Vertex AI Pipeline Job:"
   ]
  },
  {
   "cell_type": "code",
   "execution_count": 32,
   "id": "a1c28510-bec2-4a1e-995f-21833e04b53f",
   "metadata": {},
   "outputs": [],
   "source": [
    "pipeline_job = aiplatform.PipelineJob(\n",
    "    display_name = EXPERIMENT,\n",
    "    job_id = f'series-{SERIES}-{EXPERIMENT}-{TIMESTAMP}',\n",
    "    pipeline_root = pipeline_job_root_dir,\n",
    "    template_path = template_path,\n",
    "    parameter_values = parameter_values,\n",
    "    enable_caching = False,\n",
    ")"
   ]
  },
  {
   "cell_type": "markdown",
   "id": "81e5c498-cf18-4ba5-8dd3-e06b25cabb77",
   "metadata": {},
   "source": [
    "Run the Vertex AI Pipeline Job:"
   ]
  },
  {
   "cell_type": "code",
   "execution_count": null,
   "id": "afe836ee-c2e6-416f-89e9-889241a5b27a",
   "metadata": {},
   "outputs": [
    {
     "name": "stdout",
     "output_type": "stream",
     "text": [
      "Creating PipelineJob\n",
      "PipelineJob created. Resource name: projects/1026793852137/locations/us-central1/pipelineJobs/series-02-02d-20221115172949\n",
      "To use this PipelineJob in another session:\n",
      "pipeline_job = aiplatform.PipelineJob.get('projects/1026793852137/locations/us-central1/pipelineJobs/series-02-02d-20221115172949')\n",
      "View Pipeline Job:\n",
      "https://console.cloud.google.com/vertex-ai/locations/us-central1/pipelines/runs/series-02-02d-20221115172949?project=1026793852137\n",
      "PipelineJob projects/1026793852137/locations/us-central1/pipelineJobs/series-02-02d-20221115172949 current state:\n",
      "PipelineState.PIPELINE_STATE_RUNNING\n",
      "PipelineJob projects/1026793852137/locations/us-central1/pipelineJobs/series-02-02d-20221115172949 current state:\n",
      "PipelineState.PIPELINE_STATE_RUNNING\n",
      "PipelineJob projects/1026793852137/locations/us-central1/pipelineJobs/series-02-02d-20221115172949 current state:\n",
      "PipelineState.PIPELINE_STATE_RUNNING\n",
      "PipelineJob projects/1026793852137/locations/us-central1/pipelineJobs/series-02-02d-20221115172949 current state:\n",
      "PipelineState.PIPELINE_STATE_RUNNING\n",
      "PipelineJob projects/1026793852137/locations/us-central1/pipelineJobs/series-02-02d-20221115172949 current state:\n",
      "PipelineState.PIPELINE_STATE_RUNNING\n",
      "PipelineJob projects/1026793852137/locations/us-central1/pipelineJobs/series-02-02d-20221115172949 current state:\n",
      "PipelineState.PIPELINE_STATE_RUNNING\n",
      "PipelineJob projects/1026793852137/locations/us-central1/pipelineJobs/series-02-02d-20221115172949 current state:\n",
      "PipelineState.PIPELINE_STATE_RUNNING\n"
     ]
    }
   ],
   "source": [
    "pipeline_job.run(\n",
    "    sync = True\n",
    ")"
   ]
  },
  {
   "cell_type": "markdown",
   "id": "14ab6526-58e1-4cec-891c-d41a1a1d4c19",
   "metadata": {},
   "source": [
    "## Get Best Trials Parameters"
   ]
  },
  {
   "cell_type": "code",
   "execution_count": 41,
   "id": "f915cbda-4b80-47ac-b128-1ddd4108042b",
   "metadata": {},
   "outputs": [],
   "source": [
    "# If the job above was run then this pointer is already defined as pipeline_job:\n",
    "pipeline = aiplatform.PipelineJob.get(resource_name = f'series-{SERIES}-{EXPERIMENT}-{TIMESTAMP}')"
   ]
  },
  {
   "cell_type": "code",
   "execution_count": 42,
   "id": "5988c4eb-3245-48b9-a9b3-7e72ac61a35c",
   "metadata": {},
   "outputs": [],
   "source": [
    "pipeline_details = pipeline.gca_resource.job_detail.task_details"
   ]
  },
  {
   "cell_type": "code",
   "execution_count": 47,
   "id": "06d045bd-1b6e-43c3-b3f8-b415785af1ea",
   "metadata": {},
   "outputs": [],
   "source": [
    "for task in pipeline_details:\n",
    "    if task.task_name == 'get-best-hyperparameter-tuning-job-trial':\n",
    "        task_details = task"
   ]
  },
  {
   "cell_type": "code",
   "execution_count": 50,
   "id": "6674f95a-7018-4fb1-a2ef-f68422725646",
   "metadata": {},
   "outputs": [
    {
     "data": {
      "text/plain": [
       "artifacts {\n",
       "  name: \"projects/1026793852137/locations/us-central1/metadataStores/default/artifacts/3593481980663021634\"\n",
       "  display_name: \"unmanaged_container_model\"\n",
       "  uri: \"gs://statmike-mlops-349915/02/02d/pipelines/20221115172949/6571834875286913024/5278658018173517824/train/trial_155/model\"\n",
       "  etag: \"1668571761193\"\n",
       "  create_time {\n",
       "    seconds: 1668571719\n",
       "    nanos: 531000000\n",
       "  }\n",
       "  update_time {\n",
       "    seconds: 1668571761\n",
       "    nanos: 193000000\n",
       "  }\n",
       "  state: LIVE\n",
       "  schema_title: \"system.Artifact\"\n",
       "  schema_version: \"0.0.1\"\n",
       "  metadata {\n",
       "    fields {\n",
       "      key: \"containerSpec\"\n",
       "      value {\n",
       "        struct_value {\n",
       "          fields {\n",
       "            key: \"healthRoute\"\n",
       "            value {\n",
       "              string_value: \"/health\"\n",
       "            }\n",
       "          }\n",
       "          fields {\n",
       "            key: \"imageUri\"\n",
       "            value {\n",
       "              string_value: \"us-docker.pkg.dev/vertex-ai/automl-tabular/prediction-server:20221020_1325_RC00\"\n",
       "            }\n",
       "          }\n",
       "          fields {\n",
       "            key: \"predictRoute\"\n",
       "            value {\n",
       "              string_value: \"/predict\"\n",
       "            }\n",
       "          }\n",
       "        }\n",
       "      }\n",
       "    }\n",
       "    fields {\n",
       "      key: \"predictSchemata\"\n",
       "      value {\n",
       "        struct_value {\n",
       "          fields {\n",
       "            key: \"instanceSchemaUri\"\n",
       "            value {\n",
       "              string_value: \"gs://statmike-mlops-349915/02/02d/pipelines/20221115172949/6571834875286913024/5278658018173517824/train/trial_7/model/instance.yaml\"\n",
       "            }\n",
       "          }\n",
       "          fields {\n",
       "            key: \"predictionSchemaUri\"\n",
       "            value {\n",
       "              string_value: \"gs://statmike-mlops-349915/02/02d/pipelines/20221115172949/6571834875286913024/5278658018173517824/train/trial_7/model/prediction_schema.yaml\"\n",
       "            }\n",
       "          }\n",
       "        }\n",
       "      }\n",
       "    }\n",
       "  }\n",
       "}"
      ]
     },
     "execution_count": 50,
     "metadata": {},
     "output_type": "execute_result"
    }
   ],
   "source": [
    "task_details.outputs['unmanaged_container_model']"
   ]
  },
  {
   "cell_type": "code",
   "execution_count": 70,
   "id": "89454895-3a13-4757-952b-a4cd6abf7f8e",
   "metadata": {},
   "outputs": [],
   "source": [
    "for md in task_details.execution.metadata:\n",
    "    if md == 'input:gcp_resources':\n",
    "        hpt_uri = json.loads(task_details.execution.metadata[md])['resources'][0]['resourceUri']\n",
    "        hpt_jobid = hpt_uri.rsplit('/', 1)[1]"
   ]
  },
  {
   "cell_type": "code",
   "execution_count": 69,
   "id": "9a3e2253-09d1-4783-8a08-6ecda38a5d29",
   "metadata": {},
   "outputs": [
    {
     "data": {
      "text/plain": [
       "('https://us-central1-aiplatform.googleapis.com/v1/projects/1026793852137/locations/us-central1/hyperparameterTuningJobs/8784187235424534528',\n",
       " '8784187235424534528')"
      ]
     },
     "execution_count": 69,
     "metadata": {},
     "output_type": "execute_result"
    }
   ],
   "source": [
    "hpt_uri, hpt_jobid"
   ]
  },
  {
   "cell_type": "code",
   "execution_count": 75,
   "id": "366ab8d1-b2df-4f44-9fcc-7f7387e6b213",
   "metadata": {},
   "outputs": [],
   "source": [
    "tuningJob = aiplatform.HyperparameterTuningJob.get(hpt_jobid)"
   ]
  },
  {
   "cell_type": "code",
   "execution_count": 76,
   "id": "b48f6da7-8e81-4d99-bc19-b19cf7199ebf",
   "metadata": {},
   "outputs": [
    {
     "data": {
      "text/plain": [
       "('projects/1026793852137/locations/us-central1/hyperparameterTuningJobs/8784187235424534528',\n",
       " 'tabnet-hyperparameter-tuning-job-6571834875286913024-5278658018173517824')"
      ]
     },
     "execution_count": 76,
     "metadata": {},
     "output_type": "execute_result"
    }
   ],
   "source": [
    "tuningJob.resource_name, tuningJob.display_name"
   ]
  },
  {
   "cell_type": "code",
   "execution_count": 80,
   "id": "20760dd8-1a29-42e5-9a2a-d08524eceaee",
   "metadata": {},
   "outputs": [
    {
     "data": {
      "text/plain": [
       "[0.8677037209272385,\n",
       " 0.8977457359433174,\n",
       " 0.9001611471176147,\n",
       " 0.8908845335245132,\n",
       " 0.915027841925621,\n",
       " 0.902820460498333,\n",
       " 0.8819985017180443,\n",
       " 0.9205226227641106,\n",
       " 0.8662902265787125,\n",
       " 0.9123073294758797,\n",
       " 0.8082566261291504,\n",
       " 0.9481976218521595,\n",
       " 0.9295452758669853,\n",
       " 0.9225355759263039,\n",
       " 0.9963639543857425,\n",
       " 0.9134967848658562,\n",
       " 0.9269111901521683,\n",
       " 0.9158775210380554,\n",
       " 0.9333544746041298,\n",
       " 0.9913488542661071,\n",
       " 0.9926850749179721,\n",
       " 0.9961234505753964,\n",
       " 0.9958049366250634,\n",
       " 0.9955801549367607,\n",
       " 0.9960433579981327,\n",
       " 0.9965664104092866,\n",
       " 0.9963713132310659,\n",
       " 0.9957402837462723,\n",
       " 0.9962091210763901,\n",
       " 0.995978101156652,\n",
       " 0.9955959049984813,\n",
       " 0.995867426507175,\n",
       " 0.995451639406383,\n",
       " 0.9957091896794736,\n",
       " 0.9961250720079988,\n",
       " 0.9960567271336913,\n",
       " 0.99637147388421,\n",
       " 0.9957201932556927,\n",
       " 0.9955389364622533,\n",
       " 0.996281556552276,\n",
       " 0.9849202241748571,\n",
       " 0.9953474551439285,\n",
       " 0.9963344179559499,\n",
       " 0.9962636115960777,\n",
       " 0.9965063377749175,\n",
       " 0.995743207167834,\n",
       " 0.9873314378783107,\n",
       " 0.994895467069,\n",
       " 0.9952561450190842,\n",
       " 0.9939971873536706,\n",
       " 0.9963339322712272,\n",
       " 0.9959844439290464,\n",
       " 0.9963007173500955,\n",
       " 0.9958468400873244,\n",
       " 0.9962548813782632,\n",
       " 0.996575677068904,\n",
       " 0.9956129966303706,\n",
       " 0.9951264997944236,\n",
       " 0.9918049210682511,\n",
       " 0.9956646035425365,\n",
       " 0.9960118788294494,\n",
       " 0.9962133723311126,\n",
       " 0.9963566865772009,\n",
       " 0.9961836689617485,\n",
       " 0.9964590892195702,\n",
       " 0.9961243402212858,\n",
       " 0.9949406213127077,\n",
       " 0.9965773357544094,\n",
       " 0.9962451609317213,\n",
       " 0.9938522232696414,\n",
       " 0.9965889318846166,\n",
       " 0.9964414241258055,\n",
       " 0.9967738087289035,\n",
       " 0.9962038972880691,\n",
       " 0.9956727577373385,\n",
       " 0.9960150262340903,\n",
       " 0.9959697490558028,\n",
       " 0.9967435330618173,\n",
       " 0.9949696767143905,\n",
       " 0.9958720686845481,\n",
       " 0.9964756953995675,\n",
       " 0.9958463427610695,\n",
       " 0.9959407611750066,\n",
       " 0.9956968924961984,\n",
       " 0.9932482214644551,\n",
       " 0.9905633646994829,\n",
       " 0.996721877483651,\n",
       " 0.9961266398895532,\n",
       " 0.9962899119127542,\n",
       " 0.9966644775122404,\n",
       " 0.9964662664569914,\n",
       " 0.9959619813598692,\n",
       " 0.9963133644778281,\n",
       " 0.9957140651531518,\n",
       " 0.9963362498674542,\n",
       " 0.9962184478063136,\n",
       " 0.9958894597366452,\n",
       " 0.9963801905978471,\n",
       " 0.996768131153658,\n",
       " 0.9968481517862529,\n",
       " 0.9964505881071091,\n",
       " 0.99659817898646,\n",
       " 0.9967417742591351,\n",
       " 0.9959308714605868,\n",
       " 0.9962019552476704,\n",
       " 0.9958816654980183,\n",
       " 0.9967486259993166,\n",
       " 0.9964435820002109,\n",
       " 0.9965965151786804,\n",
       " 0.9964524602983147,\n",
       " 0.995955006685108,\n",
       " 0.9966019026469439,\n",
       " 0.9956966741010547,\n",
       " 0.9963087264914066,\n",
       " 0.9966167390812188,\n",
       " 0.9962959995027632,\n",
       " 0.9961814067792147,\n",
       " 0.996513472404331,\n",
       " 0.9962846275884658,\n",
       " 0.9964894284494221,\n",
       " 0.9967303685843945,\n",
       " 0.9966832895297557,\n",
       " 0.9966935340780765,\n",
       " 0.9962193768005818,\n",
       " 0.9964128918945789,\n",
       " 0.9961212477646768,\n",
       " 0.9962038572411984,\n",
       " 0.9960594428703189,\n",
       " 0.9967266011517495,\n",
       " 0.996083109639585,\n",
       " 0.9965406530536711,\n",
       " 0.9965109596960247,\n",
       " 0.9964051847346127,\n",
       " 0.9965701389592141,\n",
       " 0.996300098253414,\n",
       " 0.9957988760434091,\n",
       " 0.9965277907904238,\n",
       " 0.9966296551283449,\n",
       " 0.9966632300056517,\n",
       " 0.9964559988584369,\n",
       " 0.9962199903093278,\n",
       " 0.9949978566728532,\n",
       " 0.9966607131063938,\n",
       " 0.9967672065831721,\n",
       " 0.9965742998756468,\n",
       " 0.9965517285745591,\n",
       " 0.9964701773133129,\n",
       " 0.996213928097859,\n",
       " 0.9966122996993363,\n",
       " 0.9967080201022327,\n",
       " 0.996530519798398,\n",
       " 0.9968729461543262,\n",
       " 0.9967098068445921,\n",
       " 0.9966173067223281,\n",
       " 0.9970087339170277,\n",
       " 0.9970006346702576,\n",
       " 0.9962027319706976,\n",
       " 0.9964174369815737,\n",
       " 0.9963579236064106,\n",
       " 0.9966571163386106,\n",
       " 0.9964071083813906,\n",
       " 0.9966319978702813,\n",
       " 0.9966206725221127,\n",
       " 0.9964816092979163,\n",
       " 0.9956763735972345,\n",
       " 0.9969940690789372,\n",
       " 0.996824576985091,\n",
       " 0.9961773157119751,\n",
       " 0.9965302501805127,\n",
       " 0.9961935847532004,\n",
       " 0.9965173641685396,\n",
       " 0.9959595832042396,\n",
       " 0.9957092483527958,\n",
       " 0.9963805277366191,\n",
       " 0.9964321120642126,\n",
       " 0.9959989343769848,\n",
       " 0.995816845446825,\n",
       " 0.9959413027390838,\n",
       " 0.9965064141433686,\n",
       " 0.996299768332392,\n",
       " 0.9968516996596009,\n",
       " 0.9963482948951423,\n",
       " 0.9965185485780239,\n",
       " 0.9960776651278138,\n",
       " 0.9965931896585971,\n",
       " 0.9965186065528542,\n",
       " 0.9965821949299425,\n",
       " 0.9961286631878465,\n",
       " 0.9965457327198237,\n",
       " 0.9962584867607802,\n",
       " 0.9966589866671711,\n",
       " 0.9960296186618507,\n",
       " 0.9964309292845428,\n",
       " 0.9966924649197608,\n",
       " 0.9966708698775619,\n",
       " 0.9963938619475812,\n",
       " 0.9965879884548485,\n",
       " 0.9965626017656177,\n",
       " 0.996509384131059,\n",
       " 0.9966231882572174]"
      ]
     },
     "execution_count": 80,
     "metadata": {},
     "output_type": "execute_result"
    }
   ],
   "source": [
    "auprc = [1 - trial.final_measurement.metrics[0].value if trial.state.name == 'SUCCEEDED' else 0 for trial in tuningJob.trials]\n",
    "auprc"
   ]
  },
  {
   "cell_type": "code",
   "execution_count": 81,
   "id": "ffc0d01c-37c1-4400-bdb0-c167bfe1a62b",
   "metadata": {},
   "outputs": [
    {
     "data": {
      "text/plain": [
       "id: \"155\"\n",
       "state: SUCCEEDED\n",
       "parameters {\n",
       "  parameter_id: \"alpha_focal_loss\"\n",
       "  value {\n",
       "    number_value: 0.99\n",
       "  }\n",
       "}\n",
       "parameters {\n",
       "  parameter_id: \"batch_momentum\"\n",
       "  value {\n",
       "    number_value: 0.5\n",
       "  }\n",
       "}\n",
       "parameters {\n",
       "  parameter_id: \"batch_size\"\n",
       "  value {\n",
       "    number_value: 512.0\n",
       "  }\n",
       "}\n",
       "parameters {\n",
       "  parameter_id: \"batch_size_ratio\"\n",
       "  value {\n",
       "    number_value: 0.5\n",
       "  }\n",
       "}\n",
       "parameters {\n",
       "  parameter_id: \"class_weight\"\n",
       "  value {\n",
       "    number_value: 1.0\n",
       "  }\n",
       "}\n",
       "parameters {\n",
       "  parameter_id: \"decay_every\"\n",
       "  value {\n",
       "    number_value: 5000.0\n",
       "  }\n",
       "}\n",
       "parameters {\n",
       "  parameter_id: \"decay_rate\"\n",
       "  value {\n",
       "    number_value: 0.5\n",
       "  }\n",
       "}\n",
       "parameters {\n",
       "  parameter_id: \"feature_dim\"\n",
       "  value {\n",
       "    number_value: 200.0\n",
       "  }\n",
       "}\n",
       "parameters {\n",
       "  parameter_id: \"feature_dim_ratio\"\n",
       "  value {\n",
       "    number_value: 0.39029597890948337\n",
       "  }\n",
       "}\n",
       "parameters {\n",
       "  parameter_id: \"gamma_focal_loss\"\n",
       "  value {\n",
       "    number_value: 4.0\n",
       "  }\n",
       "}\n",
       "parameters {\n",
       "  parameter_id: \"large_category_dim\"\n",
       "  value {\n",
       "    number_value: 5.0\n",
       "  }\n",
       "}\n",
       "parameters {\n",
       "  parameter_id: \"large_category_thresh\"\n",
       "  value {\n",
       "    number_value: 10.0\n",
       "  }\n",
       "}\n",
       "parameters {\n",
       "  parameter_id: \"learning_rate\"\n",
       "  value {\n",
       "    number_value: 0.0001\n",
       "  }\n",
       "}\n",
       "parameters {\n",
       "  parameter_id: \"loss_function_type\"\n",
       "  value {\n",
       "    string_value: \"weighted_cross_entropy\"\n",
       "  }\n",
       "}\n",
       "parameters {\n",
       "  parameter_id: \"max_steps\"\n",
       "  value {\n",
       "    number_value: 30000.0\n",
       "  }\n",
       "}\n",
       "parameters {\n",
       "  parameter_id: \"max_train_secs\"\n",
       "  value {\n",
       "    number_value: -1.0\n",
       "  }\n",
       "}\n",
       "parameters {\n",
       "  parameter_id: \"num_decision_steps\"\n",
       "  value {\n",
       "    number_value: 2.0\n",
       "  }\n",
       "}\n",
       "parameters {\n",
       "  parameter_id: \"num_transformer_layers\"\n",
       "  value {\n",
       "    number_value: 2.0\n",
       "  }\n",
       "}\n",
       "parameters {\n",
       "  parameter_id: \"num_transformer_layers_ratio\"\n",
       "  value {\n",
       "    number_value: 0.3\n",
       "  }\n",
       "}\n",
       "parameters {\n",
       "  parameter_id: \"relaxation_factor\"\n",
       "  value {\n",
       "    number_value: 1.2\n",
       "  }\n",
       "}\n",
       "parameters {\n",
       "  parameter_id: \"sparsity_loss_weight\"\n",
       "  value {\n",
       "    number_value: 3.580937473672238e-05\n",
       "  }\n",
       "}\n",
       "final_measurement {\n",
       "  step_count: 30000\n",
       "  metrics {\n",
       "    metric_id: \"loss\"\n",
       "    value: 0.002991266082972288\n",
       "  }\n",
       "}\n",
       "start_time {\n",
       "  seconds: 1668562042\n",
       "  nanos: 814069364\n",
       "}\n",
       "end_time {\n",
       "  seconds: 1668563443\n",
       "}"
      ]
     },
     "execution_count": 81,
     "metadata": {},
     "output_type": "execute_result"
    }
   ],
   "source": [
    "best = tuningJob.trials[auprc.index(max(auprc))]\n",
    "best"
   ]
  },
  {
   "cell_type": "markdown",
   "id": "5cb00920-ae14-45e5-8db6-23d529351cf1",
   "metadata": {},
   "source": [
    "---\n",
    "## Serving"
   ]
  },
  {
   "cell_type": "markdown",
   "id": "44b24243-a042-4e3e-8076-af60e5b9d716",
   "metadata": {},
   "source": [
    "### Upload The Model\n",
    "Only upload the best model from the hyperparmeter tuning job:"
   ]
  },
  {
   "cell_type": "code",
   "execution_count": 24,
   "id": "af63fd1e",
   "metadata": {},
   "outputs": [
    {
     "name": "stdout",
     "output_type": "stream",
     "text": [
      "Model Already in Registry:\n",
      "Loading model as new default version.\n",
      "Creating Model\n",
      "Create Model backing LRO: projects/1026793852137/locations/us-central1/models/model_05_05g/operations/4880038667457921024\n",
      "Model created. Resource name: projects/1026793852137/locations/us-central1/models/3085066899818545152@2\n",
      "To use this Model in another session:\n",
      "model = aiplatform.Model('projects/1026793852137/locations/us-central1/models/3085066899818545152@2')\n"
     ]
    }
   ],
   "source": [
    "modelmatch = aiplatform.Model.list(filter = f'display_name={SERIES}_{EXPERIMENT} AND labels.series={SERIES} AND labels.experiment={EXPERIMENT}')\n",
    "\n",
    "upload_model = True\n",
    "if modelmatch:\n",
    "    print(\"Model Already in Registry:\")\n",
    "    if f'{RUN_NAME}-{best.id}' in modelmatch[0].version_aliases:\n",
    "        print(\"This version already loaded, no action taken.\")\n",
    "        upload_model = False\n",
    "        model = aiplatform.Model(model_name = modelmatch[0].resource_name)\n",
    "    else:\n",
    "        print('Loading model as new default version.')\n",
    "        parent_model = modelmatch[0].resource_name\n",
    "\n",
    "else:\n",
    "    print('This is a new model, creating in model registry')\n",
    "    parent_model = ''\n",
    "\n",
    "if upload_model:\n",
    "    model = aiplatform.Model.upload(\n",
    "        display_name = f'{SERIES}_{EXPERIMENT}',\n",
    "        model_id = f'model_{SERIES}_{EXPERIMENT}',\n",
    "        parent_model =  modelmatch[0].resource_name,\n",
    "        serving_container_image_uri = ,#DEPLOY_IMAGE,\n",
    "        artifact_uri = ,#f\"{URI}/models/{TIMESTAMP}/{best.id}/model\",\n",
    "        is_default_version = True,\n",
    "        version_aliases = [f'{RUN_NAME}-{best.id}'],\n",
    "        version_description = f'{RUN_NAME}-{best.id}',\n",
    "        labels = {'series' : f'{SERIES}', 'experiment' : f'{EXPERIMENT}', 'experiment_name' : f'{EXPERIMENT_NAME}', 'run_name' : f'{RUN_NAME}-{best.id}'}        \n",
    "    )"
   ]
  },
  {
   "cell_type": "markdown",
   "id": "8e0c5688-26bc-407f-a87f-e1570222a094",
   "metadata": {},
   "source": [
    ">**Note** on Version Aliases:\n",
    ">Expectation is a name starting with `a-z` that can include `[a-zA-Z0-9-]`\n",
    ">\n",
    ">**Retrieve a Model Resource**\n",
    ">[aiplatform.Model()](https://cloud.google.com/python/docs/reference/aiplatform/latest/google.cloud.aiplatform.Model)\n",
    ">```Python\n",
    "model = aiplatform.Model(model_name = f'model_{SERIES}_{EXPERIMENT}') # retrieves default version\n",
    "model = aiplatform.Model(model_name = f'model_{SERIES}_{EXPERIMENT}@time-{TIMESTAMP}') # retrieves specific version\n",
    "model = aiplatform.Model(model_name = f'model_{SERIES}_{EXPERIMENT}', version = f'time-{TIMESTAMP}') # retrieves specific version\n",
    "```"
   ]
  },
  {
   "cell_type": "code",
   "execution_count": 25,
   "id": "8d16c9a1-030f-409a-b455-a42e84a964cf",
   "metadata": {},
   "outputs": [
    {
     "name": "stdout",
     "output_type": "stream",
     "text": [
      "Review the model in the Vertex AI Model Registry:\n",
      "https://console.cloud.google.com/vertex-ai/locations/us-central1/models/3085066899818545152?project=statmike-mlops-349915\n"
     ]
    }
   ],
   "source": [
    "print(f'Review the model in the Vertex AI Model Registry:\\nhttps://console.cloud.google.com/vertex-ai/locations/{REGION}/models/{model.name}?project={PROJECT_ID}')"
   ]
  },
  {
   "cell_type": "code",
   "execution_count": null,
   "id": "b55f6941-9dc3-44bf-8f2a-2d58fe7d0480",
   "metadata": {},
   "outputs": [],
   "source": []
  },
  {
   "cell_type": "code",
   "execution_count": null,
   "id": "d5082a54-67d9-4cb7-831f-8c21ea168d01",
   "metadata": {},
   "outputs": [],
   "source": []
  },
  {
   "cell_type": "code",
   "execution_count": null,
   "id": "16658af4-76ee-4bac-9d36-fb99f5800dd7",
   "metadata": {},
   "outputs": [],
   "source": []
  },
  {
   "cell_type": "code",
   "execution_count": null,
   "id": "7f158956-bc81-448a-8499-e9ba0ec76ab2",
   "metadata": {},
   "outputs": [],
   "source": []
  },
  {
   "cell_type": "code",
   "execution_count": null,
   "id": "861349c4-c132-47d7-8948-a9eb5d018d0c",
   "metadata": {},
   "outputs": [],
   "source": []
  },
  {
   "cell_type": "code",
   "execution_count": null,
   "id": "36ed408e-1450-410e-b822-aa7ad1a54b24",
   "metadata": {},
   "outputs": [],
   "source": []
  }
 ],
 "metadata": {
  "environment": {
   "kernel": "python3",
   "name": "tf2-gpu.2-3.m94",
   "type": "gcloud",
   "uri": "gcr.io/deeplearning-platform-release/tf2-gpu.2-3:m94"
  },
  "kernelspec": {
   "display_name": "Python 3",
   "language": "python",
   "name": "python3"
  },
  "language_info": {
   "codemirror_mode": {
    "name": "ipython",
    "version": 3
   },
   "file_extension": ".py",
   "mimetype": "text/x-python",
   "name": "python",
   "nbconvert_exporter": "python",
   "pygments_lexer": "ipython3",
   "version": "3.7.12"
  }
 },
 "nbformat": 4,
 "nbformat_minor": 5
}
