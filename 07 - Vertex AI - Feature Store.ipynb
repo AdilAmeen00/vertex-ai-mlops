{
 "cells": [
  {
   "cell_type": "markdown",
   "id": "074337e6",
   "metadata": {},
   "source": [
    "# Vertex AI - Feature Store\n",
    "\n",
    "**Prerequisites**\n",
    "- `00 - Initial Setup`\n",
    "- `01 - BigQuery - Data`\n",
    "- `06 - Vertex AI - Training Pipeline and Serving`\n",
    "    - for online prediction this used the endpoint defined in 06\n",
    "    \n",
    "**Resources**\n",
    "- Based on:\n",
    "    - https://cloud.google.com/vertex-ai/docs/featurestore/managing-featurestores\n",
    "- API Documentation:\n",
    "    - https://googleapis.dev/python/aiplatform/latest/aiplatform_v1beta1/services.html\n",
    "    - https://googleapis.dev/python/aiplatform/latest/aiplatform_v1beta1/featurestore_service.html\n",
    "\n",
    "**Overview**\n",
    "\n",
    "<img src=\"architectures/statmike-mlops-07.png\">\n"
   ]
  },
  {
   "cell_type": "markdown",
   "id": "681b3877",
   "metadata": {},
   "source": [
    "---\n",
    "## Setup"
   ]
  },
  {
   "cell_type": "markdown",
   "id": "59fe3cae",
   "metadata": {},
   "source": [
    "Update Python library for aiplatform (Vertex AI)\n",
    "- Restart the kernel: Menus > Kernel > Restart Kernel"
   ]
  },
  {
   "cell_type": "code",
   "execution_count": 1,
   "id": "e0901666",
   "metadata": {},
   "outputs": [],
   "source": [
    "!pip install --upgrade git+https://github.com/googleapis/python-aiplatform.git@main-test -q"
   ]
  },
  {
   "cell_type": "markdown",
   "id": "ed4aa442",
   "metadata": {},
   "source": [
    "Import Libraries"
   ]
  },
  {
   "cell_type": "code",
   "execution_count": 1,
   "id": "9a30970e",
   "metadata": {},
   "outputs": [],
   "source": [
    "from google.cloud.aiplatform_v1beta1 import (FeaturestoreOnlineServingServiceClient, FeaturestoreServiceClient, types)\n",
    "from google.protobuf.duration_pb2 import Duration\n",
    "from google.protobuf.timestamp_pb2 import Timestamp\n",
    "from google.protobuf.field_mask_pb2 import FieldMask"
   ]
  },
  {
   "cell_type": "markdown",
   "id": "5718dcc9",
   "metadata": {},
   "source": [
    "Setup GCP Parameters"
   ]
  },
  {
   "cell_type": "code",
   "execution_count": 2,
   "id": "c415dd34",
   "metadata": {},
   "outputs": [],
   "source": [
    "# Locations\n",
    "REGION = 'us-central1'\n",
    "PROJECT_ID='statmike-mlops'\n",
    "PARENT = \"projects/\" + PROJECT_ID + \"/locations/\" + REGION"
   ]
  },
  {
   "cell_type": "markdown",
   "id": "f284fac0",
   "metadata": {},
   "source": [
    "Clients for Feature Store:"
   ]
  },
  {
   "cell_type": "code",
   "execution_count": 3,
   "id": "81c0b550",
   "metadata": {},
   "outputs": [],
   "source": [
    "API_ENDPOINT = \"{}-aiplatform.googleapis.com\".format(REGION)\n",
    "client_options = {\"api_endpoint\": API_ENDPOINT}\n",
    "clients = {}"
   ]
  },
  {
   "cell_type": "code",
   "execution_count": 4,
   "id": "4af6effe",
   "metadata": {},
   "outputs": [],
   "source": [
    "clients['fs'] = FeaturestoreServiceClient(client_options=client_options)"
   ]
  },
  {
   "cell_type": "code",
   "execution_count": 5,
   "id": "b5d3fafe",
   "metadata": {},
   "outputs": [],
   "source": [
    "clients['fs_olserve'] = FeaturestoreOnlineServingServiceClient(client_options=client_options)"
   ]
  },
  {
   "cell_type": "code",
   "execution_count": 6,
   "id": "fe2bdae1",
   "metadata": {},
   "outputs": [],
   "source": [
    "BASE_RESOURCE_PATH = clients['fs'].common_location_path(PROJECT_ID, REGION)"
   ]
  },
  {
   "cell_type": "markdown",
   "id": "a7f1bd2d",
   "metadata": {},
   "source": [
    "---\n",
    "## Feature Store Data model\n",
    "Feature Store organizes data with the following 3 important hierarchical concepts:\n",
    "\n",
    "Featurestore -> EntityType -> Feature\n",
    "\n",
    "- **Featurestore**: the place to store your features\n",
    "    - **EntityType**: under a Featurestore, an EntityType describes an object to be modeled, real one or virtual one.\n",
    "        - **Feature**: under an EntityType, a feature describes an attribute of the EntityType\n",
    "\n",
    "For the digits data used in these examples, the feature store will be called digits_featurestore.  The store has 1 entity type: images.  The features will be the pixels and the target values."
   ]
  },
  {
   "cell_type": "markdown",
   "id": "c13353c7",
   "metadata": {},
   "source": [
    "---\n",
    "## Create Feature Store"
   ]
  },
  {
   "cell_type": "code",
   "execution_count": 7,
   "id": "1a781af9",
   "metadata": {},
   "outputs": [],
   "source": [
    "FEATURESTORE_ID = 'digits_featurestore'"
   ]
  },
  {
   "cell_type": "code",
   "execution_count": 8,
   "id": "dbc7c9b4",
   "metadata": {},
   "outputs": [],
   "source": [
    "featurestore_lro = clients['fs'].create_featurestore(\n",
    "    types.featurestore_service.CreateFeaturestoreRequest(\n",
    "        parent = BASE_RESOURCE_PATH,\n",
    "        featurestore_id = FEATURESTORE_ID,\n",
    "        featurestore=types.featurestore.Featurestore(\n",
    "            display_name=\"Featurestore for handwritten digits\",\n",
    "            online_serving_config=types.featurestore.Featurestore.OnlineServingConfig(\n",
    "                fixed_node_count=3\n",
    "            ),\n",
    "        ),\n",
    "    )\n",
    ")"
   ]
  },
  {
   "cell_type": "code",
   "execution_count": 9,
   "id": "d870f1dc",
   "metadata": {},
   "outputs": [
    {
     "data": {
      "text/plain": [
       "name: \"projects/691911073727/locations/us-central1/featurestores/digits_featurestore\""
      ]
     },
     "execution_count": 9,
     "metadata": {},
     "output_type": "execute_result"
    }
   ],
   "source": [
    "featurestore_lro.result()"
   ]
  },
  {
   "cell_type": "markdown",
   "id": "e82f355c",
   "metadata": {},
   "source": [
    "Use `get_featurestore` to see details of specified feature store:"
   ]
  },
  {
   "cell_type": "code",
   "execution_count": null,
   "id": "ff264c83",
   "metadata": {},
   "outputs": [],
   "source": [
    "clients['fs'].get_featurestore(name=clients['fs'].featurestore_path(PROJECT_ID, REGION, FEATURESTORE_ID))"
   ]
  },
  {
   "cell_type": "markdown",
   "id": "27d1ea6a",
   "metadata": {},
   "source": [
    "Use `list_featurestores` to see details of all feature stores:"
   ]
  },
  {
   "cell_type": "code",
   "execution_count": 8,
   "id": "b7779cf6",
   "metadata": {},
   "outputs": [
    {
     "data": {
      "text/plain": [
       "ListFeaturestoresPager<featurestores {\n",
       "  name: \"projects/691911073727/locations/us-central1/featurestores/digits_featurestore\"\n",
       "  create_time {\n",
       "    seconds: 1630413385\n",
       "    nanos: 264800000\n",
       "  }\n",
       "  update_time {\n",
       "    seconds: 1630413385\n",
       "    nanos: 628083000\n",
       "  }\n",
       "  etag: \"AMEw9yMm3f2B1v40uRDYtsPuOIPlxK7jEsV23jOdf5aLuWGb2vnHUciaKVa4rgixh8Rr\"\n",
       "  online_serving_config {\n",
       "    fixed_node_count: 3\n",
       "  }\n",
       "  state: STABLE\n",
       "}\n",
       ">"
      ]
     },
     "execution_count": 8,
     "metadata": {},
     "output_type": "execute_result"
    }
   ],
   "source": [
    "clients['fs'].list_featurestores(parent=PARENT)"
   ]
  },
  {
   "cell_type": "markdown",
   "id": "a0f4c6c6",
   "metadata": {},
   "source": [
    "---\n",
    "## Create Entity Type"
   ]
  },
  {
   "cell_type": "code",
   "execution_count": 17,
   "id": "f996715a",
   "metadata": {},
   "outputs": [],
   "source": [
    "ENTITYTYPE_ID = 'person'"
   ]
  },
  {
   "cell_type": "code",
   "execution_count": 13,
   "id": "57a870d7",
   "metadata": {},
   "outputs": [],
   "source": [
    "entitytype_lro = clients['fs'].create_entity_type(\n",
    "    types.featurestore_service.CreateEntityTypeRequest(\n",
    "        parent=clients['fs'].featurestore_path(PROJECT_ID, REGION, FEATURESTORE_ID),\n",
    "        entity_type_id = ENTITYTYPE_ID,\n",
    "        entity_type=types.entity_type.EntityType(\n",
    "            description=\"person entity\",\n",
    "            monitoring_config=types.featurestore_monitoring.FeaturestoreMonitoringConfig(\n",
    "                snapshot_analysis=types.featurestore_monitoring.FeaturestoreMonitoringConfig.SnapshotAnalysis(\n",
    "                    monitoring_interval=Duration(seconds=900),  # 15 minutes\n",
    "                ),\n",
    "            ),\n",
    "        ),\n",
    "    )\n",
    ")"
   ]
  },
  {
   "cell_type": "code",
   "execution_count": 14,
   "id": "7e985862",
   "metadata": {},
   "outputs": [
    {
     "data": {
      "text/plain": [
       "name: \"projects/691911073727/locations/us-central1/featurestores/digits_featurestore/entityTypes/person\"\n",
       "etag: \"AMEw9yOE1pqoZ9k-ToNi-r4HstwbqM5sNuPycGpGEwCgvB0nBi6c\""
      ]
     },
     "execution_count": 14,
     "metadata": {},
     "output_type": "execute_result"
    }
   ],
   "source": [
    "entitytype_lro.result()"
   ]
  },
  {
   "cell_type": "markdown",
   "id": "aa5a32b3",
   "metadata": {},
   "source": [
    "Use `list_entity_types` to see details of all entity types:"
   ]
  },
  {
   "cell_type": "code",
   "execution_count": 10,
   "id": "e727e179",
   "metadata": {},
   "outputs": [
    {
     "data": {
      "text/plain": [
       "ListEntityTypesPager<entity_types {\n",
       "  name: \"projects/691911073727/locations/us-central1/featurestores/digits_featurestore/entityTypes/person\"\n",
       "  description: \"person entity\"\n",
       "  create_time {\n",
       "    seconds: 1630413396\n",
       "    nanos: 748489000\n",
       "  }\n",
       "  update_time {\n",
       "    seconds: 1630590074\n",
       "    nanos: 797046000\n",
       "  }\n",
       "  etag: \"AMEw9yPHNRQgn_h0IfizOZCe_xSNDUsdR-TAZQ1zdmTfKD86N7hHMl3uthOL8YSR-rBI\"\n",
       "  monitoring_config {\n",
       "    snapshot_analysis {\n",
       "      monitoring_interval {\n",
       "        seconds: 86400\n",
       "      }\n",
       "      monitoring_interval_days: 1\n",
       "    }\n",
       "  }\n",
       "}\n",
       ">"
      ]
     },
     "execution_count": 10,
     "metadata": {},
     "output_type": "execute_result"
    }
   ],
   "source": [
    "clients['fs'].list_entity_types(parent=PARENT+'/featurestores/{}'.format(FEATURESTORE_ID))"
   ]
  },
  {
   "cell_type": "markdown",
   "id": "246e8047",
   "metadata": {},
   "source": [
    "---\n",
    "## Create Features"
   ]
  },
  {
   "cell_type": "markdown",
   "id": "693f2936",
   "metadata": {},
   "source": [
    "Get the schema of the data source for new features:"
   ]
  },
  {
   "cell_type": "code",
   "execution_count": 16,
   "id": "7c68e71f",
   "metadata": {},
   "outputs": [
    {
     "name": "stderr",
     "output_type": "stream",
     "text": [
      "Query complete after 0.00s: 100%|██████████| 1/1 [00:00<00:00, 604.45query/s]                          \n",
      "Downloading: 100%|██████████| 66/66 [00:01<00:00, 54.34rows/s]\n"
     ]
    }
   ],
   "source": [
    "%%bigquery schema\n",
    "SELECT * \n",
    "FROM `statmike-mlops.digits.INFORMATION_SCHEMA.COLUMN_FIELD_PATHS`\n",
    "WHERE table_name = 'digits_source'"
   ]
  },
  {
   "cell_type": "code",
   "execution_count": 17,
   "id": "4d6ffc90",
   "metadata": {},
   "outputs": [
    {
     "data": {
      "text/html": [
       "<div>\n",
       "<style scoped>\n",
       "    .dataframe tbody tr th:only-of-type {\n",
       "        vertical-align: middle;\n",
       "    }\n",
       "\n",
       "    .dataframe tbody tr th {\n",
       "        vertical-align: top;\n",
       "    }\n",
       "\n",
       "    .dataframe thead th {\n",
       "        text-align: right;\n",
       "    }\n",
       "</style>\n",
       "<table border=\"1\" class=\"dataframe\">\n",
       "  <thead>\n",
       "    <tr style=\"text-align: right;\">\n",
       "      <th></th>\n",
       "      <th>table_catalog</th>\n",
       "      <th>table_schema</th>\n",
       "      <th>table_name</th>\n",
       "      <th>column_name</th>\n",
       "      <th>field_path</th>\n",
       "      <th>data_type</th>\n",
       "      <th>description</th>\n",
       "    </tr>\n",
       "  </thead>\n",
       "  <tbody>\n",
       "    <tr>\n",
       "      <th>0</th>\n",
       "      <td>statmike-mlops</td>\n",
       "      <td>digits</td>\n",
       "      <td>digits_source</td>\n",
       "      <td>p0</td>\n",
       "      <td>p0</td>\n",
       "      <td>FLOAT64</td>\n",
       "      <td>None</td>\n",
       "    </tr>\n",
       "    <tr>\n",
       "      <th>1</th>\n",
       "      <td>statmike-mlops</td>\n",
       "      <td>digits</td>\n",
       "      <td>digits_source</td>\n",
       "      <td>p1</td>\n",
       "      <td>p1</td>\n",
       "      <td>FLOAT64</td>\n",
       "      <td>None</td>\n",
       "    </tr>\n",
       "    <tr>\n",
       "      <th>2</th>\n",
       "      <td>statmike-mlops</td>\n",
       "      <td>digits</td>\n",
       "      <td>digits_source</td>\n",
       "      <td>p2</td>\n",
       "      <td>p2</td>\n",
       "      <td>FLOAT64</td>\n",
       "      <td>None</td>\n",
       "    </tr>\n",
       "    <tr>\n",
       "      <th>3</th>\n",
       "      <td>statmike-mlops</td>\n",
       "      <td>digits</td>\n",
       "      <td>digits_source</td>\n",
       "      <td>p3</td>\n",
       "      <td>p3</td>\n",
       "      <td>FLOAT64</td>\n",
       "      <td>None</td>\n",
       "    </tr>\n",
       "    <tr>\n",
       "      <th>4</th>\n",
       "      <td>statmike-mlops</td>\n",
       "      <td>digits</td>\n",
       "      <td>digits_source</td>\n",
       "      <td>p4</td>\n",
       "      <td>p4</td>\n",
       "      <td>FLOAT64</td>\n",
       "      <td>None</td>\n",
       "    </tr>\n",
       "    <tr>\n",
       "      <th>...</th>\n",
       "      <td>...</td>\n",
       "      <td>...</td>\n",
       "      <td>...</td>\n",
       "      <td>...</td>\n",
       "      <td>...</td>\n",
       "      <td>...</td>\n",
       "      <td>...</td>\n",
       "    </tr>\n",
       "    <tr>\n",
       "      <th>61</th>\n",
       "      <td>statmike-mlops</td>\n",
       "      <td>digits</td>\n",
       "      <td>digits_source</td>\n",
       "      <td>p61</td>\n",
       "      <td>p61</td>\n",
       "      <td>FLOAT64</td>\n",
       "      <td>None</td>\n",
       "    </tr>\n",
       "    <tr>\n",
       "      <th>62</th>\n",
       "      <td>statmike-mlops</td>\n",
       "      <td>digits</td>\n",
       "      <td>digits_source</td>\n",
       "      <td>p62</td>\n",
       "      <td>p62</td>\n",
       "      <td>FLOAT64</td>\n",
       "      <td>None</td>\n",
       "    </tr>\n",
       "    <tr>\n",
       "      <th>63</th>\n",
       "      <td>statmike-mlops</td>\n",
       "      <td>digits</td>\n",
       "      <td>digits_source</td>\n",
       "      <td>p63</td>\n",
       "      <td>p63</td>\n",
       "      <td>FLOAT64</td>\n",
       "      <td>None</td>\n",
       "    </tr>\n",
       "    <tr>\n",
       "      <th>64</th>\n",
       "      <td>statmike-mlops</td>\n",
       "      <td>digits</td>\n",
       "      <td>digits_source</td>\n",
       "      <td>target</td>\n",
       "      <td>target</td>\n",
       "      <td>INT64</td>\n",
       "      <td>None</td>\n",
       "    </tr>\n",
       "    <tr>\n",
       "      <th>65</th>\n",
       "      <td>statmike-mlops</td>\n",
       "      <td>digits</td>\n",
       "      <td>digits_source</td>\n",
       "      <td>target_OE</td>\n",
       "      <td>target_OE</td>\n",
       "      <td>STRING</td>\n",
       "      <td>None</td>\n",
       "    </tr>\n",
       "  </tbody>\n",
       "</table>\n",
       "<p>66 rows × 7 columns</p>\n",
       "</div>"
      ],
      "text/plain": [
       "     table_catalog table_schema     table_name column_name field_path  \\\n",
       "0   statmike-mlops       digits  digits_source          p0         p0   \n",
       "1   statmike-mlops       digits  digits_source          p1         p1   \n",
       "2   statmike-mlops       digits  digits_source          p2         p2   \n",
       "3   statmike-mlops       digits  digits_source          p3         p3   \n",
       "4   statmike-mlops       digits  digits_source          p4         p4   \n",
       "..             ...          ...            ...         ...        ...   \n",
       "61  statmike-mlops       digits  digits_source         p61        p61   \n",
       "62  statmike-mlops       digits  digits_source         p62        p62   \n",
       "63  statmike-mlops       digits  digits_source         p63        p63   \n",
       "64  statmike-mlops       digits  digits_source      target     target   \n",
       "65  statmike-mlops       digits  digits_source   target_OE  target_OE   \n",
       "\n",
       "   data_type description  \n",
       "0    FLOAT64        None  \n",
       "1    FLOAT64        None  \n",
       "2    FLOAT64        None  \n",
       "3    FLOAT64        None  \n",
       "4    FLOAT64        None  \n",
       "..       ...         ...  \n",
       "61   FLOAT64        None  \n",
       "62   FLOAT64        None  \n",
       "63   FLOAT64        None  \n",
       "64     INT64        None  \n",
       "65    STRING        None  \n",
       "\n",
       "[66 rows x 7 columns]"
      ]
     },
     "execution_count": 17,
     "metadata": {},
     "output_type": "execute_result"
    }
   ],
   "source": [
    "schema"
   ]
  },
  {
   "cell_type": "markdown",
   "id": "f98be28c",
   "metadata": {},
   "source": [
    "Prepare a request for `batch_create_features`:\n",
    "- specification for the features, data type and descriptions ...."
   ]
  },
  {
   "cell_type": "code",
   "execution_count": 18,
   "id": "949d9535",
   "metadata": {},
   "outputs": [],
   "source": [
    "REQUESTS = []\n",
    "for i in range(schema.shape[0]):\n",
    "    \n",
    "    if schema['data_type'][i] == 'STRING': value_type = types.feature.Feature.ValueType.STRING\n",
    "    elif schema['data_type'][i] == 'INT64': value_type = types.feature.Feature.ValueType.INT64\n",
    "    elif schema['data_type'][i] == 'FLOAT64': value_type = types.feature.Feature.ValueType.DOUBLE\n",
    "    \n",
    "    if schema['description'][i] == None: description = schema['column_name'][i]\n",
    "    else: description = schema['description'][i]\n",
    "    \n",
    "    REQUESTS.append(\n",
    "        types.featurestore_service.CreateFeatureRequest(\n",
    "            feature=types.feature.Feature(\n",
    "                value_type = value_type,\n",
    "                description = description,\n",
    "                # optional, monitoring_config here as override, otherwise it inherits from entity_type\n",
    "            ),\n",
    "            feature_id = schema['column_name'][i].lower(),\n",
    "        )    \n",
    "    )"
   ]
  },
  {
   "cell_type": "code",
   "execution_count": 19,
   "id": "0c46dfea",
   "metadata": {},
   "outputs": [],
   "source": [
    "batchfeatures = clients['fs'].batch_create_features(\n",
    "    parent = clients['fs'].entity_type_path(PROJECT_ID, REGION, FEATURESTORE_ID, ENTITYTYPE_ID),\n",
    "    requests = REQUESTS,\n",
    ")"
   ]
  },
  {
   "cell_type": "code",
   "execution_count": 20,
   "id": "98c8887d",
   "metadata": {},
   "outputs": [
    {
     "data": {
      "text/plain": [
       "['projects/691911073727/locations/us-central1/featurestores/digits_featurestore/entityTypes/person/features/p0',\n",
       " 'projects/691911073727/locations/us-central1/featurestores/digits_featurestore/entityTypes/person/features/p1',\n",
       " 'projects/691911073727/locations/us-central1/featurestores/digits_featurestore/entityTypes/person/features/p2',\n",
       " 'projects/691911073727/locations/us-central1/featurestores/digits_featurestore/entityTypes/person/features/p3',\n",
       " 'projects/691911073727/locations/us-central1/featurestores/digits_featurestore/entityTypes/person/features/p4',\n",
       " 'projects/691911073727/locations/us-central1/featurestores/digits_featurestore/entityTypes/person/features/p5',\n",
       " 'projects/691911073727/locations/us-central1/featurestores/digits_featurestore/entityTypes/person/features/p6',\n",
       " 'projects/691911073727/locations/us-central1/featurestores/digits_featurestore/entityTypes/person/features/p7',\n",
       " 'projects/691911073727/locations/us-central1/featurestores/digits_featurestore/entityTypes/person/features/p8',\n",
       " 'projects/691911073727/locations/us-central1/featurestores/digits_featurestore/entityTypes/person/features/p9',\n",
       " 'projects/691911073727/locations/us-central1/featurestores/digits_featurestore/entityTypes/person/features/p10',\n",
       " 'projects/691911073727/locations/us-central1/featurestores/digits_featurestore/entityTypes/person/features/p11',\n",
       " 'projects/691911073727/locations/us-central1/featurestores/digits_featurestore/entityTypes/person/features/p12',\n",
       " 'projects/691911073727/locations/us-central1/featurestores/digits_featurestore/entityTypes/person/features/p13',\n",
       " 'projects/691911073727/locations/us-central1/featurestores/digits_featurestore/entityTypes/person/features/p14',\n",
       " 'projects/691911073727/locations/us-central1/featurestores/digits_featurestore/entityTypes/person/features/p15',\n",
       " 'projects/691911073727/locations/us-central1/featurestores/digits_featurestore/entityTypes/person/features/p16',\n",
       " 'projects/691911073727/locations/us-central1/featurestores/digits_featurestore/entityTypes/person/features/p17',\n",
       " 'projects/691911073727/locations/us-central1/featurestores/digits_featurestore/entityTypes/person/features/p18',\n",
       " 'projects/691911073727/locations/us-central1/featurestores/digits_featurestore/entityTypes/person/features/p19',\n",
       " 'projects/691911073727/locations/us-central1/featurestores/digits_featurestore/entityTypes/person/features/p20',\n",
       " 'projects/691911073727/locations/us-central1/featurestores/digits_featurestore/entityTypes/person/features/p21',\n",
       " 'projects/691911073727/locations/us-central1/featurestores/digits_featurestore/entityTypes/person/features/p22',\n",
       " 'projects/691911073727/locations/us-central1/featurestores/digits_featurestore/entityTypes/person/features/p23',\n",
       " 'projects/691911073727/locations/us-central1/featurestores/digits_featurestore/entityTypes/person/features/p24',\n",
       " 'projects/691911073727/locations/us-central1/featurestores/digits_featurestore/entityTypes/person/features/p25',\n",
       " 'projects/691911073727/locations/us-central1/featurestores/digits_featurestore/entityTypes/person/features/p26',\n",
       " 'projects/691911073727/locations/us-central1/featurestores/digits_featurestore/entityTypes/person/features/p27',\n",
       " 'projects/691911073727/locations/us-central1/featurestores/digits_featurestore/entityTypes/person/features/p28',\n",
       " 'projects/691911073727/locations/us-central1/featurestores/digits_featurestore/entityTypes/person/features/p29',\n",
       " 'projects/691911073727/locations/us-central1/featurestores/digits_featurestore/entityTypes/person/features/p30',\n",
       " 'projects/691911073727/locations/us-central1/featurestores/digits_featurestore/entityTypes/person/features/p31',\n",
       " 'projects/691911073727/locations/us-central1/featurestores/digits_featurestore/entityTypes/person/features/p32',\n",
       " 'projects/691911073727/locations/us-central1/featurestores/digits_featurestore/entityTypes/person/features/p33',\n",
       " 'projects/691911073727/locations/us-central1/featurestores/digits_featurestore/entityTypes/person/features/p34',\n",
       " 'projects/691911073727/locations/us-central1/featurestores/digits_featurestore/entityTypes/person/features/p35',\n",
       " 'projects/691911073727/locations/us-central1/featurestores/digits_featurestore/entityTypes/person/features/p36',\n",
       " 'projects/691911073727/locations/us-central1/featurestores/digits_featurestore/entityTypes/person/features/p37',\n",
       " 'projects/691911073727/locations/us-central1/featurestores/digits_featurestore/entityTypes/person/features/p38',\n",
       " 'projects/691911073727/locations/us-central1/featurestores/digits_featurestore/entityTypes/person/features/p39',\n",
       " 'projects/691911073727/locations/us-central1/featurestores/digits_featurestore/entityTypes/person/features/p40',\n",
       " 'projects/691911073727/locations/us-central1/featurestores/digits_featurestore/entityTypes/person/features/p41',\n",
       " 'projects/691911073727/locations/us-central1/featurestores/digits_featurestore/entityTypes/person/features/p42',\n",
       " 'projects/691911073727/locations/us-central1/featurestores/digits_featurestore/entityTypes/person/features/p43',\n",
       " 'projects/691911073727/locations/us-central1/featurestores/digits_featurestore/entityTypes/person/features/p44',\n",
       " 'projects/691911073727/locations/us-central1/featurestores/digits_featurestore/entityTypes/person/features/p45',\n",
       " 'projects/691911073727/locations/us-central1/featurestores/digits_featurestore/entityTypes/person/features/p46',\n",
       " 'projects/691911073727/locations/us-central1/featurestores/digits_featurestore/entityTypes/person/features/p47',\n",
       " 'projects/691911073727/locations/us-central1/featurestores/digits_featurestore/entityTypes/person/features/p48',\n",
       " 'projects/691911073727/locations/us-central1/featurestores/digits_featurestore/entityTypes/person/features/p49',\n",
       " 'projects/691911073727/locations/us-central1/featurestores/digits_featurestore/entityTypes/person/features/p50',\n",
       " 'projects/691911073727/locations/us-central1/featurestores/digits_featurestore/entityTypes/person/features/p51',\n",
       " 'projects/691911073727/locations/us-central1/featurestores/digits_featurestore/entityTypes/person/features/p52',\n",
       " 'projects/691911073727/locations/us-central1/featurestores/digits_featurestore/entityTypes/person/features/p53',\n",
       " 'projects/691911073727/locations/us-central1/featurestores/digits_featurestore/entityTypes/person/features/p54',\n",
       " 'projects/691911073727/locations/us-central1/featurestores/digits_featurestore/entityTypes/person/features/p55',\n",
       " 'projects/691911073727/locations/us-central1/featurestores/digits_featurestore/entityTypes/person/features/p56',\n",
       " 'projects/691911073727/locations/us-central1/featurestores/digits_featurestore/entityTypes/person/features/p57',\n",
       " 'projects/691911073727/locations/us-central1/featurestores/digits_featurestore/entityTypes/person/features/p58',\n",
       " 'projects/691911073727/locations/us-central1/featurestores/digits_featurestore/entityTypes/person/features/p59',\n",
       " 'projects/691911073727/locations/us-central1/featurestores/digits_featurestore/entityTypes/person/features/p60',\n",
       " 'projects/691911073727/locations/us-central1/featurestores/digits_featurestore/entityTypes/person/features/p61',\n",
       " 'projects/691911073727/locations/us-central1/featurestores/digits_featurestore/entityTypes/person/features/p62',\n",
       " 'projects/691911073727/locations/us-central1/featurestores/digits_featurestore/entityTypes/person/features/p63',\n",
       " 'projects/691911073727/locations/us-central1/featurestores/digits_featurestore/entityTypes/person/features/target',\n",
       " 'projects/691911073727/locations/us-central1/featurestores/digits_featurestore/entityTypes/person/features/target_oe']"
      ]
     },
     "execution_count": 20,
     "metadata": {},
     "output_type": "execute_result"
    }
   ],
   "source": [
    "list(item.name for item in batchfeatures.result().features)"
   ]
  },
  {
   "cell_type": "markdown",
   "id": "de264b59",
   "metadata": {},
   "source": [
    "---\n",
    "## Search Features\n",
    "Search goes across all Feature Stores and Entity Types.\n",
    "\n",
    "Also, use the list_features function to list all."
   ]
  },
  {
   "cell_type": "code",
   "execution_count": 11,
   "id": "c835b47a",
   "metadata": {},
   "outputs": [
    {
     "data": {
      "text/plain": [
       "name: \"projects/691911073727/locations/us-central1/featurestores/digits_featurestore/entityTypes/person/features/p0\"\n",
       "description: \"p0\"\n",
       "create_time {\n",
       "  seconds: 1630413411\n",
       "  nanos: 932022000\n",
       "}\n",
       "update_time {\n",
       "  seconds: 1630413411\n",
       "  nanos: 932022000\n",
       "}"
      ]
     },
     "execution_count": 11,
     "metadata": {},
     "output_type": "execute_result"
    }
   ],
   "source": [
    "# return the first feature:\n",
    "list(clients['fs'].search_features(location=BASE_RESOURCE_PATH))[0]"
   ]
  },
  {
   "cell_type": "code",
   "execution_count": 12,
   "id": "5cd53981",
   "metadata": {},
   "outputs": [
    {
     "data": {
      "text/plain": [
       "[name: \"projects/691911073727/locations/us-central1/featurestores/digits_featurestore/entityTypes/person/features/target\"\n",
       " description: \"target\"\n",
       " create_time {\n",
       "   seconds: 1630413412\n",
       "   nanos: 57643000\n",
       " }\n",
       " update_time {\n",
       "   seconds: 1630413412\n",
       "   nanos: 57643000\n",
       " }]"
      ]
     },
     "execution_count": 12,
     "metadata": {},
     "output_type": "execute_result"
    }
   ],
   "source": [
    "# find all features with INT64 value type\n",
    "list(clients['fs'].search_features(types.featurestore_service.SearchFeaturesRequest(location=BASE_RESOURCE_PATH, query=\"value_type=INT64\")))"
   ]
  },
  {
   "cell_type": "code",
   "execution_count": 13,
   "id": "b6d19f9e",
   "metadata": {},
   "outputs": [
    {
     "data": {
      "text/plain": [
       "[name: \"projects/691911073727/locations/us-central1/featurestores/digits_featurestore/entityTypes/person/features/p6\"\n",
       " description: \"p6\"\n",
       " create_time {\n",
       "   seconds: 1630413411\n",
       "   nanos: 942106000\n",
       " }\n",
       " update_time {\n",
       "   seconds: 1630413411\n",
       "   nanos: 942106000\n",
       " },\n",
       " name: \"projects/691911073727/locations/us-central1/featurestores/digits_featurestore/entityTypes/person/features/p60\"\n",
       " description: \"p60\"\n",
       " create_time {\n",
       "   seconds: 1630413412\n",
       "   nanos: 49458000\n",
       " }\n",
       " update_time {\n",
       "   seconds: 1630413412\n",
       "   nanos: 49458000\n",
       " },\n",
       " name: \"projects/691911073727/locations/us-central1/featurestores/digits_featurestore/entityTypes/person/features/p61\"\n",
       " description: \"p61\"\n",
       " create_time {\n",
       "   seconds: 1630413412\n",
       "   nanos: 50986000\n",
       " }\n",
       " update_time {\n",
       "   seconds: 1630413412\n",
       "   nanos: 50986000\n",
       " },\n",
       " name: \"projects/691911073727/locations/us-central1/featurestores/digits_featurestore/entityTypes/person/features/p62\"\n",
       " description: \"p62\"\n",
       " create_time {\n",
       "   seconds: 1630413412\n",
       "   nanos: 53342000\n",
       " }\n",
       " update_time {\n",
       "   seconds: 1630413412\n",
       "   nanos: 53342000\n",
       " },\n",
       " name: \"projects/691911073727/locations/us-central1/featurestores/digits_featurestore/entityTypes/person/features/p63\"\n",
       " description: \"p63\"\n",
       " create_time {\n",
       "   seconds: 1630413412\n",
       "   nanos: 55396000\n",
       " }\n",
       " update_time {\n",
       "   seconds: 1630413412\n",
       "   nanos: 55396000\n",
       " }]"
      ]
     },
     "execution_count": 13,
     "metadata": {},
     "output_type": "execute_result"
    }
   ],
   "source": [
    "# find all features of the form p6* with DOUBLE value type\n",
    "list(clients['fs'].search_features(types.featurestore_service.SearchFeaturesRequest(location=BASE_RESOURCE_PATH, query=\"feature_id:p6* AND value_type=DOUBLE\")))"
   ]
  },
  {
   "cell_type": "markdown",
   "id": "fb13105c",
   "metadata": {},
   "source": [
    "---\n",
    "## Import Feature Values\n",
    "- BigQuery (THIS DEMO)\n",
    "- Avro\n",
    "- CSV"
   ]
  },
  {
   "cell_type": "markdown",
   "id": "f6477c42",
   "metadata": {},
   "source": [
    "Prepare a source table with timestamp (update_time) and unique id's (image_id) for each entity"
   ]
  },
  {
   "cell_type": "code",
   "execution_count": 24,
   "id": "b03fbed4",
   "metadata": {},
   "outputs": [
    {
     "name": "stderr",
     "output_type": "stream",
     "text": [
      "Query complete after 0.00s: 100%|██████████| 3/3 [00:00<00:00, 1610.51query/s]                        \n"
     ]
    },
    {
     "data": {
      "text/html": [
       "<div>\n",
       "<style scoped>\n",
       "    .dataframe tbody tr th:only-of-type {\n",
       "        vertical-align: middle;\n",
       "    }\n",
       "\n",
       "    .dataframe tbody tr th {\n",
       "        vertical-align: top;\n",
       "    }\n",
       "\n",
       "    .dataframe thead th {\n",
       "        text-align: right;\n",
       "    }\n",
       "</style>\n",
       "<table border=\"1\" class=\"dataframe\">\n",
       "  <thead>\n",
       "    <tr style=\"text-align: right;\">\n",
       "      <th></th>\n",
       "    </tr>\n",
       "  </thead>\n",
       "  <tbody>\n",
       "  </tbody>\n",
       "</table>\n",
       "</div>"
      ],
      "text/plain": [
       "Empty DataFrame\n",
       "Columns: []\n",
       "Index: []"
      ]
     },
     "execution_count": 24,
     "metadata": {},
     "output_type": "execute_result"
    }
   ],
   "source": [
    "%%bigquery\n",
    "CREATE OR REPLACE TABLE `statmike-mlops.digits.digits_featurestore_import` AS\n",
    "WITH A AS (SELECT GENERATE_UUID() unique_id, target_OE as target_oe, CAST(FLOOR(10*RAND()) AS INT64) daytrick, * EXCEPT(target_OE) FROM `statmike-mlops.digits.digits_source`)\n",
    "SELECT * EXCEPT(daytrick), DATE_SUB(CURRENT_TIMESTAMP, INTERVAL daytrick DAY) AS update_time FROM A"
   ]
  },
  {
   "cell_type": "markdown",
   "id": "d6320d1f",
   "metadata": {},
   "source": [
    "Create Feature specification for each feature in the input source:"
   ]
  },
  {
   "cell_type": "code",
   "execution_count": 25,
   "id": "9397516e",
   "metadata": {},
   "outputs": [],
   "source": [
    "FEATURE_SPECS = []\n",
    "for i in range(schema.shape[0]):\n",
    "    FEATURE_SPECS.append(types.featurestore_service.ImportFeatureValuesRequest.FeatureSpec(id=schema['column_name'][i].lower()))"
   ]
  },
  {
   "cell_type": "code",
   "execution_count": 26,
   "id": "998b6070",
   "metadata": {},
   "outputs": [],
   "source": [
    "import_request = types.featurestore_service.ImportFeatureValuesRequest(\n",
    "    entity_type = clients['fs'].entity_type_path(PROJECT_ID, REGION, FEATURESTORE_ID, ENTITYTYPE_ID),\n",
    "    bigquery_source = types.BigQuerySource(input_uri='bq://statmike-mlops.digits.digits_featurestore_import'),\n",
    "    feature_time_field = \"update_time\",\n",
    "    feature_time = Timestamp().GetCurrentTime(),\n",
    "    entity_id_field = \"unique_id\",\n",
    "    feature_specs = FEATURE_SPECS,\n",
    "    worker_count = 4,\n",
    ")"
   ]
  },
  {
   "cell_type": "code",
   "execution_count": 27,
   "id": "a690c227",
   "metadata": {},
   "outputs": [],
   "source": [
    "importjob = clients['fs'].import_feature_values(import_request)"
   ]
  },
  {
   "cell_type": "code",
   "execution_count": 28,
   "id": "2d151216",
   "metadata": {},
   "outputs": [
    {
     "data": {
      "text/plain": [
       "imported_entity_count: 1797\n",
       "imported_feature_value_count: 118602"
      ]
     },
     "execution_count": 28,
     "metadata": {},
     "output_type": "execute_result"
    }
   ],
   "source": [
    "importjob.result()"
   ]
  },
  {
   "cell_type": "markdown",
   "id": "e0ae5cc9",
   "metadata": {},
   "source": [
    "---\n",
    "## Serving Features"
   ]
  },
  {
   "cell_type": "markdown",
   "id": "6a36a104",
   "metadata": {},
   "source": [
    "Retrieve a list of entity id's:"
   ]
  },
  {
   "cell_type": "code",
   "execution_count": 14,
   "id": "a2580020",
   "metadata": {},
   "outputs": [
    {
     "name": "stderr",
     "output_type": "stream",
     "text": [
      "Query complete after 0.01s: 100%|██████████| 1/1 [00:00<00:00, 555.91query/s]                          \n",
      "Downloading: 100%|██████████| 1797/1797 [00:01<00:00, 1138.92rows/s]\n"
     ]
    }
   ],
   "source": [
    "%%bigquery unique_id\n",
    "SELECT unique_id FROM `statmike-mlops.digits.digits_featurestore_import`"
   ]
  },
  {
   "cell_type": "code",
   "execution_count": 15,
   "id": "0855254b",
   "metadata": {},
   "outputs": [
    {
     "data": {
      "text/plain": [
       "['a01bcbb6-f62c-413e-b850-3d1d879e88a1',\n",
       " 'f3480418-b9eb-4131-9c8b-ab8250d36067',\n",
       " 'e098d648-a0e6-49c0-b438-4d57b968c2ab',\n",
       " '11933c39-1140-4d2c-ba40-6a775fa2305c',\n",
       " '83c0d88a-aff1-470c-bc68-342ad3f7c7f6']"
      ]
     },
     "execution_count": 15,
     "metadata": {},
     "output_type": "execute_result"
    }
   ],
   "source": [
    "id_values = list(unique_id['unique_id'])\n",
    "id_values[0:5]"
   ]
  },
  {
   "cell_type": "markdown",
   "id": "c87713be",
   "metadata": {},
   "source": [
    "### Online - One (Current Value)"
   ]
  },
  {
   "cell_type": "code",
   "execution_count": 22,
   "id": "5d5ee64c",
   "metadata": {},
   "outputs": [],
   "source": [
    "single = clients['fs_olserve'].read_feature_values(\n",
    "    types.featurestore_online_service.ReadFeatureValuesRequest(\n",
    "        entity_type = clients['fs'].entity_type_path(PROJECT_ID, REGION, FEATURESTORE_ID, ENTITYTYPE_ID),\n",
    "        entity_id=id_values[0],\n",
    "        feature_selector = types.FeatureSelector(id_matcher=types.IdMatcher(ids=['*'])),\n",
    "    )\n",
    ")"
   ]
  },
  {
   "cell_type": "code",
   "execution_count": 23,
   "id": "92fb5749",
   "metadata": {},
   "outputs": [
    {
     "name": "stdout",
     "output_type": "stream",
     "text": [
      "['p35', 'p5', 'p53', 'p29', 'p9', 'p20', 'p15', 'target_oe', 'p43', 'p48', 'p54', 'p41', 'p23', 'p33', 'p56', 'p0', 'p25', 'p16', 'p42', 'p58', 'p31', 'p44', 'p11', 'p2', 'p47', 'p57', 'p55', 'p49', 'p59', 'p40', 'p22', 'p32', 'p1', 'p34', 'p36', 'p14', 'p12', 'p19', 'p6', 'p10', 'p45', 'p52', 'p21', 'p62', 'p30', 'p51', 'p61', 'p8', 'p26', 'p13', 'p3', 'p18', 'p39', 'p17', 'p24', 'p28', 'p46', 'p38', 'target', 'p50', 'p4', 'p37', 'p7', 'p63', 'p60', 'p27']\n"
     ]
    }
   ],
   "source": [
    "print(list(item.id for item in single.header.feature_descriptors))"
   ]
  },
  {
   "cell_type": "code",
   "execution_count": 24,
   "id": "68332869",
   "metadata": {},
   "outputs": [
    {
     "name": "stdout",
     "output_type": "stream",
     "text": [
      "[0.0, 6.0, 14.0, 12.0, 0.0, 4.0, 0.0, 0.0, 14.0, 0.0, 1.0, 1.0, 0.0, 6.0, 0.0, 0.0, 2.0, 0.0, 10.0, 0.0, 0.0, 15.0, 15.0, 0.0, 0.0, 0.0, 0.0, 0.0, 9.0, 0.0, 3.0, 0.0, 0.0, 13.0, 1.0, 0.0, 16.0, 15.0, 0.0, 5.0, 16.0, 16.0, 16.0, 0.0, 8.0, 16.0, 5.0, 0.0, 14.0, 15.0, 9.0, 15.0, 0.0, 0.0, 0.0, 0.0, 3.0, 6.0, 0.0, 3.0, 15.0, 14.0, 0.0, 0.0, 13.0, 5.0]\n"
     ]
    }
   ],
   "source": [
    "print(list(item.value.double_value for item in single.entity_view.data))"
   ]
  },
  {
   "cell_type": "markdown",
   "id": "12f5b4bd",
   "metadata": {},
   "source": [
    "#### Prediction"
   ]
  },
  {
   "cell_type": "code",
   "execution_count": 25,
   "id": "a8aa6859",
   "metadata": {},
   "outputs": [],
   "source": [
    "from google.cloud.aiplatform_v1beta1 import (PredictionServiceClient, EndpointServiceClient)\n",
    "from google.protobuf import json_format\n",
    "from google.protobuf.struct_pb2 import Value"
   ]
  },
  {
   "cell_type": "markdown",
   "id": "10e166ae",
   "metadata": {},
   "source": [
    "Function to retrieve online features for an entity and prepare them for prediction:"
   ]
  },
  {
   "cell_type": "code",
   "execution_count": 26,
   "id": "95710d4d",
   "metadata": {},
   "outputs": [],
   "source": [
    "def fetch_single(entity_id):\n",
    "    single = clients['fs_olserve'].read_feature_values(\n",
    "        types.featurestore_online_service.ReadFeatureValuesRequest(\n",
    "            entity_type = clients['fs'].entity_type_path(PROJECT_ID, REGION, FEATURESTORE_ID, ENTITYTYPE_ID),\n",
    "            entity_id=entity_id,\n",
    "            feature_selector = types.FeatureSelector(id_matcher=types.IdMatcher(ids=['*'])),\n",
    "        )\n",
    "    )\n",
    "    \n",
    "    newob = {}\n",
    "    features = list(item.id for item in single.header.feature_descriptors)\n",
    "    for e, f in enumerate(features):\n",
    "        if f.startswith('p'):\n",
    "            newob[f] = single.entity_view.data[e].value.double_value\n",
    "    \n",
    "    return newob"
   ]
  },
  {
   "cell_type": "code",
   "execution_count": 27,
   "id": "a114c9cd",
   "metadata": {},
   "outputs": [],
   "source": [
    "newob = fetch_single(id_values[0])"
   ]
  },
  {
   "cell_type": "markdown",
   "id": "bf2cf487",
   "metadata": {},
   "source": [
    "Pick an endpoint from those setup in this project (all have the same model parameters):"
   ]
  },
  {
   "cell_type": "code",
   "execution_count": 28,
   "id": "3d0329cd",
   "metadata": {},
   "outputs": [],
   "source": [
    "clients['endpoint'] = EndpointServiceClient(client_options=client_options)"
   ]
  },
  {
   "cell_type": "code",
   "execution_count": 29,
   "id": "3b55351f",
   "metadata": {},
   "outputs": [
    {
     "data": {
      "text/plain": [
       "[('projects/691911073727/locations/us-central1/endpoints/4241669569355186176',\n",
       "  'ENDPOINT_04_KERAS-DIGITS'),\n",
       " ('projects/691911073727/locations/us-central1/endpoints/8864051636897579008',\n",
       "  'ENDPOINT_03_BQML-DIGITS'),\n",
       " ('projects/691911073727/locations/us-central1/endpoints/674818664477753344',\n",
       "  '05C_AIP_DIGITS_20210902141249'),\n",
       " ('projects/691911073727/locations/us-central1/endpoints/2142992143000535040',\n",
       "  '05C_AIP_DIGITS_20210902134247'),\n",
       " ('projects/691911073727/locations/us-central1/endpoints/732239559726727168',\n",
       "  '05A_AIP_DIGITS_20210902123847'),\n",
       " ('projects/691911073727/locations/us-central1/endpoints/3811575804941303808',\n",
       "  '05B_AIP_DIGITS_20210902112731'),\n",
       " ('projects/691911073727/locations/us-central1/endpoints/7922236364823724032',\n",
       "  '05_AIP_DIGITS_20210901205004')]"
      ]
     },
     "execution_count": 29,
     "metadata": {},
     "output_type": "execute_result"
    }
   ],
   "source": [
    "list((ep.name, ep.display_name) for ep in clients['endpoint'].list_endpoints(parent=PARENT))"
   ]
  },
  {
   "cell_type": "code",
   "execution_count": 30,
   "id": "e7f01f86",
   "metadata": {},
   "outputs": [
    {
     "data": {
      "text/plain": [
       "'projects/691911073727/locations/us-central1/endpoints/674818664477753344'"
      ]
     },
     "execution_count": 30,
     "metadata": {},
     "output_type": "execute_result"
    }
   ],
   "source": [
    "ep = clients['endpoint'].list_endpoints(parent=PARENT).endpoints[2].name\n",
    "ep"
   ]
  },
  {
   "cell_type": "markdown",
   "id": "cbe4fdae",
   "metadata": {},
   "source": [
    "Python: Request a prediction for the entity's features:"
   ]
  },
  {
   "cell_type": "code",
   "execution_count": 31,
   "id": "bb878863",
   "metadata": {},
   "outputs": [],
   "source": [
    "clients['prediction'] = PredictionServiceClient(client_options=client_options)"
   ]
  },
  {
   "cell_type": "code",
   "execution_count": 32,
   "id": "c26e959a",
   "metadata": {},
   "outputs": [],
   "source": [
    "response = clients['prediction'].predict(endpoint=ep, instances=[json_format.ParseDict(newob, Value())], parameters=json_format.ParseDict({}, Value()))"
   ]
  },
  {
   "cell_type": "code",
   "execution_count": 33,
   "id": "09f82035",
   "metadata": {},
   "outputs": [
    {
     "data": {
      "text/plain": [
       "predictions {\n",
       "  list_value {\n",
       "    values {\n",
       "      number_value: 0.974858642\n",
       "    }\n",
       "    values {\n",
       "      number_value: 0.00159042131\n",
       "    }\n",
       "    values {\n",
       "      number_value: 1.80285454e-07\n",
       "    }\n",
       "    values {\n",
       "      number_value: 5.37076383e-10\n",
       "    }\n",
       "    values {\n",
       "      number_value: 0.0224075858\n",
       "    }\n",
       "    values {\n",
       "      number_value: 1.13798286e-08\n",
       "    }\n",
       "    values {\n",
       "      number_value: 0.000751986227\n",
       "    }\n",
       "    values {\n",
       "      number_value: 7.09668802e-06\n",
       "    }\n",
       "    values {\n",
       "      number_value: 0.00038387996\n",
       "    }\n",
       "    values {\n",
       "      number_value: 1.94259172e-07\n",
       "    }\n",
       "  }\n",
       "}\n",
       "deployed_model_id: \"2532016949093728256\""
      ]
     },
     "execution_count": 33,
     "metadata": {},
     "output_type": "execute_result"
    }
   ],
   "source": [
    "response"
   ]
  },
  {
   "cell_type": "markdown",
   "id": "fc900c3d",
   "metadata": {},
   "source": [
    "REST: Request a prediction for the entity's features:"
   ]
  },
  {
   "cell_type": "code",
   "execution_count": 34,
   "id": "be4eb0eb",
   "metadata": {},
   "outputs": [],
   "source": [
    "import json\n",
    "with open('request.json','w') as file:\n",
    "    file.write(json.dumps({\"instances\": [newob]}))"
   ]
  },
  {
   "cell_type": "code",
   "execution_count": 35,
   "id": "584e164c",
   "metadata": {},
   "outputs": [
    {
     "name": "stdout",
     "output_type": "stream",
     "text": [
      "{\n",
      "  \"predictions\": [\n",
      "    [\n",
      "      0.974858642,\n",
      "      0.00159042131,\n",
      "      1.80285454e-07,\n",
      "      5.37076383e-10,\n",
      "      0.0224075858,\n",
      "      1.13798286e-08,\n",
      "      0.000751986227,\n",
      "      7.09668802e-06,\n",
      "      0.00038387996,\n",
      "      1.94259172e-07\n",
      "    ]\n",
      "  ],\n",
      "  \"deployedModelId\": \"2532016949093728256\"\n",
      "}\n"
     ]
    }
   ],
   "source": [
    "!curl -X POST \\\n",
    "-H \"Authorization: Bearer \"$(gcloud auth application-default print-access-token) \\\n",
    "-H \"Content-Type: application/json; charset=utf-8\" \\\n",
    "-d @request.json \\\n",
    "https://{API_ENDPOINT}/v1/{ep}:predict"
   ]
  },
  {
   "cell_type": "markdown",
   "id": "52282bf1",
   "metadata": {},
   "source": [
    "CLI: Request a prediction for the entity's features:"
   ]
  },
  {
   "cell_type": "code",
   "execution_count": 36,
   "id": "b176a82e",
   "metadata": {},
   "outputs": [
    {
     "name": "stdout",
     "output_type": "stream",
     "text": [
      "Using endpoint [https://us-central1-prediction-aiplatform.googleapis.com/]\n",
      "[[0.974858642, 0.00159042131, 1.80285454e-07, 5.37076383e-10, 0.0224075858, 1.13798286e-08, 0.000751986227, 7.09668802e-06, 0.00038387996, 1.94259172e-07]]\n"
     ]
    }
   ],
   "source": [
    "!gcloud beta ai endpoints predict {ep.rsplit('/',1)[-1]} --region={REGION} --json-request=request.json"
   ]
  },
  {
   "cell_type": "markdown",
   "id": "42f62dea",
   "metadata": {},
   "source": [
    "### Online - Multi"
   ]
  },
  {
   "cell_type": "code",
   "execution_count": 37,
   "id": "5a63e083",
   "metadata": {},
   "outputs": [],
   "source": [
    "multi = clients['fs_olserve'].streaming_read_feature_values(\n",
    "    types.featurestore_online_service.StreamingReadFeatureValuesRequest(\n",
    "        entity_type = clients['fs'].entity_type_path(PROJECT_ID, REGION, FEATURESTORE_ID, ENTITYTYPE_ID),\n",
    "        entity_ids = id_values[0:3],\n",
    "        feature_selector = types.FeatureSelector(id_matcher=types.IdMatcher(ids=['*'])),\n",
    "    )\n",
    ")"
   ]
  },
  {
   "cell_type": "code",
   "execution_count": 38,
   "id": "2c4b288e",
   "metadata": {},
   "outputs": [
    {
     "name": "stdout",
     "output_type": "stream",
     "text": [
      "\n",
      "[]\n",
      "a01bcbb6-f62c-413e-b850-3d1d879e88a1\n",
      "[14.0, 0.0, 0.0, 0.0, 13.0, 9.0, 13.0, 16.0, 3.0, 0.0, 0.0, 16.0, 16.0, 5.0, 14.0, 16.0, 0.0, 1.0, 16.0, 0.0, 15.0, 0.0, 5.0, 0.0, 6.0, 0.0, 0.0, 0.0, 4.0, 0.0, 2.0, 15.0, 14.0, 15.0, 0.0, 0.0, 5.0, 0.0, 12.0, 0.0, 0.0, 9.0, 0.0, 0.0, 1.0, 14.0, 8.0, 15.0, 0.0, 0.0, 0.0, 0.0, 0.0, 0.0, 0.0, 15.0, 6.0, 3.0, 3.0, 6.0, 0.0, 0.0, 15.0, 1.0, 0.0, 10.0]\n",
      "e098d648-a0e6-49c0-b438-4d57b968c2ab\n",
      "[11.0, 0.0, 0.0, 0.0, 16.0, 7.0, 14.0, 16.0, 0.0, 0.0, 0.0, 16.0, 15.0, 5.0, 16.0, 16.0, 0.0, 0.0, 15.0, 0.0, 16.0, 0.0, 12.0, 0.0, 6.0, 0.0, 0.0, 4.0, 1.0, 0.0, 6.0, 4.0, 8.0, 8.0, 0.0, 0.0, 9.0, 0.0, 12.0, 0.0, 0.0, 9.0, 11.0, 0.0, 0.0, 15.0, 1.0, 15.0, 0.0, 0.0, 0.0, 0.0, 0.0, 0.0, 0.0, 8.0, 1.0, 5.0, 6.0, 5.0, 0.0, 0.0, 16.0, 1.0, 0.0, 15.0]\n",
      "f3480418-b9eb-4131-9c8b-ab8250d36067\n",
      "[5.0, 0.0, 0.0, 0.0, 14.0, 11.0, 13.0, 9.0, 1.0, 0.0, 0.0, 9.0, 11.0, 12.0, 15.0, 0.0, 0.0, 0.0, 2.0, 0.0, 12.0, 0.0, 0.0, 0.0, 10.0, 0.0, 0.0, 2.0, 1.0, 0.0, 1.0, 0.0, 2.0, 10.0, 0.0, 0.0, 16.0, 0.0, 5.0, 0.0, 0.0, 12.0, 0.0, 0.0, 11.0, 7.0, 8.0, 2.0, 0.0, 0.0, 0.0, 0.0, 0.0, 0.0, 0.0, 11.0, 0.0, 7.0, 13.0, 2.0, 2.0, 0.0, 16.0, 0.0, 0.0, 13.0]\n"
     ]
    }
   ],
   "source": [
    "for i in multi:\n",
    "    print(i.entity_view.entity_id)\n",
    "    print(list(item.value.double_value for item in i.entity_view.data))"
   ]
  },
  {
   "cell_type": "markdown",
   "id": "3cd0b555",
   "metadata": {},
   "source": [
    "### Batch (For training or large scale prediction)"
   ]
  },
  {
   "cell_type": "code",
   "execution_count": 39,
   "id": "6e51b749",
   "metadata": {},
   "outputs": [],
   "source": [
    "from google.cloud import bigquery\n",
    "\n",
    "DESTINATION_DATASET = 'digits_training'\n",
    "\n",
    "clients['bq'] = bigquery.Client()\n",
    "dataset_id = \"{}.{}\".format(clients['bq'].project, DESTINATION_DATASET)\n",
    "dataset = bigquery.Dataset(dataset_id)\n",
    "dataset.location = REGION\n",
    "dataset = clients['bq'].create_dataset(dataset, exists_ok = True)"
   ]
  },
  {
   "cell_type": "code",
   "execution_count": 40,
   "id": "1223e19b",
   "metadata": {},
   "outputs": [],
   "source": [
    "batch_request = types.featurestore_service.ExportFeatureValuesRequest(\n",
    "    entity_type = clients['fs'].entity_type_path(PROJECT_ID, REGION, FEATURESTORE_ID, ENTITYTYPE_ID),\n",
    "    snapshot_export = types.ExportFeatureValuesRequest.SnapshotExport(snapshot_time = Timestamp().GetCurrentTime()),\n",
    "    destination = types.FeatureValueDestination(bigquery_destination = types.BigQueryDestination(output_uri='bq://statmike-mlops.digits_training.training')),\n",
    "    feature_selector = types.FeatureSelector(id_matcher=types.IdMatcher(ids=['*']))\n",
    ")"
   ]
  },
  {
   "cell_type": "code",
   "execution_count": 41,
   "id": "32f16c9f",
   "metadata": {},
   "outputs": [],
   "source": [
    "batchjob = clients['fs'].export_feature_values(batch_request)"
   ]
  },
  {
   "cell_type": "code",
   "execution_count": 42,
   "id": "34f24a59",
   "metadata": {},
   "outputs": [
    {
     "data": {
      "text/plain": []
     },
     "execution_count": 42,
     "metadata": {},
     "output_type": "execute_result"
    }
   ],
   "source": [
    "batchjob.result()"
   ]
  },
  {
   "cell_type": "markdown",
   "id": "c5d7bae9",
   "metadata": {},
   "source": [
    "---\n",
    "## Remove Resources\n",
    "see notebook \"XX - Cleanup\""
   ]
  }
 ],
 "metadata": {
  "environment": {
   "name": "tf2-gpu.2-5.m76",
   "type": "gcloud",
   "uri": "gcr.io/deeplearning-platform-release/tf2-gpu.2-5:m76"
  },
  "kernelspec": {
   "display_name": "Python 3",
   "language": "python",
   "name": "python3"
  },
  "language_info": {
   "codemirror_mode": {
    "name": "ipython",
    "version": 3
   },
   "file_extension": ".py",
   "mimetype": "text/x-python",
   "name": "python",
   "nbconvert_exporter": "python",
   "pygments_lexer": "ipython3",
   "version": "3.7.10"
  }
 },
 "nbformat": 4,
 "nbformat_minor": 5
}
