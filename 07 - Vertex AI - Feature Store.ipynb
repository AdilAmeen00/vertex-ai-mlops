{
 "cells": [
  {
   "cell_type": "markdown",
   "id": "4a958d74",
   "metadata": {},
   "source": [
    "# Vertex AI - Feature Store\n",
    "\n",
    "**Prerequisites**\n",
    "- `00 - Initial Setup`\n",
    "- `01 - BigQuery - Data`\n",
    "- `06 - Vertex AI - Training Pipeline and Serving`\n",
    "    - for online prediction this used the endpoing defined in 06\n",
    "    \n",
    "**Resources**\n",
    "- Based on:\n",
    "    - https://cloud.google.com/vertex-ai/docs/featurestore/managing-featurestores\n",
    "- API Documentation:\n",
    "    - https://googleapis.dev/python/aiplatform/latest/aiplatform_v1beta1/services.html\n",
    "    - https://googleapis.dev/python/aiplatform/latest/aiplatform_v1beta1/featurestore_service.html\n",
    "\n",
    "**Overview**\n",
    "\n",
    "<img src=\"architectures/statmike-mlops-07.png\">\n"
   ]
  },
  {
   "cell_type": "markdown",
   "id": "e6d8aaa3",
   "metadata": {},
   "source": [
    "---\n",
    "## Setup"
   ]
  },
  {
   "cell_type": "markdown",
   "id": "aa1ab0ae",
   "metadata": {},
   "source": [
    "Update Python library for aiplatform (Vertex AI)\n",
    "- Restart the kernel: Menus > Kernel > Restart Kernel"
   ]
  },
  {
   "cell_type": "code",
   "execution_count": 1,
   "id": "669fcf98",
   "metadata": {},
   "outputs": [
    {
     "name": "stdout",
     "output_type": "stream",
     "text": [
      "\u001b[31mERROR: pip's dependency resolver does not currently take into account all the packages that are installed. This behaviour is the source of the following dependency conflicts.\n",
      "tfx 0.30.2 requires tensorflow!=2.0.*,!=2.1.*,!=2.2.*,!=2.3.*,!=2.5.*,<3,>=1.15.2, but you have tensorflow 2.5.0 which is incompatible.\u001b[0m\n"
     ]
    }
   ],
   "source": [
    "!pip install --upgrade git+https://github.com/googleapis/python-aiplatform.git@main-test -q"
   ]
  },
  {
   "cell_type": "markdown",
   "id": "a36567d4",
   "metadata": {},
   "source": [
    "Import Libraries"
   ]
  },
  {
   "cell_type": "code",
   "execution_count": 2,
   "id": "af51ea04",
   "metadata": {},
   "outputs": [],
   "source": [
    "from google.cloud.aiplatform_v1beta1 import (FeaturestoreOnlineServingServiceClient, FeaturestoreServiceClient, types)\n",
    "from google.protobuf.duration_pb2 import Duration\n",
    "from google.protobuf.timestamp_pb2 import Timestamp\n",
    "from google.protobuf.field_mask_pb2 import FieldMask"
   ]
  },
  {
   "cell_type": "markdown",
   "id": "1fe26614",
   "metadata": {},
   "source": [
    "Setup GCP Parameters"
   ]
  },
  {
   "cell_type": "code",
   "execution_count": 3,
   "id": "ec637cff",
   "metadata": {},
   "outputs": [],
   "source": [
    "# Locations\n",
    "REGION = 'us-central1'\n",
    "PROJECT_ID='statmike-mlops'\n",
    "PARENT = \"projects/\" + PROJECT_ID + \"/locations/\" + REGION"
   ]
  },
  {
   "cell_type": "markdown",
   "id": "e7040b1e",
   "metadata": {},
   "source": [
    "Clients for Feature Store:"
   ]
  },
  {
   "cell_type": "code",
   "execution_count": 4,
   "id": "f371d87b",
   "metadata": {},
   "outputs": [],
   "source": [
    "API_ENDPOINT = \"{}-aiplatform.googleapis.com\".format(REGION)\n",
    "client_options = {\"api_endpoint\": API_ENDPOINT}\n",
    "clients = {}"
   ]
  },
  {
   "cell_type": "code",
   "execution_count": 5,
   "id": "4760755b",
   "metadata": {},
   "outputs": [],
   "source": [
    "clients['fs'] = FeaturestoreServiceClient(client_options=client_options)"
   ]
  },
  {
   "cell_type": "code",
   "execution_count": 6,
   "id": "c5c4e191",
   "metadata": {},
   "outputs": [],
   "source": [
    "clients['fs_olserve'] = FeaturestoreOnlineServingServiceClient(client_options=client_options)"
   ]
  },
  {
   "cell_type": "code",
   "execution_count": 7,
   "id": "e4f0a510",
   "metadata": {},
   "outputs": [],
   "source": [
    "BASE_RESOURCE_PATH = clients['fs'].common_location_path(PROJECT_ID, REGION)"
   ]
  },
  {
   "cell_type": "markdown",
   "id": "fe3ae92d",
   "metadata": {},
   "source": [
    "---\n",
    "## Feature Store Data model\n",
    "Feature Store organizes data with the following 3 important hierarchical concepts:\n",
    "\n",
    "Featurestore -> EntityType -> Feature\n",
    "\n",
    "- **Featurestore**: the place to store your features\n",
    "    - **EntityType**: under a Featurestore, an EntityType describes an object to be modeled, real one or virtual one.\n",
    "        - **Feature**: under an EntityType, a feature describes an attribute of the EntityType\n",
    "\n",
    "For the digits data used in these examples, the feature store will be called digits_featurestore.  The store has 1 entity type: images.  The features will be the pixels and the target values."
   ]
  },
  {
   "cell_type": "markdown",
   "id": "ccfffc40",
   "metadata": {},
   "source": [
    "---\n",
    "## Create Feature Store"
   ]
  },
  {
   "cell_type": "code",
   "execution_count": 8,
   "id": "028a57a7",
   "metadata": {},
   "outputs": [],
   "source": [
    "FEATURESTORE_ID = 'digits_featurestore'"
   ]
  },
  {
   "cell_type": "code",
   "execution_count": 9,
   "id": "ad05a28d",
   "metadata": {},
   "outputs": [],
   "source": [
    "featurestore_lro = clients['fs'].create_featurestore(\n",
    "    types.featurestore_service.CreateFeaturestoreRequest(\n",
    "        parent = BASE_RESOURCE_PATH,\n",
    "        featurestore_id = FEATURESTORE_ID,\n",
    "        featurestore=types.featurestore.Featurestore(\n",
    "            display_name=\"Featurestore for handwritten digits\",\n",
    "            online_serving_config=types.featurestore.Featurestore.OnlineServingConfig(\n",
    "                fixed_node_count=3\n",
    "            ),\n",
    "        ),\n",
    "    )\n",
    ")"
   ]
  },
  {
   "cell_type": "code",
   "execution_count": 10,
   "id": "5a165599",
   "metadata": {},
   "outputs": [
    {
     "data": {
      "text/plain": [
       "name: \"projects/691911073727/locations/us-central1/featurestores/digits_featurestore\""
      ]
     },
     "execution_count": 10,
     "metadata": {},
     "output_type": "execute_result"
    }
   ],
   "source": [
    "featurestore_lro.result()"
   ]
  },
  {
   "cell_type": "markdown",
   "id": "ebfacacb",
   "metadata": {},
   "source": [
    "Use `get_featurestore` to see details of specified feature store:"
   ]
  },
  {
   "cell_type": "code",
   "execution_count": 11,
   "id": "9ca680a2",
   "metadata": {},
   "outputs": [
    {
     "data": {
      "text/plain": [
       "name: \"projects/691911073727/locations/us-central1/featurestores/digits_featurestore\"\n",
       "create_time {\n",
       "  seconds: 1626950064\n",
       "  nanos: 317380000\n",
       "}\n",
       "update_time {\n",
       "  seconds: 1626950064\n",
       "  nanos: 396884000\n",
       "}\n",
       "etag: \"AMEw9yPOf5A-nNUUZj2-0RkJPYHiBvd4Hk8HEE8e1tYa1N-uJDObgs7pkHzJd96BqDYH\"\n",
       "online_serving_config {\n",
       "  fixed_node_count: 3\n",
       "}\n",
       "state: STABLE"
      ]
     },
     "execution_count": 11,
     "metadata": {},
     "output_type": "execute_result"
    }
   ],
   "source": [
    "clients['fs'].get_featurestore(name=clients['fs'].featurestore_path(PROJECT_ID, REGION, FEATURESTORE_ID))"
   ]
  },
  {
   "cell_type": "markdown",
   "id": "46a2c7d6",
   "metadata": {},
   "source": [
    "Use `list_featurestores` to see details of all feature stores:"
   ]
  },
  {
   "cell_type": "code",
   "execution_count": 12,
   "id": "ad9e9875",
   "metadata": {},
   "outputs": [
    {
     "data": {
      "text/plain": [
       "ListFeaturestoresPager<featurestores {\n",
       "  name: \"projects/691911073727/locations/us-central1/featurestores/digits_featurestore\"\n",
       "  create_time {\n",
       "    seconds: 1626950064\n",
       "    nanos: 317380000\n",
       "  }\n",
       "  update_time {\n",
       "    seconds: 1626950064\n",
       "    nanos: 396884000\n",
       "  }\n",
       "  etag: \"AMEw9yOCRtL8lj05pMxUaGDU5ClIZDiWwz6G6B_sB4AcdIuv-gqC_fKo6cLP5xQchaiu\"\n",
       "  online_serving_config {\n",
       "    fixed_node_count: 3\n",
       "  }\n",
       "  state: STABLE\n",
       "}\n",
       ">"
      ]
     },
     "execution_count": 12,
     "metadata": {},
     "output_type": "execute_result"
    }
   ],
   "source": [
    "clients['fs'].list_featurestores(parent=PARENT)"
   ]
  },
  {
   "cell_type": "markdown",
   "id": "232c18b5",
   "metadata": {},
   "source": [
    "---\n",
    "## Create Entity Type"
   ]
  },
  {
   "cell_type": "code",
   "execution_count": 13,
   "id": "5643fac6",
   "metadata": {},
   "outputs": [],
   "source": [
    "ENTITYTYPE_ID = 'image'"
   ]
  },
  {
   "cell_type": "code",
   "execution_count": 14,
   "id": "b2a14023",
   "metadata": {},
   "outputs": [],
   "source": [
    "entitytype_lro = clients['fs'].create_entity_type(\n",
    "    types.featurestore_service.CreateEntityTypeRequest(\n",
    "        parent=clients['fs'].featurestore_path(PROJECT_ID, REGION, FEATURESTORE_ID),\n",
    "        entity_type_id = ENTITYTYPE_ID,\n",
    "        entity_type=types.entity_type.EntityType(\n",
    "            description=\"image entity for digits\",\n",
    "            monitoring_config=types.featurestore_monitoring.FeaturestoreMonitoringConfig(\n",
    "                snapshot_analysis=types.featurestore_monitoring.FeaturestoreMonitoringConfig.SnapshotAnalysis(\n",
    "                    monitoring_interval=Duration(seconds=1800),  # 30 minutes\n",
    "                ),\n",
    "            ),\n",
    "        ),\n",
    "    )\n",
    ")"
   ]
  },
  {
   "cell_type": "code",
   "execution_count": 15,
   "id": "94652428",
   "metadata": {},
   "outputs": [
    {
     "data": {
      "text/plain": [
       "name: \"projects/691911073727/locations/us-central1/featurestores/digits_featurestore/entityTypes/image\"\n",
       "etag: \"AMEw9yNZYXCqWXCDZC8jHGhPjxz5e3Fy4Yk3uk5122XSnJ5cbmuh\""
      ]
     },
     "execution_count": 15,
     "metadata": {},
     "output_type": "execute_result"
    }
   ],
   "source": [
    "entitytype_lro.result()"
   ]
  },
  {
   "cell_type": "markdown",
   "id": "1d53e1bd",
   "metadata": {},
   "source": [
    "Use `list_entity_types` to see details of all entity types:"
   ]
  },
  {
   "cell_type": "code",
   "execution_count": 16,
   "id": "f2ecc807",
   "metadata": {},
   "outputs": [
    {
     "data": {
      "text/plain": [
       "ListEntityTypesPager<entity_types {\n",
       "  name: \"projects/691911073727/locations/us-central1/featurestores/digits_featurestore/entityTypes/image\"\n",
       "  description: \"image entity for digits\"\n",
       "  create_time {\n",
       "    seconds: 1626950080\n",
       "    nanos: 618074000\n",
       "  }\n",
       "  update_time {\n",
       "    seconds: 1626950080\n",
       "    nanos: 618074000\n",
       "  }\n",
       "  etag: \"AMEw9yPKAe1ik3_SuK2rBkWdUKlCDV8St5IKNKlW-tKD2NiqWJ2_C2bxpD1EI_au5SQ0\"\n",
       "  monitoring_config {\n",
       "    snapshot_analysis {\n",
       "      monitoring_interval {\n",
       "        seconds: 86400\n",
       "      }\n",
       "    }\n",
       "  }\n",
       "}\n",
       ">"
      ]
     },
     "execution_count": 16,
     "metadata": {},
     "output_type": "execute_result"
    }
   ],
   "source": [
    "clients['fs'].list_entity_types(parent=PARENT+'/featurestores/{}'.format(FEATURESTORE_ID))"
   ]
  },
  {
   "cell_type": "markdown",
   "id": "74a2e9f1",
   "metadata": {},
   "source": [
    "---\n",
    "## Create Features"
   ]
  },
  {
   "cell_type": "markdown",
   "id": "1ac1e91e",
   "metadata": {},
   "source": [
    "Get the schema of the data source for new features:"
   ]
  },
  {
   "cell_type": "code",
   "execution_count": 17,
   "id": "0252e13e",
   "metadata": {},
   "outputs": [
    {
     "name": "stderr",
     "output_type": "stream",
     "text": [
      "Query complete after 0.01s: 100%|██████████| 1/1 [00:00<00:00, 393.94query/s]                          \n",
      "Downloading: 100%|██████████| 66/66 [00:01<00:00, 57.08rows/s]\n"
     ]
    }
   ],
   "source": [
    "%%bigquery schema\n",
    "SELECT * \n",
    "FROM `statmike-mlops.digits.INFORMATION_SCHEMA.COLUMN_FIELD_PATHS`\n",
    "WHERE table_name = 'digits_source'"
   ]
  },
  {
   "cell_type": "code",
   "execution_count": 18,
   "id": "298fb50c",
   "metadata": {},
   "outputs": [
    {
     "data": {
      "text/html": [
       "<div>\n",
       "<style scoped>\n",
       "    .dataframe tbody tr th:only-of-type {\n",
       "        vertical-align: middle;\n",
       "    }\n",
       "\n",
       "    .dataframe tbody tr th {\n",
       "        vertical-align: top;\n",
       "    }\n",
       "\n",
       "    .dataframe thead th {\n",
       "        text-align: right;\n",
       "    }\n",
       "</style>\n",
       "<table border=\"1\" class=\"dataframe\">\n",
       "  <thead>\n",
       "    <tr style=\"text-align: right;\">\n",
       "      <th></th>\n",
       "      <th>table_catalog</th>\n",
       "      <th>table_schema</th>\n",
       "      <th>table_name</th>\n",
       "      <th>column_name</th>\n",
       "      <th>field_path</th>\n",
       "      <th>data_type</th>\n",
       "      <th>description</th>\n",
       "    </tr>\n",
       "  </thead>\n",
       "  <tbody>\n",
       "    <tr>\n",
       "      <th>0</th>\n",
       "      <td>statmike-mlops</td>\n",
       "      <td>digits</td>\n",
       "      <td>digits_source</td>\n",
       "      <td>p0</td>\n",
       "      <td>p0</td>\n",
       "      <td>FLOAT64</td>\n",
       "      <td>None</td>\n",
       "    </tr>\n",
       "    <tr>\n",
       "      <th>1</th>\n",
       "      <td>statmike-mlops</td>\n",
       "      <td>digits</td>\n",
       "      <td>digits_source</td>\n",
       "      <td>p1</td>\n",
       "      <td>p1</td>\n",
       "      <td>FLOAT64</td>\n",
       "      <td>None</td>\n",
       "    </tr>\n",
       "    <tr>\n",
       "      <th>2</th>\n",
       "      <td>statmike-mlops</td>\n",
       "      <td>digits</td>\n",
       "      <td>digits_source</td>\n",
       "      <td>p2</td>\n",
       "      <td>p2</td>\n",
       "      <td>FLOAT64</td>\n",
       "      <td>None</td>\n",
       "    </tr>\n",
       "    <tr>\n",
       "      <th>3</th>\n",
       "      <td>statmike-mlops</td>\n",
       "      <td>digits</td>\n",
       "      <td>digits_source</td>\n",
       "      <td>p3</td>\n",
       "      <td>p3</td>\n",
       "      <td>FLOAT64</td>\n",
       "      <td>None</td>\n",
       "    </tr>\n",
       "    <tr>\n",
       "      <th>4</th>\n",
       "      <td>statmike-mlops</td>\n",
       "      <td>digits</td>\n",
       "      <td>digits_source</td>\n",
       "      <td>p4</td>\n",
       "      <td>p4</td>\n",
       "      <td>FLOAT64</td>\n",
       "      <td>None</td>\n",
       "    </tr>\n",
       "    <tr>\n",
       "      <th>...</th>\n",
       "      <td>...</td>\n",
       "      <td>...</td>\n",
       "      <td>...</td>\n",
       "      <td>...</td>\n",
       "      <td>...</td>\n",
       "      <td>...</td>\n",
       "      <td>...</td>\n",
       "    </tr>\n",
       "    <tr>\n",
       "      <th>61</th>\n",
       "      <td>statmike-mlops</td>\n",
       "      <td>digits</td>\n",
       "      <td>digits_source</td>\n",
       "      <td>p61</td>\n",
       "      <td>p61</td>\n",
       "      <td>FLOAT64</td>\n",
       "      <td>None</td>\n",
       "    </tr>\n",
       "    <tr>\n",
       "      <th>62</th>\n",
       "      <td>statmike-mlops</td>\n",
       "      <td>digits</td>\n",
       "      <td>digits_source</td>\n",
       "      <td>p62</td>\n",
       "      <td>p62</td>\n",
       "      <td>FLOAT64</td>\n",
       "      <td>None</td>\n",
       "    </tr>\n",
       "    <tr>\n",
       "      <th>63</th>\n",
       "      <td>statmike-mlops</td>\n",
       "      <td>digits</td>\n",
       "      <td>digits_source</td>\n",
       "      <td>p63</td>\n",
       "      <td>p63</td>\n",
       "      <td>FLOAT64</td>\n",
       "      <td>None</td>\n",
       "    </tr>\n",
       "    <tr>\n",
       "      <th>64</th>\n",
       "      <td>statmike-mlops</td>\n",
       "      <td>digits</td>\n",
       "      <td>digits_source</td>\n",
       "      <td>target</td>\n",
       "      <td>target</td>\n",
       "      <td>INT64</td>\n",
       "      <td>None</td>\n",
       "    </tr>\n",
       "    <tr>\n",
       "      <th>65</th>\n",
       "      <td>statmike-mlops</td>\n",
       "      <td>digits</td>\n",
       "      <td>digits_source</td>\n",
       "      <td>target_OE</td>\n",
       "      <td>target_OE</td>\n",
       "      <td>STRING</td>\n",
       "      <td>None</td>\n",
       "    </tr>\n",
       "  </tbody>\n",
       "</table>\n",
       "<p>66 rows × 7 columns</p>\n",
       "</div>"
      ],
      "text/plain": [
       "     table_catalog table_schema     table_name column_name field_path  \\\n",
       "0   statmike-mlops       digits  digits_source          p0         p0   \n",
       "1   statmike-mlops       digits  digits_source          p1         p1   \n",
       "2   statmike-mlops       digits  digits_source          p2         p2   \n",
       "3   statmike-mlops       digits  digits_source          p3         p3   \n",
       "4   statmike-mlops       digits  digits_source          p4         p4   \n",
       "..             ...          ...            ...         ...        ...   \n",
       "61  statmike-mlops       digits  digits_source         p61        p61   \n",
       "62  statmike-mlops       digits  digits_source         p62        p62   \n",
       "63  statmike-mlops       digits  digits_source         p63        p63   \n",
       "64  statmike-mlops       digits  digits_source      target     target   \n",
       "65  statmike-mlops       digits  digits_source   target_OE  target_OE   \n",
       "\n",
       "   data_type description  \n",
       "0    FLOAT64        None  \n",
       "1    FLOAT64        None  \n",
       "2    FLOAT64        None  \n",
       "3    FLOAT64        None  \n",
       "4    FLOAT64        None  \n",
       "..       ...         ...  \n",
       "61   FLOAT64        None  \n",
       "62   FLOAT64        None  \n",
       "63   FLOAT64        None  \n",
       "64     INT64        None  \n",
       "65    STRING        None  \n",
       "\n",
       "[66 rows x 7 columns]"
      ]
     },
     "execution_count": 18,
     "metadata": {},
     "output_type": "execute_result"
    }
   ],
   "source": [
    "schema"
   ]
  },
  {
   "cell_type": "markdown",
   "id": "4a84b7c6",
   "metadata": {},
   "source": [
    "Prepare a request for `batch_create_features`:\n",
    "- specification for the features, data type and descriptions ...."
   ]
  },
  {
   "cell_type": "code",
   "execution_count": 19,
   "id": "a135deb4",
   "metadata": {},
   "outputs": [],
   "source": [
    "REQUESTS = []\n",
    "for i in range(schema.shape[0]):\n",
    "    \n",
    "    if schema['data_type'][i] == 'STRING': value_type = types.feature.Feature.ValueType.STRING\n",
    "    elif schema['data_type'][i] == 'INT64': value_type = types.feature.Feature.ValueType.INT64\n",
    "    elif schema['data_type'][i] == 'FLOAT64': value_type = types.feature.Feature.ValueType.DOUBLE\n",
    "    \n",
    "    if schema['description'][i] == None: description = schema['column_name'][i]\n",
    "    else: description = schema['description'][i]\n",
    "    \n",
    "    REQUESTS.append(\n",
    "        types.featurestore_service.CreateFeatureRequest(\n",
    "            feature=types.feature.Feature(\n",
    "                value_type = value_type,\n",
    "                description = description,\n",
    "                # optional, monitoring_config here as override, otherwise it inherits from entity_type\n",
    "            ),\n",
    "            feature_id = schema['column_name'][i].lower(),\n",
    "        )    \n",
    "    )"
   ]
  },
  {
   "cell_type": "code",
   "execution_count": 20,
   "id": "17a484a2",
   "metadata": {},
   "outputs": [],
   "source": [
    "batchfeatures = clients['fs'].batch_create_features(\n",
    "    parent = clients['fs'].entity_type_path(PROJECT_ID, REGION, FEATURESTORE_ID, ENTITYTYPE_ID),\n",
    "    requests = REQUESTS,\n",
    ")"
   ]
  },
  {
   "cell_type": "code",
   "execution_count": 21,
   "id": "8794be11",
   "metadata": {},
   "outputs": [
    {
     "data": {
      "text/plain": [
       "['projects/691911073727/locations/us-central1/featurestores/digits_featurestore/entityTypes/image/features/p0',\n",
       " 'projects/691911073727/locations/us-central1/featurestores/digits_featurestore/entityTypes/image/features/p1',\n",
       " 'projects/691911073727/locations/us-central1/featurestores/digits_featurestore/entityTypes/image/features/p2',\n",
       " 'projects/691911073727/locations/us-central1/featurestores/digits_featurestore/entityTypes/image/features/p3',\n",
       " 'projects/691911073727/locations/us-central1/featurestores/digits_featurestore/entityTypes/image/features/p4',\n",
       " 'projects/691911073727/locations/us-central1/featurestores/digits_featurestore/entityTypes/image/features/p5',\n",
       " 'projects/691911073727/locations/us-central1/featurestores/digits_featurestore/entityTypes/image/features/p6',\n",
       " 'projects/691911073727/locations/us-central1/featurestores/digits_featurestore/entityTypes/image/features/p7',\n",
       " 'projects/691911073727/locations/us-central1/featurestores/digits_featurestore/entityTypes/image/features/p8',\n",
       " 'projects/691911073727/locations/us-central1/featurestores/digits_featurestore/entityTypes/image/features/p9',\n",
       " 'projects/691911073727/locations/us-central1/featurestores/digits_featurestore/entityTypes/image/features/p10',\n",
       " 'projects/691911073727/locations/us-central1/featurestores/digits_featurestore/entityTypes/image/features/p11',\n",
       " 'projects/691911073727/locations/us-central1/featurestores/digits_featurestore/entityTypes/image/features/p12',\n",
       " 'projects/691911073727/locations/us-central1/featurestores/digits_featurestore/entityTypes/image/features/p13',\n",
       " 'projects/691911073727/locations/us-central1/featurestores/digits_featurestore/entityTypes/image/features/p14',\n",
       " 'projects/691911073727/locations/us-central1/featurestores/digits_featurestore/entityTypes/image/features/p15',\n",
       " 'projects/691911073727/locations/us-central1/featurestores/digits_featurestore/entityTypes/image/features/p16',\n",
       " 'projects/691911073727/locations/us-central1/featurestores/digits_featurestore/entityTypes/image/features/p17',\n",
       " 'projects/691911073727/locations/us-central1/featurestores/digits_featurestore/entityTypes/image/features/p18',\n",
       " 'projects/691911073727/locations/us-central1/featurestores/digits_featurestore/entityTypes/image/features/p19',\n",
       " 'projects/691911073727/locations/us-central1/featurestores/digits_featurestore/entityTypes/image/features/p20',\n",
       " 'projects/691911073727/locations/us-central1/featurestores/digits_featurestore/entityTypes/image/features/p21',\n",
       " 'projects/691911073727/locations/us-central1/featurestores/digits_featurestore/entityTypes/image/features/p22',\n",
       " 'projects/691911073727/locations/us-central1/featurestores/digits_featurestore/entityTypes/image/features/p23',\n",
       " 'projects/691911073727/locations/us-central1/featurestores/digits_featurestore/entityTypes/image/features/p24',\n",
       " 'projects/691911073727/locations/us-central1/featurestores/digits_featurestore/entityTypes/image/features/p25',\n",
       " 'projects/691911073727/locations/us-central1/featurestores/digits_featurestore/entityTypes/image/features/p26',\n",
       " 'projects/691911073727/locations/us-central1/featurestores/digits_featurestore/entityTypes/image/features/p27',\n",
       " 'projects/691911073727/locations/us-central1/featurestores/digits_featurestore/entityTypes/image/features/p28',\n",
       " 'projects/691911073727/locations/us-central1/featurestores/digits_featurestore/entityTypes/image/features/p29',\n",
       " 'projects/691911073727/locations/us-central1/featurestores/digits_featurestore/entityTypes/image/features/p30',\n",
       " 'projects/691911073727/locations/us-central1/featurestores/digits_featurestore/entityTypes/image/features/p31',\n",
       " 'projects/691911073727/locations/us-central1/featurestores/digits_featurestore/entityTypes/image/features/p32',\n",
       " 'projects/691911073727/locations/us-central1/featurestores/digits_featurestore/entityTypes/image/features/p33',\n",
       " 'projects/691911073727/locations/us-central1/featurestores/digits_featurestore/entityTypes/image/features/p34',\n",
       " 'projects/691911073727/locations/us-central1/featurestores/digits_featurestore/entityTypes/image/features/p35',\n",
       " 'projects/691911073727/locations/us-central1/featurestores/digits_featurestore/entityTypes/image/features/p36',\n",
       " 'projects/691911073727/locations/us-central1/featurestores/digits_featurestore/entityTypes/image/features/p37',\n",
       " 'projects/691911073727/locations/us-central1/featurestores/digits_featurestore/entityTypes/image/features/p38',\n",
       " 'projects/691911073727/locations/us-central1/featurestores/digits_featurestore/entityTypes/image/features/p39',\n",
       " 'projects/691911073727/locations/us-central1/featurestores/digits_featurestore/entityTypes/image/features/p40',\n",
       " 'projects/691911073727/locations/us-central1/featurestores/digits_featurestore/entityTypes/image/features/p41',\n",
       " 'projects/691911073727/locations/us-central1/featurestores/digits_featurestore/entityTypes/image/features/p42',\n",
       " 'projects/691911073727/locations/us-central1/featurestores/digits_featurestore/entityTypes/image/features/p43',\n",
       " 'projects/691911073727/locations/us-central1/featurestores/digits_featurestore/entityTypes/image/features/p44',\n",
       " 'projects/691911073727/locations/us-central1/featurestores/digits_featurestore/entityTypes/image/features/p45',\n",
       " 'projects/691911073727/locations/us-central1/featurestores/digits_featurestore/entityTypes/image/features/p46',\n",
       " 'projects/691911073727/locations/us-central1/featurestores/digits_featurestore/entityTypes/image/features/p47',\n",
       " 'projects/691911073727/locations/us-central1/featurestores/digits_featurestore/entityTypes/image/features/p48',\n",
       " 'projects/691911073727/locations/us-central1/featurestores/digits_featurestore/entityTypes/image/features/p49',\n",
       " 'projects/691911073727/locations/us-central1/featurestores/digits_featurestore/entityTypes/image/features/p50',\n",
       " 'projects/691911073727/locations/us-central1/featurestores/digits_featurestore/entityTypes/image/features/p51',\n",
       " 'projects/691911073727/locations/us-central1/featurestores/digits_featurestore/entityTypes/image/features/p52',\n",
       " 'projects/691911073727/locations/us-central1/featurestores/digits_featurestore/entityTypes/image/features/p53',\n",
       " 'projects/691911073727/locations/us-central1/featurestores/digits_featurestore/entityTypes/image/features/p54',\n",
       " 'projects/691911073727/locations/us-central1/featurestores/digits_featurestore/entityTypes/image/features/p55',\n",
       " 'projects/691911073727/locations/us-central1/featurestores/digits_featurestore/entityTypes/image/features/p56',\n",
       " 'projects/691911073727/locations/us-central1/featurestores/digits_featurestore/entityTypes/image/features/p57',\n",
       " 'projects/691911073727/locations/us-central1/featurestores/digits_featurestore/entityTypes/image/features/p58',\n",
       " 'projects/691911073727/locations/us-central1/featurestores/digits_featurestore/entityTypes/image/features/p59',\n",
       " 'projects/691911073727/locations/us-central1/featurestores/digits_featurestore/entityTypes/image/features/p60',\n",
       " 'projects/691911073727/locations/us-central1/featurestores/digits_featurestore/entityTypes/image/features/p61',\n",
       " 'projects/691911073727/locations/us-central1/featurestores/digits_featurestore/entityTypes/image/features/p62',\n",
       " 'projects/691911073727/locations/us-central1/featurestores/digits_featurestore/entityTypes/image/features/p63',\n",
       " 'projects/691911073727/locations/us-central1/featurestores/digits_featurestore/entityTypes/image/features/target',\n",
       " 'projects/691911073727/locations/us-central1/featurestores/digits_featurestore/entityTypes/image/features/target_oe']"
      ]
     },
     "execution_count": 21,
     "metadata": {},
     "output_type": "execute_result"
    }
   ],
   "source": [
    "list(item.name for item in batchfeatures.result().features)"
   ]
  },
  {
   "cell_type": "markdown",
   "id": "4a48dc11",
   "metadata": {},
   "source": [
    "---\n",
    "## Search Features\n",
    "Search goes across all Feature Stores and Entity Types.\n",
    "\n",
    "Also, use the list_features function to list all."
   ]
  },
  {
   "cell_type": "code",
   "execution_count": 22,
   "id": "d5ed996c",
   "metadata": {},
   "outputs": [
    {
     "data": {
      "text/plain": [
       "name: \"projects/691911073727/locations/us-central1/featurestores/digits_featurestore/entityTypes/image/features/p0\"\n",
       "description: \"p0\"\n",
       "create_time {\n",
       "  seconds: 1626950104\n",
       "  nanos: 115581000\n",
       "}\n",
       "update_time {\n",
       "  seconds: 1626950104\n",
       "  nanos: 115581000\n",
       "}"
      ]
     },
     "execution_count": 22,
     "metadata": {},
     "output_type": "execute_result"
    }
   ],
   "source": [
    "# return the first feature:\n",
    "list(clients['fs'].search_features(location=BASE_RESOURCE_PATH))[0]"
   ]
  },
  {
   "cell_type": "code",
   "execution_count": 23,
   "id": "333cb170",
   "metadata": {},
   "outputs": [
    {
     "data": {
      "text/plain": [
       "[name: \"projects/691911073727/locations/us-central1/featurestores/digits_featurestore/entityTypes/image/features/target\"\n",
       " description: \"target\"\n",
       " create_time {\n",
       "   seconds: 1626950104\n",
       "   nanos: 191347000\n",
       " }\n",
       " update_time {\n",
       "   seconds: 1626950104\n",
       "   nanos: 191347000\n",
       " }]"
      ]
     },
     "execution_count": 23,
     "metadata": {},
     "output_type": "execute_result"
    }
   ],
   "source": [
    "# find all features with INT64 value type\n",
    "list(clients['fs'].search_features(types.featurestore_service.SearchFeaturesRequest(location=BASE_RESOURCE_PATH, query=\"value_type=INT64\")))"
   ]
  },
  {
   "cell_type": "code",
   "execution_count": 24,
   "id": "3f5c79cd",
   "metadata": {},
   "outputs": [
    {
     "data": {
      "text/plain": [
       "[name: \"projects/691911073727/locations/us-central1/featurestores/digits_featurestore/entityTypes/image/features/p6\"\n",
       " description: \"p6\"\n",
       " create_time {\n",
       "   seconds: 1626950104\n",
       "   nanos: 122758000\n",
       " }\n",
       " update_time {\n",
       "   seconds: 1626950104\n",
       "   nanos: 122758000\n",
       " },\n",
       " name: \"projects/691911073727/locations/us-central1/featurestores/digits_featurestore/entityTypes/image/features/p60\"\n",
       " description: \"p60\"\n",
       " create_time {\n",
       "   seconds: 1626950104\n",
       "   nanos: 187366000\n",
       " }\n",
       " update_time {\n",
       "   seconds: 1626950104\n",
       "   nanos: 187366000\n",
       " },\n",
       " name: \"projects/691911073727/locations/us-central1/featurestores/digits_featurestore/entityTypes/image/features/p61\"\n",
       " description: \"p61\"\n",
       " create_time {\n",
       "   seconds: 1626950104\n",
       "   nanos: 188306000\n",
       " }\n",
       " update_time {\n",
       "   seconds: 1626950104\n",
       "   nanos: 188306000\n",
       " },\n",
       " name: \"projects/691911073727/locations/us-central1/featurestores/digits_featurestore/entityTypes/image/features/p62\"\n",
       " description: \"p62\"\n",
       " create_time {\n",
       "   seconds: 1626950104\n",
       "   nanos: 189255000\n",
       " }\n",
       " update_time {\n",
       "   seconds: 1626950104\n",
       "   nanos: 189255000\n",
       " },\n",
       " name: \"projects/691911073727/locations/us-central1/featurestores/digits_featurestore/entityTypes/image/features/p63\"\n",
       " description: \"p63\"\n",
       " create_time {\n",
       "   seconds: 1626950104\n",
       "   nanos: 190300000\n",
       " }\n",
       " update_time {\n",
       "   seconds: 1626950104\n",
       "   nanos: 190300000\n",
       " }]"
      ]
     },
     "execution_count": 24,
     "metadata": {},
     "output_type": "execute_result"
    }
   ],
   "source": [
    "# find all features of the form p6* with DOUBLE value type\n",
    "list(clients['fs'].search_features(types.featurestore_service.SearchFeaturesRequest(location=BASE_RESOURCE_PATH, query=\"feature_id:p6* AND value_type=DOUBLE\")))"
   ]
  },
  {
   "cell_type": "markdown",
   "id": "2e3a1d57",
   "metadata": {},
   "source": [
    "---\n",
    "## Import Feature Values\n",
    "- BigQuery (THIS DEMO)\n",
    "- Avro\n",
    "- CSV"
   ]
  },
  {
   "cell_type": "markdown",
   "id": "98801567",
   "metadata": {},
   "source": [
    "Prepare a source table with timestamp (update_time) and unique id's (image_id) for each entity"
   ]
  },
  {
   "cell_type": "code",
   "execution_count": 30,
   "id": "f3e4b8cd",
   "metadata": {},
   "outputs": [
    {
     "name": "stderr",
     "output_type": "stream",
     "text": [
      "Query complete after 0.00s: 100%|██████████| 3/3 [00:00<00:00, 1378.50query/s]                        \n"
     ]
    },
    {
     "data": {
      "text/html": [
       "<div>\n",
       "<style scoped>\n",
       "    .dataframe tbody tr th:only-of-type {\n",
       "        vertical-align: middle;\n",
       "    }\n",
       "\n",
       "    .dataframe tbody tr th {\n",
       "        vertical-align: top;\n",
       "    }\n",
       "\n",
       "    .dataframe thead th {\n",
       "        text-align: right;\n",
       "    }\n",
       "</style>\n",
       "<table border=\"1\" class=\"dataframe\">\n",
       "  <thead>\n",
       "    <tr style=\"text-align: right;\">\n",
       "      <th></th>\n",
       "    </tr>\n",
       "  </thead>\n",
       "  <tbody>\n",
       "  </tbody>\n",
       "</table>\n",
       "</div>"
      ],
      "text/plain": [
       "Empty DataFrame\n",
       "Columns: []\n",
       "Index: []"
      ]
     },
     "execution_count": 30,
     "metadata": {},
     "output_type": "execute_result"
    }
   ],
   "source": [
    "%%bigquery\n",
    "CREATE OR REPLACE TABLE `statmike-mlops.digits.digits_featurestore_import` AS\n",
    "SELECT GENERATE_UUID() image_id, target_OE as target_oe, CURRENT_TIMESTAMP AS update_time, * EXCEPT(target_OE)\n",
    "FROM `statmike-mlops.digits.digits_source`"
   ]
  },
  {
   "cell_type": "markdown",
   "id": "55e26062",
   "metadata": {},
   "source": [
    "Create Feature specification for each feature in the input source:"
   ]
  },
  {
   "cell_type": "code",
   "execution_count": 31,
   "id": "c14849dc",
   "metadata": {},
   "outputs": [],
   "source": [
    "FEATURE_SPECS = []\n",
    "for i in range(schema.shape[0]):\n",
    "    FEATURE_SPECS.append(types.featurestore_service.ImportFeatureValuesRequest.FeatureSpec(id=schema['column_name'][i].lower()))"
   ]
  },
  {
   "cell_type": "code",
   "execution_count": 32,
   "id": "438cd825",
   "metadata": {},
   "outputs": [],
   "source": [
    "import_request = types.featurestore_service.ImportFeatureValuesRequest(\n",
    "    entity_type = clients['fs'].entity_type_path(PROJECT_ID, REGION, FEATURESTORE_ID, ENTITYTYPE_ID),\n",
    "    bigquery_source = types.BigQuerySource(input_uri='bq://statmike-mlops.digits.digits_featurestore_import'),\n",
    "    feature_time_field = \"update_time\",\n",
    "    feature_time = Timestamp().GetCurrentTime(),\n",
    "    entity_id_field = \"image_id\",\n",
    "    feature_specs = FEATURE_SPECS,\n",
    "    worker_count = 4,\n",
    ")"
   ]
  },
  {
   "cell_type": "code",
   "execution_count": 28,
   "id": "e4f34734",
   "metadata": {},
   "outputs": [],
   "source": [
    "importjob = clients['fs'].import_feature_values(import_request)"
   ]
  },
  {
   "cell_type": "code",
   "execution_count": 29,
   "id": "4e76d92e",
   "metadata": {},
   "outputs": [
    {
     "data": {
      "text/plain": [
       "imported_entity_count: 1797\n",
       "imported_feature_value_count: 118602"
      ]
     },
     "execution_count": 29,
     "metadata": {},
     "output_type": "execute_result"
    }
   ],
   "source": [
    "importjob.result()"
   ]
  },
  {
   "cell_type": "markdown",
   "id": "b9333bfd",
   "metadata": {},
   "source": [
    "---\n",
    "## Serving Features"
   ]
  },
  {
   "cell_type": "markdown",
   "id": "09b7b276",
   "metadata": {},
   "source": [
    "Retrieve a list of entity id's:"
   ]
  },
  {
   "cell_type": "code",
   "execution_count": 29,
   "id": "542e670d",
   "metadata": {},
   "outputs": [
    {
     "name": "stderr",
     "output_type": "stream",
     "text": [
      "Query complete after 0.00s: 100%|██████████| 1/1 [00:00<00:00, 432.18query/s]                          \n",
      "Downloading: 100%|██████████| 1797/1797 [00:01<00:00, 1623.66rows/s]\n"
     ]
    }
   ],
   "source": [
    "%%bigquery image_id\n",
    "SELECT image_id FROM `statmike-mlops.digits.digits_featurestore_import`"
   ]
  },
  {
   "cell_type": "code",
   "execution_count": 31,
   "id": "1f811373",
   "metadata": {},
   "outputs": [
    {
     "data": {
      "text/plain": [
       "['45d42286-0679-489b-b99b-379d9978d861',\n",
       " 'a0529b59-5cd3-43e3-aeb2-bfdbf60d4931',\n",
       " '4779414c-1a5e-4c5d-9b4b-328c0f818021',\n",
       " '52513cf0-a087-4304-bc16-b92db65b9cf1',\n",
       " '1d20b1b1-5d0c-4119-9007-d4d531c71d07']"
      ]
     },
     "execution_count": 31,
     "metadata": {},
     "output_type": "execute_result"
    }
   ],
   "source": [
    "id_values = list(image_id['image_id'])\n",
    "id_values[0:5]"
   ]
  },
  {
   "cell_type": "markdown",
   "id": "3c967e4f",
   "metadata": {},
   "source": [
    "### Online - One"
   ]
  },
  {
   "cell_type": "code",
   "execution_count": 32,
   "id": "2ec558d6",
   "metadata": {},
   "outputs": [],
   "source": [
    "single = clients['fs_olserve'].read_feature_values(\n",
    "    types.featurestore_online_service.ReadFeatureValuesRequest(\n",
    "        entity_type = clients['fs'].entity_type_path(PROJECT_ID, REGION, FEATURESTORE_ID, ENTITYTYPE_ID),\n",
    "        entity_id=id_values[0],\n",
    "        feature_selector = types.FeatureSelector(id_matcher=types.IdMatcher(ids=['*'])),\n",
    "    )\n",
    ")"
   ]
  },
  {
   "cell_type": "code",
   "execution_count": 33,
   "id": "8af8362e",
   "metadata": {},
   "outputs": [
    {
     "name": "stdout",
     "output_type": "stream",
     "text": [
      "['p22', 'p14', 'p13', 'p9', 'p49', 'p10', 'p38', 'p59', 'p11', 'p62', 'p20', 'p61', 'p56', 'p4', 'p50', 'p23', 'p0', 'p33', 'p26', 'p29', 'p37', 'p35', 'p45', 'p19', 'p5', 'p17', 'p36', 'p46', 'p58', 'p63', 'p34', 'p1', 'p15', 'p55', 'p12', 'p8', 'p30', 'p24', 'p40', 'p43', 'p2', 'p57', 'target', 'p25', 'p3', 'p31', 'p52', 'p47', 'p18', 'p7', 'p27', 'p16', 'p39', 'p42', 'p51', 'p6', 'p41', 'target_oe', 'p53', 'p21', 'p48', 'p44', 'p32', 'p54', 'p28', 'p60']\n"
     ]
    }
   ],
   "source": [
    "print(list(item.id for item in single.header.feature_descriptors))"
   ]
  },
  {
   "cell_type": "code",
   "execution_count": 34,
   "id": "6bab0ab5",
   "metadata": {},
   "outputs": [
    {
     "name": "stdout",
     "output_type": "stream",
     "text": [
      "[6.0, 0.0, 13.0, 0.0, 0.0, 15.0, 8.0, 10.0, 12.0, 0.0, 1.0, 3.0, 0.0, 14.0, 8.0, 0.0, 0.0, 6.0, 12.0, 8.0, 5.0, 0.0, 12.0, 4.0, 4.0, 4.0, 0.0, 8.0, 0.0, 0.0, 9.0, 0.0, 0.0, 0.0, 11.0, 0.0, 8.0, 0.0, 0.0, 1.0, 2.0, 0.0, 0.0, 4.0, 12.0, 0.0, 9.0, 0.0, 16.0, 0.0, 0.0, 0.0, 0.0, 12.0, 12.0, 0.0, 3.0, 0.0, 16.0, 14.0, 0.0, 0.0, 0.0, 3.0, 0.0, 13.0]\n"
     ]
    }
   ],
   "source": [
    "print(list(item.value.double_value for item in single.entity_view.data))"
   ]
  },
  {
   "cell_type": "markdown",
   "id": "32c2e908",
   "metadata": {},
   "source": [
    "#### Prediction"
   ]
  },
  {
   "cell_type": "code",
   "execution_count": 35,
   "id": "930cd30a",
   "metadata": {},
   "outputs": [],
   "source": [
    "from google.cloud.aiplatform_v1beta1 import (PredictionServiceClient, EndpointServiceClient)\n",
    "from google.protobuf import json_format\n",
    "from google.protobuf.struct_pb2 import Value"
   ]
  },
  {
   "cell_type": "markdown",
   "id": "b86de87e",
   "metadata": {},
   "source": [
    "Function to retrieve online features for an entity and prepare them for prediction:"
   ]
  },
  {
   "cell_type": "code",
   "execution_count": 36,
   "id": "5e15e256",
   "metadata": {},
   "outputs": [],
   "source": [
    "def fetch_single(entity_id):\n",
    "    single = clients['fs_olserve'].read_feature_values(\n",
    "        types.featurestore_online_service.ReadFeatureValuesRequest(\n",
    "            entity_type = clients['fs'].entity_type_path(PROJECT_ID, REGION, FEATURESTORE_ID, ENTITYTYPE_ID),\n",
    "            entity_id=entity_id,\n",
    "            feature_selector = types.FeatureSelector(id_matcher=types.IdMatcher(ids=['*'])),\n",
    "        )\n",
    "    )\n",
    "    \n",
    "    newob = {}\n",
    "    features = list(item.id for item in single.header.feature_descriptors)\n",
    "    for e, f in enumerate(features):\n",
    "        if f.startswith('p'):\n",
    "            newob[f] = single.entity_view.data[e].value.double_value\n",
    "    \n",
    "    return newob"
   ]
  },
  {
   "cell_type": "code",
   "execution_count": 38,
   "id": "14993dc7",
   "metadata": {},
   "outputs": [],
   "source": [
    "newob = fetch_single(id_values[0])"
   ]
  },
  {
   "cell_type": "markdown",
   "id": "ac325d2d",
   "metadata": {},
   "source": [
    "Pick an endpoint from those setup in this project (all have the same model parameters):"
   ]
  },
  {
   "cell_type": "code",
   "execution_count": 39,
   "id": "1e7ba2c9",
   "metadata": {},
   "outputs": [],
   "source": [
    "clients['endpoint'] = EndpointServiceClient(client_options=client_options)"
   ]
  },
  {
   "cell_type": "code",
   "execution_count": 40,
   "id": "125d95cd",
   "metadata": {},
   "outputs": [
    {
     "data": {
      "text/plain": [
       "[('projects/691911073727/locations/us-central1/endpoints/4598931683545186304',\n",
       "  'bq_digits_code_20210714100524'),\n",
       " ('projects/691911073727/locations/us-central1/endpoints/6904774692758880256',\n",
       "  'ENDPOINT_04_KERAS-DIGITS'),\n",
       " ('projects/691911073727/locations/us-central1/endpoints/1336073753515261952',\n",
       "  'ENDPOINT_03_BQML-DIGITS')]"
      ]
     },
     "execution_count": 40,
     "metadata": {},
     "output_type": "execute_result"
    }
   ],
   "source": [
    "list((ep.name, ep.display_name) for ep in clients['endpoint'].list_endpoints(parent=PARENT))"
   ]
  },
  {
   "cell_type": "code",
   "execution_count": 41,
   "id": "4b3bcbe6",
   "metadata": {},
   "outputs": [
    {
     "data": {
      "text/plain": [
       "'projects/691911073727/locations/us-central1/endpoints/6904774692758880256'"
      ]
     },
     "execution_count": 41,
     "metadata": {},
     "output_type": "execute_result"
    }
   ],
   "source": [
    "ep = clients['endpoint'].list_endpoints(parent=PARENT).endpoints[1].name\n",
    "ep"
   ]
  },
  {
   "cell_type": "markdown",
   "id": "5d761cb3",
   "metadata": {},
   "source": [
    "Python: Request a prediction for the entity's features:"
   ]
  },
  {
   "cell_type": "code",
   "execution_count": 42,
   "id": "d8e33095",
   "metadata": {},
   "outputs": [],
   "source": [
    "clients['prediction'] = PredictionServiceClient(client_options=client_options)"
   ]
  },
  {
   "cell_type": "code",
   "execution_count": 43,
   "id": "d51b0413",
   "metadata": {},
   "outputs": [],
   "source": [
    "response = clients['prediction'].predict(endpoint=ep, instances=[json_format.ParseDict(newob, Value())], parameters=json_format.ParseDict({}, Value()))"
   ]
  },
  {
   "cell_type": "code",
   "execution_count": 44,
   "id": "0a82339b",
   "metadata": {},
   "outputs": [
    {
     "data": {
      "text/plain": [
       "predictions {\n",
       "  list_value {\n",
       "    values {\n",
       "      number_value: 0.999998093\n",
       "    }\n",
       "    values {\n",
       "      number_value: 3.23975326e-11\n",
       "    }\n",
       "    values {\n",
       "      number_value: 9.81113146e-08\n",
       "    }\n",
       "    values {\n",
       "      number_value: 8.48128456e-10\n",
       "    }\n",
       "    values {\n",
       "      number_value: 5.70161269e-08\n",
       "    }\n",
       "    values {\n",
       "      number_value: 5.66611646e-09\n",
       "    }\n",
       "    values {\n",
       "      number_value: 1.72426839e-09\n",
       "    }\n",
       "    values {\n",
       "      number_value: 1.39610012e-08\n",
       "    }\n",
       "    values {\n",
       "      number_value: 1.62476601e-06\n",
       "    }\n",
       "    values {\n",
       "      number_value: 1.57111018e-07\n",
       "    }\n",
       "  }\n",
       "}\n",
       "deployed_model_id: \"8112091236615061504\""
      ]
     },
     "execution_count": 44,
     "metadata": {},
     "output_type": "execute_result"
    }
   ],
   "source": [
    "response"
   ]
  },
  {
   "cell_type": "markdown",
   "id": "e610091e",
   "metadata": {},
   "source": [
    "REST: Request a prediction for the entity's features:"
   ]
  },
  {
   "cell_type": "code",
   "execution_count": 45,
   "id": "1f2e7be2",
   "metadata": {},
   "outputs": [],
   "source": [
    "import json\n",
    "with open('request.json','w') as file:\n",
    "    file.write(json.dumps({\"instances\": [newob]}))"
   ]
  },
  {
   "cell_type": "code",
   "execution_count": 47,
   "id": "ddee6b96",
   "metadata": {},
   "outputs": [
    {
     "name": "stdout",
     "output_type": "stream",
     "text": [
      "{\n",
      "  \"predictions\": [\n",
      "    [\n",
      "      0.999998093,\n",
      "      3.23975326e-11,\n",
      "      9.81113146e-08,\n",
      "      8.48128456e-10,\n",
      "      5.70161269e-08,\n",
      "      5.66611646e-09,\n",
      "      1.72426839e-09,\n",
      "      1.39610012e-08,\n",
      "      1.62476601e-06,\n",
      "      1.57111018e-07\n",
      "    ]\n",
      "  ],\n",
      "  \"deployedModelId\": \"8112091236615061504\"\n",
      "}\n"
     ]
    }
   ],
   "source": [
    "!curl -X POST \\\n",
    "-H \"Authorization: Bearer \"$(gcloud auth application-default print-access-token) \\\n",
    "-H \"Content-Type: application/json; charset=utf-8\" \\\n",
    "-d @request.json \\\n",
    "https://{API_ENDPOINT}/v1/{ep}:predict"
   ]
  },
  {
   "cell_type": "markdown",
   "id": "0f33edf9",
   "metadata": {},
   "source": [
    "CLI: Request a prediction for the entity's features:"
   ]
  },
  {
   "cell_type": "code",
   "execution_count": 48,
   "id": "468e0268",
   "metadata": {},
   "outputs": [
    {
     "name": "stdout",
     "output_type": "stream",
     "text": [
      "Using endpoint [https://us-central1-prediction-aiplatform.googleapis.com/]\n",
      "[[0.999998093, 3.23975326e-11, 9.81113146e-08, 8.48128456e-10, 5.70161269e-08, 5.66611646e-09, 1.72426839e-09, 1.39610012e-08, 1.62476601e-06, 1.57111018e-07]]\n"
     ]
    }
   ],
   "source": [
    "!gcloud beta ai endpoints predict {ep.rsplit('/',1)[-1]} --region={REGION} --json-request=request.json"
   ]
  },
  {
   "cell_type": "markdown",
   "id": "0f77d627",
   "metadata": {},
   "source": [
    "### Online - Multi"
   ]
  },
  {
   "cell_type": "code",
   "execution_count": 49,
   "id": "4b926435",
   "metadata": {},
   "outputs": [],
   "source": [
    "multi = clients['fs_olserve'].streaming_read_feature_values(\n",
    "    types.featurestore_online_service.StreamingReadFeatureValuesRequest(\n",
    "        entity_type = clients['fs'].entity_type_path(PROJECT_ID, REGION, FEATURESTORE_ID, ENTITYTYPE_ID),\n",
    "        entity_ids = id_values[0:3],\n",
    "        feature_selector = types.FeatureSelector(id_matcher=types.IdMatcher(ids=['*'])),\n",
    "    )\n",
    ")"
   ]
  },
  {
   "cell_type": "code",
   "execution_count": 50,
   "id": "db7d7a50",
   "metadata": {},
   "outputs": [
    {
     "name": "stdout",
     "output_type": "stream",
     "text": [
      "\n",
      "[]\n",
      "45d42286-0679-489b-b99b-379d9978d861\n",
      "[16.0, 0.0, 12.0, 0.0, 0.0, 8.0, 6.0, 12.0, 12.0, 15.0, 0.0, 8.0, 0.0, 0.0, 3.0, 1.0, 0.0, 11.0, 14.0, 1.0, 0.0, 4.0, 12.0, 3.0, 0.0, 0.0, 12.0, 0.0, 14.0, 13.0, 2.0, 0.0, 0.0, 4.0, 0.0, 6.0, 8.0, 0.0, 0.0, 0.0, 3.0, 0.0, 8.0, 16.0, 0.0, 12.0, 0.0, 0.0, 13.0, 0.0, 0.0, 5.0, 8.0, 9.0, 0.0, 0.0, 10.0, 4.0, 0.0, 0.0, 0.0, 9.0, 0.0, 0.0, 0.0, 4.0]\n",
      "4779414c-1a5e-4c5d-9b4b-328c0f818021\n",
      "[14.0, 0.0, 16.0, 0.0, 0.0, 9.0, 0.0, 16.0, 15.0, 6.0, 0.0, 3.0, 0.0, 0.0, 8.0, 13.0, 0.0, 14.0, 11.0, 1.0, 0.0, 15.0, 15.0, 0.0, 0.0, 0.0, 16.0, 10.0, 12.0, 16.0, 0.0, 0.0, 0.0, 1.0, 0.0, 1.0, 1.0, 0.0, 0.0, 0.0, 0.0, 15.0, 14.0, 15.0, 0.0, 16.0, 0.0, 0.0, 7.0, 0.0, 3.0, 14.0, 2.0, 16.0, 0.0, 0.0, 13.0, 0.0, 0.0, 0.0, 0.0, 16.0, 0.0, 0.0, 0.0, 0.0]\n",
      "a0529b59-5cd3-43e3-aeb2-bfdbf60d4931\n",
      "[14.0, 0.0, 8.0, 0.0, 0.0, 7.0, 3.0, 16.0, 13.0, 15.0, 0.0, 2.0, 0.0, 0.0, 4.0, 5.0, 0.0, 13.0, 12.0, 1.0, 0.0, 3.0, 15.0, 1.0, 0.0, 0.0, 12.0, 0.0, 15.0, 14.0, 2.0, 0.0, 0.0, 3.0, 0.0, 7.0, 8.0, 0.0, 0.0, 0.0, 0.0, 0.0, 8.0, 15.0, 0.0, 15.0, 0.0, 0.0, 15.0, 0.0, 3.0, 9.0, 5.0, 14.0, 0.0, 0.0, 10.0, 2.0, 0.0, 0.0, 0.0, 10.0, 0.0, 0.0, 0.0, 4.0]\n"
     ]
    }
   ],
   "source": [
    "for i in multi:\n",
    "    print(i.entity_view.entity_id)\n",
    "    print(list(item.value.double_value for item in i.entity_view.data))"
   ]
  },
  {
   "cell_type": "markdown",
   "id": "01b80602",
   "metadata": {},
   "source": [
    "### Batch (For training or large scale prediction)"
   ]
  },
  {
   "cell_type": "code",
   "execution_count": 51,
   "id": "c482c4b5",
   "metadata": {},
   "outputs": [],
   "source": [
    "from google.cloud import bigquery\n",
    "\n",
    "DESTINATION_DATASET = 'digits_training'\n",
    "\n",
    "clients['bq'] = bigquery.Client()\n",
    "dataset_id = \"{}.{}\".format(clients['bq'].project, DESTINATION_DATASET)\n",
    "dataset = bigquery.Dataset(dataset_id)\n",
    "dataset.location = REGION\n",
    "dataset = clients['bq'].create_dataset(dataset, exists_ok = True)"
   ]
  },
  {
   "cell_type": "code",
   "execution_count": 52,
   "id": "acc4299d",
   "metadata": {},
   "outputs": [],
   "source": [
    "batch_request = types.featurestore_service.ExportFeatureValuesRequest(\n",
    "    entity_type = clients['fs'].entity_type_path(PROJECT_ID, REGION, FEATURESTORE_ID, ENTITYTYPE_ID),\n",
    "    snapshot_export = types.ExportFeatureValuesRequest.SnapshotExport(snapshot_time = Timestamp().GetCurrentTime()),\n",
    "    destination = types.FeatureValueDestination(bigquery_destination = types.BigQueryDestination(output_uri='bq://statmike-mlops.digits_training.training')),\n",
    "    feature_selector = types.FeatureSelector(id_matcher=types.IdMatcher(ids=['*']))\n",
    ")"
   ]
  },
  {
   "cell_type": "code",
   "execution_count": 53,
   "id": "37c0c3c0",
   "metadata": {},
   "outputs": [],
   "source": [
    "batchjob = clients['fs'].export_feature_values(batch_request)"
   ]
  },
  {
   "cell_type": "code",
   "execution_count": 55,
   "id": "dc90d1b8",
   "metadata": {},
   "outputs": [
    {
     "data": {
      "text/plain": []
     },
     "execution_count": 55,
     "metadata": {},
     "output_type": "execute_result"
    }
   ],
   "source": [
    "batchjob.result()"
   ]
  },
  {
   "cell_type": "markdown",
   "id": "1117cd12",
   "metadata": {},
   "source": [
    "---\n",
    "## Remove Resources\n",
    "see notebook \"XX - Cleanup\""
   ]
  }
 ],
 "metadata": {
  "environment": {
   "name": "tf2-gpu.2-5.m76",
   "type": "gcloud",
   "uri": "gcr.io/deeplearning-platform-release/tf2-gpu.2-5:m76"
  },
  "kernelspec": {
   "display_name": "Python 3",
   "language": "python",
   "name": "python3"
  },
  "language_info": {
   "codemirror_mode": {
    "name": "ipython",
    "version": 3
   },
   "file_extension": ".py",
   "mimetype": "text/x-python",
   "name": "python",
   "nbconvert_exporter": "python",
   "pygments_lexer": "ipython3",
   "version": "3.7.10"
  }
 },
 "nbformat": 4,
 "nbformat_minor": 5
}
