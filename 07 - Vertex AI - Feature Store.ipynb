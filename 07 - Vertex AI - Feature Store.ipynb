{
 "cells": [
  {
   "cell_type": "markdown",
   "id": "b2fe8460",
   "metadata": {},
   "source": [
    "# Vertex AI - Feature Store\n",
    "\n",
    "**Prerequisites**\n",
    "- `00 - Initial Setup`\n",
    "- `01 - BigQuery - Data`\n",
    "- `06 - Vertex AI - Training Pipeline and Serving`\n",
    "    - for online prediction this used the endpoing defined in 06\n",
    "    \n",
    "**Resources**\n",
    "- Based on:\n",
    "    - https://cloud.google.com/vertex-ai/docs/featurestore/managing-featurestores\n",
    "- API Documentation:\n",
    "    - https://googleapis.dev/python/aiplatform/latest/aiplatform_v1beta1/services.html\n",
    "    - https://googleapis.dev/python/aiplatform/latest/aiplatform_v1beta1/featurestore_service.html\n",
    "\n",
    "**Overview**\n",
    "\n",
    "<img src=\"architectures/statmike-mlops-07.png\">\n"
   ]
  },
  {
   "cell_type": "markdown",
   "id": "bf4fb4aa",
   "metadata": {},
   "source": [
    "---\n",
    "## Setup"
   ]
  },
  {
   "cell_type": "markdown",
   "id": "b3664777",
   "metadata": {},
   "source": [
    "Update Python library for aiplatform (Vertex AI)\n",
    "- Restart the kernel: Menus > Kernel > Restart Kernel"
   ]
  },
  {
   "cell_type": "code",
   "execution_count": 9,
   "id": "f2b56f69",
   "metadata": {},
   "outputs": [],
   "source": [
    "!pip install --upgrade git+https://github.com/googleapis/python-aiplatform.git@main-test -q"
   ]
  },
  {
   "cell_type": "markdown",
   "id": "487c13d5",
   "metadata": {},
   "source": [
    "Import Libraries"
   ]
  },
  {
   "cell_type": "code",
   "execution_count": 1,
   "id": "cc8d0729",
   "metadata": {},
   "outputs": [],
   "source": [
    "from google.cloud.aiplatform_v1beta1 import (FeaturestoreOnlineServingServiceClient, FeaturestoreServiceClient, types)\n",
    "from google.protobuf.duration_pb2 import Duration\n",
    "from google.protobuf.timestamp_pb2 import Timestamp\n",
    "from google.protobuf.field_mask_pb2 import FieldMask"
   ]
  },
  {
   "cell_type": "markdown",
   "id": "56525d66",
   "metadata": {},
   "source": [
    "Setup GCP Parameters"
   ]
  },
  {
   "cell_type": "code",
   "execution_count": 2,
   "id": "6cb1edbf",
   "metadata": {},
   "outputs": [],
   "source": [
    "# Locations\n",
    "REGION = 'us-central1'\n",
    "PROJECT_ID='statmike-mlops'\n",
    "PARENT = \"projects/\" + PROJECT_ID + \"/locations/\" + REGION"
   ]
  },
  {
   "cell_type": "markdown",
   "id": "4ce8fabb",
   "metadata": {},
   "source": [
    "Clients for Feature Store:"
   ]
  },
  {
   "cell_type": "code",
   "execution_count": 3,
   "id": "61dc42d2",
   "metadata": {},
   "outputs": [],
   "source": [
    "API_ENDPOINT = \"{}-aiplatform.googleapis.com\".format(REGION)\n",
    "client_options = {\"api_endpoint\": API_ENDPOINT}\n",
    "clients = {}"
   ]
  },
  {
   "cell_type": "code",
   "execution_count": 4,
   "id": "c1c69c94",
   "metadata": {},
   "outputs": [],
   "source": [
    "clients['fs'] = FeaturestoreServiceClient(client_options=client_options)"
   ]
  },
  {
   "cell_type": "code",
   "execution_count": 5,
   "id": "f74c4d45",
   "metadata": {},
   "outputs": [],
   "source": [
    "clients['fs_olserve'] = FeaturestoreOnlineServingServiceClient(client_options=client_options)"
   ]
  },
  {
   "cell_type": "code",
   "execution_count": 6,
   "id": "610251ea",
   "metadata": {},
   "outputs": [],
   "source": [
    "BASE_RESOURCE_PATH = clients['fs'].common_location_path(PROJECT_ID, REGION)"
   ]
  },
  {
   "cell_type": "markdown",
   "id": "f4e6ea42",
   "metadata": {},
   "source": [
    "---\n",
    "## Feature Store Data model\n",
    "Feature Store organizes data with the following 3 important hierarchical concepts:\n",
    "\n",
    "Featurestore -> EntityType -> Feature\n",
    "\n",
    "- **Featurestore**: the place to store your features\n",
    "    - **EntityType**: under a Featurestore, an EntityType describes an object to be modeled, real one or virtual one.\n",
    "        - **Feature**: under an EntityType, a feature describes an attribute of the EntityType\n",
    "\n",
    "For the digits data used in these examples, the feature store will be called digits_featurestore.  The store has 1 entity type: images.  The features will be the pixels and the target values."
   ]
  },
  {
   "cell_type": "markdown",
   "id": "98abe2a3",
   "metadata": {},
   "source": [
    "---\n",
    "## Create Feature Store"
   ]
  },
  {
   "cell_type": "code",
   "execution_count": 7,
   "id": "ac57466a",
   "metadata": {},
   "outputs": [],
   "source": [
    "FEATURESTORE_ID = 'digits_featurestore'"
   ]
  },
  {
   "cell_type": "code",
   "execution_count": 8,
   "id": "8ac791cc",
   "metadata": {},
   "outputs": [],
   "source": [
    "featurestore_lro = clients['fs'].create_featurestore(\n",
    "    types.featurestore_service.CreateFeaturestoreRequest(\n",
    "        parent = BASE_RESOURCE_PATH,\n",
    "        featurestore_id = FEATURESTORE_ID,\n",
    "        featurestore=types.featurestore.Featurestore(\n",
    "            display_name=\"Featurestore for handwritten digits\",\n",
    "            online_serving_config=types.featurestore.Featurestore.OnlineServingConfig(\n",
    "                fixed_node_count=3\n",
    "            ),\n",
    "        ),\n",
    "    )\n",
    ")"
   ]
  },
  {
   "cell_type": "code",
   "execution_count": 9,
   "id": "874599d1",
   "metadata": {},
   "outputs": [
    {
     "data": {
      "text/plain": [
       "name: \"projects/691911073727/locations/us-central1/featurestores/digits_featurestore\""
      ]
     },
     "execution_count": 9,
     "metadata": {},
     "output_type": "execute_result"
    }
   ],
   "source": [
    "featurestore_lro.result()"
   ]
  },
  {
   "cell_type": "markdown",
   "id": "12a4e596",
   "metadata": {},
   "source": [
    "Use `get_featurestore` to see details of specified feature store:"
   ]
  },
  {
   "cell_type": "code",
   "execution_count": 10,
   "id": "ef7e6dae",
   "metadata": {},
   "outputs": [
    {
     "data": {
      "text/plain": [
       "name: \"projects/691911073727/locations/us-central1/featurestores/digits_featurestore\"\n",
       "create_time {\n",
       "  seconds: 1628776342\n",
       "  nanos: 168468000\n",
       "}\n",
       "update_time {\n",
       "  seconds: 1628776342\n",
       "  nanos: 231409000\n",
       "}\n",
       "etag: \"AMEw9yNvwgSM34SQwu5Kjsl-Wa32RnTt2QRNwWt1Ow27hyRmGoaZCqBTcMQnoPX5UsU=\"\n",
       "online_serving_config {\n",
       "  fixed_node_count: 3\n",
       "}\n",
       "state: STABLE"
      ]
     },
     "execution_count": 10,
     "metadata": {},
     "output_type": "execute_result"
    }
   ],
   "source": [
    "clients['fs'].get_featurestore(name=clients['fs'].featurestore_path(PROJECT_ID, REGION, FEATURESTORE_ID))"
   ]
  },
  {
   "cell_type": "markdown",
   "id": "8e1f220b",
   "metadata": {},
   "source": [
    "Use `list_featurestores` to see details of all feature stores:"
   ]
  },
  {
   "cell_type": "code",
   "execution_count": 11,
   "id": "fd5d2562",
   "metadata": {},
   "outputs": [
    {
     "data": {
      "text/plain": [
       "ListFeaturestoresPager<featurestores {\n",
       "  name: \"projects/691911073727/locations/us-central1/featurestores/digits_featurestore\"\n",
       "  create_time {\n",
       "    seconds: 1628776342\n",
       "    nanos: 168468000\n",
       "  }\n",
       "  update_time {\n",
       "    seconds: 1628776342\n",
       "    nanos: 231409000\n",
       "  }\n",
       "  etag: \"AMEw9yMvnUEelujdfpUe9a2_ZY3CrUDDwvz7TU3ncDxUTUHs7qmZwS7oNToy2Uyd5gM=\"\n",
       "  online_serving_config {\n",
       "    fixed_node_count: 3\n",
       "  }\n",
       "  state: STABLE\n",
       "}\n",
       ">"
      ]
     },
     "execution_count": 11,
     "metadata": {},
     "output_type": "execute_result"
    }
   ],
   "source": [
    "clients['fs'].list_featurestores(parent=PARENT)"
   ]
  },
  {
   "cell_type": "markdown",
   "id": "9e28b4c3",
   "metadata": {},
   "source": [
    "---\n",
    "## Create Entity Type"
   ]
  },
  {
   "cell_type": "code",
   "execution_count": 12,
   "id": "62e82c7c",
   "metadata": {},
   "outputs": [],
   "source": [
    "ENTITYTYPE_ID = 'person'"
   ]
  },
  {
   "cell_type": "code",
   "execution_count": 13,
   "id": "3e18f45a",
   "metadata": {},
   "outputs": [],
   "source": [
    "entitytype_lro = clients['fs'].create_entity_type(\n",
    "    types.featurestore_service.CreateEntityTypeRequest(\n",
    "        parent=clients['fs'].featurestore_path(PROJECT_ID, REGION, FEATURESTORE_ID),\n",
    "        entity_type_id = ENTITYTYPE_ID,\n",
    "        entity_type=types.entity_type.EntityType(\n",
    "            description=\"person entity\",\n",
    "            monitoring_config=types.featurestore_monitoring.FeaturestoreMonitoringConfig(\n",
    "                snapshot_analysis=types.featurestore_monitoring.FeaturestoreMonitoringConfig.SnapshotAnalysis(\n",
    "                    monitoring_interval=Duration(seconds=900),  # 15 minutes\n",
    "                ),\n",
    "            ),\n",
    "        ),\n",
    "    )\n",
    ")"
   ]
  },
  {
   "cell_type": "code",
   "execution_count": 14,
   "id": "b791cab5",
   "metadata": {},
   "outputs": [
    {
     "data": {
      "text/plain": [
       "name: \"projects/691911073727/locations/us-central1/featurestores/digits_featurestore/entityTypes/person\"\n",
       "etag: \"AMEw9yONRE-R4V6Vxt2F6Ugzv28w0Vc_IzjK7mu_iaCpSnu5TpPl\""
      ]
     },
     "execution_count": 14,
     "metadata": {},
     "output_type": "execute_result"
    }
   ],
   "source": [
    "entitytype_lro.result()"
   ]
  },
  {
   "cell_type": "markdown",
   "id": "63ca84a1",
   "metadata": {},
   "source": [
    "Use `list_entity_types` to see details of all entity types:"
   ]
  },
  {
   "cell_type": "code",
   "execution_count": 15,
   "id": "ba2c7628",
   "metadata": {},
   "outputs": [
    {
     "data": {
      "text/plain": [
       "ListEntityTypesPager<entity_types {\n",
       "  name: \"projects/691911073727/locations/us-central1/featurestores/digits_featurestore/entityTypes/person\"\n",
       "  description: \"person entity\"\n",
       "  create_time {\n",
       "    seconds: 1628776474\n",
       "    nanos: 237856000\n",
       "  }\n",
       "  update_time {\n",
       "    seconds: 1628776474\n",
       "    nanos: 237856000\n",
       "  }\n",
       "  etag: \"AMEw9yNDsDPyNTPT5z4CQ6rym3Bw7mjUkREnIZTiKpqwTkn3qJUows2SXkwhf7yMr6Y=\"\n",
       "  monitoring_config {\n",
       "    snapshot_analysis {\n",
       "      monitoring_interval {\n",
       "        seconds: 86400\n",
       "      }\n",
       "    }\n",
       "  }\n",
       "}\n",
       ">"
      ]
     },
     "execution_count": 15,
     "metadata": {},
     "output_type": "execute_result"
    }
   ],
   "source": [
    "clients['fs'].list_entity_types(parent=PARENT+'/featurestores/{}'.format(FEATURESTORE_ID))"
   ]
  },
  {
   "cell_type": "markdown",
   "id": "41d55179",
   "metadata": {},
   "source": [
    "---\n",
    "## Create Features"
   ]
  },
  {
   "cell_type": "markdown",
   "id": "8eecc9eb",
   "metadata": {},
   "source": [
    "Get the schema of the data source for new features:"
   ]
  },
  {
   "cell_type": "code",
   "execution_count": 16,
   "id": "ebd5e3e2",
   "metadata": {},
   "outputs": [
    {
     "name": "stderr",
     "output_type": "stream",
     "text": [
      "Query complete after 0.00s: 100%|██████████| 1/1 [00:00<00:00, 664.29query/s]                          \n",
      "Downloading: 100%|██████████| 66/66 [00:01<00:00, 58.14rows/s]\n"
     ]
    }
   ],
   "source": [
    "%%bigquery schema\n",
    "SELECT * \n",
    "FROM `statmike-mlops.digits.INFORMATION_SCHEMA.COLUMN_FIELD_PATHS`\n",
    "WHERE table_name = 'digits_source'"
   ]
  },
  {
   "cell_type": "code",
   "execution_count": 17,
   "id": "5c9f2050",
   "metadata": {},
   "outputs": [
    {
     "data": {
      "text/html": [
       "<div>\n",
       "<style scoped>\n",
       "    .dataframe tbody tr th:only-of-type {\n",
       "        vertical-align: middle;\n",
       "    }\n",
       "\n",
       "    .dataframe tbody tr th {\n",
       "        vertical-align: top;\n",
       "    }\n",
       "\n",
       "    .dataframe thead th {\n",
       "        text-align: right;\n",
       "    }\n",
       "</style>\n",
       "<table border=\"1\" class=\"dataframe\">\n",
       "  <thead>\n",
       "    <tr style=\"text-align: right;\">\n",
       "      <th></th>\n",
       "      <th>table_catalog</th>\n",
       "      <th>table_schema</th>\n",
       "      <th>table_name</th>\n",
       "      <th>column_name</th>\n",
       "      <th>field_path</th>\n",
       "      <th>data_type</th>\n",
       "      <th>description</th>\n",
       "    </tr>\n",
       "  </thead>\n",
       "  <tbody>\n",
       "    <tr>\n",
       "      <th>0</th>\n",
       "      <td>statmike-mlops</td>\n",
       "      <td>digits</td>\n",
       "      <td>digits_source</td>\n",
       "      <td>p0</td>\n",
       "      <td>p0</td>\n",
       "      <td>FLOAT64</td>\n",
       "      <td>None</td>\n",
       "    </tr>\n",
       "    <tr>\n",
       "      <th>1</th>\n",
       "      <td>statmike-mlops</td>\n",
       "      <td>digits</td>\n",
       "      <td>digits_source</td>\n",
       "      <td>p1</td>\n",
       "      <td>p1</td>\n",
       "      <td>FLOAT64</td>\n",
       "      <td>None</td>\n",
       "    </tr>\n",
       "    <tr>\n",
       "      <th>2</th>\n",
       "      <td>statmike-mlops</td>\n",
       "      <td>digits</td>\n",
       "      <td>digits_source</td>\n",
       "      <td>p2</td>\n",
       "      <td>p2</td>\n",
       "      <td>FLOAT64</td>\n",
       "      <td>None</td>\n",
       "    </tr>\n",
       "    <tr>\n",
       "      <th>3</th>\n",
       "      <td>statmike-mlops</td>\n",
       "      <td>digits</td>\n",
       "      <td>digits_source</td>\n",
       "      <td>p3</td>\n",
       "      <td>p3</td>\n",
       "      <td>FLOAT64</td>\n",
       "      <td>None</td>\n",
       "    </tr>\n",
       "    <tr>\n",
       "      <th>4</th>\n",
       "      <td>statmike-mlops</td>\n",
       "      <td>digits</td>\n",
       "      <td>digits_source</td>\n",
       "      <td>p4</td>\n",
       "      <td>p4</td>\n",
       "      <td>FLOAT64</td>\n",
       "      <td>None</td>\n",
       "    </tr>\n",
       "    <tr>\n",
       "      <th>...</th>\n",
       "      <td>...</td>\n",
       "      <td>...</td>\n",
       "      <td>...</td>\n",
       "      <td>...</td>\n",
       "      <td>...</td>\n",
       "      <td>...</td>\n",
       "      <td>...</td>\n",
       "    </tr>\n",
       "    <tr>\n",
       "      <th>61</th>\n",
       "      <td>statmike-mlops</td>\n",
       "      <td>digits</td>\n",
       "      <td>digits_source</td>\n",
       "      <td>p61</td>\n",
       "      <td>p61</td>\n",
       "      <td>FLOAT64</td>\n",
       "      <td>None</td>\n",
       "    </tr>\n",
       "    <tr>\n",
       "      <th>62</th>\n",
       "      <td>statmike-mlops</td>\n",
       "      <td>digits</td>\n",
       "      <td>digits_source</td>\n",
       "      <td>p62</td>\n",
       "      <td>p62</td>\n",
       "      <td>FLOAT64</td>\n",
       "      <td>None</td>\n",
       "    </tr>\n",
       "    <tr>\n",
       "      <th>63</th>\n",
       "      <td>statmike-mlops</td>\n",
       "      <td>digits</td>\n",
       "      <td>digits_source</td>\n",
       "      <td>p63</td>\n",
       "      <td>p63</td>\n",
       "      <td>FLOAT64</td>\n",
       "      <td>None</td>\n",
       "    </tr>\n",
       "    <tr>\n",
       "      <th>64</th>\n",
       "      <td>statmike-mlops</td>\n",
       "      <td>digits</td>\n",
       "      <td>digits_source</td>\n",
       "      <td>target</td>\n",
       "      <td>target</td>\n",
       "      <td>INT64</td>\n",
       "      <td>None</td>\n",
       "    </tr>\n",
       "    <tr>\n",
       "      <th>65</th>\n",
       "      <td>statmike-mlops</td>\n",
       "      <td>digits</td>\n",
       "      <td>digits_source</td>\n",
       "      <td>target_OE</td>\n",
       "      <td>target_OE</td>\n",
       "      <td>STRING</td>\n",
       "      <td>None</td>\n",
       "    </tr>\n",
       "  </tbody>\n",
       "</table>\n",
       "<p>66 rows × 7 columns</p>\n",
       "</div>"
      ],
      "text/plain": [
       "     table_catalog table_schema     table_name column_name field_path  \\\n",
       "0   statmike-mlops       digits  digits_source          p0         p0   \n",
       "1   statmike-mlops       digits  digits_source          p1         p1   \n",
       "2   statmike-mlops       digits  digits_source          p2         p2   \n",
       "3   statmike-mlops       digits  digits_source          p3         p3   \n",
       "4   statmike-mlops       digits  digits_source          p4         p4   \n",
       "..             ...          ...            ...         ...        ...   \n",
       "61  statmike-mlops       digits  digits_source         p61        p61   \n",
       "62  statmike-mlops       digits  digits_source         p62        p62   \n",
       "63  statmike-mlops       digits  digits_source         p63        p63   \n",
       "64  statmike-mlops       digits  digits_source      target     target   \n",
       "65  statmike-mlops       digits  digits_source   target_OE  target_OE   \n",
       "\n",
       "   data_type description  \n",
       "0    FLOAT64        None  \n",
       "1    FLOAT64        None  \n",
       "2    FLOAT64        None  \n",
       "3    FLOAT64        None  \n",
       "4    FLOAT64        None  \n",
       "..       ...         ...  \n",
       "61   FLOAT64        None  \n",
       "62   FLOAT64        None  \n",
       "63   FLOAT64        None  \n",
       "64     INT64        None  \n",
       "65    STRING        None  \n",
       "\n",
       "[66 rows x 7 columns]"
      ]
     },
     "execution_count": 17,
     "metadata": {},
     "output_type": "execute_result"
    }
   ],
   "source": [
    "schema"
   ]
  },
  {
   "cell_type": "markdown",
   "id": "56cb1a32",
   "metadata": {},
   "source": [
    "Prepare a request for `batch_create_features`:\n",
    "- specification for the features, data type and descriptions ...."
   ]
  },
  {
   "cell_type": "code",
   "execution_count": 18,
   "id": "84927fbf",
   "metadata": {},
   "outputs": [],
   "source": [
    "REQUESTS = []\n",
    "for i in range(schema.shape[0]):\n",
    "    \n",
    "    if schema['data_type'][i] == 'STRING': value_type = types.feature.Feature.ValueType.STRING\n",
    "    elif schema['data_type'][i] == 'INT64': value_type = types.feature.Feature.ValueType.INT64\n",
    "    elif schema['data_type'][i] == 'FLOAT64': value_type = types.feature.Feature.ValueType.DOUBLE\n",
    "    \n",
    "    if schema['description'][i] == None: description = schema['column_name'][i]\n",
    "    else: description = schema['description'][i]\n",
    "    \n",
    "    REQUESTS.append(\n",
    "        types.featurestore_service.CreateFeatureRequest(\n",
    "            feature=types.feature.Feature(\n",
    "                value_type = value_type,\n",
    "                description = description,\n",
    "                # optional, monitoring_config here as override, otherwise it inherits from entity_type\n",
    "            ),\n",
    "            feature_id = schema['column_name'][i].lower(),\n",
    "        )    \n",
    "    )"
   ]
  },
  {
   "cell_type": "code",
   "execution_count": 19,
   "id": "6a788a3e",
   "metadata": {},
   "outputs": [],
   "source": [
    "batchfeatures = clients['fs'].batch_create_features(\n",
    "    parent = clients['fs'].entity_type_path(PROJECT_ID, REGION, FEATURESTORE_ID, ENTITYTYPE_ID),\n",
    "    requests = REQUESTS,\n",
    ")"
   ]
  },
  {
   "cell_type": "code",
   "execution_count": 20,
   "id": "591e90e4",
   "metadata": {},
   "outputs": [
    {
     "data": {
      "text/plain": [
       "['projects/691911073727/locations/us-central1/featurestores/digits_featurestore/entityTypes/person/features/p0',\n",
       " 'projects/691911073727/locations/us-central1/featurestores/digits_featurestore/entityTypes/person/features/p1',\n",
       " 'projects/691911073727/locations/us-central1/featurestores/digits_featurestore/entityTypes/person/features/p2',\n",
       " 'projects/691911073727/locations/us-central1/featurestores/digits_featurestore/entityTypes/person/features/p3',\n",
       " 'projects/691911073727/locations/us-central1/featurestores/digits_featurestore/entityTypes/person/features/p4',\n",
       " 'projects/691911073727/locations/us-central1/featurestores/digits_featurestore/entityTypes/person/features/p5',\n",
       " 'projects/691911073727/locations/us-central1/featurestores/digits_featurestore/entityTypes/person/features/p6',\n",
       " 'projects/691911073727/locations/us-central1/featurestores/digits_featurestore/entityTypes/person/features/p7',\n",
       " 'projects/691911073727/locations/us-central1/featurestores/digits_featurestore/entityTypes/person/features/p8',\n",
       " 'projects/691911073727/locations/us-central1/featurestores/digits_featurestore/entityTypes/person/features/p9',\n",
       " 'projects/691911073727/locations/us-central1/featurestores/digits_featurestore/entityTypes/person/features/p10',\n",
       " 'projects/691911073727/locations/us-central1/featurestores/digits_featurestore/entityTypes/person/features/p11',\n",
       " 'projects/691911073727/locations/us-central1/featurestores/digits_featurestore/entityTypes/person/features/p12',\n",
       " 'projects/691911073727/locations/us-central1/featurestores/digits_featurestore/entityTypes/person/features/p13',\n",
       " 'projects/691911073727/locations/us-central1/featurestores/digits_featurestore/entityTypes/person/features/p14',\n",
       " 'projects/691911073727/locations/us-central1/featurestores/digits_featurestore/entityTypes/person/features/p15',\n",
       " 'projects/691911073727/locations/us-central1/featurestores/digits_featurestore/entityTypes/person/features/p16',\n",
       " 'projects/691911073727/locations/us-central1/featurestores/digits_featurestore/entityTypes/person/features/p17',\n",
       " 'projects/691911073727/locations/us-central1/featurestores/digits_featurestore/entityTypes/person/features/p18',\n",
       " 'projects/691911073727/locations/us-central1/featurestores/digits_featurestore/entityTypes/person/features/p19',\n",
       " 'projects/691911073727/locations/us-central1/featurestores/digits_featurestore/entityTypes/person/features/p20',\n",
       " 'projects/691911073727/locations/us-central1/featurestores/digits_featurestore/entityTypes/person/features/p21',\n",
       " 'projects/691911073727/locations/us-central1/featurestores/digits_featurestore/entityTypes/person/features/p22',\n",
       " 'projects/691911073727/locations/us-central1/featurestores/digits_featurestore/entityTypes/person/features/p23',\n",
       " 'projects/691911073727/locations/us-central1/featurestores/digits_featurestore/entityTypes/person/features/p24',\n",
       " 'projects/691911073727/locations/us-central1/featurestores/digits_featurestore/entityTypes/person/features/p25',\n",
       " 'projects/691911073727/locations/us-central1/featurestores/digits_featurestore/entityTypes/person/features/p26',\n",
       " 'projects/691911073727/locations/us-central1/featurestores/digits_featurestore/entityTypes/person/features/p27',\n",
       " 'projects/691911073727/locations/us-central1/featurestores/digits_featurestore/entityTypes/person/features/p28',\n",
       " 'projects/691911073727/locations/us-central1/featurestores/digits_featurestore/entityTypes/person/features/p29',\n",
       " 'projects/691911073727/locations/us-central1/featurestores/digits_featurestore/entityTypes/person/features/p30',\n",
       " 'projects/691911073727/locations/us-central1/featurestores/digits_featurestore/entityTypes/person/features/p31',\n",
       " 'projects/691911073727/locations/us-central1/featurestores/digits_featurestore/entityTypes/person/features/p32',\n",
       " 'projects/691911073727/locations/us-central1/featurestores/digits_featurestore/entityTypes/person/features/p33',\n",
       " 'projects/691911073727/locations/us-central1/featurestores/digits_featurestore/entityTypes/person/features/p34',\n",
       " 'projects/691911073727/locations/us-central1/featurestores/digits_featurestore/entityTypes/person/features/p35',\n",
       " 'projects/691911073727/locations/us-central1/featurestores/digits_featurestore/entityTypes/person/features/p36',\n",
       " 'projects/691911073727/locations/us-central1/featurestores/digits_featurestore/entityTypes/person/features/p37',\n",
       " 'projects/691911073727/locations/us-central1/featurestores/digits_featurestore/entityTypes/person/features/p38',\n",
       " 'projects/691911073727/locations/us-central1/featurestores/digits_featurestore/entityTypes/person/features/p39',\n",
       " 'projects/691911073727/locations/us-central1/featurestores/digits_featurestore/entityTypes/person/features/p40',\n",
       " 'projects/691911073727/locations/us-central1/featurestores/digits_featurestore/entityTypes/person/features/p41',\n",
       " 'projects/691911073727/locations/us-central1/featurestores/digits_featurestore/entityTypes/person/features/p42',\n",
       " 'projects/691911073727/locations/us-central1/featurestores/digits_featurestore/entityTypes/person/features/p43',\n",
       " 'projects/691911073727/locations/us-central1/featurestores/digits_featurestore/entityTypes/person/features/p44',\n",
       " 'projects/691911073727/locations/us-central1/featurestores/digits_featurestore/entityTypes/person/features/p45',\n",
       " 'projects/691911073727/locations/us-central1/featurestores/digits_featurestore/entityTypes/person/features/p46',\n",
       " 'projects/691911073727/locations/us-central1/featurestores/digits_featurestore/entityTypes/person/features/p47',\n",
       " 'projects/691911073727/locations/us-central1/featurestores/digits_featurestore/entityTypes/person/features/p48',\n",
       " 'projects/691911073727/locations/us-central1/featurestores/digits_featurestore/entityTypes/person/features/p49',\n",
       " 'projects/691911073727/locations/us-central1/featurestores/digits_featurestore/entityTypes/person/features/p50',\n",
       " 'projects/691911073727/locations/us-central1/featurestores/digits_featurestore/entityTypes/person/features/p51',\n",
       " 'projects/691911073727/locations/us-central1/featurestores/digits_featurestore/entityTypes/person/features/p52',\n",
       " 'projects/691911073727/locations/us-central1/featurestores/digits_featurestore/entityTypes/person/features/p53',\n",
       " 'projects/691911073727/locations/us-central1/featurestores/digits_featurestore/entityTypes/person/features/p54',\n",
       " 'projects/691911073727/locations/us-central1/featurestores/digits_featurestore/entityTypes/person/features/p55',\n",
       " 'projects/691911073727/locations/us-central1/featurestores/digits_featurestore/entityTypes/person/features/p56',\n",
       " 'projects/691911073727/locations/us-central1/featurestores/digits_featurestore/entityTypes/person/features/p57',\n",
       " 'projects/691911073727/locations/us-central1/featurestores/digits_featurestore/entityTypes/person/features/p58',\n",
       " 'projects/691911073727/locations/us-central1/featurestores/digits_featurestore/entityTypes/person/features/p59',\n",
       " 'projects/691911073727/locations/us-central1/featurestores/digits_featurestore/entityTypes/person/features/p60',\n",
       " 'projects/691911073727/locations/us-central1/featurestores/digits_featurestore/entityTypes/person/features/p61',\n",
       " 'projects/691911073727/locations/us-central1/featurestores/digits_featurestore/entityTypes/person/features/p62',\n",
       " 'projects/691911073727/locations/us-central1/featurestores/digits_featurestore/entityTypes/person/features/p63',\n",
       " 'projects/691911073727/locations/us-central1/featurestores/digits_featurestore/entityTypes/person/features/target',\n",
       " 'projects/691911073727/locations/us-central1/featurestores/digits_featurestore/entityTypes/person/features/target_oe']"
      ]
     },
     "execution_count": 20,
     "metadata": {},
     "output_type": "execute_result"
    }
   ],
   "source": [
    "list(item.name for item in batchfeatures.result().features)"
   ]
  },
  {
   "cell_type": "markdown",
   "id": "834885e2",
   "metadata": {},
   "source": [
    "---\n",
    "## Search Features\n",
    "Search goes across all Feature Stores and Entity Types.\n",
    "\n",
    "Also, use the list_features function to list all."
   ]
  },
  {
   "cell_type": "code",
   "execution_count": 21,
   "id": "ce767225",
   "metadata": {},
   "outputs": [
    {
     "data": {
      "text/plain": [
       "name: \"projects/691911073727/locations/us-central1/featurestores/digits_featurestore/entityTypes/person/features/p0\"\n",
       "description: \"p0\"\n",
       "create_time {\n",
       "  seconds: 1628776601\n",
       "  nanos: 645000\n",
       "}\n",
       "update_time {\n",
       "  seconds: 1628776601\n",
       "  nanos: 645000\n",
       "}"
      ]
     },
     "execution_count": 21,
     "metadata": {},
     "output_type": "execute_result"
    }
   ],
   "source": [
    "# return the first feature:\n",
    "list(clients['fs'].search_features(location=BASE_RESOURCE_PATH))[0]"
   ]
  },
  {
   "cell_type": "code",
   "execution_count": 22,
   "id": "06531ec6",
   "metadata": {},
   "outputs": [
    {
     "data": {
      "text/plain": [
       "[name: \"projects/691911073727/locations/us-central1/featurestores/digits_featurestore/entityTypes/person/features/target\"\n",
       " description: \"target\"\n",
       " create_time {\n",
       "   seconds: 1628776601\n",
       "   nanos: 90387000\n",
       " }\n",
       " update_time {\n",
       "   seconds: 1628776601\n",
       "   nanos: 90387000\n",
       " }]"
      ]
     },
     "execution_count": 22,
     "metadata": {},
     "output_type": "execute_result"
    }
   ],
   "source": [
    "# find all features with INT64 value type\n",
    "list(clients['fs'].search_features(types.featurestore_service.SearchFeaturesRequest(location=BASE_RESOURCE_PATH, query=\"value_type=INT64\")))"
   ]
  },
  {
   "cell_type": "code",
   "execution_count": 23,
   "id": "58ad122e",
   "metadata": {},
   "outputs": [
    {
     "data": {
      "text/plain": [
       "[name: \"projects/691911073727/locations/us-central1/featurestores/digits_featurestore/entityTypes/person/features/p6\"\n",
       " description: \"p6\"\n",
       " create_time {\n",
       "   seconds: 1628776601\n",
       "   nanos: 9434000\n",
       " }\n",
       " update_time {\n",
       "   seconds: 1628776601\n",
       "   nanos: 9434000\n",
       " },\n",
       " name: \"projects/691911073727/locations/us-central1/featurestores/digits_featurestore/entityTypes/person/features/p60\"\n",
       " description: \"p60\"\n",
       " create_time {\n",
       "   seconds: 1628776601\n",
       "   nanos: 84773000\n",
       " }\n",
       " update_time {\n",
       "   seconds: 1628776601\n",
       "   nanos: 84773000\n",
       " },\n",
       " name: \"projects/691911073727/locations/us-central1/featurestores/digits_featurestore/entityTypes/person/features/p61\"\n",
       " description: \"p61\"\n",
       " create_time {\n",
       "   seconds: 1628776601\n",
       "   nanos: 85808000\n",
       " }\n",
       " update_time {\n",
       "   seconds: 1628776601\n",
       "   nanos: 85808000\n",
       " },\n",
       " name: \"projects/691911073727/locations/us-central1/featurestores/digits_featurestore/entityTypes/person/features/p62\"\n",
       " description: \"p62\"\n",
       " create_time {\n",
       "   seconds: 1628776601\n",
       "   nanos: 87419000\n",
       " }\n",
       " update_time {\n",
       "   seconds: 1628776601\n",
       "   nanos: 87419000\n",
       " },\n",
       " name: \"projects/691911073727/locations/us-central1/featurestores/digits_featurestore/entityTypes/person/features/p63\"\n",
       " description: \"p63\"\n",
       " create_time {\n",
       "   seconds: 1628776601\n",
       "   nanos: 89185000\n",
       " }\n",
       " update_time {\n",
       "   seconds: 1628776601\n",
       "   nanos: 89185000\n",
       " }]"
      ]
     },
     "execution_count": 23,
     "metadata": {},
     "output_type": "execute_result"
    }
   ],
   "source": [
    "# find all features of the form p6* with DOUBLE value type\n",
    "list(clients['fs'].search_features(types.featurestore_service.SearchFeaturesRequest(location=BASE_RESOURCE_PATH, query=\"feature_id:p6* AND value_type=DOUBLE\")))"
   ]
  },
  {
   "cell_type": "markdown",
   "id": "64a51a41",
   "metadata": {},
   "source": [
    "---\n",
    "## Import Feature Values\n",
    "- BigQuery (THIS DEMO)\n",
    "- Avro\n",
    "- CSV"
   ]
  },
  {
   "cell_type": "markdown",
   "id": "d0cf65bc",
   "metadata": {},
   "source": [
    "Prepare a source table with timestamp (update_time) and unique id's (image_id) for each entity"
   ]
  },
  {
   "cell_type": "code",
   "execution_count": 26,
   "id": "ea7a873e",
   "metadata": {},
   "outputs": [
    {
     "name": "stderr",
     "output_type": "stream",
     "text": [
      "Query complete after 0.00s: 100%|██████████| 3/3 [00:00<00:00, 2018.76query/s]                        \n"
     ]
    },
    {
     "data": {
      "text/html": [
       "<div>\n",
       "<style scoped>\n",
       "    .dataframe tbody tr th:only-of-type {\n",
       "        vertical-align: middle;\n",
       "    }\n",
       "\n",
       "    .dataframe tbody tr th {\n",
       "        vertical-align: top;\n",
       "    }\n",
       "\n",
       "    .dataframe thead th {\n",
       "        text-align: right;\n",
       "    }\n",
       "</style>\n",
       "<table border=\"1\" class=\"dataframe\">\n",
       "  <thead>\n",
       "    <tr style=\"text-align: right;\">\n",
       "      <th></th>\n",
       "    </tr>\n",
       "  </thead>\n",
       "  <tbody>\n",
       "  </tbody>\n",
       "</table>\n",
       "</div>"
      ],
      "text/plain": [
       "Empty DataFrame\n",
       "Columns: []\n",
       "Index: []"
      ]
     },
     "execution_count": 26,
     "metadata": {},
     "output_type": "execute_result"
    }
   ],
   "source": [
    "%%bigquery\n",
    "CREATE OR REPLACE TABLE `statmike-mlops.digits.digits_featurestore_import` AS\n",
    "WITH A AS (SELECT GENERATE_UUID() unique_id, target_OE as target_oe, CAST(FLOOR(10*RAND()) AS INT64) daytrick, * EXCEPT(target_OE) FROM `statmike-mlops.digits.digits_source`)\n",
    "SELECT * EXCEPT(daytrick), DATE_SUB(CURRENT_TIMESTAMP, INTERVAL daytrick DAY) AS update_time FROM A"
   ]
  },
  {
   "cell_type": "markdown",
   "id": "8d86642e",
   "metadata": {},
   "source": [
    "Create Feature specification for each feature in the input source:"
   ]
  },
  {
   "cell_type": "code",
   "execution_count": 27,
   "id": "93862989",
   "metadata": {},
   "outputs": [],
   "source": [
    "FEATURE_SPECS = []\n",
    "for i in range(schema.shape[0]):\n",
    "    FEATURE_SPECS.append(types.featurestore_service.ImportFeatureValuesRequest.FeatureSpec(id=schema['column_name'][i].lower()))"
   ]
  },
  {
   "cell_type": "code",
   "execution_count": 28,
   "id": "29280a65",
   "metadata": {},
   "outputs": [],
   "source": [
    "import_request = types.featurestore_service.ImportFeatureValuesRequest(\n",
    "    entity_type = clients['fs'].entity_type_path(PROJECT_ID, REGION, FEATURESTORE_ID, ENTITYTYPE_ID),\n",
    "    bigquery_source = types.BigQuerySource(input_uri='bq://statmike-mlops.digits.digits_featurestore_import'),\n",
    "    feature_time_field = \"update_time\",\n",
    "    feature_time = Timestamp().GetCurrentTime(),\n",
    "    entity_id_field = \"unique_id\",\n",
    "    feature_specs = FEATURE_SPECS,\n",
    "    worker_count = 4,\n",
    ")"
   ]
  },
  {
   "cell_type": "code",
   "execution_count": 29,
   "id": "21b2a84a",
   "metadata": {},
   "outputs": [],
   "source": [
    "importjob = clients['fs'].import_feature_values(import_request)"
   ]
  },
  {
   "cell_type": "code",
   "execution_count": 30,
   "id": "3a0d650b",
   "metadata": {},
   "outputs": [
    {
     "data": {
      "text/plain": [
       "imported_entity_count: 1797\n",
       "imported_feature_value_count: 118602"
      ]
     },
     "execution_count": 30,
     "metadata": {},
     "output_type": "execute_result"
    }
   ],
   "source": [
    "importjob.result()"
   ]
  },
  {
   "cell_type": "markdown",
   "id": "de10f75f",
   "metadata": {},
   "source": [
    "---\n",
    "## Serving Features"
   ]
  },
  {
   "cell_type": "markdown",
   "id": "095c510b",
   "metadata": {},
   "source": [
    "Retrieve a list of entity id's:"
   ]
  },
  {
   "cell_type": "code",
   "execution_count": 33,
   "id": "1e9e3916",
   "metadata": {},
   "outputs": [
    {
     "name": "stderr",
     "output_type": "stream",
     "text": [
      "Query complete after 0.00s: 100%|██████████| 1/1 [00:00<00:00, 936.02query/s] \n",
      "Downloading: 100%|██████████| 1797/1797 [00:00<00:00, 2011.51rows/s]\n"
     ]
    }
   ],
   "source": [
    "%%bigquery unique_id\n",
    "SELECT unique_id FROM `statmike-mlops.digits.digits_featurestore_import`"
   ]
  },
  {
   "cell_type": "code",
   "execution_count": 34,
   "id": "22e1a278",
   "metadata": {},
   "outputs": [
    {
     "data": {
      "text/plain": [
       "['9b60e611-eca0-4dc7-a632-4c717206f1d2',\n",
       " 'e8c2a463-047f-4b05-8055-8ae2e6aaed16',\n",
       " 'ca5f4898-3eea-4753-8d0d-4c07be8478df',\n",
       " '566a363c-ef06-46fa-afdc-5a1c402d1924',\n",
       " '78ca1f05-09dc-41eb-9611-971440c25b3b']"
      ]
     },
     "execution_count": 34,
     "metadata": {},
     "output_type": "execute_result"
    }
   ],
   "source": [
    "id_values = list(unique_id['unique_id'])\n",
    "id_values[0:5]"
   ]
  },
  {
   "cell_type": "markdown",
   "id": "53650890",
   "metadata": {},
   "source": [
    "### Online - One (Specific Date)"
   ]
  },
  {
   "cell_type": "code",
   "execution_count": null,
   "id": "c4cc62ff",
   "metadata": {},
   "outputs": [],
   "source": [
    "single = clients['fs_olserve'].read_feature_values(\n",
    "    types.featurestore_online_service.ReadFeatureValuesRequest(\n",
    "        entity_type = clients['fs'].entity_type_path(PROJECT_ID, REGION, FEATURESTORE_ID, ENTITYTYPE_ID),\n",
    "        entity_id=id_values[0],\n",
    "        feature_selector = types.FeatureSelector(id_matcher=types.IdMatcher(ids=['*'])),\n",
    "    )\n",
    ")"
   ]
  },
  {
   "cell_type": "markdown",
   "id": "c71cfc0d",
   "metadata": {},
   "source": [
    "### Online - One (Current Value)"
   ]
  },
  {
   "cell_type": "code",
   "execution_count": 35,
   "id": "9fc6dd81",
   "metadata": {},
   "outputs": [],
   "source": [
    "single = clients['fs_olserve'].read_feature_values(\n",
    "    types.featurestore_online_service.ReadFeatureValuesRequest(\n",
    "        entity_type = clients['fs'].entity_type_path(PROJECT_ID, REGION, FEATURESTORE_ID, ENTITYTYPE_ID),\n",
    "        entity_id=id_values[0],\n",
    "        feature_selector = types.FeatureSelector(id_matcher=types.IdMatcher(ids=['*'])),\n",
    "    )\n",
    ")"
   ]
  },
  {
   "cell_type": "code",
   "execution_count": 36,
   "id": "11854be1",
   "metadata": {},
   "outputs": [
    {
     "name": "stdout",
     "output_type": "stream",
     "text": [
      "['p31', 'p36', 'p29', 'p18', 'p16', 'p63', 'p27', 'p5', 'p61', 'p38', 'p19', 'p55', 'p12', 'p41', 'p6', 'p7', 'p14', 'p56', 'p54', 'p22', 'p60', 'p43', 'p42', 'p51', 'p39', 'p53', 'p20', 'p0', 'p47', 'p52', 'p34', 'p8', 'p32', 'p2', 'p28', 'p37', 'p58', 'p10', 'p3', 'p45', 'p25', 'p44', 'p50', 'p49', 'p13', 'p62', 'p33', 'p40', 'p1', 'p46', 'p24', 'p57', 'target_oe', 'p59', 'p21', 'p48', 'p9', 'p17', 'p23', 'p15', 'p35', 'p4', 'target', 'p11', 'p30', 'p26']\n"
     ]
    }
   ],
   "source": [
    "print(list(item.id for item in single.header.feature_descriptors))"
   ]
  },
  {
   "cell_type": "code",
   "execution_count": 37,
   "id": "1fd49b4f",
   "metadata": {},
   "outputs": [
    {
     "name": "stdout",
     "output_type": "stream",
     "text": [
      "[0.0, 0.0, 10.0, 12.0, 0.0, 0.0, 0.0, 3.0, 4.0, 7.0, 8.0, 0.0, 12.0, 2.0, 0.0, 0.0, 2.0, 0.0, 1.0, 4.0, 14.0, 4.0, 16.0, 14.0, 0.0, 15.0, 0.0, 0.0, 0.0, 16.0, 9.0, 0.0, 0.0, 0.0, 0.0, 13.0, 1.0, 8.0, 9.0, 16.0, 3.0, 7.0, 14.0, 0.0, 15.0, 0.0, 8.0, 0.0, 0.0, 5.0, 0.0, 0.0, 0.0, 12.0, 15.0, 0.0, 0.0, 0.0, 0.0, 0.0, 0.0, 13.0, 0.0, 15.0, 7.0, 13.0]\n"
     ]
    }
   ],
   "source": [
    "print(list(item.value.double_value for item in single.entity_view.data))"
   ]
  },
  {
   "cell_type": "markdown",
   "id": "4c919b4c",
   "metadata": {},
   "source": [
    "#### Prediction"
   ]
  },
  {
   "cell_type": "code",
   "execution_count": 38,
   "id": "57fb766b",
   "metadata": {},
   "outputs": [],
   "source": [
    "from google.cloud.aiplatform_v1beta1 import (PredictionServiceClient, EndpointServiceClient)\n",
    "from google.protobuf import json_format\n",
    "from google.protobuf.struct_pb2 import Value"
   ]
  },
  {
   "cell_type": "markdown",
   "id": "4ce9e26c",
   "metadata": {},
   "source": [
    "Function to retrieve online features for an entity and prepare them for prediction:"
   ]
  },
  {
   "cell_type": "code",
   "execution_count": 39,
   "id": "a7fea8f8",
   "metadata": {},
   "outputs": [],
   "source": [
    "def fetch_single(entity_id):\n",
    "    single = clients['fs_olserve'].read_feature_values(\n",
    "        types.featurestore_online_service.ReadFeatureValuesRequest(\n",
    "            entity_type = clients['fs'].entity_type_path(PROJECT_ID, REGION, FEATURESTORE_ID, ENTITYTYPE_ID),\n",
    "            entity_id=entity_id,\n",
    "            feature_selector = types.FeatureSelector(id_matcher=types.IdMatcher(ids=['*'])),\n",
    "        )\n",
    "    )\n",
    "    \n",
    "    newob = {}\n",
    "    features = list(item.id for item in single.header.feature_descriptors)\n",
    "    for e, f in enumerate(features):\n",
    "        if f.startswith('p'):\n",
    "            newob[f] = single.entity_view.data[e].value.double_value\n",
    "    \n",
    "    return newob"
   ]
  },
  {
   "cell_type": "code",
   "execution_count": 40,
   "id": "af2dafbe",
   "metadata": {},
   "outputs": [],
   "source": [
    "newob = fetch_single(id_values[0])"
   ]
  },
  {
   "cell_type": "markdown",
   "id": "36ed9f59",
   "metadata": {},
   "source": [
    "Pick an endpoint from those setup in this project (all have the same model parameters):"
   ]
  },
  {
   "cell_type": "code",
   "execution_count": 41,
   "id": "f9e5a532",
   "metadata": {},
   "outputs": [],
   "source": [
    "clients['endpoint'] = EndpointServiceClient(client_options=client_options)"
   ]
  },
  {
   "cell_type": "code",
   "execution_count": 42,
   "id": "16b485cf",
   "metadata": {},
   "outputs": [
    {
     "data": {
      "text/plain": [
       "[('projects/691911073727/locations/us-central1/endpoints/87943338036035584',\n",
       "  'ENDPOINT_06_AIP_DIGITS_20210812121445'),\n",
       " ('projects/691911073727/locations/us-central1/endpoints/2317225153584431104',\n",
       "  'ENDPOINT_05_AIP_DIGITS_20210812120620'),\n",
       " ('projects/691911073727/locations/us-central1/endpoints/2069527174079053824',\n",
       "  'ENDPOINT_04_KERAS-DIGITS'),\n",
       " ('projects/691911073727/locations/us-central1/endpoints/9095142592777027584',\n",
       "  'ENDPOINT_03_BQML-DIGITS')]"
      ]
     },
     "execution_count": 42,
     "metadata": {},
     "output_type": "execute_result"
    }
   ],
   "source": [
    "list((ep.name, ep.display_name) for ep in clients['endpoint'].list_endpoints(parent=PARENT))"
   ]
  },
  {
   "cell_type": "code",
   "execution_count": 43,
   "id": "e3e72327",
   "metadata": {},
   "outputs": [
    {
     "data": {
      "text/plain": [
       "'projects/691911073727/locations/us-central1/endpoints/2317225153584431104'"
      ]
     },
     "execution_count": 43,
     "metadata": {},
     "output_type": "execute_result"
    }
   ],
   "source": [
    "ep = clients['endpoint'].list_endpoints(parent=PARENT).endpoints[1].name\n",
    "ep"
   ]
  },
  {
   "cell_type": "markdown",
   "id": "2a2aa5c9",
   "metadata": {},
   "source": [
    "Python: Request a prediction for the entity's features:"
   ]
  },
  {
   "cell_type": "code",
   "execution_count": 44,
   "id": "e6fe199d",
   "metadata": {},
   "outputs": [],
   "source": [
    "clients['prediction'] = PredictionServiceClient(client_options=client_options)"
   ]
  },
  {
   "cell_type": "code",
   "execution_count": 45,
   "id": "438f969a",
   "metadata": {},
   "outputs": [],
   "source": [
    "response = clients['prediction'].predict(endpoint=ep, instances=[json_format.ParseDict(newob, Value())], parameters=json_format.ParseDict({}, Value()))"
   ]
  },
  {
   "cell_type": "code",
   "execution_count": 46,
   "id": "9b4d8eb9",
   "metadata": {},
   "outputs": [
    {
     "data": {
      "text/plain": [
       "predictions {\n",
       "  list_value {\n",
       "    values {\n",
       "      number_value: 0.999998927\n",
       "    }\n",
       "    values {\n",
       "      number_value: 6.41524958e-11\n",
       "    }\n",
       "    values {\n",
       "      number_value: 2.10591722e-09\n",
       "    }\n",
       "    values {\n",
       "      number_value: 3.92068626e-12\n",
       "    }\n",
       "    values {\n",
       "      number_value: 7.72907129e-07\n",
       "    }\n",
       "    values {\n",
       "      number_value: 1.84147461e-10\n",
       "    }\n",
       "    values {\n",
       "      number_value: 7.12186177e-09\n",
       "    }\n",
       "    values {\n",
       "      number_value: 2.12504569e-10\n",
       "    }\n",
       "    values {\n",
       "      number_value: 3.02985853e-07\n",
       "    }\n",
       "    values {\n",
       "      number_value: 2.69612249e-11\n",
       "    }\n",
       "  }\n",
       "}\n",
       "deployed_model_id: \"2519491312630104064\""
      ]
     },
     "execution_count": 46,
     "metadata": {},
     "output_type": "execute_result"
    }
   ],
   "source": [
    "response"
   ]
  },
  {
   "cell_type": "markdown",
   "id": "3245f5f2",
   "metadata": {},
   "source": [
    "REST: Request a prediction for the entity's features:"
   ]
  },
  {
   "cell_type": "code",
   "execution_count": 47,
   "id": "e5011528",
   "metadata": {},
   "outputs": [],
   "source": [
    "import json\n",
    "with open('request.json','w') as file:\n",
    "    file.write(json.dumps({\"instances\": [newob]}))"
   ]
  },
  {
   "cell_type": "code",
   "execution_count": 48,
   "id": "37c7478e",
   "metadata": {},
   "outputs": [
    {
     "name": "stdout",
     "output_type": "stream",
     "text": [
      "{\n",
      "  \"predictions\": [\n",
      "    [\n",
      "      0.999998927,\n",
      "      6.41524958e-11,\n",
      "      2.10591722e-09,\n",
      "      3.92068626e-12,\n",
      "      7.72907129e-07,\n",
      "      1.84147461e-10,\n",
      "      7.12186177e-09,\n",
      "      2.12504569e-10,\n",
      "      3.02985853e-07,\n",
      "      2.69612249e-11\n",
      "    ]\n",
      "  ],\n",
      "  \"deployedModelId\": \"2519491312630104064\"\n",
      "}\n"
     ]
    }
   ],
   "source": [
    "!curl -X POST \\\n",
    "-H \"Authorization: Bearer \"$(gcloud auth application-default print-access-token) \\\n",
    "-H \"Content-Type: application/json; charset=utf-8\" \\\n",
    "-d @request.json \\\n",
    "https://{API_ENDPOINT}/v1/{ep}:predict"
   ]
  },
  {
   "cell_type": "markdown",
   "id": "23b7c9e3",
   "metadata": {},
   "source": [
    "CLI: Request a prediction for the entity's features:"
   ]
  },
  {
   "cell_type": "code",
   "execution_count": 49,
   "id": "5676023a",
   "metadata": {},
   "outputs": [
    {
     "name": "stdout",
     "output_type": "stream",
     "text": [
      "Using endpoint [https://us-central1-prediction-aiplatform.googleapis.com/]\n",
      "[[0.999998927, 6.41524958e-11, 2.10591722e-09, 3.92068626e-12, 7.72907129e-07, 1.84147461e-10, 7.12186177e-09, 2.12504569e-10, 3.02985853e-07, 2.69612249e-11]]\n"
     ]
    }
   ],
   "source": [
    "!gcloud beta ai endpoints predict {ep.rsplit('/',1)[-1]} --region={REGION} --json-request=request.json"
   ]
  },
  {
   "cell_type": "markdown",
   "id": "b8ebf75a",
   "metadata": {},
   "source": [
    "### Online - Multi"
   ]
  },
  {
   "cell_type": "code",
   "execution_count": 50,
   "id": "119ed2fb",
   "metadata": {},
   "outputs": [],
   "source": [
    "multi = clients['fs_olserve'].streaming_read_feature_values(\n",
    "    types.featurestore_online_service.StreamingReadFeatureValuesRequest(\n",
    "        entity_type = clients['fs'].entity_type_path(PROJECT_ID, REGION, FEATURESTORE_ID, ENTITYTYPE_ID),\n",
    "        entity_ids = id_values[0:3],\n",
    "        feature_selector = types.FeatureSelector(id_matcher=types.IdMatcher(ids=['*'])),\n",
    "    )\n",
    ")"
   ]
  },
  {
   "cell_type": "code",
   "execution_count": 51,
   "id": "30ff9899",
   "metadata": {},
   "outputs": [
    {
     "name": "stdout",
     "output_type": "stream",
     "text": [
      "\n",
      "[]\n",
      "9b60e611-eca0-4dc7-a632-4c717206f1d2\n",
      "[0.0, 0.0, 0.0, 1.0, 15.0, 4.0, 2.0, 9.0, 1.0, 14.0, 0.0, 13.0, 0.0, 0.0, 3.0, 15.0, 10.0, 0.0, 16.0, 0.0, 0.0, 7.0, 0.0, 0.0, 4.0, 8.0, 12.0, 0.0, 0.0, 0.0, 0.0, 0.0, 14.0, 0.0, 9.0, 0.0, 14.0, 13.0, 0.0, 15.0, 3.0, 8.0, 0.0, 0.0, 7.0, 0.0, 0.0, 15.0, 5.0, 0.0, 16.0, 12.0, 0.0, 2.0, 12.0, 0.0, 13.0, 8.0, 0.0, 0.0, 0.0, 0.0, 16.0, 0.0, 7.0, 4.0]\n",
      "ca5f4898-3eea-4753-8d0d-4c07be8478df\n",
      "[0.0, 0.0, 0.0, 3.0, 13.0, 6.0, 2.0, 9.0, 1.0, 11.0, 0.0, 9.0, 0.0, 0.0, 4.0, 13.0, 6.0, 0.0, 9.0, 0.0, 0.0, 0.0, 0.0, 0.0, 1.0, 10.0, 4.0, 0.0, 0.0, 0.0, 0.0, 2.0, 6.0, 0.0, 8.0, 0.0, 16.0, 8.0, 0.0, 13.0, 6.0, 5.0, 0.0, 0.0, 7.0, 0.0, 0.0, 10.0, 5.0, 0.0, 11.0, 14.0, 0.0, 2.0, 11.0, 0.0, 14.0, 0.0, 0.0, 0.0, 0.0, 0.0, 4.0, 0.0, 8.0, 12.0]\n",
      "e8c2a463-047f-4b05-8055-8ae2e6aaed16\n",
      "[0.0, 0.0, 0.0, 1.0, 16.0, 1.0, 0.0, 10.0, 2.0, 16.0, 0.0, 16.0, 0.0, 0.0, 5.0, 14.0, 14.0, 6.0, 16.0, 0.0, 0.0, 5.0, 0.0, 0.0, 1.0, 8.0, 14.0, 0.0, 0.0, 0.0, 0.0, 3.0, 10.0, 0.0, 16.0, 0.0, 13.0, 15.0, 0.0, 12.0, 3.0, 6.0, 0.0, 0.0, 4.0, 0.0, 0.0, 14.0, 4.0, 0.0, 13.0, 16.0, 0.0, 2.0, 11.0, 0.0, 13.0, 13.0, 0.0, 0.0, 0.0, 0.0, 16.0, 0.0, 5.0, 6.0]\n"
     ]
    }
   ],
   "source": [
    "for i in multi:\n",
    "    print(i.entity_view.entity_id)\n",
    "    print(list(item.value.double_value for item in i.entity_view.data))"
   ]
  },
  {
   "cell_type": "markdown",
   "id": "33ead18a",
   "metadata": {},
   "source": [
    "### Batch (For training or large scale prediction)"
   ]
  },
  {
   "cell_type": "code",
   "execution_count": 52,
   "id": "2947e79c",
   "metadata": {},
   "outputs": [],
   "source": [
    "from google.cloud import bigquery\n",
    "\n",
    "DESTINATION_DATASET = 'digits_training'\n",
    "\n",
    "clients['bq'] = bigquery.Client()\n",
    "dataset_id = \"{}.{}\".format(clients['bq'].project, DESTINATION_DATASET)\n",
    "dataset = bigquery.Dataset(dataset_id)\n",
    "dataset.location = REGION\n",
    "dataset = clients['bq'].create_dataset(dataset, exists_ok = True)"
   ]
  },
  {
   "cell_type": "code",
   "execution_count": 53,
   "id": "72e7d63e",
   "metadata": {},
   "outputs": [],
   "source": [
    "batch_request = types.featurestore_service.ExportFeatureValuesRequest(\n",
    "    entity_type = clients['fs'].entity_type_path(PROJECT_ID, REGION, FEATURESTORE_ID, ENTITYTYPE_ID),\n",
    "    snapshot_export = types.ExportFeatureValuesRequest.SnapshotExport(snapshot_time = Timestamp().GetCurrentTime()),\n",
    "    destination = types.FeatureValueDestination(bigquery_destination = types.BigQueryDestination(output_uri='bq://statmike-mlops.digits_training.training')),\n",
    "    feature_selector = types.FeatureSelector(id_matcher=types.IdMatcher(ids=['*']))\n",
    ")"
   ]
  },
  {
   "cell_type": "code",
   "execution_count": 54,
   "id": "32acb722",
   "metadata": {},
   "outputs": [],
   "source": [
    "batchjob = clients['fs'].export_feature_values(batch_request)"
   ]
  },
  {
   "cell_type": "code",
   "execution_count": 55,
   "id": "f94487d7",
   "metadata": {},
   "outputs": [
    {
     "data": {
      "text/plain": []
     },
     "execution_count": 55,
     "metadata": {},
     "output_type": "execute_result"
    }
   ],
   "source": [
    "batchjob.result()"
   ]
  },
  {
   "cell_type": "markdown",
   "id": "dbaf3d91",
   "metadata": {},
   "source": [
    "---\n",
    "## Remove Resources\n",
    "see notebook \"XX - Cleanup\""
   ]
  }
 ],
 "metadata": {
  "environment": {
   "name": "tf2-gpu.2-5.m76",
   "type": "gcloud",
   "uri": "gcr.io/deeplearning-platform-release/tf2-gpu.2-5:m76"
  },
  "kernelspec": {
   "display_name": "Python 3",
   "language": "python",
   "name": "python3"
  },
  "language_info": {
   "codemirror_mode": {
    "name": "ipython",
    "version": 3
   },
   "file_extension": ".py",
   "mimetype": "text/x-python",
   "name": "python",
   "nbconvert_exporter": "python",
   "pygments_lexer": "ipython3",
   "version": "3.7.10"
  }
 },
 "nbformat": 4,
 "nbformat_minor": 5
}
