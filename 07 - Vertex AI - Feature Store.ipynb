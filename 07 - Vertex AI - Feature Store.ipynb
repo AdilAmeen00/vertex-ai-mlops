{
 "cells": [
  {
   "cell_type": "markdown",
   "id": "f37f80fb",
   "metadata": {},
   "source": [
    "# Vertex AI - Feature Store\n",
    "\n",
    "**Prerequisites**\n",
    "- `00 - Initial Setup`\n",
    "- `01 - BigQuery - Data`\n",
    "- `06 - Vertex AI - Training Pipeline and Serving`\n",
    "    - for online prediction this used the endpoing defined in 06\n",
    "    \n",
    "**Resources**\n",
    "- Based on:\n",
    "    - https://cloud.google.com/vertex-ai/docs/featurestore/managing-featurestores\n",
    "- API Documentation:\n",
    "    - https://googleapis.dev/python/aiplatform/latest/aiplatform_v1beta1/services.html\n",
    "    - https://googleapis.dev/python/aiplatform/latest/aiplatform_v1beta1/featurestore_service.html\n",
    "\n",
    "**Overview**\n",
    "\n",
    "<img src=\"architectures/statmike-mlops-07.png\">\n"
   ]
  },
  {
   "cell_type": "markdown",
   "id": "53148a8d",
   "metadata": {},
   "source": [
    "---\n",
    "## Setup"
   ]
  },
  {
   "cell_type": "markdown",
   "id": "191a5b9f",
   "metadata": {},
   "source": [
    "Update Python library for aiplatform (Vertex AI)\n",
    "- Restart the kernel: Menus > Kernel > Restart Kernel"
   ]
  },
  {
   "cell_type": "code",
   "execution_count": 2,
   "id": "b0988a71",
   "metadata": {},
   "outputs": [],
   "source": [
    "!pip install --upgrade git+https://github.com/googleapis/python-aiplatform.git@main-test -q"
   ]
  },
  {
   "cell_type": "markdown",
   "id": "8c7c3843",
   "metadata": {},
   "source": [
    "Import Libraries"
   ]
  },
  {
   "cell_type": "code",
   "execution_count": 264,
   "id": "fde6f825",
   "metadata": {},
   "outputs": [],
   "source": [
    "from google.cloud.aiplatform_v1beta1 import (FeaturestoreOnlineServingServiceClient, FeaturestoreServiceClient, types)\n",
    "from google.protobuf.duration_pb2 import Duration\n",
    "from google.protobuf.timestamp_pb2 import Timestamp\n",
    "from google.protobuf.field_mask_pb2 import FieldMask"
   ]
  },
  {
   "cell_type": "markdown",
   "id": "81c74a42",
   "metadata": {},
   "source": [
    "Setup GCP Parameters"
   ]
  },
  {
   "cell_type": "code",
   "execution_count": 265,
   "id": "a9cd0b59",
   "metadata": {},
   "outputs": [],
   "source": [
    "# Locations\n",
    "REGION = 'us-central1'\n",
    "PROJECT_ID='statmike-mlops'\n",
    "PARENT = \"projects/\" + PROJECT_ID + \"/locations/\" + REGION"
   ]
  },
  {
   "cell_type": "markdown",
   "id": "b779f6ba",
   "metadata": {},
   "source": [
    "Clients for Feature Store:"
   ]
  },
  {
   "cell_type": "code",
   "execution_count": 266,
   "id": "d2479d7a",
   "metadata": {},
   "outputs": [],
   "source": [
    "API_ENDPOINT = \"{}-aiplatform.googleapis.com\".format(REGION)\n",
    "client_options = {\"api_endpoint\": API_ENDPOINT}\n",
    "clients = {}"
   ]
  },
  {
   "cell_type": "code",
   "execution_count": 267,
   "id": "ac960c70",
   "metadata": {},
   "outputs": [],
   "source": [
    "clients['fs'] = FeaturestoreServiceClient(client_options=client_options)"
   ]
  },
  {
   "cell_type": "code",
   "execution_count": 268,
   "id": "4d9a5ce5",
   "metadata": {},
   "outputs": [],
   "source": [
    "clients['fs_olserve'] = FeaturestoreOnlineServingServiceClient(client_options=client_options)"
   ]
  },
  {
   "cell_type": "code",
   "execution_count": 269,
   "id": "24693b32",
   "metadata": {},
   "outputs": [],
   "source": [
    "BASE_RESOURCE_PATH = clients['fs'].common_location_path(PROJECT_ID, REGION)"
   ]
  },
  {
   "cell_type": "markdown",
   "id": "063586ba",
   "metadata": {},
   "source": [
    "---\n",
    "## Feature Store Data model\n",
    "Feature Store organizes data with the following 3 important hierarchical concepts:\n",
    "\n",
    "Featurestore -> EntityType -> Feature\n",
    "\n",
    "- **Featurestore**: the place to store your features\n",
    "    - **EntityType**: under a Featurestore, an EntityType describes an object to be modeled, real one or virtual one.\n",
    "        - **Feature**: under an EntityType, a feature describes an attribute of the EntityType\n",
    "\n",
    "For the digits data used in these examples, the feature store will be called digits_featurestore.  The store has 1 entity type: images.  The features will be the pixels and the target values."
   ]
  },
  {
   "cell_type": "markdown",
   "id": "20e2fc6e",
   "metadata": {},
   "source": [
    "---\n",
    "## Create Feature Store"
   ]
  },
  {
   "cell_type": "code",
   "execution_count": 284,
   "id": "3e60a8f3",
   "metadata": {},
   "outputs": [],
   "source": [
    "FEATURESTORE_ID = 'digits_featurestore'"
   ]
  },
  {
   "cell_type": "code",
   "execution_count": 285,
   "id": "1a33d78b",
   "metadata": {},
   "outputs": [],
   "source": [
    "featurestore_lro = clients['fs'].create_featurestore(\n",
    "    types.featurestore_service.CreateFeaturestoreRequest(\n",
    "        parent = BASE_RESOURCE_PATH,\n",
    "        featurestore_id = FEATURESTORE_ID,\n",
    "        featurestore=types.featurestore.Featurestore(\n",
    "            display_name=\"Featurestore for handwritten digits\",\n",
    "            online_serving_config=types.featurestore.Featurestore.OnlineServingConfig(\n",
    "                fixed_node_count=3\n",
    "            ),\n",
    "        ),\n",
    "    )\n",
    ")"
   ]
  },
  {
   "cell_type": "code",
   "execution_count": 286,
   "id": "8d58da6f",
   "metadata": {},
   "outputs": [
    {
     "data": {
      "text/plain": [
       "name: \"projects/691911073727/locations/us-central1/featurestores/digits_featurestore\""
      ]
     },
     "execution_count": 286,
     "metadata": {},
     "output_type": "execute_result"
    }
   ],
   "source": [
    "featurestore_lro.result()"
   ]
  },
  {
   "cell_type": "markdown",
   "id": "d1de0edb",
   "metadata": {},
   "source": [
    "Use `get_featurestore` to see details of specified feature store:"
   ]
  },
  {
   "cell_type": "code",
   "execution_count": 287,
   "id": "1e11229c",
   "metadata": {},
   "outputs": [
    {
     "data": {
      "text/plain": [
       "name: \"projects/691911073727/locations/us-central1/featurestores/digits_featurestore\"\n",
       "create_time {\n",
       "  seconds: 1625740410\n",
       "  nanos: 217675000\n",
       "}\n",
       "update_time {\n",
       "  seconds: 1625740410\n",
       "  nanos: 323701000\n",
       "}\n",
       "etag: \"AMEw9yOfaiqWCVy1WUDYkSNaJ2vMNDQfxzdmYQuZH-uN1QUI0mW4ckRc8l3Feyj2ztP5\"\n",
       "online_serving_config {\n",
       "  fixed_node_count: 3\n",
       "}\n",
       "state: STABLE"
      ]
     },
     "execution_count": 287,
     "metadata": {},
     "output_type": "execute_result"
    }
   ],
   "source": [
    "clients['fs'].get_featurestore(name=clients['fs'].featurestore_path(PROJECT_ID, REGION, FEATURESTORE_ID))"
   ]
  },
  {
   "cell_type": "markdown",
   "id": "c49121c9",
   "metadata": {},
   "source": [
    "Use `list_featurestores` to see details of all feature stores:"
   ]
  },
  {
   "cell_type": "code",
   "execution_count": 288,
   "id": "38331a85",
   "metadata": {},
   "outputs": [
    {
     "data": {
      "text/plain": [
       "ListFeaturestoresPager<featurestores {\n",
       "  name: \"projects/691911073727/locations/us-central1/featurestores/digits_featurestore\"\n",
       "  create_time {\n",
       "    seconds: 1625740410\n",
       "    nanos: 217675000\n",
       "  }\n",
       "  update_time {\n",
       "    seconds: 1625740410\n",
       "    nanos: 323701000\n",
       "  }\n",
       "  etag: \"AMEw9yM7U-W2SAV_EzUOOqckop01PKD8ot08yCqUv1AXB9ZjhBitTa-2I4k7o1TLPC1Z\"\n",
       "  online_serving_config {\n",
       "    fixed_node_count: 3\n",
       "  }\n",
       "  state: STABLE\n",
       "}\n",
       ">"
      ]
     },
     "execution_count": 288,
     "metadata": {},
     "output_type": "execute_result"
    }
   ],
   "source": [
    "clients['fs'].list_featurestores(parent=PARENT)"
   ]
  },
  {
   "cell_type": "markdown",
   "id": "2783fb07",
   "metadata": {},
   "source": [
    "---\n",
    "## Create Entity Type"
   ]
  },
  {
   "cell_type": "code",
   "execution_count": 289,
   "id": "4c6f9408",
   "metadata": {},
   "outputs": [],
   "source": [
    "ENTITYTYPE_ID = 'image'"
   ]
  },
  {
   "cell_type": "code",
   "execution_count": 290,
   "id": "bebb1899",
   "metadata": {},
   "outputs": [],
   "source": [
    "entitytype_lro = clients['fs'].create_entity_type(\n",
    "    types.featurestore_service.CreateEntityTypeRequest(\n",
    "        parent=clients['fs'].featurestore_path(PROJECT_ID, REGION, FEATURESTORE_ID),\n",
    "        entity_type_id = ENTITYTYPE_ID,\n",
    "        entity_type=types.entity_type.EntityType(\n",
    "            description=\"image entity for digits\",\n",
    "            monitoring_config=types.featurestore_monitoring.FeaturestoreMonitoringConfig(\n",
    "                snapshot_analysis=types.featurestore_monitoring.FeaturestoreMonitoringConfig.SnapshotAnalysis(\n",
    "                    monitoring_interval=Duration(seconds=1800),  # 30 minutes\n",
    "                ),\n",
    "            ),\n",
    "        ),\n",
    "    )\n",
    ")"
   ]
  },
  {
   "cell_type": "code",
   "execution_count": 291,
   "id": "c7c6ef77",
   "metadata": {},
   "outputs": [
    {
     "data": {
      "text/plain": [
       "name: \"projects/691911073727/locations/us-central1/featurestores/digits_featurestore/entityTypes/image\"\n",
       "etag: \"AMEw9yPVjeSXnHrtAReP42kEG00yQd4a6BF0BfDz35y8KlT6EqZE\""
      ]
     },
     "execution_count": 291,
     "metadata": {},
     "output_type": "execute_result"
    }
   ],
   "source": [
    "entitytype_lro.result()"
   ]
  },
  {
   "cell_type": "markdown",
   "id": "28914968",
   "metadata": {},
   "source": [
    "Use `list_entity_types` to see details of all entity types:"
   ]
  },
  {
   "cell_type": "code",
   "execution_count": 292,
   "id": "a828e9ac",
   "metadata": {},
   "outputs": [
    {
     "data": {
      "text/plain": [
       "ListEntityTypesPager<entity_types {\n",
       "  name: \"projects/691911073727/locations/us-central1/featurestores/digits_featurestore/entityTypes/image\"\n",
       "  description: \"image entity for digits\"\n",
       "  create_time {\n",
       "    seconds: 1625740434\n",
       "    nanos: 454728000\n",
       "  }\n",
       "  update_time {\n",
       "    seconds: 1625740434\n",
       "    nanos: 454728000\n",
       "  }\n",
       "  etag: \"AMEw9yNwwHsG--my1E-dcO7Jn9CKFhJipRsgSuBgKgIBDBvjPOYxed8KhFwKT7TB70Et\"\n",
       "  monitoring_config {\n",
       "    snapshot_analysis {\n",
       "      monitoring_interval {\n",
       "        seconds: 86400\n",
       "      }\n",
       "    }\n",
       "  }\n",
       "}\n",
       ">"
      ]
     },
     "execution_count": 292,
     "metadata": {},
     "output_type": "execute_result"
    }
   ],
   "source": [
    "clients['fs'].list_entity_types(parent=PARENT+'/featurestores/{}'.format(FEATURESTORE_ID))"
   ]
  },
  {
   "cell_type": "markdown",
   "id": "55484f69",
   "metadata": {},
   "source": [
    "---\n",
    "## Create Features"
   ]
  },
  {
   "cell_type": "markdown",
   "id": "f326e548",
   "metadata": {},
   "source": [
    "Get the schema of the data source for new features:"
   ]
  },
  {
   "cell_type": "code",
   "execution_count": 293,
   "id": "283f3a40",
   "metadata": {},
   "outputs": [
    {
     "name": "stderr",
     "output_type": "stream",
     "text": [
      "Query complete after 0.00s: 100%|██████████| 1/1 [00:00<00:00, 437.23query/s]                          \n",
      "Downloading: 100%|██████████| 66/66 [00:01<00:00, 55.18rows/s]\n"
     ]
    }
   ],
   "source": [
    "%%bigquery schema\n",
    "SELECT * \n",
    "FROM `statmike-mlops.digits.INFORMATION_SCHEMA.COLUMN_FIELD_PATHS`\n",
    "WHERE table_name = 'digits_source'"
   ]
  },
  {
   "cell_type": "code",
   "execution_count": 294,
   "id": "2aa5abe9",
   "metadata": {},
   "outputs": [
    {
     "data": {
      "text/html": [
       "<div>\n",
       "<style scoped>\n",
       "    .dataframe tbody tr th:only-of-type {\n",
       "        vertical-align: middle;\n",
       "    }\n",
       "\n",
       "    .dataframe tbody tr th {\n",
       "        vertical-align: top;\n",
       "    }\n",
       "\n",
       "    .dataframe thead th {\n",
       "        text-align: right;\n",
       "    }\n",
       "</style>\n",
       "<table border=\"1\" class=\"dataframe\">\n",
       "  <thead>\n",
       "    <tr style=\"text-align: right;\">\n",
       "      <th></th>\n",
       "      <th>table_catalog</th>\n",
       "      <th>table_schema</th>\n",
       "      <th>table_name</th>\n",
       "      <th>column_name</th>\n",
       "      <th>field_path</th>\n",
       "      <th>data_type</th>\n",
       "      <th>description</th>\n",
       "    </tr>\n",
       "  </thead>\n",
       "  <tbody>\n",
       "    <tr>\n",
       "      <th>0</th>\n",
       "      <td>statmike-mlops</td>\n",
       "      <td>digits</td>\n",
       "      <td>digits_source</td>\n",
       "      <td>p0</td>\n",
       "      <td>p0</td>\n",
       "      <td>FLOAT64</td>\n",
       "      <td>None</td>\n",
       "    </tr>\n",
       "    <tr>\n",
       "      <th>1</th>\n",
       "      <td>statmike-mlops</td>\n",
       "      <td>digits</td>\n",
       "      <td>digits_source</td>\n",
       "      <td>p1</td>\n",
       "      <td>p1</td>\n",
       "      <td>FLOAT64</td>\n",
       "      <td>None</td>\n",
       "    </tr>\n",
       "    <tr>\n",
       "      <th>2</th>\n",
       "      <td>statmike-mlops</td>\n",
       "      <td>digits</td>\n",
       "      <td>digits_source</td>\n",
       "      <td>p2</td>\n",
       "      <td>p2</td>\n",
       "      <td>FLOAT64</td>\n",
       "      <td>None</td>\n",
       "    </tr>\n",
       "    <tr>\n",
       "      <th>3</th>\n",
       "      <td>statmike-mlops</td>\n",
       "      <td>digits</td>\n",
       "      <td>digits_source</td>\n",
       "      <td>p3</td>\n",
       "      <td>p3</td>\n",
       "      <td>FLOAT64</td>\n",
       "      <td>None</td>\n",
       "    </tr>\n",
       "    <tr>\n",
       "      <th>4</th>\n",
       "      <td>statmike-mlops</td>\n",
       "      <td>digits</td>\n",
       "      <td>digits_source</td>\n",
       "      <td>p4</td>\n",
       "      <td>p4</td>\n",
       "      <td>FLOAT64</td>\n",
       "      <td>None</td>\n",
       "    </tr>\n",
       "    <tr>\n",
       "      <th>...</th>\n",
       "      <td>...</td>\n",
       "      <td>...</td>\n",
       "      <td>...</td>\n",
       "      <td>...</td>\n",
       "      <td>...</td>\n",
       "      <td>...</td>\n",
       "      <td>...</td>\n",
       "    </tr>\n",
       "    <tr>\n",
       "      <th>61</th>\n",
       "      <td>statmike-mlops</td>\n",
       "      <td>digits</td>\n",
       "      <td>digits_source</td>\n",
       "      <td>p61</td>\n",
       "      <td>p61</td>\n",
       "      <td>FLOAT64</td>\n",
       "      <td>None</td>\n",
       "    </tr>\n",
       "    <tr>\n",
       "      <th>62</th>\n",
       "      <td>statmike-mlops</td>\n",
       "      <td>digits</td>\n",
       "      <td>digits_source</td>\n",
       "      <td>p62</td>\n",
       "      <td>p62</td>\n",
       "      <td>FLOAT64</td>\n",
       "      <td>None</td>\n",
       "    </tr>\n",
       "    <tr>\n",
       "      <th>63</th>\n",
       "      <td>statmike-mlops</td>\n",
       "      <td>digits</td>\n",
       "      <td>digits_source</td>\n",
       "      <td>p63</td>\n",
       "      <td>p63</td>\n",
       "      <td>FLOAT64</td>\n",
       "      <td>None</td>\n",
       "    </tr>\n",
       "    <tr>\n",
       "      <th>64</th>\n",
       "      <td>statmike-mlops</td>\n",
       "      <td>digits</td>\n",
       "      <td>digits_source</td>\n",
       "      <td>target</td>\n",
       "      <td>target</td>\n",
       "      <td>INT64</td>\n",
       "      <td>None</td>\n",
       "    </tr>\n",
       "    <tr>\n",
       "      <th>65</th>\n",
       "      <td>statmike-mlops</td>\n",
       "      <td>digits</td>\n",
       "      <td>digits_source</td>\n",
       "      <td>target_OE</td>\n",
       "      <td>target_OE</td>\n",
       "      <td>STRING</td>\n",
       "      <td>None</td>\n",
       "    </tr>\n",
       "  </tbody>\n",
       "</table>\n",
       "<p>66 rows × 7 columns</p>\n",
       "</div>"
      ],
      "text/plain": [
       "     table_catalog table_schema     table_name column_name field_path  \\\n",
       "0   statmike-mlops       digits  digits_source          p0         p0   \n",
       "1   statmike-mlops       digits  digits_source          p1         p1   \n",
       "2   statmike-mlops       digits  digits_source          p2         p2   \n",
       "3   statmike-mlops       digits  digits_source          p3         p3   \n",
       "4   statmike-mlops       digits  digits_source          p4         p4   \n",
       "..             ...          ...            ...         ...        ...   \n",
       "61  statmike-mlops       digits  digits_source         p61        p61   \n",
       "62  statmike-mlops       digits  digits_source         p62        p62   \n",
       "63  statmike-mlops       digits  digits_source         p63        p63   \n",
       "64  statmike-mlops       digits  digits_source      target     target   \n",
       "65  statmike-mlops       digits  digits_source   target_OE  target_OE   \n",
       "\n",
       "   data_type description  \n",
       "0    FLOAT64        None  \n",
       "1    FLOAT64        None  \n",
       "2    FLOAT64        None  \n",
       "3    FLOAT64        None  \n",
       "4    FLOAT64        None  \n",
       "..       ...         ...  \n",
       "61   FLOAT64        None  \n",
       "62   FLOAT64        None  \n",
       "63   FLOAT64        None  \n",
       "64     INT64        None  \n",
       "65    STRING        None  \n",
       "\n",
       "[66 rows x 7 columns]"
      ]
     },
     "execution_count": 294,
     "metadata": {},
     "output_type": "execute_result"
    }
   ],
   "source": [
    "schema"
   ]
  },
  {
   "cell_type": "markdown",
   "id": "60b39c70",
   "metadata": {},
   "source": [
    "Prepare a request for `batch_create_features`:\n",
    "- specification for the features, data type and descriptions ...."
   ]
  },
  {
   "cell_type": "code",
   "execution_count": 295,
   "id": "77819136",
   "metadata": {},
   "outputs": [],
   "source": [
    "REQUESTS = []\n",
    "for i in range(schema.shape[0]):\n",
    "    \n",
    "    if schema['data_type'][i] == 'STRING': value_type = types.feature.Feature.ValueType.STRING\n",
    "    elif schema['data_type'][i] == 'INT64': value_type = types.feature.Feature.ValueType.INT64\n",
    "    elif schema['data_type'][i] == 'FLOAT64': value_type = types.feature.Feature.ValueType.DOUBLE\n",
    "    \n",
    "    if schema['description'][i] == None: description = schema['column_name'][i]\n",
    "    else: description = schema['description'][i]\n",
    "    \n",
    "    REQUESTS.append(\n",
    "        types.featurestore_service.CreateFeatureRequest(\n",
    "            feature=types.feature.Feature(\n",
    "                value_type = value_type,\n",
    "                description = description,\n",
    "                # optional, monitoring_config here as override, otherwise it inherits from entity_type\n",
    "            ),\n",
    "            feature_id = schema['column_name'][i].lower(),\n",
    "        )    \n",
    "    )"
   ]
  },
  {
   "cell_type": "code",
   "execution_count": 296,
   "id": "0b5149be",
   "metadata": {},
   "outputs": [],
   "source": [
    "batchfeatures = clients['fs'].batch_create_features(\n",
    "    parent = clients['fs'].entity_type_path(PROJECT_ID, REGION, FEATURESTORE_ID, ENTITYTYPE_ID),\n",
    "    requests = REQUESTS,\n",
    ")"
   ]
  },
  {
   "cell_type": "code",
   "execution_count": 329,
   "id": "38e1679b",
   "metadata": {},
   "outputs": [
    {
     "data": {
      "text/plain": [
       "['projects/691911073727/locations/us-central1/featurestores/digits_featurestore/entityTypes/image/features/p0',\n",
       " 'projects/691911073727/locations/us-central1/featurestores/digits_featurestore/entityTypes/image/features/p1',\n",
       " 'projects/691911073727/locations/us-central1/featurestores/digits_featurestore/entityTypes/image/features/p2',\n",
       " 'projects/691911073727/locations/us-central1/featurestores/digits_featurestore/entityTypes/image/features/p3',\n",
       " 'projects/691911073727/locations/us-central1/featurestores/digits_featurestore/entityTypes/image/features/p4',\n",
       " 'projects/691911073727/locations/us-central1/featurestores/digits_featurestore/entityTypes/image/features/p5',\n",
       " 'projects/691911073727/locations/us-central1/featurestores/digits_featurestore/entityTypes/image/features/p6',\n",
       " 'projects/691911073727/locations/us-central1/featurestores/digits_featurestore/entityTypes/image/features/p7',\n",
       " 'projects/691911073727/locations/us-central1/featurestores/digits_featurestore/entityTypes/image/features/p8',\n",
       " 'projects/691911073727/locations/us-central1/featurestores/digits_featurestore/entityTypes/image/features/p9',\n",
       " 'projects/691911073727/locations/us-central1/featurestores/digits_featurestore/entityTypes/image/features/p10',\n",
       " 'projects/691911073727/locations/us-central1/featurestores/digits_featurestore/entityTypes/image/features/p11',\n",
       " 'projects/691911073727/locations/us-central1/featurestores/digits_featurestore/entityTypes/image/features/p12',\n",
       " 'projects/691911073727/locations/us-central1/featurestores/digits_featurestore/entityTypes/image/features/p13',\n",
       " 'projects/691911073727/locations/us-central1/featurestores/digits_featurestore/entityTypes/image/features/p14',\n",
       " 'projects/691911073727/locations/us-central1/featurestores/digits_featurestore/entityTypes/image/features/p15',\n",
       " 'projects/691911073727/locations/us-central1/featurestores/digits_featurestore/entityTypes/image/features/p16',\n",
       " 'projects/691911073727/locations/us-central1/featurestores/digits_featurestore/entityTypes/image/features/p17',\n",
       " 'projects/691911073727/locations/us-central1/featurestores/digits_featurestore/entityTypes/image/features/p18',\n",
       " 'projects/691911073727/locations/us-central1/featurestores/digits_featurestore/entityTypes/image/features/p19',\n",
       " 'projects/691911073727/locations/us-central1/featurestores/digits_featurestore/entityTypes/image/features/p20',\n",
       " 'projects/691911073727/locations/us-central1/featurestores/digits_featurestore/entityTypes/image/features/p21',\n",
       " 'projects/691911073727/locations/us-central1/featurestores/digits_featurestore/entityTypes/image/features/p22',\n",
       " 'projects/691911073727/locations/us-central1/featurestores/digits_featurestore/entityTypes/image/features/p23',\n",
       " 'projects/691911073727/locations/us-central1/featurestores/digits_featurestore/entityTypes/image/features/p24',\n",
       " 'projects/691911073727/locations/us-central1/featurestores/digits_featurestore/entityTypes/image/features/p25',\n",
       " 'projects/691911073727/locations/us-central1/featurestores/digits_featurestore/entityTypes/image/features/p26',\n",
       " 'projects/691911073727/locations/us-central1/featurestores/digits_featurestore/entityTypes/image/features/p27',\n",
       " 'projects/691911073727/locations/us-central1/featurestores/digits_featurestore/entityTypes/image/features/p28',\n",
       " 'projects/691911073727/locations/us-central1/featurestores/digits_featurestore/entityTypes/image/features/p29',\n",
       " 'projects/691911073727/locations/us-central1/featurestores/digits_featurestore/entityTypes/image/features/p30',\n",
       " 'projects/691911073727/locations/us-central1/featurestores/digits_featurestore/entityTypes/image/features/p31',\n",
       " 'projects/691911073727/locations/us-central1/featurestores/digits_featurestore/entityTypes/image/features/p32',\n",
       " 'projects/691911073727/locations/us-central1/featurestores/digits_featurestore/entityTypes/image/features/p33',\n",
       " 'projects/691911073727/locations/us-central1/featurestores/digits_featurestore/entityTypes/image/features/p34',\n",
       " 'projects/691911073727/locations/us-central1/featurestores/digits_featurestore/entityTypes/image/features/p35',\n",
       " 'projects/691911073727/locations/us-central1/featurestores/digits_featurestore/entityTypes/image/features/p36',\n",
       " 'projects/691911073727/locations/us-central1/featurestores/digits_featurestore/entityTypes/image/features/p37',\n",
       " 'projects/691911073727/locations/us-central1/featurestores/digits_featurestore/entityTypes/image/features/p38',\n",
       " 'projects/691911073727/locations/us-central1/featurestores/digits_featurestore/entityTypes/image/features/p39',\n",
       " 'projects/691911073727/locations/us-central1/featurestores/digits_featurestore/entityTypes/image/features/p40',\n",
       " 'projects/691911073727/locations/us-central1/featurestores/digits_featurestore/entityTypes/image/features/p41',\n",
       " 'projects/691911073727/locations/us-central1/featurestores/digits_featurestore/entityTypes/image/features/p42',\n",
       " 'projects/691911073727/locations/us-central1/featurestores/digits_featurestore/entityTypes/image/features/p43',\n",
       " 'projects/691911073727/locations/us-central1/featurestores/digits_featurestore/entityTypes/image/features/p44',\n",
       " 'projects/691911073727/locations/us-central1/featurestores/digits_featurestore/entityTypes/image/features/p45',\n",
       " 'projects/691911073727/locations/us-central1/featurestores/digits_featurestore/entityTypes/image/features/p46',\n",
       " 'projects/691911073727/locations/us-central1/featurestores/digits_featurestore/entityTypes/image/features/p47',\n",
       " 'projects/691911073727/locations/us-central1/featurestores/digits_featurestore/entityTypes/image/features/p48',\n",
       " 'projects/691911073727/locations/us-central1/featurestores/digits_featurestore/entityTypes/image/features/p49',\n",
       " 'projects/691911073727/locations/us-central1/featurestores/digits_featurestore/entityTypes/image/features/p50',\n",
       " 'projects/691911073727/locations/us-central1/featurestores/digits_featurestore/entityTypes/image/features/p51',\n",
       " 'projects/691911073727/locations/us-central1/featurestores/digits_featurestore/entityTypes/image/features/p52',\n",
       " 'projects/691911073727/locations/us-central1/featurestores/digits_featurestore/entityTypes/image/features/p53',\n",
       " 'projects/691911073727/locations/us-central1/featurestores/digits_featurestore/entityTypes/image/features/p54',\n",
       " 'projects/691911073727/locations/us-central1/featurestores/digits_featurestore/entityTypes/image/features/p55',\n",
       " 'projects/691911073727/locations/us-central1/featurestores/digits_featurestore/entityTypes/image/features/p56',\n",
       " 'projects/691911073727/locations/us-central1/featurestores/digits_featurestore/entityTypes/image/features/p57',\n",
       " 'projects/691911073727/locations/us-central1/featurestores/digits_featurestore/entityTypes/image/features/p58',\n",
       " 'projects/691911073727/locations/us-central1/featurestores/digits_featurestore/entityTypes/image/features/p59',\n",
       " 'projects/691911073727/locations/us-central1/featurestores/digits_featurestore/entityTypes/image/features/p60',\n",
       " 'projects/691911073727/locations/us-central1/featurestores/digits_featurestore/entityTypes/image/features/p61',\n",
       " 'projects/691911073727/locations/us-central1/featurestores/digits_featurestore/entityTypes/image/features/p62',\n",
       " 'projects/691911073727/locations/us-central1/featurestores/digits_featurestore/entityTypes/image/features/p63',\n",
       " 'projects/691911073727/locations/us-central1/featurestores/digits_featurestore/entityTypes/image/features/target',\n",
       " 'projects/691911073727/locations/us-central1/featurestores/digits_featurestore/entityTypes/image/features/target_oe']"
      ]
     },
     "execution_count": 329,
     "metadata": {},
     "output_type": "execute_result"
    }
   ],
   "source": [
    "list(item.name for item in batchfeatures.result().features)"
   ]
  },
  {
   "cell_type": "markdown",
   "id": "9212b5d9",
   "metadata": {},
   "source": [
    "---\n",
    "## Search Features\n",
    "Search goes across all Feature Stores and Entity Types.\n",
    "\n",
    "Also, use the list_features function to list all."
   ]
  },
  {
   "cell_type": "code",
   "execution_count": 330,
   "id": "42c27ab1",
   "metadata": {},
   "outputs": [
    {
     "data": {
      "text/plain": [
       "name: \"projects/691911073727/locations/us-central1/featurestores/digits_featurestore/entityTypes/image/features/p0\"\n",
       "description: \"p0\"\n",
       "create_time {\n",
       "  seconds: 1625740476\n",
       "  nanos: 662391000\n",
       "}\n",
       "update_time {\n",
       "  seconds: 1625740476\n",
       "  nanos: 662391000\n",
       "}"
      ]
     },
     "execution_count": 330,
     "metadata": {},
     "output_type": "execute_result"
    }
   ],
   "source": [
    "# return the first feature:\n",
    "list(clients['fs'].search_features(location=BASE_RESOURCE_PATH))[0]"
   ]
  },
  {
   "cell_type": "code",
   "execution_count": 331,
   "id": "a2b0e375",
   "metadata": {},
   "outputs": [
    {
     "data": {
      "text/plain": [
       "[name: \"projects/691911073727/locations/us-central1/featurestores/digits_featurestore/entityTypes/image/features/target\"\n",
       " description: \"target\"\n",
       " create_time {\n",
       "   seconds: 1625740476\n",
       "   nanos: 983494000\n",
       " }\n",
       " update_time {\n",
       "   seconds: 1625740476\n",
       "   nanos: 983494000\n",
       " }]"
      ]
     },
     "execution_count": 331,
     "metadata": {},
     "output_type": "execute_result"
    }
   ],
   "source": [
    "# find all features with INT64 value type\n",
    "list(clients['fs'].search_features(types.featurestore_service.SearchFeaturesRequest(location=BASE_RESOURCE_PATH, query=\"value_type=INT64\")))"
   ]
  },
  {
   "cell_type": "code",
   "execution_count": 332,
   "id": "96abc37e",
   "metadata": {},
   "outputs": [
    {
     "data": {
      "text/plain": [
       "[name: \"projects/691911073727/locations/us-central1/featurestores/digits_featurestore/entityTypes/image/features/p6\"\n",
       " description: \"p6\"\n",
       " create_time {\n",
       "   seconds: 1625740476\n",
       "   nanos: 692939000\n",
       " }\n",
       " update_time {\n",
       "   seconds: 1625740476\n",
       "   nanos: 692939000\n",
       " },\n",
       " name: \"projects/691911073727/locations/us-central1/featurestores/digits_featurestore/entityTypes/image/features/p60\"\n",
       " description: \"p60\"\n",
       " create_time {\n",
       "   seconds: 1625740476\n",
       "   nanos: 976181000\n",
       " }\n",
       " update_time {\n",
       "   seconds: 1625740476\n",
       "   nanos: 976181000\n",
       " },\n",
       " name: \"projects/691911073727/locations/us-central1/featurestores/digits_featurestore/entityTypes/image/features/p61\"\n",
       " description: \"p61\"\n",
       " create_time {\n",
       "   seconds: 1625740476\n",
       "   nanos: 977883000\n",
       " }\n",
       " update_time {\n",
       "   seconds: 1625740476\n",
       "   nanos: 977883000\n",
       " },\n",
       " name: \"projects/691911073727/locations/us-central1/featurestores/digits_featurestore/entityTypes/image/features/p62\"\n",
       " description: \"p62\"\n",
       " create_time {\n",
       "   seconds: 1625740476\n",
       "   nanos: 979383000\n",
       " }\n",
       " update_time {\n",
       "   seconds: 1625740476\n",
       "   nanos: 979383000\n",
       " },\n",
       " name: \"projects/691911073727/locations/us-central1/featurestores/digits_featurestore/entityTypes/image/features/p63\"\n",
       " description: \"p63\"\n",
       " create_time {\n",
       "   seconds: 1625740476\n",
       "   nanos: 981482000\n",
       " }\n",
       " update_time {\n",
       "   seconds: 1625740476\n",
       "   nanos: 981482000\n",
       " }]"
      ]
     },
     "execution_count": 332,
     "metadata": {},
     "output_type": "execute_result"
    }
   ],
   "source": [
    "# find all features of the form p6* with DOUBLE value type\n",
    "list(clients['fs'].search_features(types.featurestore_service.SearchFeaturesRequest(location=BASE_RESOURCE_PATH, query=\"feature_id:p6* AND value_type=DOUBLE\")))"
   ]
  },
  {
   "cell_type": "markdown",
   "id": "5fe766c8",
   "metadata": {},
   "source": [
    "---\n",
    "## Import Feature Values\n",
    "- BigQuery (THIS DEMO)\n",
    "- Avro\n",
    "- CSV"
   ]
  },
  {
   "cell_type": "markdown",
   "id": "741de5c0",
   "metadata": {},
   "source": [
    "Prepare a source table with timestamp (update_time) and unique id's (image_id) for each entity"
   ]
  },
  {
   "cell_type": "code",
   "execution_count": 333,
   "id": "cf564950",
   "metadata": {},
   "outputs": [
    {
     "name": "stderr",
     "output_type": "stream",
     "text": [
      "Query complete after 0.00s: 100%|██████████| 3/3 [00:00<00:00, 1546.38query/s]                        \n"
     ]
    },
    {
     "data": {
      "text/html": [
       "<div>\n",
       "<style scoped>\n",
       "    .dataframe tbody tr th:only-of-type {\n",
       "        vertical-align: middle;\n",
       "    }\n",
       "\n",
       "    .dataframe tbody tr th {\n",
       "        vertical-align: top;\n",
       "    }\n",
       "\n",
       "    .dataframe thead th {\n",
       "        text-align: right;\n",
       "    }\n",
       "</style>\n",
       "<table border=\"1\" class=\"dataframe\">\n",
       "  <thead>\n",
       "    <tr style=\"text-align: right;\">\n",
       "      <th></th>\n",
       "    </tr>\n",
       "  </thead>\n",
       "  <tbody>\n",
       "  </tbody>\n",
       "</table>\n",
       "</div>"
      ],
      "text/plain": [
       "Empty DataFrame\n",
       "Columns: []\n",
       "Index: []"
      ]
     },
     "execution_count": 333,
     "metadata": {},
     "output_type": "execute_result"
    }
   ],
   "source": [
    "%%bigquery\n",
    "CREATE OR REPLACE TABLE `statmike-mlops.digits.digits_featurestore_import` AS\n",
    "SELECT GENERATE_UUID() image_id, target_OE as target_oe, CURRENT_TIMESTAMP AS update_time, * EXCEPT(target_OE)\n",
    "FROM `statmike-mlops.digits.digits_source`"
   ]
  },
  {
   "cell_type": "markdown",
   "id": "bd56a92a",
   "metadata": {},
   "source": [
    "Create Feature specification for each feature in the input source:"
   ]
  },
  {
   "cell_type": "code",
   "execution_count": 334,
   "id": "17314df8",
   "metadata": {},
   "outputs": [],
   "source": [
    "FEATURE_SPECS = []\n",
    "for i in range(schema.shape[0]):\n",
    "    FEATURE_SPECS.append(types.featurestore_service.ImportFeatureValuesRequest.FeatureSpec(id=schema['column_name'][i].lower()))"
   ]
  },
  {
   "cell_type": "code",
   "execution_count": 335,
   "id": "66780843",
   "metadata": {},
   "outputs": [],
   "source": [
    "import_request = types.featurestore_service.ImportFeatureValuesRequest(\n",
    "    entity_type = clients['fs'].entity_type_path(PROJECT_ID, REGION, FEATURESTORE_ID, ENTITYTYPE_ID),\n",
    "    bigquery_source = types.BigQuerySource(input_uri='bq://statmike-mlops.digits.digits_featurestore_import'),\n",
    "    feature_time_field = \"update_time\",\n",
    "    feature_time = Timestamp().GetCurrentTime(),\n",
    "    entity_id_field = \"image_id\",\n",
    "    feature_specs = FEATURE_SPECS,\n",
    "    worker_count = 4,\n",
    ")"
   ]
  },
  {
   "cell_type": "code",
   "execution_count": 336,
   "id": "fb27cdc1",
   "metadata": {},
   "outputs": [],
   "source": [
    "importjob = clients['fs'].import_feature_values(import_request)"
   ]
  },
  {
   "cell_type": "code",
   "execution_count": 338,
   "id": "74bc3461",
   "metadata": {},
   "outputs": [
    {
     "data": {
      "text/plain": [
       "imported_entity_count: 1797\n",
       "imported_feature_value_count: 118602"
      ]
     },
     "execution_count": 338,
     "metadata": {},
     "output_type": "execute_result"
    }
   ],
   "source": [
    "importjob.result()"
   ]
  },
  {
   "cell_type": "markdown",
   "id": "3cfb9c5b",
   "metadata": {},
   "source": [
    "---\n",
    "## Serving Features"
   ]
  },
  {
   "cell_type": "markdown",
   "id": "c6005972",
   "metadata": {},
   "source": [
    "Retrieve a list of entity id's:"
   ]
  },
  {
   "cell_type": "code",
   "execution_count": 339,
   "id": "43ea0610",
   "metadata": {},
   "outputs": [
    {
     "name": "stderr",
     "output_type": "stream",
     "text": [
      "Query complete after 0.00s: 100%|██████████| 1/1 [00:00<00:00, 452.80query/s]                          \n",
      "Downloading: 100%|██████████| 1797/1797 [00:01<00:00, 1343.11rows/s]\n"
     ]
    }
   ],
   "source": [
    "%%bigquery image_id\n",
    "SELECT image_id FROM `statmike-mlops.digits.digits_featurestore_import`"
   ]
  },
  {
   "cell_type": "code",
   "execution_count": 340,
   "id": "826c1e73",
   "metadata": {},
   "outputs": [
    {
     "data": {
      "text/plain": [
       "['fd2b54ed-c182-4bb0-9f5e-d75982bd59d3',\n",
       " '878d983a-5b60-493c-bd83-02b03c2ec0c2',\n",
       " '027cead0-3f25-494b-9a54-00da0d2b82e3',\n",
       " 'e9671135-e077-46cb-a3a7-144ab9e63556',\n",
       " '8f85189f-44a7-447e-a37c-8d398e1d95e2']"
      ]
     },
     "execution_count": 340,
     "metadata": {},
     "output_type": "execute_result"
    }
   ],
   "source": [
    "list(image_id['image_id'])[0:5]"
   ]
  },
  {
   "cell_type": "markdown",
   "id": "0a5046c3",
   "metadata": {},
   "source": [
    "### Online - One"
   ]
  },
  {
   "cell_type": "code",
   "execution_count": 341,
   "id": "36010e53",
   "metadata": {},
   "outputs": [],
   "source": [
    "single = clients['fs_olserve'].read_feature_values(\n",
    "    types.featurestore_online_service.ReadFeatureValuesRequest(\n",
    "        entity_type = clients['fs'].entity_type_path(PROJECT_ID, REGION, FEATURESTORE_ID, ENTITYTYPE_ID),\n",
    "        entity_id=\"fd2b54ed-c182-4bb0-9f5e-d75982bd59d3\",\n",
    "        feature_selector = types.FeatureSelector(id_matcher=types.IdMatcher(ids=['*'])),\n",
    "    )\n",
    ")"
   ]
  },
  {
   "cell_type": "code",
   "execution_count": 369,
   "id": "1fdf3204",
   "metadata": {},
   "outputs": [
    {
     "name": "stdout",
     "output_type": "stream",
     "text": [
      "['p60', 'p12', 'p46', 'p43', 'p4', 'p55', 'p10', 'p20', 'p35', 'p57', 'p2', 'p54', 'p9', 'p42', 'p3', 'p8', 'p37', 'p26', 'p28', 'p17', 'p56', 'p19', 'p15', 'p6', 'p48', 'p63', 'target_oe', 'p23', 'p62', 'p58', 'p31', 'p41', 'p30', 'p49', 'p38', 'p1', 'p59', 'p27', 'p45', 'p34', 'p22', 'p25', 'p52', 'p44', 'p53', 'p18', 'p39', 'p33', 'p16', 'p11', 'p5', 'p0', 'target', 'p50', 'p21', 'p36', 'p61', 'p24', 'p14', 'p7', 'p51', 'p40', 'p47', 'p32', 'p29', 'p13']\n"
     ]
    }
   ],
   "source": [
    "print(list(item.id for item in single.header.feature_descriptors))"
   ]
  },
  {
   "cell_type": "code",
   "execution_count": 370,
   "id": "ebd37cec",
   "metadata": {},
   "outputs": [
    {
     "name": "stdout",
     "output_type": "stream",
     "text": [
      "[13.0, 14.0, 4.0, 1.0, 13.0, 0.0, 8.0, 0.0, 0.0, 0.0, 0.0, 1.0, 0.0, 13.0, 10.0, 0.0, 15.0, 16.0, 0.0, 3.0, 0.0, 13.0, 0.0, 0.0, 0.0, 0.0, 0.0, 0.0, 0.0, 2.0, 0.0, 2.0, 5.0, 0.0, 4.0, 0.0, 11.0, 6.0, 16.0, 16.0, 1.0, 5.0, 16.0, 5.0, 14.0, 16.0, 0.0, 6.0, 0.0, 16.0, 3.0, 0.0, 0.0, 10.0, 14.0, 0.0, 6.0, 0.0, 0.0, 0.0, 16.0, 0.0, 0.0, 0.0, 14.0, 12.0]\n"
     ]
    }
   ],
   "source": [
    "print(list(item.value.double_value for item in single.entity_view.data))"
   ]
  },
  {
   "cell_type": "markdown",
   "id": "5530ce06",
   "metadata": {},
   "source": [
    "#### Prediction"
   ]
  },
  {
   "cell_type": "code",
   "execution_count": 384,
   "id": "1454e4e1",
   "metadata": {},
   "outputs": [],
   "source": [
    "from google.cloud.aiplatform_v1beta1 import (PredictionServiceClient, EndpointServiceClient)\n",
    "from google.protobuf import json_format\n",
    "from google.protobuf.struct_pb2 import Value"
   ]
  },
  {
   "cell_type": "markdown",
   "id": "fd10ca03",
   "metadata": {},
   "source": [
    "Function to retrieve online features for an entity and prepare them for prediction:"
   ]
  },
  {
   "cell_type": "code",
   "execution_count": 379,
   "id": "89679c3c",
   "metadata": {},
   "outputs": [],
   "source": [
    "def fetch_single(entity_id):\n",
    "    single = clients['fs_olserve'].read_feature_values(\n",
    "        types.featurestore_online_service.ReadFeatureValuesRequest(\n",
    "            entity_type = clients['fs'].entity_type_path(PROJECT_ID, REGION, FEATURESTORE_ID, ENTITYTYPE_ID),\n",
    "            entity_id=entity_id,\n",
    "            feature_selector = types.FeatureSelector(id_matcher=types.IdMatcher(ids=['*'])),\n",
    "        )\n",
    "    )\n",
    "    \n",
    "    newob = {}\n",
    "    features = list(item.id for item in single.header.feature_descriptors)\n",
    "    for e, f in enumerate(features):\n",
    "        if f.startswith('p'):\n",
    "            newob[f] = single.entity_view.data[e].value.double_value\n",
    "    \n",
    "    return newob"
   ]
  },
  {
   "cell_type": "code",
   "execution_count": 383,
   "id": "82d01353",
   "metadata": {},
   "outputs": [],
   "source": [
    "newob = fetch_single(\"fd2b54ed-c182-4bb0-9f5e-d75982bd59d3\")"
   ]
  },
  {
   "cell_type": "markdown",
   "id": "60e886ee",
   "metadata": {},
   "source": [
    "Pick an endpoint from those setup in this project (all have the same model parameters):"
   ]
  },
  {
   "cell_type": "code",
   "execution_count": 385,
   "id": "f7b5c013",
   "metadata": {},
   "outputs": [],
   "source": [
    "clients['endpoint'] = EndpointServiceClient(client_options=client_options)"
   ]
  },
  {
   "cell_type": "code",
   "execution_count": 390,
   "id": "91f0e376",
   "metadata": {},
   "outputs": [
    {
     "data": {
      "text/plain": [
       "[('projects/691911073727/locations/us-central1/endpoints/757924151351574528',\n",
       "  'ENDPOINT_06_AIP_DIGITS_20210706150049'),\n",
       " ('projects/691911073727/locations/us-central1/endpoints/5819970132516012032',\n",
       "  'ENDPOINT_05_AIP_DIGITS_20210706142708'),\n",
       " ('projects/691911073727/locations/us-central1/endpoints/8251913931296079872',\n",
       "  'ENDPOINT_04_KERAS-DIGITS'),\n",
       " ('projects/691911073727/locations/us-central1/endpoints/1208284114088624128',\n",
       "  'ENDPOINT_03_BQML-DIGITS')]"
      ]
     },
     "execution_count": 390,
     "metadata": {},
     "output_type": "execute_result"
    }
   ],
   "source": [
    "list((ep.name, ep.display_name) for ep in clients['endpoint'].list_endpoints(parent=PARENT))"
   ]
  },
  {
   "cell_type": "code",
   "execution_count": 394,
   "id": "ae96af46",
   "metadata": {},
   "outputs": [
    {
     "data": {
      "text/plain": [
       "'projects/691911073727/locations/us-central1/endpoints/757924151351574528'"
      ]
     },
     "execution_count": 394,
     "metadata": {},
     "output_type": "execute_result"
    }
   ],
   "source": [
    "ep = clients['endpoint'].list_endpoints(parent=PARENT).endpoints[0].name\n",
    "ep"
   ]
  },
  {
   "cell_type": "markdown",
   "id": "30fb689e",
   "metadata": {},
   "source": [
    "Python: Request a prediction for the entity's features:"
   ]
  },
  {
   "cell_type": "code",
   "execution_count": 395,
   "id": "bff7e2a8",
   "metadata": {},
   "outputs": [],
   "source": [
    "clients['prediction'] = PredictionServiceClient(client_options=client_options)"
   ]
  },
  {
   "cell_type": "code",
   "execution_count": 396,
   "id": "377dc48e",
   "metadata": {},
   "outputs": [],
   "source": [
    "response = clients['prediction'].predict(endpoint=ep, instances=[json_format.ParseDict(newob, Value())], parameters=json_format.ParseDict({}, Value()))"
   ]
  },
  {
   "cell_type": "code",
   "execution_count": 397,
   "id": "e2a1cd71",
   "metadata": {},
   "outputs": [
    {
     "data": {
      "text/plain": [
       "predictions {\n",
       "  list_value {\n",
       "    values {\n",
       "      number_value: 0.999999523\n",
       "    }\n",
       "    values {\n",
       "      number_value: 3.68073074e-08\n",
       "    }\n",
       "    values {\n",
       "      number_value: 1.65305339e-11\n",
       "    }\n",
       "    values {\n",
       "      number_value: 1.36284984e-14\n",
       "    }\n",
       "    values {\n",
       "      number_value: 3.28596492e-08\n",
       "    }\n",
       "    values {\n",
       "      number_value: 1.6874489e-07\n",
       "    }\n",
       "    values {\n",
       "      number_value: 1.67734257e-07\n",
       "    }\n",
       "    values {\n",
       "      number_value: 1.61150288e-10\n",
       "    }\n",
       "    values {\n",
       "      number_value: 2.93888665e-08\n",
       "    }\n",
       "    values {\n",
       "      number_value: 8.5177156e-08\n",
       "    }\n",
       "  }\n",
       "}\n",
       "deployed_model_id: \"8730773235425083392\""
      ]
     },
     "execution_count": 397,
     "metadata": {},
     "output_type": "execute_result"
    }
   ],
   "source": [
    "response"
   ]
  },
  {
   "cell_type": "markdown",
   "id": "909e2c82",
   "metadata": {},
   "source": [
    "REST: Request a prediction for the entity's features:"
   ]
  },
  {
   "cell_type": "code",
   "execution_count": 398,
   "id": "924663e2",
   "metadata": {},
   "outputs": [],
   "source": [
    "import json\n",
    "with open('request.json','w') as file:\n",
    "    file.write(json.dumps({\"instances\": [newob]}))"
   ]
  },
  {
   "cell_type": "code",
   "execution_count": 401,
   "id": "bf39272e",
   "metadata": {},
   "outputs": [
    {
     "name": "stdout",
     "output_type": "stream",
     "text": [
      "{\n",
      "  \"predictions\": [\n",
      "    [\n",
      "      0.999999523,\n",
      "      3.68073074e-08,\n",
      "      1.65305339e-11,\n",
      "      1.36284984e-14,\n",
      "      3.28596492e-08,\n",
      "      1.6874489e-07,\n",
      "      1.67734257e-07,\n",
      "      1.61150288e-10,\n",
      "      2.93888665e-08,\n",
      "      8.5177156e-08\n",
      "    ]\n",
      "  ],\n",
      "  \"deployedModelId\": \"8730773235425083392\"\n",
      "}\n"
     ]
    }
   ],
   "source": [
    "!curl -X POST \\\n",
    "-H \"Authorization: Bearer \"$(gcloud auth application-default print-access-token) \\\n",
    "-H \"Content-Type: application/json; charset=utf-8\" \\\n",
    "-d @request.json \\\n",
    "https://{API_ENDPOINT}/v1/{ep}:predict"
   ]
  },
  {
   "cell_type": "markdown",
   "id": "42fc40bc",
   "metadata": {},
   "source": [
    "CLI: Request a prediction for the entity's features:"
   ]
  },
  {
   "cell_type": "code",
   "execution_count": 402,
   "id": "41a56f4a",
   "metadata": {},
   "outputs": [
    {
     "name": "stdout",
     "output_type": "stream",
     "text": [
      "Using endpoint [https://us-central1-prediction-aiplatform.googleapis.com/]\n",
      "[[0.999999523, 3.68073074e-08, 1.65305339e-11, 1.36284984e-14, 3.28596492e-08, 1.6874489e-07, 1.67734257e-07, 1.61150288e-10, 2.93888665e-08, 8.5177156e-08]]\n"
     ]
    }
   ],
   "source": [
    "!gcloud beta ai endpoints predict {ep.rsplit('/',1)[-1]} --region={REGION} --json-request=request.json"
   ]
  },
  {
   "cell_type": "markdown",
   "id": "132f3991",
   "metadata": {},
   "source": [
    "### Online - Multi"
   ]
  },
  {
   "cell_type": "code",
   "execution_count": 360,
   "id": "6c0c044c",
   "metadata": {},
   "outputs": [],
   "source": [
    "multi = clients['fs_olserve'].streaming_read_feature_values(\n",
    "    types.featurestore_online_service.StreamingReadFeatureValuesRequest(\n",
    "        entity_type = clients['fs'].entity_type_path(PROJECT_ID, REGION, FEATURESTORE_ID, ENTITYTYPE_ID),\n",
    "        entity_ids = list(image_id['image_id'])[0:3],\n",
    "        feature_selector = types.FeatureSelector(id_matcher=types.IdMatcher(ids=['*'])),\n",
    "    )\n",
    ")"
   ]
  },
  {
   "cell_type": "code",
   "execution_count": 361,
   "id": "4c2596ff",
   "metadata": {},
   "outputs": [
    {
     "name": "stdout",
     "output_type": "stream",
     "text": [
      "\n",
      "[]\n",
      "027cead0-3f25-494b-9a54-00da0d2b82e3\n",
      "[0.0, 14.0, 0.0, 0.0, 0.0, 0.0, 15.0, 13.0, 16.0, 2.0, 11.0, 4.0, 16.0, 3.0, 0.0, 3.0, 0.0, 1.0, 0.0, 0.0, 0.0, 12.0, 0.0, 10.0, 0.0, 14.0, 0.0, 0.0, 0.0, 14.0, 11.0, 16.0, 6.0, 7.0, 0.0, 0.0, 0.0, 0.0, 16.0, 9.0, 0.0, 0.0, 0.0, 0.0, 0.0, 0.0, 1.0, 0.0, 7.0, 16.0, 9.0, 0.0, 1.0, 4.0, 11.0, 0.0, 0.0, 0.0, 0.0, 0.0, 11.0, 13.0, 16.0, 0.0, 1.0, 0.0]\n",
      "878d983a-5b60-493c-bd83-02b03c2ec0c2\n",
      "[0.0, 16.0, 0.0, 11.0, 0.0, 0.0, 13.0, 15.0, 14.0, 0.0, 10.0, 5.0, 13.0, 8.0, 0.0, 0.0, 0.0, 4.0, 0.0, 1.0, 0.0, 16.0, 0.0, 15.0, 0.0, 15.0, 0.0, 0.0, 0.0, 12.0, 8.0, 10.0, 15.0, 4.0, 0.0, 0.0, 0.0, 0.0, 16.0, 16.0, 0.0, 0.0, 0.0, 3.0, 0.0, 5.0, 0.0, 0.0, 16.0, 16.0, 8.0, 0.0, 5.0, 0.0, 6.0, 0.0, 0.0, 0.0, 0.0, 5.0, 5.0, 6.0, 11.0, 3.0, 1.0, 0.0]\n",
      "fd2b54ed-c182-4bb0-9f5e-d75982bd59d3\n",
      "[0.0, 14.0, 0.0, 1.0, 0.0, 0.0, 13.0, 14.0, 16.0, 2.0, 12.0, 6.0, 16.0, 6.0, 0.0, 0.0, 0.0, 6.0, 0.0, 3.0, 0.0, 16.0, 0.0, 16.0, 0.0, 14.0, 0.0, 0.0, 0.0, 13.0, 11.0, 10.0, 13.0, 5.0, 0.0, 1.0, 0.0, 0.0, 16.0, 16.0, 0.0, 0.0, 0.0, 5.0, 0.0, 4.0, 5.0, 0.0, 16.0, 14.0, 10.0, 0.0, 4.0, 3.0, 13.0, 0.0, 0.0, 0.0, 0.0, 0.0, 8.0, 0.0, 15.0, 1.0, 2.0, 0.0]\n"
     ]
    }
   ],
   "source": [
    "for i in multi:\n",
    "    print(i.entity_view.entity_id)\n",
    "    print(list(item.value.double_value for item in i.entity_view.data))"
   ]
  },
  {
   "cell_type": "markdown",
   "id": "7ec7e029",
   "metadata": {},
   "source": [
    "### Batch (For training or large scale prediction)"
   ]
  },
  {
   "cell_type": "code",
   "execution_count": 362,
   "id": "ffc28625",
   "metadata": {},
   "outputs": [],
   "source": [
    "from google.cloud import bigquery\n",
    "\n",
    "DESTINATION_DATASET = 'digits_training'\n",
    "\n",
    "clients['bq'] = bigquery.Client()\n",
    "dataset_id = \"{}.{}\".format(clients['bq'].project, DESTINATION_DATASET)\n",
    "dataset = bigquery.Dataset(dataset_id)\n",
    "dataset.location = REGION\n",
    "dataset = clients['bq'].create_dataset(dataset, exists_ok = True)"
   ]
  },
  {
   "cell_type": "code",
   "execution_count": 363,
   "id": "a266bb6b",
   "metadata": {},
   "outputs": [],
   "source": [
    "batch_request = types.featurestore_service.ExportFeatureValuesRequest(\n",
    "    entity_type = clients['fs'].entity_type_path(PROJECT_ID, REGION, FEATURESTORE_ID, ENTITYTYPE_ID),\n",
    "    snapshot_export = types.ExportFeatureValuesRequest.SnapshotExport(snapshot_time = Timestamp().GetCurrentTime()),\n",
    "    destination = types.FeatureValueDestination(bigquery_destination = types.BigQueryDestination(output_uri='bq://statmike-mlops.digits_training.training')),\n",
    "    feature_selector = types.FeatureSelector(id_matcher=types.IdMatcher(ids=['*']))\n",
    ")"
   ]
  },
  {
   "cell_type": "code",
   "execution_count": 364,
   "id": "ef1f1d22",
   "metadata": {},
   "outputs": [],
   "source": [
    "batchjob = clients['fs'].export_feature_values(batch_request)"
   ]
  },
  {
   "cell_type": "code",
   "execution_count": 365,
   "id": "f78a9e98",
   "metadata": {},
   "outputs": [
    {
     "data": {
      "text/plain": []
     },
     "execution_count": 365,
     "metadata": {},
     "output_type": "execute_result"
    }
   ],
   "source": [
    "batchjob.result()"
   ]
  },
  {
   "cell_type": "markdown",
   "id": "5780ee54",
   "metadata": {},
   "source": [
    "---\n",
    "## Clean Up"
   ]
  },
  {
   "cell_type": "code",
   "execution_count": 256,
   "id": "b6845f67",
   "metadata": {},
   "outputs": [
    {
     "data": {
      "text/plain": []
     },
     "execution_count": 256,
     "metadata": {},
     "output_type": "execute_result"
    }
   ],
   "source": [
    "clients['fs'].delete_feature(\n",
    "    name = PARENT + '/featurestores/{}/entityTypes/{}/features/p0'.format(FEATURESTORE_ID,ENTITYTYPE_ID)\n",
    ").result()"
   ]
  },
  {
   "cell_type": "code",
   "execution_count": 257,
   "id": "b4e6964b",
   "metadata": {},
   "outputs": [
    {
     "data": {
      "text/plain": []
     },
     "execution_count": 257,
     "metadata": {},
     "output_type": "execute_result"
    }
   ],
   "source": [
    "clients['fs'].delete_feature(\n",
    "    name = clients['fs'].feature_path(PROJECT_ID, REGION, FEATURESTORE_ID, ENTITYTYPE_ID, 'p1')\n",
    ").result()"
   ]
  },
  {
   "cell_type": "code",
   "execution_count": 282,
   "id": "0dc506d7",
   "metadata": {},
   "outputs": [
    {
     "data": {
      "text/plain": []
     },
     "execution_count": 282,
     "metadata": {},
     "output_type": "execute_result"
    }
   ],
   "source": [
    "clients['fs'].delete_entity_type(\n",
    "    request = types.DeleteEntityTypeRequest(\n",
    "        name = clients['fs'].entity_type_path(PROJECT_ID, REGION, FEATURESTORE_ID, ENTITYTYPE_ID),\n",
    "        force = True)\n",
    ").result()"
   ]
  },
  {
   "cell_type": "code",
   "execution_count": 283,
   "id": "f3395c78",
   "metadata": {},
   "outputs": [
    {
     "data": {
      "text/plain": [
       "<google.api_core.operation.Operation at 0x7f9b00a440d0>"
      ]
     },
     "execution_count": 283,
     "metadata": {},
     "output_type": "execute_result"
    }
   ],
   "source": [
    "clients['fs'].delete_featurestore( name = clients['fs'].featurestore_path(PROJECT_ID, REGION, FEATURESTORE_ID))"
   ]
  },
  {
   "cell_type": "code",
   "execution_count": 262,
   "id": "2770b6e5",
   "metadata": {},
   "outputs": [],
   "source": [
    "clients['bq'].delete_dataset(dataset, delete_contents = True)"
   ]
  },
  {
   "cell_type": "code",
   "execution_count": null,
   "id": "8967e3d3",
   "metadata": {},
   "outputs": [],
   "source": []
  }
 ],
 "metadata": {
  "environment": {
   "name": "managed-notebooks.m70",
   "type": "gcloud",
   "uri": "gcr.io/deeplearning-platform-release/managed-notebooks:m70"
  },
  "kernelspec": {
   "display_name": "Python",
   "language": "python",
   "name": "base"
  },
  "language_info": {
   "codemirror_mode": {
    "name": "ipython",
    "version": 3
   },
   "file_extension": ".py",
   "mimetype": "text/x-python",
   "name": "python",
   "nbconvert_exporter": "python",
   "pygments_lexer": "ipython3",
   "version": "3.7.10"
  }
 },
 "nbformat": 4,
 "nbformat_minor": 5
}
