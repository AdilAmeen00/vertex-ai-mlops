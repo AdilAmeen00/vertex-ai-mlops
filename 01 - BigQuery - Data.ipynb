{
 "cells": [
  {
   "cell_type": "markdown",
   "id": "aerial-helicopter",
   "metadata": {},
   "source": [
    "# BigQuery Data"
   ]
  },
  {
   "cell_type": "code",
   "execution_count": null,
   "id": "robust-giant",
   "metadata": {},
   "outputs": [],
   "source": [
    "PROJECT_ID = \"statmike-primary\"\n",
    "! gcloud config set project $PROJECT_ID\n",
    "%env GCLOUD_PROJECT=$PROJECT_ID"
   ]
  },
  {
   "cell_type": "code",
   "execution_count": null,
   "id": "covered-missouri",
   "metadata": {},
   "outputs": [],
   "source": [
    "from google.cloud import bigquery\n",
    "bq = bigquery.Client(project=PROJECT_ID)"
   ]
  },
  {
   "cell_type": "code",
   "execution_count": null,
   "id": "radical-coupon",
   "metadata": {},
   "outputs": [],
   "source": [
    "datum=[]\n",
    "for ds in list(bq.list_datasets()): datum.append(ds.dataset_id)\n",
    "print(datum)"
   ]
  },
  {
   "cell_type": "code",
   "execution_count": null,
   "id": "stunning-average",
   "metadata": {},
   "outputs": [],
   "source": [
    "LOCATION = 'us'\n",
    "\n",
    "URL = 'https://console.cloud.google.com/storage/browser/statmike-bucket1'\n",
    "FILE = 'digits.csv'\n",
    "FILE_URL = '%s/%s' % (URL,FILE)\n",
    "\n",
    "DATASET_ID = 'model_ops'\n",
    "TABLE_ID = 'digits'"
   ]
  },
  {
   "cell_type": "code",
   "execution_count": null,
   "id": "transparent-latino",
   "metadata": {},
   "outputs": [],
   "source": [
    "if DATASET_ID not in datum:\n",
    "    dataset = bigquery.Dataset(bigquery.dataset.DatasetReference(PROJECT_ID, DATASET_ID))\n",
    "    dataset.location = LOCATION\n",
    "    dataset = bq.create_dataset(DATASET_ID)"
   ]
  },
  {
   "cell_type": "code",
   "execution_count": null,
   "id": "owned-manhattan",
   "metadata": {},
   "outputs": [],
   "source": [
    "# load data to digits table in BigQuery\n",
    "job_config = bigquery.LoadJobConfig(schema=[],write_disposition=\"WRITE_TRUNCATE\",)\n",
    "\n",
    "tableid = 'statmike-project-1.small_projects.digits'\n",
    "job = client.load_table_from_dataframe(digits_df, tableid, job_config=job_config)\n",
    "job.result()\n",
    "\n",
    "table = client.get_table(tableid)\n",
    "print(\n",
    "    \"Loaded {} rows and {} columns to {}\".format(\n",
    "        table.num_rows, len(table.schema), tableid\n",
    "    )\n",
    ")"
   ]
  }
 ],
 "metadata": {
  "environment": {
   "name": "tf2-gpu.2-4.m65",
   "type": "gcloud",
   "uri": "gcr.io/deeplearning-platform-release/tf2-gpu.2-4:m65"
  },
  "kernelspec": {
   "display_name": "Python 3",
   "language": "python",
   "name": "python3"
  },
  "language_info": {
   "codemirror_mode": {
    "name": "ipython",
    "version": 3
   },
   "file_extension": ".py",
   "mimetype": "text/x-python",
   "name": "python",
   "nbconvert_exporter": "python",
   "pygments_lexer": "ipython3",
   "version": "3.7.10"
  }
 },
 "nbformat": 4,
 "nbformat_minor": 5
}
