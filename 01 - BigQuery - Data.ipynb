{
 "cells": [
  {
   "cell_type": "markdown",
   "id": "golden-whole",
   "metadata": {},
   "source": [
    "# BigQuery Data\n",
    "\n",
    "This notebook creates a BigQuery dataset and loads the projects source data into a new table.  It also walks through creating test/train splits of the data for ML processes.\n",
    "\n",
    "**Prerequisites**\n",
    "- `00 - Initial Setup`\n",
    "\n",
    "**Overview**\n",
    "\n",
    "<img src=\"architectures/statmike-mlops-01.png\">"
   ]
  },
  {
   "cell_type": "markdown",
   "id": "automatic-architect",
   "metadata": {},
   "source": [
    "---\n",
    "## Setup"
   ]
  },
  {
   "cell_type": "markdown",
   "id": "rolled-recorder",
   "metadata": {},
   "source": [
    "Set the GCP Project and other parameters:"
   ]
  },
  {
   "cell_type": "code",
   "execution_count": 24,
   "id": "asian-bearing",
   "metadata": {},
   "outputs": [],
   "source": [
    "PROJECT_ID = \"statmike-mlops\"\n",
    "REGION = 'us-central1'\n",
    "\n",
    "FILE='digits.csv'\n",
    "DATASET_ID = 'digits'\n",
    "TABLE_ID = 'digits_source'\n",
    "BUCKET=PROJECT_ID\n",
    "URI = \"gs://{}/digits/data\".format(PROJECT_ID)"
   ]
  },
  {
   "cell_type": "markdown",
   "id": "indie-motivation",
   "metadata": {},
   "source": [
    "Make a client connection to BigQuery"
   ]
  },
  {
   "cell_type": "code",
   "execution_count": 25,
   "id": "consistent-sterling",
   "metadata": {},
   "outputs": [],
   "source": [
    "from google.cloud import bigquery\n",
    "bq = bigquery.Client(project=PROJECT_ID)"
   ]
  },
  {
   "cell_type": "markdown",
   "id": "incoming-assault",
   "metadata": {},
   "source": [
    "---\n",
    "## Create Dataset"
   ]
  },
  {
   "cell_type": "markdown",
   "id": "administrative-entity",
   "metadata": {},
   "source": [
    "List BigQuery datasets in the project:"
   ]
  },
  {
   "cell_type": "code",
   "execution_count": 26,
   "id": "motivated-suffering",
   "metadata": {},
   "outputs": [
    {
     "name": "stdout",
     "output_type": "stream",
     "text": [
      "[]\n"
     ]
    }
   ],
   "source": [
    "datum=[]\n",
    "for ds in list(bq.list_datasets()): datum.append(ds.dataset_id)\n",
    "print(datum)"
   ]
  },
  {
   "cell_type": "markdown",
   "id": "damaged-color",
   "metadata": {},
   "source": [
    "Create the dataset if missing:"
   ]
  },
  {
   "cell_type": "code",
   "execution_count": 27,
   "id": "digital-leather",
   "metadata": {},
   "outputs": [],
   "source": [
    "if DATASET_ID not in datum:\n",
    "    dataset = bigquery.Dataset(bigquery.dataset.DatasetReference(PROJECT_ID, DATASET_ID))\n",
    "    dataset.location = REGION\n",
    "    dataset = bq.create_dataset(DATASET_ID)"
   ]
  },
  {
   "cell_type": "code",
   "execution_count": 28,
   "id": "pediatric-silence",
   "metadata": {},
   "outputs": [
    {
     "name": "stdout",
     "output_type": "stream",
     "text": [
      "Dataset(DatasetReference('statmike-mlops', 'digits'))\n"
     ]
    }
   ],
   "source": [
    "print(dataset)"
   ]
  },
  {
   "cell_type": "markdown",
   "id": "robust-snowboard",
   "metadata": {},
   "source": [
    "---\n",
    "## Create Table"
   ]
  },
  {
   "cell_type": "markdown",
   "id": "express-mechanics",
   "metadata": {},
   "source": [
    "Load data to a table in the dataset:\n",
    "- define job inputs\n",
    "- run load job\n",
    "- review resulting table"
   ]
  },
  {
   "cell_type": "code",
   "execution_count": 29,
   "id": "adopted-bargain",
   "metadata": {},
   "outputs": [
    {
     "name": "stdout",
     "output_type": "stream",
     "text": [
      "Starting job ea5d6162-35f7-45d6-ad8a-b03f787d81e9\n",
      "Loaded 1797 rows and 66 columns to Table(TableReference(DatasetReference('statmike-mlops', 'digits'), 'digits_source')).\n"
     ]
    }
   ],
   "source": [
    "FILE_URI = '%s/%s' % (URI,FILE)\n",
    "\n",
    "dataset_ref = bq.dataset(DATASET_ID)\n",
    "table_ref = dataset_ref.table(TABLE_ID)\n",
    "\n",
    "job_config = bigquery.LoadJobConfig(write_disposition=\"WRITE_TRUNCATE\")\n",
    "job_config.source_format = bigquery.SourceFormat.CSV\n",
    "job_config.autodetect = True\n",
    "\n",
    "job = bq.load_table_from_uri(FILE_URI, table_ref, job_config=job_config)\n",
    "print(\"Starting job {}\".format(job.job_id))\n",
    "job.result()\n",
    "      \n",
    "bq_table = bq.get_table(table_ref) \n",
    "print(\"Loaded {} rows and {} columns to {}.\".format(bq_table.num_rows,len(bq_table.schema),bq_table))"
   ]
  },
  {
   "cell_type": "markdown",
   "id": "balanced-miami",
   "metadata": {},
   "source": [
    "Use the BigQuery magic to review a few records (this uses the BQ storage API):"
   ]
  },
  {
   "cell_type": "code",
   "execution_count": 30,
   "id": "checked-retirement",
   "metadata": {},
   "outputs": [
    {
     "data": {
      "text/html": [
       "<div>\n",
       "<style scoped>\n",
       "    .dataframe tbody tr th:only-of-type {\n",
       "        vertical-align: middle;\n",
       "    }\n",
       "\n",
       "    .dataframe tbody tr th {\n",
       "        vertical-align: top;\n",
       "    }\n",
       "\n",
       "    .dataframe thead th {\n",
       "        text-align: right;\n",
       "    }\n",
       "</style>\n",
       "<table border=\"1\" class=\"dataframe\">\n",
       "  <thead>\n",
       "    <tr style=\"text-align: right;\">\n",
       "      <th></th>\n",
       "      <th>p0</th>\n",
       "      <th>p1</th>\n",
       "      <th>p2</th>\n",
       "      <th>p3</th>\n",
       "      <th>p4</th>\n",
       "      <th>p5</th>\n",
       "      <th>p6</th>\n",
       "      <th>p7</th>\n",
       "      <th>p8</th>\n",
       "      <th>p9</th>\n",
       "      <th>...</th>\n",
       "      <th>p56</th>\n",
       "      <th>p57</th>\n",
       "      <th>p58</th>\n",
       "      <th>p59</th>\n",
       "      <th>p60</th>\n",
       "      <th>p61</th>\n",
       "      <th>p62</th>\n",
       "      <th>p63</th>\n",
       "      <th>target</th>\n",
       "      <th>target_OE</th>\n",
       "    </tr>\n",
       "  </thead>\n",
       "  <tbody>\n",
       "    <tr>\n",
       "      <th>0</th>\n",
       "      <td>0.0</td>\n",
       "      <td>5.0</td>\n",
       "      <td>16.0</td>\n",
       "      <td>15.0</td>\n",
       "      <td>5.0</td>\n",
       "      <td>0.0</td>\n",
       "      <td>0.0</td>\n",
       "      <td>0.0</td>\n",
       "      <td>0.0</td>\n",
       "      <td>2.0</td>\n",
       "      <td>...</td>\n",
       "      <td>0.0</td>\n",
       "      <td>6.0</td>\n",
       "      <td>16.0</td>\n",
       "      <td>16.0</td>\n",
       "      <td>16.0</td>\n",
       "      <td>16.0</td>\n",
       "      <td>7.0</td>\n",
       "      <td>0.0</td>\n",
       "      <td>2</td>\n",
       "      <td>Even</td>\n",
       "    </tr>\n",
       "    <tr>\n",
       "      <th>1</th>\n",
       "      <td>0.0</td>\n",
       "      <td>5.0</td>\n",
       "      <td>16.0</td>\n",
       "      <td>12.0</td>\n",
       "      <td>1.0</td>\n",
       "      <td>0.0</td>\n",
       "      <td>0.0</td>\n",
       "      <td>0.0</td>\n",
       "      <td>0.0</td>\n",
       "      <td>5.0</td>\n",
       "      <td>...</td>\n",
       "      <td>0.0</td>\n",
       "      <td>8.0</td>\n",
       "      <td>16.0</td>\n",
       "      <td>16.0</td>\n",
       "      <td>16.0</td>\n",
       "      <td>16.0</td>\n",
       "      <td>4.0</td>\n",
       "      <td>0.0</td>\n",
       "      <td>2</td>\n",
       "      <td>Even</td>\n",
       "    </tr>\n",
       "    <tr>\n",
       "      <th>2</th>\n",
       "      <td>0.0</td>\n",
       "      <td>5.0</td>\n",
       "      <td>15.0</td>\n",
       "      <td>16.0</td>\n",
       "      <td>6.0</td>\n",
       "      <td>0.0</td>\n",
       "      <td>0.0</td>\n",
       "      <td>0.0</td>\n",
       "      <td>0.0</td>\n",
       "      <td>11.0</td>\n",
       "      <td>...</td>\n",
       "      <td>0.0</td>\n",
       "      <td>6.0</td>\n",
       "      <td>16.0</td>\n",
       "      <td>16.0</td>\n",
       "      <td>16.0</td>\n",
       "      <td>13.0</td>\n",
       "      <td>3.0</td>\n",
       "      <td>0.0</td>\n",
       "      <td>2</td>\n",
       "      <td>Even</td>\n",
       "    </tr>\n",
       "    <tr>\n",
       "      <th>3</th>\n",
       "      <td>0.0</td>\n",
       "      <td>4.0</td>\n",
       "      <td>15.0</td>\n",
       "      <td>15.0</td>\n",
       "      <td>8.0</td>\n",
       "      <td>0.0</td>\n",
       "      <td>0.0</td>\n",
       "      <td>0.0</td>\n",
       "      <td>0.0</td>\n",
       "      <td>8.0</td>\n",
       "      <td>...</td>\n",
       "      <td>0.0</td>\n",
       "      <td>7.0</td>\n",
       "      <td>14.0</td>\n",
       "      <td>11.0</td>\n",
       "      <td>0.0</td>\n",
       "      <td>0.0</td>\n",
       "      <td>0.0</td>\n",
       "      <td>0.0</td>\n",
       "      <td>2</td>\n",
       "      <td>Even</td>\n",
       "    </tr>\n",
       "    <tr>\n",
       "      <th>4</th>\n",
       "      <td>0.0</td>\n",
       "      <td>6.0</td>\n",
       "      <td>16.0</td>\n",
       "      <td>16.0</td>\n",
       "      <td>16.0</td>\n",
       "      <td>15.0</td>\n",
       "      <td>10.0</td>\n",
       "      <td>0.0</td>\n",
       "      <td>0.0</td>\n",
       "      <td>9.0</td>\n",
       "      <td>...</td>\n",
       "      <td>0.0</td>\n",
       "      <td>9.0</td>\n",
       "      <td>16.0</td>\n",
       "      <td>11.0</td>\n",
       "      <td>0.0</td>\n",
       "      <td>0.0</td>\n",
       "      <td>0.0</td>\n",
       "      <td>0.0</td>\n",
       "      <td>5</td>\n",
       "      <td>Odd</td>\n",
       "    </tr>\n",
       "  </tbody>\n",
       "</table>\n",
       "<p>5 rows × 66 columns</p>\n",
       "</div>"
      ],
      "text/plain": [
       "    p0   p1    p2    p3    p4    p5    p6   p7   p8    p9  ...  p56  p57  \\\n",
       "0  0.0  5.0  16.0  15.0   5.0   0.0   0.0  0.0  0.0   2.0  ...  0.0  6.0   \n",
       "1  0.0  5.0  16.0  12.0   1.0   0.0   0.0  0.0  0.0   5.0  ...  0.0  8.0   \n",
       "2  0.0  5.0  15.0  16.0   6.0   0.0   0.0  0.0  0.0  11.0  ...  0.0  6.0   \n",
       "3  0.0  4.0  15.0  15.0   8.0   0.0   0.0  0.0  0.0   8.0  ...  0.0  7.0   \n",
       "4  0.0  6.0  16.0  16.0  16.0  15.0  10.0  0.0  0.0   9.0  ...  0.0  9.0   \n",
       "\n",
       "    p58   p59   p60   p61  p62  p63  target  target_OE  \n",
       "0  16.0  16.0  16.0  16.0  7.0  0.0       2       Even  \n",
       "1  16.0  16.0  16.0  16.0  4.0  0.0       2       Even  \n",
       "2  16.0  16.0  16.0  13.0  3.0  0.0       2       Even  \n",
       "3  14.0  11.0   0.0   0.0  0.0  0.0       2       Even  \n",
       "4  16.0  11.0   0.0   0.0  0.0  0.0       5        Odd  \n",
       "\n",
       "[5 rows x 66 columns]"
      ]
     },
     "execution_count": 30,
     "metadata": {},
     "output_type": "execute_result"
    }
   ],
   "source": [
    "%%bigquery\n",
    "SELECT * FROM `statmike-mlops.digits.digits_source` LIMIT 5"
   ]
  },
  {
   "cell_type": "markdown",
   "id": "attempted-printer",
   "metadata": {},
   "source": [
    "---\n",
    "## Prepare Data for Analysis"
   ]
  },
  {
   "cell_type": "markdown",
   "id": "level-berkeley",
   "metadata": {},
   "source": [
    "Create a prepped version of the data with test/train splits using SQL DDL:"
   ]
  },
  {
   "cell_type": "code",
   "execution_count": 31,
   "id": "innocent-breakdown",
   "metadata": {},
   "outputs": [
    {
     "data": {
      "text/html": [
       "<div>\n",
       "<style scoped>\n",
       "    .dataframe tbody tr th:only-of-type {\n",
       "        vertical-align: middle;\n",
       "    }\n",
       "\n",
       "    .dataframe tbody tr th {\n",
       "        vertical-align: top;\n",
       "    }\n",
       "\n",
       "    .dataframe thead th {\n",
       "        text-align: right;\n",
       "    }\n",
       "</style>\n",
       "<table border=\"1\" class=\"dataframe\">\n",
       "  <thead>\n",
       "    <tr style=\"text-align: right;\">\n",
       "      <th></th>\n",
       "    </tr>\n",
       "  </thead>\n",
       "  <tbody>\n",
       "  </tbody>\n",
       "</table>\n",
       "</div>"
      ],
      "text/plain": [
       "Empty DataFrame\n",
       "Columns: []\n",
       "Index: []"
      ]
     },
     "execution_count": 31,
     "metadata": {},
     "output_type": "execute_result"
    }
   ],
   "source": [
    "%%bigquery\n",
    "CREATE OR REPLACE TABLE `statmike-mlops.digits.digits_prepped` AS\n",
    "SELECT *, \n",
    "    CASE WHEN MOD(ABS(FARM_FINGERPRINT(GENERATE_UUID())),10) < 8 THEN 'TRAIN' ELSE 'TEST' END AS SPLITS\n",
    "FROM `statmike-mlops.digits.digits_source`"
   ]
  },
  {
   "cell_type": "markdown",
   "id": "confirmed-visiting",
   "metadata": {},
   "source": [
    "Review the test/train split:"
   ]
  },
  {
   "cell_type": "code",
   "execution_count": 32,
   "id": "apparent-render",
   "metadata": {},
   "outputs": [
    {
     "data": {
      "text/html": [
       "<div>\n",
       "<style scoped>\n",
       "    .dataframe tbody tr th:only-of-type {\n",
       "        vertical-align: middle;\n",
       "    }\n",
       "\n",
       "    .dataframe tbody tr th {\n",
       "        vertical-align: top;\n",
       "    }\n",
       "\n",
       "    .dataframe thead th {\n",
       "        text-align: right;\n",
       "    }\n",
       "</style>\n",
       "<table border=\"1\" class=\"dataframe\">\n",
       "  <thead>\n",
       "    <tr style=\"text-align: right;\">\n",
       "      <th></th>\n",
       "      <th>splits</th>\n",
       "      <th>Count</th>\n",
       "    </tr>\n",
       "  </thead>\n",
       "  <tbody>\n",
       "    <tr>\n",
       "      <th>0</th>\n",
       "      <td>TRAIN</td>\n",
       "      <td>1463</td>\n",
       "    </tr>\n",
       "    <tr>\n",
       "      <th>1</th>\n",
       "      <td>TEST</td>\n",
       "      <td>334</td>\n",
       "    </tr>\n",
       "  </tbody>\n",
       "</table>\n",
       "</div>"
      ],
      "text/plain": [
       "  splits  Count\n",
       "0  TRAIN   1463\n",
       "1   TEST    334"
      ]
     },
     "execution_count": 32,
     "metadata": {},
     "output_type": "execute_result"
    }
   ],
   "source": [
    "%%bigquery\n",
    "SELECT splits, count(*) as Count\n",
    "FROM `statmike-mlops.digits.digits_prepped`\n",
    "GROUP BY splits"
   ]
  },
  {
   "cell_type": "markdown",
   "id": "official-translation",
   "metadata": {},
   "source": [
    "Retrieve a subset of the data to a Pandas dataframe:"
   ]
  },
  {
   "cell_type": "code",
   "execution_count": 33,
   "id": "adjacent-transition",
   "metadata": {},
   "outputs": [],
   "source": [
    "%%bigquery digits\n",
    "SELECT * FROM `statmike-mlops.digits.digits_prepped` WHERE target = 2"
   ]
  },
  {
   "cell_type": "code",
   "execution_count": 34,
   "id": "amended-canvas",
   "metadata": {},
   "outputs": [
    {
     "data": {
      "text/html": [
       "<div>\n",
       "<style scoped>\n",
       "    .dataframe tbody tr th:only-of-type {\n",
       "        vertical-align: middle;\n",
       "    }\n",
       "\n",
       "    .dataframe tbody tr th {\n",
       "        vertical-align: top;\n",
       "    }\n",
       "\n",
       "    .dataframe thead th {\n",
       "        text-align: right;\n",
       "    }\n",
       "</style>\n",
       "<table border=\"1\" class=\"dataframe\">\n",
       "  <thead>\n",
       "    <tr style=\"text-align: right;\">\n",
       "      <th></th>\n",
       "      <th>p0</th>\n",
       "      <th>p1</th>\n",
       "      <th>p2</th>\n",
       "      <th>p3</th>\n",
       "      <th>p4</th>\n",
       "      <th>p5</th>\n",
       "      <th>p6</th>\n",
       "      <th>p7</th>\n",
       "      <th>p8</th>\n",
       "      <th>p9</th>\n",
       "      <th>...</th>\n",
       "      <th>p57</th>\n",
       "      <th>p58</th>\n",
       "      <th>p59</th>\n",
       "      <th>p60</th>\n",
       "      <th>p61</th>\n",
       "      <th>p62</th>\n",
       "      <th>p63</th>\n",
       "      <th>target</th>\n",
       "      <th>target_OE</th>\n",
       "      <th>SPLITS</th>\n",
       "    </tr>\n",
       "  </thead>\n",
       "  <tbody>\n",
       "    <tr>\n",
       "      <th>0</th>\n",
       "      <td>0.0</td>\n",
       "      <td>0.0</td>\n",
       "      <td>0.0</td>\n",
       "      <td>0.0</td>\n",
       "      <td>11.0</td>\n",
       "      <td>15.0</td>\n",
       "      <td>4.0</td>\n",
       "      <td>0.0</td>\n",
       "      <td>0.0</td>\n",
       "      <td>0.0</td>\n",
       "      <td>...</td>\n",
       "      <td>0.0</td>\n",
       "      <td>0.0</td>\n",
       "      <td>1.0</td>\n",
       "      <td>11.0</td>\n",
       "      <td>16.0</td>\n",
       "      <td>12.0</td>\n",
       "      <td>0.0</td>\n",
       "      <td>2</td>\n",
       "      <td>Even</td>\n",
       "      <td>TRAIN</td>\n",
       "    </tr>\n",
       "    <tr>\n",
       "      <th>1</th>\n",
       "      <td>0.0</td>\n",
       "      <td>0.0</td>\n",
       "      <td>0.0</td>\n",
       "      <td>0.0</td>\n",
       "      <td>9.0</td>\n",
       "      <td>13.0</td>\n",
       "      <td>0.0</td>\n",
       "      <td>0.0</td>\n",
       "      <td>0.0</td>\n",
       "      <td>0.0</td>\n",
       "      <td>...</td>\n",
       "      <td>0.0</td>\n",
       "      <td>0.0</td>\n",
       "      <td>0.0</td>\n",
       "      <td>9.0</td>\n",
       "      <td>15.0</td>\n",
       "      <td>9.0</td>\n",
       "      <td>0.0</td>\n",
       "      <td>2</td>\n",
       "      <td>Even</td>\n",
       "      <td>TRAIN</td>\n",
       "    </tr>\n",
       "    <tr>\n",
       "      <th>2</th>\n",
       "      <td>0.0</td>\n",
       "      <td>0.0</td>\n",
       "      <td>0.0</td>\n",
       "      <td>3.0</td>\n",
       "      <td>15.0</td>\n",
       "      <td>10.0</td>\n",
       "      <td>1.0</td>\n",
       "      <td>0.0</td>\n",
       "      <td>0.0</td>\n",
       "      <td>0.0</td>\n",
       "      <td>...</td>\n",
       "      <td>0.0</td>\n",
       "      <td>0.0</td>\n",
       "      <td>4.0</td>\n",
       "      <td>9.0</td>\n",
       "      <td>14.0</td>\n",
       "      <td>7.0</td>\n",
       "      <td>0.0</td>\n",
       "      <td>2</td>\n",
       "      <td>Even</td>\n",
       "      <td>TRAIN</td>\n",
       "    </tr>\n",
       "    <tr>\n",
       "      <th>3</th>\n",
       "      <td>0.0</td>\n",
       "      <td>0.0</td>\n",
       "      <td>0.0</td>\n",
       "      <td>3.0</td>\n",
       "      <td>15.0</td>\n",
       "      <td>13.0</td>\n",
       "      <td>1.0</td>\n",
       "      <td>0.0</td>\n",
       "      <td>0.0</td>\n",
       "      <td>0.0</td>\n",
       "      <td>...</td>\n",
       "      <td>4.0</td>\n",
       "      <td>4.0</td>\n",
       "      <td>5.0</td>\n",
       "      <td>13.0</td>\n",
       "      <td>6.0</td>\n",
       "      <td>0.0</td>\n",
       "      <td>0.0</td>\n",
       "      <td>2</td>\n",
       "      <td>Even</td>\n",
       "      <td>TRAIN</td>\n",
       "    </tr>\n",
       "    <tr>\n",
       "      <th>4</th>\n",
       "      <td>0.0</td>\n",
       "      <td>0.0</td>\n",
       "      <td>0.0</td>\n",
       "      <td>4.0</td>\n",
       "      <td>15.0</td>\n",
       "      <td>12.0</td>\n",
       "      <td>0.0</td>\n",
       "      <td>0.0</td>\n",
       "      <td>0.0</td>\n",
       "      <td>0.0</td>\n",
       "      <td>...</td>\n",
       "      <td>0.0</td>\n",
       "      <td>0.0</td>\n",
       "      <td>3.0</td>\n",
       "      <td>11.0</td>\n",
       "      <td>16.0</td>\n",
       "      <td>9.0</td>\n",
       "      <td>0.0</td>\n",
       "      <td>2</td>\n",
       "      <td>Even</td>\n",
       "      <td>TRAIN</td>\n",
       "    </tr>\n",
       "  </tbody>\n",
       "</table>\n",
       "<p>5 rows × 67 columns</p>\n",
       "</div>"
      ],
      "text/plain": [
       "    p0   p1   p2   p3    p4    p5   p6   p7   p8   p9  ...  p57  p58  p59  \\\n",
       "0  0.0  0.0  0.0  0.0  11.0  15.0  4.0  0.0  0.0  0.0  ...  0.0  0.0  1.0   \n",
       "1  0.0  0.0  0.0  0.0   9.0  13.0  0.0  0.0  0.0  0.0  ...  0.0  0.0  0.0   \n",
       "2  0.0  0.0  0.0  3.0  15.0  10.0  1.0  0.0  0.0  0.0  ...  0.0  0.0  4.0   \n",
       "3  0.0  0.0  0.0  3.0  15.0  13.0  1.0  0.0  0.0  0.0  ...  4.0  4.0  5.0   \n",
       "4  0.0  0.0  0.0  4.0  15.0  12.0  0.0  0.0  0.0  0.0  ...  0.0  0.0  3.0   \n",
       "\n",
       "    p60   p61   p62  p63  target  target_OE  SPLITS  \n",
       "0  11.0  16.0  12.0  0.0       2       Even   TRAIN  \n",
       "1   9.0  15.0   9.0  0.0       2       Even   TRAIN  \n",
       "2   9.0  14.0   7.0  0.0       2       Even   TRAIN  \n",
       "3  13.0   6.0   0.0  0.0       2       Even   TRAIN  \n",
       "4  11.0  16.0   9.0  0.0       2       Even   TRAIN  \n",
       "\n",
       "[5 rows x 67 columns]"
      ]
     },
     "execution_count": 34,
     "metadata": {},
     "output_type": "execute_result"
    }
   ],
   "source": [
    "digits.head()"
   ]
  },
  {
   "cell_type": "markdown",
   "id": "secondary-dressing",
   "metadata": {},
   "source": [
    "---\n",
    "## Remove Resources\n",
    "- delete table `statmike-mlops.digits.digits_prepped`\n",
    "- delete table `statmike-mlops.digits.digits_source`\n",
    "- delete dataset `statmike-mlops`"
   ]
  },
  {
   "cell_type": "code",
   "execution_count": 23,
   "id": "appreciated-brake",
   "metadata": {},
   "outputs": [],
   "source": [
    "bq.delete_table('statmike-mlops.digits.digits_prepped',not_found_ok=True)\n",
    "bq.delete_table('statmike-mlops.digits.digits_source',not_found_ok=True)\n",
    "bq.delete_dataset('statmike-mlops.digits',not_found_ok=True)"
   ]
  }
 ],
 "metadata": {
  "environment": {
   "name": "tf2-gpu.2-4.m65",
   "type": "gcloud",
   "uri": "gcr.io/deeplearning-platform-release/tf2-gpu.2-4:m65"
  },
  "kernelspec": {
   "display_name": "Python 3",
   "language": "python",
   "name": "python3"
  },
  "language_info": {
   "codemirror_mode": {
    "name": "ipython",
    "version": 3
   },
   "file_extension": ".py",
   "mimetype": "text/x-python",
   "name": "python",
   "nbconvert_exporter": "python",
   "pygments_lexer": "ipython3",
   "version": "3.7.10"
  }
 },
 "nbformat": 4,
 "nbformat_minor": 5
}
