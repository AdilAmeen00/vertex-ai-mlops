{
 "cells": [
  {
   "cell_type": "markdown",
   "id": "49f0f968-2cff-4809-a255-146b5cb87b63",
   "metadata": {},
   "source": [
    "# 05tools_2b: Understanding Model Performance and Fairness with the Language Interpretability Tool (LIT)\n",
    "\n",
    "The [Language Interpretability Tool (LIT)](https://pair-code.github.io/lit/) helps understand a model behavior across a wide range of inputs.  In this notebook the 05 series models will be evaluated with the LIT tool.  While it might sound like LIT is specific to language models,it actually work well with any model!\n",
    "\n",
    "This notebook will show how to connect the tool to the model multiple ways and how to use the tool to evaluate the model.\n"
   ]
  },
  {
   "cell_type": "markdown",
   "id": "768a7800-e18d-4830-99e4-bc877eb67699",
   "metadata": {},
   "source": [
    "---\n",
    "## Installing LIT\n",
    "The first time using LIT in the notebook environment will require an install of the python package lit-nlp:\n",
    "- From a Terminal: `pip install lit-nlp -U -q`\n",
    "- From a Cell of User-Managed Workbench: `!pip install lit-nlp -U -q`\n",
    "- From a Cell of a Managed Workbench: `!pip install --user lit-nlp -U -q`"
   ]
  },
  {
   "cell_type": "markdown",
   "id": "b800444d-6a15-4ce2-9f4f-a4dc64791683",
   "metadata": {},
   "source": [
    "---\n",
    "## Environment Setup"
   ]
  },
  {
   "cell_type": "markdown",
   "id": "fcd49c73-cab3-4d46-836a-deefe201f0fa",
   "metadata": {},
   "source": [
    "inputs:"
   ]
  },
  {
   "cell_type": "code",
   "execution_count": 1,
   "id": "bd8cd56f-27cd-4da2-bd6e-57baadcf5e33",
   "metadata": {},
   "outputs": [
    {
     "data": {
      "text/plain": [
       "'statmike-mlops-349915'"
      ]
     },
     "execution_count": 1,
     "metadata": {},
     "output_type": "execute_result"
    }
   ],
   "source": [
    "project = !gcloud config get-value project\n",
    "PROJECT_ID = project[0]\n",
    "PROJECT_ID"
   ]
  },
  {
   "cell_type": "code",
   "execution_count": 2,
   "id": "04326d3f-05e4-4c6f-8e5d-d3f73ee6d8a4",
   "metadata": {},
   "outputs": [],
   "source": [
    "REGION = 'us-central1'\n",
    "DATANAME = 'fraud'\n",
    "NOTEBOOK = '05tools_2b'\n",
    "SERIES = '05'\n",
    "\n",
    "# Model Training\n",
    "VAR_TARGET = 'Class'\n",
    "VAR_OMIT = 'transaction_id' # add more variables to the string with space delimiters"
   ]
  },
  {
   "cell_type": "markdown",
   "id": "9f1adc9e-0a4b-4f2c-bc9a-f76623030e7f",
   "metadata": {},
   "source": [
    "packages:"
   ]
  },
  {
   "cell_type": "code",
   "execution_count": 3,
   "id": "4e0aea89-6216-420a-b047-dd9c32a14ae4",
   "metadata": {},
   "outputs": [],
   "source": [
    "from google.cloud import aiplatform\n",
    "from google.cloud import bigquery\n",
    "\n",
    "from google.protobuf import json_format\n",
    "from google.protobuf.struct_pb2 import Value\n",
    "\n",
    "from lit_nlp.api import dataset as lit_dataset\n",
    "from lit_nlp.api import types as lit_types\n",
    "from lit_nlp.api import model as lit_model\n",
    "from lit_nlp import notebook\n",
    "\n",
    "import numpy as np"
   ]
  },
  {
   "cell_type": "markdown",
   "id": "0c7aec36-b52e-420d-b92c-c0ab81571182",
   "metadata": {},
   "source": [
    "clients:"
   ]
  },
  {
   "cell_type": "code",
   "execution_count": 4,
   "id": "f6757dc5-c286-40ee-b093-cf63cc7ac3ca",
   "metadata": {},
   "outputs": [],
   "source": [
    "aiplatform.init(project=PROJECT_ID, location=REGION)\n",
    "bq = bigquery.Client(project=PROJECT_ID)"
   ]
  },
  {
   "cell_type": "markdown",
   "id": "62bf64d5-3d6a-4b06-8e83-1e0a1398ebcb",
   "metadata": {},
   "source": [
    "parameters:"
   ]
  },
  {
   "cell_type": "code",
   "execution_count": 5,
   "id": "592a548f-927b-4144-9904-31e50a098939",
   "metadata": {},
   "outputs": [],
   "source": [
    "BUCKET = PROJECT_ID\n",
    "DIR = f\"temp/{NOTEBOOK}\""
   ]
  },
  {
   "cell_type": "markdown",
   "id": "be6ecd30-2768-4a06-a978-283d7b7758ef",
   "metadata": {},
   "source": [
    "environment:"
   ]
  },
  {
   "cell_type": "code",
   "execution_count": 6,
   "id": "5963589d-beb2-431e-9b50-65b1601889c3",
   "metadata": {},
   "outputs": [],
   "source": [
    "!rm -rf {DIR}\n",
    "!mkdir -p {DIR}"
   ]
  },
  {
   "cell_type": "markdown",
   "id": "71a959f1-519b-41ce-872d-5a5066590795",
   "metadata": {},
   "source": [
    "---\n",
    "## Get Vertex AI Endpoint And Deployed Model"
   ]
  },
  {
   "cell_type": "code",
   "execution_count": 7,
   "id": "d1ec4b68-c1a6-461c-b8af-dff810ee59ed",
   "metadata": {},
   "outputs": [],
   "source": [
    "endpoints = aiplatform.Endpoint.list(filter = f\"display_name={SERIES}_{DATANAME}\")\n",
    "endpoint = endpoints[0]"
   ]
  },
  {
   "cell_type": "code",
   "execution_count": 8,
   "id": "679bd40b-4626-40aa-81ef-e15527bf6c21",
   "metadata": {},
   "outputs": [
    {
     "data": {
      "text/plain": [
       "'05_fraud'"
      ]
     },
     "execution_count": 8,
     "metadata": {},
     "output_type": "execute_result"
    }
   ],
   "source": [
    "endpoint.display_name"
   ]
  },
  {
   "cell_type": "code",
   "execution_count": 9,
   "id": "7ce01252-b973-4b1a-98a9-e0835134d40f",
   "metadata": {},
   "outputs": [],
   "source": [
    "model = aiplatform.Model(\n",
    "    model_name = endpoint.list_models()[0].model+f'@{endpoint.list_models()[0].model_version_id}'\n",
    ")"
   ]
  },
  {
   "cell_type": "code",
   "execution_count": 10,
   "id": "8b9ee474-7d9c-47a4-8a7b-96b1d6de7cf5",
   "metadata": {},
   "outputs": [
    {
     "data": {
      "text/plain": [
       "'05i_fraud'"
      ]
     },
     "execution_count": 10,
     "metadata": {},
     "output_type": "execute_result"
    }
   ],
   "source": [
    "model.display_name"
   ]
  },
  {
   "cell_type": "code",
   "execution_count": 11,
   "id": "27fe9919-6f54-4a05-a5aa-ccf6cbcf33a6",
   "metadata": {},
   "outputs": [
    {
     "data": {
      "text/plain": [
       "'projects/1026793852137/locations/us-central1/models/model_05i_fraud@1'"
      ]
     },
     "execution_count": 11,
     "metadata": {},
     "output_type": "execute_result"
    }
   ],
   "source": [
    "model.versioned_resource_name"
   ]
  },
  {
   "cell_type": "code",
   "execution_count": 12,
   "id": "b1ce83a0-ebd9-46df-bcd5-2d814045f328",
   "metadata": {},
   "outputs": [
    {
     "data": {
      "text/plain": [
       "'gs://statmike-mlops-349915/fraud/models/05i/20220728003419/18/model'"
      ]
     },
     "execution_count": 12,
     "metadata": {},
     "output_type": "execute_result"
    }
   ],
   "source": [
    "model.uri"
   ]
  },
  {
   "cell_type": "markdown",
   "id": "8e23ba42-e08f-480b-bb32-7c163494aaac",
   "metadata": {},
   "source": [
    "## Get Data for Model Exploration\n",
    "Retrive the test data for this series:"
   ]
  },
  {
   "cell_type": "code",
   "execution_count": 13,
   "id": "b97a2925-9597-4144-a810-ae986aa13427",
   "metadata": {},
   "outputs": [
    {
     "data": {
      "text/html": [
       "<div>\n",
       "<style scoped>\n",
       "    .dataframe tbody tr th:only-of-type {\n",
       "        vertical-align: middle;\n",
       "    }\n",
       "\n",
       "    .dataframe tbody tr th {\n",
       "        vertical-align: top;\n",
       "    }\n",
       "\n",
       "    .dataframe thead th {\n",
       "        text-align: right;\n",
       "    }\n",
       "</style>\n",
       "<table border=\"1\" class=\"dataframe\">\n",
       "  <thead>\n",
       "    <tr style=\"text-align: right;\">\n",
       "      <th></th>\n",
       "      <th>Time</th>\n",
       "      <th>V1</th>\n",
       "      <th>V2</th>\n",
       "      <th>V3</th>\n",
       "      <th>V4</th>\n",
       "      <th>V5</th>\n",
       "      <th>V6</th>\n",
       "      <th>V7</th>\n",
       "      <th>V8</th>\n",
       "      <th>V9</th>\n",
       "      <th>...</th>\n",
       "      <th>V21</th>\n",
       "      <th>V22</th>\n",
       "      <th>V23</th>\n",
       "      <th>V24</th>\n",
       "      <th>V25</th>\n",
       "      <th>V26</th>\n",
       "      <th>V27</th>\n",
       "      <th>V28</th>\n",
       "      <th>Amount</th>\n",
       "      <th>Class</th>\n",
       "    </tr>\n",
       "  </thead>\n",
       "  <tbody>\n",
       "    <tr>\n",
       "      <th>0</th>\n",
       "      <td>148074</td>\n",
       "      <td>-2.219219</td>\n",
       "      <td>0.727831</td>\n",
       "      <td>-5.458230</td>\n",
       "      <td>5.924850</td>\n",
       "      <td>3.932464</td>\n",
       "      <td>-3.085984</td>\n",
       "      <td>-1.677870</td>\n",
       "      <td>0.865075</td>\n",
       "      <td>-3.177260</td>\n",
       "      <td>...</td>\n",
       "      <td>0.417472</td>\n",
       "      <td>-0.817343</td>\n",
       "      <td>-0.028752</td>\n",
       "      <td>0.025723</td>\n",
       "      <td>-0.825835</td>\n",
       "      <td>-0.013089</td>\n",
       "      <td>0.413291</td>\n",
       "      <td>-0.131387</td>\n",
       "      <td>0.0</td>\n",
       "      <td>1</td>\n",
       "    </tr>\n",
       "    <tr>\n",
       "      <th>1</th>\n",
       "      <td>129668</td>\n",
       "      <td>0.753356</td>\n",
       "      <td>2.284988</td>\n",
       "      <td>-5.164492</td>\n",
       "      <td>3.831112</td>\n",
       "      <td>-0.073622</td>\n",
       "      <td>-1.316596</td>\n",
       "      <td>-1.855495</td>\n",
       "      <td>0.831079</td>\n",
       "      <td>-1.567514</td>\n",
       "      <td>...</td>\n",
       "      <td>0.382007</td>\n",
       "      <td>0.033958</td>\n",
       "      <td>0.187697</td>\n",
       "      <td>0.358433</td>\n",
       "      <td>-0.488934</td>\n",
       "      <td>-0.258802</td>\n",
       "      <td>0.296145</td>\n",
       "      <td>-0.047174</td>\n",
       "      <td>2.0</td>\n",
       "      <td>1</td>\n",
       "    </tr>\n",
       "    <tr>\n",
       "      <th>2</th>\n",
       "      <td>56887</td>\n",
       "      <td>-0.075483</td>\n",
       "      <td>1.812355</td>\n",
       "      <td>-2.566981</td>\n",
       "      <td>4.127549</td>\n",
       "      <td>-1.628532</td>\n",
       "      <td>-0.805895</td>\n",
       "      <td>-3.390135</td>\n",
       "      <td>1.019353</td>\n",
       "      <td>-2.451251</td>\n",
       "      <td>...</td>\n",
       "      <td>0.794372</td>\n",
       "      <td>0.270471</td>\n",
       "      <td>-0.143624</td>\n",
       "      <td>0.013566</td>\n",
       "      <td>0.634203</td>\n",
       "      <td>0.213693</td>\n",
       "      <td>0.773625</td>\n",
       "      <td>0.387434</td>\n",
       "      <td>5.0</td>\n",
       "      <td>1</td>\n",
       "    </tr>\n",
       "    <tr>\n",
       "      <th>3</th>\n",
       "      <td>146998</td>\n",
       "      <td>-2.064240</td>\n",
       "      <td>2.629739</td>\n",
       "      <td>-0.748406</td>\n",
       "      <td>0.694992</td>\n",
       "      <td>0.418178</td>\n",
       "      <td>1.392520</td>\n",
       "      <td>-1.697801</td>\n",
       "      <td>-6.333065</td>\n",
       "      <td>1.724184</td>\n",
       "      <td>...</td>\n",
       "      <td>6.215514</td>\n",
       "      <td>-1.276909</td>\n",
       "      <td>0.459861</td>\n",
       "      <td>-1.051685</td>\n",
       "      <td>0.209178</td>\n",
       "      <td>-0.319859</td>\n",
       "      <td>0.015434</td>\n",
       "      <td>-0.050117</td>\n",
       "      <td>8.0</td>\n",
       "      <td>1</td>\n",
       "    </tr>\n",
       "    <tr>\n",
       "      <th>4</th>\n",
       "      <td>78725</td>\n",
       "      <td>-4.312479</td>\n",
       "      <td>1.886476</td>\n",
       "      <td>-2.338634</td>\n",
       "      <td>-0.475243</td>\n",
       "      <td>-1.185444</td>\n",
       "      <td>-2.112079</td>\n",
       "      <td>-2.122793</td>\n",
       "      <td>0.272565</td>\n",
       "      <td>0.290273</td>\n",
       "      <td>...</td>\n",
       "      <td>0.550541</td>\n",
       "      <td>-0.067870</td>\n",
       "      <td>-1.114692</td>\n",
       "      <td>0.269069</td>\n",
       "      <td>-0.020572</td>\n",
       "      <td>-0.963489</td>\n",
       "      <td>-0.918888</td>\n",
       "      <td>0.001454</td>\n",
       "      <td>60.0</td>\n",
       "      <td>1</td>\n",
       "    </tr>\n",
       "  </tbody>\n",
       "</table>\n",
       "<p>5 rows × 31 columns</p>\n",
       "</div>"
      ],
      "text/plain": [
       "     Time        V1        V2        V3        V4        V5        V6  \\\n",
       "0  148074 -2.219219  0.727831 -5.458230  5.924850  3.932464 -3.085984   \n",
       "1  129668  0.753356  2.284988 -5.164492  3.831112 -0.073622 -1.316596   \n",
       "2   56887 -0.075483  1.812355 -2.566981  4.127549 -1.628532 -0.805895   \n",
       "3  146998 -2.064240  2.629739 -0.748406  0.694992  0.418178  1.392520   \n",
       "4   78725 -4.312479  1.886476 -2.338634 -0.475243 -1.185444 -2.112079   \n",
       "\n",
       "         V7        V8        V9  ...       V21       V22       V23       V24  \\\n",
       "0 -1.677870  0.865075 -3.177260  ...  0.417472 -0.817343 -0.028752  0.025723   \n",
       "1 -1.855495  0.831079 -1.567514  ...  0.382007  0.033958  0.187697  0.358433   \n",
       "2 -3.390135  1.019353 -2.451251  ...  0.794372  0.270471 -0.143624  0.013566   \n",
       "3 -1.697801 -6.333065  1.724184  ...  6.215514 -1.276909  0.459861 -1.051685   \n",
       "4 -2.122793  0.272565  0.290273  ...  0.550541 -0.067870 -1.114692  0.269069   \n",
       "\n",
       "        V25       V26       V27       V28  Amount  Class  \n",
       "0 -0.825835 -0.013089  0.413291 -0.131387     0.0      1  \n",
       "1 -0.488934 -0.258802  0.296145 -0.047174     2.0      1  \n",
       "2  0.634203  0.213693  0.773625  0.387434     5.0      1  \n",
       "3  0.209178 -0.319859  0.015434 -0.050117     8.0      1  \n",
       "4 -0.020572 -0.963489 -0.918888  0.001454    60.0      1  \n",
       "\n",
       "[5 rows x 31 columns]"
      ]
     },
     "execution_count": 13,
     "metadata": {},
     "output_type": "execute_result"
    }
   ],
   "source": [
    "test = bq.query(query = f\"SELECT * EXCEPT({VAR_TARGET}), {VAR_TARGET} FROM {DATANAME}.{DATANAME}_prepped WHERE splits='TEST' ORDER BY {VAR_TARGET} DESC\").to_dataframe()\n",
    "test = test[test.columns[~test.columns.isin(VAR_OMIT.split()+['splits'])]]\n",
    "test.head()"
   ]
  },
  {
   "cell_type": "code",
   "execution_count": 14,
   "id": "a403f0ec-e34d-4153-a5e4-19fd94887880",
   "metadata": {},
   "outputs": [
    {
     "data": {
      "text/plain": [
       "(28522, 31)"
      ]
     },
     "execution_count": 14,
     "metadata": {},
     "output_type": "execute_result"
    }
   ],
   "source": [
    "test.shape"
   ]
  },
  {
   "cell_type": "code",
   "execution_count": 15,
   "id": "c541ee51-22ec-4efd-b0d1-0d7be8ff71a2",
   "metadata": {},
   "outputs": [
    {
     "data": {
      "text/html": [
       "<div>\n",
       "<style scoped>\n",
       "    .dataframe tbody tr th:only-of-type {\n",
       "        vertical-align: middle;\n",
       "    }\n",
       "\n",
       "    .dataframe tbody tr th {\n",
       "        vertical-align: top;\n",
       "    }\n",
       "\n",
       "    .dataframe thead th {\n",
       "        text-align: right;\n",
       "    }\n",
       "</style>\n",
       "<table border=\"1\" class=\"dataframe\">\n",
       "  <thead>\n",
       "    <tr style=\"text-align: right;\">\n",
       "      <th></th>\n",
       "      <th>Time</th>\n",
       "      <th>V1</th>\n",
       "      <th>V2</th>\n",
       "      <th>V3</th>\n",
       "      <th>V4</th>\n",
       "      <th>V5</th>\n",
       "      <th>V6</th>\n",
       "      <th>V7</th>\n",
       "      <th>V8</th>\n",
       "      <th>V9</th>\n",
       "      <th>...</th>\n",
       "      <th>V21</th>\n",
       "      <th>V22</th>\n",
       "      <th>V23</th>\n",
       "      <th>V24</th>\n",
       "      <th>V25</th>\n",
       "      <th>V26</th>\n",
       "      <th>V27</th>\n",
       "      <th>V28</th>\n",
       "      <th>Amount</th>\n",
       "      <th>Class</th>\n",
       "    </tr>\n",
       "  </thead>\n",
       "  <tbody>\n",
       "    <tr>\n",
       "      <th>0</th>\n",
       "      <td>85285</td>\n",
       "      <td>-7.030308</td>\n",
       "      <td>3.421991</td>\n",
       "      <td>-9.525072</td>\n",
       "      <td>5.270891</td>\n",
       "      <td>-4.024630</td>\n",
       "      <td>-2.865682</td>\n",
       "      <td>-6.989195</td>\n",
       "      <td>3.791551</td>\n",
       "      <td>-4.622730</td>\n",
       "      <td>...</td>\n",
       "      <td>1.103398</td>\n",
       "      <td>-0.541855</td>\n",
       "      <td>0.036943</td>\n",
       "      <td>-0.355519</td>\n",
       "      <td>0.353634</td>\n",
       "      <td>1.042458</td>\n",
       "      <td>1.359516</td>\n",
       "      <td>-0.272188</td>\n",
       "      <td>0.0</td>\n",
       "      <td>1</td>\n",
       "    </tr>\n",
       "    <tr>\n",
       "      <th>1</th>\n",
       "      <td>142961</td>\n",
       "      <td>0.457845</td>\n",
       "      <td>1.373769</td>\n",
       "      <td>-0.488926</td>\n",
       "      <td>2.805351</td>\n",
       "      <td>1.777386</td>\n",
       "      <td>0.100492</td>\n",
       "      <td>1.295016</td>\n",
       "      <td>-0.135857</td>\n",
       "      <td>-1.695822</td>\n",
       "      <td>...</td>\n",
       "      <td>0.105593</td>\n",
       "      <td>0.371014</td>\n",
       "      <td>0.051105</td>\n",
       "      <td>0.401524</td>\n",
       "      <td>-0.724766</td>\n",
       "      <td>-0.202881</td>\n",
       "      <td>0.092124</td>\n",
       "      <td>0.094956</td>\n",
       "      <td>0.0</td>\n",
       "      <td>1</td>\n",
       "    </tr>\n",
       "    <tr>\n",
       "      <th>2</th>\n",
       "      <td>149640</td>\n",
       "      <td>0.754316</td>\n",
       "      <td>2.379822</td>\n",
       "      <td>-5.137274</td>\n",
       "      <td>3.818392</td>\n",
       "      <td>0.043203</td>\n",
       "      <td>-1.285451</td>\n",
       "      <td>-1.766684</td>\n",
       "      <td>0.756711</td>\n",
       "      <td>-1.765722</td>\n",
       "      <td>...</td>\n",
       "      <td>0.397058</td>\n",
       "      <td>0.141165</td>\n",
       "      <td>0.171985</td>\n",
       "      <td>0.394274</td>\n",
       "      <td>-0.444642</td>\n",
       "      <td>-0.263189</td>\n",
       "      <td>0.304703</td>\n",
       "      <td>-0.044362</td>\n",
       "      <td>2.0</td>\n",
       "      <td>1</td>\n",
       "    </tr>\n",
       "    <tr>\n",
       "      <th>3</th>\n",
       "      <td>92092</td>\n",
       "      <td>-1.108478</td>\n",
       "      <td>3.448953</td>\n",
       "      <td>-6.216972</td>\n",
       "      <td>3.021052</td>\n",
       "      <td>-0.529901</td>\n",
       "      <td>-2.551375</td>\n",
       "      <td>-2.001743</td>\n",
       "      <td>1.092432</td>\n",
       "      <td>-0.836098</td>\n",
       "      <td>...</td>\n",
       "      <td>0.825951</td>\n",
       "      <td>1.144170</td>\n",
       "      <td>0.208559</td>\n",
       "      <td>-0.295497</td>\n",
       "      <td>-0.690232</td>\n",
       "      <td>-0.364749</td>\n",
       "      <td>0.229327</td>\n",
       "      <td>0.208830</td>\n",
       "      <td>18.0</td>\n",
       "      <td>1</td>\n",
       "    </tr>\n",
       "    <tr>\n",
       "      <th>4</th>\n",
       "      <td>94362</td>\n",
       "      <td>-26.457745</td>\n",
       "      <td>16.497472</td>\n",
       "      <td>-30.177317</td>\n",
       "      <td>8.904157</td>\n",
       "      <td>-17.892600</td>\n",
       "      <td>-1.227904</td>\n",
       "      <td>-31.197329</td>\n",
       "      <td>-11.438920</td>\n",
       "      <td>-9.462573</td>\n",
       "      <td>...</td>\n",
       "      <td>-8.755698</td>\n",
       "      <td>3.460893</td>\n",
       "      <td>0.896538</td>\n",
       "      <td>0.254836</td>\n",
       "      <td>-0.738097</td>\n",
       "      <td>-0.966564</td>\n",
       "      <td>-7.263482</td>\n",
       "      <td>-1.324884</td>\n",
       "      <td>1.0</td>\n",
       "      <td>1</td>\n",
       "    </tr>\n",
       "  </tbody>\n",
       "</table>\n",
       "<p>5 rows × 31 columns</p>\n",
       "</div>"
      ],
      "text/plain": [
       "     Time         V1         V2         V3        V4         V5        V6  \\\n",
       "0   85285  -7.030308   3.421991  -9.525072  5.270891  -4.024630 -2.865682   \n",
       "1  142961   0.457845   1.373769  -0.488926  2.805351   1.777386  0.100492   \n",
       "2  149640   0.754316   2.379822  -5.137274  3.818392   0.043203 -1.285451   \n",
       "3   92092  -1.108478   3.448953  -6.216972  3.021052  -0.529901 -2.551375   \n",
       "4   94362 -26.457745  16.497472 -30.177317  8.904157 -17.892600 -1.227904   \n",
       "\n",
       "          V7         V8        V9  ...       V21       V22       V23  \\\n",
       "0  -6.989195   3.791551 -4.622730  ...  1.103398 -0.541855  0.036943   \n",
       "1   1.295016  -0.135857 -1.695822  ...  0.105593  0.371014  0.051105   \n",
       "2  -1.766684   0.756711 -1.765722  ...  0.397058  0.141165  0.171985   \n",
       "3  -2.001743   1.092432 -0.836098  ...  0.825951  1.144170  0.208559   \n",
       "4 -31.197329 -11.438920 -9.462573  ... -8.755698  3.460893  0.896538   \n",
       "\n",
       "        V24       V25       V26       V27       V28  Amount  Class  \n",
       "0 -0.355519  0.353634  1.042458  1.359516 -0.272188     0.0      1  \n",
       "1  0.401524 -0.724766 -0.202881  0.092124  0.094956     0.0      1  \n",
       "2  0.394274 -0.444642 -0.263189  0.304703 -0.044362     2.0      1  \n",
       "3 -0.295497 -0.690232 -0.364749  0.229327  0.208830    18.0      1  \n",
       "4  0.254836 -0.738097 -0.966564 -7.263482 -1.324884     1.0      1  \n",
       "\n",
       "[5 rows x 31 columns]"
      ]
     },
     "execution_count": 15,
     "metadata": {},
     "output_type": "execute_result"
    }
   ],
   "source": [
    "val = bq.query(query = f\"SELECT * EXCEPT({VAR_TARGET}), {VAR_TARGET} FROM {DATANAME}.{DATANAME}_prepped WHERE splits='VALIDATE' ORDER BY {VAR_TARGET} DESC\").to_dataframe()\n",
    "val = val[val.columns[~val.columns.isin(VAR_OMIT.split()+['splits'])]]\n",
    "val.head()"
   ]
  },
  {
   "cell_type": "markdown",
   "id": "1d450644-1d3d-4eb1-8f79-9b600077a9a5",
   "metadata": {},
   "source": [
    "## Setting Up LIT\n",
    "At a minimimum, LIT requires a Dataset and Model specification following the requires [Type System](https://github.com/PAIR-code/lit/wiki/api.md#type-system):\n",
    "- Dataset\n",
    "    - Use the Type System to describe and format the examples as flat dictionaries using a custom Class\n",
    "- Model\n",
    "    - A custom class made up of Python functions that return inputs, outputs, and predictions following the Type System"
   ]
  },
  {
   "cell_type": "markdown",
   "id": "e146cea3-b746-451a-88b5-3d73d9f3ed69",
   "metadata": {},
   "source": [
    "Common Inputs:"
   ]
  },
  {
   "cell_type": "code",
   "execution_count": 34,
   "id": "d67536b3-b8d4-4f85-be9f-dcc7899df0d9",
   "metadata": {},
   "outputs": [],
   "source": [
    "VOCABS = {f'{VAR_TARGET}': ['Not Fraud', 'Fraud']}\n",
    "VAR_SPECS = test.dtypes.apply(lambda x: x.name).to_dict()"
   ]
  },
  {
   "cell_type": "markdown",
   "id": "c2d80d21-f5d2-4612-b170-ca317e7ac614",
   "metadata": {},
   "source": [
    "### LIT Dataset\n",
    "The class specification here for `FraudDataset` is built in a way that automate the specification by leveraging the knowledge that all the fields except the target, stored in `VAR_TARGET` above, are all numeric. The class also uses the commmon inputs defined in the previous cell/section. "
   ]
  },
  {
   "cell_type": "markdown",
   "id": "b8177805-de8c-4232-9c84-d315b85c20fe",
   "metadata": {},
   "source": [
    "Define Class for Dataset:"
   ]
  },
  {
   "cell_type": "code",
   "execution_count": 35,
   "id": "eab1a5e0-892a-40c3-b30b-984886f85eaa",
   "metadata": {},
   "outputs": [],
   "source": [
    "class FraudDataset(lit_dataset.Dataset):\n",
    "    \n",
    "    def __init__(self, ds):\n",
    "        records = ds.to_dict(orient='records')\n",
    "        self._examples = []\n",
    "        for rec in records:\n",
    "            rec[f'{VAR_TARGET}'] = VOCABS[f'{VAR_TARGET}'][rec[f'{VAR_TARGET}']]\n",
    "            self._examples.append(rec)\n",
    "            \n",
    "    def spec(self):\n",
    "        specs = VAR_SPECS.copy()\n",
    "        for s in specs:\n",
    "            if s == VAR_TARGET: specs[s] = lit_types.CategoryLabel(vocab = VOCABS[VAR_TARGET])\n",
    "            else: specs[s] = lit_types.Scalar()        \n",
    "        return specs"
   ]
  },
  {
   "cell_type": "markdown",
   "id": "c61ecac3-1041-4e9f-a120-56c2da60a09b",
   "metadata": {},
   "source": [
    "Test Class:"
   ]
  },
  {
   "cell_type": "code",
   "execution_count": 36,
   "id": "2da8a045-cd23-43ab-b76f-80666a989302",
   "metadata": {},
   "outputs": [],
   "source": [
    "test_ds = FraudDataset(test)\n",
    "val_ds = FraudDataset(val)"
   ]
  },
  {
   "cell_type": "code",
   "execution_count": 37,
   "id": "08facc06-c126-4ec3-bc37-5df80281f520",
   "metadata": {},
   "outputs": [
    {
     "data": {
      "text/plain": [
       "(28461, 28522)"
      ]
     },
     "execution_count": 37,
     "metadata": {},
     "output_type": "execute_result"
    }
   ],
   "source": [
    "len(val_ds.examples), len(test_ds.examples)"
   ]
  },
  {
   "cell_type": "code",
   "execution_count": 38,
   "id": "ec485aa3-737d-4688-9b9d-966b136746d1",
   "metadata": {},
   "outputs": [
    {
     "data": {
      "text/plain": [
       "({'Time': 148074,\n",
       "  'V1': -2.21921860215056,\n",
       "  'V2': 0.7278314111063922,\n",
       "  'V3': -5.45822994652182,\n",
       "  'V4': 5.92484984705884,\n",
       "  'V5': 3.9324638237634395,\n",
       "  'V6': -3.0859842366267003,\n",
       "  'V7': -1.67786998770016,\n",
       "  'V8': 0.865074610405235,\n",
       "  'V9': -3.1772602889458597,\n",
       "  'V10': -3.4192073840566404,\n",
       "  'V11': 3.6931739422441203,\n",
       "  'V12': -3.97843975507806,\n",
       "  'V13': -1.71859087457346,\n",
       "  'V14': -8.636297393652589,\n",
       "  'V15': -0.24296482145526502,\n",
       "  'V16': 1.17488417316765,\n",
       "  'V17': 2.13460635695284,\n",
       "  'V18': 2.59436483300614,\n",
       "  'V19': -1.25758897993879,\n",
       "  'V20': 0.9647718037347099,\n",
       "  'V21': 0.41747174595057,\n",
       "  'V22': -0.8173433840569749,\n",
       "  'V23': -0.0287524020141088,\n",
       "  'V24': 0.0257225108657227,\n",
       "  'V25': -0.8258353432218559,\n",
       "  'V26': -0.0130890304987416,\n",
       "  'V27': 0.413291188715315,\n",
       "  'V28': -0.131387346404896,\n",
       "  'Amount': 0.0,\n",
       "  'Class': 'Fraud'},\n",
       " {'Time': Scalar(required=True, annotated=False, min_val=0, max_val=1, default=0, step=0.01),\n",
       "  'V1': Scalar(required=True, annotated=False, min_val=0, max_val=1, default=0, step=0.01),\n",
       "  'V2': Scalar(required=True, annotated=False, min_val=0, max_val=1, default=0, step=0.01),\n",
       "  'V3': Scalar(required=True, annotated=False, min_val=0, max_val=1, default=0, step=0.01),\n",
       "  'V4': Scalar(required=True, annotated=False, min_val=0, max_val=1, default=0, step=0.01),\n",
       "  'V5': Scalar(required=True, annotated=False, min_val=0, max_val=1, default=0, step=0.01),\n",
       "  'V6': Scalar(required=True, annotated=False, min_val=0, max_val=1, default=0, step=0.01),\n",
       "  'V7': Scalar(required=True, annotated=False, min_val=0, max_val=1, default=0, step=0.01),\n",
       "  'V8': Scalar(required=True, annotated=False, min_val=0, max_val=1, default=0, step=0.01),\n",
       "  'V9': Scalar(required=True, annotated=False, min_val=0, max_val=1, default=0, step=0.01),\n",
       "  'V10': Scalar(required=True, annotated=False, min_val=0, max_val=1, default=0, step=0.01),\n",
       "  'V11': Scalar(required=True, annotated=False, min_val=0, max_val=1, default=0, step=0.01),\n",
       "  'V12': Scalar(required=True, annotated=False, min_val=0, max_val=1, default=0, step=0.01),\n",
       "  'V13': Scalar(required=True, annotated=False, min_val=0, max_val=1, default=0, step=0.01),\n",
       "  'V14': Scalar(required=True, annotated=False, min_val=0, max_val=1, default=0, step=0.01),\n",
       "  'V15': Scalar(required=True, annotated=False, min_val=0, max_val=1, default=0, step=0.01),\n",
       "  'V16': Scalar(required=True, annotated=False, min_val=0, max_val=1, default=0, step=0.01),\n",
       "  'V17': Scalar(required=True, annotated=False, min_val=0, max_val=1, default=0, step=0.01),\n",
       "  'V18': Scalar(required=True, annotated=False, min_val=0, max_val=1, default=0, step=0.01),\n",
       "  'V19': Scalar(required=True, annotated=False, min_val=0, max_val=1, default=0, step=0.01),\n",
       "  'V20': Scalar(required=True, annotated=False, min_val=0, max_val=1, default=0, step=0.01),\n",
       "  'V21': Scalar(required=True, annotated=False, min_val=0, max_val=1, default=0, step=0.01),\n",
       "  'V22': Scalar(required=True, annotated=False, min_val=0, max_val=1, default=0, step=0.01),\n",
       "  'V23': Scalar(required=True, annotated=False, min_val=0, max_val=1, default=0, step=0.01),\n",
       "  'V24': Scalar(required=True, annotated=False, min_val=0, max_val=1, default=0, step=0.01),\n",
       "  'V25': Scalar(required=True, annotated=False, min_val=0, max_val=1, default=0, step=0.01),\n",
       "  'V26': Scalar(required=True, annotated=False, min_val=0, max_val=1, default=0, step=0.01),\n",
       "  'V27': Scalar(required=True, annotated=False, min_val=0, max_val=1, default=0, step=0.01),\n",
       "  'V28': Scalar(required=True, annotated=False, min_val=0, max_val=1, default=0, step=0.01),\n",
       "  'Amount': Scalar(required=True, annotated=False, min_val=0, max_val=1, default=0, step=0.01),\n",
       "  'Class': CategoryLabel(required=True, annotated=False, vocab=['Not Fraud', 'Fraud'])})"
      ]
     },
     "execution_count": 38,
     "metadata": {},
     "output_type": "execute_result"
    }
   ],
   "source": [
    "test_ds.examples[0], test_ds.spec()"
   ]
  },
  {
   "cell_type": "code",
   "execution_count": 39,
   "id": "0108de2e-8fbd-48bf-9c08-faab3c4e9484",
   "metadata": {},
   "outputs": [
    {
     "data": {
      "text/plain": [
       "({'Time': 85285,\n",
       "  'V1': -7.03030814445441,\n",
       "  'V2': 3.4219909046755297,\n",
       "  'V3': -9.52507177254752,\n",
       "  'V4': 5.27089100906596,\n",
       "  'V5': -4.02463027558805,\n",
       "  'V6': -2.86568161775739,\n",
       "  'V7': -6.989194734394459,\n",
       "  'V8': 3.7915509375591294,\n",
       "  'V9': -4.62273033596451,\n",
       "  'V10': -8.40966487562735,\n",
       "  'V11': 6.30904400603177,\n",
       "  'V12': -8.57676143258937,\n",
       "  'V13': 0.24674671692986203,\n",
       "  'V14': -11.534046018150802,\n",
       "  'V15': -0.36426513875870004,\n",
       "  'V16': -5.45249465771382,\n",
       "  'V17': -11.8875700201872,\n",
       "  'V18': -3.5635848100701097,\n",
       "  'V19': 0.8760187681566278,\n",
       "  'V20': 0.545698040621445,\n",
       "  'V21': 1.10339774484256,\n",
       "  'V22': -0.541854751589521,\n",
       "  'V23': 0.0369432219896495,\n",
       "  'V24': -0.355519004066217,\n",
       "  'V25': 0.35363438209700004,\n",
       "  'V26': 1.04245799282131,\n",
       "  'V27': 1.35951563156376,\n",
       "  'V28': -0.272188101257294,\n",
       "  'Amount': 0.0,\n",
       "  'Class': 'Fraud'},\n",
       " {'Time': Scalar(required=True, annotated=False, min_val=0, max_val=1, default=0, step=0.01),\n",
       "  'V1': Scalar(required=True, annotated=False, min_val=0, max_val=1, default=0, step=0.01),\n",
       "  'V2': Scalar(required=True, annotated=False, min_val=0, max_val=1, default=0, step=0.01),\n",
       "  'V3': Scalar(required=True, annotated=False, min_val=0, max_val=1, default=0, step=0.01),\n",
       "  'V4': Scalar(required=True, annotated=False, min_val=0, max_val=1, default=0, step=0.01),\n",
       "  'V5': Scalar(required=True, annotated=False, min_val=0, max_val=1, default=0, step=0.01),\n",
       "  'V6': Scalar(required=True, annotated=False, min_val=0, max_val=1, default=0, step=0.01),\n",
       "  'V7': Scalar(required=True, annotated=False, min_val=0, max_val=1, default=0, step=0.01),\n",
       "  'V8': Scalar(required=True, annotated=False, min_val=0, max_val=1, default=0, step=0.01),\n",
       "  'V9': Scalar(required=True, annotated=False, min_val=0, max_val=1, default=0, step=0.01),\n",
       "  'V10': Scalar(required=True, annotated=False, min_val=0, max_val=1, default=0, step=0.01),\n",
       "  'V11': Scalar(required=True, annotated=False, min_val=0, max_val=1, default=0, step=0.01),\n",
       "  'V12': Scalar(required=True, annotated=False, min_val=0, max_val=1, default=0, step=0.01),\n",
       "  'V13': Scalar(required=True, annotated=False, min_val=0, max_val=1, default=0, step=0.01),\n",
       "  'V14': Scalar(required=True, annotated=False, min_val=0, max_val=1, default=0, step=0.01),\n",
       "  'V15': Scalar(required=True, annotated=False, min_val=0, max_val=1, default=0, step=0.01),\n",
       "  'V16': Scalar(required=True, annotated=False, min_val=0, max_val=1, default=0, step=0.01),\n",
       "  'V17': Scalar(required=True, annotated=False, min_val=0, max_val=1, default=0, step=0.01),\n",
       "  'V18': Scalar(required=True, annotated=False, min_val=0, max_val=1, default=0, step=0.01),\n",
       "  'V19': Scalar(required=True, annotated=False, min_val=0, max_val=1, default=0, step=0.01),\n",
       "  'V20': Scalar(required=True, annotated=False, min_val=0, max_val=1, default=0, step=0.01),\n",
       "  'V21': Scalar(required=True, annotated=False, min_val=0, max_val=1, default=0, step=0.01),\n",
       "  'V22': Scalar(required=True, annotated=False, min_val=0, max_val=1, default=0, step=0.01),\n",
       "  'V23': Scalar(required=True, annotated=False, min_val=0, max_val=1, default=0, step=0.01),\n",
       "  'V24': Scalar(required=True, annotated=False, min_val=0, max_val=1, default=0, step=0.01),\n",
       "  'V25': Scalar(required=True, annotated=False, min_val=0, max_val=1, default=0, step=0.01),\n",
       "  'V26': Scalar(required=True, annotated=False, min_val=0, max_val=1, default=0, step=0.01),\n",
       "  'V27': Scalar(required=True, annotated=False, min_val=0, max_val=1, default=0, step=0.01),\n",
       "  'V28': Scalar(required=True, annotated=False, min_val=0, max_val=1, default=0, step=0.01),\n",
       "  'Amount': Scalar(required=True, annotated=False, min_val=0, max_val=1, default=0, step=0.01),\n",
       "  'Class': CategoryLabel(required=True, annotated=False, vocab=['Not Fraud', 'Fraud'])})"
      ]
     },
     "execution_count": 39,
     "metadata": {},
     "output_type": "execute_result"
    }
   ],
   "source": [
    "val_ds.examples[0], val_ds.spec()"
   ]
  },
  {
   "cell_type": "markdown",
   "id": "8c11b346-d4b6-4ed5-b98c-8f10dbd47085",
   "metadata": {},
   "source": [
    "### LIT Model\n",
    "The class specification here for `FraudModel` is built to user the Vertex AI endpoint as a prediction service via the `endpoint.predict` method."
   ]
  },
  {
   "cell_type": "code",
   "execution_count": 108,
   "id": "ca80a4b4-03ce-4962-bb54-bd1a47da8ac8",
   "metadata": {},
   "outputs": [],
   "source": [
    "class FraudModel(lit_model.Model):\n",
    "    \n",
    "    def __init__(self, endpoint):\n",
    "        self.model = endpoint\n",
    "\n",
    "    def max_minibatch_size(self):\n",
    "        return 2000        \n",
    "        \n",
    "    def predict_minibatch(self, inputs):\n",
    "        instances = [json_format.ParseDict({key:value for key, value in example.items() if key != VAR_TARGET}, Value()) for example in inputs]\n",
    "        predictions = endpoint.predict(instances = instances).predictions\n",
    "        \n",
    "        for pred in predictions:\n",
    "            output = {'predictions': pred}\n",
    "            yield output\n",
    "        #return [{'predictions': out} for out in predictions]\n",
    "        \n",
    "    def input_spec(self):\n",
    "        specs = VAR_SPECS.copy()\n",
    "        specs.pop(VAR_TARGET, None) # remove the target being predicted\n",
    "        for s in specs:\n",
    "            specs[s] = lit_types.Scalar()\n",
    "        return specs\n",
    "    \n",
    "    def output_spec(self):\n",
    "        return {\n",
    "            'predictions': lit_types.MulticlassPreds(\n",
    "                parent = f'{VAR_TARGET}', vocab = VOCABS[VAR_TARGET]\n",
    "            )\n",
    "        }"
   ]
  },
  {
   "cell_type": "code",
   "execution_count": null,
   "id": "3de618af-a8d9-4f00-893b-34a374282c04",
   "metadata": {},
   "outputs": [],
   "source": []
  },
  {
   "cell_type": "code",
   "execution_count": null,
   "id": "e7882a87-9ece-4b02-9974-dd8ce67eef46",
   "metadata": {},
   "outputs": [],
   "source": []
  },
  {
   "cell_type": "code",
   "execution_count": null,
   "id": "a49e1683-7dfc-4b76-8d6b-723253546158",
   "metadata": {},
   "outputs": [],
   "source": []
  },
  {
   "cell_type": "code",
   "execution_count": 109,
   "id": "c6893767-0146-4554-8805-073fcccb43fa",
   "metadata": {},
   "outputs": [],
   "source": [
    "widget = notebook.LitWidget(\n",
    "    models = {'classification': FraudModel(endpoint)},\n",
    "    datasets = {'test': FraudDataset(test), 'val': FraudDataset(val)},\n",
    "    height = 800\n",
    ")"
   ]
  },
  {
   "cell_type": "code",
   "execution_count": null,
   "id": "8bbaf6be-45f5-4736-a37c-71374b0ae94d",
   "metadata": {},
   "outputs": [],
   "source": [
    "widget.render()"
   ]
  },
  {
   "cell_type": "code",
   "execution_count": null,
   "id": "4a572593-13fd-4a0d-88ad-544f0598fdb1",
   "metadata": {},
   "outputs": [],
   "source": []
  },
  {
   "cell_type": "code",
   "execution_count": null,
   "id": "e1b3bdf9-4342-4fca-9cc0-6e7c7f9b7be5",
   "metadata": {},
   "outputs": [],
   "source": []
  },
  {
   "cell_type": "code",
   "execution_count": null,
   "id": "b61547ee-7b37-49fc-a84d-01633b91aac3",
   "metadata": {},
   "outputs": [],
   "source": []
  },
  {
   "cell_type": "code",
   "execution_count": null,
   "id": "c264722d-0473-4756-9d7b-64f290a0ac62",
   "metadata": {},
   "outputs": [],
   "source": []
  },
  {
   "cell_type": "code",
   "execution_count": null,
   "id": "0c728f23-4525-4f45-abc4-ae28c905918f",
   "metadata": {},
   "outputs": [],
   "source": []
  },
  {
   "cell_type": "code",
   "execution_count": null,
   "id": "e524fe8e-6baf-4fec-ad3e-5204bb4bd3a5",
   "metadata": {},
   "outputs": [],
   "source": []
  },
  {
   "cell_type": "code",
   "execution_count": null,
   "id": "b23c061c-9304-4a5f-ad04-46bf01062ca2",
   "metadata": {},
   "outputs": [],
   "source": []
  },
  {
   "cell_type": "code",
   "execution_count": null,
   "id": "e43a16c7-0772-4af9-8360-2823bd0b586a",
   "metadata": {},
   "outputs": [],
   "source": []
  },
  {
   "cell_type": "code",
   "execution_count": null,
   "id": "3018e058-6291-425c-8de2-fa26cec2fc61",
   "metadata": {},
   "outputs": [],
   "source": []
  },
  {
   "cell_type": "code",
   "execution_count": null,
   "id": "35754463-1578-46fb-86dc-8da5e6ba7d15",
   "metadata": {},
   "outputs": [],
   "source": []
  },
  {
   "cell_type": "code",
   "execution_count": null,
   "id": "60199212-7bc6-4c3b-9110-a6222080c95f",
   "metadata": {},
   "outputs": [],
   "source": []
  },
  {
   "cell_type": "code",
   "execution_count": null,
   "id": "da267c6b-cbc3-4ba8-aa77-fa775295dff2",
   "metadata": {},
   "outputs": [],
   "source": []
  },
  {
   "cell_type": "code",
   "execution_count": null,
   "id": "a3b452c8-1e83-4204-8000-03a7181e7e5b",
   "metadata": {},
   "outputs": [],
   "source": [
    "    def max_minibatch_size(self):\n",
    "        return 1000"
   ]
  },
  {
   "cell_type": "code",
   "execution_count": null,
   "id": "04989b15-5ee8-4225-94b5-ceedcbbc3223",
   "metadata": {},
   "outputs": [],
   "source": []
  },
  {
   "cell_type": "markdown",
   "id": "7c8bf67a-8843-4e3c-afa1-678b9c4c2acf",
   "metadata": {},
   "source": [
    "Try 1: Dictionaries"
   ]
  },
  {
   "cell_type": "code",
   "execution_count": 101,
   "id": "f268ad40-7d3b-4117-a27e-04fd5ca27db3",
   "metadata": {},
   "outputs": [
    {
     "data": {
      "text/plain": [
       "{'Time': 148074,\n",
       " 'V1': -2.21921860215056,\n",
       " 'V2': 0.7278314111063922,\n",
       " 'V3': -5.45822994652182,\n",
       " 'V4': 5.92484984705884,\n",
       " 'V5': 3.9324638237634395,\n",
       " 'V6': -3.0859842366267003,\n",
       " 'V7': -1.67786998770016,\n",
       " 'V8': 0.865074610405235,\n",
       " 'V9': -3.1772602889458597,\n",
       " 'V10': -3.4192073840566404,\n",
       " 'V11': 3.6931739422441203,\n",
       " 'V12': -3.97843975507806,\n",
       " 'V13': -1.71859087457346,\n",
       " 'V14': -8.636297393652589,\n",
       " 'V15': -0.24296482145526502,\n",
       " 'V16': 1.17488417316765,\n",
       " 'V17': 2.13460635695284,\n",
       " 'V18': 2.59436483300614,\n",
       " 'V19': -1.25758897993879,\n",
       " 'V20': 0.9647718037347099,\n",
       " 'V21': 0.41747174595057,\n",
       " 'V22': -0.8173433840569749,\n",
       " 'V23': -0.0287524020141088,\n",
       " 'V24': 0.0257225108657227,\n",
       " 'V25': -0.8258353432218559,\n",
       " 'V26': -0.0130890304987416,\n",
       " 'V27': 0.413291188715315,\n",
       " 'V28': -0.131387346404896,\n",
       " 'Amount': 0.0,\n",
       " 'Class': 1}"
      ]
     },
     "execution_count": 101,
     "metadata": {},
     "output_type": "execute_result"
    }
   ],
   "source": [
    "newobs_dicts = test.to_dict(orient='records')\n",
    "newobs_dicts[0]"
   ]
  },
  {
   "cell_type": "code",
   "execution_count": 102,
   "id": "d1688448-dc09-41db-9454-6f37654444e0",
   "metadata": {},
   "outputs": [],
   "source": [
    "def remote_predictor_dicts(inputs):\n",
    "    if type(inputs) is dict: inputs = [inputs]\n",
    "    instances = [json_format.ParseDict({key:value for key, value in example.items() if key != VAR_TARGET}, Value()) for example in inputs]\n",
    "    predictions = endpoint.predict(instances=instances).predictions\n",
    "    return predictions"
   ]
  },
  {
   "cell_type": "code",
   "execution_count": 103,
   "id": "fdf8463e-2e20-4010-949a-5650d3ba4599",
   "metadata": {},
   "outputs": [],
   "source": [
    "temp = remote_predictor_dicts(newobs_dicts[0:2000])"
   ]
  },
  {
   "cell_type": "code",
   "execution_count": 104,
   "id": "c4de9dd1-8fce-4162-a2ad-dc04f5d6b4a6",
   "metadata": {},
   "outputs": [
    {
     "data": {
      "text/plain": [
       "{'Time': 148074,\n",
       " 'V1': -2.21921860215056,\n",
       " 'V2': 0.7278314111063922,\n",
       " 'V3': -5.45822994652182,\n",
       " 'V4': 5.92484984705884,\n",
       " 'V5': 3.9324638237634395,\n",
       " 'V6': -3.0859842366267003,\n",
       " 'V7': -1.67786998770016,\n",
       " 'V8': 0.865074610405235,\n",
       " 'V9': -3.1772602889458597,\n",
       " 'V10': -3.4192073840566404,\n",
       " 'V11': 3.6931739422441203,\n",
       " 'V12': -3.97843975507806,\n",
       " 'V13': -1.71859087457346,\n",
       " 'V14': -8.636297393652589,\n",
       " 'V15': -0.24296482145526502,\n",
       " 'V16': 1.17488417316765,\n",
       " 'V17': 2.13460635695284,\n",
       " 'V18': 2.59436483300614,\n",
       " 'V19': -1.25758897993879,\n",
       " 'V20': 0.9647718037347099,\n",
       " 'V21': 0.41747174595057,\n",
       " 'V22': -0.8173433840569749,\n",
       " 'V23': -0.0287524020141088,\n",
       " 'V24': 0.0257225108657227,\n",
       " 'V25': -0.8258353432218559,\n",
       " 'V26': -0.0130890304987416,\n",
       " 'V27': 0.413291188715315,\n",
       " 'V28': -0.131387346404896,\n",
       " 'Amount': 0.0,\n",
       " 'Class': 1}"
      ]
     },
     "execution_count": 104,
     "metadata": {},
     "output_type": "execute_result"
    }
   ],
   "source": [
    "newobs_dicts[0]"
   ]
  },
  {
   "cell_type": "code",
   "execution_count": 105,
   "id": "9604a525-8430-4eae-81ab-e2dd7aa012c7",
   "metadata": {},
   "outputs": [
    {
     "data": {
      "text/plain": [
       "2000"
      ]
     },
     "execution_count": 105,
     "metadata": {},
     "output_type": "execute_result"
    }
   ],
   "source": [
    "len(temp)"
   ]
  },
  {
   "cell_type": "code",
   "execution_count": 106,
   "id": "ae48bf59-7e0a-4e7e-bd2f-c3233a0b9d56",
   "metadata": {},
   "outputs": [
    {
     "data": {
      "text/plain": [
       "[0.00166472851, 0.998335302]"
      ]
     },
     "execution_count": 106,
     "metadata": {},
     "output_type": "execute_result"
    }
   ],
   "source": [
    "temp[0]"
   ]
  },
  {
   "cell_type": "code",
   "execution_count": null,
   "id": "7f4c503a-1873-4360-9e86-a94678ebd0a6",
   "metadata": {},
   "outputs": [],
   "source": []
  },
  {
   "cell_type": "code",
   "execution_count": null,
   "id": "86edbb32-bf60-4b6d-bf94-1ae1f438cd09",
   "metadata": {},
   "outputs": [],
   "source": []
  },
  {
   "cell_type": "code",
   "execution_count": null,
   "id": "bd2e381b-3ecf-40d3-81d2-9ce133a43075",
   "metadata": {},
   "outputs": [],
   "source": []
  },
  {
   "cell_type": "code",
   "execution_count": 50,
   "id": "8d3bd8f1-a5e4-48a8-a357-50cc43cf505e",
   "metadata": {},
   "outputs": [],
   "source": [
    "def remote_predictor_dicts(obs):\n",
    "    if type(obs) is dict: obs = [obs]\n",
    "    predictions = []\n",
    "    for ob in obs:\n",
    "        ob.pop(VAR_TARGET, None)\n",
    "        instances = [json_format.ParseDict(ob, Value())]\n",
    "        predictions.append(endpoint.predict(instances=instances).predictions[0])\n",
    "    return predictions"
   ]
  },
  {
   "cell_type": "code",
   "execution_count": 51,
   "id": "32178ae3-20c4-442f-aa01-2ca7165c2da7",
   "metadata": {},
   "outputs": [
    {
     "data": {
      "text/plain": [
       "[[0.00166473, 0.998335302], [0.0168009363, 0.98319906]]"
      ]
     },
     "execution_count": 51,
     "metadata": {},
     "output_type": "execute_result"
    }
   ],
   "source": [
    "remote_predictor_dicts(newobs_dicts[0:2])"
   ]
  },
  {
   "cell_type": "code",
   "execution_count": 52,
   "id": "96e93e0f-9b45-460f-a140-0aaba481b627",
   "metadata": {},
   "outputs": [
    {
     "data": {
      "text/plain": [
       "{'Time': 148074,\n",
       " 'V1': -2.21921860215056,\n",
       " 'V2': 0.7278314111063922,\n",
       " 'V3': -5.45822994652182,\n",
       " 'V4': 5.92484984705884,\n",
       " 'V5': 3.9324638237634395,\n",
       " 'V6': -3.0859842366267003,\n",
       " 'V7': -1.67786998770016,\n",
       " 'V8': 0.865074610405235,\n",
       " 'V9': -3.1772602889458597,\n",
       " 'V10': -3.4192073840566404,\n",
       " 'V11': 3.6931739422441203,\n",
       " 'V12': -3.97843975507806,\n",
       " 'V13': -1.71859087457346,\n",
       " 'V14': -8.636297393652589,\n",
       " 'V15': -0.24296482145526502,\n",
       " 'V16': 1.17488417316765,\n",
       " 'V17': 2.13460635695284,\n",
       " 'V18': 2.59436483300614,\n",
       " 'V19': -1.25758897993879,\n",
       " 'V20': 0.9647718037347099,\n",
       " 'V21': 0.41747174595057,\n",
       " 'V22': -0.8173433840569749,\n",
       " 'V23': -0.0287524020141088,\n",
       " 'V24': 0.0257225108657227,\n",
       " 'V25': -0.8258353432218559,\n",
       " 'V26': -0.0130890304987416,\n",
       " 'V27': 0.413291188715315,\n",
       " 'V28': -0.131387346404896,\n",
       " 'Amount': 0.0}"
      ]
     },
     "execution_count": 52,
     "metadata": {},
     "output_type": "execute_result"
    }
   ],
   "source": [
    "newobs_dicts[0]"
   ]
  },
  {
   "cell_type": "code",
   "execution_count": null,
   "id": "c4958ae4-00c8-4c10-92db-f43eabca6d30",
   "metadata": {},
   "outputs": [],
   "source": []
  },
  {
   "cell_type": "code",
   "execution_count": null,
   "id": "06f7f834-92b7-48e9-b492-1fc15e26dab8",
   "metadata": {},
   "outputs": [],
   "source": []
  },
  {
   "cell_type": "code",
   "execution_count": null,
   "id": "53de1545-74f9-4eb4-9233-13cd7a61e17d",
   "metadata": {},
   "outputs": [],
   "source": []
  },
  {
   "cell_type": "code",
   "execution_count": 45,
   "id": "2c9d43be-4d84-4236-8a7e-6700dbeb87da",
   "metadata": {},
   "outputs": [
    {
     "data": {
      "text/plain": [
       "{'Time': 148074,\n",
       " 'V1': -2.21921860215056,\n",
       " 'V2': 0.7278314111063922,\n",
       " 'V3': -5.45822994652182,\n",
       " 'V4': 5.92484984705884,\n",
       " 'V5': 3.9324638237634395,\n",
       " 'V6': -3.0859842366267003,\n",
       " 'V7': -1.67786998770016,\n",
       " 'V8': 0.865074610405235,\n",
       " 'V9': -3.1772602889458597,\n",
       " 'V10': -3.4192073840566404,\n",
       " 'V11': 3.6931739422441203,\n",
       " 'V12': -3.97843975507806,\n",
       " 'V13': -1.71859087457346,\n",
       " 'V14': -8.636297393652589,\n",
       " 'V15': -0.24296482145526502,\n",
       " 'V16': 1.17488417316765,\n",
       " 'V17': 2.13460635695284,\n",
       " 'V18': 2.59436483300614,\n",
       " 'V19': -1.25758897993879,\n",
       " 'V20': 0.9647718037347099,\n",
       " 'V21': 0.41747174595057,\n",
       " 'V22': -0.8173433840569749,\n",
       " 'V23': -0.0287524020141088,\n",
       " 'V24': 0.0257225108657227,\n",
       " 'V25': -0.8258353432218559,\n",
       " 'V26': -0.0130890304987416,\n",
       " 'V27': 0.413291188715315,\n",
       " 'V28': -0.131387346404896,\n",
       " 'Amount': 0.0,\n",
       " 'Class': 'Fraud'}"
      ]
     },
     "execution_count": 45,
     "metadata": {},
     "output_type": "execute_result"
    }
   ],
   "source": [
    "test_ds.examples[0]"
   ]
  },
  {
   "cell_type": "code",
   "execution_count": 48,
   "id": "7950f769-26d4-4d64-b8e4-48dabc2bb2b6",
   "metadata": {},
   "outputs": [
    {
     "data": {
      "text/plain": [
       "{'Time': 'int64',\n",
       " 'V1': 'float64',\n",
       " 'V2': 'float64',\n",
       " 'V3': 'float64',\n",
       " 'V4': 'float64',\n",
       " 'V5': 'float64',\n",
       " 'V6': 'float64',\n",
       " 'V7': 'float64',\n",
       " 'V8': 'float64',\n",
       " 'V9': 'float64',\n",
       " 'V10': 'float64',\n",
       " 'V11': 'float64',\n",
       " 'V12': 'float64',\n",
       " 'V13': 'float64',\n",
       " 'V14': 'float64',\n",
       " 'V15': 'float64',\n",
       " 'V16': 'float64',\n",
       " 'V17': 'float64',\n",
       " 'V18': 'float64',\n",
       " 'V19': 'float64',\n",
       " 'V20': 'float64',\n",
       " 'V21': 'float64',\n",
       " 'V22': 'float64',\n",
       " 'V23': 'float64',\n",
       " 'V24': 'float64',\n",
       " 'V25': 'float64',\n",
       " 'V26': 'float64',\n",
       " 'V27': 'float64',\n",
       " 'V28': 'float64',\n",
       " 'Amount': 'float64',\n",
       " 'Class': 'int64'}"
      ]
     },
     "execution_count": 48,
     "metadata": {},
     "output_type": "execute_result"
    }
   ],
   "source": [
    "VAR_SPECS"
   ]
  },
  {
   "cell_type": "code",
   "execution_count": null,
   "id": "dbc68faf-6b7e-459d-8651-ae9b21f11728",
   "metadata": {},
   "outputs": [],
   "source": []
  },
  {
   "cell_type": "code",
   "execution_count": 47,
   "id": "ee6e7df5-d2f3-44a0-8bea-c99e5873b45d",
   "metadata": {},
   "outputs": [
    {
     "data": {
      "text/plain": [
       "'int64'"
      ]
     },
     "execution_count": 47,
     "metadata": {},
     "output_type": "execute_result"
    }
   ],
   "source": [
    "specs = VAR_SPECS.copy()\n",
    "specs.pop(VAR_TARGET, None)"
   ]
  },
  {
   "cell_type": "code",
   "execution_count": null,
   "id": "5768a854-51fd-4748-9994-8e5bfd891d76",
   "metadata": {},
   "outputs": [],
   "source": []
  },
  {
   "cell_type": "code",
   "execution_count": null,
   "id": "779b3d6e-9be1-48d4-958c-36ab6eaa73ad",
   "metadata": {},
   "outputs": [],
   "source": []
  },
  {
   "cell_type": "code",
   "execution_count": null,
   "id": "8ee8c5f4-7fbd-4044-b70c-90129280c263",
   "metadata": {},
   "outputs": [],
   "source": []
  }
 ],
 "metadata": {
  "environment": {
   "kernel": "python3",
   "name": "tf2-gpu.2-3.m94",
   "type": "gcloud",
   "uri": "gcr.io/deeplearning-platform-release/tf2-gpu.2-3:m94"
  },
  "kernelspec": {
   "display_name": "Python 3",
   "language": "python",
   "name": "python3"
  },
  "language_info": {
   "codemirror_mode": {
    "name": "ipython",
    "version": 3
   },
   "file_extension": ".py",
   "mimetype": "text/x-python",
   "name": "python",
   "nbconvert_exporter": "python",
   "pygments_lexer": "ipython3",
   "version": "3.7.12"
  }
 },
 "nbformat": 4,
 "nbformat_minor": 5
}
